{
 "cells": [
  {
   "cell_type": "code",
   "execution_count": 1,
   "metadata": {},
   "outputs": [],
   "source": [
    "import os\n",
    "import sys\n",
    "import rootpath\n",
    "sys.path.append(rootpath.detect())\n",
    "\n",
    "from testsuite.utilities import Pareto_split\n",
    "from testsuite.analysis import load_all #, plot_all_pareto_2d, PLOT_STYLE, plot_measure\n",
    "from problem_setup import func, y, weighting, n_obj, n_dim\n",
    "\n",
    "import pickle\n",
    "import numpy as np\n",
    "import matplotlib\n",
    "import matplotlib.pyplot as plt"
   ]
  },
  {
   "cell_type": "code",
   "execution_count": 2,
   "metadata": {},
   "outputs": [],
   "source": [
    "from testsuite import optimisers\n",
    "from pymoo.factory import get_performance_indicator\n",
    "from scipy.spatial import distance_matrix\n",
    "from scipy.spatial.distance import cdist\n",
    "import inspect"
   ]
  },
  {
   "cell_type": "code",
   "execution_count": 3,
   "metadata": {},
   "outputs": [],
   "source": [
    "names = ['Mpoi', 'ParEgo', 'Saf_ei', 'Saf_$\\\\mu$', 'SmsEgo_ei', 'SmsEgo_$\\\\mu$', 'lhs']\n",
    "true_names = ['MPoI', 'ParEGO', 'SAF: ei', 'SAF: $\\mu$', 'SMS-EGO: ei', 'SMS-EGO: $\\mu$', 'LHS']\n",
    "D_names = {a:b for a, b in zip(names, true_names)}"
   ]
  },
  {
   "cell_type": "code",
   "execution_count": 4,
   "metadata": {},
   "outputs": [],
   "source": [
    "# establish up data paths\n",
    "try: \n",
    "    get_ipython().__class__.__name__\n",
    "    script_dir = os.path.dirname(os.path.realpath(__file__))\n",
    "except:\n",
    "     script_dir = './'\n",
    "results_dir = os.path.join(script_dir, \"log_data/\")\n",
    "result_dirs = sorted(os.listdir(results_dir))\n",
    "\n",
    "pkl_dir = os.path.join(script_dir, \"pkl_data/\")\n",
    "pkl_filename = pkl_dir+'results_new.pkl'\n",
    "if not os.path.isdir(pkl_dir):\n",
    "    os.makedirs(pkl_dir)"
   ]
  },
  {
   "cell_type": "code",
   "execution_count": 5,
   "metadata": {},
   "outputs": [],
   "source": [
    "OPTIMISER_NAMES = [cls[0].lower() for cls in inspect.getmembers(optimisers, inspect.isclass)\n",
    "        if cls[1].__module__ == 'testsuite.optimisers']"
   ]
  },
  {
   "cell_type": "code",
   "execution_count": 6,
   "metadata": {},
   "outputs": [],
   "source": [
    "def load_result(directory):\n",
    "    result = load_all(directory, trailing_text = \"_results.pkl\")\n",
    "    name = get_name_from_dir(directory)\n",
    "    result['name'] = name\n",
    "    return result"
   ]
  },
  {
   "cell_type": "code",
   "execution_count": 7,
   "metadata": {},
   "outputs": [],
   "source": [
    "def get_name_from_dir(dir_string):\n",
    "    bits = dir_string.split('_')\n",
    "    name = [bit for bit in bits if bit.lower() in OPTIMISER_NAMES]\n",
    "\n",
    "    if type(name) is list:\n",
    "        name = name[0]\n",
    "    if 'ei' in bits:\n",
    "        name+='_ei'\n",
    "    elif 'mean' in bits:\n",
    "        name+='_$\\mu$'\n",
    "    return name\n"
   ]
  },
  {
   "cell_type": "code",
   "execution_count": 8,
   "metadata": {},
   "outputs": [
    {
     "name": "stdout",
     "output_type": "stream",
     "text": [
      "results loaded from  ./pkl_data/\n",
      "Mpoi  found\n",
      "name changed Mpoi \t--->\tMPoI\n",
      "ParEgo  found\n",
      "name changed ParEgo \t--->\tParEGO\n",
      "Saf_ei  found\n",
      "name changed Saf_ei \t--->\tSAF: ei\n",
      "Saf_$\\mu$  found\n",
      "name changed Saf_$\\mu$ \t--->\tSAF: $\\mu$\n",
      "SmsEgo_ei  found\n",
      "name changed SmsEgo_ei \t--->\tSMS-EGO: ei\n",
      "SmsEgo_$\\mu$  found\n",
      "name changed SmsEgo_$\\mu$ \t--->\tSMS-EGO: $\\mu$\n",
      "lhs  found\n",
      "name changed lhs \t--->\tLHS\n"
     ]
    }
   ],
   "source": [
    "try:\n",
    "    with open(pkl_filename,'rb') as infile:\n",
    "        results = pickle.load(infile)\n",
    "    print(\"results loaded from \", pkl_dir)\n",
    "except FileNotFoundError:\n",
    "    print(\"Failed to find results file in {}\".format(pkl_filename))\n",
    "    print(\"Results processing should be done first by running results_processing.py\")\n",
    "    \n",
    "# assert len(results.keys()) == 7, \"Not all optimisers present\"\n",
    "for key, value in results.items():\n",
    "    print(key, \" found\")\n",
    "    assert len(value['hypervolume']) == 31, \\\n",
    "    \"not all hypervolumes for 31 repeats present for {}. Instead {} found.\".format(key, len(value['hypervolume']))\n",
    "    assert len(value['igd+']) == 31, \\\n",
    "    \"not all igd+ for 31 repeats present for {}. Instead {} found.\".format(key, len(value['hypervolume']))\n",
    "    old_name = value['name']\n",
    "    new_name = D_names[old_name]\n",
    "    results[key]['name'] = new_name \n",
    "    print(\"name changed {} \\t--->\\t{}\".format(old_name, new_name))"
   ]
  },
  {
   "cell_type": "code",
   "execution_count": 12,
   "metadata": {},
   "outputs": [
    {
     "data": {
      "text/plain": [
       "(11, 250, 3)"
      ]
     },
     "execution_count": 12,
     "metadata": {},
     "output_type": "execute_result"
    }
   ],
   "source": [
    "new_r_dir = './log_data/'+os.getcwd().split(\"/\")[-1].split(\"_\")[0].upper()+'_SmsEgo_init10_MultiSurrogate/'\n",
    "new_result = load_result(new_r_dir)\n",
    "new_result['name'] = 'SmsEgo_new'\n",
    "np.shape(new_result['y'])"
   ]
  },
  {
   "cell_type": "code",
   "execution_count": 13,
   "metadata": {},
   "outputs": [
    {
     "data": {
      "text/plain": [
       "(31, 250, 3)"
      ]
     },
     "execution_count": 13,
     "metadata": {},
     "output_type": "execute_result"
    }
   ],
   "source": [
    "old_r_dir = './log_data/'+os.getcwd().split(\"/\")[-1].split(\"_\")[0].upper()+'_SmsEgo_init10_MultiSurrogate_ei/'\n",
    "old_result = load_result(old_r_dir)\n",
    "old_result['name'] = 'SmsEgo_old'\n",
    "np.shape(old_result['y'])"
   ]
  },
  {
   "cell_type": "code",
   "execution_count": 14,
   "metadata": {},
   "outputs": [
    {
     "data": {
      "text/plain": [
       "(31, 250, 3)"
      ]
     },
     "execution_count": 14,
     "metadata": {},
     "output_type": "execute_result"
    }
   ],
   "source": [
    "saf_r_dir = './log_data/'+os.getcwd().split(\"/\")[-1].split(\"_\")[0].upper()+'_Saf_init10_MultiSurrogate_mean/'\n",
    "saf_result = load_result(saf_r_dir)\n",
    "saf_result['name'] = 'SAF_mu'\n",
    "np.shape(saf_result['y'])"
   ]
  },
  {
   "cell_type": "code",
   "execution_count": 15,
   "metadata": {},
   "outputs": [
    {
     "data": {
      "text/plain": [
       "array([2.68732459, 4.53273484, 6.8510316 ])"
      ]
     },
     "execution_count": 15,
     "metadata": {},
     "output_type": "execute_result"
    }
   ],
   "source": [
    "ref_point = np.vstack((saf_result['y'], old_result['y'], new_result['y'])).reshape(-1,np.shape(new_result['y'])[-1]).max(axis=0)\n",
    "ref_point"
   ]
  },
  {
   "cell_type": "code",
   "execution_count": 16,
   "metadata": {},
   "outputs": [],
   "source": [
    "p = np.load('/home/finley/phd/code/testsuite/experiments/igd_refpoints/data/wfg_elipse_3d_refpoints')\n",
    "\n",
    "# set up ypervolume measure\n",
    "\n",
    "# ref_point = np.round(p.max(axis=0), 1)*2\n",
    "\n",
    "# setup measurement systems\n",
    "hv_measure = get_performance_indicator(\"hv\", ref_point=ref_point)\n",
    "igdp_measure = get_performance_indicator(\"igd+\", p)"
   ]
  },
  {
   "cell_type": "code",
   "execution_count": 17,
   "metadata": {},
   "outputs": [],
   "source": [
    "from tqdm import tqdm\n",
    "def extract_performance(y, indicator):\n",
    "    performance = []\n",
    "    for i in tqdm(range(9, len(y))):\n",
    "        p = Pareto_split(y[:i])[0]\n",
    "        ans = indicator.calc(p)\n",
    "        performance.append(ans)\n",
    "    return performance"
   ]
  },
  {
   "cell_type": "code",
   "execution_count": 18,
   "metadata": {},
   "outputs": [
    {
     "name": "stderr",
     "output_type": "stream",
     "text": [
      "  4%|▎         | 9/250 [00:00<00:02, 85.90it/s]"
     ]
    },
    {
     "name": "stdout",
     "output_type": "stream",
     "text": [
      "\n",
      "Compiled modules for significant speedup can not be used!\n",
      "https://pymoo.org/installation.html#installation\n",
      "\n",
      "To disable this warning:\n",
      "from pymoo.configuration import Configuration\n",
      "Configuration.show_compile_hint = False\n",
      "\n"
     ]
    },
    {
     "name": "stderr",
     "output_type": "stream",
     "text": [
      "100%|██████████| 250/250 [00:49<00:00,  5.05it/s]\n",
      "100%|██████████| 250/250 [00:45<00:00,  5.47it/s]\n",
      "100%|██████████| 250/250 [00:46<00:00,  5.38it/s]\n",
      "100%|██████████| 250/250 [00:46<00:00,  5.40it/s]\n",
      "100%|██████████| 250/250 [00:41<00:00,  6.04it/s]\n",
      "100%|██████████| 250/250 [00:35<00:00,  6.98it/s]\n",
      "100%|██████████| 250/250 [00:40<00:00,  6.15it/s]\n",
      "100%|██████████| 250/250 [00:38<00:00,  6.48it/s]\n",
      "100%|██████████| 250/250 [00:41<00:00,  5.98it/s]\n",
      "100%|██████████| 250/250 [00:34<00:00,  7.15it/s]\n",
      "100%|██████████| 250/250 [00:35<00:00,  7.14it/s]\n"
     ]
    }
   ],
   "source": [
    "y = np.array(new_result['y'])\n",
    "hvs = np.zeros((y.shape[0], y.shape[1]))\n",
    "igdps = np.zeros((y.shape[0], y.shape[1]))\n",
    "for i, yi in enumerate(y):\n",
    "    for j in tqdm(range(1, y.shape[1]+1)):\n",
    "        hvs[i, j-1] = hv_measure.calc(yi[:j])\n",
    "        igdps[i, j-1] = igdp_measure.calc(yi[:j])\n",
    "\n",
    "new_result['hypervolume'] =  hvs\n",
    "new_result['igd+'] = igdps"
   ]
  },
  {
   "cell_type": "code",
   "execution_count": 19,
   "metadata": {},
   "outputs": [
    {
     "name": "stderr",
     "output_type": "stream",
     "text": [
      "100%|██████████| 250/250 [00:35<00:00,  7.14it/s]\n",
      "100%|██████████| 250/250 [00:34<00:00,  7.20it/s]\n",
      "100%|██████████| 250/250 [00:34<00:00,  7.24it/s]\n",
      "100%|██████████| 250/250 [00:34<00:00,  7.21it/s]\n",
      "100%|██████████| 250/250 [00:35<00:00,  7.11it/s]\n",
      "100%|██████████| 250/250 [00:35<00:00,  7.13it/s]\n",
      "100%|██████████| 250/250 [00:35<00:00,  7.13it/s]\n",
      "100%|██████████| 250/250 [00:35<00:00,  7.09it/s]\n",
      "100%|██████████| 250/250 [00:35<00:00,  7.13it/s]\n",
      "100%|██████████| 250/250 [00:35<00:00,  7.08it/s]\n",
      "100%|██████████| 250/250 [00:35<00:00,  7.10it/s]\n"
     ]
    }
   ],
   "source": [
    "y = np.array(old_result['y'][:11])\n",
    "hvs = np.zeros((y.shape[0], y.shape[1]))\n",
    "igdps = np.zeros((y.shape[0], y.shape[1]))\n",
    "for i, yi in enumerate(y):\n",
    "    for j in tqdm(range(1, y.shape[1]+1)):\n",
    "        hvs[i, j-1] = hv_measure.calc(yi[:j])\n",
    "        igdps[i, j-1] = igdp_measure.calc(yi[:j])\n",
    "\n",
    "old_result['hypervolume'] =  hvs\n",
    "old_result['igd+'] = igdps"
   ]
  },
  {
   "cell_type": "code",
   "execution_count": 20,
   "metadata": {},
   "outputs": [
    {
     "name": "stderr",
     "output_type": "stream",
     "text": [
      "100%|██████████| 250/250 [00:34<00:00,  7.18it/s]\n",
      "100%|██████████| 250/250 [00:34<00:00,  7.15it/s]\n",
      "100%|██████████| 250/250 [00:34<00:00,  7.17it/s]\n",
      "100%|██████████| 250/250 [00:35<00:00,  7.02it/s]\n",
      "100%|██████████| 250/250 [00:34<00:00,  7.17it/s]\n",
      "100%|██████████| 250/250 [00:34<00:00,  7.18it/s]\n",
      "100%|██████████| 250/250 [00:34<00:00,  7.18it/s]\n",
      "100%|██████████| 250/250 [00:34<00:00,  7.24it/s]\n",
      "100%|██████████| 250/250 [00:34<00:00,  7.17it/s]\n",
      "100%|██████████| 250/250 [00:34<00:00,  7.19it/s]\n",
      "100%|██████████| 250/250 [00:34<00:00,  7.20it/s]\n"
     ]
    }
   ],
   "source": [
    "y = np.array(saf_result['y'][:11])\n",
    "hvs = np.zeros((y.shape[0], y.shape[1]))\n",
    "igdps = np.zeros((y.shape[0], y.shape[1]))\n",
    "for i, yi in enumerate(y):\n",
    "    for j in tqdm(range(1, y.shape[1]+1)):\n",
    "        hvs[i, j-1] = hv_measure.calc(yi[:j])\n",
    "        igdps[i, j-1] = igdp_measure.calc(yi[:j])\n",
    "\n",
    "saf_result['hypervolume'] =  hvs\n",
    "saf_result['igd+'] = igdps"
   ]
  },
  {
   "cell_type": "code",
   "execution_count": 21,
   "metadata": {},
   "outputs": [
    {
     "name": "stdout",
     "output_type": "stream",
     "text": [
      "(11, 250)\n",
      "(11, 250)\n",
      "(11, 250)\n"
     ]
    }
   ],
   "source": [
    "print(old_result['hypervolume'].shape)\n",
    "print(saf_result['hypervolume'].shape)\n",
    "print(new_result['hypervolume'].shape)"
   ]
  },
  {
   "cell_type": "code",
   "execution_count": 22,
   "metadata": {},
   "outputs": [],
   "source": [
    "phv = hv_measure.calc(p[::5])"
   ]
  },
  {
   "cell_type": "code",
   "execution_count": 23,
   "metadata": {},
   "outputs": [
    {
     "data": {
      "text/plain": [
       "<matplotlib.legend.Legend at 0x7fdbaf354c70>"
      ]
     },
     "execution_count": 23,
     "metadata": {},
     "output_type": "execute_result"
    },
    {
     "data": {
      "image/png": "[encoded data removed]",
      "text/plain": [
       "<Figure size 432x288 with 1 Axes>"
      ]
     },
     "metadata": {
      "needs_background": "light"
     },
     "output_type": "display_data"
    }
   ],
   "source": [
    "plt.figure()\n",
    "plt.title(\"hypervolume\")\n",
    "plt.plot(range(0, 250), np.median(old_result['hypervolume'][:11], axis=0), c=\"C0\", label=\"SMS-EGO: old\") \n",
    "plt.fill_between(range(0, 250), np.percentile(old_result['hypervolume'][:11], 25, axis=0), np.percentile(old_result['hypervolume'][:11], 75, axis=0), color=\"C0\", alpha=0.2)\n",
    "\n",
    "plt.plot(range(0, 250), np.median(new_result['hypervolume'], axis=0), c=\"C3\", label=\"SMS-EGO: new\")  \n",
    "plt.fill_between(range(0, 250), np.percentile(new_result['hypervolume'][:11], 25, axis=0), np.percentile(new_result['hypervolume'][:11], 75, axis=0), color=\"C3\", alpha=0.2)\n",
    "\n",
    "plt.plot(range(0, 250), np.median(saf_result['hypervolume'][:11], axis=0), c=\"C2\", label=\"SAF$_\\mu$\")   \n",
    "plt.fill_between(range(0, 250), np.percentile(saf_result['hypervolume'][:11], 25, axis=0), np.percentile(saf_result['hypervolume'][:11], 75, axis=0), color=\"C2\", alpha=0.2)\n",
    "\n",
    "plt.gca().axhline(phv, c=\"k\", linestyle=\"--\", label=\"Hypervolume limit\")\n",
    "plt.legend()"
   ]
  },
  {
   "cell_type": "code",
   "execution_count": 24,
   "metadata": {},
   "outputs": [
    {
     "data": {
      "text/plain": [
       "<matplotlib.legend.Legend at 0x7fdbaf4f2670>"
      ]
     },
     "execution_count": 24,
     "metadata": {},
     "output_type": "execute_result"
    },
    {
     "data": {
      "image/png": "[encoded data removed]",
      "text/plain": [
       "<Figure size 432x288 with 1 Axes>"
      ]
     },
     "metadata": {
      "needs_background": "light"
     },
     "output_type": "display_data"
    }
   ],
   "source": [
    "plt.figure()\n",
    "plt.title(\"igd+\")\n",
    "plt.plot(range(0, 250), np.median(old_result['igd+'][:11], axis=0), c=\"C0\", label=\"SMS-EGO: old\") \n",
    "plt.fill_between(range(0, 250), np.percentile(old_result['igd+'][:11], 25, axis=0), np.percentile(old_result['igd+'][:11], 75, axis=0), color=\"C0\", alpha=0.2)\n",
    "\n",
    "plt.plot(range(0, 250), np.median(new_result['igd+'], axis=0), c=\"C3\", label=\"SMS-EGO: new\")  \n",
    "plt.fill_between(range(0, 250), np.percentile(new_result['igd+'][:11], 25, axis=0), np.percentile(new_result['igd+'][:11], 75, axis=0), color=\"C3\", alpha=0.2)\n",
    "\n",
    "plt.plot(range(0, 250), np.median(saf_result['igd+'][:11], axis=0), c=\"C2\", label=\"SAF$_\\mu$\")   \n",
    "plt.fill_between(range(0, 250), np.percentile(saf_result['igd+'][:11], 25, axis=0), np.percentile(saf_result['igd+'][:11], 75, axis=0), color=\"C2\", alpha=0.2)\n",
    "plt.legend()"
   ]
  },
  {
   "cell_type": "code",
   "execution_count": 62,
   "metadata": {},
   "outputs": [
    {
     "data": {
      "text/plain": [
       "<mpl_toolkits.mplot3d.art3d.Path3DCollection at 0x7f6de86dda90>"
      ]
     },
     "execution_count": 62,
     "metadata": {},
     "output_type": "execute_result"
    }
   ],
   "source": [
    "%matplotlib qt\n",
    "fig = plt.figure(figsize=[10, 10])\n",
    "ax = fig.gca(projection=\"3d\")\n",
    "ax.scatter(*p[::10].T, c=\"C3\")"
   ]
  },
  {
   "cell_type": "code",
   "execution_count": null,
   "metadata": {},
   "outputs": [],
   "source": []
  }
 ],
 "metadata": {
  "kernelspec": {
   "display_name": "testsuite",
   "language": "python",
   "name": "testsuite"
  },
  "language_info": {
   "codemirror_mode": {
    "name": "ipython",
    "version": 3
   },
   "file_extension": ".py",
   "mimetype": "text/x-python",
   "name": "python",
   "nbconvert_exporter": "python",
   "pygments_lexer": "ipython3",
   "version": "3.8.3"
  }
 },
 "nbformat": 4,
 "nbformat_minor": 4
}
