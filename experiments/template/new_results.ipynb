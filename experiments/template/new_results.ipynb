{
 "cells": [
  {
   "cell_type": "code",
   "execution_count": 1,
   "metadata": {},
   "outputs": [],
   "source": [
    "import os\n",
    "import sys\n",
    "import rootpath\n",
    "sys.path.append(rootpath.detect())\n",
    "\n",
    "from testsuite.utilities import Pareto_split\n",
    "from testsuite.analysis import load_all #, plot_all_pareto_2d, PLOT_STYLE, plot_measure\n",
    "from problem_setup import func, y, weighting, n_obj, n_dim\n",
    "\n",
    "import pickle\n",
    "import numpy as np\n",
    "import matplotlib\n",
    "import matplotlib.pyplot as plt"
   ]
  },
  {
   "cell_type": "code",
   "execution_count": 2,
   "metadata": {},
   "outputs": [],
   "source": [
    "from testsuite import optimisers\n",
    "from pymoo.factory import get_performance_indicator\n",
    "from scipy.spatial import distance_matrix\n",
    "from scipy.spatial.distance import cdist\n",
    "import inspect"
   ]
  },
  {
   "cell_type": "code",
   "execution_count": 3,
   "metadata": {},
   "outputs": [],
   "source": [
    "names = ['Mpoi', 'ParEgo', 'Saf_ei', 'Saf_$\\\\mu$', 'SmsEgo_ei', 'SmsEgo_$\\\\mu$', 'lhs']\n",
    "true_names = ['MPoI', 'ParEGO', 'SAF: ei', 'SAF: $\\mu$', 'SMS-EGO: ei', 'SMS-EGO: $\\mu$', 'LHS']\n",
    "D_names = {a:b for a, b in zip(names, true_names)}"
   ]
  },
  {
   "cell_type": "code",
   "execution_count": 4,
   "metadata": {},
   "outputs": [],
   "source": [
    "# establish up data paths\n",
    "try: \n",
    "    get_ipython().__class__.__name__\n",
    "    script_dir = os.path.dirname(os.path.realpath(__file__))\n",
    "except:\n",
    "     script_dir = './'\n",
    "results_dir = os.path.join(script_dir, \"log_data/\")\n",
    "result_dirs = sorted(os.listdir(results_dir))\n",
    "\n",
    "pkl_dir = os.path.join(script_dir, \"pkl_data/\")\n",
    "pkl_filename = pkl_dir+'results_new.pkl'\n",
    "if not os.path.isdir(pkl_dir):\n",
    "    os.makedirs(pkl_dir)"
   ]
  },
  {
   "cell_type": "code",
   "execution_count": 5,
   "metadata": {},
   "outputs": [],
   "source": [
    "OPTIMISER_NAMES = [cls[0].lower() for cls in inspect.getmembers(optimisers, inspect.isclass)\n",
    "        if cls[1].__module__ == 'testsuite.optimisers']"
   ]
  },
  {
   "cell_type": "code",
   "execution_count": 6,
   "metadata": {},
   "outputs": [],
   "source": [
    "def load_result(directory):\n",
    "    result = load_all(directory, trailing_text = \"_results.pkl\")\n",
    "    name = get_name_from_dir(directory)\n",
    "    result['name'] = name\n",
    "    return result"
   ]
  },
  {
   "cell_type": "code",
   "execution_count": 7,
   "metadata": {},
   "outputs": [],
   "source": [
    "def get_name_from_dir(dir_string):\n",
    "    bits = dir_string.split('_')\n",
    "    name = [bit for bit in bits if bit.lower() in OPTIMISER_NAMES]\n",
    "\n",
    "    if type(name) is list:\n",
    "        name = name[0]\n",
    "    if 'ei' in bits:\n",
    "        name+='_ei'\n",
    "    elif 'mean' in bits:\n",
    "        name+='_$\\mu$'\n",
    "    return name\n"
   ]
  },
  {
   "cell_type": "code",
   "execution_count": 8,
   "metadata": {},
   "outputs": [
    {
     "name": "stdout",
     "output_type": "stream",
     "text": [
      "results loaded from  ./pkl_data/\n",
      "Mpoi  found\n",
      "name changed Mpoi \t--->\tMPoI\n",
      "ParEgo  found\n",
      "name changed ParEgo \t--->\tParEGO\n",
      "Saf_ei  found\n",
      "name changed Saf_ei \t--->\tSAF: ei\n",
      "Saf_$\\mu$  found\n",
      "name changed Saf_$\\mu$ \t--->\tSAF: $\\mu$\n",
      "SmsEgo_ei  found\n",
      "name changed SmsEgo_ei \t--->\tSMS-EGO: ei\n",
      "SmsEgo_$\\mu$  found\n",
      "name changed SmsEgo_$\\mu$ \t--->\tSMS-EGO: $\\mu$\n",
      "lhs  found\n",
      "name changed lhs \t--->\tLHS\n"
     ]
    }
   ],
   "source": [
    "try:\n",
    "    with open(pkl_filename,'rb') as infile:\n",
    "        results = pickle.load(infile)\n",
    "    print(\"results loaded from \", pkl_dir)\n",
    "except FileNotFoundError:\n",
    "    print(\"Failed to find results file in {}\".format(pkl_filename))\n",
    "    print(\"Results processing should be done first by running results_processing.py\")\n",
    "    \n",
    "# assert len(results.keys()) == 7, \"Not all optimisers present\"\n",
    "for key, value in results.items():\n",
    "    print(key, \" found\")\n",
    "    assert len(value['hypervolume']) == 31, \\\n",
    "    \"not all hypervolumes for 31 repeats present for {}. Instead {} found.\".format(key, len(value['hypervolume']))\n",
    "    assert len(value['igd+']) == 31, \\\n",
    "    \"not all igd+ for 31 repeats present for {}. Instead {} found.\".format(key, len(value['hypervolume']))\n",
    "    old_name = value['name']\n",
    "    new_name = D_names[old_name]\n",
    "    results[key]['name'] = new_name \n",
    "    print(\"name changed {} \\t--->\\t{}\".format(old_name, new_name))"
   ]
  },
  {
   "cell_type": "code",
   "execution_count": 10,
   "metadata": {},
   "outputs": [
    {
     "name": "stdout",
     "output_type": "stream",
     "text": [
      "./log_data/WFG1_SmsEgo_init10_MultiSurrogate/\n"
     ]
    },
    {
     "data": {
      "text/plain": [
       "(21, 250, 2)"
      ]
     },
     "execution_count": 10,
     "metadata": {},
     "output_type": "execute_result"
    }
   ],
   "source": [
    "new_r_dir = './log_data/'+os.getcwd().split(\"/\")[-1].split(\"_\")[0].upper()+'_SmsEgo_init10_MultiSurrogate/'\n",
    "new_result = load_result(new_r_dir)\n",
    "new_result['name'] = 'SmsEgo_new'\n",
    "print(new_r_dir)\n",
    "np.shape(new_result['y'])"
   ]
  },
  {
   "cell_type": "code",
   "execution_count": 11,
   "metadata": {},
   "outputs": [
    {
     "name": "stdout",
     "output_type": "stream",
     "text": [
      "./log_data/WFG1_SmsEgo_init10_MultiSurrogate_ei/\n"
     ]
    },
    {
     "data": {
      "text/plain": [
       "(31, 250, 2)"
      ]
     },
     "execution_count": 11,
     "metadata": {},
     "output_type": "execute_result"
    }
   ],
   "source": [
    "old_r_dir = './log_data/'+os.getcwd().split(\"/\")[-1].split(\"_\")[0].upper()+'_SmsEgo_init10_MultiSurrogate_ei/'\n",
    "old_result = load_result(old_r_dir)\n",
    "old_result['name'] = 'SmsEgo_old'\n",
    "print(old_r_dir)\n",
    "np.shape(old_result['y'])"
   ]
  },
  {
   "cell_type": "code",
   "execution_count": 12,
   "metadata": {},
   "outputs": [
    {
     "data": {
      "text/plain": [
       "(31, 250, 2)"
      ]
     },
     "execution_count": 12,
     "metadata": {},
     "output_type": "execute_result"
    }
   ],
   "source": [
    "saf_r_dir = './log_data/'+os.getcwd().split(\"/\")[-1].split(\"_\")[0].upper()+'_Saf_init10_MultiSurrogate_mean/'\n",
    "saf_result = load_result(saf_r_dir)\n",
    "saf_result['name'] = 'SAF_mu'\n",
    "np.shape(saf_result['y'])"
   ]
  },
  {
   "cell_type": "code",
   "execution_count": 13,
   "metadata": {},
   "outputs": [
    {
     "data": {
      "text/plain": [
       "(31, 250, 2)"
      ]
     },
     "execution_count": 13,
     "metadata": {},
     "output_type": "execute_result"
    }
   ],
   "source": [
    "parego_r_dir = './log_data/'+os.getcwd().split(\"/\")[-1].split(\"_\")[0].upper()+'_ParEgo_init10/'\n",
    "parego_result = load_result(parego_r_dir)\n",
    "parego_result['name'] = 'ParEgo_mu'\n",
    "np.shape(parego_result['y'])"
   ]
  },
  {
   "cell_type": "code",
   "execution_count": 14,
   "metadata": {},
   "outputs": [
    {
     "data": {
      "text/plain": [
       "array([3.        , 3.42544063])"
      ]
     },
     "execution_count": 14,
     "metadata": {},
     "output_type": "execute_result"
    }
   ],
   "source": [
    "ref_point = np.vstack((saf_result['y'], old_result['y'], new_result['y'])).reshape(-1,np.shape(new_result['y'])[-1]).max(axis=0)\n",
    "ref_point"
   ]
  },
  {
   "cell_type": "code",
   "execution_count": 15,
   "metadata": {},
   "outputs": [],
   "source": [
    "p = np.load('/home/finley/phd/code/testsuite/experiments/igd_refpoints/data/wfg1_2obj_3dim_refpoints')\n",
    "\n",
    "# set up ypervolume measure\n",
    "\n",
    "# ref_point = np.round(p.max(axis=0), 1)*2\n",
    "\n",
    "# setup measurement systems\n",
    "hv_measure = get_performance_indicator(\"hv\", ref_point=ref_point)\n",
    "igdp_measure = get_performance_indicator(\"igd+\", p)"
   ]
  },
  {
   "cell_type": "code",
   "execution_count": 16,
   "metadata": {},
   "outputs": [],
   "source": [
    "from tqdm import tqdm\n",
    "def extract_performance(y, indicator):\n",
    "    performance = []\n",
    "    for i in tqdm(range(9, len(y))):\n",
    "        p = Pareto_split(y[:i])[0]\n",
    "        ans = indicator.calc(p)\n",
    "        performance.append(ans)\n",
    "    return performance"
   ]
  },
  {
   "cell_type": "code",
   "execution_count": 17,
   "metadata": {},
   "outputs": [
    {
     "name": "stderr",
     "output_type": "stream",
     "text": [
      "  8%|▊         | 19/250 [00:00<00:01, 175.42it/s]"
     ]
    },
    {
     "name": "stdout",
     "output_type": "stream",
     "text": [
      "\n",
      "Compiled modules for significant speedup can not be used!\n",
      "https://pymoo.org/installation.html#installation\n",
      "\n",
      "To disable this warning:\n",
      "from pymoo.configuration import Configuration\n",
      "Configuration.show_compile_hint = False\n",
      "\n"
     ]
    },
    {
     "name": "stderr",
     "output_type": "stream",
     "text": [
      "100%|██████████| 250/250 [00:16<00:00, 15.48it/s]\n",
      "100%|██████████| 250/250 [00:14<00:00, 17.07it/s]\n",
      "100%|██████████| 250/250 [00:14<00:00, 17.46it/s]\n",
      "100%|██████████| 250/250 [00:14<00:00, 17.23it/s]\n",
      "100%|██████████| 250/250 [00:14<00:00, 17.37it/s]\n",
      "100%|██████████| 250/250 [00:14<00:00, 17.15it/s]\n",
      "100%|██████████| 250/250 [00:14<00:00, 17.42it/s]\n",
      "100%|██████████| 250/250 [00:14<00:00, 17.84it/s]\n",
      "100%|██████████| 250/250 [00:14<00:00, 17.28it/s]\n",
      "100%|██████████| 250/250 [00:15<00:00, 15.82it/s]\n",
      "100%|██████████| 250/250 [00:14<00:00, 17.41it/s]\n",
      "100%|██████████| 250/250 [00:14<00:00, 17.08it/s]\n",
      "100%|██████████| 250/250 [00:14<00:00, 17.66it/s]\n",
      "100%|██████████| 250/250 [00:14<00:00, 17.10it/s]\n",
      "100%|██████████| 250/250 [00:14<00:00, 17.72it/s]\n",
      "100%|██████████| 250/250 [00:14<00:00, 17.07it/s]\n",
      "100%|██████████| 250/250 [00:14<00:00, 16.99it/s]\n",
      "100%|██████████| 250/250 [00:15<00:00, 16.53it/s]\n",
      "100%|██████████| 250/250 [00:14<00:00, 17.51it/s]\n",
      "100%|██████████| 250/250 [00:13<00:00, 17.88it/s]\n",
      "100%|██████████| 250/250 [00:14<00:00, 17.47it/s]\n"
     ]
    }
   ],
   "source": [
    "y = np.array(new_result['y'])\n",
    "hvs = np.zeros((y.shape[0], y.shape[1]))\n",
    "igdps = np.zeros((y.shape[0], y.shape[1]))\n",
    "for i, yi in enumerate(y):\n",
    "    for j in tqdm(range(1, y.shape[1]+1)):\n",
    "        hvs[i, j-1] = hv_measure.calc(yi[:j])\n",
    "        igdps[i, j-1] = igdp_measure.calc(yi[:j])\n",
    "\n",
    "new_result['hypervolume'] =  hvs\n",
    "new_result['igd+'] = igdps"
   ]
  },
  {
   "cell_type": "code",
   "execution_count": 18,
   "metadata": {},
   "outputs": [
    {
     "name": "stderr",
     "output_type": "stream",
     "text": [
      "100%|██████████| 250/250 [00:14<00:00, 17.29it/s]\n",
      "100%|██████████| 250/250 [00:14<00:00, 17.42it/s]\n",
      "100%|██████████| 250/250 [00:14<00:00, 17.60it/s]\n",
      "100%|██████████| 250/250 [00:14<00:00, 17.52it/s]\n",
      "100%|██████████| 250/250 [00:16<00:00, 15.44it/s]\n",
      "100%|██████████| 250/250 [00:14<00:00, 17.35it/s]\n",
      "100%|██████████| 250/250 [00:14<00:00, 17.27it/s]\n",
      "100%|██████████| 250/250 [00:14<00:00, 17.31it/s]\n",
      "100%|██████████| 250/250 [00:14<00:00, 16.98it/s]\n",
      "100%|██████████| 250/250 [00:14<00:00, 17.19it/s]\n",
      "100%|██████████| 250/250 [00:14<00:00, 17.20it/s]\n",
      "100%|██████████| 250/250 [00:14<00:00, 17.40it/s]\n",
      "100%|██████████| 250/250 [00:14<00:00, 16.95it/s]\n",
      "100%|██████████| 250/250 [00:14<00:00, 16.83it/s]\n",
      "100%|██████████| 250/250 [00:14<00:00, 17.32it/s]\n",
      "100%|██████████| 250/250 [00:14<00:00, 17.13it/s]\n",
      "100%|██████████| 250/250 [00:14<00:00, 17.45it/s]\n",
      "100%|██████████| 250/250 [00:14<00:00, 16.82it/s]\n",
      "100%|██████████| 250/250 [00:14<00:00, 17.14it/s]\n",
      "100%|██████████| 250/250 [00:14<00:00, 17.07it/s]\n",
      "100%|██████████| 250/250 [00:14<00:00, 17.47it/s]\n"
     ]
    }
   ],
   "source": [
    "y = np.array(old_result['y'][:21])\n",
    "hvs = np.zeros((y.shape[0], y.shape[1]))\n",
    "igdps = np.zeros((y.shape[0], y.shape[1]))\n",
    "for i, yi in enumerate(y):\n",
    "    for j in tqdm(range(1, y.shape[1]+1)):\n",
    "        hvs[i, j-1] = hv_measure.calc(yi[:j])\n",
    "        igdps[i, j-1] = igdp_measure.calc(yi[:j])\n",
    "\n",
    "old_result['hypervolume'] =  hvs\n",
    "old_result['igd+'] = igdps"
   ]
  },
  {
   "cell_type": "code",
   "execution_count": 19,
   "metadata": {},
   "outputs": [
    {
     "name": "stderr",
     "output_type": "stream",
     "text": [
      "100%|██████████| 250/250 [00:14<00:00, 17.04it/s]\n",
      "100%|██████████| 250/250 [00:14<00:00, 17.67it/s]\n",
      "100%|██████████| 250/250 [00:14<00:00, 17.64it/s]\n",
      "100%|██████████| 250/250 [00:13<00:00, 18.03it/s]\n",
      "100%|██████████| 250/250 [00:14<00:00, 17.03it/s]\n",
      "100%|██████████| 250/250 [00:14<00:00, 17.12it/s]\n",
      "100%|██████████| 250/250 [00:14<00:00, 17.73it/s]\n",
      "100%|██████████| 250/250 [00:14<00:00, 17.67it/s]\n",
      "100%|██████████| 250/250 [00:14<00:00, 17.83it/s]\n",
      "100%|██████████| 250/250 [00:14<00:00, 17.37it/s]\n",
      "100%|██████████| 250/250 [00:14<00:00, 17.54it/s]\n",
      "100%|██████████| 250/250 [00:14<00:00, 17.47it/s]\n",
      "100%|██████████| 250/250 [00:14<00:00, 17.21it/s]\n",
      "100%|██████████| 250/250 [00:14<00:00, 17.12it/s]\n",
      "100%|██████████| 250/250 [00:14<00:00, 17.40it/s]\n",
      "100%|██████████| 250/250 [00:14<00:00, 17.61it/s]\n",
      "100%|██████████| 250/250 [00:14<00:00, 17.76it/s]\n",
      "100%|██████████| 250/250 [00:13<00:00, 17.93it/s]\n",
      "100%|██████████| 250/250 [00:14<00:00, 17.43it/s]\n",
      "100%|██████████| 250/250 [00:13<00:00, 18.14it/s]\n",
      "100%|██████████| 250/250 [00:14<00:00, 17.67it/s]\n"
     ]
    }
   ],
   "source": [
    "y = np.array(saf_result['y'][:21])\n",
    "hvs = np.zeros((y.shape[0], y.shape[1]))\n",
    "igdps = np.zeros((y.shape[0], y.shape[1]))\n",
    "for i, yi in enumerate(y):\n",
    "    for j in tqdm(range(1, y.shape[1]+1)):\n",
    "        hvs[i, j-1] = hv_measure.calc(yi[:j])\n",
    "        igdps[i, j-1] = igdp_measure.calc(yi[:j])\n",
    "\n",
    "saf_result['hypervolume'] =  hvs\n",
    "saf_result['igd+'] = igdps"
   ]
  },
  {
   "cell_type": "code",
   "execution_count": 20,
   "metadata": {},
   "outputs": [
    {
     "name": "stderr",
     "output_type": "stream",
     "text": [
      "100%|██████████| 250/250 [00:14<00:00, 16.84it/s]\n",
      "100%|██████████| 250/250 [00:14<00:00, 17.14it/s]\n",
      "100%|██████████| 250/250 [00:14<00:00, 17.42it/s]\n",
      "100%|██████████| 250/250 [00:14<00:00, 17.33it/s]\n",
      "100%|██████████| 250/250 [00:14<00:00, 16.83it/s]\n",
      "100%|██████████| 250/250 [00:14<00:00, 17.43it/s]\n",
      "100%|██████████| 250/250 [00:14<00:00, 17.16it/s]\n",
      "100%|██████████| 250/250 [00:14<00:00, 17.37it/s]\n",
      "100%|██████████| 250/250 [00:14<00:00, 17.16it/s]\n",
      "100%|██████████| 250/250 [00:14<00:00, 17.23it/s]\n",
      "100%|██████████| 250/250 [00:14<00:00, 17.57it/s]\n",
      "100%|██████████| 250/250 [00:14<00:00, 17.55it/s]\n",
      "100%|██████████| 250/250 [00:14<00:00, 17.24it/s]\n",
      "100%|██████████| 250/250 [00:14<00:00, 17.54it/s]\n",
      "100%|██████████| 250/250 [00:13<00:00, 18.12it/s]\n",
      "100%|██████████| 250/250 [00:13<00:00, 18.32it/s]\n",
      "100%|██████████| 250/250 [00:15<00:00, 16.58it/s]\n",
      "100%|██████████| 250/250 [00:13<00:00, 17.94it/s]\n",
      "100%|██████████| 250/250 [00:13<00:00, 18.11it/s]\n",
      "100%|██████████| 250/250 [00:14<00:00, 17.82it/s]\n",
      "100%|██████████| 250/250 [00:14<00:00, 17.02it/s]\n"
     ]
    }
   ],
   "source": [
    "y = np.array(parego_result['y'][:21])\n",
    "hvs = np.zeros((y.shape[0], y.shape[1]))\n",
    "igdps = np.zeros((y.shape[0], y.shape[1]))\n",
    "for i, yi in enumerate(y):\n",
    "    for j in tqdm(range(1, y.shape[1]+1)):\n",
    "        hvs[i, j-1] = hv_measure.calc(yi[:j])\n",
    "        igdps[i, j-1] = igdp_measure.calc(yi[:j])\n",
    "\n",
    "parego_result['hypervolume'] =  hvs\n",
    "parego_result['igd+'] = igdps"
   ]
  },
  {
   "cell_type": "code",
   "execution_count": 21,
   "metadata": {},
   "outputs": [
    {
     "name": "stdout",
     "output_type": "stream",
     "text": [
      "(21, 250)\n",
      "(21, 250)\n",
      "(21, 250)\n",
      "(21, 250)\n"
     ]
    }
   ],
   "source": [
    "print(old_result['hypervolume'].shape)\n",
    "print(saf_result['hypervolume'].shape)\n",
    "print(new_result['hypervolume'].shape)\n",
    "print(parego_result['hypervolume'].shape)"
   ]
  },
  {
   "cell_type": "code",
   "execution_count": 22,
   "metadata": {},
   "outputs": [],
   "source": [
    "phv = hv_measure.calc(p[::5])"
   ]
  },
  {
   "cell_type": "code",
   "execution_count": 27,
   "metadata": {},
   "outputs": [
    {
     "data": {
      "text/plain": [
       "<matplotlib.legend.Legend at 0x7fbaa2fdcfa0>"
      ]
     },
     "execution_count": 27,
     "metadata": {},
     "output_type": "execute_result"
    },
    {
     "data": {
      "image/png": "[encoded data removed]",
      "text/plain": [
       "<Figure size 432x288 with 1 Axes>"
      ]
     },
     "metadata": {
      "needs_background": "light"
     },
     "output_type": "display_data"
    }
   ],
   "source": [
    "plt.figure()\n",
    "plt.title(\"hypervolume\")\n",
    "plt.plot(range(0, 250), np.median(old_result['hypervolume'][11:], axis=0), c=\"C0\", label=\"SMS-EGO: old\") \n",
    "plt.fill_between(range(0, 250), np.percentile(old_result['hypervolume'], 25, axis=0), np.percentile(old_result['hypervolume'][:21], 75, axis=0), color=\"C0\", alpha=0.2)\n",
    "# plt.plot(range(0, 250), np.median(old_result['hypervolume'][11:], axis=0), c=\"C0\", linestyle=\"--\", label=\"SMS-EGO: old\") \n",
    "# plt.fill_between(range(0, 250), np.percentile(old_result['hypervolume'][11:], 25, axis=0), np.percentile(old_result['hypervolume'][:11], 75, axis=0), color=\"C0\", alpha=0.2)\n",
    "\n",
    "\n",
    "plt.plot(range(0, 250), np.median(new_result['hypervolume'][11:], axis=0), c=\"C3\", label=\"SMS-EGO: new\")  \n",
    "plt.fill_between(range(0, 250), np.percentile(new_result['hypervolume'], 25, axis=0), np.percentile(new_result['hypervolume'][:21], 75, axis=0), color=\"C3\", alpha=0.2)\n",
    "\n",
    "# plt.plot(range(0, 250), np.median(saf_result['hypervolume'][:21], axis=0), c=\"C2\", label=\"SAF$_\\mu$\")   \n",
    "# plt.fill_between(range(0, 250), np.percentile(saf_result['hypervolume'], 25, axis=0), np.percentile(saf_result['hypervolume'][:21], 75, axis=0), color=\"C2\", alpha=0.2)\n",
    "\n",
    "# plt.plot(range(0, 250), np.median(parego_result['hypervolume'][:21], axis=0), c=\"C4\", label=\"ParEgo\")   \n",
    "# plt.fill_between(range(0, 250), np.percentile(parego_result['hypervolume'], 25, axis=0), np.percentile(saf_result['hypervolume'][:21], 75, axis=0), color=\"C4\", alpha=0.2)\n",
    "\n",
    "# plt.gca().axhline(phv, c=\"k\", linestyle=\"--\", label=\"Hypervolume limit\")\n",
    "plt.legend()"
   ]
  },
  {
   "cell_type": "code",
   "execution_count": 53,
   "metadata": {},
   "outputs": [
    {
     "data": {
      "text/plain": [
       "<matplotlib.legend.Legend at 0x7fbdb478b310>"
      ]
     },
     "execution_count": 53,
     "metadata": {},
     "output_type": "execute_result"
    },
    {
     "data": {
      "image/png": "[encoded data removed]",
      "text/plain": [
       "<Figure size 432x288 with 1 Axes>"
      ]
     },
     "metadata": {
      "needs_background": "light"
     },
     "output_type": "display_data"
    }
   ],
   "source": [
    "plt.figure()\n",
    "plt.title(\"igd+\")\n",
    "plt.plot(range(0, 250), np.median(old_result['igd+'][:21], axis=0), c=\"C0\", label=\"SMS-EGO: old\") \n",
    "plt.fill_between(range(0, 250), np.percentile(old_result['igd+'], 25, axis=0), np.percentile(old_result['igd+'][:21], 75, axis=0), color=\"C0\", alpha=0.2)\n",
    "\n",
    "plt.plot(range(0, 250), np.median(new_result['igd+'][:21], axis=0), c=\"C3\", label=\"SMS-EGO: new\")  \n",
    "plt.fill_between(range(0, 250), np.percentile(new_result['igd+'], 25, axis=0), np.percentile(new_result['igd+'][:21], 75, axis=0), color=\"C3\", alpha=0.2)\n",
    "\n",
    "plt.plot(range(0, 250), np.median(saf_result['igd+'][:21], axis=0), c=\"C2\", label=\"SAF$_\\mu$\")   \n",
    "plt.fill_between(range(0, 250), np.percentile(saf_result['igd+'], 25, axis=0), np.percentile(saf_result['igd+'][:21], 75, axis=0), color=\"C2\", alpha=0.2)\n",
    "\n",
    "plt.plot(range(0, 250), np.median(saf_result['igd+'][:21], axis=0), c=\"C4\", label=\"SAF$_\\mu$\")   \n",
    "plt.fill_between(range(0, 250), np.percentile(saf_result['igd+'], 25, axis=0), np.percentile(saf_result['igd+'][:21], 75, axis=0), color=\"C4\", alpha=0.2)\n",
    "plt.legend()"
   ]
  },
  {
   "cell_type": "code",
   "execution_count": 62,
   "metadata": {},
   "outputs": [
    {
     "data": {
      "text/plain": [
       "<mpl_toolkits.mplot3d.art3d.Path3DCollection at 0x7f6de86dda90>"
      ]
     },
     "execution_count": 62,
     "metadata": {},
     "output_type": "execute_result"
    }
   ],
   "source": [
    "%matplotlib qt\n",
    "fig = plt.figure(figsize=[10, 10])\n",
    "ax = fig.gca(projection=\"3d\")\n",
    "ax.scatter(*p[::10].T, c=\"C3\")"
   ]
  },
  {
   "cell_type": "code",
   "execution_count": null,
   "metadata": {},
   "outputs": [],
   "source": []
  }
 ],
 "metadata": {
  "kernelspec": {
   "display_name": "testsuite",
   "language": "python",
   "name": "testsuite"
  },
  "language_info": {
   "codemirror_mode": {
    "name": "ipython",
    "version": 3
   },
   "file_extension": ".py",
   "mimetype": "text/x-python",
   "name": "python",
   "nbconvert_exporter": "python",
   "pygments_lexer": "ipython3",
   "version": "3.8.3"
  }
 },
 "nbformat": 4,
 "nbformat_minor": 4
}
