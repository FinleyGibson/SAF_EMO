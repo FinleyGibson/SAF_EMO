{
 "cells": [
  {
   "cell_type": "code",
   "execution_count": 1,
   "metadata": {},
   "outputs": [],
   "source": [
    "import os\n",
    "import rootpath\n",
    "import sys\n",
    "sys.path.append(rootpath.detect())\n",
    "\n",
    "import numpy as np\n",
    "import pandas as pd\n",
    "import matplotlib.pyplot as plt\n",
    "%matplotlib qt\n",
    "import json\n",
    "\n",
    "from testsuite.results import ResultsContainer"
   ]
  },
  {
   "cell_type": "code",
   "execution_count": 2,
   "metadata": {},
   "outputs": [],
   "source": [
    "def load_file(file_name):\n",
    "    return ResultsContainer(os.path.join(processed_results_dir, file_name))"
   ]
  },
  {
   "cell_type": "code",
   "execution_count": 3,
   "metadata": {},
   "outputs": [
    {
     "name": "stdout",
     "output_type": "stream",
     "text": [
      "100\n"
     ]
    }
   ],
   "source": [
    "processed_results_dir = \"../processed_results\"\n",
    "processed_files = list(sorted(os.listdir(processed_results_dir)))\n",
    "print(len(processed_files))"
   ]
  },
  {
   "cell_type": "code",
   "execution_count": 4,
   "metadata": {},
   "outputs": [],
   "source": [
    "problems = set([p.split(\"__\")[0] for p in processed_files])"
   ]
  },
  {
   "cell_type": "code",
   "execution_count": 5,
   "metadata": {
    "scrolled": true
   },
   "outputs": [
    {
     "name": "stdout",
     "output_type": "stream",
     "text": [
      "WFG4 2obj 6dim\n"
     ]
    }
   ],
   "source": [
    "# for i in [19, 37, 55]:\n",
    "for i in [57]:\n",
    "    a = load_file(processed_files[i])\n",
    "    # fig01 = a.plot_hpv()\n",
    "    # a.plot_hpv(reference=True, axis=fig01.gca(), c=\"C3\")\n",
    "    \n",
    "    fig02 = a.plot_igd()\n",
    "    a.plot_igd(reference=True, axis=fig02.gca(), c=\"C3\")\n",
    "    print(f\"WFG{a.n_prob[0]} {a.n_obj[0]}obj {a.n_dim[0]}dim\")\n",
    "    \n",
    "    fig1 = plt.figure(figsize=[8,8])\n",
    "#     ax1 = fig1.gca(projection=\"3d\")\n",
    "    ax1 = fig1.gca()\n",
    "    for r0 in a.results:\n",
    "        r0.plot_front(axis=ax1, c=\"C0\")\n",
    "    for r1 in a.reference:\n",
    "        r1.plot_front(axis=ax1, c=\"C3\")\n",
    "    ax1.scatter(*np.asarray(r0.targets).T, c=\"magenta\", s=20)\n",
    "    ax1.set_xlim(0, ax1.get_xlim()[1])\n",
    "    ax1.set_ylim(0, ax1.get_ylim()[1])"
   ]
  },
  {
   "cell_type": "code",
   "execution_count": 42,
   "metadata": {},
   "outputs": [
    {
     "data": {
      "text/plain": [
       "array([2.66666667, 4.24153325])"
      ]
     },
     "execution_count": 42,
     "metadata": {},
     "output_type": "execute_result"
    }
   ],
   "source": [
    "r0.hpv_refpoint"
   ]
  },
  {
   "cell_type": "code",
   "execution_count": 43,
   "metadata": {},
   "outputs": [
    {
     "data": {
      "text/plain": [
       "array([2.66666667, 4.24153325])"
      ]
     },
     "execution_count": 43,
     "metadata": {},
     "output_type": "execute_result"
    }
   ],
   "source": [
    "r1.hpv_refpoint"
   ]
  },
  {
   "cell_type": "code",
   "execution_count": 44,
   "metadata": {},
   "outputs": [
    {
     "data": {
      "text/plain": [
       "array([[0.4, 3.2]])"
      ]
     },
     "execution_count": 44,
     "metadata": {},
     "output_type": "execute_result"
    }
   ],
   "source": [
    "r0.targets"
   ]
  },
  {
   "cell_type": "code",
   "execution_count": 45,
   "metadata": {},
   "outputs": [
    {
     "data": {
      "text/plain": [
       "array([2.0286518 , 4.01262958])"
      ]
     },
     "execution_count": 45,
     "metadata": {},
     "output_type": "execute_result"
    }
   ],
   "source": [
    "r1.p.max(axis=0)"
   ]
  },
  {
   "cell_type": "code",
   "execution_count": null,
   "metadata": {},
   "outputs": [],
   "source": [
    "problem_instances = [57]"
   ]
  }
 ],
 "metadata": {
  "kernelspec": {
   "display_name": "testsuite",
   "language": "python",
   "name": "testsuite"
  },
  "language_info": {
   "codemirror_mode": {
    "name": "ipython",
    "version": 3
   },
   "file_extension": ".py",
   "mimetype": "text/x-python",
   "name": "python",
   "nbconvert_exporter": "python",
   "pygments_lexer": "ipython3",
   "version": "3.8.3"
  }
 },
 "nbformat": 4,
 "nbformat_minor": 4
}
