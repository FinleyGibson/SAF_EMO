{
 "cells": [
  {
   "cell_type": "code",
   "execution_count": 36,
   "metadata": {},
   "outputs": [],
   "source": [
    "import os\n",
    "import rootpath\n",
    "import sys\n",
    "sys.path.append(rootpath.detect())\n",
    "\n",
    "import numpy as np\n",
    "import pandas as pd\n",
    "import matplotlib.pyplot as plt\n",
    "%matplotlib qt\n",
    "import json\n",
    "\n",
    "from testsuite.results import ResultsContainer"
   ]
  },
  {
   "cell_type": "code",
   "execution_count": 37,
   "metadata": {},
   "outputs": [],
   "source": [
    "def load_file(file_name):\n",
    "    return ResultsContainer(os.path.join(processed_results_dir, file_name))"
   ]
  },
  {
   "cell_type": "code",
   "execution_count": 38,
   "metadata": {},
   "outputs": [
    {
     "name": "stdout",
     "output_type": "stream",
     "text": [
      "108\n"
     ]
    }
   ],
   "source": [
    "processed_results_dir = \"../processed_results\"\n",
    "processed_files = list(sorted(os.listdir(processed_results_dir)))\n",
    "print(len(processed_files))"
   ]
  },
  {
   "cell_type": "code",
   "execution_count": 39,
   "metadata": {},
   "outputs": [],
   "source": [
    "problems = set([p.split(\"__\")[0] for p in processed_files])"
   ]
  },
  {
   "cell_type": "code",
   "execution_count": 45,
   "metadata": {
    "scrolled": true
   },
   "outputs": [
    {
     "name": "stdout",
     "output_type": "stream",
     "text": [
      "WFG1 2obj 3dim\n"
     ]
    }
   ],
   "source": [
    "# for i in [19, 37, 55]:\n",
    "for i in [3]:\n",
    "    a = load_file(processed_files[i])\n",
    "    fig01 = a.plot_doh()\n",
    "    a.plot_doh(reference=True, axis=fig01.gca(), c=\"C3\")\n",
    "    \n",
    "    fig02 = a.plot_igd()\n",
    "    a.plot_igd(reference=True, axis=fig02.gca(), c=\"C3\")\n",
    "    print(f\"WFG{a.n_prob[0]} {a.n_obj[0]}obj {a.n_dim[0]}dim\")\n",
    "    \n",
    "#     fig1 = plt.figure(figsize=[8,8])\n",
    "# #     ax1 = fig1.gca(projection=\"3d\")\n",
    "#     ax1 = fig1.gca()\n",
    "#     for r0 in a.results:\n",
    "#         r0.plot_front(axis=ax1, c=\"C0\")\n",
    "#     for r1 in a.reference:\n",
    "#         r1.plot_front(axis=ax1, c=\"C3\")\n",
    "#     ax1.scatter(*np.asarray(r0.targets).T, c=\"magenta\", s=20)\n",
    "#     ax1.set_xlim(0, ax1.get_xlim()[1])\n",
    "#     ax1.set_ylim(0, ax1.get_ylim()[1])"
   ]
  },
  {
   "cell_type": "code",
   "execution_count": null,
   "metadata": {},
   "outputs": [],
   "source": []
  },
  {
   "cell_type": "code",
   "execution_count": null,
   "metadata": {},
   "outputs": [],
   "source": []
  }
 ],
 "metadata": {
  "kernelspec": {
   "display_name": "testsuite",
   "language": "python",
   "name": "testsuite"
  },
  "language_info": {
   "codemirror_mode": {
    "name": "ipython",
    "version": 3
   },
   "file_extension": ".py",
   "mimetype": "text/x-python",
   "name": "python",
   "nbconvert_exporter": "python",
   "pygments_lexer": "ipython3",
   "version": "3.8.3"
  }
 },
 "nbformat": 4,
 "nbformat_minor": 4
}
