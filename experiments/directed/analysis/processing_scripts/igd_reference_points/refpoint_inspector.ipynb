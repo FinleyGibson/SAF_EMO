{
 "cells": [
  {
   "cell_type": "code",
   "execution_count": 6,
   "metadata": {},
   "outputs": [],
   "source": [
    "import rootpath\n",
    "import sys\n",
    "sys.path.append(rootpath.detect())\n",
    "\n",
    "import json \n",
    "import numpy as np\n",
    "import wfg\n",
    "import matplotlib.pyplot as plt\n",
    "\n",
    "from IPython.display import Markdown as md\n",
    "from testsuite.analysis_tools import strip_problem_names, draw_samples\n",
    "\n",
    "%matplotlib qt"
   ]
  },
  {
   "cell_type": "code",
   "execution_count": 7,
   "metadata": {},
   "outputs": [],
   "source": [
    "from generate_igd_reference_points_12 import D as refpoint_dict\n",
    "from generate_igd_reference_points_12 import N_POINTS"
   ]
  },
  {
   "cell_type": "code",
   "execution_count": 8,
   "metadata": {},
   "outputs": [],
   "source": [
    "problems = list(refpoint_dict.keys())"
   ]
  },
  {
   "cell_type": "code",
   "execution_count": 9,
   "metadata": {},
   "outputs": [],
   "source": [
    "def plot_2d(samples_y, uniform_y):\n",
    "    fig = plt.figure(figsize=[8,8])\n",
    "    ax = fig.gca()\n",
    "    ax.scatter(*samples_y.T, c=\"C0\", s=15, alpha=0.2)\n",
    "    ax.scatter(*uniform_y.T, c=\"C3\", s=2, alpha=1.0)\n",
    "    ax.set_xlabel(\"x\")\n",
    "    ax.set_ylabel(\"y\")\n",
    "    return fig\n",
    "\n",
    "def plot_3d(samples_y, uniform_y):\n",
    "    fig = plt.figure(figsize=[8,8])\n",
    "    ax = fig.gca(projection=\"3d\")\n",
    "    ax.scatter(*samples_y.T, c=\"C0\", s=15, alpha=0.2)\n",
    "    ax.scatter(*uniform_y.T, c=\"C3\", s=2, alpha=1.0)\n",
    "    ax.set_xlabel(\"x\")\n",
    "    ax.set_ylabel(\"y\")\n",
    "    ax.set_zlabel(\"z\")\n",
    "    return fig\n",
    "\n",
    "def plot_4d(samples_y, uniform_y):\n",
    "    fig = plt.figure(figsize=[8,8])\n",
    "    ax = fig.gca(projection=\"3d\")\n",
    "    ax.scatter(*samples_y[:, :3].T, c=\"C0\", s=8, alpha=0.3)\n",
    "    ax.scatter(*uniform_y[:, :3].T, c=\"C3\", s=2, alpha=1.0)\n",
    "    return fig\n",
    "    \n",
    "\n",
    "def plot_igd_points(problem_name):\n",
    "    \n",
    "    prob, obj, dim = strip_problem_names(problem_name)\n",
    "    prob = getattr(wfg, f\"WFG{prob}\")\n",
    "    print(problem_name, f\"\\t:\\t function {prob}, obj {obj}, dims {dim}\")\n",
    "    \n",
    "    print(f\"drawing {N_POINTS[obj]} random samples.\")\n",
    "    samples_x, samples_y = draw_samples(func=prob, n_obj=obj, n_dim=dim, n_samples=N_POINTS[obj], random=False)\n",
    "    \n",
    "    uniform_y = np.asarray(refpoint_dict[problem_name])\n",
    "    \n",
    "    if obj == 2:\n",
    "        fig = plot_2d(samples_y, uniform_y)\n",
    "    elif obj == 3:\n",
    "        fig = plot_3d(samples_y, uniform_y)\n",
    "    elif obj == 4:\n",
    "        fig = plot_4d(samples_y, uniform_y)\n",
    "    return fig"
   ]
  },
  {
   "cell_type": "code",
   "execution_count": 5,
   "metadata": {},
   "outputs": [
    {
     "name": "stderr",
     "output_type": "stream",
     "text": [
      "100%|██████████| 2000/2000 [00:00<00:00, 156398.84it/s]"
     ]
    },
    {
     "name": "stdout",
     "output_type": "stream",
     "text": [
      "wfg1_2obj_3dim \t:\t function <built-in function WFG1>, obj 2, dims 3\n",
      "drawing 2000 random samples.\n"
     ]
    },
    {
     "name": "stderr",
     "output_type": "stream",
     "text": [
      "\n"
     ]
    }
   ],
   "source": [
    "p = problems[0]\n",
    "md(\"Problem: {}\".format(p))\n",
    "plot_igd_points(p);"
   ]
  },
  {
   "cell_type": "code",
   "execution_count": 6,
   "metadata": {},
   "outputs": [
    {
     "name": "stderr",
     "output_type": "stream",
     "text": [
      "100%|██████████| 4000/4000 [00:00<00:00, 79308.02it/s]"
     ]
    },
    {
     "name": "stdout",
     "output_type": "stream",
     "text": [
      "wfg1_3obj_4dim \t:\t function <built-in function WFG1>, obj 3, dims 4\n",
      "drawing 4000 random samples.\n"
     ]
    },
    {
     "name": "stderr",
     "output_type": "stream",
     "text": [
      "\n"
     ]
    }
   ],
   "source": [
    "p = problems[1]\n",
    "md(\"Problem: {}\".format(p))\n",
    "plot_igd_points(p);"
   ]
  },
  {
   "cell_type": "code",
   "execution_count": 7,
   "metadata": {},
   "outputs": [
    {
     "name": "stderr",
     "output_type": "stream",
     "text": [
      "100%|██████████| 8000/8000 [00:00<00:00, 81231.63it/s]"
     ]
    },
    {
     "name": "stdout",
     "output_type": "stream",
     "text": [
      "wfg1_4obj_5dim \t:\t function <built-in function WFG1>, obj 4, dims 5\n",
      "drawing 8000 random samples.\n"
     ]
    },
    {
     "name": "stderr",
     "output_type": "stream",
     "text": [
      "\n"
     ]
    }
   ],
   "source": [
    "p = problems[2]\n",
    "md(\"Problem: {}\".format(p))\n",
    "plot_igd_points(p);"
   ]
  },
  {
   "cell_type": "code",
   "execution_count": 11,
   "metadata": {},
   "outputs": [
    {
     "name": "stderr",
     "output_type": "stream",
     "text": [
      "100%|██████████| 2000/2000 [00:00<00:00, 48196.26it/s]"
     ]
    },
    {
     "name": "stdout",
     "output_type": "stream",
     "text": [
      "wfg2_2obj_6dim \t:\t function <built-in function WFG2>, obj 2, dims 6\n",
      "drawing 2000 random samples.\n"
     ]
    },
    {
     "name": "stderr",
     "output_type": "stream",
     "text": [
      "\n"
     ]
    }
   ],
   "source": [
    "p = problems[3]\n",
    "md(\"Problem: {}\".format(p))\n",
    "plot_igd_points(p);"
   ]
  },
  {
   "cell_type": "code",
   "execution_count": 9,
   "metadata": {},
   "outputs": [
    {
     "name": "stderr",
     "output_type": "stream",
     "text": [
      "100%|██████████| 4000/4000 [00:00<00:00, 40391.31it/s]"
     ]
    },
    {
     "name": "stdout",
     "output_type": "stream",
     "text": [
      "wfg2_3obj_6dim \t:\t function <built-in function WFG2>, obj 3, dims 6\n",
      "drawing 4000 random samples.\n"
     ]
    },
    {
     "name": "stderr",
     "output_type": "stream",
     "text": [
      "\n"
     ]
    }
   ],
   "source": [
    "p = problems[4]\n",
    "md(\"Problem: {}\".format(p))\n",
    "plot_igd_points(p);"
   ]
  },
  {
   "cell_type": "code",
   "execution_count": 9,
   "metadata": {},
   "outputs": [
    {
     "name": "stderr",
     "output_type": "stream",
     "text": [
      "100%|██████████| 8000/8000 [00:00<00:00, 95177.19it/s]"
     ]
    },
    {
     "name": "stdout",
     "output_type": "stream",
     "text": [
      "wfg2_4obj_10dim \t:\t function <built-in function WFG2>, obj 4, dims 10\n",
      "drawing 8000 random samples.\n"
     ]
    },
    {
     "name": "stderr",
     "output_type": "stream",
     "text": [
      "\n"
     ]
    }
   ],
   "source": [
    "p = problems[5]\n",
    "md(\"Problem: {}\".format(p))\n",
    "plot_igd_points(p);"
   ]
  },
  {
   "cell_type": "code",
   "execution_count": 10,
   "metadata": {},
   "outputs": [
    {
     "name": "stderr",
     "output_type": "stream",
     "text": [
      "100%|██████████| 2000/2000 [00:00<00:00, 117269.06it/s]"
     ]
    },
    {
     "name": "stdout",
     "output_type": "stream",
     "text": [
      "wfg3_2obj_6dim \t:\t function <built-in function WFG3>, obj 2, dims 6\n",
      "drawing 2000 random samples.\n"
     ]
    },
    {
     "name": "stderr",
     "output_type": "stream",
     "text": [
      "\n"
     ]
    }
   ],
   "source": [
    "p = problems[6]\n",
    "md(\"Problem: {}\".format(p))\n",
    "plot_igd_points(p);"
   ]
  },
  {
   "cell_type": "code",
   "execution_count": 11,
   "metadata": {},
   "outputs": [
    {
     "name": "stderr",
     "output_type": "stream",
     "text": [
      "100%|██████████| 4000/4000 [00:00<00:00, 63987.55it/s]"
     ]
    },
    {
     "name": "stdout",
     "output_type": "stream",
     "text": [
      "wfg3_3obj_10dim \t:\t function <built-in function WFG3>, obj 3, dims 10\n",
      "drawing 4000 random samples.\n"
     ]
    },
    {
     "name": "stderr",
     "output_type": "stream",
     "text": [
      "\n"
     ]
    }
   ],
   "source": [
    "p = problems[7]\n",
    "md(\"Problem: {}\".format(p))\n",
    "plot_igd_points(p);"
   ]
  },
  {
   "cell_type": "code",
   "execution_count": 12,
   "metadata": {},
   "outputs": [
    {
     "name": "stderr",
     "output_type": "stream",
     "text": [
      "100%|██████████| 8000/8000 [00:00<00:00, 82750.74it/s]"
     ]
    },
    {
     "name": "stdout",
     "output_type": "stream",
     "text": [
      "wfg3_4obj_10dim \t:\t function <built-in function WFG3>, obj 4, dims 10\n",
      "drawing 8000 random samples.\n"
     ]
    },
    {
     "name": "stderr",
     "output_type": "stream",
     "text": [
      "\n"
     ]
    }
   ],
   "source": [
    "p = problems[8]\n",
    "md(\"Problem: {}\".format(p))\n",
    "plot_igd_points(p);"
   ]
  },
  {
   "cell_type": "code",
   "execution_count": 12,
   "metadata": {},
   "outputs": [
    {
     "name": "stderr",
     "output_type": "stream",
     "text": [
      "100%|██████████| 2000/2000 [00:00<00:00, 80780.86it/s]"
     ]
    },
    {
     "name": "stdout",
     "output_type": "stream",
     "text": [
      "wfg4_2obj_6dim \t:\t function <built-in function WFG4>, obj 2, dims 6\n",
      "drawing 2000 random samples.\n"
     ]
    },
    {
     "name": "stderr",
     "output_type": "stream",
     "text": [
      "\n"
     ]
    }
   ],
   "source": [
    "p = problems[9]\n",
    "md(\"Problem: {}\".format(p))\n",
    "plot_igd_points(p);"
   ]
  },
  {
   "cell_type": "code",
   "execution_count": 13,
   "metadata": {},
   "outputs": [
    {
     "name": "stderr",
     "output_type": "stream",
     "text": [
      "100%|██████████| 2000/2000 [00:00<00:00, 70169.37it/s]"
     ]
    },
    {
     "name": "stdout",
     "output_type": "stream",
     "text": [
      "wfg5_2obj_6dim \t:\t function <built-in function WFG5>, obj 2, dims 6\n",
      "drawing 2000 random samples.\n"
     ]
    },
    {
     "name": "stderr",
     "output_type": "stream",
     "text": [
      "\n"
     ]
    }
   ],
   "source": [
    "p = problems[10]\n",
    "md(\"Problem: {}\".format(p))\n",
    "plot_igd_points(p);"
   ]
  },
  {
   "cell_type": "code",
   "execution_count": 14,
   "metadata": {},
   "outputs": [
    {
     "name": "stderr",
     "output_type": "stream",
     "text": [
      "100%|██████████| 2000/2000 [00:00<00:00, 79276.92it/s]"
     ]
    },
    {
     "name": "stdout",
     "output_type": "stream",
     "text": [
      "wfg6_2obj_6dim \t:\t function <built-in function WFG6>, obj 2, dims 6\n",
      "drawing 2000 random samples.\n"
     ]
    },
    {
     "name": "stderr",
     "output_type": "stream",
     "text": [
      "\n"
     ]
    }
   ],
   "source": [
    "p = problems[11]\n",
    "md(\"Problem: {}\".format(p))\n",
    "plot_igd_points(p);"
   ]
  },
  {
   "cell_type": "code",
   "execution_count": 15,
   "metadata": {},
   "outputs": [
    {
     "name": "stderr",
     "output_type": "stream",
     "text": [
      "100%|██████████| 4000/4000 [00:00<00:00, 48734.99it/s]"
     ]
    },
    {
     "name": "stdout",
     "output_type": "stream",
     "text": [
      "wfg4_3obj_8dim \t:\t function <built-in function WFG4>, obj 3, dims 8\n",
      "drawing 4000 random samples.\n"
     ]
    },
    {
     "name": "stderr",
     "output_type": "stream",
     "text": [
      "\n"
     ]
    }
   ],
   "source": [
    "p = problems[12]\n",
    "md(\"Problem: {}\".format(p))\n",
    "plot_igd_points(p);"
   ]
  },
  {
   "cell_type": "code",
   "execution_count": 16,
   "metadata": {},
   "outputs": [
    {
     "name": "stderr",
     "output_type": "stream",
     "text": [
      "100%|██████████| 4000/4000 [00:00<00:00, 86398.55it/s]"
     ]
    },
    {
     "name": "stdout",
     "output_type": "stream",
     "text": [
      "wfg5_3obj_8dim \t:\t function <built-in function WFG5>, obj 3, dims 8\n",
      "drawing 4000 random samples.\n"
     ]
    },
    {
     "name": "stderr",
     "output_type": "stream",
     "text": [
      "\n"
     ]
    }
   ],
   "source": [
    "p = problems[13]\n",
    "md(\"Problem: {}\".format(p))\n",
    "plot_igd_points(p);"
   ]
  },
  {
   "cell_type": "code",
   "execution_count": 17,
   "metadata": {},
   "outputs": [
    {
     "name": "stderr",
     "output_type": "stream",
     "text": [
      "100%|██████████| 4000/4000 [00:00<00:00, 94313.37it/s]"
     ]
    },
    {
     "name": "stdout",
     "output_type": "stream",
     "text": [
      "wfg6_3obj_8dim \t:\t function <built-in function WFG6>, obj 3, dims 8\n",
      "drawing 4000 random samples.\n"
     ]
    },
    {
     "name": "stderr",
     "output_type": "stream",
     "text": [
      "\n"
     ]
    }
   ],
   "source": [
    "p = problems[14]\n",
    "md(\"Problem: {}\".format(p))\n",
    "plot_igd_points(p);"
   ]
  },
  {
   "cell_type": "code",
   "execution_count": 18,
   "metadata": {},
   "outputs": [
    {
     "name": "stderr",
     "output_type": "stream",
     "text": [
      "100%|██████████| 8000/8000 [00:00<00:00, 88345.77it/s]"
     ]
    },
    {
     "name": "stdout",
     "output_type": "stream",
     "text": [
      "wfg4_4obj_8dim \t:\t function <built-in function WFG4>, obj 4, dims 8\n",
      "drawing 8000 random samples.\n"
     ]
    },
    {
     "name": "stderr",
     "output_type": "stream",
     "text": [
      "\n"
     ]
    }
   ],
   "source": [
    "p = problems[15]\n",
    "md(\"Problem: {}\".format(p))\n",
    "plot_igd_points(p);"
   ]
  },
  {
   "cell_type": "code",
   "execution_count": 19,
   "metadata": {},
   "outputs": [
    {
     "name": "stderr",
     "output_type": "stream",
     "text": [
      "100%|██████████| 8000/8000 [00:00<00:00, 56157.95it/s]"
     ]
    },
    {
     "name": "stdout",
     "output_type": "stream",
     "text": [
      "wfg5_4obj_10dim \t:\t function <built-in function WFG5>, obj 4, dims 10\n",
      "drawing 8000 random samples.\n"
     ]
    },
    {
     "name": "stderr",
     "output_type": "stream",
     "text": [
      "\n"
     ]
    }
   ],
   "source": [
    "p = problems[16]\n",
    "md(\"Problem: {}\".format(p))\n",
    "plot_igd_points(p);"
   ]
  },
  {
   "cell_type": "code",
   "execution_count": 20,
   "metadata": {},
   "outputs": [
    {
     "name": "stderr",
     "output_type": "stream",
     "text": [
      "100%|██████████| 8000/8000 [00:00<00:00, 89619.49it/s]"
     ]
    },
    {
     "name": "stdout",
     "output_type": "stream",
     "text": [
      "wfg6_4obj_10dim \t:\t function <built-in function WFG6>, obj 4, dims 10\n",
      "drawing 8000 random samples.\n"
     ]
    },
    {
     "name": "stderr",
     "output_type": "stream",
     "text": [
      "\n"
     ]
    }
   ],
   "source": [
    "p = problems[17]\n",
    "md(\"Problem: {}\".format(p))\n",
    "plot_igd_points(p);"
   ]
  },
  {
   "cell_type": "code",
   "execution_count": 13,
   "metadata": {},
   "outputs": [
    {
     "data": {
      "text/plain": [
       "'wfg3_2obj_6dim'"
      ]
     },
     "execution_count": 13,
     "metadata": {},
     "output_type": "execute_result"
    }
   ],
   "source": [
    "problems[6]"
   ]
  },
  {
   "cell_type": "code",
   "execution_count": null,
   "metadata": {},
   "outputs": [],
   "source": []
  }
 ],
 "metadata": {
  "kernelspec": {
   "display_name": "testsuite",
   "language": "python",
   "name": "testsuite"
  },
  "language_info": {
   "codemirror_mode": {
    "name": "ipython",
    "version": 3
   },
   "file_extension": ".py",
   "mimetype": "text/x-python",
   "name": "python",
   "nbconvert_exporter": "python",
   "pygments_lexer": "ipython3",
   "version": "3.8.3"
  }
 },
 "nbformat": 4,
 "nbformat_minor": 4
}
