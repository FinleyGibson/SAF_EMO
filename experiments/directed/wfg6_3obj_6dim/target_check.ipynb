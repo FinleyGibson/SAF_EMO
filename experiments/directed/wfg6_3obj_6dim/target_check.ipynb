{
 "cells": [
  {
   "cell_type": "code",
   "execution_count": 1,
   "metadata": {},
   "outputs": [],
   "source": [
    "import os\n",
    "import sys\n",
    "import rootpath\n",
    "sys.path.append(rootpath.detect())\n",
    "\n",
    "from testsuite.utilities import Pareto_split\n",
    "from testsuite.analysis import load_all #, plot_all_pareto_2d, PLOT_STYLE, plot_measure\n",
    "from problem_setup import func, y, weighting, n_obj, n_dim\n",
    "\n",
    "import pickle\n",
    "import numpy as np\n",
    "import matplotlib\n",
    "import matplotlib.pyplot as plt\n",
    "import wfg"
   ]
  },
  {
   "cell_type": "code",
   "execution_count": 2,
   "metadata": {},
   "outputs": [],
   "source": [
    "M = 2                                   # Number of objectives\n",
    "kfactor = 1\n",
    "lfactor = 2\n",
    "k = kfactor*(M-1)   # position related params\n",
    "l = lfactor*2           # distance related params\n",
    "\n",
    "n_dim = k+l\n",
    "n_obj = M\n",
    "func = wfg.WFG6"
   ]
  },
  {
   "cell_type": "code",
   "execution_count": 3,
   "metadata": {},
   "outputs": [],
   "source": [
    "N = 500\n",
    "y = np.zeros((N, n_obj))\n",
    "x = np.zeros((N, n_dim))\n",
    "for n in range(N):\n",
    "    z = wfg.random_soln(k, l, func.__name__)\n",
    "    y[n,:] = func(z, k, M)\n",
    "    x[n,:] = z"
   ]
  },
  {
   "cell_type": "code",
   "execution_count": 4,
   "metadata": {},
   "outputs": [
    {
     "data": {
      "text/plain": [
       "(3, 2)"
      ]
     },
     "execution_count": 4,
     "metadata": {},
     "output_type": "execute_result"
    }
   ],
   "source": [
    "targets = np.array([[1.79, 1.79],[1.79*0.8, 1.79*0.8],[1.79*1.1, 1.79*1.1]])\n",
    "targets.shape"
   ]
  },
  {
   "cell_type": "code",
   "execution_count": 5,
   "metadata": {},
   "outputs": [
    {
     "data": {
      "text/plain": [
       "<matplotlib.collections.PathCollection at 0x7fc388e57be0>"
      ]
     },
     "execution_count": 5,
     "metadata": {},
     "output_type": "execute_result"
    },
    {
     "data": {
      "image/png": "[encoded data removed]",
      "text/plain": [
       "<Figure size 432x288 with 1 Axes>"
      ]
     },
     "metadata": {
      "needs_background": "light"
     },
     "output_type": "display_data"
    }
   ],
   "source": [
    "# plt.figure(figsize=[10, 10])\n",
    "plt.scatter(*y.T, s=2)\n",
    "plt.scatter(*targets.T, c=\"magenta\")"
   ]
  },
  {
   "cell_type": "code",
   "execution_count": 6,
   "metadata": {},
   "outputs": [],
   "source": [
    "from problem_setup import func, objective_function, limits\n",
    "from testsuite.surrogates import GP, MultiSurrogate\n",
    "from testsuite.directed_optimisers import DirectedSaf"
   ]
  },
  {
   "cell_type": "code",
   "execution_count": 7,
   "metadata": {},
   "outputs": [],
   "source": [
    "multi_surrogate = MultiSurrogate(GP, scaled=True)"
   ]
  },
  {
   "cell_type": "code",
   "execution_count": 23,
   "metadata": {},
   "outputs": [],
   "source": [
    "budget=20\n",
    "seed = 0\n",
    "opt = DirectedSaf(objective_function=objective_function, ei=False,  targets=[[0.5, 4.]], w=0.5, limits=limits, surrogate=multi_surrogate, n_initial=10, budget=budget, seed=seed)"
   ]
  },
  {
   "cell_type": "code",
   "execution_count": 24,
   "metadata": {},
   "outputs": [
    {
     "name": "stderr",
     "output_type": "stream",
     "text": [
      "reconstraining parameters GP_regression.Mat52.lengthscale\n",
      "reconstraining parameters GP_regression.Mat52.variance\n",
      "reconstraining parameters GP_regression.Gaussian_noise.variance\n"
     ]
    },
    {
     "name": "stdout",
     "output_type": "stream",
     "text": [
      "Optimization restart 1/10, f = 9.96185006553449\n",
      "Optimization restart 2/10, f = 14.18938533204673\n",
      "Optimization restart 3/10, f = 9.961850065535945\n",
      "Optimization restart 4/10, f = 9.961850065537117\n",
      "Optimization restart 5/10, f = 9.961850065536447\n",
      "Optimization restart 6/10, f = 9.96185006553496\n",
      "Optimization restart 7/10, f = 9.961850065534353\n",
      "Optimization restart 8/10, f = 9.961850065534785\n",
      "Optimization restart 9/10, f = 9.961850065535344\n"
     ]
    },
    {
     "name": "stderr",
     "output_type": "stream",
     "text": [
      "reconstraining parameters GP_regression.Mat52.lengthscale\n",
      "reconstraining parameters GP_regression.Mat52.variance\n",
      "reconstraining parameters GP_regression.Gaussian_noise.variance\n"
     ]
    },
    {
     "name": "stdout",
     "output_type": "stream",
     "text": [
      "Optimization restart 10/10, f = 9.96185006553491\n",
      "Optimization restart 1/10, f = 8.198011690460676\n",
      "Optimization restart 2/10, f = 8.198011690458479\n",
      "Optimization restart 3/10, f = 8.198011690454972\n",
      "Optimization restart 4/10, f = 8.198011690458252\n",
      "Optimization restart 5/10, f = 8.19801169045515\n",
      "Optimization restart 6/10, f = 8.198011690453846\n",
      "Optimization restart 7/10, f = 8.19801169045459\n",
      "Optimization restart 8/10, f = 8.198011690497925\n",
      "Optimization restart 9/10, f = 8.198011690454814\n",
      "Optimization restart 10/10, f = 8.19801169045343\n",
      "(4_w,8)-aCMA-ES (mu_w=2.6,w_1=52%) in dimension 5 (seed=926104, Thu Mar  4 01:52:24 2021)\n",
      "Iterat #Fevals   function value  axis ratio  sigma  min&max std  t[m:s]\n",
      "    1      8 -5.178351398259596e-01 1.0e+00 2.55e-01  2e-01  3e-01 0:00.0\n",
      "    2     16 -5.455125033170185e-01 1.4e+00 2.93e-01  3e-01  4e-01 0:00.0\n",
      "    3     24 -5.526186711502533e-01 1.6e+00 3.23e-01  3e-01  4e-01 0:00.0\n",
      "  100    800 -6.426654202016820e-01 6.0e+01 1.02e-02  8e-05  5e-03 0:00.9\n",
      "  164   1312 -6.426654426556320e-01 5.8e+01 5.37e-05  9e-08  5e-06 0:01.5\n"
     ]
    },
    {
     "name": "stderr",
     "output_type": "stream",
     "text": [
      "reconstraining parameters GP_regression.Mat52.lengthscale\n",
      "reconstraining parameters GP_regression.Mat52.variance\n",
      "reconstraining parameters GP_regression.Gaussian_noise.variance\n"
     ]
    },
    {
     "name": "stdout",
     "output_type": "stream",
     "text": [
      "termination on tolfun=1e-11 (Thu Mar  4 01:52:26 2021)\n",
      "final/bestever f-value = -6.426654e-01 -6.426654e-01\n",
      "incumbent solution: [2.004026590714804e-15, 3.5064215577444955, 3.101230560909244e-13, 7.230948330848436, 9.9999999999966]\n",
      "std deviation: [8.522385170979881e-08, 2.3214893591033234e-06, 4.3811752959871676e-07, 5.187734350299084e-06, 3.863851799125019e-06]\n",
      "Optimization restart 1/10, f = 8.952998159741686\n",
      "Optimization restart 2/10, f = 8.952998159732676\n",
      "Optimization restart 3/10, f = 8.95299815973223\n",
      "Optimization restart 4/10, f = 8.952998159732568\n",
      "Optimization restart 5/10, f = 8.95299815973123\n",
      "Optimization restart 6/10, f = 8.952998159733115\n",
      "Optimization restart 7/10, f = 15.608323865252057\n",
      "Optimization restart 8/10, f = 8.952998159737588\n"
     ]
    },
    {
     "name": "stderr",
     "output_type": "stream",
     "text": [
      "reconstraining parameters GP_regression.Mat52.lengthscale\n",
      "reconstraining parameters GP_regression.Mat52.variance\n",
      "reconstraining parameters GP_regression.Gaussian_noise.variance\n"
     ]
    },
    {
     "name": "stdout",
     "output_type": "stream",
     "text": [
      "Optimization restart 9/10, f = 8.952998159732974\n",
      "Optimization restart 10/10, f = 8.952998159732411\n",
      "Optimization restart 1/10, f = 7.965883958789995\n",
      "Optimization restart 2/10, f = 7.965883958791075\n",
      "Optimization restart 3/10, f = 15.6083238652514\n",
      "Optimization restart 4/10, f = 7.965883958823283\n",
      "Optimization restart 5/10, f = 7.9658839587900365\n",
      "Optimization restart 6/10, f = 7.965883958788644\n",
      "Optimization restart 7/10, f = 7.9658839587914425\n",
      "Optimization restart 8/10, f = 15.60832386525142\n",
      "Optimization restart 9/10, f = 7.965883958795552\n",
      "Optimization restart 10/10, f = 15.608323865252352\n",
      "(4_w,8)-aCMA-ES (mu_w=2.6,w_1=52%) in dimension 5 (seed=933387, Thu Mar  4 01:52:27 2021)\n",
      "Iterat #Fevals   function value  axis ratio  sigma  min&max std  t[m:s]\n",
      "    1      8 -4.594273614835843e-01 1.0e+00 2.47e-01  2e-01  3e-01 0:00.0\n",
      "    2     16 -4.758569093511346e-01 1.2e+00 2.73e-01  3e-01  3e-01 0:00.0\n",
      "    3     24 -5.213982302472253e-01 1.5e+00 3.66e-01  4e-01  4e-01 0:00.0\n",
      "  100    800 -5.682772682663911e-01 6.7e+01 4.37e-03  4e-05  2e-03 0:00.9\n",
      "  157   1256 -5.682772775731512e-01 7.0e+01 1.76e-05  4e-08  3e-06 0:01.4\n"
     ]
    },
    {
     "name": "stderr",
     "output_type": "stream",
     "text": [
      "reconstraining parameters GP_regression.Mat52.lengthscale\n",
      "reconstraining parameters GP_regression.Mat52.variance\n",
      "reconstraining parameters GP_regression.Gaussian_noise.variance\n"
     ]
    },
    {
     "name": "stdout",
     "output_type": "stream",
     "text": [
      "termination on tolfun=1e-11 (Thu Mar  4 01:52:29 2021)\n",
      "final/bestever f-value = -5.682773e-01 -5.682773e-01\n",
      "incumbent solution: [2.708371550896555e-15, 3.166820515454117, 2.3789626515234727e-17, 3.9754172369403484, 7.089342292678177]\n",
      "std deviation: [4.1946435191699187e-08, 6.133846017107013e-07, 2.183963903522571e-07, 1.1550265579173156e-06, 2.528342449070007e-06]\n",
      "Optimization restart 1/10, f = 11.05803910280526\n",
      "Optimization restart 2/10, f = 23.19117092555628\n",
      "Optimization restart 3/10, f = 17.02726239845801\n",
      "Optimization restart 4/10, f = 11.058039102805337\n",
      "Optimization restart 5/10, f = 11.058039102814156\n",
      "Optimization restart 6/10, f = 17.027262398456106\n",
      "Optimization restart 7/10, f = 11.058039102805342\n",
      "Optimization restart 8/10, f = 17.027262398457275\n"
     ]
    },
    {
     "name": "stderr",
     "output_type": "stream",
     "text": [
      "reconstraining parameters GP_regression.Mat52.lengthscale\n",
      "reconstraining parameters GP_regression.Mat52.variance\n",
      "reconstraining parameters GP_regression.Gaussian_noise.variance\n"
     ]
    },
    {
     "name": "stdout",
     "output_type": "stream",
     "text": [
      "Optimization restart 9/10, f = 11.058039102805285\n",
      "Optimization restart 10/10, f = 17.02726239845607\n",
      "Optimization restart 1/10, f = 6.6662109864955506\n",
      "Optimization restart 2/10, f = 17.027229616214782\n",
      "Optimization restart 3/10, f = 6.666210986477433\n",
      "Optimization restart 4/10, f = 6.666210986480745\n",
      "Optimization restart 5/10, f = 6.666210986468345\n",
      "Optimization restart 6/10, f = 6.666210986469775\n",
      "Optimization restart 7/10, f = 6.666210986472063\n",
      "Optimization restart 8/10, f = 6.6662109864814525\n",
      "Optimization restart 9/10, f = 6.666210986473206\n",
      "Optimization restart 10/10, f = 6.666210986465189\n",
      "(4_w,8)-aCMA-ES (mu_w=2.6,w_1=52%) in dimension 5 (seed=882409, Thu Mar  4 01:52:30 2021)\n",
      "Iterat #Fevals   function value  axis ratio  sigma  min&max std  t[m:s]\n",
      "    1      8 -4.566885074398604e-01 1.0e+00 2.47e-01  2e-01  3e-01 0:00.0\n",
      "    2     16 -4.673937760265039e-01 1.2e+00 2.55e-01  2e-01  3e-01 0:00.0\n",
      "    3     24 -4.930889157076444e-01 1.4e+00 2.78e-01  3e-01  3e-01 0:00.0\n",
      "  100    800 -5.750255273744235e-01 2.4e+01 8.72e-03  1e-04  2e-03 0:00.9\n",
      "  158   1264 -5.750255375602430e-01 3.0e+01 9.39e-05  2e-07  6e-06 0:01.4\n"
     ]
    },
    {
     "name": "stderr",
     "output_type": "stream",
     "text": [
      "reconstraining parameters GP_regression.Mat52.lengthscale\n",
      "reconstraining parameters GP_regression.Mat52.variance\n",
      "reconstraining parameters GP_regression.Gaussian_noise.variance\n"
     ]
    },
    {
     "name": "stdout",
     "output_type": "stream",
     "text": [
      "termination on tolfun=1e-11 (Thu Mar  4 01:52:31 2021)\n",
      "final/bestever f-value = -5.750255e-01 -5.750255e-01\n",
      "incumbent solution: [3.0633800008445222e-15, 2.3129679139219315, 2.0321786202723344, 7.999999999981188, 9.999999999995008]\n",
      "std deviation: [2.1668333252951997e-07, 2.8469045300173078e-06, 4.5508392732505195e-06, 5.519265071032154e-06, 5.574819202268166e-06]\n",
      "Optimization restart 1/10, f = 12.992104445247204\n",
      "Optimization restart 2/10, f = 12.992104445235965\n",
      "Optimization restart 3/10, f = 12.992104445235569\n",
      "Optimization restart 4/10, f = 12.992104445235611\n",
      "Optimization restart 5/10, f = 29.449541775015938\n",
      "Optimization restart 6/10, f = 18.446200931660744\n",
      "Optimization restart 7/10, f = 18.446200931660748\n",
      "Optimization restart 8/10, f = 18.446200931660744\n",
      "Optimization restart 9/10, f = 86.78028145396787\n",
      "Optimization restart 10/10, f = 86.78028145396787\n"
     ]
    },
    {
     "name": "stderr",
     "output_type": "stream",
     "text": [
      "reconstraining parameters GP_regression.Mat52.lengthscale\n",
      "reconstraining parameters GP_regression.Mat52.variance\n",
      "reconstraining parameters GP_regression.Gaussian_noise.variance\n"
     ]
    },
    {
     "name": "stdout",
     "output_type": "stream",
     "text": [
      "Optimization restart 1/10, f = 7.930391287985068\n",
      "Optimization restart 2/10, f = 7.930391287987426\n",
      "Optimization restart 3/10, f = 7.930391288000149\n",
      "Optimization restart 4/10, f = 7.930391288028119\n",
      "Optimization restart 5/10, f = 7.930391287985414\n",
      "Optimization restart 6/10, f = 86.78028145396787\n",
      "Optimization restart 7/10, f = 7.930391287990421\n",
      "Optimization restart 8/10, f = 18.446200931660748\n",
      "Optimization restart 9/10, f = 7.9303912879899565\n",
      "Optimization restart 10/10, f = 18.44620093166437\n",
      "(4_w,8)-aCMA-ES (mu_w=2.6,w_1=52%) in dimension 5 (seed=944272, Thu Mar  4 01:52:32 2021)\n",
      "Iterat #Fevals   function value  axis ratio  sigma  min&max std  t[m:s]\n",
      "    1      8 -4.940306047178342e-01 1.0e+00 3.05e-01  3e-01  3e-01 0:00.0\n",
      "    2     16 -5.122847937550397e-01 1.2e+00 4.35e-01  4e-01  5e-01 0:00.0\n",
      "    3     24 -5.212690674898683e-01 1.4e+00 5.38e-01  5e-01  6e-01 0:00.0\n",
      "  100    800 -5.756731542936695e-01 3.7e+02 7.49e-03  5e-05  5e-03 0:00.9\n",
      "  200   1600 -5.756735516463711e-01 1.1e+05 1.57e-04  4e-07  4e-05 0:01.8\n",
      "  234   1872 -5.756735516606375e-01 7.2e+05 1.78e-05  3e-08  3e-06 0:02.1\n"
     ]
    },
    {
     "name": "stderr",
     "output_type": "stream",
     "text": [
      "reconstraining parameters GP_regression.Mat52.lengthscale\n",
      "reconstraining parameters GP_regression.Mat52.variance\n",
      "reconstraining parameters GP_regression.Gaussian_noise.variance\n"
     ]
    },
    {
     "name": "stdout",
     "output_type": "stream",
     "text": [
      "termination on tolfun=1e-11 (Thu Mar  4 01:52:34 2021)\n",
      "final/bestever f-value = -5.756736e-01 -5.756736e-01\n",
      "incumbent solution: [0.23200677484906515, 3.9999999999999636, 1.4990648117251757e-11, 6.985696267857015, 9.999999999995023]\n",
      "std deviation: [3.030266053268831e-08, 1.1364277236140768e-06, 5.412209569664538e-07, 2.935300906836274e-06, 2.1261959417212846e-06]\n",
      "Optimization restart 1/10, f = 13.964143329768099\n",
      "Optimization restart 2/10, f = 19.865139464868236\n",
      "Optimization restart 3/10, f = 93.4556877196577\n",
      "Optimization restart 4/10, f = 19.86513946486546\n",
      "Optimization restart 5/10, f = 13.964143329775073\n",
      "Optimization restart 6/10, f = 19.865139464865432\n",
      "Optimization restart 7/10, f = 13.964143329766165\n",
      "Optimization restart 8/10, f = 19.86513946486542\n"
     ]
    },
    {
     "name": "stderr",
     "output_type": "stream",
     "text": [
      "reconstraining parameters GP_regression.Mat52.lengthscale\n",
      "reconstraining parameters GP_regression.Mat52.variance\n",
      "reconstraining parameters GP_regression.Gaussian_noise.variance\n"
     ]
    },
    {
     "name": "stdout",
     "output_type": "stream",
     "text": [
      "Optimization restart 9/10, f = 13.96414332976596\n",
      "Optimization restart 10/10, f = 93.45568771128703\n",
      "Optimization restart 1/10, f = 12.119307955715104\n",
      "Optimization restart 2/10, f = 19.86513946486559\n",
      "Optimization restart 3/10, f = 19.86513946486542\n",
      "Optimization restart 4/10, f = 19.86513946486542\n",
      "Optimization restart 5/10, f = 12.119307955715973\n",
      "Optimization restart 6/10, f = 12.119307955712564\n",
      "Optimization restart 7/10, f = 19.86513946486542\n",
      "Optimization restart 8/10, f = 12.119307955713314\n",
      "Optimization restart 9/10, f = 12.119307955712875\n",
      "Optimization restart 10/10, f = 12.119307955712634\n",
      "(4_w,8)-aCMA-ES (mu_w=2.6,w_1=52%) in dimension 5 (seed=990452, Thu Mar  4 01:52:35 2021)\n",
      "Iterat #Fevals   function value  axis ratio  sigma  min&max std  t[m:s]\n",
      "    1      8 -4.828499600388900e-01 1.0e+00 2.18e-01  2e-01  2e-01 0:00.0\n",
      "    2     16 -4.914945339089154e-01 1.2e+00 2.20e-01  2e-01  2e-01 0:00.0\n",
      "    3     24 -4.918727705051693e-01 1.4e+00 2.27e-01  2e-01  2e-01 0:00.0\n",
      "  100    800 -5.649619547573350e-01 3.7e+01 1.88e-02  4e-04  1e-02 0:00.9\n",
      "  167   1336 -5.649620429883357e-01 6.0e+01 1.61e-05  4e-08  2e-06 0:01.5\n"
     ]
    },
    {
     "name": "stderr",
     "output_type": "stream",
     "text": [
      "reconstraining parameters GP_regression.Mat52.lengthscale\n",
      "reconstraining parameters GP_regression.Mat52.variance\n",
      "reconstraining parameters GP_regression.Gaussian_noise.variance\n"
     ]
    },
    {
     "name": "stdout",
     "output_type": "stream",
     "text": [
      "termination on tolfun=1e-11 (Thu Mar  4 01:52:37 2021)\n",
      "final/bestever f-value = -5.649620e-01 -5.649620e-01\n",
      "incumbent solution: [4.494346254482786e-15, 3.046032839580256, 6.766304770149095e-16, 6.869705071426759, 9.999999999999455]\n",
      "std deviation: [4.286447704137656e-08, 2.2718361396162963e-07, 1.7824944255096278e-07, 6.393719674978463e-07, 2.3886406249655145e-06]\n",
      "Optimization restart 1/10, f = 13.587162995768034\n",
      "Optimization restart 2/10, f = 13.587162995768818\n",
      "Optimization restart 3/10, f = 13.587162995768189\n",
      "Optimization restart 4/10, f = 13.587162995778076\n",
      "Optimization restart 5/10, f = 100.13109398534114\n",
      "Optimization restart 6/10, f = 100.13109398534753\n",
      "Optimization restart 7/10, f = 32.39453151722702\n",
      "Optimization restart 8/10, f = 21.28407799807009\n",
      "Optimization restart 9/10, f = 13.587162995768537\n",
      "Optimization restart 10/10, f = 13.587162995770678\n"
     ]
    },
    {
     "name": "stderr",
     "output_type": "stream",
     "text": [
      "reconstraining parameters GP_regression.Mat52.lengthscale\n",
      "reconstraining parameters GP_regression.Mat52.variance\n",
      "reconstraining parameters GP_regression.Gaussian_noise.variance\n"
     ]
    },
    {
     "name": "stdout",
     "output_type": "stream",
     "text": [
      "Optimization restart 1/10, f = 11.286097471640911\n",
      "Optimization restart 2/10, f = 11.28609747164047\n",
      "Optimization restart 3/10, f = 11.2860974716408\n",
      "Optimization restart 4/10, f = 100.13109336565482\n",
      "Optimization restart 5/10, f = 11.286097471640508\n",
      "Optimization restart 6/10, f = 11.28609747164047\n",
      "Optimization restart 7/10, f = 11.28609747164092\n",
      "Optimization restart 8/10, f = 21.28407799807009\n",
      "Optimization restart 9/10, f = 11.286097471689693\n",
      "Optimization restart 10/10, f = 21.28407799807009\n",
      "(4_w,8)-aCMA-ES (mu_w=2.6,w_1=52%) in dimension 5 (seed=887469, Thu Mar  4 01:52:38 2021)\n",
      "Iterat #Fevals   function value  axis ratio  sigma  min&max std  t[m:s]\n",
      "    1      8 -4.764886552959479e-01 1.0e+00 2.65e-01  3e-01  3e-01 0:00.0\n",
      "    2     16 -4.814575487014938e-01 1.4e+00 3.17e-01  3e-01  4e-01 0:00.0\n",
      "    3     24 -4.974471891316726e-01 1.7e+00 4.02e-01  4e-01  5e-01 0:00.0\n",
      "  100    800 -5.686016379266917e-01 2.5e+01 2.43e-02  5e-04  1e-02 0:01.0\n",
      "  163   1304 -5.686016714118889e-01 2.7e+01 3.00e-05  9e-08  2e-06 0:01.5\n"
     ]
    },
    {
     "name": "stderr",
     "output_type": "stream",
     "text": [
      "reconstraining parameters GP_regression.Mat52.lengthscale\n",
      "reconstraining parameters GP_regression.Mat52.variance\n",
      "reconstraining parameters GP_regression.Gaussian_noise.variance\n"
     ]
    },
    {
     "name": "stdout",
     "output_type": "stream",
     "text": [
      "termination on tolfun=1e-11 (Thu Mar  4 01:52:40 2021)\n",
      "final/bestever f-value = -5.686017e-01 -5.686017e-01\n",
      "incumbent solution: [1.1881517711039472e-15, 3.855467483300176, 6.731182685798295e-14, 7.999999999999833, 8.585869361489552]\n",
      "std deviation: [8.528403699560738e-08, 7.611526625224675e-07, 4.736003427783867e-07, 1.287990258573503e-06, 2.1800039619726604e-06]\n",
      "Optimization restart 1/10, f = 12.834207344985913\n",
      "Optimization restart 2/10, f = 12.834207344975756\n",
      "Optimization restart 3/10, f = 13979798.60537577\n",
      "Optimization restart 4/10, f = 12.834207344975761\n",
      "Optimization restart 5/10, f = 12.834207344975818\n",
      "Optimization restart 6/10, f = 12.834207344975523\n",
      "Optimization restart 7/10, f = 12.834207344975676\n",
      "Optimization restart 8/10, f = 12.834207344978074\n"
     ]
    },
    {
     "name": "stderr",
     "output_type": "stream",
     "text": [
      "reconstraining parameters GP_regression.Mat52.lengthscale\n",
      "reconstraining parameters GP_regression.Mat52.variance\n",
      "reconstraining parameters GP_regression.Gaussian_noise.variance\n"
     ]
    },
    {
     "name": "stdout",
     "output_type": "stream",
     "text": [
      "Optimization restart 9/10, f = 12.834207345007957\n",
      "Optimization restart 10/10, f = 12.834207344975662\n",
      "Optimization restart 1/10, f = 10.838460369644666\n",
      "Optimization restart 2/10, f = 10.838460369483691\n",
      "Optimization restart 3/10, f = 10.838460369483535\n",
      "Optimization restart 4/10, f = 22.703016531278237\n",
      "Optimization restart 5/10, f = 10.838460369485125\n",
      "Optimization restart 6/10, f = 10.838460369483968\n",
      "Optimization restart 7/10, f = 10.83846036948772\n",
      "Optimization restart 8/10, f = 10.838460369484054\n",
      "Optimization restart 9/10, f = 22.70301653128059\n",
      "Optimization restart 10/10, f = 22.703016531274763\n",
      "(4_w,8)-aCMA-ES (mu_w=2.6,w_1=52%) in dimension 5 (seed=866890, Thu Mar  4 01:52:41 2021)\n",
      "Iterat #Fevals   function value  axis ratio  sigma  min&max std  t[m:s]\n",
      "    1      8 -5.387696765555315e-01 1.0e+00 2.60e-01  2e-01  3e-01 0:00.0\n",
      "    2     16 -5.414917347297614e-01 1.3e+00 3.16e-01  3e-01  3e-01 0:00.0\n",
      "    3     24 -5.411674950179619e-01 1.5e+00 3.82e-01  3e-01  4e-01 0:00.0\n",
      "  100    800 -5.553544824287121e-01 3.0e+01 7.47e-04  7e-06  2e-04 0:00.9\n",
      "  142   1136 -5.553544824987402e-01 2.5e+01 2.57e-05  9e-08  2e-06 0:01.2\n"
     ]
    },
    {
     "name": "stderr",
     "output_type": "stream",
     "text": [
      "reconstraining parameters GP_regression.Mat52.lengthscale\n",
      "reconstraining parameters GP_regression.Mat52.variance\n",
      "reconstraining parameters GP_regression.Gaussian_noise.variance\n"
     ]
    },
    {
     "name": "stdout",
     "output_type": "stream",
     "text": [
      "termination on tolfun=1e-11 (Thu Mar  4 01:52:42 2021)\n",
      "final/bestever f-value = -5.553545e-01 -5.553545e-01\n",
      "incumbent solution: [1.0130419747445907e-15, 2.6845232777845993, 2.5418520574019086, 3.8827593539015037, 6.1576428576841105]\n",
      "std deviation: [8.92054396466803e-08, 6.443056367825137e-07, 7.170623240647525e-07, 1.5742056391989216e-06, 2.036207948501277e-06]\n",
      "Optimization restart 1/10, f = 12.735728257963583\n",
      "Optimization restart 2/10, f = 12.735728257767189\n",
      "Optimization restart 3/10, f = 23394075.314122714\n",
      "Optimization restart 4/10, f = 24.121955064479437\n",
      "Optimization restart 5/10, f = 24.121955064479437\n",
      "Optimization restart 6/10, f = 24.121955064479437\n",
      "Optimization restart 7/10, f = 12.735728257766173\n",
      "Optimization restart 8/10, f = 12.735728257765874\n"
     ]
    },
    {
     "name": "stderr",
     "output_type": "stream",
     "text": [
      "reconstraining parameters GP_regression.Mat52.lengthscale\n",
      "reconstraining parameters GP_regression.Mat52.variance\n",
      "reconstraining parameters GP_regression.Gaussian_noise.variance\n"
     ]
    },
    {
     "name": "stdout",
     "output_type": "stream",
     "text": [
      "Optimization restart 9/10, f = 12.7357282577665\n",
      "Optimization restart 10/10, f = 12.735728257771349\n",
      "Optimization restart 1/10, f = 12.959578439694576\n",
      "Optimization restart 2/10, f = 12.959578439734898\n",
      "Optimization restart 3/10, f = 113.48190651672722\n",
      "Optimization restart 4/10, f = 12.959578439695747\n",
      "Optimization restart 5/10, f = 12.959578439695285\n",
      "Optimization restart 6/10, f = 12.959578439700403\n",
      "Optimization restart 7/10, f = 113.48190012608624\n",
      "Optimization restart 8/10, f = 24.12195506447977\n",
      "Optimization restart 9/10, f = 16594697.422638346\n",
      "Optimization restart 10/10, f = 12.959578439695658\n",
      "(4_w,8)-aCMA-ES (mu_w=2.6,w_1=52%) in dimension 5 (seed=926688, Thu Mar  4 01:52:45 2021)\n",
      "Iterat #Fevals   function value  axis ratio  sigma  min&max std  t[m:s]\n",
      "    1      8 -4.558684541719216e-01 1.0e+00 2.59e-01  2e-01  3e-01 0:00.0\n",
      "    2     16 -4.748000795399683e-01 1.4e+00 2.66e-01  2e-01  3e-01 0:00.0\n",
      "    3     24 -5.002280865494936e-01 1.6e+00 3.19e-01  3e-01  4e-01 0:00.0\n",
      "  100    800 -5.674787343400756e-01 1.6e+01 1.57e-03  3e-05  4e-04 0:00.9\n",
      "  145   1160 -5.674787346340825e-01 1.8e+01 2.41e-05  1e-07  2e-06 0:01.3\n"
     ]
    },
    {
     "name": "stderr",
     "output_type": "stream",
     "text": [
      "reconstraining parameters GP_regression.Mat52.lengthscale\n",
      "reconstraining parameters GP_regression.Mat52.variance\n",
      "reconstraining parameters GP_regression.Gaussian_noise.variance\n"
     ]
    },
    {
     "name": "stdout",
     "output_type": "stream",
     "text": [
      "termination on tolfun=1e-11 (Thu Mar  4 01:52:46 2021)\n",
      "final/bestever f-value = -5.674787e-01 -5.674787e-01\n",
      "incumbent solution: [2.816841831339176e-15, 2.7043501461584603, 2.897260277183242, 3.3741214058097615, 4.351859404832619]\n",
      "std deviation: [1.194678636899313e-07, 8.33070872715042e-07, 1.1166783048541261e-06, 1.698074346147143e-06, 1.9028657155515604e-06]\n",
      "Optimization restart 1/10, f = 11.487610637564277\n",
      "Optimization restart 2/10, f = 120.15713583364443\n",
      "Optimization restart 3/10, f = 25.540893597684192\n",
      "Optimization restart 4/10, f = 25.54089359768411\n",
      "Optimization restart 5/10, f = 25.54089359768411\n",
      "Optimization restart 6/10, f = 11.48761063758912\n",
      "Optimization restart 7/10, f = 25.540893597684107\n",
      "Optimization restart 8/10, f = 11.487610637529686\n"
     ]
    },
    {
     "name": "stderr",
     "output_type": "stream",
     "text": [
      "reconstraining parameters GP_regression.Mat52.lengthscale\n",
      "reconstraining parameters GP_regression.Mat52.variance\n",
      "reconstraining parameters GP_regression.Gaussian_noise.variance\n"
     ]
    },
    {
     "name": "stdout",
     "output_type": "stream",
     "text": [
      "Optimization restart 9/10, f = 11.487610637529324\n",
      "Optimization restart 10/10, f = 11.48761063752962\n",
      "Optimization restart 1/10, f = 12.696998718205247\n",
      "Optimization restart 2/10, f = 12.696998718065137\n",
      "Optimization restart 3/10, f = 25.54089359768411\n",
      "Optimization restart 4/10, f = 120.15731278241705\n",
      "Optimization restart 5/10, f = 12.696998718065243\n",
      "Optimization restart 6/10, f = 120.15730841242879\n",
      "Optimization restart 7/10, f = 120.15731278241705\n",
      "Optimization restart 8/10, f = 12.696998718090287\n",
      "Optimization restart 9/10, f = 120.15731268112509\n",
      "Optimization restart 10/10, f = 899013.832660814\n",
      "(4_w,8)-aCMA-ES (mu_w=2.6,w_1=52%) in dimension 5 (seed=946364, Thu Mar  4 01:52:48 2021)\n",
      "Iterat #Fevals   function value  axis ratio  sigma  min&max std  t[m:s]\n",
      "    1      8 -5.288300698547770e-01 1.0e+00 2.17e-01  2e-01  2e-01 0:00.0\n",
      "    2     16 -5.408558277298243e-01 1.3e+00 2.46e-01  2e-01  3e-01 0:00.0\n",
      "    3     24 -5.450480005548185e-01 1.6e+00 2.57e-01  2e-01  3e-01 0:00.0\n",
      "  100    800 -5.624812059364159e-01 2.3e+01 9.10e-04  9e-06  2e-04 0:00.9\n",
      "  142   1136 -5.624812061459792e-01 3.3e+01 3.13e-05  1e-07  3e-06 0:01.3\n"
     ]
    },
    {
     "name": "stderr",
     "output_type": "stream",
     "text": [
      "reconstraining parameters GP_regression.Mat52.lengthscale\n",
      "reconstraining parameters GP_regression.Mat52.variance\n",
      "reconstraining parameters GP_regression.Gaussian_noise.variance\n"
     ]
    },
    {
     "name": "stdout",
     "output_type": "stream",
     "text": [
      "termination on tolfun=1e-11 (Thu Mar  4 01:52:50 2021)\n",
      "final/bestever f-value = -5.624812e-01 -5.624812e-01\n",
      "incumbent solution: [1.9570035024243828e-14, 2.3746945418775915, 2.773987857408888, 3.3939301742291894, 4.3861104645186995]\n",
      "std deviation: [9.67824201521362e-08, 1.0133675951851392e-06, 1.499712214740624e-06, 2.714498115925766e-06, 2.6842886213863618e-06]\n",
      "Optimization restart 1/10, f = 10.927319980061153\n",
      "Optimization restart 2/10, f = 10.927319980054104\n",
      "Optimization restart 3/10, f = 10.927319980060956\n",
      "Optimization restart 4/10, f = 41642667.57019865\n",
      "Optimization restart 5/10, f = 10.927319980054122\n",
      "Optimization restart 6/10, f = 29.815449336810875\n",
      "Optimization restart 7/10, f = 41478927.5780711\n",
      "Optimization restart 8/10, f = 29.81545005351521\n",
      "Optimization restart 9/10, f = 26.95983213088878\n"
     ]
    },
    {
     "name": "stderr",
     "output_type": "stream",
     "text": [
      "reconstraining parameters GP_regression.Mat52.lengthscale\n",
      "reconstraining parameters GP_regression.Mat52.variance\n",
      "reconstraining parameters GP_regression.Gaussian_noise.variance\n"
     ]
    },
    {
     "name": "stdout",
     "output_type": "stream",
     "text": [
      "Optimization restart 10/10, f = 126.8327190481069\n",
      "Optimization restart 1/10, f = 12.508986049908302\n",
      "Optimization restart 2/10, f = 12.508986049899178\n",
      "Optimization restart 3/10, f = 12.508986049898775\n",
      "Optimization restart 4/10, f = 26.95983213088883\n",
      "Optimization restart 5/10, f = 41117693.97043381\n",
      "Optimization restart 6/10, f = 948959.0455864149\n",
      "Optimization restart 7/10, f = 12.508986049898471\n",
      "Optimization restart 8/10, f = 26.959832130888863\n",
      "Optimization restart 9/10, f = 29.250525499849918\n",
      "Optimization restart 10/10, f = 126.8327190481069\n",
      "(4_w,8)-aCMA-ES (mu_w=2.6,w_1=52%) in dimension 5 (seed=851714, Thu Mar  4 01:52:52 2021)\n",
      "Iterat #Fevals   function value  axis ratio  sigma  min&max std  t[m:s]\n",
      "    1      8 -5.196124295086707e-01 1.0e+00 2.48e-01  2e-01  3e-01 0:00.0\n",
      "    2     16 -5.436722294383707e-01 1.3e+00 3.01e-01  3e-01  3e-01 0:00.0\n",
      "    3     24 -5.444668944657556e-01 1.3e+00 3.65e-01  3e-01  4e-01 0:00.0\n",
      "  100    800 -5.696706832891802e-01 1.9e+01 1.21e-03  2e-05  3e-04 0:00.9\n",
      "  145   1160 -5.696706841892025e-01 1.6e+01 2.39e-05  9e-08  2e-06 0:01.3\n",
      "termination on tolfun=1e-11 (Thu Mar  4 01:52:53 2021)\n",
      "final/bestever f-value = -5.696707e-01 -5.696707e-01\n",
      "incumbent solution: [1.2980240348591417e-14, 1.6951891545756093, 2.8806513051310016, 3.3431882956248873, 3.962130883969917]\n",
      "std deviation: [9.222167861222901e-08, 5.814596387010414e-07, 8.921867916954292e-07, 1.159087620053069e-06, 1.5114565571333026e-06]\n"
     ]
    }
   ],
   "source": [
    "opt.optimise()"
   ]
  },
  {
   "cell_type": "code",
   "execution_count": 25,
   "metadata": {},
   "outputs": [
    {
     "data": {
      "text/plain": [
       "array([[2.23105746, 2.71671717],\n",
       "       [0.92328464, 4.58534791],\n",
       "       [2.33264411, 1.83003072],\n",
       "       [2.4696519 , 1.28934809],\n",
       "       [2.70294906, 0.76367015],\n",
       "       [1.2512684 , 3.85993907],\n",
       "       [0.92246358, 4.32133859],\n",
       "       [2.15762745, 3.17691818],\n",
       "       [1.93040237, 3.36995734],\n",
       "       [1.33928525, 4.37816105],\n",
       "       [0.5097085 , 4.5097085 ],\n",
       "       [0.73562253, 4.73562253],\n",
       "       [0.94873708, 4.94873708],\n",
       "       [0.85995134, 4.43130635],\n",
       "       [0.60519166, 4.60519166],\n",
       "       [0.51433826, 4.51433826],\n",
       "       [0.39102363, 4.39102363],\n",
       "       [0.3441894 , 4.3441894 ],\n",
       "       [0.24352184, 4.24352184],\n",
       "       [0.12818273, 4.12818273]])"
      ]
     },
     "execution_count": 25,
     "metadata": {},
     "output_type": "execute_result"
    }
   ],
   "source": [
    "opt.y"
   ]
  },
  {
   "cell_type": "code",
   "execution_count": 26,
   "metadata": {},
   "outputs": [
    {
     "data": {
      "text/plain": [
       "<matplotlib.collections.PathCollection at 0x7fc35c5f2280>"
      ]
     },
     "execution_count": 26,
     "metadata": {},
     "output_type": "execute_result"
    },
    {
     "data": {
      "image/png": "[encoded data removed]",
      "text/plain": [
       "<Figure size 432x288 with 1 Axes>"
      ]
     },
     "metadata": {
      "needs_background": "light"
     },
     "output_type": "display_data"
    }
   ],
   "source": [
    "plt.scatter(*opt.y[:10].T)\n",
    "plt.scatter(*opt.y[10:].T, c=\"C3\")\n",
    "plt.scatter(*opt.targets.T, c=\"magenta\")\n"
   ]
  },
  {
   "cell_type": "code",
   "execution_count": null,
   "metadata": {},
   "outputs": [],
   "source": []
  }
 ],
 "metadata": {
  "kernelspec": {
   "display_name": "testsuite",
   "language": "python",
   "name": "testsuite"
  },
  "language_info": {
   "codemirror_mode": {
    "name": "ipython",
    "version": 3
   },
   "file_extension": ".py",
   "mimetype": "text/x-python",
   "name": "python",
   "nbconvert_exporter": "python",
   "pygments_lexer": "ipython3",
   "version": "3.8.3"
  }
 },
 "nbformat": 4,
 "nbformat_minor": 4
}
