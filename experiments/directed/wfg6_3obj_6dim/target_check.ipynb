{
 "cells": [
  {
   "cell_type": "code",
   "execution_count": 1,
   "metadata": {},
   "outputs": [],
   "source": [
    "import os\n",
    "import sys\n",
    "import rootpath\n",
    "sys.path.append(rootpath.detect())\n",
    "\n",
    "from testsuite.utilities import Pareto_split\n",
    "from testsuite.analysis import load_all #, plot_all_pareto_2d, PLOT_STYLE, plot_measure\n",
    "from problem_setup import func, y, weighting, n_obj, n_dim\n",
    "\n",
    "import pickle\n",
    "import numpy as np\n",
    "import matplotlib\n",
    "import matplotlib.pyplot as plt\n",
    "import wfg"
   ]
  },
  {
   "cell_type": "code",
   "execution_count": 2,
   "metadata": {},
   "outputs": [],
   "source": [
    "M = 2                                   # Number of objectives\n",
    "kfactor = 1\n",
    "lfactor = 2\n",
    "k = kfactor*(M-1)   # position related params\n",
    "l = lfactor*2           # distance related params\n",
    "\n",
    "n_dim = k+l\n",
    "n_obj = M\n",
    "func = wfg.WFG6"
   ]
  },
  {
   "cell_type": "code",
   "execution_count": 3,
   "metadata": {},
   "outputs": [],
   "source": [
    "N = 500\n",
    "y = np.zeros((N, n_obj))\n",
    "x = np.zeros((N, n_dim))\n",
    "for n in range(N):\n",
    "    z = wfg.random_soln(k, l, func.__name__)\n",
    "    y[n,:] = func(z, k, M)\n",
    "    x[n,:] = z"
   ]
  },
  {
   "cell_type": "code",
   "execution_count": 4,
   "metadata": {},
   "outputs": [
    {
     "data": {
      "text/plain": [
       "(3, 2)"
      ]
     },
     "execution_count": 4,
     "metadata": {},
     "output_type": "execute_result"
    }
   ],
   "source": [
    "targets = np.array([[1.79, 1.79],[1.79*0.8, 1.79*0.8],[1.79*1.1, 1.79*1.1]])\n",
    "targets.shape"
   ]
  },
  {
   "cell_type": "code",
   "execution_count": 5,
   "metadata": {},
   "outputs": [
    {
     "data": {
      "text/plain": [
       "<matplotlib.collections.PathCollection at 0x7f72889149a0>"
      ]
     },
     "execution_count": 5,
     "metadata": {},
     "output_type": "execute_result"
    },
    {
     "data": {
      "image/png": "[encoded data removed]",
      "text/plain": [
       "<Figure size 432x288 with 1 Axes>"
      ]
     },
     "metadata": {
      "needs_background": "light"
     },
     "output_type": "display_data"
    }
   ],
   "source": [
    "# plt.figure(figsize=[10, 10])\n",
    "plt.scatter(*y.T, s=2)\n",
    "plt.scatter(*targets.T, c=\"magenta\")"
   ]
  },
  {
   "cell_type": "code",
   "execution_count": 6,
   "metadata": {},
   "outputs": [],
   "source": [
    "from problem_setup import func, objective_function, limits\n",
    "from testsuite.surrogates import GP, MultiSurrogate\n",
    "from testsuite.directed_optimisers import DirectedSaf"
   ]
  },
  {
   "cell_type": "code",
   "execution_count": 7,
   "metadata": {},
   "outputs": [],
   "source": [
    "multi_surrogate = MultiSurrogate(GP, scaled=True)\n",
    "budget=20\n",
    "seed = 0\n",
    "opt = DirectedSaf(objective_function=objective_function, ei=False,  targets=[[0.5, 4.]], w=0.5, limits=limits, surrogate=multi_surrogate, n_initial=10, budget=budget, seed=seed)"
   ]
  },
  {
   "cell_type": "code",
   "execution_count": 9,
   "metadata": {},
   "outputs": [
    {
     "name": "stderr",
     "output_type": "stream",
     "text": [
      "reconstraining parameters GP_regression.Mat52.lengthscale\n",
      "reconstraining parameters GP_regression.Mat52.variance\n",
      "reconstraining parameters GP_regression.Gaussian_noise.variance\n"
     ]
    },
    {
     "name": "stdout",
     "output_type": "stream",
     "text": [
      "Optimization restart 1/10, f = 9.96185006553449\n",
      "Optimization restart 2/10, f = 14.18938533204673\n",
      "Optimization restart 3/10, f = 9.961850065535945\n",
      "Optimization restart 4/10, f = 9.961850065537117\n",
      "Optimization restart 5/10, f = 9.961850065536447\n",
      "Optimization restart 6/10, f = 9.96185006553496\n",
      "Optimization restart 7/10, f = 9.961850065534353\n",
      "Optimization restart 8/10, f = 9.961850065534785\n",
      "Optimization restart 9/10, f = 9.961850065535344\n"
     ]
    },
    {
     "name": "stderr",
     "output_type": "stream",
     "text": [
      "reconstraining parameters GP_regression.Mat52.lengthscale\n",
      "reconstraining parameters GP_regression.Mat52.variance\n",
      "reconstraining parameters GP_regression.Gaussian_noise.variance\n"
     ]
    },
    {
     "name": "stdout",
     "output_type": "stream",
     "text": [
      "Optimization restart 10/10, f = 9.96185006553491\n",
      "Optimization restart 1/10, f = 8.198011690460676\n",
      "Optimization restart 2/10, f = 8.198011690458479\n",
      "Optimization restart 3/10, f = 8.198011690454972\n",
      "Optimization restart 4/10, f = 8.198011690458252\n",
      "Optimization restart 5/10, f = 8.19801169045515\n",
      "Optimization restart 6/10, f = 8.198011690453846\n",
      "Optimization restart 7/10, f = 8.19801169045459\n",
      "Optimization restart 8/10, f = 8.198011690497925\n",
      "Optimization restart 9/10, f = 8.198011690454814\n",
      "Optimization restart 10/10, f = 8.19801169045343\n",
      "(4_w,8)-aCMA-ES (mu_w=2.6,w_1=52%) in dimension 5 (seed=1080835, Fri Mar  5 17:42:15 2021)\n",
      "Iterat #Fevals   function value  axis ratio  sigma  min&max std  t[m:s]\n",
      "    1      8 -5.068071166801142e-01 1.0e+00 2.25e-01  2e-01  2e-01 0:00.0\n",
      "    2     16 -5.171297661021504e-01 1.3e+00 2.49e-01  2e-01  3e-01 0:00.0\n",
      "    3     24 -5.290778111597541e-01 1.6e+00 2.80e-01  2e-01  3e-01 0:00.0\n",
      "  100    800 -6.426650668870570e-01 7.3e+01 2.62e-02  2e-04  2e-02 0:01.3\n",
      "  172   1376 -6.426654426556253e-01 7.1e+01 5.06e-05  9e-08  5e-06 0:02.1\n"
     ]
    },
    {
     "name": "stderr",
     "output_type": "stream",
     "text": [
      "reconstraining parameters GP_regression.Mat52.lengthscale\n",
      "reconstraining parameters GP_regression.Mat52.variance\n",
      "reconstraining parameters GP_regression.Gaussian_noise.variance\n"
     ]
    },
    {
     "name": "stdout",
     "output_type": "stream",
     "text": [
      "termination on tolfun=1e-11 (Fri Mar  5 17:42:17 2021)\n",
      "final/bestever f-value = -6.426654e-01 -6.426654e-01\n",
      "incumbent solution: [1.9955032328588658e-16, 3.506420889328891, 1.1546184276161913e-13, 7.230948861862436, 9.999999999999647]\n",
      "std deviation: [8.838516298992771e-08, 1.9052803574560874e-06, 3.3697706988019333e-07, 5.341962135745568e-06, 3.6375793289831004e-06]\n",
      "Optimization restart 1/10, f = 8.952996342365234\n",
      "Optimization restart 2/10, f = 8.952996342355316\n",
      "Optimization restart 3/10, f = 15.608323865251414\n",
      "Optimization restart 4/10, f = 8.952996342354178\n",
      "Optimization restart 5/10, f = 8.952996342354338\n",
      "Optimization restart 6/10, f = 15.608323865251466\n",
      "Optimization restart 7/10, f = 15.608323865254846\n"
     ]
    },
    {
     "name": "stderr",
     "output_type": "stream",
     "text": [
      "reconstraining parameters GP_regression.Mat52.lengthscale\n",
      "reconstraining parameters GP_regression.Mat52.variance\n",
      "reconstraining parameters GP_regression.Gaussian_noise.variance\n"
     ]
    },
    {
     "name": "stdout",
     "output_type": "stream",
     "text": [
      "Optimization restart 8/10, f = 15.6083238652514\n",
      "Optimization restart 9/10, f = 8.952996342354925\n",
      "Optimization restart 10/10, f = 8.952996342354883\n",
      "Optimization restart 1/10, f = 7.9658839540295245\n",
      "Optimization restart 2/10, f = 7.965883954028261\n",
      "Optimization restart 3/10, f = 7.965883954028265\n",
      "Optimization restart 4/10, f = 7.9658839540298585\n",
      "Optimization restart 5/10, f = 7.9658839540292785\n",
      "Optimization restart 6/10, f = 7.965883954067954\n",
      "Optimization restart 7/10, f = 15.608323865251432\n",
      "Optimization restart 8/10, f = 7.965883954042898\n",
      "Optimization restart 9/10, f = 7.965883954029276\n",
      "Optimization restart 10/10, f = 7.965883954032383\n",
      "(4_w,8)-aCMA-ES (mu_w=2.6,w_1=52%) in dimension 5 (seed=1132153, Fri Mar  5 17:42:18 2021)\n",
      "Iterat #Fevals   function value  axis ratio  sigma  min&max std  t[m:s]\n",
      "    1      8 -4.770178982119739e-01 1.0e+00 2.51e-01  2e-01  3e-01 0:00.0\n",
      "    2     16 -4.702664189128412e-01 1.4e+00 2.21e-01  2e-01  2e-01 0:00.0\n",
      "    3     24 -4.675875257472347e-01 1.4e+00 1.99e-01  2e-01  2e-01 0:00.1\n",
      "  100    800 -5.651683661267795e-01 7.3e+02 2.16e-02  4e-04  2e-02 0:01.2\n",
      "  200   1600 -5.651691160438765e-01 1.2e+05 9.24e-05  6e-07  3e-05 0:02.5\n",
      "  220   1760 -5.651691160465311e-01 3.5e+05 5.69e-05  4e-07  2e-05 0:02.8\n"
     ]
    },
    {
     "name": "stderr",
     "output_type": "stream",
     "text": [
      "reconstraining parameters GP_regression.Mat52.lengthscale\n",
      "reconstraining parameters GP_regression.Mat52.variance\n",
      "reconstraining parameters GP_regression.Gaussian_noise.variance\n"
     ]
    },
    {
     "name": "stdout",
     "output_type": "stream",
     "text": [
      "termination on tolfun=1e-11 (Fri Mar  5 17:42:21 2021)\n",
      "final/bestever f-value = -5.651691e-01 -5.651691e-01\n",
      "incumbent solution: [0.18961458978140827, 1.781133494266498, 1.9934047025434016e-11, 6.658737163482112, 9.999999999891337]\n",
      "std deviation: [3.54619688001364e-07, 1.1952259649865038e-05, 1.3691017380151783e-06, 1.8939387394518034e-05, 6.768992106271394e-06]\n",
      "Optimization restart 1/10, f = 12.271675828811802\n",
      "Optimization restart 2/10, f = 12.271675828810782\n",
      "Optimization restart 3/10, f = 12.271675828811546\n",
      "Optimization restart 4/10, f = 80.10486569337087\n",
      "Optimization restart 5/10, f = 17.027262398477767\n",
      "Optimization restart 6/10, f = 17.027255993347804\n",
      "Optimization restart 7/10, f = 12.27167582881107\n",
      "Optimization restart 8/10, f = 12.271675829424861\n"
     ]
    },
    {
     "name": "stderr",
     "output_type": "stream",
     "text": [
      "reconstraining parameters GP_regression.Mat52.lengthscale\n",
      "reconstraining parameters GP_regression.Mat52.variance\n",
      "reconstraining parameters GP_regression.Gaussian_noise.variance\n"
     ]
    },
    {
     "name": "stdout",
     "output_type": "stream",
     "text": [
      "Optimization restart 9/10, f = 12.271675828810576\n",
      "Optimization restart 10/10, f = 12.271675828810881\n",
      "Optimization restart 1/10, f = 10.703362527003339\n",
      "Optimization restart 2/10, f = 10.703362527005517\n",
      "Optimization restart 3/10, f = 10.703362527003211\n",
      "Optimization restart 4/10, f = 80.10487518827804\n",
      "Optimization restart 5/10, f = 17.02726239845958\n",
      "Optimization restart 6/10, f = 10.70336252700347\n",
      "Optimization restart 7/10, f = 17.027262398456156\n",
      "Optimization restart 8/10, f = 17.027262398460206\n",
      "Optimization restart 9/10, f = 10.703362527003506\n",
      "Optimization restart 10/10, f = 17.027262398456223\n",
      "(4_w,8)-aCMA-ES (mu_w=2.6,w_1=52%) in dimension 5 (seed=1014645, Fri Mar  5 17:42:23 2021)\n",
      "Iterat #Fevals   function value  axis ratio  sigma  min&max std  t[m:s]\n",
      "    1      8 -5.293243951202549e-01 1.0e+00 2.42e-01  2e-01  2e-01 0:00.0\n",
      "    2     16 -5.346413715162617e-01 1.3e+00 2.31e-01  2e-01  2e-01 0:00.0\n",
      "    3     24 -5.510669423539074e-01 1.3e+00 2.72e-01  2e-01  3e-01 0:00.0\n",
      "  100    800 -5.844519072257961e-01 4.7e+01 3.37e-03  5e-05  2e-03 0:01.1\n",
      "  158   1264 -5.844519112523150e-01 3.4e+01 2.30e-05  8e-08  2e-06 0:01.7\n"
     ]
    },
    {
     "name": "stderr",
     "output_type": "stream",
     "text": [
      "reconstraining parameters GP_regression.Mat52.lengthscale\n",
      "reconstraining parameters GP_regression.Mat52.variance\n",
      "reconstraining parameters GP_regression.Gaussian_noise.variance\n"
     ]
    },
    {
     "name": "stdout",
     "output_type": "stream",
     "text": [
      "termination on tolfun=1e-11 (Fri Mar  5 17:42:25 2021)\n",
      "final/bestever f-value = -5.844519e-01 -5.844519e-01\n",
      "incumbent solution: [9.463190395514593e-16, 3.9999999999999734, 9.707331705291482e-14, 4.045932248182913, 7.735811234227311]\n",
      "std deviation: [7.91488963427438e-08, 4.2353513552944634e-07, 4.5805895460376263e-07, 2.011284124453938e-06, 2.4648110645909554e-06]\n",
      "Optimization restart 1/10, f = 13.835495059493727\n",
      "Optimization restart 2/10, f = 13.835495059493324\n",
      "Optimization restart 3/10, f = 13.835495059493425\n",
      "Optimization restart 4/10, f = 18.446200872414657\n",
      "Optimization restart 5/10, f = 86.78028029114566\n",
      "Optimization restart 6/10, f = 86.78028145396787\n"
     ]
    },
    {
     "name": "stderr",
     "output_type": "stream",
     "text": [
      "reconstraining parameters GP_regression.Mat52.lengthscale\n",
      "reconstraining parameters GP_regression.Mat52.variance\n",
      "reconstraining parameters GP_regression.Gaussian_noise.variance\n"
     ]
    },
    {
     "name": "stdout",
     "output_type": "stream",
     "text": [
      "Optimization restart 7/10, f = 13.835495059503595\n",
      "Optimization restart 8/10, f = 13.835495059493361\n",
      "Optimization restart 9/10, f = 13.835495059493319\n",
      "Optimization restart 10/10, f = 13.835495059494288\n",
      "Optimization restart 1/10, f = 11.3006647027671\n",
      "Optimization restart 2/10, f = 18.446200931663824\n",
      "Optimization restart 3/10, f = 9963842.209757963\n",
      "Optimization restart 4/10, f = 11.300664702767643\n",
      "Optimization restart 5/10, f = 11.300664702767033\n",
      "Optimization restart 6/10, f = 18.4462009316631\n",
      "Optimization restart 7/10, f = 11.300664702767095\n",
      "Optimization restart 8/10, f = 11.300664702767133\n",
      "Optimization restart 9/10, f = 11.30066470276767\n",
      "Optimization restart 10/10, f = 11.300664702767259\n",
      "(4_w,8)-aCMA-ES (mu_w=2.6,w_1=52%) in dimension 5 (seed=977493, Fri Mar  5 17:42:26 2021)\n",
      "Iterat #Fevals   function value  axis ratio  sigma  min&max std  t[m:s]\n",
      "    1      8 -5.339216861955163e-01 1.0e+00 2.67e-01  3e-01  3e-01 0:00.0\n",
      "    2     16 -5.347586816404009e-01 1.4e+00 3.09e-01  3e-01  4e-01 0:00.0\n",
      "    3     24 -5.354307400609311e-01 1.6e+00 3.35e-01  3e-01  4e-01 0:00.0\n",
      "  100    800 -5.427832940435350e-01 1.6e+02 8.24e-02  3e-03  5e-02 0:01.2\n",
      "  200   1600 -5.428021827066500e-01 5.1e+04 7.41e-04  9e-06  2e-04 0:02.2\n",
      "  249   1992 -5.428021828213190e-01 7.5e+05 8.07e-05  7e-07  1e-05 0:02.7\n"
     ]
    },
    {
     "name": "stderr",
     "output_type": "stream",
     "text": [
      "reconstraining parameters GP_regression.Mat52.lengthscale\n",
      "reconstraining parameters GP_regression.Mat52.variance\n",
      "reconstraining parameters GP_regression.Gaussian_noise.variance\n"
     ]
    },
    {
     "name": "stdout",
     "output_type": "stream",
     "text": [
      "termination on tolfun=1e-11 (Fri Mar  5 17:42:29 2021)\n",
      "final/bestever f-value = -5.428022e-01 -5.428022e-01\n",
      "incumbent solution: [0.23631638987869474, 0.5314763471388197, 2.8754529663583592, 1.5285241929813669, 4.435315135666064]\n",
      "std deviation: [6.57232811961366e-07, 7.891937674803804e-06, 7.5719474665535186e-06, 8.630440100213919e-06, 1.213433128542085e-05]\n",
      "Optimization restart 1/10, f = 13.557659452389064\n",
      "Optimization restart 2/10, f = 21825494.204235326\n",
      "Optimization restart 3/10, f = 93.4556877196577\n",
      "Optimization restart 4/10, f = 19.865139464865422\n",
      "Optimization restart 5/10, f = 13.557659452368345\n",
      "Optimization restart 6/10, f = 13.557659452376157\n",
      "Optimization restart 7/10, f = 93.45568589678471\n",
      "Optimization restart 8/10, f = 13.55765945239331\n",
      "Optimization restart 9/10, f = 19.865139464865553\n"
     ]
    },
    {
     "name": "stderr",
     "output_type": "stream",
     "text": [
      "reconstraining parameters GP_regression.Mat52.lengthscale\n",
      "reconstraining parameters GP_regression.Mat52.variance\n",
      "reconstraining parameters GP_regression.Gaussian_noise.variance\n"
     ]
    },
    {
     "name": "stdout",
     "output_type": "stream",
     "text": [
      "Optimization restart 10/10, f = 699232.9809584111\n",
      "Optimization restart 1/10, f = 10.665621117102317\n",
      "Optimization restart 2/10, f = 10.665621117081095\n",
      "Optimization restart 3/10, f = 10.665621117094506\n",
      "Optimization restart 4/10, f = 10.665621117080779\n",
      "Optimization restart 5/10, f = 10.665621117080942\n",
      "Optimization restart 6/10, f = 10.665621117082214\n",
      "Optimization restart 7/10, f = 10.665621117081418\n",
      "Optimization restart 8/10, f = 10.665621117080892\n",
      "Optimization restart 9/10, f = 11735143.93928143\n",
      "Optimization restart 10/10, f = 10.665621117081116\n",
      "(4_w,8)-aCMA-ES (mu_w=2.6,w_1=52%) in dimension 5 (seed=1032739, Fri Mar  5 17:42:30 2021)\n",
      "Iterat #Fevals   function value  axis ratio  sigma  min&max std  t[m:s]\n",
      "    1      8 -4.864932920438700e-01 1.0e+00 2.27e-01  2e-01  2e-01 0:00.0\n",
      "    2     16 -5.084806140806112e-01 1.3e+00 2.52e-01  2e-01  3e-01 0:00.0\n",
      "    3     24 -5.307426995374176e-01 1.6e+00 3.15e-01  3e-01  3e-01 0:00.0\n",
      "  100    800 -5.809291248633346e-01 8.0e+00 1.92e-01  9e-03  5e-02 0:01.0\n",
      "  193   1544 -5.809568358699029e-01 4.7e+00 7.27e-05  4e-07  2e-06 0:02.2\n"
     ]
    },
    {
     "name": "stderr",
     "output_type": "stream",
     "text": [
      "reconstraining parameters GP_regression.Mat52.lengthscale\n",
      "reconstraining parameters GP_regression.Mat52.variance\n",
      "reconstraining parameters GP_regression.Gaussian_noise.variance\n"
     ]
    },
    {
     "name": "stdout",
     "output_type": "stream",
     "text": [
      "termination on tolfun=1e-11 (Fri Mar  5 17:42:32 2021)\n",
      "final/bestever f-value = -5.809568e-01 -5.809568e-01\n",
      "incumbent solution: [0.08533881168414209, 3.99999999999998, 1.5357832390342339, 8.0, 9.999999999999757]\n",
      "std deviation: [4.806173334334189e-07, 4.3583036429551095e-07, 1.5651327817433325e-06, 9.648454563482368e-07, 1.2912253901743615e-06]\n",
      "Optimization restart 1/10, f = 15.021366579142905\n",
      "Optimization restart 2/10, f = 100.13109215640856\n",
      "Optimization restart 3/10, f = 15.02136657914842\n",
      "Optimization restart 4/10, f = 15.021366579142438\n",
      "Optimization restart 5/10, f = 15.021366579142422\n",
      "Optimization restart 6/10, f = 100.13109398534753\n",
      "Optimization restart 7/10, f = 21.28407799807009\n",
      "Optimization restart 8/10, f = 21.284077998070092\n",
      "Optimization restart 9/10, f = 21.28407799807009\n"
     ]
    },
    {
     "name": "stderr",
     "output_type": "stream",
     "text": [
      "reconstraining parameters GP_regression.Mat52.lengthscale\n",
      "reconstraining parameters GP_regression.Mat52.variance\n",
      "reconstraining parameters GP_regression.Gaussian_noise.variance\n"
     ]
    },
    {
     "name": "stdout",
     "output_type": "stream",
     "text": [
      "Optimization restart 10/10, f = 36.969372033493684\n",
      "Optimization restart 1/10, f = 13.675642627081327\n",
      "Optimization restart 2/10, f = 21.284077998070092\n",
      "Optimization restart 3/10, f = 100.13109398534753\n",
      "Optimization restart 4/10, f = 13.67564262708126\n",
      "Optimization restart 5/10, f = 21.28407799807018\n",
      "Optimization restart 6/10, f = 21.284077998070092\n",
      "Optimization restart 7/10, f = 21.28407799807009\n",
      "Optimization restart 8/10, f = 13.675642627081254\n",
      "Optimization restart 9/10, f = 100.13109398534753\n",
      "Optimization restart 10/10, f = 21.284077998070092\n",
      "(4_w,8)-aCMA-ES (mu_w=2.6,w_1=52%) in dimension 5 (seed=1085698, Fri Mar  5 17:42:33 2021)\n",
      "Iterat #Fevals   function value  axis ratio  sigma  min&max std  t[m:s]\n",
      "    1      8 -5.351438209308594e-01 1.0e+00 2.19e-01  2e-01  2e-01 0:00.0\n",
      "    2     16 -5.346894013775171e-01 1.2e+00 2.05e-01  2e-01  2e-01 0:00.0\n",
      "    3     24 -5.360387244046779e-01 1.3e+00 1.85e-01  2e-01  2e-01 0:00.0\n",
      "  100    800 -5.474777759671996e-01 1.9e+02 1.47e-02  2e-04  1e-02 0:00.9\n",
      "  200   1600 -5.474790679130579e-01 5.9e+04 2.04e-04  9e-07  4e-05 0:01.8\n",
      "  233   1864 -5.474790679217634e-01 2.6e+05 4.01e-05  1e-07  5e-06 0:02.1\n"
     ]
    },
    {
     "name": "stderr",
     "output_type": "stream",
     "text": [
      "reconstraining parameters GP_regression.Mat52.lengthscale\n",
      "reconstraining parameters GP_regression.Mat52.variance\n",
      "reconstraining parameters GP_regression.Gaussian_noise.variance\n"
     ]
    },
    {
     "name": "stdout",
     "output_type": "stream",
     "text": [
      "termination on tolfun=1e-11 (Fri Mar  5 17:42:36 2021)\n",
      "final/bestever f-value = -5.474791e-01 -5.474791e-01\n",
      "incumbent solution: [0.2503483726636873, 1.9365852726454664, 2.924279207742034, 3.0604677705095016, 5.98687271019307]\n",
      "std deviation: [1.3468531379383765e-07, 3.904621497314035e-06, 2.791132642948812e-06, 4.634847902255588e-06, 4.94243078492413e-06]\n",
      "Optimization restart 1/10, f = 14.729219002849213\n",
      "Optimization restart 2/10, f = 106.80650025103739\n",
      "Optimization restart 3/10, f = 14.729219002846621\n",
      "Optimization restart 4/10, f = 14.729219002846701\n",
      "Optimization restart 5/10, f = 35.269335115769074\n",
      "Optimization restart 6/10, f = 14.729219002912156\n",
      "Optimization restart 7/10, f = 22.703016531275686\n",
      "Optimization restart 8/10, f = 14.729219002847225\n"
     ]
    },
    {
     "name": "stderr",
     "output_type": "stream",
     "text": [
      "reconstraining parameters GP_regression.Mat52.lengthscale\n",
      "reconstraining parameters GP_regression.Mat52.variance\n",
      "reconstraining parameters GP_regression.Gaussian_noise.variance\n"
     ]
    },
    {
     "name": "stdout",
     "output_type": "stream",
     "text": [
      "Optimization restart 9/10, f = 14.72921900285185\n",
      "Optimization restart 10/10, f = 14.729219002846627\n",
      "Optimization restart 1/10, f = 13.965004481251945\n",
      "Optimization restart 2/10, f = 22.703016531274812\n",
      "Optimization restart 3/10, f = 22.70301653127762\n",
      "Optimization restart 4/10, f = 106.80650025103697\n",
      "Optimization restart 5/10, f = 13.965004481250055\n",
      "Optimization restart 6/10, f = 13.965004481250066\n",
      "Optimization restart 7/10, f = 13.965004481254137\n",
      "Optimization restart 8/10, f = 13.9650044812526\n",
      "Optimization restart 9/10, f = 13.965004481249899\n",
      "Optimization restart 10/10, f = 13.965004481249963\n",
      "(4_w,8)-aCMA-ES (mu_w=2.6,w_1=52%) in dimension 5 (seed=1054894, Fri Mar  5 17:42:37 2021)\n",
      "Iterat #Fevals   function value  axis ratio  sigma  min&max std  t[m:s]\n",
      "    1      8 -5.306230659842840e-01 1.0e+00 2.37e-01  2e-01  2e-01 0:00.0\n",
      "    2     16 -5.345400086827241e-01 1.2e+00 2.64e-01  2e-01  3e-01 0:00.0\n",
      "    3     24 -5.404294359578502e-01 1.4e+00 3.86e-01  3e-01  4e-01 0:00.0\n",
      "  100    800 -5.672390087079544e-01 1.2e+01 3.34e-04  5e-06  6e-05 0:00.9\n",
      "  131   1048 -5.672390087336743e-01 1.9e+01 2.79e-05  1e-07  2e-06 0:01.2\n"
     ]
    },
    {
     "name": "stderr",
     "output_type": "stream",
     "text": [
      "reconstraining parameters GP_regression.Mat52.lengthscale\n",
      "reconstraining parameters GP_regression.Mat52.variance\n",
      "reconstraining parameters GP_regression.Gaussian_noise.variance\n"
     ]
    },
    {
     "name": "stdout",
     "output_type": "stream",
     "text": [
      "termination on tolfun=1e-11 (Fri Mar  5 17:42:38 2021)\n",
      "final/bestever f-value = -5.672390e-01 -5.672390e-01\n",
      "incumbent solution: [1.2755456956391236e-13, 1.77812372186861, 2.836496345094302, 3.159430773288759, 5.652023882294203]\n",
      "std deviation: [1.3067597060698206e-07, 1.0400732253473307e-06, 1.4376055596683058e-06, 1.7085104569579073e-06, 2.4942438588072942e-06]\n",
      "Optimization restart 1/10, f = 15.105531595430035\n",
      "Optimization restart 2/10, f = 15.105531594958935\n",
      "Optimization restart 3/10, f = 15.10553159495881\n",
      "Optimization restart 4/10, f = 15.10553159495869\n",
      "Optimization restart 5/10, f = 43586878.328831896\n",
      "Optimization restart 6/10, f = 36.08859465185642\n",
      "Optimization restart 7/10, f = 15.10553159495945\n",
      "Optimization restart 8/10, f = 15.10553159495962\n",
      "Optimization restart 9/10, f = 24.121955064483913\n"
     ]
    },
    {
     "name": "stderr",
     "output_type": "stream",
     "text": [
      "reconstraining parameters GP_regression.Mat52.lengthscale\n",
      "reconstraining parameters GP_regression.Mat52.variance\n",
      "reconstraining parameters GP_regression.Gaussian_noise.variance\n"
     ]
    },
    {
     "name": "stdout",
     "output_type": "stream",
     "text": [
      "Optimization restart 10/10, f = 43579336.86677586\n",
      "Optimization restart 1/10, f = 15.562035669585269\n",
      "Optimization restart 2/10, f = 15.56203566962311\n",
      "Optimization restart 3/10, f = 24.121955064479437\n",
      "Optimization restart 4/10, f = 113.48190321276773\n",
      "Optimization restart 5/10, f = 113.48190516215999\n",
      "Optimization restart 6/10, f = 24.121955064479486\n",
      "Optimization restart 7/10, f = 24.121955064479437\n",
      "Optimization restart 8/10, f = 24.121955064479437\n",
      "Optimization restart 9/10, f = 113.48190651672722\n",
      "Optimization restart 10/10, f = 24.121955064479433\n",
      "(4_w,8)-aCMA-ES (mu_w=2.6,w_1=52%) in dimension 5 (seed=1048346, Fri Mar  5 17:42:40 2021)\n",
      "Iterat #Fevals   function value  axis ratio  sigma  min&max std  t[m:s]\n",
      "    1      8 -4.636849912976351e-01 1.0e+00 2.42e-01  2e-01  3e-01 0:00.0\n",
      "    2     16 -4.751692415688601e-01 1.2e+00 2.52e-01  2e-01  3e-01 0:00.0\n",
      "    3     24 -4.898125813987726e-01 1.4e+00 2.87e-01  3e-01  4e-01 0:00.0\n",
      "  100    800 -5.643501304185700e-01 1.9e+01 2.03e-03  3e-05  5e-04 0:01.0\n",
      "  146   1168 -5.643501321559981e-01 1.8e+01 1.55e-05  5e-08  8e-07 0:01.5\n"
     ]
    },
    {
     "name": "stderr",
     "output_type": "stream",
     "text": [
      "reconstraining parameters GP_regression.Mat52.lengthscale\n",
      "reconstraining parameters GP_regression.Mat52.variance\n",
      "reconstraining parameters GP_regression.Gaussian_noise.variance\n"
     ]
    },
    {
     "name": "stdout",
     "output_type": "stream",
     "text": [
      "termination on tolfun=1e-11 (Fri Mar  5 17:42:42 2021)\n",
      "final/bestever f-value = -5.643501e-01 -5.643501e-01\n",
      "incumbent solution: [2.347242105613185e-14, 1.7622246231123093, 2.8287173694571974, 3.797845601207312, 4.554357871512542]\n",
      "std deviation: [4.758976645998893e-08, 3.629425065087386e-07, 6.56384547576715e-07, 6.056141520856561e-07, 7.742305202579073e-07]\n",
      "Optimization restart 1/10, f = 14.002674646171311\n",
      "Optimization restart 2/10, f = 120.15731278241705\n",
      "Optimization restart 3/10, f = 25.540893597684107\n",
      "Optimization restart 4/10, f = 25.540893597684104\n",
      "Optimization restart 5/10, f = 25.540893597684104\n",
      "Optimization restart 6/10, f = 25.54089359768411\n",
      "Optimization restart 7/10, f = 120.15731278241705\n",
      "Optimization restart 8/10, f = 34.94019246567239\n",
      "Optimization restart 9/10, f = 34.94019238828399\n"
     ]
    },
    {
     "name": "stderr",
     "output_type": "stream",
     "text": [
      "reconstraining parameters GP_regression.Mat52.lengthscale\n",
      "reconstraining parameters GP_regression.Mat52.variance\n",
      "reconstraining parameters GP_regression.Gaussian_noise.variance\n"
     ]
    },
    {
     "name": "stdout",
     "output_type": "stream",
     "text": [
      "Optimization restart 10/10, f = 55289270.20351578\n",
      "Optimization restart 1/10, f = 15.275693611260856\n",
      "Optimization restart 2/10, f = 25.540893597684104\n",
      "Optimization restart 3/10, f = 15.275693611260847\n",
      "Optimization restart 4/10, f = 15.275693611322016\n",
      "Optimization restart 5/10, f = 15.275693611261747\n",
      "Optimization restart 6/10, f = 15.275693611259848\n",
      "Optimization restart 7/10, f = 120.15731278241705\n",
      "Optimization restart 8/10, f = 120.15731278241705\n",
      "Optimization restart 9/10, f = 25.54089359768428\n",
      "Optimization restart 10/10, f = 120.15731156593124\n",
      "(4_w,8)-aCMA-ES (mu_w=2.6,w_1=52%) in dimension 5 (seed=1065524, Fri Mar  5 17:42:44 2021)\n",
      "Iterat #Fevals   function value  axis ratio  sigma  min&max std  t[m:s]\n",
      "    1      8 -4.807682017144685e-01 1.0e+00 2.33e-01  2e-01  2e-01 0:00.0\n",
      "    2     16 -4.939647364667961e-01 1.2e+00 2.52e-01  2e-01  3e-01 0:00.0\n",
      "    3     24 -5.164037394992859e-01 1.3e+00 3.18e-01  3e-01  3e-01 0:00.0\n",
      "  100    800 -5.663090408142732e-01 1.5e+01 7.93e-04  1e-05  2e-04 0:00.9\n",
      "  135   1080 -5.663090408704097e-01 1.4e+01 3.11e-05  2e-07  2e-06 0:01.2\n"
     ]
    },
    {
     "name": "stderr",
     "output_type": "stream",
     "text": [
      "reconstraining parameters GP_regression.Mat52.lengthscale\n",
      "reconstraining parameters GP_regression.Mat52.variance\n",
      "reconstraining parameters GP_regression.Gaussian_noise.variance\n"
     ]
    },
    {
     "name": "stdout",
     "output_type": "stream",
     "text": [
      "termination on tolfun=1e-11 (Fri Mar  5 17:42:45 2021)\n",
      "final/bestever f-value = -5.663090e-01 -5.663090e-01\n",
      "incumbent solution: [8.505158072382634e-15, 1.6691877442330314, 2.5113108907979975, 4.88086709519875, 3.5051002375898017]\n",
      "std deviation: [1.7854948859147492e-07, 8.105078408127453e-07, 1.4259372794198353e-06, 1.4584431170724246e-06, 2.3077816683262578e-06]\n",
      "Optimization restart 1/10, f = 14.688919731420869\n",
      "Optimization restart 2/10, f = 26.95983213088897\n",
      "Optimization restart 3/10, f = 14.688919731420798\n",
      "Optimization restart 4/10, f = 26.959832130888785\n",
      "Optimization restart 5/10, f = 14.688919731420961\n",
      "Optimization restart 6/10, f = 14.68891973142088\n",
      "Optimization restart 7/10, f = 14.688919731420789\n",
      "Optimization restart 8/10, f = 26.959832130888977\n",
      "Optimization restart 9/10, f = 54907069.62166602\n"
     ]
    },
    {
     "name": "stderr",
     "output_type": "stream",
     "text": [
      "reconstraining parameters GP_regression.Mat52.lengthscale\n",
      "reconstraining parameters GP_regression.Mat52.variance\n",
      "reconstraining parameters GP_regression.Gaussian_noise.variance\n"
     ]
    },
    {
     "name": "stdout",
     "output_type": "stream",
     "text": [
      "Optimization restart 10/10, f = 26.959832130888785\n",
      "Optimization restart 1/10, f = 15.981260299021503\n",
      "Optimization restart 2/10, f = 126.83266964236974\n",
      "Optimization restart 3/10, f = 15.98126029902173\n",
      "Optimization restart 4/10, f = 26.95983213088878\n",
      "Optimization restart 5/10, f = 15.98126029902085\n",
      "Optimization restart 6/10, f = 126.8327190481069\n",
      "Optimization restart 7/10, f = 948959.0455864149\n",
      "Optimization restart 8/10, f = 126.8327190481069\n",
      "Optimization restart 9/10, f = 55279216.649506465\n",
      "Optimization restart 10/10, f = 126.8327147903103\n",
      "(4_w,8)-aCMA-ES (mu_w=2.6,w_1=52%) in dimension 5 (seed=1152271, Fri Mar  5 17:42:47 2021)\n",
      "Iterat #Fevals   function value  axis ratio  sigma  min&max std  t[m:s]\n",
      "    1      8 -4.723842054729307e-01 1.0e+00 2.56e-01  2e-01  3e-01 0:00.0\n",
      "    2     16 -4.896562561639224e-01 1.4e+00 2.79e-01  3e-01  3e-01 0:00.0\n",
      "    3     24 -4.932691831369368e-01 1.5e+00 3.19e-01  3e-01  4e-01 0:00.0\n",
      "  100    800 -5.640191324010657e-01 9.9e+00 1.07e-03  3e-05  2e-04 0:01.1\n",
      "  145   1160 -5.640191327175887e-01 1.0e+01 1.48e-05  1e-07  9e-07 0:01.5\n",
      "termination on tolfun=1e-11 (Fri Mar  5 17:42:49 2021)\n",
      "final/bestever f-value = -5.640191e-01 -5.640191e-01\n",
      "incumbent solution: [2.9349893231774096e-14, 1.9083100751956779, 3.234887458663185, 3.5730682635995756, 4.069630313317972]\n",
      "std deviation: [1.1256342128005492e-07, 4.499680012042023e-07, 7.155045540299269e-07, 7.158407184698379e-07, 8.935305768338486e-07]\n"
     ]
    }
   ],
   "source": [
    "opt.optimise()"
   ]
  },
  {
   "cell_type": "code",
   "execution_count": 11,
   "metadata": {},
   "outputs": [
    {
     "data": {
      "text/plain": [
       "<matplotlib.collections.PathCollection at 0x7f725d820610>"
      ]
     },
     "execution_count": 11,
     "metadata": {},
     "output_type": "execute_result"
    },
    {
     "data": {
      "image/png": "[encoded data removed]",
      "text/plain": [
       "<Figure size 432x288 with 1 Axes>"
      ]
     },
     "metadata": {
      "needs_background": "light"
     },
     "output_type": "display_data"
    }
   ],
   "source": [
    "plt.scatter(*opt.y[:10].T)\n",
    "plt.scatter(*opt.y[10:].T, c=\"C3\")\n",
    "plt.scatter(*opt.targets.T, c=\"magenta\")\n"
   ]
  },
  {
   "cell_type": "code",
   "execution_count": 15,
   "metadata": {},
   "outputs": [],
   "source": [
    "from testsuite.surrogates import RF\n",
    "multi_surrogate = MultiSurrogate(RF)\n",
    "opt = DirectedSaf(objective_function=objective_function, ei=False,  targets=[[0.5, 4.]], w=0.5, limits=limits, surrogate=multi_surrogate, n_initial=10, budget=budget, seed=seed)"
   ]
  },
  {
   "cell_type": "code",
   "execution_count": 16,
   "metadata": {},
   "outputs": [
    {
     "name": "stdout",
     "output_type": "stream",
     "text": [
      "(4_w,8)-aCMA-ES (mu_w=2.6,w_1=52%) in dimension 5 (seed=1040566, Fri Mar  5 17:44:48 2021)\n",
      "Iterat #Fevals   function value  axis ratio  sigma  min&max std  t[m:s]\n",
      "    1      8 -5.445408355977237e-01 1.0e+00 2.64e-01  3e-01  3e-01 0:00.3\n",
      "    2     16 -5.542553691337180e-01 1.4e+00 2.72e-01  3e-01  3e-01 0:00.6\n",
      "    3     24 -5.604637584709515e-01 1.3e+00 2.83e-01  2e-01  3e-01 0:00.9\n",
      "   13    104 -5.621730681659886e-01 2.8e+00 2.31e-01  2e-01  2e-01 0:03.9\n",
      "   28    224 -5.649145130030350e-01 3.1e+00 2.10e-01  9e-02  3e-01 0:08.1\n",
      "   47    376 -5.636492895738437e-01 9.1e+00 1.71e-01  3e-02  2e-01 0:13.2\n",
      "   65    520 -5.634741194501045e-01 1.7e+01 1.47e-01  1e-02  2e-01 0:19.4\n",
      "   89    712 -5.652712047279043e-01 4.3e+01 1.15e-01  4e-03  2e-01 0:26.5\n",
      "  100    800 -5.652712047279043e-01 5.9e+01 5.30e-02  2e-03  8e-02 0:29.4\n"
     ]
    },
    {
     "name": "stderr",
     "output_type": "stream",
     "text": [
      " /home/finley/miniconda3/envs/testsuite/lib/python3.8/site-packages/cma/utilities/utils.py:329: UserWarning:flat fitness (f=-0.565271, sigma=4.24e-02).\n",
      "                    For small sigma, this could indicate numerical convergence.\n",
      "                    Otherwise, please (re)consider how to compute the fitness more elaborately. (iteration=103)\n",
      " /home/finley/miniconda3/envs/testsuite/lib/python3.8/site-packages/cma/utilities/utils.py:329: UserWarning:flat fitness (f=-0.565271, sigma=3.72e-02).\n",
      "                    For small sigma, this could indicate numerical convergence.\n",
      "                    Otherwise, please (re)consider how to compute the fitness more elaborately. (iteration=108)\n",
      " /home/finley/miniconda3/envs/testsuite/lib/python3.8/site-packages/cma/utilities/utils.py:329: UserWarning:flat fitness (f=-0.565271, sigma=3.70e-02).\n",
      "                    For small sigma, this could indicate numerical convergence.\n",
      "                    Otherwise, please (re)consider how to compute the fitness more elaborately. (iteration=109)\n"
     ]
    },
    {
     "name": "stdout",
     "output_type": "stream",
     "text": [
      "  110    880 -5.652712047279043e-01 7.7e+01 3.34e-02  7e-04  5e-02 0:31.9\n"
     ]
    },
    {
     "name": "stderr",
     "output_type": "stream",
     "text": [
      " /home/finley/miniconda3/envs/testsuite/lib/python3.8/site-packages/cma/utilities/utils.py:329: UserWarning:flat fitness (f=-0.565271, sigma=3.34e-02).\n",
      "                    For small sigma, this could indicate numerical convergence.\n",
      "                    Otherwise, please (re)consider how to compute the fitness more elaborately. (iteration=110)\n",
      " /home/finley/miniconda3/envs/testsuite/lib/python3.8/site-packages/cma/utilities/utils.py:329: UserWarning:flat fitness (f=-0.565271, sigma=3.34e-02).\n",
      "                    For small sigma, this could indicate numerical convergence.\n",
      "                    Otherwise, please (re)consider how to compute the fitness more elaborately. (iteration=110)\n"
     ]
    },
    {
     "name": "stdout",
     "output_type": "stream",
     "text": [
      "termination on tolfun=1e-11 (Fri Mar  5 17:45:20 2021)\n",
      "termination on tolfunhist=1e-12 (Fri Mar  5 17:45:20 2021)\n",
      "termination on flat fitness=please (re)consider how to compute the fitness more elaborately if sigma=3.34e-02 is large (Fri Mar  5 17:45:20 2021)\n",
      "final/bestever f-value = -5.652712e-01 -5.652712e-01\n",
      "incumbent solution: [0.3014953552472425, 3.9937358757302865, 0.23291086760652976, 7.588272132408577, 8.763843855477008]\n",
      "std deviation: [0.0006987527255564139, 0.017381444952037507, 0.04688742088984509, 0.02487416107517935, 0.0019188529834485019]\n",
      "(4_w,8)-aCMA-ES (mu_w=2.6,w_1=52%) in dimension 5 (seed=1092701, Fri Mar  5 17:45:20 2021)\n",
      "Iterat #Fevals   function value  axis ratio  sigma  min&max std  t[m:s]\n",
      "    1      8 -4.940317406362364e-01 1.0e+00 2.61e-01  2e-01  3e-01 0:00.3\n",
      "    2     16 -5.191302470541912e-01 1.4e+00 2.93e-01  3e-01  3e-01 0:00.5\n",
      "    3     24 -5.509547848945655e-01 1.7e+00 3.62e-01  4e-01  4e-01 0:00.8\n",
      "   16    128 -5.597653299089748e-01 4.4e+00 4.76e-01  2e-01  7e-01 0:04.0\n",
      "   32    256 -5.610643637548738e-01 6.7e+00 2.65e-01  8e-02  4e-01 0:08.2\n",
      "   50    400 -5.610956780104550e-01 5.1e+00 3.65e-01  9e-02  4e-01 0:13.4\n",
      "   75    600 -5.611035064995507e-01 8.3e+00 1.22e-01  2e-02  1e-01 0:19.6\n"
     ]
    },
    {
     "name": "stderr",
     "output_type": "stream",
     "text": [
      " /home/finley/miniconda3/envs/testsuite/lib/python3.8/site-packages/cma/utilities/utils.py:329: UserWarning:flat fitness (f=-0.561104, sigma=8.80e-02).\n",
      "                    For small sigma, this could indicate numerical convergence.\n",
      "                    Otherwise, please (re)consider how to compute the fitness more elaborately. (iteration=79)\n",
      " /home/finley/miniconda3/envs/testsuite/lib/python3.8/site-packages/cma/utilities/utils.py:329: UserWarning:flat fitness (f=-0.561104, sigma=9.45e-02).\n",
      "                    For small sigma, this could indicate numerical convergence.\n",
      "                    Otherwise, please (re)consider how to compute the fitness more elaborately. (iteration=83)\n",
      " /home/finley/miniconda3/envs/testsuite/lib/python3.8/site-packages/cma/utilities/utils.py:329: UserWarning:flat fitness (f=-0.561104, sigma=8.24e-02).\n",
      "                    For small sigma, this could indicate numerical convergence.\n",
      "                    Otherwise, please (re)consider how to compute the fitness more elaborately. (iteration=87)\n",
      " /home/finley/miniconda3/envs/testsuite/lib/python3.8/site-packages/cma/utilities/utils.py:329: UserWarning:flat fitness (f=-0.561104, sigma=5.74e-02).\n",
      "                    For small sigma, this could indicate numerical convergence.\n",
      "                    Otherwise, please (re)consider how to compute the fitness more elaborately. (iteration=90)\n",
      " /home/finley/miniconda3/envs/testsuite/lib/python3.8/site-packages/cma/utilities/utils.py:329: UserWarning:flat fitness (f=-0.561104, sigma=6.19e-02).\n",
      "                    For small sigma, this could indicate numerical convergence.\n",
      "                    Otherwise, please (re)consider how to compute the fitness more elaborately. (iteration=91)\n",
      " /home/finley/miniconda3/envs/testsuite/lib/python3.8/site-packages/cma/utilities/utils.py:329: UserWarning:flat fitness (f=-0.561104, sigma=6.50e-02).\n",
      "                    For small sigma, this could indicate numerical convergence.\n",
      "                    Otherwise, please (re)consider how to compute the fitness more elaborately. (iteration=92)\n"
     ]
    },
    {
     "name": "stdout",
     "output_type": "stream",
     "text": [
      "   95    760 -5.611035064995507e-01 1.0e+01 6.24e-02  1e-02  5e-02 0:24.7\n",
      "termination on tolfunhist=1e-12 (Fri Mar  5 17:45:45 2021)\n",
      "final/bestever f-value = -5.611035e-01 -5.611480e-01\n",
      "incumbent solution: [0.018884673069500382, 2.898038689181175, 2.7646358548496193, 3.932047922354604, 7.070336328986799]\n",
      "std deviation: [0.012417063529946506, 0.009954354025865603, 0.015651960288042523, 0.051062066902825144, 0.011378102956891492]\n",
      "(4_w,8)-aCMA-ES (mu_w=2.6,w_1=52%) in dimension 5 (seed=1047801, Fri Mar  5 17:45:45 2021)\n",
      "Iterat #Fevals   function value  axis ratio  sigma  min&max std  t[m:s]\n",
      "    1      8 -5.270711708317153e-01 1.0e+00 2.45e-01  2e-01  3e-01 0:00.3\n",
      "    2     16 -5.426816217914152e-01 1.3e+00 2.49e-01  2e-01  3e-01 0:00.5\n",
      "    3     24 -5.438078736868879e-01 1.4e+00 2.80e-01  2e-01  3e-01 0:00.8\n",
      "   15    120 -5.473124730631674e-01 2.8e+00 2.85e-01  2e-01  3e-01 0:03.9\n",
      "   31    248 -5.476601081630472e-01 1.8e+00 9.46e-02  4e-02  7e-02 0:07.9\n"
     ]
    },
    {
     "name": "stderr",
     "output_type": "stream",
     "text": [
      " /home/finley/miniconda3/envs/testsuite/lib/python3.8/site-packages/cma/utilities/utils.py:329: UserWarning:flat fitness (f=-0.547734, sigma=3.48e-02).\n",
      "                    For small sigma, this could indicate numerical convergence.\n",
      "                    Otherwise, please (re)consider how to compute the fitness more elaborately. (iteration=50)\n"
     ]
    },
    {
     "name": "stdout",
     "output_type": "stream",
     "text": [
      "   51    408 -5.477340155369959e-01 4.0e+00 3.61e-02  6e-03  3e-02 0:13.1\n"
     ]
    },
    {
     "name": "stderr",
     "output_type": "stream",
     "text": [
      " /home/finley/miniconda3/envs/testsuite/lib/python3.8/site-packages/cma/utilities/utils.py:329: UserWarning:flat fitness (f=-0.547734, sigma=3.50e-02).\n",
      "                    For small sigma, this could indicate numerical convergence.\n",
      "                    Otherwise, please (re)consider how to compute the fitness more elaborately. (iteration=52)\n",
      " /home/finley/miniconda3/envs/testsuite/lib/python3.8/site-packages/cma/utilities/utils.py:329: UserWarning:flat fitness (f=-0.547734, sigma=3.57e-02).\n",
      "                    For small sigma, this could indicate numerical convergence.\n",
      "                    Otherwise, please (re)consider how to compute the fitness more elaborately. (iteration=54)\n",
      " /home/finley/miniconda3/envs/testsuite/lib/python3.8/site-packages/cma/utilities/utils.py:329: UserWarning:flat fitness (f=-0.547734, sigma=4.01e-02).\n",
      "                    For small sigma, this could indicate numerical convergence.\n",
      "                    Otherwise, please (re)consider how to compute the fitness more elaborately. (iteration=55)\n",
      " /home/finley/miniconda3/envs/testsuite/lib/python3.8/site-packages/cma/utilities/utils.py:329: UserWarning:flat fitness (f=-0.547734, sigma=3.94e-02).\n",
      "                    For small sigma, this could indicate numerical convergence.\n",
      "                    Otherwise, please (re)consider how to compute the fitness more elaborately. (iteration=57)\n",
      " /home/finley/miniconda3/envs/testsuite/lib/python3.8/site-packages/cma/utilities/utils.py:329: UserWarning:flat fitness (f=-0.547734, sigma=4.36e-02).\n",
      "                    For small sigma, this could indicate numerical convergence.\n",
      "                    Otherwise, please (re)consider how to compute the fitness more elaborately. (iteration=58)\n",
      " /home/finley/miniconda3/envs/testsuite/lib/python3.8/site-packages/cma/utilities/utils.py:329: UserWarning:flat fitness (f=-0.547734, sigma=4.57e-02).\n",
      "                    For small sigma, this could indicate numerical convergence.\n",
      "                    Otherwise, please (re)consider how to compute the fitness more elaborately. (iteration=60)\n",
      " /home/finley/miniconda3/envs/testsuite/lib/python3.8/site-packages/cma/utilities/utils.py:329: UserWarning:flat fitness (f=-0.547734, sigma=4.89e-02).\n",
      "                    For small sigma, this could indicate numerical convergence.\n",
      "                    Otherwise, please (re)consider how to compute the fitness more elaborately. (iteration=61)\n"
     ]
    },
    {
     "name": "stdout",
     "output_type": "stream",
     "text": [
      "   62    496 -5.477340155369959e-01 6.7e+00 5.71e-02  8e-03  5e-02 0:16.1\n"
     ]
    },
    {
     "name": "stderr",
     "output_type": "stream",
     "text": [
      " /home/finley/miniconda3/envs/testsuite/lib/python3.8/site-packages/cma/utilities/utils.py:329: UserWarning:flat fitness (f=-0.547734, sigma=5.71e-02).\n",
      "                    For small sigma, this could indicate numerical convergence.\n",
      "                    Otherwise, please (re)consider how to compute the fitness more elaborately. (iteration=62)\n",
      " /home/finley/miniconda3/envs/testsuite/lib/python3.8/site-packages/cma/utilities/utils.py:329: UserWarning:flat fitness (f=-0.547734, sigma=5.71e-02).\n",
      "                    For small sigma, this could indicate numerical convergence.\n",
      "                    Otherwise, please (re)consider how to compute the fitness more elaborately. (iteration=62)\n"
     ]
    },
    {
     "name": "stdout",
     "output_type": "stream",
     "text": [
      "termination on tolfun=1e-11 (Fri Mar  5 17:46:01 2021)\n",
      "termination on tolfunhist=1e-12 (Fri Mar  5 17:46:01 2021)\n",
      "termination on flat fitness=please (re)consider how to compute the fitness more elaborately if sigma=5.71e-02 is large (Fri Mar  5 17:46:01 2021)\n",
      "final/bestever f-value = -5.477340e-01 -5.477340e-01\n",
      "incumbent solution: [3.076042038572808e-06, 1.9328204423553021, 5.997976128661145, 2.534721021592862, 3.215292085575352]\n",
      "std deviation: [0.043737005688277854, 0.008032474546974621, 0.04688626474759655, 0.021625583263978704, 0.014968367756083097]\n",
      "(4_w,8)-aCMA-ES (mu_w=2.6,w_1=52%) in dimension 5 (seed=1030637, Fri Mar  5 17:46:02 2021)\n",
      "Iterat #Fevals   function value  axis ratio  sigma  min&max std  t[m:s]\n",
      "    1      8 -5.142689417147439e-01 1.0e+00 2.59e-01  2e-01  3e-01 0:00.3\n",
      "    2     16 -5.496686073994272e-01 1.4e+00 3.35e-01  3e-01  4e-01 0:00.6\n",
      "    3     24 -5.448376844658610e-01 1.6e+00 3.55e-01  3e-01  4e-01 0:00.9\n",
      "   11     88 -5.603270482640452e-01 1.9e+00 2.93e-01  2e-01  3e-01 0:03.9\n",
      "   26    208 -5.611506890170912e-01 3.6e+00 1.10e-01  3e-02  1e-01 0:07.9\n",
      "   46    368 -5.611983637153547e-01 4.1e+00 5.68e-02  1e-02  4e-02 0:13.0\n"
     ]
    },
    {
     "name": "stderr",
     "output_type": "stream",
     "text": [
      " /home/finley/miniconda3/envs/testsuite/lib/python3.8/site-packages/cma/utilities/utils.py:329: UserWarning:flat fitness (f=-0.561198, sigma=5.41e-02).\n",
      "                    For small sigma, this could indicate numerical convergence.\n",
      "                    Otherwise, please (re)consider how to compute the fitness more elaborately. (iteration=47)\n",
      " /home/finley/miniconda3/envs/testsuite/lib/python3.8/site-packages/cma/utilities/utils.py:329: UserWarning:flat fitness (f=-0.561198, sigma=5.47e-02).\n",
      "                    For small sigma, this could indicate numerical convergence.\n",
      "                    Otherwise, please (re)consider how to compute the fitness more elaborately. (iteration=49)\n",
      " /home/finley/miniconda3/envs/testsuite/lib/python3.8/site-packages/cma/utilities/utils.py:329: UserWarning:flat fitness (f=-0.561198, sigma=5.96e-02).\n",
      "                    For small sigma, this could indicate numerical convergence.\n",
      "                    Otherwise, please (re)consider how to compute the fitness more elaborately. (iteration=52)\n"
     ]
    },
    {
     "name": "stdout",
     "output_type": "stream",
     "text": [
      "   55    440 -5.611983637153547e-01 7.8e+00 4.57e-02  6e-03  4e-02 0:15.2\n",
      "termination on tolfunhist=1e-12 (Fri Mar  5 17:46:17 2021)\n",
      "final/bestever f-value = -5.611984e-01 -5.611984e-01\n",
      "incumbent solution: [0.0074600079616821335, 1.8043964476464494, 2.9259720884338862, 6.52730360481127, 4.663123766377262]\n",
      "std deviation: [0.016287150206969067, 0.020644522371157065, 0.00565258250042343, 0.03908436071881755, 0.024339188628417368]\n",
      "(4_w,8)-aCMA-ES (mu_w=2.6,w_1=52%) in dimension 5 (seed=1112332, Fri Mar  5 17:46:17 2021)\n",
      "Iterat #Fevals   function value  axis ratio  sigma  min&max std  t[m:s]\n",
      "    1      8 -4.723919483348878e-01 1.0e+00 2.57e-01  2e-01  3e-01 0:00.3\n",
      "    2     16 -4.840713617828963e-01 1.3e+00 2.78e-01  3e-01  3e-01 0:00.6\n",
      "    3     24 -5.078835796105141e-01 1.4e+00 3.37e-01  3e-01  4e-01 0:00.9\n",
      "   14    112 -5.456695928027144e-01 2.3e+00 5.73e-01  3e-01  6e-01 0:04.1\n",
      "   29    232 -5.578687094731394e-01 9.9e+00 8.34e-01  1e-01  1e+00 0:08.1\n",
      "   48    384 -5.579340701473845e-01 1.9e+01 1.32e-01  8e-03  1e-01 0:13.3\n"
     ]
    },
    {
     "name": "stderr",
     "output_type": "stream",
     "text": [
      " /home/finley/miniconda3/envs/testsuite/lib/python3.8/site-packages/cma/utilities/utils.py:329: UserWarning:flat fitness (f=-0.557869, sigma=1.67e-01).\n",
      "                    For small sigma, this could indicate numerical convergence.\n",
      "                    Otherwise, please (re)consider how to compute the fitness more elaborately. (iteration=50)\n",
      " /home/finley/miniconda3/envs/testsuite/lib/python3.8/site-packages/cma/utilities/utils.py:329: UserWarning:flat fitness (f=-0.557869, sigma=1.19e-01).\n",
      "                    For small sigma, this could indicate numerical convergence.\n",
      "                    Otherwise, please (re)consider how to compute the fitness more elaborately. (iteration=62)\n",
      " /home/finley/miniconda3/envs/testsuite/lib/python3.8/site-packages/cma/utilities/utils.py:329: UserWarning:flat fitness (f=-0.557869, sigma=1.21e-01).\n",
      "                    For small sigma, this could indicate numerical convergence.\n",
      "                    Otherwise, please (re)consider how to compute the fitness more elaborately. (iteration=65)\n",
      " /home/finley/miniconda3/envs/testsuite/lib/python3.8/site-packages/cma/utilities/utils.py:329: UserWarning:flat fitness (f=-0.557869, sigma=1.27e-01).\n",
      "                    For small sigma, this could indicate numerical convergence.\n",
      "                    Otherwise, please (re)consider how to compute the fitness more elaborately. (iteration=66)\n"
     ]
    },
    {
     "name": "stdout",
     "output_type": "stream",
     "text": [
      "   72    576 -5.579340701473845e-01 2.0e+01 1.06e-01  7e-03  1e-01 0:19.3\n"
     ]
    },
    {
     "name": "stderr",
     "output_type": "stream",
     "text": [
      " /home/finley/miniconda3/envs/testsuite/lib/python3.8/site-packages/cma/utilities/utils.py:329: UserWarning:flat fitness (f=-0.557934, sigma=5.92e-02).\n",
      "                    For small sigma, this could indicate numerical convergence.\n",
      "                    Otherwise, please (re)consider how to compute the fitness more elaborately. (iteration=79)\n",
      " /home/finley/miniconda3/envs/testsuite/lib/python3.8/site-packages/cma/utilities/utils.py:329: UserWarning:flat fitness (f=-0.557934, sigma=6.59e-02).\n",
      "                    For small sigma, this could indicate numerical convergence.\n",
      "                    Otherwise, please (re)consider how to compute the fitness more elaborately. (iteration=80)\n",
      " /home/finley/miniconda3/envs/testsuite/lib/python3.8/site-packages/cma/utilities/utils.py:329: UserWarning:flat fitness (f=-0.557934, sigma=7.32e-02).\n",
      "                    For small sigma, this could indicate numerical convergence.\n",
      "                    Otherwise, please (re)consider how to compute the fitness more elaborately. (iteration=82)\n",
      " /home/finley/miniconda3/envs/testsuite/lib/python3.8/site-packages/cma/utilities/utils.py:329: UserWarning:flat fitness (f=-0.557934, sigma=5.63e-02).\n",
      "                    For small sigma, this could indicate numerical convergence.\n",
      "                    Otherwise, please (re)consider how to compute the fitness more elaborately. (iteration=89)\n",
      " /home/finley/miniconda3/envs/testsuite/lib/python3.8/site-packages/cma/utilities/utils.py:329: UserWarning:flat fitness (f=-0.557934, sigma=6.19e-02).\n",
      "                    For small sigma, this could indicate numerical convergence.\n",
      "                    Otherwise, please (re)consider how to compute the fitness more elaborately. (iteration=90)\n",
      " /home/finley/miniconda3/envs/testsuite/lib/python3.8/site-packages/cma/utilities/utils.py:329: UserWarning:flat fitness (f=-0.557934, sigma=5.65e-02).\n",
      "                    For small sigma, this could indicate numerical convergence.\n",
      "                    Otherwise, please (re)consider how to compute the fitness more elaborately. (iteration=91)\n",
      " /home/finley/miniconda3/envs/testsuite/lib/python3.8/site-packages/cma/utilities/utils.py:329: UserWarning:flat fitness (f=-0.557934, sigma=5.84e-02).\n",
      "                    For small sigma, this could indicate numerical convergence.\n",
      "                    Otherwise, please (re)consider how to compute the fitness more elaborately. (iteration=92)\n",
      " /home/finley/miniconda3/envs/testsuite/lib/python3.8/site-packages/cma/utilities/utils.py:329: UserWarning:flat fitness (f=-0.557934, sigma=6.83e-02).\n",
      "                    For small sigma, this could indicate numerical convergence.\n",
      "                    Otherwise, please (re)consider how to compute the fitness more elaborately. (iteration=93)\n",
      " /home/finley/miniconda3/envs/testsuite/lib/python3.8/site-packages/cma/utilities/utils.py:329: UserWarning:flat fitness (f=-0.557934, sigma=5.36e-02).\n",
      "                    For small sigma, this could indicate numerical convergence.\n",
      "                    Otherwise, please (re)consider how to compute the fitness more elaborately. (iteration=95)\n",
      " /home/finley/miniconda3/envs/testsuite/lib/python3.8/site-packages/cma/utilities/utils.py:329: UserWarning:flat fitness (f=-0.557934, sigma=5.04e-02).\n",
      "                    For small sigma, this could indicate numerical convergence.\n",
      "                    Otherwise, please (re)consider how to compute the fitness more elaborately. (iteration=96)\n"
     ]
    },
    {
     "name": "stdout",
     "output_type": "stream",
     "text": [
      "   97    776 -5.579340701473845e-01 4.2e+01 4.95e-02  3e-03  7e-02 0:25.8\n"
     ]
    },
    {
     "name": "stderr",
     "output_type": "stream",
     "text": [
      " /home/finley/miniconda3/envs/testsuite/lib/python3.8/site-packages/cma/utilities/utils.py:329: UserWarning:flat fitness (f=-0.557934, sigma=4.95e-02).\n",
      "                    For small sigma, this could indicate numerical convergence.\n",
      "                    Otherwise, please (re)consider how to compute the fitness more elaborately. (iteration=97)\n",
      " /home/finley/miniconda3/envs/testsuite/lib/python3.8/site-packages/cma/utilities/utils.py:329: UserWarning:flat fitness (f=-0.557934, sigma=4.95e-02).\n",
      "                    For small sigma, this could indicate numerical convergence.\n",
      "                    Otherwise, please (re)consider how to compute the fitness more elaborately. (iteration=97)\n"
     ]
    },
    {
     "name": "stdout",
     "output_type": "stream",
     "text": [
      "termination on tolfun=1e-11 (Fri Mar  5 17:46:43 2021)\n",
      "termination on tolfunhist=1e-12 (Fri Mar  5 17:46:43 2021)\n",
      "termination on flat fitness=please (re)consider how to compute the fitness more elaborately if sigma=4.95e-02 is large (Fri Mar  5 17:46:43 2021)\n",
      "final/bestever f-value = -5.579341e-01 -5.579341e-01\n",
      "incumbent solution: [0.0018899956631238844, 0.04399862245382325, 0.6716564937934141, 6.732374736187808, 0.40955021455548696]\n",
      "std deviation: [0.0025358085055617622, 0.015267430432730867, 0.008187863904984173, 0.02564853987809605, 0.06720754320025601]\n",
      "(4_w,8)-aCMA-ES (mu_w=2.6,w_1=52%) in dimension 5 (seed=1144118, Fri Mar  5 17:46:43 2021)\n",
      "Iterat #Fevals   function value  axis ratio  sigma  min&max std  t[m:s]\n",
      "    1      8 -5.153142949469421e-01 1.0e+00 2.61e-01  3e-01  3e-01 0:00.3\n",
      "    2     16 -5.167765624836371e-01 1.3e+00 2.70e-01  3e-01  3e-01 0:00.5\n",
      "    3     24 -5.223304851764161e-01 1.5e+00 3.12e-01  3e-01  4e-01 0:00.9\n",
      "   14    112 -5.509147525854192e-01 2.4e+00 1.92e-01  1e-01  2e-01 0:04.1\n",
      "   30    240 -5.510525966408324e-01 6.0e+00 6.54e-02  1e-02  6e-02 0:08.3\n"
     ]
    },
    {
     "name": "stderr",
     "output_type": "stream",
     "text": [
      " /home/finley/miniconda3/envs/testsuite/lib/python3.8/site-packages/cma/utilities/utils.py:329: UserWarning:flat fitness (f=-0.551024, sigma=4.44e-02).\n",
      "                    For small sigma, this could indicate numerical convergence.\n",
      "                    Otherwise, please (re)consider how to compute the fitness more elaborately. (iteration=40)\n"
     ]
    },
    {
     "name": "stdout",
     "output_type": "stream",
     "text": [
      "   51    408 -5.510240155315629e-01 6.0e+00 3.72e-02  5e-03  3e-02 0:13.5\n",
      "   76    608 -5.510525966408324e-01 1.6e+01 5.98e-03  2e-04  3e-03 0:19.8\n"
     ]
    },
    {
     "name": "stderr",
     "output_type": "stream",
     "text": [
      " /home/finley/miniconda3/envs/testsuite/lib/python3.8/site-packages/cma/utilities/utils.py:329: UserWarning:flat fitness (f=-0.551053, sigma=4.31e-03).\n",
      "                    For small sigma, this could indicate numerical convergence.\n",
      "                    Otherwise, please (re)consider how to compute the fitness more elaborately. (iteration=82)\n",
      " /home/finley/miniconda3/envs/testsuite/lib/python3.8/site-packages/cma/utilities/utils.py:329: UserWarning:flat fitness (f=-0.551053, sigma=4.48e-03).\n",
      "                    For small sigma, this could indicate numerical convergence.\n",
      "                    Otherwise, please (re)consider how to compute the fitness more elaborately. (iteration=83)\n",
      " /home/finley/miniconda3/envs/testsuite/lib/python3.8/site-packages/cma/utilities/utils.py:329: UserWarning:flat fitness (f=-0.551053, sigma=4.17e-03).\n",
      "                    For small sigma, this could indicate numerical convergence.\n",
      "                    Otherwise, please (re)consider how to compute the fitness more elaborately. (iteration=85)\n",
      " /home/finley/miniconda3/envs/testsuite/lib/python3.8/site-packages/cma/utilities/utils.py:329: UserWarning:flat fitness (f=-0.551053, sigma=4.33e-03).\n",
      "                    For small sigma, this could indicate numerical convergence.\n",
      "                    Otherwise, please (re)consider how to compute the fitness more elaborately. (iteration=86)\n"
     ]
    },
    {
     "name": "stdout",
     "output_type": "stream",
     "text": [
      "   91    728 -5.510525966408324e-01 3.2e+01 3.86e-03  8e-05  2e-03 0:23.7\n",
      "termination on tolfunhist=1e-12 (Fri Mar  5 17:47:07 2021)\n",
      "final/bestever f-value = -5.510526e-01 -5.510526e-01\n",
      "incumbent solution: [0.0015642065965953559, 1.6159691010302195, 1.2205053364557636, 1.7128779190753678, 5.482717193992014]\n",
      "std deviation: [7.890126315914954e-05, 0.0012626477400080511, 0.0011540409762437415, 0.001973411341605631, 0.0020082890505017724]\n",
      "(4_w,8)-aCMA-ES (mu_w=2.6,w_1=52%) in dimension 5 (seed=1126623, Fri Mar  5 17:47:07 2021)\n",
      "Iterat #Fevals   function value  axis ratio  sigma  min&max std  t[m:s]\n",
      "    1      8 -4.944612428117539e-01 1.0e+00 2.52e-01  2e-01  3e-01 0:00.3\n",
      "    2     16 -4.991363659047999e-01 1.2e+00 2.62e-01  2e-01  3e-01 0:00.5\n",
      "    3     24 -5.131379098743756e-01 1.4e+00 2.68e-01  2e-01  3e-01 0:00.8\n",
      "   15    120 -5.483041504544202e-01 2.5e+00 3.22e-01  1e-01  3e-01 0:03.9\n",
      "   30    240 -5.532593254416038e-01 1.4e+01 6.63e-01  7e-02  9e-01 0:08.2\n",
      "   50    400 -5.610790980998412e-01 6.1e+01 5.00e-01  1e-02  6e-01 0:13.3\n"
     ]
    },
    {
     "name": "stderr",
     "output_type": "stream",
     "text": [
      " /home/finley/miniconda3/envs/testsuite/lib/python3.8/site-packages/cma/utilities/utils.py:329: UserWarning:flat fitness (f=-0.561079, sigma=3.56e-01).\n",
      "                    For small sigma, this could indicate numerical convergence.\n",
      "                    Otherwise, please (re)consider how to compute the fitness more elaborately. (iteration=69)\n"
     ]
    },
    {
     "name": "stdout",
     "output_type": "stream",
     "text": [
      "   74    592 -5.610790980998412e-01 1.1e+02 2.56e-01  6e-03  4e-01 0:19.3\n"
     ]
    },
    {
     "name": "stderr",
     "output_type": "stream",
     "text": [
      " /home/finley/miniconda3/envs/testsuite/lib/python3.8/site-packages/cma/utilities/utils.py:329: UserWarning:flat fitness (f=-0.561079, sigma=2.55e-01).\n",
      "                    For small sigma, this could indicate numerical convergence.\n",
      "                    Otherwise, please (re)consider how to compute the fitness more elaborately. (iteration=75)\n"
     ]
    },
    {
     "name": "stdout",
     "output_type": "stream",
     "text": [
      "   76    608 -5.610790980998412e-01 9.7e+01 2.50e-01  6e-03  3e-01 0:19.9\n"
     ]
    },
    {
     "name": "stderr",
     "output_type": "stream",
     "text": [
      " /home/finley/miniconda3/envs/testsuite/lib/python3.8/site-packages/cma/utilities/utils.py:329: UserWarning:flat fitness (f=-0.561079, sigma=2.50e-01).\n",
      "                    For small sigma, this could indicate numerical convergence.\n",
      "                    Otherwise, please (re)consider how to compute the fitness more elaborately. (iteration=76)\n",
      " /home/finley/miniconda3/envs/testsuite/lib/python3.8/site-packages/cma/utilities/utils.py:329: UserWarning:flat fitness (f=-0.561079, sigma=2.50e-01).\n",
      "                    For small sigma, this could indicate numerical convergence.\n",
      "                    Otherwise, please (re)consider how to compute the fitness more elaborately. (iteration=76)\n"
     ]
    },
    {
     "name": "stdout",
     "output_type": "stream",
     "text": [
      "termination on tolfun=1e-11 (Fri Mar  5 17:47:27 2021)\n",
      "termination on tolfunhist=1e-12 (Fri Mar  5 17:47:27 2021)\n",
      "termination on flat fitness=please (re)consider how to compute the fitness more elaborately if sigma=2.50e-01 is large (Fri Mar  5 17:47:27 2021)\n",
      "final/bestever f-value = -5.610791e-01 -5.610791e-01\n",
      "incumbent solution: [5.762514157259213e-05, 0.1911080981311033, 2.2925146221511072, 0.6797891021523149, 5.498474424615787]\n",
      "std deviation: [0.006031202477813055, 0.32408335310468006, 0.19533306356050995, 0.22864893405839262, 0.03917401668011524]\n",
      "(4_w,8)-aCMA-ES (mu_w=2.6,w_1=52%) in dimension 5 (seed=1006296, Fri Mar  5 17:47:28 2021)\n",
      "Iterat #Fevals   function value  axis ratio  sigma  min&max std  t[m:s]\n",
      "    1      8 -5.314011401362738e-01 1.0e+00 2.55e-01  2e-01  3e-01 0:00.5\n",
      "    2     16 -5.253625820157546e-01 1.5e+00 2.76e-01  3e-01  3e-01 0:00.8\n",
      "    3     24 -5.514155268213359e-01 1.8e+00 2.72e-01  3e-01  3e-01 0:01.1\n",
      "   14    112 -5.514443736240816e-01 2.9e+00 2.10e-01  9e-02  3e-01 0:04.2\n",
      "   28    224 -5.566007826552577e-01 9.7e+00 1.58e-01  2e-02  2e-01 0:08.3\n",
      "   46    368 -5.577302184636894e-01 2.5e+01 5.32e-02  3e-03  6e-02 0:13.5\n",
      "   71    568 -5.606516828170157e-01 1.2e+02 9.31e-02  2e-03  2e-01 0:19.8\n"
     ]
    },
    {
     "name": "stderr",
     "output_type": "stream",
     "text": [
      " /home/finley/miniconda3/envs/testsuite/lib/python3.8/site-packages/cma/utilities/utils.py:329: UserWarning:flat fitness (f=-0.560652, sigma=3.66e-02).\n",
      "                    For small sigma, this could indicate numerical convergence.\n",
      "                    Otherwise, please (re)consider how to compute the fitness more elaborately. (iteration=82)\n",
      " /home/finley/miniconda3/envs/testsuite/lib/python3.8/site-packages/cma/utilities/utils.py:329: UserWarning:flat fitness (f=-0.560652, sigma=3.14e-02).\n",
      "                    For small sigma, this could indicate numerical convergence.\n",
      "                    Otherwise, please (re)consider how to compute the fitness more elaborately. (iteration=88)\n",
      " /home/finley/miniconda3/envs/testsuite/lib/python3.8/site-packages/cma/utilities/utils.py:329: UserWarning:flat fitness (f=-0.560652, sigma=3.60e-02).\n",
      "                    For small sigma, this could indicate numerical convergence.\n",
      "                    Otherwise, please (re)consider how to compute the fitness more elaborately. (iteration=89)\n",
      " /home/finley/miniconda3/envs/testsuite/lib/python3.8/site-packages/cma/utilities/utils.py:329: UserWarning:flat fitness (f=-0.560652, sigma=2.35e-02).\n",
      "                    For small sigma, this could indicate numerical convergence.\n",
      "                    Otherwise, please (re)consider how to compute the fitness more elaborately. (iteration=92)\n",
      " /home/finley/miniconda3/envs/testsuite/lib/python3.8/site-packages/cma/utilities/utils.py:329: UserWarning:flat fitness (f=-0.560652, sigma=2.23e-02).\n",
      "                    For small sigma, this could indicate numerical convergence.\n",
      "                    Otherwise, please (re)consider how to compute the fitness more elaborately. (iteration=93)\n",
      " /home/finley/miniconda3/envs/testsuite/lib/python3.8/site-packages/cma/utilities/utils.py:329: UserWarning:flat fitness (f=-0.560652, sigma=2.67e-02).\n",
      "                    For small sigma, this could indicate numerical convergence.\n",
      "                    Otherwise, please (re)consider how to compute the fitness more elaborately. (iteration=95)\n"
     ]
    },
    {
     "name": "stdout",
     "output_type": "stream",
     "text": [
      "   97    776 -5.606516828170157e-01 2.2e+02 2.56e-02  3e-04  6e-02 0:26.9\n"
     ]
    },
    {
     "name": "stderr",
     "output_type": "stream",
     "text": [
      " /home/finley/miniconda3/envs/testsuite/lib/python3.8/site-packages/cma/utilities/utils.py:329: UserWarning:flat fitness (f=-0.560652, sigma=2.56e-02).\n",
      "                    For small sigma, this could indicate numerical convergence.\n",
      "                    Otherwise, please (re)consider how to compute the fitness more elaborately. (iteration=97)\n"
     ]
    },
    {
     "name": "stdout",
     "output_type": "stream",
     "text": [
      "   98    784 -5.606516828170157e-01 2.4e+02 2.63e-02  3e-04  6e-02 0:27.3\n",
      "termination on tolfunhist=1e-12 (Fri Mar  5 17:47:55 2021)\n",
      "termination on flat fitness=please (re)consider how to compute the fitness more elaborately if sigma=2.63e-02 is large (Fri Mar  5 17:47:55 2021)\n",
      "final/bestever f-value = -5.606517e-01 -5.606517e-01\n",
      "incumbent solution: [0.0022807261742710644, 1.6195783731313718, 1.178959024297012, 1.7152635264132472, 9.84589373060136]\n",
      "std deviation: [0.00029536840800577804, 0.0023369364647471045, 0.01429593954744435, 0.006700787268351962, 0.05875164938114177]\n",
      "(4_w,8)-aCMA-ES (mu_w=2.6,w_1=52%) in dimension 5 (seed=1046435, Fri Mar  5 17:47:56 2021)\n",
      "Iterat #Fevals   function value  axis ratio  sigma  min&max std  t[m:s]\n",
      "    1      8 -4.867281965663024e-01 1.0e+00 2.65e-01  2e-01  3e-01 0:00.4\n",
      "    2     16 -5.088618839863981e-01 1.4e+00 3.13e-01  3e-01  4e-01 0:00.8\n",
      "    3     24 -5.398752469104617e-01 1.7e+00 4.12e-01  3e-01  6e-01 0:01.1\n",
      "   14    112 -5.461235770239445e-01 2.4e+00 2.33e-01  1e-01  2e-01 0:04.2\n",
      "   30    240 -5.474444191813449e-01 7.7e+00 1.16e-01  2e-02  1e-01 0:08.5\n",
      "   48    384 -5.485770642471919e-01 1.0e+01 4.45e-02  4e-03  4e-02 0:13.6\n",
      "   72    576 -5.487672727177748e-01 1.0e+01 9.27e-03  6e-04  5e-03 0:19.7\n"
     ]
    },
    {
     "name": "stderr",
     "output_type": "stream",
     "text": [
      " /home/finley/miniconda3/envs/testsuite/lib/python3.8/site-packages/cma/utilities/utils.py:329: UserWarning:flat fitness (f=-0.548767, sigma=3.92e-03).\n",
      "                    For small sigma, this could indicate numerical convergence.\n",
      "                    Otherwise, please (re)consider how to compute the fitness more elaborately. (iteration=83)\n",
      " /home/finley/miniconda3/envs/testsuite/lib/python3.8/site-packages/cma/utilities/utils.py:329: UserWarning:flat fitness (f=-0.548767, sigma=3.79e-03).\n",
      "                    For small sigma, this could indicate numerical convergence.\n",
      "                    Otherwise, please (re)consider how to compute the fitness more elaborately. (iteration=84)\n",
      " /home/finley/miniconda3/envs/testsuite/lib/python3.8/site-packages/cma/utilities/utils.py:329: UserWarning:flat fitness (f=-0.548767, sigma=3.83e-03).\n",
      "                    For small sigma, this could indicate numerical convergence.\n",
      "                    Otherwise, please (re)consider how to compute the fitness more elaborately. (iteration=85)\n",
      " /home/finley/miniconda3/envs/testsuite/lib/python3.8/site-packages/cma/utilities/utils.py:329: UserWarning:flat fitness (f=-0.548767, sigma=3.78e-03).\n",
      "                    For small sigma, this could indicate numerical convergence.\n",
      "                    Otherwise, please (re)consider how to compute the fitness more elaborately. (iteration=86)\n",
      " /home/finley/miniconda3/envs/testsuite/lib/python3.8/site-packages/cma/utilities/utils.py:329: UserWarning:flat fitness (f=-0.548767, sigma=3.50e-03).\n",
      "                    For small sigma, this could indicate numerical convergence.\n",
      "                    Otherwise, please (re)consider how to compute the fitness more elaborately. (iteration=87)\n",
      " /home/finley/miniconda3/envs/testsuite/lib/python3.8/site-packages/cma/utilities/utils.py:329: UserWarning:flat fitness (f=-0.548767, sigma=3.17e-03).\n",
      "                    For small sigma, this could indicate numerical convergence.\n",
      "                    Otherwise, please (re)consider how to compute the fitness more elaborately. (iteration=88)\n",
      " /home/finley/miniconda3/envs/testsuite/lib/python3.8/site-packages/cma/utilities/utils.py:329: UserWarning:flat fitness (f=-0.548767, sigma=3.03e-03).\n",
      "                    For small sigma, this could indicate numerical convergence.\n",
      "                    Otherwise, please (re)consider how to compute the fitness more elaborately. (iteration=89)\n",
      " /home/finley/miniconda3/envs/testsuite/lib/python3.8/site-packages/cma/utilities/utils.py:329: UserWarning:flat fitness (f=-0.548767, sigma=2.81e-03).\n",
      "                    For small sigma, this could indicate numerical convergence.\n",
      "                    Otherwise, please (re)consider how to compute the fitness more elaborately. (iteration=90)\n",
      " /home/finley/miniconda3/envs/testsuite/lib/python3.8/site-packages/cma/utilities/utils.py:329: UserWarning:flat fitness (f=-0.548767, sigma=2.65e-03).\n",
      "                    For small sigma, this could indicate numerical convergence.\n",
      "                    Otherwise, please (re)consider how to compute the fitness more elaborately. (iteration=91)\n",
      " /home/finley/miniconda3/envs/testsuite/lib/python3.8/site-packages/cma/utilities/utils.py:329: UserWarning:flat fitness (f=-0.548767, sigma=2.58e-03).\n",
      "                    For small sigma, this could indicate numerical convergence.\n",
      "                    Otherwise, please (re)consider how to compute the fitness more elaborately. (iteration=92)\n",
      " /home/finley/miniconda3/envs/testsuite/lib/python3.8/site-packages/cma/utilities/utils.py:329: UserWarning:flat fitness (f=-0.548767, sigma=2.47e-03).\n",
      "                    For small sigma, this could indicate numerical convergence.\n",
      "                    Otherwise, please (re)consider how to compute the fitness more elaborately. (iteration=93)\n",
      " /home/finley/miniconda3/envs/testsuite/lib/python3.8/site-packages/cma/utilities/utils.py:329: UserWarning:flat fitness (f=-0.548767, sigma=2.49e-03).\n",
      "                    For small sigma, this could indicate numerical convergence.\n",
      "                    Otherwise, please (re)consider how to compute the fitness more elaborately. (iteration=94)\n",
      " /home/finley/miniconda3/envs/testsuite/lib/python3.8/site-packages/cma/utilities/utils.py:329: UserWarning:flat fitness (f=-0.548767, sigma=2.40e-03).\n",
      "                    For small sigma, this could indicate numerical convergence.\n",
      "                    Otherwise, please (re)consider how to compute the fitness more elaborately. (iteration=95)\n"
     ]
    },
    {
     "name": "stdout",
     "output_type": "stream",
     "text": [
      "   96    768 -5.487672727177748e-01 2.4e+01 2.28e-03  5e-05  9e-04 0:26.1\n"
     ]
    },
    {
     "name": "stderr",
     "output_type": "stream",
     "text": [
      " /home/finley/miniconda3/envs/testsuite/lib/python3.8/site-packages/cma/utilities/utils.py:329: UserWarning:flat fitness (f=-0.548767, sigma=2.28e-03).\n",
      "                    For small sigma, this could indicate numerical convergence.\n",
      "                    Otherwise, please (re)consider how to compute the fitness more elaborately. (iteration=96)\n",
      " /home/finley/miniconda3/envs/testsuite/lib/python3.8/site-packages/cma/utilities/utils.py:329: UserWarning:flat fitness (f=-0.548767, sigma=2.28e-03).\n",
      "                    For small sigma, this could indicate numerical convergence.\n",
      "                    Otherwise, please (re)consider how to compute the fitness more elaborately. (iteration=96)\n"
     ]
    },
    {
     "name": "stdout",
     "output_type": "stream",
     "text": [
      "termination on tolfun=1e-11 (Fri Mar  5 17:48:22 2021)\n",
      "termination on tolfunhist=1e-12 (Fri Mar  5 17:48:22 2021)\n",
      "termination on flat fitness=please (re)consider how to compute the fitness more elaborately if sigma=2.28e-03 is large (Fri Mar  5 17:48:22 2021)\n",
      "final/bestever f-value = -5.487673e-01 -5.512050e-01\n",
      "incumbent solution: [0.003978969190465238, 1.6078408501392345, 5.357479140319154, 1.6779385484335136, 3.49147504360078]\n",
      "std deviation: [4.6530741617104977e-05, 0.000549652874750892, 0.0004181230480674969, 0.0006344035886795652, 0.0009317385404777685]\n",
      "(4_w,8)-aCMA-ES (mu_w=2.6,w_1=52%) in dimension 5 (seed=1026033, Fri Mar  5 17:48:22 2021)\n",
      "Iterat #Fevals   function value  axis ratio  sigma  min&max std  t[m:s]\n",
      "    1      8 -5.473494668572181e-01 1.0e+00 2.43e-01  2e-01  2e-01 0:00.3\n",
      "    2     16 -5.473253491371232e-01 1.2e+00 2.21e-01  2e-01  2e-01 0:00.5\n",
      "    3     24 -5.443586388832891e-01 1.3e+00 1.81e-01  2e-01  2e-01 0:00.8\n",
      "   14    112 -5.489878054315347e-01 2.7e+00 5.17e-02  2e-02  5e-02 0:03.9\n",
      "   28    224 -5.523722076952913e-01 5.9e+00 1.64e-01  5e-02  2e-01 0:08.1\n",
      "   47    376 -5.546874482978941e-01 9.0e+00 3.57e-02  4e-03  3e-02 0:13.2\n",
      "   71    568 -5.553831860842345e-01 4.8e+01 3.37e-03  6e-05  2e-03 0:19.2\n"
     ]
    },
    {
     "name": "stderr",
     "output_type": "stream",
     "text": [
      " /home/finley/miniconda3/envs/testsuite/lib/python3.8/site-packages/cma/utilities/utils.py:329: UserWarning:flat fitness (f=-0.555383, sigma=1.52e-03).\n",
      "                    For small sigma, this could indicate numerical convergence.\n",
      "                    Otherwise, please (re)consider how to compute the fitness more elaborately. (iteration=87)\n",
      " /home/finley/miniconda3/envs/testsuite/lib/python3.8/site-packages/cma/utilities/utils.py:329: UserWarning:flat fitness (f=-0.555383, sigma=1.65e-03).\n",
      "                    For small sigma, this could indicate numerical convergence.\n",
      "                    Otherwise, please (re)consider how to compute the fitness more elaborately. (iteration=88)\n",
      " /home/finley/miniconda3/envs/testsuite/lib/python3.8/site-packages/cma/utilities/utils.py:329: UserWarning:flat fitness (f=-0.555383, sigma=1.61e-03).\n",
      "                    For small sigma, this could indicate numerical convergence.\n",
      "                    Otherwise, please (re)consider how to compute the fitness more elaborately. (iteration=90)\n"
     ]
    },
    {
     "name": "stdout",
     "output_type": "stream",
     "text": [
      "   92    736 -5.553831860842345e-01 1.3e+02 1.40e-03  1e-05  9e-04 0:26.3\n"
     ]
    },
    {
     "name": "stderr",
     "output_type": "stream",
     "text": [
      " /home/finley/miniconda3/envs/testsuite/lib/python3.8/site-packages/cma/utilities/utils.py:329: UserWarning:flat fitness (f=-0.555383, sigma=1.40e-03).\n",
      "                    For small sigma, this could indicate numerical convergence.\n",
      "                    Otherwise, please (re)consider how to compute the fitness more elaborately. (iteration=92)\n",
      " /home/finley/miniconda3/envs/testsuite/lib/python3.8/site-packages/cma/utilities/utils.py:329: UserWarning:flat fitness (f=-0.555383, sigma=1.28e-03).\n",
      "                    For small sigma, this could indicate numerical convergence.\n",
      "                    Otherwise, please (re)consider how to compute the fitness more elaborately. (iteration=94)\n",
      " /home/finley/miniconda3/envs/testsuite/lib/python3.8/site-packages/cma/utilities/utils.py:329: UserWarning:flat fitness (f=-0.555383, sigma=1.29e-03).\n",
      "                    For small sigma, this could indicate numerical convergence.\n",
      "                    Otherwise, please (re)consider how to compute the fitness more elaborately. (iteration=95)\n",
      " /home/finley/miniconda3/envs/testsuite/lib/python3.8/site-packages/cma/utilities/utils.py:329: UserWarning:flat fitness (f=-0.555383, sigma=1.08e-03).\n",
      "                    For small sigma, this could indicate numerical convergence.\n",
      "                    Otherwise, please (re)consider how to compute the fitness more elaborately. (iteration=96)\n",
      " /home/finley/miniconda3/envs/testsuite/lib/python3.8/site-packages/cma/utilities/utils.py:329: UserWarning:flat fitness (f=-0.555383, sigma=9.69e-04).\n",
      "                    For small sigma, this could indicate numerical convergence.\n",
      "                    Otherwise, please (re)consider how to compute the fitness more elaborately. (iteration=98)\n",
      " /home/finley/miniconda3/envs/testsuite/lib/python3.8/site-packages/cma/utilities/utils.py:329: UserWarning:flat fitness (f=-0.555383, sigma=8.46e-04).\n",
      "                    For small sigma, this could indicate numerical convergence.\n",
      "                    Otherwise, please (re)consider how to compute the fitness more elaborately. (iteration=99)\n"
     ]
    },
    {
     "name": "stdout",
     "output_type": "stream",
     "text": [
      "  100    800 -5.553831860842345e-01 1.8e+02 8.76e-04  5e-06  6e-04 0:28.7\n",
      "termination on tolfun=1e-11 (Fri Mar  5 17:48:51 2021)\n",
      "termination on tolfunhist=1e-12 (Fri Mar  5 17:48:51 2021)\n",
      "termination on flat fitness=please (re)consider how to compute the fitness more elaborately if sigma=8.76e-04 is large (Fri Mar  5 17:48:51 2021)\n",
      "final/bestever f-value = -5.553832e-01 -5.553832e-01\n",
      "incumbent solution: [0.0015638848560133676, 1.620111433656829, 0.6080825261921263, 4.571614303589669, 5.3424863449256685]\n",
      "std deviation: [4.7917906998897055e-06, 0.0001298983396895998, 0.00024949450706105493, 0.0006037531880256316, 0.0005198989983180131]\n"
     ]
    },
    {
     "name": "stderr",
     "output_type": "stream",
     "text": [
      " /home/finley/miniconda3/envs/testsuite/lib/python3.8/site-packages/cma/utilities/utils.py:329: UserWarning:flat fitness (f=-0.555383, sigma=8.76e-04).\n",
      "                    For small sigma, this could indicate numerical convergence.\n",
      "                    Otherwise, please (re)consider how to compute the fitness more elaborately. (iteration=100)\n",
      " /home/finley/miniconda3/envs/testsuite/lib/python3.8/site-packages/cma/utilities/utils.py:329: UserWarning:flat fitness (f=-0.555383, sigma=8.76e-04).\n",
      "                    For small sigma, this could indicate numerical convergence.\n",
      "                    Otherwise, please (re)consider how to compute the fitness more elaborately. (iteration=100)\n"
     ]
    }
   ],
   "source": [
    "opt.optimise()"
   ]
  },
  {
   "cell_type": "code",
   "execution_count": 17,
   "metadata": {},
   "outputs": [
    {
     "data": {
      "text/plain": [
       "<matplotlib.collections.PathCollection at 0x7f725c1e2af0>"
      ]
     },
     "execution_count": 17,
     "metadata": {},
     "output_type": "execute_result"
    },
    {
     "data": {
      "image/png": "[encoded data removed]",
      "text/plain": [
       "<Figure size 432x288 with 1 Axes>"
      ]
     },
     "metadata": {
      "needs_background": "light"
     },
     "output_type": "display_data"
    }
   ],
   "source": [
    "plt.scatter(*opt.y[:10].T)\n",
    "plt.scatter(*opt.y[10:].T, c=\"C3\")\n",
    "plt.scatter(*opt.targets.T, c=\"magenta\")"
   ]
  },
  {
   "cell_type": "code",
   "execution_count": null,
   "metadata": {},
   "outputs": [],
   "source": []
  }
 ],
 "metadata": {
  "kernelspec": {
   "display_name": "testsuite",
   "language": "python",
   "name": "testsuite"
  },
  "language_info": {
   "codemirror_mode": {
    "name": "ipython",
    "version": 3
   },
   "file_extension": ".py",
   "mimetype": "text/x-python",
   "name": "python",
   "nbconvert_exporter": "python",
   "pygments_lexer": "ipython3",
   "version": "3.8.3"
  }
 },
 "nbformat": 4,
 "nbformat_minor": 4
}
