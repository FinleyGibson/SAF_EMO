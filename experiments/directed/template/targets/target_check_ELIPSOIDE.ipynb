{
 "cells": [
  {
   "cell_type": "code",
   "execution_count": 5,
   "metadata": {},
   "outputs": [],
   "source": [
    "import os\n",
    "import sys\n",
    "import rootpath\n",
    "sys.path.append(rootpath.detect())\n",
    "\n",
    "from testsuite.utilities import Pareto_split, dominates\n",
    "from testsuite.analysis_tools import get_target_igd_refpoints\n",
    "from testsuite.analysis import load_all #, plot_all_pareto_2d, PLOT_STYLE, plot_measure\n",
    "from json import load\n",
    "\n",
    "import pickle\n",
    "import numpy as np\n",
    "import matplotlib\n",
    "import matplotlib.pyplot as plt\n",
    "import wfg"
   ]
  },
  {
   "cell_type": "code",
   "execution_count": 2,
   "metadata": {},
   "outputs": [],
   "source": [
    "import lhsmdu"
   ]
  },
  {
   "cell_type": "code",
   "execution_count": 24,
   "metadata": {},
   "outputs": [
    {
     "name": "stdout",
     "output_type": "stream",
     "text": [
      "WFG6\n",
      "<built-in function WFG6> 2obj 6dim k:2 l:4 M:2\n"
     ]
    }
   ],
   "source": [
    "from experiments.directed.data.wfg6_2obj_6dim.problem_setup import func, k, l, M, n_dim, n_obj, y\n",
    "print(\"{} {}obj {}dim\".format(func, n_obj, n_dim), \"k:{}\".format(k), \"l:{}\".format(l), \"M:{}\".format(M))"
   ]
  },
  {
   "cell_type": "code",
   "execution_count": 25,
   "metadata": {},
   "outputs": [],
   "source": [
    "ref_points = np.load(\"../../../undirected/igd_refpoints/problem_refpoints/data/wfg_elipse_2d_refpoints\")"
   ]
  },
  {
   "cell_type": "code",
   "execution_count": 26,
   "metadata": {},
   "outputs": [],
   "source": [
    "with open(\"./targets\", \"r\") as infile:\n",
    "    target_dict = load(infile)"
   ]
  },
  {
   "cell_type": "code",
   "execution_count": 27,
   "metadata": {},
   "outputs": [],
   "source": [
    "targets = np.asarray(target_dict['ELIPSOIDE_2obj'])"
   ]
  },
  {
   "cell_type": "code",
   "execution_count": 28,
   "metadata": {},
   "outputs": [
    {
     "data": {
      "text/plain": [
       "(-0.10410543765853957,\n",
       " 2.198671687507549,\n",
       " -0.1994986472310893,\n",
       " 4.199975959480666)"
      ]
     },
     "execution_count": 28,
     "metadata": {},
     "output_type": "execute_result"
    }
   ],
   "source": [
    "plt.figure(figsize=[10, 10])\n",
    "plt.scatter(*y.T, s=2)\n",
    "plt.scatter(*targets.T, c=\"magenta\")\n",
    "plt.scatter(*ref_points.T, c=\"C1\", alpha=0.002)\n",
    "plt.gca().axis(\"scaled\")"
   ]
  },
  {
   "cell_type": "code",
   "execution_count": 19,
   "metadata": {},
   "outputs": [
    {
     "data": {
      "image/png": "[encoded data removed]",
      "text/plain": [
       "<Figure size 1080x720 with 6 Axes>"
      ]
     },
     "metadata": {
      "needs_background": "light"
     },
     "output_type": "display_data"
    }
   ],
   "source": [
    "fig, axes = plt.subplots(1, 6,figsize=[15, 10])\n",
    "\n",
    "target = targets[2]\n",
    "\n",
    "for ax, target in zip(axes.flat, targets):\n",
    "    igd_points, other_points = get_target_igd_refpoints(target, ref_points[::10]) \n",
    "    \n",
    "    ax.scatter(*other_points.T, c=\"C0\", s=2, alpha=0.2)\n",
    "    ax.scatter(*igd_points.T, c=\"C1\", s=2)\n",
    "    ax.scatter(*target.T, c=\"magenta\", s=10)\n",
    "    ax.axis('scaled')"
   ]
  },
  {
   "cell_type": "code",
   "execution_count": 20,
   "metadata": {},
   "outputs": [
    {
     "name": "stdout",
     "output_type": "stream",
     "text": [
      "<built-in function WFG5> 3obj 8dim k:4 l:4 M:3\n"
     ]
    }
   ],
   "source": [
    "from experiments.directed.data.wfg6_.problem_setup import func, k, l, M, n_dim, n_obj, y\n",
    "print(\"{} {}obj {}dim\".format(func, n_obj, n_dim), \"k:{}\".format(k), \"l:{}\".format(l), \"M:{}\".format(M))"
   ]
  },
  {
   "cell_type": "code",
   "execution_count": 21,
   "metadata": {},
   "outputs": [],
   "source": [
    "ref_points = np.load(\"../../../undirected/igd_refpoints/problem_refpoints/data/wfg_elipse_3d_refpoints\")"
   ]
  },
  {
   "cell_type": "code",
   "execution_count": 22,
   "metadata": {},
   "outputs": [],
   "source": [
    "targets = np.asarray(target_dict['ELIPSOIDE_3obj'])"
   ]
  },
  {
   "cell_type": "code",
   "execution_count": 23,
   "metadata": {},
   "outputs": [
    {
     "data": {
      "text/plain": [
       "<mpl_toolkits.mplot3d.art3d.Path3DCollection at 0x7fe5300525b0>"
      ]
     },
     "execution_count": 23,
     "metadata": {},
     "output_type": "execute_result"
    }
   ],
   "source": [
    "%matplotlib qt\n",
    "fig = plt.figure(figsize=[10, 10])\n",
    "ax = fig.gca(projection=\"3d\")\n",
    "ax.scatter(*y.T, s=2)\n",
    "ax.scatter(*targets.T, c=\"magenta\")\n",
    "ax.scatter(*ref_points.T, c=\"C1\", alpha=0.002)"
   ]
  },
  {
   "cell_type": "code",
   "execution_count": 15,
   "metadata": {},
   "outputs": [],
   "source": [
    "fig, axes = plt.subplots(2, 3,figsize=[15, 10], subplot_kw={'projection': \"3d\"})\n",
    "\n",
    "target = targets[2]\n",
    "\n",
    "for ax, target in zip(axes.flat, targets):\n",
    "    igd_points, other_points = get_target_igd_refpoints(target, ref_points[::10]) \n",
    "    \n",
    "    ax.scatter(*other_points.T, c=\"C0\", s=2, alpha=0.2)\n",
    "    ax.scatter(*igd_points.T, c=\"C1\", s=2)\n",
    "    ax.scatter(*target.T, c=\"magenta\", s=10)"
   ]
  },
  {
   "cell_type": "code",
   "execution_count": 16,
   "metadata": {},
   "outputs": [],
   "source": [
    "for i, t in enumerate(targets):\n",
    "    plt.scatter(*t, label = i)"
   ]
  },
  {
   "cell_type": "code",
   "execution_count": 17,
   "metadata": {},
   "outputs": [],
   "source": [
    "ref_points = np.load(\"../../../undirected/igd_refpoints/problem_refpoints/data/wfg_elipse_4d_refpoints\")"
   ]
  },
  {
   "cell_type": "code",
   "execution_count": 20,
   "metadata": {},
   "outputs": [
    {
     "data": {
      "text/plain": [
       "array([[0.042, 0.398, 5.366, 0.275],\n",
       "       [0.046, 0.442, 5.963, 0.305],\n",
       "       [0.051, 0.486, 6.559, 0.336],\n",
       "       [0.098, 2.13 , 4.253, 1.407],\n",
       "       [0.109, 2.367, 4.725, 1.563],\n",
       "       [0.12 , 2.604, 5.198, 1.719]])"
      ]
     },
     "execution_count": 20,
     "metadata": {},
     "output_type": "execute_result"
    }
   ],
   "source": [
    "targets = np.asarray(target_dict['ELIPSOIDE_4obj'])\n",
    "targets"
   ]
  },
  {
   "cell_type": "code",
   "execution_count": null,
   "metadata": {},
   "outputs": [],
   "source": []
  }
 ],
 "metadata": {
  "kernelspec": {
   "display_name": "testsuite",
   "language": "python",
   "name": "testsuite"
  },
  "language_info": {
   "codemirror_mode": {
    "name": "ipython",
    "version": 3
   },
   "file_extension": ".py",
   "mimetype": "text/x-python",
   "name": "python",
   "nbconvert_exporter": "python",
   "pygments_lexer": "ipython3",
   "version": "3.8.3"
  }
 },
 "nbformat": 4,
 "nbformat_minor": 4
}
