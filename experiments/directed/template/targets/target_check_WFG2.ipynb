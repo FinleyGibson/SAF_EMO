{
 "cells": [
  {
   "cell_type": "code",
   "execution_count": 1,
   "metadata": {},
   "outputs": [],
   "source": [
    "import os\n",
    "import sys\n",
    "import rootpath\n",
    "sys.path.append(rootpath.detect())\n",
    "\n",
    "import wfg\n",
    "import numpy as np\n",
    "import n_sphere\n",
    "import matplotlib.pyplot as plt\n",
    "from testsuite.utilities import Pareto_split, get_target_igd_refpoints"
   ]
  },
  {
   "cell_type": "code",
   "execution_count": 2,
   "metadata": {},
   "outputs": [],
   "source": [
    "def cartesian_to_spherical(x):\n",
    "    \"\"\"\n",
    "    converts n-dimensional, cartesian coordinates x into \n",
    "    polar coordinates\n",
    "    \"\"\"\n",
    "    assert x.ndim == 1\n",
    "    r = np.linalg.norm(x)\n",
    "    n = x.shape[0]-1\n",
    "    \n",
    "    phi_n_1 = np.arccos(x[n-1]/(np.sqrt(np.sum(x[n-1:]**2))))\n",
    "    if x[-1]< 0:\n",
    "        phi_n_1 = (2*np.pi)-phi_n_1\n",
    "        \n",
    "    phi_n_2 = np.arccos(x[n-2]/(np.sqrt(np.sum(x[n-2:]**2))))\n",
    "    \n",
    "    phi = [np.arccos(x[i]/np.sqrt(np.sum(x[i:]**2))) for i in range(n-2)]\n",
    "    return np.array([*phi, phi_n_2, phi_n_1]), r\n",
    "\n",
    "def spherical_to_cartesian(phis, r):\n",
    "    \"\"\"\n",
    "    converts n-1 dimensional array of angles phis, and radius\n",
    "    r into n-dimensional cartesian coordinates\n",
    "    \"\"\"\n",
    "    phis= np.array(phis)\n",
    "    n = phis.shape[0]+1\n",
    "    \n",
    "    x_n = r*np.product(np.sin(phis))\n",
    "    x_n_1 = r*np.product(np.sin(phis[:-1]))*np.cos(phis[-1])\n",
    "    \n",
    "    xs = [r*np.cos(phis[i])*np.prod(np.sin(phis[:i]))for i in range(n-2)]\n",
    "    \n",
    "    return np.array([*xs, x_n_1, x_n])"
   ]
  },
  {
   "cell_type": "code",
   "execution_count": 3,
   "metadata": {},
   "outputs": [],
   "source": [
    "def gen_points(prob_n, n_obj, kfactor, lfactor, n_points):\n",
    "\n",
    "    M = n_obj\n",
    "    k = kfactor*(M-1)   # position related params\n",
    "    l = lfactor*2       # distance related params\n",
    "    \n",
    "    n_dim = k+l\n",
    "    n_obj = M\n",
    "    func = getattr(wfg, 'WFG{}'.format(int(prob_n)))\n",
    "\n",
    "    N = n_points\n",
    "    y = np.zeros((N, n_obj))\n",
    "    x = np.zeros((N, n_dim))\n",
    "    for n in range(N):\n",
    "        z = wfg.random_soln(k, l, func.__name__)\n",
    "        y[n,:] = func(z, k, M)\n",
    "        x[n,:] = z\n",
    "    return y"
   ]
  },
  {
   "cell_type": "code",
   "execution_count": 4,
   "metadata": {},
   "outputs": [],
   "source": [
    "def find_points_from_angles(points, angles):\n",
    "    # deg to rads\n",
    "    angles = np.array(angles)*np.pi/180\n",
    "    \n",
    "    # gen ref vector against whichy to measure angles, using dot product \n",
    "    ref_point = spherical_to_cartesian(angles, 1.)\n",
    "    \n",
    "    # normalise length of points\n",
    "    points_norm = points/np.linalg.norm(points, axis=1).reshape(-1,1)\n",
    "    \n",
    "    print(points_norm.shape)\n",
    "    print(ref_point.shape)\n",
    "    cos_point_angles = np.array([np.dot(point, ref_point) for point in points_norm])\n",
    "    \n",
    "    return np.argmax(cos_point_angles)\n",
    "    "
   ]
  },
  {
   "cell_type": "code",
   "execution_count": 6,
   "metadata": {},
   "outputs": [],
   "source": [
    "y = gen_points(prob_n=4, n_obj=2, kfactor=2, lfactor=2, n_points=100)\n",
    "y = np.load('../../comp/igd_refpoints/problem_refpoints/data/wfg2_2d_refpoints')"
   ]
  },
  {
   "cell_type": "code",
   "execution_count": 7,
   "metadata": {},
   "outputs": [
    {
     "name": "stdout",
     "output_type": "stream",
     "text": [
      "(1301, 2)\n",
      "(2,)\n",
      "(1301, 2)\n",
      "(2,)\n"
     ]
    }
   ],
   "source": [
    "t_ind_0 = find_points_from_angles(y, [33])\n",
    "t_ind_1 = find_points_from_angles(y, [80])"
   ]
  },
  {
   "cell_type": "code",
   "execution_count": 8,
   "metadata": {},
   "outputs": [
    {
     "data": {
      "text/plain": [
       "(-0.09509266447065703,\n",
       " 2.088851433732369,\n",
       " -0.16717383265649288,\n",
       " 4.100503913992007)"
      ]
     },
     "execution_count": 8,
     "metadata": {},
     "output_type": "execute_result"
    },
    {
     "data": {
      "image/png": "[encoded data removed]",
      "text/plain": [
       "<Figure size 288x576 with 1 Axes>"
      ]
     },
     "metadata": {
      "needs_background": "light"
     },
     "output_type": "display_data"
    }
   ],
   "source": [
    "fig = plt.figure(figsize=[4,8])\n",
    "ax = fig.gca()\n",
    "ax.scatter(*y.T, s=5)\n",
    "y_norm = y/np.linalg.norm(y, axis=1).reshape(-1,1)\n",
    "ax.scatter(*y[t_ind_0].T, s=15, c=\"magenta\")\n",
    "ax.scatter(*y[t_ind_1].T, s=15, c=\"cyan\")\n",
    "ax.axis('equal')"
   ]
  },
  {
   "cell_type": "markdown",
   "metadata": {},
   "source": [
    "## 3D"
   ]
  },
  {
   "cell_type": "code",
   "execution_count": 9,
   "metadata": {},
   "outputs": [],
   "source": [
    "%matplotlib qt"
   ]
  },
  {
   "cell_type": "code",
   "execution_count": 10,
   "metadata": {},
   "outputs": [
    {
     "data": {
      "text/plain": [
       "(3322, 3)"
      ]
     },
     "execution_count": 10,
     "metadata": {},
     "output_type": "execute_result"
    }
   ],
   "source": [
    "y3 = gen_points(prob_n=6, n_obj=3, kfactor=2, lfactor=2, n_points=1000)\n",
    "y3 = np.load('../../comp/igd_refpoints/problem_refpoints/data/wfg2_3d_refpoints')\n",
    "y3, y3d = Pareto_split(y3)\n",
    "y3.shape"
   ]
  },
  {
   "cell_type": "code",
   "execution_count": 11,
   "metadata": {},
   "outputs": [
    {
     "name": "stdout",
     "output_type": "stream",
     "text": [
      "(3322, 3)\n",
      "(3,)\n",
      "(3322, 3)\n",
      "(3,)\n"
     ]
    },
    {
     "data": {
      "text/plain": [
       "2968"
      ]
     },
     "execution_count": 11,
     "metadata": {},
     "output_type": "execute_result"
    }
   ],
   "source": [
    "# t3_ind = find_points_from_angles(y3, [80, 65])\n",
    "# t3_ind_2 = find_points_from_angles(y3, [50, 30])\n",
    "t3_ind = find_points_from_angles(y3, [80, 65])\n",
    "t3_ind_2 = find_points_from_angles(y3, [33, 33])\n",
    "t3_ind_2"
   ]
  },
  {
   "cell_type": "code",
   "execution_count": 12,
   "metadata": {},
   "outputs": [],
   "source": [
    "fig = plt.figure(figsize=[10, 10]) \n",
    "ax = fig.gca(projection='3d')\n",
    "ax.set_box_aspect((2, 4, 6))\n",
    "ax.scatter(*y3.T, s=5, alpha=0.1)\n",
    "ax.set_xlim([0., 2.])\n",
    "ax.set_ylim([0., 4.])\n",
    "ax.set_zlim([0., 6.])\n",
    "for m in [0.9, 1., 1.1]:\n",
    "    ax.scatter(*y3[t3_ind]*m, s=20, c=\"magenta\")\n",
    "    ax.scatter(*y3[t3_ind_2]*m, s=20, c=\"cyan\")"
   ]
  },
  {
   "cell_type": "code",
   "execution_count": null,
   "metadata": {},
   "outputs": [
    {
     "name": "stdout",
     "output_type": "stream",
     "text": [
      "3244 79\n",
      "3215 108\n",
      "3322 1\n",
      "3322 1\n",
      "3322 1\n",
      "3322 1\n"
     ]
    }
   ],
   "source": [
    "fig = plt.figure(figsize=[30,10])\n",
    "ax0 = fig.add_subplot(131, projection='3d')\n",
    "ax1 = fig.add_subplot(132, projection='3d')\n",
    "ax2 = fig.add_subplot(133, projection='3d')\n",
    "\n",
    "for ax, m in zip(fig.axes, [0.8, 1., 1.2]):\n",
    "    t1 = y3[t3_ind]*m\n",
    "    t2 = y3[t3_ind_2]*m\n",
    "    igd_points1, other_points1 = get_target_igd_refpoints(t1, y3) \n",
    "    igd_points2, other_points2 = get_target_igd_refpoints(t2, y3) \n",
    "    other_points = np.array([p for p in other_points1 if p in other_points2 ])\n",
    "#     ax.scatter(*other_points.T, s=5, alpha=0.1)\n",
    "    ax.scatter(*t1, s=20, c=\"magenta\", marker ='^')\n",
    "    ax.scatter(*igd_points1.T, s=5, c=\"magenta\", alpha=0.2)\n",
    "    ax.scatter(*other_points.T, s=5, c=\"lightgrey\", alpha=0.2)\n",
    "    ax.scatter(*t2, s=20, c=\"cyan\", marker ='^')\n",
    "    ax.scatter(*igd_points2.T, s=5, c=\"cyan\", alpha=0.2)\n"
   ]
  },
  {
   "cell_type": "markdown",
   "metadata": {},
   "source": [
    "### 4D"
   ]
  },
  {
   "cell_type": "code",
   "execution_count": 33,
   "metadata": {},
   "outputs": [
    {
     "data": {
      "text/plain": [
       "(5787, 4)"
      ]
     },
     "execution_count": 33,
     "metadata": {},
     "output_type": "execute_result"
    }
   ],
   "source": [
    "# y4 = gen_points(prob_n=4, n_obj=4, kfactor=2, lfactor=2, n_points=100000)\n",
    "y4 = np.load('../../comp/igd_refpoints/problem_refpoints/data/wfg_elipse_4d_refpoints')[::5]\n",
    "y4.shape"
   ]
  },
  {
   "cell_type": "code",
   "execution_count": 34,
   "metadata": {},
   "outputs": [
    {
     "data": {
      "text/plain": [
       "(5787, 3)"
      ]
     },
     "execution_count": 34,
     "metadata": {},
     "output_type": "execute_result"
    }
   ],
   "source": [
    "ans = np.array([cartesian_to_spherical(y4i)[0] for y4i in y4])\n",
    "ans.shape"
   ]
  },
  {
   "cell_type": "code",
   "execution_count": 35,
   "metadata": {},
   "outputs": [
    {
     "name": "stdout",
     "output_type": "stream",
     "text": [
      "(5787, 4)\n",
      "(4,)\n",
      "(5787, 4)\n",
      "(4,)\n"
     ]
    }
   ],
   "source": [
    "t4_ind = find_points_from_angles(y4, [80, 30, 30])\n",
    "t4_ind2 = find_points_from_angles(y4, [65, 65, 65])"
   ]
  },
  {
   "cell_type": "code",
   "execution_count": 36,
   "metadata": {},
   "outputs": [
    {
     "name": "stdout",
     "output_type": "stream",
     "text": [
      "12 5776\n",
      "12 5776\n"
     ]
    },
    {
     "data": {
      "text/plain": [
       "<matplotlib.collections.PathCollection at 0x7fed0d4ebeb0>"
      ]
     },
     "execution_count": 36,
     "metadata": {},
     "output_type": "execute_result"
    }
   ],
   "source": [
    "fig = plt.figure(figsize=[20, 10]) \n",
    "ax0  = fig.add_subplot(241)\n",
    "ax1  = fig.add_subplot(242)\n",
    "ax2  = fig.add_subplot(243)\n",
    "ax3  = fig.add_subplot(244)\n",
    "ax4  = fig.add_subplot(245)\n",
    "ax5  = fig.add_subplot(246)\n",
    "ax6  = fig.add_subplot(247)\n",
    "\n",
    "y = y4[:, :2]\n",
    "t1 = y[t4_ind]\n",
    "t2 = y[t4_ind2]\n",
    "igd_points1, other_points1 = get_target_igd_refpoints(t1, y) \n",
    "igd_points2, other_points2 = get_target_igd_refpoints(t2, y) \n",
    "yp = np.array([p for p in other_points1 if p in other_points2])\n",
    "ax0.scatter(*yp.T, s=5, c=\"lightgrey\")\n",
    "ax0.scatter(*t1, s=20, c=\"magenta\")\n",
    "ax0.scatter(*t2, s=20, c=\"cyan\")\n",
    "\n",
    "# ax1.scatter(*y4[:,1:3].T, s=5)\n",
    "# ax1.scatter(*y4[:, 1:3][t4_ind], s=20, c=\"magenta\")\n",
    "# ax1.scatter(*y4[:, 1:3][t4_ind2], s=20, c=\"cyan\")\n",
    "\n",
    "# ax2.scatter(*y4[:,2:4].T, s=5)\n",
    "# ax2.scatter(*y4[:, 2:4][t4_ind], s=20, c=\"magenta\")\n",
    "# ax2.scatter(*y4[:, 2:4][t4_ind2], s=20, c=\"cyan\")\n",
    "\n",
    "# ax3.scatter(*y4[:,[0, 2]].T, s=5)\n",
    "# ax3.scatter(*y4[:, [0, 2]][t4_ind], s=20, c=\"magenta\")\n",
    "# ax3.scatter(*y4[:, [0, 2]][t4_ind2], s=20, c=\"cyan\")\n",
    "\n",
    "# ax4.scatter(*y4[:,[0, 3]].T, s=5)\n",
    "# ax4.scatter(*y4[:, [0, 3]][t4_ind], s=20, c=\"magenta\")\n",
    "# ax4.scatter(*y4[:, [0, 3]][t4_ind2], s=20, c=\"cyan\")\n",
    "\n",
    "# ax5.scatter(*y4[:,[1, 3]].T, s=5)\n",
    "# ax5.scatter(*y4[:, [1, 3]][t4_ind], s=20, c=\"magenta\")\n",
    "# ax5.scatter(*y4[:, [1, 3]][t4_ind2], s=20, c=\"cyan\")\n",
    "\n",
    "# ax6.scatter(*y4[:,[1, 2]].T, s=5)\n",
    "# ax6.scatter(*y4[:, [1, 2]][t4_ind], s=20, c=\"magenta\")\n",
    "# ax6.scatter(*y4[:, [1, 2]][t4_ind2], s=20, c=\"cyan\")"
   ]
  },
  {
   "cell_type": "code",
   "execution_count": 39,
   "metadata": {},
   "outputs": [
    {
     "data": {
      "text/plain": [
       "(5776, 2)"
      ]
     },
     "execution_count": 39,
     "metadata": {},
     "output_type": "execute_result"
    }
   ],
   "source": [
    "igd_points1.shape"
   ]
  },
  {
   "cell_type": "code",
   "execution_count": 40,
   "metadata": {},
   "outputs": [
    {
     "data": {
      "text/plain": [
       "(12, 2)"
      ]
     },
     "execution_count": 40,
     "metadata": {},
     "output_type": "execute_result"
    }
   ],
   "source": [
    "other_points1.shape"
   ]
  },
  {
   "cell_type": "code",
   "execution_count": 37,
   "metadata": {},
   "outputs": [
    {
     "data": {
      "text/plain": [
       "<matplotlib.collections.PathCollection at 0x7fd5f1db2100>"
      ]
     },
     "execution_count": 37,
     "metadata": {},
     "output_type": "execute_result"
    }
   ],
   "source": [
    "fig = plt.figure(figsize=[20, 10]) \n",
    "ax0  = fig.add_subplot(241)\n",
    "ax1  = fig.add_subplot(242)\n",
    "ax2  = fig.add_subplot(243)\n",
    "ax3  = fig.add_subplot(244)\n",
    "ax4  = fig.add_subplot(245)\n",
    "ax5  = fig.add_subplot(246)\n",
    "ax6  = fig.add_subplot(247)\n",
    "\n",
    "\n",
    "igd_points1, other_points1 = get_target_igd_refpoints(t1, y3) \n",
    "ax0.scatter(*y4[:,:2].T, s=5)\n",
    "ax0.scatter(*y4[:, :2][t4_ind], s=20, c=\"magenta\")\n",
    "ax0.scatter(*y4[:, :2][t4_ind2], s=20, c=\"cyan\")\n",
    "\n",
    "ax1.scatter(*y4[:,1:3].T, s=5)\n",
    "ax1.scatter(*y4[:, 1:3][t4_ind], s=20, c=\"magenta\")\n",
    "ax1.scatter(*y4[:, 1:3][t4_ind2], s=20, c=\"cyan\")\n",
    "\n",
    "ax2.scatter(*y4[:,2:4].T, s=5)\n",
    "ax2.scatter(*y4[:, 2:4][t4_ind], s=20, c=\"magenta\")\n",
    "ax2.scatter(*y4[:, 2:4][t4_ind2], s=20, c=\"cyan\")\n",
    "\n",
    "ax3.scatter(*y4[:,[0, 2]].T, s=5)\n",
    "ax3.scatter(*y4[:, [0, 2]][t4_ind], s=20, c=\"magenta\")\n",
    "ax3.scatter(*y4[:, [0, 2]][t4_ind2], s=20, c=\"cyan\")\n",
    "\n",
    "ax4.scatter(*y4[:,[0, 3]].T, s=5)\n",
    "ax4.scatter(*y4[:, [0, 3]][t4_ind], s=20, c=\"magenta\")\n",
    "ax4.scatter(*y4[:, [0, 3]][t4_ind2], s=20, c=\"cyan\")\n",
    "\n",
    "ax5.scatter(*y4[:,[1, 3]].T, s=5)\n",
    "ax5.scatter(*y4[:, [1, 3]][t4_ind], s=20, c=\"magenta\")\n",
    "ax5.scatter(*y4[:, [1, 3]][t4_ind2], s=20, c=\"cyan\")\n",
    "\n",
    "ax6.scatter(*y4[:,[1, 2]].T, s=5)\n",
    "ax6.scatter(*y4[:, [1, 2]][t4_ind], s=20, c=\"magenta\")\n",
    "ax6.scatter(*y4[:, [1, 2]][t4_ind2], s=20, c=\"cyan\")"
   ]
  },
  {
   "cell_type": "code",
   "execution_count": 260,
   "metadata": {},
   "outputs": [
    {
     "data": {
      "text/plain": [
       "array([1.47153967, 2.41276036, 1.28539633, 1.76922688])"
      ]
     },
     "execution_count": 260,
     "metadata": {},
     "output_type": "execute_result"
    }
   ],
   "source": [
    "Y4[t4_ind]"
   ]
  },
  {
   "cell_type": "code",
   "execution_count": null,
   "metadata": {},
   "outputs": [],
   "source": []
  }
 ],
 "metadata": {
  "kernelspec": {
   "display_name": "testsuite",
   "language": "python",
   "name": "testsuite"
  },
  "language_info": {
   "codemirror_mode": {
    "name": "ipython",
    "version": 3
   },
   "file_extension": ".py",
   "mimetype": "text/x-python",
   "name": "python",
   "nbconvert_exporter": "python",
   "pygments_lexer": "ipython3",
   "version": "3.8.3"
  }
 },
 "nbformat": 4,
 "nbformat_minor": 4
}
