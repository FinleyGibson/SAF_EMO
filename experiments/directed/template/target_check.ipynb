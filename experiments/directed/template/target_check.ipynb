{
 "cells": [
  {
   "cell_type": "code",
   "execution_count": 1,
   "metadata": {},
   "outputs": [],
   "source": [
    "import os\n",
    "import sys\n",
    "import rootpath\n",
    "sys.path.append(rootpath.detect())\n",
    "\n",
    "from testsuite.utilities import Pareto_split, dominates\n",
    "from testsuite.analysis import load_all #, plot_all_pareto_2d, PLOT_STYLE, plot_measure\n",
    "from problem_setup import func, y, weighting, n_obj, n_dim\n",
    "\n",
    "import pickle\n",
    "import numpy as np\n",
    "import matplotlib\n",
    "import matplotlib.pyplot as plt\n",
    "import wfg"
   ]
  },
  {
   "cell_type": "code",
   "execution_count": 2,
   "metadata": {},
   "outputs": [],
   "source": [
    "M = 2                                   # Number of objectives\n",
    "kfactor = 1\n",
    "lfactor = 2\n",
    "k = kfactor*(M-1)   # position related params\n",
    "l = lfactor*2           # distance related params\n",
    "\n",
    "n_dim = k+l\n",
    "n_obj = M\n",
    "func = wfg.WFG5"
   ]
  },
  {
   "cell_type": "code",
   "execution_count": 3,
   "metadata": {},
   "outputs": [],
   "source": [
    "N = 500\n",
    "y = np.zeros((N, n_obj))\n",
    "x = np.zeros((N, n_dim))\n",
    "for n in range(N):\n",
    "    z = wfg.random_soln(k, l, func.__name__)\n",
    "    y[n,:] = func(z, k, M)\n",
    "    x[n,:] = z"
   ]
  },
  {
   "cell_type": "code",
   "execution_count": 4,
   "metadata": {},
   "outputs": [
    {
     "data": {
      "text/plain": [
       "(3, 2)"
      ]
     },
     "execution_count": 4,
     "metadata": {},
     "output_type": "execute_result"
    }
   ],
   "source": [
    "targets = np.array([[1.79, 1.79],[1.79*0.9, 1.79*0.9],[1.79*1.1, 1.79*1.1]])\n",
    "targets.shape"
   ]
  },
  {
   "cell_type": "code",
   "execution_count": 5,
   "metadata": {},
   "outputs": [
    {
     "data": {
      "text/plain": [
       "(3, 2)"
      ]
     },
     "execution_count": 5,
     "metadata": {},
     "output_type": "execute_result"
    }
   ],
   "source": [
    "targets2 = np.array([[.985, 3.48], [0.985*0.9, 3.48*0.9], [0.985*1.1, 3.48*1.1]])\n",
    "targets2.shape"
   ]
  },
  {
   "cell_type": "code",
   "execution_count": 6,
   "metadata": {},
   "outputs": [
    {
     "data": {
      "text/plain": [
       "<matplotlib.collections.PathCollection at 0x7f9a4ac4b3a0>"
      ]
     },
     "execution_count": 6,
     "metadata": {},
     "output_type": "execute_result"
    },
    {
     "data": {
      "image/png": "[encoded data removed]",
      "text/plain": [
       "<Figure size 720x720 with 1 Axes>"
      ]
     },
     "metadata": {
      "needs_background": "light"
     },
     "output_type": "display_data"
    }
   ],
   "source": [
    "plt.figure(figsize=[10, 10])\n",
    "plt.scatter(*y.T, s=2)\n",
    "plt.scatter(*targets.T, c=\"magenta\")\n",
    "plt.scatter(*targets2.T, c=\"cyan\")"
   ]
  },
  {
   "cell_type": "code",
   "execution_count": 7,
   "metadata": {},
   "outputs": [
    {
     "data": {
      "text/plain": [
       "(250, 2)"
      ]
     },
     "execution_count": 7,
     "metadata": {},
     "output_type": "execute_result"
    }
   ],
   "source": [
    "p2 = np.load(\"../../comp/igd_refpoints/problem_refpoints/data/wfg_elipse_2d_refpoints\")\n",
    "p2 = p2[::20]\n",
    "p2.shape"
   ]
  },
  {
   "cell_type": "code",
   "execution_count": 8,
   "metadata": {},
   "outputs": [],
   "source": [
    "from testsuite.utilities import get_target_igd_refpoints"
   ]
  },
  {
   "cell_type": "code",
   "execution_count": 9,
   "metadata": {},
   "outputs": [],
   "source": [
    "# dom_inds = [dominates(targets[1:2], pi, maximize= False) for pi in p2]\n",
    "target = targets[2]\n",
    "igd_points, other_points = get_target_igd_refpoints(target, p2) "
   ]
  },
  {
   "cell_type": "code",
   "execution_count": 10,
   "metadata": {},
   "outputs": [
    {
     "data": {
      "text/plain": [
       "array([[1.90001817, 1.24894816],\n",
       "       [1.90047894, 1.24612141],\n",
       "       [1.84383666, 1.54956046],\n",
       "       [1.89306473, 1.2904614 ],\n",
       "       [1.94740287, 0.91133467],\n",
       "       [1.79075817, 1.78123426],\n",
       "       [1.92430141, 1.09014439],\n",
       "       [1.94039825, 0.96930843],\n",
       "       [1.82979061, 1.61490721],\n",
       "       [1.84155732, 1.56041331],\n",
       "       [1.91336219, 1.16458778],\n",
       "       [1.89031005, 1.3064912 ],\n",
       "       [1.83388927, 1.59611251],\n",
       "       [1.83784313, 1.57777122],\n",
       "       [1.78349267, 1.81021092],\n",
       "       [1.89018852, 1.30721272],\n",
       "       [1.79979713, 1.74445352],\n",
       "       [1.92098975, 1.11321192],\n",
       "       [1.83674069, 1.58292329],\n",
       "       [1.89394954, 1.28528683],\n",
       "       [1.81730077, 1.67029186],\n",
       "       [1.92242283, 1.1032805 ],\n",
       "       [1.8656922 , 1.44115667],\n",
       "       [1.85007382, 1.51953321],\n",
       "       [1.96460998, 0.74919541],\n",
       "       [1.80122668, 1.73851896],\n",
       "       [1.8534355 , 1.50304606],\n",
       "       [1.87600034, 1.38657082],\n",
       "       [1.91370623, 1.16233052],\n",
       "       [1.89706198, 1.2667857 ],\n",
       "       [1.8139948 , 1.68458643],\n",
       "       [1.96038106, 0.79222823],\n",
       "       [1.74665073, 1.94878268],\n",
       "       [1.95742401, 0.82097398],\n",
       "       [1.94930171, 0.89494761],\n",
       "       [1.86878591, 1.42499826],\n",
       "       [1.93649033, 1.0001069 ],\n",
       "       [1.91669531, 1.14242416],\n",
       "       [1.95532995, 0.84078859],\n",
       "       [1.8084694 , 1.70819254],\n",
       "       [1.82268918, 1.64661024],\n",
       "       [1.82406866, 1.64058212],\n",
       "       [1.86125286, 1.46413706],\n",
       "       [1.96805849, 0.7123168 ],\n",
       "       [1.81406589, 1.68426617],\n",
       "       [1.75828911, 1.90632346],\n",
       "       [1.75580764, 1.91545371],\n",
       "       [1.91692627, 1.14095233],\n",
       "       [1.9079669 , 1.19960144],\n",
       "       [1.80006804, 1.74329697],\n",
       "       [1.88792896, 1.32026991],\n",
       "       [1.93808434, 0.98767538],\n",
       "       [1.91495256, 1.15420327],\n",
       "       [1.94894861, 0.89803277],\n",
       "       [1.8613463 , 1.46368158],\n",
       "       [1.95090523, 0.88089878],\n",
       "       [1.84992176, 1.52028764],\n",
       "       [1.90335654, 1.22840201],\n",
       "       [1.8358431 , 1.58706219],\n",
       "       [1.87582983, 1.38749567],\n",
       "       [1.9227875 , 1.1008487 ],\n",
       "       [1.96285045, 0.76739231]])"
      ]
     },
     "execution_count": 10,
     "metadata": {},
     "output_type": "execute_result"
    }
   ],
   "source": [
    "igd_points"
   ]
  },
  {
   "cell_type": "code",
   "execution_count": 11,
   "metadata": {},
   "outputs": [
    {
     "data": {
      "text/plain": [
       "array([1.969, 1.969])"
      ]
     },
     "execution_count": 11,
     "metadata": {},
     "output_type": "execute_result"
    }
   ],
   "source": [
    "target"
   ]
  },
  {
   "cell_type": "code",
   "execution_count": 17,
   "metadata": {},
   "outputs": [
    {
     "data": {
      "text/plain": [
       "<matplotlib.collections.PathCollection at 0x7f9a438e4340>"
      ]
     },
     "execution_count": 17,
     "metadata": {},
     "output_type": "execute_result"
    },
    {
     "data": {
      "image/png": "[encoded data removed]",
      "text/plain": [
       "<Figure size 432x288 with 1 Axes>"
      ]
     },
     "metadata": {
      "needs_background": "light"
     },
     "output_type": "display_data"
    }
   ],
   "source": [
    "plt.scatter(*other_points.T, c=\"C0\", s=2, alpha=0.2)\n",
    "plt.scatter(*igd_points.T, c=\"C1\", s=2)\n",
    "plt.scatter(*target.T, c=\"magenta\", s=10)"
   ]
  },
  {
   "cell_type": "code",
   "execution_count": 13,
   "metadata": {},
   "outputs": [],
   "source": [
    "from problem_setup import func, objective_function, limits\n",
    "from testsuite.surrogates import GP, MultiSurrogate\n",
    "from testsuite.directed_optimisers import DirectedSaf"
   ]
  },
  {
   "cell_type": "code",
   "execution_count": 14,
   "metadata": {},
   "outputs": [],
   "source": [
    "multi_surrogate = MultiSurrogate(GP, scaled=True)\n",
    "budget=20\n",
    "seed = 0\n",
    "opt = DirectedSaf(objective_function=objective_function, ei=False,  targets=[[0.5, 4.]], w=0.5, limits=limits, surrogate=multi_surrogate, n_initial=10, budget=budget, seed=seed)"
   ]
  },
  {
   "cell_type": "code",
   "execution_count": 15,
   "metadata": {},
   "outputs": [
    {
     "name": "stderr",
     "output_type": "stream",
     "text": [
      "reconstraining parameters GP_regression.Mat52.lengthscale\n",
      "reconstraining parameters GP_regression.Mat52.variance\n",
      "reconstraining parameters GP_regression.Gaussian_noise.variance\n"
     ]
    },
    {
     "name": "stdout",
     "output_type": "stream",
     "text": [
      "Optimization restart 1/10, f = 9.96185006553449\n",
      "Optimization restart 2/10, f = 14.18938533204673\n",
      "Optimization restart 3/10, f = 9.961850065535945\n",
      "Optimization restart 4/10, f = 9.961850065537117\n",
      "Optimization restart 5/10, f = 9.961850065536447\n",
      "Optimization restart 6/10, f = 9.96185006553496\n",
      "Optimization restart 7/10, f = 9.961850065534353\n",
      "Optimization restart 8/10, f = 9.961850065534785\n",
      "Optimization restart 9/10, f = 9.961850065535344\n"
     ]
    },
    {
     "name": "stderr",
     "output_type": "stream",
     "text": [
      "reconstraining parameters GP_regression.Mat52.lengthscale\n",
      "reconstraining parameters GP_regression.Mat52.variance\n",
      "reconstraining parameters GP_regression.Gaussian_noise.variance\n"
     ]
    },
    {
     "name": "stdout",
     "output_type": "stream",
     "text": [
      "Optimization restart 10/10, f = 9.96185006553491\n",
      "Optimization restart 1/10, f = 8.198011690460676\n",
      "Optimization restart 2/10, f = 8.198011690458479\n",
      "Optimization restart 3/10, f = 8.198011690454972\n",
      "Optimization restart 4/10, f = 8.198011690458252\n",
      "Optimization restart 5/10, f = 8.19801169045515\n",
      "Optimization restart 6/10, f = 8.198011690453846\n",
      "Optimization restart 7/10, f = 8.19801169045459\n",
      "Optimization restart 8/10, f = 8.198011690497925\n",
      "Optimization restart 9/10, f = 8.198011690454814\n",
      "Optimization restart 10/10, f = 8.19801169045343\n",
      "(4_w,8)-aCMA-ES (mu_w=2.6,w_1=52%) in dimension 5 (seed=606351, Thu May 20 16:37:27 2021)\n",
      "Iterat #Fevals   function value  axis ratio  sigma  min&max std  t[m:s]\n",
      "    1      8 -4.178763895101673e-01 1.0e+00 2.24e-01  2e-01  2e-01 0:00.0\n",
      "    2     16 -4.317801190017653e-01 1.2e+00 2.55e-01  2e-01  3e-01 0:00.0\n",
      "    3     24 -4.608222227817865e-01 1.5e+00 3.39e-01  3e-01  4e-01 0:00.1\n",
      "  100    800 -5.322820939349422e-01 1.2e+01 5.56e-03  1e-04  2e-03 0:01.5\n",
      "  152   1216 -5.322820971773822e-01 1.5e+01 3.62e-05  2e-07  3e-06 0:02.6\n"
     ]
    },
    {
     "name": "stderr",
     "output_type": "stream",
     "text": [
      "reconstraining parameters GP_regression.Mat52.lengthscale\n",
      "reconstraining parameters GP_regression.Mat52.variance\n",
      "reconstraining parameters GP_regression.Gaussian_noise.variance\n"
     ]
    },
    {
     "name": "stdout",
     "output_type": "stream",
     "text": [
      "termination on tolfun=1e-11 (Thu May 20 16:37:30 2021)\n",
      "final/bestever f-value = -5.322821e-01 -5.322821e-01\n",
      "incumbent solution: [4.598466937710136e-14, 3.194946624410452, 1.1148261928634378e-13, 7.9999999999953095, 9.999999999998291]\n",
      "std deviation: [2.0002145427765342e-07, 2.5740906621872915e-06, 3.060175763556047e-07, 2.030844928179679e-06, 1.7581587131416093e-06]\n",
      "Optimization restart 1/10, f = 9.197943474261141\n",
      "Optimization restart 2/10, f = 9.197943474259596\n",
      "Optimization restart 3/10, f = 15.608323865251416\n",
      "Optimization restart 4/10, f = 9.197943474259109\n",
      "Optimization restart 5/10, f = 9.197943474260036\n",
      "Optimization restart 6/10, f = 9.197943474263042\n"
     ]
    },
    {
     "name": "stderr",
     "output_type": "stream",
     "text": [
      "reconstraining parameters GP_regression.Mat52.lengthscale\n",
      "reconstraining parameters GP_regression.Mat52.variance\n",
      "reconstraining parameters GP_regression.Gaussian_noise.variance\n"
     ]
    },
    {
     "name": "stdout",
     "output_type": "stream",
     "text": [
      "Optimization restart 7/10, f = 9.197943474262312\n",
      "Optimization restart 8/10, f = 9.197943474258933\n",
      "Optimization restart 9/10, f = 9.197943474260326\n",
      "Optimization restart 10/10, f = 15.608323865251402\n",
      "Optimization restart 1/10, f = 8.050430929899331\n",
      "Optimization restart 2/10, f = 8.050430929910002\n",
      "Optimization restart 3/10, f = 8.05043092994434\n",
      "Optimization restart 4/10, f = 15.6083238652514\n",
      "Optimization restart 5/10, f = 8.050430929903104\n",
      "Optimization restart 6/10, f = 8.050430929899317\n",
      "Optimization restart 7/10, f = 8.050430929898518\n",
      "Optimization restart 8/10, f = 15.608323865260292\n",
      "Optimization restart 9/10, f = 8.050430929899584\n",
      "Optimization restart 10/10, f = 8.05043092990001\n",
      "(4_w,8)-aCMA-ES (mu_w=2.6,w_1=52%) in dimension 5 (seed=679733, Thu May 20 16:37:32 2021)\n",
      "Iterat #Fevals   function value  axis ratio  sigma  min&max std  t[m:s]\n",
      "    1      8 -4.517569520192809e-01 1.0e+00 2.41e-01  2e-01  3e-01 0:00.0\n",
      "    2     16 -4.614115854614403e-01 1.3e+00 2.46e-01  2e-01  3e-01 0:00.0\n",
      "    3     24 -4.628119375463128e-01 1.3e+00 2.45e-01  2e-01  3e-01 0:00.1\n",
      "  100    800 -5.012392200047966e-01 8.1e+01 6.57e-02  5e-04  4e-02 0:01.4\n",
      "  200   1600 -5.012506473908713e-01 5.4e+03 8.56e-04  3e-06  2e-04 0:02.8\n",
      "  272   2176 -5.012506480638445e-01 1.5e+05 1.77e-04  3e-07  2e-05 0:03.8\n"
     ]
    },
    {
     "name": "stderr",
     "output_type": "stream",
     "text": [
      "reconstraining parameters GP_regression.Mat52.lengthscale\n",
      "reconstraining parameters GP_regression.Mat52.variance\n",
      "reconstraining parameters GP_regression.Gaussian_noise.variance\n"
     ]
    },
    {
     "name": "stdout",
     "output_type": "stream",
     "text": [
      "termination on tolfun=1e-11 (Thu May 20 16:37:36 2021)\n",
      "final/bestever f-value = -5.012506e-01 -5.012506e-01\n",
      "incumbent solution: [0.21170874202387027, 2.6042431060338007, 5.2293429155677695e-11, 5.045903409520523, 9.999999999997284]\n",
      "std deviation: [3.085701592550005e-07, 1.0023532817880747e-05, 2.128032892333809e-06, 2.4716475009335714e-05, 1.2574434566043612e-05]\n",
      "Optimization restart 1/10, f = 12.710606907649236\n",
      "Optimization restart 2/10, f = 12.710606907649197\n",
      "Optimization restart 3/10, f = 12.71060690765006\n",
      "Optimization restart 4/10, f = 17.027262398456095\n",
      "Optimization restart 5/10, f = 17.02726239845607\n",
      "Optimization restart 6/10, f = 12.710606907649193\n",
      "Optimization restart 7/10, f = 17.02726239845607\n"
     ]
    },
    {
     "name": "stderr",
     "output_type": "stream",
     "text": [
      "reconstraining parameters GP_regression.Mat52.lengthscale\n",
      "reconstraining parameters GP_regression.Mat52.variance\n",
      "reconstraining parameters GP_regression.Gaussian_noise.variance\n"
     ]
    },
    {
     "name": "stdout",
     "output_type": "stream",
     "text": [
      "Optimization restart 8/10, f = 10172572.092303693\n",
      "Optimization restart 9/10, f = 17.027262398456077\n",
      "Optimization restart 10/10, f = 10157496.852095809\n",
      "Optimization restart 1/10, f = 10.193135931346555\n",
      "Optimization restart 2/10, f = 10.193135931347555\n",
      "Optimization restart 3/10, f = 10.193135931347218\n",
      "Optimization restart 4/10, f = 10.19313593134887\n",
      "Optimization restart 5/10, f = 17.027262398456074\n",
      "Optimization restart 6/10, f = 10.193135931350998\n",
      "Optimization restart 7/10, f = 10.193135931346363\n",
      "Optimization restart 8/10, f = 10.193135931346255\n",
      "Optimization restart 9/10, f = 17.027262398464245\n",
      "Optimization restart 10/10, f = 10.193135931346333\n",
      "(4_w,8)-aCMA-ES (mu_w=2.6,w_1=52%) in dimension 5 (seed=678413, Thu May 20 16:37:38 2021)\n",
      "Iterat #Fevals   function value  axis ratio  sigma  min&max std  t[m:s]\n",
      "    1      8 -4.314662251659106e-01 1.0e+00 2.47e-01  2e-01  3e-01 0:00.0\n",
      "    2     16 -4.556815922533810e-01 1.4e+00 2.39e-01  2e-01  3e-01 0:00.0\n",
      "    3     24 -4.581882014343341e-01 1.4e+00 2.71e-01  3e-01  3e-01 0:00.0\n",
      "  100    800 -5.108861663247939e-01 1.7e+02 5.17e-02  1e-03  4e-02 0:01.3\n",
      "  200   1600 -5.108994178288095e-01 8.8e+04 2.16e-04  3e-06  9e-05 0:02.6\n"
     ]
    },
    {
     "name": "stderr",
     "output_type": "stream",
     "text": [
      " /home/finley/miniconda3/envs/testsuite/lib/python3.8/site-packages/cma/utilities/utils.py:329: UserWarning:\n",
      "        geno-pheno transformation introduced based on the\n",
      "        current covariance matrix with condition 1.0e+12 -> 1.0e+00,\n",
      "        injected solutions become \"invalid\" in this iteration (class=CMAEvolutionStrategy method=alleviate_conditioning iteration=248)\n"
     ]
    },
    {
     "name": "stdout",
     "output_type": "stream",
     "text": [
      "  266   2128 -5.108994179388625e-01 3.0e+00 1.03e-04  5e-05  1e-04 0:03.4\n"
     ]
    },
    {
     "name": "stderr",
     "output_type": "stream",
     "text": [
      "reconstraining parameters GP_regression.Mat52.lengthscale\n",
      "reconstraining parameters GP_regression.Mat52.variance\n",
      "reconstraining parameters GP_regression.Gaussian_noise.variance\n"
     ]
    },
    {
     "name": "stdout",
     "output_type": "stream",
     "text": [
      "termination on tolfun=1e-11 (Thu May 20 16:37:42 2021)\n",
      "final/bestever f-value = -5.108994e-01 -5.108994e-01\n",
      "incumbent solution: [0.13558219908678382, 3.999999999998605, 2.8539588018218183, 7.999999999997311, 8.690859660806382]\n",
      "std deviation: [4.595513292175081e-05, 0.00010239846306483698, 8.168683862056343e-05, 8.680432478046976e-05, 7.199535926057381e-05]\n",
      "Optimization restart 1/10, f = 14.094453398181136\n",
      "Optimization restart 2/10, f = 14.094453398240336\n",
      "Optimization restart 3/10, f = 86.78028137272739\n",
      "Optimization restart 4/10, f = 31.90121623172934\n",
      "Optimization restart 5/10, f = 14.094453398180974\n",
      "Optimization restart 6/10, f = 14.094453398183436\n",
      "Optimization restart 7/10, f = 18.446200931660826\n"
     ]
    },
    {
     "name": "stderr",
     "output_type": "stream",
     "text": [
      "reconstraining parameters GP_regression.Mat52.lengthscale\n",
      "reconstraining parameters GP_regression.Mat52.variance\n",
      "reconstraining parameters GP_regression.Gaussian_noise.variance\n"
     ]
    },
    {
     "name": "stdout",
     "output_type": "stream",
     "text": [
      "Optimization restart 8/10, f = 31.901217100398576\n",
      "Optimization restart 9/10, f = 14.094453398180873\n",
      "Optimization restart 10/10, f = 86.78027836043816\n",
      "Optimization restart 1/10, f = 11.78230448831755\n",
      "Optimization restart 2/10, f = 18.446200931733262\n",
      "Optimization restart 3/10, f = 11.782304488334956\n",
      "Optimization restart 4/10, f = 28.500675546146724\n",
      "Optimization restart 5/10, f = 18.446200931666553\n",
      "Optimization restart 6/10, f = 18.44620093166074\n",
      "Optimization restart 7/10, f = 11.782304488318747\n",
      "Optimization restart 8/10, f = 11.78230448832128\n",
      "Optimization restart 9/10, f = 11.782304488318992\n",
      "Optimization restart 10/10, f = 18.446200931687315\n",
      "(4_w,8)-aCMA-ES (mu_w=2.6,w_1=52%) in dimension 5 (seed=557960, Thu May 20 16:37:44 2021)\n",
      "Iterat #Fevals   function value  axis ratio  sigma  min&max std  t[m:s]\n",
      "    1      8 -4.737130261974022e-01 1.0e+00 2.31e-01  2e-01  2e-01 0:00.0\n",
      "    2     16 -4.944585374093948e-01 1.3e+00 2.31e-01  2e-01  2e-01 0:00.0\n",
      "    3     24 -4.934108959587288e-01 1.3e+00 2.69e-01  2e-01  3e-01 0:00.1\n",
      "  100    800 -5.004703677711421e-01 8.4e+01 1.14e-02  3e-04  8e-03 0:01.3\n",
      "  200   1600 -5.004715090277270e-01 3.3e+04 8.17e-05  1e-06  3e-05 0:02.7\n",
      "  243   1944 -5.004715090601461e-01 1.8e+05 2.54e-05  2e-07  4e-06 0:03.4\n"
     ]
    },
    {
     "name": "stderr",
     "output_type": "stream",
     "text": [
      "reconstraining parameters GP_regression.Mat52.lengthscale\n",
      "reconstraining parameters GP_regression.Mat52.variance\n",
      "reconstraining parameters GP_regression.Gaussian_noise.variance\n"
     ]
    },
    {
     "name": "stdout",
     "output_type": "stream",
     "text": [
      "termination on tolfun=1e-11 (Thu May 20 16:37:48 2021)\n",
      "final/bestever f-value = -5.004715e-01 -5.004715e-01\n",
      "incumbent solution: [0.14706754952932072, 2.5300456586278877, 4.5425707053305815e-15, 7.999999999999057, 7.4416525004894085]\n",
      "std deviation: [1.9481730197873548e-07, 2.3790663003269572e-06, 9.315483332336739e-07, 1.3709123622063315e-06, 4.057578146316136e-06]\n",
      "Optimization restart 1/10, f = 14.835782177857569\n",
      "Optimization restart 2/10, f = 14.83578217787601\n",
      "Optimization restart 3/10, f = 14.835782177856839\n",
      "Optimization restart 4/10, f = 19.865139464866832\n",
      "Optimization restart 5/10, f = 19.865139464866058\n"
     ]
    },
    {
     "name": "stderr",
     "output_type": "stream",
     "text": [
      "reconstraining parameters GP_regression.Mat52.lengthscale\n",
      "reconstraining parameters GP_regression.Mat52.variance\n",
      "reconstraining parameters GP_regression.Gaussian_noise.variance\n"
     ]
    },
    {
     "name": "stdout",
     "output_type": "stream",
     "text": [
      "Optimization restart 6/10, f = 14.835782177857002\n",
      "Optimization restart 7/10, f = 14554093.9504121\n",
      "Optimization restart 8/10, f = 19.865139464865422\n",
      "Optimization restart 9/10, f = 19.865139464867966\n",
      "Optimization restart 10/10, f = 19.86513946486542\n",
      "Optimization restart 1/10, f = 12.248761100220975\n",
      "Optimization restart 2/10, f = 12.248761100203197\n",
      "Optimization restart 3/10, f = 12.248761100204447\n",
      "Optimization restart 4/10, f = 12.248761100203854\n",
      "Optimization restart 5/10, f = 12.248761100203248\n",
      "Optimization restart 6/10, f = 93.4556877196577\n",
      "Optimization restart 7/10, f = 12.248761100203302\n",
      "Optimization restart 8/10, f = 12.248761100203183\n",
      "Optimization restart 9/10, f = 12.248761100203696\n",
      "Optimization restart 10/10, f = 12.248761100203417\n",
      "(4_w,8)-aCMA-ES (mu_w=2.6,w_1=52%) in dimension 5 (seed=605320, Thu May 20 16:37:49 2021)\n",
      "Iterat #Fevals   function value  axis ratio  sigma  min&max std  t[m:s]\n",
      "    1      8 -3.855712758029749e-01 1.0e+00 2.40e-01  2e-01  3e-01 0:00.0\n",
      "    2     16 -4.189546991377116e-01 1.3e+00 2.81e-01  2e-01  4e-01 0:00.0\n",
      "    3     24 -4.342591468846653e-01 1.6e+00 3.35e-01  3e-01  5e-01 0:00.1\n",
      "  100    800 -4.857854896499170e-01 7.0e+01 2.23e-02  4e-04  1e-02 0:01.3\n",
      "  200   1600 -4.857859845212892e-01 1.6e+04 9.98e-05  4e-07  2e-05 0:02.7\n",
      "  209   1672 -4.857859845218193e-01 2.7e+04 5.64e-05  2e-07  8e-06 0:02.9\n"
     ]
    },
    {
     "name": "stderr",
     "output_type": "stream",
     "text": [
      "reconstraining parameters GP_regression.Mat52.lengthscale\n",
      "reconstraining parameters GP_regression.Mat52.variance\n",
      "reconstraining parameters GP_regression.Gaussian_noise.variance\n"
     ]
    },
    {
     "name": "stdout",
     "output_type": "stream",
     "text": [
      "termination on tolfun=1e-11 (Thu May 20 16:37:52 2021)\n",
      "final/bestever f-value = -4.857860e-01 -4.857860e-01\n",
      "incumbent solution: [0.2633161065490136, 2.1907931219690644, 3.236269524824752, 3.3565466691485533, 6.364075861790397]\n",
      "std deviation: [1.6045429532409733e-07, 4.508121192893151e-06, 2.9910669915560427e-06, 8.199486539909048e-06, 7.30068682511946e-06]\n",
      "Optimization restart 1/10, f = 14.304881796609381\n",
      "Optimization restart 2/10, f = 21.284077998070092\n",
      "Optimization restart 3/10, f = 33.63487221805961\n",
      "Optimization restart 4/10, f = 100.13109398534753\n",
      "Optimization restart 5/10, f = 24068163.324497174\n",
      "Optimization restart 6/10, f = 21.284077998070092\n",
      "Optimization restart 7/10, f = 749178.1938840116\n",
      "Optimization restart 8/10, f = 100.13109398534753\n",
      "Optimization restart 9/10, f = 14.304881796344947\n"
     ]
    },
    {
     "name": "stderr",
     "output_type": "stream",
     "text": [
      "reconstraining parameters GP_regression.Mat52.lengthscale\n",
      "reconstraining parameters GP_regression.Mat52.variance\n",
      "reconstraining parameters GP_regression.Gaussian_noise.variance\n"
     ]
    },
    {
     "name": "stdout",
     "output_type": "stream",
     "text": [
      "Optimization restart 10/10, f = 14.304881796347441\n",
      "Optimization restart 1/10, f = 12.08394581100244\n",
      "Optimization restart 2/10, f = 12.083945811001332\n",
      "Optimization restart 3/10, f = 12.083945811004716\n",
      "Optimization restart 4/10, f = 12.083945811000506\n",
      "Optimization restart 5/10, f = 12.083945811001204\n",
      "Optimization restart 6/10, f = 12.083945811728894\n",
      "Optimization restart 7/10, f = 12.08394581101579\n",
      "Optimization restart 8/10, f = 21.28407799807163\n",
      "Optimization restart 9/10, f = 12.083945811001243\n",
      "Optimization restart 10/10, f = 100.13108527429361\n",
      "(4_w,8)-aCMA-ES (mu_w=2.6,w_1=52%) in dimension 5 (seed=674808, Thu May 20 16:37:54 2021)\n",
      "Iterat #Fevals   function value  axis ratio  sigma  min&max std  t[m:s]\n",
      "    1      8 -4.356260261428940e-01 1.0e+00 2.70e-01  3e-01  3e-01 0:00.0\n",
      "    2     16 -4.570150144025552e-01 1.5e+00 3.82e-01  4e-01  5e-01 0:00.0\n",
      "    3     24 -4.598570040228500e-01 1.5e+00 4.58e-01  4e-01  5e-01 0:00.1\n",
      "  100    800 -4.970740048647430e-01 2.7e+01 3.06e-02  8e-04  1e-02 0:01.3\n",
      "  200   1600 -4.970752897747104e-01 3.0e+03 3.64e-04  1e-06  4e-05 0:02.7\n",
      "  241   1928 -4.970752898113783e-01 5.6e+04 3.56e-05  1e-07  3e-06 0:03.4\n"
     ]
    },
    {
     "name": "stderr",
     "output_type": "stream",
     "text": [
      "reconstraining parameters GP_regression.Mat52.lengthscale\n",
      "reconstraining parameters GP_regression.Mat52.variance\n",
      "reconstraining parameters GP_regression.Gaussian_noise.variance\n"
     ]
    },
    {
     "name": "stdout",
     "output_type": "stream",
     "text": [
      "termination on tolfun=1e-11 (Thu May 20 16:37:58 2021)\n",
      "final/bestever f-value = -4.970753e-01 -4.970753e-01\n",
      "incumbent solution: [0.147762496242445, 1.5783255956795603, 3.824063358271074, 3.5007688298121495, 6.33655743578862]\n",
      "std deviation: [1.1022238283932214e-07, 1.337145213952501e-06, 2.0524501252647034e-06, 3.416596673470413e-06, 1.6058032783833283e-06]\n",
      "Optimization restart 1/10, f = 13.211696980769055\n",
      "Optimization restart 2/10, f = 13.211696980777111\n",
      "Optimization restart 3/10, f = 106.8064506804797\n",
      "Optimization restart 4/10, f = 22.703016531274763\n",
      "Optimization restart 5/10, f = 22.703016531274763\n",
      "Optimization restart 6/10, f = 106.80650025103739\n",
      "Optimization restart 7/10, f = 106.80650025103739\n",
      "Optimization restart 8/10, f = 33.65812916256524\n"
     ]
    },
    {
     "name": "stderr",
     "output_type": "stream",
     "text": [
      "reconstraining parameters GP_regression.Mat52.lengthscale\n",
      "reconstraining parameters GP_regression.Mat52.variance\n",
      "reconstraining parameters GP_regression.Gaussian_noise.variance\n"
     ]
    },
    {
     "name": "stdout",
     "output_type": "stream",
     "text": [
      "Optimization restart 9/10, f = 13.21169698076885\n",
      "Optimization restart 10/10, f = 13.211696980762913\n",
      "Optimization restart 1/10, f = 11.155317444815864\n",
      "Optimization restart 2/10, f = 11.155317444618024\n",
      "Optimization restart 3/10, f = 11.155317444619648\n",
      "Optimization restart 4/10, f = 22.703016531274763\n",
      "Optimization restart 5/10, f = 11.155317444663671\n",
      "Optimization restart 6/10, f = 11.155317444618408\n",
      "Optimization restart 7/10, f = 11.155317444618053\n",
      "Optimization restart 8/10, f = 11.155317444632708\n",
      "Optimization restart 9/10, f = 11.155317444618703\n",
      "Optimization restart 10/10, f = 11.155317444618348\n",
      "(4_w,8)-aCMA-ES (mu_w=2.6,w_1=52%) in dimension 5 (seed=671717, Thu May 20 16:37:59 2021)\n",
      "Iterat #Fevals   function value  axis ratio  sigma  min&max std  t[m:s]\n",
      "    1      8 -4.081555808573506e-01 1.0e+00 2.48e-01  2e-01  3e-01 0:00.0\n",
      "    2     16 -4.467799855332004e-01 1.1e+00 3.17e-01  3e-01  3e-01 0:00.0\n",
      "    3     24 -4.786812158905210e-01 1.4e+00 4.80e-01  4e-01  6e-01 0:00.0\n",
      "  100    800 -4.936492486068763e-01 1.9e+01 2.00e-02  4e-04  6e-03 0:01.3\n",
      "  200   1600 -4.936494975243029e-01 3.1e+03 4.01e-04  1e-06  5e-05 0:02.7\n",
      "  234   1872 -4.936494975470070e-01 1.6e+04 9.32e-05  2e-07  8e-06 0:03.3\n"
     ]
    },
    {
     "name": "stderr",
     "output_type": "stream",
     "text": [
      "reconstraining parameters GP_regression.Mat52.lengthscale\n",
      "reconstraining parameters GP_regression.Mat52.variance\n",
      "reconstraining parameters GP_regression.Gaussian_noise.variance\n"
     ]
    },
    {
     "name": "stdout",
     "output_type": "stream",
     "text": [
      "termination on tolfun=1e-11 (Thu May 20 16:38:03 2021)\n",
      "final/bestever f-value = -4.936495e-01 -4.936495e-01\n",
      "incumbent solution: [0.2116589775017748, 1.7625421802981416, 3.4987842212696023, 3.2094310174428093, 6.046542328509329]\n",
      "std deviation: [1.6508665152962205e-07, 2.5095414662295194e-06, 3.7023438116168915e-06, 4.5865657989305285e-06, 8.041148169637573e-06]\n",
      "Optimization restart 1/10, f = 10.707456851882442\n",
      "Optimization restart 2/10, f = 24.121955064481405\n",
      "Optimization restart 3/10, f = 24.121955064479437\n",
      "Optimization restart 4/10, f = 10.707456851882268\n",
      "Optimization restart 5/10, f = 10.707456851883038\n",
      "Optimization restart 6/10, f = 24.121955064480233\n",
      "Optimization restart 7/10, f = 24.121955064479437\n",
      "Optimization restart 8/10, f = 10.70745685188221\n"
     ]
    },
    {
     "name": "stderr",
     "output_type": "stream",
     "text": [
      "reconstraining parameters GP_regression.Mat52.lengthscale\n",
      "reconstraining parameters GP_regression.Mat52.variance\n",
      "reconstraining parameters GP_regression.Gaussian_noise.variance\n"
     ]
    },
    {
     "name": "stdout",
     "output_type": "stream",
     "text": [
      "Optimization restart 9/10, f = 113.48190651672722\n",
      "Optimization restart 10/10, f = 24.121955064479437\n",
      "Optimization restart 1/10, f = 8.722581525916203\n",
      "Optimization restart 2/10, f = 8.722581525928824\n",
      "Optimization restart 3/10, f = 8.722581525917848\n",
      "Optimization restart 4/10, f = 8.722581525914567\n",
      "Optimization restart 5/10, f = 8.722581525914203\n",
      "Optimization restart 6/10, f = 8.72258152591773\n",
      "Optimization restart 7/10, f = 16406905.368895354\n",
      "Optimization restart 8/10, f = 8.722581525967662\n",
      "Optimization restart 9/10, f = 8.722581525918478\n",
      "Optimization restart 10/10, f = 24.12195506447953\n",
      "(4_w,8)-aCMA-ES (mu_w=2.6,w_1=52%) in dimension 5 (seed=586688, Thu May 20 16:38:09 2021)\n",
      "Iterat #Fevals   function value  axis ratio  sigma  min&max std  t[m:s]\n",
      "    1      8 -4.115478117081857e-01 1.0e+00 2.94e-01  3e-01  3e-01 0:00.0\n",
      "    2     16 -4.401960667445713e-01 1.3e+00 3.53e-01  3e-01  4e-01 0:00.0\n",
      "    3     24 -4.557199555249969e-01 1.5e+00 4.41e-01  4e-01  5e-01 0:00.1\n",
      "  100    800 -4.910173743090744e-01 3.9e+00 1.04e-03  5e-05  2e-04 0:01.5\n",
      "  141   1128 -4.910173744668397e-01 3.9e+00 3.00e-05  4e-07  2e-06 0:02.1\n"
     ]
    },
    {
     "name": "stderr",
     "output_type": "stream",
     "text": [
      "reconstraining parameters GP_regression.Mat52.lengthscale\n",
      "reconstraining parameters GP_regression.Mat52.variance\n",
      "reconstraining parameters GP_regression.Gaussian_noise.variance\n"
     ]
    },
    {
     "name": "stdout",
     "output_type": "stream",
     "text": [
      "termination on tolfun=1e-11 (Thu May 20 16:38:11 2021)\n",
      "final/bestever f-value = -4.910174e-01 -4.910174e-01\n",
      "incumbent solution: [0.19373767467992686, 1.7569857922099643, 3.4853045787880297, 3.1417619960224754, 5.930318442411637]\n",
      "std deviation: [4.3937778973518705e-07, 6.785863554024259e-07, 8.935864990939752e-07, 1.3520558089460146e-06, 1.5954556903390423e-06]\n",
      "Optimization restart 1/10, f = 8.549316220031539\n",
      "Optimization restart 2/10, f = 8.549316220018273\n",
      "Optimization restart 3/10, f = 8.549316220012226\n",
      "Optimization restart 4/10, f = 8.549316220042368\n",
      "Optimization restart 5/10, f = 8.549316220013175\n",
      "Optimization restart 6/10, f = 34639815.56446515\n",
      "Optimization restart 7/10, f = 25.540893597684107\n",
      "Optimization restart 8/10, f = 25.540893597684132\n",
      "Optimization restart 9/10, f = 120.15731278241705\n"
     ]
    },
    {
     "name": "stderr",
     "output_type": "stream",
     "text": [
      "reconstraining parameters GP_regression.Mat52.lengthscale\n",
      "reconstraining parameters GP_regression.Mat52.variance\n",
      "reconstraining parameters GP_regression.Gaussian_noise.variance\n"
     ]
    },
    {
     "name": "stdout",
     "output_type": "stream",
     "text": [
      "Optimization restart 10/10, f = 25.540854504537048\n",
      "Optimization restart 1/10, f = 8.366489093933989\n",
      "Optimization restart 2/10, f = 8.366489093953053\n",
      "Optimization restart 3/10, f = 8.366489093936533\n",
      "Optimization restart 4/10, f = 8.366489093924482\n",
      "Optimization restart 5/10, f = 19234205.8573039\n",
      "Optimization restart 6/10, f = 8.366489093945454\n",
      "Optimization restart 7/10, f = 25.540893597684107\n",
      "Optimization restart 8/10, f = 25.54089359768411\n",
      "Optimization restart 9/10, f = 25.540893597684107\n",
      "Optimization restart 10/10, f = 8.366489093947845\n",
      "(4_w,8)-aCMA-ES (mu_w=2.6,w_1=52%) in dimension 5 (seed=627937, Thu May 20 16:38:16 2021)\n",
      "Iterat #Fevals   function value  axis ratio  sigma  min&max std  t[m:s]\n",
      "    1      8 -4.749960316511298e-01 1.0e+00 2.22e-01  2e-01  2e-01 0:00.0\n",
      "    2     16 -4.764290199762968e-01 1.3e+00 2.04e-01  2e-01  2e-01 0:00.0\n",
      "    3     24 -4.790871435378314e-01 1.3e+00 2.50e-01  2e-01  3e-01 0:00.0\n",
      "  100    800 -5.157873453928778e-01 2.2e+01 1.06e-02  4e-04  4e-03 0:01.4\n",
      "  200   1600 -5.157878176629511e-01 3.8e+03 5.35e-05  5e-07  7e-06 0:02.8\n",
      "  218   1744 -5.157878176648023e-01 1.4e+04 2.62e-05  4e-07  2e-06 0:03.1\n"
     ]
    },
    {
     "name": "stderr",
     "output_type": "stream",
     "text": [
      "reconstraining parameters GP_regression.Mat52.lengthscale\n",
      "reconstraining parameters GP_regression.Mat52.variance\n",
      "reconstraining parameters GP_regression.Gaussian_noise.variance\n"
     ]
    },
    {
     "name": "stdout",
     "output_type": "stream",
     "text": [
      "termination on tolfun=1e-11 (Thu May 20 16:38:19 2021)\n",
      "final/bestever f-value = -5.157878e-01 -5.157878e-01\n",
      "incumbent solution: [5.148301023868445e-14, 2.318600065357149, 3.5414414013550606, 0.9517427908121645, 4.577439725008782]\n",
      "std deviation: [3.551206415743721e-07, 1.0780963428480966e-06, 2.277153335937606e-06, 2.207866981477597e-06, 2.277476249624913e-06]\n",
      "Optimization restart 1/10, f = 8.043714304397303\n",
      "Optimization restart 2/10, f = 8.043714304395447\n",
      "Optimization restart 3/10, f = 126.8327190481069\n",
      "Optimization restart 4/10, f = 26.959832130888778\n",
      "Optimization restart 5/10, f = 26.959832130888778\n",
      "Optimization restart 6/10, f = 8.04371430447174\n",
      "Optimization restart 7/10, f = 26.95983213088878\n",
      "Optimization restart 8/10, f = 8.043714304404709\n",
      "Optimization restart 9/10, f = 26.95983213089354\n",
      "Optimization restart 10/10, f = 8.043714304440934\n"
     ]
    },
    {
     "name": "stderr",
     "output_type": "stream",
     "text": [
      "reconstraining parameters GP_regression.Mat52.lengthscale\n",
      "reconstraining parameters GP_regression.Mat52.variance\n",
      "reconstraining parameters GP_regression.Gaussian_noise.variance\n"
     ]
    },
    {
     "name": "stdout",
     "output_type": "stream",
     "text": [
      "Optimization restart 1/10, f = 9.436248176815784\n",
      "Optimization restart 2/10, f = 26.95983213088878\n",
      "Optimization restart 3/10, f = 9.43624817679836\n",
      "Optimization restart 4/10, f = 26.95983213088878\n",
      "Optimization restart 5/10, f = 9.436248176779642\n",
      "Optimization restart 6/10, f = 29696209.683370773\n",
      "Optimization restart 7/10, f = 9.436248176805602\n",
      "Optimization restart 8/10, f = 126.8327190481069\n",
      "Optimization restart 9/10, f = 9.436248176828148\n",
      "Optimization restart 10/10, f = 9.436248176886345\n",
      "(4_w,8)-aCMA-ES (mu_w=2.6,w_1=52%) in dimension 5 (seed=650430, Thu May 20 16:38:24 2021)\n",
      "Iterat #Fevals   function value  axis ratio  sigma  min&max std  t[m:s]\n",
      "    1      8 -4.808929532483500e-01 1.0e+00 2.39e-01  2e-01  2e-01 0:00.0\n",
      "    2     16 -4.837135195699914e-01 1.2e+00 2.48e-01  2e-01  3e-01 0:00.0\n",
      "    3     24 -4.842014506540202e-01 1.3e+00 2.75e-01  3e-01  3e-01 0:00.0\n",
      "  100    800 -4.996732026108268e-01 7.5e+02 6.43e-03  8e-05  4e-03 0:01.7\n",
      "  200   1600 -4.996733752360637e-01 3.1e+05 4.73e-05  2e-07  1e-05 0:03.1\n",
      "  214   1712 -4.996733752379450e-01 7.9e+05 1.52e-05  6e-08  3e-06 0:03.3\n",
      "termination on tolfun=1e-11 (Thu May 20 16:38:28 2021)\n",
      "final/bestever f-value = -4.996734e-01 -4.996734e-01\n",
      "incumbent solution: [0.1336274950730863, 1.9837517361078354, 3.2510754752938777, 2.9990044539850462, 4.465934261409399]\n",
      "std deviation: [5.808244457077735e-08, 1.524985589927328e-06, 1.5826574777781373e-06, 2.0666551156327166e-06, 2.87429463491678e-06]\n"
     ]
    }
   ],
   "source": [
    "opt.optimise()"
   ]
  },
  {
   "cell_type": "code",
   "execution_count": 16,
   "metadata": {},
   "outputs": [
    {
     "data": {
      "text/plain": [
       "<matplotlib.collections.PathCollection at 0x7f9a4abf34f0>"
      ]
     },
     "execution_count": 16,
     "metadata": {},
     "output_type": "execute_result"
    },
    {
     "data": {
      "image/png": "[encoded data removed]",
      "text/plain": [
       "<Figure size 432x288 with 1 Axes>"
      ]
     },
     "metadata": {
      "needs_background": "light"
     },
     "output_type": "display_data"
    }
   ],
   "source": [
    "plt.scatter(*opt.y[:10].T)\n",
    "plt.scatter(*opt.y[10:].T, c=\"C3\")\n",
    "plt.scatter(*opt.targets.T, c=\"magenta\")\n"
   ]
  },
  {
   "cell_type": "code",
   "execution_count": 50,
   "metadata": {},
   "outputs": [],
   "source": [
    "from testsuite.surrogates import RF\n",
    "multi_surrogate = MultiSurrogate(RF)\n",
    "opt = DirectedSaf(objective_function=objective_function, ei=False,  targets=[[0.5, 4.]], w=0.5, limits=limits, surrogate=multi_surrogate, n_initial=10, budget=budget, seed=10)"
   ]
  },
  {
   "cell_type": "code",
   "execution_count": 51,
   "metadata": {},
   "outputs": [
    {
     "name": "stdout",
     "output_type": "stream",
     "text": [
      "(4_w,8)-aCMA-ES (mu_w=2.6,w_1=52%) in dimension 5 (seed=458104, Wed Mar 10 18:29:47 2021)\n",
      "Iterat #Fevals   function value  axis ratio  sigma  min&max std  t[m:s]\n",
      "    1      8 -5.451930187592862e-01 1.0e+00 2.15e-01  2e-01  2e-01 0:00.3\n",
      "    2     16 -5.489903486064025e-01 1.2e+00 2.38e-01  2e-01  3e-01 0:00.5\n",
      "    3     24 -5.499648453975744e-01 1.5e+00 3.18e-01  3e-01  4e-01 0:00.8\n",
      "   16    128 -5.526427453302549e-01 2.6e+00 3.80e-01  2e-01  4e-01 0:03.9\n",
      "   33    264 -5.575519500160546e-01 6.3e+00 9.02e-01  2e-01  1e+00 0:08.1\n",
      "   54    432 -5.611618122556548e-01 1.7e+01 4.77e-01  5e-02  6e-01 0:13.1\n",
      "   80    640 -5.627524070733331e-01 5.9e+01 1.27e-01  2e-03  1e-01 0:19.3\n",
      "  100    800 -5.627524070733331e-01 2.0e+02 5.89e-02  3e-04  6e-02 0:24.1\n"
     ]
    },
    {
     "name": "stderr",
     "output_type": "stream",
     "text": [
      " /home/finley/miniconda3/envs/testsuite/lib/python3.8/site-packages/cma/utilities/utils.py:329: UserWarning:flat fitness (f=-0.562752, sigma=6.72e-02).\n",
      "                    For small sigma, this could indicate numerical convergence.\n",
      "                    Otherwise, please (re)consider how to compute the fitness more elaborately. (iteration=104)\n",
      " /home/finley/miniconda3/envs/testsuite/lib/python3.8/site-packages/cma/utilities/utils.py:329: UserWarning:flat fitness (f=-0.562752, sigma=6.61e-02).\n",
      "                    For small sigma, this could indicate numerical convergence.\n",
      "                    Otherwise, please (re)consider how to compute the fitness more elaborately. (iteration=105)\n",
      " /home/finley/miniconda3/envs/testsuite/lib/python3.8/site-packages/cma/utilities/utils.py:329: UserWarning:flat fitness (f=-0.562752, sigma=5.36e-02).\n",
      "                    For small sigma, this could indicate numerical convergence.\n",
      "                    Otherwise, please (re)consider how to compute the fitness more elaborately. (iteration=107)\n",
      " /home/finley/miniconda3/envs/testsuite/lib/python3.8/site-packages/cma/utilities/utils.py:329: UserWarning:flat fitness (f=-0.562752, sigma=4.53e-02).\n",
      "                    For small sigma, this could indicate numerical convergence.\n",
      "                    Otherwise, please (re)consider how to compute the fitness more elaborately. (iteration=108)\n",
      " /home/finley/miniconda3/envs/testsuite/lib/python3.8/site-packages/cma/utilities/utils.py:329: UserWarning:flat fitness (f=-0.562752, sigma=3.93e-02).\n",
      "                    For small sigma, this could indicate numerical convergence.\n",
      "                    Otherwise, please (re)consider how to compute the fitness more elaborately. (iteration=109)\n",
      " /home/finley/miniconda3/envs/testsuite/lib/python3.8/site-packages/cma/utilities/utils.py:329: UserWarning:flat fitness (f=-0.562752, sigma=4.02e-02).\n",
      "                    For small sigma, this could indicate numerical convergence.\n",
      "                    Otherwise, please (re)consider how to compute the fitness more elaborately. (iteration=110)\n",
      " /home/finley/miniconda3/envs/testsuite/lib/python3.8/site-packages/cma/utilities/utils.py:329: UserWarning:flat fitness (f=-0.562752, sigma=4.72e-02).\n",
      "                    For small sigma, this could indicate numerical convergence.\n",
      "                    Otherwise, please (re)consider how to compute the fitness more elaborately. (iteration=111)\n",
      " /home/finley/miniconda3/envs/testsuite/lib/python3.8/site-packages/cma/utilities/utils.py:329: UserWarning:flat fitness (f=-0.562752, sigma=4.49e-02).\n",
      "                    For small sigma, this could indicate numerical convergence.\n",
      "                    Otherwise, please (re)consider how to compute the fitness more elaborately. (iteration=112)\n",
      " /home/finley/miniconda3/envs/testsuite/lib/python3.8/site-packages/cma/utilities/utils.py:329: UserWarning:flat fitness (f=-0.562752, sigma=4.82e-02).\n",
      "                    For small sigma, this could indicate numerical convergence.\n",
      "                    Otherwise, please (re)consider how to compute the fitness more elaborately. (iteration=113)\n",
      " /home/finley/miniconda3/envs/testsuite/lib/python3.8/site-packages/cma/utilities/utils.py:329: UserWarning:flat fitness (f=-0.562752, sigma=3.80e-02).\n",
      "                    For small sigma, this could indicate numerical convergence.\n",
      "                    Otherwise, please (re)consider how to compute the fitness more elaborately. (iteration=115)\n",
      " /home/finley/miniconda3/envs/testsuite/lib/python3.8/site-packages/cma/utilities/utils.py:329: UserWarning:flat fitness (f=-0.562752, sigma=3.70e-02).\n",
      "                    For small sigma, this could indicate numerical convergence.\n",
      "                    Otherwise, please (re)consider how to compute the fitness more elaborately. (iteration=116)\n",
      " /home/finley/miniconda3/envs/testsuite/lib/python3.8/site-packages/cma/utilities/utils.py:329: UserWarning:flat fitness (f=-0.562752, sigma=3.72e-02).\n",
      "                    For small sigma, this could indicate numerical convergence.\n",
      "                    Otherwise, please (re)consider how to compute the fitness more elaborately. (iteration=117)\n"
     ]
    },
    {
     "name": "stdout",
     "output_type": "stream",
     "text": [
      "  118    944 -5.627524070733331e-01 4.7e+02 3.78e-02  1e-04  4e-02 0:28.6\n"
     ]
    },
    {
     "name": "stderr",
     "output_type": "stream",
     "text": [
      " /home/finley/miniconda3/envs/testsuite/lib/python3.8/site-packages/cma/utilities/utils.py:329: UserWarning:flat fitness (f=-0.562752, sigma=3.78e-02).\n",
      "                    For small sigma, this could indicate numerical convergence.\n",
      "                    Otherwise, please (re)consider how to compute the fitness more elaborately. (iteration=118)\n",
      " /home/finley/miniconda3/envs/testsuite/lib/python3.8/site-packages/cma/utilities/utils.py:329: UserWarning:flat fitness (f=-0.562752, sigma=3.78e-02).\n",
      "                    For small sigma, this could indicate numerical convergence.\n",
      "                    Otherwise, please (re)consider how to compute the fitness more elaborately. (iteration=118)\n"
     ]
    },
    {
     "name": "stdout",
     "output_type": "stream",
     "text": [
      "termination on tolfun=1e-11 (Wed Mar 10 18:30:15 2021)\n",
      "termination on tolfunhist=1e-12 (Wed Mar 10 18:30:15 2021)\n",
      "termination on flat fitness=please (re)consider how to compute the fitness more elaborately if sigma=3.78e-02 is large (Wed Mar 10 18:30:15 2021)\n",
      "final/bestever f-value = -5.627524e-01 -5.629810e-01\n",
      "incumbent solution: [0.2564841040654453, 0.2813942040752334, 5.932446021760877, 1.0290769113549454, 6.470398092934087]\n",
      "std deviation: [0.00011819665450041317, 0.03247782641040201, 0.026162623390817544, 0.03519096389048729, 0.00493632047737218]\n",
      "(4_w,8)-aCMA-ES (mu_w=2.6,w_1=52%) in dimension 5 (seed=456277, Wed Mar 10 18:30:16 2021)\n",
      "Iterat #Fevals   function value  axis ratio  sigma  min&max std  t[m:s]\n",
      "    1      8 -4.735091697726843e-01 1.0e+00 2.66e-01  3e-01  3e-01 0:00.3\n",
      "    2     16 -5.033336522523408e-01 1.4e+00 3.42e-01  3e-01  4e-01 0:00.5\n",
      "    3     24 -5.237049372160109e-01 1.6e+00 4.41e-01  4e-01  5e-01 0:00.7\n",
      "   17    136 -5.319086711371394e-01 5.1e+00 5.69e-01  2e-01  7e-01 0:04.0\n",
      "   35    280 -5.502419609115408e-01 1.0e+01 1.39e+00  3e-01  2e+00 0:08.2\n",
      "   56    448 -5.522867810441356e-01 8.6e+00 6.85e-01  1e-01  7e-01 0:13.2\n",
      "   82    656 -5.566505248807890e-01 5.2e+01 3.28e-01  9e-03  4e-01 0:19.3\n",
      "  100    800 -5.591299846028268e-01 4.5e+01 1.71e-01  3e-03  1e-01 0:23.6\n",
      "  135   1080 -5.599731227503302e-01 3.1e+01 1.72e-02  2e-04  4e-03 0:31.7\n"
     ]
    },
    {
     "name": "stderr",
     "output_type": "stream",
     "text": [
      " /home/finley/miniconda3/envs/testsuite/lib/python3.8/site-packages/cma/utilities/utils.py:329: UserWarning:flat fitness (f=-0.559973, sigma=1.44e-02).\n",
      "                    For small sigma, this could indicate numerical convergence.\n",
      "                    Otherwise, please (re)consider how to compute the fitness more elaborately. (iteration=137)\n",
      " /home/finley/miniconda3/envs/testsuite/lib/python3.8/site-packages/cma/utilities/utils.py:329: UserWarning:flat fitness (f=-0.559973, sigma=1.21e-02).\n",
      "                    For small sigma, this could indicate numerical convergence.\n",
      "                    Otherwise, please (re)consider how to compute the fitness more elaborately. (iteration=141)\n",
      " /home/finley/miniconda3/envs/testsuite/lib/python3.8/site-packages/cma/utilities/utils.py:329: UserWarning:flat fitness (f=-0.559973, sigma=1.30e-02).\n",
      "                    For small sigma, this could indicate numerical convergence.\n",
      "                    Otherwise, please (re)consider how to compute the fitness more elaborately. (iteration=142)\n",
      " /home/finley/miniconda3/envs/testsuite/lib/python3.8/site-packages/cma/utilities/utils.py:329: UserWarning:flat fitness (f=-0.559973, sigma=1.44e-02).\n",
      "                    For small sigma, this could indicate numerical convergence.\n",
      "                    Otherwise, please (re)consider how to compute the fitness more elaborately. (iteration=145)\n",
      " /home/finley/miniconda3/envs/testsuite/lib/python3.8/site-packages/cma/utilities/utils.py:329: UserWarning:flat fitness (f=-0.559973, sigma=1.29e-02).\n",
      "                    For small sigma, this could indicate numerical convergence.\n",
      "                    Otherwise, please (re)consider how to compute the fitness more elaborately. (iteration=150)\n",
      " /home/finley/miniconda3/envs/testsuite/lib/python3.8/site-packages/cma/utilities/utils.py:329: UserWarning:flat fitness (f=-0.559973, sigma=9.18e-03).\n",
      "                    For small sigma, this could indicate numerical convergence.\n",
      "                    Otherwise, please (re)consider how to compute the fitness more elaborately. (iteration=153)\n"
     ]
    },
    {
     "name": "stdout",
     "output_type": "stream",
     "text": [
      "  154   1232 -5.599731227503302e-01 3.5e+01 8.49e-03  5e-05  1e-03 0:36.5\n"
     ]
    },
    {
     "name": "stderr",
     "output_type": "stream",
     "text": [
      " /home/finley/miniconda3/envs/testsuite/lib/python3.8/site-packages/cma/utilities/utils.py:329: UserWarning:flat fitness (f=-0.559973, sigma=8.49e-03).\n",
      "                    For small sigma, this could indicate numerical convergence.\n",
      "                    Otherwise, please (re)consider how to compute the fitness more elaborately. (iteration=154)\n",
      " /home/finley/miniconda3/envs/testsuite/lib/python3.8/site-packages/cma/utilities/utils.py:329: UserWarning:flat fitness (f=-0.559973, sigma=8.49e-03).\n",
      "                    For small sigma, this could indicate numerical convergence.\n",
      "                    Otherwise, please (re)consider how to compute the fitness more elaborately. (iteration=154)\n"
     ]
    },
    {
     "name": "stdout",
     "output_type": "stream",
     "text": [
      "termination on tolfun=1e-11 (Wed Mar 10 18:30:52 2021)\n",
      "termination on tolfunhist=1e-12 (Wed Mar 10 18:30:52 2021)\n",
      "termination on flat fitness=please (re)consider how to compute the fitness more elaborately if sigma=8.49e-03 is large (Wed Mar 10 18:30:52 2021)\n",
      "final/bestever f-value = -5.599731e-01 -5.599731e-01\n",
      "incumbent solution: [0.25351842308149, 0.8816647093618202, 4.199688178191985, 1.5179755663228598, 6.609246012617467]\n",
      "std deviation: [5.040592358997401e-05, 0.0014768097511441132, 0.0013479385743152782, 0.0010065139159107328, 0.0009169148036568119]\n",
      "(4_w,8)-aCMA-ES (mu_w=2.6,w_1=52%) in dimension 5 (seed=421915, Wed Mar 10 18:30:53 2021)\n",
      "Iterat #Fevals   function value  axis ratio  sigma  min&max std  t[m:s]\n",
      "    1      8 -5.005112004403007e-01 1.0e+00 2.78e-01  3e-01  3e-01 0:00.3\n",
      "    2     16 -5.141979563821164e-01 1.4e+00 2.83e-01  3e-01  3e-01 0:00.7\n",
      "    3     24 -5.180161512568460e-01 1.6e+00 3.03e-01  3e-01  4e-01 0:01.0\n",
      "   13    104 -5.404135339872466e-01 3.1e+00 5.36e-01  4e-01  9e-01 0:04.1\n",
      "   29    232 -5.434743418980112e-01 3.2e+00 2.05e-01  9e-02  2e-01 0:08.2\n",
      "   51    408 -5.446997569367713e-01 2.2e+01 8.61e-02  6e-03  1e-01 0:13.4\n",
      "   77    616 -5.451921280343344e-01 1.4e+02 2.61e-02  4e-04  5e-02 0:19.4\n"
     ]
    },
    {
     "name": "stderr",
     "output_type": "stream",
     "text": [
      " /home/finley/miniconda3/envs/testsuite/lib/python3.8/site-packages/cma/utilities/utils.py:329: UserWarning:flat fitness (f=-0.545192, sigma=1.92e-02).\n",
      "                    For small sigma, this could indicate numerical convergence.\n",
      "                    Otherwise, please (re)consider how to compute the fitness more elaborately. (iteration=82)\n",
      " /home/finley/miniconda3/envs/testsuite/lib/python3.8/site-packages/cma/utilities/utils.py:329: UserWarning:flat fitness (f=-0.545192, sigma=2.11e-02).\n",
      "                    For small sigma, this could indicate numerical convergence.\n",
      "                    Otherwise, please (re)consider how to compute the fitness more elaborately. (iteration=83)\n",
      " /home/finley/miniconda3/envs/testsuite/lib/python3.8/site-packages/cma/utilities/utils.py:329: UserWarning:flat fitness (f=-0.545278, sigma=1.62e-02).\n",
      "                    For small sigma, this could indicate numerical convergence.\n",
      "                    Otherwise, please (re)consider how to compute the fitness more elaborately. (iteration=99)\n"
     ]
    },
    {
     "name": "stdout",
     "output_type": "stream",
     "text": [
      "  100    800 -5.452776490122765e-01 3.4e+02 1.38e-02  1e-04  3e-02 0:24.7\n"
     ]
    },
    {
     "name": "stderr",
     "output_type": "stream",
     "text": [
      " /home/finley/miniconda3/envs/testsuite/lib/python3.8/site-packages/cma/utilities/utils.py:329: UserWarning:flat fitness (f=-0.545278, sigma=1.38e-02).\n",
      "                    For small sigma, this could indicate numerical convergence.\n",
      "                    Otherwise, please (re)consider how to compute the fitness more elaborately. (iteration=100)\n",
      " /home/finley/miniconda3/envs/testsuite/lib/python3.8/site-packages/cma/utilities/utils.py:329: UserWarning:flat fitness (f=-0.545278, sigma=1.38e-02).\n",
      "                    For small sigma, this could indicate numerical convergence.\n",
      "                    Otherwise, please (re)consider how to compute the fitness more elaborately. (iteration=101)\n",
      " /home/finley/miniconda3/envs/testsuite/lib/python3.8/site-packages/cma/utilities/utils.py:329: UserWarning:flat fitness (f=-0.545278, sigma=1.72e-02).\n",
      "                    For small sigma, this could indicate numerical convergence.\n",
      "                    Otherwise, please (re)consider how to compute the fitness more elaborately. (iteration=107)\n",
      " /home/finley/miniconda3/envs/testsuite/lib/python3.8/site-packages/cma/utilities/utils.py:329: UserWarning:flat fitness (f=-0.545278, sigma=1.61e-02).\n",
      "                    For small sigma, this could indicate numerical convergence.\n",
      "                    Otherwise, please (re)consider how to compute the fitness more elaborately. (iteration=108)\n",
      " /home/finley/miniconda3/envs/testsuite/lib/python3.8/site-packages/cma/utilities/utils.py:329: UserWarning:flat fitness (f=-0.545278, sigma=1.71e-02).\n",
      "                    For small sigma, this could indicate numerical convergence.\n",
      "                    Otherwise, please (re)consider how to compute the fitness more elaborately. (iteration=109)\n",
      " /home/finley/miniconda3/envs/testsuite/lib/python3.8/site-packages/cma/utilities/utils.py:329: UserWarning:flat fitness (f=-0.545278, sigma=1.67e-02).\n",
      "                    For small sigma, this could indicate numerical convergence.\n",
      "                    Otherwise, please (re)consider how to compute the fitness more elaborately. (iteration=110)\n",
      " /home/finley/miniconda3/envs/testsuite/lib/python3.8/site-packages/cma/utilities/utils.py:329: UserWarning:flat fitness (f=-0.545278, sigma=1.48e-02).\n",
      "                    For small sigma, this could indicate numerical convergence.\n",
      "                    Otherwise, please (re)consider how to compute the fitness more elaborately. (iteration=111)\n",
      " /home/finley/miniconda3/envs/testsuite/lib/python3.8/site-packages/cma/utilities/utils.py:329: UserWarning:flat fitness (f=-0.545278, sigma=1.43e-02).\n",
      "                    For small sigma, this could indicate numerical convergence.\n",
      "                    Otherwise, please (re)consider how to compute the fitness more elaborately. (iteration=112)\n",
      " /home/finley/miniconda3/envs/testsuite/lib/python3.8/site-packages/cma/utilities/utils.py:329: UserWarning:flat fitness (f=-0.545278, sigma=1.40e-02).\n",
      "                    For small sigma, this could indicate numerical convergence.\n",
      "                    Otherwise, please (re)consider how to compute the fitness more elaborately. (iteration=113)\n"
     ]
    },
    {
     "name": "stdout",
     "output_type": "stream",
     "text": [
      "  114    912 -5.452776490122765e-01 2.4e+02 1.39e-02  1e-04  2e-02 0:28.1\n"
     ]
    },
    {
     "name": "stderr",
     "output_type": "stream",
     "text": [
      " /home/finley/miniconda3/envs/testsuite/lib/python3.8/site-packages/cma/utilities/utils.py:329: UserWarning:flat fitness (f=-0.545278, sigma=1.39e-02).\n",
      "                    For small sigma, this could indicate numerical convergence.\n",
      "                    Otherwise, please (re)consider how to compute the fitness more elaborately. (iteration=114)\n",
      " /home/finley/miniconda3/envs/testsuite/lib/python3.8/site-packages/cma/utilities/utils.py:329: UserWarning:flat fitness (f=-0.545278, sigma=1.39e-02).\n",
      "                    For small sigma, this could indicate numerical convergence.\n",
      "                    Otherwise, please (re)consider how to compute the fitness more elaborately. (iteration=114)\n"
     ]
    },
    {
     "name": "stdout",
     "output_type": "stream",
     "text": [
      "termination on tolfun=1e-11 (Wed Mar 10 18:31:21 2021)\n",
      "termination on tolfunhist=1e-12 (Wed Mar 10 18:31:21 2021)\n",
      "termination on flat fitness=please (re)consider how to compute the fitness more elaborately if sigma=1.39e-02 is large (Wed Mar 10 18:31:21 2021)\n",
      "final/bestever f-value = -5.452776e-01 -5.452776e-01\n",
      "incumbent solution: [0.2533465543237551, 0.8798596709212932, 0.35533337563482814, 1.9740827554025826, 6.6265961343206605]\n",
      "std deviation: [0.00013966113192648595, 0.002861803779118367, 0.022941784811128428, 0.0044652444159777255, 0.0028655645596771884]\n",
      "(4_w,8)-aCMA-ES (mu_w=2.6,w_1=52%) in dimension 5 (seed=535217, Wed Mar 10 18:31:21 2021)\n",
      "Iterat #Fevals   function value  axis ratio  sigma  min&max std  t[m:s]\n",
      "    1      8 -4.631883340752457e-01 1.0e+00 2.44e-01  2e-01  3e-01 0:00.3\n",
      "    2     16 -4.723928847465564e-01 1.2e+00 2.54e-01  2e-01  3e-01 0:00.5\n",
      "    3     24 -4.966708593324531e-01 1.3e+00 3.17e-01  3e-01  3e-01 0:00.8\n",
      "   17    136 -5.291677734649867e-01 4.7e+00 1.22e+00  5e-01  2e+00 0:04.0\n",
      "   35    280 -5.404398286382006e-01 1.1e+01 8.11e-01  1e-01  1e+00 0:08.1\n",
      "   57    456 -5.492212063341120e-01 9.8e+00 1.53e-01  1e-02  1e-01 0:13.2\n",
      "   83    664 -5.553922849082885e-01 4.1e+01 8.91e-02  3e-03  8e-02 0:19.3\n",
      "  100    800 -5.565474419627745e-01 1.9e+02 3.84e-02  3e-04  5e-02 0:23.4\n",
      "  136   1088 -5.567531094104650e-01 8.3e+02 1.01e-02  2e-05  1e-02 0:31.6\n"
     ]
    },
    {
     "name": "stderr",
     "output_type": "stream",
     "text": [
      " /home/finley/miniconda3/envs/testsuite/lib/python3.8/site-packages/cma/utilities/utils.py:329: UserWarning:flat fitness (f=-0.556753, sigma=6.57e-03).\n",
      "                    For small sigma, this could indicate numerical convergence.\n",
      "                    Otherwise, please (re)consider how to compute the fitness more elaborately. (iteration=150)\n",
      " /home/finley/miniconda3/envs/testsuite/lib/python3.8/site-packages/cma/utilities/utils.py:329: UserWarning:flat fitness (f=-0.556753, sigma=5.30e-03).\n",
      "                    For small sigma, this could indicate numerical convergence.\n",
      "                    Otherwise, please (re)consider how to compute the fitness more elaborately. (iteration=155)\n",
      " /home/finley/miniconda3/envs/testsuite/lib/python3.8/site-packages/cma/utilities/utils.py:329: UserWarning:flat fitness (f=-0.556753, sigma=4.91e-03).\n",
      "                    For small sigma, this could indicate numerical convergence.\n",
      "                    Otherwise, please (re)consider how to compute the fitness more elaborately. (iteration=156)\n"
     ]
    },
    {
     "name": "stdout",
     "output_type": "stream",
     "text": [
      "  159   1272 -5.567531094104650e-01 6.6e+02 3.73e-03  4e-06  2e-03 0:37.0\n",
      "termination on tolfunhist=1e-12 (Wed Mar 10 18:31:58 2021)\n",
      "termination on flat fitness=please (re)consider how to compute the fitness more elaborately if sigma=3.73e-03 is large (Wed Mar 10 18:31:58 2021)\n",
      "final/bestever f-value = -5.567531e-01 -5.567531e-01\n",
      "incumbent solution: [0.2537944620433098, 0.8714968776451569, 4.163221536532792, 1.5201165256679796, 6.9868600172313124]\n",
      "std deviation: [4.365321817919322e-06, 0.00018202469768689128, 0.0021824772957084286, 0.0005044267579631591, 0.0013995878447978596]\n",
      "(4_w,8)-aCMA-ES (mu_w=2.6,w_1=52%) in dimension 5 (seed=505285, Wed Mar 10 18:31:59 2021)\n",
      "Iterat #Fevals   function value  axis ratio  sigma  min&max std  t[m:s]\n",
      "    1      8 -4.849247942003815e-01 1.0e+00 2.71e-01  3e-01  3e-01 0:00.2\n",
      "    2     16 -5.030508717484541e-01 1.4e+00 3.22e-01  3e-01  5e-01 0:00.5\n",
      "    3     24 -5.215067604220367e-01 1.7e+00 3.71e-01  3e-01  6e-01 0:00.7\n",
      "   15    120 -5.268407002620552e-01 2.1e+00 5.01e-01  3e-01  6e-01 0:03.8\n",
      "   30    240 -5.320453133287457e-01 3.8e+00 4.82e-01  2e-01  5e-01 0:07.9\n",
      "   45    360 -5.353146863756291e-01 4.2e+00 2.98e-01  7e-02  3e-01 0:13.1\n",
      "   58    464 -5.384118861470530e-01 7.9e+00 2.33e-01  3e-02  2e-01 0:19.2\n",
      "   82    656 -5.399887369009397e-01 1.4e+01 8.91e-02  8e-03  5e-02 0:26.3\n",
      "  100    800 -5.431874816994688e-01 1.3e+01 8.98e-02  6e-03  5e-02 0:30.6\n",
      "  134   1072 -5.408517695379735e-01 1.9e+01 2.09e-02  7e-04  1e-02 0:39.6\n"
     ]
    },
    {
     "name": "stderr",
     "output_type": "stream",
     "text": [
      " /home/finley/miniconda3/envs/testsuite/lib/python3.8/site-packages/cma/utilities/utils.py:329: UserWarning:flat fitness (f=-0.540920, sigma=1.03e-02).\n",
      "                    For small sigma, this could indicate numerical convergence.\n",
      "                    Otherwise, please (re)consider how to compute the fitness more elaborately. (iteration=154)\n",
      " /home/finley/miniconda3/envs/testsuite/lib/python3.8/site-packages/cma/utilities/utils.py:329: UserWarning:flat fitness (f=-0.540920, sigma=6.87e-03).\n",
      "                    For small sigma, this could indicate numerical convergence.\n",
      "                    Otherwise, please (re)consider how to compute the fitness more elaborately. (iteration=161)\n"
     ]
    },
    {
     "name": "stdout",
     "output_type": "stream",
     "text": [
      "  162   1296 -5.409195382393004e-01 5.5e+01 6.42e-03  8e-05  3e-03 0:48.0\n"
     ]
    },
    {
     "name": "stderr",
     "output_type": "stream",
     "text": [
      " /home/finley/miniconda3/envs/testsuite/lib/python3.8/site-packages/cma/utilities/utils.py:329: UserWarning:flat fitness (f=-0.540920, sigma=6.42e-03).\n",
      "                    For small sigma, this could indicate numerical convergence.\n",
      "                    Otherwise, please (re)consider how to compute the fitness more elaborately. (iteration=162)\n",
      " /home/finley/miniconda3/envs/testsuite/lib/python3.8/site-packages/cma/utilities/utils.py:329: UserWarning:flat fitness (f=-0.540920, sigma=6.42e-03).\n",
      "                    For small sigma, this could indicate numerical convergence.\n",
      "                    Otherwise, please (re)consider how to compute the fitness more elaborately. (iteration=162)\n"
     ]
    },
    {
     "name": "stdout",
     "output_type": "stream",
     "text": [
      "termination on tolfun=1e-11 (Wed Mar 10 18:32:47 2021)\n",
      "termination on tolfunhist=1e-12 (Wed Mar 10 18:32:47 2021)\n",
      "termination on flat fitness=please (re)consider how to compute the fitness more elaborately if sigma=6.42e-03 is large (Wed Mar 10 18:32:47 2021)\n",
      "final/bestever f-value = -5.409195e-01 -5.431875e-01\n",
      "incumbent solution: [0.24564068193057192, 0.874417584975041, 4.0181281247912395, 1.5191180452589483, 1.3960758480885668e-05]\n",
      "std deviation: [0.0001930553927804274, 8.164344603439231e-05, 0.00158748454461349, 0.0003884925458051691, 0.0030330240440797525]\n",
      "(4_w,8)-aCMA-ES (mu_w=2.6,w_1=52%) in dimension 5 (seed=560653, Wed Mar 10 18:32:47 2021)\n",
      "Iterat #Fevals   function value  axis ratio  sigma  min&max std  t[m:s]\n",
      "    1      8 -5.181316920956096e-01 1.0e+00 2.80e-01  3e-01  3e-01 0:00.4\n",
      "    2     16 -5.196808244437727e-01 1.4e+00 3.46e-01  3e-01  4e-01 0:00.7\n",
      "    3     24 -5.198882757181079e-01 1.7e+00 4.08e-01  4e-01  5e-01 0:01.1\n",
      "   10     80 -5.327070554066262e-01 3.7e+00 8.28e-01  5e-01  1e+00 0:04.4\n",
      "   21    168 -5.407572966096416e-01 7.7e+00 7.44e-01  3e-01  1e+00 0:08.7\n",
      "   42    336 -5.523370087719052e-01 6.6e+00 1.80e-01  3e-02  2e-01 0:13.9\n",
      "   63    504 -5.539478643279686e-01 1.6e+01 2.51e-01  1e-02  2e-01 0:20.1\n",
      "   92    736 -5.588063532290864e-01 4.2e+01 5.73e-02  1e-03  4e-02 0:27.2\n",
      "  100    800 -5.587721170203827e-01 7.4e+01 4.06e-02  4e-04  3e-02 0:29.1\n",
      "  136   1088 -5.599348004560550e-01 6.9e+02 1.87e-02  2e-05  1e-02 0:38.2\n",
      "  161   1288 -5.599972008094815e-01 1.4e+03 6.73e-03  3e-06  3e-03 0:48.3\n"
     ]
    },
    {
     "name": "stderr",
     "output_type": "stream",
     "text": [
      " /home/finley/miniconda3/envs/testsuite/lib/python3.8/site-packages/cma/utilities/utils.py:329: UserWarning:flat fitness (f=-0.560025, sigma=3.10e-03).\n",
      "                    For small sigma, this could indicate numerical convergence.\n",
      "                    Otherwise, please (re)consider how to compute the fitness more elaborately. (iteration=170)\n",
      " /home/finley/miniconda3/envs/testsuite/lib/python3.8/site-packages/cma/utilities/utils.py:329: UserWarning:flat fitness (f=-0.560025, sigma=3.19e-03).\n",
      "                    For small sigma, this could indicate numerical convergence.\n",
      "                    Otherwise, please (re)consider how to compute the fitness more elaborately. (iteration=182)\n",
      " /home/finley/miniconda3/envs/testsuite/lib/python3.8/site-packages/cma/utilities/utils.py:329: UserWarning:flat fitness (f=-0.560025, sigma=2.83e-03).\n",
      "                    For small sigma, this could indicate numerical convergence.\n",
      "                    Otherwise, please (re)consider how to compute the fitness more elaborately. (iteration=187)\n"
     ]
    },
    {
     "name": "stdout",
     "output_type": "stream",
     "text": [
      "  188   1504 -5.600249563550732e-01 1.9e+03 2.76e-03  6e-07  8e-04 1:00.3\n"
     ]
    },
    {
     "name": "stderr",
     "output_type": "stream",
     "text": [
      " /home/finley/miniconda3/envs/testsuite/lib/python3.8/site-packages/cma/utilities/utils.py:329: UserWarning:flat fitness (f=-0.560025, sigma=2.76e-03).\n",
      "                    For small sigma, this could indicate numerical convergence.\n",
      "                    Otherwise, please (re)consider how to compute the fitness more elaborately. (iteration=188)\n",
      " /home/finley/miniconda3/envs/testsuite/lib/python3.8/site-packages/cma/utilities/utils.py:329: UserWarning:flat fitness (f=-0.560025, sigma=2.16e-03).\n",
      "                    For small sigma, this could indicate numerical convergence.\n",
      "                    Otherwise, please (re)consider how to compute the fitness more elaborately. (iteration=190)\n"
     ]
    },
    {
     "name": "stdout",
     "output_type": "stream",
     "text": [
      "  191   1528 -5.600249563550732e-01 1.7e+03 2.32e-03  5e-07  6e-04 1:02.2\n"
     ]
    },
    {
     "name": "stderr",
     "output_type": "stream",
     "text": [
      " /home/finley/miniconda3/envs/testsuite/lib/python3.8/site-packages/cma/utilities/utils.py:329: UserWarning:flat fitness (f=-0.560025, sigma=2.32e-03).\n",
      "                    For small sigma, this could indicate numerical convergence.\n",
      "                    Otherwise, please (re)consider how to compute the fitness more elaborately. (iteration=191)\n",
      " /home/finley/miniconda3/envs/testsuite/lib/python3.8/site-packages/cma/utilities/utils.py:329: UserWarning:flat fitness (f=-0.560025, sigma=2.32e-03).\n",
      "                    For small sigma, this could indicate numerical convergence.\n",
      "                    Otherwise, please (re)consider how to compute the fitness more elaborately. (iteration=191)\n"
     ]
    },
    {
     "name": "stdout",
     "output_type": "stream",
     "text": [
      "termination on tolfun=1e-11 (Wed Mar 10 18:33:50 2021)\n",
      "termination on tolfunhist=1e-12 (Wed Mar 10 18:33:50 2021)\n",
      "termination on flat fitness=please (re)consider how to compute the fitness more elaborately if sigma=2.32e-03 is large (Wed Mar 10 18:33:50 2021)\n",
      "final/bestever f-value = -5.600250e-01 -5.600250e-01\n",
      "incumbent solution: [0.2537914968527612, 1.0481071119674918, 4.196982238131732, 1.5181043675330752, 6.612233703765478]\n",
      "std deviation: [5.016981156943475e-07, 0.00046426878449042113, 0.0005645306966666431, 4.5549654902247e-05, 0.0006423656810338539]\n",
      "(4_w,8)-aCMA-ES (mu_w=2.6,w_1=52%) in dimension 5 (seed=444539, Wed Mar 10 18:33:51 2021)\n",
      "Iterat #Fevals   function value  axis ratio  sigma  min&max std  t[m:s]\n",
      "    1      8 -4.780625903475989e-01 1.0e+00 2.72e-01  3e-01  3e-01 0:00.4\n",
      "    2     16 -4.697352666541329e-01 1.3e+00 2.39e-01  2e-01  2e-01 0:01.1\n",
      "    3     24 -4.779574382497439e-01 1.3e+00 2.70e-01  3e-01  3e-01 0:01.8\n",
      "    8     64 -5.280719104391514e-01 2.5e+00 5.26e-01  5e-01  6e-01 0:05.2\n",
      "   18    144 -5.374498287244251e-01 2.9e+00 4.78e-01  3e-01  5e-01 0:09.3\n",
      "   32    256 -5.379747406968902e-01 2.9e+00 2.58e-01  1e-01  3e-01 0:14.3\n",
      "   50    400 -5.454435544388478e-01 5.5e+00 6.99e-02  1e-02  8e-02 0:20.6\n",
      "   69    552 -5.464307883078501e-01 1.7e+01 2.49e-02  1e-03  2e-02 0:27.7\n",
      "   93    744 -5.478957032236014e-01 5.6e+01 4.89e-03  7e-05  3e-03 0:35.8\n",
      "  100    800 -5.479922604979244e-01 6.5e+01 5.04e-03  6e-05  4e-03 0:38.2\n",
      "  130   1040 -5.481788267786908e-01 3.7e+02 7.38e-03  2e-05  6e-03 0:48.2\n",
      "  160   1280 -5.484719900838120e-01 3.5e+02 1.12e-03  9e-07  3e-04 0:59.4\n"
     ]
    },
    {
     "name": "stderr",
     "output_type": "stream",
     "text": [
      " /home/finley/miniconda3/envs/testsuite/lib/python3.8/site-packages/cma/utilities/utils.py:329: UserWarning:flat fitness (f=-0.548464, sigma=7.86e-04).\n",
      "                    For small sigma, this could indicate numerical convergence.\n",
      "                    Otherwise, please (re)consider how to compute the fitness more elaborately. (iteration=186)\n"
     ]
    },
    {
     "name": "stdout",
     "output_type": "stream",
     "text": [
      "  198   1584 -5.484796612784887e-01 1.3e+03 5.79e-04  1e-07  1e-04 1:11.5\n",
      "  200   1600 -5.484796612784887e-01 1.5e+03 4.25e-04  8e-08  1e-04 1:12.3\n"
     ]
    },
    {
     "name": "stderr",
     "output_type": "stream",
     "text": [
      " /home/finley/miniconda3/envs/testsuite/lib/python3.8/site-packages/cma/utilities/utils.py:329: UserWarning:flat fitness (f=-0.548480, sigma=7.37e-04).\n",
      "                    For small sigma, this could indicate numerical convergence.\n",
      "                    Otherwise, please (re)consider how to compute the fitness more elaborately. (iteration=213)\n",
      " /home/finley/miniconda3/envs/testsuite/lib/python3.8/site-packages/cma/utilities/utils.py:329: UserWarning:flat fitness (f=-0.548480, sigma=6.33e-04).\n",
      "                    For small sigma, this could indicate numerical convergence.\n",
      "                    Otherwise, please (re)consider how to compute the fitness more elaborately. (iteration=217)\n"
     ]
    },
    {
     "name": "stdout",
     "output_type": "stream",
     "text": [
      "  218   1744 -5.484796612784887e-01 3.7e+03 6.26e-04  3e-08  1e-04 1:17.8\n",
      "termination on tolfunhist=1e-12 (Wed Mar 10 18:35:09 2021)\n",
      "termination on flat fitness=please (re)consider how to compute the fitness more elaborately if sigma=6.26e-04 is large (Wed Mar 10 18:35:09 2021)\n",
      "final/bestever f-value = -5.484797e-01 -5.484797e-01\n",
      "incumbent solution: [0.2537959896051462, 0.8817480214540648, 4.197626480207257, 1.5191253993443352, 4.1161514036921805]\n",
      "std deviation: [3.483595463647482e-08, 8.457797511014478e-05, 8.856782256342714e-05, 4.4525065103163743e-05, 0.00011761044114321695]\n",
      "(4_w,8)-aCMA-ES (mu_w=2.6,w_1=52%) in dimension 5 (seed=553222, Wed Mar 10 18:35:09 2021)\n",
      "Iterat #Fevals   function value  axis ratio  sigma  min&max std  t[m:s]\n",
      "    1      8 -4.976661495718937e-01 1.0e+00 2.61e-01  2e-01  3e-01 0:00.3\n",
      "    2     16 -5.011989814451070e-01 1.5e+00 2.80e-01  2e-01  3e-01 0:00.6\n",
      "    3     24 -5.158498354207259e-01 1.6e+00 4.01e-01  4e-01  6e-01 0:00.9\n",
      "   14    112 -5.365975135096667e-01 2.7e+00 5.69e-01  3e-01  7e-01 0:04.2\n",
      "   28    224 -5.473461561104191e-01 4.9e+00 3.85e-01  1e-01  4e-01 0:08.5\n",
      "   44    352 -5.471164315524989e-01 5.5e+00 1.78e-01  5e-02  2e-01 0:13.7\n",
      "   51    408 -5.514323235522569e-01 8.8e+00 1.33e-01  2e-02  1e-01 0:20.2\n",
      "   65    520 -5.584883187862298e-01 1.0e+01 4.92e-02  4e-03  3e-02 0:27.5\n",
      "   79    632 -5.562916708000401e-01 1.5e+01 3.40e-02  2e-03  2e-02 0:35.7\n",
      "  100    800 -5.599594364146163e-01 6.1e+01 1.79e-02  3e-04  1e-02 0:44.9\n",
      "  129   1032 -5.603262355848618e-01 5.3e+02 1.86e-02  4e-05  2e-02 0:55.1\n",
      "  157   1256 -5.607617068441785e-01 1.7e+03 3.01e-03  1e-06  2e-03 1:06.2\n"
     ]
    },
    {
     "name": "stderr",
     "output_type": "stream",
     "text": [
      " /home/finley/miniconda3/envs/testsuite/lib/python3.8/site-packages/cma/utilities/utils.py:329: UserWarning:flat fitness (f=-0.560762, sigma=1.52e-03).\n",
      "                    For small sigma, this could indicate numerical convergence.\n",
      "                    Otherwise, please (re)consider how to compute the fitness more elaborately. (iteration=168)\n",
      " /home/finley/miniconda3/envs/testsuite/lib/python3.8/site-packages/cma/utilities/utils.py:329: UserWarning:flat fitness (f=-0.560762, sigma=1.40e-03).\n",
      "                    For small sigma, this could indicate numerical convergence.\n",
      "                    Otherwise, please (re)consider how to compute the fitness more elaborately. (iteration=170)\n",
      " /home/finley/miniconda3/envs/testsuite/lib/python3.8/site-packages/cma/utilities/utils.py:329: UserWarning:flat fitness (f=-0.560762, sigma=1.38e-03).\n",
      "                    For small sigma, this could indicate numerical convergence.\n",
      "                    Otherwise, please (re)consider how to compute the fitness more elaborately. (iteration=171)\n",
      " /home/finley/miniconda3/envs/testsuite/lib/python3.8/site-packages/cma/utilities/utils.py:329: UserWarning:flat fitness (f=-0.560762, sigma=1.42e-03).\n",
      "                    For small sigma, this could indicate numerical convergence.\n",
      "                    Otherwise, please (re)consider how to compute the fitness more elaborately. (iteration=172)\n",
      " /home/finley/miniconda3/envs/testsuite/lib/python3.8/site-packages/cma/utilities/utils.py:329: UserWarning:flat fitness (f=-0.560762, sigma=1.44e-03).\n",
      "                    For small sigma, this could indicate numerical convergence.\n",
      "                    Otherwise, please (re)consider how to compute the fitness more elaborately. (iteration=173)\n",
      " /home/finley/miniconda3/envs/testsuite/lib/python3.8/site-packages/cma/utilities/utils.py:329: UserWarning:flat fitness (f=-0.560762, sigma=1.57e-03).\n",
      "                    For small sigma, this could indicate numerical convergence.\n",
      "                    Otherwise, please (re)consider how to compute the fitness more elaborately. (iteration=174)\n",
      " /home/finley/miniconda3/envs/testsuite/lib/python3.8/site-packages/cma/utilities/utils.py:329: UserWarning:flat fitness (f=-0.560762, sigma=1.29e-03).\n",
      "                    For small sigma, this could indicate numerical convergence.\n",
      "                    Otherwise, please (re)consider how to compute the fitness more elaborately. (iteration=177)\n",
      " /home/finley/miniconda3/envs/testsuite/lib/python3.8/site-packages/cma/utilities/utils.py:329: UserWarning:flat fitness (f=-0.560762, sigma=1.24e-03).\n",
      "                    For small sigma, this could indicate numerical convergence.\n",
      "                    Otherwise, please (re)consider how to compute the fitness more elaborately. (iteration=178)\n"
     ]
    },
    {
     "name": "stdout",
     "output_type": "stream",
     "text": [
      "  180   1440 -5.607617068441785e-01 2.1e+03 1.03e-03  2e-07  4e-04 1:13.9\n"
     ]
    },
    {
     "name": "stderr",
     "output_type": "stream",
     "text": [
      " /home/finley/miniconda3/envs/testsuite/lib/python3.8/site-packages/cma/utilities/utils.py:329: UserWarning:flat fitness (f=-0.560762, sigma=1.03e-03).\n",
      "                    For small sigma, this could indicate numerical convergence.\n",
      "                    Otherwise, please (re)consider how to compute the fitness more elaborately. (iteration=180)\n",
      " /home/finley/miniconda3/envs/testsuite/lib/python3.8/site-packages/cma/utilities/utils.py:329: UserWarning:flat fitness (f=-0.560762, sigma=1.03e-03).\n",
      "                    For small sigma, this could indicate numerical convergence.\n",
      "                    Otherwise, please (re)consider how to compute the fitness more elaborately. (iteration=180)\n"
     ]
    },
    {
     "name": "stdout",
     "output_type": "stream",
     "text": [
      "termination on tolfun=1e-11 (Wed Mar 10 18:36:24 2021)\n",
      "termination on tolfunhist=1e-12 (Wed Mar 10 18:36:24 2021)\n",
      "termination on flat fitness=please (re)consider how to compute the fitness more elaborately if sigma=1.03e-03 is large (Wed Mar 10 18:36:24 2021)\n",
      "final/bestever f-value = -5.607617e-01 -5.607617e-01\n",
      "incumbent solution: [0.253796165022233, 0.8740926004633361, 4.179098548979758, 1.508668869349783, 7.061754407938322]\n",
      "std deviation: [2.451646743573721e-07, 7.7658523285943e-05, 0.00039661747415602373, 0.00015785543789259473, 0.00020367787124149497]\n",
      "(4_w,8)-aCMA-ES (mu_w=2.6,w_1=52%) in dimension 5 (seed=442901, Wed Mar 10 18:36:24 2021)\n",
      "Iterat #Fevals   function value  axis ratio  sigma  min&max std  t[m:s]\n",
      "    1      8 -5.310904642903086e-01 1.0e+00 2.66e-01  3e-01  3e-01 0:00.3\n",
      "    2     16 -5.327715460259241e-01 1.4e+00 3.30e-01  3e-01  4e-01 0:00.7\n",
      "    3     24 -5.319569311239880e-01 1.4e+00 3.28e-01  3e-01  4e-01 0:01.0\n",
      "   12     96 -5.337953165405193e-01 3.1e+00 2.69e-01  1e-01  3e-01 0:04.0\n",
      "   24    192 -5.344826633354660e-01 5.0e+00 2.17e-01  7e-02  2e-01 0:08.0\n",
      "   39    312 -5.346568441328516e-01 1.2e+01 1.03e-01  1e-02  1e-01 0:13.1\n",
      "   51    408 -5.358683865067648e-01 1.5e+01 5.70e-02  5e-03  5e-02 0:19.2\n",
      "   63    504 -5.358683865067648e-01 1.7e+01 2.18e-02  1e-03  1e-02 0:26.7\n"
     ]
    },
    {
     "name": "stderr",
     "output_type": "stream",
     "text": [
      " /home/finley/miniconda3/envs/testsuite/lib/python3.8/site-packages/cma/utilities/utils.py:329: UserWarning:flat fitness (f=-0.535868, sigma=1.45e-02).\n",
      "                    For small sigma, this could indicate numerical convergence.\n",
      "                    Otherwise, please (re)consider how to compute the fitness more elaborately. (iteration=67)\n",
      " /home/finley/miniconda3/envs/testsuite/lib/python3.8/site-packages/cma/utilities/utils.py:329: UserWarning:flat fitness (f=-0.535868, sigma=1.86e-02).\n",
      "                    For small sigma, this could indicate numerical convergence.\n",
      "                    Otherwise, please (re)consider how to compute the fitness more elaborately. (iteration=70)\n",
      " /home/finley/miniconda3/envs/testsuite/lib/python3.8/site-packages/cma/utilities/utils.py:329: UserWarning:flat fitness (f=-0.535868, sigma=2.15e-02).\n",
      "                    For small sigma, this could indicate numerical convergence.\n",
      "                    Otherwise, please (re)consider how to compute the fitness more elaborately. (iteration=74)\n",
      " /home/finley/miniconda3/envs/testsuite/lib/python3.8/site-packages/cma/utilities/utils.py:329: UserWarning:flat fitness (f=-0.535868, sigma=2.17e-02).\n",
      "                    For small sigma, this could indicate numerical convergence.\n",
      "                    Otherwise, please (re)consider how to compute the fitness more elaborately. (iteration=77)\n",
      " /home/finley/miniconda3/envs/testsuite/lib/python3.8/site-packages/cma/utilities/utils.py:329: UserWarning:flat fitness (f=-0.535868, sigma=1.12e-02).\n",
      "                    For small sigma, this could indicate numerical convergence.\n",
      "                    Otherwise, please (re)consider how to compute the fitness more elaborately. (iteration=81)\n",
      " /home/finley/miniconda3/envs/testsuite/lib/python3.8/site-packages/cma/utilities/utils.py:329: UserWarning:flat fitness (f=-0.535868, sigma=1.07e-02).\n",
      "                    For small sigma, this could indicate numerical convergence.\n",
      "                    Otherwise, please (re)consider how to compute the fitness more elaborately. (iteration=82)\n",
      " /home/finley/miniconda3/envs/testsuite/lib/python3.8/site-packages/cma/utilities/utils.py:329: UserWarning:flat fitness (f=-0.535868, sigma=1.34e-02).\n",
      "                    For small sigma, this could indicate numerical convergence.\n",
      "                    Otherwise, please (re)consider how to compute the fitness more elaborately. (iteration=83)\n"
     ]
    },
    {
     "name": "stdout",
     "output_type": "stream",
     "text": [
      "   84    672 -5.358683865067648e-01 3.2e+01 1.54e-02  3e-04  8e-03 0:33.4\n"
     ]
    },
    {
     "name": "stderr",
     "output_type": "stream",
     "text": [
      " /home/finley/miniconda3/envs/testsuite/lib/python3.8/site-packages/cma/utilities/utils.py:329: UserWarning:flat fitness (f=-0.535868, sigma=1.54e-02).\n",
      "                    For small sigma, this could indicate numerical convergence.\n",
      "                    Otherwise, please (re)consider how to compute the fitness more elaborately. (iteration=84)\n",
      " /home/finley/miniconda3/envs/testsuite/lib/python3.8/site-packages/cma/utilities/utils.py:329: UserWarning:flat fitness (f=-0.535868, sigma=1.54e-02).\n",
      "                    For small sigma, this could indicate numerical convergence.\n",
      "                    Otherwise, please (re)consider how to compute the fitness more elaborately. (iteration=84)\n"
     ]
    },
    {
     "name": "stdout",
     "output_type": "stream",
     "text": [
      "termination on tolfun=1e-11 (Wed Mar 10 18:36:57 2021)\n",
      "termination on tolfunhist=1e-12 (Wed Mar 10 18:36:57 2021)\n",
      "termination on flat fitness=please (re)consider how to compute the fitness more elaborately if sigma=1.54e-02 is large (Wed Mar 10 18:36:57 2021)\n",
      "final/bestever f-value = -5.358684e-01 -5.358684e-01\n",
      "incumbent solution: [0.2670576985076394, 1.870358088862097, 4.184641442793307, 6.692078344922889, 3.2872542521525205]\n",
      "std deviation: [0.00034244758578462774, 0.005733554412489306, 0.008256837811247733, 0.003451573137538534, 0.007633472283528806]\n",
      "(4_w,8)-aCMA-ES (mu_w=2.6,w_1=52%) in dimension 5 (seed=467895, Wed Mar 10 18:36:58 2021)\n",
      "Iterat #Fevals   function value  axis ratio  sigma  min&max std  t[m:s]\n",
      "    1      8 -5.004034787540853e-01 1.0e+00 2.34e-01  2e-01  2e-01 0:00.3\n",
      "    2     16 -5.054561270097983e-01 1.2e+00 2.57e-01  2e-01  3e-01 0:00.6\n",
      "    3     24 -5.130688125786393e-01 1.5e+00 2.54e-01  2e-01  3e-01 0:00.9\n",
      "   13    104 -5.286137845284358e-01 3.6e+00 4.69e-01  3e-01  6e-01 0:04.0\n",
      "   26    208 -5.370036698557156e-01 9.4e+00 6.10e-01  2e-01  1e+00 0:08.2\n",
      "   43    344 -5.456227055358136e-01 1.3e+01 2.74e-01  5e-02  5e-01 0:13.4\n",
      "   63    504 -5.483627080759484e-01 1.4e+01 5.59e-02  4e-03  6e-02 0:19.7\n",
      "   86    688 -5.512308150333358e-01 1.1e+02 2.09e-02  2e-04  2e-02 0:26.9\n",
      "  100    800 -5.513148962252663e-01 4.0e+02 9.67e-03  3e-05  1e-02 0:31.3\n",
      "  129   1032 -5.514775306170610e-01 9.0e+02 4.78e-03  6e-06  4e-03 0:40.3\n",
      "  158   1264 -5.515712528011741e-01 9.8e+02 2.78e-03  2e-06  1e-03 0:50.4\n",
      "  192   1536 -5.516424590990572e-01 8.1e+02 2.48e-03  1e-06  8e-04 1:01.5\n",
      "  200   1600 -5.516556053068022e-01 1.3e+03 2.69e-03  1e-06  1e-03 1:03.7\n"
     ]
    },
    {
     "name": "stderr",
     "output_type": "stream",
     "text": [
      " /home/finley/miniconda3/envs/testsuite/lib/python3.8/site-packages/cma/utilities/utils.py:329: UserWarning:flat fitness (f=-0.551660, sigma=4.24e-04).\n",
      "                    For small sigma, this could indicate numerical convergence.\n",
      "                    Otherwise, please (re)consider how to compute the fitness more elaborately. (iteration=232)\n",
      " /home/finley/miniconda3/envs/testsuite/lib/python3.8/site-packages/cma/utilities/utils.py:329: UserWarning:flat fitness (f=-0.551660, sigma=4.08e-04).\n",
      "                    For small sigma, this could indicate numerical convergence.\n",
      "                    Otherwise, please (re)consider how to compute the fitness more elaborately. (iteration=236)\n",
      " /home/finley/miniconda3/envs/testsuite/lib/python3.8/site-packages/cma/utilities/utils.py:329: UserWarning:flat fitness (f=-0.551660, sigma=2.48e-04).\n",
      "                    For small sigma, this could indicate numerical convergence.\n",
      "                    Otherwise, please (re)consider how to compute the fitness more elaborately. (iteration=242)\n"
     ]
    },
    {
     "name": "stdout",
     "output_type": "stream",
     "text": [
      "  243   1944 -5.516599873789657e-01 1.6e+03 2.53e-04  7e-08  5e-05 1:16.9\n"
     ]
    },
    {
     "name": "stderr",
     "output_type": "stream",
     "text": [
      " /home/finley/miniconda3/envs/testsuite/lib/python3.8/site-packages/cma/utilities/utils.py:329: UserWarning:flat fitness (f=-0.551660, sigma=2.53e-04).\n",
      "                    For small sigma, this could indicate numerical convergence.\n",
      "                    Otherwise, please (re)consider how to compute the fitness more elaborately. (iteration=243)\n",
      " /home/finley/miniconda3/envs/testsuite/lib/python3.8/site-packages/cma/utilities/utils.py:329: UserWarning:flat fitness (f=-0.551660, sigma=2.27e-04).\n",
      "                    For small sigma, this could indicate numerical convergence.\n",
      "                    Otherwise, please (re)consider how to compute the fitness more elaborately. (iteration=244)\n",
      " /home/finley/miniconda3/envs/testsuite/lib/python3.8/site-packages/cma/utilities/utils.py:329: UserWarning:flat fitness (f=-0.551660, sigma=2.74e-04).\n",
      "                    For small sigma, this could indicate numerical convergence.\n",
      "                    Otherwise, please (re)consider how to compute the fitness more elaborately. (iteration=245)\n",
      " /home/finley/miniconda3/envs/testsuite/lib/python3.8/site-packages/cma/utilities/utils.py:329: UserWarning:flat fitness (f=-0.551660, sigma=3.15e-04).\n",
      "                    For small sigma, this could indicate numerical convergence.\n",
      "                    Otherwise, please (re)consider how to compute the fitness more elaborately. (iteration=246)\n",
      " /home/finley/miniconda3/envs/testsuite/lib/python3.8/site-packages/cma/utilities/utils.py:329: UserWarning:flat fitness (f=-0.551660, sigma=3.84e-04).\n",
      "                    For small sigma, this could indicate numerical convergence.\n",
      "                    Otherwise, please (re)consider how to compute the fitness more elaborately. (iteration=248)\n",
      " /home/finley/miniconda3/envs/testsuite/lib/python3.8/site-packages/cma/utilities/utils.py:329: UserWarning:flat fitness (f=-0.551660, sigma=4.47e-04).\n",
      "                    For small sigma, this could indicate numerical convergence.\n",
      "                    Otherwise, please (re)consider how to compute the fitness more elaborately. (iteration=249)\n"
     ]
    },
    {
     "name": "stdout",
     "output_type": "stream",
     "text": [
      "  250   2000 -5.516599873789657e-01 2.0e+03 5.47e-04  2e-07  1e-04 1:18.7\n"
     ]
    },
    {
     "name": "stderr",
     "output_type": "stream",
     "text": [
      " /home/finley/miniconda3/envs/testsuite/lib/python3.8/site-packages/cma/utilities/utils.py:329: UserWarning:flat fitness (f=-0.551660, sigma=5.47e-04).\n",
      "                    For small sigma, this could indicate numerical convergence.\n",
      "                    Otherwise, please (re)consider how to compute the fitness more elaborately. (iteration=250)\n",
      " /home/finley/miniconda3/envs/testsuite/lib/python3.8/site-packages/cma/utilities/utils.py:329: UserWarning:flat fitness (f=-0.551660, sigma=5.47e-04).\n",
      "                    For small sigma, this could indicate numerical convergence.\n",
      "                    Otherwise, please (re)consider how to compute the fitness more elaborately. (iteration=250)\n"
     ]
    },
    {
     "name": "stdout",
     "output_type": "stream",
     "text": [
      "termination on tolfun=1e-11 (Wed Mar 10 18:38:17 2021)\n",
      "termination on tolfunhist=1e-12 (Wed Mar 10 18:38:17 2021)\n",
      "termination on flat fitness=please (re)consider how to compute the fitness more elaborately if sigma=5.47e-04 is large (Wed Mar 10 18:38:17 2021)\n",
      "final/bestever f-value = -5.516600e-01 -5.516600e-01\n",
      "incumbent solution: [0.2538157307680192, 0.8737681427841687, 1.994580201251497, 1.518577572876166, 9.692290639283236]\n",
      "std deviation: [1.5147886961092763e-07, 1.2239366421627652e-06, 0.00011198122518425428, 4.064854650019491e-05, 0.00010109212294680244]\n",
      "(4_w,8)-aCMA-ES (mu_w=2.6,w_1=52%) in dimension 5 (seed=460741, Wed Mar 10 18:38:17 2021)\n",
      "Iterat #Fevals   function value  axis ratio  sigma  min&max std  t[m:s]\n",
      "    1      8 -4.457614451621197e-01 1.0e+00 2.06e-01  2e-01  2e-01 0:00.2\n",
      "    2     16 -4.511018196713353e-01 1.2e+00 2.09e-01  2e-01  2e-01 0:00.5\n",
      "    3     24 -4.555674537117212e-01 1.4e+00 2.34e-01  2e-01  3e-01 0:00.8\n",
      "   14    112 -5.347278825065627e-01 3.2e+00 6.63e-01  4e-01  1e+00 0:03.8\n",
      "   28    224 -5.392719699333315e-01 6.0e+00 4.74e-01  2e-01  7e-01 0:07.8\n",
      "   37    296 -5.416770495272338e-01 7.8e+00 3.44e-01  8e-02  5e-01 0:13.1\n",
      "   56    448 -5.444622867177061e-01 1.5e+01 2.19e-01  2e-02  3e-01 0:19.5\n",
      "   85    680 -5.490142146031621e-01 6.0e+01 1.12e-01  2e-03  1e-01 0:26.6\n",
      "  100    800 -5.493984252683860e-01 1.5e+02 1.03e-01  1e-03  1e-01 0:30.3\n",
      "  135   1080 -5.570371715104776e-01 1.8e+02 1.47e-01  5e-04  1e-01 0:39.5\n",
      "  174   1392 -5.600959745553045e-01 9.6e+02 1.41e-02  7e-06  5e-03 0:49.7\n",
      "  200   1600 -5.602355540588546e-01 6.6e+02 1.51e-02  5e-06  3e-03 0:57.6\n",
      "  247   1976 -5.603071241321781e-01 4.0e+03 1.36e-03  5e-08  2e-04 1:09.7\n"
     ]
    },
    {
     "name": "stderr",
     "output_type": "stream",
     "text": [
      " /home/finley/miniconda3/envs/testsuite/lib/python3.8/site-packages/cma/utilities/utils.py:329: UserWarning:flat fitness (f=-0.560307, sigma=1.47e-03).\n",
      "                    For small sigma, this could indicate numerical convergence.\n",
      "                    Otherwise, please (re)consider how to compute the fitness more elaborately. (iteration=255)\n"
     ]
    },
    {
     "name": "stdout",
     "output_type": "stream",
     "text": [
      "NOTE (module=cma, iteration=258):  \n",
      "condition in coordinate system exceeded 1.1e+08, rescaled to 1.0e+00, \n",
      "condition changed from 1.1e+08 to 6.3e+00\n"
     ]
    },
    {
     "name": "stderr",
     "output_type": "stream",
     "text": [
      " /home/finley/miniconda3/envs/testsuite/lib/python3.8/site-packages/cma/utilities/utils.py:329: UserWarning:flat fitness (f=-0.560307, sigma=1.08e-03).\n",
      "                    For small sigma, this could indicate numerical convergence.\n",
      "                    Otherwise, please (re)consider how to compute the fitness more elaborately. (iteration=261)\n",
      " /home/finley/miniconda3/envs/testsuite/lib/python3.8/site-packages/cma/utilities/utils.py:329: UserWarning:flat fitness (f=-0.560307, sigma=1.04e-03).\n",
      "                    For small sigma, this could indicate numerical convergence.\n",
      "                    Otherwise, please (re)consider how to compute the fitness more elaborately. (iteration=263)\n"
     ]
    },
    {
     "name": "stdout",
     "output_type": "stream",
     "text": [
      "  266   2128 -5.603071241321781e-01 2.7e+00 8.41e-04  1e-08  2e-04 1:14.4\n",
      "termination on tolfunhist=1e-12 (Wed Mar 10 18:39:32 2021)\n",
      "termination on flat fitness=please (re)consider how to compute the fitness more elaborately if sigma=8.41e-04 is large (Wed Mar 10 18:39:32 2021)\n",
      "final/bestever f-value = -5.603071e-01 -5.603071e-01\n",
      "incumbent solution: [0.25379596967426926, 0.8727956501047529, 4.196172459441305, 1.5249878610920407, 6.673092575810013]\n",
      "std deviation: [1.1193216859101197e-08, 1.2152037949820984e-05, 2.9936834579778522e-05, 1.4665680779821363e-05, 0.00015369890200001612]\n",
      "(4_w,8)-aCMA-ES (mu_w=2.6,w_1=52%) in dimension 5 (seed=532633, Wed Mar 10 18:39:32 2021)\n",
      "Iterat #Fevals   function value  axis ratio  sigma  min&max std  t[m:s]\n",
      "    1      8 -4.756997404661263e-01 1.0e+00 2.61e-01  2e-01  3e-01 0:00.2\n",
      "    2     16 -4.865059831915826e-01 1.4e+00 2.71e-01  3e-01  3e-01 0:00.5\n",
      "    3     24 -5.034410657947074e-01 1.4e+00 2.94e-01  3e-01  3e-01 0:00.7\n",
      "   16    128 -5.451510848195987e-01 2.2e+00 3.58e-01  3e-01  4e-01 0:04.0\n",
      "   31    248 -5.481263692506330e-01 3.0e+00 1.17e-01  5e-02  1e-01 0:08.1\n",
      "   49    392 -5.484837255316235e-01 4.8e+00 2.77e-02  5e-03  2e-02 0:13.1\n",
      "   75    600 -5.502135567540621e-01 6.9e+00 1.90e-02  2e-03  1e-02 0:19.3\n",
      "  100    800 -5.507276733052850e-01 7.8e+01 1.24e-02  2e-04  1e-02 0:25.4\n",
      "  134   1072 -5.509892787756423e-01 7.4e+02 1.51e-03  2e-06  1e-03 0:33.7\n"
     ]
    },
    {
     "name": "stderr",
     "output_type": "stream",
     "text": [
      " /home/finley/miniconda3/envs/testsuite/lib/python3.8/site-packages/cma/utilities/utils.py:329: UserWarning:flat fitness (f=-0.550989, sigma=1.06e-03).\n",
      "                    For small sigma, this could indicate numerical convergence.\n",
      "                    Otherwise, please (re)consider how to compute the fitness more elaborately. (iteration=138)\n",
      " /home/finley/miniconda3/envs/testsuite/lib/python3.8/site-packages/cma/utilities/utils.py:329: UserWarning:flat fitness (f=-0.550989, sigma=1.13e-03).\n",
      "                    For small sigma, this could indicate numerical convergence.\n",
      "                    Otherwise, please (re)consider how to compute the fitness more elaborately. (iteration=139)\n",
      " /home/finley/miniconda3/envs/testsuite/lib/python3.8/site-packages/cma/utilities/utils.py:329: UserWarning:flat fitness (f=-0.550989, sigma=9.36e-04).\n",
      "                    For small sigma, this could indicate numerical convergence.\n",
      "                    Otherwise, please (re)consider how to compute the fitness more elaborately. (iteration=141)\n",
      " /home/finley/miniconda3/envs/testsuite/lib/python3.8/site-packages/cma/utilities/utils.py:329: UserWarning:flat fitness (f=-0.550989, sigma=8.86e-04).\n",
      "                    For small sigma, this could indicate numerical convergence.\n",
      "                    Otherwise, please (re)consider how to compute the fitness more elaborately. (iteration=142)\n",
      " /home/finley/miniconda3/envs/testsuite/lib/python3.8/site-packages/cma/utilities/utils.py:329: UserWarning:flat fitness (f=-0.550989, sigma=8.61e-04).\n",
      "                    For small sigma, this could indicate numerical convergence.\n",
      "                    Otherwise, please (re)consider how to compute the fitness more elaborately. (iteration=143)\n",
      " /home/finley/miniconda3/envs/testsuite/lib/python3.8/site-packages/cma/utilities/utils.py:329: UserWarning:flat fitness (f=-0.550989, sigma=7.61e-04).\n",
      "                    For small sigma, this could indicate numerical convergence.\n",
      "                    Otherwise, please (re)consider how to compute the fitness more elaborately. (iteration=144)\n",
      " /home/finley/miniconda3/envs/testsuite/lib/python3.8/site-packages/cma/utilities/utils.py:329: UserWarning:flat fitness (f=-0.550989, sigma=8.41e-04).\n",
      "                    For small sigma, this could indicate numerical convergence.\n",
      "                    Otherwise, please (re)consider how to compute the fitness more elaborately. (iteration=145)\n",
      " /home/finley/miniconda3/envs/testsuite/lib/python3.8/site-packages/cma/utilities/utils.py:329: UserWarning:flat fitness (f=-0.550989, sigma=8.04e-04).\n",
      "                    For small sigma, this could indicate numerical convergence.\n",
      "                    Otherwise, please (re)consider how to compute the fitness more elaborately. (iteration=146)\n",
      " /home/finley/miniconda3/envs/testsuite/lib/python3.8/site-packages/cma/utilities/utils.py:329: UserWarning:flat fitness (f=-0.550989, sigma=7.32e-04).\n",
      "                    For small sigma, this could indicate numerical convergence.\n",
      "                    Otherwise, please (re)consider how to compute the fitness more elaborately. (iteration=147)\n",
      " /home/finley/miniconda3/envs/testsuite/lib/python3.8/site-packages/cma/utilities/utils.py:329: UserWarning:flat fitness (f=-0.550989, sigma=7.08e-04).\n",
      "                    For small sigma, this could indicate numerical convergence.\n",
      "                    Otherwise, please (re)consider how to compute the fitness more elaborately. (iteration=148)\n",
      " /home/finley/miniconda3/envs/testsuite/lib/python3.8/site-packages/cma/utilities/utils.py:329: UserWarning:flat fitness (f=-0.550989, sigma=6.61e-04).\n",
      "                    For small sigma, this could indicate numerical convergence.\n",
      "                    Otherwise, please (re)consider how to compute the fitness more elaborately. (iteration=149)\n",
      " /home/finley/miniconda3/envs/testsuite/lib/python3.8/site-packages/cma/utilities/utils.py:329: UserWarning:flat fitness (f=-0.550989, sigma=7.52e-04).\n",
      "                    For small sigma, this could indicate numerical convergence.\n",
      "                    Otherwise, please (re)consider how to compute the fitness more elaborately. (iteration=150)\n"
     ]
    },
    {
     "name": "stdout",
     "output_type": "stream",
     "text": [
      "  151   1208 -5.509892787756423e-01 7.1e+02 7.39e-04  1e-06  5e-04 0:37.9\n"
     ]
    },
    {
     "name": "stderr",
     "output_type": "stream",
     "text": [
      " /home/finley/miniconda3/envs/testsuite/lib/python3.8/site-packages/cma/utilities/utils.py:329: UserWarning:flat fitness (f=-0.550989, sigma=7.39e-04).\n",
      "                    For small sigma, this could indicate numerical convergence.\n",
      "                    Otherwise, please (re)consider how to compute the fitness more elaborately. (iteration=151)\n",
      " /home/finley/miniconda3/envs/testsuite/lib/python3.8/site-packages/cma/utilities/utils.py:329: UserWarning:flat fitness (f=-0.550989, sigma=7.39e-04).\n",
      "                    For small sigma, this could indicate numerical convergence.\n",
      "                    Otherwise, please (re)consider how to compute the fitness more elaborately. (iteration=151)\n"
     ]
    },
    {
     "name": "stdout",
     "output_type": "stream",
     "text": [
      "termination on tolfun=1e-11 (Wed Mar 10 18:40:10 2021)\n",
      "termination on tolfunhist=1e-12 (Wed Mar 10 18:40:10 2021)\n",
      "termination on flat fitness=please (re)consider how to compute the fitness more elaborately if sigma=7.39e-04 is large (Wed Mar 10 18:40:10 2021)\n",
      "final/bestever f-value = -5.509893e-01 -5.510303e-01\n",
      "incumbent solution: [0.25380856093840487, 2.7203052290628795, 4.15906021430269, 1.526982878037029, 6.766260050118563]\n",
      "std deviation: [1.3519703432339548e-06, 0.0003789301728774511, 0.000492520502193708, 2.4817783526185596e-05, 9.108471009354921e-05]\n",
      "(4_w,8)-aCMA-ES (mu_w=2.6,w_1=52%) in dimension 5 (seed=525788, Wed Mar 10 18:40:10 2021)\n",
      "Iterat #Fevals   function value  axis ratio  sigma  min&max std  t[m:s]\n",
      "    1      8 -4.828321755947813e-01 1.0e+00 2.45e-01  2e-01  3e-01 0:00.3\n",
      "    2     16 -5.088737677865042e-01 1.3e+00 2.77e-01  3e-01  3e-01 0:00.6\n",
      "    3     24 -5.182649608782357e-01 1.5e+00 3.27e-01  3e-01  4e-01 0:01.0\n",
      "   15    120 -5.277496379309441e-01 2.8e+00 2.22e-01  1e-01  3e-01 0:04.0\n",
      "   32    256 -5.314370338290444e-01 3.6e+00 1.28e-01  5e-02  1e-01 0:08.1\n",
      "   53    424 -5.334138924492413e-01 1.4e+01 9.10e-02  7e-03  9e-02 0:13.1\n",
      "   78    624 -5.337062916571982e-01 3.0e+01 4.23e-02  1e-03  3e-02 0:19.2\n",
      "  100    800 -5.345606956588190e-01 1.9e+02 1.25e-02  6e-05  1e-02 0:24.3\n"
     ]
    },
    {
     "name": "stderr",
     "output_type": "stream",
     "text": [
      " /home/finley/miniconda3/envs/testsuite/lib/python3.8/site-packages/cma/utilities/utils.py:329: UserWarning:flat fitness (f=-0.534569, sigma=7.92e-03).\n",
      "                    For small sigma, this could indicate numerical convergence.\n",
      "                    Otherwise, please (re)consider how to compute the fitness more elaborately. (iteration=126)\n"
     ]
    },
    {
     "name": "stdout",
     "output_type": "stream",
     "text": [
      "  133   1064 -5.345692279794965e-01 1.5e+03 8.42e-03  1e-05  1e-02 0:32.3\n"
     ]
    },
    {
     "name": "stderr",
     "output_type": "stream",
     "text": [
      " /home/finley/miniconda3/envs/testsuite/lib/python3.8/site-packages/cma/utilities/utils.py:329: UserWarning:flat fitness (f=-0.534569, sigma=8.42e-03).\n",
      "                    For small sigma, this could indicate numerical convergence.\n",
      "                    Otherwise, please (re)consider how to compute the fitness more elaborately. (iteration=133)\n",
      " /home/finley/miniconda3/envs/testsuite/lib/python3.8/site-packages/cma/utilities/utils.py:329: UserWarning:flat fitness (f=-0.534569, sigma=7.91e-03).\n",
      "                    For small sigma, this could indicate numerical convergence.\n",
      "                    Otherwise, please (re)consider how to compute the fitness more elaborately. (iteration=136)\n",
      " /home/finley/miniconda3/envs/testsuite/lib/python3.8/site-packages/cma/utilities/utils.py:329: UserWarning:flat fitness (f=-0.534569, sigma=7.51e-03).\n",
      "                    For small sigma, this could indicate numerical convergence.\n",
      "                    Otherwise, please (re)consider how to compute the fitness more elaborately. (iteration=137)\n",
      " /home/finley/miniconda3/envs/testsuite/lib/python3.8/site-packages/cma/utilities/utils.py:329: UserWarning:flat fitness (f=-0.534569, sigma=7.38e-03).\n",
      "                    For small sigma, this could indicate numerical convergence.\n",
      "                    Otherwise, please (re)consider how to compute the fitness more elaborately. (iteration=138)\n",
      " /home/finley/miniconda3/envs/testsuite/lib/python3.8/site-packages/cma/utilities/utils.py:329: UserWarning:flat fitness (f=-0.534569, sigma=7.95e-03).\n",
      "                    For small sigma, this could indicate numerical convergence.\n",
      "                    Otherwise, please (re)consider how to compute the fitness more elaborately. (iteration=139)\n",
      " /home/finley/miniconda3/envs/testsuite/lib/python3.8/site-packages/cma/utilities/utils.py:329: UserWarning:flat fitness (f=-0.534569, sigma=9.33e-03).\n",
      "                    For small sigma, this could indicate numerical convergence.\n",
      "                    Otherwise, please (re)consider how to compute the fitness more elaborately. (iteration=144)\n",
      " /home/finley/miniconda3/envs/testsuite/lib/python3.8/site-packages/cma/utilities/utils.py:329: UserWarning:flat fitness (f=-0.534569, sigma=8.05e-03).\n",
      "                    For small sigma, this could indicate numerical convergence.\n",
      "                    Otherwise, please (re)consider how to compute the fitness more elaborately. (iteration=148)\n",
      " /home/finley/miniconda3/envs/testsuite/lib/python3.8/site-packages/cma/utilities/utils.py:329: UserWarning:flat fitness (f=-0.534569, sigma=6.13e-03).\n",
      "                    For small sigma, this could indicate numerical convergence.\n",
      "                    Otherwise, please (re)consider how to compute the fitness more elaborately. (iteration=150)\n",
      " /home/finley/miniconda3/envs/testsuite/lib/python3.8/site-packages/cma/utilities/utils.py:329: UserWarning:flat fitness (f=-0.534569, sigma=5.68e-03).\n",
      "                    For small sigma, this could indicate numerical convergence.\n",
      "                    Otherwise, please (re)consider how to compute the fitness more elaborately. (iteration=151)\n",
      " /home/finley/miniconda3/envs/testsuite/lib/python3.8/site-packages/cma/utilities/utils.py:329: UserWarning:flat fitness (f=-0.534569, sigma=7.34e-03).\n",
      "                    For small sigma, this could indicate numerical convergence.\n",
      "                    Otherwise, please (re)consider how to compute the fitness more elaborately. (iteration=152)\n",
      " /home/finley/miniconda3/envs/testsuite/lib/python3.8/site-packages/cma/utilities/utils.py:329: UserWarning:flat fitness (f=-0.534569, sigma=1.08e-02).\n",
      "                    For small sigma, this could indicate numerical convergence.\n",
      "                    Otherwise, please (re)consider how to compute the fitness more elaborately. (iteration=157)\n",
      " /home/finley/miniconda3/envs/testsuite/lib/python3.8/site-packages/cma/utilities/utils.py:329: UserWarning:flat fitness (f=-0.534569, sigma=9.85e-03).\n",
      "                    For small sigma, this could indicate numerical convergence.\n",
      "                    Otherwise, please (re)consider how to compute the fitness more elaborately. (iteration=158)\n",
      " /home/finley/miniconda3/envs/testsuite/lib/python3.8/site-packages/cma/utilities/utils.py:329: UserWarning:flat fitness (f=-0.534569, sigma=9.12e-03).\n",
      "                    For small sigma, this could indicate numerical convergence.\n",
      "                    Otherwise, please (re)consider how to compute the fitness more elaborately. (iteration=159)\n",
      " /home/finley/miniconda3/envs/testsuite/lib/python3.8/site-packages/cma/utilities/utils.py:329: UserWarning:flat fitness (f=-0.534569, sigma=1.05e-02).\n",
      "                    For small sigma, this could indicate numerical convergence.\n",
      "                    Otherwise, please (re)consider how to compute the fitness more elaborately. (iteration=160)\n",
      " /home/finley/miniconda3/envs/testsuite/lib/python3.8/site-packages/cma/utilities/utils.py:329: UserWarning:flat fitness (f=-0.534569, sigma=1.23e-02).\n",
      "                    For small sigma, this could indicate numerical convergence.\n",
      "                    Otherwise, please (re)consider how to compute the fitness more elaborately. (iteration=163)\n",
      " /home/finley/miniconda3/envs/testsuite/lib/python3.8/site-packages/cma/utilities/utils.py:329: UserWarning:flat fitness (f=-0.534569, sigma=9.30e-03).\n",
      "                    For small sigma, this could indicate numerical convergence.\n",
      "                    Otherwise, please (re)consider how to compute the fitness more elaborately. (iteration=166)\n"
     ]
    },
    {
     "name": "stdout",
     "output_type": "stream",
     "text": [
      "  168   1344 -5.345692279794965e-01 2.3e+03 7.13e-03  6e-06  6e-03 0:40.7\n"
     ]
    },
    {
     "name": "stderr",
     "output_type": "stream",
     "text": [
      " /home/finley/miniconda3/envs/testsuite/lib/python3.8/site-packages/cma/utilities/utils.py:329: UserWarning:flat fitness (f=-0.534569, sigma=7.13e-03).\n",
      "                    For small sigma, this could indicate numerical convergence.\n",
      "                    Otherwise, please (re)consider how to compute the fitness more elaborately. (iteration=168)\n",
      " /home/finley/miniconda3/envs/testsuite/lib/python3.8/site-packages/cma/utilities/utils.py:329: UserWarning:flat fitness (f=-0.534569, sigma=7.13e-03).\n",
      "                    For small sigma, this could indicate numerical convergence.\n",
      "                    Otherwise, please (re)consider how to compute the fitness more elaborately. (iteration=168)\n"
     ]
    },
    {
     "name": "stdout",
     "output_type": "stream",
     "text": [
      "termination on tolfun=1e-11 (Wed Mar 10 18:40:51 2021)\n",
      "termination on tolfunhist=1e-12 (Wed Mar 10 18:40:51 2021)\n",
      "termination on flat fitness=please (re)consider how to compute the fitness more elaborately if sigma=7.13e-03 is large (Wed Mar 10 18:40:51 2021)\n",
      "final/bestever f-value = -5.345692e-01 -5.345703e-01\n",
      "incumbent solution: [0.25382452387345117, 1.7990307638614425, 4.044036339873672, 7.787362867903926, 7.00833566714591]\n",
      "std deviation: [6.259539251964935e-06, 0.002497790052813458, 0.0006355945000284976, 0.005664495762603334, 0.002431715661734691]\n",
      "(4_w,8)-aCMA-ES (mu_w=2.6,w_1=52%) in dimension 5 (seed=572832, Wed Mar 10 18:40:51 2021)\n",
      "Iterat #Fevals   function value  axis ratio  sigma  min&max std  t[m:s]\n",
      "    1      8 -4.545061592087885e-01 1.0e+00 2.47e-01  2e-01  3e-01 0:00.2\n",
      "    2     16 -4.736935967465924e-01 1.3e+00 3.07e-01  3e-01  3e-01 0:00.5\n",
      "    3     24 -4.926642906945016e-01 1.4e+00 3.98e-01  4e-01  5e-01 0:00.8\n",
      "   14    112 -5.253455654778684e-01 2.6e+00 1.04e+00  5e-01  1e+00 0:03.8\n",
      "   31    248 -5.354257476350994e-01 5.7e+00 5.30e-01  1e-01  7e-01 0:07.8\n",
      "   50    400 -5.542856297639045e-01 1.4e+01 4.85e-01  6e-02  1e+00 0:12.9\n",
      "   75    600 -5.573962631890866e-01 3.1e+01 1.04e-01  4e-03  1e-01 0:19.0\n",
      "  100    800 -5.598584961709995e-01 6.6e+01 2.93e-02  4e-04  3e-02 0:24.9\n",
      "  132   1056 -5.610535999140585e-01 5.8e+02 6.40e-03  1e-05  6e-03 0:33.1\n"
     ]
    },
    {
     "name": "stderr",
     "output_type": "stream",
     "text": [
      " /home/finley/miniconda3/envs/testsuite/lib/python3.8/site-packages/cma/utilities/utils.py:329: UserWarning:flat fitness (f=-0.561054, sigma=2.01e-03).\n",
      "                    For small sigma, this could indicate numerical convergence.\n",
      "                    Otherwise, please (re)consider how to compute the fitness more elaborately. (iteration=147)\n",
      " /home/finley/miniconda3/envs/testsuite/lib/python3.8/site-packages/cma/utilities/utils.py:329: UserWarning:flat fitness (f=-0.561054, sigma=2.00e-03).\n",
      "                    For small sigma, this could indicate numerical convergence.\n",
      "                    Otherwise, please (re)consider how to compute the fitness more elaborately. (iteration=148)\n",
      " /home/finley/miniconda3/envs/testsuite/lib/python3.8/site-packages/cma/utilities/utils.py:329: UserWarning:flat fitness (f=-0.561054, sigma=1.96e-03).\n",
      "                    For small sigma, this could indicate numerical convergence.\n",
      "                    Otherwise, please (re)consider how to compute the fitness more elaborately. (iteration=149)\n",
      " /home/finley/miniconda3/envs/testsuite/lib/python3.8/site-packages/cma/utilities/utils.py:329: UserWarning:flat fitness (f=-0.561054, sigma=1.92e-03).\n",
      "                    For small sigma, this could indicate numerical convergence.\n",
      "                    Otherwise, please (re)consider how to compute the fitness more elaborately. (iteration=150)\n",
      " /home/finley/miniconda3/envs/testsuite/lib/python3.8/site-packages/cma/utilities/utils.py:329: UserWarning:flat fitness (f=-0.561054, sigma=1.67e-03).\n",
      "                    For small sigma, this could indicate numerical convergence.\n",
      "                    Otherwise, please (re)consider how to compute the fitness more elaborately. (iteration=151)\n",
      " /home/finley/miniconda3/envs/testsuite/lib/python3.8/site-packages/cma/utilities/utils.py:329: UserWarning:flat fitness (f=-0.561054, sigma=1.51e-03).\n",
      "                    For small sigma, this could indicate numerical convergence.\n",
      "                    Otherwise, please (re)consider how to compute the fitness more elaborately. (iteration=152)\n",
      " /home/finley/miniconda3/envs/testsuite/lib/python3.8/site-packages/cma/utilities/utils.py:329: UserWarning:flat fitness (f=-0.561054, sigma=1.44e-03).\n",
      "                    For small sigma, this could indicate numerical convergence.\n",
      "                    Otherwise, please (re)consider how to compute the fitness more elaborately. (iteration=153)\n",
      " /home/finley/miniconda3/envs/testsuite/lib/python3.8/site-packages/cma/utilities/utils.py:329: UserWarning:flat fitness (f=-0.561054, sigma=1.47e-03).\n",
      "                    For small sigma, this could indicate numerical convergence.\n",
      "                    Otherwise, please (re)consider how to compute the fitness more elaborately. (iteration=155)\n"
     ]
    },
    {
     "name": "stdout",
     "output_type": "stream",
     "text": [
      "  156   1248 -5.610535999140585e-01 7.1e+02 1.31e-03  2e-06  8e-04 0:40.5\n"
     ]
    },
    {
     "name": "stderr",
     "output_type": "stream",
     "text": [
      " /home/finley/miniconda3/envs/testsuite/lib/python3.8/site-packages/cma/utilities/utils.py:329: UserWarning:flat fitness (f=-0.561054, sigma=1.31e-03).\n",
      "                    For small sigma, this could indicate numerical convergence.\n",
      "                    Otherwise, please (re)consider how to compute the fitness more elaborately. (iteration=156)\n",
      " /home/finley/miniconda3/envs/testsuite/lib/python3.8/site-packages/cma/utilities/utils.py:329: UserWarning:flat fitness (f=-0.561054, sigma=1.31e-03).\n",
      "                    For small sigma, this could indicate numerical convergence.\n",
      "                    Otherwise, please (re)consider how to compute the fitness more elaborately. (iteration=156)\n"
     ]
    },
    {
     "name": "stdout",
     "output_type": "stream",
     "text": [
      "termination on tolfun=1e-11 (Wed Mar 10 18:41:32 2021)\n",
      "termination on tolfunhist=1e-12 (Wed Mar 10 18:41:32 2021)\n",
      "termination on flat fitness=please (re)consider how to compute the fitness more elaborately if sigma=1.31e-03 is large (Wed Mar 10 18:41:32 2021)\n",
      "final/bestever f-value = -5.610536e-01 -5.610536e-01\n",
      "incumbent solution: [0.2538058650742369, 2.844516718898325, 4.166252687460784, 1.526910157175943, 6.714647851516139]\n",
      "std deviation: [1.5739138414273684e-06, 0.0003517848041733092, 7.50302461619784e-05, 5.869730014660132e-05, 0.0008217519223108781]\n",
      "(4_w,8)-aCMA-ES (mu_w=2.6,w_1=52%) in dimension 5 (seed=544425, Wed Mar 10 18:41:32 2021)\n",
      "Iterat #Fevals   function value  axis ratio  sigma  min&max std  t[m:s]\n",
      "    1      8 -5.188704726921862e-01 1.0e+00 2.47e-01  2e-01  3e-01 0:00.3\n",
      "    2     16 -5.318518981539395e-01 1.2e+00 2.91e-01  3e-01  3e-01 0:00.5\n",
      "    3     24 -5.345748682659072e-01 1.5e+00 3.17e-01  3e-01  4e-01 0:00.8\n",
      "   14    112 -5.390089861548195e-01 1.8e+00 2.51e-01  2e-01  3e-01 0:03.9\n",
      "   29    232 -5.446397602200134e-01 5.2e+00 2.27e-01  6e-02  3e-01 0:08.1\n",
      "   49    392 -5.531505715456577e-01 1.3e+01 1.15e-01  1e-02  1e-01 0:13.1\n",
      "   65    520 -5.550037962312877e-01 9.4e+00 3.61e-02  3e-03  2e-02 0:19.1\n",
      "   78    624 -5.558430498316178e-01 2.0e+01 3.62e-02  2e-03  3e-02 0:26.5\n",
      "   95    760 -5.573900862538520e-01 7.4e+01 1.34e-02  2e-04  1e-02 0:34.8\n",
      "  100    800 -5.571622119819882e-01 9.6e+01 1.07e-02  1e-04  8e-03 0:37.8\n",
      "  115    920 -5.581368396930757e-01 2.8e+02 5.87e-03  2e-05  5e-03 0:47.9\n",
      "  132   1056 -5.584135225645228e-01 8.5e+02 1.81e-03  2e-06  1e-03 0:59.7\n"
     ]
    },
    {
     "name": "stderr",
     "output_type": "stream",
     "text": [
      " /home/finley/miniconda3/envs/testsuite/lib/python3.8/site-packages/cma/utilities/utils.py:329: UserWarning:flat fitness (f=-0.558414, sigma=1.98e-03).\n",
      "                    For small sigma, this could indicate numerical convergence.\n",
      "                    Otherwise, please (re)consider how to compute the fitness more elaborately. (iteration=137)\n",
      " /home/finley/miniconda3/envs/testsuite/lib/python3.8/site-packages/cma/utilities/utils.py:329: UserWarning:flat fitness (f=-0.558414, sigma=1.63e-03).\n",
      "                    For small sigma, this could indicate numerical convergence.\n",
      "                    Otherwise, please (re)consider how to compute the fitness more elaborately. (iteration=147)\n"
     ]
    },
    {
     "name": "stdout",
     "output_type": "stream",
     "text": [
      "  150   1200 -5.584135225645228e-01 2.0e+03 1.41e-03  6e-07  1e-03 1:12.3\n"
     ]
    },
    {
     "name": "stderr",
     "output_type": "stream",
     "text": [
      " /home/finley/miniconda3/envs/testsuite/lib/python3.8/site-packages/cma/utilities/utils.py:329: UserWarning:flat fitness (f=-0.558414, sigma=1.41e-03).\n",
      "                    For small sigma, this could indicate numerical convergence.\n",
      "                    Otherwise, please (re)consider how to compute the fitness more elaborately. (iteration=150)\n",
      " /home/finley/miniconda3/envs/testsuite/lib/python3.8/site-packages/cma/utilities/utils.py:329: UserWarning:flat fitness (f=-0.558414, sigma=1.40e-03).\n",
      "                    For small sigma, this could indicate numerical convergence.\n",
      "                    Otherwise, please (re)consider how to compute the fitness more elaborately. (iteration=151)\n",
      " /home/finley/miniconda3/envs/testsuite/lib/python3.8/site-packages/cma/utilities/utils.py:329: UserWarning:flat fitness (f=-0.558414, sigma=1.24e-03).\n",
      "                    For small sigma, this could indicate numerical convergence.\n",
      "                    Otherwise, please (re)consider how to compute the fitness more elaborately. (iteration=153)\n"
     ]
    },
    {
     "name": "stdout",
     "output_type": "stream",
     "text": [
      "  154   1232 -5.584135225645228e-01 2.6e+03 1.23e-03  5e-07  9e-04 1:14.3\n",
      "termination on tolfunhist=1e-12 (Wed Mar 10 18:42:47 2021)\n",
      "termination on flat fitness=please (re)consider how to compute the fitness more elaborately if sigma=1.23e-03 is large (Wed Mar 10 18:42:47 2021)\n",
      "final/bestever f-value = -5.584135e-01 -5.584135e-01\n",
      "incumbent solution: [0.25380191195022406, 3.999476223797671, 4.165099646262956, 1.527643578610502, 7.07376920420163]\n",
      "std deviation: [4.5591344892576156e-07, 0.0008990800255547341, 0.00018955557609697904, 8.73042485855511e-05, 0.0006026382077634079]\n",
      "(4_w,8)-aCMA-ES (mu_w=2.6,w_1=52%) in dimension 5 (seed=577853, Wed Mar 10 18:42:48 2021)\n",
      "Iterat #Fevals   function value  axis ratio  sigma  min&max std  t[m:s]\n",
      "    1      8 -5.232809210982294e-01 1.0e+00 2.58e-01  2e-01  3e-01 0:00.4\n",
      "    2     16 -5.332691195477652e-01 1.3e+00 2.98e-01  3e-01  4e-01 0:01.0\n",
      "    3     24 -5.324097585252026e-01 1.6e+00 3.26e-01  3e-01  4e-01 0:01.8\n",
      "    7     56 -5.379202920382152e-01 2.1e+00 3.31e-01  3e-01  4e-01 0:05.4\n",
      "   13    104 -5.398482049884425e-01 2.8e+00 2.13e-01  1e-01  2e-01 0:09.7\n",
      "   27    216 -5.438012722622279e-01 4.9e+00 2.98e-01  1e-01  5e-01 0:14.8\n",
      "   45    360 -5.488823727704273e-01 5.5e+00 1.85e-01  3e-02  2e-01 0:21.1\n",
      "   59    472 -5.509458413380650e-01 9.1e+00 7.43e-02  9e-03  7e-02 0:28.4\n",
      "   79    632 -5.565173201128439e-01 4.0e+01 6.44e-02  3e-03  1e-01 0:36.6\n",
      "  100    800 -5.588759510276551e-01 4.0e+01 9.51e-03  3e-04  1e-02 0:45.4\n",
      "  131   1048 -5.593508177634458e-01 9.1e+01 2.87e-03  2e-05  2e-03 0:55.9\n",
      "  169   1352 -5.601192316787729e-01 7.3e+02 1.64e-04  9e-08  5e-05 1:07.4\n"
     ]
    },
    {
     "name": "stderr",
     "output_type": "stream",
     "text": [
      " /home/finley/miniconda3/envs/testsuite/lib/python3.8/site-packages/cma/utilities/utils.py:329: UserWarning:flat fitness (f=-0.560119, sigma=1.47e-04).\n",
      "                    For small sigma, this could indicate numerical convergence.\n",
      "                    Otherwise, please (re)consider how to compute the fitness more elaborately. (iteration=174)\n",
      " /home/finley/miniconda3/envs/testsuite/lib/python3.8/site-packages/cma/utilities/utils.py:329: UserWarning:flat fitness (f=-0.560119, sigma=1.36e-04).\n",
      "                    For small sigma, this could indicate numerical convergence.\n",
      "                    Otherwise, please (re)consider how to compute the fitness more elaborately. (iteration=181)\n",
      " /home/finley/miniconda3/envs/testsuite/lib/python3.8/site-packages/cma/utilities/utils.py:329: UserWarning:flat fitness (f=-0.560119, sigma=1.36e-04).\n",
      "                    For small sigma, this could indicate numerical convergence.\n",
      "                    Otherwise, please (re)consider how to compute the fitness more elaborately. (iteration=182)\n",
      " /home/finley/miniconda3/envs/testsuite/lib/python3.8/site-packages/cma/utilities/utils.py:329: UserWarning:flat fitness (f=-0.560119, sigma=1.29e-04).\n",
      "                    For small sigma, this could indicate numerical convergence.\n",
      "                    Otherwise, please (re)consider how to compute the fitness more elaborately. (iteration=183)\n",
      " /home/finley/miniconda3/envs/testsuite/lib/python3.8/site-packages/cma/utilities/utils.py:329: UserWarning:flat fitness (f=-0.560119, sigma=1.35e-04).\n",
      "                    For small sigma, this could indicate numerical convergence.\n",
      "                    Otherwise, please (re)consider how to compute the fitness more elaborately. (iteration=184)\n",
      " /home/finley/miniconda3/envs/testsuite/lib/python3.8/site-packages/cma/utilities/utils.py:329: UserWarning:flat fitness (f=-0.560119, sigma=1.18e-04).\n",
      "                    For small sigma, this could indicate numerical convergence.\n",
      "                    Otherwise, please (re)consider how to compute the fitness more elaborately. (iteration=185)\n",
      " /home/finley/miniconda3/envs/testsuite/lib/python3.8/site-packages/cma/utilities/utils.py:329: UserWarning:flat fitness (f=-0.560119, sigma=1.25e-04).\n",
      "                    For small sigma, this could indicate numerical convergence.\n",
      "                    Otherwise, please (re)consider how to compute the fitness more elaborately. (iteration=186)\n",
      " /home/finley/miniconda3/envs/testsuite/lib/python3.8/site-packages/cma/utilities/utils.py:329: UserWarning:flat fitness (f=-0.560119, sigma=1.20e-04).\n",
      "                    For small sigma, this could indicate numerical convergence.\n",
      "                    Otherwise, please (re)consider how to compute the fitness more elaborately. (iteration=187)\n",
      " /home/finley/miniconda3/envs/testsuite/lib/python3.8/site-packages/cma/utilities/utils.py:329: UserWarning:flat fitness (f=-0.560119, sigma=1.09e-04).\n",
      "                    For small sigma, this could indicate numerical convergence.\n",
      "                    Otherwise, please (re)consider how to compute the fitness more elaborately. (iteration=188)\n",
      " /home/finley/miniconda3/envs/testsuite/lib/python3.8/site-packages/cma/utilities/utils.py:329: UserWarning:flat fitness (f=-0.560119, sigma=1.03e-04).\n",
      "                    For small sigma, this could indicate numerical convergence.\n",
      "                    Otherwise, please (re)consider how to compute the fitness more elaborately. (iteration=189)\n",
      " /home/finley/miniconda3/envs/testsuite/lib/python3.8/site-packages/cma/utilities/utils.py:329: UserWarning:flat fitness (f=-0.560119, sigma=8.71e-05).\n",
      "                    For small sigma, this could indicate numerical convergence.\n",
      "                    Otherwise, please (re)consider how to compute the fitness more elaborately. (iteration=190)\n",
      " /home/finley/miniconda3/envs/testsuite/lib/python3.8/site-packages/cma/utilities/utils.py:329: UserWarning:flat fitness (f=-0.560119, sigma=8.86e-05).\n",
      "                    For small sigma, this could indicate numerical convergence.\n",
      "                    Otherwise, please (re)consider how to compute the fitness more elaborately. (iteration=191)\n",
      " /home/finley/miniconda3/envs/testsuite/lib/python3.8/site-packages/cma/utilities/utils.py:329: UserWarning:flat fitness (f=-0.560119, sigma=7.76e-05).\n",
      "                    For small sigma, this could indicate numerical convergence.\n",
      "                    Otherwise, please (re)consider how to compute the fitness more elaborately. (iteration=192)\n"
     ]
    },
    {
     "name": "stdout",
     "output_type": "stream",
     "text": [
      "  193   1544 -5.601192316787729e-01 1.6e+03 7.59e-05  1e-08  2e-05 1:15.3\n"
     ]
    },
    {
     "name": "stderr",
     "output_type": "stream",
     "text": [
      " /home/finley/miniconda3/envs/testsuite/lib/python3.8/site-packages/cma/utilities/utils.py:329: UserWarning:flat fitness (f=-0.560119, sigma=7.59e-05).\n",
      "                    For small sigma, this could indicate numerical convergence.\n",
      "                    Otherwise, please (re)consider how to compute the fitness more elaborately. (iteration=193)\n",
      " /home/finley/miniconda3/envs/testsuite/lib/python3.8/site-packages/cma/utilities/utils.py:329: UserWarning:flat fitness (f=-0.560119, sigma=7.59e-05).\n",
      "                    For small sigma, this could indicate numerical convergence.\n",
      "                    Otherwise, please (re)consider how to compute the fitness more elaborately. (iteration=193)\n"
     ]
    },
    {
     "name": "stdout",
     "output_type": "stream",
     "text": [
      "termination on tolfun=1e-11 (Wed Mar 10 18:44:03 2021)\n",
      "termination on tolfunhist=1e-12 (Wed Mar 10 18:44:03 2021)\n",
      "termination on flat fitness=please (re)consider how to compute the fitness more elaborately if sigma=7.59e-05 is large (Wed Mar 10 18:44:03 2021)\n",
      "final/bestever f-value = -5.601192e-01 -5.601192e-01\n",
      "incumbent solution: [0.2538040420091965, 2.7720747036316924, 4.1783555758137, 1.5270089189610099, 6.7530874362123665]\n",
      "std deviation: [1.4724102112038366e-08, 1.245674026938659e-05, 1.1118385516788315e-05, 5.725532467696816e-07, 1.8565360675015454e-05]\n",
      "(4_w,8)-aCMA-ES (mu_w=2.6,w_1=52%) in dimension 5 (seed=447648, Wed Mar 10 18:44:04 2021)\n",
      "Iterat #Fevals   function value  axis ratio  sigma  min&max std  t[m:s]\n",
      "    1      8 -5.123320889364935e-01 1.0e+00 2.43e-01  2e-01  2e-01 0:00.3\n",
      "    2     16 -5.168293373936842e-01 1.2e+00 3.19e-01  3e-01  4e-01 0:00.6\n",
      "    3     24 -5.211985667316867e-01 1.6e+00 4.01e-01  4e-01  4e-01 0:00.9\n",
      "   12     96 -5.313351512370896e-01 2.3e+00 8.77e-01  4e-01  1e+00 0:04.1\n",
      "   21    168 -5.377732568181802e-01 4.6e+00 7.88e-01  3e-01  1e+00 0:08.3\n",
      "   42    336 -5.483021346321543e-01 5.1e+00 3.01e-01  7e-02  2e-01 0:13.6\n",
      "   57    456 -5.521192670248314e-01 3.4e+00 1.60e-01  3e-02  7e-02 0:19.9\n",
      "   75    600 -5.579099771805409e-01 4.2e+00 4.87e-02  5e-03  2e-02 0:27.1\n",
      "   99    792 -5.590372911717130e-01 1.2e+01 2.92e-02  1e-03  1e-02 0:35.2\n",
      "  100    800 -5.582061759180759e-01 1.1e+01 3.42e-02  1e-03  1e-02 0:35.5\n",
      "  128   1024 -5.600742103984722e-01 3.0e+01 9.30e-03  1e-04  3e-03 0:45.8\n",
      "  151   1208 -5.607262566524998e-01 1.5e+02 4.21e-03  1e-05  2e-03 0:57.4\n"
     ]
    },
    {
     "name": "stderr",
     "output_type": "stream",
     "text": [
      "ERROR:root:Internal Python error in the inspect module.\n",
      "Below is the traceback from this internal error.\n",
      "\n"
     ]
    },
    {
     "name": "stdout",
     "output_type": "stream",
     "text": [
      "Traceback (most recent call last):\n",
      "  File \"/home/finley/miniconda3/envs/testsuite/lib/python3.8/site-packages/IPython/core/interactiveshell.py\", line 3417, in run_code\n",
      "    exec(code_obj, self.user_global_ns, self.user_ns)\n",
      "  File \"<ipython-input-51-49f3d71584d3>\", line 1, in <module>\n",
      "    opt.optimise(25)\n",
      "  File \"/home/finley/phd/code/testsuite/testsuite/optimisers.py\", line 112, in optimise\n",
      "    self.step()\n",
      "  File \"/home/finley/phd/code/testsuite/testsuite/optimisers.py\", line 27, in wrapper\n",
      "    return_value = f(self, *args, **kwargs)\n",
      "  File \"/home/finley/phd/code/testsuite/testsuite/optimisers.py\", line 123, in step\n",
      "    x_new = self.get_next_x()\n",
      "  File \"/home/finley/phd/code/testsuite/testsuite/optimisers.py\", line 498, in get_next_x\n",
      "    res = cma.fmin(self.alpha, seed,\n",
      "  File \"/home/finley/miniconda3/envs/testsuite/lib/python3.8/site-packages/cma/evolution_strategy.py\", line 4149, in fmin\n",
      "    X, fit = es.ask_and_eval(parallel_objective or objective_function,\n",
      "  File \"/home/finley/miniconda3/envs/testsuite/lib/python3.8/site-packages/cma/evolution_strategy.py\", line 2282, in ask_and_eval\n",
      "    f = func(x, *args) if kappa == 1 else \\\n",
      "  File \"/home/finley/phd/code/testsuite/testsuite/optimisers.py\", line 611, in alpha\n",
      "    y_put, var_put = self.surrogate.predict(x_put)\n",
      "  File \"/home/finley/phd/code/testsuite/testsuite/surrogates.py\", line 253, in predict\n",
      "    predictions = np.array([surrogate.predict(xi) for surrogate in\n",
      "  File \"/home/finley/phd/code/testsuite/testsuite/surrogates.py\", line 253, in <listcomp>\n",
      "    predictions = np.array([surrogate.predict(xi) for surrogate in\n",
      "  File \"/home/finley/phd/code/testsuite/testsuite/surrogates.py\", line 78, in predict\n",
      "    mean, var = self.model.predict(xi)\n",
      "  File \"/home/finley/miniconda3/envs/testsuite/lib/python3.8/site-packages/sklearn/ensemble/_forest.py\", line 796, in predict\n",
      "    Parallel(n_jobs=n_jobs, verbose=self.verbose,\n",
      "  File \"/home/finley/miniconda3/envs/testsuite/lib/python3.8/site-packages/joblib/parallel.py\", line 1032, in __call__\n",
      "    while self.dispatch_one_batch(iterator):\n",
      "  File \"/home/finley/miniconda3/envs/testsuite/lib/python3.8/site-packages/joblib/parallel.py\", line 847, in dispatch_one_batch\n",
      "    self._dispatch(tasks)\n",
      "  File \"/home/finley/miniconda3/envs/testsuite/lib/python3.8/site-packages/joblib/parallel.py\", line 765, in _dispatch\n",
      "    job = self._backend.apply_async(batch, callback=cb)\n",
      "  File \"/home/finley/miniconda3/envs/testsuite/lib/python3.8/site-packages/joblib/_parallel_backends.py\", line 206, in apply_async\n",
      "    result = ImmediateResult(func)\n",
      "  File \"/home/finley/miniconda3/envs/testsuite/lib/python3.8/site-packages/joblib/_parallel_backends.py\", line 570, in __init__\n",
      "    self.results = batch()\n",
      "  File \"/home/finley/miniconda3/envs/testsuite/lib/python3.8/site-packages/joblib/parallel.py\", line 252, in __call__\n",
      "    return [func(*args, **kwargs)\n",
      "  File \"/home/finley/miniconda3/envs/testsuite/lib/python3.8/site-packages/joblib/parallel.py\", line 252, in <listcomp>\n",
      "    return [func(*args, **kwargs)\n",
      "  File \"/home/finley/miniconda3/envs/testsuite/lib/python3.8/site-packages/sklearn/ensemble/_forest.py\", line 469, in _accumulate_prediction\n",
      "    out[0] += prediction\n",
      "KeyboardInterrupt\n",
      "\n",
      "During handling of the above exception, another exception occurred:\n",
      "\n",
      "Traceback (most recent call last):\n",
      "  File \"/home/finley/miniconda3/envs/testsuite/lib/python3.8/site-packages/IPython/core/interactiveshell.py\", line 2044, in showtraceback\n",
      "    stb = value._render_traceback_()\n",
      "AttributeError: 'KeyboardInterrupt' object has no attribute '_render_traceback_'\n",
      "\n",
      "During handling of the above exception, another exception occurred:\n",
      "\n",
      "Traceback (most recent call last):\n",
      "  File \"/home/finley/miniconda3/envs/testsuite/lib/python3.8/site-packages/IPython/core/ultratb.py\", line 1169, in get_records\n",
      "    return _fixed_getinnerframes(etb, number_of_lines_of_context, tb_offset)\n",
      "  File \"/home/finley/miniconda3/envs/testsuite/lib/python3.8/site-packages/IPython/core/ultratb.py\", line 316, in wrapped\n",
      "    return f(*args, **kwargs)\n",
      "  File \"/home/finley/miniconda3/envs/testsuite/lib/python3.8/site-packages/IPython/core/ultratb.py\", line 350, in _fixed_getinnerframes\n",
      "    records = fix_frame_records_filenames(inspect.getinnerframes(etb, context))\n",
      "  File \"/home/finley/miniconda3/envs/testsuite/lib/python3.8/inspect.py\", line 1503, in getinnerframes\n",
      "    frameinfo = (tb.tb_frame,) + getframeinfo(tb, context)\n",
      "  File \"/home/finley/miniconda3/envs/testsuite/lib/python3.8/inspect.py\", line 1461, in getframeinfo\n",
      "    filename = getsourcefile(frame) or getfile(frame)\n",
      "  File \"/home/finley/miniconda3/envs/testsuite/lib/python3.8/inspect.py\", line 708, in getsourcefile\n",
      "    if getattr(getmodule(object, filename), '__loader__', None) is not None:\n",
      "  File \"/home/finley/miniconda3/envs/testsuite/lib/python3.8/inspect.py\", line 751, in getmodule\n",
      "    f = getabsfile(module)\n",
      "  File \"/home/finley/miniconda3/envs/testsuite/lib/python3.8/inspect.py\", line 720, in getabsfile\n",
      "    _filename = getsourcefile(object) or getfile(object)\n",
      "  File \"/home/finley/miniconda3/envs/testsuite/lib/python3.8/inspect.py\", line 705, in getsourcefile\n",
      "    if os.path.exists(filename):\n",
      "  File \"/home/finley/miniconda3/envs/testsuite/lib/python3.8/genericpath.py\", line 19, in exists\n",
      "    os.stat(path)\n",
      "KeyboardInterrupt\n"
     ]
    },
    {
     "ename": "TypeError",
     "evalue": "object of type 'NoneType' has no len()",
     "output_type": "error",
     "traceback": [
      "\u001b[0;31m---------------------------------------------------------------------------\u001b[0m",
      "\u001b[0;31mKeyboardInterrupt\u001b[0m                         Traceback (most recent call last)",
      "    \u001b[0;31m[... skipping hidden 1 frame]\u001b[0m\n",
      "\u001b[0;32m<ipython-input-51-49f3d71584d3>\u001b[0m in \u001b[0;36m<module>\u001b[0;34m\u001b[0m\n\u001b[0;32m----> 1\u001b[0;31m \u001b[0mopt\u001b[0m\u001b[0;34m.\u001b[0m\u001b[0moptimise\u001b[0m\u001b[0;34m(\u001b[0m\u001b[0;36m25\u001b[0m\u001b[0;34m)\u001b[0m\u001b[0;34m\u001b[0m\u001b[0;34m\u001b[0m\u001b[0m\n\u001b[0m",
      "\u001b[0;32m~/phd/code/testsuite/testsuite/optimisers.py\u001b[0m in \u001b[0;36moptimise\u001b[0;34m(self, n_steps)\u001b[0m\n\u001b[1;32m    111\u001b[0m         \u001b[0;32mfor\u001b[0m \u001b[0mi\u001b[0m \u001b[0;32min\u001b[0m \u001b[0mrange\u001b[0m\u001b[0;34m(\u001b[0m\u001b[0mn_steps\u001b[0m\u001b[0;34m)\u001b[0m\u001b[0;34m:\u001b[0m\u001b[0;34m\u001b[0m\u001b[0;34m\u001b[0m\u001b[0m\n\u001b[0;32m--> 112\u001b[0;31m             \u001b[0mself\u001b[0m\u001b[0;34m.\u001b[0m\u001b[0mstep\u001b[0m\u001b[0;34m(\u001b[0m\u001b[0;34m)\u001b[0m\u001b[0;34m\u001b[0m\u001b[0;34m\u001b[0m\u001b[0m\n\u001b[0m\u001b[1;32m    113\u001b[0m \u001b[0;34m\u001b[0m\u001b[0m\n",
      "\u001b[0;32m~/phd/code/testsuite/testsuite/optimisers.py\u001b[0m in \u001b[0;36mwrapper\u001b[0;34m(self, *args, **kwargs)\u001b[0m\n\u001b[1;32m     26\u001b[0m         \u001b[0mself\u001b[0m\u001b[0;34m.\u001b[0m\u001b[0mn_evaluations\u001b[0m \u001b[0;34m+=\u001b[0m \u001b[0;36m1\u001b[0m\u001b[0;34m\u001b[0m\u001b[0;34m\u001b[0m\u001b[0m\n\u001b[0;32m---> 27\u001b[0;31m         \u001b[0mreturn_value\u001b[0m \u001b[0;34m=\u001b[0m \u001b[0mf\u001b[0m\u001b[0;34m(\u001b[0m\u001b[0mself\u001b[0m\u001b[0;34m,\u001b[0m \u001b[0;34m*\u001b[0m\u001b[0margs\u001b[0m\u001b[0;34m,\u001b[0m \u001b[0;34m**\u001b[0m\u001b[0mkwargs\u001b[0m\u001b[0;34m)\u001b[0m\u001b[0;34m\u001b[0m\u001b[0;34m\u001b[0m\u001b[0m\n\u001b[0m\u001b[1;32m     28\u001b[0m         \u001b[0;32mif\u001b[0m \u001b[0mself\u001b[0m\u001b[0;34m.\u001b[0m\u001b[0mn_evaluations\u001b[0m\u001b[0;34m%\u001b[0m\u001b[0mself\u001b[0m\u001b[0;34m.\u001b[0m\u001b[0mlog_interval\u001b[0m \u001b[0;34m==\u001b[0m \u001b[0;36m0\u001b[0m\u001b[0;31m \u001b[0m\u001b[0;31m\\\u001b[0m\u001b[0;34m\u001b[0m\u001b[0;34m\u001b[0m\u001b[0m\n",
      "\u001b[0;32m~/phd/code/testsuite/testsuite/optimisers.py\u001b[0m in \u001b[0;36mstep\u001b[0;34m(self)\u001b[0m\n\u001b[1;32m    122\u001b[0m         \u001b[0;31m# ensures unique evaluation\u001b[0m\u001b[0;34m\u001b[0m\u001b[0;34m\u001b[0m\u001b[0;34m\u001b[0m\u001b[0m\n\u001b[0;32m--> 123\u001b[0;31m         \u001b[0mx_new\u001b[0m \u001b[0;34m=\u001b[0m \u001b[0mself\u001b[0m\u001b[0;34m.\u001b[0m\u001b[0mget_next_x\u001b[0m\u001b[0;34m(\u001b[0m\u001b[0;34m)\u001b[0m\u001b[0;34m\u001b[0m\u001b[0;34m\u001b[0m\u001b[0m\n\u001b[0m\u001b[1;32m    124\u001b[0m \u001b[0;34m\u001b[0m\u001b[0m\n",
      "\u001b[0;32m~/phd/code/testsuite/testsuite/optimisers.py\u001b[0m in \u001b[0;36mget_next_x\u001b[0;34m(self, excluded_indices)\u001b[0m\n\u001b[1;32m    497\u001b[0m                                      self.surrogate.x_dims)\n\u001b[0;32m--> 498\u001b[0;31m             res = cma.fmin(self.alpha, seed,\n\u001b[0m\u001b[1;32m    499\u001b[0m                            \u001b[0msigma0\u001b[0m\u001b[0;34m=\u001b[0m\u001b[0;36m0.25\u001b[0m\u001b[0;34m,\u001b[0m\u001b[0;34m\u001b[0m\u001b[0;34m\u001b[0m\u001b[0m\n",
      "\u001b[0;32m~/miniconda3/envs/testsuite/lib/python3.8/site-packages/cma/evolution_strategy.py\u001b[0m in \u001b[0;36mfmin\u001b[0;34m(objective_function, x0, sigma0, options, args, gradf, restarts, restart_from_best, incpopsize, eval_initial_x, parallel_objective, noise_handler, noise_change_sigma_exponent, noise_kappa_exponent, bipop, callback)\u001b[0m\n\u001b[1;32m   4148\u001b[0m                     \u001b[0;31m# X, fit = eval_in_parallel(lambda: es.ask(1)[0], es.popsize, args, repetitions=noisehandler.evaluations-1)\u001b[0m\u001b[0;34m\u001b[0m\u001b[0;34m\u001b[0m\u001b[0;34m\u001b[0m\u001b[0m\n\u001b[0;32m-> 4149\u001b[0;31m                     X, fit = es.ask_and_eval(parallel_objective or objective_function,\n\u001b[0m\u001b[1;32m   4150\u001b[0m                                              \u001b[0margs\u001b[0m\u001b[0;34m,\u001b[0m \u001b[0mgradf\u001b[0m\u001b[0;34m=\u001b[0m\u001b[0mgradf\u001b[0m\u001b[0;34m,\u001b[0m\u001b[0;34m\u001b[0m\u001b[0;34m\u001b[0m\u001b[0m\n",
      "\u001b[0;32m~/miniconda3/envs/testsuite/lib/python3.8/site-packages/cma/evolution_strategy.py\u001b[0m in \u001b[0;36mask_and_eval\u001b[0;34m(self, func, args, gradf, number, xmean, sigma_fac, evaluations, aggregation, kappa, parallel_mode)\u001b[0m\n\u001b[1;32m   2281\u001b[0m \u001b[0;34m\u001b[0m\u001b[0m\n\u001b[0;32m-> 2282\u001b[0;31m                 \u001b[0mf\u001b[0m \u001b[0;34m=\u001b[0m \u001b[0mfunc\u001b[0m\u001b[0;34m(\u001b[0m\u001b[0mx\u001b[0m\u001b[0;34m,\u001b[0m \u001b[0;34m*\u001b[0m\u001b[0margs\u001b[0m\u001b[0;34m)\u001b[0m \u001b[0;32mif\u001b[0m \u001b[0mkappa\u001b[0m \u001b[0;34m==\u001b[0m \u001b[0;36m1\u001b[0m \u001b[0;32melse\u001b[0m\u001b[0;31m \u001b[0m\u001b[0;31m\\\u001b[0m\u001b[0;34m\u001b[0m\u001b[0;34m\u001b[0m\u001b[0m\n\u001b[0m\u001b[1;32m   2283\u001b[0m                     func(xmean + kappa * length_normalizer * (x - xmean),\n",
      "\u001b[0;32m~/phd/code/testsuite/testsuite/optimisers.py\u001b[0m in \u001b[0;36malpha\u001b[0;34m(self, x_put)\u001b[0m\n\u001b[1;32m    610\u001b[0m     \u001b[0;32mdef\u001b[0m \u001b[0malpha\u001b[0m\u001b[0;34m(\u001b[0m\u001b[0mself\u001b[0m\u001b[0;34m,\u001b[0m \u001b[0mx_put\u001b[0m\u001b[0;34m)\u001b[0m\u001b[0;34m:\u001b[0m\u001b[0;34m\u001b[0m\u001b[0;34m\u001b[0m\u001b[0m\n\u001b[0;32m--> 611\u001b[0;31m             \u001b[0my_put\u001b[0m\u001b[0;34m,\u001b[0m \u001b[0mvar_put\u001b[0m \u001b[0;34m=\u001b[0m \u001b[0mself\u001b[0m\u001b[0;34m.\u001b[0m\u001b[0msurrogate\u001b[0m\u001b[0;34m.\u001b[0m\u001b[0mpredict\u001b[0m\u001b[0;34m(\u001b[0m\u001b[0mx_put\u001b[0m\u001b[0;34m)\u001b[0m\u001b[0;34m\u001b[0m\u001b[0;34m\u001b[0m\u001b[0m\n\u001b[0m\u001b[1;32m    612\u001b[0m             \u001b[0mefficacy_put\u001b[0m \u001b[0;34m=\u001b[0m \u001b[0mself\u001b[0m\u001b[0;34m.\u001b[0m\u001b[0m_scalarise_y\u001b[0m\u001b[0;34m(\u001b[0m\u001b[0my_put\u001b[0m\u001b[0;34m,\u001b[0m \u001b[0mvar_put\u001b[0m\u001b[0;34m**\u001b[0m\u001b[0;36m0.5\u001b[0m\u001b[0;34m,\u001b[0m \u001b[0minvert\u001b[0m\u001b[0;34m=\u001b[0m\u001b[0;32mTrue\u001b[0m\u001b[0;34m)\u001b[0m\u001b[0;34m\u001b[0m\u001b[0;34m\u001b[0m\u001b[0m\n",
      "\u001b[0;32m~/phd/code/testsuite/testsuite/surrogates.py\u001b[0m in \u001b[0;36mpredict\u001b[0;34m(self, xi)\u001b[0m\n\u001b[1;32m    252\u001b[0m     \u001b[0;32mdef\u001b[0m \u001b[0mpredict\u001b[0m\u001b[0;34m(\u001b[0m\u001b[0mself\u001b[0m\u001b[0;34m,\u001b[0m \u001b[0mxi\u001b[0m\u001b[0;34m)\u001b[0m\u001b[0;34m:\u001b[0m\u001b[0;34m\u001b[0m\u001b[0;34m\u001b[0m\u001b[0m\n\u001b[0;32m--> 253\u001b[0;31m         predictions = np.array([surrogate.predict(xi) for surrogate in\n\u001b[0m\u001b[1;32m    254\u001b[0m                                 self.mono_surrogates]).squeeze(-1).swapaxes(1, 2).T\n",
      "\u001b[0;32m~/phd/code/testsuite/testsuite/surrogates.py\u001b[0m in \u001b[0;36m<listcomp>\u001b[0;34m(.0)\u001b[0m\n\u001b[1;32m    252\u001b[0m     \u001b[0;32mdef\u001b[0m \u001b[0mpredict\u001b[0m\u001b[0;34m(\u001b[0m\u001b[0mself\u001b[0m\u001b[0;34m,\u001b[0m \u001b[0mxi\u001b[0m\u001b[0;34m)\u001b[0m\u001b[0;34m:\u001b[0m\u001b[0;34m\u001b[0m\u001b[0;34m\u001b[0m\u001b[0m\n\u001b[0;32m--> 253\u001b[0;31m         predictions = np.array([surrogate.predict(xi) for surrogate in\n\u001b[0m\u001b[1;32m    254\u001b[0m                                 self.mono_surrogates]).squeeze(-1).swapaxes(1, 2).T\n",
      "\u001b[0;32m~/phd/code/testsuite/testsuite/surrogates.py\u001b[0m in \u001b[0;36mpredict\u001b[0;34m(self, xi)\u001b[0m\n\u001b[1;32m     77\u001b[0m         \u001b[0;32mtry\u001b[0m\u001b[0;34m:\u001b[0m\u001b[0;34m\u001b[0m\u001b[0;34m\u001b[0m\u001b[0m\n\u001b[0;32m---> 78\u001b[0;31m             \u001b[0mmean\u001b[0m\u001b[0;34m,\u001b[0m \u001b[0mvar\u001b[0m \u001b[0;34m=\u001b[0m \u001b[0mself\u001b[0m\u001b[0;34m.\u001b[0m\u001b[0mmodel\u001b[0m\u001b[0;34m.\u001b[0m\u001b[0mpredict\u001b[0m\u001b[0;34m(\u001b[0m\u001b[0mxi\u001b[0m\u001b[0;34m)\u001b[0m\u001b[0;34m\u001b[0m\u001b[0;34m\u001b[0m\u001b[0m\n\u001b[0m\u001b[1;32m     79\u001b[0m         \u001b[0;32mexcept\u001b[0m \u001b[0mValueError\u001b[0m\u001b[0;34m:\u001b[0m\u001b[0;34m\u001b[0m\u001b[0;34m\u001b[0m\u001b[0m\n",
      "\u001b[0;32m~/miniconda3/envs/testsuite/lib/python3.8/site-packages/sklearn/ensemble/_forest.py\u001b[0m in \u001b[0;36mpredict\u001b[0;34m(self, X)\u001b[0m\n\u001b[1;32m    795\u001b[0m         \u001b[0mlock\u001b[0m \u001b[0;34m=\u001b[0m \u001b[0mthreading\u001b[0m\u001b[0;34m.\u001b[0m\u001b[0mLock\u001b[0m\u001b[0;34m(\u001b[0m\u001b[0;34m)\u001b[0m\u001b[0;34m\u001b[0m\u001b[0;34m\u001b[0m\u001b[0m\n\u001b[0;32m--> 796\u001b[0;31m         Parallel(n_jobs=n_jobs, verbose=self.verbose,\n\u001b[0m\u001b[1;32m    797\u001b[0m                  \u001b[0;34m**\u001b[0m\u001b[0m_joblib_parallel_args\u001b[0m\u001b[0;34m(\u001b[0m\u001b[0mrequire\u001b[0m\u001b[0;34m=\u001b[0m\u001b[0;34m\"sharedmem\"\u001b[0m\u001b[0;34m)\u001b[0m\u001b[0;34m)\u001b[0m\u001b[0;34m(\u001b[0m\u001b[0;34m\u001b[0m\u001b[0;34m\u001b[0m\u001b[0m\n",
      "\u001b[0;32m~/miniconda3/envs/testsuite/lib/python3.8/site-packages/joblib/parallel.py\u001b[0m in \u001b[0;36m__call__\u001b[0;34m(self, iterable)\u001b[0m\n\u001b[1;32m   1031\u001b[0m \u001b[0;34m\u001b[0m\u001b[0m\n\u001b[0;32m-> 1032\u001b[0;31m             \u001b[0;32mwhile\u001b[0m \u001b[0mself\u001b[0m\u001b[0;34m.\u001b[0m\u001b[0mdispatch_one_batch\u001b[0m\u001b[0;34m(\u001b[0m\u001b[0miterator\u001b[0m\u001b[0;34m)\u001b[0m\u001b[0;34m:\u001b[0m\u001b[0;34m\u001b[0m\u001b[0;34m\u001b[0m\u001b[0m\n\u001b[0m\u001b[1;32m   1033\u001b[0m                 \u001b[0;32mpass\u001b[0m\u001b[0;34m\u001b[0m\u001b[0;34m\u001b[0m\u001b[0m\n",
      "\u001b[0;32m~/miniconda3/envs/testsuite/lib/python3.8/site-packages/joblib/parallel.py\u001b[0m in \u001b[0;36mdispatch_one_batch\u001b[0;34m(self, iterator)\u001b[0m\n\u001b[1;32m    846\u001b[0m             \u001b[0;32melse\u001b[0m\u001b[0;34m:\u001b[0m\u001b[0;34m\u001b[0m\u001b[0;34m\u001b[0m\u001b[0m\n\u001b[0;32m--> 847\u001b[0;31m                 \u001b[0mself\u001b[0m\u001b[0;34m.\u001b[0m\u001b[0m_dispatch\u001b[0m\u001b[0;34m(\u001b[0m\u001b[0mtasks\u001b[0m\u001b[0;34m)\u001b[0m\u001b[0;34m\u001b[0m\u001b[0;34m\u001b[0m\u001b[0m\n\u001b[0m\u001b[1;32m    848\u001b[0m                 \u001b[0;32mreturn\u001b[0m \u001b[0;32mTrue\u001b[0m\u001b[0;34m\u001b[0m\u001b[0;34m\u001b[0m\u001b[0m\n",
      "\u001b[0;32m~/miniconda3/envs/testsuite/lib/python3.8/site-packages/joblib/parallel.py\u001b[0m in \u001b[0;36m_dispatch\u001b[0;34m(self, batch)\u001b[0m\n\u001b[1;32m    764\u001b[0m             \u001b[0mjob_idx\u001b[0m \u001b[0;34m=\u001b[0m \u001b[0mlen\u001b[0m\u001b[0;34m(\u001b[0m\u001b[0mself\u001b[0m\u001b[0;34m.\u001b[0m\u001b[0m_jobs\u001b[0m\u001b[0;34m)\u001b[0m\u001b[0;34m\u001b[0m\u001b[0;34m\u001b[0m\u001b[0m\n\u001b[0;32m--> 765\u001b[0;31m             \u001b[0mjob\u001b[0m \u001b[0;34m=\u001b[0m \u001b[0mself\u001b[0m\u001b[0;34m.\u001b[0m\u001b[0m_backend\u001b[0m\u001b[0;34m.\u001b[0m\u001b[0mapply_async\u001b[0m\u001b[0;34m(\u001b[0m\u001b[0mbatch\u001b[0m\u001b[0;34m,\u001b[0m \u001b[0mcallback\u001b[0m\u001b[0;34m=\u001b[0m\u001b[0mcb\u001b[0m\u001b[0;34m)\u001b[0m\u001b[0;34m\u001b[0m\u001b[0;34m\u001b[0m\u001b[0m\n\u001b[0m\u001b[1;32m    766\u001b[0m             \u001b[0;31m# A job can complete so quickly than its callback is\u001b[0m\u001b[0;34m\u001b[0m\u001b[0;34m\u001b[0m\u001b[0;34m\u001b[0m\u001b[0m\n",
      "\u001b[0;32m~/miniconda3/envs/testsuite/lib/python3.8/site-packages/joblib/_parallel_backends.py\u001b[0m in \u001b[0;36mapply_async\u001b[0;34m(self, func, callback)\u001b[0m\n\u001b[1;32m    205\u001b[0m         \u001b[0;34m\"\"\"Schedule a func to be run\"\"\"\u001b[0m\u001b[0;34m\u001b[0m\u001b[0;34m\u001b[0m\u001b[0m\n\u001b[0;32m--> 206\u001b[0;31m         \u001b[0mresult\u001b[0m \u001b[0;34m=\u001b[0m \u001b[0mImmediateResult\u001b[0m\u001b[0;34m(\u001b[0m\u001b[0mfunc\u001b[0m\u001b[0;34m)\u001b[0m\u001b[0;34m\u001b[0m\u001b[0;34m\u001b[0m\u001b[0m\n\u001b[0m\u001b[1;32m    207\u001b[0m         \u001b[0;32mif\u001b[0m \u001b[0mcallback\u001b[0m\u001b[0;34m:\u001b[0m\u001b[0;34m\u001b[0m\u001b[0;34m\u001b[0m\u001b[0m\n",
      "\u001b[0;32m~/miniconda3/envs/testsuite/lib/python3.8/site-packages/joblib/_parallel_backends.py\u001b[0m in \u001b[0;36m__init__\u001b[0;34m(self, batch)\u001b[0m\n\u001b[1;32m    569\u001b[0m         \u001b[0;31m# arguments in memory\u001b[0m\u001b[0;34m\u001b[0m\u001b[0;34m\u001b[0m\u001b[0;34m\u001b[0m\u001b[0m\n\u001b[0;32m--> 570\u001b[0;31m         \u001b[0mself\u001b[0m\u001b[0;34m.\u001b[0m\u001b[0mresults\u001b[0m \u001b[0;34m=\u001b[0m \u001b[0mbatch\u001b[0m\u001b[0;34m(\u001b[0m\u001b[0;34m)\u001b[0m\u001b[0;34m\u001b[0m\u001b[0;34m\u001b[0m\u001b[0m\n\u001b[0m\u001b[1;32m    571\u001b[0m \u001b[0;34m\u001b[0m\u001b[0m\n",
      "\u001b[0;32m~/miniconda3/envs/testsuite/lib/python3.8/site-packages/joblib/parallel.py\u001b[0m in \u001b[0;36m__call__\u001b[0;34m(self)\u001b[0m\n\u001b[1;32m    251\u001b[0m         \u001b[0;32mwith\u001b[0m \u001b[0mparallel_backend\u001b[0m\u001b[0;34m(\u001b[0m\u001b[0mself\u001b[0m\u001b[0;34m.\u001b[0m\u001b[0m_backend\u001b[0m\u001b[0;34m,\u001b[0m \u001b[0mn_jobs\u001b[0m\u001b[0;34m=\u001b[0m\u001b[0mself\u001b[0m\u001b[0;34m.\u001b[0m\u001b[0m_n_jobs\u001b[0m\u001b[0;34m)\u001b[0m\u001b[0;34m:\u001b[0m\u001b[0;34m\u001b[0m\u001b[0;34m\u001b[0m\u001b[0m\n\u001b[0;32m--> 252\u001b[0;31m             return [func(*args, **kwargs)\n\u001b[0m\u001b[1;32m    253\u001b[0m                     for func, args, kwargs in self.items]\n",
      "\u001b[0;32m~/miniconda3/envs/testsuite/lib/python3.8/site-packages/joblib/parallel.py\u001b[0m in \u001b[0;36m<listcomp>\u001b[0;34m(.0)\u001b[0m\n\u001b[1;32m    251\u001b[0m         \u001b[0;32mwith\u001b[0m \u001b[0mparallel_backend\u001b[0m\u001b[0;34m(\u001b[0m\u001b[0mself\u001b[0m\u001b[0;34m.\u001b[0m\u001b[0m_backend\u001b[0m\u001b[0;34m,\u001b[0m \u001b[0mn_jobs\u001b[0m\u001b[0;34m=\u001b[0m\u001b[0mself\u001b[0m\u001b[0;34m.\u001b[0m\u001b[0m_n_jobs\u001b[0m\u001b[0;34m)\u001b[0m\u001b[0;34m:\u001b[0m\u001b[0;34m\u001b[0m\u001b[0;34m\u001b[0m\u001b[0m\n\u001b[0;32m--> 252\u001b[0;31m             return [func(*args, **kwargs)\n\u001b[0m\u001b[1;32m    253\u001b[0m                     for func, args, kwargs in self.items]\n",
      "\u001b[0;32m~/miniconda3/envs/testsuite/lib/python3.8/site-packages/sklearn/ensemble/_forest.py\u001b[0m in \u001b[0;36m_accumulate_prediction\u001b[0;34m(predict, X, out, lock)\u001b[0m\n\u001b[1;32m    468\u001b[0m         \u001b[0;32mif\u001b[0m \u001b[0mlen\u001b[0m\u001b[0;34m(\u001b[0m\u001b[0mout\u001b[0m\u001b[0;34m)\u001b[0m \u001b[0;34m==\u001b[0m \u001b[0;36m1\u001b[0m\u001b[0;34m:\u001b[0m\u001b[0;34m\u001b[0m\u001b[0;34m\u001b[0m\u001b[0m\n\u001b[0;32m--> 469\u001b[0;31m             \u001b[0mout\u001b[0m\u001b[0;34m[\u001b[0m\u001b[0;36m0\u001b[0m\u001b[0;34m]\u001b[0m \u001b[0;34m+=\u001b[0m \u001b[0mprediction\u001b[0m\u001b[0;34m\u001b[0m\u001b[0;34m\u001b[0m\u001b[0m\n\u001b[0m\u001b[1;32m    470\u001b[0m         \u001b[0;32melse\u001b[0m\u001b[0;34m:\u001b[0m\u001b[0;34m\u001b[0m\u001b[0;34m\u001b[0m\u001b[0m\n",
      "\u001b[0;31mKeyboardInterrupt\u001b[0m: ",
      "\nDuring handling of the above exception, another exception occurred:\n",
      "\u001b[0;31mAttributeError\u001b[0m                            Traceback (most recent call last)",
      "\u001b[0;32m~/miniconda3/envs/testsuite/lib/python3.8/site-packages/IPython/core/interactiveshell.py\u001b[0m in \u001b[0;36mshowtraceback\u001b[0;34m(self, exc_tuple, filename, tb_offset, exception_only, running_compiled_code)\u001b[0m\n\u001b[1;32m   2043\u001b[0m                         \u001b[0;31m# in the engines. This should return a list of strings.\u001b[0m\u001b[0;34m\u001b[0m\u001b[0;34m\u001b[0m\u001b[0;34m\u001b[0m\u001b[0m\n\u001b[0;32m-> 2044\u001b[0;31m                         \u001b[0mstb\u001b[0m \u001b[0;34m=\u001b[0m \u001b[0mvalue\u001b[0m\u001b[0;34m.\u001b[0m\u001b[0m_render_traceback_\u001b[0m\u001b[0;34m(\u001b[0m\u001b[0;34m)\u001b[0m\u001b[0;34m\u001b[0m\u001b[0;34m\u001b[0m\u001b[0m\n\u001b[0m\u001b[1;32m   2045\u001b[0m                     \u001b[0;32mexcept\u001b[0m \u001b[0mException\u001b[0m\u001b[0;34m:\u001b[0m\u001b[0;34m\u001b[0m\u001b[0;34m\u001b[0m\u001b[0m\n",
      "\u001b[0;31mAttributeError\u001b[0m: 'KeyboardInterrupt' object has no attribute '_render_traceback_'",
      "\nDuring handling of the above exception, another exception occurred:\n",
      "\u001b[0;31mTypeError\u001b[0m                                 Traceback (most recent call last)",
      "    \u001b[0;31m[... skipping hidden 1 frame]\u001b[0m\n",
      "\u001b[0;32m~/miniconda3/envs/testsuite/lib/python3.8/site-packages/IPython/core/interactiveshell.py\u001b[0m in \u001b[0;36mshowtraceback\u001b[0;34m(self, exc_tuple, filename, tb_offset, exception_only, running_compiled_code)\u001b[0m\n\u001b[1;32m   2044\u001b[0m                         \u001b[0mstb\u001b[0m \u001b[0;34m=\u001b[0m \u001b[0mvalue\u001b[0m\u001b[0;34m.\u001b[0m\u001b[0m_render_traceback_\u001b[0m\u001b[0;34m(\u001b[0m\u001b[0;34m)\u001b[0m\u001b[0;34m\u001b[0m\u001b[0;34m\u001b[0m\u001b[0m\n\u001b[1;32m   2045\u001b[0m                     \u001b[0;32mexcept\u001b[0m \u001b[0mException\u001b[0m\u001b[0;34m:\u001b[0m\u001b[0;34m\u001b[0m\u001b[0;34m\u001b[0m\u001b[0m\n\u001b[0;32m-> 2046\u001b[0;31m                         stb = self.InteractiveTB.structured_traceback(etype,\n\u001b[0m\u001b[1;32m   2047\u001b[0m                                             value, tb, tb_offset=tb_offset)\n\u001b[1;32m   2048\u001b[0m \u001b[0;34m\u001b[0m\u001b[0m\n",
      "\u001b[0;32m~/miniconda3/envs/testsuite/lib/python3.8/site-packages/IPython/core/ultratb.py\u001b[0m in \u001b[0;36mstructured_traceback\u001b[0;34m(self, etype, value, tb, tb_offset, number_of_lines_of_context)\u001b[0m\n\u001b[1;32m   1433\u001b[0m         \u001b[0;32melse\u001b[0m\u001b[0;34m:\u001b[0m\u001b[0;34m\u001b[0m\u001b[0;34m\u001b[0m\u001b[0m\n\u001b[1;32m   1434\u001b[0m             \u001b[0mself\u001b[0m\u001b[0;34m.\u001b[0m\u001b[0mtb\u001b[0m \u001b[0;34m=\u001b[0m \u001b[0mtb\u001b[0m\u001b[0;34m\u001b[0m\u001b[0;34m\u001b[0m\u001b[0m\n\u001b[0;32m-> 1435\u001b[0;31m         return FormattedTB.structured_traceback(\n\u001b[0m\u001b[1;32m   1436\u001b[0m             self, etype, value, tb, tb_offset, number_of_lines_of_context)\n\u001b[1;32m   1437\u001b[0m \u001b[0;34m\u001b[0m\u001b[0m\n",
      "\u001b[0;32m~/miniconda3/envs/testsuite/lib/python3.8/site-packages/IPython/core/ultratb.py\u001b[0m in \u001b[0;36mstructured_traceback\u001b[0;34m(self, etype, value, tb, tb_offset, number_of_lines_of_context)\u001b[0m\n\u001b[1;32m   1333\u001b[0m         \u001b[0;32mif\u001b[0m \u001b[0mmode\u001b[0m \u001b[0;32min\u001b[0m \u001b[0mself\u001b[0m\u001b[0;34m.\u001b[0m\u001b[0mverbose_modes\u001b[0m\u001b[0;34m:\u001b[0m\u001b[0;34m\u001b[0m\u001b[0;34m\u001b[0m\u001b[0m\n\u001b[1;32m   1334\u001b[0m             \u001b[0;31m# Verbose modes need a full traceback\u001b[0m\u001b[0;34m\u001b[0m\u001b[0;34m\u001b[0m\u001b[0;34m\u001b[0m\u001b[0m\n\u001b[0;32m-> 1335\u001b[0;31m             return VerboseTB.structured_traceback(\n\u001b[0m\u001b[1;32m   1336\u001b[0m                 \u001b[0mself\u001b[0m\u001b[0;34m,\u001b[0m \u001b[0metype\u001b[0m\u001b[0;34m,\u001b[0m \u001b[0mvalue\u001b[0m\u001b[0;34m,\u001b[0m \u001b[0mtb\u001b[0m\u001b[0;34m,\u001b[0m \u001b[0mtb_offset\u001b[0m\u001b[0;34m,\u001b[0m \u001b[0mnumber_of_lines_of_context\u001b[0m\u001b[0;34m\u001b[0m\u001b[0;34m\u001b[0m\u001b[0m\n\u001b[1;32m   1337\u001b[0m             )\n",
      "\u001b[0;32m~/miniconda3/envs/testsuite/lib/python3.8/site-packages/IPython/core/ultratb.py\u001b[0m in \u001b[0;36mstructured_traceback\u001b[0;34m(self, etype, evalue, etb, tb_offset, number_of_lines_of_context)\u001b[0m\n\u001b[1;32m   1190\u001b[0m         \u001b[0;34m\"\"\"Return a nice text document describing the traceback.\"\"\"\u001b[0m\u001b[0;34m\u001b[0m\u001b[0;34m\u001b[0m\u001b[0m\n\u001b[1;32m   1191\u001b[0m \u001b[0;34m\u001b[0m\u001b[0m\n\u001b[0;32m-> 1192\u001b[0;31m         formatted_exception = self.format_exception_as_a_whole(etype, evalue, etb, number_of_lines_of_context,\n\u001b[0m\u001b[1;32m   1193\u001b[0m                                                                tb_offset)\n\u001b[1;32m   1194\u001b[0m \u001b[0;34m\u001b[0m\u001b[0m\n",
      "\u001b[0;32m~/miniconda3/envs/testsuite/lib/python3.8/site-packages/IPython/core/ultratb.py\u001b[0m in \u001b[0;36mformat_exception_as_a_whole\u001b[0;34m(self, etype, evalue, etb, number_of_lines_of_context, tb_offset)\u001b[0m\n\u001b[1;32m   1148\u001b[0m \u001b[0;34m\u001b[0m\u001b[0m\n\u001b[1;32m   1149\u001b[0m \u001b[0;34m\u001b[0m\u001b[0m\n\u001b[0;32m-> 1150\u001b[0;31m         \u001b[0mlast_unique\u001b[0m\u001b[0;34m,\u001b[0m \u001b[0mrecursion_repeat\u001b[0m \u001b[0;34m=\u001b[0m \u001b[0mfind_recursion\u001b[0m\u001b[0;34m(\u001b[0m\u001b[0morig_etype\u001b[0m\u001b[0;34m,\u001b[0m \u001b[0mevalue\u001b[0m\u001b[0;34m,\u001b[0m \u001b[0mrecords\u001b[0m\u001b[0;34m)\u001b[0m\u001b[0;34m\u001b[0m\u001b[0;34m\u001b[0m\u001b[0m\n\u001b[0m\u001b[1;32m   1151\u001b[0m \u001b[0;34m\u001b[0m\u001b[0m\n\u001b[1;32m   1152\u001b[0m         \u001b[0mframes\u001b[0m \u001b[0;34m=\u001b[0m \u001b[0mself\u001b[0m\u001b[0;34m.\u001b[0m\u001b[0mformat_records\u001b[0m\u001b[0;34m(\u001b[0m\u001b[0mrecords\u001b[0m\u001b[0;34m,\u001b[0m \u001b[0mlast_unique\u001b[0m\u001b[0;34m,\u001b[0m \u001b[0mrecursion_repeat\u001b[0m\u001b[0;34m)\u001b[0m\u001b[0;34m\u001b[0m\u001b[0;34m\u001b[0m\u001b[0m\n",
      "\u001b[0;32m~/miniconda3/envs/testsuite/lib/python3.8/site-packages/IPython/core/ultratb.py\u001b[0m in \u001b[0;36mfind_recursion\u001b[0;34m(etype, value, records)\u001b[0m\n\u001b[1;32m    449\u001b[0m     \u001b[0;31m# first frame (from in to out) that looks different.\u001b[0m\u001b[0;34m\u001b[0m\u001b[0;34m\u001b[0m\u001b[0;34m\u001b[0m\u001b[0m\n\u001b[1;32m    450\u001b[0m     \u001b[0;32mif\u001b[0m \u001b[0;32mnot\u001b[0m \u001b[0mis_recursion_error\u001b[0m\u001b[0;34m(\u001b[0m\u001b[0metype\u001b[0m\u001b[0;34m,\u001b[0m \u001b[0mvalue\u001b[0m\u001b[0;34m,\u001b[0m \u001b[0mrecords\u001b[0m\u001b[0;34m)\u001b[0m\u001b[0;34m:\u001b[0m\u001b[0;34m\u001b[0m\u001b[0;34m\u001b[0m\u001b[0m\n\u001b[0;32m--> 451\u001b[0;31m         \u001b[0;32mreturn\u001b[0m \u001b[0mlen\u001b[0m\u001b[0;34m(\u001b[0m\u001b[0mrecords\u001b[0m\u001b[0;34m)\u001b[0m\u001b[0;34m,\u001b[0m \u001b[0;36m0\u001b[0m\u001b[0;34m\u001b[0m\u001b[0;34m\u001b[0m\u001b[0m\n\u001b[0m\u001b[1;32m    452\u001b[0m \u001b[0;34m\u001b[0m\u001b[0m\n\u001b[1;32m    453\u001b[0m     \u001b[0;31m# Select filename, lineno, func_name to track frames with\u001b[0m\u001b[0;34m\u001b[0m\u001b[0;34m\u001b[0m\u001b[0;34m\u001b[0m\u001b[0m\n",
      "\u001b[0;31mTypeError\u001b[0m: object of type 'NoneType' has no len()"
     ]
    }
   ],
   "source": [
    "opt.optimise(25)"
   ]
  },
  {
   "cell_type": "code",
   "execution_count": 18,
   "metadata": {},
   "outputs": [
    {
     "data": {
      "text/plain": [
       "<matplotlib.collections.PathCollection at 0x7f9a438bd850>"
      ]
     },
     "execution_count": 18,
     "metadata": {},
     "output_type": "execute_result"
    },
    {
     "data": {
      "image/png": "[encoded data removed]",
      "text/plain": [
       "<Figure size 432x288 with 1 Axes>"
      ]
     },
     "metadata": {
      "needs_background": "light"
     },
     "output_type": "display_data"
    }
   ],
   "source": [
    "plt.scatter(*opt.y[:10].T)\n",
    "plt.scatter(*opt.y[10:].T, c=\"C3\")\n",
    "plt.scatter(*opt.targets.T, c=\"magenta\")"
   ]
  },
  {
   "cell_type": "code",
   "execution_count": 14,
   "metadata": {},
   "outputs": [],
   "source": [
    "M = 3                                   # Number of objectives\n",
    "kfactor = 1\n",
    "lfactor = 2\n",
    "k = kfactor*(M-1)   # position related params\n",
    "l = lfactor*2           # distance related params\n",
    "\n",
    "n_dim = k+l\n",
    "n_obj = M\n",
    "func = wfg.WFG6"
   ]
  },
  {
   "cell_type": "code",
   "execution_count": 15,
   "metadata": {},
   "outputs": [],
   "source": [
    "N = 500\n",
    "y = np.zeros((N, n_obj))\n",
    "x = np.zeros((N, n_dim))\n",
    "for n in range(N):\n",
    "    z = wfg.random_soln(k, l, func.__name__)\n",
    "    y[n,:] = func(z, k, M)\n",
    "    x[n,:] = z"
   ]
  },
  {
   "cell_type": "code",
   "execution_count": 53,
   "metadata": {},
   "outputs": [],
   "source": [
    "%matplotlib qt"
   ]
  },
  {
   "cell_type": "code",
   "execution_count": 90,
   "metadata": {},
   "outputs": [],
   "source": [
    "t1 = np.array([1.73, 1.63, 1.72])\n",
    "t2= np.array([0.51, 3.67, 1.83])\n",
    "targets = np.array([t1, t1*0.9, t1*1.1, t2, t2*0.9, t2*1.1])"
   ]
  },
  {
   "cell_type": "code",
   "execution_count": 91,
   "metadata": {},
   "outputs": [
    {
     "data": {
      "text/plain": [
       "<mpl_toolkits.mplot3d.art3d.Path3DCollection at 0x7f6fa89830d0>"
      ]
     },
     "execution_count": 91,
     "metadata": {},
     "output_type": "execute_result"
    }
   ],
   "source": [
    "fig = plt.figure(figsize=[10,10])\n",
    "ax = fig.gca(projection='3d')\n",
    "ax.scatter(*y.T, s=5, c=\"C0\")\n",
    "ax.scatter(*targets.T, s=25, c=\"magenta\")\n",
    "# ax.scatter(*t2.T, s=25, c=\"cyan\")"
   ]
  },
  {
   "cell_type": "code",
   "execution_count": 59,
   "metadata": {},
   "outputs": [
    {
     "name": "stdout",
     "output_type": "stream",
     "text": [
      "[[1.79 1.79 1.79]]\n",
      "[[0.28867513 0.14433757 0.09622504]]\n"
     ]
    }
   ],
   "source": [
    "t = np.array([[1.79, 1.79, 1.79]])\n",
    "t2 = t/(np.linalg.norm(t)*np.array([2, 4, 6]))\n",
    "\n",
    "print(t)\n",
    "print(t2)"
   ]
  },
  {
   "cell_type": "code",
   "execution_count": 82,
   "metadata": {},
   "outputs": [
    {
     "data": {
      "text/plain": [
       "392"
      ]
     },
     "execution_count": 82,
     "metadata": {},
     "output_type": "execute_result"
    }
   ],
   "source": [
    "np.argmin(np.linalg.norm(y-t2, axis=1))"
   ]
  },
  {
   "cell_type": "code",
   "execution_count": null,
   "metadata": {},
   "outputs": [],
   "source": []
  },
  {
   "cell_type": "code",
   "execution_count": null,
   "metadata": {},
   "outputs": [],
   "source": []
  }
 ],
 "metadata": {
  "kernelspec": {
   "display_name": "testsuite",
   "language": "python",
   "name": "testsuite"
  },
  "language_info": {
   "codemirror_mode": {
    "name": "ipython",
    "version": 3
   },
   "file_extension": ".py",
   "mimetype": "text/x-python",
   "name": "python",
   "nbconvert_exporter": "python",
   "pygments_lexer": "ipython3",
   "version": "3.8.3"
  }
 },
 "nbformat": 4,
 "nbformat_minor": 4
}
