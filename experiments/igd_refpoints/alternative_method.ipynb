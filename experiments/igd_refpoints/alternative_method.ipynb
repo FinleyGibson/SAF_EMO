{
 "cells": [
  {
   "cell_type": "code",
   "execution_count": 2,
   "metadata": {},
   "outputs": [
    {
     "name": "stdout",
     "output_type": "stream",
     "text": [
      "Populating the interactive namespace from numpy and matplotlib\n"
     ]
    }
   ],
   "source": [
    "%pylab inline"
   ]
  },
  {
   "cell_type": "code",
   "execution_count": 20,
   "metadata": {},
   "outputs": [],
   "source": [
    "n_points = 100\n",
    "angs = linspace(0, 2*pi, n_points+1)[:-1]\n",
    "\n",
    "a = 6\n",
    "b = 1"
   ]
  },
  {
   "cell_type": "code",
   "execution_count": 21,
   "metadata": {},
   "outputs": [],
   "source": [
    "fx = lambda a, theta: a*cos(theta)\n",
    "fy = lambda b, theta: b*sin(theta)"
   ]
  },
  {
   "cell_type": "code",
   "execution_count": 22,
   "metadata": {},
   "outputs": [],
   "source": [
    "# elipse points\n",
    "elip_x = fx(a, angs)\n",
    "elip_y = fy(b, angs)"
   ]
  },
  {
   "cell_type": "code",
   "execution_count": 25,
   "metadata": {},
   "outputs": [
    {
     "data": {
      "text/plain": [
       "<matplotlib.collections.PathCollection at 0x7fbd1f6cf550>"
      ]
     },
     "execution_count": 25,
     "metadata": {},
     "output_type": "execute_result"
    },
    {
     "data": {
      "image/png": "[encoded data removed]",
      "text/plain": [
       "<Figure size 432x288 with 1 Axes>"
      ]
     },
     "metadata": {
      "needs_background": "light"
     },
     "output_type": "display_data"
    }
   ],
   "source": [
    "fig = figure()\n",
    "ax = fig.gca()\n",
    "ax.set_aspect('equal')\n",
    "ax.scatter(elip_x, elip_y, s=5)"
   ]
  },
  {
   "cell_type": "code",
   "execution_count": 26,
   "metadata": {},
   "outputs": [],
   "source": [
    "integ_ds = []\n",
    "integ_delta_s_val = 0.\n",
    "dt = 2*pi/n_points\n",
    "for theta in angs:\n",
    "    ds_dt = sqrt((a**2*sin(theta)**2)+(b**2*cos(theta)**2))\n",
    "    \n",
    "    integ_delta_s_val= integ_delta_s_val+ds_dt*dt\n",
    "    integ_ds.append(integ_delta_s_val)\n",
    "\n",
    "for i, theta in enumerate(integ_ds):\n",
    "    integ_ds[i] = theta/integ_ds[-1]*2.0*pi"
   ]
  },
  {
   "cell_type": "code",
   "execution_count": 27,
   "metadata": {},
   "outputs": [
    {
     "data": {
      "text/plain": [
       "[<matplotlib.lines.Line2D at 0x7fbd1f565e80>]"
      ]
     },
     "execution_count": 27,
     "metadata": {},
     "output_type": "execute_result"
    },
    {
     "data": {
      "image/png": "[encoded data removed]",
      "text/plain": [
       "<Figure size 432x288 with 1 Axes>"
      ]
     },
     "metadata": {
      "needs_background": "light"
     },
     "output_type": "display_data"
    }
   ],
   "source": [
    "fig = figure()\n",
    "ax = fig.gca()\n",
    "ax.axhline(2*pi, c=\"k\", linestyle= \"--\")\n",
    "ax.plot(angs, angs)\n",
    "ax.plot(angs, integ_ds)"
   ]
  },
  {
   "cell_type": "code",
   "execution_count": 28,
   "metadata": {},
   "outputs": [],
   "source": [
    "elip_xc = []\n",
    "elip_yc = []\n",
    "for theta in angs:\n",
    "    for i in range(n_points-1):\n",
    "        if theta>= integ_ds[i] and theta<integ_ds[i+1]:\n",
    "            theta_prime = angs[i]\n",
    "            elip_xc.append(fx(a, theta_prime))\n",
    "            elip_yc.append(fy(b, theta_prime))\n",
    "        elif theta>= integ_ds[i]:\n",
    "            theta_prime = angs[i]\n",
    "            elip_xc.append(fx(a, theta_prime))\n",
    "            elip_yc.append(fy(b, theta_prime))"
   ]
  },
  {
   "cell_type": "code",
   "execution_count": 29,
   "metadata": {},
   "outputs": [
    {
     "data": {
      "text/plain": [
       "Text(0.5, 1.0, 'After')"
      ]
     },
     "execution_count": 29,
     "metadata": {},
     "output_type": "execute_result"
    },
    {
     "data": {
      "image/png": "[encoded data removed]",
      "text/plain": [
       "<Figure size 1440x360 with 2 Axes>"
      ]
     },
     "metadata": {
      "needs_background": "light"
     },
     "output_type": "display_data"
    }
   ],
   "source": [
    "fig = figure(figsize=[20, 5])\n",
    "ax0 = fig.add_subplot(1,2,1)\n",
    "ax1 = fig.add_subplot(1,2,2)\n",
    "ax0.set_aspect('equal')\n",
    "ax1.set_aspect('equal')\n",
    "\n",
    "ax0.scatter(elip_x, elip_y, c=\"C0\", s=5)\n",
    "ax1.scatter(elip_xc, elip_yc, c=\"C1\", s=5)\n",
    "\n",
    "ax0.set_title(\"Before\")\n",
    "ax1.set_title(\"After\")"
   ]
  },
  {
   "cell_type": "code",
   "execution_count": 31,
   "metadata": {},
   "outputs": [
    {
     "data": {
      "text/plain": [
       "(100,)"
      ]
     },
     "execution_count": 31,
     "metadata": {},
     "output_type": "execute_result"
    }
   ],
   "source": [
    "elip_x.shape"
   ]
  },
  {
   "cell_type": "code",
   "execution_count": 33,
   "metadata": {},
   "outputs": [
    {
     "data": {
      "text/plain": [
       "(4935,)"
      ]
     },
     "execution_count": 33,
     "metadata": {},
     "output_type": "execute_result"
    }
   ],
   "source": [
    "np.shape(elip_xc)"
   ]
  },
  {
   "cell_type": "code",
   "execution_count": null,
   "metadata": {},
   "outputs": [],
   "source": []
  }
 ],
 "metadata": {
  "kernelspec": {
   "display_name": "testsuite",
   "language": "python",
   "name": "testsuite"
  },
  "language_info": {
   "codemirror_mode": {
    "name": "ipython",
    "version": 3
   },
   "file_extension": ".py",
   "mimetype": "text/x-python",
   "name": "python",
   "nbconvert_exporter": "python",
   "pygments_lexer": "ipython3",
   "version": "3.8.3"
  }
 },
 "nbformat": 4,
 "nbformat_minor": 4
}
