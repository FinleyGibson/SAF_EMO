{
 "cells": [
  {
   "cell_type": "code",
   "execution_count": 1,
   "metadata": {},
   "outputs": [
    {
     "name": "stdout",
     "output_type": "stream",
     "text": [
      "Populating the interactive namespace from numpy and matplotlib\n"
     ]
    }
   ],
   "source": [
    "%pylab inline\n",
    "figsize(8,8)\n",
    "import sys\n",
    "import rootpath\n",
    "sys.path.append(rootpath.detect())\n",
    "from scipy.spatial import distance_matrix"
   ]
  },
  {
   "cell_type": "code",
   "execution_count": 2,
   "metadata": {},
   "outputs": [],
   "source": [
    "def weak_dominates(Y, x):\n",
    "    \"\"\"\n",
    "    Test whether rows of Y weakly dominate x\n",
    "    \n",
    "    Parameters\n",
    "    ----------\n",
    "    Y : array_like\n",
    "        Array of points to be tested. \n",
    "        \n",
    "    x : array_like\n",
    "        Vector to be tested\n",
    "        \n",
    "    Returns\n",
    "    -------\n",
    "    c : ndarray (Bool)\n",
    "        1d-array.  The ith element is True if Y[i] weakly dominates x\n",
    "    \"\"\"\n",
    "    return (Y <= x ).sum(axis=1) == Y.shape[1]\n",
    "\n",
    "\n",
    "def attainment_sample(Y, Nsamples=1000):\n",
    "    \"\"\"\n",
    "    Return samples from the attainment surface defined by the mutually non-dominating set Y\n",
    "\n",
    "    Parameters\n",
    "    ---------\n",
    "    Y : array_like\n",
    "        The surface to be sampled. Each row of Y is vector, that is mutually\n",
    "        with all the other rows of Y\n",
    "    Nsamples : int\n",
    "        Number of samples\n",
    "\n",
    "    Returns\n",
    "    -------\n",
    "    S : ndarray\n",
    "        Array of samples from the attainment surface.\n",
    "        Shape; Nsamples by Y.shape[1] \n",
    "    \n",
    "    Notes\n",
    "    -----\n",
    "    See \"Dominance-based multi-objective simulated annealing\"\n",
    "    Kevin Smith, Richard Everson, Jonathan Fieldsend, \n",
    "    Chris Murphy, Rashmi Misra.\n",
    "    IEEE Transactions on Evolutionary Computing. \n",
    "    Volume: 12, Issue: 3, June 2008.\n",
    "    https://ieeexplore.ieee.org/abstract/document/4358782\n",
    "    \"\"\"\n",
    "    N, D = Y.shape\n",
    "    Ymin = Y.min(axis=0)\n",
    "    r = Y.max(axis=0) - Ymin\n",
    "    S = np.zeros((Nsamples, D))\n",
    "    \n",
    "    # Set up arrays of the points sorted according to each coordinate.\n",
    "    Ys = np.zeros((N, D))\n",
    "    for d in range(D):\n",
    "        Ys[:,d] = np.sort(Y[:,d])\n",
    "\n",
    "    for n in range(Nsamples):\n",
    "        v = np.random.rand(D)*r + Ymin\n",
    "        m = np.random.randint(D)\n",
    "\n",
    "        # Bisection search to find the smallest v[m] \n",
    "        # so that v is weakly dominated by an element of Y\n",
    "        lo, hi = 0, N\n",
    "        while lo < hi:\n",
    "            mid = (lo+hi)//2\n",
    "            v[m] = Ys[mid,m]\n",
    "            if not any(weak_dominates(Y, v)):\n",
    "                lo = mid+1\n",
    "            else:\n",
    "                hi = mid\n",
    "        if lo == N: lo -= 1\n",
    "        v[m] = Ys[lo, m]      \n",
    "        assert lo == N-1 or any(weak_dominates(Y, v))\n",
    "        S[n,:] = v[:]\n",
    "    return S\n"
   ]
  },
  {
   "cell_type": "code",
   "execution_count": 3,
   "metadata": {},
   "outputs": [],
   "source": [
    "def normalise_to_axes(x, axes=None):\n",
    "    r = 1\n",
    "    assert x.ndim == 2\n",
    "    axes = np.ones(x.shape[1]) if axis is None else np.array(axes)\n",
    "    \n",
    "    x_norm = np.zeros_like(x)\n",
    "    for i, xi in enumerate(x):\n",
    "        lmbda = sqrt(r**2/np.sum([xi[j]**2/axes[j]**2 for j in range(x.shape[1])]))\n",
    "        x_norm[i] = xi*lmbda\n",
    "        \n",
    "    return x_norm"
   ]
  },
  {
   "cell_type": "code",
   "execution_count": 4,
   "metadata": {},
   "outputs": [],
   "source": [
    "n_points = 1000\n",
    "a = 6\n",
    "b = 1"
   ]
  },
  {
   "cell_type": "markdown",
   "metadata": {},
   "source": [
    "random normal"
   ]
  },
  {
   "cell_type": "code",
   "execution_count": 5,
   "metadata": {},
   "outputs": [],
   "source": [
    "%matplotlib qt"
   ]
  },
  {
   "cell_type": "code",
   "execution_count": 12,
   "metadata": {},
   "outputs": [
    {
     "data": {
      "text/plain": [
       "Text(0.5, 1.0, 'Projection of distribution $\\\\sigma_a=6$, $\\\\sigma_b=1$ \\t to elipse: $a=6$, $b=1$')"
      ]
     },
     "execution_count": 12,
     "metadata": {},
     "output_type": "execute_result"
    }
   ],
   "source": [
    "fig = figure()\n",
    "ax0 = fig.add_subplot(2,1,1)\n",
    "\n",
    "x = random.multivariate_normal([0, 0], np.diag([1**2, 1**2]), size=n_points)\n",
    "x_norm = normalise_to_axes(x, [1, 1])\n",
    "\n",
    "ax0.scatter(*x.T, c=\"C0\", alpha=0.3, s=2, label=\"{} original points\".format(n_points))\n",
    "ax0.scatter(*x_norm.T, c=\"C1\", alpha=0.3, s=2, label= \"points projected to unit circle\".format(n_points))\n",
    "ax0.scatter([0],[0], c=\"C3\", label=\"origin\")\n",
    "ax0.set_aspect('equal')\n",
    "\n",
    "ax1 = fig.add_subplot(2,1,2, sharex=ax0, sharey=ax0)\n",
    "x2 = random.multivariate_normal([0, 0], np.diag([a**2, b**2]), size=n_points)\n",
    "x2_norm = normalise_to_axes(x2, [a, b])\n",
    "\n",
    "ax1.scatter(*x2.T, c=\"C0\", alpha=0.3, s=5, label=\"{} original points\".format(n_points))\n",
    "ax1.scatter(*x2_norm.T, c=\"C1\", alpha=0.1, s=8, label = \"points projected to elipse\".format(n_points))\n",
    "ax1.scatter([0],[0], c=\"C3\", label=\"origin\")\n",
    "ax1.set_aspect('equal')\n",
    "\n",
    "ax0.legend()\n",
    "ax1.legend()\n",
    "ax0.set_title(\"Projection of distribution $\\sigma_a=1$, $\\sigma_b=1$ \\t to circle: $a=1$, $b=1$\")\n",
    "ax1.set_title(\"Projection of distribution $\\sigma_a=6$, $\\sigma_b=1$ \\t to elipse: $a=6$, $b=1$\")"
   ]
  },
  {
   "cell_type": "code",
   "execution_count": 8,
   "metadata": {},
   "outputs": [
    {
     "data": {
      "text/plain": [
       "(0.0, 3.408006952559815)"
      ]
     },
     "execution_count": 8,
     "metadata": {},
     "output_type": "execute_result"
    }
   ],
   "source": [
    "fig = figure()\n",
    "ax0 = fig.add_subplot(2,1,1)\n",
    "\n",
    "x = random.multivariate_normal([0, 0], np.diag([1**2, 1**2]), size=n_points)\n",
    "x_norm = normalise_to_axes(x, [1, 1])\n",
    "\n",
    "ax0.scatter(*abs(x).T, c=\"C0\", alpha=0.3, s=2, label=\"{} original points\".format(n_points))\n",
    "ax0.scatter(*abs(x_norm).T, c=\"C1\", alpha=0.3, s=2, label= \"points projected to unit circle\".format(n_points))\n",
    "ax0.scatter([0],[0], c=\"C3\", label=\"origin\")\n",
    "ax0.set_aspect('equal')\n",
    "\n",
    "ax1 = fig.add_subplot(2,1,2, sharex=ax0, sharey=ax0)\n",
    "x2 = random.multivariate_normal([0, 0], np.diag([a**2, b**2]), size=n_points)\n",
    "x2_norm = normalise_to_axes(x2, [a, b])\n",
    "\n",
    "ax1.scatter(*abs(x2).T, c=\"C0\", alpha=0.3, s=5, label=\"{} original points\".format(n_points))\n",
    "ax1.scatter(*abs(x2_norm).T, c=\"C1\", alpha=0.1, s=8, label = \"points projected to elipse\".format(n_points))\n",
    "ax1.scatter([0],[0], c=\"C3\", label=\"origin\")\n",
    "ax1.set_aspect('equal')\n",
    "\n",
    "ax0.legend()\n",
    "ax1.legend()\n",
    "ax0.set_title(\"Projection of distribution $\\sigma_a=1$, $\\sigma_b=1$ \\t to circle: $a=1$, $b=1$\")\n",
    "ax1.set_title(\"Projection of distribution $\\sigma_a=6$, $\\sigma_b=1$ \\t to elipse: $a=6$, $b=1$\")\n",
    "\n",
    "ax0.set_xlim(0, ax0.get_xlim()[1]); ax0.set_ylim(0, ax0.get_ylim()[1])\n",
    "ax1.set_xlim(0, ax1.get_xlim()[1]); ax1.set_ylim(0, ax1.get_ylim()[1])"
   ]
  },
  {
   "cell_type": "code",
   "execution_count": 8,
   "metadata": {},
   "outputs": [
    {
     "data": {
      "text/plain": [
       "Text(0.5, 1.0, 'Projection of distribution $\\\\sigma_a=5$, $\\\\sigma_b=1$ \\t to elipse: $a=6$, $b=1$')"
      ]
     },
     "execution_count": 8,
     "metadata": {},
     "output_type": "execute_result"
    }
   ],
   "source": [
    "fig = figure()\n",
    "ax0 = fig.gca()\n",
    "\n",
    "x2 = random.multivariate_normal([0, 0], np.diag([5**0.5, 1]), size=n_points)\n",
    "x2_norm = normalise_to_axes(x2, [a, b])\n",
    "\n",
    "ax0.scatter(*x2.T, c=\"C0\", alpha=0.3, s=5, label=\"{} original points\".format(n_points))\n",
    "ax0.scatter(*x2_norm.T, c=\"C1\", alpha=0.1, s=8, label = \"points projected to elipse\".format(n_points))\n",
    "ax0.scatter([0],[0], c=\"C3\", label=\"origin\")\n",
    "ax0.set_aspect('equal')\n",
    "\n",
    "ax0.legend()\n",
    "ax0.set_title(\"Projection of distribution $\\sigma_a=5$, $\\sigma_b=1$ \\t to elipse: $a=6$, $b=1$\")"
   ]
  },
  {
   "cell_type": "code",
   "execution_count": 11,
   "metadata": {},
   "outputs": [
    {
     "data": {
      "text/plain": [
       "Text(0.5, 1.0, 'Projection of distribution $\\\\sigma_a=3$, $\\\\sigma_b=1$ \\t to elipse: $a=6$, $b=1$')"
      ]
     },
     "execution_count": 11,
     "metadata": {},
     "output_type": "execute_result"
    }
   ],
   "source": [
    "fig = figure()\n",
    "ax0 = fig.gca()\n",
    "\n",
    "x2 = random.multivariate_normal([0, 0], np.diag([3**0.5, 1]), size=n_points*10)\n",
    "x2_norm = normalise_to_axes(x2, [a, b])\n",
    "\n",
    "ax0.scatter(*x2.T, c=\"C0\", alpha=0.3, s=5, label=\"{} original points\".format(n_points))\n",
    "ax0.scatter(*x2_norm.T, c=\"C1\", alpha=0.1, s=8, label = \"points projected to elipse\".format(n_points))\n",
    "ax0.scatter([0],[0], c=\"C3\", label=\"origin\")\n",
    "ax0.set_aspect('equal')\n",
    "\n",
    "ax0.legend()\n",
    "ax0.set_title(\"Projection of distribution $\\sigma_a=3$, $\\sigma_b=1$ \\t to elipse: $a=6$, $b=1$\")"
   ]
  },
  {
   "cell_type": "code",
   "execution_count": 10,
   "metadata": {},
   "outputs": [],
   "source": [
    "at_y = attainment_sample(abs(x2_norm), n_points*2)"
   ]
  },
  {
   "cell_type": "code",
   "execution_count": 11,
   "metadata": {},
   "outputs": [],
   "source": [
    "fig = figure()\n",
    "ax = fig.gca()\n",
    "ax.scatter(*abs(x2_norm)[:300].T, s=2)\n",
    "ax.set_aspect('equal')"
   ]
  },
  {
   "cell_type": "code",
   "execution_count": 12,
   "metadata": {},
   "outputs": [],
   "source": [
    "fig = figure()\n",
    "ax = fig.gca()\n",
    "ax.scatter(*at_y[:300].T, s=2)\n",
    "ax.set_aspect('equal')"
   ]
  },
  {
   "cell_type": "code",
   "execution_count": 13,
   "metadata": {},
   "outputs": [
    {
     "data": {
      "text/plain": [
       "(0.0, 6.299984618698478)"
      ]
     },
     "execution_count": 13,
     "metadata": {},
     "output_type": "execute_result"
    }
   ],
   "source": [
    "fig = figure()\n",
    "ax0 = fig.add_subplot(2,1,1)\n",
    "ax1 = fig.add_subplot(2,1,2, sharex=ax0, sharey=ax0)\n",
    "ax1.set_aspect('equal')\n",
    "\n",
    "ax0.scatter(*abs(x2_norm).T, s=5)\n",
    "ax1.scatter(*at_y.T, s=5, c=\"C1\")\n",
    "ax0.set_aspect('equal')\n",
    "ax0.set_xlim([0,ax0.get_xlim()[1]])"
   ]
  },
  {
   "cell_type": "code",
   "execution_count": 14,
   "metadata": {},
   "outputs": [
    {
     "data": {
      "text/plain": [
       "(10000, 2)"
      ]
     },
     "execution_count": 14,
     "metadata": {},
     "output_type": "execute_result"
    }
   ],
   "source": [
    "x2_norm.shape"
   ]
  },
  {
   "cell_type": "code",
   "execution_count": null,
   "metadata": {},
   "outputs": [],
   "source": []
  }
 ],
 "metadata": {
  "kernelspec": {
   "display_name": "testsuite",
   "language": "python",
   "name": "testsuite"
  },
  "language_info": {
   "codemirror_mode": {
    "name": "ipython",
    "version": 3
   },
   "file_extension": ".py",
   "mimetype": "text/x-python",
   "name": "python",
   "nbconvert_exporter": "python",
   "pygments_lexer": "ipython3",
   "version": "3.8.3"
  }
 },
 "nbformat": 4,
 "nbformat_minor": 4
}
