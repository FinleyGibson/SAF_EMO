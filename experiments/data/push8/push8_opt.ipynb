{
 "cells": [
  {
   "cell_type": "code",
   "execution_count": 1,
   "metadata": {},
   "outputs": [],
   "source": [
    "import rootpath\n",
    "import sys\n",
    "sys.path.append(rootpath.detect())\n",
    "from push_world import push_8D\n",
    "from testsuite.optimisers import Saf\n",
    "from testsuite.surrogates import MultiSurrogate, GP\n",
    "from testsuite.analysis import plot_all_pareto_2d\n",
    "\n",
    "import numpy as np\n",
    "import matplotlib.pyplot as plt\n",
    "import matplotlib.cm as cm"
   ]
  },
  {
   "cell_type": "code",
   "execution_count": 2,
   "metadata": {},
   "outputs": [],
   "source": [
    "class push8:\n",
    "    \"\"\"Robot pushing simulation: Two robots pushing an object each.\n",
    "    The objects' initial locations are at [-3, 0] and [3, 0] respectively,\n",
    "    with the robot 1 pushing the first target and robot 2 pushing the second\n",
    "    target. See paper for full problem details.\n",
    "    Parameters\n",
    "    ----------\n",
    "    tx_1 : float\n",
    "        x-axis location for the target of robot 1, should reside in [-5, 5].\n",
    "    ty_1 : float\n",
    "        y-axis location for the target of robot 1, should reside in [-5, 5].\n",
    "    tx_2 : float\n",
    "        x-axis location for the target of robot 2, should reside in [-5, 5].\n",
    "    ty_2 : float\n",
    "        y-axis location for the target of robot 2, should reside in [-5, 5].\n",
    "    Examples\n",
    "    --------\n",
    "    >> f_class = push8\n",
    "    >> # initial positions (tx_1, ty_1) and (tx_2, ty_2) for both robots\n",
    "    >> tx_1 = 3.5; ty_1 = 4\n",
    "    >> tx_2 = -2; ty_2 = 1.5\n",
    "    >> # instantiate the test problem\n",
    "    >> f = f_class(tx_1, ty_1, tx_2, ty_2)\n",
    "    >> # evaluate some solution x in [0, 1]^8\n",
    "    >> x = numpy.array([0.5, 0.7, 0.2, 0.3, 0.3, 0.1, 0.5, 0.6])\n",
    "    >> f(x)\n",
    "    array([24.15719287])\n",
    "    \"\"\"\n",
    "    def __init__(self, t1_x=-5, t1_y=-5, t2_x=5, t2_y=5):\n",
    "        self.dim = 8\n",
    "        self.lb = np.array([-5, -5,   1, -5*np.pi, -5, -5,   1, -5*np.pi])\n",
    "        self.ub = np.array([ 5,  5, 300, 5*np.pi,  5,  5, 300, 5*np.pi])\n",
    "\n",
    "        # object target locations\n",
    "        self.t1_x = t1_x\n",
    "        self.t1_y = t1_y\n",
    "        self.t2_x = t2_x\n",
    "        self.t2_y = t2_y\n",
    "\n",
    "        # initial object locations (-3, 0) and (3, 0)\n",
    "        self.o1_x = -3\n",
    "        self.o1_y = 0\n",
    "        self.o2_x = 3\n",
    "        self.o2_y = 0\n",
    "\n",
    "        # optimum location unknown as defined by inputs\n",
    "        self.yopt = np.array([0.])\n",
    "        self.xopt = None\n",
    "\n",
    "        self.cf = None\n",
    "\n",
    "    def __call__(self, x):\n",
    "        x = np.atleast_2d(x)\n",
    "\n",
    "        val = np.zeros((x.shape[0], 2))\n",
    "        for i in range(x.shape[0]):\n",
    "            val[i, :] = push_8D(x[i, :],\n",
    "                                self.t1_x, self.t1_y,\n",
    "                                self.t2_x, self.t2_y,\n",
    "                                self.o1_x, self.o1_y,\n",
    "                                self.o2_x, self.o2_y,\n",
    "                                draw=False)\n",
    "\n",
    "        return val.ravel()"
   ]
  },
  {
   "cell_type": "code",
   "execution_count": 3,
   "metadata": {},
   "outputs": [],
   "source": [
    "## establish objective function\n",
    "func = push8()\n",
    "x_limits = [func.lb, func.ub]\n",
    "def test_function(x):\n",
    "    return func(x)\n"
   ]
  },
  {
   "cell_type": "code",
   "execution_count": 4,
   "metadata": {},
   "outputs": [],
   "source": [
    "surrogate = MultiSurrogate(GP, scaled=True)\n",
    "opt = Saf(test_function, x_limits, surrogate,  n_initial=10, budget=20, seed=0, ei=False, log_dir=\"./log_data\", cmaes_restarts=0, log_interval=10)"
   ]
  },
  {
   "cell_type": "code",
   "execution_count": 11,
   "metadata": {},
   "outputs": [
    {
     "name": "stderr",
     "output_type": "stream",
     "text": [
      "reconstraining parameters GP_regression.Mat52.lengthscale\n",
      "reconstraining parameters GP_regression.Mat52.variance\n",
      "reconstraining parameters GP_regression.Gaussian_noise.variance\n"
     ]
    },
    {
     "name": "stdout",
     "output_type": "stream",
     "text": [
      "Optimization restart 1/10, f = 71.12706990796966\n",
      "Optimization restart 2/10, f = 255.82429036161443\n",
      "Optimization restart 3/10, f = 71.12706990880979\n",
      "Optimization restart 4/10, f = 71.1270699036879\n",
      "Optimization restart 5/10, f = 1353356226.1071248\n",
      "Optimization restart 6/10, f = 71.12706991310233\n",
      "Optimization restart 7/10, f = 71.12706991201372\n",
      "Optimization restart 8/10, f = 71.12706990525751\n",
      "Optimization restart 9/10, f = 71.12706990661208\n",
      "Optimization restart 10/10, f = 71.12706991125862\n"
     ]
    },
    {
     "name": "stderr",
     "output_type": "stream",
     "text": [
      "reconstraining parameters GP_regression.Mat52.lengthscale\n",
      "reconstraining parameters GP_regression.Mat52.variance\n",
      "reconstraining parameters GP_regression.Gaussian_noise.variance\n"
     ]
    },
    {
     "name": "stdout",
     "output_type": "stream",
     "text": [
      "Optimization restart 1/10, f = 78.40477021533479\n",
      "Optimization restart 2/10, f = 258.3775824389459\n",
      "Optimization restart 3/10, f = 78.40477021498049\n",
      "Optimization restart 4/10, f = 78.40477021412596\n",
      "Optimization restart 5/10, f = 78.4047702163262\n",
      "Optimization restart 6/10, f = 258.3789151481742\n",
      "Optimization restart 7/10, f = 467.2783943176133\n",
      "Optimization restart 8/10, f = 78.40477021497034\n",
      "Optimization restart 9/10, f = 258.37884235627604\n",
      "Optimization restart 10/10, f = 467.2783943176133\n",
      "(5_w,10)-aCMA-ES (mu_w=3.2,w_1=45%) in dimension 8 (seed=278563, Wed Oct  7 22:10:37 2020)\n",
      "Iterat #Fevals   function value  axis ratio  sigma  min&max std  t[m:s]\n",
      "    1     10 6.332420111560549e-01 1.0e+00 2.54e-01  2e-01  3e-01 0:00.0\n",
      "    2     20 6.332420015765460e-01 1.3e+00 2.68e-01  3e-01  3e-01 0:00.0\n",
      "    3     30 6.332419938991768e-01 1.4e+00 3.21e-01  3e-01  4e-01 0:00.1\n",
      "  100   1000 4.729631984757965e-01 2.8e+01 1.92e+00  3e-01  8e+00 0:01.7\n",
      "  200   2000 1.345398926653961e-01 1.0e+02 2.04e-01  1e-02  4e-01 0:03.0\n",
      "  300   3000 1.339952042482879e-01 7.9e+02 1.46e-01  4e-03  2e-01 0:04.2\n",
      "  400   4000 1.339533120449248e-01 5.5e+03 2.56e-02  5e-04  2e-02 0:05.7\n",
      "  500   5000 1.339477854302717e-01 1.1e+04 2.04e-02  1e-04  8e-03 0:07.3\n",
      "  600   6000 1.339461135305819e-01 2.2e+04 5.07e-02  2e-04  1e-02 0:08.7\n",
      "  700   7000 1.339457655870512e-01 3.0e+04 5.10e-02  9e-05  4e-03 0:10.5\n",
      "  800   8000 1.339455604260555e-01 4.5e+04 4.67e-02  4e-05  1e-03 0:12.4\n",
      "  900   9000 1.339455297099811e-01 1.8e+05 7.56e-02  3e-05  1e-03 0:13.9\n",
      " 1000  10000 1.339454448255305e-01 2.8e+05 3.49e-01  1e-04  5e-03 0:15.2\n",
      "Iterat #Fevals   function value  axis ratio  sigma  min&max std  t[m:s]\n",
      " 1100  11000 1.339454053478194e-01 1.6e+05 1.83e-01  3e-05  1e-03 0:16.9\n",
      " 1200  12000 1.339453920816980e-01 2.4e+05 3.34e-01  3e-05  1e-03 0:18.6\n",
      " 1300  13000 1.339453863457933e-01 3.3e+05 3.61e-01  1e-05  4e-04 0:20.3\n",
      " 1400  14000 1.339453836329370e-01 3.5e+05 9.86e-01  2e-05  6e-04 0:21.9\n",
      " 1500  15000 1.339453822629892e-01 8.7e+05 7.56e-01  4e-06  2e-04 0:23.6\n"
     ]
    },
    {
     "name": "stderr",
     "output_type": "stream",
     "text": [
      " /home/finley/miniconda3/envs/testsuite/lib/python3.8/site-packages/cma/utilities/utils.py:329: UserWarning:\n",
      "        geno-pheno transformation introduced based on the\n",
      "        current covariance matrix with condition 1.0e+12 -> 1.0e+00,\n",
      "        injected solutions become \"invalid\" in this iteration (class=CMAEvolutionStrategy method=alleviate_conditioning iteration=1506)\n"
     ]
    },
    {
     "name": "stdout",
     "output_type": "stream",
     "text": [
      " 1600  16000 1.339453809780892e-01 3.6e+01 5.08e+00  2e+00  1e+01 0:25.1\n",
      " 1700  17000 1.339453798684067e-01 4.9e+02 4.45e+00  1e+00  1e+01 0:27.1\n",
      " 1800  18000 1.339453791942090e-01 4.9e+03 9.11e+00  1e+00  3e+01 0:29.1\n",
      " 1900  19000 1.339453788475264e-01 6.7e+03 6.78e+00  4e-01  2e+01 0:30.4\n",
      " 2000  20000 1.339453787865115e-01 3.4e+04 1.02e+01  4e-01  2e+01 0:32.0\n",
      "Iterat #Fevals   function value  axis ratio  sigma  min&max std  t[m:s]\n",
      " 2100  21000 1.339453787373381e-01 7.1e+04 1.22e+01  2e-01  2e+01 0:34.5\n",
      " 2200  22000 1.339453786817542e-01 5.0e+04 4.37e+01  4e-01  3e+01 0:36.2\n",
      " 2230  22300 1.339453786738949e-01 5.6e+04 2.88e+01  2e-01  2e+01 0:36.8\n"
     ]
    },
    {
     "name": "stderr",
     "output_type": "stream",
     "text": [
      "reconstraining parameters GP_regression.Mat52.lengthscale\n",
      "reconstraining parameters GP_regression.Mat52.variance\n",
      "reconstraining parameters GP_regression.Gaussian_noise.variance\n"
     ]
    },
    {
     "name": "stdout",
     "output_type": "stream",
     "text": [
      "termination on tolfun=1e-11 (Wed Oct  7 22:11:19 2020)\n",
      "final/bestever f-value = 1.339454e-01 1.339454e-01\n",
      "incumbent solution: [4.999999981640181, -0.4364519979440953, 88.22344257068471, -3.926185110467486, 0.6597303959530105, -1.3160197262154725, 94.44625798346533, -2.777371101956305]\n",
      "std deviation: [3.0501101768397696, 16.93222561743651, 0.2006968126524752, 0.5069121618998349, 1.5009663824111166, 0.2480840726828412, 0.5189161216339331, 1.8616464991895953]\n",
      "Optimization restart 1/10, f = 72.14785993562741\n",
      "Optimization restart 2/10, f = 72.14785994100731\n",
      "Optimization restart 3/10, f = 72.14785993251652\n",
      "Optimization restart 4/10, f = 72.14785994206159\n",
      "Optimization restart 5/10, f = 72.14785993238962\n",
      "Optimization restart 6/10, f = 258.462413338606\n",
      "Optimization restart 7/10, f = 473.9538040396573\n",
      "Optimization restart 8/10, f = 473.9538032979331\n",
      "Optimization restart 9/10, f = 72.14785993154567\n"
     ]
    },
    {
     "name": "stderr",
     "output_type": "stream",
     "text": [
      "reconstraining parameters GP_regression.Mat52.lengthscale\n",
      "reconstraining parameters GP_regression.Mat52.variance\n",
      "reconstraining parameters GP_regression.Gaussian_noise.variance\n"
     ]
    },
    {
     "name": "stdout",
     "output_type": "stream",
     "text": [
      "Optimization restart 10/10, f = 258.498347147045\n",
      "Optimization restart 1/10, f = 78.98947274098231\n",
      "Optimization restart 2/10, f = 473.9538040469459\n",
      "Optimization restart 3/10, f = 78.98947274045544\n",
      "Optimization restart 4/10, f = 78.98947274018099\n",
      "Optimization restart 5/10, f = 78.98947273824827\n",
      "Optimization restart 6/10, f = 78.98947273892757\n",
      "Optimization restart 7/10, f = 260.5084575653074\n",
      "Optimization restart 8/10, f = 78.98947273921142\n",
      "Optimization restart 9/10, f = 78.98947274196422\n",
      "Optimization restart 10/10, f = 78.98947274230335\n",
      "(5_w,10)-aCMA-ES (mu_w=3.2,w_1=45%) in dimension 8 (seed=121357, Wed Oct  7 22:11:26 2020)\n",
      "Iterat #Fevals   function value  axis ratio  sigma  min&max std  t[m:s]\n",
      "    1     10 6.215275645608975e-01 1.0e+00 2.53e-01  2e-01  3e-01 0:00.0\n",
      "    2     20 6.215275645591315e-01 1.2e+00 2.74e-01  3e-01  3e-01 0:00.0\n",
      "termination on tolfun=1e-11 (Wed Oct  7 22:11:26 2020)\n",
      "final/bestever f-value = 6.215276e-01 6.215276e-01\n",
      "incumbent solution: [2.9361738377586644, 0.6832963077006295, 161.808865007896, -1.9400108720710598, -1.968436783061202, 2.725946186741523, 219.7751895970249, -12.31282022583862]\n",
      "std deviation: [0.2637956072838611, 0.2740463370765399, 0.27376219800631285, 0.29740061370193743, 0.2892312979570124, 0.27759503788120166, 0.27408384606634334, 0.26097958949053046]\n"
     ]
    },
    {
     "name": "stderr",
     "output_type": "stream",
     "text": [
      "reconstraining parameters GP_regression.Mat52.lengthscale\n",
      "reconstraining parameters GP_regression.Mat52.variance\n",
      "reconstraining parameters GP_regression.Gaussian_noise.variance\n"
     ]
    },
    {
     "name": "stdout",
     "output_type": "stream",
     "text": [
      "Optimization restart 1/10, f = 73.66697845661085\n",
      "Optimization restart 2/10, f = 73.6669784610311\n",
      "Optimization restart 3/10, f = 73.66697845611533\n",
      "Optimization restart 4/10, f = 480.629211321324\n",
      "Optimization restart 5/10, f = 73.66697845950225\n",
      "Optimization restart 6/10, f = 73.66697846129937\n",
      "Optimization restart 7/10, f = 73.66697845500454\n"
     ]
    },
    {
     "name": "stderr",
     "output_type": "stream",
     "text": [
      "reconstraining parameters GP_regression.Mat52.lengthscale\n",
      "reconstraining parameters GP_regression.Mat52.variance\n",
      "reconstraining parameters GP_regression.Gaussian_noise.variance\n"
     ]
    },
    {
     "name": "stdout",
     "output_type": "stream",
     "text": [
      "Optimization restart 8/10, f = 73.66697846275429\n",
      "Optimization restart 9/10, f = 480.629211321324\n",
      "Optimization restart 10/10, f = 480.629211321324\n",
      "Optimization restart 1/10, f = 80.23977354204183\n",
      "Optimization restart 2/10, f = 80.23977354509879\n",
      "Optimization restart 3/10, f = 80.23977354502017\n",
      "Optimization restart 4/10, f = 480.62921132859094\n",
      "Optimization restart 5/10, f = 80.23977354699852\n",
      "Optimization restart 6/10, f = 265.849598480254\n",
      "Optimization restart 7/10, f = 80.2397735488058\n",
      "Optimization restart 8/10, f = 80.23977354311505\n",
      "Optimization restart 9/10, f = 80.23977354382446\n",
      "Optimization restart 10/10, f = 480.62921132859094\n",
      "(5_w,10)-aCMA-ES (mu_w=3.2,w_1=45%) in dimension 8 (seed=207918, Wed Oct  7 22:11:29 2020)\n",
      "Iterat #Fevals   function value  axis ratio  sigma  min&max std  t[m:s]\n",
      "    1     10 6.323816652914741e-01 1.0e+00 2.47e-01  2e-01  3e-01 0:00.0\n",
      "    2     20 6.323816652889297e-01 1.2e+00 2.42e-01  2e-01  2e-01 0:00.0\n",
      "    3     30 6.323816652863502e-01 1.2e+00 2.55e-01  2e-01  3e-01 0:00.1\n",
      "    4     40 6.323816652851461e-01 1.3e+00 2.88e-01  3e-01  3e-01 0:00.1\n",
      "termination on tolfun=1e-11 (Wed Oct  7 22:11:29 2020)\n",
      "final/bestever f-value = 6.323817e-01 6.323817e-01\n",
      "incumbent solution: [1.5843829735969353, 3.480324772232893, 288.554492942819, 12.803085943806193, 4.989238662957741, 0.9860710569674876, 94.80292112427736, 10.033375766240395]\n",
      "std deviation: [0.28750253824071226, 0.2762133081284893, 0.28395767452037896, 0.2857743243066133, 0.3211444815516439, 0.2791870548215642, 0.29072336449310443, 0.2985429654363409]\n"
     ]
    },
    {
     "name": "stderr",
     "output_type": "stream",
     "text": [
      "reconstraining parameters GP_regression.Mat52.lengthscale\n",
      "reconstraining parameters GP_regression.Mat52.variance\n",
      "reconstraining parameters GP_regression.Gaussian_noise.variance\n"
     ]
    },
    {
     "name": "stdout",
     "output_type": "stream",
     "text": [
      "Optimization restart 1/10, f = 75.1591629842532\n",
      "Optimization restart 2/10, f = 75.15916297975252\n",
      "Optimization restart 3/10, f = 75.1591629787341\n",
      "Optimization restart 4/10, f = 75.15916297867102\n",
      "Optimization restart 5/10, f = 75.15916298643941\n",
      "Optimization restart 6/10, f = 75.15916298269498\n",
      "Optimization restart 7/10, f = 271.18566506045715\n",
      "Optimization restart 8/10, f = 75.15916297568766\n"
     ]
    },
    {
     "name": "stderr",
     "output_type": "stream",
     "text": [
      "reconstraining parameters GP_regression.Mat52.lengthscale\n",
      "reconstraining parameters GP_regression.Mat52.variance\n",
      "reconstraining parameters GP_regression.Gaussian_noise.variance\n"
     ]
    },
    {
     "name": "stdout",
     "output_type": "stream",
     "text": [
      "Optimization restart 9/10, f = 75.15916297751298\n",
      "Optimization restart 10/10, f = 75.15916299025403\n",
      "Optimization restart 1/10, f = 81.32695348134494\n",
      "Optimization restart 2/10, f = 2606782411.471639\n",
      "Optimization restart 3/10, f = 81.32695348156832\n",
      "Optimization restart 4/10, f = 81.32695348132643\n",
      "Optimization restart 5/10, f = 3645995.465096441\n",
      "Optimization restart 6/10, f = 81.32695348194461\n",
      "Optimization restart 7/10, f = 81.32695347971045\n",
      "Optimization restart 8/10, f = 2601804841.890178\n",
      "Optimization restart 9/10, f = 3645995.465096441\n",
      "Optimization restart 10/10, f = 487.304612511444\n",
      "(5_w,10)-aCMA-ES (mu_w=3.2,w_1=45%) in dimension 8 (seed=134425, Wed Oct  7 22:11:32 2020)\n",
      "Iterat #Fevals   function value  axis ratio  sigma  min&max std  t[m:s]\n",
      "    1     10 6.439473090836058e-01 1.0e+00 2.53e-01  2e-01  3e-01 0:00.0\n",
      "    2     20 6.439473090045323e-01 1.3e+00 2.76e-01  3e-01  3e-01 0:00.0\n",
      "    3     30 6.439473089845950e-01 1.4e+00 3.30e-01  3e-01  4e-01 0:00.1\n",
      "  100   1000 6.073043257792993e-01 1.2e+01 1.17e+00  3e-01  2e+00 0:01.7\n",
      "  200   2000 4.044684566500653e-01 2.3e+02 2.04e-01  1e-02  3e-01 0:03.4\n",
      "  300   3000 4.035542202157355e-01 6.9e+03 5.59e-03  2e-04  7e-03 0:04.6\n",
      "  400   4000 4.035538881560732e-01 2.5e+05 3.57e-04  8e-06  3e-04 0:05.9\n"
     ]
    },
    {
     "name": "stderr",
     "output_type": "stream",
     "text": [
      " /home/finley/miniconda3/envs/testsuite/lib/python3.8/site-packages/cma/utilities/utils.py:329: UserWarning:\n",
      "        geno-pheno transformation introduced based on the\n",
      "        current covariance matrix with condition 1.0e+12 -> 1.0e+00,\n",
      "        injected solutions become \"invalid\" in this iteration (class=CMAEvolutionStrategy method=alleviate_conditioning iteration=445)\n"
     ]
    },
    {
     "name": "stdout",
     "output_type": "stream",
     "text": [
      "  500   5000 4.035538873740366e-01 8.4e+00 3.47e-05  2e-05  4e-05 0:07.2\n",
      "  504   5040 4.035538873738683e-01 8.3e+00 3.45e-05  2e-05  4e-05 0:07.2\n",
      "termination on tolfun=1e-11 (Wed Oct  7 22:11:40 2020)\n",
      "final/bestever f-value = 4.035539e-01 4.035539e-01\n",
      "incumbent solution: [-1.3875080621022757, 3.131874942444119, 157.64268035208806, 4.94394374100375, 2.6399014441303734, -2.9973818596103197, 238.35632241290295, -6.958733532665065]\n",
      "std deviation: [1.968844280520569e-05, 3.762014007848559e-05, 2.2928840823567508e-05, 2.4293856927280182e-05, 2.792885609846426e-05, 3.5969387430632126e-05, 2.8447042504037308e-05, 2.9905119069400636e-05]\n"
     ]
    },
    {
     "name": "stderr",
     "output_type": "stream",
     "text": [
      "reconstraining parameters GP_regression.Mat52.lengthscale\n",
      "reconstraining parameters GP_regression.Mat52.variance\n",
      "reconstraining parameters GP_regression.Gaussian_noise.variance\n"
     ]
    },
    {
     "name": "stdout",
     "output_type": "stream",
     "text": [
      "Optimization restart 1/10, f = 76.45365251893405\n",
      "Optimization restart 2/10, f = 76.45365251702634\n",
      "Optimization restart 3/10, f = 76.45365252675646\n",
      "Optimization restart 4/10, f = 273.14143742288275\n",
      "Optimization restart 5/10, f = 76.45365251667434\n",
      "Optimization restart 6/10, f = 493.9800203367372\n",
      "Optimization restart 7/10, f = 76.45365251794153\n"
     ]
    },
    {
     "name": "stderr",
     "output_type": "stream",
     "text": [
      "reconstraining parameters GP_regression.Mat52.lengthscale\n",
      "reconstraining parameters GP_regression.Mat52.variance\n",
      "reconstraining parameters GP_regression.Gaussian_noise.variance\n"
     ]
    },
    {
     "name": "stdout",
     "output_type": "stream",
     "text": [
      "Optimization restart 8/10, f = 76.45365252683249\n",
      "Optimization restart 9/10, f = 273.1414586239811\n",
      "Optimization restart 10/10, f = 76.45365252249618\n",
      "Optimization restart 1/10, f = 83.30523285657208\n",
      "Optimization restart 2/10, f = 83.30523285728327\n",
      "Optimization restart 3/10, f = 3695941.785251745\n",
      "Optimization restart 4/10, f = 83.30523285598557\n",
      "Optimization restart 5/10, f = 493.98002034371444\n",
      "Optimization restart 6/10, f = 493.98002034371444\n",
      "Optimization restart 7/10, f = 493.98002034371444\n",
      "Optimization restart 8/10, f = 83.30523285572076\n",
      "Optimization restart 9/10, f = 83.30523285653251\n",
      "Optimization restart 10/10, f = 83.30523285758318\n",
      "(5_w,10)-aCMA-ES (mu_w=3.2,w_1=45%) in dimension 8 (seed=210632, Wed Oct  7 22:11:42 2020)\n",
      "Iterat #Fevals   function value  axis ratio  sigma  min&max std  t[m:s]\n",
      "    1     10 6.391773979537875e-01 1.0e+00 2.26e-01  2e-01  2e-01 0:00.0\n",
      "termination on tolfun=1e-11 (Wed Oct  7 22:11:43 2020)\n",
      "final/bestever f-value = 6.391774e-01 6.391774e-01\n",
      "incumbent solution: [4.380481933623035, -0.400590924429158, 171.2586977608437, 15.641322643095615, -3.629261248015792, -3.3119407647105636, 198.39339018627317, 8.752556450402986]\n",
      "std deviation: [0.22415106157843145, 0.22630337508847229, 0.22340109781684467, 0.2233611522039303, 0.22108732692313, 0.21296215015421407, 0.22087079296805034, 0.2305222558608019]\n"
     ]
    },
    {
     "name": "stderr",
     "output_type": "stream",
     "text": [
      "reconstraining parameters GP_regression.Mat52.lengthscale\n",
      "reconstraining parameters GP_regression.Mat52.variance\n",
      "reconstraining parameters GP_regression.Gaussian_noise.variance\n"
     ]
    },
    {
     "name": "stdout",
     "output_type": "stream",
     "text": [
      "Optimization restart 1/10, f = 78.00409736107048\n",
      "Optimization restart 2/10, f = 78.00409735993173\n",
      "Optimization restart 3/10, f = 78.00409736384096\n",
      "Optimization restart 4/10, f = 78.00409736706709\n",
      "Optimization restart 5/10, f = 279.1796030106745\n",
      "Optimization restart 6/10, f = 78.00409736108557\n",
      "Optimization restart 7/10, f = 78.00409736137286\n",
      "Optimization restart 8/10, f = 279.1796025461045\n",
      "Optimization restart 9/10, f = 78.00409736201843\n"
     ]
    },
    {
     "name": "stderr",
     "output_type": "stream",
     "text": [
      "reconstraining parameters GP_regression.Mat52.lengthscale\n",
      "reconstraining parameters GP_regression.Mat52.variance\n",
      "reconstraining parameters GP_regression.Gaussian_noise.variance\n"
     ]
    },
    {
     "name": "stdout",
     "output_type": "stream",
     "text": [
      "Optimization restart 10/10, f = 78.00409735563599\n",
      "Optimization restart 1/10, f = 84.6304072652816\n",
      "Optimization restart 2/10, f = 279.27843535077545\n",
      "Optimization restart 3/10, f = 84.63040726520384\n",
      "Optimization restart 4/10, f = 84.63040726376238\n",
      "Optimization restart 5/10, f = 84.63040726562465\n",
      "Optimization restart 6/10, f = 106.42027945372487\n",
      "Optimization restart 7/10, f = 2690039925.43973\n",
      "Optimization restart 8/10, f = 84.63040726479258\n",
      "Optimization restart 9/10, f = 2686615003.362096\n",
      "Optimization restart 10/10, f = 84.63040726712293\n",
      "(5_w,10)-aCMA-ES (mu_w=3.2,w_1=45%) in dimension 8 (seed=227902, Wed Oct  7 22:11:46 2020)\n",
      "Iterat #Fevals   function value  axis ratio  sigma  min&max std  t[m:s]\n",
      "    1     10 6.391880252885875e-01 1.0e+00 2.45e-01  2e-01  2e-01 0:00.0\n",
      "    2     20 6.391880248387446e-01 1.3e+00 2.79e-01  3e-01  3e-01 0:00.0\n",
      "    3     30 6.391880238840649e-01 1.4e+00 3.26e-01  3e-01  3e-01 0:00.1\n",
      "  100   1000 2.981930017431705e-01 2.7e+01 1.08e+00  2e-01  3e+00 0:01.6\n",
      "  200   2000 1.272352349104848e-01 1.1e+02 1.86e-02  8e-04  3e-02 0:03.2\n",
      "  300   3000 1.272259338714438e-01 3.3e+03 5.21e-04  2e-05  3e-04 0:04.4\n",
      "  400   4000 1.272259295349875e-01 1.4e+05 1.60e-05  2e-07  7e-06 0:06.6\n",
      "  422   4220 1.272259295333300e-01 3.3e+05 8.00e-06  8e-08  3e-06 0:07.0\n"
     ]
    },
    {
     "name": "stderr",
     "output_type": "stream",
     "text": [
      "reconstraining parameters GP_regression.Mat52.lengthscale\n",
      "reconstraining parameters GP_regression.Mat52.variance\n",
      "reconstraining parameters GP_regression.Gaussian_noise.variance\n"
     ]
    },
    {
     "name": "stdout",
     "output_type": "stream",
     "text": [
      "termination on tolfun=1e-11 (Wed Oct  7 22:11:54 2020)\n",
      "final/bestever f-value = 1.272259e-01 1.272259e-01\n",
      "incumbent solution: [-1.49103102992511, 3.099249927436981, 156.2269411220776, 4.698402916504505, 2.734116105380274, -2.9821713970573107, 241.33977654895952, -6.802000947487916]\n",
      "std deviation: [7.688779731005233e-08, 1.6591666647028746e-07, 2.3092813356081483e-06, 4.1775943008881373e-07, 1.2907679739605618e-07, 1.083691505164218e-07, 3.134569850929043e-06, 3.953493187133897e-07]\n",
      "Optimization restart 1/10, f = 78.38905951437965\n",
      "Optimization restart 2/10, f = 78.38905950991824\n",
      "Optimization restart 3/10, f = 78.38905951856697\n",
      "Optimization restart 4/10, f = 507.3308303017145\n",
      "Optimization restart 5/10, f = 279.91388733606516\n",
      "Optimization restart 6/10, f = 279.9119123851367\n",
      "Optimization restart 7/10, f = 78.38905952049996\n",
      "Optimization restart 8/10, f = 107.83054483000271\n",
      "Optimization restart 9/10, f = 78.38905950758655\n"
     ]
    },
    {
     "name": "stderr",
     "output_type": "stream",
     "text": [
      "reconstraining parameters GP_regression.Mat52.lengthscale\n",
      "reconstraining parameters GP_regression.Mat52.variance\n",
      "reconstraining parameters GP_regression.Gaussian_noise.variance\n"
     ]
    },
    {
     "name": "stdout",
     "output_type": "stream",
     "text": [
      "Optimization restart 10/10, f = 78.3890595233508\n",
      "Optimization restart 1/10, f = 86.45212925862637\n",
      "Optimization restart 2/10, f = 86.45212925638941\n",
      "Optimization restart 3/10, f = 86.45212925612304\n",
      "Optimization restart 4/10, f = 86.45212925275423\n",
      "Optimization restart 5/10, f = 86.4521292539304\n",
      "Optimization restart 6/10, f = 86.45212925766609\n",
      "Optimization restart 7/10, f = 86.45212925513994\n",
      "Optimization restart 8/10, f = 2750808337.810397\n",
      "Optimization restart 9/10, f = 86.4521292556241\n",
      "Optimization restart 10/10, f = 86.45212925391962\n",
      "(5_w,10)-aCMA-ES (mu_w=3.2,w_1=45%) in dimension 8 (seed=211224, Wed Oct  7 22:11:57 2020)\n",
      "Iterat #Fevals   function value  axis ratio  sigma  min&max std  t[m:s]\n",
      "    1     10 6.294264175708782e-01 1.0e+00 2.32e-01  2e-01  2e-01 0:00.0\n",
      "    2     20 6.294264173162435e-01 1.2e+00 2.31e-01  2e-01  2e-01 0:00.0\n",
      "    3     30 6.294264172740693e-01 1.3e+00 2.42e-01  2e-01  3e-01 0:00.1\n",
      "  100   1000 5.526358503694782e-01 2.5e+01 3.36e+00  5e-01  1e+01 0:01.6\n",
      "  200   2000 3.216049186884539e-01 1.7e+02 9.18e-02  6e-03  2e-01 0:02.9\n",
      "  300   3000 3.180248290379729e-01 3.4e+02 1.28e-01  5e-03  1e-01 0:04.4\n",
      "  400   4000 3.147678511843799e-01 3.3e+02 4.92e-01  8e-03  2e-01 0:05.7\n",
      "  500   5000 3.126030429008037e-01 7.4e+02 7.10e-01  5e-03  1e-01 0:07.4\n",
      "  600   6000 3.122570181281263e-01 1.2e+03 6.51e-01  2e-03  5e-02 0:09.0\n",
      "  700   7000 3.121205657526433e-01 2.4e+03 4.48e-01  5e-04  2e-02 0:10.5\n",
      "  800   8000 3.120402270457539e-01 2.5e+03 2.62e+00  1e-03  4e-02 0:11.7\n",
      "  900   9000 3.120013488096576e-01 3.6e+03 3.13e+00  8e-04  2e-02 0:12.9\n",
      " 1000  10000 3.119851720300010e-01 6.7e+03 3.21e+00  4e-04  1e-02 0:14.4\n",
      "Iterat #Fevals   function value  axis ratio  sigma  min&max std  t[m:s]\n",
      " 1100  11000 3.119752187247966e-01 4.8e+03 1.13e+01  7e-04  2e-02 0:16.2\n",
      " 1200  12000 3.119674737542256e-01 1.1e+04 5.89e+00  1e-04  5e-03 0:17.5\n",
      " 1300  13000 3.119630091579870e-01 8.7e+03 2.75e+01  3e-04  7e-03 0:18.7\n",
      " 1400  14000 3.119603158824067e-01 9.0e+03 7.02e+01  3e-04  7e-03 0:19.8\n",
      " 1500  15000 3.119586468224615e-01 2.1e+04 7.49e+01  1e-04  4e-03 0:21.4\n",
      " 1600  16000 3.119573323614001e-01 1.7e+04 1.68e+02  1e-04  4e-03 0:22.6\n",
      " 1700  17000 3.119566081454687e-01 3.0e+04 2.03e+02  8e-05  2e-03 0:24.1\n",
      " 1800  18000 3.119561348488428e-01 3.2e+04 2.77e+02  4e-05  1e-03 0:25.3\n",
      " 1900  19000 3.119558393584694e-01 3.4e+04 1.07e+03  7e-05  2e-03 0:26.5\n",
      " 2000  20000 3.119556564523627e-01 4.9e+04 2.07e+03  5e-05  2e-03 0:28.0\n",
      "Iterat #Fevals   function value  axis ratio  sigma  min&max std  t[m:s]\n",
      " 2100  21000 3.119555093005630e-01 4.8e+04 4.77e+03  5e-05  2e-03 0:29.2\n",
      " 2200  22000 3.119554383738533e-01 6.5e+04 3.76e+03  2e-05  7e-04 0:30.4\n",
      " 2300  23000 3.119554115049872e-01 1.5e+05 4.07e+03  1e-05  3e-04 0:32.0\n",
      " 2400  24000 3.119553894936948e-01 1.1e+05 1.61e+04  2e-05  6e-04 0:33.3\n",
      " 2500  25000 3.119553767626460e-01 2.1e+05 1.20e+04  6e-06  2e-04 0:34.7\n",
      " 2600  26000 3.119553696758410e-01 2.8e+05 3.14e+04  8e-06  2e-04 0:36.1\n",
      " 2700  27000 3.119553624464275e-01 2.0e+05 1.23e+05  1e-05  4e-04 0:37.6\n",
      " 2800  28000 3.119553576692320e-01 3.8e+05 1.49e+05  7e-06  2e-04 0:38.9\n",
      " 2900  29000 3.119553546977440e-01 3.4e+05 3.29e+05  8e-06  2e-04 0:40.2\n",
      " 3000  30000 3.119553528578525e-01 5.4e+05 5.73e+05  6e-06  2e-04 0:41.8\n",
      "Iterat #Fevals   function value  axis ratio  sigma  min&max std  t[m:s]\n",
      " 3100  31000 3.119553515343358e-01 5.1e+05 1.42e+06  6e-06  2e-04 0:43.0\n",
      " 3200  32000 3.119553507147028e-01 8.4e+05 9.74e+05  2e-06  6e-05 0:44.6\n",
      " 3223  32230 3.119553506285567e-01 1.0e+00 1.35e+06  1e+06  1e+06 0:44.9\n"
     ]
    },
    {
     "name": "stderr",
     "output_type": "stream",
     "text": [
      " /home/finley/miniconda3/envs/testsuite/lib/python3.8/site-packages/cma/utilities/utils.py:329: UserWarning:\n",
      "        geno-pheno transformation introduced based on the\n",
      "        current covariance matrix with condition 1.0e+12 -> 1.0e+00,\n",
      "        injected solutions become \"invalid\" in this iteration (class=CMAEvolutionStrategy method=alleviate_conditioning iteration=3222)\n",
      "reconstraining parameters GP_regression.Mat52.lengthscale\n",
      "reconstraining parameters GP_regression.Mat52.variance\n",
      "reconstraining parameters GP_regression.Gaussian_noise.variance\n"
     ]
    },
    {
     "name": "stdout",
     "output_type": "stream",
     "text": [
      "termination on tolfacupx=1000.0 (Wed Oct  7 22:12:48 2020)\n",
      "final/bestever f-value = 3.119554e-01 3.119554e-01\n",
      "incumbent solution: [2.0359596541784413, 3.040280353761773, 93.9645008167272, 3.403477074170951, 0.08540153501235181, -0.20439333247122704, 125.4554270467197, 0.6828634711710038]\n",
      "std deviation: [1343638.472753907, 1360751.2025374293, 1341455.3474468756, 1314525.691756103, 1285077.9057923243, 1377686.0769102508, 1332449.6764551762, 1352622.518260361]\n",
      "Optimization restart 1/10, f = 79.64745882070693\n",
      "Optimization restart 2/10, f = 79.64745881819897\n",
      "Optimization restart 3/10, f = 79.64745880879147\n",
      "Optimization restart 4/10, f = 79.64745881341793\n",
      "Optimization restart 5/10, f = 79.64745882546288\n",
      "Optimization restart 6/10, f = 79.647458813936\n",
      "Optimization restart 7/10, f = 79.64745881121753\n",
      "Optimization restart 8/10, f = 281.0135144659442\n",
      "Optimization restart 9/10, f = 514.006239850993\n"
     ]
    },
    {
     "name": "stderr",
     "output_type": "stream",
     "text": [
      "reconstraining parameters GP_regression.Mat52.lengthscale\n",
      "reconstraining parameters GP_regression.Mat52.variance\n",
      "reconstraining parameters GP_regression.Gaussian_noise.variance\n"
     ]
    },
    {
     "name": "stdout",
     "output_type": "stream",
     "text": [
      "Optimization restart 10/10, f = 79.6474588112409\n",
      "Optimization restart 1/10, f = 88.55042642440941\n",
      "Optimization restart 2/10, f = 287.886186934555\n",
      "Optimization restart 3/10, f = 3845778.107396362\n",
      "Optimization restart 4/10, f = 514.0062398571507\n",
      "Optimization restart 5/10, f = 514.0062398571507\n",
      "Optimization restart 6/10, f = 2801646815.730179\n",
      "Optimization restart 7/10, f = 2805295528.876397\n",
      "Optimization restart 8/10, f = 2802456902.277134\n",
      "Optimization restart 9/10, f = 2804004385.063679\n",
      "Optimization restart 10/10, f = 88.55042642833811\n",
      "(5_w,10)-aCMA-ES (mu_w=3.2,w_1=45%) in dimension 8 (seed=147348, Wed Oct  7 22:12:51 2020)\n",
      "Iterat #Fevals   function value  axis ratio  sigma  min&max std  t[m:s]\n",
      "    1     10 6.270270497422944e-01 1.0e+00 2.46e-01  2e-01  3e-01 0:00.0\n",
      "    2     20 6.270263087838757e-01 1.2e+00 2.95e-01  3e-01  3e-01 0:00.0\n",
      "    3     30 6.270255836070121e-01 1.3e+00 3.54e-01  3e-01  4e-01 0:00.0\n",
      "  100   1000 5.952397814506859e-01 4.5e+01 4.04e-01  4e-02  2e+00 0:01.8\n",
      "  200   2000 5.944181023380227e-01 1.9e+03 1.67e-02  8e-04  5e-02 0:03.2\n",
      "  300   3000 5.944179593254604e-01 2.2e+04 1.29e-03  6e-05  2e-03 0:04.4\n",
      "  400   4000 5.944179584024117e-01 4.7e+05 1.80e-04  4e-06  2e-04 0:05.7\n",
      "  436   4360 5.944179583928295e-01 4.2e+00 7.30e-05  5e-05  1e-04 0:06.4\n"
     ]
    },
    {
     "name": "stderr",
     "output_type": "stream",
     "text": [
      "reconstraining parameters GP_regression.Mat52.lengthscale\n",
      "reconstraining parameters GP_regression.Mat52.variance\n",
      "reconstraining parameters GP_regression.Gaussian_noise.variance\n"
     ]
    },
    {
     "name": "stdout",
     "output_type": "stream",
     "text": [
      "termination on tolfun=1e-11 (Wed Oct  7 22:12:58 2020)\n",
      "final/bestever f-value = 5.944180e-01 5.944180e-01\n",
      "incumbent solution: [2.11094201529761, 3.510063540665783, 294.3335900585538, 12.897601791157058, 4.851979007919679, 0.8836079199298439, 80.7181889237836, 9.964397683232619]\n",
      "std deviation: [4.9548677463955317e-05, 6.452196728677874e-05, 6.315033079047606e-05, 6.506895438322732e-05, 6.463045051333021e-05, 0.00010560443270479413, 8.087684469475543e-05, 5.879181925184949e-05]\n",
      "Optimization restart 1/10, f = 81.00321354282018\n",
      "Optimization restart 2/10, f = 285.71192190196984\n",
      "Optimization restart 3/10, f = 285.711922545029\n",
      "Optimization restart 4/10, f = 81.00321355009032\n",
      "Optimization restart 5/10, f = 81.00321354453203\n",
      "Optimization restart 6/10, f = 81.00321354484137\n",
      "Optimization restart 7/10, f = 81.00321354080842\n",
      "Optimization restart 8/10, f = 3895656.4711505156\n",
      "Optimization restart 9/10, f = 1537225232.1277742\n"
     ]
    },
    {
     "name": "stderr",
     "output_type": "stream",
     "text": [
      "reconstraining parameters GP_regression.Mat52.lengthscale\n",
      "reconstraining parameters GP_regression.Mat52.variance\n",
      "reconstraining parameters GP_regression.Gaussian_noise.variance\n"
     ]
    },
    {
     "name": "stdout",
     "output_type": "stream",
     "text": [
      "Optimization restart 10/10, f = 81.00321354416376\n",
      "Optimization restart 1/10, f = 88.95498534408048\n",
      "Optimization restart 2/10, f = 290.80772564869807\n",
      "Optimization restart 3/10, f = 110.6770901821368\n",
      "Optimization restart 4/10, f = 88.95498534399486\n",
      "Optimization restart 5/10, f = 2769936479.502526\n",
      "Optimization restart 6/10, f = 88.95498534802539\n",
      "Optimization restart 7/10, f = 88.95498534598244\n",
      "Optimization restart 8/10, f = 290.7937739201462\n",
      "Optimization restart 9/10, f = 110.67709000541718\n",
      "Optimization restart 10/10, f = 520.6816420218202\n",
      "(5_w,10)-aCMA-ES (mu_w=3.2,w_1=45%) in dimension 8 (seed=249754, Wed Oct  7 22:13:01 2020)\n",
      "Iterat #Fevals   function value  axis ratio  sigma  min&max std  t[m:s]\n",
      "    1     10 6.290220876361096e-01 1.0e+00 2.38e-01  2e-01  3e-01 0:00.0\n",
      "    2     20 6.290220800359049e-01 1.2e+00 2.43e-01  2e-01  3e-01 0:00.1\n",
      "    3     30 6.290220759758836e-01 1.3e+00 2.58e-01  2e-01  3e-01 0:00.1\n",
      "  100   1000 4.304405631668050e-01 3.0e+01 6.78e-01  1e-01  2e+00 0:01.8\n",
      "  200   2000 2.982853455285663e-01 8.9e+01 2.08e-01  8e-03  4e-01 0:03.1\n",
      "  300   3000 2.978480272735945e-01 1.5e+03 1.20e-02  3e-04  1e-02 0:04.9\n",
      "  400   4000 2.978264877424263e-01 3.5e+03 1.47e-02  2e-04  7e-03 0:06.6\n",
      "  500   5000 2.978150946171779e-01 2.7e+03 1.06e-01  6e-04  2e-02 0:07.8\n",
      "  600   6000 2.978023156815233e-01 4.4e+03 1.02e-01  3e-04  1e-02 0:09.4\n",
      "  700   7000 2.977902685058035e-01 4.1e+03 3.38e-01  4e-04  1e-02 0:10.9\n",
      "  800   8000 2.977808088718399e-01 5.3e+03 6.35e-01  4e-04  1e-02 0:12.5\n",
      "  900   9000 2.977731729810876e-01 6.3e+03 2.26e+00  6e-04  2e-02 0:14.0\n",
      " 1000  10000 2.977637383709782e-01 3.5e+03 6.02e+00  6e-04  2e-02 0:15.3\n",
      "Iterat #Fevals   function value  axis ratio  sigma  min&max std  t[m:s]\n",
      " 1100  11000 2.977531846539954e-01 4.6e+03 9.02e+00  5e-04  2e-02 0:16.8\n",
      " 1200  12000 2.977435129990156e-01 5.2e+03 1.24e+01  2e-04  1e-02 0:18.0\n",
      " 1300  13000 2.977339766698037e-01 3.0e+03 3.19e+01  3e-04  9e-03 0:19.4\n",
      " 1400  14000 2.977296866257761e-01 7.3e+03 4.84e+01  2e-04  6e-03 0:20.9\n",
      " 1500  15000 2.977221997246400e-01 5.2e+03 2.42e+02  4e-04  1e-02 0:22.3\n",
      " 1600  16000 2.977117352320870e-01 3.4e+03 4.98e+02  4e-04  1e-02 0:23.8\n",
      " 1700  17000 2.977043343785607e-01 6.0e+03 6.16e+02  2e-04  8e-03 0:25.1\n",
      " 1800  18000 2.976992539668744e-01 6.2e+03 1.78e+03  3e-04  8e-03 0:26.7\n",
      " 1900  19000 2.976919220406793e-01 5.0e+03 5.51e+03  3e-04  9e-03 0:28.3\n",
      " 2000  20000 2.976860746320988e-01 5.2e+03 7.77e+03  2e-04  6e-03 0:29.5\n",
      "Iterat #Fevals   function value  axis ratio  sigma  min&max std  t[m:s]\n",
      " 2100  21000 2.976815335124048e-01 5.3e+03 3.69e+04  5e-04  1e-02 0:30.7\n",
      " 2200  22000 2.976776129182963e-01 6.9e+03 2.26e+04  1e-04  3e-03 0:32.1\n",
      " 2300  23000 2.976745417228277e-01 9.0e+03 7.11e+04  1e-04  5e-03 0:37.2\n",
      " 2400  24000 2.976714387234103e-01 6.0e+03 4.74e+05  4e-04  1e-02 0:39.2\n",
      " 2500  25000 2.976671226284860e-01 6.2e+03 5.90e+05  2e-04  6e-03 0:40.5\n",
      " 2600  26000 2.976638856049578e-01 9.0e+03 1.22e+06  2e-04  7e-03 0:42.6\n",
      " 2700  27000 2.976613890274058e-01 8.1e+03 1.20e+06  7e-05  2e-03 0:44.2\n",
      " 2800  28000 2.976590809616199e-01 1.3e+04 4.24e+06  1e-04  5e-03 0:45.5\n",
      " 2900  29000 2.976563981248561e-01 5.9e+03 2.04e+07  3e-04  9e-03 0:47.6\n",
      " 3000  30000 2.976527210221939e-01 5.4e+03 4.23e+07  3e-04  8e-03 0:49.4\n",
      "Iterat #Fevals   function value  axis ratio  sigma  min&max std  t[m:s]\n",
      " 3100  31000 2.976502940390269e-01 9.1e+03 6.44e+07  1e-04  6e-03 0:51.1\n",
      " 3200  32000 2.976478284964859e-01 7.6e+03 1.54e+08  1e-04  6e-03 0:52.8\n",
      " 3300  33000 2.976453212862677e-01 6.0e+03 2.50e-01  3e-04  1e-02 0:54.9\n",
      " 3400  34000 2.976431243448973e-01 8.2e+03 3.03e-01  2e-04  5e-03 0:56.6\n",
      " 3500  35000 2.976412549080272e-01 1.0e+04 7.73e-01  2e-04  6e-03 0:57.9\n",
      " 3600  36000 2.976397741323313e-01 1.0e+04 1.23e+00  1e-04  3e-03 0:59.7\n",
      " 3700  37000 2.976386756471551e-01 1.2e+04 3.27e+00  2e-04  5e-03 1:01.0\n",
      " 3800  38000 2.976377590298838e-01 1.4e+04 3.27e+00  7e-05  2e-03 1:02.2\n",
      " 3900  39000 2.976365190667829e-01 9.7e+03 1.63e+01  1e-04  4e-03 1:03.8\n",
      " 4000  40000 2.976351535851583e-01 1.1e+04 3.59e+01  1e-04  3e-03 1:05.0\n",
      "Iterat #Fevals   function value  axis ratio  sigma  min&max std  t[m:s]\n",
      " 4100  41000 2.976338183292070e-01 6.6e+03 1.24e+02  2e-04  5e-03 1:06.7\n",
      " 4200  42000 2.976328485506655e-01 1.3e+04 1.37e+02  9e-05  3e-03 1:08.0\n",
      " 4300  43000 2.976319869065936e-01 1.3e+04 3.24e+02  8e-05  3e-03 1:09.9\n",
      " 4400  44000 2.976312351913886e-01 8.6e+03 5.95e+02  7e-05  2e-03 1:11.1\n",
      " 4500  45000 2.976304216086515e-01 1.3e+04 3.27e+03  1e-04  5e-03 1:12.4\n",
      " 4596  45960 2.976296104957965e-01 1.1e+04 7.42e+03  2e-04  5e-03 1:14.0\n"
     ]
    },
    {
     "name": "stderr",
     "output_type": "stream",
     "text": [
      "reconstraining parameters GP_regression.Mat52.lengthscale\n",
      "reconstraining parameters GP_regression.Mat52.variance\n",
      "reconstraining parameters GP_regression.Gaussian_noise.variance\n"
     ]
    },
    {
     "name": "stdout",
     "output_type": "stream",
     "text": [
      "termination on tolupsigma=39463620378.18934 (Wed Oct  7 22:14:26 2020)\n",
      "final/bestever f-value = 2.976296e-01 2.976296e-01\n",
      "incumbent solution: [0.49775282638185964, 3.912343198753591, 91.51123192585979, 10.303964437050794, 0.3604394398596155, 2.634344855546607, 152.57399983896175, 12.085286238195815]\n",
      "std deviation: [0.00016667874115764905, 0.00020236261942208707, 0.005136053716644228, 0.0005106861994232907, 0.00023906340040887332, 0.00016501103015267748, 0.004516207761440248, 0.0008185277517539767]\n",
      "Optimization restart 1/10, f = 81.8380073285392\n",
      "Optimization restart 2/10, f = 81.83800733661327\n",
      "Optimization restart 3/10, f = 81.83800733700441\n",
      "Optimization restart 4/10, f = 81.83800733423794\n",
      "Optimization restart 5/10, f = 81.83800732957693\n",
      "Optimization restart 6/10, f = 81.8380073380265\n",
      "Optimization restart 7/10, f = 81.83800732669786\n",
      "Optimization restart 8/10, f = 81.8380073353228\n",
      "Optimization restart 9/10, f = 81.838007333035\n"
     ]
    },
    {
     "name": "stderr",
     "output_type": "stream",
     "text": [
      "reconstraining parameters GP_regression.Mat52.lengthscale\n",
      "reconstraining parameters GP_regression.Mat52.variance\n",
      "reconstraining parameters GP_regression.Gaussian_noise.variance\n"
     ]
    },
    {
     "name": "stdout",
     "output_type": "stream",
     "text": [
      "Optimization restart 10/10, f = 3803578.9218631787\n",
      "Optimization restart 1/10, f = 90.17569844639647\n",
      "Optimization restart 2/10, f = 90.17569844864413\n",
      "Optimization restart 3/10, f = 90.17569844346389\n",
      "Optimization restart 4/10, f = 3945663.6965539497\n",
      "Optimization restart 5/10, f = 292.6437090908155\n",
      "Optimization restart 6/10, f = 527.3570461310144\n",
      "Optimization restart 7/10, f = 90.17569844880717\n",
      "Optimization restart 8/10, f = 3945663.6965538315\n",
      "Optimization restart 9/10, f = 90.17569844816009\n",
      "Optimization restart 10/10, f = 527.3570461310144\n",
      "(5_w,10)-aCMA-ES (mu_w=3.2,w_1=45%) in dimension 8 (seed=133949, Wed Oct  7 22:14:30 2020)\n",
      "Iterat #Fevals   function value  axis ratio  sigma  min&max std  t[m:s]\n",
      "    1     10 6.194719887331429e-01 1.0e+00 2.49e-01  2e-01  3e-01 0:00.0\n",
      "    2     20 6.194719887323795e-01 1.3e+00 2.61e-01  3e-01  3e-01 0:00.0\n",
      "    3     30 6.194719887293896e-01 1.3e+00 2.60e-01  3e-01  3e-01 0:00.0\n",
      "    5     50 6.194719887258026e-01 1.4e+00 3.39e-01  3e-01  4e-01 0:00.1\n",
      "termination on tolfun=1e-11 (Wed Oct  7 22:14:30 2020)\n",
      "final/bestever f-value = 6.194720e-01 6.194720e-01\n",
      "incumbent solution: [4.474112727650313, -1.0258542500194638, 291.76089211589476, -9.701743439054388, 4.457769310246877, 0.08657093765382043, 265.2557699243435, 15.70717067126577]\n",
      "std deviation: [0.36236622041302746, 0.3470426269540518, 0.33268632376612967, 0.35247557052873757, 0.33841278579119516, 0.3667002026950696, 0.32943125718771576, 0.33177205795945186]\n"
     ]
    },
    {
     "name": "stderr",
     "output_type": "stream",
     "text": [
      "reconstraining parameters GP_regression.Mat52.lengthscale\n",
      "reconstraining parameters GP_regression.Mat52.variance\n",
      "reconstraining parameters GP_regression.Gaussian_noise.variance\n"
     ]
    },
    {
     "name": "stdout",
     "output_type": "stream",
     "text": [
      "Optimization restart 1/10, f = 83.18281177787833\n",
      "Optimization restart 2/10, f = 83.18281178791302\n",
      "Optimization restart 3/10, f = 83.18281176815373\n",
      "Optimization restart 4/10, f = 83.18281178461696\n",
      "Optimization restart 5/10, f = 83.18281177819546\n",
      "Optimization restart 6/10, f = 83.18281177688188\n",
      "Optimization restart 7/10, f = 83.18281178345714\n",
      "Optimization restart 8/10, f = 83.18281179118121\n",
      "Optimization restart 9/10, f = 83.18281178014993\n"
     ]
    },
    {
     "name": "stderr",
     "output_type": "stream",
     "text": [
      "reconstraining parameters GP_regression.Mat52.lengthscale\n",
      "reconstraining parameters GP_regression.Mat52.variance\n",
      "reconstraining parameters GP_regression.Gaussian_noise.variance\n"
     ]
    },
    {
     "name": "stdout",
     "output_type": "stream",
     "text": [
      "Optimization restart 10/10, f = 3995543.184239563\n",
      "Optimization restart 1/10, f = 91.51204858593323\n",
      "Optimization restart 2/10, f = 534.0324457734638\n",
      "Optimization restart 3/10, f = 298.8605497125852\n",
      "Optimization restart 4/10, f = 91.51204858532665\n",
      "Optimization restart 5/10, f = 3995605.9739201674\n",
      "Optimization restart 6/10, f = 2821648654.619006\n",
      "Optimization restart 7/10, f = 534.0324457734638\n",
      "Optimization restart 8/10, f = 91.5120485898162\n",
      "Optimization restart 9/10, f = 91.51204859113153\n",
      "Optimization restart 10/10, f = 91.51204858619688\n",
      "(5_w,10)-aCMA-ES (mu_w=3.2,w_1=45%) in dimension 8 (seed=279456, Wed Oct  7 22:14:32 2020)\n",
      "Iterat #Fevals   function value  axis ratio  sigma  min&max std  t[m:s]\n",
      "    1     10 6.258695822100477e-01 1.0e+00 2.65e-01  3e-01  3e-01 0:00.0\n",
      "    2     20 6.258695808571925e-01 1.3e+00 3.07e-01  3e-01  3e-01 0:00.0\n",
      "    3     30 6.258695802632455e-01 1.4e+00 3.70e-01  3e-01  4e-01 0:00.1\n",
      "  100   1000 1.343919321311969e-01 2.4e+01 3.96e-01  6e-02  1e+00 0:01.3\n",
      "  200   2000 -5.623495200057782e-06 3.4e+01 2.91e-03  1e-04  3e-03 0:03.4\n",
      "  273   2730 -5.629297157971891e-06 4.0e+01 1.55e-05  2e-07  7e-06 0:04.4\n"
     ]
    },
    {
     "name": "stderr",
     "output_type": "stream",
     "text": [
      "reconstraining parameters GP_regression.Mat52.lengthscale\n",
      "reconstraining parameters GP_regression.Mat52.variance\n",
      "reconstraining parameters GP_regression.Gaussian_noise.variance\n"
     ]
    },
    {
     "name": "stdout",
     "output_type": "stream",
     "text": [
      "termination on tolfun=1e-11 (Wed Oct  7 22:14:37 2020)\n",
      "final/bestever f-value = -5.629297e-06 -5.629297e-06\n",
      "incumbent solution: [-2.0447375575537565, 4.206359373946254, 38.40839767394836, -14.889446993715591, 0.3829851257858082, -4.466650169067814, 95.84130247965203, -13.189148616930153]\n",
      "std deviation: [2.0066182670148916e-07, 2.6626340934954295e-07, 5.857653809594356e-06, 8.025034572358761e-07, 1.931846321838824e-07, 2.3859448562263876e-07, 6.759492342661635e-06, 7.804708001438516e-07]\n",
      "Optimization restart 1/10, f = 80.56438607214959\n",
      "Optimization restart 2/10, f = 80.5643860793337\n",
      "Optimization restart 3/10, f = 80.56438607519144\n",
      "Optimization restart 4/10, f = 114.93319627848109\n",
      "Optimization restart 5/10, f = 292.3837367609475\n",
      "Optimization restart 6/10, f = 1597714562.6385722\n",
      "Optimization restart 7/10, f = 80.56438609141225\n",
      "Optimization restart 8/10, f = 80.56438607658306\n"
     ]
    },
    {
     "name": "stderr",
     "output_type": "stream",
     "text": [
      "reconstraining parameters GP_regression.Mat52.lengthscale\n",
      "reconstraining parameters GP_regression.Mat52.variance\n"
     ]
    },
    {
     "name": "stdout",
     "output_type": "stream",
     "text": [
      "Optimization restart 9/10, f = 80.56438607819163\n",
      "Optimization restart 10/10, f = 80.56438608633337\n"
     ]
    },
    {
     "name": "stderr",
     "output_type": "stream",
     "text": [
      "reconstraining parameters GP_regression.Gaussian_noise.variance\n"
     ]
    },
    {
     "name": "stdout",
     "output_type": "stream",
     "text": [
      "Optimization restart 1/10, f = 87.90916858362456\n",
      "Optimization restart 2/10, f = 2760796665.997455\n",
      "Optimization restart 3/10, f = 87.90916858296686\n",
      "Optimization restart 4/10, f = 4045555.375620959\n",
      "Optimization restart 5/10, f = 540.7078492304361\n",
      "Optimization restart 6/10, f = 87.90916858162711\n",
      "Optimization restart 7/10, f = 87.90916858573266\n",
      "Optimization restart 8/10, f = 2761692034.714778\n",
      "Optimization restart 9/10, f = 4045555.375620959\n",
      "Optimization restart 10/10, f = 87.90916858238832\n",
      "(5_w,10)-aCMA-ES (mu_w=3.2,w_1=45%) in dimension 8 (seed=135647, Wed Oct  7 22:14:42 2020)\n",
      "Iterat #Fevals   function value  axis ratio  sigma  min&max std  t[m:s]\n",
      "    1     10 6.253183997944287e-01 1.0e+00 2.63e-01  3e-01  3e-01 0:00.0\n",
      "    2     20 6.253157084165470e-01 1.3e+00 2.78e-01  2e-01  3e-01 0:00.0\n",
      "    3     30 6.253051703449638e-01 1.5e+00 3.07e-01  3e-01  3e-01 0:00.1\n",
      "  100   1000 8.673552142317351e-02 2.8e+01 7.42e-01  1e-01  3e+00 0:02.2\n",
      "  200   2000 -5.124363781065480e-02 5.1e+01 6.55e-04  2e-05  9e-04 0:03.4\n",
      "  266   2660 -5.124364231033043e-02 4.0e+01 3.61e-06  5e-08  2e-06 0:04.4\n",
      "termination on tolfun=1e-11 (Wed Oct  7 22:14:46 2020)\n",
      "final/bestever f-value = -5.124364e-02 -5.124364e-02\n",
      "incumbent solution: [-1.554581593580779, 3.0792784337246966, 155.35673555099305, 4.5476172687344905, 2.7919561830935753, -2.9728142329814617, 243.17016617429854, -6.705779309917459]\n",
      "std deviation: [6.556695938489246e-08, 5.4400601031282985e-08, 1.7019812171722955e-06, 1.919111260915762e-07, 4.873673584425634e-08, 4.801375215959528e-08, 1.0561906477016874e-06, 1.846626141810638e-07]\n"
     ]
    },
    {
     "name": "stderr",
     "output_type": "stream",
     "text": [
      "reconstraining parameters GP_regression.Mat52.lengthscale\n",
      "reconstraining parameters GP_regression.Mat52.variance\n",
      "reconstraining parameters GP_regression.Gaussian_noise.variance\n"
     ]
    },
    {
     "name": "stdout",
     "output_type": "stream",
     "text": [
      "Optimization restart 1/10, f = 84.00043500331623\n",
      "Optimization restart 2/10, f = 84.00043500372283\n",
      "Optimization restart 3/10, f = 321.4189735865729\n",
      "Optimization restart 4/10, f = 84.00043500655855\n",
      "Optimization restart 5/10, f = 84.00043499743177\n",
      "Optimization restart 6/10, f = 84.0004350016337\n",
      "Optimization restart 7/10, f = 84.00043500313612\n",
      "Optimization restart 8/10, f = 84.00043499898352\n",
      "Optimization restart 9/10, f = 84.00043500318382\n"
     ]
    },
    {
     "name": "stderr",
     "output_type": "stream",
     "text": [
      "reconstraining parameters GP_regression.Mat52.lengthscale\n",
      "reconstraining parameters GP_regression.Mat52.variance\n",
      "reconstraining parameters GP_regression.Gaussian_noise.variance\n"
     ]
    },
    {
     "name": "stdout",
     "output_type": "stream",
     "text": [
      "Optimization restart 10/10, f = 321.41712391279066\n",
      "Optimization restart 1/10, f = 91.80804022679588\n",
      "Optimization restart 2/10, f = 2822361471.601149\n",
      "Optimization restart 3/10, f = 2823291318.904087\n",
      "Optimization restart 4/10, f = 328.49722606766915\n",
      "Optimization restart 5/10, f = 91.80804022791068\n",
      "Optimization restart 6/10, f = 91.8080402279196\n",
      "Optimization restart 7/10, f = 547.3832574647203\n",
      "Optimization restart 8/10, f = 116.35285498098152\n",
      "Optimization restart 9/10, f = 547.3831483519534\n",
      "Optimization restart 10/10, f = 547.3832574647203\n",
      "(5_w,10)-aCMA-ES (mu_w=3.2,w_1=45%) in dimension 8 (seed=263007, Wed Oct  7 22:14:52 2020)\n",
      "Iterat #Fevals   function value  axis ratio  sigma  min&max std  t[m:s]\n",
      "    1     10 6.190633793556205e-01 1.0e+00 2.35e-01  2e-01  2e-01 0:00.0\n",
      "    2     20 6.190627178282453e-01 1.2e+00 2.34e-01  2e-01  2e-01 0:00.0\n",
      "    3     30 6.190614333393977e-01 1.4e+00 2.53e-01  2e-01  3e-01 0:00.1\n",
      "  100   1000 3.506438069602900e-01 2.7e+01 5.69e-01  9e-02  2e+00 0:01.7\n",
      "  200   2000 2.658764621498474e-01 3.3e+01 3.32e-03  1e-04  3e-03 0:02.9\n",
      "  287   2870 2.658764372792922e-01 3.9e+01 9.48e-06  1e-07  3e-06 0:04.0\n"
     ]
    },
    {
     "name": "stderr",
     "output_type": "stream",
     "text": [
      "reconstraining parameters GP_regression.Mat52.lengthscale\n",
      "reconstraining parameters GP_regression.Mat52.variance\n",
      "reconstraining parameters GP_regression.Gaussian_noise.variance\n"
     ]
    },
    {
     "name": "stdout",
     "output_type": "stream",
     "text": [
      "termination on tolfun=1e-11 (Wed Oct  7 22:14:57 2020)\n",
      "final/bestever f-value = 2.658764e-01 2.658764e-01\n",
      "incumbent solution: [1.010831834291518, 4.910962450590637, 80.60871680590049, -2.1105866183227606, -2.9729091488885344, 0.8667258930895604, 59.163663397926676, -4.866809615508619]\n",
      "std deviation: [9.957906745313864e-08, 1.9863196188068791e-07, 3.268934745336875e-06, 3.275412272644909e-07, 1.0557100231450564e-07, 9.793015630983264e-08, 2.410423134707145e-06, 3.6238957437773974e-07]\n",
      "Optimization restart 1/10, f = 82.7036717558077\n",
      "Optimization restart 2/10, f = 82.70367175528035\n",
      "Optimization restart 3/10, f = 82.70367175460764\n",
      "Optimization restart 4/10, f = 82.70367176280357\n",
      "Optimization restart 5/10, f = 82.70367176289469\n",
      "Optimization restart 6/10, f = 82.70367175976305\n",
      "Optimization restart 7/10, f = 82.70367175829237\n",
      "Optimization restart 8/10, f = 82.7036717627955\n",
      "Optimization restart 9/10, f = 4145388.54464762\n"
     ]
    },
    {
     "name": "stderr",
     "output_type": "stream",
     "text": [
      "reconstraining parameters GP_regression.Mat52.lengthscale\n",
      "reconstraining parameters GP_regression.Mat52.variance\n",
      "reconstraining parameters GP_regression.Gaussian_noise.variance\n"
     ]
    },
    {
     "name": "stdout",
     "output_type": "stream",
     "text": [
      "Optimization restart 10/10, f = 554.0586665170457\n",
      "Optimization restart 1/10, f = 91.23270073953168\n",
      "Optimization restart 2/10, f = 2854896830.1533513\n",
      "Optimization restart 3/10, f = 91.23270074140349\n",
      "Optimization restart 4/10, f = 91.2327007413824\n",
      "Optimization restart 5/10, f = 91.2327007382472\n",
      "Optimization restart 6/10, f = 91.23270074412429\n",
      "Optimization restart 7/10, f = 91.23270073864731\n",
      "Optimization restart 8/10, f = 554.0586665230265\n",
      "Optimization restart 9/10, f = 2853824071.0314355\n",
      "Optimization restart 10/10, f = 91.2327007394132\n",
      "(5_w,10)-aCMA-ES (mu_w=3.2,w_1=45%) in dimension 8 (seed=154140, Wed Oct  7 22:15:02 2020)\n",
      "Iterat #Fevals   function value  axis ratio  sigma  min&max std  t[m:s]\n",
      "    1     10 6.133936429082515e-01 1.0e+00 2.59e-01  3e-01  3e-01 0:00.0\n",
      "    2     20 6.133875943298833e-01 1.3e+00 2.91e-01  3e-01  3e-01 0:00.1\n",
      "    3     30 6.133848611454866e-01 1.5e+00 3.53e-01  3e-01  4e-01 0:00.3\n",
      "  100   1000 4.372051612428892e-01 1.6e+01 2.75e-01  4e-02  4e-01 0:02.2\n",
      "  200   2000 4.371743993920435e-01 1.8e+02 7.34e-02  8e-03  1e-01 0:03.5\n",
      "  300   3000 4.371704716020471e-01 2.6e+03 5.51e-03  4e-04  5e-03 0:05.0\n",
      "  400   4000 4.371704557036334e-01 1.1e+05 4.29e-04  2e-05  4e-04 0:07.3\n",
      "  480   4800 4.371704556094456e-01 7.3e+05 1.59e-05  4e-07  9e-06 0:08.5\n"
     ]
    },
    {
     "name": "stderr",
     "output_type": "stream",
     "text": [
      "reconstraining parameters GP_regression.Mat52.lengthscale\n",
      "reconstraining parameters GP_regression.Mat52.variance\n",
      "reconstraining parameters GP_regression.Gaussian_noise.variance\n"
     ]
    },
    {
     "name": "stdout",
     "output_type": "stream",
     "text": [
      "termination on tolfun=1e-11 (Wed Oct  7 22:15:11 2020)\n",
      "final/bestever f-value = 4.371705e-01 4.371705e-01\n",
      "incumbent solution: [-0.047603796630429684, 4.929504520174797, 280.53643420994194, 8.319672362276597, 0.24784943664524392, -0.4543573140727742, 240.59898010058598, 8.059247425749584]\n",
      "std deviation: [4.3899636204394167e-07, 5.904026145570007e-07, 7.711024240716073e-06, 1.275441181684582e-06, 3.7206325304553644e-07, 5.630787904988258e-07, 8.990110723095936e-06, 8.663821689860878e-07]\n",
      "Optimization restart 1/10, f = 84.01694375638883\n",
      "Optimization restart 2/10, f = 84.01694375311291\n",
      "Optimization restart 3/10, f = 84.01694375465792\n",
      "Optimization restart 4/10, f = 84.01694375360047\n",
      "Optimization restart 5/10, f = 84.01694376215963\n",
      "Optimization restart 6/10, f = 84.01694376062807\n",
      "Optimization restart 7/10, f = 84.01694375816228\n",
      "Optimization restart 8/10, f = 84.01694375760039\n"
     ]
    },
    {
     "name": "stderr",
     "output_type": "stream",
     "text": [
      "reconstraining parameters GP_regression.Mat52.lengthscale\n"
     ]
    },
    {
     "name": "stdout",
     "output_type": "stream",
     "text": [
      "Optimization restart 9/10, f = 84.01694375760059\n",
      "Optimization restart 10/10, f = 84.01694375917492\n"
     ]
    },
    {
     "name": "stderr",
     "output_type": "stream",
     "text": [
      "reconstraining parameters GP_regression.Mat52.variance\n",
      "reconstraining parameters GP_regression.Gaussian_noise.variance\n"
     ]
    },
    {
     "name": "stdout",
     "output_type": "stream",
     "text": [
      "Optimization restart 1/10, f = 91.44655428544766\n",
      "Optimization restart 2/10, f = 560.7340732803517\n",
      "Optimization restart 3/10, f = 91.44655428800189\n",
      "Optimization restart 4/10, f = 91.44655428416146\n",
      "Optimization restart 5/10, f = 91.44655428910998\n",
      "Optimization restart 6/10, f = 91.44655428693922\n",
      "Optimization restart 7/10, f = 560.7340732803517\n",
      "Optimization restart 8/10, f = 91.44655428729843\n",
      "Optimization restart 9/10, f = 91.44655428599354\n",
      "Optimization restart 10/10, f = 2750980999.9900765\n",
      "(5_w,10)-aCMA-ES (mu_w=3.2,w_1=45%) in dimension 8 (seed=211503, Wed Oct  7 22:15:16 2020)\n",
      "Iterat #Fevals   function value  axis ratio  sigma  min&max std  t[m:s]\n",
      "    1     10 6.092542862031040e-01 1.0e+00 2.69e-01  3e-01  3e-01 0:00.0\n"
     ]
    },
    {
     "name": "stderr",
     "output_type": "stream",
     "text": [
      "reconstraining parameters GP_regression.Mat52.lengthscale\n"
     ]
    },
    {
     "name": "stdout",
     "output_type": "stream",
     "text": [
      "termination on tolfun=1e-11 (Wed Oct  7 22:15:16 2020)\n",
      "final/bestever f-value = 6.092543e-01 6.092543e-01\n",
      "incumbent solution: [0.5766467013003937, 2.1056698138954344, 195.19303764529369, -9.008986440484298, -4.210361237139101, -2.469431466283813, 220.97697435839876, 2.0246766034028205]\n",
      "std deviation: [0.2698976668623376, 0.2695390245224562, 0.2608865755560634, 0.272200743844712, 0.2800038295338991, 0.27792330127772824, 0.2643583072871243, 0.2709587593012967]\n"
     ]
    },
    {
     "name": "stderr",
     "output_type": "stream",
     "text": [
      "reconstraining parameters GP_regression.Mat52.variance\n",
      "reconstraining parameters GP_regression.Gaussian_noise.variance\n"
     ]
    },
    {
     "name": "stdout",
     "output_type": "stream",
     "text": [
      "Optimization restart 1/10, f = 85.51685349599231\n",
      "Optimization restart 2/10, f = 85.51685349293767\n",
      "Optimization restart 3/10, f = 85.51685349036931\n",
      "Optimization restart 4/10, f = 85.51685349538351\n",
      "Optimization restart 5/10, f = 85.51685349107234\n",
      "Optimization restart 6/10, f = 85.51685349314224\n",
      "Optimization restart 7/10, f = 330.74780617236195\n",
      "Optimization restart 8/10, f = 1675829606.7527015\n"
     ]
    },
    {
     "name": "stderr",
     "output_type": "stream",
     "text": [
      "reconstraining parameters GP_regression.Mat52.lengthscale\n",
      "reconstraining parameters GP_regression.Mat52.variance\n",
      "reconstraining parameters GP_regression.Gaussian_noise.variance\n"
     ]
    },
    {
     "name": "stdout",
     "output_type": "stream",
     "text": [
      "Optimization restart 9/10, f = 120.60909195010233\n",
      "Optimization restart 10/10, f = 85.51685349764561\n",
      "Optimization restart 1/10, f = 92.98644012617292\n",
      "Optimization restart 2/10, f = 567.4094799115289\n",
      "Optimization restart 3/10, f = 567.4094799115289\n",
      "Optimization restart 4/10, f = 92.98644012697642\n",
      "Optimization restart 5/10, f = 92.98644012311618\n",
      "Optimization restart 6/10, f = 2804193734.2626195\n",
      "Optimization restart 7/10, f = 92.98644012397571\n",
      "Optimization restart 8/10, f = 92.98644012721726\n",
      "Optimization restart 9/10, f = 92.98644012565813\n",
      "Optimization restart 10/10, f = 4245332.443908256\n",
      "(5_w,10)-aCMA-ES (mu_w=3.2,w_1=45%) in dimension 8 (seed=175590, Wed Oct  7 22:15:21 2020)\n",
      "Iterat #Fevals   function value  axis ratio  sigma  min&max std  t[m:s]\n",
      "    1     10 6.108936355592417e-01 1.0e+00 2.46e-01  2e-01  3e-01 0:00.0\n",
      "    2     20 6.108936355162572e-01 1.3e+00 2.65e-01  2e-01  3e-01 0:00.0\n",
      "    3     30 6.108936354525183e-01 1.4e+00 3.16e-01  3e-01  3e-01 0:00.1\n",
      "  100   1000 3.136532176300474e-01 2.9e+01 3.64e-01  5e-02  1e+00 0:01.6\n",
      "  200   2000 2.247144794359315e-01 4.0e+01 1.50e-03  5e-05  2e-03 0:03.5\n",
      "  285   2850 2.247144405416713e-01 4.1e+01 9.02e-06  1e-07  3e-06 0:04.6\n"
     ]
    },
    {
     "name": "stderr",
     "output_type": "stream",
     "text": [
      "reconstraining parameters GP_regression.Mat52.lengthscale\n",
      "reconstraining parameters GP_regression.Mat52.variance\n",
      "reconstraining parameters GP_regression.Gaussian_noise.variance\n"
     ]
    },
    {
     "name": "stdout",
     "output_type": "stream",
     "text": [
      "termination on tolfun=1e-11 (Wed Oct  7 22:15:26 2020)\n",
      "final/bestever f-value = 2.247144e-01 2.247144e-01\n",
      "incumbent solution: [1.0445630750875519, 4.876237934163146, 83.08935334197861, -2.0598173069338506, -2.9234617905473868, 0.8755106119712542, 59.533763926347945, -4.611772440869416]\n",
      "std deviation: [1.1426063682153388e-07, 1.4529630733658075e-07, 3.0810727698166527e-06, 3.8173523208985023e-07, 9.66621406928821e-08, 1.0118647935635852e-07, 2.7108375299933647e-06, 3.618422090963922e-07]\n",
      "Optimization restart 1/10, f = 84.7699484786959\n",
      "Optimization restart 2/10, f = 84.76994847638488\n",
      "Optimization restart 3/10, f = 84.76994848107944\n",
      "Optimization restart 4/10, f = 574.0848888078337\n",
      "Optimization restart 5/10, f = 574.0848888078337\n",
      "Optimization restart 6/10, f = 84.76994847612994\n",
      "Optimization restart 7/10, f = 329.25768015856994\n",
      "Optimization restart 8/10, f = 574.0848888078337\n"
     ]
    },
    {
     "name": "stderr",
     "output_type": "stream",
     "text": [
      "reconstraining parameters GP_regression.Mat52.lengthscale\n",
      "reconstraining parameters GP_regression.Mat52.variance\n",
      "reconstraining parameters GP_regression.Gaussian_noise.variance\n"
     ]
    },
    {
     "name": "stdout",
     "output_type": "stream",
     "text": [
      "Optimization restart 9/10, f = 84.76994847498918\n",
      "Optimization restart 10/10, f = 574.0848888078337\n",
      "Optimization restart 1/10, f = 93.13622686399566\n",
      "Optimization restart 2/10, f = 122.02856023955954\n",
      "Optimization restart 3/10, f = 93.13622686790436\n",
      "Optimization restart 4/10, f = 574.08488881254\n",
      "Optimization restart 5/10, f = 93.13622686762389\n",
      "Optimization restart 6/10, f = 333.68321505911\n",
      "Optimization restart 7/10, f = 93.13622686398463\n",
      "Optimization restart 8/10, f = 574.08488881254\n",
      "Optimization restart 9/10, f = 93.13622686451276\n",
      "Optimization restart 10/10, f = 93.13622686598437\n",
      "(5_w,10)-aCMA-ES (mu_w=3.2,w_1=45%) in dimension 8 (seed=196065, Wed Oct  7 22:15:31 2020)\n",
      "Iterat #Fevals   function value  axis ratio  sigma  min&max std  t[m:s]\n",
      "    1     10 6.050807973524891e-01 1.0e+00 2.25e-01  2e-01  2e-01 0:00.0\n",
      "    2     20 6.050807399069442e-01 1.1e+00 2.28e-01  2e-01  2e-01 0:00.0\n",
      "    3     30 6.050806860196802e-01 1.3e+00 2.52e-01  2e-01  3e-01 0:00.1\n",
      "  100   1000 4.238627642112697e-01 2.9e+01 3.02e-01  4e-02  1e+00 0:01.4\n",
      "  200   2000 4.051813132272616e-01 1.2e+02 1.04e-02  5e-04  1e-02 0:03.2\n",
      "  300   3000 4.051769771678176e-01 1.2e+04 2.37e-04  7e-06  2e-04 0:05.0\n",
      "  372   3720 4.051769767479142e-01 6.3e+05 7.83e-06  2e-07  8e-06 0:05.9\n"
     ]
    },
    {
     "name": "stderr",
     "output_type": "stream",
     "text": [
      "reconstraining parameters GP_regression.Mat52.lengthscale\n",
      "reconstraining parameters GP_regression.Mat52.variance\n",
      "reconstraining parameters GP_regression.Gaussian_noise.variance\n"
     ]
    },
    {
     "name": "stdout",
     "output_type": "stream",
     "text": [
      "termination on tolfun=1e-11 (Wed Oct  7 22:15:38 2020)\n",
      "final/bestever f-value = 4.051770e-01 4.051770e-01\n",
      "incumbent solution: [2.7983394855941004, 2.5096334927645, 94.96385397861489, 0.5005349764571718, -0.042114161795916094, -1.0807427837500156, 109.32081040485478, -3.1489709990581534]\n",
      "std deviation: [1.8566517925720574e-07, 1.604672527137096e-07, 4.880618237222954e-06, 6.417647418413115e-07, 1.903905781876027e-07, 1.716964786580542e-07, 8.226617988250472e-06, 5.462962487591759e-07]\n",
      "Optimization restart 1/10, f = 84.48357513115909\n",
      "Optimization restart 2/10, f = 328.8267728491395\n",
      "Optimization restart 3/10, f = 84.48357513105444\n",
      "Optimization restart 4/10, f = 84.48357513571031\n",
      "Optimization restart 5/10, f = 84.48357513644478\n",
      "Optimization restart 6/10, f = 328.8272820410661\n",
      "Optimization restart 7/10, f = 84.48357513475038\n",
      "Optimization restart 8/10, f = 84.48357512951095\n",
      "Optimization restart 9/10, f = 84.48357513220486\n"
     ]
    },
    {
     "name": "stderr",
     "output_type": "stream",
     "text": [
      "reconstraining parameters GP_regression.Mat52.lengthscale\n",
      "reconstraining parameters GP_regression.Mat52.variance\n",
      "reconstraining parameters GP_regression.Gaussian_noise.variance\n"
     ]
    },
    {
     "name": "stdout",
     "output_type": "stream",
     "text": [
      "Optimization restart 10/10, f = 580.7602985499544\n",
      "Optimization restart 1/10, f = 93.36322110519609\n",
      "Optimization restart 2/10, f = 580.760298554313\n",
      "Optimization restart 3/10, f = 93.36322110591696\n",
      "Optimization restart 4/10, f = 93.36322110423546\n",
      "Optimization restart 5/10, f = 580.760298554313\n",
      "Optimization restart 6/10, f = 4345223.150176906\n",
      "Optimization restart 7/10, f = 93.36322110218497\n",
      "Optimization restart 8/10, f = 93.36322110488564\n",
      "Optimization restart 9/10, f = 580.760298554313\n",
      "Optimization restart 10/10, f = 2880238857.210484\n",
      "(5_w,10)-aCMA-ES (mu_w=3.2,w_1=45%) in dimension 8 (seed=121631, Wed Oct  7 22:15:44 2020)\n",
      "Iterat #Fevals   function value  axis ratio  sigma  min&max std  t[m:s]\n",
      "    1     10 6.022945274836163e-01 1.0e+00 2.36e-01  2e-01  2e-01 0:00.0\n",
      "    2     20 6.022945274677856e-01 1.2e+00 2.75e-01  3e-01  3e-01 0:00.0\n",
      "    3     30 6.022945274655054e-01 1.4e+00 3.12e-01  3e-01  3e-01 0:00.1\n",
      "  100   1000 5.735293823727503e-01 2.6e+01 1.32e+00  2e-01  5e+00 0:01.6\n",
      "  200   2000 4.612508719357521e-01 8.9e+01 5.31e-01  4e-02  1e+00 0:03.1\n",
      "  300   3000 4.576265879595506e-01 3.5e+02 6.21e-01  2e-02  8e-01 0:04.9\n",
      "  400   4000 4.567472765488781e-01 4.4e+02 5.14e-01  8e-03  2e-01 0:06.2\n",
      "  500   5000 4.556588689633360e-01 5.3e+02 1.24e+00  8e-03  3e-01 0:07.4\n",
      "  600   6000 4.551736973426418e-01 9.8e+02 1.32e+00  5e-03  2e-01 0:09.1\n",
      "  700   7000 4.548418289194337e-01 9.4e+02 3.88e+00  6e-03  2e-01 0:10.4\n",
      "  800   8000 4.545763636903531e-01 1.0e+03 5.50e+00  5e-03  2e-01 0:12.0\n",
      "  900   9000 4.544540832027869e-01 1.8e+03 5.41e+00  2e-03  6e-02 0:13.2\n",
      " 1000  10000 4.544032068141836e-01 1.9e+03 8.21e+00  2e-03  5e-02 0:14.5\n",
      "Iterat #Fevals   function value  axis ratio  sigma  min&max std  t[m:s]\n",
      " 1100  11000 4.543610711051765e-01 2.6e+03 3.18e+01  2e-03  9e-02 0:16.9\n",
      " 1200  12000 4.543442318757694e-01 4.5e+03 4.67e+01  2e-03  5e-02 0:18.6\n",
      " 1300  13000 4.543259890146555e-01 4.2e+03 6.10e+01  9e-04  3e-02 0:20.5\n",
      " 1400  14000 4.543095034857864e-01 2.8e+03 2.24e+02  1e-03  5e-02 0:22.5\n",
      " 1500  15000 4.543014918255285e-01 5.4e+03 1.60e+02  6e-04  2e-02 0:24.7\n",
      " 1600  16000 4.542961087767367e-01 7.0e+03 5.31e+02  8e-04  2e-02 0:27.1\n",
      " 1700  17000 4.542893217108049e-01 3.4e+03 1.32e+03  8e-04  2e-02 0:28.4\n",
      " 1800  18000 4.542858060972274e-01 5.6e+03 2.74e+03  9e-04  2e-02 0:29.7\n",
      " 1900  19000 4.542839772160697e-01 7.6e+03 4.45e+03  6e-04  2e-02 0:30.9\n",
      " 2000  20000 4.542821370392672e-01 8.5e+03 7.55e+03  5e-04  2e-02 0:32.9\n",
      "Iterat #Fevals   function value  axis ratio  sigma  min&max std  t[m:s]\n",
      " 2100  21000 4.542812421463577e-01 1.7e+04 1.41e+04  5e-04  1e-02 0:35.4\n",
      " 2200  22000 4.542806142042016e-01 2.5e+04 3.16e+03  4e-05  1e-03 0:37.6\n",
      " 2300  23000 4.542800571076014e-01 1.7e+04 5.28e+04  4e-04  1e-02 0:39.2\n",
      " 2400  24000 4.542797147595444e-01 2.7e+04 5.80e+04  2e-04  5e-03 0:40.5\n",
      " 2500  25000 4.542794993644120e-01 2.8e+04 1.34e+05  2e-04  5e-03 0:42.5\n",
      " 2600  26000 4.542793406872342e-01 4.6e+04 1.23e+05  7e-05  3e-03 0:43.9\n",
      " 2700  27000 4.542792668911219e-01 3.3e+04 4.47e+05  1e-04  4e-03 0:45.1\n",
      " 2800  28000 4.542791799999665e-01 3.4e+04 9.71e+05  1e-04  3e-03 0:47.0\n",
      " 2900  29000 4.542791196606949e-01 5.7e+04 1.18e+06  7e-05  2e-03 0:48.7\n",
      " 3000  30000 4.542790782235115e-01 4.3e+04 2.34e+06  6e-05  1e-03 0:50.3\n",
      "Iterat #Fevals   function value  axis ratio  sigma  min&max std  t[m:s]\n",
      " 3100  31000 4.542790476759763e-01 8.4e+04 4.91e+06  6e-05  1e-03 0:52.3\n",
      " 3200  32000 4.542790307176013e-01 1.2e+05 1.35e+07  6e-05  2e-03 0:54.0\n",
      " 3300  33000 4.542790222101677e-01 1.7e+05 1.53e+07  3e-05  9e-04 0:55.3\n",
      " 3400  34000 4.542790142478280e-01 1.7e+05 3.67e+07  3e-05  1e-03 0:56.5\n",
      " 3500  35000 4.542790086355356e-01 3.0e+05 2.86e+07  1e-05  4e-04 0:57.9\n",
      " 3600  36000 4.542790020757993e-01 1.8e+05 8.30e-03  7e-06  3e-04 0:59.3\n",
      " 3700  37000 4.542789981228176e-01 1.9e+05 2.84e-02  1e-05  3e-04 1:00.9\n",
      " 3800  38000 4.542789952221017e-01 1.4e+05 2.24e-01  3e-05  1e-03 1:02.7\n",
      " 3900  39000 4.542789934409567e-01 3.1e+05 1.19e-01  1e-05  3e-04 1:04.3\n",
      " 4000  40000 4.542789925186804e-01 3.4e+05 2.46e-01  1e-05  3e-04 1:05.7\n",
      "Iterat #Fevals   function value  axis ratio  sigma  min&max std  t[m:s]\n",
      " 4100  41000 4.542789920180293e-01 4.7e+05 2.67e-01  4e-06  1e-04 1:07.4\n",
      " 4200  42000 4.542789916912241e-01 6.8e+05 6.69e-01  5e-06  2e-04 1:09.8\n"
     ]
    },
    {
     "name": "stderr",
     "output_type": "stream",
     "text": [
      " /home/finley/miniconda3/envs/testsuite/lib/python3.8/site-packages/cma/utilities/utils.py:329: UserWarning:\n",
      "        geno-pheno transformation introduced based on the\n",
      "        current covariance matrix with condition 1.1e+12 -> 1.0e+00,\n",
      "        injected solutions become \"invalid\" in this iteration (class=CMAEvolutionStrategy method=alleviate_conditioning iteration=4242)\n"
     ]
    },
    {
     "name": "stdout",
     "output_type": "stream",
     "text": [
      " 4300  43000 4.542789915095543e-01 1.0e+01 2.34e+00  1e+00  6e+00 1:11.5\n",
      " 4400  44000 4.542789913696644e-01 6.7e+01 1.55e+00  5e-01  4e+00 1:13.0\n",
      " 4500  45000 4.542789912900024e-01 1.7e+02 3.24e+00  4e-01  4e+00 1:14.3\n",
      " 4600  46000 4.542789912355204e-01 3.3e+02 1.16e+01  7e-01  9e+00 1:15.7\n",
      " 4695  46950 4.542789911869446e-01 4.8e+02 5.95e+00  2e-01  3e+00 1:17.4\n"
     ]
    },
    {
     "name": "stderr",
     "output_type": "stream",
     "text": [
      "reconstraining parameters GP_regression.Mat52.lengthscale\n",
      "reconstraining parameters GP_regression.Mat52.variance\n",
      "reconstraining parameters GP_regression.Gaussian_noise.variance\n"
     ]
    },
    {
     "name": "stdout",
     "output_type": "stream",
     "text": [
      "termination on tolfun=1e-11 (Wed Oct  7 22:17:12 2020)\n",
      "final/bestever f-value = 4.542790e-01 4.542790e-01\n",
      "incumbent solution: [0.8652450791356383, 3.829599773787777, 98.4247913913103, 8.991582298767753, 0.5216040205414174, 2.611782308387774, 130.1213949904195, 11.965536708165018]\n",
      "std deviation: [2.890022755037644, 0.4562200221227502, 0.2030431055363298, 0.9330914440415435, 1.193182994738689, 0.17656666096263998, 0.21894586446060682, 0.2649051040544255]\n",
      "Optimization restart 1/10, f = 85.82458007257611\n",
      "Optimization restart 2/10, f = 85.8245800681864\n",
      "Optimization restart 3/10, f = 85.82458007045054\n",
      "Optimization restart 4/10, f = 85.82458007301754\n",
      "Optimization restart 5/10, f = 85.82458007857764\n",
      "Optimization restart 6/10, f = 85.82458007507245\n",
      "Optimization restart 7/10, f = 85.82458007045147\n",
      "Optimization restart 8/10, f = 85.82458007358555\n",
      "Optimization restart 9/10, f = 85.82458007477832\n"
     ]
    },
    {
     "name": "stderr",
     "output_type": "stream",
     "text": [
      "reconstraining parameters GP_regression.Mat52.lengthscale\n",
      "reconstraining parameters GP_regression.Mat52.variance\n",
      "reconstraining parameters GP_regression.Gaussian_noise.variance\n"
     ]
    },
    {
     "name": "stdout",
     "output_type": "stream",
     "text": [
      "Optimization restart 10/10, f = 85.82458006974676\n",
      "Optimization restart 1/10, f = 94.25694962134492\n",
      "Optimization restart 2/10, f = 336.39817698972007\n",
      "Optimization restart 3/10, f = 336.39645626670114\n",
      "Optimization restart 4/10, f = 94.25694962320907\n",
      "Optimization restart 5/10, f = 94.25694962225771\n",
      "Optimization restart 6/10, f = 94.2569496215607\n",
      "Optimization restart 7/10, f = 94.25694962336944\n",
      "Optimization restart 8/10, f = 94.25694962226791\n",
      "Optimization restart 9/10, f = 94.25694962323284\n",
      "Optimization restart 10/10, f = 587.4357034662194\n",
      "(5_w,10)-aCMA-ES (mu_w=3.2,w_1=45%) in dimension 8 (seed=170249, Wed Oct  7 22:17:19 2020)\n",
      "Iterat #Fevals   function value  axis ratio  sigma  min&max std  t[m:s]\n",
      "    1     10 5.946710094747065e-01 1.0e+00 2.24e-01  2e-01  2e-01 0:00.0\n",
      "    2     20 5.946710094719788e-01 1.1e+00 2.32e-01  2e-01  2e-01 0:00.0\n",
      "termination on tolfun=1e-11 (Wed Oct  7 22:17:19 2020)\n",
      "final/bestever f-value = 5.946710e-01 5.946710e-01\n",
      "incumbent solution: [-1.426513525151894, 1.098787112517223, 33.109861617987185, -5.776069888237786, 1.0220902930184408, 4.971170281432534, 268.51110420202315, -8.910143967940066]\n",
      "std deviation: [0.22409233183834698, 0.2322099062043872, 0.23164720112010675, 0.21732966715906743, 0.23610536514539662, 0.22740375820282668, 0.22211352118448813, 0.23245061037293618]\n"
     ]
    },
    {
     "name": "stderr",
     "output_type": "stream",
     "text": [
      "reconstraining parameters GP_regression.Mat52.lengthscale\n",
      "reconstraining parameters GP_regression.Mat52.variance\n",
      "reconstraining parameters GP_regression.Gaussian_noise.variance\n"
     ]
    },
    {
     "name": "stdout",
     "output_type": "stream",
     "text": [
      "Optimization restart 1/10, f = 87.36496160604102\n",
      "Optimization restart 2/10, f = 338.52322664314767\n",
      "Optimization restart 3/10, f = 594.1111102384725\n",
      "Optimization restart 4/10, f = 87.36496160826411\n",
      "Optimization restart 5/10, f = 87.3649616059072\n",
      "Optimization restart 6/10, f = 338.5228992365662\n",
      "Optimization restart 7/10, f = 87.3649616074906\n",
      "Optimization restart 8/10, f = 87.36496160912188\n",
      "Optimization restart 9/10, f = 87.36496160717691\n"
     ]
    },
    {
     "name": "stderr",
     "output_type": "stream",
     "text": [
      "reconstraining parameters GP_regression.Mat52.lengthscale\n",
      "reconstraining parameters GP_regression.Mat52.variance\n",
      "reconstraining parameters GP_regression.Gaussian_noise.variance\n"
     ]
    },
    {
     "name": "stdout",
     "output_type": "stream",
     "text": [
      "Optimization restart 10/10, f = 338.5234567975207\n",
      "Optimization restart 1/10, f = 92.78998606385431\n",
      "Optimization restart 2/10, f = 92.78998606554501\n",
      "Optimization restart 3/10, f = 92.78998606470202\n",
      "Optimization restart 4/10, f = 92.78998606433733\n",
      "Optimization restart 5/10, f = 92.78998606279016\n",
      "Optimization restart 6/10, f = 92.78998606379243\n",
      "Optimization restart 7/10, f = 92.78998606302002\n",
      "Optimization restart 8/10, f = 333.14317898174477\n",
      "Optimization restart 9/10, f = 4445098.028759435\n",
      "Optimization restart 10/10, f = 2892512066.433109\n",
      "(5_w,10)-aCMA-ES (mu_w=3.2,w_1=45%) in dimension 8 (seed=174863, Wed Oct  7 22:17:24 2020)\n",
      "Iterat #Fevals   function value  axis ratio  sigma  min&max std  t[m:s]\n",
      "    1     10 5.922968125499688e-01 1.0e+00 2.39e-01  2e-01  2e-01 0:00.0\n",
      "termination on tolfun=1e-11 (Wed Oct  7 22:17:24 2020)\n",
      "final/bestever f-value = 5.922968e-01 5.922968e-01\n",
      "incumbent solution: [4.002450901022101, -4.4955020004259305, 5.559636809004856, 13.716221394355768, 3.6921428041746625, 1.5197562769313822, 146.57472343780248, -11.300208760081278]\n",
      "std deviation: [0.24102236142714972, 0.2404826165626841, 0.24401206070806136, 0.2270700216637704, 0.24155088513149173, 0.22990606120107288, 0.23913492392345292, 0.2432914380836963]\n"
     ]
    }
   ],
   "source": [
    "opt.optimise(20)"
   ]
  },
  {
   "cell_type": "code",
   "execution_count": 12,
   "metadata": {},
   "outputs": [
    {
     "data": {
      "text/plain": [
       "<matplotlib.collections.PathCollection at 0x7f22779a2880>"
      ]
     },
     "execution_count": 12,
     "metadata": {},
     "output_type": "execute_result"
    },
    {
     "data": {
      "image/png": "[encoded data removed]",
      "text/plain": [
       "<Figure size 432x288 with 1 Axes>"
      ]
     },
     "metadata": {
      "needs_background": "light"
     },
     "output_type": "display_data"
    }
   ],
   "source": [
    "colors = cm.Purples(np.linspace(0,1,len(opt.y)))\n",
    "fig = plt.figure()\n",
    "ax = fig.gca()\n",
    "ax.scatter(opt.y[:,0], opt.y[:,1], c=colors)"
   ]
  },
  {
   "cell_type": "code",
   "execution_count": 5,
   "metadata": {},
   "outputs": [
    {
     "data": {
      "text/plain": [
       "-3"
      ]
     },
     "execution_count": 5,
     "metadata": {},
     "output_type": "execute_result"
    }
   ],
   "source": []
  },
  {
   "cell_type": "code",
   "execution_count": 13,
   "metadata": {},
   "outputs": [
    {
     "data": {
      "text/plain": [
       "<matplotlib.legend.Legend at 0x7f5be9474c10>"
      ]
     },
     "execution_count": 13,
     "metadata": {},
     "output_type": "execute_result"
    },
    {
     "data": {
      "image/png": "[encoded data removed]",
      "text/plain": [
       "<Figure size 432x288 with 1 Axes>"
      ]
     },
     "metadata": {
      "needs_background": "light"
     },
     "output_type": "display_data"
    }
   ],
   "source": [
    "plt.scatter(func.o1_x, func.o1_y, c=\"C0\", label = \"Object1\", marker=\"*\")\n",
    "plt.scatter(func.o2_x, func.o2_y, c=\"C3\", label = \"Object2\", marker=\"*\")\n",
    "plt.scatter(func.t1_x, func.t1_y, c=\"C0\", label = \"Target1\", marker=\"^\")\n",
    "plt.scatter(func.t2_x, func.t2_y, c=\"C3\", label = \"Target2\", marker=\"^\")\n",
    "plt.legend()"
   ]
  },
  {
   "cell_type": "code",
   "execution_count": null,
   "metadata": {},
   "outputs": [],
   "source": []
  }
 ],
 "metadata": {
  "kernelspec": {
   "display_name": "testsuite",
   "language": "python",
   "name": "testsuite"
  },
  "language_info": {
   "codemirror_mode": {
    "name": "ipython",
    "version": 3
   },
   "file_extension": ".py",
   "mimetype": "text/x-python",
   "name": "python",
   "nbconvert_exporter": "python",
   "pygments_lexer": "ipython3",
   "version": "3.8.3"
  },
  "varInspector": {
   "cols": {
    "lenName": 16,
    "lenType": 16,
    "lenVar": 40
   },
   "kernels_config": {
    "python": {
     "delete_cmd_postfix": "",
     "delete_cmd_prefix": "del ",
     "library": "var_list.py",
     "varRefreshCmd": "print(var_dic_list())"
    },
    "r": {
     "delete_cmd_postfix": ") ",
     "delete_cmd_prefix": "rm(",
     "library": "var_list.r",
     "varRefreshCmd": "cat(var_dic_list()) "
    }
   },
   "types_to_exclude": [
    "module",
    "function",
    "builtin_function_or_method",
    "instance",
    "_Feature"
   ],
   "window_display": false
  }
 },
 "nbformat": 4,
 "nbformat_minor": 4
}
