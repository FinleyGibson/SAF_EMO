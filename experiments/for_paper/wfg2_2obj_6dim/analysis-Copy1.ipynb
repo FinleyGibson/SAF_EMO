{
 "cells": [
  {
   "cell_type": "code",
   "execution_count": 1,
   "metadata": {},
   "outputs": [],
   "source": [
    "import os\n",
    "import sys\n",
    "import rootpath\n",
    "sys.path.append(rootpath.detect())\n",
    "\n",
    "import pickle\n",
    "from testsuite.utilities import Pareto_split\n",
    "import numpy as np\n",
    "from testsuite.analysis import load_all, plot_all_pareto_3d, PLOT_STYLE, plot_measure\n",
    "import matplotlib.pyplot as plt"
   ]
  },
  {
   "cell_type": "code",
   "execution_count": 2,
   "metadata": {},
   "outputs": [
    {
     "data": {
      "image/png": "[encoded data removed]",
      "text/plain": [
       "<Figure size 432x288 with 1 Axes>"
      ]
     },
     "metadata": {
      "needs_background": "light"
     },
     "output_type": "display_data"
    }
   ],
   "source": [
    "import matplotlib\n",
    "matplotlib.rcParams['mathtext.fontset'] = 'stix';\n",
    "matplotlib.rcParams['font.family'] = 'STIXGeneral';\n",
    "matplotlib.rcParams['font.size'] = 15 ;\n",
    "matplotlib.pyplot.title(r'ABC123 vs $\\mathrm{ABC123}^{123}$');"
   ]
  },
  {
   "cell_type": "code",
   "execution_count": 3,
   "metadata": {},
   "outputs": [],
   "source": [
    "def plot_measure(results, measure, axis=None, label=None, plot_individuals=False, \n",
    "                     color=\"C0\", marker=None): \n",
    "    if axis is None: \n",
    "        fig = plt.figure(figsize=[12, 8]) \n",
    "        axis = fig.gca() \n",
    " \n",
    "    hvs = results[measure] \n",
    " \n",
    "    if plot_individuals: \n",
    "        for i, hv in enumerate(hvs): \n",
    "            # plot idividual results \n",
    "            n_inital = results[\"n_initial\"][i] \n",
    "            n_total = results[\"n_evaluations\"][i] \n",
    "            bo_steps = range(n_inital, n_total + 1) \n",
    "            axis.plot(bo_steps, hv, linestyle=\":\", c=color, alpha=0.4) \n",
    " \n",
    "    # trim hvs to min length so as to compute mean \n",
    "    array_hvs = np.array([hv[:min([len(hv) for hv in hvs])] for hv in hvs]) \n",
    "    n_inital = results[\"n_initial\"][0] \n",
    "    bo_steps = range(n_inital, array_hvs.shape[1]+n_inital) \n",
    "    # plot mean and standard deviations \n",
    "    axis.plot(bo_steps, np.median(array_hvs, axis=0), linestyle=\"-\", c=color, \n",
    "              alpha=1., label=label, marker = marker, markevery=10) \n",
    "    # axis.fill_between(bo_steps, \n",
    "    #                   np.mean(array_hvs, axis=0) - np.std(array_hvs, axis=0), \n",
    "    #                   np.mean(array_hvs, axis=0) + np.std(array_hvs, axis=0), \n",
    "    #                   color=color, alpha=0.2) \n",
    "    lower_qa = np.array([np.quantile(i, 0.25) for i in np.array(array_hvs).T]) \n",
    "    upper_qa = np.array([np.quantile(i, 0.75) for i in np.array(array_hvs).T]) \n",
    "    axis.fill_between(bo_steps, \n",
    "                      lower_qa, \n",
    "                      upper_qa, \n",
    "                      color=color, alpha=0.2) \n",
    " \n",
    "    if axis is None: \n",
    "        return fig \n"
   ]
  },
  {
   "cell_type": "code",
   "execution_count": 4,
   "metadata": {},
   "outputs": [],
   "source": [
    "pkl_dir = \"./pkl_data/\"\n",
    "results_dir = \"./log_data/\"\n",
    "result_dirs = sorted(os.listdir(\"./log_data/\"))\n",
    "filename = pkl_dir+'results.pkl'\n",
    "if not os.path.isdir(pkl_dir):\n",
    "    os.makedirs(pkl_dir)"
   ]
  },
  {
   "cell_type": "code",
   "execution_count": 5,
   "metadata": {},
   "outputs": [
    {
     "name": "stdout",
     "output_type": "stream",
     "text": [
      "results loaded from  ./log_data/\n",
      "Mpoi\n",
      "ParEgo\n",
      "Saf ei\n",
      "Saf $\\mu$\n",
      "SmsEgo ei\n",
      "SmsEgo $\\mu$\n",
      "lhs\n"
     ]
    }
   ],
   "source": [
    "try:\n",
    "    pkl_loaded = True\n",
    "#     raise FileNotFoundError\n",
    "    infile = open(filename,'rb')\n",
    "    results = pickle.load(infile)\n",
    "    infile.close()\n",
    "    print(\"results loaded from \", pkl_dir)\n",
    "except FileNotFoundError:\n",
    "    pkl_loaded = False \n",
    "    results = []\n",
    "    for i, result_dir in enumerate(result_dirs):\n",
    "        result = load_all(os.path.join(results_dir, result_dir))\n",
    "        name = result_dir.split(\"_\")[2]\n",
    "        if \"ei\" in  result_dir:\n",
    "            name+=\" ei\"\n",
    "        elif \"mean\" in result_dir:\n",
    "            name+=\" $\\mu$\"\n",
    "        else:\n",
    "            pass\n",
    "        result[\"name\"] = name\n",
    "        results.append(result)\n",
    "    print(\"results loaded from \", results_dir)\n",
    "\n",
    "for result in results:\n",
    "    print(result[\"name\"])"
   ]
  },
  {
   "cell_type": "code",
   "execution_count": 6,
   "metadata": {},
   "outputs": [],
   "source": [
    "from paralellizer import func, n_obj, test_function, x_limits, n_dim, n_obj, k, l\n",
    "import wfg"
   ]
  },
  {
   "cell_type": "code",
   "execution_count": 7,
   "metadata": {},
   "outputs": [],
   "source": [
    "weighting = np.array([2., 4.])\n",
    "# y = scatter_nsphere(500, n_obj, weighting)\n",
    "\n",
    "N = 500\n",
    "y = np.zeros((N, n_obj))\n",
    "for n in range(N):\n",
    "    z = wfg.random_soln(k, l, func.__name__)\n",
    "    y[n,:] = func(z, k, n_obj)/weighting\n",
    "\n",
    "y = Pareto_split(y)[0]"
   ]
  },
  {
   "cell_type": "code",
   "execution_count": 8,
   "metadata": {},
   "outputs": [
    {
     "name": "stdout",
     "output_type": "stream",
     "text": [
      "weighting:\t [2. 4.]\n",
      "n_obj:\t\t 2\n",
      "n_dim:\t\t 6\n"
     ]
    }
   ],
   "source": [
    "print(\"weighting:\\t\", weighting)\n",
    "print(\"n_obj:\\t\\t\", n_obj)\n",
    "print(\"n_dim:\\t\\t\", n_dim)"
   ]
  },
  {
   "cell_type": "code",
   "execution_count": 9,
   "metadata": {},
   "outputs": [
    {
     "data": {
      "text/plain": [
       "<matplotlib.collections.PathCollection at 0x7f6dae52d4f0>"
      ]
     },
     "execution_count": 9,
     "metadata": {},
     "output_type": "execute_result"
    },
    {
     "data": {
      "image/png": "[encoded data removed]",
      "text/plain": [
       "<Figure size 432x288 with 1 Axes>"
      ]
     },
     "metadata": {
      "needs_background": "light"
     },
     "output_type": "display_data"
    }
   ],
   "source": [
    "pareto_fig = plt.figure()\n",
    "pareto_fig_ax = pareto_fig.gca()\n",
    "pareto_fig_ax.scatter(*y.T)"
   ]
  },
  {
   "cell_type": "code",
   "execution_count": 10,
   "metadata": {},
   "outputs": [],
   "source": [
    "from pymoo.factory import get_performance_indicator\n",
    "def extract_performance(z, indicator):\n",
    "    ANS  = []\n",
    "    for i in range(9, len(z)):\n",
    "        p = Pareto_split(z[:i])[0]\n",
    "        ans = indicator.calc(p)\n",
    "        ANS.append(ans)\n",
    "\n",
    "    return ANS"
   ]
  },
  {
   "cell_type": "code",
   "execution_count": 11,
   "metadata": {},
   "outputs": [],
   "source": [
    "igdp = get_performance_indicator(\"igd+\", y)\n",
    "ref = np.ones(n_obj)*1.2\n",
    "hv = get_performance_indicator(\"hv\", ref_point=ref)"
   ]
  },
  {
   "cell_type": "code",
   "execution_count": null,
   "metadata": {},
   "outputs": [
    {
     "name": "stdout",
     "output_type": "stream",
     "text": [
      "(11, 250, 2)\n",
      "\n",
      "Compiled modules for significant speedup can not be used!\n",
      "https://pymoo.org/installation.html#installation\n",
      "\n",
      "To disable this warning:\n",
      "from pymoo.configuration import Configuration\n",
      "Configuration.show_compile_hint = False\n",
      "\n"
     ]
    }
   ],
   "source": [
    "if not pkl_loaded:\n",
    "    for result in results:\n",
    "        ys_adjusted = [y/weighting for y in result[\"y\"] if type(y) is np.ndarray]\n",
    "        print(np.shape(ys_adjusted))\n",
    "        result[\"hpv\"] = [extract_performance(y, hv) for y in ys_adjusted]\n",
    "    \n",
    "    lhs_ind = int(np.where([np.shape(result[\"hpv\"]) == (0,) for result in results])[0])\n",
    "    print(\"lhs index: \\t\", lhs_ind)"
   ]
  },
  {
   "cell_type": "code",
   "execution_count": 45,
   "metadata": {},
   "outputs": [],
   "source": [
    "if not pkl_loaded:\n",
    "    results[lhs_ind][\"hpv\"] = [[hv.calc(Pareto_split(y/weighting)[0]) for y in ys] for ys in results[lhs_ind][\"y\"]]"
   ]
  },
  {
   "cell_type": "code",
   "execution_count": null,
   "metadata": {},
   "outputs": [
    {
     "name": "stdout",
     "output_type": "stream",
     "text": [
      "(9, 250, 2)\n"
     ]
    }
   ],
   "source": [
    "# for result in results:\n",
    "#     ys_adjusted = [y/weighting for y in result[\"y\"] if type(y) is np.ndarray]\n",
    "#     print(np.shape(ys_adjusted))\n",
    "#     result[\"igd\"] = [extract_performance(y, igdp) for y in ys_adjusted]\n",
    "\n",
    "# results[lhs_ind][\"igd\"] = [[igdp.calc(Pareto_split(y/weighting)[0]) for y in ys] for ys in results[lhs_ind][\"y\"]]"
   ]
  },
  {
   "cell_type": "code",
   "execution_count": null,
   "metadata": {},
   "outputs": [],
   "source": [
    "import matplotlib.cm as cm"
   ]
  },
  {
   "cell_type": "code",
   "execution_count": null,
   "metadata": {},
   "outputs": [],
   "source": [
    "markers = [\"o\", \"d\", \"^\", \"P\", \"X\", \"v\", \"*\"]\n",
    "names = ['MPoI', \"ParEGO\", \"SAFD:ei\", \"SAFD: $\\mu$\", \"SMS-EGO: ei\", \"SMS-EGO: $\\mu$\", \"LHS\"]\n",
    "params = {'legend.fontsize': 11}\n",
    "plt.rcParams.update(params)"
   ]
  },
  {
   "cell_type": "code",
   "execution_count": null,
   "metadata": {},
   "outputs": [],
   "source": [
    "for name, result in zip(names, results):\n",
    "    print(name, result[\"name\"])"
   ]
  },
  {
   "cell_type": "code",
   "execution_count": null,
   "metadata": {},
   "outputs": [],
   "source": [
    "fig_hv = plt.figure(figsize=[10, 6])\n",
    "ax_hv = fig_hv.gca()\n",
    "\n",
    "cmap = cm.tab10\n",
    "colors = cmap(np.linspace(0, 1, len(result_dirs)+1))\n",
    "\n",
    "for result, color, marker, name, in zip(results, colors, markers, names):\n",
    "    plot_measure(result, measure=\"hpv\", axis=ax_hv, plot_individuals=False, label=name, color=color, marker=marker)\n",
    "ax_hv.set_xlim([10, 250])\n",
    "ax_hv.set_xlabel(\"Evaluations\")\n",
    "ax_hv.set_ylabel(\"Dominated Hypervolume\")\n",
    "ax_hv.legend()"
   ]
  },
  {
   "cell_type": "code",
   "execution_count": null,
   "metadata": {},
   "outputs": [],
   "source": [
    "try:\n",
    "    fig_hv.savefig('./figures/hypervolume_wfg2_3obj_6dim.pdf', dpi=\"1200\")  \n",
    "    fig_hv.savefig('./figures/hypervolume_wfg2_3obj_6dim.png')  \n",
    "except FileNotFoundError:\n",
    "    os.makedirs(\"./figures\")\n",
    "    fig_hv.savefig('./figures/hypervolume_wfg2_3obj_6dim.pdf', dpi=\"1200\")  \n",
    "    fig_hv.savefig('./figures/hypervolume_wfg2_3obj_6dim.png')  "
   ]
  },
  {
   "cell_type": "code",
   "execution_count": null,
   "metadata": {},
   "outputs": [],
   "source": [
    "fig_igd = plt.figure(figsize=[10, 6])\n",
    "ax_igd = fig_igd.gca()\n",
    "for result, color, marker, name in zip(results, colors, markers, names):\n",
    "    plot_measure(result, measure=\"igd\", axis=ax_igd, plot_individuals=False, label=name, color=color, marker=marker)\n",
    "ax_igd.set_xlim([10, 250])\n",
    "ax_igd.set_xlabel(\"Evaluations\")\n",
    "ax_igd.set_ylabel(\"IGD^+$\")\n",
    "ax_igd.legend()"
   ]
  },
  {
   "cell_type": "code",
   "execution_count": null,
   "metadata": {},
   "outputs": [],
   "source": [
    "try:\n",
    "    fig_igd.savefig('./figures/igd+_wfg2_3obj_6dim.pdf', dpi=\"1200\")  \n",
    "    fig_igd.savefig('./figures/igd+_wfg2_3obj_6dim.png')  \n",
    "except FileNotFoundError:\n",
    "    os.makedirs(\"./figures\")\n",
    "    fig_igd.savefig('./figures/igd+_wfg2_3obj_6dim.pdf', dpi=\"1200\")  \n",
    "    fig_igd.savefig('./figures/igd+_wfg2_3obj_6dim.png')  "
   ]
  },
  {
   "cell_type": "code",
   "execution_count": null,
   "metadata": {},
   "outputs": [],
   "source": [
    "plot_all_pareto_3d(results[1])"
   ]
  },
  {
   "cell_type": "code",
   "execution_count": null,
   "metadata": {},
   "outputs": [],
   "source": [
    "if not pkl_loaded:\n",
    "    outfile = open(filename,'wb')\n",
    "    pickle.dump(results, outfile)\n",
    "    outfile.close()"
   ]
  },
  {
   "cell_type": "code",
   "execution_count": null,
   "metadata": {},
   "outputs": [],
   "source": [
    "result = results[5]\n",
    "print(result[\"name\"])"
   ]
  },
  {
   "cell_type": "code",
   "execution_count": null,
   "metadata": {},
   "outputs": [],
   "source": [
    "result[\"errors\"]"
   ]
  },
  {
   "cell_type": "code",
   "execution_count": null,
   "metadata": {},
   "outputs": [],
   "source": [
    "sys.getsizeof(results)"
   ]
  },
  {
   "cell_type": "code",
   "execution_count": null,
   "metadata": {},
   "outputs": [],
   "source": [
    "for m in result[\"error models\"][4][2]:\n",
    "    print(m)"
   ]
  },
  {
   "cell_type": "code",
   "execution_count": null,
   "metadata": {},
   "outputs": [],
   "source": []
  }
 ],
 "metadata": {
  "kernelspec": {
   "display_name": "testsuite",
   "language": "python",
   "name": "testsuite"
  },
  "language_info": {
   "codemirror_mode": {
    "name": "ipython",
    "version": 3
   },
   "file_extension": ".py",
   "mimetype": "text/x-python",
   "name": "python",
   "nbconvert_exporter": "python",
   "pygments_lexer": "ipython3",
   "version": "3.8.3"
  },
  "varInspector": {
   "cols": {
    "lenName": 16,
    "lenType": 16,
    "lenVar": 40
   },
   "kernels_config": {
    "python": {
     "delete_cmd_postfix": "",
     "delete_cmd_prefix": "del ",
     "library": "var_list.py",
     "varRefreshCmd": "print(var_dic_list())"
    },
    "r": {
     "delete_cmd_postfix": ") ",
     "delete_cmd_prefix": "rm(",
     "library": "var_list.r",
     "varRefreshCmd": "cat(var_dic_list()) "
    }
   },
   "types_to_exclude": [
    "module",
    "function",
    "builtin_function_or_method",
    "instance",
    "_Feature"
   ],
   "window_display": false
  }
 },
 "nbformat": 4,
 "nbformat_minor": 4
}
