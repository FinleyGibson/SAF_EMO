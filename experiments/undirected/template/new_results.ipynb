{
 "cells": [
  {
   "cell_type": "code",
   "execution_count": 1,
   "metadata": {},
   "outputs": [],
   "source": [
    "import os\n",
    "import sys\n",
    "import rootpath\n",
    "sys.path.append(rootpath.detect())\n",
    "\n",
    "from testsuite.utilities import Pareto_split\n",
    "from testsuite.analysis import load_all #, plot_all_pareto_2d, PLOT_STYLE, plot_measure\n",
    "from problem_setup import func, y, weighting, n_obj, n_dim\n",
    "\n",
    "import pickle\n",
    "import numpy as np\n",
    "import matplotlib\n",
    "import matplotlib.pyplot as plt"
   ]
  },
  {
   "cell_type": "code",
   "execution_count": 2,
   "metadata": {},
   "outputs": [],
   "source": [
    "from testsuite import optimisers\n",
    "from pymoo.factory import get_performance_indicator\n",
    "from scipy.spatial import distance_matrix\n",
    "from scipy.spatial.distance import cdist\n",
    "import inspect"
   ]
  },
  {
   "cell_type": "code",
   "execution_count": 3,
   "metadata": {},
   "outputs": [],
   "source": [
    "names = ['Mpoi', 'ParEgo', 'Saf_ei', 'Saf_$\\\\mu$', 'SmsEgo_ei', 'SmsEgo_$\\\\mu$', 'lhs']\n",
    "true_names = ['MPoI', 'ParEGO', 'SAF: ei', 'SAF: $\\mu$', 'SMS-EGO: ei', 'SMS-EGO: $\\mu$', 'LHS']\n",
    "D_names = {a:b for a, b in zip(names, true_names)}"
   ]
  },
  {
   "cell_type": "code",
   "execution_count": 4,
   "metadata": {},
   "outputs": [],
   "source": [
    "OPTIMISER_NAMES = [cls[0].lower() for cls in inspect.getmembers(optimisers, inspect.isclass)\n",
    "        if cls[1].__module__ == 'testsuite.optimisers']"
   ]
  },
  {
   "cell_type": "code",
   "execution_count": 7,
   "metadata": {},
   "outputs": [],
   "source": [
    "def load_result(directory):\n",
    "    result = load_all(directory, trailing_text = \"_results.pkl\")\n",
    "    name = get_name_from_dir(directory)\n",
    "    result['name'] = name\n",
    "    return result\n",
    "\n",
    "def get_name_from_dir(dir_string):\n",
    "    bits = dir_string.split('_')\n",
    "    name = [bit for bit in bits if bit.lower() in OPTIMISER_NAMES]\n",
    "\n",
    "    if type(name) is list:\n",
    "        name = name[0]\n",
    "    if 'ei' in bits:\n",
    "        name+='_ei'\n",
    "    elif 'mean' in bits:\n",
    "        name+='_$\\mu$'\n",
    "    return name"
   ]
  },
  {
   "cell_type": "code",
   "execution_count": 9,
   "metadata": {},
   "outputs": [],
   "source": [
    "problem_path = './'"
   ]
  },
  {
   "cell_type": "code",
   "execution_count": 45,
   "metadata": {},
   "outputs": [
    {
     "name": "stdout",
     "output_type": "stream",
     "text": [
      "./log_data/WFG1_Mpoi_init10_MultiSurrogate_Mpoi\n",
      "./log_data/WFG1_ParEgo_init10\n",
      "./log_data/WFG1_Saf_init10_MultiSurrogate_ei\n",
      "./log_data/WFG1_Saf_init10_MultiSurrogate_mean\n",
      "./log_data/WFG1_SmsEgoMu_init10_MultiSurrogate\n",
      "./log_data/WFG1_SmsEgo_init10_MultiSurrogate\n",
      "./log_data/WFG1_SmsEgo_init10_MultiSurrogate_ei\n",
      "./log_data/WFG1_SmsEgo_init10_MultiSurrogate_mean\n",
      "./log_data/WFG1_lhs_init10\n"
     ]
    }
   ],
   "source": [
    "# load all results from directory tree\n",
    "result_dirs = sorted(os.listdir(os.path.join(problem_path, \"log_data/\")))\n",
    "results= []\n",
    "for path in result_dirs:\n",
    "    print(os.path.join(problem_path, 'log_data/',  path))\n",
    "    result = load_result(os.path.join(problem_path, 'log_data/',  path))\n",
    "    results.append(result)"
   ]
  },
  {
   "cell_type": "code",
   "execution_count": 68,
   "metadata": {},
   "outputs": [
    {
     "data": {
      "text/plain": [
       "array([15])"
      ]
     },
     "execution_count": 68,
     "metadata": {},
     "output_type": "execute_result"
    }
   ],
   "source": [
    "np.where([s==0 for s in results[0]['seed']])[0]"
   ]
  },
  {
   "cell_type": "code",
   "execution_count": 69,
   "metadata": {},
   "outputs": [
    {
     "data": {
      "text/plain": [
       "array([[2.92277413, 1.00216221],\n",
       "       [2.96617679, 0.98127743],\n",
       "       [2.97814799, 0.99092289],\n",
       "       [2.97637371, 0.97883622],\n",
       "       [2.8489786 , 0.96264944],\n",
       "       [2.93942945, 0.9634106 ],\n",
       "       [2.95258482, 0.98737175],\n",
       "       [2.9466966 , 0.99796401],\n",
       "       [2.86861187, 1.02416059],\n",
       "       [2.70043111, 1.35441603],\n",
       "       [2.831257  , 1.04985704]])"
      ]
     },
     "execution_count": 69,
     "metadata": {},
     "output_type": "execute_result"
    }
   ],
   "source": []
  },
  {
   "cell_type": "code",
   "execution_count": 79,
   "metadata": {},
   "outputs": [
    {
     "name": "stdout",
     "output_type": "stream",
     "text": [
      "0\n",
      "1\n",
      "2\n",
      "3\n",
      "4\n",
      "5\n",
      "6\n",
      "7\n",
      "8\n",
      "9\n",
      "10\n",
      "11\n",
      "12\n",
      "13\n",
      "14\n",
      "15\n",
      "16\n",
      "17\n",
      "18\n",
      "19\n",
      "20\n",
      "21\n",
      "22\n",
      "23\n",
      "24\n",
      "25\n",
      "26\n",
      "27\n",
      "28\n",
      "29\n",
      "30\n"
     ]
    }
   ],
   "source": [
    "for j in range(31):\n",
    "    print(j)\n",
    "    a = results[0]['y'][np.where([s==j for s in results[0]['seed']])[0][0]][:10]\n",
    "    for i in range(8):\n",
    "        b = results[i]['y'][np.where([s==j for s in results[i]['seed']])[0][0]][:10]\n",
    "        np.testing.assert_array_almost_equal(a, b)"
   ]
  },
  {
   "cell_type": "code",
   "execution_count": null,
   "metadata": {},
   "outputs": [],
   "source": []
  },
  {
   "cell_type": "code",
   "execution_count": null,
   "metadata": {},
   "outputs": [],
   "source": []
  }
 ],
 "metadata": {
  "kernelspec": {
   "display_name": "testsuite",
   "language": "python",
   "name": "testsuite"
  },
  "language_info": {
   "codemirror_mode": {
    "name": "ipython",
    "version": 3
   },
   "file_extension": ".py",
   "mimetype": "text/x-python",
   "name": "python",
   "nbconvert_exporter": "python",
   "pygments_lexer": "ipython3",
   "version": "3.8.3"
  }
 },
 "nbformat": 4,
 "nbformat_minor": 4
}
