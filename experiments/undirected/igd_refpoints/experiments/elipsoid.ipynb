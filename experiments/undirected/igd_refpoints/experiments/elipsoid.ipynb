{
 "cells": [
  {
   "cell_type": "code",
   "execution_count": 1,
   "metadata": {},
   "outputs": [
    {
     "name": "stdout",
     "output_type": "stream",
     "text": [
      "Populating the interactive namespace from numpy and matplotlib\n"
     ]
    }
   ],
   "source": [
    "%pylab inline\n",
    "figsize(8,8)\n",
    "import sys\n",
    "import rootpath\n",
    "sys.path.append(rootpath.detect())"
   ]
  },
  {
   "cell_type": "code",
   "execution_count": 2,
   "metadata": {},
   "outputs": [],
   "source": [
    "def normalise_to_axes(x, axes=None):\n",
    "    r = 1\n",
    "    assert x.ndim == 2\n",
    "    axes = np.ones(x.shape[1]) if axis is None else np.array(axes)\n",
    "    \n",
    "    x_norm = np.zeros_like(x)\n",
    "    for i, xi in enumerate(x):\n",
    "        lmbda = sqrt(r**2/np.sum([xi[j]**2/axes[j]**2 for j in range(x.shape[1])]))\n",
    "        x_norm[i] = xi*lmbda\n",
    "        \n",
    "    return x_norm"
   ]
  },
  {
   "cell_type": "code",
   "execution_count": 24,
   "metadata": {},
   "outputs": [],
   "source": [
    "## spehere parameters\n",
    "r = 1      # sphere radius\n",
    "N = 20000   # number of points "
   ]
  },
  {
   "cell_type": "code",
   "execution_count": 25,
   "metadata": {},
   "outputs": [],
   "source": [
    "def normalise_length(points):\n",
    "    magnitudes = sqrt(diag(dot(points, points.T)))\n",
    "    return points/magnitudes.reshape(-1,1)"
   ]
  },
  {
   "cell_type": "markdown",
   "metadata": {},
   "source": [
    "## 2D\n",
    "\n",
    "**Illustration of problem:** Points evenly distributed by even distribution of angles around origin. "
   ]
  },
  {
   "cell_type": "code",
   "execution_count": 19,
   "metadata": {},
   "outputs": [
    {
     "data": {
      "text/plain": [
       "<matplotlib.collections.PathCollection at 0x7f3b061013a0>"
      ]
     },
     "execution_count": 19,
     "metadata": {},
     "output_type": "execute_result"
    }
   ],
   "source": [
    "a = 6\n",
    "b = 1\n",
    "c = 1\n",
    "\n",
    "# distribute angles\n",
    "n_points = 100\n",
    "angs = linspace(0, 2*pi, n_points+1)[:-1]\n",
    "\n",
    "# plot elispe\n",
    "fx = lambda a, theta: a*cos(theta)\n",
    "fy = lambda b, theta: b*sin(theta)\n",
    "\n",
    "angs = np.linspace(0,2*pi, n_points)\n",
    "\n",
    "# circle points\n",
    "circ_x = fx(1, angs)\n",
    "circ_y = fy(1, angs)\n",
    "# elipse points\n",
    "elip_x = fx(a, angs)\n",
    "elip_y = fy(b, angs)\n",
    "\n",
    "fig = figure()\n",
    "ax = fig.gca()\n",
    "ax.set_aspect('equal')\n",
    "\n",
    "ax.scatter(circ_x, circ_y, c=\"C0\", s=5)\n",
    "ax.scatter(elip_x, elip_y, c=\"C1\", s=5)"
   ]
  },
  {
   "cell_type": "code",
   "execution_count": 6,
   "metadata": {},
   "outputs": [
    {
     "data": {
      "text/plain": [
       "<matplotlib.collections.PathCollection at 0x7f3b1732aca0>"
      ]
     },
     "execution_count": 6,
     "metadata": {},
     "output_type": "execute_result"
    },
    {
     "data": {
      "image/png": "[encoded data removed]",
      "text/plain": [
       "<Figure size 720x720 with 6 Axes>"
      ]
     },
     "metadata": {
      "needs_background": "light"
     },
     "output_type": "display_data"
    }
   ],
   "source": [
    "fig = figure(figsize=[10,10])\n",
    "ax_0 = fig.add_subplot(3,2,1)\n",
    "ax_1 = fig.add_subplot(3,2,3)\n",
    "ax_2 = fig.add_subplot(3,2,5)\n",
    "\n",
    "ax__0 = fig.add_subplot(3,2,2)\n",
    "ax__1 = fig.add_subplot(3,2,4)\n",
    "ax__2 = fig.add_subplot(3,2,6)\n",
    "\n",
    "ax_0.set_aspect(\"equal\")\n",
    "ax_1.set_aspect(\"equal\")\n",
    "ax_2.set_aspect(\"equal\")\n",
    "ax__0.set_aspect(\"equal\")\n",
    "ax__1.set_aspect(\"equal\")\n",
    "ax__2.set_aspect(\"equal\")\n",
    "\n",
    "ax_0.set_title(\"uniform angle distribution\")\n",
    "ax_1.set_title(\"random angles, over uniform distribution\")\n",
    "ax_2.set_title(\"equal\")\n",
    "# major and minor axes\n",
    "a = 3 \n",
    "b = 1\n",
    "a2 = 6\n",
    "\n",
    "thetas = np.linspace(0,2*pi, 100+1)[:-1]\n",
    "ps = np.array([a*cos(thetas), b*sin(thetas)]).T\n",
    "ax_0.scatter(*ps.T, s=5)\n",
    "ps = np.array([a2*cos(thetas), b*sin(thetas)]).T\n",
    "ax__0.scatter(*ps.T, s=5)\n",
    "\n",
    "thetas_r = np.random.uniform(0, 2*pi, 100)\n",
    "ps = np.array([a*cos(thetas_r), b*sin(thetas_r)]).T\n",
    "ax_1.scatter(*ps.T, s=2)\n",
    "ps = np.array([a2*cos(thetas_r), b*sin(thetas_r)]).T\n",
    "ax__1.scatter(*ps.T, s=2)\n",
    "\n",
    "ps = normalise_to_axes(np.random.multivariate_normal([0, 0], np.diag([a,b]), size=100), [a,b])\n",
    "ax_2.scatter(*ps.T, s=2)\n",
    "ps = normalise_to_axes(np.random.multivariate_normal([0, 0], np.diag([a2**2, b**2]), size=100), [a2, b])\n",
    "ax__2.scatter(*ps.T, s=2)"
   ]
  },
  {
   "cell_type": "code",
   "execution_count": 48,
   "metadata": {},
   "outputs": [
    {
     "data": {
      "text/plain": [
       "<mpl_toolkits.mplot3d.art3d.Path3DCollection at 0x7f3af7ecf9a0>"
      ]
     },
     "execution_count": 48,
     "metadata": {},
     "output_type": "execute_result"
    }
   ],
   "source": [
    "x3 = np.random.randn(2000, 3)*np.array([a,b,c])\n",
    "x32 = np.random.multivariate_normal([0,0,0], np.diag([a**2,b**2,c**2]), size = 2000)\n",
    "\n",
    "fig = figure()\n",
    "ax = fig.gca(projection=\"3d\")\n",
    "ax.scatter(*x3.T, s=5)"
   ]
  },
  {
   "cell_type": "code",
   "execution_count": 49,
   "metadata": {},
   "outputs": [
    {
     "name": "stdout",
     "output_type": "stream",
     "text": [
      "Warning: Cannot change to a different GUI toolkit: tk. Using qt instead.\n"
     ]
    }
   ],
   "source": [
    "%matplotlib tk"
   ]
  },
  {
   "cell_type": "code",
   "execution_count": 51,
   "metadata": {
    "scrolled": true
   },
   "outputs": [
    {
     "data": {
      "text/plain": [
       "<mpl_toolkits.mplot3d.art3d.Path3DCollection at 0x7f3af7dcf820>"
      ]
     },
     "execution_count": 51,
     "metadata": {},
     "output_type": "execute_result"
    }
   ],
   "source": [
    "x3_norm = abs(normalise_to_axes(x3, [a, b, c]))\n",
    "x32_norm = abs(normalise_to_axes(x32, [a, b, c]))\n",
    "\n",
    "fig = figure()\n",
    "ax = fig.gca(projection=\"3d\")\n",
    "ax.set_box_aspect([a,b,c])  # aspect ratio is 1:1:1 in data space\n",
    "\n",
    "# ax.scatter(*x3_norm.T, s=10)\n",
    "ax.scatter(*x32_norm.T, s=10, c=\"C1\")"
   ]
  },
  {
   "cell_type": "code",
   "execution_count": null,
   "metadata": {},
   "outputs": [],
   "source": []
  },
  {
   "cell_type": "code",
   "execution_count": null,
   "metadata": {},
   "outputs": [],
   "source": []
  }
 ],
 "metadata": {
  "kernelspec": {
   "display_name": "testsuite",
   "language": "python",
   "name": "testsuite"
  },
  "language_info": {
   "codemirror_mode": {
    "name": "ipython",
    "version": 3
   },
   "file_extension": ".py",
   "mimetype": "text/x-python",
   "name": "python",
   "nbconvert_exporter": "python",
   "pygments_lexer": "ipython3",
   "version": "3.8.3"
  }
 },
 "nbformat": 4,
 "nbformat_minor": 4
}
