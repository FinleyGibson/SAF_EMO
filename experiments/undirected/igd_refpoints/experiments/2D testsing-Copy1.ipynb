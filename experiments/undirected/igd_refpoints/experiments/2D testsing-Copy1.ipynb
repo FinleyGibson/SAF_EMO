{
 "cells": [
  {
   "cell_type": "code",
   "execution_count": 1,
   "metadata": {},
   "outputs": [
    {
     "name": "stdout",
     "output_type": "stream",
     "text": [
      "Populating the interactive namespace from numpy and matplotlib\n"
     ]
    }
   ],
   "source": [
    "%pylab inline\n",
    "figsize(8,8)\n",
    "import sys\n",
    "import rootpath\n",
    "sys.path.append(rootpath.detect())\n",
    "from scipy.spatial import distance_matrix"
   ]
  },
  {
   "cell_type": "code",
   "execution_count": 2,
   "metadata": {},
   "outputs": [],
   "source": [
    "def weak_dominates(Y, x):\n",
    "    \"\"\"\n",
    "    Test whether rows of Y weakly dominate x\n",
    "    \n",
    "    Parameters\n",
    "    ----------\n",
    "    Y : array_like\n",
    "        Array of points to be tested. \n",
    "        \n",
    "    x : array_like\n",
    "        Vector to be tested\n",
    "        \n",
    "    Returns\n",
    "    -------\n",
    "    c : ndarray (Bool)\n",
    "        1d-array.  The ith element is True if Y[i] weakly dominates x\n",
    "    \"\"\"\n",
    "    return (Y <= x ).sum(axis=1) == Y.shape[1]\n",
    "\n",
    "\n",
    "def attainment_sample(Y, Nsamples=1000):\n",
    "    \"\"\"\n",
    "    Return samples from the attainment surface defined by the mutually non-dominating set Y\n",
    "\n",
    "    Parameters\n",
    "    ---------\n",
    "    Y : array_like\n",
    "        The surface to be sampled. Each row of Y is vector, that is mutually\n",
    "        with all the other rows of Y\n",
    "    Nsamples : int\n",
    "        Number of samples\n",
    "\n",
    "    Returns\n",
    "    -------\n",
    "    S : ndarray\n",
    "        Array of samples from the attainment surface.\n",
    "        Shape; Nsamples by Y.shape[1] \n",
    "    \n",
    "    Notes\n",
    "    -----\n",
    "    See \"Dominance-based multi-objective simulated annealing\"\n",
    "    Kevin Smith, Richard Everson, Jonathan Fieldsend, \n",
    "    Chris Murphy, Rashmi Misra.\n",
    "    IEEE Transactions on Evolutionary Computing. \n",
    "    Volume: 12, Issue: 3, June 2008.\n",
    "    https://ieeexplore.ieee.org/abstract/document/4358782\n",
    "    \"\"\"\n",
    "    N, D = Y.shape\n",
    "    Ymin = Y.min(axis=0)\n",
    "    r = Y.max(axis=0) - Ymin\n",
    "    S = np.zeros((Nsamples, D))\n",
    "    \n",
    "    # Set up arrays of the points sorted according to each coordinate.\n",
    "    Ys = np.zeros((N, D))\n",
    "    for d in range(D):\n",
    "        Ys[:,d] = np.sort(Y[:,d])\n",
    "\n",
    "    for n in range(Nsamples):\n",
    "        v = np.random.rand(D)*r + Ymin\n",
    "        m = np.random.randint(D)\n",
    "\n",
    "        # Bisection search to find the smallest v[m] \n",
    "        # so that v is weakly dominated by an element of Y\n",
    "        lo, hi = 0, N\n",
    "        while lo < hi:\n",
    "            mid = (lo+hi)//2\n",
    "            v[m] = Ys[mid,m]\n",
    "            if not any(weak_dominates(Y, v)):\n",
    "                lo = mid+1\n",
    "            else:\n",
    "                hi = mid\n",
    "        if lo == N: lo -= 1\n",
    "        v[m] = Ys[lo, m]      \n",
    "        assert lo == N-1 or any(weak_dominates(Y, v))\n",
    "        S[n,:] = v[:]\n",
    "    return S\n"
   ]
  },
  {
   "cell_type": "code",
   "execution_count": 3,
   "metadata": {},
   "outputs": [],
   "source": [
    "def normalise_to_axes(x, axes=None):\n",
    "    r = 1\n",
    "    assert x.ndim == 2\n",
    "    axes = np.ones(x.shape[1]) if axis is None else np.array(axes)\n",
    "    \n",
    "    x_norm = np.zeros_like(x)\n",
    "    for i, xi in enumerate(x):\n",
    "        lmbda = sqrt(r**2/np.sum([xi[j]**2/axes[j]**2 for j in range(x.shape[1])]))\n",
    "        x_norm[i] = xi*lmbda\n",
    "        \n",
    "    return x_norm"
   ]
  },
  {
   "cell_type": "code",
   "execution_count": 4,
   "metadata": {},
   "outputs": [],
   "source": [
    "n_points = 1000\n",
    "a = 4\n",
    "b = 2\n",
    "c = 1"
   ]
  },
  {
   "cell_type": "markdown",
   "metadata": {},
   "source": [
    "random normal"
   ]
  },
  {
   "cell_type": "code",
   "execution_count": 5,
   "metadata": {},
   "outputs": [],
   "source": [
    "%matplotlib qt"
   ]
  },
  {
   "cell_type": "code",
   "execution_count": 1,
   "metadata": {},
   "outputs": [
    {
     "ename": "NameError",
     "evalue": "name 'figure' is not defined",
     "output_type": "error",
     "traceback": [
      "\u001b[0;31m---------------------------------------------------------------------------\u001b[0m",
      "\u001b[0;31mNameError\u001b[0m                                 Traceback (most recent call last)",
      "\u001b[0;32m<ipython-input-1-775c6f46622b>\u001b[0m in \u001b[0;36m<module>\u001b[0;34m\u001b[0m\n\u001b[0;32m----> 1\u001b[0;31m \u001b[0mfig\u001b[0m \u001b[0;34m=\u001b[0m \u001b[0mfigure\u001b[0m\u001b[0;34m(\u001b[0m\u001b[0;34m)\u001b[0m\u001b[0;34m\u001b[0m\u001b[0;34m\u001b[0m\u001b[0m\n\u001b[0m\u001b[1;32m      2\u001b[0m \u001b[0;34m\u001b[0m\u001b[0m\n\u001b[1;32m      3\u001b[0m \u001b[0max1\u001b[0m \u001b[0;34m=\u001b[0m \u001b[0mfig\u001b[0m\u001b[0;34m.\u001b[0m\u001b[0madd_subplot\u001b[0m\u001b[0;34m(\u001b[0m\u001b[0;36m2\u001b[0m\u001b[0;34m,\u001b[0m\u001b[0;36m1\u001b[0m\u001b[0;34m,\u001b[0m\u001b[0;36m2\u001b[0m\u001b[0;34m,\u001b[0m \u001b[0mprojection\u001b[0m\u001b[0;34m=\u001b[0m\u001b[0;34m\"3d\"\u001b[0m\u001b[0;34m)\u001b[0m\u001b[0;34m\u001b[0m\u001b[0;34m\u001b[0m\u001b[0m\n\u001b[1;32m      4\u001b[0m \u001b[0max1\u001b[0m\u001b[0;34m.\u001b[0m\u001b[0mview_init\u001b[0m\u001b[0;34m(\u001b[0m\u001b[0melev\u001b[0m\u001b[0;34m=\u001b[0m\u001b[0;36m35.\u001b[0m\u001b[0;34m,\u001b[0m \u001b[0mazim\u001b[0m\u001b[0;34m=\u001b[0m\u001b[0;36m65\u001b[0m\u001b[0;34m)\u001b[0m\u001b[0;34m\u001b[0m\u001b[0;34m\u001b[0m\u001b[0m\n\u001b[1;32m      5\u001b[0m \u001b[0;31m# first subfigure: multivariate norm projected to elipsoid\u001b[0m\u001b[0;34m\u001b[0m\u001b[0;34m\u001b[0m\u001b[0;34m\u001b[0m\u001b[0m\n",
      "\u001b[0;31mNameError\u001b[0m: name 'figure' is not defined"
     ]
    }
   ],
   "source": [
    "fig = figure()\n",
    "\n",
    "ax1 = fig.add_subplot(2,1,2, projection=\"3d\")\n",
    "ax1.view_init(elev=35., azim=65)\n",
    "# first subfigure: multivariate norm projected to elipsoid\n",
    "ax0 = fig.add_subplot(2,1,1, projection=\"3d\", sharex=ax1, sharey=ax1, sharez=ax1)\n",
    "ax0.view_init(elev=35., azim=65)\n",
    "ax0.set_box_aspect([a,b,c]) \n",
    "ax0.set_title(\"Projection of distribution $\\sigma_a=6$, $\\sigma_b=1$ \\t to elipse: $a=6$, $b=1$\")\n",
    "x2 = abs(random.multivariate_normal([0, 0, 0], np.diag([a**2, b**2, c**2]), size=10000))\n",
    "x2_norm = normalise_to_axes(x2, [a, b, c])\n",
    "ax0.scatter(*x2_norm[:n_points].T, c=\"C1\", alpha=0.4, s=8, label = \"points projected to elipse\".format(n_points))\n",
    "ax0.scatter([0],[0], [0], c=\"C3\", label=\"origin\")\n",
    "ax0.legend()\n",
    "\n",
    "# second subfigure: attainment surface sample based on subfigure 1 samples\n",
    "ax1.set_box_aspect([a,b,c]) \n",
    "ax1.set_title(\"Attainment surface samples\")\n",
    "x3 = attainment_sample(x2_norm, n_points*2)\n",
    "min_d = distance_matrix(x2_norm, x3).min(axis=0)\n",
    "\n",
    "ax1.scatter(*x3[min_d<0.05][:n_points].T, c=\"C1\", alpha=0.4, s=8, label = \"attainment sample\".format(n_points))\n",
    "ax1.scatter([0],[0], [0], c=\"C3\", label=\"origin\")\n",
    "\n",
    "ax1.legend()"
   ]
  },
  {
   "cell_type": "code",
   "execution_count": 8,
   "metadata": {},
   "outputs": [
    {
     "name": "stdout",
     "output_type": "stream",
     "text": [
      "1650\n",
      "1000\n"
     ]
    }
   ],
   "source": [
    "print(sum(min_d<0.05))\n",
    "print(n_points)"
   ]
  }
 ],
 "metadata": {
  "kernelspec": {
   "display_name": "testsuite",
   "language": "python",
   "name": "testsuite"
  },
  "language_info": {
   "codemirror_mode": {
    "name": "ipython",
    "version": 3
   },
   "file_extension": ".py",
   "mimetype": "text/x-python",
   "name": "python",
   "nbconvert_exporter": "python",
   "pygments_lexer": "ipython3",
   "version": "3.8.3"
  }
 },
 "nbformat": 4,
 "nbformat_minor": 4
}
