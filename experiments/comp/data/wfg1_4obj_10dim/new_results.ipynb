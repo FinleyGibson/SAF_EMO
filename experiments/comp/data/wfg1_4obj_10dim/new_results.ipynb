{
 "cells": [
  {
   "cell_type": "code",
   "execution_count": 1,
   "metadata": {},
   "outputs": [],
   "source": [
    "import os\n",
    "import sys\n",
    "import rootpath\n",
    "sys.path.append(rootpath.detect())\n",
    "\n",
    "from testsuite.utilities import Pareto_split\n",
    "from testsuite.analysis import load_all #, plot_all_pareto_2d, PLOT_STYLE, plot_measure\n",
    "from problem_setup import func, y, weighting, n_obj, n_dim\n",
    "\n",
    "import pickle\n",
    "import numpy as np\n",
    "import matplotlib\n",
    "import matplotlib.pyplot as plt\n",
    "from tqdm import tqdm"
   ]
  },
  {
   "cell_type": "code",
   "execution_count": 2,
   "metadata": {},
   "outputs": [],
   "source": [
    "from testsuite import optimisers\n",
    "from pymoo.factory import get_performance_indicator\n",
    "from scipy.spatial import distance_matrix\n",
    "from scipy.spatial.distance import cdist\n",
    "import inspect"
   ]
  },
  {
   "cell_type": "code",
   "execution_count": 3,
   "metadata": {},
   "outputs": [],
   "source": [
    "names = ['Mpoi', 'ParEgo', 'Saf_ei', 'Saf_$\\\\mu$', 'SmsEgo_ei', 'SmsEgo_$\\\\mu$', 'lhs']\n",
    "true_names = ['MPoI', 'ParEGO', 'SAF: ei', 'SAF: $\\mu$', 'SMS-EGO: ei', 'SMS-EGO: $\\mu$', 'LHS']\n",
    "D_names = {a:b for a, b in zip(names, true_names)}"
   ]
  },
  {
   "cell_type": "code",
   "execution_count": 4,
   "metadata": {},
   "outputs": [],
   "source": [
    "OPTIMISER_NAMES = [cls[0].lower() for cls in inspect.getmembers(optimisers, inspect.isclass)\n",
    "        if cls[1].__module__ == 'testsuite.optimisers']"
   ]
  },
  {
   "cell_type": "code",
   "execution_count": 5,
   "metadata": {},
   "outputs": [],
   "source": [
    "def load_result(directory):\n",
    "    result = load_all(directory, trailing_text = \"_results.pkl\")\n",
    "    name = get_name_from_dir(directory)\n",
    "    result['name'] = name\n",
    "    return result\n",
    "\n",
    "def get_name_from_dir(dir_string):\n",
    "    bits = dir_string.split('_')\n",
    "    name = [bit for bit in bits if bit.lower() in OPTIMISER_NAMES]\n",
    "\n",
    "    if type(name) is list:\n",
    "        name = name[0]\n",
    "    if 'ei' in bits:\n",
    "        name+='_ei'\n",
    "    elif 'mean' in bits:\n",
    "        name+='_$\\mu$'\n",
    "    return name"
   ]
  },
  {
   "cell_type": "code",
   "execution_count": 6,
   "metadata": {},
   "outputs": [],
   "source": [
    "problem_path = './'"
   ]
  },
  {
   "cell_type": "code",
   "execution_count": 7,
   "metadata": {},
   "outputs": [
    {
     "name": "stdout",
     "output_type": "stream",
     "text": [
      "./log_data/WFG1_Mpoi_init10_MultiSurrogate_Mpoi\n",
      "./log_data/WFG1_ParEgo_init10\n",
      "./log_data/WFG1_Saf_init10_MultiSurrogate_ei\n",
      "./log_data/WFG1_Saf_init10_MultiSurrogate_mean\n",
      "./log_data/WFG1_SmsEgoMu_init10_MultiSurrogate\n",
      "./log_data/WFG1_SmsEgo_init10_MultiSurrogate\n",
      "./log_data/WFG1_SmsEgo_init10_MultiSurrogate_ei\n",
      "./log_data/WFG1_SmsEgo_init10_MultiSurrogate_mean\n",
      "./log_data/WFG1_lhs_init10\n"
     ]
    }
   ],
   "source": [
    "# load all results from directory tree\n",
    "result_dirs = sorted(os.listdir(os.path.join(problem_path, \"log_data/\")))\n",
    "results= []\n",
    "for path in result_dirs:\n",
    "    print(os.path.join(problem_path, 'log_data/',  path))\n",
    "    result = load_result(os.path.join(problem_path, 'log_data/',  path))\n",
    "    results.append(result)"
   ]
  },
  {
   "cell_type": "code",
   "execution_count": 8,
   "metadata": {},
   "outputs": [
    {
     "name": "stdout",
     "output_type": "stream",
     "text": [
      "(250, 3)\n",
      "(250, 3)\n",
      "(250, 3)\n",
      "(250, 3)\n",
      "(250, 3)\n",
      "(250, 3)\n",
      "(250, 3)\n",
      "(250, 3)\n",
      "(10, 3)\n"
     ]
    }
   ],
   "source": [
    "for result in results:\n",
    "    try:\n",
    "        print(result['x'][0].shape)\n",
    "    except:\n",
    "        print(result['x'][0][0].shape)"
   ]
  },
  {
   "cell_type": "code",
   "execution_count": 11,
   "metadata": {},
   "outputs": [],
   "source": [
    "p = np.load('../../../comp/igd_refpoints/problem_refpoints/data/wfg1_2d_refpoints')[::10]"
   ]
  },
  {
   "cell_type": "code",
   "execution_count": 12,
   "metadata": {},
   "outputs": [
    {
     "data": {
      "text/plain": [
       "<matplotlib.collections.PathCollection at 0x7f249ccdb670>"
      ]
     },
     "execution_count": 12,
     "metadata": {},
     "output_type": "execute_result"
    },
    {
     "data": {
      "image/png": "[encoded data removed]",
      "text/plain": [
       "<Figure size 432x288 with 1 Axes>"
      ]
     },
     "metadata": {
      "needs_background": "light"
     },
     "output_type": "display_data"
    }
   ],
   "source": [
    "plt.scatter(*p.T, s=5)"
   ]
  },
  {
   "cell_type": "code",
   "execution_count": 13,
   "metadata": {},
   "outputs": [],
   "source": [
    "y_maxs = np.concatenate([r['y'] for r in results if r['name'] != \"lhs\"], axis=0).reshape(-1, n_obj)\n",
    "ref_point =  y_maxs.max(axis=0)"
   ]
  },
  {
   "cell_type": "code",
   "execution_count": 14,
   "metadata": {},
   "outputs": [],
   "source": [
    "# setup measurement systems\n",
    "hv_measure = get_performance_indicator(\"hv\", ref_point=ref_point)\n",
    "igdp_measure = get_performance_indicator(\"igd+\", p)"
   ]
  },
  {
   "cell_type": "code",
   "execution_count": 15,
   "metadata": {},
   "outputs": [
    {
     "name": "stderr",
     "output_type": "stream",
     "text": [
      "  0%|          | 0/9 [00:00<?, ?it/s]\n",
      "0it [00:00, ?it/s]\u001b[A"
     ]
    },
    {
     "name": "stdout",
     "output_type": "stream",
     "text": [
      "Mpoi\n",
      "\n",
      "Compiled modules for significant speedup can not be used!\n",
      "https://pymoo.org/installation.html#installation\n",
      "\n",
      "To disable this warning:\n",
      "from pymoo.configuration import Configuration\n",
      "Configuration.show_compile_hint = False\n",
      "\n"
     ]
    },
    {
     "name": "stderr",
     "output_type": "stream",
     "text": [
      "\n",
      "1it [00:06,  6.52s/it]\u001b[A\n",
      "2it [00:13,  6.57s/it]\u001b[A\n",
      "3it [00:20,  6.67s/it]\u001b[A\n",
      "4it [00:26,  6.59s/it]\u001b[A\n",
      "5it [00:32,  6.45s/it]\u001b[A\n",
      "6it [00:38,  6.42s/it]\u001b[A\n",
      "7it [00:44,  6.12s/it]\u001b[A\n",
      "8it [00:50,  6.25s/it]\u001b[A\n",
      "9it [00:57,  6.23s/it]\u001b[A\n",
      "10it [01:03,  6.23s/it]\u001b[A\n",
      "11it [01:09,  6.26s/it]\u001b[A\n",
      "12it [01:15,  6.17s/it]\u001b[A\n",
      "13it [01:21,  6.14s/it]\u001b[A\n",
      "14it [01:27,  6.17s/it]\u001b[A\n",
      "15it [01:34,  6.41s/it]\u001b[A\n",
      "16it [01:41,  6.40s/it]\u001b[A\n",
      "17it [01:47,  6.35s/it]\u001b[A\n",
      "18it [01:53,  6.24s/it]\u001b[A\n",
      "19it [01:59,  6.20s/it]\u001b[A\n",
      "20it [02:06,  6.26s/it]\u001b[A\n",
      "21it [02:12,  6.36s/it]\u001b[A\n",
      "22it [02:18,  6.31s/it]\u001b[A\n",
      "23it [02:24,  6.25s/it]\u001b[A\n",
      "24it [02:31,  6.21s/it]\u001b[A\n",
      "25it [02:37,  6.23s/it]\u001b[A\n",
      "26it [02:43,  6.32s/it]\u001b[A\n",
      "27it [02:50,  6.29s/it]\u001b[A\n",
      "28it [02:55,  6.16s/it]\u001b[A\n",
      "29it [03:01,  6.07s/it]\u001b[A\n",
      "30it [03:07,  6.06s/it]\u001b[A\n",
      "31it [03:13,  6.24s/it]\u001b[A\n",
      " 11%|█         | 1/9 [03:13<25:47, 193.45s/it]\n",
      "0it [00:00, ?it/s]\u001b[A"
     ]
    },
    {
     "name": "stdout",
     "output_type": "stream",
     "text": [
      "ParEgo\n"
     ]
    },
    {
     "name": "stderr",
     "output_type": "stream",
     "text": [
      "\n",
      "1it [00:05,  5.68s/it]\u001b[A\n",
      "2it [00:11,  5.66s/it]\u001b[A\n",
      "3it [00:16,  5.64s/it]\u001b[A\n",
      "4it [00:22,  5.73s/it]\u001b[A\n",
      "5it [00:28,  5.76s/it]\u001b[A\n",
      "6it [00:34,  5.70s/it]\u001b[A\n",
      "7it [00:40,  5.73s/it]\u001b[A\n",
      "8it [00:45,  5.72s/it]\u001b[A\n",
      "9it [00:51,  5.73s/it]\u001b[A\n",
      "10it [00:57,  5.82s/it]\u001b[A\n",
      "11it [01:03,  5.81s/it]\u001b[A\n",
      "12it [01:09,  5.78s/it]\u001b[A\n",
      "13it [01:14,  5.77s/it]\u001b[A\n",
      "14it [01:20,  5.77s/it]\u001b[A\n",
      "15it [01:25,  5.64s/it]\u001b[A\n",
      "16it [01:31,  5.51s/it]\u001b[A\n",
      "17it [01:36,  5.58s/it]\u001b[A\n",
      "18it [01:42,  5.50s/it]\u001b[A\n",
      "19it [01:47,  5.45s/it]\u001b[A\n",
      "20it [01:52,  5.40s/it]\u001b[A\n",
      "21it [01:58,  5.45s/it]\u001b[A\n",
      "22it [02:03,  5.50s/it]\u001b[A\n",
      "23it [02:09,  5.49s/it]\u001b[A\n",
      "24it [02:15,  5.60s/it]\u001b[A\n",
      "25it [02:21,  5.67s/it]\u001b[A\n",
      "26it [02:26,  5.69s/it]\u001b[A\n",
      "27it [02:32,  5.56s/it]\u001b[A\n",
      "28it [02:37,  5.49s/it]\u001b[A\n",
      "29it [02:43,  5.54s/it]\u001b[A\n",
      "30it [02:48,  5.51s/it]\u001b[A\n",
      "31it [02:53,  5.60s/it]\u001b[A\n",
      " 22%|██▏       | 2/9 [06:07<21:52, 187.49s/it]\n",
      "0it [00:00, ?it/s]\u001b[A"
     ]
    },
    {
     "name": "stdout",
     "output_type": "stream",
     "text": [
      "Saf_ei\n"
     ]
    },
    {
     "name": "stderr",
     "output_type": "stream",
     "text": [
      "\n",
      "1it [00:05,  5.36s/it]\u001b[A\n",
      "2it [00:10,  5.43s/it]\u001b[A\n",
      "3it [00:16,  5.45s/it]\u001b[A\n",
      "4it [00:21,  5.41s/it]\u001b[A\n",
      "5it [00:27,  5.54s/it]\u001b[A\n",
      "6it [00:33,  5.66s/it]\u001b[A\n",
      "7it [00:39,  5.79s/it]\u001b[A\n",
      "8it [00:45,  5.82s/it]\u001b[A\n",
      "9it [00:51,  5.76s/it]\u001b[A\n",
      "10it [00:56,  5.77s/it]\u001b[A\n",
      "11it [01:02,  5.75s/it]\u001b[A\n",
      "12it [01:08,  5.72s/it]\u001b[A\n",
      "13it [01:13,  5.68s/it]\u001b[A\n",
      "14it [01:19,  5.69s/it]\u001b[A\n",
      "15it [01:25,  5.69s/it]\u001b[A\n",
      "16it [01:31,  5.72s/it]\u001b[A\n",
      "17it [01:37,  5.91s/it]\u001b[A\n",
      "18it [01:42,  5.68s/it]\u001b[A\n",
      "19it [01:48,  5.77s/it]\u001b[A\n",
      "20it [01:54,  5.76s/it]\u001b[A\n",
      "21it [02:00,  5.76s/it]\u001b[A\n",
      "22it [02:05,  5.79s/it]\u001b[A\n",
      "23it [02:11,  5.83s/it]\u001b[A\n",
      "24it [02:18,  5.94s/it]\u001b[A\n",
      "25it [02:24,  6.06s/it]\u001b[A\n",
      "26it [02:29,  5.82s/it]\u001b[A\n",
      "27it [02:35,  5.82s/it]\u001b[A\n",
      "28it [02:41,  5.78s/it]\u001b[A\n",
      "29it [02:47,  5.92s/it]\u001b[A\n",
      "30it [02:53,  6.04s/it]\u001b[A\n",
      "31it [02:59,  5.78s/it]\u001b[A\n",
      " 33%|███▎      | 3/9 [09:06<18:30, 185.02s/it]\n",
      "0it [00:00, ?it/s]\u001b[A"
     ]
    },
    {
     "name": "stdout",
     "output_type": "stream",
     "text": [
      "Saf_$\\mu$\n"
     ]
    },
    {
     "name": "stderr",
     "output_type": "stream",
     "text": [
      "\n",
      "1it [00:05,  5.84s/it]\u001b[A\n",
      "2it [00:11,  5.74s/it]\u001b[A\n",
      "3it [00:16,  5.65s/it]\u001b[A\n",
      "4it [00:22,  5.53s/it]\u001b[A\n",
      "5it [00:28,  5.66s/it]\u001b[A\n",
      "6it [00:33,  5.55s/it]\u001b[A\n",
      "7it [00:38,  5.59s/it]\u001b[A\n",
      "8it [00:44,  5.51s/it]\u001b[A\n",
      "9it [00:49,  5.48s/it]\u001b[A\n",
      "10it [00:55,  5.57s/it]\u001b[A\n",
      "11it [01:01,  5.63s/it]\u001b[A\n",
      "12it [01:07,  5.68s/it]\u001b[A\n",
      "13it [01:12,  5.73s/it]\u001b[A\n",
      "14it [01:18,  5.80s/it]\u001b[A\n",
      "15it [01:24,  5.80s/it]\u001b[A\n",
      "16it [01:30,  5.74s/it]\u001b[A\n",
      "17it [01:35,  5.62s/it]\u001b[A\n",
      "18it [01:40,  5.53s/it]\u001b[A\n",
      "19it [01:46,  5.54s/it]\u001b[A\n",
      "20it [01:51,  5.41s/it]\u001b[A\n",
      "21it [01:57,  5.41s/it]\u001b[A\n",
      "22it [02:02,  5.37s/it]\u001b[A\n",
      "23it [02:07,  5.43s/it]\u001b[A\n",
      "24it [02:13,  5.55s/it]\u001b[A\n",
      "25it [02:18,  5.36s/it]\u001b[A\n",
      "26it [02:23,  5.36s/it]\u001b[A\n",
      "27it [02:29,  5.50s/it]\u001b[A\n",
      "28it [02:34,  5.38s/it]\u001b[A\n",
      "29it [02:40,  5.42s/it]\u001b[A\n",
      "30it [02:46,  5.51s/it]\u001b[A\n",
      "31it [02:51,  5.52s/it]\u001b[A\n",
      " 44%|████▍     | 4/9 [11:57<15:04, 180.89s/it]\n",
      "0it [00:00, ?it/s]\u001b[A"
     ]
    },
    {
     "name": "stdout",
     "output_type": "stream",
     "text": [
      "SmsEgoMu\n"
     ]
    },
    {
     "name": "stderr",
     "output_type": "stream",
     "text": [
      "\n",
      "1it [00:05,  5.50s/it]\u001b[A\n",
      "2it [00:11,  5.52s/it]\u001b[A\n",
      "3it [00:16,  5.63s/it]\u001b[A\n",
      "4it [00:23,  5.76s/it]\u001b[A\n",
      "5it [00:28,  5.73s/it]\u001b[A\n",
      "6it [00:34,  5.73s/it]\u001b[A\n",
      "7it [00:40,  5.70s/it]\u001b[A\n",
      "8it [00:45,  5.57s/it]\u001b[A\n",
      "9it [00:51,  5.63s/it]\u001b[A\n",
      "10it [00:57,  5.75s/it]\u001b[A\n",
      "11it [01:02,  5.65s/it]\u001b[A\n",
      "12it [01:08,  5.62s/it]\u001b[A\n",
      "13it [01:13,  5.57s/it]\u001b[A\n",
      "14it [01:19,  5.61s/it]\u001b[A\n",
      "15it [01:25,  5.80s/it]\u001b[A\n",
      "16it [01:30,  5.67s/it]\u001b[A\n",
      "17it [01:36,  5.68s/it]\u001b[A\n",
      "18it [01:41,  5.51s/it]\u001b[A\n",
      "19it [01:46,  5.32s/it]\u001b[A\n",
      "20it [01:52,  5.39s/it]\u001b[A\n",
      "21it [01:57,  5.28s/it]\u001b[A\n",
      "22it [02:02,  5.24s/it]\u001b[A\n",
      "23it [02:07,  5.34s/it]\u001b[A\n",
      "24it [02:13,  5.31s/it]\u001b[A\n",
      "25it [02:18,  5.46s/it]\u001b[A\n",
      "26it [02:24,  5.43s/it]\u001b[A\n",
      "27it [02:29,  5.49s/it]\u001b[A\n",
      "28it [02:35,  5.57s/it]\u001b[A\n",
      "29it [02:41,  5.59s/it]\u001b[A\n",
      "30it [02:47,  5.80s/it]\u001b[A\n",
      "31it [02:53,  5.59s/it]\u001b[A\n",
      " 56%|█████▌    | 5/9 [14:50<11:54, 178.63s/it]\n",
      "0it [00:00, ?it/s]\u001b[A"
     ]
    },
    {
     "name": "stdout",
     "output_type": "stream",
     "text": [
      "SmsEgo\n"
     ]
    },
    {
     "name": "stderr",
     "output_type": "stream",
     "text": [
      "\n",
      "1it [00:05,  6.00s/it]\u001b[A\n",
      "2it [00:11,  5.88s/it]\u001b[A\n",
      "3it [00:17,  5.79s/it]\u001b[A\n",
      "4it [00:22,  5.77s/it]\u001b[A\n",
      "5it [00:28,  5.76s/it]\u001b[A\n",
      "6it [00:34,  5.73s/it]\u001b[A\n",
      "7it [00:40,  5.74s/it]\u001b[A\n",
      "8it [00:45,  5.65s/it]\u001b[A\n",
      "9it [00:51,  5.61s/it]\u001b[A\n",
      "10it [00:56,  5.48s/it]\u001b[A\n",
      "11it [01:01,  5.50s/it]\u001b[A\n",
      "12it [01:07,  5.45s/it]\u001b[A\n",
      "13it [01:11,  5.29s/it]\u001b[A\n",
      "14it [01:17,  5.40s/it]\u001b[A\n",
      "15it [01:23,  5.50s/it]\u001b[A\n",
      "16it [01:29,  5.57s/it]\u001b[A\n",
      "17it [01:34,  5.50s/it]\u001b[A\n",
      "18it [01:40,  5.53s/it]\u001b[A\n",
      "19it [01:45,  5.46s/it]\u001b[A\n",
      "20it [01:50,  5.44s/it]\u001b[A\n",
      "21it [01:56,  5.52s/it]\u001b[A\n",
      "22it [02:01,  5.43s/it]\u001b[A\n",
      "23it [02:07,  5.52s/it]\u001b[A\n",
      "24it [02:12,  5.52s/it]\u001b[A\n",
      "25it [02:18,  5.64s/it]\u001b[A\n",
      "26it [02:24,  5.69s/it]\u001b[A\n",
      "27it [02:30,  5.62s/it]\u001b[A\n",
      "28it [02:35,  5.66s/it]\u001b[A\n",
      "29it [02:41,  5.65s/it]\u001b[A\n",
      "30it [02:46,  5.59s/it]\u001b[A\n",
      "31it [02:52,  5.57s/it]\u001b[A\n",
      " 67%|██████▋   | 6/9 [17:43<08:50, 176.84s/it]\n",
      "0it [00:00, ?it/s]\u001b[A"
     ]
    },
    {
     "name": "stdout",
     "output_type": "stream",
     "text": [
      "SmsEgo_ei\n"
     ]
    },
    {
     "name": "stderr",
     "output_type": "stream",
     "text": [
      "\n",
      "1it [00:05,  5.77s/it]\u001b[A\n",
      "2it [00:11,  5.71s/it]\u001b[A\n",
      "3it [00:16,  5.69s/it]\u001b[A\n",
      "4it [00:22,  5.70s/it]\u001b[A\n",
      "5it [00:28,  5.77s/it]\u001b[A\n",
      "6it [00:34,  5.78s/it]\u001b[A\n",
      "7it [00:40,  5.77s/it]\u001b[A\n",
      "8it [00:45,  5.73s/it]\u001b[A\n",
      "9it [00:51,  5.76s/it]\u001b[A\n",
      "10it [00:57,  5.75s/it]\u001b[A\n",
      "11it [01:03,  5.72s/it]\u001b[A\n",
      "12it [01:08,  5.69s/it]\u001b[A\n",
      "13it [01:14,  5.69s/it]\u001b[A\n",
      "14it [01:20,  5.72s/it]\u001b[A\n",
      "15it [01:25,  5.70s/it]\u001b[A\n",
      "16it [01:31,  5.73s/it]\u001b[A\n",
      "17it [01:37,  5.72s/it]\u001b[A\n",
      "18it [01:43,  5.76s/it]\u001b[A\n",
      "19it [01:48,  5.76s/it]\u001b[A\n",
      "20it [01:54,  5.80s/it]\u001b[A\n",
      "21it [02:00,  5.68s/it]\u001b[A\n",
      "22it [02:06,  5.74s/it]\u001b[A\n",
      "23it [02:12,  5.89s/it]\u001b[A\n",
      "24it [02:17,  5.82s/it]\u001b[A\n",
      "25it [02:23,  5.83s/it]\u001b[A\n",
      "26it [02:29,  5.82s/it]\u001b[A\n",
      "27it [02:35,  5.81s/it]\u001b[A\n",
      "28it [02:41,  5.77s/it]\u001b[A\n",
      "29it [02:46,  5.64s/it]\u001b[A\n",
      "30it [02:52,  5.67s/it]\u001b[A\n",
      "31it [02:57,  5.74s/it]\u001b[A\n",
      " 78%|███████▊  | 7/9 [20:41<05:54, 177.13s/it]\n",
      "0it [00:00, ?it/s]\u001b[A"
     ]
    },
    {
     "name": "stdout",
     "output_type": "stream",
     "text": [
      "SmsEgo_$\\mu$\n"
     ]
    },
    {
     "name": "stderr",
     "output_type": "stream",
     "text": [
      "\n",
      "1it [00:05,  5.26s/it]\u001b[A\n",
      "2it [00:10,  5.31s/it]\u001b[A\n",
      "3it [00:16,  5.32s/it]\u001b[A\n",
      "4it [00:21,  5.41s/it]\u001b[A\n",
      "5it [00:27,  5.56s/it]\u001b[A\n",
      "6it [00:33,  5.56s/it]\u001b[A\n",
      "7it [00:38,  5.46s/it]\u001b[A\n",
      "8it [00:43,  5.49s/it]\u001b[A\n",
      "9it [00:49,  5.61s/it]\u001b[A\n",
      "10it [00:55,  5.70s/it]\u001b[A\n",
      "11it [01:01,  5.69s/it]\u001b[A\n",
      "12it [01:06,  5.63s/it]\u001b[A\n",
      "13it [01:12,  5.57s/it]\u001b[A\n",
      "14it [01:17,  5.59s/it]\u001b[A\n",
      "15it [01:23,  5.65s/it]\u001b[A\n",
      "16it [01:29,  5.82s/it]\u001b[A\n",
      "17it [01:35,  5.79s/it]\u001b[A\n",
      "18it [01:40,  5.58s/it]\u001b[A\n",
      "19it [01:46,  5.62s/it]\u001b[A\n",
      "20it [01:51,  5.57s/it]\u001b[A\n",
      "21it [01:57,  5.69s/it]\u001b[A\n",
      "22it [02:03,  5.67s/it]\u001b[A\n",
      "23it [02:08,  5.59s/it]\u001b[A\n",
      "24it [02:14,  5.53s/it]\u001b[A\n",
      "25it [02:20,  5.60s/it]\u001b[A\n",
      "26it [02:26,  5.70s/it]\u001b[A\n",
      "27it [02:31,  5.62s/it]\u001b[A\n",
      "28it [02:37,  5.63s/it]\u001b[A\n",
      "29it [02:42,  5.56s/it]\u001b[A\n",
      "30it [02:48,  5.55s/it]\u001b[A\n",
      "31it [02:53,  5.58s/it]\u001b[A\n",
      " 89%|████████▉ | 8/9 [23:34<02:55, 175.91s/it]\n",
      "0it [00:00, ?it/s]\u001b[A"
     ]
    },
    {
     "name": "stdout",
     "output_type": "stream",
     "text": [
      "lhs\n"
     ]
    },
    {
     "name": "stderr",
     "output_type": "stream",
     "text": [
      "\n",
      "1it [00:05,  5.79s/it]\u001b[A\n",
      "2it [00:11,  5.79s/it]\u001b[A\n",
      "3it [00:17,  5.78s/it]\u001b[A\n",
      "4it [00:23,  5.78s/it]\u001b[A\n",
      "5it [00:29,  5.83s/it]\u001b[A\n",
      "6it [00:35,  5.94s/it]\u001b[A\n",
      "7it [00:41,  5.90s/it]\u001b[A\n",
      "8it [00:46,  5.90s/it]\u001b[A\n",
      "9it [00:52,  5.87s/it]\u001b[A\n",
      "10it [00:58,  5.85s/it]\u001b[A\n",
      "11it [01:04,  5.82s/it]\u001b[A\n",
      "12it [01:10,  5.82s/it]\u001b[A\n",
      "13it [01:15,  5.83s/it]\u001b[A\n",
      "14it [01:21,  5.81s/it]\u001b[A\n",
      "15it [01:27,  5.89s/it]\u001b[A\n",
      "16it [01:33,  5.86s/it]\u001b[A\n",
      "17it [01:39,  5.87s/it]\u001b[A\n",
      "18it [01:45,  5.86s/it]\u001b[A\n",
      "19it [01:51,  5.82s/it]\u001b[A\n",
      "20it [01:56,  5.81s/it]\u001b[A\n",
      "21it [02:02,  5.81s/it]\u001b[A\n",
      "22it [02:08,  5.80s/it]\u001b[A\n",
      "23it [02:14,  5.79s/it]\u001b[A\n",
      "24it [02:19,  5.77s/it]\u001b[A\n",
      "25it [02:25,  5.78s/it]\u001b[A\n",
      "26it [02:31,  5.77s/it]\u001b[A\n",
      "27it [02:37,  5.77s/it]\u001b[A\n",
      "28it [02:43,  5.81s/it]\u001b[A\n",
      "29it [02:49,  5.82s/it]\u001b[A\n",
      "30it [02:54,  5.80s/it]\u001b[A\n",
      "31it [03:00,  5.82s/it]\u001b[A\n",
      "100%|██████████| 9/9 [26:34<00:00, 177.22s/it]\n"
     ]
    }
   ],
   "source": [
    "D = {}\n",
    "for result in tqdm(results):\n",
    "    print(result['name'])\n",
    "    y = np.array(result['y'])\n",
    "\n",
    "    if result['name'] == 'lhs':\n",
    "        hvs = np.zeros((y.shape[0], y.shape[1]+10))\n",
    "        igdps = np.zeros((y.shape[0], y.shape[1]+10))\n",
    "        for i, yi in tqdm(enumerate(y)):\n",
    "            for j, yii in enumerate(yi):\n",
    "                hvs[i, j+10] = hv_measure.calc(yii)\n",
    "                igdps[i, j+10] = igdp_measure.calc(yii)\n",
    "    else:\n",
    "        hvs = np.zeros((y.shape[0], y.shape[1]))\n",
    "        igdps = np.zeros((y.shape[0], y.shape[1]))\n",
    "        for i, yi in tqdm(enumerate(y)):\n",
    "            for j in range(1, y.shape[1]+1):\n",
    "                hvs[i, j-1] = hv_measure.calc(yi[:j])\n",
    "                igdps[i, j-1] = igdp_measure.calc(yi[:j])\n",
    "\n",
    "    D[result['name']] = {'name':result['name'], 'hypervolume': hvs, 'igd+':igdps, 'y': result['y'], 'hv_ref': ref_point, 'igd_ref': p, 'x': result['x'], 'seed': result['seed']}\n"
   ]
  },
  {
   "cell_type": "code",
   "execution_count": 16,
   "metadata": {},
   "outputs": [
    {
     "data": {
      "text/plain": [
       "dict_keys(['Mpoi', 'ParEgo', 'Saf_ei', 'Saf_$\\\\mu$', 'SmsEgoMu', 'SmsEgo', 'SmsEgo_ei', 'SmsEgo_$\\\\mu$', 'lhs'])"
      ]
     },
     "execution_count": 16,
     "metadata": {},
     "output_type": "execute_result"
    }
   ],
   "source": [
    "D.keys()"
   ]
  },
  {
   "cell_type": "code",
   "execution_count": 24,
   "metadata": {},
   "outputs": [],
   "source": [
    "p = np.load('../../igd_refpoints/problem_refpoints/data/wfg1_2d_refpoints')"
   ]
  },
  {
   "cell_type": "code",
   "execution_count": 26,
   "metadata": {},
   "outputs": [
    {
     "name": "stdout",
     "output_type": "stream",
     "text": [
      "Mpoi\n",
      "ParEgo\n",
      "Saf_ei\n",
      "Saf_$\\mu$\n",
      "SmsEgoMu\n",
      "SmsEgo\n",
      "SmsEgo_ei\n",
      "SmsEgo_$\\mu$\n",
      "lhs\n"
     ]
    },
    {
     "data": {
      "text/plain": [
       "<matplotlib.legend.Legend at 0x7f249731cf40>"
      ]
     },
     "execution_count": 26,
     "metadata": {},
     "output_type": "execute_result"
    },
    {
     "data": {
      "image/png": "[encoded data removed]",
      "text/plain": [
       "<Figure size 720x720 with 1 Axes>"
      ]
     },
     "metadata": {
      "needs_background": "light"
     },
     "output_type": "display_data"
    }
   ],
   "source": [
    "fig = plt.figure(figsize=[10,10])\n",
    "ax = fig.gca()\n",
    "for name, r in D.items():\n",
    "    print(name)\n",
    "    if name == 'Saf_ei':\n",
    "        ax.scatter(*np.array(r['y'][0]).T, label=name)\n",
    "    \n",
    "ax.plot(*p[np.argsort(p[:,0])].T)\n",
    "ax.legend()"
   ]
  },
  {
   "cell_type": "code",
   "execution_count": 31,
   "metadata": {},
   "outputs": [],
   "source": [
    "import pickle as pkl\n",
    "with open(os.path.join(problem_path, 'pkl_data/results__newsms_fixed.pkl'), 'wb') as outfile:\n",
    "    pkl.dump(D, outfile)"
   ]
  },
  {
   "cell_type": "code",
   "execution_count": null,
   "metadata": {},
   "outputs": [],
   "source": []
  }
 ],
 "metadata": {
  "kernelspec": {
   "display_name": "testsuite",
   "language": "python",
   "name": "testsuite"
  },
  "language_info": {
   "codemirror_mode": {
    "name": "ipython",
    "version": 3
   },
   "file_extension": ".py",
   "mimetype": "text/x-python",
   "name": "python",
   "nbconvert_exporter": "python",
   "pygments_lexer": "ipython3",
   "version": "3.8.3"
  }
 },
 "nbformat": 4,
 "nbformat_minor": 4
}
