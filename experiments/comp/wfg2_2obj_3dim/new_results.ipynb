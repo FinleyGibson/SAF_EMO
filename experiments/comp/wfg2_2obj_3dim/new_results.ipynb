{
 "cells": [
  {
   "cell_type": "code",
   "execution_count": 1,
   "metadata": {},
   "outputs": [],
   "source": [
    "import os\n",
    "import sys\n",
    "import rootpath\n",
    "sys.path.append(rootpath.detect())\n",
    "\n",
    "from testsuite.utilities import Pareto_split\n",
    "from testsuite.analysis import load_all #, plot_all_pareto_2d, PLOT_STYLE, plot_measure\n",
    "from problem_setup import func, y, weighting, n_obj, n_dim\n",
    "\n",
    "import pickle\n",
    "import numpy as np\n",
    "import matplotlib\n",
    "import matplotlib.pyplot as plt\n",
    "from tqdm import tqdm"
   ]
  },
  {
   "cell_type": "code",
   "execution_count": 2,
   "metadata": {},
   "outputs": [],
   "source": [
    "from testsuite import optimisers\n",
    "from pymoo.factory import get_performance_indicator\n",
    "from scipy.spatial import distance_matrix\n",
    "from scipy.spatial.distance import cdist\n",
    "import inspect"
   ]
  },
  {
   "cell_type": "code",
   "execution_count": 3,
   "metadata": {},
   "outputs": [],
   "source": [
    "names = ['Mpoi', 'ParEgo', 'Saf_ei', 'Saf_$\\\\mu$', 'SmsEgo_ei', 'SmsEgo_$\\\\mu$', 'lhs']\n",
    "true_names = ['MPoI', 'ParEGO', 'SAF: ei', 'SAF: $\\mu$', 'SMS-EGO: ei', 'SMS-EGO: $\\mu$', 'LHS']\n",
    "D_names = {a:b for a, b in zip(names, true_names)}"
   ]
  },
  {
   "cell_type": "code",
   "execution_count": 4,
   "metadata": {},
   "outputs": [],
   "source": [
    "OPTIMISER_NAMES = [cls[0].lower() for cls in inspect.getmembers(optimisers, inspect.isclass)\n",
    "        if cls[1].__module__ == 'testsuite.optimisers']"
   ]
  },
  {
   "cell_type": "code",
   "execution_count": 5,
   "metadata": {},
   "outputs": [],
   "source": [
    "def load_result(directory):\n",
    "    result = load_all(directory, trailing_text = \"_results.pkl\")\n",
    "    name = get_name_from_dir(directory)\n",
    "    result['name'] = name\n",
    "    return result\n",
    "\n",
    "def get_name_from_dir(dir_string):\n",
    "    bits = dir_string.split('_')\n",
    "    name = [bit for bit in bits if bit.lower() in OPTIMISER_NAMES]\n",
    "\n",
    "    if type(name) is list:\n",
    "        name = name[0]\n",
    "    if 'ei' in bits:\n",
    "        name+='_ei'\n",
    "    elif 'mean' in bits:\n",
    "        name+='_$\\mu$'\n",
    "    return name"
   ]
  },
  {
   "cell_type": "code",
   "execution_count": 6,
   "metadata": {},
   "outputs": [],
   "source": [
    "problem_path = './'"
   ]
  },
  {
   "cell_type": "code",
   "execution_count": 7,
   "metadata": {},
   "outputs": [
    {
     "name": "stdout",
     "output_type": "stream",
     "text": [
      "./log_data/WFG2_Mpoi_init10_MultiSurrogate_GP_Mpoi\n",
      "./log_data/WFG2_ParEgo_init10\n",
      "./log_data/WFG2_Saf_init10_MultiSurrogate_GP_ei\n",
      "./log_data/WFG2_Saf_init10_MultiSurrogate_GP_mean\n",
      "./log_data/WFG2_SmsEgoMu_init10_MultiSurrogate_GP\n",
      "./log_data/WFG2_SmsEgo_init10_MultiSurrogate_GP\n",
      "./log_data/WFG2_lhs_init10\n"
     ]
    }
   ],
   "source": [
    "# load all results from directory tree\n",
    "result_dirs = sorted(os.listdir(os.path.join(problem_path, \"log_data/\")))\n",
    "results= []\n",
    "for path in result_dirs:\n",
    "    print(os.path.join(problem_path, 'log_data/',  path))\n",
    "    result = load_result(os.path.join(problem_path, 'log_data/',  path))\n",
    "    results.append(result)"
   ]
  },
  {
   "cell_type": "code",
   "execution_count": 8,
   "metadata": {},
   "outputs": [
    {
     "name": "stdout",
     "output_type": "stream",
     "text": [
      "(250, 3)\n",
      "(250, 3)\n",
      "(250, 3)\n",
      "(250, 3)\n",
      "(250, 3)\n",
      "(250, 3)\n",
      "(10, 3)\n"
     ]
    }
   ],
   "source": [
    "for result in results:\n",
    "    try:\n",
    "        print(result['x'][0].shape)\n",
    "    except:\n",
    "        print(result['x'][0][0].shape)"
   ]
  },
  {
   "cell_type": "code",
   "execution_count": 9,
   "metadata": {},
   "outputs": [],
   "source": [
    "p = np.load('../igd_refpoints/problem_refpoints/data/wfg2_2d_refpoints')[::10]"
   ]
  },
  {
   "cell_type": "code",
   "execution_count": 11,
   "metadata": {},
   "outputs": [
    {
     "data": {
      "text/plain": [
       "<matplotlib.collections.PathCollection at 0x7fc3ac901160>"
      ]
     },
     "execution_count": 11,
     "metadata": {},
     "output_type": "execute_result"
    },
    {
     "data": {
      "image/png": "[encoded data removed]",
      "text/plain": [
       "<Figure size 432x288 with 1 Axes>"
      ]
     },
     "metadata": {
      "needs_background": "light"
     },
     "output_type": "display_data"
    }
   ],
   "source": [
    "fig = plt.figure()\n",
    "ax = fig.gca()\n",
    "ax.scatter(*p.T, s=5)"
   ]
  },
  {
   "cell_type": "code",
   "execution_count": 12,
   "metadata": {},
   "outputs": [],
   "source": [
    "y_maxs = np.concatenate([r['y'] for r in results if r['name'] != \"lhs\"], axis=0).reshape(-1, n_obj)\n",
    "ref_point =  y_maxs.max(axis=0)"
   ]
  },
  {
   "cell_type": "code",
   "execution_count": 13,
   "metadata": {},
   "outputs": [],
   "source": [
    "# setup measurement systems\n",
    "hv_measure = get_performance_indicator(\"hv\", ref_point=ref_point)\n",
    "igdp_measure = get_performance_indicator(\"igd+\", p)"
   ]
  },
  {
   "cell_type": "code",
   "execution_count": 14,
   "metadata": {},
   "outputs": [
    {
     "name": "stderr",
     "output_type": "stream",
     "text": [
      "  0%|          | 0/7 [00:00<?, ?it/s]\n",
      "0it [00:00, ?it/s]\u001b[A"
     ]
    },
    {
     "name": "stdout",
     "output_type": "stream",
     "text": [
      "Mpoi\n",
      "\n",
      "Compiled modules for significant speedup can not be used!\n",
      "https://pymoo.org/installation.html#installation\n",
      "\n",
      "To disable this warning:\n",
      "from pymoo.configuration import Configuration\n",
      "Configuration.show_compile_hint = False\n",
      "\n"
     ]
    },
    {
     "name": "stderr",
     "output_type": "stream",
     "text": [
      "\n",
      "1it [00:03,  3.92s/it]\u001b[A\n",
      "2it [00:08,  4.00s/it]\u001b[A\n",
      "3it [00:12,  4.11s/it]\u001b[A\n",
      "4it [00:16,  3.94s/it]\u001b[A\n",
      "5it [00:19,  3.94s/it]\u001b[A\n",
      "6it [00:23,  3.88s/it]\u001b[A\n",
      "7it [00:27,  3.81s/it]\u001b[A\n",
      "8it [00:31,  3.91s/it]\u001b[A\n",
      "9it [00:35,  4.07s/it]\u001b[A\n",
      "10it [00:39,  4.03s/it]\u001b[A\n",
      "11it [00:43,  4.01s/it]\u001b[A\n",
      "12it [00:48,  4.27s/it]\u001b[A\n",
      "13it [00:53,  4.44s/it]\u001b[A\n",
      "14it [00:57,  4.35s/it]\u001b[A\n",
      "15it [01:02,  4.55s/it]\u001b[A\n",
      "16it [01:09,  5.28s/it]\u001b[A\n",
      "17it [01:17,  5.92s/it]\u001b[A\n",
      "18it [01:23,  5.98s/it]\u001b[A\n",
      "19it [01:26,  5.32s/it]\u001b[A\n",
      "20it [01:33,  5.79s/it]\u001b[A\n",
      "21it [01:37,  5.24s/it]\u001b[A\n",
      "22it [01:41,  4.70s/it]\u001b[A\n",
      "23it [01:45,  4.60s/it]\u001b[A\n",
      "24it [01:49,  4.34s/it]\u001b[A\n",
      "25it [01:53,  4.18s/it]\u001b[A\n",
      "26it [01:56,  4.06s/it]\u001b[A\n",
      "27it [02:00,  3.94s/it]\u001b[A\n",
      "28it [02:04,  3.89s/it]\u001b[A\n",
      "29it [02:09,  4.27s/it]\u001b[A\n",
      "30it [02:14,  4.54s/it]\u001b[A\n",
      "31it [02:22,  4.60s/it]\u001b[A\n",
      " 14%|█▍        | 1/7 [02:22<14:14, 142.48s/it]\n",
      "0it [00:00, ?it/s]\u001b[A"
     ]
    },
    {
     "name": "stdout",
     "output_type": "stream",
     "text": [
      "ParEgo\n"
     ]
    },
    {
     "name": "stderr",
     "output_type": "stream",
     "text": [
      "\n",
      "1it [00:04,  4.70s/it]\u001b[A\n",
      "2it [00:08,  4.43s/it]\u001b[A\n",
      "3it [00:12,  4.22s/it]\u001b[A\n",
      "4it [00:15,  4.08s/it]\u001b[A\n",
      "5it [00:19,  3.94s/it]\u001b[A\n",
      "6it [00:23,  3.93s/it]\u001b[A\n",
      "7it [00:28,  4.35s/it]\u001b[A\n",
      "8it [00:35,  5.10s/it]\u001b[A\n",
      "9it [00:42,  5.61s/it]\u001b[A\n",
      "10it [00:49,  6.02s/it]\u001b[A\n",
      "11it [00:55,  6.13s/it]\u001b[A\n",
      "12it [01:02,  6.42s/it]\u001b[A\n",
      "13it [01:07,  5.94s/it]\u001b[A\n",
      "14it [01:11,  5.30s/it]\u001b[A\n",
      "15it [01:15,  4.80s/it]\u001b[A\n",
      "16it [01:19,  4.52s/it]\u001b[A\n",
      "17it [01:22,  4.31s/it]\u001b[A\n",
      "18it [01:28,  4.63s/it]\u001b[A\n",
      "19it [01:35,  5.40s/it]\u001b[A\n",
      "20it [01:42,  5.84s/it]\u001b[A\n",
      "21it [01:47,  5.67s/it]\u001b[A\n",
      "22it [01:54,  6.03s/it]\u001b[A\n",
      "23it [02:01,  6.41s/it]\u001b[A\n",
      "24it [02:06,  5.83s/it]\u001b[A\n",
      "25it [02:13,  6.15s/it]\u001b[A\n",
      "26it [02:20,  6.38s/it]\u001b[A\n",
      "27it [02:26,  6.51s/it]\u001b[A\n",
      "28it [02:32,  6.38s/it]\u001b[A\n",
      "29it [02:36,  5.64s/it]\u001b[A\n",
      "30it [02:40,  5.11s/it]\u001b[A\n",
      "31it [02:45,  5.33s/it]\u001b[A\n",
      " 29%|██▊       | 2/7 [05:07<12:26, 149.28s/it]\n",
      "0it [00:00, ?it/s]\u001b[A"
     ]
    },
    {
     "name": "stdout",
     "output_type": "stream",
     "text": [
      "Saf_ei\n"
     ]
    },
    {
     "name": "stderr",
     "output_type": "stream",
     "text": [
      "\n",
      "1it [00:07,  7.59s/it]\u001b[A\n",
      "2it [00:12,  6.84s/it]\u001b[A\n",
      "3it [00:18,  6.50s/it]\u001b[A\n",
      "4it [00:22,  5.83s/it]\u001b[A\n",
      "5it [00:27,  5.50s/it]\u001b[A\n",
      "6it [00:31,  5.07s/it]\u001b[A\n",
      "7it [00:35,  4.77s/it]\u001b[A\n",
      "8it [00:39,  4.64s/it]\u001b[A\n",
      "9it [00:44,  4.63s/it]\u001b[A\n",
      "10it [00:48,  4.59s/it]\u001b[A\n",
      "11it [00:53,  4.46s/it]\u001b[A\n",
      "12it [00:58,  4.73s/it]\u001b[A\n",
      "13it [01:07,  5.91s/it]\u001b[A\n",
      "14it [01:14,  6.22s/it]\u001b[A\n",
      "15it [01:21,  6.72s/it]\u001b[A\n",
      "16it [01:29,  6.99s/it]\u001b[A\n",
      "17it [01:37,  7.35s/it]\u001b[A\n",
      "18it [01:45,  7.41s/it]\u001b[A\n",
      "19it [01:51,  6.99s/it]\u001b[A\n",
      "20it [01:55,  6.27s/it]\u001b[A\n",
      "21it [02:01,  5.92s/it]\u001b[A\n",
      "22it [02:07,  6.00s/it]\u001b[A\n",
      "23it [02:13,  6.06s/it]\u001b[A\n",
      "24it [02:18,  5.69s/it]\u001b[A\n",
      "25it [02:22,  5.26s/it]\u001b[A\n",
      "26it [02:26,  4.99s/it]\u001b[A\n",
      "27it [02:31,  4.94s/it]\u001b[A\n",
      "28it [02:39,  5.73s/it]\u001b[A\n",
      "29it [02:47,  6.34s/it]\u001b[A\n",
      "30it [02:54,  6.61s/it]\u001b[A\n",
      "31it [03:01,  5.84s/it]\u001b[A\n",
      " 43%|████▎     | 3/7 [08:08<10:35, 158.85s/it]\n",
      "0it [00:00, ?it/s]\u001b[A"
     ]
    },
    {
     "name": "stdout",
     "output_type": "stream",
     "text": [
      "Saf_$\\mu$\n"
     ]
    },
    {
     "name": "stderr",
     "output_type": "stream",
     "text": [
      "\n",
      "1it [00:04,  4.34s/it]\u001b[A\n",
      "2it [00:10,  4.74s/it]\u001b[A\n",
      "3it [00:17,  5.57s/it]\u001b[A\n",
      "4it [00:24,  6.12s/it]\u001b[A\n",
      "5it [00:32,  6.51s/it]\u001b[A\n",
      "6it [00:39,  6.81s/it]\u001b[A\n",
      "7it [00:44,  6.14s/it]\u001b[A\n",
      "8it [00:48,  5.55s/it]\u001b[A\n",
      "9it [00:52,  5.14s/it]\u001b[A\n",
      "10it [00:56,  4.80s/it]\u001b[A\n",
      "11it [01:02,  5.20s/it]\u001b[A\n",
      "12it [01:10,  5.79s/it]\u001b[A\n",
      "13it [01:17,  6.38s/it]\u001b[A\n",
      "14it [01:23,  6.27s/it]\u001b[A\n",
      "15it [01:28,  5.66s/it]\u001b[A\n",
      "16it [01:32,  5.16s/it]\u001b[A\n",
      "17it [01:37,  5.17s/it]\u001b[A\n",
      "18it [01:44,  5.66s/it]\u001b[A\n",
      "19it [01:51,  6.19s/it]\u001b[A\n",
      "20it [01:59,  6.59s/it]\u001b[A\n",
      "21it [02:03,  6.07s/it]\u001b[A\n",
      "22it [02:08,  5.54s/it]\u001b[A\n",
      "23it [02:12,  5.12s/it]\u001b[A\n",
      "24it [02:16,  4.81s/it]\u001b[A\n",
      "25it [02:20,  4.59s/it]\u001b[A\n",
      "26it [02:25,  4.65s/it]\u001b[A\n",
      "27it [02:29,  4.50s/it]\u001b[A\n",
      "28it [02:33,  4.34s/it]\u001b[A\n",
      "29it [02:37,  4.23s/it]\u001b[A\n",
      "30it [02:41,  4.17s/it]\u001b[A\n",
      "31it [02:45,  5.34s/it]\u001b[A\n",
      " 57%|█████▋    | 4/7 [10:54<08:02, 160.84s/it]\n",
      "0it [00:00, ?it/s]\u001b[A"
     ]
    },
    {
     "name": "stdout",
     "output_type": "stream",
     "text": [
      "SmsEgoMu\n"
     ]
    },
    {
     "name": "stderr",
     "output_type": "stream",
     "text": [
      "\n",
      "1it [00:03,  3.95s/it]\u001b[A\n",
      "2it [00:08,  3.99s/it]\u001b[A\n",
      "3it [00:12,  4.00s/it]\u001b[A\n",
      "4it [00:19,  4.89s/it]\u001b[A\n",
      "5it [00:24,  5.13s/it]\u001b[A\n",
      "6it [00:28,  4.74s/it]\u001b[A\n",
      "7it [00:32,  4.57s/it]\u001b[A\n",
      "8it [00:36,  4.36s/it]\u001b[A\n",
      "9it [00:40,  4.26s/it]\u001b[A\n",
      "10it [00:44,  4.15s/it]\u001b[A\n",
      "11it [00:48,  4.10s/it]\u001b[A\n",
      "12it [00:52,  4.06s/it]\u001b[A\n",
      "13it [00:56,  4.02s/it]\u001b[A\n",
      "14it [01:00,  4.07s/it]\u001b[A\n",
      "15it [01:04,  4.09s/it]\u001b[A\n",
      "16it [01:08,  4.15s/it]\u001b[A\n",
      "17it [01:13,  4.23s/it]\u001b[A\n",
      "18it [01:18,  4.56s/it]\u001b[A\n",
      "19it [01:24,  4.81s/it]\u001b[A\n",
      "20it [01:31,  5.63s/it]\u001b[A\n",
      "21it [01:39,  6.22s/it]\u001b[A\n",
      "22it [01:46,  6.58s/it]\u001b[A\n",
      "23it [01:53,  6.72s/it]\u001b[A\n",
      "24it [01:59,  6.40s/it]\u001b[A\n",
      "25it [02:03,  5.70s/it]\u001b[A\n",
      "26it [02:07,  5.21s/it]\u001b[A\n",
      "27it [02:12,  5.03s/it]\u001b[A\n",
      "28it [02:19,  5.64s/it]\u001b[A\n",
      "29it [02:25,  5.89s/it]\u001b[A\n",
      "30it [02:30,  5.57s/it]\u001b[A\n",
      "31it [02:34,  4.98s/it]\u001b[A\n",
      " 71%|███████▏  | 5/7 [13:28<05:17, 158.94s/it]\n",
      "0it [00:00, ?it/s]\u001b[A"
     ]
    },
    {
     "name": "stdout",
     "output_type": "stream",
     "text": [
      "SmsEgo\n"
     ]
    },
    {
     "name": "stderr",
     "output_type": "stream",
     "text": [
      "\n",
      "1it [00:03,  3.97s/it]\u001b[A\n",
      "2it [00:07,  3.99s/it]\u001b[A\n",
      "3it [00:11,  3.89s/it]\u001b[A\n",
      "4it [00:15,  3.86s/it]\u001b[A\n",
      "5it [00:19,  4.00s/it]\u001b[A\n",
      "6it [00:23,  3.99s/it]\u001b[A\n",
      "7it [00:27,  3.98s/it]\u001b[A\n",
      "8it [00:31,  3.96s/it]\u001b[A\n",
      "9it [00:36,  4.09s/it]\u001b[A\n",
      "10it [00:42,  4.73s/it]\u001b[A\n",
      "11it [00:46,  4.60s/it]\u001b[A\n",
      "12it [00:54,  5.55s/it]\u001b[A\n",
      "13it [01:01,  5.99s/it]\u001b[A\n",
      "14it [01:08,  6.39s/it]\u001b[A\n",
      "15it [01:16,  6.69s/it]\u001b[A\n",
      "16it [01:23,  6.87s/it]\u001b[A\n",
      "17it [01:30,  6.99s/it]\u001b[A\n",
      "18it [01:37,  7.01s/it]\u001b[A\n",
      "19it [01:44,  6.99s/it]\u001b[A\n",
      "20it [01:48,  6.08s/it]\u001b[A\n",
      "21it [01:52,  5.49s/it]\u001b[A\n",
      "22it [01:56,  5.04s/it]\u001b[A\n",
      "23it [02:00,  4.76s/it]\u001b[A\n",
      "24it [02:04,  4.53s/it]\u001b[A\n",
      "25it [02:08,  4.34s/it]\u001b[A\n",
      "26it [02:12,  4.19s/it]\u001b[A\n",
      "27it [02:16,  4.17s/it]\u001b[A\n",
      "28it [02:24,  5.20s/it]\u001b[A\n",
      "29it [02:31,  5.72s/it]\u001b[A\n",
      "30it [02:38,  6.33s/it]\u001b[A\n",
      "31it [02:42,  5.25s/it]\u001b[A\n",
      " 86%|████████▌ | 6/7 [16:11<02:40, 160.14s/it]\n",
      "0it [00:00, ?it/s]\u001b[A"
     ]
    },
    {
     "name": "stdout",
     "output_type": "stream",
     "text": [
      "lhs\n"
     ]
    },
    {
     "name": "stderr",
     "output_type": "stream",
     "text": [
      "\n",
      "1it [00:06,  6.23s/it]\u001b[A\n",
      "2it [00:10,  5.61s/it]\u001b[A\n",
      "3it [00:14,  5.14s/it]\u001b[A\n",
      "4it [00:18,  4.81s/it]\u001b[A\n",
      "5it [00:22,  4.63s/it]\u001b[A\n",
      "6it [00:27,  4.63s/it]\u001b[A\n",
      "7it [00:31,  4.45s/it]\u001b[A\n",
      "8it [00:37,  4.93s/it]\u001b[A\n",
      "9it [00:41,  4.66s/it]\u001b[A\n",
      "10it [00:45,  4.49s/it]\u001b[A\n",
      "11it [00:50,  4.57s/it]\u001b[A\n",
      "12it [00:58,  5.57s/it]\u001b[A\n",
      "13it [01:05,  6.03s/it]\u001b[A\n",
      "14it [01:12,  6.49s/it]\u001b[A\n",
      "15it [01:20,  6.80s/it]\u001b[A\n",
      "16it [01:27,  6.95s/it]\u001b[A\n",
      "17it [01:32,  6.44s/it]\u001b[A\n",
      "18it [01:37,  5.76s/it]\u001b[A\n",
      "19it [01:41,  5.24s/it]\u001b[A\n",
      "20it [01:45,  4.86s/it]\u001b[A\n",
      "21it [01:49,  4.62s/it]\u001b[A\n",
      "22it [01:53,  4.47s/it]\u001b[A\n",
      "23it [01:57,  4.37s/it]\u001b[A\n",
      "24it [02:02,  4.45s/it]\u001b[A\n",
      "25it [02:09,  5.40s/it]\u001b[A\n",
      "26it [02:17,  6.04s/it]\u001b[A\n",
      "27it [02:21,  5.58s/it]\u001b[A\n",
      "28it [02:25,  5.12s/it]\u001b[A\n",
      "29it [02:29,  4.79s/it]\u001b[A\n",
      "30it [02:33,  4.56s/it]\u001b[A\n",
      "31it [02:37,  5.09s/it]\u001b[A\n",
      "100%|██████████| 7/7 [18:49<00:00, 161.36s/it]\n"
     ]
    }
   ],
   "source": [
    "D = {}\n",
    "for result in tqdm(results):\n",
    "    print(result['name'])\n",
    "    y = np.array(result['y'])\n",
    "\n",
    "    if result['name'] == 'lhs':\n",
    "        hvs = np.zeros((y.shape[0], y.shape[1]+10))\n",
    "        igdps = np.zeros((y.shape[0], y.shape[1]+10))\n",
    "        for i, yi in tqdm(enumerate(y)):\n",
    "            for j, yii in enumerate(yi):\n",
    "                hvs[i, j+10] = hv_measure.calc(yii)\n",
    "                igdps[i, j+10] = igdp_measure.calc(yii)\n",
    "    else:\n",
    "        hvs = np.zeros((y.shape[0], y.shape[1]))\n",
    "        igdps = np.zeros((y.shape[0], y.shape[1]))\n",
    "        for i, yi in tqdm(enumerate(y)):\n",
    "            for j in range(1, y.shape[1]+1):\n",
    "                hvs[i, j-1] = hv_measure.calc(yi[:j])\n",
    "                igdps[i, j-1] = igdp_measure.calc(yi[:j])\n",
    "\n",
    "    D[result['name']] = {'name':result['name'], 'hypervolume': hvs, 'igd+':igdps, 'y': result['y'], 'hv_ref': ref_point, 'igd_ref': p, 'x': result['x'], 'seed': result['seed']}\n"
   ]
  },
  {
   "cell_type": "code",
   "execution_count": 16,
   "metadata": {},
   "outputs": [
    {
     "name": "stdout",
     "output_type": "stream",
     "text": [
      "Mpoi\n",
      "(31, 250)\n",
      "ParEgo\n",
      "(31, 250)\n",
      "Saf_ei\n",
      "(31, 250)\n",
      "Saf_$\\mu$\n",
      "(31, 250)\n",
      "SmsEgoMu\n",
      "(31, 250)\n",
      "SmsEgo\n",
      "(31, 250)\n",
      "lhs\n",
      "(31, 251)\n"
     ]
    },
    {
     "data": {
      "text/plain": [
       "<matplotlib.legend.Legend at 0x7fc3a7f2ab20>"
      ]
     },
     "execution_count": 16,
     "metadata": {},
     "output_type": "execute_result"
    },
    {
     "data": {
      "image/png": "[encoded data removed]",
      "text/plain": [
       "<Figure size 720x720 with 1 Axes>"
      ]
     },
     "metadata": {
      "needs_background": "light"
     },
     "output_type": "display_data"
    }
   ],
   "source": [
    "fig = plt.figure(figsize=[10,10])\n",
    "ax = fig.gca()\n",
    "for name, d in D.items():\n",
    "    print(name)\n",
    "    print(np.shape(d['hypervolume']))\n",
    "    ax.plot(np.median(d['hypervolume'], axis=0), label=name)\n",
    "    \n",
    "    \n",
    "ax.legend()"
   ]
  },
  {
   "cell_type": "code",
   "execution_count": 17,
   "metadata": {},
   "outputs": [
    {
     "data": {
      "text/plain": [
       "<matplotlib.legend.Legend at 0x7fc3a7d035e0>"
      ]
     },
     "execution_count": 17,
     "metadata": {},
     "output_type": "execute_result"
    },
    {
     "data": {
      "image/png": "[encoded data removed]",
      "text/plain": [
       "<Figure size 720x720 with 1 Axes>"
      ]
     },
     "metadata": {
      "needs_background": "light"
     },
     "output_type": "display_data"
    }
   ],
   "source": [
    "fig = plt.figure(figsize=[10,10])\n",
    "ax = fig.gca()\n",
    "for name, d in D.items():\n",
    "    ax.plot(np.median(d['igd+'], axis=0), label=name)\n",
    "    \n",
    "ax.legend()"
   ]
  },
  {
   "cell_type": "code",
   "execution_count": 18,
   "metadata": {},
   "outputs": [],
   "source": [
    "%matplotlib qt"
   ]
  },
  {
   "cell_type": "code",
   "execution_count": 20,
   "metadata": {},
   "outputs": [
    {
     "name": "stdout",
     "output_type": "stream",
     "text": [
      "Mpoi\n",
      "ParEgo\n",
      "Saf_ei\n",
      "Saf_$\\mu$\n",
      "SmsEgoMu\n",
      "SmsEgo\n"
     ]
    },
    {
     "data": {
      "text/plain": [
       "<matplotlib.legend.Legend at 0x7fc3a7f30fd0>"
      ]
     },
     "execution_count": 20,
     "metadata": {},
     "output_type": "execute_result"
    }
   ],
   "source": [
    "fig = plt.figure(figsize=[10,10])\n",
    "ax = fig.gca()\n",
    "for name, d in D.items():\n",
    "    if name != 'lhs':\n",
    "        print(name)\n",
    "#     for y in d['y']:\n",
    "        y = d['y'][0]\n",
    "        ax.scatter(*y.T, label=name)\n",
    "ax.scatter(*p.T, color=\"lightgrey\", alpha=0.2)\n",
    "ax.legend()"
   ]
  },
  {
   "cell_type": "code",
   "execution_count": null,
   "metadata": {},
   "outputs": [],
   "source": []
  },
  {
   "cell_type": "code",
   "execution_count": 21,
   "metadata": {},
   "outputs": [
    {
     "data": {
      "text/plain": [
       "dict_keys(['Mpoi', 'ParEgo', 'Saf_ei', 'Saf_$\\\\mu$', 'SmsEgoMu', 'SmsEgo', 'lhs'])"
      ]
     },
     "execution_count": 21,
     "metadata": {},
     "output_type": "execute_result"
    }
   ],
   "source": [
    "D.keys()"
   ]
  },
  {
   "cell_type": "code",
   "execution_count": 31,
   "metadata": {},
   "outputs": [],
   "source": [
    "import pickle as pkl\n",
    "with open(os.path.join(problem_path, 'pkl_data/results__newsms_fixed.pkl'), 'wb') as outfile:\n",
    "    pkl.dump(D, outfile)"
   ]
  },
  {
   "cell_type": "code",
   "execution_count": null,
   "metadata": {},
   "outputs": [],
   "source": []
  }
 ],
 "metadata": {
  "kernelspec": {
   "display_name": "testsuite",
   "language": "python",
   "name": "testsuite"
  },
  "language_info": {
   "codemirror_mode": {
    "name": "ipython",
    "version": 3
   },
   "file_extension": ".py",
   "mimetype": "text/x-python",
   "name": "python",
   "nbconvert_exporter": "python",
   "pygments_lexer": "ipython3",
   "version": "3.8.3"
  }
 },
 "nbformat": 4,
 "nbformat_minor": 4
}
