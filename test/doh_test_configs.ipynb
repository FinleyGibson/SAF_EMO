{
 "cells": [
  {
   "cell_type": "code",
   "execution_count": 1,
   "metadata": {},
   "outputs": [],
   "source": [
    "import sys\n",
    "import rootpath\n",
    "sys.path.append(rootpath.detect())"
   ]
  },
  {
   "cell_type": "code",
   "execution_count": 2,
   "metadata": {},
   "outputs": [],
   "source": [
    "import numpy as np\n",
    "import matplotlib.pyplot as plt\n",
    "from pymoo.factory import get_performance_indicator"
   ]
  },
  {
   "cell_type": "code",
   "execution_count": 3,
   "metadata": {},
   "outputs": [],
   "source": [
    "from testsuite.utilities import Pareto_split"
   ]
  },
  {
   "cell_type": "code",
   "execution_count": 210,
   "metadata": {},
   "outputs": [],
   "source": [
    "def image_case(case):\n",
    "    fig = plt.figure(figsize=[6,6])\n",
    "    ax = fig.gca()\n",
    "    ax.scatter(*case['a'].T, c=\"C0\", label=\"a\")\n",
    "    ax.scatter(*case['b'].T, c=\"C1\", label=\"b\")\n",
    "    ax.set_title(f\"a dominates b = {case['dominated']} (strict:{case['strict']})\")\n",
    "    ax.grid('on')\n",
    "    ax.axis(\"scaled\")\n",
    "    ax.set_xticks(range(0,7)) \n",
    "    ax.set_yticks(range(0,7)) \n",
    "    ax.legend(loc=\"upper left\")\n",
    "    return fig\n",
    "\n",
    "# TestDifferenceOfHypervolumes\n",
    "# basic dominated \n",
    "case_00 = {'a': np.array([[1., 2.],\n",
    "                          [2., 1.]\n",
    "                         ]),\n",
    "           'b': np.array([[3., 3.]]),\n",
    "           'dominated': True,\n",
    "           'maximize': False,\n",
    "           'strict': True\n",
    "          }\n",
    "\n",
    "# basic non-dominated \n",
    "case_01 = {'a': np.array([[1., 4.],\n",
    "                          [4., 1.]\n",
    "                         ]),\n",
    "           'b': np.array([[3., 3.]]),\n",
    "           'dominated': False,\n",
    "           'maximize': False,\n",
    "           'strict': True\n",
    "          }\n",
    "# edge dominated, strict\n",
    "case_02 = {'a': np.array([[1., 3.],\n",
    "                          [3., 1.]\n",
    "                         ]),\n",
    "           'b': np.array([[3., 3.]]),\n",
    "           'dominated': False,\n",
    "           'maximize': False,\n",
    "           'strict': True\n",
    "          }\n",
    "# edge dominated, strict\n",
    "case_03 = {'a': np.array([[1., 3.],\n",
    "                          [3., 1.]\n",
    "                         ]),\n",
    "           'b': np.array([[3., 3.]]),\n",
    "           'dominated': True,\n",
    "           'maximize': False,\n",
    "           'strict': False \n",
    "          }\n",
    "# edge non-dominated, beyond scope \n",
    "case_04 = {'a': np.array([[1., 4.],\n",
    "                          [4., 1.]\n",
    "                         ]),\n",
    "           'b': np.array([[0., 5.]]),\n",
    "           'dominated': False,\n",
    "           'maximize': False,\n",
    "           'strict': True\n",
    "          }\n",
    "\n",
    "# edge dominated, beyond scope \n",
    "case_05 = {'a': np.array([[1., 4.],\n",
    "                          [4., 1.]\n",
    "                         ]),\n",
    "           'b': np.array([[2., 5.]]),\n",
    "           'dominated': True,\n",
    "           'maximize': False,\n",
    "           'strict': True\n",
    "          }\n",
    "\n",
    "# edge dominated, beyond scope, strict\n",
    "case_06 = {'a': np.array([[1., 4.],\n",
    "                          [4., 1.]\n",
    "                         ]),\n",
    "           'b': np.array([[1., 5.]]),\n",
    "           'dominated': False,\n",
    "           'maximize': False,\n",
    "           'strict': True \n",
    "          }\n",
    "\n",
    "# edge dominated, beyond scope, non-strict\n",
    "case_07 = {'a': np.array([[1., 4.],\n",
    "                          [4., 1.]\n",
    "                         ]),\n",
    "           'b': np.array([[1., 5.]]),\n",
    "           'dominated': True,\n",
    "           'maximize': False,\n",
    "           'strict': False \n",
    "          }\n",
    "\n",
    "\n",
    "# inverted\n",
    "# basic dominated \n",
    "case_10 = {'a': np.array([[1., 2.],\n",
    "                          [2., 1.]\n",
    "                         ]),\n",
    "           'b': np.array([[3., 3.]]),\n",
    "           'dominated': False,\n",
    "           'maximize': True,\n",
    "           'strict': True\n",
    "          }\n",
    "\n",
    "# basic non-dominated \n",
    "case_11 = {'a': np.array([[1., 4.],\n",
    "                          [4., 1.]\n",
    "                         ]),\n",
    "           'b': np.array([[3., 3.]]),\n",
    "           'dominated': False,\n",
    "           'maximize': True,\n",
    "           'strict': True\n",
    "          }\n",
    "# edge dominated, strict\n",
    "case_12 = {'a': np.array([[1., 3.],\n",
    "                          [3., 1.]\n",
    "                         ]),\n",
    "           'b': np.array([[1., 1.]]),\n",
    "           'dominated': False,\n",
    "           'maximize': True,\n",
    "           'strict': True\n",
    "          }\n",
    "# edge dominated, strict\n",
    "case_13 = {'a': np.array([[1., 3.],\n",
    "                          [3., 1.]\n",
    "                         ]),\n",
    "           'b': np.array([[1., 1.]]),\n",
    "           'dominated': True,\n",
    "           'maximize': True,\n",
    "           'strict': False \n",
    "          }\n",
    "# edge non-dominated, beyond scope \n",
    "case_14 = {'a': np.array([[1., 4.],\n",
    "                          [4., 1.]\n",
    "                         ]),\n",
    "           'b': np.array([[0., 5.]]),\n",
    "           'dominated': False,\n",
    "           'maximize': True,\n",
    "           'strict': True\n",
    "          }\n",
    "\n",
    "# edge dominated, beyond scope \n",
    "case_15 = {'a': np.array([[1., 4.],\n",
    "                          [4., 1.]\n",
    "                         ]),\n",
    "           'b': np.array([[2., 5.]]),\n",
    "           'dominated': False,\n",
    "           'maximize': True,\n",
    "           'strict': True\n",
    "          }\n",
    "\n",
    "# edge dominated, beyond scope, strict\n",
    "case_16 = {'a': np.array([[1., 4.],\n",
    "                          [4., 1.]\n",
    "                         ]),\n",
    "           'b': np.array([[0., 4.]]),\n",
    "           'dominated': False,\n",
    "           'maximize': True,\n",
    "           'strict': True \n",
    "          }\n",
    "\n",
    "# edge dominated, beyond scope, non-strict\n",
    "case_17 = {'a': np.array([[1., 4.],\n",
    "                          [4., 1.]\n",
    "                         ]),\n",
    "           'b': np.array([[0., 4.]]),\n",
    "           'dominated': True,\n",
    "           'maximize': True,\n",
    "           'strict': False \n",
    "          }\n",
    "\n",
    "case_20 = {'a': np.array([[1., 2.],\n",
    "                          [2., 1.]\n",
    "                         ]),\n",
    "           'b': np.array([[3., 3.], [3., 0.]]),\n",
    "           'dominated': [True, False],\n",
    "           'maximize': False,\n",
    "           'strict': True\n",
    "          }\n",
    "\n",
    "case_21 = {'a': np.array([[1., 2.],\n",
    "                          [2., 1.]\n",
    "                         ]),\n",
    "           'b': np.array([[3., 3.], [3., 2.]]),\n",
    "           'dominated': [True, True],\n",
    "           'maximize': False,\n",
    "           'strict': True\n",
    "          }\n",
    "\n",
    "case_22 = {'a': np.array([[1., 2.],\n",
    "                          [2., 1.]\n",
    "                         ]),\n",
    "           'b': np.array([[3., 0.], [1., 1.]]),\n",
    "           'dominated': [False, False],\n",
    "           'maximize': False,\n",
    "           'strict': True\n",
    "          }\n",
    "\n",
    "case_23 = {'a': np.array([[1., 2.],\n",
    "                          [2., 1.]\n",
    "                         ]),\n",
    "           'b': np.array([[3., 0.], [1., 1.]]),\n",
    "           'dominated': [True, True],\n",
    "           'maximize': False,\n",
    "           'strict': False \n",
    "          }"
   ]
  },
  {
   "cell_type": "code",
   "execution_count": 211,
   "metadata": {},
   "outputs": [],
   "source": [
    "def dominates(a: np.ndarray, b: np.ndarray, maximize: bool = False, strict=False):\n",
    "    \"\"\"\n",
    "    \n",
    "    returns True if a dominates all of b, else returns False\n",
    "    :param np.ndarray a: dominating query points (n_points, point_dims)\n",
    "    :param np.ndarray b: dominated query points (n_points, point_dims)\n",
    "    :param bool maximize: True for finding domination relation in a\n",
    "    maximisation problem, False for minimisaiton problem/\n",
    "    :return bool: True if a dominate b, else returns False\n",
    "    \"\"\"\n",
    "    \n",
    "#     if len(a) < 2:\n",
    "#         if maximize:\n",
    "#             return np.all(a > b)\n",
    "#         else:\n",
    "#             return np.all(a < b)\n",
    "    if b.shape[0]>1:\n",
    "        return [dominates(a, bi.reshape(1, -1)) for bi in b]\n",
    "    else:\n",
    "        if maximize and strict:\n",
    "            return np.all(a>b, axis=1).any()\n",
    "        elif maximize and not strict:\n",
    "            return np.all(a>=b, axis=1).any()\n",
    "        elif not maximize and strict:\n",
    "            return np.all(a<b, axis=1).any()\n",
    "        elif not maximize and not strict:\n",
    "            return np.all(a<=b, axis=1).any()\n",
    "\n"
   ]
  },
  {
   "cell_type": "code",
   "execution_count": 212,
   "metadata": {},
   "outputs": [],
   "source": [
    "def dominated(a: np.ndarray, b: np.ndarray, maximize: bool = False, strict=False):\n",
    "    \"\"\"\n",
    "    \n",
    "    returns True if a is dominated all of b, else returns False\n",
    "    :param np.ndarray a: dominating query points (n_points, point_dims)\n",
    "    :param np.ndarray b: dominated query points (n_points, point_dims)\n",
    "    :param bool maximize: True for finding domination relation in a\n",
    "    maximisation problem, False for minimisaiton problem/\n",
    "    :return bool: True if a dominate b, else returns False\n",
    "    \"\"\"\n",
    "    \n",
    "    if a.shape[0]>1:\n",
    "        return [dominated(ai.reshape(1,-1), b) for ai in a]\n",
    "    else:\n",
    "        if maximize and not strict:\n",
    "            return np.all(a<b, axis=1).any()\n",
    "        elif maximize and strict:\n",
    "            return np.all(a<=b, axis=1).any()\n",
    "        elif not maximize and not strict:\n",
    "            return np.all(a>b, axis=1).any()\n",
    "        elif not maximize and strict:\n",
    "            return np.all(a>=b, axis=1).any()\n",
    "\n"
   ]
  },
  {
   "cell_type": "code",
   "execution_count": 214,
   "metadata": {},
   "outputs": [
    {
     "name": "stdout",
     "output_type": "stream",
     "text": [
      "[False, False]\n",
      "[False, False]\n"
     ]
    },
    {
     "data": {
      "image/png": "[encoded data removed]",
      "text/plain": [
       "<Figure size 432x432 with 1 Axes>"
      ]
     },
     "metadata": {
      "needs_background": "light"
     },
     "output_type": "display_data"
    }
   ],
   "source": [
    "case = case_23\n",
    "print(dominates(case['a'], case['b'], maximize=case['maximize'], strict=case['strict']))\n",
    "image_case(case)\n",
    "print(dominated(case['a'], case['b'], maximize=case['maximize'], strict=case['strict']))"
   ]
  },
  {
   "cell_type": "code",
   "execution_count": 193,
   "metadata": {},
   "outputs": [
    {
     "data": {
      "text/plain": [
       "(2, 2)"
      ]
     },
     "execution_count": 193,
     "metadata": {},
     "output_type": "execute_result"
    }
   ],
   "source": [
    "case['a'].shape"
   ]
  },
  {
   "cell_type": "code",
   "execution_count": 35,
   "metadata": {},
   "outputs": [],
   "source": [
    "def dominates(a: np.ndarray, b: np.ndarray,\n",
    "              maximize: bool = False,\n",
    "              strict: bool = True):\n",
    "    \"\"\"\n",
    "    returns True if any of a dominate b, else returns False\n",
    "\n",
    "    :param a: np.ndarray (n_points, point_dims)\n",
    "        dominating query point\n",
    "    :param b: np.ndarray\n",
    "        dominated query points (n_points, point_dims)\n",
    "    :param maximize: bool\n",
    "        True for finding domination relation in a\n",
    "        maximisation problem, False for minimisaiton problem.\n",
    "    :param strict: bool\n",
    "        if True then computes strict dominance, otherwise allows equal\n",
    "        value in a given dimension to count as non-dominated\n",
    "            - swaps < for <=\n",
    "            - swaps > for >=\n",
    "\n",
    "    :return bool: True if a dominates b, else returns False\"\n",
    "    \"\"\"\n",
    "    if b.ndim > 1:\n",
    "        return np.any([dominates(a, bi, maximize, strict) for bi in b])\n",
    "    else:\n",
    "        b = b.reshape(1, -1)\n",
    "        print(a.shape)\n",
    "        print(b.shape)\n",
    "        print(np.all(a<b))\n",
    "        return np.any(np.all(a < b))\n",
    "        \n",
    "#     else:\n",
    "#         if maximize and strict:\n",
    "#             return np.any(np.all(a > b))\n",
    "#         elif not maximize and strict:\n",
    "#             return np.any(np.all(a < b))\n",
    "#         elif maximize and not strict:\n",
    "#             return np.any(np.all(a >= b))\n",
    "#         elif not maximize and not strict:\n",
    "#             return np.any(np.all(a <= b))\n",
    "#         else:\n",
    "#             raise"
   ]
  },
  {
   "cell_type": "code",
   "execution_count": 6,
   "metadata": {},
   "outputs": [],
   "source": [
    "def image_case(case):\n",
    "    fig = plt.figure(figsize=[6,6])\n",
    "    ax = fig.gca()\n",
    "    ax.scatter(*case['p'].T, c=\"C0\", label=\"p\")\n",
    "    ax.scatter(*case['target'], c=\"magenta\", label=\"target\")\n",
    "    ax.scatter(*case['ref_point'], c=\"C2\", label=\"reference\")\n",
    "    ax.set_title(f\"doh = {case['doh']}\")\n",
    "    ax.grid('on')\n",
    "    ax.axis(\"scaled\")\n",
    "    ax.set_xticks(range(0,7)) \n",
    "    ax.set_yticks(range(0,7)) \n",
    "    ax.legend(loc=\"upper left\")\n",
    "    return fig\n",
    "\n",
    "# TestDifferenceOfHypervolumes\n",
    "# basic dominated \n",
    "case_00 = {'ref_point': np.array([5., 5.]),\n",
    "          'target' : np.array([4., 4.]),\n",
    "          'p' : np.array([[1., 3.],\n",
    "                          [2., 2.],\n",
    "                          [4., 1.]]),\n",
    "          'doh': -5.\n",
    "          }\n",
    "\n",
    "# basic non-dominated \n",
    "case_01 = {'ref_point': np.array([5., 5.]),\n",
    "          'target' : np.array([1., 1.]),\n",
    "          'p' : np.array([[1., 3.],\n",
    "                          [2., 2.],\n",
    "                          [4., 1.]]),\n",
    "          'doh': 4.\n",
    "          }\n",
    "\n",
    "# edge: dominated, in-line with target\n",
    "case_02 = {'ref_point': np.array([5., 5.]),\n",
    "          'target' : np.array([1., 5.]),\n",
    "          'p' : np.array([[1., 3.],\n",
    "                          [2., 2.],\n",
    "                          [4., 1.]]),\n",
    "          'doh': 0.\n",
    "          }\n",
    "\n",
    "# edge: non-dominated, in-line with target\n",
    "case_03 = {'ref_point': np.array([5., 5.]),\n",
    "          'target' : np.array([5., 0.]),\n",
    "          'p' : np.array([[1., 3.],\n",
    "                          [2., 2.],\n",
    "                          [4., 1.]]),\n",
    "          'doh': 0.\n",
    "          }\n",
    "\n",
    "# edge: dominated,  beyond scope of p \n",
    "case_04 = {'ref_point': np.array([5., 5.]),\n",
    "          'target' : np.array([0., 4.]),\n",
    "          'p' : np.array([[1., 3.],\n",
    "                          [2., 2.],\n",
    "                          [4., 1.]]),\n",
    "          'doh': 1.\n",
    "          }\n",
    "\n",
    "# edge: non-dominated, beyond scope of p \n",
    "case_05 = {'ref_point': np.array([5., 5.]),\n",
    "          'target' : np.array([2., 4.]),\n",
    "          'p' : np.array([[1., 3.],\n",
    "                          [2., 2.],\n",
    "                          [4., 1.]]),\n",
    "          'doh': -1.\n",
    "          }\n",
    "\n",
    "# edge: beyond reference point \n",
    "case_06 = {'ref_point': np.array([5., 5.]),\n",
    "          'target' : np.array([6., 0.]),\n",
    "          'p' : np.array([[1., 3.],\n",
    "                          [2., 2.],\n",
    "                          [4., 1.]]),\n",
    "          'doh': AssertionError\n",
    "          }"
   ]
  },
  {
   "cell_type": "code",
   "execution_count": 7,
   "metadata": {},
   "outputs": [
    {
     "data": {
      "image/png": "[encoded data removed]",
      "text/plain": [
       "<Figure size 432x432 with 1 Axes>"
      ]
     },
     "metadata": {
      "needs_background": "light"
     },
     "output_type": "display_data"
    }
   ],
   "source": [
    "image_case(case_01);"
   ]
  },
  {
   "cell_type": "code",
   "execution_count": 57,
   "metadata": {},
   "outputs": [],
   "source": [
    "def image_case(case):\n",
    "    fig = plt.figure(figsize=[6,6])\n",
    "    ax = fig.gca()\n",
    "    ax.scatter(*case['p'].T, c=\"C0\", label=\"p\")\n",
    "    ax.scatter(*case['target'].T, c=\"magenta\", label=\"target\")\n",
    "    ax.scatter(*case['ref_point'], c=\"C2\", label=\"reference\")\n",
    "    ax.set_title(f\"expected: {case['doh']}    computed: {volume_a(case)}\")\n",
    "    ax.grid('on')\n",
    "    ax.axis(\"scaled\")\n",
    "    ax.set_xticks(range(0,12)) \n",
    "    ax.set_yticks(range(0,12)) \n",
    "    ax.legend(loc=\"lower left\")\n",
    "    return fig"
   ]
  },
  {
   "cell_type": "code",
   "execution_count": 58,
   "metadata": {},
   "outputs": [],
   "source": [
    "# def volume_a(case):\n",
    "#     \"\"\"\n",
    "#     hv(t) - hv(t U p)\n",
    "#     \"\"\"\n",
    "#     rp = case['ref_point']\n",
    "#     t = case['target']\n",
    "#     p = case['p']\n",
    "    \n",
    "#     measure = get_performance_indicator(\"hv\", ref_point = rp)\n",
    "    \n",
    "#     a = np.array([p_max[0], p_min[1]]).reshape(1, -1)\n",
    "#     b = np.array([p_min[0], p_max[1]]).reshape(1, -1)\n",
    "    \n",
    "#     ta = t[np.argmin(t[:,0], axis=0)]\n",
    "#     tb = t[np.argmax(t[:,0], axis=0)]\n",
    "    \n",
    "#     fa = np.vstack((ta, a)).max(axis=0).reshape(1,-1)\n",
    "#     fb = np.vstack((tb, b)).max(axis=0).reshape(1,-1)\n",
    "    \n",
    "#     print(fa)\n",
    "#     print(fb)\n",
    "#     ff = np.vstack((fa, fb)) \n",
    "#     return measure.calc(ff)"
   ]
  },
  {
   "cell_type": "code",
   "execution_count": 59,
   "metadata": {},
   "outputs": [],
   "source": [
    "case_00 = {'ref_point': np.array([10., 10.]),\n",
    "          'target' : np.array([[2., 8.],\n",
    "                               [8., 6.]]),\n",
    "          'p' : np.array([[1., 7.],\n",
    "                          [3., 6.],\n",
    "                          [5., 5.],\n",
    "                          [7., 4.]]),\n",
    "          'doh': 20.\n",
    "          }\n",
    "\n",
    "case_01 = {'ref_point': np.array([10., 10.]),\n",
    "          'target' : np.array([[0., 8.],\n",
    "                               [8., 3.]]),\n",
    "          'p' : np.array([[1., 7.],\n",
    "                          [3., 6.],\n",
    "                          [5., 5.],\n",
    "                          [7., 4.]]),\n",
    "          'doh': 26.\n",
    "          }\n",
    "\n",
    "case_02 = {'ref_point': np.array([10., 10.]),\n",
    "          'target' : np.array([[0., 7.],\n",
    "                               [7., 3.]]),\n",
    "          'p' : np.array([[1., 7.],\n",
    "                          [3., 6.],\n",
    "                          [5., 5.],\n",
    "                          [7., 4.]]),\n",
    "          'doh': 36.\n",
    "          }\n",
    "\n",
    "case_03 = {'ref_point': np.array([10., 10.]),\n",
    "          'target' : np.array([[1., 8.],\n",
    "                               [8., 4.]]),\n",
    "          'p' : np.array([[1., 7.],\n",
    "                          [3., 6.],\n",
    "                          [5., 5.],\n",
    "                          [7., 4.]]),\n",
    "          'doh': 26.\n",
    "          }\n",
    "\n",
    "case_04 = {'ref_point': np.array([10., 10.]),\n",
    "          'target' : np.array([[3., 8.],\n",
    "                               [6., 6.]]),\n",
    "          'p' : np.array([[1., 7.],\n",
    "                          [3., 6.],\n",
    "                          [5., 5.],\n",
    "                          [7., 4.]]),\n",
    "          'doh': 22.\n",
    "          }\n",
    "case_05 = {'ref_point': np.array([10., 10.]),\n",
    "          'target' : np.array([[2., 8.],\n",
    "                               [9., 3.]]),\n",
    "          'p' : np.array([[0., 8.],\n",
    "                          [1., 7.],\n",
    "                          [3., 6.],\n",
    "                          [5., 5.],\n",
    "                          [7., 4.]]),\n",
    "          'doh': 20.\n",
    "          }\n",
    "\n",
    "# case_02 = {'ref_point': np.array([10., 10.]),\n",
    "#           'target' : np.array([[0., 8.],\n",
    "#                                [9., 5.]]),\n",
    "#           'p' : np.array([[1., 7.],\n",
    "#                           [3., 6.],\n",
    "#                           [5., 5.],\n",
    "#                           [7., 4.]]),\n",
    "#           'doh': 21.\n",
    "#           }"
   ]
  },
  {
   "cell_type": "code",
   "execution_count": 89,
   "metadata": {},
   "outputs": [],
   "source": [
    "def volume_a(case):\n",
    "    rp = case['ref_point']\n",
    "    t = case['target']\n",
    "    p = case['p']\n",
    "    \n",
    "    n_obj = t.shape[1]\n",
    "    \n",
    "    \n",
    "    max_t = t.max(axis=0)\n",
    "    \n",
    "    t_new = np.zeros_like(t)\n",
    "    \n",
    "    for obj in range(n_obj):\n",
    "        \n",
    "    for i, ti in enumerate(t):\n",
    "        \n",
    "    measure = get_performance_indicator(\"hv\", ref_point=rp) \n",
    "        "
   ]
  },
  {
   "cell_type": "code",
   "execution_count": 4,
   "metadata": {},
   "outputs": [
    {
     "ename": "NameError",
     "evalue": "name 'case_00' is not defined",
     "output_type": "error",
     "traceback": [
      "\u001b[0;31m---------------------------------------------------------------------------\u001b[0m",
      "\u001b[0;31mNameError\u001b[0m                                 Traceback (most recent call last)",
      "\u001b[0;32m<ipython-input-4-6775362ab076>\u001b[0m in \u001b[0;36m<module>\u001b[0;34m\u001b[0m\n\u001b[0;32m----> 1\u001b[0;31m \u001b[0mcase\u001b[0m \u001b[0;34m=\u001b[0m \u001b[0mcase_00\u001b[0m\u001b[0;34m\u001b[0m\u001b[0;34m\u001b[0m\u001b[0m\n\u001b[0m",
      "\u001b[0;31mNameError\u001b[0m: name 'case_00' is not defined"
     ]
    }
   ],
   "source": [
    "case = case_00"
   ]
  },
  {
   "cell_type": "code",
   "execution_count": 91,
   "metadata": {},
   "outputs": [
    {
     "name": "stdout",
     "output_type": "stream",
     "text": [
      "[[2. 8.]\n",
      " [8. 6.]]\n"
     ]
    },
    {
     "data": {
      "image/png": "[encoded data removed]",
      "text/plain": [
       "<Figure size 432x432 with 1 Axes>"
      ]
     },
     "metadata": {
      "needs_background": "light"
     },
     "output_type": "display_data"
    }
   ],
   "source": [
    "image_case(case);"
   ]
  },
  {
   "cell_type": "code",
   "execution_count": 481,
   "metadata": {},
   "outputs": [
    {
     "data": {
      "text/plain": [
       "<matplotlib.collections.PathCollection at 0x7f50fa16dc10>"
      ]
     },
     "execution_count": 481,
     "metadata": {},
     "output_type": "execute_result"
    },
    {
     "data": {
      "image/png": "[encoded data removed]",
      "text/plain": [
       "<Figure size 432x288 with 1 Axes>"
      ]
     },
     "metadata": {
      "needs_background": "light"
     },
     "output_type": "display_data"
    }
   ],
   "source": [
    "plt.scatter(*p.T, c=\"C0\", s=100, alpha=.5)\n",
    "plt.scatter(*p_mod.T, c=\"C1\")\n",
    "plt.scatter(*t.T, c=\"magenta\")"
   ]
  },
  {
   "cell_type": "code",
   "execution_count": 541,
   "metadata": {},
   "outputs": [
    {
     "name": "stdout",
     "output_type": "stream",
     "text": [
      "[1. 7.]\n",
      "[7. 4.]\n"
     ]
    }
   ],
   "source": [
    "project_targets(case['p'], case['target'])"
   ]
  },
  {
   "cell_type": "code",
   "execution_count": null,
   "metadata": {},
   "outputs": [],
   "source": []
  },
  {
   "cell_type": "code",
   "execution_count": null,
   "metadata": {},
   "outputs": [],
   "source": []
  }
 ],
 "metadata": {
  "kernelspec": {
   "display_name": "testsuite",
   "language": "python",
   "name": "testsuite"
  },
  "language_info": {
   "codemirror_mode": {
    "name": "ipython",
    "version": 3
   },
   "file_extension": ".py",
   "mimetype": "text/x-python",
   "name": "python",
   "nbconvert_exporter": "python",
   "pygments_lexer": "ipython3",
   "version": "3.8.3"
  }
 },
 "nbformat": 4,
 "nbformat_minor": 4
}
