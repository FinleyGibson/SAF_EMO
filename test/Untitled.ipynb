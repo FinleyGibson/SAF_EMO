{
 "cells": [
  {
   "cell_type": "code",
   "execution_count": 1,
   "metadata": {},
   "outputs": [],
   "source": [
    "import sys\n",
    "import rootpath\n",
    "sys.path.append(rootpath.detect())"
   ]
  },
  {
   "cell_type": "code",
   "execution_count": 2,
   "metadata": {},
   "outputs": [],
   "source": [
    "import numpy as np\n",
    "import matplotlib.pyplot as plt\n",
    "from pymoo.factory import get_performance_indicator\n",
    "from testsuite.utilities import dominates"
   ]
  },
  {
   "cell_type": "code",
   "execution_count": 41,
   "metadata": {},
   "outputs": [],
   "source": [
    "def image_case(case):\n",
    "    fig = plt.figure(figsize=[6,6])\n",
    "    ax = fig.gca()\n",
    "    ax.scatter(*case['p'].T, c=\"C0\", label=\"p\")\n",
    "    ax.scatter(*case['target'].T, c=\"magenta\", label=\"target\")\n",
    "    ax.scatter(*case['ref_point'], c=\"C2\", label=\"reference\")\n",
    "    try:\n",
    "        ax.set_title(f\" a expected: {case['doh'][0]} computed: {volume(case)[0]} \\n b expected: {case['doh'][1]} computed: {volume(case)[1]}\")\n",
    "    except TypeError: \n",
    "        ax.set_title(f\"{case['doh']}\")\n",
    "    ax.grid('on')\n",
    "    ax.axis(\"scaled\")\n",
    "    ax.set_xticks(range(0,12)) \n",
    "    ax.set_yticks(range(0,12)) \n",
    "    ax.legend(loc=\"lower left\")\n",
    "    return fig"
   ]
  },
  {
   "cell_type": "code",
   "execution_count": 39,
   "metadata": {},
   "outputs": [],
   "source": [
    "# target attained\n",
    "case_00 = {'ref_point': np.array([10., 10.]),\n",
    "          'target' : np.array([[6., 7.]]),\n",
    "          'p' : np.array([[1., 7.],\n",
    "                          [3., 6.],\n",
    "                          [5., 5.],\n",
    "                          [7., 4.]]),\n",
    "          'doh': (12., 4.)\n",
    "          }\n",
    "\n",
    "# target unattained\n",
    "case_01 = {'ref_point': np.array([10., 10.]),\n",
    "          'target' : np.array([[2., 4.]]),\n",
    "          'p' : np.array([[1., 7.],\n",
    "                          [3., 6.],\n",
    "                          [5., 5.],\n",
    "                          [7., 4.]]),\n",
    "          'doh': (39., 0.)\n",
    "          }\n",
    "\n",
    "# target attained, beyond scope\n",
    "case_02 = {'ref_point': np.array([10., 10.]),\n",
    "          'target' : np.array([[9., 5.]]),\n",
    "          'p' : np.array([[1., 7.],\n",
    "                          [3., 6.],\n",
    "                          [5., 5.],\n",
    "                          [7., 4.]]),\n",
    "          'doh': (5., 2.)\n",
    "          }\n",
    "\n",
    "# target unattained, beyond scope\n",
    "case_03 = {'ref_point': np.array([10., 10.]),\n",
    "          'target' : np.array([[0., 5.]]),\n",
    "          'p' : np.array([[1., 7.],\n",
    "                          [3., 6.],\n",
    "                          [5., 5.],\n",
    "                          [7., 4.]]),\n",
    "          'doh': (39., 0.)\n",
    "          }\n",
    "\n",
    "# target edge \n",
    "case_04 = {'ref_point': np.array([10., 10.]),\n",
    "          'target' : np.array([[10., 1.]]),\n",
    "          'p' : np.array([[1., 7.],\n",
    "                          [3., 6.],\n",
    "                          [5., 5.],\n",
    "                          [7., 4.]]),\n",
    "          'doh': (0., 0.)\n",
    "          }\n",
    "\n",
    "# target edge, target outside ref_point span\n",
    "case_05 = {'ref_point': np.array([10., 10.]),\n",
    "          'target' : np.array([[11., 5.]]),\n",
    "          'p' : np.array([[1., 7.],\n",
    "                          [3., 6.],\n",
    "                          [5., 5.],\n",
    "                          [7., 4.]]),\n",
    "          'doh': AssertionError\n",
    "          }"
   ]
  },
  {
   "cell_type": "code",
   "execution_count": 33,
   "metadata": {},
   "outputs": [],
   "source": [
    "\n",
    "def volume_a(case):\n",
    "    rp = case['ref_point']\n",
    "    t = case['target']\n",
    "    p = case['p']\n",
    "    p = p[np.argsort(p[:, 0])]\n",
    "    \n",
    "    # add points to p at limit of reference point\n",
    "    pa = np.array([p[0][0], rp[1]]).reshape(1, -1)\n",
    "    pb = np.array([rp[0], p[-1][1]]).reshape(1, -1)\n",
    "    p = np.vstack((pa ,p, pb))\n",
    "    \n",
    "    # modify p to limit at the edges of the bounding box. \n",
    "    t_max = t.max(axis=0)\n",
    "    p_ = np.vstack([pi if pi[0]>t_max[0] else [t_max[0], pi[1]] for pi in p])\n",
    "    p_ = np.vstack([pi if pi[1]>t_max[1] else [pi[0], t_max[1]] for pi in p_])\n",
    "    \n",
    "    t_attained = not np.any([dominates(t, pi) for pi in p])\n",
    "    \n",
    "    if t_attained:\n",
    "        measure = get_performance_indicator(\"hv\", ref_point = rp)\n",
    "        hpv =  measure.calc(t)\n",
    "    else:\n",
    "        measure = get_performance_indicator(\"hv\", ref_point = rp)\n",
    "        hpv =  measure.calc(p_)\n",
    "    return hpv\n",
    "\n",
    "def volume_b(case):\n",
    "    rp = case['ref_point']\n",
    "    t = case['target']\n",
    "    p = case['p']\n",
    "    p = p[np.argsort(p[:, 0])]\n",
    "    \n",
    "    t_attained = not np.any([dominates(t, pi) for pi in p])\n",
    "    if t_attained:\n",
    "        measure = get_performance_indicator(\"hv\", ref_point = t.reshape(-1))\n",
    "        hpv = measure.calc(p)\n",
    "    else:\n",
    "        hpv = 0.\n",
    "    return hpv\n",
    "\n",
    "def volume(case):\n",
    "    return volume_a(case), volume_b(case)"
   ]
  },
  {
   "cell_type": "code",
   "execution_count": 42,
   "metadata": {},
   "outputs": [
    {
     "data": {
      "image/png": "[encoded data removed]",
      "text/plain": [
       "<Figure size 432x432 with 1 Axes>"
      ]
     },
     "metadata": {
      "needs_background": "light"
     },
     "output_type": "display_data"
    }
   ],
   "source": [
    "fig = image_case(case_05);"
   ]
  },
  {
   "cell_type": "code",
   "execution_count": 35,
   "metadata": {},
   "outputs": [],
   "source": [
    "case = case_00\n",
    "rp = case['ref_point']\n",
    "t = case['target']\n",
    "p = case['p']\n",
    "p = p[np.argsort(p[:, 0])]\n",
    "\n",
    "\n",
    "measure = get_performance_indicator(\"hv\", ref_point = t.reshape(-1))\n",
    "hpv = measure.calc(p)"
   ]
  },
  {
   "cell_type": "code",
   "execution_count": 124,
   "metadata": {},
   "outputs": [
    {
     "data": {
      "text/plain": [
       "4.0"
      ]
     },
     "execution_count": 124,
     "metadata": {},
     "output_type": "execute_result"
    }
   ],
   "source": [
    "hpv"
   ]
  },
  {
   "cell_type": "code",
   "execution_count": 96,
   "metadata": {},
   "outputs": [
    {
     "data": {
      "text/plain": [
       "<matplotlib.collections.PathCollection at 0x7f4fbec7a5e0>"
      ]
     },
     "execution_count": 96,
     "metadata": {},
     "output_type": "execute_result"
    }
   ],
   "source": [
    "fig.gca().scatter(*p_.T, c=\"C1\", s=100, alpha=.4)"
   ]
  },
  {
   "cell_type": "code",
   "execution_count": 97,
   "metadata": {},
   "outputs": [
    {
     "data": {
      "image/png": "[encoded data removed]",
      "text/plain": [
       "<Figure size 432x432 with 1 Axes>"
      ]
     },
     "execution_count": 97,
     "metadata": {},
     "output_type": "execute_result"
    }
   ],
   "source": [
    "fig"
   ]
  },
  {
   "cell_type": "code",
   "execution_count": null,
   "metadata": {},
   "outputs": [],
   "source": []
  }
 ],
 "metadata": {
  "kernelspec": {
   "display_name": "testsuite",
   "language": "python",
   "name": "testsuite"
  },
  "language_info": {
   "codemirror_mode": {
    "name": "ipython",
    "version": 3
   },
   "file_extension": ".py",
   "mimetype": "text/x-python",
   "name": "python",
   "nbconvert_exporter": "python",
   "pygments_lexer": "ipython3",
   "version": "3.8.3"
  }
 },
 "nbformat": 4,
 "nbformat_minor": 4
}
