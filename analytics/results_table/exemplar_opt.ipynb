{
 "cells": [
  {
   "cell_type": "code",
   "execution_count": 62,
   "metadata": {},
   "outputs": [],
   "source": [
    "from os.path import join as join\n",
    "from os import listdir\n",
    "import os\n",
    "import sys\n",
    "import rootpath\n",
    "sys.path.append(rootpath.detect())\n",
    "import numpy as np\n",
    "import matplotlib.pyplot as plt\n",
    "import pickle as pkl\n",
    "\n",
    "from testsuite.utilities import Pareto_split\n",
    "from experiments.igd_refpoints.igd_utilities import *"
   ]
  },
  {
   "cell_type": "code",
   "execution_count": 63,
   "metadata": {},
   "outputs": [],
   "source": [
    "import matplotlib\n",
    "from matplotlib.ticker import StrMethodFormatter\n",
    "from matplotlib.ticker import MaxNLocator"
   ]
  },
  {
   "cell_type": "code",
   "execution_count": 64,
   "metadata": {},
   "outputs": [],
   "source": [
    "# establish up data paths\n",
    "try: \n",
    "    get_ipython().__class__.__name__\n",
    "    script_dir = os.path.dirname(os.path.realpath(__file__))\n",
    "except:\n",
    "     script_dir = './'\n",
    "if not os.path.isdir('./figures'):\n",
    "    os.makedirs(\"./figures\")"
   ]
  },
  {
   "cell_type": "code",
   "execution_count": 65,
   "metadata": {},
   "outputs": [],
   "source": [
    "def save_fig(fig, name=None):\n",
    "    figname_stub = script_dir.split('/')[-1]\n",
    "    if name is None:\n",
    "        filename = figname_stub+\"_\"+fig.get_title()\n",
    "    else:\n",
    "        filename = figname_stub+\"_\"+name\n",
    "    \n",
    "    savedirs = [os.path.join(script_dir, \"figures/\"),\n",
    "                \"/home/finley/phd/papers/SAF-driven-EMO/figures/\"]\n",
    "    for d in savedirs:\n",
    "        fig.savefig(os.path.join(d, filename+\".png\"), dpi=300, facecolor=None, edgecolor=None,\n",
    "        orientation='portrait', pad_inches=0.12)\n",
    "        fig.savefig(os.path.join(d, filename+\".pdf\"), bbox_inches = 'tight', pad_inches = 0, dpi=300, facecolor=None, edgecolor=None,\n",
    "        orientation='portrait')"
   ]
  },
  {
   "cell_type": "code",
   "execution_count": 49,
   "metadata": {},
   "outputs": [
    {
     "data": {
      "text/plain": [
       "'/home/finley/phd/code/testsuite/experiments/data/wfg6_3obj_6dim/'"
      ]
     },
     "execution_count": 49,
     "metadata": {},
     "output_type": "execute_result"
    }
   ],
   "source": [
    "data_dir=join(rootpath.detect(), 'experiments/data/wfg6_3obj_6dim/')\n",
    "data_dir"
   ]
  },
  {
   "cell_type": "code",
   "execution_count": 50,
   "metadata": {},
   "outputs": [
    {
     "data": {
      "text/plain": [
       "'/home/finley/phd/code/testsuite/experiments/data/wfg6_3obj_6dim/log_data/WFG6_Saf_init10_MultiSurrogate_mean/test_function_Saf_init10_MultiSurrogate_meanseed_05__68c81f88-08a5-11eb-82ea-f722d7d902f9_results.pkl'"
      ]
     },
     "execution_count": 50,
     "metadata": {},
     "output_type": "execute_result"
    }
   ],
   "source": [
    "safmu_dir = join(data_dir, 'log_data/WFG6_Saf_init10_MultiSurrogate_mean/')\n",
    "safmu_seed = 5\n",
    "safmu_path = [d for d in listdir(safmu_dir) if '{:02d}'.format(safmu_seed) in d.split('_') and d.split('_')[-1]== 'results.pkl' ][0]\n",
    "safmu_path = join(safmu_dir, safmu_path)\n",
    "safmu_path"
   ]
  },
  {
   "cell_type": "code",
   "execution_count": 51,
   "metadata": {},
   "outputs": [
    {
     "data": {
      "text/plain": [
       "'/home/finley/phd/code/testsuite/experiments/data/wfg6_3obj_6dim/log_data/WFG6_Saf_init10_MultiSurrogate_ei/test_function_Saf_init10_MultiSurrogate_eiseed_05__68c5d520-08a5-11eb-82ea-f722d7d902f9_results.pkl'"
      ]
     },
     "execution_count": 51,
     "metadata": {},
     "output_type": "execute_result"
    }
   ],
   "source": [
    "safei_dir = join(data_dir, 'log_data/WFG6_Saf_init10_MultiSurrogate_ei/')\n",
    "safei_seed = 5\n",
    "safei_path = [d for d in listdir(safei_dir) if '{:02d}'.format(safei_seed) in d.split('_') and d.split('_')[-1]== 'results.pkl' ][0]\n",
    "safei_path = join(safei_dir, safei_path)\n",
    "safei_path"
   ]
  },
  {
   "cell_type": "code",
   "execution_count": 52,
   "metadata": {},
   "outputs": [
    {
     "data": {
      "text/plain": [
       "'/home/finley/phd/code/testsuite/experiments/data/wfg6_3obj_6dim/log_data/WFG6_SmsEgo_init10_MultiSurrogate/seed_05_WFG6_SmsEgo_init10_MultiSurrogate_082f9e68-6a74-11eb-acdb-0ffa7d871549_results.pkl'"
      ]
     },
     "execution_count": 52,
     "metadata": {},
     "output_type": "execute_result"
    }
   ],
   "source": [
    "sms_dir = join(data_dir, 'log_data/WFG6_SmsEgo_init10_MultiSurrogate/')\n",
    "sms_seed = 5\n",
    "sms_path = [d for d in listdir(sms_dir) if '{:02d}'.format(sms_seed) in d.split('_') and d.split('_')[-1]== 'results.pkl' ][0]\n",
    "sms_path = join(sms_dir, sms_path)\n",
    "sms_path"
   ]
  },
  {
   "cell_type": "code",
   "execution_count": 53,
   "metadata": {},
   "outputs": [],
   "source": [
    "with open(safei_path, 'rb') as infile:\n",
    "    safei_result = pkl.load(infile)"
   ]
  },
  {
   "cell_type": "code",
   "execution_count": 54,
   "metadata": {},
   "outputs": [],
   "source": [
    "with open(safmu_path, 'rb') as infile:\n",
    "    safmu_result = pkl.load(infile)"
   ]
  },
  {
   "cell_type": "code",
   "execution_count": 55,
   "metadata": {},
   "outputs": [],
   "source": [
    "with open(sms_path, 'rb') as infile:\n",
    "    sms_result = pkl.load(infile)"
   ]
  },
  {
   "cell_type": "code",
   "execution_count": 56,
   "metadata": {},
   "outputs": [
    {
     "name": "stdout",
     "output_type": "stream",
     "text": [
      "(51,)\n"
     ]
    }
   ],
   "source": [
    "## regular samples\n",
    "M = 3\n",
    "H = 50\n",
    "\n",
    "sj = np.array([i/H for i in range(H+1)])\n",
    "print(sj.shape)\n",
    "\n",
    "s = []\n",
    "for s1 in sj:\n",
    "    for s2 in sj:\n",
    "        for s3 in sj:\n",
    "            if np.round_(s1+s2+s3, decimals=9) == 1.0:\n",
    "                s.append([s1, s2, s3])\n",
    "s = np.array(s)\n",
    "\n",
    "mags = np.array([np.linalg.norm(i) for i in s])\n",
    "sp = (s.T/mags).T"
   ]
  },
  {
   "cell_type": "code",
   "execution_count": 57,
   "metadata": {},
   "outputs": [],
   "source": [
    "%matplotlib qt\n",
    "fig = plt.figure(figsize=[8,8])\n",
    "ax = fig.gca(projection='3d')\n",
    "ax.scatter(*(sp*np.array([2, 4, 6])).T, c=\"grey\", s=5)\n",
    "ax.view_init(30, 45)"
   ]
  },
  {
   "cell_type": "code",
   "execution_count": 77,
   "metadata": {},
   "outputs": [
    {
     "name": "stderr",
     "output_type": "stream",
     "text": [
      "No handles with labels found to put in legend.\n"
     ]
    },
    {
     "name": "stdout",
     "output_type": "stream",
     "text": [
      "[1.0, 1.0, 1.0]\n",
      "3d\n"
     ]
    }
   ],
   "source": [
    "psms, dsms = Pareto_split(sms_result['y'][:150])\n",
    "psafmu, dsafmu = Pareto_split(safmu_result['y'][:150])\n",
    "%matplotlib qt\n",
    "fig = plt.figure(figsize=[8,8])\n",
    "ax = fig.gca(projection='3d')\n",
    "# ax_format(ax, axes=[2., 4., 6.], vp=[35, 15])\n",
    "ax_format(ax, axes=[1., 1., 1.], vp=[35, 60])\n",
    "ax.scatter(*(sp*np.array([2, 4, 6])).T, c=\"grey\", s=20,  marker='+', linewidth=0.5)\n",
    "ax.scatter(*psms.T,   c=\"C0\", s=10, label='SMS-EGO')\n",
    "ax.scatter(*psafmu.T, c=\"C1\", s=10, label='Saf$_\\mu$')\n",
    "ax.legend()\n",
    "\n",
    "save_fig(fig, name=\"comparison_attainmenPoints_sms_saf\")"
   ]
  },
  {
   "cell_type": "code",
   "execution_count": 80,
   "metadata": {},
   "outputs": [
    {
     "name": "stderr",
     "output_type": "stream",
     "text": [
      "No handles with labels found to put in legend.\n"
     ]
    },
    {
     "name": "stdout",
     "output_type": "stream",
     "text": [
      "[1.0, 1.0, 1.0]\n",
      "3d\n"
     ]
    }
   ],
   "source": [
    "psafei, dsafei = Pareto_split(safei_result['y'][:150])\n",
    "%matplotlib qt\n",
    "fig = plt.figure(figsize=[8,8])\n",
    "ax = fig.gca(projection='3d')\n",
    "ax_format(ax, axes=[1., 1., 1.], vp=[35, 60])\n",
    "ax.scatter(*(sp*np.array([2, 4, 6])).T, c=\"grey\", s=20, marker='+', linewidth=0.5)\n",
    "ax.scatter(*psafei.T, c=\"C0\", s=10, label='Saf$_{EI}$')\n",
    "ax.scatter(*psafmu.T, c=\"C1\", s=10, label='Saf$_\\mu$')\n",
    "ax.legend()\n",
    "\n",
    "save_fig(fig, name=\"comparison_attainmenPoints_safei_safmu\")"
   ]
  },
  {
   "cell_type": "code",
   "execution_count": null,
   "metadata": {},
   "outputs": [],
   "source": []
  }
 ],
 "metadata": {
  "kernelspec": {
   "display_name": "testsuite",
   "language": "python",
   "name": "testsuite"
  },
  "language_info": {
   "codemirror_mode": {
    "name": "ipython",
    "version": 3
   },
   "file_extension": ".py",
   "mimetype": "text/x-python",
   "name": "python",
   "nbconvert_exporter": "python",
   "pygments_lexer": "ipython3",
   "version": "3.8.3"
  }
 },
 "nbformat": 4,
 "nbformat_minor": 4
}
