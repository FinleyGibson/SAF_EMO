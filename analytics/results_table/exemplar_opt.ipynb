{
 "cells": [
  {
   "cell_type": "code",
   "execution_count": 43,
   "metadata": {},
   "outputs": [],
   "source": [
    "from os.path import join as join\n",
    "from os import listdir\n",
    "import os\n",
    "import sys\n",
    "import rootpath\n",
    "sys.path.append(rootpath.detect())\n",
    "import numpy as np\n",
    "import matplotlib.pyplot as plt\n",
    "import pickle as pkl\n",
    "\n",
    "from testsuite.utilities import Pareto_split\n",
    "from experiments.igd_refpoints.igd_utilities import *"
   ]
  },
  {
   "cell_type": "code",
   "execution_count": 44,
   "metadata": {},
   "outputs": [],
   "source": [
    "import matplotlib\n",
    "from matplotlib.ticker import StrMethodFormatter\n",
    "from matplotlib.ticker import MaxNLocator"
   ]
  },
  {
   "cell_type": "code",
   "execution_count": 45,
   "metadata": {},
   "outputs": [],
   "source": [
    "# establish up data paths\n",
    "try: \n",
    "    get_ipython().__class__.__name__\n",
    "    script_dir = os.path.dirname(os.path.realpath(__file__))\n",
    "except:\n",
    "     script_dir = './'\n",
    "if not os.path.isdir('./figures'):\n",
    "    os.makedirs(\"./figures\")"
   ]
  },
  {
   "cell_type": "code",
   "execution_count": 46,
   "metadata": {},
   "outputs": [],
   "source": [
    "def save_fig(fig, name=None):\n",
    "    figname_stub = script_dir.split('/')[-1]\n",
    "    if name is None:\n",
    "        filename = figname_stub+\"_\"+fig.get_title()\n",
    "    else:\n",
    "        filename = figname_stub+\"_\"+name\n",
    "    \n",
    "    savedirs = [os.path.join(script_dir, \"figures/\"),\n",
    "                \"/home/finley/phd/papers/SAF-driven-EMO/figures/\"]\n",
    "    for d in savedirs:\n",
    "        fig.savefig(os.path.join(d, filename+\".png\"), dpi=300, facecolor=None, edgecolor=None,\n",
    "        orientation='portrait', pad_inches=0.12)\n",
    "        fig.savefig(os.path.join(d, filename+\".pdf\"), bbox_inches = 'tight', pad_inches = 0, dpi=300, facecolor=None, edgecolor=None,\n",
    "        orientation='portrait')"
   ]
  },
  {
   "cell_type": "code",
   "execution_count": 74,
   "metadata": {},
   "outputs": [
    {
     "data": {
      "text/plain": [
       "'/home/finley/phd/code/testsuite/experiments/data/wfg5_3obj_8dim/'"
      ]
     },
     "execution_count": 74,
     "metadata": {},
     "output_type": "execute_result"
    }
   ],
   "source": [
    "data_dir=join(rootpath.detect(), 'experiments/data/wfg5_3obj_8dim/')\n",
    "data_dir"
   ]
  },
  {
   "cell_type": "code",
   "execution_count": 75,
   "metadata": {},
   "outputs": [
    {
     "data": {
      "text/plain": [
       "'/home/finley/phd/code/testsuite/experiments/data/wfg5_3obj_8dim/log_data/WFG5_Saf_init10_MultiSurrogate_mean/seed_05_WFG5_Saf_init10_MultiSurrogate_mean_6e67b74a-1580-11eb-92bc-1348d5ddbd3c_results.pkl'"
      ]
     },
     "execution_count": 75,
     "metadata": {},
     "output_type": "execute_result"
    }
   ],
   "source": [
    "safmu_dir = join(data_dir, 'log_data/WFG5_Saf_init10_MultiSurrogate_mean/')\n",
    "safmu_seed = 5\n",
    "safmu_path = [d for d in listdir(safmu_dir) if '{:02d}'.format(safmu_seed) in d.split('_') and d.split('_')[-1]== 'results.pkl' ][0]\n",
    "safmu_path = join(safmu_dir, safmu_path)\n",
    "safmu_path"
   ]
  },
  {
   "cell_type": "code",
   "execution_count": 76,
   "metadata": {},
   "outputs": [
    {
     "data": {
      "text/plain": [
       "'/home/finley/phd/code/testsuite/experiments/data/wfg5_3obj_8dim/log_data/WFG5_Saf_init10_MultiSurrogate_ei/seed_05_WFG5_Saf_init10_MultiSurrogate_ei_6b024974-662c-11eb-afc5-7984019cc6f7_results.pkl'"
      ]
     },
     "execution_count": 76,
     "metadata": {},
     "output_type": "execute_result"
    }
   ],
   "source": [
    "safei_dir = join(data_dir, 'log_data/WFG5_Saf_init10_MultiSurrogate_ei/')\n",
    "safei_seed = 5\n",
    "safei_path = [d for d in listdir(safei_dir) if '{:02d}'.format(safei_seed) in d.split('_') and d.split('_')[-1]== 'results.pkl' ][0]\n",
    "safei_path = join(safei_dir, safei_path)\n",
    "safei_path"
   ]
  },
  {
   "cell_type": "code",
   "execution_count": 77,
   "metadata": {},
   "outputs": [
    {
     "data": {
      "text/plain": [
       "'/home/finley/phd/code/testsuite/experiments/data/wfg5_3obj_8dim/log_data/WFG5_SmsEgo_init10_MultiSurrogate/seed_05_WFG5_SmsEgo_init10_MultiSurrogate_90a68838-6a74-11eb-9505-9ba3e56573b3_results.pkl'"
      ]
     },
     "execution_count": 77,
     "metadata": {},
     "output_type": "execute_result"
    }
   ],
   "source": [
    "sms_dir = join(data_dir, 'log_data/WFG5_SmsEgo_init10_MultiSurrogate/')\n",
    "sms_seed = 5\n",
    "sms_path = [d for d in listdir(sms_dir) if '{:02d}'.format(sms_seed) in d.split('_') and d.split('_')[-1]== 'results.pkl' ][0]\n",
    "sms_path = join(sms_dir, sms_path)\n",
    "sms_path"
   ]
  },
  {
   "cell_type": "code",
   "execution_count": 78,
   "metadata": {},
   "outputs": [],
   "source": [
    "with open(safei_path, 'rb') as infile:\n",
    "    safei_result = pkl.load(infile)"
   ]
  },
  {
   "cell_type": "code",
   "execution_count": 79,
   "metadata": {},
   "outputs": [],
   "source": [
    "with open(safmu_path, 'rb') as infile:\n",
    "    safmu_result = pkl.load(infile)"
   ]
  },
  {
   "cell_type": "code",
   "execution_count": 80,
   "metadata": {},
   "outputs": [],
   "source": [
    "with open(sms_path, 'rb') as infile:\n",
    "    sms_result = pkl.load(infile)"
   ]
  },
  {
   "cell_type": "code",
   "execution_count": 81,
   "metadata": {},
   "outputs": [
    {
     "name": "stdout",
     "output_type": "stream",
     "text": [
      "(51,)\n"
     ]
    }
   ],
   "source": [
    "## regular samples\n",
    "M = 3\n",
    "H = 50\n",
    "\n",
    "sj = np.array([i/H for i in range(H+1)])\n",
    "print(sj.shape)\n",
    "\n",
    "s = []\n",
    "for s1 in sj:\n",
    "    for s2 in sj:\n",
    "        for s3 in sj:\n",
    "            if np.round_(s1+s2+s3, decimals=9) == 1.0:\n",
    "                s.append([s1, s2, s3])\n",
    "s = np.array(s)\n",
    "\n",
    "mags = np.array([np.linalg.norm(i) for i in s])\n",
    "sp = (s.T/mags).T"
   ]
  },
  {
   "cell_type": "code",
   "execution_count": 82,
   "metadata": {},
   "outputs": [],
   "source": [
    "markers = [\"o\", \"d\", \"^\", \"P\", \"X\", \"v\", \"*\", \"s\", '>']\n",
    "cmap = matplotlib.cm.tab10\n",
    "# colors = cmap(np.linspace(0, 1, len(result_dirs)+1))\n",
    "colors = cmap([0, 1, 2, 3, 4, 5, 6, 7, 8])"
   ]
  },
  {
   "cell_type": "code",
   "execution_count": 83,
   "metadata": {},
   "outputs": [],
   "source": [
    "import matplotlib\n",
    "from matplotlib.ticker import StrMethodFormatter\n",
    "from matplotlib.ticker import MaxNLocator\n",
    "\n",
    "\n",
    "matplotlib.rcParams['mathtext.fontset'] = 'stix';\n",
    "matplotlib.rcParams['font.family'] = 'STIXGeneral';\n",
    "matplotlib.rcParams['font.size'] = 15 ;\n",
    "matplotlib.rcParams['legend.fontsize'] = 11\n",
    "matplotlib.rcParams['pdf.fonttype'] = 42\n",
    "matplotlib.rcParams['ps.fonttype'] = 42"
   ]
  },
  {
   "cell_type": "code",
   "execution_count": 84,
   "metadata": {},
   "outputs": [],
   "source": [
    "fig = plt.figure(figsize=[8,8])\n",
    "ax = fig.gca(projection='3d')\n",
    "ax.scatter(*(sp*np.array([2, 4, 6])).T, c=\"grey\", s=5)\n",
    "ax.view_init(30, 45)"
   ]
  },
  {
   "cell_type": "code",
   "execution_count": 85,
   "metadata": {},
   "outputs": [
    {
     "name": "stderr",
     "output_type": "stream",
     "text": [
      "No handles with labels found to put in legend.\n",
      "*c* argument looks like a single numeric RGB or RGBA sequence, which should be avoided as value-mapping will have precedence in case its length matches with *x* & *y*.  Please use the *color* keyword-argument or provide a 2-D array with a single row if you intend to specify the same RGB or RGBA value for all points.\n",
      "*c* argument looks like a single numeric RGB or RGBA sequence, which should be avoided as value-mapping will have precedence in case its length matches with *x* & *y*.  Please use the *color* keyword-argument or provide a 2-D array with a single row if you intend to specify the same RGB or RGBA value for all points.\n"
     ]
    },
    {
     "name": "stdout",
     "output_type": "stream",
     "text": [
      "[1.0, 1.0, 1.0]\n",
      "3d\n"
     ]
    }
   ],
   "source": [
    "psms, dsms = Pareto_split(sms_result['y'][:150])\n",
    "psafmu, dsafmu = Pareto_split(safmu_result['y'][:150])\n",
    "%matplotlib qt\n",
    "fig = plt.figure(figsize=[8,8])\n",
    "ax = fig.gca(projection='3d')\n",
    "# ax_format(ax, axes=[2., 4., 6.], vp=[35, 15])\n",
    "ax_format(ax, axes=[1., 1., 1.], vp=[35, 60])\n",
    "ax.scatter(*(sp*np.array([2, 4, 6])).T, c=\"grey\", s=20,  marker='+', linewidth=0.5)\n",
    "ax.scatter(*psms.T, s=14, label='SMS-EGO', c=colors[5], marker  = markers[5])\n",
    "ax.scatter(*psafmu.T, s=14, label='Saf$_\\mu$', c=colors[3], marker=markers[3])\n",
    "ax.legend()\n",
    "\n",
    "ax.set_xlabel(\"$f_1$\")\n",
    "ax.set_ylabel(\"$f_2$\", labelpad=10)\n",
    "ax.set_zlabel(\"$f_3$\")\n",
    "ax.xaxis.set_major_locator(MaxNLocator(integer=True))\n",
    "ax.yaxis.set_major_locator(MaxNLocator(integer=True))\n",
    "ax.zaxis.set_major_locator(MaxNLocator(integer=True))\n",
    "\n",
    "# save_fig(fig, name=\"comparison_attainmenPoints_sms_saf\")"
   ]
  },
  {
   "cell_type": "code",
   "execution_count": 86,
   "metadata": {},
   "outputs": [
    {
     "name": "stderr",
     "output_type": "stream",
     "text": [
      "No handles with labels found to put in legend.\n",
      "*c* argument looks like a single numeric RGB or RGBA sequence, which should be avoided as value-mapping will have precedence in case its length matches with *x* & *y*.  Please use the *color* keyword-argument or provide a 2-D array with a single row if you intend to specify the same RGB or RGBA value for all points.\n",
      "*c* argument looks like a single numeric RGB or RGBA sequence, which should be avoided as value-mapping will have precedence in case its length matches with *x* & *y*.  Please use the *color* keyword-argument or provide a 2-D array with a single row if you intend to specify the same RGB or RGBA value for all points.\n"
     ]
    },
    {
     "name": "stdout",
     "output_type": "stream",
     "text": [
      "[1.0, 1.0, 1.0]\n",
      "3d\n"
     ]
    }
   ],
   "source": [
    "psafei, dsafei = Pareto_split(safei_result['y'][:150])\n",
    "fig = plt.figure(figsize=[8,8])\n",
    "ax = fig.gca(projection='3d')\n",
    "ax_format(ax, axes=[1., 1., 1.], vp=[35, 60])\n",
    "ax.scatter(*(sp*np.array([2, 4, 6])).T, c=\"grey\", s=20, marker='+', linewidth=0.5)\n",
    "ax.scatter(*psafei.T, s=14, label='Saf$_{EI}$', c=colors[4], marker  = markers[4])\n",
    "ax.scatter(*psafmu.T, s=14, label='Saf$_\\mu$', c=colors[3], marker=markers[3])\n",
    "ax.legend()\n",
    "\n",
    "ax.set_xlabel(\"$f_1$\")\n",
    "ax.set_ylabel(\"$f_2$\", labelpad=10)\n",
    "ax.set_zlabel(\"$f_3$\")\n",
    "ax.xaxis.set_major_locator(MaxNLocator(integer=True))\n",
    "ax.yaxis.set_major_locator(MaxNLocator(integer=True))\n",
    "ax.zaxis.set_major_locator(MaxNLocator(integer=True))\n",
    "\n",
    "# save_fig(fig, name=\"comparison_attainmenPoints_safei_safmu\")"
   ]
  },
  {
   "cell_type": "code",
   "execution_count": 87,
   "metadata": {},
   "outputs": [
    {
     "data": {
      "text/plain": [
       "42"
      ]
     },
     "execution_count": 87,
     "metadata": {},
     "output_type": "execute_result"
    }
   ],
   "source": [
    "len(psafei)"
   ]
  },
  {
   "cell_type": "code",
   "execution_count": 88,
   "metadata": {},
   "outputs": [
    {
     "data": {
      "text/plain": [
       "71"
      ]
     },
     "execution_count": 88,
     "metadata": {},
     "output_type": "execute_result"
    }
   ],
   "source": [
    "len(psafmu)"
   ]
  },
  {
   "cell_type": "code",
   "execution_count": 97,
   "metadata": {},
   "outputs": [
    {
     "data": {
      "text/plain": [
       "128.09677419354838"
      ]
     },
     "execution_count": 97,
     "metadata": {},
     "output_type": "execute_result"
    }
   ],
   "source": [
    "safmu_dir = join(data_dir, 'log_data/WFG5_Saf_init10_MultiSurrogate_mean/')\n",
    "tot_safmu = 0\n",
    "for safmu_seed in range(31):\n",
    "    safmu_path = [d for d in listdir(safmu_dir) if '{:02d}'.format(safmu_seed) in d.split('_') and d.split('_')[-1]== 'results.pkl' ][0]\n",
    "    safmu_path = join(safmu_dir, safmu_path)\n",
    "\n",
    "    with open(safmu_path, 'rb') as infile:\n",
    "        safmu_result = pkl.load(infile)\n",
    "    ys = safmu_result['y']\n",
    "    p, d = Pareto_split(ys)\n",
    "    tot_safmu += p.shape[0]\n",
    "tot_safmu/31"
   ]
  },
  {
   "cell_type": "code",
   "execution_count": 98,
   "metadata": {},
   "outputs": [
    {
     "data": {
      "text/plain": [
       "97.7741935483871"
      ]
     },
     "execution_count": 98,
     "metadata": {},
     "output_type": "execute_result"
    }
   ],
   "source": [
    "smsego_dir = join(data_dir, 'log_data/WFG5_SmsEgo_init10_MultiSurrogate_mean/')\n",
    "tot_smsego = 0\n",
    "for smsego_seed in range(31):\n",
    "    smsego_path = [d for d in listdir(smsego_dir) if '{:02d}'.format(smsego_seed) in d.split('_') and d.split('_')[-1]== 'results.pkl' ][0]\n",
    "    smsego_path = join(smsego_dir, smsego_path)\n",
    "\n",
    "    with open(smsego_path, 'rb') as infile:\n",
    "        smsego_result = pkl.load(infile)\n",
    "    ys = smsego_result['y']\n",
    "    p, d = Pareto_split(ys)\n",
    "    tot_smsego += p.shape[0]\n",
    "tot_smsego/31"
   ]
  },
  {
   "cell_type": "code",
   "execution_count": null,
   "metadata": {},
   "outputs": [],
   "source": []
  }
 ],
 "metadata": {
  "kernelspec": {
   "display_name": "testsuite",
   "language": "python",
   "name": "testsuite"
  },
  "language_info": {
   "codemirror_mode": {
    "name": "ipython",
    "version": 3
   },
   "file_extension": ".py",
   "mimetype": "text/x-python",
   "name": "python",
   "nbconvert_exporter": "python",
   "pygments_lexer": "ipython3",
   "version": "3.8.3"
  }
 },
 "nbformat": 4,
 "nbformat_minor": 4
}
