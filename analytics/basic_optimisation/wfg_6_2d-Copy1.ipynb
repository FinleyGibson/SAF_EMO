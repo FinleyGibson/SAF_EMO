{
 "cells": [
  {
   "cell_type": "code",
   "execution_count": 1,
   "metadata": {},
   "outputs": [],
   "source": [
    "import matplotlib.pyplot as plt\n",
    "import wfg\n",
    "import numpy as np\n",
    "import rootpath \n",
    "import sys\n",
    "sys.path.append(rootpath.detect())\n",
    "from testsuite.surrogates import GP, MultiSurrogate\n",
    "from testsuite.optimisers import BayesianOptimiser, SmsEgo"
   ]
  },
  {
   "cell_type": "code",
   "execution_count": 2,
   "metadata": {},
   "outputs": [],
   "source": [
    "## set up objective function\n",
    "kfactor = 2\n",
    "lfactor = 2\n",
    "n_objectives = 2\n",
    "n_dims = lfactor * 2 + kfactor\n",
    "\n",
    "k = kfactor * (n_objectives - 1)\n",
    "l = lfactor * 2\n",
    "wfg_n = 6\n",
    "exec(\"func = wfg.WFG{}\".format(int(wfg_n)))\n",
    "\n",
    "def wfg2(x):\n",
    "    if x.ndim == 2:\n",
    "        assert (x.shape[1] == n_dims)\n",
    "    else:\n",
    "        squeezable = np.where([a == 1 for a in x.shape])[0]\n",
    "        for i in squeezable[::-1]:\n",
    "            x = x.squeeze(i)\n",
    "\n",
    "    if x.ndim == 1:\n",
    "        assert (x.shape[0] == n_dims)\n",
    "        x = x.reshape(1, -1)\n",
    "    return np.array([func(xi, k, n_objectives) for xi in x])"
   ]
  },
  {
   "cell_type": "code",
   "execution_count": 3,
   "metadata": {},
   "outputs": [],
   "source": [
    "limits = [np.zeros((n_dims)), np.array(range(1, n_dims + 1)) * 2]\n",
    "\n",
    "gp_multisurr = MultiSurrogate(GP, scaled=True)\n",
    "opt = SmsEgo(objective_function=wfg2, limits=limits, surrogate=gp_multisurr, n_initial=10, seed=None, log_interval=10)\n",
    "\n",
    "# opt.alpha(opt.x[0:1], opt.surrogate, opt.y)\n",
    "# opt.optimise(n_steps=10)"
   ]
  },
  {
   "cell_type": "code",
   "execution_count": 4,
   "metadata": {},
   "outputs": [
    {
     "name": "stderr",
     "output_type": "stream",
     "text": [
      "reconstraining parameters GP_regression.Mat52.lengthscale\n",
      "reconstraining parameters GP_regression.Mat52.variance\n",
      "reconstraining parameters GP_regression.Gaussian_noise.variance\n"
     ]
    },
    {
     "name": "stdout",
     "output_type": "stream",
     "text": [
      "Optimization restart 1/10, f = 13.006901724080993\n",
      "Optimization restart 2/10, f = 14.18938533204797\n",
      "Optimization restart 3/10, f = 30.865227660075284\n",
      "Optimization restart 4/10, f = 13.006901724081201\n",
      "Optimization restart 5/10, f = 13.006901724080981\n",
      "Optimization restart 6/10, f = 13.006901724082304\n",
      "Optimization restart 7/10, f = 13.006901724081693\n",
      "Optimization restart 8/10, f = 13.006901724085344\n"
     ]
    },
    {
     "name": "stderr",
     "output_type": "stream",
     "text": [
      "reconstraining parameters GP_regression.Mat52.lengthscale\n",
      "reconstraining parameters GP_regression.Mat52.variance\n",
      "reconstraining parameters GP_regression.Gaussian_noise.variance\n"
     ]
    },
    {
     "name": "stdout",
     "output_type": "stream",
     "text": [
      "Optimization restart 9/10, f = 66.75405375067122\n",
      "Optimization restart 10/10, f = 13.00690172409497\n",
      "Optimization restart 1/10, f = 14.189384866680072\n",
      "Optimization restart 2/10, f = 14.022297137375057\n",
      "Optimization restart 3/10, f = 34.323396039131886\n",
      "Optimization restart 4/10, f = 14.022297137382836\n",
      "Optimization restart 5/10, f = 14.02229713737633\n",
      "Optimization restart 6/10, f = 14.022297137376384\n",
      "Optimization restart 7/10, f = 14.022297137378246\n",
      "Optimization restart 8/10, f = 14.022297137383479\n",
      "Optimization restart 9/10, f = 14.189385332046728\n",
      "Optimization restart 10/10, f = 14.022297137448135\n",
      "(4_w,9)-aCMA-ES (mu_w=2.8,w_1=49%) in dimension 6 (seed=336726, Fri Sep  4 15:44:50 2020)\n",
      "Iterat #Fevals   function value  axis ratio  sigma  min&max std  t[m:s]\n",
      "    1      9 -5.418105707772036e-02 1.0e+00 2.53e-01  2e-01  3e-01 0:00.0\n",
      "    2     18 -5.667991570511632e-02 1.3e+00 2.81e-01  3e-01  3e-01 0:00.1\n",
      "    3     27 -6.199567731821332e-02 1.5e+00 3.20e-01  3e-01  4e-01 0:00.1\n",
      "  100    900 -3.100019601198076e-01 7.9e+00 3.03e-03  2e-04  1e-03 0:03.1\n",
      "  171   1539 -3.100020302981770e-01 8.1e+00 1.11e-05  1e-07  9e-07 0:05.1\n"
     ]
    },
    {
     "name": "stderr",
     "output_type": "stream",
     "text": [
      "reconstraining parameters GP_regression.Mat52.lengthscale\n",
      "reconstraining parameters GP_regression.Mat52.variance\n",
      "reconstraining parameters GP_regression.Gaussian_noise.variance\n"
     ]
    },
    {
     "name": "stdout",
     "output_type": "stream",
     "text": [
      "termination on tolfun=1e-11 (Fri Sep  4 15:44:55 2020)\n",
      "final/bestever f-value = -3.100020e-01 -3.100020e-01\n",
      "incumbent solution: [1.420619498422045, 0.5624265381088204, 2.5005755705620105, 4.326282868777765, 0.8256021570373722, 5.811251966482531]\n",
      "std deviation: [1.3342810331706513e-07, 2.9695535098695993e-07, 4.907438586174539e-07, 5.499323111543221e-07, 6.953952784565271e-07, 9.463014604990732e-07]\n",
      "Optimization restart 1/10, f = 14.83646898532134\n",
      "Optimization restart 2/10, f = 15.6083238652514\n",
      "Optimization restart 3/10, f = 73.4294689225882\n",
      "Optimization restart 4/10, f = 73.4294689225882\n",
      "Optimization restart 5/10, f = 14.836468985352013\n",
      "Optimization restart 6/10, f = 14.836468985320895\n",
      "Optimization restart 7/10, f = 15.608323865251897\n",
      "Optimization restart 8/10, f = 73.4294689225882\n"
     ]
    },
    {
     "name": "stderr",
     "output_type": "stream",
     "text": [
      "reconstraining parameters GP_regression.Mat52.lengthscale\n",
      "reconstraining parameters GP_regression.Mat52.variance\n",
      "reconstraining parameters GP_regression.Gaussian_noise.variance\n"
     ]
    },
    {
     "name": "stdout",
     "output_type": "stream",
     "text": [
      "Optimization restart 9/10, f = 14.836468985328784\n",
      "Optimization restart 10/10, f = 15.608323865251437\n",
      "Optimization restart 1/10, f = 15.472564217395215\n",
      "Optimization restart 2/10, f = 73.4294688929415\n",
      "Optimization restart 3/10, f = 15.472564217393717\n",
      "Optimization restart 4/10, f = 15.472564217393844\n",
      "Optimization restart 5/10, f = 15.608323865232437\n",
      "Optimization restart 6/10, f = 15.472564217399473\n",
      "Optimization restart 7/10, f = 15.6083238652514\n",
      "Optimization restart 8/10, f = 15.472564217393717\n",
      "Optimization restart 9/10, f = 73.4294689225882\n",
      "Optimization restart 10/10, f = 73.42946382848703\n",
      "(4_w,9)-aCMA-ES (mu_w=2.8,w_1=49%) in dimension 6 (seed=304082, Fri Sep  4 15:44:58 2020)\n",
      "Iterat #Fevals   function value  axis ratio  sigma  min&max std  t[m:s]\n",
      "    1      9 -2.220446049250313e-16 1.0e+00 2.33e-01  2e-01  2e-01 0:00.0\n",
      "    2     18 -2.220446049250313e-16 1.3e+00 2.19e-01  2e-01  2e-01 0:00.1\n",
      "    3     27 -2.220446049250313e-16 1.4e+00 2.16e-01  2e-01  2e-01 0:00.1\n"
     ]
    },
    {
     "name": "stderr",
     "output_type": "stream",
     "text": [
      " /home/finley/miniconda3/envs/testsuite/lib/python3.8/site-packages/cma/utilities/utils.py:329: UserWarning:flat fitness (f=-0.000000, sigma=2.16e-01).\n",
      "                    For small sigma, this could indicate numerical convergence.\n",
      "                    Otherwise, please (re)consider how to compute the fitness more elaborately. (iteration=3)\n",
      "reconstraining parameters GP_regression.Mat52.lengthscale\n",
      "reconstraining parameters GP_regression.Mat52.variance\n",
      "reconstraining parameters GP_regression.Gaussian_noise.variance\n"
     ]
    },
    {
     "name": "stdout",
     "output_type": "stream",
     "text": [
      "termination on tolfun=1e-11 (Fri Sep  4 15:44:58 2020)\n",
      "final/bestever f-value = -2.220446e-16 -2.220446e-16\n",
      "incumbent solution: [0.14941693698287925, 1.0419884652177027, 0.5844652293484457, 3.298855433781537, 4.344598102841075, 8.918882896176157]\n",
      "std deviation: [0.18669071432515918, 0.20210154044164036, 0.21347973419844266, 0.22321082998183797, 0.21082572098608135, 0.21214903226345178]\n",
      "Optimization restart 1/10, f = 16.46356924694934\n",
      "Optimization restart 2/10, f = 80.1048725540008\n",
      "Optimization restart 3/10, f = 80.10487518826908\n",
      "Optimization restart 4/10, f = 16.46356924703702\n",
      "Optimization restart 5/10, f = 80.10487518827804\n",
      "Optimization restart 6/10, f = 16.463569246949223\n",
      "Optimization restart 7/10, f = 17.027262398456074\n",
      "Optimization restart 8/10, f = 17.02726239845607\n"
     ]
    },
    {
     "name": "stderr",
     "output_type": "stream",
     "text": [
      "reconstraining parameters GP_regression.Mat52.lengthscale\n",
      "reconstraining parameters GP_regression.Mat52.variance\n",
      "reconstraining parameters GP_regression.Gaussian_noise.variance\n"
     ]
    },
    {
     "name": "stdout",
     "output_type": "stream",
     "text": [
      "Optimization restart 9/10, f = 16.463569246956652\n",
      "Optimization restart 10/10, f = 17.0272623984565\n",
      "Optimization restart 1/10, f = 16.87956776914968\n",
      "Optimization restart 2/10, f = 17.027262398456408\n",
      "Optimization restart 3/10, f = 17.027262398456468\n",
      "Optimization restart 4/10, f = 232127948.2744445\n",
      "Optimization restart 5/10, f = 80.10487518827804\n",
      "Optimization restart 6/10, f = 16.879567769148217\n",
      "Optimization restart 7/10, f = 231978020.20873043\n",
      "Optimization restart 8/10, f = 16.879567769148196\n",
      "Optimization restart 9/10, f = 17.027262398456074\n",
      "Optimization restart 10/10, f = 16.879567769155766\n",
      "(4_w,9)-aCMA-ES (mu_w=2.8,w_1=49%) in dimension 6 (seed=359752, Fri Sep  4 15:45:02 2020)\n",
      "Iterat #Fevals   function value  axis ratio  sigma  min&max std  t[m:s]\n",
      "    1      9 -1.121564684157161e-02 1.0e+00 2.24e-01  2e-01  2e-01 0:00.0\n",
      "    2     18 -1.143562301050483e-02 1.2e+00 1.99e-01  2e-01  2e-01 0:00.1\n",
      "    3     27 -1.239638728360482e-02 1.3e+00 1.99e-01  2e-01  2e-01 0:00.1\n",
      "   65    585 -6.280358036978106e-02 6.5e+00 3.20e-02  4e-03  2e-02 0:03.1\n",
      "  100    900 -6.280995572944525e-02 9.2e+00 1.12e-03  6e-05  4e-04 0:04.3\n",
      "  150   1350 -6.280995733105255e-02 9.7e+00 4.76e-06  8e-08  6e-07 0:05.5\n"
     ]
    },
    {
     "name": "stderr",
     "output_type": "stream",
     "text": [
      "reconstraining parameters GP_regression.Mat52.lengthscale\n",
      "reconstraining parameters GP_regression.Mat52.variance\n",
      "reconstraining parameters GP_regression.Gaussian_noise.variance\n"
     ]
    },
    {
     "name": "stdout",
     "output_type": "stream",
     "text": [
      "termination on tolfun=1e-11 (Fri Sep  4 15:45:08 2020)\n",
      "final/bestever f-value = -6.280996e-02 -6.280996e-02\n",
      "incumbent solution: [0.0899269692828478, 2.3884131082230757, 1.3672756392611707, 2.208602218669241, 4.7772458047502155, 7.38044781866867]\n",
      "std deviation: [8.440559110745666e-08, 1.2563812242651528e-07, 3.3153249421365855e-07, 2.6766037685955023e-07, 3.669546094666922e-07, 5.745810395406028e-07]\n",
      "Optimization restart 1/10, f = 17.503142612197657\n",
      "Optimization restart 2/10, f = 86.78027655430007\n",
      "Optimization restart 3/10, f = 17.503142612197657\n",
      "Optimization restart 4/10, f = 17.503142612199007\n",
      "Optimization restart 5/10, f = 17.50314261219851\n",
      "Optimization restart 6/10, f = 17.503142612246712\n",
      "Optimization restart 7/10, f = 649287.7680328102\n",
      "Optimization restart 8/10, f = 17.50314261219766\n",
      "Optimization restart 9/10, f = 18.446200931660748\n"
     ]
    },
    {
     "name": "stderr",
     "output_type": "stream",
     "text": [
      "reconstraining parameters GP_regression.Mat52.lengthscale\n",
      "reconstraining parameters GP_regression.Mat52.variance\n",
      "reconstraining parameters GP_regression.Gaussian_noise.variance\n"
     ]
    },
    {
     "name": "stdout",
     "output_type": "stream",
     "text": [
      "Optimization restart 10/10, f = 17.50314261220069\n",
      "Optimization restart 1/10, f = 18.21653975252958\n",
      "Optimization restart 2/10, f = 18.21653975253095\n",
      "Optimization restart 3/10, f = 18.216539752528366\n",
      "Optimization restart 4/10, f = 18.21653975254967\n",
      "Optimization restart 5/10, f = 18.216539752528398\n",
      "Optimization restart 6/10, f = 37.56896296899283\n",
      "Optimization restart 7/10, f = 86.78009718061143\n",
      "Optimization restart 8/10, f = 18.21653975252803\n",
      "Optimization restart 9/10, f = 18.216539752528135\n",
      "Optimization restart 10/10, f = 18.21653975253747\n",
      "(4_w,9)-aCMA-ES (mu_w=2.8,w_1=49%) in dimension 6 (seed=325199, Fri Sep  4 15:45:11 2020)\n",
      "Iterat #Fevals   function value  axis ratio  sigma  min&max std  t[m:s]\n",
      "    1      9 5.096515024715065e-01 1.0e+00 2.57e-01  2e-01  3e-01 0:00.0\n",
      "    2     18 4.945197230194509e-01 1.4e+00 2.68e-01  2e-01  3e-01 0:00.1\n",
      "    3     27 4.693556440738609e-01 1.4e+00 2.81e-01  3e-01  3e-01 0:00.1\n",
      "  100    900 -2.764529934838000e-02 9.5e+00 3.65e-03  2e-04  2e-03 0:02.5\n",
      "  167   1503 -2.764532256804975e-02 9.6e+00 1.16e-05  2e-07  1e-06 0:04.0\n"
     ]
    },
    {
     "name": "stderr",
     "output_type": "stream",
     "text": [
      "reconstraining parameters GP_regression.Mat52.lengthscale\n",
      "reconstraining parameters GP_regression.Mat52.variance\n",
      "reconstraining parameters GP_regression.Gaussian_noise.variance\n"
     ]
    },
    {
     "name": "stdout",
     "output_type": "stream",
     "text": [
      "termination on tolfun=1e-11 (Fri Sep  4 15:45:15 2020)\n",
      "final/bestever f-value = -2.764532e-02 -2.764532e-02\n",
      "incumbent solution: [1.44993608355553e-14, 1.6173205370610553, 1.311651657897353, 3.445111688153966, 3.7310137806514883, 7.203008832727433]\n",
      "std deviation: [2.5281569071758015e-07, 2.1701224992675994e-07, 7.31488826732836e-07, 7.558877488892988e-07, 8.299499749858257e-07, 1.071667553974012e-06]\n",
      "Optimization restart 1/10, f = 17.76533745527381\n",
      "Optimization restart 2/10, f = 17.765337455289462\n",
      "Optimization restart 3/10, f = 93.4556877196577\n",
      "Optimization restart 4/10, f = 40.26805055204835\n",
      "Optimization restart 5/10, f = 19.865139464865422\n",
      "Optimization restart 6/10, f = 17.765337455275276\n",
      "Optimization restart 7/10, f = 17.765337455274324\n",
      "Optimization restart 8/10, f = 93.4556877196577\n",
      "Optimization restart 9/10, f = 17.765337455274064\n",
      "Optimization restart 10/10, f = 19.865139464865422\n"
     ]
    },
    {
     "name": "stderr",
     "output_type": "stream",
     "text": [
      "reconstraining parameters GP_regression.Mat52.lengthscale\n",
      "reconstraining parameters GP_regression.Mat52.variance\n",
      "reconstraining parameters GP_regression.Gaussian_noise.variance\n"
     ]
    },
    {
     "name": "stdout",
     "output_type": "stream",
     "text": [
      "Optimization restart 1/10, f = 19.19595361420963\n",
      "Optimization restart 2/10, f = 19.865139464439352\n",
      "Optimization restart 3/10, f = 19.865139464865422\n",
      "Optimization restart 4/10, f = 93.4556877196577\n",
      "Optimization restart 5/10, f = 19.195953614209902\n",
      "Optimization restart 6/10, f = 19.1959536142093\n",
      "Optimization restart 7/10, f = 19.86513946486542\n",
      "Optimization restart 8/10, f = 19.195953614209337\n",
      "Optimization restart 9/10, f = 93.4556877196577\n",
      "Optimization restart 10/10, f = 19.195953614212186\n",
      "(4_w,9)-aCMA-ES (mu_w=2.8,w_1=49%) in dimension 6 (seed=266070, Fri Sep  4 15:45:18 2020)\n",
      "Iterat #Fevals   function value  axis ratio  sigma  min&max std  t[m:s]\n",
      "    1      9 2.773476376739594e-01 1.0e+00 2.42e-01  2e-01  3e-01 0:00.0\n",
      "    2     18 3.066977390365841e-01 1.2e+00 2.31e-01  2e-01  2e-01 0:00.0\n",
      "    3     27 2.349955600594986e-01 1.3e+00 2.30e-01  2e-01  2e-01 0:00.1\n",
      "  100    900 -5.104464647896512e-02 4.2e+00 7.82e-04  5e-05  2e-04 0:02.1\n"
     ]
    },
    {
     "name": "stderr",
     "output_type": "stream",
     "text": [
      "ERROR:root:Internal Python error in the inspect module.\n",
      "Below is the traceback from this internal error.\n",
      "\n"
     ]
    },
    {
     "name": "stdout",
     "output_type": "stream",
     "text": [
      "Traceback (most recent call last):\n",
      "  File \"/home/finley/miniconda3/envs/testsuite/lib/python3.8/site-packages/IPython/core/interactiveshell.py\", line 3331, in run_code\n",
      "    exec(code_obj, self.user_global_ns, self.user_ns)\n",
      "  File \"<ipython-input-4-79a0d3acad56>\", line 1, in <module>\n",
      "    opt.optimise(n_steps=100)\n",
      "  File \"/home/finley/phd/code/testsuite/testsuite/optimisers.py\", line 115, in optimise\n",
      "    self.step()\n",
      "  File \"/home/finley/phd/code/testsuite/testsuite/optimisers.py\", line 25, in wrapper\n",
      "    return_value = f(self, *args, **kwargs)\n",
      "  File \"/home/finley/phd/code/testsuite/testsuite/optimisers.py\", line 124, in step\n",
      "    x_new = self.get_next_x()\n",
      "  File \"/home/finley/phd/code/testsuite/testsuite/optimisers.py\", line 359, in get_next_x\n",
      "    res = cma.fmin(self.alpha, seed,\n",
      "  File \"/home/finley/miniconda3/envs/testsuite/lib/python3.8/site-packages/cma/evolution_strategy.py\", line 4149, in fmin\n",
      "    X, fit = es.ask_and_eval(parallel_objective or objective_function,\n",
      "  File \"/home/finley/miniconda3/envs/testsuite/lib/python3.8/site-packages/cma/evolution_strategy.py\", line 2282, in ask_and_eval\n",
      "    f = func(x, *args) if kappa == 1 else \\\n",
      "  File \"/home/finley/phd/code/testsuite/testsuite/optimisers.py\", line 556, in alpha\n",
      "    y_put, var_put = self.surrogate.predict(x_put)\n",
      "  File \"/home/finley/phd/code/testsuite/testsuite/surrogates.py\", line 252, in predict\n",
      "    predictions = np.array([surrogate.predict(xi) for surrogate in\n",
      "  File \"/home/finley/phd/code/testsuite/testsuite/surrogates.py\", line 252, in <listcomp>\n",
      "    predictions = np.array([surrogate.predict(xi) for surrogate in\n",
      "  File \"/home/finley/phd/code/testsuite/testsuite/surrogates.py\", line 75, in predict\n",
      "    mean, var = self.model.predict(xi)\n",
      "  File \"/home/finley/miniconda3/envs/testsuite/lib/python3.8/site-packages/GPy/core/gp.py\", line 342, in predict\n",
      "    mean, var = self._raw_predict(Xnew, full_cov=full_cov, kern=kern)\n",
      "  File \"/home/finley/miniconda3/envs/testsuite/lib/python3.8/site-packages/GPy/core/gp.py\", line 299, in _raw_predict\n",
      "    mu, var = self.posterior._raw_predict(kern=self.kern if kern is None else kern, Xnew=Xnew, pred_var=self._predictive_variable, full_cov=full_cov)\n",
      "  File \"/home/finley/miniconda3/envs/testsuite/lib/python3.8/site-packages/GPy/inference/latent_function_inference/posterior.py\", line 294, in _raw_predict\n",
      "    tmp = dtrtrs(self._woodbury_chol, Kx)[0]\n",
      "  File \"/home/finley/miniconda3/envs/testsuite/lib/python3.8/site-packages/GPy/util/linalg.py\", line 114, in dtrtrs\n",
      "    return lapack.dtrtrs(A, B, lower=lower, trans=trans, unitdiag=unitdiag)\n",
      "KeyboardInterrupt\n",
      "\n",
      "During handling of the above exception, another exception occurred:\n",
      "\n",
      "Traceback (most recent call last):\n",
      "  File \"/home/finley/miniconda3/envs/testsuite/lib/python3.8/site-packages/IPython/core/interactiveshell.py\", line 2044, in showtraceback\n",
      "    stb = value._render_traceback_()\n",
      "AttributeError: 'KeyboardInterrupt' object has no attribute '_render_traceback_'\n",
      "\n",
      "During handling of the above exception, another exception occurred:\n",
      "\n",
      "Traceback (most recent call last):\n",
      "  File \"/home/finley/miniconda3/envs/testsuite/lib/python3.8/site-packages/IPython/core/ultratb.py\", line 1148, in get_records\n",
      "    return _fixed_getinnerframes(etb, number_of_lines_of_context, tb_offset)\n",
      "  File \"/home/finley/miniconda3/envs/testsuite/lib/python3.8/site-packages/IPython/core/ultratb.py\", line 316, in wrapped\n",
      "    return f(*args, **kwargs)\n",
      "  File \"/home/finley/miniconda3/envs/testsuite/lib/python3.8/site-packages/IPython/core/ultratb.py\", line 350, in _fixed_getinnerframes\n",
      "    records = fix_frame_records_filenames(inspect.getinnerframes(etb, context))\n",
      "  File \"/home/finley/miniconda3/envs/testsuite/lib/python3.8/inspect.py\", line 1503, in getinnerframes\n",
      "    frameinfo = (tb.tb_frame,) + getframeinfo(tb, context)\n",
      "  File \"/home/finley/miniconda3/envs/testsuite/lib/python3.8/inspect.py\", line 1461, in getframeinfo\n",
      "    filename = getsourcefile(frame) or getfile(frame)\n",
      "  File \"/home/finley/miniconda3/envs/testsuite/lib/python3.8/inspect.py\", line 708, in getsourcefile\n",
      "    if getattr(getmodule(object, filename), '__loader__', None) is not None:\n",
      "  File \"/home/finley/miniconda3/envs/testsuite/lib/python3.8/inspect.py\", line 745, in getmodule\n",
      "    if ismodule(module) and hasattr(module, '__file__'):\n",
      "KeyboardInterrupt\n"
     ]
    },
    {
     "ename": "KeyboardInterrupt",
     "evalue": "",
     "output_type": "error",
     "traceback": [
      "\u001b[0;31m---------------------------------------------------------------------------\u001b[0m"
     ]
    }
   ],
   "source": [
    "opt.optimise(n_steps=100)"
   ]
  },
  {
   "cell_type": "code",
   "execution_count": null,
   "metadata": {},
   "outputs": [],
   "source": [
    "opt.x"
   ]
  },
  {
   "cell_type": "code",
   "execution_count": null,
   "metadata": {},
   "outputs": [],
   "source": [
    "print(opt.log_filename)"
   ]
  },
  {
   "cell_type": "code",
   "execution_count": null,
   "metadata": {},
   "outputs": [],
   "source": [
    "a = opt._generate_filename()\n",
    "print(a)"
   ]
  },
  {
   "cell_type": "code",
   "execution_count": null,
   "metadata": {},
   "outputs": [],
   "source": [
    "help opt.log_optimisation"
   ]
  },
  {
   "cell_type": "code",
   "execution_count": null,
   "metadata": {},
   "outputs": [],
   "source": []
  }
 ],
 "metadata": {
  "kernelspec": {
   "display_name": "testsuite",
   "language": "python",
   "name": "testsuite"
  },
  "language_info": {
   "codemirror_mode": {
    "name": "ipython",
    "version": 3
   },
   "file_extension": ".py",
   "mimetype": "text/x-python",
   "name": "python",
   "nbconvert_exporter": "python",
   "pygments_lexer": "ipython3",
   "version": "3.8.3"
  },
  "varInspector": {
   "cols": {
    "lenName": 16,
    "lenType": 16,
    "lenVar": 40
   },
   "kernels_config": {
    "python": {
     "delete_cmd_postfix": "",
     "delete_cmd_prefix": "del ",
     "library": "var_list.py",
     "varRefreshCmd": "print(var_dic_list())"
    },
    "r": {
     "delete_cmd_postfix": ") ",
     "delete_cmd_prefix": "rm(",
     "library": "var_list.r",
     "varRefreshCmd": "cat(var_dic_list()) "
    }
   },
   "types_to_exclude": [
    "module",
    "function",
    "builtin_function_or_method",
    "instance",
    "_Feature"
   ],
   "window_display": false
  }
 },
 "nbformat": 4,
 "nbformat_minor": 4
}
