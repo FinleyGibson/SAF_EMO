{
 "cells": [
  {
   "cell_type": "code",
   "execution_count": 1,
   "metadata": {},
   "outputs": [],
   "source": [
    "import matplotlib.pyplot as plt\n",
    "import wfg\n",
    "import numpy as np\n",
    "import rootpath \n",
    "import sys\n",
    "sys.path.append(rootpath.detect())\n",
    "from testsuite.surrogates import GP, MultiSurrogate\n",
    "from testsuite.optimisers import BayesianOptimiser, SmsEgo"
   ]
  },
  {
   "cell_type": "code",
   "execution_count": 2,
   "metadata": {},
   "outputs": [],
   "source": [
    "## set up objective function\n",
    "kfactor = 2\n",
    "lfactor = 2\n",
    "n_objectives = 2\n",
    "n_dims = lfactor * 2 + kfactor\n",
    "\n",
    "k = kfactor * (n_objectives - 1)\n",
    "l = lfactor * 2\n",
    "wfg_n = 6\n",
    "exec(\"func = wfg.WFG{}\".format(int(wfg_n)))\n",
    "\n",
    "def wfg2(x):\n",
    "    if x.ndim == 2:\n",
    "        assert (x.shape[1] == n_dims)\n",
    "    else:\n",
    "        squeezable = np.where([a == 1 for a in x.shape])[0]\n",
    "        for i in squeezable[::-1]:\n",
    "            x = x.squeeze(i)\n",
    "\n",
    "    if x.ndim == 1:\n",
    "        assert (x.shape[0] == n_dims)\n",
    "        x = x.reshape(1, -1)\n",
    "    return np.array([func(xi, k, n_objectives) for xi in x])"
   ]
  },
  {
   "cell_type": "code",
   "execution_count": 3,
   "metadata": {},
   "outputs": [],
   "source": [
    "limits = [np.zeros((n_dims)), np.array(range(1, n_dims + 1)) * 2]\n",
    "\n",
    "gp_multisurr = MultiSurrogate(GP, scaled=True)\n",
    "opt = SmsEgo(objective_function=wfg2, limits=limits, surrogate=gp_multisurr, n_initial=10, seed=None, log_interval=10)\n",
    "\n",
    "# opt.alpha(opt.x[0:1], opt.surrogate, opt.y)\n",
    "# opt.optimise(n_steps=10)"
   ]
  },
  {
   "cell_type": "code",
   "execution_count": null,
   "metadata": {},
   "outputs": [
    {
     "name": "stderr",
     "output_type": "stream",
     "text": [
      "reconstraining parameters GP_regression.Mat52.lengthscale\n",
      "reconstraining parameters GP_regression.Mat52.variance\n",
      "reconstraining parameters GP_regression.Gaussian_noise.variance\n"
     ]
    },
    {
     "name": "stdout",
     "output_type": "stream",
     "text": [
      "Optimization restart 1/10, f = 14.1893843324335\n",
      "Optimization restart 2/10, f = 499452.12925600784\n",
      "Optimization restart 3/10, f = 12.556373347000676\n",
      "Optimization restart 4/10, f = 20.853583676214665\n",
      "Optimization restart 5/10, f = 13.384483077190001\n",
      "Optimization restart 6/10, f = 25.910364915401505\n",
      "Optimization restart 7/10, f = 78803764.3513585\n",
      "Optimization restart 8/10, f = 24.733770375869632\n"
     ]
    },
    {
     "name": "stderr",
     "output_type": "stream",
     "text": [
      "reconstraining parameters GP_regression.Mat52.lengthscale\n",
      "reconstraining parameters GP_regression.Mat52.variance\n",
      "reconstraining parameters GP_regression.Gaussian_noise.variance\n"
     ]
    },
    {
     "name": "stdout",
     "output_type": "stream",
     "text": [
      "Optimization restart 9/10, f = 21.34471581291552\n",
      "Optimization restart 10/10, f = 13.867381012846883\n",
      "Optimization restart 1/10, f = 14.189384866680072\n",
      "Optimization restart 2/10, f = 13.357898379274825\n",
      "Optimization restart 3/10, f = 24.888984458842213\n",
      "Optimization restart 4/10, f = 11.499907862755535\n",
      "Optimization restart 5/10, f = 13.357898391311807\n",
      "Optimization restart 6/10, f = 14.189385332046726\n",
      "Optimization restart 7/10, f = 14.189385332046752\n",
      "Optimization restart 8/10, f = 14.189385332046726\n",
      "Optimization restart 9/10, f = 14.18938533204673\n",
      "Optimization restart 10/10, f = 10.67004497419008\n",
      "(4_w,9)-aCMA-ES (mu_w=2.8,w_1=49%) in dimension 6 (seed=325038, Mon Aug 24 14:49:42 2020)\n",
      "Iterat #Fevals   function value  axis ratio  sigma  min&max std  t[m:s]\n",
      "    1      9 1.027912040609209e+00 1.0e+00 2.71e-01  3e-01  3e-01 0:00.0\n",
      "    2     18 1.153314399314814e+00 1.4e+00 2.77e-01  3e-01  3e-01 0:00.1\n",
      "    3     27 1.073239096240470e+00 1.6e+00 2.51e-01  2e-01  3e-01 0:00.1\n"
     ]
    },
    {
     "name": "stderr",
     "output_type": "stream",
     "text": [
      " /home/finley/miniconda3/envs/testsuite/lib/python3.8/site-packages/cma/utilities/utils.py:329: UserWarning:function_values is not a list of scalars,\n",
      "                        the first element equals [1.22666474] with non-scalar type <class 'numpy.ndarray'>.\n",
      "                        Using now ``[v[0] for v in function_values]`` instead (further warnings are suppressed) ()\n",
      " /home/finley/miniconda3/envs/testsuite/lib/python3.8/site-packages/cma/utilities/utils.py:329: UserWarning:function_values is not a list of scalars,\n",
      "                        the first element equals [2.46037218] with non-scalar type <class 'numpy.ndarray'>.\n",
      "                        Using now ``[v[0] for v in function_values]`` instead (further warnings are suppressed) ()\n"
     ]
    },
    {
     "name": "stdout",
     "output_type": "stream",
     "text": [
      "   50    450 -1.665087950331440e+00 1.2e+01 8.34e-02  1e-02  1e-01 0:03.2\n",
      "  100    900 -1.684037903354817e+00 4.5e+01 2.29e-02  5e-04  2e-02 0:07.0\n",
      "  153   1377 -1.684040853337846e+00 4.3e+02 5.43e-04  2e-06  7e-04 0:12.1\n",
      "  200   1800 -1.684040853431463e+00 9.2e+03 4.13e-04  4e-07  2e-03 0:15.8\n",
      "NOTE (module=cma, iteration=205):  \n",
      "condition in coordinate system exceeded 1.2e+08, rescaled to 1.0e+00, \n",
      "condition changed from 2.1e+08 to 4.6e+02\n",
      "  293   2637 -1.684040855385464e+00 2.0e+01 9.75e-04  1e-07  9e-03 0:22.7\n"
     ]
    },
    {
     "name": "stderr",
     "output_type": "stream",
     "text": [
      "reconstraining parameters GP_regression.Mat52.lengthscale\n",
      "reconstraining parameters GP_regression.Mat52.variance\n",
      "reconstraining parameters GP_regression.Gaussian_noise.variance\n"
     ]
    },
    {
     "name": "stdout",
     "output_type": "stream",
     "text": [
      "termination on tolfun=1e-11 (Mon Aug 24 14:50:05 2020)\n",
      "final/bestever f-value = -1.684041e+00 -1.684041e+00\n",
      "incumbent solution: [0.3418407824779046, 3.9999999999993117, 1.7433877452556844e-12, 3.491371202393996, 2.6688695316968807, 2.7861004935789238]\n",
      "std deviation: [1.0592375088795119e-07, 7.784645739533114e-07, 1.5148724675789691e-06, 3.295978732874479e-07, 0.008422625428706086, 0.008821720349368968]\n",
      "Optimization restart 1/10, f = 15.028658072405642\n",
      "Optimization restart 2/10, f = 73.4294689225882\n",
      "Optimization restart 3/10, f = 15.6083238652514\n",
      "Optimization restart 4/10, f = 15.6083238652514\n",
      "Optimization restart 5/10, f = 11.79682925049216\n",
      "Optimization restart 6/10, f = 11.796829544724961\n",
      "Optimization restart 7/10, f = 73.4294689225882\n",
      "Optimization restart 8/10, f = 73.42946269224929\n",
      "Optimization restart 9/10, f = 15.608323865251402\n"
     ]
    },
    {
     "name": "stderr",
     "output_type": "stream",
     "text": [
      "reconstraining parameters GP_regression.Mat52.lengthscale\n",
      "reconstraining parameters GP_regression.Mat52.variance\n",
      "reconstraining parameters GP_regression.Gaussian_noise.variance\n"
     ]
    },
    {
     "name": "stdout",
     "output_type": "stream",
     "text": [
      "Optimization restart 10/10, f = 15.608323865251663\n",
      "Optimization restart 1/10, f = 9.963212329633368\n",
      "Optimization restart 2/10, f = 32.713361761292944\n",
      "Optimization restart 3/10, f = 15.60832414493547\n",
      "Optimization restart 4/10, f = 15.608324152562854\n",
      "Optimization restart 5/10, f = 15.608323865251425\n",
      "Optimization restart 6/10, f = 15.608323865251442\n",
      "Optimization restart 7/10, f = 15.6083238652514\n",
      "Optimization restart 8/10, f = 12.951730905653575\n",
      "Optimization restart 9/10, f = 13.800952886120339\n",
      "Optimization restart 10/10, f = 9.963212932679514\n",
      "(4_w,9)-aCMA-ES (mu_w=2.8,w_1=49%) in dimension 6 (seed=369882, Mon Aug 24 14:50:08 2020)\n",
      "Iterat #Fevals   function value  axis ratio  sigma  min&max std  t[m:s]\n",
      "    1      9 8.582481515089080e-01 1.0e+00 2.36e-01  2e-01  2e-01 0:00.1\n",
      "    2     18 6.328559842687385e-01 1.2e+00 2.39e-01  2e-01  2e-01 0:00.2\n"
     ]
    },
    {
     "name": "stderr",
     "output_type": "stream",
     "text": [
      " /home/finley/miniconda3/envs/testsuite/lib/python3.8/site-packages/cma/utilities/utils.py:329: UserWarning:function_values is not a list of scalars,\n",
      "                        the first element equals [0.97486466] with non-scalar type <class 'numpy.ndarray'>.\n",
      "                        Using now ``[v[0] for v in function_values]`` instead (further warnings are suppressed) ()\n",
      " /home/finley/miniconda3/envs/testsuite/lib/python3.8/site-packages/cma/utilities/utils.py:329: UserWarning:function_values is not a list of scalars,\n",
      "                        the first element equals [1.68366962] with non-scalar type <class 'numpy.ndarray'>.\n",
      "                        Using now ``[v[0] for v in function_values]`` instead (further warnings are suppressed) ()\n"
     ]
    },
    {
     "name": "stdout",
     "output_type": "stream",
     "text": [
      "    3     27 5.983768358262402e-01 1.3e+00 2.33e-01  2e-01  2e-01 0:00.3\n",
      "   53    477 5.149760698303854e-01 2.9e+01 5.75e-02  5e-03  1e-01 0:03.3\n",
      "  100    900 5.148861579489210e-01 2.2e+02 2.95e-03  3e-05  5e-03 0:06.5\n",
      "  155   1395 5.148861568424516e-01 3.5e+03 3.24e-04  4e-07  1e-03 0:11.5\n",
      "NOTE (module=cma, iteration=174):  \n",
      "condition in coordinate system exceeded 1.4e+08, rescaled to 1.0e+00, \n",
      "condition changed from 1.2e+08 to 1.2e+02\n",
      "  200   1800 5.148861534485873e-01 1.5e+01 7.27e-03  3e-06  7e-02 0:15.3\n",
      "  290   2610 5.148861482594385e-01 3.1e+01 1.87e-02  8e-07  4e-02 0:22.3\n",
      "  300   2700 5.148861482520879e-01 3.5e+01 1.30e-02  4e-07  2e-02 0:23.0\n",
      "  332   2988 5.148861482424141e-01 5.2e+01 6.17e-03  9e-08  2e-02 0:25.2\n"
     ]
    },
    {
     "name": "stderr",
     "output_type": "stream",
     "text": [
      "reconstraining parameters GP_regression.Mat52.lengthscale\n",
      "reconstraining parameters GP_regression.Mat52.variance\n",
      "reconstraining parameters GP_regression.Gaussian_noise.variance\n"
     ]
    },
    {
     "name": "stdout",
     "output_type": "stream",
     "text": [
      "termination on tolfun=1e-11 (Mon Aug 24 14:50:34 2020)\n",
      "final/bestever f-value = 5.148861e-01 5.148861e-01\n",
      "incumbent solution: [0.15025662339726578, 3.999999999999988, 2.648211987164534e-13, 5.586113215763357e-06, 8.860465982813125, 6.33082423410256e-06]\n",
      "std deviation: [9.440352970598485e-08, 1.504833944020748e-07, 3.29857483629987e-07, 0.0015744931336558977, 0.01550529256715307, 0.0012028540049519455]\n",
      "Optimization restart 1/10, f = 13.111148331009062\n",
      "Optimization restart 2/10, f = 17.027207803261938\n",
      "Optimization restart 3/10, f = 17.02726239846185\n",
      "Optimization restart 4/10, f = 80.10487518827804\n",
      "Optimization restart 5/10, f = 13.111060467579541\n",
      "Optimization restart 6/10, f = 13.099646236015829\n",
      "Optimization restart 7/10, f = 17.027262398459445\n"
     ]
    },
    {
     "name": "stderr",
     "output_type": "stream",
     "text": [
      "reconstraining parameters GP_regression.Mat52.lengthscale\n"
     ]
    },
    {
     "name": "stdout",
     "output_type": "stream",
     "text": [
      "Optimization restart 8/10, f = 16.1879156447402\n",
      "Optimization restart 9/10, f = 16.3404508519588\n",
      "Optimization restart 10/10, f = 241363525.87822288\n"
     ]
    },
    {
     "name": "stderr",
     "output_type": "stream",
     "text": [
      "reconstraining parameters GP_regression.Mat52.variance\n",
      "reconstraining parameters GP_regression.Gaussian_noise.variance\n"
     ]
    },
    {
     "name": "stdout",
     "output_type": "stream",
     "text": [
      "Optimization restart 1/10, f = 9.40894949052387\n",
      "Optimization restart 2/10, f = 15.50815190713426\n",
      "Optimization restart 3/10, f = 14.378943934691904\n",
      "Optimization restart 4/10, f = 33.91788093126976\n",
      "Optimization restart 5/10, f = 80.10487518827804\n",
      "Optimization restart 6/10, f = 17.02520874448706\n",
      "Optimization restart 7/10, f = 35.423205246438194\n",
      "Optimization restart 8/10, f = 17.027262398456074\n",
      "Optimization restart 9/10, f = 13.362752636718525\n",
      "Optimization restart 10/10, f = 17.027262398456074\n",
      "(4_w,9)-aCMA-ES (mu_w=2.8,w_1=49%) in dimension 6 (seed=374016, Mon Aug 24 14:50:39 2020)\n",
      "Iterat #Fevals   function value  axis ratio  sigma  min&max std  t[m:s]\n",
      "    1      9 -1.936195008331265e-02 1.0e+00 2.39e-01  2e-01  3e-01 0:00.1\n",
      "    2     18 -5.175974551693274e-02 1.2e+00 2.57e-01  2e-01  3e-01 0:00.1\n"
     ]
    },
    {
     "name": "stderr",
     "output_type": "stream",
     "text": [
      " /home/finley/miniconda3/envs/testsuite/lib/python3.8/site-packages/cma/utilities/utils.py:329: UserWarning:function_values is not a list of scalars,\n",
      "                        the first element equals [2.38702032] with non-scalar type <class 'numpy.ndarray'>.\n",
      "                        Using now ``[v[0] for v in function_values]`` instead (further warnings are suppressed) ()\n",
      " /home/finley/miniconda3/envs/testsuite/lib/python3.8/site-packages/cma/utilities/utils.py:329: UserWarning:function_values is not a list of scalars,\n",
      "                        the first element equals [2.94123856] with non-scalar type <class 'numpy.ndarray'>.\n",
      "                        Using now ``[v[0] for v in function_values]`` instead (further warnings are suppressed) ()\n"
     ]
    },
    {
     "name": "stdout",
     "output_type": "stream",
     "text": [
      "    3     27 -1.374489469743148e-01 1.5e+00 2.85e-01  3e-01  3e-01 0:00.3\n",
      "   31    279 -2.940291625521498e+00 4.8e+00 1.56e-01  4e-02  2e-01 0:03.4\n",
      "   63    567 -3.044760983421470e+00 3.6e+01 7.23e-02  5e-03  1e-01 0:07.4\n",
      "  100    900 -3.045183563387920e+00 1.9e+02 6.24e-03  1e-04  1e-02 0:11.2\n",
      "  167   1503 -3.045183830963088e+00 1.8e+03 2.04e-05  4e-08  5e-05 0:17.2\n"
     ]
    },
    {
     "name": "stderr",
     "output_type": "stream",
     "text": [
      "reconstraining parameters GP_regression.Mat52.lengthscale\n",
      "reconstraining parameters GP_regression.Mat52.variance\n",
      "reconstraining parameters GP_regression.Gaussian_noise.variance\n"
     ]
    },
    {
     "name": "stdout",
     "output_type": "stream",
     "text": [
      "termination on tolfun=1e-11 (Mon Aug 24 14:50:57 2020)\n",
      "final/bestever f-value = -3.045184e+00 -3.045184e+00\n",
      "incumbent solution: [1.9999999999999987, 1.3848411996890493, 6.641096283942209e-14, 3.1611238441729275, 5.48392677972874, 11.412480059752951]\n",
      "std deviation: [5.972664621595104e-08, 3.871149917982185e-08, 3.486619212468552e-07, 1.0749491211229192e-06, 4.646647599035304e-05, 4.9140398600156104e-05]\n",
      "Optimization restart 1/10, f = 17.85377626257874\n",
      "Optimization restart 2/10, f = 127.8528182051136\n",
      "Optimization restart 3/10, f = 18.446201222948506\n",
      "Optimization restart 4/10, f = 18.385278437327568\n",
      "Optimization restart 5/10, f = 18.16456191002315\n",
      "Optimization restart 6/10, f = 18.446200931660826\n",
      "Optimization restart 7/10, f = 92.83228354875413\n",
      "Optimization restart 8/10, f = 17.85377624034355\n",
      "Optimization restart 9/10, f = 219999135.7214616\n"
     ]
    },
    {
     "name": "stderr",
     "output_type": "stream",
     "text": [
      "reconstraining parameters GP_regression.Mat52.lengthscale\n",
      "reconstraining parameters GP_regression.Mat52.variance\n",
      "reconstraining parameters GP_regression.Gaussian_noise.variance\n"
     ]
    },
    {
     "name": "stdout",
     "output_type": "stream",
     "text": [
      "Optimization restart 10/10, f = 17.79753560789724\n",
      "Optimization restart 1/10, f = 10.313593396821823\n",
      "Optimization restart 2/10, f = 135.51078446138453\n",
      "Optimization restart 3/10, f = 10.446804982069722\n",
      "Optimization restart 4/10, f = 38.964564985873096\n",
      "Optimization restart 5/10, f = 16.985151170329345\n",
      "Optimization restart 6/10, f = 86.78028145396787\n",
      "Optimization restart 7/10, f = 10.313593385936693\n",
      "Optimization restart 8/10, f = 100.08328368725088\n",
      "Optimization restart 9/10, f = 3130634.824394591\n",
      "Optimization restart 10/10, f = 18.446200931660744\n",
      "(4_w,9)-aCMA-ES (mu_w=2.8,w_1=49%) in dimension 6 (seed=365832, Mon Aug 24 14:51:02 2020)\n",
      "Iterat #Fevals   function value  axis ratio  sigma  min&max std  t[m:s]\n",
      "    1      9 -1.302099613240966e-01 1.0e+00 2.74e-01  3e-01  3e-01 0:00.1\n",
      "    2     18 -1.097984141405193e-01 1.4e+00 2.65e-01  3e-01  3e-01 0:00.2\n",
      "    3     27 -1.918079810214182e-01 1.4e+00 2.91e-01  3e-01  3e-01 0:00.2\n"
     ]
    },
    {
     "name": "stderr",
     "output_type": "stream",
     "text": [
      " /home/finley/miniconda3/envs/testsuite/lib/python3.8/site-packages/cma/utilities/utils.py:329: UserWarning:function_values is not a list of scalars,\n",
      "                        the first element equals [0.924353] with non-scalar type <class 'numpy.ndarray'>.\n",
      "                        Using now ``[v[0] for v in function_values]`` instead (further warnings are suppressed) ()\n",
      " /home/finley/miniconda3/envs/testsuite/lib/python3.8/site-packages/cma/utilities/utils.py:329: UserWarning:function_values is not a list of scalars,\n",
      "                        the first element equals [0.83764965] with non-scalar type <class 'numpy.ndarray'>.\n",
      "                        Using now ``[v[0] for v in function_values]`` instead (further warnings are suppressed) ()\n"
     ]
    },
    {
     "name": "stdout",
     "output_type": "stream",
     "text": [
      "   34    306 -2.453935640350586e-01 9.2e+00 1.30e-01  3e-02  2e-01 0:03.3\n",
      "   96    864 -2.669150332172454e-01 3.6e+01 2.51e-02  1e-03  3e-02 0:07.3\n",
      "  100    900 -2.669165120323251e-01 3.6e+01 2.56e-02  1e-03  3e-02 0:07.6\n",
      "  198   1782 -2.669208983358358e-01 6.2e+03 3.72e-03  6e-06  3e-02 0:13.6\n",
      "  200   1800 -2.669208984186247e-01 6.4e+03 4.60e-03  8e-06  4e-02 0:13.8\n",
      "NOTE (module=cma, iteration=209):  \n",
      "condition in coordinate system exceeded 1.0e+08, rescaled to 1.0e+00, \n",
      "condition changed from 1.4e+08 to 9.8e+01\n",
      "  300   2700 -2.669209037537428e-01 3.3e+01 2.87e-02  3e-06  9e-02 0:20.4\n",
      "  376   3384 -2.669209080585686e-01 4.0e+01 1.36e-03  2e-08  2e-03 0:25.2\n"
     ]
    },
    {
     "name": "stderr",
     "output_type": "stream",
     "text": [
      "reconstraining parameters GP_regression.Mat52.lengthscale\n",
      "reconstraining parameters GP_regression.Mat52.variance\n",
      "reconstraining parameters GP_regression.Gaussian_noise.variance\n"
     ]
    },
    {
     "name": "stdout",
     "output_type": "stream",
     "text": [
      "termination on tolfun=1e-11 (Mon Aug 24 14:51:28 2020)\n",
      "final/bestever f-value = -2.669209e-01 -3.591813e-01\n",
      "incumbent solution: [1.9999999999999998, 9.113227326247876e-16, 0.02523350033408065, 2.7699207848596125e-08, 2.0791535296559785e-09, 11.999998799683372]\n",
      "std deviation: [2.7286647003958964e-08, 2.3824539754450964e-08, 2.624896578837683e-08, 0.00031520803288896893, 0.00045447211081257286, 0.0018609341274519508]\n",
      "Optimization restart 1/10, f = 19.280718783683763\n",
      "Optimization restart 2/10, f = 18.019236370187443\n",
      "Optimization restart 3/10, f = 93.4556877196577\n",
      "Optimization restart 4/10, f = 19.865139464866697\n",
      "Optimization restart 5/10, f = 17.84447283367368\n",
      "Optimization restart 6/10, f = 93.4556877196577\n",
      "Optimization restart 7/10, f = 19.865139464868296\n",
      "Optimization restart 8/10, f = 19.324712285634845\n"
     ]
    },
    {
     "name": "stderr",
     "output_type": "stream",
     "text": [
      "reconstraining parameters GP_regression.Mat52.lengthscale\n",
      "reconstraining parameters GP_regression.Mat52.variance\n",
      "reconstraining parameters GP_regression.Gaussian_noise.variance\n"
     ]
    },
    {
     "name": "stdout",
     "output_type": "stream",
     "text": [
      "Optimization restart 9/10, f = 89.17704260946805\n",
      "Optimization restart 10/10, f = 47.404569096596276\n",
      "Optimization restart 1/10, f = 11.218946195601937\n",
      "Optimization restart 2/10, f = 19.864149356300395\n",
      "Optimization restart 3/10, f = 19.86513946486542\n",
      "Optimization restart 4/10, f = 19.86513925260971\n",
      "Optimization restart 5/10, f = 19.86513946486542\n",
      "Optimization restart 6/10, f = 93.4556877196577\n",
      "Optimization restart 7/10, f = 19.865139464871746\n",
      "Optimization restart 8/10, f = 19.865139464865536\n",
      "Optimization restart 9/10, f = 23.46325087501875\n",
      "Optimization restart 10/10, f = 19.864149343511144\n",
      "(4_w,9)-aCMA-ES (mu_w=2.8,w_1=49%) in dimension 6 (seed=377231, Mon Aug 24 14:51:30 2020)\n",
      "Iterat #Fevals   function value  axis ratio  sigma  min&max std  t[m:s]\n",
      "    1      9 -2.404385766225667e-01 1.0e+00 2.33e-01  2e-01  2e-01 0:00.1\n",
      "    2     18 -9.189963259400362e-01 1.3e+00 2.65e-01  3e-01  3e-01 0:00.1\n",
      "    3     27 -1.580532376593004e+00 1.5e+00 3.36e-01  3e-01  4e-01 0:00.2\n"
     ]
    },
    {
     "name": "stderr",
     "output_type": "stream",
     "text": [
      " /home/finley/miniconda3/envs/testsuite/lib/python3.8/site-packages/cma/utilities/utils.py:329: UserWarning:function_values is not a list of scalars,\n",
      "                        the first element equals [2.55067594] with non-scalar type <class 'numpy.ndarray'>.\n",
      "                        Using now ``[v[0] for v in function_values]`` instead (further warnings are suppressed) ()\n",
      " /home/finley/miniconda3/envs/testsuite/lib/python3.8/site-packages/cma/utilities/utils.py:329: UserWarning:function_values is not a list of scalars,\n",
      "                        the first element equals [-0.03241458] with non-scalar type <class 'numpy.ndarray'>.\n",
      "                        Using now ``[v[0] for v in function_values]`` instead (further warnings are suppressed) ()\n"
     ]
    },
    {
     "name": "stdout",
     "output_type": "stream",
     "text": [
      "   47    423 -1.746279789842063e+00 1.0e+01 4.19e-02  8e-03  6e-02 0:03.2\n",
      "  100    900 -1.746512904171729e+00 2.4e+01 6.57e-04  4e-05  8e-04 0:06.8\n",
      "  158   1422 -1.746512909118823e+00 1.5e+02 5.10e-06  5e-08  7e-06 0:10.8\n"
     ]
    },
    {
     "name": "stderr",
     "output_type": "stream",
     "text": [
      "reconstraining parameters GP_regression.Mat52.lengthscale\n",
      "reconstraining parameters GP_regression.Mat52.variance\n",
      "reconstraining parameters GP_regression.Gaussian_noise.variance\n"
     ]
    },
    {
     "name": "stdout",
     "output_type": "stream",
     "text": [
      "termination on tolfun=1e-11 (Mon Aug 24 14:51:41 2020)\n",
      "final/bestever f-value = -1.746513e+00 -1.746513e+00\n",
      "incumbent solution: [1.9623314618024241, 0.09032595119285354, 3.444633687139661, 5.205662146103832, 2.3035004426163534, 5.469211736518673]\n",
      "std deviation: [5.379336698134616e-08, 9.465621081886998e-08, 1.2037275366461992e-07, 6.678856364365248e-08, 4.331587451058724e-07, 6.744260422014175e-06]\n",
      "Optimization restart 1/10, f = 21.084065032462412\n",
      "Optimization restart 2/10, f = 6607443.333922196\n",
      "Optimization restart 3/10, f = 21.06549521699256\n",
      "Optimization restart 4/10, f = 749178.1938840115\n",
      "Optimization restart 5/10, f = 21.28407799807009\n",
      "Optimization restart 6/10, f = 21.284077998078033\n",
      "Optimization restart 7/10, f = 21.08928578883331\n",
      "Optimization restart 8/10, f = 749178.1938840115\n",
      "Optimization restart 9/10, f = 18.25911802835923\n"
     ]
    },
    {
     "name": "stderr",
     "output_type": "stream",
     "text": [
      "reconstraining parameters GP_regression.Mat52.lengthscale\n",
      "reconstraining parameters GP_regression.Mat52.variance\n",
      "reconstraining parameters GP_regression.Gaussian_noise.variance\n"
     ]
    },
    {
     "name": "stdout",
     "output_type": "stream",
     "text": [
      "Optimization restart 10/10, f = 19.783706992713334\n",
      "Optimization restart 1/10, f = 10.9184194843255\n",
      "Optimization restart 2/10, f = 100.13109398534753\n",
      "Optimization restart 3/10, f = 28.3634358760767\n",
      "Optimization restart 4/10, f = 100.13109398534753\n",
      "Optimization restart 5/10, f = 12.907494805691773\n",
      "Optimization restart 6/10, f = 100.13109398534753\n",
      "Optimization restart 7/10, f = 27.195878892695617\n",
      "Optimization restart 8/10, f = 12.907494757325471\n",
      "Optimization restart 9/10, f = 20.098692638707853\n",
      "Optimization restart 10/10, f = 28.667003197074603\n",
      "(4_w,9)-aCMA-ES (mu_w=2.8,w_1=49%) in dimension 6 (seed=425435, Mon Aug 24 14:51:42 2020)\n",
      "Iterat #Fevals   function value  axis ratio  sigma  min&max std  t[m:s]\n",
      "    1      9 1.592063884099232e+00 1.0e+00 2.19e-01  2e-01  2e-01 0:00.1\n",
      "    2     18 -1.087192798825920e-01 1.2e+00 2.16e-01  2e-01  2e-01 0:00.2\n",
      "    3     27 -1.709320044988214e-01 1.4e+00 2.50e-01  2e-01  3e-01 0:00.2\n"
     ]
    },
    {
     "name": "stderr",
     "output_type": "stream",
     "text": [
      " /home/finley/miniconda3/envs/testsuite/lib/python3.8/site-packages/cma/utilities/utils.py:329: UserWarning:function_values is not a list of scalars,\n",
      "                        the first element equals [3.22004547] with non-scalar type <class 'numpy.ndarray'>.\n",
      "                        Using now ``[v[0] for v in function_values]`` instead (further warnings are suppressed) ()\n",
      " /home/finley/miniconda3/envs/testsuite/lib/python3.8/site-packages/cma/utilities/utils.py:329: UserWarning:function_values is not a list of scalars,\n",
      "                        the first element equals [2.15115728] with non-scalar type <class 'numpy.ndarray'>.\n",
      "                        Using now ``[v[0] for v in function_values]`` instead (further warnings are suppressed) ()\n"
     ]
    },
    {
     "name": "stdout",
     "output_type": "stream",
     "text": [
      "   44    396 -1.713043619688591e+00 1.1e+01 3.14e-02  3e-03  3e-02 0:03.3\n",
      "   98    882 -1.713093658537346e+00 1.9e+02 8.19e-04  7e-06  1e-03 0:07.3\n",
      "  100    900 -1.713093661930785e+00 2.3e+02 8.41e-04  6e-06  1e-03 0:07.5\n",
      "NOTE (module=cma, iteration=161):  \n",
      "condition in coordinate system exceeded 1.1e+08, rescaled to 1.0e+00, \n",
      "condition changed from 2.5e+08 to 7.3e+01\n",
      "  180   1620 -1.713093664582049e+00 1.1e+01 9.99e-03  4e-06  1e-01 0:13.5\n",
      "  200   1800 -1.713093679952249e+00 3.6e+01 2.70e-02  6e-06  9e-01 0:15.0\n",
      "  297   2673 -1.713093690573281e+00 3.9e+01 2.88e-03  4e-08  1e-02 0:22.5\n"
     ]
    },
    {
     "name": "stderr",
     "output_type": "stream",
     "text": [
      "reconstraining parameters GP_regression.Mat52.lengthscale\n",
      "reconstraining parameters GP_regression.Mat52.variance\n",
      "reconstraining parameters GP_regression.Gaussian_noise.variance\n"
     ]
    },
    {
     "name": "stdout",
     "output_type": "stream",
     "text": [
      "termination on tolfun=1e-11 (Mon Aug 24 14:52:05 2020)\n",
      "final/bestever f-value = -1.713094e+00 -1.713094e+00\n",
      "incumbent solution: [0.35518569892733887, 3.9999999999999565, 4.41984308631067, 3.9300055033250767, 9.99996839871825, 1.3259883730253328]\n",
      "std deviation: [4.307888312604271e-08, 3.202911360747948e-07, 3.3403038628110155e-07, 0.0027712243269021317, 0.006137278490539005, 0.011005093705175105]\n",
      "Optimization restart 1/10, f = 22.27058433646053\n",
      "Optimization restart 2/10, f = 21.37223220012665\n",
      "Optimization restart 3/10, f = 94.74150826214955\n",
      "Optimization restart 4/10, f = 22.70301652735199\n",
      "Optimization restart 5/10, f = 106.80650025103739\n",
      "Optimization restart 6/10, f = 35.52008473301909\n",
      "Optimization restart 7/10, f = 18.022452511414258\n",
      "Optimization restart 8/10, f = 106.80650025103739\n",
      "Optimization restart 9/10, f = 106.80650025103739\n"
     ]
    },
    {
     "name": "stderr",
     "output_type": "stream",
     "text": [
      "reconstraining parameters GP_regression.Mat52.lengthscale\n",
      "reconstraining parameters GP_regression.Mat52.variance\n",
      "reconstraining parameters GP_regression.Gaussian_noise.variance\n"
     ]
    },
    {
     "name": "stdout",
     "output_type": "stream",
     "text": [
      "Optimization restart 10/10, f = 799123.4068096124\n",
      "Optimization restart 1/10, f = 11.136045306917858\n",
      "Optimization restart 2/10, f = 35.53094060221122\n",
      "Optimization restart 3/10, f = 7.6305224572695\n",
      "Optimization restart 4/10, f = 106.80650025103739\n",
      "Optimization restart 5/10, f = 22.165136390580912\n",
      "Optimization restart 6/10, f = 22.226051191066233\n",
      "Optimization restart 7/10, f = 22.437171973186025\n",
      "Optimization restart 8/10, f = 22.703016531274777\n",
      "Optimization restart 9/10, f = 90.34204439493489\n",
      "Optimization restart 10/10, f = 22.703016531274766\n",
      "(4_w,9)-aCMA-ES (mu_w=2.8,w_1=49%) in dimension 6 (seed=394980, Mon Aug 24 14:52:07 2020)\n",
      "Iterat #Fevals   function value  axis ratio  sigma  min&max std  t[m:s]\n",
      "    1      9 3.511569282072888e+00 1.0e+00 2.34e-01  2e-01  2e-01 0:00.1\n",
      "    2     18 1.283144747835613e+00 1.2e+00 2.48e-01  2e-01  3e-01 0:00.2\n",
      "    3     27 3.068179842995710e+00 1.6e+00 2.88e-01  3e-01  4e-01 0:00.2\n"
     ]
    },
    {
     "name": "stderr",
     "output_type": "stream",
     "text": [
      " /home/finley/miniconda3/envs/testsuite/lib/python3.8/site-packages/cma/utilities/utils.py:329: UserWarning:function_values is not a list of scalars,\n",
      "                        the first element equals [3.89064834] with non-scalar type <class 'numpy.ndarray'>.\n",
      "                        Using now ``[v[0] for v in function_values]`` instead (further warnings are suppressed) ()\n",
      " /home/finley/miniconda3/envs/testsuite/lib/python3.8/site-packages/cma/utilities/utils.py:329: UserWarning:function_values is not a list of scalars,\n",
      "                        the first element equals [1.28314475] with non-scalar type <class 'numpy.ndarray'>.\n",
      "                        Using now ``[v[0] for v in function_values]`` instead (further warnings are suppressed) ()\n"
     ]
    },
    {
     "name": "stdout",
     "output_type": "stream",
     "text": [
      "   40    360 6.861011909898962e-02 1.3e+01 3.36e-01  6e-02  5e-01 0:03.3\n",
      "  100    900 6.792831370303110e-02 9.5e+01 8.71e-03  1e-04  1e-02 0:07.1\n",
      "  175   1575 6.792823823985983e-02 1.5e+03 1.06e-04  9e-08  1e-04 0:11.4\n"
     ]
    },
    {
     "name": "stderr",
     "output_type": "stream",
     "text": [
      "reconstraining parameters GP_regression.Mat52.lengthscale\n",
      "reconstraining parameters GP_regression.Mat52.variance\n",
      "reconstraining parameters GP_regression.Gaussian_noise.variance\n"
     ]
    },
    {
     "name": "stdout",
     "output_type": "stream",
     "text": [
      "termination on tolfun=1e-11 (Mon Aug 24 14:52:19 2020)\n",
      "final/bestever f-value = 6.792824e-02 6.792824e-02\n",
      "incumbent solution: [1.6015178425413124e-13, 3.9755152909133153, 2.1705928697272654, 3.696178826722073e-12, 2.83233801599905, 7.6873883099112605]\n",
      "std deviation: [1.939188012590401e-07, 9.074180439256971e-08, 0.00010332482037232436, 1.3528534725329965e-06, 0.00012754243725799397, 7.966728717030103e-05]\n",
      "Optimization restart 1/10, f = 19.30714771108194\n",
      "Optimization restart 2/10, f = 24.121955064479437\n",
      "Optimization restart 3/10, f = 24.12195506448203\n",
      "Optimization restart 4/10, f = 39.62479450025273\n",
      "Optimization restart 5/10, f = 353920510.25413746\n",
      "Optimization restart 6/10, f = 24.118243897795487\n"
     ]
    },
    {
     "name": "stderr",
     "output_type": "stream",
     "text": [
      "reconstraining parameters GP_regression.Mat52.lengthscale\n",
      "reconstraining parameters GP_regression.Mat52.variance\n",
      "reconstraining parameters GP_regression.Gaussian_noise.variance\n"
     ]
    },
    {
     "name": "stdout",
     "output_type": "stream",
     "text": [
      "Optimization restart 7/10, f = 24.121955064479437\n",
      "Optimization restart 8/10, f = 24.121955064479437\n",
      "Optimization restart 9/10, f = 100.37562828206366\n",
      "Optimization restart 10/10, f = 113.48190651672722\n",
      "Optimization restart 1/10, f = 7.774110353575498\n",
      "Optimization restart 2/10, f = 7.774116436562691\n",
      "Optimization restart 3/10, f = 24.121955064508\n",
      "Optimization restart 4/10, f = 24.121955099166748\n",
      "Optimization restart 5/10, f = 24.121954607715338\n",
      "Optimization restart 6/10, f = 93.60085494324768\n",
      "Optimization restart 7/10, f = 7.7741097362551965\n",
      "Optimization restart 8/10, f = 32.480355493444954\n",
      "Optimization restart 9/10, f = 101.98955385444478\n",
      "Optimization restart 10/10, f = 96.98518493784387\n",
      "(4_w,9)-aCMA-ES (mu_w=2.8,w_1=49%) in dimension 6 (seed=366748, Mon Aug 24 14:52:21 2020)\n",
      "Iterat #Fevals   function value  axis ratio  sigma  min&max std  t[m:s]\n",
      "    1      9 1.571731015302617e+00 1.0e+00 2.39e-01  2e-01  3e-01 0:00.1\n",
      "    2     18 5.625658659120676e-01 1.3e+00 2.39e-01  2e-01  3e-01 0:00.1\n",
      "    3     27 8.938326948118158e-02 1.5e+00 2.91e-01  3e-01  3e-01 0:00.2\n"
     ]
    },
    {
     "name": "stderr",
     "output_type": "stream",
     "text": [
      " /home/finley/miniconda3/envs/testsuite/lib/python3.8/site-packages/cma/utilities/utils.py:329: UserWarning:function_values is not a list of scalars,\n",
      "                        the first element equals [4.57653578] with non-scalar type <class 'numpy.ndarray'>.\n",
      "                        Using now ``[v[0] for v in function_values]`` instead (further warnings are suppressed) ()\n",
      " /home/finley/miniconda3/envs/testsuite/lib/python3.8/site-packages/cma/utilities/utils.py:329: UserWarning:function_values is not a list of scalars,\n",
      "                        the first element equals [2.58149527] with non-scalar type <class 'numpy.ndarray'>.\n",
      "                        Using now ``[v[0] for v in function_values]`` instead (further warnings are suppressed) ()\n"
     ]
    },
    {
     "name": "stdout",
     "output_type": "stream",
     "text": [
      "   49    441 -1.806139624766745e-02 1.8e+01 4.66e-01  7e-02  1e+00 0:03.2\n",
      "  100    900 -1.819286741907211e-02 8.9e+01 7.05e-02  2e-03  1e-01 0:07.3\n",
      "  158   1422 -1.821152427368977e-02 1.2e+03 1.01e-03  1e-06  1e-03 0:12.3\n",
      "NOTE (module=cma, iteration=195):  \n",
      "condition in coordinate system exceeded 1.1e+08, rescaled to 1.0e+00, \n",
      "condition changed from 1.3e+08 to 7.1e+01\n",
      "  199   1791 -1.821152431920825e-02 9.2e+00 1.16e-04  3e-08  4e-04 0:15.9\n"
     ]
    },
    {
     "name": "stderr",
     "output_type": "stream",
     "text": [
      "reconstraining parameters GP_regression.Mat52.lengthscale\n",
      "reconstraining parameters GP_regression.Mat52.variance\n",
      "reconstraining parameters GP_regression.Gaussian_noise.variance\n"
     ]
    },
    {
     "name": "stdout",
     "output_type": "stream",
     "text": [
      "termination on tolfun=1e-11 (Mon Aug 24 14:52:37 2020)\n",
      "final/bestever f-value = -1.821152e-02 -3.797994e-02\n",
      "incumbent solution: [1.9999999999999971, 0.08797841732575074, 0.8230543177142194, 7.140806082900122, 8.922443255422092, 4.209742287045881]\n",
      "std deviation: [2.3468871655900481e-07, 3.078668453045403e-08, 0.00011112514206775526, 2.7132016247632674e-06, 0.0003699405048109629, 0.0001813284091986764]\n",
      "Optimization restart 1/10, f = 23.18018827428277\n",
      "Optimization restart 2/10, f = 47.39023418791256\n",
      "Optimization restart 3/10, f = 25.540894054030503\n",
      "Optimization restart 4/10, f = 120.15731278241705\n",
      "Optimization restart 5/10, f = 25.35189874760829\n",
      "Optimization restart 6/10, f = 120.15731278241705\n",
      "Optimization restart 7/10, f = 108.44019940759527\n",
      "Optimization restart 8/10, f = 899013.8326608138\n",
      "Optimization restart 9/10, f = 402262723.4218594\n"
     ]
    },
    {
     "name": "stderr",
     "output_type": "stream",
     "text": [
      "reconstraining parameters GP_regression.Mat52.lengthscale\n",
      "reconstraining parameters GP_regression.Mat52.variance\n",
      "reconstraining parameters GP_regression.Gaussian_noise.variance\n"
     ]
    },
    {
     "name": "stdout",
     "output_type": "stream",
     "text": [
      "Optimization restart 10/10, f = 58.965615991117545\n",
      "Optimization restart 1/10, f = 7.98693438578853\n",
      "Optimization restart 2/10, f = 24.659712663406363\n",
      "Optimization restart 3/10, f = 120.15731278241705\n",
      "Optimization restart 4/10, f = 9.957339544671896\n",
      "Optimization restart 5/10, f = 120.15731278241705\n",
      "Optimization restart 6/10, f = 25.540894152141206\n",
      "Optimization restart 7/10, f = 25.540893597684104\n",
      "Optimization restart 8/10, f = 23.471206476979155\n",
      "Optimization restart 9/10, f = 25.54085029513741\n",
      "Optimization restart 10/10, f = 11.675314951975494\n",
      "(4_w,9)-aCMA-ES (mu_w=2.8,w_1=49%) in dimension 6 (seed=319428, Mon Aug 24 14:52:39 2020)\n",
      "Iterat #Fevals   function value  axis ratio  sigma  min&max std  t[m:s]\n",
      "    1      9 2.094443558533287e+00 1.0e+00 2.83e-01  3e-01  3e-01 0:00.1\n",
      "    2     18 2.157963567518122e+00 1.2e+00 3.13e-01  3e-01  3e-01 0:00.2\n",
      "    3     27 2.028318484729781e+00 1.4e+00 3.11e-01  3e-01  4e-01 0:00.2\n"
     ]
    },
    {
     "name": "stderr",
     "output_type": "stream",
     "text": [
      " /home/finley/miniconda3/envs/testsuite/lib/python3.8/site-packages/cma/utilities/utils.py:329: UserWarning:function_values is not a list of scalars,\n",
      "                        the first element equals [2.17388737] with non-scalar type <class 'numpy.ndarray'>.\n",
      "                        Using now ``[v[0] for v in function_values]`` instead (further warnings are suppressed) ()\n",
      " /home/finley/miniconda3/envs/testsuite/lib/python3.8/site-packages/cma/utilities/utils.py:329: UserWarning:function_values is not a list of scalars,\n",
      "                        the first element equals [2.94024919] with non-scalar type <class 'numpy.ndarray'>.\n",
      "                        Using now ``[v[0] for v in function_values]`` instead (further warnings are suppressed) ()\n"
     ]
    },
    {
     "name": "stdout",
     "output_type": "stream",
     "text": [
      "   48    432 1.566618441596336e+00 4.5e+01 4.97e-01  3e-02  1e+00 0:03.3\n",
      "  100    900 1.548195146988711e+00 2.7e+02 5.54e-02  8e-04  2e-01 0:06.8\n",
      "  174   1566 1.548194909775486e+00 8.5e+03 6.86e-04  4e-07  2e-03 0:11.8\n",
      "NOTE (module=cma, iteration=182):  \n",
      "condition in coordinate system exceeded 1.0e+08, rescaled to 1.0e+00, \n",
      "condition changed from 1.7e+08 to 7.3e+01\n",
      "  200   1800 1.548194909713424e+00 1.1e+01 4.09e-03  1e-06  2e-02 0:13.6\n",
      "  300   2700 1.548194903103287e+00 4.1e+01 3.97e-02  6e-07  1e-01 0:20.5\n",
      "  371   3339 1.548194900178022e+00 2.7e+01 4.77e-03  2e-08  3e-03 0:25.5\n"
     ]
    },
    {
     "name": "stderr",
     "output_type": "stream",
     "text": [
      "reconstraining parameters GP_regression.Mat52.lengthscale\n",
      "reconstraining parameters GP_regression.Mat52.variance\n",
      "reconstraining parameters GP_regression.Gaussian_noise.variance\n"
     ]
    },
    {
     "name": "stdout",
     "output_type": "stream",
     "text": [
      "termination on tolfun=1e-11 (Mon Aug 24 14:53:05 2020)\n",
      "final/bestever f-value = 1.548195e+00 1.548195e+00\n",
      "incumbent solution: [1.9999999999999984, 3.8810636744147926, 5.999998692010913, 9.892303353098778e-15, 9.999996952970552, 1.1698829849831104e-06]\n",
      "std deviation: [9.617049121023077e-08, 2.2530497937803526e-08, 0.002735392667087659, 2.2844285766497218e-07, 0.0032958951719556217, 0.001582082957566361]\n",
      "Optimization restart 1/10, f = 24.59159770247789\n",
      "Optimization restart 2/10, f = 26.959832130889396\n",
      "Optimization restart 3/10, f = 545798798.6316658\n",
      "Optimization restart 4/10, f = 26.959778288322795\n",
      "Optimization restart 5/10, f = 30.038546492670868\n",
      "Optimization restart 6/10, f = 114.20379421036462\n",
      "Optimization restart 7/10, f = 26.959832130865387\n",
      "Optimization restart 8/10, f = 102.25155045289698\n"
     ]
    },
    {
     "name": "stderr",
     "output_type": "stream",
     "text": [
      "reconstraining parameters GP_regression.Mat52.lengthscale\n",
      "reconstraining parameters GP_regression.Mat52.variance\n",
      "reconstraining parameters GP_regression.Gaussian_noise.variance\n"
     ]
    },
    {
     "name": "stdout",
     "output_type": "stream",
     "text": [
      "Optimization restart 9/10, f = 56.182221006029486\n",
      "Optimization restart 10/10, f = 26.959832130888778\n",
      "Optimization restart 1/10, f = 9.153333461656239\n",
      "Optimization restart 2/10, f = 35.28867254421945\n",
      "Optimization restart 3/10, f = 35.28993583682732\n",
      "Optimization restart 4/10, f = 18.178511379489173\n",
      "Optimization restart 5/10, f = 35.2886725350726\n",
      "Optimization restart 6/10, f = 67.41993542522427\n",
      "Optimization restart 7/10, f = 35.28867695913366\n",
      "Optimization restart 8/10, f = 126.8327190481069\n",
      "Optimization restart 9/10, f = 41.343596267661745\n",
      "Optimization restart 10/10, f = 36.59418371715292\n",
      "(4_w,9)-aCMA-ES (mu_w=2.8,w_1=49%) in dimension 6 (seed=361242, Mon Aug 24 14:53:07 2020)\n",
      "Iterat #Fevals   function value  axis ratio  sigma  min&max std  t[m:s]\n",
      "    1      9 1.112439650262807e+00 1.0e+00 2.78e-01  3e-01  3e-01 0:00.1\n",
      "    2     18 1.101048302652758e+00 1.3e+00 2.76e-01  2e-01  3e-01 0:00.2\n",
      "    3     27 9.014667872555937e-01 1.4e+00 2.72e-01  2e-01  3e-01 0:00.3\n"
     ]
    },
    {
     "name": "stderr",
     "output_type": "stream",
     "text": [
      " /home/finley/miniconda3/envs/testsuite/lib/python3.8/site-packages/cma/utilities/utils.py:329: UserWarning:function_values is not a list of scalars,\n",
      "                        the first element equals [2.28973766] with non-scalar type <class 'numpy.ndarray'>.\n",
      "                        Using now ``[v[0] for v in function_values]`` instead (further warnings are suppressed) ()\n",
      " /home/finley/miniconda3/envs/testsuite/lib/python3.8/site-packages/cma/utilities/utils.py:329: UserWarning:function_values is not a list of scalars,\n",
      "                        the first element equals [1.33971767] with non-scalar type <class 'numpy.ndarray'>.\n",
      "                        Using now ``[v[0] for v in function_values]`` instead (further warnings are suppressed) ()\n"
     ]
    },
    {
     "name": "stdout",
     "output_type": "stream",
     "text": [
      "   44    396 3.555331429931707e-01 2.5e+01 3.80e-01  3e-02  8e-01 0:03.3\n",
      "   87    783 -1.156609419258028e-01 1.7e+02 9.51e-02  9e-04  1e-01 0:07.3\n",
      "  100    900 -1.156719405363518e-01 3.3e+02 2.72e-02  1e-04  4e-02 0:08.7\n",
      "  156   1404 -1.156783720341052e-01 3.5e+03 2.96e-04  1e-07  4e-04 0:14.7\n",
      "NOTE (module=cma, iteration=179):  \n",
      "condition in coordinate system exceeded 1.1e+08, rescaled to 1.0e+00, \n",
      "condition changed from 1.0e+08 to 4.5e+00\n",
      "  184   1656 -1.156783720380385e-01 2.1e+00 7.01e-05  1e-08  1e-04 0:17.6\n"
     ]
    },
    {
     "name": "stderr",
     "output_type": "stream",
     "text": [
      "reconstraining parameters GP_regression.Mat52.lengthscale\n",
      "reconstraining parameters GP_regression.Mat52.variance\n",
      "reconstraining parameters GP_regression.Gaussian_noise.variance\n"
     ]
    },
    {
     "name": "stdout",
     "output_type": "stream",
     "text": [
      "termination on tolfun=1e-11 (Mon Aug 24 14:53:25 2020)\n",
      "final/bestever f-value = -1.156784e-01 -1.156784e-01\n",
      "incumbent solution: [0.20706818688191048, 3.881103363151581, 0.9116804674033261, 1.3208107441931506e-12, 0.35455455744473335, 8.66271302468817]\n",
      "std deviation: [2.6114284313181057e-07, 1.200680769304063e-08, 4.9787427606765036e-05, 8.271339097381983e-07, 6.618072001199318e-05, 0.00013267585192325878]\n",
      "Optimization restart 1/10, f = 23.929265510166115\n",
      "Optimization restart 2/10, f = 125.82904389027262\n",
      "Optimization restart 3/10, f = 43.54737499552332\n",
      "Optimization restart 4/10, f = 25.127087537867833\n",
      "Optimization restart 5/10, f = 40.36759669482643\n",
      "Optimization restart 6/10, f = 23.929696780653096\n",
      "Optimization restart 7/10, f = 121.34267225645968\n",
      "Optimization restart 8/10, f = 27.47549400897248\n",
      "Optimization restart 9/10, f = 57.76032391464789\n"
     ]
    },
    {
     "name": "stderr",
     "output_type": "stream",
     "text": [
      "reconstraining parameters GP_regression.Mat52.lengthscale\n",
      "reconstraining parameters GP_regression.Mat52.variance\n",
      "reconstraining parameters GP_regression.Gaussian_noise.variance\n"
     ]
    },
    {
     "name": "stdout",
     "output_type": "stream",
     "text": [
      "Optimization restart 10/10, f = 26.35997446307575\n",
      "Optimization restart 1/10, f = 10.505190166834357\n",
      "Optimization restart 2/10, f = 28.023317711905776\n",
      "Optimization restart 3/10, f = 133.50812531379674\n",
      "Optimization restart 4/10, f = 121.6766966598154\n",
      "Optimization restart 5/10, f = 33.06337420547857\n",
      "Optimization restart 6/10, f = 28.37877066409345\n",
      "Optimization restart 7/10, f = 66.06333146496385\n",
      "Optimization restart 8/10, f = 27.55355325953642\n",
      "Optimization restart 9/10, f = 133.50812531379674\n",
      "Optimization restart 10/10, f = 27.76892383657495\n",
      "(4_w,9)-aCMA-ES (mu_w=2.8,w_1=49%) in dimension 6 (seed=398784, Mon Aug 24 14:53:27 2020)\n",
      "Iterat #Fevals   function value  axis ratio  sigma  min&max std  t[m:s]\n",
      "    1      9 2.233214627199921e+00 1.0e+00 2.16e-01  2e-01  2e-01 0:00.1\n",
      "    2     18 2.138529212565527e+00 1.3e+00 2.33e-01  2e-01  2e-01 0:00.2\n"
     ]
    },
    {
     "name": "stderr",
     "output_type": "stream",
     "text": [
      " /home/finley/miniconda3/envs/testsuite/lib/python3.8/site-packages/cma/utilities/utils.py:329: UserWarning:function_values is not a list of scalars,\n",
      "                        the first element equals [2.45830266] with non-scalar type <class 'numpy.ndarray'>.\n",
      "                        Using now ``[v[0] for v in function_values]`` instead (further warnings are suppressed) ()\n",
      " /home/finley/miniconda3/envs/testsuite/lib/python3.8/site-packages/cma/utilities/utils.py:329: UserWarning:function_values is not a list of scalars,\n",
      "                        the first element equals [2.63498447] with non-scalar type <class 'numpy.ndarray'>.\n",
      "                        Using now ``[v[0] for v in function_values]`` instead (further warnings are suppressed) ()\n"
     ]
    },
    {
     "name": "stdout",
     "output_type": "stream",
     "text": [
      "    3     27 2.106842424004312e+00 1.5e+00 2.46e-01  2e-01  3e-01 0:00.3\n",
      "   42    378 3.464391434086453e-01 4.4e+00 2.93e-01  9e-02  3e-01 0:03.4\n",
      "   93    837 2.344769001165488e-01 4.4e+01 1.25e-01  4e-03  1e-01 0:07.4\n",
      "  100    900 2.335948038071578e-01 4.2e+01 1.30e-01  4e-03  1e-01 0:08.0\n",
      "  177   1593 2.334919984564860e-01 3.4e+03 4.83e-03  6e-06  1e-02 0:14.0\n",
      "  200   1800 2.334919972635454e-01 6.2e+03 1.79e-03  1e-06  5e-03 0:15.8\n",
      "NOTE (module=cma, iteration=224):  \n",
      "condition in coordinate system exceeded 1.1e+08, rescaled to 1.0e+00, \n",
      "condition changed from 2.3e+08 to 2.9e+01\n",
      "  300   2700 2.334919971981859e-01 2.8e+01 1.59e-04  4e-08  7e-04 0:23.9\n",
      "  400   3600 2.334919971718041e-01 7.1e+01 1.64e-04  4e-08  4e-04 0:32.0\n",
      "  500   4500 2.334919970964386e-01 4.2e+02 3.14e-05  5e-09  1e-04 0:40.0\n",
      "  600   5400 2.334919971706582e-01 3.5e+02 1.17e-05  9e-10  1e-05 0:47.9\n",
      "  700   6300 2.334919970961324e-01 7.7e+02 2.74e-06  1e-10  2e-06 0:56.0\n",
      "  800   7200 2.334919976538301e-01 3.0e+03 7.58e-06  3e-10  4e-06 1:03.8\n",
      "  900   8100 2.334919971698717e-01 3.3e+04 2.83e-05  3e-09  4e-05 1:12.0\n",
      "  955   8595 2.334919971696279e-01 3.4e+04 6.81e-05  4e-09  6e-05 1:16.4\n"
     ]
    },
    {
     "name": "stderr",
     "output_type": "stream",
     "text": [
      "reconstraining parameters GP_regression.Mat52.lengthscale\n",
      "reconstraining parameters GP_regression.Mat52.variance\n",
      "reconstraining parameters GP_regression.Gaussian_noise.variance\n"
     ]
    },
    {
     "name": "stdout",
     "output_type": "stream",
     "text": [
      "termination on tolstagnation=263 (Mon Aug 24 14:54:45 2020)\n",
      "final/bestever f-value = 2.334920e-01 2.334920e-01\n",
      "incumbent solution: [0.13063824014435033, 3.9998906077711305, 1.1921533875189565, 5.3358313004275476e-11, 5.372952727733022, 11.80814011238278]\n",
      "std deviation: [4.415802149912241e-09, 5.8125057804625375e-09, 4.5779229141330174e-05, 5.4091872919214545e-08, 1.154119335811101e-05, 6.167179046775913e-05]\n",
      "Optimization restart 1/10, f = 25.40156674784801\n",
      "Optimization restart 2/10, f = 124.6710234246687\n",
      "Optimization restart 3/10, f = 47.580320157217116\n",
      "Optimization restart 4/10, f = 29.76797342410682\n",
      "Optimization restart 5/10, f = 29.797709197298126\n"
     ]
    },
    {
     "name": "stderr",
     "output_type": "stream",
     "text": [
      "reconstraining parameters GP_regression.Mat52.lengthscale\n"
     ]
    },
    {
     "name": "stdout",
     "output_type": "stream",
     "text": [
      "Optimization restart 6/10, f = 47.580319767296174\n",
      "Optimization restart 7/10, f = 140.18353157948656\n",
      "Optimization restart 8/10, f = 127.47684473314264\n",
      "Optimization restart 9/10, f = 140.18353157948656\n",
      "Optimization restart 10/10, f = 19.2590632844502\n"
     ]
    },
    {
     "name": "stderr",
     "output_type": "stream",
     "text": [
      "reconstraining parameters GP_regression.Mat52.variance\n",
      "reconstraining parameters GP_regression.Gaussian_noise.variance\n"
     ]
    },
    {
     "name": "stdout",
     "output_type": "stream",
     "text": [
      "Optimization restart 1/10, f = 20.98677920889982\n",
      "Optimization restart 2/10, f = 5.645732878262324\n",
      "Optimization restart 3/10, f = 28.394550126984125\n",
      "Optimization restart 4/10, f = 36.51989683181253\n",
      "Optimization restart 5/10, f = 29.261999270008094\n",
      "Optimization restart 6/10, f = 726404275.4841276\n",
      "Optimization restart 7/10, f = 22.601432122196\n",
      "Optimization restart 8/10, f = 140.18353157948656\n",
      "Optimization restart 9/10, f = 28.58098440284043\n",
      "Optimization restart 10/10, f = 22.286199292409215\n",
      "(4_w,9)-aCMA-ES (mu_w=2.8,w_1=49%) in dimension 6 (seed=389870, Mon Aug 24 14:54:47 2020)\n",
      "Iterat #Fevals   function value  axis ratio  sigma  min&max std  t[m:s]\n",
      "    1      9 7.006503865997875e-01 1.0e+00 2.20e-01  2e-01  2e-01 0:00.1\n",
      "    2     18 2.368942564366734e-01 1.3e+00 2.33e-01  2e-01  2e-01 0:00.2\n"
     ]
    },
    {
     "name": "stderr",
     "output_type": "stream",
     "text": [
      " /home/finley/miniconda3/envs/testsuite/lib/python3.8/site-packages/cma/utilities/utils.py:329: UserWarning:function_values is not a list of scalars,\n",
      "                        the first element equals [1.07292829] with non-scalar type <class 'numpy.ndarray'>.\n",
      "                        Using now ``[v[0] for v in function_values]`` instead (further warnings are suppressed) ()\n",
      " /home/finley/miniconda3/envs/testsuite/lib/python3.8/site-packages/cma/utilities/utils.py:329: UserWarning:function_values is not a list of scalars,\n",
      "                        the first element equals [0.23689426] with non-scalar type <class 'numpy.ndarray'>.\n",
      "                        Using now ``[v[0] for v in function_values]`` instead (further warnings are suppressed) ()\n"
     ]
    },
    {
     "name": "stdout",
     "output_type": "stream",
     "text": [
      "    3     27 -3.924688747531135e-02 1.5e+00 2.40e-01  2e-01  3e-01 0:00.3\n",
      "   29    261 -2.636200976548229e-01 8.5e+00 5.02e-01  1e-01  7e-01 0:03.3\n",
      "   62    558 -2.723940460830168e-01 2.8e+01 8.26e-02  8e-03  1e-01 0:07.4\n",
      "  100    900 -2.724441601636465e-01 1.7e+02 1.05e-02  3e-04  3e-02 0:12.1\n",
      "  148   1332 -2.724441942203053e-01 1.3e+03 9.08e-04  6e-06  5e-03 0:18.1\n",
      "  200   1800 -2.724441950901171e-01 1.5e+04 3.89e-04  6e-07  5e-03 0:24.6\n",
      "  220   1980 -2.724441950911847e-01 1.2e+04 3.01e-04  3e-07  2e-03 0:27.2\n"
     ]
    },
    {
     "name": "stderr",
     "output_type": "stream",
     "text": [
      "reconstraining parameters GP_regression.Mat52.lengthscale\n",
      "reconstraining parameters GP_regression.Mat52.variance\n",
      "reconstraining parameters GP_regression.Gaussian_noise.variance\n"
     ]
    },
    {
     "name": "stdout",
     "output_type": "stream",
     "text": [
      "termination on tolfun=1e-11 (Mon Aug 24 14:55:15 2020)\n",
      "final/bestever f-value = -2.724442e-01 -2.724442e-01\n",
      "incumbent solution: [0.1519271985726272, 2.2663648457812706, 4.491304870273479e-06, 4.735365034649721, 6.93808069561145, 5.64367087820517e-13]\n",
      "std deviation: [2.570825676694551e-07, 2.749511233959971e-07, 0.0020386235076337517, 1.747597598311545e-06, 0.00033612020513880007, 1.8801978228301888e-06]\n",
      "Optimization restart 1/10, f = 21.641364525716284\n",
      "Optimization restart 2/10, f = 107.59728166461439\n",
      "Optimization restart 3/10, f = 63.472183350970596\n",
      "Optimization restart 4/10, f = 30.652955100658218\n",
      "Optimization restart 5/10, f = 63.299922900132145\n",
      "Optimization restart 6/10, f = 31.2166477305028\n",
      "Optimization restart 7/10, f = 29.92774807885487\n",
      "Optimization restart 8/10, f = 26.966477380208982\n",
      "Optimization restart 9/10, f = 116.41674987696076\n"
     ]
    },
    {
     "name": "stderr",
     "output_type": "stream",
     "text": [
      "reconstraining parameters GP_regression.Mat52.lengthscale\n",
      "reconstraining parameters GP_regression.Mat52.variance\n",
      "reconstraining parameters GP_regression.Gaussian_noise.variance\n"
     ]
    },
    {
     "name": "stdout",
     "output_type": "stream",
     "text": [
      "Optimization restart 10/10, f = 30.16555453692674\n",
      "Optimization restart 1/10, f = 6.826607897014853\n",
      "Optimization restart 2/10, f = 26.55418198359008\n",
      "Optimization restart 3/10, f = 6.826606341275449\n",
      "Optimization restart 4/10, f = 115.48627742961833\n",
      "Optimization restart 5/10, f = 146.85893769961277\n",
      "Optimization restart 6/10, f = 8.963986464339055\n",
      "Optimization restart 7/10, f = 36.677582190213506\n",
      "Optimization restart 8/10, f = 23.55717515887501\n",
      "Optimization restart 9/10, f = 131.97021412292386\n",
      "Optimization restart 10/10, f = 31.59112385336607\n",
      "(4_w,9)-aCMA-ES (mu_w=2.8,w_1=49%) in dimension 6 (seed=349035, Mon Aug 24 14:55:18 2020)\n",
      "Iterat #Fevals   function value  axis ratio  sigma  min&max std  t[m:s]\n",
      "    1      9 2.145882619008862e+00 1.0e+00 2.42e-01  2e-01  3e-01 0:00.1\n",
      "    2     18 2.172634880941001e+00 1.3e+00 2.27e-01  2e-01  2e-01 0:00.2\n"
     ]
    },
    {
     "name": "stderr",
     "output_type": "stream",
     "text": [
      " /home/finley/miniconda3/envs/testsuite/lib/python3.8/site-packages/cma/utilities/utils.py:329: UserWarning:function_values is not a list of scalars,\n",
      "                        the first element equals [2.2996905] with non-scalar type <class 'numpy.ndarray'>.\n",
      "                        Using now ``[v[0] for v in function_values]`` instead (further warnings are suppressed) ()\n",
      " /home/finley/miniconda3/envs/testsuite/lib/python3.8/site-packages/cma/utilities/utils.py:329: UserWarning:function_values is not a list of scalars,\n",
      "                        the first element equals [2.45180995] with non-scalar type <class 'numpy.ndarray'>.\n",
      "                        Using now ``[v[0] for v in function_values]`` instead (further warnings are suppressed) ()\n"
     ]
    },
    {
     "name": "stdout",
     "output_type": "stream",
     "text": [
      "    3     27 2.018208512736000e+00 1.5e+00 2.48e-01  2e-01  3e-01 0:00.3\n",
      "   35    315 1.219232384061854e+00 7.6e+00 8.12e-01  2e-01  1e+00 0:03.4\n",
      "   79    711 1.204103893071172e+00 1.8e+01 3.89e-02  3e-03  5e-02 0:07.4\n",
      "  100    900 1.204097951958608e+00 4.0e+01 5.15e-03  2e-04  8e-03 0:09.3\n",
      "  158   1422 1.204097920558146e+00 2.7e+02 5.12e-05  4e-07  9e-05 0:14.6\n"
     ]
    },
    {
     "name": "stderr",
     "output_type": "stream",
     "text": [
      "reconstraining parameters GP_regression.Mat52.lengthscale\n",
      "reconstraining parameters GP_regression.Mat52.variance\n",
      "reconstraining parameters GP_regression.Gaussian_noise.variance\n"
     ]
    },
    {
     "name": "stdout",
     "output_type": "stream",
     "text": [
      "termination on tolfun=1e-11 (Mon Aug 24 14:55:33 2020)\n",
      "final/bestever f-value = 1.204098e+00 1.204098e+00\n",
      "incumbent solution: [1.9999999999996947, 3.9999999999999614, 5.652343965484931, 5.015921266898978e-12, 4.7874795018848815, 6.125296785967444e-12]\n",
      "std deviation: [6.035806383640328e-07, 3.7579945225075223e-07, 8.515663664751194e-05, 1.2171282135434861e-06, 2.9841672399233543e-05, 1.227250459332548e-06]\n",
      "Optimization restart 1/10, f = 26.97444197800763\n",
      "Optimization restart 2/10, f = 153.53434411086621\n",
      "Optimization restart 3/10, f = 153.53434411086621\n",
      "Optimization restart 4/10, f = 108.05719890742313\n",
      "Optimization restart 5/10, f = 31.607136946231506\n",
      "Optimization restart 6/10, f = 153.53434411086621\n",
      "Optimization restart 7/10, f = 153.53434411086621\n",
      "Optimization restart 8/10, f = 31.393645126146538\n",
      "Optimization restart 9/10, f = 244.53707880880543\n",
      "Optimization restart 10/10, f = 147.8579181991796\n"
     ]
    },
    {
     "name": "stderr",
     "output_type": "stream",
     "text": [
      "reconstraining parameters GP_regression.Mat52.lengthscale\n",
      "reconstraining parameters GP_regression.Mat52.variance\n",
      "reconstraining parameters GP_regression.Gaussian_noise.variance\n"
     ]
    },
    {
     "name": "stdout",
     "output_type": "stream",
     "text": [
      "Optimization restart 1/10, f = 11.38460638543156\n",
      "Optimization restart 2/10, f = 33.954309114075755\n",
      "Optimization restart 3/10, f = 134.01875464015626\n",
      "Optimization restart 4/10, f = 11.384606381770528\n",
      "Optimization restart 5/10, f = 32.71897038044208\n",
      "Optimization restart 6/10, f = 13.944224713082894\n",
      "Optimization restart 7/10, f = 43.28943836388928\n",
      "Optimization restart 8/10, f = 1148739.897288818\n",
      "Optimization restart 9/10, f = 44.02332927327309\n",
      "Optimization restart 10/10, f = 34.71031251756567\n",
      "(4_w,9)-aCMA-ES (mu_w=2.8,w_1=49%) in dimension 6 (seed=376342, Mon Aug 24 14:55:35 2020)\n",
      "Iterat #Fevals   function value  axis ratio  sigma  min&max std  t[m:s]\n",
      "    1      9 6.931700870012960e-01 1.0e+00 2.35e-01  2e-01  2e-01 0:00.1\n",
      "    2     18 -3.222494932140365e-01 1.2e+00 2.50e-01  2e-01  3e-01 0:00.2\n"
     ]
    },
    {
     "name": "stderr",
     "output_type": "stream",
     "text": [
      " /home/finley/miniconda3/envs/testsuite/lib/python3.8/site-packages/cma/utilities/utils.py:329: UserWarning:function_values is not a list of scalars,\n",
      "                        the first element equals [1.46138244] with non-scalar type <class 'numpy.ndarray'>.\n",
      "                        Using now ``[v[0] for v in function_values]`` instead (further warnings are suppressed) ()\n",
      " /home/finley/miniconda3/envs/testsuite/lib/python3.8/site-packages/cma/utilities/utils.py:329: UserWarning:function_values is not a list of scalars,\n",
      "                        the first element equals [-0.20274567] with non-scalar type <class 'numpy.ndarray'>.\n",
      "                        Using now ``[v[0] for v in function_values]`` instead (further warnings are suppressed) ()\n"
     ]
    },
    {
     "name": "stdout",
     "output_type": "stream",
     "text": [
      "    3     27 -3.580131180596466e-01 1.4e+00 3.02e-01  3e-01  3e-01 0:00.4\n",
      "   26    234 -4.060591883215294e-01 6.1e+00 9.58e-02  2e-02  1e-01 0:03.4\n",
      "   55    495 -4.087386187674213e-01 2.6e+01 5.18e-02  3e-03  7e-02 0:07.5\n",
      "   90    810 -4.100957460499424e-01 9.6e+01 9.60e-03  1e-04  9e-03 0:12.6\n",
      "  100    900 -4.100959566634752e-01 1.0e+02 4.46e-03  4e-05  4e-03 0:14.0\n",
      "  151   1359 -4.100959658062595e-01 7.6e+02 7.22e-05  1e-07  1e-04 0:21.1\n",
      "  167   1503 -4.100959658064456e-01 1.3e+03 4.83e-05  6e-08  8e-05 0:23.3\n"
     ]
    },
    {
     "name": "stderr",
     "output_type": "stream",
     "text": [
      "reconstraining parameters GP_regression.Mat52.lengthscale\n",
      "reconstraining parameters GP_regression.Mat52.variance\n",
      "reconstraining parameters GP_regression.Gaussian_noise.variance\n"
     ]
    },
    {
     "name": "stdout",
     "output_type": "stream",
     "text": [
      "termination on tolfun=1e-11 (Mon Aug 24 14:55:58 2020)\n",
      "final/bestever f-value = -4.100960e-01 -4.100960e-01\n",
      "incumbent solution: [1.999999999999962, 3.7012503358308217, 0.4310797710106722, 4.102627784991278e-14, 2.384289583030774, 9.558300999850205e-12]\n",
      "std deviation: [4.3925587414413557e-07, 5.8622925680678476e-08, 5.484974174960857e-05, 6.136321031144172e-07, 8.111972614615896e-05, 3.254916991490736e-06]\n",
      "Optimization restart 1/10, f = 29.22161054288296\n",
      "Optimization restart 2/10, f = 62.09826239571987\n",
      "Optimization restart 3/10, f = 139.6802079797662\n",
      "Optimization restart 4/10, f = 34.37506155480459\n",
      "Optimization restart 5/10, f = 91.77569869312161\n",
      "Optimization restart 6/10, f = 160.2097503765561\n",
      "Optimization restart 7/10, f = 41.675308312711536\n",
      "Optimization restart 8/10, f = 69.39817692075492\n"
     ]
    },
    {
     "name": "stderr",
     "output_type": "stream",
     "text": [
      "reconstraining parameters GP_regression.Mat52.lengthscale\n",
      "reconstraining parameters GP_regression.Mat52.variance\n",
      "reconstraining parameters GP_regression.Gaussian_noise.variance\n"
     ]
    },
    {
     "name": "stdout",
     "output_type": "stream",
     "text": [
      "Optimization restart 9/10, f = 124.75946288296252\n",
      "Optimization restart 10/10, f = 141.18099781455984\n",
      "Optimization restart 1/10, f = 14.222209872498524\n",
      "Optimization restart 2/10, f = 58.994388771093725\n",
      "Optimization restart 3/10, f = 14.421635148974715\n",
      "Optimization restart 4/10, f = 72.1000207289899\n",
      "Optimization restart 5/10, f = 34.054525182123044\n",
      "Optimization restart 6/10, f = 125.09037232916425\n",
      "Optimization restart 7/10, f = 135.45396535728955\n",
      "Optimization restart 8/10, f = 26.782403772622168\n",
      "Optimization restart 9/10, f = 941621294.8688457\n",
      "Optimization restart 10/10, f = 34.13980204647562\n",
      "(4_w,9)-aCMA-ES (mu_w=2.8,w_1=49%) in dimension 6 (seed=297242, Mon Aug 24 14:56:01 2020)\n",
      "Iterat #Fevals   function value  axis ratio  sigma  min&max std  t[m:s]\n",
      "    1      9 2.315775641096766e+00 1.0e+00 2.32e-01  2e-01  2e-01 0:00.1\n",
      "    2     18 2.402069007260167e+00 1.3e+00 2.32e-01  2e-01  2e-01 0:00.3\n"
     ]
    },
    {
     "name": "stderr",
     "output_type": "stream",
     "text": [
      " /home/finley/miniconda3/envs/testsuite/lib/python3.8/site-packages/cma/utilities/utils.py:329: UserWarning:function_values is not a list of scalars,\n",
      "                        the first element equals [3.18923275] with non-scalar type <class 'numpy.ndarray'>.\n",
      "                        Using now ``[v[0] for v in function_values]`` instead (further warnings are suppressed) ()\n",
      " /home/finley/miniconda3/envs/testsuite/lib/python3.8/site-packages/cma/utilities/utils.py:329: UserWarning:function_values is not a list of scalars,\n",
      "                        the first element equals [2.98282945] with non-scalar type <class 'numpy.ndarray'>.\n",
      "                        Using now ``[v[0] for v in function_values]`` instead (further warnings are suppressed) ()\n"
     ]
    },
    {
     "name": "stdout",
     "output_type": "stream",
     "text": [
      "    3     27 1.701197390334558e+00 1.3e+00 2.40e-01  2e-01  3e-01 0:00.4\n",
      "   28    252 5.236462819043806e-01 5.9e+00 7.91e-01  2e-01  1e+00 0:03.4\n",
      "   65    585 3.752281724888549e-01 1.2e+01 9.10e-02  1e-02  1e-01 0:07.4\n",
      "  100    900 3.749503534040468e-01 4.4e+01 5.85e-03  2e-04  1e-02 0:11.2\n",
      "  159   1431 3.749501606636050e-01 4.6e+02 1.36e-04  9e-07  4e-04 0:17.2\n",
      "  200   1800 3.749501509063577e-01 1.1e+04 9.15e-03  2e-05  2e-01 0:21.5\n",
      "NOTE (module=cma, iteration=201):  \n",
      "condition in coordinate system exceeded 1.0e+08, rescaled to 1.0e+00, \n",
      "condition changed from 1.3e+08 to 2.7e+02\n",
      "  276   2484 3.749501350675652e-01 3.1e+00 7.28e-03  3e-06  3e-02 0:29.6\n",
      "  300   2700 3.749501311152195e-01 1.2e+01 3.40e-02  9e-06  2e-01 0:32.2\n",
      "  388   3492 3.749500985178411e-01 9.0e+00 1.18e-03  7e-08  7e-04 0:41.3\n"
     ]
    },
    {
     "name": "stderr",
     "output_type": "stream",
     "text": [
      "reconstraining parameters GP_regression.Mat52.lengthscale\n",
      "reconstraining parameters GP_regression.Mat52.variance\n",
      "reconstraining parameters GP_regression.Gaussian_noise.variance\n"
     ]
    },
    {
     "name": "stdout",
     "output_type": "stream",
     "text": [
      "termination on tolfun=1e-11 (Mon Aug 24 14:56:43 2020)\n",
      "final/bestever f-value = 3.749501e-01 3.749501e-01\n",
      "incumbent solution: [0.16124519946992294, 3.999999999999978, 3.887190782612978e-07, 3.994014045084013e-15, 1.070270576459786e-07, 1.1500269755644706e-13]\n",
      "std deviation: [6.600665593979007e-08, 9.547397591142247e-08, 0.0006225866737904396, 2.3571943685808862e-07, 0.0006950679286463453, 2.2227871191005203e-07]\n",
      "Optimization restart 1/10, f = 31.939136803182286\n",
      "Optimization restart 2/10, f = 35.473463330116815\n",
      "Optimization restart 3/10, f = 50.15941088909693\n",
      "Optimization restart 4/10, f = 131.0881808490062\n",
      "Optimization restart 5/10, f = 141.66330205390477\n",
      "Optimization restart 6/10, f = 692607122.3200543\n",
      "Optimization restart 7/10, f = 35.47346298290921\n",
      "Optimization restart 8/10, f = 34.798446861816636\n"
     ]
    },
    {
     "name": "stderr",
     "output_type": "stream",
     "text": [
      "reconstraining parameters GP_regression.Mat52.lengthscale\n",
      "reconstraining parameters GP_regression.Mat52.variance\n",
      "reconstraining parameters GP_regression.Gaussian_noise.variance\n"
     ]
    },
    {
     "name": "stdout",
     "output_type": "stream",
     "text": [
      "Optimization restart 9/10, f = 166.88515664224593\n",
      "Optimization restart 10/10, f = 141.68403907217413\n",
      "Optimization restart 1/10, f = 20.688751742745488\n",
      "Optimization restart 2/10, f = 35.473463330116886\n",
      "Optimization restart 3/10, f = 1248630.323140018\n",
      "Optimization restart 4/10, f = 34.923889251685125\n",
      "Optimization restart 5/10, f = 14.138124062704586\n",
      "Optimization restart 6/10, f = 147.77463541967668\n",
      "Optimization restart 7/10, f = 35.47346333011688\n",
      "Optimization restart 8/10, f = 151.55984575164896\n",
      "Optimization restart 9/10, f = 166.88515664224593\n",
      "Optimization restart 10/10, f = 10.857567532286707\n",
      "(4_w,9)-aCMA-ES (mu_w=2.8,w_1=49%) in dimension 6 (seed=338175, Mon Aug 24 14:56:45 2020)\n",
      "Iterat #Fevals   function value  axis ratio  sigma  min&max std  t[m:s]\n",
      "    1      9 3.517344843570966e+00 1.0e+00 2.36e-01  2e-01  2e-01 0:00.1\n",
      "    2     18 3.207627245646039e+00 1.3e+00 2.55e-01  2e-01  3e-01 0:00.2\n"
     ]
    },
    {
     "name": "stderr",
     "output_type": "stream",
     "text": [
      " /home/finley/miniconda3/envs/testsuite/lib/python3.8/site-packages/cma/utilities/utils.py:329: UserWarning:function_values is not a list of scalars,\n",
      "                        the first element equals [4.06735264] with non-scalar type <class 'numpy.ndarray'>.\n",
      "                        Using now ``[v[0] for v in function_values]`` instead (further warnings are suppressed) ()\n",
      " /home/finley/miniconda3/envs/testsuite/lib/python3.8/site-packages/cma/utilities/utils.py:329: UserWarning:function_values is not a list of scalars,\n",
      "                        the first element equals [3.75931024] with non-scalar type <class 'numpy.ndarray'>.\n",
      "                        Using now ``[v[0] for v in function_values]`` instead (further warnings are suppressed) ()\n"
     ]
    },
    {
     "name": "stdout",
     "output_type": "stream",
     "text": [
      "    3     27 1.623167116630188e+00 1.5e+00 3.06e-01  3e-01  4e-01 0:00.4\n",
      "   31    279 7.663535751340711e-02 8.2e+00 1.88e-01  4e-02  3e-01 0:03.5\n",
      "   60    540 -2.893882775005396e-02 4.4e+01 1.43e-01  5e-03  2e-01 0:07.6\n",
      "   92    828 -3.435862619727947e-02 1.8e+02 9.04e-02  1e-03  2e-01 0:12.7\n",
      "  100    900 -3.439688292084231e-02 2.3e+02 4.90e-02  5e-04  9e-02 0:14.1\n",
      "  143   1287 -3.439962851909373e-02 2.1e+02 1.52e-03  5e-06  1e-03 0:21.1\n",
      "  188   1692 -3.439962977108335e-02 7.0e+02 3.64e-05  3e-08  2e-05 0:28.4\n"
     ]
    },
    {
     "name": "stderr",
     "output_type": "stream",
     "text": [
      "reconstraining parameters GP_regression.Mat52.lengthscale\n",
      "reconstraining parameters GP_regression.Mat52.variance\n",
      "reconstraining parameters GP_regression.Gaussian_noise.variance\n"
     ]
    },
    {
     "name": "stdout",
     "output_type": "stream",
     "text": [
      "termination on tolfun=1e-11 (Mon Aug 24 14:57:13 2020)\n",
      "final/bestever f-value = -3.439963e-02 -3.439963e-02\n",
      "incumbent solution: [1.9999999999999216, 0.09629014165566091, 2.9940935406350495, 6.100204573923052, 2.5906460767877068e-12, 6.67601913019143]\n",
      "std deviation: [5.160823548200208e-07, 3.374473973633685e-08, 2.4575777738771782e-05, 1.7119300882596842e-06, 5.227745457775035e-07, 5.7773950290917095e-06]\n",
      "Optimization restart 1/10, f = 33.4845920928219\n",
      "Optimization restart 2/10, f = 139.76799030027786\n",
      "Optimization restart 3/10, f = 56.95591329234614\n",
      "Optimization restart 4/10, f = 145.60025448526426\n",
      "Optimization restart 5/10, f = 144.84037629006298\n",
      "Optimization restart 6/10, f = 173.56056290793578\n"
     ]
    },
    {
     "name": "stderr",
     "output_type": "stream",
     "text": [
      "reconstraining parameters GP_regression.Mat52.lengthscale\n",
      "reconstraining parameters GP_regression.Mat52.variance\n",
      "reconstraining parameters GP_regression.Gaussian_noise.variance\n"
     ]
    },
    {
     "name": "stdout",
     "output_type": "stream",
     "text": [
      "Optimization restart 7/10, f = 58.01085576291224\n",
      "Optimization restart 8/10, f = 138.79969978055715\n",
      "Optimization restart 9/10, f = 155.34670245223444\n",
      "Optimization restart 10/10, f = 173.56056290793578\n",
      "Optimization restart 1/10, f = 13.081403395984472\n",
      "Optimization restart 2/10, f = 153.96363261753785\n",
      "Optimization restart 3/10, f = 71.39890926354329\n",
      "Optimization restart 4/10, f = 119.38085362714062\n",
      "Optimization restart 5/10, f = 34.2466424313985\n",
      "Optimization restart 6/10, f = 122.65953716410674\n",
      "Optimization restart 7/10, f = 35.99803099633243\n",
      "Optimization restart 8/10, f = 130.32923991536921\n",
      "Optimization restart 9/10, f = 147.37686579428959\n",
      "Optimization restart 10/10, f = 34.03496235268385\n",
      "(4_w,9)-aCMA-ES (mu_w=2.8,w_1=49%) in dimension 6 (seed=306512, Mon Aug 24 14:57:16 2020)\n",
      "Iterat #Fevals   function value  axis ratio  sigma  min&max std  t[m:s]\n",
      "    1      9 9.516537659111646e-02 1.0e+00 2.47e-01  2e-01  3e-01 0:00.1\n"
     ]
    },
    {
     "name": "stderr",
     "output_type": "stream",
     "text": [
      " /home/finley/miniconda3/envs/testsuite/lib/python3.8/site-packages/cma/utilities/utils.py:329: UserWarning:function_values is not a list of scalars,\n",
      "                        the first element equals [0.09516538] with non-scalar type <class 'numpy.ndarray'>.\n",
      "                        Using now ``[v[0] for v in function_values]`` instead (further warnings are suppressed) ()\n"
     ]
    },
    {
     "name": "stdout",
     "output_type": "stream",
     "text": [
      "    2     18 2.852256877401915e-02 1.2e+00 2.40e-01  2e-01  3e-01 0:00.4\n"
     ]
    },
    {
     "name": "stderr",
     "output_type": "stream",
     "text": [
      " /home/finley/miniconda3/envs/testsuite/lib/python3.8/site-packages/cma/utilities/utils.py:329: UserWarning:function_values is not a list of scalars,\n",
      "                        the first element equals [0.55905367] with non-scalar type <class 'numpy.ndarray'>.\n",
      "                        Using now ``[v[0] for v in function_values]`` instead (further warnings are suppressed) ()\n"
     ]
    },
    {
     "name": "stdout",
     "output_type": "stream",
     "text": [
      "    3     27 -4.147480181491270e-02 1.3e+00 2.83e-01  3e-01  3e-01 0:00.6\n",
      "   22    198 -1.156648068558712e-01 3.6e+00 2.12e-01  1e-01  3e-01 0:03.7\n",
      "   47    423 -2.387924976322009e-01 1.6e+01 9.08e-02  2e-02  2e-01 0:07.7\n",
      "   62    558 -2.510713637170254e-01 3.7e+01 8.61e-02  6e-03  2e-01 0:12.8\n",
      "   86    774 -3.263911784868117e-01 1.3e+02 2.55e-01  6e-03  8e-01 0:18.9\n",
      "  100    900 -3.725379010662624e-01 2.4e+02 2.79e-01  4e-03  9e-01 0:21.5\n",
      "  135   1215 -3.771689663330773e-01 5.7e+02 8.79e-02  5e-04  2e-01 0:29.5\n",
      "  176   1584 -3.772004278713816e-01 1.1e+03 1.55e-03  3e-06  3e-03 0:38.6\n",
      "  200   1800 -3.772004309263979e-01 2.8e+03 2.74e-04  2e-07  6e-04 0:43.8\n",
      "  233   2097 -3.772004309379136e-01 6.4e+03 2.35e-05  1e-08  6e-05 0:53.5\n"
     ]
    },
    {
     "name": "stderr",
     "output_type": "stream",
     "text": [
      "reconstraining parameters GP_regression.Mat52.lengthscale\n",
      "reconstraining parameters GP_regression.Mat52.variance\n",
      "reconstraining parameters GP_regression.Gaussian_noise.variance\n"
     ]
    },
    {
     "name": "stdout",
     "output_type": "stream",
     "text": [
      "termination on tolfun=1e-11 (Mon Aug 24 14:58:10 2020)\n",
      "final/bestever f-value = -3.772004e-01 -3.772004e-01\n",
      "incumbent solution: [1.9257857394465498, 0.0824731346521882, 5.5197769680971245, 3.796708237167079, 9.999999999990983, 1.5803080769368654]\n",
      "std deviation: [1.1460574134661178e-08, 1.33305649015825e-08, 6.016639020061674e-05, 5.705317747488307e-07, 2.5574382840256107e-06, 3.289592523700062e-06]\n",
      "Optimization restart 1/10, f = 36.09797789222465\n",
      "Optimization restart 2/10, f = 180.23596917362562\n",
      "Optimization restart 3/10, f = 180.23596917362562\n",
      "Optimization restart 4/10, f = 35.40050925818105\n",
      "Optimization restart 5/10, f = 153.83055808196212\n",
      "Optimization restart 6/10, f = 57.53856200525459\n",
      "Optimization restart 7/10, f = 180.23596917362562\n",
      "Optimization restart 8/10, f = 61.270772699696096\n",
      "Optimization restart 9/10, f = 180.23596917362562\n"
     ]
    },
    {
     "name": "stderr",
     "output_type": "stream",
     "text": [
      "reconstraining parameters GP_regression.Mat52.lengthscale\n",
      "reconstraining parameters GP_regression.Mat52.variance\n",
      "reconstraining parameters GP_regression.Gaussian_noise.variance\n"
     ]
    },
    {
     "name": "stdout",
     "output_type": "stream",
     "text": [
      "Optimization restart 10/10, f = 70.52836471757686\n",
      "Optimization restart 1/10, f = 11.490320538019645\n",
      "Optimization restart 2/10, f = 136.36731194939313\n",
      "Optimization restart 3/10, f = 155.23723726836386\n",
      "Optimization restart 4/10, f = 11.490332210854643\n",
      "Optimization restart 5/10, f = 11.490320454185392\n",
      "Optimization restart 6/10, f = 37.32680989606811\n",
      "Optimization restart 7/10, f = 41.4414405349806\n",
      "Optimization restart 8/10, f = 100.99539995221781\n",
      "Optimization restart 9/10, f = 32.980420974612215\n",
      "Optimization restart 10/10, f = 37.58721775271483\n",
      "(4_w,9)-aCMA-ES (mu_w=2.8,w_1=49%) in dimension 6 (seed=325901, Mon Aug 24 14:58:16 2020)\n",
      "Iterat #Fevals   function value  axis ratio  sigma  min&max std  t[m:s]\n",
      "    1      9 1.033624286253308e+00 1.0e+00 2.45e-01  2e-01  3e-01 0:00.1\n"
     ]
    },
    {
     "name": "stderr",
     "output_type": "stream",
     "text": [
      " /home/finley/miniconda3/envs/testsuite/lib/python3.8/site-packages/cma/utilities/utils.py:329: UserWarning:function_values is not a list of scalars,\n",
      "                        the first element equals [1.32708355] with non-scalar type <class 'numpy.ndarray'>.\n",
      "                        Using now ``[v[0] for v in function_values]`` instead (further warnings are suppressed) ()\n"
     ]
    },
    {
     "name": "stdout",
     "output_type": "stream",
     "text": [
      "    2     18 7.554014397991899e-01 1.3e+00 2.40e-01  2e-01  3e-01 0:00.4\n"
     ]
    },
    {
     "name": "stderr",
     "output_type": "stream",
     "text": [
      " /home/finley/miniconda3/envs/testsuite/lib/python3.8/site-packages/cma/utilities/utils.py:329: UserWarning:function_values is not a list of scalars,\n",
      "                        the first element equals [3.17435557] with non-scalar type <class 'numpy.ndarray'>.\n",
      "                        Using now ``[v[0] for v in function_values]`` instead (further warnings are suppressed) ()\n"
     ]
    },
    {
     "name": "stdout",
     "output_type": "stream",
     "text": [
      "    3     27 5.528631651124123e-01 1.4e+00 2.36e-01  2e-01  3e-01 0:00.8\n",
      "   13    117 -1.290865128885396e+00 3.7e+00 2.72e-01  1e-01  4e-01 0:03.8\n",
      "   30    270 -2.591471632086248e+00 1.1e+01 1.46e-01  2e-02  2e-01 0:08.0\n",
      "   52    468 -2.636010858595570e+00 5.7e+01 5.84e-02  3e-03  2e-01 0:13.0\n",
      "   81    729 -2.639362492634555e+00 1.1e+02 1.55e-02  3e-04  2e-02 0:19.0\n",
      "  100    900 -2.641455309399334e+00 1.7e+02 5.01e-02  6e-04  1e-01 0:23.6\n",
      "  137   1233 -2.646506994861795e+00 4.9e+02 3.32e-02  2e-04  1e-01 0:31.8\n",
      "  176   1584 -2.646535943212967e+00 5.3e+02 3.81e-04  8e-07  4e-04 0:41.0\n",
      "  200   1800 -2.646535943526398e+00 3.8e+02 3.76e-05  5e-08  2e-05 0:46.7\n",
      "  219   1971 -2.646535943527843e+00 5.8e+02 1.44e-05  1e-08  6e-06 0:52.1\n"
     ]
    },
    {
     "name": "stderr",
     "output_type": "stream",
     "text": [
      "reconstraining parameters GP_regression.Mat52.lengthscale\n",
      "reconstraining parameters GP_regression.Mat52.variance\n",
      "reconstraining parameters GP_regression.Gaussian_noise.variance\n"
     ]
    },
    {
     "name": "stdout",
     "output_type": "stream",
     "text": [
      "termination on tolfun=1e-11 (Mon Aug 24 14:59:09 2020)\n",
      "final/bestever f-value = -2.646536e+00 -2.646536e+00\n",
      "incumbent solution: [1.9999999999999414, 5.689854260550622e-14, 4.752842544044477, 3.1621964708990307, 3.893497890466737, 8.018539893742258]\n",
      "std deviation: [2.959052786678426e-07, 8.006404760901717e-08, 1.0527283162229304e-08, 1.5631218837086247e-07, 1.065764989902295e-06, 6.085669390867703e-06]\n",
      "Optimization restart 1/10, f = 38.84531662529113\n",
      "Optimization restart 2/10, f = 118.23297606663351\n",
      "Optimization restart 3/10, f = 36.795537518015635\n",
      "Optimization restart 4/10, f = 37.391702468946974\n",
      "Optimization restart 5/10, f = 161.36651930526637\n",
      "Optimization restart 6/10, f = 118.30124644275408\n",
      "Optimization restart 7/10, f = 173.4808676699003\n",
      "Optimization restart 8/10, f = 160.83211286661285\n"
     ]
    },
    {
     "name": "stderr",
     "output_type": "stream",
     "text": [
      "reconstraining parameters GP_regression.Mat52.lengthscale\n"
     ]
    },
    {
     "name": "stdout",
     "output_type": "stream",
     "text": [
      "Optimization restart 9/10, f = 927150277.0003226\n",
      "Optimization restart 10/10, f = 39.730278929730844\n"
     ]
    },
    {
     "name": "stderr",
     "output_type": "stream",
     "text": [
      "reconstraining parameters GP_regression.Mat52.variance\n",
      "reconstraining parameters GP_regression.Gaussian_noise.variance\n"
     ]
    },
    {
     "name": "stdout",
     "output_type": "stream",
     "text": [
      "Optimization restart 1/10, f = 13.02192345333497\n",
      "Optimization restart 2/10, f = 39.330341947960804\n",
      "Optimization restart 3/10, f = 13.021923512077537\n",
      "Optimization restart 4/10, f = 166.89570002972468\n",
      "Optimization restart 5/10, f = 15.658929789530248\n",
      "Optimization restart 6/10, f = 78.76050269512912\n",
      "Optimization restart 7/10, f = 167.40513568446568\n",
      "Optimization restart 8/10, f = 76.56521942666389\n",
      "Optimization restart 9/10, f = 39.73027892973358\n",
      "Optimization restart 10/10, f = 182.84569000965706\n",
      "(4_w,9)-aCMA-ES (mu_w=2.8,w_1=49%) in dimension 6 (seed=390379, Mon Aug 24 14:59:15 2020)\n",
      "Iterat #Fevals   function value  axis ratio  sigma  min&max std  t[m:s]\n",
      "    1      9 1.666304883140311e+00 1.0e+00 2.64e-01  3e-01  3e-01 0:00.2\n"
     ]
    },
    {
     "name": "stderr",
     "output_type": "stream",
     "text": [
      " /home/finley/miniconda3/envs/testsuite/lib/python3.8/site-packages/cma/utilities/utils.py:329: UserWarning:function_values is not a list of scalars,\n",
      "                        the first element equals [1.85093624] with non-scalar type <class 'numpy.ndarray'>.\n",
      "                        Using now ``[v[0] for v in function_values]`` instead (further warnings are suppressed) ()\n"
     ]
    },
    {
     "name": "stdout",
     "output_type": "stream",
     "text": [
      "    2     18 9.674745349837011e-01 1.3e+00 2.76e-01  3e-01  3e-01 0:00.5\n",
      "    3     27 7.843954800054656e-01 1.4e+00 2.91e-01  3e-01  3e-01 0:00.6\n"
     ]
    },
    {
     "name": "stderr",
     "output_type": "stream",
     "text": [
      " /home/finley/miniconda3/envs/testsuite/lib/python3.8/site-packages/cma/utilities/utils.py:329: UserWarning:function_values is not a list of scalars,\n",
      "                        the first element equals [2.57422166] with non-scalar type <class 'numpy.ndarray'>.\n",
      "                        Using now ``[v[0] for v in function_values]`` instead (further warnings are suppressed) ()\n"
     ]
    },
    {
     "name": "stdout",
     "output_type": "stream",
     "text": [
      "   19    171 1.527050098532197e-01 4.5e+00 7.30e-01  3e-01  1e+00 0:03.8\n",
      "   39    351 -8.895179273639604e-01 1.1e+01 4.68e-01  8e-02  7e-01 0:07.9\n",
      "   61    549 -1.755983282749353e+00 8.5e+00 1.69e-01  3e-02  2e-01 0:13.0\n",
      "   82    738 -1.879675148494397e+00 2.2e+01 4.73e-02  3e-03  6e-02 0:19.3\n",
      "  100    900 -1.880680981328359e+00 6.7e+01 1.80e-02  4e-04  3e-02 0:25.1\n",
      "  115   1035 -1.880711410414171e+00 1.8e+02 1.46e-02  2e-04  4e-02 0:33.3\n",
      "  132   1188 -1.880719029625133e+00 3.4e+02 4.06e-03  3e-05  1e-02 0:43.0\n",
      "  148   1332 -1.880719318475410e+00 7.7e+02 1.39e-03  7e-06  5e-03 0:53.2\n",
      "  167   1503 -1.880719329012223e+00 1.7e+03 3.11e-04  9e-07  1e-03 1:04.4\n",
      "NOTE (module=cma, iteration=196):  \n",
      "condition in coordinate system exceeded 1.1e+08, rescaled to 1.0e+00, \n",
      "condition changed from 9.5e+07 to 7.0e+01\n",
      "  200   1800 -1.880719329552957e+00 1.2e+01 1.80e-04  2e-07  3e-03 1:14.9\n",
      "  241   2169 -1.880719351622954e+00 4.0e+01 8.74e-03  3e-06  6e-01 1:27.9\n",
      "  281   2529 -1.880719358459344e+00 1.8e+01 7.95e-04  1e-07  1e-02 1:41.9\n",
      "  300   2700 -1.880719358498035e+00 1.7e+01 7.54e-04  8e-08  7e-03 1:48.2\n",
      "  363   3267 -1.880719363790527e+00 1.3e+02 4.54e-03  1e-07  3e-02 2:04.5\n",
      "  394   3546 -1.880719363799507e+00 1.4e+02 3.63e-04  5e-09  1e-03 2:17.7\n"
     ]
    },
    {
     "name": "stderr",
     "output_type": "stream",
     "text": [
      "reconstraining parameters GP_regression.Mat52.lengthscale\n",
      "reconstraining parameters GP_regression.Mat52.variance\n",
      "reconstraining parameters GP_regression.Gaussian_noise.variance\n"
     ]
    },
    {
     "name": "stdout",
     "output_type": "stream",
     "text": [
      "termination on tolfun=1e-11 (Mon Aug 24 15:01:34 2020)\n",
      "final/bestever f-value = -1.880719e+00 -1.880719e+00\n",
      "incumbent solution: [1.929828812646953, 8.199439659476457e-15, 7.549026599467455e-07, 4.507005453367858, 3.805097782673708, 5.424749772167707]\n",
      "std deviation: [2.6797239243963963e-08, 3.661259047407739e-08, 0.0005260516526899283, 0.0012196077301259067, 4.693333282020047e-09, 5.655118575370107e-08]\n",
      "Optimization restart 1/10, f = 41.14921781700638\n",
      "Optimization restart 2/10, f = 65.67535562681306\n",
      "Optimization restart 3/10, f = 160.34633748560623\n",
      "Optimization restart 4/10, f = 162.5381018269796\n",
      "Optimization restart 5/10, f = 37.22445939956518\n",
      "Optimization restart 6/10, f = 41.1492174629355\n",
      "Optimization restart 7/10, f = 150.75958365596162\n",
      "Optimization restart 8/10, f = 143.85016370093484\n",
      "Optimization restart 9/10, f = 166.30352166714948\n"
     ]
    },
    {
     "name": "stderr",
     "output_type": "stream",
     "text": [
      "reconstraining parameters GP_regression.Mat52.lengthscale\n",
      "reconstraining parameters GP_regression.Mat52.variance\n",
      "reconstraining parameters GP_regression.Gaussian_noise.variance\n"
     ]
    },
    {
     "name": "stdout",
     "output_type": "stream",
     "text": [
      "Optimization restart 10/10, f = 56.736982586808324\n",
      "Optimization restart 1/10, f = 19.26782953057183\n",
      "Optimization restart 2/10, f = 1166144442.1115198\n",
      "Optimization restart 3/10, f = 50.68778796606715\n",
      "Optimization restart 4/10, f = 17.33786584208132\n",
      "Optimization restart 5/10, f = 170.5440394427446\n",
      "Optimization restart 6/10, f = 41.1492174629355\n",
      "Optimization restart 7/10, f = 31.986840903281795\n",
      "Optimization restart 8/10, f = 24.481773699287075\n",
      "Optimization restart 9/10, f = 152.92981226971258\n",
      "Optimization restart 10/10, f = 25.346795718482536\n",
      "(4_w,9)-aCMA-ES (mu_w=2.8,w_1=49%) in dimension 6 (seed=369642, Mon Aug 24 15:01:45 2020)\n",
      "Iterat #Fevals   function value  axis ratio  sigma  min&max std  t[m:s]\n",
      "    1      9 1.564360062211224e+00 1.0e+00 2.43e-01  2e-01  3e-01 0:00.4\n"
     ]
    },
    {
     "name": "stderr",
     "output_type": "stream",
     "text": [
      " /home/finley/miniconda3/envs/testsuite/lib/python3.8/site-packages/cma/utilities/utils.py:329: UserWarning:function_values is not a list of scalars,\n",
      "                        the first element equals [2.15127333] with non-scalar type <class 'numpy.ndarray'>.\n",
      "                        Using now ``[v[0] for v in function_values]`` instead (further warnings are suppressed) ()\n"
     ]
    },
    {
     "name": "stdout",
     "output_type": "stream",
     "text": [
      "    2     18 1.323190817112588e+00 1.3e+00 2.50e-01  2e-01  3e-01 0:00.8\n"
     ]
    },
    {
     "name": "stderr",
     "output_type": "stream",
     "text": [
      " /home/finley/miniconda3/envs/testsuite/lib/python3.8/site-packages/cma/utilities/utils.py:329: UserWarning:function_values is not a list of scalars,\n",
      "                        the first element equals [2.1759615] with non-scalar type <class 'numpy.ndarray'>.\n",
      "                        Using now ``[v[0] for v in function_values]`` instead (further warnings are suppressed) ()\n"
     ]
    },
    {
     "name": "stdout",
     "output_type": "stream",
     "text": [
      "    3     27 1.367602647854575e+00 1.4e+00 2.59e-01  2e-01  3e-01 0:01.0\n",
      "   12    108 9.205673302285602e-01 4.0e+00 3.44e-01  1e-01  4e-01 0:04.1\n",
      "   27    243 -1.008919264414779e+00 9.4e+00 1.09e+00  2e-01  2e+00 0:08.8\n",
      "   45    405 -1.413170230807109e+00 8.6e+00 2.54e-01  4e-02  2e-01 0:14.0\n",
      "   68    612 -1.484977946356882e+00 8.8e+00 1.55e-01  2e-02  1e-01 0:20.2\n",
      "   89    801 -1.510119799201211e+00 1.7e+01 1.26e-01  1e-02  1e-01 0:27.3\n",
      "  100    900 -1.510722877184899e+00 1.9e+01 4.59e-02  3e-03  4e-02 0:29.7\n",
      "  144   1296 -1.510764466548371e+00 1.1e+02 1.56e-02  3e-04  3e-02 0:38.8\n",
      "  179   1611 -1.510765923018841e+00 1.5e+02 7.02e-04  5e-06  7e-04 0:48.9\n",
      "  200   1800 -1.510765923552928e+00 2.0e+02 9.03e-05  3e-07  7e-05 0:56.3\n",
      "  224   2016 -1.510765923555464e+00 1.8e+02 9.98e-06  3e-08  4e-06 1:05.9\n"
     ]
    },
    {
     "name": "stderr",
     "output_type": "stream",
     "text": [
      "reconstraining parameters GP_regression.Mat52.lengthscale\n",
      "reconstraining parameters GP_regression.Mat52.variance\n",
      "reconstraining parameters GP_regression.Gaussian_noise.variance\n"
     ]
    },
    {
     "name": "stdout",
     "output_type": "stream",
     "text": [
      "termination on tolfun=1e-11 (Mon Aug 24 15:02:51 2020)\n",
      "final/bestever f-value = -1.510766e+00 -1.510766e+00\n",
      "incumbent solution: [1.9999999999999998, 1.3138534511054676, 4.837495048471717, 3.43273534791926, 1.0383334960567585, 2.844344123138531]\n",
      "std deviation: [3.311466323673668e-08, 2.5186255561730257e-08, 5.530347136182749e-07, 1.9673166002296566e-07, 5.1220204723451155e-08, 3.874350162542974e-06]\n",
      "Optimization restart 1/10, f = 41.9009069611466\n",
      "Optimization restart 2/10, f = 983.327184119602\n",
      "Optimization restart 3/10, f = 102.39614876526345\n",
      "Optimization restart 4/10, f = 157.7072402630964\n",
      "Optimization restart 5/10, f = 34.986147961154025\n",
      "Optimization restart 6/10, f = 40.07978020669515\n",
      "Optimization restart 7/10, f = 170.92340283866247\n",
      "Optimization restart 8/10, f = 42.56815626189993\n"
     ]
    },
    {
     "name": "stderr",
     "output_type": "stream",
     "text": [
      "reconstraining parameters GP_regression.Mat52.lengthscale\n"
     ]
    },
    {
     "name": "stdout",
     "output_type": "stream",
     "text": [
      "Optimization restart 9/10, f = 200.26218797069515\n",
      "Optimization restart 10/10, f = 40.07978019384853\n"
     ]
    },
    {
     "name": "stderr",
     "output_type": "stream",
     "text": [
      "reconstraining parameters GP_regression.Mat52.variance\n",
      "reconstraining parameters GP_regression.Gaussian_noise.variance\n"
     ]
    },
    {
     "name": "stdout",
     "output_type": "stream",
     "text": [
      "Optimization restart 1/10, f = 17.94559378678851\n",
      "Optimization restart 2/10, f = 41.37832169875499\n",
      "Optimization restart 3/10, f = 1217400181.267974\n",
      "Optimization restart 4/10, f = 37.08865283887802\n",
      "Optimization restart 5/10, f = 165.74355640257613\n",
      "Optimization restart 6/10, f = 1215834966.779885\n",
      "Optimization restart 7/10, f = 44.53466975436476\n",
      "Optimization restart 8/10, f = 200.26218797069515\n",
      "Optimization restart 9/10, f = 25.854967310755228\n",
      "Optimization restart 10/10, f = 168.37429736046482\n",
      "(4_w,9)-aCMA-ES (mu_w=2.8,w_1=49%) in dimension 6 (seed=396487, Mon Aug 24 15:02:58 2020)\n",
      "Iterat #Fevals   function value  axis ratio  sigma  min&max std  t[m:s]\n",
      "    1      9 2.290585507221798e+00 1.0e+00 2.55e-01  2e-01  3e-01 0:00.2\n",
      "    2     18 2.204552911220084e+00 1.3e+00 2.98e-01  3e-01  4e-01 0:00.4\n"
     ]
    },
    {
     "name": "stderr",
     "output_type": "stream",
     "text": [
      " /home/finley/miniconda3/envs/testsuite/lib/python3.8/site-packages/cma/utilities/utils.py:329: UserWarning:function_values is not a list of scalars,\n",
      "                        the first element equals [2.53911207] with non-scalar type <class 'numpy.ndarray'>.\n",
      "                        Using now ``[v[0] for v in function_values]`` instead (further warnings are suppressed) ()\n",
      " /home/finley/miniconda3/envs/testsuite/lib/python3.8/site-packages/cma/utilities/utils.py:329: UserWarning:function_values is not a list of scalars,\n",
      "                        the first element equals [2.26585458] with non-scalar type <class 'numpy.ndarray'>.\n",
      "                        Using now ``[v[0] for v in function_values]`` instead (further warnings are suppressed) ()\n"
     ]
    },
    {
     "name": "stdout",
     "output_type": "stream",
     "text": [
      "    3     27 1.931677058806929e+00 1.7e+00 3.65e-01  4e-01  4e-01 0:00.6\n",
      "   21    189 3.865431624404301e-01 2.4e+00 1.01e+00  6e-01  1e+00 0:03.7\n",
      "   42    378 -8.190942690194625e-02 7.3e+00 3.59e-01  9e-02  5e-01 0:07.9\n",
      "   55    495 -1.230934675024766e-01 1.5e+01 1.62e-01  3e-02  2e-01 0:13.1\n",
      "   68    612 -1.349796679408577e-01 3.5e+01 1.73e-01  2e-02  3e-01 0:19.5\n",
      "   92    828 -1.427139973881082e-01 8.1e+01 7.61e-02  4e-03  1e-01 0:26.7\n",
      "  100    900 -1.432951627304133e-01 1.1e+02 5.01e-02  2e-03  7e-02 0:29.3\n",
      "  145   1305 -1.530709712539529e-01 7.5e+02 4.76e-01  1e-02  1e+00 0:38.5\n",
      "  193   1737 -1.791387131629083e-01 3.4e+02 4.23e-01  5e-03  3e-01 0:48.5\n",
      "  200   1800 -1.801752363369178e-01 2.5e+02 3.94e-01  4e-03  2e-01 0:50.0\n",
      "  244   2196 -1.805830458348150e-01 1.0e+03 4.61e-02  3e-04  1e-02 1:02.0\n",
      "  291   2619 -1.805923993376686e-01 9.3e+03 3.92e-03  2e-05  8e-04 1:15.1\n",
      "  300   2700 -1.805924066622970e-01 1.1e+04 1.98e-03  8e-06  3e-04 1:17.0\n",
      "  367   3303 -1.805924105167094e-01 1.5e+05 5.70e-04  1e-06  4e-05 1:32.0\n",
      "  400   3600 -1.805924108403101e-01 2.8e+05 2.02e-04  4e-07  7e-06 1:42.3\n"
     ]
    },
    {
     "name": "stderr",
     "output_type": "stream",
     "text": [
      " /home/finley/miniconda3/envs/testsuite/lib/python3.8/site-packages/cma/utilities/utils.py:329: UserWarning:\n",
      "        geno-pheno transformation introduced based on the\n",
      "        current covariance matrix with condition 1.1e+12 -> 1.0e+00,\n",
      "        injected solutions become \"invalid\" in this iteration (class=CMAEvolutionStrategy method=alleviate_conditioning iteration=425)\n"
     ]
    },
    {
     "name": "stdout",
     "output_type": "stream",
     "text": [
      "  441   3969 -1.805924108568209e-01 2.5e+00 9.18e-05  5e-05  9e-05 1:56.5\n"
     ]
    },
    {
     "name": "stderr",
     "output_type": "stream",
     "text": [
      "reconstraining parameters GP_regression.Mat52.lengthscale\n",
      "reconstraining parameters GP_regression.Mat52.variance\n",
      "reconstraining parameters GP_regression.Gaussian_noise.variance\n"
     ]
    },
    {
     "name": "stdout",
     "output_type": "stream",
     "text": [
      "termination on tolfun=1e-11 (Mon Aug 24 15:04:56 2020)\n",
      "final/bestever f-value = -1.805924e-01 -1.805924e-01\n",
      "incumbent solution: [0.3936640228922448, 2.3792482529005525, 3.197975556760042, 1.6642202166878826e-09, 2.7226712575011334, 2.503565943634521e-10]\n",
      "std deviation: [7.799854475840276e-05, 4.606090622813552e-05, 7.757111249258412e-05, 8.728423047270497e-05, 8.967948029278828e-05, 8.070999887909972e-05]\n",
      "Optimization restart 1/10, f = 37.13982328995077\n",
      "Optimization restart 2/10, f = 39.635332404526814\n",
      "Optimization restart 3/10, f = 150.11441190950026\n",
      "Optimization restart 4/10, f = 39.533857609742206\n",
      "Optimization restart 5/10, f = 41.19354350341982\n",
      "Optimization restart 6/10, f = 206.93759423638502\n",
      "Optimization restart 7/10, f = 40.3916540722251\n",
      "Optimization restart 8/10, f = 63.949652822533785\n",
      "Optimization restart 9/10, f = 40.39165599166188\n"
     ]
    },
    {
     "name": "stderr",
     "output_type": "stream",
     "text": [
      "reconstraining parameters GP_regression.Mat52.lengthscale\n",
      "reconstraining parameters GP_regression.Mat52.variance\n",
      "reconstraining parameters GP_regression.Gaussian_noise.variance\n"
     ]
    },
    {
     "name": "stdout",
     "output_type": "stream",
     "text": [
      "Optimization restart 10/10, f = 174.02668799846197\n",
      "Optimization restart 1/10, f = 17.91762661520526\n",
      "Optimization restart 2/10, f = 20.156612124831813\n",
      "Optimization restart 3/10, f = 206.93759423638502\n",
      "Optimization restart 4/10, f = 192.1149365313609\n",
      "Optimization restart 5/10, f = 39.939614545222284\n",
      "Optimization restart 6/10, f = 26.01177598849692\n",
      "Optimization restart 7/10, f = 43.98058239366773\n",
      "Optimization restart 8/10, f = 206.93759423638502\n",
      "Optimization restart 9/10, f = 1548301.600693623\n",
      "Optimization restart 10/10, f = 21.934224007175963\n",
      "(4_w,9)-aCMA-ES (mu_w=2.8,w_1=49%) in dimension 6 (seed=372606, Mon Aug 24 15:05:04 2020)\n",
      "Iterat #Fevals   function value  axis ratio  sigma  min&max std  t[m:s]\n",
      "    1      9 3.016334081404021e+00 1.0e+00 2.36e-01  2e-01  2e-01 0:00.8\n"
     ]
    },
    {
     "name": "stderr",
     "output_type": "stream",
     "text": [
      " /home/finley/miniconda3/envs/testsuite/lib/python3.8/site-packages/cma/utilities/utils.py:329: UserWarning:function_values is not a list of scalars,\n",
      "                        the first element equals [3.55027725] with non-scalar type <class 'numpy.ndarray'>.\n",
      "                        Using now ``[v[0] for v in function_values]`` instead (further warnings are suppressed) ()\n"
     ]
    },
    {
     "name": "stdout",
     "output_type": "stream",
     "text": [
      "    2     18 1.621921607670675e+00 1.3e+00 2.65e-01  2e-01  3e-01 0:01.1\n"
     ]
    },
    {
     "name": "stderr",
     "output_type": "stream",
     "text": [
      " /home/finley/miniconda3/envs/testsuite/lib/python3.8/site-packages/cma/utilities/utils.py:329: UserWarning:function_values is not a list of scalars,\n",
      "                        the first element equals [2.10225129] with non-scalar type <class 'numpy.ndarray'>.\n",
      "                        Using now ``[v[0] for v in function_values]`` instead (further warnings are suppressed) ()\n"
     ]
    },
    {
     "name": "stdout",
     "output_type": "stream",
     "text": [
      "    3     27 1.049860898719609e+00 1.5e+00 3.25e-01  3e-01  4e-01 0:01.6\n",
      "   12    108 6.826402681880674e-01 1.6e+00 3.12e-01  2e-01  3e-01 0:04.7\n",
      "   28    252 -4.221405566358571e-02 3.3e+00 4.71e-01  2e-01  5e-01 0:08.9\n",
      "   40    360 -9.595547647860503e-02 7.3e+00 3.46e-01  7e-02  5e-01 0:14.0\n",
      "   60    540 -1.099221201167841e-01 1.2e+01 1.71e-01  2e-02  2e-01 0:20.1\n",
      "   82    738 -1.191409276345081e-01 3.3e+01 1.00e+00  5e-02  2e+00 0:27.6\n",
      "  100    900 -1.369927161909836e-01 5.2e+01 1.86e-01  6e-03  3e-01 0:35.6\n",
      "  133   1197 -1.370894441352051e-01 8.1e+01 1.61e-02  2e-04  2e-02 0:44.8\n",
      "  161   1449 -1.370897644934135e-01 7.7e+01 1.11e-03  1e-05  7e-04 0:55.5\n",
      "  186   1674 -1.370897656111518e-01 8.8e+01 1.30e-04  7e-07  5e-05 1:06.5\n",
      "  200   1800 -1.370897656139580e-01 7.0e+01 5.85e-05  2e-07  2e-05 1:13.6\n",
      "  213   1917 -1.370897656143515e-01 8.5e+01 1.38e-05  4e-08  3e-06 1:18.9\n"
     ]
    },
    {
     "name": "stderr",
     "output_type": "stream",
     "text": [
      "reconstraining parameters GP_regression.Mat52.lengthscale\n",
      "reconstraining parameters GP_regression.Mat52.variance\n",
      "reconstraining parameters GP_regression.Gaussian_noise.variance\n"
     ]
    },
    {
     "name": "stdout",
     "output_type": "stream",
     "text": [
      "termination on tolfun=1e-11 (Mon Aug 24 15:06:24 2020)\n",
      "final/bestever f-value = -1.370898e-01 -1.370898e-01\n",
      "incumbent solution: [1.9999999999999987, 0.25065109558058646, 5.999999999999898, 3.550226560618442e-14, 2.414832383342177, 0.9090202434545258]\n",
      "std deviation: [5.5939217274281354e-08, 3.5323138360816636e-08, 5.350683705725701e-07, 4.851499161355659e-07, 1.590324007062698e-07, 2.9756926482892755e-06]\n",
      "Optimization restart 1/10, f = 40.015773795377875\n",
      "Optimization restart 2/10, f = 175.2715372203043\n",
      "Optimization restart 3/10, f = 1598246.813619225\n",
      "Optimization restart 4/10, f = 44.70680629507861\n",
      "Optimization restart 5/10, f = 173.52877133569902\n",
      "Optimization restart 6/10, f = 43.90124963434978\n",
      "Optimization restart 7/10, f = 40.688679106817816\n",
      "Optimization restart 8/10, f = 98.96188002670205\n",
      "Optimization restart 9/10, f = 1083248974.037545\n"
     ]
    },
    {
     "name": "stderr",
     "output_type": "stream",
     "text": [
      "reconstraining parameters GP_regression.Mat52.lengthscale\n",
      "reconstraining parameters GP_regression.Mat52.variance\n",
      "reconstraining parameters GP_regression.Gaussian_noise.variance\n"
     ]
    },
    {
     "name": "stdout",
     "output_type": "stream",
     "text": [
      "Optimization restart 10/10, f = 359.33789106641103\n",
      "Optimization restart 1/10, f = 19.565748145728755\n",
      "Optimization restart 2/10, f = 167.80966910073766\n",
      "Optimization restart 3/10, f = 22.33700635834681\n",
      "Optimization restart 4/10, f = 666.2083290825047\n",
      "Optimization restart 5/10, f = 213.61300050207478\n",
      "Optimization restart 6/10, f = 213.61300050207478\n",
      "Optimization restart 7/10, f = 183.4393499484795\n",
      "Optimization restart 8/10, f = 188.75000199021233\n",
      "Optimization restart 9/10, f = 25.168375124074945\n",
      "Optimization restart 10/10, f = 26.491275893908323\n",
      "(4_w,9)-aCMA-ES (mu_w=2.8,w_1=49%) in dimension 6 (seed=322876, Mon Aug 24 15:06:27 2020)\n",
      "Iterat #Fevals   function value  axis ratio  sigma  min&max std  t[m:s]\n",
      "    1      9 1.790622404075971e+00 1.0e+00 2.57e-01  2e-01  3e-01 0:00.2\n"
     ]
    },
    {
     "name": "stderr",
     "output_type": "stream",
     "text": [
      " /home/finley/miniconda3/envs/testsuite/lib/python3.8/site-packages/cma/utilities/utils.py:329: UserWarning:function_values is not a list of scalars,\n",
      "                        the first element equals [1.94960826] with non-scalar type <class 'numpy.ndarray'>.\n",
      "                        Using now ``[v[0] for v in function_values]`` instead (further warnings are suppressed) ()\n"
     ]
    },
    {
     "name": "stdout",
     "output_type": "stream",
     "text": [
      "    2     18 1.839582163053267e+00 1.3e+00 2.39e-01  2e-01  2e-01 0:00.4\n"
     ]
    },
    {
     "name": "stderr",
     "output_type": "stream",
     "text": [
      " /home/finley/miniconda3/envs/testsuite/lib/python3.8/site-packages/cma/utilities/utils.py:329: UserWarning:function_values is not a list of scalars,\n",
      "                        the first element equals [1.94134393] with non-scalar type <class 'numpy.ndarray'>.\n",
      "                        Using now ``[v[0] for v in function_values]`` instead (further warnings are suppressed) ()\n"
     ]
    },
    {
     "name": "stdout",
     "output_type": "stream",
     "text": [
      "    3     27 1.866564682289475e+00 1.4e+00 2.56e-01  2e-01  3e-01 0:00.6\n",
      "   20    180 2.872542413495334e-01 5.3e+00 6.95e-01  3e-01  1e+00 0:03.6\n",
      "   33    297 -1.942778013252338e-01 8.9e+00 5.18e-01  1e-01  8e-01 0:08.0\n",
      "   45    405 -2.169842592968902e-01 1.2e+01 2.17e-01  4e-02  3e-01 0:13.3\n",
      "   58    522 -2.247998649643601e-01 1.7e+01 1.38e-01  1e-02  2e-01 0:19.8\n",
      "   72    648 -2.258243650615790e-01 2.0e+01 4.39e-02  3e-03  5e-02 0:27.2\n",
      "  100    900 -2.259093770255949e-01 3.1e+01 2.47e-03  7e-05  2e-03 0:35.4\n",
      "  130   1170 -2.259094108293032e-01 8.0e+01 2.11e-04  3e-06  2e-04 0:44.6\n",
      "  153   1377 -2.259094115939813e-01 4.5e+02 4.19e-04  3e-06  1e-03 0:54.6\n",
      "  182   1638 -2.259094203837431e-01 1.7e+03 4.52e-03  2e-05  3e-02 1:05.9\n",
      "  200   1800 -2.259094553830798e-01 4.7e+03 6.84e-03  2e-05  8e-02 1:13.0\n",
      "NOTE (module=cma, iteration=220):  \n",
      "condition in coordinate system exceeded 1.1e+08, rescaled to 1.0e+00, \n",
      "condition changed from 1.1e+08 to 3.5e+00\n",
      "  250   2250 -2.259094894140357e-01 2.3e+00 8.39e-04  1e-06  8e-03 1:26.1\n",
      "  278   2502 -2.259094894184202e-01 2.5e+00 1.02e-04  6e-08  5e-04 1:32.8\n"
     ]
    },
    {
     "name": "stderr",
     "output_type": "stream",
     "text": [
      "reconstraining parameters GP_regression.Mat52.lengthscale\n",
      "reconstraining parameters GP_regression.Mat52.variance\n",
      "reconstraining parameters GP_regression.Gaussian_noise.variance\n"
     ]
    },
    {
     "name": "stdout",
     "output_type": "stream",
     "text": [
      "termination on tolfun=1e-11 (Mon Aug 24 15:08:00 2020)\n",
      "final/bestever f-value = -2.259095e-01 -2.259095e-01\n",
      "incumbent solution: [0.5699975144297571, 1.7993148590860735, 3.748536365151745, 7.338525932119715, 3.6606192553921026, 11.999999999998803]\n",
      "std deviation: [5.742003452768626e-08, 9.570877262152946e-08, 4.059085798915336e-07, 0.00048778610111754276, 4.2834113409540817e-07, 1.1506640457879975e-06]\n",
      "Optimization restart 1/10, f = 42.03153412627576\n",
      "Optimization restart 2/10, f = 139.16964586474376\n",
      "Optimization restart 3/10, f = 1648192.026544826\n",
      "Optimization restart 4/10, f = 45.289775609880564\n",
      "Optimization restart 5/10, f = 45.28986880162821\n",
      "Optimization restart 6/10, f = 189.40076643894142\n",
      "Optimization restart 7/10, f = 42.77661967379613\n",
      "Optimization restart 8/10, f = 42.39239041637724\n"
     ]
    },
    {
     "name": "stderr",
     "output_type": "stream",
     "text": [
      "reconstraining parameters GP_regression.Mat52.lengthscale\n",
      "reconstraining parameters GP_regression.Mat52.variance\n"
     ]
    },
    {
     "name": "stdout",
     "output_type": "stream",
     "text": [
      "Optimization restart 9/10, f = 184.90282511238465\n",
      "Optimization restart 10/10, f = 182.72850276717864\n"
     ]
    },
    {
     "name": "stderr",
     "output_type": "stream",
     "text": [
      "reconstraining parameters GP_regression.Gaussian_noise.variance\n"
     ]
    },
    {
     "name": "stdout",
     "output_type": "stream",
     "text": [
      "Optimization restart 1/10, f = 21.038973831859394\n",
      "Optimization restart 2/10, f = 54.70406914512324\n",
      "Optimization restart 3/10, f = 24.737637952064187\n",
      "Optimization restart 4/10, f = 20.400102110897212\n",
      "Optimization restart 5/10, f = 220.28840676776463\n",
      "Optimization restart 6/10, f = 46.21243169718744\n",
      "Optimization restart 7/10, f = 201.25320176867302\n",
      "Optimization restart 8/10, f = 22.60776317124006\n",
      "Optimization restart 9/10, f = 158.01015643893342\n",
      "Optimization restart 10/10, f = 1248725595.8290477\n",
      "(4_w,9)-aCMA-ES (mu_w=2.8,w_1=49%) in dimension 6 (seed=458779, Mon Aug 24 15:08:04 2020)\n",
      "Iterat #Fevals   function value  axis ratio  sigma  min&max std  t[m:s]\n",
      "    1      9 1.686642539581030e+00 1.0e+00 2.66e-01  3e-01  3e-01 0:00.2\n"
     ]
    },
    {
     "name": "stderr",
     "output_type": "stream",
     "text": [
      " /home/finley/miniconda3/envs/testsuite/lib/python3.8/site-packages/cma/utilities/utils.py:329: UserWarning:function_values is not a list of scalars,\n",
      "                        the first element equals [1.68664254] with non-scalar type <class 'numpy.ndarray'>.\n",
      "                        Using now ``[v[0] for v in function_values]`` instead (further warnings are suppressed) ()\n"
     ]
    },
    {
     "name": "stdout",
     "output_type": "stream",
     "text": [
      "    2     18 1.294317717016689e+00 1.4e+00 3.05e-01  3e-01  4e-01 0:00.4\n"
     ]
    },
    {
     "name": "stderr",
     "output_type": "stream",
     "text": [
      " /home/finley/miniconda3/envs/testsuite/lib/python3.8/site-packages/cma/utilities/utils.py:329: UserWarning:function_values is not a list of scalars,\n",
      "                        the first element equals [2.066134] with non-scalar type <class 'numpy.ndarray'>.\n",
      "                        Using now ``[v[0] for v in function_values]`` instead (further warnings are suppressed) ()\n"
     ]
    },
    {
     "name": "stdout",
     "output_type": "stream",
     "text": [
      "    3     27 1.182724905369466e+00 1.6e+00 3.37e-01  3e-01  4e-01 0:00.6\n",
      "   19    171 6.659673051861132e-01 3.9e+00 8.45e-01  4e-01  1e+00 0:03.7\n",
      "   41    369 6.004246647071265e-02 9.3e+00 1.52e-01  2e-02  2e-01 0:07.8\n",
      "   69    621 5.656227014016757e-02 1.8e+01 1.50e-02  9e-04  1e-02 0:13.0\n",
      "  100    900 5.655711277444553e-02 4.1e+01 3.84e-04  8e-06  3e-04 0:18.9\n",
      "  135   1215 5.655711163911614e-02 2.8e+02 4.83e-04  5e-06  1e-03 0:26.1\n",
      "  161   1449 5.655706419913886e-02 1.8e+03 7.58e-03  4e-05  7e-02 0:34.7\n",
      "NOTE (module=cma, iteration=189):  \n",
      "condition in coordinate system exceeded 1.2e+08, rescaled to 1.0e+00, \n",
      "condition changed from 1.1e+08 to 3.5e+00\n",
      "  200   1800 5.655583791038032e-02 2.8e+00 3.08e-02  7e-05  1e+00 0:43.9\n",
      "  230   2070 5.655563045601375e-02 2.3e+00 3.97e-03  6e-06  3e-02 0:54.2\n",
      "  261   2349 5.655562833863614e-02 4.3e+00 3.10e-04  3e-07  8e-04 1:05.2\n",
      "  283   2547 5.655562833699590e-02 4.2e+00 3.85e-05  2e-08  7e-05 1:14.3\n",
      "termination on tolfun=1e-11 (Mon Aug 24 15:09:19 2020)\n",
      "final/bestever f-value = 5.655563e-02 5.655563e-02\n",
      "incumbent solution: [4.147821522966916e-15, 4.0, 4.124918191672512e-15, 1.0489500097711444, 10.0, 1.6953504467596155e-10]\n",
      "std deviation: [1.6511974667200442e-08, 5.0020775465119926e-08, 4.0596356366042796e-08, 1.908272035823701e-07, 3.979618410855501e-07, 6.869763371544761e-05]\n"
     ]
    },
    {
     "name": "stderr",
     "output_type": "stream",
     "text": [
      "reconstraining parameters GP_regression.Mat52.lengthscale\n",
      "reconstraining parameters GP_regression.Mat52.variance\n",
      "reconstraining parameters GP_regression.Gaussian_noise.variance\n"
     ]
    },
    {
     "name": "stdout",
     "output_type": "stream",
     "text": [
      "Optimization restart 1/10, f = 42.91227367448827\n",
      "Optimization restart 2/10, f = 221.90652226891632\n",
      "Optimization restart 3/10, f = 48.033654634043984\n",
      "Optimization restart 4/10, f = 73.5930685080267\n",
      "Optimization restart 5/10, f = 39.984407598631066\n",
      "Optimization restart 6/10, f = 40.46039363025177\n",
      "Optimization restart 7/10, f = 1095219368.7762065\n",
      "Optimization restart 8/10, f = 48.24391012895887\n",
      "Optimization restart 9/10, f = 183.56038150227747\n"
     ]
    },
    {
     "name": "stderr",
     "output_type": "stream",
     "text": [
      "reconstraining parameters GP_regression.Mat52.lengthscale\n",
      "reconstraining parameters GP_regression.Mat52.variance\n",
      "reconstraining parameters GP_regression.Gaussian_noise.variance\n"
     ]
    },
    {
     "name": "stdout",
     "output_type": "stream",
     "text": [
      "Optimization restart 10/10, f = 183.17620607376952\n",
      "Optimization restart 1/10, f = 19.958834070724734\n",
      "Optimization restart 2/10, f = 24.744943247089772\n",
      "Optimization restart 3/10, f = 72.99865151939865\n",
      "Optimization restart 4/10, f = 4011145.504096901\n",
      "Optimization restart 5/10, f = 53.248980363812606\n",
      "Optimization restart 6/10, f = 1283685171.7901406\n",
      "Optimization restart 7/10, f = 186.09793224120196\n",
      "Optimization restart 8/10, f = 46.14609033649869\n",
      "Optimization restart 9/10, f = 187.36490110554055\n",
      "Optimization restart 10/10, f = 46.14600722224472\n",
      "(4_w,9)-aCMA-ES (mu_w=2.8,w_1=49%) in dimension 6 (seed=401367, Mon Aug 24 15:09:34 2020)\n",
      "Iterat #Fevals   function value  axis ratio  sigma  min&max std  t[m:s]\n",
      "    1      9 8.748059066747524e-01 1.0e+00 2.31e-01  2e-01  2e-01 0:00.2\n"
     ]
    },
    {
     "name": "stderr",
     "output_type": "stream",
     "text": [
      " /home/finley/miniconda3/envs/testsuite/lib/python3.8/site-packages/cma/utilities/utils.py:329: UserWarning:function_values is not a list of scalars,\n",
      "                        the first element equals [1.84214593] with non-scalar type <class 'numpy.ndarray'>.\n",
      "                        Using now ``[v[0] for v in function_values]`` instead (further warnings are suppressed) ()\n"
     ]
    },
    {
     "name": "stdout",
     "output_type": "stream",
     "text": [
      "    2     18 2.755021538825679e-01 1.3e+00 2.46e-01  2e-01  3e-01 0:01.2\n"
     ]
    },
    {
     "name": "stderr",
     "output_type": "stream",
     "text": [
      " /home/finley/miniconda3/envs/testsuite/lib/python3.8/site-packages/cma/utilities/utils.py:329: UserWarning:function_values is not a list of scalars,\n",
      "                        the first element equals [1.06525125] with non-scalar type <class 'numpy.ndarray'>.\n",
      "                        Using now ``[v[0] for v in function_values]`` instead (further warnings are suppressed) ()\n"
     ]
    },
    {
     "name": "stdout",
     "output_type": "stream",
     "text": [
      "    3     27 1.968174995315564e-02 1.6e+00 2.79e-01  3e-01  3e-01 0:01.9\n",
      "   10     90 -2.940336687483303e-02 2.1e+00 3.27e-01  2e-01  4e-01 0:05.1\n",
      "   15    135 -3.115026261921949e-02 2.0e+00 2.34e-01  1e-01  2e-01 0:10.0\n",
      "   23    207 -3.476934912166563e-02 3.4e+00 1.46e-01  6e-02  2e-01 0:15.6\n",
      "   32    288 -3.509856729293537e-02 3.8e+00 5.53e-02  2e-02  7e-02 0:22.2\n",
      "   42    378 -3.570091268621400e-02 8.6e+00 5.61e-02  1e-02  1e-01 0:29.7\n",
      "   51    459 -3.599618678595107e-02 1.1e+01 5.55e-02  1e-02  1e-01 0:38.0\n",
      "   70    630 -3.611764048203403e-02 1.7e+01 1.70e-02  2e-03  3e-02 0:47.3\n",
      "   85    765 -3.612350199194747e-02 2.6e+01 6.52e-03  5e-04  1e-02 0:57.9\n",
      "  100    900 -3.612377038627823e-02 2.2e+01 1.67e-03  9e-05  2e-03 1:08.3\n",
      "  131   1179 -3.612377782773235e-02 3.1e+01 1.33e-04  3e-06  8e-05 1:20.4\n",
      "  160   1440 -3.612377783618603e-02 3.7e+01 8.14e-06  9e-08  3e-06 1:29.7\n"
     ]
    },
    {
     "name": "stderr",
     "output_type": "stream",
     "text": [
      "reconstraining parameters GP_regression.Mat52.lengthscale\n",
      "reconstraining parameters GP_regression.Mat52.variance\n",
      "reconstraining parameters GP_regression.Gaussian_noise.variance\n"
     ]
    },
    {
     "name": "stdout",
     "output_type": "stream",
     "text": [
      "termination on tolfun=1e-11 (Mon Aug 24 15:11:04 2020)\n",
      "final/bestever f-value = -3.612378e-02 -3.612378e-02\n",
      "incumbent solution: [1.9917651317436955, 0.12751301770586096, 4.674589947467443, 4.762628163603838, 2.322722881413582, 7.0262123824531235]\n",
      "std deviation: [1.6600019574738595e-07, 9.377358825235691e-08, 5.571864428138046e-07, 3.5551356511483496e-07, 2.750777976598115e-07, 3.0128734997069922e-06]\n",
      "Optimization restart 1/10, f = 40.33066457641353\n",
      "Optimization restart 2/10, f = 48.26630660984386\n",
      "Optimization restart 3/10, f = 48.265635086648416\n",
      "Optimization restart 4/10, f = 71.15104656823705\n",
      "Optimization restart 5/10, f = 48.67760222395329\n",
      "Optimization restart 6/10, f = 1748082.452396027\n",
      "Optimization restart 7/10, f = 213.14141161327603\n",
      "Optimization restart 8/10, f = 43.72047040347178\n"
     ]
    },
    {
     "name": "stderr",
     "output_type": "stream",
     "text": [
      "reconstraining parameters GP_regression.Mat52.lengthscale\n",
      "reconstraining parameters GP_regression.Mat52.variance\n",
      "reconstraining parameters GP_regression.Gaussian_noise.variance\n"
     ]
    },
    {
     "name": "stdout",
     "output_type": "stream",
     "text": [
      "Optimization restart 9/10, f = 71.56441890987739\n",
      "Optimization restart 10/10, f = 1125629997.777887\n",
      "Optimization restart 1/10, f = 18.225197104778164\n",
      "Optimization restart 2/10, f = 233.63921929914432\n",
      "Optimization restart 3/10, f = 48.246390016276884\n",
      "Optimization restart 4/10, f = 154.89483941254124\n",
      "Optimization restart 5/10, f = 24.17842785747586\n",
      "Optimization restart 6/10, f = 59.11776357968914\n",
      "Optimization restart 7/10, f = 21.50600278501214\n",
      "Optimization restart 8/10, f = 1350246893.9635134\n",
      "Optimization restart 9/10, f = 62.731141849261476\n",
      "Optimization restart 10/10, f = 1748082.452396027\n",
      "(4_w,9)-aCMA-ES (mu_w=2.8,w_1=49%) in dimension 6 (seed=367326, Mon Aug 24 15:11:08 2020)\n",
      "Iterat #Fevals   function value  axis ratio  sigma  min&max std  t[m:s]\n",
      "    1      9 3.259265873779308e+00 1.0e+00 2.56e-01  2e-01  3e-01 0:00.2\n"
     ]
    },
    {
     "name": "stderr",
     "output_type": "stream",
     "text": [
      " /home/finley/miniconda3/envs/testsuite/lib/python3.8/site-packages/cma/utilities/utils.py:329: UserWarning:function_values is not a list of scalars,\n",
      "                        the first element equals [4.2106473] with non-scalar type <class 'numpy.ndarray'>.\n",
      "                        Using now ``[v[0] for v in function_values]`` instead (further warnings are suppressed) ()\n"
     ]
    },
    {
     "name": "stdout",
     "output_type": "stream",
     "text": [
      "    2     18 2.949668600816474e+00 1.2e+00 2.52e-01  2e-01  3e-01 0:00.4\n"
     ]
    },
    {
     "name": "stderr",
     "output_type": "stream",
     "text": [
      " /home/finley/miniconda3/envs/testsuite/lib/python3.8/site-packages/cma/utilities/utils.py:329: UserWarning:function_values is not a list of scalars,\n",
      "                        the first element equals [4.17953959] with non-scalar type <class 'numpy.ndarray'>.\n",
      "                        Using now ``[v[0] for v in function_values]`` instead (further warnings are suppressed) ()\n"
     ]
    },
    {
     "name": "stdout",
     "output_type": "stream",
     "text": [
      "    3     27 1.659656721063298e+00 1.4e+00 2.75e-01  3e-01  3e-01 0:00.7\n",
      "   18    162 7.026563632358305e-01 4.3e+00 3.28e-01  2e-01  4e-01 0:03.7\n",
      "   38    342 -1.161395082716821e-02 9.4e+00 4.79e-01  9e-02  7e-01 0:07.7\n",
      "   57    513 -2.025986309346761e-02 7.8e+00 1.18e-01  2e-02  1e-01 0:12.8\n",
      "   74    666 -2.076961323241377e-02 2.2e+01 8.46e-02  7e-03  2e-01 0:19.2\n",
      "   95    855 -2.088492581202273e-02 6.7e+01 2.88e-02  1e-03  8e-02 0:26.4\n",
      "  100    900 -2.088541306842728e-02 7.4e+01 1.88e-02  7e-04  5e-02 0:28.0\n",
      "  118   1062 -2.088615532407001e-02 6.0e+01 2.44e-03  6e-05  4e-03 0:37.1\n",
      "  155   1395 -2.088616210228000e-02 6.2e+01 1.61e-04  2e-06  1e-04 0:47.2\n",
      "  182   1638 -2.088616211049343e-02 4.9e+01 2.37e-05  2e-07  8e-06 0:55.2\n"
     ]
    },
    {
     "name": "stderr",
     "output_type": "stream",
     "text": [
      "reconstraining parameters GP_regression.Mat52.lengthscale\n",
      "reconstraining parameters GP_regression.Mat52.variance\n",
      "reconstraining parameters GP_regression.Gaussian_noise.variance\n"
     ]
    },
    {
     "name": "stdout",
     "output_type": "stream",
     "text": [
      "termination on tolfun=1e-11 (Mon Aug 24 15:12:03 2020)\n",
      "final/bestever f-value = -2.088616e-02 -2.088616e-02\n",
      "incumbent solution: [1.9999999999999312, 1.2982398482936032e-14, 3.7566264878086715, 4.966381704987386, 2.7993305064170277, 3.7604755589815544]\n",
      "std deviation: [1.7871644855721137e-07, 3.6699124648124304e-07, 8.535077597948401e-07, 6.853448889605806e-07, 7.25487040573972e-07, 7.745627984780242e-06]\n",
      "Optimization restart 1/10, f = 40.00042888330091\n",
      "Optimization restart 2/10, f = 224.7084003641782\n",
      "Optimization restart 3/10, f = 139.91110004120785\n",
      "Optimization restart 4/10, f = 47.73843249663524\n",
      "Optimization restart 5/10, f = 196.783742029825\n",
      "Optimization restart 6/10, f = 240.31462556483416\n",
      "Optimization restart 7/10, f = 181.44593111115105\n",
      "Optimization restart 8/10, f = 172.62804800177892\n",
      "Optimization restart 9/10, f = 190.3101248677356\n"
     ]
    },
    {
     "name": "stderr",
     "output_type": "stream",
     "text": [
      "reconstraining parameters GP_regression.Mat52.lengthscale\n",
      "reconstraining parameters GP_regression.Mat52.variance\n",
      "reconstraining parameters GP_regression.Gaussian_noise.variance\n"
     ]
    },
    {
     "name": "stdout",
     "output_type": "stream",
     "text": [
      "Optimization restart 10/10, f = 1154236398.1329038\n",
      "Optimization restart 1/10, f = 15.671782485859932\n",
      "Optimization restart 2/10, f = 1392019991.3890631\n",
      "Optimization restart 3/10, f = 80.95314100937026\n",
      "Optimization restart 4/10, f = 219.02892419632232\n",
      "Optimization restart 5/10, f = 21.273183700766676\n",
      "Optimization restart 6/10, f = 28.086423683008913\n",
      "Optimization restart 7/10, f = 50.65156921961619\n",
      "Optimization restart 8/10, f = 240.31462556483416\n",
      "Optimization restart 9/10, f = 29.08742291183058\n",
      "Optimization restart 10/10, f = 206.92343548634494\n",
      "(4_w,9)-aCMA-ES (mu_w=2.8,w_1=49%) in dimension 6 (seed=427539, Mon Aug 24 15:12:06 2020)\n"
     ]
    },
    {
     "name": "stderr",
     "output_type": "stream",
     "text": [
      " /home/finley/phd/code/testsuite/testsuite/optimisers.py:492: RuntimeWarning:divide by zero encountered in true_divide\n"
     ]
    },
    {
     "name": "stdout",
     "output_type": "stream",
     "text": [
      "Iterat #Fevals   function value  axis ratio  sigma  min&max std  t[m:s]\n",
      "    1      9 1.256135796848892e+00 1.0e+00 2.56e-01  2e-01  3e-01 0:00.3\n"
     ]
    },
    {
     "name": "stderr",
     "output_type": "stream",
     "text": [
      " /home/finley/miniconda3/envs/testsuite/lib/python3.8/site-packages/cma/utilities/utils.py:329: UserWarning:function_values is not a list of scalars,\n",
      "                        the first element equals [1.48685816] with non-scalar type <class 'numpy.ndarray'>.\n",
      "                        Using now ``[v[0] for v in function_values]`` instead (further warnings are suppressed) ()\n"
     ]
    },
    {
     "name": "stdout",
     "output_type": "stream",
     "text": [
      "    2     18 1.235684149830432e+00 1.3e+00 2.99e-01  3e-01  3e-01 0:00.5\n"
     ]
    },
    {
     "name": "stderr",
     "output_type": "stream",
     "text": [
      " /home/finley/miniconda3/envs/testsuite/lib/python3.8/site-packages/cma/utilities/utils.py:329: UserWarning:function_values is not a list of scalars,\n",
      "                        the first element equals [1.30052504] with non-scalar type <class 'numpy.ndarray'>.\n",
      "                        Using now ``[v[0] for v in function_values]`` instead (further warnings are suppressed) ()\n"
     ]
    },
    {
     "name": "stdout",
     "output_type": "stream",
     "text": [
      "    3     27 1.251070601318895e+00 1.6e+00 3.19e-01  3e-01  4e-01 0:00.7\n",
      "   14    126 1.164756825897172e+00 2.7e+00 1.94e-01  1e-01  2e-01 0:03.9\n",
      "   33    297 9.869973232966622e-01 1.4e+01 2.86e-01  4e-02  6e-01 0:08.0\n",
      "   57    513 1.734898635367819e-01 2.7e+01 7.44e-01  6e-02  1e+00 0:13.1\n",
      "   82    738 -2.134102849243291e-02 3.0e+01 1.43e-01  7e-03  2e-01 0:19.1\n",
      "  100    900 -2.212850786686316e-02 2.4e+01 3.23e-02  1e-03  3e-02 0:24.2\n",
      "  129   1161 -2.213856074437448e-02 3.1e+01 2.00e-03  5e-05  1e-03 0:32.3\n",
      "  162   1458 -2.213856853927565e-02 9.8e+01 2.66e-04  3e-06  2e-04 0:41.5\n",
      "  198   1782 -2.213856867855135e-02 1.5e+02 2.35e-05  9e-08  1e-05 0:51.6\n",
      "  200   1800 -2.213856867863440e-02 1.5e+02 1.98e-05  7e-08  1e-05 0:52.2\n",
      "  209   1881 -2.213856867868103e-02 2.0e+02 8.73e-06  2e-08  5e-06 0:54.7\n"
     ]
    },
    {
     "name": "stderr",
     "output_type": "stream",
     "text": [
      "reconstraining parameters GP_regression.Mat52.lengthscale\n",
      "reconstraining parameters GP_regression.Mat52.variance\n",
      "reconstraining parameters GP_regression.Gaussian_noise.variance\n"
     ]
    },
    {
     "name": "stdout",
     "output_type": "stream",
     "text": [
      "termination on tolfun=1e-11 (Mon Aug 24 15:13:01 2020)\n",
      "final/bestever f-value = -2.213857e-02 -2.213857e-02\n",
      "incumbent solution: [8.497787924841363e-16, 3.999999999999998, 2.595480769696505e-17, 2.835104382230957e-10, 3.9478251316816844e-14, 6.542705236792719e-14]\n",
      "std deviation: [2.3091596658803343e-08, 8.829452653779694e-08, 7.805723390177941e-08, 4.594641935415258e-06, 1.2214387937499038e-07, 4.2987830214151143e-07]\n",
      "Optimization restart 1/10, f = 40.05444660200598\n",
      "Optimization restart 2/10, f = 44.54939966310631\n",
      "Optimization restart 3/10, f = 45.961825810599436\n",
      "Optimization restart 4/10, f = 246.99003180634014\n",
      "Optimization restart 5/10, f = 49.34381910379239\n",
      "Optimization restart 6/10, f = 239.666237469951\n",
      "Optimization restart 7/10, f = 206.0832997139844\n",
      "Optimization restart 8/10, f = 52.50072572857329\n"
     ]
    },
    {
     "name": "stderr",
     "output_type": "stream",
     "text": [
      "reconstraining parameters GP_regression.Mat52.lengthscale\n",
      "reconstraining parameters GP_regression.Mat52.variance\n"
     ]
    },
    {
     "name": "stdout",
     "output_type": "stream",
     "text": [
      "Optimization restart 9/10, f = 50.1677804537958\n",
      "Optimization restart 10/10, f = 170.03325356449915\n"
     ]
    },
    {
     "name": "stderr",
     "output_type": "stream",
     "text": [
      "reconstraining parameters GP_regression.Gaussian_noise.variance\n"
     ]
    },
    {
     "name": "stdout",
     "output_type": "stream",
     "text": [
      "Optimization restart 1/10, f = 14.925917468619453\n",
      "Optimization restart 2/10, f = 45.748072667261034\n",
      "Optimization restart 3/10, f = 163.7498107506827\n",
      "Optimization restart 4/10, f = 12.52804553341796\n",
      "Optimization restart 5/10, f = 205.25722540239582\n",
      "Optimization restart 6/10, f = 181.59956625268933\n",
      "Optimization restart 7/10, f = 187.33366064477053\n",
      "Optimization restart 8/10, f = 246.990031830524\n",
      "Optimization restart 9/10, f = 192.62660088307774\n",
      "Optimization restart 10/10, f = 212.25135303568965\n",
      "(4_w,9)-aCMA-ES (mu_w=2.8,w_1=49%) in dimension 6 (seed=380852, Mon Aug 24 15:13:04 2020)\n",
      "Iterat #Fevals   function value  axis ratio  sigma  min&max std  t[m:s]\n",
      "    1      9 -0.000000000000000e+00 1.0e+00 2.12e-01  2e-01  2e-01 0:00.3\n"
     ]
    },
    {
     "name": "stderr",
     "output_type": "stream",
     "text": [
      " /home/finley/miniconda3/envs/testsuite/lib/python3.8/site-packages/cma/utilities/utils.py:329: UserWarning:function_values is not a list of scalars,\n",
      "                        the first element equals [-0.] with non-scalar type <class 'numpy.ndarray'>.\n",
      "                        Using now ``[v[0] for v in function_values]`` instead (further warnings are suppressed) ()\n",
      " /home/finley/miniconda3/envs/testsuite/lib/python3.8/site-packages/cma/utilities/utils.py:329: UserWarning:flat fitness (f=-0.000000, sigma=2.12e-01).\n",
      "                    For small sigma, this could indicate numerical convergence.\n",
      "                    Otherwise, please (re)consider how to compute the fitness more elaborately. (iteration=1)\n",
      "reconstraining parameters GP_regression.Mat52.lengthscale\n",
      "reconstraining parameters GP_regression.Mat52.variance\n",
      "reconstraining parameters GP_regression.Gaussian_noise.variance\n"
     ]
    },
    {
     "name": "stdout",
     "output_type": "stream",
     "text": [
      "termination on tolfun=1e-11 (Mon Aug 24 15:13:05 2020)\n",
      "final/bestever f-value = -0.000000e+00 -0.000000e+00\n",
      "incumbent solution: [0.7654138866974646, 2.7092608378747283, 2.0254529919644755, 4.298455117488635, 9.925775809195576, 1.2768513220481839]\n",
      "std deviation: [0.216275630952892, 0.2081728899182318, 0.20621594700349313, 0.20683421611844, 0.21159747865752007, 0.19501472992136135]\n",
      "Optimization restart 1/10, f = 41.243797238117786\n",
      "Optimization restart 2/10, f = 1225697705.5253959\n",
      "Optimization restart 3/10, f = 1225766256.5390213\n",
      "Optimization restart 4/10, f = 91.30935475889484\n",
      "Optimization restart 5/10, f = 253.66543743502226\n",
      "Optimization restart 6/10, f = 1897442.516965413\n",
      "Optimization restart 7/10, f = 204.55293863781608\n",
      "Optimization restart 8/10, f = 206.1350527951143\n",
      "Optimization restart 9/10, f = 201.26237354401994\n"
     ]
    },
    {
     "name": "stderr",
     "output_type": "stream",
     "text": [
      "reconstraining parameters GP_regression.Mat52.lengthscale\n",
      "reconstraining parameters GP_regression.Mat52.variance\n",
      "reconstraining parameters GP_regression.Gaussian_noise.variance\n"
     ]
    },
    {
     "name": "stdout",
     "output_type": "stream",
     "text": [
      "Optimization restart 10/10, f = 205.81592378887106\n",
      "Optimization restart 1/10, f = 12.991587529119492\n",
      "Optimization restart 2/10, f = 253.66543809621388\n",
      "Optimization restart 3/10, f = 20.987102481646307\n",
      "Optimization restart 4/10, f = 50.7629608243815\n",
      "Optimization restart 5/10, f = 51.88444858619486\n",
      "Optimization restart 6/10, f = 253.66543809621388\n",
      "Optimization restart 7/10, f = 1454576472.1295617\n",
      "Optimization restart 8/10, f = 203.4719337162319\n",
      "Optimization restart 9/10, f = 47.89913138608515\n",
      "Optimization restart 10/10, f = 156.77204624549012\n",
      "(4_w,9)-aCMA-ES (mu_w=2.8,w_1=49%) in dimension 6 (seed=364836, Mon Aug 24 15:13:08 2020)\n",
      "Iterat #Fevals   function value  axis ratio  sigma  min&max std  t[m:s]\n",
      "    1      9 -0.000000000000000e+00 1.0e+00 2.24e-01  2e-01  2e-01 0:00.3\n"
     ]
    },
    {
     "name": "stderr",
     "output_type": "stream",
     "text": [
      " /home/finley/miniconda3/envs/testsuite/lib/python3.8/site-packages/cma/utilities/utils.py:329: UserWarning:flat fitness (f=-0.000000, sigma=2.24e-01).\n",
      "                    For small sigma, this could indicate numerical convergence.\n",
      "                    Otherwise, please (re)consider how to compute the fitness more elaborately. (iteration=1)\n",
      "reconstraining parameters GP_regression.Mat52.lengthscale\n",
      "reconstraining parameters GP_regression.Mat52.variance\n",
      "reconstraining parameters GP_regression.Gaussian_noise.variance\n"
     ]
    },
    {
     "name": "stdout",
     "output_type": "stream",
     "text": [
      "termination on tolfun=1e-11 (Mon Aug 24 15:13:08 2020)\n",
      "final/bestever f-value = -0.000000e+00 -0.000000e+00\n",
      "incumbent solution: [1.5055175562408283, 1.9567225125539836, 4.916793844838861, 7.643277095719746, 5.928691377252696, 7.3123183278378585]\n",
      "std deviation: [0.22659430605758843, 0.21803313992600584, 0.22153389330820808, 0.2203561359673671, 0.21407407461675343, 0.22455145032919638]\n",
      "Optimization restart 1/10, f = 41.289512883437936\n",
      "Optimization restart 2/10, f = 200.65045995711716\n",
      "Optimization restart 3/10, f = 1204633046.0635443\n",
      "Optimization restart 4/10, f = 180.61315537471927\n",
      "Optimization restart 5/10, f = 207.35645819403783\n",
      "Optimization restart 6/10, f = 260.34084436190375\n",
      "Optimization restart 7/10, f = 52.195330030182674\n"
     ]
    },
    {
     "name": "stderr",
     "output_type": "stream",
     "text": [
      "reconstraining parameters GP_regression.Mat52.lengthscale\n",
      "reconstraining parameters GP_regression.Mat52.variance\n",
      "reconstraining parameters GP_regression.Gaussian_noise.variance\n"
     ]
    },
    {
     "name": "stdout",
     "output_type": "stream",
     "text": [
      "Optimization restart 8/10, f = 188.76843951363549\n",
      "Optimization restart 9/10, f = 260.34084436190375\n",
      "Optimization restart 10/10, f = 1203010595.8256187\n",
      "Optimization restart 1/10, f = 12.246790784834676\n",
      "Optimization restart 2/10, f = 236.2856106424992\n",
      "Optimization restart 3/10, f = 46.44788482412038\n",
      "Optimization restart 4/10, f = 194.8431366911792\n",
      "Optimization restart 5/10, f = 298.0751461927937\n",
      "Optimization restart 6/10, f = 194.66281135533754\n",
      "Optimization restart 7/10, f = 206.33980957633338\n",
      "Optimization restart 8/10, f = 229.89230761482233\n",
      "Optimization restart 9/10, f = 244.77835942166953\n",
      "Optimization restart 10/10, f = 46.994605254194816\n",
      "(4_w,9)-aCMA-ES (mu_w=2.8,w_1=49%) in dimension 6 (seed=386850, Mon Aug 24 15:13:11 2020)\n",
      "Iterat #Fevals   function value  axis ratio  sigma  min&max std  t[m:s]\n",
      "    1      9 -0.000000000000000e+00 1.0e+00 2.28e-01  2e-01  2e-01 0:00.3\n"
     ]
    },
    {
     "name": "stderr",
     "output_type": "stream",
     "text": [
      " /home/finley/miniconda3/envs/testsuite/lib/python3.8/site-packages/cma/utilities/utils.py:329: UserWarning:flat fitness (f=-0.000000, sigma=2.28e-01).\n",
      "                    For small sigma, this could indicate numerical convergence.\n",
      "                    Otherwise, please (re)consider how to compute the fitness more elaborately. (iteration=1)\n",
      "reconstraining parameters GP_regression.Mat52.lengthscale\n",
      "reconstraining parameters GP_regression.Mat52.variance\n",
      "reconstraining parameters GP_regression.Gaussian_noise.variance\n"
     ]
    },
    {
     "name": "stdout",
     "output_type": "stream",
     "text": [
      "termination on tolfun=1e-11 (Mon Aug 24 15:13:11 2020)\n",
      "final/bestever f-value = -0.000000e+00 -0.000000e+00\n",
      "incumbent solution: [0.9734508485391855, 0.5001992800062904, 0.5505137705607406, 1.8871049082735727, 8.436051591646013, 3.445997029920812]\n",
      "std deviation: [0.2304809891397594, 0.2318676686557114, 0.21874630262419606, 0.22916127084379362, 0.2107315009892857, 0.2320074435189238]\n",
      "Optimization restart 1/10, f = 42.92732362417336\n",
      "Optimization restart 2/10, f = 212.85680769545496\n",
      "Optimization restart 3/10, f = 233.60992888534284\n",
      "Optimization restart 4/10, f = 75.60221728165428\n",
      "Optimization restart 5/10, f = 79.80036988119028\n",
      "Optimization restart 6/10, f = 196.7798922621454\n",
      "Optimization restart 7/10, f = 221.17802869151487\n",
      "Optimization restart 8/10, f = 52.80492605134282\n"
     ]
    },
    {
     "name": "stderr",
     "output_type": "stream",
     "text": [
      "reconstraining parameters GP_regression.Mat52.lengthscale\n",
      "reconstraining parameters GP_regression.Mat52.variance\n",
      "reconstraining parameters GP_regression.Gaussian_noise.variance\n"
     ]
    },
    {
     "name": "stdout",
     "output_type": "stream",
     "text": [
      "Optimization restart 9/10, f = 125.33292779210089\n",
      "Optimization restart 10/10, f = 220.5982007736837\n",
      "Optimization restart 1/10, f = 11.701745904083907\n",
      "Optimization restart 2/10, f = 11.701745903413045\n",
      "Optimization restart 3/10, f = 267.0162506275935\n",
      "Optimization restart 4/10, f = 207.76264642209773\n",
      "Optimization restart 5/10, f = 267.0162506275935\n",
      "Optimization restart 6/10, f = 267.0162506275935\n",
      "Optimization restart 7/10, f = 44.05858203947035\n",
      "Optimization restart 8/10, f = 18.2783240552996\n",
      "Optimization restart 9/10, f = 56.7575413281869\n",
      "Optimization restart 10/10, f = 251.18033218820722\n",
      "(4_w,9)-aCMA-ES (mu_w=2.8,w_1=49%) in dimension 6 (seed=448756, Mon Aug 24 15:13:14 2020)\n",
      "Iterat #Fevals   function value  axis ratio  sigma  min&max std  t[m:s]\n",
      "    1      9 -1.008551631603645e-01 1.0e+00 2.33e-01  2e-01  2e-01 0:00.3\n"
     ]
    },
    {
     "name": "stderr",
     "output_type": "stream",
     "text": [
      " /home/finley/miniconda3/envs/testsuite/lib/python3.8/site-packages/cma/utilities/utils.py:329: UserWarning:function_values is not a list of scalars,\n",
      "                        the first element equals [-0.10085516] with non-scalar type <class 'numpy.ndarray'>.\n",
      "                        Using now ``[v[0] for v in function_values]`` instead (further warnings are suppressed) ()\n"
     ]
    },
    {
     "name": "stdout",
     "output_type": "stream",
     "text": [
      "    2     18 -1.473145564277063e-01 1.2e+00 2.26e-01  2e-01  2e-01 0:00.7\n"
     ]
    },
    {
     "name": "stderr",
     "output_type": "stream",
     "text": [
      " /home/finley/miniconda3/envs/testsuite/lib/python3.8/site-packages/cma/utilities/utils.py:329: UserWarning:function_values is not a list of scalars,\n",
      "                        the first element equals [-0.07798048] with non-scalar type <class 'numpy.ndarray'>.\n",
      "                        Using now ``[v[0] for v in function_values]`` instead (further warnings are suppressed) ()\n"
     ]
    },
    {
     "name": "stdout",
     "output_type": "stream",
     "text": [
      "    3     27 -1.255990314046738e-01 1.5e+00 2.32e-01  2e-01  2e-01 0:01.0\n",
      "   10     90 -1.752547425925579e-01 2.3e+00 2.06e-01  1e-01  2e-01 0:04.3\n",
      "   22    198 -2.623308089323197e-01 3.7e+00 2.32e-01  8e-02  2e-01 0:08.5\n",
      "   38    342 -3.045954892827627e-01 6.2e+00 1.56e-01  3e-02  2e-01 0:13.6\n",
      "   57    513 -3.353463641859564e-01 3.2e+01 3.20e-01  3e-02  9e-01 0:20.0\n",
      "   79    711 -3.497782653179438e-01 4.5e+01 5.66e-02  3e-03  1e-01 0:27.2\n",
      "  100    900 -3.498302916384608e-01 4.0e+01 1.02e-02  3e-04  1e-02 0:33.8\n",
      "  128   1152 -3.498307626502957e-01 4.5e+01 7.82e-04  1e-05  5e-04 0:43.1\n",
      "  158   1422 -3.498307637519380e-01 4.9e+01 4.35e-05  3e-07  1e-05 0:53.1\n",
      "  177   1593 -3.498307637533555e-01 4.7e+01 9.46e-06  5e-08  2e-06 0:59.4\n"
     ]
    },
    {
     "name": "stderr",
     "output_type": "stream",
     "text": [
      "reconstraining parameters GP_regression.Mat52.lengthscale\n",
      "reconstraining parameters GP_regression.Mat52.variance\n",
      "reconstraining parameters GP_regression.Gaussian_noise.variance\n"
     ]
    },
    {
     "name": "stdout",
     "output_type": "stream",
     "text": [
      "termination on tolfun=1e-11 (Mon Aug 24 15:14:14 2020)\n",
      "final/bestever f-value = -3.498308e-01 -3.498308e-01\n",
      "incumbent solution: [1.5674332980989796, 0.34218735360866726, 3.585867274691782, 4.594685467552757, 2.297301146974159, 2.1777188989298653]\n",
      "std deviation: [5.372789455519198e-08, 1.324838213623233e-07, 4.415459252087362e-07, 3.1754994232938505e-07, 2.604435399014094e-07, 2.258590250361582e-06]\n",
      "Optimization restart 1/10, f = 43.564720186916375\n",
      "Optimization restart 2/10, f = 208.70961299491967\n",
      "Optimization restart 3/10, f = 251.81070970330578\n",
      "Optimization restart 4/10, f = 53.15560587031845\n",
      "Optimization restart 5/10, f = 129.43813532325964\n",
      "Optimization restart 6/10, f = 1364089005.6180458\n",
      "Optimization restart 7/10, f = 100.5287877846216\n",
      "Optimization restart 8/10, f = 1368726415.4670005\n"
     ]
    },
    {
     "name": "stderr",
     "output_type": "stream",
     "text": [
      "reconstraining parameters GP_regression.Mat52.lengthscale\n"
     ]
    },
    {
     "name": "stdout",
     "output_type": "stream",
     "text": [
      "Optimization restart 9/10, f = 56.06027516599156\n",
      "Optimization restart 10/10, f = 225.17613996730225\n"
     ]
    },
    {
     "name": "stderr",
     "output_type": "stream",
     "text": [
      "reconstraining parameters GP_regression.Mat52.variance\n",
      "reconstraining parameters GP_regression.Gaussian_noise.variance\n"
     ]
    },
    {
     "name": "stdout",
     "output_type": "stream",
     "text": [
      "Optimization restart 1/10, f = 11.33253737432604\n",
      "Optimization restart 2/10, f = 139.13758831177392\n",
      "Optimization restart 3/10, f = 2047753.7299496324\n",
      "Optimization restart 4/10, f = 2047753.7299496324\n",
      "Optimization restart 5/10, f = 273.6916568932833\n",
      "Optimization restart 6/10, f = 152.5289863286119\n",
      "Optimization restart 7/10, f = 273.6916568932833\n",
      "Optimization restart 8/10, f = 57.09518056305299\n",
      "Optimization restart 9/10, f = 228.93206116270576\n",
      "Optimization restart 10/10, f = 11.33253737842207\n",
      "(4_w,9)-aCMA-ES (mu_w=2.8,w_1=49%) in dimension 6 (seed=361843, Mon Aug 24 15:14:18 2020)\n",
      "Iterat #Fevals   function value  axis ratio  sigma  min&max std  t[m:s]\n",
      "    1      9 -0.000000000000000e+00 1.0e+00 2.40e-01  2e-01  3e-01 0:00.4\n"
     ]
    },
    {
     "name": "stderr",
     "output_type": "stream",
     "text": [
      " /home/finley/miniconda3/envs/testsuite/lib/python3.8/site-packages/cma/utilities/utils.py:329: UserWarning:flat fitness (f=-0.000000, sigma=2.40e-01).\n",
      "                    For small sigma, this could indicate numerical convergence.\n",
      "                    Otherwise, please (re)consider how to compute the fitness more elaborately. (iteration=1)\n",
      "reconstraining parameters GP_regression.Mat52.lengthscale\n",
      "reconstraining parameters GP_regression.Mat52.variance\n",
      "reconstraining parameters GP_regression.Gaussian_noise.variance\n"
     ]
    },
    {
     "name": "stdout",
     "output_type": "stream",
     "text": [
      "termination on tolfun=1e-11 (Mon Aug 24 15:14:18 2020)\n",
      "final/bestever f-value = -0.000000e+00 -0.000000e+00\n",
      "incumbent solution: [1.570398293964976, 1.377683464387119, 4.005616439019793, 1.801726359340622, 7.8834166024301915, 3.218258452317602]\n",
      "std deviation: [0.24011158472906746, 0.2405389761013347, 0.22568336587644386, 0.23540612464342173, 0.23461200417278114, 0.25232798030836767]\n",
      "Optimization restart 1/10, f = 45.05071588731458\n",
      "Optimization restart 2/10, f = 225.77817865821157\n",
      "Optimization restart 3/10, f = 45.050715887585326\n",
      "Optimization restart 4/10, f = 218.33378302490095\n",
      "Optimization restart 5/10, f = 218.3967739428406\n",
      "Optimization restart 6/10, f = 233.06642513281346\n"
     ]
    },
    {
     "name": "stderr",
     "output_type": "stream",
     "text": [
      "reconstraining parameters GP_regression.Mat52.lengthscale\n",
      "reconstraining parameters GP_regression.Mat52.variance\n",
      "reconstraining parameters GP_regression.Gaussian_noise.variance\n"
     ]
    },
    {
     "name": "stdout",
     "output_type": "stream",
     "text": [
      "Optimization restart 7/10, f = 94.14955163645355\n",
      "Optimization restart 8/10, f = 231.4519803253666\n",
      "Optimization restart 9/10, f = 1428280703.454485\n",
      "Optimization restart 10/10, f = 229.99086646523745\n",
      "Optimization restart 1/10, f = 11.43448725005426\n",
      "Optimization restart 2/10, f = 280.36706315897317\n",
      "Optimization restart 3/10, f = 244.0332341757361\n",
      "Optimization restart 4/10, f = 11.434487249954305\n",
      "Optimization restart 5/10, f = 227.0141249212702\n",
      "Optimization restart 6/10, f = 56.23407973945921\n",
      "Optimization restart 7/10, f = 14.132479917986313\n",
      "Optimization restart 8/10, f = 93.50849952438091\n",
      "Optimization restart 9/10, f = 52.12354638863884\n",
      "Optimization restart 10/10, f = 185.36007545881256\n",
      "(4_w,9)-aCMA-ES (mu_w=2.8,w_1=49%) in dimension 6 (seed=383574, Mon Aug 24 15:14:22 2020)\n",
      "Iterat #Fevals   function value  axis ratio  sigma  min&max std  t[m:s]\n",
      "    1      9 -0.000000000000000e+00 1.0e+00 2.70e-01  3e-01  3e-01 0:00.3\n",
      "    2     18 -0.000000000000000e+00 1.3e+00 2.63e-01  2e-01  3e-01 0:00.7\n"
     ]
    },
    {
     "name": "stderr",
     "output_type": "stream",
     "text": [
      " /home/finley/miniconda3/envs/testsuite/lib/python3.8/site-packages/cma/utilities/utils.py:329: UserWarning:function_values is not a list of scalars,\n",
      "                        the first element equals [2.19336089] with non-scalar type <class 'numpy.ndarray'>.\n",
      "                        Using now ``[v[0] for v in function_values]`` instead (further warnings are suppressed) ()\n"
     ]
    },
    {
     "name": "stdout",
     "output_type": "stream",
     "text": [
      "    3     27 -0.000000000000000e+00 1.3e+00 2.38e-01  2e-01  3e-01 0:01.0\n",
      "   10     90 -0.000000000000000e+00 2.0e+00 1.23e-01  9e-02  1e-01 0:03.3\n"
     ]
    },
    {
     "name": "stderr",
     "output_type": "stream",
     "text": [
      "reconstraining parameters GP_regression.Mat52.lengthscale\n",
      "reconstraining parameters GP_regression.Mat52.variance\n",
      "reconstraining parameters GP_regression.Gaussian_noise.variance\n"
     ]
    },
    {
     "name": "stdout",
     "output_type": "stream",
     "text": [
      "termination on tolfunhist=1e-12 (Mon Aug 24 15:14:25 2020)\n",
      "termination on flat fitness=please (re)consider how to compute the fitness more elaborately if sigma=1.23e-01 is large (Mon Aug 24 15:14:25 2020)\n",
      "final/bestever f-value = -0.000000e+00 -0.000000e+00\n",
      "incumbent solution: [0.8286823580470492, 2.7971646113889146, 5.951238508894304, 0.16301775205089464, 2.1154982154575666, 7.014007912200779]\n",
      "std deviation: [0.09821826773763799, 0.0908223660100887, 0.1213638210280982, 0.13207472243087406, 0.09992971251310624, 0.12855805199127399]\n",
      "Optimization restart 1/10, f = 46.20319367735513\n",
      "Optimization restart 2/10, f = 232.92881962599353\n",
      "Optimization restart 3/10, f = 276.0492449604067\n",
      "Optimization restart 4/10, f = 242.50258596184324\n",
      "Optimization restart 5/10, f = 287.04246942466307\n",
      "Optimization restart 6/10, f = 2147644.155800834\n",
      "Optimization restart 7/10, f = 50.538315488452\n",
      "Optimization restart 8/10, f = 287.04246942466307\n"
     ]
    },
    {
     "name": "stderr",
     "output_type": "stream",
     "text": [
      "reconstraining parameters GP_regression.Mat52.lengthscale\n",
      "reconstraining parameters GP_regression.Mat52.variance\n",
      "reconstraining parameters GP_regression.Gaussian_noise.variance\n"
     ]
    },
    {
     "name": "stdout",
     "output_type": "stream",
     "text": [
      "Optimization restart 9/10, f = 48.32979239123423\n",
      "Optimization restart 10/10, f = 232.19137996894278\n",
      "Optimization restart 1/10, f = 10.789465770475392\n",
      "Optimization restart 2/10, f = 223.72813767873245\n",
      "Optimization restart 3/10, f = 43.814820639783434\n",
      "Optimization restart 4/10, f = 95.75250317524072\n",
      "Optimization restart 5/10, f = 193.5934028781233\n",
      "Optimization restart 6/10, f = 287.04246942466307\n",
      "Optimization restart 7/10, f = 223.24927264191896\n",
      "Optimization restart 8/10, f = 2147644.1558008343\n",
      "Optimization restart 9/10, f = 74.37796091686243\n",
      "Optimization restart 10/10, f = 74.06705621897544\n",
      "(4_w,9)-aCMA-ES (mu_w=2.8,w_1=49%) in dimension 6 (seed=369160, Mon Aug 24 15:14:28 2020)\n",
      "Iterat #Fevals   function value  axis ratio  sigma  min&max std  t[m:s]\n",
      "    1      9 -3.894112448377651e-02 1.0e+00 2.33e-01  2e-01  2e-01 0:00.3\n"
     ]
    },
    {
     "name": "stderr",
     "output_type": "stream",
     "text": [
      " /home/finley/miniconda3/envs/testsuite/lib/python3.8/site-packages/cma/utilities/utils.py:329: UserWarning:function_values is not a list of scalars,\n",
      "                        the first element equals [1.34471996] with non-scalar type <class 'numpy.ndarray'>.\n",
      "                        Using now ``[v[0] for v in function_values]`` instead (further warnings are suppressed) ()\n"
     ]
    },
    {
     "name": "stdout",
     "output_type": "stream",
     "text": [
      "    2     18 -4.577918604838693e-02 1.2e+00 2.71e-01  3e-01  3e-01 0:00.7\n"
     ]
    },
    {
     "name": "stderr",
     "output_type": "stream",
     "text": [
      " /home/finley/miniconda3/envs/testsuite/lib/python3.8/site-packages/cma/utilities/utils.py:329: UserWarning:function_values is not a list of scalars,\n",
      "                        the first element equals [-0.04577919] with non-scalar type <class 'numpy.ndarray'>.\n",
      "                        Using now ``[v[0] for v in function_values]`` instead (further warnings are suppressed) ()\n"
     ]
    },
    {
     "name": "stdout",
     "output_type": "stream",
     "text": [
      "    3     27 -7.173120597121763e-02 1.5e+00 2.67e-01  3e-01  3e-01 0:01.1\n",
      "   11     99 -1.985605036740425e-01 2.2e+00 4.76e-01  3e-01  6e-01 0:04.2\n",
      "   22    198 -1.080925734527369e-01 4.9e+00 6.50e-01  3e-01  1e+00 0:08.4\n",
      "   36    324 -2.429796127286417e-01 6.0e+00 3.80e-01  1e-01  5e-01 0:13.5\n",
      "   53    477 -2.496381953093261e-01 7.2e+00 2.89e-01  6e-02  3e-01 0:19.7\n",
      "   73    657 -2.631353998782702e-01 1.1e+01 5.65e-02  8e-03  7e-02 0:27.0\n",
      "   96    864 -2.632667149719743e-01 1.7e+01 1.78e-02  1e-03  2e-02 0:35.3\n",
      "  100    900 -2.632703629011952e-01 2.4e+01 1.85e-02  1e-03  3e-02 0:36.9\n",
      "  128   1152 -2.632733314750357e-01 3.3e+01 1.61e-03  6e-05  2e-03 0:47.0\n"
     ]
    }
   ],
   "source": [
    "opt.optimise(n_steps=100)"
   ]
  },
  {
   "cell_type": "code",
   "execution_count": null,
   "metadata": {},
   "outputs": [],
   "source": []
  }
 ],
 "metadata": {
  "kernelspec": {
   "display_name": "testsuite",
   "language": "python",
   "name": "testsuite"
  },
  "language_info": {
   "codemirror_mode": {
    "name": "ipython",
    "version": 3
   },
   "file_extension": ".py",
   "mimetype": "text/x-python",
   "name": "python",
   "nbconvert_exporter": "python",
   "pygments_lexer": "ipython3",
   "version": "3.8.3"
  },
  "varInspector": {
   "cols": {
    "lenName": 16,
    "lenType": 16,
    "lenVar": 40
   },
   "kernels_config": {
    "python": {
     "delete_cmd_postfix": "",
     "delete_cmd_prefix": "del ",
     "library": "var_list.py",
     "varRefreshCmd": "print(var_dic_list())"
    },
    "r": {
     "delete_cmd_postfix": ") ",
     "delete_cmd_prefix": "rm(",
     "library": "var_list.r",
     "varRefreshCmd": "cat(var_dic_list()) "
    }
   },
   "types_to_exclude": [
    "module",
    "function",
    "builtin_function_or_method",
    "instance",
    "_Feature"
   ],
   "window_display": false
  }
 },
 "nbformat": 4,
 "nbformat_minor": 4
}
