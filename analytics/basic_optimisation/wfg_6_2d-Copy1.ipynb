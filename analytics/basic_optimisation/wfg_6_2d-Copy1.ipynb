{
 "cells": [
  {
   "cell_type": "code",
   "execution_count": 8,
   "metadata": {},
   "outputs": [],
   "source": [
    "import matplotlib.pyplot as plt\n",
    "import wfg\n",
    "import numpy as np\n",
    "import rootpath \n",
    "import sys\n",
    "sys.path.append(rootpath.detect())\n",
    "from testsuite.surrogates import GP, MultiSurrogate\n",
    "from testsuite.optimisers import BayesianOptimiser, SmsEgo"
   ]
  },
  {
   "cell_type": "code",
   "execution_count": 9,
   "metadata": {},
   "outputs": [],
   "source": [
    "## set up objective function\n",
    "kfactor = 2\n",
    "lfactor = 2\n",
    "n_objectives = 2\n",
    "n_dims = lfactor * 2 + kfactor\n",
    "\n",
    "k = kfactor * (n_objectives - 1)\n",
    "l = lfactor * 2\n",
    "wfg_n = 6\n",
    "exec(\"func = wfg.WFG{}\".format(int(wfg_n)))\n",
    "\n",
    "def wfg2(x):\n",
    "    if x.ndim == 2:\n",
    "        assert (x.shape[1] == n_dims)\n",
    "    else:\n",
    "        squeezable = np.where([a == 1 for a in x.shape])[0]\n",
    "        for i in squeezable[::-1]:\n",
    "            x = x.squeeze(i)\n",
    "\n",
    "    if x.ndim == 1:\n",
    "        assert (x.shape[0] == n_dims)\n",
    "        x = x.reshape(1, -1)\n",
    "    return np.array([func(xi, k, n_objectives) for xi in x])"
   ]
  },
  {
   "cell_type": "code",
   "execution_count": 10,
   "metadata": {},
   "outputs": [],
   "source": [
    "limits = [np.zeros((n_dims)), np.array(range(1, n_dims + 1)) * 2]\n",
    "\n",
    "gp_multisurr = MultiSurrogate(GP, scaled=True)\n",
    "opt = SmsEgo(objective_function=wfg2, limits=limits, surrogate=gp_multisurr, n_initial=10, seed=None, log_interval=10)\n",
    "\n",
    "# opt.alpha(opt.x[0:1], opt.surrogate, opt.y)\n",
    "# opt.optimise(n_steps=10)"
   ]
  },
  {
   "cell_type": "code",
   "execution_count": 11,
   "metadata": {},
   "outputs": [
    {
     "name": "stderr",
     "output_type": "stream",
     "text": [
      "reconstraining parameters GP_regression.Mat52.lengthscale\n",
      "reconstraining parameters GP_regression.Mat52.variance\n",
      "reconstraining parameters GP_regression.Gaussian_noise.variance\n"
     ]
    },
    {
     "name": "stdout",
     "output_type": "stream",
     "text": [
      "Optimization restart 1/10, f = 14.189385237369866\n",
      "Optimization restart 2/10, f = 66.75406265689837\n",
      "Optimization restart 3/10, f = 14.189360028047641\n",
      "Optimization restart 4/10, f = 14.189385332046728\n",
      "Optimization restart 5/10, f = 66.75406265689837\n",
      "Optimization restart 6/10, f = 14.189385332046726\n",
      "Optimization restart 7/10, f = 14.18938533204783\n",
      "Optimization restart 8/10, f = 141669799.23729357\n",
      "Optimization restart 9/10, f = 14.189360031659806\n"
     ]
    },
    {
     "name": "stderr",
     "output_type": "stream",
     "text": [
      "reconstraining parameters GP_regression.Mat52.lengthscale\n",
      "reconstraining parameters GP_regression.Mat52.variance\n",
      "reconstraining parameters GP_regression.Gaussian_noise.variance\n"
     ]
    },
    {
     "name": "stdout",
     "output_type": "stream",
     "text": [
      "Optimization restart 10/10, f = 24.13706808880282\n",
      "Optimization restart 1/10, f = 14.189385554903097\n",
      "Optimization restart 2/10, f = 66.75406265689834\n",
      "Optimization restart 3/10, f = 11.680920565185488\n",
      "Optimization restart 4/10, f = 13.385880302611369\n",
      "Optimization restart 5/10, f = 66.75404980573262\n",
      "Optimization restart 6/10, f = 20.759519382201923\n",
      "Optimization restart 7/10, f = 11.731781739242809\n",
      "Optimization restart 8/10, f = 14.189385332046857\n",
      "Optimization restart 9/10, f = 14.189385332046754\n",
      "Optimization restart 10/10, f = 66.75406265689837\n",
      "(4_w,9)-aCMA-ES (mu_w=2.8,w_1=49%) in dimension 6 (seed=429138, Tue Aug 25 00:13:43 2020)\n",
      "Iterat #Fevals   function value  axis ratio  sigma  min&max std  t[m:s]\n",
      "    1      9 2.280890113562171e-01 1.0e+00 2.34e-01  2e-01  2e-01 0:00.0\n",
      "    2     18 1.368226586161641e-01 1.3e+00 2.77e-01  3e-01  3e-01 0:00.1\n",
      "    3     27 1.086925843181357e-01 1.4e+00 3.12e-01  3e-01  3e-01 0:00.1\n"
     ]
    },
    {
     "name": "stderr",
     "output_type": "stream",
     "text": [
      " /home/finley/miniconda3/envs/testsuite/lib/python3.8/site-packages/cma/utilities/utils.py:329: UserWarning:function_values is not a list of scalars,\n",
      "                        the first element equals [0.22808901] with non-scalar type <class 'numpy.ndarray'>.\n",
      "                        Using now ``[v[0] for v in function_values]`` instead (further warnings are suppressed) ()\n",
      " /home/finley/miniconda3/envs/testsuite/lib/python3.8/site-packages/cma/utilities/utils.py:329: UserWarning:function_values is not a list of scalars,\n",
      "                        the first element equals [0.48644664] with non-scalar type <class 'numpy.ndarray'>.\n",
      "                        Using now ``[v[0] for v in function_values]`` instead (further warnings are suppressed) ()\n"
     ]
    },
    {
     "name": "stdout",
     "output_type": "stream",
     "text": [
      "   62    558 -5.272419823197185e-01 6.6e+01 3.59e-01  1e-02  9e-01 0:03.2\n",
      "  100    900 -5.456215828810009e-01 3.3e+02 2.53e-02  2e-04  8e-02 0:06.7\n",
      "  149   1341 -5.456259094167921e-01 5.9e+03 8.26e-03  1e-05  7e-02 0:11.7\n",
      "NOTE (module=cma, iteration=167):  \n",
      "condition in coordinate system exceeded 1.0e+08, rescaled to 1.0e+00, \n",
      "condition changed from 9.6e+07 to 5.7e+01\n",
      "  200   1800 -5.456266783399744e-01 6.2e+00 7.99e-02  2e-05  7e-01 0:15.3\n",
      "  282   2538 -5.456277049859142e-01 3.3e+01 1.20e-02  6e-07  4e-02 0:22.3\n",
      "  300   2700 -5.456277055214811e-01 1.1e+02 3.66e-02  1e-06  3e-01 0:24.2\n",
      "  353   3177 -5.456277057096204e-01 3.0e+02 2.33e-03  2e-08  1e-02 0:31.2\n"
     ]
    },
    {
     "name": "stderr",
     "output_type": "stream",
     "text": [
      "reconstraining parameters GP_regression.Mat52.lengthscale\n",
      "reconstraining parameters GP_regression.Mat52.variance\n",
      "reconstraining parameters GP_regression.Gaussian_noise.variance\n"
     ]
    },
    {
     "name": "stdout",
     "output_type": "stream",
     "text": [
      "termination on tolfun=1e-11 (Tue Aug 25 00:14:15 2020)\n",
      "final/bestever f-value = -5.456277e-01 -5.456277e-01\n",
      "incumbent solution: [1.004192230626353, 3.9999999999994973, 5.5969442416853, 1.0902562443306149e-07, 9.999999992408421, 10.355105035454976]\n",
      "std deviation: [1.7723980417368844e-07, 4.6991446415268367e-07, 0.013124032834463803, 0.0002085878702927515, 0.0006121761751473852, 2.2275329945120506e-08]\n",
      "Optimization restart 1/10, f = 15.60832462501811\n",
      "Optimization restart 2/10, f = 73.4294689225882\n",
      "Optimization restart 3/10, f = 15.608323865252128\n",
      "Optimization restart 4/10, f = 73.4294689225882\n",
      "Optimization restart 5/10, f = 549397.3421816085\n",
      "Optimization restart 6/10, f = 23.39222659356446\n",
      "Optimization restart 7/10, f = 26.05300918788089\n",
      "Optimization restart 8/10, f = 12.428087089156875\n",
      "Optimization restart 9/10, f = 24.715108786069152\n"
     ]
    },
    {
     "name": "stderr",
     "output_type": "stream",
     "text": [
      "reconstraining parameters GP_regression.Mat52.lengthscale\n",
      "reconstraining parameters GP_regression.Mat52.variance\n",
      "reconstraining parameters GP_regression.Gaussian_noise.variance\n"
     ]
    },
    {
     "name": "stdout",
     "output_type": "stream",
     "text": [
      "Optimization restart 10/10, f = 14.883880786212622\n",
      "Optimization restart 1/10, f = 12.244060518911779\n",
      "Optimization restart 2/10, f = 23.059816885531347\n",
      "Optimization restart 3/10, f = 15.290594575453772\n",
      "Optimization restart 4/10, f = 28.549607858202013\n",
      "Optimization restart 5/10, f = 15.608324253575045\n",
      "Optimization restart 6/10, f = 12.456231158565634\n",
      "Optimization restart 7/10, f = 12.456231473149053\n",
      "Optimization restart 8/10, f = 73.42946892231953\n",
      "Optimization restart 9/10, f = 14.893314276006711\n",
      "Optimization restart 10/10, f = 20.518332768480548\n",
      "(4_w,9)-aCMA-ES (mu_w=2.8,w_1=49%) in dimension 6 (seed=486439, Tue Aug 25 00:14:25 2020)\n",
      "Iterat #Fevals   function value  axis ratio  sigma  min&max std  t[m:s]\n",
      "    1      9 -2.332202200331566e-01 1.0e+00 2.70e-01  3e-01  3e-01 0:00.2\n",
      "    2     18 -2.575337024089879e-01 1.4e+00 2.62e-01  3e-01  3e-01 0:00.4\n"
     ]
    },
    {
     "name": "stderr",
     "output_type": "stream",
     "text": [
      " /home/finley/miniconda3/envs/testsuite/lib/python3.8/site-packages/cma/utilities/utils.py:329: UserWarning:function_values is not a list of scalars,\n",
      "                        the first element equals [0.32622212] with non-scalar type <class 'numpy.ndarray'>.\n",
      "                        Using now ``[v[0] for v in function_values]`` instead (further warnings are suppressed) ()\n",
      " /home/finley/miniconda3/envs/testsuite/lib/python3.8/site-packages/cma/utilities/utils.py:329: UserWarning:function_values is not a list of scalars,\n",
      "                        the first element equals [-0.20428582] with non-scalar type <class 'numpy.ndarray'>.\n",
      "                        Using now ``[v[0] for v in function_values]`` instead (further warnings are suppressed) ()\n"
     ]
    },
    {
     "name": "stdout",
     "output_type": "stream",
     "text": [
      "    3     27 -2.807555962928090e-01 1.4e+00 2.91e-01  3e-01  3e-01 0:00.5\n",
      "   23    207 -3.101205918929053e-01 5.0e+00 4.75e-01  1e-01  6e-01 0:03.6\n",
      "   72    648 -3.124257792788663e-01 2.8e+01 1.75e-02  1e-03  2e-02 0:07.6\n",
      "  100    900 -3.124261161831869e-01 4.7e+01 3.42e-03  8e-05  3e-03 0:10.5\n",
      "  182   1638 -3.124291391617282e-01 1.3e+03 1.96e-02  6e-05  6e-02 0:16.5\n",
      "  200   1800 -3.124291438395532e-01 1.1e+03 1.26e-02  2e-05  2e-02 0:17.9\n",
      "  296   2664 -3.124291807597672e-01 4.0e+03 6.81e-04  2e-07  8e-04 0:24.8\n"
     ]
    },
    {
     "name": "stderr",
     "output_type": "stream",
     "text": [
      "reconstraining parameters GP_regression.Mat52.lengthscale\n",
      "reconstraining parameters GP_regression.Mat52.variance\n"
     ]
    },
    {
     "name": "stdout",
     "output_type": "stream",
     "text": [
      "termination on tolfun=1e-11 (Tue Aug 25 00:14:51 2020)\n",
      "final/bestever f-value = -3.124292e-01 -3.124292e-01\n",
      "incumbent solution: [1.999999999999943, 0.4454421254185962, 5.999999999999673, 5.276739337418952, 5.3919315612183005e-09, 6.572446454646188]\n",
      "std deviation: [2.2178935868642158e-07, 2.1719518368811168e-07, 2.047383835192776e-06, 0.0008099862818476834, 0.00010853547386574316, 2.0454239763258558e-06]\n"
     ]
    },
    {
     "name": "stderr",
     "output_type": "stream",
     "text": [
      "reconstraining parameters GP_regression.Gaussian_noise.variance\n"
     ]
    },
    {
     "name": "stdout",
     "output_type": "stream",
     "text": [
      "Optimization restart 1/10, f = 14.003493501329665\n",
      "Optimization restart 2/10, f = 28.155688240281616\n",
      "Optimization restart 3/10, f = 17.027262398456525\n",
      "Optimization restart 4/10, f = 16.862137545071903\n",
      "Optimization restart 5/10, f = 17.02725469704001\n",
      "Optimization restart 6/10, f = 13.840171168447993\n",
      "Optimization restart 7/10, f = 17.02726239845698\n",
      "Optimization restart 8/10, f = 25.552794589512473\n",
      "Optimization restart 9/10, f = 17.027262398456074\n"
     ]
    },
    {
     "name": "stderr",
     "output_type": "stream",
     "text": [
      "reconstraining parameters GP_regression.Mat52.lengthscale\n",
      "reconstraining parameters GP_regression.Mat52.variance\n",
      "reconstraining parameters GP_regression.Gaussian_noise.variance\n"
     ]
    },
    {
     "name": "stdout",
     "output_type": "stream",
     "text": [
      "Optimization restart 10/10, f = 12.414660451146581\n",
      "Optimization restart 1/10, f = 10.711231216541947\n",
      "Optimization restart 2/10, f = 145044610.10539135\n",
      "Optimization restart 3/10, f = 28.739996667748464\n",
      "Optimization restart 4/10, f = 17.02726239845608\n",
      "Optimization restart 5/10, f = 11.005922891836818\n",
      "Optimization restart 6/10, f = 16.85717531712898\n",
      "Optimization restart 7/10, f = 145209620.59004745\n",
      "Optimization restart 8/10, f = 17.02726239866658\n",
      "Optimization restart 9/10, f = 80.10487518827804\n",
      "Optimization restart 10/10, f = 11.005895913656085\n",
      "(4_w,9)-aCMA-ES (mu_w=2.8,w_1=49%) in dimension 6 (seed=367050, Tue Aug 25 00:14:57 2020)\n",
      "Iterat #Fevals   function value  axis ratio  sigma  min&max std  t[m:s]\n",
      "    1      9 6.191427075671423e-01 1.0e+00 2.34e-01  2e-01  2e-01 0:00.1\n",
      "    2     18 -3.742421453717903e-02 1.2e+00 2.14e-01  2e-01  2e-01 0:00.2\n"
     ]
    },
    {
     "name": "stderr",
     "output_type": "stream",
     "text": [
      " /home/finley/miniconda3/envs/testsuite/lib/python3.8/site-packages/cma/utilities/utils.py:329: UserWarning:function_values is not a list of scalars,\n",
      "                        the first element equals [0.71250117] with non-scalar type <class 'numpy.ndarray'>.\n",
      "                        Using now ``[v[0] for v in function_values]`` instead (further warnings are suppressed) ()\n",
      " /home/finley/miniconda3/envs/testsuite/lib/python3.8/site-packages/cma/utilities/utils.py:329: UserWarning:function_values is not a list of scalars,\n",
      "                        the first element equals [1.05051398] with non-scalar type <class 'numpy.ndarray'>.\n",
      "                        Using now ``[v[0] for v in function_values]`` instead (further warnings are suppressed) ()\n"
     ]
    },
    {
     "name": "stdout",
     "output_type": "stream",
     "text": [
      "    3     27 -9.062950804266379e-02 1.3e+00 2.15e-01  2e-01  2e-01 0:00.3\n",
      "   23    207 -1.171626624571740e-01 5.6e+00 1.61e-01  5e-02  2e-01 0:03.4\n",
      "   49    441 -1.297547710956084e-01 4.3e+01 4.55e-01  3e-02  1e+00 0:07.5\n",
      "   81    729 -1.837216526755863e-01 1.1e+02 2.94e-01  6e-03  6e-01 0:12.8\n",
      "  100    900 -1.838069562864644e-01 2.2e+02 1.53e-01  2e-03  5e-01 0:15.1\n",
      "  200   1800 -1.838659959668791e-01 4.3e+03 5.60e-02  5e-05  2e-01 0:22.1\n",
      "  285   2565 -1.838661469773815e-01 1.8e+03 1.56e-04  4e-08  6e-05 0:30.1\n"
     ]
    },
    {
     "name": "stderr",
     "output_type": "stream",
     "text": [
      "reconstraining parameters GP_regression.Mat52.lengthscale\n",
      "reconstraining parameters GP_regression.Mat52.variance\n",
      "reconstraining parameters GP_regression.Gaussian_noise.variance\n"
     ]
    },
    {
     "name": "stdout",
     "output_type": "stream",
     "text": [
      "termination on tolfun=1e-11 (Tue Aug 25 00:15:28 2020)\n",
      "final/bestever f-value = -1.838661e-01 -1.838661e-01\n",
      "incumbent solution: [0.5629736687981273, 2.0345070204180654e-14, 2.0077686812448334, 7.326562443109408, 1.0965520827279203e-09, 1.1446844509178553e-12]\n",
      "std deviation: [3.838052043210691e-08, 1.3131568222800536e-07, 4.8742373318238114e-05, 7.882641832290591e-07, 5.851524391696602e-05, 4.809991850538844e-07]\n",
      "Optimization restart 1/10, f = 14.242038878297485\n",
      "Optimization restart 2/10, f = 32.758164961999\n",
      "Optimization restart 3/10, f = 34.66540841682479\n",
      "Optimization restart 4/10, f = 18.446201122600055\n",
      "Optimization restart 5/10, f = 18.44620095853192\n",
      "Optimization restart 6/10, f = 86.78028145396787\n",
      "Optimization restart 7/10, f = 18.446200931589615\n",
      "Optimization restart 8/10, f = 14.242033478223915\n"
     ]
    },
    {
     "name": "stderr",
     "output_type": "stream",
     "text": [
      "reconstraining parameters GP_regression.Mat52.lengthscale\n",
      "reconstraining parameters GP_regression.Mat52.variance\n"
     ]
    },
    {
     "name": "stdout",
     "output_type": "stream",
     "text": [
      "Optimization restart 9/10, f = 18.446200931660755\n",
      "Optimization restart 10/10, f = 18.446200931660822\n"
     ]
    },
    {
     "name": "stderr",
     "output_type": "stream",
     "text": [
      "reconstraining parameters GP_regression.Gaussian_noise.variance\n"
     ]
    },
    {
     "name": "stdout",
     "output_type": "stream",
     "text": [
      "Optimization restart 1/10, f = 11.337787833752255\n",
      "Optimization restart 2/10, f = 22.4828007930018\n",
      "Optimization restart 3/10, f = 18.446201145700357\n",
      "Optimization restart 4/10, f = 11.454007710797026\n",
      "Optimization restart 5/10, f = 32.71814324266609\n",
      "Optimization restart 6/10, f = 86.78028145396787\n",
      "Optimization restart 7/10, f = 18.446200931754085\n",
      "Optimization restart 8/10, f = 18.446200931665317\n",
      "Optimization restart 9/10, f = 27.501222311947878\n",
      "Optimization restart 10/10, f = 18.446201733115426\n",
      "(4_w,9)-aCMA-ES (mu_w=2.8,w_1=49%) in dimension 6 (seed=420223, Tue Aug 25 00:15:38 2020)\n",
      "Iterat #Fevals   function value  axis ratio  sigma  min&max std  t[m:s]\n",
      "    1      9 9.065575481904189e-01 1.0e+00 2.24e-01  2e-01  2e-01 0:00.1\n",
      "    2     18 9.383804052841662e-01 1.2e+00 2.16e-01  2e-01  2e-01 0:00.3\n"
     ]
    },
    {
     "name": "stderr",
     "output_type": "stream",
     "text": [
      " /home/finley/miniconda3/envs/testsuite/lib/python3.8/site-packages/cma/utilities/utils.py:329: UserWarning:function_values is not a list of scalars,\n",
      "                        the first element equals [1.69391303] with non-scalar type <class 'numpy.ndarray'>.\n",
      "                        Using now ``[v[0] for v in function_values]`` instead (further warnings are suppressed) ()\n",
      " /home/finley/miniconda3/envs/testsuite/lib/python3.8/site-packages/cma/utilities/utils.py:329: UserWarning:function_values is not a list of scalars,\n",
      "                        the first element equals [1.15423695] with non-scalar type <class 'numpy.ndarray'>.\n",
      "                        Using now ``[v[0] for v in function_values]`` instead (further warnings are suppressed) ()\n"
     ]
    },
    {
     "name": "stdout",
     "output_type": "stream",
     "text": [
      "    3     27 8.382790479039526e-01 1.4e+00 2.11e-01  2e-01  2e-01 0:00.4\n",
      "   22    198 -1.494889645782282e+00 3.7e+00 4.65e-01  2e-01  7e-01 0:03.4\n",
      "   56    504 -1.683641610127790e+00 6.6e+01 2.20e-01  9e-03  6e-01 0:07.4\n",
      "  100    900 -1.685306268923234e+00 3.5e+02 4.74e-02  3e-04  9e-02 0:11.1\n",
      "NOTE (module=cma, iteration=167):  \n",
      "condition in coordinate system exceeded 1.4e+08, rescaled to 1.0e+00, \n",
      "condition changed from 1.3e+08 to 6.2e+01\n",
      "  183   1647 -1.685315170146477e+00 1.0e+01 1.61e-01  3e-05  1e+00 0:17.1\n",
      "  200   1800 -1.685315473012544e+00 1.2e+01 4.15e-02  5e-06  2e-01 0:18.4\n",
      "  300   2700 -1.685315482791044e+00 9.9e+01 2.02e-02  3e-07  2e-01 0:26.5\n",
      "  329   2961 -1.685315482800747e+00 1.2e+02 3.06e-03  2e-08  2e-02 0:29.1\n"
     ]
    },
    {
     "name": "stderr",
     "output_type": "stream",
     "text": [
      "reconstraining parameters GP_regression.Mat52.lengthscale\n",
      "reconstraining parameters GP_regression.Mat52.variance\n",
      "reconstraining parameters GP_regression.Gaussian_noise.variance\n"
     ]
    },
    {
     "name": "stdout",
     "output_type": "stream",
     "text": [
      "termination on tolfun=1e-11 (Tue Aug 25 00:16:07 2020)\n",
      "final/bestever f-value = -1.685315e+00 -1.685315e+00\n",
      "incumbent solution: [0.7070687109455956, 3.999999999999998, 5.999998279831795, 1.20399024989074, 9.999999916141814, 10.281241178819638]\n",
      "std deviation: [1.9201983392604076e-08, 1.595231892217191e-07, 0.02232842678026304, 0.0006047972686058156, 0.0004815188413566263, 2.765372000640413e-06]\n",
      "Optimization restart 1/10, f = 17.231430522253547\n",
      "Optimization restart 2/10, f = 93.4556877196577\n",
      "Optimization restart 3/10, f = 35.540028690778726\n",
      "Optimization restart 4/10, f = 93.4556877196577\n",
      "Optimization restart 5/10, f = 14.584565103948737\n",
      "Optimization restart 6/10, f = 18.37024734869435\n",
      "Optimization restart 7/10, f = 22.7292029681318\n",
      "Optimization restart 8/10, f = 19.269251880993497\n",
      "Optimization restart 9/10, f = 19.865139806019457\n"
     ]
    },
    {
     "name": "stderr",
     "output_type": "stream",
     "text": [
      "reconstraining parameters GP_regression.Mat52.lengthscale\n",
      "reconstraining parameters GP_regression.Mat52.variance\n",
      "reconstraining parameters GP_regression.Gaussian_noise.variance\n"
     ]
    },
    {
     "name": "stdout",
     "output_type": "stream",
     "text": [
      "Optimization restart 10/10, f = 16.480838579759308\n",
      "Optimization restart 1/10, f = 10.723851240635755\n",
      "Optimization restart 2/10, f = 19.865139769900075\n",
      "Optimization restart 3/10, f = 17.704972068006633\n",
      "Optimization restart 4/10, f = 93.4556877196577\n",
      "Optimization restart 5/10, f = 19.865139464865454\n",
      "Optimization restart 6/10, f = 93.4556877196577\n",
      "Optimization restart 7/10, f = 152604459.4104367\n",
      "Optimization restart 8/10, f = 19.86513986512449\n",
      "Optimization restart 9/10, f = 19.865139606975532\n",
      "Optimization restart 10/10, f = 17.91205308081907\n",
      "(4_w,9)-aCMA-ES (mu_w=2.8,w_1=49%) in dimension 6 (seed=437042, Tue Aug 25 00:16:10 2020)\n",
      "Iterat #Fevals   function value  axis ratio  sigma  min&max std  t[m:s]\n",
      "    1      9 -8.130150509189527e-02 1.0e+00 2.24e-01  2e-01  2e-01 0:00.1\n",
      "    2     18 -9.370142046725172e-02 1.2e+00 2.14e-01  2e-01  2e-01 0:00.1\n",
      "    3     27 -1.008818820849209e-01 1.3e+00 2.33e-01  2e-01  3e-01 0:00.2\n"
     ]
    },
    {
     "name": "stderr",
     "output_type": "stream",
     "text": [
      " /home/finley/miniconda3/envs/testsuite/lib/python3.8/site-packages/cma/utilities/utils.py:329: UserWarning:function_values is not a list of scalars,\n",
      "                        the first element equals [-0.01431026] with non-scalar type <class 'numpy.ndarray'>.\n",
      "                        Using now ``[v[0] for v in function_values]`` instead (further warnings are suppressed) ()\n",
      " /home/finley/miniconda3/envs/testsuite/lib/python3.8/site-packages/cma/utilities/utils.py:329: UserWarning:function_values is not a list of scalars,\n",
      "                        the first element equals [-0.08908243] with non-scalar type <class 'numpy.ndarray'>.\n",
      "                        Using now ``[v[0] for v in function_values]`` instead (further warnings are suppressed) ()\n"
     ]
    },
    {
     "name": "stdout",
     "output_type": "stream",
     "text": [
      "   28    252 -2.276792156015812e-01 6.2e+00 2.32e-01  6e-02  3e-01 0:03.2\n",
      "   72    648 -2.861160128612297e-01 5.3e+01 7.08e-01  3e-02  2e+00 0:07.3\n",
      "  100    900 -2.876335515584092e-01 1.5e+02 1.11e-01  2e-03  3e-01 0:09.5\n",
      "  170   1530 -2.876430289194847e-01 2.5e+03 4.02e-02  1e-04  2e-01 0:15.5\n",
      "  200   1800 -2.876430463148989e-01 2.6e+03 2.88e-03  4e-06  7e-03 0:18.3\n",
      "  238   2142 -2.876430463457869e-01 4.2e+03 9.15e-04  5e-07  2e-03 0:21.6\n"
     ]
    },
    {
     "name": "stderr",
     "output_type": "stream",
     "text": [
      "reconstraining parameters GP_regression.Mat52.lengthscale\n",
      "reconstraining parameters GP_regression.Mat52.variance\n",
      "reconstraining parameters GP_regression.Gaussian_noise.variance\n"
     ]
    },
    {
     "name": "stdout",
     "output_type": "stream",
     "text": [
      "termination on tolfun=1e-11 (Tue Aug 25 00:16:32 2020)\n",
      "final/bestever f-value = -2.876430e-01 -2.876430e-01\n",
      "incumbent solution: [0.4688947683327007, 2.632120087985329, 2.8879291428135083, 7.999999938612108, 5.874378684129161e-10, 7.981735624209833e-15]\n",
      "std deviation: [4.78741423694082e-07, 5.471716530931611e-07, 0.002059735374733632, 0.0008819286209547897, 2.5939229908300656e-05, 2.8245057027479872e-06]\n",
      "Optimization restart 1/10, f = 18.19013480662168\n",
      "Optimization restart 2/10, f = 100.13109398534753\n",
      "Optimization restart 3/10, f = 21.284078226085242\n",
      "Optimization restart 4/10, f = 35.08242807402239\n",
      "Optimization restart 5/10, f = 21.248470488344317\n",
      "Optimization restart 6/10, f = 42.548507247299625\n",
      "Optimization restart 7/10, f = 100.13109398534753\n",
      "Optimization restart 8/10, f = 20.45807885148606\n"
     ]
    },
    {
     "name": "stderr",
     "output_type": "stream",
     "text": [
      "reconstraining parameters GP_regression.Mat52.lengthscale\n",
      "reconstraining parameters GP_regression.Mat52.variance\n",
      "reconstraining parameters GP_regression.Gaussian_noise.variance\n"
     ]
    },
    {
     "name": "stdout",
     "output_type": "stream",
     "text": [
      "Optimization restart 9/10, f = 20.458173709152973\n",
      "Optimization restart 10/10, f = 21.284077998070092\n",
      "Optimization restart 1/10, f = 11.950885416593973\n",
      "Optimization restart 2/10, f = 19.060209420976463\n",
      "Optimization restart 3/10, f = 35287581.76333778\n",
      "Optimization restart 4/10, f = 21.28407799807009\n",
      "Optimization restart 5/10, f = 21.10285426939948\n",
      "Optimization restart 6/10, f = 100.13109398534753\n",
      "Optimization restart 7/10, f = 100.13109398534753\n",
      "Optimization restart 8/10, f = 19.54830425509793\n",
      "Optimization restart 9/10, f = 86.57457129210843\n",
      "Optimization restart 10/10, f = 11.9801614383369\n",
      "(4_w,9)-aCMA-ES (mu_w=2.8,w_1=49%) in dimension 6 (seed=403678, Tue Aug 25 00:16:35 2020)\n",
      "Iterat #Fevals   function value  axis ratio  sigma  min&max std  t[m:s]\n",
      "    1      9 1.368046782977514e-01 1.0e+00 2.58e-01  2e-01  3e-01 0:00.1\n",
      "    2     18 -1.075511303010335e-02 1.3e+00 2.60e-01  2e-01  3e-01 0:00.1\n",
      "    3     27 -2.291330174593331e-02 1.4e+00 2.73e-01  2e-01  3e-01 0:00.2\n"
     ]
    },
    {
     "name": "stderr",
     "output_type": "stream",
     "text": [
      " /home/finley/miniconda3/envs/testsuite/lib/python3.8/site-packages/cma/utilities/utils.py:329: UserWarning:function_values is not a list of scalars,\n",
      "                        the first element equals [0.45671734] with non-scalar type <class 'numpy.ndarray'>.\n",
      "                        Using now ``[v[0] for v in function_values]`` instead (further warnings are suppressed) ()\n",
      " /home/finley/miniconda3/envs/testsuite/lib/python3.8/site-packages/cma/utilities/utils.py:329: UserWarning:function_values is not a list of scalars,\n",
      "                        the first element equals [0.18008918] with non-scalar type <class 'numpy.ndarray'>.\n",
      "                        Using now ``[v[0] for v in function_values]`` instead (further warnings are suppressed) ()\n"
     ]
    },
    {
     "name": "stdout",
     "output_type": "stream",
     "text": [
      "   39    351 -2.778186754575485e-02 1.5e+01 1.27e-01  2e-02  2e-01 0:03.2\n",
      "   85    765 -3.859331750577422e-02 1.4e+02 2.98e-01  7e-03  7e-01 0:07.2\n",
      "  100    900 -3.860502827661638e-02 8.2e+01 1.57e-01  3e-03  2e-01 0:08.5\n",
      "  167   1503 -3.866391339934450e-02 9.1e+02 5.14e-03  1e-05  9e-03 0:14.5\n",
      "  200   1800 -3.866420822286920e-02 1.1e+04 1.25e-01  1e-04  1e+00 0:17.7\n",
      "NOTE (module=cma, iteration=202):  \n",
      "condition in coordinate system exceeded 1.1e+08, rescaled to 1.0e+00, \n",
      "condition changed from 1.3e+08 to 1.3e+03\n",
      "  283   2547 -3.866425143548113e-02 8.1e+00 2.25e-04  4e-08  1e-04 0:24.2\n"
     ]
    },
    {
     "name": "stderr",
     "output_type": "stream",
     "text": [
      "reconstraining parameters GP_regression.Mat52.lengthscale\n",
      "reconstraining parameters GP_regression.Mat52.variance\n",
      "reconstraining parameters GP_regression.Gaussian_noise.variance\n"
     ]
    },
    {
     "name": "stdout",
     "output_type": "stream",
     "text": [
      "termination on tolfun=1e-11 (Tue Aug 25 00:16:59 2020)\n",
      "final/bestever f-value = -3.866425e-02 -3.866425e-02\n",
      "incumbent solution: [1.1857267060732992, 3.9999999999999964, 0.30296110210700394, 4.846016089167177e-08, 9.999999999999671, 11.99999999999726]\n",
      "std deviation: [3.776151443567498e-08, 1.3621643795583245e-07, 7.270152273824812e-05, 0.00010494413718032749, 6.203040138831123e-07, 2.346275153379745e-06]\n",
      "Optimization restart 1/10, f = 18.2643389903951\n",
      "Optimization restart 2/10, f = 92.66828238952904\n",
      "Optimization restart 3/10, f = 38.81204046628719\n",
      "Optimization restart 4/10, f = 37.429628666112855\n",
      "Optimization restart 5/10, f = 28.167288997441126\n",
      "Optimization restart 6/10, f = 18.410197105632363\n",
      "Optimization restart 7/10, f = 96.38396823785277\n",
      "Optimization restart 8/10, f = 106.80650025103739\n",
      "Optimization restart 9/10, f = 301453427.38170636\n"
     ]
    },
    {
     "name": "stderr",
     "output_type": "stream",
     "text": [
      "reconstraining parameters GP_regression.Mat52.lengthscale\n",
      "reconstraining parameters GP_regression.Mat52.variance\n",
      "reconstraining parameters GP_regression.Gaussian_noise.variance\n"
     ]
    },
    {
     "name": "stdout",
     "output_type": "stream",
     "text": [
      "Optimization restart 10/10, f = 26.416479524330107\n",
      "Optimization restart 1/10, f = 11.295112858523503\n",
      "Optimization restart 2/10, f = 22.70301653130535\n",
      "Optimization restart 3/10, f = 20.65948503453925\n",
      "Optimization restart 4/10, f = 20.663913188177467\n",
      "Optimization restart 5/10, f = 27.63530460768666\n",
      "Optimization restart 6/10, f = 20.775697837110087\n",
      "Optimization restart 7/10, f = 210923543.32219368\n",
      "Optimization restart 8/10, f = 26.71259571541462\n",
      "Optimization restart 9/10, f = 22.703016531274884\n",
      "Optimization restart 10/10, f = 11.295076263943036\n",
      "(4_w,9)-aCMA-ES (mu_w=2.8,w_1=49%) in dimension 6 (seed=428988, Tue Aug 25 00:17:02 2020)\n",
      "Iterat #Fevals   function value  axis ratio  sigma  min&max std  t[m:s]\n",
      "    1      9 -5.030022718663374e-02 1.0e+00 2.50e-01  2e-01  3e-01 0:00.1\n",
      "    2     18 -5.546572774051461e-02 1.3e+00 2.89e-01  3e-01  4e-01 0:00.2\n",
      "    3     27 -4.971340430016014e-02 1.7e+00 2.74e-01  2e-01  3e-01 0:00.3\n"
     ]
    },
    {
     "name": "stderr",
     "output_type": "stream",
     "text": [
      " /home/finley/miniconda3/envs/testsuite/lib/python3.8/site-packages/cma/utilities/utils.py:329: UserWarning:function_values is not a list of scalars,\n",
      "                        the first element equals [0.33110705] with non-scalar type <class 'numpy.ndarray'>.\n",
      "                        Using now ``[v[0] for v in function_values]`` instead (further warnings are suppressed) ()\n",
      " /home/finley/miniconda3/envs/testsuite/lib/python3.8/site-packages/cma/utilities/utils.py:329: UserWarning:function_values is not a list of scalars,\n",
      "                        the first element equals [-0.03828368] with non-scalar type <class 'numpy.ndarray'>.\n",
      "                        Using now ``[v[0] for v in function_values]`` instead (further warnings are suppressed) ()\n"
     ]
    },
    {
     "name": "stdout",
     "output_type": "stream",
     "text": [
      "   33    297 -8.463122013884061e-02 8.7e+00 2.06e-01  5e-02  4e-01 0:03.3\n",
      "   74    666 -8.491849621969538e-02 6.1e+01 5.36e-02  2e-03  8e-02 0:07.4\n",
      "  100    900 -8.493403042279080e-02 1.1e+02 3.75e-02  8e-04  5e-02 0:09.9\n",
      "  157   1413 -8.493420217280612e-02 6.9e+02 7.87e-04  3e-06  1e-03 0:16.1\n",
      "  200   1800 -8.493420222600512e-02 2.1e+04 4.20e-03  6e-06  5e-02 0:20.7\n",
      "NOTE (module=cma, iteration=203):  \n",
      "condition in coordinate system exceeded 1.1e+08, rescaled to 1.0e+00, \n",
      "condition changed from 7.0e+08 to 7.8e+02\n",
      "  266   2394 -8.493420353823478e-02 1.3e+01 5.02e-04  1e-07  3e-03 0:27.4\n"
     ]
    },
    {
     "name": "stderr",
     "output_type": "stream",
     "text": [
      "reconstraining parameters GP_regression.Mat52.lengthscale\n",
      "reconstraining parameters GP_regression.Mat52.variance\n",
      "reconstraining parameters GP_regression.Gaussian_noise.variance\n"
     ]
    },
    {
     "name": "stdout",
     "output_type": "stream",
     "text": [
      "termination on tolfun=1e-11 (Tue Aug 25 00:17:30 2020)\n",
      "final/bestever f-value = -8.493420e-02 -8.493420e-02\n",
      "incumbent solution: [0.0024014704301357085, 2.1287570859236102, 5.9999994290100345, 6.254825186222712, 5.66682752430076, 4.6219583915799705]\n",
      "std deviation: [2.492471715687025e-07, 1.1058415524496457e-07, 0.00311719774169864, 0.002499403410841776, 4.7502714949419763e-07, 5.005545080801337e-06]\n",
      "Optimization restart 1/10, f = 20.504372566977942\n",
      "Optimization restart 2/10, f = 351915509.2284594\n",
      "Optimization restart 3/10, f = 51.6970105749931\n",
      "Optimization restart 4/10, f = 24.121955083719236\n",
      "Optimization restart 5/10, f = 118.19982039243128\n",
      "Optimization restart 6/10, f = 351895370.5316425\n",
      "Optimization restart 7/10, f = 21.180946149909126\n",
      "Optimization restart 8/10, f = 40.35965720272445\n",
      "Optimization restart 9/10, f = 100.77033026956683\n"
     ]
    },
    {
     "name": "stderr",
     "output_type": "stream",
     "text": [
      "reconstraining parameters GP_regression.Mat52.lengthscale\n",
      "reconstraining parameters GP_regression.Mat52.variance\n",
      "reconstraining parameters GP_regression.Gaussian_noise.variance\n"
     ]
    },
    {
     "name": "stdout",
     "output_type": "stream",
     "text": [
      "Optimization restart 10/10, f = 48.48854540901873\n",
      "Optimization restart 1/10, f = 12.427420639612071\n",
      "Optimization restart 2/10, f = 24.12195534095553\n",
      "Optimization restart 3/10, f = 225432975.20385244\n",
      "Optimization restart 4/10, f = 113.48190651672722\n",
      "Optimization restart 5/10, f = 103.9034639957081\n",
      "Optimization restart 6/10, f = 108.72305448116899\n",
      "Optimization restart 7/10, f = 113.48190651672722\n",
      "Optimization restart 8/10, f = 93.47478918908271\n",
      "Optimization restart 9/10, f = 143.05794998468957\n",
      "Optimization restart 10/10, f = 113.48190651672665\n",
      "(4_w,9)-aCMA-ES (mu_w=2.8,w_1=49%) in dimension 6 (seed=386911, Tue Aug 25 00:17:32 2020)\n",
      "Iterat #Fevals   function value  axis ratio  sigma  min&max std  t[m:s]\n",
      "    1      9 -1.397226728708656e-01 1.0e+00 2.68e-01  3e-01  3e-01 0:00.1\n",
      "    2     18 -1.726780608138849e-01 1.4e+00 2.92e-01  3e-01  3e-01 0:00.2\n"
     ]
    },
    {
     "name": "stderr",
     "output_type": "stream",
     "text": [
      " /home/finley/miniconda3/envs/testsuite/lib/python3.8/site-packages/cma/utilities/utils.py:329: UserWarning:function_values is not a list of scalars,\n",
      "                        the first element equals [0.54548397] with non-scalar type <class 'numpy.ndarray'>.\n",
      "                        Using now ``[v[0] for v in function_values]`` instead (further warnings are suppressed) ()\n",
      " /home/finley/miniconda3/envs/testsuite/lib/python3.8/site-packages/cma/utilities/utils.py:329: UserWarning:function_values is not a list of scalars,\n",
      "                        the first element equals [-0.09862898] with non-scalar type <class 'numpy.ndarray'>.\n",
      "                        Using now ``[v[0] for v in function_values]`` instead (further warnings are suppressed) ()\n"
     ]
    },
    {
     "name": "stdout",
     "output_type": "stream",
     "text": [
      "    3     27 -1.379969476894298e-01 1.4e+00 2.93e-01  3e-01  3e-01 0:00.3\n",
      "   33    297 -1.824947946953119e-01 1.3e+01 1.69e-01  2e-02  2e-01 0:03.4\n",
      "   67    603 -1.863505821288645e-01 7.4e+01 1.52e-01  5e-03  3e-01 0:07.4\n",
      "  100    900 -1.863901851292282e-01 2.3e+02 1.48e-02  1e-04  3e-02 0:10.7\n",
      "  163   1467 -1.863902507462736e-01 4.3e+03 2.22e-04  3e-07  9e-04 0:16.7\n",
      "  176   1584 -1.863902507479529e-01 9.8e+03 2.57e-04  2e-07  2e-03 0:18.0\n"
     ]
    },
    {
     "name": "stderr",
     "output_type": "stream",
     "text": [
      "reconstraining parameters GP_regression.Mat52.lengthscale\n",
      "reconstraining parameters GP_regression.Mat52.variance\n",
      "reconstraining parameters GP_regression.Gaussian_noise.variance\n"
     ]
    },
    {
     "name": "stdout",
     "output_type": "stream",
     "text": [
      "termination on tolfun=1e-11 (Tue Aug 25 00:17:50 2020)\n",
      "final/bestever f-value = -1.863903e-01 -1.863903e-01\n",
      "incumbent solution: [0.9181750521375839, 2.2172751446270045, 3.867743850717822, 7.307745224920449, 4.090953054462428, 5.73983106205935]\n",
      "std deviation: [2.0921170017338418e-07, 3.7216592325870187e-07, 0.00048271983812111726, 0.0016258212999855374, 3.601284958221805e-06, 1.9108122973651777e-05]\n",
      "Optimization restart 1/10, f = 21.411000984101662\n",
      "Optimization restart 2/10, f = 38.83326976666881\n",
      "Optimization restart 3/10, f = 120.15731278241705\n",
      "Optimization restart 4/10, f = 28.76409036660288\n",
      "Optimization restart 5/10, f = 422246665.2669134\n",
      "Optimization restart 6/10, f = 422234471.9898532\n",
      "Optimization restart 7/10, f = 25.540800415361673\n",
      "Optimization restart 8/10, f = 45.1124495982877\n"
     ]
    },
    {
     "name": "stderr",
     "output_type": "stream",
     "text": [
      "reconstraining parameters GP_regression.Mat52.lengthscale\n",
      "reconstraining parameters GP_regression.Mat52.variance\n",
      "reconstraining parameters GP_regression.Gaussian_noise.variance\n"
     ]
    },
    {
     "name": "stdout",
     "output_type": "stream",
     "text": [
      "Optimization restart 9/10, f = 101.69807148704551\n",
      "Optimization restart 10/10, f = 24.48620044696049\n",
      "Optimization restart 1/10, f = 15.469389702579276\n",
      "Optimization restart 2/10, f = 21.952269768295615\n",
      "Optimization restart 3/10, f = 21.952589914385324\n",
      "Optimization restart 4/10, f = 110.42796003282375\n",
      "Optimization restart 5/10, f = 25.54089359768411\n",
      "Optimization restart 6/10, f = 25.540893878187003\n",
      "Optimization restart 7/10, f = 120.15731278241705\n",
      "Optimization restart 8/10, f = 25.540893597680906\n",
      "Optimization restart 9/10, f = 25.54089359768411\n",
      "Optimization restart 10/10, f = 19.435152273310734\n",
      "(4_w,9)-aCMA-ES (mu_w=2.8,w_1=49%) in dimension 6 (seed=428071, Tue Aug 25 00:17:53 2020)\n",
      "Iterat #Fevals   function value  axis ratio  sigma  min&max std  t[m:s]\n",
      "    1      9 -1.528408370324863e-03 1.0e+00 3.05e-01  3e-01  3e-01 0:00.1\n",
      "    2     18 -0.000000000000000e+00 1.2e+00 3.64e-01  3e-01  4e-01 0:00.2\n"
     ]
    },
    {
     "name": "stderr",
     "output_type": "stream",
     "text": [
      " /home/finley/miniconda3/envs/testsuite/lib/python3.8/site-packages/cma/utilities/utils.py:329: UserWarning:function_values is not a list of scalars,\n",
      "                        the first element equals [0.28932012] with non-scalar type <class 'numpy.ndarray'>.\n",
      "                        Using now ``[v[0] for v in function_values]`` instead (further warnings are suppressed) ()\n"
     ]
    },
    {
     "name": "stdout",
     "output_type": "stream",
     "text": [
      "    3     27 -2.748870369306822e-05 1.3e+00 3.64e-01  3e-01  4e-01 0:00.3\n",
      "   31    279 -3.370029615199943e-03 4.8e+00 2.01e-01  7e-02  2e-01 0:03.4\n",
      "   67    603 -4.402707306664144e-03 4.6e+01 1.07e-01  4e-03  1e-01 0:07.5\n",
      "  100    900 -4.421607709097941e-03 1.8e+02 1.76e-02  2e-04  3e-02 0:11.2\n",
      "  153   1377 -4.421880624818408e-03 3.5e+03 7.75e-04  1e-06  3e-03 0:17.3\n",
      "  176   1584 -4.421880630291142e-03 1.3e+04 1.81e-04  1e-07  1e-03 0:20.3\n"
     ]
    },
    {
     "name": "stderr",
     "output_type": "stream",
     "text": [
      "reconstraining parameters GP_regression.Mat52.lengthscale\n",
      "reconstraining parameters GP_regression.Mat52.variance\n",
      "reconstraining parameters GP_regression.Gaussian_noise.variance\n"
     ]
    },
    {
     "name": "stdout",
     "output_type": "stream",
     "text": [
      "termination on tolfun=1e-11 (Tue Aug 25 00:18:14 2020)\n",
      "final/bestever f-value = -4.421881e-03 -8.347614e-03\n",
      "incumbent solution: [1.7813661785902914, 0.397707246465533, 4.407941494807764, 2.7675229170934394, 2.831172828434167, 6.555247152900844]\n",
      "std deviation: [1.3915231169278895e-07, 5.95378538589201e-07, 0.0001333976788020339, 0.0013166776904371888, 8.925841589950886e-06, 8.378712381594007e-06]\n",
      "Optimization restart 1/10, f = 22.22555045096904\n",
      "Optimization restart 2/10, f = 24.038226326215923\n",
      "Optimization restart 3/10, f = 26.959832265369975\n",
      "Optimization restart 4/10, f = 24.288846074033764\n",
      "Optimization restart 5/10, f = 50.80132114666288\n",
      "Optimization restart 6/10, f = 126.8327190481069\n",
      "Optimization restart 7/10, f = 126.83271904810675\n",
      "Optimization restart 8/10, f = 948959.0455864146\n"
     ]
    },
    {
     "name": "stderr",
     "output_type": "stream",
     "text": [
      "reconstraining parameters GP_regression.Mat52.lengthscale\n"
     ]
    },
    {
     "name": "stdout",
     "output_type": "stream",
     "text": [
      "Optimization restart 9/10, f = 26.95966154075449\n",
      "Optimization restart 10/10, f = 48.64335895934475\n"
     ]
    },
    {
     "name": "stderr",
     "output_type": "stream",
     "text": [
      "reconstraining parameters GP_regression.Mat52.variance\n",
      "reconstraining parameters GP_regression.Gaussian_noise.variance\n"
     ]
    },
    {
     "name": "stdout",
     "output_type": "stream",
     "text": [
      "Optimization restart 1/10, f = 16.023623150261756\n",
      "Optimization restart 2/10, f = 126.8327190481069\n",
      "Optimization restart 3/10, f = 34.97944804820067\n",
      "Optimization restart 4/10, f = 25.463066137637554\n",
      "Optimization restart 5/10, f = 119.57987562917423\n",
      "Optimization restart 6/10, f = 20.90343021559898\n",
      "Optimization restart 7/10, f = 24.88323447248049\n",
      "Optimization restart 8/10, f = 78.12434282314359\n",
      "Optimization restart 9/10, f = 26.959831922189572\n",
      "Optimization restart 10/10, f = 948959.0455864148\n",
      "(4_w,9)-aCMA-ES (mu_w=2.8,w_1=49%) in dimension 6 (seed=416434, Tue Aug 25 00:18:17 2020)\n",
      "Iterat #Fevals   function value  axis ratio  sigma  min&max std  t[m:s]\n",
      "    1      9 9.667961619757348e-01 1.0e+00 2.44e-01  2e-01  3e-01 0:00.1\n",
      "    2     18 7.075289648635044e-01 1.2e+00 2.65e-01  2e-01  3e-01 0:00.2\n",
      "    3     27 -1.211120821078127e-02 1.4e+00 3.05e-01  3e-01  4e-01 0:00.3\n"
     ]
    },
    {
     "name": "stderr",
     "output_type": "stream",
     "text": [
      " /home/finley/miniconda3/envs/testsuite/lib/python3.8/site-packages/cma/utilities/utils.py:329: UserWarning:function_values is not a list of scalars,\n",
      "                        the first element equals [1.12588656] with non-scalar type <class 'numpy.ndarray'>.\n",
      "                        Using now ``[v[0] for v in function_values]`` instead (further warnings are suppressed) ()\n",
      " /home/finley/miniconda3/envs/testsuite/lib/python3.8/site-packages/cma/utilities/utils.py:329: UserWarning:function_values is not a list of scalars,\n",
      "                        the first element equals [1.01583619] with non-scalar type <class 'numpy.ndarray'>.\n",
      "                        Using now ``[v[0] for v in function_values]`` instead (further warnings are suppressed) ()\n"
     ]
    },
    {
     "name": "stdout",
     "output_type": "stream",
     "text": [
      "   34    306 -2.069739645316979e-01 1.7e+01 4.54e-01  7e-02  1e+00 0:03.3\n",
      "   66    594 -2.851254512094470e-01 2.3e+01 1.14e-01  8e-03  2e-01 0:07.4\n",
      "  100    900 -2.854388382429445e-01 7.7e+01 5.76e-03  1e-04  9e-03 0:11.6\n",
      "  152   1368 -2.854392613875687e-01 4.5e+02 4.89e-05  2e-07  9e-05 0:17.6\n",
      "  166   1494 -2.854392613881156e-01 1.0e+03 3.07e-05  8e-08  8e-05 0:19.3\n"
     ]
    },
    {
     "name": "stderr",
     "output_type": "stream",
     "text": [
      "reconstraining parameters GP_regression.Mat52.lengthscale\n",
      "reconstraining parameters GP_regression.Mat52.variance\n",
      "reconstraining parameters GP_regression.Gaussian_noise.variance\n"
     ]
    },
    {
     "name": "stdout",
     "output_type": "stream",
     "text": [
      "termination on tolfun=1e-11 (Tue Aug 25 00:18:36 2020)\n",
      "final/bestever f-value = -2.854393e-01 -2.854393e-01\n",
      "incumbent solution: [0.6413543070030052, 1.876201225918401, 2.9000614924977293, 6.393714544747349, 4.188093798474972, 9.129865031371225e-14]\n",
      "std deviation: [8.312828117335566e-08, 1.6653498618895063e-07, 7.821418567753134e-05, 3.75682944041264e-05, 1.1759284929627026e-06, 4.783585245808368e-07]\n",
      "Optimization restart 1/10, f = 24.415996430538215\n",
      "Optimization restart 2/10, f = 55.87341487499119\n",
      "Optimization restart 3/10, f = 140.0656917789315\n",
      "Optimization restart 4/10, f = 998904.2585120157\n",
      "Optimization restart 5/10, f = 28.37877066409345\n",
      "Optimization restart 6/10, f = 27.03052600723335\n",
      "Optimization restart 7/10, f = 133.50812531379674\n",
      "Optimization restart 8/10, f = 28.37877066409347\n"
     ]
    },
    {
     "name": "stderr",
     "output_type": "stream",
     "text": [
      "reconstraining parameters GP_regression.Mat52.lengthscale\n",
      "reconstraining parameters GP_regression.Mat52.variance\n",
      "reconstraining parameters GP_regression.Gaussian_noise.variance\n"
     ]
    },
    {
     "name": "stdout",
     "output_type": "stream",
     "text": [
      "Optimization restart 9/10, f = 27.295791671748106\n",
      "Optimization restart 10/10, f = 28.378770664071162\n",
      "Optimization restart 1/10, f = 18.973107811802997\n",
      "Optimization restart 2/10, f = 133.50812531379674\n",
      "Optimization restart 3/10, f = 49.50397965842091\n",
      "Optimization restart 4/10, f = 28.378770664093455\n",
      "Optimization restart 5/10, f = 129.0622339924397\n",
      "Optimization restart 6/10, f = 28.378769756448897\n",
      "Optimization restart 7/10, f = 28.37877066409345\n",
      "Optimization restart 8/10, f = 28.378770664092954\n",
      "Optimization restart 9/10, f = 28.205431498463817\n",
      "Optimization restart 10/10, f = 26.41765956796638\n",
      "(4_w,9)-aCMA-ES (mu_w=2.8,w_1=49%) in dimension 6 (seed=333799, Tue Aug 25 00:18:39 2020)\n",
      "Iterat #Fevals   function value  axis ratio  sigma  min&max std  t[m:s]\n",
      "    1      9 -4.934739586385506e-02 1.0e+00 2.24e-01  2e-01  2e-01 0:00.1\n",
      "    2     18 -1.163581787799330e-01 1.2e+00 2.67e-01  2e-01  3e-01 0:00.3\n"
     ]
    },
    {
     "name": "stderr",
     "output_type": "stream",
     "text": [
      " /home/finley/miniconda3/envs/testsuite/lib/python3.8/site-packages/cma/utilities/utils.py:329: UserWarning:function_values is not a list of scalars,\n",
      "                        the first element equals [-0.01960497] with non-scalar type <class 'numpy.ndarray'>.\n",
      "                        Using now ``[v[0] for v in function_values]`` instead (further warnings are suppressed) ()\n",
      " /home/finley/miniconda3/envs/testsuite/lib/python3.8/site-packages/cma/utilities/utils.py:329: UserWarning:function_values is not a list of scalars,\n",
      "                        the first element equals [-0.07317194] with non-scalar type <class 'numpy.ndarray'>.\n",
      "                        Using now ``[v[0] for v in function_values]`` instead (further warnings are suppressed) ()\n"
     ]
    },
    {
     "name": "stdout",
     "output_type": "stream",
     "text": [
      "    3     27 -1.226316098644760e-01 1.3e+00 2.92e-01  3e-01  3e-01 0:00.4\n",
      "   25    225 -1.416440187447896e-01 3.3e+00 1.99e-01  9e-02  2e-01 0:03.5\n",
      "   53    477 -1.501650459697750e-01 7.9e+00 1.73e-01  5e-02  2e-01 0:07.5\n",
      "   91    819 -1.664610716852877e-01 1.5e+01 6.79e-01  7e-02  8e-01 0:12.7\n",
      "  100    900 -1.820201414321465e-01 2.8e+01 9.05e-01  6e-02  1e+00 0:13.9\n",
      "  144   1296 -1.852167072085176e-01 3.0e+02 8.82e-02  4e-04  1e-01 0:20.9\n",
      "  187   1683 -1.852168062193200e-01 2.0e+03 7.15e-03  6e-06  1e-02 0:28.9\n",
      "  200   1800 -1.852168062439110e-01 2.5e+03 2.94e-03  2e-06  5e-03 0:31.1\n",
      "NOTE (module=cma, iteration=225):  \n",
      "condition in coordinate system exceeded 1.1e+08, rescaled to 1.0e+00, \n",
      "condition changed from 1.3e+08 to 2.4e+01\n",
      "  249   2241 -1.852168064127278e-01 2.0e+01 3.20e-02  3e-06  1e-01 0:41.2\n",
      "  300   2700 -1.852168075133824e-01 7.6e+01 2.79e-02  5e-07  2e-01 0:48.8\n",
      "  335   3015 -1.852168075272775e-01 1.1e+02 2.52e-02  2e-07  7e-02 0:55.1\n"
     ]
    },
    {
     "name": "stderr",
     "output_type": "stream",
     "text": [
      "reconstraining parameters GP_regression.Mat52.lengthscale\n",
      "reconstraining parameters GP_regression.Mat52.variance\n",
      "reconstraining parameters GP_regression.Gaussian_noise.variance\n"
     ]
    },
    {
     "name": "stdout",
     "output_type": "stream",
     "text": [
      "termination on tolfun=1e-11 (Tue Aug 25 00:19:34 2020)\n",
      "final/bestever f-value = -1.852168e-01 -1.852168e-01\n",
      "incumbent solution: [0.6068997166288502, 3.974483978571492, 1.6532686996981418, 5.103777852413129, 9.545617039307833, 11.999999999722144]\n",
      "std deviation: [4.0665716250620186e-07, 1.539472339814916e-07, 0.0532198444583345, 0.026752066641938823, 0.07214268778376495, 2.1026758874221175e-05]\n",
      "Optimization restart 1/10, f = 25.80936075361405\n",
      "Optimization restart 2/10, f = 29.797709197298143\n",
      "Optimization restart 3/10, f = 29.797709197298165\n",
      "Optimization restart 4/10, f = 140.18353157948656\n",
      "Optimization restart 5/10, f = 123.41302914063668\n",
      "Optimization restart 6/10, f = 29.79740895969453\n",
      "Optimization restart 7/10, f = 28.84422026524711\n",
      "Optimization restart 8/10, f = 60.447956604381815\n"
     ]
    },
    {
     "name": "stderr",
     "output_type": "stream",
     "text": [
      "reconstraining parameters GP_regression.Mat52.lengthscale\n",
      "reconstraining parameters GP_regression.Mat52.variance\n",
      "reconstraining parameters GP_regression.Gaussian_noise.variance\n"
     ]
    },
    {
     "name": "stdout",
     "output_type": "stream",
     "text": [
      "Optimization restart 9/10, f = 29.03134532824693\n",
      "Optimization restart 10/10, f = 124.92868142021243\n",
      "Optimization restart 1/10, f = 17.94206693482628\n",
      "Optimization restart 2/10, f = 374317638.56577814\n",
      "Optimization restart 3/10, f = 132.89104384360965\n",
      "Optimization restart 4/10, f = 140.18353157948656\n",
      "Optimization restart 5/10, f = 32.66348428919934\n",
      "Optimization restart 6/10, f = 23.758106325211607\n",
      "Optimization restart 7/10, f = 29.584133191438283\n",
      "Optimization restart 8/10, f = 32.03543653038925\n",
      "Optimization restart 9/10, f = 374007130.8188543\n",
      "Optimization restart 10/10, f = 140.18353157948656\n",
      "(4_w,9)-aCMA-ES (mu_w=2.8,w_1=49%) in dimension 6 (seed=405048, Tue Aug 25 00:19:39 2020)\n",
      "Iterat #Fevals   function value  axis ratio  sigma  min&max std  t[m:s]\n",
      "    1      9 1.599645466445331e+00 1.0e+00 2.35e-01  2e-01  2e-01 0:00.1\n",
      "    2     18 4.058860458592475e-01 1.2e+00 2.63e-01  2e-01  3e-01 0:00.2\n"
     ]
    },
    {
     "name": "stderr",
     "output_type": "stream",
     "text": [
      " /home/finley/miniconda3/envs/testsuite/lib/python3.8/site-packages/cma/utilities/utils.py:329: UserWarning:function_values is not a list of scalars,\n",
      "                        the first element equals [2.09846797] with non-scalar type <class 'numpy.ndarray'>.\n",
      "                        Using now ``[v[0] for v in function_values]`` instead (further warnings are suppressed) ()\n",
      " /home/finley/miniconda3/envs/testsuite/lib/python3.8/site-packages/cma/utilities/utils.py:329: UserWarning:function_values is not a list of scalars,\n",
      "                        the first element equals [1.84993721] with non-scalar type <class 'numpy.ndarray'>.\n",
      "                        Using now ``[v[0] for v in function_values]`` instead (further warnings are suppressed) ()\n"
     ]
    },
    {
     "name": "stdout",
     "output_type": "stream",
     "text": [
      "    3     27 8.616363356416814e-01 1.5e+00 2.83e-01  3e-01  3e-01 0:00.4\n",
      "   26    234 -2.401622886647876e-01 3.9e+00 5.04e-01  3e-01  7e-01 0:03.5\n",
      "   42    378 -2.125200052802942e-01 7.0e+00 2.43e-01  8e-02  4e-01 0:07.5\n",
      "   67    603 -2.302542952287592e-01 3.3e+01 1.59e-01  1e-02  3e-01 0:12.5\n",
      "   94    846 -2.330309304139753e-01 1.1e+02 4.25e-02  8e-04  6e-02 0:18.8\n",
      "  100    900 -2.330361161975385e-01 1.1e+02 2.41e-02  3e-04  3e-02 0:20.5\n",
      "  140   1260 -2.330365690054090e-01 6.4e+02 1.70e-03  4e-06  3e-03 0:28.6\n",
      "  182   1638 -2.330365690916703e-01 5.8e+03 1.26e-04  5e-08  3e-04 0:37.7\n",
      "  186   1674 -2.330365690916762e-01 6.8e+03 1.66e-04  6e-08  4e-04 0:38.9\n"
     ]
    },
    {
     "name": "stderr",
     "output_type": "stream",
     "text": [
      "reconstraining parameters GP_regression.Mat52.lengthscale\n",
      "reconstraining parameters GP_regression.Mat52.variance\n",
      "reconstraining parameters GP_regression.Gaussian_noise.variance\n"
     ]
    },
    {
     "name": "stdout",
     "output_type": "stream",
     "text": [
      "termination on tolfun=1e-11 (Tue Aug 25 00:20:18 2020)\n",
      "final/bestever f-value = -2.330366e-01 -2.401623e-01\n",
      "incumbent solution: [1.9999999999999984, 0.3589431949220531, 5.149099059235261, 3.939031864799222, 4.167829297109517, 8.608751226770838]\n",
      "std deviation: [1.8788710965235502e-07, 5.994973382084996e-08, 0.00015276304899415516, 0.0003905205567715838, 9.121850595119674e-05, 5.846555428774512e-06]\n",
      "Optimization restart 1/10, f = 26.059840963588996\n",
      "Optimization restart 2/10, f = 1098794.6843632169\n",
      "Optimization restart 3/10, f = 30.43224686886684\n",
      "Optimization restart 4/10, f = 49.46456834433625\n",
      "Optimization restart 5/10, f = 146.8589378451764\n",
      "Optimization restart 6/10, f = 562145994.1153709\n",
      "Optimization restart 7/10, f = 31.2166477305028\n",
      "Optimization restart 8/10, f = 29.007955416851388\n",
      "Optimization restart 9/10, f = 142.61844430331743\n",
      "Optimization restart 10/10, f = 565153752.090954\n"
     ]
    },
    {
     "name": "stderr",
     "output_type": "stream",
     "text": [
      "reconstraining parameters GP_regression.Mat52.lengthscale\n",
      "reconstraining parameters GP_regression.Mat52.variance\n",
      "reconstraining parameters GP_regression.Gaussian_noise.variance\n"
     ]
    },
    {
     "name": "stdout",
     "output_type": "stream",
     "text": [
      "Optimization restart 1/10, f = 18.2637015982268\n",
      "Optimization restart 2/10, f = 31.21622294881311\n",
      "Optimization restart 3/10, f = 19.992012310623373\n",
      "Optimization restart 4/10, f = 29.16592120194926\n",
      "Optimization restart 5/10, f = 405949157.51160973\n",
      "Optimization restart 6/10, f = 146.8589378451764\n",
      "Optimization restart 7/10, f = 131.790070729633\n",
      "Optimization restart 8/10, f = 31.216647730502796\n",
      "Optimization restart 9/10, f = 145.34457193294082\n",
      "Optimization restart 10/10, f = 60.3632522094676\n",
      "(4_w,9)-aCMA-ES (mu_w=2.8,w_1=49%) in dimension 6 (seed=443696, Tue Aug 25 00:20:24 2020)\n",
      "Iterat #Fevals   function value  axis ratio  sigma  min&max std  t[m:s]\n",
      "    1      9 3.603295990939663e-01 1.0e+00 2.61e-01  3e-01  3e-01 0:00.2\n",
      "    2     18 2.952177784381775e-01 1.3e+00 2.81e-01  3e-01  3e-01 0:00.3\n"
     ]
    },
    {
     "name": "stderr",
     "output_type": "stream",
     "text": [
      " /home/finley/miniconda3/envs/testsuite/lib/python3.8/site-packages/cma/utilities/utils.py:329: UserWarning:function_values is not a list of scalars,\n",
      "                        the first element equals [2.69594994] with non-scalar type <class 'numpy.ndarray'>.\n",
      "                        Using now ``[v[0] for v in function_values]`` instead (further warnings are suppressed) ()\n",
      " /home/finley/miniconda3/envs/testsuite/lib/python3.8/site-packages/cma/utilities/utils.py:329: UserWarning:function_values is not a list of scalars,\n",
      "                        the first element equals [1.27825065] with non-scalar type <class 'numpy.ndarray'>.\n",
      "                        Using now ``[v[0] for v in function_values]`` instead (further warnings are suppressed) ()\n"
     ]
    },
    {
     "name": "stdout",
     "output_type": "stream",
     "text": [
      "    3     27 3.332539195255364e-01 1.4e+00 3.07e-01  3e-01  4e-01 0:00.5\n",
      "   22    198 1.407223396355446e-01 3.9e+00 1.31e-01  4e-02  1e-01 0:03.7\n",
      "   45    405 1.028122109505583e-01 1.2e+01 5.95e-02  6e-03  6e-02 0:07.8\n",
      "   80    720 1.028124268024688e-01 1.1e+02 8.34e-02  2e-03  1e-01 0:12.9\n",
      "  100    900 1.013400476141368e-01 2.0e+02 4.03e-02  3e-04  5e-02 0:15.8\n",
      "  141   1269 9.153346242268290e-02 2.0e+03 3.23e-01  3e-04  5e-01 0:22.9\n",
      "NOTE (module=cma, iteration=184):  \n",
      "condition in coordinate system exceeded 1.1e+08, rescaled to 1.0e+00, \n",
      "condition changed from 1.3e+08 to 2.2e+01\n",
      "  189   1701 9.106784864286954e-02 4.9e+00 6.52e-02  9e-06  1e-01 0:31.0\n",
      "  200   1800 9.106190702605410e-02 5.2e+00 3.19e-02  3e-06  5e-02 0:32.1\n",
      "  286   2574 9.105979942485898e-02 2.0e+02 2.12e-03  2e-09  3e-03 0:42.2\n",
      "  300   2700 9.105979716179347e-02 5.1e+02 1.59e-03  6e-10  2e-03 0:43.8\n",
      "NOTE (module=cma, iteration=359):  \n",
      "condition in coordinate system exceeded 1.1e+08, rescaled to 1.0e+00, \n",
      "condition changed from 2.0e+08 to 5.8e+02\n",
      "  381   3429 9.105979697313482e-02 3.6e+01 5.13e-05  3e-13  1e-04 0:53.6\n"
     ]
    },
    {
     "name": "stderr",
     "output_type": "stream",
     "text": [
      "reconstraining parameters GP_regression.Mat52.lengthscale\n",
      "reconstraining parameters GP_regression.Mat52.variance\n",
      "reconstraining parameters GP_regression.Gaussian_noise.variance\n"
     ]
    },
    {
     "name": "stdout",
     "output_type": "stream",
     "text": [
      "termination on tolfun=1e-11 (Tue Aug 25 00:21:19 2020)\n",
      "final/bestever f-value = 9.105980e-02 9.105980e-02\n",
      "incumbent solution: [1.9999999999999778, 1.239697642273174, 1.320991711022459, 4.452494172677979, 5.229699251558007, 11.999999999998098]\n",
      "std deviation: [1.73736932247779e-07, 3.0808164554529023e-13, 3.0182724753027473e-05, 0.00013248432376834513, 5.274263867733631e-05, 2.5402164219925837e-06]\n",
      "Optimization restart 1/10, f = 27.53609363206069\n",
      "Optimization restart 2/10, f = 153.53434411086621\n",
      "Optimization restart 3/10, f = 32.63558626370747\n",
      "Optimization restart 4/10, f = 30.185292962621048\n",
      "Optimization restart 5/10, f = 130.65905257436924\n",
      "Optimization restart 6/10, f = 31.56865103126561\n",
      "Optimization restart 7/10, f = 153.53434411086621\n",
      "Optimization restart 8/10, f = 153.53434411086621\n",
      "Optimization restart 9/10, f = 147.56055727121213\n"
     ]
    },
    {
     "name": "stderr",
     "output_type": "stream",
     "text": [
      "reconstraining parameters GP_regression.Mat52.lengthscale\n",
      "reconstraining parameters GP_regression.Mat52.variance\n",
      "reconstraining parameters GP_regression.Gaussian_noise.variance\n"
     ]
    },
    {
     "name": "stdout",
     "output_type": "stream",
     "text": [
      "Optimization restart 10/10, f = 63.222031773320715\n",
      "Optimization restart 1/10, f = 19.63129164863057\n",
      "Optimization restart 2/10, f = 14.268195927403093\n",
      "Optimization restart 3/10, f = 153.53434411086621\n",
      "Optimization restart 4/10, f = 70.77332832899036\n",
      "Optimization restart 5/10, f = 12.745364953139694\n",
      "Optimization restart 6/10, f = 137.88071095285184\n",
      "Optimization restart 7/10, f = 145.45466003217547\n",
      "Optimization restart 8/10, f = 153.53434411086621\n",
      "Optimization restart 9/10, f = 140.52605836523838\n",
      "Optimization restart 10/10, f = 146.2897368429147\n",
      "(4_w,9)-aCMA-ES (mu_w=2.8,w_1=49%) in dimension 6 (seed=423682, Tue Aug 25 00:21:22 2020)\n",
      "Iterat #Fevals   function value  axis ratio  sigma  min&max std  t[m:s]\n",
      "    1      9 1.490749660930141e+00 1.0e+00 2.38e-01  2e-01  2e-01 0:00.2\n",
      "    2     18 2.093500633962865e+00 1.2e+00 2.38e-01  2e-01  3e-01 0:00.4\n"
     ]
    },
    {
     "name": "stderr",
     "output_type": "stream",
     "text": [
      " /home/finley/miniconda3/envs/testsuite/lib/python3.8/site-packages/cma/utilities/utils.py:329: UserWarning:function_values is not a list of scalars,\n",
      "                        the first element equals [2.50111408] with non-scalar type <class 'numpy.ndarray'>.\n",
      "                        Using now ``[v[0] for v in function_values]`` instead (further warnings are suppressed) ()\n",
      " /home/finley/miniconda3/envs/testsuite/lib/python3.8/site-packages/cma/utilities/utils.py:329: UserWarning:function_values is not a list of scalars,\n",
      "                        the first element equals [2.7603433] with non-scalar type <class 'numpy.ndarray'>.\n",
      "                        Using now ``[v[0] for v in function_values]`` instead (further warnings are suppressed) ()\n"
     ]
    },
    {
     "name": "stdout",
     "output_type": "stream",
     "text": [
      "    3     27 7.707090456966570e-01 1.4e+00 2.58e-01  2e-01  3e-01 0:00.5\n",
      "   15    135 -2.460696498298707e-01 2.4e+00 5.07e-01  4e-01  6e-01 0:03.6\n",
      "   38    342 -6.478912164431700e-01 8.6e+00 1.37e-01  3e-02  2e-01 0:07.7\n",
      "   56    504 -7.652732456940639e-01 3.4e+01 1.63e-01  1e-02  3e-01 0:12.8\n",
      "   78    702 -8.567789755078392e-01 4.3e+01 2.23e-01  8e-03  3e-01 0:18.9\n",
      "  100    900 -8.895905500166981e-01 1.3e+02 1.17e-01  2e-03  2e-01 0:24.7\n",
      "  131   1179 -8.906677083319603e-01 1.9e+02 3.99e-03  3e-05  5e-03 0:32.7\n",
      "  170   1530 -8.906681639720193e-01 4.6e+02 1.00e-04  2e-07  1e-04 0:41.8\n",
      "  200   1800 -8.906681639889396e-01 1.3e+03 3.73e-05  4e-08  5e-05 0:48.8\n",
      "  205   1845 -8.906681639894591e-01 2.0e+03 3.69e-05  3e-08  7e-05 0:50.0\n"
     ]
    },
    {
     "name": "stderr",
     "output_type": "stream",
     "text": [
      "reconstraining parameters GP_regression.Mat52.lengthscale\n",
      "reconstraining parameters GP_regression.Mat52.variance\n",
      "reconstraining parameters GP_regression.Gaussian_noise.variance\n"
     ]
    },
    {
     "name": "stdout",
     "output_type": "stream",
     "text": [
      "termination on tolfun=1e-11 (Tue Aug 25 00:22:12 2020)\n",
      "final/bestever f-value = -8.906682e-01 -8.906682e-01\n",
      "incumbent solution: [0.7183064723985411, 2.047959165223735, 3.1097057554250847, 2.6919689711902876e-13, 1.504874234141341e-13, 11.999999999997582]\n",
      "std deviation: [1.946254662149302e-07, 3.32898646602064e-08, 6.509817674781485e-05, 7.33540092703536e-07, 5.964749051618805e-07, 5.055694370677084e-06]\n",
      "Optimization restart 1/10, f = 30.274921599085566\n",
      "Optimization restart 2/10, f = 160.2097503765561\n",
      "Optimization restart 3/10, f = 27.81268453299917\n",
      "Optimization restart 4/10, f = 5675888.344807477\n",
      "Optimization restart 5/10, f = 32.94022458972278\n",
      "Optimization restart 6/10, f = 56.101179089514716\n",
      "Optimization restart 7/10, f = 52.4977290427584\n",
      "Optimization restart 8/10, f = 32.66512720785768\n",
      "Optimization restart 9/10, f = 26.273944423035974\n"
     ]
    },
    {
     "name": "stderr",
     "output_type": "stream",
     "text": [
      "reconstraining parameters GP_regression.Mat52.lengthscale\n",
      "reconstraining parameters GP_regression.Mat52.variance\n",
      "reconstraining parameters GP_regression.Gaussian_noise.variance\n"
     ]
    },
    {
     "name": "stdout",
     "output_type": "stream",
     "text": [
      "Optimization restart 10/10, f = 34.05452479691223\n",
      "Optimization restart 1/10, f = 13.567137222096388\n",
      "Optimization restart 2/10, f = 32.140522016946726\n",
      "Optimization restart 3/10, f = 32.16254036693219\n",
      "Optimization restart 4/10, f = 421244667.3542419\n",
      "Optimization restart 5/10, f = 1974626.867808242\n",
      "Optimization restart 6/10, f = 32.162540139725664\n",
      "Optimization restart 7/10, f = 1283073.5669358808\n",
      "Optimization restart 8/10, f = 21.562430018532247\n",
      "Optimization restart 9/10, f = 146.8049520288242\n",
      "Optimization restart 10/10, f = 421173745.9380796\n",
      "(4_w,9)-aCMA-ES (mu_w=2.8,w_1=49%) in dimension 6 (seed=455025, Tue Aug 25 00:22:16 2020)\n",
      "Iterat #Fevals   function value  axis ratio  sigma  min&max std  t[m:s]\n",
      "    1      9 6.104715141212034e-01 1.0e+00 2.71e-01  3e-01  3e-01 0:00.1\n",
      "    2     18 1.780453874813284e-01 1.5e+00 2.81e-01  3e-01  3e-01 0:00.2\n"
     ]
    },
    {
     "name": "stderr",
     "output_type": "stream",
     "text": [
      " /home/finley/miniconda3/envs/testsuite/lib/python3.8/site-packages/cma/utilities/utils.py:329: UserWarning:function_values is not a list of scalars,\n",
      "                        the first element equals [0.61047151] with non-scalar type <class 'numpy.ndarray'>.\n",
      "                        Using now ``[v[0] for v in function_values]`` instead (further warnings are suppressed) ()\n",
      " /home/finley/miniconda3/envs/testsuite/lib/python3.8/site-packages/cma/utilities/utils.py:329: UserWarning:function_values is not a list of scalars,\n",
      "                        the first element equals [1.58186551] with non-scalar type <class 'numpy.ndarray'>.\n",
      "                        Using now ``[v[0] for v in function_values]`` instead (further warnings are suppressed) ()\n"
     ]
    },
    {
     "name": "stdout",
     "output_type": "stream",
     "text": [
      "    3     27 -1.873927731251399e-01 1.6e+00 3.32e-01  3e-01  4e-01 0:00.4\n",
      "   21    189 -1.606680149823423e-01 6.6e+00 5.80e-01  3e-01  1e+00 0:03.4\n",
      "   45    405 -2.265872105178661e-01 1.5e+01 6.03e-02  1e-02  1e-01 0:07.5\n",
      "   73    657 -2.269504565223601e-01 4.9e+01 7.60e-03  4e-04  1e-02 0:12.7\n",
      "  100    900 -2.269506804760679e-01 1.6e+02 2.23e-03  4e-05  5e-03 0:17.0\n",
      "  144   1296 -2.269506839621263e-01 1.6e+03 1.31e-04  5e-07  5e-04 0:24.2\n",
      "NOTE (module=cma, iteration=171):  \n",
      "condition in coordinate system exceeded 1.2e+08, rescaled to 1.0e+00, \n",
      "condition changed from 2.2e+08 to 1.1e+03\n",
      "  191   1719 -2.269506851471195e-01 6.2e+01 5.29e-03  5e-06  2e-01 0:32.2\n",
      "  200   1800 -2.269506898691018e-01 1.2e+02 3.00e-02  2e-05  2e+00 0:33.8\n",
      "  257   2313 -2.269506916393633e-01 1.1e+01 9.36e-04  2e-07  8e-03 0:43.8\n",
      "  267   2403 -2.269506916397592e-01 7.8e+00 6.22e-04  1e-07  4e-03 0:45.6\n"
     ]
    },
    {
     "name": "stderr",
     "output_type": "stream",
     "text": [
      "reconstraining parameters GP_regression.Mat52.lengthscale\n",
      "reconstraining parameters GP_regression.Mat52.variance\n",
      "reconstraining parameters GP_regression.Gaussian_noise.variance\n"
     ]
    },
    {
     "name": "stdout",
     "output_type": "stream",
     "text": [
      "termination on tolfun=1e-11 (Tue Aug 25 00:23:02 2020)\n",
      "final/bestever f-value = -2.269507e-01 -2.269507e-01\n",
      "incumbent solution: [0.5817826479621131, 2.469143770246604, 0.0003546233249180649, 3.5473427920328384, 9.748427984313526, 5.424521782061555]\n",
      "std deviation: [1.0733570970498868e-07, 1.673484504761216e-07, 0.002361940271151935, 5.572089967883021e-07, 0.00433518922968329, 2.1594645096961566e-06]\n",
      "Optimization restart 1/10, f = 28.9222357881459\n",
      "Optimization restart 2/10, f = 34.3645666775944\n",
      "Optimization restart 3/10, f = 33.65905414960923\n",
      "Optimization restart 4/10, f = 35.47346333011682\n",
      "Optimization restart 5/10, f = 5879518.32344612\n",
      "Optimization restart 6/10, f = 39.845899432434905\n",
      "Optimization restart 7/10, f = 35.473463567244536\n",
      "Optimization restart 8/10, f = 59.10556221413067\n"
     ]
    },
    {
     "name": "stderr",
     "output_type": "stream",
     "text": [
      "reconstraining parameters GP_regression.Mat52.lengthscale\n",
      "reconstraining parameters GP_regression.Mat52.variance\n",
      "reconstraining parameters GP_regression.Gaussian_noise.variance\n"
     ]
    },
    {
     "name": "stdout",
     "output_type": "stream",
     "text": [
      "Optimization restart 9/10, f = 35.19715856376901\n",
      "Optimization restart 10/10, f = 35.47346333011687\n",
      "Optimization restart 1/10, f = 18.66041343283557\n",
      "Optimization restart 2/10, f = 22.775728115087283\n",
      "Optimization restart 3/10, f = 33.52955611479308\n",
      "Optimization restart 4/10, f = 160.1472141458319\n",
      "Optimization restart 5/10, f = 150.8516800796911\n",
      "Optimization restart 6/10, f = 34.941635911928785\n",
      "Optimization restart 7/10, f = 33.520736515124746\n",
      "Optimization restart 8/10, f = 166.88515664224593\n",
      "Optimization restart 9/10, f = 1248630.3231400196\n",
      "Optimization restart 10/10, f = 163.49822434888398\n",
      "(4_w,9)-aCMA-ES (mu_w=2.8,w_1=49%) in dimension 6 (seed=332403, Tue Aug 25 00:23:05 2020)\n",
      "Iterat #Fevals   function value  axis ratio  sigma  min&max std  t[m:s]\n",
      "    1      9 4.784615093164810e-01 1.0e+00 2.37e-01  2e-01  2e-01 0:00.1\n",
      "    2     18 5.052462342467370e-01 1.2e+00 2.34e-01  2e-01  3e-01 0:00.3\n"
     ]
    },
    {
     "name": "stderr",
     "output_type": "stream",
     "text": [
      " /home/finley/miniconda3/envs/testsuite/lib/python3.8/site-packages/cma/utilities/utils.py:329: UserWarning:function_values is not a list of scalars,\n",
      "                        the first element equals [0.47846151] with non-scalar type <class 'numpy.ndarray'>.\n",
      "                        Using now ``[v[0] for v in function_values]`` instead (further warnings are suppressed) ()\n",
      " /home/finley/miniconda3/envs/testsuite/lib/python3.8/site-packages/cma/utilities/utils.py:329: UserWarning:function_values is not a list of scalars,\n",
      "                        the first element equals [1.4232412] with non-scalar type <class 'numpy.ndarray'>.\n",
      "                        Using now ``[v[0] for v in function_values]`` instead (further warnings are suppressed) ()\n"
     ]
    },
    {
     "name": "stdout",
     "output_type": "stream",
     "text": [
      "    3     27 4.520715847291088e-01 1.4e+00 2.74e-01  2e-01  3e-01 0:00.4\n",
      "   22    198 -3.681182414605333e-02 5.4e+00 2.18e-01  7e-02  3e-01 0:03.5\n",
      "   44    396 -1.083313136099389e-01 2.2e+01 7.80e-01  1e-01  2e+00 0:07.7\n",
      "   65    585 -1.101102722762022e-01 3.4e+01 5.47e-01  3e-02  1e+00 0:12.7\n",
      "   99    891 -1.124769067459577e-01 6.6e+01 9.08e-02  2e-03  1e-01 0:18.8\n",
      "  100    900 -1.124747628189733e-01 6.5e+01 9.25e-02  2e-03  1e-01 0:19.0\n",
      "  144   1296 -1.124804879948225e-01 4.6e+02 4.64e-03  2e-05  9e-03 0:27.1\n",
      "  192   1728 -1.124804887377853e-01 3.1e+03 2.94e-04  3e-07  7e-04 0:36.1\n",
      "  200   1800 -1.124804887399931e-01 5.3e+03 6.51e-04  6e-07  3e-03 0:37.6\n"
     ]
    },
    {
     "name": "stderr",
     "output_type": "stream",
     "text": [
      "reconstraining parameters GP_regression.Mat52.lengthscale\n",
      "reconstraining parameters GP_regression.Mat52.variance\n",
      "reconstraining parameters GP_regression.Gaussian_noise.variance\n"
     ]
    },
    {
     "name": "stdout",
     "output_type": "stream",
     "text": [
      "termination on tolfun=1e-11 (Tue Aug 25 00:23:43 2020)\n",
      "final/bestever f-value = -1.124805e-01 -1.124805e-01\n",
      "incumbent solution: [2.1790883202829116e-13, 2.9916620979670383, 2.8517616081211195, 1.2578659612439107, 1.3173772810748279, 2.472380927927088]\n",
      "std deviation: [5.966071433047522e-07, 1.4349782494418522e-06, 0.0025657353559977217, 6.610488777373555e-06, 0.0017789272823384961, 2.7704232929710402e-05]\n",
      "Optimization restart 1/10, f = 30.31818152679552\n",
      "Optimization restart 2/10, f = 160.77694849160534\n",
      "Optimization restart 3/10, f = 775594538.7002064\n",
      "Optimization restart 4/10, f = 35.780171285060334\n",
      "Optimization restart 5/10, f = 36.892397808570585\n",
      "Optimization restart 6/10, f = 35.27960054007793\n",
      "Optimization restart 7/10, f = 36.89240186332149\n",
      "Optimization restart 8/10, f = 128.62467132610524\n",
      "Optimization restart 9/10, f = 163.95585939437754\n"
     ]
    },
    {
     "name": "stderr",
     "output_type": "stream",
     "text": [
      "reconstraining parameters GP_regression.Mat52.lengthscale\n",
      "reconstraining parameters GP_regression.Mat52.variance\n",
      "reconstraining parameters GP_regression.Gaussian_noise.variance\n"
     ]
    },
    {
     "name": "stdout",
     "output_type": "stream",
     "text": [
      "Optimization restart 10/10, f = 34.90225405879755\n",
      "Optimization restart 1/10, f = 18.563336304404885\n",
      "Optimization restart 2/10, f = 17.11140430015767\n",
      "Optimization restart 3/10, f = 18.56210163459117\n",
      "Optimization restart 4/10, f = 36.31702949162227\n",
      "Optimization restart 5/10, f = 31.128431141260076\n",
      "Optimization restart 6/10, f = 2050541.4078002416\n",
      "Optimization restart 7/10, f = 158.63183353356538\n",
      "Optimization restart 8/10, f = 18.5621012369036\n",
      "Optimization restart 9/10, f = 602073828.1231618\n",
      "Optimization restart 10/10, f = 34.16068159326167\n",
      "(4_w,9)-aCMA-ES (mu_w=2.8,w_1=49%) in dimension 6 (seed=410824, Tue Aug 25 00:23:47 2020)\n",
      "Iterat #Fevals   function value  axis ratio  sigma  min&max std  t[m:s]\n",
      "    1      9 6.266098194732013e-01 1.0e+00 2.45e-01  2e-01  3e-01 0:00.1\n",
      "    2     18 5.574042652539326e-01 1.2e+00 2.37e-01  2e-01  2e-01 0:00.3\n"
     ]
    },
    {
     "name": "stderr",
     "output_type": "stream",
     "text": [
      " /home/finley/miniconda3/envs/testsuite/lib/python3.8/site-packages/cma/utilities/utils.py:329: UserWarning:function_values is not a list of scalars,\n",
      "                        the first element equals [0.62660982] with non-scalar type <class 'numpy.ndarray'>.\n",
      "                        Using now ``[v[0] for v in function_values]`` instead (further warnings are suppressed) ()\n",
      " /home/finley/miniconda3/envs/testsuite/lib/python3.8/site-packages/cma/utilities/utils.py:329: UserWarning:function_values is not a list of scalars,\n",
      "                        the first element equals [0.64651416] with non-scalar type <class 'numpy.ndarray'>.\n",
      "                        Using now ``[v[0] for v in function_values]`` instead (further warnings are suppressed) ()\n"
     ]
    },
    {
     "name": "stdout",
     "output_type": "stream",
     "text": [
      "    3     27 3.786009120017109e-01 1.4e+00 2.50e-01  2e-01  3e-01 0:00.4\n",
      "   22    198 -6.071894843687398e-02 4.5e+00 1.58e-01  5e-02  2e-01 0:03.5\n",
      "   45    405 -6.783651583001205e-02 8.9e+00 1.29e-01  3e-02  2e-01 0:07.5\n",
      "   74    666 -1.834798900276371e-01 2.3e+01 6.69e-01  5e-02  9e-01 0:12.6\n",
      "  100    900 -2.126889649310535e-01 2.3e+01 1.66e-01  7e-03  2e-01 0:17.8\n",
      "  136   1224 -2.130106290035843e-01 9.6e+01 1.20e-02  2e-04  1e-02 0:25.0\n",
      "  178   1602 -2.130118818800546e-01 4.2e+02 3.53e-04  1e-06  6e-04 0:33.1\n",
      "  200   1800 -2.130118820130422e-01 8.9e+02 5.71e-05  1e-07  1e-04 0:37.2\n",
      "  218   1962 -2.130118820137601e-01 1.6e+03 1.02e-05  1e-08  2e-05 0:40.5\n"
     ]
    },
    {
     "name": "stderr",
     "output_type": "stream",
     "text": [
      "reconstraining parameters GP_regression.Mat52.lengthscale\n",
      "reconstraining parameters GP_regression.Mat52.variance\n",
      "reconstraining parameters GP_regression.Gaussian_noise.variance\n"
     ]
    },
    {
     "name": "stdout",
     "output_type": "stream",
     "text": [
      "termination on tolfun=1e-11 (Tue Aug 25 00:24:28 2020)\n",
      "final/bestever f-value = -2.130119e-01 -2.130119e-01\n",
      "incumbent solution: [0.7307007678637686, 2.0366920552339036, 5.574111780606593, 3.9861708248114174, 2.7249257563527772e-14, 4.194351516733116]\n",
      "std deviation: [3.788666507210001e-08, 1.3614529844207909e-08, 1.883333194183485e-05, 2.2288675145337346e-07, 1.3751667163870286e-07, 4.198864397662242e-07]\n",
      "Optimization restart 1/10, f = 35.18870855555748\n",
      "Optimization restart 2/10, f = 180.23596917362562\n",
      "Optimization restart 3/10, f = 38.31134039652616\n",
      "Optimization restart 4/10, f = 35.188707717081435\n",
      "Optimization restart 5/10, f = 180.23596917362562\n",
      "Optimization restart 6/10, f = 38.31134039652733\n",
      "Optimization restart 7/10, f = 175.3656603447306\n",
      "Optimization restart 8/10, f = 167.9769023814171\n",
      "Optimization restart 9/10, f = 37.16687592839764\n"
     ]
    },
    {
     "name": "stderr",
     "output_type": "stream",
     "text": [
      "reconstraining parameters GP_regression.Mat52.lengthscale\n",
      "reconstraining parameters GP_regression.Mat52.variance\n",
      "reconstraining parameters GP_regression.Gaussian_noise.variance\n"
     ]
    },
    {
     "name": "stdout",
     "output_type": "stream",
     "text": [
      "Optimization restart 10/10, f = 174.15108924963238\n",
      "Optimization restart 1/10, f = 20.385986208818714\n",
      "Optimization restart 2/10, f = 39.60802482536471\n",
      "Optimization restart 3/10, f = 173.4861070909049\n",
      "Optimization restart 4/10, f = 35.27491400532598\n",
      "Optimization restart 5/10, f = 24.15164796919141\n",
      "Optimization restart 6/10, f = 36.33454789519348\n",
      "Optimization restart 7/10, f = 37.514334855563476\n",
      "Optimization restart 8/10, f = 37.03266696265534\n",
      "Optimization restart 9/10, f = 22.087456306160433\n",
      "Optimization restart 10/10, f = 173.47269410067517\n",
      "(4_w,9)-aCMA-ES (mu_w=2.8,w_1=49%) in dimension 6 (seed=417400, Tue Aug 25 00:24:32 2020)\n",
      "Iterat #Fevals   function value  axis ratio  sigma  min&max std  t[m:s]\n",
      "    1      9 1.243272772080544e+00 1.0e+00 2.57e-01  3e-01  3e-01 0:00.2\n",
      "    2     18 9.256511079941774e-01 1.3e+00 2.73e-01  3e-01  3e-01 0:00.3\n"
     ]
    },
    {
     "name": "stderr",
     "output_type": "stream",
     "text": [
      " /home/finley/miniconda3/envs/testsuite/lib/python3.8/site-packages/cma/utilities/utils.py:329: UserWarning:function_values is not a list of scalars,\n",
      "                        the first element equals [2.52370541] with non-scalar type <class 'numpy.ndarray'>.\n",
      "                        Using now ``[v[0] for v in function_values]`` instead (further warnings are suppressed) ()\n",
      " /home/finley/miniconda3/envs/testsuite/lib/python3.8/site-packages/cma/utilities/utils.py:329: UserWarning:function_values is not a list of scalars,\n",
      "                        the first element equals [1.48310345] with non-scalar type <class 'numpy.ndarray'>.\n",
      "                        Using now ``[v[0] for v in function_values]`` instead (further warnings are suppressed) ()\n"
     ]
    },
    {
     "name": "stdout",
     "output_type": "stream",
     "text": [
      "    3     27 6.733988832759599e-01 1.7e+00 2.82e-01  3e-01  3e-01 0:00.5\n",
      "   23    207 -1.394765878008344e-01 3.3e+00 6.73e-01  4e-01  9e-01 0:03.7\n",
      "   50    450 2.978183401276857e-01 7.4e+00 2.62e-01  5e-02  3e-01 0:07.8\n",
      "   83    747 2.801232410346921e-01 6.9e+01 1.16e-01  3e-03  1e-01 0:12.8\n",
      "  100    900 2.799772811262589e-01 1.4e+02 4.81e-02  5e-04  6e-02 0:15.3\n",
      "  143   1287 2.799690732672122e-01 6.4e+02 1.92e-03  6e-06  3e-03 0:22.4\n",
      "  196   1764 2.799690704368678e-01 7.4e+03 3.68e-04  2e-07  2e-03 0:30.4\n",
      "NOTE (module=cma, iteration=198):  \n",
      "condition in coordinate system exceeded 1.2e+08, rescaled to 1.0e+00, \n",
      "condition changed from 8.9e+07 to 4.2e+01\n",
      "  200   1800 2.799690704152131e-01 6.5e+00 5.97e-04  3e-07  4e-03 0:31.1\n",
      "  269   2421 2.799690501396324e-01 8.9e+01 5.15e-02  6e-06  2e+00 0:41.1\n",
      "  300   2700 2.799690462825681e-01 4.3e+01 4.59e-03  2e-07  5e-02 0:46.1\n",
      "  373   3357 2.799690458878623e-01 9.7e+01 1.64e-03  2e-08  6e-03 0:58.2\n",
      "  378   3402 2.799690458878412e-01 1.1e+02 1.05e-03  9e-09  3e-03 0:59.1\n"
     ]
    },
    {
     "name": "stderr",
     "output_type": "stream",
     "text": [
      "reconstraining parameters GP_regression.Mat52.lengthscale\n",
      "reconstraining parameters GP_regression.Mat52.variance\n",
      "reconstraining parameters GP_regression.Gaussian_noise.variance\n"
     ]
    },
    {
     "name": "stdout",
     "output_type": "stream",
     "text": [
      "termination on tolfun=1e-11 (Tue Aug 25 00:25:32 2020)\n",
      "final/bestever f-value = 2.799690e-01 -2.260200e-01\n",
      "incumbent solution: [0.27654975162905937, 3.9999999999999982, 3.059591965250397, 1.3639194356547706, 8.011413085448387, 11.999999912736834]\n",
      "std deviation: [8.781658579579863e-09, 7.377932214119856e-08, 0.0034643477873768647, 5.805133134157664e-07, 4.022053873493407e-07, 0.001822983281186455]\n",
      "Optimization restart 1/10, f = 37.37110026001828\n",
      "Optimization restart 2/10, f = 1398465.961916822\n",
      "Optimization restart 3/10, f = 37.37112506846877\n",
      "Optimization restart 4/10, f = 174.57539104359955\n",
      "Optimization restart 5/10, f = 186.91137543931546\n",
      "Optimization restart 6/10, f = 38.18426758819126\n",
      "Optimization restart 7/10, f = 38.18425422898508\n"
     ]
    },
    {
     "name": "stderr",
     "output_type": "stream",
     "text": [
      "reconstraining parameters GP_regression.Mat52.lengthscale\n"
     ]
    },
    {
     "name": "stdout",
     "output_type": "stream",
     "text": [
      "Optimization restart 8/10, f = 172.87950670788703\n",
      "Optimization restart 9/10, f = 141.58129068818914\n",
      "Optimization restart 10/10, f = 78.14407587017043\n"
     ]
    },
    {
     "name": "stderr",
     "output_type": "stream",
     "text": [
      "reconstraining parameters GP_regression.Mat52.variance\n",
      "reconstraining parameters GP_regression.Gaussian_noise.variance\n"
     ]
    },
    {
     "name": "stdout",
     "output_type": "stream",
     "text": [
      "Optimization restart 1/10, f = 23.02209861256529\n",
      "Optimization restart 2/10, f = 184.3551142875215\n",
      "Optimization restart 3/10, f = 24.982847684318056\n",
      "Optimization restart 4/10, f = 37.71113389154026\n",
      "Optimization restart 5/10, f = 52.27137982221137\n",
      "Optimization restart 6/10, f = 36.874156580883266\n",
      "Optimization restart 7/10, f = 186.91137543931546\n",
      "Optimization restart 8/10, f = 37.71113388503754\n",
      "Optimization restart 9/10, f = 179.52864201705873\n",
      "Optimization restart 10/10, f = 37.71113385944196\n",
      "(4_w,9)-aCMA-ES (mu_w=2.8,w_1=49%) in dimension 6 (seed=480760, Tue Aug 25 00:25:36 2020)\n",
      "Iterat #Fevals   function value  axis ratio  sigma  min&max std  t[m:s]\n",
      "    1      9 1.420950905818309e+00 1.0e+00 2.30e-01  2e-01  2e-01 0:00.2\n",
      "    2     18 1.359874972954351e+00 1.3e+00 2.33e-01  2e-01  2e-01 0:00.4\n"
     ]
    },
    {
     "name": "stderr",
     "output_type": "stream",
     "text": [
      " /home/finley/miniconda3/envs/testsuite/lib/python3.8/site-packages/cma/utilities/utils.py:329: UserWarning:function_values is not a list of scalars,\n",
      "                        the first element equals [2.1912759] with non-scalar type <class 'numpy.ndarray'>.\n",
      "                        Using now ``[v[0] for v in function_values]`` instead (further warnings are suppressed) ()\n",
      " /home/finley/miniconda3/envs/testsuite/lib/python3.8/site-packages/cma/utilities/utils.py:329: UserWarning:function_values is not a list of scalars,\n",
      "                        the first element equals [1.93048084] with non-scalar type <class 'numpy.ndarray'>.\n",
      "                        Using now ``[v[0] for v in function_values]`` instead (further warnings are suppressed) ()\n"
     ]
    },
    {
     "name": "stdout",
     "output_type": "stream",
     "text": [
      "    3     27 1.343925583835933e+00 1.4e+00 2.62e-01  2e-01  3e-01 0:00.5\n",
      "   23    207 9.413042897039947e-02 3.2e+00 6.68e-01  3e-01  9e-01 0:03.6\n",
      "   50    450 -6.074493735270137e-03 1.0e+01 3.23e-01  5e-02  5e-01 0:07.7\n",
      "   73    657 -7.699427199040265e-03 7.2e+01 1.69e-01  7e-03  4e-01 0:12.8\n",
      "  100    900 -7.891587296026792e-03 2.3e+02 1.41e-02  2e-04  3e-02 0:18.7\n",
      "  134   1206 -7.891739241674411e-03 4.0e+02 1.05e-03  5e-06  1e-03 0:25.8\n",
      "  171   1539 -7.891739258651276e-03 1.4e+03 7.14e-05  7e-08  9e-05 0:33.8\n",
      "  175   1575 -7.891739258758079e-03 1.6e+03 4.72e-05  4e-08  6e-05 0:35.0\n"
     ]
    },
    {
     "name": "stderr",
     "output_type": "stream",
     "text": [
      "reconstraining parameters GP_regression.Mat52.lengthscale\n",
      "reconstraining parameters GP_regression.Mat52.variance\n",
      "reconstraining parameters GP_regression.Gaussian_noise.variance\n"
     ]
    },
    {
     "name": "stdout",
     "output_type": "stream",
     "text": [
      "termination on tolfun=1e-11 (Tue Aug 25 00:26:12 2020)\n",
      "final/bestever f-value = -7.891739e-03 -7.891739e-03\n",
      "incumbent solution: [1.9346532957804583, 1.547417095923025e-13, 3.689087492412024, 1.2574711193133328, 5.7508077183215605, 7.377250022755956]\n",
      "std deviation: [3.965964847171352e-08, 2.892368073071602e-07, 6.230273334085922e-05, 6.379106068373493e-06, 6.735465224343655e-07, 5.029388209653945e-05]\n",
      "Optimization restart 1/10, f = 38.64369809652702\n",
      "Optimization restart 2/10, f = 38.643697979709955\n",
      "Optimization restart 3/10, f = 179.2754807072527\n",
      "Optimization restart 4/10, f = 180.90882186015318\n",
      "Optimization restart 5/10, f = 178.0399869596077\n",
      "Optimization restart 6/10, f = 39.979174769300016\n",
      "Optimization restart 7/10, f = 33.75536304981009\n",
      "Optimization restart 8/10, f = 41.0742007675357\n",
      "Optimization restart 9/10, f = 39.79403033473166\n"
     ]
    },
    {
     "name": "stderr",
     "output_type": "stream",
     "text": [
      "reconstraining parameters GP_regression.Mat52.lengthscale\n",
      "reconstraining parameters GP_regression.Mat52.variance\n",
      "reconstraining parameters GP_regression.Gaussian_noise.variance\n"
     ]
    },
    {
     "name": "stdout",
     "output_type": "stream",
     "text": [
      "Optimization restart 10/10, f = 39.921614945610294\n",
      "Optimization restart 1/10, f = 20.86324018091576\n",
      "Optimization restart 2/10, f = 168.09560641955346\n",
      "Optimization restart 3/10, f = 189.01445322266628\n",
      "Optimization restart 4/10, f = 52.94994643193047\n",
      "Optimization restart 5/10, f = 43.00574795312424\n",
      "Optimization restart 6/10, f = 193.5867817050053\n",
      "Optimization restart 7/10, f = 41.14921746293551\n",
      "Optimization restart 8/10, f = 1204402.5366355572\n",
      "Optimization restart 9/10, f = 41.876632580315345\n",
      "Optimization restart 10/10, f = 41.149217462935496\n",
      "(4_w,9)-aCMA-ES (mu_w=2.8,w_1=49%) in dimension 6 (seed=418617, Tue Aug 25 00:26:16 2020)\n",
      "Iterat #Fevals   function value  axis ratio  sigma  min&max std  t[m:s]\n",
      "    1      9 1.186081277929278e+00 1.0e+00 2.39e-01  2e-01  2e-01 0:00.2\n",
      "    2     18 8.139825340329241e-01 1.2e+00 2.72e-01  2e-01  3e-01 0:00.3\n"
     ]
    },
    {
     "name": "stderr",
     "output_type": "stream",
     "text": [
      " /home/finley/miniconda3/envs/testsuite/lib/python3.8/site-packages/cma/utilities/utils.py:329: UserWarning:function_values is not a list of scalars,\n",
      "                        the first element equals [1.18608128] with non-scalar type <class 'numpy.ndarray'>.\n",
      "                        Using now ``[v[0] for v in function_values]`` instead (further warnings are suppressed) ()\n",
      " /home/finley/miniconda3/envs/testsuite/lib/python3.8/site-packages/cma/utilities/utils.py:329: UserWarning:function_values is not a list of scalars,\n",
      "                        the first element equals [2.18393493] with non-scalar type <class 'numpy.ndarray'>.\n",
      "                        Using now ``[v[0] for v in function_values]`` instead (further warnings are suppressed) ()\n"
     ]
    },
    {
     "name": "stdout",
     "output_type": "stream",
     "text": [
      "    3     27 5.403950155715402e-01 1.4e+00 3.05e-01  3e-01  4e-01 0:00.5\n",
      "   22    198 3.183706842059777e-01 6.1e+00 1.77e-01  6e-02  2e-01 0:03.5\n",
      "   46    414 1.158048103540426e-01 2.0e+01 4.13e-01  4e-02  5e-01 0:07.6\n",
      "   74    666 -7.898230007146445e-02 2.1e+01 2.24e-01  2e-02  3e-01 0:12.7\n",
      "  100    900 -8.481893669729068e-02 5.5e+01 7.40e-02  3e-03  1e-01 0:18.0\n",
      "  134   1206 -8.545548563719629e-02 3.5e+02 4.64e-02  3e-04  1e-01 0:25.1\n",
      "  172   1548 -8.554533702929135e-02 1.6e+03 7.37e-03  2e-05  1e-02 0:33.1\n",
      "  200   1800 -8.554640962230131e-02 9.1e+03 4.48e-03  9e-06  1e-02 0:39.0\n",
      "  249   2241 -8.554658350218980e-02 1.1e+05 9.53e-04  1e-06  2e-03 0:49.1\n",
      "  300   2700 -8.554659769158013e-02 1.0e+00 2.45e-04  2e-04  3e-04 0:59.6\n"
     ]
    },
    {
     "name": "stderr",
     "output_type": "stream",
     "text": [
      " /home/finley/miniconda3/envs/testsuite/lib/python3.8/site-packages/cma/utilities/utils.py:329: UserWarning:\n",
      "        geno-pheno transformation introduced based on the\n",
      "        current covariance matrix with condition 1.0e+12 -> 1.0e+00,\n",
      "        injected solutions become \"invalid\" in this iteration (class=CMAEvolutionStrategy method=alleviate_conditioning iteration=299)\n"
     ]
    },
    {
     "name": "stdout",
     "output_type": "stream",
     "text": [
      "  361   3249 -8.554659788896712e-02 3.7e+01 1.39e-05  3e-06  2e-05 1:11.8\n",
      "  382   3438 -8.554659788917229e-02 1.4e+02 1.59e-05  5e-06  2e-05 1:16.2\n"
     ]
    },
    {
     "name": "stderr",
     "output_type": "stream",
     "text": [
      "reconstraining parameters GP_regression.Mat52.lengthscale\n",
      "reconstraining parameters GP_regression.Mat52.variance\n",
      "reconstraining parameters GP_regression.Gaussian_noise.variance\n"
     ]
    },
    {
     "name": "stdout",
     "output_type": "stream",
     "text": [
      "termination on tolfunhist=1e-12 (Tue Aug 25 00:27:33 2020)\n",
      "final/bestever f-value = -8.554660e-02 -8.554660e-02\n",
      "incumbent solution: [0.8025166972675972, 2.6195041595515423, 1.842993963879239, 9.291771884879227e-14, 8.091199005643148, 5.5128156212356885]\n",
      "std deviation: [1.1785493530215193e-05, 4.777556549756845e-06, 1.0674420707529205e-05, 7.835068743553713e-06, 1.7948578884100257e-05, 1.0992335062817777e-05]\n",
      "Optimization restart 1/10, f = 35.4800114986475\n",
      "Optimization restart 2/10, f = 144.6107934894401\n",
      "Optimization restart 3/10, f = 200.26218797069515\n",
      "Optimization restart 4/10, f = 38.39467529312014\n",
      "Optimization restart 5/10, f = 193.19320881295272\n",
      "Optimization restart 6/10, f = 200.26218797069515\n",
      "Optimization restart 7/10, f = 40.033633838981906\n",
      "Optimization restart 8/10, f = 207.66884452548723\n"
     ]
    },
    {
     "name": "stderr",
     "output_type": "stream",
     "text": [
      "reconstraining parameters GP_regression.Mat52.lengthscale\n",
      "reconstraining parameters GP_regression.Mat52.variance\n",
      "reconstraining parameters GP_regression.Gaussian_noise.variance\n"
     ]
    },
    {
     "name": "stdout",
     "output_type": "stream",
     "text": [
      "Optimization restart 9/10, f = 84.1202277381802\n",
      "Optimization restart 10/10, f = 188.11009493366637\n",
      "Optimization restart 1/10, f = 21.291752658674145\n",
      "Optimization restart 2/10, f = 38.37053365249031\n",
      "Optimization restart 3/10, f = 682952015.1080966\n",
      "Optimization restart 4/10, f = 200.26218797069515\n",
      "Optimization restart 5/10, f = 200.26218797069515\n",
      "Optimization restart 6/10, f = 36.16275115962798\n",
      "Optimization restart 7/10, f = 49.55329483187085\n",
      "Optimization restart 8/10, f = 43.17768722278487\n",
      "Optimization restart 9/10, f = 200.26218797069515\n",
      "Optimization restart 10/10, f = 174.7067225824209\n",
      "(4_w,9)-aCMA-ES (mu_w=2.8,w_1=49%) in dimension 6 (seed=354667, Tue Aug 25 00:27:36 2020)\n",
      "Iterat #Fevals   function value  axis ratio  sigma  min&max std  t[m:s]\n",
      "    1      9 1.541275282754758e+00 1.0e+00 2.51e-01  2e-01  3e-01 0:00.2\n"
     ]
    },
    {
     "name": "stderr",
     "output_type": "stream",
     "text": [
      " /home/finley/miniconda3/envs/testsuite/lib/python3.8/site-packages/cma/utilities/utils.py:329: UserWarning:function_values is not a list of scalars,\n",
      "                        the first element equals [4.80871372] with non-scalar type <class 'numpy.ndarray'>.\n",
      "                        Using now ``[v[0] for v in function_values]`` instead (further warnings are suppressed) ()\n"
     ]
    },
    {
     "name": "stdout",
     "output_type": "stream",
     "text": [
      "    2     18 1.320117097308751e+00 1.3e+00 2.64e-01  2e-01  3e-01 0:00.4\n",
      "    3     27 1.007119852930144e+00 1.4e+00 2.65e-01  2e-01  3e-01 0:00.6\n"
     ]
    },
    {
     "name": "stderr",
     "output_type": "stream",
     "text": [
      " /home/finley/miniconda3/envs/testsuite/lib/python3.8/site-packages/cma/utilities/utils.py:329: UserWarning:function_values is not a list of scalars,\n",
      "                        the first element equals [1.54671525] with non-scalar type <class 'numpy.ndarray'>.\n",
      "                        Using now ``[v[0] for v in function_values]`` instead (further warnings are suppressed) ()\n"
     ]
    },
    {
     "name": "stdout",
     "output_type": "stream",
     "text": [
      "   19    171 -8.207586531881614e-01 4.2e+00 2.66e-01  9e-02  3e-01 0:03.7\n",
      "   37    333 -1.271094805181029e+00 7.8e+00 2.93e-01  5e-02  4e-01 0:07.7\n",
      "   58    522 -1.379031695806627e+00 1.6e+01 2.06e-01  2e-02  3e-01 0:12.8\n",
      "   85    765 -1.687349301212228e+00 3.3e+01 4.86e-01  2e-02  6e-01 0:19.0\n",
      "  100    900 -1.698837093519120e+00 2.3e+01 1.62e-01  6e-03  1e-01 0:22.5\n",
      "  134   1206 -1.701498645220990e+00 6.1e+01 6.20e-03  1e-04  8e-03 0:30.5\n",
      "  173   1557 -1.701498894188375e+00 2.0e+02 1.50e-04  9e-07  2e-04 0:39.7\n",
      "  200   1800 -1.701498894211209e+00 7.0e+02 4.19e-05  1e-07  1e-04 0:46.2\n",
      "  206   1854 -1.701498894213793e+00 1.0e+03 5.08e-05  2e-07  2e-04 0:47.6\n"
     ]
    },
    {
     "name": "stderr",
     "output_type": "stream",
     "text": [
      "reconstraining parameters GP_regression.Mat52.lengthscale\n",
      "reconstraining parameters GP_regression.Mat52.variance\n",
      "reconstraining parameters GP_regression.Gaussian_noise.variance\n"
     ]
    },
    {
     "name": "stdout",
     "output_type": "stream",
     "text": [
      "termination on tolfun=1e-11 (Tue Aug 25 00:28:24 2020)\n",
      "final/bestever f-value = -1.701499e+00 -1.701499e+00\n",
      "incumbent solution: [1.999999999999984, 4.4721564032892427e-14, 2.225702129516224, 3.1715946393975152e-12, 5.582164035505811, 7.334488523990763]\n",
      "std deviation: [2.675277000781365e-07, 1.5285898652472567e-07, 4.609931606865289e-07, 6.728757983446979e-07, 1.2609692070361135e-06, 0.00015905790025724467]\n",
      "Optimization restart 1/10, f = 43.65598819907967\n",
      "Optimization restart 2/10, f = 149.25273953827116\n",
      "Optimization restart 3/10, f = 206.93759423638502\n",
      "Optimization restart 4/10, f = 194.23791348084444\n",
      "Optimization restart 5/10, f = 165.7852616089159\n",
      "Optimization restart 6/10, f = 109.61975179711865\n",
      "Optimization restart 7/10, f = 193.3945672772577\n",
      "Optimization restart 8/10, f = 206.93759423638502\n",
      "Optimization restart 9/10, f = 43.98709452934486\n"
     ]
    },
    {
     "name": "stderr",
     "output_type": "stream",
     "text": [
      "reconstraining parameters GP_regression.Mat52.lengthscale\n",
      "reconstraining parameters GP_regression.Mat52.variance\n",
      "reconstraining parameters GP_regression.Gaussian_noise.variance\n"
     ]
    },
    {
     "name": "stdout",
     "output_type": "stream",
     "text": [
      "Optimization restart 10/10, f = 180.71044627747798\n",
      "Optimization restart 1/10, f = 21.776916274420312\n",
      "Optimization restart 2/10, f = 4672874.583723468\n",
      "Optimization restart 3/10, f = 771.3693637681192\n",
      "Optimization restart 4/10, f = 45.02628076009109\n",
      "Optimization restart 5/10, f = 181.148941934195\n",
      "Optimization restart 6/10, f = 197.38871094592875\n",
      "Optimization restart 7/10, f = 209.89673267042167\n",
      "Optimization restart 8/10, f = 21.261454865413675\n",
      "Optimization restart 9/10, f = 193.08000845555884\n",
      "Optimization restart 10/10, f = 657031987.9073521\n",
      "(4_w,9)-aCMA-ES (mu_w=2.8,w_1=49%) in dimension 6 (seed=342899, Tue Aug 25 00:28:27 2020)\n",
      "Iterat #Fevals   function value  axis ratio  sigma  min&max std  t[m:s]\n",
      "    1      9 2.078003244622932e+00 1.0e+00 2.40e-01  2e-01  2e-01 0:00.2\n",
      "    2     18 1.326291807868850e+00 1.3e+00 2.58e-01  2e-01  3e-01 0:00.3\n"
     ]
    },
    {
     "name": "stderr",
     "output_type": "stream",
     "text": [
      " /home/finley/miniconda3/envs/testsuite/lib/python3.8/site-packages/cma/utilities/utils.py:329: UserWarning:function_values is not a list of scalars,\n",
      "                        the first element equals [2.64823348] with non-scalar type <class 'numpy.ndarray'>.\n",
      "                        Using now ``[v[0] for v in function_values]`` instead (further warnings are suppressed) ()\n",
      " /home/finley/miniconda3/envs/testsuite/lib/python3.8/site-packages/cma/utilities/utils.py:329: UserWarning:function_values is not a list of scalars,\n",
      "                        the first element equals [1.73317439] with non-scalar type <class 'numpy.ndarray'>.\n",
      "                        Using now ``[v[0] for v in function_values]`` instead (further warnings are suppressed) ()\n"
     ]
    },
    {
     "name": "stdout",
     "output_type": "stream",
     "text": [
      "    3     27 1.018437371540092e+00 1.3e+00 3.07e-01  3e-01  3e-01 0:00.5\n",
      "   18    162 3.696041526335625e-02 3.3e+00 3.63e-01  2e-01  4e-01 0:03.5\n",
      "   36    324 -3.028969187355783e-01 4.2e+00 1.54e-01  6e-02  2e-01 0:07.7\n",
      "   59    531 -5.924108430902861e-01 9.2e+00 1.63e-01  2e-02  2e-01 0:12.8\n",
      "   86    774 -6.296638810404276e-01 3.4e+01 4.75e-02  2e-03  6e-02 0:18.8\n",
      "  100    900 -6.342417809545453e-01 5.1e+01 2.48e-02  8e-04  4e-02 0:22.1\n",
      "  132   1188 -6.346962851760862e-01 1.6e+02 5.09e-03  7e-05  9e-03 0:30.2\n",
      "  166   1494 -6.347095321358083e-01 1.5e+03 8.62e-04  2e-06  2e-03 0:39.4\n",
      "  197   1773 -6.347100010489526e-01 7.1e+03 3.61e-04  4e-07  6e-04 0:49.4\n",
      "  200   1800 -6.347100026527506e-01 8.5e+03 2.64e-04  3e-07  4e-04 0:50.4\n",
      "  247   2223 -6.347100174554923e-01 2.4e+05 9.81e-05  6e-08  2e-04 1:02.5\n"
     ]
    },
    {
     "name": "stderr",
     "output_type": "stream",
     "text": [
      " /home/finley/miniconda3/envs/testsuite/lib/python3.8/site-packages/cma/utilities/utils.py:329: UserWarning:\n",
      "        geno-pheno transformation introduced based on the\n",
      "        current covariance matrix with condition 1.1e+12 -> 1.0e+00,\n",
      "        injected solutions become \"invalid\" in this iteration (class=CMAEvolutionStrategy method=alleviate_conditioning iteration=281)\n"
     ]
    },
    {
     "name": "stdout",
     "output_type": "stream",
     "text": [
      "  294   2646 -6.347100177494700e-01 3.6e+00 1.51e-05  1e-05  2e-05 1:15.7\n",
      "  300   2700 -6.347100177506180e-01 5.3e+00 1.23e-05  8e-06  2e-05 1:17.6\n",
      "  339   3051 -6.347100177513565e-01 5.5e+01 3.57e-06  2e-06  6e-06 1:30.6\n"
     ]
    },
    {
     "name": "stderr",
     "output_type": "stream",
     "text": [
      "reconstraining parameters GP_regression.Mat52.lengthscale\n",
      "reconstraining parameters GP_regression.Mat52.variance\n",
      "reconstraining parameters GP_regression.Gaussian_noise.variance\n"
     ]
    },
    {
     "name": "stdout",
     "output_type": "stream",
     "text": [
      "termination on tolfunhist=1e-12 (Tue Aug 25 00:29:58 2020)\n",
      "final/bestever f-value = -6.347100e-01 -1.243044e+00\n",
      "incumbent solution: [1.9999999999999964, 1.1750809080011295, 2.9029959338990188, 0.0012017676980802445, 6.54670074807832, 7.986277305549672]\n",
      "std deviation: [2.179611702143192e-06, 1.8794391382153552e-06, 2.8603071354924295e-06, 2.3070074947644e-06, 3.1202843537336507e-06, 5.653950867658143e-06]\n",
      "Optimization restart 1/10, f = 45.378873242937104\n",
      "Optimization restart 2/10, f = 188.3455720232969\n",
      "Optimization restart 3/10, f = 213.61300050207478\n",
      "Optimization restart 4/10, f = 213.61300050207478\n",
      "Optimization restart 5/10, f = 213.61300050207478\n",
      "Optimization restart 6/10, f = 1598246.8136192246\n",
      "Optimization restart 7/10, f = 913034259.8442142\n",
      "Optimization restart 8/10, f = 183.4341258372675\n",
      "Optimization restart 9/10, f = 912231639.4390022\n"
     ]
    },
    {
     "name": "stderr",
     "output_type": "stream",
     "text": [
      "reconstraining parameters GP_regression.Mat52.lengthscale\n",
      "reconstraining parameters GP_regression.Mat52.variance\n",
      "reconstraining parameters GP_regression.Gaussian_noise.variance\n"
     ]
    },
    {
     "name": "stdout",
     "output_type": "stream",
     "text": [
      "Optimization restart 10/10, f = 197.86230958347474\n",
      "Optimization restart 1/10, f = 20.64857303923668\n",
      "Optimization restart 2/10, f = 189.23964083646462\n",
      "Optimization restart 3/10, f = 202.87058272064175\n",
      "Optimization restart 4/10, f = 213.61300050207478\n",
      "Optimization restart 5/10, f = 39.26141271898727\n",
      "Optimization restart 6/10, f = 194.83200655528506\n",
      "Optimization restart 7/10, f = 204.49154864025135\n",
      "Optimization restart 8/10, f = 4643956.900249091\n",
      "Optimization restart 9/10, f = 213.61300050207478\n",
      "Optimization restart 10/10, f = 213.61300050207478\n",
      "(4_w,9)-aCMA-ES (mu_w=2.8,w_1=49%) in dimension 6 (seed=463643, Tue Aug 25 00:30:03 2020)\n",
      "Iterat #Fevals   function value  axis ratio  sigma  min&max std  t[m:s]\n",
      "    1      9 1.598411856780083e+00 1.0e+00 2.90e-01  3e-01  3e-01 0:00.2\n"
     ]
    },
    {
     "name": "stderr",
     "output_type": "stream",
     "text": [
      " /home/finley/miniconda3/envs/testsuite/lib/python3.8/site-packages/cma/utilities/utils.py:329: UserWarning:function_values is not a list of scalars,\n",
      "                        the first element equals [2.04866501] with non-scalar type <class 'numpy.ndarray'>.\n",
      "                        Using now ``[v[0] for v in function_values]`` instead (further warnings are suppressed) ()\n"
     ]
    },
    {
     "name": "stdout",
     "output_type": "stream",
     "text": [
      "    2     18 1.660890715898206e+00 1.3e+00 3.45e-01  3e-01  4e-01 0:00.4\n",
      "    3     27 1.136798781729877e+00 1.4e+00 3.94e-01  3e-01  4e-01 0:00.6\n"
     ]
    },
    {
     "name": "stderr",
     "output_type": "stream",
     "text": [
      " /home/finley/miniconda3/envs/testsuite/lib/python3.8/site-packages/cma/utilities/utils.py:329: UserWarning:function_values is not a list of scalars,\n",
      "                        the first element equals [2.15531106] with non-scalar type <class 'numpy.ndarray'>.\n",
      "                        Using now ``[v[0] for v in function_values]`` instead (further warnings are suppressed) ()\n"
     ]
    },
    {
     "name": "stdout",
     "output_type": "stream",
     "text": [
      "   16    144 8.090674144550363e-01 4.4e+00 5.12e-01  3e-01  8e-01 0:03.7\n",
      "   32    288 6.570036375294970e-01 8.7e+00 2.80e-01  6e-02  5e-01 0:07.9\n",
      "   49    441 6.536618636057261e-01 1.4e+01 5.95e-02  5e-03  7e-02 0:13.1\n",
      "   69    621 6.536361399464523e-01 5.1e+01 2.94e-02  1e-03  4e-02 0:19.1\n",
      "   92    828 6.536348556266325e-01 1.2e+02 4.72e-03  7e-05  7e-03 0:26.4\n",
      "  100    900 6.536348530407914e-01 1.7e+02 2.58e-03  3e-05  4e-03 0:27.9\n",
      "  138   1242 6.536348504446734e-01 1.5e+03 2.91e-04  6e-07  8e-04 0:37.1\n",
      "NOTE (module=cma, iteration=160):  \n",
      "condition in coordinate system exceeded 1.1e+08, rescaled to 1.0e+00, \n",
      "condition changed from 1.1e+08 to 4.3e+01\n",
      "  178   1602 6.536348496165310e-01 1.5e+01 9.75e-03  4e-06  2e-01 0:47.3\n",
      "  200   1800 6.536348477488925e-01 2.4e+01 2.41e-02  5e-06  6e-01 0:53.8\n",
      "  261   2349 6.536348445159519e-01 5.3e+01 7.90e-02  2e-06  4e-01 1:05.9\n",
      "  300   2700 6.536348442662421e-01 1.3e+02 1.22e-01  1e-06  5e-01 1:13.6\n",
      "  338   3042 6.536348442246986e-01 1.1e+02 3.93e-03  3e-08  5e-03 1:22.1\n"
     ]
    },
    {
     "name": "stderr",
     "output_type": "stream",
     "text": [
      "reconstraining parameters GP_regression.Mat52.lengthscale\n",
      "reconstraining parameters GP_regression.Mat52.variance\n",
      "reconstraining parameters GP_regression.Gaussian_noise.variance\n"
     ]
    },
    {
     "name": "stdout",
     "output_type": "stream",
     "text": [
      "termination on tolfun=1e-11 (Tue Aug 25 00:31:25 2020)\n",
      "final/bestever f-value = 6.536348e-01 6.536348e-01\n",
      "incumbent solution: [0.7661273095935457, 3.999999999999998, 3.987659758539885, 6.8111284800422425, 3.286897108797809e-06, 7.85158025265365]\n",
      "std deviation: [2.6619882523955832e-08, 4.6695407256860686e-08, 1.9078418681394563e-07, 0.004715386321123552, 0.005011573017988219, 0.004489463459418556]\n",
      "Optimization restart 1/10, f = 46.80224408414483\n",
      "Optimization restart 2/10, f = 954812682.9624515\n",
      "Optimization restart 3/10, f = 199.0584799691076\n",
      "Optimization restart 4/10, f = 210.24938117522117\n",
      "Optimization restart 5/10, f = 205.44615416682672\n",
      "Optimization restart 6/10, f = 210.8712498569997\n",
      "Optimization restart 7/10, f = 44.125245570512185\n",
      "Optimization restart 8/10, f = 48.95166859701068\n"
     ]
    },
    {
     "name": "stderr",
     "output_type": "stream",
     "text": [
      "reconstraining parameters GP_regression.Mat52.lengthscale\n",
      "reconstraining parameters GP_regression.Mat52.variance\n"
     ]
    },
    {
     "name": "stdout",
     "output_type": "stream",
     "text": [
      "Optimization restart 9/10, f = 82.38793846114244\n",
      "Optimization restart 10/10, f = 210.43637117432894\n"
     ]
    },
    {
     "name": "stderr",
     "output_type": "stream",
     "text": [
      "reconstraining parameters GP_regression.Gaussian_noise.variance\n"
     ]
    },
    {
     "name": "stdout",
     "output_type": "stream",
     "text": [
      "Optimization restart 1/10, f = 20.66926397721093\n",
      "Optimization restart 2/10, f = 745078960.6452142\n",
      "Optimization restart 3/10, f = 220.28840676776463\n",
      "Optimization restart 4/10, f = 991.4772575120244\n",
      "Optimization restart 5/10, f = 46.8249715957542\n",
      "Optimization restart 6/10, f = 215.41918002149382\n",
      "Optimization restart 7/10, f = 40.58226952413627\n",
      "Optimization restart 8/10, f = 39.54567995931449\n",
      "Optimization restart 9/10, f = 64.49460262576187\n",
      "Optimization restart 10/10, f = 39.40168316023335\n",
      "(4_w,9)-aCMA-ES (mu_w=2.8,w_1=49%) in dimension 6 (seed=410097, Tue Aug 25 00:31:31 2020)\n",
      "Iterat #Fevals   function value  axis ratio  sigma  min&max std  t[m:s]\n",
      "    1      9 1.170651567162603e+00 1.0e+00 2.42e-01  2e-01  3e-01 0:00.3\n"
     ]
    },
    {
     "name": "stderr",
     "output_type": "stream",
     "text": [
      " /home/finley/miniconda3/envs/testsuite/lib/python3.8/site-packages/cma/utilities/utils.py:329: UserWarning:function_values is not a list of scalars,\n",
      "                        the first element equals [1.81924967] with non-scalar type <class 'numpy.ndarray'>.\n",
      "                        Using now ``[v[0] for v in function_values]`` instead (further warnings are suppressed) ()\n"
     ]
    },
    {
     "name": "stdout",
     "output_type": "stream",
     "text": [
      "    2     18 9.138544833959636e-01 1.3e+00 2.63e-01  2e-01  3e-01 0:00.6\n",
      "    3     27 8.521902447823559e-01 1.3e+00 2.86e-01  3e-01  3e-01 0:00.8\n"
     ]
    },
    {
     "name": "stderr",
     "output_type": "stream",
     "text": [
      " /home/finley/miniconda3/envs/testsuite/lib/python3.8/site-packages/cma/utilities/utils.py:329: UserWarning:function_values is not a list of scalars,\n",
      "                        the first element equals [1.29437556] with non-scalar type <class 'numpy.ndarray'>.\n",
      "                        Using now ``[v[0] for v in function_values]`` instead (further warnings are suppressed) ()\n"
     ]
    },
    {
     "name": "stdout",
     "output_type": "stream",
     "text": [
      "   13    117 8.896110835442548e-01 2.7e+00 2.16e-01  1e-01  3e-01 0:04.0\n",
      "   28    252 8.366063756305979e-01 9.2e+00 1.05e-01  2e-02  1e-01 0:08.2\n",
      "   44    396 8.364258696827798e-01 1.6e+01 4.08e-02  4e-03  6e-02 0:13.3\n",
      "   64    576 8.363697848895211e-01 4.9e+01 7.44e-03  2e-04  1e-02 0:19.3\n",
      "   90    810 8.363696279277744e-01 1.1e+02 4.18e-03  7e-05  7e-03 0:26.5\n",
      "  100    900 8.363696266199545e-01 2.0e+02 2.84e-03  3e-05  6e-03 0:29.6\n",
      "  138   1242 8.363696259549567e-01 1.3e+03 4.52e-04  9e-07  1e-03 0:38.7\n",
      "NOTE (module=cma, iteration=169):  \n",
      "condition in coordinate system exceeded 1.0e+08, rescaled to 1.0e+00, \n",
      "condition changed from 1.8e+08 to 2.3e+02\n",
      "  184   1656 8.363696240207124e-01 1.8e+01 2.20e-02  1e-05  2e-01 0:48.8\n",
      "  200   1800 8.363696196986059e-01 3.4e+01 3.71e-02  1e-05  6e-01 0:52.0\n",
      "  260   2340 8.363696176991207e-01 4.7e+01 8.76e-02  4e-06  5e-01 1:04.1\n",
      "  300   2700 8.363696162393235e-01 8.2e+01 4.36e-02  7e-07  1e-01 1:12.2\n",
      "  344   3096 8.363696162373810e-01 6.3e+01 2.61e-03  3e-08  3e-03 1:21.1\n"
     ]
    },
    {
     "name": "stderr",
     "output_type": "stream",
     "text": [
      "reconstraining parameters GP_regression.Mat52.lengthscale\n",
      "reconstraining parameters GP_regression.Mat52.variance\n",
      "reconstraining parameters GP_regression.Gaussian_noise.variance\n"
     ]
    },
    {
     "name": "stdout",
     "output_type": "stream",
     "text": [
      "termination on tolfunhist=1e-12 (Tue Aug 25 00:32:53 2020)\n",
      "final/bestever f-value = 8.363696e-01 8.363696e-01\n",
      "incumbent solution: [0.7536037911000621, 3.9999999999999996, 5.75046394202985, 2.031015182571313e-06, 9.99924187287051, 11.99998889905029]\n",
      "std deviation: [2.7459793314283494e-08, 4.7261205129882865e-08, 1.561364914180766e-07, 0.0031124731649555563, 0.0029939947679745805, 0.0027600058841912205]\n",
      "Optimization restart 1/10, f = 45.57771293768471\n",
      "Optimization restart 2/10, f = 226.96381303345447\n",
      "Optimization restart 3/10, f = 192.79528402748787\n",
      "Optimization restart 4/10, f = 210.15447679596795\n",
      "Optimization restart 5/10, f = 50.547152209993854\n",
      "Optimization restart 6/10, f = 204.87440642081475\n",
      "Optimization restart 7/10, f = 143.6941667741801\n",
      "Optimization restart 8/10, f = 78.80942508516489\n",
      "Optimization restart 9/10, f = 88.50325850817701\n"
     ]
    },
    {
     "name": "stderr",
     "output_type": "stream",
     "text": [
      "reconstraining parameters GP_regression.Mat52.lengthscale\n",
      "reconstraining parameters GP_regression.Mat52.variance\n",
      "reconstraining parameters GP_regression.Gaussian_noise.variance\n"
     ]
    },
    {
     "name": "stdout",
     "output_type": "stream",
     "text": [
      "Optimization restart 10/10, f = 80.1057716275221\n",
      "Optimization restart 1/10, f = 20.113584138648445\n",
      "Optimization restart 2/10, f = 24.068832895011965\n",
      "Optimization restart 3/10, f = 1698137.2394704267\n",
      "Optimization restart 4/10, f = 1698137.2394704267\n",
      "Optimization restart 5/10, f = 48.24391012895887\n",
      "Optimization restart 6/10, f = 217.66009439234557\n",
      "Optimization restart 7/10, f = 226.96381303345447\n",
      "Optimization restart 8/10, f = 211.73005773260036\n",
      "Optimization restart 9/10, f = 197.59656931489064\n",
      "Optimization restart 10/10, f = 745474918.4002203\n",
      "(4_w,9)-aCMA-ES (mu_w=2.8,w_1=49%) in dimension 6 (seed=381785, Tue Aug 25 00:32:56 2020)\n",
      "Iterat #Fevals   function value  axis ratio  sigma  min&max std  t[m:s]\n",
      "    1      9 -0.000000000000000e+00 1.0e+00 2.21e-01  2e-01  2e-01 0:00.3\n"
     ]
    },
    {
     "name": "stderr",
     "output_type": "stream",
     "text": [
      " /home/finley/miniconda3/envs/testsuite/lib/python3.8/site-packages/cma/utilities/utils.py:329: UserWarning:flat fitness (f=-0.000000, sigma=2.21e-01).\n",
      "                    For small sigma, this could indicate numerical convergence.\n",
      "                    Otherwise, please (re)consider how to compute the fitness more elaborately. (iteration=1)\n",
      "reconstraining parameters GP_regression.Mat52.lengthscale\n",
      "reconstraining parameters GP_regression.Mat52.variance\n",
      "reconstraining parameters GP_regression.Gaussian_noise.variance\n"
     ]
    },
    {
     "name": "stdout",
     "output_type": "stream",
     "text": [
      "termination on tolfun=1e-11 (Tue Aug 25 00:32:56 2020)\n",
      "final/bestever f-value = -0.000000e+00 -0.000000e+00\n",
      "incumbent solution: [1.1674038167096241, 3.7194678362508293, 3.2055439200138207, 7.938393769531221, 8.778377674383743, 2.829547323986064]\n",
      "std deviation: [0.20100374317328235, 0.21618690515071884, 0.21837943863873102, 0.22604557729129776, 0.2201299280104898, 0.20988126738543808]\n",
      "Optimization restart 1/10, f = 47.02726112203656\n",
      "Optimization restart 2/10, f = 233.63921929914432\n",
      "Optimization restart 3/10, f = 49.662847401430476\n",
      "Optimization restart 4/10, f = 221.81882753787383\n",
      "Optimization restart 5/10, f = 233.63921929914432\n",
      "Optimization restart 6/10, f = 213.49521108933018\n",
      "Optimization restart 7/10, f = 49.662848662219844\n",
      "Optimization restart 8/10, f = 194.2504218628672\n",
      "Optimization restart 9/10, f = 233.63921929914432\n"
     ]
    },
    {
     "name": "stderr",
     "output_type": "stream",
     "text": [
      "reconstraining parameters GP_regression.Mat52.lengthscale\n",
      "reconstraining parameters GP_regression.Mat52.variance\n",
      "reconstraining parameters GP_regression.Gaussian_noise.variance\n"
     ]
    },
    {
     "name": "stdout",
     "output_type": "stream",
     "text": [
      "Optimization restart 10/10, f = 44.099041214526814\n",
      "Optimization restart 1/10, f = 20.798887071613738\n",
      "Optimization restart 2/10, f = 27.49471202669849\n",
      "Optimization restart 3/10, f = 45.468531316603475\n",
      "Optimization restart 4/10, f = 54.67457776899132\n",
      "Optimization restart 5/10, f = 233.63921929914432\n",
      "Optimization restart 6/10, f = 192.8063024362866\n",
      "Optimization restart 7/10, f = 233.63921929914432\n",
      "Optimization restart 8/10, f = 20.572993893539444\n",
      "Optimization restart 9/10, f = 18.509576332119735\n",
      "Optimization restart 10/10, f = 195.37958391354607\n",
      "(4_w,9)-aCMA-ES (mu_w=2.8,w_1=49%) in dimension 6 (seed=443539, Tue Aug 25 00:33:00 2020)\n",
      "Iterat #Fevals   function value  axis ratio  sigma  min&max std  t[m:s]\n",
      "    1      9 -0.000000000000000e+00 1.0e+00 2.28e-01  2e-01  2e-01 0:00.3\n"
     ]
    },
    {
     "name": "stderr",
     "output_type": "stream",
     "text": [
      " /home/finley/miniconda3/envs/testsuite/lib/python3.8/site-packages/cma/utilities/utils.py:329: UserWarning:flat fitness (f=-0.000000, sigma=2.28e-01).\n",
      "                    For small sigma, this could indicate numerical convergence.\n",
      "                    Otherwise, please (re)consider how to compute the fitness more elaborately. (iteration=1)\n",
      "reconstraining parameters GP_regression.Mat52.lengthscale\n",
      "reconstraining parameters GP_regression.Mat52.variance\n",
      "reconstraining parameters GP_regression.Gaussian_noise.variance\n"
     ]
    },
    {
     "name": "stdout",
     "output_type": "stream",
     "text": [
      "termination on tolfun=1e-11 (Tue Aug 25 00:33:00 2020)\n",
      "final/bestever f-value = -0.000000e+00 -0.000000e+00\n",
      "incumbent solution: [1.2071400000730277, 1.7286791747471442, 1.0173021633777561, 7.309068281599223, 3.8209685046807547, 4.299575821912756]\n",
      "std deviation: [0.22961621532817153, 0.2196962940477501, 0.224428695590862, 0.22694183117861197, 0.2284865088694935, 0.221800469710601]\n",
      "Optimization restart 1/10, f = 45.5655466019585\n",
      "Optimization restart 2/10, f = 1027946170.1446204\n",
      "Optimization restart 3/10, f = 1798027.665321628\n",
      "Optimization restart 4/10, f = 205.60158309558835\n",
      "Optimization restart 5/10, f = 124.75519444448985\n",
      "Optimization restart 6/10, f = 232.8913218215468\n",
      "Optimization restart 7/10, f = 1798027.665321628\n"
     ]
    },
    {
     "name": "stderr",
     "output_type": "stream",
     "text": [
      "reconstraining parameters GP_regression.Mat52.lengthscale\n",
      "reconstraining parameters GP_regression.Mat52.variance\n",
      "reconstraining parameters GP_regression.Gaussian_noise.variance\n"
     ]
    },
    {
     "name": "stdout",
     "output_type": "stream",
     "text": [
      "Optimization restart 8/10, f = 128.90837489901324\n",
      "Optimization restart 9/10, f = 240.31462556483416\n",
      "Optimization restart 10/10, f = 229.53419877769923\n",
      "Optimization restart 1/10, f = 18.552083856007506\n",
      "Optimization restart 2/10, f = 28.112571326890208\n",
      "Optimization restart 3/10, f = 31.117607970702064\n",
      "Optimization restart 4/10, f = 773874951.2218213\n",
      "Optimization restart 5/10, f = 236.93260072349133\n",
      "Optimization restart 6/10, f = 51.08178719536846\n",
      "Optimization restart 7/10, f = 23.032252779910912\n",
      "Optimization restart 8/10, f = 24.171940985019408\n",
      "Optimization restart 9/10, f = 43.085327215058776\n",
      "Optimization restart 10/10, f = 49.00916070164625\n",
      "(4_w,9)-aCMA-ES (mu_w=2.8,w_1=49%) in dimension 6 (seed=457412, Tue Aug 25 00:33:07 2020)\n",
      "Iterat #Fevals   function value  axis ratio  sigma  min&max std  t[m:s]\n",
      "    1      9 -0.000000000000000e+00 1.0e+00 2.73e-01  2e-01  3e-01 0:00.3\n",
      "termination on tolfun=1e-11 (Tue Aug 25 00:33:08 2020)\n",
      "final/bestever f-value = -0.000000e+00 -0.000000e+00\n",
      "incumbent solution: [0.9745115932724177, 0.5657088888956264, 4.014758160162246, 1.6743912055194392, 2.427701536069719, 3.1677040864261734]\n",
      "std deviation: [0.2822711633983322, 0.2716300715987049, 0.32720668710776946, 0.27491657457594953, 0.26506480578495734, 0.24849111342641353]\n"
     ]
    },
    {
     "name": "stderr",
     "output_type": "stream",
     "text": [
      " /home/finley/miniconda3/envs/testsuite/lib/python3.8/site-packages/cma/utilities/utils.py:329: UserWarning:flat fitness (f=-0.000000, sigma=2.73e-01).\n",
      "                    For small sigma, this could indicate numerical convergence.\n",
      "                    Otherwise, please (re)consider how to compute the fitness more elaborately. (iteration=1)\n",
      "reconstraining parameters GP_regression.Mat52.lengthscale\n",
      "reconstraining parameters GP_regression.Mat52.variance\n",
      "reconstraining parameters GP_regression.Gaussian_noise.variance\n"
     ]
    },
    {
     "name": "stdout",
     "output_type": "stream",
     "text": [
      "Optimization restart 1/10, f = 46.97266235000778\n",
      "Optimization restart 2/10, f = 50.139595492745\n",
      "Optimization restart 3/10, f = 51.24009679700296\n",
      "Optimization restart 4/10, f = 1065092801.5165159\n",
      "Optimization restart 5/10, f = 213.93750462944487\n",
      "Optimization restart 6/10, f = 51.46886267724565\n",
      "Optimization restart 7/10, f = 219.23969096706531\n"
     ]
    },
    {
     "name": "stderr",
     "output_type": "stream",
     "text": [
      "reconstraining parameters GP_regression.Mat52.lengthscale\n",
      "reconstraining parameters GP_regression.Mat52.variance\n",
      "reconstraining parameters GP_regression.Gaussian_noise.variance\n"
     ]
    },
    {
     "name": "stdout",
     "output_type": "stream",
     "text": [
      "Optimization restart 8/10, f = 52.46525910898331\n",
      "Optimization restart 9/10, f = 246.990031830524\n",
      "Optimization restart 10/10, f = 1843613.7250243227\n",
      "Optimization restart 1/10, f = 20.070122099947003\n",
      "Optimization restart 2/10, f = 246.990031830524\n",
      "Optimization restart 3/10, f = 42.695564763163546\n",
      "Optimization restart 4/10, f = 227.30422562383598\n",
      "Optimization restart 5/10, f = 223.17258413592984\n",
      "Optimization restart 6/10, f = 49.76114338900766\n",
      "Optimization restart 7/10, f = 797658301.7088896\n",
      "Optimization restart 8/10, f = 246.990031830524\n",
      "Optimization restart 9/10, f = 52.50072572857553\n",
      "Optimization restart 10/10, f = 52.50072572857289\n",
      "(4_w,9)-aCMA-ES (mu_w=2.8,w_1=49%) in dimension 6 (seed=389347, Tue Aug 25 00:33:11 2020)\n",
      "Iterat #Fevals   function value  axis ratio  sigma  min&max std  t[m:s]\n",
      "    1      9 -0.000000000000000e+00 1.0e+00 2.18e-01  2e-01  2e-01 0:00.3\n"
     ]
    },
    {
     "name": "stderr",
     "output_type": "stream",
     "text": [
      "reconstraining parameters GP_regression.Mat52.lengthscale\n",
      "reconstraining parameters GP_regression.Mat52.variance\n",
      "reconstraining parameters GP_regression.Gaussian_noise.variance\n"
     ]
    },
    {
     "name": "stdout",
     "output_type": "stream",
     "text": [
      "termination on tolfun=1e-11 (Tue Aug 25 00:33:11 2020)\n",
      "final/bestever f-value = -0.000000e+00 -0.000000e+00\n",
      "incumbent solution: [0.39950106947152836, 3.393210686376982, 1.739082467492052, 1.834747541710104, 5.3635249585542555, 7.679639565145487]\n",
      "std deviation: [0.22501674367374358, 0.2209415854468086, 0.21392898549851558, 0.20508848110355313, 0.21872725656193465, 0.2094524058392494]\n",
      "Optimization restart 1/10, f = 50.09473897910807\n",
      "Optimization restart 2/10, f = 47.78189266693211\n",
      "Optimization restart 3/10, f = 100.41669490461008\n",
      "Optimization restart 4/10, f = 237.4481720681208\n",
      "Optimization restart 5/10, f = 88.7979873611686\n",
      "Optimization restart 6/10, f = 1093777630.9050977\n",
      "Optimization restart 7/10, f = 55.996401796999905\n",
      "Optimization restart 8/10, f = 253.66543809621388\n"
     ]
    },
    {
     "name": "stderr",
     "output_type": "stream",
     "text": [
      "reconstraining parameters GP_regression.Mat52.lengthscale\n",
      "reconstraining parameters GP_regression.Mat52.variance\n",
      "reconstraining parameters GP_regression.Gaussian_noise.variance\n"
     ]
    },
    {
     "name": "stdout",
     "output_type": "stream",
     "text": [
      "Optimization restart 9/10, f = 200.41813653578663\n",
      "Optimization restart 10/10, f = 50.49928643261354\n",
      "Optimization restart 1/10, f = 20.689636173585406\n",
      "Optimization restart 2/10, f = 856272551.0113792\n",
      "Optimization restart 3/10, f = 1897918.0911728302\n",
      "Optimization restart 4/10, f = 253.66543809621388\n",
      "Optimization restart 5/10, f = 50.022023535780306\n",
      "Optimization restart 6/10, f = 51.02231533963693\n",
      "Optimization restart 7/10, f = 240.9498826395587\n",
      "Optimization restart 8/10, f = 53.91966426177757\n",
      "Optimization restart 9/10, f = 19.457712535887104\n",
      "Optimization restart 10/10, f = 1897918.0911728302\n",
      "(4_w,9)-aCMA-ES (mu_w=2.8,w_1=49%) in dimension 6 (seed=429694, Tue Aug 25 00:33:14 2020)\n",
      "Iterat #Fevals   function value  axis ratio  sigma  min&max std  t[m:s]\n",
      "    1      9 -0.000000000000000e+00 1.0e+00 2.10e-01  2e-01  2e-01 0:00.3\n"
     ]
    },
    {
     "name": "stderr",
     "output_type": "stream",
     "text": [
      " /home/finley/miniconda3/envs/testsuite/lib/python3.8/site-packages/cma/utilities/utils.py:329: UserWarning:flat fitness (f=-0.000000, sigma=2.10e-01).\n",
      "                    For small sigma, this could indicate numerical convergence.\n",
      "                    Otherwise, please (re)consider how to compute the fitness more elaborately. (iteration=1)\n",
      "reconstraining parameters GP_regression.Mat52.lengthscale\n",
      "reconstraining parameters GP_regression.Mat52.variance\n",
      "reconstraining parameters GP_regression.Gaussian_noise.variance\n"
     ]
    },
    {
     "name": "stdout",
     "output_type": "stream",
     "text": [
      "termination on tolfun=1e-11 (Tue Aug 25 00:33:15 2020)\n",
      "final/bestever f-value = -0.000000e+00 -0.000000e+00\n",
      "incumbent solution: [0.9315335878137592, 3.1627077971325313, 5.168725686348203, 5.050606079636962, 1.7552751536636935, 0.6197778663220264]\n",
      "std deviation: [0.20154200750373732, 0.20596202152841595, 0.21243676893308866, 0.19648166674209264, 0.2003926333866312, 0.2072258257943667]\n",
      "Optimization restart 1/10, f = 48.954886802281464\n",
      "Optimization restart 2/10, f = 199.833543620069\n",
      "Optimization restart 3/10, f = 96.15344996057823\n",
      "Optimization restart 4/10, f = 53.9713493566445\n",
      "Optimization restart 5/10, f = 260.34084436190375\n",
      "Optimization restart 6/10, f = 249.67121031661082\n",
      "Optimization restart 7/10, f = 260.34084436190375\n",
      "Optimization restart 8/10, f = 49.048523001710706\n"
     ]
    },
    {
     "name": "stderr",
     "output_type": "stream",
     "text": [
      "reconstraining parameters GP_regression.Mat52.lengthscale\n",
      "reconstraining parameters GP_regression.Mat52.variance\n",
      "reconstraining parameters GP_regression.Gaussian_noise.variance\n"
     ]
    },
    {
     "name": "stdout",
     "output_type": "stream",
     "text": [
      "Optimization restart 9/10, f = 97.54009978349131\n",
      "Optimization restart 10/10, f = 260.34084436190375\n",
      "Optimization restart 1/10, f = 19.2487000116819\n",
      "Optimization restart 2/10, f = 260.34084436190375\n",
      "Optimization restart 3/10, f = 20.867115749994632\n",
      "Optimization restart 4/10, f = 49.80887182026379\n",
      "Optimization restart 5/10, f = 255.22645271091793\n",
      "Optimization restart 6/10, f = 55.419184706271345\n",
      "Optimization restart 7/10, f = 881572369.1908149\n",
      "Optimization restart 8/10, f = 51.69341626310951\n",
      "Optimization restart 9/10, f = 260.34084436190375\n",
      "Optimization restart 10/10, f = 1947863.30409843\n",
      "(4_w,9)-aCMA-ES (mu_w=2.8,w_1=49%) in dimension 6 (seed=442664, Tue Aug 25 00:33:18 2020)\n",
      "Iterat #Fevals   function value  axis ratio  sigma  min&max std  t[m:s]\n",
      "    1      9 -0.000000000000000e+00 1.0e+00 2.35e-01  2e-01  2e-01 0:00.3\n"
     ]
    },
    {
     "name": "stderr",
     "output_type": "stream",
     "text": [
      " /home/finley/miniconda3/envs/testsuite/lib/python3.8/site-packages/cma/utilities/utils.py:329: UserWarning:flat fitness (f=-0.000000, sigma=2.35e-01).\n",
      "                    For small sigma, this could indicate numerical convergence.\n",
      "                    Otherwise, please (re)consider how to compute the fitness more elaborately. (iteration=1)\n",
      "reconstraining parameters GP_regression.Mat52.lengthscale\n",
      "reconstraining parameters GP_regression.Mat52.variance\n",
      "reconstraining parameters GP_regression.Gaussian_noise.variance\n"
     ]
    },
    {
     "name": "stdout",
     "output_type": "stream",
     "text": [
      "termination on tolfun=1e-11 (Tue Aug 25 00:33:19 2020)\n",
      "final/bestever f-value = -0.000000e+00 -0.000000e+00\n",
      "incumbent solution: [0.6181926489834659, 1.4010172245326684, 2.7233077471861766, 3.705454071616213, 7.526162726314719, 11.472548119443664]\n",
      "std deviation: [0.23757706903262477, 0.2385079882973784, 0.24493020450225975, 0.23399352110709676, 0.22858361076103362, 0.2146955595521179]\n",
      "Optimization restart 1/10, f = 48.583120759338506\n",
      "Optimization restart 2/10, f = 246.78244412692342\n",
      "Optimization restart 3/10, f = 58.458704519266085\n",
      "Optimization restart 4/10, f = 83.99389502724867\n",
      "Optimization restart 5/10, f = 53.06069319085356\n",
      "Optimization restart 6/10, f = 274.8317910425725\n",
      "Optimization restart 7/10, f = 88.9197176843104\n",
      "Optimization restart 8/10, f = 81.84321479208003\n",
      "Optimization restart 9/10, f = 254.51317456583237\n"
     ]
    },
    {
     "name": "stderr",
     "output_type": "stream",
     "text": [
      "reconstraining parameters GP_regression.Mat52.lengthscale\n",
      "reconstraining parameters GP_regression.Mat52.variance\n",
      "reconstraining parameters GP_regression.Gaussian_noise.variance\n"
     ]
    },
    {
     "name": "stdout",
     "output_type": "stream",
     "text": [
      "Optimization restart 10/10, f = 112.32357421147117\n",
      "Optimization restart 1/10, f = 19.686069417450483\n",
      "Optimization restart 2/10, f = 914539291.127855\n",
      "Optimization restart 3/10, f = 25.099307945817092\n",
      "Optimization restart 4/10, f = 203.89022048036196\n",
      "Optimization restart 5/10, f = 216.40181928002485\n",
      "Optimization restart 6/10, f = 914657052.1729223\n",
      "Optimization restart 7/10, f = 53.04789425346162\n",
      "Optimization restart 8/10, f = 913062818.7004497\n",
      "Optimization restart 9/10, f = 914267484.5973835\n",
      "Optimization restart 10/10, f = 54.05718895489005\n",
      "(4_w,9)-aCMA-ES (mu_w=2.8,w_1=49%) in dimension 6 (seed=462313, Tue Aug 25 00:33:23 2020)\n",
      "Iterat #Fevals   function value  axis ratio  sigma  min&max std  t[m:s]\n",
      "    1      9 -0.000000000000000e+00 1.0e+00 2.50e-01  2e-01  3e-01 0:00.3\n"
     ]
    },
    {
     "name": "stderr",
     "output_type": "stream",
     "text": [
      " /home/finley/miniconda3/envs/testsuite/lib/python3.8/site-packages/cma/utilities/utils.py:329: UserWarning:flat fitness (f=-0.000000, sigma=2.50e-01).\n",
      "                    For small sigma, this could indicate numerical convergence.\n",
      "                    Otherwise, please (re)consider how to compute the fitness more elaborately. (iteration=1)\n",
      "reconstraining parameters GP_regression.Mat52.lengthscale\n",
      "reconstraining parameters GP_regression.Mat52.variance\n",
      "reconstraining parameters GP_regression.Gaussian_noise.variance\n"
     ]
    },
    {
     "name": "stdout",
     "output_type": "stream",
     "text": [
      "termination on tolfun=1e-11 (Tue Aug 25 00:33:24 2020)\n",
      "final/bestever f-value = -0.000000e+00 -0.000000e+00\n",
      "incumbent solution: [0.9349018043510946, 3.3954247691021284, 4.143960443762964, 2.5651969994796704, 4.411082235544771, 4.481139501744379]\n",
      "std deviation: [0.2633701028278094, 0.24462335699927484, 0.25687661466416695, 0.25237779785157016, 0.23761789275427272, 0.23719213762966893]\n",
      "Optimization restart 1/10, f = 49.48186713320491\n",
      "Optimization restart 2/10, f = 2047753.729949632\n",
      "Optimization restart 3/10, f = 273.6916568932833\n",
      "Optimization restart 4/10, f = 261.2015945530421\n",
      "Optimization restart 5/10, f = 261.2388873760609\n",
      "Optimization restart 6/10, f = 63.22440751435325\n",
      "Optimization restart 7/10, f = 223.42296264286117\n",
      "Optimization restart 8/10, f = 273.6916568932833\n"
     ]
    },
    {
     "name": "stderr",
     "output_type": "stream",
     "text": [
      "reconstraining parameters GP_regression.Mat52.lengthscale\n",
      "reconstraining parameters GP_regression.Mat52.variance\n",
      "reconstraining parameters GP_regression.Gaussian_noise.variance\n"
     ]
    },
    {
     "name": "stdout",
     "output_type": "stream",
     "text": [
      "Optimization restart 9/10, f = 210.83213682455303\n",
      "Optimization restart 10/10, f = 54.425439009700554\n",
      "Optimization restart 1/10, f = 18.997999162052352\n",
      "Optimization restart 2/10, f = 55.60401484091537\n",
      "Optimization restart 3/10, f = 273.6916568932833\n",
      "Optimization restart 4/10, f = 18.99799921724173\n",
      "Optimization restart 5/10, f = 260.9204073388845\n",
      "Optimization restart 6/10, f = 260.52660850897786\n",
      "Optimization restart 7/10, f = 33.3529731310651\n",
      "Optimization restart 8/10, f = 268.9069618532464\n",
      "Optimization restart 9/10, f = 345.78121366014284\n",
      "Optimization restart 10/10, f = 246.81217598356255\n",
      "(4_w,9)-aCMA-ES (mu_w=2.8,w_1=49%) in dimension 6 (seed=474376, Tue Aug 25 00:33:26 2020)\n",
      "Iterat #Fevals   function value  axis ratio  sigma  min&max std  t[m:s]\n",
      "    1      9 -0.000000000000000e+00 1.0e+00 2.45e-01  2e-01  3e-01 0:00.4\n"
     ]
    },
    {
     "name": "stderr",
     "output_type": "stream",
     "text": [
      " /home/finley/miniconda3/envs/testsuite/lib/python3.8/site-packages/cma/utilities/utils.py:329: UserWarning:flat fitness (f=-0.000000, sigma=2.45e-01).\n",
      "                    For small sigma, this could indicate numerical convergence.\n",
      "                    Otherwise, please (re)consider how to compute the fitness more elaborately. (iteration=1)\n",
      "reconstraining parameters GP_regression.Mat52.lengthscale\n",
      "reconstraining parameters GP_regression.Mat52.variance\n",
      "reconstraining parameters GP_regression.Gaussian_noise.variance\n"
     ]
    },
    {
     "name": "stdout",
     "output_type": "stream",
     "text": [
      "termination on tolfun=1e-11 (Tue Aug 25 00:33:27 2020)\n",
      "final/bestever f-value = -0.000000e+00 -0.000000e+00\n",
      "incumbent solution: [0.16865685886972542, 0.926011772760792, 5.039115653929032, 4.4859186260925465, 3.5644840718884754, 8.752801335246575]\n",
      "std deviation: [0.23887772365595925, 0.26282199184105637, 0.2492581735697743, 0.23703586785760533, 0.2376927309154183, 0.2450659269927289]\n",
      "Optimization restart 1/10, f = 48.693976311911406\n",
      "Optimization restart 2/10, f = 222.07601242095689\n",
      "Optimization restart 3/10, f = 262.8102959657005\n",
      "Optimization restart 4/10, f = 280.36706315897317\n",
      "Optimization restart 5/10, f = 59.59541839459639\n",
      "Optimization restart 6/10, f = 59.59541839459626\n",
      "Optimization restart 7/10, f = 280.36706315897317\n",
      "Optimization restart 8/10, f = 53.47210065031754\n"
     ]
    },
    {
     "name": "stderr",
     "output_type": "stream",
     "text": [
      "reconstraining parameters GP_regression.Mat52.lengthscale\n",
      "reconstraining parameters GP_regression.Mat52.variance\n",
      "reconstraining parameters GP_regression.Gaussian_noise.variance\n"
     ]
    },
    {
     "name": "stdout",
     "output_type": "stream",
     "text": [
      "Optimization restart 9/10, f = 96.90421673605493\n",
      "Optimization restart 10/10, f = 55.79486351181929\n",
      "Optimization restart 1/10, f = 19.02930203908518\n",
      "Optimization restart 2/10, f = 2097698.942875233\n",
      "Optimization restart 3/10, f = 249.54659677767216\n",
      "Optimization restart 4/10, f = 55.95587607070897\n",
      "Optimization restart 5/10, f = 235.7406894251715\n",
      "Optimization restart 6/10, f = 280.36706315897317\n",
      "Optimization restart 7/10, f = 59.382130576872314\n",
      "Optimization restart 8/10, f = 55.4356244212412\n",
      "Optimization restart 9/10, f = 59.595418394598624\n",
      "Optimization restart 10/10, f = 280.36706315897317\n",
      "(4_w,9)-aCMA-ES (mu_w=2.8,w_1=49%) in dimension 6 (seed=445661, Tue Aug 25 00:33:31 2020)\n",
      "Iterat #Fevals   function value  axis ratio  sigma  min&max std  t[m:s]\n",
      "    1      9 -0.000000000000000e+00 1.0e+00 2.39e-01  2e-01  3e-01 0:00.4\n"
     ]
    },
    {
     "name": "stderr",
     "output_type": "stream",
     "text": [
      " /home/finley/miniconda3/envs/testsuite/lib/python3.8/site-packages/cma/utilities/utils.py:329: UserWarning:flat fitness (f=-0.000000, sigma=2.39e-01).\n",
      "                    For small sigma, this could indicate numerical convergence.\n",
      "                    Otherwise, please (re)consider how to compute the fitness more elaborately. (iteration=1)\n",
      "reconstraining parameters GP_regression.Mat52.lengthscale\n",
      "reconstraining parameters GP_regression.Mat52.variance\n",
      "reconstraining parameters GP_regression.Gaussian_noise.variance\n"
     ]
    },
    {
     "name": "stdout",
     "output_type": "stream",
     "text": [
      "termination on tolfun=1e-11 (Tue Aug 25 00:33:31 2020)\n",
      "final/bestever f-value = -0.000000e+00 -0.000000e+00\n",
      "incumbent solution: [1.942688073312212, 2.2038690679386295, 5.423844253559971, 5.543913123955827, 8.600683907764584, 7.687016914773243]\n",
      "std deviation: [0.23787227318408236, 0.2164151576965545, 0.2282563953335599, 0.25390905393156643, 0.24608403694951447, 0.24040475816606582]\n",
      "Optimization restart 1/10, f = 49.97663826227786\n",
      "Optimization restart 2/10, f = 269.06923508680416\n",
      "Optimization restart 3/10, f = 273.60944068627083\n",
      "Optimization restart 4/10, f = 280.52282399475\n",
      "Optimization restart 5/10, f = 50.0586876829738\n",
      "Optimization restart 6/10, f = 267.9842500876846\n",
      "Optimization restart 7/10, f = 241.6095956323778\n",
      "Optimization restart 8/10, f = 133.95737178870903\n",
      "Optimization restart 9/10, f = 287.04246942466307\n"
     ]
    },
    {
     "name": "stderr",
     "output_type": "stream",
     "text": [
      "reconstraining parameters GP_regression.Mat52.lengthscale\n",
      "reconstraining parameters GP_regression.Mat52.variance\n",
      "reconstraining parameters GP_regression.Gaussian_noise.variance\n"
     ]
    },
    {
     "name": "stdout",
     "output_type": "stream",
     "text": [
      "Optimization restart 10/10, f = 56.82516528215191\n",
      "Optimization restart 1/10, f = 20.30434315514429\n",
      "Optimization restart 2/10, f = 61.01435692780093\n",
      "Optimization restart 3/10, f = 247.77515688888974\n",
      "Optimization restart 4/10, f = 940749040.496389\n",
      "Optimization restart 5/10, f = 283.235369993413\n",
      "Optimization restart 6/10, f = 287.04246942466307\n",
      "Optimization restart 7/10, f = 61.014357036409166\n",
      "Optimization restart 8/10, f = 2147644.1558008334\n",
      "Optimization restart 9/10, f = 64.360587250636\n",
      "Optimization restart 10/10, f = 2147644.1558008334\n",
      "(4_w,9)-aCMA-ES (mu_w=2.8,w_1=49%) in dimension 6 (seed=439497, Tue Aug 25 00:33:35 2020)\n",
      "Iterat #Fevals   function value  axis ratio  sigma  min&max std  t[m:s]\n",
      "    1      9 -0.000000000000000e+00 1.0e+00 2.32e-01  2e-01  2e-01 0:00.4\n"
     ]
    },
    {
     "name": "stderr",
     "output_type": "stream",
     "text": [
      " /home/finley/miniconda3/envs/testsuite/lib/python3.8/site-packages/cma/utilities/utils.py:329: UserWarning:flat fitness (f=-0.000000, sigma=2.32e-01).\n",
      "                    For small sigma, this could indicate numerical convergence.\n",
      "                    Otherwise, please (re)consider how to compute the fitness more elaborately. (iteration=1)\n",
      "reconstraining parameters GP_regression.Mat52.lengthscale\n",
      "reconstraining parameters GP_regression.Mat52.variance\n",
      "reconstraining parameters GP_regression.Gaussian_noise.variance\n"
     ]
    },
    {
     "name": "stdout",
     "output_type": "stream",
     "text": [
      "termination on tolfun=1e-11 (Tue Aug 25 00:33:36 2020)\n",
      "final/bestever f-value = -0.000000e+00 -0.000000e+00\n",
      "incumbent solution: [1.1428331992782763, 1.0353911359085501, 5.064558262525808, 5.208129258090389, 1.417756724069926, 0.4608899120719684]\n",
      "std deviation: [0.2327968477382658, 0.22511282364670013, 0.23169545664265306, 0.22283197466940977, 0.22924036541055187, 0.24105816722781123]\n",
      "Optimization restart 1/10, f = 51.02559127379277\n",
      "Optimization restart 2/10, f = 60.265300059531924\n",
      "Optimization restart 3/10, f = 293.7178756903529\n",
      "Optimization restart 4/10, f = 62.4332954610056\n",
      "Optimization restart 5/10, f = 101.45863289838047\n",
      "Optimization restart 6/10, f = 61.026403193826205\n",
      "Optimization restart 7/10, f = 282.7486807521641\n",
      "Optimization restart 8/10, f = 293.7178756903529\n"
     ]
    },
    {
     "name": "stderr",
     "output_type": "stream",
     "text": [
      "reconstraining parameters GP_regression.Mat52.lengthscale\n",
      "reconstraining parameters GP_regression.Mat52.variance\n",
      "reconstraining parameters GP_regression.Gaussian_noise.variance\n"
     ]
    },
    {
     "name": "stdout",
     "output_type": "stream",
     "text": [
      "Optimization restart 9/10, f = 56.431394432948906\n",
      "Optimization restart 10/10, f = 62.4332954610056\n",
      "Optimization restart 1/10, f = 20.676020832812238\n",
      "Optimization restart 2/10, f = 35.47902586720651\n",
      "Optimization restart 3/10, f = 218.63610690105202\n",
      "Optimization restart 4/10, f = 60.589208028351905\n",
      "Optimization restart 5/10, f = 33.95730087468532\n",
      "Optimization restart 6/10, f = 32.33278626421368\n",
      "Optimization restart 7/10, f = 255.429088088813\n",
      "Optimization restart 8/10, f = 35.479042364391944\n",
      "Optimization restart 9/10, f = 91.22485692993878\n",
      "Optimization restart 10/10, f = 293.7178756903529\n",
      "(4_w,9)-aCMA-ES (mu_w=2.8,w_1=49%) in dimension 6 (seed=423786, Tue Aug 25 00:33:40 2020)\n",
      "Iterat #Fevals   function value  axis ratio  sigma  min&max std  t[m:s]\n",
      "    1      9 -0.000000000000000e+00 1.0e+00 2.47e-01  2e-01  3e-01 0:00.3\n"
     ]
    },
    {
     "name": "stderr",
     "output_type": "stream",
     "text": [
      " /home/finley/miniconda3/envs/testsuite/lib/python3.8/site-packages/cma/utilities/utils.py:329: UserWarning:function_values is not a list of scalars,\n",
      "                        the first element equals [1.3386201] with non-scalar type <class 'numpy.ndarray'>.\n",
      "                        Using now ``[v[0] for v in function_values]`` instead (further warnings are suppressed) ()\n"
     ]
    },
    {
     "name": "stdout",
     "output_type": "stream",
     "text": [
      "    2     18 -0.000000000000000e+00 1.3e+00 2.86e-01  3e-01  3e-01 0:00.6\n"
     ]
    },
    {
     "name": "stderr",
     "output_type": "stream",
     "text": [
      " /home/finley/miniconda3/envs/testsuite/lib/python3.8/site-packages/cma/utilities/utils.py:329: UserWarning:function_values is not a list of scalars,\n",
      "                        the first element equals [1.43326475] with non-scalar type <class 'numpy.ndarray'>.\n",
      "                        Using now ``[v[0] for v in function_values]`` instead (further warnings are suppressed) ()\n"
     ]
    },
    {
     "name": "stdout",
     "output_type": "stream",
     "text": [
      "    3     27 -9.581084586631761e-04 1.6e+00 3.27e-01  3e-01  4e-01 0:01.0\n"
     ]
    },
    {
     "name": "stderr",
     "output_type": "stream",
     "text": [
      " /home/finley/miniconda3/envs/testsuite/lib/python3.8/site-packages/cma/utilities/utils.py:329: UserWarning:flat fitness (f=-0.000000, sigma=4.28e-01).\n",
      "                    For small sigma, this could indicate numerical convergence.\n",
      "                    Otherwise, please (re)consider how to compute the fitness more elaborately. (iteration=5)\n",
      " /home/finley/miniconda3/envs/testsuite/lib/python3.8/site-packages/cma/utilities/utils.py:329: UserWarning:flat fitness (f=-0.000000, sigma=3.63e-01).\n",
      "                    For small sigma, this could indicate numerical convergence.\n",
      "                    Otherwise, please (re)consider how to compute the fitness more elaborately. (iteration=10)\n"
     ]
    },
    {
     "name": "stdout",
     "output_type": "stream",
     "text": [
      "   11     99 -4.106702894471681e-03 2.3e+00 3.29e-01  3e-01  4e-01 0:04.2\n"
     ]
    },
    {
     "name": "stderr",
     "output_type": "stream",
     "text": [
      " /home/finley/miniconda3/envs/testsuite/lib/python3.8/site-packages/cma/utilities/utils.py:329: UserWarning:flat fitness (f=-0.000000, sigma=3.43e-01).\n",
      "                    For small sigma, this could indicate numerical convergence.\n",
      "                    Otherwise, please (re)consider how to compute the fitness more elaborately. (iteration=12)\n",
      " /home/finley/miniconda3/envs/testsuite/lib/python3.8/site-packages/cma/utilities/utils.py:329: UserWarning:flat fitness (f=-0.000000, sigma=3.02e-01).\n",
      "                    For small sigma, this could indicate numerical convergence.\n",
      "                    Otherwise, please (re)consider how to compute the fitness more elaborately. (iteration=13)\n"
     ]
    },
    {
     "name": "stdout",
     "output_type": "stream",
     "text": [
      "   21    189 -2.623420406241461e-02 2.4e+00 3.51e-01  2e-01  4e-01 0:08.2\n",
      "   33    297 -3.367720096368787e-02 2.8e+00 1.48e-01  8e-02  2e-01 0:13.3\n",
      "   49    441 -3.384458134959623e-02 5.9e+00 8.09e-02  2e-02  1e-01 0:19.7\n",
      "   67    603 -3.541083773536879e-02 1.7e+01 8.82e-02  1e-02  2e-01 0:26.7\n",
      "   87    783 -3.555803533047452e-02 1.3e+01 2.14e-02  2e-03  2e-02 0:35.0\n",
      "  100    900 -3.556111798457007e-02 1.6e+01 7.73e-03  5e-04  5e-03 0:40.3\n",
      "  125   1125 -3.556149172268164e-02 2.5e+01 1.22e-03  5e-05  8e-04 0:50.5\n",
      "  152   1368 -3.556149366993466e-02 7.3e+01 1.58e-04  3e-06  1e-04 1:01.6\n",
      "  182   1638 -3.556149368127270e-02 1.8e+02 1.75e-05  1e-07  2e-05 1:13.7\n"
     ]
    },
    {
     "name": "stderr",
     "output_type": "stream",
     "text": [
      "reconstraining parameters GP_regression.Mat52.lengthscale\n",
      "reconstraining parameters GP_regression.Mat52.variance\n",
      "reconstraining parameters GP_regression.Gaussian_noise.variance\n"
     ]
    },
    {
     "name": "stdout",
     "output_type": "stream",
     "text": [
      "termination on tolfun=1e-11 (Tue Aug 25 00:34:54 2020)\n",
      "final/bestever f-value = -3.556149e-02 -3.556149e-02\n",
      "incumbent solution: [0.4259640936243351, 2.8572382341125326, 1.8324596910843245, 3.1839295685548574, 6.176004519932641e-14, 10.347253159528666]\n",
      "std deviation: [1.9235089506931272e-07, 1.4316648170570306e-07, 3.5467694604056947e-07, 1.1715266222989884e-06, 8.478618553723995e-07, 1.7239674803824275e-05]\n",
      "Optimization restart 1/10, f = 53.157375236793314\n",
      "Optimization restart 2/10, f = 104.64126527883383\n",
      "Optimization restart 3/10, f = 287.78482756871193\n",
      "Optimization restart 4/10, f = 264.97650561646304\n",
      "Optimization restart 5/10, f = 251799.5354416801\n",
      "Optimization restart 6/10, f = 300.3932819560427\n",
      "Optimization restart 7/10, f = 300.3932819560427\n",
      "Optimization restart 8/10, f = 285.71251546222476\n",
      "Optimization restart 9/10, f = 287.5156365622837\n"
     ]
    },
    {
     "name": "stderr",
     "output_type": "stream",
     "text": [
      "reconstraining parameters GP_regression.Mat52.lengthscale\n",
      "reconstraining parameters GP_regression.Mat52.variance\n",
      "reconstraining parameters GP_regression.Gaussian_noise.variance\n"
     ]
    },
    {
     "name": "stdout",
     "output_type": "stream",
     "text": [
      "Optimization restart 10/10, f = 1311101983.1648974\n",
      "Optimization restart 1/10, f = 21.602816449399416\n",
      "Optimization restart 2/10, f = 91.27487645469415\n",
      "Optimization restart 3/10, f = 985719506.6067665\n",
      "Optimization restart 4/10, f = 60.86598712155221\n",
      "Optimization restart 5/10, f = 31.838987341477765\n",
      "Optimization restart 6/10, f = 985938901.1162277\n",
      "Optimization restart 7/10, f = 3770.130325427693\n",
      "Optimization restart 8/10, f = 300.3932819560427\n",
      "Optimization restart 9/10, f = 300.3932819560427\n",
      "Optimization restart 10/10, f = 63.85223354238742\n",
      "(4_w,9)-aCMA-ES (mu_w=2.8,w_1=49%) in dimension 6 (seed=327606, Tue Aug 25 00:34:58 2020)\n",
      "Iterat #Fevals   function value  axis ratio  sigma  min&max std  t[m:s]\n",
      "    1      9 -0.000000000000000e+00 1.0e+00 2.37e-01  2e-01  2e-01 0:00.4\n"
     ]
    },
    {
     "name": "stderr",
     "output_type": "stream",
     "text": [
      " /home/finley/miniconda3/envs/testsuite/lib/python3.8/site-packages/cma/utilities/utils.py:329: UserWarning:flat fitness (f=-0.000000, sigma=2.37e-01).\n",
      "                    For small sigma, this could indicate numerical convergence.\n",
      "                    Otherwise, please (re)consider how to compute the fitness more elaborately. (iteration=1)\n",
      "reconstraining parameters GP_regression.Mat52.lengthscale\n",
      "reconstraining parameters GP_regression.Mat52.variance\n",
      "reconstraining parameters GP_regression.Gaussian_noise.variance\n"
     ]
    },
    {
     "name": "stdout",
     "output_type": "stream",
     "text": [
      "termination on tolfun=1e-11 (Tue Aug 25 00:34:58 2020)\n",
      "final/bestever f-value = -0.000000e+00 -0.000000e+00\n",
      "incumbent solution: [1.093470746555588, 3.9799771522570104, 0.22841304582545843, 1.5719134335238798, 4.706454161796987, 3.7094517570787446]\n",
      "std deviation: [0.21897499273344825, 0.24119295160930856, 0.23864631351427076, 0.23168032414097606, 0.24404179970516077, 0.23675833846363148]\n",
      "Optimization restart 1/10, f = 53.79844925061262\n",
      "Optimization restart 2/10, f = 307.0686882217325\n",
      "Optimization restart 3/10, f = 99.19860350133041\n",
      "Optimization restart 4/10, f = 1318593327.4845705\n",
      "Optimization restart 5/10, f = 142.35778072388953\n",
      "Optimization restart 6/10, f = 307.0686882217325\n",
      "Optimization restart 7/10, f = 288.322930348628\n",
      "Optimization restart 8/10, f = 65.27117252741522\n"
     ]
    },
    {
     "name": "stderr",
     "output_type": "stream",
     "text": [
      "reconstraining parameters GP_regression.Mat52.lengthscale\n",
      "reconstraining parameters GP_regression.Mat52.variance\n",
      "reconstraining parameters GP_regression.Gaussian_noise.variance\n"
     ]
    },
    {
     "name": "stdout",
     "output_type": "stream",
     "text": [
      "Optimization restart 9/10, f = 2297479.794577635\n",
      "Optimization restart 10/10, f = 290.05460945616977\n",
      "Optimization restart 1/10, f = 21.59736515467364\n",
      "Optimization restart 2/10, f = 59.619119442873675\n",
      "Optimization restart 3/10, f = 21.49409532087543\n",
      "Optimization restart 4/10, f = 21.70893847050548\n",
      "Optimization restart 5/10, f = 62.46142504755112\n",
      "Optimization restart 6/10, f = 307.0686882217325\n",
      "Optimization restart 7/10, f = 21.398264675767663\n",
      "Optimization restart 8/10, f = 1000466820.5688941\n",
      "Optimization restart 9/10, f = 34.27156760181224\n",
      "Optimization restart 10/10, f = 25.89801082554705\n",
      "(4_w,9)-aCMA-ES (mu_w=2.8,w_1=49%) in dimension 6 (seed=416972, Tue Aug 25 00:35:02 2020)\n",
      "Iterat #Fevals   function value  axis ratio  sigma  min&max std  t[m:s]\n",
      "    1      9 -0.000000000000000e+00 1.0e+00 2.24e-01  2e-01  2e-01 0:00.4\n"
     ]
    },
    {
     "name": "stderr",
     "output_type": "stream",
     "text": [
      " /home/finley/miniconda3/envs/testsuite/lib/python3.8/site-packages/cma/utilities/utils.py:329: UserWarning:function_values is not a list of scalars,\n",
      "                        the first element equals [1.10258232] with non-scalar type <class 'numpy.ndarray'>.\n",
      "                        Using now ``[v[0] for v in function_values]`` instead (further warnings are suppressed) ()\n"
     ]
    },
    {
     "name": "stdout",
     "output_type": "stream",
     "text": [
      "    2     18 -0.000000000000000e+00 1.2e+00 2.19e-01  2e-01  2e-01 0:00.8\n",
      "    3     27 -0.000000000000000e+00 1.4e+00 2.04e-01  2e-01  2e-01 0:01.2\n",
      "    9     81 -0.000000000000000e+00 1.7e+00 1.32e-01  1e-01  1e-01 0:03.7\n"
     ]
    },
    {
     "name": "stderr",
     "output_type": "stream",
     "text": [
      " /home/finley/miniconda3/envs/testsuite/lib/python3.8/site-packages/cma/utilities/utils.py:329: UserWarning:flat fitness (f=-0.000000, sigma=1.32e-01).\n",
      "                    For small sigma, this could indicate numerical convergence.\n",
      "                    Otherwise, please (re)consider how to compute the fitness more elaborately. (iteration=9)\n",
      "reconstraining parameters GP_regression.Mat52.lengthscale\n",
      "reconstraining parameters GP_regression.Mat52.variance\n",
      "reconstraining parameters GP_regression.Gaussian_noise.variance\n"
     ]
    },
    {
     "name": "stdout",
     "output_type": "stream",
     "text": [
      "termination on tolfun=1e-11 (Tue Aug 25 00:35:06 2020)\n",
      "final/bestever f-value = -0.000000e+00 -0.000000e+00\n",
      "incumbent solution: [0.9975805091783291, 0.9293039996878614, 2.311795861307416, 7.090740701702009, 7.828217897804505, 9.188113724692705]\n",
      "std deviation: [0.11421460907989639, 0.10730603921397071, 0.11785184887436616, 0.14023409621089672, 0.12285970216881129, 0.11174252176603743]\n",
      "Optimization restart 1/10, f = 55.108114580878365\n",
      "Optimization restart 2/10, f = 313.74409448742233\n",
      "Optimization restart 3/10, f = 313.74409448742233\n",
      "Optimization restart 4/10, f = 297.97247558693243\n",
      "Optimization restart 5/10, f = 61.45106840285423\n",
      "Optimization restart 6/10, f = 736615.530602415\n",
      "Optimization restart 7/10, f = 297.5540924715725\n",
      "Optimization restart 8/10, f = 277.18190125088574\n",
      "Optimization restart 9/10, f = 278.82762966513076\n"
     ]
    },
    {
     "name": "stderr",
     "output_type": "stream",
     "text": [
      "reconstraining parameters GP_regression.Mat52.lengthscale\n",
      "reconstraining parameters GP_regression.Mat52.variance\n",
      "reconstraining parameters GP_regression.Gaussian_noise.variance\n"
     ]
    },
    {
     "name": "stdout",
     "output_type": "stream",
     "text": [
      "Optimization restart 10/10, f = 62.297748011121556\n",
      "Optimization restart 1/10, f = 21.08761151042941\n",
      "Optimization restart 2/10, f = 21.19208319353008\n",
      "Optimization restart 3/10, f = 62.87482571022813\n",
      "Optimization restart 4/10, f = 70.71429629230124\n",
      "Optimization restart 5/10, f = 23.82352501364618\n",
      "Optimization restart 6/10, f = 63.53191078540058\n",
      "Optimization restart 7/10, f = 302.08780029774493\n",
      "Optimization restart 8/10, f = 71.52264724718529\n",
      "Optimization restart 9/10, f = 65.47222814510896\n",
      "Optimization restart 10/10, f = 302.1979148239572\n",
      "(4_w,9)-aCMA-ES (mu_w=2.8,w_1=49%) in dimension 6 (seed=347931, Tue Aug 25 00:35:11 2020)\n",
      "Iterat #Fevals   function value  axis ratio  sigma  min&max std  t[m:s]\n",
      "    1      9 -0.000000000000000e+00 1.0e+00 2.47e-01  2e-01  3e-01 0:00.4\n"
     ]
    },
    {
     "name": "stderr",
     "output_type": "stream",
     "text": [
      " /home/finley/miniconda3/envs/testsuite/lib/python3.8/site-packages/cma/utilities/utils.py:329: UserWarning:function_values is not a list of scalars,\n",
      "                        the first element equals [1.26744466] with non-scalar type <class 'numpy.ndarray'>.\n",
      "                        Using now ``[v[0] for v in function_values]`` instead (further warnings are suppressed) ()\n"
     ]
    },
    {
     "name": "stdout",
     "output_type": "stream",
     "text": [
      "    2     18 -0.000000000000000e+00 1.3e+00 2.44e-01  2e-01  3e-01 0:00.8\n",
      "    3     27 -0.000000000000000e+00 1.3e+00 2.48e-01  2e-01  3e-01 0:01.2\n",
      "   10     90 -0.000000000000000e+00 1.9e+00 3.67e-01  3e-01  4e-01 0:04.3\n"
     ]
    },
    {
     "name": "stderr",
     "output_type": "stream",
     "text": [
      "reconstraining parameters GP_regression.Mat52.lengthscale\n",
      "reconstraining parameters GP_regression.Mat52.variance\n",
      "reconstraining parameters GP_regression.Gaussian_noise.variance\n"
     ]
    },
    {
     "name": "stdout",
     "output_type": "stream",
     "text": [
      "termination on tolfunhist=1e-12 (Tue Aug 25 00:35:15 2020)\n",
      "final/bestever f-value = -0.000000e+00 -0.000000e+00\n",
      "incumbent solution: [0.6215801351802694, 2.894976000213543, 3.8759780960812296, 6.450777916518428, 4.280107782968781, 4.452758186184739]\n",
      "std deviation: [0.359477207547951, 0.2853775204234832, 0.28668630946901624, 0.3823865848943746, 0.3743434181066393, 0.39425643938158367]\n",
      "Optimization restart 1/10, f = 55.918477144200104\n",
      "Optimization restart 2/10, f = 66.77977259813176\n",
      "Optimization restart 3/10, f = 320.41950075311195\n",
      "Optimization restart 4/10, f = 284.7522444152646\n",
      "Optimization restart 5/10, f = 295.4086162084276\n",
      "Optimization restart 6/10, f = 320.4195007531122\n",
      "Optimization restart 7/10, f = 2397370.2204288365\n",
      "Optimization restart 8/10, f = 66.70835695033826\n"
     ]
    },
    {
     "name": "stderr",
     "output_type": "stream",
     "text": [
      "reconstraining parameters GP_regression.Mat52.lengthscale\n",
      "reconstraining parameters GP_regression.Mat52.variance\n",
      "reconstraining parameters GP_regression.Gaussian_noise.variance\n"
     ]
    },
    {
     "name": "stdout",
     "output_type": "stream",
     "text": [
      "Optimization restart 9/10, f = 65.09693234619041\n",
      "Optimization restart 10/10, f = 60.742418721558494\n",
      "Optimization restart 1/10, f = 21.154919839218536\n",
      "Optimization restart 2/10, f = 24.588479561659614\n",
      "Optimization restart 3/10, f = 320.4195007531122\n",
      "Optimization restart 4/10, f = 731.2924667585655\n",
      "Optimization restart 5/10, f = 63.54749359905116\n",
      "Optimization restart 6/10, f = 306.915145784497\n",
      "Optimization restart 7/10, f = 307.4455343646814\n",
      "Optimization restart 8/10, f = 5200320.015220107\n",
      "Optimization restart 9/10, f = 26.893044897670897\n",
      "Optimization restart 10/10, f = 21.17701152765873\n",
      "(4_w,9)-aCMA-ES (mu_w=2.8,w_1=49%) in dimension 6 (seed=429101, Tue Aug 25 00:35:18 2020)\n",
      "Iterat #Fevals   function value  axis ratio  sigma  min&max std  t[m:s]\n",
      "    1      9 -0.000000000000000e+00 1.0e+00 2.35e-01  2e-01  2e-01 0:00.4\n"
     ]
    },
    {
     "name": "stderr",
     "output_type": "stream",
     "text": [
      "reconstraining parameters GP_regression.Mat52.lengthscale\n",
      "reconstraining parameters GP_regression.Mat52.variance\n",
      "reconstraining parameters GP_regression.Gaussian_noise.variance\n"
     ]
    },
    {
     "name": "stdout",
     "output_type": "stream",
     "text": [
      "termination on tolfun=1e-11 (Tue Aug 25 00:35:19 2020)\n",
      "final/bestever f-value = -0.000000e+00 -0.000000e+00\n",
      "incumbent solution: [1.890354561108003, 2.4848341275435457, 1.7785771237248247, 0.745397332119446, 9.806359353112736, 10.720176976050167]\n",
      "std deviation: [0.22059650401391942, 0.22759464013477332, 0.24776995601663745, 0.2295966525299994, 0.2327596389266863, 0.23076641083641677]\n",
      "Optimization restart 1/10, f = 57.366044178336885\n",
      "Optimization restart 2/10, f = 124.53540061777832\n",
      "Optimization restart 3/10, f = 105.72570414089066\n",
      "Optimization restart 4/10, f = 62.96132021857863\n",
      "Optimization restart 5/10, f = 67.92020137415663\n",
      "Optimization restart 6/10, f = 458.54186207080375\n",
      "Optimization restart 7/10, f = 2447315.433354438\n"
     ]
    },
    {
     "name": "stderr",
     "output_type": "stream",
     "text": [
      "reconstraining parameters GP_regression.Mat52.lengthscale\n",
      "reconstraining parameters GP_regression.Mat52.variance\n"
     ]
    },
    {
     "name": "stdout",
     "output_type": "stream",
     "text": [
      "Optimization restart 8/10, f = 1371773750.6870615\n",
      "Optimization restart 9/10, f = 2447315.433354438\n",
      "Optimization restart 10/10, f = 2447315.433354438\n"
     ]
    },
    {
     "name": "stderr",
     "output_type": "stream",
     "text": [
      "reconstraining parameters GP_regression.Gaussian_noise.variance\n"
     ]
    },
    {
     "name": "stdout",
     "output_type": "stream",
     "text": [
      "Optimization restart 1/10, f = 22.0923274970188\n",
      "Optimization restart 2/10, f = 312.2037468921687\n",
      "Optimization restart 3/10, f = 51.70125916259798\n",
      "Optimization restart 4/10, f = 2447315.433354438\n",
      "Optimization restart 5/10, f = 297.3357902924877\n",
      "Optimization restart 6/10, f = 22.29939212289908\n",
      "Optimization restart 7/10, f = 37.115602270851575\n",
      "Optimization restart 8/10, f = 327.09490701880196\n",
      "Optimization restart 9/10, f = 34.93547352554505\n",
      "Optimization restart 10/10, f = 71.51250809347573\n",
      "(4_w,9)-aCMA-ES (mu_w=2.8,w_1=49%) in dimension 6 (seed=389713, Tue Aug 25 00:35:22 2020)\n",
      "Iterat #Fevals   function value  axis ratio  sigma  min&max std  t[m:s]\n",
      "    1      9 -0.000000000000000e+00 1.0e+00 2.45e-01  2e-01  3e-01 0:00.4\n",
      "    2     18 -4.287871953144062e-02 1.3e+00 2.88e-01  3e-01  3e-01 0:00.8\n",
      "    3     27 -8.053690701507854e-03 1.6e+00 2.76e-01  3e-01  3e-01 0:01.3\n",
      "   10     90 -2.302619607914114e-02 1.8e+00 2.28e-01  2e-01  2e-01 0:04.5\n",
      "   18    162 -4.221153087719820e-02 2.1e+00 1.47e-01  9e-02  1e-01 0:08.5\n",
      "   29    261 -5.165708510117550e-02 4.2e+00 8.23e-02  3e-02  9e-02 0:13.8\n",
      "   42    378 -6.004071343844952e-02 1.2e+01 2.03e-01  4e-02  3e-01 0:20.2\n",
      "   56    504 -6.184660639455863e-02 1.9e+01 1.31e-01  2e-02  2e-01 0:27.3\n",
      "   73    657 -6.456814478009854e-02 3.2e+01 1.94e-01  1e-02  3e-01 0:35.4\n",
      "   92    828 -6.668610444180700e-02 7.3e+01 1.93e-01  9e-03  4e-01 0:44.8\n",
      "  100    900 -6.686034057254986e-02 8.1e+01 8.90e-02  3e-03  2e-01 0:48.5\n",
      "  123   1107 -6.686897269872727e-02 1.7e+02 9.33e-03  1e-04  1e-02 0:60.0\n",
      "  148   1332 -6.686936668574450e-02 3.8e+02 1.05e-02  1e-04  3e-02 1:12.0\n",
      "  176   1584 -6.687214863160040e-02 2.1e+03 6.54e-02  4e-04  5e-01 1:25.3\n",
      "  200   1800 -6.687367810668743e-02 4.3e+03 2.12e-02  6e-05  2e-01 1:36.8\n",
      "  231   2079 -6.687368428319385e-02 4.4e+03 1.02e-03  1e-06  5e-03 1:51.9\n",
      "  258   2322 -6.687368428805218e-02 5.1e+03 1.01e-04  7e-08  3e-04 2:05.0\n"
     ]
    },
    {
     "name": "stderr",
     "output_type": "stream",
     "text": [
      "reconstraining parameters GP_regression.Mat52.lengthscale\n",
      "reconstraining parameters GP_regression.Mat52.variance\n",
      "reconstraining parameters GP_regression.Gaussian_noise.variance\n"
     ]
    },
    {
     "name": "stdout",
     "output_type": "stream",
     "text": [
      "termination on tolfun=1e-11 (Tue Aug 25 00:37:28 2020)\n",
      "final/bestever f-value = -6.687368e-02 -6.687368e-02\n",
      "incumbent solution: [1.4016649977354987, 0.7179659633003164, 3.543805019192771, 1.300280741835824, 6.089691762780558e-08, 6.1676585830640205]\n",
      "std deviation: [7.487717333619477e-08, 7.928920811791363e-08, 3.3141714958433226e-07, 1.1738357502637465e-06, 0.000274052849415671, 5.3175361360518004e-06]\n",
      "Optimization restart 1/10, f = 59.64898200750227\n",
      "Optimization restart 2/10, f = 63.442435147108846\n",
      "Optimization restart 3/10, f = 67.27233127162359\n",
      "Optimization restart 4/10, f = 1403731257.1035442\n",
      "Optimization restart 5/10, f = 62.261201707327615\n",
      "Optimization restart 6/10, f = 299.7817802171633\n",
      "Optimization restart 7/10, f = 63.44243514814913\n",
      "Optimization restart 8/10, f = 300.6962064364886\n"
     ]
    },
    {
     "name": "stderr",
     "output_type": "stream",
     "text": [
      "reconstraining parameters GP_regression.Mat52.lengthscale\n",
      "reconstraining parameters GP_regression.Mat52.variance\n",
      "reconstraining parameters GP_regression.Gaussian_noise.variance\n"
     ]
    },
    {
     "name": "stdout",
     "output_type": "stream",
     "text": [
      "Optimization restart 9/10, f = 333.7703132844918\n",
      "Optimization restart 10/10, f = 2497260.646280039\n",
      "Optimization restart 1/10, f = 22.472786360408648\n",
      "Optimization restart 2/10, f = 336.72566729739157\n",
      "Optimization restart 3/10, f = 2497260.6462800386\n",
      "Optimization restart 4/10, f = 332.84067833830886\n",
      "Optimization restart 5/10, f = 58.4234540216661\n",
      "Optimization restart 6/10, f = 333.7703132844918\n",
      "Optimization restart 7/10, f = 333.7703132844918\n",
      "Optimization restart 8/10, f = 32.32017579320704\n",
      "Optimization restart 9/10, f = 5413640.836891989\n",
      "Optimization restart 10/10, f = 58.89714817908996\n",
      "(4_w,9)-aCMA-ES (mu_w=2.8,w_1=49%) in dimension 6 (seed=393842, Tue Aug 25 00:37:32 2020)\n",
      "Iterat #Fevals   function value  axis ratio  sigma  min&max std  t[m:s]\n",
      "    1      9 1.570420291442089e+00 1.0e+00 2.50e-01  2e-01  3e-01 0:00.3\n"
     ]
    },
    {
     "name": "stderr",
     "output_type": "stream",
     "text": [
      " /home/finley/miniconda3/envs/testsuite/lib/python3.8/site-packages/cma/utilities/utils.py:329: UserWarning:function_values is not a list of scalars,\n",
      "                        the first element equals [1.90982928] with non-scalar type <class 'numpy.ndarray'>.\n",
      "                        Using now ``[v[0] for v in function_values]`` instead (further warnings are suppressed) ()\n"
     ]
    },
    {
     "name": "stdout",
     "output_type": "stream",
     "text": [
      "    2     18 1.457297861913485e+00 1.3e+00 2.58e-01  2e-01  3e-01 0:00.7\n"
     ]
    },
    {
     "name": "stderr",
     "output_type": "stream",
     "text": [
      " /home/finley/miniconda3/envs/testsuite/lib/python3.8/site-packages/cma/utilities/utils.py:329: UserWarning:function_values is not a list of scalars,\n",
      "                        the first element equals [2.22285433] with non-scalar type <class 'numpy.ndarray'>.\n",
      "                        Using now ``[v[0] for v in function_values]`` instead (further warnings are suppressed) ()\n"
     ]
    },
    {
     "name": "stdout",
     "output_type": "stream",
     "text": [
      "    3     27 1.408520140844185e+00 1.5e+00 2.71e-01  2e-01  3e-01 0:01.1\n",
      "   10     90 -0.000000000000000e+00 2.1e+00 3.56e-01  2e-01  4e-01 0:04.2\n",
      "   18    162 -4.626297176209437e-02 2.2e+00 2.46e-01  2e-01  3e-01 0:08.4\n",
      "   29    261 -5.859580125771302e-02 4.6e+00 1.66e-01  6e-02  2e-01 0:13.8\n",
      "   41    369 -6.532444493255785e-02 7.3e+00 3.41e-01  7e-02  5e-01 0:19.8\n",
      "   55    495 -7.621430944165564e-02 1.1e+01 1.58e-01  2e-02  2e-01 0:27.2\n",
      "   72    648 -1.117030791487892e-01 2.5e+01 6.06e-01  5e-02  1e+00 0:35.6\n",
      "   90    810 -1.576718753103590e-01 4.7e+01 5.53e-01  3e-02  1e+00 0:44.8\n",
      "  100    900 -1.590695195892513e-01 5.4e+01 1.68e-01  6e-03  3e-01 0:49.6\n",
      "  123   1107 -1.592101506363077e-01 9.6e+01 1.95e-02  3e-04  3e-02 1:01.0\n",
      "  148   1332 -1.592121189814963e-01 3.6e+02 1.67e-02  1e-04  4e-02 1:13.5\n",
      "  173   1557 -1.592223191598015e-01 1.6e+03 9.21e-02  4e-04  6e-01 1:26.9\n",
      "  195   1755 -1.592280443662117e-01 3.6e+03 5.03e-02  1e-04  4e-01 1:41.4\n",
      "  200   1800 -1.592283044097114e-01 3.0e+03 3.93e-02  1e-04  3e-01 1:45.2\n",
      "  227   2043 -1.592283455122390e-01 2.9e+03 1.55e-03  2e-06  6e-03 2:01.7\n",
      "  254   2286 -1.592283455852090e-01 3.3e+03 9.31e-05  6e-08  2e-04 2:19.0\n",
      "  262   2358 -1.592283455852819e-01 3.3e+03 6.74e-05  4e-08  1e-04 2:23.9\n"
     ]
    },
    {
     "name": "stderr",
     "output_type": "stream",
     "text": [
      "reconstraining parameters GP_regression.Mat52.lengthscale\n"
     ]
    },
    {
     "name": "stdout",
     "output_type": "stream",
     "text": [
      "termination on tolfun=1e-11 (Tue Aug 25 00:39:56 2020)\n",
      "final/bestever f-value = -1.592283e-01 -1.592283e-01\n",
      "incumbent solution: [1.9467734796973888, 1.2365746653278207e-15, 4.898629665573973, 0.45665955761527643, 7.454484930488485, 11.593747134942166]\n",
      "std deviation: [4.2393024682225464e-08, 6.795833052817708e-08, 3.0804510172582976e-07, 5.059388865805285e-07, 0.00012906773038652902, 2.312515085597975e-06]\n"
     ]
    },
    {
     "name": "stderr",
     "output_type": "stream",
     "text": [
      "reconstraining parameters GP_regression.Mat52.variance\n",
      "reconstraining parameters GP_regression.Gaussian_noise.variance\n"
     ]
    },
    {
     "name": "stdout",
     "output_type": "stream",
     "text": [
      "Optimization restart 1/10, f = 61.426400954875504\n",
      "Optimization restart 2/10, f = 2547205.8592056395\n",
      "Optimization restart 3/10, f = 121.41907736848398\n",
      "Optimization restart 4/10, f = 263.07420765099664\n",
      "Optimization restart 5/10, f = 340.4457195501816\n",
      "Optimization restart 6/10, f = 61.99696943760469\n",
      "Optimization restart 7/10, f = 275.4640934201303\n",
      "Optimization restart 8/10, f = 70.32921590129615\n",
      "Optimization restart 9/10, f = 66.75007344912247\n"
     ]
    },
    {
     "name": "stderr",
     "output_type": "stream",
     "text": [
      "reconstraining parameters GP_regression.Mat52.lengthscale\n",
      "reconstraining parameters GP_regression.Mat52.variance\n",
      "reconstraining parameters GP_regression.Gaussian_noise.variance\n"
     ]
    },
    {
     "name": "stdout",
     "output_type": "stream",
     "text": [
      "Optimization restart 10/10, f = 340.4457195501816\n",
      "Optimization restart 1/10, f = 22.228944558214483\n",
      "Optimization restart 2/10, f = 2547205.85920564\n",
      "Optimization restart 3/10, f = 59.9267118792085\n",
      "Optimization restart 4/10, f = 305.0230805472526\n",
      "Optimization restart 5/10, f = 340.4457195501816\n",
      "Optimization restart 6/10, f = 327.87026906356436\n",
      "Optimization restart 7/10, f = 61.608775752873896\n",
      "Optimization restart 8/10, f = 288.58420275448697\n",
      "Optimization restart 9/10, f = 63.960975354658785\n",
      "Optimization restart 10/10, f = 1177626716.3027809\n",
      "(4_w,9)-aCMA-ES (mu_w=2.8,w_1=49%) in dimension 6 (seed=357331, Tue Aug 25 00:40:05 2020)\n",
      "Iterat #Fevals   function value  axis ratio  sigma  min&max std  t[m:s]\n",
      "    1      9 -1.062472546300874e-03 1.0e+00 2.52e-01  2e-01  3e-01 0:00.7\n"
     ]
    },
    {
     "name": "stderr",
     "output_type": "stream",
     "text": [
      " /home/finley/miniconda3/envs/testsuite/lib/python3.8/site-packages/cma/utilities/utils.py:329: UserWarning:function_values is not a list of scalars,\n",
      "                        the first element equals [1.04302549] with non-scalar type <class 'numpy.ndarray'>.\n",
      "                        Using now ``[v[0] for v in function_values]`` instead (further warnings are suppressed) ()\n"
     ]
    },
    {
     "name": "stdout",
     "output_type": "stream",
     "text": [
      "    2     18 -8.567383568625075e-05 1.3e+00 2.74e-01  3e-01  3e-01 0:01.4\n"
     ]
    },
    {
     "name": "stderr",
     "output_type": "stream",
     "text": [
      " /home/finley/miniconda3/envs/testsuite/lib/python3.8/site-packages/cma/utilities/utils.py:329: UserWarning:function_values is not a list of scalars,\n",
      "                        the first element equals [2.09556194] with non-scalar type <class 'numpy.ndarray'>.\n",
      "                        Using now ``[v[0] for v in function_values]`` instead (further warnings are suppressed) ()\n"
     ]
    },
    {
     "name": "stdout",
     "output_type": "stream",
     "text": [
      "    3     27 -2.804112283856242e-04 1.6e+00 2.56e-01  2e-01  3e-01 0:01.9\n",
      "    9     81 -0.000000000000000e+00 1.7e+00 2.03e-01  1e-01  2e-01 0:05.2\n"
     ]
    },
    {
     "name": "stderr",
     "output_type": "stream",
     "text": [
      " /home/finley/miniconda3/envs/testsuite/lib/python3.8/site-packages/cma/utilities/utils.py:329: UserWarning:flat fitness (f=-0.000000, sigma=1.26e-01).\n",
      "                    For small sigma, this could indicate numerical convergence.\n",
      "                    Otherwise, please (re)consider how to compute the fitness more elaborately. (iteration=14)\n"
     ]
    },
    {
     "name": "stdout",
     "output_type": "stream",
     "text": [
      "   15    135 -0.000000000000000e+00 2.2e+00 1.24e-01  8e-02  1e-01 0:10.0\n"
     ]
    },
    {
     "name": "stderr",
     "output_type": "stream",
     "text": [
      " /home/finley/miniconda3/envs/testsuite/lib/python3.8/site-packages/cma/utilities/utils.py:329: UserWarning:flat fitness (f=-0.000000, sigma=1.24e-01).\n",
      "                    For small sigma, this could indicate numerical convergence.\n",
      "                    Otherwise, please (re)consider how to compute the fitness more elaborately. (iteration=15)\n",
      " /home/finley/miniconda3/envs/testsuite/lib/python3.8/site-packages/cma/utilities/utils.py:329: UserWarning:flat fitness (f=-0.000000, sigma=1.21e-01).\n",
      "                    For small sigma, this could indicate numerical convergence.\n",
      "                    Otherwise, please (re)consider how to compute the fitness more elaborately. (iteration=17)\n",
      " /home/finley/miniconda3/envs/testsuite/lib/python3.8/site-packages/cma/utilities/utils.py:329: UserWarning:flat fitness (f=-0.000000, sigma=1.21e-01).\n",
      "                    For small sigma, this could indicate numerical convergence.\n",
      "                    Otherwise, please (re)consider how to compute the fitness more elaborately. (iteration=18)\n",
      " /home/finley/miniconda3/envs/testsuite/lib/python3.8/site-packages/cma/utilities/utils.py:329: UserWarning:flat fitness (f=-0.000000, sigma=1.26e-01).\n",
      "                    For small sigma, this could indicate numerical convergence.\n",
      "                    Otherwise, please (re)consider how to compute the fitness more elaborately. (iteration=19)\n",
      " /home/finley/miniconda3/envs/testsuite/lib/python3.8/site-packages/cma/utilities/utils.py:329: UserWarning:flat fitness (f=-0.000000, sigma=1.42e-01).\n",
      "                    For small sigma, this could indicate numerical convergence.\n",
      "                    Otherwise, please (re)consider how to compute the fitness more elaborately. (iteration=20)\n",
      " /home/finley/miniconda3/envs/testsuite/lib/python3.8/site-packages/cma/utilities/utils.py:329: UserWarning:flat fitness (f=-0.000000, sigma=2.10e-01).\n",
      "                    For small sigma, this could indicate numerical convergence.\n",
      "                    Otherwise, please (re)consider how to compute the fitness more elaborately. (iteration=22)\n"
     ]
    },
    {
     "name": "stdout",
     "output_type": "stream",
     "text": [
      "   23    207 -0.000000000000000e+00 3.2e+00 2.31e-01  1e-01  2e-01 0:15.6\n"
     ]
    },
    {
     "name": "stderr",
     "output_type": "stream",
     "text": [
      " /home/finley/miniconda3/envs/testsuite/lib/python3.8/site-packages/cma/utilities/utils.py:329: UserWarning:flat fitness (f=-0.000000, sigma=2.62e-01).\n",
      "                    For small sigma, this could indicate numerical convergence.\n",
      "                    Otherwise, please (re)consider how to compute the fitness more elaborately. (iteration=27)\n",
      " /home/finley/miniconda3/envs/testsuite/lib/python3.8/site-packages/cma/utilities/utils.py:329: UserWarning:flat fitness (f=-0.000000, sigma=2.66e-01).\n",
      "                    For small sigma, this could indicate numerical convergence.\n",
      "                    Otherwise, please (re)consider how to compute the fitness more elaborately. (iteration=29)\n"
     ]
    },
    {
     "name": "stdout",
     "output_type": "stream",
     "text": [
      "   31    279 -0.000000000000000e+00 4.1e+00 2.39e-01  1e-01  3e-01 0:22.3\n"
     ]
    },
    {
     "name": "stderr",
     "output_type": "stream",
     "text": [
      " /home/finley/miniconda3/envs/testsuite/lib/python3.8/site-packages/cma/utilities/utils.py:329: UserWarning:flat fitness (f=-0.000000, sigma=3.07e-01).\n",
      "                    For small sigma, this could indicate numerical convergence.\n",
      "                    Otherwise, please (re)consider how to compute the fitness more elaborately. (iteration=37)\n"
     ]
    },
    {
     "name": "stdout",
     "output_type": "stream",
     "text": [
      "   43    387 -2.153199530503480e-02 7.7e+00 5.22e-01  1e-01  8e-01 0:29.7\n",
      "   56    504 -3.440455265886389e-02 1.1e+01 2.70e-01  5e-02  4e-01 0:38.0\n",
      "   69    621 -4.899762367349281e-02 1.6e+01 1.37e-01  1e-02  2e-01 0:47.7\n",
      "   87    783 -5.063339966168279e-02 3.8e+01 7.91e-02  4e-03  1e-01 0:58.2\n",
      "  100    900 -5.289585760350768e-02 7.1e+01 1.87e-01  5e-03  3e-01 1:05.3\n",
      "  121   1089 -5.342225914506926e-02 1.5e+02 5.02e-02  7e-04  8e-02 1:17.4\n",
      "  140   1260 -5.342805169760378e-02 1.9e+02 5.82e-03  5e-05  8e-03 1:31.1\n",
      "  156   1404 -5.342813460030804e-02 3.2e+02 5.48e-03  4e-05  1e-02 1:45.5\n",
      "  177   1593 -5.342873958246841e-02 1.0e+03 2.60e-02  1e-04  1e-01 2:00.7\n",
      "  200   1800 -5.342940555839171e-02 2.6e+03 2.00e-02  5e-05  1e-01 2:14.8\n",
      "  233   2097 -5.342944291580043e-02 4.1e+03 1.49e-03  2e-06  6e-03 2:31.8\n",
      "  268   2412 -5.342944295085061e-02 4.8e+03 6.77e-05  3e-08  1e-04 2:49.9\n",
      "  269   2421 -5.342944295087459e-02 4.6e+03 6.12e-05  2e-08  1e-04 2:50.5\n"
     ]
    },
    {
     "name": "stderr",
     "output_type": "stream",
     "text": [
      "reconstraining parameters GP_regression.Mat52.lengthscale\n",
      "reconstraining parameters GP_regression.Mat52.variance\n",
      "reconstraining parameters GP_regression.Gaussian_noise.variance\n"
     ]
    },
    {
     "name": "stdout",
     "output_type": "stream",
     "text": [
      "termination on tolfun=1e-11 (Tue Aug 25 00:42:56 2020)\n",
      "final/bestever f-value = -5.342944e-02 -5.342944e-02\n",
      "incumbent solution: [1.1116592591648113, 0.6574628658849427, 3.634234000121081, 1.9100817586615513, 2.669271524248859, 2.9476870204665597]\n",
      "std deviation: [2.3810992263934912e-08, 7.544266425984524e-08, 2.409835220845494e-07, 5.71703966045669e-07, 0.00010262682143575851, 3.5601525559323162e-06]\n",
      "Optimization restart 1/10, f = 60.12482173300155\n",
      "Optimization restart 2/10, f = 1446912048.4328012\n",
      "Optimization restart 3/10, f = 347.12112581587144\n",
      "Optimization restart 4/10, f = 61.47194260672757\n",
      "Optimization restart 5/10, f = 72.7245551983604\n",
      "Optimization restart 6/10, f = 320.3248114029167\n",
      "Optimization restart 7/10, f = 119.76085752831963\n",
      "Optimization restart 8/10, f = 347.12112581587144\n",
      "Optimization restart 9/10, f = 78.81537921053824\n"
     ]
    },
    {
     "name": "stderr",
     "output_type": "stream",
     "text": [
      "reconstraining parameters GP_regression.Mat52.lengthscale\n",
      "reconstraining parameters GP_regression.Mat52.variance\n",
      "reconstraining parameters GP_regression.Gaussian_noise.variance\n"
     ]
    },
    {
     "name": "stdout",
     "output_type": "stream",
     "text": [
      "Optimization restart 10/10, f = 126.87831476786769\n",
      "Optimization restart 1/10, f = 21.4494674505328\n",
      "Optimization restart 2/10, f = 319.8830333760729\n",
      "Optimization restart 3/10, f = 51.26366998695787\n",
      "Optimization restart 4/10, f = 91.1845205373279\n",
      "Optimization restart 5/10, f = 66.505104248436\n",
      "Optimization restart 6/10, f = 347.12112581587144\n",
      "Optimization restart 7/10, f = 23.182033826631717\n",
      "Optimization restart 8/10, f = 91.79576091796976\n",
      "Optimization restart 9/10, f = 41.379671972082946\n",
      "Optimization restart 10/10, f = 223.14833259586499\n",
      "(4_w,9)-aCMA-ES (mu_w=2.8,w_1=49%) in dimension 6 (seed=425408, Tue Aug 25 00:43:00 2020)\n",
      "Iterat #Fevals   function value  axis ratio  sigma  min&max std  t[m:s]\n",
      "    1      9 -0.000000000000000e+00 1.0e+00 2.50e-01  2e-01  3e-01 0:00.4\n"
     ]
    },
    {
     "name": "stderr",
     "output_type": "stream",
     "text": [
      " /home/finley/miniconda3/envs/testsuite/lib/python3.8/site-packages/cma/utilities/utils.py:329: UserWarning:function_values is not a list of scalars,\n",
      "                        the first element equals [1.47055571] with non-scalar type <class 'numpy.ndarray'>.\n",
      "                        Using now ``[v[0] for v in function_values]`` instead (further warnings are suppressed) ()\n"
     ]
    },
    {
     "name": "stdout",
     "output_type": "stream",
     "text": [
      "    2     18 8.758646150431817e-01 1.3e+00 2.53e-01  2e-01  3e-01 0:00.8\n"
     ]
    },
    {
     "name": "stderr",
     "output_type": "stream",
     "text": [
      " /home/finley/miniconda3/envs/testsuite/lib/python3.8/site-packages/cma/utilities/utils.py:329: UserWarning:function_values is not a list of scalars,\n",
      "                        the first element equals [0.87586462] with non-scalar type <class 'numpy.ndarray'>.\n",
      "                        Using now ``[v[0] for v in function_values]`` instead (further warnings are suppressed) ()\n"
     ]
    },
    {
     "name": "stdout",
     "output_type": "stream",
     "text": [
      "    3     27 -0.000000000000000e+00 1.4e+00 2.28e-01  2e-01  2e-01 0:01.2\n",
      "   11     99 -0.000000000000000e+00 2.3e+00 1.75e-01  1e-01  2e-01 0:04.6\n"
     ]
    },
    {
     "name": "stderr",
     "output_type": "stream",
     "text": [
      " /home/finley/miniconda3/envs/testsuite/lib/python3.8/site-packages/cma/utilities/utils.py:329: UserWarning:flat fitness (f=-0.000000, sigma=1.86e-01).\n",
      "                    For small sigma, this could indicate numerical convergence.\n",
      "                    Otherwise, please (re)consider how to compute the fitness more elaborately. (iteration=18)\n"
     ]
    },
    {
     "name": "stdout",
     "output_type": "stream",
     "text": [
      "   19    171 -0.000000000000000e+00 4.1e+00 1.89e-01  1e-01  2e-01 0:08.8\n"
     ]
    },
    {
     "name": "stderr",
     "output_type": "stream",
     "text": [
      " /home/finley/miniconda3/envs/testsuite/lib/python3.8/site-packages/cma/utilities/utils.py:329: UserWarning:flat fitness (f=-0.000000, sigma=1.89e-01).\n",
      "                    For small sigma, this could indicate numerical convergence.\n",
      "                    Otherwise, please (re)consider how to compute the fitness more elaborately. (iteration=19)\n",
      " /home/finley/miniconda3/envs/testsuite/lib/python3.8/site-packages/cma/utilities/utils.py:329: UserWarning:flat fitness (f=-0.000000, sigma=1.52e-01).\n",
      "                    For small sigma, this could indicate numerical convergence.\n",
      "                    Otherwise, please (re)consider how to compute the fitness more elaborately. (iteration=24)\n",
      " /home/finley/miniconda3/envs/testsuite/lib/python3.8/site-packages/cma/utilities/utils.py:329: UserWarning:flat fitness (f=-0.000000, sigma=1.45e-01).\n",
      "                    For small sigma, this could indicate numerical convergence.\n",
      "                    Otherwise, please (re)consider how to compute the fitness more elaborately. (iteration=25)\n",
      " /home/finley/miniconda3/envs/testsuite/lib/python3.8/site-packages/cma/utilities/utils.py:329: UserWarning:flat fitness (f=-0.000000, sigma=1.35e-01).\n",
      "                    For small sigma, this could indicate numerical convergence.\n",
      "                    Otherwise, please (re)consider how to compute the fitness more elaborately. (iteration=26)\n",
      " /home/finley/miniconda3/envs/testsuite/lib/python3.8/site-packages/cma/utilities/utils.py:329: UserWarning:flat fitness (f=-0.000000, sigma=1.29e-01).\n",
      "                    For small sigma, this could indicate numerical convergence.\n",
      "                    Otherwise, please (re)consider how to compute the fitness more elaborately. (iteration=27)\n"
     ]
    },
    {
     "name": "stdout",
     "output_type": "stream",
     "text": [
      "   28    252 -0.000000000000000e+00 4.9e+00 1.24e-01  7e-02  2e-01 0:13.9\n"
     ]
    },
    {
     "name": "stderr",
     "output_type": "stream",
     "text": [
      " /home/finley/miniconda3/envs/testsuite/lib/python3.8/site-packages/cma/utilities/utils.py:329: UserWarning:flat fitness (f=-0.000000, sigma=1.24e-01).\n",
      "                    For small sigma, this could indicate numerical convergence.\n",
      "                    Otherwise, please (re)consider how to compute the fitness more elaborately. (iteration=28)\n",
      " /home/finley/miniconda3/envs/testsuite/lib/python3.8/site-packages/cma/utilities/utils.py:329: UserWarning:flat fitness (f=-0.000000, sigma=1.19e-01).\n",
      "                    For small sigma, this could indicate numerical convergence.\n",
      "                    Otherwise, please (re)consider how to compute the fitness more elaborately. (iteration=30)\n",
      " /home/finley/miniconda3/envs/testsuite/lib/python3.8/site-packages/cma/utilities/utils.py:329: UserWarning:flat fitness (f=-0.000000, sigma=1.20e-01).\n",
      "                    For small sigma, this could indicate numerical convergence.\n",
      "                    Otherwise, please (re)consider how to compute the fitness more elaborately. (iteration=31)\n"
     ]
    },
    {
     "name": "stdout",
     "output_type": "stream",
     "text": [
      "   32    288 -0.000000000000000e+00 3.9e+00 1.13e-01  6e-02  1e-01 0:16.4\n"
     ]
    },
    {
     "name": "stderr",
     "output_type": "stream",
     "text": [
      " /home/finley/miniconda3/envs/testsuite/lib/python3.8/site-packages/cma/utilities/utils.py:329: UserWarning:flat fitness (f=-0.000000, sigma=1.13e-01).\n",
      "                    For small sigma, this could indicate numerical convergence.\n",
      "                    Otherwise, please (re)consider how to compute the fitness more elaborately. (iteration=32)\n",
      "reconstraining parameters GP_regression.Mat52.lengthscale\n",
      "reconstraining parameters GP_regression.Mat52.variance\n",
      "reconstraining parameters GP_regression.Gaussian_noise.variance\n"
     ]
    },
    {
     "name": "stdout",
     "output_type": "stream",
     "text": [
      "termination on tolfun=1e-11 (Tue Aug 25 00:43:17 2020)\n",
      "termination on tolfunhist=1e-12 (Tue Aug 25 00:43:17 2020)\n",
      "termination on flat fitness=please (re)consider how to compute the fitness more elaborately if sigma=1.13e-01 is large (Tue Aug 25 00:43:17 2020)\n",
      "final/bestever f-value = -0.000000e+00 -0.000000e+00\n",
      "incumbent solution: [1.0503002356926678, 2.7822263443848527, 4.7605629102594635, 7.702993164337672, 0.788049541460354, 1.7215324666237455]\n",
      "std deviation: [0.0611389246341541, 0.07251544412430248, 0.13957883831837384, 0.09335018018493978, 0.10563425543562178, 0.10335535673454974]\n",
      "Optimization restart 1/10, f = 61.63098895891036\n",
      "Optimization restart 2/10, f = 71.33552913007634\n",
      "Optimization restart 3/10, f = 2647096.285056841\n",
      "Optimization restart 4/10, f = 1541434709.085757\n",
      "Optimization restart 5/10, f = 308.03360617167834\n",
      "Optimization restart 6/10, f = 128.36877040856223\n",
      "Optimization restart 7/10, f = 73.85255919299048\n",
      "Optimization restart 8/10, f = 75.14356192436698\n"
     ]
    },
    {
     "name": "stderr",
     "output_type": "stream",
     "text": [
      "reconstraining parameters GP_regression.Mat52.lengthscale\n",
      "reconstraining parameters GP_regression.Mat52.variance\n",
      "reconstraining parameters GP_regression.Gaussian_noise.variance\n"
     ]
    },
    {
     "name": "stdout",
     "output_type": "stream",
     "text": [
      "Optimization restart 9/10, f = 336.91425147309724\n",
      "Optimization restart 10/10, f = 353.7965320815613\n",
      "Optimization restart 1/10, f = 22.005906660366456\n",
      "Optimization restart 2/10, f = 318.488657741634\n",
      "Optimization restart 3/10, f = 319.1649772176362\n",
      "Optimization restart 4/10, f = 353.7965320815613\n",
      "Optimization restart 5/10, f = 22.00590667954354\n",
      "Optimization restart 6/10, f = 323.69196287210997\n",
      "Optimization restart 7/10, f = 25.729897016783053\n",
      "Optimization restart 8/10, f = 23.87684717805772\n",
      "Optimization restart 9/10, f = 1237085653.7765594\n",
      "Optimization restart 10/10, f = 57.94307682490568\n",
      "(4_w,9)-aCMA-ES (mu_w=2.8,w_1=49%) in dimension 6 (seed=410887, Tue Aug 25 00:43:21 2020)\n",
      "Iterat #Fevals   function value  axis ratio  sigma  min&max std  t[m:s]\n",
      "    1      9 -0.000000000000000e+00 1.0e+00 2.82e-01  3e-01  3e-01 0:00.4\n"
     ]
    },
    {
     "name": "stderr",
     "output_type": "stream",
     "text": [
      " /home/finley/miniconda3/envs/testsuite/lib/python3.8/site-packages/cma/utilities/utils.py:329: UserWarning:function_values is not a list of scalars,\n",
      "                        the first element equals [0.81018558] with non-scalar type <class 'numpy.ndarray'>.\n",
      "                        Using now ``[v[0] for v in function_values]`` instead (further warnings are suppressed) ()\n"
     ]
    },
    {
     "name": "stdout",
     "output_type": "stream",
     "text": [
      "    2     18 -0.000000000000000e+00 1.2e+00 2.91e-01  3e-01  3e-01 0:00.8\n"
     ]
    },
    {
     "name": "stderr",
     "output_type": "stream",
     "text": [
      " /home/finley/miniconda3/envs/testsuite/lib/python3.8/site-packages/cma/utilities/utils.py:329: UserWarning:function_values is not a list of scalars,\n",
      "                        the first element equals [0.91058323] with non-scalar type <class 'numpy.ndarray'>.\n",
      "                        Using now ``[v[0] for v in function_values]`` instead (further warnings are suppressed) ()\n"
     ]
    },
    {
     "name": "stdout",
     "output_type": "stream",
     "text": [
      "    3     27 -0.000000000000000e+00 1.2e+00 2.88e-01  3e-01  3e-01 0:01.3\n",
      "    9     81 -0.000000000000000e+00 2.0e+00 3.81e-01  3e-01  4e-01 0:04.3\n",
      "   17    153 -6.347277342846347e-03 2.9e+00 2.07e-01  9e-02  2e-01 0:08.6\n",
      "   27    243 -1.103181804866704e-02 6.5e+00 1.94e-01  5e-02  3e-01 0:14.0\n",
      "   38    342 -2.637779804348295e-02 1.1e+01 1.60e-01  2e-02  2e-01 0:20.1\n",
      "   51    459 -3.421390644212430e-02 1.9e+01 2.21e-01  2e-02  3e-01 0:27.6\n",
      "   66    594 -3.797246384365316e-02 3.7e+01 1.20e-01  5e-03  2e-01 0:35.8\n",
      "   83    747 -4.160322043457576e-02 4.6e+01 1.28e-01  3e-03  2e-01 0:45.3\n",
      "  100    900 -4.166025336308943e-02 8.6e+01 3.02e-02  4e-04  3e-02 0:54.3\n",
      "  120   1080 -4.166852928987907e-02 1.1e+02 4.66e-03  4e-05  5e-03 1:05.4\n",
      "  142   1278 -4.166855374219303e-02 2.2e+02 1.64e-03  1e-05  2e-03 1:17.6\n",
      "  166   1494 -4.166865059139369e-02 1.0e+03 1.07e-02  4e-05  4e-02 1:30.8\n",
      "  192   1728 -4.166928247184654e-02 2.3e+03 3.79e-02  9e-05  2e-01 1:45.2\n",
      "  200   1800 -4.166982508707751e-02 3.6e+03 5.31e-02  1e-04  4e-01 1:49.6\n",
      "  230   2070 -4.167004600499258e-02 9.7e+03 7.43e-03  6e-06  5e-02 2:06.1\n",
      "NOTE (module=cma, iteration=238):  \n",
      "condition in coordinate system exceeded 1.1e+08, rescaled to 1.0e+00, \n",
      "condition changed from 9.9e+07 to 2.6e+00\n",
      "  261   2349 -4.167004629466131e-02 1.8e+00 4.10e-04  2e-07  1e-03 2:23.3\n",
      "  278   2502 -4.167004629506099e-02 2.3e+00 8.58e-05  3e-08  2e-04 2:32.7\n"
     ]
    },
    {
     "name": "stderr",
     "output_type": "stream",
     "text": [
      "reconstraining parameters GP_regression.Mat52.lengthscale\n",
      "reconstraining parameters GP_regression.Mat52.variance\n",
      "reconstraining parameters GP_regression.Gaussian_noise.variance\n"
     ]
    },
    {
     "name": "stdout",
     "output_type": "stream",
     "text": [
      "termination on tolfun=1e-11 (Tue Aug 25 00:45:54 2020)\n",
      "final/bestever f-value = -4.167005e-02 -4.167005e-02\n",
      "incumbent solution: [1.2284617665047775, 0.5350611852407782, 3.6920639842640828, 2.0246286370243842, 3.9532652627694285, 1.876494990650682]\n",
      "std deviation: [2.6536508778048304e-08, 6.544031895561815e-08, 3.694523041038416e-07, 9.784419602766594e-07, 0.00018582657642449857, 1.4250785697420832e-06]\n",
      "Optimization restart 1/10, f = 62.414437453271425\n",
      "Optimization restart 2/10, f = 155.71325358386594\n",
      "Optimization restart 3/10, f = 70.53749830276618\n",
      "Optimization restart 4/10, f = 109.59445265697303\n",
      "Optimization restart 5/10, f = 350.265716366773\n",
      "Optimization restart 6/10, f = 293.8310365403329\n",
      "Optimization restart 7/10, f = 70.34538631535676\n"
     ]
    },
    {
     "name": "stderr",
     "output_type": "stream",
     "text": [
      "reconstraining parameters GP_regression.Mat52.lengthscale\n",
      "reconstraining parameters GP_regression.Mat52.variance\n",
      "reconstraining parameters GP_regression.Gaussian_noise.variance\n"
     ]
    },
    {
     "name": "stdout",
     "output_type": "stream",
     "text": [
      "Optimization restart 8/10, f = 314.97760375779103\n",
      "Optimization restart 9/10, f = 1563828325.706732\n",
      "Optimization restart 10/10, f = 330.7067484784605\n",
      "Optimization restart 1/10, f = 22.304631571584938\n",
      "Optimization restart 2/10, f = 22.3046317572853\n",
      "Optimization restart 3/10, f = 353.8916004452653\n",
      "Optimization restart 4/10, f = 36.07244750665665\n",
      "Optimization restart 5/10, f = 5462637.456991072\n",
      "Optimization restart 6/10, f = 360.47193834725107\n",
      "Optimization restart 7/10, f = 338.7074588777115\n",
      "Optimization restart 8/10, f = 74.44741302199901\n",
      "Optimization restart 9/10, f = 341.16044587335966\n",
      "Optimization restart 10/10, f = 24.452835797350875\n",
      "(4_w,9)-aCMA-ES (mu_w=2.8,w_1=49%) in dimension 6 (seed=406712, Tue Aug 25 00:45:58 2020)\n",
      "Iterat #Fevals   function value  axis ratio  sigma  min&max std  t[m:s]\n",
      "    1      9 1.939513704433510e+00 1.0e+00 2.52e-01  2e-01  3e-01 0:00.4\n"
     ]
    },
    {
     "name": "stderr",
     "output_type": "stream",
     "text": [
      " /home/finley/miniconda3/envs/testsuite/lib/python3.8/site-packages/cma/utilities/utils.py:329: UserWarning:function_values is not a list of scalars,\n",
      "                        the first element equals [2.44634481] with non-scalar type <class 'numpy.ndarray'>.\n",
      "                        Using now ``[v[0] for v in function_values]`` instead (further warnings are suppressed) ()\n"
     ]
    },
    {
     "name": "stdout",
     "output_type": "stream",
     "text": [
      "    2     18 1.243054723716888e+00 1.3e+00 2.62e-01  2e-01  3e-01 0:00.8\n"
     ]
    },
    {
     "name": "stderr",
     "output_type": "stream",
     "text": [
      " /home/finley/miniconda3/envs/testsuite/lib/python3.8/site-packages/cma/utilities/utils.py:329: UserWarning:function_values is not a list of scalars,\n",
      "                        the first element equals [1.47326227] with non-scalar type <class 'numpy.ndarray'>.\n",
      "                        Using now ``[v[0] for v in function_values]`` instead (further warnings are suppressed) ()\n"
     ]
    },
    {
     "name": "stdout",
     "output_type": "stream",
     "text": [
      "    3     27 9.116590088405716e-01 1.5e+00 3.24e-01  3e-01  4e-01 0:01.2\n",
      "   11     99 -1.792386127399404e-03 1.8e+00 8.19e-01  6e-01  9e-01 0:04.4\n",
      "   20    180 -0.000000000000000e+00 3.0e+00 1.52e+00  9e-01  2e+00 0:08.6\n",
      "   30    270 -0.000000000000000e+00 3.4e+00 6.11e-01  3e-01  8e-01 0:13.9\n",
      "   41    369 -1.747780707552771e-03 5.0e+00 2.50e-01  8e-02  3e-01 0:19.9\n",
      "   54    486 -2.639451219316413e-03 7.5e+00 1.43e-01  2e-02  2e-01 0:27.3\n",
      "   68    612 -5.390992816740159e-03 1.4e+01 3.51e-01  4e-02  6e-01 0:35.4\n",
      "   84    756 -8.414656873677373e-03 3.6e+01 2.67e-01  1e-02  6e-01 0:44.6\n",
      "  100    900 -8.512459723696075e-03 4.8e+01 6.39e-02  2e-03  1e-01 0:53.6\n",
      "  120   1080 -8.517110318931653e-03 4.5e+01 2.96e-02  7e-04  3e-02 1:05.0\n",
      "  142   1278 -8.517450708820817e-03 1.3e+02 1.90e-02  2e-04  3e-02 1:17.5\n",
      "  165   1485 -8.517929970377036e-03 4.7e+02 4.27e-02  3e-04  1e-01 1:30.5\n",
      "  190   1710 -8.518754665896022e-03 1.5e+03 5.66e-02  2e-04  3e-01 1:45.0\n",
      "  200   1800 -8.518947747697680e-03 2.1e+03 4.57e-02  1e-04  3e-01 1:51.0\n",
      "  227   2043 -8.518985716254868e-03 2.0e+03 3.81e-03  7e-06  1e-02 2:07.0\n",
      "  258   2322 -8.518985743310559e-03 2.8e+03 2.32e-04  2e-07  4e-04 2:24.4\n",
      "  260   2340 -8.518985743325658e-03 2.5e+03 2.05e-04  2e-07  4e-04 2:25.5\n"
     ]
    },
    {
     "name": "stderr",
     "output_type": "stream",
     "text": [
      "reconstraining parameters GP_regression.Mat52.lengthscale\n",
      "reconstraining parameters GP_regression.Mat52.variance\n",
      "reconstraining parameters GP_regression.Gaussian_noise.variance\n"
     ]
    },
    {
     "name": "stdout",
     "output_type": "stream",
     "text": [
      "termination on tolfun=1e-11 (Tue Aug 25 00:48:24 2020)\n",
      "final/bestever f-value = -8.518986e-03 -8.518986e-03\n",
      "incumbent solution: [0.01949277879391584, 2.8269782197593383, 4.735453960515002, 0.9798517582919102, 7.7104996107646615, 2.088487227444594]\n",
      "std deviation: [2.2706153106334334e-07, 1.7602020394273423e-07, 6.200334506866143e-07, 2.641980930247588e-06, 0.00035332660011265754, 6.756815415548131e-06]\n",
      "Optimization restart 1/10, f = 62.96407606509836\n",
      "Optimization restart 2/10, f = 134.9755687527105\n",
      "Optimization restart 3/10, f = 71.93171088937555\n",
      "Optimization restart 4/10, f = 285.1442722941533\n",
      "Optimization restart 5/10, f = 367.14734461294086\n",
      "Optimization restart 6/10, f = 71.93356169507693\n",
      "Optimization restart 7/10, f = 1604617518.2258992\n",
      "Optimization restart 8/10, f = 340.4567176154685\n"
     ]
    },
    {
     "name": "stderr",
     "output_type": "stream",
     "text": [
      "reconstraining parameters GP_regression.Mat52.lengthscale\n",
      "reconstraining parameters GP_regression.Mat52.variance\n"
     ]
    },
    {
     "name": "stdout",
     "output_type": "stream",
     "text": [
      "Optimization restart 9/10, f = 63.62742154049484\n",
      "Optimization restart 10/10, f = 1604254455.946037\n"
     ]
    },
    {
     "name": "stderr",
     "output_type": "stream",
     "text": [
      "reconstraining parameters GP_regression.Gaussian_noise.variance\n"
     ]
    },
    {
     "name": "stdout",
     "output_type": "stream",
     "text": [
      "Optimization restart 1/10, f = 21.450285402619308\n",
      "Optimization restart 2/10, f = 5543085.616262477\n",
      "Optimization restart 3/10, f = 367.14734461294086\n",
      "Optimization restart 4/10, f = 78.041619326257\n",
      "Optimization restart 5/10, f = 367.14734461294086\n",
      "Optimization restart 6/10, f = 78.041619326257\n",
      "Optimization restart 7/10, f = 5544092.751459516\n",
      "Optimization restart 8/10, f = 5543085.511178637\n",
      "Optimization restart 9/10, f = 69.0746466809944\n",
      "Optimization restart 10/10, f = 354.090630267716\n",
      "(4_w,9)-aCMA-ES (mu_w=2.8,w_1=49%) in dimension 6 (seed=353455, Tue Aug 25 00:48:28 2020)\n",
      "Iterat #Fevals   function value  axis ratio  sigma  min&max std  t[m:s]\n",
      "    1      9 8.184173044684093e-01 1.0e+00 2.46e-01  2e-01  3e-01 0:00.4\n"
     ]
    },
    {
     "name": "stderr",
     "output_type": "stream",
     "text": [
      " /home/finley/miniconda3/envs/testsuite/lib/python3.8/site-packages/cma/utilities/utils.py:329: UserWarning:function_values is not a list of scalars,\n",
      "                        the first element equals [1.9593294] with non-scalar type <class 'numpy.ndarray'>.\n",
      "                        Using now ``[v[0] for v in function_values]`` instead (further warnings are suppressed) ()\n"
     ]
    },
    {
     "name": "stdout",
     "output_type": "stream",
     "text": [
      "    2     18 -0.000000000000000e+00 1.3e+00 2.77e-01  3e-01  3e-01 0:00.9\n",
      "    3     27 -0.000000000000000e+00 1.5e+00 3.22e-01  3e-01  4e-01 0:01.4\n",
      "   10     90 -0.000000000000000e+00 3.2e+00 2.99e-01  2e-01  5e-01 0:04.7\n",
      "   19    171 -0.000000000000000e+00 6.5e+00 1.73e-01  6e-02  3e-01 0:09.2\n"
     ]
    },
    {
     "name": "stderr",
     "output_type": "stream",
     "text": [
      " /home/finley/miniconda3/envs/testsuite/lib/python3.8/site-packages/cma/utilities/utils.py:329: UserWarning:flat fitness (f=-0.000000, sigma=2.13e-01).\n",
      "                    For small sigma, this could indicate numerical convergence.\n",
      "                    Otherwise, please (re)consider how to compute the fitness more elaborately. (iteration=24)\n"
     ]
    },
    {
     "name": "stdout",
     "output_type": "stream",
     "text": [
      "   28    252 -0.000000000000000e+00 7.2e+00 2.37e-01  6e-02  4e-01 0:14.2\n"
     ]
    },
    {
     "name": "stderr",
     "output_type": "stream",
     "text": [
      " /home/finley/miniconda3/envs/testsuite/lib/python3.8/site-packages/cma/utilities/utils.py:329: UserWarning:flat fitness (f=-0.000000, sigma=1.91e-01).\n",
      "                    For small sigma, this could indicate numerical convergence.\n",
      "                    Otherwise, please (re)consider how to compute the fitness more elaborately. (iteration=33)\n",
      " /home/finley/miniconda3/envs/testsuite/lib/python3.8/site-packages/cma/utilities/utils.py:329: UserWarning:flat fitness (f=-0.000000, sigma=1.86e-01).\n",
      "                    For small sigma, this could indicate numerical convergence.\n",
      "                    Otherwise, please (re)consider how to compute the fitness more elaborately. (iteration=34)\n",
      " /home/finley/miniconda3/envs/testsuite/lib/python3.8/site-packages/cma/utilities/utils.py:329: UserWarning:flat fitness (f=-0.000000, sigma=1.77e-01).\n",
      "                    For small sigma, this could indicate numerical convergence.\n",
      "                    Otherwise, please (re)consider how to compute the fitness more elaborately. (iteration=35)\n",
      " /home/finley/miniconda3/envs/testsuite/lib/python3.8/site-packages/cma/utilities/utils.py:329: UserWarning:flat fitness (f=-0.000000, sigma=1.77e-01).\n",
      "                    For small sigma, this could indicate numerical convergence.\n",
      "                    Otherwise, please (re)consider how to compute the fitness more elaborately. (iteration=37)\n",
      " /home/finley/miniconda3/envs/testsuite/lib/python3.8/site-packages/cma/utilities/utils.py:329: UserWarning:flat fitness (f=-0.000000, sigma=1.85e-01).\n",
      "                    For small sigma, this could indicate numerical convergence.\n",
      "                    Otherwise, please (re)consider how to compute the fitness more elaborately. (iteration=38)\n"
     ]
    },
    {
     "name": "stdout",
     "output_type": "stream",
     "text": [
      "   39    351 -0.000000000000000e+00 1.2e+01 1.92e-01  3e-02  3e-01 0:20.4\n"
     ]
    },
    {
     "name": "stderr",
     "output_type": "stream",
     "text": [
      " /home/finley/miniconda3/envs/testsuite/lib/python3.8/site-packages/cma/utilities/utils.py:329: UserWarning:flat fitness (f=-0.000000, sigma=2.01e-01).\n",
      "                    For small sigma, this could indicate numerical convergence.\n",
      "                    Otherwise, please (re)consider how to compute the fitness more elaborately. (iteration=40)\n"
     ]
    },
    {
     "name": "stdout",
     "output_type": "stream",
     "text": [
      "   41    369 -0.000000000000000e+00 1.5e+01 1.97e-01  3e-02  3e-01 0:21.8\n"
     ]
    },
    {
     "name": "stderr",
     "output_type": "stream",
     "text": [
      " /home/finley/miniconda3/envs/testsuite/lib/python3.8/site-packages/cma/utilities/utils.py:329: UserWarning:flat fitness (f=-0.000000, sigma=1.97e-01).\n",
      "                    For small sigma, this could indicate numerical convergence.\n",
      "                    Otherwise, please (re)consider how to compute the fitness more elaborately. (iteration=41)\n",
      "reconstraining parameters GP_regression.Mat52.lengthscale\n",
      "reconstraining parameters GP_regression.Mat52.variance\n",
      "reconstraining parameters GP_regression.Gaussian_noise.variance\n"
     ]
    },
    {
     "name": "stdout",
     "output_type": "stream",
     "text": [
      "termination on tolfun=1e-11 (Tue Aug 25 00:48:49 2020)\n",
      "termination on tolfunhist=1e-12 (Tue Aug 25 00:48:49 2020)\n",
      "termination on flat fitness=please (re)consider how to compute the fitness more elaborately if sigma=1.97e-01 is large (Tue Aug 25 00:48:49 2020)\n",
      "final/bestever f-value = -0.000000e+00 -0.000000e+00\n",
      "incumbent solution: [1.1938858212045718, 0.4902049338700983, 1.830622695427721, 5.4391437307628445, 5.692145429896947, 7.157369882640501]\n",
      "std deviation: [0.03249768116250604, 0.09867021272267845, 0.28395811986044855, 0.2638549849515641, 0.2389256264346879, 0.24551688565501223]\n",
      "Optimization restart 1/10, f = 64.3748826831941\n",
      "Optimization restart 2/10, f = 72.80560868021675\n",
      "Optimization restart 3/10, f = 206.04754530789438\n",
      "Optimization restart 4/10, f = 79.46055785946261\n",
      "Optimization restart 5/10, f = 158.54476006581785\n",
      "Optimization restart 6/10, f = 373.8227508786308\n",
      "Optimization restart 7/10, f = 106.34124753917575\n",
      "Optimization restart 8/10, f = 341.7984997158642\n"
     ]
    },
    {
     "name": "stderr",
     "output_type": "stream",
     "text": [
      "reconstraining parameters GP_regression.Mat52.lengthscale\n",
      "reconstraining parameters GP_regression.Mat52.variance\n",
      "reconstraining parameters GP_regression.Gaussian_noise.variance\n"
     ]
    },
    {
     "name": "stdout",
     "output_type": "stream",
     "text": [
      "Optimization restart 9/10, f = 567.5015741143104\n",
      "Optimization restart 10/10, f = 79.460563694245\n",
      "Optimization restart 1/10, f = 22.231492018982507\n",
      "Optimization restart 2/10, f = 76.50096322378221\n",
      "Optimization restart 3/10, f = 22.235653064723376\n",
      "Optimization restart 4/10, f = 36.465624697105795\n",
      "Optimization restart 5/10, f = 79.46055785946167\n",
      "Optimization restart 6/10, f = 1375741353.0720036\n",
      "Optimization restart 7/10, f = 379.38260207421297\n",
      "Optimization restart 8/10, f = 26.111878690283557\n",
      "Optimization restart 9/10, f = 1376972172.4176466\n",
      "Optimization restart 10/10, f = 272.0672910191525\n",
      "(4_w,9)-aCMA-ES (mu_w=2.8,w_1=49%) in dimension 6 (seed=426807, Tue Aug 25 00:48:53 2020)\n",
      "Iterat #Fevals   function value  axis ratio  sigma  min&max std  t[m:s]\n",
      "    1      9 9.017059562819785e-01 1.0e+00 2.44e-01  2e-01  3e-01 0:00.4\n"
     ]
    },
    {
     "name": "stderr",
     "output_type": "stream",
     "text": [
      " /home/finley/miniconda3/envs/testsuite/lib/python3.8/site-packages/cma/utilities/utils.py:329: UserWarning:function_values is not a list of scalars,\n",
      "                        the first element equals [1.81773198] with non-scalar type <class 'numpy.ndarray'>.\n",
      "                        Using now ``[v[0] for v in function_values]`` instead (further warnings are suppressed) ()\n"
     ]
    },
    {
     "name": "stdout",
     "output_type": "stream",
     "text": [
      "    2     18 -0.000000000000000e+00 1.4e+00 2.21e-01  2e-01  2e-01 0:00.9\n",
      "    3     27 -0.000000000000000e+00 1.4e+00 2.07e-01  2e-01  2e-01 0:01.4\n",
      "    8     72 -0.000000000000000e+00 2.0e+00 1.62e-01  9e-02  2e-01 0:04.6\n",
      "   15    135 -0.000000000000000e+00 2.6e+00 1.02e-01  5e-02  1e-01 0:08.6\n"
     ]
    },
    {
     "name": "stderr",
     "output_type": "stream",
     "text": [
      " /home/finley/miniconda3/envs/testsuite/lib/python3.8/site-packages/cma/utilities/utils.py:329: UserWarning:flat fitness (f=-0.000000, sigma=1.06e-01).\n",
      "                    For small sigma, this could indicate numerical convergence.\n",
      "                    Otherwise, please (re)consider how to compute the fitness more elaborately. (iteration=17)\n"
     ]
    },
    {
     "name": "stdout",
     "output_type": "stream",
     "text": [
      "   23    207 -0.000000000000000e+00 4.0e+00 1.03e-01  3e-02  1e-01 0:14.4\n"
     ]
    },
    {
     "name": "stderr",
     "output_type": "stream",
     "text": [
      " /home/finley/miniconda3/envs/testsuite/lib/python3.8/site-packages/cma/utilities/utils.py:329: UserWarning:flat fitness (f=-0.000000, sigma=1.03e-01).\n",
      "                    For small sigma, this could indicate numerical convergence.\n",
      "                    Otherwise, please (re)consider how to compute the fitness more elaborately. (iteration=23)\n",
      " /home/finley/miniconda3/envs/testsuite/lib/python3.8/site-packages/cma/utilities/utils.py:329: UserWarning:flat fitness (f=-0.000000, sigma=9.14e-02).\n",
      "                    For small sigma, this could indicate numerical convergence.\n",
      "                    Otherwise, please (re)consider how to compute the fitness more elaborately. (iteration=25)\n",
      " /home/finley/miniconda3/envs/testsuite/lib/python3.8/site-packages/cma/utilities/utils.py:329: UserWarning:flat fitness (f=-0.000000, sigma=5.64e-02).\n",
      "                    For small sigma, this could indicate numerical convergence.\n",
      "                    Otherwise, please (re)consider how to compute the fitness more elaborately. (iteration=29)\n",
      " /home/finley/miniconda3/envs/testsuite/lib/python3.8/site-packages/cma/utilities/utils.py:329: UserWarning:flat fitness (f=-0.000000, sigma=5.25e-02).\n",
      "                    For small sigma, this could indicate numerical convergence.\n",
      "                    Otherwise, please (re)consider how to compute the fitness more elaborately. (iteration=30)\n"
     ]
    },
    {
     "name": "stdout",
     "output_type": "stream",
     "text": [
      "   31    279 -0.000000000000000e+00 4.2e+00 5.06e-02  1e-02  5e-02 0:21.3\n"
     ]
    },
    {
     "name": "stderr",
     "output_type": "stream",
     "text": [
      " /home/finley/miniconda3/envs/testsuite/lib/python3.8/site-packages/cma/utilities/utils.py:329: UserWarning:flat fitness (f=-0.000000, sigma=5.06e-02).\n",
      "                    For small sigma, this could indicate numerical convergence.\n",
      "                    Otherwise, please (re)consider how to compute the fitness more elaborately. (iteration=31)\n",
      "reconstraining parameters GP_regression.Mat52.lengthscale\n"
     ]
    },
    {
     "name": "stdout",
     "output_type": "stream",
     "text": [
      "termination on tolfun=1e-11 (Tue Aug 25 00:49:15 2020)\n",
      "termination on tolfunhist=1e-12 (Tue Aug 25 00:49:15 2020)\n",
      "termination on flat fitness=please (re)consider how to compute the fitness more elaborately if sigma=5.06e-02 is large (Tue Aug 25 00:49:15 2020)\n",
      "final/bestever f-value = -0.000000e+00 -0.000000e+00\n",
      "incumbent solution: [1.5776317192447165, 1.9318730096156886, 5.165884870266677, 6.351844758235631, 6.727908230053992, 8.39380974163265]\n",
      "std deviation: [0.014081938671044627, 0.04305936033070543, 0.029897578980617217, 0.039935728912483266, 0.042810102714273705, 0.048239441662585425]\n"
     ]
    },
    {
     "name": "stderr",
     "output_type": "stream",
     "text": [
      "reconstraining parameters GP_regression.Mat52.variance\n",
      "reconstraining parameters GP_regression.Gaussian_noise.variance\n"
     ]
    },
    {
     "name": "stdout",
     "output_type": "stream",
     "text": [
      "Optimization restart 1/10, f = 65.61234236736675\n",
      "Optimization restart 2/10, f = 86.19040906975843\n",
      "Optimization restart 3/10, f = 583.7096598997127\n",
      "Optimization restart 4/10, f = 334.1159603193231\n",
      "Optimization restart 5/10, f = 79.4596430972654\n",
      "Optimization restart 6/10, f = 65.61227144719547\n",
      "Optimization restart 7/10, f = 72.52212359801317\n",
      "Optimization restart 8/10, f = 80.8794591983038\n"
     ]
    },
    {
     "name": "stderr",
     "output_type": "stream",
     "text": [
      "reconstraining parameters GP_regression.Mat52.lengthscale\n",
      "reconstraining parameters GP_regression.Mat52.variance\n"
     ]
    },
    {
     "name": "stdout",
     "output_type": "stream",
     "text": [
      "Optimization restart 9/10, f = 74.70714114932312\n",
      "Optimization restart 10/10, f = 380.49815714432066\n"
     ]
    },
    {
     "name": "stderr",
     "output_type": "stream",
     "text": [
      "reconstraining parameters GP_regression.Gaussian_noise.variance\n"
     ]
    },
    {
     "name": "stdout",
     "output_type": "stream",
     "text": [
      "Optimization restart 1/10, f = 23.014045996990124\n",
      "Optimization restart 2/10, f = 1408515855.6450086\n",
      "Optimization restart 3/10, f = 59.5612153599233\n",
      "Optimization restart 4/10, f = 380.49815714432066\n",
      "Optimization restart 5/10, f = 79.23241064097054\n",
      "Optimization restart 6/10, f = 2846877.1367592444\n",
      "Optimization restart 7/10, f = 1412095122.9923196\n",
      "Optimization restart 8/10, f = 73.8908562821326\n",
      "Optimization restart 9/10, f = 77.00165996139225\n",
      "Optimization restart 10/10, f = 75.87551726382944\n",
      "(4_w,9)-aCMA-ES (mu_w=2.8,w_1=49%) in dimension 6 (seed=429936, Tue Aug 25 00:49:24 2020)\n",
      "Iterat #Fevals   function value  axis ratio  sigma  min&max std  t[m:s]\n",
      "    1      9 -0.000000000000000e+00 1.0e+00 2.31e-01  2e-01  2e-01 0:00.5\n",
      "    2     18 -0.000000000000000e+00 1.2e+00 2.54e-01  2e-01  3e-01 0:01.1\n",
      "    3     27 -0.000000000000000e+00 1.5e+00 2.26e-01  2e-01  3e-01 0:01.6\n",
      "    9     81 -0.000000000000000e+00 2.2e+00 1.61e-01  1e-01  2e-01 0:05.1\n"
     ]
    },
    {
     "name": "stderr",
     "output_type": "stream",
     "text": [
      " /home/finley/miniconda3/envs/testsuite/lib/python3.8/site-packages/cma/utilities/utils.py:329: UserWarning:flat fitness (f=-0.000000, sigma=1.61e-01).\n",
      "                    For small sigma, this could indicate numerical convergence.\n",
      "                    Otherwise, please (re)consider how to compute the fitness more elaborately. (iteration=9)\n",
      "reconstraining parameters GP_regression.Mat52.lengthscale\n",
      "reconstraining parameters GP_regression.Mat52.variance\n",
      "reconstraining parameters GP_regression.Gaussian_noise.variance\n"
     ]
    },
    {
     "name": "stdout",
     "output_type": "stream",
     "text": [
      "termination on tolfun=1e-11 (Tue Aug 25 00:49:29 2020)\n",
      "final/bestever f-value = -0.000000e+00 -0.000000e+00\n",
      "incumbent solution: [1.1456014211491183, 0.32873391283134806, 0.9441656939140947, 0.6733008637010303, 3.787477205173843, 4.488462347886966]\n",
      "std deviation: [0.0988283384158422, 0.16408568973527296, 0.14459583427340128, 0.1593466831856184, 0.19475421525278344, 0.1260746061259435]\n",
      "Optimization restart 1/10, f = 66.91836941390689\n",
      "Optimization restart 2/10, f = 387.17356341001044\n",
      "Optimization restart 3/10, f = 345.89776830094996\n",
      "Optimization restart 4/10, f = 82.29843492587104\n",
      "Optimization restart 5/10, f = 327.87954311338257\n",
      "Optimization restart 6/10, f = 128.78224470503332\n",
      "Optimization restart 7/10, f = 387.17356341001044\n",
      "Optimization restart 8/10, f = 361.25062492644213\n",
      "Optimization restart 9/10, f = 387.17356341001044\n"
     ]
    },
    {
     "name": "stderr",
     "output_type": "stream",
     "text": [
      "reconstraining parameters GP_regression.Mat52.lengthscale\n",
      "reconstraining parameters GP_regression.Mat52.variance\n",
      "reconstraining parameters GP_regression.Gaussian_noise.variance\n"
     ]
    },
    {
     "name": "stdout",
     "output_type": "stream",
     "text": [
      "Optimization restart 10/10, f = 128.29331321765343\n",
      "Optimization restart 1/10, f = 23.71086606889684\n",
      "Optimization restart 2/10, f = 82.29843549042226\n",
      "Optimization restart 3/10, f = 77.73115783493787\n",
      "Optimization restart 4/10, f = 100.35870755766132\n",
      "Optimization restart 5/10, f = 23.710866145961507\n",
      "Optimization restart 6/10, f = 2896822.3496848457\n",
      "Optimization restart 7/10, f = 387.17356341001044\n",
      "Optimization restart 8/10, f = 27.42726292431102\n",
      "Optimization restart 9/10, f = 67.97051921736433\n",
      "Optimization restart 10/10, f = 360.50092788649636\n",
      "(4_w,9)-aCMA-ES (mu_w=2.8,w_1=49%) in dimension 6 (seed=456719, Tue Aug 25 00:49:38 2020)\n",
      "Iterat #Fevals   function value  axis ratio  sigma  min&max std  t[m:s]\n",
      "    1      9 -0.000000000000000e+00 1.0e+00 2.30e-01  2e-01  2e-01 0:00.8\n"
     ]
    },
    {
     "name": "stderr",
     "output_type": "stream",
     "text": [
      " /home/finley/miniconda3/envs/testsuite/lib/python3.8/site-packages/cma/utilities/utils.py:329: UserWarning:function_values is not a list of scalars,\n",
      "                        the first element equals [1.86891841] with non-scalar type <class 'numpy.ndarray'>.\n",
      "                        Using now ``[v[0] for v in function_values]`` instead (further warnings are suppressed) ()\n"
     ]
    },
    {
     "name": "stdout",
     "output_type": "stream",
     "text": [
      "    2     18 -0.000000000000000e+00 1.2e+00 2.47e-01  2e-01  3e-01 0:01.3\n",
      "    3     27 -0.000000000000000e+00 1.6e+00 2.56e-01  2e-01  3e-01 0:01.9\n",
      "    8     72 -3.240341706440208e-02 1.7e+00 2.32e-01  2e-01  3e-01 0:04.9\n",
      "   13    117 -3.166067201849732e-02 2.1e+00 1.76e-01  1e-01  2e-01 0:09.6\n",
      "   20    180 -3.933428497549007e-02 3.6e+00 1.30e-01  5e-02  2e-01 0:15.1\n",
      "   27    243 -4.062130407598907e-02 5.4e+00 1.00e-01  3e-02  2e-01 0:21.5\n",
      "   36    324 -4.139306452204172e-02 1.1e+01 4.81e-02  8e-03  7e-02 0:29.0\n",
      "   46    414 -4.152222267412187e-02 1.3e+01 2.12e-02  2e-03  3e-02 0:37.5\n",
      "   58    522 -4.158906437438947e-02 1.9e+01 1.23e-02  1e-03  2e-02 0:46.9\n",
      "   70    630 -4.164506893481335e-02 7.2e+01 2.09e-02  1e-03  5e-02 0:57.1\n",
      "   83    747 -4.166442706570272e-02 1.1e+02 1.10e-02  4e-04  3e-02 1:08.9\n",
      "   99    891 -4.166539112398082e-02 1.5e+02 2.04e-03  4e-05  5e-03 1:21.1\n",
      "  100    900 -4.166539450319418e-02 1.4e+02 1.94e-03  4e-05  4e-03 1:21.7\n",
      "  122   1098 -4.166540428902721e-02 2.1e+02 2.99e-04  3e-06  6e-04 1:35.8\n",
      "  142   1278 -4.166540442097588e-02 2.7e+02 3.92e-05  2e-07  6e-05 1:51.0\n",
      "  159   1431 -4.166540442139421e-02 3.1e+02 1.18e-05  5e-08  1e-05 2:08.0\n",
      "  161   1449 -4.166540442141553e-02 2.9e+02 1.13e-05  5e-08  1e-05 2:10.3\n",
      "termination on tolfun=1e-11 (Tue Aug 25 00:51:49 2020)\n",
      "final/bestever f-value = -4.166540e-02 -4.166540e-02\n",
      "incumbent solution: [0.7346094173761114, 1.961004248470973, 1.8190326604290388, 4.038685432197908, 6.588695565849275, 4.152799200735636]\n",
      "std deviation: [5.175082922922024e-08, 7.419763633893922e-08, 1.9493801916767159e-07, 5.869117515154701e-07, 1.3116966359512247e-05, 3.4314118286746287e-06]\n"
     ]
    },
    {
     "name": "stderr",
     "output_type": "stream",
     "text": [
      "reconstraining parameters GP_regression.Mat52.lengthscale\n",
      "reconstraining parameters GP_regression.Mat52.variance\n",
      "reconstraining parameters GP_regression.Gaussian_noise.variance\n"
     ]
    },
    {
     "name": "stdout",
     "output_type": "stream",
     "text": [
      "Optimization restart 1/10, f = 65.6554523532701\n",
      "Optimization restart 2/10, f = 79.70644347251212\n",
      "Optimization restart 3/10, f = 1755438409.2219975\n",
      "Optimization restart 4/10, f = 6501277.832704347\n",
      "Optimization restart 5/10, f = 2946767.562610446\n",
      "Optimization restart 6/10, f = 136.46434259127398\n",
      "Optimization restart 7/10, f = 393.8489696757003\n",
      "Optimization restart 8/10, f = 132.50091778236097\n",
      "Optimization restart 9/10, f = 65.90249941964088\n"
     ]
    },
    {
     "name": "stderr",
     "output_type": "stream",
     "text": [
      "reconstraining parameters GP_regression.Mat52.lengthscale\n",
      "reconstraining parameters GP_regression.Mat52.variance\n",
      "reconstraining parameters GP_regression.Gaussian_noise.variance\n"
     ]
    },
    {
     "name": "stdout",
     "output_type": "stream",
     "text": [
      "Optimization restart 10/10, f = 66.96858230785011\n",
      "Optimization restart 1/10, f = 23.726245421166045\n",
      "Optimization restart 2/10, f = 76.43480843392933\n",
      "Optimization restart 3/10, f = 393.8489696757003\n",
      "Optimization restart 4/10, f = 29.721765150956784\n",
      "Optimization restart 5/10, f = 1451312914.4941735\n",
      "Optimization restart 6/10, f = 23.35054155998704\n",
      "Optimization restart 7/10, f = 21663.411687358388\n",
      "Optimization restart 8/10, f = 60.57359641172495\n",
      "Optimization restart 9/10, f = 393.8489696757003\n",
      "Optimization restart 10/10, f = 79.67059145195245\n",
      "(4_w,9)-aCMA-ES (mu_w=2.8,w_1=49%) in dimension 6 (seed=416962, Tue Aug 25 00:52:04 2020)\n",
      "Iterat #Fevals   function value  axis ratio  sigma  min&max std  t[m:s]\n",
      "    1      9 1.484237695810686e+00 1.0e+00 2.46e-01  2e-01  3e-01 0:00.7\n"
     ]
    },
    {
     "name": "stderr",
     "output_type": "stream",
     "text": [
      " /home/finley/miniconda3/envs/testsuite/lib/python3.8/site-packages/cma/utilities/utils.py:329: UserWarning:function_values is not a list of scalars,\n",
      "                        the first element equals [1.97803815] with non-scalar type <class 'numpy.ndarray'>.\n",
      "                        Using now ``[v[0] for v in function_values]`` instead (further warnings are suppressed) ()\n"
     ]
    },
    {
     "name": "stdout",
     "output_type": "stream",
     "text": [
      "    2     18 1.362093532077234e+00 1.3e+00 2.62e-01  2e-01  3e-01 0:01.6\n"
     ]
    },
    {
     "name": "stderr",
     "output_type": "stream",
     "text": [
      " /home/finley/miniconda3/envs/testsuite/lib/python3.8/site-packages/cma/utilities/utils.py:329: UserWarning:function_values is not a list of scalars,\n",
      "                        the first element equals [1.74531137] with non-scalar type <class 'numpy.ndarray'>.\n",
      "                        Using now ``[v[0] for v in function_values]`` instead (further warnings are suppressed) ()\n"
     ]
    },
    {
     "name": "stdout",
     "output_type": "stream",
     "text": [
      "    3     27 8.425753475570041e-01 1.5e+00 2.88e-01  3e-01  3e-01 0:02.5\n",
      "    8     72 -0.000000000000000e+00 3.0e+00 3.72e-01  3e-01  5e-01 0:06.2\n",
      "   15    135 -5.127794446343259e-03 4.0e+00 3.11e-01  1e-01  4e-01 0:10.3\n",
      "   24    216 -1.030092790373605e-02 5.2e+00 2.11e-01  7e-02  3e-01 0:15.4\n",
      "   34    306 -2.019328566903100e-02 5.6e+00 1.59e-01  4e-02  2e-01 0:21.9\n",
      "   45    405 -3.225626938494752e-02 1.5e+01 1.97e-01  3e-02  3e-01 0:29.4\n",
      "   58    522 -3.690810286938984e-02 2.5e+01 1.33e-01  1e-02  2e-01 0:37.9\n",
      "   72    648 -4.051800263942873e-02 2.1e+01 9.85e-02  6e-03  1e-01 0:47.2\n",
      "   87    783 -4.106539965967393e-02 2.8e+01 3.49e-02  2e-03  4e-02 0:57.5\n",
      "  100    900 -4.110224026025744e-02 2.7e+01 9.99e-03  3e-04  8e-03 1:06.6\n",
      "  119   1071 -4.110330431083220e-02 3.0e+01 2.51e-03  6e-05  2e-03 1:19.1\n",
      "  140   1260 -4.110331549670221e-02 3.6e+01 2.73e-04  3e-06  1e-04 1:32.7\n",
      "  162   1458 -4.110331557413005e-02 3.3e+01 4.35e-05  3e-07  1e-05 1:47.0\n",
      "  180   1620 -4.110331557607783e-02 3.7e+01 6.57e-06  3e-08  1e-06 1:58.8\n"
     ]
    },
    {
     "name": "stderr",
     "output_type": "stream",
     "text": [
      "reconstraining parameters GP_regression.Mat52.lengthscale\n",
      "reconstraining parameters GP_regression.Mat52.variance\n",
      "reconstraining parameters GP_regression.Gaussian_noise.variance\n"
     ]
    },
    {
     "name": "stdout",
     "output_type": "stream",
     "text": [
      "termination on tolfun=1e-11 (Tue Aug 25 00:54:03 2020)\n",
      "final/bestever f-value = -4.110332e-02 -4.110332e-02\n",
      "incumbent solution: [0.6820996867528786, 2.126726873397266, 1.8496298566206801, 4.6017076112989646, 2.313223614258651e-14, 3.936448729319773]\n",
      "std deviation: [3.442408083830765e-08, 5.098983290855837e-08, 1.9593171049530563e-07, 6.355816540214972e-07, 3.9937626437595893e-07, 1.0513989497254423e-06]\n",
      "Optimization restart 1/10, f = 74.2748862042585\n",
      "Optimization restart 2/10, f = 123.43076016929568\n",
      "Optimization restart 3/10, f = 81.13165795779312\n",
      "Optimization restart 4/10, f = 388.02480423833816\n",
      "Optimization restart 5/10, f = 400.5243759413901\n",
      "Optimization restart 6/10, f = 81.96334422890612\n",
      "Optimization restart 7/10, f = 387.670119231982\n",
      "Optimization restart 8/10, f = 374.09318447219806\n",
      "Optimization restart 9/10, f = 387.5083498408728\n"
     ]
    },
    {
     "name": "stderr",
     "output_type": "stream",
     "text": [
      "reconstraining parameters GP_regression.Mat52.lengthscale\n",
      "reconstraining parameters GP_regression.Mat52.variance\n",
      "reconstraining parameters GP_regression.Gaussian_noise.variance\n"
     ]
    },
    {
     "name": "stdout",
     "output_type": "stream",
     "text": [
      "Optimization restart 10/10, f = 117.06063283329237\n",
      "Optimization restart 1/10, f = 26.5236566488222\n",
      "Optimization restart 2/10, f = 400.52437581184944\n",
      "Optimization restart 3/10, f = 85.13631199228126\n",
      "Optimization restart 4/10, f = 350.0606311233622\n",
      "Optimization restart 5/10, f = 399.70396758551186\n",
      "Optimization restart 6/10, f = 400.5243759413901\n",
      "Optimization restart 7/10, f = 133.83893542734538\n",
      "Optimization restart 8/10, f = 395.8519332168059\n",
      "Optimization restart 9/10, f = 81.25685538902837\n",
      "Optimization restart 10/10, f = 98.82271219313948\n",
      "(4_w,9)-aCMA-ES (mu_w=2.8,w_1=49%) in dimension 6 (seed=360061, Tue Aug 25 00:54:08 2020)\n",
      "Iterat #Fevals   function value  axis ratio  sigma  min&max std  t[m:s]\n",
      "    1      9 1.261579170456277e+00 1.0e+00 2.36e-01  2e-01  2e-01 0:00.5\n"
     ]
    },
    {
     "name": "stderr",
     "output_type": "stream",
     "text": [
      " /home/finley/miniconda3/envs/testsuite/lib/python3.8/site-packages/cma/utilities/utils.py:329: UserWarning:function_values is not a list of scalars,\n",
      "                        the first element equals [2.59106944] with non-scalar type <class 'numpy.ndarray'>.\n",
      "                        Using now ``[v[0] for v in function_values]`` instead (further warnings are suppressed) ()\n"
     ]
    },
    {
     "name": "stdout",
     "output_type": "stream",
     "text": [
      "    2     18 6.062443216314062e-01 1.3e+00 2.27e-01  2e-01  2e-01 0:01.1\n"
     ]
    },
    {
     "name": "stderr",
     "output_type": "stream",
     "text": [
      " /home/finley/miniconda3/envs/testsuite/lib/python3.8/site-packages/cma/utilities/utils.py:329: UserWarning:function_values is not a list of scalars,\n",
      "                        the first element equals [2.1248667] with non-scalar type <class 'numpy.ndarray'>.\n",
      "                        Using now ``[v[0] for v in function_values]`` instead (further warnings are suppressed) ()\n"
     ]
    },
    {
     "name": "stdout",
     "output_type": "stream",
     "text": [
      "    3     27 -0.000000000000000e+00 1.3e+00 2.92e-01  3e-01  3e-01 0:01.7\n",
      "    9     81 -4.527966146822493e-03 1.9e+00 3.57e-01  3e-01  4e-01 0:05.3\n",
      "   16    144 -7.975513771808274e-03 2.6e+00 3.06e-01  2e-01  4e-01 0:09.9\n",
      "   24    216 -1.045553907075236e-02 5.1e+00 3.47e-01  2e-01  5e-01 0:15.2\n",
      "   33    297 -1.167769558063103e-02 8.0e+00 2.98e-01  8e-02  5e-01 0:21.5\n",
      "   44    396 -1.173402499294873e-02 8.9e+00 1.13e-01  2e-02  2e-01 0:28.8\n",
      "   56    504 -1.174199551551824e-02 1.5e+01 3.85e-02  3e-03  4e-02 0:37.1\n",
      "   70    630 -1.178332859671016e-02 3.2e+01 1.37e-01  8e-03  2e-01 0:46.5\n",
      "   85    765 -1.342461152623553e-02 4.7e+01 5.82e-01  2e-02  1e+00 0:56.9\n",
      "  100    900 -1.359153181844075e-02 3.0e+01 2.00e-01  6e-03  1e-01 1:07.0\n",
      "  119   1071 -1.359269736602187e-02 2.6e+01 5.81e-02  1e-03  2e-02 1:19.5\n",
      "  138   1242 -1.359297370150570e-02 2.9e+01 1.61e-02  2e-04  4e-03 1:32.5\n",
      "  159   1431 -1.359297933128367e-02 2.2e+01 2.57e-03  2e-05  3e-04 1:46.6\n",
      "  182   1638 -1.359297939723758e-02 2.8e+01 2.36e-04  8e-07  2e-05 2:02.1\n",
      "  192   1728 -1.359297939733617e-02 3.1e+01 1.01e-04  2e-07  6e-06 2:08.8\n"
     ]
    },
    {
     "name": "stderr",
     "output_type": "stream",
     "text": [
      "reconstraining parameters GP_regression.Mat52.lengthscale\n",
      "reconstraining parameters GP_regression.Mat52.variance\n",
      "reconstraining parameters GP_regression.Gaussian_noise.variance\n"
     ]
    },
    {
     "name": "stdout",
     "output_type": "stream",
     "text": [
      "termination on tolfun=1e-11 (Tue Aug 25 00:56:17 2020)\n",
      "final/bestever f-value = -1.359298e-02 -1.359298e-02\n",
      "incumbent solution: [1.9999999999935825, 1.0971434974302998, 5.9999999999997575, 7.999999999995442, 5.184038815931244, 10.22088603979896]\n",
      "std deviation: [5.646882649752668e-06, 2.462798174009276e-07, 1.2227266857691075e-06, 6.237774554669608e-06, 3.868341204966148e-06, 5.811862679837775e-06]\n",
      "Optimization restart 1/10, f = 75.57706919342422\n",
      "Optimization restart 2/10, f = 83.29600237521322\n",
      "Optimization restart 3/10, f = 368.0482978943916\n",
      "Optimization restart 4/10, f = 388.75476206428584\n",
      "Optimization restart 5/10, f = 122.66256376640632\n",
      "Optimization restart 6/10, f = 407.1997822070799\n",
      "Optimization restart 7/10, f = 386.682690129453\n",
      "Optimization restart 8/10, f = 343.09532111519525\n"
     ]
    },
    {
     "name": "stderr",
     "output_type": "stream",
     "text": [
      "reconstraining parameters GP_regression.Mat52.lengthscale\n",
      "reconstraining parameters GP_regression.Mat52.variance\n",
      "reconstraining parameters GP_regression.Gaussian_noise.variance\n"
     ]
    },
    {
     "name": "stdout",
     "output_type": "stream",
     "text": [
      "Optimization restart 9/10, f = 387.3648801589594\n",
      "Optimization restart 10/10, f = 358.9260024826635\n",
      "Optimization restart 1/10, f = 26.636834924051062\n",
      "Optimization restart 2/10, f = 387.84329300895746\n",
      "Optimization restart 3/10, f = 150.6321479598877\n",
      "Optimization restart 4/10, f = 49.22927776710293\n",
      "Optimization restart 5/10, f = 385.26058556967155\n",
      "Optimization restart 6/10, f = 371.81221583505146\n",
      "Optimization restart 7/10, f = 388.0832679135735\n",
      "Optimization restart 8/10, f = 29.64266196040728\n",
      "Optimization restart 9/10, f = 1454084011.2066436\n",
      "Optimization restart 10/10, f = 116.69577390684249\n",
      "(4_w,9)-aCMA-ES (mu_w=2.8,w_1=49%) in dimension 6 (seed=504519, Tue Aug 25 00:56:20 2020)\n",
      "Iterat #Fevals   function value  axis ratio  sigma  min&max std  t[m:s]\n",
      "    1      9 1.104898885008184e+00 1.0e+00 2.16e-01  2e-01  2e-01 0:00.5\n"
     ]
    },
    {
     "name": "stderr",
     "output_type": "stream",
     "text": [
      " /home/finley/miniconda3/envs/testsuite/lib/python3.8/site-packages/cma/utilities/utils.py:329: UserWarning:function_values is not a list of scalars,\n",
      "                        the first element equals [1.81407473] with non-scalar type <class 'numpy.ndarray'>.\n",
      "                        Using now ``[v[0] for v in function_values]`` instead (further warnings are suppressed) ()\n"
     ]
    },
    {
     "name": "stdout",
     "output_type": "stream",
     "text": [
      "    2     18 1.241444035525829e+00 1.2e+00 2.36e-01  2e-01  3e-01 0:00.9\n"
     ]
    },
    {
     "name": "stderr",
     "output_type": "stream",
     "text": [
      " /home/finley/miniconda3/envs/testsuite/lib/python3.8/site-packages/cma/utilities/utils.py:329: UserWarning:function_values is not a list of scalars,\n",
      "                        the first element equals [1.78061711] with non-scalar type <class 'numpy.ndarray'>.\n",
      "                        Using now ``[v[0] for v in function_values]`` instead (further warnings are suppressed) ()\n"
     ]
    },
    {
     "name": "stdout",
     "output_type": "stream",
     "text": [
      "    3     27 9.576810657035315e-01 1.4e+00 2.85e-01  3e-01  3e-01 0:01.5\n",
      "    9     81 -0.000000000000000e+00 2.2e+00 4.52e-01  4e-01  5e-01 0:04.7\n",
      "   16    144 -0.000000000000000e+00 2.7e+00 4.86e-01  4e-01  5e-01 0:08.9\n",
      "   25    225 -0.000000000000000e+00 5.2e+00 5.00e-01  3e-01  7e-01 0:14.2\n",
      "   35    315 -2.812896571757761e-04 3.6e+00 4.15e-01  2e-01  5e-01 0:20.3\n",
      "   47    423 -0.000000000000000e+00 4.9e+00 2.50e-01  7e-02  3e-01 0:27.9\n"
     ]
    },
    {
     "name": "stderr",
     "output_type": "stream",
     "text": [
      " /home/finley/miniconda3/envs/testsuite/lib/python3.8/site-packages/cma/utilities/utils.py:329: UserWarning:flat fitness (f=-0.000000, sigma=2.50e-01).\n",
      "                    For small sigma, this could indicate numerical convergence.\n",
      "                    Otherwise, please (re)consider how to compute the fitness more elaborately. (iteration=47)\n"
     ]
    },
    {
     "name": "stdout",
     "output_type": "stream",
     "text": [
      "   59    531 -1.387620772609388e-02 8.5e+00 1.78e-01  4e-02  2e-01 0:36.6\n",
      "   72    648 -1.774213327022078e-02 1.1e+01 1.82e-01  2e-02  2e-01 0:45.9\n",
      "   87    783 -2.172728405348501e-02 2.2e+01 1.90e-01  2e-02  3e-01 0:56.3\n",
      "  100    900 -2.365336697796705e-02 3.3e+01 3.11e-01  2e-02  5e-01 1:05.6\n",
      "  117   1053 -2.475626570840728e-02 4.2e+01 3.66e-02  1e-03  4e-02 1:17.9\n",
      "  136   1224 -2.477977054203295e-02 7.0e+01 2.86e-02  4e-04  2e-02 1:31.3\n",
      "  156   1404 -2.478134567081991e-02 8.1e+01 8.05e-03  6e-05  4e-03 1:45.4\n",
      "  178   1602 -2.478139689351222e-02 1.0e+02 1.72e-03  8e-06  8e-04 2:00.9\n",
      "  200   1800 -2.478139785083222e-02 8.5e+01 2.00e-04  5e-07  5e-05 2:16.2\n",
      "  224   2016 -2.478139786045608e-02 7.9e+01 1.94e-05  3e-08  2e-06 2:33.3\n",
      "  226   2034 -2.478139786046674e-02 7.2e+01 1.66e-05  3e-08  2e-06 2:34.9\n"
     ]
    },
    {
     "name": "stderr",
     "output_type": "stream",
     "text": [
      "reconstraining parameters GP_regression.Mat52.lengthscale\n"
     ]
    },
    {
     "name": "stdout",
     "output_type": "stream",
     "text": [
      "termination on tolfun=1e-11 (Tue Aug 25 00:58:56 2020)\n",
      "final/bestever f-value = -2.478140e-02 -2.478140e-02\n",
      "incumbent solution: [1.2325268252352293, 0.25977626110405183, 1.6456144028818545, 6.099148468466056, 1.5818135542865162, 9.039702995880528]\n",
      "std deviation: [4.194090370496206e-08, 3.005926402045953e-08, 3.128439730797201e-07, 1.0923149748396303e-06, 1.906093414852209e-06, 1.929401145887637e-06]\n"
     ]
    },
    {
     "name": "stderr",
     "output_type": "stream",
     "text": [
      "reconstraining parameters GP_regression.Mat52.variance\n",
      "reconstraining parameters GP_regression.Gaussian_noise.variance\n"
     ]
    },
    {
     "name": "stdout",
     "output_type": "stream",
     "text": [
      "Optimization restart 1/10, f = 76.13995180145618\n",
      "Optimization restart 2/10, f = 330.51777584580253\n",
      "Optimization restart 3/10, f = 3096603.201387247\n",
      "Optimization restart 4/10, f = 1787436330.174577\n",
      "Optimization restart 5/10, f = 80.88123043442046\n",
      "Optimization restart 6/10, f = 413.87518847276976\n",
      "Optimization restart 7/10, f = 68.65960055101303\n",
      "Optimization restart 8/10, f = 373.11701754691074\n",
      "Optimization restart 9/10, f = 87.97418905869011\n"
     ]
    },
    {
     "name": "stderr",
     "output_type": "stream",
     "text": [
      "reconstraining parameters GP_regression.Mat52.lengthscale\n",
      "reconstraining parameters GP_regression.Mat52.variance\n",
      "reconstraining parameters GP_regression.Gaussian_noise.variance\n"
     ]
    },
    {
     "name": "stdout",
     "output_type": "stream",
     "text": [
      "Optimization restart 10/10, f = 87.97418905869038\n",
      "Optimization restart 1/10, f = 27.49946510672611\n",
      "Optimization restart 2/10, f = 422.76086697648134\n",
      "Optimization restart 3/10, f = 77.83771855454036\n",
      "Optimization restart 4/10, f = 37.21536499994595\n",
      "Optimization restart 5/10, f = 1489967866.8312566\n",
      "Optimization restart 6/10, f = 87.97418905868972\n",
      "Optimization restart 7/10, f = 3096603.2013872475\n",
      "Optimization restart 8/10, f = 413.87518847276976\n",
      "Optimization restart 9/10, f = 84.67550091357376\n",
      "Optimization restart 10/10, f = 87.9741890586897\n",
      "(4_w,9)-aCMA-ES (mu_w=2.8,w_1=49%) in dimension 6 (seed=484924, Tue Aug 25 00:59:02 2020)\n",
      "Iterat #Fevals   function value  axis ratio  sigma  min&max std  t[m:s]\n",
      "    1      9 -0.000000000000000e+00 1.0e+00 2.32e-01  2e-01  2e-01 0:00.5\n"
     ]
    },
    {
     "name": "stderr",
     "output_type": "stream",
     "text": [
      " /home/finley/miniconda3/envs/testsuite/lib/python3.8/site-packages/cma/utilities/utils.py:329: UserWarning:function_values is not a list of scalars,\n",
      "                        the first element equals [1.68456653] with non-scalar type <class 'numpy.ndarray'>.\n",
      "                        Using now ``[v[0] for v in function_values]`` instead (further warnings are suppressed) ()\n"
     ]
    },
    {
     "name": "stdout",
     "output_type": "stream",
     "text": [
      "    2     18 -0.000000000000000e+00 1.2e+00 2.32e-01  2e-01  2e-01 0:01.2\n"
     ]
    },
    {
     "name": "stderr",
     "output_type": "stream",
     "text": [
      " /home/finley/miniconda3/envs/testsuite/lib/python3.8/site-packages/cma/utilities/utils.py:329: UserWarning:function_values is not a list of scalars,\n",
      "                        the first element equals [2.63639884] with non-scalar type <class 'numpy.ndarray'>.\n",
      "                        Using now ``[v[0] for v in function_values]`` instead (further warnings are suppressed) ()\n"
     ]
    },
    {
     "name": "stdout",
     "output_type": "stream",
     "text": [
      "    3     27 -0.000000000000000e+00 1.4e+00 2.70e-01  3e-01  3e-01 0:01.9\n",
      "    7     63 -0.000000000000000e+00 1.8e+00 3.02e-01  2e-01  3e-01 0:05.3\n",
      "   10     90 -0.000000000000000e+00 2.2e+00 2.98e-01  2e-01  3e-01 0:07.6\n"
     ]
    },
    {
     "name": "stderr",
     "output_type": "stream",
     "text": [
      "reconstraining parameters GP_regression.Mat52.lengthscale\n",
      "reconstraining parameters GP_regression.Mat52.variance\n",
      "reconstraining parameters GP_regression.Gaussian_noise.variance\n"
     ]
    },
    {
     "name": "stdout",
     "output_type": "stream",
     "text": [
      "termination on tolfunhist=1e-12 (Tue Aug 25 00:59:10 2020)\n",
      "final/bestever f-value = -0.000000e+00 -0.000000e+00\n",
      "incumbent solution: [0.00200638913695659, 3.508696516465565, 2.089844861588424, 1.3603710198027466, 9.310268788271841, 1.0970251587288182]\n",
      "std deviation: [0.2001772696910702, 0.34179612969424944, 0.2754240487915719, 0.3063480888680763, 0.31929022007049934, 0.25006961398995686]\n",
      "Optimization restart 1/10, f = 69.9655083502054\n",
      "Optimization restart 2/10, f = 420.55059473845955\n",
      "Optimization restart 3/10, f = 365.9169077320964\n",
      "Optimization restart 4/10, f = 405.8718479520757\n",
      "Optimization restart 5/10, f = 391.51047802642853\n",
      "Optimization restart 6/10, f = 83.7645264126951\n",
      "Optimization restart 7/10, f = 89.29759376978875\n",
      "Optimization restart 8/10, f = 383.07784910647626\n",
      "Optimization restart 9/10, f = 420.55059473845955\n"
     ]
    },
    {
     "name": "stderr",
     "output_type": "stream",
     "text": [
      "reconstraining parameters GP_regression.Mat52.lengthscale\n",
      "reconstraining parameters GP_regression.Mat52.variance\n",
      "reconstraining parameters GP_regression.Gaussian_noise.variance\n"
     ]
    },
    {
     "name": "stdout",
     "output_type": "stream",
     "text": [
      "Optimization restart 10/10, f = 397.3695776578876\n",
      "Optimization restart 1/10, f = 27.548691090659517\n",
      "Optimization restart 2/10, f = 3146548.414312851\n",
      "Optimization restart 3/10, f = 403.81720353251495\n",
      "Optimization restart 4/10, f = 25.915902572615582\n",
      "Optimization restart 5/10, f = 9580775.540137285\n",
      "Optimization restart 6/10, f = 57.77028264880374\n",
      "Optimization restart 7/10, f = 58.61760098561244\n",
      "Optimization restart 8/10, f = 87.36421089683724\n",
      "Optimization restart 9/10, f = 420.55059473845955\n",
      "Optimization restart 10/10, f = 365.22078069303194\n",
      "(4_w,9)-aCMA-ES (mu_w=2.8,w_1=49%) in dimension 6 (seed=480410, Tue Aug 25 00:59:19 2020)\n",
      "Iterat #Fevals   function value  axis ratio  sigma  min&max std  t[m:s]\n",
      "    1      9 1.215208509454690e+00 1.0e+00 2.60e-01  2e-01  3e-01 0:00.9\n"
     ]
    },
    {
     "name": "stderr",
     "output_type": "stream",
     "text": [
      " /home/finley/miniconda3/envs/testsuite/lib/python3.8/site-packages/cma/utilities/utils.py:329: UserWarning:function_values is not a list of scalars,\n",
      "                        the first element equals [3.02769586] with non-scalar type <class 'numpy.ndarray'>.\n",
      "                        Using now ``[v[0] for v in function_values]`` instead (further warnings are suppressed) ()\n"
     ]
    },
    {
     "name": "stdout",
     "output_type": "stream",
     "text": [
      "    2     18 1.194979289951536e+00 1.3e+00 2.50e-01  2e-01  3e-01 0:01.4\n"
     ]
    },
    {
     "name": "stderr",
     "output_type": "stream",
     "text": [
      " /home/finley/miniconda3/envs/testsuite/lib/python3.8/site-packages/cma/utilities/utils.py:329: UserWarning:function_values is not a list of scalars,\n",
      "                        the first element equals [1.60376325] with non-scalar type <class 'numpy.ndarray'>.\n",
      "                        Using now ``[v[0] for v in function_values]`` instead (further warnings are suppressed) ()\n"
     ]
    },
    {
     "name": "stdout",
     "output_type": "stream",
     "text": [
      "    3     27 1.023346515382268e+00 1.4e+00 2.57e-01  2e-01  3e-01 0:01.9\n",
      "    8     72 -0.000000000000000e+00 1.8e+00 2.55e-01  2e-01  3e-01 0:05.3\n",
      "   14    126 -4.890507612476114e-04 2.8e+00 3.81e-01  2e-01  5e-01 0:09.5\n",
      "   20    180 -1.423287257362915e-02 3.1e+00 2.37e-01  1e-01  3e-01 0:15.0\n",
      "   28    252 -4.231999524312791e-02 6.6e+00 2.67e-01  8e-02  4e-01 0:21.6\n",
      "   35    315 -5.600900864745606e-02 6.1e+00 1.36e-01  3e-02  2e-01 0:30.0\n",
      "   44    396 -6.184522762794531e-02 9.8e+00 1.31e-01  2e-02  2e-01 0:38.1\n",
      "   54    486 -6.300204653106700e-02 8.8e+00 4.89e-02  6e-03  5e-02 0:47.9\n",
      "   65    585 -6.314060273112343e-02 1.3e+01 2.56e-02  2e-03  2e-02 0:58.6\n",
      "   76    684 -6.315661152399787e-02 1.4e+01 1.16e-02  7e-04  9e-03 1:09.7\n",
      "   89    801 -6.316284363893754e-02 1.8e+01 2.93e-03  1e-04  2e-03 1:22.1\n",
      "  100    900 -6.316296148539680e-02 2.3e+01 1.06e-03  4e-05  8e-04 1:33.1\n",
      "  118   1062 -6.316296631971152e-02 3.3e+01 2.36e-04  6e-06  2e-04 1:47.7\n",
      "  139   1251 -6.316296640954366e-02 4.7e+01 2.17e-05  3e-07  1e-05 2:03.5\n",
      "  152   1368 -6.316296641022001e-02 8.6e+01 9.08e-06  8e-08  6e-06 2:19.6\n",
      "  159   1431 -6.316296641025509e-02 1.0e+02 4.95e-06  4e-08  4e-06 2:30.5\n",
      "termination on tolfun=1e-11 (Tue Aug 25 01:01:50 2020)\n",
      "final/bestever f-value = -6.316297e-02 -6.316297e-02\n",
      "incumbent solution: [0.6200949435851796, 3.0058752825624038, 1.6793117872953744, 4.722000565727509, 4.447368055714405, 7.111934159139205]\n",
      "std deviation: [3.5639023392159774e-08, 7.622093924829689e-08, 1.1790100186814519e-07, 4.0251024096257517e-07, 3.892564966598067e-07, 3.5668662894643508e-06]\n"
     ]
    },
    {
     "name": "stderr",
     "output_type": "stream",
     "text": [
      "reconstraining parameters GP_regression.Mat52.lengthscale\n",
      "reconstraining parameters GP_regression.Mat52.variance\n",
      "reconstraining parameters GP_regression.Gaussian_noise.variance\n"
     ]
    },
    {
     "name": "stdout",
     "output_type": "stream",
     "text": [
      "Optimization restart 1/10, f = 70.15532363476264\n",
      "Optimization restart 2/10, f = 427.22600100414945\n",
      "Optimization restart 3/10, f = 427.22600100414945\n",
      "Optimization restart 4/10, f = 333.08796714606575\n",
      "Optimization restart 5/10, f = 377.8050654499778\n",
      "Optimization restart 6/10, f = 422.4605059590582\n",
      "Optimization restart 7/10, f = 377.25423691769487\n",
      "Optimization restart 8/10, f = 70.82099142494627\n",
      "Optimization restart 9/10, f = 3196493.627238449\n"
     ]
    },
    {
     "name": "stderr",
     "output_type": "stream",
     "text": [
      "reconstraining parameters GP_regression.Mat52.lengthscale\n",
      "reconstraining parameters GP_regression.Mat52.variance\n",
      "reconstraining parameters GP_regression.Gaussian_noise.variance\n"
     ]
    },
    {
     "name": "stdout",
     "output_type": "stream",
     "text": [
      "Optimization restart 10/10, f = 157.2747159806952\n",
      "Optimization restart 1/10, f = 25.540783125872977\n",
      "Optimization restart 2/10, f = 379.31592149167653\n",
      "Optimization restart 3/10, f = 36.57898884079057\n",
      "Optimization restart 4/10, f = 58.31170653389729\n",
      "Optimization restart 5/10, f = 35.72821331944162\n",
      "Optimization restart 6/10, f = 44.12067305011559\n",
      "Optimization restart 7/10, f = 38.42535453292496\n",
      "Optimization restart 8/10, f = 29.61492302396301\n",
      "Optimization restart 9/10, f = 25.540827489847516\n",
      "Optimization restart 10/10, f = 328.8497512050678\n",
      "(4_w,9)-aCMA-ES (mu_w=2.8,w_1=49%) in dimension 6 (seed=420987, Tue Aug 25 01:02:07 2020)\n",
      "Iterat #Fevals   function value  axis ratio  sigma  min&max std  t[m:s]\n",
      "    1      9 -0.000000000000000e+00 1.0e+00 2.43e-01  2e-01  3e-01 0:00.8\n"
     ]
    },
    {
     "name": "stderr",
     "output_type": "stream",
     "text": [
      " /home/finley/miniconda3/envs/testsuite/lib/python3.8/site-packages/cma/utilities/utils.py:329: UserWarning:function_values is not a list of scalars,\n",
      "                        the first element equals [0.854709] with non-scalar type <class 'numpy.ndarray'>.\n",
      "                        Using now ``[v[0] for v in function_values]`` instead (further warnings are suppressed) ()\n"
     ]
    },
    {
     "name": "stdout",
     "output_type": "stream",
     "text": [
      "    2     18 -0.000000000000000e+00 1.2e+00 2.30e-01  2e-01  2e-01 0:02.0\n"
     ]
    },
    {
     "name": "stderr",
     "output_type": "stream",
     "text": [
      " /home/finley/miniconda3/envs/testsuite/lib/python3.8/site-packages/cma/utilities/utils.py:329: UserWarning:function_values is not a list of scalars,\n",
      "                        the first element equals [0.57510441] with non-scalar type <class 'numpy.ndarray'>.\n",
      "                        Using now ``[v[0] for v in function_values]`` instead (further warnings are suppressed) ()\n"
     ]
    },
    {
     "name": "stdout",
     "output_type": "stream",
     "text": [
      "    3     27 -0.000000000000000e+00 1.3e+00 2.32e-01  2e-01  2e-01 0:03.1\n",
      "    6     54 -0.000000000000000e+00 1.7e+00 2.21e-01  2e-01  2e-01 0:06.2\n",
      "   10     90 -0.000000000000000e+00 1.7e+00 1.73e-01  1e-01  2e-01 0:09.0\n"
     ]
    },
    {
     "name": "stderr",
     "output_type": "stream",
     "text": [
      "reconstraining parameters GP_regression.Mat52.lengthscale\n",
      "reconstraining parameters GP_regression.Mat52.variance\n",
      "reconstraining parameters GP_regression.Gaussian_noise.variance\n"
     ]
    },
    {
     "name": "stdout",
     "output_type": "stream",
     "text": [
      "termination on tolfunhist=1e-12 (Tue Aug 25 01:02:16 2020)\n",
      "termination on flat fitness=please (re)consider how to compute the fitness more elaborately if sigma=1.73e-01 is large (Tue Aug 25 01:02:16 2020)\n",
      "final/bestever f-value = -0.000000e+00 -0.000000e+00\n",
      "incumbent solution: [1.1570975148908749, 2.956535135096331, 4.3140057816483885, 5.8474137764878815, 2.5927180883416248, 5.610933832594637]\n",
      "std deviation: [0.14318559314694507, 0.13661592578639972, 0.16082308137576132, 0.1705697836779975, 0.1953159653856504, 0.15037291952564677]\n",
      "Optimization restart 1/10, f = 71.06662274919972\n",
      "Optimization restart 2/10, f = 393.8267051030067\n",
      "Optimization restart 3/10, f = 433.9014072698393\n",
      "Optimization restart 4/10, f = 86.48428650702283\n",
      "Optimization restart 5/10, f = 92.15106200072272\n",
      "Optimization restart 6/10, f = 415.5506206915373\n",
      "Optimization restart 7/10, f = 414.0110329938978\n",
      "Optimization restart 8/10, f = 71.06662252507917\n"
     ]
    },
    {
     "name": "stderr",
     "output_type": "stream",
     "text": [
      "reconstraining parameters GP_regression.Mat52.lengthscale\n",
      "reconstraining parameters GP_regression.Mat52.variance\n",
      "reconstraining parameters GP_regression.Gaussian_noise.variance\n"
     ]
    },
    {
     "name": "stdout",
     "output_type": "stream",
     "text": [
      "Optimization restart 9/10, f = 383.762880236814\n",
      "Optimization restart 10/10, f = 433.9014072698393\n",
      "Optimization restart 1/10, f = 25.771062984585186\n",
      "Optimization restart 2/10, f = 36.80615496276646\n",
      "Optimization restart 3/10, f = 381.27477548820764\n",
      "Optimization restart 4/10, f = 88.00732135994019\n",
      "Optimization restart 5/10, f = 433.9014072698393\n",
      "Optimization restart 6/10, f = 160.124583608533\n",
      "Optimization restart 7/10, f = 433.9014072698393\n",
      "Optimization restart 8/10, f = 29.042666253680018\n",
      "Optimization restart 9/10, f = 59.024971053217676\n",
      "Optimization restart 10/10, f = 1639587681.1142635\n",
      "(4_w,9)-aCMA-ES (mu_w=2.8,w_1=49%) in dimension 6 (seed=460609, Tue Aug 25 01:02:21 2020)\n",
      "Iterat #Fevals   function value  axis ratio  sigma  min&max std  t[m:s]\n",
      "    1      9 5.375074876311545e-01 1.0e+00 2.76e-01  3e-01  3e-01 0:00.5\n"
     ]
    },
    {
     "name": "stderr",
     "output_type": "stream",
     "text": [
      " /home/finley/miniconda3/envs/testsuite/lib/python3.8/site-packages/cma/utilities/utils.py:329: UserWarning:function_values is not a list of scalars,\n",
      "                        the first element equals [1.66410149] with non-scalar type <class 'numpy.ndarray'>.\n",
      "                        Using now ``[v[0] for v in function_values]`` instead (further warnings are suppressed) ()\n"
     ]
    },
    {
     "name": "stdout",
     "output_type": "stream",
     "text": [
      "    2     18 5.149265750420784e-01 1.4e+00 2.75e-01  3e-01  3e-01 0:01.0\n"
     ]
    },
    {
     "name": "stderr",
     "output_type": "stream",
     "text": [
      " /home/finley/miniconda3/envs/testsuite/lib/python3.8/site-packages/cma/utilities/utils.py:329: UserWarning:function_values is not a list of scalars,\n",
      "                        the first element equals [1.16636772] with non-scalar type <class 'numpy.ndarray'>.\n",
      "                        Using now ``[v[0] for v in function_values]`` instead (further warnings are suppressed) ()\n"
     ]
    },
    {
     "name": "stdout",
     "output_type": "stream",
     "text": [
      "    3     27 -0.000000000000000e+00 1.5e+00 2.74e-01  2e-01  3e-01 0:01.7\n",
      "    8     72 -0.000000000000000e+00 2.8e+00 4.55e-01  3e-01  7e-01 0:04.8\n",
      "   15    135 -0.000000000000000e+00 4.9e+00 3.23e-01  2e-01  4e-01 0:09.4\n",
      "   23    207 -2.232116301641440e-04 6.3e+00 4.58e-01  2e-01  7e-01 0:15.0\n",
      "   32    288 -1.720696651513665e-02 1.0e+01 3.60e-01  1e-01  7e-01 0:21.6\n",
      "   41    369 -2.617899385114786e-02 1.4e+01 2.04e-01  4e-02  4e-01 0:28.8\n",
      "   52    468 -3.206986349517127e-02 1.9e+01 2.20e-01  3e-02  5e-01 0:37.1\n",
      "   64    576 -3.225274986085180e-02 2.4e+01 7.01e-02  7e-03  1e-01 0:46.2\n",
      "   76    684 -3.237524149093929e-02 2.7e+01 3.23e-02  2e-03  5e-02 0:56.8\n",
      "   90    810 -3.237835444406434e-02 2.9e+01 1.25e-02  6e-04  1e-02 1:07.8\n",
      "  100    900 -3.237870755371919e-02 3.2e+01 3.82e-03  1e-04  3e-03 1:15.5\n",
      "  117   1053 -3.237871818314320e-02 4.6e+01 8.10e-04  2e-05  7e-04 1:28.6\n",
      "  136   1224 -3.237871942428194e-02 8.6e+01 1.30e-04  1e-06  1e-04 1:42.7\n",
      "  157   1413 -3.237871943657789e-02 1.3e+02 1.50e-05  1e-07  1e-05 1:58.3\n",
      "  166   1494 -3.237871943658988e-02 1.9e+02 6.69e-06  4e-08  7e-06 2:05.2\n"
     ]
    },
    {
     "name": "stderr",
     "output_type": "stream",
     "text": [
      "reconstraining parameters GP_regression.Mat52.lengthscale\n",
      "reconstraining parameters GP_regression.Mat52.variance\n",
      "reconstraining parameters GP_regression.Gaussian_noise.variance\n"
     ]
    },
    {
     "name": "stdout",
     "output_type": "stream",
     "text": [
      "termination on tolfun=1e-11 (Tue Aug 25 01:04:27 2020)\n",
      "final/bestever f-value = -3.237872e-02 -3.237872e-02\n",
      "incumbent solution: [0.5572083892600773, 3.910999887205605, 1.6155371004821693, 1.7911922233386908, 4.323501349603647, 3.194206681778135]\n",
      "std deviation: [4.005264104843365e-08, 1.386296363557536e-07, 8.820838758634369e-08, 8.696535128378905e-07, 3.3559900594202727e-07, 7.155626456930972e-06]\n",
      "Optimization restart 1/10, f = 71.22100992760232\n",
      "Optimization restart 2/10, f = 420.77037669173734\n",
      "Optimization restart 3/10, f = 92.61532313067877\n",
      "Optimization restart 4/10, f = 93.64994319150776\n",
      "Optimization restart 5/10, f = 428.56484873666653\n",
      "Optimization restart 6/10, f = 399.69583005259346\n",
      "Optimization restart 7/10, f = 2049266921.5887163\n",
      "Optimization restart 8/10, f = 93.64994319150841\n",
      "Optimization restart 9/10, f = 136.76763177532064\n"
     ]
    },
    {
     "name": "stderr",
     "output_type": "stream",
     "text": [
      "reconstraining parameters GP_regression.Mat52.lengthscale\n",
      "reconstraining parameters GP_regression.Mat52.variance\n",
      "reconstraining parameters GP_regression.Gaussian_noise.variance\n"
     ]
    },
    {
     "name": "stdout",
     "output_type": "stream",
     "text": [
      "Optimization restart 10/10, f = 72.47344951215065\n",
      "Optimization restart 1/10, f = 24.009287315647\n",
      "Optimization restart 2/10, f = 83.78866477704827\n",
      "Optimization restart 3/10, f = 1734322415.8886077\n",
      "Optimization restart 4/10, f = 35.27381809322475\n",
      "Optimization restart 5/10, f = 92.0418333918939\n",
      "Optimization restart 6/10, f = 88.83356112190236\n",
      "Optimization restart 7/10, f = 28.808217794953052\n",
      "Optimization restart 8/10, f = 439.6410516264764\n",
      "Optimization restart 9/10, f = 423.10840531919354\n",
      "Optimization restart 10/10, f = 433.2479566435246\n",
      "(4_w,9)-aCMA-ES (mu_w=2.8,w_1=49%) in dimension 6 (seed=475797, Tue Aug 25 01:04:33 2020)\n",
      "Iterat #Fevals   function value  axis ratio  sigma  min&max std  t[m:s]\n",
      "    1      9 1.668469034451781e+00 1.0e+00 2.53e-01  2e-01  3e-01 0:00.5\n"
     ]
    },
    {
     "name": "stderr",
     "output_type": "stream",
     "text": [
      " /home/finley/miniconda3/envs/testsuite/lib/python3.8/site-packages/cma/utilities/utils.py:329: UserWarning:function_values is not a list of scalars,\n",
      "                        the first element equals [2.84749175] with non-scalar type <class 'numpy.ndarray'>.\n",
      "                        Using now ``[v[0] for v in function_values]`` instead (further warnings are suppressed) ()\n"
     ]
    },
    {
     "name": "stdout",
     "output_type": "stream",
     "text": [
      "    2     18 1.109535389281173e+00 1.4e+00 2.67e-01  2e-01  3e-01 0:01.1\n"
     ]
    },
    {
     "name": "stderr",
     "output_type": "stream",
     "text": [
      " /home/finley/miniconda3/envs/testsuite/lib/python3.8/site-packages/cma/utilities/utils.py:329: UserWarning:function_values is not a list of scalars,\n",
      "                        the first element equals [1.9493757] with non-scalar type <class 'numpy.ndarray'>.\n",
      "                        Using now ``[v[0] for v in function_values]`` instead (further warnings are suppressed) ()\n"
     ]
    },
    {
     "name": "stdout",
     "output_type": "stream",
     "text": [
      "    3     27 1.306032107608733e+00 1.6e+00 2.55e-01  2e-01  3e-01 0:01.6\n",
      "    9     81 -7.212920059834538e-03 2.2e+00 5.57e-01  4e-01  6e-01 0:05.2\n",
      "   15    135 -0.000000000000000e+00 2.8e+00 4.23e-01  3e-01  6e-01 0:09.6\n",
      "   22    198 -2.342770291360097e-03 4.2e+00 4.88e-01  3e-01  7e-01 0:14.6\n",
      "   30    270 -4.187604124790134e-03 5.4e+00 3.25e-01  1e-01  4e-01 0:20.9\n",
      "   39    351 -1.052892202871458e-02 9.3e+00 1.96e-01  4e-02  3e-01 0:28.2\n",
      "   50    450 -1.359794800236092e-02 1.4e+01 2.72e-01  3e-02  4e-01 0:36.7\n",
      "   62    558 -1.403864010214306e-02 1.8e+01 1.29e-01  1e-02  2e-01 0:46.4\n",
      "   75    675 -1.414072662841770e-02 2.4e+01 4.96e-02  3e-03  7e-02 0:57.0\n",
      "   89    801 -1.415085084389300e-02 4.1e+01 1.52e-02  6e-04  2e-02 1:08.3\n",
      "  100    900 -1.415093849489635e-02 6.6e+01 5.43e-03  2e-04  1e-02 1:17.2\n",
      "  116   1044 -1.415097011296806e-02 1.2e+02 1.68e-03  3e-05  4e-03 1:30.7\n",
      "  134   1206 -1.415097066276161e-02 2.2e+02 1.54e-04  2e-06  3e-04 1:45.1\n",
      "  153   1377 -1.415097066417736e-02 4.5e+02 3.22e-05  2e-07  9e-05 2:00.5\n",
      "  158   1422 -1.415097066420801e-02 6.1e+02 2.07e-05  1e-07  6e-05 2:04.6\n"
     ]
    },
    {
     "name": "stderr",
     "output_type": "stream",
     "text": [
      "reconstraining parameters GP_regression.Mat52.lengthscale\n",
      "reconstraining parameters GP_regression.Mat52.variance\n",
      "reconstraining parameters GP_regression.Gaussian_noise.variance\n"
     ]
    },
    {
     "name": "stdout",
     "output_type": "stream",
     "text": [
      "termination on tolfun=1e-11 (Tue Aug 25 01:06:38 2020)\n",
      "final/bestever f-value = -1.415097e-02 -1.415097e-02\n",
      "incumbent solution: [6.684627438466117e-15, 3.178746366731649, 4.699725632034525, 8.808796401026011e-13, 8.919592004865455, 1.9078403434548057]\n",
      "std deviation: [1.1023436773524478e-07, 2.791044712127947e-07, 2.3137640349360734e-07, 1.2234103565907092e-06, 1.4509064863197587e-06, 5.836283376245452e-05]\n",
      "Optimization restart 1/10, f = 75.80771443446358\n",
      "Optimization restart 2/10, f = 135.8063969974574\n",
      "Optimization restart 3/10, f = 422.69707926617576\n",
      "Optimization restart 4/10, f = 88.9860850184544\n",
      "Optimization restart 5/10, f = 422.30245497812956\n",
      "Optimization restart 6/10, f = 353.80772105114795\n",
      "Optimization restart 7/10, f = 436.65068945104497\n"
     ]
    },
    {
     "name": "stderr",
     "output_type": "stream",
     "text": [
      "reconstraining parameters GP_regression.Mat52.lengthscale\n",
      "reconstraining parameters GP_regression.Mat52.variance\n",
      "reconstraining parameters GP_regression.Gaussian_noise.variance\n"
     ]
    },
    {
     "name": "stdout",
     "output_type": "stream",
     "text": [
      "Optimization restart 8/10, f = 397.2427600160432\n",
      "Optimization restart 9/10, f = 422.13696940580905\n",
      "Optimization restart 10/10, f = 438.021752312105\n",
      "Optimization restart 1/10, f = 23.94042238699153\n",
      "Optimization restart 2/10, f = 95.0688817247131\n",
      "Optimization restart 3/10, f = 421.63472550658963\n",
      "Optimization restart 4/10, f = 447.2522198012189\n",
      "Optimization restart 5/10, f = 87.28499425345265\n",
      "Optimization restart 6/10, f = 447.2522198012189\n",
      "Optimization restart 7/10, f = 79.7663633611583\n",
      "Optimization restart 8/10, f = 153.30771675934318\n",
      "Optimization restart 9/10, f = 117.94870769083713\n",
      "Optimization restart 10/10, f = 94.88701901780092\n",
      "(4_w,9)-aCMA-ES (mu_w=2.8,w_1=49%) in dimension 6 (seed=432539, Tue Aug 25 01:06:42 2020)\n",
      "Iterat #Fevals   function value  axis ratio  sigma  min&max std  t[m:s]\n",
      "    1      9 1.797114368069708e+00 1.0e+00 2.55e-01  2e-01  3e-01 0:00.6\n"
     ]
    },
    {
     "name": "stderr",
     "output_type": "stream",
     "text": [
      " /home/finley/miniconda3/envs/testsuite/lib/python3.8/site-packages/cma/utilities/utils.py:329: UserWarning:function_values is not a list of scalars,\n",
      "                        the first element equals [1.85348692] with non-scalar type <class 'numpy.ndarray'>.\n",
      "                        Using now ``[v[0] for v in function_values]`` instead (further warnings are suppressed) ()\n"
     ]
    },
    {
     "name": "stdout",
     "output_type": "stream",
     "text": [
      "    2     18 1.288435855238957e+00 1.3e+00 3.08e-01  3e-01  3e-01 0:01.1\n"
     ]
    },
    {
     "name": "stderr",
     "output_type": "stream",
     "text": [
      " /home/finley/miniconda3/envs/testsuite/lib/python3.8/site-packages/cma/utilities/utils.py:329: UserWarning:function_values is not a list of scalars,\n",
      "                        the first element equals [1.65809988] with non-scalar type <class 'numpy.ndarray'>.\n",
      "                        Using now ``[v[0] for v in function_values]`` instead (further warnings are suppressed) ()\n"
     ]
    },
    {
     "name": "stdout",
     "output_type": "stream",
     "text": [
      "    3     27 -0.000000000000000e+00 1.6e+00 3.87e-01  4e-01  4e-01 0:01.7\n",
      "    9     81 -0.000000000000000e+00 2.0e+00 5.31e-01  4e-01  6e-01 0:05.1\n",
      "   16    144 -0.000000000000000e+00 2.2e+00 2.54e-01  1e-01  3e-01 0:09.9\n",
      "   23    207 -4.723564000967073e-03 2.5e+00 2.23e-01  1e-01  2e-01 0:15.1\n",
      "   31    279 -2.220730039404284e-02 3.9e+00 2.47e-01  8e-02  3e-01 0:21.2\n",
      "   40    360 -4.573941748214949e-02 6.9e+00 2.24e-01  5e-02  3e-01 0:28.9\n",
      "   50    450 -7.083607390322166e-02 1.1e+01 1.89e-01  3e-02  2e-01 0:37.1\n",
      "   62    558 -7.919563284783715e-02 1.1e+01 9.76e-02  1e-02  1e-01 0:46.9\n",
      "   75    675 -8.132154842846218e-02 1.6e+01 5.14e-02  3e-03  5e-02 0:57.6\n",
      "   89    801 -8.138493197885266e-02 2.1e+01 1.01e-02  4e-04  8e-03 1:09.0\n",
      "  100    900 -8.138625876565841e-02 2.6e+01 4.12e-03  1e-04  4e-03 1:18.4\n",
      "  116   1044 -8.138637266865256e-02 4.9e+01 1.16e-03  2e-05  1e-03 1:31.7\n",
      "  134   1206 -8.138637784635216e-02 1.1e+02 2.23e-04  2e-06  2e-04 1:46.4\n",
      "  153   1377 -8.138637795920278e-02 1.5e+02 4.81e-05  4e-07  5e-05 2:02.2\n",
      "  171   1539 -8.138637795982895e-02 3.2e+02 1.32e-05  6e-08  2e-05 2:18.6\n",
      "  174   1566 -8.138637795988046e-02 3.3e+02 9.53e-06  4e-08  1e-05 2:21.5\n"
     ]
    },
    {
     "name": "stderr",
     "output_type": "stream",
     "text": [
      "reconstraining parameters GP_regression.Mat52.lengthscale\n",
      "reconstraining parameters GP_regression.Mat52.variance\n"
     ]
    },
    {
     "name": "stdout",
     "output_type": "stream",
     "text": [
      "termination on tolfun=1e-11 (Tue Aug 25 01:09:04 2020)\n",
      "final/bestever f-value = -8.138638e-02 -8.138638e-02\n",
      "incumbent solution: [0.7134387721811768, 1.8228125792890886, 1.8356722345224479, 4.561725467489033, 4.6528225183464995, 2.8531194312676145]\n",
      "std deviation: [4.118882086183888e-08, 1.0753745185521174e-07, 1.1859814266666591e-07, 4.836478891718669e-07, 4.986274792688271e-07, 1.2314704914959205e-05]\n"
     ]
    },
    {
     "name": "stderr",
     "output_type": "stream",
     "text": [
      "reconstraining parameters GP_regression.Gaussian_noise.variance\n"
     ]
    },
    {
     "name": "stdout",
     "output_type": "stream",
     "text": [
      "Optimization restart 1/10, f = 72.21464326431877\n",
      "Optimization restart 2/10, f = 96.48782025791776\n",
      "Optimization restart 3/10, f = 414.72839159555497\n",
      "Optimization restart 4/10, f = 137.58644228295407\n",
      "Optimization restart 5/10, f = 453.9276260669088\n",
      "Optimization restart 6/10, f = 92.90259834311445\n",
      "Optimization restart 7/10, f = 428.1411548414507\n",
      "Optimization restart 8/10, f = 96.4878206271833\n",
      "Optimization restart 9/10, f = 93.40142286429698\n"
     ]
    },
    {
     "name": "stderr",
     "output_type": "stream",
     "text": [
      "reconstraining parameters GP_regression.Mat52.lengthscale\n",
      "reconstraining parameters GP_regression.Mat52.variance\n",
      "reconstraining parameters GP_regression.Gaussian_noise.variance\n"
     ]
    },
    {
     "name": "stdout",
     "output_type": "stream",
     "text": [
      "Optimization restart 10/10, f = 401.47860411370533\n",
      "Optimization restart 1/10, f = 21.95952868195306\n",
      "Optimization restart 2/10, f = 116.69816468866864\n",
      "Optimization restart 3/10, f = 408.47767606776387\n",
      "Optimization restart 4/10, f = 3396274.478940854\n",
      "Optimization restart 5/10, f = 55.362483427260315\n",
      "Optimization restart 6/10, f = 403.9137094538089\n",
      "Optimization restart 7/10, f = 21.959545081216284\n",
      "Optimization restart 8/10, f = 447.13554758411465\n",
      "Optimization restart 9/10, f = 432.09312749634165\n",
      "Optimization restart 10/10, f = 21.48264320029262\n",
      "(4_w,9)-aCMA-ES (mu_w=2.8,w_1=49%) in dimension 6 (seed=449476, Tue Aug 25 01:09:21 2020)\n",
      "Iterat #Fevals   function value  axis ratio  sigma  min&max std  t[m:s]\n",
      "    1      9 1.792062254639111e+00 1.0e+00 2.34e-01  2e-01  2e-01 0:00.6\n"
     ]
    },
    {
     "name": "stderr",
     "output_type": "stream",
     "text": [
      " /home/finley/miniconda3/envs/testsuite/lib/python3.8/site-packages/cma/utilities/utils.py:329: UserWarning:function_values is not a list of scalars,\n",
      "                        the first element equals [1.85950381] with non-scalar type <class 'numpy.ndarray'>.\n",
      "                        Using now ``[v[0] for v in function_values]`` instead (further warnings are suppressed) ()\n"
     ]
    },
    {
     "name": "stdout",
     "output_type": "stream",
     "text": [
      "    2     18 1.738293062915856e+00 1.2e+00 2.46e-01  2e-01  3e-01 0:01.4\n"
     ]
    },
    {
     "name": "stderr",
     "output_type": "stream",
     "text": [
      " /home/finley/miniconda3/envs/testsuite/lib/python3.8/site-packages/cma/utilities/utils.py:329: UserWarning:function_values is not a list of scalars,\n",
      "                        the first element equals [1.89693776] with non-scalar type <class 'numpy.ndarray'>.\n",
      "                        Using now ``[v[0] for v in function_values]`` instead (further warnings are suppressed) ()\n"
     ]
    },
    {
     "name": "stdout",
     "output_type": "stream",
     "text": [
      "    3     27 1.695637040287052e+00 1.4e+00 2.60e-01  2e-01  3e-01 0:02.4\n",
      "    8     72 4.846717620080927e-01 2.1e+00 5.36e-01  4e-01  7e-01 0:05.7\n",
      "   14    126 -0.000000000000000e+00 2.6e+00 6.61e-01  4e-01  8e-01 0:10.0\n",
      "   22    198 -0.000000000000000e+00 3.6e+00 6.18e-01  3e-01  8e-01 0:15.5\n",
      "   30    270 -0.000000000000000e+00 4.3e+00 3.60e-01  1e-01  5e-01 0:22.1\n"
     ]
    },
    {
     "name": "stderr",
     "output_type": "stream",
     "text": [
      " /home/finley/miniconda3/envs/testsuite/lib/python3.8/site-packages/cma/utilities/utils.py:329: UserWarning:flat fitness (f=-0.000000, sigma=2.55e-01).\n",
      "                    For small sigma, this could indicate numerical convergence.\n",
      "                    Otherwise, please (re)consider how to compute the fitness more elaborately. (iteration=35)\n"
     ]
    },
    {
     "name": "stdout",
     "output_type": "stream",
     "text": [
      "   36    324 -0.000000000000000e+00 4.4e+00 2.38e-01  8e-02  3e-01 0:29.3\n"
     ]
    },
    {
     "name": "stderr",
     "output_type": "stream",
     "text": [
      " /home/finley/miniconda3/envs/testsuite/lib/python3.8/site-packages/cma/utilities/utils.py:329: UserWarning:flat fitness (f=-0.000000, sigma=1.96e-01).\n",
      "                    For small sigma, this could indicate numerical convergence.\n",
      "                    Otherwise, please (re)consider how to compute the fitness more elaborately. (iteration=39)\n",
      " /home/finley/miniconda3/envs/testsuite/lib/python3.8/site-packages/cma/utilities/utils.py:329: UserWarning:flat fitness (f=-0.000000, sigma=1.88e-01).\n",
      "                    For small sigma, this could indicate numerical convergence.\n",
      "                    Otherwise, please (re)consider how to compute the fitness more elaborately. (iteration=40)\n",
      " /home/finley/miniconda3/envs/testsuite/lib/python3.8/site-packages/cma/utilities/utils.py:329: UserWarning:flat fitness (f=-0.000000, sigma=2.05e-01).\n",
      "                    For small sigma, this could indicate numerical convergence.\n",
      "                    Otherwise, please (re)consider how to compute the fitness more elaborately. (iteration=42)\n",
      " /home/finley/miniconda3/envs/testsuite/lib/python3.8/site-packages/cma/utilities/utils.py:329: UserWarning:flat fitness (f=-0.000000, sigma=1.84e-01).\n",
      "                    For small sigma, this could indicate numerical convergence.\n",
      "                    Otherwise, please (re)consider how to compute the fitness more elaborately. (iteration=43)\n"
     ]
    },
    {
     "name": "stdout",
     "output_type": "stream",
     "text": [
      "   44    396 -0.000000000000000e+00 4.1e+00 1.91e-01  6e-02  2e-01 0:37.8\n"
     ]
    },
    {
     "name": "stderr",
     "output_type": "stream",
     "text": [
      " /home/finley/miniconda3/envs/testsuite/lib/python3.8/site-packages/cma/utilities/utils.py:329: UserWarning:flat fitness (f=-0.000000, sigma=1.91e-01).\n",
      "                    For small sigma, this could indicate numerical convergence.\n",
      "                    Otherwise, please (re)consider how to compute the fitness more elaborately. (iteration=44)\n",
      " /home/finley/miniconda3/envs/testsuite/lib/python3.8/site-packages/cma/utilities/utils.py:329: UserWarning:flat fitness (f=-0.000000, sigma=2.06e-01).\n",
      "                    For small sigma, this could indicate numerical convergence.\n",
      "                    Otherwise, please (re)consider how to compute the fitness more elaborately. (iteration=45)\n",
      " /home/finley/miniconda3/envs/testsuite/lib/python3.8/site-packages/cma/utilities/utils.py:329: UserWarning:flat fitness (f=-0.000000, sigma=2.22e-01).\n",
      "                    For small sigma, this could indicate numerical convergence.\n",
      "                    Otherwise, please (re)consider how to compute the fitness more elaborately. (iteration=46)\n",
      " /home/finley/miniconda3/envs/testsuite/lib/python3.8/site-packages/cma/utilities/utils.py:329: UserWarning:flat fitness (f=-0.000000, sigma=2.06e-01).\n",
      "                    For small sigma, this could indicate numerical convergence.\n",
      "                    Otherwise, please (re)consider how to compute the fitness more elaborately. (iteration=47)\n"
     ]
    },
    {
     "name": "stdout",
     "output_type": "stream",
     "text": [
      "   48    432 -0.000000000000000e+00 5.3e+00 2.15e-01  7e-02  2e-01 0:42.3\n"
     ]
    },
    {
     "name": "stderr",
     "output_type": "stream",
     "text": [
      " /home/finley/miniconda3/envs/testsuite/lib/python3.8/site-packages/cma/utilities/utils.py:329: UserWarning:flat fitness (f=-0.000000, sigma=2.15e-01).\n",
      "                    For small sigma, this could indicate numerical convergence.\n",
      "                    Otherwise, please (re)consider how to compute the fitness more elaborately. (iteration=48)\n",
      "reconstraining parameters GP_regression.Mat52.lengthscale\n",
      "reconstraining parameters GP_regression.Mat52.variance\n"
     ]
    },
    {
     "name": "stdout",
     "output_type": "stream",
     "text": [
      "termination on tolfun=1e-11 (Tue Aug 25 01:10:04 2020)\n",
      "termination on tolfunhist=1e-12 (Tue Aug 25 01:10:04 2020)\n",
      "termination on flat fitness=please (re)consider how to compute the fitness more elaborately if sigma=2.15e-01 is large (Tue Aug 25 01:10:04 2020)\n",
      "final/bestever f-value = -0.000000e+00 -0.000000e+00\n",
      "incumbent solution: [0.1961871621300989, 3.9882458153435176, 5.99721971954806, 2.426738329920759, 0.7796664170909432, 8.003041104808851]\n",
      "std deviation: [0.06500329867909467, 0.10802280246460473, 0.24484185564796723, 0.22524084848116455, 0.24716835344914884, 0.14261533657088554]\n"
     ]
    },
    {
     "name": "stderr",
     "output_type": "stream",
     "text": [
      "reconstraining parameters GP_regression.Gaussian_noise.variance\n"
     ]
    },
    {
     "name": "stdout",
     "output_type": "stream",
     "text": [
      "Optimization restart 1/10, f = 73.41492650600767\n",
      "Optimization restart 2/10, f = 361.939147121121\n",
      "Optimization restart 3/10, f = 460.20921325215676\n",
      "Optimization restart 4/10, f = 183.13917685412264\n",
      "Optimization restart 5/10, f = 71.6103736450834\n",
      "Optimization restart 6/10, f = 2228129934.5656033\n",
      "Optimization restart 7/10, f = 443.7190894939655\n",
      "Optimization restart 8/10, f = 91.3001011286712\n",
      "Optimization restart 9/10, f = 435.4517987975417\n"
     ]
    },
    {
     "name": "stderr",
     "output_type": "stream",
     "text": [
      "reconstraining parameters GP_regression.Mat52.lengthscale\n",
      "reconstraining parameters GP_regression.Mat52.variance\n",
      "reconstraining parameters GP_regression.Gaussian_noise.variance\n"
     ]
    },
    {
     "name": "stdout",
     "output_type": "stream",
     "text": [
      "Optimization restart 10/10, f = 97.9067587911224\n",
      "Optimization restart 1/10, f = 21.629638040667835\n",
      "Optimization restart 2/10, f = 22.45427568539438\n",
      "Optimization restart 3/10, f = 439.6045771218935\n",
      "Optimization restart 4/10, f = 433.2834931011511\n",
      "Optimization restart 5/10, f = 21.629638051838832\n",
      "Optimization restart 6/10, f = 27.63685879923164\n",
      "Optimization restart 7/10, f = 21.62963801111099\n",
      "Optimization restart 8/10, f = 97.90675879112267\n",
      "Optimization restart 9/10, f = 460.60303233259856\n",
      "Optimization restart 10/10, f = 3170764.113928151\n",
      "(4_w,9)-aCMA-ES (mu_w=2.8,w_1=49%) in dimension 6 (seed=423474, Tue Aug 25 01:10:13 2020)\n",
      "Iterat #Fevals   function value  axis ratio  sigma  min&max std  t[m:s]\n",
      "    1      9 1.369482126013735e+00 1.0e+00 2.15e-01  2e-01  2e-01 0:00.6\n"
     ]
    },
    {
     "name": "stderr",
     "output_type": "stream",
     "text": [
      " /home/finley/miniconda3/envs/testsuite/lib/python3.8/site-packages/cma/utilities/utils.py:329: UserWarning:function_values is not a list of scalars,\n",
      "                        the first element equals [1.48412933] with non-scalar type <class 'numpy.ndarray'>.\n",
      "                        Using now ``[v[0] for v in function_values]`` instead (further warnings are suppressed) ()\n"
     ]
    },
    {
     "name": "stdout",
     "output_type": "stream",
     "text": [
      "    2     18 1.311673527363034e+00 1.2e+00 2.13e-01  2e-01  2e-01 0:01.3\n"
     ]
    },
    {
     "name": "stderr",
     "output_type": "stream",
     "text": [
      " /home/finley/miniconda3/envs/testsuite/lib/python3.8/site-packages/cma/utilities/utils.py:329: UserWarning:function_values is not a list of scalars,\n",
      "                        the first element equals [1.4596704] with non-scalar type <class 'numpy.ndarray'>.\n",
      "                        Using now ``[v[0] for v in function_values]`` instead (further warnings are suppressed) ()\n"
     ]
    },
    {
     "name": "stdout",
     "output_type": "stream",
     "text": [
      "    3     27 1.186221332198255e+00 1.4e+00 2.42e-01  2e-01  3e-01 0:02.6\n",
      "    7     63 9.604468664353241e-01 2.0e+00 3.29e-01  2e-01  4e-01 0:05.9\n",
      "   13    117 -0.000000000000000e+00 2.3e+00 3.90e-01  2e-01  4e-01 0:10.3\n",
      "   20    180 -0.000000000000000e+00 4.3e+00 4.19e-01  2e-01  6e-01 0:16.0\n",
      "   26    234 -3.795313401134148e-03 6.3e+00 4.39e-01  1e-01  6e-01 0:22.2\n",
      "   33    297 -2.380400502492019e-02 9.0e+00 4.79e-01  1e-01  7e-01 0:30.0\n",
      "   40    360 -3.377295082076115e-02 1.3e+01 2.93e-01  5e-02  5e-01 0:38.2\n",
      "   50    450 -4.186335040740241e-02 1.9e+01 1.44e-01  2e-02  2e-01 0:47.9\n",
      "   62    558 -4.204688967831638e-02 2.1e+01 7.30e-02  6e-03  1e-01 0:58.3\n",
      "   75    675 -4.224547650259058e-02 4.7e+01 5.34e-02  2e-03  1e-01 1:10.1\n",
      "   85    765 -4.230314887924047e-02 6.0e+01 2.98e-02  9e-04  5e-02 1:22.1\n",
      "   95    855 -4.231385214561145e-02 7.1e+01 1.09e-02  2e-04  1e-02 1:35.8\n",
      "  100    900 -4.231434342365326e-02 6.6e+01 6.62e-03  1e-04  8e-03 1:43.5\n",
      "  112   1008 -4.231446690410534e-02 1.1e+02 2.71e-03  4e-05  4e-03 1:58.8\n",
      "  131   1179 -4.231448184995656e-02 1.5e+02 4.75e-04  5e-06  7e-04 2:15.6\n",
      "  151   1359 -4.231448221956446e-02 2.6e+02 8.23e-05  6e-07  1e-04 2:32.9\n",
      "  171   1539 -4.231448222140921e-02 4.5e+02 1.34e-05  4e-08  2e-05 2:51.0\n",
      "  172   1548 -4.231448222142475e-02 4.5e+02 1.21e-05  4e-08  2e-05 2:51.9\n"
     ]
    },
    {
     "name": "stderr",
     "output_type": "stream",
     "text": [
      "reconstraining parameters GP_regression.Mat52.lengthscale\n",
      "reconstraining parameters GP_regression.Mat52.variance\n",
      "reconstraining parameters GP_regression.Gaussian_noise.variance\n"
     ]
    },
    {
     "name": "stdout",
     "output_type": "stream",
     "text": [
      "termination on tolfun=1e-11 (Tue Aug 25 01:13:06 2020)\n",
      "final/bestever f-value = -4.231448e-02 -4.231448e-02\n",
      "incumbent solution: [1.0600053338883424, 0.8116394498246914, 1.9099986432483872e-12, 1.9682453015010737, 1.7987285788010126, 9.091346212818591]\n",
      "std deviation: [3.9760823701210476e-08, 1.426872143534244e-07, 2.2328022513083037e-06, 2.420083380553643e-07, 6.966127239397792e-07, 1.5271782803248197e-05]\n",
      "Optimization restart 1/10, f = 81.6460613620643\n",
      "Optimization restart 2/10, f = 99.32563653414451\n",
      "Optimization restart 3/10, f = 81.39614275101863\n",
      "Optimization restart 4/10, f = 450.1690510549292\n",
      "Optimization restart 5/10, f = 129.2740850889187\n",
      "Optimization restart 6/10, f = 438.4122609087206\n",
      "Optimization restart 7/10, f = 386.08961285109393\n",
      "Optimization restart 8/10, f = 419.4924841161517\n",
      "Optimization restart 9/10, f = 96.27318962848513\n"
     ]
    },
    {
     "name": "stderr",
     "output_type": "stream",
     "text": [
      "reconstraining parameters GP_regression.Mat52.lengthscale\n",
      "reconstraining parameters GP_regression.Mat52.variance\n",
      "reconstraining parameters GP_regression.Gaussian_noise.variance\n"
     ]
    },
    {
     "name": "stdout",
     "output_type": "stream",
     "text": [
      "Optimization restart 10/10, f = 171.16675317302898\n",
      "Optimization restart 1/10, f = 24.668853937395482\n",
      "Optimization restart 2/10, f = 42.62616889281026\n",
      "Optimization restart 3/10, f = 74.80167350610279\n",
      "Optimization restart 4/10, f = 426.0992219848922\n",
      "Optimization restart 5/10, f = 41.07762281415026\n",
      "Optimization restart 6/10, f = 395.20750667077544\n",
      "Optimization restart 7/10, f = 72.41935735982533\n",
      "Optimization restart 8/10, f = 400.661691220286\n",
      "Optimization restart 9/10, f = 467.2784385982884\n",
      "Optimization restart 10/10, f = 27.739036521366593\n",
      "(4_w,9)-aCMA-ES (mu_w=2.8,w_1=49%) in dimension 6 (seed=398853, Tue Aug 25 01:13:13 2020)\n",
      "Iterat #Fevals   function value  axis ratio  sigma  min&max std  t[m:s]\n",
      "    1      9 1.106937718822758e+00 1.0e+00 2.26e-01  2e-01  2e-01 0:00.6\n"
     ]
    },
    {
     "name": "stderr",
     "output_type": "stream",
     "text": [
      " /home/finley/miniconda3/envs/testsuite/lib/python3.8/site-packages/cma/utilities/utils.py:329: UserWarning:function_values is not a list of scalars,\n",
      "                        the first element equals [1.10693772] with non-scalar type <class 'numpy.ndarray'>.\n",
      "                        Using now ``[v[0] for v in function_values]`` instead (further warnings are suppressed) ()\n"
     ]
    },
    {
     "name": "stdout",
     "output_type": "stream",
     "text": [
      "    2     18 1.214198650206956e+00 1.2e+00 2.31e-01  2e-01  2e-01 0:01.2\n"
     ]
    },
    {
     "name": "stderr",
     "output_type": "stream",
     "text": [
      " /home/finley/miniconda3/envs/testsuite/lib/python3.8/site-packages/cma/utilities/utils.py:329: UserWarning:function_values is not a list of scalars,\n",
      "                        the first element equals [1.41887432] with non-scalar type <class 'numpy.ndarray'>.\n",
      "                        Using now ``[v[0] for v in function_values]`` instead (further warnings are suppressed) ()\n"
     ]
    },
    {
     "name": "stdout",
     "output_type": "stream",
     "text": [
      "    3     27 8.842306514211875e-01 1.3e+00 2.21e-01  2e-01  2e-01 0:01.9\n",
      "    8     72 7.568111622894980e-01 1.8e+00 2.82e-01  2e-01  3e-01 0:05.1\n",
      "   15    135 5.402989245159804e-01 2.2e+00 3.09e-01  2e-01  4e-01 0:09.5\n",
      "   23    207 -0.000000000000000e+00 4.1e+00 2.42e-01  8e-02  3e-01 0:15.0\n",
      "   31    279 -0.000000000000000e+00 8.6e+00 3.06e-01  6e-02  4e-01 0:21.3\n",
      "   41    369 -0.000000000000000e+00 1.1e+01 1.95e-01  3e-02  3e-01 0:28.9\n",
      "   45    405 -0.000000000000000e+00 1.2e+01 1.53e-01  2e-02  2e-01 0:32.2\n"
     ]
    },
    {
     "name": "stderr",
     "output_type": "stream",
     "text": [
      " /home/finley/miniconda3/envs/testsuite/lib/python3.8/site-packages/cma/utilities/utils.py:329: UserWarning:flat fitness (f=-0.000000, sigma=1.53e-01).\n",
      "                    For small sigma, this could indicate numerical convergence.\n",
      "                    Otherwise, please (re)consider how to compute the fitness more elaborately. (iteration=45)\n",
      "reconstraining parameters GP_regression.Mat52.lengthscale\n",
      "reconstraining parameters GP_regression.Mat52.variance\n",
      "reconstraining parameters GP_regression.Gaussian_noise.variance\n"
     ]
    },
    {
     "name": "stdout",
     "output_type": "stream",
     "text": [
      "termination on tolfun=1e-11 (Tue Aug 25 01:13:45 2020)\n",
      "termination on tolfunhist=1e-12 (Tue Aug 25 01:13:45 2020)\n",
      "termination on flat fitness=please (re)consider how to compute the fitness more elaborately if sigma=1.53e-01 is large (Tue Aug 25 01:13:45 2020)\n",
      "final/bestever f-value = -0.000000e+00 -0.000000e+00\n",
      "incumbent solution: [1.7119885751514754, 1.239169014819058, 0.5298427702521443, 5.831758885387858, 8.967799153389972, 0.4702643082879111]\n",
      "std deviation: [0.02256315936053531, 0.08103048786987581, 0.2195576627290104, 0.15475999512814012, 0.14890686675030973, 0.10394827683144255]\n",
      "Optimization restart 1/10, f = 82.69130298512962\n",
      "Optimization restart 2/10, f = 76.11616303417304\n",
      "Optimization restart 3/10, f = 422.51395947331366\n",
      "Optimization restart 4/10, f = 94.1116144663037\n",
      "Optimization restart 5/10, f = 131.86936940187383\n",
      "Optimization restart 6/10, f = 76.11616303764853\n",
      "Optimization restart 7/10, f = 441.5197022525177\n",
      "Optimization restart 8/10, f = 400.68707710212743\n",
      "Optimization restart 9/10, f = 447.02099427517084\n"
     ]
    },
    {
     "name": "stderr",
     "output_type": "stream",
     "text": [
      "reconstraining parameters GP_regression.Mat52.lengthscale\n",
      "reconstraining parameters GP_regression.Mat52.variance\n",
      "reconstraining parameters GP_regression.Gaussian_noise.variance\n"
     ]
    },
    {
     "name": "stdout",
     "output_type": "stream",
     "text": [
      "Optimization restart 10/10, f = 76.11616303416149\n",
      "Optimization restart 1/10, f = 24.821851235816297\n",
      "Optimization restart 2/10, f = 1878340079.5335\n",
      "Optimization restart 3/10, f = 48.89715114136249\n",
      "Optimization restart 4/10, f = 476.8939907159661\n",
      "Optimization restart 5/10, f = 100.664473265939\n",
      "Optimization restart 6/10, f = 133.940680630089\n",
      "Optimization restart 7/10, f = 100.74463585753173\n",
      "Optimization restart 8/10, f = 48.8971513460269\n",
      "Optimization restart 9/10, f = 24.82185132999861\n",
      "Optimization restart 10/10, f = 133.85472576951113\n",
      "(4_w,9)-aCMA-ES (mu_w=2.8,w_1=49%) in dimension 6 (seed=437580, Tue Aug 25 01:13:52 2020)\n",
      "Iterat #Fevals   function value  axis ratio  sigma  min&max std  t[m:s]\n",
      "    1      9 4.725763293200673e-01 1.0e+00 2.85e-01  3e-01  3e-01 0:00.6\n"
     ]
    },
    {
     "name": "stderr",
     "output_type": "stream",
     "text": [
      " /home/finley/miniconda3/envs/testsuite/lib/python3.8/site-packages/cma/utilities/utils.py:329: UserWarning:function_values is not a list of scalars,\n",
      "                        the first element equals [1.74159425] with non-scalar type <class 'numpy.ndarray'>.\n",
      "                        Using now ``[v[0] for v in function_values]`` instead (further warnings are suppressed) ()\n"
     ]
    },
    {
     "name": "stdout",
     "output_type": "stream",
     "text": [
      "    2     18 7.347558242039780e-01 1.2e+00 3.25e-01  3e-01  3e-01 0:01.2\n"
     ]
    },
    {
     "name": "stderr",
     "output_type": "stream",
     "text": [
      " /home/finley/miniconda3/envs/testsuite/lib/python3.8/site-packages/cma/utilities/utils.py:329: UserWarning:function_values is not a list of scalars,\n",
      "                        the first element equals [1.07717663] with non-scalar type <class 'numpy.ndarray'>.\n",
      "                        Using now ``[v[0] for v in function_values]`` instead (further warnings are suppressed) ()\n"
     ]
    },
    {
     "name": "stdout",
     "output_type": "stream",
     "text": [
      "    3     27 8.202311418143935e-01 1.4e+00 3.13e-01  3e-01  3e-01 0:01.8\n",
      "    8     72 -0.000000000000000e+00 2.0e+00 3.88e-01  3e-01  4e-01 0:05.3\n",
      "   14    126 -0.000000000000000e+00 2.0e+00 2.07e-01  2e-01  2e-01 0:09.8\n"
     ]
    },
    {
     "name": "stderr",
     "output_type": "stream",
     "text": [
      " /home/finley/miniconda3/envs/testsuite/lib/python3.8/site-packages/cma/utilities/utils.py:329: UserWarning:flat fitness (f=-0.000000, sigma=1.91e-01).\n",
      "                    For small sigma, this could indicate numerical convergence.\n",
      "                    Otherwise, please (re)consider how to compute the fitness more elaborately. (iteration=17)\n"
     ]
    },
    {
     "name": "stdout",
     "output_type": "stream",
     "text": [
      "   20    180 -0.000000000000000e+00 2.7e+00 2.40e-01  2e-01  3e-01 0:14.9\n",
      "   28    252 -0.000000000000000e+00 3.2e+00 1.80e-01  1e-01  2e-01 0:21.2\n"
     ]
    },
    {
     "name": "stderr",
     "output_type": "stream",
     "text": [
      " /home/finley/miniconda3/envs/testsuite/lib/python3.8/site-packages/cma/utilities/utils.py:329: UserWarning:flat fitness (f=-0.000000, sigma=1.32e-01).\n",
      "                    For small sigma, this could indicate numerical convergence.\n",
      "                    Otherwise, please (re)consider how to compute the fitness more elaborately. (iteration=32)\n"
     ]
    },
    {
     "name": "stdout",
     "output_type": "stream",
     "text": [
      "   34    306 -0.000000000000000e+00 3.2e+00 1.18e-01  6e-02  1e-01 0:26.5\n"
     ]
    },
    {
     "name": "stderr",
     "output_type": "stream",
     "text": [
      "reconstraining parameters GP_regression.Mat52.lengthscale\n",
      "reconstraining parameters GP_regression.Mat52.variance\n",
      "reconstraining parameters GP_regression.Gaussian_noise.variance\n"
     ]
    },
    {
     "name": "stdout",
     "output_type": "stream",
     "text": [
      "termination on tolfunhist=1e-12 (Tue Aug 25 01:14:19 2020)\n",
      "termination on flat fitness=please (re)consider how to compute the fitness more elaborately if sigma=1.18e-01 is large (Tue Aug 25 01:14:19 2020)\n",
      "final/bestever f-value = -0.000000e+00 -0.000000e+00\n",
      "incumbent solution: [0.3325905925085987, 3.0755369476837666, 0.9179930117650408, 0.44958173123247264, 5.2236023473946265, 8.063987224420515]\n",
      "std deviation: [0.06687866093901353, 0.08167435182543578, 0.06354112868198578, 0.0996000794599904, 0.09604825881169562, 0.1150237347190539]\n",
      "Optimization restart 1/10, f = 77.43828825192128\n",
      "Optimization restart 2/10, f = 200.2473866009248\n",
      "Optimization restart 3/10, f = 97.40294894352387\n",
      "Optimization restart 4/10, f = 101.43181685271503\n",
      "Optimization restart 5/10, f = 100.95303070865538\n",
      "Optimization restart 6/10, f = 140.41369013282656\n",
      "Optimization restart 7/10, f = 193.84637406983865\n",
      "Optimization restart 8/10, f = 102.16357439073644\n",
      "Optimization restart 9/10, f = 97.3624321421211\n"
     ]
    },
    {
     "name": "stderr",
     "output_type": "stream",
     "text": [
      "reconstraining parameters GP_regression.Mat52.lengthscale\n",
      "reconstraining parameters GP_regression.Mat52.variance\n",
      "reconstraining parameters GP_regression.Gaussian_noise.variance\n"
     ]
    },
    {
     "name": "stdout",
     "output_type": "stream",
     "text": [
      "Optimization restart 10/10, f = 448.63737711075834\n",
      "Optimization restart 1/10, f = 26.059546703849065\n",
      "Optimization restart 2/10, f = 454.94960878319654\n",
      "Optimization restart 3/10, f = 30.55504300517734\n",
      "Optimization restart 4/10, f = 159.15288954342049\n",
      "Optimization restart 5/10, f = 25.65761375578294\n",
      "Optimization restart 6/10, f = 433.7123504722865\n",
      "Optimization restart 7/10, f = 30.55513299586785\n",
      "Optimization restart 8/10, f = 97.01936181875527\n",
      "Optimization restart 9/10, f = 29.31704076096183\n",
      "Optimization restart 10/10, f = 95.60602116169512\n",
      "(4_w,9)-aCMA-ES (mu_w=2.8,w_1=49%) in dimension 6 (seed=426940, Tue Aug 25 01:14:26 2020)\n",
      "Iterat #Fevals   function value  axis ratio  sigma  min&max std  t[m:s]\n",
      "    1      9 -0.000000000000000e+00 1.0e+00 2.57e-01  2e-01  3e-01 0:00.7\n"
     ]
    },
    {
     "name": "stderr",
     "output_type": "stream",
     "text": [
      " /home/finley/miniconda3/envs/testsuite/lib/python3.8/site-packages/cma/utilities/utils.py:329: UserWarning:function_values is not a list of scalars,\n",
      "                        the first element equals [1.44653097] with non-scalar type <class 'numpy.ndarray'>.\n",
      "                        Using now ``[v[0] for v in function_values]`` instead (further warnings are suppressed) ()\n"
     ]
    },
    {
     "name": "stdout",
     "output_type": "stream",
     "text": [
      "    2     18 -0.000000000000000e+00 1.4e+00 2.64e-01  2e-01  3e-01 0:01.4\n"
     ]
    },
    {
     "name": "stderr",
     "output_type": "stream",
     "text": [
      " /home/finley/miniconda3/envs/testsuite/lib/python3.8/site-packages/cma/utilities/utils.py:329: UserWarning:function_values is not a list of scalars,\n",
      "                        the first element equals [1.83029515] with non-scalar type <class 'numpy.ndarray'>.\n",
      "                        Using now ``[v[0] for v in function_values]`` instead (further warnings are suppressed) ()\n"
     ]
    },
    {
     "name": "stdout",
     "output_type": "stream",
     "text": [
      "    3     27 -0.000000000000000e+00 1.5e+00 2.46e-01  2e-01  3e-01 0:02.1\n",
      "    7     63 -0.000000000000000e+00 1.9e+00 1.75e-01  1e-01  2e-01 0:05.5\n",
      "    8     72 -0.000000000000000e+00 2.0e+00 1.73e-01  1e-01  2e-01 0:06.5\n"
     ]
    },
    {
     "name": "stderr",
     "output_type": "stream",
     "text": [
      " /home/finley/miniconda3/envs/testsuite/lib/python3.8/site-packages/cma/utilities/utils.py:329: UserWarning:flat fitness (f=-0.000000, sigma=1.73e-01).\n",
      "                    For small sigma, this could indicate numerical convergence.\n",
      "                    Otherwise, please (re)consider how to compute the fitness more elaborately. (iteration=8)\n",
      "reconstraining parameters GP_regression.Mat52.lengthscale\n",
      "reconstraining parameters GP_regression.Mat52.variance\n",
      "reconstraining parameters GP_regression.Gaussian_noise.variance\n"
     ]
    },
    {
     "name": "stdout",
     "output_type": "stream",
     "text": [
      "termination on tolfun=1e-11 (Tue Aug 25 01:14:32 2020)\n",
      "final/bestever f-value = -0.000000e+00 -0.000000e+00\n",
      "incumbent solution: [1.9998665814712364, 0.09072936291920829, 5.368159304944031, 2.416758037627938, 2.590080838027822, 4.085077728026172]\n",
      "std deviation: [0.10051565160527696, 0.15081994043959313, 0.16341246801166628, 0.17673202735550056, 0.16869770348812177, 0.16449708754598968]\n",
      "Optimization restart 1/10, f = 77.60182572865054\n",
      "Optimization restart 2/10, f = 467.1561541807515\n",
      "Optimization restart 3/10, f = 140.66668457592235\n",
      "Optimization restart 4/10, f = 487.304657395358\n",
      "Optimization restart 5/10, f = 2370175541.959595\n",
      "Optimization restart 6/10, f = 487.304657395358\n",
      "Optimization restart 7/10, f = 100.41911345940346\n",
      "Optimization restart 8/10, f = 95.27793537152641\n",
      "Optimization restart 9/10, f = 471.2209417969732\n"
     ]
    },
    {
     "name": "stderr",
     "output_type": "stream",
     "text": [
      "reconstraining parameters GP_regression.Mat52.lengthscale\n",
      "reconstraining parameters GP_regression.Mat52.variance\n",
      "reconstraining parameters GP_regression.Gaussian_noise.variance\n"
     ]
    },
    {
     "name": "stdout",
     "output_type": "stream",
     "text": [
      "Optimization restart 10/10, f = 461.81931038776725\n",
      "Optimization restart 1/10, f = 23.791124419303507\n",
      "Optimization restart 2/10, f = 87.47217827632124\n",
      "Optimization restart 3/10, f = 47.7677995776474\n",
      "Optimization restart 4/10, f = 487.304657395358\n",
      "Optimization restart 5/10, f = 453.4492490203643\n",
      "Optimization restart 6/10, f = 363.97771465699765\n",
      "Optimization restart 7/10, f = 461.7199404621658\n",
      "Optimization restart 8/10, f = 23.79112441926025\n",
      "Optimization restart 9/10, f = 28.637577954958125\n",
      "Optimization restart 10/10, f = 1890300755.837355\n",
      "(4_w,9)-aCMA-ES (mu_w=2.8,w_1=49%) in dimension 6 (seed=435294, Tue Aug 25 01:14:38 2020)\n",
      "Iterat #Fevals   function value  axis ratio  sigma  min&max std  t[m:s]\n",
      "    1      9 1.021835866644476e+00 1.0e+00 2.42e-01  2e-01  3e-01 0:00.7\n"
     ]
    },
    {
     "name": "stderr",
     "output_type": "stream",
     "text": [
      " /home/finley/miniconda3/envs/testsuite/lib/python3.8/site-packages/cma/utilities/utils.py:329: UserWarning:function_values is not a list of scalars,\n",
      "                        the first element equals [2.17634745] with non-scalar type <class 'numpy.ndarray'>.\n",
      "                        Using now ``[v[0] for v in function_values]`` instead (further warnings are suppressed) ()\n"
     ]
    },
    {
     "name": "stdout",
     "output_type": "stream",
     "text": [
      "    2     18 9.311156245325165e-01 1.2e+00 2.21e-01  2e-01  2e-01 0:01.3\n"
     ]
    },
    {
     "name": "stderr",
     "output_type": "stream",
     "text": [
      " /home/finley/miniconda3/envs/testsuite/lib/python3.8/site-packages/cma/utilities/utils.py:329: UserWarning:function_values is not a list of scalars,\n",
      "                        the first element equals [0.93111562] with non-scalar type <class 'numpy.ndarray'>.\n",
      "                        Using now ``[v[0] for v in function_values]`` instead (further warnings are suppressed) ()\n"
     ]
    },
    {
     "name": "stdout",
     "output_type": "stream",
     "text": [
      "    3     27 7.698948286594056e-01 1.3e+00 2.35e-01  2e-01  3e-01 0:02.0\n",
      "    8     72 -0.000000000000000e+00 2.3e+00 3.18e-01  2e-01  4e-01 0:05.5\n",
      "   14    126 -2.621126082701553e-02 2.8e+00 3.06e-01  1e-01  4e-01 0:10.2\n",
      "   20    180 -2.982054538719270e-02 3.3e+00 1.75e-01  7e-02  2e-01 0:16.0\n",
      "   27    243 -3.289516231696910e-02 3.9e+00 1.69e-01  5e-02  2e-01 0:22.6\n",
      "   35    315 -3.854655760198122e-02 7.3e+00 1.14e-01  2e-02  2e-01 0:30.4\n",
      "   44    396 -4.266703064552102e-02 1.0e+01 7.68e-02  1e-02  1e-01 0:39.1\n",
      "   54    486 -8.005546916696948e-02 2.1e+01 3.35e-01  4e-02  9e-01 0:48.9\n",
      "   65    585 -1.087112674185380e-01 3.3e+01 3.62e-01  3e-02  9e-01 0:59.7\n",
      "   77    693 -1.160478497784148e-01 4.0e+01 1.13e-01  8e-03  3e-01 1:11.1\n",
      "   89    801 -1.165313788261559e-01 4.5e+01 4.11e-02  2e-03  9e-02 1:23.2\n",
      "  100    900 -1.165399740110935e-01 4.9e+01 1.94e-02  7e-04  3e-02 1:34.2\n",
      "  115   1035 -1.165445949467081e-01 4.6e+01 5.51e-03  2e-04  7e-03 1:48.6\n",
      "  131   1179 -1.165446808577051e-01 4.8e+01 9.82e-04  2e-05  9e-04 2:04.6\n",
      "  148   1332 -1.165446903212870e-01 3.6e+01 2.64e-04  4e-06  1e-04 2:21.1\n",
      "  166   1494 -1.165446903940137e-01 3.8e+01 5.36e-05  5e-07  2e-05 2:38.4\n",
      "  185   1665 -1.165446903950245e-01 5.1e+01 1.16e-05  6e-08  3e-06 2:56.8\n",
      "  190   1710 -1.165446903950498e-01 5.9e+01 8.15e-06  4e-08  2e-06 3:01.6\n"
     ]
    },
    {
     "name": "stderr",
     "output_type": "stream",
     "text": [
      "reconstraining parameters GP_regression.Mat52.lengthscale\n",
      "reconstraining parameters GP_regression.Mat52.variance\n",
      "reconstraining parameters GP_regression.Gaussian_noise.variance\n"
     ]
    },
    {
     "name": "stdout",
     "output_type": "stream",
     "text": [
      "termination on tolfun=1e-11 (Tue Aug 25 01:17:40 2020)\n",
      "final/bestever f-value = -1.165447e-01 -1.165447e-01\n",
      "incumbent solution: [1.9999999999999958, 3.2609049514535075e-14, 3.577819104954953, 1.8711574464428655, 6.019102826667916, 9.044189143675721]\n",
      "std deviation: [4.038765012861397e-08, 1.0128490238613218e-07, 8.281543695136635e-08, 3.5681650584967655e-07, 4.1332033965053434e-07, 2.033211931980471e-06]\n",
      "Optimization restart 1/10, f = 80.02540625497666\n",
      "Optimization restart 2/10, f = 469.18362099032265\n",
      "Optimization restart 3/10, f = 462.51094472146474\n",
      "Optimization restart 4/10, f = 79.35318281145607\n",
      "Optimization restart 5/10, f = 441.8827610665438\n",
      "Optimization restart 6/10, f = 468.269401936656\n",
      "Optimization restart 7/10, f = 3695945.756494458\n",
      "Optimization restart 8/10, f = 767.0138000388272\n",
      "Optimization restart 9/10, f = 493.9800636610478\n"
     ]
    },
    {
     "name": "stderr",
     "output_type": "stream",
     "text": [
      "reconstraining parameters GP_regression.Mat52.lengthscale\n",
      "reconstraining parameters GP_regression.Mat52.variance\n",
      "reconstraining parameters GP_regression.Gaussian_noise.variance\n"
     ]
    },
    {
     "name": "stdout",
     "output_type": "stream",
     "text": [
      "Optimization restart 10/10, f = 427.0636508805029\n",
      "Optimization restart 1/10, f = 20.83556419512501\n",
      "Optimization restart 2/10, f = 241.16327838929027\n",
      "Optimization restart 3/10, f = 105.00145145714578\n",
      "Optimization restart 4/10, f = 23.769863689615597\n",
      "Optimization restart 5/10, f = 470.69000728551146\n",
      "Optimization restart 6/10, f = 21.483507894265088\n",
      "Optimization restart 7/10, f = 436.8936326779768\n",
      "Optimization restart 8/10, f = 20.829262955768996\n",
      "Optimization restart 9/10, f = 104.35244426326986\n",
      "Optimization restart 10/10, f = 105.00145145714578\n",
      "(4_w,9)-aCMA-ES (mu_w=2.8,w_1=49%) in dimension 6 (seed=420999, Tue Aug 25 01:17:44 2020)\n",
      "Iterat #Fevals   function value  axis ratio  sigma  min&max std  t[m:s]\n",
      "    1      9 1.338589129213731e+00 1.0e+00 2.59e-01  2e-01  3e-01 0:00.6\n"
     ]
    },
    {
     "name": "stderr",
     "output_type": "stream",
     "text": [
      " /home/finley/miniconda3/envs/testsuite/lib/python3.8/site-packages/cma/utilities/utils.py:329: UserWarning:function_values is not a list of scalars,\n",
      "                        the first element equals [1.75191041] with non-scalar type <class 'numpy.ndarray'>.\n",
      "                        Using now ``[v[0] for v in function_values]`` instead (further warnings are suppressed) ()\n"
     ]
    },
    {
     "name": "stdout",
     "output_type": "stream",
     "text": [
      "    2     18 1.409065360360873e+00 1.3e+00 2.89e-01  3e-01  3e-01 0:01.3\n"
     ]
    },
    {
     "name": "stderr",
     "output_type": "stream",
     "text": [
      " /home/finley/miniconda3/envs/testsuite/lib/python3.8/site-packages/cma/utilities/utils.py:329: UserWarning:function_values is not a list of scalars,\n",
      "                        the first element equals [1.61995108] with non-scalar type <class 'numpy.ndarray'>.\n",
      "                        Using now ``[v[0] for v in function_values]`` instead (further warnings are suppressed) ()\n"
     ]
    },
    {
     "name": "stdout",
     "output_type": "stream",
     "text": [
      "    3     27 1.248880896292084e+00 1.4e+00 2.92e-01  3e-01  3e-01 0:02.0\n",
      "    8     72 1.159711851732610e+00 2.3e+00 2.51e-01  2e-01  3e-01 0:05.4\n",
      "   15    135 6.400335059363291e-01 3.1e+00 4.29e-01  3e-01  5e-01 0:09.9\n",
      "   23    207 -0.000000000000000e+00 3.8e+00 5.25e-01  3e-01  7e-01 0:15.3\n",
      "   31    279 3.081265272702414e-01 5.2e+00 1.30e+00  5e-01  2e+00 0:21.6\n",
      "   39    351 -8.546199347033490e-03 5.7e+00 8.93e-01  3e-01  1e+00 0:28.7\n",
      "   48    432 -2.672450746925703e-02 8.8e+00 4.30e-01  8e-02  6e-01 0:37.3\n",
      "   58    522 -3.055068169714303e-02 9.3e+00 2.77e-01  4e-02  3e-01 0:46.8\n",
      "   69    621 -4.183896519605801e-02 1.4e+01 3.98e-01  3e-02  5e-01 0:57.8\n",
      "   80    720 -4.290221366775082e-02 2.1e+01 1.21e-01  8e-03  1e-01 1:09.1\n",
      "   92    828 -4.297281481535764e-02 3.1e+01 4.14e-02  2e-03  4e-02 1:22.8\n",
      "  100    900 -4.300967229851427e-02 3.7e+01 3.95e-02  1e-03  4e-02 1:35.0\n",
      "  113   1017 -4.301736007432932e-02 2.9e+01 1.22e-02  3e-04  8e-03 1:50.5\n",
      "  125   1125 -4.301811110591292e-02 3.0e+01 2.97e-03  6e-05  1e-03 2:05.5\n",
      "  137   1233 -4.301811956039714e-02 3.3e+01 9.29e-04  1e-05  3e-04 2:22.0\n",
      "  150   1350 -4.301811982195725e-02 3.0e+01 3.09e-04  4e-06  9e-05 2:39.2\n",
      "  163   1467 -4.301811984051174e-02 2.8e+01 7.50e-05  6e-07  1e-05 2:57.3\n",
      "  178   1602 -4.301811984340054e-02 2.7e+01 3.36e-05  2e-07  5e-06 3:17.3\n",
      "  183   1647 -4.301811984363235e-02 3.0e+01 1.67e-05  8e-08  2e-06 3:22.2\n"
     ]
    },
    {
     "name": "stderr",
     "output_type": "stream",
     "text": [
      "reconstraining parameters GP_regression.Mat52.lengthscale\n",
      "reconstraining parameters GP_regression.Mat52.variance\n",
      "reconstraining parameters GP_regression.Gaussian_noise.variance\n"
     ]
    },
    {
     "name": "stdout",
     "output_type": "stream",
     "text": [
      "termination on tolfun=1e-11 (Tue Aug 25 01:21:07 2020)\n",
      "final/bestever f-value = -4.301812e-02 -4.301812e-02\n",
      "incumbent solution: [0.3799408833367306, 3.9249798774299003, 2.6355460766456615, 1.7228551499075928, 3.943313375822892, 3.4541051880384925]\n",
      "std deviation: [7.709266114552141e-08, 3.3724562114280555e-07, 1.4904237565829668e-06, 3.623624655139507e-07, 6.086811436879049e-07, 2.109309771457358e-06]\n",
      "Optimization restart 1/10, f = 79.9522529353955\n",
      "Optimization restart 2/10, f = 90.39218374622672\n",
      "Optimization restart 3/10, f = 484.05030913657885\n",
      "Optimization restart 4/10, f = 121.21094126885976\n",
      "Optimization restart 5/10, f = 102.65099650260578\n",
      "Optimization restart 6/10, f = 79.51150955198591\n",
      "Optimization restart 7/10, f = 149.8049069480976\n",
      "Optimization restart 8/10, f = 474.05300928041834\n"
     ]
    },
    {
     "name": "stderr",
     "output_type": "stream",
     "text": [
      "reconstraining parameters GP_regression.Mat52.lengthscale\n",
      "reconstraining parameters GP_regression.Mat52.variance\n",
      "reconstraining parameters GP_regression.Gaussian_noise.variance\n"
     ]
    },
    {
     "name": "stdout",
     "output_type": "stream",
     "text": [
      "Optimization restart 9/10, f = 102.59319856251156\n",
      "Optimization restart 10/10, f = 471.6159978121327\n",
      "Optimization restart 1/10, f = 18.86578712716276\n",
      "Optimization restart 2/10, f = 449.89181201247504\n",
      "Optimization restart 3/10, f = 396.13018588480287\n",
      "Optimization restart 4/10, f = 87.0034332007096\n",
      "Optimization restart 5/10, f = 491.7445279454714\n",
      "Optimization restart 6/10, f = 49.18171187526225\n",
      "Optimization restart 7/10, f = 396.49159791898074\n",
      "Optimization restart 8/10, f = 491.57163805306186\n",
      "Optimization restart 9/10, f = 22.482854284955216\n",
      "Optimization restart 10/10, f = 101.53738937435914\n",
      "(4_w,9)-aCMA-ES (mu_w=2.8,w_1=49%) in dimension 6 (seed=423980, Tue Aug 25 01:21:13 2020)\n",
      "Iterat #Fevals   function value  axis ratio  sigma  min&max std  t[m:s]\n",
      "    1      9 2.546118561873521e+00 1.0e+00 2.79e-01  3e-01  3e-01 0:00.7\n"
     ]
    },
    {
     "name": "stderr",
     "output_type": "stream",
     "text": [
      " /home/finley/miniconda3/envs/testsuite/lib/python3.8/site-packages/cma/utilities/utils.py:329: UserWarning:function_values is not a list of scalars,\n",
      "                        the first element equals [2.54611856] with non-scalar type <class 'numpy.ndarray'>.\n",
      "                        Using now ``[v[0] for v in function_values]`` instead (further warnings are suppressed) ()\n"
     ]
    },
    {
     "name": "stdout",
     "output_type": "stream",
     "text": [
      "    2     18 2.525620108760021e+00 1.2e+00 2.70e-01  3e-01  3e-01 0:01.4\n"
     ]
    },
    {
     "name": "stderr",
     "output_type": "stream",
     "text": [
      " /home/finley/miniconda3/envs/testsuite/lib/python3.8/site-packages/cma/utilities/utils.py:329: UserWarning:function_values is not a list of scalars,\n",
      "                        the first element equals [3.00437808] with non-scalar type <class 'numpy.ndarray'>.\n",
      "                        Using now ``[v[0] for v in function_values]`` instead (further warnings are suppressed) ()\n"
     ]
    },
    {
     "name": "stdout",
     "output_type": "stream",
     "text": [
      "    3     27 2.481881777245076e+00 1.3e+00 2.54e-01  2e-01  3e-01 0:02.3\n",
      "    8     72 4.493110524418218e-01 1.9e+00 7.02e-01  5e-01  8e-01 0:05.8\n",
      "   14    126 -1.538958734983442e-03 2.4e+00 5.96e-01  3e-01  7e-01 0:11.1\n",
      "   20    180 -2.233787527829545e-03 2.5e+00 3.28e-01  2e-01  3e-01 0:17.6\n",
      "   24    216 -6.562664548714903e-03 2.6e+00 3.01e-01  1e-01  3e-01 0:23.9\n",
      "   29    261 -1.165835637052837e-02 2.5e+00 2.21e-01  1e-01  2e-01 0:31.3\n",
      "   34    306 -1.459746069912660e-02 3.1e+00 1.69e-01  5e-02  1e-01 0:40.7\n",
      "   40    360 -1.683914705222467e-02 4.4e+00 1.57e-01  4e-02  1e-01 0:50.5\n",
      "   47    423 -1.736724441385107e-02 4.6e+00 1.04e-01  2e-02  8e-02 1:00.9\n",
      "   58    522 -2.006696536014552e-02 6.3e+00 1.31e-01  2e-02  1e-01 1:12.0\n",
      "   70    630 -2.149970750997632e-02 2.0e+01 3.74e-01  4e-02  7e-01 1:24.3\n",
      "   83    747 -2.424221897318146e-02 2.1e+01 1.07e-01  7e-03  1e-01 1:37.6\n",
      "   96    864 -2.424837379914635e-02 3.0e+01 3.61e-02  2e-03  4e-02 1:51.8\n",
      "  100    900 -2.424570181680830e-02 3.6e+01 2.87e-02  1e-03  4e-02 1:56.3\n",
      "  116   1044 -2.425073768470121e-02 4.0e+01 6.18e-03  2e-04  6e-03 2:12.5\n",
      "  133   1197 -2.425081856098465e-02 4.5e+01 2.34e-03  5e-05  2e-03 2:29.7\n",
      "  152   1368 -2.425082412650648e-02 4.3e+01 4.28e-04  5e-06  2e-04 2:48.7\n",
      "  171   1539 -2.425082430953029e-02 5.2e+01 1.09e-04  1e-06  4e-05 3:08.1\n",
      "  191   1719 -2.425082431349201e-02 5.8e+01 2.19e-05  1e-07  6e-06 3:28.3\n",
      "  192   1728 -2.425082431348224e-02 5.6e+01 1.95e-05  1e-07  5e-06 3:29.4\n"
     ]
    },
    {
     "name": "stderr",
     "output_type": "stream",
     "text": [
      "reconstraining parameters GP_regression.Mat52.lengthscale\n",
      "reconstraining parameters GP_regression.Mat52.variance\n"
     ]
    },
    {
     "name": "stdout",
     "output_type": "stream",
     "text": [
      "termination on tolfun=1e-11 (Tue Aug 25 01:24:43 2020)\n",
      "final/bestever f-value = -2.425082e-02 -2.425082e-02\n",
      "incumbent solution: [1.9694618580151317, 1.2066041249900323e-13, 3.93948101536342, 1.591002619663431, 6.383968138146021, 1.9355799620531635]\n",
      "std deviation: [1.1049415441372254e-07, 1.1826358560875032e-07, 1.0390026995226207e-06, 3.0406086974768817e-07, 7.198287630164517e-07, 5.005952956461839e-06]\n"
     ]
    },
    {
     "name": "stderr",
     "output_type": "stream",
     "text": [
      "reconstraining parameters GP_regression.Gaussian_noise.variance\n"
     ]
    },
    {
     "name": "stdout",
     "output_type": "stream",
     "text": [
      "Optimization restart 1/10, f = 79.46641646427909\n",
      "Optimization restart 2/10, f = 100.3630052313977\n",
      "Optimization restart 3/10, f = 461.46495865120494\n",
      "Optimization restart 4/10, f = 99.76295844726907\n",
      "Optimization restart 5/10, f = 480.76094585444724\n",
      "Optimization restart 6/10, f = 278.0325212486974\n",
      "Optimization restart 7/10, f = 311.2358072390833\n",
      "Optimization restart 8/10, f = 107.97527778917606\n",
      "Optimization restart 9/10, f = 479.2853618883684\n"
     ]
    },
    {
     "name": "stderr",
     "output_type": "stream",
     "text": [
      "reconstraining parameters GP_regression.Mat52.lengthscale\n",
      "reconstraining parameters GP_regression.Mat52.variance\n",
      "reconstraining parameters GP_regression.Gaussian_noise.variance\n"
     ]
    },
    {
     "name": "stdout",
     "output_type": "stream",
     "text": [
      "Optimization restart 10/10, f = 461.9090260560283\n",
      "Optimization restart 1/10, f = 15.773331505497225\n",
      "Optimization restart 2/10, f = 15.773331505636968\n",
      "Optimization restart 3/10, f = 507.33087619236863\n",
      "Optimization restart 4/10, f = 21.854148637016024\n",
      "Optimization restart 5/10, f = 476.317603410264\n",
      "Optimization restart 6/10, f = 110.03838716710018\n",
      "Optimization restart 7/10, f = 367.6747123761636\n",
      "Optimization restart 8/10, f = 384.8133818006128\n",
      "Optimization restart 9/10, f = 358.63497221424956\n",
      "Optimization restart 10/10, f = 105.2371080425488\n",
      "(4_w,9)-aCMA-ES (mu_w=2.8,w_1=49%) in dimension 6 (seed=479557, Tue Aug 25 01:24:49 2020)\n",
      "Iterat #Fevals   function value  axis ratio  sigma  min&max std  t[m:s]\n",
      "    1      9 2.693823809526175e+00 1.0e+00 2.51e-01  2e-01  3e-01 0:00.7\n"
     ]
    },
    {
     "name": "stderr",
     "output_type": "stream",
     "text": [
      " /home/finley/miniconda3/envs/testsuite/lib/python3.8/site-packages/cma/utilities/utils.py:329: UserWarning:function_values is not a list of scalars,\n",
      "                        the first element equals [3.05210455] with non-scalar type <class 'numpy.ndarray'>.\n",
      "                        Using now ``[v[0] for v in function_values]`` instead (further warnings are suppressed) ()\n"
     ]
    },
    {
     "name": "stdout",
     "output_type": "stream",
     "text": [
      "    2     18 2.498745921719249e+00 1.3e+00 2.79e-01  3e-01  3e-01 0:01.4\n"
     ]
    },
    {
     "name": "stderr",
     "output_type": "stream",
     "text": [
      " /home/finley/miniconda3/envs/testsuite/lib/python3.8/site-packages/cma/utilities/utils.py:329: UserWarning:function_values is not a list of scalars,\n",
      "                        the first element equals [2.68561075] with non-scalar type <class 'numpy.ndarray'>.\n",
      "                        Using now ``[v[0] for v in function_values]`` instead (further warnings are suppressed) ()\n"
     ]
    },
    {
     "name": "stdout",
     "output_type": "stream",
     "text": [
      "    3     27 1.619820916256850e+00 1.6e+00 3.15e-01  3e-01  4e-01 0:02.2\n",
      "    8     72 7.997623590995315e-01 2.5e+00 3.97e-01  4e-01  5e-01 0:05.7\n",
      "   14    126 6.965143529699394e-01 2.7e+00 3.56e-01  3e-01  5e-01 0:10.1\n",
      "   21    189 -0.000000000000000e+00 3.0e+00 5.41e-01  3e-01  6e-01 0:15.2\n"
     ]
    },
    {
     "name": "stderr",
     "output_type": "stream",
     "text": [
      " /home/finley/miniconda3/envs/testsuite/lib/python3.8/site-packages/cma/utilities/utils.py:329: UserWarning:flat fitness (f=-0.000000, sigma=5.87e-01).\n",
      "                    For small sigma, this could indicate numerical convergence.\n",
      "                    Otherwise, please (re)consider how to compute the fitness more elaborately. (iteration=27)\n"
     ]
    },
    {
     "name": "stdout",
     "output_type": "stream",
     "text": [
      "   28    252 -0.000000000000000e+00 5.1e+00 6.18e-01  2e-01  8e-01 0:21.8\n"
     ]
    },
    {
     "name": "stderr",
     "output_type": "stream",
     "text": [
      " /home/finley/miniconda3/envs/testsuite/lib/python3.8/site-packages/cma/utilities/utils.py:329: UserWarning:flat fitness (f=-0.000000, sigma=7.98e-01).\n",
      "                    For small sigma, this could indicate numerical convergence.\n",
      "                    Otherwise, please (re)consider how to compute the fitness more elaborately. (iteration=34)\n"
     ]
    },
    {
     "name": "stdout",
     "output_type": "stream",
     "text": [
      "   36    324 -0.000000000000000e+00 4.1e+00 6.02e-01  3e-01  8e-01 0:29.7\n"
     ]
    },
    {
     "name": "stderr",
     "output_type": "stream",
     "text": [
      " /home/finley/miniconda3/envs/testsuite/lib/python3.8/site-packages/cma/utilities/utils.py:329: UserWarning:flat fitness (f=-0.000000, sigma=6.02e-01).\n",
      "                    For small sigma, this could indicate numerical convergence.\n",
      "                    Otherwise, please (re)consider how to compute the fitness more elaborately. (iteration=36)\n",
      " /home/finley/miniconda3/envs/testsuite/lib/python3.8/site-packages/cma/utilities/utils.py:329: UserWarning:flat fitness (f=-0.000000, sigma=5.98e-01).\n",
      "                    For small sigma, this could indicate numerical convergence.\n",
      "                    Otherwise, please (re)consider how to compute the fitness more elaborately. (iteration=37)\n",
      " /home/finley/miniconda3/envs/testsuite/lib/python3.8/site-packages/cma/utilities/utils.py:329: UserWarning:flat fitness (f=-0.000000, sigma=6.02e-01).\n",
      "                    For small sigma, this could indicate numerical convergence.\n",
      "                    Otherwise, please (re)consider how to compute the fitness more elaborately. (iteration=38)\n",
      " /home/finley/miniconda3/envs/testsuite/lib/python3.8/site-packages/cma/utilities/utils.py:329: UserWarning:flat fitness (f=-0.000000, sigma=5.82e-01).\n",
      "                    For small sigma, this could indicate numerical convergence.\n",
      "                    Otherwise, please (re)consider how to compute the fitness more elaborately. (iteration=40)\n",
      " /home/finley/miniconda3/envs/testsuite/lib/python3.8/site-packages/cma/utilities/utils.py:329: UserWarning:flat fitness (f=-0.000000, sigma=4.36e-01).\n",
      "                    For small sigma, this could indicate numerical convergence.\n",
      "                    Otherwise, please (re)consider how to compute the fitness more elaborately. (iteration=43)\n"
     ]
    },
    {
     "name": "stdout",
     "output_type": "stream",
     "text": [
      "   44    396 -0.000000000000000e+00 5.0e+00 4.18e-01  2e-01  6e-01 0:37.9\n"
     ]
    },
    {
     "name": "stderr",
     "output_type": "stream",
     "text": [
      " /home/finley/miniconda3/envs/testsuite/lib/python3.8/site-packages/cma/utilities/utils.py:329: UserWarning:flat fitness (f=-0.000000, sigma=4.18e-01).\n",
      "                    For small sigma, this could indicate numerical convergence.\n",
      "                    Otherwise, please (re)consider how to compute the fitness more elaborately. (iteration=44)\n",
      " /home/finley/miniconda3/envs/testsuite/lib/python3.8/site-packages/cma/utilities/utils.py:329: UserWarning:flat fitness (f=-0.000000, sigma=4.44e-01).\n",
      "                    For small sigma, this could indicate numerical convergence.\n",
      "                    Otherwise, please (re)consider how to compute the fitness more elaborately. (iteration=46)\n",
      " /home/finley/miniconda3/envs/testsuite/lib/python3.8/site-packages/cma/utilities/utils.py:329: UserWarning:flat fitness (f=-0.000000, sigma=4.43e-01).\n",
      "                    For small sigma, this could indicate numerical convergence.\n",
      "                    Otherwise, please (re)consider how to compute the fitness more elaborately. (iteration=49)\n"
     ]
    },
    {
     "name": "stdout",
     "output_type": "stream",
     "text": [
      "   50    450 -0.000000000000000e+00 5.8e+00 4.42e-01  2e-01  6e-01 0:45.4\n"
     ]
    },
    {
     "name": "stderr",
     "output_type": "stream",
     "text": [
      "reconstraining parameters GP_regression.Mat52.lengthscale\n",
      "reconstraining parameters GP_regression.Mat52.variance\n",
      "reconstraining parameters GP_regression.Gaussian_noise.variance\n"
     ]
    },
    {
     "name": "stdout",
     "output_type": "stream",
     "text": [
      "termination on tolfunhist=1e-12 (Tue Aug 25 01:25:35 2020)\n",
      "termination on flat fitness=please (re)consider how to compute the fitness more elaborately if sigma=4.42e-01 is large (Tue Aug 25 01:25:35 2020)\n",
      "final/bestever f-value = -0.000000e+00 -0.000000e+00\n",
      "incumbent solution: [0.052483584608713774, 3.785351619314604, 0.008005313524089858, 0.305483141605194, 0.46582260921773966, 4.382454700750969]\n",
      "std deviation: [0.19181928799721687, 0.1601948248114773, 0.37840783385951, 0.298823873545092, 0.6144412517913167, 0.33378725197119635]\n",
      "Optimization restart 1/10, f = 80.54519661413683\n",
      "Optimization restart 2/10, f = 487.3510096196067\n",
      "Optimization restart 3/10, f = 479.774139944682\n",
      "Optimization restart 4/10, f = 514.0062824581173\n",
      "Optimization restart 5/10, f = 200.1896191525081\n",
      "Optimization restart 6/10, f = 183.09035151313844\n",
      "Optimization restart 7/10, f = 183.09215345552292\n",
      "Optimization restart 8/10, f = 153.1103155725725\n",
      "Optimization restart 9/10, f = 514.0062824581173\n"
     ]
    },
    {
     "name": "stderr",
     "output_type": "stream",
     "text": [
      "reconstraining parameters GP_regression.Mat52.lengthscale\n",
      "reconstraining parameters GP_regression.Mat52.variance\n",
      "reconstraining parameters GP_regression.Gaussian_noise.variance\n"
     ]
    },
    {
     "name": "stdout",
     "output_type": "stream",
     "text": [
      "Optimization restart 10/10, f = 464.18490506526194\n",
      "Optimization restart 1/10, f = 14.762748495559428\n",
      "Optimization restart 2/10, f = 109.25826705701088\n",
      "Optimization restart 3/10, f = 15.98254056284894\n",
      "Optimization restart 4/10, f = 481.8754965580162\n",
      "Optimization restart 5/10, f = 25.351184199416252\n",
      "Optimization restart 6/10, f = 109.25822446926098\n",
      "Optimization restart 7/10, f = 484.4662543547638\n",
      "Optimization restart 8/10, f = 25.351184697366996\n",
      "Optimization restart 9/10, f = 109.25826705675985\n",
      "Optimization restart 10/10, f = 3845781.3952712603\n",
      "(4_w,9)-aCMA-ES (mu_w=2.8,w_1=49%) in dimension 6 (seed=417356, Tue Aug 25 01:25:40 2020)\n",
      "Iterat #Fevals   function value  axis ratio  sigma  min&max std  t[m:s]\n",
      "    1      9 1.820647663695928e+00 1.0e+00 2.46e-01  2e-01  3e-01 0:00.7\n"
     ]
    },
    {
     "name": "stderr",
     "output_type": "stream",
     "text": [
      " /home/finley/miniconda3/envs/testsuite/lib/python3.8/site-packages/cma/utilities/utils.py:329: UserWarning:function_values is not a list of scalars,\n",
      "                        the first element equals [1.82064766] with non-scalar type <class 'numpy.ndarray'>.\n",
      "                        Using now ``[v[0] for v in function_values]`` instead (further warnings are suppressed) ()\n"
     ]
    },
    {
     "name": "stdout",
     "output_type": "stream",
     "text": [
      "    2     18 1.649052178186885e+00 1.3e+00 2.80e-01  3e-01  3e-01 0:01.5\n"
     ]
    },
    {
     "name": "stderr",
     "output_type": "stream",
     "text": [
      " /home/finley/miniconda3/envs/testsuite/lib/python3.8/site-packages/cma/utilities/utils.py:329: UserWarning:function_values is not a list of scalars,\n",
      "                        the first element equals [1.84424369] with non-scalar type <class 'numpy.ndarray'>.\n",
      "                        Using now ``[v[0] for v in function_values]`` instead (further warnings are suppressed) ()\n"
     ]
    },
    {
     "name": "stdout",
     "output_type": "stream",
     "text": [
      "    3     27 1.612289454896537e+00 1.6e+00 3.12e-01  3e-01  4e-01 0:02.2\n",
      "    8     72 7.767258225905616e-01 1.8e+00 4.77e-01  4e-01  7e-01 0:05.9\n",
      "   14    126 2.756381568550101e-01 2.7e+00 4.72e-01  2e-01  6e-01 0:10.6\n",
      "   20    180 -1.744486772499165e-04 4.1e+00 5.13e-01  2e-01  7e-01 0:15.8\n",
      "   26    234 -1.694437371957758e-02 4.9e+00 4.44e-01  1e-01  6e-01 0:22.1\n",
      "   33    297 -2.939181193560625e-02 5.7e+00 2.22e-01  6e-02  3e-01 0:30.2\n",
      "   41    369 -3.279615101884170e-02 6.1e+00 1.02e-01  2e-02  1e-01 0:38.8\n",
      "   50    450 -3.312648996923739e-02 7.7e+00 3.85e-02  7e-03  4e-02 0:48.1\n",
      "   60    540 -3.340696781512253e-02 1.4e+01 4.14e-02  4e-03  5e-02 0:58.7\n",
      "   71    639 -3.347608414327352e-02 1.9e+01 5.22e-02  4e-03  7e-02 1:10.3\n",
      "   83    747 -3.349388554636512e-02 3.0e+01 2.27e-02  1e-03  3e-02 1:23.1\n",
      "   96    864 -3.350064479574311e-02 4.9e+01 1.56e-02  6e-04  3e-02 1:36.9\n",
      "  100    900 -3.350169878903797e-02 7.4e+01 1.92e-02  7e-04  5e-02 1:41.1\n",
      "  115   1035 -3.350625308622801e-02 2.0e+02 1.71e-02  4e-04  7e-02 1:56.9\n",
      "  131   1179 -3.350674031815215e-02 2.1e+02 2.71e-03  4e-05  8e-03 2:13.9\n",
      "  147   1323 -3.350674576677459e-02 2.5e+02 7.21e-04  8e-06  2e-03 2:31.1\n",
      "  164   1476 -3.350674588337021e-02 3.1e+02 1.76e-04  2e-06  3e-04 2:49.2\n",
      "  182   1638 -3.350674589237457e-02 2.8e+02 3.92e-05  2e-07  5e-05 3:08.6\n",
      "  195   1755 -3.350674589249403e-02 2.3e+02 9.92e-06  4e-08  8e-06 3:23.8\n"
     ]
    },
    {
     "name": "stderr",
     "output_type": "stream",
     "text": [
      "reconstraining parameters GP_regression.Mat52.lengthscale\n"
     ]
    },
    {
     "name": "stdout",
     "output_type": "stream",
     "text": [
      "termination on tolfun=1e-11 (Tue Aug 25 01:29:05 2020)\n",
      "final/bestever f-value = -3.350675e-02 -3.350675e-02\n",
      "incumbent solution: [0.6917587923391134, 2.853311740752654, 1.7409032784086391, 4.694550496819613, 4.755927240925105, 5.914163520203196]\n",
      "std deviation: [4.456346914934272e-08, 4.583964499081538e-08, 6.153351326224727e-07, 1.7056641328283715e-07, 3.703024771975841e-07, 7.858113882704772e-06]\n"
     ]
    },
    {
     "name": "stderr",
     "output_type": "stream",
     "text": [
      "reconstraining parameters GP_regression.Mat52.variance\n",
      "reconstraining parameters GP_regression.Gaussian_noise.variance\n"
     ]
    },
    {
     "name": "stdout",
     "output_type": "stream",
     "text": [
      "Optimization restart 1/10, f = 79.80356145667938\n",
      "Optimization restart 2/10, f = 3895726.6081968606\n",
      "Optimization restart 3/10, f = 82.53136142227424\n",
      "Optimization restart 4/10, f = 458.1439005599327\n",
      "Optimization restart 5/10, f = 495.1121733990298\n",
      "Optimization restart 6/10, f = 252.4960590937316\n",
      "Optimization restart 7/10, f = 489.77326584495177\n",
      "Optimization restart 8/10, f = 257.409109892713\n",
      "Optimization restart 9/10, f = 107.838656102795\n"
     ]
    },
    {
     "name": "stderr",
     "output_type": "stream",
     "text": [
      "reconstraining parameters GP_regression.Mat52.lengthscale\n",
      "reconstraining parameters GP_regression.Mat52.variance\n",
      "reconstraining parameters GP_regression.Gaussian_noise.variance\n"
     ]
    },
    {
     "name": "stdout",
     "output_type": "stream",
     "text": [
      "Optimization restart 10/10, f = 493.3254924952098\n",
      "Optimization restart 1/10, f = 13.620090521334767\n",
      "Optimization restart 2/10, f = 411.5112407847027\n",
      "Optimization restart 3/10, f = 87.15570392174118\n",
      "Optimization restart 4/10, f = 464.4184380851242\n",
      "Optimization restart 5/10, f = 14.748969612918955\n",
      "Optimization restart 6/10, f = 453.4405251865146\n",
      "Optimization restart 7/10, f = 87.15679053967278\n",
      "Optimization restart 8/10, f = 110.67720558996447\n",
      "Optimization restart 9/10, f = 23.626848420189404\n",
      "Optimization restart 10/10, f = 2177386613.74077\n",
      "(4_w,9)-aCMA-ES (mu_w=2.8,w_1=49%) in dimension 6 (seed=362114, Tue Aug 25 01:29:25 2020)\n",
      "Iterat #Fevals   function value  axis ratio  sigma  min&max std  t[m:s]\n",
      "    1      9 1.206473097171145e+00 1.0e+00 2.54e-01  2e-01  3e-01 0:00.8\n"
     ]
    },
    {
     "name": "stderr",
     "output_type": "stream",
     "text": [
      " /home/finley/miniconda3/envs/testsuite/lib/python3.8/site-packages/cma/utilities/utils.py:329: UserWarning:function_values is not a list of scalars,\n",
      "                        the first element equals [1.89993582] with non-scalar type <class 'numpy.ndarray'>.\n",
      "                        Using now ``[v[0] for v in function_values]`` instead (further warnings are suppressed) ()\n"
     ]
    },
    {
     "name": "stdout",
     "output_type": "stream",
     "text": [
      "    2     18 1.364268671952969e+00 1.3e+00 2.56e-01  2e-01  3e-01 0:01.7\n"
     ]
    },
    {
     "name": "stderr",
     "output_type": "stream",
     "text": [
      " /home/finley/miniconda3/envs/testsuite/lib/python3.8/site-packages/cma/utilities/utils.py:329: UserWarning:function_values is not a list of scalars,\n",
      "                        the first element equals [1.85703781] with non-scalar type <class 'numpy.ndarray'>.\n",
      "                        Using now ``[v[0] for v in function_values]`` instead (further warnings are suppressed) ()\n"
     ]
    },
    {
     "name": "stdout",
     "output_type": "stream",
     "text": [
      "    3     27 1.342036428032235e+00 1.4e+00 2.72e-01  2e-01  3e-01 0:02.6\n",
      "    7     63 1.032650413513371e+00 1.8e+00 3.25e-01  3e-01  4e-01 0:05.7\n",
      "   11     99 9.299217678440086e-01 2.1e+00 2.74e-01  2e-01  3e-01 0:10.0\n",
      "   18    162 7.740058080065615e-01 2.6e+00 2.76e-01  1e-01  3e-01 0:15.7\n",
      "   25    225 7.038302068493321e-01 5.6e+00 2.49e-01  7e-02  3e-01 0:21.7\n",
      "   32    288 4.819307352153583e-01 8.9e+00 3.05e-01  6e-02  4e-01 0:29.7\n",
      "   41    369 3.542787563207799e-01 1.6e+01 4.26e-01  5e-02  8e-01 0:39.0\n",
      "   51    459 -0.000000000000000e+00 2.6e+01 2.90e-01  3e-02  5e-01 0:48.6\n",
      "   61    549 3.382955927028850e-01 3.5e+01 2.12e-01  2e-02  3e-01 0:58.9\n",
      "   72    648 3.304455178283414e-01 5.0e+01 1.07e-01  7e-03  1e-01 1:10.4\n",
      "   83    747 3.277374743445973e-01 7.6e+01 5.23e-02  4e-03  7e-02 1:23.3\n",
      "   96    864 3.272868770692636e-01 1.2e+02 3.18e-02  2e-03  4e-02 1:36.3\n",
      "  100    900 3.255200095381743e-01 1.4e+02 4.32e-02  4e-03  5e-02 1:39.3\n",
      "  119   1071 -0.000000000000000e+00 3.5e+02 1.58e-01  2e-02  2e-01 1:54.6\n"
     ]
    },
    {
     "name": "stderr",
     "output_type": "stream",
     "text": [
      " /home/finley/miniconda3/envs/testsuite/lib/python3.8/site-packages/cma/utilities/utils.py:329: UserWarning:flat fitness (f=-0.000000, sigma=1.50e-01).\n",
      "                    For small sigma, this could indicate numerical convergence.\n",
      "                    Otherwise, please (re)consider how to compute the fitness more elaborately. (iteration=120)\n",
      " /home/finley/miniconda3/envs/testsuite/lib/python3.8/site-packages/cma/utilities/utils.py:329: UserWarning:flat fitness (f=-0.000000, sigma=1.50e-01).\n",
      "                    For small sigma, this could indicate numerical convergence.\n",
      "                    Otherwise, please (re)consider how to compute the fitness more elaborately. (iteration=121)\n",
      " /home/finley/miniconda3/envs/testsuite/lib/python3.8/site-packages/cma/utilities/utils.py:329: UserWarning:flat fitness (f=-0.000000, sigma=1.50e-01).\n",
      "                    For small sigma, this could indicate numerical convergence.\n",
      "                    Otherwise, please (re)consider how to compute the fitness more elaborately. (iteration=122)\n",
      " /home/finley/miniconda3/envs/testsuite/lib/python3.8/site-packages/cma/utilities/utils.py:329: UserWarning:flat fitness (f=-0.000000, sigma=1.73e-01).\n",
      "                    For small sigma, this could indicate numerical convergence.\n",
      "                    Otherwise, please (re)consider how to compute the fitness more elaborately. (iteration=123)\n",
      " /home/finley/miniconda3/envs/testsuite/lib/python3.8/site-packages/cma/utilities/utils.py:329: UserWarning:flat fitness (f=-0.000000, sigma=1.65e-01).\n",
      "                    For small sigma, this could indicate numerical convergence.\n",
      "                    Otherwise, please (re)consider how to compute the fitness more elaborately. (iteration=124)\n",
      " /home/finley/miniconda3/envs/testsuite/lib/python3.8/site-packages/cma/utilities/utils.py:329: UserWarning:flat fitness (f=-0.000000, sigma=1.61e-01).\n",
      "                    For small sigma, this could indicate numerical convergence.\n",
      "                    Otherwise, please (re)consider how to compute the fitness more elaborately. (iteration=125)\n"
     ]
    },
    {
     "name": "stdout",
     "output_type": "stream",
     "text": [
      "  131   1179 -3.807233317494774e-03 4.5e+02 2.57e-01  5e-02  4e-01 2:11.2\n",
      "  142   1278 -7.210614453783126e-03 3.4e+02 2.73e-01  2e-02  3e-01 2:29.3\n",
      "  153   1377 -9.236303750214780e-03 2.2e+02 4.27e-01  2e-02  4e-01 2:48.2\n",
      "  171   1539 -1.309280897138931e-02 1.6e+02 6.68e-01  9e-03  5e-01 3:08.0\n",
      "  190   1710 -1.449884912092081e-02 2.2e+02 4.77e-01  6e-03  4e-01 3:28.9\n",
      "  200   1800 -1.475958912597219e-02 1.1e+02 2.86e-01  3e-03  2e-01 3:40.2\n",
      "  220   1980 -1.568082110347113e-02 1.6e+02 1.04e+00  7e-03  9e-01 4:03.2\n",
      "  241   2169 -1.689244492534714e-02 1.4e+02 4.53e-01  2e-03  2e-01 4:26.3\n",
      "  264   2376 -1.694015239245816e-02 8.0e+01 8.13e-02  2e-04  2e-02 4:51.4\n",
      "  287   2583 -1.694079517775160e-02 7.0e+01 1.98e-02  3e-05  2e-03 5:16.9\n",
      "  300   2700 -1.694080193723568e-02 7.6e+01 5.06e-03  6e-06  4e-04 5:31.4\n",
      "  325   2925 -1.694080228369499e-02 5.8e+01 6.90e-04  5e-07  3e-05 5:58.9\n",
      "  348   3132 -1.694080228772421e-02 3.5e+01 6.29e-05  3e-08  1e-06 6:23.9\n"
     ]
    },
    {
     "name": "stderr",
     "output_type": "stream",
     "text": [
      "reconstraining parameters GP_regression.Mat52.lengthscale\n",
      "reconstraining parameters GP_regression.Mat52.variance\n",
      "reconstraining parameters GP_regression.Gaussian_noise.variance\n"
     ]
    },
    {
     "name": "stdout",
     "output_type": "stream",
     "text": [
      "termination on tolfun=1e-11 (Tue Aug 25 01:35:49 2020)\n",
      "final/bestever f-value = -1.694080e-02 -1.694080e-02\n",
      "incumbent solution: [1.3809968529572385, 1.1655494659127233e-16, 2.7612106867301964, 5.922389453670144, 5.285890052836109, 3.2359781448269234e-12]\n",
      "std deviation: [3.3586574472254476e-08, 1.0048799220912354e-07, 1.053163727318923e-06, 2.895371869377741e-07, 8.425030467580103e-07, 1.138548097264834e-06]\n",
      "Optimization restart 1/10, f = 80.75218113411758\n",
      "Optimization restart 2/10, f = 497.69703307113286\n",
      "Optimization restart 3/10, f = 486.2212415788631\n",
      "Optimization restart 4/10, f = 527.3570949894969\n",
      "Optimization restart 5/10, f = 499.3365701883383\n",
      "Optimization restart 6/10, f = 498.9951448051373\n",
      "Optimization restart 7/10, f = 97.82172237373626\n",
      "Optimization restart 8/10, f = 100.64383193799814\n",
      "Optimization restart 9/10, f = 84.01476215689308\n"
     ]
    },
    {
     "name": "stderr",
     "output_type": "stream",
     "text": [
      "reconstraining parameters GP_regression.Mat52.lengthscale\n",
      "reconstraining parameters GP_regression.Mat52.variance\n",
      "reconstraining parameters GP_regression.Gaussian_noise.variance\n"
     ]
    },
    {
     "name": "stdout",
     "output_type": "stream",
     "text": [
      "Optimization restart 10/10, f = 84.01476228415629\n",
      "Optimization restart 1/10, f = 17.260715271207744\n",
      "Optimization restart 2/10, f = 495.39854589950875\n",
      "Optimization restart 3/10, f = 104.18727850576687\n",
      "Optimization restart 4/10, f = 469.34298320643296\n",
      "Optimization restart 5/10, f = 120.06584564044009\n",
      "Optimization restart 6/10, f = 2212573577.069705\n",
      "Optimization restart 7/10, f = 510.1291235313413\n",
      "Optimization restart 8/10, f = 3945671.8211224624\n",
      "Optimization restart 9/10, f = 71.61042107613163\n",
      "Optimization restart 10/10, f = 517.528045743943\n",
      "(4_w,9)-aCMA-ES (mu_w=2.8,w_1=49%) in dimension 6 (seed=425016, Tue Aug 25 01:35:56 2020)\n",
      "Iterat #Fevals   function value  axis ratio  sigma  min&max std  t[m:s]\n",
      "    1      9 1.955098537201996e+00 1.0e+00 2.22e-01  2e-01  2e-01 0:00.8\n"
     ]
    },
    {
     "name": "stderr",
     "output_type": "stream",
     "text": [
      " /home/finley/miniconda3/envs/testsuite/lib/python3.8/site-packages/cma/utilities/utils.py:329: UserWarning:function_values is not a list of scalars,\n",
      "                        the first element equals [2.12217143] with non-scalar type <class 'numpy.ndarray'>.\n",
      "                        Using now ``[v[0] for v in function_values]`` instead (further warnings are suppressed) ()\n"
     ]
    },
    {
     "name": "stdout",
     "output_type": "stream",
     "text": [
      "    2     18 2.079432116018061e+00 1.3e+00 2.00e-01  2e-01  2e-01 0:01.6\n"
     ]
    },
    {
     "name": "stderr",
     "output_type": "stream",
     "text": [
      " /home/finley/miniconda3/envs/testsuite/lib/python3.8/site-packages/cma/utilities/utils.py:329: UserWarning:function_values is not a list of scalars,\n",
      "                        the first element equals [2.27128778] with non-scalar type <class 'numpy.ndarray'>.\n",
      "                        Using now ``[v[0] for v in function_values]`` instead (further warnings are suppressed) ()\n"
     ]
    },
    {
     "name": "stdout",
     "output_type": "stream",
     "text": [
      "    3     27 1.993355202007879e+00 1.3e+00 2.00e-01  2e-01  2e-01 0:02.3\n",
      "    7     63 1.371277239553909e+00 1.8e+00 3.19e-01  3e-01  4e-01 0:05.8\n",
      "   13    117 4.428804877599177e-01 2.9e+00 6.11e-01  4e-01  8e-01 0:10.5\n",
      "   19    171 -1.324473128952786e-03 4.3e+00 5.85e-01  3e-01  8e-01 0:15.7\n",
      "   26    234 -1.444083330444190e-02 4.7e+00 3.64e-01  1e-01  5e-01 0:22.1\n",
      "   33    297 -7.318634720525186e-03 6.7e+00 3.39e-01  8e-02  4e-01 0:29.4\n",
      "   41    369 -2.881383142088101e-02 7.6e+00 2.77e-01  5e-02  3e-01 0:38.1\n",
      "   50    450 -2.977631168385697e-02 8.7e+00 1.91e-01  3e-02  2e-01 0:48.0\n",
      "   59    531 -3.293429177019025e-02 1.1e+01 9.46e-02  1e-02  1e-01 0:58.1\n",
      "   69    621 -3.309216476735832e-02 1.5e+01 3.55e-02  3e-03  4e-02 1:09.6\n",
      "   80    720 -3.311924104241948e-02 1.9e+01 1.89e-02  1e-03  3e-02 1:21.8\n",
      "   92    828 -3.312599178565545e-02 3.6e+01 8.61e-03  4e-04  1e-02 1:34.8\n",
      "  100    900 -3.312781957233302e-02 5.6e+01 1.82e-02  7e-04  4e-02 1:43.6\n",
      "  114   1026 -3.313006359088266e-02 8.1e+01 1.24e-02  4e-04  3e-02 1:59.3\n",
      "  129   1161 -3.313570971330071e-02 2.0e+02 3.21e-02  7e-04  1e-01 2:16.2\n",
      "  145   1305 -3.313967189881240e-02 4.0e+02 2.14e-02  3e-04  1e-01 2:34.3\n",
      "  162   1458 -3.314012836229185e-02 5.3e+02 8.00e-03  8e-05  4e-02 2:52.9\n",
      "  178   1602 -3.314015645679058e-02 6.1e+02 4.12e-03  3e-05  1e-02 3:13.4\n",
      "  192   1728 -3.314015786973723e-02 5.8e+02 9.77e-04  5e-06  2e-03 3:33.6\n",
      "  200   1800 -3.314015787140390e-02 5.4e+02 4.92e-04  2e-06  1e-03 3:45.1\n",
      "  215   1935 -3.314015790625069e-02 4.5e+02 1.86e-04  7e-07  3e-04 4:07.6\n",
      "  231   2079 -3.314015790750391e-02 4.8e+02 3.45e-05  8e-08  3e-05 4:31.2\n",
      "  233   2097 -3.314015790750346e-02 4.7e+02 3.02e-05  7e-08  3e-05 4:34.2\n",
      "termination on tolfun=1e-11 (Tue Aug 25 01:40:31 2020)\n",
      "final/bestever f-value = -3.314016e-02 -3.314016e-02\n",
      "incumbent solution: [0.718040857147323, 3.3248670389379757, 1.9115060393279117, 4.157283079597397, 4.463027587532004, 8.325771728487684]\n",
      "std deviation: [7.107171426767177e-08, 1.4811223603687884e-07, 2.0076964115130905e-07, 1.2586771771534892e-06, 5.893518927351907e-07, 2.9419017565857535e-05]\n"
     ]
    },
    {
     "name": "stderr",
     "output_type": "stream",
     "text": [
      "reconstraining parameters GP_regression.Mat52.lengthscale\n",
      "reconstraining parameters GP_regression.Mat52.variance\n",
      "reconstraining parameters GP_regression.Gaussian_noise.variance\n"
     ]
    },
    {
     "name": "stdout",
     "output_type": "stream",
     "text": [
      "Optimization restart 1/10, f = 81.62614328347897\n",
      "Optimization restart 2/10, f = 167.09057868302088\n",
      "Optimization restart 3/10, f = 97.12806236200205\n",
      "Optimization restart 4/10, f = 490.016181178983\n",
      "Optimization restart 5/10, f = 485.2941080731979\n",
      "Optimization restart 6/10, f = 113.5150826563738\n",
      "Optimization restart 7/10, f = 113.44181351455137\n",
      "Optimization restart 8/10, f = 473.813427177473\n",
      "Optimization restart 9/10, f = 509.7211911236866\n"
     ]
    },
    {
     "name": "stderr",
     "output_type": "stream",
     "text": [
      "reconstraining parameters GP_regression.Mat52.lengthscale\n",
      "reconstraining parameters GP_regression.Mat52.variance\n",
      "reconstraining parameters GP_regression.Gaussian_noise.variance\n"
     ]
    },
    {
     "name": "stdout",
     "output_type": "stream",
     "text": [
      "Optimization restart 10/10, f = 479.3376153847553\n",
      "Optimization restart 1/10, f = 17.132780719695475\n",
      "Optimization restart 2/10, f = 106.1943471999376\n",
      "Optimization restart 3/10, f = 513.6160437743317\n",
      "Optimization restart 4/10, f = 534.0325012551868\n",
      "Optimization restart 5/10, f = 28388651.046723105\n",
      "Optimization restart 6/10, f = 46.64333456793604\n",
      "Optimization restart 7/10, f = 534.0325012551868\n",
      "Optimization restart 8/10, f = 75.29828482775815\n",
      "Optimization restart 9/10, f = 483.70927258182525\n",
      "Optimization restart 10/10, f = 455.6085868306791\n",
      "(4_w,9)-aCMA-ES (mu_w=2.8,w_1=49%) in dimension 6 (seed=336977, Tue Aug 25 01:40:45 2020)\n",
      "Iterat #Fevals   function value  axis ratio  sigma  min&max std  t[m:s]\n",
      "    1      9 1.471075433853578e+00 1.0e+00 2.23e-01  2e-01  2e-01 0:01.6\n"
     ]
    },
    {
     "name": "stderr",
     "output_type": "stream",
     "text": [
      " /home/finley/miniconda3/envs/testsuite/lib/python3.8/site-packages/cma/utilities/utils.py:329: UserWarning:function_values is not a list of scalars,\n",
      "                        the first element equals [1.86695546] with non-scalar type <class 'numpy.ndarray'>.\n",
      "                        Using now ``[v[0] for v in function_values]`` instead (further warnings are suppressed) ()\n"
     ]
    },
    {
     "name": "stdout",
     "output_type": "stream",
     "text": [
      "    2     18 1.409060445780524e+00 1.2e+00 2.22e-01  2e-01  2e-01 0:03.3\n"
     ]
    },
    {
     "name": "stderr",
     "output_type": "stream",
     "text": [
      " /home/finley/miniconda3/envs/testsuite/lib/python3.8/site-packages/cma/utilities/utils.py:329: UserWarning:function_values is not a list of scalars,\n",
      "                        the first element equals [1.85740179] with non-scalar type <class 'numpy.ndarray'>.\n",
      "                        Using now ``[v[0] for v in function_values]`` instead (further warnings are suppressed) ()\n"
     ]
    },
    {
     "name": "stdout",
     "output_type": "stream",
     "text": [
      "    3     27 1.209108877882874e+00 1.4e+00 2.74e-01  2e-01  3e-01 0:04.7\n",
      "    6     54 9.315513778965687e-01 1.8e+00 3.59e-01  3e-01  4e-01 0:09.2\n",
      "    9     81 1.119957616925527e+00 2.2e+00 3.07e-01  2e-01  3e-01 0:13.6\n",
      "   14    126 8.982808106454081e-01 2.2e+00 2.12e-01  2e-01  2e-01 0:18.9\n",
      "   22    198 8.095110894448951e-01 4.0e+00 1.71e-01  7e-02  2e-01 0:25.1\n",
      "   31    279 7.762710546865155e-01 6.6e+00 2.47e-01  7e-02  3e-01 0:32.4\n",
      "   41    369 4.411125210458984e-01 1.1e+01 3.26e-01  6e-02  5e-01 0:41.4\n",
      "   50    450 -0.000000000000000e+00 1.9e+01 3.87e-01  5e-02  7e-01 0:50.8\n",
      "   58    522 -0.000000000000000e+00 1.6e+01 2.03e-01  2e-02  3e-01 1:02.0\n",
      "   65    585 -0.000000000000000e+00 1.7e+01 1.38e-01  1e-02  2e-01 1:14.0\n"
     ]
    },
    {
     "name": "stderr",
     "output_type": "stream",
     "text": [
      " /home/finley/miniconda3/envs/testsuite/lib/python3.8/site-packages/cma/utilities/utils.py:329: UserWarning:flat fitness (f=-0.000000, sigma=1.38e-01).\n",
      "                    For small sigma, this could indicate numerical convergence.\n",
      "                    Otherwise, please (re)consider how to compute the fitness more elaborately. (iteration=65)\n",
      " /home/finley/miniconda3/envs/testsuite/lib/python3.8/site-packages/cma/utilities/utils.py:329: UserWarning:flat fitness (f=-0.000000, sigma=1.42e-01).\n",
      "                    For small sigma, this could indicate numerical convergence.\n",
      "                    Otherwise, please (re)consider how to compute the fitness more elaborately. (iteration=66)\n",
      " /home/finley/miniconda3/envs/testsuite/lib/python3.8/site-packages/cma/utilities/utils.py:329: UserWarning:flat fitness (f=-0.000000, sigma=1.39e-01).\n",
      "                    For small sigma, this could indicate numerical convergence.\n",
      "                    Otherwise, please (re)consider how to compute the fitness more elaborately. (iteration=67)\n",
      " /home/finley/miniconda3/envs/testsuite/lib/python3.8/site-packages/cma/utilities/utils.py:329: UserWarning:flat fitness (f=-0.000000, sigma=1.38e-01).\n",
      "                    For small sigma, this could indicate numerical convergence.\n",
      "                    Otherwise, please (re)consider how to compute the fitness more elaborately. (iteration=69)\n",
      " /home/finley/miniconda3/envs/testsuite/lib/python3.8/site-packages/cma/utilities/utils.py:329: UserWarning:flat fitness (f=-0.000000, sigma=1.37e-01).\n",
      "                    For small sigma, this could indicate numerical convergence.\n",
      "                    Otherwise, please (re)consider how to compute the fitness more elaborately. (iteration=71)\n"
     ]
    },
    {
     "name": "stdout",
     "output_type": "stream",
     "text": [
      "   73    657 -0.000000000000000e+00 2.1e+01 1.30e-01  9e-03  1e-01 1:27.2\n"
     ]
    },
    {
     "name": "stderr",
     "output_type": "stream",
     "text": [
      " /home/finley/miniconda3/envs/testsuite/lib/python3.8/site-packages/cma/utilities/utils.py:329: UserWarning:flat fitness (f=-0.000000, sigma=1.10e-01).\n",
      "                    For small sigma, this could indicate numerical convergence.\n",
      "                    Otherwise, please (re)consider how to compute the fitness more elaborately. (iteration=74)\n",
      " /home/finley/miniconda3/envs/testsuite/lib/python3.8/site-packages/cma/utilities/utils.py:329: UserWarning:flat fitness (f=-0.000000, sigma=1.11e-01).\n",
      "                    For small sigma, this could indicate numerical convergence.\n",
      "                    Otherwise, please (re)consider how to compute the fitness more elaborately. (iteration=75)\n",
      " /home/finley/miniconda3/envs/testsuite/lib/python3.8/site-packages/cma/utilities/utils.py:329: UserWarning:flat fitness (f=-0.000000, sigma=1.04e-01).\n",
      "                    For small sigma, this could indicate numerical convergence.\n",
      "                    Otherwise, please (re)consider how to compute the fitness more elaborately. (iteration=77)\n",
      " /home/finley/miniconda3/envs/testsuite/lib/python3.8/site-packages/cma/utilities/utils.py:329: UserWarning:flat fitness (f=-0.000000, sigma=1.11e-01).\n",
      "                    For small sigma, this could indicate numerical convergence.\n",
      "                    Otherwise, please (re)consider how to compute the fitness more elaborately. (iteration=78)\n"
     ]
    },
    {
     "name": "stdout",
     "output_type": "stream",
     "text": [
      "   79    711 -0.000000000000000e+00 1.8e+01 9.94e-02  9e-03  1e-01 1:34.8\n",
      "termination on tolfunhist=1e-12 (Tue Aug 25 01:42:20 2020)\n",
      "final/bestever f-value = -0.000000e+00 -0.000000e+00\n",
      "incumbent solution: [1.4189092269161827, 0.17063847139961857, 0.9446043503138961, 6.702699827275068, 8.022461038451288, 4.9664772383656945]\n",
      "std deviation: [0.008703070794045573, 0.0407289053771695, 0.033980914472491755, 0.08959587499665872, 0.06028453729167347, 0.09684187615651396]\n"
     ]
    },
    {
     "name": "stderr",
     "output_type": "stream",
     "text": [
      "reconstraining parameters GP_regression.Mat52.lengthscale\n",
      "reconstraining parameters GP_regression.Mat52.variance\n",
      "reconstraining parameters GP_regression.Gaussian_noise.variance\n"
     ]
    },
    {
     "name": "stdout",
     "output_type": "stream",
     "text": [
      "Optimization restart 1/10, f = 82.88301528278592\n",
      "Optimization restart 2/10, f = 344.97899750657405\n",
      "Optimization restart 3/10, f = 112.27176194053247\n",
      "Optimization restart 4/10, f = 106.10834459359216\n",
      "Optimization restart 5/10, f = 540.7079075208767\n",
      "Optimization restart 6/10, f = 487.60271608434743\n",
      "Optimization restart 7/10, f = 486.5889489991389\n",
      "Optimization restart 8/10, f = 114.93402168214163\n"
     ]
    },
    {
     "name": "stderr",
     "output_type": "stream",
     "text": [
      "reconstraining parameters GP_regression.Mat52.lengthscale\n",
      "reconstraining parameters GP_regression.Mat52.variance\n",
      "reconstraining parameters GP_regression.Gaussian_noise.variance\n"
     ]
    },
    {
     "name": "stdout",
     "output_type": "stream",
     "text": [
      "Optimization restart 9/10, f = 262.05940498766233\n",
      "Optimization restart 10/10, f = 540.7079075208767\n",
      "Optimization restart 1/10, f = 16.96236245872396\n",
      "Optimization restart 2/10, f = 476.5272068825062\n",
      "Optimization restart 3/10, f = 2299863509.1358647\n",
      "Optimization restart 4/10, f = 16.96236244206157\n",
      "Optimization restart 5/10, f = 114.93402118957871\n",
      "Optimization restart 6/10, f = 111.0628417936033\n",
      "Optimization restart 7/10, f = 70.57857805175067\n",
      "Optimization restart 8/10, f = 502.9676208569375\n",
      "Optimization restart 9/10, f = 2290696825.0452137\n",
      "Optimization restart 10/10, f = 69.62006524341359\n",
      "(4_w,9)-aCMA-ES (mu_w=2.8,w_1=49%) in dimension 6 (seed=389170, Tue Aug 25 01:42:27 2020)\n",
      "Iterat #Fevals   function value  axis ratio  sigma  min&max std  t[m:s]\n",
      "    1      9 3.816862285162010e-01 1.0e+00 2.16e-01  2e-01  2e-01 0:00.8\n"
     ]
    },
    {
     "name": "stderr",
     "output_type": "stream",
     "text": [
      " /home/finley/miniconda3/envs/testsuite/lib/python3.8/site-packages/cma/utilities/utils.py:329: UserWarning:function_values is not a list of scalars,\n",
      "                        the first element equals [0.79241442] with non-scalar type <class 'numpy.ndarray'>.\n",
      "                        Using now ``[v[0] for v in function_values]`` instead (further warnings are suppressed) ()\n"
     ]
    },
    {
     "name": "stdout",
     "output_type": "stream",
     "text": [
      "    2     18 4.530508164098070e-01 1.1e+00 2.16e-01  2e-01  2e-01 0:01.6\n"
     ]
    },
    {
     "name": "stderr",
     "output_type": "stream",
     "text": [
      " /home/finley/miniconda3/envs/testsuite/lib/python3.8/site-packages/cma/utilities/utils.py:329: UserWarning:function_values is not a list of scalars,\n",
      "                        the first element equals [0.53022438] with non-scalar type <class 'numpy.ndarray'>.\n",
      "                        Using now ``[v[0] for v in function_values]`` instead (further warnings are suppressed) ()\n"
     ]
    },
    {
     "name": "stdout",
     "output_type": "stream",
     "text": [
      "    3     27 3.892813149535364e-01 1.4e+00 1.97e-01  2e-01  2e-01 0:02.4\n",
      "    7     63 -0.000000000000000e+00 1.7e+00 1.41e-01  1e-01  2e-01 0:05.6\n",
      "   12    108 -0.000000000000000e+00 2.9e+00 1.36e-01  7e-02  1e-01 0:10.3\n",
      "   18    162 3.461729647401335e-01 4.1e+00 2.19e-01  9e-02  2e-01 0:15.4\n",
      "   25    225 -0.000000000000000e+00 5.3e+00 1.24e-01  4e-02  1e-01 0:22.2\n"
     ]
    },
    {
     "name": "stderr",
     "output_type": "stream",
     "text": [
      " /home/finley/miniconda3/envs/testsuite/lib/python3.8/site-packages/cma/utilities/utils.py:329: UserWarning:flat fitness (f=-0.000000, sigma=9.79e-02).\n",
      "                    For small sigma, this could indicate numerical convergence.\n",
      "                    Otherwise, please (re)consider how to compute the fitness more elaborately. (iteration=31)\n"
     ]
    },
    {
     "name": "stdout",
     "output_type": "stream",
     "text": [
      "   32    288 -0.000000000000000e+00 7.2e+00 9.72e-02  3e-02  1e-01 0:30.0\n"
     ]
    },
    {
     "name": "stderr",
     "output_type": "stream",
     "text": [
      " /home/finley/miniconda3/envs/testsuite/lib/python3.8/site-packages/cma/utilities/utils.py:329: UserWarning:flat fitness (f=-0.000000, sigma=9.31e-02).\n",
      "                    For small sigma, this could indicate numerical convergence.\n",
      "                    Otherwise, please (re)consider how to compute the fitness more elaborately. (iteration=33)\n",
      " /home/finley/miniconda3/envs/testsuite/lib/python3.8/site-packages/cma/utilities/utils.py:329: UserWarning:flat fitness (f=-0.000000, sigma=8.94e-02).\n",
      "                    For small sigma, this could indicate numerical convergence.\n",
      "                    Otherwise, please (re)consider how to compute the fitness more elaborately. (iteration=37)\n",
      " /home/finley/miniconda3/envs/testsuite/lib/python3.8/site-packages/cma/utilities/utils.py:329: UserWarning:flat fitness (f=-0.000000, sigma=8.43e-02).\n",
      "                    For small sigma, this could indicate numerical convergence.\n",
      "                    Otherwise, please (re)consider how to compute the fitness more elaborately. (iteration=38)\n",
      " /home/finley/miniconda3/envs/testsuite/lib/python3.8/site-packages/cma/utilities/utils.py:329: UserWarning:flat fitness (f=-0.000000, sigma=7.59e-02).\n",
      "                    For small sigma, this could indicate numerical convergence.\n",
      "                    Otherwise, please (re)consider how to compute the fitness more elaborately. (iteration=39)\n"
     ]
    },
    {
     "name": "stdout",
     "output_type": "stream",
     "text": [
      "   40    360 -0.000000000000000e+00 8.4e+00 7.54e-02  2e-02  8e-02 0:39.0\n"
     ]
    },
    {
     "name": "stderr",
     "output_type": "stream",
     "text": [
      " /home/finley/miniconda3/envs/testsuite/lib/python3.8/site-packages/cma/utilities/utils.py:329: UserWarning:flat fitness (f=-0.000000, sigma=7.54e-02).\n",
      "                    For small sigma, this could indicate numerical convergence.\n",
      "                    Otherwise, please (re)consider how to compute the fitness more elaborately. (iteration=40)\n",
      " /home/finley/miniconda3/envs/testsuite/lib/python3.8/site-packages/cma/utilities/utils.py:329: UserWarning:flat fitness (f=-0.000000, sigma=7.54e-02).\n",
      "                    For small sigma, this could indicate numerical convergence.\n",
      "                    Otherwise, please (re)consider how to compute the fitness more elaborately. (iteration=41)\n",
      " /home/finley/miniconda3/envs/testsuite/lib/python3.8/site-packages/cma/utilities/utils.py:329: UserWarning:flat fitness (f=-0.000000, sigma=8.43e-02).\n",
      "                    For small sigma, this could indicate numerical convergence.\n",
      "                    Otherwise, please (re)consider how to compute the fitness more elaborately. (iteration=42)\n",
      " /home/finley/miniconda3/envs/testsuite/lib/python3.8/site-packages/cma/utilities/utils.py:329: UserWarning:flat fitness (f=-0.000000, sigma=7.09e-02).\n",
      "                    For small sigma, this could indicate numerical convergence.\n",
      "                    Otherwise, please (re)consider how to compute the fitness more elaborately. (iteration=44)\n",
      " /home/finley/miniconda3/envs/testsuite/lib/python3.8/site-packages/cma/utilities/utils.py:329: UserWarning:flat fitness (f=-0.000000, sigma=6.55e-02).\n",
      "                    For small sigma, this could indicate numerical convergence.\n",
      "                    Otherwise, please (re)consider how to compute the fitness more elaborately. (iteration=45)\n",
      " /home/finley/miniconda3/envs/testsuite/lib/python3.8/site-packages/cma/utilities/utils.py:329: UserWarning:flat fitness (f=-0.000000, sigma=6.36e-02).\n",
      "                    For small sigma, this could indicate numerical convergence.\n",
      "                    Otherwise, please (re)consider how to compute the fitness more elaborately. (iteration=46)\n"
     ]
    },
    {
     "name": "stdout",
     "output_type": "stream",
     "text": [
      "   47    423 -0.000000000000000e+00 8.7e+00 6.24e-02  2e-02  6e-02 0:48.4\n"
     ]
    },
    {
     "name": "stderr",
     "output_type": "stream",
     "text": [
      " /home/finley/miniconda3/envs/testsuite/lib/python3.8/site-packages/cma/utilities/utils.py:329: UserWarning:flat fitness (f=-0.000000, sigma=6.24e-02).\n",
      "                    For small sigma, this could indicate numerical convergence.\n",
      "                    Otherwise, please (re)consider how to compute the fitness more elaborately. (iteration=47)\n"
     ]
    },
    {
     "name": "stdout",
     "output_type": "stream",
     "text": [
      "   48    432 -0.000000000000000e+00 8.8e+00 5.92e-02  2e-02  6e-02 0:49.5\n"
     ]
    },
    {
     "name": "stderr",
     "output_type": "stream",
     "text": [
      " /home/finley/miniconda3/envs/testsuite/lib/python3.8/site-packages/cma/utilities/utils.py:329: UserWarning:flat fitness (f=-0.000000, sigma=5.92e-02).\n",
      "                    For small sigma, this could indicate numerical convergence.\n",
      "                    Otherwise, please (re)consider how to compute the fitness more elaborately. (iteration=48)\n",
      "reconstraining parameters GP_regression.Mat52.lengthscale\n",
      "reconstraining parameters GP_regression.Mat52.variance\n"
     ]
    },
    {
     "name": "stdout",
     "output_type": "stream",
     "text": [
      "termination on tolfun=1e-11 (Tue Aug 25 01:43:16 2020)\n",
      "termination on tolfunhist=1e-12 (Tue Aug 25 01:43:16 2020)\n",
      "termination on flat fitness=please (re)consider how to compute the fitness more elaborately if sigma=5.92e-02 is large (Tue Aug 25 01:43:16 2020)\n",
      "final/bestever f-value = -0.000000e+00 -0.000000e+00\n",
      "incumbent solution: [0.9340170634596909, 3.2421762951527704, 4.350783468079913, 4.790446492959703, 4.335674022787615, 8.419400464133147]\n",
      "std deviation: [0.016794866402076468, 0.02050533225722802, 0.05195422110965989, 0.04967552717968543, 0.05932092052027763, 0.060240580399556154]\n"
     ]
    },
    {
     "name": "stderr",
     "output_type": "stream",
     "text": [
      "reconstraining parameters GP_regression.Gaussian_noise.variance\n"
     ]
    },
    {
     "name": "stdout",
     "output_type": "stream",
     "text": [
      "Optimization restart 1/10, f = 83.43912608208664\n",
      "Optimization restart 2/10, f = 116.35295972278315\n",
      "Optimization restart 3/10, f = 519.4364967413538\n",
      "Optimization restart 4/10, f = 513.338309629675\n",
      "Optimization restart 5/10, f = 501.50744621389356\n",
      "Optimization restart 6/10, f = 547.3833137865664\n",
      "Optimization restart 7/10, f = 83.43912580513646\n",
      "Optimization restart 8/10, f = 162.18972929677008\n",
      "Optimization restart 9/10, f = 484.854346312221\n"
     ]
    },
    {
     "name": "stderr",
     "output_type": "stream",
     "text": [
      "reconstraining parameters GP_regression.Mat52.lengthscale\n",
      "reconstraining parameters GP_regression.Mat52.variance\n",
      "reconstraining parameters GP_regression.Gaussian_noise.variance\n"
     ]
    },
    {
     "name": "stdout",
     "output_type": "stream",
     "text": [
      "Optimization restart 10/10, f = 99.53032553679047\n",
      "Optimization restart 1/10, f = 16.684780906019732\n",
      "Optimization restart 2/10, f = 2324451828.657332\n",
      "Optimization restart 3/10, f = 15.745091742675953\n",
      "Optimization restart 4/10, f = 114.90466206662116\n",
      "Optimization restart 5/10, f = 70.3353467934794\n",
      "Optimization restart 6/10, f = 547.3833137865664\n",
      "Optimization restart 7/10, f = 16.68478090458011\n",
      "Optimization restart 8/10, f = 108.3439580315386\n",
      "Optimization restart 9/10, f = 547.3833137865664\n",
      "Optimization restart 10/10, f = 515.0563508692123\n",
      "(4_w,9)-aCMA-ES (mu_w=2.8,w_1=49%) in dimension 6 (seed=492269, Tue Aug 25 01:43:23 2020)\n",
      "Iterat #Fevals   function value  axis ratio  sigma  min&max std  t[m:s]\n",
      "    1      9 1.009164402407509e+00 1.0e+00 2.57e-01  2e-01  3e-01 0:01.1\n"
     ]
    },
    {
     "name": "stderr",
     "output_type": "stream",
     "text": [
      " /home/finley/miniconda3/envs/testsuite/lib/python3.8/site-packages/cma/utilities/utils.py:329: UserWarning:function_values is not a list of scalars,\n",
      "                        the first element equals [2.42991394] with non-scalar type <class 'numpy.ndarray'>.\n",
      "                        Using now ``[v[0] for v in function_values]`` instead (further warnings are suppressed) ()\n"
     ]
    },
    {
     "name": "stdout",
     "output_type": "stream",
     "text": [
      "    2     18 1.101983802942694e+00 1.3e+00 2.81e-01  3e-01  3e-01 0:02.0\n"
     ]
    },
    {
     "name": "stderr",
     "output_type": "stream",
     "text": [
      " /home/finley/miniconda3/envs/testsuite/lib/python3.8/site-packages/cma/utilities/utils.py:329: UserWarning:function_values is not a list of scalars,\n",
      "                        the first element equals [1.1019838] with non-scalar type <class 'numpy.ndarray'>.\n",
      "                        Using now ``[v[0] for v in function_values]`` instead (further warnings are suppressed) ()\n"
     ]
    },
    {
     "name": "stdout",
     "output_type": "stream",
     "text": [
      "    3     27 6.451603721391692e-01 1.4e+00 2.93e-01  3e-01  3e-01 0:02.8\n",
      "    7     63 3.678614257287520e-01 1.8e+00 3.64e-01  3e-01  4e-01 0:06.2\n",
      "   12    108 -0.000000000000000e+00 3.0e+00 4.14e-01  3e-01  5e-01 0:10.5\n",
      "   18    162 -4.520571833309273e-02 4.0e+00 5.32e-01  3e-01  7e-01 0:16.3\n",
      "   24    216 -3.561517112835721e-02 5.0e+00 2.98e-01  1e-01  4e-01 0:22.6\n",
      "   30    270 -5.714961758192993e-02 6.9e+00 1.68e-01  4e-02  2e-01 0:29.6\n",
      "   37    333 -6.141686399440882e-02 8.8e+00 8.77e-02  2e-02  1e-01 0:38.2\n",
      "   45    405 -6.175848738244616e-02 9.0e+00 6.10e-02  1e-02  8e-02 0:47.8\n",
      "   54    486 -6.249089654629314e-02 1.1e+01 4.79e-02  6e-03  7e-02 0:58.4\n",
      "   64    576 -6.283321231974881e-02 1.3e+01 3.31e-02  4e-03  5e-02 1:10.4\n",
      "   75    675 -6.294285723358861e-02 2.0e+01 7.69e-02  7e-03  1e-01 1:23.5\n",
      "   86    774 -6.323409207070840e-02 2.6e+01 4.19e-02  3e-03  7e-02 1:36.8\n",
      "   98    882 -6.328910185558279e-02 3.6e+01 1.93e-02  9e-04  3e-02 1:51.0\n",
      "  100    900 -6.329395440391927e-02 3.7e+01 1.58e-02  7e-04  3e-02 1:53.5\n",
      "  114   1026 -6.329898160798697e-02 3.8e+01 5.73e-03  2e-04  7e-03 2:10.2\n",
      "  129   1161 -6.329910830225449e-02 4.1e+01 1.47e-03  4e-05  1e-03 2:27.9\n",
      "  145   1305 -6.329911223648610e-02 5.5e+01 3.73e-04  6e-06  3e-04 2:46.8\n",
      "  162   1458 -6.329911236763719e-02 5.1e+01 1.38e-04  2e-06  9e-05 3:06.9\n",
      "  179   1611 -6.329911239001840e-02 7.0e+01 3.95e-05  3e-07  2e-05 3:27.3\n",
      "  195   1755 -6.329911239055130e-02 6.2e+01 1.09e-05  6e-08  3e-06 3:46.2\n"
     ]
    },
    {
     "name": "stderr",
     "output_type": "stream",
     "text": [
      "reconstraining parameters GP_regression.Mat52.lengthscale\n",
      "reconstraining parameters GP_regression.Mat52.variance\n"
     ]
    },
    {
     "name": "stdout",
     "output_type": "stream",
     "text": [
      "termination on tolfun=1e-11 (Tue Aug 25 01:47:10 2020)\n",
      "final/bestever f-value = -6.329911e-02 -6.329911e-02\n",
      "incumbent solution: [0.6965695170378196, 2.309772107711939, 1.7116748665998631, 4.754302539871012, 4.667214091943415, 3.609840585053896]\n",
      "std deviation: [6.075014438946031e-08, 9.287037776357241e-08, 1.866565707817247e-07, 3.6564343885273625e-07, 6.267876039957031e-07, 3.212185130192143e-06]\n"
     ]
    },
    {
     "name": "stderr",
     "output_type": "stream",
     "text": [
      "reconstraining parameters GP_regression.Gaussian_noise.variance\n"
     ]
    },
    {
     "name": "stdout",
     "output_type": "stream",
     "text": [
      "Optimization restart 1/10, f = 82.43327194726882\n",
      "Optimization restart 2/10, f = 365.5165114496439\n",
      "Optimization restart 3/10, f = 475.9506401537181\n",
      "Optimization restart 4/10, f = 525.4110034670468\n",
      "Optimization restart 5/10, f = 4145452.6728248647\n",
      "Optimization restart 6/10, f = 117.77189825598782\n",
      "Optimization restart 7/10, f = 503.64107801764317\n",
      "Optimization restart 8/10, f = 535.6129201995681\n",
      "Optimization restart 9/10, f = 496.5383211667516\n"
     ]
    },
    {
     "name": "stderr",
     "output_type": "stream",
     "text": [
      "reconstraining parameters GP_regression.Mat52.lengthscale\n",
      "reconstraining parameters GP_regression.Mat52.variance\n",
      "reconstraining parameters GP_regression.Gaussian_noise.variance\n"
     ]
    },
    {
     "name": "stdout",
     "output_type": "stream",
     "text": [
      "Optimization restart 10/10, f = 398.5447840506733\n",
      "Optimization restart 1/10, f = 14.810818157530868\n",
      "Optimization restart 2/10, f = 2344246011.7388706\n",
      "Optimization restart 3/10, f = 14.135825375890683\n",
      "Optimization restart 4/10, f = 417.0522010121955\n",
      "Optimization restart 5/10, f = 84.53800984866866\n",
      "Optimization restart 6/10, f = 72.87665521141281\n",
      "Optimization restart 7/10, f = 4145452.672824864\n",
      "Optimization restart 8/10, f = 14.13582537477803\n",
      "Optimization restart 9/10, f = 16.29246561239532\n",
      "Optimization restart 10/10, f = 22.61739331347507\n",
      "(4_w,9)-aCMA-ES (mu_w=2.8,w_1=49%) in dimension 6 (seed=499468, Tue Aug 25 01:47:15 2020)\n",
      "Iterat #Fevals   function value  axis ratio  sigma  min&max std  t[m:s]\n",
      "    1      9 1.614171017981096e+00 1.0e+00 2.31e-01  2e-01  2e-01 0:00.8\n"
     ]
    },
    {
     "name": "stderr",
     "output_type": "stream",
     "text": [
      " /home/finley/miniconda3/envs/testsuite/lib/python3.8/site-packages/cma/utilities/utils.py:329: UserWarning:function_values is not a list of scalars,\n",
      "                        the first element equals [2.04082803] with non-scalar type <class 'numpy.ndarray'>.\n",
      "                        Using now ``[v[0] for v in function_values]`` instead (further warnings are suppressed) ()\n"
     ]
    },
    {
     "name": "stdout",
     "output_type": "stream",
     "text": [
      "    2     18 1.279013804634785e+00 1.2e+00 2.41e-01  2e-01  3e-01 0:01.7\n"
     ]
    },
    {
     "name": "stderr",
     "output_type": "stream",
     "text": [
      " /home/finley/miniconda3/envs/testsuite/lib/python3.8/site-packages/cma/utilities/utils.py:329: UserWarning:function_values is not a list of scalars,\n",
      "                        the first element equals [1.66919374] with non-scalar type <class 'numpy.ndarray'>.\n",
      "                        Using now ``[v[0] for v in function_values]`` instead (further warnings are suppressed) ()\n"
     ]
    },
    {
     "name": "stdout",
     "output_type": "stream",
     "text": [
      "    3     27 9.632283594644382e-01 1.4e+00 2.77e-01  3e-01  3e-01 0:02.5\n",
      "    7     63 1.292476461077493e+00 2.0e+00 2.16e-01  2e-01  2e-01 0:05.7\n",
      "   12    108 9.198922270874790e-01 2.2e+00 1.92e-01  2e-01  2e-01 0:10.1\n",
      "   19    171 3.145354358632655e-01 3.7e+00 3.24e-01  2e-01  5e-01 0:15.9\n",
      "   27    243 -0.000000000000000e+00 4.9e+00 2.39e-01  1e-01  3e-01 0:22.7\n",
      "   35    315 -0.000000000000000e+00 5.7e+00 2.16e-01  8e-02  2e-01 0:29.9\n",
      "   44    396 -0.000000000000000e+00 9.6e+00 2.58e-01  6e-02  3e-01 0:38.6\n",
      "   53    477 -0.000000000000000e+00 1.7e+01 2.53e-01  5e-02  3e-01 0:48.1\n",
      "   63    567 -0.000000000000000e+00 2.7e+01 1.35e-01  3e-02  2e-01 0:58.9\n"
     ]
    },
    {
     "name": "stderr",
     "output_type": "stream",
     "text": [
      " /home/finley/miniconda3/envs/testsuite/lib/python3.8/site-packages/cma/utilities/utils.py:329: UserWarning:flat fitness (f=-0.000000, sigma=1.22e-01).\n",
      "                    For small sigma, this could indicate numerical convergence.\n",
      "                    Otherwise, please (re)consider how to compute the fitness more elaborately. (iteration=64)\n"
     ]
    },
    {
     "name": "stdout",
     "output_type": "stream",
     "text": [
      "   66    594 -0.000000000000000e+00 3.2e+01 1.11e-01  2e-02  1e-01 1:02.3\n"
     ]
    },
    {
     "name": "stderr",
     "output_type": "stream",
     "text": [
      "reconstraining parameters GP_regression.Mat52.lengthscale\n",
      "reconstraining parameters GP_regression.Mat52.variance\n"
     ]
    },
    {
     "name": "stdout",
     "output_type": "stream",
     "text": [
      "termination on tolfunhist=1e-12 (Tue Aug 25 01:48:18 2020)\n",
      "termination on flat fitness=please (re)consider how to compute the fitness more elaborately if sigma=1.11e-01 is large (Tue Aug 25 01:48:18 2020)\n",
      "final/bestever f-value = -0.000000e+00 -0.000000e+00\n",
      "incumbent solution: [1.7032412836840245, 1.9318000856621242, 3.7566418122210314, 6.123376547729283, 2.0927535612583137, 5.331393236938743]\n",
      "std deviation: [0.019201379818086974, 0.06197981878354864, 0.07954094136226483, 0.1349096497135412, 0.13735917818215976, 0.10990534784889733]\n"
     ]
    },
    {
     "name": "stderr",
     "output_type": "stream",
     "text": [
      "reconstraining parameters GP_regression.Gaussian_noise.variance\n"
     ]
    },
    {
     "name": "stdout",
     "output_type": "stream",
     "text": [
      "Optimization restart 1/10, f = 83.63533606851605\n",
      "Optimization restart 2/10, f = 118.00230717836433\n",
      "Optimization restart 3/10, f = 533.7608448705402\n",
      "Optimization restart 4/10, f = 119.0705750969249\n",
      "Optimization restart 5/10, f = 118.53032467291793\n",
      "Optimization restart 6/10, f = 197.5103790497309\n",
      "Optimization restart 7/10, f = 520.2663906774484\n",
      "Optimization restart 8/10, f = 4195397.885750466\n",
      "Optimization restart 9/10, f = 119.19083678919333\n"
     ]
    },
    {
     "name": "stderr",
     "output_type": "stream",
     "text": [
      "reconstraining parameters GP_regression.Mat52.lengthscale\n",
      "reconstraining parameters GP_regression.Mat52.variance\n",
      "reconstraining parameters GP_regression.Gaussian_noise.variance\n"
     ]
    },
    {
     "name": "stdout",
     "output_type": "stream",
     "text": [
      "Optimization restart 10/10, f = 2946720315.429163\n",
      "Optimization restart 1/10, f = 14.383523268744348\n",
      "Optimization restart 2/10, f = 560.7341263179461\n",
      "Optimization restart 3/10, f = 119.19083732690686\n",
      "Optimization restart 4/10, f = 72.60861444337476\n",
      "Optimization restart 5/10, f = 529.4411261752041\n",
      "Optimization restart 6/10, f = 525.2290089656943\n",
      "Optimization restart 7/10, f = 23.111521339048444\n",
      "Optimization restart 8/10, f = 82.24074930788711\n",
      "Optimization restart 9/10, f = 4195397.885750466\n",
      "Optimization restart 10/10, f = 118.95448108690073\n",
      "(4_w,9)-aCMA-ES (mu_w=2.8,w_1=49%) in dimension 6 (seed=428651, Tue Aug 25 01:48:23 2020)\n",
      "Iterat #Fevals   function value  axis ratio  sigma  min&max std  t[m:s]\n",
      "    1      9 2.942576474288413e+00 1.0e+00 2.42e-01  2e-01  3e-01 0:00.9\n"
     ]
    },
    {
     "name": "stderr",
     "output_type": "stream",
     "text": [
      " /home/finley/miniconda3/envs/testsuite/lib/python3.8/site-packages/cma/utilities/utils.py:329: UserWarning:function_values is not a list of scalars,\n",
      "                        the first element equals [2.94257647] with non-scalar type <class 'numpy.ndarray'>.\n",
      "                        Using now ``[v[0] for v in function_values]`` instead (further warnings are suppressed) ()\n"
     ]
    },
    {
     "name": "stdout",
     "output_type": "stream",
     "text": [
      "    2     18 2.812930885018258e+00 1.3e+00 2.59e-01  2e-01  3e-01 0:01.7\n"
     ]
    },
    {
     "name": "stderr",
     "output_type": "stream",
     "text": [
      " /home/finley/miniconda3/envs/testsuite/lib/python3.8/site-packages/cma/utilities/utils.py:329: UserWarning:function_values is not a list of scalars,\n",
      "                        the first element equals [3.16680654] with non-scalar type <class 'numpy.ndarray'>.\n",
      "                        Using now ``[v[0] for v in function_values]`` instead (further warnings are suppressed) ()\n"
     ]
    },
    {
     "name": "stdout",
     "output_type": "stream",
     "text": [
      "    3     27 2.753195947340834e+00 1.4e+00 2.63e-01  2e-01  3e-01 0:02.6\n",
      "    7     63 2.173658345813524e+00 2.0e+00 4.28e-01  4e-01  5e-01 0:06.2\n",
      "   12    108 9.635001768103193e-01 2.6e+00 7.68e-01  6e-01  1e+00 0:10.4\n",
      "   18    162 6.547916010006529e-01 3.7e+00 8.84e-01  7e-01  1e+00 0:15.5\n",
      "   25    225 4.810970085218274e-01 3.7e+00 5.94e-01  4e-01  8e-01 0:21.5\n",
      "   34    306 3.459291771861617e-01 4.3e+00 5.13e-01  3e-01  7e-01 0:29.0\n",
      "   42    378 -0.000000000000000e+00 5.2e+00 3.96e-01  1e-01  5e-01 0:37.9\n",
      "   49    441 -0.000000000000000e+00 7.4e+00 1.80e-01  5e-02  2e-01 0:47.6\n"
     ]
    },
    {
     "name": "stderr",
     "output_type": "stream",
     "text": [
      " /home/finley/miniconda3/envs/testsuite/lib/python3.8/site-packages/cma/utilities/utils.py:329: UserWarning:flat fitness (f=-0.000000, sigma=1.80e-01).\n",
      "                    For small sigma, this could indicate numerical convergence.\n",
      "                    Otherwise, please (re)consider how to compute the fitness more elaborately. (iteration=49)\n",
      " /home/finley/miniconda3/envs/testsuite/lib/python3.8/site-packages/cma/utilities/utils.py:329: UserWarning:flat fitness (f=-0.000000, sigma=2.18e-01).\n",
      "                    For small sigma, this could indicate numerical convergence.\n",
      "                    Otherwise, please (re)consider how to compute the fitness more elaborately. (iteration=52)\n"
     ]
    },
    {
     "name": "stdout",
     "output_type": "stream",
     "text": [
      "   55    495 -0.000000000000000e+00 6.7e+00 2.33e-01  6e-02  3e-01 0:58.8\n"
     ]
    },
    {
     "name": "stderr",
     "output_type": "stream",
     "text": [
      " /home/finley/miniconda3/envs/testsuite/lib/python3.8/site-packages/cma/utilities/utils.py:329: UserWarning:flat fitness (f=-0.000000, sigma=1.97e-01).\n",
      "                    For small sigma, this could indicate numerical convergence.\n",
      "                    Otherwise, please (re)consider how to compute the fitness more elaborately. (iteration=58)\n"
     ]
    },
    {
     "name": "stdout",
     "output_type": "stream",
     "text": [
      "   63    567 -0.000000000000000e+00 6.5e+00 2.08e-01  4e-02  2e-01 1:10.1\n"
     ]
    },
    {
     "name": "stderr",
     "output_type": "stream",
     "text": [
      " /home/finley/miniconda3/envs/testsuite/lib/python3.8/site-packages/cma/utilities/utils.py:329: UserWarning:flat fitness (f=-0.000000, sigma=1.95e-01).\n",
      "                    For small sigma, this could indicate numerical convergence.\n",
      "                    Otherwise, please (re)consider how to compute the fitness more elaborately. (iteration=65)\n",
      " /home/finley/miniconda3/envs/testsuite/lib/python3.8/site-packages/cma/utilities/utils.py:329: UserWarning:flat fitness (f=-0.000000, sigma=1.43e-01).\n",
      "                    For small sigma, this could indicate numerical convergence.\n",
      "                    Otherwise, please (re)consider how to compute the fitness more elaborately. (iteration=70)\n"
     ]
    },
    {
     "name": "stdout",
     "output_type": "stream",
     "text": [
      "   72    648 -0.000000000000000e+00 8.4e+00 1.47e-01  3e-02  1e-01 1:23.0\n"
     ]
    },
    {
     "name": "stderr",
     "output_type": "stream",
     "text": [
      " /home/finley/miniconda3/envs/testsuite/lib/python3.8/site-packages/cma/utilities/utils.py:329: UserWarning:flat fitness (f=-0.000000, sigma=1.47e-01).\n",
      "                    For small sigma, this could indicate numerical convergence.\n",
      "                    Otherwise, please (re)consider how to compute the fitness more elaborately. (iteration=72)\n"
     ]
    },
    {
     "name": "stdout",
     "output_type": "stream",
     "text": [
      "   80    720 -3.968482392897599e-04 1.6e+01 1.80e-01  2e-02  2e-01 1:36.7\n",
      "   89    801 -5.537685494769740e-04 2.2e+01 2.21e-01  2e-02  2e-01 1:50.9\n",
      "   98    882 -7.233641074821939e-04 2.9e+01 1.02e-01  7e-03  8e-02 2:06.2\n",
      "  100    900 -7.260691648367512e-04 3.1e+01 8.46e-02  5e-03  7e-02 2:09.0\n",
      "  110    990 -7.384011348010588e-04 4.6e+01 1.50e-01  6e-03  1e-01 2:26.6\n",
      "  122   1098 -8.039178193088858e-04 6.0e+01 1.19e-01  4e-03  1e-01 2:44.8\n",
      "  137   1233 -8.267198531242137e-04 1.1e+02 4.83e-02  1e-03  5e-02 3:05.1\n",
      "  146   1314 -8.294731755538187e-04 1.3e+02 3.70e-02  7e-04  4e-02 3:27.0\n",
      "  157   1413 -8.298830572108784e-04 2.0e+02 1.68e-02  2e-04  2e-02 3:48.9\n",
      "  175   1575 -8.299237702837914e-04 2.5e+02 2.84e-03  3e-05  2e-03 4:11.9\n",
      "  194   1746 -8.299248646044255e-04 2.4e+02 6.45e-04  4e-06  3e-04 4:35.6\n",
      "  200   1800 -8.299248786358682e-04 2.4e+02 4.56e-04  2e-06  2e-04 4:44.2\n",
      "  221   1989 -8.299248873075982e-04 2.6e+02 8.69e-05  3e-07  3e-05 5:09.8\n",
      "  232   2088 -8.299248875043297e-04 2.6e+02 3.93e-05  1e-07  9e-06 5:23.1\n"
     ]
    },
    {
     "name": "stderr",
     "output_type": "stream",
     "text": [
      "reconstraining parameters GP_regression.Mat52.lengthscale\n"
     ]
    },
    {
     "name": "stdout",
     "output_type": "stream",
     "text": [
      "termination on tolfun=1e-11 (Tue Aug 25 01:53:46 2020)\n",
      "final/bestever f-value = -8.299249e-04 -8.299249e-04\n",
      "incumbent solution: [1.3420262825087808, 0.11392773644155474, 1.3974068752096225, 6.528844040904111, 4.774880052238504, 10.724138200504603]\n",
      "std deviation: [1.1360226242538979e-07, 5.75414880647021e-07, 8.35513027593835e-07, 1.880480217879758e-06, 2.3115586542409417e-06, 9.002710485502753e-06]\n"
     ]
    },
    {
     "name": "stderr",
     "output_type": "stream",
     "text": [
      "reconstraining parameters GP_regression.Mat52.variance\n",
      "reconstraining parameters GP_regression.Gaussian_noise.variance\n"
     ]
    },
    {
     "name": "stdout",
     "output_type": "stream",
     "text": [
      "Optimization restart 1/10, f = 86.82015431326725\n",
      "Optimization restart 2/10, f = 567.4095324541379\n",
      "Optimization restart 3/10, f = 548.7054172239929\n",
      "Optimization restart 4/10, f = 158.58374994374347\n",
      "Optimization restart 5/10, f = 516.8503991688168\n",
      "Optimization restart 6/10, f = 567.4095325836358\n",
      "Optimization restart 7/10, f = 517.7339469096313\n",
      "Optimization restart 8/10, f = 156.27659861304699\n",
      "Optimization restart 9/10, f = 112.40949207496038\n"
     ]
    },
    {
     "name": "stderr",
     "output_type": "stream",
     "text": [
      "reconstraining parameters GP_regression.Mat52.lengthscale\n",
      "reconstraining parameters GP_regression.Mat52.variance\n",
      "reconstraining parameters GP_regression.Gaussian_noise.variance\n"
     ]
    },
    {
     "name": "stdout",
     "output_type": "stream",
     "text": [
      "Optimization restart 10/10, f = 517.2846391178495\n",
      "Optimization restart 1/10, f = 15.74152809923627\n",
      "Optimization restart 2/10, f = 16.264142174501046\n",
      "Optimization restart 3/10, f = 352.3062494348022\n",
      "Optimization restart 4/10, f = 567.4095325836358\n",
      "Optimization restart 5/10, f = 532.4041240357881\n",
      "Optimization restart 6/10, f = 567.4095325836358\n",
      "Optimization restart 7/10, f = 531.2236258673605\n",
      "Optimization restart 8/10, f = 99.9170391130121\n",
      "Optimization restart 9/10, f = 22.323927295895857\n",
      "Optimization restart 10/10, f = 515.7340588025747\n",
      "(4_w,9)-aCMA-ES (mu_w=2.8,w_1=49%) in dimension 6 (seed=388402, Tue Aug 25 01:53:52 2020)\n",
      "Iterat #Fevals   function value  axis ratio  sigma  min&max std  t[m:s]\n",
      "    1      9 7.288089651393697e-01 1.0e+00 2.63e-01  2e-01  3e-01 0:00.8\n"
     ]
    },
    {
     "name": "stderr",
     "output_type": "stream",
     "text": [
      " /home/finley/miniconda3/envs/testsuite/lib/python3.8/site-packages/cma/utilities/utils.py:329: UserWarning:function_values is not a list of scalars,\n",
      "                        the first element equals [0.72880897] with non-scalar type <class 'numpy.ndarray'>.\n",
      "                        Using now ``[v[0] for v in function_values]`` instead (further warnings are suppressed) ()\n"
     ]
    },
    {
     "name": "stdout",
     "output_type": "stream",
     "text": [
      "    2     18 6.272697303414581e-01 1.4e+00 2.69e-01  2e-01  3e-01 0:01.6\n"
     ]
    },
    {
     "name": "stderr",
     "output_type": "stream",
     "text": [
      " /home/finley/miniconda3/envs/testsuite/lib/python3.8/site-packages/cma/utilities/utils.py:329: UserWarning:function_values is not a list of scalars,\n",
      "                        the first element equals [0.8205705] with non-scalar type <class 'numpy.ndarray'>.\n",
      "                        Using now ``[v[0] for v in function_values]`` instead (further warnings are suppressed) ()\n"
     ]
    },
    {
     "name": "stdout",
     "output_type": "stream",
     "text": [
      "    3     27 -0.000000000000000e+00 1.4e+00 2.76e-01  2e-01  3e-01 0:02.5\n",
      "    7     63 -0.000000000000000e+00 1.8e+00 3.04e-01  3e-01  4e-01 0:06.1\n",
      "   12    108 -0.000000000000000e+00 2.4e+00 2.46e-01  2e-01  4e-01 0:10.6\n",
      "   18    162 -0.000000000000000e+00 3.2e+00 2.26e-01  1e-01  3e-01 0:16.1\n",
      "   25    225 -0.000000000000000e+00 4.4e+00 1.81e-01  1e-01  2e-01 0:22.8\n",
      "   32    288 -0.000000000000000e+00 5.9e+00 1.88e-01  1e-01  3e-01 0:30.2\n",
      "   40    360 -0.000000000000000e+00 7.7e+00 1.97e-01  1e-01  2e-01 0:39.3\n",
      "   48    432 -0.000000000000000e+00 7.5e+00 1.13e-01  5e-02  1e-01 0:48.7\n"
     ]
    },
    {
     "name": "stderr",
     "output_type": "stream",
     "text": [
      " /home/finley/miniconda3/envs/testsuite/lib/python3.8/site-packages/cma/utilities/utils.py:329: UserWarning:flat fitness (f=-0.000000, sigma=1.13e-01).\n",
      "                    For small sigma, this could indicate numerical convergence.\n",
      "                    Otherwise, please (re)consider how to compute the fitness more elaborately. (iteration=48)\n"
     ]
    },
    {
     "name": "stdout",
     "output_type": "stream",
     "text": [
      "   51    459 -0.000000000000000e+00 7.6e+00 9.09e-02  3e-02  1e-01 0:52.3\n"
     ]
    },
    {
     "name": "stderr",
     "output_type": "stream",
     "text": [
      "reconstraining parameters GP_regression.Mat52.lengthscale\n",
      "reconstraining parameters GP_regression.Mat52.variance\n",
      "reconstraining parameters GP_regression.Gaussian_noise.variance\n"
     ]
    },
    {
     "name": "stdout",
     "output_type": "stream",
     "text": [
      "termination on tolfunhist=1e-12 (Tue Aug 25 01:54:44 2020)\n",
      "termination on flat fitness=please (re)consider how to compute the fitness more elaborately if sigma=9.09e-02 is large (Tue Aug 25 01:54:44 2020)\n",
      "final/bestever f-value = -0.000000e+00 -0.000000e+00\n",
      "incumbent solution: [0.9799734261495928, 3.432773168971254, 4.192866630002091, 1.1566027455825427, 2.781724809865674, 8.917754857341508]\n",
      "std deviation: [0.0329496525814601, 0.0622426265768331, 0.05822194334620898, 0.06396710064263977, 0.10141159268366269, 0.08690121710595593]\n",
      "Optimization restart 1/10, f = 88.0935215431881\n",
      "Optimization restart 2/10, f = 527.6546199771627\n",
      "Optimization restart 3/10, f = 533.3475803708869\n",
      "Optimization restart 4/10, f = 550.952117406137\n",
      "Optimization restart 5/10, f = 523.942081447616\n",
      "Optimization restart 6/10, f = 546.8526447953506\n",
      "Optimization restart 7/10, f = 574.0849388493248\n",
      "Optimization restart 8/10, f = 574.0849384579809\n",
      "Optimization restart 9/10, f = 527.5436155510905\n"
     ]
    },
    {
     "name": "stderr",
     "output_type": "stream",
     "text": [
      "reconstraining parameters GP_regression.Mat52.lengthscale\n",
      "reconstraining parameters GP_regression.Mat52.variance\n",
      "reconstraining parameters GP_regression.Gaussian_noise.variance\n"
     ]
    },
    {
     "name": "stdout",
     "output_type": "stream",
     "text": [
      "Optimization restart 10/10, f = 545.6247319385715\n",
      "Optimization restart 1/10, f = 15.513235815188246\n",
      "Optimization restart 2/10, f = 540.9594022513045\n",
      "Optimization restart 3/10, f = 494.36534321578705\n",
      "Optimization restart 4/10, f = 71.34462383021386\n",
      "Optimization restart 5/10, f = 574.0849388493258\n",
      "Optimization restart 6/10, f = 2467969430.9728055\n",
      "Optimization restart 7/10, f = 442.603836198333\n",
      "Optimization restart 8/10, f = 538.7110746334843\n",
      "Optimization restart 9/10, f = 25.331335204889427\n",
      "Optimization restart 10/10, f = 548.693874192207\n",
      "(4_w,9)-aCMA-ES (mu_w=2.8,w_1=49%) in dimension 6 (seed=427860, Tue Aug 25 01:54:49 2020)\n",
      "Iterat #Fevals   function value  axis ratio  sigma  min&max std  t[m:s]\n",
      "    1      9 9.982872971396559e-01 1.0e+00 2.24e-01  2e-01  2e-01 0:00.8\n"
     ]
    },
    {
     "name": "stderr",
     "output_type": "stream",
     "text": [
      " /home/finley/miniconda3/envs/testsuite/lib/python3.8/site-packages/cma/utilities/utils.py:329: UserWarning:function_values is not a list of scalars,\n",
      "                        the first element equals [1.96424038] with non-scalar type <class 'numpy.ndarray'>.\n",
      "                        Using now ``[v[0] for v in function_values]`` instead (further warnings are suppressed) ()\n"
     ]
    },
    {
     "name": "stdout",
     "output_type": "stream",
     "text": [
      "    2     18 8.574936039258099e-01 1.1e+00 2.06e-01  2e-01  2e-01 0:01.8\n"
     ]
    },
    {
     "name": "stderr",
     "output_type": "stream",
     "text": [
      " /home/finley/miniconda3/envs/testsuite/lib/python3.8/site-packages/cma/utilities/utils.py:329: UserWarning:function_values is not a list of scalars,\n",
      "                        the first element equals [1.80449671] with non-scalar type <class 'numpy.ndarray'>.\n",
      "                        Using now ``[v[0] for v in function_values]`` instead (further warnings are suppressed) ()\n"
     ]
    },
    {
     "name": "stdout",
     "output_type": "stream",
     "text": [
      "    3     27 9.689446809097493e-01 1.2e+00 1.99e-01  2e-01  2e-01 0:02.6\n",
      "    7     63 7.593617522190854e-01 1.7e+00 1.82e-01  1e-01  2e-01 0:06.2\n",
      "   12    108 7.632934957891018e-01 2.7e+00 1.74e-01  1e-01  2e-01 0:10.7\n",
      "   18    162 6.679252961285547e-01 4.1e+00 2.12e-01  8e-02  3e-01 0:16.1\n",
      "   25    225 6.345815604570977e-01 7.2e+00 1.64e-01  3e-02  2e-01 0:22.2\n",
      "   33    297 6.198819863499974e-01 1.2e+01 1.20e-01  1e-02  2e-01 0:29.4\n",
      "   43    387 6.085279183838195e-01 1.7e+01 6.18e-02  5e-03  7e-02 0:38.2\n",
      "   54    486 6.091152773672586e-01 3.5e+01 6.12e-02  4e-03  1e-01 0:48.1\n",
      "   66    594 6.056471583832046e-01 7.9e+01 3.21e-02  2e-03  5e-02 0:58.4\n",
      "   79    711 5.221651240777165e-01 1.3e+02 2.67e-01  1e-02  5e-01 1:10.2\n",
      "   93    837 4.174260628618642e-01 1.9e+02 2.86e-01  1e-02  4e-01 1:22.5\n",
      "  100    900 4.051133171133612e-01 2.0e+02 2.08e-01  9e-03  3e-01 1:28.7\n",
      "  116   1044 3.714188180420572e-01 2.6e+02 2.27e-01  8e-03  3e-01 1:42.7\n",
      "  134   1206 3.374220799271825e-01 4.7e+02 2.32e-01  6e-03  4e-01 1:58.4\n",
      "  152   1368 3.327450896193855e-01 6.4e+02 1.18e-01  2e-03  2e-01 2:14.8\n",
      "  172   1548 3.317056522702395e-01 8.1e+02 1.44e-01  2e-03  2e-01 2:32.3\n",
      "  193   1737 3.314945921514423e-01 1.3e+03 3.81e-02  4e-04  3e-02 2:50.7\n",
      "  200   1800 3.314871109091986e-01 1.9e+03 2.99e-02  3e-04  2e-02 2:57.1\n",
      "  223   2007 3.314650346842585e-01 5.0e+03 1.07e-02  6e-05  7e-03 3:17.4\n",
      "  248   2232 3.314602621295581e-01 1.3e+04 3.09e-03  2e-05  1e-03 3:39.1\n",
      "  273   2457 3.314601390188061e-01 5.0e+04 1.02e-03  6e-06  4e-04 4:01.2\n",
      "  296   2664 3.314601345766588e-01 2.0e+05 4.88e-04  3e-06  2e-04 4:25.3\n",
      "  300   2700 3.314601323382944e-01 1.9e+05 4.82e-04  3e-06  2e-04 4:30.2\n",
      "  324   2916 3.314601314314203e-01 5.3e+05 1.69e-04  8e-07  5e-05 4:55.9\n"
     ]
    },
    {
     "name": "stderr",
     "output_type": "stream",
     "text": [
      " /home/finley/miniconda3/envs/testsuite/lib/python3.8/site-packages/cma/utilities/utils.py:329: UserWarning:\n",
      "        geno-pheno transformation introduced based on the\n",
      "        current covariance matrix with condition 1.2e+12 -> 1.0e+00,\n",
      "        injected solutions become \"invalid\" in this iteration (class=CMAEvolutionStrategy method=alleviate_conditioning iteration=341)\n"
     ]
    },
    {
     "name": "stdout",
     "output_type": "stream",
     "text": [
      "  347   3123 3.314601310181378e-01 1.6e+00 1.09e-04  9e-05  1e-04 5:22.6\n",
      "  371   3339 3.314601307403884e-01 5.0e+00 1.50e-04  6e-05  2e-04 5:50.3\n",
      "  397   3573 3.314601306701530e-01 2.4e+01 7.01e-05  2e-05  9e-05 6:18.7\n",
      "  400   3600 3.314601306707980e-01 2.7e+01 5.35e-05  1e-05  7e-05 6:21.5\n",
      "  428   3852 3.314601306676497e-01 4.3e+01 3.10e-05  6e-06  3e-05 6:52.1\n",
      "termination on tolfun=1e-11 (Tue Aug 25 02:01:42 2020)\n",
      "final/bestever f-value = 3.314601e-01 3.314601e-01\n",
      "incumbent solution: [1.659389338736005, 1.8887228183719529, 4.9742196687185185, 5.741957781258407, 5.614182544321011, 4.951708129312465]\n",
      "std deviation: [5.7244345950275345e-06, 2.8081909463126012e-05, 1.3485192107965548e-05, 3.140280553316835e-05, 1.534271718444116e-05, 1.1588842711033625e-05]\n"
     ]
    },
    {
     "name": "stderr",
     "output_type": "stream",
     "text": [
      "reconstraining parameters GP_regression.Mat52.lengthscale\n",
      "reconstraining parameters GP_regression.Mat52.variance\n",
      "reconstraining parameters GP_regression.Gaussian_noise.variance\n"
     ]
    },
    {
     "name": "stdout",
     "output_type": "stream",
     "text": [
      "Optimization restart 1/10, f = 88.80618165673405\n",
      "Optimization restart 2/10, f = 552.4808314449813\n",
      "Optimization restart 3/10, f = 552.8109755253084\n",
      "Optimization restart 4/10, f = 526.3336075209871\n",
      "Optimization restart 5/10, f = 163.26512949328762\n",
      "Optimization restart 6/10, f = 477.5891053519695\n",
      "Optimization restart 7/10, f = 512.935042841047\n",
      "Optimization restart 8/10, f = 163.262300025968\n",
      "Optimization restart 9/10, f = 507.5691067584587\n"
     ]
    },
    {
     "name": "stderr",
     "output_type": "stream",
     "text": [
      "reconstraining parameters GP_regression.Mat52.lengthscale\n",
      "reconstraining parameters GP_regression.Mat52.variance\n",
      "reconstraining parameters GP_regression.Gaussian_noise.variance\n"
     ]
    },
    {
     "name": "stdout",
     "output_type": "stream",
     "text": [
      "Optimization restart 10/10, f = 549.534384940906\n",
      "Optimization restart 1/10, f = 16.06969064372376\n",
      "Optimization restart 2/10, f = 16.4216364773162\n",
      "Optimization restart 3/10, f = 472.68367030819485\n",
      "Optimization restart 4/10, f = 580.7603451150156\n",
      "Optimization restart 5/10, f = 16.06969068651925\n",
      "Optimization restart 6/10, f = 573.5910712363518\n",
      "Optimization restart 7/10, f = 553.041939705529\n",
      "Optimization restart 8/10, f = 123.44765261235634\n",
      "Optimization restart 9/10, f = 577.8581699115254\n",
      "Optimization restart 10/10, f = 95.57772939099078\n",
      "(4_w,9)-aCMA-ES (mu_w=2.8,w_1=49%) in dimension 6 (seed=442509, Tue Aug 25 02:02:08 2020)\n",
      "Iterat #Fevals   function value  axis ratio  sigma  min&max std  t[m:s]\n",
      "    1      9 1.450379752737023e+00 1.0e+00 2.44e-01  2e-01  3e-01 0:02.4\n"
     ]
    },
    {
     "name": "stderr",
     "output_type": "stream",
     "text": [
      " /home/finley/miniconda3/envs/testsuite/lib/python3.8/site-packages/cma/utilities/utils.py:329: UserWarning:function_values is not a list of scalars,\n",
      "                        the first element equals [2.41718298] with non-scalar type <class 'numpy.ndarray'>.\n",
      "                        Using now ``[v[0] for v in function_values]`` instead (further warnings are suppressed) ()\n"
     ]
    },
    {
     "name": "stdout",
     "output_type": "stream",
     "text": [
      "    2     18 8.623597002934711e-01 1.3e+00 2.57e-01  2e-01  3e-01 0:04.4\n"
     ]
    },
    {
     "name": "stderr",
     "output_type": "stream",
     "text": [
      " /home/finley/miniconda3/envs/testsuite/lib/python3.8/site-packages/cma/utilities/utils.py:329: UserWarning:function_values is not a list of scalars,\n",
      "                        the first element equals [2.29510383] with non-scalar type <class 'numpy.ndarray'>.\n",
      "                        Using now ``[v[0] for v in function_values]`` instead (further warnings are suppressed) ()\n"
     ]
    },
    {
     "name": "stdout",
     "output_type": "stream",
     "text": [
      "    3     27 -0.000000000000000e+00 1.3e+00 3.21e-01  3e-01  3e-01 0:06.5\n",
      "    6     54 5.688481766695617e-01 1.6e+00 3.26e-01  3e-01  3e-01 0:11.1\n",
      "   11     99 -0.000000000000000e+00 1.9e+00 1.70e-01  1e-01  2e-01 0:15.9\n",
      "   16    144 -0.000000000000000e+00 2.4e+00 1.42e-01  9e-02  2e-01 0:21.1\n",
      "   22    198 -0.000000000000000e+00 2.9e+00 8.35e-02  4e-02  9e-02 0:28.0\n"
     ]
    },
    {
     "name": "stderr",
     "output_type": "stream",
     "text": [
      " /home/finley/miniconda3/envs/testsuite/lib/python3.8/site-packages/cma/utilities/utils.py:329: UserWarning:flat fitness (f=-0.000000, sigma=9.05e-02).\n",
      "                    For small sigma, this could indicate numerical convergence.\n",
      "                    Otherwise, please (re)consider how to compute the fitness more elaborately. (iteration=24)\n"
     ]
    },
    {
     "name": "stdout",
     "output_type": "stream",
     "text": [
      "   28    252 -0.000000000000000e+00 3.7e+00 8.96e-02  4e-02  1e-01 0:35.4\n"
     ]
    },
    {
     "name": "stderr",
     "output_type": "stream",
     "text": [
      " /home/finley/miniconda3/envs/testsuite/lib/python3.8/site-packages/cma/utilities/utils.py:329: UserWarning:flat fitness (f=-0.000000, sigma=8.34e-02).\n",
      "                    For small sigma, this could indicate numerical convergence.\n",
      "                    Otherwise, please (re)consider how to compute the fitness more elaborately. (iteration=29)\n"
     ]
    },
    {
     "name": "stdout",
     "output_type": "stream",
     "text": [
      "   35    315 -0.000000000000000e+00 4.7e+00 7.51e-02  3e-02  1e-01 0:44.0\n",
      "   43    387 -0.000000000000000e+00 6.5e+00 8.87e-02  2e-02  1e-01 0:53.8\n",
      "termination on tolfunhist=1e-12 (Tue Aug 25 02:03:02 2020)\n",
      "termination on flat fitness=please (re)consider how to compute the fitness more elaborately if sigma=8.87e-02 is large (Tue Aug 25 02:03:02 2020)\n",
      "final/bestever f-value = -0.000000e+00 -0.000000e+00\n",
      "incumbent solution: [1.015187241637909, 0.48692509818019336, 1.7294010897830305, 6.0556120074268485, 3.004444207625762, 1.9926656884518064]\n",
      "std deviation: [0.024932815121259323, 0.04875579369366924, 0.07408746092533453, 0.10827784247663004, 0.046292119153575555, 0.09490735938982717]\n"
     ]
    },
    {
     "name": "stderr",
     "output_type": "stream",
     "text": [
      "reconstraining parameters GP_regression.Mat52.lengthscale\n",
      "reconstraining parameters GP_regression.Mat52.variance\n",
      "reconstraining parameters GP_regression.Gaussian_noise.variance\n"
     ]
    },
    {
     "name": "stdout",
     "output_type": "stream",
     "text": [
      "Optimization restart 1/10, f = 89.89398351985866\n",
      "Optimization restart 2/10, f = 124.8665909220112\n",
      "Optimization restart 3/10, f = 538.3189658942389\n",
      "Optimization restart 4/10, f = 515.3183610896725\n",
      "Optimization restart 5/10, f = 288.3985614199794\n",
      "Optimization restart 6/10, f = 587.4357513807056\n",
      "Optimization restart 7/10, f = 124.86659092201118\n",
      "Optimization restart 8/10, f = 575.0304942936261\n",
      "Optimization restart 9/10, f = 122.49602579880965\n"
     ]
    },
    {
     "name": "stderr",
     "output_type": "stream",
     "text": [
      "reconstraining parameters GP_regression.Mat52.lengthscale\n",
      "reconstraining parameters GP_regression.Mat52.variance\n",
      "reconstraining parameters GP_regression.Gaussian_noise.variance\n"
     ]
    },
    {
     "name": "stdout",
     "output_type": "stream",
     "text": [
      "Optimization restart 10/10, f = 124.8665909220112\n",
      "Optimization restart 1/10, f = 15.350019298259937\n",
      "Optimization restart 2/10, f = 557.0199844913024\n",
      "Optimization restart 3/10, f = 4395178.737452868\n",
      "Optimization restart 4/10, f = 15.686457728686271\n",
      "Optimization restart 5/10, f = 577.2345793074542\n",
      "Optimization restart 6/10, f = 555.7523290581216\n",
      "Optimization restart 7/10, f = 74.91728260387534\n",
      "Optimization restart 8/10, f = 556.7307849198392\n",
      "Optimization restart 9/10, f = 124.8665909220112\n",
      "Optimization restart 10/10, f = 556.0658241744673\n",
      "(4_w,9)-aCMA-ES (mu_w=2.8,w_1=49%) in dimension 6 (seed=335430, Tue Aug 25 02:03:08 2020)\n",
      "Iterat #Fevals   function value  axis ratio  sigma  min&max std  t[m:s]\n",
      "    1      9 1.577445954952350e+00 1.0e+00 2.55e-01  2e-01  3e-01 0:00.8\n"
     ]
    },
    {
     "name": "stderr",
     "output_type": "stream",
     "text": [
      " /home/finley/miniconda3/envs/testsuite/lib/python3.8/site-packages/cma/utilities/utils.py:329: UserWarning:function_values is not a list of scalars,\n",
      "                        the first element equals [1.70242223] with non-scalar type <class 'numpy.ndarray'>.\n",
      "                        Using now ``[v[0] for v in function_values]`` instead (further warnings are suppressed) ()\n"
     ]
    },
    {
     "name": "stdout",
     "output_type": "stream",
     "text": [
      "    2     18 1.523865560766432e+00 1.3e+00 2.71e-01  3e-01  3e-01 0:01.8\n"
     ]
    },
    {
     "name": "stderr",
     "output_type": "stream",
     "text": [
      " /home/finley/miniconda3/envs/testsuite/lib/python3.8/site-packages/cma/utilities/utils.py:329: UserWarning:function_values is not a list of scalars,\n",
      "                        the first element equals [1.77084355] with non-scalar type <class 'numpy.ndarray'>.\n",
      "                        Using now ``[v[0] for v in function_values]`` instead (further warnings are suppressed) ()\n"
     ]
    },
    {
     "name": "stdout",
     "output_type": "stream",
     "text": [
      "    3     27 1.465910021084785e+00 1.5e+00 2.77e-01  2e-01  3e-01 0:02.7\n",
      "    6     54 1.161364036371813e+00 2.0e+00 3.57e-01  3e-01  5e-01 0:05.8\n",
      "   11     99 7.414889937680615e-01 2.5e+00 4.62e-01  3e-01  6e-01 0:10.7\n",
      "   17    153 8.766099598729327e-01 3.4e+00 4.85e-01  2e-01  6e-01 0:16.3\n",
      "   24    216 -0.000000000000000e+00 3.3e+00 5.62e-01  3e-01  7e-01 0:22.9\n",
      "   31    279 -0.000000000000000e+00 3.9e+00 3.67e-01  2e-01  4e-01 0:29.9\n",
      "   40    360 -0.000000000000000e+00 5.6e+00 2.92e-01  1e-01  4e-01 0:38.9\n",
      "   48    432 -0.000000000000000e+00 7.2e+00 1.40e-01  4e-02  2e-01 0:48.5\n"
     ]
    },
    {
     "name": "stderr",
     "output_type": "stream",
     "text": [
      " /home/finley/miniconda3/envs/testsuite/lib/python3.8/site-packages/cma/utilities/utils.py:329: UserWarning:flat fitness (f=-0.000000, sigma=1.24e-01).\n",
      "                    For small sigma, this could indicate numerical convergence.\n",
      "                    Otherwise, please (re)consider how to compute the fitness more elaborately. (iteration=49)\n",
      " /home/finley/miniconda3/envs/testsuite/lib/python3.8/site-packages/cma/utilities/utils.py:329: UserWarning:flat fitness (f=-0.000000, sigma=1.34e-01).\n",
      "                    For small sigma, this could indicate numerical convergence.\n",
      "                    Otherwise, please (re)consider how to compute the fitness more elaborately. (iteration=50)\n",
      " /home/finley/miniconda3/envs/testsuite/lib/python3.8/site-packages/cma/utilities/utils.py:329: UserWarning:flat fitness (f=-0.000000, sigma=1.49e-01).\n",
      "                    For small sigma, this could indicate numerical convergence.\n",
      "                    Otherwise, please (re)consider how to compute the fitness more elaborately. (iteration=52)\n",
      " /home/finley/miniconda3/envs/testsuite/lib/python3.8/site-packages/cma/utilities/utils.py:329: UserWarning:flat fitness (f=-0.000000, sigma=1.81e-01).\n",
      "                    For small sigma, this could indicate numerical convergence.\n",
      "                    Otherwise, please (re)consider how to compute the fitness more elaborately. (iteration=54)\n"
     ]
    },
    {
     "name": "stdout",
     "output_type": "stream",
     "text": [
      "   56    504 -0.000000000000000e+00 7.5e+00 2.04e-01  4e-02  2e-01 0:58.9\n"
     ]
    },
    {
     "name": "stderr",
     "output_type": "stream",
     "text": [
      " /home/finley/miniconda3/envs/testsuite/lib/python3.8/site-packages/cma/utilities/utils.py:329: UserWarning:flat fitness (f=-0.000000, sigma=1.76e-01).\n",
      "                    For small sigma, this could indicate numerical convergence.\n",
      "                    Otherwise, please (re)consider how to compute the fitness more elaborately. (iteration=61)\n"
     ]
    },
    {
     "name": "stdout",
     "output_type": "stream",
     "text": [
      "   66    594 -0.000000000000000e+00 7.1e+00 1.58e-01  3e-02  2e-01 1:11.0\n",
      "termination on tolfunhist=1e-12 (Tue Aug 25 02:04:19 2020)\n",
      "final/bestever f-value = -0.000000e+00 -0.000000e+00\n",
      "incumbent solution: [0.911320672868007, 3.517151350852836, 4.018872825464904, 1.7050845870731628, 6.640667794460186, 7.698683698163857]\n",
      "std deviation: [0.03114454805523038, 0.07146031080006049, 0.08027245337358686, 0.13145673869773047, 0.12545597154549082, 0.1543649904426123]\n"
     ]
    },
    {
     "name": "stderr",
     "output_type": "stream",
     "text": [
      "reconstraining parameters GP_regression.Mat52.lengthscale\n",
      "reconstraining parameters GP_regression.Mat52.variance\n",
      "reconstraining parameters GP_regression.Gaussian_noise.variance\n"
     ]
    },
    {
     "name": "stdout",
     "output_type": "stream",
     "text": [
      "Optimization restart 1/10, f = 90.94232170337676\n",
      "Optimization restart 2/10, f = 91.40615499759991\n",
      "Optimization restart 3/10, f = 562.337529572544\n",
      "Optimization restart 4/10, f = 562.4599078329964\n",
      "Optimization restart 5/10, f = 577.0690844086089\n",
      "Optimization restart 6/10, f = 99.39457977319697\n",
      "Optimization restart 7/10, f = 542.9106349927685\n",
      "Optimization restart 8/10, f = 594.1111576463953\n"
     ]
    },
    {
     "name": "stderr",
     "output_type": "stream",
     "text": [
      "reconstraining parameters GP_regression.Mat52.lengthscale\n",
      "reconstraining parameters GP_regression.Mat52.variance\n",
      "reconstraining parameters GP_regression.Gaussian_noise.variance\n"
     ]
    },
    {
     "name": "stdout",
     "output_type": "stream",
     "text": [
      "Optimization restart 9/10, f = 566.6126421870413\n",
      "Optimization restart 10/10, f = 594.1111576463953\n",
      "Optimization restart 1/10, f = 14.946289599546809\n",
      "Optimization restart 2/10, f = 658.4516706163683\n",
      "Optimization restart 3/10, f = 15.20875195765067\n",
      "Optimization restart 4/10, f = 73.43532177468092\n",
      "Optimization restart 5/10, f = 484.85354646095885\n",
      "Optimization restart 6/10, f = 14.946289599540549\n",
      "Optimization restart 7/10, f = 14.946289599416765\n",
      "Optimization restart 8/10, f = 15.208753072019249\n",
      "Optimization restart 9/10, f = 538.2688606396397\n",
      "Optimization restart 10/10, f = 15.208753072019825\n",
      "(4_w,9)-aCMA-ES (mu_w=2.8,w_1=49%) in dimension 6 (seed=330484, Tue Aug 25 02:04:26 2020)\n",
      "Iterat #Fevals   function value  axis ratio  sigma  min&max std  t[m:s]\n",
      "    1      9 1.658090512487788e+00 1.0e+00 2.30e-01  2e-01  2e-01 0:00.9\n"
     ]
    },
    {
     "name": "stderr",
     "output_type": "stream",
     "text": [
      " /home/finley/miniconda3/envs/testsuite/lib/python3.8/site-packages/cma/utilities/utils.py:329: UserWarning:function_values is not a list of scalars,\n",
      "                        the first element equals [2.8278427] with non-scalar type <class 'numpy.ndarray'>.\n",
      "                        Using now ``[v[0] for v in function_values]`` instead (further warnings are suppressed) ()\n"
     ]
    },
    {
     "name": "stdout",
     "output_type": "stream",
     "text": [
      "    2     18 1.441659328371165e+00 1.2e+00 2.35e-01  2e-01  2e-01 0:01.9\n"
     ]
    },
    {
     "name": "stderr",
     "output_type": "stream",
     "text": [
      " /home/finley/miniconda3/envs/testsuite/lib/python3.8/site-packages/cma/utilities/utils.py:329: UserWarning:function_values is not a list of scalars,\n",
      "                        the first element equals [1.604] with non-scalar type <class 'numpy.ndarray'>.\n",
      "                        Using now ``[v[0] for v in function_values]`` instead (further warnings are suppressed) ()\n"
     ]
    },
    {
     "name": "stdout",
     "output_type": "stream",
     "text": [
      "    3     27 1.406293062862676e+00 1.4e+00 2.14e-01  2e-01  2e-01 0:02.8\n",
      "    7     63 4.261894025399950e-01 2.0e+00 4.30e-01  3e-01  5e-01 0:06.6\n",
      "   12    108 2.420940384685886e-01 2.5e+00 6.08e-01  3e-01  7e-01 0:11.4\n",
      "   17    153 -4.765536426491135e-03 3.5e+00 5.19e-01  2e-01  7e-01 0:16.8\n",
      "   23    207 -9.619742956101796e-04 6.1e+00 6.23e-01  2e-01  9e-01 0:22.8\n",
      "   29    261 -1.533433932858097e-02 6.8e+00 3.32e-01  7e-02  5e-01 0:30.4\n",
      "   35    315 -1.675815552186322e-02 6.5e+00 2.35e-01  6e-02  3e-01 0:38.5\n",
      "   42    378 -3.732258135119881e-02 9.1e+00 2.54e-01  6e-02  4e-01 0:48.4\n",
      "   50    450 -4.185617056397950e-02 1.1e+01 2.37e-01  4e-02  4e-01 0:59.4\n",
      "   58    522 -4.390618676690217e-02 1.4e+01 1.41e-01  2e-02  2e-01 1:10.7\n",
      "   67    603 -4.469958214309511e-02 1.4e+01 8.64e-02  8e-03  1e-01 1:23.3\n",
      "   77    693 -4.471411620695598e-02 2.0e+01 5.16e-02  4e-03  7e-02 1:37.2\n",
      "   87    783 -4.485264353302254e-02 2.1e+01 4.02e-02  3e-03  6e-02 1:51.4\n",
      "   98    882 -4.487307223799819e-02 2.3e+01 1.67e-02  8e-04  2e-02 2:06.6\n",
      "  100    900 -4.487333251440040e-02 2.4e+01 1.29e-02  6e-04  1e-02 2:09.4\n",
      "  113   1017 -4.487380456260670e-02 3.3e+01 2.76e-03  8e-05  2e-03 2:27.6\n",
      "  126   1134 -4.487382606820178e-02 3.1e+01 1.05e-03  3e-05  7e-04 2:46.4\n",
      "  140   1260 -4.487382961070763e-02 3.0e+01 2.33e-04  4e-06  1e-04 3:05.7\n",
      "  155   1395 -4.487382967653453e-02 2.4e+01 6.15e-05  9e-07  2e-05 3:26.7\n",
      "  170   1530 -4.487382967886200e-02 2.7e+01 1.96e-05  2e-07  5e-06 3:47.7\n",
      "  171   1539 -4.487382967895215e-02 2.6e+01 1.77e-05  2e-07  4e-06 3:49.0\n",
      "termination on tolfun=1e-11 (Tue Aug 25 02:08:15 2020)\n",
      "final/bestever f-value = -4.487383e-02 -4.487383e-02\n",
      "incumbent solution: [1.9999999999999842, 1.0104967448297571e-13, 3.9803572228127777, 1.4625787424619552, 7.509643683936008, 5.18591289854983]\n",
      "std deviation: [2.0633096303058082e-07, 2.6118589305057507e-07, 5.465095118389576e-07, 7.534916435802411e-07, 1.4956063340665033e-06, 4.466716117385991e-06]\n"
     ]
    },
    {
     "name": "stderr",
     "output_type": "stream",
     "text": [
      "reconstraining parameters GP_regression.Mat52.lengthscale\n",
      "reconstraining parameters GP_regression.Mat52.variance\n",
      "reconstraining parameters GP_regression.Gaussian_noise.variance\n"
     ]
    },
    {
     "name": "stdout",
     "output_type": "stream",
     "text": [
      "Optimization restart 1/10, f = 93.33115233049253\n",
      "Optimization restart 2/10, f = 124.72314367747835\n",
      "Optimization restart 3/10, f = 172.49651631312247\n",
      "Optimization restart 4/10, f = 124.00535940104695\n",
      "Optimization restart 5/10, f = 560.1356971513347\n",
      "Optimization restart 6/10, f = 122.99828696393405\n",
      "Optimization restart 7/10, f = 585.1537011699181\n",
      "Optimization restart 8/10, f = 531.2653112255745\n",
      "Optimization restart 9/10, f = 565.8790908097259\n"
     ]
    },
    {
     "name": "stderr",
     "output_type": "stream",
     "text": [
      "reconstraining parameters GP_regression.Mat52.lengthscale\n",
      "reconstraining parameters GP_regression.Mat52.variance\n",
      "reconstraining parameters GP_regression.Gaussian_noise.variance\n"
     ]
    },
    {
     "name": "stdout",
     "output_type": "stream",
     "text": [
      "Optimization restart 10/10, f = 92.68233828465372\n",
      "Optimization restart 1/10, f = 16.25644962914592\n",
      "Optimization restart 2/10, f = 520.770256590745\n",
      "Optimization restart 3/10, f = 30.231780528672203\n",
      "Optimization restart 4/10, f = 16.256449632208152\n",
      "Optimization restart 5/10, f = 600.7865639120852\n",
      "Optimization restart 6/10, f = 566.8736452696069\n",
      "Optimization restart 7/10, f = 92.37565596490754\n",
      "Optimization restart 8/10, f = 16.256449637301998\n",
      "Optimization restart 9/10, f = 58.04045252522731\n",
      "Optimization restart 10/10, f = 469.3263783273669\n",
      "(4_w,9)-aCMA-ES (mu_w=2.8,w_1=49%) in dimension 6 (seed=392423, Tue Aug 25 02:08:23 2020)\n",
      "Iterat #Fevals   function value  axis ratio  sigma  min&max std  t[m:s]\n",
      "    1      9 2.036587892565902e+00 1.0e+00 2.66e-01  3e-01  3e-01 0:01.0\n"
     ]
    },
    {
     "name": "stderr",
     "output_type": "stream",
     "text": [
      " /home/finley/miniconda3/envs/testsuite/lib/python3.8/site-packages/cma/utilities/utils.py:329: UserWarning:function_values is not a list of scalars,\n",
      "                        the first element equals [2.03658789] with non-scalar type <class 'numpy.ndarray'>.\n",
      "                        Using now ``[v[0] for v in function_values]`` instead (further warnings are suppressed) ()\n"
     ]
    },
    {
     "name": "stdout",
     "output_type": "stream",
     "text": [
      "    2     18 1.914260640670482e+00 1.3e+00 2.60e-01  2e-01  3e-01 0:02.1\n"
     ]
    },
    {
     "name": "stderr",
     "output_type": "stream",
     "text": [
      " /home/finley/miniconda3/envs/testsuite/lib/python3.8/site-packages/cma/utilities/utils.py:329: UserWarning:function_values is not a list of scalars,\n",
      "                        the first element equals [2.98044215] with non-scalar type <class 'numpy.ndarray'>.\n",
      "                        Using now ``[v[0] for v in function_values]`` instead (further warnings are suppressed) ()\n"
     ]
    },
    {
     "name": "stdout",
     "output_type": "stream",
     "text": [
      "    3     27 1.614173107500103e+00 1.3e+00 2.68e-01  2e-01  3e-01 0:03.1\n",
      "    7     63 1.477117610772664e+00 1.6e+00 2.61e-01  2e-01  3e-01 0:06.9\n",
      "   12    108 1.377935352897625e+00 1.9e+00 2.72e-01  2e-01  3e-01 0:11.6\n",
      "   18    162 9.082584666022933e-01 3.7e+00 5.62e-01  3e-01  7e-01 0:17.5\n",
      "   25    225 -0.000000000000000e+00 5.4e+00 9.82e-01  4e-01  1e+00 0:24.2\n",
      "   32    288 -0.000000000000000e+00 6.7e+00 5.96e-01  2e-01  8e-01 0:31.6\n",
      "   38    342 -0.000000000000000e+00 9.9e+00 3.99e-01  9e-02  6e-01 0:40.6\n"
     ]
    },
    {
     "name": "stderr",
     "output_type": "stream",
     "text": [
      " /home/finley/miniconda3/envs/testsuite/lib/python3.8/site-packages/cma/utilities/utils.py:329: UserWarning:flat fitness (f=-0.000000, sigma=3.19e-01).\n",
      "                    For small sigma, this could indicate numerical convergence.\n",
      "                    Otherwise, please (re)consider how to compute the fitness more elaborately. (iteration=43)\n"
     ]
    },
    {
     "name": "stdout",
     "output_type": "stream",
     "text": [
      "   44    396 -0.000000000000000e+00 1.2e+01 3.55e-01  6e-02  5e-01 0:51.0\n"
     ]
    },
    {
     "name": "stderr",
     "output_type": "stream",
     "text": [
      " /home/finley/miniconda3/envs/testsuite/lib/python3.8/site-packages/cma/utilities/utils.py:329: UserWarning:flat fitness (f=-0.000000, sigma=3.90e-01).\n",
      "                    For small sigma, this could indicate numerical convergence.\n",
      "                    Otherwise, please (re)consider how to compute the fitness more elaborately. (iteration=47)\n"
     ]
    },
    {
     "name": "stdout",
     "output_type": "stream",
     "text": [
      "   50    450 -1.273489798002458e-03 1.4e+01 3.33e-01  5e-02  6e-01 1:01.6\n",
      "   57    513 -1.091031268526299e-02 1.7e+01 7.62e-01  8e-02  1e+00 1:12.8\n",
      "   64    576 -1.835879652495631e-02 2.1e+01 5.07e-01  4e-02  9e-01 1:24.8\n",
      "   71    639 -2.571787732358732e-02 1.8e+01 3.28e-01  3e-02  4e-01 1:38.6\n",
      "   80    720 -2.725735577246935e-02 1.9e+01 1.30e-01  8e-03  1e-01 1:54.3\n",
      "   88    792 -2.765333390687719e-02 3.2e+01 8.33e-02  4e-03  9e-02 2:09.8\n",
      "   97    873 -2.784361867928942e-02 3.3e+01 8.57e-02  3e-03  1e-01 2:26.5\n",
      "  100    900 -2.784082672230692e-02 4.0e+01 9.03e-02  3e-03  1e-01 2:33.8\n",
      "  113   1017 -2.792940855045156e-02 6.8e+01 5.85e-02  1e-03  8e-02 2:52.6\n",
      "  125   1125 -2.793225652133158e-02 6.4e+01 2.06e-02  4e-04  2e-02 3:13.4\n",
      "  134   1206 -2.793347693228521e-02 6.9e+01 8.66e-03  1e-04  8e-03 3:33.9\n",
      "  144   1296 -2.793365276655635e-02 9.0e+01 4.49e-03  6e-05  4e-03 3:55.0\n",
      "  160   1440 -2.793367559324311e-02 8.3e+01 1.49e-03  1e-05  1e-03 4:17.9\n",
      "  177   1593 -2.793367734116359e-02 8.7e+01 3.92e-04  3e-06  2e-04 4:42.1\n",
      "  194   1746 -2.793367736101082e-02 9.9e+01 8.25e-05  3e-07  3e-05 5:07.3\n",
      "  200   1800 -2.793367736108232e-02 9.4e+01 4.60e-05  2e-07  1e-05 5:15.6\n",
      "  209   1881 -2.793367736126218e-02 8.7e+01 2.26e-05  7e-08  5e-06 5:28.4\n",
      "termination on tolfun=1e-11 (Tue Aug 25 02:13:52 2020)\n",
      "final/bestever f-value = -2.793368e-02 -2.793368e-02\n",
      "incumbent solution: [0.5538014006962971, 3.6683624102440193, 2.9320985929827454, 2.015375098645579, 4.854220984754196, 4.718663184107244]\n",
      "std deviation: [7.348851467079157e-08, 1.320772016717067e-07, 4.689038749841098e-06, 4.2898399557968744e-07, 6.070153024651588e-07, 1.8304197436446901e-06]\n"
     ]
    },
    {
     "name": "stderr",
     "output_type": "stream",
     "text": [
      "reconstraining parameters GP_regression.Mat52.lengthscale\n",
      "reconstraining parameters GP_regression.Mat52.variance\n",
      "reconstraining parameters GP_regression.Gaussian_noise.variance\n"
     ]
    },
    {
     "name": "stdout",
     "output_type": "stream",
     "text": [
      "Optimization restart 1/10, f = 92.54916486356186\n",
      "Optimization restart 2/10, f = 123.6142946672766\n",
      "Optimization restart 3/10, f = 560.3097665099979\n",
      "Optimization restart 4/10, f = 607.461970177775\n",
      "Optimization restart 5/10, f = 574.7086643835163\n",
      "Optimization restart 6/10, f = 591.3675997148797\n",
      "Optimization restart 7/10, f = 592.7837466103099\n",
      "Optimization restart 8/10, f = 583.2616058838192\n",
      "Optimization restart 9/10, f = 129.12340596524794\n"
     ]
    },
    {
     "name": "stderr",
     "output_type": "stream",
     "text": [
      "reconstraining parameters GP_regression.Mat52.lengthscale\n",
      "reconstraining parameters GP_regression.Mat52.variance\n",
      "reconstraining parameters GP_regression.Gaussian_noise.variance\n"
     ]
    },
    {
     "name": "stdout",
     "output_type": "stream",
     "text": [
      "Optimization restart 10/10, f = 541.8835882564216\n",
      "Optimization restart 1/10, f = 14.259177175971203\n",
      "Optimization restart 2/10, f = 116.24179978541392\n",
      "Optimization restart 3/10, f = 126.67013272302168\n",
      "Optimization restart 4/10, f = 76.50457503046144\n",
      "Optimization restart 5/10, f = 562.0590073252774\n",
      "Optimization restart 6/10, f = 570.7780139289432\n",
      "Optimization restart 7/10, f = 568.8105969540351\n",
      "Optimization restart 8/10, f = 14.25917717759944\n",
      "Optimization restart 9/10, f = 547.9948223001138\n",
      "Optimization restart 10/10, f = 74.23289887058112\n",
      "(4_w,9)-aCMA-ES (mu_w=2.8,w_1=49%) in dimension 6 (seed=476797, Tue Aug 25 02:13:56 2020)\n",
      "Iterat #Fevals   function value  axis ratio  sigma  min&max std  t[m:s]\n",
      "    1      9 1.700282866365221e+00 1.0e+00 2.20e-01  2e-01  2e-01 0:01.0\n"
     ]
    },
    {
     "name": "stderr",
     "output_type": "stream",
     "text": [
      " /home/finley/miniconda3/envs/testsuite/lib/python3.8/site-packages/cma/utilities/utils.py:329: UserWarning:function_values is not a list of scalars,\n",
      "                        the first element equals [1.70028287] with non-scalar type <class 'numpy.ndarray'>.\n",
      "                        Using now ``[v[0] for v in function_values]`` instead (further warnings are suppressed) ()\n"
     ]
    },
    {
     "name": "stdout",
     "output_type": "stream",
     "text": [
      "    2     18 1.948703345860143e+00 1.2e+00 1.93e-01  2e-01  2e-01 0:01.9\n"
     ]
    },
    {
     "name": "stderr",
     "output_type": "stream",
     "text": [
      " /home/finley/miniconda3/envs/testsuite/lib/python3.8/site-packages/cma/utilities/utils.py:329: UserWarning:function_values is not a list of scalars,\n",
      "                        the first element equals [1.94870335] with non-scalar type <class 'numpy.ndarray'>.\n",
      "                        Using now ``[v[0] for v in function_values]`` instead (further warnings are suppressed) ()\n"
     ]
    },
    {
     "name": "stdout",
     "output_type": "stream",
     "text": [
      "    3     27 1.799511947857676e+00 1.2e+00 2.01e-01  2e-01  2e-01 0:03.0\n",
      "    7     63 4.826415241140745e-01 1.7e+00 2.30e-01  2e-01  3e-01 0:06.9\n",
      "   11     99 -0.000000000000000e+00 2.5e+00 3.07e-01  2e-01  4e-01 0:11.1\n",
      "   16    144 -3.503729758622676e-04 2.2e+00 2.33e-01  1e-01  3e-01 0:16.9\n",
      "   21    189 -3.823150941723252e-03 3.2e+00 2.34e-01  1e-01  3e-01 0:23.9\n",
      "   27    243 -1.927938535264850e-03 5.0e+00 2.42e-01  8e-02  3e-01 0:32.2\n",
      "   33    297 -7.827052963100378e-03 6.6e+00 4.26e-01  1e-01  7e-01 0:41.0\n",
      "   40    360 -8.882136416321629e-03 6.5e+00 2.85e-01  6e-02  4e-01 0:51.1\n",
      "   47    423 -9.769349967848395e-03 9.1e+00 1.61e-01  2e-02  2e-01 1:01.2\n",
      "   55    495 -1.079745086900052e-02 1.2e+01 1.65e-01  2e-02  2e-01 1:12.8\n",
      "   64    576 -1.094947301683025e-02 1.5e+01 8.06e-02  6e-03  9e-02 1:25.8\n",
      "   73    657 -1.118091783963626e-02 1.8e+01 8.02e-02  6e-03  8e-02 1:38.8\n",
      "   83    747 -1.189705684881437e-02 2.7e+01 1.55e-01  9e-03  2e-01 1:53.1\n",
      "   93    837 -1.240981786867845e-02 5.0e+01 1.74e-01  8e-03  4e-01 2:08.2\n",
      "  100    900 -1.257064936118502e-02 4.3e+01 8.51e-02  4e-03  1e-01 2:18.5\n",
      "  112   1008 -1.259136815597461e-02 5.8e+01 4.31e-02  1e-03  7e-02 2:35.9\n",
      "  125   1125 -1.259543609256797e-02 5.5e+01 2.45e-02  5e-04  3e-02 2:54.4\n",
      "  139   1251 -1.259588002565026e-02 6.7e+01 8.84e-03  1e-04  8e-03 3:14.8\n",
      "  153   1377 -1.259596847427291e-02 5.2e+01 3.40e-03  5e-05  2e-03 3:34.9\n",
      "  168   1512 -1.259597355582187e-02 3.7e+01 1.26e-03  1e-05  5e-04 3:56.3\n",
      "  184   1656 -1.259597385295708e-02 5.0e+01 3.10e-04  2e-06  1e-04 4:19.2\n",
      "  200   1800 -1.259597385922007e-02 4.8e+01 8.23e-05  4e-07  2e-05 4:42.3\n",
      "  213   1917 -1.259597385947764e-02 5.1e+01 1.99e-05  8e-08  3e-06 5:02.4\n",
      "termination on tolfun=1e-11 (Tue Aug 25 02:18:59 2020)\n",
      "final/bestever f-value = -1.259597e-02 -1.259597e-02\n",
      "incumbent solution: [0.48950528617006267, 3.802964143558371, 2.801206011460501, 2.031099631659904, 4.961686222114283, 3.6497434511949267]\n",
      "std deviation: [7.801954160846161e-08, 1.0523401134418292e-07, 3.1700193312159642e-06, 3.7697454131049705e-07, 5.908387144358217e-07, 1.49175023657885e-06]\n"
     ]
    },
    {
     "name": "stderr",
     "output_type": "stream",
     "text": [
      "reconstraining parameters GP_regression.Mat52.lengthscale\n",
      "reconstraining parameters GP_regression.Mat52.variance\n",
      "reconstraining parameters GP_regression.Gaussian_noise.variance\n"
     ]
    },
    {
     "name": "stdout",
     "output_type": "stream",
     "text": [
      "Optimization restart 1/10, f = 92.1683699153036\n",
      "Optimization restart 2/10, f = 545.0292034008755\n",
      "Optimization restart 3/10, f = 614.1373764434647\n",
      "Optimization restart 4/10, f = 226.1419331224988\n",
      "Optimization restart 5/10, f = 614.1373764434647\n",
      "Optimization restart 6/10, f = 592.9666831783683\n",
      "Optimization restart 7/10, f = 600.3057893942857\n",
      "Optimization restart 8/10, f = 172.53208633412737\n",
      "Optimization restart 9/10, f = 4594959.589155273\n"
     ]
    },
    {
     "name": "stderr",
     "output_type": "stream",
     "text": [
      "reconstraining parameters GP_regression.Mat52.lengthscale\n",
      "reconstraining parameters GP_regression.Mat52.variance\n",
      "reconstraining parameters GP_regression.Gaussian_noise.variance\n"
     ]
    },
    {
     "name": "stdout",
     "output_type": "stream",
     "text": [
      "Optimization restart 10/10, f = 478.3053334365379\n",
      "Optimization restart 1/10, f = 11.672424343456981\n",
      "Optimization restart 2/10, f = 561.0952825019216\n",
      "Optimization restart 3/10, f = 614.1373764434647\n",
      "Optimization restart 4/10, f = 614.1373764434647\n",
      "Optimization restart 5/10, f = 52849.48364192315\n",
      "Optimization restart 6/10, f = 119.28878815504541\n",
      "Optimization restart 7/10, f = 124.03946471648459\n",
      "Optimization restart 8/10, f = 16.67843352045609\n",
      "Optimization restart 9/10, f = 11.672424345069246\n",
      "Optimization restart 10/10, f = 590.4573499318377\n",
      "(4_w,9)-aCMA-ES (mu_w=2.8,w_1=49%) in dimension 6 (seed=426031, Tue Aug 25 02:19:05 2020)\n",
      "Iterat #Fevals   function value  axis ratio  sigma  min&max std  t[m:s]\n",
      "    1      9 1.643620547159053e+00 1.0e+00 2.36e-01  2e-01  2e-01 0:01.0\n"
     ]
    },
    {
     "name": "stderr",
     "output_type": "stream",
     "text": [
      " /home/finley/miniconda3/envs/testsuite/lib/python3.8/site-packages/cma/utilities/utils.py:329: UserWarning:function_values is not a list of scalars,\n",
      "                        the first element equals [1.651644] with non-scalar type <class 'numpy.ndarray'>.\n",
      "                        Using now ``[v[0] for v in function_values]`` instead (further warnings are suppressed) ()\n"
     ]
    },
    {
     "name": "stdout",
     "output_type": "stream",
     "text": [
      "    2     18 1.660551267683378e+00 1.3e+00 2.21e-01  2e-01  2e-01 0:02.3\n"
     ]
    },
    {
     "name": "stderr",
     "output_type": "stream",
     "text": [
      " /home/finley/miniconda3/envs/testsuite/lib/python3.8/site-packages/cma/utilities/utils.py:329: UserWarning:function_values is not a list of scalars,\n",
      "                        the first element equals [2.80338549] with non-scalar type <class 'numpy.ndarray'>.\n",
      "                        Using now ``[v[0] for v in function_values]`` instead (further warnings are suppressed) ()\n"
     ]
    },
    {
     "name": "stdout",
     "output_type": "stream",
     "text": [
      "    3     27 1.689398624121919e+00 1.3e+00 2.26e-01  2e-01  2e-01 0:04.0\n",
      "    6     54 1.508179869913139e+00 1.8e+00 2.87e-01  2e-01  4e-01 0:08.1\n",
      "    9     81 1.417992378600964e+00 2.1e+00 3.64e-01  2e-01  4e-01 0:12.3\n",
      "   13    117 1.233228396462356e+00 3.1e+00 3.55e-01  2e-01  4e-01 0:18.1\n",
      "   19    171 1.173793168292307e+00 3.3e+00 3.48e-01  2e-01  4e-01 0:24.6\n",
      "   25    225 1.076073931814379e+00 5.0e+00 2.67e-01  1e-01  3e-01 0:32.1\n",
      "   32    288 9.676343272553247e-01 6.6e+00 2.48e-01  8e-02  3e-01 0:40.3\n",
      "   38    342 8.557995456545426e-01 7.9e+00 2.62e-01  6e-02  3e-01 0:49.6\n",
      "   47    423 4.136898085597271e-01 1.6e+01 5.49e-01  1e-01  8e-01 1:00.5\n",
      "   56    504 -0.000000000000000e+00 1.9e+01 5.94e-01  9e-02  8e-01 1:11.9\n",
      "   64    576 -0.000000000000000e+00 1.8e+01 6.34e-01  8e-02  8e-01 1:25.0\n",
      "   73    657 -0.000000000000000e+00 2.0e+01 3.38e-01  3e-02  4e-01 1:39.2\n"
     ]
    },
    {
     "name": "stderr",
     "output_type": "stream",
     "text": [
      " /home/finley/miniconda3/envs/testsuite/lib/python3.8/site-packages/cma/utilities/utils.py:329: UserWarning:flat fitness (f=-0.000000, sigma=2.76e-01).\n",
      "                    For small sigma, this could indicate numerical convergence.\n",
      "                    Otherwise, please (re)consider how to compute the fitness more elaborately. (iteration=75)\n",
      " /home/finley/miniconda3/envs/testsuite/lib/python3.8/site-packages/cma/utilities/utils.py:329: UserWarning:flat fitness (f=-0.000000, sigma=2.55e-01).\n",
      "                    For small sigma, this could indicate numerical convergence.\n",
      "                    Otherwise, please (re)consider how to compute the fitness more elaborately. (iteration=77)\n"
     ]
    },
    {
     "name": "stdout",
     "output_type": "stream",
     "text": [
      "   79    711 -0.000000000000000e+00 2.6e+01 2.44e-01  2e-02  3e-01 1:53.4\n"
     ]
    },
    {
     "name": "stderr",
     "output_type": "stream",
     "text": [
      " /home/finley/miniconda3/envs/testsuite/lib/python3.8/site-packages/cma/utilities/utils.py:329: UserWarning:flat fitness (f=-0.000000, sigma=2.44e-01).\n",
      "                    For small sigma, this could indicate numerical convergence.\n",
      "                    Otherwise, please (re)consider how to compute the fitness more elaborately. (iteration=79)\n",
      " /home/finley/miniconda3/envs/testsuite/lib/python3.8/site-packages/cma/utilities/utils.py:329: UserWarning:flat fitness (f=-0.000000, sigma=2.77e-01).\n",
      "                    For small sigma, this could indicate numerical convergence.\n",
      "                    Otherwise, please (re)consider how to compute the fitness more elaborately. (iteration=81)\n",
      " /home/finley/miniconda3/envs/testsuite/lib/python3.8/site-packages/cma/utilities/utils.py:329: UserWarning:flat fitness (f=-0.000000, sigma=2.58e-01).\n",
      "                    For small sigma, this could indicate numerical convergence.\n",
      "                    Otherwise, please (re)consider how to compute the fitness more elaborately. (iteration=84)\n",
      " /home/finley/miniconda3/envs/testsuite/lib/python3.8/site-packages/cma/utilities/utils.py:329: UserWarning:flat fitness (f=-0.000000, sigma=2.72e-01).\n",
      "                    For small sigma, this could indicate numerical convergence.\n",
      "                    Otherwise, please (re)consider how to compute the fitness more elaborately. (iteration=85)\n",
      " /home/finley/miniconda3/envs/testsuite/lib/python3.8/site-packages/cma/utilities/utils.py:329: UserWarning:flat fitness (f=-0.000000, sigma=3.01e-01).\n",
      "                    For small sigma, this could indicate numerical convergence.\n",
      "                    Otherwise, please (re)consider how to compute the fitness more elaborately. (iteration=86)\n",
      " /home/finley/miniconda3/envs/testsuite/lib/python3.8/site-packages/cma/utilities/utils.py:329: UserWarning:flat fitness (f=-0.000000, sigma=3.17e-01).\n",
      "                    For small sigma, this could indicate numerical convergence.\n",
      "                    Otherwise, please (re)consider how to compute the fitness more elaborately. (iteration=87)\n"
     ]
    },
    {
     "name": "stdout",
     "output_type": "stream",
     "text": [
      "   90    810 -0.000000000000000e+00 3.5e+01 3.15e-01  2e-02  4e-01 2:09.4\n"
     ]
    },
    {
     "name": "stderr",
     "output_type": "stream",
     "text": [
      " /home/finley/miniconda3/envs/testsuite/lib/python3.8/site-packages/cma/utilities/utils.py:329: UserWarning:flat fitness (f=-0.000000, sigma=3.64e-01).\n",
      "                    For small sigma, this could indicate numerical convergence.\n",
      "                    Otherwise, please (re)consider how to compute the fitness more elaborately. (iteration=91)\n",
      " /home/finley/miniconda3/envs/testsuite/lib/python3.8/site-packages/cma/utilities/utils.py:329: UserWarning:flat fitness (f=-0.000000, sigma=4.51e-01).\n",
      "                    For small sigma, this could indicate numerical convergence.\n",
      "                    Otherwise, please (re)consider how to compute the fitness more elaborately. (iteration=95)\n",
      " /home/finley/miniconda3/envs/testsuite/lib/python3.8/site-packages/cma/utilities/utils.py:329: UserWarning:flat fitness (f=-0.000000, sigma=4.47e-01).\n",
      "                    For small sigma, this could indicate numerical convergence.\n",
      "                    Otherwise, please (re)consider how to compute the fitness more elaborately. (iteration=96)\n",
      " /home/finley/miniconda3/envs/testsuite/lib/python3.8/site-packages/cma/utilities/utils.py:329: UserWarning:flat fitness (f=-0.000000, sigma=3.32e-01).\n",
      "                    For small sigma, this could indicate numerical convergence.\n",
      "                    Otherwise, please (re)consider how to compute the fitness more elaborately. (iteration=99)\n"
     ]
    },
    {
     "name": "stdout",
     "output_type": "stream",
     "text": [
      "  100    900 -4.898174614886841e-05 2.9e+01 3.00e-01  2e-02  4e-01 2:26.3\n"
     ]
    },
    {
     "name": "stderr",
     "output_type": "stream",
     "text": [
      " /home/finley/miniconda3/envs/testsuite/lib/python3.8/site-packages/cma/utilities/utils.py:329: UserWarning:flat fitness (f=-0.000000, sigma=1.97e-01).\n",
      "                    For small sigma, this could indicate numerical convergence.\n",
      "                    Otherwise, please (re)consider how to compute the fitness more elaborately. (iteration=105)\n"
     ]
    },
    {
     "name": "stdout",
     "output_type": "stream",
     "text": [
      "  108    972 -3.969316122454103e-06 3.5e+01 1.76e-01  9e-03  2e-01 2:44.0\n"
     ]
    },
    {
     "name": "stderr",
     "output_type": "stream",
     "text": [
      " /home/finley/miniconda3/envs/testsuite/lib/python3.8/site-packages/cma/utilities/utils.py:329: UserWarning:flat fitness (f=-0.000000, sigma=1.82e-01).\n",
      "                    For small sigma, this could indicate numerical convergence.\n",
      "                    Otherwise, please (re)consider how to compute the fitness more elaborately. (iteration=109)\n",
      " /home/finley/miniconda3/envs/testsuite/lib/python3.8/site-packages/cma/utilities/utils.py:329: UserWarning:flat fitness (f=-0.000000, sigma=1.54e-01).\n",
      "                    For small sigma, this could indicate numerical convergence.\n",
      "                    Otherwise, please (re)consider how to compute the fitness more elaborately. (iteration=110)\n"
     ]
    },
    {
     "name": "stdout",
     "output_type": "stream",
     "text": [
      "  117   1053 -4.294072015431638e-05 5.3e+01 1.65e-01  7e-03  2e-01 3:02.7\n",
      "  129   1161 -1.211772945350909e-04 7.0e+01 9.99e-02  3e-03  1e-01 3:23.1\n",
      "  143   1287 -1.256612538100832e-04 8.2e+01 6.05e-02  1e-03  5e-02 3:43.5\n",
      "  158   1422 -1.313479944240470e-04 1.4e+02 7.02e-02  7e-04  6e-02 4:05.8\n",
      "  173   1557 -1.325603036397283e-04 1.9e+02 3.69e-02  3e-04  2e-02 4:29.0\n",
      "  189   1701 -1.326359811653077e-04 2.3e+02 7.92e-03  4e-05  3e-03 4:52.5\n",
      "  200   1800 -1.326380295130214e-04 2.5e+02 3.21e-03  1e-05  1e-03 5:08.7\n",
      "  217   1953 -1.326382374879920e-04 2.7e+02 5.77e-04  1e-06  2e-04 5:34.0\n",
      "  235   2115 -1.326382381394708e-04 2.1e+02 9.89e-05  1e-07  1e-05 6:00.3\n",
      "  242   2178 -1.326382381887647e-04 1.6e+02 5.60e-05  7e-08  6e-06 6:10.8\n",
      "termination on tolfun=1e-11 (Tue Aug 25 02:25:17 2020)\n",
      "final/bestever f-value = -1.326382e-04 -1.326382e-04\n",
      "incumbent solution: [1.3912412480519234, 0.3288623810596334, 0.7876856114972203, 5.2044696500953815, 3.9266634115344066, 7.084448563318582]\n",
      "std deviation: [6.623906375934702e-08, 4.7297255961605384e-07, 5.574522622082616e-06, 1.2169062623476359e-06, 4.039729138390539e-06, 5.604107106951077e-06]\n"
     ]
    },
    {
     "name": "stderr",
     "output_type": "stream",
     "text": [
      "reconstraining parameters GP_regression.Mat52.lengthscale\n",
      "reconstraining parameters GP_regression.Mat52.variance\n",
      "reconstraining parameters GP_regression.Gaussian_noise.variance\n"
     ]
    },
    {
     "name": "stdout",
     "output_type": "stream",
     "text": [
      "Optimization restart 1/10, f = 93.08817804210423\n",
      "Optimization restart 2/10, f = 3273389100.015581\n",
      "Optimization restart 3/10, f = 127.28731796801645\n",
      "Optimization restart 4/10, f = 594.4442044231766\n",
      "Optimization restart 5/10, f = 584.508338604908\n",
      "Optimization restart 6/10, f = 509.9178923080051\n",
      "Optimization restart 7/10, f = 3276799068.5271535\n",
      "Optimization restart 8/10, f = 120.8204443813776\n",
      "Optimization restart 9/10, f = 604.48880526679\n"
     ]
    },
    {
     "name": "stderr",
     "output_type": "stream",
     "text": [
      "reconstraining parameters GP_regression.Mat52.lengthscale\n",
      "reconstraining parameters GP_regression.Mat52.variance\n",
      "reconstraining parameters GP_regression.Gaussian_noise.variance\n"
     ]
    },
    {
     "name": "stdout",
     "output_type": "stream",
     "text": [
      "Optimization restart 10/10, f = 188.68253290809668\n",
      "Optimization restart 1/10, f = 11.402381996626303\n",
      "Optimization restart 2/10, f = 584.2081476045906\n",
      "Optimization restart 3/10, f = 55.5527638199941\n",
      "Optimization restart 4/10, f = 481.38846169177367\n",
      "Optimization restart 5/10, f = 72.64145310661527\n",
      "Optimization restart 6/10, f = 71.41600895610905\n",
      "Optimization restart 7/10, f = 584.3409187588707\n",
      "Optimization restart 8/10, f = 225.58328966578188\n",
      "Optimization restart 9/10, f = 575.2287006182889\n",
      "Optimization restart 10/10, f = 71.23131203838187\n",
      "(4_w,9)-aCMA-ES (mu_w=2.8,w_1=49%) in dimension 6 (seed=466330, Tue Aug 25 02:25:23 2020)\n",
      "Iterat #Fevals   function value  axis ratio  sigma  min&max std  t[m:s]\n",
      "    1      9 8.629065613470097e-01 1.0e+00 2.65e-01  3e-01  3e-01 0:01.0\n"
     ]
    },
    {
     "name": "stderr",
     "output_type": "stream",
     "text": [
      " /home/finley/miniconda3/envs/testsuite/lib/python3.8/site-packages/cma/utilities/utils.py:329: UserWarning:function_values is not a list of scalars,\n",
      "                        the first element equals [2.12024221] with non-scalar type <class 'numpy.ndarray'>.\n",
      "                        Using now ``[v[0] for v in function_values]`` instead (further warnings are suppressed) ()\n"
     ]
    },
    {
     "name": "stdout",
     "output_type": "stream",
     "text": [
      "    2     18 1.002582819611594e+00 1.3e+00 2.35e-01  2e-01  3e-01 0:02.0\n"
     ]
    },
    {
     "name": "stderr",
     "output_type": "stream",
     "text": [
      " /home/finley/miniconda3/envs/testsuite/lib/python3.8/site-packages/cma/utilities/utils.py:329: UserWarning:function_values is not a list of scalars,\n",
      "                        the first element equals [1.20594523] with non-scalar type <class 'numpy.ndarray'>.\n",
      "                        Using now ``[v[0] for v in function_values]`` instead (further warnings are suppressed) ()\n"
     ]
    },
    {
     "name": "stdout",
     "output_type": "stream",
     "text": [
      "    3     27 8.744021417774099e-01 1.5e+00 2.07e-01  2e-01  2e-01 0:03.1\n",
      "    6     54 9.860180997561847e-01 1.5e+00 1.37e-01  1e-01  1e-01 0:06.2\n",
      "   10     90 9.533472434022199e-01 2.1e+00 1.48e-01  1e-01  2e-01 0:11.2\n",
      "   15    135 7.100026520983318e-01 2.6e+00 8.24e-02  5e-02  8e-02 0:16.2\n",
      "   21    189 7.177109946442404e-01 4.1e+00 7.13e-02  2e-02  7e-02 0:22.5\n",
      "   29    261 6.877643444808834e-01 5.8e+00 5.58e-02  1e-02  5e-02 0:30.4\n",
      "   37    333 6.634676459480884e-01 8.1e+00 4.78e-02  9e-03  4e-02 0:39.3\n",
      "   46    414 6.578141464546610e-01 1.4e+01 4.42e-02  5e-03  5e-02 0:48.6\n",
      "   56    504 6.387351174089868e-01 2.6e+01 4.00e-02  3e-03  5e-02 0:58.8\n",
      "   68    612 5.670385622469498e-01 9.7e+01 1.11e-01  1e-02  2e-01 1:10.8\n",
      "   81    729 4.587310965378506e-01 2.0e+02 1.74e-01  2e-02  5e-01 1:23.8\n",
      "   94    846 4.322658700355482e-01 1.7e+02 1.18e-01  7e-03  3e-01 1:37.1\n",
      "  100    900 4.220363186480296e-01 2.1e+02 1.05e-01  6e-03  2e-01 1:43.5\n",
      "  115   1035 4.152308073943807e-01 3.2e+02 1.01e-01  4e-03  1e-01 1:59.1\n",
      "  131   1179 4.075404919620433e-01 4.5e+02 9.96e-02  3e-03  1e-01 2:15.2\n",
      "  148   1332 3.925611047809210e-01 3.8e+02 2.85e-01  6e-03  3e-01 2:32.6\n",
      "  166   1494 -0.000000000000000e+00 3.4e+02 9.27e-01  1e-02  8e-01 2:51.5\n",
      "  183   1647 -0.000000000000000e+00 4.0e+02 5.63e-01  5e-03  4e-01 3:11.3\n"
     ]
    },
    {
     "name": "stderr",
     "output_type": "stream",
     "text": [
      " /home/finley/miniconda3/envs/testsuite/lib/python3.8/site-packages/cma/utilities/utils.py:329: UserWarning:flat fitness (f=-0.000000, sigma=4.19e-01).\n",
      "                    For small sigma, this could indicate numerical convergence.\n",
      "                    Otherwise, please (re)consider how to compute the fitness more elaborately. (iteration=190)\n",
      " /home/finley/miniconda3/envs/testsuite/lib/python3.8/site-packages/cma/utilities/utils.py:329: UserWarning:flat fitness (f=-0.000000, sigma=4.20e-01).\n",
      "                    For small sigma, this could indicate numerical convergence.\n",
      "                    Otherwise, please (re)consider how to compute the fitness more elaborately. (iteration=191)\n",
      " /home/finley/miniconda3/envs/testsuite/lib/python3.8/site-packages/cma/utilities/utils.py:329: UserWarning:flat fitness (f=-0.000000, sigma=4.47e-01).\n",
      "                    For small sigma, this could indicate numerical convergence.\n",
      "                    Otherwise, please (re)consider how to compute the fitness more elaborately. (iteration=192)\n",
      " /home/finley/miniconda3/envs/testsuite/lib/python3.8/site-packages/cma/utilities/utils.py:329: UserWarning:flat fitness (f=-0.000000, sigma=4.31e-01).\n",
      "                    For small sigma, this could indicate numerical convergence.\n",
      "                    Otherwise, please (re)consider how to compute the fitness more elaborately. (iteration=194)\n"
     ]
    },
    {
     "name": "stdout",
     "output_type": "stream",
     "text": [
      "  198   1782 -0.000000000000000e+00 4.1e+02 3.51e-01  3e-03  2e-01 3:32.7\n"
     ]
    },
    {
     "name": "stderr",
     "output_type": "stream",
     "text": [
      " /home/finley/miniconda3/envs/testsuite/lib/python3.8/site-packages/cma/utilities/utils.py:329: UserWarning:flat fitness (f=-0.000000, sigma=3.23e-01).\n",
      "                    For small sigma, this could indicate numerical convergence.\n",
      "                    Otherwise, please (re)consider how to compute the fitness more elaborately. (iteration=199)\n"
     ]
    },
    {
     "name": "stdout",
     "output_type": "stream",
     "text": [
      "  200   1800 -0.000000000000000e+00 4.1e+02 2.95e-01  2e-03  2e-01 3:37.1\n"
     ]
    },
    {
     "name": "stderr",
     "output_type": "stream",
     "text": [
      " /home/finley/miniconda3/envs/testsuite/lib/python3.8/site-packages/cma/utilities/utils.py:329: UserWarning:flat fitness (f=-0.000000, sigma=2.95e-01).\n",
      "                    For small sigma, this could indicate numerical convergence.\n",
      "                    Otherwise, please (re)consider how to compute the fitness more elaborately. (iteration=200)\n",
      " /home/finley/miniconda3/envs/testsuite/lib/python3.8/site-packages/cma/utilities/utils.py:329: UserWarning:flat fitness (f=-0.000000, sigma=3.01e-01).\n",
      "                    For small sigma, this could indicate numerical convergence.\n",
      "                    Otherwise, please (re)consider how to compute the fitness more elaborately. (iteration=201)\n",
      " /home/finley/miniconda3/envs/testsuite/lib/python3.8/site-packages/cma/utilities/utils.py:329: UserWarning:flat fitness (f=-0.000000, sigma=3.06e-01).\n",
      "                    For small sigma, this could indicate numerical convergence.\n",
      "                    Otherwise, please (re)consider how to compute the fitness more elaborately. (iteration=202)\n",
      " /home/finley/miniconda3/envs/testsuite/lib/python3.8/site-packages/cma/utilities/utils.py:329: UserWarning:flat fitness (f=-0.000000, sigma=3.21e-01).\n",
      "                    For small sigma, this could indicate numerical convergence.\n",
      "                    Otherwise, please (re)consider how to compute the fitness more elaborately. (iteration=203)\n"
     ]
    },
    {
     "name": "stdout",
     "output_type": "stream",
     "text": [
      "  205   1845 -0.000000000000000e+00 4.9e+02 3.38e-01  2e-03  3e-01 3:45.9\n",
      "termination on tolfunhist=1e-12 (Tue Aug 25 02:29:10 2020)\n",
      "termination on flat fitness=please (re)consider how to compute the fitness more elaborately if sigma=3.38e-01 is large (Tue Aug 25 02:29:10 2020)\n",
      "final/bestever f-value = -0.000000e+00 -0.000000e+00\n",
      "incumbent solution: [1.6082843642665219, 1.9890637650030332, 5.975957023726523, 6.74026690126145, 6.930268470228187, 9.204102910259062]\n",
      "std deviation: [0.0019033025823856418, 0.011546166701263565, 0.25729408966444767, 0.02956034520297115, 0.04831343689745247, 0.12176051137616481]\n"
     ]
    },
    {
     "name": "stderr",
     "output_type": "stream",
     "text": [
      "reconstraining parameters GP_regression.Mat52.lengthscale\n",
      "reconstraining parameters GP_regression.Mat52.variance\n",
      "reconstraining parameters GP_regression.Gaussian_noise.variance\n"
     ]
    },
    {
     "name": "stdout",
     "output_type": "stream",
     "text": [
      "Optimization restart 1/10, f = 93.60886206645168\n",
      "Optimization restart 2/10, f = 4694850.015006474\n",
      "Optimization restart 3/10, f = 132.30718432974248\n",
      "Optimization restart 4/10, f = 93.60886108667019\n",
      "Optimization restart 5/10, f = 627.4881889748444\n",
      "Optimization restart 6/10, f = 4694850.015006474\n",
      "Optimization restart 7/10, f = 174.3029854672384\n",
      "Optimization restart 8/10, f = 3343039811.558832\n",
      "Optimization restart 9/10, f = 4694850.015006474\n"
     ]
    },
    {
     "name": "stderr",
     "output_type": "stream",
     "text": [
      "reconstraining parameters GP_regression.Mat52.lengthscale\n",
      "reconstraining parameters GP_regression.Mat52.variance\n",
      "reconstraining parameters GP_regression.Gaussian_noise.variance\n"
     ]
    },
    {
     "name": "stdout",
     "output_type": "stream",
     "text": [
      "Optimization restart 10/10, f = 627.4881889748444\n",
      "Optimization restart 1/10, f = 11.44197364729115\n",
      "Optimization restart 2/10, f = 71.14841035021314\n",
      "Optimization restart 3/10, f = 603.1403335523312\n",
      "Optimization restart 4/10, f = 577.4992447011984\n",
      "Optimization restart 5/10, f = 2684629459.185591\n",
      "Optimization restart 6/10, f = 588.9710777941149\n",
      "Optimization restart 7/10, f = 627.4881889748135\n",
      "Optimization restart 8/10, f = 568.2360573325088\n",
      "Optimization restart 9/10, f = 568.9079350513874\n",
      "Optimization restart 10/10, f = 693.1572422347357\n",
      "(4_w,9)-aCMA-ES (mu_w=2.8,w_1=49%) in dimension 6 (seed=422388, Tue Aug 25 02:29:26 2020)\n",
      "Iterat #Fevals   function value  axis ratio  sigma  min&max std  t[m:s]\n",
      "    1      9 1.239995639232328e+00 1.0e+00 2.55e-01  2e-01  3e-01 0:01.5\n"
     ]
    },
    {
     "name": "stderr",
     "output_type": "stream",
     "text": [
      " /home/finley/miniconda3/envs/testsuite/lib/python3.8/site-packages/cma/utilities/utils.py:329: UserWarning:function_values is not a list of scalars,\n",
      "                        the first element equals [2.74012206] with non-scalar type <class 'numpy.ndarray'>.\n",
      "                        Using now ``[v[0] for v in function_values]`` instead (further warnings are suppressed) ()\n"
     ]
    },
    {
     "name": "stdout",
     "output_type": "stream",
     "text": [
      "    2     18 1.167842295907132e+00 1.2e+00 2.67e-01  3e-01  3e-01 0:02.8\n"
     ]
    },
    {
     "name": "stderr",
     "output_type": "stream",
     "text": [
      " /home/finley/miniconda3/envs/testsuite/lib/python3.8/site-packages/cma/utilities/utils.py:329: UserWarning:function_values is not a list of scalars,\n",
      "                        the first element equals [1.1678423] with non-scalar type <class 'numpy.ndarray'>.\n",
      "                        Using now ``[v[0] for v in function_values]`` instead (further warnings are suppressed) ()\n"
     ]
    },
    {
     "name": "stdout",
     "output_type": "stream",
     "text": [
      "    3     27 9.645682036362389e-01 1.4e+00 3.26e-01  3e-01  3e-01 0:03.8\n",
      "    6     54 7.227233534275797e-01 1.6e+00 4.34e-01  4e-01  5e-01 0:08.2\n",
      "   10     90 6.093548259664359e-01 2.0e+00 5.56e-01  4e-01  7e-01 0:13.3\n",
      "   15    135 4.120266560561154e-01 3.0e+00 6.89e-01  4e-01  8e-01 0:19.7\n",
      "   19    171 4.216759329840654e-01 3.7e+00 6.07e-01  3e-01  7e-01 0:26.3\n",
      "   24    216 -0.000000000000000e+00 4.1e+00 4.23e-01  1e-01  5e-01 0:33.4\n",
      "   30    270 -0.000000000000000e+00 5.5e+00 2.62e-01  7e-02  3e-01 0:41.8\n",
      "   36    324 -0.000000000000000e+00 6.6e+00 1.94e-01  5e-02  2e-01 0:51.0\n",
      "   42    378 -0.000000000000000e+00 9.9e+00 2.03e-01  4e-02  3e-01 1:01.9\n",
      "   48    432 -0.000000000000000e+00 1.1e+01 1.38e-01  3e-02  2e-01 1:13.1\n"
     ]
    },
    {
     "name": "stderr",
     "output_type": "stream",
     "text": [
      " /home/finley/miniconda3/envs/testsuite/lib/python3.8/site-packages/cma/utilities/utils.py:329: UserWarning:flat fitness (f=-0.000000, sigma=1.42e-01).\n",
      "                    For small sigma, this could indicate numerical convergence.\n",
      "                    Otherwise, please (re)consider how to compute the fitness more elaborately. (iteration=49)\n",
      " /home/finley/miniconda3/envs/testsuite/lib/python3.8/site-packages/cma/utilities/utils.py:329: UserWarning:flat fitness (f=-0.000000, sigma=1.73e-01).\n",
      "                    For small sigma, this could indicate numerical convergence.\n",
      "                    Otherwise, please (re)consider how to compute the fitness more elaborately. (iteration=50)\n",
      " /home/finley/miniconda3/envs/testsuite/lib/python3.8/site-packages/cma/utilities/utils.py:329: UserWarning:flat fitness (f=-0.000000, sigma=1.43e-01).\n",
      "                    For small sigma, this could indicate numerical convergence.\n",
      "                    Otherwise, please (re)consider how to compute the fitness more elaborately. (iteration=54)\n"
     ]
    },
    {
     "name": "stdout",
     "output_type": "stream",
     "text": [
      "   55    495 -0.000000000000000e+00 1.3e+01 1.31e-01  2e-02  2e-01 1:26.1\n"
     ]
    },
    {
     "name": "stderr",
     "output_type": "stream",
     "text": [
      " /home/finley/miniconda3/envs/testsuite/lib/python3.8/site-packages/cma/utilities/utils.py:329: UserWarning:flat fitness (f=-0.000000, sigma=1.21e-01).\n",
      "                    For small sigma, this could indicate numerical convergence.\n",
      "                    Otherwise, please (re)consider how to compute the fitness more elaborately. (iteration=56)\n",
      " /home/finley/miniconda3/envs/testsuite/lib/python3.8/site-packages/cma/utilities/utils.py:329: UserWarning:flat fitness (f=-0.000000, sigma=1.06e-01).\n",
      "                    For small sigma, this could indicate numerical convergence.\n",
      "                    Otherwise, please (re)consider how to compute the fitness more elaborately. (iteration=57)\n"
     ]
    },
    {
     "name": "stdout",
     "output_type": "stream",
     "text": [
      "   58    522 -0.000000000000000e+00 1.2e+01 9.84e-02  1e-02  1e-01 1:34.4\n"
     ]
    },
    {
     "name": "stderr",
     "output_type": "stream",
     "text": [
      " /home/finley/miniconda3/envs/testsuite/lib/python3.8/site-packages/cma/utilities/utils.py:329: UserWarning:flat fitness (f=-0.000000, sigma=9.84e-02).\n",
      "                    For small sigma, this could indicate numerical convergence.\n",
      "                    Otherwise, please (re)consider how to compute the fitness more elaborately. (iteration=58)\n",
      "reconstraining parameters GP_regression.Mat52.lengthscale\n",
      "reconstraining parameters GP_regression.Mat52.variance\n",
      "reconstraining parameters GP_regression.Gaussian_noise.variance\n"
     ]
    },
    {
     "name": "stdout",
     "output_type": "stream",
     "text": [
      "termination on tolfun=1e-11 (Tue Aug 25 02:31:00 2020)\n",
      "termination on tolfunhist=1e-12 (Tue Aug 25 02:31:00 2020)\n",
      "termination on flat fitness=please (re)consider how to compute the fitness more elaborately if sigma=9.84e-02 is large (Tue Aug 25 02:31:00 2020)\n",
      "final/bestever f-value = -0.000000e+00 -0.000000e+00\n",
      "incumbent solution: [0.6927873567907615, 2.128081361019998, 5.205688305244771, 4.5807397972770945, 4.572400554296537, 10.400457123297704]\n",
      "std deviation: [0.014249487297887617, 0.0223728198745813, 0.14117691871837953, 0.03955942059553476, 0.06970301405147841, 0.08174115063870925]\n",
      "Optimization restart 1/10, f = 96.37531234615125\n",
      "Optimization restart 2/10, f = 223.2242809531961\n",
      "Optimization restart 3/10, f = 592.2413344219772\n",
      "Optimization restart 4/10, f = 612.7274315230038\n",
      "Optimization restart 5/10, f = 577.1112180266056\n",
      "Optimization restart 6/10, f = 561.0700352880923\n",
      "Optimization restart 7/10, f = 97.05582131845705\n",
      "Optimization restart 8/10, f = 3375410943.5786777\n",
      "Optimization restart 9/10, f = 513.2195198946945\n"
     ]
    },
    {
     "name": "stderr",
     "output_type": "stream",
     "text": [
      "reconstraining parameters GP_regression.Mat52.lengthscale\n",
      "reconstraining parameters GP_regression.Mat52.variance\n",
      "reconstraining parameters GP_regression.Gaussian_noise.variance\n"
     ]
    },
    {
     "name": "stdout",
     "output_type": "stream",
     "text": [
      "Optimization restart 10/10, f = 562.346682174172\n",
      "Optimization restart 1/10, f = 11.410310127877757\n",
      "Optimization restart 2/10, f = 624.1645586651935\n",
      "Optimization restart 3/10, f = 634.1635952405343\n",
      "Optimization restart 4/10, f = 634.1635952405343\n",
      "Optimization restart 5/10, f = 362.95756166294103\n",
      "Optimization restart 6/10, f = 616.5684726807247\n",
      "Optimization restart 7/10, f = 554.7532721789472\n",
      "Optimization restart 8/10, f = 625.4314535484984\n",
      "Optimization restart 9/10, f = 526.8017377896118\n",
      "Optimization restart 10/10, f = 11.818667466380418\n",
      "(4_w,9)-aCMA-ES (mu_w=2.8,w_1=49%) in dimension 6 (seed=366364, Tue Aug 25 02:31:07 2020)\n",
      "Iterat #Fevals   function value  axis ratio  sigma  min&max std  t[m:s]\n",
      "    1      9 1.229647850338169e+00 1.0e+00 2.34e-01  2e-01  3e-01 0:01.0\n"
     ]
    },
    {
     "name": "stderr",
     "output_type": "stream",
     "text": [
      " /home/finley/miniconda3/envs/testsuite/lib/python3.8/site-packages/cma/utilities/utils.py:329: UserWarning:function_values is not a list of scalars,\n",
      "                        the first element equals [1.75956076] with non-scalar type <class 'numpy.ndarray'>.\n",
      "                        Using now ``[v[0] for v in function_values]`` instead (further warnings are suppressed) ()\n"
     ]
    },
    {
     "name": "stdout",
     "output_type": "stream",
     "text": [
      "    2     18 1.214702918660907e+00 1.3e+00 2.43e-01  2e-01  3e-01 0:02.1\n"
     ]
    },
    {
     "name": "stderr",
     "output_type": "stream",
     "text": [
      " /home/finley/miniconda3/envs/testsuite/lib/python3.8/site-packages/cma/utilities/utils.py:329: UserWarning:function_values is not a list of scalars,\n",
      "                        the first element equals [1.67949996] with non-scalar type <class 'numpy.ndarray'>.\n",
      "                        Using now ``[v[0] for v in function_values]`` instead (further warnings are suppressed) ()\n"
     ]
    },
    {
     "name": "stdout",
     "output_type": "stream",
     "text": [
      "    3     27 1.183148355230681e+00 1.5e+00 2.35e-01  2e-01  3e-01 0:03.1\n",
      "    6     54 1.169546514586442e+00 1.7e+00 2.16e-01  2e-01  2e-01 0:06.2\n",
      "   10     90 1.097695280976850e+00 2.5e+00 2.85e-01  2e-01  4e-01 0:10.4\n",
      "   15    135 1.064243881418816e+00 3.1e+00 2.30e-01  1e-01  3e-01 0:16.1\n",
      "   20    180 8.451263233090169e-01 5.5e+00 4.21e-01  2e-01  8e-01 0:22.6\n",
      "   25    225 6.313229440432757e-01 8.0e+00 4.53e-01  1e-01  8e-01 0:29.6\n",
      "   31    279 -0.000000000000000e+00 9.7e+00 3.92e-01  1e-01  7e-01 0:39.1\n",
      "   35    315 -4.456684229601215e-04 8.3e+00 4.32e-01  1e-01  7e-01 0:48.3\n",
      "   40    360 -5.112361980438962e-03 9.2e+00 3.99e-01  1e-01  6e-01 0:59.1\n",
      "   45    405 -1.667315049492135e-02 1.3e+01 6.01e-01  1e-01  1e+00 1:10.3\n",
      "   53    477 -2.511264130412139e-02 1.8e+01 3.95e-01  5e-02  8e-01 1:22.8\n",
      "   62    558 -2.658142173850786e-02 2.0e+01 1.25e-01  1e-02  2e-01 1:37.1\n",
      "   71    639 -2.692122164047461e-02 2.6e+01 1.10e-01  7e-03  1e-01 1:51.3\n",
      "   81    729 -2.704331022256445e-02 2.4e+01 4.82e-02  2e-03  5e-02 2:07.1\n",
      "   91    819 -2.704620388437462e-02 3.0e+01 2.17e-02  6e-04  2e-02 2:24.0\n",
      "  100    900 -2.704891205593185e-02 3.1e+01 1.14e-02  3e-04  8e-03 2:38.2\n",
      "  112   1008 -2.704903164121442e-02 2.8e+01 2.53e-03  5e-05  1e-03 2:56.8\n",
      "  125   1125 -2.704904474687941e-02 2.1e+01 8.68e-04  1e-05  3e-04 3:17.1\n",
      "  138   1242 -2.704904520905016e-02 2.2e+01 3.52e-04  4e-06  9e-05 3:37.2\n",
      "  152   1368 -2.704904529145402e-02 2.7e+01 8.81e-05  7e-07  2e-05 3:59.2\n",
      "  167   1503 -2.704904529329122e-02 2.1e+01 2.07e-05  1e-07  3e-06 4:22.4\n",
      "  176   1584 -2.704904529333474e-02 2.4e+01 1.02e-05  5e-08  1e-06 4:36.6\n",
      "termination on tolfun=1e-11 (Tue Aug 25 02:35:44 2020)\n",
      "final/bestever f-value = -2.704905e-02 -2.704905e-02\n",
      "incumbent solution: [0.4329617630356032, 3.9999999999999942, 2.153330557228846, 2.2826497850073393, 5.52330852081935, 3.082596260303161]\n",
      "std deviation: [5.303598144668951e-08, 2.803426988415512e-07, 8.071611398241608e-07, 3.008045749321067e-07, 4.888289346922119e-07, 1.1489174330337625e-06]\n"
     ]
    },
    {
     "name": "stderr",
     "output_type": "stream",
     "text": [
      "reconstraining parameters GP_regression.Mat52.lengthscale\n",
      "reconstraining parameters GP_regression.Mat52.variance\n",
      "reconstraining parameters GP_regression.Gaussian_noise.variance\n"
     ]
    },
    {
     "name": "stdout",
     "output_type": "stream",
     "text": [
      "Optimization restart 1/10, f = 97.13381287894383\n",
      "Optimization restart 2/10, f = 3411380838.7908335\n",
      "Optimization restart 3/10, f = 640.8390015062242\n",
      "Optimization restart 4/10, f = 130.42932220565814\n",
      "Optimization restart 5/10, f = 640.8390015062242\n",
      "Optimization restart 6/10, f = 608.4807745620708\n",
      "Optimization restart 7/10, f = 3407706076.1013784\n",
      "Optimization restart 8/10, f = 476.93838004486304\n",
      "Optimization restart 9/10, f = 606.3008165262049\n"
     ]
    },
    {
     "name": "stderr",
     "output_type": "stream",
     "text": [
      "reconstraining parameters GP_regression.Mat52.lengthscale\n",
      "reconstraining parameters GP_regression.Mat52.variance\n",
      "reconstraining parameters GP_regression.Gaussian_noise.variance\n"
     ]
    },
    {
     "name": "stdout",
     "output_type": "stream",
     "text": [
      "Optimization restart 10/10, f = 559.5925590586248\n",
      "Optimization restart 1/10, f = 8.885457417547087\n",
      "Optimization restart 2/10, f = 560.1392642466186\n",
      "Optimization restart 3/10, f = 95.63125764881053\n",
      "Optimization restart 4/10, f = 582.1747210597658\n",
      "Optimization restart 5/10, f = 72.44284063224255\n",
      "Optimization restart 6/10, f = 8.885457388202042\n",
      "Optimization restart 7/10, f = 55.39229826294406\n",
      "Optimization restart 8/10, f = 10.165288091077272\n",
      "Optimization restart 9/10, f = 1134.892591744378\n",
      "Optimization restart 10/10, f = 136.21809918764893\n",
      "(4_w,9)-aCMA-ES (mu_w=2.8,w_1=49%) in dimension 6 (seed=367019, Tue Aug 25 02:35:53 2020)\n",
      "Iterat #Fevals   function value  axis ratio  sigma  min&max std  t[m:s]\n",
      "    1      9 1.254163032335324e+00 1.0e+00 2.49e-01  2e-01  3e-01 0:01.1\n"
     ]
    },
    {
     "name": "stderr",
     "output_type": "stream",
     "text": [
      " /home/finley/miniconda3/envs/testsuite/lib/python3.8/site-packages/cma/utilities/utils.py:329: UserWarning:function_values is not a list of scalars,\n",
      "                        the first element equals [1.7052494] with non-scalar type <class 'numpy.ndarray'>.\n",
      "                        Using now ``[v[0] for v in function_values]`` instead (further warnings are suppressed) ()\n"
     ]
    },
    {
     "name": "stdout",
     "output_type": "stream",
     "text": [
      "    2     18 1.284665213262803e+00 1.3e+00 2.85e-01  3e-01  3e-01 0:02.1\n"
     ]
    },
    {
     "name": "stderr",
     "output_type": "stream",
     "text": [
      " /home/finley/miniconda3/envs/testsuite/lib/python3.8/site-packages/cma/utilities/utils.py:329: UserWarning:function_values is not a list of scalars,\n",
      "                        the first element equals [1.32929592] with non-scalar type <class 'numpy.ndarray'>.\n",
      "                        Using now ``[v[0] for v in function_values]`` instead (further warnings are suppressed) ()\n"
     ]
    },
    {
     "name": "stdout",
     "output_type": "stream",
     "text": [
      "    3     27 1.287739165028638e+00 1.6e+00 3.24e-01  3e-01  4e-01 0:03.2\n",
      "    6     54 1.247667727954255e+00 2.2e+00 4.33e-01  4e-01  5e-01 0:06.5\n",
      "   10     90 1.271900026075826e+00 2.3e+00 4.39e-01  4e-01  6e-01 0:11.0\n",
      "   15    135 6.516282938051545e-01 3.3e+00 5.10e-01  4e-01  8e-01 0:16.7\n",
      "   21    189 3.396357970133985e-01 5.1e+00 7.03e-01  6e-01  1e+00 0:23.2\n",
      "   28    252 7.895070436155260e-01 6.5e+00 4.29e-01  3e-01  7e-01 0:31.2\n",
      "   35    315 -5.824600519783729e-04 6.2e+00 3.79e-01  2e-01  5e-01 0:39.9\n",
      "   42    378 -1.427768616142444e-02 6.5e+00 3.71e-01  1e-01  5e-01 0:49.8\n",
      "   49    441 -1.695452811325726e-02 8.5e+00 2.59e-01  6e-02  3e-01 1:00.4\n",
      "   56    504 -2.509194368479140e-02 7.9e+00 1.55e-01  3e-02  2e-01 1:12.1\n",
      "   64    576 -2.692571289309731e-02 7.8e+00 1.20e-01  2e-02  1e-01 1:25.2\n",
      "   72    648 -3.164397750429471e-02 9.9e+00 1.50e-01  2e-02  1e-01 1:38.3\n",
      "   81    729 -4.133833878572357e-02 1.4e+01 3.09e-01  3e-02  3e-01 1:53.1\n",
      "   91    819 -4.654016108306935e-02 1.1e+01 1.84e-01  2e-02  1e-01 2:09.2\n",
      "  100    900 -4.784366052330880e-02 9.8e+00 6.32e-02  5e-03  4e-02 2:23.9\n",
      "  111    999 -4.789900485606946e-02 1.3e+01 2.50e-02  1e-03  1e-02 2:41.1\n",
      "  123   1107 -4.790466105107738e-02 9.9e+00 9.00e-03  5e-04  4e-03 3:00.1\n",
      "  133   1197 -4.790537453519184e-02 8.2e+00 4.69e-03  2e-04  1e-03 3:20.0\n",
      "  143   1287 -4.790540203009686e-02 7.6e+00 2.71e-03  1e-04  7e-04 3:40.0\n",
      "  154   1386 -4.790541737850207e-02 1.0e+01 1.12e-03  4e-05  3e-04 4:02.4\n",
      "  165   1485 -4.790541963541051e-02 9.7e+00 4.15e-04  1e-05  9e-05 4:25.0\n",
      "  176   1584 -4.790541987102781e-02 8.5e+00 1.21e-04  2e-06  2e-05 4:48.3\n",
      "  188   1692 -4.790541987497265e-02 9.7e+00 3.96e-05  5e-07  5e-06 5:13.7\n",
      "  200   1800 -4.790541987520225e-02 8.4e+00 2.10e-05  2e-07  2e-06 5:35.2\n",
      "  204   1836 -4.790541987535013e-02 8.6e+00 1.44e-05  1e-07  1e-06 5:43.2\n"
     ]
    },
    {
     "name": "stderr",
     "output_type": "stream",
     "text": [
      "reconstraining parameters GP_regression.Mat52.lengthscale\n"
     ]
    },
    {
     "name": "stdout",
     "output_type": "stream",
     "text": [
      "termination on tolfun=1e-11 (Tue Aug 25 02:41:37 2020)\n",
      "final/bestever f-value = -4.790542e-02 -4.790542e-02\n",
      "incumbent solution: [1.9999999999999967, 8.712991697121671e-14, 4.14464833837494, 1.6444010641961995, 6.1013481717403995, 3.3199711897842045e-13]\n",
      "std deviation: [1.487418144693936e-07, 1.7270428202194893e-07, 1.1344822219062788e-06, 3.1631502812596527e-07, 5.575149048698794e-07, 4.546936467222935e-07]\n"
     ]
    },
    {
     "name": "stderr",
     "output_type": "stream",
     "text": [
      "reconstraining parameters GP_regression.Mat52.variance\n",
      "reconstraining parameters GP_regression.Gaussian_noise.variance\n"
     ]
    },
    {
     "name": "stdout",
     "output_type": "stream",
     "text": [
      "Optimization restart 1/10, f = 103.47686614807172\n",
      "Optimization restart 2/10, f = 121.2693184541748\n",
      "Optimization restart 3/10, f = 184.9507091307832\n",
      "Optimization restart 4/10, f = 103.47686779926289\n",
      "Optimization restart 5/10, f = 615.6846111059376\n",
      "Optimization restart 6/10, f = 4844685.653783276\n",
      "Optimization restart 7/10, f = 270.1560451032647\n",
      "Optimization restart 8/10, f = 585.839566776038\n",
      "Optimization restart 9/10, f = 177.14569258018287\n"
     ]
    },
    {
     "name": "stderr",
     "output_type": "stream",
     "text": [
      "reconstraining parameters GP_regression.Mat52.lengthscale\n",
      "reconstraining parameters GP_regression.Mat52.variance\n",
      "reconstraining parameters GP_regression.Gaussian_noise.variance\n"
     ]
    },
    {
     "name": "stdout",
     "output_type": "stream",
     "text": [
      "Optimization restart 10/10, f = 608.191137069126\n",
      "Optimization restart 1/10, f = 13.96913910831671\n",
      "Optimization restart 2/10, f = 139.5017497481908\n",
      "Optimization restart 3/10, f = 38.01320394213067\n",
      "Optimization restart 4/10, f = 831.009865869047\n",
      "Optimization restart 5/10, f = 13.969139107535455\n",
      "Optimization restart 6/10, f = 43.45764745214378\n",
      "Optimization restart 7/10, f = 13.96913910747368\n",
      "Optimization restart 8/10, f = 603.5028103921358\n",
      "Optimization restart 9/10, f = 425.449538146862\n",
      "Optimization restart 10/10, f = 647.514407771914\n",
      "(4_w,9)-aCMA-ES (mu_w=2.8,w_1=49%) in dimension 6 (seed=436029, Tue Aug 25 02:42:04 2020)\n",
      "Iterat #Fevals   function value  axis ratio  sigma  min&max std  t[m:s]\n",
      "    1      9 9.214237901427418e-01 1.0e+00 2.37e-01  2e-01  2e-01 0:01.8\n"
     ]
    },
    {
     "name": "stderr",
     "output_type": "stream",
     "text": [
      " /home/finley/miniconda3/envs/testsuite/lib/python3.8/site-packages/cma/utilities/utils.py:329: UserWarning:function_values is not a list of scalars,\n",
      "                        the first element equals [2.33742994] with non-scalar type <class 'numpy.ndarray'>.\n",
      "                        Using now ``[v[0] for v in function_values]`` instead (further warnings are suppressed) ()\n"
     ]
    },
    {
     "name": "stdout",
     "output_type": "stream",
     "text": [
      "    2     18 1.040343733700123e+00 1.2e+00 2.27e-01  2e-01  2e-01 0:03.8\n"
     ]
    },
    {
     "name": "stderr",
     "output_type": "stream",
     "text": [
      " /home/finley/miniconda3/envs/testsuite/lib/python3.8/site-packages/cma/utilities/utils.py:329: UserWarning:function_values is not a list of scalars,\n",
      "                        the first element equals [1.30427713] with non-scalar type <class 'numpy.ndarray'>.\n",
      "                        Using now ``[v[0] for v in function_values]`` instead (further warnings are suppressed) ()\n"
     ]
    },
    {
     "name": "stdout",
     "output_type": "stream",
     "text": [
      "    3     27 1.232027326438021e+00 1.4e+00 2.23e-01  2e-01  2e-01 0:05.9\n",
      "    5     45 7.950927839008344e-01 1.6e+00 2.52e-01  2e-01  3e-01 0:10.4\n",
      "    9     81 8.011639921811835e-01 2.4e+00 2.77e-01  2e-01  4e-01 0:15.4\n",
      "   14    126 3.814617144819634e-01 3.0e+00 4.39e-01  2e-01  6e-01 0:20.9\n",
      "   20    180 -0.000000000000000e+00 4.4e+00 5.56e-01  2e-01  7e-01 0:27.6\n",
      "   27    243 1.766099905632217e-01 7.4e+00 6.97e-01  2e-01  9e-01 0:35.6\n",
      "   33    297 -0.000000000000000e+00 8.5e+00 4.39e-01  8e-02  5e-01 0:43.9\n",
      "   39    351 -3.837128206193086e-03 1.1e+01 3.39e-01  5e-02  4e-01 0:53.5\n",
      "   46    414 -6.287649405507079e-03 1.3e+01 4.64e-01  5e-02  5e-01 1:04.7\n",
      "   53    477 -1.559783596065323e-02 1.3e+01 2.62e-01  3e-02  2e-01 1:17.0\n",
      "   61    549 -1.937353582501000e-02 1.4e+01 1.14e-01  9e-03  1e-01 1:29.7\n",
      "   69    621 -1.965674506896864e-02 1.5e+01 5.17e-02  3e-03  4e-02 1:42.8\n",
      "   78    702 -1.968035284719383e-02 1.9e+01 2.02e-02  1e-03  2e-02 1:57.3\n",
      "   88    792 -1.968208836923901e-02 2.4e+01 9.24e-03  4e-04  7e-03 2:13.8\n",
      "   98    882 -1.968494829835832e-02 3.4e+01 1.23e-02  4e-04  1e-02 2:30.1\n",
      "  100    900 -1.968747209039856e-02 3.5e+01 1.32e-02  4e-04  1e-02 2:33.3\n",
      "  112   1008 -1.970190418771400e-02 7.0e+01 2.67e-02  6e-04  5e-02 2:52.6\n",
      "  124   1116 -1.971600500505177e-02 1.4e+02 4.41e-02  9e-04  1e-01 3:11.9\n",
      "  137   1233 -1.972124870823810e-02 1.7e+02 1.82e-02  2e-04  4e-02 3:32.6\n",
      "  151   1359 -1.972184115988096e-02 2.0e+02 3.90e-03  4e-05  7e-03 3:53.7\n",
      "  165   1485 -1.972184505819818e-02 1.8e+02 1.30e-03  9e-06  1e-03 4:17.1\n",
      "  180   1620 -1.972184568936219e-02 1.8e+02 2.91e-04  1e-06  2e-04 4:40.2\n",
      "  196   1764 -1.972184569899094e-02 2.3e+02 6.58e-05  2e-07  4e-05 5:04.3\n",
      "  200   1800 -1.972184569907665e-02 2.4e+02 9.35e-05  3e-07  5e-05 5:09.8\n",
      "  214   1926 -1.972184569978763e-02 3.2e+02 1.95e-05  4e-08  1e-05 5:28.9\n",
      "termination on tolfun=1e-11 (Tue Aug 25 02:47:33 2020)\n",
      "final/bestever f-value = -1.972185e-02 -1.972185e-02\n",
      "incumbent solution: [1.051006101125314, 0.7411039474755761, 1.573369620887815, 2.4029381574635615, 1.9801916971847366, 3.149618136548843]\n",
      "std deviation: [3.639895130878877e-08, 1.2500708147763572e-07, 1.046048190292478e-05, 3.75210334095271e-07, 5.773873832094212e-07, 5.239843640840648e-07]\n"
     ]
    },
    {
     "name": "stderr",
     "output_type": "stream",
     "text": [
      "reconstraining parameters GP_regression.Mat52.lengthscale\n",
      "reconstraining parameters GP_regression.Mat52.variance\n",
      "reconstraining parameters GP_regression.Gaussian_noise.variance\n"
     ]
    },
    {
     "name": "stdout",
     "output_type": "stream",
     "text": [
      "Optimization restart 1/10, f = 102.60330415280137\n",
      "Optimization restart 2/10, f = 132.80727828636037\n",
      "Optimization restart 3/10, f = 654.1898140376038\n",
      "Optimization restart 4/10, f = 133.46485021949272\n",
      "Optimization restart 5/10, f = 613.3769693583162\n",
      "Optimization restart 6/10, f = 617.4972961649237\n",
      "Optimization restart 7/10, f = 654.1898140376038\n",
      "Optimization restart 8/10, f = 478.56966884440794\n",
      "Optimization restart 9/10, f = 619.7281032405425\n"
     ]
    },
    {
     "name": "stderr",
     "output_type": "stream",
     "text": [
      "reconstraining parameters GP_regression.Mat52.lengthscale\n",
      "reconstraining parameters GP_regression.Mat52.variance\n",
      "reconstraining parameters GP_regression.Gaussian_noise.variance\n"
     ]
    },
    {
     "name": "stdout",
     "output_type": "stream",
     "text": [
      "Optimization restart 10/10, f = 607.2274290108528\n",
      "Optimization restart 1/10, f = 13.683695774397286\n",
      "Optimization restart 2/10, f = 610.3960843127188\n",
      "Optimization restart 3/10, f = 613.173072832124\n",
      "Optimization restart 4/10, f = 13.68369577674708\n",
      "Optimization restart 5/10, f = 446.2735524490138\n",
      "Optimization restart 6/10, f = 619.6626632455858\n",
      "Optimization restart 7/10, f = 603.4657285995631\n",
      "Optimization restart 8/10, f = 138.02760583259024\n",
      "Optimization restart 9/10, f = 654.1898140376038\n",
      "Optimization restart 10/10, f = 113.80303093863436\n",
      "(4_w,9)-aCMA-ES (mu_w=2.8,w_1=49%) in dimension 6 (seed=407265, Tue Aug 25 02:47:37 2020)\n",
      "Iterat #Fevals   function value  axis ratio  sigma  min&max std  t[m:s]\n",
      "    1      9 1.249196983279305e+00 1.0e+00 2.17e-01  2e-01  2e-01 0:00.9\n"
     ]
    },
    {
     "name": "stderr",
     "output_type": "stream",
     "text": [
      " /home/finley/miniconda3/envs/testsuite/lib/python3.8/site-packages/cma/utilities/utils.py:329: UserWarning:function_values is not a list of scalars,\n",
      "                        the first element equals [1.62692114] with non-scalar type <class 'numpy.ndarray'>.\n",
      "                        Using now ``[v[0] for v in function_values]`` instead (further warnings are suppressed) ()\n"
     ]
    },
    {
     "name": "stdout",
     "output_type": "stream",
     "text": [
      "    2     18 1.186342234145856e+00 1.2e+00 2.04e-01  2e-01  2e-01 0:01.9\n"
     ]
    },
    {
     "name": "stderr",
     "output_type": "stream",
     "text": [
      " /home/finley/miniconda3/envs/testsuite/lib/python3.8/site-packages/cma/utilities/utils.py:329: UserWarning:function_values is not a list of scalars,\n",
      "                        the first element equals [1.79986109] with non-scalar type <class 'numpy.ndarray'>.\n",
      "                        Using now ``[v[0] for v in function_values]`` instead (further warnings are suppressed) ()\n"
     ]
    },
    {
     "name": "stdout",
     "output_type": "stream",
     "text": [
      "    3     27 1.411900088314741e+00 1.4e+00 2.00e-01  2e-01  2e-01 0:02.8\n",
      "    7     63 9.239297478218076e-01 1.8e+00 1.97e-01  2e-01  2e-01 0:06.6\n",
      "   12    108 8.276706657829005e-01 2.6e+00 1.73e-01  1e-01  2e-01 0:11.3\n",
      "   18    162 -0.000000000000000e+00 2.6e+00 1.94e-01  1e-01  2e-01 0:17.3\n",
      "   23    207 -2.843269913879753e-02 3.6e+00 3.87e-01  2e-01  5e-01 0:23.7\n",
      "   29    261 -1.657809861245640e-02 5.4e+00 3.73e-01  1e-01  5e-01 0:31.4\n",
      "   35    315 -4.422335398086652e-02 6.7e+00 3.45e-01  9e-02  5e-01 0:39.6\n",
      "   42    378 -4.424149063752925e-02 7.1e+00 2.09e-01  4e-02  2e-01 0:49.3\n",
      "   50    450 -5.029854748120410e-02 8.4e+00 1.15e-01  2e-02  1e-01 1:00.5\n",
      "   58    522 -5.141476510974607e-02 9.5e+00 9.77e-02  1e-02  9e-02 1:11.7\n",
      "   66    594 -5.192336948686060e-02 1.2e+01 4.84e-02  4e-03  4e-02 1:23.9\n",
      "   75    675 -5.210362720796047e-02 1.5e+01 3.74e-02  2e-03  3e-02 1:38.7\n",
      "   85    765 -5.211580115573700e-02 1.8e+01 1.49e-02  7e-04  1e-02 1:54.2\n",
      "   95    855 -5.212058697223343e-02 1.7e+01 7.02e-03  3e-04  4e-03 2:09.5\n",
      "  100    900 -5.212073293160602e-02 1.7e+01 4.20e-03  1e-04  2e-03 2:18.3\n",
      "  111    999 -5.212087294135737e-02 1.7e+01 1.64e-03  5e-05  6e-04 2:36.2\n",
      "  122   1098 -5.212087920636854e-02 1.8e+01 6.86e-04  2e-05  3e-04 2:54.2\n",
      "  134   1206 -5.212088030179896e-02 1.9e+01 2.26e-04  4e-06  6e-05 3:13.4\n",
      "  147   1323 -5.212088047377872e-02 1.7e+01 7.56e-05  9e-07  1e-05 3:34.1\n",
      "  161   1449 -5.212088047710850e-02 1.9e+01 3.09e-05  3e-07  4e-06 3:55.8\n",
      "  174   1566 -5.212088047733943e-02 1.7e+01 1.19e-05  9e-08  1e-06 4:18.8\n",
      "termination on tolfun=1e-11 (Tue Aug 25 02:51:56 2020)\n",
      "final/bestever f-value = -5.212088e-02 -5.212088e-02\n",
      "incumbent solution: [0.6514113803525367, 3.243929757339969, 9.069296226289883e-14, 4.242843882694342, 4.5101349901961, 5.4141656873414785]\n",
      "std deviation: [9.192928771179053e-08, 1.4436061464429565e-07, 1.3169116729282264e-06, 6.833138814320194e-07, 7.647854130563102e-07, 9.250898638579666e-07]\n"
     ]
    },
    {
     "name": "stderr",
     "output_type": "stream",
     "text": [
      "reconstraining parameters GP_regression.Mat52.lengthscale\n",
      "reconstraining parameters GP_regression.Mat52.variance\n",
      "reconstraining parameters GP_regression.Gaussian_noise.variance\n"
     ]
    },
    {
     "name": "stdout",
     "output_type": "stream",
     "text": [
      "Optimization restart 1/10, f = 109.29728891425563\n",
      "Optimization restart 2/10, f = 594.943286031339\n",
      "Optimization restart 3/10, f = 660.8652203032937\n",
      "Optimization restart 4/10, f = 589.1078855874587\n",
      "Optimization restart 5/10, f = 574.9542191142597\n",
      "Optimization restart 6/10, f = 140.4749147872626\n",
      "Optimization restart 7/10, f = 573.5086250243061\n",
      "Optimization restart 8/10, f = 614.944410041404\n",
      "Optimization restart 9/10, f = 660.8652203032937\n"
     ]
    },
    {
     "name": "stderr",
     "output_type": "stream",
     "text": [
      "reconstraining parameters GP_regression.Mat52.lengthscale\n",
      "reconstraining parameters GP_regression.Mat52.variance\n",
      "reconstraining parameters GP_regression.Gaussian_noise.variance\n"
     ]
    },
    {
     "name": "stdout",
     "output_type": "stream",
     "text": [
      "Optimization restart 10/10, f = 129.9465891066149\n",
      "Optimization restart 1/10, f = 21.37645704051443\n",
      "Optimization restart 2/10, f = 560.4241479542908\n",
      "Optimization restart 3/10, f = 96.7081870741042\n",
      "Optimization restart 4/10, f = 23.629987193149596\n",
      "Optimization restart 5/10, f = 139.7457675336844\n",
      "Optimization restart 6/10, f = 586.5717718035082\n",
      "Optimization restart 7/10, f = 597.8028343180549\n",
      "Optimization restart 8/10, f = 583.3367405172122\n",
      "Optimization restart 9/10, f = 611.1264162156316\n",
      "Optimization restart 10/10, f = 608.0740842290256\n",
      "(4_w,9)-aCMA-ES (mu_w=2.8,w_1=49%) in dimension 6 (seed=428433, Tue Aug 25 02:52:10 2020)\n",
      "Iterat #Fevals   function value  axis ratio  sigma  min&max std  t[m:s]\n",
      "    1      9 5.273873467389738e-01 1.0e+00 2.41e-01  2e-01  2e-01 0:01.2\n"
     ]
    },
    {
     "name": "stderr",
     "output_type": "stream",
     "text": [
      " /home/finley/miniconda3/envs/testsuite/lib/python3.8/site-packages/cma/utilities/utils.py:329: UserWarning:function_values is not a list of scalars,\n",
      "                        the first element equals [0.67021141] with non-scalar type <class 'numpy.ndarray'>.\n",
      "                        Using now ``[v[0] for v in function_values]`` instead (further warnings are suppressed) ()\n"
     ]
    },
    {
     "name": "stdout",
     "output_type": "stream",
     "text": [
      "    2     18 3.567051098928455e-01 1.2e+00 2.27e-01  2e-01  2e-01 0:02.3\n"
     ]
    },
    {
     "name": "stderr",
     "output_type": "stream",
     "text": [
      " /home/finley/miniconda3/envs/testsuite/lib/python3.8/site-packages/cma/utilities/utils.py:329: UserWarning:function_values is not a list of scalars,\n",
      "                        the first element equals [0.65491283] with non-scalar type <class 'numpy.ndarray'>.\n",
      "                        Using now ``[v[0] for v in function_values]`` instead (further warnings are suppressed) ()\n"
     ]
    },
    {
     "name": "stdout",
     "output_type": "stream",
     "text": [
      "    3     27 3.270609898459105e-01 1.4e+00 2.01e-01  2e-01  2e-01 0:03.3\n",
      "    6     54 2.088783158561944e-01 1.8e+00 2.31e-01  2e-01  3e-01 0:06.6\n",
      "   10     90 -0.000000000000000e+00 2.9e+00 3.29e-01  2e-01  4e-01 0:10.7\n",
      "   15    135 -0.000000000000000e+00 3.3e+00 2.83e-01  1e-01  4e-01 0:15.9\n",
      "   21    189 -0.000000000000000e+00 4.0e+00 1.93e-01  6e-02  2e-01 0:22.6\n"
     ]
    },
    {
     "name": "stderr",
     "output_type": "stream",
     "text": [
      " /home/finley/miniconda3/envs/testsuite/lib/python3.8/site-packages/cma/utilities/utils.py:329: UserWarning:flat fitness (f=-0.000000, sigma=1.34e-01).\n",
      "                    For small sigma, this could indicate numerical convergence.\n",
      "                    Otherwise, please (re)consider how to compute the fitness more elaborately. (iteration=25)\n",
      " /home/finley/miniconda3/envs/testsuite/lib/python3.8/site-packages/cma/utilities/utils.py:329: UserWarning:flat fitness (f=-0.000000, sigma=1.39e-01).\n",
      "                    For small sigma, this could indicate numerical convergence.\n",
      "                    Otherwise, please (re)consider how to compute the fitness more elaborately. (iteration=26)\n"
     ]
    },
    {
     "name": "stdout",
     "output_type": "stream",
     "text": [
      "   27    243 -1.114646070048408e-04 5.0e+00 1.40e-01  4e-02  2e-01 0:30.7\n"
     ]
    },
    {
     "name": "stderr",
     "output_type": "stream",
     "text": [
      " /home/finley/miniconda3/envs/testsuite/lib/python3.8/site-packages/cma/utilities/utils.py:329: UserWarning:flat fitness (f=-0.000000, sigma=1.34e-01).\n",
      "                    For small sigma, this could indicate numerical convergence.\n",
      "                    Otherwise, please (re)consider how to compute the fitness more elaborately. (iteration=28)\n"
     ]
    },
    {
     "name": "stdout",
     "output_type": "stream",
     "text": [
      "   33    297 -4.469499512964603e-04 5.4e+00 9.46e-02  2e-02  1e-01 0:39.5\n",
      "   40    360 -9.204017348563021e-04 7.6e+00 6.39e-02  1e-02  7e-02 0:50.1\n",
      "   48    432 -1.783411892591236e-03 1.6e+01 1.10e-01  1e-02  2e-01 1:01.4\n",
      "   56    504 -3.058547996969363e-03 2.3e+01 1.67e-01  2e-02  3e-01 1:12.7\n",
      "   65    585 -4.689300334745461e-03 3.2e+01 2.11e-01  2e-02  4e-01 1:25.5\n",
      "   75    675 -5.674362227345409e-03 3.6e+01 1.11e-01  7e-03  2e-01 1:39.6\n",
      "   85    765 -5.727093027283470e-03 3.6e+01 3.98e-02  1e-03  5e-02 1:53.9\n",
      "   96    864 -5.742688001404872e-03 4.1e+01 1.86e-02  5e-04  2e-02 2:09.3\n",
      "  100    900 -5.743422185114699e-03 3.9e+01 1.37e-02  4e-04  1e-02 2:15.1\n",
      "  113   1017 -5.744364149773862e-03 4.5e+01 6.24e-03  1e-04  5e-03 2:33.4\n",
      "  126   1134 -5.744454492611517e-03 4.5e+01 1.21e-03  2e-05  7e-04 2:51.9\n",
      "  140   1260 -5.744459007820168e-03 4.6e+01 4.39e-04  5e-06  2e-04 3:11.8\n",
      "  155   1395 -5.744459109351840e-03 4.5e+01 1.55e-04  1e-06  4e-05 3:33.0\n",
      "  170   1530 -5.744459115603284e-03 4.1e+01 4.84e-05  3e-07  1e-05 3:54.5\n",
      "  184   1656 -5.744459115908374e-03 3.7e+01 9.96e-06  4e-08  1e-06 4:14.4\n",
      "termination on tolfun=1e-11 (Tue Aug 25 02:56:25 2020)\n",
      "final/bestever f-value = -5.744459e-03 -5.744459e-03\n",
      "incumbent solution: [1.076815219860224, 0.7200116124863709, 4.06609053264879, 1.9090794097852857, 2.1974271962066028, 2.918504593803736]\n",
      "std deviation: [4.117435224165421e-08, 1.2414804298160523e-07, 1.4872469424779233e-06, 3.7413407965159826e-07, 6.816525219899291e-07, 6.176280968081621e-07]\n"
     ]
    },
    {
     "name": "stderr",
     "output_type": "stream",
     "text": [
      "reconstraining parameters GP_regression.Mat52.lengthscale\n",
      "reconstraining parameters GP_regression.Mat52.variance\n",
      "reconstraining parameters GP_regression.Gaussian_noise.variance\n"
     ]
    },
    {
     "name": "stdout",
     "output_type": "stream",
     "text": [
      "Optimization restart 1/10, f = 107.95073555417508\n",
      "Optimization restart 2/10, f = 587.7788923565059\n",
      "Optimization restart 3/10, f = 141.7082266481409\n",
      "Optimization restart 4/10, f = 223.50713215924463\n",
      "Optimization restart 5/10, f = 595.7399126205531\n",
      "Optimization restart 6/10, f = 3530228049.389805\n",
      "Optimization restart 7/10, f = 637.4038621399608\n",
      "Optimization restart 8/10, f = 598.10624836094\n",
      "Optimization restart 9/10, f = 627.0511154336743\n"
     ]
    },
    {
     "name": "stderr",
     "output_type": "stream",
     "text": [
      "reconstraining parameters GP_regression.Mat52.lengthscale\n",
      "reconstraining parameters GP_regression.Mat52.variance\n",
      "reconstraining parameters GP_regression.Gaussian_noise.variance\n"
     ]
    },
    {
     "name": "stdout",
     "output_type": "stream",
     "text": [
      "Optimization restart 10/10, f = 641.2473982014632\n",
      "Optimization restart 1/10, f = 20.646842281757188\n",
      "Optimization restart 2/10, f = 20.646842281644695\n",
      "Optimization restart 3/10, f = 21.94810009519307\n",
      "Optimization restart 4/10, f = 21.948100093528957\n",
      "Optimization restart 5/10, f = 667.5406265689835\n",
      "Optimization restart 6/10, f = 20.646842281581897\n",
      "Optimization restart 7/10, f = 105.02978559509054\n",
      "Optimization restart 8/10, f = 86.7492858512775\n",
      "Optimization restart 9/10, f = 469.399323836824\n",
      "Optimization restart 10/10, f = 477.8512054535007\n",
      "(4_w,9)-aCMA-ES (mu_w=2.8,w_1=49%) in dimension 6 (seed=414893, Tue Aug 25 02:56:30 2020)\n",
      "Iterat #Fevals   function value  axis ratio  sigma  min&max std  t[m:s]\n",
      "    1      9 8.580430328365392e-01 1.0e+00 2.36e-01  2e-01  3e-01 0:01.0\n"
     ]
    },
    {
     "name": "stderr",
     "output_type": "stream",
     "text": [
      " /home/finley/miniconda3/envs/testsuite/lib/python3.8/site-packages/cma/utilities/utils.py:329: UserWarning:function_values is not a list of scalars,\n",
      "                        the first element equals [1.61373786] with non-scalar type <class 'numpy.ndarray'>.\n",
      "                        Using now ``[v[0] for v in function_values]`` instead (further warnings are suppressed) ()\n"
     ]
    },
    {
     "name": "stdout",
     "output_type": "stream",
     "text": [
      "    2     18 8.774730821488175e-01 1.3e+00 2.19e-01  2e-01  2e-01 0:01.9\n"
     ]
    },
    {
     "name": "stderr",
     "output_type": "stream",
     "text": [
      " /home/finley/miniconda3/envs/testsuite/lib/python3.8/site-packages/cma/utilities/utils.py:329: UserWarning:function_values is not a list of scalars,\n",
      "                        the first element equals [1.98141076] with non-scalar type <class 'numpy.ndarray'>.\n",
      "                        Using now ``[v[0] for v in function_values]`` instead (further warnings are suppressed) ()\n"
     ]
    },
    {
     "name": "stdout",
     "output_type": "stream",
     "text": [
      "    3     27 7.165121175840889e-01 1.5e+00 1.92e-01  2e-01  2e-01 0:02.9\n",
      "    7     63 6.419303377059649e-01 2.1e+00 1.87e-01  1e-01  2e-01 0:06.9\n",
      "   12    108 6.276258762917528e-01 2.7e+00 1.48e-01  7e-02  2e-01 0:11.8\n",
      "   18    162 5.254472976237161e-01 4.4e+00 1.19e-01  5e-02  1e-01 0:17.7\n",
      "   25    225 5.336683899403944e-01 5.8e+00 1.04e-01  3e-02  1e-01 0:24.6\n",
      "   32    288 4.966712335983370e-01 8.7e+00 1.51e-01  3e-02  2e-01 0:31.9\n",
      "   41    369 4.228182283785509e-01 1.5e+01 9.99e-02  2e-02  1e-01 0:40.7\n",
      "   51    459 2.983927172185137e-01 3.0e+01 4.60e-01  5e-02  6e-01 0:50.5\n",
      "   61    549 -0.000000000000000e+00 3.6e+01 3.78e-01  3e-02  6e-01 1:00.9\n",
      "   70    630 -0.000000000000000e+00 7.4e+01 2.43e-01  1e-02  4e-01 1:12.3\n"
     ]
    },
    {
     "name": "stderr",
     "output_type": "stream",
     "text": [
      " /home/finley/miniconda3/envs/testsuite/lib/python3.8/site-packages/cma/utilities/utils.py:329: UserWarning:flat fitness (f=-0.000000, sigma=2.43e-01).\n",
      "                    For small sigma, this could indicate numerical convergence.\n",
      "                    Otherwise, please (re)consider how to compute the fitness more elaborately. (iteration=70)\n",
      " /home/finley/miniconda3/envs/testsuite/lib/python3.8/site-packages/cma/utilities/utils.py:329: UserWarning:flat fitness (f=-0.000000, sigma=2.09e-01).\n",
      "                    For small sigma, this could indicate numerical convergence.\n",
      "                    Otherwise, please (re)consider how to compute the fitness more elaborately. (iteration=76)\n",
      " /home/finley/miniconda3/envs/testsuite/lib/python3.8/site-packages/cma/utilities/utils.py:329: UserWarning:flat fitness (f=-0.000000, sigma=2.13e-01).\n",
      "                    For small sigma, this could indicate numerical convergence.\n",
      "                    Otherwise, please (re)consider how to compute the fitness more elaborately. (iteration=77)\n",
      " /home/finley/miniconda3/envs/testsuite/lib/python3.8/site-packages/cma/utilities/utils.py:329: UserWarning:flat fitness (f=-0.000000, sigma=2.16e-01).\n",
      "                    For small sigma, this could indicate numerical convergence.\n",
      "                    Otherwise, please (re)consider how to compute the fitness more elaborately. (iteration=78)\n"
     ]
    },
    {
     "name": "stdout",
     "output_type": "stream",
     "text": [
      "   79    711 -0.000000000000000e+00 9.0e+01 2.09e-01  8e-03  3e-01 1:24.8\n"
     ]
    },
    {
     "name": "stderr",
     "output_type": "stream",
     "text": [
      " /home/finley/miniconda3/envs/testsuite/lib/python3.8/site-packages/cma/utilities/utils.py:329: UserWarning:flat fitness (f=-0.000000, sigma=2.09e-01).\n",
      "                    For small sigma, this could indicate numerical convergence.\n",
      "                    Otherwise, please (re)consider how to compute the fitness more elaborately. (iteration=79)\n",
      " /home/finley/miniconda3/envs/testsuite/lib/python3.8/site-packages/cma/utilities/utils.py:329: UserWarning:flat fitness (f=-0.000000, sigma=2.25e-01).\n",
      "                    For small sigma, this could indicate numerical convergence.\n",
      "                    Otherwise, please (re)consider how to compute the fitness more elaborately. (iteration=80)\n",
      " /home/finley/miniconda3/envs/testsuite/lib/python3.8/site-packages/cma/utilities/utils.py:329: UserWarning:flat fitness (f=-0.000000, sigma=2.20e-01).\n",
      "                    For small sigma, this could indicate numerical convergence.\n",
      "                    Otherwise, please (re)consider how to compute the fitness more elaborately. (iteration=81)\n",
      " /home/finley/miniconda3/envs/testsuite/lib/python3.8/site-packages/cma/utilities/utils.py:329: UserWarning:flat fitness (f=-0.000000, sigma=2.33e-01).\n",
      "                    For small sigma, this could indicate numerical convergence.\n",
      "                    Otherwise, please (re)consider how to compute the fitness more elaborately. (iteration=83)\n"
     ]
    },
    {
     "name": "stdout",
     "output_type": "stream",
     "text": [
      "   84    756 -0.000000000000000e+00 9.1e+01 2.28e-01  9e-03  3e-01 1:32.0\n"
     ]
    },
    {
     "name": "stderr",
     "output_type": "stream",
     "text": [
      " /home/finley/miniconda3/envs/testsuite/lib/python3.8/site-packages/cma/utilities/utils.py:329: UserWarning:flat fitness (f=-0.000000, sigma=2.28e-01).\n",
      "                    For small sigma, this could indicate numerical convergence.\n",
      "                    Otherwise, please (re)consider how to compute the fitness more elaborately. (iteration=84)\n"
     ]
    },
    {
     "name": "stdout",
     "output_type": "stream",
     "text": [
      "termination on tolfun=1e-11 (Tue Aug 25 02:58:02 2020)\n",
      "termination on tolfunhist=1e-12 (Tue Aug 25 02:58:02 2020)\n",
      "termination on flat fitness=please (re)consider how to compute the fitness more elaborately if sigma=2.28e-01 is large (Tue Aug 25 02:58:02 2020)\n",
      "final/bestever f-value = -0.000000e+00 -0.000000e+00\n",
      "incumbent solution: [1.8065883394664497, 2.339426969527961, 5.934110545495718, 7.768699320985018, 0.6417120057447273, 0.7074464450941951]\n",
      "std deviation: [0.008637635053741528, 0.04474629897268857, 0.34207043135040327, 0.24441424723256674, 0.22406636651323186, 0.14775887143622554]\n"
     ]
    },
    {
     "name": "stderr",
     "output_type": "stream",
     "text": [
      "reconstraining parameters GP_regression.Mat52.lengthscale\n",
      "reconstraining parameters GP_regression.Mat52.variance\n",
      "reconstraining parameters GP_regression.Gaussian_noise.variance\n"
     ]
    },
    {
     "name": "stdout",
     "output_type": "stream",
     "text": [
      "Optimization restart 1/10, f = 109.20719895968281\n",
      "Optimization restart 2/10, f = 3576188622.5578747\n",
      "Optimization restart 3/10, f = 139.67831706376938\n",
      "Optimization restart 4/10, f = 203.85467890702768\n",
      "Optimization restart 5/10, f = 3566630310.117452\n",
      "Optimization restart 6/10, f = 628.6881371274595\n",
      "Optimization restart 7/10, f = 571.9164948570268\n",
      "Optimization restart 8/10, f = 198.7833916856344\n"
     ]
    },
    {
     "name": "stderr",
     "output_type": "stream",
     "text": [
      "reconstraining parameters GP_regression.Mat52.lengthscale\n",
      "reconstraining parameters GP_regression.Mat52.variance\n",
      "reconstraining parameters GP_regression.Gaussian_noise.variance\n"
     ]
    },
    {
     "name": "stdout",
     "output_type": "stream",
     "text": [
      "Optimization restart 9/10, f = 127.32400395946289\n",
      "Optimization restart 10/10, f = 143.31280085186506\n",
      "Optimization restart 1/10, f = 21.25251703012016\n",
      "Optimization restart 2/10, f = 674.2160328346732\n",
      "Optimization restart 3/10, f = 101.73698201461055\n",
      "Optimization restart 4/10, f = 656.1078926604395\n",
      "Optimization restart 5/10, f = 141.2999332418896\n",
      "Optimization restart 6/10, f = 607.3846807575625\n",
      "Optimization restart 7/10, f = 641.0517096355707\n",
      "Optimization restart 8/10, f = 614.9558391215431\n",
      "Optimization restart 9/10, f = 469.10219730917\n",
      "Optimization restart 10/10, f = 7262.378874995092\n",
      "(4_w,9)-aCMA-ES (mu_w=2.8,w_1=49%) in dimension 6 (seed=378531, Tue Aug 25 02:58:07 2020)\n",
      "Iterat #Fevals   function value  axis ratio  sigma  min&max std  t[m:s]\n",
      "    1      9 1.597914184709595e+00 1.0e+00 2.92e-01  3e-01  3e-01 0:01.0\n"
     ]
    },
    {
     "name": "stderr",
     "output_type": "stream",
     "text": [
      " /home/finley/miniconda3/envs/testsuite/lib/python3.8/site-packages/cma/utilities/utils.py:329: UserWarning:function_values is not a list of scalars,\n",
      "                        the first element equals [1.64769876] with non-scalar type <class 'numpy.ndarray'>.\n",
      "                        Using now ``[v[0] for v in function_values]`` instead (further warnings are suppressed) ()\n"
     ]
    },
    {
     "name": "stdout",
     "output_type": "stream",
     "text": [
      "    2     18 1.146469566005456e+00 1.3e+00 3.41e-01  3e-01  4e-01 0:02.0\n"
     ]
    },
    {
     "name": "stderr",
     "output_type": "stream",
     "text": [
      " /home/finley/miniconda3/envs/testsuite/lib/python3.8/site-packages/cma/utilities/utils.py:329: UserWarning:function_values is not a list of scalars,\n",
      "                        the first element equals [1.63941896] with non-scalar type <class 'numpy.ndarray'>.\n",
      "                        Using now ``[v[0] for v in function_values]`` instead (further warnings are suppressed) ()\n"
     ]
    },
    {
     "name": "stdout",
     "output_type": "stream",
     "text": [
      "    3     27 1.103151669386238e+00 1.3e+00 3.97e-01  3e-01  4e-01 0:03.0\n",
      "    7     63 -0.000000000000000e+00 2.0e+00 7.29e-01  5e-01  1e+00 0:07.0\n",
      "   11     99 -7.996516904291262e-03 3.2e+00 9.83e-01  5e-01  1e+00 0:11.3\n",
      "   16    144 -0.000000000000000e+00 3.1e+00 1.29e+00  7e-01  2e+00 0:16.4\n",
      "   22    198 6.966096897762855e-01 4.6e+00 8.69e-01  4e-01  1e+00 0:22.5\n",
      "   29    261 -0.000000000000000e+00 5.1e+00 5.48e-01  2e-01  9e-01 0:29.6\n",
      "   36    324 -1.418878693374248e-02 8.3e+00 5.68e-01  1e-01  1e+00 0:38.3\n",
      "   43    387 -1.624981400719161e-02 1.2e+01 2.70e-01  4e-02  5e-01 0:48.1\n",
      "   50    450 -1.849893201755126e-02 1.5e+01 1.14e-01  1e-02  2e-01 0:59.3\n",
      "   56    504 -1.891687376317730e-02 1.4e+01 8.50e-02  9e-03  1e-01 1:10.9\n",
      "   64    576 -1.916472910548972e-02 1.6e+01 6.22e-02  5e-03  6e-02 1:23.6\n",
      "   72    648 -1.921223668508709e-02 1.4e+01 3.05e-02  2e-03  2e-02 1:36.7\n",
      "   80    720 -1.923220521466096e-02 2.0e+01 2.81e-02  1e-03  2e-02 1:51.3\n",
      "   89    801 -1.923688657872669e-02 2.1e+01 1.32e-02  5e-04  7e-03 2:06.6\n",
      "   99    891 -1.923716059672920e-02 1.7e+01 5.58e-03  2e-04  2e-03 2:23.9\n",
      "  100    900 -1.923726986365804e-02 1.7e+01 5.60e-03  2e-04  2e-03 2:25.7\n",
      "  112   1008 -1.923732196427252e-02 1.4e+01 1.78e-03  5e-05  6e-04 2:45.2\n",
      "  124   1116 -1.923732813533308e-02 1.5e+01 8.92e-04  2e-05  2e-04 3:04.9\n",
      "  137   1233 -1.923732903881703e-02 1.7e+01 2.05e-04  3e-06  4e-05 3:25.9\n",
      "  150   1350 -1.923732906915943e-02 1.9e+01 8.36e-05  8e-07  1e-05 3:48.5\n",
      "  163   1467 -1.923732907227471e-02 1.8e+01 2.99e-05  2e-07  3e-06 4:11.6\n",
      "  172   1548 -1.923732907252562e-02 1.4e+01 1.52e-05  1e-07  1e-06 4:24.8\n",
      "termination on tolfun=1e-11 (Tue Aug 25 03:02:32 2020)\n",
      "final/bestever f-value = -1.923733e-02 -1.923733e-02\n",
      "incumbent solution: [0.47409669467038873, 3.9734654896117467, 2.294624471821453, 1.532024927585444, 5.251861178270552, 4.389577820573816]\n",
      "std deviation: [9.57693132314946e-08, 3.459752615775119e-07, 9.672564543529845e-07, 8.330845545598002e-07, 1.2961101948404533e-06, 1.1562761043167806e-06]\n"
     ]
    },
    {
     "name": "stderr",
     "output_type": "stream",
     "text": [
      "reconstraining parameters GP_regression.Mat52.lengthscale\n",
      "reconstraining parameters GP_regression.Mat52.variance\n",
      "reconstraining parameters GP_regression.Gaussian_noise.variance\n"
     ]
    },
    {
     "name": "stdout",
     "output_type": "stream",
     "text": [
      "Optimization restart 1/10, f = 110.67646621269824\n",
      "Optimization restart 2/10, f = 613.0185596480562\n",
      "Optimization restart 3/10, f = 630.6691878886111\n",
      "Optimization restart 4/10, f = 680.8914391003631\n",
      "Optimization restart 5/10, f = 3605826255.461352\n",
      "Optimization restart 6/10, f = 627.8062969679455\n",
      "Optimization restart 7/10, f = 640.3233327800805\n",
      "Optimization restart 8/10, f = 600.5077034375254\n"
     ]
    },
    {
     "name": "stderr",
     "output_type": "stream",
     "text": [
      "reconstraining parameters GP_regression.Mat52.lengthscale\n",
      "reconstraining parameters GP_regression.Mat52.variance\n",
      "reconstraining parameters GP_regression.Gaussian_noise.variance\n"
     ]
    },
    {
     "name": "stdout",
     "output_type": "stream",
     "text": [
      "Optimization restart 9/10, f = 606.0924432001282\n",
      "Optimization restart 10/10, f = 641.879776817663\n",
      "Optimization restart 1/10, f = 21.110000365519028\n",
      "Optimization restart 2/10, f = 680.8914391003631\n",
      "Optimization restart 3/10, f = 2905270107.266023\n",
      "Optimization restart 4/10, f = 611.5439717706007\n",
      "Optimization restart 5/10, f = 21.11000034946342\n",
      "Optimization restart 6/10, f = 2903184209.8214006\n",
      "Optimization restart 7/10, f = 101.3730321447651\n",
      "Optimization restart 8/10, f = 680.8914391003631\n",
      "Optimization restart 9/10, f = 637.1791738152256\n",
      "Optimization restart 10/10, f = 616.2556112706758\n",
      "(4_w,9)-aCMA-ES (mu_w=2.8,w_1=49%) in dimension 6 (seed=414953, Tue Aug 25 03:02:36 2020)\n",
      "Iterat #Fevals   function value  axis ratio  sigma  min&max std  t[m:s]\n",
      "    1      9 1.320400517713567e+00 1.0e+00 2.44e-01  2e-01  3e-01 0:01.0\n"
     ]
    },
    {
     "name": "stderr",
     "output_type": "stream",
     "text": [
      " /home/finley/miniconda3/envs/testsuite/lib/python3.8/site-packages/cma/utilities/utils.py:329: UserWarning:function_values is not a list of scalars,\n",
      "                        the first element equals [1.87793925] with non-scalar type <class 'numpy.ndarray'>.\n",
      "                        Using now ``[v[0] for v in function_values]`` instead (further warnings are suppressed) ()\n"
     ]
    },
    {
     "name": "stdout",
     "output_type": "stream",
     "text": [
      "    2     18 1.237417535001414e+00 1.3e+00 2.41e-01  2e-01  3e-01 0:02.0\n"
     ]
    },
    {
     "name": "stderr",
     "output_type": "stream",
     "text": [
      " /home/finley/miniconda3/envs/testsuite/lib/python3.8/site-packages/cma/utilities/utils.py:329: UserWarning:function_values is not a list of scalars,\n",
      "                        the first element equals [1.57263904] with non-scalar type <class 'numpy.ndarray'>.\n",
      "                        Using now ``[v[0] for v in function_values]`` instead (further warnings are suppressed) ()\n"
     ]
    },
    {
     "name": "stdout",
     "output_type": "stream",
     "text": [
      "    3     27 1.219672356926667e+00 1.4e+00 2.52e-01  2e-01  3e-01 0:03.1\n",
      "    6     54 1.040748452080064e+00 2.0e+00 3.06e-01  2e-01  4e-01 0:06.1\n",
      "   10     90 1.076643906231353e+00 3.6e+00 4.13e-01  2e-01  6e-01 0:10.2\n",
      "   15    135 8.973788292344598e-01 5.3e+00 4.08e-01  2e-01  6e-01 0:15.4\n",
      "   21    189 7.802287196291893e-01 4.9e+00 1.14e+00  4e-01  2e+00 0:21.8\n",
      "   28    252 1.942014561219936e-01 6.0e+00 8.99e-01  2e-01  1e+00 0:29.7\n",
      "   35    315 -0.000000000000000e+00 9.2e+00 6.40e-01  1e-01  1e+00 0:38.0\n",
      "   42    378 -1.811560444885041e-02 1.1e+01 4.05e-01  5e-02  5e-01 0:48.0\n",
      "   49    441 -2.583097871338014e-02 1.0e+01 3.33e-01  4e-02  3e-01 0:58.5\n",
      "   57    513 -3.151065697579858e-02 1.1e+01 2.07e-01  2e-02  2e-01 1:10.5\n",
      "   65    585 -3.235190747186323e-02 8.2e+00 1.07e-01  1e-02  8e-02 1:22.6\n",
      "   74    666 -3.249865609325120e-02 5.9e+00 5.79e-02  7e-03  3e-02 1:36.2\n",
      "   84    756 -3.267627630561210e-02 6.5e+00 2.69e-02  3e-03  1e-02 1:51.2\n",
      "   94    846 -3.269274323076532e-02 5.4e+00 1.19e-02  1e-03  4e-03 2:06.3\n",
      "  100    900 -3.269613143698669e-02 5.2e+00 8.46e-03  6e-04  3e-03 2:15.4\n",
      "  112   1008 -3.269694299593118e-02 5.6e+00 2.35e-03  1e-04  5e-04 2:33.8\n",
      "  124   1116 -3.269697422560158e-02 4.8e+00 7.34e-04  3e-05  1e-04 2:51.8\n",
      "  137   1233 -3.269697564772711e-02 4.6e+00 2.11e-04  6e-06  3e-05 3:11.2\n",
      "  150   1350 -3.269697568951502e-02 4.4e+00 7.42e-05  2e-06  7e-06 3:31.3\n",
      "  165   1485 -3.269697569393637e-02 5.1e+00 2.51e-05  4e-07  2e-06 3:53.8\n",
      "  176   1584 -3.269697569427743e-02 5.3e+00 1.41e-05  2e-07  9e-07 4:10.4\n",
      "termination on tolfun=1e-11 (Tue Aug 25 03:06:46 2020)\n",
      "final/bestever f-value = -3.269698e-02 -3.269698e-02\n",
      "incumbent solution: [1.9999999999999554, 1.0575955837503367e-14, 3.788677151217922, 1.4898777734618398, 6.757438777343179, 2.4522961643671697]\n",
      "std deviation: [3.096919189534477e-07, 1.9967626129185072e-07, 8.664974825615881e-07, 4.6157646666319e-07, 8.377764952361862e-07, 5.737489941100382e-07]\n"
     ]
    },
    {
     "name": "stderr",
     "output_type": "stream",
     "text": [
      "reconstraining parameters GP_regression.Mat52.lengthscale\n",
      "reconstraining parameters GP_regression.Mat52.variance\n",
      "reconstraining parameters GP_regression.Gaussian_noise.variance\n"
     ]
    },
    {
     "name": "stdout",
     "output_type": "stream",
     "text": [
      "Optimization restart 1/10, f = 110.10643888059735\n",
      "Optimization restart 2/10, f = 122.51444242646909\n",
      "Optimization restart 3/10, f = 687.5668453660529\n",
      "Optimization restart 4/10, f = 141.46485445144808\n",
      "Optimization restart 5/10, f = 202.96605341172705\n",
      "Optimization restart 6/10, f = 653.5737118957354\n",
      "Optimization restart 7/10, f = 722.7792270417775\n",
      "Optimization restart 8/10, f = 632.1701874872557\n",
      "Optimization restart 9/10, f = 666.8757634738432\n"
     ]
    },
    {
     "name": "stderr",
     "output_type": "stream",
     "text": [
      "reconstraining parameters GP_regression.Mat52.lengthscale\n",
      "reconstraining parameters GP_regression.Mat52.variance\n",
      "reconstraining parameters GP_regression.Gaussian_noise.variance\n"
     ]
    },
    {
     "name": "stdout",
     "output_type": "stream",
     "text": [
      "Optimization restart 10/10, f = 104.96733128407149\n",
      "Optimization restart 1/10, f = 17.371580375408186\n",
      "Optimization restart 2/10, f = 87.25668992973358\n",
      "Optimization restart 3/10, f = 464.1427526390206\n",
      "Optimization restart 4/10, f = 457.7483150888451\n",
      "Optimization restart 5/10, f = 608.5196818581386\n",
      "Optimization restart 6/10, f = 2853064744.696734\n",
      "Optimization restart 7/10, f = 637.4902212211817\n",
      "Optimization restart 8/10, f = 425.7736877084024\n",
      "Optimization restart 9/10, f = 84.03130013470343\n",
      "Optimization restart 10/10, f = 17.371580378835162\n",
      "(4_w,9)-aCMA-ES (mu_w=2.8,w_1=49%) in dimension 6 (seed=369850, Tue Aug 25 03:06:51 2020)\n",
      "Iterat #Fevals   function value  axis ratio  sigma  min&max std  t[m:s]\n",
      "    1      9 1.670193590625265e+00 1.0e+00 2.29e-01  2e-01  2e-01 0:01.0\n"
     ]
    },
    {
     "name": "stderr",
     "output_type": "stream",
     "text": [
      " /home/finley/miniconda3/envs/testsuite/lib/python3.8/site-packages/cma/utilities/utils.py:329: UserWarning:function_values is not a list of scalars,\n",
      "                        the first element equals [3.00437935] with non-scalar type <class 'numpy.ndarray'>.\n",
      "                        Using now ``[v[0] for v in function_values]`` instead (further warnings are suppressed) ()\n"
     ]
    },
    {
     "name": "stdout",
     "output_type": "stream",
     "text": [
      "    2     18 1.557876188637538e+00 1.2e+00 2.15e-01  2e-01  2e-01 0:02.1\n"
     ]
    },
    {
     "name": "stderr",
     "output_type": "stream",
     "text": [
      " /home/finley/miniconda3/envs/testsuite/lib/python3.8/site-packages/cma/utilities/utils.py:329: UserWarning:function_values is not a list of scalars,\n",
      "                        the first element equals [2.59976634] with non-scalar type <class 'numpy.ndarray'>.\n",
      "                        Using now ``[v[0] for v in function_values]`` instead (further warnings are suppressed) ()\n"
     ]
    },
    {
     "name": "stdout",
     "output_type": "stream",
     "text": [
      "    3     27 7.326197826330103e-01 1.3e+00 2.43e-01  2e-01  3e-01 0:03.1\n",
      "    6     54 2.809091219948530e-01 1.8e+00 3.54e-01  3e-01  5e-01 0:06.3\n",
      "   10     90 -1.095921707167191e-02 2.0e+00 3.59e-01  3e-01  4e-01 0:10.9\n",
      "   15    135 -0.000000000000000e+00 2.3e+00 4.60e-01  4e-01  6e-01 0:16.7\n",
      "   20    180 -0.000000000000000e+00 2.3e+00 3.21e-01  2e-01  4e-01 0:22.8\n",
      "   26    234 -5.428459309935851e-02 3.1e+00 2.45e-01  1e-01  3e-01 0:31.1\n",
      "   32    288 -7.794279465680631e-02 3.4e+00 3.24e-01  1e-01  4e-01 0:40.1\n",
      "   38    342 -8.677258205121907e-02 6.4e+00 2.55e-01  8e-02  4e-01 0:49.3\n",
      "   45    405 -9.979981361729706e-02 7.2e+00 1.92e-01  5e-02  3e-01 0:59.9\n",
      "   53    477 -1.252088670911800e-01 1.0e+01 5.13e-01  8e-02  8e-01 1:12.2\n",
      "   61    549 -1.688497856247193e-01 1.6e+01 4.03e-01  5e-02  7e-01 1:24.4\n",
      "   70    630 -1.725890001834869e-01 1.3e+01 1.73e-01  2e-02  2e-01 1:38.1\n",
      "   80    720 -1.731646491778749e-01 1.6e+01 7.81e-02  6e-03  9e-02 1:53.4\n",
      "   90    810 -1.734294067916702e-01 2.3e+01 3.44e-02  2e-03  3e-02 2:09.8\n",
      "  100    900 -1.734436615566191e-01 2.3e+01 1.16e-02  5e-04  9e-03 2:27.9\n",
      "  111    999 -1.734450960814700e-01 1.9e+01 4.72e-03  2e-04  3e-03 2:46.1\n",
      "  122   1098 -1.734452665403308e-01 2.2e+01 1.60e-03  4e-05  7e-04 3:05.9\n",
      "  133   1197 -1.734452816575520e-01 2.1e+01 5.70e-04  1e-05  2e-04 3:25.1\n",
      "  145   1305 -1.734452839165024e-01 2.1e+01 2.52e-04  4e-06  8e-05 3:46.9\n",
      "  157   1413 -1.734452840766534e-01 2.0e+01 7.88e-05  1e-06  2e-05 4:09.1\n",
      "  172   1548 -1.734452840919380e-01 2.4e+01 3.03e-05  3e-07  6e-06 4:32.8\n",
      "  185   1665 -1.734452840927894e-01 2.0e+01 1.46e-05  1e-07  2e-06 4:56.0\n",
      "  190   1710 -1.734452840929213e-01 2.2e+01 1.10e-05  7e-08  1e-06 5:06.3\n",
      "termination on tolfun=1e-11 (Tue Aug 25 03:11:58 2020)\n",
      "final/bestever f-value = -1.734453e-01 -1.734453e-01\n",
      "incumbent solution: [0.5643730557284792, 3.785035552189193, 2.655328582486771, 3.693096640052835, 4.440274511139061, 2.086943541152818]\n",
      "std deviation: [6.98380183265145e-08, 1.525055256171857e-07, 3.0171589242423725e-07, 1.3764268153654905e-06, 6.51269543646711e-07, 8.219802305011112e-07]\n"
     ]
    },
    {
     "name": "stderr",
     "output_type": "stream",
     "text": [
      "reconstraining parameters GP_regression.Mat52.lengthscale\n",
      "reconstraining parameters GP_regression.Mat52.variance\n",
      "reconstraining parameters GP_regression.Gaussian_noise.variance\n"
     ]
    },
    {
     "name": "stdout",
     "output_type": "stream",
     "text": [
      "Optimization restart 1/10, f = 107.7677052219524\n",
      "Optimization restart 2/10, f = 607.5462078540583\n",
      "Optimization restart 3/10, f = 230.6431796720941\n",
      "Optimization restart 4/10, f = 652.58122437689\n",
      "Optimization restart 5/10, f = 512.5630122370214\n",
      "Optimization restart 6/10, f = 670.9531769916413\n",
      "Optimization restart 7/10, f = 3695481668.6352596\n",
      "Optimization restart 8/10, f = 517.1236719337257\n",
      "Optimization restart 9/10, f = 147.56960738266096\n"
     ]
    },
    {
     "name": "stderr",
     "output_type": "stream",
     "text": [
      "reconstraining parameters GP_regression.Mat52.lengthscale\n",
      "reconstraining parameters GP_regression.Mat52.variance\n",
      "reconstraining parameters GP_regression.Gaussian_noise.variance\n"
     ]
    },
    {
     "name": "stdout",
     "output_type": "stream",
     "text": [
      "Optimization restart 10/10, f = 634.2083682156045\n",
      "Optimization restart 1/10, f = 19.11832001125248\n",
      "Optimization restart 2/10, f = 694.2422516317429\n",
      "Optimization restart 3/10, f = 694.2422516317429\n",
      "Optimization restart 4/10, f = 147.56960747133922\n",
      "Optimization restart 5/10, f = 146.78677656182384\n",
      "Optimization restart 6/10, f = 23.142084813088758\n",
      "Optimization restart 7/10, f = 509.8070386331531\n",
      "Optimization restart 8/10, f = 413.55788703144805\n",
      "Optimization restart 9/10, f = 99.43382593935328\n",
      "Optimization restart 10/10, f = 147.56960745328598\n",
      "(4_w,9)-aCMA-ES (mu_w=2.8,w_1=49%) in dimension 6 (seed=401074, Tue Aug 25 03:12:09 2020)\n",
      "Iterat #Fevals   function value  axis ratio  sigma  min&max std  t[m:s]\n",
      "    1      9 1.480797679623298e+00 1.0e+00 2.49e-01  2e-01  3e-01 0:01.8\n"
     ]
    },
    {
     "name": "stderr",
     "output_type": "stream",
     "text": [
      " /home/finley/miniconda3/envs/testsuite/lib/python3.8/site-packages/cma/utilities/utils.py:329: UserWarning:function_values is not a list of scalars,\n",
      "                        the first element equals [2.71555685] with non-scalar type <class 'numpy.ndarray'>.\n",
      "                        Using now ``[v[0] for v in function_values]`` instead (further warnings are suppressed) ()\n"
     ]
    },
    {
     "name": "stdout",
     "output_type": "stream",
     "text": [
      "    2     18 9.696192577290217e-01 1.2e+00 3.20e-01  3e-01  3e-01 0:03.7\n"
     ]
    },
    {
     "name": "stderr",
     "output_type": "stream",
     "text": [
      " /home/finley/miniconda3/envs/testsuite/lib/python3.8/site-packages/cma/utilities/utils.py:329: UserWarning:function_values is not a list of scalars,\n",
      "                        the first element equals [2.58415602] with non-scalar type <class 'numpy.ndarray'>.\n",
      "                        Using now ``[v[0] for v in function_values]`` instead (further warnings are suppressed) ()\n"
     ]
    },
    {
     "name": "stdout",
     "output_type": "stream",
     "text": [
      "    3     27 9.390300664168194e-01 1.4e+00 4.00e-01  4e-01  4e-01 0:05.2\n",
      "    6     54 6.468666077053473e-01 1.8e+00 6.29e-01  5e-01  7e-01 0:08.5\n",
      "   10     90 7.087940058363096e-01 2.5e+00 5.89e-01  4e-01  7e-01 0:12.7\n",
      "   15    135 -0.000000000000000e+00 2.7e+00 5.34e-01  3e-01  6e-01 0:18.0\n",
      "   21    189 -5.204608622895179e-04 4.4e+00 7.79e-01  3e-01  1e+00 0:24.6\n",
      "   28    252 -4.865794501021092e-04 6.3e+00 5.17e-01  1e-01  7e-01 0:32.5\n",
      "   34    306 -1.301441845344353e-02 7.3e+00 5.18e-01  1e-01  6e-01 0:41.5\n",
      "   40    360 -2.511857962909936e-02 9.5e+00 2.59e-01  5e-02  3e-01 0:50.9\n",
      "   47    423 -3.347908000303335e-02 9.2e+00 2.76e-01  4e-02  3e-01 1:01.8\n",
      "   55    495 -3.483902085272028e-02 1.4e+01 1.62e-01  2e-02  2e-01 1:14.3\n",
      "   63    567 -3.697832782159027e-02 1.2e+01 9.45e-02  9e-03  8e-02 1:26.7\n",
      "   72    648 -3.702719824818557e-02 1.6e+01 4.20e-02  3e-03  3e-02 1:40.7\n",
      "   81    729 -3.705776907554048e-02 1.8e+01 1.84e-02  8e-04  1e-02 1:54.8\n",
      "   91    819 -3.706032262787851e-02 2.4e+01 9.26e-03  3e-04  6e-03 2:10.2\n",
      "  100    900 -3.706190072181448e-02 2.8e+01 5.28e-03  1e-04  3e-03 2:24.1\n",
      "  111    999 -3.706203822981635e-02 2.5e+01 1.48e-03  3e-05  6e-04 2:41.1\n",
      "  123   1107 -3.706204058124829e-02 3.2e+01 5.00e-04  7e-06  2e-04 3:00.1\n",
      "  136   1224 -3.706204121179812e-02 2.7e+01 1.48e-04  2e-06  4e-05 3:20.3\n",
      "  149   1341 -3.706204123244250e-02 2.8e+01 5.45e-05  4e-07  1e-05 3:40.5\n",
      "  163   1467 -3.706204123557155e-02 2.6e+01 1.26e-05  7e-08  2e-06 4:02.4\n",
      "  171   1539 -3.706204123563772e-02 2.5e+01 5.01e-06  2e-08  5e-07 4:14.9\n",
      "termination on tolfun=1e-11 (Tue Aug 25 03:16:24 2020)\n",
      "final/bestever f-value = -3.706204e-02 -3.706204e-02\n",
      "incumbent solution: [0.9750319195654962, 0.7806192670626545, 2.696158947978876, 2.069653408833611, 2.524833464395228, 3.44202956922581]\n",
      "std deviation: [2.303663187205291e-08, 7.272409463142195e-08, 2.0817796057386836e-07, 5.232066521956369e-07, 4.0691678162491726e-07, 2.717072729171011e-07]\n"
     ]
    },
    {
     "name": "stderr",
     "output_type": "stream",
     "text": [
      "reconstraining parameters GP_regression.Mat52.lengthscale\n",
      "reconstraining parameters GP_regression.Mat52.variance\n",
      "reconstraining parameters GP_regression.Gaussian_noise.variance\n"
     ]
    },
    {
     "name": "stdout",
     "output_type": "stream",
     "text": [
      "Optimization restart 1/10, f = 105.45880123630445\n",
      "Optimization restart 2/10, f = 390.834577683215\n",
      "Optimization restart 3/10, f = 455.82813268883683\n",
      "Optimization restart 4/10, f = 3710717071.003319\n",
      "Optimization restart 5/10, f = 209.83535032179157\n",
      "Optimization restart 6/10, f = 201.9228193515001\n",
      "Optimization restart 7/10, f = 208.35050214475797\n",
      "Optimization restart 8/10, f = 639.5976835765846\n"
     ]
    },
    {
     "name": "stderr",
     "output_type": "stream",
     "text": [
      "reconstraining parameters GP_regression.Mat52.lengthscale\n",
      "reconstraining parameters GP_regression.Mat52.variance\n",
      "reconstraining parameters GP_regression.Gaussian_noise.variance\n"
     ]
    },
    {
     "name": "stdout",
     "output_type": "stream",
     "text": [
      "Optimization restart 9/10, f = 148.98854598649064\n",
      "Optimization restart 10/10, f = 682.5943041702291\n",
      "Optimization restart 1/10, f = 17.535002088814764\n",
      "Optimization restart 2/10, f = 490.71246521348775\n",
      "Optimization restart 3/10, f = 493.6536894916573\n",
      "Optimization restart 4/10, f = 147.6420051543691\n",
      "Optimization restart 5/10, f = 420.2032493155027\n",
      "Optimization restart 6/10, f = 437.4956761736199\n",
      "Optimization restart 7/10, f = 489.1281683048844\n",
      "Optimization restart 8/10, f = 24.47192506023014\n",
      "Optimization restart 9/10, f = 24.471925060527724\n",
      "Optimization restart 10/10, f = 1070.6201933440839\n",
      "(4_w,9)-aCMA-ES (mu_w=2.8,w_1=49%) in dimension 6 (seed=499232, Tue Aug 25 03:16:29 2020)\n",
      "Iterat #Fevals   function value  axis ratio  sigma  min&max std  t[m:s]\n",
      "    1      9 2.041863600511785e+00 1.0e+00 2.66e-01  3e-01  3e-01 0:01.1\n"
     ]
    },
    {
     "name": "stderr",
     "output_type": "stream",
     "text": [
      " /home/finley/miniconda3/envs/testsuite/lib/python3.8/site-packages/cma/utilities/utils.py:329: UserWarning:function_values is not a list of scalars,\n",
      "                        the first element equals [2.0792455] with non-scalar type <class 'numpy.ndarray'>.\n",
      "                        Using now ``[v[0] for v in function_values]`` instead (further warnings are suppressed) ()\n"
     ]
    },
    {
     "name": "stdout",
     "output_type": "stream",
     "text": [
      "    2     18 1.827018121812969e+00 1.3e+00 3.50e-01  3e-01  4e-01 0:02.2\n"
     ]
    },
    {
     "name": "stderr",
     "output_type": "stream",
     "text": [
      " /home/finley/miniconda3/envs/testsuite/lib/python3.8/site-packages/cma/utilities/utils.py:329: UserWarning:function_values is not a list of scalars,\n",
      "                        the first element equals [2.01985882] with non-scalar type <class 'numpy.ndarray'>.\n",
      "                        Using now ``[v[0] for v in function_values]`` instead (further warnings are suppressed) ()\n"
     ]
    },
    {
     "name": "stdout",
     "output_type": "stream",
     "text": [
      "    3     27 1.892145844375439e+00 1.5e+00 3.89e-01  4e-01  4e-01 0:03.2\n",
      "    6     54 1.757704180142083e+00 1.8e+00 4.64e-01  4e-01  6e-01 0:06.5\n",
      "   10     90 1.225997712826595e+00 2.4e+00 1.08e+00  8e-01  2e+00 0:10.7\n",
      "   15    135 6.827092420175316e-01 2.9e+00 1.39e+00  9e-01  2e+00 0:16.1\n",
      "   21    189 5.708892319992243e-01 3.6e+00 1.82e+00  1e+00  3e+00 0:22.7\n",
      "   28    252 -0.000000000000000e+00 4.8e+00 9.27e-01  4e-01  1e+00 0:30.6\n",
      "   35    315 -9.849524825829459e-03 6.1e+00 5.71e-01  2e-01  8e-01 0:39.2\n",
      "   42    378 -4.694129937542080e-02 6.4e+00 3.87e-01  1e-01  5e-01 0:49.5\n",
      "   49    441 -6.701756553687810e-02 7.8e+00 2.28e-01  5e-02  4e-01 1:00.5\n",
      "   56    504 -7.806016757082057e-02 9.0e+00 1.75e-01  3e-02  3e-01 1:11.5\n",
      "   64    576 -8.224222080024779e-02 1.1e+01 1.37e-01  2e-02  2e-01 1:24.2\n",
      "   73    657 -8.450480664491300e-02 1.5e+01 1.19e-01  1e-02  2e-01 1:38.5\n",
      "   82    738 -8.541509275685533e-02 1.9e+01 6.18e-02  4e-03  8e-02 1:52.6\n",
      "   92    828 -8.552877930019198e-02 1.9e+01 2.67e-02  1e-03  3e-02 2:08.6\n",
      "  100    900 -8.553930459100378e-02 1.9e+01 1.40e-02  7e-04  1e-02 2:21.1\n",
      "  110    990 -8.554097747992540e-02 2.5e+01 6.61e-03  2e-04  5e-03 2:38.2\n",
      "  120   1080 -8.554110624712141e-02 3.2e+01 2.07e-03  5e-05  1e-03 2:57.5\n",
      "  131   1179 -8.554111959604915e-02 3.1e+01 7.61e-04  2e-05  4e-04 3:16.6\n",
      "  142   1278 -8.554112225496180e-02 2.4e+01 3.30e-04  6e-06  1e-04 3:36.7\n",
      "  154   1386 -8.554112255628077e-02 2.1e+01 9.35e-05  1e-06  2e-05 3:59.2\n",
      "  167   1503 -8.554112256187407e-02 2.6e+01 2.86e-05  3e-07  5e-06 4:21.9\n",
      "  181   1629 -8.554112256256685e-02 2.1e+01 7.67e-06  6e-08  1e-06 4:46.0\n",
      "  185   1665 -8.554112256258861e-02 2.4e+01 5.23e-06  3e-08  7e-07 4:53.1\n"
     ]
    },
    {
     "name": "stderr",
     "output_type": "stream",
     "text": [
      "reconstraining parameters GP_regression.Mat52.lengthscale\n",
      "reconstraining parameters GP_regression.Mat52.variance\n",
      "reconstraining parameters GP_regression.Gaussian_noise.variance\n"
     ]
    },
    {
     "name": "stdout",
     "output_type": "stream",
     "text": [
      "termination on tolfun=1e-11 (Tue Aug 25 03:21:23 2020)\n",
      "final/bestever f-value = -8.554112e-02 -8.554112e-02\n",
      "incumbent solution: [0.5463770853305343, 3.457652332687438, 2.454315296898146, 2.5712433837898225, 4.635647366987769, 3.9655081206833662]\n",
      "std deviation: [3.4969590006615284e-08, 8.91442037444774e-08, 1.8215308640399046e-07, 7.362790807670451e-07, 2.0916981892069934e-07, 3.296696267487685e-07]\n",
      "Optimization restart 1/10, f = 105.56903028701998\n",
      "Optimization restart 2/10, f = 1586.6898218790416\n",
      "Optimization restart 3/10, f = 148.5359960207154\n",
      "Optimization restart 4/10, f = 141.23196904313522\n",
      "Optimization restart 5/10, f = 480.7836432844865\n",
      "Optimization restart 6/10, f = 204.15606006829694\n",
      "Optimization restart 7/10, f = 632.0725391549105\n",
      "Optimization restart 8/10, f = 5294192.570113681\n",
      "Optimization restart 9/10, f = 198.80091331979293\n"
     ]
    },
    {
     "name": "stderr",
     "output_type": "stream",
     "text": [
      "reconstraining parameters GP_regression.Mat52.lengthscale\n",
      "reconstraining parameters GP_regression.Mat52.variance\n",
      "reconstraining parameters GP_regression.Gaussian_noise.variance\n"
     ]
    },
    {
     "name": "stdout",
     "output_type": "stream",
     "text": [
      "Optimization restart 10/10, f = 673.8045864658785\n",
      "Optimization restart 1/10, f = 15.901924949528002\n",
      "Optimization restart 2/10, f = 627.4213112279989\n",
      "Optimization restart 3/10, f = 20.208908142335154\n",
      "Optimization restart 4/10, f = 656.322506787009\n",
      "Optimization restart 5/10, f = 691.8431832413079\n",
      "Optimization restart 6/10, f = 285.6889979599956\n",
      "Optimization restart 7/10, f = 684.0195096739172\n",
      "Optimization restart 8/10, f = 85.40248076548298\n",
      "Optimization restart 9/10, f = 635.1049637095181\n",
      "Optimization restart 10/10, f = 490.2874540045422\n",
      "(4_w,9)-aCMA-ES (mu_w=2.8,w_1=49%) in dimension 6 (seed=413654, Tue Aug 25 03:21:30 2020)\n",
      "Iterat #Fevals   function value  axis ratio  sigma  min&max std  t[m:s]\n",
      "    1      9 2.287786318533541e+00 1.0e+00 2.21e-01  2e-01  2e-01 0:01.3\n"
     ]
    },
    {
     "name": "stderr",
     "output_type": "stream",
     "text": [
      " /home/finley/miniconda3/envs/testsuite/lib/python3.8/site-packages/cma/utilities/utils.py:329: UserWarning:function_values is not a list of scalars,\n",
      "                        the first element equals [2.46472152] with non-scalar type <class 'numpy.ndarray'>.\n",
      "                        Using now ``[v[0] for v in function_values]`` instead (further warnings are suppressed) ()\n"
     ]
    },
    {
     "name": "stdout",
     "output_type": "stream",
     "text": [
      "    2     18 1.820559958045375e+00 1.1e+00 2.32e-01  2e-01  2e-01 0:02.7\n"
     ]
    },
    {
     "name": "stderr",
     "output_type": "stream",
     "text": [
      " /home/finley/miniconda3/envs/testsuite/lib/python3.8/site-packages/cma/utilities/utils.py:329: UserWarning:function_values is not a list of scalars,\n",
      "                        the first element equals [1.91148149] with non-scalar type <class 'numpy.ndarray'>.\n",
      "                        Using now ``[v[0] for v in function_values]`` instead (further warnings are suppressed) ()\n"
     ]
    },
    {
     "name": "stdout",
     "output_type": "stream",
     "text": [
      "    3     27 1.736915126777768e+00 1.3e+00 2.22e-01  2e-01  2e-01 0:03.9\n",
      "    6     54 1.696785185653427e+00 2.0e+00 2.99e-01  2e-01  4e-01 0:07.8\n",
      "    9     81 1.706290319391147e+00 2.2e+00 3.40e-01  2e-01  4e-01 0:11.8\n",
      "   14    126 1.609880543532863e+00 2.9e+00 3.44e-01  2e-01  4e-01 0:18.0\n",
      "   19    171 1.435968815893418e+00 3.7e+00 7.03e-01  4e-01  1e+00 0:24.9\n",
      "   25    225 1.355215343584444e+00 4.0e+00 7.04e-01  4e-01  1e+00 0:32.9\n",
      "   31    279 1.166546380110400e+00 5.2e+00 5.12e-01  2e-01  8e-01 0:41.1\n",
      "   39    351 1.079968503723127e+00 6.8e+00 3.12e-01  9e-02  4e-01 0:50.4\n",
      "   48    432 1.048009182760508e+00 9.2e+00 2.96e-01  5e-02  4e-01 1:00.4\n",
      "   58    522 1.007537232331683e+00 1.4e+01 1.98e-01  2e-02  2e-01 1:11.4\n",
      "   70    630 9.921828585432415e-01 2.2e+01 1.15e-01  6e-03  1e-01 1:24.5\n",
      "   81    729 9.874914161675226e-01 3.0e+01 8.52e-02  3e-03  8e-02 1:37.5\n",
      "   94    846 9.865406168412598e-01 5.0e+01 3.43e-02  7e-04  3e-02 1:51.6\n",
      "  100    900 9.866783784319477e-01 6.7e+01 2.95e-02  4e-04  3e-02 1:58.2\n",
      "  115   1035 9.860526067319573e-01 1.1e+02 2.61e-02  2e-04  2e-02 2:14.7\n",
      "  131   1179 9.857275742177967e-01 2.1e+02 1.08e-02  4e-05  8e-03 2:32.3\n",
      "  148   1332 9.855088080258736e-01 3.4e+02 2.45e-02  6e-05  1e-02 2:51.2\n",
      "  166   1494 9.853557757261422e-01 5.6e+02 2.48e-02  4e-05  1e-02 3:11.2\n",
      "  184   1656 9.853082502965937e-01 9.0e+02 6.12e-03  4e-06  2e-03 3:31.3\n",
      "  200   1800 9.853097320971649e-01 1.1e+03 3.40e-03  1e-06  1e-03 3:48.9\n",
      "  220   1980 9.853075989387563e-01 1.9e+03 1.94e-03  4e-07  6e-04 4:11.1\n",
      "  242   2178 9.853071727412472e-01 6.2e+03 7.83e-04  6e-08  3e-04 4:35.1\n",
      "NOTE (module=cma, iteration=263):  \n",
      "condition in coordinate system exceeded 1.3e+08, rescaled to 1.0e+00, \n",
      "condition changed from 2.6e+08 to 2.3e+01\n",
      "  264   2376 9.853070191757816e-01 4.8e+00 5.49e-04  1e-08  2e-04 4:59.2\n",
      "  287   2583 9.853067974217147e-01 6.4e+00 2.03e-03  3e-08  4e-04 5:24.3\n",
      "  300   2700 9.853067781761229e-01 4.1e+00 1.42e-03  1e-08  3e-04 5:38.7\n",
      "  325   2925 1.578585127491793e+00 6.7e+00 9.67e-04  4e-09  1e-04 6:06.0\n",
      "  351   3159 1.578584204921072e+00 8.1e+00 4.36e-02  5e-07  3e-03 6:34.3\n",
      "  378   3402 1.578538027658581e+00 2.1e+01 5.46e-01  1e-05  4e-02 7:03.7\n",
      "  400   3600 1.578443583299908e+00 2.8e+01 4.19e-01  1e-05  2e-02 7:28.6\n",
      "  426   3834 1.577989691282771e+00 7.9e+01 2.84e+00  1e-04  8e-02 8:00.7\n",
      "  452   4068 1.572873828110692e+00 1.9e+02 1.48e+01  1e-03  2e-01 8:33.6\n",
      "  479   4311 1.389544129990802e+00 1.3e+03 1.92e+02  6e-02  1e+00 9:07.5\n",
      "  500   4500 1.269114799699778e+00 2.8e+03 1.42e+02  6e-02  5e-01 9:34.3\n",
      "  505   4545 1.267710837197509e+00 2.7e+03 1.01e+02  4e-02  3e-01 9:39.9\n"
     ]
    },
    {
     "name": "stderr",
     "output_type": "stream",
     "text": [
      "reconstraining parameters GP_regression.Mat52.lengthscale\n"
     ]
    },
    {
     "name": "stdout",
     "output_type": "stream",
     "text": [
      "termination on tolstagnation=263 (Tue Aug 25 03:31:10 2020)\n",
      "final/bestever f-value = 1.265957e+00 9.853068e-01\n",
      "incumbent solution: [0.7265334338310869, 3.9983617076368554, 5.3083442114324555, 0.12710056620364346, 9.971848753152381, 11.998440503134026]\n",
      "std deviation: [0.03831601215213924, 0.04307576521842847, 0.27687777493351556, 0.2770976276313832, 0.30905044775082463, 0.13815113452000471]\n"
     ]
    },
    {
     "name": "stderr",
     "output_type": "stream",
     "text": [
      "reconstraining parameters GP_regression.Mat52.variance\n",
      "reconstraining parameters GP_regression.Gaussian_noise.variance\n"
     ]
    },
    {
     "name": "stdout",
     "output_type": "stream",
     "text": [
      "Optimization restart 1/10, f = 106.51072892390617\n",
      "Optimization restart 2/10, f = 668.389269329854\n",
      "Optimization restart 3/10, f = 129.71465530247386\n",
      "Optimization restart 4/10, f = 5344137.783039283\n",
      "Optimization restart 5/10, f = 669.226939160146\n",
      "Optimization restart 6/10, f = 666.5979034818855\n",
      "Optimization restart 7/10, f = 187.1681872914278\n",
      "Optimization restart 8/10, f = 714.2684703090737\n",
      "Optimization restart 9/10, f = 639.5000345896548\n"
     ]
    },
    {
     "name": "stderr",
     "output_type": "stream",
     "text": [
      "reconstraining parameters GP_regression.Mat52.lengthscale\n",
      "reconstraining parameters GP_regression.Mat52.variance\n",
      "reconstraining parameters GP_regression.Gaussian_noise.variance\n"
     ]
    },
    {
     "name": "stdout",
     "output_type": "stream",
     "text": [
      "Optimization restart 10/10, f = 615.7698156735275\n",
      "Optimization restart 1/10, f = 15.768629797688767\n",
      "Optimization restart 2/10, f = 678.4740542593486\n",
      "Optimization restart 3/10, f = 25.93656702854512\n",
      "Optimization restart 4/10, f = 711.6573971535838\n",
      "Optimization restart 5/10, f = 520.8838613176507\n",
      "Optimization restart 6/10, f = 481.4576442654787\n",
      "Optimization restart 7/10, f = 94.73882143463752\n",
      "Optimization restart 8/10, f = 655.1508786314098\n",
      "Optimization restart 9/10, f = 513.5294508066286\n",
      "Optimization restart 10/10, f = 115.44480501501019\n",
      "(4_w,9)-aCMA-ES (mu_w=2.8,w_1=49%) in dimension 6 (seed=429299, Tue Aug 25 03:31:16 2020)\n",
      "Iterat #Fevals   function value  axis ratio  sigma  min&max std  t[m:s]\n",
      "    1      9 1.711356022632741e+00 1.0e+00 2.53e-01  2e-01  3e-01 0:01.1\n"
     ]
    },
    {
     "name": "stderr",
     "output_type": "stream",
     "text": [
      " /home/finley/miniconda3/envs/testsuite/lib/python3.8/site-packages/cma/utilities/utils.py:329: UserWarning:function_values is not a list of scalars,\n",
      "                        the first element equals [2.30791293] with non-scalar type <class 'numpy.ndarray'>.\n",
      "                        Using now ``[v[0] for v in function_values]`` instead (further warnings are suppressed) ()\n"
     ]
    },
    {
     "name": "stdout",
     "output_type": "stream",
     "text": [
      "    2     18 1.750223883668331e+00 1.3e+00 2.57e-01  2e-01  3e-01 0:02.2\n"
     ]
    },
    {
     "name": "stderr",
     "output_type": "stream",
     "text": [
      " /home/finley/miniconda3/envs/testsuite/lib/python3.8/site-packages/cma/utilities/utils.py:329: UserWarning:function_values is not a list of scalars,\n",
      "                        the first element equals [1.97825458] with non-scalar type <class 'numpy.ndarray'>.\n",
      "                        Using now ``[v[0] for v in function_values]`` instead (further warnings are suppressed) ()\n"
     ]
    },
    {
     "name": "stdout",
     "output_type": "stream",
     "text": [
      "    3     27 1.648499070569885e+00 1.4e+00 2.64e-01  2e-01  3e-01 0:03.4\n",
      "    6     54 1.628243340942363e+00 1.8e+00 2.85e-01  2e-01  3e-01 0:06.9\n",
      "    9     81 1.484893553353803e+00 2.5e+00 2.79e-01  1e-01  3e-01 0:11.1\n",
      "   14    126 8.516290150141252e-01 4.0e+00 5.03e-01  2e-01  6e-01 0:17.3\n",
      "   19    171 6.909333291035595e-01 4.8e+00 6.19e-01  2e-01  7e-01 0:23.9\n",
      "   25    225 4.783042785555480e-01 6.3e+00 6.89e-01  2e-01  1e+00 0:31.5\n",
      "   30    270 -0.000000000000000e+00 7.3e+00 6.31e-01  1e-01  9e-01 0:39.6\n",
      "   37    333 -0.000000000000000e+00 8.2e+00 5.80e-01  1e-01  8e-01 0:49.9\n",
      "   43    387 -0.000000000000000e+00 8.8e+00 4.79e-01  8e-02  6e-01 1:00.5\n"
     ]
    },
    {
     "name": "stderr",
     "output_type": "stream",
     "text": [
      " /home/finley/miniconda3/envs/testsuite/lib/python3.8/site-packages/cma/utilities/utils.py:329: UserWarning:flat fitness (f=-0.000000, sigma=4.15e-01).\n",
      "                    For small sigma, this could indicate numerical convergence.\n",
      "                    Otherwise, please (re)consider how to compute the fitness more elaborately. (iteration=44)\n",
      " /home/finley/miniconda3/envs/testsuite/lib/python3.8/site-packages/cma/utilities/utils.py:329: UserWarning:flat fitness (f=-0.000000, sigma=3.09e-01).\n",
      "                    For small sigma, this could indicate numerical convergence.\n",
      "                    Otherwise, please (re)consider how to compute the fitness more elaborately. (iteration=48)\n"
     ]
    },
    {
     "name": "stdout",
     "output_type": "stream",
     "text": [
      "   51    459 -0.000000000000000e+00 8.8e+00 2.59e-01  5e-02  3e-01 1:13.0\n"
     ]
    },
    {
     "name": "stderr",
     "output_type": "stream",
     "text": [
      " /home/finley/miniconda3/envs/testsuite/lib/python3.8/site-packages/cma/utilities/utils.py:329: UserWarning:flat fitness (f=-0.000000, sigma=2.59e-01).\n",
      "                    For small sigma, this could indicate numerical convergence.\n",
      "                    Otherwise, please (re)consider how to compute the fitness more elaborately. (iteration=51)\n",
      " /home/finley/miniconda3/envs/testsuite/lib/python3.8/site-packages/cma/utilities/utils.py:329: UserWarning:flat fitness (f=-0.000000, sigma=2.62e-01).\n",
      "                    For small sigma, this could indicate numerical convergence.\n",
      "                    Otherwise, please (re)consider how to compute the fitness more elaborately. (iteration=52)\n",
      " /home/finley/miniconda3/envs/testsuite/lib/python3.8/site-packages/cma/utilities/utils.py:329: UserWarning:flat fitness (f=-0.000000, sigma=2.62e-01).\n",
      "                    For small sigma, this could indicate numerical convergence.\n",
      "                    Otherwise, please (re)consider how to compute the fitness more elaborately. (iteration=53)\n",
      " /home/finley/miniconda3/envs/testsuite/lib/python3.8/site-packages/cma/utilities/utils.py:329: UserWarning:flat fitness (f=-0.000000, sigma=2.55e-01).\n",
      "                    For small sigma, this could indicate numerical convergence.\n",
      "                    Otherwise, please (re)consider how to compute the fitness more elaborately. (iteration=56)\n"
     ]
    },
    {
     "name": "stdout",
     "output_type": "stream",
     "text": [
      "   59    531 -0.000000000000000e+00 1.1e+01 2.28e-01  4e-02  3e-01 1:25.9\n"
     ]
    },
    {
     "name": "stderr",
     "output_type": "stream",
     "text": [
      " /home/finley/miniconda3/envs/testsuite/lib/python3.8/site-packages/cma/utilities/utils.py:329: UserWarning:flat fitness (f=-0.000000, sigma=2.27e-01).\n",
      "                    For small sigma, this could indicate numerical convergence.\n",
      "                    Otherwise, please (re)consider how to compute the fitness more elaborately. (iteration=60)\n",
      " /home/finley/miniconda3/envs/testsuite/lib/python3.8/site-packages/cma/utilities/utils.py:329: UserWarning:flat fitness (f=-0.000000, sigma=2.45e-01).\n",
      "                    For small sigma, this could indicate numerical convergence.\n",
      "                    Otherwise, please (re)consider how to compute the fitness more elaborately. (iteration=62)\n",
      " /home/finley/miniconda3/envs/testsuite/lib/python3.8/site-packages/cma/utilities/utils.py:329: UserWarning:flat fitness (f=-0.000000, sigma=2.15e-01).\n",
      "                    For small sigma, this could indicate numerical convergence.\n",
      "                    Otherwise, please (re)consider how to compute the fitness more elaborately. (iteration=64)\n",
      " /home/finley/miniconda3/envs/testsuite/lib/python3.8/site-packages/cma/utilities/utils.py:329: UserWarning:flat fitness (f=-0.000000, sigma=2.00e-01).\n",
      "                    For small sigma, this could indicate numerical convergence.\n",
      "                    Otherwise, please (re)consider how to compute the fitness more elaborately. (iteration=65)\n",
      " /home/finley/miniconda3/envs/testsuite/lib/python3.8/site-packages/cma/utilities/utils.py:329: UserWarning:flat fitness (f=-0.000000, sigma=1.91e-01).\n",
      "                    For small sigma, this could indicate numerical convergence.\n",
      "                    Otherwise, please (re)consider how to compute the fitness more elaborately. (iteration=66)\n"
     ]
    },
    {
     "name": "stdout",
     "output_type": "stream",
     "text": [
      "   67    603 -0.000000000000000e+00 1.1e+01 1.71e-01  2e-02  2e-01 1:39.7\n"
     ]
    },
    {
     "name": "stderr",
     "output_type": "stream",
     "text": [
      " /home/finley/miniconda3/envs/testsuite/lib/python3.8/site-packages/cma/utilities/utils.py:329: UserWarning:flat fitness (f=-0.000000, sigma=1.71e-01).\n",
      "                    For small sigma, this could indicate numerical convergence.\n",
      "                    Otherwise, please (re)consider how to compute the fitness more elaborately. (iteration=67)\n",
      " /home/finley/miniconda3/envs/testsuite/lib/python3.8/site-packages/cma/utilities/utils.py:329: UserWarning:flat fitness (f=-0.000000, sigma=1.60e-01).\n",
      "                    For small sigma, this could indicate numerical convergence.\n",
      "                    Otherwise, please (re)consider how to compute the fitness more elaborately. (iteration=68)\n",
      " /home/finley/miniconda3/envs/testsuite/lib/python3.8/site-packages/cma/utilities/utils.py:329: UserWarning:flat fitness (f=-0.000000, sigma=1.53e-01).\n",
      "                    For small sigma, this could indicate numerical convergence.\n",
      "                    Otherwise, please (re)consider how to compute the fitness more elaborately. (iteration=69)\n",
      " /home/finley/miniconda3/envs/testsuite/lib/python3.8/site-packages/cma/utilities/utils.py:329: UserWarning:flat fitness (f=-0.000000, sigma=1.57e-01).\n",
      "                    For small sigma, this could indicate numerical convergence.\n",
      "                    Otherwise, please (re)consider how to compute the fitness more elaborately. (iteration=70)\n",
      " /home/finley/miniconda3/envs/testsuite/lib/python3.8/site-packages/cma/utilities/utils.py:329: UserWarning:flat fitness (f=-0.000000, sigma=1.84e-01).\n",
      "                    For small sigma, this could indicate numerical convergence.\n",
      "                    Otherwise, please (re)consider how to compute the fitness more elaborately. (iteration=71)\n",
      " /home/finley/miniconda3/envs/testsuite/lib/python3.8/site-packages/cma/utilities/utils.py:329: UserWarning:flat fitness (f=-0.000000, sigma=1.60e-01).\n",
      "                    For small sigma, this could indicate numerical convergence.\n",
      "                    Otherwise, please (re)consider how to compute the fitness more elaborately. (iteration=73)\n",
      " /home/finley/miniconda3/envs/testsuite/lib/python3.8/site-packages/cma/utilities/utils.py:329: UserWarning:flat fitness (f=-0.000000, sigma=1.78e-01).\n",
      "                    For small sigma, this could indicate numerical convergence.\n",
      "                    Otherwise, please (re)consider how to compute the fitness more elaborately. (iteration=75)\n"
     ]
    },
    {
     "name": "stdout",
     "output_type": "stream",
     "text": [
      "   76    684 -0.000000000000000e+00 1.3e+01 1.64e-01  2e-02  2e-01 1:54.4\n"
     ]
    },
    {
     "name": "stderr",
     "output_type": "stream",
     "text": [
      " /home/finley/miniconda3/envs/testsuite/lib/python3.8/site-packages/cma/utilities/utils.py:329: UserWarning:flat fitness (f=-0.000000, sigma=1.64e-01).\n",
      "                    For small sigma, this could indicate numerical convergence.\n",
      "                    Otherwise, please (re)consider how to compute the fitness more elaborately. (iteration=76)\n",
      " /home/finley/miniconda3/envs/testsuite/lib/python3.8/site-packages/cma/utilities/utils.py:329: UserWarning:flat fitness (f=-0.000000, sigma=1.64e-01).\n",
      "                    For small sigma, this could indicate numerical convergence.\n",
      "                    Otherwise, please (re)consider how to compute the fitness more elaborately. (iteration=77)\n"
     ]
    },
    {
     "name": "stdout",
     "output_type": "stream",
     "text": [
      "   86    774 -6.925315824695577e-03 2.4e+01 2.63e-01  3e-02  3e-01 2:10.9\n",
      "   96    864 -1.095236475372996e-02 1.4e+01 1.04e-01  8e-03  9e-02 2:27.4\n",
      "  100    900 -1.107510292121461e-02 1.2e+01 7.49e-02  5e-03  5e-02 2:34.0\n",
      "  111    999 -1.113734043404113e-02 1.1e+01 2.56e-02  1e-03  1e-02 2:52.1\n",
      "  123   1107 -1.113762834070808e-02 1.1e+01 6.78e-03  3e-04  2e-03 3:12.1\n",
      "  136   1224 -1.113780090389094e-02 1.0e+01 1.78e-03  5e-05  4e-04 3:33.4\n",
      "  149   1341 -1.113780590680724e-02 1.0e+01 8.46e-04  2e-05  2e-04 3:54.9\n",
      "  163   1467 -1.113780709391454e-02 1.1e+01 3.68e-04  6e-06  5e-05 4:18.0\n",
      "  178   1602 -1.113780722378666e-02 1.3e+01 1.50e-04  2e-06  2e-05 4:42.6\n",
      "  193   1737 -1.113780723380975e-02 1.3e+01 4.53e-05  3e-07  4e-06 5:07.6\n",
      "  200   1800 -1.113780723448166e-02 1.4e+01 2.96e-05  2e-07  2e-06 5:19.2\n",
      "  209   1881 -1.113780723471658e-02 1.7e+01 1.44e-05  8e-08  1e-06 5:33.9\n",
      "termination on tolfun=1e-11 (Tue Aug 25 03:36:50 2020)\n",
      "final/bestever f-value = -1.113781e-02 -1.113781e-02\n",
      "incumbent solution: [1.9999999999999771, 3.275853313281337e-13, 3.6089541491884227, 1.0931332299033902, 6.123025518934071, 2.708825251053825]\n",
      "std deviation: [7.625462832956002e-08, 2.1202226086575556e-07, 4.569561830199373e-07, 5.634526944406904e-07, 9.731665948900936e-07, 9.752659090070195e-07]\n"
     ]
    },
    {
     "name": "stderr",
     "output_type": "stream",
     "text": [
      "reconstraining parameters GP_regression.Mat52.lengthscale\n",
      "reconstraining parameters GP_regression.Mat52.variance\n",
      "reconstraining parameters GP_regression.Gaussian_noise.variance\n"
     ]
    },
    {
     "name": "stdout",
     "output_type": "stream",
     "text": [
      "Optimization restart 1/10, f = 106.82105037088851\n",
      "Optimization restart 2/10, f = 720.9438766945021\n",
      "Optimization restart 3/10, f = 140.83705196641543\n",
      "Optimization restart 4/10, f = 634.8135083783969\n",
      "Optimization restart 5/10, f = 679.0104597680406\n",
      "Optimization restart 6/10, f = 720.9438766945021\n",
      "Optimization restart 7/10, f = 646.9811953248596\n",
      "Optimization restart 8/10, f = 720.9438766945021\n",
      "Optimization restart 9/10, f = 695.9344183208975\n",
      "Optimization restart 10/10, f = 535.2582255585464\n"
     ]
    },
    {
     "name": "stderr",
     "output_type": "stream",
     "text": [
      "reconstraining parameters GP_regression.Mat52.lengthscale\n",
      "reconstraining parameters GP_regression.Mat52.variance\n",
      "reconstraining parameters GP_regression.Gaussian_noise.variance\n"
     ]
    },
    {
     "name": "stdout",
     "output_type": "stream",
     "text": [
      "Optimization restart 1/10, f = 13.987831353958455\n",
      "Optimization restart 2/10, f = 2999720904.7484035\n",
      "Optimization restart 3/10, f = 5394082.995964884\n",
      "Optimization restart 4/10, f = 678.5122799277065\n",
      "Optimization restart 5/10, f = 3008270339.0786653\n",
      "Optimization restart 6/10, f = 664.3204152519729\n",
      "Optimization restart 7/10, f = 565.64357987262\n",
      "Optimization restart 8/10, f = 13.987831355509307\n",
      "Optimization restart 9/10, f = 679.4646757378531\n",
      "Optimization restart 10/10, f = 540.3090981090442\n",
      "(4_w,9)-aCMA-ES (mu_w=2.8,w_1=49%) in dimension 6 (seed=334344, Tue Aug 25 03:36:54 2020)\n",
      "Iterat #Fevals   function value  axis ratio  sigma  min&max std  t[m:s]\n",
      "    1      9 1.818058948695711e+00 1.0e+00 2.42e-01  2e-01  2e-01 0:01.1\n"
     ]
    },
    {
     "name": "stderr",
     "output_type": "stream",
     "text": [
      " /home/finley/miniconda3/envs/testsuite/lib/python3.8/site-packages/cma/utilities/utils.py:329: UserWarning:function_values is not a list of scalars,\n",
      "                        the first element equals [2.37766328] with non-scalar type <class 'numpy.ndarray'>.\n",
      "                        Using now ``[v[0] for v in function_values]`` instead (further warnings are suppressed) ()\n"
     ]
    },
    {
     "name": "stdout",
     "output_type": "stream",
     "text": [
      "    2     18 1.591543774778058e+00 1.2e+00 2.37e-01  2e-01  2e-01 0:02.3\n"
     ]
    },
    {
     "name": "stderr",
     "output_type": "stream",
     "text": [
      " /home/finley/miniconda3/envs/testsuite/lib/python3.8/site-packages/cma/utilities/utils.py:329: UserWarning:function_values is not a list of scalars,\n",
      "                        the first element equals [1.59154377] with non-scalar type <class 'numpy.ndarray'>.\n",
      "                        Using now ``[v[0] for v in function_values]`` instead (further warnings are suppressed) ()\n"
     ]
    },
    {
     "name": "stdout",
     "output_type": "stream",
     "text": [
      "    3     27 1.474906450321539e+00 1.4e+00 2.34e-01  2e-01  2e-01 0:03.4\n",
      "    6     54 1.149565189533148e+00 1.7e+00 2.96e-01  2e-01  3e-01 0:06.9\n",
      "   10     90 5.682739762092628e-01 2.0e+00 4.90e-01  4e-01  6e-01 0:11.4\n",
      "   15    135 5.685178013356516e-01 2.2e+00 7.43e-01  5e-01  8e-01 0:17.1\n",
      "   21    189 2.173803855821717e-01 3.3e+00 9.37e-01  5e-01  1e+00 0:23.8\n",
      "   27    243 -1.374352247868416e-03 4.2e+00 6.26e-01  2e-01  6e-01 0:31.2\n",
      "   33    297 -8.234285699643795e-03 5.3e+00 4.71e-01  1e-01  5e-01 0:40.0\n",
      "   39    351 -1.246371439049643e-02 7.9e+00 4.01e-01  9e-02  4e-01 0:50.0\n",
      "   46    414 -1.537075783391373e-02 9.9e+00 2.58e-01  4e-02  3e-01 1:01.6\n",
      "   53    477 -1.641821044802905e-02 1.1e+01 1.59e-01  2e-02  2e-01 1:13.3\n",
      "   61    549 -1.762590180633206e-02 1.6e+01 8.65e-02  7e-03  8e-02 1:26.8\n",
      "   69    621 -1.771970888550056e-02 1.9e+01 6.88e-02  4e-03  6e-02 1:40.2\n",
      "   78    702 -1.782783094931206e-02 2.3e+01 3.63e-02  2e-03  3e-02 1:55.5\n",
      "   87    783 -1.784366599111076e-02 2.7e+01 1.28e-02  4e-04  9e-03 2:11.5\n",
      "   95    855 -1.784466224093384e-02 3.3e+01 5.20e-03  1e-04  3e-03 2:28.1\n",
      "  100    900 -1.784472864311626e-02 3.0e+01 3.41e-03  8e-05  2e-03 2:37.1\n",
      "  110    990 -1.784475007797282e-02 2.6e+01 1.56e-03  3e-05  7e-04 2:56.4\n",
      "  120   1080 -1.784475567524302e-02 3.2e+01 5.32e-04  8e-06  2e-04 3:15.9\n",
      "  131   1179 -1.784475588874868e-02 3.6e+01 1.48e-04  2e-06  4e-05 3:36.8\n",
      "  143   1287 -1.784475588793510e-02 4.4e+01 7.95e-05  7e-07  2e-05 3:59.6\n",
      "  155   1395 -1.784475589597356e-02 4.0e+01 4.12e-05  3e-07  1e-05 4:21.6\n",
      "  168   1512 -1.784475589757673e-02 3.3e+01 2.08e-05  2e-07  3e-06 4:46.3\n",
      "  171   1539 -1.784475589754031e-02 3.4e+01 1.30e-05  8e-08  2e-06 4:52.1\n"
     ]
    },
    {
     "name": "stderr",
     "output_type": "stream",
     "text": [
      "reconstraining parameters GP_regression.Mat52.lengthscale\n",
      "reconstraining parameters GP_regression.Mat52.variance\n",
      "reconstraining parameters GP_regression.Gaussian_noise.variance\n"
     ]
    },
    {
     "name": "stdout",
     "output_type": "stream",
     "text": [
      "termination on tolfun=1e-11 (Tue Aug 25 03:41:46 2020)\n",
      "final/bestever f-value = -1.784476e-02 -1.784476e-02\n",
      "incumbent solution: [1.0497645884015006, 0.6632666930780459, 2.871479359642436, 2.2001950222635456, 2.3992849198080606, 3.4529874980062383]\n",
      "std deviation: [7.991155416267405e-08, 2.4037509304161057e-07, 7.600769908573058e-07, 1.7847004088148146e-06, 1.0243505112186989e-06, 7.695504283235435e-07]\n",
      "Optimization restart 1/10, f = 104.30181434820778\n",
      "Optimization restart 2/10, f = 677.0724459686214\n",
      "Optimization restart 3/10, f = 623.6468743604163\n",
      "Optimization restart 4/10, f = 3882044864.0491223\n",
      "Optimization restart 5/10, f = 142.11069357359213\n",
      "Optimization restart 6/10, f = 38665542.21415649\n",
      "Optimization restart 7/10, f = 727.6192175949591\n",
      "Optimization restart 8/10, f = 145.40510508583554\n",
      "Optimization restart 9/10, f = 129.66820411649766\n"
     ]
    },
    {
     "name": "stderr",
     "output_type": "stream",
     "text": [
      "reconstraining parameters GP_regression.Mat52.lengthscale\n",
      "reconstraining parameters GP_regression.Mat52.variance\n",
      "reconstraining parameters GP_regression.Gaussian_noise.variance\n"
     ]
    },
    {
     "name": "stdout",
     "output_type": "stream",
     "text": [
      "Optimization restart 10/10, f = 115.65546029174162\n",
      "Optimization restart 1/10, f = 11.887115677886491\n",
      "Optimization restart 2/10, f = 727.619282960192\n",
      "Optimization restart 3/10, f = 686.4077418801087\n",
      "Optimization restart 4/10, f = 653.3234948988546\n",
      "Optimization restart 5/10, f = 506.46693533178933\n",
      "Optimization restart 6/10, f = 3025196819.052374\n",
      "Optimization restart 7/10, f = 146.32194161790017\n",
      "Optimization restart 8/10, f = 111.83808780646157\n",
      "Optimization restart 9/10, f = 727.619282960192\n",
      "Optimization restart 10/10, f = 727.619282960192\n",
      "(4_w,9)-aCMA-ES (mu_w=2.8,w_1=49%) in dimension 6 (seed=513723, Tue Aug 25 03:41:56 2020)\n",
      "Iterat #Fevals   function value  axis ratio  sigma  min&max std  t[m:s]\n",
      "    1      9 7.158954828585555e-01 1.0e+00 2.72e-01  3e-01  3e-01 0:02.5\n"
     ]
    },
    {
     "name": "stderr",
     "output_type": "stream",
     "text": [
      " /home/finley/miniconda3/envs/testsuite/lib/python3.8/site-packages/cma/utilities/utils.py:329: UserWarning:function_values is not a list of scalars,\n",
      "                        the first element equals [0.71589548] with non-scalar type <class 'numpy.ndarray'>.\n",
      "                        Using now ``[v[0] for v in function_values]`` instead (further warnings are suppressed) ()\n"
     ]
    },
    {
     "name": "stdout",
     "output_type": "stream",
     "text": [
      "    2     18 7.168738685246350e-01 1.4e+00 2.83e-01  3e-01  3e-01 0:03.7\n"
     ]
    },
    {
     "name": "stderr",
     "output_type": "stream",
     "text": [
      " /home/finley/miniconda3/envs/testsuite/lib/python3.8/site-packages/cma/utilities/utils.py:329: UserWarning:function_values is not a list of scalars,\n",
      "                        the first element equals [0.97420635] with non-scalar type <class 'numpy.ndarray'>.\n",
      "                        Using now ``[v[0] for v in function_values]`` instead (further warnings are suppressed) ()\n"
     ]
    },
    {
     "name": "stdout",
     "output_type": "stream",
     "text": [
      "    3     27 7.082419124239285e-01 1.7e+00 2.78e-01  2e-01  3e-01 0:04.9\n",
      "    6     54 4.803932309539745e-01 2.0e+00 2.93e-01  2e-01  4e-01 0:09.1\n",
      "   10     90 4.268804134299482e-01 3.5e+00 3.87e-01  2e-01  6e-01 0:14.4\n",
      "   13    117 -0.000000000000000e+00 4.7e+00 5.03e-01  2e-01  1e+00 0:19.6\n",
      "   19    171 -0.000000000000000e+00 7.0e+00 4.07e-01  1e-01  7e-01 0:26.8\n",
      "   25    225 -0.000000000000000e+00 9.2e+00 3.23e-01  8e-02  5e-01 0:34.6\n",
      "   31    279 -0.000000000000000e+00 1.1e+01 2.78e-01  6e-02  5e-01 0:44.0\n"
     ]
    },
    {
     "name": "stderr",
     "output_type": "stream",
     "text": [
      " /home/finley/miniconda3/envs/testsuite/lib/python3.8/site-packages/cma/utilities/utils.py:329: UserWarning:flat fitness (f=-0.000000, sigma=2.72e-01).\n",
      "                    For small sigma, this could indicate numerical convergence.\n",
      "                    Otherwise, please (re)consider how to compute the fitness more elaborately. (iteration=32)\n",
      " /home/finley/miniconda3/envs/testsuite/lib/python3.8/site-packages/cma/utilities/utils.py:329: UserWarning:flat fitness (f=-0.000000, sigma=2.78e-01).\n",
      "                    For small sigma, this could indicate numerical convergence.\n",
      "                    Otherwise, please (re)consider how to compute the fitness more elaborately. (iteration=34)\n"
     ]
    },
    {
     "name": "stdout",
     "output_type": "stream",
     "text": [
      "   37    333 -0.000000000000000e+00 1.2e+01 3.30e-01  6e-02  6e-01 0:53.8\n",
      "   43    387 -0.000000000000000e+00 1.1e+01 2.46e-01  4e-02  4e-01 1:04.5\n"
     ]
    },
    {
     "name": "stderr",
     "output_type": "stream",
     "text": [
      " /home/finley/miniconda3/envs/testsuite/lib/python3.8/site-packages/cma/utilities/utils.py:329: UserWarning:flat fitness (f=-0.000000, sigma=2.46e-01).\n",
      "                    For small sigma, this could indicate numerical convergence.\n",
      "                    Otherwise, please (re)consider how to compute the fitness more elaborately. (iteration=43)\n",
      " /home/finley/miniconda3/envs/testsuite/lib/python3.8/site-packages/cma/utilities/utils.py:329: UserWarning:flat fitness (f=-0.000000, sigma=2.28e-01).\n",
      "                    For small sigma, this could indicate numerical convergence.\n",
      "                    Otherwise, please (re)consider how to compute the fitness more elaborately. (iteration=44)\n",
      " /home/finley/miniconda3/envs/testsuite/lib/python3.8/site-packages/cma/utilities/utils.py:329: UserWarning:flat fitness (f=-0.000000, sigma=2.18e-01).\n",
      "                    For small sigma, this could indicate numerical convergence.\n",
      "                    Otherwise, please (re)consider how to compute the fitness more elaborately. (iteration=45)\n",
      " /home/finley/miniconda3/envs/testsuite/lib/python3.8/site-packages/cma/utilities/utils.py:329: UserWarning:flat fitness (f=-0.000000, sigma=2.12e-01).\n",
      "                    For small sigma, this could indicate numerical convergence.\n",
      "                    Otherwise, please (re)consider how to compute the fitness more elaborately. (iteration=46)\n",
      " /home/finley/miniconda3/envs/testsuite/lib/python3.8/site-packages/cma/utilities/utils.py:329: UserWarning:flat fitness (f=-0.000000, sigma=2.27e-01).\n",
      "                    For small sigma, this could indicate numerical convergence.\n",
      "                    Otherwise, please (re)consider how to compute the fitness more elaborately. (iteration=47)\n"
     ]
    },
    {
     "name": "stdout",
     "output_type": "stream",
     "text": [
      "   48    432 -0.000000000000000e+00 1.1e+01 2.43e-01  5e-02  4e-01 1:13.2\n"
     ]
    },
    {
     "name": "stderr",
     "output_type": "stream",
     "text": [
      " /home/finley/miniconda3/envs/testsuite/lib/python3.8/site-packages/cma/utilities/utils.py:329: UserWarning:flat fitness (f=-0.000000, sigma=2.43e-01).\n",
      "                    For small sigma, this could indicate numerical convergence.\n",
      "                    Otherwise, please (re)consider how to compute the fitness more elaborately. (iteration=48)\n"
     ]
    },
    {
     "name": "stdout",
     "output_type": "stream",
     "text": [
      "termination on tolfun=1e-11 (Tue Aug 25 03:43:10 2020)\n",
      "termination on tolfunhist=1e-12 (Tue Aug 25 03:43:10 2020)\n",
      "termination on flat fitness=please (re)consider how to compute the fitness more elaborately if sigma=2.43e-01 is large (Tue Aug 25 03:43:10 2020)\n",
      "final/bestever f-value = -0.000000e+00 -0.000000e+00\n",
      "incumbent solution: [1.9979818438393158, 0.014301087099949716, 4.273799040833029, 2.1602564345551736, 4.635115930771152, 8.881670248203516]\n",
      "std deviation: [0.04719010167118838, 0.06579347091745673, 0.22893040516697089, 0.2355168503291725, 0.3557376543925828, 0.29657626649047497]\n"
     ]
    }
   ],
   "source": [
    "opt.optimise(n_steps=100)"
   ]
  },
  {
   "cell_type": "code",
   "execution_count": 13,
   "metadata": {},
   "outputs": [
    {
     "data": {
      "text/plain": [
       "[]"
      ]
     },
     "execution_count": 13,
     "metadata": {},
     "output_type": "execute_result"
    }
   ],
   "source": [
    "opt.log_data[\"errors\"]"
   ]
  },
  {
   "cell_type": "code",
   "execution_count": 15,
   "metadata": {},
   "outputs": [],
   "source": [
    "help SmsEgo?"
   ]
  }
 ],
 "metadata": {
  "kernelspec": {
   "display_name": "testsuite",
   "language": "python",
   "name": "testsuite"
  },
  "language_info": {
   "codemirror_mode": {
    "name": "ipython",
    "version": 3
   },
   "file_extension": ".py",
   "mimetype": "text/x-python",
   "name": "python",
   "nbconvert_exporter": "python",
   "pygments_lexer": "ipython3",
   "version": "3.8.3"
  },
  "varInspector": {
   "cols": {
    "lenName": 16,
    "lenType": 16,
    "lenVar": 40
   },
   "kernels_config": {
    "python": {
     "delete_cmd_postfix": "",
     "delete_cmd_prefix": "del ",
     "library": "var_list.py",
     "varRefreshCmd": "print(var_dic_list())"
    },
    "r": {
     "delete_cmd_postfix": ") ",
     "delete_cmd_prefix": "rm(",
     "library": "var_list.r",
     "varRefreshCmd": "cat(var_dic_list()) "
    }
   },
   "types_to_exclude": [
    "module",
    "function",
    "builtin_function_or_method",
    "instance",
    "_Feature"
   ],
   "window_display": false
  }
 },
 "nbformat": 4,
 "nbformat_minor": 4
}
