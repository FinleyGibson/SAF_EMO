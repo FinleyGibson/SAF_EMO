{
 "cells": [
  {
   "cell_type": "code",
   "execution_count": 1,
   "metadata": {},
   "outputs": [],
   "source": [
    "import matplotlib.pyplot as plt\n",
    "import wfg\n",
    "import numpy as np\n",
    "import rootpath \n",
    "import sys\n",
    "sys.path.append(rootpath.detect())\n",
    "from testsuite.surrogates import GP, MultiSurrogate\n",
    "from testsuite.optimisers import BayesianOptimiser, SmsEgo"
   ]
  },
  {
   "cell_type": "code",
   "execution_count": 2,
   "metadata": {},
   "outputs": [],
   "source": [
    "## set up objective function\n",
    "kfactor = 2\n",
    "lfactor = 2\n",
    "n_objectives = 2\n",
    "n_dims = lfactor * 2 + kfactor\n",
    "\n",
    "k = kfactor * (n_objectives - 1)\n",
    "l = lfactor * 2\n",
    "wfg_n = 6\n",
    "exec(\"func = wfg.WFG{}\".format(int(wfg_n)))\n",
    "\n",
    "def wfg2(x):\n",
    "    if x.ndim == 2:\n",
    "        assert (x.shape[1] == n_dims)\n",
    "    else:\n",
    "        squeezable = np.where([a == 1 for a in x.shape])[0]\n",
    "        for i in squeezable[::-1]:\n",
    "            x = x.squeeze(i)\n",
    "\n",
    "    if x.ndim == 1:\n",
    "        assert (x.shape[0] == n_dims)\n",
    "        x = x.reshape(1, -1)\n",
    "    return np.array([func(xi, k, n_objectives) for xi in x])"
   ]
  },
  {
   "cell_type": "code",
   "execution_count": 3,
   "metadata": {},
   "outputs": [],
   "source": [
    "limits = [np.zeros((n_dims)), np.array(range(1, n_dims + 1)) * 2]\n",
    "\n",
    "gp_multisurr = MultiSurrogate(GP, scaled=True)\n",
    "opt = SmsEgo(objective_function=wfg2, limits=limits, surrogate=gp_multisurr, n_initial=10, seed=None, log_interval=10)\n",
    "\n",
    "# opt.alpha(opt.x[0:1], opt.surrogate, opt.y)\n",
    "# opt.optimise(n_steps=10)"
   ]
  },
  {
   "cell_type": "code",
   "execution_count": 4,
   "metadata": {},
   "outputs": [
    {
     "name": "stderr",
     "output_type": "stream",
     "text": [
      "reconstraining parameters GP_regression.Mat52.lengthscale\n",
      "reconstraining parameters GP_regression.Mat52.variance\n",
      "reconstraining parameters GP_regression.Gaussian_noise.variance\n"
     ]
    },
    {
     "name": "stdout",
     "output_type": "stream",
     "text": [
      "Optimization restart 1/10, f = 14.1893843324335\n",
      "Optimization restart 2/10, f = 499452.12925600784\n",
      "Optimization restart 3/10, f = 12.556373347000676\n",
      "Optimization restart 4/10, f = 20.853583676214665\n",
      "Optimization restart 5/10, f = 13.384483077190001\n",
      "Optimization restart 6/10, f = 25.910364915401505\n",
      "Optimization restart 7/10, f = 78803764.3513585\n",
      "Optimization restart 8/10, f = 24.733770375869632\n"
     ]
    },
    {
     "name": "stderr",
     "output_type": "stream",
     "text": [
      "reconstraining parameters GP_regression.Mat52.lengthscale\n",
      "reconstraining parameters GP_regression.Mat52.variance\n",
      "reconstraining parameters GP_regression.Gaussian_noise.variance\n"
     ]
    },
    {
     "name": "stdout",
     "output_type": "stream",
     "text": [
      "Optimization restart 9/10, f = 21.34471581291552\n",
      "Optimization restart 10/10, f = 13.867381012846883\n",
      "Optimization restart 1/10, f = 14.189384866680072\n",
      "Optimization restart 2/10, f = 13.357898379274825\n",
      "Optimization restart 3/10, f = 24.888984458842213\n",
      "Optimization restart 4/10, f = 11.499907862755535\n",
      "Optimization restart 5/10, f = 13.357898391311807\n",
      "Optimization restart 6/10, f = 14.189385332046726\n",
      "Optimization restart 7/10, f = 14.189385332046752\n",
      "Optimization restart 8/10, f = 14.189385332046726\n",
      "Optimization restart 9/10, f = 14.18938533204673\n",
      "Optimization restart 10/10, f = 10.67004497419008\n",
      "(4_w,9)-aCMA-ES (mu_w=2.8,w_1=49%) in dimension 6 (seed=443386, Tue Aug 25 18:13:35 2020)\n",
      "Iterat #Fevals   function value  axis ratio  sigma  min&max std  t[m:s]\n",
      "    1      9 9.464029801682010e-01 1.0e+00 2.58e-01  2e-01  3e-01 0:00.0\n",
      "    2     18 3.365303459418238e-01 1.3e+00 3.08e-01  3e-01  4e-01 0:00.1\n",
      "    3     27 -1.942156167396207e-01 1.4e+00 3.63e-01  3e-01  4e-01 0:00.2\n",
      "   70    630 -1.683793134085270e+00 5.0e+01 1.29e-01  4e-03  2e-01 0:03.2\n",
      "  100    900 -1.684040728186487e+00 1.3e+02 8.06e-03  1e-04  1e-02 0:04.6\n",
      "NOTE (module=cma, iteration=176):  \n",
      "condition in coordinate system exceeded 1.1e+08, rescaled to 1.0e+00, \n",
      "condition changed from 8.1e+07 to 3.3e+01\n",
      "  200   1800 -1.684040854324469e+00 9.8e+00 3.71e-03  2e-06  9e-02 0:09.4\n",
      "  300   2700 -1.684040855437957e+00 9.9e+01 1.32e-02  7e-07  1e-01 0:14.0\n",
      "  333   2997 -1.684040855458034e+00 8.8e+01 6.81e-04  2e-08  3e-03 0:15.6\n"
     ]
    },
    {
     "name": "stderr",
     "output_type": "stream",
     "text": [
      "reconstraining parameters GP_regression.Mat52.lengthscale\n",
      "reconstraining parameters GP_regression.Mat52.variance\n",
      "reconstraining parameters GP_regression.Gaussian_noise.variance\n"
     ]
    },
    {
     "name": "stdout",
     "output_type": "stream",
     "text": [
      "termination on tolfun=1e-11 (Tue Aug 25 18:13:51 2020)\n",
      "final/bestever f-value = -1.684041e+00 -1.684041e+00\n",
      "incumbent solution: [0.3418408507017091, 3.999999999999999, 1.581988012502185e-13, 3.491370849598665, 3.1430896356616054, 2.5525594743585143]\n",
      "std deviation: [1.676743522575071e-08, 1.3714041326880507e-07, 3.518434500361071e-07, 6.63056399400735e-08, 0.0030665858807127078, 0.0026180509721480745]\n",
      "Optimization restart 1/10, f = 15.150947389745555\n",
      "Optimization restart 2/10, f = 15.60832386525172\n",
      "Optimization restart 3/10, f = 228031495.0816996\n",
      "Optimization restart 4/10, f = 15.608323865272643\n",
      "Optimization restart 5/10, f = 15.367781571890518\n",
      "Optimization restart 6/10, f = 15.367777257694712\n",
      "Optimization restart 7/10, f = 73.4294689225882\n",
      "Optimization restart 8/10, f = 15.608323865251396\n"
     ]
    },
    {
     "name": "stderr",
     "output_type": "stream",
     "text": [
      "reconstraining parameters GP_regression.Mat52.lengthscale\n",
      "reconstraining parameters GP_regression.Mat52.variance\n",
      "reconstraining parameters GP_regression.Gaussian_noise.variance\n"
     ]
    },
    {
     "name": "stdout",
     "output_type": "stream",
     "text": [
      "Optimization restart 9/10, f = 228296148.82404068\n",
      "Optimization restart 10/10, f = 15.608323865251402\n",
      "Optimization restart 1/10, f = 9.991840207376397\n",
      "Optimization restart 2/10, f = 15.60832386525163\n",
      "Optimization restart 3/10, f = 15.608323865251576\n",
      "Optimization restart 4/10, f = 73.42946722411867\n",
      "Optimization restart 5/10, f = 15.608324069232202\n",
      "Optimization restart 6/10, f = 73.4294689225882\n",
      "Optimization restart 7/10, f = 73.4294689225882\n",
      "Optimization restart 8/10, f = 15.608323865251402\n",
      "Optimization restart 9/10, f = 15.60832388796444\n",
      "Optimization restart 10/10, f = 15.60832388899543\n",
      "(4_w,9)-aCMA-ES (mu_w=2.8,w_1=49%) in dimension 6 (seed=420202, Tue Aug 25 18:13:53 2020)\n",
      "Iterat #Fevals   function value  axis ratio  sigma  min&max std  t[m:s]\n",
      "    1      9 -7.133578324205136e-02 1.0e+00 2.63e-01  3e-01  3e-01 0:00.0\n",
      "    2     18 -1.375740856636469e-01 1.4e+00 2.59e-01  2e-01  3e-01 0:00.2\n",
      "    3     27 -1.750945834460604e-01 1.4e+00 2.82e-01  2e-01  3e-01 0:00.2\n",
      "   60    540 -3.912268558943850e-01 2.2e+01 3.25e-02  3e-03  5e-02 0:03.3\n",
      "  100    900 -3.912522950093746e-01 9.4e+01 2.29e-03  4e-05  4e-03 0:05.3\n",
      "  158   1422 -3.912523055531698e-01 2.0e+03 2.72e-04  8e-07  1e-03 0:10.4\n",
      "NOTE (module=cma, iteration=187):  \n",
      "condition in coordinate system exceeded 1.2e+08, rescaled to 1.0e+00, \n",
      "condition changed from 2.4e+08 to 2.0e+03\n",
      "  200   1800 -3.912523064804618e-01 4.7e+01 5.44e-03  7e-06  1e-01 0:12.5\n",
      "  290   2610 -3.912523206564724e-01 1.0e+01 7.62e-04  1e-07  5e-03 0:17.0\n"
     ]
    },
    {
     "name": "stderr",
     "output_type": "stream",
     "text": [
      "reconstraining parameters GP_regression.Mat52.lengthscale\n",
      "reconstraining parameters GP_regression.Mat52.variance\n",
      "reconstraining parameters GP_regression.Gaussian_noise.variance\n"
     ]
    },
    {
     "name": "stdout",
     "output_type": "stream",
     "text": [
      "termination on tolfun=1e-11 (Tue Aug 25 18:14:10 2020)\n",
      "final/bestever f-value = -3.912523e-01 -3.912523e-01\n",
      "incumbent solution: [2.0, 6.220885429966789e-15, 1.928359578091961e-13, 1.4610834301183782, 0.0032489619982130464, 9.504227467557778]\n",
      "std deviation: [1.11529900676926e-07, 3.4604384137149007e-07, 7.890551955687832e-07, 1.2155177797808122e-06, 0.003025478623449887, 0.004520893564541882]\n",
      "Optimization restart 1/10, f = 16.646152928570558\n",
      "Optimization restart 2/10, f = 23.049031716235458\n",
      "Optimization restart 3/10, f = 34.14299937846296\n",
      "Optimization restart 4/10, f = 16.114765436725822\n",
      "Optimization restart 5/10, f = 17.027262398456145\n",
      "Optimization restart 6/10, f = 14.464677616826332\n",
      "Optimization restart 7/10, f = 14.464677654604383\n",
      "Optimization restart 8/10, f = 72.75199729248165\n"
     ]
    },
    {
     "name": "stderr",
     "output_type": "stream",
     "text": [
      "reconstraining parameters GP_regression.Mat52.lengthscale\n",
      "reconstraining parameters GP_regression.Mat52.variance\n",
      "reconstraining parameters GP_regression.Gaussian_noise.variance\n"
     ]
    },
    {
     "name": "stdout",
     "output_type": "stream",
     "text": [
      "Optimization restart 9/10, f = 599342.5551072092\n",
      "Optimization restart 10/10, f = 17.027262398456983\n",
      "Optimization restart 1/10, f = 10.471108902736562\n",
      "Optimization restart 2/10, f = 290962046.8706209\n",
      "Optimization restart 3/10, f = 13.137351537093283\n",
      "Optimization restart 4/10, f = 17.027262421335156\n",
      "Optimization restart 5/10, f = 17.027262730405972\n",
      "Optimization restart 6/10, f = 17.02726244586291\n",
      "Optimization restart 7/10, f = 17.027262398460024\n",
      "Optimization restart 8/10, f = 14.306743997593603\n",
      "Optimization restart 9/10, f = 16.979307596928884\n",
      "Optimization restart 10/10, f = 10.133906055755432\n",
      "(4_w,9)-aCMA-ES (mu_w=2.8,w_1=49%) in dimension 6 (seed=508422, Tue Aug 25 18:14:12 2020)\n",
      "Iterat #Fevals   function value  axis ratio  sigma  min&max std  t[m:s]\n",
      "    1      9 4.489828311476700e-01 1.0e+00 2.38e-01  2e-01  2e-01 0:00.0\n",
      "    2     18 1.576806435877254e-01 1.3e+00 2.39e-01  2e-01  3e-01 0:00.1\n",
      "    3     27 1.481720988255719e-02 1.5e+00 2.67e-01  2e-01  3e-01 0:00.1\n",
      "   57    513 -3.292361916269388e-01 3.5e+01 7.78e-02  4e-03  1e-01 0:03.2\n",
      "  100    900 -3.292400479571416e-01 2.7e+02 6.92e-03  5e-05  1e-02 0:05.5\n",
      "NOTE (module=cma, iteration=168):  \n",
      "condition in coordinate system exceeded 1.3e+08, rescaled to 1.0e+00, \n",
      "condition changed from 1.6e+08 to 3.5e+02\n",
      "  189   1701 -3.292400513803158e-01 9.1e+01 3.17e-02  1e-05  8e-01 0:10.6\n",
      "  200   1800 -3.292400548811292e-01 1.5e+02 6.00e-02  2e-05  3e+00 0:11.2\n",
      "  300   2700 -3.292400561284701e-01 7.0e+01 4.32e-02  8e-07  1e-01 0:16.8\n",
      "  354   3186 -3.292400563279207e-01 9.4e+01 2.14e-02  1e-07  3e-02 0:19.8\n"
     ]
    },
    {
     "name": "stderr",
     "output_type": "stream",
     "text": [
      "reconstraining parameters GP_regression.Mat52.lengthscale\n",
      "reconstraining parameters GP_regression.Mat52.variance\n",
      "reconstraining parameters GP_regression.Gaussian_noise.variance\n"
     ]
    },
    {
     "name": "stdout",
     "output_type": "stream",
     "text": [
      "termination on tolfun=1e-11 (Tue Aug 25 18:14:32 2020)\n",
      "final/bestever f-value = -3.292401e-01 -3.292401e-01\n",
      "incumbent solution: [2.2041043577455253e-14, 2.170865784714306, 3.7433637263207724, 5.094741327358433, 5.61846552962527, 11.999981482789382]\n",
      "std deviation: [1.6443163352209599e-07, 1.0508640744241868e-07, 4.419666779933695e-06, 0.017341369488228325, 0.02164648355151605, 0.031403312228841324]\n",
      "Optimization restart 1/10, f = 16.881676836333696\n",
      "Optimization restart 2/10, f = 16.120227402946437\n",
      "Optimization restart 3/10, f = 16.401820690552167\n",
      "Optimization restart 4/10, f = 18.446201131684738\n",
      "Optimization restart 5/10, f = 78.67744024058231\n",
      "Optimization restart 6/10, f = 18.446200931664354\n",
      "Optimization restart 7/10, f = 289635864.0760658\n",
      "Optimization restart 8/10, f = 288945146.83077514\n"
     ]
    },
    {
     "name": "stderr",
     "output_type": "stream",
     "text": [
      "reconstraining parameters GP_regression.Mat52.lengthscale\n",
      "reconstraining parameters GP_regression.Mat52.variance\n",
      "reconstraining parameters GP_regression.Gaussian_noise.variance\n"
     ]
    },
    {
     "name": "stdout",
     "output_type": "stream",
     "text": [
      "Optimization restart 9/10, f = 18.066146700321237\n",
      "Optimization restart 10/10, f = 18.446200931660748\n",
      "Optimization restart 1/10, f = 10.819759896503367\n",
      "Optimization restart 2/10, f = 17.939442955724907\n",
      "Optimization restart 3/10, f = 17.909145386906413\n",
      "Optimization restart 4/10, f = 18.446200931660744\n",
      "Optimization restart 5/10, f = 12.999887799852516\n",
      "Optimization restart 6/10, f = 18.446200931660805\n",
      "Optimization restart 7/10, f = 18.446200931660748\n",
      "Optimization restart 8/10, f = 12.999887790172785\n",
      "Optimization restart 9/10, f = 86.78028145396787\n",
      "Optimization restart 10/10, f = 18.44620093166074\n",
      "(4_w,9)-aCMA-ES (mu_w=2.8,w_1=49%) in dimension 6 (seed=530405, Tue Aug 25 18:14:34 2020)\n",
      "Iterat #Fevals   function value  axis ratio  sigma  min&max std  t[m:s]\n",
      "    1      9 9.286126946282143e-01 1.0e+00 2.62e-01  2e-01  3e-01 0:00.1\n",
      "    2     18 2.603567354307830e-01 1.3e+00 3.15e-01  3e-01  3e-01 0:00.1\n",
      "    3     27 7.265574920414619e-02 1.4e+00 3.66e-01  3e-01  4e-01 0:00.2\n",
      "   70    630 4.527005300206821e-02 1.5e+01 8.51e-03  1e-03  9e-03 0:03.2\n",
      "  100    900 4.526945576518027e-02 5.5e+01 1.17e-03  4e-05  1e-03 0:04.5\n",
      "  154   1386 4.526945153225492e-02 9.4e+02 4.52e-05  2e-07  1e-04 0:07.0\n"
     ]
    },
    {
     "name": "stderr",
     "output_type": "stream",
     "text": [
      "reconstraining parameters GP_regression.Mat52.lengthscale\n",
      "reconstraining parameters GP_regression.Mat52.variance\n",
      "reconstraining parameters GP_regression.Gaussian_noise.variance\n"
     ]
    },
    {
     "name": "stdout",
     "output_type": "stream",
     "text": [
      "termination on tolfun=1e-11 (Tue Aug 25 18:14:41 2020)\n",
      "final/bestever f-value = 4.526945e-02 4.526945e-02\n",
      "incumbent solution: [3.313117562320496e-14, 3.9572454345249906, 0.0006081648611542468, 3.621820616604674, 6.140018070076201, 7.440448695160078]\n",
      "std deviation: [3.1361779926167546e-07, 4.715236858386701e-07, 1.8660462464254223e-07, 0.00010595065258194173, 0.00013024531571916178, 5.6755015810167555e-05]\n",
      "Optimization restart 1/10, f = 17.648171298992015\n",
      "Optimization restart 2/10, f = 29.243117654974178\n",
      "Optimization restart 3/10, f = 19.86513946486542\n",
      "Optimization restart 4/10, f = 19.865139464865422\n",
      "Optimization restart 5/10, f = 16.147710258190322\n",
      "Optimization restart 6/10, f = 31.40010103933085\n",
      "Optimization restart 7/10, f = 18.783282470564465\n",
      "Optimization restart 8/10, f = 19.86513946486547\n",
      "Optimization restart 9/10, f = 314795952.7456574\n"
     ]
    },
    {
     "name": "stderr",
     "output_type": "stream",
     "text": [
      "reconstraining parameters GP_regression.Mat52.lengthscale\n",
      "reconstraining parameters GP_regression.Mat52.variance\n",
      "reconstraining parameters GP_regression.Gaussian_noise.variance\n"
     ]
    },
    {
     "name": "stdout",
     "output_type": "stream",
     "text": [
      "Optimization restart 10/10, f = 19.86513946486542\n",
      "Optimization restart 1/10, f = 9.848808268479095\n",
      "Optimization restart 2/10, f = 699232.980958411\n",
      "Optimization restart 3/10, f = 10.035286716622249\n",
      "Optimization restart 4/10, f = 19.86513949428532\n",
      "Optimization restart 5/10, f = 19.86513946486542\n",
      "Optimization restart 6/10, f = 18.196305282420617\n",
      "Optimization restart 7/10, f = 93.4556877196577\n",
      "Optimization restart 8/10, f = 18.85476146201315\n",
      "Optimization restart 9/10, f = 19.865128115523902\n",
      "Optimization restart 10/10, f = 18.854734540134345\n",
      "(4_w,9)-aCMA-ES (mu_w=2.8,w_1=49%) in dimension 6 (seed=547575, Tue Aug 25 18:14:43 2020)\n",
      "Iterat #Fevals   function value  axis ratio  sigma  min&max std  t[m:s]\n",
      "    1      9 2.197076555160691e-01 1.0e+00 2.44e-01  2e-01  3e-01 0:00.1\n",
      "    2     18 8.383631243520351e-02 1.3e+00 2.67e-01  3e-01  3e-01 0:00.1\n",
      "    3     27 3.378855075641218e-02 1.4e+00 2.96e-01  3e-01  3e-01 0:00.2\n",
      "   57    513 -7.617865425751869e-02 1.2e+01 2.11e-01  3e-02  3e-01 0:03.2\n",
      "  100    900 -7.644703169963663e-02 1.3e+02 2.12e-02  2e-04  2e-02 0:06.1\n",
      "  178   1602 -7.644748648129318e-02 8.9e+03 6.74e-04  2e-07  1e-03 0:11.2\n",
      "  181   1629 -7.644748648211896e-02 9.5e+03 8.97e-04  3e-07  2e-03 0:11.4\n"
     ]
    },
    {
     "name": "stderr",
     "output_type": "stream",
     "text": [
      "reconstraining parameters GP_regression.Mat52.lengthscale\n",
      "reconstraining parameters GP_regression.Mat52.variance\n",
      "reconstraining parameters GP_regression.Gaussian_noise.variance\n"
     ]
    },
    {
     "name": "stdout",
     "output_type": "stream",
     "text": [
      "termination on tolfun=1e-11 (Tue Aug 25 18:14:55 2020)\n",
      "final/bestever f-value = -7.644749e-02 -7.644749e-02\n",
      "incumbent solution: [1.9999999999858824, 0.23086845834532876, 2.2938292561283892e-10, 1.6134639024460662, 2.59816985182188, 5.379961542490228]\n",
      "std deviation: [4.852278087810505e-06, 2.78574551615076e-07, 8.244954169858225e-06, 0.0018843525403370884, 0.0016221617860559907, 0.0016174639778290423]\n",
      "Optimization restart 1/10, f = 19.05315052486442\n",
      "Optimization restart 2/10, f = 20.65062701832939\n",
      "Optimization restart 3/10, f = 87.34620675039041\n",
      "Optimization restart 4/10, f = 749178.1938840116\n",
      "Optimization restart 5/10, f = 21.284078300175686\n",
      "Optimization restart 6/10, f = 19.053150420930297\n",
      "Optimization restart 7/10, f = 316716097.51038235\n",
      "Optimization restart 8/10, f = 19.36990178648228\n"
     ]
    },
    {
     "name": "stderr",
     "output_type": "stream",
     "text": [
      "reconstraining parameters GP_regression.Mat52.lengthscale\n",
      "reconstraining parameters GP_regression.Mat52.variance\n",
      "reconstraining parameters GP_regression.Gaussian_noise.variance\n"
     ]
    },
    {
     "name": "stdout",
     "output_type": "stream",
     "text": [
      "Optimization restart 9/10, f = 15.289182525656546\n",
      "Optimization restart 10/10, f = 20.650622412736013\n",
      "Optimization restart 1/10, f = 8.641730902098008\n",
      "Optimization restart 2/10, f = 16.16324675004207\n",
      "Optimization restart 3/10, f = 12.89911994784265\n",
      "Optimization restart 4/10, f = 21.284077998070117\n",
      "Optimization restart 5/10, f = 100.13109398534753\n",
      "Optimization restart 6/10, f = 16.70315015955146\n",
      "Optimization restart 7/10, f = 44.14941524980691\n",
      "Optimization restart 8/10, f = 17.98896556569722\n",
      "Optimization restart 9/10, f = 8.64178435401935\n",
      "Optimization restart 10/10, f = 46.80486514698241\n",
      "(4_w,9)-aCMA-ES (mu_w=2.8,w_1=49%) in dimension 6 (seed=523379, Tue Aug 25 18:14:57 2020)\n",
      "Iterat #Fevals   function value  axis ratio  sigma  min&max std  t[m:s]\n",
      "    1      9 -2.513873706691649e-02 1.0e+00 2.48e-01  2e-01  3e-01 0:00.1\n",
      "    2     18 -6.081358227170064e-02 1.3e+00 2.64e-01  2e-01  3e-01 0:00.1\n",
      "    3     27 -7.199871092858712e-02 1.5e+00 2.73e-01  3e-01  3e-01 0:00.2\n",
      "   44    396 -8.677128828319458e-02 4.2e+01 2.81e-01  4e-02  1e+00 0:03.2\n",
      "   96    864 -8.754856672755285e-02 5.7e+01 6.45e-03  2e-04  7e-03 0:07.2\n",
      "  100    900 -8.754856402765743e-02 7.9e+01 5.47e-03  2e-04  7e-03 0:07.5\n",
      "  159   1431 -8.754857612946942e-02 8.2e+02 2.86e-05  1e-07  4e-05 0:11.9\n"
     ]
    },
    {
     "name": "stderr",
     "output_type": "stream",
     "text": [
      "reconstraining parameters GP_regression.Mat52.lengthscale\n",
      "reconstraining parameters GP_regression.Mat52.variance\n",
      "reconstraining parameters GP_regression.Gaussian_noise.variance\n"
     ]
    },
    {
     "name": "stdout",
     "output_type": "stream",
     "text": [
      "termination on tolfun=1e-11 (Tue Aug 25 18:15:10 2020)\n",
      "final/bestever f-value = -8.754858e-02 -8.754858e-02\n",
      "incumbent solution: [0.7750138698769867, 2.9797258853710327, 6.0, 6.137085294162671, 6.922222087477877, 10.251999307679256]\n",
      "std deviation: [1.5190172870234058e-07, 1.1998678756483492e-07, 1.4183321978561284e-06, 5.935398392941127e-07, 4.244383430574122e-05, 3.720072846523481e-05]\n",
      "Optimization restart 1/10, f = 16.579909816233993\n",
      "Optimization restart 2/10, f = 22.703016530955686\n",
      "Optimization restart 3/10, f = 40.12290272622677\n",
      "Optimization restart 4/10, f = 22.703016531274763\n",
      "Optimization restart 5/10, f = 36.92867669117173\n",
      "Optimization restart 6/10, f = 9.489190094271391\n"
     ]
    },
    {
     "name": "stderr",
     "output_type": "stream",
     "text": [
      "reconstraining parameters GP_regression.Mat52.lengthscale\n",
      "reconstraining parameters GP_regression.Mat52.variance\n",
      "reconstraining parameters GP_regression.Gaussian_noise.variance\n"
     ]
    },
    {
     "name": "stdout",
     "output_type": "stream",
     "text": [
      "Optimization restart 7/10, f = 43.29545239179993\n",
      "Optimization restart 8/10, f = 344121758.1955666\n",
      "Optimization restart 9/10, f = 106.80650025103739\n",
      "Optimization restart 10/10, f = 22.703016531274763\n",
      "Optimization restart 1/10, f = 7.517487912822713\n",
      "Optimization restart 2/10, f = 799123.4068096123\n",
      "Optimization restart 3/10, f = 106.80650025103739\n",
      "Optimization restart 4/10, f = 22.703016531274763\n",
      "Optimization restart 5/10, f = 421933325.1164111\n",
      "Optimization restart 6/10, f = 22.703016531274763\n",
      "Optimization restart 7/10, f = 106.80650025103739\n",
      "Optimization restart 8/10, f = 22.703016531274766\n",
      "Optimization restart 9/10, f = 7.489433991256135\n",
      "Optimization restart 10/10, f = 14.765943843041015\n",
      "(4_w,9)-aCMA-ES (mu_w=2.8,w_1=49%) in dimension 6 (seed=528777, Tue Aug 25 18:15:11 2020)\n",
      "Iterat #Fevals   function value  axis ratio  sigma  min&max std  t[m:s]\n",
      "    1      9 -2.692318604199064e-01 1.0e+00 2.32e-01  2e-01  2e-01 0:00.1\n",
      "    2     18 -7.593559465915978e-01 1.2e+00 2.37e-01  2e-01  3e-01 0:00.2\n",
      "    3     27 -1.066051121082214e-01 1.3e+00 2.47e-01  2e-01  3e-01 0:00.2\n",
      "   39    351 -8.577004077771675e-01 1.5e+01 2.76e-02  2e-03  3e-02 0:03.3\n",
      "   58    522 -8.606460491703554e-01 9.2e+01 6.71e-02  2e-03  1e-01 0:07.4\n",
      "  100    900 -8.662239310063127e-01 6.8e+02 5.74e-02  2e-04  2e-01 0:12.1\n",
      "  170   1530 -8.662332840339881e-01 4.6e+03 1.23e-04  5e-08  2e-04 0:18.1\n",
      "NOTE (module=cma, iteration=187):  \n",
      "condition in coordinate system exceeded 1.3e+08, rescaled to 1.0e+00, \n",
      "condition changed from 1.1e+08 to 5.4e+00\n",
      "  193   1737 -8.662332840353693e-01 2.5e+00 1.24e-04  2e-08  4e-04 0:20.1\n"
     ]
    },
    {
     "name": "stderr",
     "output_type": "stream",
     "text": [
      "reconstraining parameters GP_regression.Mat52.lengthscale\n",
      "reconstraining parameters GP_regression.Mat52.variance\n",
      "reconstraining parameters GP_regression.Gaussian_noise.variance\n"
     ]
    },
    {
     "name": "stdout",
     "output_type": "stream",
     "text": [
      "termination on tolfun=1e-11 (Tue Aug 25 18:15:32 2020)\n",
      "final/bestever f-value = -8.662333e-01 -8.662333e-01\n",
      "incumbent solution: [1.923464310826158, 0.10272257078891288, 2.361761954007462, 0.09061120880659271, 8.305335871305765, 11.999999999379721]\n",
      "std deviation: [1.1009588116954593e-06, 2.0776414171045933e-07, 2.3241688730489403e-08, 0.00013421981081605897, 0.0003842746248448998, 5.38190773285732e-05]\n",
      "Optimization restart 1/10, f = 23.486547816314896\n",
      "Optimization restart 2/10, f = 24.12195506448024\n",
      "Optimization restart 3/10, f = 24.121955064479437\n",
      "Optimization restart 4/10, f = 22.301907651343768\n",
      "Optimization restart 5/10, f = 18.06776190027525\n",
      "Optimization restart 6/10, f = 113.48190651672722\n",
      "Optimization restart 7/10, f = 22.301907970219464\n"
     ]
    },
    {
     "name": "stderr",
     "output_type": "stream",
     "text": [
      "reconstraining parameters GP_regression.Mat52.lengthscale\n",
      "reconstraining parameters GP_regression.Mat52.variance\n",
      "reconstraining parameters GP_regression.Gaussian_noise.variance\n"
     ]
    },
    {
     "name": "stdout",
     "output_type": "stream",
     "text": [
      "Optimization restart 8/10, f = 19.13130464116049\n",
      "Optimization restart 9/10, f = 24.1219550644664\n",
      "Optimization restart 10/10, f = 23.478276904661193\n",
      "Optimization restart 1/10, f = 9.025010909408852\n",
      "Optimization restart 2/10, f = 113.48190651672722\n",
      "Optimization restart 3/10, f = 11.829143355435516\n",
      "Optimization restart 4/10, f = 24.121955064479437\n",
      "Optimization restart 5/10, f = 24.12195506448189\n",
      "Optimization restart 6/10, f = 17.140621216742872\n",
      "Optimization restart 7/10, f = 113.48190651672232\n",
      "Optimization restart 8/10, f = 91.36525749362374\n",
      "Optimization restart 9/10, f = 33.51714234215646\n",
      "Optimization restart 10/10, f = 423788707.2506165\n",
      "(4_w,9)-aCMA-ES (mu_w=2.8,w_1=49%) in dimension 6 (seed=550087, Tue Aug 25 18:15:33 2020)\n",
      "Iterat #Fevals   function value  axis ratio  sigma  min&max std  t[m:s]\n",
      "    1      9 2.905050869972658e-02 1.0e+00 2.37e-01  2e-01  2e-01 0:00.1\n",
      "    2     18 -7.882980800691719e-02 1.3e+00 2.31e-01  2e-01  2e-01 0:00.1\n",
      "    3     27 -1.460656038810311e-01 1.3e+00 2.27e-01  2e-01  2e-01 0:00.2\n",
      "   37    333 -2.148282128606493e-01 1.4e+01 6.05e-01  1e-01  1e+00 0:03.2\n",
      "   81    729 -2.192600815692121e-01 2.0e+01 1.47e-02  6e-04  1e-02 0:07.3\n",
      "  100    900 -2.192604631248698e-01 3.9e+01 3.42e-03  7e-05  3e-03 0:09.0\n",
      "  163   1467 -2.192604738727186e-01 2.8e+02 1.77e-05  7e-08  2e-05 0:14.5\n"
     ]
    },
    {
     "name": "stderr",
     "output_type": "stream",
     "text": [
      "reconstraining parameters GP_regression.Mat52.lengthscale\n",
      "reconstraining parameters GP_regression.Mat52.variance\n",
      "reconstraining parameters GP_regression.Gaussian_noise.variance\n"
     ]
    },
    {
     "name": "stdout",
     "output_type": "stream",
     "text": [
      "termination on tolfun=1e-11 (Tue Aug 25 18:15:48 2020)\n",
      "final/bestever f-value = -2.192605e-01 -2.192605e-01\n",
      "incumbent solution: [2.670511573914832e-14, 2.4600919729659445, 0.08330366454281664, 5.2478387199600425, 2.6918963044333934, 3.1062881835639597]\n",
      "std deviation: [6.988374582169922e-08, 1.5773988685312334e-07, 1.8017393008691275e-05, 7.014610116254707e-07, 1.3157940572008778e-06, 1.4580953808555654e-06]\n",
      "Optimization restart 1/10, f = 20.229022105571325\n",
      "Optimization restart 2/10, f = 18.647528737420522\n",
      "Optimization restart 3/10, f = 25.540893597684104\n",
      "Optimization restart 4/10, f = 25.22926529907343\n",
      "Optimization restart 5/10, f = 22.257133421037473\n",
      "Optimization restart 6/10, f = 28.14208615195912\n",
      "Optimization restart 7/10, f = 19.12662641148902\n"
     ]
    },
    {
     "name": "stderr",
     "output_type": "stream",
     "text": [
      "reconstraining parameters GP_regression.Mat52.lengthscale\n",
      "reconstraining parameters GP_regression.Mat52.variance\n",
      "reconstraining parameters GP_regression.Gaussian_noise.variance\n"
     ]
    },
    {
     "name": "stdout",
     "output_type": "stream",
     "text": [
      "Optimization restart 8/10, f = 102.41776694223263\n",
      "Optimization restart 9/10, f = 25.540893597684104\n",
      "Optimization restart 10/10, f = 18.911613167603896\n",
      "Optimization restart 1/10, f = 9.436612912922758\n",
      "Optimization restart 2/10, f = 37.37591502160605\n",
      "Optimization restart 3/10, f = 47.389404292953145\n",
      "Optimization restart 4/10, f = 51.3010161093539\n",
      "Optimization restart 5/10, f = 17.45832326935609\n",
      "Optimization restart 6/10, f = 25.540893601576155\n",
      "Optimization restart 7/10, f = 442083102.6651089\n",
      "Optimization restart 8/10, f = 12.252797787060375\n",
      "Optimization restart 9/10, f = 25.54089359768411\n",
      "Optimization restart 10/10, f = 20.86993002884191\n",
      "(4_w,9)-aCMA-ES (mu_w=2.8,w_1=49%) in dimension 6 (seed=552738, Tue Aug 25 18:15:50 2020)\n",
      "Iterat #Fevals   function value  axis ratio  sigma  min&max std  t[m:s]\n",
      "    1      9 1.102478775692005e+00 1.0e+00 2.36e-01  2e-01  2e-01 0:00.1\n",
      "    2     18 -1.374872659471604e-02 1.2e+00 2.70e-01  3e-01  3e-01 0:00.1\n",
      "    3     27 -9.360330333836164e-02 1.6e+00 3.39e-01  3e-01  4e-01 0:00.2\n",
      "   38    342 -1.641990457487188e+00 7.5e+00 2.98e-01  9e-02  5e-01 0:03.3\n",
      "   78    702 -1.942459354603771e+00 9.1e+01 6.55e-02  1e-03  1e-01 0:07.3\n",
      "  100    900 -1.942683084058361e+00 1.6e+02 1.40e-02  1e-04  2e-02 0:09.6\n",
      "  161   1449 -1.942688814234645e+00 1.3e+03 1.76e-04  3e-07  4e-04 0:15.6\n",
      "  200   1800 -1.942688814256887e+00 6.6e+03 5.02e-05  3e-08  2e-04 0:19.4\n",
      "  204   1836 -1.942688814257072e+00 9.1e+03 8.21e-05  5e-08  4e-04 0:19.8\n"
     ]
    },
    {
     "name": "stderr",
     "output_type": "stream",
     "text": [
      "reconstraining parameters GP_regression.Mat52.lengthscale\n",
      "reconstraining parameters GP_regression.Mat52.variance\n",
      "reconstraining parameters GP_regression.Gaussian_noise.variance\n"
     ]
    },
    {
     "name": "stdout",
     "output_type": "stream",
     "text": [
      "termination on tolfun=1e-11 (Tue Aug 25 18:16:10 2020)\n",
      "final/bestever f-value = -1.942689e+00 -1.942689e+00\n",
      "incumbent solution: [1.9443615947315738, 4.426704164396108e-14, 1.1232716580432482, 5.867923714875778, 9.649257318179805, 6.445795652010942]\n",
      "std deviation: [2.0640717678232504e-06, 3.3273422961707836e-07, 4.7925694962584775e-08, 2.0500079883275278e-06, 0.00043864803148824146, 4.332405409513413e-06]\n",
      "Optimization restart 1/10, f = 25.7469144949358\n",
      "Optimization restart 2/10, f = 24.92111502529152\n",
      "Optimization restart 3/10, f = 319973.6424569329\n",
      "Optimization restart 4/10, f = 38.48499133034956\n",
      "Optimization restart 5/10, f = 55.35790484296794\n",
      "Optimization restart 6/10, f = 111.83209790900897\n",
      "Optimization restart 7/10, f = 26.852985636289937\n"
     ]
    },
    {
     "name": "stderr",
     "output_type": "stream",
     "text": [
      "reconstraining parameters GP_regression.Mat52.lengthscale\n",
      "reconstraining parameters GP_regression.Mat52.variance\n",
      "reconstraining parameters GP_regression.Gaussian_noise.variance\n"
     ]
    },
    {
     "name": "stdout",
     "output_type": "stream",
     "text": [
      "Optimization restart 8/10, f = 119.16592647297261\n",
      "Optimization restart 9/10, f = 126.8327190481069\n",
      "Optimization restart 10/10, f = 126.8327190481069\n",
      "Optimization restart 1/10, f = 10.442020511653167\n",
      "Optimization restart 2/10, f = 29.26229559883037\n",
      "Optimization restart 3/10, f = 115.28769697780545\n",
      "Optimization restart 4/10, f = 26.01776994754556\n",
      "Optimization restart 5/10, f = 8.590647054922094\n",
      "Optimization restart 6/10, f = 26.19318320686835\n",
      "Optimization restart 7/10, f = 8.208796620901916\n",
      "Optimization restart 8/10, f = 24.058417256985983\n",
      "Optimization restart 9/10, f = 26.959832130888785\n",
      "Optimization restart 10/10, f = 21.336266908200074\n",
      "(4_w,9)-aCMA-ES (mu_w=2.8,w_1=49%) in dimension 6 (seed=484097, Tue Aug 25 18:16:13 2020)\n",
      "Iterat #Fevals   function value  axis ratio  sigma  min&max std  t[m:s]\n",
      "    1      9 2.947982279596154e+00 1.0e+00 2.30e-01  2e-01  2e-01 0:00.1\n",
      "    2     18 2.565139126501062e+00 1.3e+00 2.37e-01  2e-01  3e-01 0:00.2\n",
      "    3     27 2.683049550961496e+00 1.5e+00 2.54e-01  2e-01  3e-01 0:00.3\n",
      "   39    351 -7.154168276825601e-02 1.4e+01 9.71e-01  2e-01  2e+00 0:03.3\n",
      "   77    693 -1.026469438364344e-01 4.3e+01 1.41e-01  7e-03  2e-01 0:07.4\n",
      "  100    900 -1.032935972348925e-01 1.6e+02 1.04e-01  2e-03  3e-01 0:09.9\n",
      "  155   1395 -1.033143083342536e-01 1.2e+03 1.96e-03  5e-06  5e-03 0:16.0\n",
      "  200   1800 -1.033143107505590e-01 1.2e+04 2.17e-03  2e-06  1e-02 0:21.0\n",
      "NOTE (module=cma, iteration=208):  \n",
      "condition in coordinate system exceeded 1.0e+08, rescaled to 1.0e+00, \n",
      "condition changed from 1.6e+08 to 3.4e+02\n",
      "  261   2349 -1.033143108456434e-01 4.4e+00 4.43e-03  7e-07  2e-02 0:29.3\n",
      "  300   2700 -1.033143127587048e-01 2.2e+01 1.73e-02  1e-06  2e-01 0:34.7\n",
      "  341   3069 -1.033143128042102e-01 2.2e+01 5.37e-04  1e-08  3e-03 0:39.2\n"
     ]
    },
    {
     "name": "stderr",
     "output_type": "stream",
     "text": [
      "reconstraining parameters GP_regression.Mat52.lengthscale\n",
      "reconstraining parameters GP_regression.Mat52.variance\n",
      "reconstraining parameters GP_regression.Gaussian_noise.variance\n"
     ]
    },
    {
     "name": "stdout",
     "output_type": "stream",
     "text": [
      "termination on tolfun=1e-11 (Tue Aug 25 18:16:52 2020)\n",
      "final/bestever f-value = -1.033143e-01 -1.033143e-01\n",
      "incumbent solution: [1.790672660305699, 0.015921604248506607, 0.9592356814086382, 7.999995327790952, 1.0424062136448208e-13, 4.753652482052514]\n",
      "std deviation: [1.5197167378832116e-07, 1.2816791116096562e-08, 0.00016910829107819367, 0.0026846912552677543, 3.2685570480640357e-07, 1.6164203355788304e-06]\n",
      "Optimization restart 1/10, f = 23.04075016805851\n",
      "Optimization restart 2/10, f = 28.378770664093448\n",
      "Optimization restart 3/10, f = 24.71706483961563\n",
      "Optimization restart 4/10, f = 17.45757973353222\n",
      "Optimization restart 5/10, f = 113.18085204489054\n",
      "Optimization restart 6/10, f = 133.50812531379674\n",
      "Optimization restart 7/10, f = 54.53250434938343\n"
     ]
    },
    {
     "name": "stderr",
     "output_type": "stream",
     "text": [
      "reconstraining parameters GP_regression.Mat52.lengthscale\n",
      "reconstraining parameters GP_regression.Mat52.variance\n",
      "reconstraining parameters GP_regression.Gaussian_noise.variance\n"
     ]
    },
    {
     "name": "stdout",
     "output_type": "stream",
     "text": [
      "Optimization restart 8/10, f = 52.123970886744964\n",
      "Optimization restart 9/10, f = 25.86807009111352\n",
      "Optimization restart 10/10, f = 133.50812531379674\n",
      "Optimization restart 1/10, f = 11.70937680336897\n",
      "Optimization restart 2/10, f = 25.528184087328057\n",
      "Optimization restart 3/10, f = 26.247699162391072\n",
      "Optimization restart 4/10, f = 25.900574205600265\n",
      "Optimization restart 5/10, f = 43.94147155191424\n",
      "Optimization restart 6/10, f = 30.713914014385967\n",
      "Optimization restart 7/10, f = 118.5562972489965\n",
      "Optimization restart 8/10, f = 28.378770664093448\n",
      "Optimization restart 9/10, f = 126.433323228728\n",
      "Optimization restart 10/10, f = 131.36599725921496\n",
      "(4_w,9)-aCMA-ES (mu_w=2.8,w_1=49%) in dimension 6 (seed=512421, Tue Aug 25 18:16:59 2020)\n",
      "Iterat #Fevals   function value  axis ratio  sigma  min&max std  t[m:s]\n",
      "    1      9 1.355347675503073e+00 1.0e+00 2.48e-01  2e-01  3e-01 0:00.1\n",
      "    2     18 1.210897363268709e+00 1.3e+00 2.50e-01  2e-01  3e-01 0:00.2\n",
      "    3     27 8.439302382143419e-01 1.3e+00 3.01e-01  3e-01  3e-01 0:00.3\n",
      "   33    297 1.874901729798828e-02 4.9e+00 9.94e-02  3e-02  1e-01 0:03.3\n",
      "   74    666 1.770119634997402e-02 2.1e+01 2.89e-03  1e-04  3e-03 0:07.4\n",
      "  100    900 1.770116137837796e-02 5.9e+01 5.76e-04  1e-05  6e-04 0:10.0\n",
      "  144   1296 1.770116105622610e-02 2.6e+02 1.73e-05  9e-08  2e-05 0:15.3\n"
     ]
    },
    {
     "name": "stderr",
     "output_type": "stream",
     "text": [
      "reconstraining parameters GP_regression.Mat52.lengthscale\n",
      "reconstraining parameters GP_regression.Mat52.variance\n",
      "reconstraining parameters GP_regression.Gaussian_noise.variance\n"
     ]
    },
    {
     "name": "stdout",
     "output_type": "stream",
     "text": [
      "termination on tolfun=1e-11 (Tue Aug 25 18:17:15 2020)\n",
      "final/bestever f-value = 1.770116e-02 1.770116e-02\n",
      "incumbent solution: [1.7155529700873663e-14, 3.999999999999992, 5.950004560885001, 7.999999999999997, 8.686819275620097, 6.395176516733786]\n",
      "std deviation: [1.0169543513473966e-07, 8.888174665100195e-08, 1.6093549003200634e-05, 5.602546614014495e-07, 2.0172918495355774e-05, 5.625840233190076e-07]\n",
      "Optimization restart 1/10, f = 18.34203075984608\n",
      "Optimization restart 2/10, f = 71.39587426983113\n",
      "Optimization restart 3/10, f = 137.3005732346164\n",
      "Optimization restart 4/10, f = 29.797709573217674\n",
      "Optimization restart 5/10, f = 51.846930352903826\n",
      "Optimization restart 6/10, f = 140.18353157948656\n"
     ]
    },
    {
     "name": "stderr",
     "output_type": "stream",
     "text": [
      "reconstraining parameters GP_regression.Mat52.lengthscale\n",
      "reconstraining parameters GP_regression.Mat52.variance\n",
      "reconstraining parameters GP_regression.Gaussian_noise.variance\n"
     ]
    },
    {
     "name": "stdout",
     "output_type": "stream",
     "text": [
      "Optimization restart 7/10, f = 28.476862062497872\n",
      "Optimization restart 8/10, f = 125.01559638381258\n",
      "Optimization restart 9/10, f = 308247.35776501463\n",
      "Optimization restart 10/10, f = 28.282039050456063\n",
      "Optimization restart 1/10, f = 10.194432276700162\n",
      "Optimization restart 2/10, f = 29.797649293077278\n",
      "Optimization restart 3/10, f = 31.99636844643208\n",
      "Optimization restart 4/10, f = 17.02515928464088\n",
      "Optimization restart 5/10, f = 17.025158652844574\n",
      "Optimization restart 6/10, f = 40.78522777448475\n",
      "Optimization restart 7/10, f = 15.060521835110547\n",
      "Optimization restart 8/10, f = 8.458141100233554\n",
      "Optimization restart 9/10, f = 31.996368449986377\n",
      "Optimization restart 10/10, f = 31.996314411762732\n",
      "(4_w,9)-aCMA-ES (mu_w=2.8,w_1=49%) in dimension 6 (seed=461071, Tue Aug 25 18:17:17 2020)\n",
      "Iterat #Fevals   function value  axis ratio  sigma  min&max std  t[m:s]\n",
      "    1      9 1.336398896704542e+00 1.0e+00 2.35e-01  2e-01  2e-01 0:00.1\n",
      "    2     18 5.496566967651979e-01 1.2e+00 2.63e-01  2e-01  3e-01 0:00.2\n",
      "    3     27 1.735063603636648e-01 1.4e+00 3.22e-01  3e-01  3e-01 0:00.3\n",
      "   39    351 7.085556658408443e-02 1.3e+01 6.43e-02  8e-03  8e-02 0:03.3\n",
      "   87    783 7.054931503924800e-02 1.6e+02 4.22e-03  6e-05  7e-03 0:07.3\n",
      "  100    900 7.054930308531615e-02 5.9e+02 5.59e-03  3e-05  2e-02 0:08.3\n",
      "NOTE (module=cma, iteration=154):  \n",
      "condition in coordinate system exceeded 1.0e+08, rescaled to 1.0e+00, \n",
      "condition changed from 1.8e+08 to 7.3e+02\n",
      "  167   1503 7.054930097803824e-02 4.6e+01 8.26e-03  5e-06  1e-01 0:14.5\n",
      "  200   1800 7.054929441467839e-02 4.2e+01 7.00e-03  2e-06  1e-01 0:17.6\n",
      "  275   2475 7.054928859605547e-02 9.6e+01 3.30e-02  1e-06  2e-01 0:25.6\n",
      "  300   2700 7.054928830422114e-02 1.3e+02 6.40e-02  1e-06  2e-01 0:27.8\n",
      "  337   3033 7.054928826523010e-02 9.6e+01 2.33e-03  2e-08  3e-03 0:31.0\n"
     ]
    },
    {
     "name": "stderr",
     "output_type": "stream",
     "text": [
      "reconstraining parameters GP_regression.Mat52.lengthscale\n",
      "reconstraining parameters GP_regression.Mat52.variance\n",
      "reconstraining parameters GP_regression.Gaussian_noise.variance\n"
     ]
    },
    {
     "name": "stdout",
     "output_type": "stream",
     "text": [
      "termination on tolfun=1e-11 (Tue Aug 25 18:17:48 2020)\n",
      "final/bestever f-value = 7.054929e-02 7.054929e-02\n",
      "incumbent solution: [5.872852189333896e-17, 4.0, 5.999995949144239, 0.9647592355653867, 9.999999728949087, 11.999998519456714]\n",
      "std deviation: [2.162404879594314e-08, 6.120941766659352e-08, 0.002633063619505809, 2.3370107214358916e-07, 0.0013745866282609165, 0.003061024691884034]\n",
      "Optimization restart 1/10, f = 19.0615670848681\n",
      "Optimization restart 2/10, f = 142.0590287573651\n",
      "Optimization restart 3/10, f = 51.13839146879274\n",
      "Optimization restart 4/10, f = 29.570356128875957\n",
      "Optimization restart 5/10, f = 29.77045252188342\n",
      "Optimization restart 6/10, f = 29.708809478008426\n",
      "Optimization restart 7/10, f = 56.85101031388305\n",
      "Optimization restart 8/10, f = 689204107.3250675\n"
     ]
    },
    {
     "name": "stderr",
     "output_type": "stream",
     "text": [
      "reconstraining parameters GP_regression.Mat52.lengthscale\n",
      "reconstraining parameters GP_regression.Mat52.variance\n",
      "reconstraining parameters GP_regression.Gaussian_noise.variance\n"
     ]
    },
    {
     "name": "stdout",
     "output_type": "stream",
     "text": [
      "Optimization restart 9/10, f = 49.636322418823255\n",
      "Optimization restart 10/10, f = 29.57035628556254\n",
      "Optimization restart 1/10, f = 7.930330033558418\n",
      "Optimization restart 2/10, f = 22.938616931011136\n",
      "Optimization restart 3/10, f = 7.930330046399751\n",
      "Optimization restart 4/10, f = 43.77895464887348\n",
      "Optimization restart 5/10, f = 144.08970976168354\n",
      "Optimization restart 6/10, f = 30.726008887610977\n",
      "Optimization restart 7/10, f = 118.08170982077688\n",
      "Optimization restart 8/10, f = 128.1992077361848\n",
      "Optimization restart 9/10, f = 30.592664909729237\n",
      "Optimization restart 10/10, f = 146.8589378451764\n",
      "(4_w,9)-aCMA-ES (mu_w=2.8,w_1=49%) in dimension 6 (seed=481886, Tue Aug 25 18:17:51 2020)\n",
      "Iterat #Fevals   function value  axis ratio  sigma  min&max std  t[m:s]\n",
      "    1      9 1.911059742680330e+00 1.0e+00 2.19e-01  2e-01  2e-01 0:00.1\n",
      "    2     18 1.644002699133171e+00 1.2e+00 2.26e-01  2e-01  2e-01 0:00.2\n",
      "    3     27 1.406165392421916e+00 1.3e+00 2.57e-01  2e-01  3e-01 0:00.3\n",
      "   37    333 -1.779781859228158e-02 1.3e+01 5.39e-01  9e-02  9e-01 0:03.4\n",
      "   68    612 -2.156645488117515e-02 5.6e+01 1.14e-01  6e-03  3e-01 0:07.4\n",
      "  100    900 -2.157960238462664e-02 1.1e+02 1.30e-02  3e-04  3e-02 0:11.5\n",
      "  146   1314 -2.157960486316735e-02 8.5e+02 4.75e-04  2e-06  1e-03 0:17.6\n",
      "NOTE (module=cma, iteration=190):  \n",
      "condition in coordinate system exceeded 1.2e+08, rescaled to 1.0e+00, \n",
      "condition changed from 1.2e+08 to 2.0e+02\n",
      "  192   1728 -2.157960631149369e-02 1.6e+01 1.97e-02  2e-05  2e-01 0:24.7\n",
      "  200   1800 -2.157960810941129e-02 2.3e+01 5.57e-02  4e-05  9e-01 0:25.8\n",
      "  254   2286 -2.157960977826257e-02 6.5e+00 3.80e-03  6e-07  6e-03 0:34.9\n",
      "  259   2331 -2.157960978087803e-02 1.0e+01 5.57e-03  7e-07  1e-02 0:35.6\n"
     ]
    },
    {
     "name": "stderr",
     "output_type": "stream",
     "text": [
      "reconstraining parameters GP_regression.Mat52.lengthscale\n",
      "reconstraining parameters GP_regression.Mat52.variance\n",
      "reconstraining parameters GP_regression.Gaussian_noise.variance\n"
     ]
    },
    {
     "name": "stdout",
     "output_type": "stream",
     "text": [
      "termination on tolfun=1e-11 (Tue Aug 25 18:18:27 2020)\n",
      "final/bestever f-value = -2.157961e-02 -2.157961e-02\n",
      "incumbent solution: [4.730484471157523e-13, 3.886259185472172, 5.970427440846924, 8.386262349613964e-12, 4.4737515665610243e-07, 0.29772298422553645]\n",
      "std deviation: [7.207269031245775e-07, 1.5487974298299078e-06, 0.010505377902702439, 2.2733455925617418e-06, 0.006705189355290361, 0.011079359339648789]\n",
      "Optimization restart 1/10, f = 19.458542636617025\n",
      "Optimization restart 2/10, f = 25.51957059153571\n",
      "Optimization restart 3/10, f = 150.14428299731557\n",
      "Optimization restart 4/10, f = 31.190948884856724\n",
      "Optimization restart 5/10, f = 25.519699573769962\n",
      "Optimization restart 6/10, f = 64.22244066295653\n",
      "Optimization restart 7/10, f = 809082308.4713767\n"
     ]
    },
    {
     "name": "stderr",
     "output_type": "stream",
     "text": [
      "reconstraining parameters GP_regression.Mat52.lengthscale\n",
      "reconstraining parameters GP_regression.Mat52.variance\n",
      "reconstraining parameters GP_regression.Gaussian_noise.variance\n"
     ]
    },
    {
     "name": "stdout",
     "output_type": "stream",
     "text": [
      "Optimization restart 8/10, f = 142.85063060525619\n",
      "Optimization restart 9/10, f = 153.53434411086621\n",
      "Optimization restart 10/10, f = 32.63558626381873\n",
      "Optimization restart 1/10, f = 5.980079488396601\n",
      "Optimization restart 2/10, f = 29.449149412095522\n",
      "Optimization restart 3/10, f = 64.72969589412861\n",
      "Optimization restart 4/10, f = 38.262047187708916\n",
      "Optimization restart 5/10, f = 143.5678336663371\n",
      "Optimization restart 6/10, f = 32.635586263707474\n",
      "Optimization restart 7/10, f = 32.635585922964935\n",
      "Optimization restart 8/10, f = 135.01296544240932\n",
      "Optimization restart 9/10, f = 29.876057322056226\n",
      "Optimization restart 10/10, f = 116.21559589332004\n",
      "(4_w,9)-aCMA-ES (mu_w=2.8,w_1=49%) in dimension 6 (seed=470102, Tue Aug 25 18:18:29 2020)\n",
      "Iterat #Fevals   function value  axis ratio  sigma  min&max std  t[m:s]\n",
      "    1      9 5.746276199347780e-01 1.0e+00 2.55e-01  2e-01  3e-01 0:00.1\n",
      "    2     18 6.289966481155800e-01 1.3e+00 2.81e-01  3e-01  3e-01 0:00.2\n",
      "    3     27 -4.544387931008753e-03 1.6e+00 3.32e-01  3e-01  4e-01 0:00.3\n",
      "   28    252 -1.062048727740581e-01 4.6e+00 9.07e-02  4e-02  1e-01 0:03.4\n",
      "   54    486 -1.074274991560584e-01 2.2e+01 5.09e-02  5e-03  9e-02 0:07.5\n",
      "   83    747 -1.074282170631078e-01 9.5e+01 3.99e-03  1e-04  8e-03 0:12.7\n",
      "  100    900 -1.074282199425152e-01 2.5e+02 1.06e-03  1e-05  2e-03 0:15.5\n",
      "  144   1296 -1.074282217653224e-01 7.4e+03 6.70e-03  2e-05  1e-01 0:22.6\n",
      "NOTE (module=cma, iteration=156):  \n",
      "condition in coordinate system exceeded 1.2e+08, rescaled to 1.0e+00, \n",
      "condition changed from 2.0e+08 to 9.6e+01\n",
      "  182   1638 -1.074282230008361e-01 6.0e+00 1.43e-03  1e-06  9e-03 0:30.6\n",
      "  200   1800 -1.074282230216013e-01 1.1e+01 2.20e-03  1e-06  7e-03 0:34.4\n",
      "  267   2403 -1.074282233519728e-01 7.4e+01 4.58e-03  4e-07  2e-02 0:44.0\n"
     ]
    },
    {
     "name": "stderr",
     "output_type": "stream",
     "text": [
      "reconstraining parameters GP_regression.Mat52.lengthscale\n",
      "reconstraining parameters GP_regression.Mat52.variance\n",
      "reconstraining parameters GP_regression.Gaussian_noise.variance\n"
     ]
    },
    {
     "name": "stdout",
     "output_type": "stream",
     "text": [
      "termination on tolfun=1e-11 (Tue Aug 25 18:19:13 2020)\n",
      "final/bestever f-value = -1.074282e-01 -1.074282e-01\n",
      "incumbent solution: [0.4332478532000346, 2.39439155378912, 5.9975133647184045, 4.603781302561576, 3.589564825822822e-05, 11.813765222430677]\n",
      "std deviation: [3.5957510391452667e-07, 6.060343927436549e-07, 0.019060523461118122, 3.2900077677063697e-06, 0.0030927081588078154, 0.01713692613300938]\n",
      "Optimization restart 1/10, f = 22.91474833469725\n",
      "Optimization restart 2/10, f = 139.80978815415162\n",
      "Optimization restart 3/10, f = 146.50965295148137\n",
      "Optimization restart 4/10, f = 460876.9183692582\n",
      "Optimization restart 5/10, f = 25.213101417362928\n",
      "Optimization restart 6/10, f = 32.82893670211341\n",
      "Optimization restart 7/10, f = 32.81960545228351\n",
      "Optimization restart 8/10, f = 841235037.2363213\n"
     ]
    },
    {
     "name": "stderr",
     "output_type": "stream",
     "text": [
      "reconstraining parameters GP_regression.Mat52.lengthscale\n",
      "reconstraining parameters GP_regression.Mat52.variance\n",
      "reconstraining parameters GP_regression.Gaussian_noise.variance\n"
     ]
    },
    {
     "name": "stdout",
     "output_type": "stream",
     "text": [
      "Optimization restart 9/10, f = 64.8918714252282\n",
      "Optimization restart 10/10, f = 95.85750325253433\n",
      "Optimization restart 1/10, f = 7.053753730116741\n",
      "Optimization restart 2/10, f = 39.89677930928626\n",
      "Optimization restart 3/10, f = 123.89256535583776\n",
      "Optimization restart 4/10, f = 31.618333758551934\n",
      "Optimization restart 5/10, f = 22.898480107907886\n",
      "Optimization restart 6/10, f = 160.2097503765561\n",
      "Optimization restart 7/10, f = 54.03199893915724\n",
      "Optimization restart 8/10, f = 30.442517688896498\n",
      "Optimization restart 9/10, f = 153.70219746224103\n",
      "Optimization restart 10/10, f = 34.05452479691391\n",
      "(4_w,9)-aCMA-ES (mu_w=2.8,w_1=49%) in dimension 6 (seed=536560, Tue Aug 25 18:19:16 2020)\n",
      "Iterat #Fevals   function value  axis ratio  sigma  min&max std  t[m:s]\n",
      "    1      9 9.221744861508465e-01 1.0e+00 2.26e-01  2e-01  2e-01 0:00.1\n",
      "    2     18 9.157505010786933e-01 1.3e+00 2.10e-01  2e-01  2e-01 0:00.2\n",
      "    3     27 3.824611914380451e-01 1.4e+00 2.38e-01  2e-01  3e-01 0:00.3\n",
      "   22    198 -1.122307804851705e-01 3.5e+00 1.17e-01  4e-02  1e-01 0:03.4\n",
      "   45    405 -1.125048267873405e-01 1.5e+01 1.95e-02  2e-03  3e-02 0:07.5\n",
      "   75    675 -1.125107169433883e-01 8.4e+01 4.00e-03  1e-04  1e-02 0:12.5\n",
      "  100    900 -1.125107347295817e-01 2.8e+02 4.47e-04  4e-06  1e-03 0:16.4\n",
      "  145   1305 -1.125107369257410e-01 7.6e+03 5.79e-03  1e-05  6e-02 0:23.4\n",
      "NOTE (module=cma, iteration=162):  \n",
      "condition in coordinate system exceeded 1.1e+08, rescaled to 1.0e+00, \n",
      "condition changed from 4.0e+08 to 2.2e+03\n",
      "  193   1737 -1.125107685369071e-01 6.2e+01 1.37e-02  6e-06  3e-01 0:31.4\n",
      "  200   1800 -1.125107685777420e-01 5.2e+01 7.03e-03  3e-06  1e-01 0:32.4\n",
      "  262   2358 -1.125107710582312e-01 1.5e+01 4.14e-02  2e-06  2e-01 0:42.6\n",
      "  300   2700 -1.125107712757749e-01 2.5e+01 6.29e-02  2e-06  3e-01 0:50.7\n",
      "  337   3033 -1.125107713010778e-01 2.0e+01 2.58e-03  4e-08  5e-03 0:58.4\n"
     ]
    },
    {
     "name": "stderr",
     "output_type": "stream",
     "text": [
      "reconstraining parameters GP_regression.Mat52.lengthscale\n",
      "reconstraining parameters GP_regression.Mat52.variance\n",
      "reconstraining parameters GP_regression.Gaussian_noise.variance\n"
     ]
    },
    {
     "name": "stdout",
     "output_type": "stream",
     "text": [
      "termination on tolfun=1e-11 (Tue Aug 25 18:20:14 2020)\n",
      "final/bestever f-value = -1.125108e-01 -1.125108e-01\n",
      "incumbent solution: [0.5063580616344596, 1.7372935219099124, 0.00011122636226751302, 5.226864382238746, 6.257182228893426, 5.086837767304592e-06]\n",
      "std deviation: [3.5422060780350024e-08, 4.874666338001506e-08, 0.004727285503636699, 1.9477491691150373e-07, 0.0014940554341470766, 0.0014256143883570784]\n",
      "Optimization restart 1/10, f = 24.622993555897843\n",
      "Optimization restart 2/10, f = 166.8849689015892\n",
      "Optimization restart 3/10, f = 147.5336005404421\n",
      "Optimization restart 4/10, f = 58.934554077611764\n",
      "Optimization restart 5/10, f = 163.8020446771161\n",
      "Optimization restart 6/10, f = 24.62299276204198\n",
      "Optimization restart 7/10, f = 166.88515664224593\n",
      "Optimization restart 8/10, f = 118.68779197617893\n"
     ]
    },
    {
     "name": "stderr",
     "output_type": "stream",
     "text": [
      "reconstraining parameters GP_regression.Mat52.lengthscale\n",
      "reconstraining parameters GP_regression.Mat52.variance\n",
      "reconstraining parameters GP_regression.Gaussian_noise.variance\n"
     ]
    },
    {
     "name": "stdout",
     "output_type": "stream",
     "text": [
      "Optimization restart 9/10, f = 68.64022118372374\n",
      "Optimization restart 10/10, f = 67.26532040295493\n",
      "Optimization restart 1/10, f = 7.698081804589423\n",
      "Optimization restart 2/10, f = 35.47346333011682\n",
      "Optimization restart 3/10, f = 13.644123062597398\n",
      "Optimization restart 4/10, f = 13.644122457424695\n",
      "Optimization restart 5/10, f = 7.698081792880474\n",
      "Optimization restart 6/10, f = 24.201359043590315\n",
      "Optimization restart 7/10, f = 152.14038670746226\n",
      "Optimization restart 8/10, f = 38.41318685022734\n",
      "Optimization restart 9/10, f = 32.28348021438228\n",
      "Optimization restart 10/10, f = 7.698081804947639\n",
      "(4_w,9)-aCMA-ES (mu_w=2.8,w_1=49%) in dimension 6 (seed=506350, Tue Aug 25 18:20:17 2020)\n",
      "Iterat #Fevals   function value  axis ratio  sigma  min&max std  t[m:s]\n",
      "    1      9 2.394271494104812e+00 1.0e+00 2.43e-01  2e-01  2e-01 0:00.2\n",
      "    2     18 1.789161103104258e+00 1.3e+00 2.84e-01  3e-01  3e-01 0:00.4\n",
      "    3     27 1.052965943241122e+00 1.5e+00 3.68e-01  3e-01  5e-01 0:00.5\n",
      "   27    243 1.902598921241294e-02 7.1e+00 4.12e-01  1e-01  7e-01 0:03.6\n",
      "   52    468 -1.001501953352912e-02 1.2e+01 5.97e-02  6e-03  7e-02 0:07.8\n",
      "   83    747 -1.004148590123455e-02 5.6e+01 1.21e-02  3e-04  2e-02 0:13.0\n",
      "  100    900 -1.004150836110007e-02 1.1e+02 2.34e-03  3e-05  4e-03 0:15.9\n",
      "  139   1251 -1.004150891368205e-02 9.2e+02 1.44e-04  5e-07  3e-04 0:23.0\n",
      "  153   1377 -1.004150891417943e-02 1.7e+03 1.41e-04  3e-07  5e-04 0:25.2\n"
     ]
    },
    {
     "name": "stderr",
     "output_type": "stream",
     "text": [
      "reconstraining parameters GP_regression.Mat52.lengthscale\n",
      "reconstraining parameters GP_regression.Mat52.variance\n",
      "reconstraining parameters GP_regression.Gaussian_noise.variance\n"
     ]
    },
    {
     "name": "stdout",
     "output_type": "stream",
     "text": [
      "termination on tolfun=1e-11 (Tue Aug 25 18:20:43 2020)\n",
      "final/bestever f-value = -1.004151e-02 -1.004151e-02\n",
      "incumbent solution: [2.1722879161944e-14, 3.9999999999999987, 1.5967738411396737, 6.2824566813352265e-16, 1.985822771334649, 8.499024249046142]\n",
      "std deviation: [2.772564433376687e-07, 9.566741019140746e-07, 0.0004546954960134955, 8.407411586386872e-07, 0.0001301553515599872, 0.0002580748200533605]\n",
      "Optimization restart 1/10, f = 27.188110675002402\n",
      "Optimization restart 2/10, f = 61.775884700836095\n",
      "Optimization restart 3/10, f = 36.89240186332424\n",
      "Optimization restart 4/10, f = 36.892401863321496\n",
      "Optimization restart 5/10, f = 59.30323236209222\n",
      "Optimization restart 6/10, f = 165.22036769713566\n",
      "Optimization restart 7/10, f = 59.27303989798161\n",
      "Optimization restart 8/10, f = 173.56056290324122\n",
      "Optimization restart 9/10, f = 135.21213835188723\n"
     ]
    },
    {
     "name": "stderr",
     "output_type": "stream",
     "text": [
      "reconstraining parameters GP_regression.Mat52.lengthscale\n",
      "reconstraining parameters GP_regression.Mat52.variance\n",
      "reconstraining parameters GP_regression.Gaussian_noise.variance\n"
     ]
    },
    {
     "name": "stdout",
     "output_type": "stream",
     "text": [
      "Optimization restart 10/10, f = 57.41188541152073\n",
      "Optimization restart 1/10, f = 8.151474695311649\n",
      "Optimization restart 2/10, f = 37.53251496742077\n",
      "Optimization restart 3/10, f = 36.383312514858304\n",
      "Optimization restart 4/10, f = 154.74891883067926\n",
      "Optimization restart 5/10, f = 36.89240273977185\n",
      "Optimization restart 6/10, f = 1298575.5360656201\n",
      "Optimization restart 7/10, f = 18.61886074934356\n",
      "Optimization restart 8/10, f = 138.2179455145129\n",
      "Optimization restart 9/10, f = 947362885.8637862\n",
      "Optimization restart 10/10, f = 173.56056290793578\n",
      "(4_w,9)-aCMA-ES (mu_w=2.8,w_1=49%) in dimension 6 (seed=468660, Tue Aug 25 18:20:44 2020)\n",
      "Iterat #Fevals   function value  axis ratio  sigma  min&max std  t[m:s]\n",
      "    1      9 2.113948249713763e+00 1.0e+00 2.23e-01  2e-01  2e-01 0:00.1\n",
      "    2     18 1.417197566432256e+00 1.3e+00 2.54e-01  2e-01  3e-01 0:00.2\n",
      "    3     27 1.318517933095666e+00 1.7e+00 3.06e-01  3e-01  3e-01 0:00.4\n",
      "   26    234 -4.413140813926852e-02 3.5e+00 2.75e-01  1e-01  3e-01 0:03.5\n",
      "   46    414 -4.955611536425053e-02 1.1e+01 1.38e-01  2e-02  2e-01 0:07.7\n",
      "   68    612 -4.970068563567720e-02 4.2e+01 2.22e-02  9e-04  3e-02 0:12.7\n",
      "   98    882 -4.970103698091211e-02 2.3e+02 2.10e-03  2e-05  4e-03 0:19.1\n",
      "  100    900 -4.970103779090218e-02 3.2e+02 2.78e-03  2e-05  6e-03 0:19.7\n",
      "  138   1242 -4.970103866173825e-02 2.3e+03 2.01e-04  4e-07  6e-04 0:27.8\n",
      "  152   1368 -4.970103866279962e-02 4.0e+03 1.32e-04  2e-07  5e-04 0:30.7\n"
     ]
    },
    {
     "name": "stderr",
     "output_type": "stream",
     "text": [
      "reconstraining parameters GP_regression.Mat52.lengthscale\n",
      "reconstraining parameters GP_regression.Mat52.variance\n",
      "reconstraining parameters GP_regression.Gaussian_noise.variance\n"
     ]
    },
    {
     "name": "stdout",
     "output_type": "stream",
     "text": [
      "termination on tolfun=1e-11 (Tue Aug 25 18:21:15 2020)\n",
      "final/bestever f-value = -4.970104e-02 -4.970104e-02\n",
      "incumbent solution: [1.9999999999999398, 0.21789597377274794, 3.846361623005647, 4.031269474314173, 4.140345060436056, 10.761161973312433]\n",
      "std deviation: [6.479987150564471e-07, 1.6497521330546873e-07, 0.0003201419959055873, 1.1994349849186798e-06, 9.905362019434946e-05, 0.0004937196523748564]\n",
      "Optimization restart 1/10, f = 30.090741010794076\n",
      "Optimization restart 2/10, f = 892614844.9328166\n",
      "Optimization restart 3/10, f = 51.1436725176359\n",
      "Optimization restart 4/10, f = 26.354485576688035\n",
      "Optimization restart 5/10, f = 137.93086850508215\n",
      "Optimization restart 6/10, f = 11630360.163779644\n",
      "Optimization restart 7/10, f = 892044655.7500871\n",
      "Optimization restart 8/10, f = 49.369283155641206\n"
     ]
    },
    {
     "name": "stderr",
     "output_type": "stream",
     "text": [
      "reconstraining parameters GP_regression.Mat52.lengthscale\n",
      "reconstraining parameters GP_regression.Mat52.variance\n",
      "reconstraining parameters GP_regression.Gaussian_noise.variance\n"
     ]
    },
    {
     "name": "stdout",
     "output_type": "stream",
     "text": [
      "Optimization restart 9/10, f = 136.64010881449812\n",
      "Optimization restart 10/10, f = 36.828362946512364\n",
      "Optimization restart 1/10, f = 6.9774950813547\n",
      "Optimization restart 2/10, f = 180.23596917362562\n",
      "Optimization restart 3/10, f = 5.719734737674438\n",
      "Optimization restart 4/10, f = 162.32369915272727\n",
      "Optimization restart 5/10, f = 18.2012214601177\n",
      "Optimization restart 6/10, f = 172.83630431794816\n",
      "Optimization restart 7/10, f = 174.1789498612502\n",
      "Optimization restart 8/10, f = 11.019419084642\n",
      "Optimization restart 9/10, f = 154.17136822834817\n",
      "Optimization restart 10/10, f = 11.019397828432382\n",
      "(4_w,9)-aCMA-ES (mu_w=2.8,w_1=49%) in dimension 6 (seed=415975, Tue Aug 25 18:21:19 2020)\n",
      "Iterat #Fevals   function value  axis ratio  sigma  min&max std  t[m:s]\n",
      "    1      9 3.205985111245440e-01 1.0e+00 2.39e-01  2e-01  3e-01 0:00.1\n",
      "    2     18 2.698828782364526e-01 1.3e+00 2.43e-01  2e-01  3e-01 0:00.3\n",
      "    3     27 4.902541289522662e-01 1.3e+00 2.37e-01  2e-01  3e-01 0:00.4\n",
      "   21    189 2.820849338955789e-02 2.3e+00 2.33e-01  1e-01  3e-01 0:03.5\n",
      "   46    414 7.277345400447999e-03 1.1e+01 8.47e-02  1e-02  1e-01 0:07.5\n",
      "   75    675 3.554046189808702e-04 5.0e+01 3.98e-02  3e-03  6e-02 0:12.6\n",
      "  100    900 -3.344220520040131e-02 1.9e+02 5.29e-02  2e-03  7e-02 0:16.8\n",
      "  134   1206 -5.032129302948829e-02 2.5e+02 9.67e-01  1e-02  1e+00 0:23.9\n",
      "  175   1575 -5.094101897455983e-02 5.0e+02 3.06e-02  9e-05  3e-02 0:32.0\n",
      "  200   1800 -5.094112617246260e-02 6.1e+02 2.82e-03  4e-06  2e-03 0:37.7\n",
      "  249   2241 -5.094112678080820e-02 1.5e+04 7.99e-03  3e-06  3e-02 0:47.7\n",
      "NOTE (module=cma, iteration=252):  \n",
      "condition in coordinate system exceeded 1.1e+08, rescaled to 1.0e+00, \n",
      "condition changed from 3.0e+08 to 1.1e+02\n",
      "  300   2700 -5.094112682627805e-02 3.7e+00 9.43e-03  1e-06  2e-02 0:57.6\n",
      "  340   3060 -5.094112685841368e-02 8.1e+00 1.41e-03  5e-08  3e-03 1:06.3\n"
     ]
    },
    {
     "name": "stderr",
     "output_type": "stream",
     "text": [
      "reconstraining parameters GP_regression.Mat52.lengthscale\n"
     ]
    },
    {
     "name": "stdout",
     "output_type": "stream",
     "text": [
      "termination on tolfun=1e-11 (Tue Aug 25 18:22:25 2020)\n",
      "final/bestever f-value = -5.094113e-02 -5.094113e-02\n",
      "incumbent solution: [0.33289910585629107, 2.0884585421128543, 5.999994360061638, 7.999999999999971, 9.999999887026163, 6.534454132649724]\n",
      "std deviation: [1.0903397610857362e-07, 4.890194346986589e-08, 0.003229294345360015, 3.6814923165330195e-06, 0.0007808479027711719, 1.3083439029438486e-06]\n"
     ]
    },
    {
     "name": "stderr",
     "output_type": "stream",
     "text": [
      "reconstraining parameters GP_regression.Mat52.variance\n",
      "reconstraining parameters GP_regression.Gaussian_noise.variance\n"
     ]
    },
    {
     "name": "stdout",
     "output_type": "stream",
     "text": [
      "Optimization restart 1/10, f = 27.538431240855378\n",
      "Optimization restart 2/10, f = 175.93736896595397\n",
      "Optimization restart 3/10, f = 137.50225993138648\n",
      "Optimization restart 4/10, f = 51.77456516149917\n",
      "Optimization restart 5/10, f = 29.915111759181805\n",
      "Optimization restart 6/10, f = 905705622.8192972\n",
      "Optimization restart 7/10, f = 64.41878406692125\n",
      "Optimization restart 8/10, f = 53.949058265173974\n"
     ]
    },
    {
     "name": "stderr",
     "output_type": "stream",
     "text": [
      "reconstraining parameters GP_regression.Mat52.lengthscale\n",
      "reconstraining parameters GP_regression.Mat52.variance\n",
      "reconstraining parameters GP_regression.Gaussian_noise.variance\n"
     ]
    },
    {
     "name": "stdout",
     "output_type": "stream",
     "text": [
      "Optimization restart 9/10, f = 71.06187878321583\n",
      "Optimization restart 10/10, f = 163.4234135597691\n",
      "Optimization restart 1/10, f = 6.221538779999555\n",
      "Optimization restart 2/10, f = 4.955437363303659\n",
      "Optimization restart 3/10, f = 4.955437327147964\n",
      "Optimization restart 4/10, f = 37.20083809822651\n",
      "Optimization restart 5/10, f = 186.91137543931546\n",
      "Optimization restart 6/10, f = 956949285.7713274\n",
      "Optimization restart 7/10, f = 186.91137543931546\n",
      "Optimization restart 8/10, f = 186.91137543931546\n",
      "Optimization restart 9/10, f = 128.04697707510218\n",
      "Optimization restart 10/10, f = 157.46739442221903\n",
      "(4_w,9)-aCMA-ES (mu_w=2.8,w_1=49%) in dimension 6 (seed=484198, Tue Aug 25 18:22:30 2020)\n",
      "Iterat #Fevals   function value  axis ratio  sigma  min&max std  t[m:s]\n",
      "    1      9 1.619200149467200e+00 1.0e+00 2.51e-01  2e-01  3e-01 0:00.1\n",
      "    2     18 1.161841784535866e+00 1.4e+00 2.99e-01  3e-01  3e-01 0:00.3\n",
      "    3     27 6.502098161526551e-01 1.4e+00 4.28e-01  4e-01  5e-01 0:00.5\n",
      "   16    144 1.205580496745380e-01 2.3e+00 4.41e-01  2e-01  5e-01 0:03.6\n",
      "   41    369 -2.512505086820616e-02 1.3e+01 2.52e-01  3e-02  3e-01 0:07.7\n",
      "   58    522 -4.676339950850461e-02 4.0e+01 5.08e-01  3e-02  8e-01 0:12.7\n",
      "   78    702 -6.125664949423082e-02 1.0e+02 4.66e-01  1e-02  9e-01 0:18.8\n",
      "  100    900 -6.336522418209323e-02 1.1e+02 9.68e-02  1e-03  1e-01 0:23.8\n",
      "  132   1188 -6.338147378050762e-02 1.8e+02 4.79e-03  3e-05  5e-03 0:32.0\n",
      "  160   1440 -6.338149223778844e-02 3.7e+02 4.19e-04  1e-06  5e-04 0:41.1\n",
      "  195   1755 -6.338149226012613e-02 1.5e+03 3.69e-05  5e-08  6e-05 0:51.2\n"
     ]
    },
    {
     "name": "stderr",
     "output_type": "stream",
     "text": [
      "reconstraining parameters GP_regression.Mat52.lengthscale\n",
      "reconstraining parameters GP_regression.Mat52.variance\n",
      "reconstraining parameters GP_regression.Gaussian_noise.variance\n"
     ]
    },
    {
     "name": "stdout",
     "output_type": "stream",
     "text": [
      "termination on tolfun=1e-11 (Tue Aug 25 18:23:22 2020)\n",
      "final/bestever f-value = -6.338149e-02 -6.338149e-02\n",
      "incumbent solution: [7.68349275982383e-15, 3.8020431029450177, 5.999999999998367, 1.005137631165097, 8.728599347025021, 2.4595889392990296e-12]\n",
      "std deviation: [9.191009695660071e-08, 4.5288812579412784e-08, 2.0514662891857384e-06, 2.0813478670275573e-06, 6.238482359652779e-05, 1.2078949433264214e-06]\n",
      "Optimization restart 1/10, f = 29.583151832143496\n",
      "Optimization restart 2/10, f = 31.590233922157594\n",
      "Optimization restart 3/10, f = 70.23736450173905\n",
      "Optimization restart 4/10, f = 59.95114033240516\n",
      "Optimization restart 5/10, f = 66.29677363984722\n",
      "Optimization restart 6/10, f = 41.14921746293551\n",
      "Optimization restart 7/10, f = 166.9357322913351\n",
      "Optimization restart 8/10, f = 41.1492174629355\n",
      "Optimization restart 9/10, f = 30.96296084270544\n"
     ]
    },
    {
     "name": "stderr",
     "output_type": "stream",
     "text": [
      "reconstraining parameters GP_regression.Mat52.lengthscale\n",
      "reconstraining parameters GP_regression.Mat52.variance\n",
      "reconstraining parameters GP_regression.Gaussian_noise.variance\n"
     ]
    },
    {
     "name": "stdout",
     "output_type": "stream",
     "text": [
      "Optimization restart 10/10, f = 139.55938845175217\n",
      "Optimization restart 1/10, f = 6.944667222230811\n",
      "Optimization restart 2/10, f = 159.0808151094455\n",
      "Optimization restart 3/10, f = 148.6791649630939\n",
      "Optimization restart 4/10, f = 158.11394271228966\n",
      "Optimization restart 5/10, f = 45.26707135171163\n",
      "Optimization restart 6/10, f = 6.9445982479679635\n",
      "Optimization restart 7/10, f = 39.11453005970527\n",
      "Optimization restart 8/10, f = 154.28901517074925\n",
      "Optimization restart 9/10, f = 183.25965793831494\n",
      "Optimization restart 10/10, f = 41.80736734802063\n",
      "(4_w,9)-aCMA-ES (mu_w=2.8,w_1=49%) in dimension 6 (seed=552543, Tue Aug 25 18:23:26 2020)\n",
      "Iterat #Fevals   function value  axis ratio  sigma  min&max std  t[m:s]\n",
      "    1      9 3.036472629629630e-01 1.0e+00 2.45e-01  2e-01  3e-01 0:00.2\n",
      "    2     18 5.758223387865105e-01 1.4e+00 2.23e-01  2e-01  2e-01 0:00.5\n",
      "    3     27 3.194141191119604e-01 1.4e+00 2.45e-01  2e-01  3e-01 0:00.9\n",
      "   17    153 1.117711278549427e-02 2.8e+00 2.91e-01  2e-01  3e-01 0:04.1\n",
      "   37    333 7.567268627815338e-02 5.3e+00 4.23e-01  1e-01  6e-01 0:08.2\n",
      "   62    558 -1.233987621812771e-02 2.9e+01 2.65e-01  2e-02  4e-01 0:13.2\n",
      "   81    729 -1.390243857418660e-02 3.3e+01 1.15e-01  4e-03  1e-01 0:19.4\n",
      "  100    900 -1.405336821613723e-02 6.0e+01 3.05e-02  6e-04  3e-02 0:24.4\n",
      "  132   1188 -1.405591722610655e-02 8.5e+01 2.02e-03  2e-05  2e-03 0:32.6\n",
      "  162   1458 -1.405591970295528e-02 2.0e+02 2.87e-04  1e-06  3e-04 0:41.7\n",
      "  200   1800 -1.405592107068099e-02 1.7e+03 2.78e-03  6e-06  1e-02 0:49.6\n",
      "NOTE (module=cma, iteration=223):  \n",
      "condition in coordinate system exceeded 1.2e+08, rescaled to 1.0e+00, \n",
      "condition changed from 1.0e+08 to 3.8e+00\n",
      "  246   2214 -1.405594358786755e-02 2.3e+00 7.42e-03  6e-06  9e-02 1:00.8\n",
      "  279   2511 -1.405594372490593e-02 4.3e+00 3.59e-04  1e-07  4e-03 1:12.9\n",
      "  287   2583 -1.405594372493879e-02 4.8e+00 1.74e-04  4e-08  2e-03 1:15.7\n"
     ]
    },
    {
     "name": "stderr",
     "output_type": "stream",
     "text": [
      "reconstraining parameters GP_regression.Mat52.lengthscale\n",
      "reconstraining parameters GP_regression.Mat52.variance\n",
      "reconstraining parameters GP_regression.Gaussian_noise.variance\n"
     ]
    },
    {
     "name": "stdout",
     "output_type": "stream",
     "text": [
      "termination on tolfun=1e-11 (Tue Aug 25 18:24:43 2020)\n",
      "final/bestever f-value = -1.405594e-02 -1.405594e-02\n",
      "incumbent solution: [1.9999999999999987, 1.2764274237622125e-14, 5.135269298143049e-12, 3.5270450618995435, 9.999999998514669, 3.209967791914872e-13]\n",
      "std deviation: [1.395619835590754e-07, 4.299311512899068e-08, 7.338012866967658e-07, 7.482580208542382e-07, 0.0015054332243085954, 8.321390193845413e-07]\n",
      "Optimization restart 1/10, f = 31.29080814175791\n",
      "Optimization restart 2/10, f = 1498356.387767882\n",
      "Optimization restart 3/10, f = 167.32455766577237\n",
      "Optimization restart 4/10, f = 42.56815599615758\n",
      "Optimization restart 5/10, f = 73.29029016796552\n",
      "Optimization restart 6/10, f = 200.26218797069436\n",
      "Optimization restart 7/10, f = 149.89692476749775\n",
      "Optimization restart 8/10, f = 66.71036771829483\n"
     ]
    },
    {
     "name": "stderr",
     "output_type": "stream",
     "text": [
      "reconstraining parameters GP_regression.Mat52.lengthscale\n",
      "reconstraining parameters GP_regression.Mat52.variance\n",
      "reconstraining parameters GP_regression.Gaussian_noise.variance\n"
     ]
    },
    {
     "name": "stdout",
     "output_type": "stream",
     "text": [
      "Optimization restart 9/10, f = 193.0577486450842\n",
      "Optimization restart 10/10, f = 42.56815599615992\n",
      "Optimization restart 1/10, f = 10.369989625254783\n",
      "Optimization restart 2/10, f = 28.41737253758022\n",
      "Optimization restart 3/10, f = 135.8612122929984\n",
      "Optimization restart 4/10, f = 37.17131643786696\n",
      "Optimization restart 5/10, f = 38.26935199169922\n",
      "Optimization restart 6/10, f = 179.09882846508083\n",
      "Optimization restart 7/10, f = 470442.7203240798\n",
      "Optimization restart 8/10, f = 197.54949112455066\n",
      "Optimization restart 9/10, f = 19.578154764575157\n",
      "Optimization restart 10/10, f = 140.54947708597942\n",
      "(4_w,9)-aCMA-ES (mu_w=2.8,w_1=49%) in dimension 6 (seed=553046, Tue Aug 25 18:24:45 2020)\n",
      "Iterat #Fevals   function value  axis ratio  sigma  min&max std  t[m:s]\n",
      "    1      9 2.069443853358283e+00 1.0e+00 2.45e-01  2e-01  3e-01 0:00.2\n",
      "    2     18 9.406480823912202e-01 1.3e+00 2.35e-01  2e-01  3e-01 0:00.3\n",
      "    3     27 9.890371341655462e-01 1.4e+00 2.41e-01  2e-01  3e-01 0:00.5\n",
      "   23    207 7.733133282317033e-01 7.7e+00 1.94e-01  4e-02  3e-01 0:03.6\n",
      "   43    387 4.376320007344321e-01 3.2e+01 5.26e-01  5e-02  1e+00 0:07.7\n",
      "   70    630 2.751623690826888e-01 7.0e+01 1.48e-01  4e-03  3e-01 0:12.7\n",
      "  100    900 2.744949820385629e-01 1.4e+02 2.17e-02  3e-04  3e-02 0:18.3\n",
      "  131   1179 2.744843805619865e-01 4.7e+02 2.48e-03  1e-05  5e-03 0:25.5\n",
      "  173   1557 2.744843663551806e-01 3.8e+03 2.81e-03  5e-06  2e-02 0:33.7\n",
      "NOTE (module=cma, iteration=199):  \n",
      "condition in coordinate system exceeded 1.0e+08, rescaled to 1.0e+00, \n",
      "condition changed from 1.2e+08 to 3.3e+00\n",
      "  200   1800 2.744843044681609e-01 1.8e+00 7.47e-03  8e-06  9e-02 0:38.4\n",
      "  235   2115 2.744842941549404e-01 2.0e+00 5.64e-04  3e-07  2e-03 0:48.6\n",
      "  266   2394 2.744842941382468e-01 2.3e+00 5.91e-05  2e-08  1e-04 0:56.1\n"
     ]
    },
    {
     "name": "stderr",
     "output_type": "stream",
     "text": [
      "reconstraining parameters GP_regression.Mat52.lengthscale\n",
      "reconstraining parameters GP_regression.Mat52.variance\n",
      "reconstraining parameters GP_regression.Gaussian_noise.variance\n"
     ]
    },
    {
     "name": "stdout",
     "output_type": "stream",
     "text": [
      "termination on tolfun=1e-11 (Tue Aug 25 18:25:42 2020)\n",
      "final/bestever f-value = 2.744843e-01 2.744843e-01\n",
      "incumbent solution: [0.36891357990811036, 1.3072633618351397, 5.999999999999482, 7.999999999999923, 1.2391310765383719e-09, 3.265758156156995]\n",
      "std deviation: [4.613707509281196e-08, 1.8717176187442126e-08, 6.410550519932706e-07, 5.135583385239759e-07, 0.00011852530557063066, 1.2115352185676802e-06]\n",
      "Optimization restart 1/10, f = 32.6275197813339\n",
      "Optimization restart 2/10, f = 29.84548901702985\n",
      "Optimization restart 3/10, f = 146.85935838239894\n",
      "Optimization restart 4/10, f = 61.47017415890312\n",
      "Optimization restart 5/10, f = 903585430.121486\n",
      "Optimization restart 6/10, f = 37.96482268456216\n",
      "Optimization restart 7/10, f = 143.343711001377\n",
      "Optimization restart 8/10, f = 903359963.0461562\n",
      "Optimization restart 9/10, f = 902047207.6445495\n",
      "Optimization restart 10/10, f = 200.7344685395871\n"
     ]
    },
    {
     "name": "stderr",
     "output_type": "stream",
     "text": [
      "reconstraining parameters GP_regression.Mat52.lengthscale\n",
      "reconstraining parameters GP_regression.Mat52.variance\n",
      "reconstraining parameters GP_regression.Gaussian_noise.variance\n"
     ]
    },
    {
     "name": "stdout",
     "output_type": "stream",
     "text": [
      "Optimization restart 1/10, f = 6.469401826643548\n",
      "Optimization restart 2/10, f = 6.500929098828767\n",
      "Optimization restart 3/10, f = 184.5825312332905\n",
      "Optimization restart 4/10, f = 9.212028081994852\n",
      "Optimization restart 5/10, f = 39.272403646441376\n",
      "Optimization restart 6/10, f = 6.500930196703315\n",
      "Optimization restart 7/10, f = 206.93759423638502\n",
      "Optimization restart 8/10, f = 206.93759423638502\n",
      "Optimization restart 9/10, f = 181.84733801879008\n",
      "Optimization restart 10/10, f = 43.68788764434265\n",
      "(4_w,9)-aCMA-ES (mu_w=2.8,w_1=49%) in dimension 6 (seed=498997, Tue Aug 25 18:25:48 2020)\n",
      "Iterat #Fevals   function value  axis ratio  sigma  min&max std  t[m:s]\n",
      "    1      9 5.511607330699877e-01 1.0e+00 2.17e-01  2e-01  2e-01 0:00.1\n",
      "    2     18 4.884444321645487e-01 1.3e+00 1.91e-01  2e-01  2e-01 0:00.5\n",
      "    3     27 5.797936804093731e-01 1.3e+00 1.85e-01  2e-01  2e-01 0:00.7\n",
      "   12    108 1.803600096026603e-01 2.6e+00 1.76e-01  9e-02  2e-01 0:03.9\n",
      "   24    216 9.230414612367555e-02 5.5e+00 1.07e-01  3e-02  1e-01 0:08.0\n",
      "   40    360 -4.350622283545236e-02 1.7e+01 3.20e-01  3e-02  4e-01 0:13.2\n",
      "   60    540 -2.105487075317625e-01 4.6e+01 5.16e-01  2e-02  7e-01 0:19.4\n",
      "   88    792 -2.979721218016842e-01 1.1e+02 4.33e-01  8e-03  7e-01 0:26.5\n",
      "  100    900 -3.067179832411260e-01 1.2e+02 1.94e-01  3e-03  3e-01 0:30.7\n",
      "  123   1107 -3.082087167136687e-01 1.2e+02 4.12e-02  4e-04  4e-02 0:40.5\n",
      "  147   1323 -3.082301364117319e-01 1.3e+02 3.97e-03  2e-05  3e-03 0:50.7\n",
      "  178   1602 -3.082302378693142e-01 1.8e+02 1.48e-04  3e-07  5e-05 1:01.9\n",
      "  200   1800 -3.082302378800243e-01 1.8e+02 1.29e-05  1e-08  2e-06 1:09.1\n",
      "  211   1899 -3.082302378800386e-01 1.7e+02 4.63e-06  4e-09  6e-07 1:11.7\n"
     ]
    },
    {
     "name": "stderr",
     "output_type": "stream",
     "text": [
      "reconstraining parameters GP_regression.Mat52.lengthscale\n",
      "reconstraining parameters GP_regression.Mat52.variance\n",
      "reconstraining parameters GP_regression.Gaussian_noise.variance\n"
     ]
    },
    {
     "name": "stdout",
     "output_type": "stream",
     "text": [
      "termination on tolfun=1e-11 (Tue Aug 25 18:27:00 2020)\n",
      "final/bestever f-value = -3.082302e-01 -3.082302e-01\n",
      "incumbent solution: [1.999999999999996, 1.2951399984288154, 3.430009375499226, 4.997572934114687e-15, 2.4306006076786146, 3.3014153424772292]\n",
      "std deviation: [3.212284512612097e-08, 3.816744087726914e-09, 3.6628197359882813e-07, 6.574706601262249e-08, 4.1742566792934036e-07, 6.128292274644597e-07]\n",
      "Optimization restart 1/10, f = 38.509610759661946\n",
      "Optimization restart 2/10, f = 45.40603306255096\n",
      "Optimization restart 3/10, f = 157.12191723622462\n",
      "Optimization restart 4/10, f = 180.8408889747999\n",
      "Optimization restart 5/10, f = 35.57729358722192\n",
      "Optimization restart 6/10, f = 213.61300050207478\n",
      "Optimization restart 7/10, f = 77.16275764565408\n",
      "Optimization restart 8/10, f = 213.61300050207478\n",
      "Optimization restart 9/10, f = 147.57401229464662\n"
     ]
    },
    {
     "name": "stderr",
     "output_type": "stream",
     "text": [
      "reconstraining parameters GP_regression.Mat52.lengthscale\n",
      "reconstraining parameters GP_regression.Mat52.variance\n",
      "reconstraining parameters GP_regression.Gaussian_noise.variance\n"
     ]
    },
    {
     "name": "stdout",
     "output_type": "stream",
     "text": [
      "Optimization restart 10/10, f = 176.37211118226102\n",
      "Optimization restart 1/10, f = 9.711776884014874\n",
      "Optimization restart 2/10, f = 97.24500197499268\n",
      "Optimization restart 3/10, f = 27.22378418045272\n",
      "Optimization restart 4/10, f = 180.74395704201274\n",
      "Optimization restart 5/10, f = 38.073674589042795\n",
      "Optimization restart 6/10, f = 196.8736197037654\n",
      "Optimization restart 7/10, f = 213.61300050207478\n",
      "Optimization restart 8/10, f = 225.0298563782996\n",
      "Optimization restart 9/10, f = 156.67348444908833\n",
      "Optimization restart 10/10, f = 172.02960026763316\n",
      "(4_w,9)-aCMA-ES (mu_w=2.8,w_1=49%) in dimension 6 (seed=517905, Tue Aug 25 18:27:03 2020)\n",
      "Iterat #Fevals   function value  axis ratio  sigma  min&max std  t[m:s]\n",
      "    1      9 1.047044858642981e+00 1.0e+00 2.40e-01  2e-01  2e-01 0:00.2\n",
      "    2     18 2.378273383644609e-01 1.2e+00 2.51e-01  2e-01  3e-01 0:00.4\n",
      "    3     27 1.386740100401309e-01 1.4e+00 2.55e-01  2e-01  3e-01 0:00.5\n",
      "   19    171 -3.041472851129701e-02 3.4e+00 3.03e-01  1e-01  4e-01 0:03.6\n",
      "   34    306 -3.686734674862735e-02 9.7e+00 1.32e-01  2e-02  2e-01 0:07.9\n",
      "   48    432 -5.076310299275599e-02 1.7e+01 1.70e-01  2e-02  2e-01 0:12.9\n",
      "   65    585 -5.671342466834961e-02 2.9e+01 6.62e-02  4e-03  8e-02 0:19.1\n",
      "   84    756 -5.896550614927820e-02 1.1e+02 7.13e-02  3e-03  1e-01 0:26.4\n",
      "  100    900 -6.381881984445203e-02 2.8e+02 2.10e-01  7e-03  6e-01 0:31.1\n",
      "  135   1215 -6.717670300687884e-02 4.6e+02 9.12e-02  1e-03  1e-01 0:40.2\n",
      "  172   1548 -6.723271466098324e-02 2.3e+03 9.66e-03  8e-05  1e-02 0:50.3\n",
      "  200   1800 -6.723286297809938e-02 1.1e+04 2.14e-03  1e-05  2e-03 0:58.4\n",
      "  246   2214 -6.723293076705317e-02 6.4e+04 1.04e-03  5e-06  7e-04 1:10.7\n",
      "  297   2673 -6.723293143133846e-02 9.0e+05 6.15e-05  2e-07  2e-05 1:23.8\n",
      "  300   2700 -6.723293143046960e-02 9.9e+05 4.37e-05  1e-07  2e-05 1:24.7\n"
     ]
    },
    {
     "name": "stderr",
     "output_type": "stream",
     "text": [
      " /home/finley/miniconda3/envs/testsuite/lib/python3.8/site-packages/cma/utilities/utils.py:329: UserWarning:\n",
      "        geno-pheno transformation introduced based on the\n",
      "        current covariance matrix with condition 1.3e+12 -> 1.0e+00,\n",
      "        injected solutions become \"invalid\" in this iteration (class=CMAEvolutionStrategy method=alleviate_conditioning iteration=301)\n"
     ]
    },
    {
     "name": "stdout",
     "output_type": "stream",
     "text": [
      "  322   2898 -6.723293143226838e-02 3.5e+00 1.21e-05  5e-06  1e-05 1:30.2\n"
     ]
    },
    {
     "name": "stderr",
     "output_type": "stream",
     "text": [
      "reconstraining parameters GP_regression.Mat52.lengthscale\n",
      "reconstraining parameters GP_regression.Mat52.variance\n",
      "reconstraining parameters GP_regression.Gaussian_noise.variance\n"
     ]
    },
    {
     "name": "stdout",
     "output_type": "stream",
     "text": [
      "termination on tolfun=1e-11 (Tue Aug 25 18:28:34 2020)\n",
      "final/bestever f-value = -6.723293e-02 -6.723293e-02\n",
      "incumbent solution: [0.4083549081879347, 2.0557306737483962, 5.99999999999763, 3.71005343331258, 4.566897077233356, 5.1485246678855185]\n",
      "std deviation: [1.0939424871194804e-05, 4.75573151969006e-06, 9.381203626328105e-06, 1.0620829651617148e-05, 9.796130469630399e-06, 1.0920127928484773e-05]\n",
      "Optimization restart 1/10, f = 36.43318821515959\n",
      "Optimization restart 2/10, f = 162.44794529625608\n",
      "Optimization restart 3/10, f = 46.63072298603118\n",
      "Optimization restart 4/10, f = 67.71996061307603\n",
      "Optimization restart 5/10, f = 180.93604023042892\n",
      "Optimization restart 6/10, f = 83.47376667215411\n",
      "Optimization restart 7/10, f = 58.92146397619481\n",
      "Optimization restart 8/10, f = 180.57331793703702\n"
     ]
    },
    {
     "name": "stderr",
     "output_type": "stream",
     "text": [
      "reconstraining parameters GP_regression.Mat52.lengthscale\n",
      "reconstraining parameters GP_regression.Mat52.variance\n",
      "reconstraining parameters GP_regression.Gaussian_noise.variance\n"
     ]
    },
    {
     "name": "stdout",
     "output_type": "stream",
     "text": [
      "Optimization restart 9/10, f = 42.35336617568319\n",
      "Optimization restart 10/10, f = 73.21986563918614\n",
      "Optimization restart 1/10, f = 6.96822965087048\n",
      "Optimization restart 2/10, f = 220.28840676776463\n",
      "Optimization restart 3/10, f = 189.21296245391065\n",
      "Optimization restart 4/10, f = 41.514284392842875\n",
      "Optimization restart 5/10, f = 42.63348668197039\n",
      "Optimization restart 6/10, f = 220.28840676776463\n",
      "Optimization restart 7/10, f = 438632.9741348009\n",
      "Optimization restart 8/10, f = 9.474812216484924\n",
      "Optimization restart 9/10, f = 32.959791926501\n",
      "Optimization restart 10/10, f = 65.53561291052375\n",
      "(4_w,9)-aCMA-ES (mu_w=2.8,w_1=49%) in dimension 6 (seed=460956, Tue Aug 25 18:28:37 2020)\n",
      "Iterat #Fevals   function value  axis ratio  sigma  min&max std  t[m:s]\n",
      "    1      9 1.296025673110889e+00 1.0e+00 2.36e-01  2e-01  3e-01 0:00.2\n",
      "    2     18 1.181211866948958e+00 1.3e+00 2.40e-01  2e-01  3e-01 0:00.4\n",
      "    3     27 6.090668422107106e-01 1.5e+00 2.18e-01  2e-01  2e-01 0:00.6\n",
      "   19    171 3.650931474857086e-01 5.9e+00 1.95e-01  6e-02  3e-01 0:03.7\n",
      "   36    324 2.912434946910789e-01 2.1e+01 2.68e-01  3e-02  5e-01 0:07.7\n",
      "   56    504 1.270218926709650e-01 3.5e+01 2.42e-01  2e-02  5e-01 0:12.8\n",
      "   86    774 1.196828533493777e-01 7.1e+01 8.18e-02  2e-03  1e-01 0:18.9\n",
      "  100    900 1.196283507686886e-01 1.2e+02 5.15e-02  7e-04  9e-02 0:21.5\n",
      "  142   1278 1.196146235142110e-01 5.3e+02 7.27e-04  3e-06  2e-03 0:29.7\n",
      "  186   1674 1.196146231195434e-01 1.8e+03 1.46e-05  2e-08  4e-05 0:38.1\n"
     ]
    },
    {
     "name": "stderr",
     "output_type": "stream",
     "text": [
      "reconstraining parameters GP_regression.Mat52.lengthscale\n",
      "reconstraining parameters GP_regression.Mat52.variance\n",
      "reconstraining parameters GP_regression.Gaussian_noise.variance\n"
     ]
    },
    {
     "name": "stdout",
     "output_type": "stream",
     "text": [
      "termination on tolfun=1e-11 (Tue Aug 25 18:29:15 2020)\n",
      "final/bestever f-value = 1.196146e-01 1.196146e-01\n",
      "incumbent solution: [0.6459356158497794, 1.3319273711183741, 5.999999999999999, 3.9787601491415527, 9.999999999999314, 5.741419859852282]\n",
      "std deviation: [3.618533625480276e-08, 2.095032948944799e-08, 5.623715436909162e-07, 4.2264726352033505e-07, 1.740191677830353e-06, 3.76703612316685e-05]\n",
      "Optimization restart 1/10, f = 35.29512692925936\n",
      "Optimization restart 2/10, f = 221.30382914023716\n",
      "Optimization restart 3/10, f = 946135173.201934\n",
      "Optimization restart 4/10, f = 166.76099480491192\n",
      "Optimization restart 5/10, f = 63.681515376554884\n",
      "Optimization restart 6/10, f = 226.96381303345447\n",
      "Optimization restart 7/10, f = 72.15217909053911\n"
     ]
    },
    {
     "name": "stderr",
     "output_type": "stream",
     "text": [
      "reconstraining parameters GP_regression.Mat52.lengthscale\n",
      "reconstraining parameters GP_regression.Mat52.variance\n",
      "reconstraining parameters GP_regression.Gaussian_noise.variance\n"
     ]
    },
    {
     "name": "stdout",
     "output_type": "stream",
     "text": [
      "Optimization restart 8/10, f = 165.93330537530494\n",
      "Optimization restart 9/10, f = 215.5389168269428\n",
      "Optimization restart 10/10, f = 218.70720527921617\n",
      "Optimization restart 1/10, f = 6.5860585215167475\n",
      "Optimization restart 2/10, f = 7.587088630422588\n",
      "Optimization restart 3/10, f = 166.7182093370634\n",
      "Optimization restart 4/10, f = 146.43014967524277\n",
      "Optimization restart 5/10, f = 28.721196348447283\n",
      "Optimization restart 6/10, f = 7.587089463597447\n",
      "Optimization restart 7/10, f = 8.493767184399687\n",
      "Optimization restart 8/10, f = 209.28302186907177\n",
      "Optimization restart 9/10, f = 217.68909624223798\n",
      "Optimization restart 10/10, f = 25.637267649181947\n",
      "(4_w,9)-aCMA-ES (mu_w=2.8,w_1=49%) in dimension 6 (seed=505498, Tue Aug 25 18:29:21 2020)\n",
      "Iterat #Fevals   function value  axis ratio  sigma  min&max std  t[m:s]\n",
      "    1      9 1.242770565412043e+00 1.0e+00 2.40e-01  2e-01  3e-01 0:00.2\n",
      "    2     18 1.693785339973691e+00 1.4e+00 2.20e-01  2e-01  2e-01 0:00.4\n",
      "    3     27 1.165614501710959e+00 1.5e+00 2.19e-01  2e-01  2e-01 0:00.6\n",
      "   17    153 3.130872182622828e-01 4.2e+00 2.23e-01  7e-02  3e-01 0:03.7\n",
      "   38    342 2.611436102622826e-01 1.3e+01 1.12e-01  1e-02  1e-01 0:07.8\n",
      "   65    585 2.529920447942136e-01 8.1e+01 6.80e-02  2e-03  1e-01 0:12.9\n",
      "   97    873 2.472270768969509e-01 2.2e+02 2.42e-02  2e-04  4e-02 0:19.1\n",
      "  100    900 2.472246053533573e-01 2.3e+02 2.39e-02  2e-04  4e-02 0:19.7\n",
      "  142   1278 2.471626274357739e-01 5.7e+02 1.83e-03  5e-06  3e-03 0:27.7\n",
      "  190   1710 2.471626243983220e-01 2.2e+03 2.86e-05  3e-08  6e-05 0:36.9\n",
      "  197   1773 2.471626243982972e-01 2.8e+03 1.35e-05  1e-08  3e-05 0:38.3\n"
     ]
    },
    {
     "name": "stderr",
     "output_type": "stream",
     "text": [
      "reconstraining parameters GP_regression.Mat52.lengthscale\n",
      "reconstraining parameters GP_regression.Mat52.variance\n",
      "reconstraining parameters GP_regression.Gaussian_noise.variance\n"
     ]
    },
    {
     "name": "stdout",
     "output_type": "stream",
     "text": [
      "termination on tolfun=1e-11 (Tue Aug 25 18:30:00 2020)\n",
      "final/bestever f-value = 2.471626e-01 2.471626e-01\n",
      "incumbent solution: [0.6641751630672152, 2.010868297421154, 5.999999999999528, 5.583635890032627, 5.878029697219895e-14, 11.996926817970804]\n",
      "std deviation: [3.0629254117794474e-08, 1.0747265721315365e-08, 1.1841745171984065e-06, 1.1054304080654206e-07, 1.0602284576463738e-06, 2.768208591799331e-05]\n",
      "Optimization restart 1/10, f = 38.15549272242706\n",
      "Optimization restart 2/10, f = 33.04049719493857\n",
      "Optimization restart 3/10, f = 48.1450015503647\n",
      "Optimization restart 4/10, f = 73.22722756169597\n",
      "Optimization restart 5/10, f = 179.01247576579678\n",
      "Optimization restart 6/10, f = 171.12462555125518\n",
      "Optimization restart 7/10, f = 32.55277537398507\n",
      "Optimization restart 8/10, f = 233.6392192939584\n"
     ]
    },
    {
     "name": "stderr",
     "output_type": "stream",
     "text": [
      "reconstraining parameters GP_regression.Mat52.lengthscale\n",
      "reconstraining parameters GP_regression.Mat52.variance\n",
      "reconstraining parameters GP_regression.Gaussian_noise.variance\n"
     ]
    },
    {
     "name": "stdout",
     "output_type": "stream",
     "text": [
      "Optimization restart 9/10, f = 99.99506347495726\n",
      "Optimization restart 10/10, f = 38.155490890426904\n",
      "Optimization restart 1/10, f = 7.222260932854983\n",
      "Optimization restart 2/10, f = 224.80310852975495\n",
      "Optimization restart 3/10, f = 46.80998407526856\n",
      "Optimization restart 4/10, f = 43.20526725749234\n",
      "Optimization restart 5/10, f = 163.29586103955202\n",
      "Optimization restart 6/10, f = 150.75929366271112\n",
      "Optimization restart 7/10, f = 27.09149073867472\n",
      "Optimization restart 8/10, f = 233.63921929914432\n",
      "Optimization restart 9/10, f = 31.79219330995653\n",
      "Optimization restart 10/10, f = 222.52558994117626\n",
      "(4_w,9)-aCMA-ES (mu_w=2.8,w_1=49%) in dimension 6 (seed=466073, Tue Aug 25 18:30:03 2020)\n",
      "Iterat #Fevals   function value  axis ratio  sigma  min&max std  t[m:s]\n",
      "    1      9 1.346220293909330e+00 1.0e+00 2.29e-01  2e-01  2e-01 0:00.2\n",
      "    2     18 1.313333194139812e+00 1.2e+00 2.10e-01  2e-01  2e-01 0:00.4\n",
      "    3     27 1.271054945111251e+00 1.2e+00 2.17e-01  2e-01  2e-01 0:00.6\n",
      "   19    171 -2.104461066116370e-02 4.7e+00 7.55e-01  3e-01  9e-01 0:03.8\n",
      "   37    333 -1.038840727162273e-01 7.2e+00 3.89e-01  8e-02  5e-01 0:08.0\n",
      "   58    522 -3.108723389463453e-01 9.5e+00 3.34e-01  4e-02  4e-01 0:13.1\n",
      "   82    738 -3.312069113441389e-01 1.7e+01 1.14e-01  8e-03  1e-01 0:19.3\n",
      "  100    900 -3.344074510099537e-01 3.5e+01 6.53e-02  2e-03  8e-02 0:25.4\n",
      "  126   1134 -3.346583656554836e-01 5.9e+01 8.36e-03  2e-04  8e-03 0:33.4\n",
      "  154   1386 -3.346604844295722e-01 6.2e+01 1.01e-03  9e-06  5e-04 0:42.6\n",
      "  185   1665 -3.346604876078010e-01 3.1e+01 5.28e-05  3e-07  1e-05 0:52.7\n",
      "  200   1800 -3.346604876098864e-01 3.6e+01 1.60e-05  6e-08  2e-06 0:58.8\n",
      "  210   1890 -3.346604876100872e-01 4.9e+01 6.30e-06  2e-08  8e-07 1:02.2\n"
     ]
    },
    {
     "name": "stderr",
     "output_type": "stream",
     "text": [
      "reconstraining parameters GP_regression.Mat52.lengthscale\n",
      "reconstraining parameters GP_regression.Mat52.variance\n",
      "reconstraining parameters GP_regression.Gaussian_noise.variance\n"
     ]
    },
    {
     "name": "stdout",
     "output_type": "stream",
     "text": [
      "termination on tolfun=1e-11 (Tue Aug 25 18:31:05 2020)\n",
      "final/bestever f-value = -3.346605e-01 -3.346605e-01\n",
      "incumbent solution: [1.8475124732067465, 0.4349073329117653, 3.3696282418523458, 3.5234273431615857, 1.2011162649992047e-13, 7.327318494511903]\n",
      "std deviation: [1.797951889908663e-08, 3.407487764835953e-08, 2.8339120126651046e-07, 8.064129576690107e-07, 2.965059840140799e-07, 1.5641776338991484e-07]\n",
      "Optimization restart 1/10, f = 32.60494850320435\n",
      "Optimization restart 2/10, f = 985243917.2799366\n",
      "Optimization restart 3/10, f = 46.12228298689486\n",
      "Optimization restart 4/10, f = 207.6074213758826\n",
      "Optimization restart 5/10, f = 40.78391867130554\n",
      "Optimization restart 6/10, f = 76.81396149749587\n",
      "Optimization restart 7/10, f = 212.251765246481\n",
      "Optimization restart 8/10, f = 984131725.6129856\n"
     ]
    },
    {
     "name": "stderr",
     "output_type": "stream",
     "text": [
      "reconstraining parameters GP_regression.Mat52.lengthscale\n",
      "reconstraining parameters GP_regression.Mat52.variance\n",
      "reconstraining parameters GP_regression.Gaussian_noise.variance\n"
     ]
    },
    {
     "name": "stdout",
     "output_type": "stream",
     "text": [
      "Optimization restart 9/10, f = 195.4027355964947\n",
      "Optimization restart 10/10, f = 176.07045605879696\n",
      "Optimization restart 1/10, f = 10.13413557699851\n",
      "Optimization restart 2/10, f = 189.30902802597777\n",
      "Optimization restart 3/10, f = 11.369670549282777\n",
      "Optimization restart 4/10, f = 234.2623331382701\n",
      "Optimization restart 5/10, f = 51.081787531866766\n",
      "Optimization restart 6/10, f = 159.27499260016688\n",
      "Optimization restart 7/10, f = 9.471784749653057\n",
      "Optimization restart 8/10, f = 12.016860407737802\n",
      "Optimization restart 9/10, f = 187.39929684614512\n",
      "Optimization restart 10/10, f = 240.31462556483416\n",
      "(4_w,9)-aCMA-ES (mu_w=2.8,w_1=49%) in dimension 6 (seed=509415, Tue Aug 25 18:31:09 2020)\n",
      "Iterat #Fevals   function value  axis ratio  sigma  min&max std  t[m:s]\n",
      "    1      9 6.157596490703861e-01 1.0e+00 2.09e-01  2e-01  2e-01 0:00.2\n"
     ]
    },
    {
     "name": "stderr",
     "output_type": "stream",
     "text": [
      " /home/finley/phd/code/testsuite/testsuite/optimisers.py:512: RuntimeWarning:divide by zero encountered in true_divide\n"
     ]
    },
    {
     "name": "stdout",
     "output_type": "stream",
     "text": [
      "    2     18 7.674310356257015e-01 1.3e+00 2.11e-01  2e-01  2e-01 0:00.4\n",
      "    3     27 6.221100859663655e-01 1.4e+00 1.82e-01  2e-01  2e-01 0:00.6\n",
      "   16    144 4.679452827408233e-01 5.3e+00 1.55e-01  4e-02  2e-01 0:03.7\n",
      "   34    306 2.597961233938706e-01 1.9e+01 2.96e-01  3e-02  4e-01 0:07.9\n",
      "   52    468 1.622017404627238e-01 5.0e+01 3.17e-01  1e-02  5e-01 0:13.1\n",
      "   78    702 1.082491123356171e-01 1.2e+02 1.42e-01  2e-03  3e-01 0:19.1\n",
      "  100    900 1.065498354362817e-01 1.1e+02 6.91e-02  1e-03  1e-01 0:25.0\n",
      "  134   1206 1.063960126688708e-01 1.6e+02 6.47e-03  4e-05  6e-03 0:33.1\n",
      "  177   1593 1.063959014234535e-01 1.6e+02 1.27e-04  3e-07  4e-05 0:42.3\n",
      "  200   1800 1.063959014128415e-01 1.4e+02 1.79e-05  3e-08  3e-06 0:47.0\n",
      "  210   1890 1.063959014127320e-01 1.6e+02 7.91e-06  1e-08  1e-06 0:49.1\n"
     ]
    },
    {
     "name": "stderr",
     "output_type": "stream",
     "text": [
      "reconstraining parameters GP_regression.Mat52.lengthscale\n",
      "reconstraining parameters GP_regression.Mat52.variance\n",
      "reconstraining parameters GP_regression.Gaussian_noise.variance\n"
     ]
    },
    {
     "name": "stdout",
     "output_type": "stream",
     "text": [
      "termination on tolfun=1e-11 (Tue Aug 25 18:31:58 2020)\n",
      "final/bestever f-value = 1.063959e-01 1.063959e-01\n",
      "incumbent solution: [0.5830834763097282, 1.3178373143753377, 3.1314108947838135, 2.9016578765176424e-15, 4.102805167912174e-15, 4.138734085974884]\n",
      "std deviation: [1.033592712463391e-07, 1.0247011395309473e-08, 4.669675949322014e-07, 1.1753965235489284e-07, 2.553207224371642e-07, 1.391050968405689e-06]\n",
      "Optimization restart 1/10, f = 33.20776698144003\n",
      "Optimization restart 2/10, f = 987271921.5940185\n",
      "Optimization restart 3/10, f = 237.4251951837582\n",
      "Optimization restart 4/10, f = 224.65807576959813\n",
      "Optimization restart 5/10, f = 82.78836096329425\n",
      "Optimization restart 6/10, f = 214.79269208652087\n",
      "Optimization restart 7/10, f = 176.60266807513875\n"
     ]
    },
    {
     "name": "stderr",
     "output_type": "stream",
     "text": [
      "reconstraining parameters GP_regression.Mat52.lengthscale\n",
      "reconstraining parameters GP_regression.Mat52.variance\n",
      "reconstraining parameters GP_regression.Gaussian_noise.variance\n"
     ]
    },
    {
     "name": "stdout",
     "output_type": "stream",
     "text": [
      "Optimization restart 8/10, f = 40.88636574038123\n",
      "Optimization restart 9/10, f = 52.50072572857292\n",
      "Optimization restart 10/10, f = 3162.214391225707\n",
      "Optimization restart 1/10, f = 9.78298873950125\n",
      "Optimization restart 2/10, f = 213.48280054574812\n",
      "Optimization restart 3/10, f = 12.630021762160162\n",
      "Optimization restart 4/10, f = 200.09970600504644\n",
      "Optimization restart 5/10, f = 176.73017558660572\n",
      "Optimization restart 6/10, f = 9.78298880631333\n",
      "Optimization restart 7/10, f = 185.20698213033282\n",
      "Optimization restart 8/10, f = 203.20524063401794\n",
      "Optimization restart 9/10, f = 39.29784197017433\n",
      "Optimization restart 10/10, f = 166.02967851189905\n",
      "(4_w,9)-aCMA-ES (mu_w=2.8,w_1=49%) in dimension 6 (seed=514499, Tue Aug 25 18:32:01 2020)\n",
      "Iterat #Fevals   function value  axis ratio  sigma  min&max std  t[m:s]\n",
      "    1      9 -0.000000000000000e+00 1.0e+00 2.18e-01  2e-01  2e-01 0:00.3\n"
     ]
    },
    {
     "name": "stderr",
     "output_type": "stream",
     "text": [
      " /home/finley/miniconda3/envs/testsuite/lib/python3.8/site-packages/cma/utilities/utils.py:329: UserWarning:flat fitness (f=-0.000000, sigma=2.18e-01).\n",
      "                    For small sigma, this could indicate numerical convergence.\n",
      "                    Otherwise, please (re)consider how to compute the fitness more elaborately. (iteration=1)\n",
      "reconstraining parameters GP_regression.Mat52.lengthscale\n",
      "reconstraining parameters GP_regression.Mat52.variance\n",
      "reconstraining parameters GP_regression.Gaussian_noise.variance\n"
     ]
    },
    {
     "name": "stdout",
     "output_type": "stream",
     "text": [
      "termination on tolfun=1e-11 (Tue Aug 25 18:32:01 2020)\n",
      "final/bestever f-value = -0.000000e+00 -0.000000e+00\n",
      "incumbent solution: [1.2638923532032087, 3.7150491741102303, 3.902744318979529, 4.95585999881679, 6.895967966590925, 10.69586262305122]\n",
      "std deviation: [0.21250115595207855, 0.20569320711027128, 0.21342618338572966, 0.21610428428989095, 0.21917244058884794, 0.21320403359708467]\n",
      "Optimization restart 1/10, f = 33.98106894616015\n",
      "Optimization restart 2/10, f = 45.83342405553776\n",
      "Optimization restart 3/10, f = 33.428626092007576\n",
      "Optimization restart 4/10, f = 253.66543809621388\n",
      "Optimization restart 5/10, f = 75.87272520351945\n",
      "Optimization restart 6/10, f = 84.93433667838767\n",
      "Optimization restart 7/10, f = 33.4286264741816\n",
      "Optimization restart 8/10, f = 108.9539587356674\n",
      "Optimization restart 9/10, f = 186.2678457937933\n"
     ]
    },
    {
     "name": "stderr",
     "output_type": "stream",
     "text": [
      "reconstraining parameters GP_regression.Mat52.lengthscale\n",
      "reconstraining parameters GP_regression.Mat52.variance\n",
      "reconstraining parameters GP_regression.Gaussian_noise.variance\n"
     ]
    },
    {
     "name": "stdout",
     "output_type": "stream",
     "text": [
      "Optimization restart 10/10, f = 226.74076397956915\n",
      "Optimization restart 1/10, f = 10.010460763875905\n",
      "Optimization restart 2/10, f = 12.686962832989394\n",
      "Optimization restart 3/10, f = 8.672305604565764\n",
      "Optimization restart 4/10, f = 43.24213469047636\n",
      "Optimization restart 5/10, f = 197.61871712053542\n",
      "Optimization restart 6/10, f = 167.6840731651132\n",
      "Optimization restart 7/10, f = 220.34509047442663\n",
      "Optimization restart 8/10, f = 10.303371228620641\n",
      "Optimization restart 9/10, f = 206.08802521004705\n",
      "Optimization restart 10/10, f = 53.919664261777555\n",
      "(4_w,9)-aCMA-ES (mu_w=2.8,w_1=49%) in dimension 6 (seed=544621, Tue Aug 25 18:32:04 2020)\n",
      "Iterat #Fevals   function value  axis ratio  sigma  min&max std  t[m:s]\n",
      "    1      9 -0.000000000000000e+00 1.0e+00 2.31e-01  2e-01  2e-01 0:00.3\n"
     ]
    },
    {
     "name": "stderr",
     "output_type": "stream",
     "text": [
      " /home/finley/miniconda3/envs/testsuite/lib/python3.8/site-packages/cma/utilities/utils.py:329: UserWarning:flat fitness (f=-0.000000, sigma=2.31e-01).\n",
      "                    For small sigma, this could indicate numerical convergence.\n",
      "                    Otherwise, please (re)consider how to compute the fitness more elaborately. (iteration=1)\n",
      "reconstraining parameters GP_regression.Mat52.lengthscale\n",
      "reconstraining parameters GP_regression.Mat52.variance\n",
      "reconstraining parameters GP_regression.Gaussian_noise.variance\n"
     ]
    },
    {
     "name": "stdout",
     "output_type": "stream",
     "text": [
      "termination on tolfun=1e-11 (Tue Aug 25 18:32:05 2020)\n",
      "final/bestever f-value = -0.000000e+00 -0.000000e+00\n",
      "incumbent solution: [1.5154355001818938, 0.3208050690958671, 3.153521653381583, 0.28324078281512566, 5.889368291823564, 6.943425941482928]\n",
      "std deviation: [0.21147013555631872, 0.23817593867861742, 0.23036359570664564, 0.22074308390429395, 0.2353947926067027, 0.23273877664054068]\n",
      "Optimization restart 1/10, f = 34.711751446269616\n",
      "Optimization restart 2/10, f = 191.3114534904651\n",
      "Optimization restart 3/10, f = 39.30132671574749\n",
      "Optimization restart 4/10, f = 169.10364155401598\n",
      "Optimization restart 5/10, f = 43.104831864158086\n",
      "Optimization restart 6/10, f = 52.98804889181879\n",
      "Optimization restart 7/10, f = 228.1619010671322\n",
      "Optimization restart 8/10, f = 260.34084436190375\n",
      "Optimization restart 9/10, f = 215.80175455116438\n"
     ]
    },
    {
     "name": "stderr",
     "output_type": "stream",
     "text": [
      "reconstraining parameters GP_regression.Mat52.lengthscale\n",
      "reconstraining parameters GP_regression.Mat52.variance\n",
      "reconstraining parameters GP_regression.Gaussian_noise.variance\n"
     ]
    },
    {
     "name": "stdout",
     "output_type": "stream",
     "text": [
      "Optimization restart 10/10, f = 179.10784273493195\n",
      "Optimization restart 1/10, f = 9.628496815845544\n",
      "Optimization restart 2/10, f = 1182650150.0888288\n",
      "Optimization restart 3/10, f = 172.3739482693127\n",
      "Optimization restart 4/10, f = 40.92540880493276\n",
      "Optimization restart 5/10, f = 226.72821129871235\n",
      "Optimization restart 6/10, f = 1182488836.940752\n",
      "Optimization restart 7/10, f = 221.72934488951645\n",
      "Optimization restart 8/10, f = 12.787348111890037\n",
      "Optimization restart 9/10, f = 1184518973.1612322\n",
      "Optimization restart 10/10, f = 1947863.3040984308\n",
      "(4_w,9)-aCMA-ES (mu_w=2.8,w_1=49%) in dimension 6 (seed=437151, Tue Aug 25 18:32:07 2020)\n",
      "Iterat #Fevals   function value  axis ratio  sigma  min&max std  t[m:s]\n",
      "    1      9 -0.000000000000000e+00 1.0e+00 2.30e-01  2e-01  2e-01 0:00.3\n"
     ]
    },
    {
     "name": "stderr",
     "output_type": "stream",
     "text": [
      " /home/finley/miniconda3/envs/testsuite/lib/python3.8/site-packages/cma/utilities/utils.py:329: UserWarning:flat fitness (f=-0.000000, sigma=2.30e-01).\n",
      "                    For small sigma, this could indicate numerical convergence.\n",
      "                    Otherwise, please (re)consider how to compute the fitness more elaborately. (iteration=1)\n",
      "reconstraining parameters GP_regression.Mat52.lengthscale\n",
      "reconstraining parameters GP_regression.Mat52.variance\n",
      "reconstraining parameters GP_regression.Gaussian_noise.variance\n"
     ]
    },
    {
     "name": "stdout",
     "output_type": "stream",
     "text": [
      "termination on tolfun=1e-11 (Tue Aug 25 18:32:07 2020)\n",
      "final/bestever f-value = -0.000000e+00 -0.000000e+00\n",
      "incumbent solution: [1.4771308840967885, 2.3427915607948364, 3.9557436790126337, 3.306147749590485, 2.284867878161807, 2.0965840181409217]\n",
      "std deviation: [0.23866002485987686, 0.2350991383059108, 0.21954363031747892, 0.20239389943565667, 0.22991822095433123, 0.2313413950859968]\n",
      "Optimization restart 1/10, f = 36.10456766606747\n",
      "Optimization restart 2/10, f = 201.83932646404728\n",
      "Optimization restart 3/10, f = 1178768908.8623395\n",
      "Optimization restart 4/10, f = 267.0162506275935\n",
      "Optimization restart 5/10, f = 56.6087152907087\n",
      "Optimization restart 6/10, f = 52.759628128863\n",
      "Optimization restart 7/10, f = 56.7575413281869\n",
      "Optimization restart 8/10, f = 12397551.354398852\n"
     ]
    },
    {
     "name": "stderr",
     "output_type": "stream",
     "text": [
      "reconstraining parameters GP_regression.Mat52.lengthscale\n",
      "reconstraining parameters GP_regression.Mat52.variance\n",
      "reconstraining parameters GP_regression.Gaussian_noise.variance\n"
     ]
    },
    {
     "name": "stdout",
     "output_type": "stream",
     "text": [
      "Optimization restart 9/10, f = 233.85037672544615\n",
      "Optimization restart 10/10, f = 280.81345196380084\n",
      "Optimization restart 1/10, f = 10.764400386401917\n",
      "Optimization restart 2/10, f = 280.31970324321765\n",
      "Optimization restart 3/10, f = 229.90664644674217\n",
      "Optimization restart 4/10, f = 267.0162506275935\n",
      "Optimization restart 5/10, f = 49.08620065812596\n",
      "Optimization restart 6/10, f = 149.17836471670915\n",
      "Optimization restart 7/10, f = 12.581293740102154\n",
      "Optimization restart 8/10, f = 13.654275651286788\n",
      "Optimization restart 9/10, f = 43.70935246582104\n",
      "Optimization restart 10/10, f = 45.97104635727855\n",
      "(4_w,9)-aCMA-ES (mu_w=2.8,w_1=49%) in dimension 6 (seed=434395, Tue Aug 25 18:32:10 2020)\n",
      "Iterat #Fevals   function value  axis ratio  sigma  min&max std  t[m:s]\n",
      "    1      9 -0.000000000000000e+00 1.0e+00 2.59e-01  3e-01  3e-01 0:00.3\n"
     ]
    },
    {
     "name": "stderr",
     "output_type": "stream",
     "text": [
      " /home/finley/miniconda3/envs/testsuite/lib/python3.8/site-packages/cma/utilities/utils.py:329: UserWarning:flat fitness (f=-0.000000, sigma=2.59e-01).\n",
      "                    For small sigma, this could indicate numerical convergence.\n",
      "                    Otherwise, please (re)consider how to compute the fitness more elaborately. (iteration=1)\n",
      "reconstraining parameters GP_regression.Mat52.lengthscale\n",
      "reconstraining parameters GP_regression.Mat52.variance\n",
      "reconstraining parameters GP_regression.Gaussian_noise.variance\n"
     ]
    },
    {
     "name": "stdout",
     "output_type": "stream",
     "text": [
      "termination on tolfun=1e-11 (Tue Aug 25 18:32:10 2020)\n",
      "final/bestever f-value = -0.000000e+00 -0.000000e+00\n",
      "incumbent solution: [0.08830955664727252, 3.9416261639801013, 4.8283063179032615, 5.49057569235107, 9.984483363436626, 3.349512446895342]\n",
      "std deviation: [0.2633752495491966, 0.2548185671628302, 0.25158458579395476, 0.2624876201389459, 0.25296654927304774, 0.27852377220185304]\n",
      "Optimization restart 1/10, f = 36.519095945861096\n",
      "Optimization restart 2/10, f = 58.17647986139163\n",
      "Optimization restart 3/10, f = 89.64717342690186\n",
      "Optimization restart 4/10, f = 243.44739715565836\n",
      "Optimization restart 5/10, f = 206.2101426958162\n",
      "Optimization restart 6/10, f = 80.24347151955948\n",
      "Optimization restart 7/10, f = 208.05286635603673\n",
      "Optimization restart 8/10, f = 40.62797247395635\n",
      "Optimization restart 9/10, f = 95.4902063250791\n"
     ]
    },
    {
     "name": "stderr",
     "output_type": "stream",
     "text": [
      "reconstraining parameters GP_regression.Mat52.lengthscale\n",
      "reconstraining parameters GP_regression.Mat52.variance\n",
      "reconstraining parameters GP_regression.Gaussian_noise.variance\n"
     ]
    },
    {
     "name": "stdout",
     "output_type": "stream",
     "text": [
      "Optimization restart 10/10, f = 106.35094256915207\n",
      "Optimization restart 1/10, f = 10.810575420078099\n",
      "Optimization restart 2/10, f = 218.73364020126564\n",
      "Optimization restart 3/10, f = 58.17647986139158\n",
      "Optimization restart 4/10, f = 273.6916568932833\n",
      "Optimization restart 5/10, f = 54.1975653738988\n",
      "Optimization restart 6/10, f = 207.58480448121796\n",
      "Optimization restart 7/10, f = 208.078396121112\n",
      "Optimization restart 8/10, f = 256.1010243153621\n",
      "Optimization restart 9/10, f = 10.810612554631053\n",
      "Optimization restart 10/10, f = 10.431608447751678\n",
      "(4_w,9)-aCMA-ES (mu_w=2.8,w_1=49%) in dimension 6 (seed=429962, Tue Aug 25 18:32:14 2020)\n",
      "Iterat #Fevals   function value  axis ratio  sigma  min&max std  t[m:s]\n",
      "    1      9 -8.332802387053251e-02 1.0e+00 2.78e-01  3e-01  3e-01 0:00.3\n",
      "    2     18 -8.084780722258422e-02 1.3e+00 3.24e-01  3e-01  4e-01 0:00.6\n",
      "    3     27 -1.655516389370670e-01 1.4e+00 3.86e-01  4e-01  4e-01 0:01.0\n",
      "   13    117 -2.503780692842672e-01 2.3e+00 4.64e-01  3e-01  5e-01 0:04.2\n",
      "   26    234 -2.872364080580847e-01 3.9e+00 3.11e-01  1e-01  4e-01 0:08.4\n",
      "   42    378 -2.933009407897296e-01 7.1e+00 1.26e-01  3e-02  1e-01 0:13.6\n",
      "   58    522 -2.937475768350084e-01 1.5e+01 4.50e-02  5e-03  5e-02 0:19.8\n",
      "   79    711 -2.939822849719720e-01 4.9e+01 8.81e-02  5e-03  2e-01 0:26.9\n",
      "  100    900 -2.983936807797911e-01 1.0e+02 4.40e-01  2e-02  1e+00 0:34.9\n",
      "  126   1134 -2.992742527519838e-01 7.9e+01 4.32e-02  9e-04  4e-02 0:43.9\n",
      "  155   1395 -2.992749085237265e-01 1.3e+02 5.58e-03  6e-05  5e-03 0:54.0\n",
      "  189   1701 -2.992749133650157e-01 3.2e+02 3.12e-04  1e-06  3e-04 1:05.2\n",
      "  200   1800 -2.992749133664576e-01 3.9e+02 7.17e-05  2e-07  8e-05 1:09.1\n",
      "  214   1926 -2.992749133665327e-01 5.6e+02 2.18e-05  5e-08  3e-05 1:13.9\n"
     ]
    },
    {
     "name": "stderr",
     "output_type": "stream",
     "text": [
      "reconstraining parameters GP_regression.Mat52.lengthscale\n",
      "reconstraining parameters GP_regression.Mat52.variance\n",
      "reconstraining parameters GP_regression.Gaussian_noise.variance\n"
     ]
    },
    {
     "name": "stdout",
     "output_type": "stream",
     "text": [
      "termination on tolfun=1e-11 (Tue Aug 25 18:33:28 2020)\n",
      "final/bestever f-value = -2.992749e-01 -2.992749e-01\n",
      "incumbent solution: [0.3112105494364102, 0.24774279320673648, 5.188010074476192, 5.1339990954539445, 9.999999999999973, 9.195743937770219]\n",
      "std deviation: [4.8511284150577253e-08, 4.675535660132076e-08, 1.495797852827413e-07, 5.612093480302075e-07, 1.6592761745419674e-06, 2.5223386121400897e-05]\n",
      "Optimization restart 1/10, f = 35.15507369744304\n",
      "Optimization restart 2/10, f = 203.4526011975215\n",
      "Optimization restart 3/10, f = 59.59541839459625\n",
      "Optimization restart 4/10, f = 1176253246.0960994\n",
      "Optimization restart 5/10, f = 280.3670631587726\n",
      "Optimization restart 6/10, f = 99.66533226253318\n",
      "Optimization restart 7/10, f = 280.36706315897317\n",
      "Optimization restart 8/10, f = 86.19431649167355\n",
      "Optimization restart 9/10, f = 280.36706315897317\n"
     ]
    },
    {
     "name": "stderr",
     "output_type": "stream",
     "text": [
      "reconstraining parameters GP_regression.Mat52.lengthscale\n",
      "reconstraining parameters GP_regression.Mat52.variance\n",
      "reconstraining parameters GP_regression.Gaussian_noise.variance\n"
     ]
    },
    {
     "name": "stdout",
     "output_type": "stream",
     "text": [
      "Optimization restart 10/10, f = 58.52464618824479\n",
      "Optimization restart 1/10, f = 11.959042174622702\n",
      "Optimization restart 2/10, f = 102.01001338631578\n",
      "Optimization restart 3/10, f = 10.62247242521109\n",
      "Optimization restart 4/10, f = 55.17121639914869\n",
      "Optimization restart 5/10, f = 10.622494801320524\n",
      "Optimization restart 6/10, f = 11.637056496330867\n",
      "Optimization restart 7/10, f = 210.33553885475493\n",
      "Optimization restart 8/10, f = 12.86376769725577\n",
      "Optimization restart 9/10, f = 67.35763153440436\n",
      "Optimization restart 10/10, f = 280.36706199797453\n",
      "(4_w,9)-aCMA-ES (mu_w=2.8,w_1=49%) in dimension 6 (seed=516294, Tue Aug 25 18:33:32 2020)\n",
      "Iterat #Fevals   function value  axis ratio  sigma  min&max std  t[m:s]\n",
      "    1      9 -5.691957656611968e-02 1.0e+00 2.28e-01  2e-01  2e-01 0:00.4\n",
      "    2     18 -6.594108192404713e-02 1.2e+00 1.95e-01  2e-01  2e-01 0:00.8\n",
      "    3     27 -5.562800242127208e-02 1.4e+00 1.94e-01  2e-01  2e-01 0:01.1\n",
      "   12    108 -1.229025586832604e-01 4.0e+00 3.57e-01  2e-01  7e-01 0:04.3\n",
      "   24    216 -2.001847008942810e-01 6.0e+00 1.50e-01  6e-02  3e-01 0:08.4\n",
      "   35    315 -2.100087771006485e-01 5.9e+00 8.23e-02  2e-02  1e-01 0:13.6\n",
      "   52    468 -2.135680438063416e-01 8.5e+00 7.47e-02  1e-02  8e-02 0:20.1\n",
      "   69    621 -2.226843600130053e-01 2.3e+01 1.60e-01  1e-02  3e-01 0:27.4\n",
      "   85    765 -2.234186916817831e-01 2.5e+01 2.71e-02  1e-03  3e-02 0:35.7\n",
      "  100    900 -2.234343569434198e-01 2.9e+01 6.26e-03  2e-04  5e-03 0:41.0\n",
      "  129   1161 -2.234344843135601e-01 5.8e+01 7.72e-04  1e-05  7e-04 0:51.2\n",
      "  157   1413 -2.234344859025463e-01 1.3e+02 6.48e-05  6e-07  7e-05 1:02.3\n",
      "  190   1710 -2.234344860216853e-01 5.8e+02 3.74e-04  2e-06  9e-04 1:15.1\n",
      "  200   1800 -2.234344860861386e-01 9.1e+02 4.37e-04  2e-06  1e-03 1:19.3\n",
      "  228   2052 -2.234344876768541e-01 6.6e+03 1.78e-03  3e-06  2e-02 1:33.5\n",
      "  262   2358 -2.234344879134729e-01 7.4e+03 1.67e-04  1e-07  1e-03 1:48.7\n",
      "  271   2439 -2.234344879136336e-01 7.9e+03 8.53e-05  6e-08  5e-04 1:51.7\n"
     ]
    },
    {
     "name": "stderr",
     "output_type": "stream",
     "text": [
      "reconstraining parameters GP_regression.Mat52.lengthscale\n",
      "reconstraining parameters GP_regression.Mat52.variance\n",
      "reconstraining parameters GP_regression.Gaussian_noise.variance\n"
     ]
    },
    {
     "name": "stdout",
     "output_type": "stream",
     "text": [
      "termination on tolfun=1e-11 (Tue Aug 25 18:35:24 2020)\n",
      "final/bestever f-value = -2.234345e-01 -2.234345e-01\n",
      "incumbent solution: [1.7042449121972574, 0.2890493506518821, 2.2909500631184785, 5.0996372638121095, 3.5544447683086475, 11.756068421587726]\n",
      "std deviation: [5.896345651182261e-08, 1.357179413235674e-07, 9.221060771400934e-08, 3.044576918432759e-07, 1.242402046495494e-06, 0.0004599045512816246]\n",
      "Optimization restart 1/10, f = 43.926415804737886\n",
      "Optimization restart 2/10, f = 287.04246942466307\n",
      "Optimization restart 3/10, f = 262.62563301066587\n",
      "Optimization restart 4/10, f = 57.94071032223795\n",
      "Optimization restart 5/10, f = 49.22924104153408\n",
      "Optimization restart 6/10, f = 94.70346993188815\n",
      "Optimization restart 7/10, f = 43.92641582500215\n",
      "Optimization restart 8/10, f = 287.04246942466307\n"
     ]
    },
    {
     "name": "stderr",
     "output_type": "stream",
     "text": [
      "reconstraining parameters GP_regression.Mat52.lengthscale\n",
      "reconstraining parameters GP_regression.Mat52.variance\n",
      "reconstraining parameters GP_regression.Gaussian_noise.variance\n"
     ]
    },
    {
     "name": "stdout",
     "output_type": "stream",
     "text": [
      "Optimization restart 9/10, f = 40.04135528200969\n",
      "Optimization restart 10/10, f = 61.01435692780113\n",
      "Optimization restart 1/10, f = 14.313287228285137\n",
      "Optimization restart 2/10, f = 247.17718578939937\n",
      "Optimization restart 3/10, f = 308.44809478999537\n",
      "Optimization restart 4/10, f = 25.319645677146575\n",
      "Optimization restart 5/10, f = 214.04262645126383\n",
      "Optimization restart 6/10, f = 255.8441813777207\n",
      "Optimization restart 7/10, f = 1297613426.4873142\n",
      "Optimization restart 8/10, f = 14.808819319101598\n",
      "Optimization restart 9/10, f = 15.033806638945663\n",
      "Optimization restart 10/10, f = 14.930832598860334\n",
      "(4_w,9)-aCMA-ES (mu_w=2.8,w_1=49%) in dimension 6 (seed=474194, Tue Aug 25 18:35:27 2020)\n",
      "Iterat #Fevals   function value  axis ratio  sigma  min&max std  t[m:s]\n",
      "    1      9 -0.000000000000000e+00 1.0e+00 2.34e-01  2e-01  2e-01 0:00.4\n"
     ]
    },
    {
     "name": "stderr",
     "output_type": "stream",
     "text": [
      " /home/finley/miniconda3/envs/testsuite/lib/python3.8/site-packages/cma/utilities/utils.py:329: UserWarning:flat fitness (f=-0.000000, sigma=2.34e-01).\n",
      "                    For small sigma, this could indicate numerical convergence.\n",
      "                    Otherwise, please (re)consider how to compute the fitness more elaborately. (iteration=1)\n",
      "reconstraining parameters GP_regression.Mat52.lengthscale\n",
      "reconstraining parameters GP_regression.Mat52.variance\n",
      "reconstraining parameters GP_regression.Gaussian_noise.variance\n"
     ]
    },
    {
     "name": "stdout",
     "output_type": "stream",
     "text": [
      "termination on tolfun=1e-11 (Tue Aug 25 18:35:28 2020)\n",
      "final/bestever f-value = -0.000000e+00 -0.000000e+00\n",
      "incumbent solution: [0.936683183357049, 3.7317914416444573, 5.714224232238483, 1.3777856549782495, 2.6825525616896555, 9.860811353598978]\n",
      "std deviation: [0.23303194613074477, 0.23248718116185058, 0.22203404857255973, 0.23195144452177724, 0.23180330308881436, 0.22836481717451892]\n",
      "Optimization restart 1/10, f = 40.943727528296606\n",
      "Optimization restart 2/10, f = 272.15943655566696\n",
      "Optimization restart 3/10, f = 290.7253862933858\n",
      "Optimization restart 4/10, f = 270.7429209292344\n",
      "Optimization restart 5/10, f = 62.43329546100563\n",
      "Optimization restart 6/10, f = 51.60175527896833\n",
      "Optimization restart 7/10, f = 95.8821243496123\n",
      "Optimization restart 8/10, f = 260.8134746415598\n"
     ]
    },
    {
     "name": "stderr",
     "output_type": "stream",
     "text": [
      "reconstraining parameters GP_regression.Mat52.lengthscale\n",
      "reconstraining parameters GP_regression.Mat52.variance\n",
      "reconstraining parameters GP_regression.Gaussian_noise.variance\n"
     ]
    },
    {
     "name": "stdout",
     "output_type": "stream",
     "text": [
      "Optimization restart 9/10, f = 46.015932754044876\n",
      "Optimization restart 10/10, f = 1224851448.9287817\n",
      "Optimization restart 1/10, f = 15.13714595718287\n",
      "Optimization restart 2/10, f = 23.063472319706406\n",
      "Optimization restart 3/10, f = 154.26357169919157\n",
      "Optimization restart 4/10, f = 47.09089143486325\n",
      "Optimization restart 5/10, f = 61.383378657318616\n",
      "Optimization restart 6/10, f = 221.68921638936533\n",
      "Optimization restart 7/10, f = 15.376138572789483\n",
      "Optimization restart 8/10, f = 150.2878597730904\n",
      "Optimization restart 9/10, f = 48.200219166854296\n",
      "Optimization restart 10/10, f = 56.92898009153372\n",
      "(4_w,9)-aCMA-ES (mu_w=2.8,w_1=49%) in dimension 6 (seed=487331, Tue Aug 25 18:35:31 2020)\n",
      "Iterat #Fevals   function value  axis ratio  sigma  min&max std  t[m:s]\n",
      "    1      9 -1.076310030990042e-01 1.0e+00 2.36e-01  2e-01  2e-01 0:00.3\n",
      "    2     18 -9.083008297833040e-02 1.2e+00 2.26e-01  2e-01  2e-01 0:00.7\n",
      "    3     27 -1.011624582880581e-01 1.4e+00 1.99e-01  2e-01  2e-01 0:01.1\n",
      "   12    108 -1.125262981423796e-01 2.1e+00 1.34e-01  8e-02  2e-01 0:04.3\n",
      "   23    207 -1.248914808170958e-01 7.9e+00 2.13e-01  7e-02  5e-01 0:08.6\n",
      "   34    306 -1.432967953535100e-01 1.7e+01 2.60e-01  4e-02  6e-01 0:13.6\n",
      "   51    459 -1.513066792921958e-01 1.7e+01 9.60e-02  9e-03  1e-01 0:19.9\n",
      "   71    639 -1.579646291131942e-01 3.0e+01 2.24e-01  1e-02  3e-01 0:27.3\n",
      "   91    819 -1.647888284486019e-01 7.4e+01 2.07e-01  6e-03  4e-01 0:35.3\n",
      "  100    900 -1.653488130210459e-01 7.8e+01 8.54e-02  2e-03  1e-01 0:38.6\n",
      "  129   1161 -1.653829173894183e-01 8.3e+01 1.01e-02  1e-04  9e-03 0:48.9\n",
      "  152   1368 -1.653830295815735e-01 9.8e+01 1.02e-03  6e-06  5e-04 1:00.4\n",
      "  178   1602 -1.653830301038677e-01 8.4e+01 1.39e-04  5e-07  4e-05 1:12.8\n",
      "  200   1800 -1.653830301060975e-01 1.3e+02 3.94e-05  8e-08  9e-06 1:23.8\n"
     ]
    },
    {
     "name": "stderr",
     "output_type": "stream",
     "text": [
      "reconstraining parameters GP_regression.Mat52.lengthscale\n",
      "reconstraining parameters GP_regression.Mat52.variance\n",
      "reconstraining parameters GP_regression.Gaussian_noise.variance\n"
     ]
    },
    {
     "name": "stdout",
     "output_type": "stream",
     "text": [
      "termination on tolfun=1e-11 (Tue Aug 25 18:36:56 2020)\n",
      "final/bestever f-value = -1.653830e-01 -1.653830e-01\n",
      "incumbent solution: [0.5755407876703781, 2.548257522203804, 3.2710260841281897, 7.999999999999235, 4.914233016217134, 4.415602742663404]\n",
      "std deviation: [8.439889007072892e-08, 2.56036032350697e-07, 1.036596188941445e-06, 8.61640391943239e-06, 2.761616030170544e-06, 3.2558062834036724e-06]\n",
      "Optimization restart 1/10, f = 44.09006063010706\n",
      "Optimization restart 2/10, f = 250.5433453353922\n",
      "Optimization restart 3/10, f = 268.12344234700623\n",
      "Optimization restart 4/10, f = 45.386978853947745\n",
      "Optimization restart 5/10, f = 215.55338308370577\n",
      "Optimization restart 6/10, f = 266.78299538178055\n",
      "Optimization restart 7/10, f = 63.85223399421028\n",
      "Optimization restart 8/10, f = 300.3932819560427\n",
      "Optimization restart 9/10, f = 56.66025041641326\n"
     ]
    },
    {
     "name": "stderr",
     "output_type": "stream",
     "text": [
      "reconstraining parameters GP_regression.Mat52.lengthscale\n",
      "reconstraining parameters GP_regression.Mat52.variance\n",
      "reconstraining parameters GP_regression.Gaussian_noise.variance\n"
     ]
    },
    {
     "name": "stdout",
     "output_type": "stream",
     "text": [
      "Optimization restart 10/10, f = 284.6137881333346\n",
      "Optimization restart 1/10, f = 15.436053195240838\n",
      "Optimization restart 2/10, f = 1358799298.272818\n",
      "Optimization restart 3/10, f = 256.28444213707184\n",
      "Optimization restart 4/10, f = 4611658.042590925\n",
      "Optimization restart 5/10, f = 65.60104205323245\n",
      "Optimization restart 6/10, f = 300.3932819560427\n",
      "Optimization restart 7/10, f = 17.237076738668456\n",
      "Optimization restart 8/10, f = 14.82247980443113\n",
      "Optimization restart 9/10, f = 103.60196511353911\n",
      "Optimization restart 10/10, f = 1352443759.4539235\n",
      "(4_w,9)-aCMA-ES (mu_w=2.8,w_1=49%) in dimension 6 (seed=513061, Tue Aug 25 18:36:58 2020)\n",
      "Iterat #Fevals   function value  axis ratio  sigma  min&max std  t[m:s]\n",
      "    1      9 -0.000000000000000e+00 1.0e+00 2.36e-01  2e-01  3e-01 0:00.4\n"
     ]
    },
    {
     "name": "stderr",
     "output_type": "stream",
     "text": [
      " /home/finley/miniconda3/envs/testsuite/lib/python3.8/site-packages/cma/utilities/utils.py:329: UserWarning:flat fitness (f=-0.000000, sigma=2.36e-01).\n",
      "                    For small sigma, this could indicate numerical convergence.\n",
      "                    Otherwise, please (re)consider how to compute the fitness more elaborately. (iteration=1)\n",
      "reconstraining parameters GP_regression.Mat52.lengthscale\n",
      "reconstraining parameters GP_regression.Mat52.variance\n",
      "reconstraining parameters GP_regression.Gaussian_noise.variance\n"
     ]
    },
    {
     "name": "stdout",
     "output_type": "stream",
     "text": [
      "termination on tolfun=1e-11 (Tue Aug 25 18:36:59 2020)\n",
      "final/bestever f-value = -0.000000e+00 -0.000000e+00\n",
      "incumbent solution: [1.9495457585857414, 3.918114576996771, 1.3150655082855063, 5.319500943005249, 4.214989825223339, 1.6792920339577047]\n",
      "std deviation: [0.21969375865058638, 0.2517545825837023, 0.23246129868102855, 0.2344812068162156, 0.22729458422065657, 0.2319061532549901]\n",
      "Optimization restart 1/10, f = 45.38430303722379\n",
      "Optimization restart 2/10, f = 65.2711568039373\n",
      "Optimization restart 3/10, f = 94.75689843331028\n",
      "Optimization restart 4/10, f = 47.796367767364195\n",
      "Optimization restart 5/10, f = 46.38571000877626\n",
      "Optimization restart 6/10, f = 65.27117252741539\n",
      "Optimization restart 7/10, f = 102.71541546157758\n",
      "Optimization restart 8/10, f = 65.27117252741601\n"
     ]
    },
    {
     "name": "stderr",
     "output_type": "stream",
     "text": [
      "reconstraining parameters GP_regression.Mat52.lengthscale\n"
     ]
    },
    {
     "name": "stdout",
     "output_type": "stream",
     "text": [
      "Optimization restart 9/10, f = 101.95473891195199\n",
      "Optimization restart 10/10, f = 51.30329239892133\n"
     ]
    },
    {
     "name": "stderr",
     "output_type": "stream",
     "text": [
      "reconstraining parameters GP_regression.Mat52.variance\n",
      "reconstraining parameters GP_regression.Gaussian_noise.variance\n"
     ]
    },
    {
     "name": "stdout",
     "output_type": "stream",
     "text": [
      "Optimization restart 1/10, f = 15.8618815569355\n",
      "Optimization restart 2/10, f = 16.94622223846452\n",
      "Optimization restart 3/10, f = 17.67077686473039\n",
      "Optimization restart 4/10, f = 307.0686882217325\n",
      "Optimization restart 5/10, f = 58.088403388644295\n",
      "Optimization restart 6/10, f = 307.0686882217325\n",
      "Optimization restart 7/10, f = 2297479.7945776354\n",
      "Optimization restart 8/10, f = 17.662422609864677\n",
      "Optimization restart 9/10, f = 53.77019314173731\n",
      "Optimization restart 10/10, f = 60.49210403823571\n",
      "(4_w,9)-aCMA-ES (mu_w=2.8,w_1=49%) in dimension 6 (seed=524504, Tue Aug 25 18:37:02 2020)\n",
      "Iterat #Fevals   function value  axis ratio  sigma  min&max std  t[m:s]\n",
      "    1      9 -5.143411790458741e-03 1.0e+00 2.39e-01  2e-01  3e-01 0:00.4\n",
      "    2     18 -3.586564485221322e-03 1.3e+00 2.80e-01  3e-01  4e-01 0:00.8\n",
      "    3     27 -2.436681866075929e-04 1.6e+00 2.69e-01  2e-01  3e-01 0:01.2\n"
     ]
    },
    {
     "name": "stderr",
     "output_type": "stream",
     "text": [
      " /home/finley/miniconda3/envs/testsuite/lib/python3.8/site-packages/cma/utilities/utils.py:329: UserWarning:flat fitness (f=-0.000000, sigma=2.13e-01).\n",
      "                    For small sigma, this could indicate numerical convergence.\n",
      "                    Otherwise, please (re)consider how to compute the fitness more elaborately. (iteration=5)\n",
      " /home/finley/miniconda3/envs/testsuite/lib/python3.8/site-packages/cma/utilities/utils.py:329: UserWarning:flat fitness (f=-0.000000, sigma=2.51e-01).\n",
      "                    For small sigma, this could indicate numerical convergence.\n",
      "                    Otherwise, please (re)consider how to compute the fitness more elaborately. (iteration=6)\n",
      " /home/finley/miniconda3/envs/testsuite/lib/python3.8/site-packages/cma/utilities/utils.py:329: UserWarning:flat fitness (f=-0.000000, sigma=2.58e-01).\n",
      "                    For small sigma, this could indicate numerical convergence.\n",
      "                    Otherwise, please (re)consider how to compute the fitness more elaborately. (iteration=7)\n",
      " /home/finley/miniconda3/envs/testsuite/lib/python3.8/site-packages/cma/utilities/utils.py:329: UserWarning:flat fitness (f=-0.000000, sigma=2.73e-01).\n",
      "                    For small sigma, this could indicate numerical convergence.\n",
      "                    Otherwise, please (re)consider how to compute the fitness more elaborately. (iteration=9)\n",
      " /home/finley/miniconda3/envs/testsuite/lib/python3.8/site-packages/cma/utilities/utils.py:329: UserWarning:flat fitness (f=-0.000000, sigma=2.46e-01).\n",
      "                    For small sigma, this could indicate numerical convergence.\n",
      "                    Otherwise, please (re)consider how to compute the fitness more elaborately. (iteration=10)\n"
     ]
    },
    {
     "name": "stdout",
     "output_type": "stream",
     "text": [
      "   11     99 -0.000000000000000e+00 2.5e+00 2.13e-01  2e-01  3e-01 0:04.3\n"
     ]
    },
    {
     "name": "stderr",
     "output_type": "stream",
     "text": [
      " /home/finley/miniconda3/envs/testsuite/lib/python3.8/site-packages/cma/utilities/utils.py:329: UserWarning:flat fitness (f=-0.000000, sigma=2.13e-01).\n",
      "                    For small sigma, this could indicate numerical convergence.\n",
      "                    Otherwise, please (re)consider how to compute the fitness more elaborately. (iteration=11)\n",
      " /home/finley/miniconda3/envs/testsuite/lib/python3.8/site-packages/cma/utilities/utils.py:329: UserWarning:flat fitness (f=-0.000000, sigma=2.03e-01).\n",
      "                    For small sigma, this could indicate numerical convergence.\n",
      "                    Otherwise, please (re)consider how to compute the fitness more elaborately. (iteration=12)\n",
      " /home/finley/miniconda3/envs/testsuite/lib/python3.8/site-packages/cma/utilities/utils.py:329: UserWarning:flat fitness (f=-0.000000, sigma=2.10e-01).\n",
      "                    For small sigma, this could indicate numerical convergence.\n",
      "                    Otherwise, please (re)consider how to compute the fitness more elaborately. (iteration=13)\n",
      " /home/finley/miniconda3/envs/testsuite/lib/python3.8/site-packages/cma/utilities/utils.py:329: UserWarning:flat fitness (f=-0.000000, sigma=2.10e-01).\n",
      "                    For small sigma, this could indicate numerical convergence.\n",
      "                    Otherwise, please (re)consider how to compute the fitness more elaborately. (iteration=14)\n",
      " /home/finley/miniconda3/envs/testsuite/lib/python3.8/site-packages/cma/utilities/utils.py:329: UserWarning:flat fitness (f=-0.000000, sigma=2.16e-01).\n",
      "                    For small sigma, this could indicate numerical convergence.\n",
      "                    Otherwise, please (re)consider how to compute the fitness more elaborately. (iteration=15)\n",
      " /home/finley/miniconda3/envs/testsuite/lib/python3.8/site-packages/cma/utilities/utils.py:329: UserWarning:flat fitness (f=-0.000000, sigma=2.15e-01).\n",
      "                    For small sigma, this could indicate numerical convergence.\n",
      "                    Otherwise, please (re)consider how to compute the fitness more elaborately. (iteration=16)\n",
      " /home/finley/miniconda3/envs/testsuite/lib/python3.8/site-packages/cma/utilities/utils.py:329: UserWarning:flat fitness (f=-0.000000, sigma=1.80e-01).\n",
      "                    For small sigma, this could indicate numerical convergence.\n",
      "                    Otherwise, please (re)consider how to compute the fitness more elaborately. (iteration=17)\n",
      " /home/finley/miniconda3/envs/testsuite/lib/python3.8/site-packages/cma/utilities/utils.py:329: UserWarning:flat fitness (f=-0.000000, sigma=1.60e-01).\n",
      "                    For small sigma, this could indicate numerical convergence.\n",
      "                    Otherwise, please (re)consider how to compute the fitness more elaborately. (iteration=18)\n",
      " /home/finley/miniconda3/envs/testsuite/lib/python3.8/site-packages/cma/utilities/utils.py:329: UserWarning:flat fitness (f=-0.000000, sigma=1.42e-01).\n",
      "                    For small sigma, this could indicate numerical convergence.\n",
      "                    Otherwise, please (re)consider how to compute the fitness more elaborately. (iteration=19)\n",
      " /home/finley/miniconda3/envs/testsuite/lib/python3.8/site-packages/cma/utilities/utils.py:329: UserWarning:flat fitness (f=-0.000000, sigma=1.42e-01).\n",
      "                    For small sigma, this could indicate numerical convergence.\n",
      "                    Otherwise, please (re)consider how to compute the fitness more elaborately. (iteration=20)\n",
      " /home/finley/miniconda3/envs/testsuite/lib/python3.8/site-packages/cma/utilities/utils.py:329: UserWarning:flat fitness (f=-0.000000, sigma=1.31e-01).\n",
      "                    For small sigma, this could indicate numerical convergence.\n",
      "                    Otherwise, please (re)consider how to compute the fitness more elaborately. (iteration=21)\n"
     ]
    },
    {
     "name": "stdout",
     "output_type": "stream",
     "text": [
      "   22    198 -0.000000000000000e+00 3.5e+00 1.47e-01  1e-01  2e-01 0:08.6\n"
     ]
    },
    {
     "name": "stderr",
     "output_type": "stream",
     "text": [
      " /home/finley/miniconda3/envs/testsuite/lib/python3.8/site-packages/cma/utilities/utils.py:329: UserWarning:flat fitness (f=-0.000000, sigma=1.47e-01).\n",
      "                    For small sigma, this could indicate numerical convergence.\n",
      "                    Otherwise, please (re)consider how to compute the fitness more elaborately. (iteration=22)\n",
      " /home/finley/miniconda3/envs/testsuite/lib/python3.8/site-packages/cma/utilities/utils.py:329: UserWarning:flat fitness (f=-0.000000, sigma=1.67e-01).\n",
      "                    For small sigma, this could indicate numerical convergence.\n",
      "                    Otherwise, please (re)consider how to compute the fitness more elaborately. (iteration=23)\n",
      " /home/finley/miniconda3/envs/testsuite/lib/python3.8/site-packages/cma/utilities/utils.py:329: UserWarning:flat fitness (f=-0.000000, sigma=1.93e-01).\n",
      "                    For small sigma, this could indicate numerical convergence.\n",
      "                    Otherwise, please (re)consider how to compute the fitness more elaborately. (iteration=24)\n",
      " /home/finley/miniconda3/envs/testsuite/lib/python3.8/site-packages/cma/utilities/utils.py:329: UserWarning:flat fitness (f=-0.000000, sigma=1.72e-01).\n",
      "                    For small sigma, this could indicate numerical convergence.\n",
      "                    Otherwise, please (re)consider how to compute the fitness more elaborately. (iteration=25)\n",
      " /home/finley/miniconda3/envs/testsuite/lib/python3.8/site-packages/cma/utilities/utils.py:329: UserWarning:flat fitness (f=-0.000000, sigma=1.56e-01).\n",
      "                    For small sigma, this could indicate numerical convergence.\n",
      "                    Otherwise, please (re)consider how to compute the fitness more elaborately. (iteration=26)\n",
      " /home/finley/miniconda3/envs/testsuite/lib/python3.8/site-packages/cma/utilities/utils.py:329: UserWarning:flat fitness (f=-0.000000, sigma=1.60e-01).\n",
      "                    For small sigma, this could indicate numerical convergence.\n",
      "                    Otherwise, please (re)consider how to compute the fitness more elaborately. (iteration=27)\n",
      " /home/finley/miniconda3/envs/testsuite/lib/python3.8/site-packages/cma/utilities/utils.py:329: UserWarning:flat fitness (f=-0.000000, sigma=1.67e-01).\n",
      "                    For small sigma, this could indicate numerical convergence.\n",
      "                    Otherwise, please (re)consider how to compute the fitness more elaborately. (iteration=28)\n",
      " /home/finley/miniconda3/envs/testsuite/lib/python3.8/site-packages/cma/utilities/utils.py:329: UserWarning:flat fitness (f=-0.000000, sigma=1.73e-01).\n",
      "                    For small sigma, this could indicate numerical convergence.\n",
      "                    Otherwise, please (re)consider how to compute the fitness more elaborately. (iteration=29)\n"
     ]
    },
    {
     "name": "stdout",
     "output_type": "stream",
     "text": [
      "   35    315 -0.000000000000000e+00 4.3e+00 1.53e-01  9e-02  2e-01 0:14.0\n"
     ]
    },
    {
     "name": "stderr",
     "output_type": "stream",
     "text": [
      " /home/finley/miniconda3/envs/testsuite/lib/python3.8/site-packages/cma/utilities/utils.py:329: UserWarning:flat fitness (f=-0.000000, sigma=1.53e-01).\n",
      "                    For small sigma, this could indicate numerical convergence.\n",
      "                    Otherwise, please (re)consider how to compute the fitness more elaborately. (iteration=35)\n"
     ]
    },
    {
     "name": "stdout",
     "output_type": "stream",
     "text": [
      "   49    441 -9.428771357912424e-03 5.9e+00 1.92e-01  7e-02  2e-01 0:20.4\n",
      "   62    558 -1.544923221862327e-02 1.5e+01 5.09e-01  8e-02  1e+00 0:27.7\n",
      "   76    684 -4.136997493978289e-02 4.1e+01 4.25e-01  3e-02  9e-01 0:35.8\n",
      "  100    900 -5.363269168900953e-02 4.8e+01 1.34e-01  5e-03  2e-01 0:45.1\n",
      "  126   1134 -5.742324318420144e-02 1.2e+02 2.30e-01  4e-03  4e-01 0:55.2\n",
      "  155   1395 -5.980892538044680e-02 2.2e+02 2.44e-01  2e-03  4e-01 1:06.6\n",
      "  180   1620 -5.992755031543839e-02 3.8e+02 3.39e-02  1e-04  5e-02 1:18.9\n",
      "  200   1800 -5.992779534500325e-02 4.2e+02 3.33e-03  8e-06  3e-03 1:28.8\n",
      "  227   2043 -5.992779576244489e-02 5.3e+02 2.04e-04  3e-07  1e-04 1:43.1\n",
      "  246   2214 -5.992779576340990e-02 4.6e+02 6.51e-05  6e-08  2e-05 1:50.6\n"
     ]
    },
    {
     "name": "stderr",
     "output_type": "stream",
     "text": [
      "reconstraining parameters GP_regression.Mat52.lengthscale\n",
      "reconstraining parameters GP_regression.Mat52.variance\n",
      "reconstraining parameters GP_regression.Gaussian_noise.variance\n"
     ]
    },
    {
     "name": "stdout",
     "output_type": "stream",
     "text": [
      "termination on tolfun=1e-11 (Tue Aug 25 18:38:53 2020)\n",
      "final/bestever f-value = -5.992780e-02 -5.992780e-02\n",
      "incumbent solution: [0.5642860618377998, 2.1487281713503337, 4.01568944557852, 7.999999999990367, 9.999999999974156, 3.8827041482663067]\n",
      "std deviation: [5.669473812068353e-08, 1.048311577190858e-07, 8.122192567044898e-07, 7.670008863347494e-06, 2.4659995981405736e-05, 3.3845253306717057e-06]\n",
      "Optimization restart 1/10, f = 48.77813277171949\n",
      "Optimization restart 2/10, f = 313.7440944872593\n",
      "Optimization restart 3/10, f = 49.659997773783026\n",
      "Optimization restart 4/10, f = 291.79306993968135\n",
      "Optimization restart 5/10, f = 55.043469348748204\n",
      "Optimization restart 6/10, f = 51.335061750746604\n",
      "Optimization restart 7/10, f = 130.18753980547282\n",
      "Optimization restart 8/10, f = 313.74409448742233\n"
     ]
    },
    {
     "name": "stderr",
     "output_type": "stream",
     "text": [
      "reconstraining parameters GP_regression.Mat52.lengthscale\n",
      "reconstraining parameters GP_regression.Mat52.variance\n",
      "reconstraining parameters GP_regression.Gaussian_noise.variance\n"
     ]
    },
    {
     "name": "stdout",
     "output_type": "stream",
     "text": [
      "Optimization restart 9/10, f = 246.05917649153227\n",
      "Optimization restart 10/10, f = 237.83309774021504\n",
      "Optimization restart 1/10, f = 18.541272753993823\n",
      "Optimization restart 2/10, f = 56.48463054109422\n",
      "Optimization restart 3/10, f = 16.091441162058423\n",
      "Optimization restart 4/10, f = 313.74409440162435\n",
      "Optimization restart 5/10, f = 164.26785050296394\n",
      "Optimization restart 6/10, f = 16.32067322467015\n",
      "Optimization restart 7/10, f = 47.849690881426845\n",
      "Optimization restart 8/10, f = 198.14055102775896\n",
      "Optimization restart 9/10, f = 253.92889934529146\n",
      "Optimization restart 10/10, f = 16.320673290075238\n",
      "(4_w,9)-aCMA-ES (mu_w=2.8,w_1=49%) in dimension 6 (seed=548769, Tue Aug 25 18:39:01 2020)\n",
      "Iterat #Fevals   function value  axis ratio  sigma  min&max std  t[m:s]\n",
      "    1      9 -0.000000000000000e+00 1.0e+00 2.60e-01  2e-01  3e-01 0:00.4\n",
      "    2     18 -0.000000000000000e+00 1.4e+00 3.08e-01  3e-01  3e-01 0:00.7\n",
      "    3     27 -0.000000000000000e+00 1.5e+00 3.34e-01  3e-01  4e-01 0:01.2\n",
      "   10     90 -0.000000000000000e+00 2.5e+00 2.07e-01  1e-01  2e-01 0:04.0\n"
     ]
    },
    {
     "name": "stderr",
     "output_type": "stream",
     "text": [
      " /home/finley/miniconda3/envs/testsuite/lib/python3.8/site-packages/cma/utilities/utils.py:329: UserWarning:flat fitness (f=-0.000000, sigma=2.07e-01).\n",
      "                    For small sigma, this could indicate numerical convergence.\n",
      "                    Otherwise, please (re)consider how to compute the fitness more elaborately. (iteration=10)\n",
      "reconstraining parameters GP_regression.Mat52.lengthscale\n",
      "reconstraining parameters GP_regression.Mat52.variance\n",
      "reconstraining parameters GP_regression.Gaussian_noise.variance\n"
     ]
    },
    {
     "name": "stdout",
     "output_type": "stream",
     "text": [
      "termination on tolfun=1e-11 (Tue Aug 25 18:39:05 2020)\n",
      "termination on tolfunhist=1e-12 (Tue Aug 25 18:39:05 2020)\n",
      "termination on flat fitness=please (re)consider how to compute the fitness more elaborately if sigma=2.07e-01 is large (Tue Aug 25 18:39:05 2020)\n",
      "final/bestever f-value = -0.000000e+00 -0.000000e+00\n",
      "incumbent solution: [0.027057781849713653, 0.718946196374027, 1.321696534338542, 4.164852215591029, 3.12854422914299, 6.350737298045659]\n",
      "std deviation: [0.149718064874286, 0.18812901184494898, 0.23192734894034003, 0.20153381040372503, 0.2212188757111106, 0.17673275921950682]\n",
      "Optimization restart 1/10, f = 50.66408583010631\n",
      "Optimization restart 2/10, f = 113.09036836365809\n",
      "Optimization restart 3/10, f = 94.86524069398354\n",
      "Optimization restart 4/10, f = 1459298637.7675455\n",
      "Optimization restart 5/10, f = 94.86527725691502\n",
      "Optimization restart 6/10, f = 250.80726679416483\n",
      "Optimization restart 7/10, f = 299.38838758836397\n",
      "Optimization restart 8/10, f = 59.885736785875864\n",
      "Optimization restart 9/10, f = 205.7365258904758\n"
     ]
    },
    {
     "name": "stderr",
     "output_type": "stream",
     "text": [
      "reconstraining parameters GP_regression.Mat52.lengthscale\n",
      "reconstraining parameters GP_regression.Mat52.variance\n",
      "reconstraining parameters GP_regression.Gaussian_noise.variance\n"
     ]
    },
    {
     "name": "stdout",
     "output_type": "stream",
     "text": [
      "Optimization restart 10/10, f = 52.613697408758256\n",
      "Optimization restart 1/10, f = 16.89205555937048\n",
      "Optimization restart 2/10, f = 320.4195007531122\n",
      "Optimization restart 3/10, f = 19.500441856111127\n",
      "Optimization restart 4/10, f = 16.892058619775213\n",
      "Optimization restart 5/10, f = 64.18923885509452\n",
      "Optimization restart 6/10, f = 67.46595814585072\n",
      "Optimization restart 7/10, f = 59.03446907619542\n",
      "Optimization restart 8/10, f = 262.18102192036093\n",
      "Optimization restart 9/10, f = 19.48860755583807\n",
      "Optimization restart 10/10, f = 68.10904959898885\n",
      "(4_w,9)-aCMA-ES (mu_w=2.8,w_1=49%) in dimension 6 (seed=553487, Tue Aug 25 18:39:09 2020)\n",
      "Iterat #Fevals   function value  axis ratio  sigma  min&max std  t[m:s]\n",
      "    1      9 -0.000000000000000e+00 1.0e+00 2.28e-01  2e-01  2e-01 0:00.4\n",
      "    2     18 -0.000000000000000e+00 1.2e+00 2.41e-01  2e-01  3e-01 0:00.9\n",
      "    3     27 -0.000000000000000e+00 1.5e+00 2.55e-01  2e-01  3e-01 0:01.5\n",
      "    4     36 -0.000000000000000e+00 1.5e+00 2.99e-01  3e-01  3e-01 0:02.1\n"
     ]
    },
    {
     "name": "stderr",
     "output_type": "stream",
     "text": [
      " /home/finley/miniconda3/envs/testsuite/lib/python3.8/site-packages/cma/utilities/utils.py:329: UserWarning:flat fitness (f=-0.000000, sigma=2.99e-01).\n",
      "                    For small sigma, this could indicate numerical convergence.\n",
      "                    Otherwise, please (re)consider how to compute the fitness more elaborately. (iteration=4)\n",
      "reconstraining parameters GP_regression.Mat52.lengthscale\n",
      "reconstraining parameters GP_regression.Mat52.variance\n",
      "reconstraining parameters GP_regression.Gaussian_noise.variance\n"
     ]
    },
    {
     "name": "stdout",
     "output_type": "stream",
     "text": [
      "termination on tolfun=1e-11 (Tue Aug 25 18:39:11 2020)\n",
      "final/bestever f-value = -0.000000e+00 -0.000000e+00\n",
      "incumbent solution: [0.5894189135906513, 0.9134356370708143, 5.664383486602068, 7.692409703079771, 4.947568298162326, 3.234320510181135]\n",
      "std deviation: [0.31379601278861585, 0.26378039364475747, 0.3164641377616101, 0.33903560371077274, 0.2948159674561906, 0.30516624722260005]\n",
      "Optimization restart 1/10, f = 49.302253301644456\n",
      "Optimization restart 2/10, f = 260.04655444463003\n",
      "Optimization restart 3/10, f = 68.32720945492181\n",
      "Optimization restart 4/10, f = 69.07910323494855\n",
      "Optimization restart 5/10, f = 69.52799365164162\n",
      "Optimization restart 6/10, f = 290.84387483573363\n",
      "Optimization restart 7/10, f = 327.09490701880196\n",
      "Optimization restart 8/10, f = 60.34863083867798\n",
      "Optimization restart 9/10, f = 262.61658710300065\n"
     ]
    },
    {
     "name": "stderr",
     "output_type": "stream",
     "text": [
      "reconstraining parameters GP_regression.Mat52.lengthscale\n",
      "reconstraining parameters GP_regression.Mat52.variance\n",
      "reconstraining parameters GP_regression.Gaussian_noise.variance\n"
     ]
    },
    {
     "name": "stdout",
     "output_type": "stream",
     "text": [
      "Optimization restart 10/10, f = 267.29082652491337\n",
      "Optimization restart 1/10, f = 16.15291025093554\n",
      "Optimization restart 2/10, f = 274.2651063288415\n",
      "Optimization restart 3/10, f = 327.09490701880196\n",
      "Optimization restart 4/10, f = 18.602262428793242\n",
      "Optimization restart 5/10, f = 53.811072324885686\n",
      "Optimization restart 6/10, f = 327.09490675899013\n",
      "Optimization restart 7/10, f = 276.31316083065974\n",
      "Optimization restart 8/10, f = 327.09490701880196\n",
      "Optimization restart 9/10, f = 16.152910424861116\n",
      "Optimization restart 10/10, f = 267.7485616440611\n",
      "(4_w,9)-aCMA-ES (mu_w=2.8,w_1=49%) in dimension 6 (seed=492813, Tue Aug 25 18:39:16 2020)\n",
      "Iterat #Fevals   function value  axis ratio  sigma  min&max std  t[m:s]\n",
      "    1      9 -3.733878719978989e-03 1.0e+00 2.22e-01  2e-01  2e-01 0:00.7\n",
      "    2     18 -2.074248962794289e-03 1.2e+00 2.05e-01  2e-01  2e-01 0:01.2\n",
      "    3     27 -3.316250108111873e-04 1.4e+00 2.08e-01  2e-01  2e-01 0:01.7\n"
     ]
    },
    {
     "name": "stderr",
     "output_type": "stream",
     "text": [
      " /home/finley/miniconda3/envs/testsuite/lib/python3.8/site-packages/cma/utilities/utils.py:329: UserWarning:flat fitness (f=-0.000000, sigma=1.91e-01).\n",
      "                    For small sigma, this could indicate numerical convergence.\n",
      "                    Otherwise, please (re)consider how to compute the fitness more elaborately. (iteration=4)\n",
      " /home/finley/miniconda3/envs/testsuite/lib/python3.8/site-packages/cma/utilities/utils.py:329: UserWarning:flat fitness (f=-0.000000, sigma=2.00e-01).\n",
      "                    For small sigma, this could indicate numerical convergence.\n",
      "                    Otherwise, please (re)consider how to compute the fitness more elaborately. (iteration=5)\n",
      " /home/finley/miniconda3/envs/testsuite/lib/python3.8/site-packages/cma/utilities/utils.py:329: UserWarning:flat fitness (f=-0.000000, sigma=1.71e-01).\n",
      "                    For small sigma, this could indicate numerical convergence.\n",
      "                    Otherwise, please (re)consider how to compute the fitness more elaborately. (iteration=7)\n"
     ]
    },
    {
     "name": "stdout",
     "output_type": "stream",
     "text": [
      "   10     90 -0.000000000000000e+00 1.8e+00 1.48e-01  1e-01  1e-01 0:04.8\n"
     ]
    },
    {
     "name": "stderr",
     "output_type": "stream",
     "text": [
      " /home/finley/miniconda3/envs/testsuite/lib/python3.8/site-packages/cma/utilities/utils.py:329: UserWarning:flat fitness (f=-0.000000, sigma=1.48e-01).\n",
      "                    For small sigma, this could indicate numerical convergence.\n",
      "                    Otherwise, please (re)consider how to compute the fitness more elaborately. (iteration=10)\n",
      " /home/finley/miniconda3/envs/testsuite/lib/python3.8/site-packages/cma/utilities/utils.py:329: UserWarning:flat fitness (f=-0.000000, sigma=1.32e-01).\n",
      "                    For small sigma, this could indicate numerical convergence.\n",
      "                    Otherwise, please (re)consider how to compute the fitness more elaborately. (iteration=12)\n",
      " /home/finley/miniconda3/envs/testsuite/lib/python3.8/site-packages/cma/utilities/utils.py:329: UserWarning:flat fitness (f=-0.000000, sigma=1.58e-01).\n",
      "                    For small sigma, this could indicate numerical convergence.\n",
      "                    Otherwise, please (re)consider how to compute the fitness more elaborately. (iteration=13)\n",
      " /home/finley/miniconda3/envs/testsuite/lib/python3.8/site-packages/cma/utilities/utils.py:329: UserWarning:flat fitness (f=-0.000000, sigma=2.19e-01).\n",
      "                    For small sigma, this could indicate numerical convergence.\n",
      "                    Otherwise, please (re)consider how to compute the fitness more elaborately. (iteration=15)\n",
      " /home/finley/miniconda3/envs/testsuite/lib/python3.8/site-packages/cma/utilities/utils.py:329: UserWarning:flat fitness (f=-0.000000, sigma=2.37e-01).\n",
      "                    For small sigma, this could indicate numerical convergence.\n",
      "                    Otherwise, please (re)consider how to compute the fitness more elaborately. (iteration=16)\n",
      " /home/finley/miniconda3/envs/testsuite/lib/python3.8/site-packages/cma/utilities/utils.py:329: UserWarning:flat fitness (f=-0.000000, sigma=2.48e-01).\n",
      "                    For small sigma, this could indicate numerical convergence.\n",
      "                    Otherwise, please (re)consider how to compute the fitness more elaborately. (iteration=17)\n"
     ]
    },
    {
     "name": "stdout",
     "output_type": "stream",
     "text": [
      "   20    180 -2.804447431392187e-03 3.1e+00 2.51e-01  2e-01  3e-01 0:09.1\n"
     ]
    },
    {
     "name": "stderr",
     "output_type": "stream",
     "text": [
      " /home/finley/miniconda3/envs/testsuite/lib/python3.8/site-packages/cma/utilities/utils.py:329: UserWarning:flat fitness (f=-0.000000, sigma=1.94e-01).\n",
      "                    For small sigma, this could indicate numerical convergence.\n",
      "                    Otherwise, please (re)consider how to compute the fitness more elaborately. (iteration=30)\n"
     ]
    },
    {
     "name": "stdout",
     "output_type": "stream",
     "text": [
      "   32    288 -3.766750908996030e-03 3.6e+00 2.20e-01  2e-01  2e-01 0:14.2\n"
     ]
    },
    {
     "name": "stderr",
     "output_type": "stream",
     "text": [
      " /home/finley/miniconda3/envs/testsuite/lib/python3.8/site-packages/cma/utilities/utils.py:329: UserWarning:flat fitness (f=-0.000000, sigma=2.69e-01).\n",
      "                    For small sigma, this could indicate numerical convergence.\n",
      "                    Otherwise, please (re)consider how to compute the fitness more elaborately. (iteration=35)\n"
     ]
    },
    {
     "name": "stdout",
     "output_type": "stream",
     "text": [
      "   47    423 -6.717738231833215e-02 5.3e+00 3.27e-01  2e-01  4e-01 0:20.6\n",
      "   60    540 -7.118177955429505e-02 5.7e+00 3.58e-01  1e-01  4e-01 0:27.8\n",
      "   74    666 -9.029162562831372e-02 1.2e+01 1.85e-01  3e-02  3e-01 0:35.9\n",
      "   90    810 -1.101504466224399e-01 4.7e+01 6.03e-01  3e-02  1e+00 0:45.1\n",
      "  100    900 -1.969690721696278e-01 5.7e+01 1.15e+00  5e-02  2e+00 0:50.4\n",
      "  121   1089 -2.252360437824850e-01 3.7e+01 2.27e-01  7e-03  2e-01 1:01.7\n",
      "  144   1296 -2.255538443527501e-01 5.3e+01 5.95e-02  8e-04  4e-02 1:13.8\n",
      "  167   1503 -2.255601480077312e-01 1.3e+02 1.22e-02  7e-05  6e-03 1:26.8\n",
      "  198   1782 -2.255601753660965e-01 1.8e+02 6.42e-04  2e-06  2e-04 1:40.9\n",
      "  200   1800 -2.255601753939760e-01 1.8e+02 4.89e-04  1e-06  2e-04 1:41.9\n",
      "  234   2106 -2.255601754091972e-01 1.2e+02 4.46e-05  6e-08  6e-06 1:57.9\n"
     ]
    },
    {
     "name": "stderr",
     "output_type": "stream",
     "text": [
      "reconstraining parameters GP_regression.Mat52.lengthscale\n",
      "reconstraining parameters GP_regression.Mat52.variance\n",
      "reconstraining parameters GP_regression.Gaussian_noise.variance\n"
     ]
    },
    {
     "name": "stdout",
     "output_type": "stream",
     "text": [
      "termination on tolfun=1e-11 (Tue Aug 25 18:41:14 2020)\n",
      "final/bestever f-value = -2.255602e-01 -2.255602e-01\n",
      "incumbent solution: [1.021193743269773, 0.0003110870978944238, 2.4774053202871507, 1.9822959330778538, 3.8146863917248988, 4.4909887239010295]\n",
      "std deviation: [5.878024198690496e-08, 1.5051700726375918e-06, 2.804231713446587e-07, 5.544868558493512e-06, 1.6311738454133788e-06, 1.8031207710611007e-06]\n",
      "Optimization restart 1/10, f = 48.92397863201272\n",
      "Optimization restart 2/10, f = 333.7703132844918\n",
      "Optimization restart 3/10, f = 70.94692666023363\n",
      "Optimization restart 4/10, f = 295.54667114144866\n",
      "Optimization restart 5/10, f = 257.6089527838183\n",
      "Optimization restart 6/10, f = 2420978.640613875\n",
      "Optimization restart 7/10, f = 294.5432443165731\n"
     ]
    },
    {
     "name": "stderr",
     "output_type": "stream",
     "text": [
      "reconstraining parameters GP_regression.Mat52.lengthscale\n",
      "reconstraining parameters GP_regression.Mat52.variance\n",
      "reconstraining parameters GP_regression.Gaussian_noise.variance\n"
     ]
    },
    {
     "name": "stdout",
     "output_type": "stream",
     "text": [
      "Optimization restart 8/10, f = 267.75732112400186\n",
      "Optimization restart 9/10, f = 333.7703132844918\n",
      "Optimization restart 10/10, f = 311.3180831376331\n",
      "Optimization restart 1/10, f = 16.37233992546457\n",
      "Optimization restart 2/10, f = 60.83216857241774\n",
      "Optimization restart 3/10, f = 16.69025523017946\n",
      "Optimization restart 4/10, f = 16.372340011939315\n",
      "Optimization restart 5/10, f = 70.94692666023363\n",
      "Optimization restart 6/10, f = 15.831242154231305\n",
      "Optimization restart 7/10, f = 283.1434360065583\n",
      "Optimization restart 8/10, f = 48.56597160201748\n",
      "Optimization restart 9/10, f = 18.835881902475354\n",
      "Optimization restart 10/10, f = 43.96506604926766\n",
      "(4_w,9)-aCMA-ES (mu_w=2.8,w_1=49%) in dimension 6 (seed=478166, Tue Aug 25 18:41:17 2020)\n",
      "Iterat #Fevals   function value  axis ratio  sigma  min&max std  t[m:s]\n",
      "    1      9 -0.000000000000000e+00 1.0e+00 2.20e-01  2e-01  2e-01 0:00.4\n",
      "    2     18 -0.000000000000000e+00 1.2e+00 2.40e-01  2e-01  3e-01 0:00.8\n",
      "    3     27 -0.000000000000000e+00 1.4e+00 2.60e-01  2e-01  3e-01 0:01.2\n",
      "   10     90 -0.000000000000000e+00 2.0e+00 1.93e-01  2e-01  2e-01 0:04.5\n"
     ]
    },
    {
     "name": "stderr",
     "output_type": "stream",
     "text": [
      "reconstraining parameters GP_regression.Mat52.lengthscale\n",
      "reconstraining parameters GP_regression.Mat52.variance\n",
      "reconstraining parameters GP_regression.Gaussian_noise.variance\n"
     ]
    },
    {
     "name": "stdout",
     "output_type": "stream",
     "text": [
      "termination on tolfunhist=1e-12 (Tue Aug 25 18:41:22 2020)\n",
      "termination on flat fitness=please (re)consider how to compute the fitness more elaborately if sigma=1.93e-01 is large (Tue Aug 25 18:41:22 2020)\n",
      "final/bestever f-value = -0.000000e+00 -0.000000e+00\n",
      "incumbent solution: [1.999745029879275, 1.2484970550405394, 0.005489278784566087, 4.983933095448474, 1.018291137474774, 6.838462913899968]\n",
      "std deviation: [0.1711421538442128, 0.17955973793811536, 0.21811526162445485, 0.1585838213081399, 0.17748708866574775, 0.15282247381168187]\n",
      "Optimization restart 1/10, f = 49.99208736018838\n",
      "Optimization restart 2/10, f = 52.51951760305137\n",
      "Optimization restart 3/10, f = 340.4457195501816\n",
      "Optimization restart 4/10, f = 48.059908085279375\n",
      "Optimization restart 5/10, f = 101.54623613049633\n",
      "Optimization restart 6/10, f = 317.8242709035154\n",
      "Optimization restart 7/10, f = 271.6669419383429\n",
      "Optimization restart 8/10, f = 292.67446127047936\n",
      "Optimization restart 9/10, f = 58.490603263709914\n"
     ]
    },
    {
     "name": "stderr",
     "output_type": "stream",
     "text": [
      "reconstraining parameters GP_regression.Mat52.lengthscale\n",
      "reconstraining parameters GP_regression.Mat52.variance\n",
      "reconstraining parameters GP_regression.Gaussian_noise.variance\n"
     ]
    },
    {
     "name": "stdout",
     "output_type": "stream",
     "text": [
      "Optimization restart 10/10, f = 340.4457195501816\n",
      "Optimization restart 1/10, f = 16.636102342396494\n",
      "Optimization restart 2/10, f = 416.4978343490506\n",
      "Optimization restart 3/10, f = 23.734559155689144\n",
      "Optimization restart 4/10, f = 71.44558580353436\n",
      "Optimization restart 5/10, f = 2547205.859205639\n",
      "Optimization restart 6/10, f = 298.12900403244004\n",
      "Optimization restart 7/10, f = 261.58144404361116\n",
      "Optimization restart 8/10, f = 332.48740558544034\n",
      "Optimization restart 9/10, f = 24.739302917312855\n",
      "Optimization restart 10/10, f = 72.36586519343831\n",
      "(4_w,9)-aCMA-ES (mu_w=2.8,w_1=49%) in dimension 6 (seed=471011, Tue Aug 25 18:41:25 2020)\n",
      "Iterat #Fevals   function value  axis ratio  sigma  min&max std  t[m:s]\n",
      "    1      9 -0.000000000000000e+00 1.0e+00 2.61e-01  2e-01  3e-01 0:00.4\n",
      "    2     18 -0.000000000000000e+00 1.4e+00 2.61e-01  2e-01  3e-01 0:00.9\n",
      "    3     27 -0.000000000000000e+00 1.5e+00 2.89e-01  3e-01  3e-01 0:01.3\n"
     ]
    },
    {
     "name": "stderr",
     "output_type": "stream",
     "text": [
      " /home/finley/miniconda3/envs/testsuite/lib/python3.8/site-packages/cma/utilities/utils.py:329: UserWarning:flat fitness (f=-0.000000, sigma=2.89e-01).\n",
      "                    For small sigma, this could indicate numerical convergence.\n",
      "                    Otherwise, please (re)consider how to compute the fitness more elaborately. (iteration=3)\n",
      "reconstraining parameters GP_regression.Mat52.lengthscale\n",
      "reconstraining parameters GP_regression.Mat52.variance\n",
      "reconstraining parameters GP_regression.Gaussian_noise.variance\n"
     ]
    },
    {
     "name": "stdout",
     "output_type": "stream",
     "text": [
      "termination on tolfun=1e-11 (Tue Aug 25 18:41:26 2020)\n",
      "final/bestever f-value = -0.000000e+00 -0.000000e+00\n",
      "incumbent solution: [0.7500386137656596, 2.1948085597419578, 3.017032480707594, 5.098613779463149, 0.8430960555754318, 8.379647779305435]\n",
      "std deviation: [0.2868607113733741, 0.3082974848483799, 0.29573505562307395, 0.30632216707208104, 0.28107780911317387, 0.30449469307657706]\n",
      "Optimization restart 1/10, f = 47.99994731550826\n",
      "Optimization restart 2/10, f = 170.9241887659953\n",
      "Optimization restart 3/10, f = 50.50520507527185\n",
      "Optimization restart 4/10, f = 289.2405309236092\n",
      "Optimization restart 5/10, f = 283.60211184658783\n",
      "Optimization restart 6/10, f = 73.78480372664298\n",
      "Optimization restart 7/10, f = 50.08329579831578\n",
      "Optimization restart 8/10, f = 239.4174455642732\n",
      "Optimization restart 9/10, f = 53.827872215724376\n"
     ]
    },
    {
     "name": "stderr",
     "output_type": "stream",
     "text": [
      "reconstraining parameters GP_regression.Mat52.lengthscale\n",
      "reconstraining parameters GP_regression.Mat52.variance\n",
      "reconstraining parameters GP_regression.Gaussian_noise.variance\n"
     ]
    },
    {
     "name": "stdout",
     "output_type": "stream",
     "text": [
      "Optimization restart 10/10, f = 68.1802083127295\n",
      "Optimization restart 1/10, f = 15.444755527772557\n",
      "Optimization restart 2/10, f = 60.202487351092465\n",
      "Optimization restart 3/10, f = 314.25930516736804\n",
      "Optimization restart 4/10, f = 18.93520884407227\n",
      "Optimization restart 5/10, f = 1587901270.5312676\n",
      "Optimization restart 6/10, f = 73.78480427142773\n",
      "Optimization restart 7/10, f = 297.2979806732673\n",
      "Optimization restart 8/10, f = 16.30859834919923\n",
      "Optimization restart 9/10, f = 347.12112581587144\n",
      "Optimization restart 10/10, f = 73.33866344773772\n",
      "(4_w,9)-aCMA-ES (mu_w=2.8,w_1=49%) in dimension 6 (seed=447734, Tue Aug 25 18:41:30 2020)\n",
      "Iterat #Fevals   function value  axis ratio  sigma  min&max std  t[m:s]\n",
      "    1      9 -0.000000000000000e+00 1.0e+00 2.36e-01  2e-01  2e-01 0:00.4\n",
      "    2     18 -0.000000000000000e+00 1.2e+00 2.86e-01  3e-01  3e-01 0:00.9\n",
      "    3     27 -7.993770933932653e-02 1.5e+00 3.96e-01  4e-01  4e-01 0:01.3\n"
     ]
    },
    {
     "name": "stderr",
     "output_type": "stream",
     "text": [
      " /home/finley/miniconda3/envs/testsuite/lib/python3.8/site-packages/cma/utilities/utils.py:329: UserWarning:flat fitness (f=-0.000000, sigma=6.13e-01).\n",
      "                    For small sigma, this could indicate numerical convergence.\n",
      "                    Otherwise, please (re)consider how to compute the fitness more elaborately. (iteration=9)\n"
     ]
    },
    {
     "name": "stdout",
     "output_type": "stream",
     "text": [
      "   10     90 -2.427428424036737e-02 2.2e+00 6.01e-01  5e-01  8e-01 0:04.5\n",
      "   19    171 -5.903537939034553e-02 2.9e+00 4.73e-01  3e-01  6e-01 0:08.9\n",
      "   30    270 -9.396931143570386e-02 5.9e+00 3.57e-01  1e-01  5e-01 0:14.1\n",
      "   43    387 -1.073043239760660e-01 1.6e+01 2.36e-01  3e-02  4e-01 0:20.3\n",
      "   58    522 -1.115778220809203e-01 5.2e+01 1.55e-01  7e-03  3e-01 0:27.3\n",
      "   75    675 -1.118423520750569e-01 6.1e+01 2.92e-02  8e-04  4e-02 0:35.4\n",
      "   94    846 -1.118554158792384e-01 5.4e+01 5.80e-03  1e-04  5e-03 0:44.5\n",
      "  100    900 -1.118555461916269e-01 5.5e+01 2.98e-03  4e-05  2e-03 0:47.4\n",
      "  124   1116 -1.118555533875116e-01 8.2e+01 3.03e-04  2e-06  2e-04 0:58.9\n",
      "  148   1332 -1.118555534460182e-01 1.3e+02 4.13e-05  2e-07  2e-05 1:11.4\n",
      "  166   1494 -1.118555534462544e-01 1.8e+02 1.41e-05  4e-08  7e-06 1:21.1\n"
     ]
    },
    {
     "name": "stderr",
     "output_type": "stream",
     "text": [
      "reconstraining parameters GP_regression.Mat52.lengthscale\n",
      "reconstraining parameters GP_regression.Mat52.variance\n",
      "reconstraining parameters GP_regression.Gaussian_noise.variance\n"
     ]
    },
    {
     "name": "stdout",
     "output_type": "stream",
     "text": [
      "termination on tolfun=1e-11 (Tue Aug 25 18:42:51 2020)\n",
      "final/bestever f-value = -1.118556e-01 -1.118556e-01\n",
      "incumbent solution: [0.5733565940099961, 1.328536178118249, 5.999999999999972, 5.069377001580107, 2.9916046370925864, 8.621081775117728]\n",
      "std deviation: [3.761551161802822e-08, 2.0512941081333026e-07, 1.3703440612142096e-06, 1.891817848149279e-06, 4.005097722636428e-07, 7.216460289075888e-06]\n",
      "Optimization restart 1/10, f = 48.55138395486904\n",
      "Optimization restart 2/10, f = 93.93119643525898\n",
      "Optimization restart 3/10, f = 48.63903807053707\n",
      "Optimization restart 4/10, f = 327.10115442128017\n",
      "Optimization restart 5/10, f = 107.35271582007468\n",
      "Optimization restart 6/10, f = 286.09523344525513\n",
      "Optimization restart 7/10, f = 317.909579590538\n",
      "Optimization restart 8/10, f = 321.75213863385756\n"
     ]
    },
    {
     "name": "stderr",
     "output_type": "stream",
     "text": [
      "reconstraining parameters GP_regression.Mat52.lengthscale\n",
      "reconstraining parameters GP_regression.Mat52.variance\n",
      "reconstraining parameters GP_regression.Gaussian_noise.variance\n"
     ]
    },
    {
     "name": "stdout",
     "output_type": "stream",
     "text": [
      "Optimization restart 9/10, f = 305.0046985292163\n",
      "Optimization restart 10/10, f = 274.68301317758716\n",
      "Optimization restart 1/10, f = 19.385691935449735\n",
      "Optimization restart 2/10, f = 222255.95170987156\n",
      "Optimization restart 3/10, f = 306.26291312207763\n",
      "Optimization restart 4/10, f = 348.14876222979484\n",
      "Optimization restart 5/10, f = 83.85473518244063\n",
      "Optimization restart 6/10, f = 353.7965320815613\n",
      "Optimization restart 7/10, f = 62.40789044503181\n",
      "Optimization restart 8/10, f = 290.1420631824398\n",
      "Optimization restart 9/10, f = 353.7965320815613\n",
      "Optimization restart 10/10, f = 15.176773198201403\n",
      "(4_w,9)-aCMA-ES (mu_w=2.8,w_1=49%) in dimension 6 (seed=427055, Tue Aug 25 18:42:54 2020)\n",
      "Iterat #Fevals   function value  axis ratio  sigma  min&max std  t[m:s]\n",
      "    1      9 1.248022153582838e+00 1.0e+00 2.32e-01  2e-01  2e-01 0:00.3\n",
      "    2     18 -0.000000000000000e+00 1.2e+00 2.59e-01  2e-01  3e-01 0:00.7\n",
      "    3     27 -0.000000000000000e+00 1.3e+00 2.86e-01  2e-01  3e-01 0:01.2\n",
      "   10     90 -1.265599396340455e-02 2.6e+00 4.04e-01  3e-01  5e-01 0:04.4\n"
     ]
    },
    {
     "name": "stderr",
     "output_type": "stream",
     "text": [
      " /home/finley/miniconda3/envs/testsuite/lib/python3.8/site-packages/cma/utilities/utils.py:329: UserWarning:flat fitness (f=-0.000000, sigma=3.75e-01).\n",
      "                    For small sigma, this could indicate numerical convergence.\n",
      "                    Otherwise, please (re)consider how to compute the fitness more elaborately. (iteration=12)\n"
     ]
    },
    {
     "name": "stdout",
     "output_type": "stream",
     "text": [
      "   18    162 -1.929699698870646e-02 4.2e+00 2.23e-01  1e-01  3e-01 0:08.4\n",
      "   27    243 -1.911029945205023e-02 6.0e+00 1.14e-01  3e-02  1e-01 0:13.6\n",
      "   38    342 -2.304247441657736e-02 8.1e+00 1.49e-01  3e-02  2e-01 0:19.6\n",
      "   52    468 -4.118446503795603e-02 2.2e+01 4.00e-01  4e-02  8e-01 0:26.7\n",
      "   68    612 -8.955160214012192e-02 3.9e+01 6.05e-01  3e-02  9e-01 0:34.8\n",
      "   86    774 -1.036556304377809e-01 6.2e+01 6.59e-01  2e-02  1e+00 0:44.2\n",
      "  100    900 -1.081846928850294e-01 4.5e+01 3.34e-01  1e-02  4e-01 0:52.5\n",
      "  119   1071 -1.090013985485871e-01 3.0e+01 8.83e-02  2e-03  5e-02 1:03.6\n",
      "  142   1278 -1.091217576768750e-01 5.6e+01 1.44e-02  2e-04  8e-03 1:15.8\n",
      "  162   1458 -1.091221241526896e-01 6.5e+01 3.20e-03  3e-05  1e-03 1:29.0\n",
      "  190   1710 -1.091221281060575e-01 4.7e+01 2.13e-04  1e-06  4e-05 1:43.3\n",
      "  200   1800 -1.091221281157995e-01 5.0e+01 7.93e-05  3e-07  1e-05 1:48.2\n",
      "  222   1998 -1.091221281169990e-01 4.8e+01 1.15e-05  3e-08  1e-06 2:00.5\n"
     ]
    },
    {
     "name": "stderr",
     "output_type": "stream",
     "text": [
      "reconstraining parameters GP_regression.Mat52.lengthscale\n",
      "reconstraining parameters GP_regression.Mat52.variance\n",
      "reconstraining parameters GP_regression.Gaussian_noise.variance\n"
     ]
    },
    {
     "name": "stdout",
     "output_type": "stream",
     "text": [
      "termination on tolfun=1e-11 (Tue Aug 25 18:44:55 2020)\n",
      "final/bestever f-value = -1.091221e-01 -1.091221e-01\n",
      "incumbent solution: [0.3786138348755446, 4.719145502681575e-15, 7.836721923508381e-14, 7.999999999999986, 9.066353700105969, 1.145914389887842e-13]\n",
      "std deviation: [2.8477211834595475e-08, 7.55988892024094e-08, 3.7485771904851857e-07, 1.2043481822741805e-06, 5.60507516079464e-07, 1.980055006939758e-07]\n",
      "Optimization restart 1/10, f = 46.3260178523297\n",
      "Optimization restart 2/10, f = 349.0101316330778\n",
      "Optimization restart 3/10, f = 2614855.9636261533\n",
      "Optimization restart 4/10, f = 279.93083098804357\n",
      "Optimization restart 5/10, f = 105.53416675806598\n",
      "Optimization restart 6/10, f = 280.7646649176573\n",
      "Optimization restart 7/10, f = 76.62268079318474\n",
      "Optimization restart 8/10, f = 327.2466382589485\n",
      "Optimization restart 9/10, f = 303.4328079176002\n"
     ]
    },
    {
     "name": "stderr",
     "output_type": "stream",
     "text": [
      "reconstraining parameters GP_regression.Mat52.lengthscale\n",
      "reconstraining parameters GP_regression.Mat52.variance\n",
      "reconstraining parameters GP_regression.Gaussian_noise.variance\n"
     ]
    },
    {
     "name": "stdout",
     "output_type": "stream",
     "text": [
      "Optimization restart 10/10, f = 306.91967017770065\n",
      "Optimization restart 1/10, f = 15.239053445327581\n",
      "Optimization restart 2/10, f = 300.6918940358339\n",
      "Optimization restart 3/10, f = 116.0639454754165\n",
      "Optimization restart 4/10, f = 22.315209522129603\n",
      "Optimization restart 5/10, f = 52.430362204556275\n",
      "Optimization restart 6/10, f = 310.06322348723626\n",
      "Optimization restart 7/10, f = 13.779745952463895\n",
      "Optimization restart 8/10, f = 312.0976187418738\n",
      "Optimization restart 9/10, f = 360.47193834725107\n",
      "Optimization restart 10/10, f = 14.008885136236778\n",
      "(4_w,9)-aCMA-ES (mu_w=2.8,w_1=49%) in dimension 6 (seed=558515, Tue Aug 25 18:45:00 2020)\n",
      "Iterat #Fevals   function value  axis ratio  sigma  min&max std  t[m:s]\n",
      "    1      9 -0.000000000000000e+00 1.0e+00 2.47e-01  2e-01  3e-01 0:00.4\n",
      "    2     18 -0.000000000000000e+00 1.2e+00 2.18e-01  2e-01  2e-01 0:00.9\n",
      "    3     27 -0.000000000000000e+00 1.3e+00 2.15e-01  2e-01  2e-01 0:01.4\n",
      "    4     36 -0.000000000000000e+00 1.4e+00 1.91e-01  2e-01  2e-01 0:01.9\n"
     ]
    },
    {
     "name": "stderr",
     "output_type": "stream",
     "text": [
      "reconstraining parameters GP_regression.Mat52.lengthscale\n",
      "reconstraining parameters GP_regression.Mat52.variance\n",
      "reconstraining parameters GP_regression.Gaussian_noise.variance\n"
     ]
    },
    {
     "name": "stdout",
     "output_type": "stream",
     "text": [
      "termination on tolfun=1e-11 (Tue Aug 25 18:45:02 2020)\n",
      "final/bestever f-value = -0.000000e+00 -0.000000e+00\n",
      "incumbent solution: [0.017644144689114006, 2.464677913526356, 0.2443882616566019, 3.2499137193053276, 8.162731226894662, 1.0426982877274502]\n",
      "std deviation: [0.168961468102274, 0.18064543213344508, 0.19035210082286855, 0.1896770575780782, 0.18287888040807482, 0.20075067059031587]\n",
      "Optimization restart 1/10, f = 47.133842436435046\n",
      "Optimization restart 2/10, f = 306.03099823242775\n",
      "Optimization restart 3/10, f = 78.04161932625699\n",
      "Optimization restart 4/10, f = 105.02972355946102\n",
      "Optimization restart 5/10, f = 367.14734461294086\n",
      "Optimization restart 6/10, f = 330.85529917676274\n",
      "Optimization restart 7/10, f = 317.12408299596217\n",
      "Optimization restart 8/10, f = 64.15683720386424\n"
     ]
    },
    {
     "name": "stderr",
     "output_type": "stream",
     "text": [
      "reconstraining parameters GP_regression.Mat52.lengthscale\n",
      "reconstraining parameters GP_regression.Mat52.variance\n",
      "reconstraining parameters GP_regression.Gaussian_noise.variance\n"
     ]
    },
    {
     "name": "stdout",
     "output_type": "stream",
     "text": [
      "Optimization restart 9/10, f = 48.42737137441911\n",
      "Optimization restart 10/10, f = 332.3238687758191\n",
      "Optimization restart 1/10, f = 13.598657619612467\n",
      "Optimization restart 2/10, f = 97.49925515279469\n",
      "Optimization restart 3/10, f = 17.81953181829539\n",
      "Optimization restart 4/10, f = 316.0769693720101\n",
      "Optimization restart 5/10, f = 69.24305715756839\n",
      "Optimization restart 6/10, f = 324.7416757051471\n",
      "Optimization restart 7/10, f = 14.958987658224984\n",
      "Optimization restart 8/10, f = 22.580685713270107\n",
      "Optimization restart 9/10, f = 306.9062695795972\n",
      "Optimization restart 10/10, f = 66.02256198004261\n",
      "(4_w,9)-aCMA-ES (mu_w=2.8,w_1=49%) in dimension 6 (seed=474562, Tue Aug 25 18:45:06 2020)\n",
      "Iterat #Fevals   function value  axis ratio  sigma  min&max std  t[m:s]\n",
      "    1      9 1.286197241540533e+00 1.0e+00 2.31e-01  2e-01  2e-01 0:00.4\n",
      "    2     18 -0.000000000000000e+00 1.3e+00 2.21e-01  2e-01  2e-01 0:00.8\n",
      "    3     27 -0.000000000000000e+00 1.4e+00 2.29e-01  2e-01  2e-01 0:01.2\n"
     ]
    },
    {
     "name": "stderr",
     "output_type": "stream",
     "text": [
      " /home/finley/miniconda3/envs/testsuite/lib/python3.8/site-packages/cma/utilities/utils.py:329: UserWarning:flat fitness (f=-0.000000, sigma=3.00e-01).\n",
      "                    For small sigma, this could indicate numerical convergence.\n",
      "                    Otherwise, please (re)consider how to compute the fitness more elaborately. (iteration=5)\n",
      " /home/finley/miniconda3/envs/testsuite/lib/python3.8/site-packages/cma/utilities/utils.py:329: UserWarning:flat fitness (f=-0.000000, sigma=2.53e-01).\n",
      "                    For small sigma, this could indicate numerical convergence.\n",
      "                    Otherwise, please (re)consider how to compute the fitness more elaborately. (iteration=6)\n",
      " /home/finley/miniconda3/envs/testsuite/lib/python3.8/site-packages/cma/utilities/utils.py:329: UserWarning:flat fitness (f=-0.000000, sigma=2.23e-01).\n",
      "                    For small sigma, this could indicate numerical convergence.\n",
      "                    Otherwise, please (re)consider how to compute the fitness more elaborately. (iteration=8)\n",
      " /home/finley/miniconda3/envs/testsuite/lib/python3.8/site-packages/cma/utilities/utils.py:329: UserWarning:flat fitness (f=-0.000000, sigma=2.27e-01).\n",
      "                    For small sigma, this could indicate numerical convergence.\n",
      "                    Otherwise, please (re)consider how to compute the fitness more elaborately. (iteration=9)\n"
     ]
    },
    {
     "name": "stdout",
     "output_type": "stream",
     "text": [
      "   10     90 -0.000000000000000e+00 2.0e+00 2.26e-01  2e-01  2e-01 0:04.7\n"
     ]
    },
    {
     "name": "stderr",
     "output_type": "stream",
     "text": [
      " /home/finley/miniconda3/envs/testsuite/lib/python3.8/site-packages/cma/utilities/utils.py:329: UserWarning:flat fitness (f=-0.000000, sigma=2.26e-01).\n",
      "                    For small sigma, this could indicate numerical convergence.\n",
      "                    Otherwise, please (re)consider how to compute the fitness more elaborately. (iteration=10)\n",
      " /home/finley/miniconda3/envs/testsuite/lib/python3.8/site-packages/cma/utilities/utils.py:329: UserWarning:flat fitness (f=-0.000000, sigma=2.17e-01).\n",
      "                    For small sigma, this could indicate numerical convergence.\n",
      "                    Otherwise, please (re)consider how to compute the fitness more elaborately. (iteration=11)\n",
      " /home/finley/miniconda3/envs/testsuite/lib/python3.8/site-packages/cma/utilities/utils.py:329: UserWarning:flat fitness (f=-0.000000, sigma=1.84e-01).\n",
      "                    For small sigma, this could indicate numerical convergence.\n",
      "                    Otherwise, please (re)consider how to compute the fitness more elaborately. (iteration=13)\n",
      " /home/finley/miniconda3/envs/testsuite/lib/python3.8/site-packages/cma/utilities/utils.py:329: UserWarning:flat fitness (f=-0.000000, sigma=1.72e-01).\n",
      "                    For small sigma, this could indicate numerical convergence.\n",
      "                    Otherwise, please (re)consider how to compute the fitness more elaborately. (iteration=14)\n",
      " /home/finley/miniconda3/envs/testsuite/lib/python3.8/site-packages/cma/utilities/utils.py:329: UserWarning:flat fitness (f=-0.000000, sigma=1.56e-01).\n",
      "                    For small sigma, this could indicate numerical convergence.\n",
      "                    Otherwise, please (re)consider how to compute the fitness more elaborately. (iteration=15)\n",
      " /home/finley/miniconda3/envs/testsuite/lib/python3.8/site-packages/cma/utilities/utils.py:329: UserWarning:flat fitness (f=-0.000000, sigma=1.52e-01).\n",
      "                    For small sigma, this could indicate numerical convergence.\n",
      "                    Otherwise, please (re)consider how to compute the fitness more elaborately. (iteration=16)\n",
      " /home/finley/miniconda3/envs/testsuite/lib/python3.8/site-packages/cma/utilities/utils.py:329: UserWarning:flat fitness (f=-0.000000, sigma=1.31e-01).\n",
      "                    For small sigma, this could indicate numerical convergence.\n",
      "                    Otherwise, please (re)consider how to compute the fitness more elaborately. (iteration=17)\n"
     ]
    },
    {
     "name": "stdout",
     "output_type": "stream",
     "text": [
      "   18    162 -0.000000000000000e+00 2.0e+00 1.20e-01  1e-01  1e-01 0:09.2\n"
     ]
    },
    {
     "name": "stderr",
     "output_type": "stream",
     "text": [
      " /home/finley/miniconda3/envs/testsuite/lib/python3.8/site-packages/cma/utilities/utils.py:329: UserWarning:flat fitness (f=-0.000000, sigma=1.20e-01).\n",
      "                    For small sigma, this could indicate numerical convergence.\n",
      "                    Otherwise, please (re)consider how to compute the fitness more elaborately. (iteration=18)\n",
      " /home/finley/miniconda3/envs/testsuite/lib/python3.8/site-packages/cma/utilities/utils.py:329: UserWarning:flat fitness (f=-0.000000, sigma=1.09e-01).\n",
      "                    For small sigma, this could indicate numerical convergence.\n",
      "                    Otherwise, please (re)consider how to compute the fitness more elaborately. (iteration=19)\n",
      " /home/finley/miniconda3/envs/testsuite/lib/python3.8/site-packages/cma/utilities/utils.py:329: UserWarning:flat fitness (f=-0.000000, sigma=1.05e-01).\n",
      "                    For small sigma, this could indicate numerical convergence.\n",
      "                    Otherwise, please (re)consider how to compute the fitness more elaborately. (iteration=20)\n",
      " /home/finley/miniconda3/envs/testsuite/lib/python3.8/site-packages/cma/utilities/utils.py:329: UserWarning:flat fitness (f=-0.000000, sigma=1.14e-01).\n",
      "                    For small sigma, this could indicate numerical convergence.\n",
      "                    Otherwise, please (re)consider how to compute the fitness more elaborately. (iteration=21)\n",
      " /home/finley/miniconda3/envs/testsuite/lib/python3.8/site-packages/cma/utilities/utils.py:329: UserWarning:flat fitness (f=-0.000000, sigma=1.13e-01).\n",
      "                    For small sigma, this could indicate numerical convergence.\n",
      "                    Otherwise, please (re)consider how to compute the fitness more elaborately. (iteration=22)\n",
      " /home/finley/miniconda3/envs/testsuite/lib/python3.8/site-packages/cma/utilities/utils.py:329: UserWarning:flat fitness (f=-0.000000, sigma=9.70e-02).\n",
      "                    For small sigma, this could indicate numerical convergence.\n",
      "                    Otherwise, please (re)consider how to compute the fitness more elaborately. (iteration=23)\n",
      " /home/finley/miniconda3/envs/testsuite/lib/python3.8/site-packages/cma/utilities/utils.py:329: UserWarning:flat fitness (f=-0.000000, sigma=8.50e-02).\n",
      "                    For small sigma, this could indicate numerical convergence.\n",
      "                    Otherwise, please (re)consider how to compute the fitness more elaborately. (iteration=24)\n",
      " /home/finley/miniconda3/envs/testsuite/lib/python3.8/site-packages/cma/utilities/utils.py:329: UserWarning:flat fitness (f=-0.000000, sigma=8.28e-02).\n",
      "                    For small sigma, this could indicate numerical convergence.\n",
      "                    Otherwise, please (re)consider how to compute the fitness more elaborately. (iteration=25)\n"
     ]
    },
    {
     "name": "stdout",
     "output_type": "stream",
     "text": [
      "   26    234 -0.000000000000000e+00 3.0e+00 8.60e-02  7e-02  9e-02 0:14.3\n"
     ]
    },
    {
     "name": "stderr",
     "output_type": "stream",
     "text": [
      " /home/finley/miniconda3/envs/testsuite/lib/python3.8/site-packages/cma/utilities/utils.py:329: UserWarning:flat fitness (f=-0.000000, sigma=8.60e-02).\n",
      "                    For small sigma, this could indicate numerical convergence.\n",
      "                    Otherwise, please (re)consider how to compute the fitness more elaborately. (iteration=26)\n",
      " /home/finley/miniconda3/envs/testsuite/lib/python3.8/site-packages/cma/utilities/utils.py:329: UserWarning:flat fitness (f=-0.000000, sigma=8.28e-02).\n",
      "                    For small sigma, this could indicate numerical convergence.\n",
      "                    Otherwise, please (re)consider how to compute the fitness more elaborately. (iteration=27)\n",
      " /home/finley/miniconda3/envs/testsuite/lib/python3.8/site-packages/cma/utilities/utils.py:329: UserWarning:flat fitness (f=-0.000000, sigma=8.76e-02).\n",
      "                    For small sigma, this could indicate numerical convergence.\n",
      "                    Otherwise, please (re)consider how to compute the fitness more elaborately. (iteration=28)\n",
      " /home/finley/miniconda3/envs/testsuite/lib/python3.8/site-packages/cma/utilities/utils.py:329: UserWarning:flat fitness (f=-0.000000, sigma=9.76e-02).\n",
      "                    For small sigma, this could indicate numerical convergence.\n",
      "                    Otherwise, please (re)consider how to compute the fitness more elaborately. (iteration=29)\n",
      " /home/finley/miniconda3/envs/testsuite/lib/python3.8/site-packages/cma/utilities/utils.py:329: UserWarning:flat fitness (f=-0.000000, sigma=1.10e-01).\n",
      "                    For small sigma, this could indicate numerical convergence.\n",
      "                    Otherwise, please (re)consider how to compute the fitness more elaborately. (iteration=30)\n"
     ]
    },
    {
     "name": "stdout",
     "output_type": "stream",
     "text": [
      "   31    279 -0.000000000000000e+00 3.8e+00 1.13e-01  8e-02  1e-01 0:17.7\n"
     ]
    },
    {
     "name": "stderr",
     "output_type": "stream",
     "text": [
      " /home/finley/miniconda3/envs/testsuite/lib/python3.8/site-packages/cma/utilities/utils.py:329: UserWarning:flat fitness (f=-0.000000, sigma=1.13e-01).\n",
      "                    For small sigma, this could indicate numerical convergence.\n",
      "                    Otherwise, please (re)consider how to compute the fitness more elaborately. (iteration=31)\n",
      "reconstraining parameters GP_regression.Mat52.lengthscale\n",
      "reconstraining parameters GP_regression.Mat52.variance\n",
      "reconstraining parameters GP_regression.Gaussian_noise.variance\n"
     ]
    },
    {
     "name": "stdout",
     "output_type": "stream",
     "text": [
      "termination on tolfun=1e-11 (Tue Aug 25 18:45:24 2020)\n",
      "termination on tolfunhist=1e-12 (Tue Aug 25 18:45:24 2020)\n",
      "termination on flat fitness=please (re)consider how to compute the fitness more elaborately if sigma=1.13e-01 is large (Tue Aug 25 18:45:24 2020)\n",
      "final/bestever f-value = -0.000000e+00 -0.000000e+00\n",
      "incumbent solution: [1.4229322478646431, 3.9523996302876667, 3.634337196447197, 2.6948254456476906, 1.4974177115019311, 11.619905426213265]\n",
      "std deviation: [0.0907119546401693, 0.09526297859420137, 0.09391026562755116, 0.08453354739635413, 0.10136758008485476, 0.1283725069230607]\n",
      "Optimization restart 1/10, f = 48.33306762493331\n",
      "Optimization restart 2/10, f = 57.747850831619886\n",
      "Optimization restart 3/10, f = 79.46055785946184\n",
      "Optimization restart 4/10, f = 323.46732878606116\n",
      "Optimization restart 5/10, f = 48.333067421739756\n",
      "Optimization restart 6/10, f = 1461383836.1148486\n",
      "Optimization restart 7/10, f = 373.8227508786308\n",
      "Optimization restart 8/10, f = 52.36281459356162\n",
      "Optimization restart 9/10, f = 1920.5796498723284\n"
     ]
    },
    {
     "name": "stderr",
     "output_type": "stream",
     "text": [
      "reconstraining parameters GP_regression.Mat52.lengthscale\n",
      "reconstraining parameters GP_regression.Mat52.variance\n",
      "reconstraining parameters GP_regression.Gaussian_noise.variance\n"
     ]
    },
    {
     "name": "stdout",
     "output_type": "stream",
     "text": [
      "Optimization restart 10/10, f = 149.45380474352743\n",
      "Optimization restart 1/10, f = 14.071187265713984\n",
      "Optimization restart 2/10, f = 69.62458035080245\n",
      "Optimization restart 3/10, f = 320.1825142156494\n",
      "Optimization restart 4/10, f = 373.8227508786308\n",
      "Optimization restart 5/10, f = 68.20118297574811\n",
      "Optimization restart 6/10, f = 296.65782167935333\n",
      "Optimization restart 7/10, f = 1642389489.3026984\n",
      "Optimization restart 8/10, f = 281.7301067509559\n",
      "Optimization restart 9/10, f = 373.8227508786308\n",
      "Optimization restart 10/10, f = 357.59463531675766\n",
      "(4_w,9)-aCMA-ES (mu_w=2.8,w_1=49%) in dimension 6 (seed=533744, Tue Aug 25 18:45:28 2020)\n",
      "Iterat #Fevals   function value  axis ratio  sigma  min&max std  t[m:s]\n",
      "    1      9 -0.000000000000000e+00 1.0e+00 2.87e-01  3e-01  3e-01 0:00.5\n",
      "    2     18 -2.131432226327812e-02 1.2e+00 3.26e-01  3e-01  4e-01 0:01.0\n",
      "    3     27 -1.814425050528534e-03 1.3e+00 3.15e-01  3e-01  3e-01 0:01.6\n",
      "    9     81 -2.769212878814598e-02 2.0e+00 2.15e-01  2e-01  2e-01 0:04.7\n",
      "   17    153 -3.245211171990947e-02 2.9e+00 1.83e-01  9e-02  2e-01 0:09.0\n",
      "   27    243 -4.338746532241267e-02 8.6e+00 3.10e-01  7e-02  6e-01 0:14.3\n",
      "   39    351 -4.688141446945737e-02 1.5e+01 2.41e-01  3e-02  4e-01 0:20.8\n",
      "   52    468 -4.834732953746901e-02 3.3e+01 1.20e-01  6e-03  2e-01 0:27.8\n",
      "   66    594 -4.857404385114794e-02 4.3e+01 6.76e-02  2e-03  6e-02 0:35.9\n",
      "   83    747 -4.919573901692775e-02 1.0e+02 2.14e-01  4e-03  3e-01 0:45.5\n",
      "   96    864 -4.943863731157583e-02 1.4e+02 3.08e-01  4e-03  5e-01 0:55.5\n",
      "  100    900 -4.949860493124048e-02 1.4e+02 3.03e-01  3e-03  4e-01 0:58.0\n",
      "  121   1089 -4.957313640087335e-02 2.1e+02 1.02e-01  6e-04  1e-01 1:10.4\n",
      "  141   1269 -4.957708870161781e-02 3.5e+02 2.33e-02  8e-05  3e-02 1:24.0\n",
      "  161   1449 -4.957711995382619e-02 5.1e+02 7.87e-03  2e-05  1e-02 1:38.4\n",
      "  176   1584 -4.957712111133761e-02 8.2e+02 2.27e-03  4e-06  3e-03 1:53.9\n",
      "  190   1710 -4.957712127656189e-02 1.7e+03 8.22e-04  1e-06  2e-03 2:10.5\n",
      "  200   1800 -4.957712128114933e-02 1.9e+03 4.04e-04  4e-07  7e-04 2:22.5\n",
      "  214   1926 -4.957712128203751e-02 4.6e+03 1.65e-04  9e-08  4e-04 2:41.5\n",
      "  217   1953 -4.957712128202241e-02 5.0e+03 1.17e-04  5e-08  3e-04 2:44.5\n"
     ]
    },
    {
     "name": "stderr",
     "output_type": "stream",
     "text": [
      "reconstraining parameters GP_regression.Mat52.lengthscale\n",
      "reconstraining parameters GP_regression.Mat52.variance\n"
     ]
    },
    {
     "name": "stdout",
     "output_type": "stream",
     "text": [
      "termination on tolfun=1e-11 (Tue Aug 25 18:48:13 2020)\n",
      "final/bestever f-value = -4.957712e-02 -4.957712e-02\n",
      "incumbent solution: [1.138869476261843, 1.4664255353787536e-17, 0.3471864660530354, 1.5357622346597057, 4.177103339490726, 4.31737783431271e-12]\n",
      "std deviation: [5.493018065557958e-08, 2.7902546338137683e-07, 0.0002642061286922348, 5.897144969832193e-06, 2.1469807150219233e-06, 4.319353897446441e-06]\n"
     ]
    },
    {
     "name": "stderr",
     "output_type": "stream",
     "text": [
      "reconstraining parameters GP_regression.Gaussian_noise.variance\n"
     ]
    },
    {
     "name": "stdout",
     "output_type": "stream",
     "text": [
      "Optimization restart 1/10, f = 51.539634368242616\n",
      "Optimization restart 2/10, f = 331.9159224305159\n",
      "Optimization restart 3/10, f = 380.49815714432066\n",
      "Optimization restart 4/10, f = 55.41146502515755\n",
      "Optimization restart 5/10, f = 319.8306280567744\n",
      "Optimization restart 6/10, f = 390.3430720357948\n",
      "Optimization restart 7/10, f = 1515779272.0462127\n",
      "Optimization restart 8/10, f = 80.87949639266667\n",
      "Optimization restart 9/10, f = 128.39477028585833\n"
     ]
    },
    {
     "name": "stderr",
     "output_type": "stream",
     "text": [
      "reconstraining parameters GP_regression.Mat52.lengthscale\n",
      "reconstraining parameters GP_regression.Mat52.variance\n",
      "reconstraining parameters GP_regression.Gaussian_noise.variance\n"
     ]
    },
    {
     "name": "stdout",
     "output_type": "stream",
     "text": [
      "Optimization restart 10/10, f = 108.02676209180144\n",
      "Optimization restart 1/10, f = 16.444255995278397\n",
      "Optimization restart 2/10, f = 316.27460603450993\n",
      "Optimization restart 3/10, f = 25.91569013716441\n",
      "Optimization restart 4/10, f = 25.645722773926753\n",
      "Optimization restart 5/10, f = 19.020222862615206\n",
      "Optimization restart 6/10, f = 380.49815714432066\n",
      "Optimization restart 7/10, f = 16.615966281046344\n",
      "Optimization restart 8/10, f = 329.26939397558584\n",
      "Optimization restart 9/10, f = 78.39043753827697\n",
      "Optimization restart 10/10, f = 311.2744323915572\n",
      "(4_w,9)-aCMA-ES (mu_w=2.8,w_1=49%) in dimension 6 (seed=488110, Tue Aug 25 18:48:23 2020)\n",
      "Iterat #Fevals   function value  axis ratio  sigma  min&max std  t[m:s]\n",
      "    1      9 -0.000000000000000e+00 1.0e+00 2.42e-01  2e-01  3e-01 0:00.8\n",
      "    2     18 -0.000000000000000e+00 1.3e+00 2.78e-01  2e-01  3e-01 0:01.9\n",
      "    3     27 -0.000000000000000e+00 1.6e+00 3.10e-01  3e-01  4e-01 0:03.0\n",
      "    6     54 -0.000000000000000e+00 1.8e+00 3.17e-01  3e-01  4e-01 0:06.0\n"
     ]
    },
    {
     "name": "stderr",
     "output_type": "stream",
     "text": [
      " /home/finley/miniconda3/envs/testsuite/lib/python3.8/site-packages/cma/utilities/utils.py:329: UserWarning:flat fitness (f=-0.000000, sigma=3.69e-01).\n",
      "                    For small sigma, this could indicate numerical convergence.\n",
      "                    Otherwise, please (re)consider how to compute the fitness more elaborately. (iteration=10)\n"
     ]
    },
    {
     "name": "stdout",
     "output_type": "stream",
     "text": [
      "   11     99 -0.000000000000000e+00 2.3e+00 3.10e-01  2e-01  4e-01 0:10.6\n"
     ]
    },
    {
     "name": "stderr",
     "output_type": "stream",
     "text": [
      " /home/finley/miniconda3/envs/testsuite/lib/python3.8/site-packages/cma/utilities/utils.py:329: UserWarning:flat fitness (f=-0.000000, sigma=2.53e-01).\n",
      "                    For small sigma, this could indicate numerical convergence.\n",
      "                    Otherwise, please (re)consider how to compute the fitness more elaborately. (iteration=14)\n",
      " /home/finley/miniconda3/envs/testsuite/lib/python3.8/site-packages/cma/utilities/utils.py:329: UserWarning:flat fitness (f=-0.000000, sigma=2.31e-01).\n",
      "                    For small sigma, this could indicate numerical convergence.\n",
      "                    Otherwise, please (re)consider how to compute the fitness more elaborately. (iteration=15)\n"
     ]
    },
    {
     "name": "stdout",
     "output_type": "stream",
     "text": [
      "   16    144 -0.000000000000000e+00 2.1e+00 2.06e-01  1e-01  2e-01 0:16.5\n"
     ]
    },
    {
     "name": "stderr",
     "output_type": "stream",
     "text": [
      " /home/finley/miniconda3/envs/testsuite/lib/python3.8/site-packages/cma/utilities/utils.py:329: UserWarning:flat fitness (f=-0.000000, sigma=1.82e-01).\n",
      "                    For small sigma, this could indicate numerical convergence.\n",
      "                    Otherwise, please (re)consider how to compute the fitness more elaborately. (iteration=17)\n",
      " /home/finley/miniconda3/envs/testsuite/lib/python3.8/site-packages/cma/utilities/utils.py:329: UserWarning:flat fitness (f=-0.000000, sigma=1.56e-01).\n",
      "                    For small sigma, this could indicate numerical convergence.\n",
      "                    Otherwise, please (re)consider how to compute the fitness more elaborately. (iteration=18)\n",
      " /home/finley/miniconda3/envs/testsuite/lib/python3.8/site-packages/cma/utilities/utils.py:329: UserWarning:flat fitness (f=-0.000000, sigma=1.60e-01).\n",
      "                    For small sigma, this could indicate numerical convergence.\n",
      "                    Otherwise, please (re)consider how to compute the fitness more elaborately. (iteration=19)\n",
      " /home/finley/miniconda3/envs/testsuite/lib/python3.8/site-packages/cma/utilities/utils.py:329: UserWarning:flat fitness (f=-0.000000, sigma=1.68e-01).\n",
      "                    For small sigma, this could indicate numerical convergence.\n",
      "                    Otherwise, please (re)consider how to compute the fitness more elaborately. (iteration=20)\n",
      " /home/finley/miniconda3/envs/testsuite/lib/python3.8/site-packages/cma/utilities/utils.py:329: UserWarning:flat fitness (f=-0.000000, sigma=1.81e-01).\n",
      "                    For small sigma, this could indicate numerical convergence.\n",
      "                    Otherwise, please (re)consider how to compute the fitness more elaborately. (iteration=21)\n",
      " /home/finley/miniconda3/envs/testsuite/lib/python3.8/site-packages/cma/utilities/utils.py:329: UserWarning:flat fitness (f=-0.000000, sigma=1.81e-01).\n",
      "                    For small sigma, this could indicate numerical convergence.\n",
      "                    Otherwise, please (re)consider how to compute the fitness more elaborately. (iteration=22)\n"
     ]
    },
    {
     "name": "stdout",
     "output_type": "stream",
     "text": [
      "   23    207 -0.000000000000000e+00 2.8e+00 1.83e-01  1e-01  2e-01 0:23.3\n"
     ]
    },
    {
     "name": "stderr",
     "output_type": "stream",
     "text": [
      " /home/finley/miniconda3/envs/testsuite/lib/python3.8/site-packages/cma/utilities/utils.py:329: UserWarning:flat fitness (f=-0.000000, sigma=1.83e-01).\n",
      "                    For small sigma, this could indicate numerical convergence.\n",
      "                    Otherwise, please (re)consider how to compute the fitness more elaborately. (iteration=23)\n",
      " /home/finley/miniconda3/envs/testsuite/lib/python3.8/site-packages/cma/utilities/utils.py:329: UserWarning:flat fitness (f=-0.000000, sigma=2.08e-01).\n",
      "                    For small sigma, this could indicate numerical convergence.\n",
      "                    Otherwise, please (re)consider how to compute the fitness more elaborately. (iteration=24)\n",
      " /home/finley/miniconda3/envs/testsuite/lib/python3.8/site-packages/cma/utilities/utils.py:329: UserWarning:flat fitness (f=-0.000000, sigma=2.64e-01).\n",
      "                    For small sigma, this could indicate numerical convergence.\n",
      "                    Otherwise, please (re)consider how to compute the fitness more elaborately. (iteration=25)\n"
     ]
    },
    {
     "name": "stdout",
     "output_type": "stream",
     "text": [
      "   34    306 -5.785724149260485e-03 3.2e+00 1.75e-01  7e-02  2e-01 0:30.7\n",
      "   48    432 -6.753730071397790e-03 6.0e+00 1.56e-01  3e-02  2e-01 0:39.0\n",
      "   64    576 -7.154587501870147e-03 2.0e+01 6.39e-02  5e-03  7e-02 0:48.4\n",
      "   78    702 -7.433364436349787e-03 4.8e+01 1.21e-01  5e-03  1e-01 0:58.6\n",
      "   95    855 -7.674408078941486e-03 1.2e+02 1.07e-01  2e-03  2e-01 1:09.9\n",
      "  100    900 -7.677596390628150e-03 1.2e+02 1.11e-01  2e-03  1e-01 1:13.0\n",
      "  119   1071 -7.746778355846917e-03 2.3e+02 1.26e-01  1e-03  2e-01 1:26.7\n",
      "  144   1296 -8.162606596437083e-03 3.5e+02 3.81e-01  2e-03  5e-01 1:40.8\n",
      "  171   1539 -8.183766537830817e-03 2.6e+02 4.61e-02  1e-04  3e-02 1:56.3\n",
      "  200   1800 -8.183835176506893e-03 6.2e+02 4.57e-03  7e-06  4e-03 2:12.8\n",
      "  230   2070 -8.183835271795559e-03 1.5e+03 3.52e-04  2e-07  3e-04 2:30.0\n",
      "  247   2223 -8.183835272165485e-03 2.5e+03 8.62e-05  3e-08  7e-05 2:40.2\n"
     ]
    },
    {
     "name": "stderr",
     "output_type": "stream",
     "text": [
      "reconstraining parameters GP_regression.Mat52.lengthscale\n",
      "reconstraining parameters GP_regression.Mat52.variance\n",
      "reconstraining parameters GP_regression.Gaussian_noise.variance\n"
     ]
    },
    {
     "name": "stdout",
     "output_type": "stream",
     "text": [
      "termination on tolfun=1e-11 (Tue Aug 25 18:51:04 2020)\n",
      "final/bestever f-value = -8.183835e-03 -8.183835e-03\n",
      "incumbent solution: [1.7426501587572947, 2.240920360538442, 4.35572996239625, 3.684008079363642, 3.0582924100312856, 2.243060648146413e-11]\n",
      "std deviation: [3.2044705798661875e-08, 2.3665602394656144e-07, 7.270151419667526e-05, 5.465100310929076e-06, 1.3417902463862184e-06, 3.603651743459679e-06]\n",
      "Optimization restart 1/10, f = 53.99942922254466\n",
      "Optimization restart 2/10, f = 387.17356341001044\n",
      "Optimization restart 3/10, f = 373.20977005058455\n",
      "Optimization restart 4/10, f = 123.5041024590611\n",
      "Optimization restart 5/10, f = 1530328199.4581766\n",
      "Optimization restart 6/10, f = 180.71570099687528\n",
      "Optimization restart 7/10, f = 376.4199842063153\n",
      "Optimization restart 8/10, f = 56.09414159862854\n"
     ]
    },
    {
     "name": "stderr",
     "output_type": "stream",
     "text": [
      "reconstraining parameters GP_regression.Mat52.lengthscale\n",
      "reconstraining parameters GP_regression.Mat52.variance\n",
      "reconstraining parameters GP_regression.Gaussian_noise.variance\n"
     ]
    },
    {
     "name": "stdout",
     "output_type": "stream",
     "text": [
      "Optimization restart 9/10, f = 77.64842222635146\n",
      "Optimization restart 10/10, f = 123.36302186266127\n",
      "Optimization restart 1/10, f = 17.492681761862578\n",
      "Optimization restart 2/10, f = 72.87845610105148\n",
      "Optimization restart 3/10, f = 307.01764929983597\n",
      "Optimization restart 4/10, f = 54.558643712969854\n",
      "Optimization restart 5/10, f = 17.620209766117075\n",
      "Optimization restart 6/10, f = 311.355420587291\n",
      "Optimization restart 7/10, f = 65.43180582620496\n",
      "Optimization restart 8/10, f = 82.29843523934377\n",
      "Optimization restart 9/10, f = 337.88620802772033\n",
      "Optimization restart 10/10, f = 82.29843492587138\n",
      "(4_w,9)-aCMA-ES (mu_w=2.8,w_1=49%) in dimension 6 (seed=455577, Tue Aug 25 18:51:07 2020)\n",
      "Iterat #Fevals   function value  axis ratio  sigma  min&max std  t[m:s]\n",
      "    1      9 -0.000000000000000e+00 1.0e+00 2.43e-01  2e-01  2e-01 0:00.5\n",
      "    2     18 -0.000000000000000e+00 1.3e+00 2.12e-01  2e-01  2e-01 0:00.9\n",
      "    3     27 -0.000000000000000e+00 1.4e+00 2.19e-01  2e-01  2e-01 0:01.5\n",
      "   10     90 -0.000000000000000e+00 2.0e+00 2.52e-01  2e-01  3e-01 0:05.0\n"
     ]
    },
    {
     "name": "stderr",
     "output_type": "stream",
     "text": [
      "reconstraining parameters GP_regression.Mat52.lengthscale\n",
      "reconstraining parameters GP_regression.Mat52.variance\n",
      "reconstraining parameters GP_regression.Gaussian_noise.variance\n"
     ]
    },
    {
     "name": "stdout",
     "output_type": "stream",
     "text": [
      "termination on tolfunhist=1e-12 (Tue Aug 25 18:51:12 2020)\n",
      "final/bestever f-value = -0.000000e+00 -0.000000e+00\n",
      "incumbent solution: [0.1597895872901181, 3.925077932638497, 5.868897290510395, 1.6565077779075552, 3.8648602874007985, 2.039185671335862]\n",
      "std deviation: [0.17114946510227197, 0.20669564738768406, 0.2928360978952628, 0.24105908125312805, 0.24677874766569416, 0.21523131124046838]\n",
      "Optimization restart 1/10, f = 54.422310021809864\n",
      "Optimization restart 2/10, f = 390.0329265252341\n",
      "Optimization restart 3/10, f = 55.98320540069708\n",
      "Optimization restart 4/10, f = 286.99257056272546\n",
      "Optimization restart 5/10, f = 107.41715723601708\n",
      "Optimization restart 6/10, f = 58.72555225729681\n",
      "Optimization restart 7/10, f = 1566592820.4858627\n",
      "Optimization restart 8/10, f = 392.134845757192\n"
     ]
    },
    {
     "name": "stderr",
     "output_type": "stream",
     "text": [
      "reconstraining parameters GP_regression.Mat52.lengthscale\n",
      "reconstraining parameters GP_regression.Mat52.variance\n",
      "reconstraining parameters GP_regression.Gaussian_noise.variance\n"
     ]
    },
    {
     "name": "stdout",
     "output_type": "stream",
     "text": [
      "Optimization restart 9/10, f = 350.22786528920744\n",
      "Optimization restart 10/10, f = 25064.433020951084\n",
      "Optimization restart 1/10, f = 16.416806139181755\n",
      "Optimization restart 2/10, f = 385.66913033530216\n",
      "Optimization restart 3/10, f = 393.8489696757003\n",
      "Optimization restart 4/10, f = 16.34155584543895\n",
      "Optimization restart 5/10, f = 214.13522850923354\n",
      "Optimization restart 6/10, f = 393.8489696757003\n",
      "Optimization restart 7/10, f = 331.3327856001913\n",
      "Optimization restart 8/10, f = 350.651226237738\n",
      "Optimization restart 9/10, f = 340.09651967999474\n",
      "Optimization restart 10/10, f = 16.416806055397018\n",
      "(4_w,9)-aCMA-ES (mu_w=2.8,w_1=49%) in dimension 6 (seed=431871, Tue Aug 25 18:51:17 2020)\n",
      "Iterat #Fevals   function value  axis ratio  sigma  min&max std  t[m:s]\n",
      "    1      9 -0.000000000000000e+00 1.0e+00 2.35e-01  2e-01  2e-01 0:00.6\n",
      "    2     18 -0.000000000000000e+00 1.3e+00 2.14e-01  2e-01  2e-01 0:01.8\n",
      "    3     27 -0.000000000000000e+00 1.5e+00 2.13e-01  2e-01  2e-01 0:02.4\n",
      "   10     90 -0.000000000000000e+00 3.0e+00 1.74e-01  8e-02  2e-01 0:05.7\n"
     ]
    },
    {
     "name": "stderr",
     "output_type": "stream",
     "text": [
      "reconstraining parameters GP_regression.Mat52.lengthscale\n",
      "reconstraining parameters GP_regression.Mat52.variance\n",
      "reconstraining parameters GP_regression.Gaussian_noise.variance\n"
     ]
    },
    {
     "name": "stdout",
     "output_type": "stream",
     "text": [
      "termination on tolfunhist=1e-12 (Tue Aug 25 18:51:23 2020)\n",
      "final/bestever f-value = -0.000000e+00 -0.000000e+00\n",
      "incumbent solution: [0.9922939808015421, 3.253299827867265, 1.2838498487891632, 7.192510042045399, 2.202831370284926, 1.7164316573479472]\n",
      "std deviation: [0.08190318685772698, 0.13659137172011337, 0.18511133302317567, 0.18450589754226546, 0.15983238633055838, 0.196769343704266]\n",
      "Optimization restart 1/10, f = 55.46117112614708\n",
      "Optimization restart 2/10, f = 1600718478.2298276\n",
      "Optimization restart 3/10, f = 84.29123000343195\n",
      "Optimization restart 4/10, f = 324.1524302224958\n",
      "Optimization restart 5/10, f = 336.05385714116966\n",
      "Optimization restart 6/10, f = 110.22353701245703\n",
      "Optimization restart 7/10, f = 134.49834025513974\n",
      "Optimization restart 8/10, f = 304.38003390832563\n"
     ]
    },
    {
     "name": "stderr",
     "output_type": "stream",
     "text": [
      "reconstraining parameters GP_regression.Mat52.lengthscale\n",
      "reconstraining parameters GP_regression.Mat52.variance\n",
      "reconstraining parameters GP_regression.Gaussian_noise.variance\n"
     ]
    },
    {
     "name": "stdout",
     "output_type": "stream",
     "text": [
      "Optimization restart 9/10, f = 349.18033065811323\n",
      "Optimization restart 10/10, f = 71.60992198802543\n",
      "Optimization restart 1/10, f = 16.97053231563884\n",
      "Optimization restart 2/10, f = 316.6432958927752\n",
      "Optimization restart 3/10, f = 400.5243759413901\n",
      "Optimization restart 4/10, f = 1791408958.313141\n",
      "Optimization restart 5/10, f = 72.54662399234587\n",
      "Optimization restart 6/10, f = 369.1614990447284\n",
      "Optimization restart 7/10, f = 223.32779002686553\n",
      "Optimization restart 8/10, f = 16.715131818109327\n",
      "Optimization restart 9/10, f = 387.97377040200115\n",
      "Optimization restart 10/10, f = 353.8896002715568\n",
      "(4_w,9)-aCMA-ES (mu_w=2.8,w_1=49%) in dimension 6 (seed=464856, Tue Aug 25 18:51:26 2020)\n",
      "Iterat #Fevals   function value  axis ratio  sigma  min&max std  t[m:s]\n",
      "    1      9 8.165101595495752e-01 1.0e+00 2.32e-01  2e-01  2e-01 0:00.4\n",
      "    2     18 6.756905943104081e-01 1.2e+00 2.19e-01  2e-01  2e-01 0:00.8\n",
      "    3     27 -0.000000000000000e+00 1.3e+00 2.43e-01  2e-01  3e-01 0:01.3\n",
      "   10     90 -0.000000000000000e+00 2.5e+00 1.91e-01  1e-01  2e-01 0:04.9\n"
     ]
    },
    {
     "name": "stderr",
     "output_type": "stream",
     "text": [
      " /home/finley/miniconda3/envs/testsuite/lib/python3.8/site-packages/cma/utilities/utils.py:329: UserWarning:flat fitness (f=-0.000000, sigma=1.39e-01).\n",
      "                    For small sigma, this could indicate numerical convergence.\n",
      "                    Otherwise, please (re)consider how to compute the fitness more elaborately. (iteration=13)\n",
      " /home/finley/miniconda3/envs/testsuite/lib/python3.8/site-packages/cma/utilities/utils.py:329: UserWarning:flat fitness (f=-0.000000, sigma=1.20e-01).\n",
      "                    For small sigma, this could indicate numerical convergence.\n",
      "                    Otherwise, please (re)consider how to compute the fitness more elaborately. (iteration=14)\n",
      " /home/finley/miniconda3/envs/testsuite/lib/python3.8/site-packages/cma/utilities/utils.py:329: UserWarning:flat fitness (f=-0.000000, sigma=1.12e-01).\n",
      "                    For small sigma, this could indicate numerical convergence.\n",
      "                    Otherwise, please (re)consider how to compute the fitness more elaborately. (iteration=15)\n"
     ]
    },
    {
     "name": "stdout",
     "output_type": "stream",
     "text": [
      "   17    153 -0.000000000000000e+00 3.3e+00 1.08e-01  5e-02  1e-01 0:09.1\n"
     ]
    },
    {
     "name": "stderr",
     "output_type": "stream",
     "text": [
      " /home/finley/miniconda3/envs/testsuite/lib/python3.8/site-packages/cma/utilities/utils.py:329: UserWarning:flat fitness (f=-0.000000, sigma=1.08e-01).\n",
      "                    For small sigma, this could indicate numerical convergence.\n",
      "                    Otherwise, please (re)consider how to compute the fitness more elaborately. (iteration=17)\n",
      " /home/finley/miniconda3/envs/testsuite/lib/python3.8/site-packages/cma/utilities/utils.py:329: UserWarning:flat fitness (f=-0.000000, sigma=9.09e-02).\n",
      "                    For small sigma, this could indicate numerical convergence.\n",
      "                    Otherwise, please (re)consider how to compute the fitness more elaborately. (iteration=18)\n",
      " /home/finley/miniconda3/envs/testsuite/lib/python3.8/site-packages/cma/utilities/utils.py:329: UserWarning:flat fitness (f=-0.000000, sigma=8.09e-02).\n",
      "                    For small sigma, this could indicate numerical convergence.\n",
      "                    Otherwise, please (re)consider how to compute the fitness more elaborately. (iteration=19)\n",
      " /home/finley/miniconda3/envs/testsuite/lib/python3.8/site-packages/cma/utilities/utils.py:329: UserWarning:flat fitness (f=-0.000000, sigma=7.90e-02).\n",
      "                    For small sigma, this could indicate numerical convergence.\n",
      "                    Otherwise, please (re)consider how to compute the fitness more elaborately. (iteration=20)\n",
      " /home/finley/miniconda3/envs/testsuite/lib/python3.8/site-packages/cma/utilities/utils.py:329: UserWarning:flat fitness (f=-0.000000, sigma=7.40e-02).\n",
      "                    For small sigma, this could indicate numerical convergence.\n",
      "                    Otherwise, please (re)consider how to compute the fitness more elaborately. (iteration=22)\n",
      " /home/finley/miniconda3/envs/testsuite/lib/python3.8/site-packages/cma/utilities/utils.py:329: UserWarning:flat fitness (f=-0.000000, sigma=7.22e-02).\n",
      "                    For small sigma, this could indicate numerical convergence.\n",
      "                    Otherwise, please (re)consider how to compute the fitness more elaborately. (iteration=24)\n"
     ]
    },
    {
     "name": "stdout",
     "output_type": "stream",
     "text": [
      "   25    225 -0.000000000000000e+00 4.0e+00 7.73e-02  3e-02  9e-02 0:15.0\n"
     ]
    },
    {
     "name": "stderr",
     "output_type": "stream",
     "text": [
      " /home/finley/miniconda3/envs/testsuite/lib/python3.8/site-packages/cma/utilities/utils.py:329: UserWarning:flat fitness (f=-0.000000, sigma=8.57e-02).\n",
      "                    For small sigma, this could indicate numerical convergence.\n",
      "                    Otherwise, please (re)consider how to compute the fitness more elaborately. (iteration=29)\n"
     ]
    },
    {
     "name": "stdout",
     "output_type": "stream",
     "text": [
      "   32    288 -0.000000000000000e+00 5.4e+00 8.03e-02  3e-02  1e-01 0:20.0\n"
     ]
    },
    {
     "name": "stderr",
     "output_type": "stream",
     "text": [
      " /home/finley/miniconda3/envs/testsuite/lib/python3.8/site-packages/cma/utilities/utils.py:329: UserWarning:flat fitness (f=-0.000000, sigma=8.03e-02).\n",
      "                    For small sigma, this could indicate numerical convergence.\n",
      "                    Otherwise, please (re)consider how to compute the fitness more elaborately. (iteration=32)\n",
      "reconstraining parameters GP_regression.Mat52.lengthscale\n",
      "reconstraining parameters GP_regression.Mat52.variance\n",
      "reconstraining parameters GP_regression.Gaussian_noise.variance\n"
     ]
    },
    {
     "name": "stdout",
     "output_type": "stream",
     "text": [
      "termination on tolfun=1e-11 (Tue Aug 25 18:51:46 2020)\n",
      "termination on tolfunhist=1e-12 (Tue Aug 25 18:51:46 2020)\n",
      "termination on flat fitness=please (re)consider how to compute the fitness more elaborately if sigma=8.03e-02 is large (Tue Aug 25 18:51:46 2020)\n",
      "final/bestever f-value = -0.000000e+00 -0.000000e+00\n",
      "incumbent solution: [1.521721714587385, 2.390392383811674, 0.3472512469161968, 1.7748667036788999, 7.796425384460732, 3.9408147231762243]\n",
      "std deviation: [0.02571363477999437, 0.08177789092759019, 0.07481649007528884, 0.1052009651651802, 0.07378915542070141, 0.04862003711565571]\n",
      "Optimization restart 1/10, f = 56.64681861501185\n",
      "Optimization restart 2/10, f = 340.95186729369874\n",
      "Optimization restart 3/10, f = 347.85814802336824\n",
      "Optimization restart 4/10, f = 73.12102175141926\n",
      "Optimization restart 5/10, f = 56.64716779909227\n",
      "Optimization restart 6/10, f = 1688363479.9211419\n",
      "Optimization restart 7/10, f = 56.910551795710376\n",
      "Optimization restart 8/10, f = 407.1997822070799\n",
      "Optimization restart 9/10, f = 662.070655579321\n"
     ]
    },
    {
     "name": "stderr",
     "output_type": "stream",
     "text": [
      "reconstraining parameters GP_regression.Mat52.lengthscale\n",
      "reconstraining parameters GP_regression.Mat52.variance\n",
      "reconstraining parameters GP_regression.Gaussian_noise.variance\n"
     ]
    },
    {
     "name": "stdout",
     "output_type": "stream",
     "text": [
      "Optimization restart 10/10, f = 58.33210543870594\n",
      "Optimization restart 1/10, f = 17.488229456280763\n",
      "Optimization restart 2/10, f = 394.091749940917\n",
      "Optimization restart 3/10, f = 21.01158552303135\n",
      "Optimization restart 4/10, f = 21.405861778190218\n",
      "Optimization restart 5/10, f = 68.29487272625055\n",
      "Optimization restart 6/10, f = 24.97462738646053\n",
      "Optimization restart 7/10, f = 363.69455749695425\n",
      "Optimization restart 8/10, f = 21.011585528466668\n",
      "Optimization restart 9/10, f = 365.02130248610996\n",
      "Optimization restart 10/10, f = 323.5215783914385\n",
      "(4_w,9)-aCMA-ES (mu_w=2.8,w_1=49%) in dimension 6 (seed=514519, Tue Aug 25 18:51:56 2020)\n",
      "Iterat #Fevals   function value  axis ratio  sigma  min&max std  t[m:s]\n",
      "    1      9 9.050274901192608e-01 1.0e+00 2.43e-01  2e-01  2e-01 0:01.8\n",
      "    2     18 8.445938738309442e-01 1.4e+00 2.36e-01  2e-01  2e-01 0:02.5\n",
      "    3     27 -0.000000000000000e+00 1.6e+00 2.30e-01  2e-01  2e-01 0:03.0\n",
      "    9     81 -0.000000000000000e+00 3.2e+00 3.24e-01  3e-01  4e-01 0:06.7\n",
      "   17    153 -0.000000000000000e+00 3.7e+00 1.72e-01  1e-01  2e-01 0:11.0\n",
      "   23    207 -0.000000000000000e+00 3.5e+00 3.24e-01  2e-01  4e-01 0:17.6\n",
      "   32    288 -1.255474369861886e-02 5.8e+00 1.95e-01  6e-02  2e-01 0:24.1\n",
      "   44    396 -5.479713957376786e-02 9.6e+00 5.26e-01  8e-02  7e-01 0:31.5\n",
      "   56    504 -1.433897045160131e-01 2.1e+01 5.16e-01  4e-02  8e-01 0:40.0\n",
      "   70    630 -1.597175228717838e-01 4.0e+01 6.62e-01  2e-02  9e-01 0:49.3\n",
      "   87    783 -1.670580793096597e-01 8.4e+01 2.42e-01  4e-03  3e-01 0:59.6\n",
      "  100    900 -1.674158567357149e-01 1.5e+02 1.02e-01  1e-03  1e-01 1:07.8\n",
      "  120   1080 -1.674315671493751e-01 2.9e+02 2.76e-02  1e-04  4e-02 1:20.1\n",
      "  142   1278 -1.674329445687395e-01 7.9e+02 9.79e-03  2e-05  2e-02 1:33.5\n",
      "  166   1494 -1.674329692833445e-01 1.5e+03 1.65e-03  2e-06  3e-03 1:48.1\n",
      "  191   1719 -1.674329694802976e-01 3.3e+03 1.54e-04  1e-07  3e-04 2:03.4\n",
      "  200   1800 -1.674329694810623e-01 5.4e+03 1.01e-04  6e-08  3e-04 2:08.9\n",
      "  207   1863 -1.674329694814647e-01 7.2e+03 8.28e-05  4e-08  2e-04 2:13.1\n"
     ]
    },
    {
     "name": "stderr",
     "output_type": "stream",
     "text": [
      "reconstraining parameters GP_regression.Mat52.lengthscale\n",
      "reconstraining parameters GP_regression.Mat52.variance\n",
      "reconstraining parameters GP_regression.Gaussian_noise.variance\n"
     ]
    },
    {
     "name": "stdout",
     "output_type": "stream",
     "text": [
      "termination on tolfun=1e-11 (Tue Aug 25 18:54:10 2020)\n",
      "final/bestever f-value = -1.674330e-01 -1.674330e-01\n",
      "incumbent solution: [1.6087230516583202, 2.279438033338707, 5.994016922766117, 2.4931788526090344, 0.3791438547355189, 4.0593063095913156]\n",
      "std deviation: [3.9137072665848674e-08, 1.7086272549299548e-07, 0.0002387692470069922, 4.701709756271165e-06, 1.1765860584115205e-06, 3.229343543348731e-05]\n",
      "Optimization restart 1/10, f = 60.766360560228364\n",
      "Optimization restart 2/10, f = 314.4338226462039\n",
      "Optimization restart 3/10, f = 130.26467845099205\n",
      "Optimization restart 4/10, f = 1707227746.5077744\n",
      "Optimization restart 5/10, f = 362.2176515123405\n",
      "Optimization restart 6/10, f = 407.8956461719517\n",
      "Optimization restart 7/10, f = 435.90500693880244\n",
      "Optimization restart 8/10, f = 60.76636059963622\n",
      "Optimization restart 9/10, f = 72.59363846450628\n"
     ]
    },
    {
     "name": "stderr",
     "output_type": "stream",
     "text": [
      "reconstraining parameters GP_regression.Mat52.lengthscale\n",
      "reconstraining parameters GP_regression.Mat52.variance\n",
      "reconstraining parameters GP_regression.Gaussian_noise.variance\n"
     ]
    },
    {
     "name": "stdout",
     "output_type": "stream",
     "text": [
      "Optimization restart 10/10, f = 326.811129978117\n",
      "Optimization restart 1/10, f = 23.446081721492586\n",
      "Optimization restart 2/10, f = 361.56660721654765\n",
      "Optimization restart 3/10, f = 22.752358144471508\n",
      "Optimization restart 4/10, f = 61.309475050356184\n",
      "Optimization restart 5/10, f = 327.1111796830002\n",
      "Optimization restart 6/10, f = 358.68297288819645\n",
      "Optimization restart 7/10, f = 413.87518847276976\n",
      "Optimization restart 8/10, f = 751.0804355537014\n",
      "Optimization restart 9/10, f = 91.88174235813389\n",
      "Optimization restart 10/10, f = 382.74227226966457\n",
      "(4_w,9)-aCMA-ES (mu_w=2.8,w_1=49%) in dimension 6 (seed=461193, Tue Aug 25 18:54:13 2020)\n",
      "Iterat #Fevals   function value  axis ratio  sigma  min&max std  t[m:s]\n",
      "    1      9 -0.000000000000000e+00 1.0e+00 2.21e-01  2e-01  2e-01 0:00.5\n",
      "    2     18 4.845982029174369e-01 1.2e+00 2.21e-01  2e-01  2e-01 0:00.9\n",
      "    3     27 -0.000000000000000e+00 1.3e+00 2.22e-01  2e-01  2e-01 0:01.4\n",
      "    9     81 -0.000000000000000e+00 2.1e+00 1.42e-01  1e-01  2e-01 0:04.5\n"
     ]
    },
    {
     "name": "stderr",
     "output_type": "stream",
     "text": [
      " /home/finley/miniconda3/envs/testsuite/lib/python3.8/site-packages/cma/utilities/utils.py:329: UserWarning:flat fitness (f=-0.000000, sigma=1.51e-01).\n",
      "                    For small sigma, this could indicate numerical convergence.\n",
      "                    Otherwise, please (re)consider how to compute the fitness more elaborately. (iteration=12)\n"
     ]
    },
    {
     "name": "stdout",
     "output_type": "stream",
     "text": [
      "   16    144 -4.881395474098937e-05 3.3e+00 1.94e-01  2e-01  3e-01 0:08.5\n",
      "   25    225 -0.000000000000000e+00 3.7e+00 1.87e-01  1e-01  2e-01 0:13.6\n"
     ]
    },
    {
     "name": "stderr",
     "output_type": "stream",
     "text": [
      " /home/finley/miniconda3/envs/testsuite/lib/python3.8/site-packages/cma/utilities/utils.py:329: UserWarning:flat fitness (f=-0.000000, sigma=1.87e-01).\n",
      "                    For small sigma, this could indicate numerical convergence.\n",
      "                    Otherwise, please (re)consider how to compute the fitness more elaborately. (iteration=25)\n"
     ]
    },
    {
     "name": "stdout",
     "output_type": "stream",
     "text": [
      "   35    315 -2.055149534595735e-03 3.8e+00 1.69e-01  9e-02  2e-01 0:20.0\n",
      "   46    414 -3.910684312546486e-03 5.5e+00 1.69e-01  5e-02  2e-01 0:27.2\n",
      "   59    531 -4.474016206598375e-03 1.1e+01 1.28e-01  2e-02  2e-01 0:35.8\n",
      "   73    657 -5.543883051120524e-03 4.7e+01 5.36e-01  4e-02  2e+00 0:45.0\n",
      "   89    801 -6.827286266095633e-03 5.6e+01 1.87e-01  8e-03  4e-01 0:55.2\n",
      "  100    900 -6.846016153457590e-03 8.3e+01 6.21e-02  2e-03  1e-01 1:02.2\n",
      "  119   1071 -6.848519862892921e-03 1.3e+02 1.23e-02  1e-04  2e-02 1:15.6\n",
      "  137   1233 -6.848533800427603e-03 2.2e+02 4.27e-03  4e-05  6e-03 1:28.7\n",
      "  156   1404 -6.848536287893392e-03 4.4e+02 9.08e-04  5e-06  2e-03 1:43.4\n",
      "  176   1584 -6.848536339057798e-03 8.1e+02 2.17e-04  7e-07  4e-04 1:58.5\n",
      "  190   1710 -6.848536339716826e-03 1.4e+03 5.74e-05  1e-07  1e-04 2:10.3\n"
     ]
    },
    {
     "name": "stderr",
     "output_type": "stream",
     "text": [
      "reconstraining parameters GP_regression.Mat52.lengthscale\n",
      "reconstraining parameters GP_regression.Mat52.variance\n",
      "reconstraining parameters GP_regression.Gaussian_noise.variance\n"
     ]
    },
    {
     "name": "stdout",
     "output_type": "stream",
     "text": [
      "termination on tolfun=1e-11 (Tue Aug 25 18:56:23 2020)\n",
      "final/bestever f-value = -6.848536e-03 -6.848536e-03\n",
      "incumbent solution: [0.9951065596408502, 2.9290503066442133, 1.444317382691493, 7.999999999999623, 2.5984079752524885, 2.6451820450548977]\n",
      "std deviation: [1.1160979610034646e-07, 1.8544976420415776e-07, 0.00010734278035945712, 1.0188114129574262e-05, 1.582598846813903e-06, 3.5988967359734243e-06]\n",
      "Optimization restart 1/10, f = 61.47212973671178\n",
      "Optimization restart 2/10, f = 122.10971785437224\n",
      "Optimization restart 3/10, f = 361.97850389675705\n",
      "Optimization restart 4/10, f = 1736724436.8464782\n",
      "Optimization restart 5/10, f = 336.6907647748933\n",
      "Optimization restart 6/10, f = 87.32444639616519\n",
      "Optimization restart 7/10, f = 420.55059473845955\n",
      "Optimization restart 8/10, f = 63.1235185539316\n",
      "Optimization restart 9/10, f = 131.542901967673\n"
     ]
    },
    {
     "name": "stderr",
     "output_type": "stream",
     "text": [
      "reconstraining parameters GP_regression.Mat52.lengthscale\n",
      "reconstraining parameters GP_regression.Mat52.variance\n",
      "reconstraining parameters GP_regression.Gaussian_noise.variance\n"
     ]
    },
    {
     "name": "stdout",
     "output_type": "stream",
     "text": [
      "Optimization restart 10/10, f = 551.6049545656808\n",
      "Optimization restart 1/10, f = 24.47426568313103\n",
      "Optimization restart 2/10, f = 3146548.414312849\n",
      "Optimization restart 3/10, f = 73.44070684636095\n",
      "Optimization restart 4/10, f = 371.5276774463946\n",
      "Optimization restart 5/10, f = 409.3638822278375\n",
      "Optimization restart 6/10, f = 362.6302907632507\n",
      "Optimization restart 7/10, f = 75.85475345969004\n",
      "Optimization restart 8/10, f = 61.72887943165362\n",
      "Optimization restart 9/10, f = 2034033694.4212596\n",
      "Optimization restart 10/10, f = 2041442602.2450397\n",
      "(4_w,9)-aCMA-ES (mu_w=2.8,w_1=49%) in dimension 6 (seed=435659, Tue Aug 25 18:56:27 2020)\n",
      "Iterat #Fevals   function value  axis ratio  sigma  min&max std  t[m:s]\n",
      "    1      9 -0.000000000000000e+00 1.0e+00 2.17e-01  2e-01  2e-01 0:00.5\n",
      "    2     18 -0.000000000000000e+00 1.3e+00 2.15e-01  2e-01  2e-01 0:01.0\n",
      "    3     27 -0.000000000000000e+00 1.5e+00 1.90e-01  1e-01  2e-01 0:01.5\n",
      "    9     81 -8.897401851060138e-05 2.2e+00 2.00e-01  1e-01  2e-01 0:04.7\n",
      "   17    153 -0.000000000000000e+00 3.5e+00 1.68e-01  7e-02  2e-01 0:09.2\n",
      "   26    234 -0.000000000000000e+00 5.7e+00 1.99e-01  5e-02  2e-01 0:14.3\n",
      "   37    333 -0.000000000000000e+00 8.8e+00 1.52e-01  3e-02  2e-01 0:20.8\n"
     ]
    },
    {
     "name": "stderr",
     "output_type": "stream",
     "text": [
      " /home/finley/miniconda3/envs/testsuite/lib/python3.8/site-packages/cma/utilities/utils.py:329: UserWarning:flat fitness (f=-0.000000, sigma=1.52e-01).\n",
      "                    For small sigma, this could indicate numerical convergence.\n",
      "                    Otherwise, please (re)consider how to compute the fitness more elaborately. (iteration=37)\n",
      " /home/finley/miniconda3/envs/testsuite/lib/python3.8/site-packages/cma/utilities/utils.py:329: UserWarning:flat fitness (f=-0.000000, sigma=1.27e-01).\n",
      "                    For small sigma, this could indicate numerical convergence.\n",
      "                    Otherwise, please (re)consider how to compute the fitness more elaborately. (iteration=40)\n",
      " /home/finley/miniconda3/envs/testsuite/lib/python3.8/site-packages/cma/utilities/utils.py:329: UserWarning:flat fitness (f=-0.000000, sigma=1.25e-01).\n",
      "                    For small sigma, this could indicate numerical convergence.\n",
      "                    Otherwise, please (re)consider how to compute the fitness more elaborately. (iteration=42)\n",
      " /home/finley/miniconda3/envs/testsuite/lib/python3.8/site-packages/cma/utilities/utils.py:329: UserWarning:flat fitness (f=-0.000000, sigma=1.16e-01).\n",
      "                    For small sigma, this could indicate numerical convergence.\n",
      "                    Otherwise, please (re)consider how to compute the fitness more elaborately. (iteration=43)\n",
      " /home/finley/miniconda3/envs/testsuite/lib/python3.8/site-packages/cma/utilities/utils.py:329: UserWarning:flat fitness (f=-0.000000, sigma=1.20e-01).\n",
      "                    For small sigma, this could indicate numerical convergence.\n",
      "                    Otherwise, please (re)consider how to compute the fitness more elaborately. (iteration=44)\n",
      " /home/finley/miniconda3/envs/testsuite/lib/python3.8/site-packages/cma/utilities/utils.py:329: UserWarning:flat fitness (f=-0.000000, sigma=1.19e-01).\n",
      "                    For small sigma, this could indicate numerical convergence.\n",
      "                    Otherwise, please (re)consider how to compute the fitness more elaborately. (iteration=45)\n",
      " /home/finley/miniconda3/envs/testsuite/lib/python3.8/site-packages/cma/utilities/utils.py:329: UserWarning:flat fitness (f=-0.000000, sigma=1.09e-01).\n",
      "                    For small sigma, this could indicate numerical convergence.\n",
      "                    Otherwise, please (re)consider how to compute the fitness more elaborately. (iteration=46)\n"
     ]
    },
    {
     "name": "stdout",
     "output_type": "stream",
     "text": [
      "   47    423 -0.000000000000000e+00 1.2e+01 9.53e-02  1e-02  1e-01 0:28.8\n"
     ]
    },
    {
     "name": "stderr",
     "output_type": "stream",
     "text": [
      " /home/finley/miniconda3/envs/testsuite/lib/python3.8/site-packages/cma/utilities/utils.py:329: UserWarning:flat fitness (f=-0.000000, sigma=9.53e-02).\n",
      "                    For small sigma, this could indicate numerical convergence.\n",
      "                    Otherwise, please (re)consider how to compute the fitness more elaborately. (iteration=47)\n",
      " /home/finley/miniconda3/envs/testsuite/lib/python3.8/site-packages/cma/utilities/utils.py:329: UserWarning:flat fitness (f=-0.000000, sigma=9.92e-02).\n",
      "                    For small sigma, this could indicate numerical convergence.\n",
      "                    Otherwise, please (re)consider how to compute the fitness more elaborately. (iteration=48)\n",
      " /home/finley/miniconda3/envs/testsuite/lib/python3.8/site-packages/cma/utilities/utils.py:329: UserWarning:flat fitness (f=-0.000000, sigma=9.94e-02).\n",
      "                    For small sigma, this could indicate numerical convergence.\n",
      "                    Otherwise, please (re)consider how to compute the fitness more elaborately. (iteration=49)\n",
      " /home/finley/miniconda3/envs/testsuite/lib/python3.8/site-packages/cma/utilities/utils.py:329: UserWarning:flat fitness (f=-0.000000, sigma=9.65e-02).\n",
      "                    For small sigma, this could indicate numerical convergence.\n",
      "                    Otherwise, please (re)consider how to compute the fitness more elaborately. (iteration=50)\n",
      " /home/finley/miniconda3/envs/testsuite/lib/python3.8/site-packages/cma/utilities/utils.py:329: UserWarning:flat fitness (f=-0.000000, sigma=8.31e-02).\n",
      "                    For small sigma, this could indicate numerical convergence.\n",
      "                    Otherwise, please (re)consider how to compute the fitness more elaborately. (iteration=51)\n",
      " /home/finley/miniconda3/envs/testsuite/lib/python3.8/site-packages/cma/utilities/utils.py:329: UserWarning:flat fitness (f=-0.000000, sigma=8.26e-02).\n",
      "                    For small sigma, this could indicate numerical convergence.\n",
      "                    Otherwise, please (re)consider how to compute the fitness more elaborately. (iteration=52)\n",
      " /home/finley/miniconda3/envs/testsuite/lib/python3.8/site-packages/cma/utilities/utils.py:329: UserWarning:flat fitness (f=-0.000000, sigma=8.03e-02).\n",
      "                    For small sigma, this could indicate numerical convergence.\n",
      "                    Otherwise, please (re)consider how to compute the fitness more elaborately. (iteration=53)\n",
      " /home/finley/miniconda3/envs/testsuite/lib/python3.8/site-packages/cma/utilities/utils.py:329: UserWarning:flat fitness (f=-0.000000, sigma=7.89e-02).\n",
      "                    For small sigma, this could indicate numerical convergence.\n",
      "                    Otherwise, please (re)consider how to compute the fitness more elaborately. (iteration=54)\n",
      " /home/finley/miniconda3/envs/testsuite/lib/python3.8/site-packages/cma/utilities/utils.py:329: UserWarning:flat fitness (f=-0.000000, sigma=6.90e-02).\n",
      "                    For small sigma, this could indicate numerical convergence.\n",
      "                    Otherwise, please (re)consider how to compute the fitness more elaborately. (iteration=55)\n",
      " /home/finley/miniconda3/envs/testsuite/lib/python3.8/site-packages/cma/utilities/utils.py:329: UserWarning:flat fitness (f=-0.000000, sigma=7.31e-02).\n",
      "                    For small sigma, this could indicate numerical convergence.\n",
      "                    Otherwise, please (re)consider how to compute the fitness more elaborately. (iteration=56)\n"
     ]
    },
    {
     "name": "stdout",
     "output_type": "stream",
     "text": [
      "   57    513 -0.000000000000000e+00 1.3e+01 7.39e-02  1e-02  8e-02 0:37.6\n"
     ]
    },
    {
     "name": "stderr",
     "output_type": "stream",
     "text": [
      " /home/finley/miniconda3/envs/testsuite/lib/python3.8/site-packages/cma/utilities/utils.py:329: UserWarning:flat fitness (f=-0.000000, sigma=7.39e-02).\n",
      "                    For small sigma, this could indicate numerical convergence.\n",
      "                    Otherwise, please (re)consider how to compute the fitness more elaborately. (iteration=57)\n",
      "reconstraining parameters GP_regression.Mat52.lengthscale\n",
      "reconstraining parameters GP_regression.Mat52.variance\n",
      "reconstraining parameters GP_regression.Gaussian_noise.variance\n"
     ]
    },
    {
     "name": "stdout",
     "output_type": "stream",
     "text": [
      "termination on tolfun=1e-11 (Tue Aug 25 18:57:05 2020)\n",
      "termination on tolfunhist=1e-12 (Tue Aug 25 18:57:05 2020)\n",
      "termination on flat fitness=please (re)consider how to compute the fitness more elaborately if sigma=7.39e-02 is large (Tue Aug 25 18:57:05 2020)\n",
      "final/bestever f-value = -0.000000e+00 -8.897402e-05\n",
      "incumbent solution: [0.9622854505301209, 0.15498169038875695, 2.4685600559578087, 3.7753480415296212, 5.250718742916184, 9.675920857265131]\n",
      "std deviation: [0.012348502928870691, 0.07275416282975364, 0.062328355151408735, 0.08102154872820498, 0.05107476830631258, 0.06281958296199544]\n",
      "Optimization restart 1/10, f = 64.66626111143073\n",
      "Optimization restart 2/10, f = 407.94273467850667\n",
      "Optimization restart 3/10, f = 385.2270593403247\n",
      "Optimization restart 4/10, f = 380.6618551651733\n",
      "Optimization restart 5/10, f = 121.16998103639366\n",
      "Optimization restart 6/10, f = 427.22600100414945\n",
      "Optimization restart 7/10, f = 427.22600100414945\n",
      "Optimization restart 8/10, f = 1755238577.2482083\n",
      "Optimization restart 9/10, f = 394.1792308021487\n"
     ]
    },
    {
     "name": "stderr",
     "output_type": "stream",
     "text": [
      "reconstraining parameters GP_regression.Mat52.lengthscale\n",
      "reconstraining parameters GP_regression.Mat52.variance\n",
      "reconstraining parameters GP_regression.Gaussian_noise.variance\n"
     ]
    },
    {
     "name": "stdout",
     "output_type": "stream",
     "text": [
      "Optimization restart 10/10, f = 90.43421439963257\n",
      "Optimization restart 1/10, f = 24.446263064874145\n",
      "Optimization restart 2/10, f = 482.3277578659237\n",
      "Optimization restart 3/10, f = 26.114073777716477\n",
      "Optimization restart 4/10, f = 76.81239682003263\n",
      "Optimization restart 5/10, f = 68.99006125348534\n",
      "Optimization restart 6/10, f = 30.196851407725212\n",
      "Optimization restart 7/10, f = 24.56344416080892\n",
      "Optimization restart 8/10, f = 26.11438849247395\n",
      "Optimization restart 9/10, f = 74.68504808577335\n",
      "Optimization restart 10/10, f = 22.117928796257956\n",
      "(4_w,9)-aCMA-ES (mu_w=2.8,w_1=49%) in dimension 6 (seed=509856, Tue Aug 25 18:57:08 2020)\n",
      "Iterat #Fevals   function value  axis ratio  sigma  min&max std  t[m:s]\n",
      "    1      9 8.831885464622120e-01 1.0e+00 2.61e-01  2e-01  3e-01 0:00.5\n",
      "    2     18 -0.000000000000000e+00 1.4e+00 2.70e-01  3e-01  3e-01 0:01.1\n",
      "    3     27 6.909245624344060e-01 1.4e+00 3.09e-01  3e-01  4e-01 0:01.5\n",
      "    8     72 -0.000000000000000e+00 1.9e+00 3.58e-01  3e-01  4e-01 0:04.6\n",
      "   14    126 -0.000000000000000e+00 2.7e+00 3.29e-01  3e-01  4e-01 0:09.0\n",
      "   20    180 -0.000000000000000e+00 2.7e+00 2.00e-01  1e-01  2e-01 0:14.2\n",
      "   25    225 -0.000000000000000e+00 2.7e+00 1.44e-01  9e-02  1e-01 0:20.3\n"
     ]
    },
    {
     "name": "stderr",
     "output_type": "stream",
     "text": [
      " /home/finley/miniconda3/envs/testsuite/lib/python3.8/site-packages/cma/utilities/utils.py:329: UserWarning:flat fitness (f=-0.000000, sigma=1.05e-01).\n",
      "                    For small sigma, this could indicate numerical convergence.\n",
      "                    Otherwise, please (re)consider how to compute the fitness more elaborately. (iteration=30)\n"
     ]
    },
    {
     "name": "stdout",
     "output_type": "stream",
     "text": [
      "   32    288 -0.000000000000000e+00 4.2e+00 9.36e-02  6e-02  1e-01 0:28.2\n"
     ]
    },
    {
     "name": "stderr",
     "output_type": "stream",
     "text": [
      " /home/finley/miniconda3/envs/testsuite/lib/python3.8/site-packages/cma/utilities/utils.py:329: UserWarning:flat fitness (f=-0.000000, sigma=9.36e-02).\n",
      "                    For small sigma, this could indicate numerical convergence.\n",
      "                    Otherwise, please (re)consider how to compute the fitness more elaborately. (iteration=32)\n",
      " /home/finley/miniconda3/envs/testsuite/lib/python3.8/site-packages/cma/utilities/utils.py:329: UserWarning:flat fitness (f=-0.000000, sigma=8.88e-02).\n",
      "                    For small sigma, this could indicate numerical convergence.\n",
      "                    Otherwise, please (re)consider how to compute the fitness more elaborately. (iteration=33)\n",
      " /home/finley/miniconda3/envs/testsuite/lib/python3.8/site-packages/cma/utilities/utils.py:329: UserWarning:flat fitness (f=-0.000000, sigma=1.09e-01).\n",
      "                    For small sigma, this could indicate numerical convergence.\n",
      "                    Otherwise, please (re)consider how to compute the fitness more elaborately. (iteration=34)\n"
     ]
    },
    {
     "name": "stdout",
     "output_type": "stream",
     "text": [
      "   38    342 -0.000000000000000e+00 4.1e+00 1.31e-01  8e-02  1e-01 0:36.5\n"
     ]
    },
    {
     "name": "stderr",
     "output_type": "stream",
     "text": [
      " /home/finley/miniconda3/envs/testsuite/lib/python3.8/site-packages/cma/utilities/utils.py:329: UserWarning:flat fitness (f=-0.000000, sigma=1.12e-01).\n",
      "                    For small sigma, this could indicate numerical convergence.\n",
      "                    Otherwise, please (re)consider how to compute the fitness more elaborately. (iteration=40)\n",
      " /home/finley/miniconda3/envs/testsuite/lib/python3.8/site-packages/cma/utilities/utils.py:329: UserWarning:flat fitness (f=-0.000000, sigma=1.01e-01).\n",
      "                    For small sigma, this could indicate numerical convergence.\n",
      "                    Otherwise, please (re)consider how to compute the fitness more elaborately. (iteration=42)\n"
     ]
    },
    {
     "name": "stdout",
     "output_type": "stream",
     "text": [
      "   43    387 -0.000000000000000e+00 4.3e+00 8.91e-02  5e-02  8e-02 0:43.0\n"
     ]
    },
    {
     "name": "stderr",
     "output_type": "stream",
     "text": [
      " /home/finley/miniconda3/envs/testsuite/lib/python3.8/site-packages/cma/utilities/utils.py:329: UserWarning:flat fitness (f=-0.000000, sigma=8.91e-02).\n",
      "                    For small sigma, this could indicate numerical convergence.\n",
      "                    Otherwise, please (re)consider how to compute the fitness more elaborately. (iteration=43)\n",
      "reconstraining parameters GP_regression.Mat52.lengthscale\n"
     ]
    },
    {
     "name": "stdout",
     "output_type": "stream",
     "text": [
      "termination on tolfun=1e-11 (Tue Aug 25 18:57:52 2020)\n",
      "termination on tolfunhist=1e-12 (Tue Aug 25 18:57:52 2020)\n",
      "termination on flat fitness=please (re)consider how to compute the fitness more elaborately if sigma=8.91e-02 is large (Tue Aug 25 18:57:52 2020)\n",
      "final/bestever f-value = -0.000000e+00 -0.000000e+00\n",
      "incumbent solution: [0.21456045687229408, 2.294384968338047, 3.144446200425045, 1.8290626260102318, 1.7224346595292976, 1.968173612655906]\n",
      "std deviation: [0.05176146917832809, 0.05342353691710836, 0.07157984052787668, 0.07777010625518888, 0.0591734112914364, 0.07785068760794628]\n"
     ]
    },
    {
     "name": "stderr",
     "output_type": "stream",
     "text": [
      "reconstraining parameters GP_regression.Mat52.variance\n",
      "reconstraining parameters GP_regression.Gaussian_noise.variance\n"
     ]
    },
    {
     "name": "stdout",
     "output_type": "stream",
     "text": [
      "Optimization restart 1/10, f = 65.77651282411612\n",
      "Optimization restart 2/10, f = 81.30776682956193\n",
      "Optimization restart 3/10, f = 347.26153975885785\n",
      "Optimization restart 4/10, f = 402.4839165049993\n",
      "Optimization restart 5/10, f = 115.52723823401952\n",
      "Optimization restart 6/10, f = 383.0730660736493\n",
      "Optimization restart 7/10, f = 59.61725227012682\n",
      "Optimization restart 8/10, f = 430.56013189887085\n",
      "Optimization restart 9/10, f = 433.9014072698393\n"
     ]
    },
    {
     "name": "stderr",
     "output_type": "stream",
     "text": [
      "reconstraining parameters GP_regression.Mat52.lengthscale\n",
      "reconstraining parameters GP_regression.Mat52.variance\n",
      "reconstraining parameters GP_regression.Gaussian_noise.variance\n"
     ]
    },
    {
     "name": "stdout",
     "output_type": "stream",
     "text": [
      "Optimization restart 10/10, f = 92.23100465830373\n",
      "Optimization restart 1/10, f = 21.93207386924294\n",
      "Optimization restart 2/10, f = 24.227860572237084\n",
      "Optimization restart 3/10, f = 27.57945941556244\n",
      "Optimization restart 4/10, f = 27.884987529842974\n",
      "Optimization restart 5/10, f = 3246438.840164052\n",
      "Optimization restart 6/10, f = 534.7242185443848\n",
      "Optimization restart 7/10, f = 235.12975717860172\n",
      "Optimization restart 8/10, f = 27.579460273667905\n",
      "Optimization restart 9/10, f = 21.93207545923069\n",
      "Optimization restart 10/10, f = 92.23100465830373\n",
      "(4_w,9)-aCMA-ES (mu_w=2.8,w_1=49%) in dimension 6 (seed=461802, Tue Aug 25 18:58:03 2020)\n",
      "Iterat #Fevals   function value  axis ratio  sigma  min&max std  t[m:s]\n",
      "    1      9 -0.000000000000000e+00 1.0e+00 2.45e-01  2e-01  3e-01 0:00.6\n",
      "    2     18 -0.000000000000000e+00 1.3e+00 2.63e-01  2e-01  3e-01 0:01.3\n",
      "    3     27 -0.000000000000000e+00 1.5e+00 2.82e-01  3e-01  3e-01 0:02.2\n",
      "    7     63 -3.514071005894515e-04 2.3e+00 3.19e-01  3e-01  5e-01 0:05.8\n",
      "   13    117 -0.000000000000000e+00 3.3e+00 2.92e-01  2e-01  4e-01 0:10.4\n",
      "   19    171 -6.644664620899299e-03 4.3e+00 3.44e-01  2e-01  5e-01 0:15.7\n",
      "   27    243 -8.723354114810178e-04 5.6e+00 3.62e-01  1e-01  5e-01 0:21.8\n",
      "   37    333 -2.353247480809229e-02 7.0e+00 3.78e-01  1e-01  6e-01 0:29.0\n",
      "   48    432 -4.660498387402789e-02 1.9e+01 4.69e-01  8e-02  1e+00 0:37.5\n",
      "   61    549 -4.813131403415882e-02 2.4e+01 1.63e-01  2e-02  3e-01 0:47.0\n",
      "   73    657 -4.858241076356506e-02 2.7e+01 1.19e-01  1e-02  2e-01 0:57.4\n",
      "   88    792 -4.881633731885548e-02 3.1e+01 3.27e-02  2e-03  4e-02 1:08.6\n",
      "  100    900 -4.882710943112745e-02 3.0e+01 1.37e-02  7e-04  1e-02 1:20.6\n",
      "  117   1053 -4.882745335939775e-02 3.9e+01 2.38e-03  8e-05  2e-03 1:34.1\n",
      "  138   1242 -4.882746141702832e-02 2.7e+01 6.43e-04  1e-05  2e-04 1:48.5\n",
      "  158   1422 -4.882746175964892e-02 2.7e+01 1.27e-04  2e-06  3e-05 2:03.6\n",
      "  179   1611 -4.882746176308705e-02 3.1e+01 1.17e-05  1e-07  2e-06 2:19.8\n",
      "  182   1638 -4.882746176309638e-02 3.1e+01 9.76e-06  9e-08  1e-06 2:22.4\n"
     ]
    },
    {
     "name": "stderr",
     "output_type": "stream",
     "text": [
      "reconstraining parameters GP_regression.Mat52.lengthscale\n",
      "reconstraining parameters GP_regression.Mat52.variance\n",
      "reconstraining parameters GP_regression.Gaussian_noise.variance\n"
     ]
    },
    {
     "name": "stdout",
     "output_type": "stream",
     "text": [
      "termination on tolfun=1e-11 (Tue Aug 25 19:00:26 2020)\n",
      "final/bestever f-value = -4.882746e-02 -4.882746e-02\n",
      "incumbent solution: [0.3220216296508808, 2.659082894519313, 3.0600240456483148, 3.1647594738582616, 4.89457819910069e-14, 2.7267505346119436]\n",
      "std deviation: [8.769742861209769e-08, 1.062535635821639e-07, 2.988423873873625e-07, 7.169887113261867e-07, 4.878178846921273e-07, 1.3541487351286918e-06]\n",
      "Optimization restart 1/10, f = 62.3666248700367\n",
      "Optimization restart 2/10, f = 431.5820702446979\n",
      "Optimization restart 3/10, f = 67.29555381303808\n",
      "Optimization restart 4/10, f = 375.74441765022357\n",
      "Optimization restart 5/10, f = 90.27451586532436\n",
      "Optimization restart 6/10, f = 297.855708339484\n",
      "Optimization restart 7/10, f = 309.7274516797157\n",
      "Optimization restart 8/10, f = 329.2882438228231\n"
     ]
    },
    {
     "name": "stderr",
     "output_type": "stream",
     "text": [
      "reconstraining parameters GP_regression.Mat52.lengthscale\n",
      "reconstraining parameters GP_regression.Mat52.variance\n",
      "reconstraining parameters GP_regression.Gaussian_noise.variance\n"
     ]
    },
    {
     "name": "stdout",
     "output_type": "stream",
     "text": [
      "Optimization restart 9/10, f = 1833667248.7165225\n",
      "Optimization restart 10/10, f = 440.57681353552914\n",
      "Optimization restart 1/10, f = 23.046681968172024\n",
      "Optimization restart 2/10, f = 440.57681353552914\n",
      "Optimization restart 3/10, f = 33.02740159676459\n",
      "Optimization restart 4/10, f = 440.57681353552914\n",
      "Optimization restart 5/10, f = 430.2122017973785\n",
      "Optimization restart 6/10, f = 440.57681353552914\n",
      "Optimization restart 7/10, f = 69.78967700210656\n",
      "Optimization restart 8/10, f = 93.64994330740772\n",
      "Optimization restart 9/10, f = 174.9434539690003\n",
      "Optimization restart 10/10, f = 440.57681353552914\n",
      "(4_w,9)-aCMA-ES (mu_w=2.8,w_1=49%) in dimension 6 (seed=427578, Tue Aug 25 19:00:32 2020)\n",
      "Iterat #Fevals   function value  axis ratio  sigma  min&max std  t[m:s]\n",
      "    1      9 2.978241192236720e+00 1.0e+00 2.51e-01  2e-01  3e-01 0:00.9\n",
      "    2     18 2.416557707039511e+00 1.3e+00 2.74e-01  3e-01  3e-01 0:01.7\n",
      "    3     27 1.888277751877134e+00 1.5e+00 3.10e-01  3e-01  4e-01 0:02.4\n",
      "    6     54 4.599063827228982e-01 2.0e+00 4.97e-01  4e-01  6e-01 0:05.4\n",
      "   12    108 6.280178465397410e-01 2.0e+00 5.70e-01  5e-01  7e-01 0:09.6\n",
      "   19    171 -0.000000000000000e+00 2.3e+00 5.01e-01  3e-01  6e-01 0:14.7\n",
      "   30    270 -0.000000000000000e+00 5.4e+00 8.85e-01  3e-01  2e+00 0:21.5\n",
      "   38    342 -0.000000000000000e+00 1.1e+01 5.43e-01  9e-02  1e+00 0:29.0\n"
     ]
    },
    {
     "name": "stderr",
     "output_type": "stream",
     "text": [
      " /home/finley/miniconda3/envs/testsuite/lib/python3.8/site-packages/cma/utilities/utils.py:329: UserWarning:flat fitness (f=-0.000000, sigma=3.21e-01).\n",
      "                    For small sigma, this could indicate numerical convergence.\n",
      "                    Otherwise, please (re)consider how to compute the fitness more elaborately. (iteration=43)\n",
      " /home/finley/miniconda3/envs/testsuite/lib/python3.8/site-packages/cma/utilities/utils.py:329: UserWarning:flat fitness (f=-0.000000, sigma=3.03e-01).\n",
      "                    For small sigma, this could indicate numerical convergence.\n",
      "                    Otherwise, please (re)consider how to compute the fitness more elaborately. (iteration=44)\n"
     ]
    },
    {
     "name": "stdout",
     "output_type": "stream",
     "text": [
      "   45    405 -0.000000000000000e+00 1.5e+01 2.91e-01  4e-02  5e-01 0:33.8\n"
     ]
    },
    {
     "name": "stderr",
     "output_type": "stream",
     "text": [
      "reconstraining parameters GP_regression.Mat52.lengthscale\n",
      "reconstraining parameters GP_regression.Mat52.variance\n",
      "reconstraining parameters GP_regression.Gaussian_noise.variance\n"
     ]
    },
    {
     "name": "stdout",
     "output_type": "stream",
     "text": [
      "termination on tolfunhist=1e-12 (Tue Aug 25 19:01:06 2020)\n",
      "termination on flat fitness=please (re)consider how to compute the fitness more elaborately if sigma=2.91e-01 is large (Tue Aug 25 19:01:06 2020)\n",
      "final/bestever f-value = -0.000000e+00 -0.000000e+00\n",
      "incumbent solution: [0.002555688936024045, 3.955635014998377, 5.676667067591957, 4.610997228995276, 3.0227620886160484, 1.605296093610553]\n",
      "std deviation: [0.04319206167198135, 0.08360107215764445, 0.29582243310306905, 0.2592741652966535, 0.37021112220846086, 0.5268848489713365]\n",
      "Optimization restart 1/10, f = 62.51220582822557\n",
      "Optimization restart 2/10, f = 122.45386046173208\n",
      "Optimization restart 3/10, f = 133.77704726368023\n",
      "Optimization restart 4/10, f = 75.74291246387358\n",
      "Optimization restart 5/10, f = 455.944038292965\n",
      "Optimization restart 6/10, f = 447.2522198012189\n",
      "Optimization restart 7/10, f = 384.31899898939275\n",
      "Optimization restart 8/10, f = 431.06036810440446\n",
      "Optimization restart 9/10, f = 424.62039789048987\n"
     ]
    },
    {
     "name": "stderr",
     "output_type": "stream",
     "text": [
      "reconstraining parameters GP_regression.Mat52.lengthscale\n",
      "reconstraining parameters GP_regression.Mat52.variance\n",
      "reconstraining parameters GP_regression.Gaussian_noise.variance\n"
     ]
    },
    {
     "name": "stdout",
     "output_type": "stream",
     "text": [
      "Optimization restart 10/10, f = 150.68734007333\n",
      "Optimization restart 1/10, f = 21.17672035552694\n",
      "Optimization restart 2/10, f = 417.84640676323664\n",
      "Optimization restart 3/10, f = 82.74608667464231\n",
      "Optimization restart 4/10, f = 67.79735107059997\n",
      "Optimization restart 5/10, f = 24.129975488306506\n",
      "Optimization restart 6/10, f = 931942.4749672262\n",
      "Optimization restart 7/10, f = 22.499708367574442\n",
      "Optimization restart 8/10, f = 379.98991009309594\n",
      "Optimization restart 9/10, f = 61.6085364667686\n",
      "Optimization restart 10/10, f = 95.06888172471307\n",
      "(4_w,9)-aCMA-ES (mu_w=2.8,w_1=49%) in dimension 6 (seed=506122, Tue Aug 25 19:01:09 2020)\n",
      "Iterat #Fevals   function value  axis ratio  sigma  min&max std  t[m:s]\n",
      "    1      9 -0.000000000000000e+00 1.0e+00 2.28e-01  2e-01  2e-01 0:00.6\n",
      "    2     18 -0.000000000000000e+00 1.3e+00 2.02e-01  2e-01  2e-01 0:01.1\n",
      "    3     27 -0.000000000000000e+00 1.3e+00 1.94e-01  2e-01  2e-01 0:01.7\n",
      "    9     81 -0.000000000000000e+00 2.2e+00 1.52e-01  9e-02  2e-01 0:05.3\n",
      "   10     90 -0.000000000000000e+00 2.7e+00 1.68e-01  9e-02  2e-01 0:05.9\n"
     ]
    },
    {
     "name": "stderr",
     "output_type": "stream",
     "text": [
      "reconstraining parameters GP_regression.Mat52.lengthscale\n",
      "reconstraining parameters GP_regression.Mat52.variance\n",
      "reconstraining parameters GP_regression.Gaussian_noise.variance\n"
     ]
    },
    {
     "name": "stdout",
     "output_type": "stream",
     "text": [
      "termination on tolfunhist=1e-12 (Tue Aug 25 19:01:15 2020)\n",
      "final/bestever f-value = -0.000000e+00 -0.000000e+00\n",
      "incumbent solution: [1.3615535935327936, 1.504038447734045, 0.33920641812466995, 7.747798733429654, 1.1144031724910712, 6.1668616117433555]\n",
      "std deviation: [0.09088080674102468, 0.12024108650648191, 0.14099563675695878, 0.22787881159143183, 0.17954593001979077, 0.18941118166309687]\n",
      "Optimization restart 1/10, f = 63.33360170962371\n",
      "Optimization restart 2/10, f = 96.48782025791812\n",
      "Optimization restart 3/10, f = 400.91652407175786\n",
      "Optimization restart 4/10, f = 1968532395.6714365\n",
      "Optimization restart 5/10, f = 68.7861342301447\n",
      "Optimization restart 6/10, f = 453.9276260669088\n",
      "Optimization restart 7/10, f = 377.0315302311033\n",
      "Optimization restart 8/10, f = 377.03535225748226\n"
     ]
    },
    {
     "name": "stderr",
     "output_type": "stream",
     "text": [
      "reconstraining parameters GP_regression.Mat52.lengthscale\n",
      "reconstraining parameters GP_regression.Mat52.variance\n",
      "reconstraining parameters GP_regression.Gaussian_noise.variance\n"
     ]
    },
    {
     "name": "stdout",
     "output_type": "stream",
     "text": [
      "Optimization restart 9/10, f = 380.124343861103\n",
      "Optimization restart 10/10, f = 379.15931891812045\n",
      "Optimization restart 1/10, f = 21.33144311943213\n",
      "Optimization restart 2/10, f = 23.355371247060397\n",
      "Optimization restart 3/10, f = 87.58688315330063\n",
      "Optimization restart 4/10, f = 409.59835156969564\n",
      "Optimization restart 5/10, f = 399.63014540473745\n",
      "Optimization restart 6/10, f = 23.370483814154582\n",
      "Optimization restart 7/10, f = 452.9305910225707\n",
      "Optimization restart 8/10, f = 65.77398618083282\n",
      "Optimization restart 9/10, f = 23.530282918221545\n",
      "Optimization restart 10/10, f = 2281209687.1187963\n",
      "(4_w,9)-aCMA-ES (mu_w=2.8,w_1=49%) in dimension 6 (seed=416525, Tue Aug 25 19:01:19 2020)\n",
      "Iterat #Fevals   function value  axis ratio  sigma  min&max std  t[m:s]\n",
      "    1      9 -0.000000000000000e+00 1.0e+00 2.50e-01  2e-01  3e-01 0:00.5\n",
      "    2     18 -0.000000000000000e+00 1.4e+00 2.71e-01  3e-01  3e-01 0:01.1\n",
      "    3     27 -0.000000000000000e+00 1.4e+00 2.89e-01  3e-01  3e-01 0:01.8\n",
      "    8     72 -2.385460086824365e-02 1.9e+00 3.58e-01  3e-01  4e-01 0:05.1\n",
      "   13    117 -9.841619597992013e-02 2.4e+00 4.06e-01  3e-01  6e-01 0:09.4\n",
      "   20    180 -4.177991776430168e-01 2.8e+00 6.68e-01  4e-01  9e-01 0:14.5\n",
      "   27    243 -4.928944100460071e-01 2.9e+00 4.01e-01  2e-01  5e-01 0:20.8\n",
      "   37    333 -5.334890246531825e-01 3.4e+00 1.75e-01  6e-02  2e-01 0:28.6\n",
      "   47    423 -5.455772055099684e-01 3.8e+00 8.74e-02  2e-02  9e-02 0:36.7\n",
      "   59    531 -5.510159069796430e-01 6.8e+00 9.34e-02  2e-02  9e-02 0:46.3\n",
      "   72    648 -5.549141316662602e-01 1.3e+01 1.03e-01  1e-02  1e-01 0:56.4\n",
      "   86    774 -5.556712725231239e-01 1.4e+01 2.93e-02  2e-03  3e-02 1:07.7\n",
      "  100    900 -5.557174557089413e-01 1.8e+01 8.34e-03  4e-04  7e-03 1:18.2\n",
      "  113   1017 -5.557176435906133e-01 1.9e+01 2.51e-03  9e-05  2e-03 1:32.5\n",
      "  123   1107 -5.557177390401953e-01 2.1e+01 1.37e-03  4e-05  7e-04 1:47.2\n",
      "  142   1278 -5.557177473995902e-01 2.4e+01 3.12e-04  5e-06  1e-04 2:02.2\n",
      "  162   1458 -5.557177478064701e-01 1.8e+01 5.03e-05  6e-07  1e-05 2:18.6\n",
      "  185   1665 -5.557177478073263e-01 2.2e+01 4.54e-06  3e-08  6e-07 2:36.1\n",
      "  186   1674 -5.557177478073183e-01 2.1e+01 4.33e-06  3e-08  6e-07 2:36.8\n"
     ]
    },
    {
     "name": "stderr",
     "output_type": "stream",
     "text": [
      "reconstraining parameters GP_regression.Mat52.lengthscale\n",
      "reconstraining parameters GP_regression.Mat52.variance\n",
      "reconstraining parameters GP_regression.Gaussian_noise.variance\n"
     ]
    },
    {
     "name": "stdout",
     "output_type": "stream",
     "text": [
      "termination on tolfun=1e-11 (Tue Aug 25 19:03:56 2020)\n",
      "final/bestever f-value = -5.557177e-01 -5.557177e-01\n",
      "incumbent solution: [1.924939304827343, 0.3477896042001583, 2.255906276258479, 4.119470837965366, 6.475421723961216, 2.214865080190992]\n",
      "std deviation: [3.057280675859699e-08, 3.676142816691243e-08, 4.2288570213901294e-08, 1.7047946607690162e-07, 5.68009563433048e-07, 3.879480998503387e-07]\n",
      "Optimization restart 1/10, f = 65.01538264681304\n",
      "Optimization restart 2/10, f = 394.1673133676985\n",
      "Optimization restart 3/10, f = 95.57222342681305\n",
      "Optimization restart 4/10, f = 140.55457308159166\n",
      "Optimization restart 5/10, f = 70.04944323068747\n",
      "Optimization restart 6/10, f = 91.83404939979263\n",
      "Optimization restart 7/10, f = 460.60303233259856\n",
      "Optimization restart 8/10, f = 398.3866909129083\n"
     ]
    },
    {
     "name": "stderr",
     "output_type": "stream",
     "text": [
      "reconstraining parameters GP_regression.Mat52.lengthscale\n",
      "reconstraining parameters GP_regression.Mat52.variance\n"
     ]
    },
    {
     "name": "stdout",
     "output_type": "stream",
     "text": [
      "Optimization restart 9/10, f = 1991269738.954743\n",
      "Optimization restart 10/10, f = 382.09116256009565\n"
     ]
    },
    {
     "name": "stderr",
     "output_type": "stream",
     "text": [
      "reconstraining parameters GP_regression.Gaussian_noise.variance\n"
     ]
    },
    {
     "name": "stdout",
     "output_type": "stream",
     "text": [
      "Optimization restart 1/10, f = 20.768739673212806\n",
      "Optimization restart 2/10, f = 23.237388826156085\n",
      "Optimization restart 3/10, f = 22.548433343768018\n",
      "Optimization restart 4/10, f = 410.20187916981854\n",
      "Optimization restart 5/10, f = 351.3908476832826\n",
      "Optimization restart 6/10, f = 64.65223761195098\n",
      "Optimization restart 7/10, f = 30.73704343905839\n",
      "Optimization restart 8/10, f = 34.69860505970823\n",
      "Optimization restart 9/10, f = 74.90728464706672\n",
      "Optimization restart 10/10, f = 26.130773854313816\n",
      "(4_w,9)-aCMA-ES (mu_w=2.8,w_1=49%) in dimension 6 (seed=493275, Tue Aug 25 19:03:59 2020)\n",
      "Iterat #Fevals   function value  axis ratio  sigma  min&max std  t[m:s]\n",
      "    1      9 -0.000000000000000e+00 1.0e+00 2.75e-01  3e-01  3e-01 0:00.6\n",
      "    2     18 -0.000000000000000e+00 1.3e+00 3.10e-01  3e-01  4e-01 0:01.2\n",
      "    3     27 -1.077318067324029e-04 1.5e+00 3.56e-01  3e-01  5e-01 0:01.8\n",
      "    8     72 -1.323063843119598e-02 2.1e+00 3.89e-01  3e-01  5e-01 0:05.3\n",
      "   13    117 -1.532126411033330e-02 2.5e+00 2.89e-01  1e-01  3e-01 0:10.2\n",
      "   18    162 -3.133338778219130e-02 3.2e+00 1.99e-01  8e-02  2e-01 0:16.0\n",
      "   25    225 -7.295235673746436e-02 5.0e+00 2.50e-01  9e-02  4e-01 0:22.8\n",
      "   35    315 -9.510059092986101e-02 7.1e+00 2.69e-01  7e-02  5e-01 0:30.5\n",
      "   45    405 -1.125017391315093e-01 6.6e+00 1.93e-01  5e-02  3e-01 0:39.1\n",
      "   54    486 -1.183711275763057e-01 6.6e+00 1.87e-01  4e-02  2e-01 0:48.8\n",
      "   66    594 -1.217458400306106e-01 8.9e+00 1.62e-01  2e-02  2e-01 0:59.1\n",
      "   75    675 -1.225099876698907e-01 8.6e+00 7.82e-02  9e-03  7e-02 1:10.2\n",
      "   86    774 -1.225720144843510e-01 9.5e+00 2.25e-02  2e-03  2e-02 1:22.3\n",
      "  100    900 -1.225737868271590e-01 8.9e+00 5.70e-03  4e-04  3e-03 1:35.9\n",
      "  114   1026 -1.225739214044732e-01 8.5e+00 2.50e-03  1e-04  1e-03 1:50.0\n",
      "  131   1179 -1.225739345040755e-01 1.2e+01 7.68e-04  3e-05  2e-04 2:05.2\n",
      "  151   1359 -1.225739353698141e-01 1.1e+01 8.29e-05  2e-06  2e-05 2:21.2\n",
      "  169   1521 -1.225739353749207e-01 9.6e+00 1.80e-05  3e-07  2e-06 2:38.8\n",
      "  177   1593 -1.225739353750548e-01 9.9e+00 7.17e-06  1e-07  8e-07 2:45.1\n"
     ]
    },
    {
     "name": "stderr",
     "output_type": "stream",
     "text": [
      "reconstraining parameters GP_regression.Mat52.lengthscale\n",
      "reconstraining parameters GP_regression.Mat52.variance\n",
      "reconstraining parameters GP_regression.Gaussian_noise.variance\n"
     ]
    },
    {
     "name": "stdout",
     "output_type": "stream",
     "text": [
      "termination on tolfun=1e-11 (Tue Aug 25 19:06:45 2020)\n",
      "final/bestever f-value = -1.225739e-01 -1.225739e-01\n",
      "incumbent solution: [1.9999999999999987, 0.16736918257254696, 2.226911068728696, 4.192321641800662, 4.861723920931837, 6.334484197828638]\n",
      "std deviation: [9.807587535070141e-08, 9.527475680225139e-08, 1.4266651730650828e-07, 3.918634606822904e-07, 8.255932785414816e-07, 5.545364793757016e-07]\n",
      "Optimization restart 1/10, f = 65.14452650633794\n",
      "Optimization restart 2/10, f = 69.90045022724004\n",
      "Optimization restart 3/10, f = 72.86251551719029\n",
      "Optimization restart 4/10, f = 71.04618623189893\n",
      "Optimization restart 5/10, f = 403.7126973988987\n",
      "Optimization restart 6/10, f = 303.33180420303313\n",
      "Optimization restart 7/10, f = 362.99028937839233\n",
      "Optimization restart 8/10, f = 134.35474152342255\n",
      "Optimization restart 9/10, f = 133.513903707993\n"
     ]
    },
    {
     "name": "stderr",
     "output_type": "stream",
     "text": [
      "reconstraining parameters GP_regression.Mat52.lengthscale\n",
      "reconstraining parameters GP_regression.Mat52.variance\n",
      "reconstraining parameters GP_regression.Gaussian_noise.variance\n"
     ]
    },
    {
     "name": "stdout",
     "output_type": "stream",
     "text": [
      "Optimization restart 10/10, f = 120.88330582638007\n",
      "Optimization restart 1/10, f = 18.37437390639925\n",
      "Optimization restart 2/10, f = 60.44115993108109\n",
      "Optimization restart 3/10, f = 420.5673418053435\n",
      "Optimization restart 4/10, f = 80.01642213494969\n",
      "Optimization restart 5/10, f = 24.28101624300419\n",
      "Optimization restart 6/10, f = 23.182008914304582\n",
      "Optimization restart 7/10, f = 422.94208652917877\n",
      "Optimization restart 8/10, f = 444.9473144691319\n",
      "Optimization restart 9/10, f = 432.82852101895287\n",
      "Optimization restart 10/10, f = 24.351249982157398\n",
      "(4_w,9)-aCMA-ES (mu_w=2.8,w_1=49%) in dimension 6 (seed=496729, Tue Aug 25 19:06:49 2020)\n",
      "Iterat #Fevals   function value  axis ratio  sigma  min&max std  t[m:s]\n",
      "    1      9 -3.382779833142902e-02 1.0e+00 2.36e-01  2e-01  2e-01 0:00.7\n",
      "    2     18 -1.150908456780662e-01 1.3e+00 2.36e-01  2e-01  2e-01 0:01.5\n",
      "    3     27 -9.568811258047516e-02 1.3e+00 2.22e-01  2e-01  2e-01 0:02.3\n",
      "    7     63 -1.227643229858297e-01 1.7e+00 1.98e-01  2e-01  2e-01 0:05.8\n",
      "   10     90 -1.192845239658422e-01 1.9e+00 1.71e-01  1e-01  2e-01 0:10.5\n",
      "   16    144 -1.341244968257400e-01 2.7e+00 1.35e-01  7e-02  1e-01 0:15.7\n",
      "   24    216 -1.551662248891126e-01 5.3e+00 1.91e-01  6e-02  3e-01 0:22.4\n",
      "   33    297 -1.629385642263808e-01 8.2e+00 1.26e-01  2e-02  2e-01 0:29.6\n",
      "   44    396 -1.808437048507026e-01 8.1e+00 3.33e-01  5e-02  4e-01 0:38.4\n",
      "   56    504 -2.008990793350085e-01 1.3e+01 2.13e-01  2e-02  3e-01 0:47.8\n",
      "   65    585 -2.059836637315273e-01 2.0e+01 1.38e-01  1e-02  2e-01 0:58.4\n",
      "   75    675 -2.068528964591949e-01 2.0e+01 1.01e-01  6e-03  1e-01 1:09.6\n",
      "   87    783 -2.069798028869965e-01 2.3e+01 5.73e-02  2e-03  5e-02 1:23.0\n",
      "   99    891 -2.069892650845517e-01 2.2e+01 2.47e-02  8e-04  2e-02 1:36.4\n",
      "  100    900 -2.069930317576869e-01 2.1e+01 2.05e-02  7e-04  1e-02 1:37.2\n",
      "  118   1062 -2.069945906594546e-01 2.1e+01 4.61e-03  1e-04  2e-03 1:52.9\n",
      "  136   1224 -2.069946616538894e-01 2.2e+01 1.18e-03  2e-05  4e-04 2:09.0\n",
      "  157   1413 -2.069946628622530e-01 2.9e+01 2.65e-04  2e-06  6e-05 2:26.5\n",
      "  175   1575 -2.069946628837482e-01 3.1e+01 6.73e-05  4e-07  1e-05 2:45.2\n",
      "  191   1719 -2.069946628848811e-01 3.6e+01 1.39e-05  5e-08  2e-06 3:00.8\n"
     ]
    },
    {
     "name": "stderr",
     "output_type": "stream",
     "text": [
      "reconstraining parameters GP_regression.Mat52.lengthscale\n",
      "reconstraining parameters GP_regression.Mat52.variance\n",
      "reconstraining parameters GP_regression.Gaussian_noise.variance\n"
     ]
    },
    {
     "name": "stdout",
     "output_type": "stream",
     "text": [
      "termination on tolfun=1e-11 (Tue Aug 25 19:09:50 2020)\n",
      "final/bestever f-value = -2.069947e-01 -2.069947e-01\n",
      "incumbent solution: [0.58789716255413, 3.5247161071784084e-14, 4.474259377880822, 5.911052363511852, 0.6303390940995355, 5.406555068254339]\n",
      "std deviation: [5.070332580735472e-08, 1.1400695244744903e-07, 2.9173539523690025e-07, 6.606424644530355e-07, 1.7307234872197557e-06, 9.310527956533938e-07]\n",
      "Optimization restart 1/10, f = 65.85810777815104\n",
      "Optimization restart 2/10, f = 399.76588066420913\n",
      "Optimization restart 3/10, f = 390.1149071941763\n",
      "Optimization restart 4/10, f = 389.72105673300143\n",
      "Optimization restart 5/10, f = 352.18644062278264\n",
      "Optimization restart 6/10, f = 444.85616432260485\n",
      "Optimization restart 7/10, f = 402.15416226583585\n",
      "Optimization restart 8/10, f = 68.982227836611\n"
     ]
    },
    {
     "name": "stderr",
     "output_type": "stream",
     "text": [
      "reconstraining parameters GP_regression.Mat52.lengthscale\n",
      "reconstraining parameters GP_regression.Mat52.variance\n",
      "reconstraining parameters GP_regression.Gaussian_noise.variance\n"
     ]
    },
    {
     "name": "stdout",
     "output_type": "stream",
     "text": [
      "Optimization restart 9/10, f = 71.446328324887\n",
      "Optimization restart 10/10, f = 100.74463585753227\n",
      "Optimization restart 1/10, f = 18.730726914723405\n",
      "Optimization restart 2/10, f = 29.91652464153435\n",
      "Optimization restart 3/10, f = 29.916524545829276\n",
      "Optimization restart 4/10, f = 42.9266823643627\n",
      "Optimization restart 5/10, f = 18.73072694221043\n",
      "Optimization restart 6/10, f = 72.88377480550983\n",
      "Optimization restart 7/10, f = 25.117476605999578\n",
      "Optimization restart 8/10, f = 428.98915274735845\n",
      "Optimization restart 9/10, f = 387.7614121111566\n",
      "Optimization restart 10/10, f = 302.4627722082072\n",
      "(4_w,9)-aCMA-ES (mu_w=2.8,w_1=49%) in dimension 6 (seed=477844, Tue Aug 25 19:10:00 2020)\n",
      "Iterat #Fevals   function value  axis ratio  sigma  min&max std  t[m:s]\n",
      "    1      9 1.243603737299650e+00 1.0e+00 2.39e-01  2e-01  2e-01 0:00.6\n",
      "    2     18 1.257585527514874e+00 1.3e+00 2.00e-01  2e-01  2e-01 0:01.2\n",
      "    3     27 1.208688637676838e+00 1.3e+00 1.93e-01  2e-01  2e-01 0:01.9\n",
      "    9     81 -0.000000000000000e+00 1.7e+00 2.50e-01  2e-01  3e-01 0:05.5\n",
      "   15    135 -2.162610520785258e-02 3.1e+00 2.71e-01  1e-01  3e-01 0:10.3\n",
      "   21    189 -4.609024998590705e-02 3.8e+00 2.65e-01  1e-01  3e-01 0:15.5\n",
      "   28    252 -8.257612172968498e-02 4.9e+00 2.79e-01  8e-02  3e-01 0:21.8\n",
      "   34    306 -1.066873314117776e-01 6.2e+00 2.28e-01  5e-02  3e-01 0:29.8\n",
      "   43    387 -1.382234988895217e-01 8.5e+00 3.30e-01  5e-02  4e-01 0:38.2\n",
      "   54    486 -1.750628804479990e-01 1.4e+01 4.72e-01  5e-02  6e-01 0:47.3\n",
      "   67    603 -1.917825093419969e-01 1.8e+01 1.51e-01  1e-02  2e-01 0:57.6\n",
      "   80    720 -1.929183243017127e-01 1.6e+01 5.66e-02  3e-03  4e-02 1:08.7\n",
      "   95    855 -1.930458851034444e-01 2.0e+01 1.85e-02  6e-04  1e-02 1:20.8\n",
      "  100    900 -1.930484166646189e-01 2.0e+01 1.26e-02  4e-04  8e-03 1:24.7\n",
      "  118   1062 -1.930494528431868e-01 3.1e+01 2.70e-03  5e-05  1e-03 1:38.8\n",
      "  137   1233 -1.930494801203655e-01 3.2e+01 6.31e-04  8e-06  3e-04 1:54.5\n",
      "  153   1377 -1.930494811021397e-01 2.9e+01 2.61e-04  3e-06  8e-05 2:10.7\n",
      "  171   1539 -1.930494811511982e-01 3.1e+01 5.45e-05  4e-07  1e-05 2:28.4\n",
      "  189   1701 -1.930494811530785e-01 2.8e+01 1.58e-05  7e-08  2e-06 2:46.6\n",
      "  193   1737 -1.930494811530630e-01 2.9e+01 1.24e-05  5e-08  1e-06 2:49.9\n"
     ]
    },
    {
     "name": "stderr",
     "output_type": "stream",
     "text": [
      "reconstraining parameters GP_regression.Mat52.lengthscale\n",
      "reconstraining parameters GP_regression.Mat52.variance\n"
     ]
    },
    {
     "name": "stdout",
     "output_type": "stream",
     "text": [
      "termination on tolfun=1e-11 (Tue Aug 25 19:12:50 2020)\n",
      "final/bestever f-value = -1.930495e-01 -1.930495e-01\n",
      "incumbent solution: [1.7132228546535324, 2.2130175561770065, 2.9049243247517444, 3.960476278563534, 0.9903721997872544, 3.7814469381806566]\n",
      "std deviation: [5.0088684992630186e-08, 1.438996747352123e-07, 2.655590894599109e-07, 8.871296045626635e-07, 1.375596318421982e-06, 7.980143205091752e-07]\n"
     ]
    },
    {
     "name": "stderr",
     "output_type": "stream",
     "text": [
      "reconstraining parameters GP_regression.Gaussian_noise.variance\n"
     ]
    },
    {
     "name": "stdout",
     "output_type": "stream",
     "text": [
      "Optimization restart 1/10, f = 67.67308446978069\n",
      "Optimization restart 2/10, f = 137.48238758816282\n",
      "Optimization restart 3/10, f = 93.20351976892772\n",
      "Optimization restart 4/10, f = 424.0108114589755\n",
      "Optimization restart 5/10, f = 72.079701679639\n",
      "Optimization restart 6/10, f = 480.62925112966815\n",
      "Optimization restart 7/10, f = 475.93378729616177\n",
      "Optimization restart 8/10, f = 415.915691430823\n",
      "Optimization restart 9/10, f = 102.16357439073643\n"
     ]
    },
    {
     "name": "stderr",
     "output_type": "stream",
     "text": [
      "reconstraining parameters GP_regression.Mat52.lengthscale\n",
      "reconstraining parameters GP_regression.Mat52.variance\n",
      "reconstraining parameters GP_regression.Gaussian_noise.variance\n"
     ]
    },
    {
     "name": "stdout",
     "output_type": "stream",
     "text": [
      "Optimization restart 10/10, f = 93.0539094108471\n",
      "Optimization restart 1/10, f = 19.428177603356332\n",
      "Optimization restart 2/10, f = 73.16021921084521\n",
      "Optimization restart 3/10, f = 279.94519129839586\n",
      "Optimization restart 4/10, f = 63.09622904827767\n",
      "Optimization restart 5/10, f = 423.0474634217667\n",
      "Optimization restart 6/10, f = 95.21543430282478\n",
      "Optimization restart 7/10, f = 345.4490594988217\n",
      "Optimization restart 8/10, f = 91.48505578855043\n",
      "Optimization restart 9/10, f = 364.4224737448391\n",
      "Optimization restart 10/10, f = 359.9350047446564\n",
      "(4_w,9)-aCMA-ES (mu_w=2.8,w_1=49%) in dimension 6 (seed=493454, Tue Aug 25 19:12:54 2020)\n",
      "Iterat #Fevals   function value  axis ratio  sigma  min&max std  t[m:s]\n",
      "    1      9 1.194599877446940e+00 1.0e+00 2.99e-01  3e-01  3e-01 0:00.5\n",
      "    2     18 1.016875117631304e+00 1.3e+00 3.68e-01  3e-01  4e-01 0:01.1\n",
      "    3     27 1.126461263942767e+00 1.3e+00 3.87e-01  4e-01  4e-01 0:01.7\n",
      "    9     81 9.251632862654509e-01 1.7e+00 3.36e-01  2e-01  4e-01 0:05.0\n",
      "   16    144 9.005462283943420e-01 2.6e+00 2.24e-01  1e-01  2e-01 0:09.2\n",
      "   25    225 6.730553607520862e-01 5.7e+00 4.72e-01  1e-01  6e-01 0:14.3\n",
      "   36    324 6.181459912623917e-01 8.0e+00 2.41e-01  4e-02  3e-01 0:20.5\n",
      "   49    441 5.888849750676095e-01 1.3e+01 1.91e-01  2e-02  3e-01 0:27.9\n",
      "   64    576 4.199351741875204e-01 2.7e+01 6.61e-01  6e-02  2e+00 0:36.4\n",
      "   81    729 3.639849555823229e-01 2.5e+01 1.61e-01  1e-02  2e-01 0:45.8\n",
      "   99    891 3.621677859690320e-01 1.7e+01 2.80e-02  1e-03  2e-02 0:55.9\n",
      "  100    900 3.621692113950197e-01 1.6e+01 2.50e-02  1e-03  2e-02 0:56.4\n",
      "  122   1098 3.621342908746981e-01 1.3e+01 2.81e-03  7e-05  1e-03 1:09.0\n",
      "  146   1314 3.621341989732665e-01 1.3e+01 2.19e-04  4e-06  4e-05 1:22.4\n",
      "  171   1539 3.621341988310367e-01 1.5e+01 1.93e-05  2e-07  2e-06 1:36.4\n",
      "  189   1701 3.621341988303195e-01 9.1e+00 4.48e-06  3e-08  3e-07 1:46.7\n"
     ]
    },
    {
     "name": "stderr",
     "output_type": "stream",
     "text": [
      "reconstraining parameters GP_regression.Mat52.lengthscale\n",
      "reconstraining parameters GP_regression.Mat52.variance\n",
      "reconstraining parameters GP_regression.Gaussian_noise.variance\n"
     ]
    },
    {
     "name": "stdout",
     "output_type": "stream",
     "text": [
      "termination on tolfun=1e-11 (Tue Aug 25 19:14:41 2020)\n",
      "final/bestever f-value = 3.621342e-01 3.621342e-01\n",
      "incumbent solution: [2.7895909495413956e-15, 3.9999999999999996, 5.2833044394677815, 2.4250922221216205e-14, 1.5749850604962946e-14, 2.617313265837789e-14]\n",
      "std deviation: [3.269881044624778e-08, 5.3958461907342465e-08, 2.1393357917497633e-07, 7.448102389295307e-08, 2.707917996310136e-07, 2.205040656647077e-07]\n",
      "Optimization restart 1/10, f = 67.99075418415406\n",
      "Optimization restart 2/10, f = 487.304657395358\n",
      "Optimization restart 3/10, f = 71.9954900562312\n",
      "Optimization restart 4/10, f = 487.304657395358\n",
      "Optimization restart 5/10, f = 68.82043944039083\n",
      "Optimization restart 6/10, f = 136.92109601568208\n",
      "Optimization restart 7/10, f = 487.304657395358\n",
      "Optimization restart 8/10, f = 483.33556855483323\n"
     ]
    },
    {
     "name": "stderr",
     "output_type": "stream",
     "text": [
      "reconstraining parameters GP_regression.Mat52.lengthscale\n",
      "reconstraining parameters GP_regression.Mat52.variance\n",
      "reconstraining parameters GP_regression.Gaussian_noise.variance\n"
     ]
    },
    {
     "name": "stdout",
     "output_type": "stream",
     "text": [
      "Optimization restart 9/10, f = 70.95771464671897\n",
      "Optimization restart 10/10, f = 3630.8733298377006\n",
      "Optimization restart 1/10, f = 17.24831414208593\n",
      "Optimization restart 2/10, f = 17.514303918768995\n",
      "Optimization restart 3/10, f = 56.28341873865586\n",
      "Optimization restart 4/10, f = 353.53386116161454\n",
      "Optimization restart 5/10, f = 476.8056606281889\n",
      "Optimization restart 6/10, f = 487.30460977123784\n",
      "Optimization restart 7/10, f = 419.81298645955\n",
      "Optimization restart 8/10, f = 74.42406820233035\n",
      "Optimization restart 9/10, f = 62.14074637794713\n",
      "Optimization restart 10/10, f = 431.65309439067335\n",
      "(4_w,9)-aCMA-ES (mu_w=2.8,w_1=49%) in dimension 6 (seed=480357, Tue Aug 25 19:14:44 2020)\n",
      "Iterat #Fevals   function value  axis ratio  sigma  min&max std  t[m:s]\n",
      "    1      9 -0.000000000000000e+00 1.0e+00 2.40e-01  2e-01  2e-01 0:00.6\n",
      "    2     18 -0.000000000000000e+00 1.2e+00 2.25e-01  2e-01  2e-01 0:01.3\n",
      "    3     27 -0.000000000000000e+00 1.3e+00 2.04e-01  2e-01  2e-01 0:01.9\n",
      "    8     72 -0.000000000000000e+00 2.2e+00 2.00e-01  1e-01  3e-01 0:05.1\n",
      "   14    126 -4.357316167959979e-03 4.5e+00 2.89e-01  1e-01  5e-01 0:09.6\n",
      "   21    189 -2.976511852057451e-02 6.9e+00 2.64e-01  8e-02  4e-01 0:15.3\n",
      "   29    261 -4.739570424121320e-02 8.0e+00 1.74e-01  3e-02  3e-01 0:22.0\n",
      "   38    342 -5.116712590442285e-02 1.3e+01 1.50e-01  2e-02  2e-01 0:29.4\n",
      "   48    432 -5.457284132648610e-02 1.5e+01 1.10e-01  1e-02  1e-01 0:37.7\n",
      "   59    531 -5.526330088449072e-02 2.0e+01 1.06e-01  6e-03  1e-01 0:46.8\n",
      "   71    639 -5.582270069903084e-02 2.9e+01 5.18e-02  2e-03  6e-02 0:56.8\n",
      "   85    765 -5.585957159829169e-02 3.8e+01 2.07e-02  6e-04  2e-02 1:08.4\n",
      "  100    900 -5.586133276395433e-02 3.7e+01 5.20e-03  1e-04  4e-03 1:20.9\n",
      "  116   1044 -5.586148039187933e-02 3.6e+01 1.05e-03  2e-05  5e-04 1:34.3\n",
      "  133   1197 -5.586148100486854e-02 4.7e+01 1.32e-04  1e-06  5e-05 1:48.5\n",
      "  152   1368 -5.586148101468869e-02 3.5e+01 3.40e-05  3e-07  8e-06 2:04.1\n",
      "  168   1512 -5.586148101513277e-02 5.1e+01 9.04e-06  5e-08  2e-06 2:17.5\n"
     ]
    },
    {
     "name": "stderr",
     "output_type": "stream",
     "text": [
      "reconstraining parameters GP_regression.Mat52.lengthscale\n",
      "reconstraining parameters GP_regression.Mat52.variance\n",
      "reconstraining parameters GP_regression.Gaussian_noise.variance\n"
     ]
    },
    {
     "name": "stdout",
     "output_type": "stream",
     "text": [
      "termination on tolfun=1e-11 (Tue Aug 25 19:17:02 2020)\n",
      "final/bestever f-value = -5.586148e-02 -5.586148e-02\n",
      "incumbent solution: [1.6032496144055464, 2.191442298044781, 3.615618485875048, 3.105050435993767, 2.889613895705064, 2.914862294416647]\n",
      "std deviation: [4.615165668878969e-08, 1.6114718992125146e-07, 2.0340843427132927e-07, 7.105877798102814e-07, 1.613052677273667e-06, 5.582813050098339e-07]\n",
      "Optimization restart 1/10, f = 67.54234277246255\n",
      "Optimization restart 2/10, f = 73.82463983231015\n",
      "Optimization restart 3/10, f = 409.6241663135985\n",
      "Optimization restart 4/10, f = 389.5080755192272\n",
      "Optimization restart 5/10, f = 105.00144868004162\n",
      "Optimization restart 6/10, f = 430.15393873198826\n",
      "Optimization restart 7/10, f = 120.86920732877192\n",
      "Optimization restart 8/10, f = 131.4960333354814\n"
     ]
    },
    {
     "name": "stderr",
     "output_type": "stream",
     "text": [
      "reconstraining parameters GP_regression.Mat52.lengthscale\n",
      "reconstraining parameters GP_regression.Mat52.variance\n",
      "reconstraining parameters GP_regression.Gaussian_noise.variance\n"
     ]
    },
    {
     "name": "stdout",
     "output_type": "stream",
     "text": [
      "Optimization restart 9/10, f = 67.0101834883265\n",
      "Optimization restart 10/10, f = 440.17048654504913\n",
      "Optimization restart 1/10, f = 16.0257836279905\n",
      "Optimization restart 2/10, f = 83.70297758626492\n",
      "Optimization restart 3/10, f = 56.6325174978172\n",
      "Optimization restart 4/10, f = 17.223290815155494\n",
      "Optimization restart 5/10, f = 359.40825513403405\n",
      "Optimization restart 6/10, f = 24.4251633820053\n",
      "Optimization restart 7/10, f = 64.99548408577363\n",
      "Optimization restart 8/10, f = 433.4880006901523\n",
      "Optimization restart 9/10, f = 101.57865762002254\n",
      "Optimization restart 10/10, f = 431.03078621150735\n",
      "(4_w,9)-aCMA-ES (mu_w=2.8,w_1=49%) in dimension 6 (seed=460881, Tue Aug 25 19:17:06 2020)\n",
      "Iterat #Fevals   function value  axis ratio  sigma  min&max std  t[m:s]\n",
      "    1      9 1.207140549415646e+00 1.0e+00 2.39e-01  2e-01  3e-01 0:00.6\n",
      "    2     18 1.184782524184846e+00 1.2e+00 2.39e-01  2e-01  3e-01 0:01.2\n",
      "    3     27 1.199948538194982e+00 1.4e+00 2.80e-01  2e-01  4e-01 0:01.7\n",
      "    8     72 -2.690226108514171e-02 2.6e+00 6.27e-01  6e-01  9e-01 0:05.0\n",
      "   14    126 -1.634458052526044e-02 2.7e+00 6.16e-01  4e-01  8e-01 0:09.5\n",
      "   21    189 -3.592884959049591e-02 3.7e+00 5.44e-01  3e-01  8e-01 0:15.1\n",
      "   29    261 -3.759174654676523e-02 5.4e+00 3.30e-01  1e-01  4e-01 0:21.7\n",
      "   38    342 -5.409791115826401e-02 6.6e+00 1.82e-01  3e-02  2e-01 0:29.2\n",
      "   48    432 -6.218169006176399e-02 1.1e+01 2.92e-01  4e-02  4e-01 0:37.8\n",
      "   59    531 -7.594996102955198e-02 1.6e+01 2.96e-01  3e-02  4e-01 0:47.1\n",
      "   71    639 -8.027089728206782e-02 2.6e+01 2.39e-01  1e-02  4e-01 0:57.4\n",
      "   84    756 -8.092572419467237e-02 3.0e+01 9.10e-02  3e-03  1e-01 1:08.6\n",
      "   99    891 -8.096419561635004e-02 3.4e+01 2.67e-02  7e-04  2e-02 1:21.3\n",
      "  100    900 -8.096273661398978e-02 3.5e+01 2.28e-02  6e-04  2e-02 1:22.1\n",
      "  117   1053 -8.096517609088982e-02 5.1e+01 6.02e-03  1e-04  6e-03 1:36.6\n",
      "  135   1215 -8.096525525157539e-02 6.1e+01 2.95e-03  4e-05  2e-03 1:51.7\n",
      "  155   1395 -8.096525941412480e-02 6.1e+01 7.53e-04  8e-06  4e-04 2:08.4\n",
      "  176   1584 -8.096525970803814e-02 6.3e+01 9.87e-05  6e-07  3e-05 2:25.8\n",
      "  198   1782 -8.096525971069513e-02 5.5e+01 1.60e-05  6e-08  3e-06 2:44.0\n",
      "  199   1791 -8.096525971069068e-02 5.6e+01 1.61e-05  7e-08  3e-06 2:44.9\n"
     ]
    },
    {
     "name": "stderr",
     "output_type": "stream",
     "text": [
      "reconstraining parameters GP_regression.Mat52.lengthscale\n",
      "reconstraining parameters GP_regression.Mat52.variance\n",
      "reconstraining parameters GP_regression.Gaussian_noise.variance\n"
     ]
    },
    {
     "name": "stdout",
     "output_type": "stream",
     "text": [
      "termination on tolfun=1e-11 (Tue Aug 25 19:19:51 2020)\n",
      "final/bestever f-value = -8.096526e-02 -8.096526e-02\n",
      "incumbent solution: [0.5574555505963281, 1.0266180655968023e-14, 0.37985150534890605, 7.999999999992035, 4.540251168354443, 2.9492870085060594]\n",
      "std deviation: [6.678923202321082e-08, 8.357057801575105e-08, 3.138450361561373e-07, 3.1740777366871084e-06, 1.8332693229221266e-06, 8.010907260281046e-07]\n",
      "Optimization restart 1/10, f = 69.04588201319064\n",
      "Optimization restart 2/10, f = 104.99907247209097\n",
      "Optimization restart 3/10, f = 428.4936864281759\n",
      "Optimization restart 4/10, f = 428.89987375898716\n",
      "Optimization restart 5/10, f = 15581150.71954748\n",
      "Optimization restart 6/10, f = 485.917425373995\n",
      "Optimization restart 7/10, f = 69.65702280430014\n",
      "Optimization restart 8/10, f = 2135601691.8748612\n",
      "Optimization restart 9/10, f = 145.57646717315455\n"
     ]
    },
    {
     "name": "stderr",
     "output_type": "stream",
     "text": [
      "reconstraining parameters GP_regression.Mat52.lengthscale\n",
      "reconstraining parameters GP_regression.Mat52.variance\n",
      "reconstraining parameters GP_regression.Gaussian_noise.variance\n"
     ]
    },
    {
     "name": "stdout",
     "output_type": "stream",
     "text": [
      "Optimization restart 10/10, f = 74.57462217147628\n",
      "Optimization restart 1/10, f = 16.38188604635701\n",
      "Optimization restart 2/10, f = 248.9686490133995\n",
      "Optimization restart 3/10, f = 28.227109717013022\n",
      "Optimization restart 4/10, f = 106.42038999035044\n",
      "Optimization restart 5/10, f = 500.6554699267376\n",
      "Optimization restart 6/10, f = 500.6554699267376\n",
      "Optimization restart 7/10, f = 88.23079548838862\n",
      "Optimization restart 8/10, f = 26.58449530306357\n",
      "Optimization restart 9/10, f = 28.227109711542568\n",
      "Optimization restart 10/10, f = 106.42038999035044\n",
      "(4_w,9)-aCMA-ES (mu_w=2.8,w_1=49%) in dimension 6 (seed=467107, Tue Aug 25 19:19:55 2020)\n",
      "Iterat #Fevals   function value  axis ratio  sigma  min&max std  t[m:s]\n",
      "    1      9 6.609903606613414e-01 1.0e+00 2.23e-01  2e-01  2e-01 0:00.6\n",
      "    2     18 7.324839420592595e-01 1.3e+00 2.10e-01  2e-01  2e-01 0:01.2\n",
      "    3     27 6.779901591539697e-01 1.3e+00 2.30e-01  2e-01  3e-01 0:01.9\n",
      "    8     72 6.261498533288137e-01 2.5e+00 2.46e-01  1e-01  3e-01 0:04.9\n",
      "   15    135 -0.000000000000000e+00 4.7e+00 2.61e-01  1e-01  4e-01 0:09.2\n"
     ]
    },
    {
     "name": "stderr",
     "output_type": "stream",
     "text": [
      " /home/finley/miniconda3/envs/testsuite/lib/python3.8/site-packages/cma/utilities/utils.py:329: UserWarning:flat fitness (f=-0.000000, sigma=1.72e-01).\n",
      "                    For small sigma, this could indicate numerical convergence.\n",
      "                    Otherwise, please (re)consider how to compute the fitness more elaborately. (iteration=20)\n",
      " /home/finley/miniconda3/envs/testsuite/lib/python3.8/site-packages/cma/utilities/utils.py:329: UserWarning:flat fitness (f=-0.000000, sigma=1.67e-01).\n",
      "                    For small sigma, this could indicate numerical convergence.\n",
      "                    Otherwise, please (re)consider how to compute the fitness more elaborately. (iteration=21)\n"
     ]
    },
    {
     "name": "stdout",
     "output_type": "stream",
     "text": [
      "   22    198 -0.000000000000000e+00 6.1e+00 1.72e-01  5e-02  2e-01 0:14.6\n"
     ]
    },
    {
     "name": "stderr",
     "output_type": "stream",
     "text": [
      " /home/finley/miniconda3/envs/testsuite/lib/python3.8/site-packages/cma/utilities/utils.py:329: UserWarning:flat fitness (f=-0.000000, sigma=1.57e-01).\n",
      "                    For small sigma, this could indicate numerical convergence.\n",
      "                    Otherwise, please (re)consider how to compute the fitness more elaborately. (iteration=26)\n"
     ]
    },
    {
     "name": "stdout",
     "output_type": "stream",
     "text": [
      "   30    270 -0.000000000000000e+00 7.9e+00 1.57e-01  4e-02  2e-01 0:20.8\n"
     ]
    },
    {
     "name": "stderr",
     "output_type": "stream",
     "text": [
      " /home/finley/miniconda3/envs/testsuite/lib/python3.8/site-packages/cma/utilities/utils.py:329: UserWarning:flat fitness (f=-0.000000, sigma=1.69e-01).\n",
      "                    For small sigma, this could indicate numerical convergence.\n",
      "                    Otherwise, please (re)consider how to compute the fitness more elaborately. (iteration=33)\n",
      " /home/finley/miniconda3/envs/testsuite/lib/python3.8/site-packages/cma/utilities/utils.py:329: UserWarning:flat fitness (f=-0.000000, sigma=1.88e-01).\n",
      "                    For small sigma, this could indicate numerical convergence.\n",
      "                    Otherwise, please (re)consider how to compute the fitness more elaborately. (iteration=36)\n",
      " /home/finley/miniconda3/envs/testsuite/lib/python3.8/site-packages/cma/utilities/utils.py:329: UserWarning:flat fitness (f=-0.000000, sigma=1.88e-01).\n",
      "                    For small sigma, this could indicate numerical convergence.\n",
      "                    Otherwise, please (re)consider how to compute the fitness more elaborately. (iteration=37)\n"
     ]
    },
    {
     "name": "stdout",
     "output_type": "stream",
     "text": [
      "   39    351 -0.000000000000000e+00 1.6e+01 1.96e-01  4e-02  4e-01 0:28.2\n",
      "   41    369 -0.000000000000000e+00 1.7e+01 2.07e-01  4e-02  4e-01 0:29.8\n"
     ]
    },
    {
     "name": "stderr",
     "output_type": "stream",
     "text": [
      " /home/finley/miniconda3/envs/testsuite/lib/python3.8/site-packages/cma/utilities/utils.py:329: UserWarning:flat fitness (f=-0.000000, sigma=2.07e-01).\n",
      "                    For small sigma, this could indicate numerical convergence.\n",
      "                    Otherwise, please (re)consider how to compute the fitness more elaborately. (iteration=41)\n",
      "reconstraining parameters GP_regression.Mat52.lengthscale\n",
      "reconstraining parameters GP_regression.Mat52.variance\n",
      "reconstraining parameters GP_regression.Gaussian_noise.variance\n"
     ]
    },
    {
     "name": "stdout",
     "output_type": "stream",
     "text": [
      "termination on tolfun=1e-11 (Tue Aug 25 19:20:25 2020)\n",
      "termination on tolfunhist=1e-12 (Tue Aug 25 19:20:25 2020)\n",
      "termination on flat fitness=please (re)consider how to compute the fitness more elaborately if sigma=2.07e-01 is large (Tue Aug 25 19:20:25 2020)\n",
      "final/bestever f-value = -0.000000e+00 -0.000000e+00\n",
      "incumbent solution: [1.6231289748966844, 1.8946781499902572, 3.464516716028274, 1.599076344125637, 6.319394227110614, 5.024808511967915]\n",
      "std deviation: [0.03882969065071281, 0.11966645692288524, 0.16573488785878776, 0.21554469899534265, 0.25184208819763504, 0.3971060499409073]\n",
      "Optimization restart 1/10, f = 69.91115396308263\n",
      "Optimization restart 2/10, f = 449.80632797562737\n",
      "Optimization restart 3/10, f = 140.75348312947725\n",
      "Optimization restart 4/10, f = 107.83932852390974\n",
      "Optimization restart 5/10, f = 143.72802388240206\n",
      "Optimization restart 6/10, f = 451.71774356145215\n",
      "Optimization restart 7/10, f = 75.8872261559554\n",
      "Optimization restart 8/10, f = 107.83932852355512\n",
      "Optimization restart 9/10, f = 498.18862862628964\n"
     ]
    },
    {
     "name": "stderr",
     "output_type": "stream",
     "text": [
      "reconstraining parameters GP_regression.Mat52.lengthscale\n",
      "reconstraining parameters GP_regression.Mat52.variance\n",
      "reconstraining parameters GP_regression.Gaussian_noise.variance\n"
     ]
    },
    {
     "name": "stdout",
     "output_type": "stream",
     "text": [
      "Optimization restart 10/10, f = 145.89216864040975\n",
      "Optimization restart 1/10, f = 16.641105122970288\n",
      "Optimization restart 2/10, f = 16.83559114087528\n",
      "Optimization restart 3/10, f = 3795836.1823456585\n",
      "Optimization restart 4/10, f = 64.0083157167997\n",
      "Optimization restart 5/10, f = 408.75129901686023\n",
      "Optimization restart 6/10, f = 56.80003361078233\n",
      "Optimization restart 7/10, f = 446.63947814165533\n",
      "Optimization restart 8/10, f = 26.981433125117327\n",
      "Optimization restart 9/10, f = 507.33087619242747\n",
      "Optimization restart 10/10, f = 1710327.4627500502\n",
      "(4_w,9)-aCMA-ES (mu_w=2.8,w_1=49%) in dimension 6 (seed=528842, Tue Aug 25 19:20:28 2020)\n",
      "Iterat #Fevals   function value  axis ratio  sigma  min&max std  t[m:s]\n",
      "    1      9 1.088410245982141e+00 1.0e+00 2.48e-01  2e-01  3e-01 0:00.6\n",
      "    2     18 1.049059089674527e+00 1.3e+00 2.39e-01  2e-01  2e-01 0:01.2\n",
      "    3     27 1.129944765093083e+00 1.4e+00 2.50e-01  2e-01  3e-01 0:01.8\n",
      "    8     72 7.705359063416344e-01 2.0e+00 1.76e-01  1e-01  2e-01 0:04.8\n",
      "   15    135 -2.179905335070487e-02 3.2e+00 4.96e-01  3e-01  7e-01 0:09.6\n",
      "   22    198 -5.227638143055868e-02 4.0e+00 3.06e-01  1e-01  3e-01 0:15.0\n",
      "   29    261 -6.308828373912645e-02 4.5e+00 2.03e-01  6e-02  2e-01 0:21.1\n",
      "   38    342 -6.636230863719250e-02 7.2e+00 1.05e-01  2e-02  1e-01 0:29.0\n",
      "   47    423 -7.558925918603343e-02 1.0e+01 1.56e-01  3e-02  2e-01 0:37.1\n",
      "   58    522 -9.331970664492495e-02 1.3e+01 2.26e-01  4e-02  3e-01 0:46.8\n",
      "   70    630 -1.054730913206203e-01 2.2e+01 3.27e-01  4e-02  7e-01 0:57.3\n",
      "   83    747 -1.083888047558528e-01 1.7e+01 1.35e-01  1e-02  2e-01 1:08.5\n",
      "   97    873 -1.090133588125606e-01 2.1e+01 5.20e-02  3e-03  5e-02 1:20.7\n",
      "  100    900 -1.090187990000024e-01 2.1e+01 4.94e-02  3e-03  5e-02 1:23.3\n",
      "  117   1053 -1.090350402859945e-01 2.1e+01 2.03e-02  9e-04  1e-02 1:38.1\n",
      "  135   1215 -1.090365350339852e-01 2.3e+01 3.92e-03  1e-04  2e-03 1:53.7\n",
      "  154   1386 -1.090365849036732e-01 2.7e+01 5.69e-04  1e-05  2e-04 2:10.1\n",
      "  173   1557 -1.090365854171402e-01 2.1e+01 1.89e-04  3e-06  4e-05 2:27.6\n",
      "  190   1710 -1.090365854431119e-01 2.2e+01 4.17e-05  4e-07  7e-06 2:45.9\n",
      "  200   1800 -1.090365854432811e-01 2.3e+01 1.87e-05  1e-07  2e-06 2:57.0\n",
      "  206   1854 -1.090365854433517e-01 2.2e+01 1.19e-05  7e-08  1e-06 3:06.6\n"
     ]
    },
    {
     "name": "stderr",
     "output_type": "stream",
     "text": [
      "reconstraining parameters GP_regression.Mat52.lengthscale\n"
     ]
    },
    {
     "name": "stdout",
     "output_type": "stream",
     "text": [
      "termination on tolfun=1e-11 (Tue Aug 25 19:23:35 2020)\n",
      "final/bestever f-value = -1.090366e-01 -1.090366e-01\n",
      "incumbent solution: [1.619356648774836, 0.3018505367712048, 2.3211284409851443, 4.387874577463258, 4.5890055577838185, 5.240796460902236]\n",
      "std deviation: [7.332084650146297e-08, 1.2542043608420086e-07, 8.331110709801827e-08, 6.994794384793364e-07, 1.361857570787501e-06, 4.2414715634441784e-07]\n"
     ]
    },
    {
     "name": "stderr",
     "output_type": "stream",
     "text": [
      "reconstraining parameters GP_regression.Mat52.variance\n",
      "reconstraining parameters GP_regression.Gaussian_noise.variance\n"
     ]
    },
    {
     "name": "stdout",
     "output_type": "stream",
     "text": [
      "Optimization restart 1/10, f = 69.95966014022946\n",
      "Optimization restart 2/10, f = 453.9654547661113\n",
      "Optimization restart 3/10, f = 432.23373241746464\n",
      "Optimization restart 4/10, f = 483.63644373691716\n",
      "Optimization restart 5/10, f = 457.3975746268486\n",
      "Optimization restart 6/10, f = 142.9077365687911\n",
      "Optimization restart 7/10, f = 439.1073169433969\n",
      "Optimization restart 8/10, f = 82.3931893289985\n",
      "Optimization restart 9/10, f = 76.84637310422436\n"
     ]
    },
    {
     "name": "stderr",
     "output_type": "stream",
     "text": [
      "reconstraining parameters GP_regression.Mat52.lengthscale\n"
     ]
    },
    {
     "name": "stdout",
     "output_type": "stream",
     "text": [
      "Optimization restart 10/10, f = 71.32046747532289\n"
     ]
    },
    {
     "name": "stderr",
     "output_type": "stream",
     "text": [
      "reconstraining parameters GP_regression.Mat52.variance\n",
      "reconstraining parameters GP_regression.Gaussian_noise.variance\n"
     ]
    },
    {
     "name": "stdout",
     "output_type": "stream",
     "text": [
      "Optimization restart 1/10, f = 15.364034092251195\n",
      "Optimization restart 2/10, f = 31.361884867529334\n",
      "Optimization restart 3/10, f = 89.50704267787349\n",
      "Optimization restart 4/10, f = 454.01527335686194\n",
      "Optimization restart 5/10, f = 63.610563871151626\n",
      "Optimization restart 6/10, f = 514.0062824581173\n",
      "Optimization restart 7/10, f = 17.248740385849544\n",
      "Optimization restart 8/10, f = 103.6929525750558\n",
      "Optimization restart 9/10, f = 86.78684812522448\n",
      "Optimization restart 10/10, f = 514.0062824581173\n",
      "(4_w,9)-aCMA-ES (mu_w=2.8,w_1=49%) in dimension 6 (seed=471970, Tue Aug 25 19:23:46 2020)\n",
      "Iterat #Fevals   function value  axis ratio  sigma  min&max std  t[m:s]\n",
      "    1      9 1.411475006293724e+00 1.0e+00 2.23e-01  2e-01  2e-01 0:00.8\n",
      "    2     18 1.261669039139893e+00 1.2e+00 2.23e-01  2e-01  2e-01 0:01.9\n",
      "    3     27 1.252885910442931e+00 1.4e+00 2.29e-01  2e-01  2e-01 0:02.9\n",
      "    6     54 1.256170101029577e+00 1.5e+00 1.88e-01  1e-01  2e-01 0:05.9\n",
      "   11     99 1.223085832177464e+00 2.5e+00 1.37e-01  8e-02  2e-01 0:10.4\n",
      "   16    144 1.051756966990148e+00 3.5e+00 2.48e-01  1e-01  4e-01 0:15.6\n",
      "   21    189 -0.000000000000000e+00 4.0e+00 3.58e-01  2e-01  5e-01 0:22.2\n",
      "   27    243 -0.000000000000000e+00 3.8e+00 3.46e-01  2e-01  4e-01 0:29.9\n",
      "   34    306 -0.000000000000000e+00 4.4e+00 3.51e-01  1e-01  4e-01 0:38.1\n",
      "   41    369 -0.000000000000000e+00 6.6e+00 3.31e-01  9e-02  4e-01 0:48.3\n",
      "   50    450 -3.981152801746823e-03 1.0e+01 1.46e-01  3e-02  2e-01 0:58.9\n",
      "   57    513 -8.751674916708030e-03 1.4e+01 1.89e-01  3e-02  2e-01 1:11.1\n",
      "   64    576 -1.287939095187962e-02 1.9e+01 3.07e-01  4e-02  3e-01 1:24.4\n",
      "   74    666 -1.962046524733951e-02 2.7e+01 3.18e-01  4e-02  4e-01 1:38.4\n",
      "   82    738 -3.052003005336745e-02 3.2e+01 7.69e-01  8e-02  1e+00 1:52.7\n",
      "   95    855 -3.568121805374336e-02 2.2e+01 4.96e-01  4e-02  4e-01 2:08.4\n",
      "  100    900 -3.996880896689969e-02 2.3e+01 3.32e-01  2e-02  3e-01 2:13.7\n",
      "  110    990 -4.058301978748080e-02 2.0e+01 2.20e-01  1e-02  1e-01 2:31.4\n",
      "  126   1134 -4.089627861878320e-02 2.4e+01 5.28e-02  2e-03  3e-02 2:49.9\n",
      "  144   1296 -4.090714488360669e-02 2.4e+01 1.33e-02  3e-04  5e-03 3:09.5\n",
      "  161   1449 -4.090730935428155e-02 2.5e+01 3.09e-03  6e-05  9e-04 3:29.9\n",
      "  180   1620 -4.090731706928707e-02 2.8e+01 6.16e-04  7e-06  1e-04 3:51.0\n",
      "  198   1782 -4.090731718600171e-02 4.0e+01 1.71e-04  1e-06  3e-05 4:13.8\n",
      "  200   1800 -4.090731718425156e-02 4.2e+01 1.48e-04  1e-06  2e-05 4:15.7\n",
      "  223   2007 -4.090731718899310e-02 4.0e+01 1.66e-05  5e-08  1e-06 4:38.3\n"
     ]
    },
    {
     "name": "stderr",
     "output_type": "stream",
     "text": [
      "reconstraining parameters GP_regression.Mat52.lengthscale\n",
      "reconstraining parameters GP_regression.Mat52.variance\n",
      "reconstraining parameters GP_regression.Gaussian_noise.variance\n"
     ]
    },
    {
     "name": "stdout",
     "output_type": "stream",
     "text": [
      "termination on tolfun=1e-11 (Tue Aug 25 19:28:25 2020)\n",
      "final/bestever f-value = -4.090732e-02 -4.090732e-02\n",
      "incumbent solution: [0.5361340811459041, 1.6548193335869132, 3.90338525971357, 4.427442514886481, 4.0618954923285076, 7.0639596578769055]\n",
      "std deviation: [5.4466773182920105e-08, 1.0728651458752971e-07, 2.83175395838731e-07, 6.604489044004967e-07, 1.4562117823574954e-06, 8.570312251863057e-07]\n",
      "Optimization restart 1/10, f = 68.34771918604548\n",
      "Optimization restart 2/10, f = 135.05276187818004\n",
      "Optimization restart 3/10, f = 520.6816887238072\n",
      "Optimization restart 4/10, f = 520.6816887238072\n",
      "Optimization restart 5/10, f = 79.05093095779239\n",
      "Optimization restart 6/10, f = 451.9295565878345\n",
      "Optimization restart 7/10, f = 438.9869909204689\n",
      "Optimization restart 8/10, f = 134.84256867486008\n",
      "Optimization restart 9/10, f = 102.6941594480277\n"
     ]
    },
    {
     "name": "stderr",
     "output_type": "stream",
     "text": [
      "reconstraining parameters GP_regression.Mat52.lengthscale\n",
      "reconstraining parameters GP_regression.Mat52.variance\n",
      "reconstraining parameters GP_regression.Gaussian_noise.variance\n"
     ]
    },
    {
     "name": "stdout",
     "output_type": "stream",
     "text": [
      "Optimization restart 10/10, f = 99.17941119147977\n",
      "Optimization restart 1/10, f = 14.040949833320795\n",
      "Optimization restart 2/10, f = 14.824976597177432\n",
      "Optimization restart 3/10, f = 30.427011309132\n",
      "Optimization restart 4/10, f = 6248.218608563697\n",
      "Optimization restart 5/10, f = 31.60646302592297\n",
      "Optimization restart 6/10, f = 459.00989870026154\n",
      "Optimization restart 7/10, f = 14.824947079672135\n",
      "Optimization restart 8/10, f = 361.18646476532945\n",
      "Optimization restart 9/10, f = 515.0556272908877\n",
      "Optimization restart 10/10, f = 483.10170073381\n",
      "(4_w,9)-aCMA-ES (mu_w=2.8,w_1=49%) in dimension 6 (seed=530926, Tue Aug 25 19:28:28 2020)\n",
      "Iterat #Fevals   function value  axis ratio  sigma  min&max std  t[m:s]\n",
      "    1      9 1.054861721029122e+00 1.0e+00 2.44e-01  2e-01  3e-01 0:00.7\n",
      "    2     18 9.612940945583357e-01 1.3e+00 2.48e-01  2e-01  3e-01 0:01.4\n",
      "    3     27 9.774107395601348e-01 1.4e+00 2.26e-01  2e-01  2e-01 0:02.0\n",
      "    8     72 9.423148640050591e-01 2.3e+00 2.37e-01  2e-01  3e-01 0:05.2\n",
      "   15    135 8.700209123060358e-01 4.6e+00 3.37e-01  1e-01  5e-01 0:09.7\n",
      "   23    207 7.982444184686357e-01 7.2e+00 3.26e-01  1e-01  5e-01 0:14.9\n",
      "   33    297 6.747913274817559e-01 1.1e+01 4.50e-01  9e-02  9e-01 0:21.3\n",
      "   41    369 5.709979932587506e-01 1.4e+01 5.54e-01  8e-02  1e+00 0:28.5\n",
      "   51    459 5.451455678308494e-01 1.7e+01 3.46e-01  3e-02  6e-01 0:36.5\n",
      "   60    540 5.399881417528272e-01 1.9e+01 1.44e-01  1e-02  2e-01 0:46.0\n",
      "   72    648 5.393178559561143e-01 1.8e+01 5.61e-02  4e-03  6e-02 0:56.3\n",
      "   87    783 5.391428079811227e-01 1.9e+01 2.74e-02  1e-03  2e-02 1:07.8\n",
      "  100    900 5.391175542562738e-01 2.2e+01 7.01e-03  2e-04  4e-03 1:16.7\n",
      "  117   1053 5.391174646674224e-01 2.0e+01 2.18e-03  5e-05  1e-03 1:30.7\n",
      "  137   1233 5.391174568540629e-01 2.6e+01 3.77e-04  5e-06  1e-04 1:45.3\n",
      "  160   1440 5.391174562674150e-01 1.9e+01 6.19e-05  6e-07  1e-05 2:00.9\n",
      "  182   1638 5.391174562628549e-01 1.7e+01 8.82e-06  6e-08  9e-07 2:17.9\n",
      "  188   1692 5.391174562628316e-01 1.8e+01 3.60e-06  2e-08  3e-07 2:25.1\n"
     ]
    },
    {
     "name": "stderr",
     "output_type": "stream",
     "text": [
      "reconstraining parameters GP_regression.Mat52.lengthscale\n"
     ]
    },
    {
     "name": "stdout",
     "output_type": "stream",
     "text": [
      "termination on tolfun=1e-11 (Tue Aug 25 19:30:54 2020)\n",
      "final/bestever f-value = 5.391175e-01 5.391175e-01\n",
      "incumbent solution: [1.4240955473451322e-15, 4.0, 4.065997715025752, 5.502769295609525e-14, 9.236737837522584, 11.999999999999977]\n",
      "std deviation: [2.0104941685656622e-08, 2.9493830710555413e-08, 1.359435199249055e-07, 1.0224646578106024e-07, 3.3595914641948356e-07, 3.195155564981776e-07]\n"
     ]
    },
    {
     "name": "stderr",
     "output_type": "stream",
     "text": [
      "reconstraining parameters GP_regression.Mat52.variance\n",
      "reconstraining parameters GP_regression.Gaussian_noise.variance\n"
     ]
    },
    {
     "name": "stdout",
     "output_type": "stream",
     "text": [
      "Optimization restart 1/10, f = 68.97924196103037\n",
      "Optimization restart 2/10, f = 451.4920993360347\n",
      "Optimization restart 3/10, f = 499.0890005155845\n",
      "Optimization restart 4/10, f = 144.12668884359354\n",
      "Optimization restart 5/10, f = 109.13647690061799\n",
      "Optimization restart 6/10, f = 69.58373335379119\n",
      "Optimization restart 7/10, f = 444.40680308911305\n",
      "Optimization restart 8/10, f = 445.03838849376604\n",
      "Optimization restart 9/10, f = 112.09614885897363\n"
     ]
    },
    {
     "name": "stderr",
     "output_type": "stream",
     "text": [
      "reconstraining parameters GP_regression.Mat52.lengthscale\n",
      "reconstraining parameters GP_regression.Mat52.variance\n",
      "reconstraining parameters GP_regression.Gaussian_noise.variance\n"
     ]
    },
    {
     "name": "stdout",
     "output_type": "stream",
     "text": [
      "Optimization restart 10/10, f = 112.09614412316915\n",
      "Optimization restart 1/10, f = 12.887368775731495\n",
      "Optimization restart 2/10, f = 520.3739870002726\n",
      "Optimization restart 3/10, f = 527.3570949894969\n",
      "Optimization restart 4/10, f = 382.15856204191385\n",
      "Optimization restart 5/10, f = 527.3570949894969\n",
      "Optimization restart 6/10, f = 112.09614412316935\n",
      "Optimization restart 7/10, f = 437.253232009398\n",
      "Optimization restart 8/10, f = 35.42712907625584\n",
      "Optimization restart 9/10, f = 494.24006649203375\n",
      "Optimization restart 10/10, f = 110.94665073447754\n",
      "(4_w,9)-aCMA-ES (mu_w=2.8,w_1=49%) in dimension 6 (seed=525722, Tue Aug 25 19:31:07 2020)\n",
      "Iterat #Fevals   function value  axis ratio  sigma  min&max std  t[m:s]\n",
      "    1      9 1.372822366275009e+00 1.0e+00 2.17e-01  2e-01  2e-01 0:00.7\n",
      "    2     18 1.215081301892354e+00 1.2e+00 1.98e-01  2e-01  2e-01 0:01.5\n",
      "    3     27 1.357337353501421e+00 1.2e+00 1.93e-01  2e-01  2e-01 0:02.3\n",
      "    7     63 1.139875450548298e+00 1.9e+00 1.90e-01  1e-01  2e-01 0:05.5\n",
      "   11     99 7.165429263583059e-01 2.5e+00 4.31e-01  3e-01  5e-01 0:11.8\n",
      "   13    117 7.740586480230132e-01 3.0e+00 6.21e-01  4e-01  8e-01 0:21.0\n",
      "   15    135 -0.000000000000000e+00 3.5e+00 8.90e-01  6e-01  1e+00 0:27.9\n",
      "   22    198 -0.000000000000000e+00 3.7e+00 7.32e-01  5e-01  9e-01 0:35.3\n",
      "   32    288 5.149534735845001e-01 4.0e+00 7.62e-01  4e-01  1e+00 0:43.9\n",
      "   43    387 -3.310978150280963e-02 3.4e+00 6.12e-01  3e-01  6e-01 0:53.6\n",
      "   54    486 -3.921573041935833e-02 5.1e+00 4.19e-01  1e-01  5e-01 1:04.3\n",
      "   64    576 -5.946743439010227e-02 8.0e+00 4.56e-01  7e-02  5e-01 1:15.4\n",
      "   76    684 -6.146638342830180e-02 1.2e+01 4.25e-01  5e-02  5e-01 1:28.2\n",
      "   88    792 -6.706656287768453e-02 2.1e+01 1.73e-01  1e-02  2e-01 1:41.9\n",
      "  100    900 -6.772603505994823e-02 2.6e+01 7.25e-02  4e-03  6e-02 1:53.6\n",
      "  116   1044 -6.775846518448247e-02 2.8e+01 2.25e-02  8e-04  1e-02 2:09.4\n",
      "  133   1197 -6.776241971323049e-02 3.5e+01 7.30e-03  2e-04  4e-03 2:26.1\n",
      "  151   1359 -6.776266825866806e-02 4.2e+01 1.89e-03  3e-05  7e-04 2:43.5\n",
      "  170   1530 -6.776267453019980e-02 3.2e+01 4.55e-04  4e-06  1e-04 3:02.0\n",
      "  190   1710 -6.776267460860197e-02 2.7e+01 6.95e-05  5e-07  9e-06 3:21.3\n",
      "  200   1800 -6.776267460938179e-02 2.8e+01 2.36e-05  1e-07  3e-06 3:31.1\n",
      "  210   1890 -6.776267460946439e-02 3.0e+01 9.91e-06  4e-08  9e-07 3:40.8\n"
     ]
    },
    {
     "name": "stderr",
     "output_type": "stream",
     "text": [
      "reconstraining parameters GP_regression.Mat52.lengthscale\n",
      "reconstraining parameters GP_regression.Mat52.variance\n",
      "reconstraining parameters GP_regression.Gaussian_noise.variance\n"
     ]
    },
    {
     "name": "stdout",
     "output_type": "stream",
     "text": [
      "termination on tolfun=1e-11 (Tue Aug 25 19:34:49 2020)\n",
      "final/bestever f-value = -6.776267e-02 -6.776267e-02\n",
      "incumbent solution: [1.1807771768967463, 0.045959839873224245, 2.4248502065401363, 4.098789325269815, 2.903076938090498, 4.873631678866033]\n",
      "std deviation: [3.7186178658061224e-08, 1.1194327845368865e-07, 1.7684000055753153e-07, 9.157077218461926e-07, 8.09848567180925e-07, 5.078624782208025e-07]\n",
      "Optimization restart 1/10, f = 68.562126715184\n",
      "Optimization restart 2/10, f = 143.74108845226888\n",
      "Optimization restart 3/10, f = 523.9351317023192\n",
      "Optimization restart 4/10, f = 448.28620082436373\n",
      "Optimization restart 5/10, f = 502.17124461951994\n",
      "Optimization restart 6/10, f = 111.34737426429729\n",
      "Optimization restart 7/10, f = 469.3912356406454\n",
      "Optimization restart 8/10, f = 152.96173533184668\n",
      "Optimization restart 9/10, f = 133.99875082894934\n"
     ]
    },
    {
     "name": "stderr",
     "output_type": "stream",
     "text": [
      "reconstraining parameters GP_regression.Mat52.lengthscale\n",
      "reconstraining parameters GP_regression.Mat52.variance\n",
      "reconstraining parameters GP_regression.Gaussian_noise.variance\n"
     ]
    },
    {
     "name": "stdout",
     "output_type": "stream",
     "text": [
      "Optimization restart 10/10, f = 69.13526495070752\n",
      "Optimization restart 1/10, f = 11.952501123742088\n",
      "Optimization restart 2/10, f = 335.9805332266751\n",
      "Optimization restart 3/10, f = 284.14666519212165\n",
      "Optimization restart 4/10, f = 85.49578573910856\n",
      "Optimization restart 5/10, f = 32.65651165813999\n",
      "Optimization restart 6/10, f = 88.43645824452443\n",
      "Optimization restart 7/10, f = 376.74461356002803\n",
      "Optimization restart 8/10, f = 12.68823299012579\n",
      "Optimization restart 9/10, f = 90.67801681289296\n",
      "Optimization restart 10/10, f = 534.0325012551868\n",
      "(4_w,9)-aCMA-ES (mu_w=2.8,w_1=49%) in dimension 6 (seed=409635, Tue Aug 25 19:34:53 2020)\n",
      "Iterat #Fevals   function value  axis ratio  sigma  min&max std  t[m:s]\n",
      "    1      9 9.579707460161591e-01 1.0e+00 2.43e-01  2e-01  3e-01 0:00.7\n",
      "    2     18 9.712055774222539e-01 1.3e+00 2.65e-01  2e-01  3e-01 0:01.4\n",
      "    3     27 6.057933332458056e-01 1.5e+00 2.92e-01  3e-01  3e-01 0:02.1\n",
      "    8     72 -0.000000000000000e+00 2.6e+00 4.19e-01  3e-01  6e-01 0:05.9\n",
      "   13    117 -0.000000000000000e+00 3.3e+00 4.12e-01  2e-01  5e-01 0:10.1\n",
      "   19    171 -5.769821984332513e-03 4.4e+00 2.94e-01  1e-01  4e-01 0:15.5\n",
      "   25    225 -1.352515676217170e-02 5.9e+00 2.27e-01  7e-02  4e-01 0:21.6\n",
      "   33    297 -1.509662995670658e-02 1.1e+01 2.07e-01  5e-02  4e-01 0:29.4\n",
      "   42    378 -1.578629890889971e-02 1.6e+01 1.40e-01  3e-02  3e-01 0:38.4\n",
      "   50    450 -1.642600805266570e-02 1.5e+01 6.15e-02  8e-03  9e-02 0:47.7\n",
      "   55    495 -1.679117623904913e-02 1.8e+01 9.99e-02  1e-02  1e-01 1:02.5\n",
      "   57    513 -1.675496875121629e-02 1.8e+01 1.17e-01  1e-02  1e-01 1:14.8\n",
      "   61    549 -1.695255966241627e-02 2.1e+01 1.06e-01  1e-02  1e-01 1:27.4\n",
      "   67    603 -1.695898983751176e-02 2.1e+01 8.29e-02  9e-03  9e-02 1:42.1\n",
      "   74    666 -1.702485619150673e-02 2.2e+01 5.57e-02  5e-03  6e-02 1:56.8\n",
      "   81    729 -1.704794221658412e-02 2.3e+01 3.03e-02  2e-03  3e-02 2:12.1\n",
      "   89    801 -1.705113905582722e-02 2.1e+01 1.42e-02  8e-04  1e-02 2:29.0\n",
      "   98    882 -1.705189581585520e-02 2.8e+01 6.99e-03  3e-04  5e-03 2:46.8\n",
      "  100    900 -1.705195391397041e-02 2.8e+01 6.15e-03  3e-04  4e-03 2:50.8\n",
      "  110    990 -1.705197964617433e-02 2.5e+01 2.81e-03  1e-04  2e-03 3:11.3\n",
      "  120   1080 -1.705199847667238e-02 2.5e+01 8.83e-04  2e-05  4e-04 3:32.1\n",
      "  131   1179 -1.705199913246513e-02 2.3e+01 3.00e-04  7e-06  1e-04 3:55.0\n",
      "  142   1278 -1.705199917717781e-02 2.1e+01 1.41e-04  2e-06  3e-05 4:19.1\n",
      "  154   1386 -1.705199918256417e-02 2.4e+01 7.23e-05  8e-07  1e-05 4:43.3\n",
      "  166   1494 -1.705199918344436e-02 2.5e+01 3.01e-05  3e-07  5e-06 5:07.6\n",
      "  169   1521 -1.705199918347011e-02 2.7e+01 2.09e-05  2e-07  3e-06 5:13.7\n"
     ]
    },
    {
     "name": "stderr",
     "output_type": "stream",
     "text": [
      "reconstraining parameters GP_regression.Mat52.lengthscale\n",
      "reconstraining parameters GP_regression.Mat52.variance\n"
     ]
    },
    {
     "name": "stdout",
     "output_type": "stream",
     "text": [
      "termination on tolfun=1e-11 (Tue Aug 25 19:40:07 2020)\n",
      "final/bestever f-value = -1.705200e-02 -1.705200e-02\n",
      "incumbent solution: [0.5083746290491654, 1.440739826017766, 4.167383512205776, 4.814554688912999, 4.422400990827632, 7.334440715487325]\n",
      "std deviation: [1.952733903929735e-07, 2.2011230021988015e-07, 9.078667993031971e-07, 2.0338201433626553e-06, 3.1848485141909246e-06, 2.2540760675451236e-06]\n"
     ]
    },
    {
     "name": "stderr",
     "output_type": "stream",
     "text": [
      "reconstraining parameters GP_regression.Gaussian_noise.variance\n"
     ]
    },
    {
     "name": "stdout",
     "output_type": "stream",
     "text": [
      "Optimization restart 1/10, f = 65.98997524740159\n",
      "Optimization restart 2/10, f = 494.86309875304073\n",
      "Optimization restart 3/10, f = 138.2848713682527\n",
      "Optimization restart 4/10, f = 517.2124860264605\n",
      "Optimization restart 5/10, f = 524.3846433108275\n",
      "Optimization restart 6/10, f = 516.3020314169643\n",
      "Optimization restart 7/10, f = 1311.5378960627284\n",
      "Optimization restart 8/10, f = 395.8198570080838\n",
      "Optimization restart 9/10, f = 465.4177128957847\n"
     ]
    },
    {
     "name": "stderr",
     "output_type": "stream",
     "text": [
      "reconstraining parameters GP_regression.Mat52.lengthscale\n",
      "reconstraining parameters GP_regression.Mat52.variance\n",
      "reconstraining parameters GP_regression.Gaussian_noise.variance\n"
     ]
    },
    {
     "name": "stdout",
     "output_type": "stream",
     "text": [
      "Optimization restart 10/10, f = 114.44018211105461\n",
      "Optimization restart 1/10, f = 9.982649870096694\n",
      "Optimization restart 2/10, f = 66.86735149550043\n",
      "Optimization restart 3/10, f = 70.91021056694919\n",
      "Optimization restart 4/10, f = 413.168510077262\n",
      "Optimization restart 5/10, f = 11.258570727867031\n",
      "Optimization restart 6/10, f = 2612335479.6181216\n",
      "Optimization restart 7/10, f = 111.56079543953314\n",
      "Optimization restart 8/10, f = 9.981690942338872\n",
      "Optimization restart 9/10, f = 540.7079075208767\n",
      "Optimization restart 10/10, f = 516.3001461796\n",
      "(4_w,9)-aCMA-ES (mu_w=2.8,w_1=49%) in dimension 6 (seed=466552, Tue Aug 25 19:40:21 2020)\n",
      "Iterat #Fevals   function value  axis ratio  sigma  min&max std  t[m:s]\n",
      "    1      9 1.465869467136700e+00 1.0e+00 2.98e-01  3e-01  3e-01 0:01.5\n",
      "    2     18 1.399816484251648e+00 1.2e+00 3.36e-01  3e-01  4e-01 0:03.0\n",
      "    3     27 1.309135829243030e+00 1.3e+00 3.65e-01  3e-01  4e-01 0:04.6\n",
      "    6     54 1.331841053160119e+00 1.5e+00 3.52e-01  3e-01  4e-01 0:09.0\n",
      "    9     81 1.421765660573648e+00 2.1e+00 3.84e-01  2e-01  4e-01 0:13.2\n",
      "   12    108 1.392058742574008e+00 2.6e+00 4.47e-01  2e-01  6e-01 0:18.2\n",
      "   16    144 1.214930263770492e+00 3.6e+00 4.75e-01  2e-01  7e-01 0:24.3\n",
      "   21    189 1.031717444338710e+00 5.0e+00 7.03e-01  3e-01  1e+00 0:32.3\n",
      "   27    243 8.875011750840438e-01 7.0e+00 4.23e-01  1e-01  6e-01 0:41.6\n",
      "   33    297 8.805527879436779e-01 1.2e+01 3.61e-01  6e-02  6e-01 0:51.4\n",
      "   41    369 8.429082624513000e-01 1.9e+01 6.01e-01  7e-02  1e+00 1:02.4\n",
      "   48    432 7.709360613030960e-01 2.0e+01 5.82e-01  6e-02  1e+00 1:14.7\n",
      "   57    513 7.599218944980568e-01 2.0e+01 2.36e-01  2e-02  3e-01 1:27.3\n",
      "   67    603 7.577411046200417e-01 2.2e+01 9.04e-02  6e-03  1e-01 1:41.6\n",
      "   78    702 7.575650527321269e-01 2.0e+01 3.13e-02  2e-03  3e-02 1:56.6\n",
      "   89    801 7.575490700827627e-01 2.2e+01 1.01e-02  4e-04  8e-03 2:11.7\n",
      "  100    900 7.575480657441351e-01 2.9e+01 3.45e-03  1e-04  2e-03 2:27.4\n",
      "  112   1008 7.575480120399847e-01 2.6e+01 1.53e-03  4e-05  8e-04 2:45.8\n",
      "  123   1107 7.575479908542209e-01 2.4e+01 5.28e-04  1e-05  2e-04 3:04.5\n",
      "  134   1206 7.575479903949680e-01 2.2e+01 2.19e-04  3e-06  6e-05 3:23.8\n",
      "  144   1296 7.575479903217424e-01 2.7e+01 1.83e-04  2e-06  5e-05 3:44.8\n",
      "  167   1503 7.575479903098574e-01 3.3e+01 1.74e-05  1e-07  3e-06 4:06.0\n",
      "  178   1602 7.575479903097362e-01 2.8e+01 7.32e-06  4e-08  9e-07 4:17.3\n"
     ]
    },
    {
     "name": "stderr",
     "output_type": "stream",
     "text": [
      "reconstraining parameters GP_regression.Mat52.lengthscale\n",
      "reconstraining parameters GP_regression.Mat52.variance\n"
     ]
    },
    {
     "name": "stdout",
     "output_type": "stream",
     "text": [
      "termination on tolfun=1e-11 (Tue Aug 25 19:44:39 2020)\n",
      "final/bestever f-value = 7.575480e-01 7.575480e-01\n",
      "incumbent solution: [3.41010541038235e-14, 3.9999999999999996, 1.6407556267058494, 8.0, 4.927822714740314, 9.872401241988292]\n",
      "std deviation: [4.1810680465950144e-08, 5.976422711901695e-08, 3.601698484018817e-07, 5.408030838960479e-07, 6.636365333895016e-07, 8.905454864361018e-07]\n"
     ]
    },
    {
     "name": "stderr",
     "output_type": "stream",
     "text": [
      "reconstraining parameters GP_regression.Gaussian_noise.variance\n"
     ]
    },
    {
     "name": "stdout",
     "output_type": "stream",
     "text": [
      "Optimization restart 1/10, f = 66.36447869370119\n",
      "Optimization restart 2/10, f = 461.6418100226253\n",
      "Optimization restart 3/10, f = 536.3195066412403\n",
      "Optimization restart 4/10, f = 66.13504119741854\n",
      "Optimization restart 5/10, f = 455.7890444629158\n",
      "Optimization restart 6/10, f = 459.21891018555016\n",
      "Optimization restart 7/10, f = 547.3833137865664\n",
      "Optimization restart 8/10, f = 455.50714799295025\n",
      "Optimization restart 9/10, f = 466.63878660922234\n",
      "Optimization restart 10/10, f = 81.89954247314249\n"
     ]
    },
    {
     "name": "stderr",
     "output_type": "stream",
     "text": [
      "reconstraining parameters GP_regression.Mat52.lengthscale\n",
      "reconstraining parameters GP_regression.Mat52.variance\n",
      "reconstraining parameters GP_regression.Gaussian_noise.variance\n"
     ]
    },
    {
     "name": "stdout",
     "output_type": "stream",
     "text": [
      "Optimization restart 1/10, f = 8.577383540701192\n",
      "Optimization restart 2/10, f = 469.3858681997363\n",
      "Optimization restart 3/10, f = 445.53158143397764\n",
      "Optimization restart 4/10, f = 71.65022623052457\n",
      "Optimization restart 5/10, f = 7.888631201593256\n",
      "Optimization restart 6/10, f = 472.5988033653721\n",
      "Optimization restart 7/10, f = 26.86903899902842\n",
      "Optimization restart 8/10, f = 71.65021827761504\n",
      "Optimization restart 9/10, f = 474.5938699588796\n",
      "Optimization restart 10/10, f = 408.75248747091075\n",
      "(4_w,9)-aCMA-ES (mu_w=2.8,w_1=49%) in dimension 6 (seed=418901, Tue Aug 25 19:44:51 2020)\n",
      "Iterat #Fevals   function value  axis ratio  sigma  min&max std  t[m:s]\n",
      "    1      9 1.464848413661274e+00 1.0e+00 2.79e-01  3e-01  3e-01 0:00.7\n",
      "    2     18 1.113129623102630e+00 1.3e+00 2.88e-01  3e-01  3e-01 0:01.4\n",
      "    3     27 1.285063091655427e+00 1.4e+00 2.86e-01  3e-01  3e-01 0:02.1\n",
      "    8     72 8.063355177368610e-01 1.9e+00 2.69e-01  2e-01  3e-01 0:05.7\n",
      "   14    126 -0.000000000000000e+00 2.9e+00 3.75e-01  2e-01  5e-01 0:09.9\n",
      "   21    189 -0.000000000000000e+00 5.1e+00 2.82e-01  9e-02  3e-01 0:15.8\n"
     ]
    },
    {
     "name": "stderr",
     "output_type": "stream",
     "text": [
      " /home/finley/miniconda3/envs/testsuite/lib/python3.8/site-packages/cma/utilities/utils.py:329: UserWarning:flat fitness (f=-0.000000, sigma=2.22e-01).\n",
      "                    For small sigma, this could indicate numerical convergence.\n",
      "                    Otherwise, please (re)consider how to compute the fitness more elaborately. (iteration=24)\n",
      " /home/finley/miniconda3/envs/testsuite/lib/python3.8/site-packages/cma/utilities/utils.py:329: UserWarning:flat fitness (f=-0.000000, sigma=1.91e-01).\n",
      "                    For small sigma, this could indicate numerical convergence.\n",
      "                    Otherwise, please (re)consider how to compute the fitness more elaborately. (iteration=27)\n"
     ]
    },
    {
     "name": "stdout",
     "output_type": "stream",
     "text": [
      "   28    252 -2.239314905563283e-03 5.1e+00 1.91e-01  6e-02  2e-01 0:22.7\n",
      "   35    315 -2.654573581268771e-02 6.3e+00 2.62e-01  7e-02  4e-01 0:29.9\n",
      "   43    387 -4.496796472118003e-02 8.4e+00 2.88e-01  6e-02  5e-01 0:38.2\n",
      "   52    468 -5.104444315370138e-02 9.4e+00 1.53e-01  2e-02  2e-01 0:47.5\n",
      "   62    558 -5.237157071484599e-02 9.8e+00 8.37e-02  9e-03  9e-02 0:58.0\n",
      "   73    657 -6.177090385206263e-02 2.0e+01 1.96e-01  2e-02  2e-01 1:09.4\n",
      "   85    765 -7.672422361246944e-02 1.6e+01 2.21e-01  2e-02  2e-01 1:21.6\n",
      "   98    882 -7.953256611907467e-02 1.3e+01 1.32e-01  8e-03  1e-01 1:35.0\n",
      "  100    900 -7.967594725699900e-02 1.2e+01 1.15e-01  7e-03  8e-02 1:37.1\n",
      "  115   1035 -7.993697799779564e-02 1.0e+01 3.78e-02  2e-03  2e-02 1:52.4\n",
      "  131   1179 -7.994043898824721e-02 9.0e+00 1.48e-02  6e-04  4e-03 2:08.6\n",
      "  144   1296 -7.994178969665189e-02 8.2e+00 4.50e-03  1e-04  1e-03 2:25.8\n",
      "  159   1431 -7.994193264809724e-02 8.7e+00 1.46e-03  3e-05  3e-04 2:44.0\n",
      "  176   1584 -7.994193664094862e-02 9.6e+00 2.66e-04  4e-06  3e-05 3:03.4\n",
      "  192   1728 -7.994193667773164e-02 7.2e+00 4.77e-05  5e-07  4e-06 3:23.7\n",
      "  200   1800 -7.994193667837735e-02 8.9e+00 2.01e-05  2e-07  1e-06 3:32.7\n",
      "  212   1908 -7.994193667850613e-02 8.1e+00 7.39e-06  5e-08  4e-07 3:47.6\n"
     ]
    },
    {
     "name": "stderr",
     "output_type": "stream",
     "text": [
      "reconstraining parameters GP_regression.Mat52.lengthscale\n",
      "reconstraining parameters GP_regression.Mat52.variance\n",
      "reconstraining parameters GP_regression.Gaussian_noise.variance\n"
     ]
    },
    {
     "name": "stdout",
     "output_type": "stream",
     "text": [
      "termination on tolfun=1e-11 (Tue Aug 25 19:48:39 2020)\n",
      "final/bestever f-value = -7.994194e-02 -7.994194e-02\n",
      "incumbent solution: [1.9999999999999993, 2.5114376340918282e-14, 2.7798168540502894, 4.049130368366514, 4.267189866201397, 5.572690132798165]\n",
      "std deviation: [4.953151405707723e-08, 9.264700303700018e-08, 1.2948980962941655e-07, 3.650846962773415e-07, 2.1234572672811386e-07, 2.5658516871065e-07]\n",
      "Optimization restart 1/10, f = 66.00573112286786\n",
      "Optimization restart 2/10, f = 543.9879992086987\n",
      "Optimization restart 3/10, f = 5433.632132821941\n",
      "Optimization restart 4/10, f = 554.0587200522563\n",
      "Optimization restart 5/10, f = 554.0587200522563\n",
      "Optimization restart 6/10, f = 80.24055242153759\n",
      "Optimization restart 7/10, f = 517.4995195033191\n",
      "Optimization restart 8/10, f = 117.77189825598785\n",
      "Optimization restart 9/10, f = 496.5874990563591\n"
     ]
    },
    {
     "name": "stderr",
     "output_type": "stream",
     "text": [
      "reconstraining parameters GP_regression.Mat52.lengthscale\n",
      "reconstraining parameters GP_regression.Mat52.variance\n",
      "reconstraining parameters GP_regression.Gaussian_noise.variance\n"
     ]
    },
    {
     "name": "stdout",
     "output_type": "stream",
     "text": [
      "Optimization restart 10/10, f = 117.77189825598785\n",
      "Optimization restart 1/10, f = 5.202749407399715\n",
      "Optimization restart 2/10, f = 323.12157111716516\n",
      "Optimization restart 3/10, f = 55.37312681797139\n",
      "Optimization restart 4/10, f = 328.1212820243318\n",
      "Optimization restart 5/10, f = 402.00743961222395\n",
      "Optimization restart 6/10, f = 537.8271458086342\n",
      "Optimization restart 7/10, f = 4145452.6728248647\n",
      "Optimization restart 8/10, f = 117.77189825598785\n",
      "Optimization restart 9/10, f = 457.90930856081354\n",
      "Optimization restart 10/10, f = 47.586876773303025\n",
      "(4_w,9)-aCMA-ES (mu_w=2.8,w_1=49%) in dimension 6 (seed=473794, Tue Aug 25 19:48:42 2020)\n",
      "Iterat #Fevals   function value  axis ratio  sigma  min&max std  t[m:s]\n",
      "    1      9 2.677558622346341e+00 1.0e+00 2.56e-01  2e-01  3e-01 0:00.7\n",
      "    2     18 2.741334716431466e+00 1.4e+00 2.60e-01  2e-01  3e-01 0:01.4\n",
      "    3     27 2.569908829944057e+00 1.5e+00 2.62e-01  2e-01  3e-01 0:02.2\n",
      "    7     63 1.008192433719530e+00 2.1e+00 4.17e-01  3e-01  5e-01 0:05.3\n",
      "   13    117 7.140370097819586e-01 3.1e+00 4.14e-01  2e-01  6e-01 0:09.7\n",
      "   20    180 -0.000000000000000e+00 4.3e+00 3.93e-01  2e-01  6e-01 0:15.1\n",
      "   27    243 -0.000000000000000e+00 6.6e+00 4.69e-01  1e-01  8e-01 0:21.1\n",
      "   35    315 -4.619852678927394e-03 9.0e+00 2.72e-01  5e-02  4e-01 0:29.1\n",
      "   43    387 -1.211212161309927e-02 1.2e+01 1.35e-01  2e-02  2e-01 0:37.6\n",
      "   52    468 -1.293820887235420e-02 1.4e+01 9.18e-02  1e-02  1e-01 0:47.3\n",
      "   62    558 -1.361503150865051e-02 1.8e+01 7.98e-02  6e-03  1e-01 0:58.0\n",
      "   73    657 -1.467747493263261e-02 2.9e+01 1.15e-01  6e-03  2e-01 1:09.7\n",
      "   85    765 -1.491624933690705e-02 3.5e+01 6.52e-02  3e-03  9e-02 1:22.5\n",
      "   98    882 -1.501443182421092e-02 3.8e+01 1.74e-02  6e-04  2e-02 1:36.3\n",
      "  100    900 -1.501576099345048e-02 3.8e+01 1.26e-02  4e-04  1e-02 1:38.4\n",
      "  115   1035 -1.501614853801581e-02 3.2e+01 2.41e-03  5e-05  2e-03 1:54.5\n",
      "  131   1179 -1.501616425750996e-02 3.8e+01 6.57e-04  9e-06  4e-04 2:11.5\n",
      "  147   1323 -1.501616550796037e-02 4.4e+01 1.75e-04  2e-06  6e-05 2:29.0\n",
      "  164   1476 -1.501616553478069e-02 4.7e+01 4.11e-05  3e-07  1e-05 2:47.2\n",
      "  179   1611 -1.501616553551788e-02 5.1e+01 8.22e-06  4e-08  2e-06 3:03.3\n"
     ]
    },
    {
     "name": "stderr",
     "output_type": "stream",
     "text": [
      "reconstraining parameters GP_regression.Mat52.lengthscale\n",
      "reconstraining parameters GP_regression.Mat52.variance\n",
      "reconstraining parameters GP_regression.Gaussian_noise.variance\n"
     ]
    },
    {
     "name": "stdout",
     "output_type": "stream",
     "text": [
      "termination on tolfun=1e-11 (Tue Aug 25 19:51:45 2020)\n",
      "final/bestever f-value = -1.501617e-02 -1.501617e-02\n",
      "incumbent solution: [1.9999999999999998, 8.973856351579033e-16, 3.1622767306737662, 1.4702171522432785, 4.416674475984972, 5.272027467121544]\n",
      "std deviation: [3.7673670555755215e-08, 5.80566410128193e-08, 2.879755874828126e-07, 1.6103332280689327e-06, 4.5653512067932817e-07, 5.709435214202015e-07]\n",
      "Optimization restart 1/10, f = 66.36540714706857\n",
      "Optimization restart 2/10, f = 466.95637817024505\n",
      "Optimization restart 3/10, f = 68.18733529738174\n",
      "Optimization restart 4/10, f = 2371656041.808273\n",
      "Optimization restart 5/10, f = 111.86261354554787\n",
      "Optimization restart 6/10, f = 443.1748250579985\n",
      "Optimization restart 7/10, f = 515.3496715315763\n",
      "Optimization restart 8/10, f = 146.9825443381249\n",
      "Optimization restart 9/10, f = 506.08346252575853\n"
     ]
    },
    {
     "name": "stderr",
     "output_type": "stream",
     "text": [
      "reconstraining parameters GP_regression.Mat52.lengthscale\n",
      "reconstraining parameters GP_regression.Mat52.variance\n",
      "reconstraining parameters GP_regression.Gaussian_noise.variance\n"
     ]
    },
    {
     "name": "stdout",
     "output_type": "stream",
     "text": [
      "Optimization restart 10/10, f = 500.97579307269274\n",
      "Optimization restart 1/10, f = 3.2406948056815708\n",
      "Optimization restart 2/10, f = 560.7341263179461\n",
      "Optimization restart 3/10, f = 371.54631666870125\n",
      "Optimization restart 4/10, f = 32.66418915575521\n",
      "Optimization restart 5/10, f = 46.22058404226286\n",
      "Optimization restart 6/10, f = 556.4279495415545\n",
      "Optimization restart 7/10, f = 447.21533037147543\n",
      "Optimization restart 8/10, f = 513.6385416713545\n",
      "Optimization restart 9/10, f = 417.89743751945434\n",
      "Optimization restart 10/10, f = 515.8770269962129\n",
      "(4_w,9)-aCMA-ES (mu_w=2.8,w_1=49%) in dimension 6 (seed=433540, Tue Aug 25 19:51:50 2020)\n",
      "Iterat #Fevals   function value  axis ratio  sigma  min&max std  t[m:s]\n",
      "    1      9 1.136225870088309e+00 1.0e+00 2.31e-01  2e-01  2e-01 0:00.7\n",
      "    2     18 7.300310304167521e-01 1.2e+00 2.30e-01  2e-01  2e-01 0:01.5\n",
      "    3     27 6.395890756356195e-01 1.5e+00 2.55e-01  2e-01  3e-01 0:02.2\n",
      "    7     63 -0.000000000000000e+00 1.7e+00 2.21e-01  2e-01  2e-01 0:05.6\n",
      "   12    108 -0.000000000000000e+00 2.1e+00 2.60e-01  2e-01  3e-01 0:10.0\n",
      "   18    162 -0.000000000000000e+00 3.0e+00 1.86e-01  9e-02  2e-01 0:15.7\n",
      "   25    225 -0.000000000000000e+00 5.4e+00 1.60e-01  6e-02  2e-01 0:22.2\n",
      "   33    297 -0.000000000000000e+00 8.5e+00 1.87e-01  6e-02  3e-01 0:29.8\n",
      "   34    306 -0.000000000000000e+00 8.5e+00 1.59e-01  5e-02  2e-01 0:30.8\n"
     ]
    },
    {
     "name": "stderr",
     "output_type": "stream",
     "text": [
      "reconstraining parameters GP_regression.Mat52.lengthscale\n",
      "reconstraining parameters GP_regression.Mat52.variance\n",
      "reconstraining parameters GP_regression.Gaussian_noise.variance\n"
     ]
    },
    {
     "name": "stdout",
     "output_type": "stream",
     "text": [
      "termination on tolfunhist=1e-12 (Tue Aug 25 19:52:21 2020)\n",
      "final/bestever f-value = -0.000000e+00 -0.000000e+00\n",
      "incumbent solution: [1.3809736775357502, 3.1121882518860926, 2.929102487612936, 1.6429924857865403, 6.391122114846716, 7.284717797666648]\n",
      "std deviation: [0.06951358768877808, 0.05046035242827339, 0.24426623815695495, 0.2236214558152995, 0.13663690505299295, 0.14731360258541462]\n",
      "Optimization restart 1/10, f = 67.75496466507204\n",
      "Optimization restart 2/10, f = 494.2174616756431\n",
      "Optimization restart 3/10, f = 177.49003144588704\n",
      "Optimization restart 4/10, f = 509.36889729430317\n",
      "Optimization restart 5/10, f = 561.9870344328242\n",
      "Optimization restart 6/10, f = 2551396438.9784994\n",
      "Optimization restart 7/10, f = 120.60977532239718\n",
      "Optimization restart 8/10, f = 2548165608.5429883\n"
     ]
    },
    {
     "name": "stderr",
     "output_type": "stream",
     "text": [
      "reconstraining parameters GP_regression.Mat52.lengthscale\n",
      "reconstraining parameters GP_regression.Mat52.variance\n",
      "reconstraining parameters GP_regression.Gaussian_noise.variance\n"
     ]
    },
    {
     "name": "stdout",
     "output_type": "stream",
     "text": [
      "Optimization restart 9/10, f = 523.5576034845241\n",
      "Optimization restart 10/10, f = 2556974832.9436097\n",
      "Optimization restart 1/10, f = 2.7772383405232333\n",
      "Optimization restart 2/10, f = 1481730.9195749017\n",
      "Optimization restart 3/10, f = 380.68518172238123\n",
      "Optimization restart 4/10, f = 435.22361251195355\n",
      "Optimization restart 5/10, f = 480.54315042541936\n",
      "Optimization restart 6/10, f = 120.60977532239718\n",
      "Optimization restart 7/10, f = 33.24645293829248\n",
      "Optimization restart 8/10, f = 478.00342826811266\n",
      "Optimization restart 9/10, f = 7.575590085300142\n",
      "Optimization restart 10/10, f = 24.026990946161057\n",
      "(4_w,9)-aCMA-ES (mu_w=2.8,w_1=49%) in dimension 6 (seed=535957, Tue Aug 25 19:52:24 2020)\n",
      "Iterat #Fevals   function value  axis ratio  sigma  min&max std  t[m:s]\n",
      "    1      9 1.070215255217782e+00 1.0e+00 2.80e-01  3e-01  3e-01 0:00.8\n",
      "    2     18 6.639771095361700e-01 1.3e+00 3.27e-01  3e-01  3e-01 0:01.5\n",
      "    3     27 5.710793430950949e-01 1.5e+00 3.59e-01  3e-01  4e-01 0:02.3\n",
      "    7     63 6.456108210949401e-01 2.0e+00 4.01e-01  3e-01  5e-01 0:05.4\n",
      "   12    108 -0.000000000000000e+00 2.9e+00 4.47e-01  3e-01  5e-01 0:09.6\n",
      "   18    162 -0.000000000000000e+00 3.4e+00 4.43e-01  2e-01  6e-01 0:14.9\n",
      "   25    225 -5.066027916329929e-03 4.9e+00 4.60e-01  2e-01  7e-01 0:21.6\n",
      "   32    288 -3.800510286357106e-02 6.8e+00 4.67e-01  2e-01  7e-01 0:28.7\n",
      "   40    360 -6.760125986659205e-02 9.3e+00 3.19e-01  8e-02  5e-01 0:37.5\n",
      "   48    432 -7.571427871588554e-02 1.0e+01 2.11e-01  4e-02  3e-01 0:46.6\n",
      "   57    513 -7.793547105358734e-02 1.3e+01 1.73e-01  3e-02  3e-01 0:56.6\n",
      "   67    603 -7.858880617190867e-02 1.7e+01 1.12e-01  1e-02  1e-01 1:07.6\n",
      "   78    702 -7.873077977838694e-02 1.6e+01 4.03e-02  3e-03  3e-02 1:19.9\n",
      "   90    810 -7.873935350338535e-02 1.6e+01 1.15e-02  7e-04  9e-03 1:33.1\n",
      "  100    900 -7.873990004797360e-02 1.8e+01 4.57e-03  2e-04  3e-03 1:45.5\n",
      "  114   1026 -7.873990653481400e-02 2.3e+01 8.30e-04  2e-05  4e-04 2:01.4\n",
      "  129   1161 -7.873990664956221e-02 3.4e+01 1.88e-04  3e-06  8e-05 2:18.0\n",
      "  145   1305 -7.873990666290709e-02 2.7e+01 4.72e-05  6e-07  1e-05 2:35.8\n",
      "  160   1440 -7.873990666335740e-02 3.4e+01 1.43e-05  1e-07  3e-06 2:52.5\n"
     ]
    },
    {
     "name": "stderr",
     "output_type": "stream",
     "text": [
      "reconstraining parameters GP_regression.Mat52.lengthscale\n",
      "reconstraining parameters GP_regression.Mat52.variance\n",
      "reconstraining parameters GP_regression.Gaussian_noise.variance\n"
     ]
    },
    {
     "name": "stdout",
     "output_type": "stream",
     "text": [
      "termination on tolfun=1e-11 (Tue Aug 25 19:55:17 2020)\n",
      "final/bestever f-value = -7.873991e-02 -7.873991e-02\n",
      "incumbent solution: [1.1922415197567149, 3.544842891580673, 2.5782933866616506, 1.0568988824166138e-11, 4.509225301800883, 4.264709104614199]\n",
      "std deviation: [1.236665989781661e-07, 1.7139535932675308e-07, 5.739773665171519e-07, 3.460934668418393e-06, 1.433665855586379e-06, 1.7294156933125738e-06]\n",
      "Optimization restart 1/10, f = 70.89828172293824\n",
      "Optimization restart 2/10, f = 524.755649770209\n",
      "Optimization restart 3/10, f = 499.38507960882913\n",
      "Optimization restart 4/10, f = 498.1176240835816\n",
      "Optimization restart 5/10, f = 115.21719112629552\n",
      "Optimization restart 6/10, f = 4517.604886645433\n",
      "Optimization restart 7/10, f = 536.8496560262732\n",
      "Optimization restart 8/10, f = 574.0849388493258\n",
      "Optimization restart 9/10, f = 539.0128967405236\n"
     ]
    },
    {
     "name": "stderr",
     "output_type": "stream",
     "text": [
      "reconstraining parameters GP_regression.Mat52.lengthscale\n",
      "reconstraining parameters GP_regression.Mat52.variance\n",
      "reconstraining parameters GP_regression.Gaussian_noise.variance\n"
     ]
    },
    {
     "name": "stdout",
     "output_type": "stream",
     "text": [
      "Optimization restart 10/10, f = 156.98131775195577\n",
      "Optimization restart 1/10, f = 5.212819646325386\n",
      "Optimization restart 2/10, f = 23.74138413050099\n",
      "Optimization restart 3/10, f = 521.2575768916585\n",
      "Optimization restart 4/10, f = 454.4041230835334\n",
      "Optimization restart 5/10, f = 6.926607461811869\n",
      "Optimization restart 6/10, f = 367.432706490618\n",
      "Optimization restart 7/10, f = 510.38341508967954\n",
      "Optimization restart 8/10, f = 3010552135.5394998\n",
      "Optimization restart 9/10, f = 55.06813291900322\n",
      "Optimization restart 10/10, f = 350.5347050972707\n",
      "(4_w,9)-aCMA-ES (mu_w=2.8,w_1=49%) in dimension 6 (seed=477336, Tue Aug 25 19:55:20 2020)\n",
      "Iterat #Fevals   function value  axis ratio  sigma  min&max std  t[m:s]\n",
      "    1      9 3.221507299287597e+00 1.0e+00 2.25e-01  2e-01  2e-01 0:00.8\n",
      "    2     18 3.145964183152262e+00 1.2e+00 2.47e-01  2e-01  3e-01 0:01.6\n",
      "    3     27 2.516447394156484e+00 1.5e+00 2.74e-01  2e-01  3e-01 0:02.4\n",
      "    7     63 1.419873811455487e+00 2.0e+00 4.13e-01  3e-01  5e-01 0:05.6\n",
      "   13    117 1.724579840866780e+00 3.5e+00 5.57e-01  3e-01  8e-01 0:10.3\n",
      "   20    180 1.426283134059476e+00 4.9e+00 4.10e-01  1e-01  6e-01 0:15.7\n",
      "   28    252 1.344306844812310e+00 8.4e+00 2.66e-01  6e-02  4e-01 0:22.0\n",
      "   38    342 1.227697410903776e+00 1.3e+01 3.03e-01  4e-02  5e-01 0:29.8\n",
      "   49    441 1.087361027937162e+00 3.0e+01 5.19e-01  5e-02  1e+00 0:38.4\n",
      "   61    549 1.041149956671668e+00 3.2e+01 2.82e-01  2e-02  4e-01 0:47.8\n",
      "   74    666 1.028573848020355e+00 3.5e+01 2.30e-01  9e-03  3e-01 0:57.9\n",
      "   88    792 1.026239217379715e+00 4.4e+01 1.07e-01  3e-03  1e-01 1:09.0\n",
      "  100    900 1.026083491877959e+00 4.3e+01 2.66e-02  6e-04  2e-02 1:18.3\n",
      "  117   1053 1.026079108136425e+00 4.7e+01 7.24e-03  1e-04  4e-03 1:31.5\n",
      "  135   1215 1.026078871644200e+00 4.9e+01 1.15e-03  1e-05  5e-04 1:45.5\n",
      "  155   1395 1.026078870530968e+00 5.6e+01 1.10e-04  6e-07  3e-05 2:01.1\n",
      "  176   1584 1.026078870524455e+00 5.6e+01 8.06e-06  3e-08  1e-06 2:17.3\n",
      "  184   1656 1.026078870524446e+00 5.5e+01 3.66e-06  1e-08  4e-07 2:23.7\n"
     ]
    },
    {
     "name": "stderr",
     "output_type": "stream",
     "text": [
      "reconstraining parameters GP_regression.Mat52.lengthscale\n",
      "reconstraining parameters GP_regression.Mat52.variance\n",
      "reconstraining parameters GP_regression.Gaussian_noise.variance\n"
     ]
    },
    {
     "name": "stdout",
     "output_type": "stream",
     "text": [
      "termination on tolfun=1e-11 (Tue Aug 25 19:57:44 2020)\n",
      "final/bestever f-value = 1.026079e+00 1.026079e+00\n",
      "incumbent solution: [8.983985263823449e-16, 3.9999999999999996, 5.999999999999984, 2.0282706458969724, 9.67946340776486, 11.999999999999996]\n",
      "std deviation: [1.1391427747953002e-08, 2.040721256643449e-08, 8.132600123275469e-08, 3.2656638281768415e-07, 4.4973803677461875e-07, 3.7226900385537735e-07]\n",
      "Optimization restart 1/10, f = 72.92234944401025\n",
      "Optimization restart 2/10, f = 86.37099473565527\n",
      "Optimization restart 3/10, f = 585.2930353086746\n",
      "Optimization restart 4/10, f = 413.3547223126131\n",
      "Optimization restart 5/10, f = 138.14928074963484\n",
      "Optimization restart 6/10, f = 138.14862877156324\n",
      "Optimization restart 7/10, f = 123.4476523888065\n"
     ]
    },
    {
     "name": "stderr",
     "output_type": "stream",
     "text": [
      "reconstraining parameters GP_regression.Mat52.lengthscale\n",
      "reconstraining parameters GP_regression.Mat52.variance\n",
      "reconstraining parameters GP_regression.Gaussian_noise.variance\n"
     ]
    },
    {
     "name": "stdout",
     "output_type": "stream",
     "text": [
      "Optimization restart 8/10, f = 86.69583118074115\n",
      "Optimization restart 9/10, f = 580.7603451150156\n",
      "Optimization restart 10/10, f = 481.750689620914\n",
      "Optimization restart 1/10, f = 6.7836605174881015\n",
      "Optimization restart 2/10, f = 405.8021621224765\n",
      "Optimization restart 3/10, f = 580.7603451150156\n",
      "Optimization restart 4/10, f = 49.67305840073855\n",
      "Optimization restart 5/10, f = 497.90973791872364\n",
      "Optimization restart 6/10, f = 580.7603451150156\n",
      "Optimization restart 7/10, f = 50.13767861497588\n",
      "Optimization restart 8/10, f = 6.783660517932368\n",
      "Optimization restart 9/10, f = 515.6977419040583\n",
      "Optimization restart 10/10, f = 395.5605083866037\n",
      "(4_w,9)-aCMA-ES (mu_w=2.8,w_1=49%) in dimension 6 (seed=457472, Tue Aug 25 19:57:49 2020)\n",
      "Iterat #Fevals   function value  axis ratio  sigma  min&max std  t[m:s]\n",
      "    1      9 1.448385675399969e+00 1.0e+00 2.12e-01  2e-01  2e-01 0:00.8\n",
      "    2     18 2.445469668878935e+00 1.2e+00 1.98e-01  2e-01  2e-01 0:01.6\n",
      "    3     27 1.212757875212841e+00 1.3e+00 1.95e-01  2e-01  2e-01 0:02.3\n",
      "    7     63 1.811763015459940e+00 1.8e+00 3.35e-01  3e-01  4e-01 0:05.5\n",
      "   13    117 1.444614830235323e+00 2.4e+00 2.94e-01  2e-01  4e-01 0:10.2\n",
      "   20    180 1.448513224441761e+00 4.3e+00 1.66e-01  6e-02  2e-01 0:15.7\n",
      "   28    252 1.403994816272581e+00 7.5e+00 1.15e-01  3e-02  2e-01 0:22.4\n",
      "   37    333 1.364381580906274e+00 1.1e+01 1.05e-01  2e-02  2e-01 0:29.6\n",
      "   48    432 1.157494214693924e+00 2.7e+01 5.03e-01  6e-02  1e+00 0:38.2\n",
      "   60    540 7.122775587663182e-01 3.9e+01 1.34e+00  1e-01  4e+00 0:47.7\n",
      "   73    657 6.119303793137612e-01 5.1e+01 4.44e-01  2e-02  1e+00 0:57.9\n",
      "   87    783 5.930552266733937e-01 3.3e+01 1.82e-01  9e-03  3e-01 1:09.2\n",
      "  100    900 5.909985508402955e-01 3.3e+01 7.78e-02  3e-03  8e-02 1:19.9\n",
      "  116   1044 5.908759192971631e-01 3.4e+01 2.33e-02  5e-04  2e-02 1:34.0\n",
      "  133   1197 5.908658429814388e-01 3.3e+01 9.50e-03  2e-04  4e-03 1:48.0\n",
      "  152   1368 5.908649097612446e-01 4.9e+01 2.04e-03  2e-05  8e-04 2:03.1\n",
      "  173   1557 5.908648918405568e-01 3.9e+01 2.97e-04  2e-06  6e-05 2:19.8\n",
      "  192   1728 5.908648917944763e-01 4.8e+01 5.18e-05  2e-07  7e-06 2:37.4\n",
      "  200   1800 5.908648917929615e-01 4.5e+01 2.85e-05  1e-07  4e-06 2:45.8\n",
      "  212   1908 5.908648917926909e-01 5.3e+01 1.62e-05  4e-08  2e-06 2:55.2\n"
     ]
    },
    {
     "name": "stderr",
     "output_type": "stream",
     "text": [
      "reconstraining parameters GP_regression.Mat52.lengthscale\n",
      "reconstraining parameters GP_regression.Mat52.variance\n",
      "reconstraining parameters GP_regression.Gaussian_noise.variance\n"
     ]
    },
    {
     "name": "stdout",
     "output_type": "stream",
     "text": [
      "termination on tolfun=1e-11 (Tue Aug 25 20:00:45 2020)\n",
      "final/bestever f-value = 5.908649e-01 5.908649e-01\n",
      "incumbent solution: [5.555284172880841e-17, 3.999999999999999, 5.99999999999979, 1.995075001990185e-15, 1.5563442226601212, 3.0103596187890194]\n",
      "std deviation: [4.137186622944104e-08, 1.0597753006461768e-07, 4.407457177424743e-07, 1.336980594404184e-07, 1.7340388896057283e-06, 1.4099769567087808e-06]\n",
      "Optimization restart 1/10, f = 74.33012085424483\n",
      "Optimization restart 2/10, f = 154.1784223212971\n",
      "Optimization restart 3/10, f = 502.3574396581459\n",
      "Optimization restart 4/10, f = 517.0162576921181\n",
      "Optimization restart 5/10, f = 539.7844489830729\n",
      "Optimization restart 6/10, f = 4395178.737452868\n",
      "Optimization restart 7/10, f = 392.55179857810333\n",
      "Optimization restart 8/10, f = 144.66632660705255\n"
     ]
    },
    {
     "name": "stderr",
     "output_type": "stream",
     "text": [
      "reconstraining parameters GP_regression.Mat52.lengthscale\n",
      "reconstraining parameters GP_regression.Mat52.variance\n",
      "reconstraining parameters GP_regression.Gaussian_noise.variance\n"
     ]
    },
    {
     "name": "stdout",
     "output_type": "stream",
     "text": [
      "Optimization restart 9/10, f = 207.30706625964984\n",
      "Optimization restart 10/10, f = 348.3753734359384\n",
      "Optimization restart 1/10, f = 7.229827571991294\n",
      "Optimization restart 2/10, f = 459.74496069876534\n",
      "Optimization restart 3/10, f = 365.7849035011003\n",
      "Optimization restart 4/10, f = 34.10021364108947\n",
      "Optimization restart 5/10, f = 587.4357513807056\n",
      "Optimization restart 6/10, f = 517.7984473916374\n",
      "Optimization restart 7/10, f = 503.24810513373615\n",
      "Optimization restart 8/10, f = 572.6397571140149\n",
      "Optimization restart 9/10, f = 506.2297214988428\n",
      "Optimization restart 10/10, f = 484.49260914093486\n",
      "(4_w,9)-aCMA-ES (mu_w=2.8,w_1=49%) in dimension 6 (seed=493357, Tue Aug 25 20:00:49 2020)\n",
      "Iterat #Fevals   function value  axis ratio  sigma  min&max std  t[m:s]\n",
      "    1      9 3.240538383669388e+00 1.0e+00 2.62e-01  3e-01  3e-01 0:00.8\n",
      "    2     18 1.949301546704236e+00 1.4e+00 2.73e-01  3e-01  3e-01 0:01.5\n",
      "    3     27 1.106487342464658e+00 1.5e+00 2.98e-01  3e-01  3e-01 0:02.4\n",
      "    7     63 -6.249269050909056e-03 2.0e+00 5.22e-01  5e-01  7e-01 0:05.6\n",
      "   12    108 -1.954470598986457e-02 2.4e+00 1.09e+00  9e-01  1e+00 0:10.5\n",
      "   17    153 -2.871818164876849e-02 2.6e+00 6.49e-01  5e-01  8e-01 0:16.5\n",
      "   23    207 -3.664667145592038e-02 3.3e+00 5.93e-01  4e-01  7e-01 0:23.4\n",
      "   30    270 -6.163216037568509e-02 3.5e+00 4.39e-01  2e-01  5e-01 0:31.2\n",
      "   37    333 -7.368842593775060e-02 4.1e+00 2.41e-01  9e-02  2e-01 0:39.6\n",
      "   45    405 -8.230677237331729e-02 4.5e+00 2.18e-01  6e-02  2e-01 0:49.0\n",
      "   54    486 -9.050895082340604e-02 6.7e+00 2.28e-01  4e-02  2e-01 0:59.4\n",
      "   64    576 -9.519259740940633e-02 7.7e+00 1.05e-01  1e-02  8e-02 1:10.9\n",
      "   75    675 -9.570464908451859e-02 1.1e+01 4.88e-02  4e-03  4e-02 1:23.5\n",
      "   87    783 -9.576624016200919e-02 1.4e+01 2.82e-02  1e-03  2e-02 1:37.3\n",
      "  100    900 -9.578060494503760e-02 1.4e+01 7.00e-03  3e-04  3e-03 1:52.5\n",
      "  114   1026 -9.578083386469638e-02 1.4e+01 1.93e-03  5e-05  6e-04 2:08.5\n",
      "  128   1152 -9.578084278398746e-02 1.5e+01 6.01e-04  1e-05  1e-04 2:25.2\n",
      "  143   1287 -9.578084416931665e-02 1.3e+01 1.65e-04  2e-06  3e-05 2:42.3\n",
      "  159   1431 -9.578084420227828e-02 1.1e+01 3.64e-05  4e-07  4e-06 3:00.9\n",
      "  176   1584 -9.578084420313937e-02 1.3e+01 1.58e-05  1e-07  1e-06 3:20.5\n",
      "  177   1593 -9.578084420311983e-02 1.2e+01 1.39e-05  1e-07  1e-06 3:21.6\n"
     ]
    },
    {
     "name": "stderr",
     "output_type": "stream",
     "text": [
      "reconstraining parameters GP_regression.Mat52.lengthscale\n"
     ]
    },
    {
     "name": "stdout",
     "output_type": "stream",
     "text": [
      "termination on tolfun=1e-11 (Tue Aug 25 20:04:11 2020)\n",
      "final/bestever f-value = -9.578084e-02 -9.578084e-02\n",
      "incumbent solution: [0.7714689400191498, 0.5639945063765115, 3.116749544057291, 3.9255498165528544, 4.209562835062101, 4.6980796353074155]\n",
      "std deviation: [9.881828302974326e-08, 3.0274039910563913e-07, 4.804102606531206e-07, 9.241414140449252e-07, 9.79076195009712e-07, 1.1375933201582743e-06]\n"
     ]
    },
    {
     "name": "stderr",
     "output_type": "stream",
     "text": [
      "reconstraining parameters GP_regression.Mat52.variance\n",
      "reconstraining parameters GP_regression.Gaussian_noise.variance\n"
     ]
    },
    {
     "name": "stdout",
     "output_type": "stream",
     "text": [
      "Optimization restart 1/10, f = 72.47442165742646\n",
      "Optimization restart 2/10, f = 126.2855294537479\n",
      "Optimization restart 3/10, f = 156.2012086741143\n",
      "Optimization restart 4/10, f = 553.368703391572\n",
      "Optimization restart 5/10, f = 11154696.841169469\n",
      "Optimization restart 6/10, f = 565.3176505245164\n",
      "Optimization restart 7/10, f = 555.6788209180969\n",
      "Optimization restart 8/10, f = 126.28552945521605\n"
     ]
    },
    {
     "name": "stderr",
     "output_type": "stream",
     "text": [
      "reconstraining parameters GP_regression.Mat52.lengthscale\n",
      "reconstraining parameters GP_regression.Mat52.variance\n",
      "reconstraining parameters GP_regression.Gaussian_noise.variance\n"
     ]
    },
    {
     "name": "stdout",
     "output_type": "stream",
     "text": [
      "Optimization restart 9/10, f = 768.7215720518066\n",
      "Optimization restart 10/10, f = 535.1085021154986\n",
      "Optimization restart 1/10, f = 5.914320980102474\n",
      "Optimization restart 2/10, f = 63.8520860588239\n",
      "Optimization restart 3/10, f = 422.0899905855186\n",
      "Optimization restart 4/10, f = 52.96616700770221\n",
      "Optimization restart 5/10, f = 116.09030316405659\n",
      "Optimization restart 6/10, f = 594.1111576463953\n",
      "Optimization restart 7/10, f = 463.00068685074007\n",
      "Optimization restart 8/10, f = 594.1111576463953\n",
      "Optimization restart 9/10, f = 5.914320979970853\n",
      "Optimization restart 10/10, f = 368.43995361854445\n",
      "(4_w,9)-aCMA-ES (mu_w=2.8,w_1=49%) in dimension 6 (seed=473283, Tue Aug 25 20:04:15 2020)\n",
      "Iterat #Fevals   function value  axis ratio  sigma  min&max std  t[m:s]\n",
      "    1      9 9.334516473350916e-01 1.0e+00 2.43e-01  2e-01  3e-01 0:00.8\n",
      "    2     18 5.968990773789569e-01 1.4e+00 2.82e-01  3e-01  3e-01 0:01.6\n",
      "    3     27 3.738561356566248e-01 1.5e+00 3.22e-01  3e-01  4e-01 0:02.4\n",
      "    6     54 -2.961344842676139e-02 1.9e+00 4.57e-01  5e-01  5e-01 0:05.6\n",
      "   10     90 -5.240177809809143e-02 1.9e+00 4.01e-01  3e-01  4e-01 0:10.0\n",
      "   15    135 -4.585028000091285e-02 2.1e+00 2.89e-01  2e-01  3e-01 0:15.8\n",
      "   21    189 -5.360344012825990e-02 3.1e+00 1.76e-01  7e-02  2e-01 0:22.7\n",
      "   28    252 -5.760251961290352e-02 3.7e+00 1.04e-01  3e-02  1e-01 0:30.9\n",
      "   35    315 -5.799033793070363e-02 4.5e+00 5.50e-02  1e-02  5e-02 0:38.9\n",
      "   43    387 -5.818616427870049e-02 8.1e+00 3.70e-02  5e-03  3e-02 0:48.3\n",
      "   52    468 -5.820158700023104e-02 7.6e+00 1.69e-02  2e-03  1e-02 0:58.8\n",
      "   62    558 -5.820539718270101e-02 8.8e+00 6.21e-03  5e-04  4e-03 1:10.3\n",
      "   73    657 -5.820578465795956e-02 1.1e+01 3.39e-03  2e-04  2e-03 1:23.4\n",
      "   84    756 -5.820582537800467e-02 1.2e+01 1.12e-03  5e-05  6e-04 1:36.6\n",
      "   96    864 -5.820582974101685e-02 1.5e+01 4.09e-04  1e-05  2e-04 1:50.7\n",
      "  100    900 -5.820583006453672e-02 1.7e+01 2.65e-04  6e-06  1e-04 1:55.3\n",
      "  114   1026 -5.820583015297531e-02 1.4e+01 1.11e-04  2e-06  3e-05 2:11.7\n",
      "  129   1161 -5.820583016663550e-02 1.1e+01 4.82e-05  8e-07  8e-06 2:29.2\n",
      "  145   1305 -5.820583016948655e-02 1.4e+01 1.17e-05  1e-07  2e-06 2:47.9\n",
      "  146   1314 -5.820583016949410e-02 1.4e+01 1.10e-05  1e-07  1e-06 2:49.1\n"
     ]
    },
    {
     "name": "stderr",
     "output_type": "stream",
     "text": [
      "reconstraining parameters GP_regression.Mat52.lengthscale\n",
      "reconstraining parameters GP_regression.Mat52.variance\n",
      "reconstraining parameters GP_regression.Gaussian_noise.variance\n"
     ]
    },
    {
     "name": "stdout",
     "output_type": "stream",
     "text": [
      "termination on tolfun=1e-11 (Tue Aug 25 20:07:04 2020)\n",
      "final/bestever f-value = -5.820583e-02 -5.820583e-02\n",
      "incumbent solution: [0.5552120511788822, 0.8193556008759388, 3.2864045185568944, 4.294856313131259, 4.677283526530467, 5.2549509407116854]\n",
      "std deviation: [1.2490141804025264e-07, 3.770172464466347e-07, 6.374841836871395e-07, 8.705517937294717e-07, 1.3572787149843425e-06, 1.2949994024541277e-06]\n",
      "Optimization restart 1/10, f = 70.50288018459926\n",
      "Optimization restart 2/10, f = 83187047.23456417\n",
      "Optimization restart 3/10, f = 529.6069800236627\n",
      "Optimization restart 4/10, f = 124.67332611761198\n",
      "Optimization restart 5/10, f = 148.46073290068097\n",
      "Optimization restart 6/10, f = 578.7917257878482\n",
      "Optimization restart 7/10, f = 555.9034725472978\n",
      "Optimization restart 8/10, f = 491.58782823480266\n",
      "Optimization restart 9/10, f = 145.1212441239941\n",
      "Optimization restart 10/10, f = 493.46516996900215\n"
     ]
    },
    {
     "name": "stderr",
     "output_type": "stream",
     "text": [
      "reconstraining parameters GP_regression.Mat52.lengthscale\n",
      "reconstraining parameters GP_regression.Mat52.variance\n",
      "reconstraining parameters GP_regression.Gaussian_noise.variance\n"
     ]
    },
    {
     "name": "stdout",
     "output_type": "stream",
     "text": [
      "Optimization restart 1/10, f = 3.903600452086245\n",
      "Optimization restart 2/10, f = 127.70446798842056\n",
      "Optimization restart 3/10, f = 519.8194236081833\n",
      "Optimization restart 4/10, f = 590.5089364461803\n",
      "Optimization restart 5/10, f = 397.01224532434276\n",
      "Optimization restart 6/10, f = 62.13785140845505\n",
      "Optimization restart 7/10, f = 340.2062380938948\n",
      "Optimization restart 8/10, f = 545.8530557343996\n",
      "Optimization restart 9/10, f = 3.9036004521484458\n",
      "Optimization restart 10/10, f = 498.5661758002219\n",
      "(4_w,9)-aCMA-ES (mu_w=2.8,w_1=49%) in dimension 6 (seed=554097, Tue Aug 25 20:07:08 2020)\n",
      "Iterat #Fevals   function value  axis ratio  sigma  min&max std  t[m:s]\n",
      "    1      9 1.343535890371844e+00 1.0e+00 2.45e-01  2e-01  3e-01 0:00.8\n",
      "    2     18 7.101749856158053e-01 1.3e+00 2.97e-01  3e-01  3e-01 0:01.6\n",
      "    3     27 7.049136570660175e-01 1.4e+00 3.39e-01  3e-01  4e-01 0:02.4\n",
      "    7     63 4.055664567395811e-01 1.9e+00 7.17e-01  6e-01  8e-01 0:05.7\n",
      "   11     99 -7.555153834672090e-03 2.3e+00 1.27e+00  1e+00  2e+00 0:09.8\n",
      "   17    153 -5.663862818590104e-04 3.5e+00 2.60e+00  2e+00  5e+00 0:14.9\n",
      "   25    225 4.669978247988555e-01 4.4e+00 2.43e+00  2e+00  5e+00 0:21.5\n",
      "   34    306 -1.417874688822707e-04 5.7e+00 1.70e+00  9e-01  4e+00 0:29.2\n",
      "   43    387 -0.000000000000000e+00 1.1e+01 1.50e+00  5e-01  5e+00 0:37.3\n",
      "   53    477 -2.314698867585641e-02 8.6e+00 5.96e-01  2e-01  1e+00 0:47.4\n",
      "   62    558 -3.567650656195820e-02 6.7e+00 2.45e-01  5e-02  3e-01 0:58.1\n",
      "   72    648 -3.612542750013503e-02 1.2e+01 1.40e-01  1e-02  2e-01 1:10.2\n",
      "   83    747 -3.628373221969383e-02 1.7e+01 7.73e-02  5e-03  7e-02 1:23.3\n",
      "   94    846 -3.634064408854965e-02 1.9e+01 2.64e-02  1e-03  2e-02 1:36.5\n",
      "  100    900 -3.635570455148951e-02 1.8e+01 2.34e-02  1e-03  1e-02 1:43.7\n",
      "  113   1017 -3.635905792408334e-02 1.7e+01 1.10e-02  4e-04  5e-03 1:59.5\n",
      "  127   1143 -3.635925309034960e-02 2.4e+01 2.90e-03  7e-05  1e-03 2:16.3\n",
      "  142   1278 -3.635925710453591e-02 2.5e+01 6.02e-04  9e-06  1e-04 2:34.3\n",
      "  158   1422 -3.635925739648549e-02 2.7e+01 1.20e-04  1e-06  2e-05 2:53.4\n",
      "  174   1566 -3.635925740270718e-02 2.2e+01 3.17e-05  3e-07  4e-06 3:12.6\n",
      "  187   1683 -3.635925740289991e-02 2.4e+01 1.22e-05  6e-08  1e-06 3:28.1\n"
     ]
    },
    {
     "name": "stderr",
     "output_type": "stream",
     "text": [
      "reconstraining parameters GP_regression.Mat52.lengthscale\n",
      "reconstraining parameters GP_regression.Mat52.variance\n",
      "reconstraining parameters GP_regression.Gaussian_noise.variance\n"
     ]
    },
    {
     "name": "stdout",
     "output_type": "stream",
     "text": [
      "termination on tolfun=1e-11 (Tue Aug 25 20:10:37 2020)\n",
      "final/bestever f-value = -3.635926e-02 -4.779433e-02\n",
      "incumbent solution: [0.9428707087778929, 0.04142745131763699, 2.8663092534383416, 3.304921616546759, 3.6421977599554456, 5.060842026957769]\n",
      "std deviation: [6.481947457550826e-08, 3.2334122529656257e-07, 5.48067599464306e-07, 8.97032801018909e-07, 9.309755783309965e-07, 1.1576197063713376e-06]\n",
      "Optimization restart 1/10, f = 69.98735619335453\n",
      "Optimization restart 2/10, f = 92.42450997248804\n",
      "Optimization restart 3/10, f = 557.972383036516\n",
      "Optimization restart 4/10, f = 453.29933877095516\n",
      "Optimization restart 5/10, f = 607.461970177775\n",
      "Optimization restart 6/10, f = 607.461970177775\n",
      "Optimization restart 7/10, f = 2666553792.561312\n",
      "Optimization restart 8/10, f = 321.96128152307887\n"
     ]
    },
    {
     "name": "stderr",
     "output_type": "stream",
     "text": [
      "reconstraining parameters GP_regression.Mat52.lengthscale\n",
      "reconstraining parameters GP_regression.Mat52.variance\n",
      "reconstraining parameters GP_regression.Gaussian_noise.variance\n"
     ]
    },
    {
     "name": "stdout",
     "output_type": "stream",
     "text": [
      "Optimization restart 9/10, f = 129.04385240801236\n",
      "Optimization restart 10/10, f = 513.9675066392653\n",
      "Optimization restart 1/10, f = 2.301651460589447\n",
      "Optimization restart 2/10, f = 425.16529585809263\n",
      "Optimization restart 3/10, f = 60.44440017952945\n",
      "Optimization restart 4/10, f = 9.586051942419495\n",
      "Optimization restart 5/10, f = 420.4204777231453\n",
      "Optimization restart 6/10, f = 375.9115128585766\n",
      "Optimization restart 7/10, f = 119.63356074001126\n",
      "Optimization restart 8/10, f = 607.461970177775\n",
      "Optimization restart 9/10, f = 460.5929413735435\n",
      "Optimization restart 10/10, f = 507.1200860910386\n",
      "(4_w,9)-aCMA-ES (mu_w=2.8,w_1=49%) in dimension 6 (seed=494930, Tue Aug 25 20:10:41 2020)\n",
      "Iterat #Fevals   function value  axis ratio  sigma  min&max std  t[m:s]\n",
      "    1      9 4.434253413112283e-01 1.0e+00 2.37e-01  2e-01  2e-01 0:00.8\n",
      "    2     18 4.416710238108419e-01 1.2e+00 2.36e-01  2e-01  2e-01 0:01.7\n",
      "    3     27 -0.000000000000000e+00 1.4e+00 2.42e-01  2e-01  3e-01 0:02.7\n",
      "    7     63 -2.934079761214292e-04 2.1e+00 2.36e-01  2e-01  3e-01 0:06.4\n",
      "   11     99 -4.735623126491895e-03 2.8e+00 2.54e-01  2e-01  3e-01 0:10.9\n",
      "   16    144 -1.897593986636004e-02 3.4e+00 2.62e-01  1e-01  3e-01 0:16.8\n",
      "   21    189 -2.362760719871471e-02 5.4e+00 4.19e-01  2e-01  7e-01 0:23.0\n",
      "   27    243 -4.370091893380490e-02 6.0e+00 3.03e-01  9e-02  4e-01 0:30.4\n",
      "   34    306 -4.474763917848179e-02 7.5e+00 1.90e-01  5e-02  3e-01 0:39.0\n",
      "   41    369 -4.685636196162335e-02 8.6e+00 1.57e-01  3e-02  2e-01 0:48.0\n",
      "   50    450 -4.759508244621546e-02 1.1e+01 7.66e-02  1e-02  9e-02 0:59.0\n",
      "   60    540 -4.768295513563903e-02 1.2e+01 3.16e-02  3e-03  3e-02 1:11.2\n",
      "   70    630 -4.769482689236426e-02 1.3e+01 2.18e-02  2e-03  2e-02 1:23.3\n",
      "   81    729 -4.769870901518480e-02 1.1e+01 7.13e-03  6e-04  4e-03 1:37.0\n",
      "   93    837 -4.769894870824398e-02 1.3e+01 4.22e-03  2e-04  2e-03 1:51.5\n",
      "  100    900 -4.769900375312641e-02 1.2e+01 2.35e-03  1e-04  1e-03 2:00.2\n",
      "  114   1026 -4.769901100588481e-02 1.2e+01 7.28e-04  2e-05  2e-04 2:17.3\n",
      "  128   1152 -4.769901189563264e-02 1.1e+01 1.70e-04  4e-06  4e-05 2:34.6\n",
      "  143   1287 -4.769901191418668e-02 1.3e+01 3.63e-05  6e-07  6e-06 2:52.9\n",
      "  158   1422 -4.769901191447179e-02 1.3e+01 1.29e-05  2e-07  2e-06 3:11.3\n"
     ]
    },
    {
     "name": "stderr",
     "output_type": "stream",
     "text": [
      "reconstraining parameters GP_regression.Mat52.lengthscale\n",
      "reconstraining parameters GP_regression.Mat52.variance\n",
      "reconstraining parameters GP_regression.Gaussian_noise.variance\n"
     ]
    },
    {
     "name": "stdout",
     "output_type": "stream",
     "text": [
      "termination on tolfun=1e-11 (Tue Aug 25 20:13:52 2020)\n",
      "final/bestever f-value = -4.769901e-02 -4.769901e-02\n",
      "incumbent solution: [1.30889317482227, 3.5688997836164678, 4.322674474575948, 1.5421582835940855, 9.010677223961125, 8.20849032109893]\n",
      "std deviation: [1.597775511839893e-07, 1.5930111585355502e-07, 8.233951723317973e-07, 1.051352977897651e-06, 1.6777937572325285e-06, 1.1951917266716538e-06]\n",
      "Optimization restart 1/10, f = 71.34899036408623\n",
      "Optimization restart 2/10, f = 140.72236298564493\n",
      "Optimization restart 3/10, f = 4594959.589155271\n",
      "Optimization restart 4/10, f = 399.0671705453863\n",
      "Optimization restart 5/10, f = 121.38071066319648\n",
      "Optimization restart 6/10, f = 2751091779.7882433\n",
      "Optimization restart 7/10, f = 504.43400339575595\n",
      "Optimization restart 8/10, f = 84.31539699814024\n",
      "Optimization restart 9/10, f = 523.3570762171678\n"
     ]
    },
    {
     "name": "stderr",
     "output_type": "stream",
     "text": [
      "reconstraining parameters GP_regression.Mat52.lengthscale\n",
      "reconstraining parameters GP_regression.Mat52.variance\n",
      "reconstraining parameters GP_regression.Gaussian_noise.variance\n"
     ]
    },
    {
     "name": "stdout",
     "output_type": "stream",
     "text": [
      "Optimization restart 10/10, f = 614.1373764434647\n",
      "Optimization restart 1/10, f = 3.356206303128154\n",
      "Optimization restart 2/10, f = 556.3127652999219\n",
      "Optimization restart 3/10, f = 614.1373764434647\n",
      "Optimization restart 4/10, f = 614.1373764434647\n",
      "Optimization restart 5/10, f = 3195229484.9964747\n",
      "Optimization restart 6/10, f = 436.90869828875543\n",
      "Optimization restart 7/10, f = 614.1373764434647\n",
      "Optimization restart 8/10, f = 581.0228219613005\n",
      "Optimization restart 9/10, f = 501.4644668237674\n",
      "Optimization restart 10/10, f = 340.17961831644214\n",
      "(4_w,9)-aCMA-ES (mu_w=2.8,w_1=49%) in dimension 6 (seed=450976, Tue Aug 25 20:13:56 2020)\n",
      "Iterat #Fevals   function value  axis ratio  sigma  min&max std  t[m:s]\n",
      "    1      9 5.994833053586492e-01 1.0e+00 2.30e-01  2e-01  2e-01 0:00.8\n",
      "    2     18 5.165074058988539e-01 1.2e+00 2.05e-01  2e-01  2e-01 0:01.7\n",
      "    3     27 5.144443922873085e-01 1.3e+00 2.11e-01  2e-01  2e-01 0:02.5\n",
      "    7     63 3.096452936341116e-01 2.2e+00 2.96e-01  2e-01  3e-01 0:06.2\n",
      "   10     90 -0.000000000000000e+00 2.5e+00 2.92e-01  2e-01  3e-01 0:10.8\n",
      "   13    117 -5.878758837599030e-03 3.1e+00 3.48e-01  2e-01  4e-01 0:17.1\n",
      "   17    153 -2.990639997753330e-02 4.4e+00 4.22e-01  2e-01  6e-01 0:24.3\n",
      "   22    198 -2.672989394315373e-02 6.2e+00 3.16e-01  1e-01  5e-01 0:31.5\n",
      "   29    261 -2.994043457515705e-02 7.3e+00 3.69e-01  1e-01  5e-01 0:40.5\n",
      "   36    324 -3.443825811398682e-02 8.5e+00 2.12e-01  4e-02  3e-01 0:50.2\n",
      "   44    396 -3.749587849041891e-02 9.5e+00 1.16e-01  2e-02  1e-01 1:00.3\n",
      "   53    477 -3.772010948105287e-02 1.1e+01 4.03e-02  4e-03  3e-02 1:11.7\n",
      "   63    567 -3.774385454158047e-02 1.4e+01 1.30e-02  7e-04  8e-03 1:24.2\n",
      "   73    657 -3.774468665729813e-02 1.7e+01 3.87e-03  2e-04  2e-03 1:37.9\n",
      "   84    756 -3.774488098579720e-02 1.6e+01 2.04e-03  7e-05  8e-04 1:51.9\n",
      "   96    864 -3.774495847108117e-02 2.7e+01 3.12e-03  9e-05  2e-03 2:07.2\n",
      "  100    900 -3.774497427490520e-02 3.2e+01 2.14e-03  5e-05  1e-03 2:12.3\n",
      "  114   1026 -3.774498196609599e-02 3.4e+01 6.62e-04  1e-05  3e-04 2:30.1\n",
      "  129   1161 -3.774498201385423e-02 2.7e+01 3.89e-04  5e-06  1e-04 2:49.2\n",
      "  143   1287 -3.774498209255839e-02 3.0e+01 1.15e-04  1e-06  2e-05 3:08.3\n",
      "  159   1431 -3.774498210181054e-02 3.0e+01 3.05e-05  2e-07  4e-06 3:28.9\n",
      "  171   1539 -3.774498210200061e-02 2.4e+01 6.63e-06  3e-08  7e-07 3:44.0\n",
      "termination on tolfun=1e-11 (Tue Aug 25 20:17:40 2020)\n",
      "final/bestever f-value = -3.774498e-02 -3.774498e-02\n",
      "incumbent solution: [0.9327917572030238, 0.00163109402617745, 2.8916138111841727, 3.352035650414252, 3.813394290657481, 4.92052039421756]\n",
      "std deviation: [3.45822289345576e-08, 6.515695336401533e-07, 2.3491375798169186e-07, 3.6711952045637275e-07, 3.6288011439402694e-07, 4.5703167578315856e-07]\n"
     ]
    },
    {
     "name": "stderr",
     "output_type": "stream",
     "text": [
      "reconstraining parameters GP_regression.Mat52.lengthscale\n",
      "reconstraining parameters GP_regression.Mat52.variance\n",
      "reconstraining parameters GP_regression.Gaussian_noise.variance\n"
     ]
    },
    {
     "name": "stdout",
     "output_type": "stream",
     "text": [
      "Optimization restart 1/10, f = 69.96068758056744\n",
      "Optimization restart 2/10, f = 77.03616537247721\n",
      "Optimization restart 3/10, f = 4644904.802080872\n",
      "Optimization restart 4/10, f = 145.13883636740636\n",
      "Optimization restart 5/10, f = 72.91363777640791\n",
      "Optimization restart 6/10, f = 400.79905179555396\n",
      "Optimization restart 7/10, f = 582.6552415840276\n"
     ]
    },
    {
     "name": "stderr",
     "output_type": "stream",
     "text": [
      "reconstraining parameters GP_regression.Mat52.lengthscale\n",
      "reconstraining parameters GP_regression.Mat52.variance\n",
      "reconstraining parameters GP_regression.Gaussian_noise.variance\n"
     ]
    },
    {
     "name": "stdout",
     "output_type": "stream",
     "text": [
      "Optimization restart 8/10, f = 145.13767396344124\n",
      "Optimization restart 9/10, f = 620.8127827091546\n",
      "Optimization restart 10/10, f = 620.8127827091546\n",
      "Optimization restart 1/10, f = 1.4211728057542032\n",
      "Optimization restart 2/10, f = 131.96128358803458\n",
      "Optimization restart 3/10, f = 366.16732806035174\n",
      "Optimization restart 4/10, f = 7.891839846767958\n",
      "Optimization restart 5/10, f = 561.6233535056529\n",
      "Optimization restart 6/10, f = 1.4211728066170721\n",
      "Optimization restart 7/10, f = 438.8127771227838\n",
      "Optimization restart 8/10, f = 14.641273479670382\n",
      "Optimization restart 9/10, f = 562.47454182365\n",
      "Optimization restart 10/10, f = 221.11034953211262\n",
      "(4_w,9)-aCMA-ES (mu_w=2.8,w_1=49%) in dimension 6 (seed=499695, Tue Aug 25 20:17:45 2020)\n",
      "Iterat #Fevals   function value  axis ratio  sigma  min&max std  t[m:s]\n",
      "    1      9 1.391127038924760e+00 1.0e+00 2.43e-01  2e-01  3e-01 0:00.9\n",
      "    2     18 1.298223533519895e+00 1.2e+00 2.69e-01  2e-01  3e-01 0:01.8\n",
      "    3     27 1.018471658556197e+00 1.5e+00 3.10e-01  3e-01  4e-01 0:02.7\n",
      "    7     63 4.834665364434538e-01 2.5e+00 6.16e-01  5e-01  9e-01 0:06.3\n",
      "   12    108 -1.469706327839049e-04 2.6e+00 1.00e+00  8e-01  1e+00 0:11.0\n",
      "   18    162 -1.986420126343091e-05 2.4e+00 1.25e+00  8e-01  1e+00 0:16.9\n",
      "   24    216 -1.627735916067863e-02 2.3e+00 7.32e-01  4e-01  7e-01 0:23.4\n",
      "   30    270 -2.496000651028130e-02 2.8e+00 4.87e-01  2e-01  5e-01 0:31.3\n",
      "   37    333 -3.473254301301942e-02 2.8e+00 2.41e-01  8e-02  2e-01 0:40.2\n",
      "   44    396 -3.568643053887133e-02 3.9e+00 1.85e-01  5e-02  2e-01 0:49.3\n",
      "   52    468 -3.625560521618798e-02 6.9e+00 1.77e-01  3e-02  2e-01 0:59.5\n",
      "   61    549 -3.721665020157872e-02 9.0e+00 1.37e-01  2e-02  1e-01 1:11.2\n",
      "   71    639 -3.792088836437024e-02 1.3e+01 9.58e-02  7e-03  8e-02 1:24.2\n",
      "   82    738 -3.801310088497711e-02 1.8e+01 2.78e-02  1e-03  2e-02 1:38.2\n",
      "   93    837 -3.801818379349076e-02 2.1e+01 1.09e-02  4e-04  6e-03 1:52.3\n",
      "  100    900 -3.801825784914481e-02 2.1e+01 6.61e-03  2e-04  3e-03 2:01.2\n",
      "  113   1017 -3.801832092491342e-02 2.6e+01 1.26e-03  3e-05  5e-04 2:18.0\n",
      "  127   1143 -3.801832440462150e-02 2.6e+01 3.97e-04  7e-06  1e-04 2:36.0\n",
      "  141   1269 -3.801832495183710e-02 2.6e+01 1.85e-04  2e-06  4e-05 2:54.0\n",
      "  156   1404 -3.801832496135749e-02 2.6e+01 4.75e-05  5e-07  7e-06 3:13.5\n",
      "  171   1539 -3.801832496193391e-02 2.4e+01 1.27e-05  8e-08  1e-06 3:33.0\n"
     ]
    },
    {
     "name": "stderr",
     "output_type": "stream",
     "text": [
      "reconstraining parameters GP_regression.Mat52.lengthscale\n"
     ]
    },
    {
     "name": "stdout",
     "output_type": "stream",
     "text": [
      "termination on tolfun=1e-11 (Tue Aug 25 20:21:19 2020)\n",
      "final/bestever f-value = -3.801832e-02 -3.801832e-02\n",
      "incumbent solution: [0.6280579818211863, 0.26914352818462206, 2.9945067731536903, 3.8607797409950044, 5.336527885631071, 5.029589592218391]\n",
      "std deviation: [8.099034842582901e-08, 3.8633171267988636e-07, 5.736003996498302e-07, 8.210938919544938e-07, 1.2962082950130042e-06, 1.1596430844011668e-06]\n"
     ]
    },
    {
     "name": "stderr",
     "output_type": "stream",
     "text": [
      "reconstraining parameters GP_regression.Mat52.variance\n",
      "reconstraining parameters GP_regression.Gaussian_noise.variance\n"
     ]
    },
    {
     "name": "stdout",
     "output_type": "stream",
     "text": [
      "Optimization restart 1/10, f = 67.44635692611509\n",
      "Optimization restart 2/10, f = 547.0390208029363\n",
      "Optimization restart 3/10, f = 505.524093680024\n",
      "Optimization restart 4/10, f = 611.4143441908061\n",
      "Optimization restart 5/10, f = 474.28059586225163\n",
      "Optimization restart 6/10, f = 541.1361632037772\n",
      "Optimization restart 7/10, f = 612.6004505201832\n",
      "Optimization restart 8/10, f = 133.3802221212403\n",
      "Optimization restart 9/10, f = 131.3097116432016\n"
     ]
    },
    {
     "name": "stderr",
     "output_type": "stream",
     "text": [
      "reconstraining parameters GP_regression.Mat52.lengthscale\n",
      "reconstraining parameters GP_regression.Mat52.variance\n",
      "reconstraining parameters GP_regression.Gaussian_noise.variance\n"
     ]
    },
    {
     "name": "stdout",
     "output_type": "stream",
     "text": [
      "Optimization restart 10/10, f = 712.0370062757928\n",
      "Optimization restart 1/10, f = -0.5063967290401052\n",
      "Optimization restart 2/10, f = 412.32028052828065\n",
      "Optimization restart 3/10, f = 451.3018749771736\n",
      "Optimization restart 4/10, f = 300.3770845307979\n",
      "Optimization restart 5/10, f = 368.37606765171324\n",
      "Optimization restart 6/10, f = 386.899175083835\n",
      "Optimization restart 7/10, f = 570.4462277244139\n",
      "Optimization restart 8/10, f = 2951803.3591307807\n",
      "Optimization restart 9/10, f = 3249783094.6409616\n",
      "Optimization restart 10/10, f = 340.78861417852676\n",
      "(4_w,9)-aCMA-ES (mu_w=2.8,w_1=49%) in dimension 6 (seed=476537, Tue Aug 25 20:21:24 2020)\n",
      "Iterat #Fevals   function value  axis ratio  sigma  min&max std  t[m:s]\n",
      "    1      9 2.065792816128183e+00 1.0e+00 2.32e-01  2e-01  2e-01 0:00.9\n",
      "    2     18 1.374923915772478e+00 1.2e+00 2.64e-01  2e-01  3e-01 0:01.9\n",
      "    3     27 1.180980334209600e+00 1.5e+00 3.22e-01  3e-01  4e-01 0:02.8\n",
      "    7     63 2.531178792670981e-01 1.6e+00 9.57e-01  9e-01  1e+00 0:06.4\n",
      "   12    108 -0.000000000000000e+00 1.9e+00 1.66e+00  1e+00  2e+00 0:11.1\n",
      "   18    162 -2.999122137886001e-03 1.8e+00 1.00e+00  7e-01  1e+00 0:16.9\n",
      "   24    216 -3.732520065996336e-03 1.9e+00 5.70e-01  3e-01  5e-01 0:23.6\n",
      "   30    270 -7.534482226867478e-03 2.3e+00 3.34e-01  2e-01  3e-01 0:31.0\n",
      "   37    333 -1.788825548861750e-02 4.5e+00 2.21e-01  6e-02  2e-01 0:40.1\n",
      "   44    396 -2.171953287569028e-02 5.0e+00 1.87e-01  4e-02  2e-01 0:49.5\n",
      "   52    468 -2.215692873826214e-02 6.7e+00 1.02e-01  1e-02  9e-02 0:59.8\n",
      "   61    549 -2.236742925478863e-02 8.7e+00 5.15e-02  5e-03  4e-02 1:11.4\n",
      "   71    639 -2.239688175401078e-02 1.2e+01 2.32e-02  2e-03  2e-02 1:24.3\n",
      "   82    738 -2.240308655532131e-02 1.5e+01 8.73e-03  4e-04  5e-03 1:38.6\n",
      "   93    837 -2.240350718838613e-02 1.4e+01 4.10e-03  2e-04  2e-03 1:53.1\n",
      "  100    900 -2.240351105697913e-02 1.9e+01 2.61e-03  7e-05  1e-03 2:02.0\n",
      "  113   1017 -2.240354021724666e-02 1.4e+01 1.08e-03  3e-05  3e-04 2:18.7\n",
      "  127   1143 -2.240354129464839e-02 1.3e+01 2.60e-04  4e-06  5e-05 2:36.7\n",
      "  141   1269 -2.240354137469192e-02 1.5e+01 8.78e-05  1e-06  1e-05 2:54.7\n",
      "  156   1404 -2.240354137866341e-02 1.3e+01 2.70e-05  3e-07  3e-06 3:14.4\n",
      "  166   1494 -2.240354137873668e-02 1.5e+01 7.92e-06  6e-08  8e-07 3:31.3\n"
     ]
    },
    {
     "name": "stderr",
     "output_type": "stream",
     "text": [
      "reconstraining parameters GP_regression.Mat52.lengthscale\n"
     ]
    },
    {
     "name": "stdout",
     "output_type": "stream",
     "text": [
      "termination on tolfun=1e-11 (Tue Aug 25 20:24:55 2020)\n",
      "final/bestever f-value = -2.240354e-02 -2.240354e-02\n",
      "incumbent solution: [0.40256174676147716, 0.7712597262418072, 3.147508575529088, 4.242981093504804, 5.428588591372427, 5.214355613326129]\n",
      "std deviation: [6.306787666266877e-08, 1.5243579400777565e-07, 3.568802338422489e-07, 4.7343683709958963e-07, 6.14302251282601e-07, 8.122044215634371e-07]\n"
     ]
    },
    {
     "name": "stderr",
     "output_type": "stream",
     "text": [
      "reconstraining parameters GP_regression.Mat52.variance\n",
      "reconstraining parameters GP_regression.Gaussian_noise.variance\n"
     ]
    },
    {
     "name": "stdout",
     "output_type": "stream",
     "text": [
      "Optimization restart 1/10, f = 63.92994883118058\n",
      "Optimization restart 2/10, f = 106.51892933643009\n",
      "Optimization restart 3/10, f = 394.7008691340273\n",
      "Optimization restart 4/10, f = 409.6652146851972\n",
      "Optimization restart 5/10, f = 591.7657166795244\n",
      "Optimization restart 6/10, f = 130.1447305296537\n",
      "Optimization restart 7/10, f = 385.09088362745666\n",
      "Optimization restart 8/10, f = 137.55849751017143\n",
      "Optimization restart 9/10, f = 121.71818994651201\n"
     ]
    },
    {
     "name": "stderr",
     "output_type": "stream",
     "text": [
      "reconstraining parameters GP_regression.Mat52.lengthscale\n",
      "reconstraining parameters GP_regression.Mat52.variance\n",
      "reconstraining parameters GP_regression.Gaussian_noise.variance\n"
     ]
    },
    {
     "name": "stdout",
     "output_type": "stream",
     "text": [
      "Optimization restart 10/10, f = 606.892438190088\n",
      "Optimization restart 1/10, f = -3.056390627566728\n",
      "Optimization restart 2/10, f = 634.1635952405343\n",
      "Optimization restart 3/10, f = 407.48723591979933\n",
      "Optimization restart 4/10, f = 529.5850055157881\n",
      "Optimization restart 5/10, f = 500.52917319792823\n",
      "Optimization restart 6/10, f = 509.5315246432603\n",
      "Optimization restart 7/10, f = 401.54573561607174\n",
      "Optimization restart 8/10, f = 634.1635952405343\n",
      "Optimization restart 9/10, f = 396.6715550159603\n",
      "Optimization restart 10/10, f = 43.607315655322566\n",
      "(4_w,9)-aCMA-ES (mu_w=2.8,w_1=49%) in dimension 6 (seed=496830, Tue Aug 25 20:25:00 2020)\n",
      "Iterat #Fevals   function value  axis ratio  sigma  min&max std  t[m:s]\n",
      "    1      9 2.921859381991815e+00 1.0e+00 2.73e-01  3e-01  3e-01 0:00.9\n",
      "    2     18 2.752091041021651e+00 1.4e+00 3.22e-01  3e-01  4e-01 0:01.8\n",
      "    3     27 2.513588716579182e+00 1.8e+00 3.75e-01  4e-01  5e-01 0:02.7\n",
      "    7     63 2.201083515766046e+00 2.5e+00 4.34e-01  4e-01  6e-01 0:06.5\n",
      "   11     99 6.628172893118134e-01 4.1e+00 6.94e-01  7e-01  1e+00 0:10.9\n",
      "   17    153 5.791066164419072e-01 4.2e+00 4.12e-01  4e-01  6e-01 0:16.6\n",
      "   24    216 7.467603547236552e-01 3.5e+00 4.35e-01  4e-01  5e-01 0:23.2\n",
      "   32    288 3.736942793163627e-01 3.2e+00 6.76e-01  5e-01  8e-01 0:30.9\n",
      "   40    360 -1.066013260936138e-03 3.2e+00 1.01e+00  5e-01  1e+00 0:39.9\n",
      "   49    441 3.918137520123168e-01 5.5e+00 7.20e-01  3e-01  9e-01 0:48.9\n",
      "   59    531 -1.650234724883681e-04 5.5e+00 7.07e-01  2e-01  8e-01 1:00.0\n",
      "   68    612 -9.330894654993482e-03 7.1e+00 5.70e-01  1e-01  7e-01 1:11.9\n",
      "   77    693 -1.642451877305318e-02 1.0e+01 2.90e-01  4e-02  3e-01 1:24.2\n",
      "   87    783 -1.790788838382484e-02 1.3e+01 1.98e-01  2e-02  2e-01 1:38.0\n",
      "   98    882 -1.800421267961250e-02 1.1e+01 8.00e-02  7e-03  5e-02 1:53.2\n",
      "  100    900 -1.805476230194802e-02 1.1e+01 6.65e-02  5e-03  4e-02 1:55.9\n",
      "  112   1008 -1.805863969755261e-02 1.4e+01 2.68e-02  2e-03  1e-02 2:12.6\n",
      "  125   1125 -1.805951544876150e-02 2.2e+01 7.53e-03  3e-04  4e-03 2:30.3\n",
      "  139   1251 -1.805957387140822e-02 2.0e+01 2.71e-03  8e-05  9e-04 2:49.5\n",
      "  153   1377 -1.805957688981241e-02 2.0e+01 7.13e-04  1e-05  2e-04 3:08.6\n",
      "  168   1512 -1.805957692922622e-02 2.1e+01 2.91e-04  5e-06  6e-05 3:29.3\n",
      "  184   1656 -1.805957697169536e-02 2.0e+01 5.37e-05  6e-07  7e-06 3:51.4\n",
      "  200   1800 -1.805957697206662e-02 2.0e+01 1.23e-05  1e-07  1e-06 4:13.2\n",
      "  202   1818 -1.805957697206173e-02 2.0e+01 1.07e-05  8e-08  1e-06 4:15.9\n",
      "termination on tolfun=1e-11 (Tue Aug 25 20:29:16 2020)\n",
      "final/bestever f-value = -1.805958e-02 -1.805958e-02\n",
      "incumbent solution: [1.2154216382072314, 3.514827149613318, 3.59038566482822, 3.55642631631128, 5.69639156600053, 6.770078365952136]\n",
      "std deviation: [9.618115529907248e-08, 7.784645541697493e-08, 4.4860287573142225e-07, 8.25685839154206e-07, 7.175121656064891e-07, 1.048605753900778e-06]\n"
     ]
    },
    {
     "name": "stderr",
     "output_type": "stream",
     "text": [
      "reconstraining parameters GP_regression.Mat52.lengthscale\n",
      "reconstraining parameters GP_regression.Mat52.variance\n",
      "reconstraining parameters GP_regression.Gaussian_noise.variance\n"
     ]
    },
    {
     "name": "stdout",
     "output_type": "stream",
     "text": [
      "Optimization restart 1/10, f = 63.94870223157379\n",
      "Optimization restart 2/10, f = 525.8804402006181\n",
      "Optimization restart 3/10, f = 612.3372831985812\n",
      "Optimization restart 4/10, f = 462.6205309905629\n",
      "Optimization restart 5/10, f = 498.07177991846163\n",
      "Optimization restart 6/10, f = 570.3704965484287\n",
      "Optimization restart 7/10, f = 121.65594264487514\n",
      "Optimization restart 8/10, f = 373.05628684513846\n",
      "Optimization restart 9/10, f = 585.3942222930792\n"
     ]
    },
    {
     "name": "stderr",
     "output_type": "stream",
     "text": [
      "reconstraining parameters GP_regression.Mat52.lengthscale\n",
      "reconstraining parameters GP_regression.Mat52.variance\n",
      "reconstraining parameters GP_regression.Gaussian_noise.variance\n"
     ]
    },
    {
     "name": "stdout",
     "output_type": "stream",
     "text": [
      "Optimization restart 10/10, f = 607.7400660398577\n",
      "Optimization restart 1/10, f = -4.2329632290542065\n",
      "Optimization restart 2/10, f = 470.59329315491374\n",
      "Optimization restart 3/10, f = 450.0108294762366\n",
      "Optimization restart 4/10, f = 129.20547709893972\n",
      "Optimization restart 5/10, f = 641.1294611529953\n",
      "Optimization restart 6/10, f = 570.9777295256051\n",
      "Optimization restart 7/10, f = 3301930275.7461143\n",
      "Optimization restart 8/10, f = 495.8565668713891\n",
      "Optimization restart 9/10, f = -4.23296322987629\n",
      "Optimization restart 10/10, f = 136.21809918764856\n",
      "(4_w,9)-aCMA-ES (mu_w=2.8,w_1=49%) in dimension 6 (seed=406887, Tue Aug 25 20:29:21 2020)\n",
      "Iterat #Fevals   function value  axis ratio  sigma  min&max std  t[m:s]\n",
      "    1      9 1.070659116001217e+00 1.0e+00 2.47e-01  2e-01  3e-01 0:00.9\n",
      "    2     18 8.098751722581641e-01 1.2e+00 2.57e-01  2e-01  3e-01 0:01.9\n",
      "    3     27 1.058500464259744e+00 1.5e+00 2.39e-01  2e-01  3e-01 0:02.8\n",
      "    7     63 4.129837492552206e-01 2.0e+00 2.98e-01  2e-01  3e-01 0:06.6\n",
      "   11     99 -0.000000000000000e+00 2.3e+00 3.13e-01  2e-01  4e-01 0:11.0\n",
      "   16    144 -3.206047389348132e-02 3.0e+00 3.69e-01  2e-01  4e-01 0:17.2\n",
      "   21    189 -3.928725186275406e-02 4.2e+00 4.62e-01  2e-01  6e-01 0:24.1\n",
      "   27    243 -4.360834786661272e-03 4.5e+00 5.42e-01  2e-01  7e-01 0:31.5\n",
      "   33    297 -6.957324280501176e-02 5.4e+00 2.92e-01  8e-02  3e-01 0:39.6\n",
      "   40    360 -8.289643302991889e-02 4.8e+00 1.83e-01  5e-02  2e-01 0:49.5\n",
      "   48    432 -8.457026060153794e-02 5.0e+00 5.67e-02  1e-02  5e-02 1:00.7\n",
      "   56    504 -8.478508547299235e-02 5.1e+00 3.42e-02  7e-03  2e-02 1:11.8\n",
      "   65    585 -8.485163671983642e-02 5.7e+00 1.47e-02  2e-03  9e-03 1:24.6\n",
      "   75    675 -8.485897740240844e-02 5.2e+00 4.39e-03  6e-04  2e-03 1:38.5\n",
      "   85    765 -8.485956147203622e-02 5.5e+00 1.33e-03  1e-04  6e-04 1:52.6\n",
      "   96    864 -8.485958847325481e-02 5.6e+00 6.15e-04  5e-05  2e-04 2:08.2\n",
      "  100    900 -8.485959236773999e-02 5.1e+00 4.48e-04  3e-05  1e-04 2:13.7\n",
      "  113   1017 -8.485959444081193e-02 5.7e+00 9.27e-05  4e-06  2e-05 2:31.7\n",
      "  126   1134 -8.485959444681335e-02 4.2e+00 2.45e-05  9e-07  3e-06 2:49.8\n",
      "  141   1269 -8.485959444770597e-02 5.6e+00 3.57e-06  8e-08  3e-07 3:10.0\n",
      "  146   1314 -8.485959444771884e-02 5.2e+00 2.34e-06  5e-08  2e-07 3:16.6\n",
      "termination on tolfun=1e-11 (Tue Aug 25 20:32:38 2020)\n",
      "final/bestever f-value = -8.485959e-02 -8.485959e-02\n",
      "incumbent solution: [1.7214225509821013, 3.0360774803507343e-16, 3.0558985475846185, 3.90594526205921, 3.5909689226289827, 5.011121306053351]\n",
      "std deviation: [4.670491366902652e-08, 6.776248991717223e-08, 1.268577392101374e-07, 1.7842292971321232e-07, 1.8240534938976647e-07, 1.9753927769516495e-07]\n"
     ]
    },
    {
     "name": "stderr",
     "output_type": "stream",
     "text": [
      "reconstraining parameters GP_regression.Mat52.lengthscale\n",
      "reconstraining parameters GP_regression.Mat52.variance\n",
      "reconstraining parameters GP_regression.Gaussian_noise.variance\n"
     ]
    },
    {
     "name": "stdout",
     "output_type": "stream",
     "text": [
      "Optimization restart 1/10, f = 64.3776243956391\n",
      "Optimization restart 2/10, f = 67.50693730067346\n",
      "Optimization restart 3/10, f = 453.34325420112316\n",
      "Optimization restart 4/10, f = 826.4074479327675\n",
      "Optimization restart 5/10, f = 564.7146547153224\n",
      "Optimization restart 6/10, f = 494.0014321505121\n",
      "Optimization restart 7/10, f = 597.3768011653516\n",
      "Optimization restart 8/10, f = 541.3596074746374\n",
      "Optimization restart 9/10, f = 150.1265809068992\n"
     ]
    },
    {
     "name": "stderr",
     "output_type": "stream",
     "text": [
      "reconstraining parameters GP_regression.Mat52.lengthscale\n",
      "reconstraining parameters GP_regression.Mat52.variance\n",
      "reconstraining parameters GP_regression.Gaussian_noise.variance\n"
     ]
    },
    {
     "name": "stdout",
     "output_type": "stream",
     "text": [
      "Optimization restart 10/10, f = 247.21916481386575\n",
      "Optimization restart 1/10, f = -5.116005337348483\n",
      "Optimization restart 2/10, f = 137.63703655952153\n",
      "Optimization restart 3/10, f = 393.7660183144193\n",
      "Optimization restart 4/10, f = 40.38878170994054\n",
      "Optimization restart 5/10, f = 647.514407771914\n",
      "Optimization restart 6/10, f = -5.11600533545311\n",
      "Optimization restart 7/10, f = -5.116005337475627\n",
      "Optimization restart 8/10, f = 554.7267369809198\n",
      "Optimization restart 9/10, f = 647.514407771914\n",
      "Optimization restart 10/10, f = 601.975393216692\n",
      "(4_w,9)-aCMA-ES (mu_w=2.8,w_1=49%) in dimension 6 (seed=521082, Tue Aug 25 20:32:44 2020)\n",
      "Iterat #Fevals   function value  axis ratio  sigma  min&max std  t[m:s]\n",
      "    1      9 3.072381148294202e+00 1.0e+00 2.60e-01  2e-01  3e-01 0:00.9\n",
      "    2     18 2.987427017618449e+00 1.3e+00 2.69e-01  2e-01  3e-01 0:01.8\n",
      "    3     27 2.862423990371895e+00 1.5e+00 3.22e-01  3e-01  4e-01 0:02.8\n",
      "    7     63 2.510072260169029e+00 2.1e+00 5.18e-01  5e-01  7e-01 0:06.6\n",
      "   12    108 1.872436618908545e+00 2.3e+00 5.22e-01  5e-01  6e-01 0:11.3\n",
      "   18    162 1.655596900574424e+00 2.8e+00 4.80e-01  3e-01  7e-01 0:17.1\n",
      "   25    225 1.508151984546131e+00 5.0e+00 3.51e-01  2e-01  6e-01 0:23.9\n",
      "   32    288 1.160988397169169e+00 6.9e+00 2.93e-01  1e-01  6e-01 0:31.0\n",
      "   38    342 1.005831804935529e+00 9.8e+00 3.34e-01  1e-01  8e-01 0:39.3\n",
      "   48    432 8.876851993783714e-01 1.2e+01 2.48e-01  6e-02  4e-01 0:48.7\n",
      "   59    531 8.680015429397925e-01 1.0e+01 1.38e-01  2e-02  2e-01 0:59.1\n",
      "   71    639 8.636215190072878e-01 1.6e+01 1.24e-01  1e-02  2e-01 1:10.3\n",
      "   84    756 8.619998247837086e-01 1.4e+01 6.22e-02  4e-03  5e-02 1:22.7\n",
      "   98    882 8.616401027329441e-01 2.0e+01 3.29e-02  1e-03  2e-02 1:35.9\n",
      "  100    900 8.616383124601286e-01 2.2e+01 2.77e-02  1e-03  2e-02 1:37.8\n",
      "  116   1044 8.615100678511010e-01 3.1e+01 2.96e-02  9e-04  3e-02 1:53.1\n",
      "  134   1206 8.614953040829647e-01 4.0e+01 6.20e-03  1e-04  5e-03 2:10.0\n",
      "  152   1368 8.614951546731153e-01 4.5e+01 1.03e-03  1e-05  5e-04 2:27.3\n",
      "  172   1548 8.614951528985459e-01 3.5e+01 1.73e-04  2e-06  5e-05 2:46.1\n",
      "  192   1728 8.614951528024857e-01 4.6e+01 6.55e-05  3e-07  1e-05 3:05.1\n",
      "  200   1800 8.614951528010695e-01 4.6e+01 3.74e-05  2e-07  7e-06 3:12.7\n",
      "  211   1899 8.614951528004358e-01 4.8e+01 1.39e-05  5e-08  2e-06 3:23.6\n"
     ]
    },
    {
     "name": "stderr",
     "output_type": "stream",
     "text": [
      "reconstraining parameters GP_regression.Mat52.lengthscale\n",
      "reconstraining parameters GP_regression.Mat52.variance\n",
      "reconstraining parameters GP_regression.Gaussian_noise.variance\n"
     ]
    },
    {
     "name": "stdout",
     "output_type": "stream",
     "text": [
      "termination on tolfun=1e-11 (Tue Aug 25 20:36:08 2020)\n",
      "final/bestever f-value = 8.614952e-01 8.614952e-01\n",
      "incumbent solution: [7.088926540512102e-15, 3.9999999999999973, 4.239734765909736, 1.6685398454515563, 3.6039415370812806, 1.257578919886139e-13]\n",
      "std deviation: [5.2464770126955475e-08, 9.608153808569887e-08, 9.324424009478064e-07, 9.063186560216246e-07, 2.2215162867057777e-06, 1.7381268997405616e-07]\n",
      "Optimization restart 1/10, f = 66.23664668905037\n",
      "Optimization restart 2/10, f = 601.8966161533538\n",
      "Optimization restart 3/10, f = 530.2683460332199\n",
      "Optimization restart 4/10, f = 68.34985435392704\n",
      "Optimization restart 5/10, f = 341.9511456020631\n",
      "Optimization restart 6/10, f = 628.8639774668778\n",
      "Optimization restart 7/10, f = 627.7927661100925\n",
      "Optimization restart 8/10, f = 387.91799579991783\n"
     ]
    },
    {
     "name": "stderr",
     "output_type": "stream",
     "text": [
      "reconstraining parameters GP_regression.Mat52.lengthscale\n",
      "reconstraining parameters GP_regression.Mat52.variance\n",
      "reconstraining parameters GP_regression.Gaussian_noise.variance\n"
     ]
    },
    {
     "name": "stdout",
     "output_type": "stream",
     "text": [
      "Optimization restart 9/10, f = 591.9161319079957\n",
      "Optimization restart 10/10, f = 562.8019913759626\n",
      "Optimization restart 1/10, f = -4.018502058297429\n",
      "Optimization restart 2/10, f = 654.1898140376038\n",
      "Optimization restart 3/10, f = 543.1494657178758\n",
      "Optimization restart 4/10, f = 575.8773894115195\n",
      "Optimization restart 5/10, f = 397.8439689505675\n",
      "Optimization restart 6/10, f = 581.3792334313796\n",
      "Optimization restart 7/10, f = 436.07494004829226\n",
      "Optimization restart 8/10, f = 570.9285953400001\n",
      "Optimization restart 9/10, f = 332.81025516668564\n",
      "Optimization restart 10/10, f = 647.7577146285132\n",
      "(4_w,9)-aCMA-ES (mu_w=2.8,w_1=49%) in dimension 6 (seed=474525, Tue Aug 25 20:36:12 2020)\n",
      "Iterat #Fevals   function value  axis ratio  sigma  min&max std  t[m:s]\n",
      "    1      9 9.836402568712976e-01 1.0e+00 2.25e-01  2e-01  2e-01 0:00.9\n",
      "    2     18 8.465103435597658e-01 1.2e+00 2.19e-01  2e-01  2e-01 0:01.9\n",
      "    3     27 6.050528648035363e-01 1.4e+00 2.56e-01  2e-01  3e-01 0:02.9\n",
      "    6     54 -0.000000000000000e+00 2.3e+00 5.12e-01  4e-01  8e-01 0:05.9\n",
      "   10     90 -6.493219946062112e-04 2.3e+00 5.21e-01  4e-01  7e-01 0:10.2\n",
      "   15    135 -4.773730237235263e-04 2.2e+00 5.17e-01  4e-01  6e-01 0:16.4\n",
      "   20    180 -1.081536489370771e-02 2.4e+00 6.24e-01  4e-01  7e-01 0:23.0\n",
      "   26    234 -2.212736219451417e-02 2.6e+00 3.88e-01  2e-01  5e-01 0:30.9\n",
      "   32    288 -2.244935293378258e-02 3.7e+00 2.19e-01  7e-02  3e-01 0:39.3\n",
      "   39    351 -3.024430142193379e-02 5.6e+00 2.70e-01  7e-02  4e-01 0:49.3\n",
      "   46    414 -3.119670317107381e-02 6.0e+00 1.50e-01  3e-02  2e-01 0:59.3\n",
      "   54    486 -3.205274129043234e-02 8.1e+00 7.66e-02  1e-02  8e-02 1:10.5\n",
      "   63    567 -3.214543286774685e-02 8.6e+00 3.62e-02  4e-03  3e-02 1:23.1\n",
      "   73    657 -3.215956366432460e-02 8.4e+00 1.42e-02  1e-03  1e-02 1:37.3\n",
      "   83    747 -3.216302220782197e-02 1.1e+01 5.80e-03  4e-04  3e-03 1:51.3\n",
      "   94    846 -3.216315789752056e-02 1.3e+01 2.84e-03  2e-04  2e-03 2:07.1\n",
      "  100    900 -3.216317389652268e-02 1.4e+01 1.62e-03  7e-05  8e-04 2:15.9\n",
      "  113   1017 -3.216318168660903e-02 1.5e+01 7.20e-04  2e-05  3e-04 2:34.2\n",
      "  126   1134 -3.216318288929498e-02 1.9e+01 2.58e-04  5e-06  8e-05 2:52.7\n",
      "  140   1260 -3.216318301669929e-02 1.3e+01 1.18e-04  2e-06  2e-05 3:12.3\n",
      "  155   1395 -3.216318302681298e-02 1.8e+01 2.47e-05  3e-07  4e-06 3:33.2\n",
      "  170   1530 -3.216318302699150e-02 1.8e+01 4.81e-06  4e-08  5e-07 3:54.4\n",
      "termination on tolfun=1e-11 (Tue Aug 25 20:40:07 2020)\n",
      "final/bestever f-value = -3.216318e-02 -3.216318e-02\n",
      "incumbent solution: [0.14288626941162894, 1.2804200912816857, 2.885684021975883, 3.66912015487654, 6.2329684351750005, 5.207881641373577]\n",
      "std deviation: [5.987663312972108e-08, 4.1926373839692154e-08, 1.7103117632869984e-07, 2.5528438426720953e-07, 5.433678576288267e-07, 4.628360061571665e-07]\n"
     ]
    },
    {
     "name": "stderr",
     "output_type": "stream",
     "text": [
      "reconstraining parameters GP_regression.Mat52.lengthscale\n",
      "reconstraining parameters GP_regression.Mat52.variance\n",
      "reconstraining parameters GP_regression.Gaussian_noise.variance\n"
     ]
    },
    {
     "name": "stdout",
     "output_type": "stream",
     "text": [
      "Optimization restart 1/10, f = 66.63029973929876\n",
      "Optimization restart 2/10, f = 174.48403618130146\n",
      "Optimization restart 3/10, f = 539.6926469045818\n",
      "Optimization restart 4/10, f = 589.1493344236683\n",
      "Optimization restart 5/10, f = 602.8415346815339\n",
      "Optimization restart 6/10, f = 536.4511060963943\n",
      "Optimization restart 7/10, f = 608.291022338936\n",
      "Optimization restart 8/10, f = 595.0950394431895\n",
      "Optimization restart 9/10, f = 68.18394022995906\n"
     ]
    },
    {
     "name": "stderr",
     "output_type": "stream",
     "text": [
      "reconstraining parameters GP_regression.Mat52.lengthscale\n",
      "reconstraining parameters GP_regression.Mat52.variance\n",
      "reconstraining parameters GP_regression.Gaussian_noise.variance\n"
     ]
    },
    {
     "name": "stdout",
     "output_type": "stream",
     "text": [
      "Optimization restart 10/10, f = 147.17651814408285\n",
      "Optimization restart 1/10, f = -5.462201618695204\n",
      "Optimization restart 2/10, f = 546.885867166979\n",
      "Optimization restart 3/10, f = 571.9380048896694\n",
      "Optimization restart 4/10, f = 2.0327309871408943\n",
      "Optimization restart 5/10, f = 390.4522857937342\n",
      "Optimization restart 6/10, f = 2.0326602402999114\n",
      "Optimization restart 7/10, f = 660.8652203032937\n",
      "Optimization restart 8/10, f = 406.19213623819854\n",
      "Optimization restart 9/10, f = 660.8652203032937\n",
      "Optimization restart 10/10, f = 660.8652203032937\n",
      "(4_w,9)-aCMA-ES (mu_w=2.8,w_1=49%) in dimension 6 (seed=458528, Tue Aug 25 20:40:10 2020)\n",
      "Iterat #Fevals   function value  axis ratio  sigma  min&max std  t[m:s]\n",
      "    1      9 -3.577090866490273e-03 1.0e+00 2.58e-01  2e-01  3e-01 0:01.3\n",
      "    2     18 -0.000000000000000e+00 1.3e+00 2.52e-01  2e-01  3e-01 0:02.4\n",
      "    3     27 -1.149934600632729e-03 1.5e+00 2.47e-01  2e-01  3e-01 0:03.8\n",
      "    6     54 -9.054698211836243e-03 1.7e+00 2.67e-01  2e-01  3e-01 0:07.9\n",
      "    9     81 -2.731778098720694e-02 1.8e+00 3.15e-01  3e-01  3e-01 0:12.1\n",
      "   13    117 -3.158888180885944e-02 2.3e+00 2.82e-01  2e-01  3e-01 0:17.8\n",
      "   18    162 -2.652286521813396e-02 2.1e+00 3.43e-01  3e-01  4e-01 0:24.9\n",
      "   23    207 -1.519186943322914e-02 2.5e+00 3.41e-01  2e-01  4e-01 0:32.0\n",
      "   29    261 -2.846891258061079e-02 2.5e+00 2.85e-01  2e-01  3e-01 0:40.5\n",
      "   36    324 -2.076121141714715e-02 3.4e+00 3.64e-01  2e-01  4e-01 0:50.7\n",
      "   43    387 -2.538745652412278e-02 4.1e+00 2.72e-01  2e-01  3e-01 1:00.8\n",
      "   51    459 -2.530289623682513e-02 4.9e+00 2.61e-01  1e-01  3e-01 1:12.2\n",
      "   60    540 -2.469556030590292e-02 5.5e+00 2.76e-01  9e-02  3e-01 1:25.5\n",
      "   70    630 -2.851066128678204e-02 7.8e+00 2.21e-01  4e-02  2e-01 1:39.7\n",
      "   80    720 -3.532837622658347e-02 1.2e+01 1.78e-01  2e-02  2e-01 1:53.8\n",
      "   91    819 -3.761813388858970e-02 1.5e+01 1.08e-01  9e-03  1e-01 2:09.7\n",
      "  100    900 -3.851300131289559e-02 1.6e+01 1.01e-01  6e-03  9e-02 2:22.6\n",
      "  112   1008 -4.064000698569270e-02 1.7e+01 3.20e-01  2e-02  2e-01 2:39.8\n",
      "  125   1125 -4.193651921934505e-02 1.8e+01 1.65e-01  6e-03  9e-02 2:58.6\n",
      "  139   1251 -4.228098543147274e-02 2.2e+01 1.07e-01  3e-03  6e-02 3:19.0\n",
      "  153   1377 -4.230840746435982e-02 2.7e+01 2.13e-02  4e-04  9e-03 3:39.1\n",
      "  168   1512 -4.230963016698075e-02 2.4e+01 6.21e-03  8e-05  2e-03 4:00.5\n",
      "  179   1611 -4.230965348101456e-02 2.4e+01 2.20e-03  2e-05  5e-04 4:22.7\n",
      "  195   1755 -4.230965708130352e-02 2.5e+01 7.03e-04  6e-06  1e-04 4:46.2\n",
      "  200   1800 -4.230965712763579e-02 2.3e+01 3.91e-04  3e-06  6e-05 4:53.7\n",
      "  217   1953 -4.230965713976342e-02 2.5e+01 9.83e-05  4e-07  1e-05 5:19.1\n",
      "  233   2097 -4.230965714089319e-02 2.4e+01 2.29e-05  8e-08  2e-06 5:44.4\n",
      "termination on tolfun=1e-11 (Tue Aug 25 20:45:55 2020)\n",
      "final/bestever f-value = -4.230966e-02 -4.230966e-02\n",
      "incumbent solution: [0.8337642017819051, 0.14351079351955043, 2.7941910000723706, 3.7934319508224905, 5.514085045321965, 4.230332964244195]\n",
      "std deviation: [7.66095078839854e-08, 2.1002754780059307e-07, 3.8639196307889803e-07, 8.015216920676924e-07, 1.5302541912508208e-06, 1.0114356640460622e-06]\n"
     ]
    },
    {
     "name": "stderr",
     "output_type": "stream",
     "text": [
      "reconstraining parameters GP_regression.Mat52.lengthscale\n",
      "reconstraining parameters GP_regression.Mat52.variance\n",
      "reconstraining parameters GP_regression.Gaussian_noise.variance\n"
     ]
    },
    {
     "name": "stdout",
     "output_type": "stream",
     "text": [
      "Optimization restart 1/10, f = 66.65842503460954\n",
      "Optimization restart 2/10, f = 65.45038708129856\n",
      "Optimization restart 3/10, f = 395.36753473387284\n",
      "Optimization restart 4/10, f = 495.96407221482787\n",
      "Optimization restart 5/10, f = 536.7994993846137\n",
      "Optimization restart 6/10, f = 144.41831373028154\n",
      "Optimization restart 7/10, f = 618.2480698392055\n",
      "Optimization restart 8/10, f = 602.9976451030549\n",
      "Optimization restart 9/10, f = 637.0541030475679\n"
     ]
    },
    {
     "name": "stderr",
     "output_type": "stream",
     "text": [
      "reconstraining parameters GP_regression.Mat52.lengthscale\n",
      "reconstraining parameters GP_regression.Mat52.variance\n",
      "reconstraining parameters GP_regression.Gaussian_noise.variance\n"
     ]
    },
    {
     "name": "stdout",
     "output_type": "stream",
     "text": [
      "Optimization restart 10/10, f = 442.5081489781997\n",
      "Optimization restart 1/10, f = -5.248357484411031\n",
      "Optimization restart 2/10, f = 402.52171326841255\n",
      "Optimization restart 3/10, f = 44.472246514384594\n",
      "Optimization restart 4/10, f = 454.62686252551373\n",
      "Optimization restart 5/10, f = 354.7572393184008\n",
      "Optimization restart 6/10, f = 26.552293776556596\n",
      "Optimization restart 7/10, f = 386.0101313976696\n",
      "Optimization restart 8/10, f = 161.22392513256176\n",
      "Optimization restart 9/10, f = -5.248357484195125\n",
      "Optimization restart 10/10, f = 51.555952215893825\n",
      "(4_w,9)-aCMA-ES (mu_w=2.8,w_1=49%) in dimension 6 (seed=557668, Tue Aug 25 20:46:05 2020)\n",
      "Iterat #Fevals   function value  axis ratio  sigma  min&max std  t[m:s]\n",
      "    1      9 2.273309991455697e+00 1.0e+00 2.58e-01  2e-01  3e-01 0:01.0\n",
      "    2     18 2.173028719059928e+00 1.3e+00 2.87e-01  3e-01  3e-01 0:02.1\n",
      "    3     27 1.512977991723480e+00 1.6e+00 3.76e-01  3e-01  5e-01 0:03.1\n",
      "    6     54 6.917350850543833e-01 1.8e+00 6.53e-01  6e-01  8e-01 0:06.1\n",
      "   11     99 3.904918951846608e-01 2.5e+00 7.30e-01  5e-01  9e-01 0:11.0\n",
      "   16    144 -0.000000000000000e+00 2.6e+00 4.37e-01  3e-01  5e-01 0:16.7\n",
      "   21    189 -2.466512738927840e-04 3.5e+00 4.24e-01  2e-01  6e-01 0:23.3\n",
      "   27    243 -4.157545055901046e-03 3.9e+00 3.77e-01  2e-01  5e-01 0:31.6\n",
      "   33    297 -1.400632176832950e-02 4.1e+00 5.79e-01  2e-01  7e-01 0:40.6\n",
      "   40    360 -1.862211726276986e-02 4.6e+00 3.78e-01  1e-01  4e-01 0:50.8\n",
      "   47    423 -2.245639558309165e-02 5.8e+00 2.28e-01  4e-02  2e-01 1:01.5\n",
      "   55    495 -2.339822705946837e-02 8.9e+00 1.53e-01  2e-02  1e-01 1:13.2\n",
      "   64    576 -2.380106249349945e-02 8.0e+00 6.26e-02  7e-03  4e-02 1:26.3\n",
      "   73    657 -2.385009985118902e-02 1.2e+01 2.80e-02  2e-03  2e-02 1:40.5\n",
      "   83    747 -2.386474774624681e-02 1.5e+01 1.61e-02  9e-04  9e-03 1:55.2\n",
      "   93    837 -2.386462962636138e-02 1.4e+01 5.81e-03  3e-04  3e-03 2:10.2\n",
      "  100    900 -2.386485925161708e-02 1.6e+01 3.14e-03  1e-04  1e-03 2:20.7\n",
      "  112   1008 -2.386487438072704e-02 1.5e+01 1.25e-03  4e-05  4e-04 2:38.3\n",
      "  125   1125 -2.386487861409181e-02 1.7e+01 4.12e-04  9e-06  1e-04 2:57.5\n",
      "  138   1242 -2.386487894135492e-02 1.7e+01 1.07e-04  2e-06  2e-05 3:16.7\n",
      "  152   1368 -2.386487894976375e-02 1.7e+01 2.49e-05  3e-07  3e-06 3:37.6\n",
      "  167   1503 -2.386487894993916e-02 2.0e+01 6.97e-06  5e-08  6e-07 3:59.9\n",
      "termination on tolfun=1e-11 (Tue Aug 25 20:50:06 2020)\n",
      "final/bestever f-value = -2.386488e-02 -2.386488e-02\n",
      "incumbent solution: [0.453707145113465, 0.2756683536513749, 2.9331383435515335, 3.40068789853027, 5.249413659932653, 5.485348459660089]\n",
      "std deviation: [5.3202190165585204e-08, 1.404861885238503e-07, 3.7907089221968496e-07, 5.263150830159558e-07, 6.386393939467059e-07, 5.678918815159218e-07]\n"
     ]
    },
    {
     "name": "stderr",
     "output_type": "stream",
     "text": [
      "reconstraining parameters GP_regression.Mat52.lengthscale\n",
      "reconstraining parameters GP_regression.Mat52.variance\n",
      "reconstraining parameters GP_regression.Gaussian_noise.variance\n"
     ]
    },
    {
     "name": "stdout",
     "output_type": "stream",
     "text": [
      "Optimization restart 1/10, f = 61.95554970296534\n",
      "Optimization restart 2/10, f = 561.7734868246926\n",
      "Optimization restart 3/10, f = 674.2160328346732\n",
      "Optimization restart 4/10, f = 531.6280632560834\n",
      "Optimization restart 5/10, f = 628.5102146684435\n",
      "Optimization restart 6/10, f = 401.2345859121579\n",
      "Optimization restart 7/10, f = 92.77192802042326\n",
      "Optimization restart 8/10, f = 385.5411221675269\n",
      "Optimization restart 9/10, f = 154.84424411663284\n"
     ]
    },
    {
     "name": "stderr",
     "output_type": "stream",
     "text": [
      "reconstraining parameters GP_regression.Mat52.lengthscale\n",
      "reconstraining parameters GP_regression.Mat52.variance\n",
      "reconstraining parameters GP_regression.Gaussian_noise.variance\n"
     ]
    },
    {
     "name": "stdout",
     "output_type": "stream",
     "text": [
      "Optimization restart 10/10, f = 143.3127918536719\n",
      "Optimization restart 1/10, f = -7.304855987430059\n",
      "Optimization restart 2/10, f = 674.2160328346732\n",
      "Optimization restart 3/10, f = 663.443592515985\n",
      "Optimization restart 4/10, f = 407.8991214741004\n",
      "Optimization restart 5/10, f = 38.3862268795963\n",
      "Optimization restart 6/10, f = -7.304855988428571\n",
      "Optimization restart 7/10, f = 369.768935382216\n",
      "Optimization restart 8/10, f = 486.3294674563601\n",
      "Optimization restart 9/10, f = 674.2160328346732\n",
      "Optimization restart 10/10, f = 665.0675244081257\n",
      "(4_w,9)-aCMA-ES (mu_w=2.8,w_1=49%) in dimension 6 (seed=454279, Tue Aug 25 20:50:11 2020)\n",
      "Iterat #Fevals   function value  axis ratio  sigma  min&max std  t[m:s]\n",
      "    1      9 1.750516978230991e+00 1.0e+00 2.25e-01  2e-01  2e-01 0:01.0\n",
      "    2     18 1.597118970869131e+00 1.2e+00 2.61e-01  2e-01  3e-01 0:02.0\n",
      "    3     27 1.492966036491817e+00 1.5e+00 3.13e-01  3e-01  4e-01 0:03.1\n",
      "    6     54 1.270784949982360e+00 2.0e+00 3.33e-01  3e-01  4e-01 0:06.1\n",
      "   10     90 1.017456617941592e+00 1.9e+00 3.93e-01  3e-01  4e-01 0:10.1\n",
      "   15    135 4.778884792688152e-01 2.5e+00 5.27e-01  3e-01  7e-01 0:15.3\n",
      "   21    189 4.179203926439679e-01 4.0e+00 5.89e-01  3e-01  8e-01 0:21.6\n",
      "   27    243 -2.784213609625041e-02 4.0e+00 5.93e-01  3e-01  8e-01 0:29.3\n",
      "   33    297 -2.719021742939942e-02 4.7e+00 3.77e-01  2e-01  5e-01 0:38.3\n",
      "   40    360 -3.035415890379056e-02 5.6e+00 2.60e-01  8e-02  3e-01 0:48.6\n",
      "   47    423 -3.556171188764790e-02 7.2e+00 2.29e-01  5e-02  2e-01 0:59.5\n",
      "   55    495 -3.800143767028930e-02 7.1e+00 1.26e-01  2e-02  1e-01 1:11.3\n",
      "   64    576 -3.833593206498653e-02 8.9e+00 6.83e-02  1e-02  5e-02 1:24.7\n",
      "   73    657 -3.832067924080285e-02 1.0e+01 2.47e-02  2e-03  2e-02 1:37.9\n",
      "   83    747 -3.834574162764781e-02 1.2e+01 1.26e-02  1e-03  6e-03 1:52.7\n",
      "   94    846 -3.834721644892936e-02 1.1e+01 7.50e-03  5e-04  3e-03 2:09.0\n",
      "  100    900 -3.834758862930077e-02 1.2e+01 4.23e-03  2e-04  1e-03 2:17.8\n",
      "  112   1008 -3.834775527371370e-02 1.4e+01 1.40e-03  6e-05  4e-04 2:35.4\n",
      "  125   1125 -3.834776612500423e-02 1.5e+01 4.60e-04  2e-05  9e-05 2:54.5\n",
      "  138   1242 -3.834776638509485e-02 1.4e+01 1.46e-04  3e-06  2e-05 3:13.7\n",
      "  152   1368 -3.834776640101678e-02 1.3e+01 3.03e-05  5e-07  3e-06 3:34.2\n",
      "  167   1503 -3.834776640149684e-02 1.3e+01 1.12e-05  1e-07  8e-07 3:56.2\n",
      "  172   1548 -3.834776640152482e-02 1.3e+01 8.81e-06  9e-08  7e-07 4:03.5\n",
      "termination on tolfun=1e-11 (Tue Aug 25 20:54:14 2020)\n",
      "final/bestever f-value = -3.834777e-02 -3.834777e-02\n",
      "incumbent solution: [1.523697131808312, 0.5107089112407414, 2.679530887878599, 4.02980695738149, 3.6292864940682596, 4.973209119911941]\n",
      "std deviation: [9.496724639772626e-08, 2.5847716546424495e-07, 4.872728999750375e-07, 5.842375496389867e-07, 4.3053103132129676e-07, 6.567079040029556e-07]\n"
     ]
    },
    {
     "name": "stderr",
     "output_type": "stream",
     "text": [
      "reconstraining parameters GP_regression.Mat52.lengthscale\n",
      "reconstraining parameters GP_regression.Mat52.variance\n",
      "reconstraining parameters GP_regression.Gaussian_noise.variance\n"
     ]
    },
    {
     "name": "stdout",
     "output_type": "stream",
     "text": [
      "Optimization restart 1/10, f = 61.53556138949363\n",
      "Optimization restart 2/10, f = 680.8914391003541\n",
      "Optimization restart 3/10, f = 680.8914391003631\n",
      "Optimization restart 4/10, f = 132.17896708505126\n",
      "Optimization restart 5/10, f = 612.7360664989532\n",
      "Optimization restart 6/10, f = 61.53556135943162\n",
      "Optimization restart 7/10, f = 680.8914391003631\n",
      "Optimization restart 8/10, f = 129.1007952888578\n"
     ]
    },
    {
     "name": "stderr",
     "output_type": "stream",
     "text": [
      "reconstraining parameters GP_regression.Mat52.lengthscale\n",
      "reconstraining parameters GP_regression.Mat52.variance\n",
      "reconstraining parameters GP_regression.Gaussian_noise.variance\n"
     ]
    },
    {
     "name": "stdout",
     "output_type": "stream",
     "text": [
      "Optimization restart 9/10, f = 425.94676055859935\n",
      "Optimization restart 10/10, f = 143.39069320917105\n",
      "Optimization restart 1/10, f = -9.048025559627185\n",
      "Optimization restart 2/10, f = 680.8914391003631\n",
      "Optimization restart 3/10, f = 430.63294287172175\n",
      "Optimization restart 4/10, f = 680.8914391003631\n",
      "Optimization restart 5/10, f = 576.6127874339916\n",
      "Optimization restart 6/10, f = 24.87188058209393\n",
      "Optimization restart 7/10, f = 451.21797084473286\n",
      "Optimization restart 8/10, f = -9.048025558749806\n",
      "Optimization restart 9/10, f = 40.76269832288202\n",
      "Optimization restart 10/10, f = 666.9992052586219\n",
      "(4_w,9)-aCMA-ES (mu_w=2.8,w_1=49%) in dimension 6 (seed=431549, Tue Aug 25 20:54:19 2020)\n",
      "Iterat #Fevals   function value  axis ratio  sigma  min&max std  t[m:s]\n",
      "    1      9 2.213529946986838e+00 1.0e+00 2.12e-01  2e-01  2e-01 0:01.0\n",
      "    2     18 1.962477765993636e+00 1.2e+00 2.07e-01  2e-01  2e-01 0:02.1\n",
      "    3     27 1.793062655931410e+00 1.4e+00 2.15e-01  2e-01  2e-01 0:03.1\n",
      "    6     54 6.960340182510887e-01 2.1e+00 4.04e-01  4e-01  6e-01 0:06.2\n",
      "   10     90 -0.000000000000000e+00 1.9e+00 9.57e-01  8e-01  1e+00 0:10.3\n",
      "   15    135 -0.000000000000000e+00 1.9e+00 8.77e-01  7e-01  1e+00 0:15.8\n",
      "   21    189 -0.000000000000000e+00 2.2e+00 6.84e-01  4e-01  7e-01 0:22.8\n",
      "   27    243 -3.309708408739898e-03 2.5e+00 4.63e-01  2e-01  4e-01 0:30.9\n",
      "   33    297 -1.594807020542621e-02 3.4e+00 3.75e-01  2e-01  5e-01 0:39.9\n",
      "   39    351 -1.320249649711425e-02 5.6e+00 3.69e-01  2e-01  5e-01 0:49.2\n",
      "   46    414 -2.010785771877499e-02 6.2e+00 3.15e-01  1e-01  4e-01 0:59.7\n",
      "   54    486 -2.475101221256715e-02 7.1e+00 2.11e-01  5e-02  2e-01 1:11.8\n",
      "   62    558 -2.692809269639973e-02 7.6e+00 1.72e-01  3e-02  1e-01 1:23.9\n",
      "   71    639 -2.920126453317717e-02 8.1e+00 1.18e-01  1e-02  8e-02 1:37.5\n",
      "   80    720 -2.982243279062091e-02 1.0e+01 7.45e-02  6e-03  5e-02 1:51.6\n",
      "   90    810 -2.989582724950690e-02 1.3e+01 3.98e-02  2e-03  2e-02 2:06.7\n",
      "  100    900 -2.991204366346523e-02 1.5e+01 1.88e-02  8e-04  8e-03 2:21.9\n",
      "  112   1008 -2.991347988335624e-02 1.8e+01 5.76e-03  2e-04  2e-03 2:40.1\n",
      "  124   1116 -2.991363259926860e-02 1.6e+01 2.70e-03  7e-05  7e-04 2:58.1\n",
      "  137   1233 -2.991363838354122e-02 2.1e+01 1.01e-03  2e-05  2e-04 3:17.9\n",
      "  151   1359 -2.991363961334592e-02 1.8e+01 3.02e-04  5e-06  5e-05 3:39.2\n",
      "  165   1485 -2.991363968654781e-02 2.1e+01 7.98e-05  9e-07  1e-05 4:00.5\n",
      "  180   1620 -2.991363968725747e-02 1.8e+01 2.08e-05  2e-07  2e-06 4:23.3\n",
      "  188   1692 -2.991363968728766e-02 1.7e+01 9.21e-06  7e-08  8e-07 4:35.4\n",
      "termination on tolfun=1e-11 (Tue Aug 25 20:58:55 2020)\n",
      "final/bestever f-value = -2.991364e-02 -2.991364e-02\n",
      "incumbent solution: [0.8556562380991994, 0.21170828019619542, 3.3346919918028757, 3.546438053011635, 3.686724433600694, 4.976930963294009]\n",
      "std deviation: [6.762675793099568e-08, 1.7919455244208968e-07, 3.577922163144415e-07, 4.1224737139047186e-07, 6.346554174652212e-07, 7.68861601787163e-07]\n"
     ]
    },
    {
     "name": "stderr",
     "output_type": "stream",
     "text": [
      "reconstraining parameters GP_regression.Mat52.lengthscale\n",
      "reconstraining parameters GP_regression.Mat52.variance\n",
      "reconstraining parameters GP_regression.Gaussian_noise.variance\n"
     ]
    },
    {
     "name": "stdout",
     "output_type": "stream",
     "text": [
      "Optimization restart 1/10, f = 62.297779414689145\n",
      "Optimization restart 2/10, f = 146.1506689200813\n",
      "Optimization restart 3/10, f = 2856481836.9891415\n",
      "Optimization restart 4/10, f = 638.5280069329322\n",
      "Optimization restart 5/10, f = 625.4168203560251\n",
      "Optimization restart 6/10, f = 138.41278302569353\n",
      "Optimization restart 7/10, f = 635.3411877518206\n",
      "Optimization restart 8/10, f = 257.3801391750073\n",
      "Optimization restart 9/10, f = 687.5668452481251\n"
     ]
    },
    {
     "name": "stderr",
     "output_type": "stream",
     "text": [
      "reconstraining parameters GP_regression.Mat52.lengthscale\n",
      "reconstraining parameters GP_regression.Mat52.variance\n",
      "reconstraining parameters GP_regression.Gaussian_noise.variance\n"
     ]
    },
    {
     "name": "stdout",
     "output_type": "stream",
     "text": [
      "Optimization restart 10/10, f = 604.575270369273\n",
      "Optimization restart 1/10, f = -8.015484306536784\n",
      "Optimization restart 2/10, f = 5144356.93133688\n",
      "Optimization restart 3/10, f = 687.5668453660529\n",
      "Optimization restart 4/10, f = 450.8318508933116\n",
      "Optimization restart 5/10, f = 613.9606451656498\n",
      "Optimization restart 6/10, f = 465.33662135767173\n",
      "Optimization restart 7/10, f = -8.01548430721708\n",
      "Optimization restart 8/10, f = 48.16188612512607\n",
      "Optimization restart 9/10, f = 627.7339650074482\n",
      "Optimization restart 10/10, f = 583.305248950209\n",
      "(4_w,9)-aCMA-ES (mu_w=2.8,w_1=49%) in dimension 6 (seed=475767, Tue Aug 25 20:59:02 2020)\n",
      "Iterat #Fevals   function value  axis ratio  sigma  min&max std  t[m:s]\n",
      "    1      9 1.079139039008759e+00 1.0e+00 2.24e-01  2e-01  2e-01 0:01.1\n",
      "    2     18 7.976899327517109e-01 1.2e+00 2.59e-01  2e-01  3e-01 0:02.1\n",
      "    3     27 5.097811290262209e-01 1.6e+00 2.97e-01  2e-01  4e-01 0:03.1\n",
      "    6     54 -0.000000000000000e+00 1.9e+00 4.51e-01  4e-01  6e-01 0:06.7\n",
      "   10     90 -1.175787482927682e-04 2.7e+00 5.77e-01  5e-01  1e+00 0:11.7\n",
      "   15    135 -1.376488076567650e-03 2.8e+00 5.57e-01  4e-01  8e-01 0:17.8\n",
      "   20    180 -0.000000000000000e+00 2.7e+00 4.61e-01  3e-01  6e-01 0:24.4\n",
      "   26    234 -2.325474297620200e-03 2.5e+00 2.87e-01  2e-01  3e-01 0:32.7\n",
      "   32    288 -4.898918386367690e-03 3.2e+00 2.60e-01  2e-01  3e-01 0:41.7\n",
      "   38    342 -1.214926666957616e-02 5.0e+00 5.09e-01  3e-01  8e-01 0:51.0\n",
      "   45    405 -1.272486259375460e-02 5.3e+00 3.21e-01  2e-01  4e-01 1:01.7\n",
      "   53    477 -1.962373766423164e-02 5.0e+00 3.55e-01  2e-01  5e-01 1:14.0\n",
      "   61    549 -2.077552387756176e-02 5.2e+00 2.01e-01  8e-02  2e-01 1:26.3\n",
      "   70    630 -2.215938965050768e-02 4.4e+00 1.31e-01  4e-02  1e-01 1:40.1\n",
      "   80    720 -2.397166185825750e-02 5.2e+00 1.87e-01  4e-02  1e-01 1:55.6\n",
      "   90    810 -2.525249082584446e-02 6.5e+00 1.63e-01  2e-02  9e-02 2:11.1\n",
      "  100    900 -2.595065624809623e-02 9.3e+00 2.58e-01  3e-02  1e-01 2:26.6\n",
      "  111    999 -2.681555088184417e-02 9.9e+00 1.23e-01  7e-03  6e-02 2:43.8\n",
      "  123   1107 -2.692702418421966e-02 1.6e+01 3.80e-02  2e-03  2e-02 3:02.7\n",
      "  133   1197 -2.692987172543493e-02 1.5e+01 1.08e-02  3e-04  3e-03 3:22.1\n",
      "  145   1305 -2.692995807985055e-02 1.5e+01 3.36e-03  7e-05  7e-04 3:44.5\n",
      "  157   1413 -2.692996268783965e-02 1.4e+01 1.32e-03  2e-05  2e-04 4:05.6\n",
      "  171   1539 -2.692996320320606e-02 1.6e+01 3.65e-04  4e-06  5e-05 4:28.7\n",
      "  183   1647 -2.692996324271713e-02 1.6e+01 1.17e-04  9e-07  1e-05 4:52.4\n",
      "  198   1782 -2.692996324593855e-02 1.9e+01 2.80e-05  2e-07  2e-06 5:17.7\n",
      "  200   1800 -2.692996324590746e-02 1.6e+01 2.70e-05  2e-07  2e-06 5:21.1\n",
      "  204   1836 -2.692996324602115e-02 1.6e+01 1.77e-05  9e-08  1e-06 5:27.6\n",
      "termination on tolfun=1e-11 (Tue Aug 25 21:04:30 2020)\n",
      "final/bestever f-value = -2.692996e-02 -2.778640e-02\n",
      "incumbent solution: [0.7639114896333178, 9.701217222128659e-12, 2.4431979571228877, 3.649487599457859, 4.057463489401258, 5.338597896907744]\n",
      "std deviation: [8.779247479353764e-08, 1.0149024750430142e-06, 4.8710375251864e-07, 7.588914841284302e-07, 8.778238339114026e-07, 1.0891164187969357e-06]\n"
     ]
    },
    {
     "name": "stderr",
     "output_type": "stream",
     "text": [
      "reconstraining parameters GP_regression.Mat52.lengthscale\n",
      "reconstraining parameters GP_regression.Mat52.variance\n",
      "reconstraining parameters GP_regression.Gaussian_noise.variance\n"
     ]
    },
    {
     "name": "stdout",
     "output_type": "stream",
     "text": [
      "Optimization restart 1/10, f = 60.36177201650014\n",
      "Optimization restart 2/10, f = 674.4535093608201\n",
      "Optimization restart 3/10, f = 519.1142946385235\n",
      "Optimization restart 4/10, f = 622.1689976853517\n",
      "Optimization restart 5/10, f = 146.77351334911867\n",
      "Optimization restart 6/10, f = 575.3272649418865\n",
      "Optimization restart 7/10, f = 2849307949.1605597\n",
      "Optimization restart 8/10, f = 147.56960745328593\n",
      "Optimization restart 9/10, f = 85.13675939524424\n"
     ]
    },
    {
     "name": "stderr",
     "output_type": "stream",
     "text": [
      "reconstraining parameters GP_regression.Mat52.lengthscale\n",
      "reconstraining parameters GP_regression.Mat52.variance\n",
      "reconstraining parameters GP_regression.Gaussian_noise.variance\n"
     ]
    },
    {
     "name": "stdout",
     "output_type": "stream",
     "text": [
      "Optimization restart 10/10, f = 639.6266893233566\n",
      "Optimization restart 1/10, f = -10.781202265925174\n",
      "Optimization restart 2/10, f = 577.0932767419868\n",
      "Optimization restart 3/10, f = 694.2422516317429\n",
      "Optimization restart 4/10, f = 610.4788776517329\n",
      "Optimization restart 5/10, f = 694.2422516317429\n",
      "Optimization restart 6/10, f = 575.377967923797\n",
      "Optimization restart 7/10, f = 663.8648736928202\n",
      "Optimization restart 8/10, f = 694.2422516317429\n",
      "Optimization restart 9/10, f = 3522330078.558205\n",
      "Optimization restart 10/10, f = -10.781202266090432\n",
      "(4_w,9)-aCMA-ES (mu_w=2.8,w_1=49%) in dimension 6 (seed=510663, Tue Aug 25 21:04:34 2020)\n",
      "Iterat #Fevals   function value  axis ratio  sigma  min&max std  t[m:s]\n",
      "    1      9 2.614788317047410e+00 1.0e+00 2.79e-01  3e-01  3e-01 0:01.1\n",
      "    2     18 2.283313755848078e+00 1.3e+00 3.55e-01  3e-01  4e-01 0:02.2\n",
      "    3     27 4.151636893229476e-01 1.4e+00 5.47e-01  5e-01  6e-01 0:03.3\n",
      "    6     54 4.029119060390700e-01 1.6e+00 6.72e-01  6e-01  7e-01 0:06.6\n",
      "   10     90 -0.000000000000000e+00 2.3e+00 7.26e-01  5e-01  9e-01 0:11.1\n",
      "   15    135 -0.000000000000000e+00 3.1e+00 5.05e-01  3e-01  7e-01 0:17.2\n",
      "   20    180 -0.000000000000000e+00 4.1e+00 4.03e-01  2e-01  5e-01 0:23.9\n"
     ]
    },
    {
     "name": "stderr",
     "output_type": "stream",
     "text": [
      " /home/finley/miniconda3/envs/testsuite/lib/python3.8/site-packages/cma/utilities/utils.py:329: UserWarning:flat fitness (f=-0.000000, sigma=3.71e-01).\n",
      "                    For small sigma, this could indicate numerical convergence.\n",
      "                    Otherwise, please (re)consider how to compute the fitness more elaborately. (iteration=23)\n"
     ]
    },
    {
     "name": "stdout",
     "output_type": "stream",
     "text": [
      "   25    225 -0.000000000000000e+00 4.3e+00 3.46e-01  1e-01  5e-01 0:31.6\n",
      "   31    279 -0.000000000000000e+00 5.2e+00 3.92e-01  2e-01  5e-01 0:40.4\n"
     ]
    },
    {
     "name": "stderr",
     "output_type": "stream",
     "text": [
      " /home/finley/miniconda3/envs/testsuite/lib/python3.8/site-packages/cma/utilities/utils.py:329: UserWarning:flat fitness (f=-0.000000, sigma=3.22e-01).\n",
      "                    For small sigma, this could indicate numerical convergence.\n",
      "                    Otherwise, please (re)consider how to compute the fitness more elaborately. (iteration=33)\n",
      " /home/finley/miniconda3/envs/testsuite/lib/python3.8/site-packages/cma/utilities/utils.py:329: UserWarning:flat fitness (f=-0.000000, sigma=2.63e-01).\n",
      "                    For small sigma, this could indicate numerical convergence.\n",
      "                    Otherwise, please (re)consider how to compute the fitness more elaborately. (iteration=36)\n"
     ]
    },
    {
     "name": "stdout",
     "output_type": "stream",
     "text": [
      "   37    333 -0.000000000000000e+00 5.5e+00 2.82e-01  1e-01  4e-01 0:50.2\n",
      "   39    351 -0.000000000000000e+00 5.5e+00 2.97e-01  1e-01  4e-01 0:54.7\n",
      "termination on tolfunhist=1e-12 (Tue Aug 25 21:05:29 2020)\n",
      "final/bestever f-value = -0.000000e+00 -0.000000e+00\n",
      "incumbent solution: [0.13182147309485623, 0.17262297667277293, 1.8908167739899935, 3.5154496629028915, 9.354227427045657, 8.203354736182762]\n",
      "std deviation: [0.12984092437736663, 0.14987771860985918, 0.16874161559390166, 0.3239350725754256, 0.41820391316615635, 0.1756597924475825]\n"
     ]
    },
    {
     "name": "stderr",
     "output_type": "stream",
     "text": [
      "reconstraining parameters GP_regression.Mat52.lengthscale\n",
      "reconstraining parameters GP_regression.Mat52.variance\n",
      "reconstraining parameters GP_regression.Gaussian_noise.variance\n"
     ]
    },
    {
     "name": "stdout",
     "output_type": "stream",
     "text": [
      "Optimization restart 1/10, f = 58.67443821568355\n",
      "Optimization restart 2/10, f = 616.8864400179456\n",
      "Optimization restart 3/10, f = 83.89304738644542\n",
      "Optimization restart 4/10, f = 466.7590883740803\n",
      "Optimization restart 5/10, f = 5244247.357188081\n",
      "Optimization restart 6/10, f = 148.98854598649064\n",
      "Optimization restart 7/10, f = 668.4871183232135\n",
      "Optimization restart 8/10, f = 148.98854598649217\n"
     ]
    },
    {
     "name": "stderr",
     "output_type": "stream",
     "text": [
      "reconstraining parameters GP_regression.Mat52.lengthscale\n"
     ]
    },
    {
     "name": "stdout",
     "output_type": "stream",
     "text": [
      "Optimization restart 9/10, f = 141.48286722469976\n",
      "Optimization restart 10/10, f = 581.5036490765032\n"
     ]
    },
    {
     "name": "stderr",
     "output_type": "stream",
     "text": [
      "reconstraining parameters GP_regression.Mat52.variance\n",
      "reconstraining parameters GP_regression.Gaussian_noise.variance\n"
     ]
    },
    {
     "name": "stdout",
     "output_type": "stream",
     "text": [
      "Optimization restart 1/10, f = -10.698514897233132\n",
      "Optimization restart 2/10, f = 700.9176578974324\n",
      "Optimization restart 3/10, f = 5244247.357188082\n",
      "Optimization restart 4/10, f = 148.98854598649064\n",
      "Optimization restart 5/10, f = 6.601260691957357\n",
      "Optimization restart 6/10, f = 50.01992209482342\n",
      "Optimization restart 7/10, f = 39.360144311239424\n",
      "Optimization restart 8/10, f = 481.492194322278\n",
      "Optimization restart 9/10, f = 39.3594335078339\n",
      "Optimization restart 10/10, f = 4494302.866348084\n",
      "(4_w,9)-aCMA-ES (mu_w=2.8,w_1=49%) in dimension 6 (seed=461361, Tue Aug 25 21:05:35 2020)\n",
      "Iterat #Fevals   function value  axis ratio  sigma  min&max std  t[m:s]\n",
      "    1      9 2.897024662941838e+00 1.0e+00 2.58e-01  3e-01  3e-01 0:01.1\n",
      "    2     18 2.439208338352816e+00 1.4e+00 2.61e-01  2e-01  3e-01 0:02.3\n",
      "    3     27 2.329189595880235e+00 1.4e+00 2.92e-01  3e-01  3e-01 0:03.4\n",
      "    6     54 2.291681411668499e+00 1.8e+00 3.43e-01  3e-01  4e-01 0:06.9\n",
      "    9     81 2.037498486477222e+00 2.5e+00 3.18e-01  3e-01  5e-01 0:11.5\n",
      "   14    126 1.889351197089927e+00 2.7e+00 3.05e-01  2e-01  5e-01 0:17.0\n",
      "   20    180 1.162565182876858e+00 4.7e+00 7.05e-01  4e-01  2e+00 0:23.6\n",
      "   27    243 1.191064625192430e+00 6.2e+00 7.25e-01  2e-01  2e+00 0:31.2\n",
      "   34    306 1.064755180359717e+00 8.3e+00 5.67e-01  1e-01  1e+00 0:39.9\n",
      "   41    369 1.051570003096121e+00 7.6e+00 3.53e-01  8e-02  5e-01 0:50.0\n",
      "   49    441 1.002187791593071e+00 8.6e+00 2.52e-01  5e-02  4e-01 1:00.3\n",
      "   59    531 9.596729818556005e-01 9.7e+00 3.15e-01  4e-02  4e-01 1:11.9\n",
      "   70    630 6.441937390629555e-01 1.5e+01 7.21e-01  9e-02  7e-01 1:24.8\n",
      "   81    729 6.515714082331885e-01 1.5e+01 4.81e-01  4e-02  4e-01 1:37.9\n",
      "   93    837 5.721417083501301e-01 1.5e+01 3.97e-01  3e-02  3e-01 1:53.3\n",
      "  100    900 5.557214904193977e-01 1.3e+01 3.08e-01  2e-02  2e-01 2:02.7\n",
      "  113   1017 5.544443596624886e-01 1.6e+01 1.10e-01  5e-03  7e-02 2:20.0\n",
      "  125   1125 5.535641198328825e-01 2.2e+01 6.41e-02  2e-03  5e-02 2:37.2\n",
      "  139   1251 5.534234904129089e-01 2.1e+01 2.59e-02  7e-04  1e-02 2:55.3\n",
      "  154   1386 5.534193207249438e-01 1.9e+01 7.97e-03  2e-04  3e-03 3:14.8\n",
      "  169   1521 5.534189623869055e-01 1.9e+01 2.44e-03  4e-05  7e-04 3:35.9\n",
      "  186   1674 5.534189396957461e-01 2.2e+01 4.90e-04  6e-06  1e-04 3:57.6\n",
      "  200   1800 5.534189393811766e-01 2.8e+01 1.29e-04  9e-07  2e-05 4:17.9\n",
      "  219   1971 5.534189393727382e-01 2.4e+01 2.76e-05  1e-07  3e-06 4:41.2\n",
      "  231   2079 5.534189393721392e-01 2.6e+01 1.31e-05  5e-08  1e-06 4:55.2\n"
     ]
    },
    {
     "name": "stderr",
     "output_type": "stream",
     "text": [
      "reconstraining parameters GP_regression.Mat52.lengthscale\n"
     ]
    },
    {
     "name": "stdout",
     "output_type": "stream",
     "text": [
      "termination on tolfun=1e-11 (Tue Aug 25 21:10:31 2020)\n",
      "final/bestever f-value = 5.534189e-01 5.534189e-01\n",
      "incumbent solution: [2.745755722327358e-15, 3.999999999999984, 6.0, 4.9702872732122974e-14, 9.999999999999986, 8.375207292514107]\n",
      "std deviation: [5.011842890567244e-08, 8.202605064116328e-08, 3.223517548832654e-07, 1.0498686728837204e-07, 4.1537709171919115e-07, 1.287573288307472e-06]\n"
     ]
    },
    {
     "name": "stderr",
     "output_type": "stream",
     "text": [
      "reconstraining parameters GP_regression.Mat52.variance\n",
      "reconstraining parameters GP_regression.Gaussian_noise.variance\n"
     ]
    },
    {
     "name": "stdout",
     "output_type": "stream",
     "text": [
      "Optimization restart 1/10, f = 58.90392367137721\n",
      "Optimization restart 2/10, f = 638.9867575624169\n",
      "Optimization restart 3/10, f = 129.10220596054586\n",
      "Optimization restart 4/10, f = 463.72173119070516\n",
      "Optimization restart 5/10, f = 61.98768002676653\n",
      "Optimization restart 6/10, f = 689.6991855259864\n",
      "Optimization restart 7/10, f = 580.0958186162688\n",
      "Optimization restart 8/10, f = 630.4663703964527\n"
     ]
    },
    {
     "name": "stderr",
     "output_type": "stream",
     "text": [
      "reconstraining parameters GP_regression.Mat52.lengthscale\n",
      "reconstraining parameters GP_regression.Mat52.variance\n",
      "reconstraining parameters GP_regression.Gaussian_noise.variance\n"
     ]
    },
    {
     "name": "stdout",
     "output_type": "stream",
     "text": [
      "Optimization restart 9/10, f = 58.903923667838306\n",
      "Optimization restart 10/10, f = 486.3910790393209\n",
      "Optimization restart 1/10, f = -11.168087761172046\n",
      "Optimization restart 2/10, f = 707.5930641631226\n",
      "Optimization restart 3/10, f = 502.5384613827145\n",
      "Optimization restart 4/10, f = 50.31838853227255\n",
      "Optimization restart 5/10, f = 660.2622995766853\n",
      "Optimization restart 6/10, f = 137.96663699537595\n",
      "Optimization restart 7/10, f = 586.3544575915594\n",
      "Optimization restart 8/10, f = 5216798.54401212\n",
      "Optimization restart 9/10, f = 562.4050311137416\n",
      "Optimization restart 10/10, f = 588.9427087426922\n",
      "(4_w,9)-aCMA-ES (mu_w=2.8,w_1=49%) in dimension 6 (seed=585215, Tue Aug 25 21:10:37 2020)\n",
      "Iterat #Fevals   function value  axis ratio  sigma  min&max std  t[m:s]\n",
      "    1      9 1.712951763926394e+00 1.0e+00 2.54e-01  3e-01  3e-01 0:01.2\n",
      "    2     18 1.689455789239384e+00 1.3e+00 2.49e-01  2e-01  3e-01 0:02.6\n",
      "    3     27 1.082277567821722e+00 1.5e+00 3.07e-01  3e-01  3e-01 0:04.0\n",
      "    6     54 9.022393395047961e-01 1.7e+00 5.42e-01  5e-01  6e-01 0:07.3\n",
      "   10     90 5.462938777898130e-01 1.7e+00 9.89e-01  7e-01  1e+00 0:12.3\n",
      "   15    135 -2.845806145669982e-03 2.6e+00 1.28e+00  7e-01  1e+00 0:18.4\n",
      "   20    180 -0.000000000000000e+00 2.1e+00 7.79e-01  5e-01  7e-01 0:24.9\n",
      "   25    225 -1.630054326174690e-03 2.2e+00 7.36e-01  4e-01  7e-01 0:32.2\n",
      "   31    279 -1.436318533705627e-02 2.6e+00 5.85e-01  2e-01  5e-01 0:41.3\n",
      "   37    333 -2.323327207890014e-02 3.8e+00 4.33e-01  1e-01  4e-01 0:51.4\n",
      "   43    387 -2.867789359293704e-02 5.1e+00 3.29e-01  9e-02  3e-01 1:01.7\n",
      "   50    450 -3.056978492720930e-02 6.2e+00 2.18e-01  4e-02  2e-01 1:13.5\n",
      "   57    513 -3.048335530926671e-02 9.3e+00 1.48e-01  2e-02  1e-01 1:25.8\n",
      "   65    585 -3.112634198051811e-02 1.0e+01 1.04e-01  1e-02  9e-02 1:39.3\n",
      "   74    666 -3.152794718048835e-02 1.1e+01 5.35e-02  5e-03  4e-02 1:54.4\n",
      "   83    747 -3.158885965951885e-02 1.4e+01 3.39e-02  3e-03  2e-02 2:09.7\n",
      "   93    837 -3.160309956712659e-02 1.3e+01 1.51e-02  8e-04  7e-03 2:26.5\n",
      "  100    900 -3.160390970863958e-02 1.4e+01 8.00e-03  3e-04  3e-03 2:38.4\n",
      "  111    999 -3.160399252628743e-02 1.4e+01 2.43e-03  8e-05  7e-04 2:57.3\n",
      "  123   1107 -3.160401231257648e-02 1.2e+01 8.17e-04  3e-05  2e-04 3:17.5\n",
      "  135   1215 -3.160401232643828e-02 1.4e+01 3.17e-04  7e-06  6e-05 3:38.0\n",
      "  145   1305 -3.160401238541244e-02 1.5e+01 1.16e-04  2e-06  2e-05 3:59.4\n",
      "  155   1395 -3.160401239160926e-02 1.3e+01 4.17e-05  6e-07  4e-06 4:22.8\n",
      "  163   1467 -3.160401239215860e-02 1.2e+01 2.14e-05  3e-07  2e-06 4:47.5\n",
      "  174   1566 -3.160401239225052e-02 1.6e+01 1.04e-05  1e-07  8e-07 5:13.4\n",
      "termination on tolfun=1e-11 (Tue Aug 25 21:15:50 2020)\n",
      "final/bestever f-value = -3.160401e-02 -3.160401e-02\n",
      "incumbent solution: [0.8089997737281812, 0.23315521318759577, 2.2156137087638244, 3.7169783633748064, 3.9573790256192067, 5.044980898803305]\n",
      "std deviation: [1.222072111181537e-07, 6.0754412263388e-07, 4.0929026444547695e-07, 5.325772446616386e-07, 7.686413273896871e-07, 7.463320746193934e-07]\n"
     ]
    },
    {
     "name": "stderr",
     "output_type": "stream",
     "text": [
      "reconstraining parameters GP_regression.Mat52.lengthscale\n",
      "reconstraining parameters GP_regression.Mat52.variance\n",
      "reconstraining parameters GP_regression.Gaussian_noise.variance\n"
     ]
    },
    {
     "name": "stdout",
     "output_type": "stream",
     "text": [
      "Optimization restart 1/10, f = 57.36845264777058\n",
      "Optimization restart 2/10, f = 655.4739102706244\n",
      "Optimization restart 3/10, f = 150.00438611842443\n",
      "Optimization restart 4/10, f = 660.2208780710046\n",
      "Optimization restart 5/10, f = 642.3523605447001\n",
      "Optimization restart 6/10, f = 508.33400784501214\n",
      "Optimization restart 7/10, f = 688.2617046883692\n",
      "Optimization restart 8/10, f = 644.5965705712696\n",
      "Optimization restart 9/10, f = 708.4123196002798\n"
     ]
    },
    {
     "name": "stderr",
     "output_type": "stream",
     "text": [
      "reconstraining parameters GP_regression.Mat52.lengthscale\n",
      "reconstraining parameters GP_regression.Mat52.variance\n",
      "reconstraining parameters GP_regression.Gaussian_noise.variance\n"
     ]
    },
    {
     "name": "stdout",
     "output_type": "stream",
     "text": [
      "Optimization restart 10/10, f = 509.6220674870831\n",
      "Optimization restart 1/10, f = -13.154252441394142\n",
      "Optimization restart 2/10, f = 607.8196770298048\n",
      "Optimization restart 3/10, f = 441.18912146885765\n",
      "Optimization restart 4/10, f = 628.3278394894822\n",
      "Optimization restart 5/10, f = 478.1762386806016\n",
      "Optimization restart 6/10, f = 316.9730559096467\n",
      "Optimization restart 7/10, f = 410.71478732018187\n",
      "Optimization restart 8/10, f = 398.49218990983246\n",
      "Optimization restart 9/10, f = 454.3012490324034\n",
      "Optimization restart 10/10, f = 48.40914700189441\n",
      "(4_w,9)-aCMA-ES (mu_w=2.8,w_1=49%) in dimension 6 (seed=511114, Tue Aug 25 21:16:13 2020)\n",
      "Iterat #Fevals   function value  axis ratio  sigma  min&max std  t[m:s]\n",
      "    1      9 1.035078286959329e+00 1.0e+00 2.73e-01  3e-01  3e-01 0:01.2\n",
      "    2     18 6.100255935144241e-01 1.4e+00 3.24e-01  3e-01  4e-01 0:02.4\n",
      "    3     27 -0.000000000000000e+00 1.5e+00 3.79e-01  3e-01  5e-01 0:03.7\n",
      "    5     45 -0.000000000000000e+00 1.7e+00 4.47e-01  3e-01  6e-01 0:06.7\n",
      "    8     72 -0.000000000000000e+00 2.0e+00 4.17e-01  3e-01  5e-01 0:12.7\n",
      "   11     99 -0.000000000000000e+00 2.1e+00 3.92e-01  3e-01  4e-01 0:18.9\n",
      "   15    135 -8.097481285611607e-04 2.6e+00 4.43e-01  3e-01  5e-01 0:26.5\n",
      "   19    171 -2.838079751608547e-03 2.9e+00 4.21e-01  3e-01  5e-01 0:34.2\n",
      "   24    216 -6.372868577552371e-03 3.4e+00 3.43e-01  2e-01  4e-01 0:43.3\n",
      "   30    270 -7.108478467261925e-03 3.0e+00 2.20e-01  1e-01  2e-01 0:53.6\n",
      "   36    324 -1.495031014388282e-02 3.0e+00 2.03e-01  9e-02  2e-01 1:04.3\n",
      "   43    387 -2.032890185882374e-02 3.7e+00 1.66e-01  5e-02  1e-01 1:16.5\n",
      "   50    450 -2.113164808462020e-02 5.7e+00 1.38e-01  3e-02  1e-01 1:29.8\n",
      "   58    522 -2.148805148596944e-02 9.3e+00 9.15e-02  1e-02  7e-02 1:43.7\n",
      "   64    576 -2.150321882363704e-02 1.2e+01 6.88e-02  8e-03  5e-02 1:57.9\n",
      "   72    648 -2.158635351698912e-02 1.3e+01 3.85e-02  3e-03  3e-02 2:14.8\n",
      "   80    720 -2.158976550355929e-02 1.9e+01 1.73e-02  1e-03  1e-02 2:31.8\n",
      "   88    792 -2.159186268370616e-02 2.1e+01 7.45e-03  4e-04  4e-03 2:50.5\n",
      "   97    873 -2.159204263737724e-02 2.4e+01 2.58e-03  9e-05  1e-03 3:10.3\n",
      "  100    900 -2.159204170304019e-02 2.5e+01 2.11e-03  7e-05  9e-04 3:16.3\n",
      "  107    963 -2.159204964586126e-02 2.1e+01 1.27e-03  3e-05  4e-04 3:37.5\n",
      "  115   1035 -2.159205385272100e-02 2.4e+01 6.52e-04  1e-05  2e-04 4:00.3\n",
      "  127   1143 -2.159205448273438e-02 1.9e+01 1.89e-04  4e-06  4e-05 4:23.3\n",
      "  136   1224 -2.159205450439483e-02 2.0e+01 7.62e-05  1e-06  1e-05 4:46.9\n",
      "  149   1341 -2.159205450764556e-02 2.1e+01 2.43e-05  3e-07  3e-06 5:11.4\n",
      "  157   1413 -2.159205450778900e-02 1.9e+01 1.59e-05  2e-07  2e-06 5:26.5\n"
     ]
    },
    {
     "name": "stderr",
     "output_type": "stream",
     "text": [
      "reconstraining parameters GP_regression.Mat52.lengthscale\n",
      "reconstraining parameters GP_regression.Mat52.variance\n",
      "reconstraining parameters GP_regression.Gaussian_noise.variance\n"
     ]
    },
    {
     "name": "stdout",
     "output_type": "stream",
     "text": [
      "termination on tolfun=1e-11 (Tue Aug 25 21:21:40 2020)\n",
      "final/bestever f-value = -2.159205e-02 -2.159205e-02\n",
      "incumbent solution: [0.5705876388082209, 0.389511248338539, 2.461949918646025, 3.8121885352428744, 4.606342098718258, 5.023795164763546]\n",
      "std deviation: [1.741503150184689e-07, 5.880476632889251e-07, 1.1228003958905327e-06, 1.1202707880990188e-06, 1.4753883082305361e-06, 1.7605802984888405e-06]\n",
      "Optimization restart 1/10, f = 54.12241803482378\n",
      "Optimization restart 2/10, f = 631.9991226870277\n",
      "Optimization restart 3/10, f = 720.9438766945021\n",
      "Optimization restart 4/10, f = 104.31088009938283\n",
      "Optimization restart 5/10, f = 142.94307645211592\n",
      "Optimization restart 6/10, f = 375.6835090862252\n",
      "Optimization restart 7/10, f = 652.7393976939223\n",
      "Optimization restart 8/10, f = 609.3443365974206\n",
      "Optimization restart 9/10, f = 442.8075100863138\n"
     ]
    },
    {
     "name": "stderr",
     "output_type": "stream",
     "text": [
      "reconstraining parameters GP_regression.Mat52.lengthscale\n",
      "reconstraining parameters GP_regression.Mat52.variance\n",
      "reconstraining parameters GP_regression.Gaussian_noise.variance\n"
     ]
    },
    {
     "name": "stdout",
     "output_type": "stream",
     "text": [
      "Optimization restart 10/10, f = 147.76764774115227\n",
      "Optimization restart 1/10, f = -15.726341437335257\n",
      "Optimization restart 2/10, f = 687.9921639491288\n",
      "Optimization restart 3/10, f = 279.28480503364926\n",
      "Optimization restart 4/10, f = 46.82234741433433\n",
      "Optimization restart 5/10, f = 650.3183419251061\n",
      "Optimization restart 6/10, f = 720.9438766945021\n",
      "Optimization restart 7/10, f = 568.2432281244955\n",
      "Optimization restart 8/10, f = 637.1954503061413\n",
      "Optimization restart 9/10, f = 479.9037606402841\n",
      "Optimization restart 10/10, f = 636.8734612582119\n",
      "(4_w,9)-aCMA-ES (mu_w=2.8,w_1=49%) in dimension 6 (seed=546083, Tue Aug 25 21:21:45 2020)\n",
      "Iterat #Fevals   function value  axis ratio  sigma  min&max std  t[m:s]\n",
      "    1      9 1.416311153993829e+00 1.0e+00 2.56e-01  2e-01  3e-01 0:01.2\n",
      "    2     18 1.257482975112704e+00 1.3e+00 2.64e-01  2e-01  3e-01 0:02.4\n",
      "    3     27 1.330680064271773e+00 1.4e+00 2.58e-01  2e-01  3e-01 0:03.6\n",
      "    6     54 9.006385809829733e-01 1.8e+00 3.36e-01  3e-01  4e-01 0:08.4\n",
      "    9     81 6.816753809000728e-01 2.3e+00 4.22e-01  3e-01  6e-01 0:13.6\n",
      "   12    108 6.738006921326867e-01 2.5e+00 5.64e-01  4e-01  7e-01 0:19.4\n",
      "   17    153 3.540514673149024e-01 2.4e+00 8.16e-01  6e-01  1e+00 0:27.0\n",
      "   21    189 -0.000000000000000e+00 2.9e+00 7.45e-01  4e-01  9e-01 0:34.7\n",
      "   26    234 -0.000000000000000e+00 3.2e+00 6.32e-01  3e-01  7e-01 0:43.2\n",
      "   32    288 -0.000000000000000e+00 3.0e+00 4.54e-01  2e-01  5e-01 0:53.3\n",
      "   38    342 -0.000000000000000e+00 3.7e+00 5.73e-01  2e-01  7e-01 1:03.5\n",
      "   47    423 -0.000000000000000e+00 4.4e+00 3.52e-01  1e-01  4e-01 1:16.0\n",
      "   54    486 -2.343306275593537e-03 4.9e+00 2.47e-01  6e-02  2e-01 1:28.3\n",
      "   61    549 -3.681295492343750e-03 6.2e+00 1.24e-01  2e-02  1e-01 1:42.7\n",
      "   69    621 -4.411093326053717e-03 7.9e+00 1.25e-01  2e-02  1e-01 1:58.5\n",
      "   77    693 -4.576564183928600e-03 7.7e+00 7.06e-02  9e-03  6e-02 2:15.4\n",
      "   86    774 -4.620814798628192e-03 9.4e+00 5.46e-02  5e-03  4e-02 2:32.8\n",
      "   94    846 -4.624429752683401e-03 1.0e+01 3.52e-02  3e-03  2e-02 2:51.4\n",
      "  100    900 -4.629998859384976e-03 1.1e+01 1.73e-02  1e-03  8e-03 3:02.6\n",
      "  110    990 -4.631106884940284e-03 1.2e+01 1.09e-02  5e-04  5e-03 3:21.6\n",
      "  120   1080 -4.631286891238595e-03 1.3e+01 4.09e-03  2e-04  1e-03 3:43.3\n",
      "  130   1170 -4.631312980657221e-03 1.2e+01 1.54e-03  5e-05  4e-04 4:04.9\n",
      "  140   1260 -4.631315029861582e-03 1.2e+01 8.93e-04  2e-05  2e-04 4:27.8\n",
      "  153   1377 -4.631315186156115e-03 1.6e+01 3.07e-04  5e-06  6e-05 4:51.0\n",
      "  167   1503 -4.631315223457388e-03 1.5e+01 7.66e-05  1e-06  1e-05 5:15.8\n",
      "  178   1602 -4.631315223715848e-03 1.5e+01 3.33e-05  3e-07  4e-06 5:41.1\n",
      "  188   1692 -4.631315223857069e-03 1.5e+01 1.26e-05  1e-07  1e-06 6:07.4\n"
     ]
    },
    {
     "name": "stderr",
     "output_type": "stream",
     "text": [
      "reconstraining parameters GP_regression.Mat52.lengthscale\n"
     ]
    },
    {
     "name": "stdout",
     "output_type": "stream",
     "text": [
      "termination on tolfun=1e-11 (Tue Aug 25 21:27:53 2020)\n",
      "final/bestever f-value = -4.631315e-03 -4.631315e-03\n",
      "incumbent solution: [1.2092550058165885, 3.0006009773775317, 3.2450345004909806, 2.7672396750437604, 5.9469966536533105, 6.894377933078069]\n",
      "std deviation: [1.2118565994681466e-07, 1.1194048451752191e-07, 5.475520176211575e-07, 8.151320831677689e-07, 1.046135214797241e-06, 1.1331171235758219e-06]\n"
     ]
    },
    {
     "name": "stderr",
     "output_type": "stream",
     "text": [
      "reconstraining parameters GP_regression.Mat52.variance\n",
      "reconstraining parameters GP_regression.Gaussian_noise.variance\n"
     ]
    },
    {
     "name": "stdout",
     "output_type": "stream",
     "text": [
      "Optimization restart 1/10, f = 54.44839555396369\n",
      "Optimization restart 2/10, f = 80.93753523176395\n",
      "Optimization restart 3/10, f = 727.619282960192\n",
      "Optimization restart 4/10, f = 154.6643001193093\n",
      "Optimization restart 5/10, f = 502.666905868516\n",
      "Optimization restart 6/10, f = 471.0321148276622\n",
      "Optimization restart 7/10, f = 727.619282960192\n",
      "Optimization restart 8/10, f = 54.44839556210705\n"
     ]
    },
    {
     "name": "stderr",
     "output_type": "stream",
     "text": [
      "reconstraining parameters GP_regression.Mat52.lengthscale\n",
      "reconstraining parameters GP_regression.Mat52.variance\n",
      "reconstraining parameters GP_regression.Gaussian_noise.variance\n"
     ]
    },
    {
     "name": "stdout",
     "output_type": "stream",
     "text": [
      "Optimization restart 9/10, f = 400.96759374923727\n",
      "Optimization restart 10/10, f = 727.619282960192\n",
      "Optimization restart 1/10, f = -15.167390087453477\n",
      "Optimization restart 2/10, f = 540.7433534171389\n",
      "Optimization restart 3/10, f = 727.619282960192\n",
      "Optimization restart 4/10, f = 698.0986534376179\n",
      "Optimization restart 5/10, f = 49.00304210134898\n",
      "Optimization restart 6/10, f = 654.440543800046\n",
      "Optimization restart 7/10, f = 379.4645198968245\n",
      "Optimization restart 8/10, f = 642.9494339133857\n",
      "Optimization restart 9/10, f = 652.8535650051011\n",
      "Optimization restart 10/10, f = -15.167390087936695\n",
      "(4_w,9)-aCMA-ES (mu_w=2.8,w_1=49%) in dimension 6 (seed=470000, Tue Aug 25 21:27:59 2020)\n",
      "Iterat #Fevals   function value  axis ratio  sigma  min&max std  t[m:s]\n",
      "    1      9 2.647525962316003e+00 1.0e+00 2.50e-01  2e-01  3e-01 0:01.3\n",
      "    2     18 2.046660897133163e+00 1.3e+00 3.07e-01  3e-01  3e-01 0:02.7\n",
      "    3     27 1.915880167144826e+00 1.3e+00 3.53e-01  3e-01  4e-01 0:04.2\n",
      "    6     54 1.800090979408151e+00 1.5e+00 4.13e-01  4e-01  5e-01 0:08.1\n",
      "    9     81 1.714850135964259e+00 2.0e+00 4.23e-01  3e-01  5e-01 0:13.2\n",
      "   13    117 1.613375052132375e+00 2.9e+00 4.90e-01  3e-01  7e-01 0:19.1\n",
      "   17    153 1.269810796489140e+00 4.8e+00 7.27e-01  3e-01  1e+00 0:25.7\n",
      "   22    198 1.094662758890534e+00 6.5e+00 8.30e-01  3e-01  1e+00 0:33.1\n",
      "   29    261 1.161273889338316e+00 7.9e+00 4.34e-01  1e-01  6e-01 0:41.8\n",
      "   37    333 1.069092383543968e+00 1.1e+01 3.28e-01  6e-02  5e-01 0:51.7\n",
      "   46    414 1.064580578537595e+00 9.1e+00 1.63e-01  3e-02  2e-01 1:03.2\n",
      "   55    495 1.060083938323451e+00 9.5e+00 9.49e-02  1e-02  9e-02 1:15.4\n",
      "   64    576 1.059443492342499e+00 1.2e+01 4.44e-02  4e-03  4e-02 1:28.2\n",
      "   73    657 1.059382942200763e+00 1.3e+01 3.15e-02  3e-03  3e-02 1:42.6\n",
      "   82    738 1.059363851993232e+00 1.3e+01 1.30e-02  9e-04  8e-03 1:57.6\n",
      "   93    837 1.059353452535407e+00 1.5e+01 6.01e-03  3e-04  3e-03 2:13.2\n",
      "  100    900 1.059353402836573e+00 1.5e+01 2.59e-03  1e-04  1e-03 2:23.0\n",
      "  112   1008 1.059353305399386e+00 1.6e+01 6.06e-04  2e-05  2e-04 2:40.1\n",
      "  125   1125 1.059353303904357e+00 1.4e+01 1.61e-04  3e-06  4e-05 3:00.1\n",
      "  134   1206 1.059353303732923e+00 1.5e+01 6.38e-05  1e-06  1e-05 3:19.6\n",
      "  148   1332 1.059353303721398e+00 1.7e+01 1.29e-05  1e-07  2e-06 3:40.6\n",
      "  159   1431 1.059353303721183e+00 1.4e+01 5.96e-06  5e-08  6e-07 4:02.0\n",
      "  165   1485 1.059353303721092e+00 1.6e+01 5.17e-06  4e-08  6e-07 4:13.5\n",
      "termination on tolfun=1e-11 (Tue Aug 25 21:32:13 2020)\n",
      "final/bestever f-value = 1.059353e+00 1.059353e+00\n",
      "incumbent solution: [0.2343418319343304, 3.999999999999999, 5.587761311826498, 2.5482977585719606, 5.900209348644917, 2.1914685342957174]\n",
      "std deviation: [4.256508516384984e-08, 6.351916597952844e-08, 3.59182764054814e-07, 5.822180928204213e-07, 3.8411838735181323e-07, 4.573698227407568e-07]\n"
     ]
    }
   ],
   "source": [
    "opt.optimise(n_steps=100)"
   ]
  },
  {
   "cell_type": "code",
   "execution_count": 5,
   "metadata": {},
   "outputs": [
    {
     "data": {
      "text/plain": [
       "array([[1.82018226e-01, 3.29343841e+00, 1.51425395e+00, 8.25107489e-01,\n",
       "        6.11632623e+00, 7.62849632e+00],\n",
       "       [3.81912725e-01, 1.30856322e+00, 4.75033411e+00, 3.16822555e+00,\n",
       "        1.00420210e+00, 3.29257187e+00],\n",
       "       [5.49000002e-01, 2.04400848e+00, 3.64440165e+00, 5.16532723e+00,\n",
       "        3.80758051e+00, 5.50406446e+00],\n",
       "       [1.14912705e+00, 2.42421111e+00, 2.36157043e+00, 7.28143628e+00,\n",
       "        5.62094823e+00, 9.38587152e+00],\n",
       "       [1.39414705e+00, 3.80490500e+00, 3.13448887e+00, 3.43708268e+00,\n",
       "        8.13267047e+00, 1.50774183e+00],\n",
       "       [6.71260565e-01, 2.94347971e+00, 5.66900882e+00, 6.74454055e-01,\n",
       "        4.88487794e+00, 1.05721493e+01],\n",
       "       [1.81776858e+00, 2.98254797e-01, 2.49799640e+00, 4.03515336e+00,\n",
       "        2.34513784e+00, 6.42209633e+00],\n",
       "       [8.96632339e-01, 1.94296855e+00, 1.12328011e+00, 5.86781340e+00,\n",
       "        2.21417545e-01, 5.82617448e-01],\n",
       "       [1.52503917e+00, 8.16977750e-01, 3.51761868e-01, 2.18554678e+00,\n",
       "        9.89739494e+00, 1.17557117e+01],\n",
       "       [1.66823402e+00, 5.59571651e-01, 5.29967793e+00, 6.55828400e+00,\n",
       "        7.21590180e+00, 4.32677041e+00],\n",
       "       [3.41840869e-01, 4.00000000e+00, 4.35370121e-14, 3.49137086e+00,\n",
       "        1.03170755e+00, 2.77350013e+00],\n",
       "       [2.00000000e+00, 1.58801343e+00, 1.78312658e-13, 2.16991345e-06,\n",
       "        1.98793491e-08, 1.19928669e+01],\n",
       "       [2.00000000e+00, 2.36823786e-14, 2.11032373e-12, 6.54546576e-05,\n",
       "        2.00227445e-04, 1.19828347e+01],\n",
       "       [9.48560845e-02, 2.42697406e+00, 1.41159619e-12, 7.54332920e+00,\n",
       "        4.03814294e+00, 4.21276213e+00],\n",
       "       [3.56908087e-01, 4.00000000e+00, 4.47930716e+00, 2.45380271e-04,\n",
       "        1.03614757e+00, 5.78367404e+00],\n",
       "       [3.34092862e-01, 4.00000000e+00, 3.64440167e+00, 4.59317038e+00,\n",
       "        3.80714341e+00, 5.81024349e+00],\n",
       "       [2.99019452e-01, 4.00000000e+00, 5.99999988e+00, 2.45173966e-13,\n",
       "        8.99009900e+00, 1.19999999e+01],\n",
       "       [3.20502345e-01, 4.00000000e+00, 6.49916293e-01, 7.18517579e-13,\n",
       "        5.58392062e+00, 4.00814531e+00],\n",
       "       [1.84587654e+00, 3.89874699e+00, 4.10659090e+00, 5.86740196e+00,\n",
       "        3.86441037e+00, 4.98124521e+00],\n",
       "       [2.37399732e-01, 4.00000000e+00, 4.64646881e+00, 8.00000000e+00,\n",
       "        5.33946167e+00, 2.98894475e+00]])"
      ]
     },
     "execution_count": 5,
     "metadata": {},
     "output_type": "execute_result"
    }
   ],
   "source": [
    "opt.x"
   ]
  },
  {
   "cell_type": "code",
   "execution_count": 6,
   "metadata": {},
   "outputs": [
    {
     "name": "stdout",
     "output_type": "stream",
     "text": [
      "wfg2_SmsEgo_init10_MultiSurrogate_GP_smsego_ei_000\n"
     ]
    }
   ],
   "source": [
    "print(opt.log_filename)"
   ]
  },
  {
   "cell_type": "code",
   "execution_count": 7,
   "metadata": {},
   "outputs": [
    {
     "name": "stdout",
     "output_type": "stream",
     "text": [
      "wfg2_SmsEgo_init10_MultiSurrogate_GP_smsego_ei_000\n"
     ]
    }
   ],
   "source": [
    "a = opt._generate_filename()\n",
    "print(a)"
   ]
  },
  {
   "cell_type": "code",
   "execution_count": 8,
   "metadata": {},
   "outputs": [
    {
     "ename": "SyntaxError",
     "evalue": "invalid syntax (<ipython-input-8-c1fe2f3c87e0>, line 1)",
     "output_type": "error",
     "traceback": [
      "\u001b[0;36m  File \u001b[0;32m\"<ipython-input-8-c1fe2f3c87e0>\"\u001b[0;36m, line \u001b[0;32m1\u001b[0m\n\u001b[0;31m    help opt.log_optimisation\u001b[0m\n\u001b[0m         ^\u001b[0m\n\u001b[0;31mSyntaxError\u001b[0m\u001b[0;31m:\u001b[0m invalid syntax\n"
     ]
    }
   ],
   "source": [
    "help opt.log_optimisation"
   ]
  },
  {
   "cell_type": "code",
   "execution_count": null,
   "metadata": {},
   "outputs": [],
   "source": []
  }
 ],
 "metadata": {
  "kernelspec": {
   "display_name": "testsuite",
   "language": "python",
   "name": "testsuite"
  },
  "language_info": {
   "codemirror_mode": {
    "name": "ipython",
    "version": 3
   },
   "file_extension": ".py",
   "mimetype": "text/x-python",
   "name": "python",
   "nbconvert_exporter": "python",
   "pygments_lexer": "ipython3",
   "version": "3.8.3"
  },
  "varInspector": {
   "cols": {
    "lenName": 16,
    "lenType": 16,
    "lenVar": 40
   },
   "kernels_config": {
    "python": {
     "delete_cmd_postfix": "",
     "delete_cmd_prefix": "del ",
     "library": "var_list.py",
     "varRefreshCmd": "print(var_dic_list())"
    },
    "r": {
     "delete_cmd_postfix": ") ",
     "delete_cmd_prefix": "rm(",
     "library": "var_list.r",
     "varRefreshCmd": "cat(var_dic_list()) "
    }
   },
   "types_to_exclude": [
    "module",
    "function",
    "builtin_function_or_method",
    "instance",
    "_Feature"
   ],
   "window_display": false
  }
 },
 "nbformat": 4,
 "nbformat_minor": 4
}
