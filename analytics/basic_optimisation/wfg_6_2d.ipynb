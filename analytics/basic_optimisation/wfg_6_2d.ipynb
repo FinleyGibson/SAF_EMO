{
 "cells": [
  {
   "cell_type": "code",
   "execution_count": 1,
   "metadata": {},
   "outputs": [],
   "source": [
    "import matplotlib.pyplot as plt\n",
    "import wfg\n",
    "import numpy as np\n",
    "import rootpath \n",
    "import sys\n",
    "import os\n",
    "sys.path.append(rootpath.detect())\n",
    "from testsuite.surrogates import GP, MultiSurrogate\n",
    "from testsuite.optimisers import Saf \n",
    "from testsuite.analysis import load_all"
   ]
  },
  {
   "cell_type": "code",
   "execution_count": 2,
   "metadata": {},
   "outputs": [],
   "source": [
    "## set up objective function\n",
    "kfactor = 2\n",
    "lfactor = 2\n",
    "n_objectives = 2\n",
    "n_dims = lfactor * 2 + kfactor\n",
    "\n",
    "k = kfactor * (n_objectives - 1)\n",
    "l = lfactor * 2\n",
    "wfg_n = 6\n",
    "exec(\"func = wfg.WFG{}\".format(int(wfg_n)))\n",
    "\n",
    "def wfg2(x):\n",
    "    if x.ndim == 2:\n",
    "        assert (x.shape[1] == n_dims)\n",
    "    else:\n",
    "        squeezable = np.where([a == 1 for a in x.shape])[0]\n",
    "        for i in squeezable[::-1]:\n",
    "            x = x.squeeze(i)\n",
    "\n",
    "    if x.ndim == 1:\n",
    "        assert (x.shape[0] == n_dims)\n",
    "        x = x.reshape(1, -1)\n",
    "    return np.array([func(xi, k, n_objectives) for xi in x])"
   ]
  },
  {
   "cell_type": "code",
   "execution_count": 3,
   "metadata": {},
   "outputs": [
    {
     "name": "stderr",
     "output_type": "stream",
     "text": [
      "reconstraining parameters GP_regression.Mat52.lengthscale\n",
      "reconstraining parameters GP_regression.Mat52.variance\n",
      "reconstraining parameters GP_regression.Gaussian_noise.variance\n"
     ]
    },
    {
     "name": "stdout",
     "output_type": "stream",
     "text": [
      "Optimization restart 1/10, f = 13.006901724080993\n",
      "Optimization restart 2/10, f = 14.18938533204797\n",
      "Optimization restart 3/10, f = 30.865227660075284\n",
      "Optimization restart 4/10, f = 13.006901724081201\n",
      "Optimization restart 5/10, f = 13.006901724080981\n",
      "Optimization restart 6/10, f = 13.006901724082304\n",
      "Optimization restart 7/10, f = 13.006901724081693\n"
     ]
    },
    {
     "name": "stderr",
     "output_type": "stream",
     "text": [
      "reconstraining parameters GP_regression.Mat52.lengthscale\n",
      "reconstraining parameters GP_regression.Mat52.variance\n",
      "reconstraining parameters GP_regression.Gaussian_noise.variance\n"
     ]
    },
    {
     "name": "stdout",
     "output_type": "stream",
     "text": [
      "Optimization restart 8/10, f = 13.006901724085344\n",
      "Optimization restart 9/10, f = 66.75405375067122\n",
      "Optimization restart 10/10, f = 13.00690172409497\n",
      "Optimization restart 1/10, f = 14.189384866680072\n",
      "Optimization restart 2/10, f = 14.022297137375057\n",
      "Optimization restart 3/10, f = 34.323396039131886\n",
      "Optimization restart 4/10, f = 14.022297137382836\n",
      "Optimization restart 5/10, f = 14.02229713737633\n",
      "Optimization restart 6/10, f = 14.022297137376384\n",
      "Optimization restart 7/10, f = 14.022297137378246\n",
      "Optimization restart 8/10, f = 14.022297137383479\n",
      "Optimization restart 9/10, f = 14.189385332046728\n",
      "Optimization restart 10/10, f = 14.022297137448135\n"
     ]
    }
   ],
   "source": [
    "limits = [np.zeros((n_dims)), np.array(range(1, n_dims + 1)) * 2]\n",
    "gp_surr_multi = MultiSurrogate(GP, scaled=True)\n",
    "opt = Saf(objective_function=wfg2, ei=False,  limits=limits, surrogate=gp_surr_multi, n_initial=10, budget=20, seed=None, log_models=True, log_interval=2)\n"
   ]
  },
  {
   "cell_type": "code",
   "execution_count": 4,
   "metadata": {},
   "outputs": [
    {
     "name": "stderr",
     "output_type": "stream",
     "text": [
      "reconstraining parameters GP_regression.Mat52.lengthscale\n",
      "reconstraining parameters GP_regression.Mat52.variance\n",
      "reconstraining parameters GP_regression.Gaussian_noise.variance\n"
     ]
    },
    {
     "name": "stdout",
     "output_type": "stream",
     "text": [
      "Optimization restart 1/10, f = 13.006901724080981\n",
      "Optimization restart 2/10, f = 66.75406265689837\n",
      "Optimization restart 3/10, f = 66.75406265689837\n",
      "Optimization restart 4/10, f = 14.189385332046728\n",
      "Optimization restart 5/10, f = 13.006901725124074\n",
      "Optimization restart 6/10, f = 13.006901724081281\n",
      "Optimization restart 7/10, f = 13.00690172408307\n",
      "Optimization restart 8/10, f = 13.006901724080983\n"
     ]
    },
    {
     "name": "stderr",
     "output_type": "stream",
     "text": [
      "reconstraining parameters GP_regression.Mat52.lengthscale\n",
      "reconstraining parameters GP_regression.Mat52.variance\n",
      "reconstraining parameters GP_regression.Gaussian_noise.variance\n"
     ]
    },
    {
     "name": "stdout",
     "output_type": "stream",
     "text": [
      "Optimization restart 9/10, f = 13.006901724081182\n",
      "Optimization restart 10/10, f = 13.006901724085882\n",
      "Optimization restart 1/10, f = 14.022297137375057\n",
      "Optimization restart 2/10, f = 499452.1292560078\n",
      "Optimization restart 3/10, f = 14.02229713737507\n",
      "Optimization restart 4/10, f = 14.022297137374993\n",
      "Optimization restart 5/10, f = 14.022297137386278\n",
      "Optimization restart 6/10, f = 66.75406265689837\n",
      "Optimization restart 7/10, f = 237206977.54009774\n",
      "Optimization restart 8/10, f = 14.189385332046724\n",
      "Optimization restart 9/10, f = 66.75406265689837\n",
      "Optimization restart 10/10, f = 14.022297137383337\n",
      "(4_w,9)-aCMA-ES (mu_w=2.8,w_1=49%) in dimension 6 (seed=709298, Tue Sep  8 17:37:42 2020)\n",
      "Iterat #Fevals   function value  axis ratio  sigma  min&max std  t[m:s]\n",
      "    1      9 -4.894672395843225e-02 1.0e+00 2.95e-01  3e-01  3e-01 0:00.0\n",
      "    2     18 -2.556685439916284e-01 1.3e+00 3.68e-01  4e-01  4e-01 0:00.0\n",
      "    3     27 -4.075062136930263e-01 1.3e+00 4.36e-01  4e-01  5e-01 0:00.1\n",
      "  100    900 -6.027198081544962e-01 5.4e+01 1.64e-01  1e-02  2e-01 0:01.3\n",
      "  200   1800 -6.039048327595604e-01 4.4e+02 5.09e-02  3e-03  3e-02 0:02.6\n",
      "  300   2700 -6.039949097558983e-01 2.1e+03 1.55e-01  2e-03  3e-02 0:03.9\n",
      "  400   3600 -6.040251113766626e-01 9.0e+03 9.38e-02  3e-04  6e-03 0:05.3\n",
      "  500   4500 -6.040451163595875e-01 6.4e+03 1.47e-01  1e-04  2e-03 0:06.6\n",
      "  600   5400 -6.040469785900853e-01 1.0e+04 3.34e+00  9e-04  7e-03 0:07.9\n",
      "  700   6300 -6.040485648785365e-01 2.6e+04 2.76e-01  2e-05  3e-04 0:09.2\n",
      "  800   7200 -6.040489178328921e-01 2.2e+04 9.57e+00  1e-04  2e-03 0:10.5\n",
      "  900   8100 -6.040490054364462e-01 4.0e+04 7.73e+00  4e-05  3e-04 0:11.8\n",
      " 1000   9000 -6.040490677244286e-01 1.6e+05 1.02e+01  1e-05  2e-04 0:13.1\n",
      "Iterat #Fevals   function value  axis ratio  sigma  min&max std  t[m:s]\n",
      " 1100   9900 -6.040490831367928e-01 1.8e+05 1.92e+01  5e-06  1e-04 0:14.4\n",
      " 1200  10800 -6.040490854053844e-01 2.9e+05 2.56e+01  2e-06  4e-05 0:15.8\n",
      " 1241  11169 -6.040490854235587e-01 1.8e+00 8.61e+00  8e+00  1e+01 0:16.4\n"
     ]
    },
    {
     "name": "stderr",
     "output_type": "stream",
     "text": [
      " /home/finley/miniconda3/envs/testsuite/lib/python3.8/site-packages/cma/utilities/utils.py:329: UserWarning:\n",
      "        geno-pheno transformation introduced based on the\n",
      "        current covariance matrix with condition 1.0e+12 -> 1.0e+00,\n",
      "        injected solutions become \"invalid\" in this iteration (class=CMAEvolutionStrategy method=alleviate_conditioning iteration=1236)\n",
      "reconstraining parameters GP_regression.Mat52.lengthscale\n",
      "reconstraining parameters GP_regression.Mat52.variance\n",
      "reconstraining parameters GP_regression.Gaussian_noise.variance\n"
     ]
    },
    {
     "name": "stdout",
     "output_type": "stream",
     "text": [
      "termination on tolfun=1e-11 (Tue Sep  8 17:38:01 2020)\n",
      "final/bestever f-value = -6.040491e-01 -6.040491e-01\n",
      "incumbent solution: [1.0602117639624369e-13, 3.3128462596773716, 4.903572302819157, 7.9999999811364875, 4.812027620348658e-11, 4.021568240721535]\n",
      "std deviation: [8.642308725003383, 8.267027842936045, 8.193713188743288, 11.75471389560347, 8.573052171651373, 8.065173508552403]\n",
      "Optimization restart 1/10, f = 15.343888713988921\n",
      "Optimization restart 2/10, f = 15.343888713928584\n",
      "Optimization restart 3/10, f = 15.343888713928445\n",
      "Optimization restart 4/10, f = 360363438.9815936\n",
      "Optimization restart 5/10, f = 15.6083238652514\n",
      "Optimization restart 6/10, f = 15.34388871398504\n",
      "Optimization restart 7/10, f = 15.343888713995716\n",
      "Optimization restart 8/10, f = 15.6083238652514\n"
     ]
    },
    {
     "name": "stderr",
     "output_type": "stream",
     "text": [
      "reconstraining parameters GP_regression.Mat52.lengthscale\n",
      "reconstraining parameters GP_regression.Mat52.variance\n",
      "reconstraining parameters GP_regression.Gaussian_noise.variance\n"
     ]
    },
    {
     "name": "stdout",
     "output_type": "stream",
     "text": [
      "Optimization restart 9/10, f = 15.343888713928505\n",
      "Optimization restart 10/10, f = 73.42946476082705\n",
      "Optimization restart 1/10, f = 15.487069012156812\n",
      "Optimization restart 2/10, f = 38.75131510409069\n",
      "Optimization restart 3/10, f = 15.487069012154675\n",
      "Optimization restart 4/10, f = 73.4294689225882\n",
      "Optimization restart 5/10, f = 472388255.37536734\n",
      "Optimization restart 6/10, f = 15.487069012163762\n",
      "Optimization restart 7/10, f = 15.6083238652514\n",
      "Optimization restart 8/10, f = 15.487069012169137\n",
      "Optimization restart 9/10, f = 15.608323865251577\n",
      "Optimization restart 10/10, f = 73.42946840674666\n",
      "(4_w,9)-aCMA-ES (mu_w=2.8,w_1=49%) in dimension 6 (seed=709589, Tue Sep  8 17:38:02 2020)\n",
      "Iterat #Fevals   function value  axis ratio  sigma  min&max std  t[m:s]\n",
      "    1      9 9.487413073306783e-02 1.0e+00 2.32e-01  2e-01  2e-01 0:00.0\n",
      "    2     18 7.246897580795064e-02 1.3e+00 2.26e-01  2e-01  2e-01 0:00.0\n",
      "    3     27 6.875521409542706e-02 1.3e+00 2.35e-01  2e-01  2e-01 0:00.1\n",
      "  100    900 -3.815949825940668e-01 1.6e+01 1.23e-01  2e-02  8e-02 0:01.4\n",
      "  200   1800 -3.876074994134129e-01 7.4e+01 1.02e-01  4e-03  2e-02 0:02.7\n",
      "  300   2700 -3.879945623016439e-01 4.4e+02 1.17e-01  1e-03  1e-02 0:04.2\n",
      "  400   3600 -3.880619704306516e-01 6.2e+02 3.28e-01  1e-03  7e-03 0:05.5\n",
      "  500   4500 -3.880925738817604e-01 1.5e+03 5.89e-01  4e-04  4e-03 0:08.4\n",
      "  600   5400 -3.881344228534971e-01 6.7e+02 3.46e+00  7e-04  5e-03 0:09.7\n",
      "  700   6300 -3.882237033301403e-01 4.0e+02 5.53e+01  2e-03  2e-02 0:11.1\n",
      "  800   7200 -3.885552726039423e-01 2.2e+02 3.18e+02  3e-03  2e-02 0:12.4\n",
      "  900   8100 -3.903857777840560e-01 1.2e+02 2.54e+03  6e-03  4e-02 0:13.9\n",
      " 1000   9000 -3.996773747553144e-01 7.9e+01 2.79e+04  1e-02  1e-01 0:15.3\n",
      "Iterat #Fevals   function value  axis ratio  sigma  min&max std  t[m:s]\n",
      " 1100   9900 -4.208973343613964e-01 1.9e+02 4.39e+04  4e-03  3e-02 0:16.8\n",
      " 1200  10800 -4.209925995295909e-01 3.6e+04 8.27e+02  4e-05  4e-04 0:18.2\n",
      " 1300  11700 -4.209927088049101e-01 7.0e+05 3.64e+01  4e-07  5e-06 0:19.7\n"
     ]
    },
    {
     "name": "stderr",
     "output_type": "stream",
     "text": [
      " /home/finley/miniconda3/envs/testsuite/lib/python3.8/site-packages/cma/utilities/utils.py:329: UserWarning:\n",
      "        geno-pheno transformation introduced based on the\n",
      "        current covariance matrix with condition 1.0e+12 -> 1.0e+00,\n",
      "        injected solutions become \"invalid\" in this iteration (class=CMAEvolutionStrategy method=alleviate_conditioning iteration=1310)\n"
     ]
    },
    {
     "name": "stdout",
     "output_type": "stream",
     "text": [
      " 1330  11970 -4.209927088155740e-01 3.0e+00 2.64e+01  2e+01  3e+01 0:20.1\n"
     ]
    },
    {
     "name": "stderr",
     "output_type": "stream",
     "text": [
      "reconstraining parameters GP_regression.Mat52.lengthscale\n",
      "reconstraining parameters GP_regression.Mat52.variance\n",
      "reconstraining parameters GP_regression.Gaussian_noise.variance\n"
     ]
    },
    {
     "name": "stdout",
     "output_type": "stream",
     "text": [
      "termination on tolfun=1e-11 (Tue Sep  8 17:38:25 2020)\n",
      "final/bestever f-value = -4.209927e-01 -4.209927e-01\n",
      "incumbent solution: [0.9258931100946932, 1.2996230348517201, 3.180874406352814, 4.343560518747836, 2.4700863870966714, 5.121700522030006]\n",
      "std deviation: [20.896322918510762, 26.35846150849763, 25.310390625765866, 18.244896512536627, 31.490899468950808, 20.36685187675224]\n",
      "Optimization restart 1/10, f = 15.925928308820328\n",
      "Optimization restart 2/10, f = 15.925928308031391\n",
      "Optimization restart 3/10, f = 80.10487211455276\n",
      "Optimization restart 4/10, f = 17.02726239845607\n",
      "Optimization restart 5/10, f = 15.925928308037085\n",
      "Optimization restart 6/10, f = 15.925928308031498\n",
      "Optimization restart 7/10, f = 375582005.0733535\n",
      "Optimization restart 8/10, f = 375611193.6965971\n",
      "Optimization restart 9/10, f = 80.10487518827804\n"
     ]
    },
    {
     "name": "stderr",
     "output_type": "stream",
     "text": [
      "reconstraining parameters GP_regression.Mat52.lengthscale\n",
      "reconstraining parameters GP_regression.Mat52.variance\n",
      "reconstraining parameters GP_regression.Gaussian_noise.variance\n"
     ]
    },
    {
     "name": "stdout",
     "output_type": "stream",
     "text": [
      "Optimization restart 10/10, f = 374774159.39562047\n",
      "Optimization restart 1/10, f = 16.631246490740608\n",
      "Optimization restart 2/10, f = 80.10487518827804\n",
      "Optimization restart 3/10, f = 599342.5551072092\n",
      "Optimization restart 4/10, f = 17.027262398456084\n",
      "Optimization restart 5/10, f = 80.10487518827804\n",
      "Optimization restart 6/10, f = 39.30415431091337\n",
      "Optimization restart 7/10, f = 16.631246490695894\n",
      "Optimization restart 8/10, f = 16.631246490687094\n",
      "Optimization restart 9/10, f = 80.1048750915401\n",
      "Optimization restart 10/10, f = 16.631246490691012\n",
      "(4_w,9)-aCMA-ES (mu_w=2.8,w_1=49%) in dimension 6 (seed=661858, Tue Sep  8 17:38:27 2020)\n",
      "Iterat #Fevals   function value  axis ratio  sigma  min&max std  t[m:s]\n",
      "    1      9 -1.433460866201317e-01 1.0e+00 2.58e-01  2e-01  3e-01 0:00.0\n",
      "    2     18 -1.913877713459402e-01 1.3e+00 2.99e-01  3e-01  4e-01 0:00.0\n",
      "    3     27 -2.269684731003678e-01 1.7e+00 3.61e-01  3e-01  5e-01 0:00.0\n",
      "  100    900 -6.963900352534043e-01 1.9e+02 3.09e-02  4e-03  3e-02 0:01.3\n",
      "  200   1800 -6.965611436814658e-01 4.3e+04 3.02e-04  1e-05  1e-04 0:02.6\n"
     ]
    },
    {
     "name": "stderr",
     "output_type": "stream",
     "text": [
      " /home/finley/miniconda3/envs/testsuite/lib/python3.8/site-packages/cma/utilities/utils.py:329: UserWarning:\n",
      "        geno-pheno transformation introduced based on the\n",
      "        current covariance matrix with condition 1.1e+12 -> 1.0e+00,\n",
      "        injected solutions become \"invalid\" in this iteration (class=CMAEvolutionStrategy method=alleviate_conditioning iteration=264)\n"
     ]
    },
    {
     "name": "stdout",
     "output_type": "stream",
     "text": [
      "  293   2637 -6.965611484034815e-01 4.0e+00 1.02e-05  5e-06  1e-05 0:03.8\n"
     ]
    },
    {
     "name": "stderr",
     "output_type": "stream",
     "text": [
      "reconstraining parameters GP_regression.Mat52.lengthscale\n",
      "reconstraining parameters GP_regression.Mat52.variance\n",
      "reconstraining parameters GP_regression.Gaussian_noise.variance\n"
     ]
    },
    {
     "name": "stdout",
     "output_type": "stream",
     "text": [
      "termination on tolfun=1e-11 (Tue Sep  8 17:38:31 2020)\n",
      "final/bestever f-value = -6.965611e-01 -6.965611e-01\n",
      "incumbent solution: [1.179764151748941, 0.939105050303624, 2.8902248911269908, 4.115085739487768, 2.088480571823311, 5.401724919633125]\n",
      "std deviation: [4.727839354371822e-06, 9.594510808697656e-06, 9.19319338644741e-06, 8.464587815754619e-06, 7.0484389682670085e-06, 8.214235488362632e-06]\n",
      "Optimization restart 1/10, f = 16.791751105504048\n",
      "Optimization restart 2/10, f = 18.446200931660748\n",
      "Optimization restart 3/10, f = 16.7917511055005\n",
      "Optimization restart 4/10, f = 16.791751105500495\n",
      "Optimization restart 5/10, f = 387309822.60200226\n",
      "Optimization restart 6/10, f = 18.446200931660805\n",
      "Optimization restart 7/10, f = 16.791751105500662\n",
      "Optimization restart 8/10, f = 16.791751105500495\n"
     ]
    },
    {
     "name": "stderr",
     "output_type": "stream",
     "text": [
      "reconstraining parameters GP_regression.Mat52.lengthscale\n",
      "reconstraining parameters GP_regression.Mat52.variance\n",
      "reconstraining parameters GP_regression.Gaussian_noise.variance\n"
     ]
    },
    {
     "name": "stdout",
     "output_type": "stream",
     "text": [
      "Optimization restart 9/10, f = 16.79175110550066\n",
      "Optimization restart 10/10, f = 49.44400265549834\n",
      "Optimization restart 1/10, f = 17.41521322552792\n",
      "Optimization restart 2/10, f = 17.41521322553072\n",
      "Optimization restart 3/10, f = 86.78028145396787\n",
      "Optimization restart 4/10, f = 17.415213225529367\n",
      "Optimization restart 5/10, f = 17.41521322552782\n",
      "Optimization restart 6/10, f = 17.415213225527996\n",
      "Optimization restart 7/10, f = 17.415213225527108\n",
      "Optimization restart 8/10, f = 17.415213225527108\n",
      "Optimization restart 9/10, f = 86.78028145396787\n",
      "Optimization restart 10/10, f = 17.415213225534412\n",
      "(4_w,9)-aCMA-ES (mu_w=2.8,w_1=49%) in dimension 6 (seed=691543, Tue Sep  8 17:38:33 2020)\n",
      "Iterat #Fevals   function value  axis ratio  sigma  min&max std  t[m:s]\n",
      "    1      9 -1.861134809930842e-01 1.0e+00 2.50e-01  2e-01  3e-01 0:00.0\n",
      "    2     18 -1.862562843894953e-01 1.2e+00 2.64e-01  2e-01  3e-01 0:00.0\n",
      "    3     27 -1.732728581908951e-01 1.4e+00 2.76e-01  2e-01  3e-01 0:00.1\n",
      "  100    900 -3.783866174986976e-01 1.1e+02 1.06e-01  1e-02  1e-01 0:01.3\n",
      "  200   1800 -3.791732792146210e-01 1.9e+04 2.52e-03  1e-04  1e-03 0:02.6\n",
      "  300   2700 -3.791734414537382e-01 2.3e+00 2.68e-05  2e-05  3e-05 0:04.4\n"
     ]
    },
    {
     "name": "stderr",
     "output_type": "stream",
     "text": [
      " /home/finley/miniconda3/envs/testsuite/lib/python3.8/site-packages/cma/utilities/utils.py:329: UserWarning:\n",
      "        geno-pheno transformation introduced based on the\n",
      "        current covariance matrix with condition 1.0e+12 -> 1.0e+00,\n",
      "        injected solutions become \"invalid\" in this iteration (class=CMAEvolutionStrategy method=alleviate_conditioning iteration=288)\n"
     ]
    },
    {
     "name": "stdout",
     "output_type": "stream",
     "text": [
      "  326   2934 -3.791734414551056e-01 5.6e+00 2.37e-05  1e-05  3e-05 0:04.7\n"
     ]
    },
    {
     "name": "stderr",
     "output_type": "stream",
     "text": [
      "reconstraining parameters GP_regression.Mat52.lengthscale\n",
      "reconstraining parameters GP_regression.Mat52.variance\n",
      "reconstraining parameters GP_regression.Gaussian_noise.variance\n"
     ]
    },
    {
     "name": "stdout",
     "output_type": "stream",
     "text": [
      "termination on tolfun=1e-11 (Tue Sep  8 17:38:38 2020)\n",
      "final/bestever f-value = -3.791734e-01 -3.791734e-01\n",
      "incumbent solution: [1.315034282320994, 0.9885334710011193, 3.199376805454449, 4.189491985574023, 3.3376897270100017, 5.720669393434946]\n",
      "std deviation: [1.631249472256201e-05, 1.53089552547894e-05, 2.7763188524856247e-05, 1.8219626307818697e-05, 2.2766392041162587e-05, 1.2772493251165738e-05]\n",
      "Optimization restart 1/10, f = 17.44128341628423\n",
      "Optimization restart 2/10, f = 19.86513946486602\n",
      "Optimization restart 3/10, f = 93.4556877196577\n",
      "Optimization restart 4/10, f = 17.44128341639412\n",
      "Optimization restart 5/10, f = 93.4556877196577\n",
      "Optimization restart 6/10, f = 411176600.9923078\n",
      "Optimization restart 7/10, f = 19.86513946486542\n",
      "Optimization restart 8/10, f = 51.25283181208663\n"
     ]
    },
    {
     "name": "stderr",
     "output_type": "stream",
     "text": [
      "reconstraining parameters GP_regression.Mat52.lengthscale\n",
      "reconstraining parameters GP_regression.Mat52.variance\n",
      "reconstraining parameters GP_regression.Gaussian_noise.variance\n"
     ]
    },
    {
     "name": "stdout",
     "output_type": "stream",
     "text": [
      "Optimization restart 9/10, f = 19.86513946486542\n",
      "Optimization restart 10/10, f = 93.4556877196577\n",
      "Optimization restart 1/10, f = 17.973863713808317\n",
      "Optimization restart 2/10, f = 19.865139499081476\n",
      "Optimization restart 3/10, f = 17.97386371381785\n",
      "Optimization restart 4/10, f = 19.86513946486542\n",
      "Optimization restart 5/10, f = 19.86513946486543\n",
      "Optimization restart 6/10, f = 17.97386371380838\n",
      "Optimization restart 7/10, f = 93.4556877196577\n",
      "Optimization restart 8/10, f = 17.973863713808303\n",
      "Optimization restart 9/10, f = 19.865139464869756\n",
      "Optimization restart 10/10, f = 17.973863713808317\n",
      "(4_w,9)-aCMA-ES (mu_w=2.8,w_1=49%) in dimension 6 (seed=718808, Tue Sep  8 17:38:39 2020)\n",
      "Iterat #Fevals   function value  axis ratio  sigma  min&max std  t[m:s]\n",
      "    1      9 3.756339035858947e-02 1.0e+00 2.54e-01  2e-01  3e-01 0:00.0\n",
      "    2     18 4.619728152724711e-02 1.2e+00 2.34e-01  2e-01  2e-01 0:00.0\n",
      "    3     27 3.508694218835018e-02 1.2e+00 2.31e-01  2e-01  2e-01 0:00.0\n",
      "  100    900 -2.879809502034127e-01 1.0e+02 1.52e-01  1e-02  2e-01 0:01.3\n",
      "  200   1800 -2.885495304685926e-01 2.1e+04 2.21e-03  7e-05  1e-03 0:02.6\n"
     ]
    },
    {
     "name": "stderr",
     "output_type": "stream",
     "text": [
      " /home/finley/miniconda3/envs/testsuite/lib/python3.8/site-packages/cma/utilities/utils.py:329: UserWarning:\n",
      "        geno-pheno transformation introduced based on the\n",
      "        current covariance matrix with condition 1.1e+12 -> 1.0e+00,\n",
      "        injected solutions become \"invalid\" in this iteration (class=CMAEvolutionStrategy method=alleviate_conditioning iteration=275)\n"
     ]
    },
    {
     "name": "stdout",
     "output_type": "stream",
     "text": [
      "  300   2700 -2.885495970481093e-01 5.5e+00 4.44e-05  3e-05  6e-05 0:03.9\n",
      "  321   2889 -2.885495970513103e-01 9.6e+00 1.18e-05  5e-06  1e-05 0:04.2\n"
     ]
    },
    {
     "name": "stderr",
     "output_type": "stream",
     "text": [
      "reconstraining parameters GP_regression.Mat52.lengthscale\n",
      "reconstraining parameters GP_regression.Mat52.variance\n",
      "reconstraining parameters GP_regression.Gaussian_noise.variance\n"
     ]
    },
    {
     "name": "stdout",
     "output_type": "stream",
     "text": [
      "termination on tolfun=1e-11 (Tue Sep  8 17:38:44 2020)\n",
      "final/bestever f-value = -2.885496e-01 -2.885496e-01\n",
      "incumbent solution: [1.4137787361519258, 0.9364639470711609, 3.15005163459864, 4.04761337391119, 3.2912860125361476, 5.8495066821233195]\n",
      "std deviation: [4.873616865187031e-06, 6.308977360035105e-06, 6.724219902720692e-06, 1.438044752391868e-05, 6.271651896904598e-06, 9.826053776748126e-06]\n",
      "Optimization restart 1/10, f = 17.12476488849004\n",
      "Optimization restart 2/10, f = 21.284077998070096\n",
      "Optimization restart 3/10, f = 21.284077998072323\n",
      "Optimization restart 4/10, f = 17.124764888490517\n",
      "Optimization restart 5/10, f = 436965134.995954\n",
      "Optimization restart 6/10, f = 17.124764888467617\n",
      "Optimization restart 7/10, f = 17.124764888497953\n",
      "Optimization restart 8/10, f = 17.12476488846691\n"
     ]
    },
    {
     "name": "stderr",
     "output_type": "stream",
     "text": [
      "reconstraining parameters GP_regression.Mat52.lengthscale\n",
      "reconstraining parameters GP_regression.Mat52.variance\n",
      "reconstraining parameters GP_regression.Gaussian_noise.variance\n"
     ]
    },
    {
     "name": "stdout",
     "output_type": "stream",
     "text": [
      "Optimization restart 9/10, f = 100.13109398534753\n",
      "Optimization restart 10/10, f = 21.284077998070092\n",
      "Optimization restart 1/10, f = 16.98658700942369\n",
      "Optimization restart 2/10, f = 37.881957995564576\n",
      "Optimization restart 3/10, f = 16.986587009423808\n",
      "Optimization restart 4/10, f = 16.986587009423744\n",
      "Optimization restart 5/10, f = 629912684.2750146\n",
      "Optimization restart 6/10, f = 16.986587009427417\n",
      "Optimization restart 7/10, f = 16.98658700942369\n",
      "Optimization restart 8/10, f = 16.98658700944089\n",
      "Optimization restart 9/10, f = 16.986587009447426\n",
      "Optimization restart 10/10, f = 630206143.940923\n",
      "(4_w,9)-aCMA-ES (mu_w=2.8,w_1=49%) in dimension 6 (seed=611768, Tue Sep  8 17:38:46 2020)\n",
      "Iterat #Fevals   function value  axis ratio  sigma  min&max std  t[m:s]\n",
      "    1      9 2.222576837549162e-01 1.0e+00 2.54e-01  2e-01  3e-01 0:00.0\n",
      "    2     18 2.173309997813986e-01 1.3e+00 3.03e-01  3e-01  3e-01 0:00.0\n",
      "    3     27 1.551648699607302e-01 1.6e+00 3.57e-01  3e-01  4e-01 0:00.1\n",
      "  100    900 -2.952642514799593e-01 6.9e+01 4.87e-01  5e-02  6e-01 0:01.9\n",
      "  200   1800 -3.063489125227572e-01 4.4e+03 4.99e-03  2e-04  2e-03 0:03.4\n",
      "  300   2700 -3.063490766199251e-01 1.0e+00 3.05e-05  3e-05  3e-05 0:04.8\n",
      "  311   2799 -3.063490766190040e-01 1.9e+00 1.57e-05  1e-05  1e-05 0:05.0\n"
     ]
    },
    {
     "name": "stderr",
     "output_type": "stream",
     "text": [
      " /home/finley/miniconda3/envs/testsuite/lib/python3.8/site-packages/cma/utilities/utils.py:329: UserWarning:\n",
      "        geno-pheno transformation introduced based on the\n",
      "        current covariance matrix with condition 1.2e+12 -> 1.0e+00,\n",
      "        injected solutions become \"invalid\" in this iteration (class=CMAEvolutionStrategy method=alleviate_conditioning iteration=299)\n"
     ]
    },
    {
     "name": "stdout",
     "output_type": "stream",
     "text": [
      "termination on tolfun=1e-11 (Tue Sep  8 17:38:51 2020)\n",
      "final/bestever f-value = -3.063491e-01 -3.063491e-01\n",
      "incumbent solution: [1.6005566715125497, 1.2140384384287244, 3.2292486423362563, 3.2106550618385885, 2.959576735920203, 5.940536087655346]\n",
      "std deviation: [1.207823629932052e-05, 1.395022445410259e-05, 1.3335838504330944e-05, 1.1617186098084604e-05, 1.4619725563506486e-05, 1.459065800015375e-05]\n"
     ]
    },
    {
     "name": "stderr",
     "output_type": "stream",
     "text": [
      "reconstraining parameters GP_regression.Mat52.lengthscale\n",
      "reconstraining parameters GP_regression.Mat52.variance\n",
      "reconstraining parameters GP_regression.Gaussian_noise.variance\n"
     ]
    },
    {
     "name": "stdout",
     "output_type": "stream",
     "text": [
      "Optimization restart 1/10, f = 17.846807323425047\n",
      "Optimization restart 2/10, f = 17.84680732342521\n",
      "Optimization restart 3/10, f = 17.84680732342504\n",
      "Optimization restart 4/10, f = 22.70301653127477\n",
      "Optimization restart 5/10, f = 17.846807323425853\n",
      "Optimization restart 6/10, f = 17.846807323483226\n",
      "Optimization restart 7/10, f = 106.80650025103739\n",
      "Optimization restart 8/10, f = 22.703016531274763\n",
      "Optimization restart 9/10, f = 799123.4068096125\n"
     ]
    },
    {
     "name": "stderr",
     "output_type": "stream",
     "text": [
      "reconstraining parameters GP_regression.Mat52.lengthscale\n",
      "reconstraining parameters GP_regression.Mat52.variance\n",
      "reconstraining parameters GP_regression.Gaussian_noise.variance\n"
     ]
    },
    {
     "name": "stdout",
     "output_type": "stream",
     "text": [
      "Optimization restart 10/10, f = 17.84680732343032\n",
      "Optimization restart 1/10, f = 16.911148039661036\n",
      "Optimization restart 2/10, f = 646514405.8883113\n",
      "Optimization restart 3/10, f = 40.883616612586536\n",
      "Optimization restart 4/10, f = 22.703016531275253\n",
      "Optimization restart 5/10, f = 16.911148039659828\n",
      "Optimization restart 6/10, f = 22.703016531274763\n",
      "Optimization restart 7/10, f = 22.703016531279744\n",
      "Optimization restart 8/10, f = 16.911148039666852\n",
      "Optimization restart 9/10, f = 16.911148039659796\n",
      "Optimization restart 10/10, f = 16.911148039659935\n",
      "(4_w,9)-aCMA-ES (mu_w=2.8,w_1=49%) in dimension 6 (seed=681876, Tue Sep  8 17:38:53 2020)\n",
      "Iterat #Fevals   function value  axis ratio  sigma  min&max std  t[m:s]\n",
      "    1      9 -2.333908645669425e-02 1.0e+00 2.35e-01  2e-01  2e-01 0:00.0\n",
      "    2     18 -7.199609466399881e-02 1.3e+00 2.76e-01  2e-01  3e-01 0:00.0\n",
      "    3     27 -2.473555472795264e-02 1.6e+00 2.89e-01  3e-01  3e-01 0:00.1\n",
      "  100    900 -2.426193842699318e-01 6.1e+02 9.60e-03  9e-04  1e-02 0:01.4\n",
      "  200   1800 -2.426366463228371e-01 5.0e+04 1.53e-04  5e-06  6e-05 0:02.8\n"
     ]
    },
    {
     "name": "stderr",
     "output_type": "stream",
     "text": [
      " /home/finley/miniconda3/envs/testsuite/lib/python3.8/site-packages/cma/utilities/utils.py:329: UserWarning:\n",
      "        geno-pheno transformation introduced based on the\n",
      "        current covariance matrix with condition 1.0e+12 -> 1.0e+00,\n",
      "        injected solutions become \"invalid\" in this iteration (class=CMAEvolutionStrategy method=alleviate_conditioning iteration=268)\n"
     ]
    },
    {
     "name": "stdout",
     "output_type": "stream",
     "text": [
      "  295   2655 -2.426366482815170e-01 4.9e+00 1.35e-05  6e-06  1e-05 0:04.0\n"
     ]
    },
    {
     "name": "stderr",
     "output_type": "stream",
     "text": [
      "reconstraining parameters GP_regression.Mat52.lengthscale\n",
      "reconstraining parameters GP_regression.Mat52.variance\n",
      "reconstraining parameters GP_regression.Gaussian_noise.variance\n"
     ]
    },
    {
     "name": "stdout",
     "output_type": "stream",
     "text": [
      "termination on tolfun=1e-11 (Tue Sep  8 17:38:58 2020)\n",
      "final/bestever f-value = -2.426366e-01 -2.426366e-01\n",
      "incumbent solution: [1.0519650081296277, 1.5079947664980864, 3.0364457490636596, 3.683112217891903, 2.8105186105894973, 5.4856704519552295]\n",
      "std deviation: [6.494389349998481e-06, 1.1516470709147276e-05, 1.1998284590847881e-05, 1.0962348177279318e-05, 1.0856940974648609e-05, 1.0372020811271943e-05]\n",
      "Optimization restart 1/10, f = 17.846720583517747\n",
      "Optimization restart 2/10, f = 17.846720583511924\n",
      "Optimization restart 3/10, f = 24.121955064479433\n",
      "Optimization restart 4/10, f = 17.84672058351167\n",
      "Optimization restart 5/10, f = 113.48190651672722\n",
      "Optimization restart 6/10, f = 17.84672058353756\n",
      "Optimization restart 7/10, f = 17.846720583511676\n",
      "Optimization restart 8/10, f = 51.11601159602084\n"
     ]
    },
    {
     "name": "stderr",
     "output_type": "stream",
     "text": [
      "reconstraining parameters GP_regression.Mat52.lengthscale\n",
      "reconstraining parameters GP_regression.Mat52.variance\n"
     ]
    },
    {
     "name": "stdout",
     "output_type": "stream",
     "text": [
      "Optimization restart 9/10, f = 17.84672058351167\n",
      "Optimization restart 10/10, f = 17.84672058351244\n"
     ]
    },
    {
     "name": "stderr",
     "output_type": "stream",
     "text": [
      "reconstraining parameters GP_regression.Gaussian_noise.variance\n"
     ]
    },
    {
     "name": "stdout",
     "output_type": "stream",
     "text": [
      "Optimization restart 1/10, f = 16.628268936466625\n",
      "Optimization restart 2/10, f = 16.628268936460707\n",
      "Optimization restart 3/10, f = 16.628268936462003\n",
      "Optimization restart 4/10, f = 16.628268936465123\n",
      "Optimization restart 5/10, f = 113.48190651672722\n",
      "Optimization restart 6/10, f = 16.62826893646126\n",
      "Optimization restart 7/10, f = 16.62826893648695\n",
      "Optimization restart 8/10, f = 24.121955064479437\n",
      "Optimization restart 9/10, f = 24.121955064479433\n",
      "Optimization restart 10/10, f = 691168402.5175982\n",
      "(4_w,9)-aCMA-ES (mu_w=2.8,w_1=49%) in dimension 6 (seed=610864, Tue Sep  8 17:39:00 2020)\n",
      "Iterat #Fevals   function value  axis ratio  sigma  min&max std  t[m:s]\n",
      "    1      9 4.694231069183408e-02 1.0e+00 2.35e-01  2e-01  2e-01 0:00.0\n",
      "    2     18 5.973608370813421e-02 1.2e+00 2.43e-01  2e-01  3e-01 0:00.0\n",
      "    3     27 5.692981695705313e-02 1.5e+00 2.61e-01  2e-01  3e-01 0:00.0\n",
      "  100    900 -1.540279581902939e-01 1.0e+02 6.24e-02  1e-02  8e-02 0:01.4\n",
      "  200   1800 -1.557398823291105e-01 1.5e+02 1.07e-01  4e-03  4e-02 0:02.8\n",
      "  300   2700 -1.562197243122534e-01 3.4e+02 1.90e-01  2e-03  2e-02 0:04.1\n",
      "  400   3600 -1.565791930776275e-01 4.9e+02 6.02e-01  2e-03  2e-02 0:05.5\n",
      "  500   4500 -1.591534158208390e-01 2.1e+02 2.07e+01  2e-02  3e-01 0:06.9\n",
      "  600   5400 -1.595284812145152e-01 1.5e+02 4.78e+00  2e-03  2e-02 0:08.3\n",
      "  700   6300 -1.596510871902534e-01 2.7e+02 3.53e+01  4e-03  3e-02 0:09.7\n",
      "  800   7200 -1.600899194700838e-01 1.7e+02 1.48e+02  5e-03  4e-02 0:11.1\n",
      "  900   8100 -1.604952537083792e-01 3.0e+02 7.94e+01  1e-03  1e-02 0:12.4\n",
      " 1000   9000 -1.605159207380900e-01 5.0e+02 2.12e+02  1e-03  2e-02 0:13.8\n",
      "Iterat #Fevals   function value  axis ratio  sigma  min&max std  t[m:s]\n",
      " 1100   9900 -1.605289760030280e-01 4.5e+02 9.97e+02  2e-03  2e-02 0:15.2\n",
      " 1200  10800 -1.605596449969409e-01 5.3e+02 7.65e+03  4e-03  4e-02 0:16.5\n",
      " 1300  11700 -1.608305481658667e-01 6.8e+02 2.02e+04  4e-03  6e-02 0:17.8\n",
      " 1400  12600 -1.608899776266171e-01 9.7e+01 3.58e+04  1e-03  7e-03 0:19.2\n",
      " 1500  13500 -1.609468522166586e-01 4.4e+01 2.19e+05  9e-04  8e-03 0:20.6\n",
      " 1600  14400 -1.609884349448505e-01 3.6e+01 3.13e+05  1e-03  2e-03 0:21.9\n",
      " 1700  15300 -1.609981579325117e-01 6.7e+01 7.62e+05  7e-04  2e-03 0:23.3\n",
      " 1800  16200 -1.610016342766922e-01 1.4e+02 6.69e+05  1e-04  5e-04 0:24.7\n",
      " 1900  17100 -1.610026658812349e-01 4.1e+02 7.72e+05  6e-05  2e-04 0:26.0\n",
      " 2000  18000 -1.610033155296371e-01 4.4e+02 1.57e+06  2e-05  1e-04 0:27.4\n",
      "Iterat #Fevals   function value  axis ratio  sigma  min&max std  t[m:s]\n",
      " 2100  18900 -1.610036811352202e-01 4.7e+02 7.29e+06  2e-05  1e-04 0:28.8\n",
      " 2200  19800 -1.610038626037764e-01 5.0e+02 2.59e+07  2e-05  1e-04 0:30.2\n",
      " 2233  20097 -1.610039115152686e-01 5.9e+02 1.32e+08  5e-05  4e-04 0:30.7\n"
     ]
    },
    {
     "name": "stderr",
     "output_type": "stream",
     "text": [
      "reconstraining parameters GP_regression.Mat52.lengthscale\n",
      "reconstraining parameters GP_regression.Mat52.variance\n",
      "reconstraining parameters GP_regression.Gaussian_noise.variance\n"
     ]
    },
    {
     "name": "stdout",
     "output_type": "stream",
     "text": [
      "termination on tolupsigma=1e+20 (Tue Sep  8 17:39:35 2020)\n",
      "final/bestever f-value = -1.610039e-01 -1.610039e-01\n",
      "incumbent solution: [1.999999113831688, 7.574285965361915e-07, 1.154336565439846e-06, 5.862258304030332e-06, 0.0007030054516889725, 4.4880089416595546]\n",
      "std deviation: [0.0002866426468217583, 0.0003878762274373753, 0.00030764978207448434, 0.00031505761818023816, 0.00041271629949631293, 5.0481125557950755e-05]\n",
      "Optimization restart 1/10, f = 18.582323213107124\n",
      "Optimization restart 2/10, f = 18.58232321310185\n",
      "Optimization restart 3/10, f = 18.582323213134167\n",
      "Optimization restart 4/10, f = 120.15731278241705\n",
      "Optimization restart 5/10, f = 18.582323213168834\n",
      "Optimization restart 6/10, f = 25.54089359768459\n",
      "Optimization restart 7/10, f = 18.582323213101994\n",
      "Optimization restart 8/10, f = 18.58232321310181\n"
     ]
    },
    {
     "name": "stderr",
     "output_type": "stream",
     "text": [
      "reconstraining parameters GP_regression.Mat52.lengthscale\n",
      "reconstraining parameters GP_regression.Mat52.variance\n",
      "reconstraining parameters GP_regression.Gaussian_noise.variance\n"
     ]
    },
    {
     "name": "stdout",
     "output_type": "stream",
     "text": [
      "Optimization restart 9/10, f = 25.54089359768411\n",
      "Optimization restart 10/10, f = 18.582323213102917\n",
      "Optimization restart 1/10, f = 16.406319149439717\n",
      "Optimization restart 2/10, f = 41.34058904085834\n",
      "Optimization restart 3/10, f = 16.40631914943563\n",
      "Optimization restart 4/10, f = 16.40631914989814\n",
      "Optimization restart 5/10, f = 120.15731278241705\n",
      "Optimization restart 6/10, f = 16.40631914943527\n",
      "Optimization restart 7/10, f = 120.15731278241705\n",
      "Optimization restart 8/10, f = 16.406319149446944\n",
      "Optimization restart 9/10, f = 120.15731278241705\n",
      "Optimization restart 10/10, f = 627990706.2846769\n",
      "(4_w,9)-aCMA-ES (mu_w=2.8,w_1=49%) in dimension 6 (seed=743545, Tue Sep  8 17:39:36 2020)\n",
      "Iterat #Fevals   function value  axis ratio  sigma  min&max std  t[m:s]\n",
      "    1      9 3.283240281332365e-01 1.0e+00 2.54e-01  2e-01  3e-01 0:00.0\n",
      "    2     18 2.848757177264343e-01 1.3e+00 3.61e-01  3e-01  4e-01 0:00.0\n",
      "    3     27 2.521108404118801e-01 1.4e+00 5.13e-01  5e-01  6e-01 0:00.1\n",
      "  100    900 -5.346715180941291e-01 9.6e+00 9.66e-03  8e-04  5e-03 0:01.4\n",
      "  200   1800 -5.347033709169440e-01 1.2e+03 1.52e-04  5e-06  4e-05 0:02.8\n",
      "  272   2448 -5.347033717382914e-01 7.4e+04 8.03e-06  2e-07  1e-06 0:03.8\n"
     ]
    },
    {
     "name": "stderr",
     "output_type": "stream",
     "text": [
      "reconstraining parameters GP_regression.Mat52.lengthscale\n",
      "reconstraining parameters GP_regression.Mat52.variance\n",
      "reconstraining parameters GP_regression.Gaussian_noise.variance\n"
     ]
    },
    {
     "name": "stdout",
     "output_type": "stream",
     "text": [
      "termination on tolfun=1e-11 (Tue Sep  8 17:39:41 2020)\n",
      "final/bestever f-value = -5.347034e-01 -5.347034e-01\n",
      "incumbent solution: [1.9999999999999925, 1.4419145101278316e-12, 2.1174156047514896, 2.787948537447419, 2.5316442763628877, 6.846919293630651]\n",
      "std deviation: [1.6314829971006923e-07, 2.191603727690697e-07, 4.6066863668584214e-07, 8.114217714672544e-07, 1.2180853909800446e-06, 9.6473649367162e-07]\n",
      "Optimization restart 1/10, f = 19.173509286166833\n",
      "Optimization restart 2/10, f = 19.173509286166823\n",
      "Optimization restart 3/10, f = 19.17350928616691\n",
      "Optimization restart 4/10, f = 26.95983213088882\n",
      "Optimization restart 5/10, f = 19.173509286166855\n",
      "Optimization restart 6/10, f = 19.173509286166855\n"
     ]
    },
    {
     "name": "stderr",
     "output_type": "stream",
     "text": [
      "reconstraining parameters GP_regression.Mat52.lengthscale\n",
      "reconstraining parameters GP_regression.Mat52.variance\n"
     ]
    },
    {
     "name": "stdout",
     "output_type": "stream",
     "text": [
      "Optimization restart 7/10, f = 19.1735092861668\n",
      "Optimization restart 8/10, f = 126.8327190481069\n",
      "Optimization restart 9/10, f = 26.959832130888792\n",
      "Optimization restart 10/10, f = 26.959832130890845\n"
     ]
    },
    {
     "name": "stderr",
     "output_type": "stream",
     "text": [
      "reconstraining parameters GP_regression.Gaussian_noise.variance\n"
     ]
    },
    {
     "name": "stdout",
     "output_type": "stream",
     "text": [
      "Optimization restart 1/10, f = 14.312190508665855\n",
      "Optimization restart 2/10, f = 14.312190508694664\n",
      "Optimization restart 3/10, f = 26.959832130890952\n",
      "Optimization restart 4/10, f = 14.312190508684063\n",
      "Optimization restart 5/10, f = 584964794.0394671\n",
      "Optimization restart 6/10, f = 126.8327190481069\n",
      "Optimization restart 7/10, f = 126.8327190481069\n",
      "Optimization restart 8/10, f = 41.20805733496146\n",
      "Optimization restart 9/10, f = 14.312190508661331\n",
      "Optimization restart 10/10, f = 585166479.3039408\n",
      "(4_w,9)-aCMA-ES (mu_w=2.8,w_1=49%) in dimension 6 (seed=712368, Tue Sep  8 17:39:42 2020)\n",
      "Iterat #Fevals   function value  axis ratio  sigma  min&max std  t[m:s]\n",
      "    1      9 1.008784217174770e-01 1.0e+00 2.89e-01  3e-01  3e-01 0:00.0\n",
      "    2     18 7.651884272256693e-02 1.3e+00 3.65e-01  3e-01  4e-01 0:00.0\n",
      "    3     27 9.771262039939410e-02 1.4e+00 4.02e-01  4e-01  4e-01 0:00.1\n",
      "  100    900 -2.140415162660902e-01 5.1e+01 3.89e-01  4e-02  3e-01 0:01.3\n",
      "  200   1800 -2.252152744347324e-01 3.5e+03 3.15e-03  9e-05  1e-03 0:02.6\n",
      "  300   2700 -2.252154199279739e-01 6.7e+05 4.69e-05  7e-07  5e-06 0:04.0\n"
     ]
    },
    {
     "name": "stderr",
     "output_type": "stream",
     "text": [
      " /home/finley/miniconda3/envs/testsuite/lib/python3.8/site-packages/cma/utilities/utils.py:329: UserWarning:\n",
      "        geno-pheno transformation introduced based on the\n",
      "        current covariance matrix with condition 1.2e+12 -> 1.0e+00,\n",
      "        injected solutions become \"invalid\" in this iteration (class=CMAEvolutionStrategy method=alleviate_conditioning iteration=308)\n"
     ]
    },
    {
     "name": "stdout",
     "output_type": "stream",
     "text": [
      "  332   2988 -2.252154199329615e-01 3.8e+00 2.35e-05  1e-05  3e-05 0:04.5\n",
      "termination on tolfun=1e-11 (Tue Sep  8 17:39:47 2020)\n",
      "final/bestever f-value = -2.252154e-01 -2.252154e-01\n",
      "incumbent solution: [1.535100791873674, 0.8569537842230375, 2.6340179046869707, 3.481177180044142, 3.8012352385421764, 6.656449091249669]\n",
      "std deviation: [1.426405616768413e-05, 1.5909641355423722e-05, 2.9796968253346604e-05, 2.7224244913219874e-05, 2.5720866530022593e-05, 1.9207197666331434e-05]\n"
     ]
    }
   ],
   "source": [
    "opt.optimise()"
   ]
  },
  {
   "cell_type": "code",
   "execution_count": 7,
   "metadata": {},
   "outputs": [],
   "source": [
    "import pickle\n",
    "D = opt.log_data.copy() \n",
    "# D[\"surrogate_models\"] = D[\"surrogate_models\"][0]"
   ]
  },
  {
   "cell_type": "code",
   "execution_count": 8,
   "metadata": {},
   "outputs": [],
   "source": [
    "pickle.dump(D, open(\"./test.pkl\", \"wb\"), protocol=2)"
   ]
  },
  {
   "cell_type": "code",
   "execution_count": 9,
   "metadata": {},
   "outputs": [],
   "source": [
    "A = pickle.load(open(\"./test.pkl\", \"rb\"))"
   ]
  },
  {
   "cell_type": "code",
   "execution_count": 11,
   "metadata": {},
   "outputs": [
    {
     "data": {
      "text/html": [
       "<style type=\"text/css\">\n",
       ".pd{\n",
       "    font-family: \"Courier New\", Courier, monospace !important;\n",
       "    width: 100%;\n",
       "    padding: 3px;\n",
       "}\n",
       "</style>\n",
       "\n",
       "<p class=pd>\n",
       "<b>Model</b>: GP regression<br>\n",
       "<b>Objective</b>: 13.006901724080981<br>\n",
       "<b>Number of Parameters</b>: 3<br>\n",
       "<b>Number of Optimization Parameters</b>: 2<br>\n",
       "<b>Updates</b>: True<br>\n",
       "</p>\n",
       "<style type=\"text/css\">\n",
       ".tg  {font-family:\"Courier New\", Courier, monospace !important;padding:2px 3px;word-break:normal;border-collapse:collapse;border-spacing:0;border-color:#DCDCDC;margin:0px auto;width:100%;}\n",
       ".tg td{font-family:\"Courier New\", Courier, monospace !important;font-weight:bold;color:#444;background-color:#F7FDFA;border-style:solid;border-width:1px;overflow:hidden;word-break:normal;border-color:#DCDCDC;}\n",
       ".tg th{font-family:\"Courier New\", Courier, monospace !important;font-weight:normal;color:#fff;background-color:#26ADE4;border-style:solid;border-width:1px;overflow:hidden;word-break:normal;border-color:#DCDCDC;}\n",
       ".tg .tg-left{font-family:\"Courier New\", Courier, monospace !important;font-weight:normal;text-align:left;}\n",
       ".tg .tg-center{font-family:\"Courier New\", Courier, monospace !important;font-weight:normal;text-align:center;}\n",
       ".tg .tg-right{font-family:\"Courier New\", Courier, monospace !important;font-weight:normal;text-align:right;}\n",
       "</style>\n",
       "<table class=\"tg\"><tr><th><b>  GP_regression.         </b></th><th><b>             value</b></th><th><b>    constraints     </b></th><th><b>priors</b></th></tr>\n",
       "<tr><td class=tg-left>  Mat52.variance         </td><td class=tg-right>1.3025834230352482</td><td class=tg-center>   1e-05,100000.0   </td><td class=tg-center>      </td></tr>\n",
       "<tr><td class=tg-left>  Mat52.lengthscale      </td><td class=tg-right> 2.942531871974854</td><td class=tg-center>   1e-05,100000.0   </td><td class=tg-center>      </td></tr>\n",
       "<tr><td class=tg-left>  Gaussian_noise.variance</td><td class=tg-right>             1e-20</td><td class=tg-center>1e-05,100000.0 fixed</td><td class=tg-center>      </td></tr>\n",
       "</table>"
      ],
      "text/plain": [
       "<GPy.models.gp_regression.GPRegression at 0x7f7c7b9138b0>"
      ]
     },
     "execution_count": 11,
     "metadata": {},
     "output_type": "execute_result"
    }
   ],
   "source": [
    "A[\"surrogate_models\"][0][0]"
   ]
  },
  {
   "cell_type": "code",
   "execution_count": null,
   "metadata": {},
   "outputs": [],
   "source": []
  }
 ],
 "metadata": {
  "kernelspec": {
   "display_name": "testsuite",
   "language": "python",
   "name": "testsuite"
  },
  "language_info": {
   "codemirror_mode": {
    "name": "ipython",
    "version": 3
   },
   "file_extension": ".py",
   "mimetype": "text/x-python",
   "name": "python",
   "nbconvert_exporter": "python",
   "pygments_lexer": "ipython3",
   "version": "3.8.3"
  },
  "varInspector": {
   "cols": {
    "lenName": 16,
    "lenType": 16,
    "lenVar": 40
   },
   "kernels_config": {
    "python": {
     "delete_cmd_postfix": "",
     "delete_cmd_prefix": "del ",
     "library": "var_list.py",
     "varRefreshCmd": "print(var_dic_list())"
    },
    "r": {
     "delete_cmd_postfix": ") ",
     "delete_cmd_prefix": "rm(",
     "library": "var_list.r",
     "varRefreshCmd": "cat(var_dic_list()) "
    }
   },
   "types_to_exclude": [
    "module",
    "function",
    "builtin_function_or_method",
    "instance",
    "_Feature"
   ],
   "window_display": false
  }
 },
 "nbformat": 4,
 "nbformat_minor": 4
}
