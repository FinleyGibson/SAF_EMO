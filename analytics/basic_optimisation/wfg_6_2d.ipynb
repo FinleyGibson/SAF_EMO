{
 "cells": [
  {
   "cell_type": "code",
   "execution_count": 1,
   "metadata": {},
   "outputs": [],
   "source": [
    "import matplotlib.pyplot as plt\n",
    "import wfg\n",
    "import numpy as np\n",
    "import rootpath \n",
    "import sys\n",
    "import os\n",
    "sys.path.append(rootpath.detect())\n",
    "from testsuite.surrogates import GP, MultiSurrogate\n",
    "from testsuite.optimisers import *\n",
    "from testsuite.analysis import load_all"
   ]
  },
  {
   "cell_type": "code",
   "execution_count": 2,
   "metadata": {},
   "outputs": [],
   "source": [
    "## set up objective function\n",
    "kfactor = 2\n",
    "lfactor = 2\n",
    "n_objectives = 2\n",
    "n_dims = lfactor * 2 + kfactor\n",
    "\n",
    "k = kfactor * (n_objectives - 1)\n",
    "l = lfactor * 2\n",
    "wfg_n = 6\n",
    "exec(\"func = wfg.WFG{}\".format(int(wfg_n)))\n",
    "\n",
    "def wfg2(x):\n",
    "    if x.ndim == 2:\n",
    "        assert (x.shape[1] == n_dims)\n",
    "    else:\n",
    "        squeezable = np.where([a == 1 for a in x.shape])[0]\n",
    "        for i in squeezable[::-1]:\n",
    "            x = x.squeeze(i)\n",
    "\n",
    "    if x.ndim == 1:\n",
    "        assert (x.shape[0] == n_dims)\n",
    "        x = x.reshape(1, -1)\n",
    "    return np.array([func(xi, k, n_objectives) for xi in x])"
   ]
  },
  {
   "cell_type": "code",
   "execution_count": 3,
   "metadata": {},
   "outputs": [],
   "source": [
    "N = 500 \n",
    "y = np.zeros((N, n_objectives))\n",
    "for n in range(N):\n",
    "    z = wfg.random_soln(k, l, func.__name__)\n",
    "    y[n,:] = func(z, k, n_objectives)\n"
   ]
  },
  {
   "cell_type": "code",
   "execution_count": 5,
   "metadata": {},
   "outputs": [],
   "source": [
    "limits = [np.zeros((n_dims)), np.array(range(1, n_dims + 1)) * 2]\n",
    "gp_surr_multi = MultiSurrogate(GP, scaled=True)\n",
    "# opt = Saf(objective_function=wfg2, ei=False,  limits=limits, surrogate=gp_surr_multi, n_initial=10, budget=100, seed=None, log_models=True, log_interval=2)\n",
    "opt = ParEgo(objective_function=wfg2, ei=True, limits=limits, n_initial=10, budget=100, seed=None, log_interval=10)"
   ]
  },
  {
   "cell_type": "code",
   "execution_count": 23,
   "metadata": {},
   "outputs": [
    {
     "name": "stderr",
     "output_type": "stream",
     "text": [
      "reconstraining parameters GP_regression.Mat52.lengthscale\n",
      "reconstraining parameters GP_regression.Mat52.variance\n",
      "reconstraining parameters GP_regression.Gaussian_noise.variance\n"
     ]
    },
    {
     "name": "stdout",
     "output_type": "stream",
     "text": [
      "Optimization restart 1/10, f = 14.189385227237679\n",
      "Optimization restart 2/10, f = 12.43375650438562\n",
      "Optimization restart 3/10, f = 12.433756504395838\n",
      "Optimization restart 4/10, f = 12.43375650438562\n",
      "Optimization restart 5/10, f = 499452.1292560079\n",
      "Optimization restart 6/10, f = 12.433756504385642\n",
      "Optimization restart 7/10, f = 499452.1292560079\n",
      "Optimization restart 8/10, f = 14.189385332046726\n"
     ]
    },
    {
     "name": "stderr",
     "output_type": "stream",
     "text": [
      "reconstraining parameters GP_regression.Mat52.lengthscale\n",
      "reconstraining parameters GP_regression.Mat52.variance\n",
      "reconstraining parameters GP_regression.Gaussian_noise.variance\n"
     ]
    },
    {
     "name": "stdout",
     "output_type": "stream",
     "text": [
      "Optimization restart 9/10, f = 12.433756504415971\n",
      "Optimization restart 10/10, f = 14.189385332046736\n",
      "Optimization restart 1/10, f = 14.18938520929735\n",
      "Optimization restart 2/10, f = 14.189385332046953\n",
      "Optimization restart 3/10, f = 12.611611427755346\n",
      "Optimization restart 4/10, f = 12.611611427727365\n",
      "Optimization restart 5/10, f = 12.611611427732143\n",
      "Optimization restart 6/10, f = 12.611611427768008\n",
      "Optimization restart 7/10, f = 14.189385331003129\n",
      "Optimization restart 8/10, f = 12.611611427862087\n",
      "Optimization restart 9/10, f = 14.189385332053316\n",
      "Optimization restart 10/10, f = 12.611611427729466\n",
      "(4_w,9)-aCMA-ES (mu_w=2.8,w_1=49%) in dimension 6 (seed=466705, Tue Sep 29 14:59:33 2020)\n",
      "Iterat #Fevals   function value  axis ratio  sigma  min&max std  t[m:s]\n",
      "    1      9 1.378428042206716e-01 1.0e+00 2.31e-01  2e-01  2e-01 0:00.0\n",
      "    2     18 1.041627922782373e-01 1.2e+00 2.31e-01  2e-01  2e-01 0:00.1\n",
      "    3     27 8.752234628409905e-02 1.5e+00 2.46e-01  2e-01  3e-01 0:00.1\n",
      "  100    900 -7.144347202415212e-01 1.5e+02 5.22e-02  7e-03  7e-02 0:02.0\n",
      "  200   1800 -7.150114234139693e-01 6.3e+03 3.70e-03  3e-04  2e-03 0:04.1\n",
      "  300   2700 -7.150115418772525e-01 2.8e+05 1.29e-04  2e-06  2e-05 0:08.1\n"
     ]
    },
    {
     "name": "stderr",
     "output_type": "stream",
     "text": [
      " /home/finley/miniconda3/envs/testsuite/lib/python3.8/site-packages/cma/utilities/utils.py:329: UserWarning:\n",
      "        geno-pheno transformation introduced based on the\n",
      "        current covariance matrix with condition 1.0e+12 -> 1.0e+00,\n",
      "        injected solutions become \"invalid\" in this iteration (class=CMAEvolutionStrategy method=alleviate_conditioning iteration=324)\n"
     ]
    },
    {
     "name": "stdout",
     "output_type": "stream",
     "text": [
      "  336   3024 -7.150115419242637e-01 2.8e+00 2.16e-05  2e-05  2e-05 0:08.8\n"
     ]
    },
    {
     "name": "stderr",
     "output_type": "stream",
     "text": [
      "reconstraining parameters GP_regression.Mat52.lengthscale\n",
      "reconstraining parameters GP_regression.Mat52.variance\n",
      "reconstraining parameters GP_regression.Gaussian_noise.variance\n"
     ]
    },
    {
     "name": "stdout",
     "output_type": "stream",
     "text": [
      "termination on tolfun=1e-11 (Tue Sep 29 14:59:43 2020)\n",
      "final/bestever f-value = -7.150115e-01 -7.150115e-01\n",
      "incumbent solution: [1.1736508923327165, 0.5353100596180638, 0.609749677261243, 3.816535587089359e-12, 2.094248639037687, 8.896501887561499]\n",
      "std deviation: [1.5694350598675226e-05, 1.9553834850430947e-05, 2.0173131874892376e-05, 2.0487626677396163e-05, 2.0695599739245744e-05, 2.197313765078108e-05]\n",
      "Optimization restart 1/10, f = 15.530647660964991\n",
      "Optimization restart 2/10, f = 73.4294676086493\n",
      "Optimization restart 3/10, f = 15.608323865251407\n",
      "Optimization restart 4/10, f = 15.608323865253425\n",
      "Optimization restart 5/10, f = 15.530647660982059\n",
      "Optimization restart 6/10, f = 73.4294689225882\n",
      "Optimization restart 7/10, f = 15.530647660964998\n",
      "Optimization restart 8/10, f = 73.4294689225882\n",
      "Optimization restart 9/10, f = 15.530647660972857\n",
      "Optimization restart 10/10, f = 15.530647660994457\n"
     ]
    },
    {
     "name": "stderr",
     "output_type": "stream",
     "text": [
      "reconstraining parameters GP_regression.Mat52.lengthscale\n",
      "reconstraining parameters GP_regression.Mat52.variance\n",
      "reconstraining parameters GP_regression.Gaussian_noise.variance\n"
     ]
    },
    {
     "name": "stdout",
     "output_type": "stream",
     "text": [
      "Optimization restart 1/10, f = 14.020360106256291\n",
      "Optimization restart 2/10, f = 14.020360106152662\n",
      "Optimization restart 3/10, f = 14.020360106152484\n",
      "Optimization restart 4/10, f = 73.4294689225882\n",
      "Optimization restart 5/10, f = 14.020360106152506\n",
      "Optimization restart 6/10, f = 549397.3421816087\n",
      "Optimization restart 7/10, f = 32199797.387438435\n",
      "Optimization restart 8/10, f = 15.608323865251485\n",
      "Optimization restart 9/10, f = 14.020360106154003\n",
      "Optimization restart 10/10, f = 73.4294689225882\n",
      "(4_w,9)-aCMA-ES (mu_w=2.8,w_1=49%) in dimension 6 (seed=445859, Tue Sep 29 14:59:45 2020)\n",
      "Iterat #Fevals   function value  axis ratio  sigma  min&max std  t[m:s]\n",
      "    1      9 7.378753668552762e-02 1.0e+00 2.44e-01  2e-01  3e-01 0:00.0\n",
      "    2     18 8.615051691204179e-02 1.3e+00 2.56e-01  2e-01  3e-01 0:00.1\n",
      "    3     27 7.647568538457428e-02 1.5e+00 2.41e-01  2e-01  3e-01 0:00.1\n",
      "  100    900 -1.677821167312643e-01 1.9e+02 5.03e-03  6e-04  3e-03 0:01.6\n",
      "  200   1800 -1.677835337324267e-01 3.0e+04 2.93e-04  1e-05  1e-04 0:03.4\n",
      "  279   2511 -1.677835364808355e-01 1.7e+00 9.38e-06  7e-06  1e-05 0:04.8\n"
     ]
    },
    {
     "name": "stderr",
     "output_type": "stream",
     "text": [
      " /home/finley/miniconda3/envs/testsuite/lib/python3.8/site-packages/cma/utilities/utils.py:329: UserWarning:\n",
      "        geno-pheno transformation introduced based on the\n",
      "        current covariance matrix with condition 1.0e+12 -> 1.0e+00,\n",
      "        injected solutions become \"invalid\" in this iteration (class=CMAEvolutionStrategy method=alleviate_conditioning iteration=272)\n",
      "reconstraining parameters GP_regression.Mat52.lengthscale\n",
      "reconstraining parameters GP_regression.Mat52.variance\n",
      "reconstraining parameters GP_regression.Gaussian_noise.variance\n"
     ]
    },
    {
     "name": "stdout",
     "output_type": "stream",
     "text": [
      "termination on tolfun=1e-11 (Tue Sep 29 14:59:50 2020)\n",
      "final/bestever f-value = -1.677835e-01 -1.677835e-01\n",
      "incumbent solution: [1.0331845723217157, 0.9344974469213412, 3.488098165636984, 6.194615559357771, 1.7965635186073996, 9.535019912739518]\n",
      "std deviation: [9.154032344727619e-06, 7.655366585052387e-06, 8.29463016595584e-06, 7.4325000135462926e-06, 1.0154487036146535e-05, 8.545455114714572e-06]\n",
      "Optimization restart 1/10, f = 15.455122251147595\n",
      "Optimization restart 2/10, f = 15.455122251191202\n",
      "Optimization restart 3/10, f = 144018448.3207996\n",
      "Optimization restart 4/10, f = 15.455122251147486\n",
      "Optimization restart 5/10, f = 15.455122251147824\n",
      "Optimization restart 6/10, f = 15.455122251364777\n",
      "Optimization restart 7/10, f = 80.10487518827804"
     ]
    },
    {
     "name": "stderr",
     "output_type": "stream",
     "text": [
      "reconstraining parameters GP_regression.Mat52.lengthscale\n",
      "reconstraining parameters GP_regression.Mat52.variance\n",
      "reconstraining parameters GP_regression.Gaussian_noise.variance\n"
     ]
    },
    {
     "name": "stdout",
     "output_type": "stream",
     "text": [
      "\n",
      "Optimization restart 8/10, f = 80.10487518827804\n",
      "Optimization restart 9/10, f = 15.455122251147486\n",
      "Optimization restart 10/10, f = 15.455122251147486\n",
      "Optimization restart 1/10, f = 13.499042689421403\n",
      "Optimization restart 2/10, f = 17.027262398456074\n",
      "Optimization restart 3/10, f = 13.499042689403383\n",
      "Optimization restart 4/10, f = 17.027262398456074\n",
      "Optimization restart 5/10, f = 13.49904268939224\n",
      "Optimization restart 6/10, f = 13.499042689391601\n",
      "Optimization restart 7/10, f = 13.499042689391612\n",
      "Optimization restart 8/10, f = 13.49904268939149\n",
      "Optimization restart 9/10, f = 17.027262398456074\n",
      "Optimization restart 10/10, f = 17.027262398459627\n",
      "(4_w,9)-aCMA-ES (mu_w=2.8,w_1=49%) in dimension 6 (seed=423045, Tue Sep 29 14:59:53 2020)\n",
      "Iterat #Fevals   function value  axis ratio  sigma  min&max std  t[m:s]\n",
      "    1      9 9.344081116697112e-02 1.0e+00 2.27e-01  2e-01  2e-01 0:00.0\n",
      "    2     18 -4.958507446404070e-02 1.2e+00 2.76e-01  2e-01  3e-01 0:00.1\n",
      "    3     27 -8.873815021614906e-02 1.5e+00 3.25e-01  3e-01  4e-01 0:00.1\n",
      "  100    900 -3.833806078155915e-01 2.8e+01 4.42e-01  5e-02  4e-01 0:01.4\n",
      "  200   1800 -3.923672257257371e-01 7.4e+02 9.07e-03  4e-04  2e-03 0:03.0\n",
      "  300   2700 -3.923679935171749e-01 2.5e+05 1.00e-04  2e-06  1e-05 0:04.8\n",
      "  336   3024 -3.923679935233284e-01 1.7e+00 3.55e-05  3e-05  4e-05 0:05.3\n"
     ]
    },
    {
     "name": "stderr",
     "output_type": "stream",
     "text": [
      " /home/finley/miniconda3/envs/testsuite/lib/python3.8/site-packages/cma/utilities/utils.py:329: UserWarning:\n",
      "        geno-pheno transformation introduced based on the\n",
      "        current covariance matrix with condition 1.1e+12 -> 1.0e+00,\n",
      "        injected solutions become \"invalid\" in this iteration (class=CMAEvolutionStrategy method=alleviate_conditioning iteration=329)\n",
      "reconstraining parameters GP_regression.Mat52.lengthscale\n",
      "reconstraining parameters GP_regression.Mat52.variance\n",
      "reconstraining parameters GP_regression.Gaussian_noise.variance\n"
     ]
    },
    {
     "name": "stdout",
     "output_type": "stream",
     "text": [
      "termination on tolfun=1e-11 (Tue Sep 29 14:59:58 2020)\n",
      "final/bestever f-value = -3.923680e-01 -3.923680e-01\n",
      "incumbent solution: [1.6260357282371842, 2.4757628101842784, 1.9334565530898544, 2.0810964998672716, 4.934283860500727, 3.2417223730844853]\n",
      "std deviation: [4.003538356583344e-05, 3.198445347286742e-05, 3.4723936014339556e-05, 3.04423243044487e-05, 3.242526183888323e-05, 3.797020772823982e-05]\n",
      "Optimization restart 1/10, f = 16.448143985539105\n",
      "Optimization restart 2/10, f = 16.448143985178238\n",
      "Optimization restart 3/10, f = 86.78028145396787\n",
      "Optimization restart 4/10, f = 16.448143985178376\n",
      "Optimization restart 5/10, f = 18.446200931660744\n",
      "Optimization restart 6/10, f = 16.44814398525512\n",
      "Optimization restart 7/10, f = 18.446200931661323\n",
      "Optimization restart 8/10, f = 34.870981427017504\n",
      "Optimization restart 9/10, f = 86.78028145396787\n"
     ]
    },
    {
     "name": "stderr",
     "output_type": "stream",
     "text": [
      "reconstraining parameters GP_regression.Mat52.lengthscale\n",
      "reconstraining parameters GP_regression.Mat52.variance\n",
      "reconstraining parameters GP_regression.Gaussian_noise.variance\n"
     ]
    },
    {
     "name": "stdout",
     "output_type": "stream",
     "text": [
      "Optimization restart 10/10, f = 16.44814398518149\n",
      "Optimization restart 1/10, f = 14.433916927338876\n",
      "Optimization restart 2/10, f = 14.433916927331822\n",
      "Optimization restart 3/10, f = 18.446200931660744\n",
      "Optimization restart 4/10, f = 86.78028145396787\n",
      "Optimization restart 5/10, f = 14.433916927334797\n",
      "Optimization restart 6/10, f = 86.78027811259943\n",
      "Optimization restart 7/10, f = 18.44620093166086\n",
      "Optimization restart 8/10, f = 14.433916927332021\n",
      "Optimization restart 9/10, f = 18.446200931665096\n",
      "Optimization restart 10/10, f = 14.433916927338295\n",
      "(4_w,9)-aCMA-ES (mu_w=2.8,w_1=49%) in dimension 6 (seed=490816, Tue Sep 29 15:00:00 2020)\n",
      "Iterat #Fevals   function value  axis ratio  sigma  min&max std  t[m:s]\n",
      "    1      9 7.686034654559637e-02 1.0e+00 2.93e-01  3e-01  3e-01 0:00.0\n",
      "    2     18 5.626272894771089e-02 1.3e+00 3.69e-01  3e-01  4e-01 0:00.0\n",
      "    3     27 7.287388655015770e-03 1.4e+00 4.53e-01  4e-01  5e-01 0:00.1\n",
      "  100    900 -4.062863665492920e-01 1.4e+02 3.07e-02  3e-03  3e-02 0:01.7\n",
      "  200   1800 -4.063710581716160e-01 7.0e+03 2.65e-03  1e-04  9e-04 0:03.4\n",
      "  300   2700 -4.063711608763747e-01 8.3e+04 4.22e-04  6e-06  5e-05 0:05.3\n"
     ]
    },
    {
     "name": "stderr",
     "output_type": "stream",
     "text": [
      " /home/finley/miniconda3/envs/testsuite/lib/python3.8/site-packages/cma/utilities/utils.py:329: UserWarning:\n",
      "        geno-pheno transformation introduced based on the\n",
      "        current covariance matrix with condition 1.1e+12 -> 1.0e+00,\n",
      "        injected solutions become \"invalid\" in this iteration (class=CMAEvolutionStrategy method=alleviate_conditioning iteration=353)\n"
     ]
    },
    {
     "name": "stdout",
     "output_type": "stream",
     "text": [
      "  382   3438 -4.063711609893046e-01 7.3e+00 1.12e-04  7e-05  1e-04 0:06.6\n"
     ]
    },
    {
     "name": "stderr",
     "output_type": "stream",
     "text": [
      "reconstraining parameters GP_regression.Mat52.lengthscale\n",
      "reconstraining parameters GP_regression.Mat52.variance\n",
      "reconstraining parameters GP_regression.Gaussian_noise.variance\n"
     ]
    },
    {
     "name": "stdout",
     "output_type": "stream",
     "text": [
      "termination on tolfun=1e-11 (Tue Sep 29 15:00:08 2020)\n",
      "final/bestever f-value = -4.063712e-01 -4.063712e-01\n",
      "incumbent solution: [0.3760216482090982, 1.6913095537834714e-10, 4.483588526952644, 4.153019956695061, 5.103695019279257, 10.50837500252237]\n",
      "std deviation: [0.0001226227774419573, 6.947609404459242e-05, 0.00011776563644435159, 7.39953481078117e-05, 9.987947713480177e-05, 6.967807969504462e-05]\n",
      "Optimization restart 1/10, f = 16.68563842543594\n",
      "Optimization restart 2/10, f = 16.685638425401688\n",
      "Optimization restart 3/10, f = 16.685638425410872\n",
      "Optimization restart 4/10, f = 19.865139464865415\n",
      "Optimization restart 5/10, f = 16.685638425404512\n",
      "Optimization restart 6/10, f = 16.68563842540374\n",
      "Optimization restart 7/10, f = 16.685638425411376\n",
      "Optimization restart 8/10, f = 93.4556877196577\n"
     ]
    },
    {
     "name": "stderr",
     "output_type": "stream",
     "text": [
      "reconstraining parameters GP_regression.Mat52.lengthscale\n",
      "reconstraining parameters GP_regression.Mat52.variance\n",
      "reconstraining parameters GP_regression.Gaussian_noise.variance\n"
     ]
    },
    {
     "name": "stdout",
     "output_type": "stream",
     "text": [
      "Optimization restart 9/10, f = 93.4556877196577\n",
      "Optimization restart 10/10, f = 16.685638425401578\n",
      "Optimization restart 1/10, f = 14.357842267580342\n",
      "Optimization restart 2/10, f = 35.93774194175733\n",
      "Optimization restart 3/10, f = 14.357842267544019\n",
      "Optimization restart 4/10, f = 35.93765778642587\n",
      "Optimization restart 5/10, f = 19.86513946486994\n",
      "Optimization restart 6/10, f = 14.357842267543969\n",
      "Optimization restart 7/10, f = 14.357842267544186\n",
      "Optimization restart 8/10, f = 19.865139464866562\n",
      "Optimization restart 9/10, f = 35.93787059808825\n",
      "Optimization restart 10/10, f = 93.4556877196577\n",
      "(4_w,9)-aCMA-ES (mu_w=2.8,w_1=49%) in dimension 6 (seed=514761, Tue Sep 29 15:00:09 2020)\n",
      "Iterat #Fevals   function value  axis ratio  sigma  min&max std  t[m:s]\n",
      "    1      9 -1.486573126492801e-01 1.0e+00 2.48e-01  2e-01  3e-01 0:00.0\n",
      "    2     18 -2.108461848629235e-01 1.2e+00 2.88e-01  3e-01  4e-01 0:00.0\n",
      "    3     27 -2.165079804923735e-01 1.7e+00 3.52e-01  3e-01  4e-01 0:00.1\n",
      "  100    900 -3.154794899695827e-01 3.5e+02 7.82e-02  6e-03  1e-01 0:01.4\n",
      "  200   1800 -3.410306830949283e-01 8.0e+01 8.33e-01  2e-02  2e-01 0:03.1\n",
      "  300   2700 -3.465413720040458e-01 8.2e+02 1.23e-01  1e-03  1e-02 0:04.7\n",
      "  400   3600 -3.465591451272008e-01 3.8e+03 1.11e-01  3e-04  2e-03 0:06.2\n",
      "  500   4500 -3.465600364678056e-01 1.7e+04 6.23e-02  4e-05  4e-04 0:07.6\n",
      "  600   5400 -3.465600636416706e-01 6.6e+04 5.21e-02  1e-05  8e-05 0:09.3\n",
      "  700   6300 -3.465600657450494e-01 3.2e+05 4.54e-02  3e-06  2e-05 0:11.8\n"
     ]
    },
    {
     "name": "stderr",
     "output_type": "stream",
     "text": [
      " /home/finley/miniconda3/envs/testsuite/lib/python3.8/site-packages/cma/utilities/utils.py:329: UserWarning:\n",
      "        geno-pheno transformation introduced based on the\n",
      "        current covariance matrix with condition 1.0e+12 -> 1.0e+00,\n",
      "        injected solutions become \"invalid\" in this iteration (class=CMAEvolutionStrategy method=alleviate_conditioning iteration=761)\n"
     ]
    },
    {
     "name": "stdout",
     "output_type": "stream",
     "text": [
      "  784   7056 -3.465600658353201e-01 3.2e+00 1.97e-02  1e-02  2e-02 0:13.1\n"
     ]
    },
    {
     "name": "stderr",
     "output_type": "stream",
     "text": [
      "reconstraining parameters GP_regression.Mat52.lengthscale\n",
      "reconstraining parameters GP_regression.Mat52.variance\n",
      "reconstraining parameters GP_regression.Gaussian_noise.variance\n"
     ]
    },
    {
     "name": "stdout",
     "output_type": "stream",
     "text": [
      "termination on tolfun=1e-11 (Tue Sep 29 15:00:24 2020)\n",
      "final/bestever f-value = -3.465601e-01 -3.465601e-01\n",
      "incumbent solution: [0.46566315599047803, 4.874188531786347e-10, 5.0799554555555915, 5.245034641422535, 2.4352032911556307, 10.314846961535295]\n",
      "std deviation: [0.012721306963950912, 0.015332745855286206, 0.013169289851454605, 0.014882529763862524, 0.018274722152971823, 0.016835971937526232]\n",
      "Optimization restart 1/10, f = 16.59294178554037\n",
      "Optimization restart 2/10, f = 16.59294178553693\n",
      "Optimization restart 3/10, f = 21.28407799807009\n",
      "Optimization restart 4/10, f = 173635899.00087258\n",
      "Optimization restart 5/10, f = 16.59294178553708\n",
      "Optimization restart 6/10, f = 16.592941785537043\n",
      "Optimization restart 7/10, f = 100.13109398534753\n",
      "Optimization restart 8/10, f = 16.59294178553686\n",
      "Optimization restart 9/10, f = 16.592941785538414\n"
     ]
    },
    {
     "name": "stderr",
     "output_type": "stream",
     "text": [
      "reconstraining parameters GP_regression.Mat52.lengthscale\n",
      "reconstraining parameters GP_regression.Mat52.variance\n",
      "reconstraining parameters GP_regression.Gaussian_noise.variance\n"
     ]
    },
    {
     "name": "stdout",
     "output_type": "stream",
     "text": [
      "Optimization restart 10/10, f = 21.284077998070092\n",
      "Optimization restart 1/10, f = 14.138700793875294\n",
      "Optimization restart 2/10, f = 21.284077998070387\n",
      "Optimization restart 3/10, f = 14.138700793560217\n",
      "Optimization restart 4/10, f = 100.13108136800119\n",
      "Optimization restart 5/10, f = 100.13109398534753\n",
      "Optimization restart 6/10, f = 100.13109398534753\n",
      "Optimization restart 7/10, f = 42883707.74272841\n",
      "Optimization restart 8/10, f = 21.28407799807053\n",
      "Optimization restart 9/10, f = 42857081.13923935\n",
      "Optimization restart 10/10, f = 21.28407799807009\n",
      "(4_w,9)-aCMA-ES (mu_w=2.8,w_1=49%) in dimension 6 (seed=415549, Tue Sep 29 15:00:26 2020)\n",
      "Iterat #Fevals   function value  axis ratio  sigma  min&max std  t[m:s]\n",
      "    1      9 9.746515766235042e-02 1.0e+00 2.44e-01  2e-01  3e-01 0:00.0\n",
      "    2     18 -7.646106572729083e-02 1.2e+00 2.69e-01  3e-01  3e-01 0:00.0\n",
      "    3     27 -1.045999727600337e-01 1.6e+00 3.01e-01  3e-01  3e-01 0:00.1\n",
      "  100    900 -3.771180603561473e-01 8.7e+01 1.67e-01  3e-02  2e-01 0:01.8\n",
      "  200   1800 -3.779725356946007e-01 1.5e+03 1.22e-02  9e-04  5e-03 0:03.5\n",
      "  300   2700 -3.779739283807426e-01 2.0e+04 2.02e-03  4e-05  3e-04 0:05.8\n",
      "  400   3600 -3.779741033939958e-01 3.2e+04 7.73e-03  4e-05  3e-04 0:07.8\n",
      "  500   4500 -3.779742267792565e-01 3.0e+04 6.45e-02  8e-05  5e-04 0:10.3\n",
      "  600   5400 -3.779743510377258e-01 5.2e+04 1.64e-01  5e-05  4e-04 0:12.1\n",
      "  700   6300 -3.779744476665772e-01 7.9e+04 3.41e-01  2e-05  3e-04 0:13.7\n",
      "  800   7200 -3.779745139113384e-01 5.1e+04 1.43e+00  3e-05  2e-04 0:15.8\n",
      "  900   8100 -3.779745551643983e-01 8.6e+04 7.11e+00  3e-05  3e-04 0:17.5\n",
      " 1000   9000 -3.779745961090162e-01 6.1e+04 3.49e+01  4e-05  3e-04 0:19.3\n",
      "Iterat #Fevals   function value  axis ratio  sigma  min&max std  t[m:s]\n",
      " 1100   9900 -3.779746307337457e-01 6.1e+04 7.29e+01  2e-05  2e-04 0:21.1\n",
      " 1200  10800 -3.779746595830566e-01 5.1e+04 4.52e+02  4e-05  3e-04 0:22.6\n",
      " 1300  11700 -3.779746858460671e-01 8.4e+04 7.62e+02  1e-05  1e-04 0:23.9\n",
      " 1400  12600 -3.779747100056285e-01 6.3e+04 9.99e+03  6e-05  4e-04 0:25.7\n",
      " 1500  13500 -3.779747194162051e-01 1.6e+05 1.10e+04  1e-05  1e-04 0:27.1\n",
      " 1600  14400 -3.779747276937615e-01 1.6e+05 5.56e+04  2e-05  1e-04 0:28.5\n",
      " 1700  15300 -3.779747342718189e-01 1.1e+05 1.72e+05  1e-05  8e-05 0:29.9\n",
      " 1800  16200 -3.779747420861830e-01 9.0e+04 1.21e+06  2e-05  1e-04 0:31.5\n",
      " 1900  17100 -3.779747473297308e-01 1.7e+05 3.45e+06  1e-05  1e-04 0:33.1\n",
      " 2000  18000 -3.779747514693328e-01 2.4e+05 1.24e+07  1e-05  9e-05 0:34.5\n",
      "Iterat #Fevals   function value  axis ratio  sigma  min&max std  t[m:s]\n",
      " 2079  18711 -3.779747555024779e-01 1.3e+05 5.77e+07  2e-05  1e-04 0:36.0\n"
     ]
    },
    {
     "name": "stderr",
     "output_type": "stream",
     "text": [
      "reconstraining parameters GP_regression.Mat52.lengthscale\n",
      "reconstraining parameters GP_regression.Mat52.variance\n",
      "reconstraining parameters GP_regression.Gaussian_noise.variance\n"
     ]
    },
    {
     "name": "stdout",
     "output_type": "stream",
     "text": [
      "termination on tolupsigma=1e+20 (Tue Sep 29 15:01:07 2020)\n",
      "final/bestever f-value = -3.779748e-01 -3.779748e-01\n",
      "incumbent solution: [0.34328124291740747, 2.2777765615209917, 0.6847202521671026, 1.868571402232702e-05, 0.2996834943291314, 1.08561726912578]\n",
      "std deviation: [1.6922992462717608e-05, 2.1395121210591817e-05, 5.5928600791293224e-05, 2.1668644055240417e-05, 7.228414749599028e-05, 0.00011065293908350773]\n",
      "Optimization restart 1/10, f = 19.518678757001922\n",
      "Optimization restart 2/10, f = 19.518678756994795\n",
      "Optimization restart 3/10, f = 40.930934685538894\n",
      "Optimization restart 4/10, f = 19.518678756995392\n",
      "Optimization restart 5/10, f = 198894176.00169358\n",
      "Optimization restart 6/10, f = 22.703016531274766\n",
      "Optimization restart 7/10, f = 19.518678756995776\n",
      "Optimization restart 8/10, f = 22.70301653127586\n",
      "Optimization restart 9/10, f = 40.93093545490394\n"
     ]
    },
    {
     "name": "stderr",
     "output_type": "stream",
     "text": [
      "reconstraining parameters GP_regression.Mat52.lengthscale\n",
      "reconstraining parameters GP_regression.Mat52.variance\n",
      "reconstraining parameters GP_regression.Gaussian_noise.variance\n"
     ]
    },
    {
     "name": "stdout",
     "output_type": "stream",
     "text": [
      "Optimization restart 10/10, f = 22.703016531275274\n",
      "Optimization restart 1/10, f = 15.497325549026964\n",
      "Optimization restart 2/10, f = 22.7030165312748\n",
      "Optimization restart 3/10, f = 15.497325549023138\n",
      "Optimization restart 4/10, f = 106.80650025103739\n",
      "Optimization restart 5/10, f = 15.497325549022738\n",
      "Optimization restart 6/10, f = 22.7030165312797\n",
      "Optimization restart 7/10, f = 106.80650025103739\n",
      "Optimization restart 8/10, f = 106.80650025103739\n",
      "Optimization restart 9/10, f = 15.497325549022705\n",
      "Optimization restart 10/10, f = 15.497325549023031\n",
      "(4_w,9)-aCMA-ES (mu_w=2.8,w_1=49%) in dimension 6 (seed=539327, Tue Sep 29 15:01:08 2020)\n",
      "Iterat #Fevals   function value  axis ratio  sigma  min&max std  t[m:s]\n",
      "    1      9 -2.155696535369929e-01 1.0e+00 2.38e-01  2e-01  2e-01 0:00.0\n",
      "    2     18 -2.289086591587557e-01 1.3e+00 2.20e-01  2e-01  2e-01 0:00.0\n",
      "    3     27 -2.521640105962950e-01 1.3e+00 2.23e-01  2e-01  2e-01 0:00.1\n",
      "  100    900 -3.412418796266741e-01 1.3e+02 1.61e-02  3e-03  1e-02 0:01.9\n",
      "  200   1800 -3.412573673979318e-01 1.8e+04 1.77e-04  8e-06  5e-05 0:03.5\n",
      "  275   2475 -3.412573681383897e-01 6.2e+05 1.02e-05  4e-07  2e-06 0:04.8\n"
     ]
    },
    {
     "name": "stderr",
     "output_type": "stream",
     "text": [
      "reconstraining parameters GP_regression.Mat52.lengthscale\n",
      "reconstraining parameters GP_regression.Mat52.variance\n",
      "reconstraining parameters GP_regression.Gaussian_noise.variance\n"
     ]
    },
    {
     "name": "stdout",
     "output_type": "stream",
     "text": [
      "termination on tolfun=1e-11 (Tue Sep 29 15:01:14 2020)\n",
      "final/bestever f-value = -3.412574e-01 -3.412574e-01\n",
      "incumbent solution: [1.6491759808775615, 2.9449396429116868, 1.8543854201612926, 2.978824691810086, 5.43127080628461, 4.4052954736131715]\n",
      "std deviation: [4.20517263300133e-07, 6.10545818863805e-07, 1.2763839377004705e-06, 9.83125896023692e-07, 1.0751730786497216e-06, 1.997301703805002e-06]\n",
      "Optimization restart 1/10, f = 20.120201419682004\n",
      "Optimization restart 2/10, f = 20.120201419681933\n",
      "Optimization restart 3/10, f = 20.120201419682076\n",
      "Optimization restart 4/10, f = 113.48190645800024\n",
      "Optimization restart 5/10, f = 113.48190651672722\n",
      "Optimization restart 6/10, f = 20.12020141968189\n",
      "Optimization restart 7/10, f = 20.120201419681862\n",
      "Optimization restart 8/10, f = 20.120201419681855\n",
      "Optimization restart 9/10, f = 20.12020141968214\n"
     ]
    },
    {
     "name": "stderr",
     "output_type": "stream",
     "text": [
      "reconstraining parameters GP_regression.Mat52.lengthscale\n",
      "reconstraining parameters GP_regression.Mat52.variance\n",
      "reconstraining parameters GP_regression.Gaussian_noise.variance\n"
     ]
    },
    {
     "name": "stdout",
     "output_type": "stream",
     "text": [
      "Optimization restart 10/10, f = 20.120201419687294\n",
      "Optimization restart 1/10, f = 18.177750809057656\n",
      "Optimization restart 2/10, f = 65372148.264758036\n",
      "Optimization restart 3/10, f = 113.48190651672722\n",
      "Optimization restart 4/10, f = 18.17775080879482\n",
      "Optimization restart 5/10, f = 113.48190651672722\n",
      "Optimization restart 6/10, f = 24.121955064479508\n",
      "Optimization restart 7/10, f = 18.177750808763292\n",
      "Optimization restart 8/10, f = 18.177750808763232\n",
      "Optimization restart 9/10, f = 113.48190651672721\n",
      "Optimization restart 10/10, f = 113.48190651672722\n",
      "(4_w,9)-aCMA-ES (mu_w=2.8,w_1=49%) in dimension 6 (seed=469266, Tue Sep 29 15:01:16 2020)\n",
      "Iterat #Fevals   function value  axis ratio  sigma  min&max std  t[m:s]\n",
      "    1      9 1.450989598235743e-01 1.0e+00 2.44e-01  2e-01  3e-01 0:00.0\n",
      "    2     18 1.598413650544024e-01 1.3e+00 2.12e-01  2e-01  2e-01 0:00.0\n",
      "    3     27 1.097079006253123e-01 1.5e+00 2.32e-01  2e-01  3e-01 0:00.1\n",
      "  100    900 -2.994701272496867e-01 5.0e+01 1.67e-01  2e-02  1e-01 0:02.1\n",
      "  200   1800 -3.005272004193240e-01 5.5e+03 1.36e-03  8e-05  7e-04 0:04.5\n",
      "  300   2700 -3.005272630681552e-01 1.7e+05 7.66e-05  1e-06  9e-06 0:06.7\n",
      "  328   2952 -3.005272630728624e-01 1.0e+06 1.76e-05  2e-07  2e-06 0:07.1\n"
     ]
    },
    {
     "name": "stderr",
     "output_type": "stream",
     "text": [
      "reconstraining parameters GP_regression.Mat52.lengthscale\n",
      "reconstraining parameters GP_regression.Mat52.variance\n",
      "reconstraining parameters GP_regression.Gaussian_noise.variance\n"
     ]
    },
    {
     "name": "stdout",
     "output_type": "stream",
     "text": [
      "termination on tolfun=1e-11 (Tue Sep 29 15:01:24 2020)\n",
      "final/bestever f-value = -3.005273e-01 -3.005273e-01\n",
      "incumbent solution: [1.3991068737908197, 2.632219214981852, 2.1073945905344886, 3.224718206427324, 3.7658727754614327, 3.4040163003672865]\n",
      "std deviation: [2.3850795617058066e-07, 4.744134771781027e-07, 8.918156010547968e-07, 1.2095028611831297e-06, 1.0418999154161324e-06, 1.599265727538087e-06]\n",
      "Optimization restart 1/10, f = 22.715264947950253\n",
      "Optimization restart 2/10, f = 46.54827609710942\n",
      "Optimization restart 3/10, f = 22.715264947950413\n",
      "Optimization restart 4/10, f = 22.715264947950217\n",
      "Optimization restart 5/10, f = 335011244.40371144\n",
      "Optimization restart 6/10, f = 22.715264947950203\n"
     ]
    },
    {
     "name": "stderr",
     "output_type": "stream",
     "text": [
      "reconstraining parameters GP_regression.Mat52.lengthscale\n",
      "reconstraining parameters GP_regression.Mat52.variance\n",
      "reconstraining parameters GP_regression.Gaussian_noise.variance\n"
     ]
    },
    {
     "name": "stdout",
     "output_type": "stream",
     "text": [
      "Optimization restart 7/10, f = 120.15731278241705\n",
      "Optimization restart 8/10, f = 120.15731278241705\n",
      "Optimization restart 9/10, f = 120.1573072222171\n",
      "Optimization restart 10/10, f = 335480745.3175807\n",
      "Optimization restart 1/10, f = 21.690072584616008\n",
      "Optimization restart 2/10, f = 25.540893597684104\n",
      "Optimization restart 3/10, f = 84946367.29346235\n",
      "Optimization restart 4/10, f = 25.540893597684125\n",
      "Optimization restart 5/10, f = 21.69007258462095\n",
      "Optimization restart 6/10, f = 21.690072584615802\n",
      "Optimization restart 7/10, f = 25.540893597684118\n",
      "Optimization restart 8/10, f = 21.690072584615812\n",
      "Optimization restart 9/10, f = 120.15731278241705\n",
      "Optimization restart 10/10, f = 84867780.9772283\n",
      "(4_w,9)-aCMA-ES (mu_w=2.8,w_1=49%) in dimension 6 (seed=456714, Tue Sep 29 15:01:25 2020)\n",
      "Iterat #Fevals   function value  axis ratio  sigma  min&max std  t[m:s]\n",
      "    1      9 5.884836229607049e-02 1.0e+00 2.28e-01  2e-01  2e-01 0:00.0\n",
      "    2     18 6.415796564349008e-02 1.2e+00 2.08e-01  2e-01  2e-01 0:00.0\n",
      "    3     27 5.554507634168182e-02 1.4e+00 2.15e-01  2e-01  2e-01 0:00.1\n",
      "  100    900 -2.051200229198902e-01 3.4e+01 3.84e-01  4e-02  3e-01 0:01.7\n",
      "  200   1800 -2.096760489314411e-01 2.2e+03 6.60e-03  3e-04  2e-03 0:03.6\n",
      "  300   2700 -2.096764149428512e-01 2.2e+05 1.28e-04  3e-06  2e-05 0:05.7\n",
      "  337   3033 -2.096764149527890e-01 1.6e+00 1.41e-05  1e-05  1e-05 0:06.3\n"
     ]
    },
    {
     "name": "stderr",
     "output_type": "stream",
     "text": [
      " /home/finley/miniconda3/envs/testsuite/lib/python3.8/site-packages/cma/utilities/utils.py:329: UserWarning:\n",
      "        geno-pheno transformation introduced based on the\n",
      "        current covariance matrix with condition 1.1e+12 -> 1.0e+00,\n",
      "        injected solutions become \"invalid\" in this iteration (class=CMAEvolutionStrategy method=alleviate_conditioning iteration=330)\n",
      "reconstraining parameters GP_regression.Mat52.lengthscale\n"
     ]
    },
    {
     "name": "stdout",
     "output_type": "stream",
     "text": [
      "termination on tolfun=1e-11 (Tue Sep 29 15:01:32 2020)\n",
      "final/bestever f-value = -2.096764e-01 -2.096764e-01\n",
      "incumbent solution: [1.478089736410766, 2.0903316754993284, 2.492005244781467, 3.1783444557804614, 4.31875546608353, 3.6888703224394703]\n",
      "std deviation: [1.2613883743831883e-05, 1.4610335369585215e-05, 1.358777860582566e-05, 1.2198686671320535e-05, 1.3645490062108468e-05, 1.4666970394415159e-05]\n"
     ]
    },
    {
     "name": "stderr",
     "output_type": "stream",
     "text": [
      "reconstraining parameters GP_regression.Mat52.variance\n",
      "reconstraining parameters GP_regression.Gaussian_noise.variance\n"
     ]
    },
    {
     "name": "stdout",
     "output_type": "stream",
     "text": [
      "Optimization restart 1/10, f = 22.702891468082818\n",
      "Optimization restart 2/10, f = 46.17260435251931\n",
      "Optimization restart 3/10, f = 22.7028914681066\n",
      "Optimization restart 4/10, f = 22.702891468072664\n",
      "Optimization restart 5/10, f = 26.959832130888785\n",
      "Optimization restart 6/10, f = 22.702891468072387\n",
      "Optimization restart 7/10, f = 22.70289146807233\n",
      "Optimization restart 8/10, f = 22.70289146807244\n",
      "Optimization restart 9/10, f = 363393667.1442048\n"
     ]
    },
    {
     "name": "stderr",
     "output_type": "stream",
     "text": [
      "reconstraining parameters GP_regression.Mat52.lengthscale\n",
      "reconstraining parameters GP_regression.Mat52.variance\n",
      "reconstraining parameters GP_regression.Gaussian_noise.variance\n"
     ]
    },
    {
     "name": "stdout",
     "output_type": "stream",
     "text": [
      "Optimization restart 10/10, f = 22.702891468072366\n",
      "Optimization restart 1/10, f = 22.144153588505226\n",
      "Optimization restart 2/10, f = 91470668.49017063\n",
      "Optimization restart 3/10, f = 126.83266897658281\n",
      "Optimization restart 4/10, f = 22.14415358851175\n",
      "Optimization restart 5/10, f = 126.8327190481069\n",
      "Optimization restart 6/10, f = 22.14415358850359\n",
      "Optimization restart 7/10, f = 51.545790855564746\n",
      "Optimization restart 8/10, f = 126.8327190481069\n",
      "Optimization restart 9/10, f = 91474067.29319404\n",
      "Optimization restart 10/10, f = 51.54666512083405\n",
      "(4_w,9)-aCMA-ES (mu_w=2.8,w_1=49%) in dimension 6 (seed=461653, Tue Sep 29 15:01:35 2020)\n",
      "Iterat #Fevals   function value  axis ratio  sigma  min&max std  t[m:s]\n",
      "    1      9 4.715414950829180e-01 1.0e+00 2.40e-01  2e-01  3e-01 0:00.0\n",
      "    2     18 3.905605347621228e-01 1.3e+00 2.46e-01  2e-01  3e-01 0:00.0\n",
      "    3     27 3.539949663176190e-01 1.4e+00 2.85e-01  2e-01  3e-01 0:00.1\n",
      "  100    900 -3.229621845402384e-01 2.6e+01 2.17e-01  3e-02  2e-01 0:02.3\n",
      "  200   1800 -3.267611496896023e-01 4.2e+03 3.44e-03  2e-04  1e-03 0:03.7\n",
      "  300   2700 -3.267613751648850e-01 9.0e+05 2.34e-05  4e-07  4e-06 0:05.0\n"
     ]
    },
    {
     "name": "stderr",
     "output_type": "stream",
     "text": [
      " /home/finley/miniconda3/envs/testsuite/lib/python3.8/site-packages/cma/utilities/utils.py:329: UserWarning:\n",
      "        geno-pheno transformation introduced based on the\n",
      "        current covariance matrix with condition 1.1e+12 -> 1.0e+00,\n",
      "        injected solutions become \"invalid\" in this iteration (class=CMAEvolutionStrategy method=alleviate_conditioning iteration=302)\n"
     ]
    },
    {
     "name": "stdout",
     "output_type": "stream",
     "text": [
      "  400   3600 -3.267613751515326e-01 9.2e+00 1.09e-05  5e-06  1e-05 0:06.4\n",
      "  500   4500 -3.267613751686351e-01 1.4e+01 4.10e-05  1e-05  2e-05 0:08.2\n",
      "  600   5400 -3.267613751690090e-01 3.9e+01 1.73e-05  2e-06  7e-06 0:09.5\n",
      "  700   6300 -3.267613751607783e-01 4.8e+01 6.88e-06  2e-07  1e-06 0:11.0\n",
      "  780   7020 -3.267613751641409e-01 6.6e+01 2.09e-06  7e-08  3e-07 0:12.2\n"
     ]
    },
    {
     "name": "stderr",
     "output_type": "stream",
     "text": [
      "reconstraining parameters GP_regression.Mat52.lengthscale\n",
      "reconstraining parameters GP_regression.Mat52.variance\n",
      "reconstraining parameters GP_regression.Gaussian_noise.variance\n"
     ]
    },
    {
     "name": "stdout",
     "output_type": "stream",
     "text": [
      "termination on tolstagnation=263 (Tue Sep 29 15:01:48 2020)\n",
      "final/bestever f-value = -3.267614e-01 -3.267614e-01\n",
      "incumbent solution: [1.2427134307106826, 3.6276238892060064, 1.672719782211061, 3.9178145906262216, 3.461943140020594, 4.401702732197009]\n",
      "std deviation: [2.578439312839597e-07, 1.5915348708137667e-07, 1.1474255513487301e-07, 9.781163759760356e-08, 7.012062331799927e-08, 7.592361796203413e-08]\n",
      "Optimization restart 1/10, f = 22.890714230904823\n",
      "Optimization restart 2/10, f = 28.378770662966513\n",
      "Optimization restart 3/10, f = 22.890714230887014\n",
      "Optimization restart 4/10, f = 47.55701190600096\n",
      "Optimization restart 5/10, f = 133.50812531379674\n"
     ]
    },
    {
     "name": "stderr",
     "output_type": "stream",
     "text": [
      "reconstraining parameters GP_regression.Mat52.lengthscale\n"
     ]
    },
    {
     "name": "stdout",
     "output_type": "stream",
     "text": [
      "Optimization restart 6/10, f = 28.378770664093572\n",
      "Optimization restart 7/10, f = 28.378770664093455\n",
      "Optimization restart 8/10, f = 22.890714230902937\n",
      "Optimization restart 9/10, f = 133.50812531379674\n",
      "Optimization restart 10/10, f = 133.50812531295367\n"
     ]
    },
    {
     "name": "stderr",
     "output_type": "stream",
     "text": [
      "reconstraining parameters GP_regression.Mat52.variance\n",
      "reconstraining parameters GP_regression.Gaussian_noise.variance\n"
     ]
    },
    {
     "name": "stdout",
     "output_type": "stream",
     "text": [
      "Optimization restart 1/10, f = 21.801855220337167\n",
      "Optimization restart 2/10, f = 28.37877066409345\n",
      "Optimization restart 3/10, f = 21.801855220292893\n",
      "Optimization restart 4/10, f = 28.37877066409432\n",
      "Optimization restart 5/10, f = 21.801855220292584\n",
      "Optimization restart 6/10, f = 998904.2585120155\n",
      "Optimization restart 7/10, f = 21.801855220292577\n",
      "Optimization restart 8/10, f = 88401667.76292324\n",
      "Optimization restart 9/10, f = 21.801855220292975\n",
      "Optimization restart 10/10, f = 998904.2585120155\n",
      "(4_w,9)-aCMA-ES (mu_w=2.8,w_1=49%) in dimension 6 (seed=473702, Tue Sep 29 15:01:50 2020)\n",
      "Iterat #Fevals   function value  axis ratio  sigma  min&max std  t[m:s]\n",
      "    1      9 7.847965385129196e-02 1.0e+00 2.43e-01  2e-01  3e-01 0:00.0\n",
      "    2     18 1.590745607830013e-02 1.3e+00 2.61e-01  2e-01  3e-01 0:00.0\n",
      "    3     27 -1.623407816953981e-02 1.5e+00 2.96e-01  3e-01  4e-01 0:00.0\n",
      "  100    900 -3.352215461485946e-01 9.1e+00 1.46e-01  2e-02  1e-01 0:01.4\n",
      "  200   1800 -3.493016975876246e-01 1.1e+02 1.23e-01  5e-03  5e-02 0:02.8\n",
      "  300   2700 -3.520771548621664e-01 2.9e+02 1.19e-01  2e-03  3e-02 0:04.2\n",
      "  400   3600 -3.526664558584647e-01 5.7e+02 2.55e-01  3e-03  2e-02 0:05.7\n",
      "  500   4500 -3.530880544690871e-01 4.3e+02 1.34e+00  3e-03  2e-02 0:07.2\n",
      "  600   5400 -3.531308773577577e-01 2.5e+03 1.28e+00  7e-04  9e-03 0:08.6\n",
      "  700   6300 -3.531543822584102e-01 4.5e+03 6.87e-01  1e-04  2e-03 0:10.8\n",
      "  800   7200 -3.531555068928374e-01 1.1e+04 1.82e+00  9e-05  8e-04 0:12.7\n",
      "  900   8100 -3.531562727961592e-01 1.7e+04 1.03e+01  1e-04  2e-03 0:15.5\n",
      " 1000   9000 -3.531571490563026e-01 1.4e+04 2.23e+01  1e-04  8e-04 0:17.0\n",
      "Iterat #Fevals   function value  axis ratio  sigma  min&max std  t[m:s]\n",
      " 1100   9900 -3.531572343952700e-01 1.1e+05 6.68e+00  8e-06  1e-04 0:18.3\n",
      " 1200  10800 -3.531572831174936e-01 1.5e+05 4.67e+01  1e-05  2e-04 0:20.2\n",
      " 1300  11700 -3.531572933690938e-01 1.8e+05 9.62e+01  1e-05  9e-05 0:21.7\n",
      " 1400  12600 -3.531572937213812e-01 6.6e+05 1.02e+02  3e-06  4e-05 0:23.1\n",
      " 1500  13500 -3.531572973595010e-01 3.3e+05 8.59e+02  6e-06  6e-05 0:24.6\n"
     ]
    },
    {
     "name": "stderr",
     "output_type": "stream",
     "text": [
      " /home/finley/miniconda3/envs/testsuite/lib/python3.8/site-packages/cma/utilities/utils.py:329: UserWarning:\n",
      "        geno-pheno transformation introduced based on the\n",
      "        current covariance matrix with condition 1.0e+12 -> 1.0e+00,\n",
      "        injected solutions become \"invalid\" in this iteration (class=CMAEvolutionStrategy method=alleviate_conditioning iteration=1542)\n"
     ]
    },
    {
     "name": "stdout",
     "output_type": "stream",
     "text": [
      " 1561  14049 -3.531572974204087e-01 2.5e+00 9.67e+01  7e+01  1e+02 0:25.5\n"
     ]
    },
    {
     "name": "stderr",
     "output_type": "stream",
     "text": [
      "reconstraining parameters GP_regression.Mat52.lengthscale\n",
      "reconstraining parameters GP_regression.Mat52.variance\n",
      "reconstraining parameters GP_regression.Gaussian_noise.variance\n"
     ]
    },
    {
     "name": "stdout",
     "output_type": "stream",
     "text": [
      "termination on tolfun=1e-11 (Tue Sep 29 15:02:19 2020)\n",
      "final/bestever f-value = -3.531573e-01 -3.531573e-01\n",
      "incumbent solution: [2.2603609447557515e-08, 2.1101669471987908e-12, 3.5651870519213844, 0.8333636671726707, 6.06638362806655e-09, 1.9464824657770805]\n",
      "std deviation: [82.33367861625477, 72.7797764281156, 65.12834903151064, 80.21078173741411, 109.0430522014553, 70.49582126466696]\n",
      "Optimization restart 1/10, f = 22.359477411313463\n",
      "Optimization restart 2/10, f = 29.797709197298133\n",
      "Optimization restart 3/10, f = 29.797709197298133\n",
      "Optimization restart 4/10, f = 22.359477411312707\n",
      "Optimization restart 5/10, f = 348333029.7675945\n",
      "Optimization restart 6/10, f = 346894788.50110096\n",
      "Optimization restart 7/10, f = 22.35947741136111\n",
      "Optimization restart 8/10, f = 140.18353157948656\n"
     ]
    },
    {
     "name": "stderr",
     "output_type": "stream",
     "text": [
      "reconstraining parameters GP_regression.Mat52.lengthscale\n",
      "reconstraining parameters GP_regression.Mat52.variance\n",
      "reconstraining parameters GP_regression.Gaussian_noise.variance\n"
     ]
    },
    {
     "name": "stdout",
     "output_type": "stream",
     "text": [
      "Optimization restart 9/10, f = 22.359477411355723\n",
      "Optimization restart 10/10, f = 140.18353157948656\n",
      "Optimization restart 1/10, f = 22.152816047896565\n",
      "Optimization restart 2/10, f = 22.152816047896522\n",
      "Optimization restart 3/10, f = 22.152816047896394\n",
      "Optimization restart 4/10, f = 22.152816047896387\n",
      "Optimization restart 5/10, f = 55.85046591287151\n",
      "Optimization restart 6/10, f = 140.18353157948656\n",
      "Optimization restart 7/10, f = 22.15281604789641\n",
      "Optimization restart 8/10, f = 29.797709197298126\n",
      "Optimization restart 9/10, f = 140.18353157948656\n",
      "Optimization restart 10/10, f = 140.18353157948656\n",
      "(4_w,9)-aCMA-ES (mu_w=2.8,w_1=49%) in dimension 6 (seed=488412, Tue Sep 29 15:02:20 2020)\n",
      "Iterat #Fevals   function value  axis ratio  sigma  min&max std  t[m:s]\n",
      "    1      9 2.750404368640065e-01 1.0e+00 2.52e-01  2e-01  3e-01 0:00.0\n",
      "    2     18 2.243005204324602e-01 1.3e+00 3.22e-01  3e-01  3e-01 0:00.0\n",
      "    3     27 2.353870597557055e-01 1.4e+00 3.46e-01  3e-01  4e-01 0:00.0\n",
      "  100    900 -4.172364628315575e-01 1.7e+01 1.18e-01  3e-02  1e-01 0:01.9\n",
      "  200   1800 -4.209811240687893e-01 3.2e+02 1.57e-01  1e-02  8e-02 0:03.4\n",
      "  300   2700 -4.211170593711737e-01 4.6e+02 1.38e-02  8e-05  9e-04 0:04.9\n",
      "  400   3600 -4.211282795381042e-01 6.0e+02 8.11e-02  1e-04  1e-03 0:08.1\n",
      "  500   4500 -4.211346270321352e-01 1.1e+03 1.58e-01  5e-05  7e-04 0:11.1\n",
      "  600   5400 -4.211396212346437e-01 1.2e+03 7.99e-01  4e-05  1e-03 0:13.5\n",
      "  700   6300 -4.211435024885710e-01 1.5e+03 1.16e+00  1e-05  3e-04 0:15.1\n",
      "  800   7200 -4.211461397019001e-01 1.5e+03 7.80e+00  2e-05  6e-04 0:20.1\n",
      "  861   7749 -4.211471823616699e-01 1.7e+03 1.38e+01  2e-05  3e-04 0:31.2\n",
      "  900   8100 -4.211480608798885e-01 1.1e+03 3.79e+01  2e-05  6e-04 0:37.1\n",
      " 1000   9000 -4.211489742703991e-01 2.4e+03 7.33e+01  8e-06  3e-04 0:44.5\n",
      "Iterat #Fevals   function value  axis ratio  sigma  min&max std  t[m:s]\n",
      " 1100   9900 -4.211498800300446e-01 1.9e+03 1.12e+03  2e-05  1e-03 0:49.1\n",
      " 1200  10800 -4.211507645907022e-01 2.1e+03 1.09e+03  5e-06  2e-04 0:54.1\n",
      " 1300  11700 -4.211513282456396e-01 3.0e+03 3.22e+03  4e-06  2e-04 0:57.4\n",
      " 1400  12600 -4.211515981262051e-01 5.3e+03 9.81e+03  3e-06  2e-04 0:59.5\n",
      " 1500  13500 -4.211518451944913e-01 3.3e+03 2.74e+04  1e-06  1e-04 1:01.3\n",
      " 1600  14400 -4.211520905021822e-01 4.6e+03 1.77e+05  3e-06  2e-04 1:03.8\n",
      " 1700  15300 -4.211522421399114e-01 7.6e+03 4.28e+05  1e-06  2e-04 1:05.2\n",
      " 1800  16200 -4.211523393075887e-01 7.7e+03 9.95e+05  7e-07  9e-05 1:06.6\n",
      " 1900  17100 -4.211524147259289e-01 7.5e+03 4.95e+06  6e-07  1e-04 1:08.1\n",
      " 2000  18000 -4.211524781106146e-01 4.2e+03 1.10e+07  3e-07  4e-05 1:09.6\n",
      "Iterat #Fevals   function value  axis ratio  sigma  min&max std  t[m:s]\n",
      " 2034  18306 -4.211524922338477e-01 5.7e+03 6.39e+07  9e-07  2e-04 1:10.1\n"
     ]
    },
    {
     "name": "stderr",
     "output_type": "stream",
     "text": [
      "reconstraining parameters GP_regression.Mat52.lengthscale\n",
      "reconstraining parameters GP_regression.Mat52.variance\n",
      "reconstraining parameters GP_regression.Gaussian_noise.variance\n"
     ]
    },
    {
     "name": "stdout",
     "output_type": "stream",
     "text": [
      "termination on tolupsigma=1e+20 (Tue Sep 29 15:03:40 2020)\n",
      "final/bestever f-value = -4.211525e-01 -4.211525e-01\n",
      "incumbent solution: [5.322616802973492e-08, 8.463369940823515e-09, 5.7322757072876085, 3.6764228356400243e-09, 1.4398777207721277e-07, 8.81362560273362e-05]\n",
      "std deviation: [0.00011619854573583023, 0.00010433650362391998, 9.012876685828067e-07, 0.00015079888975369209, 0.0001665749379105137, 7.511259944922883e-05]\n",
      "Optimization restart 1/10, f = 21.902209337173602\n",
      "Optimization restart 2/10, f = 31.2166477305028\n",
      "Optimization restart 3/10, f = 31.216647730502814\n",
      "Optimization restart 4/10, f = 21.90220933717526\n",
      "Optimization restart 5/10, f = 21.90220933717348\n",
      "Optimization restart 6/10, f = 1098794.684363217\n",
      "Optimization restart 7/10, f = 146.8589378451764\n",
      "Optimization restart 8/10, f = 21.902209337251527\n",
      "Optimization restart 9/10, f = 47.68394993868074\n",
      "Optimization restart 10/10, f = 31.21664773050697\n"
     ]
    },
    {
     "name": "stderr",
     "output_type": "stream",
     "text": [
      "reconstraining parameters GP_regression.Mat52.lengthscale\n",
      "reconstraining parameters GP_regression.Mat52.variance\n",
      "reconstraining parameters GP_regression.Gaussian_noise.variance\n"
     ]
    },
    {
     "name": "stdout",
     "output_type": "stream",
     "text": [
      "Optimization restart 1/10, f = 22.64356218692302\n",
      "Optimization restart 2/10, f = 53.79957523231582\n",
      "Optimization restart 3/10, f = 146.8589378451764\n",
      "Optimization restart 4/10, f = 22.643562186921038\n",
      "Optimization restart 5/10, f = 146.8589378451764\n",
      "Optimization restart 6/10, f = 31.216647730503276\n",
      "Optimization restart 7/10, f = 146.8589378451764\n",
      "Optimization restart 8/10, f = 1098794.684363217\n",
      "Optimization restart 9/10, f = 146.8589378451764\n",
      "Optimization restart 10/10, f = 22.643562187017366\n",
      "(4_w,9)-aCMA-ES (mu_w=2.8,w_1=49%) in dimension 6 (seed=518848, Tue Sep 29 15:03:41 2020)\n",
      "Iterat #Fevals   function value  axis ratio  sigma  min&max std  t[m:s]\n",
      "    1      9 2.879148327163612e-01 1.0e+00 2.65e-01  3e-01  3e-01 0:00.0\n",
      "    2     18 2.740382733579816e-01 1.3e+00 2.79e-01  3e-01  3e-01 0:00.0\n",
      "    3     27 2.850437880211243e-01 1.5e+00 2.64e-01  2e-01  3e-01 0:00.0\n",
      "   69    621 -5.128639150532641e-01 2.8e+01 3.41e-01  4e-02  4e-01 0:03.1\n",
      "  100    900 -5.429003643347325e-01 6.8e+01 1.83e-01  1e-02  2e-01 0:05.2\n",
      "  200   1800 -5.518636051751016e-01 4.8e+02 1.87e-02  3e-05  4e-03 0:09.0\n",
      "  300   2700 -5.519276733343066e-01 4.2e+03 1.31e-02  6e-07  1e-03 0:10.7\n",
      "NOTE (module=cma, iteration=378):  \n",
      "condition in coordinate system exceeded 1.1e+08, rescaled to 1.0e+00, \n",
      "condition changed from 1.4e+09 to 4.9e+01\n",
      "  400   3600 -5.519279131004613e-01 7.7e+00 2.47e-03  2e-09  6e-05 0:12.2\n",
      "  478   4302 -5.519279135518460e-01 2.5e+02 1.04e-04  7e-13  1e-06 0:13.4\n"
     ]
    },
    {
     "name": "stderr",
     "output_type": "stream",
     "text": [
      "reconstraining parameters GP_regression.Mat52.lengthscale\n",
      "reconstraining parameters GP_regression.Mat52.variance\n",
      "reconstraining parameters GP_regression.Gaussian_noise.variance\n"
     ]
    },
    {
     "name": "stdout",
     "output_type": "stream",
     "text": [
      "termination on tolfun=1e-11 (Tue Sep 29 15:03:56 2020)\n",
      "final/bestever f-value = -5.519279e-01 -5.519279e-01\n",
      "incumbent solution: [1.0719949006593654, 4.2786247240705985e-12, 5.999999999997707, 5.712535101253973e-13, 2.376096024166635e-12, 1.3114626180938746e-12]\n",
      "std deviation: [7.25619267579339e-13, 4.668346666633821e-07, 9.708131737685002e-07, 1.2319286682271412e-06, 1.0104382628166573e-06, 8.861756140771976e-07]\n",
      "Optimization restart 1/10, f = 24.438356036303603\n",
      "Optimization restart 2/10, f = 153.53434411086621\n",
      "Optimization restart 3/10, f = 24.438356036311994\n",
      "Optimization restart 4/10, f = 24.43835603630388\n",
      "Optimization restart 5/10, f = 32.63558626370827\n",
      "Optimization restart 6/10, f = 32.63558626370747\n",
      "Optimization restart 7/10, f = 49.751244479051124\n",
      "Optimization restart 8/10, f = 24.438356036306565\n"
     ]
    },
    {
     "name": "stderr",
     "output_type": "stream",
     "text": [
      "reconstraining parameters GP_regression.Mat52.lengthscale\n",
      "reconstraining parameters GP_regression.Mat52.variance\n",
      "reconstraining parameters GP_regression.Gaussian_noise.variance\n"
     ]
    },
    {
     "name": "stdout",
     "output_type": "stream",
     "text": [
      "Optimization restart 9/10, f = 24.438356036303585\n",
      "Optimization restart 10/10, f = 153.53434411086621\n",
      "Optimization restart 1/10, f = 24.105492193058573\n",
      "Optimization restart 2/10, f = 32.635586263707474\n",
      "Optimization restart 3/10, f = 24.105492193001364\n",
      "Optimization restart 4/10, f = 153.5342932113171\n",
      "Optimization restart 5/10, f = 32.63558626370747\n",
      "Optimization restart 6/10, f = 153.53434411086621\n",
      "Optimization restart 7/10, f = 153.53434411086621\n",
      "Optimization restart 8/10, f = 32.63558626370747\n",
      "Optimization restart 9/10, f = 24.105492193014882\n",
      "Optimization restart 10/10, f = 24.105492193002068\n",
      "(4_w,9)-aCMA-ES (mu_w=2.8,w_1=49%) in dimension 6 (seed=570744, Tue Sep 29 15:03:57 2020)\n",
      "Iterat #Fevals   function value  axis ratio  sigma  min&max std  t[m:s]\n",
      "    1      9 2.665729285925402e-01 1.0e+00 2.15e-01  2e-01  2e-01 0:00.0\n",
      "    2     18 2.445073142011620e-01 1.3e+00 2.07e-01  2e-01  2e-01 0:00.0\n",
      "    3     27 2.040264876616700e-01 1.3e+00 2.43e-01  2e-01  3e-01 0:00.1\n",
      "   85    765 -1.877759032971973e-01 8.7e+01 3.97e-02  7e-03  5e-02 0:03.1\n",
      "  100    900 -1.878363090912205e-01 1.2e+02 2.69e-02  3e-03  2e-02 0:03.3\n",
      "  200   1800 -1.879936280127317e-01 9.8e+03 9.01e-04  4e-05  3e-04 0:04.6\n",
      "  300   2700 -1.879937049724996e-01 4.8e+05 8.08e-05  2e-06  1e-05 0:06.0\n"
     ]
    },
    {
     "name": "stderr",
     "output_type": "stream",
     "text": [
      " /home/finley/miniconda3/envs/testsuite/lib/python3.8/site-packages/cma/utilities/utils.py:329: UserWarning:\n",
      "        geno-pheno transformation introduced based on the\n",
      "        current covariance matrix with condition 1.0e+12 -> 1.0e+00,\n",
      "        injected solutions become \"invalid\" in this iteration (class=CMAEvolutionStrategy method=alleviate_conditioning iteration=316)\n"
     ]
    },
    {
     "name": "stdout",
     "output_type": "stream",
     "text": [
      "  400   3600 -1.879937049676381e-01 1.5e+01 1.45e-05  7e-06  2e-05 0:09.7\n",
      "  500   4500 -1.879937049678286e-01 3.6e+01 1.02e-05  2e-06  1e-05 0:14.4\n",
      "  530   4770 -1.879937049696605e-01 4.9e+01 1.35e-05  3e-06  1e-05 0:16.1\n"
     ]
    },
    {
     "name": "stderr",
     "output_type": "stream",
     "text": [
      "reconstraining parameters GP_regression.Mat52.lengthscale\n",
      "reconstraining parameters GP_regression.Mat52.variance\n",
      "reconstraining parameters GP_regression.Gaussian_noise.variance\n"
     ]
    },
    {
     "name": "stdout",
     "output_type": "stream",
     "text": [
      "termination on tolstagnation=263 (Tue Sep 29 15:04:15 2020)\n",
      "final/bestever f-value = -1.879937e-01 -1.879937e-01\n",
      "incumbent solution: [1.1963394867816532, 3.716919631642668, 1.6229121511141784, 4.17700416815012, 3.6257322961105274, 4.154167350905482]\n",
      "std deviation: [4.271402505105195e-06, 7.125702855800898e-06, 9.482117442077317e-06, 1.0198439972429452e-05, 2.7492922186825714e-06, 1.2874010431807234e-05]\n",
      "Optimization restart 1/10, f = 22.965031750547716\n",
      "Optimization restart 2/10, f = 22.96503175055101\n",
      "Optimization restart 3/10, f = 22.96503175054535\n",
      "Optimization restart 4/10, f = 22.965031750545187\n",
      "Optimization restart 5/10, f = 22.965031750544817\n",
      "Optimization restart 6/10, f = 34.05452479691215\n",
      "Optimization restart 7/10, f = 160.20975035325446\n",
      "Optimization restart 8/10, f = 437188135.56491154\n"
     ]
    },
    {
     "name": "stderr",
     "output_type": "stream",
     "text": [
      "reconstraining parameters GP_regression.Mat52.lengthscale\n",
      "reconstraining parameters GP_regression.Mat52.variance\n",
      "reconstraining parameters GP_regression.Gaussian_noise.variance\n"
     ]
    },
    {
     "name": "stdout",
     "output_type": "stream",
     "text": [
      "Optimization restart 9/10, f = 437056844.6802476\n",
      "Optimization restart 10/10, f = 34.05452479691216\n",
      "Optimization restart 1/10, f = 22.46821579913481\n",
      "Optimization restart 2/10, f = 34.05452471959308\n",
      "Optimization restart 3/10, f = 34.05452479691214\n",
      "Optimization restart 4/10, f = 144724070.85869482\n",
      "Optimization restart 5/10, f = 22.468215799131876\n",
      "Optimization restart 6/10, f = 160.2097503765561\n",
      "Optimization restart 7/10, f = 22.46821579913644\n",
      "Optimization restart 8/10, f = 34.05452479691228\n",
      "Optimization restart 9/10, f = 160.2097503765561\n",
      "Optimization restart 10/10, f = 34.05452479691215\n",
      "(4_w,9)-aCMA-ES (mu_w=2.8,w_1=49%) in dimension 6 (seed=519181, Tue Sep 29 15:04:19 2020)\n",
      "Iterat #Fevals   function value  axis ratio  sigma  min&max std  t[m:s]\n",
      "    1      9 4.028939532959028e-01 1.0e+00 2.35e-01  2e-01  2e-01 0:00.0\n",
      "    2     18 3.859972099886622e-01 1.3e+00 2.60e-01  2e-01  3e-01 0:00.0\n",
      "    3     27 3.479580240371423e-01 1.5e+00 2.92e-01  3e-01  3e-01 0:00.1\n",
      "   88    792 -4.409467947782275e-01 2.4e+01 2.27e-01  3e-02  2e-01 0:03.1\n",
      "  100    900 -4.489596901618329e-01 2.7e+01 1.46e-01  2e-02  8e-02 0:04.1\n",
      "  200   1800 -4.605589011337419e-01 5.3e+01 2.90e-02  4e-04  6e-03 0:08.0\n",
      "  295   2655 -4.606348547911618e-01 1.3e+03 5.17e-03  1e-06  6e-04 0:14.1\n",
      "  300   2700 -4.606348193464327e-01 1.5e+03 4.17e-03  7e-07  5e-04 0:14.5\n",
      "  400   3600 -4.606349589177279e-01 1.7e+04 9.07e-04  5e-09  3e-05 0:18.1\n",
      "NOTE (module=cma, iteration=415):  \n",
      "condition in coordinate system exceeded 1.0e+08, rescaled to 1.0e+00, \n",
      "condition changed from 4.0e+08 to 1.8e+01\n",
      "  475   4275 -4.606349598829773e-01 3.3e+01 1.22e-04  2e-11  2e-06 0:20.1\n"
     ]
    },
    {
     "name": "stderr",
     "output_type": "stream",
     "text": [
      "reconstraining parameters GP_regression.Mat52.lengthscale\n",
      "reconstraining parameters GP_regression.Mat52.variance\n",
      "reconstraining parameters GP_regression.Gaussian_noise.variance\n"
     ]
    },
    {
     "name": "stdout",
     "output_type": "stream",
     "text": [
      "termination on tolfun=1e-11 (Tue Sep 29 15:04:41 2020)\n",
      "final/bestever f-value = -4.606350e-01 -4.606350e-01\n",
      "incumbent solution: [5.523071343345452e-12, 1.3571351721121354e-12, 5.999999999999599, 4.1395298623361345, 1.2039763137656486e-11, 5.413779037499324e-12]\n",
      "std deviation: [4.877863580005744e-07, 9.97772316247626e-07, 1.7739282067989781e-06, 1.6202393130284848e-11, 1.1550598848400258e-06, 9.782092135150577e-07]\n",
      "Optimization restart 1/10, f = 23.210950328304083\n",
      "Optimization restart 2/10, f = 23.210950328304733\n",
      "Optimization restart 3/10, f = 166.88515664224593\n",
      "Optimization restart 4/10, f = 23.21095032830393\n",
      "Optimization restart 5/10, f = 35.47346333011682\n",
      "Optimization restart 6/10, f = 166.88515664224593\n",
      "Optimization restart 7/10, f = 23.210950328303483\n",
      "Optimization restart 8/10, f = 58.172013523664425\n",
      "Optimization restart 9/10, f = 23.210950328305287\n",
      "Optimization restart 10/10, f = 23.210950328310393\n"
     ]
    },
    {
     "name": "stderr",
     "output_type": "stream",
     "text": [
      "reconstraining parameters GP_regression.Mat52.lengthscale\n",
      "reconstraining parameters GP_regression.Mat52.variance\n",
      "reconstraining parameters GP_regression.Gaussian_noise.variance\n"
     ]
    },
    {
     "name": "stdout",
     "output_type": "stream",
     "text": [
      "Optimization restart 1/10, f = 23.01899195274867\n",
      "Optimization restart 2/10, f = 35.47346333011682\n",
      "Optimization restart 3/10, f = 23.018991952759777\n",
      "Optimization restart 4/10, f = 23.018991952747058\n",
      "Optimization restart 5/10, f = 23.01899195274742\n",
      "Optimization restart 6/10, f = 166.88515664224593\n",
      "Optimization restart 7/10, f = 35.47346333011682\n",
      "Optimization restart 8/10, f = 166.88515664224593\n",
      "Optimization restart 9/10, f = 35.47346333011682\n",
      "Optimization restart 10/10, f = 35.47346333011686\n",
      "(4_w,9)-aCMA-ES (mu_w=2.8,w_1=49%) in dimension 6 (seed=424861, Tue Sep 29 15:04:44 2020)\n",
      "Iterat #Fevals   function value  axis ratio  sigma  min&max std  t[m:s]\n",
      "    1      9 2.357739807686943e-01 1.0e+00 2.54e-01  2e-01  3e-01 0:00.0\n",
      "    2     18 2.578657485168243e-01 1.4e+00 2.64e-01  2e-01  3e-01 0:00.0\n",
      "    3     27 2.443686421991602e-01 1.5e+00 2.52e-01  2e-01  3e-01 0:00.1\n",
      "  100    900 -2.211833795123592e-01 9.1e+00 7.12e-03  4e-04  3e-03 0:02.1\n",
      "  137   1233 -2.211857241964479e-01 6.0e+00 1.73e-04  5e-06  3e-05 0:06.1\n",
      "  174   1566 -2.211857243911708e-01 8.3e+00 6.53e-06  7e-08  5e-07 0:11.1\n",
      "  182   1638 -2.211857243912152e-01 8.2e+00 3.92e-06  3e-08  3e-07 0:12.3\n",
      "termination on tolfun=1e-11 (Tue Sep 29 15:04:57 2020)\n",
      "final/bestever f-value = -2.211857e-01 -2.211857e-01\n",
      "incumbent solution: [0.9973651536999163, 3.9999999999999996, 1.2360363715127258, 5.1118617276033795, 3.105325509600331, 5.383399183419736]\n",
      "std deviation: [3.4466725441381955e-08, 7.218436446270874e-08, 1.1190795844201973e-07, 1.538920610304217e-07, 1.8310302866582416e-07, 2.7206815865412836e-07]\n"
     ]
    },
    {
     "name": "stderr",
     "output_type": "stream",
     "text": [
      "reconstraining parameters GP_regression.Mat52.lengthscale\n",
      "reconstraining parameters GP_regression.Mat52.variance\n",
      "reconstraining parameters GP_regression.Gaussian_noise.variance\n"
     ]
    },
    {
     "name": "stdout",
     "output_type": "stream",
     "text": [
      "Optimization restart 1/10, f = 22.721159807847652\n",
      "Optimization restart 2/10, f = 36.89240186332149\n",
      "Optimization restart 3/10, f = 173.56056290793578\n",
      "Optimization restart 4/10, f = 36.89240184853582\n",
      "Optimization restart 5/10, f = 36.892401863321496\n",
      "Optimization restart 6/10, f = 416006119.4816107\n",
      "Optimization restart 7/10, f = 36.89240113366395\n",
      "Optimization restart 8/10, f = 36.89240186332149\n",
      "Optimization restart 9/10, f = 36.892401863321595\n"
     ]
    },
    {
     "name": "stderr",
     "output_type": "stream",
     "text": [
      "reconstraining parameters GP_regression.Mat52.lengthscale\n",
      "reconstraining parameters GP_regression.Mat52.variance\n",
      "reconstraining parameters GP_regression.Gaussian_noise.variance\n"
     ]
    },
    {
     "name": "stdout",
     "output_type": "stream",
     "text": [
      "Optimization restart 10/10, f = 22.7211598078352\n",
      "Optimization restart 1/10, f = 21.896057798240395\n",
      "Optimization restart 2/10, f = 173.56056290793578\n",
      "Optimization restart 3/10, f = 21.89605779824035\n",
      "Optimization restart 4/10, f = 36.89240186332148\n",
      "Optimization restart 5/10, f = 21.896057798240378\n",
      "Optimization restart 6/10, f = 36.89240186332148\n",
      "Optimization restart 7/10, f = 36.892401863321574\n",
      "Optimization restart 8/10, f = 21.896057798281923\n",
      "Optimization restart 9/10, f = 21.89605779825251\n",
      "Optimization restart 10/10, f = 157465395.5716026\n",
      "(4_w,9)-aCMA-ES (mu_w=2.8,w_1=49%) in dimension 6 (seed=526492, Tue Sep 29 15:05:08 2020)\n",
      "Iterat #Fevals   function value  axis ratio  sigma  min&max std  t[m:s]\n",
      "    1      9 3.106762794384852e-01 1.0e+00 2.46e-01  2e-01  3e-01 0:00.0\n",
      "    2     18 2.970671671905292e-01 1.2e+00 2.59e-01  2e-01  3e-01 0:00.1\n",
      "    3     27 1.181483096844163e-01 1.4e+00 3.40e-01  3e-01  4e-01 0:00.1\n",
      "   48    432 -3.512348568585031e-01 7.3e+00 3.07e-01  7e-02  4e-01 0:03.1\n",
      "  100    900 -4.399233802602414e-01 1.5e+01 1.56e-01  2e-02  1e-01 0:04.3\n",
      "  200   1800 -4.548210131769004e-01 1.3e+02 1.29e-02  9e-05  3e-03 0:06.4\n",
      "  300   2700 -4.548328956674825e-01 8.2e+02 8.90e-03  6e-06  9e-04 0:08.4\n",
      "  400   3600 -4.548340802695436e-01 3.6e+03 4.71e-03  1e-07  1e-04 0:10.3\n",
      "  500   4500 -4.548340989110959e-01 3.9e+04 1.55e-03  1e-09  1e-05 0:12.0\n",
      "NOTE (module=cma, iteration=507):  \n",
      "condition in coordinate system exceeded 1.1e+08, rescaled to 1.0e+00, \n",
      "condition changed from 1.5e+09 to 7.9e+01\n",
      "  600   5400 -4.548340990893978e-01 2.8e+01 9.36e-04  3e-11  2e-06 0:14.0\n",
      "  601   5409 -4.548340990895485e-01 3.1e+01 9.10e-04  3e-11  2e-06 0:14.1\n"
     ]
    },
    {
     "name": "stderr",
     "output_type": "stream",
     "text": [
      "reconstraining parameters GP_regression.Mat52.lengthscale\n",
      "reconstraining parameters GP_regression.Mat52.variance\n",
      "reconstraining parameters GP_regression.Gaussian_noise.variance\n"
     ]
    },
    {
     "name": "stdout",
     "output_type": "stream",
     "text": [
      "termination on tolfun=1e-11 (Tue Sep 29 15:05:23 2020)\n",
      "final/bestever f-value = -4.548341e-01 -4.548341e-01\n",
      "incumbent solution: [4.305790203147557e-11, 2.182832029143202e-13, 5.999999999982801, 1.9414858499881932e-13, 4.988502492917258, 1.1968961371827477e-11]\n",
      "std deviation: [2.928853610758294e-07, 7.179512260096298e-07, 2.2674863266934215e-06, 8.09987850124396e-07, 3.182340709611358e-11, 1.5895091001685928e-06]\n",
      "Optimization restart 1/10, f = 23.084835998393622\n",
      "Optimization restart 2/10, f = 395518470.72115016\n",
      "Optimization restart 3/10, f = 180.23596917362562\n",
      "Optimization restart 4/10, f = 23.084835998633956\n",
      "Optimization restart 5/10, f = 23.0848359983927\n",
      "Optimization restart 6/10, f = 38.311340396526035\n",
      "Optimization restart 7/10, f = 180.23596917362562\n",
      "Optimization restart 8/10, f = 38.31134039652618\n"
     ]
    },
    {
     "name": "stderr",
     "output_type": "stream",
     "text": [
      "reconstraining parameters GP_regression.Mat52.lengthscale\n",
      "reconstraining parameters GP_regression.Mat52.variance\n",
      "reconstraining parameters GP_regression.Gaussian_noise.variance\n"
     ]
    },
    {
     "name": "stdout",
     "output_type": "stream",
     "text": [
      "Optimization restart 9/10, f = 23.0848359983927\n",
      "Optimization restart 10/10, f = 23.0848359983925\n",
      "Optimization restart 1/10, f = 22.448824832713917\n",
      "Optimization restart 2/10, f = 66.87605665817003\n",
      "Optimization restart 3/10, f = 38.31134039652616\n",
      "Optimization restart 4/10, f = 180.23596917362562\n",
      "Optimization restart 5/10, f = 22.44882483271386\n",
      "Optimization restart 6/10, f = 22.448824832713672\n",
      "Optimization restart 7/10, f = 22.448824832713754\n",
      "Optimization restart 8/10, f = 22.448824832720295\n",
      "Optimization restart 9/10, f = 22.448824832730224\n",
      "Optimization restart 10/10, f = 150485206.2034756\n",
      "(4_w,9)-aCMA-ES (mu_w=2.8,w_1=49%) in dimension 6 (seed=472042, Tue Sep 29 15:05:26 2020)\n",
      "Iterat #Fevals   function value  axis ratio  sigma  min&max std  t[m:s]\n",
      "    1      9 1.572469646785515e-01 1.0e+00 2.86e-01  3e-01  3e-01 0:00.0\n",
      "    2     18 1.269341053180009e-01 1.2e+00 3.29e-01  3e-01  4e-01 0:00.0\n",
      "    3     27 1.119277651166053e-01 1.5e+00 3.85e-01  3e-01  5e-01 0:00.1\n",
      "  100    900 -2.053858200703651e-01 1.9e+02 8.03e-03  9e-04  6e-03 0:01.9\n",
      "  200   1800 -2.054047952269404e-01 3.8e+04 1.06e-04  7e-06  4e-05 0:04.5\n",
      "  268   2412 -2.054047955124261e-01 2.0e+00 4.53e-06  4e-06  5e-06 0:07.6\n"
     ]
    },
    {
     "name": "stderr",
     "output_type": "stream",
     "text": [
      " /home/finley/miniconda3/envs/testsuite/lib/python3.8/site-packages/cma/utilities/utils.py:329: UserWarning:\n",
      "        geno-pheno transformation introduced based on the\n",
      "        current covariance matrix with condition 1.3e+12 -> 1.0e+00,\n",
      "        injected solutions become \"invalid\" in this iteration (class=CMAEvolutionStrategy method=alleviate_conditioning iteration=258)\n",
      "reconstraining parameters GP_regression.Mat52.lengthscale\n",
      "reconstraining parameters GP_regression.Mat52.variance\n",
      "reconstraining parameters GP_regression.Gaussian_noise.variance\n"
     ]
    },
    {
     "name": "stdout",
     "output_type": "stream",
     "text": [
      "termination on tolfun=1e-11 (Tue Sep 29 15:05:34 2020)\n",
      "final/bestever f-value = -2.054048e-01 -2.054048e-01\n",
      "incumbent solution: [1.6091585485017277, 1.666564540046238, 2.6087968763458775, 2.9869461017660797, 4.517210044839885, 3.720231530154706]\n",
      "std deviation: [3.6938724196555018e-06, 4.780359036927101e-06, 3.8537178523761834e-06, 4.022240594510187e-06, 5.088227800620428e-06, 3.782833499700079e-06]\n",
      "Optimization restart 1/10, f = 22.95006182721523\n",
      "Optimization restart 2/10, f = 39.730278929733366\n",
      "Optimization restart 3/10, f = 39.73027892973127\n",
      "Optimization restart 4/10, f = 22.950061827215436\n",
      "Optimization restart 5/10, f = 22.950061827215443\n",
      "Optimization restart 6/10, f = 39.73027892973084\n",
      "Optimization restart 7/10, f = 22.950061827215396\n",
      "Optimization restart 8/10, f = 39.73027892973083\n"
     ]
    },
    {
     "name": "stderr",
     "output_type": "stream",
     "text": [
      "reconstraining parameters GP_regression.Mat52.lengthscale\n",
      "reconstraining parameters GP_regression.Mat52.variance\n",
      "reconstraining parameters GP_regression.Gaussian_noise.variance\n"
     ]
    },
    {
     "name": "stdout",
     "output_type": "stream",
     "text": [
      "Optimization restart 9/10, f = 22.950061827215496\n",
      "Optimization restart 10/10, f = 39.730277031263604\n",
      "Optimization restart 1/10, f = 21.881328598363332\n",
      "Optimization restart 2/10, f = 66.11346441561776\n",
      "Optimization restart 3/10, f = 39.730278929730844\n",
      "Optimization restart 4/10, f = 21.88132859835792\n",
      "Optimization restart 5/10, f = 21.88132859835768\n",
      "Optimization restart 6/10, f = 21.881328598357747\n",
      "Optimization restart 7/10, f = 39.73026177386302\n",
      "Optimization restart 8/10, f = 21.881328598361357\n",
      "Optimization restart 9/10, f = 21.881328598359666\n",
      "Optimization restart 10/10, f = 21.881328598357758\n",
      "(4_w,9)-aCMA-ES (mu_w=2.8,w_1=49%) in dimension 6 (seed=443452, Tue Sep 29 15:05:37 2020)\n",
      "Iterat #Fevals   function value  axis ratio  sigma  min&max std  t[m:s]\n",
      "    1      9 2.187640596807545e-01 1.0e+00 2.22e-01  2e-01  2e-01 0:00.0\n",
      "    2     18 1.971869163361615e-01 1.2e+00 2.21e-01  2e-01  2e-01 0:00.0\n",
      "    3     27 1.936450231736444e-01 1.3e+00 2.31e-01  2e-01  2e-01 0:00.0\n",
      "   91    819 -1.399508513790519e-01 1.2e+02 2.80e-02  3e-03  3e-02 0:03.1\n",
      "  100    900 -1.401759081870027e-01 2.1e+02 1.70e-02  2e-03  2e-02 0:04.1\n",
      "  176   1584 -1.403374283174865e-01 8.1e+03 2.36e-03  1e-04  1e-03 0:09.1\n",
      "  200   1800 -1.403375207332984e-01 2.5e+04 8.57e-04  4e-05  3e-04 0:09.6\n"
     ]
    },
    {
     "name": "stderr",
     "output_type": "stream",
     "text": [
      " /home/finley/miniconda3/envs/testsuite/lib/python3.8/site-packages/cma/utilities/utils.py:329: UserWarning:\n",
      "        geno-pheno transformation introduced based on the\n",
      "        current covariance matrix with condition 1.0e+12 -> 1.0e+00,\n",
      "        injected solutions become \"invalid\" in this iteration (class=CMAEvolutionStrategy method=alleviate_conditioning iteration=278)\n"
     ]
    },
    {
     "name": "stdout",
     "output_type": "stream",
     "text": [
      "  297   2673 -1.403375354071295e-01 1.9e+00 5.35e-06  4e-06  6e-06 0:11.9\n"
     ]
    },
    {
     "name": "stderr",
     "output_type": "stream",
     "text": [
      "reconstraining parameters GP_regression.Mat52.lengthscale\n",
      "reconstraining parameters GP_regression.Mat52.variance\n",
      "reconstraining parameters GP_regression.Gaussian_noise.variance\n"
     ]
    },
    {
     "name": "stdout",
     "output_type": "stream",
     "text": [
      "termination on tolfun=1e-11 (Tue Sep 29 15:05:50 2020)\n",
      "final/bestever f-value = -1.403375e-01 -1.403375e-01\n",
      "incumbent solution: [1.4741313005470147, 1.8485406204363244, 2.6049917954678676, 3.075970688390953, 4.197766971716192, 3.8668788016657345]\n",
      "std deviation: [5.620562221041447e-06, 4.777923961709391e-06, 3.90453491457333e-06, 4.336405481090457e-06, 5.06361888074868e-06, 3.7788406141367622e-06]\n",
      "Optimization restart 1/10, f = 21.670111498989307\n",
      "Optimization restart 2/10, f = 21.67011149872976\n",
      "Optimization restart 3/10, f = 21.670111498730506\n",
      "Optimization restart 4/10, f = 21.67011149872979\n",
      "Optimization restart 5/10, f = 59.61871152795801\n",
      "Optimization restart 6/10, f = 193.5867817050053\n",
      "Optimization restart 7/10, f = 193.5867817042562\n",
      "Optimization restart 8/10, f = 193.5867817050053\n",
      "Optimization restart 9/10, f = 21.67011149873062\n"
     ]
    },
    {
     "name": "stderr",
     "output_type": "stream",
     "text": [
      "reconstraining parameters GP_regression.Mat52.lengthscale\n",
      "reconstraining parameters GP_regression.Mat52.variance\n",
      "reconstraining parameters GP_regression.Gaussian_noise.variance\n"
     ]
    },
    {
     "name": "stdout",
     "output_type": "stream",
     "text": [
      "Optimization restart 10/10, f = 21.670111498729923\n",
      "Optimization restart 1/10, f = 20.856605126175758\n",
      "Optimization restart 2/10, f = 165246304.72846407\n",
      "Optimization restart 3/10, f = 193.58677887715712\n",
      "Optimization restart 4/10, f = 20.856605126174124\n",
      "Optimization restart 5/10, f = 41.14921746293551\n",
      "Optimization restart 6/10, f = 20.856605126174294\n",
      "Optimization restart 7/10, f = 193.5867817050053\n",
      "Optimization restart 8/10, f = 64.8714347507535\n",
      "Optimization restart 9/10, f = 165084360.61102036\n",
      "Optimization restart 10/10, f = 193.5867817050053\n",
      "(4_w,9)-aCMA-ES (mu_w=2.8,w_1=49%) in dimension 6 (seed=504594, Tue Sep 29 15:05:52 2020)\n",
      "Iterat #Fevals   function value  axis ratio  sigma  min&max std  t[m:s]\n",
      "    1      9 2.073449652091113e-01 1.0e+00 2.45e-01  2e-01  3e-01 0:00.0\n",
      "    2     18 1.963810778815391e-01 1.3e+00 2.51e-01  2e-01  3e-01 0:00.0\n",
      "    3     27 1.780957887870844e-01 1.4e+00 2.42e-01  2e-01  3e-01 0:00.0\n",
      "  100    900 -1.570722316569209e-01 7.6e+01 2.37e-02  3e-03  1e-02 0:01.4\n",
      "  200   1800 -1.572057503879822e-01 1.6e+04 1.60e-04  6e-06  4e-05 0:03.0\n",
      "  300   2700 -1.572057532109838e-01 1.7e+00 4.68e-06  3e-06  5e-06 0:04.5\n"
     ]
    },
    {
     "name": "stderr",
     "output_type": "stream",
     "text": [
      " /home/finley/miniconda3/envs/testsuite/lib/python3.8/site-packages/cma/utilities/utils.py:329: UserWarning:\n",
      "        geno-pheno transformation introduced based on the\n",
      "        current covariance matrix with condition 1.1e+12 -> 1.0e+00,\n",
      "        injected solutions become \"invalid\" in this iteration (class=CMAEvolutionStrategy method=alleviate_conditioning iteration=292)\n"
     ]
    },
    {
     "name": "stdout",
     "output_type": "stream",
     "text": [
      "  310   2790 -1.572057532104296e-01 2.4e+00 3.67e-06  2e-06  4e-06 0:04.7\n",
      "termination on tolfun=1e-11 (Tue Sep 29 15:05:57 2020)\n",
      "final/bestever f-value = -1.572058e-01 -1.572058e-01\n",
      "incumbent solution: [1.8309902904893534, 1.4862163649986542, 2.6190265565924165, 2.9640597068573697, 5.07741586973134, 3.0820871459973205]\n",
      "std deviation: [3.24439942672306e-06, 2.602024773919052e-06, 3.7275360080704436e-06, 3.0827655921312855e-06, 3.213850966556151e-06, 2.300451832485964e-06]\n"
     ]
    },
    {
     "name": "stderr",
     "output_type": "stream",
     "text": [
      "reconstraining parameters GP_regression.Mat52.lengthscale\n",
      "reconstraining parameters GP_regression.Mat52.variance\n",
      "reconstraining parameters GP_regression.Gaussian_noise.variance\n"
     ]
    },
    {
     "name": "stdout",
     "output_type": "stream",
     "text": [
      "Optimization restart 1/10, f = 21.04421284930246\n",
      "Optimization restart 2/10, f = 21.04421284930308\n",
      "Optimization restart 3/10, f = 42.56815599614018\n",
      "Optimization restart 4/10, f = 1498356.3877680234\n",
      "Optimization restart 5/10, f = 21.044212849302582\n",
      "Optimization restart 6/10, f = 443062273.5245383\n"
     ]
    },
    {
     "name": "stderr",
     "output_type": "stream",
     "text": [
      "reconstraining parameters GP_regression.Mat52.lengthscale\n"
     ]
    },
    {
     "name": "stdout",
     "output_type": "stream",
     "text": [
      "Optimization restart 7/10, f = 200.2621879706944\n",
      "Optimization restart 8/10, f = 200.26218797069515\n",
      "Optimization restart 9/10, f = 21.04421284930114\n",
      "Optimization restart 10/10, f = 42.568155996141016\n"
     ]
    },
    {
     "name": "stderr",
     "output_type": "stream",
     "text": [
      "reconstraining parameters GP_regression.Mat52.variance\n",
      "reconstraining parameters GP_regression.Gaussian_noise.variance\n"
     ]
    },
    {
     "name": "stdout",
     "output_type": "stream",
     "text": [
      "Optimization restart 1/10, f = 20.02121004491548\n",
      "Optimization restart 2/10, f = 64.77272140098917\n",
      "Optimization restart 3/10, f = 20.02121004451708\n",
      "Optimization restart 4/10, f = 20.021210044599165\n",
      "Optimization restart 5/10, f = 20.02121004451781\n",
      "Optimization restart 6/10, f = 187314571.41120937\n",
      "Optimization restart 7/10, f = 200.26218797069515\n",
      "Optimization restart 8/10, f = 42.56815599614021\n",
      "Optimization restart 9/10, f = 187547999.36203232\n",
      "Optimization restart 10/10, f = 42.568155996139026\n",
      "(4_w,9)-aCMA-ES (mu_w=2.8,w_1=49%) in dimension 6 (seed=409559, Tue Sep 29 15:05:59 2020)\n",
      "Iterat #Fevals   function value  axis ratio  sigma  min&max std  t[m:s]\n",
      "    1      9 2.677932304035395e-01 1.0e+00 2.33e-01  2e-01  2e-01 0:00.0\n",
      "    2     18 2.553680072684885e-01 1.2e+00 2.32e-01  2e-01  2e-01 0:00.0\n",
      "    3     27 2.157572802137082e-01 1.3e+00 2.73e-01  3e-01  3e-01 0:00.1\n",
      "  100    900 -1.145816088317297e-01 6.7e+01 2.17e-02  3e-03  2e-02 0:01.6\n",
      "  197   1773 -1.151054173203439e-01 3.3e+03 2.96e-03  2e-04  9e-04 0:05.7\n",
      "  200   1800 -1.151054790032409e-01 4.7e+03 2.55e-03  1e-04  8e-04 0:05.9\n",
      "  300   2700 -1.151055507353465e-01 3.1e+05 1.88e-05  4e-07  2e-06 0:08.8\n"
     ]
    },
    {
     "name": "stderr",
     "output_type": "stream",
     "text": [
      " /home/finley/miniconda3/envs/testsuite/lib/python3.8/site-packages/cma/utilities/utils.py:329: UserWarning:\n",
      "        geno-pheno transformation introduced based on the\n",
      "        current covariance matrix with condition 1.1e+12 -> 1.0e+00,\n",
      "        injected solutions become \"invalid\" in this iteration (class=CMAEvolutionStrategy method=alleviate_conditioning iteration=317)\n"
     ]
    },
    {
     "name": "stdout",
     "output_type": "stream",
     "text": [
      "  400   3600 -1.151055507350107e-01 6.6e+00 6.53e-06  3e-06  5e-06 0:10.6\n",
      "  406   3654 -1.151055507291168e-01 7.4e+00 5.98e-06  2e-06  6e-06 0:11.1\n",
      "termination on tolfun=1e-11 (Tue Sep 29 15:06:11 2020)\n",
      "final/bestever f-value = -1.151056e-01 -1.151056e-01\n",
      "incumbent solution: [1.1992945026722737, 3.8366316043464272, 2.1267677842879493, 3.625776030945417, 2.6275365962137585, 5.241562193521531]\n",
      "std deviation: [3.3819952624920105e-06, 3.020860943121071e-06, 4.488929327828126e-06, 2.3363829595323855e-06, 3.681563561762546e-06, 5.947577372452705e-06]\n"
     ]
    },
    {
     "name": "stderr",
     "output_type": "stream",
     "text": [
      "reconstraining parameters GP_regression.Mat52.lengthscale\n",
      "reconstraining parameters GP_regression.Mat52.variance\n",
      "reconstraining parameters GP_regression.Gaussian_noise.variance\n"
     ]
    },
    {
     "name": "stdout",
     "output_type": "stream",
     "text": [
      "Optimization restart 1/10, f = 20.934128096646432\n",
      "Optimization restart 2/10, f = 20.934128096509852\n",
      "Optimization restart 3/10, f = 206.93759423638502\n",
      "Optimization restart 4/10, f = 20.934128096510058\n",
      "Optimization restart 5/10, f = 206.93759423638502\n",
      "Optimization restart 6/10, f = 20.934128096509866\n",
      "Optimization restart 7/10, f = 20.934128096509596\n",
      "Optimization restart 8/10, f = 206.93759423638502\n",
      "Optimization restart 9/10, f = 20.934128096510936\n"
     ]
    },
    {
     "name": "stderr",
     "output_type": "stream",
     "text": [
      "reconstraining parameters GP_regression.Mat52.lengthscale\n",
      "reconstraining parameters GP_regression.Mat52.variance\n",
      "reconstraining parameters GP_regression.Gaussian_noise.variance\n"
     ]
    },
    {
     "name": "stdout",
     "output_type": "stream",
     "text": [
      "Optimization restart 10/10, f = 20.934128096509728\n",
      "Optimization restart 1/10, f = 19.441358744714762\n",
      "Optimization restart 2/10, f = 19.441358744712105\n",
      "Optimization restart 3/10, f = 19.441358744761686\n",
      "Optimization restart 4/10, f = 19.441358744712115\n",
      "Optimization restart 5/10, f = 43.987094529344986\n",
      "Optimization restart 6/10, f = 1548301.6006936242\n",
      "Optimization restart 7/10, f = 19.44135874471357\n",
      "Optimization restart 8/10, f = 19.441358744728447\n",
      "Optimization restart 9/10, f = 190421203.4800719\n",
      "Optimization restart 10/10, f = 43.98709452934487\n",
      "(4_w,9)-aCMA-ES (mu_w=2.8,w_1=49%) in dimension 6 (seed=520073, Tue Sep 29 15:06:22 2020)\n",
      "Iterat #Fevals   function value  axis ratio  sigma  min&max std  t[m:s]\n",
      "    1      9 2.714629163762770e-01 1.0e+00 2.23e-01  2e-01  2e-01 0:00.0\n",
      "    2     18 2.444781411830803e-01 1.2e+00 2.23e-01  2e-01  2e-01 0:00.0\n",
      "    3     27 2.419656667564944e-01 1.3e+00 2.27e-01  2e-01  2e-01 0:00.1\n",
      "  100    900 -1.716326494997868e-01 4.7e+01 1.31e-01  1e-02  1e-01 0:02.9\n",
      "  200   1800 -2.652282546400189e-01 2.7e+01 3.29e-01  2e-02  1e-01 0:04.5\n",
      "  300   2700 -2.828352768627242e-01 4.0e+01 2.97e-01  4e-03  2e-02 0:06.9\n",
      "  400   3600 -2.831457907070565e-01 2.4e+02 3.30e-01  1e-03  8e-03 0:09.9\n",
      "  500   4500 -2.832529368578982e-01 2.2e+02 2.36e+00  2e-03  1e-02 0:11.9\n",
      "  600   5400 -2.833242592243916e-01 4.0e+02 4.26e+00  6e-04  6e-03 0:13.4\n",
      "  700   6300 -2.833483893562179e-01 9.0e+02 6.93e+00  2e-04  3e-03 0:16.2\n",
      "  800   7200 -2.833661760484008e-01 8.3e+02 2.01e+01  9e-05  2e-03 0:19.0\n",
      "  900   8100 -2.833822690949230e-01 7.0e+02 1.38e+02  1e-04  4e-03 0:21.3\n",
      " 1000   9000 -2.833896974748591e-01 1.3e+03 3.29e+02  9e-05  2e-03 0:23.2\n",
      "Iterat #Fevals   function value  axis ratio  sigma  min&max std  t[m:s]\n",
      " 1100   9900 -2.833953375026887e-01 1.1e+03 1.29e+03  4e-05  2e-03 0:25.0\n",
      " 1200  10800 -2.833971647608708e-01 1.6e+03 3.73e+03  2e-05  1e-03 0:27.1\n",
      " 1300  11700 -2.833987634592923e-01 2.3e+03 7.63e+03  1e-05  6e-04 0:28.7\n",
      " 1400  12600 -2.833997144503317e-01 2.3e+03 4.02e+04  1e-05  9e-04 0:30.5\n",
      " 1500  13500 -2.834003588623013e-01 3.2e+03 1.75e+05  1e-05  1e-03 0:32.6\n",
      " 1600  14400 -2.834007507706264e-01 4.2e+03 2.50e+05  3e-06  3e-04 0:34.7\n",
      " 1700  15300 -2.834009379534546e-01 5.6e+03 9.37e+05  1e-06  4e-04 0:36.8\n",
      " 1800  16200 -2.834010517462784e-01 9.9e+03 3.12e+06  1e-06  3e-04 0:38.7\n",
      " 1900  17100 -2.834011189369754e-01 6.9e+03 1.80e+07  1e-06  5e-04 0:41.2\n",
      " 2000  18000 -2.834011675280053e-01 1.1e+04 2.36e+07  4e-07  2e-04 0:42.9\n",
      "Iterat #Fevals   function value  axis ratio  sigma  min&max std  t[m:s]\n",
      " 2064  18576 -2.834011846350055e-01 1.3e+04 7.13e+07  4e-07  2e-04 0:44.1\n"
     ]
    },
    {
     "name": "stderr",
     "output_type": "stream",
     "text": [
      "reconstraining parameters GP_regression.Mat52.lengthscale\n",
      "reconstraining parameters GP_regression.Mat52.variance\n"
     ]
    },
    {
     "name": "stdout",
     "output_type": "stream",
     "text": [
      "termination on tolupsigma=1e+20 (Tue Sep 29 15:07:12 2020)\n",
      "final/bestever f-value = -2.834012e-01 -2.834012e-01\n",
      "incumbent solution: [6.138118290330194e-12, 1.4882540463574816e-09, 5.9999913692995595, 3.9789655915809634, 9.999999999422714, 11.99999999288072]\n",
      "std deviation: [3.098380790255598e-05, 4.437380430575573e-05, 5.386192245659999e-05, 4.213695905680258e-07, 0.00011891393003298229, 0.0001760635637042856]\n"
     ]
    },
    {
     "name": "stderr",
     "output_type": "stream",
     "text": [
      "reconstraining parameters GP_regression.Gaussian_noise.variance\n"
     ]
    },
    {
     "name": "stdout",
     "output_type": "stream",
     "text": [
      "Optimization restart 1/10, f = 21.057209103028985\n",
      "Optimization restart 2/10, f = 21.05720910298687\n",
      "Optimization restart 3/10, f = 21.057209102983812\n",
      "Optimization restart 4/10, f = 21.057209103932827\n",
      "Optimization restart 5/10, f = 213.61300050207478\n",
      "Optimization restart 6/10, f = 21.05720910298919\n"
     ]
    },
    {
     "name": "stderr",
     "output_type": "stream",
     "text": [
      "reconstraining parameters GP_regression.Mat52.lengthscale\n"
     ]
    },
    {
     "name": "stdout",
     "output_type": "stream",
     "text": [
      "Optimization restart 7/10, f = 21.057209102984352\n",
      "Optimization restart 8/10, f = 45.40603306255224\n",
      "Optimization restart 9/10, f = 21.057209103022316\n",
      "Optimization restart 10/10, f = 21.057209102984185\n"
     ]
    },
    {
     "name": "stderr",
     "output_type": "stream",
     "text": [
      "reconstraining parameters GP_regression.Mat52.variance\n",
      "reconstraining parameters GP_regression.Gaussian_noise.variance\n"
     ]
    },
    {
     "name": "stdout",
     "output_type": "stream",
     "text": [
      "Optimization restart 1/10, f = 19.594983100856915\n",
      "Optimization restart 2/10, f = 19.594983100871218\n",
      "Optimization restart 3/10, f = 213.61300050207478\n",
      "Optimization restart 4/10, f = 213.61282540310472\n",
      "Optimization restart 5/10, f = 213.61300050207478\n",
      "Optimization restart 6/10, f = 213.61300050207478\n",
      "Optimization restart 7/10, f = 19.594983100856883\n",
      "Optimization restart 8/10, f = 45.406033062549554\n",
      "Optimization restart 9/10, f = 67.87180432975408\n",
      "Optimization restart 10/10, f = 188007728.56789833\n",
      "(4_w,9)-aCMA-ES (mu_w=2.8,w_1=49%) in dimension 6 (seed=471323, Tue Sep 29 15:07:14 2020)\n",
      "Iterat #Fevals   function value  axis ratio  sigma  min&max std  t[m:s]\n",
      "    1      9 3.217668193473866e-02 1.0e+00 2.39e-01  2e-01  3e-01 0:00.0\n",
      "    2     18 5.814127324244911e-03 1.3e+00 2.26e-01  2e-01  2e-01 0:00.0\n",
      "    3     27 -1.062549351319753e-02 1.4e+00 1.89e-01  2e-01  2e-01 0:00.1\n",
      "  100    900 -1.417685125264248e-01 6.2e+02 3.22e-03  4e-04  6e-03 0:01.6\n",
      "  200   1800 -1.417952426525813e-01 1.1e+04 6.78e-04  3e-05  3e-04 0:03.2\n",
      "  300   2700 -1.417952620828768e-01 1.5e+00 1.34e-05  1e-05  2e-05 0:04.8\n"
     ]
    },
    {
     "name": "stderr",
     "output_type": "stream",
     "text": [
      " /home/finley/miniconda3/envs/testsuite/lib/python3.8/site-packages/cma/utilities/utils.py:329: UserWarning:\n",
      "        geno-pheno transformation introduced based on the\n",
      "        current covariance matrix with condition 1.1e+12 -> 1.0e+00,\n",
      "        injected solutions become \"invalid\" in this iteration (class=CMAEvolutionStrategy method=alleviate_conditioning iteration=293)\n"
     ]
    },
    {
     "name": "stdout",
     "output_type": "stream",
     "text": [
      "  313   2817 -1.417952620838057e-01 2.6e+00 8.53e-06  6e-06  9e-06 0:05.0\n"
     ]
    },
    {
     "name": "stderr",
     "output_type": "stream",
     "text": [
      "reconstraining parameters GP_regression.Mat52.lengthscale\n",
      "reconstraining parameters GP_regression.Mat52.variance\n",
      "reconstraining parameters GP_regression.Gaussian_noise.variance\n"
     ]
    },
    {
     "name": "stdout",
     "output_type": "stream",
     "text": [
      "termination on tolfun=1e-11 (Tue Sep 29 15:07:20 2020)\n",
      "final/bestever f-value = -1.417953e-01 -1.417953e-01\n",
      "incumbent solution: [1.7122678237174114, 1.7864556112278933, 2.592639367947413, 3.279794050298733, 4.801727886282606, 2.6787443298053404]\n",
      "std deviation: [6.476820948524394e-06, 5.676256168891394e-06, 5.781490406848477e-06, 8.840878313482005e-06, 7.017036002431198e-06, 8.787429193784204e-06]\n",
      "Optimization restart 1/10, f = 22.085736302770897\n",
      "Optimization restart 2/10, f = 22.085736302769728\n",
      "Optimization restart 3/10, f = 46.82497159575066\n",
      "Optimization restart 4/10, f = 22.08573630277734\n",
      "Optimization restart 5/10, f = 220.28840676776463\n"
     ]
    },
    {
     "name": "stderr",
     "output_type": "stream",
     "text": [
      "reconstraining parameters GP_regression.Mat52.lengthscale\n"
     ]
    },
    {
     "name": "stdout",
     "output_type": "stream",
     "text": [
      "Optimization restart 6/10, f = 22.08573630277974\n",
      "Optimization restart 7/10, f = 220.28840676776463\n",
      "Optimization restart 8/10, f = 1648192.0265448259\n",
      "Optimization restart 9/10, f = 220.28840676776463\n",
      "Optimization restart 10/10, f = 22.085736302777935\n"
     ]
    },
    {
     "name": "stderr",
     "output_type": "stream",
     "text": [
      "reconstraining parameters GP_regression.Mat52.variance\n",
      "reconstraining parameters GP_regression.Gaussian_noise.variance\n"
     ]
    },
    {
     "name": "stdout",
     "output_type": "stream",
     "text": [
      "Optimization restart 1/10, f = 19.118090374620305\n",
      "Optimization restart 2/10, f = 189707685.6247982\n",
      "Optimization restart 3/10, f = 19.11809037450379\n",
      "Optimization restart 4/10, f = 19.11809037450353\n",
      "Optimization restart 5/10, f = 220.28840642055292\n",
      "Optimization restart 6/10, f = 46.82497159575421\n",
      "Optimization restart 7/10, f = 67.35280283054618\n",
      "Optimization restart 8/10, f = 189976041.4456435\n",
      "Optimization restart 9/10, f = 46.82497159575446\n",
      "Optimization restart 10/10, f = 220.28840676776463\n",
      "(4_w,9)-aCMA-ES (mu_w=2.8,w_1=49%) in dimension 6 (seed=509001, Tue Sep 29 15:07:21 2020)\n",
      "Iterat #Fevals   function value  axis ratio  sigma  min&max std  t[m:s]\n",
      "    1      9 -4.135561242921626e-02 1.0e+00 2.69e-01  3e-01  3e-01 0:00.0\n",
      "    2     18 -2.745705439164436e-02 1.4e+00 2.57e-01  2e-01  3e-01 0:00.1\n",
      "    3     27 -9.533801391542052e-02 1.4e+00 2.66e-01  3e-01  3e-01 0:00.1\n",
      "  100    900 -2.822629434522634e-01 6.1e+01 2.37e-01  2e-02  3e-01 0:01.6\n",
      "  200   1800 -3.242582334309945e-01 3.8e+01 2.38e-01  2e-03  6e-02 0:04.0\n",
      "  300   2700 -3.244260299598318e-01 4.9e+03 5.00e-03  1e-07  4e-04 0:05.7\n",
      "NOTE (module=cma, iteration=319):  \n",
      "condition in coordinate system exceeded 1.1e+08, rescaled to 1.0e+00, \n",
      "condition changed from 1.5e+08 to 3.9e+00\n",
      "  385   3465 -3.244260456581221e-01 8.2e+01 3.20e-05  2e-12  2e-06 0:07.5\n"
     ]
    },
    {
     "name": "stderr",
     "output_type": "stream",
     "text": [
      "reconstraining parameters GP_regression.Mat52.lengthscale\n",
      "reconstraining parameters GP_regression.Mat52.variance\n",
      "reconstraining parameters GP_regression.Gaussian_noise.variance\n"
     ]
    },
    {
     "name": "stdout",
     "output_type": "stream",
     "text": [
      "termination on tolfun=1e-11 (Tue Sep 29 15:07:29 2020)\n",
      "final/bestever f-value = -3.244260e-01 -3.244260e-01\n",
      "incumbent solution: [1.704144639620069e-14, 1.0996290116294884e-12, 5.999999999999798, 7.658562229575331, 9.999999999999334, 11.999999999997478]\n",
      "std deviation: [1.635372169143819e-07, 2.6251214277010925e-07, 1.197119921379167e-06, 2.3383930723580888e-12, 1.4715840600668252e-06, 1.5603387540799371e-06]\n",
      "Optimization restart 1/10, f = 21.949829547695415\n",
      "Optimization restart 2/10, f = 48.243910128958866\n",
      "Optimization restart 3/10, f = 226.96381303345447\n",
      "Optimization restart 4/10, f = 1698137.2394704265\n",
      "Optimization restart 5/10, f = 440209375.2872488\n",
      "Optimization restart 6/10, f = 226.96381303345447\n",
      "Optimization restart 7/10, f = 21.949829506779384\n",
      "Optimization restart 8/10, f = 21.949829506786823\n",
      "Optimization restart 9/10, f = 48.24391012521288\n"
     ]
    },
    {
     "name": "stderr",
     "output_type": "stream",
     "text": [
      "reconstraining parameters GP_regression.Mat52.lengthscale\n",
      "reconstraining parameters GP_regression.Mat52.variance\n",
      "reconstraining parameters GP_regression.Gaussian_noise.variance\n"
     ]
    },
    {
     "name": "stdout",
     "output_type": "stream",
     "text": [
      "Optimization restart 10/10, f = 48.243910129037104\n",
      "Optimization restart 1/10, f = 19.324760293987612\n",
      "Optimization restart 2/10, f = 226.96381303345447\n",
      "Optimization restart 3/10, f = 48.24391012895899\n",
      "Optimization restart 4/10, f = 19.324760293943704\n",
      "Optimization restart 5/10, f = 19.324760294244957\n",
      "Optimization restart 6/10, f = 226.96381303345447\n",
      "Optimization restart 7/10, f = 1698137.2394704267\n",
      "Optimization restart 8/10, f = 226.96381303345447\n",
      "Optimization restart 9/10, f = 19.32476029394693\n",
      "Optimization restart 10/10, f = 226.96381303345447\n",
      "(4_w,9)-aCMA-ES (mu_w=2.8,w_1=49%) in dimension 6 (seed=548720, Tue Sep 29 15:07:31 2020)\n",
      "Iterat #Fevals   function value  axis ratio  sigma  min&max std  t[m:s]\n",
      "    1      9 2.371345745801978e-02 1.0e+00 2.28e-01  2e-01  2e-01 0:00.0\n",
      "    2     18 -3.746287748358990e-02 1.2e+00 2.29e-01  2e-01  2e-01 0:00.0\n",
      "    3     27 -1.620583593423754e-01 1.2e+00 2.70e-01  3e-01  3e-01 0:00.1\n",
      "  100    900 -4.788994481986857e-01 2.6e+01 9.67e-02  1e-02  7e-02 0:01.5\n",
      "  200   1800 -4.841173483465226e-01 1.1e+02 1.48e-01  4e-03  5e-02 0:02.9\n",
      "  300   2700 -4.860269958254644e-01 1.8e+02 5.57e-01  4e-03  4e-02 0:04.4\n",
      "  400   3600 -4.893921773483394e-01 2.1e+02 3.36e+00  6e-03  9e-02 0:06.4\n",
      "  500   4500 -4.928111218034035e-01 1.1e+02 3.82e+00  8e-04  2e-02 0:08.4\n",
      "  600   5400 -4.941620607696418e-01 2.8e+02 1.79e+01  4e-04  2e-02 0:10.1\n",
      "  700   6300 -4.944193559721763e-01 2.3e+03 4.18e+00  1e-06  2e-03 0:12.2\n",
      "NOTE (module=cma, iteration=766):  \n",
      "condition in coordinate system exceeded 1.1e+08, rescaled to 1.0e+00, \n",
      "condition changed from 2.5e+08 to 9.0e+00\n",
      "  800   7200 -4.944199945470622e-01 1.3e+01 2.29e-01  8e-10  4e-05 0:13.8\n",
      "  878   7902 -4.944199950147263e-01 3.8e+02 2.27e-02  1e-12  2e-06 0:15.1\n"
     ]
    },
    {
     "name": "stderr",
     "output_type": "stream",
     "text": [
      "reconstraining parameters GP_regression.Mat52.lengthscale\n",
      "reconstraining parameters GP_regression.Mat52.variance\n",
      "reconstraining parameters GP_regression.Gaussian_noise.variance\n"
     ]
    },
    {
     "name": "stdout",
     "output_type": "stream",
     "text": [
      "termination on tolfun=1e-11 (Tue Sep 29 15:07:48 2020)\n",
      "final/bestever f-value = -4.944200e-01 -4.944200e-01\n",
      "incumbent solution: [2.0306499637421107e-12, 2.466296469968211, 5.99999999999659, 7.999999999999681, 9.999999999998696, 11.999999999999979]\n",
      "std deviation: [2.623398954975485e-07, 1.1736967848365957e-12, 1.5627737759151237e-06, 8.841525187468915e-07, 1.4085119212151738e-06, 1.4275948586348316e-06]\n",
      "Optimization restart 1/10, f = 24.296395565781655\n",
      "Optimization restart 2/10, f = 24.29639556577964\n",
      "Optimization restart 3/10, f = 24.29639556577952\n",
      "Optimization restart 4/10, f = 24.296395565779445\n",
      "Optimization restart 5/10, f = 24.296395565779488\n",
      "Optimization restart 6/10, f = 24.296395565779804\n",
      "Optimization restart 7/10, f = 49.66284866216354\n",
      "Optimization restart 8/10, f = 24.296395565779697\n"
     ]
    },
    {
     "name": "stderr",
     "output_type": "stream",
     "text": [
      "reconstraining parameters GP_regression.Mat52.lengthscale\n",
      "reconstraining parameters GP_regression.Mat52.variance\n",
      "reconstraining parameters GP_regression.Gaussian_noise.variance\n"
     ]
    },
    {
     "name": "stdout",
     "output_type": "stream",
     "text": [
      "Optimization restart 9/10, f = 233.63921929914432\n",
      "Optimization restart 10/10, f = 24.296395565779452\n",
      "Optimization restart 1/10, f = 20.822345101730892\n",
      "Optimization restart 2/10, f = 49.66284866216354\n",
      "Optimization restart 3/10, f = 49.66284866216357\n",
      "Optimization restart 4/10, f = 49.66284866216355\n",
      "Optimization restart 5/10, f = 72.52882596691609\n",
      "Optimization restart 6/10, f = 49.66284866216355\n",
      "Optimization restart 7/10, f = 49.66284866216344\n",
      "Optimization restart 8/10, f = 233.63921929914432\n",
      "Optimization restart 9/10, f = 49.66284866216357\n",
      "Optimization restart 10/10, f = 20.82234510166526\n",
      "(4_w,9)-aCMA-ES (mu_w=2.8,w_1=49%) in dimension 6 (seed=430719, Tue Sep 29 15:07:50 2020)\n",
      "Iterat #Fevals   function value  axis ratio  sigma  min&max std  t[m:s]\n",
      "    1      9 2.240464545221199e-03 1.0e+00 2.64e-01  3e-01  3e-01 0:00.0\n",
      "    2     18 -8.299821872829760e-02 1.4e+00 2.87e-01  3e-01  3e-01 0:00.0\n",
      "    3     27 -8.804692139701364e-02 1.5e+00 3.08e-01  3e-01  4e-01 0:00.0\n",
      "  100    900 -4.919012696808578e-01 2.8e+01 1.70e-01  2e-02  1e-01 0:01.5\n",
      "  200   1800 -4.971138117902214e-01 3.8e+02 1.35e-01  5e-03  5e-02 0:03.2\n",
      "  300   2700 -5.002084636386641e-01 3.0e+02 7.26e-01  5e-03  6e-02 0:04.7\n",
      "  400   3600 -5.028261862367516e-01 4.8e+02 8.70e-01  1e-03  2e-02 0:06.2\n",
      "  500   4500 -5.042869896528224e-01 4.4e+02 5.92e+00  1e-03  4e-02 0:07.7\n",
      "  600   5400 -5.056484808927280e-01 5.2e+02 1.65e+01  6e-04  2e-02 0:09.7\n",
      "  700   6300 -5.063526941384455e-01 7.8e+02 7.28e+01  5e-04  3e-02 0:11.2\n",
      "  800   7200 -5.067331002616993e-01 1.1e+03 1.19e+02  1e-04  1e-02 0:12.7\n",
      "  900   8100 -5.069821320606538e-01 9.8e+02 4.80e+02  7e-05  1e-02 0:14.1\n",
      " 1000   9000 -5.070779773814431e-01 4.0e+03 9.47e+02  1e-05  7e-03 0:15.6\n",
      "Iterat #Fevals   function value  axis ratio  sigma  min&max std  t[m:s]\n",
      " 1100   9900 -5.070895132807831e-01 2.6e+04 3.77e+02  1e-07  8e-04 0:17.1\n",
      "NOTE (module=cma, iteration=1121):  \n",
      "condition in coordinate system exceeded 1.1e+08, rescaled to 1.0e+00, \n",
      "condition changed from 1.8e+09 to 5.6e+01\n",
      " 1200  10800 -5.070896328211003e-01 4.1e+01 1.50e+02  6e-09  1e-04 0:18.7\n",
      " 1300  11700 -5.070896441560033e-01 4.0e+01 3.38e+02  7e-10  6e-05 0:20.2\n",
      " 1400  12600 -5.070896449479414e-01 2.4e+02 1.81e+02  7e-11  9e-06 0:21.8\n",
      " 1453  13077 -5.070896449790832e-01 6.1e+02 1.73e+02  2e-11  5e-06 0:22.6\n"
     ]
    },
    {
     "name": "stderr",
     "output_type": "stream",
     "text": [
      "reconstraining parameters GP_regression.Mat52.lengthscale\n",
      "reconstraining parameters GP_regression.Mat52.variance\n",
      "reconstraining parameters GP_regression.Gaussian_noise.variance\n"
     ]
    },
    {
     "name": "stdout",
     "output_type": "stream",
     "text": [
      "termination on tolfun=1e-11 (Tue Sep 29 15:08:15 2020)\n",
      "final/bestever f-value = -5.070896e-01 -5.070896e-01\n",
      "incumbent solution: [0.9855854717973758, 4.461348104577892e-10, 5.999999998694948, 7.999999999995069, 9.999999999982142, 11.999999999996845]\n",
      "std deviation: [1.7889960453391767e-11, 4.777993450215659e-07, 3.540526379234801e-06, 2.5431802570562476e-06, 4.452131565696482e-06, 5.229202882993187e-06]\n",
      "Optimization restart 1/10, f = 26.328891238207806\n",
      "Optimization restart 2/10, f = 26.32889123820768\n",
      "Optimization restart 3/10, f = 240.31462556483416\n",
      "Optimization restart 4/10, f = 240.31462556483416\n",
      "Optimization restart 5/10, f = 26.328891238208335\n",
      "Optimization restart 6/10, f = 51.08178719536899\n",
      "Optimization restart 7/10, f = 531794236.38976514\n",
      "Optimization restart 8/10, f = 26.328891238208744\n"
     ]
    },
    {
     "name": "stderr",
     "output_type": "stream",
     "text": [
      "reconstraining parameters GP_regression.Mat52.lengthscale\n",
      "reconstraining parameters GP_regression.Mat52.variance\n",
      "reconstraining parameters GP_regression.Gaussian_noise.variance\n"
     ]
    },
    {
     "name": "stdout",
     "output_type": "stream",
     "text": [
      "Optimization restart 9/10, f = 26.32889123821134\n",
      "Optimization restart 10/10, f = 26.328891238208104\n",
      "Optimization restart 1/10, f = 21.863595083776385\n",
      "Optimization restart 2/10, f = 240.31462555986354\n",
      "Optimization restart 3/10, f = 240.3146255647915\n",
      "Optimization restart 4/10, f = 21.863595083765706\n",
      "Optimization restart 5/10, f = 51.08178719537046\n",
      "Optimization restart 6/10, f = 51.081787195368214\n",
      "Optimization restart 7/10, f = 74.71341452299703\n",
      "Optimization restart 8/10, f = 51.08178719536822\n",
      "Optimization restart 9/10, f = 1798027.665321628\n",
      "Optimization restart 10/10, f = 240.31462556483416\n",
      "(4_w,9)-aCMA-ES (mu_w=2.8,w_1=49%) in dimension 6 (seed=532727, Tue Sep 29 15:08:17 2020)\n",
      "Iterat #Fevals   function value  axis ratio  sigma  min&max std  t[m:s]\n",
      "    1      9 1.687572741767309e-01 1.0e+00 2.22e-01  2e-01  2e-01 0:00.0\n",
      "    2     18 1.379322476869067e-01 1.2e+00 2.39e-01  2e-01  3e-01 0:00.0\n",
      "    3     27 1.433776812981797e-01 1.4e+00 2.96e-01  3e-01  3e-01 0:00.0\n",
      "  100    900 -1.834780722688494e-01 5.8e+01 2.25e-02  2e-03  1e-02 0:01.9\n",
      "  200   1800 -1.836236469129131e-01 1.1e+04 3.71e-04  1e-05  1e-04 0:04.0\n",
      "  278   2502 -1.836236520896970e-01 6.9e+05 4.05e-06  1e-07  7e-07 0:05.2\n"
     ]
    },
    {
     "name": "stderr",
     "output_type": "stream",
     "text": [
      "reconstraining parameters GP_regression.Mat52.lengthscale\n",
      "reconstraining parameters GP_regression.Mat52.variance\n",
      "reconstraining parameters GP_regression.Gaussian_noise.variance\n"
     ]
    },
    {
     "name": "stdout",
     "output_type": "stream",
     "text": [
      "termination on tolfun=1e-11 (Tue Sep 29 15:08:23 2020)\n",
      "final/bestever f-value = -1.836237e-01 -1.836237e-01\n",
      "incumbent solution: [1.3080837281881115, 2.3089212558889027, 2.241017814125702, 2.9553865714626015, 4.081845777768082, 4.957192834641359]\n",
      "std deviation: [9.703333949312203e-08, 3.407272683298045e-07, 4.06425524963454e-07, 4.636063142628777e-07, 4.990287254253719e-07, 6.660794587566824e-07]\n",
      "Optimization restart 1/10, f = 25.903564432901565\n",
      "Optimization restart 2/10, f = 25.90356443290189\n",
      "Optimization restart 3/10, f = 25.903564432901337\n",
      "Optimization restart 4/10, f = 586031797.8683195\n",
      "Optimization restart 5/10, f = 52.50072572857289\n",
      "Optimization restart 6/10, f = 586722290.1993916\n",
      "Optimization restart 7/10, f = 25.903564432901625\n",
      "Optimization restart 8/10, f = 68.94121232184763\n"
     ]
    },
    {
     "name": "stderr",
     "output_type": "stream",
     "text": [
      "reconstraining parameters GP_regression.Mat52.lengthscale\n",
      "reconstraining parameters GP_regression.Mat52.variance\n",
      "reconstraining parameters GP_regression.Gaussian_noise.variance\n"
     ]
    },
    {
     "name": "stdout",
     "output_type": "stream",
     "text": [
      "Optimization restart 9/10, f = 25.90356443290144\n",
      "Optimization restart 10/10, f = 246.990031830524\n",
      "Optimization restart 1/10, f = 22.063961674203817\n",
      "Optimization restart 2/10, f = 52.50072572857384\n",
      "Optimization restart 3/10, f = 22.063961674203718\n",
      "Optimization restart 4/10, f = 22.0639616742346\n",
      "Optimization restart 5/10, f = 22.063961674203572\n",
      "Optimization restart 6/10, f = 22.063961674203977\n",
      "Optimization restart 7/10, f = 52.500725728572895\n",
      "Optimization restart 8/10, f = 246.990031830524\n",
      "Optimization restart 9/10, f = 22.06396167420412\n",
      "Optimization restart 10/10, f = 52.5007257285729\n",
      "(4_w,9)-aCMA-ES (mu_w=2.8,w_1=49%) in dimension 6 (seed=522603, Tue Sep 29 15:08:25 2020)\n",
      "Iterat #Fevals   function value  axis ratio  sigma  min&max std  t[m:s]\n",
      "    1      9 4.142049625319197e-01 1.0e+00 2.28e-01  2e-01  2e-01 0:00.0\n",
      "    2     18 4.097687832349379e-01 1.3e+00 2.01e-01  2e-01  2e-01 0:00.0\n",
      "    3     27 3.672269178963412e-01 1.4e+00 2.29e-01  2e-01  3e-01 0:00.1\n",
      "  100    900 -2.202123204153128e-01 3.7e+01 4.03e-01  4e-02  6e-01 0:01.6\n",
      "  200   1800 -2.364922671528293e-01 1.0e+02 5.97e-03  2e-04  2e-03 0:03.3\n",
      "  300   2700 -2.365005226642483e-01 5.1e+02 5.39e-03  1e-04  3e-04 0:04.8\n",
      "  400   3600 -2.365051634260911e-01 5.1e+02 6.70e-02  3e-04  1e-03 0:06.3\n",
      "  500   4500 -2.365079811931154e-01 8.0e+02 1.81e-01  3e-04  6e-04 0:07.8\n",
      "  600   5400 -2.365114460007793e-01 3.4e+02 4.34e-01  1e-04  3e-04 0:09.2\n",
      "  700   6300 -2.365149919207052e-01 3.6e+02 3.65e+00  3e-04  8e-04 0:11.1\n",
      "  800   7200 -2.365171617312847e-01 1.0e+03 2.29e+00  4e-05  1e-04 0:12.8\n",
      "  900   8100 -2.365186854651238e-01 1.1e+03 2.71e+01  1e-04  5e-04 0:14.3\n",
      " 1000   9000 -2.365196877403122e-01 9.7e+02 3.57e+01  4e-05  1e-04 0:15.8\n",
      "Iterat #Fevals   function value  axis ratio  sigma  min&max std  t[m:s]\n",
      " 1100   9900 -2.365203895671084e-01 1.8e+03 1.38e+02  3e-05  2e-04 0:19.8\n",
      " 1200  10800 -2.365215841594015e-01 9.4e+02 8.13e+02  3e-05  3e-04 0:24.0\n",
      " 1300  11700 -2.365230951954018e-01 5.4e+02 6.25e+03  6e-05  5e-04 0:27.1\n",
      " 1400  12600 -2.365243977517539e-01 1.5e+03 9.30e+03  3e-05  2e-04 0:30.6\n",
      " 1500  13500 -2.365249053122280e-01 1.4e+03 1.14e+04  1e-05  7e-05 0:32.2\n",
      " 1600  14400 -2.365254058903288e-01 1.5e+03 1.11e+05  2e-05  2e-04 0:34.0\n",
      " 1700  15300 -2.365262028385464e-01 1.1e+03 5.08e+05  2e-05  2e-04 0:35.7\n",
      " 1800  16200 -2.365266546772382e-01 1.7e+03 1.09e+06  2e-05  1e-04 0:37.5\n",
      " 1900  17100 -2.365272790609310e-01 1.1e+03 1.08e+07  2e-05  2e-04 0:39.0\n",
      " 2000  18000 -2.365276318584089e-01 1.2e+03 1.27e+07  1e-05  7e-05 0:40.5\n",
      "Iterat #Fevals   function value  axis ratio  sigma  min&max std  t[m:s]\n",
      " 2088  18792 -2.365278963727144e-01 1.5e+03 6.93e+07  2e-05  1e-04 0:41.9\n"
     ]
    },
    {
     "name": "stderr",
     "output_type": "stream",
     "text": [
      "reconstraining parameters GP_regression.Mat52.lengthscale\n",
      "reconstraining parameters GP_regression.Mat52.variance\n",
      "reconstraining parameters GP_regression.Gaussian_noise.variance\n"
     ]
    },
    {
     "name": "stdout",
     "output_type": "stream",
     "text": [
      "termination on tolupsigma=1e+20 (Tue Sep 29 15:09:13 2020)\n",
      "final/bestever f-value = -2.365279e-01 -2.365279e-01\n",
      "incumbent solution: [2.2026207310553463e-07, 5.168827695685486e-09, 0.001752678778324699, 3.6849921958138073e-07, 4.81496499246891, 2.760755275170587e-07]\n",
      "std deviation: [4.354212802741616e-05, 6.195530897775191e-05, 5.059990972701589e-05, 0.00014465347035268387, 1.5856868203100736e-05, 0.00011453470381238061]\n",
      "Optimization restart 1/10, f = 26.492001275433307\n",
      "Optimization restart 2/10, f = 53.919664261777555\n",
      "Optimization restart 3/10, f = 253.66543809621388\n",
      "Optimization restart 4/10, f = 26.492001275269004\n",
      "Optimization restart 5/10, f = 26.492001275267665\n",
      "Optimization restart 6/10, f = 53.919664261777655\n",
      "Optimization restart 7/10, f = 53.919664261777555\n",
      "Optimization restart 8/10, f = 253.66543706328548\n"
     ]
    },
    {
     "name": "stderr",
     "output_type": "stream",
     "text": [
      "reconstraining parameters GP_regression.Mat52.lengthscale\n",
      "reconstraining parameters GP_regression.Mat52.variance\n",
      "reconstraining parameters GP_regression.Gaussian_noise.variance\n"
     ]
    },
    {
     "name": "stdout",
     "output_type": "stream",
     "text": [
      "Optimization restart 9/10, f = 568523430.4041517\n",
      "Optimization restart 10/10, f = 253.66543809621388\n",
      "Optimization restart 1/10, f = 22.332934186863945\n",
      "Optimization restart 2/10, f = 253.66543809621388\n",
      "Optimization restart 3/10, f = 53.91966426172091\n",
      "Optimization restart 4/10, f = 261171582.52343354\n",
      "Optimization restart 5/10, f = 22.33293418686066\n",
      "Optimization restart 6/10, f = 22.332934186862477\n",
      "Optimization restart 7/10, f = 253.66543809621388\n",
      "Optimization restart 8/10, f = 253.66543809621388\n",
      "Optimization restart 9/10, f = 22.33293418702776\n",
      "Optimization restart 10/10, f = 53.91966426177757\n",
      "(4_w,9)-aCMA-ES (mu_w=2.8,w_1=49%) in dimension 6 (seed=447751, Tue Sep 29 15:09:18 2020)\n",
      "Iterat #Fevals   function value  axis ratio  sigma  min&max std  t[m:s]\n",
      "    1      9 2.117089536500318e-01 1.0e+00 2.40e-01  2e-01  2e-01 0:00.1\n",
      "    2     18 2.184019172345915e-01 1.2e+00 2.13e-01  2e-01  2e-01 0:00.1\n",
      "    3     27 2.158864013177584e-01 1.2e+00 2.14e-01  2e-01  2e-01 0:00.2\n",
      "  100    900 -9.486268494008998e-02 4.8e+01 1.68e-02  3e-03  2e-02 0:02.1\n",
      "  200   1800 -9.494816920630278e-02 2.5e+03 3.76e-04  2e-05  1e-04 0:03.7\n",
      "  300   2700 -9.494817190031180e-02 6.1e+04 6.72e-05  2e-06  9e-06 0:08.0\n",
      "  333   2997 -9.494817191381810e-02 3.1e+05 1.06e-05  2e-07  9e-07 0:11.8\n",
      "termination on tolfun=1e-11 (Tue Sep 29 15:09:31 2020)\n",
      "final/bestever f-value = -9.494817e-02 -9.494817e-02\n",
      "incumbent solution: [1.0722206306312638, 3.999999999999847, 1.8275279255443604, 4.192983849791881, 2.6960930094307076, 5.3015515744868775]\n",
      "std deviation: [1.745900869557714e-07, 1.9697026610482928e-07, 4.565217439771623e-07, 2.3247957008116672e-07, 6.206212165627193e-07, 9.137674333189374e-07]\n"
     ]
    },
    {
     "name": "stderr",
     "output_type": "stream",
     "text": [
      "reconstraining parameters GP_regression.Mat52.lengthscale\n",
      "reconstraining parameters GP_regression.Mat52.variance\n",
      "reconstraining parameters GP_regression.Gaussian_noise.variance\n"
     ]
    },
    {
     "name": "stdout",
     "output_type": "stream",
     "text": [
      "Optimization restart 1/10, f = 27.327920127926188\n",
      "Optimization restart 2/10, f = 1947863.30409843\n",
      "Optimization restart 3/10, f = 1947863.30409843\n",
      "Optimization restart 4/10, f = 260.34084436190375\n",
      "Optimization restart 5/10, f = 578472609.5255691\n",
      "Optimization restart 6/10, f = 55.33860279498225\n",
      "Optimization restart 7/10, f = 27.327920127923868\n",
      "Optimization restart 8/10, f = 260.34084436190375\n",
      "Optimization restart 9/10, f = 55.338602794983\n"
     ]
    },
    {
     "name": "stderr",
     "output_type": "stream",
     "text": [
      "reconstraining parameters GP_regression.Mat52.lengthscale\n",
      "reconstraining parameters GP_regression.Mat52.variance\n",
      "reconstraining parameters GP_regression.Gaussian_noise.variance\n"
     ]
    },
    {
     "name": "stdout",
     "output_type": "stream",
     "text": [
      "Optimization restart 10/10, f = 27.327920127924706\n",
      "Optimization restart 1/10, f = 20.64470737682846\n",
      "Optimization restart 2/10, f = 20.644707376828023\n",
      "Optimization restart 3/10, f = 20.644707376827846\n",
      "Optimization restart 4/10, f = 55.33860279498226\n",
      "Optimization restart 5/10, f = 260.34084436190375\n",
      "Optimization restart 6/10, f = 270063841.3743774\n",
      "Optimization restart 7/10, f = 55.338601769626024\n",
      "Optimization restart 8/10, f = 55.338602794982236\n",
      "Optimization restart 9/10, f = 20.644707376849208\n",
      "Optimization restart 10/10, f = 20.644707376827732\n",
      "(4_w,9)-aCMA-ES (mu_w=2.8,w_1=49%) in dimension 6 (seed=497710, Tue Sep 29 15:09:41 2020)\n",
      "Iterat #Fevals   function value  axis ratio  sigma  min&max std  t[m:s]\n",
      "    1      9 4.586347370641084e-01 1.0e+00 2.58e-01  2e-01  3e-01 0:00.0\n",
      "    2     18 4.284551088728072e-01 1.4e+00 2.75e-01  2e-01  3e-01 0:00.0\n",
      "    3     27 3.743488367262575e-01 1.5e+00 2.91e-01  2e-01  3e-01 0:00.2\n",
      "  100    900 -3.784321924681033e-01 3.3e+01 5.44e-02  2e-03  5e-02 0:02.2\n",
      "  200   1800 -3.849033104599133e-01 7.5e+02 6.11e-03  5e-06  2e-03 0:03.8\n",
      "NOTE (module=cma, iteration=284):  \n",
      "condition in coordinate system exceeded 1.0e+08, rescaled to 1.0e+00, \n",
      "condition changed from 1.6e+09 to 6.5e+01\n",
      "  300   2700 -3.849036335662155e-01 9.5e+00 2.49e-04  3e-09  4e-05 0:05.4\n",
      "  400   3600 -3.849036346676078e-01 6.5e+01 2.26e-04  2e-10  9e-06 0:07.4\n",
      "  469   4221 -3.849036347566543e-01 2.1e+02 8.38e-05  9e-12  2e-06 0:08.4\n"
     ]
    },
    {
     "name": "stderr",
     "output_type": "stream",
     "text": [
      "reconstraining parameters GP_regression.Mat52.lengthscale\n",
      "reconstraining parameters GP_regression.Mat52.variance\n",
      "reconstraining parameters GP_regression.Gaussian_noise.variance\n"
     ]
    },
    {
     "name": "stdout",
     "output_type": "stream",
     "text": [
      "termination on tolfun=1e-11 (Tue Sep 29 15:09:50 2020)\n",
      "final/bestever f-value = -3.849036e-01 -3.849036e-01\n",
      "incumbent solution: [6.942745138580047e-11, 1.9158253656172455, 5.999999999995183, 8.728058962492465e-13, 2.3770832706200723e-12, 1.3799876131658084e-11]\n",
      "std deviation: [1.510834798979865e-07, 8.735078404550527e-12, 1.9863354809006966e-06, 4.46758641629158e-07, 5.610972366489702e-07, 8.332672888044332e-07]\n",
      "Optimization restart 1/10, f = 29.490615115712984\n",
      "Optimization restart 2/10, f = 29.49061511571301\n",
      "Optimization restart 3/10, f = 29.490615115712277\n",
      "Optimization restart 4/10, f = 56.75754132818895\n",
      "Optimization restart 5/10, f = 267.0162506275935\n",
      "Optimization restart 6/10, f = 56.7575413281869\n",
      "Optimization restart 7/10, f = 29.49061511571258\n",
      "Optimization restart 8/10, f = 56.7575413281869\n"
     ]
    },
    {
     "name": "stderr",
     "output_type": "stream",
     "text": [
      "reconstraining parameters GP_regression.Mat52.lengthscale\n",
      "reconstraining parameters GP_regression.Mat52.variance\n"
     ]
    },
    {
     "name": "stdout",
     "output_type": "stream",
     "text": [
      "Optimization restart 9/10, f = 56.75754132818701\n",
      "Optimization restart 10/10, f = 1997808.517024031\n"
     ]
    },
    {
     "name": "stderr",
     "output_type": "stream",
     "text": [
      "reconstraining parameters GP_regression.Gaussian_noise.variance\n"
     ]
    },
    {
     "name": "stdout",
     "output_type": "stream",
     "text": [
      "Optimization restart 1/10, f = 21.685236649107708\n",
      "Optimization restart 2/10, f = 267.0162506275935\n",
      "Optimization restart 3/10, f = 1997808.5170240311\n",
      "Optimization restart 4/10, f = 21.685236649103636\n",
      "Optimization restart 5/10, f = 21.68523664910215\n",
      "Optimization restart 6/10, f = 290333870.77247983\n",
      "Optimization restart 7/10, f = 21.685236649105676\n",
      "Optimization restart 8/10, f = 267.016250317668\n",
      "Optimization restart 9/10, f = 56.757541328187486\n",
      "Optimization restart 10/10, f = 21.68523664910239\n",
      "(4_w,9)-aCMA-ES (mu_w=2.8,w_1=49%) in dimension 6 (seed=500870, Tue Sep 29 15:09:52 2020)\n",
      "Iterat #Fevals   function value  axis ratio  sigma  min&max std  t[m:s]\n",
      "    1      9 2.261582469039427e-01 1.0e+00 2.32e-01  2e-01  2e-01 0:00.0\n",
      "    2     18 2.152961530097666e-01 1.2e+00 2.35e-01  2e-01  3e-01 0:00.0\n",
      "    3     27 2.023596856082119e-01 1.4e+00 2.04e-01  2e-01  2e-01 0:00.0\n",
      "  100    900 -2.144738039246139e-01 3.8e+01 9.39e-02  6e-03  8e-02 0:01.4\n",
      "  200   1800 -2.206729062768393e-01 6.1e+03 1.77e-03  7e-05  6e-04 0:04.4\n"
     ]
    },
    {
     "name": "stderr",
     "output_type": "stream",
     "text": [
      " /home/finley/miniconda3/envs/testsuite/lib/python3.8/site-packages/cma/utilities/utils.py:329: UserWarning:\n",
      "        geno-pheno transformation introduced based on the\n",
      "        current covariance matrix with condition 1.3e+12 -> 1.0e+00,\n",
      "        injected solutions become \"invalid\" in this iteration (class=CMAEvolutionStrategy method=alleviate_conditioning iteration=289)\n"
     ]
    },
    {
     "name": "stdout",
     "output_type": "stream",
     "text": [
      "  300   2700 -2.206730058329753e-01 1.6e+00 1.54e-05  1e-05  1e-05 0:07.8\n",
      "  314   2826 -2.206730058329858e-01 2.9e+00 1.11e-05  6e-06  1e-05 0:08.2\n"
     ]
    },
    {
     "name": "stderr",
     "output_type": "stream",
     "text": [
      "reconstraining parameters GP_regression.Mat52.lengthscale\n",
      "reconstraining parameters GP_regression.Mat52.variance\n",
      "reconstraining parameters GP_regression.Gaussian_noise.variance\n"
     ]
    },
    {
     "name": "stdout",
     "output_type": "stream",
     "text": [
      "termination on tolfun=1e-11 (Tue Sep 29 15:10:01 2020)\n",
      "final/bestever f-value = -2.206730e-01 -2.206730e-01\n",
      "incumbent solution: [1.7044475558948762, 1.4144342824278282, 1.98819713238845, 2.445530447195779, 5.544886193674756, 4.881601195927942]\n",
      "std deviation: [6.257822400145459e-06, 1.142685736747294e-05, 8.61802440435298e-06, 9.465391461764439e-06, 1.0136891070529985e-05, 7.034288665915788e-06]\n",
      "Optimization restart 1/10, f = 30.274797119220487\n",
      "Optimization restart 2/10, f = 58.17647986139158\n",
      "Optimization restart 3/10, f = 30.27479711907936\n",
      "Optimization restart 4/10, f = 30.274797119079356\n",
      "Optimization restart 5/10, f = 30.27479711908092\n",
      "Optimization restart 6/10, f = 30.274797119089705\n",
      "Optimization restart 7/10, f = 30.274797119080173\n",
      "Optimization restart 8/10, f = 30.274797119079405\n"
     ]
    },
    {
     "name": "stderr",
     "output_type": "stream",
     "text": [
      "reconstraining parameters GP_regression.Mat52.lengthscale\n",
      "reconstraining parameters GP_regression.Mat52.variance\n",
      "reconstraining parameters GP_regression.Gaussian_noise.variance\n"
     ]
    },
    {
     "name": "stdout",
     "output_type": "stream",
     "text": [
      "Optimization restart 9/10, f = 649889543.3057927\n",
      "Optimization restart 10/10, f = 30.27479711907984\n",
      "Optimization restart 1/10, f = 20.962048848928948\n",
      "Optimization restart 2/10, f = 58.17548602507539\n",
      "Optimization restart 3/10, f = 2047753.729949632\n",
      "Optimization restart 4/10, f = 273.691656892423\n",
      "Optimization restart 5/10, f = 20.962048848931776\n",
      "Optimization restart 6/10, f = 20.962048848929626\n",
      "Optimization restart 7/10, f = 58.17647986139158\n",
      "Optimization restart 8/10, f = 20.962048848930145\n",
      "Optimization restart 9/10, f = 310915979.6474333\n",
      "Optimization restart 10/10, f = 20.96204884895727\n",
      "(4_w,9)-aCMA-ES (mu_w=2.8,w_1=49%) in dimension 6 (seed=466738, Tue Sep 29 15:10:03 2020)\n",
      "Iterat #Fevals   function value  axis ratio  sigma  min&max std  t[m:s]\n",
      "    1      9 1.496738618419458e-01 1.0e+00 2.30e-01  2e-01  2e-01 0:00.0\n",
      "    2     18 1.726352092061267e-02 1.2e+00 2.48e-01  2e-01  3e-01 0:00.1\n",
      "    3     27 -1.412472872807746e-02 1.5e+00 2.71e-01  3e-01  3e-01 0:00.1\n",
      "  100    900 -1.429614835104540e-01 1.5e+01 3.37e-01  4e-02  3e-01 0:01.9\n",
      "  200   1800 -1.534533821637121e-01 3.3e+01 2.31e-02  4e-04  5e-03 0:03.8\n",
      "  300   2700 -1.534808446586551e-01 2.0e+03 1.34e-03  9e-07  1e-04 0:05.9\n",
      "  400   3600 -1.534810285281467e-01 4.0e+03 1.85e-03  4e-08  4e-05 0:07.6\n",
      "  500   4500 -1.534810333671732e-01 4.8e+04 7.64e-04  1e-09  5e-06 0:09.1\n",
      "NOTE (module=cma, iteration=527):  \n",
      "condition in coordinate system exceeded 1.1e+08, rescaled to 1.0e+00, \n",
      "condition changed from 4.6e+09 to 2.1e+02\n",
      "  574   5166 -1.534810334995269e-01 3.1e+01 3.36e-04  6e-11  1e-06 0:10.9\n"
     ]
    },
    {
     "name": "stderr",
     "output_type": "stream",
     "text": [
      "reconstraining parameters GP_regression.Mat52.lengthscale\n",
      "reconstraining parameters GP_regression.Mat52.variance\n",
      "reconstraining parameters GP_regression.Gaussian_noise.variance\n"
     ]
    },
    {
     "name": "stdout",
     "output_type": "stream",
     "text": [
      "termination on tolfun=1e-11 (Tue Sep 29 15:10:15 2020)\n",
      "final/bestever f-value = -1.534810e-01 -1.534810e-01\n",
      "incumbent solution: [5.445271759396884e-13, 1.7397485663636354e-11, 4.1697191331507074e-10, 4.597594434017165, 7.591753530082811e-11, 1.2189017446824514e-11]\n",
      "std deviation: [4.110936271224303e-07, 7.079892881847394e-07, 6.135155013634901e-07, 6.208513576232572e-11, 6.009852064115133e-07, 1.0800404463895494e-06]\n",
      "Optimization restart 1/10, f = 30.831291717852807\n",
      "Optimization restart 2/10, f = 59.59541839459625\n",
      "Optimization restart 3/10, f = 280.36706315897317\n",
      "Optimization restart 4/10, f = 30.83129159263447\n",
      "Optimization restart 5/10, f = 30.831291592634052\n",
      "Optimization restart 6/10, f = 280.36706315897317\n",
      "Optimization restart 7/10, f = 637670605.6132491\n",
      "Optimization restart 8/10, f = 280.36706315897317\n",
      "Optimization restart 9/10, f = 59.59541839459625\n"
     ]
    },
    {
     "name": "stderr",
     "output_type": "stream",
     "text": [
      "reconstraining parameters GP_regression.Mat52.lengthscale\n",
      "reconstraining parameters GP_regression.Mat52.variance\n",
      "reconstraining parameters GP_regression.Gaussian_noise.variance\n"
     ]
    },
    {
     "name": "stdout",
     "output_type": "stream",
     "text": [
      "Optimization restart 10/10, f = 59.59541839459625\n",
      "Optimization restart 1/10, f = 21.240816829910685\n",
      "Optimization restart 2/10, f = 21.24081682989811\n",
      "Optimization restart 3/10, f = 59.595418394596265\n",
      "Optimization restart 4/10, f = 21.240816829943395\n",
      "Optimization restart 5/10, f = 21.24081682989858\n",
      "Optimization restart 6/10, f = 280.36706315897317\n",
      "Optimization restart 7/10, f = 59.59541839460828\n",
      "Optimization restart 8/10, f = 280.36706315897317\n",
      "Optimization restart 9/10, f = 280.36706315897317\n",
      "Optimization restart 10/10, f = 21.24081682989862\n",
      "(4_w,9)-aCMA-ES (mu_w=2.8,w_1=49%) in dimension 6 (seed=435004, Tue Sep 29 15:10:18 2020)\n",
      "Iterat #Fevals   function value  axis ratio  sigma  min&max std  t[m:s]\n",
      "    1      9 -8.388231251296197e-02 1.0e+00 2.27e-01  2e-01  2e-01 0:00.0\n",
      "    2     18 -8.321413427746749e-02 1.2e+00 2.52e-01  2e-01  3e-01 0:00.0\n",
      "    3     27 -8.858274203034355e-02 1.5e+00 2.52e-01  2e-01  3e-01 0:00.1\n",
      "  100    900 -4.301487808672690e-01 2.1e+01 3.43e-01  3e-02  4e-01 0:01.6\n",
      "  200   1800 -4.603800690290474e-01 3.6e+02 2.80e-01  5e-03  2e-01 0:03.2\n",
      "  300   2700 -4.665003545034141e-01 5.6e+02 3.17e-01  2e-04  4e-02 0:04.7\n",
      "  400   3600 -4.670866463308735e-01 3.4e+03 2.03e-01  2e-05  8e-03 0:06.4\n",
      "  500   4500 -4.671026618824888e-01 7.5e+03 2.65e-01  1e-06  2e-03 0:07.9\n",
      "  600   5400 -4.671031247166217e-01 4.8e+04 1.87e-01  1e-07  7e-04 0:09.5\n",
      "NOTE (module=cma, iteration=608):  \n",
      "condition in coordinate system exceeded 1.1e+08, rescaled to 1.0e+00, \n",
      "condition changed from 2.0e+09 to 7.4e+01\n",
      "  700   6300 -4.671031598682974e-01 6.4e+01 3.72e-02  1e-09  4e-05 0:11.8\n",
      "  800   7200 -4.671031625029155e-01 5.4e+02 4.20e-02  2e-10  2e-05 0:14.3\n",
      "  885   7965 -4.671031627645288e-01 1.1e+03 2.42e-02  1e-11  3e-06 0:16.2\n"
     ]
    },
    {
     "name": "stderr",
     "output_type": "stream",
     "text": [
      "reconstraining parameters GP_regression.Mat52.lengthscale\n",
      "reconstraining parameters GP_regression.Mat52.variance\n",
      "reconstraining parameters GP_regression.Gaussian_noise.variance\n"
     ]
    },
    {
     "name": "stdout",
     "output_type": "stream",
     "text": [
      "termination on tolfun=1e-11 (Tue Sep 29 15:10:36 2020)\n",
      "final/bestever f-value = -4.671032e-01 -4.671032e-01\n",
      "incumbent solution: [1.9881509167313682e-11, 0.7055742011349047, 5.999999997901654, 7.999999999997378, 9.999999999988441, 11.999999999998545]\n",
      "std deviation: [1.9364792959682687e-07, 9.542428668672728e-12, 3.4878642891987898e-06, 6.59712167879768e-07, 2.2965060147216724e-06, 2.504423211130899e-06]\n",
      "Optimization restart 1/10, f = 30.24052460274186\n",
      "Optimization restart 2/10, f = 30.24052460263653\n",
      "Optimization restart 3/10, f = 61.01435692780102\n",
      "Optimization restart 4/10, f = 30.24052460263654\n",
      "Optimization restart 5/10, f = 30.240524602637613\n",
      "Optimization restart 6/10, f = 30.240524602635627\n",
      "Optimization restart 7/10, f = 77.77494554668061\n",
      "Optimization restart 8/10, f = 30.24052460263619\n"
     ]
    },
    {
     "name": "stderr",
     "output_type": "stream",
     "text": [
      "reconstraining parameters GP_regression.Mat52.lengthscale\n",
      "reconstraining parameters GP_regression.Mat52.variance\n",
      "reconstraining parameters GP_regression.Gaussian_noise.variance\n"
     ]
    },
    {
     "name": "stdout",
     "output_type": "stream",
     "text": [
      "Optimization restart 9/10, f = 30.240524602636626\n",
      "Optimization restart 10/10, f = 640956917.0692912\n",
      "Optimization restart 1/10, f = 20.927925577584894\n",
      "Optimization restart 2/10, f = 287.04246942466307\n",
      "Optimization restart 3/10, f = 61.01435692780092\n",
      "Optimization restart 4/10, f = 61.014356927568556\n",
      "Optimization restart 5/10, f = 61.014356927800925\n",
      "Optimization restart 6/10, f = 20.927925577639925\n",
      "Optimization restart 7/10, f = 287.04246942466307\n",
      "Optimization restart 8/10, f = 20.927925577576083\n",
      "Optimization restart 9/10, f = 20.927925577576488\n",
      "Optimization restart 10/10, f = 287.04246942466307\n",
      "(4_w,9)-aCMA-ES (mu_w=2.8,w_1=49%) in dimension 6 (seed=535364, Tue Sep 29 15:10:39 2020)\n",
      "Iterat #Fevals   function value  axis ratio  sigma  min&max std  t[m:s]\n",
      "    1      9 -5.064951523965844e-02 1.0e+00 2.03e-01  2e-01  2e-01 0:00.1\n",
      "    2     18 -5.157721196644172e-02 1.2e+00 1.86e-01  2e-01  2e-01 0:00.2\n",
      "    3     27 -8.271215710914381e-02 1.3e+00 2.09e-01  2e-01  3e-01 0:00.3\n",
      "  100    900 -2.162280641876588e-01 4.1e+01 8.70e-02  1e-02  6e-02 0:02.3\n",
      "  200   1800 -2.172195385710167e-01 4.1e+03 1.90e-03  1e-04  5e-04 0:03.8\n",
      "  300   2700 -2.172196015348291e-01 9.2e+05 2.63e-05  6e-07  4e-06 0:05.2\n"
     ]
    },
    {
     "name": "stderr",
     "output_type": "stream",
     "text": [
      " /home/finley/miniconda3/envs/testsuite/lib/python3.8/site-packages/cma/utilities/utils.py:329: UserWarning:\n",
      "        geno-pheno transformation introduced based on the\n",
      "        current covariance matrix with condition 1.2e+12 -> 1.0e+00,\n",
      "        injected solutions become \"invalid\" in this iteration (class=CMAEvolutionStrategy method=alleviate_conditioning iteration=302)\n"
     ]
    },
    {
     "name": "stdout",
     "output_type": "stream",
     "text": [
      "  318   2862 -2.172196015321357e-01 2.0e+00 2.54e-05  2e-05  3e-05 0:05.6\n"
     ]
    },
    {
     "name": "stderr",
     "output_type": "stream",
     "text": [
      "reconstraining parameters GP_regression.Mat52.lengthscale\n",
      "reconstraining parameters GP_regression.Mat52.variance\n",
      "reconstraining parameters GP_regression.Gaussian_noise.variance\n"
     ]
    },
    {
     "name": "stdout",
     "output_type": "stream",
     "text": [
      "termination on tolfun=1e-11 (Tue Sep 29 15:10:45 2020)\n",
      "final/bestever f-value = -2.172196e-01 -2.172196e-01\n",
      "incumbent solution: [0.696063435408405, 3.735312234799494, 1.8954208405743884, 3.5274219418133725, 2.906139689759584, 6.022013547481038]\n",
      "std deviation: [2.1107647852240854e-05, 2.2716861529701153e-05, 2.6960264958740538e-05, 2.9021668527510645e-05, 2.2935910638233907e-05, 1.8335967782799496e-05]\n",
      "Optimization restart 1/10, f = 31.176309730801087\n",
      "Optimization restart 2/10, f = 2197589.3687264347\n",
      "Optimization restart 3/10, f = 648731994.2121263\n",
      "Optimization restart 4/10, f = 62.43329546100561\n",
      "Optimization restart 5/10, f = 293.7178756903529\n",
      "Optimization restart 6/10, f = 31.176309730635584\n",
      "Optimization restart 7/10, f = 62.433295460856456\n",
      "Optimization restart 8/10, f = 31.17630973063713\n"
     ]
    },
    {
     "name": "stderr",
     "output_type": "stream",
     "text": [
      "reconstraining parameters GP_regression.Mat52.lengthscale\n",
      "reconstraining parameters GP_regression.Mat52.variance\n",
      "reconstraining parameters GP_regression.Gaussian_noise.variance\n"
     ]
    },
    {
     "name": "stdout",
     "output_type": "stream",
     "text": [
      "Optimization restart 9/10, f = 31.17630973078606\n",
      "Optimization restart 10/10, f = 2197589.3687264347\n",
      "Optimization restart 1/10, f = 21.20843435763434\n",
      "Optimization restart 2/10, f = 21.208434357634328\n",
      "Optimization restart 3/10, f = 78.12045700704493\n",
      "Optimization restart 4/10, f = 21.20843435763401\n",
      "Optimization restart 5/10, f = 21.208434357634893\n",
      "Optimization restart 6/10, f = 21.20843435763378\n",
      "Optimization restart 7/10, f = 21.20843435763401\n",
      "Optimization restart 8/10, f = 342035304.67951834\n",
      "Optimization restart 9/10, f = 62.4332954610056\n",
      "Optimization restart 10/10, f = 341552243.700275\n",
      "(4_w,9)-aCMA-ES (mu_w=2.8,w_1=49%) in dimension 6 (seed=508076, Tue Sep 29 15:10:47 2020)\n",
      "Iterat #Fevals   function value  axis ratio  sigma  min&max std  t[m:s]\n",
      "    1      9 2.690302633117767e-01 1.0e+00 2.49e-01  2e-01  3e-01 0:00.0\n",
      "    2     18 2.673218269766049e-01 1.3e+00 2.24e-01  2e-01  2e-01 0:00.0\n",
      "    3     27 2.761710358830869e-01 1.4e+00 2.21e-01  2e-01  2e-01 0:00.1\n",
      "  100    900 -1.613090983461478e-01 7.7e+01 6.28e-02  8e-03  6e-02 0:01.6\n",
      "  200   1800 -1.620635645398316e-01 9.1e+03 1.03e-03  5e-05  5e-04 0:03.1\n",
      "  300   2700 -1.620635873591914e-01 2.1e+00 1.59e-05  1e-05  2e-05 0:04.6\n"
     ]
    },
    {
     "name": "stderr",
     "output_type": "stream",
     "text": [
      " /home/finley/miniconda3/envs/testsuite/lib/python3.8/site-packages/cma/utilities/utils.py:329: UserWarning:\n",
      "        geno-pheno transformation introduced based on the\n",
      "        current covariance matrix with condition 1.1e+12 -> 1.0e+00,\n",
      "        injected solutions become \"invalid\" in this iteration (class=CMAEvolutionStrategy method=alleviate_conditioning iteration=291)\n"
     ]
    },
    {
     "name": "stdout",
     "output_type": "stream",
     "text": [
      "  345   3105 -1.620635873570777e-01 6.8e+00 1.56e-05  7e-06  2e-05 0:05.4\n"
     ]
    },
    {
     "name": "stderr",
     "output_type": "stream",
     "text": [
      "reconstraining parameters GP_regression.Mat52.lengthscale\n",
      "reconstraining parameters GP_regression.Mat52.variance\n",
      "reconstraining parameters GP_regression.Gaussian_noise.variance\n"
     ]
    },
    {
     "name": "stdout",
     "output_type": "stream",
     "text": [
      "termination on tolfun=1e-11 (Tue Sep 29 15:10:53 2020)\n",
      "final/bestever f-value = -1.620636e-01 -1.620636e-01\n",
      "incumbent solution: [0.8953953605065634, 3.40443880607927, 1.8966579492680467, 3.5730807557629305, 3.159180568101874, 5.614049845004047]\n",
      "std deviation: [1.525958745760297e-05, 1.8303352966676555e-05, 6.587186641171086e-06, 1.2487432401572302e-05, 8.871897304217586e-06, 1.0792176495487844e-05]\n",
      "Optimization restart 1/10, f = 30.618466951039036\n",
      "Optimization restart 2/10, f = 300.3932819560427\n",
      "Optimization restart 3/10, f = 63.85223399421032\n",
      "Optimization restart 4/10, f = 63.85223399421028\n",
      "Optimization restart 5/10, f = 63.85223399421028\n",
      "Optimization restart 6/10, f = 83.19916142511242\n",
      "Optimization restart 7/10, f = 30.618466950618398\n"
     ]
    },
    {
     "name": "stderr",
     "output_type": "stream",
     "text": [
      "reconstraining parameters GP_regression.Mat52.lengthscale\n",
      "reconstraining parameters GP_regression.Mat52.variance\n",
      "reconstraining parameters GP_regression.Gaussian_noise.variance\n"
     ]
    },
    {
     "name": "stdout",
     "output_type": "stream",
     "text": [
      "Optimization restart 8/10, f = 30.618466950619126\n",
      "Optimization restart 9/10, f = 30.618466950618348\n",
      "Optimization restart 10/10, f = 63.85223399421027\n",
      "Optimization restart 1/10, f = 20.208970130617757\n",
      "Optimization restart 2/10, f = 63.85223399421028\n",
      "Optimization restart 3/10, f = 20.208970130619342\n",
      "Optimization restart 4/10, f = 20.208970130617985\n",
      "Optimization restart 5/10, f = 300.3932819560427\n",
      "Optimization restart 6/10, f = 344991656.5424401\n",
      "Optimization restart 7/10, f = 79.27328179051403\n",
      "Optimization restart 8/10, f = 20.208970130717006\n",
      "Optimization restart 9/10, f = 300.3932819560427\n",
      "Optimization restart 10/10, f = 300.3932819560427\n",
      "(4_w,9)-aCMA-ES (mu_w=2.8,w_1=49%) in dimension 6 (seed=502085, Tue Sep 29 15:10:55 2020)\n",
      "Iterat #Fevals   function value  axis ratio  sigma  min&max std  t[m:s]\n",
      "    1      9 1.705586715073029e-01 1.0e+00 2.45e-01  2e-01  3e-01 0:00.0\n",
      "    2     18 1.499917815406264e-01 1.2e+00 2.50e-01  2e-01  3e-01 0:00.0\n",
      "    3     27 1.576025729899615e-01 1.3e+00 2.37e-01  2e-01  2e-01 0:00.1\n",
      "  100    900 -2.105106144275548e-02 3.1e+01 1.17e-01  9e-03  7e-02 0:01.6\n",
      "  200   1800 -8.864456288478295e-02 6.2e+02 4.78e-02  2e-03  1e-02 0:03.3\n",
      "  300   2700 -8.866477131689221e-02 5.2e+04 6.63e-04  8e-06  7e-05 0:05.0\n"
     ]
    },
    {
     "name": "stderr",
     "output_type": "stream",
     "text": [
      " /home/finley/miniconda3/envs/testsuite/lib/python3.8/site-packages/cma/utilities/utils.py:329: UserWarning:\n",
      "        geno-pheno transformation introduced based on the\n",
      "        current covariance matrix with condition 1.1e+12 -> 1.0e+00,\n",
      "        injected solutions become \"invalid\" in this iteration (class=CMAEvolutionStrategy method=alleviate_conditioning iteration=347)\n"
     ]
    },
    {
     "name": "stdout",
     "output_type": "stream",
     "text": [
      "  400   3600 -8.866477247011195e-02 4.6e+00 1.86e-05  8e-06  2e-05 0:06.6\n",
      "  405   3645 -8.866477246844995e-02 5.9e+00 2.08e-05  1e-05  3e-05 0:06.7\n"
     ]
    },
    {
     "name": "stderr",
     "output_type": "stream",
     "text": [
      "reconstraining parameters GP_regression.Mat52.lengthscale\n",
      "reconstraining parameters GP_regression.Mat52.variance\n",
      "reconstraining parameters GP_regression.Gaussian_noise.variance\n"
     ]
    },
    {
     "name": "stdout",
     "output_type": "stream",
     "text": [
      "termination on tolfun=1e-11 (Tue Sep 29 15:11:02 2020)\n",
      "final/bestever f-value = -8.866477e-02 -8.992895e-02\n",
      "incumbent solution: [1.010135096817658, 3.17871291553638, 1.974022516757941, 3.3520088646437216, 3.712414937050198, 5.410928939105361]\n",
      "std deviation: [1.4938737606418322e-05, 9.853159396308937e-06, 2.690824097408023e-05, 1.3473188255692395e-05, 2.4503193837199288e-05, 1.1513982601389421e-05]\n",
      "Optimization restart 1/10, f = 29.645319994287366\n",
      "Optimization restart 2/10, f = 84.29801670172964\n",
      "Optimization restart 3/10, f = 29.645319994285426\n",
      "Optimization restart 4/10, f = 65.27117252741495\n",
      "Optimization restart 5/10, f = 307.0686882217325\n",
      "Optimization restart 6/10, f = 307.0686882217325\n",
      "Optimization restart 7/10, f = 65.27117252741695\n"
     ]
    },
    {
     "name": "stderr",
     "output_type": "stream",
     "text": [
      "reconstraining parameters GP_regression.Mat52.lengthscale\n"
     ]
    },
    {
     "name": "stdout",
     "output_type": "stream",
     "text": [
      "Optimization restart 8/10, f = 29.6453199942858\n",
      "Optimization restart 9/10, f = 307.0686882217325\n",
      "Optimization restart 10/10, f = 65.27117252741544\n"
     ]
    },
    {
     "name": "stderr",
     "output_type": "stream",
     "text": [
      "reconstraining parameters GP_regression.Mat52.variance\n",
      "reconstraining parameters GP_regression.Gaussian_noise.variance\n"
     ]
    },
    {
     "name": "stdout",
     "output_type": "stream",
     "text": [
      "Optimization restart 1/10, f = 18.603069972637513\n",
      "Optimization restart 2/10, f = 18.60306997263271\n",
      "Optimization restart 3/10, f = 18.603069972678014\n",
      "Optimization restart 4/10, f = 65.27117252741495\n",
      "Optimization restart 5/10, f = 65.27117252741495\n",
      "Optimization restart 6/10, f = 18.603069972927308\n",
      "Optimization restart 7/10, f = 65.27117252741496\n",
      "Optimization restart 8/10, f = 18.60306997264532\n",
      "Optimization restart 9/10, f = 65.27117252741493\n",
      "Optimization restart 10/10, f = 65.27117252741495\n",
      "(4_w,9)-aCMA-ES (mu_w=2.8,w_1=49%) in dimension 6 (seed=449299, Tue Sep 29 15:11:05 2020)\n",
      "Iterat #Fevals   function value  axis ratio  sigma  min&max std  t[m:s]\n",
      "    1      9 3.244743325567154e-01 1.0e+00 2.37e-01  2e-01  2e-01 0:00.0\n",
      "    2     18 3.175311673383807e-01 1.3e+00 2.28e-01  2e-01  2e-01 0:00.1\n",
      "    3     27 3.102161129216126e-01 1.4e+00 2.62e-01  2e-01  3e-01 0:00.1\n",
      "  100    900 4.282831555242872e-02 3.9e+01 4.38e-02  7e-03  3e-02 0:01.6\n",
      "  200   1800 4.164980394537032e-02 3.0e+02 2.66e-02  1e-03  1e-02 0:03.0\n",
      "  300   2700 4.160981449857903e-02 1.5e+03 1.60e-02  2e-04  2e-03 0:04.7\n",
      "  400   3600 4.160151768119169e-02 3.8e+03 2.81e-02  1e-04  1e-03 0:06.1\n",
      "  500   4500 4.159853419236459e-02 9.8e+03 1.91e-02  4e-05  3e-04 0:07.5\n",
      "  600   5400 4.159826268555866e-02 2.4e+04 5.14e-02  2e-05  2e-04 0:09.0\n",
      "  700   6300 4.159821479610981e-02 4.1e+04 4.32e-02  5e-06  5e-05 0:10.4\n",
      "  800   7200 4.159821033472921e-02 1.7e+05 3.80e-02  1e-06  1e-05 0:12.0\n",
      "  900   8100 4.159821002473096e-02 8.8e+05 2.83e-02  4e-07  3e-06 0:13.5\n",
      "  904   8136 4.159821002455977e-02 1.0e+06 1.82e-02  2e-07  2e-06 0:13.6\n"
     ]
    },
    {
     "name": "stderr",
     "output_type": "stream",
     "text": [
      "reconstraining parameters GP_regression.Mat52.lengthscale\n",
      "reconstraining parameters GP_regression.Mat52.variance\n",
      "reconstraining parameters GP_regression.Gaussian_noise.variance\n"
     ]
    },
    {
     "name": "stdout",
     "output_type": "stream",
     "text": [
      "termination on tolfun=1e-11 (Tue Sep 29 15:11:20 2020)\n",
      "final/bestever f-value = 4.159821e-02 4.159821e-02\n",
      "incumbent solution: [1.999999999896171, 1.868321621599928e-10, 4.596306216483336, 0.15433069313623432, 7.969227415915681, 2.6269038024756917]\n",
      "std deviation: [2.3212866761838885e-07, 2.4553216959237014e-07, 6.590226020540265e-07, 8.489335967921815e-07, 1.7919367500232187e-06, 2.057464196717348e-06]\n",
      "Optimization restart 1/10, f = 30.14047194378504\n",
      "Optimization restart 2/10, f = 66.69011106061961\n",
      "Optimization restart 3/10, f = 66.69011106061961\n",
      "Optimization restart 4/10, f = 30.140471943800154\n",
      "Optimization restart 5/10, f = 313.74409448742233\n",
      "Optimization restart 6/10, f = 30.140471943783524\n",
      "Optimization restart 7/10, f = 313.74409448742233\n",
      "Optimization restart 8/10, f = 85.73466983337853\n",
      "Optimization restart 9/10, f = 313.74409448742233\n"
     ]
    },
    {
     "name": "stderr",
     "output_type": "stream",
     "text": [
      "reconstraining parameters GP_regression.Mat52.lengthscale\n",
      "reconstraining parameters GP_regression.Mat52.variance\n"
     ]
    },
    {
     "name": "stdout",
     "output_type": "stream",
     "text": [
      "Optimization restart 10/10, f = 30.140471943782\n"
     ]
    },
    {
     "name": "stderr",
     "output_type": "stream",
     "text": [
      "reconstraining parameters GP_regression.Gaussian_noise.variance\n"
     ]
    },
    {
     "name": "stdout",
     "output_type": "stream",
     "text": [
      "Optimization restart 1/10, f = 18.490971456062177\n",
      "Optimization restart 2/10, f = 66.69011106061961\n",
      "Optimization restart 3/10, f = 2347425.0075032357\n",
      "Optimization restart 4/10, f = 66.69011106061963\n",
      "Optimization restart 5/10, f = 2347425.0075032357\n",
      "Optimization restart 6/10, f = 488548015.4424466\n",
      "Optimization restart 7/10, f = 488999251.9740712\n",
      "Optimization restart 8/10, f = 18.4909714560831\n",
      "Optimization restart 9/10, f = 18.49097145611459\n",
      "Optimization restart 10/10, f = 313.74409448742233\n",
      "(4_w,9)-aCMA-ES (mu_w=2.8,w_1=49%) in dimension 6 (seed=460484, Tue Sep 29 15:11:22 2020)\n",
      "Iterat #Fevals   function value  axis ratio  sigma  min&max std  t[m:s]\n",
      "    1      9 3.003300930938035e-03 1.0e+00 2.31e-01  2e-01  2e-01 0:00.0\n",
      "    2     18 -9.405683037522650e-02 1.3e+00 2.73e-01  2e-01  3e-01 0:00.0\n",
      "    3     27 -8.574534718563065e-03 1.4e+00 2.56e-01  2e-01  3e-01 0:00.1\n",
      "  100    900 -3.752371884869292e-01 3.9e+01 6.13e-02  6e-03  7e-02 0:01.5\n",
      "  200   1800 -3.780136141736949e-01 1.2e+03 8.01e-03  8e-05  4e-03 0:04.0\n",
      "  300   2700 -3.780218258891890e-01 2.8e+03 9.32e-03  1e-05  2e-03 0:06.2\n",
      "  400   3600 -3.780242200456971e-01 7.5e+03 2.23e-02  6e-06  1e-03 0:11.3\n",
      "  500   4500 -3.780249497637858e-01 7.4e+03 1.14e-01  4e-06  1e-03 0:14.8\n",
      "  600   5400 -3.780255458760053e-01 1.7e+04 2.66e-01  2e-06  1e-03 0:16.6\n",
      "  700   6300 -3.780256903409545e-01 3.5e+04 2.99e-01  4e-07  3e-04 0:20.4\n",
      "  800   7200 -3.780257490273327e-01 4.9e+04 1.23e+00  3e-07  3e-04 0:22.0\n",
      "  900   8100 -3.780257956152193e-01 9.1e+04 3.30e+00  1e-07  3e-04 0:23.5\n",
      " 1000   9000 -3.780258132746295e-01 1.8e+05 3.61e+00  6e-08  6e-05 0:24.9\n",
      "Iterat #Fevals   function value  axis ratio  sigma  min&max std  t[m:s]\n",
      " 1100   9900 -3.780258260502494e-01 1.3e+05 1.50e+01  4e-08  6e-05 0:27.4\n",
      " 1200  10800 -3.780258320064578e-01 3.4e+05 1.25e+01  6e-09  3e-05 0:28.9\n",
      " 1300  11700 -3.780258353040453e-01 2.0e+05 7.45e+01  7e-09  2e-05 0:30.9\n",
      "NOTE (module=cma, iteration=1360):  \n",
      "condition in coordinate system exceeded 1.0e+08, rescaled to 1.0e+00, \n",
      "condition changed from 3.4e+11 to 1.2e+04\n",
      " 1400  12600 -3.780258364670712e-01 1.4e+02 4.00e+02  4e-09  4e-05 0:32.5\n",
      " 1500  13500 -3.780258370454506e-01 2.6e+02 1.68e+03  3e-09  4e-05 0:34.0\n",
      " 1539  13851 -3.780258370672418e-01 3.2e+02 1.56e+02  3e-10  2e-06 0:34.6\n"
     ]
    },
    {
     "name": "stderr",
     "output_type": "stream",
     "text": [
      "reconstraining parameters GP_regression.Mat52.lengthscale\n",
      "reconstraining parameters GP_regression.Mat52.variance\n",
      "reconstraining parameters GP_regression.Gaussian_noise.variance\n"
     ]
    },
    {
     "name": "stdout",
     "output_type": "stream",
     "text": [
      "termination on tolfun=1e-11 (Tue Sep 29 15:12:01 2020)\n",
      "final/bestever f-value = -3.780258e-01 -3.780258e-01\n",
      "incumbent solution: [1.8790179633290085e-08, 4.9855739404023076e-14, 2.3443791948029453, 7.9999999972244575, 9.999999999997998, 11.99999999999522]\n",
      "std deviation: [1.443797517726563e-07, 1.740441404131541e-07, 2.6179847013335643e-10, 8.751648926073004e-07, 1.409171379001047e-06, 2.1892687998985177e-06]\n",
      "Optimization restart 1/10, f = 30.624134648422004\n",
      "Optimization restart 2/10, f = 320.4195007531122\n",
      "Optimization restart 3/10, f = 68.10904959381257\n",
      "Optimization restart 4/10, f = 30.624134648419968\n",
      "Optimization restart 5/10, f = 30.624134648441604\n",
      "Optimization restart 6/10, f = 68.10904959382431\n",
      "Optimization restart 7/10, f = 752559482.6312168\n",
      "Optimization restart 8/10, f = 2397370.2204288365\n",
      "Optimization restart 9/10, f = 30.62413464842068\n",
      "Optimization restart 10/10, f = 30.624134648444027\n"
     ]
    },
    {
     "name": "stderr",
     "output_type": "stream",
     "text": [
      "reconstraining parameters GP_regression.Mat52.lengthscale\n",
      "reconstraining parameters GP_regression.Mat52.variance\n",
      "reconstraining parameters GP_regression.Gaussian_noise.variance\n"
     ]
    },
    {
     "name": "stdout",
     "output_type": "stream",
     "text": [
      "Optimization restart 1/10, f = 18.908190924176914\n",
      "Optimization restart 2/10, f = 320.4195007531122\n",
      "Optimization restart 3/10, f = 477387760.05449104\n",
      "Optimization restart 4/10, f = 68.10904959382428\n",
      "Optimization restart 5/10, f = 18.90819092417678\n",
      "Optimization restart 6/10, f = 68.10904959382492\n",
      "Optimization restart 7/10, f = 68.1090495938243\n",
      "Optimization restart 8/10, f = 68.1090495494618\n",
      "Optimization restart 9/10, f = 68.1090495938243\n",
      "Optimization restart 10/10, f = 18.908190924175955\n",
      "(4_w,9)-aCMA-ES (mu_w=2.8,w_1=49%) in dimension 6 (seed=397026, Tue Sep 29 15:12:03 2020)\n",
      "Iterat #Fevals   function value  axis ratio  sigma  min&max std  t[m:s]\n",
      "    1      9 2.196281974522072e-01 1.0e+00 2.46e-01  2e-01  3e-01 0:00.0\n",
      "    2     18 1.837933682873978e-01 1.2e+00 2.72e-01  3e-01  3e-01 0:00.0\n",
      "    3     27 1.838999196871134e-01 1.4e+00 2.78e-01  3e-01  3e-01 0:00.1\n",
      "  100    900 -1.301070215710283e-01 8.5e+01 5.07e-02  8e-03  4e-02 0:01.5\n",
      "  200   1800 -1.306197958384920e-01 1.8e+04 2.30e-04  2e-05  8e-05 0:02.9\n"
     ]
    },
    {
     "name": "stderr",
     "output_type": "stream",
     "text": [
      " /home/finley/miniconda3/envs/testsuite/lib/python3.8/site-packages/cma/utilities/utils.py:329: UserWarning:\n",
      "        geno-pheno transformation introduced based on the\n",
      "        current covariance matrix with condition 1.1e+12 -> 1.0e+00,\n",
      "        injected solutions become \"invalid\" in this iteration (class=CMAEvolutionStrategy method=alleviate_conditioning iteration=280)\n"
     ]
    },
    {
     "name": "stdout",
     "output_type": "stream",
     "text": [
      "  300   2700 -1.306197977834438e-01 4.0e+00 4.47e-06  3e-06  5e-06 0:04.4\n",
      "  400   3600 -1.306197977756809e-01 3.8e+01 8.82e-06  4e-06  2e-05 0:05.8\n",
      "  500   4500 -1.306197977830830e-01 1.1e+02 8.65e-06  2e-06  1e-05 0:07.2\n",
      "  505   4545 -1.306197977835635e-01 9.8e+01 1.25e-05  3e-06  2e-05 0:07.3\n"
     ]
    },
    {
     "name": "stderr",
     "output_type": "stream",
     "text": [
      "reconstraining parameters GP_regression.Mat52.lengthscale\n",
      "reconstraining parameters GP_regression.Mat52.variance\n",
      "reconstraining parameters GP_regression.Gaussian_noise.variance\n"
     ]
    },
    {
     "name": "stdout",
     "output_type": "stream",
     "text": [
      "termination on tolstagnation=263 (Tue Sep 29 15:12:11 2020)\n",
      "final/bestever f-value = -1.306198e-01 -1.306198e-01\n",
      "incumbent solution: [0.9042035302290969, 3.5611521671526134, 1.918189147629164, 3.4685479966792627, 3.4856359067198355, 5.273933177784784]\n",
      "std deviation: [5.134664409098174e-06, 2.8337899482982588e-06, 1.812286121007424e-05, 1.538631519982766e-05, 1.5927808596673822e-05, 1.1936877553793378e-05]\n",
      "Optimization restart 1/10, f = 29.839776982222748\n",
      "Optimization restart 2/10, f = 29.839776982228592\n",
      "Optimization restart 3/10, f = 29.839776982225533\n",
      "Optimization restart 4/10, f = 69.52798812702898\n",
      "Optimization restart 5/10, f = 69.52798812702896\n",
      "Optimization restart 6/10, f = 29.839776982223682\n",
      "Optimization restart 7/10, f = 29.839776982225157\n",
      "Optimization restart 8/10, f = 86.76216191789885\n",
      "Optimization restart 9/10, f = 29.83977698222927\n"
     ]
    },
    {
     "name": "stderr",
     "output_type": "stream",
     "text": [
      "reconstraining parameters GP_regression.Mat52.lengthscale\n",
      "reconstraining parameters GP_regression.Mat52.variance\n",
      "reconstraining parameters GP_regression.Gaussian_noise.variance\n"
     ]
    },
    {
     "name": "stdout",
     "output_type": "stream",
     "text": [
      "Optimization restart 10/10, f = 763823104.5256703\n",
      "Optimization restart 1/10, f = 17.657091775809064\n",
      "Optimization restart 2/10, f = 69.52798812702896\n",
      "Optimization restart 3/10, f = 17.657091775843107\n",
      "Optimization restart 4/10, f = 2447315.4333544374\n",
      "Optimization restart 5/10, f = 69.52798812702896\n",
      "Optimization restart 6/10, f = 17.657091775855122\n",
      "Optimization restart 7/10, f = 69.52798812702994\n",
      "Optimization restart 8/10, f = 69.52798812702967\n",
      "Optimization restart 9/10, f = 69.52798812702896\n",
      "Optimization restart 10/10, f = 2447315.4333544374\n",
      "(4_w,9)-aCMA-ES (mu_w=2.8,w_1=49%) in dimension 6 (seed=504359, Tue Sep 29 15:12:13 2020)\n",
      "Iterat #Fevals   function value  axis ratio  sigma  min&max std  t[m:s]\n",
      "    1      9 3.453581759707649e-01 1.0e+00 2.24e-01  2e-01  2e-01 0:00.0\n",
      "    2     18 3.004582557711091e-01 1.2e+00 2.27e-01  2e-01  2e-01 0:00.0\n",
      "    3     27 3.045675172375255e-01 1.4e+00 2.38e-01  2e-01  3e-01 0:00.1\n",
      "  100    900 -3.056328397621499e-01 9.3e+01 2.08e-01  1e-02  3e-01 0:01.4\n",
      "  200   1800 -3.334853426945867e-01 4.2e+02 2.54e-01  1e-03  1e-01 0:02.9\n",
      "  300   2700 -3.360148262715452e-01 1.3e+04 1.15e-02  3e-07  3e-03 0:04.4\n",
      "NOTE (module=cma, iteration=307):  \n",
      "condition in coordinate system exceeded 1.3e+08, rescaled to 1.0e+00, \n",
      "condition changed from 2.8e+08 to 1.3e+01\n",
      "  400   3600 -3.360152353137145e-01 7.4e+01 1.20e-03  6e-10  1e-04 0:06.3\n",
      "  500   4500 -3.360152360143314e-01 6.1e+02 2.32e-04  3e-12  7e-06 0:08.8\n",
      "  515   4635 -3.360152360162667e-01 1.1e+03 1.40e-04  9e-13  3e-06 0:09.3\n"
     ]
    },
    {
     "name": "stderr",
     "output_type": "stream",
     "text": [
      "reconstraining parameters GP_regression.Mat52.lengthscale\n",
      "reconstraining parameters GP_regression.Mat52.variance\n",
      "reconstraining parameters GP_regression.Gaussian_noise.variance\n"
     ]
    },
    {
     "name": "stdout",
     "output_type": "stream",
     "text": [
      "termination on tolfun=1e-11 (Tue Sep 29 15:12:24 2020)\n",
      "final/bestever f-value = -3.360152e-01 -3.360152e-01\n",
      "incumbent solution: [0.4829032336873684, 9.353457641643745e-15, 5.999999999999916, 7.999999999866522, 9.999999999997431, 11.999999999999408]\n",
      "std deviation: [9.13126064535709e-13, 1.605636530308982e-07, 6.236005913190876e-07, 7.189679493153999e-07, 2.6205062727782437e-06, 3.198547849505331e-06]\n",
      "Optimization restart 1/10, f = 29.383233468629513\n",
      "Optimization restart 2/10, f = 767302590.8652734\n",
      "Optimization restart 3/10, f = 29.383233468628866\n",
      "Optimization restart 4/10, f = 29.383233468645262\n",
      "Optimization restart 5/10, f = 768273433.1368597\n",
      "Optimization restart 6/10, f = 86.3865803702466\n",
      "Optimization restart 7/10, f = 29.38323346863056\n",
      "Optimization restart 8/10, f = 29.383233468640668\n",
      "Optimization restart 9/10, f = 29.383233468632657\n"
     ]
    },
    {
     "name": "stderr",
     "output_type": "stream",
     "text": [
      "reconstraining parameters GP_regression.Mat52.lengthscale\n",
      "reconstraining parameters GP_regression.Mat52.variance\n",
      "reconstraining parameters GP_regression.Gaussian_noise.variance\n"
     ]
    },
    {
     "name": "stdout",
     "output_type": "stream",
     "text": [
      "Optimization restart 10/10, f = 29.383233468629683\n",
      "Optimization restart 1/10, f = 17.11888365576455\n",
      "Optimization restart 2/10, f = 70.94692666023369\n",
      "Optimization restart 3/10, f = 333.7703132844918\n",
      "Optimization restart 4/10, f = 70.94692666023363\n",
      "Optimization restart 5/10, f = 2497260.646280039\n",
      "Optimization restart 6/10, f = 70.94692666023369\n",
      "Optimization restart 7/10, f = 17.11888365573827\n",
      "Optimization restart 8/10, f = 17.11888365573058\n",
      "Optimization restart 9/10, f = 17.118883655729203\n",
      "Optimization restart 10/10, f = 333.7703132844918\n",
      "(4_w,9)-aCMA-ES (mu_w=2.8,w_1=49%) in dimension 6 (seed=450997, Tue Sep 29 15:12:28 2020)\n",
      "Iterat #Fevals   function value  axis ratio  sigma  min&max std  t[m:s]\n",
      "    1      9 1.910873605587062e-01 1.0e+00 2.53e-01  2e-01  3e-01 0:00.0\n",
      "    2     18 -5.742282311665292e-03 1.3e+00 2.96e-01  3e-01  3e-01 0:00.1\n",
      "    3     27 4.667049857053462e-02 1.6e+00 3.04e-01  3e-01  3e-01 0:00.1\n",
      "  100    900 -9.483178888634503e-02 7.6e+01 1.23e-01  7e-03  1e-01 0:01.5\n",
      "  200   1800 -9.562558599895477e-02 1.8e+03 1.64e-02  6e-04  1e-02 0:03.5\n",
      "  300   2700 -9.564703650729234e-02 7.0e+03 2.67e-02  4e-04  7e-03 0:04.9\n",
      "  400   3600 -9.565396591177855e-02 9.8e+03 6.82e-02  2e-04  4e-03 0:06.3\n",
      "  500   4500 -9.565722928683762e-02 1.2e+04 1.54e-01  1e-04  2e-03 0:07.7\n",
      "  600   5400 -9.565861091559702e-02 4.1e+04 2.37e-01  6e-05  1e-03 0:09.3\n",
      "  700   6300 -9.565890043315073e-02 6.0e+04 4.49e-01  2e-05  4e-04 0:10.7\n",
      "  800   7200 -9.565914846349699e-02 2.0e+05 7.06e-01  1e-05  3e-04 0:12.2\n",
      "  900   8100 -9.565930958143287e-02 2.0e+05 2.29e+00  1e-05  3e-04 0:14.0\n",
      " 1000   9000 -9.565937393898971e-02 2.2e+05 8.43e+00  1e-05  2e-04 0:15.6\n",
      "Iterat #Fevals   function value  axis ratio  sigma  min&max std  t[m:s]\n",
      " 1100   9900 -9.565939703410065e-02 3.2e+05 7.96e+01  3e-05  5e-04 0:17.3\n"
     ]
    },
    {
     "name": "stderr",
     "output_type": "stream",
     "text": [
      " /home/finley/miniconda3/envs/testsuite/lib/python3.8/site-packages/cma/utilities/utils.py:329: UserWarning:\n",
      "        geno-pheno transformation introduced based on the\n",
      "        current covariance matrix with condition 1.3e+12 -> 1.0e+00,\n",
      "        injected solutions become \"invalid\" in this iteration (class=CMAEvolutionStrategy method=alleviate_conditioning iteration=1167)\n"
     ]
    },
    {
     "name": "stdout",
     "output_type": "stream",
     "text": [
      " 1200  10800 -9.565939964086412e-02 8.5e+00 4.86e+01  3e+01  1e+02 0:18.7\n",
      " 1216  10944 -9.565940038380649e-02 2.1e+01 7.62e+01  3e+01  3e+02 0:18.9\n"
     ]
    },
    {
     "name": "stderr",
     "output_type": "stream",
     "text": [
      "reconstraining parameters GP_regression.Mat52.lengthscale\n",
      "reconstraining parameters GP_regression.Mat52.variance\n",
      "reconstraining parameters GP_regression.Gaussian_noise.variance\n"
     ]
    },
    {
     "name": "stdout",
     "output_type": "stream",
     "text": [
      "termination on tolfacupx=1000.0 (Tue Sep 29 15:12:49 2020)\n",
      "final/bestever f-value = -9.565940e-02 -9.565940e-02\n",
      "incumbent solution: [1.3798933560968318e-10, 1.5672098305740292, 4.500940210770859e-06, 4.091761958240568, 1.949908337539199e-11, 2.5864617056504358]\n",
      "std deviation: [46.74393195902579, 69.27723261364727, 255.96036629329646, 29.105138078741263, 46.916987303999186, 62.604248216268644]\n",
      "Optimization restart 1/10, f = 31.54048129083392\n",
      "Optimization restart 2/10, f = 72.3658651934422\n",
      "Optimization restart 3/10, f = 2547205.8592056404\n",
      "Optimization restart 4/10, f = 80.92594166751408\n",
      "Optimization restart 5/10, f = 31.540481290418704\n",
      "Optimization restart 6/10, f = 31.540481290419244\n",
      "Optimization restart 7/10, f = 72.36586519319954\n"
     ]
    },
    {
     "name": "stderr",
     "output_type": "stream",
     "text": [
      "reconstraining parameters GP_regression.Mat52.lengthscale\n"
     ]
    },
    {
     "name": "stdout",
     "output_type": "stream",
     "text": [
      "Optimization restart 8/10, f = 340.4457195501816\n",
      "Optimization restart 9/10, f = 31.540481290476652\n",
      "Optimization restart 10/10, f = 31.540481290420022\n"
     ]
    },
    {
     "name": "stderr",
     "output_type": "stream",
     "text": [
      "reconstraining parameters GP_regression.Mat52.variance\n",
      "reconstraining parameters GP_regression.Gaussian_noise.variance\n"
     ]
    },
    {
     "name": "stdout",
     "output_type": "stream",
     "text": [
      "Optimization restart 1/10, f = 17.327709231381714\n",
      "Optimization restart 2/10, f = 72.36586519343831\n",
      "Optimization restart 3/10, f = 340.4457195501816\n",
      "Optimization restart 4/10, f = 17.327709231284853\n",
      "Optimization restart 5/10, f = 340.4457195501816\n",
      "Optimization restart 6/10, f = 17.32770923128169\n",
      "Optimization restart 7/10, f = 72.36586519277873\n",
      "Optimization restart 8/10, f = 340.4457195501816\n",
      "Optimization restart 9/10, f = 489262361.9241311\n",
      "Optimization restart 10/10, f = 17.32770923128013\n",
      "(4_w,9)-aCMA-ES (mu_w=2.8,w_1=49%) in dimension 6 (seed=444121, Tue Sep 29 15:12:51 2020)\n",
      "Iterat #Fevals   function value  axis ratio  sigma  min&max std  t[m:s]\n",
      "    1      9 3.280634010952588e-01 1.0e+00 2.30e-01  2e-01  2e-01 0:00.0\n",
      "    2     18 3.335368499098832e-01 1.2e+00 2.07e-01  2e-01  2e-01 0:00.0\n",
      "    3     27 2.975690628744945e-01 1.3e+00 2.12e-01  2e-01  2e-01 0:00.0\n",
      "  100    900 -1.253417947946116e-01 3.2e+01 1.33e-01  1e-02  9e-02 0:02.0\n",
      "  200   1800 -1.282423231381178e-01 4.1e+03 1.27e-03  6e-05  4e-04 0:04.5\n",
      "  300   2700 -1.282423899256391e-01 1.3e+00 2.65e-05  2e-05  3e-05 0:06.3\n"
     ]
    },
    {
     "name": "stderr",
     "output_type": "stream",
     "text": [
      " /home/finley/miniconda3/envs/testsuite/lib/python3.8/site-packages/cma/utilities/utils.py:329: UserWarning:\n",
      "        geno-pheno transformation introduced based on the\n",
      "        current covariance matrix with condition 1.2e+12 -> 1.0e+00,\n",
      "        injected solutions become \"invalid\" in this iteration (class=CMAEvolutionStrategy method=alleviate_conditioning iteration=298)\n"
     ]
    },
    {
     "name": "stdout",
     "output_type": "stream",
     "text": [
      "  316   2844 -1.282423899247798e-01 2.3e+00 9.54e-06  7e-06  8e-06 0:06.5\n"
     ]
    },
    {
     "name": "stderr",
     "output_type": "stream",
     "text": [
      "reconstraining parameters GP_regression.Mat52.lengthscale\n",
      "reconstraining parameters GP_regression.Mat52.variance\n",
      "reconstraining parameters GP_regression.Gaussian_noise.variance\n"
     ]
    },
    {
     "name": "stdout",
     "output_type": "stream",
     "text": [
      "termination on tolfun=1e-11 (Tue Sep 29 15:12:58 2020)\n",
      "final/bestever f-value = -1.282424e-01 -1.282424e-01\n",
      "incumbent solution: [1.5855631461417943, 2.0593641707964707, 2.5593889947613206, 2.6732972327954485, 4.515847105096327, 4.5159086644416675]\n",
      "std deviation: [7.761300193345131e-06, 8.248775163138865e-06, 7.085863317028278e-06, 6.64100512531225e-06, 8.32575402832059e-06, 8.284973167220181e-06]\n",
      "Optimization restart 1/10, f = 32.493161502297525\n",
      "Optimization restart 2/10, f = 32.493161502297625\n",
      "Optimization restart 3/10, f = 73.78480372664296\n",
      "Optimization restart 4/10, f = 73.78480372664298\n",
      "Optimization restart 5/10, f = 347.12112581587144\n",
      "Optimization restart 6/10, f = 896040036.7129269\n",
      "Optimization restart 7/10, f = 32.49316150229512\n"
     ]
    },
    {
     "name": "stderr",
     "output_type": "stream",
     "text": [
      "reconstraining parameters GP_regression.Mat52.lengthscale\n",
      "reconstraining parameters GP_regression.Mat52.variance\n",
      "reconstraining parameters GP_regression.Gaussian_noise.variance\n"
     ]
    },
    {
     "name": "stdout",
     "output_type": "stream",
     "text": [
      "Optimization restart 8/10, f = 896645118.8578657\n",
      "Optimization restart 9/10, f = 347.12112581587144\n",
      "Optimization restart 10/10, f = 73.78480372664298\n",
      "Optimization restart 1/10, f = 16.078590419932056\n",
      "Optimization restart 2/10, f = 73.78480372664298\n",
      "Optimization restart 3/10, f = 16.078590419608496\n",
      "Optimization restart 4/10, f = 2597151.072131241\n",
      "Optimization restart 5/10, f = 73.78480372664299\n",
      "Optimization restart 6/10, f = 73.784803726643\n",
      "Optimization restart 7/10, f = 79.47643841424602\n",
      "Optimization restart 8/10, f = 16.078590419601223\n",
      "Optimization restart 9/10, f = 79.50602658279121\n",
      "Optimization restart 10/10, f = 347.12111809718334\n",
      "(4_w,9)-aCMA-ES (mu_w=2.8,w_1=49%) in dimension 6 (seed=495579, Tue Sep 29 15:13:00 2020)\n",
      "Iterat #Fevals   function value  axis ratio  sigma  min&max std  t[m:s]\n",
      "    1      9 6.054799487058040e-01 1.0e+00 2.44e-01  2e-01  3e-01 0:00.0\n",
      "    2     18 5.793710693633431e-01 1.2e+00 2.43e-01  2e-01  3e-01 0:00.0\n",
      "    3     27 5.706024603342059e-01 1.3e+00 2.68e-01  2e-01  3e-01 0:00.0\n",
      "  100    900 -2.181579807180780e-01 1.2e+02 1.64e-01  1e-02  2e-01 0:01.5\n",
      "  200   1800 -2.396349088494727e-01 6.5e+03 3.62e-03  1e-04  2e-03 0:03.0\n",
      "  300   2700 -2.396354981165452e-01 1.9e+00 4.86e-05  4e-05  5e-05 0:04.5\n"
     ]
    },
    {
     "name": "stderr",
     "output_type": "stream",
     "text": [
      " /home/finley/miniconda3/envs/testsuite/lib/python3.8/site-packages/cma/utilities/utils.py:329: UserWarning:\n",
      "        geno-pheno transformation introduced based on the\n",
      "        current covariance matrix with condition 1.1e+12 -> 1.0e+00,\n",
      "        injected solutions become \"invalid\" in this iteration (class=CMAEvolutionStrategy method=alleviate_conditioning iteration=294)\n"
     ]
    },
    {
     "name": "stdout",
     "output_type": "stream",
     "text": [
      "  332   2988 -2.396354981226065e-01 7.8e+00 3.11e-05  2e-05  3e-05 0:05.0\n"
     ]
    },
    {
     "name": "stderr",
     "output_type": "stream",
     "text": [
      "reconstraining parameters GP_regression.Mat52.lengthscale\n",
      "reconstraining parameters GP_regression.Mat52.variance\n",
      "reconstraining parameters GP_regression.Gaussian_noise.variance\n"
     ]
    },
    {
     "name": "stdout",
     "output_type": "stream",
     "text": [
      "termination on tolfun=1e-11 (Tue Sep 29 15:13:05 2020)\n",
      "final/bestever f-value = -2.396355e-01 -2.396355e-01\n",
      "incumbent solution: [0.8815099356423155, 1.2415604770079124e-12, 1.5578048738334473, 0.92945917684724, 3.6059842729300726, 9.541416392016891e-11]\n",
      "std deviation: [2.2223838497033424e-05, 2.2734207608992646e-05, 2.672343382703044e-05, 2.2482419977985212e-05, 2.2412015452906656e-05, 2.805574149008341e-05]\n",
      "Optimization restart 1/10, f = 35.85434583355833\n",
      "Optimization restart 2/10, f = 75.2037422598487\n",
      "Optimization restart 3/10, f = 35.85434583354463\n",
      "Optimization restart 4/10, f = 35.854345833534055\n",
      "Optimization restart 5/10, f = 353.7965320815613\n",
      "Optimization restart 6/10, f = 75.20374225984766\n",
      "Optimization restart 7/10, f = 2647096.285056842\n",
      "Optimization restart 8/10, f = 35.85434583353603\n"
     ]
    },
    {
     "name": "stderr",
     "output_type": "stream",
     "text": [
      "reconstraining parameters GP_regression.Mat52.lengthscale\n",
      "reconstraining parameters GP_regression.Mat52.variance\n",
      "reconstraining parameters GP_regression.Gaussian_noise.variance\n"
     ]
    },
    {
     "name": "stdout",
     "output_type": "stream",
     "text": [
      "Optimization restart 9/10, f = 75.20374225984766\n",
      "Optimization restart 10/10, f = 353.7965320815613\n",
      "Optimization restart 1/10, f = 16.650563480319136\n",
      "Optimization restart 2/10, f = 353.7965320815613\n",
      "Optimization restart 3/10, f = 353.7965320815613\n",
      "Optimization restart 4/10, f = 16.650563480221287\n",
      "Optimization restart 5/10, f = 16.650563480218057\n",
      "Optimization restart 6/10, f = 16.650563480220043\n",
      "Optimization restart 7/10, f = 502962598.0460019\n",
      "Optimization restart 8/10, f = 353.7965320815613\n",
      "Optimization restart 9/10, f = 16.650563480219734\n",
      "Optimization restart 10/10, f = 16.65056348021783\n",
      "(4_w,9)-aCMA-ES (mu_w=2.8,w_1=49%) in dimension 6 (seed=542559, Tue Sep 29 15:13:07 2020)\n",
      "Iterat #Fevals   function value  axis ratio  sigma  min&max std  t[m:s]\n",
      "    1      9 -1.786449588337884e-01 1.0e+00 2.55e-01  2e-01  3e-01 0:00.0\n",
      "    2     18 -1.851208563387619e-01 1.3e+00 2.61e-01  2e-01  3e-01 0:00.0\n",
      "    3     27 -2.346249359260104e-01 1.2e+00 2.71e-01  3e-01  3e-01 0:00.0\n",
      "  100    900 -3.879015979992597e-01 1.3e+02 3.84e-03  8e-04  3e-03 0:01.5\n",
      "  200   1800 -3.879024706607201e-01 2.1e+04 3.95e-05  3e-06  1e-05 0:02.9\n",
      "  250   2250 -3.879024707566379e-01 4.4e+05 4.53e-06  3e-07  1e-06 0:03.6\n"
     ]
    },
    {
     "name": "stderr",
     "output_type": "stream",
     "text": [
      "reconstraining parameters GP_regression.Mat52.lengthscale\n",
      "reconstraining parameters GP_regression.Mat52.variance\n",
      "reconstraining parameters GP_regression.Gaussian_noise.variance\n"
     ]
    },
    {
     "name": "stdout",
     "output_type": "stream",
     "text": [
      "termination on tolfun=1e-11 (Tue Sep 29 15:13:11 2020)\n",
      "final/bestever f-value = -3.879025e-01 -3.879025e-01\n",
      "incumbent solution: [1.999999999999887, 0.6443905515839004, 2.955974916416043, 2.9099502860273887, 5.293106586280697, 3.8952272486748667]\n",
      "std deviation: [2.933401805105952e-07, 6.744726128747031e-07, 8.290136542712652e-07, 7.427295041579186e-07, 1.2402438888604124e-06, 9.736035710757614e-07]\n",
      "Optimization restart 1/10, f = 35.899669008232635\n",
      "Optimization restart 2/10, f = 2697041.497982442\n",
      "Optimization restart 3/10, f = 35.89966900812381\n",
      "Optimization restart 4/10, f = 76.62268079305233\n",
      "Optimization restart 5/10, f = 998667899.2856692\n",
      "Optimization restart 6/10, f = 76.62268042252765\n",
      "Optimization restart 7/10, f = 2697041.497982442\n",
      "Optimization restart 8/10, f = 76.62268079305233\n",
      "Optimization restart 9/10, f = 76.62268079305245\n"
     ]
    },
    {
     "name": "stderr",
     "output_type": "stream",
     "text": [
      "reconstraining parameters GP_regression.Mat52.lengthscale\n",
      "reconstraining parameters GP_regression.Mat52.variance\n",
      "reconstraining parameters GP_regression.Gaussian_noise.variance\n"
     ]
    },
    {
     "name": "stdout",
     "output_type": "stream",
     "text": [
      "Optimization restart 10/10, f = 2697041.497982442\n",
      "Optimization restart 1/10, f = 15.254642781026966\n",
      "Optimization restart 2/10, f = 2697041.4979824424\n",
      "Optimization restart 3/10, f = 15.254642781029201\n",
      "Optimization restart 4/10, f = 15.254642781027751\n",
      "Optimization restart 5/10, f = 78.75081728683729\n",
      "Optimization restart 6/10, f = 562789147.880201\n",
      "Optimization restart 7/10, f = 76.62268079305233\n",
      "Optimization restart 8/10, f = 15.254642781027428\n",
      "Optimization restart 9/10, f = 76.62268079305234\n",
      "Optimization restart 10/10, f = 76.62268079305233\n",
      "(4_w,9)-aCMA-ES (mu_w=2.8,w_1=49%) in dimension 6 (seed=465068, Tue Sep 29 15:13:13 2020)\n",
      "Iterat #Fevals   function value  axis ratio  sigma  min&max std  t[m:s]\n",
      "    1      9 1.685917665232539e-01 1.0e+00 2.61e-01  2e-01  3e-01 0:00.0\n",
      "    2     18 9.247083461356009e-02 1.3e+00 2.96e-01  3e-01  3e-01 0:00.0\n",
      "    3     27 6.743629355796443e-02 1.4e+00 3.58e-01  3e-01  4e-01 0:00.0\n",
      "  100    900 -1.630451844849374e-01 1.1e+02 1.13e-02  1e-03  1e-02 0:01.4\n",
      "  200   1800 -1.630922756812818e-01 7.2e+03 5.41e-04  2e-05  2e-04 0:02.9\n",
      "  300   2700 -1.630923055731550e-01 2.7e+05 5.06e-05  7e-07  8e-06 0:04.3\n",
      "  337   3033 -1.630923055864066e-01 1.4e+00 1.64e-05  1e-05  2e-05 0:04.8\n"
     ]
    },
    {
     "name": "stderr",
     "output_type": "stream",
     "text": [
      " /home/finley/miniconda3/envs/testsuite/lib/python3.8/site-packages/cma/utilities/utils.py:329: UserWarning:\n",
      "        geno-pheno transformation introduced based on the\n",
      "        current covariance matrix with condition 1.0e+12 -> 1.0e+00,\n",
      "        injected solutions become \"invalid\" in this iteration (class=CMAEvolutionStrategy method=alleviate_conditioning iteration=332)\n",
      "reconstraining parameters GP_regression.Mat52.lengthscale\n",
      "reconstraining parameters GP_regression.Mat52.variance\n",
      "reconstraining parameters GP_regression.Gaussian_noise.variance\n"
     ]
    },
    {
     "name": "stdout",
     "output_type": "stream",
     "text": [
      "termination on tolfun=1e-11 (Tue Sep 29 15:13:18 2020)\n",
      "final/bestever f-value = -1.630923e-01 -1.630923e-01\n",
      "incumbent solution: [0.8606189352994988, 3.9675604898598533, 1.8997738322877922, 3.818560867713586, 2.5108952980153845, 6.141864026316398]\n",
      "std deviation: [1.6560108711788697e-05, 1.4358260375264647e-05, 1.4283371655102986e-05, 1.467820339692308e-05, 1.6043786892667073e-05, 1.74204936797798e-05]\n",
      "Optimization restart 1/10, f = 35.84968441065635\n",
      "Optimization restart 2/10, f = 35.84968441060409\n",
      "Optimization restart 3/10, f = 1007080206.5504944\n",
      "Optimization restart 4/10, f = 35.849684410569324\n",
      "Optimization restart 5/10, f = 367.1473446129407\n",
      "Optimization restart 6/10, f = 367.14734461294086\n",
      "Optimization restart 7/10, f = 78.04161932625699\n",
      "Optimization restart 8/10, f = 367.14734461294086\n"
     ]
    },
    {
     "name": "stderr",
     "output_type": "stream",
     "text": [
      "reconstraining parameters GP_regression.Mat52.lengthscale\n",
      "reconstraining parameters GP_regression.Mat52.variance\n",
      "reconstraining parameters GP_regression.Gaussian_noise.variance\n"
     ]
    },
    {
     "name": "stdout",
     "output_type": "stream",
     "text": [
      "Optimization restart 9/10, f = 78.0416093997197\n",
      "Optimization restart 10/10, f = 78.04161932625699\n",
      "Optimization restart 1/10, f = 13.077156502360772\n",
      "Optimization restart 2/10, f = 2746986.7109080437\n",
      "Optimization restart 3/10, f = 367.14734461294086\n",
      "Optimization restart 4/10, f = 76.63575085615952\n",
      "Optimization restart 5/10, f = 367.14734461294086\n",
      "Optimization restart 6/10, f = 367.14734461294086\n",
      "Optimization restart 7/10, f = 367.14734461294086\n",
      "Optimization restart 8/10, f = 78.04161932625703\n",
      "Optimization restart 9/10, f = 2746986.7109080437\n",
      "Optimization restart 10/10, f = 13.077156502347638\n",
      "(4_w,9)-aCMA-ES (mu_w=2.8,w_1=49%) in dimension 6 (seed=472982, Tue Sep 29 15:13:20 2020)\n",
      "Iterat #Fevals   function value  axis ratio  sigma  min&max std  t[m:s]\n",
      "    1      9 1.636029547497388e-01 1.0e+00 2.61e-01  3e-01  3e-01 0:00.0\n",
      "    2     18 1.305255075312131e-01 1.4e+00 2.59e-01  2e-01  3e-01 0:00.0\n",
      "    3     27 1.438274169764790e-01 1.4e+00 2.75e-01  3e-01  3e-01 0:00.0\n",
      "  100    900 -1.489513231011546e-01 5.4e+01 2.46e-02  4e-03  1e-02 0:01.5\n",
      "  200   1800 -1.489985524532811e-01 5.6e+02 6.73e-03  5e-04  2e-03 0:02.9\n",
      "  300   2700 -1.490030327412910e-01 1.6e+03 1.04e-02  1e-04  1e-03 0:04.4\n",
      "  400   3600 -1.490049534372249e-01 3.4e+03 3.37e-02  9e-05  1e-03 0:05.9\n",
      "  500   4500 -1.490065546957022e-01 3.4e+03 9.48e-02  6e-05  7e-04 0:07.3\n",
      "  600   5400 -1.490076021115270e-01 4.7e+03 2.36e-01  4e-05  4e-04 0:09.7\n",
      "  700   6300 -1.490087508249194e-01 2.6e+03 3.11e+00  1e-04  1e-03 0:12.7\n",
      "  800   7200 -1.490096195700401e-01 5.6e+03 4.69e+00  4e-05  6e-04 0:14.4\n",
      "  900   8100 -1.490105694120660e-01 3.6e+03 1.98e+01  5e-05  5e-04 0:15.9\n",
      " 1000   9000 -1.490114269517817e-01 3.8e+03 7.21e+01  4e-05  4e-04 0:17.5\n",
      "Iterat #Fevals   function value  axis ratio  sigma  min&max std  t[m:s]\n",
      " 1100   9900 -1.490122097964455e-01 5.4e+03 2.04e+02  3e-05  3e-04 0:18.9\n",
      " 1200  10800 -1.490125892649972e-01 8.3e+03 8.33e+02  4e-05  4e-04 0:20.3\n",
      " 1300  11700 -1.490131124495884e-01 6.3e+03 1.83e+03  1e-05  2e-04 0:21.8\n",
      " 1400  12600 -1.490135977893545e-01 4.4e+03 2.18e+04  7e-05  5e-04 0:23.7\n",
      " 1500  13500 -1.490141938530374e-01 4.2e+03 3.34e+04  2e-05  2e-04 0:25.3\n",
      " 1600  14400 -1.490147390307399e-01 4.1e+03 1.48e+05  2e-05  2e-04 0:26.7\n",
      " 1700  15300 -1.490150540102273e-01 5.9e+03 1.03e+06  5e-05  5e-04 0:28.3\n",
      " 1800  16200 -1.490154440039722e-01 7.9e+03 2.34e+06  3e-05  3e-04 0:29.8\n",
      " 1900  17100 -1.490157246820942e-01 8.7e+03 2.26e+07  6e-05  9e-04 0:31.3\n",
      " 2000  18000 -1.490158721298402e-01 1.8e+04 9.15e+06  9e-06  8e-05 0:32.7\n",
      "Iterat #Fevals   function value  axis ratio  sigma  min&max std  t[m:s]\n",
      " 2046  18414 -1.490159589696129e-01 7.9e+03 1.37e+08  7e-05  6e-04 0:33.4\n"
     ]
    },
    {
     "name": "stderr",
     "output_type": "stream",
     "text": [
      "reconstraining parameters GP_regression.Mat52.lengthscale\n",
      "reconstraining parameters GP_regression.Mat52.variance\n",
      "reconstraining parameters GP_regression.Gaussian_noise.variance\n"
     ]
    },
    {
     "name": "stdout",
     "output_type": "stream",
     "text": [
      "termination on tolupsigma=1e+20 (Tue Sep 29 15:13:58 2020)\n",
      "final/bestever f-value = -1.490160e-01 -1.490160e-01\n",
      "incumbent solution: [1.9993671532414212, 2.346227341637954e-08, 2.939116142655411, 4.124415112569466, 4.224248928408233, 4.860525681339142]\n",
      "std deviation: [7.486977229179913e-05, 0.00017050875777272924, 0.00032748724587038547, 0.00032851669746171967, 0.00039399527650972946, 0.0006006967472686716]\n",
      "Optimization restart 1/10, f = 36.451067223027124\n",
      "Optimization restart 2/10, f = 79.46055785946167\n",
      "Optimization restart 3/10, f = 1016488774.9834358\n",
      "Optimization restart 4/10, f = 79.46055785946167\n",
      "Optimization restart 5/10, f = 36.45106722302377\n",
      "Optimization restart 6/10, f = 79.46055785946169\n",
      "Optimization restart 7/10, f = 36.45106722302543\n",
      "Optimization restart 8/10, f = 373.8227508786308\n"
     ]
    },
    {
     "name": "stderr",
     "output_type": "stream",
     "text": [
      "reconstraining parameters GP_regression.Mat52.lengthscale\n",
      "reconstraining parameters GP_regression.Mat52.variance\n",
      "reconstraining parameters GP_regression.Gaussian_noise.variance\n"
     ]
    },
    {
     "name": "stdout",
     "output_type": "stream",
     "text": [
      "Optimization restart 9/10, f = 97.8497138971334\n",
      "Optimization restart 10/10, f = 373.8227508786308\n",
      "Optimization restart 1/10, f = 13.41652411388327\n",
      "Optimization restart 2/10, f = 13.416524113882424\n",
      "Optimization restart 3/10, f = 13.416524113883831\n",
      "Optimization restart 4/10, f = 373.8227508786308\n",
      "Optimization restart 5/10, f = 373.8227508786308\n",
      "Optimization restart 6/10, f = 373.8227508786308\n",
      "Optimization restart 7/10, f = 13.416524113885231\n",
      "Optimization restart 8/10, f = 373.8227508786308\n",
      "Optimization restart 9/10, f = 79.46055785946167\n",
      "Optimization restart 10/10, f = 682221716.7693403\n",
      "(4_w,9)-aCMA-ES (mu_w=2.8,w_1=49%) in dimension 6 (seed=550829, Tue Sep 29 15:14:01 2020)\n",
      "Iterat #Fevals   function value  axis ratio  sigma  min&max std  t[m:s]\n",
      "    1      9 1.362249560043673e-01 1.0e+00 2.22e-01  2e-01  2e-01 0:00.0\n",
      "    2     18 7.923548967020100e-02 1.2e+00 2.43e-01  2e-01  3e-01 0:00.1\n",
      "    3     27 4.971021269571985e-02 1.4e+00 2.61e-01  2e-01  3e-01 0:00.1\n",
      "  100    900 -1.176558225566109e-01 9.2e+01 9.01e-02  5e-03  1e-01 0:02.8\n",
      "  200   1800 -1.194826824976460e-01 8.3e+02 2.36e-02  8e-04  2e-02 0:04.7\n",
      "  300   2700 -1.194973606042831e-01 5.5e+03 1.93e-02  3e-04  4e-03 0:06.3\n",
      "  400   3600 -1.194980406075250e-01 3.2e+04 7.89e-03  3e-05  6e-04 0:09.3\n",
      "  500   4500 -1.194981979562757e-01 6.5e+04 3.02e-02  4e-05  8e-04 0:10.8\n",
      "  600   5400 -1.194982240386013e-01 2.8e+05 5.86e-03  2e-06  4e-05 0:12.3\n",
      "  700   6300 -1.194982297197795e-01 5.0e+05 1.87e-02  2e-06  4e-05 0:13.8\n",
      "  800   7200 -1.194982313459068e-01 3.3e+00 1.42e-02  1e-02  2e-02 0:15.3\n"
     ]
    },
    {
     "name": "stderr",
     "output_type": "stream",
     "text": [
      " /home/finley/miniconda3/envs/testsuite/lib/python3.8/site-packages/cma/utilities/utils.py:329: UserWarning:\n",
      "        geno-pheno transformation introduced based on the\n",
      "        current covariance matrix with condition 1.1e+12 -> 1.0e+00,\n",
      "        injected solutions become \"invalid\" in this iteration (class=CMAEvolutionStrategy method=alleviate_conditioning iteration=790)\n"
     ]
    },
    {
     "name": "stdout",
     "output_type": "stream",
     "text": [
      "  889   8001 -1.194982316280464e-01 7.2e+02 8.36e-03  2e-03  4e-02 0:16.6\n"
     ]
    },
    {
     "name": "stderr",
     "output_type": "stream",
     "text": [
      "reconstraining parameters GP_regression.Mat52.lengthscale\n",
      "reconstraining parameters GP_regression.Mat52.variance\n",
      "reconstraining parameters GP_regression.Gaussian_noise.variance\n"
     ]
    },
    {
     "name": "stdout",
     "output_type": "stream",
     "text": [
      "termination on tolfun=1e-11 (Tue Sep 29 15:14:20 2020)\n",
      "final/bestever f-value = -1.194982e-01 -1.194982e-01\n",
      "incumbent solution: [4.952720174889423e-13, 1.4366501013500965, 1.7519971150348402e-08, 7.310947318300818e-13, 6.454947961246944, 4.0121467967983335]\n",
      "std deviation: [0.009200027074315387, 0.022161866159252475, 0.03686618496016926, 0.001747491173743978, 0.009077613688005897, 0.005780979587900822]\n",
      "Optimization restart 1/10, f = 38.48656374916167\n",
      "Optimization restart 2/10, f = 38.48656374914731\n",
      "Optimization restart 3/10, f = 38.48656374914854\n",
      "Optimization restart 4/10, f = 80.87949639266634\n",
      "Optimization restart 5/10, f = 380.49815714432066\n",
      "Optimization restart 6/10, f = 2846877.136759244\n",
      "Optimization restart 7/10, f = 380.49815714432066\n",
      "Optimization restart 8/10, f = 80.8794963926664\n"
     ]
    },
    {
     "name": "stderr",
     "output_type": "stream",
     "text": [
      "reconstraining parameters GP_regression.Mat52.lengthscale\n",
      "reconstraining parameters GP_regression.Mat52.variance\n",
      "reconstraining parameters GP_regression.Gaussian_noise.variance\n"
     ]
    },
    {
     "name": "stdout",
     "output_type": "stream",
     "text": [
      "Optimization restart 9/10, f = 380.49815714432066\n",
      "Optimization restart 10/10, f = 80.87949639266634\n",
      "Optimization restart 1/10, f = 13.605090269621492\n",
      "Optimization restart 2/10, f = 680028029.3405082\n",
      "Optimization restart 3/10, f = 680795010.7911515\n",
      "Optimization restart 4/10, f = 13.605090269614134\n",
      "Optimization restart 5/10, f = 2846877.1367592434\n",
      "Optimization restart 6/10, f = 80.87949639266634\n",
      "Optimization restart 7/10, f = 380.49815714432066\n",
      "Optimization restart 8/10, f = 76.37336052386706\n",
      "Optimization restart 9/10, f = 13.605090269623936\n",
      "Optimization restart 10/10, f = 380.4981571414056\n",
      "(4_w,9)-aCMA-ES (mu_w=2.8,w_1=49%) in dimension 6 (seed=398456, Tue Sep 29 15:14:22 2020)\n",
      "Iterat #Fevals   function value  axis ratio  sigma  min&max std  t[m:s]\n",
      "    1      9 9.694708596351931e-02 1.0e+00 2.80e-01  3e-01  3e-01 0:00.0\n",
      "    2     18 5.062101139006714e-02 1.2e+00 3.47e-01  3e-01  4e-01 0:00.0\n",
      "    3     27 5.223440997272144e-02 1.4e+00 3.49e-01  3e-01  4e-01 0:00.0\n",
      "  100    900 -4.063251863752626e-02 1.4e+02 1.57e-01  2e-02  3e-01 0:01.4\n",
      "  200   1800 -8.478438231826235e-02 8.7e+01 1.73e+00  4e-02  7e-01 0:02.9\n",
      "  300   2700 -1.260174850095828e-01 4.9e+02 3.69e-01  3e-03  6e-02 0:04.7\n",
      "  400   3600 -1.272028888023609e-01 1.5e+03 8.88e-01  8e-04  4e-02 0:06.2\n",
      "  500   4500 -1.277382895366947e-01 3.0e+03 1.97e+00  9e-04  3e-02 0:07.8\n",
      "  600   5400 -1.279735048717177e-01 3.3e+03 8.93e+00  1e-03  2e-02 0:09.3\n",
      "  700   6300 -1.280444071537294e-01 4.5e+03 1.76e+01  6e-04  1e-02 0:10.8\n",
      "  800   7200 -1.280934958662057e-01 5.2e+03 6.06e+01  7e-04  1e-02 0:12.3\n",
      "  900   8100 -1.281176404999431e-01 8.7e+03 4.91e+01  2e-04  4e-03 0:13.8\n",
      " 1000   9000 -1.281291426343383e-01 2.0e+04 5.80e+01  5e-05  2e-03 0:15.3\n",
      "Iterat #Fevals   function value  axis ratio  sigma  min&max std  t[m:s]\n",
      " 1100   9900 -1.281359912638846e-01 2.0e+04 3.72e+02  7e-05  2e-03 0:18.4\n",
      " 1200  10800 -1.281393455908804e-01 6.3e+04 4.03e+02  3e-05  8e-04 0:20.9\n",
      " 1300  11700 -1.281412000079389e-01 3.0e+04 4.20e+03  5e-05  1e-03 0:24.5\n",
      " 1400  12600 -1.281420965443392e-01 5.5e+04 2.06e+04  6e-05  2e-03 0:26.0\n",
      " 1500  13500 -1.281428535266593e-01 7.3e+04 3.41e+04  3e-05  6e-04 0:28.5\n",
      " 1600  14400 -1.281434186808181e-01 5.9e+04 3.24e+05  7e-05  2e-03 0:30.3\n",
      " 1700  15300 -1.281438218085373e-01 8.2e+04 6.39e+05  4e-05  8e-04 0:34.0\n",
      " 1800  16200 -1.281440554761035e-01 6.3e+04 1.42e+06  2e-05  4e-04 0:36.2\n",
      " 1900  17100 -1.281442681584946e-01 9.2e+04 1.16e+07  5e-05  1e-03 0:38.1\n",
      " 2000  18000 -1.281443604056571e-01 1.4e+05 2.18e+07  3e-05  7e-04 0:40.5\n",
      "Iterat #Fevals   function value  axis ratio  sigma  min&max std  t[m:s]\n",
      " 2100  18900 -1.281444107718297e-01 1.9e+05 3.07e+07  9e-06  2e-04 0:42.2\n",
      " 2154  19386 -1.281444324463432e-01 2.3e+05 1.04e+08  2e-05  4e-04 0:43.2\n"
     ]
    },
    {
     "name": "stderr",
     "output_type": "stream",
     "text": [
      "reconstraining parameters GP_regression.Mat52.lengthscale\n",
      "reconstraining parameters GP_regression.Mat52.variance\n",
      "reconstraining parameters GP_regression.Gaussian_noise.variance\n"
     ]
    },
    {
     "name": "stdout",
     "output_type": "stream",
     "text": [
      "termination on tolupsigma=1e+20 (Tue Sep 29 15:15:11 2020)\n",
      "final/bestever f-value = -1.281444e-01 -1.281444e-01\n",
      "incumbent solution: [8.605346900918145e-12, 1.0831668757443684, 5.999999999260125, 7.999986894955901, 7.492769481933077, 11.99999998866833]\n",
      "std deviation: [1.673602451804475e-05, 1.8327461248138187e-05, 6.932403992812776e-05, 0.000136993779150291, 0.0003921094019384424, 0.0003146825302363956]\n",
      "Optimization restart 1/10, f = 39.17774868435523\n",
      "Optimization restart 2/10, f = 39.177748684308284\n",
      "Optimization restart 3/10, f = 82.29843492587102\n",
      "Optimization restart 4/10, f = 39.177748684330126\n",
      "Optimization restart 5/10, f = 82.298434925871\n",
      "Optimization restart 6/10, f = 1136822423.813699\n",
      "Optimization restart 7/10, f = 1142924378.0423262\n"
     ]
    },
    {
     "name": "stderr",
     "output_type": "stream",
     "text": [
      "reconstraining parameters GP_regression.Mat52.lengthscale\n",
      "reconstraining parameters GP_regression.Mat52.variance\n",
      "reconstraining parameters GP_regression.Gaussian_noise.variance\n"
     ]
    },
    {
     "name": "stdout",
     "output_type": "stream",
     "text": [
      "Optimization restart 8/10, f = 1139601159.3020356\n",
      "Optimization restart 9/10, f = 387.17356341001044\n",
      "Optimization restart 10/10, f = 387.17356341001044\n",
      "Optimization restart 1/10, f = 13.339427612605434\n",
      "Optimization restart 2/10, f = 13.339427612518087\n",
      "Optimization restart 3/10, f = 681443810.5639212\n",
      "Optimization restart 4/10, f = 13.339427612515856\n",
      "Optimization restart 5/10, f = 2896822.3496848447\n",
      "Optimization restart 6/10, f = 82.29843492587185\n",
      "Optimization restart 7/10, f = 77.01552272468192\n",
      "Optimization restart 8/10, f = 2896822.3496848447\n",
      "Optimization restart 9/10, f = 387.1735101484634\n",
      "Optimization restart 10/10, f = 82.29843492587104\n",
      "(4_w,9)-aCMA-ES (mu_w=2.8,w_1=49%) in dimension 6 (seed=498364, Tue Sep 29 15:15:13 2020)\n",
      "Iterat #Fevals   function value  axis ratio  sigma  min&max std  t[m:s]\n",
      "    1      9 1.578609020180708e-01 1.0e+00 2.23e-01  2e-01  2e-01 0:00.0\n",
      "    2     18 1.418046475686334e-01 1.2e+00 2.10e-01  2e-01  2e-01 0:00.0\n",
      "    3     27 1.368498792292736e-01 1.4e+00 1.96e-01  2e-01  2e-01 0:00.1\n",
      "  100    900 -1.196289439752336e-01 4.4e+01 3.79e-01  2e-02  3e-01 0:01.5\n",
      "  200   1800 -1.350041826928154e-01 9.6e+02 2.48e-02  3e-04  7e-03 0:04.7\n",
      "  300   2700 -1.350090947315585e-01 1.9e+05 1.69e-04  1e-06  3e-05 0:06.6\n"
     ]
    },
    {
     "name": "stderr",
     "output_type": "stream",
     "text": [
      " /home/finley/miniconda3/envs/testsuite/lib/python3.8/site-packages/cma/utilities/utils.py:329: UserWarning:\n",
      "        geno-pheno transformation introduced based on the\n",
      "        current covariance matrix with condition 1.1e+12 -> 1.0e+00,\n",
      "        injected solutions become \"invalid\" in this iteration (class=CMAEvolutionStrategy method=alleviate_conditioning iteration=341)\n"
     ]
    },
    {
     "name": "stdout",
     "output_type": "stream",
     "text": [
      "  366   3294 -1.350090948913536e-01 5.2e+00 2.96e-05  1e-05  3e-05 0:08.4\n"
     ]
    },
    {
     "name": "stderr",
     "output_type": "stream",
     "text": [
      "reconstraining parameters GP_regression.Mat52.lengthscale\n",
      "reconstraining parameters GP_regression.Mat52.variance\n",
      "reconstraining parameters GP_regression.Gaussian_noise.variance\n"
     ]
    },
    {
     "name": "stdout",
     "output_type": "stream",
     "text": [
      "termination on tolfun=1e-11 (Tue Sep 29 15:15:22 2020)\n",
      "final/bestever f-value = -1.350091e-01 -1.350091e-01\n",
      "incumbent solution: [1.513227606053988, 5.414425171782567e-12, 3.1545657819697226, 4.693693841092681, 3.914790870556317, 5.827477679646108]\n",
      "std deviation: [1.2731531499673963e-05, 3.418907699055184e-05, 2.7901722117587754e-05, 2.5864914634336708e-05, 2.8135436471003767e-05, 1.8846514277454436e-05]\n",
      "Optimization restart 1/10, f = 39.94808147759825\n",
      "Optimization restart 2/10, f = 83.7173734590757\n",
      "Optimization restart 3/10, f = 1172031526.8450706\n",
      "Optimization restart 4/10, f = 393.8489696757003\n",
      "Optimization restart 5/10, f = 39.94808147252344\n",
      "Optimization restart 6/10, f = 39.94808147252833\n",
      "Optimization restart 7/10, f = 39.94808147252296\n",
      "Optimization restart 8/10, f = 1167225756.1113162\n",
      "Optimization restart 9/10, f = 2946767.5626104465\n",
      "Optimization restart 10/10, f = 393.8489696757003\n"
     ]
    },
    {
     "name": "stderr",
     "output_type": "stream",
     "text": [
      "reconstraining parameters GP_regression.Mat52.lengthscale\n",
      "reconstraining parameters GP_regression.Mat52.variance\n",
      "reconstraining parameters GP_regression.Gaussian_noise.variance\n"
     ]
    },
    {
     "name": "stdout",
     "output_type": "stream",
     "text": [
      "Optimization restart 1/10, f = 13.326414465148638\n",
      "Optimization restart 2/10, f = 393.8489696757003\n",
      "Optimization restart 3/10, f = 13.326414465151526\n",
      "Optimization restart 4/10, f = 83.71737345907569\n",
      "Optimization restart 5/10, f = 13.326414465154095\n",
      "Optimization restart 6/10, f = 2946767.562610447\n",
      "Optimization restart 7/10, f = 709587748.8100444\n",
      "Optimization restart 8/10, f = 709255205.2650281\n",
      "Optimization restart 9/10, f = 76.9274333647981\n",
      "Optimization restart 10/10, f = 83.71737345907569\n",
      "(4_w,9)-aCMA-ES (mu_w=2.8,w_1=49%) in dimension 6 (seed=508882, Tue Sep 29 15:15:26 2020)\n",
      "Iterat #Fevals   function value  axis ratio  sigma  min&max std  t[m:s]\n",
      "    1      9 3.835252579831734e-01 1.0e+00 2.54e-01  2e-01  3e-01 0:00.0\n",
      "    2     18 3.475395861457320e-01 1.4e+00 2.33e-01  2e-01  3e-01 0:00.0\n",
      "    3     27 3.076068510399561e-01 1.5e+00 2.41e-01  2e-01  3e-01 0:00.0\n",
      "  100    900 -1.527582000366423e-01 1.9e+01 4.91e-02  7e-03  2e-02 0:01.7\n",
      "  200   1800 -1.536505835006834e-01 1.0e+03 6.88e-03  3e-04  2e-03 0:03.5\n",
      "  300   2700 -1.536521040163321e-01 7.6e+03 2.80e-03  3e-05  2e-04 0:05.1\n",
      "  400   3600 -1.536521454043371e-01 8.7e+04 1.82e-03  5e-06  6e-05 0:08.0\n",
      "  500   4500 -1.536521514148603e-01 1.1e+05 2.42e-03  2e-06  2e-05 0:11.1\n",
      "  600   5400 -1.536521533290167e-01 1.5e+05 1.26e-02  2e-06  2e-05 0:12.9\n",
      "  700   6300 -1.536521542600311e-01 4.1e+05 1.29e-02  6e-07  7e-06 0:14.7\n",
      "  800   7200 -1.536521544605511e-01 6.8e+05 4.95e-02  6e-07  7e-06 0:16.3\n"
     ]
    },
    {
     "name": "stderr",
     "output_type": "stream",
     "text": [
      " /home/finley/miniconda3/envs/testsuite/lib/python3.8/site-packages/cma/utilities/utils.py:329: UserWarning:\n",
      "        geno-pheno transformation introduced based on the\n",
      "        current covariance matrix with condition 1.0e+12 -> 1.0e+00,\n",
      "        injected solutions become \"invalid\" in this iteration (class=CMAEvolutionStrategy method=alleviate_conditioning iteration=834)\n"
     ]
    },
    {
     "name": "stdout",
     "output_type": "stream",
     "text": [
      "  900   8100 -1.536521545419021e-01 2.3e+01 9.18e-02  6e-02  2e-01 0:19.0\n",
      "  965   8685 -1.536521545838974e-01 8.0e+01 5.24e-02  1e-02  1e-01 0:21.2\n"
     ]
    },
    {
     "name": "stderr",
     "output_type": "stream",
     "text": [
      "reconstraining parameters GP_regression.Mat52.lengthscale\n",
      "reconstraining parameters GP_regression.Mat52.variance\n",
      "reconstraining parameters GP_regression.Gaussian_noise.variance\n"
     ]
    },
    {
     "name": "stdout",
     "output_type": "stream",
     "text": [
      "termination on tolfun=1e-11 (Tue Sep 29 15:15:50 2020)\n",
      "final/bestever f-value = -1.536522e-01 -1.536522e-01\n",
      "incumbent solution: [1.9999999995053905, 0.7069784885752597, 2.0431944926804135, 3.8657040515063272, 3.4277603279042523, 4.621909962623249]\n",
      "std deviation: [0.012518887289285423, 0.10193667563230888, 0.034827307856102434, 0.013250819144779352, 0.026248429981745654, 0.012795124571376486]\n",
      "Optimization restart 1/10, f = 40.42716123376323\n",
      "Optimization restart 2/10, f = 400.52437591293443\n",
      "Optimization restart 3/10, f = 85.13631199228035\n",
      "Optimization restart 4/10, f = 85.13631199228035\n",
      "Optimization restart 5/10, f = 2996712.7755360464\n",
      "Optimization restart 6/10, f = 1179842011.8172684\n",
      "Optimization restart 7/10, f = 1178103556.908376\n",
      "Optimization restart 8/10, f = 2996712.7755360464\n"
     ]
    },
    {
     "name": "stderr",
     "output_type": "stream",
     "text": [
      "reconstraining parameters GP_regression.Mat52.lengthscale\n"
     ]
    },
    {
     "name": "stdout",
     "output_type": "stream",
     "text": [
      "Optimization restart 9/10, f = 40.42716123286343\n",
      "Optimization restart 10/10, f = 85.13631199228035\n"
     ]
    },
    {
     "name": "stderr",
     "output_type": "stream",
     "text": [
      "reconstraining parameters GP_regression.Mat52.variance\n",
      "reconstraining parameters GP_regression.Gaussian_noise.variance\n"
     ]
    },
    {
     "name": "stdout",
     "output_type": "stream",
     "text": [
      "Optimization restart 1/10, f = 12.929588798361202\n",
      "Optimization restart 2/10, f = 12.929588798361557\n",
      "Optimization restart 3/10, f = 2996712.7755360464\n",
      "Optimization restart 4/10, f = 722089539.8818945\n",
      "Optimization restart 5/10, f = 400.5243759413901\n",
      "Optimization restart 6/10, f = 85.13631199228038\n",
      "Optimization restart 7/10, f = 85.13631199228035\n",
      "Optimization restart 8/10, f = 12.929588798361582\n",
      "Optimization restart 9/10, f = 2996712.7755360464\n",
      "Optimization restart 10/10, f = 12.929588798366673\n",
      "(4_w,9)-aCMA-ES (mu_w=2.8,w_1=49%) in dimension 6 (seed=533861, Tue Sep 29 15:15:55 2020)\n",
      "Iterat #Fevals   function value  axis ratio  sigma  min&max std  t[m:s]\n",
      "    1      9 3.237416468829843e-01 1.0e+00 2.49e-01  2e-01  3e-01 0:00.0\n",
      "    2     18 2.837517453956011e-01 1.3e+00 2.83e-01  2e-01  3e-01 0:00.0\n",
      "    3     27 2.554118153970633e-01 1.6e+00 3.23e-01  3e-01  4e-01 0:00.1\n",
      "  100    900 -5.428812272385319e-02 9.3e+01 7.67e-02  7e-03  7e-02 0:01.5\n",
      "  200   1800 -1.288149594914387e-01 1.1e+02 2.57e-01  3e-03  8e-02 0:03.1\n",
      "  300   2700 -1.303242191861846e-01 9.4e+02 3.17e-01  9e-04  6e-02 0:04.7\n",
      "  400   3600 -1.314573388746545e-01 5.1e+02 1.38e+00  2e-03  6e-02 0:06.4\n",
      "  500   4500 -1.321072579932228e-01 4.5e+03 3.99e-01  2e-04  5e-03 0:07.9\n",
      "  600   5400 -1.321086088162893e-01 2.5e+05 2.37e-02  4e-06  1e-04 0:09.5\n"
     ]
    },
    {
     "name": "stderr",
     "output_type": "stream",
     "text": [
      " /home/finley/miniconda3/envs/testsuite/lib/python3.8/site-packages/cma/utilities/utils.py:329: UserWarning:\n",
      "        geno-pheno transformation introduced based on the\n",
      "        current covariance matrix with condition 1.1e+12 -> 1.0e+00,\n",
      "        injected solutions become \"invalid\" in this iteration (class=CMAEvolutionStrategy method=alleviate_conditioning iteration=663)\n"
     ]
    },
    {
     "name": "stdout",
     "output_type": "stream",
     "text": [
      "  688   6192 -1.321086094310548e-01 2.8e+00 1.17e-03  7e-04  1e-03 0:12.0\n"
     ]
    },
    {
     "name": "stderr",
     "output_type": "stream",
     "text": [
      "reconstraining parameters GP_regression.Mat52.lengthscale\n",
      "reconstraining parameters GP_regression.Mat52.variance\n",
      "reconstraining parameters GP_regression.Gaussian_noise.variance\n"
     ]
    },
    {
     "name": "stdout",
     "output_type": "stream",
     "text": [
      "termination on tolfun=1e-11 (Tue Sep 29 15:16:08 2020)\n",
      "final/bestever f-value = -1.321086e-01 -1.321086e-01\n",
      "incumbent solution: [5.698181457915001e-13, 1.2018885911700055, 5.999999999997436, 7.40762910076724, 9.999999999998245, 11.999999999989]\n",
      "std deviation: [0.001049098223124768, 0.0008849256769356862, 0.0007228844705664346, 0.0008622703735222688, 0.0010180894849286934, 0.0008948463658956805]\n",
      "Optimization restart 1/10, f = 40.16454866064482\n",
      "Optimization restart 2/10, f = 1195615250.6435957\n",
      "Optimization restart 3/10, f = 407.1997822070799\n",
      "Optimization restart 4/10, f = 3046657.9884616476\n",
      "Optimization restart 5/10, f = 1191607666.8507836\n",
      "Optimization restart 6/10, f = 1198807006.9918478\n",
      "Optimization restart 7/10, f = 86.55525052548504\n",
      "Optimization restart 8/10, f = 407.1997822070799\n",
      "Optimization restart 9/10, f = 1197497141.0091846\n",
      "Optimization restart 10/10, f = 407.1997822070799\n"
     ]
    },
    {
     "name": "stderr",
     "output_type": "stream",
     "text": [
      "reconstraining parameters GP_regression.Mat52.lengthscale\n",
      "reconstraining parameters GP_regression.Mat52.variance\n",
      "reconstraining parameters GP_regression.Gaussian_noise.variance\n"
     ]
    },
    {
     "name": "stdout",
     "output_type": "stream",
     "text": [
      "Optimization restart 1/10, f = 11.52788183681865\n",
      "Optimization restart 2/10, f = 11.527881836849296\n",
      "Optimization restart 3/10, f = 11.527881836797558\n",
      "Optimization restart 4/10, f = 11.52788183680024\n",
      "Optimization restart 5/10, f = 3046657.988461647\n",
      "Optimization restart 6/10, f = 407.1997822070799\n",
      "Optimization restart 7/10, f = 76.41307567869268\n",
      "Optimization restart 8/10, f = 407.1997822070799\n",
      "Optimization restart 9/10, f = 86.55525052548515\n",
      "Optimization restart 10/10, f = 11.527881836798002\n",
      "(4_w,9)-aCMA-ES (mu_w=2.8,w_1=49%) in dimension 6 (seed=483842, Tue Sep 29 15:16:13 2020)\n",
      "Iterat #Fevals   function value  axis ratio  sigma  min&max std  t[m:s]\n",
      "    1      9 2.364187112528133e-01 1.0e+00 2.63e-01  2e-01  3e-01 0:00.1\n",
      "    2     18 1.589080965979515e-01 1.4e+00 2.97e-01  3e-01  3e-01 0:00.3\n",
      "    3     27 1.311339864394707e-01 1.6e+00 3.36e-01  3e-01  4e-01 0:00.5\n",
      "   78    702 -1.316907488160217e-01 1.5e+01 1.31e-01  2e-02  2e-01 0:03.5\n",
      "  100    900 -1.353624569505887e-01 1.2e+01 5.28e-02  6e-03  3e-02 0:05.1\n",
      "  176   1584 -1.360707378266008e-01 3.8e+02 1.04e-02  8e-04  4e-03 0:10.1\n",
      "  200   1800 -1.360760890933237e-01 4.9e+02 8.02e-03  3e-04  2e-03 0:11.3\n",
      "  300   2700 -1.360849685377268e-01 1.4e+03 1.42e-02  1e-04  1e-03 0:17.3\n",
      "  400   3600 -1.360925101818207e-01 1.2e+03 4.75e-02  1e-04  1e-03 0:22.6\n",
      "  500   4500 -1.361009983106829e-01 8.9e+02 2.50e-01  2e-04  1e-03 0:26.5\n",
      "  600   5400 -1.361092193881450e-01 1.0e+03 1.02e+00  2e-04  2e-03 0:28.0\n",
      "  700   6300 -1.361157606942300e-01 6.8e+02 3.44e+00  1e-04  1e-03 0:29.5\n",
      "  800   7200 -1.361224004103421e-01 9.7e+02 1.12e+01  1e-04  1e-03 0:31.3\n",
      "  900   8100 -1.361268176641668e-01 2.1e+03 5.32e+01  2e-04  2e-03 0:32.9\n",
      " 1000   9000 -1.361289005753736e-01 1.8e+03 1.29e+02  1e-04  1e-03 0:34.8\n",
      "Iterat #Fevals   function value  axis ratio  sigma  min&max std  t[m:s]\n",
      " 1100   9900 -1.361318838331986e-01 1.2e+03 6.61e+02  1e-04  1e-03 0:36.5\n",
      " 1200  10800 -1.361341213228866e-01 1.3e+03 2.49e+03  1e-04  1e-03 0:38.1\n",
      " 1300  11700 -1.361362081396849e-01 1.3e+03 8.78e+03  9e-05  1e-03 0:39.6\n",
      " 1400  12600 -1.361381363801479e-01 1.5e+03 3.32e+04  8e-05  1e-03 0:41.2\n",
      " 1500  13500 -1.361395711516344e-01 2.1e+03 6.87e+04  5e-05  6e-04 0:42.7\n",
      " 1600  14400 -1.361408884712749e-01 2.0e+03 3.01e+05  5e-05  6e-04 0:44.3\n",
      " 1700  15300 -1.361420909250335e-01 1.5e+03 9.57e+05  4e-05  6e-04 0:45.9\n",
      " 1800  16200 -1.361429584518534e-01 2.4e+03 2.64e+06  2e-05  4e-04 0:50.2\n",
      " 1900  17100 -1.361437918423536e-01 2.3e+03 8.82e+06  2e-05  4e-04 0:53.8\n",
      " 2000  18000 -1.361446543636586e-01 1.4e+03 5.72e+07  2e-05  5e-04 0:57.1\n",
      "Iterat #Fevals   function value  axis ratio  sigma  min&max std  t[m:s]\n",
      " 2028  18252 -1.361448891660559e-01 1.2e+03 1.52e+08  4e-05  9e-04 0:57.5\n"
     ]
    },
    {
     "name": "stderr",
     "output_type": "stream",
     "text": [
      "reconstraining parameters GP_regression.Mat52.lengthscale\n",
      "reconstraining parameters GP_regression.Mat52.variance\n",
      "reconstraining parameters GP_regression.Gaussian_noise.variance\n"
     ]
    },
    {
     "name": "stdout",
     "output_type": "stream",
     "text": [
      "termination on tolupsigma=1e+20 (Tue Sep 29 15:17:17 2020)\n",
      "final/bestever f-value = -1.361449e-01 -1.361449e-01\n",
      "incumbent solution: [0.0004845565694300951, 9.154053990251894e-09, 5.99999999751449, 7.999999952045984, 9.999999862379944, 3.778880591375884]\n",
      "std deviation: [7.666332046502475e-05, 0.0001616285372865956, 0.0006603978303879713, 0.0008258031480453728, 0.0008929416876763065, 4.2881783960201164e-05]\n",
      "Optimization restart 1/10, f = 40.57961468329796\n",
      "Optimization restart 2/10, f = 87.9741890586897\n",
      "Optimization restart 3/10, f = 40.579614682948346\n",
      "Optimization restart 4/10, f = 40.57961468294832\n",
      "Optimization restart 5/10, f = 3096603.2013872475\n",
      "Optimization restart 6/10, f = 87.9741890586897\n",
      "Optimization restart 7/10, f = 3096603.2013872475\n",
      "Optimization restart 8/10, f = 413.87518847276976\n"
     ]
    },
    {
     "name": "stderr",
     "output_type": "stream",
     "text": [
      "reconstraining parameters GP_regression.Mat52.lengthscale\n",
      "reconstraining parameters GP_regression.Mat52.variance\n",
      "reconstraining parameters GP_regression.Gaussian_noise.variance\n"
     ]
    },
    {
     "name": "stdout",
     "output_type": "stream",
     "text": [
      "Optimization restart 9/10, f = 3096603.2013872475\n",
      "Optimization restart 10/10, f = 413.87518847276976\n",
      "Optimization restart 1/10, f = 11.784353301763538\n",
      "Optimization restart 2/10, f = 413.87518847276976\n",
      "Optimization restart 3/10, f = 77.53725178694127\n",
      "Optimization restart 4/10, f = 3096603.201387248\n",
      "Optimization restart 5/10, f = 3096603.201387248\n",
      "Optimization restart 6/10, f = 3096603.201387248\n",
      "Optimization restart 7/10, f = 11.784353301754898\n",
      "Optimization restart 8/10, f = 11.784353301748219\n",
      "Optimization restart 9/10, f = 413.87518847276976\n",
      "Optimization restart 10/10, f = 413.87518847276976\n",
      "(4_w,9)-aCMA-ES (mu_w=2.8,w_1=49%) in dimension 6 (seed=495210, Tue Sep 29 15:17:21 2020)\n",
      "Iterat #Fevals   function value  axis ratio  sigma  min&max std  t[m:s]\n",
      "    1      9 3.205643100628353e-01 1.0e+00 2.68e-01  3e-01  3e-01 0:00.0\n",
      "    2     18 2.989914615538560e-01 1.3e+00 3.15e-01  3e-01  4e-01 0:00.1\n",
      "    3     27 2.533269825240385e-01 1.6e+00 3.64e-01  3e-01  4e-01 0:00.1\n",
      "  100    900 -1.195934668475651e-01 8.6e+01 1.79e-02  2e-03  1e-02 0:01.6\n",
      "  200   1800 -1.196811784016920e-01 1.3e+04 5.88e-04  3e-05  2e-04 0:03.1\n",
      "  300   2700 -1.196811857242550e-01 2.6e+00 8.01e-06  6e-06  8e-06 0:06.4\n",
      "  399   3591 -1.196811857221300e-01 1.4e+01 6.45e-06  2e-06  5e-06 0:08.3\n"
     ]
    },
    {
     "name": "stderr",
     "output_type": "stream",
     "text": [
      "reconstraining parameters GP_regression.Mat52.lengthscale\n",
      "reconstraining parameters GP_regression.Mat52.variance\n",
      "reconstraining parameters GP_regression.Gaussian_noise.variance\n"
     ]
    },
    {
     "name": "stdout",
     "output_type": "stream",
     "text": [
      "termination on tolfun=1e-11 (Tue Sep 29 15:17:31 2020)\n",
      "final/bestever f-value = -1.196812e-01 -1.196812e-01\n",
      "incumbent solution: [0.6333165685100539, 3.4961299679944204, 2.3669816304609412, 3.7433188567692923, 3.2970324942216394, 5.446901709641679]\n",
      "std deviation: [4.275491152300925e-06, 4.956342572821548e-06, 4.074244001811795e-06, 2.1881029804027693e-06, 2.5939883648684906e-06, 5.469741474244406e-06]\n",
      "Optimization restart 1/10, f = 40.53018207016444\n",
      "Optimization restart 2/10, f = 40.5301820700317\n",
      "Optimization restart 3/10, f = 420.55059473845955\n",
      "Optimization restart 4/10, f = 420.55059473845955\n",
      "Optimization restart 5/10, f = 89.39312759189447\n",
      "Optimization restart 6/10, f = 1194271500.8589334\n",
      "Optimization restart 7/10, f = 89.39312759189667\n",
      "Optimization restart 8/10, f = 40.53018207003416\n",
      "Optimization restart 9/10, f = 420.55059473845955\n"
     ]
    },
    {
     "name": "stderr",
     "output_type": "stream",
     "text": [
      "reconstraining parameters GP_regression.Mat52.lengthscale\n",
      "reconstraining parameters GP_regression.Mat52.variance\n",
      "reconstraining parameters GP_regression.Gaussian_noise.variance\n"
     ]
    },
    {
     "name": "stdout",
     "output_type": "stream",
     "text": [
      "Optimization restart 10/10, f = 420.55059473845955\n",
      "Optimization restart 1/10, f = 10.699260883082353\n",
      "Optimization restart 2/10, f = 89.3931275918946\n",
      "Optimization restart 3/10, f = 89.39312759189438\n",
      "Optimization restart 4/10, f = 89.39312759189441\n",
      "Optimization restart 5/10, f = 10.69926088304993\n",
      "Optimization restart 6/10, f = 10.699260883047359\n",
      "Optimization restart 7/10, f = 10.69926088305083\n",
      "Optimization restart 8/10, f = 10.699260883043362\n",
      "Optimization restart 9/10, f = 420.55059473845955\n",
      "Optimization restart 10/10, f = 3146548.4143128498\n",
      "(4_w,9)-aCMA-ES (mu_w=2.8,w_1=49%) in dimension 6 (seed=459708, Tue Sep 29 15:17:35 2020)\n",
      "Iterat #Fevals   function value  axis ratio  sigma  min&max std  t[m:s]\n",
      "    1      9 5.078819043482252e-01 1.0e+00 2.55e-01  2e-01  3e-01 0:00.0\n",
      "    2     18 4.951620704520827e-01 1.3e+00 2.60e-01  2e-01  3e-01 0:00.1\n",
      "    3     27 4.901117304952021e-01 1.5e+00 2.92e-01  3e-01  3e-01 0:00.1\n",
      "   75    675 5.817795042643059e-02 5.6e+00 3.31e-02  6e-03  3e-02 0:03.1\n",
      "  100    900 5.785162732803162e-02 2.1e+01 4.23e-02  6e-03  4e-02 0:04.8\n",
      "  200   1800 5.734355058631202e-02 1.8e+02 2.24e-02  8e-04  1e-02 0:06.6\n",
      "  300   2700 5.732662425165058e-02 1.6e+03 5.13e-03  5e-05  6e-04 0:08.9\n",
      "  400   3600 5.732638193774076e-02 4.9e+03 1.04e-02  3e-05  5e-04 0:10.6\n",
      "  500   4500 5.732633575221779e-02 1.3e+04 6.84e-03  4e-06  8e-05 0:12.4\n",
      "  589   5301 5.732633527884134e-02 2.8e+05 7.16e-04  2e-07  5e-06 0:13.8\n",
      "termination on tolfun=1e-11 (Tue Sep 29 15:17:50 2020)\n",
      "final/bestever f-value = 5.732634e-02 5.555411e-02\n",
      "incumbent solution: [1.9999999999999998, 4.65413670944675e-13, 4.235873375137188, 5.712261447016101, 8.53804803670479, 5.258489378255489]\n",
      "std deviation: [3.479223189402305e-07, 2.1409188934405515e-07, 1.7099736907530218e-06, 2.7608288292908234e-06, 2.0292542569708678e-06, 4.719116531659616e-06]\n"
     ]
    },
    {
     "name": "stderr",
     "output_type": "stream",
     "text": [
      "reconstraining parameters GP_regression.Mat52.lengthscale\n",
      "reconstraining parameters GP_regression.Mat52.variance\n",
      "reconstraining parameters GP_regression.Gaussian_noise.variance\n"
     ]
    },
    {
     "name": "stdout",
     "output_type": "stream",
     "text": [
      "Optimization restart 1/10, f = 41.037859228773975\n",
      "Optimization restart 2/10, f = 41.03785843512326\n",
      "Optimization restart 3/10, f = 41.03785843512186\n",
      "Optimization restart 4/10, f = 1218622083.6831117\n",
      "Optimization restart 5/10, f = 427.22600100414945\n",
      "Optimization restart 6/10, f = 1220574892.4579632\n",
      "Optimization restart 7/10, f = 90.81206612509905\n",
      "Optimization restart 8/10, f = 90.8120661250991\n",
      "Optimization restart 9/10, f = 41.0378584351662\n"
     ]
    },
    {
     "name": "stderr",
     "output_type": "stream",
     "text": [
      "reconstraining parameters GP_regression.Mat52.lengthscale\n",
      "reconstraining parameters GP_regression.Mat52.variance\n",
      "reconstraining parameters GP_regression.Gaussian_noise.variance\n"
     ]
    },
    {
     "name": "stdout",
     "output_type": "stream",
     "text": [
      "Optimization restart 10/10, f = 427.22600100414945\n",
      "Optimization restart 1/10, f = 10.464580029726942\n",
      "Optimization restart 2/10, f = 781460188.1385221\n",
      "Optimization restart 3/10, f = 427.22600100414945\n",
      "Optimization restart 4/10, f = 90.81206612509905\n",
      "Optimization restart 5/10, f = 10.464580029577988\n",
      "Optimization restart 6/10, f = 427.22600100414945\n",
      "Optimization restart 7/10, f = 10.464580029575792\n",
      "Optimization restart 8/10, f = 427.22600100414945\n",
      "Optimization restart 9/10, f = 10.464580029576027\n",
      "Optimization restart 10/10, f = 10.464580029575394\n",
      "(4_w,9)-aCMA-ES (mu_w=2.8,w_1=49%) in dimension 6 (seed=433570, Tue Sep 29 15:17:54 2020)\n",
      "Iterat #Fevals   function value  axis ratio  sigma  min&max std  t[m:s]\n",
      "    1      9 4.844680954086646e-01 1.0e+00 2.51e-01  2e-01  3e-01 0:00.0\n",
      "    2     18 4.324930914817358e-01 1.3e+00 2.76e-01  3e-01  3e-01 0:00.0\n",
      "    3     27 3.551417280651030e-01 1.5e+00 3.11e-01  3e-01  4e-01 0:00.1\n",
      "  100    900 1.813867954126214e-01 2.6e+01 2.51e-02  2e-03  3e-02 0:02.6\n",
      "  200   1800 1.813769727669727e-01 1.4e+03 3.42e-04  3e-06  1e-04 0:04.1\n",
      "  300   2700 1.813769530502440e-01 9.2e+03 1.18e-03  2e-06  1e-04 0:05.6\n",
      "  400   3600 1.813769494106467e-01 4.5e+04 9.43e-04  6e-07  4e-05 0:07.2\n",
      "  500   4500 1.813769431165844e-01 1.6e+04 9.89e-03  9e-07  8e-05 0:09.3\n",
      "  600   5400 1.813769372310599e-01 2.2e+04 2.79e-02  9e-07  6e-05 0:10.8\n",
      "  700   6300 1.813769346950300e-01 4.0e+04 2.41e-02  3e-07  2e-05 0:14.8\n",
      "  800   7200 1.813769302282398e-01 2.4e+04 1.93e-01  3e-07  3e-05 0:18.2\n",
      "  900   8100 1.813769269398857e-01 3.5e+04 2.28e+00  1e-06  1e-04 0:19.8\n",
      " 1000   9000 1.813769219704382e-01 2.2e+04 9.29e+00  1e-06  1e-04 0:22.2\n",
      "Iterat #Fevals   function value  axis ratio  sigma  min&max std  t[m:s]\n",
      " 1100   9900 1.813769193863275e-01 2.6e+04 3.97e+01  9e-07  1e-04 0:24.5\n",
      " 1200  10800 1.813769148865998e-01 1.8e+04 1.64e+02  1e-06  9e-05 0:26.0\n",
      " 1300  11700 1.813769117332231e-01 2.6e+04 5.75e+02  1e-06  8e-05 0:27.6\n",
      " 1400  12600 1.813769085315695e-01 3.2e+04 1.00e+03  5e-07  5e-05 0:29.1\n",
      " 1500  13500 1.813769047289890e-01 2.5e+04 6.78e+03  7e-07  7e-05 0:31.0\n",
      " 1600  14400 1.813769016327746e-01 2.0e+04 2.43e+04  6e-07  6e-05 0:34.4\n",
      " 1700  15300 1.813768987271718e-01 3.2e+04 8.69e+04  6e-07  6e-05 0:36.0\n",
      " 1800  16200 1.813768962770712e-01 1.9e+04 2.78e+05  4e-07  5e-05 0:37.5\n",
      " 1900  17100 1.813768930989745e-01 1.7e+04 1.82e+06  8e-07  8e-05 0:39.1\n",
      " 2000  18000 1.813768886510887e-01 4.0e+04 2.36e+06  3e-07  4e-05 0:40.7\n",
      "Iterat #Fevals   function value  axis ratio  sigma  min&max std  t[m:s]\n",
      " 2100  18900 1.813768862189966e-01 2.3e+04 1.07e+07  3e-07  3e-05 0:42.2\n",
      " 2164  19476 1.813768848514097e-01 2.8e+04 3.89e+07  5e-07  5e-05 0:43.2\n"
     ]
    },
    {
     "name": "stderr",
     "output_type": "stream",
     "text": [
      "reconstraining parameters GP_regression.Mat52.lengthscale\n",
      "reconstraining parameters GP_regression.Mat52.variance\n",
      "reconstraining parameters GP_regression.Gaussian_noise.variance\n"
     ]
    },
    {
     "name": "stdout",
     "output_type": "stream",
     "text": [
      "termination on tolupsigma=1e+20 (Tue Sep 29 15:18:42 2020)\n",
      "final/bestever f-value = 1.813769e-01 1.813769e-01\n",
      "incumbent solution: [6.440290667876222e-10, 3.999975539174094, 5.999999999290674, 7.999999999644846, 9.999999998753825, 2.587522436728052]\n",
      "std deviation: [6.438091924446181e-06, 1.0618313090067551e-05, 2.713228419922244e-05, 5.453347905990152e-05, 4.3603097471570246e-05, 5.438824238029186e-07]\n",
      "Optimization restart 1/10, f = 41.521089257543856\n",
      "Optimization restart 2/10, f = 433.9014072698393\n",
      "Optimization restart 3/10, f = 41.52108925803225\n",
      "Optimization restart 4/10, f = 41.521089257516\n",
      "Optimization restart 5/10, f = 41.521089257517716\n",
      "Optimization restart 6/10, f = 433.9014053516955\n",
      "Optimization restart 7/10, f = 109.57594254657305\n"
     ]
    },
    {
     "name": "stderr",
     "output_type": "stream",
     "text": [
      "reconstraining parameters GP_regression.Mat52.lengthscale\n",
      "reconstraining parameters GP_regression.Mat52.variance\n",
      "reconstraining parameters GP_regression.Gaussian_noise.variance\n"
     ]
    },
    {
     "name": "stdout",
     "output_type": "stream",
     "text": [
      "Optimization restart 8/10, f = 41.52108925751491\n",
      "Optimization restart 9/10, f = 92.23100465830373\n",
      "Optimization restart 10/10, f = 1302646067.5941195\n",
      "Optimization restart 1/10, f = 11.722473309725046\n",
      "Optimization restart 2/10, f = 11.722473309732656\n",
      "Optimization restart 3/10, f = 11.722473309728883\n",
      "Optimization restart 4/10, f = 433.9014072698393\n",
      "Optimization restart 5/10, f = 859912641.9921156\n",
      "Optimization restart 6/10, f = 3246438.840164051\n",
      "Optimization restart 7/10, f = 433.9014072697889\n",
      "Optimization restart 8/10, f = 862548325.1150259\n",
      "Optimization restart 9/10, f = 11.722473309729878\n",
      "Optimization restart 10/10, f = 3246438.840164051\n",
      "(4_w,9)-aCMA-ES (mu_w=2.8,w_1=49%) in dimension 6 (seed=491547, Tue Sep 29 15:18:44 2020)\n",
      "Iterat #Fevals   function value  axis ratio  sigma  min&max std  t[m:s]\n",
      "    1      9 4.082453320688455e-01 1.0e+00 2.14e-01  2e-01  2e-01 0:00.0\n",
      "    2     18 4.001154827294848e-01 1.2e+00 2.06e-01  2e-01  2e-01 0:00.0\n",
      "    3     27 3.911078541170794e-01 1.2e+00 1.92e-01  2e-01  2e-01 0:00.1\n",
      "  100    900 -1.850866510785123e-01 5.0e+01 3.93e-02  4e-03  3e-02 0:01.6\n",
      "  200   1800 -1.859159277805782e-01 5.8e+03 1.44e-03  5e-05  5e-04 0:03.0\n",
      "  300   2700 -1.859159918637117e-01 2.2e+00 8.50e-06  7e-06  1e-05 0:04.5\n"
     ]
    },
    {
     "name": "stderr",
     "output_type": "stream",
     "text": [
      " /home/finley/miniconda3/envs/testsuite/lib/python3.8/site-packages/cma/utilities/utils.py:329: UserWarning:\n",
      "        geno-pheno transformation introduced based on the\n",
      "        current covariance matrix with condition 1.0e+12 -> 1.0e+00,\n",
      "        injected solutions become \"invalid\" in this iteration (class=CMAEvolutionStrategy method=alleviate_conditioning iteration=288)\n"
     ]
    },
    {
     "name": "stdout",
     "output_type": "stream",
     "text": [
      "  302   2718 -1.859159918633473e-01 2.5e+00 8.75e-06  7e-06  9e-06 0:04.5\n"
     ]
    },
    {
     "name": "stderr",
     "output_type": "stream",
     "text": [
      "reconstraining parameters GP_regression.Mat52.lengthscale\n",
      "reconstraining parameters GP_regression.Mat52.variance\n",
      "reconstraining parameters GP_regression.Gaussian_noise.variance\n"
     ]
    },
    {
     "name": "stdout",
     "output_type": "stream",
     "text": [
      "termination on tolfun=1e-11 (Tue Sep 29 15:18:49 2020)\n",
      "final/bestever f-value = -1.859160e-01 -1.859160e-01\n",
      "incumbent solution: [1.4010464059151673, 2.1246595781813085, 2.138624888721097, 3.329740128316189, 4.343057508871425, 4.506606221981201]\n",
      "std deviation: [8.859580932434423e-06, 8.751605313522503e-06, 9.160716798923194e-06, 7.813252030399439e-06, 7.1419022083551776e-06, 7.445268975907239e-06]\n",
      "Optimization restart 1/10, f = 44.31513559476557\n",
      "Optimization restart 2/10, f = 1355861373.1393232\n",
      "Optimization restart 3/10, f = 117.72010523978166\n",
      "Optimization restart 4/10, f = 93.6499431915084\n",
      "Optimization restart 5/10, f = 93.64994319150983\n",
      "Optimization restart 6/10, f = 44.3151355947611\n",
      "Optimization restart 7/10, f = 44.315135594759454\n",
      "Optimization restart 8/10, f = 93.6499431915455\n",
      "Optimization restart 9/10, f = 440.57681353552914\n"
     ]
    },
    {
     "name": "stderr",
     "output_type": "stream",
     "text": [
      "reconstraining parameters GP_regression.Mat52.lengthscale\n",
      "reconstraining parameters GP_regression.Mat52.variance\n",
      "reconstraining parameters GP_regression.Gaussian_noise.variance\n"
     ]
    },
    {
     "name": "stdout",
     "output_type": "stream",
     "text": [
      "Optimization restart 10/10, f = 44.315135594762864\n",
      "Optimization restart 1/10, f = 10.353020182781194\n",
      "Optimization restart 2/10, f = 93.64994319150856\n",
      "Optimization restart 3/10, f = 10.353020182783425\n",
      "Optimization restart 4/10, f = 10.353020182789315\n",
      "Optimization restart 5/10, f = 93.64994318779563\n",
      "Optimization restart 6/10, f = 77.20189460582063\n",
      "Optimization restart 7/10, f = 10.353020182791454\n",
      "Optimization restart 8/10, f = 77.20189507683463\n",
      "Optimization restart 9/10, f = 3296384.0530896503\n",
      "Optimization restart 10/10, f = 10.353020182804748\n",
      "(4_w,9)-aCMA-ES (mu_w=2.8,w_1=49%) in dimension 6 (seed=444290, Tue Sep 29 15:18:52 2020)\n",
      "Iterat #Fevals   function value  axis ratio  sigma  min&max std  t[m:s]\n",
      "    1      9 4.005336153385650e-01 1.0e+00 2.53e-01  2e-01  3e-01 0:00.0\n",
      "    2     18 3.656835477699070e-01 1.3e+00 2.42e-01  2e-01  2e-01 0:00.0\n",
      "    3     27 3.654024787609800e-01 1.4e+00 2.44e-01  2e-01  3e-01 0:00.1\n",
      "  100    900 -1.356587126319839e-01 9.1e+00 5.35e-02  5e-03  4e-02 0:01.6\n",
      "  200   1800 -1.358087512726778e-01 1.5e+02 7.34e-03  3e-04  2e-03 0:04.4\n",
      "  300   2700 -1.358103692170349e-01 9.0e+02 3.54e-03  5e-05  4e-04 0:06.2\n",
      "  400   3600 -1.358104163733849e-01 7.0e+03 1.45e-03  6e-06  4e-05 0:07.8\n",
      "  500   4500 -1.358104182111104e-01 5.3e+04 4.70e-04  5e-07  6e-06 0:10.3\n",
      "  510   4590 -1.358104182117659e-01 8.2e+04 2.95e-04  3e-07  3e-06 0:10.4\n",
      "termination on tolfun=1e-11 (Tue Sep 29 15:19:04 2020)\n",
      "final/bestever f-value = -1.358104e-01 -1.358104e-01\n",
      "incumbent solution: [1.999999999990674, 3.349429561429411e-14, 1.4794752682851924, 4.900015077540011, 2.8197927686442386e-12, 4.182978891979636]\n",
      "std deviation: [2.9561380705810067e-07, 4.107337188177377e-07, 1.8422231223237827e-06, 2.36343908635284e-06, 4.7548093317394024e-07, 3.298212505400761e-06]\n"
     ]
    },
    {
     "name": "stderr",
     "output_type": "stream",
     "text": [
      "reconstraining parameters GP_regression.Mat52.lengthscale\n",
      "reconstraining parameters GP_regression.Mat52.variance\n",
      "reconstraining parameters GP_regression.Gaussian_noise.variance\n"
     ]
    },
    {
     "name": "stdout",
     "output_type": "stream",
     "text": [
      "Optimization restart 1/10, f = 45.356911938728615\n",
      "Optimization restart 2/10, f = 95.06888172471307\n",
      "Optimization restart 3/10, f = 95.06888172471307\n",
      "Optimization restart 4/10, f = 119.67990993104164\n",
      "Optimization restart 5/10, f = 3346329.266015252\n",
      "Optimization restart 6/10, f = 95.06888172471307\n",
      "Optimization restart 7/10, f = 95.06888172471307\n"
     ]
    },
    {
     "name": "stderr",
     "output_type": "stream",
     "text": [
      "reconstraining parameters GP_regression.Mat52.lengthscale\n",
      "reconstraining parameters GP_regression.Mat52.variance\n",
      "reconstraining parameters GP_regression.Gaussian_noise.variance\n"
     ]
    },
    {
     "name": "stdout",
     "output_type": "stream",
     "text": [
      "Optimization restart 8/10, f = 45.35691193873488\n",
      "Optimization restart 9/10, f = 95.06888172471452\n",
      "Optimization restart 10/10, f = 95.0688817247131\n",
      "Optimization restart 1/10, f = 10.141274166758194\n",
      "Optimization restart 2/10, f = 447.2522198012189\n",
      "Optimization restart 3/10, f = 3346329.2660152526\n",
      "Optimization restart 4/10, f = 95.06888172471307\n",
      "Optimization restart 5/10, f = 95.06888172471307\n",
      "Optimization restart 6/10, f = 10.141274166746335\n",
      "Optimization restart 7/10, f = 95.06888172471307\n",
      "Optimization restart 8/10, f = 95.06888172471307\n",
      "Optimization restart 9/10, f = 95.06888172471307\n",
      "Optimization restart 10/10, f = 95.06888172471324\n",
      "(4_w,9)-aCMA-ES (mu_w=2.8,w_1=49%) in dimension 6 (seed=444352, Tue Sep 29 15:19:06 2020)\n",
      "Iterat #Fevals   function value  axis ratio  sigma  min&max std  t[m:s]\n",
      "    1      9 3.161673404081276e-01 1.0e+00 2.40e-01  2e-01  3e-01 0:00.0\n",
      "    2     18 2.804073576747044e-01 1.2e+00 2.72e-01  2e-01  3e-01 0:00.0\n",
      "    3     27 2.901422806088392e-01 1.6e+00 2.98e-01  2e-01  4e-01 0:00.1\n",
      "  100    900 -1.151378184947793e-01 8.1e+01 4.99e-02  4e-03  4e-02 0:01.4\n",
      "  200   1800 -1.155791090127956e-01 3.9e+03 1.53e-03  3e-05  4e-04 0:02.9\n",
      "  300   2700 -1.155791767821035e-01 7.3e+05 2.10e-05  2e-07  2e-06 0:05.5\n"
     ]
    },
    {
     "name": "stderr",
     "output_type": "stream",
     "text": [
      " /home/finley/miniconda3/envs/testsuite/lib/python3.8/site-packages/cma/utilities/utils.py:329: UserWarning:\n",
      "        geno-pheno transformation introduced based on the\n",
      "        current covariance matrix with condition 1.0e+12 -> 1.0e+00,\n",
      "        injected solutions become \"invalid\" in this iteration (class=CMAEvolutionStrategy method=alleviate_conditioning iteration=304)\n"
     ]
    },
    {
     "name": "stdout",
     "output_type": "stream",
     "text": [
      "  319   2871 -1.155791767840073e-01 2.5e+00 1.07e-05  7e-06  1e-05 0:05.8\n"
     ]
    },
    {
     "name": "stderr",
     "output_type": "stream",
     "text": [
      "reconstraining parameters GP_regression.Mat52.lengthscale\n",
      "reconstraining parameters GP_regression.Mat52.variance\n",
      "reconstraining parameters GP_regression.Gaussian_noise.variance\n"
     ]
    },
    {
     "name": "stdout",
     "output_type": "stream",
     "text": [
      "termination on tolfun=1e-11 (Tue Sep 29 15:19:12 2020)\n",
      "final/bestever f-value = -1.155792e-01 -1.155792e-01\n",
      "incumbent solution: [1.825655359163551, 0.9205048143123804, 2.555602612631219, 3.401381340907392, 4.049765942307204, 4.818610636164522]\n",
      "std deviation: [9.715015153810553e-06, 1.104753079616137e-05, 1.0989523142602083e-05, 7.0552299455435795e-06, 7.669676723437716e-06, 1.012337996115074e-05]\n",
      "Optimization restart 1/10, f = 44.92764323714688\n",
      "Optimization restart 2/10, f = 96.48782025791776\n",
      "Optimization restart 3/10, f = 44.927643236428054\n",
      "Optimization restart 4/10, f = 44.92764323643235\n",
      "Optimization restart 5/10, f = 3396274.4789408534\n",
      "Optimization restart 6/10, f = 44.92764323643552\n",
      "Optimization restart 7/10, f = 3396274.4789408534\n"
     ]
    },
    {
     "name": "stderr",
     "output_type": "stream",
     "text": [
      "reconstraining parameters GP_regression.Mat52.lengthscale\n",
      "reconstraining parameters GP_regression.Mat52.variance\n",
      "reconstraining parameters GP_regression.Gaussian_noise.variance\n"
     ]
    },
    {
     "name": "stdout",
     "output_type": "stream",
     "text": [
      "Optimization restart 8/10, f = 96.48782025791775\n",
      "Optimization restart 9/10, f = 453.9276260669088\n",
      "Optimization restart 10/10, f = 96.48782025791775\n",
      "Optimization restart 1/10, f = 8.536769249857187\n",
      "Optimization restart 2/10, f = 919949010.7722855\n",
      "Optimization restart 3/10, f = 8.536769249788755\n",
      "Optimization restart 4/10, f = 77.91762107935295\n",
      "Optimization restart 5/10, f = 96.48782010793602\n",
      "Optimization restart 6/10, f = 453.9276260669088\n",
      "Optimization restart 7/10, f = 453.9276260669088\n",
      "Optimization restart 8/10, f = 453.9276260669088\n",
      "Optimization restart 9/10, f = 8.536769249777286\n",
      "Optimization restart 10/10, f = 919536409.2413375\n",
      "(4_w,9)-aCMA-ES (mu_w=2.8,w_1=49%) in dimension 6 (seed=484433, Tue Sep 29 15:19:15 2020)\n",
      "Iterat #Fevals   function value  axis ratio  sigma  min&max std  t[m:s]\n",
      "    1      9 2.044425658515907e-01 1.0e+00 2.43e-01  2e-01  2e-01 0:00.0\n",
      "    2     18 1.882622579976023e-01 1.3e+00 2.46e-01  2e-01  3e-01 0:00.0\n",
      "    3     27 1.558636584168460e-01 1.4e+00 2.75e-01  2e-01  3e-01 0:00.1\n",
      "  100    900 -1.223126793627567e-01 1.4e+02 1.38e-02  9e-04  1e-02 0:02.5\n",
      "  200   1800 -1.223396427374555e-01 2.6e+04 3.00e-04  9e-06  1e-04 0:05.9\n"
     ]
    },
    {
     "name": "stderr",
     "output_type": "stream",
     "text": [
      " /home/finley/miniconda3/envs/testsuite/lib/python3.8/site-packages/cma/utilities/utils.py:329: UserWarning:\n",
      "        geno-pheno transformation introduced based on the\n",
      "        current covariance matrix with condition 1.1e+12 -> 1.0e+00,\n",
      "        injected solutions become \"invalid\" in this iteration (class=CMAEvolutionStrategy method=alleviate_conditioning iteration=269)\n"
     ]
    },
    {
     "name": "stdout",
     "output_type": "stream",
     "text": [
      "  277   2493 -1.223396445163401e-01 1.9e+00 7.60e-06  6e-06  9e-06 0:08.1\n",
      "termination on tolfun=1e-11 (Tue Sep 29 15:19:24 2020)\n",
      "final/bestever f-value = -1.223396e-01 -1.223396e-01\n",
      "incumbent solution: [1.8552470783326158, 0.8604234780963225, 2.6185203809149016, 3.4317416016046423, 3.968421310669328, 5.069710245238639]\n",
      "std deviation: [6.1251184243932155e-06, 6.45637771323223e-06, 7.826608728314418e-06, 9.257961702821819e-06, 7.2202931858355195e-06, 8.341378193073269e-06]\n"
     ]
    },
    {
     "name": "stderr",
     "output_type": "stream",
     "text": [
      "reconstraining parameters GP_regression.Mat52.lengthscale\n",
      "reconstraining parameters GP_regression.Mat52.variance\n",
      "reconstraining parameters GP_regression.Gaussian_noise.variance\n"
     ]
    },
    {
     "name": "stdout",
     "output_type": "stream",
     "text": [
      "Optimization restart 1/10, f = 43.452337748566116\n",
      "Optimization restart 2/10, f = 43.45233774856858\n",
      "Optimization restart 3/10, f = 118.06196825653365\n",
      "Optimization restart 4/10, f = 118.06196378084842\n",
      "Optimization restart 5/10, f = 3446219.691866454\n",
      "Optimization restart 6/10, f = 43.45233774857091\n",
      "Optimization restart 7/10, f = 97.9067587911706\n",
      "Optimization restart 8/10, f = 460.60303233259856\n"
     ]
    },
    {
     "name": "stderr",
     "output_type": "stream",
     "text": [
      "reconstraining parameters GP_regression.Mat52.lengthscale\n",
      "reconstraining parameters GP_regression.Mat52.variance\n",
      "reconstraining parameters GP_regression.Gaussian_noise.variance\n"
     ]
    },
    {
     "name": "stdout",
     "output_type": "stream",
     "text": [
      "Optimization restart 9/10, f = 460.60303233259856\n",
      "Optimization restart 10/10, f = 97.90675879112285\n",
      "Optimization restart 1/10, f = 5.5075962803631455\n",
      "Optimization restart 2/10, f = 5.507596280283117\n",
      "Optimization restart 3/10, f = 460.60303233259856\n",
      "Optimization restart 4/10, f = 922057032.5495598\n",
      "Optimization restart 5/10, f = 460.60303233259856\n",
      "Optimization restart 6/10, f = 460.60303233259856\n",
      "Optimization restart 7/10, f = 97.90675879112243\n",
      "Optimization restart 8/10, f = 97.90675879112243\n",
      "Optimization restart 9/10, f = 3446219.6918664537\n",
      "Optimization restart 10/10, f = 460.60303233259856\n",
      "(4_w,9)-aCMA-ES (mu_w=2.8,w_1=49%) in dimension 6 (seed=535903, Tue Sep 29 15:19:26 2020)\n",
      "Iterat #Fevals   function value  axis ratio  sigma  min&max std  t[m:s]\n",
      "    1      9 4.153988279561347e-01 1.0e+00 2.23e-01  2e-01  2e-01 0:00.0\n",
      "    2     18 4.177140404397051e-01 1.2e+00 2.17e-01  2e-01  2e-01 0:00.0\n",
      "    3     27 3.928911980371330e-01 1.5e+00 2.40e-01  2e-01  3e-01 0:00.1\n",
      "  100    900 2.085313163271540e-01 8.4e+00 4.43e-02  4e-03  3e-02 0:01.8\n",
      "  200   1800 2.082831818230662e-01 2.8e+03 3.45e-04  4e-08  1e-04 0:03.3\n",
      "NOTE (module=cma, iteration=220):  \n",
      "condition in coordinate system exceeded 1.0e+08, rescaled to 1.0e+00, \n",
      "condition changed from 1.1e+08 to 4.2e+00\n",
      "  281   2529 2.082831788574069e-01 5.3e+01 4.21e-06  2e-12  9e-07 0:04.6\n"
     ]
    },
    {
     "name": "stderr",
     "output_type": "stream",
     "text": [
      "reconstraining parameters GP_regression.Mat52.lengthscale\n",
      "reconstraining parameters GP_regression.Mat52.variance\n",
      "reconstraining parameters GP_regression.Gaussian_noise.variance\n"
     ]
    },
    {
     "name": "stdout",
     "output_type": "stream",
     "text": [
      "termination on tolfun=1e-11 (Tue Sep 29 15:19:31 2020)\n",
      "final/bestever f-value = 2.082832e-01 2.082832e-01\n",
      "incumbent solution: [2.5289958148796815e-14, 3.999999999999788, 5.999999999999355, 7.999999999998107, 9.99999999999999, 10.275995752224325]\n",
      "std deviation: [6.550566392332232e-08, 1.1623349739295136e-07, 8.066889510170292e-07, 5.525709727771361e-07, 8.692328728052514e-07, 2.3165738060087477e-12]\n",
      "Optimization restart 1/10, f = 43.64516162983376\n",
      "Optimization restart 2/10, f = 1488176151.893719\n",
      "Optimization restart 3/10, f = 1489027531.3576877\n",
      "Optimization restart 4/10, f = 43.64516163047025\n",
      "Optimization restart 5/10, f = 467.27824881405564\n",
      "Optimization restart 6/10, f = 99.32569732432708\n",
      "Optimization restart 7/10, f = 99.32569732432708\n",
      "Optimization restart 8/10, f = 467.2784385982884\n",
      "Optimization restart 9/10, f = 99.3256973243271\n"
     ]
    },
    {
     "name": "stderr",
     "output_type": "stream",
     "text": [
      "reconstraining parameters GP_regression.Mat52.lengthscale\n",
      "reconstraining parameters GP_regression.Mat52.variance\n",
      "reconstraining parameters GP_regression.Gaussian_noise.variance\n"
     ]
    },
    {
     "name": "stdout",
     "output_type": "stream",
     "text": [
      "Optimization restart 10/10, f = 43.64516162983158\n",
      "Optimization restart 1/10, f = 5.315176840112223\n",
      "Optimization restart 2/10, f = 5.315176840133169\n",
      "Optimization restart 3/10, f = 467.27823897214824\n",
      "Optimization restart 4/10, f = 5.31517684013086\n",
      "Optimization restart 5/10, f = 5.315176840116422\n",
      "Optimization restart 6/10, f = 75.48905757948033\n",
      "Optimization restart 7/10, f = 99.32569732432708\n",
      "Optimization restart 8/10, f = 5.315176840182652\n",
      "Optimization restart 9/10, f = 3496164.904792054\n",
      "Optimization restart 10/10, f = 75.4890605295933\n",
      "(4_w,9)-aCMA-ES (mu_w=2.8,w_1=49%) in dimension 6 (seed=524871, Tue Sep 29 15:19:35 2020)\n",
      "Iterat #Fevals   function value  axis ratio  sigma  min&max std  t[m:s]\n",
      "    1      9 3.361180809525020e-01 1.0e+00 2.33e-01  2e-01  2e-01 0:00.0\n",
      "    2     18 2.997686475746653e-01 1.2e+00 2.24e-01  2e-01  2e-01 0:00.0\n",
      "    3     27 3.095447422070792e-01 1.3e+00 1.99e-01  2e-01  2e-01 0:00.1\n",
      "  100    900 1.388249594688944e-01 2.1e+02 1.62e-01  8e-03  2e-01 0:02.5\n",
      "  200   1800 -7.921575178809470e-02 6.9e+01 3.93e-01  4e-03  7e-02 0:04.3\n",
      "  300   2700 -8.202703418203794e-02 7.3e+03 6.00e-03  4e-05  4e-04 0:05.8\n",
      "  400   3600 -8.202712089032271e-02 9.9e+05 7.21e-05  2e-07  2e-06 0:08.0\n",
      "  408   3672 -8.202712089102016e-02 2.0e+00 9.77e-05  8e-05  1e-04 0:08.2\n"
     ]
    },
    {
     "name": "stderr",
     "output_type": "stream",
     "text": [
      " /home/finley/miniconda3/envs/testsuite/lib/python3.8/site-packages/cma/utilities/utils.py:329: UserWarning:\n",
      "        geno-pheno transformation introduced based on the\n",
      "        current covariance matrix with condition 1.1e+12 -> 1.0e+00,\n",
      "        injected solutions become \"invalid\" in this iteration (class=CMAEvolutionStrategy method=alleviate_conditioning iteration=401)\n"
     ]
    },
    {
     "name": "stdout",
     "output_type": "stream",
     "text": [
      "termination on tolfun=1e-11 (Tue Sep 29 15:19:43 2020)\n",
      "final/bestever f-value = -8.202712e-02 -8.202712e-02\n",
      "incumbent solution: [1.628394028701439, 1.2012481302595006, 2.599572845548437, 3.3087260225852333, 4.101970589988923, 4.467575690652666]\n",
      "std deviation: [0.00013006380272219747, 8.475026853865461e-05, 7.764671766598601e-05, 8.225031050560966e-05, 9.787139754412322e-05, 0.00010372793614016253]\n"
     ]
    },
    {
     "name": "stderr",
     "output_type": "stream",
     "text": [
      "reconstraining parameters GP_regression.Mat52.lengthscale\n",
      "reconstraining parameters GP_regression.Mat52.variance\n",
      "reconstraining parameters GP_regression.Gaussian_noise.variance\n"
     ]
    },
    {
     "name": "stdout",
     "output_type": "stream",
     "text": [
      "Optimization restart 1/10, f = 42.41875486997928\n",
      "Optimization restart 2/10, f = 42.41875487009354\n",
      "Optimization restart 3/10, f = 100.74463585753176\n",
      "Optimization restart 4/10, f = 100.74463585753176\n",
      "Optimization restart 5/10, f = 42.41875486997854\n",
      "Optimization restart 6/10, f = 100.74463585753176\n",
      "Optimization restart 7/10, f = 42.4187548699762\n",
      "Optimization restart 8/10, f = 42.4187548700173\n",
      "Optimization restart 9/10, f = 100.74463525647961\n"
     ]
    },
    {
     "name": "stderr",
     "output_type": "stream",
     "text": [
      "reconstraining parameters GP_regression.Mat52.lengthscale\n",
      "reconstraining parameters GP_regression.Mat52.variance\n",
      "reconstraining parameters GP_regression.Gaussian_noise.variance\n"
     ]
    },
    {
     "name": "stdout",
     "output_type": "stream",
     "text": [
      "Optimization restart 10/10, f = 473.95384486397825\n",
      "Optimization restart 1/10, f = 2.896857867160584\n",
      "Optimization restart 2/10, f = 1048666262.2771932\n",
      "Optimization restart 3/10, f = 2.896857867180721\n",
      "Optimization restart 4/10, f = 100.74463585753224\n",
      "Optimization restart 5/10, f = 72.56744777264461\n",
      "Optimization restart 6/10, f = 3546110.1177176554\n",
      "Optimization restart 7/10, f = 2.8968578671765215\n",
      "Optimization restart 8/10, f = 473.95384486397825\n",
      "Optimization restart 9/10, f = 100.74463585753082\n",
      "Optimization restart 10/10, f = 100.74463585753176\n",
      "(4_w,9)-aCMA-ES (mu_w=2.8,w_1=49%) in dimension 6 (seed=465488, Tue Sep 29 15:19:48 2020)\n",
      "Iterat #Fevals   function value  axis ratio  sigma  min&max std  t[m:s]\n",
      "    1      9 2.977066238848110e-01 1.0e+00 2.31e-01  2e-01  2e-01 0:00.0\n",
      "    2     18 2.989081807206095e-01 1.2e+00 2.28e-01  2e-01  2e-01 0:00.0\n",
      "    3     27 2.842948829144167e-01 1.3e+00 2.14e-01  2e-01  2e-01 0:00.1\n",
      "   93    837 -6.498350548875642e-02 2.1e+01 1.79e-01  3e-02  1e-01 0:03.1\n",
      "  100    900 -7.172013241781006e-02 2.8e+01 4.37e-01  6e-02  3e-01 0:03.2\n",
      "  200   1800 -8.380713237303339e-02 1.7e+03 3.31e-03  1e-04  7e-04 0:04.7\n",
      "  300   2700 -8.380752837387995e-02 3.5e+05 1.66e-04  3e-06  2e-05 0:06.2\n"
     ]
    },
    {
     "name": "stderr",
     "output_type": "stream",
     "text": [
      " /home/finley/miniconda3/envs/testsuite/lib/python3.8/site-packages/cma/utilities/utils.py:329: UserWarning:\n",
      "        geno-pheno transformation introduced based on the\n",
      "        current covariance matrix with condition 1.0e+12 -> 1.0e+00,\n",
      "        injected solutions become \"invalid\" in this iteration (class=CMAEvolutionStrategy method=alleviate_conditioning iteration=325)\n"
     ]
    },
    {
     "name": "stdout",
     "output_type": "stream",
     "text": [
      "  400   3600 -8.380752841899897e-02 5.9e+00 3.01e-05  1e-05  3e-05 0:07.8\n",
      "  500   4500 -8.380752842188111e-02 1.8e+01 5.55e-06  1e-06  5e-06 0:09.3\n",
      "  600   5400 -8.380752841904293e-02 2.7e+01 1.24e-05  6e-07  5e-06 0:10.8\n",
      "  659   5931 -8.380752841399364e-02 5.8e+01 5.34e-06  4e-07  2e-06 0:11.9\n"
     ]
    },
    {
     "name": "stderr",
     "output_type": "stream",
     "text": [
      "reconstraining parameters GP_regression.Mat52.lengthscale\n"
     ]
    },
    {
     "name": "stdout",
     "output_type": "stream",
     "text": [
      "termination on tolfun=1e-11 (Tue Sep 29 15:20:01 2020)\n",
      "final/bestever f-value = -8.380753e-02 -8.380753e-02\n",
      "incumbent solution: [0.9205165170992586, 3.2635454282535648, 2.491051729892206, 3.0614186150327445, 4.129628392471204, 4.938223906443454]\n",
      "std deviation: [7.889882540516665e-07, 3.75826842113731e-07, 1.600108228439104e-06, 1.0534883903668917e-06, 4.918359941042218e-07, 7.649371289796557e-07]\n"
     ]
    },
    {
     "name": "stderr",
     "output_type": "stream",
     "text": [
      "reconstraining parameters GP_regression.Mat52.variance\n",
      "reconstraining parameters GP_regression.Gaussian_noise.variance\n"
     ]
    },
    {
     "name": "stdout",
     "output_type": "stream",
     "text": [
      "Optimization restart 1/10, f = 42.00427099709857\n",
      "Optimization restart 2/10, f = 42.00427099686647\n",
      "Optimization restart 3/10, f = 42.00427099686359\n",
      "Optimization restart 4/10, f = 117.12410481473228\n",
      "Optimization restart 5/10, f = 42.004270997374554\n",
      "Optimization restart 6/10, f = 42.00427099688222\n",
      "Optimization restart 7/10, f = 3596055.330643257\n",
      "Optimization restart 8/10, f = 102.16357439073644\n"
     ]
    },
    {
     "name": "stderr",
     "output_type": "stream",
     "text": [
      "reconstraining parameters GP_regression.Mat52.lengthscale\n",
      "reconstraining parameters GP_regression.Mat52.variance\n"
     ]
    },
    {
     "name": "stdout",
     "output_type": "stream",
     "text": [
      "Optimization restart 9/10, f = 480.62925112966815\n",
      "Optimization restart 10/10, f = 42.00427099687645\n"
     ]
    },
    {
     "name": "stderr",
     "output_type": "stream",
     "text": [
      "reconstraining parameters GP_regression.Gaussian_noise.variance\n"
     ]
    },
    {
     "name": "stdout",
     "output_type": "stream",
     "text": [
      "Optimization restart 1/10, f = 3.615014045256345\n",
      "Optimization restart 2/10, f = 480.62925112966815\n",
      "Optimization restart 3/10, f = 102.16357439073685\n",
      "Optimization restart 4/10, f = 3.615014045258512\n",
      "Optimization restart 5/10, f = 102.16357439073644\n",
      "Optimization restart 6/10, f = 102.16357439073644\n",
      "Optimization restart 7/10, f = 3.6150140452539574\n",
      "Optimization restart 8/10, f = 102.16357439073643\n",
      "Optimization restart 9/10, f = 480.62925112966815\n",
      "Optimization restart 10/10, f = 480.62925112966815\n",
      "(4_w,9)-aCMA-ES (mu_w=2.8,w_1=49%) in dimension 6 (seed=458985, Tue Sep 29 15:20:08 2020)\n",
      "Iterat #Fevals   function value  axis ratio  sigma  min&max std  t[m:s]\n",
      "    1      9 2.970671758304235e-01 1.0e+00 2.37e-01  2e-01  2e-01 0:00.0\n",
      "    2     18 1.993153793387459e-01 1.2e+00 2.52e-01  2e-01  3e-01 0:00.0\n",
      "    3     27 2.466191724249898e-01 1.4e+00 2.84e-01  3e-01  3e-01 0:00.1\n",
      "  100    900 -2.051399803818308e-01 3.7e+01 8.19e-02  7e-03  1e-01 0:02.1\n",
      "  200   1800 -2.258196122797083e-01 6.3e+02 1.22e-02  2e-04  6e-03 0:04.9\n",
      "  300   2700 -2.259172625384345e-01 3.3e+03 8.10e-03  2e-05  2e-03 0:06.4\n",
      "  400   3600 -2.259257990498698e-01 8.6e+03 3.00e-02  8e-06  2e-03 0:08.0\n",
      "  500   4500 -2.259284903242635e-01 1.6e+04 5.09e-02  2e-06  8e-04 0:09.6\n",
      "  600   5400 -2.259294858547864e-01 1.2e+04 1.39e-01  8e-07  5e-04 0:11.3\n",
      "  700   6300 -2.259297241477731e-01 3.5e+04 1.88e-01  2e-07  2e-04 0:14.6\n",
      "  800   7200 -2.259298035907742e-01 1.3e+05 1.11e+00  2e-07  5e-04 0:17.6\n"
     ]
    },
    {
     "name": "stderr",
     "output_type": "stream",
     "text": [
      " /home/finley/miniconda3/envs/testsuite/lib/python3.8/site-packages/cma/utilities/utils.py:329: UserWarning:\n",
      "        geno-pheno transformation introduced based on the\n",
      "        current covariance matrix with condition 1.0e+12 -> 1.0e+00,\n",
      "        injected solutions become \"invalid\" in this iteration (class=CMAEvolutionStrategy method=alleviate_conditioning iteration=884)\n"
     ]
    },
    {
     "name": "stdout",
     "output_type": "stream",
     "text": [
      "  900   8100 -2.259298189069123e-01 4.9e+00 1.13e+00  6e-01  2e+00 0:22.9\n",
      " 1000   9000 -2.259298378614152e-01 3.3e+03 1.75e-01  6e-02  5e-01 0:24.5\n",
      "Iterat #Fevals   function value  axis ratio  sigma  min&max std  t[m:s]\n",
      " 1100   9900 -2.259298434934944e-01 8.1e+04 6.35e+00  4e-01  1e+02 0:26.1\n",
      " 1167  10503 -2.259298439269024e-01 3.8e+05 7.25e-01  2e-02  9e+00 0:27.2\n"
     ]
    },
    {
     "name": "stderr",
     "output_type": "stream",
     "text": [
      "reconstraining parameters GP_regression.Mat52.lengthscale\n",
      "reconstraining parameters GP_regression.Mat52.variance\n",
      "reconstraining parameters GP_regression.Gaussian_noise.variance\n"
     ]
    },
    {
     "name": "stdout",
     "output_type": "stream",
     "text": [
      "termination on tolfun=1e-11 (Tue Sep 29 15:20:38 2020)\n",
      "final/bestever f-value = -2.259298e-01 -2.259298e-01\n",
      "incumbent solution: [5.3521312958169176e-08, 1.0730215240662062, 5.9999999458429345, 4.173555141834512e-12, 1.4094720248899614e-12, 5.808313906192805e-14]\n",
      "std deviation: [0.03128654875770757, 8.688380279887692, 0.026838644712120004, 0.03652522180183068, 0.02326389503264915, 0.031194115676465697]\n",
      "Optimization restart 1/10, f = 41.51284414032195\n",
      "Optimization restart 2/10, f = 487.304657395358\n",
      "Optimization restart 3/10, f = 487.304657395358\n",
      "Optimization restart 4/10, f = 41.51284414036654\n",
      "Optimization restart 5/10, f = 3646000.5435688565\n",
      "Optimization restart 6/10, f = 41.51284414030015\n",
      "Optimization restart 7/10, f = 103.58251292394112\n",
      "Optimization restart 8/10, f = 487.304657395358\n"
     ]
    },
    {
     "name": "stderr",
     "output_type": "stream",
     "text": [
      "reconstraining parameters GP_regression.Mat52.lengthscale\n",
      "reconstraining parameters GP_regression.Mat52.variance\n",
      "reconstraining parameters GP_regression.Gaussian_noise.variance\n"
     ]
    },
    {
     "name": "stdout",
     "output_type": "stream",
     "text": [
      "Optimization restart 9/10, f = 3646000.5435688565\n",
      "Optimization restart 10/10, f = 103.58251292394192\n",
      "Optimization restart 1/10, f = 2.5938530153379986\n",
      "Optimization restart 2/10, f = 2.5938530153296\n",
      "Optimization restart 3/10, f = 103.58251292394111\n",
      "Optimization restart 4/10, f = 2.5938530153432993\n",
      "Optimization restart 5/10, f = 73.46462103864852\n",
      "Optimization restart 6/10, f = 73.46501748386713\n",
      "Optimization restart 7/10, f = 2.5938530153464754\n",
      "Optimization restart 8/10, f = 2.593853015332378\n",
      "Optimization restart 9/10, f = 103.5825129239407\n",
      "Optimization restart 10/10, f = 73.465017510687\n",
      "(4_w,9)-aCMA-ES (mu_w=2.8,w_1=49%) in dimension 6 (seed=515743, Tue Sep 29 15:20:41 2020)\n",
      "Iterat #Fevals   function value  axis ratio  sigma  min&max std  t[m:s]\n",
      "    1      9 2.349610548592040e-01 1.0e+00 2.56e-01  2e-01  3e-01 0:00.0\n",
      "    2     18 2.264827897798272e-01 1.3e+00 3.16e-01  3e-01  4e-01 0:00.1\n",
      "    3     27 1.606643031579646e-01 1.5e+00 3.38e-01  3e-01  4e-01 0:00.1\n",
      "  100    900 -1.245669117448669e-01 1.5e+01 2.62e-01  2e-02  2e-01 0:01.6\n",
      "  200   1800 -1.520416612639119e-01 1.6e+03 5.41e-03  2e-04  1e-03 0:05.0\n",
      "  300   2700 -1.520422914205697e-01 5.7e+05 3.82e-05  5e-07  6e-06 0:07.4\n"
     ]
    },
    {
     "name": "stderr",
     "output_type": "stream",
     "text": [
      " /home/finley/miniconda3/envs/testsuite/lib/python3.8/site-packages/cma/utilities/utils.py:329: UserWarning:\n",
      "        geno-pheno transformation introduced based on the\n",
      "        current covariance matrix with condition 1.2e+12 -> 1.0e+00,\n",
      "        injected solutions become \"invalid\" in this iteration (class=CMAEvolutionStrategy method=alleviate_conditioning iteration=308)\n"
     ]
    },
    {
     "name": "stdout",
     "output_type": "stream",
     "text": [
      "  333   2997 -1.520422914269339e-01 2.4e+00 2.79e-05  2e-05  3e-05 0:08.2\n"
     ]
    },
    {
     "name": "stderr",
     "output_type": "stream",
     "text": [
      "reconstraining parameters GP_regression.Mat52.lengthscale\n"
     ]
    },
    {
     "name": "stdout",
     "output_type": "stream",
     "text": [
      "termination on tolfun=1e-11 (Tue Sep 29 15:20:50 2020)\n",
      "final/bestever f-value = -1.520423e-01 -1.520423e-01\n",
      "incumbent solution: [1.0113747389649692, 3.0767370634455915, 2.8271011026688484, 2.6482840732714976, 4.686967052868567, 4.480313896669031]\n",
      "std deviation: [2.7555323099427095e-05, 2.5116817117125127e-05, 2.2886671441665774e-05, 1.7304272904419754e-05, 2.6250242421355875e-05, 2.26520214144142e-05]\n"
     ]
    },
    {
     "name": "stderr",
     "output_type": "stream",
     "text": [
      "reconstraining parameters GP_regression.Mat52.variance\n",
      "reconstraining parameters GP_regression.Gaussian_noise.variance\n"
     ]
    },
    {
     "name": "stdout",
     "output_type": "stream",
     "text": [
      "Optimization restart 1/10, f = 43.337089765055715\n",
      "Optimization restart 2/10, f = 43.33708976505783\n",
      "Optimization restart 3/10, f = 105.00145145714579\n",
      "Optimization restart 4/10, f = 493.9800636610478\n",
      "Optimization restart 5/10, f = 493.9800636610478\n",
      "Optimization restart 6/10, f = 43.337089765052426\n",
      "Optimization restart 7/10, f = 493.9800636610478\n",
      "Optimization restart 8/10, f = 105.00145145714578\n"
     ]
    },
    {
     "name": "stderr",
     "output_type": "stream",
     "text": [
      "reconstraining parameters GP_regression.Mat52.lengthscale\n",
      "reconstraining parameters GP_regression.Mat52.variance\n",
      "reconstraining parameters GP_regression.Gaussian_noise.variance\n"
     ]
    },
    {
     "name": "stdout",
     "output_type": "stream",
     "text": [
      "Optimization restart 9/10, f = 1580382124.4399784\n",
      "Optimization restart 10/10, f = 3695945.756494458\n",
      "Optimization restart 1/10, f = 2.8131329575134814\n",
      "Optimization restart 2/10, f = 493.9800636610478\n",
      "Optimization restart 3/10, f = 2.8131329575159114\n",
      "Optimization restart 4/10, f = 1081034785.974914\n",
      "Optimization restart 5/10, f = 2.8131329575373982\n",
      "Optimization restart 6/10, f = 1080875422.3099089\n",
      "Optimization restart 7/10, f = 2.813132957530911\n",
      "Optimization restart 8/10, f = 105.00145145714792\n",
      "Optimization restart 9/10, f = 2.813132957523301\n",
      "Optimization restart 10/10, f = 76.1939278649179\n",
      "(4_w,9)-aCMA-ES (mu_w=2.8,w_1=49%) in dimension 6 (seed=499794, Tue Sep 29 15:20:53 2020)\n",
      "Iterat #Fevals   function value  axis ratio  sigma  min&max std  t[m:s]\n",
      "    1      9 2.449446825791348e-01 1.0e+00 2.49e-01  2e-01  3e-01 0:00.0\n",
      "    2     18 2.487391487990154e-01 1.3e+00 2.38e-01  2e-01  2e-01 0:00.0\n",
      "    3     27 2.005657652721691e-01 1.3e+00 2.40e-01  2e-01  3e-01 0:00.1\n",
      "  100    900 -2.448782769913849e-02 1.8e+02 1.54e-01  2e-03  1e-01 0:02.2\n",
      "  200   1800 -7.149285778394265e-02 1.7e+02 2.89e-01  2e-03  8e-02 0:05.9\n",
      "  300   2700 -7.229495405288677e-02 2.6e+03 8.10e-02  1e-05  8e-03 0:08.0\n",
      "NOTE (module=cma, iteration=374):  \n",
      "condition in coordinate system exceeded 1.1e+08, rescaled to 1.0e+00, \n",
      "condition changed from 6.7e+08 to 3.1e+01\n",
      "  400   3600 -7.230440310406205e-02 7.6e+00 7.54e-03  2e-08  3e-04 0:09.7\n",
      "  500   4500 -7.230442252628122e-02 9.3e+01 1.60e-03  1e-10  2e-05 0:11.8\n",
      "  573   5157 -7.230442263322434e-02 6.1e+02 3.68e-04  6e-13  3e-06 0:13.8\n",
      "termination on tolfun=1e-11 (Tue Sep 29 15:21:08 2020)\n",
      "final/bestever f-value = -7.230442e-02 -7.230442e-02\n",
      "incumbent solution: [0.6065806245372356, 4.963978080571481e-15, 5.999999999996122, 7.999999999930234, 9.999999999998584, 11.999999999997842]\n",
      "std deviation: [6.355595129786547e-13, 2.3600799108716234e-07, 7.048848435979704e-07, 1.0824750154016847e-06, 1.2335578157416382e-06, 2.5281703542336867e-06]\n"
     ]
    },
    {
     "name": "stderr",
     "output_type": "stream",
     "text": [
      "reconstraining parameters GP_regression.Mat52.lengthscale\n",
      "reconstraining parameters GP_regression.Mat52.variance\n",
      "reconstraining parameters GP_regression.Gaussian_noise.variance\n"
     ]
    },
    {
     "name": "stdout",
     "output_type": "stream",
     "text": [
      "Optimization restart 1/10, f = 41.27973799739286\n",
      "Optimization restart 2/10, f = 500.6554699267376\n",
      "Optimization restart 3/10, f = 41.27973799733774\n",
      "Optimization restart 4/10, f = 3745890.9694200577\n",
      "Optimization restart 5/10, f = 1579035646.7952204\n",
      "Optimization restart 6/10, f = 106.42038999035043\n",
      "Optimization restart 7/10, f = 118.7142955503779\n",
      "Optimization restart 8/10, f = 41.27973799733188\n",
      "Optimization restart 9/10, f = 106.42038999035043\n"
     ]
    },
    {
     "name": "stderr",
     "output_type": "stream",
     "text": [
      "reconstraining parameters GP_regression.Mat52.lengthscale\n"
     ]
    },
    {
     "name": "stdout",
     "output_type": "stream",
     "text": [
      "Optimization restart 10/10, f = 106.42038993098652\n"
     ]
    },
    {
     "name": "stderr",
     "output_type": "stream",
     "text": [
      "reconstraining parameters GP_regression.Mat52.variance\n",
      "reconstraining parameters GP_regression.Gaussian_noise.variance\n"
     ]
    },
    {
     "name": "stdout",
     "output_type": "stream",
     "text": [
      "Optimization restart 1/10, f = -0.4966420656050232\n",
      "Optimization restart 2/10, f = -0.49664206563031854\n",
      "Optimization restart 3/10, f = 106.42038999035044\n",
      "Optimization restart 4/10, f = 1092069072.1876504\n",
      "Optimization restart 5/10, f = 72.67961585138508\n",
      "Optimization restart 6/10, f = -0.4966420655985573\n",
      "Optimization restart 7/10, f = 500.6554699267376\n",
      "Optimization restart 8/10, f = -0.49664206560228763\n",
      "Optimization restart 9/10, f = -0.4966420656069772\n",
      "Optimization restart 10/10, f = -0.49664206560924384\n",
      "(4_w,9)-aCMA-ES (mu_w=2.8,w_1=49%) in dimension 6 (seed=494351, Tue Sep 29 15:21:15 2020)\n",
      "Iterat #Fevals   function value  axis ratio  sigma  min&max std  t[m:s]\n",
      "    1      9 3.044121015502810e-01 1.0e+00 2.47e-01  2e-01  3e-01 0:00.0\n",
      "    2     18 2.280142904764975e-01 1.2e+00 2.54e-01  2e-01  3e-01 0:00.1\n",
      "    3     27 2.383409809138803e-01 1.3e+00 2.81e-01  3e-01  3e-01 0:00.1\n",
      "  100    900 -1.141108193981086e-01 6.8e+01 2.05e-02  2e-03  2e-02 0:02.4\n",
      "  200   1800 -1.143749614262251e-01 6.4e+03 4.08e-04  2e-05  1e-04 0:04.3\n",
      "  300   2700 -1.143749658425661e-01 1.0e+00 7.40e-06  7e-06  8e-06 0:07.3\n"
     ]
    },
    {
     "name": "stderr",
     "output_type": "stream",
     "text": [
      " /home/finley/miniconda3/envs/testsuite/lib/python3.8/site-packages/cma/utilities/utils.py:329: UserWarning:\n",
      "        geno-pheno transformation introduced based on the\n",
      "        current covariance matrix with condition 1.1e+12 -> 1.0e+00,\n",
      "        injected solutions become \"invalid\" in this iteration (class=CMAEvolutionStrategy method=alleviate_conditioning iteration=299)\n"
     ]
    },
    {
     "name": "stdout",
     "output_type": "stream",
     "text": [
      "  310   2790 -1.143749658403266e-01 1.6e+00 3.89e-06  3e-06  4e-06 0:07.6\n"
     ]
    },
    {
     "name": "stderr",
     "output_type": "stream",
     "text": [
      "reconstraining parameters GP_regression.Mat52.lengthscale\n",
      "reconstraining parameters GP_regression.Mat52.variance\n"
     ]
    },
    {
     "name": "stdout",
     "output_type": "stream",
     "text": [
      "termination on tolfun=1e-11 (Tue Sep 29 15:21:23 2020)\n",
      "final/bestever f-value = -1.143750e-01 -1.143750e-01\n",
      "incumbent solution: [1.8883617149609635, 0.8522981725406793, 2.385889756627421, 3.3860534719067346, 4.118097310938538, 4.461742513092759]\n",
      "std deviation: [3.3926322311776085e-06, 3.281486392075666e-06, 3.849734235970457e-06, 3.2029759251598003e-06, 3.5947130020945704e-06, 3.1073407505696306e-06]\n"
     ]
    },
    {
     "name": "stderr",
     "output_type": "stream",
     "text": [
      "reconstraining parameters GP_regression.Gaussian_noise.variance\n"
     ]
    },
    {
     "name": "stdout",
     "output_type": "stream",
     "text": [
      "Optimization restart 1/10, f = 39.84167441502155\n",
      "Optimization restart 2/10, f = 507.3308761648729\n",
      "Optimization restart 3/10, f = 39.841674415027626\n",
      "Optimization restart 4/10, f = 39.84167441502515\n",
      "Optimization restart 5/10, f = 39.84167441503427\n",
      "Optimization restart 6/10, f = 39.841674415032\n",
      "Optimization restart 7/10, f = 107.8393285235559\n",
      "Optimization restart 8/10, f = 39.84167441502553\n"
     ]
    },
    {
     "name": "stderr",
     "output_type": "stream",
     "text": [
      "reconstraining parameters GP_regression.Mat52.lengthscale\n",
      "reconstraining parameters GP_regression.Mat52.variance\n",
      "reconstraining parameters GP_regression.Gaussian_noise.variance\n"
     ]
    },
    {
     "name": "stdout",
     "output_type": "stream",
     "text": [
      "Optimization restart 9/10, f = 107.83932852355511\n",
      "Optimization restart 10/10, f = 107.83932852355514\n",
      "Optimization restart 1/10, f = -3.856265443166535\n",
      "Optimization restart 2/10, f = 107.83932852355534\n",
      "Optimization restart 3/10, f = 3795836.18234566\n",
      "Optimization restart 4/10, f = 107.83932852355514\n",
      "Optimization restart 5/10, f = -3.8562654431521537\n",
      "Optimization restart 6/10, f = 107.83932852355511\n",
      "Optimization restart 7/10, f = -3.856265443173683\n",
      "Optimization restart 8/10, f = 507.33087619242747\n",
      "Optimization restart 9/10, f = -3.856265443137957\n",
      "Optimization restart 10/10, f = 507.33087619242747\n",
      "(4_w,9)-aCMA-ES (mu_w=2.8,w_1=49%) in dimension 6 (seed=523297, Tue Sep 29 15:21:26 2020)\n",
      "Iterat #Fevals   function value  axis ratio  sigma  min&max std  t[m:s]\n",
      "    1      9 2.281693945099523e-01 1.0e+00 2.87e-01  3e-01  3e-01 0:00.0\n",
      "    2     18 2.198915188412629e-01 1.4e+00 3.15e-01  3e-01  3e-01 0:00.0\n",
      "    3     27 2.135219139107605e-01 1.4e+00 3.27e-01  3e-01  3e-01 0:00.1\n",
      "  100    900 3.064178466508727e-02 8.2e+01 6.85e-02  9e-03  6e-02 0:01.7\n",
      "  200   1800 1.253256654085866e-02 2.2e+02 3.05e-01  1e-02  9e-02 0:03.6\n",
      "  300   2700 1.224696868373054e-02 2.9e+03 2.87e-02  3e-04  3e-03 0:05.2\n",
      "  400   3600 1.224459079886020e-02 5.0e+04 7.18e-03  4e-05  3e-04 0:06.7\n",
      "  500   4500 1.224458625701996e-02 1.0e+00 8.09e-04  8e-04  9e-04 0:08.3\n"
     ]
    },
    {
     "name": "stderr",
     "output_type": "stream",
     "text": [
      " /home/finley/miniconda3/envs/testsuite/lib/python3.8/site-packages/cma/utilities/utils.py:329: UserWarning:\n",
      "        geno-pheno transformation introduced based on the\n",
      "        current covariance matrix with condition 1.1e+12 -> 1.0e+00,\n",
      "        injected solutions become \"invalid\" in this iteration (class=CMAEvolutionStrategy method=alleviate_conditioning iteration=499)\n"
     ]
    },
    {
     "name": "stdout",
     "output_type": "stream",
     "text": [
      "  591   5319 1.224458617419910e-02 6.0e+01 1.07e-03  2e-04  1e-03 0:09.7\n"
     ]
    },
    {
     "name": "stderr",
     "output_type": "stream",
     "text": [
      "reconstraining parameters GP_regression.Mat52.lengthscale\n",
      "reconstraining parameters GP_regression.Mat52.variance\n",
      "reconstraining parameters GP_regression.Gaussian_noise.variance\n"
     ]
    },
    {
     "name": "stdout",
     "output_type": "stream",
     "text": [
      "termination on tolfun=1e-11 (Tue Sep 29 15:21:37 2020)\n",
      "final/bestever f-value = 1.224459e-02 1.224459e-02\n",
      "incumbent solution: [9.116022230363067e-13, 3.008228863036493, 3.3568741881044843, 1.9853038884339185, 5.079131889564451, 10.56212672503898]\n",
      "std deviation: [0.00046384253953268574, 0.0010498222519007261, 0.0009102979943838811, 0.0006733995569928109, 0.0006221529977600441, 0.0002431888650367092]\n",
      "Optimization restart 1/10, f = 41.26565139113097\n",
      "Optimization restart 2/10, f = 1728851129.9349983\n",
      "Optimization restart 3/10, f = 41.26565139091364\n",
      "Optimization restart 4/10, f = 514.0062787381453\n",
      "Optimization restart 5/10, f = 41.26565139236943\n",
      "Optimization restart 6/10, f = 41.26565139091189\n",
      "Optimization restart 7/10, f = 109.25826705676016\n",
      "Optimization restart 8/10, f = 109.25826705675982\n"
     ]
    },
    {
     "name": "stderr",
     "output_type": "stream",
     "text": [
      "reconstraining parameters GP_regression.Mat52.lengthscale\n",
      "reconstraining parameters GP_regression.Mat52.variance\n",
      "reconstraining parameters GP_regression.Gaussian_noise.variance\n"
     ]
    },
    {
     "name": "stdout",
     "output_type": "stream",
     "text": [
      "Optimization restart 9/10, f = 3845781.3952712608\n",
      "Optimization restart 10/10, f = 1728874057.390338\n",
      "Optimization restart 1/10, f = -2.7671320258027947\n",
      "Optimization restart 2/10, f = -2.7671320258063403\n",
      "Optimization restart 3/10, f = -2.7671320257927903\n",
      "Optimization restart 4/10, f = 71.82332443447362\n",
      "Optimization restart 5/10, f = -2.767132025814206\n",
      "Optimization restart 6/10, f = 109.25826705675357\n",
      "Optimization restart 7/10, f = -2.7671320257972383\n",
      "Optimization restart 8/10, f = 514.006282457785\n",
      "Optimization restart 9/10, f = -2.7671320257846546\n",
      "Optimization restart 10/10, f = 109.25826705675979\n",
      "(4_w,9)-aCMA-ES (mu_w=2.8,w_1=49%) in dimension 6 (seed=487495, Tue Sep 29 15:21:39 2020)\n",
      "Iterat #Fevals   function value  axis ratio  sigma  min&max std  t[m:s]\n",
      "    1      9 1.817242391944507e-01 1.0e+00 2.35e-01  2e-01  2e-01 0:00.0\n",
      "    2     18 1.432263817461936e-01 1.2e+00 2.42e-01  2e-01  2e-01 0:00.0\n",
      "    3     27 9.116517391400114e-02 1.2e+00 2.61e-01  2e-01  3e-01 0:00.1\n",
      "  100    900 -1.464852004703165e-01 8.2e+01 2.09e-02  3e-03  1e-02 0:01.8\n",
      "  200   1800 -1.465594622167177e-01 2.2e+03 1.74e-03  7e-05  4e-04 0:03.4\n",
      "  300   2700 -1.465607696764426e-01 2.5e+03 6.12e-03  8e-05  4e-04 0:05.0\n",
      "  400   3600 -1.465610899766125e-01 9.6e+03 9.29e-03  4e-05  2e-04 0:06.5\n",
      "  500   4500 -1.465613040694800e-01 1.8e+04 1.36e-02  1e-05  8e-05 0:08.0\n",
      "  600   5400 -1.465613655810278e-01 1.8e+04 6.96e-02  2e-05  9e-05 0:09.6\n",
      "  700   6300 -1.465613946581883e-01 2.5e+04 1.69e-01  6e-06  5e-05 0:11.3\n",
      "  800   7200 -1.465614125038379e-01 4.1e+04 5.61e-01  6e-06  4e-05 0:12.9\n",
      "  900   8100 -1.465614216527715e-01 6.7e+04 2.44e+00  6e-06  5e-05 0:14.8\n",
      " 1000   9000 -1.465614231615788e-01 1.2e+05 4.05e+00  3e-06  2e-05 0:18.5\n",
      "Iterat #Fevals   function value  axis ratio  sigma  min&max std  t[m:s]\n",
      " 1100   9900 -1.465614240586688e-01 2.5e+05 5.21e+00  8e-07  8e-06 0:21.2\n",
      " 1200  10800 -1.465614246102664e-01 1.3e+05 2.14e+01  9e-07  5e-06 0:23.5\n",
      " 1300  11700 -1.465614248941201e-01 2.8e+05 1.09e+02  1e-06  8e-06 0:25.1\n",
      " 1400  12600 -1.465614250515386e-01 4.8e+05 2.40e+02  7e-07  5e-06 0:27.5\n",
      " 1469  13221 -1.465614251017135e-01 1.0e+00 2.97e+02  3e+02  3e+02 0:28.7\n"
     ]
    },
    {
     "name": "stderr",
     "output_type": "stream",
     "text": [
      " /home/finley/miniconda3/envs/testsuite/lib/python3.8/site-packages/cma/utilities/utils.py:329: UserWarning:\n",
      "        geno-pheno transformation introduced based on the\n",
      "        current covariance matrix with condition 1.0e+12 -> 1.0e+00,\n",
      "        injected solutions become \"invalid\" in this iteration (class=CMAEvolutionStrategy method=alleviate_conditioning iteration=1468)\n"
     ]
    },
    {
     "name": "stdout",
     "output_type": "stream",
     "text": [
      "termination on tolfacupx=1000.0 (Tue Sep 29 15:22:12 2020)\n",
      "final/bestever f-value = -1.465614e-01 -1.465614e-01\n",
      "incumbent solution: [1.2289069591570296, 2.650334240635857, 2.6337855828260217, 3.2450957761102472, 4.034391551045701, 4.851811043918133]\n",
      "std deviation: [284.02792842540504, 290.3676509871075, 292.69201796474584, 292.2521306031364, 284.45538779508144, 301.92523132980875]\n"
     ]
    },
    {
     "name": "stderr",
     "output_type": "stream",
     "text": [
      "reconstraining parameters GP_regression.Mat52.lengthscale\n",
      "reconstraining parameters GP_regression.Mat52.variance\n",
      "reconstraining parameters GP_regression.Gaussian_noise.variance\n"
     ]
    },
    {
     "name": "stdout",
     "output_type": "stream",
     "text": [
      "Optimization restart 1/10, f = 40.55665766941511\n",
      "Optimization restart 2/10, f = 40.556657669531624\n",
      "Optimization restart 3/10, f = 110.67720558996447\n",
      "Optimization restart 4/10, f = 1808159108.4773855\n",
      "Optimization restart 5/10, f = 3895726.60819686\n",
      "Optimization restart 6/10, f = 40.55665766942869\n",
      "Optimization restart 7/10, f = 520.6816887238072\n",
      "Optimization restart 8/10, f = 40.55665766940994\n"
     ]
    },
    {
     "name": "stderr",
     "output_type": "stream",
     "text": [
      "reconstraining parameters GP_regression.Mat52.lengthscale\n",
      "reconstraining parameters GP_regression.Mat52.variance\n",
      "reconstraining parameters GP_regression.Gaussian_noise.variance\n"
     ]
    },
    {
     "name": "stdout",
     "output_type": "stream",
     "text": [
      "Optimization restart 9/10, f = 520.6816887238072\n",
      "Optimization restart 10/10, f = 520.6816887238072\n",
      "Optimization restart 1/10, f = -1.438296703104676\n",
      "Optimization restart 2/10, f = -1.4382967031148297\n",
      "Optimization restart 3/10, f = -1.4382967031198532\n",
      "Optimization restart 4/10, f = -1.4382967031103817\n",
      "Optimization restart 5/10, f = 3895726.6081968597\n",
      "Optimization restart 6/10, f = 520.6816887238072\n",
      "Optimization restart 7/10, f = 3895726.6081968597\n",
      "Optimization restart 8/10, f = 79.24583949344455\n",
      "Optimization restart 9/10, f = -1.4382967031138136\n",
      "Optimization restart 10/10, f = 1242500475.6930244\n",
      "(4_w,9)-aCMA-ES (mu_w=2.8,w_1=49%) in dimension 6 (seed=479751, Tue Sep 29 15:22:16 2020)\n",
      "Iterat #Fevals   function value  axis ratio  sigma  min&max std  t[m:s]\n",
      "    1      9 1.606494825614302e-01 1.0e+00 2.69e-01  3e-01  3e-01 0:00.0\n",
      "    2     18 1.753092427622622e-01 1.4e+00 2.69e-01  3e-01  3e-01 0:00.0\n",
      "    3     27 1.836324296015368e-01 1.5e+00 2.88e-01  3e-01  4e-01 0:00.0\n",
      "  100    900 -1.425361677792019e-01 6.0e+01 1.56e-01  2e-02  3e-01 0:01.6\n",
      "  200   1800 -2.083563387000912e-01 9.4e+02 1.47e-02  4e-05  6e-03 0:03.2\n",
      "  300   2700 -2.084252988015991e-01 2.7e+03 1.13e-02  2e-06  1e-03 0:04.9\n",
      "  400   3600 -2.084275613307645e-01 2.1e+04 4.82e-03  7e-08  2e-04 0:07.0\n",
      "NOTE (module=cma, iteration=496):  \n",
      "condition in coordinate system exceeded 1.0e+08, rescaled to 1.0e+00, \n",
      "condition changed from 1.8e+09 to 8.4e+01\n",
      "  500   4500 -2.084277045734062e-01 1.0e+01 8.92e-03  9e-09  1e-04 0:13.1\n",
      "  600   5400 -2.084277172102782e-01 3.3e+01 4.11e-03  2e-10  2e-05 0:16.2\n",
      "  671   6039 -2.084277173268321e-01 3.7e+02 5.10e-04  9e-13  9e-07 0:18.7\n"
     ]
    },
    {
     "name": "stderr",
     "output_type": "stream",
     "text": [
      "reconstraining parameters GP_regression.Mat52.lengthscale\n"
     ]
    },
    {
     "name": "stdout",
     "output_type": "stream",
     "text": [
      "termination on tolfun=1e-11 (Tue Sep 29 15:22:37 2020)\n",
      "final/bestever f-value = -2.084277e-01 -2.084277e-01\n",
      "incumbent solution: [0.41479773389190494, 3.736112492468835e-13, 5.999999999911235, 5.6281404363819735e-14, 4.0260656393299355e-13, 3.1834967886174693e-13]\n",
      "std deviation: [8.926719701799395e-13, 1.037351143996353e-07, 8.891036143176022e-07, 2.584680376788575e-07, 2.7927521984776427e-07, 6.307446588768938e-07]\n"
     ]
    },
    {
     "name": "stderr",
     "output_type": "stream",
     "text": [
      "reconstraining parameters GP_regression.Mat52.variance\n",
      "reconstraining parameters GP_regression.Gaussian_noise.variance\n"
     ]
    },
    {
     "name": "stdout",
     "output_type": "stream",
     "text": [
      "Optimization restart 1/10, f = 40.03355175469878\n",
      "Optimization restart 2/10, f = 40.03355175456595\n",
      "Optimization restart 3/10, f = 3945671.821122462\n",
      "Optimization restart 4/10, f = 527.3570949894969\n",
      "Optimization restart 5/10, f = 3945671.821122462\n",
      "Optimization restart 6/10, f = 527.3570949894969\n",
      "Optimization restart 7/10, f = 40.033551754566105\n",
      "Optimization restart 8/10, f = 117.93894376120716\n",
      "Optimization restart 9/10, f = 112.09614412316915\n"
     ]
    },
    {
     "name": "stderr",
     "output_type": "stream",
     "text": [
      "reconstraining parameters GP_regression.Mat52.lengthscale\n",
      "reconstraining parameters GP_regression.Mat52.variance\n",
      "reconstraining parameters GP_regression.Gaussian_noise.variance\n"
     ]
    },
    {
     "name": "stdout",
     "output_type": "stream",
     "text": [
      "Optimization restart 10/10, f = 40.0335517545644\n",
      "Optimization restart 1/10, f = -2.5395706808785548\n",
      "Optimization restart 2/10, f = -2.539570680882278\n",
      "Optimization restart 3/10, f = -2.5395706808800327\n",
      "Optimization restart 4/10, f = -2.5395706808868397\n",
      "Optimization restart 5/10, f = 1246231127.4766738\n",
      "Optimization restart 6/10, f = 3945671.821122463\n",
      "Optimization restart 7/10, f = 527.3570949894969\n",
      "Optimization restart 8/10, f = -2.5395706808899803\n",
      "Optimization restart 9/10, f = 1244820626.5809932\n",
      "Optimization restart 10/10, f = 112.09614412316915\n",
      "(4_w,9)-aCMA-ES (mu_w=2.8,w_1=49%) in dimension 6 (seed=462833, Tue Sep 29 15:22:43 2020)\n",
      "Iterat #Fevals   function value  axis ratio  sigma  min&max std  t[m:s]\n",
      "    1      9 3.540044283672952e-01 1.0e+00 2.32e-01  2e-01  2e-01 0:00.0\n",
      "    2     18 3.227857697809555e-01 1.2e+00 2.36e-01  2e-01  2e-01 0:00.0\n",
      "    3     27 1.620154539777952e-01 1.4e+00 3.36e-01  3e-01  4e-01 0:00.1\n",
      "  100    900 1.188244162990522e-01 1.2e+02 3.55e-02  4e-03  6e-02 0:02.8\n",
      "  200   1800 1.178797036158343e-01 2.0e+03 9.99e-03  5e-04  5e-03 0:05.2\n",
      "  300   2700 1.178662854617327e-01 9.8e+03 8.58e-03  1e-04  2e-03 0:06.7\n",
      "  400   3600 1.178654817557225e-01 6.2e+03 1.11e-02  4e-05  5e-04 0:08.3\n",
      "  500   4500 1.178654572149056e-01 4.8e+04 1.81e-02  2e-05  3e-04 0:10.7\n",
      "  600   5400 1.178653670654173e-01 1.2e+05 7.33e-03  3e-06  6e-05 0:12.5\n",
      "  700   6300 1.178653604770852e-01 1.6e+05 1.66e-01  2e-05  3e-04 0:15.7\n",
      "  794   7146 1.178653585242277e-01 9.6e+05 1.19e-02  5e-07  9e-06 0:18.0\n"
     ]
    },
    {
     "name": "stderr",
     "output_type": "stream",
     "text": [
      "reconstraining parameters GP_regression.Mat52.lengthscale\n",
      "reconstraining parameters GP_regression.Mat52.variance\n",
      "reconstraining parameters GP_regression.Gaussian_noise.variance\n"
     ]
    },
    {
     "name": "stdout",
     "output_type": "stream",
     "text": [
      "termination on tolfun=1e-11 (Tue Sep 29 15:23:03 2020)\n",
      "final/bestever f-value = 1.178654e-01 1.178654e-01\n",
      "incumbent solution: [1.999999999997489, 8.050615111374197e-12, 1.9244241998344571, 3.5655811891093916, 9.99999976838246, 10.833058344833495]\n",
      "std deviation: [6.075145370630043e-07, 5.035625595987212e-07, 5.1119129502721744e-06, 8.751852843429063e-06, 4.648400042279634e-06, 4.904996590544704e-06]\n",
      "Optimization restart 1/10, f = 40.3460079109118\n",
      "Optimization restart 2/10, f = 40.34600791089224\n",
      "Optimization restart 3/10, f = 534.0325012551868\n",
      "Optimization restart 4/10, f = 40.34600791088729\n",
      "Optimization restart 5/10, f = 3995617.034048062\n",
      "Optimization restart 6/10, f = 118.52051161719976\n",
      "Optimization restart 7/10, f = 40.346007910900546\n",
      "Optimization restart 8/10, f = 113.51508265637379\n",
      "Optimization restart 9/10, f = 40.34600791089659\n"
     ]
    },
    {
     "name": "stderr",
     "output_type": "stream",
     "text": [
      "reconstraining parameters GP_regression.Mat52.lengthscale\n",
      "reconstraining parameters GP_regression.Mat52.variance\n",
      "reconstraining parameters GP_regression.Gaussian_noise.variance\n"
     ]
    },
    {
     "name": "stdout",
     "output_type": "stream",
     "text": [
      "Optimization restart 10/10, f = 40.3460079108964\n",
      "Optimization restart 1/10, f = -1.8804177990191988\n",
      "Optimization restart 2/10, f = 113.51508265637382\n",
      "Optimization restart 3/10, f = 113.51508265637382\n",
      "Optimization restart 4/10, f = -1.8804177990205062\n",
      "Optimization restart 5/10, f = 113.51508265637399\n",
      "Optimization restart 6/10, f = 113.51508265637412\n",
      "Optimization restart 7/10, f = 113.51508265637396\n",
      "Optimization restart 8/10, f = 113.51508227497894\n",
      "Optimization restart 9/10, f = -1.8804177990186517\n",
      "Optimization restart 10/10, f = -1.8804177990311928\n",
      "(4_w,9)-aCMA-ES (mu_w=2.8,w_1=49%) in dimension 6 (seed=530832, Tue Sep 29 15:23:09 2020)\n",
      "Iterat #Fevals   function value  axis ratio  sigma  min&max std  t[m:s]\n",
      "    1      9 4.709458645224214e-01 1.0e+00 2.89e-01  3e-01  3e-01 0:00.0\n",
      "    2     18 4.547576052754656e-01 1.3e+00 3.13e-01  3e-01  3e-01 0:00.0\n",
      "    3     27 4.434300159135780e-01 1.4e+00 3.63e-01  3e-01  4e-01 0:00.1\n",
      "  100    900 2.342042444065422e-01 1.2e+01 1.54e-02  7e-04  7e-03 0:01.6\n",
      "  200   1800 2.341925953536217e-01 1.3e+03 5.51e-04  1e-07  1e-04 0:05.3\n",
      "NOTE (module=cma, iteration=246):  \n",
      "condition in coordinate system exceeded 1.1e+08, rescaled to 1.0e+00, \n",
      "condition changed from 1.3e+08 to 6.5e+00\n",
      "  293   2637 2.341925916697858e-01 1.9e+01 9.31e-06  6e-12  8e-07 0:07.0\n"
     ]
    },
    {
     "name": "stderr",
     "output_type": "stream",
     "text": [
      "reconstraining parameters GP_regression.Mat52.lengthscale\n",
      "reconstraining parameters GP_regression.Mat52.variance\n",
      "reconstraining parameters GP_regression.Gaussian_noise.variance\n"
     ]
    },
    {
     "name": "stdout",
     "output_type": "stream",
     "text": [
      "termination on tolfun=1e-11 (Tue Sep 29 15:23:17 2020)\n",
      "final/bestever f-value = 2.341926e-01 2.341926e-01\n",
      "incumbent solution: [1.9999999999995526, 3.999999999999988, 5.999999999999761, 7.99999999999987, 9.999999999999952, 0.07477451598984271]\n",
      "std deviation: [2.13968321679689e-07, 5.731373497801382e-07, 5.992697764731786e-07, 7.72026782699269e-07, 7.215955302589328e-07, 6.40198488509583e-12]\n",
      "Optimization restart 1/10, f = 41.724006783622634\n",
      "Optimization restart 2/10, f = 540.7079075208767\n",
      "Optimization restart 3/10, f = 114.93402118957849\n",
      "Optimization restart 4/10, f = 41.7240067833713\n",
      "Optimization restart 5/10, f = 114.93402118957849\n",
      "Optimization restart 6/10, f = 114.9340211895785\n",
      "Optimization restart 7/10, f = 41.72400678339067\n",
      "Optimization restart 8/10, f = 114.93402118957849\n"
     ]
    },
    {
     "name": "stderr",
     "output_type": "stream",
     "text": [
      "reconstraining parameters GP_regression.Mat52.lengthscale\n",
      "reconstraining parameters GP_regression.Mat52.variance\n",
      "reconstraining parameters GP_regression.Gaussian_noise.variance\n"
     ]
    },
    {
     "name": "stdout",
     "output_type": "stream",
     "text": [
      "Optimization restart 9/10, f = 540.7079075208767\n",
      "Optimization restart 10/10, f = 121.60948585540031\n",
      "Optimization restart 1/10, f = -0.5139638119837002\n",
      "Optimization restart 2/10, f = -0.5139638119661711\n",
      "Optimization restart 3/10, f = 114.9340211895785\n",
      "Optimization restart 4/10, f = 4045562.2469736636\n",
      "Optimization restart 5/10, f = -0.5139638119770069\n",
      "Optimization restart 6/10, f = 540.7079075208767\n",
      "Optimization restart 7/10, f = 4045562.2469736636\n",
      "Optimization restart 8/10, f = -0.5139638119846524\n",
      "Optimization restart 9/10, f = 82.22345545286134\n",
      "Optimization restart 10/10, f = 82.2234573798797\n",
      "(4_w,9)-aCMA-ES (mu_w=2.8,w_1=49%) in dimension 6 (seed=502930, Tue Sep 29 15:23:20 2020)\n",
      "Iterat #Fevals   function value  axis ratio  sigma  min&max std  t[m:s]\n",
      "    1      9 3.850616742992723e-01 1.0e+00 2.57e-01  2e-01  3e-01 0:00.0\n",
      "    2     18 3.449869078636167e-01 1.2e+00 2.56e-01  2e-01  3e-01 0:00.0\n",
      "    3     27 3.728469371819543e-01 1.3e+00 2.63e-01  2e-01  3e-01 0:00.1\n",
      "  100    900 5.350552793004693e-02 1.8e+02 1.81e-01  7e-03  2e-01 0:01.7\n",
      "  200   1800 5.345103473330060e-03 1.2e+03 1.59e-02  7e-05  6e-03 0:04.0\n",
      "  285   2565 5.333808266649642e-03 1.5e+04 1.48e-02  3e-05  3e-03 0:09.0\n",
      "  300   2700 5.332919221075372e-03 1.3e+04 2.82e-02  7e-05  3e-03 0:09.4\n",
      "  400   3600 5.331350729345097e-03 4.3e+04 1.50e-02  9e-06  5e-04 0:12.0\n",
      "  500   4500 5.331164892698581e-03 1.3e+05 3.61e-02  7e-06  4e-04 0:14.0\n",
      "  600   5400 5.331133132432386e-03 3.2e+05 4.58e-02  1e-06  1e-04 0:16.5\n",
      "  700   6300 5.331125214881993e-03 5.5e+05 1.73e-01  2e-06  2e-04 0:20.0\n"
     ]
    },
    {
     "name": "stderr",
     "output_type": "stream",
     "text": [
      " /home/finley/miniconda3/envs/testsuite/lib/python3.8/site-packages/cma/utilities/utils.py:329: UserWarning:\n",
      "        geno-pheno transformation introduced based on the\n",
      "        current covariance matrix with condition 1.0e+12 -> 1.0e+00,\n",
      "        injected solutions become \"invalid\" in this iteration (class=CMAEvolutionStrategy method=alleviate_conditioning iteration=742)\n"
     ]
    },
    {
     "name": "stdout",
     "output_type": "stream",
     "text": [
      "  800   7200 5.331123580685215e-03 3.1e+01 9.99e-02  4e-02  2e-01 0:23.6\n",
      "  900   8100 5.331123274979754e-03 3.3e+02 2.28e-01  3e-02  3e-01 0:26.3\n",
      " 1000   9000 5.331123194204368e-03 6.7e+02 4.81e-01  1e-02  1e-01 0:28.9\n",
      "Iterat #Fevals   function value  axis ratio  sigma  min&max std  t[m:s]\n",
      " 1014   9126 5.331123190613685e-03 7.3e+02 3.05e-01  8e-03  6e-02 0:29.4\n",
      "termination on tolfun=1e-11 (Tue Sep 29 15:23:53 2020)\n",
      "final/bestever f-value = 5.331123e-03 5.331123e-03\n",
      "incumbent solution: [0.704353807010736, 8.071302794312931e-15, 3.8502619593445706, 0.5810460198554117, 9.999999999999996, 11.999999999999986]\n",
      "std deviation: [0.06143809091107571, 0.008926005012552288, 0.013311882803358578, 0.008761778329811764, 0.00840898359490569, 0.007866154417084026]\n"
     ]
    },
    {
     "name": "stderr",
     "output_type": "stream",
     "text": [
      "reconstraining parameters GP_regression.Mat52.lengthscale\n",
      "reconstraining parameters GP_regression.Mat52.variance\n",
      "reconstraining parameters GP_regression.Gaussian_noise.variance\n"
     ]
    },
    {
     "name": "stdout",
     "output_type": "stream",
     "text": [
      "Optimization restart 1/10, f = 43.07263745624767\n",
      "Optimization restart 2/10, f = 116.35295972278315\n",
      "Optimization restart 3/10, f = 123.29315548643413\n",
      "Optimization restart 4/10, f = 547.3833137865664\n",
      "Optimization restart 5/10, f = 4095507.4598992635\n",
      "Optimization restart 6/10, f = 116.35295972278314\n",
      "Optimization restart 7/10, f = 116.35295972278314\n",
      "Optimization restart 8/10, f = 43.07263745610657\n",
      "Optimization restart 9/10, f = 116.35295972278917\n"
     ]
    },
    {
     "name": "stderr",
     "output_type": "stream",
     "text": [
      "reconstraining parameters GP_regression.Mat52.lengthscale\n",
      "reconstraining parameters GP_regression.Mat52.variance\n",
      "reconstraining parameters GP_regression.Gaussian_noise.variance\n"
     ]
    },
    {
     "name": "stdout",
     "output_type": "stream",
     "text": [
      "Optimization restart 10/10, f = 43.07263745609547\n",
      "Optimization restart 1/10, f = -0.6346392914692842\n",
      "Optimization restart 2/10, f = -0.6346392914961996\n",
      "Optimization restart 3/10, f = -0.6346392914962138\n",
      "Optimization restart 4/10, f = -0.6346392914692416\n",
      "Optimization restart 5/10, f = 1448308753.9964533\n",
      "Optimization restart 6/10, f = 1443376556.9157915\n",
      "Optimization restart 7/10, f = -0.6346392914887815\n",
      "Optimization restart 8/10, f = 4095507.459899264\n",
      "Optimization restart 9/10, f = -0.634639291476077\n",
      "Optimization restart 10/10, f = 116.35295972278317\n",
      "(4_w,9)-aCMA-ES (mu_w=2.8,w_1=49%) in dimension 6 (seed=431621, Tue Sep 29 15:23:59 2020)\n",
      "Iterat #Fevals   function value  axis ratio  sigma  min&max std  t[m:s]\n",
      "    1      9 2.458930432647668e-01 1.0e+00 2.63e-01  3e-01  3e-01 0:00.1\n",
      "    2     18 2.071805704582750e-01 1.3e+00 2.98e-01  3e-01  4e-01 0:00.1\n",
      "    3     27 1.088344090524387e-01 1.6e+00 3.27e-01  3e-01  4e-01 0:00.1\n",
      "  100    900 -8.420911441499568e-02 2.0e+01 1.80e-02  1e-03  1e-02 0:02.6\n",
      "  200   1800 -8.428297869781787e-02 8.2e+02 1.91e-03  2e-05  5e-04 0:04.2\n",
      "  300   2700 -8.428304200922820e-02 2.2e+05 1.51e-05  8e-08  2e-06 0:05.8\n",
      "  306   2754 -8.428304200939740e-02 3.0e+05 1.26e-05  7e-08  1e-06 0:05.9\n",
      "termination on tolfun=1e-11 (Tue Sep 29 15:24:05 2020)\n",
      "final/bestever f-value = -8.428304e-02 -8.428304e-02\n",
      "incumbent solution: [1.9999999999991542, 0.6385928913978782, 2.5504813253253205, 4.011554289207756, 4.171264409496608, 4.668041117662157]\n",
      "std deviation: [3.717627121750882e-07, 6.833532027303679e-08, 8.5772042465645e-07, 8.081281096810208e-07, 1.4279279813453962e-06, 1.196629219208108e-06]\n"
     ]
    },
    {
     "name": "stderr",
     "output_type": "stream",
     "text": [
      "reconstraining parameters GP_regression.Mat52.lengthscale\n",
      "reconstraining parameters GP_regression.Mat52.variance\n",
      "reconstraining parameters GP_regression.Gaussian_noise.variance\n"
     ]
    },
    {
     "name": "stdout",
     "output_type": "stream",
     "text": [
      "Optimization restart 1/10, f = 42.492243744471445\n",
      "Optimization restart 2/10, f = 117.77189825598786\n",
      "Optimization restart 3/10, f = 117.77189825598782\n",
      "Optimization restart 4/10, f = 117.77189825598782\n",
      "Optimization restart 5/10, f = 117.77189825598785\n",
      "Optimization restart 6/10, f = 117.77189825598893\n",
      "Optimization restart 7/10, f = 42.49224374430603\n",
      "Optimization restart 8/10, f = 117.77189825598788\n",
      "Optimization restart 9/10, f = 122.64451949398864\n"
     ]
    },
    {
     "name": "stderr",
     "output_type": "stream",
     "text": [
      "reconstraining parameters GP_regression.Mat52.lengthscale\n",
      "reconstraining parameters GP_regression.Mat52.variance\n",
      "reconstraining parameters GP_regression.Gaussian_noise.variance\n"
     ]
    },
    {
     "name": "stdout",
     "output_type": "stream",
     "text": [
      "Optimization restart 10/10, f = 42.49224374430038\n",
      "Optimization restart 1/10, f = -2.855346100971488\n",
      "Optimization restart 2/10, f = 554.0587200522563\n",
      "Optimization restart 3/10, f = 117.77189825598782\n",
      "Optimization restart 4/10, f = -2.855346100963459\n",
      "Optimization restart 5/10, f = -2.855346100944118\n",
      "Optimization restart 6/10, f = -2.8553461009546055\n",
      "Optimization restart 7/10, f = 1456187582.53673\n",
      "Optimization restart 8/10, f = -2.855346100952744\n",
      "Optimization restart 9/10, f = 117.77189825598788\n",
      "Optimization restart 10/10, f = 1454599392.52429\n",
      "(4_w,9)-aCMA-ES (mu_w=2.8,w_1=49%) in dimension 6 (seed=474949, Tue Sep 29 15:24:08 2020)\n",
      "Iterat #Fevals   function value  axis ratio  sigma  min&max std  t[m:s]\n",
      "    1      9 2.783427055728955e-01 1.0e+00 2.68e-01  3e-01  3e-01 0:00.0\n",
      "    2     18 2.729515768293735e-01 1.4e+00 2.97e-01  3e-01  4e-01 0:00.0\n",
      "    3     27 2.633671489596647e-01 1.7e+00 3.96e-01  4e-01  5e-01 0:00.1\n",
      "  100    900 5.079535666279877e-02 4.8e+01 1.91e-01  7e-03  2e-01 0:01.6\n",
      "  200   1800 4.142342032184132e-02 1.1e+03 1.07e-02  9e-05  3e-03 0:03.2\n",
      "  300   2700 4.142211194088929e-02 1.0e+05 7.49e-04  3e-06  1e-04 0:04.8\n",
      "  371   3339 4.142211131851892e-02 4.4e+00 2.19e-05  1e-05  2e-05 0:05.9\n"
     ]
    },
    {
     "name": "stderr",
     "output_type": "stream",
     "text": [
      "reconstraining parameters GP_regression.Mat52.lengthscale\n",
      "reconstraining parameters GP_regression.Mat52.variance\n",
      "reconstraining parameters GP_regression.Gaussian_noise.variance\n"
     ]
    },
    {
     "name": "stdout",
     "output_type": "stream",
     "text": [
      "termination on tolfun=1e-11 (Tue Sep 29 15:24:15 2020)\n",
      "final/bestever f-value = 4.142211e-02 4.142211e-02\n",
      "incumbent solution: [1.4657296142679409e-12, 1.7186166840435035, 2.5024160515893294, 2.9517045274316684, 9.999999999948646, 11.999999999989436]\n",
      "std deviation: [1.8299868892659498e-05, 1.0728250899880919e-05, 2.064034602420364e-05, 1.658215602092887e-05, 1.7373946384847785e-05, 1.7621985015518786e-05]\n",
      "Optimization restart 1/10, f = 44.85946073512984\n",
      "Optimization restart 2/10, f = 4195397.885750466\n",
      "Optimization restart 3/10, f = 119.19083678919252\n",
      "Optimization restart 4/10, f = 119.1905515290432\n",
      "Optimization restart 5/10, f = 119.19083678919262\n",
      "Optimization restart 6/10, f = 4195397.885750466\n",
      "Optimization restart 7/10, f = 44.859460735118816\n",
      "Optimization restart 8/10, f = 44.859460735125445\n"
     ]
    },
    {
     "name": "stderr",
     "output_type": "stream",
     "text": [
      "reconstraining parameters GP_regression.Mat52.lengthscale\n",
      "reconstraining parameters GP_regression.Mat52.variance\n",
      "reconstraining parameters GP_regression.Gaussian_noise.variance\n"
     ]
    },
    {
     "name": "stdout",
     "output_type": "stream",
     "text": [
      "Optimization restart 9/10, f = 44.85946073513565\n",
      "Optimization restart 10/10, f = 2041321476.2816076\n",
      "Optimization restart 1/10, f = -2.911670911066281\n",
      "Optimization restart 2/10, f = 119.1908367891925\n",
      "Optimization restart 3/10, f = -2.911670911080961\n",
      "Optimization restart 4/10, f = 1455239142.1772206\n",
      "Optimization restart 5/10, f = 82.43756724753666\n",
      "Optimization restart 6/10, f = 1458017080.3590682\n",
      "Optimization restart 7/10, f = 1454461392.633809\n",
      "Optimization restart 8/10, f = -2.911670911074552\n",
      "Optimization restart 9/10, f = -2.9116709110813233\n",
      "Optimization restart 10/10, f = 1455784984.5201573\n",
      "(4_w,9)-aCMA-ES (mu_w=2.8,w_1=49%) in dimension 6 (seed=497008, Tue Sep 29 15:24:18 2020)\n",
      "Iterat #Fevals   function value  axis ratio  sigma  min&max std  t[m:s]\n",
      "    1      9 4.700657178999932e-01 1.0e+00 2.19e-01  2e-01  2e-01 0:00.0\n",
      "    2     18 4.725799179613666e-01 1.2e+00 1.96e-01  2e-01  2e-01 0:00.0\n",
      "    3     27 4.823239766461511e-01 1.3e+00 1.94e-01  2e-01  2e-01 0:00.0\n",
      "  100    900 2.312527680699721e-01 3.5e+01 3.39e-02  1e-03  3e-02 0:01.6\n",
      "  200   1800 2.312388669608234e-01 1.1e+04 3.52e-04  2e-08  1e-04 0:03.3\n",
      "NOTE (module=cma, iteration=210):  \n",
      "condition in coordinate system exceeded 1.1e+08, rescaled to 1.0e+00, \n",
      "condition changed from 1.5e+08 to 4.7e+00\n",
      "  267   2403 2.312388665610139e-01 3.8e+01 1.10e-05  8e-12  3e-06 0:04.5\n"
     ]
    },
    {
     "name": "stderr",
     "output_type": "stream",
     "text": [
      "reconstraining parameters GP_regression.Mat52.lengthscale\n"
     ]
    },
    {
     "name": "stdout",
     "output_type": "stream",
     "text": [
      "termination on tolfun=1e-11 (Tue Sep 29 15:24:23 2020)\n",
      "final/bestever f-value = 2.312389e-01 2.312389e-01\n",
      "incumbent solution: [1.9999999999999167, 3.9999999999999476, 2.554371754463483, 7.999999999998361, 9.999999999987931, 11.99999999999808]\n",
      "std deviation: [3.5002083668915466e-07, 5.502330323064327e-07, 8.034636903226681e-12, 1.020733165027208e-06, 2.168266956393665e-06, 3.031703742975055e-06]\n"
     ]
    },
    {
     "name": "stderr",
     "output_type": "stream",
     "text": [
      "reconstraining parameters GP_regression.Mat52.variance\n",
      "reconstraining parameters GP_regression.Gaussian_noise.variance\n"
     ]
    },
    {
     "name": "stdout",
     "output_type": "stream",
     "text": [
      "Optimization restart 1/10, f = 45.60682326289172\n",
      "Optimization restart 2/10, f = 45.60682326287004\n",
      "Optimization restart 3/10, f = 2022671139.5580227\n",
      "Optimization restart 4/10, f = 126.20851778689081\n",
      "Optimization restart 5/10, f = 567.4095325836358\n",
      "Optimization restart 6/10, f = 45.606823262863855\n",
      "Optimization restart 7/10, f = 2023293012.6416235\n",
      "Optimization restart 8/10, f = 4245343.098676065\n"
     ]
    },
    {
     "name": "stderr",
     "output_type": "stream",
     "text": [
      "reconstraining parameters GP_regression.Mat52.lengthscale\n",
      "reconstraining parameters GP_regression.Mat52.variance\n"
     ]
    },
    {
     "name": "stdout",
     "output_type": "stream",
     "text": [
      "Optimization restart 9/10, f = 45.60682326286517\n",
      "Optimization restart 10/10, f = 567.4095325836358\n"
     ]
    },
    {
     "name": "stderr",
     "output_type": "stream",
     "text": [
      "reconstraining parameters GP_regression.Gaussian_noise.variance\n"
     ]
    },
    {
     "name": "stdout",
     "output_type": "stream",
     "text": [
      "Optimization restart 1/10, f = -1.2444941558715001\n",
      "Optimization restart 2/10, f = -1.2444941558703846\n",
      "Optimization restart 3/10, f = 120.60977532239738\n",
      "Optimization restart 4/10, f = 120.60977532239718\n",
      "Optimization restart 5/10, f = -1.244494155870754\n",
      "Optimization restart 6/10, f = 1619285324.3065226\n",
      "Optimization restart 7/10, f = 1624736107.581296\n",
      "Optimization restart 8/10, f = 85.14680877783266\n",
      "Optimization restart 9/10, f = 567.4095325836358\n",
      "Optimization restart 10/10, f = 85.14680660695387\n",
      "(4_w,9)-aCMA-ES (mu_w=2.8,w_1=49%) in dimension 6 (seed=472699, Tue Sep 29 15:24:26 2020)\n",
      "Iterat #Fevals   function value  axis ratio  sigma  min&max std  t[m:s]\n",
      "    1      9 3.100710219756229e-01 1.0e+00 2.50e-01  2e-01  3e-01 0:00.0\n",
      "    2     18 2.370998527015704e-01 1.3e+00 2.93e-01  3e-01  4e-01 0:00.1\n",
      "    3     27 1.989310656285594e-01 1.6e+00 3.49e-01  3e-01  4e-01 0:00.1\n",
      "  100    900 -8.465034643316582e-02 1.6e+01 4.89e-02  7e-03  3e-02 0:02.4\n",
      "  200   1800 -8.603162099435124e-02 1.5e+03 1.39e-03  4e-05  4e-04 0:04.3\n",
      "  300   2700 -8.603171521652397e-02 5.7e+05 1.97e-05  5e-07  3e-06 0:06.1\n"
     ]
    },
    {
     "name": "stderr",
     "output_type": "stream",
     "text": [
      " /home/finley/miniconda3/envs/testsuite/lib/python3.8/site-packages/cma/utilities/utils.py:329: UserWarning:\n",
      "        geno-pheno transformation introduced based on the\n",
      "        current covariance matrix with condition 1.2e+12 -> 1.0e+00,\n",
      "        injected solutions become \"invalid\" in this iteration (class=CMAEvolutionStrategy method=alleviate_conditioning iteration=315)\n"
     ]
    },
    {
     "name": "stdout",
     "output_type": "stream",
     "text": [
      "  331   2979 -8.603171521723096e-02 2.2e+00 1.67e-05  1e-05  2e-05 0:06.6\n"
     ]
    },
    {
     "name": "stderr",
     "output_type": "stream",
     "text": [
      "reconstraining parameters GP_regression.Mat52.lengthscale\n",
      "reconstraining parameters GP_regression.Mat52.variance\n",
      "reconstraining parameters GP_regression.Gaussian_noise.variance\n"
     ]
    },
    {
     "name": "stdout",
     "output_type": "stream",
     "text": [
      "termination on tolfun=1e-11 (Tue Sep 29 15:24:33 2020)\n",
      "final/bestever f-value = -8.603172e-02 -8.603172e-02\n",
      "incumbent solution: [1.9104150858875066, 0.8068914708733246, 2.3418842621547356, 3.294074392597736, 3.7929710635917218, 4.6942253155662]\n",
      "std deviation: [1.9773896730071466e-05, 1.453417710886343e-05, 1.3723830527597278e-05, 1.3157256788981734e-05, 1.1562413230493388e-05, 1.968292096775648e-05]\n",
      "Optimization restart 1/10, f = 44.5832641511493\n",
      "Optimization restart 2/10, f = 122.02871385560184\n",
      "Optimization restart 3/10, f = 122.02871385560185\n",
      "Optimization restart 4/10, f = 44.58326415106138\n",
      "Optimization restart 5/10, f = 122.02871385560185\n",
      "Optimization restart 6/10, f = 44.5832641510561\n",
      "Optimization restart 7/10, f = 574.0849388493258\n",
      "Optimization restart 8/10, f = 122.02871385560184\n"
     ]
    },
    {
     "name": "stderr",
     "output_type": "stream",
     "text": [
      "reconstraining parameters GP_regression.Mat52.lengthscale\n",
      "reconstraining parameters GP_regression.Mat52.variance\n"
     ]
    },
    {
     "name": "stdout",
     "output_type": "stream",
     "text": [
      "Optimization restart 9/10, f = 44.583264151057286\n",
      "Optimization restart 10/10, f = 44.58326415104992\n"
     ]
    },
    {
     "name": "stderr",
     "output_type": "stream",
     "text": [
      "reconstraining parameters GP_regression.Gaussian_noise.variance\n"
     ]
    },
    {
     "name": "stdout",
     "output_type": "stream",
     "text": [
      "Optimization restart 1/10, f = -3.739538413054845\n",
      "Optimization restart 2/10, f = -3.7395384130905\n",
      "Optimization restart 3/10, f = 122.02871385560185\n",
      "Optimization restart 4/10, f = -3.739538413123128\n",
      "Optimization restart 5/10, f = 122.02871385560188\n",
      "Optimization restart 6/10, f = 4295288.311601667\n",
      "Optimization restart 7/10, f = 122.02870305352042\n",
      "Optimization restart 8/10, f = 574.0849388493258\n",
      "Optimization restart 9/10, f = 1630176585.626102\n",
      "Optimization restart 10/10, f = 122.02871385441247\n",
      "(4_w,9)-aCMA-ES (mu_w=2.8,w_1=49%) in dimension 6 (seed=475923, Tue Sep 29 15:24:37 2020)\n",
      "Iterat #Fevals   function value  axis ratio  sigma  min&max std  t[m:s]\n",
      "    1      9 8.708033073275523e-02 1.0e+00 2.50e-01  2e-01  3e-01 0:00.0\n",
      "    2     18 1.516482173846121e-01 1.5e+00 2.66e-01  2e-01  3e-01 0:00.0\n",
      "    3     27 7.130241546670701e-02 1.7e+00 2.84e-01  2e-01  4e-01 0:00.1\n",
      "  100    900 -4.300549682875676e-02 8.6e+01 1.29e-01  1e-02  2e-01 0:01.6\n",
      "  200   1800 -7.675821330600496e-02 1.0e+02 5.87e-01  8e-03  3e-01 0:05.1\n",
      "  300   2700 -8.454787925016660e-02 1.9e+03 5.04e-03  1e-05  5e-04 0:08.7\n",
      "  400   3600 -8.454797099761535e-02 2.5e+05 2.59e-04  3e-07  1e-05 0:10.5\n",
      "  439   3951 -8.454797101498635e-02 1.4e+00 3.44e-05  3e-05  4e-05 0:11.2\n"
     ]
    },
    {
     "name": "stderr",
     "output_type": "stream",
     "text": [
      " /home/finley/miniconda3/envs/testsuite/lib/python3.8/site-packages/cma/utilities/utils.py:329: UserWarning:\n",
      "        geno-pheno transformation introduced based on the\n",
      "        current covariance matrix with condition 1.1e+12 -> 1.0e+00,\n",
      "        injected solutions become \"invalid\" in this iteration (class=CMAEvolutionStrategy method=alleviate_conditioning iteration=436)\n",
      "reconstraining parameters GP_regression.Mat52.lengthscale\n"
     ]
    },
    {
     "name": "stdout",
     "output_type": "stream",
     "text": [
      "termination on tolfun=1e-11 (Tue Sep 29 15:24:49 2020)\n",
      "final/bestever f-value = -8.454797e-02 -8.454797e-02\n",
      "incumbent solution: [8.913145468885504e-16, 1.2988538858224332, 4.406521008412221, 3.2934029434967505e-13, 2.1313244444456418e-13, 2.9452735478791964e-13]\n",
      "std deviation: [3.112046214287805e-05, 2.844887611950417e-05, 3.1999241520007386e-05, 3.488699264747935e-05, 3.209322274470224e-05, 3.6716621564843187e-05]\n"
     ]
    },
    {
     "name": "stderr",
     "output_type": "stream",
     "text": [
      "reconstraining parameters GP_regression.Mat52.variance\n",
      "reconstraining parameters GP_regression.Gaussian_noise.variance\n"
     ]
    },
    {
     "name": "stdout",
     "output_type": "stream",
     "text": [
      "Optimization restart 1/10, f = 45.60300176050364\n",
      "Optimization restart 2/10, f = 4345233.524527267\n",
      "Optimization restart 3/10, f = 580.7603451150156\n",
      "Optimization restart 4/10, f = 123.44765238868729\n",
      "Optimization restart 5/10, f = 4345233.524527267\n",
      "Optimization restart 6/10, f = 123.44765238880711\n",
      "Optimization restart 7/10, f = 123.4476523888663\n",
      "Optimization restart 8/10, f = 45.6030017589847\n",
      "Optimization restart 9/10, f = 123.44765238880686\n",
      "Optimization restart 10/10, f = 580.7603451150156\n"
     ]
    },
    {
     "name": "stderr",
     "output_type": "stream",
     "text": [
      "reconstraining parameters GP_regression.Mat52.lengthscale\n",
      "reconstraining parameters GP_regression.Mat52.variance\n",
      "reconstraining parameters GP_regression.Gaussian_noise.variance\n"
     ]
    },
    {
     "name": "stdout",
     "output_type": "stream",
     "text": [
      "Optimization restart 1/10, f = -4.239290742370237\n",
      "Optimization restart 2/10, f = -4.239290742378628\n",
      "Optimization restart 3/10, f = -4.239290742376468\n",
      "Optimization restart 4/10, f = 580.7603451150156\n",
      "Optimization restart 5/10, f = 123.44765238880649\n",
      "Optimization restart 6/10, f = 4345233.524527266\n",
      "Optimization restart 7/10, f = -4.239290742402588\n",
      "Optimization restart 8/10, f = 82.09149380883619\n",
      "Optimization restart 9/10, f = -4.239290742394417\n",
      "Optimization restart 10/10, f = 123.4476523888065\n",
      "(4_w,9)-aCMA-ES (mu_w=2.8,w_1=49%) in dimension 6 (seed=497806, Tue Sep 29 15:24:53 2020)\n",
      "Iterat #Fevals   function value  axis ratio  sigma  min&max std  t[m:s]\n",
      "    1      9 3.009228660275514e-01 1.0e+00 2.65e-01  3e-01  3e-01 0:00.0\n",
      "    2     18 2.525749870807659e-01 1.3e+00 2.78e-01  3e-01  3e-01 0:00.0\n",
      "    3     27 2.503589763102030e-01 1.4e+00 3.12e-01  3e-01  4e-01 0:00.1\n",
      "  100    900 1.552539002997739e-01 2.4e+01 2.76e-01  2e-02  4e-01 0:01.6\n",
      "  200   1800 1.519530076448596e-01 1.2e+02 2.27e-02  7e-04  1e-02 0:03.3\n",
      "  300   2700 1.519262546584446e-01 4.6e+02 2.51e-02  2e-04  6e-03 0:05.3\n",
      "  400   3600 1.519240989415560e-01 1.7e+03 6.75e-02  2e-04  5e-03 0:07.0\n",
      "  500   4500 1.519225771683033e-01 3.5e+03 6.00e-02  5e-05  2e-03 0:08.7\n",
      "  600   5400 1.519210002774778e-01 2.0e+03 3.35e-01  1e-04  2e-03 0:10.4\n",
      "  700   6300 1.519196932179674e-01 2.5e+03 2.13e+00  2e-04  4e-03 0:14.6\n",
      "  800   7200 1.519185034944672e-01 2.9e+03 4.63e+00  9e-05  3e-03 0:17.3\n",
      "  900   8100 1.519156077991326e-01 2.3e+03 2.11e+01  2e-04  4e-03 0:18.9\n",
      " 1000   9000 1.519093875248081e-01 9.5e+02 5.31e+01  8e-05  2e-03 0:20.5\n",
      "Iterat #Fevals   function value  axis ratio  sigma  min&max std  t[m:s]\n",
      " 1100   9900 1.519007016736418e-01 1.2e+03 8.14e+02  4e-04  9e-03 0:22.2\n",
      " 1200  10800 1.518874760029187e-01 9.9e+02 2.55e+03  3e-04  7e-03 0:24.6\n",
      " 1300  11700 1.518740864267776e-01 1.1e+03 2.50e+04  8e-04  2e-02 0:26.3\n",
      " 1400  12600 1.518599647101988e-01 1.7e+03 2.87e+04  3e-04  7e-03 0:27.8\n",
      " 1500  13500 1.517847971895563e-01 1.1e+03 8.39e+04  2e-04  4e-03 0:29.4\n",
      " 1600  14400 1.517728542426302e-01 1.9e+03 7.94e+05  4e-04  1e-02 0:31.0\n",
      " 1700  15300 1.517720331767123e-01 6.4e+03 1.14e+06  2e-04  6e-03 0:35.5\n",
      " 1800  16200 1.517710470206146e-01 2.1e+04 2.35e+05  1e-05  4e-04 0:39.4\n",
      " 1900  17100 1.517709303466876e-01 3.5e+04 2.62e+06  3e-05  1e-03 0:41.3\n",
      " 2000  18000 1.517708844668331e-01 6.8e+04 7.08e+05  3e-06  8e-05 0:42.9\n",
      "Iterat #Fevals   function value  axis ratio  sigma  min&max std  t[m:s]\n",
      " 2100  18900 1.517708715004114e-01 5.0e+04 1.28e+06  1e-06  4e-05 0:44.6\n",
      " 2200  19800 1.517708705720393e-01 2.8e+05 1.01e+07  3e-06  1e-04 0:46.2\n",
      " 2275  20475 1.517708701084133e-01 7.3e+05 2.05e+06  3e-07  9e-06 0:47.4\n"
     ]
    },
    {
     "name": "stderr",
     "output_type": "stream",
     "text": [
      "reconstraining parameters GP_regression.Mat52.lengthscale\n"
     ]
    },
    {
     "name": "stdout",
     "output_type": "stream",
     "text": [
      "termination on tolfun=1e-11 (Tue Sep 29 15:25:46 2020)\n",
      "final/bestever f-value = 1.517709e-01 1.517709e-01\n",
      "incumbent solution: [8.210378416038161e-13, 3.9999999999795453, 5.999999981636397, 0.21071811954088848, 0.09951893947889932, 8.153094752868032]\n",
      "std deviation: [3.1173989112634077e-07, 5.555047856719103e-07, 1.8129335655247733e-06, 4.277955099720781e-06, 6.1761249705073225e-06, 8.547933293594954e-06]\n"
     ]
    },
    {
     "name": "stderr",
     "output_type": "stream",
     "text": [
      "reconstraining parameters GP_regression.Mat52.variance\n",
      "reconstraining parameters GP_regression.Gaussian_noise.variance\n"
     ]
    },
    {
     "name": "stdout",
     "output_type": "stream",
     "text": [
      "Optimization restart 1/10, f = 46.27938469716854\n",
      "Optimization restart 2/10, f = 124.86658707330524\n",
      "Optimization restart 3/10, f = 587.4357513807056\n",
      "Optimization restart 4/10, f = 4395178.73745287\n",
      "Optimization restart 5/10, f = 46.279384697110586\n",
      "Optimization restart 6/10, f = 128.0970456522501\n",
      "Optimization restart 7/10, f = 587.4357513807056\n",
      "Optimization restart 8/10, f = 124.86659092201151\n",
      "Optimization restart 9/10, f = 2159598598.5999794\n",
      "Optimization restart 10/10, f = 2170085513.2930617\n"
     ]
    },
    {
     "name": "stderr",
     "output_type": "stream",
     "text": [
      "reconstraining parameters GP_regression.Mat52.lengthscale\n",
      "reconstraining parameters GP_regression.Mat52.variance\n",
      "reconstraining parameters GP_regression.Gaussian_noise.variance\n"
     ]
    },
    {
     "name": "stdout",
     "output_type": "stream",
     "text": [
      "Optimization restart 1/10, f = -3.4163170548968367\n",
      "Optimization restart 2/10, f = 83.37396787498324\n",
      "Optimization restart 3/10, f = -3.416317054898002\n",
      "Optimization restart 4/10, f = 124.8665909220113\n",
      "Optimization restart 5/10, f = -3.416317054913236\n",
      "Optimization restart 6/10, f = 1754639266.201611\n",
      "Optimization restart 7/10, f = 124.8665909220112\n",
      "Optimization restart 8/10, f = 1749629460.845163\n",
      "Optimization restart 9/10, f = 124.86659092201118\n",
      "Optimization restart 10/10, f = 124.86659092201121\n",
      "(4_w,9)-aCMA-ES (mu_w=2.8,w_1=49%) in dimension 6 (seed=508863, Tue Sep 29 15:25:49 2020)\n",
      "Iterat #Fevals   function value  axis ratio  sigma  min&max std  t[m:s]\n",
      "    1      9 2.130856821092395e-01 1.0e+00 2.73e-01  3e-01  3e-01 0:00.0\n",
      "    2     18 2.094227828477377e-01 1.3e+00 3.50e-01  3e-01  4e-01 0:00.0\n",
      "    3     27 1.793104757034190e-01 1.7e+00 3.78e-01  3e-01  5e-01 0:00.0\n",
      "  100    900 -4.126599415887267e-02 5.3e+01 7.28e-01  6e-02  1e+00 0:02.1\n",
      "  200   1800 -1.874458691736942e-01 5.5e+01 1.30e-01  4e-03  5e-02 0:05.7\n",
      "  300   2700 -1.938190127845529e-01 3.0e+02 1.15e-01  2e-03  2e-02 0:09.4\n",
      "  400   3600 -1.939022053830977e-01 8.6e+03 1.93e-02  8e-05  9e-04 0:11.2\n",
      "  500   4500 -1.939023574902563e-01 5.5e+05 6.24e-04  1e-06  1e-05 0:13.5\n",
      "  522   4698 -1.939023574998142e-01 8.6e+05 1.27e-04  2e-07  2e-06 0:14.0\n",
      "termination on tolfun=1e-11 (Tue Sep 29 15:26:04 2020)\n",
      "final/bestever f-value = -1.939024e-01 -1.939024e-01\n",
      "incumbent solution: [7.100507002876232e-14, 0.3626564486891185, 5.999999999997235, 1.0653224706834387e-12, 1.8249735467282822e-12, 6.6397634770821155]\n",
      "std deviation: [1.7397487895544435e-07, 4.234717861222642e-07, 7.495734379157461e-07, 3.296487758885381e-07, 2.885082759239339e-07, 1.622988224087679e-06]\n"
     ]
    },
    {
     "name": "stderr",
     "output_type": "stream",
     "text": [
      "reconstraining parameters GP_regression.Mat52.lengthscale\n",
      "reconstraining parameters GP_regression.Mat52.variance\n",
      "reconstraining parameters GP_regression.Gaussian_noise.variance\n"
     ]
    },
    {
     "name": "stdout",
     "output_type": "stream",
     "text": [
      "Optimization restart 1/10, f = 46.73741633583408\n",
      "Optimization restart 2/10, f = 2156229722.596494\n",
      "Optimization restart 3/10, f = 2151215928.9674683\n",
      "Optimization restart 4/10, f = 126.28552945521587\n",
      "Optimization restart 5/10, f = 46.737416335758596\n",
      "Optimization restart 6/10, f = 46.7374163357931\n",
      "Optimization restart 7/10, f = 126.28552945521588\n",
      "Optimization restart 8/10, f = 126.28552945521588\n",
      "Optimization restart 9/10, f = 126.28552945521587\n"
     ]
    },
    {
     "name": "stderr",
     "output_type": "stream",
     "text": [
      "reconstraining parameters GP_regression.Mat52.lengthscale\n",
      "reconstraining parameters GP_regression.Mat52.variance\n",
      "reconstraining parameters GP_regression.Gaussian_noise.variance\n"
     ]
    },
    {
     "name": "stdout",
     "output_type": "stream",
     "text": [
      "Optimization restart 10/10, f = 46.737416335788176\n",
      "Optimization restart 1/10, f = -3.0371870407002675\n",
      "Optimization restart 2/10, f = 594.1111576463953\n",
      "Optimization restart 3/10, f = -3.0371870407186137\n",
      "Optimization restart 4/10, f = -3.0371870407349135\n",
      "Optimization restart 5/10, f = 1744673444.1979613\n",
      "Optimization restart 6/10, f = 1737460397.6479828\n",
      "Optimization restart 7/10, f = 83.74162018236657\n",
      "Optimization restart 8/10, f = -3.0371870406772743\n",
      "Optimization restart 9/10, f = 70.48931257855386\n",
      "Optimization restart 10/10, f = 1739005219.0561333\n",
      "(4_w,9)-aCMA-ES (mu_w=2.8,w_1=49%) in dimension 6 (seed=439895, Tue Sep 29 15:26:08 2020)\n",
      "Iterat #Fevals   function value  axis ratio  sigma  min&max std  t[m:s]\n",
      "    1      9 1.929296850328317e-01 1.0e+00 2.61e-01  2e-01  3e-01 0:00.1\n",
      "    2     18 2.263319890464588e-01 1.4e+00 2.80e-01  2e-01  3e-01 0:00.1\n",
      "    3     27 1.483852153401224e-01 1.6e+00 2.85e-01  2e-01  3e-01 0:00.2\n",
      "   85    765 -1.516843535281786e-01 2.7e+01 6.93e-02  1e-02  5e-02 0:03.2\n",
      "  100    900 -1.520228593310911e-01 4.6e+01 3.65e-02  5e-03  2e-02 0:03.5\n",
      "  200   1800 -1.521634300105230e-01 6.6e+03 1.91e-04  8e-06  6e-05 0:05.2\n",
      "  287   2583 -1.521634317644883e-01 9.2e+05 2.05e-05  5e-07  3e-06 0:08.9\n",
      "termination on tolfun=1e-11 (Tue Sep 29 15:26:17 2020)\n",
      "final/bestever f-value = -1.521634e-01 -1.521634e-01\n",
      "incumbent solution: [1.9690342912657726, 0.8344946251704765, 2.2574972943135174, 2.5722362697910195, 2.923877835805524, 4.544503169031283]\n",
      "std deviation: [4.648480531365379e-07, 7.265216834947166e-07, 1.922642619403069e-06, 2.2348717109858587e-06, 2.511386328266562e-06, 2.192036660486665e-06]\n"
     ]
    },
    {
     "name": "stderr",
     "output_type": "stream",
     "text": [
      "reconstraining parameters GP_regression.Mat52.lengthscale\n",
      "reconstraining parameters GP_regression.Mat52.variance\n",
      "reconstraining parameters GP_regression.Gaussian_noise.variance\n"
     ]
    },
    {
     "name": "stdout",
     "output_type": "stream",
     "text": [
      "Optimization restart 1/10, f = 47.01487220966572\n",
      "Optimization restart 2/10, f = 600.7865639120852\n",
      "Optimization restart 3/10, f = 2169244332.045627\n",
      "Optimization restart 4/10, f = 127.70446798841196\n",
      "Optimization restart 5/10, f = 127.70446798842059\n",
      "Optimization restart 6/10, f = 600.7865639120852\n",
      "Optimization restart 7/10, f = 2167795132.420037\n",
      "Optimization restart 8/10, f = 47.01487220961624\n",
      "Optimization restart 9/10, f = 127.70446798842087\n"
     ]
    },
    {
     "name": "stderr",
     "output_type": "stream",
     "text": [
      "reconstraining parameters GP_regression.Mat52.lengthscale\n",
      "reconstraining parameters GP_regression.Mat52.variance\n",
      "reconstraining parameters GP_regression.Gaussian_noise.variance\n"
     ]
    },
    {
     "name": "stdout",
     "output_type": "stream",
     "text": [
      "Optimization restart 10/10, f = 127.70446798842056\n",
      "Optimization restart 1/10, f = -5.062143539492645\n",
      "Optimization restart 2/10, f = 4495069.163304072\n",
      "Optimization restart 3/10, f = -5.062143539501122\n",
      "Optimization restart 4/10, f = 82.43902184847909\n",
      "Optimization restart 5/10, f = -5.062143539473624\n",
      "Optimization restart 6/10, f = 127.70446798842056\n",
      "Optimization restart 7/10, f = 127.7044679883947\n",
      "Optimization restart 8/10, f = 4495069.163304072\n",
      "Optimization restart 9/10, f = -5.062143539495203\n",
      "Optimization restart 10/10, f = 600.7865639120852\n",
      "(4_w,9)-aCMA-ES (mu_w=2.8,w_1=49%) in dimension 6 (seed=479059, Tue Sep 29 15:26:22 2020)\n",
      "Iterat #Fevals   function value  axis ratio  sigma  min&max std  t[m:s]\n",
      "    1      9 3.005234630827669e-01 1.0e+00 2.67e-01  3e-01  3e-01 0:00.0\n",
      "    2     18 1.336713246587180e-01 1.4e+00 2.64e-01  2e-01  3e-01 0:00.0\n",
      "    3     27 1.065976032188791e-01 1.5e+00 2.60e-01  2e-01  3e-01 0:00.1\n",
      "  100    900 1.067695419434189e-03 1.6e+02 1.44e-01  5e-03  2e-01 0:01.6\n",
      "  200   1800 -4.022466713371031e-03 1.8e+03 1.09e-02  2e-04  3e-03 0:03.2\n",
      "  300   2700 -4.023918854496156e-03 3.0e+05 1.85e-04  2e-06  3e-05 0:04.8\n"
     ]
    },
    {
     "name": "stderr",
     "output_type": "stream",
     "text": [
      " /home/finley/miniconda3/envs/testsuite/lib/python3.8/site-packages/cma/utilities/utils.py:329: UserWarning:\n",
      "        geno-pheno transformation introduced based on the\n",
      "        current covariance matrix with condition 1.3e+12 -> 1.0e+00,\n",
      "        injected solutions become \"invalid\" in this iteration (class=CMAEvolutionStrategy method=alleviate_conditioning iteration=336)\n"
     ]
    },
    {
     "name": "stdout",
     "output_type": "stream",
     "text": [
      "  358   3222 -4.023919058278036e-03 5.5e+00 3.70e-05  3e-05  5e-05 0:05.7\n"
     ]
    },
    {
     "name": "stderr",
     "output_type": "stream",
     "text": [
      "reconstraining parameters GP_regression.Mat52.lengthscale\n",
      "reconstraining parameters GP_regression.Mat52.variance\n"
     ]
    },
    {
     "name": "stdout",
     "output_type": "stream",
     "text": [
      "termination on tolfun=1e-11 (Tue Sep 29 15:26:29 2020)\n",
      "final/bestever f-value = -4.023919e-03 -4.023919e-03\n",
      "incumbent solution: [0.6523732690584438, 2.2196948379355172e-12, 4.268549108158368, 6.539525092250187, 2.0826604177054833, 11.148771986583597]\n",
      "std deviation: [3.4223268999858515e-05, 3.08407789635448e-05, 5.0934543813837864e-05, 3.1550697383074074e-05, 2.6948375415992472e-05, 2.5588251780812077e-05]\n"
     ]
    },
    {
     "name": "stderr",
     "output_type": "stream",
     "text": [
      "reconstraining parameters GP_regression.Gaussian_noise.variance\n"
     ]
    },
    {
     "name": "stdout",
     "output_type": "stream",
     "text": [
      "Optimization restart 1/10, f = 47.78705019669957\n",
      "Optimization restart 2/10, f = 47.787050196724856\n",
      "Optimization restart 3/10, f = 607.461970177775\n",
      "Optimization restart 4/10, f = 129.1234065216252\n",
      "Optimization restart 5/10, f = 607.461970177775\n",
      "Optimization restart 6/10, f = 4545014.376229671\n",
      "Optimization restart 7/10, f = 130.58492343020922\n",
      "Optimization restart 8/10, f = 47.78705019670926\n",
      "Optimization restart 9/10, f = 47.78705019671446\n"
     ]
    },
    {
     "name": "stderr",
     "output_type": "stream",
     "text": [
      "reconstraining parameters GP_regression.Mat52.lengthscale\n",
      "reconstraining parameters GP_regression.Mat52.variance\n",
      "reconstraining parameters GP_regression.Gaussian_noise.variance\n"
     ]
    },
    {
     "name": "stdout",
     "output_type": "stream",
     "text": [
      "Optimization restart 10/10, f = 47.78705019672112\n",
      "Optimization restart 1/10, f = -5.510116365819982\n",
      "Optimization restart 2/10, f = 607.461970177775\n",
      "Optimization restart 3/10, f = 129.1234065216252\n",
      "Optimization restart 4/10, f = -5.510116365805523\n",
      "Optimization restart 5/10, f = -5.510116365825354\n",
      "Optimization restart 6/10, f = -5.51011636583295\n",
      "Optimization restart 7/10, f = -5.51011636584834\n",
      "Optimization restart 8/10, f = -5.510116365853158\n",
      "Optimization restart 9/10, f = 129.1234065216264\n",
      "Optimization restart 10/10, f = 129.12340652049357\n",
      "(4_w,9)-aCMA-ES (mu_w=2.8,w_1=49%) in dimension 6 (seed=499241, Tue Sep 29 15:26:35 2020)\n",
      "Iterat #Fevals   function value  axis ratio  sigma  min&max std  t[m:s]\n",
      "    1      9 4.037361100510028e-01 1.0e+00 2.37e-01  2e-01  2e-01 0:00.0\n",
      "    2     18 3.706487079030596e-01 1.2e+00 2.39e-01  2e-01  2e-01 0:00.0\n",
      "    3     27 3.499535136580543e-01 1.3e+00 2.56e-01  2e-01  3e-01 0:00.1\n",
      "  100    900 -1.246324338878511e-01 2.7e+01 5.77e-02  5e-03  4e-02 0:01.6\n",
      "  200   1800 -1.268983087395854e-01 3.1e+03 1.86e-03  8e-05  6e-04 0:03.3\n",
      "  300   2700 -1.268985471933974e-01 2.0e+05 3.68e-05  7e-07  3e-06 0:05.5\n"
     ]
    },
    {
     "name": "stderr",
     "output_type": "stream",
     "text": [
      " /home/finley/miniconda3/envs/testsuite/lib/python3.8/site-packages/cma/utilities/utils.py:329: UserWarning:\n",
      "        geno-pheno transformation introduced based on the\n",
      "        current covariance matrix with condition 1.0e+12 -> 1.0e+00,\n",
      "        injected solutions become \"invalid\" in this iteration (class=CMAEvolutionStrategy method=alleviate_conditioning iteration=334)\n"
     ]
    },
    {
     "name": "stdout",
     "output_type": "stream",
     "text": [
      "  400   3600 -1.268985472156041e-01 8.6e+00 1.73e-05  9e-06  2e-05 0:07.3\n",
      "  407   3663 -1.268985472100335e-01 1.0e+01 1.93e-05  9e-06  3e-05 0:07.4\n",
      "termination on tolfun=1e-11 (Tue Sep 29 15:26:43 2020)\n",
      "final/bestever f-value = -1.268985e-01 -1.268985e-01\n",
      "incumbent solution: [1.100883305419302, 2.7838952847960172, 2.518240701971081, 3.1700028615741758, 4.085910880588926, 4.985963200902916]\n",
      "std deviation: [1.954039182782281e-05, 9.241285347833283e-06, 9.739429379575655e-06, 2.4444850985228795e-05, 2.6890152050111524e-05, 1.7405751561840404e-05]\n"
     ]
    },
    {
     "name": "stderr",
     "output_type": "stream",
     "text": [
      "reconstraining parameters GP_regression.Mat52.lengthscale\n",
      "reconstraining parameters GP_regression.Mat52.variance\n",
      "reconstraining parameters GP_regression.Gaussian_noise.variance\n"
     ]
    },
    {
     "name": "stdout",
     "output_type": "stream",
     "text": [
      "Optimization restart 1/10, f = 47.97251299354584\n",
      "Optimization restart 2/10, f = 614.1373764434647\n",
      "Optimization restart 3/10, f = 2257984001.6087046\n",
      "Optimization restart 4/10, f = 130.5423450548564\n",
      "Optimization restart 5/10, f = 47.97251299353903\n",
      "Optimization restart 6/10, f = 131.59217372665023\n",
      "Optimization restart 7/10, f = 47.972512993543546\n",
      "Optimization restart 8/10, f = 47.97251299353277\n",
      "Optimization restart 9/10, f = 130.5423450548299\n"
     ]
    },
    {
     "name": "stderr",
     "output_type": "stream",
     "text": [
      "reconstraining parameters GP_regression.Mat52.lengthscale\n",
      "reconstraining parameters GP_regression.Mat52.variance\n",
      "reconstraining parameters GP_regression.Gaussian_noise.variance\n"
     ]
    },
    {
     "name": "stdout",
     "output_type": "stream",
     "text": [
      "Optimization restart 10/10, f = 130.54234505482987\n",
      "Optimization restart 1/10, f = -1.477712423442071\n",
      "Optimization restart 2/10, f = -1.4777124234765822\n",
      "Optimization restart 3/10, f = -1.4777124234687449\n",
      "Optimization restart 4/10, f = 4594959.58915527\n",
      "Optimization restart 5/10, f = -1.4777124234927541\n",
      "Optimization restart 6/10, f = 1788721292.3232272\n",
      "Optimization restart 7/10, f = -1.4777124234809875\n",
      "Optimization restart 8/10, f = 130.5423450548299\n",
      "Optimization restart 9/10, f = -1.477712423477037\n",
      "Optimization restart 10/10, f = -1.4777124234498586\n",
      "(4_w,9)-aCMA-ES (mu_w=2.8,w_1=49%) in dimension 6 (seed=440849, Tue Sep 29 15:26:47 2020)\n",
      "Iterat #Fevals   function value  axis ratio  sigma  min&max std  t[m:s]\n",
      "    1      9 3.880529644085029e-01 1.0e+00 2.47e-01  2e-01  3e-01 0:00.0\n",
      "    2     18 3.216706985131246e-01 1.2e+00 2.38e-01  2e-01  2e-01 0:00.0\n",
      "    3     27 2.892565685246558e-01 1.3e+00 2.45e-01  2e-01  3e-01 0:00.1\n",
      "  100    900 4.656377008701118e-02 1.3e+02 5.66e-03  3e-05  4e-03 0:01.7\n",
      "  200   1800 4.655858004792357e-02 3.2e+04 1.22e-04  6e-09  3e-05 0:03.4\n",
      "NOTE (module=cma, iteration=259):  \n",
      "condition in coordinate system exceeded 1.0e+08, rescaled to 1.0e+00, \n",
      "condition changed from 4.2e+09 to 1.8e+02\n",
      "  300   2700 4.655857737486002e-02 2.1e+01 1.45e-04  6e-10  1e-05 0:05.2\n",
      "  376   3384 4.655857722439904e-02 6.2e+01 5.25e-05  2e-11  1e-06 0:06.5\n",
      "termination on tolfun=1e-11 (Tue Sep 29 15:26:54 2020)\n",
      "final/bestever f-value = 4.655858e-02 4.655858e-02\n",
      "incumbent solution: [0.12069460973036872, 6.940897354314776e-13, 2.1750536319509192e-11, 7.999999999624905, 3.063970724542783e-12, 3.4790431541005344e-11]\n",
      "std deviation: [1.7590484948072357e-11, 6.611956230601961e-07, 5.78351388543401e-07, 1.2864963829260064e-06, 7.450600209153906e-07, 9.454751944329485e-07]\n"
     ]
    },
    {
     "name": "stderr",
     "output_type": "stream",
     "text": [
      "reconstraining parameters GP_regression.Mat52.lengthscale\n",
      "reconstraining parameters GP_regression.Mat52.variance\n",
      "reconstraining parameters GP_regression.Gaussian_noise.variance\n"
     ]
    },
    {
     "name": "stdout",
     "output_type": "stream",
     "text": [
      "Optimization restart 1/10, f = 48.05299618259527\n",
      "Optimization restart 2/10, f = 48.05299618226597\n",
      "Optimization restart 3/10, f = 2201353173.2427444\n",
      "Optimization restart 4/10, f = 131.96128358803458\n",
      "Optimization restart 5/10, f = 620.8127827087347\n",
      "Optimization restart 6/10, f = 131.96128358803537\n",
      "Optimization restart 7/10, f = 131.96128358803455\n",
      "Optimization restart 8/10, f = 131.96128358803455\n"
     ]
    },
    {
     "name": "stderr",
     "output_type": "stream",
     "text": [
      "reconstraining parameters GP_regression.Mat52.lengthscale\n",
      "reconstraining parameters GP_regression.Mat52.variance\n",
      "reconstraining parameters GP_regression.Gaussian_noise.variance\n"
     ]
    },
    {
     "name": "stdout",
     "output_type": "stream",
     "text": [
      "Optimization restart 9/10, f = 620.8127827091546\n",
      "Optimization restart 10/10, f = 131.961270271354\n",
      "Optimization restart 1/10, f = -1.5941528406285954\n",
      "Optimization restart 2/10, f = -1.5941528406499827\n",
      "Optimization restart 3/10, f = 4644904.802080872\n",
      "Optimization restart 4/10, f = 131.96128358803458\n",
      "Optimization restart 5/10, f = 131.96128358803455\n",
      "Optimization restart 6/10, f = -1.594152840611038\n",
      "Optimization restart 7/10, f = 131.96128358803458\n",
      "Optimization restart 8/10, f = 90.83790067591048\n",
      "Optimization restart 9/10, f = -1.594152840606121\n",
      "Optimization restart 10/10, f = 131.9612835880304\n",
      "(4_w,9)-aCMA-ES (mu_w=2.8,w_1=49%) in dimension 6 (seed=496635, Tue Sep 29 15:26:56 2020)\n",
      "Iterat #Fevals   function value  axis ratio  sigma  min&max std  t[m:s]\n",
      "    1      9 4.189535724401994e-01 1.0e+00 2.81e-01  3e-01  3e-01 0:00.0\n",
      "    2     18 3.871504761076117e-01 1.3e+00 2.93e-01  3e-01  3e-01 0:00.0\n",
      "    3     27 3.221959850191585e-01 1.3e+00 3.27e-01  3e-01  4e-01 0:00.1\n",
      "  100    900 3.348530728942856e-02 3.1e+02 2.95e-02  3e-03  5e-02 0:01.6\n",
      "  200   1800 3.326602333151207e-02 3.7e+04 3.34e-04  1e-05  2e-04 0:03.3\n"
     ]
    },
    {
     "name": "stderr",
     "output_type": "stream",
     "text": [
      " /home/finley/miniconda3/envs/testsuite/lib/python3.8/site-packages/cma/utilities/utils.py:329: UserWarning:\n",
      "        geno-pheno transformation introduced based on the\n",
      "        current covariance matrix with condition 1.1e+12 -> 1.0e+00,\n",
      "        injected solutions become \"invalid\" in this iteration (class=CMAEvolutionStrategy method=alleviate_conditioning iteration=263)\n"
     ]
    },
    {
     "name": "stdout",
     "output_type": "stream",
     "text": [
      "  300   2700 3.326601894642733e-02 1.0e+01 9.43e-06  3e-06  1e-05 0:06.5\n",
      "  309   2781 3.326601894586334e-02 1.5e+01 7.39e-06  3e-06  6e-06 0:07.1\n",
      "termination on tolfun=1e-11 (Tue Sep 29 15:27:04 2020)\n",
      "final/bestever f-value = 3.326602e-02 3.326602e-02\n",
      "incumbent solution: [0.7456820495274883, 6.051146408024043e-14, 2.3842196400608575, 2.419999837774614e-13, 7.705148604026487e-17, 4.066566654187591]\n",
      "std deviation: [2.6302462558701125e-06, 6.132573756582132e-06, 3.6609101622265608e-06, 6.008915126756222e-06, 5.272389113370176e-06, 6.427988815645186e-06]\n"
     ]
    },
    {
     "name": "stderr",
     "output_type": "stream",
     "text": [
      "reconstraining parameters GP_regression.Mat52.lengthscale\n",
      "reconstraining parameters GP_regression.Mat52.variance\n",
      "reconstraining parameters GP_regression.Gaussian_noise.variance\n"
     ]
    },
    {
     "name": "stdout",
     "output_type": "stream",
     "text": [
      "Optimization restart 1/10, f = 50.4663416341288\n",
      "Optimization restart 2/10, f = 50.46634163394527\n",
      "Optimization restart 3/10, f = 133.3802221213354\n",
      "Optimization restart 4/10, f = 50.4663416339879\n",
      "Optimization restart 5/10, f = 50.46634163394642\n",
      "Optimization restart 6/10, f = 133.38022212123929\n",
      "Optimization restart 7/10, f = 4694850.015006475\n",
      "Optimization restart 8/10, f = 50.46634163392421\n",
      "Optimization restart 9/10, f = 133.38022212123926\n"
     ]
    },
    {
     "name": "stderr",
     "output_type": "stream",
     "text": [
      "reconstraining parameters GP_regression.Mat52.lengthscale\n",
      "reconstraining parameters GP_regression.Mat52.variance\n",
      "reconstraining parameters GP_regression.Gaussian_noise.variance\n"
     ]
    },
    {
     "name": "stdout",
     "output_type": "stream",
     "text": [
      "Optimization restart 10/10, f = 50.46634163391602\n",
      "Optimization restart 1/10, f = -1.7645797550911766\n",
      "Optimization restart 2/10, f = 133.38022212123923\n",
      "Optimization restart 3/10, f = 133.38022212125512\n",
      "Optimization restart 4/10, f = 1790285761.767347\n",
      "Optimization restart 5/10, f = 4694850.015006472\n",
      "Optimization restart 6/10, f = -1.7645797550991063\n",
      "Optimization restart 7/10, f = 627.4881889748444\n",
      "Optimization restart 8/10, f = -1.7645797551412201\n",
      "Optimization restart 9/10, f = 133.38022212123923\n",
      "Optimization restart 10/10, f = 1785873831.2676535\n",
      "(4_w,9)-aCMA-ES (mu_w=2.8,w_1=49%) in dimension 6 (seed=467767, Tue Sep 29 15:27:10 2020)\n",
      "Iterat #Fevals   function value  axis ratio  sigma  min&max std  t[m:s]\n",
      "    1      9 3.868188898672498e-01 1.0e+00 2.31e-01  2e-01  2e-01 0:00.0\n",
      "    2     18 3.685661004682108e-01 1.3e+00 2.39e-01  2e-01  3e-01 0:00.0\n",
      "    3     27 3.675990576691011e-01 1.4e+00 2.96e-01  3e-01  3e-01 0:00.1\n",
      "  100    900 -1.246901717506588e-02 2.2e+02 4.44e-02  4e-03  6e-02 0:01.7\n",
      "  200   1800 -1.249348420782703e-02 1.7e+04 1.32e-03  5e-05  6e-04 0:05.3\n",
      "  300   2700 -1.249352500677015e-02 2.7e+05 5.59e-04  8e-06  1e-04 0:09.0\n"
     ]
    },
    {
     "name": "stderr",
     "output_type": "stream",
     "text": [
      " /home/finley/miniconda3/envs/testsuite/lib/python3.8/site-packages/cma/utilities/utils.py:329: UserWarning:\n",
      "        geno-pheno transformation introduced based on the\n",
      "        current covariance matrix with condition 1.2e+12 -> 1.0e+00,\n",
      "        injected solutions become \"invalid\" in this iteration (class=CMAEvolutionStrategy method=alleviate_conditioning iteration=374)\n"
     ]
    },
    {
     "name": "stdout",
     "output_type": "stream",
     "text": [
      "  400   3600 -1.249352663786030e-02 5.9e+00 4.27e-04  3e-04  6e-04 0:11.3\n",
      "  474   4266 -1.249352672144921e-02 7.2e+01 2.29e-04  6e-05  3e-04 0:13.2\n",
      "termination on tolfun=1e-11 (Tue Sep 29 15:27:24 2020)\n",
      "final/bestever f-value = -1.249353e-02 -1.249353e-02\n",
      "incumbent solution: [1.340917780894436e-12, 1.4144834113449178, 5.792605899224541, 4.043172333495022, 1.828634472003614, 7.712259769527009]\n",
      "std deviation: [0.0001006178977979134, 0.0003099337786286811, 5.7975693401406964e-05, 0.00010335060057708929, 6.462852697254369e-05, 8.155510216065635e-05]\n"
     ]
    },
    {
     "name": "stderr",
     "output_type": "stream",
     "text": [
      "reconstraining parameters GP_regression.Mat52.lengthscale\n",
      "reconstraining parameters GP_regression.Mat52.variance\n",
      "reconstraining parameters GP_regression.Gaussian_noise.variance\n"
     ]
    },
    {
     "name": "stdout",
     "output_type": "stream",
     "text": [
      "Optimization restart 1/10, f = 51.90672779445243\n",
      "Optimization restart 2/10, f = 134.7991606544439\n",
      "Optimization restart 3/10, f = 134.79916065442697\n",
      "Optimization restart 4/10, f = 51.906727794414834\n",
      "Optimization restart 5/10, f = 51.90672779444691\n",
      "Optimization restart 6/10, f = 134.79916065444388\n",
      "Optimization restart 7/10, f = 2319660586.7029266\n",
      "Optimization restart 8/10, f = 634.1635952405343\n"
     ]
    },
    {
     "name": "stderr",
     "output_type": "stream",
     "text": [
      "reconstraining parameters GP_regression.Mat52.lengthscale\n"
     ]
    },
    {
     "name": "stdout",
     "output_type": "stream",
     "text": [
      "Optimization restart 9/10, f = 134.7991606544439\n",
      "Optimization restart 10/10, f = 51.906727794456536\n"
     ]
    },
    {
     "name": "stderr",
     "output_type": "stream",
     "text": [
      "reconstraining parameters GP_regression.Mat52.variance\n",
      "reconstraining parameters GP_regression.Gaussian_noise.variance\n"
     ]
    },
    {
     "name": "stdout",
     "output_type": "stream",
     "text": [
      "Optimization restart 1/10, f = -1.5178171141798629\n",
      "Optimization restart 2/10, f = 634.1635952405343\n",
      "Optimization restart 3/10, f = 134.7991606544439\n",
      "Optimization restart 4/10, f = -1.5178171141688637\n",
      "Optimization restart 5/10, f = -1.5178171142280306\n",
      "Optimization restart 6/10, f = -1.517817114184524\n",
      "Optimization restart 7/10, f = 4744795.227932074\n",
      "Optimization restart 8/10, f = 134.79916065444596\n",
      "Optimization restart 9/10, f = -1.5178171141687145\n",
      "Optimization restart 10/10, f = 4744795.227932074\n",
      "(4_w,9)-aCMA-ES (mu_w=2.8,w_1=49%) in dimension 6 (seed=443696, Tue Sep 29 15:27:28 2020)\n",
      "Iterat #Fevals   function value  axis ratio  sigma  min&max std  t[m:s]\n",
      "    1      9 4.392785073116032e-01 1.0e+00 2.74e-01  3e-01  3e-01 0:00.0\n",
      "    2     18 3.985563711260394e-01 1.5e+00 2.85e-01  3e-01  3e-01 0:00.0\n",
      "    3     27 2.921111208786544e-01 1.5e+00 3.54e-01  3e-01  4e-01 0:00.1\n",
      "  100    900 -1.124397083616633e-01 2.8e+02 5.61e-03  1e-03  4e-03 0:01.7\n",
      "  200   1800 -1.124720913445278e-01 5.1e+04 7.07e-05  5e-06  2e-05 0:03.5\n"
     ]
    },
    {
     "name": "stderr",
     "output_type": "stream",
     "text": [
      " /home/finley/miniconda3/envs/testsuite/lib/python3.8/site-packages/cma/utilities/utils.py:329: UserWarning:\n",
      "        geno-pheno transformation introduced based on the\n",
      "        current covariance matrix with condition 1.0e+12 -> 1.0e+00,\n",
      "        injected solutions become \"invalid\" in this iteration (class=CMAEvolutionStrategy method=alleviate_conditioning iteration=253)\n"
     ]
    },
    {
     "name": "stdout",
     "output_type": "stream",
     "text": [
      "  276   2484 -1.124720915345312e-01 3.7e+00 3.13e-06  2e-06  3e-06 0:04.7\n",
      "termination on tolfun=1e-11 (Tue Sep 29 15:27:33 2020)\n",
      "final/bestever f-value = -1.124721e-01 -1.124721e-01\n",
      "incumbent solution: [0.9809330718808269, 3.0443650384149805, 2.57487313652382, 3.2850534692888687, 4.001150335723651, 5.2294042707799235]\n",
      "std deviation: [3.3460438986179267e-06, 2.7272105231720447e-06, 3.32633046017317e-06, 3.02918036162329e-06, 2.7826230902773562e-06, 2.407380265083526e-06]\n"
     ]
    },
    {
     "name": "stderr",
     "output_type": "stream",
     "text": [
      "reconstraining parameters GP_regression.Mat52.lengthscale\n",
      "reconstraining parameters GP_regression.Mat52.variance\n",
      "reconstraining parameters GP_regression.Gaussian_noise.variance\n"
     ]
    },
    {
     "name": "stdout",
     "output_type": "stream",
     "text": [
      "Optimization restart 1/10, f = 51.013334706495996\n",
      "Optimization restart 2/10, f = 136.21809813783176\n",
      "Optimization restart 3/10, f = 2364938213.8232565\n",
      "Optimization restart 4/10, f = 640.8390015062242\n",
      "Optimization restart 5/10, f = 51.01333470645143\n",
      "Optimization restart 6/10, f = 136.21809918764856\n",
      "Optimization restart 7/10, f = 51.013334706471284\n",
      "Optimization restart 8/10, f = 51.013334706480165\n",
      "Optimization restart 9/10, f = 51.0133347064875\n"
     ]
    },
    {
     "name": "stderr",
     "output_type": "stream",
     "text": [
      "reconstraining parameters GP_regression.Mat52.lengthscale\n",
      "reconstraining parameters GP_regression.Mat52.variance\n",
      "reconstraining parameters GP_regression.Gaussian_noise.variance\n"
     ]
    },
    {
     "name": "stdout",
     "output_type": "stream",
     "text": [
      "Optimization restart 10/10, f = 51.01333470673747\n",
      "Optimization restart 1/10, f = -3.2556438217434334\n",
      "Optimization restart 2/10, f = 1820084487.5372992\n",
      "Optimization restart 3/10, f = -3.255643821743824\n",
      "Optimization restart 4/10, f = 136.2180991876486\n",
      "Optimization restart 5/10, f = 136.2180991876486\n",
      "Optimization restart 6/10, f = -3.255643821741188\n",
      "Optimization restart 7/10, f = 136.2180991876486\n",
      "Optimization restart 8/10, f = 89.20073658914032\n",
      "Optimization restart 9/10, f = 640.8390015062242\n",
      "Optimization restart 10/10, f = -3.2556438217610975\n",
      "(4_w,9)-aCMA-ES (mu_w=2.8,w_1=49%) in dimension 6 (seed=446914, Tue Sep 29 15:27:36 2020)\n",
      "Iterat #Fevals   function value  axis ratio  sigma  min&max std  t[m:s]\n",
      "    1      9 1.691958696511051e-01 1.0e+00 2.40e-01  2e-01  2e-01 0:00.0\n",
      "    2     18 1.394266883188195e-01 1.3e+00 2.25e-01  2e-01  2e-01 0:00.0\n",
      "    3     27 1.177089686849944e-01 1.3e+00 2.20e-01  2e-01  2e-01 0:00.1\n",
      "  100    900 -1.011092635249595e-01 1.3e+02 1.67e-02  2e-03  1e-02 0:01.6\n",
      "  195   1755 -1.011479285184413e-01 3.5e+04 1.28e-04  9e-06  5e-05 0:05.7\n",
      "  200   1800 -1.011479305541862e-01 4.2e+04 9.51e-05  6e-06  3e-05 0:05.9\n"
     ]
    },
    {
     "name": "stderr",
     "output_type": "stream",
     "text": [
      " /home/finley/miniconda3/envs/testsuite/lib/python3.8/site-packages/cma/utilities/utils.py:329: UserWarning:\n",
      "        geno-pheno transformation introduced based on the\n",
      "        current covariance matrix with condition 1.1e+12 -> 1.0e+00,\n",
      "        injected solutions become \"invalid\" in this iteration (class=CMAEvolutionStrategy method=alleviate_conditioning iteration=253)\n"
     ]
    },
    {
     "name": "stdout",
     "output_type": "stream",
     "text": [
      "  300   2700 -1.011479314691757e-01 6.2e+00 1.47e-05  1e-05  2e-05 0:08.3\n",
      "  400   3600 -1.011479314761519e-01 5.4e+01 1.84e-06  1e-06  3e-06 0:09.9\n",
      "  500   4500 -1.011479314646138e-01 1.6e+02 5.98e-07  2e-07  5e-07 0:11.5\n",
      "  600   5400 -1.011479314704018e-01 4.2e+02 9.51e-07  1e-07  5e-07 0:13.1\n",
      "  610   5490 -1.011479314762636e-01 5.2e+02 1.01e-06  1e-07  6e-07 0:13.3\n",
      "termination on tolstagnation=263 (Tue Sep 29 15:27:51 2020)\n",
      "final/bestever f-value = -1.011479e-01 -1.011479e-01\n",
      "incumbent solution: [0.819917667851314, 3.2431418135201966, 2.290958454776046, 2.8891607904733974, 3.6761396398360375, 4.783233960501093]\n",
      "std deviation: [5.073432498615105e-07, 3.828159568398305e-07, 5.082920386824117e-07, 4.4746181190404797e-07, 5.943303809894641e-07, 1.3702090809193344e-07]\n"
     ]
    },
    {
     "name": "stderr",
     "output_type": "stream",
     "text": [
      "reconstraining parameters GP_regression.Mat52.lengthscale\n",
      "reconstraining parameters GP_regression.Mat52.variance\n",
      "reconstraining parameters GP_regression.Gaussian_noise.variance\n"
     ]
    },
    {
     "name": "stdout",
     "output_type": "stream",
     "text": [
      "Optimization restart 1/10, f = 50.2231816213395\n",
      "Optimization restart 2/10, f = 50.223181621359565\n",
      "Optimization restart 3/10, f = 137.63703772085324\n",
      "Optimization restart 4/10, f = 137.63703772085324\n",
      "Optimization restart 5/10, f = 50.223181621454174\n",
      "Optimization restart 6/10, f = 137.63703772085324\n",
      "Optimization restart 7/10, f = 137.63703772085327\n",
      "Optimization restart 8/10, f = 647.514407771914\n"
     ]
    },
    {
     "name": "stderr",
     "output_type": "stream",
     "text": [
      "reconstraining parameters GP_regression.Mat52.lengthscale\n"
     ]
    },
    {
     "name": "stdout",
     "output_type": "stream",
     "text": [
      "Optimization restart 9/10, f = 647.514407771914\n",
      "Optimization restart 10/10, f = 50.22318162125964\n"
     ]
    },
    {
     "name": "stderr",
     "output_type": "stream",
     "text": [
      "reconstraining parameters GP_regression.Mat52.variance\n",
      "reconstraining parameters GP_regression.Gaussian_noise.variance\n"
     ]
    },
    {
     "name": "stdout",
     "output_type": "stream",
     "text": [
      "Optimization restart 1/10, f = -4.758785243231131\n",
      "Optimization restart 2/10, f = 137.63703772085324\n",
      "Optimization restart 3/10, f = -4.758785243320617\n",
      "Optimization restart 4/10, f = 137.63703772085324\n",
      "Optimization restart 5/10, f = -4.758785243214696\n",
      "Optimization restart 6/10, f = 1821877659.8334124\n",
      "Optimization restart 7/10, f = -4.7587852433258035\n",
      "Optimization restart 8/10, f = -4.758785243304274\n",
      "Optimization restart 9/10, f = -4.7587852433519515\n",
      "Optimization restart 10/10, f = 137.63703772085324\n",
      "(4_w,9)-aCMA-ES (mu_w=2.8,w_1=49%) in dimension 6 (seed=444469, Tue Sep 29 15:27:54 2020)\n",
      "Iterat #Fevals   function value  axis ratio  sigma  min&max std  t[m:s]\n",
      "    1      9 4.698194286278892e-01 1.0e+00 2.25e-01  2e-01  2e-01 0:00.0\n",
      "    2     18 4.810333420581989e-01 1.3e+00 2.17e-01  2e-01  2e-01 0:00.1\n",
      "    3     27 4.666684263061407e-01 1.3e+00 2.19e-01  2e-01  2e-01 0:00.1\n",
      "  100    900 -1.057533186590058e-01 4.5e+00 1.65e-01  2e-02  7e-02 0:01.6\n",
      "  200   1800 -1.077634565235384e-01 3.7e+02 3.76e-03  1e-04  7e-04 0:03.2\n",
      "  300   2700 -1.077641130488272e-01 6.6e+03 2.23e-03  2e-05  2e-04 0:04.8\n",
      "  400   3600 -1.077642488613750e-01 1.2e+04 6.00e-03  1e-05  2e-04 0:06.5\n",
      "  500   4500 -1.077642843052780e-01 2.0e+04 1.12e-02  8e-06  7e-05 0:08.5\n",
      "  600   5400 -1.077642949847362e-01 5.4e+04 2.60e-02  6e-06  5e-05 0:10.4\n",
      "  700   6300 -1.077642996983941e-01 9.5e+04 2.88e-02  2e-06  2e-05 0:12.1\n",
      "  800   7200 -1.077643018345626e-01 9.2e+04 9.10e-02  2e-06  1e-05 0:14.9\n",
      "  900   8100 -1.077643024513257e-01 2.5e+05 2.17e-01  8e-07  8e-06 0:16.6\n",
      " 1000   9000 -1.077643028412405e-01 1.9e+05 8.32e-01  8e-07  7e-06 0:19.6\n",
      "Iterat #Fevals   function value  axis ratio  sigma  min&max std  t[m:s]\n",
      " 1100   9900 -1.077643029681497e-01 5.3e+05 1.17e+00  2e-07  2e-06 0:23.9\n",
      " 1200  10800 -1.077643030276078e-01 6.0e+05 6.16e+00  3e-07  3e-06 0:26.1\n",
      " 1224  11016 -1.077643030354074e-01 7.4e+05 4.52e+00  2e-07  1e-06 0:26.6\n",
      "termination on tolfun=1e-11 (Tue Sep 29 15:28:24 2020)\n",
      "final/bestever f-value = -1.077643e-01 -1.077643e-01\n",
      "incumbent solution: [1.9999999990258759, 0.5870238981936919, 2.243193609966987, 3.1245996234871036, 3.5268878351372654, 4.874959228755945]\n",
      "std deviation: [1.54468021919602e-07, 1.5314023152107526e-07, 7.487655040244115e-07, 1.4880599668619556e-06, 1.1631078562677046e-06, 1.2768893579716809e-06]\n"
     ]
    },
    {
     "name": "stderr",
     "output_type": "stream",
     "text": [
      "reconstraining parameters GP_regression.Mat52.lengthscale\n",
      "reconstraining parameters GP_regression.Mat52.variance\n",
      "reconstraining parameters GP_regression.Gaussian_noise.variance\n"
     ]
    },
    {
     "name": "stdout",
     "output_type": "stream",
     "text": [
      "Optimization restart 1/10, f = 49.06721337021156\n",
      "Optimization restart 2/10, f = 139.05597625405792\n",
      "Optimization restart 3/10, f = 139.05597625405792\n",
      "Optimization restart 4/10, f = 654.1898140376038\n",
      "Optimization restart 5/10, f = 139.0559762540579\n",
      "Optimization restart 6/10, f = 49.06721337009461\n",
      "Optimization restart 7/10, f = 139.05597625405824\n",
      "Optimization restart 8/10, f = 49.067213369945\n",
      "Optimization restart 9/10, f = 49.06721336995964\n",
      "Optimization restart 10/10, f = 139.05597625405792\n"
     ]
    },
    {
     "name": "stderr",
     "output_type": "stream",
     "text": [
      "reconstraining parameters GP_regression.Mat52.lengthscale\n",
      "reconstraining parameters GP_regression.Mat52.variance\n",
      "reconstraining parameters GP_regression.Gaussian_noise.variance\n"
     ]
    },
    {
     "name": "stdout",
     "output_type": "stream",
     "text": [
      "Optimization restart 1/10, f = -7.954217311814752\n",
      "Optimization restart 2/10, f = 139.0559762540579\n",
      "Optimization restart 3/10, f = 1844265495.3758554\n",
      "Optimization restart 4/10, f = 654.1898140376038\n",
      "Optimization restart 5/10, f = 85.4342631037143\n",
      "Optimization restart 6/10, f = -7.954217311869996\n",
      "Optimization restart 7/10, f = 1832893438.9417336\n",
      "Optimization restart 8/10, f = 1846643861.483292\n",
      "Optimization restart 9/10, f = 139.05597625405798\n",
      "Optimization restart 10/10, f = 4894630.866708876\n",
      "(4_w,9)-aCMA-ES (mu_w=2.8,w_1=49%) in dimension 6 (seed=486889, Tue Sep 29 15:28:28 2020)\n",
      "Iterat #Fevals   function value  axis ratio  sigma  min&max std  t[m:s]\n",
      "    1      9 2.410834235091821e-01 1.0e+00 2.21e-01  2e-01  2e-01 0:00.0\n",
      "    2     18 2.533430502639797e-01 1.1e+00 1.98e-01  2e-01  2e-01 0:00.1\n",
      "    3     27 2.140171492701997e-01 1.2e+00 1.97e-01  2e-01  2e-01 0:00.1\n",
      "  100    900 -2.112806570495440e-02 1.2e+02 5.99e-01  5e-02  1e+00 0:01.7\n",
      "  200   1800 -3.529419557709557e-02 1.1e+03 1.07e-02  1e-05  5e-03 0:03.8\n",
      "  300   2700 -3.529852671342271e-02 1.6e+05 2.87e-04  2e-07  7e-05 0:05.8\n"
     ]
    },
    {
     "name": "stderr",
     "output_type": "stream",
     "text": [
      " /home/finley/miniconda3/envs/testsuite/lib/python3.8/site-packages/cma/utilities/utils.py:329: UserWarning:\n",
      "        geno-pheno transformation introduced based on the\n",
      "        current covariance matrix with condition 1.1e+12 -> 1.0e+00,\n",
      "        injected solutions become \"invalid\" in this iteration (class=CMAEvolutionStrategy method=alleviate_conditioning iteration=335)\n"
     ]
    },
    {
     "name": "stdout",
     "output_type": "stream",
     "text": [
      "  358   3222 -3.529852699399116e-02 4.4e+00 5.53e-05  2e-05  5e-05 0:07.6\n",
      "termination on tolfun=1e-11 (Tue Sep 29 15:28:36 2020)\n",
      "final/bestever f-value = -3.529853e-02 -3.529853e-02\n",
      "incumbent solution: [6.003347797631101e-14, 1.161826805955256, 5.9999999999975255, 7.999999999999131, 9.999999999997861, 8.706171259511848]\n",
      "std deviation: [5.19666409529469e-05, 1.662071108324903e-05, 5.43550764478015e-05, 4.462557584022491e-05, 4.346251756591583e-05, 4.84911615992108e-05]\n"
     ]
    },
    {
     "name": "stderr",
     "output_type": "stream",
     "text": [
      "reconstraining parameters GP_regression.Mat52.lengthscale\n",
      "reconstraining parameters GP_regression.Mat52.variance\n",
      "reconstraining parameters GP_regression.Gaussian_noise.variance\n"
     ]
    },
    {
     "name": "stdout",
     "output_type": "stream",
     "text": [
      "Optimization restart 1/10, f = 49.834475089596665\n",
      "Optimization restart 2/10, f = 140.4749147872626\n",
      "Optimization restart 3/10, f = 49.83447508955915\n",
      "Optimization restart 4/10, f = 4944576.079634476\n",
      "Optimization restart 5/10, f = 660.8652203032937\n",
      "Optimization restart 6/10, f = 140.4749147872626\n",
      "Optimization restart 7/10, f = 140.4749147872626\n",
      "Optimization restart 8/10, f = 660.8652203032937\n",
      "Optimization restart 9/10, f = 660.8652203032937\n"
     ]
    },
    {
     "name": "stderr",
     "output_type": "stream",
     "text": [
      "reconstraining parameters GP_regression.Mat52.lengthscale\n",
      "reconstraining parameters GP_regression.Mat52.variance\n",
      "reconstraining parameters GP_regression.Gaussian_noise.variance\n"
     ]
    },
    {
     "name": "stdout",
     "output_type": "stream",
     "text": [
      "Optimization restart 10/10, f = 49.83447508954683\n",
      "Optimization restart 1/10, f = -8.526130886195205\n",
      "Optimization restart 2/10, f = -8.526130886205827\n",
      "Optimization restart 3/10, f = -8.526130886232565\n",
      "Optimization restart 4/10, f = -8.526130886166314\n",
      "Optimization restart 5/10, f = -8.526130886249803\n",
      "Optimization restart 6/10, f = -8.526130886217935\n",
      "Optimization restart 7/10, f = -8.52613088621554\n",
      "Optimization restart 8/10, f = 660.8652203032937\n",
      "Optimization restart 9/10, f = 660.8652203032937\n",
      "Optimization restart 10/10, f = 140.4749147872626\n",
      "(4_w,9)-aCMA-ES (mu_w=2.8,w_1=49%) in dimension 6 (seed=451725, Tue Sep 29 15:28:40 2020)\n",
      "Iterat #Fevals   function value  axis ratio  sigma  min&max std  t[m:s]\n",
      "    1      9 1.894958901947259e-01 1.0e+00 2.23e-01  2e-01  2e-01 0:00.0\n",
      "    2     18 1.989407214027232e-01 1.2e+00 1.99e-01  2e-01  2e-01 0:00.0\n",
      "    3     27 2.461919251638911e-01 1.3e+00 1.85e-01  2e-01  2e-01 0:00.1\n",
      "  100    900 -2.235021597464182e-02 1.4e+02 2.76e-01  6e-03  3e-01 0:01.7\n",
      "  200   1800 -2.722463505190520e-02 6.7e+02 8.44e-02  1e-03  2e-02 0:03.6\n",
      "  300   2700 -2.752517228095130e-02 7.5e+03 9.34e-02  4e-04  2e-02 0:06.2\n",
      "  400   3600 -2.756101826459956e-02 2.3e+04 2.43e-02  8e-05  2e-03 0:07.9\n",
      "  500   4500 -2.756321857446387e-02 5.8e+04 6.30e-02  5e-05  1e-03 0:09.6\n",
      "  600   5400 -2.756379454087377e-02 1.1e+05 4.80e-01  1e-04  2e-03 0:11.2\n",
      "  700   6300 -2.756426246718613e-02 3.7e+05 7.35e-01  7e-05  1e-03 0:13.6\n",
      "  800   7200 -2.756475508359402e-02 8.8e+04 1.31e+00  1e-05  3e-04 0:16.7\n",
      "  900   8100 -2.756499919368061e-02 2.1e+05 7.44e+00  3e-05  6e-04 0:18.3\n"
     ]
    },
    {
     "name": "stderr",
     "output_type": "stream",
     "text": [
      " /home/finley/miniconda3/envs/testsuite/lib/python3.8/site-packages/cma/utilities/utils.py:329: UserWarning:\n",
      "        geno-pheno transformation introduced based on the\n",
      "        current covariance matrix with condition 1.0e+12 -> 1.0e+00,\n",
      "        injected solutions become \"invalid\" in this iteration (class=CMAEvolutionStrategy method=alleviate_conditioning iteration=980)\n"
     ]
    },
    {
     "name": "stdout",
     "output_type": "stream",
     "text": [
      " 1000   9000 -2.756505355022276e-02 3.2e+00 7.20e+00  4e+00  1e+01 0:20.2\n",
      "Iterat #Fevals   function value  axis ratio  sigma  min&max std  t[m:s]\n",
      " 1036   9324 -2.756507105633865e-02 2.7e+01 6.10e+01  2e+01  3e+02 0:21.4\n",
      "termination on tolfacupx=1000.0 (Tue Sep 29 15:29:04 2020)\n",
      "final/bestever f-value = -2.756507e-02 -2.756507e-02\n",
      "incumbent solution: [0.7277159383363596, 3.1362759035112032e-09, 5.999999827433201, 7.892974811166609, 9.999999978563089, 1.2021577482682915]\n",
      "std deviation: [32.41855923336758, 32.09819674439137, 42.92243871829551, 190.7022730244041, 20.540063821321624, 255.0808938794745]\n"
     ]
    }
   ],
   "source": [
    "opt.optimise()"
   ]
  },
  {
   "cell_type": "code",
   "execution_count": 8,
   "metadata": {},
   "outputs": [],
   "source": [
    "import matplotlib.cm as cm"
   ]
  },
  {
   "cell_type": "code",
   "execution_count": 24,
   "metadata": {},
   "outputs": [
    {
     "data": {
      "text/plain": [
       "[<matplotlib.lines.Line2D at 0x7f47c37fb3a0>]"
      ]
     },
     "execution_count": 24,
     "metadata": {},
     "output_type": "execute_result"
    },
    {
     "data": {
      "image/png": "[encoded data removed]",
      "text/plain": [
       "<Figure size 432x288 with 1 Axes>"
      ]
     },
     "metadata": {
      "needs_background": "light"
     },
     "output_type": "display_data"
    }
   ],
   "source": [
    "#saf mean\n",
    "colors = cm.Purples(np.linspace(0, 1, len(opt.y)))\n",
    "y = y[np.argsort(y[:,0])]\n",
    "plt.scatter(opt.y[:10,0], opt.y[:10,1], c = \"r\")\n",
    "plt.scatter(opt.y[10:,0], opt.y[10:,1], c = colors[10:])\n",
    "plt.plot(y[:,0], y[:,1])"
   ]
  },
  {
   "cell_type": "code",
   "execution_count": 21,
   "metadata": {},
   "outputs": [
    {
     "data": {
      "text/plain": [
       "[<matplotlib.lines.Line2D at 0x7f47c51ac3a0>]"
      ]
     },
     "execution_count": 21,
     "metadata": {},
     "output_type": "execute_result"
    },
    {
     "data": {
      "image/png": "[encoded data removed]",
      "text/plain": [
       "<Figure size 432x288 with 1 Axes>"
      ]
     },
     "metadata": {
      "needs_background": "light"
     },
     "output_type": "display_data"
    }
   ],
   "source": [
    "#saf ei\n",
    "colors = cm.Purples(np.linspace(0, 1, len(opt.y)))\n",
    "y = y[np.argsort(y[:,0])]\n",
    "plt.scatter(opt.y[:10,0], opt.y[:10,1], c = \"r\")\n",
    "plt.scatter(opt.y[10:,0], opt.y[10:,1], c = colors[10:])\n",
    "plt.plot(y[:,0], y[:,1])"
   ]
  },
  {
   "cell_type": "code",
   "execution_count": 15,
   "metadata": {},
   "outputs": [
    {
     "data": {
      "text/plain": [
       "[<matplotlib.lines.Line2D at 0x7f47c327d8b0>]"
      ]
     },
     "execution_count": 15,
     "metadata": {},
     "output_type": "execute_result"
    },
    {
     "data": {
      "image/png": "[encoded data removed]",
      "text/plain": [
       "<Figure size 432x288 with 1 Axes>"
      ]
     },
     "metadata": {
      "needs_background": "light"
     },
     "output_type": "display_data"
    }
   ],
   "source": [
    "#sms ego\n",
    "colors = cm.Purples(np.linspace(0, 1, len(opt.y)))\n",
    "y = y[np.argsort(y[:,0])]\n",
    "plt.scatter(opt.y[:10,0], opt.y[:10,1], c = \"r\")\n",
    "plt.scatter(opt.y[10:,0], opt.y[10:,1], c = colors[10:])\n",
    "plt.plot(y[:,0], y[:,1])"
   ]
  },
  {
   "cell_type": "code",
   "execution_count": 11,
   "metadata": {},
   "outputs": [
    {
     "data": {
      "text/plain": [
       "[<matplotlib.lines.Line2D at 0x7f47c343af40>]"
      ]
     },
     "execution_count": 11,
     "metadata": {},
     "output_type": "execute_result"
    },
    {
     "data": {
      "image/png": "[encoded data removed]",
      "text/plain": [
       "<Figure size 432x288 with 1 Axes>"
      ]
     },
     "metadata": {
      "needs_background": "light"
     },
     "output_type": "display_data"
    }
   ],
   "source": [
    "#Parego\n",
    "colors = cm.Purples(np.linspace(0, 1, len(opt.y)))\n",
    "y = y[np.argsort(y[:,0])]\n",
    "plt.scatter(opt.y[:10,0], opt.y[:10,1], c = \"r\")\n",
    "plt.scatter(opt.y[10:,0], opt.y[10:,1], c = colors[10:])\n",
    "plt.plot(y[:,0], y[:,1])"
   ]
  },
  {
   "cell_type": "code",
   "execution_count": 15,
   "metadata": {},
   "outputs": [
    {
     "data": {
      "text/plain": [
       "(110, 2)"
      ]
     },
     "execution_count": 15,
     "metadata": {},
     "output_type": "execute_result"
    }
   ],
   "source": [
    "opt.y.shape"
   ]
  },
  {
   "cell_type": "code",
   "execution_count": null,
   "metadata": {},
   "outputs": [],
   "source": []
  }
 ],
 "metadata": {
  "kernelspec": {
   "display_name": "testsuite",
   "language": "python",
   "name": "testsuite"
  },
  "varInspector": {
   "cols": {
    "lenName": 16,
    "lenType": 16,
    "lenVar": 40
   },
   "kernels_config": {
    "python": {
     "delete_cmd_postfix": "",
     "delete_cmd_prefix": "del ",
     "library": "var_list.py",
     "varRefreshCmd": "print(var_dic_list())"
    },
    "r": {
     "delete_cmd_postfix": ") ",
     "delete_cmd_prefix": "rm(",
     "library": "var_list.r",
     "varRefreshCmd": "cat(var_dic_list()) "
    }
   },
   "types_to_exclude": [
    "module",
    "function",
    "builtin_function_or_method",
    "instance",
    "_Feature"
   ],
   "window_display": false
  }
 },
 "nbformat": 4,
 "nbformat_minor": 4
}
