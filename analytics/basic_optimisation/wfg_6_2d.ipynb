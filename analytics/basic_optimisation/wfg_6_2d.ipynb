{
 "cells": [
  {
   "cell_type": "code",
   "execution_count": 1,
   "metadata": {},
   "outputs": [],
   "source": [
    "import matplotlib.pyplot as plt\n",
    "import wfg\n",
    "import numpy as np\n",
    "import rootpath \n",
    "import sys\n",
    "sys.path.append(rootpath.detect())\n",
    "from testsuite.surrogates import GP, MultiSurrogate\n",
    "from testsuite.optimisers import BayesianOptimiser"
   ]
  },
  {
   "cell_type": "code",
   "execution_count": 2,
   "metadata": {},
   "outputs": [],
   "source": [
    "## set up objective function\n",
    "kfactor = 2\n",
    "lfactor = 2\n",
    "n_objectives = 2\n",
    "n_dims = lfactor * 2 + kfactor\n",
    "\n",
    "k = kfactor * (n_objectives - 1)\n",
    "l = lfactor * 2\n",
    "wfg_n = 6\n",
    "exec(\"func = wfg.WFG{}\".format(int(wfg_n)))\n",
    "\n",
    "def wfg2(x):\n",
    "    if x.ndim == 2:\n",
    "        assert (x.shape[1] == n_dims)\n",
    "    else:\n",
    "        squeezable = np.where([a == 1 for a in x.shape])[0]\n",
    "        for i in squeezable[::-1]:\n",
    "            x = x.squeeze(i)\n",
    "\n",
    "    if x.ndim == 1:\n",
    "        assert (x.shape[0] == n_dims)\n",
    "        x = x.reshape(1, -1)\n",
    "    return np.array([func(xi, k, n_objectives) for xi in x])"
   ]
  },
  {
   "cell_type": "code",
   "execution_count": 3,
   "metadata": {},
   "outputs": [],
   "source": [
    "limits = [np.zeros((n_dims)), np.array(range(1, n_dims + 1)) * 2]\n",
    "\n",
    "gp_multisurr = MultiSurrogate(GP, scaled=True)\n",
    "opt = BayesianOptimiser(objective_function=wfg2, limits=limits, surrogate=gp_multisurr, n_initial=10, seed=None, acquisition_function=\"saf_ei\", log_interval=10)\n",
    "\n",
    "# opt.alpha(opt.x[0:1], opt.surrogate, opt.y)\n",
    "# opt.optimise(n_steps=10)"
   ]
  },
  {
   "cell_type": "code",
   "execution_count": 4,
   "metadata": {},
   "outputs": [
    {
     "name": "stderr",
     "output_type": "stream",
     "text": [
      "reconstraining parameters GP_regression.Mat52.lengthscale\n",
      "reconstraining parameters GP_regression.Mat52.variance\n",
      "reconstraining parameters GP_regression.Gaussian_noise.variance\n"
     ]
    },
    {
     "name": "stdout",
     "output_type": "stream",
     "text": [
      "Optimization restart 1/10, f = 14.1893843324335\n",
      "Optimization restart 2/10, f = 499452.12925600784\n",
      "Optimization restart 3/10, f = 12.556373347000676\n",
      "Optimization restart 4/10, f = 20.853583676214665\n",
      "Optimization restart 5/10, f = 13.384483077190001\n",
      "Optimization restart 6/10, f = 25.910364915401505\n",
      "Optimization restart 7/10, f = 78803764.3513585\n",
      "Optimization restart 8/10, f = 24.733770375869632\n"
     ]
    },
    {
     "name": "stderr",
     "output_type": "stream",
     "text": [
      "reconstraining parameters GP_regression.Mat52.lengthscale\n",
      "reconstraining parameters GP_regression.Mat52.variance\n",
      "reconstraining parameters GP_regression.Gaussian_noise.variance\n"
     ]
    },
    {
     "name": "stdout",
     "output_type": "stream",
     "text": [
      "Optimization restart 9/10, f = 21.34471581291552\n",
      "Optimization restart 10/10, f = 13.867381012846883\n",
      "Optimization restart 1/10, f = 14.189384866680072\n",
      "Optimization restart 2/10, f = 13.357898379274825\n",
      "Optimization restart 3/10, f = 24.888984458842213\n",
      "Optimization restart 4/10, f = 11.499907862755535\n",
      "Optimization restart 5/10, f = 13.357898391311807\n",
      "Optimization restart 6/10, f = 14.189385332046726\n",
      "Optimization restart 7/10, f = 14.189385332046752\n",
      "Optimization restart 8/10, f = 14.189385332046726\n",
      "Optimization restart 9/10, f = 14.18938533204673\n",
      "Optimization restart 10/10, f = 10.67004497419008\n",
      "(4_w,9)-aCMA-ES (mu_w=2.8,w_1=49%) in dimension 6 (seed=336728, Sun Aug 23 12:07:57 2020)\n",
      "Iterat #Fevals   function value  axis ratio  sigma  min&max std  t[m:s]\n",
      "    1      9 1.977000999349990e-01 1.0e+00 2.58e-01  3e-01  3e-01 0:00.0\n",
      "    2     18 6.429583527087285e-02 1.4e+00 2.76e-01  2e-01  3e-01 0:00.1\n",
      "    3     27 1.444582083771776e-01 1.5e+00 3.01e-01  3e-01  4e-01 0:00.2\n",
      "   69    621 -9.075470026522749e-02 1.3e+01 1.23e-01  1e-02  1e-01 0:03.2\n",
      "  100    900 -8.986428896328709e-02 1.9e+01 3.03e-02  2e-03  3e-02 0:04.9\n",
      "  170   1530 -8.880570633290043e-02 8.3e+01 3.77e-02  2e-03  4e-02 0:09.9\n",
      "  200   1800 -9.075081780171276e-02 1.1e+02 3.28e-02  1e-03  3e-02 0:11.4\n",
      "  300   2700 -9.176258759831132e-02 8.3e+01 2.87e-02  9e-04  8e-03 0:16.2\n",
      "  400   3600 -9.178864140858145e-02 4.4e+02 7.95e-03  3e-04  2e-03 0:21.0\n",
      "  500   4500 -9.175849941466549e-02 1.8e+03 2.82e-02  7e-04  5e-03 0:25.7\n",
      "  505   4545 -9.025086204075321e-02 2.0e+03 3.12e-02  8e-04  6e-03 0:25.9\n"
     ]
    },
    {
     "name": "stderr",
     "output_type": "stream",
     "text": [
      "reconstraining parameters GP_regression.Mat52.lengthscale\n",
      "reconstraining parameters GP_regression.Mat52.variance\n",
      "reconstraining parameters GP_regression.Gaussian_noise.variance\n"
     ]
    },
    {
     "name": "stdout",
     "output_type": "stream",
     "text": [
      "termination on tolstagnation=263 (Sun Aug 23 12:08:24 2020)\n",
      "final/bestever f-value = -8.731561e-02 -9.727024e-02\n",
      "incumbent solution: [1.1636900116098337, 0.0006316258052231107, 0.0017492546366909487, 5.959137437095778, 0.740524547068923, 5.877142104409419]\n",
      "std deviation: [0.000844452726068578, 0.0008282554954860118, 0.005662237900913876, 0.005643528456544712, 0.001030790085744108, 0.0020275661646640747]\n",
      "Optimization restart 1/10, f = 14.92788490641188\n",
      "Optimization restart 2/10, f = 15.608323901136135\n",
      "Optimization restart 3/10, f = 31.16990101199753\n",
      "Optimization restart 4/10, f = 15.6083238652514\n",
      "Optimization restart 5/10, f = 15.6083238652514\n",
      "Optimization restart 6/10, f = 15.60832213655388\n",
      "Optimization restart 7/10, f = 15.608323865254198\n",
      "Optimization restart 8/10, f = 23.63645539101659\n",
      "Optimization restart 9/10, f = 15.6083238652514\n"
     ]
    },
    {
     "name": "stderr",
     "output_type": "stream",
     "text": [
      "reconstraining parameters GP_regression.Mat52.lengthscale\n",
      "reconstraining parameters GP_regression.Mat52.variance\n",
      "reconstraining parameters GP_regression.Gaussian_noise.variance\n"
     ]
    },
    {
     "name": "stdout",
     "output_type": "stream",
     "text": [
      "Optimization restart 10/10, f = 15.608323893490864\n",
      "Optimization restart 1/10, f = 11.723798639076769\n",
      "Optimization restart 2/10, f = 15.608323865251409\n",
      "Optimization restart 3/10, f = 15.608324179228191\n",
      "Optimization restart 4/10, f = 15.359776192950205\n",
      "Optimization restart 5/10, f = 15.608323865251403\n",
      "Optimization restart 6/10, f = 15.608323865252416\n",
      "Optimization restart 7/10, f = 14.111716247418258\n",
      "Optimization restart 8/10, f = 15.608323865251403\n",
      "Optimization restart 9/10, f = 13.149606405010891\n",
      "Optimization restart 10/10, f = 15.580532194436401\n",
      "(4_w,9)-aCMA-ES (mu_w=2.8,w_1=49%) in dimension 6 (seed=370196, Sun Aug 23 12:08:25 2020)\n",
      "Iterat #Fevals   function value  axis ratio  sigma  min&max std  t[m:s]\n",
      "    1      9 -5.502323097663662e-01 1.0e+00 2.21e-01  2e-01  2e-01 0:00.0\n",
      "    2     18 -6.614094938129251e-01 1.1e+00 2.26e-01  2e-01  2e-01 0:00.1\n",
      "    3     27 -7.109273121590338e-01 1.3e+00 2.61e-01  2e-01  3e-01 0:00.1\n",
      "   57    513 -7.801087149044119e-01 2.8e+01 4.58e-02  3e-03  6e-02 0:03.1\n",
      "  100    900 -7.809545714514250e-01 4.2e+01 5.71e-02  3e-03  7e-02 0:05.4\n",
      "  194   1746 -7.812401225884887e-01 2.8e+02 1.23e-02  4e-04  1e-02 0:10.4\n",
      "  200   1800 -7.808312269293501e-01 2.9e+02 1.09e-02  4e-04  9e-03 0:10.9\n",
      "  300   2700 -7.815530461444947e-01 9.7e+02 8.94e-03  3e-04  1e-02 0:16.6\n",
      "  400   3600 -7.814602135389890e-01 4.3e+03 1.44e-02  4e-04  2e-02 0:21.6\n",
      "  500   4500 -7.811217130532371e-01 2.2e+04 1.95e-02  4e-04  3e-02 0:26.6\n",
      "  525   4725 -7.804437246795630e-01 2.1e+04 2.73e-02  5e-04  3e-02 0:27.7\n"
     ]
    },
    {
     "name": "stderr",
     "output_type": "stream",
     "text": [
      "reconstraining parameters GP_regression.Mat52.lengthscale\n",
      "reconstraining parameters GP_regression.Mat52.variance\n",
      "reconstraining parameters GP_regression.Gaussian_noise.variance\n"
     ]
    },
    {
     "name": "stdout",
     "output_type": "stream",
     "text": [
      "termination on tolstagnation=263 (Sun Aug 23 12:08:54 2020)\n",
      "final/bestever f-value = -7.790281e-01 -7.825716e-01\n",
      "incumbent solution: [0.3953556594866832, 3.4568153461148166, 4.360268030949338, 3.456519624998909, 5.777121941305366, 1.4160794675291632]\n",
      "std deviation: [0.0004806352086648029, 0.030667013121871596, 0.011702020359652128, 0.002903723270895387, 0.028769965522937823, 0.02580244244782072]\n",
      "Optimization restart 1/10, f = 17.02726315485315\n",
      "Optimization restart 2/10, f = 12.793099622986759\n",
      "Optimization restart 3/10, f = 30.60818425195103\n",
      "Optimization restart 4/10, f = 17.027262398458234\n",
      "Optimization restart 5/10, f = 17.027262398456553\n",
      "Optimization restart 6/10, f = 80.10487518827804\n",
      "Optimization restart 7/10, f = 80.10487518827804\n",
      "Optimization restart 8/10, f = 17.027262398457257\n"
     ]
    },
    {
     "name": "stderr",
     "output_type": "stream",
     "text": [
      "reconstraining parameters GP_regression.Mat52.lengthscale\n",
      "reconstraining parameters GP_regression.Mat52.variance\n",
      "reconstraining parameters GP_regression.Gaussian_noise.variance\n"
     ]
    },
    {
     "name": "stdout",
     "output_type": "stream",
     "text": [
      "Optimization restart 9/10, f = 16.88528162100974\n",
      "Optimization restart 10/10, f = 12.793084568534649\n",
      "Optimization restart 1/10, f = 11.221127160860416\n",
      "Optimization restart 2/10, f = 14.206398923061489\n",
      "Optimization restart 3/10, f = 45.51720703871122\n",
      "Optimization restart 4/10, f = 17.027262398456074\n",
      "Optimization restart 5/10, f = 17.027262398456074\n",
      "Optimization restart 6/10, f = 17.027260883916703\n",
      "Optimization restart 7/10, f = 17.027262398456074\n",
      "Optimization restart 8/10, f = 17.027262398456074\n",
      "Optimization restart 9/10, f = 14.20635677402304\n",
      "Optimization restart 10/10, f = 16.458345217302792\n",
      "(4_w,9)-aCMA-ES (mu_w=2.8,w_1=49%) in dimension 6 (seed=292536, Sun Aug 23 12:08:56 2020)\n",
      "Iterat #Fevals   function value  axis ratio  sigma  min&max std  t[m:s]\n",
      "    1      9 1.726756792777205e-01 1.0e+00 3.13e-01  3e-01  3e-01 0:00.0\n",
      "    2     18 2.907688313698890e-02 1.4e+00 3.19e-01  3e-01  4e-01 0:00.1\n",
      "    3     27 8.828041774128242e-02 1.5e+00 3.10e-01  3e-01  4e-01 0:00.1\n",
      "   59    531 -1.082692933022143e+00 2.9e+01 2.37e-01  2e-02  3e-01 0:03.1\n",
      "  100    900 -1.084345381284918e+00 1.1e+02 1.67e-01  5e-03  3e-01 0:05.0\n",
      "  195   1755 -1.085538986976909e+00 2.7e+02 2.26e-01  2e-03  4e-01 0:10.1\n",
      "  200   1800 -1.086307574948526e+00 2.9e+02 1.90e-01  2e-03  3e-01 0:10.3\n",
      "  300   2700 -1.085403341389360e+00 8.5e+02 2.62e-01  2e-03  4e-01 0:16.3\n",
      "  400   3600 -1.087399398051546e+00 1.4e+03 2.20e-01  1e-03  1e-01 0:21.8\n",
      "  500   4500 -1.088211096580993e+00 6.0e+03 1.45e-01  5e-04  5e-02 0:26.9\n",
      "  590   5310 -1.084243280778151e+00 1.3e+04 1.03e+00  3e-03  2e-01 0:31.4\n"
     ]
    },
    {
     "name": "stderr",
     "output_type": "stream",
     "text": [
      "reconstraining parameters GP_regression.Mat52.lengthscale\n",
      "reconstraining parameters GP_regression.Mat52.variance\n",
      "reconstraining parameters GP_regression.Gaussian_noise.variance\n"
     ]
    },
    {
     "name": "stdout",
     "output_type": "stream",
     "text": [
      "termination on tolstagnation=263 (Sun Aug 23 12:09:28 2020)\n",
      "final/bestever f-value = -1.082591e+00 -1.090627e+00\n",
      "incumbent solution: [1.9999844804390143, 6.126408661926313e-05, 0.0009519158734507853, 4.327082180984354, 0.24345491605720077, 5.8640383100399625]\n",
      "std deviation: [0.0030357597050815754, 0.0026545857739979596, 0.013476432298582771, 0.20243531658310165, 0.136855966901532, 0.07157148930576043]\n",
      "Optimization restart 1/10, f = 16.12552089969672\n",
      "Optimization restart 2/10, f = 18.44620093166167\n",
      "Optimization restart 3/10, f = 34.156916499819744\n",
      "Optimization restart 4/10, f = 17.5791212075864\n",
      "Optimization restart 5/10, f = 18.44620031057607\n",
      "Optimization restart 6/10, f = 269362473.7301695\n",
      "Optimization restart 7/10, f = 33.3339254685232\n",
      "Optimization restart 8/10, f = 649287.7680328102\n",
      "Optimization restart 9/10, f = 18.342989846044127\n"
     ]
    },
    {
     "name": "stderr",
     "output_type": "stream",
     "text": [
      "reconstraining parameters GP_regression.Mat52.lengthscale\n",
      "reconstraining parameters GP_regression.Mat52.variance\n"
     ]
    },
    {
     "name": "stdout",
     "output_type": "stream",
     "text": [
      "Optimization restart 10/10, f = 86.78028145396787\n"
     ]
    },
    {
     "name": "stderr",
     "output_type": "stream",
     "text": [
      "reconstraining parameters GP_regression.Gaussian_noise.variance\n"
     ]
    },
    {
     "name": "stdout",
     "output_type": "stream",
     "text": [
      "Optimization restart 1/10, f = 11.764297052743661\n",
      "Optimization restart 2/10, f = 11.823032023229334\n",
      "Optimization restart 3/10, f = 86.78028145396787\n",
      "Optimization restart 4/10, f = 18.44620093166076\n",
      "Optimization restart 5/10, f = 16.706026731987755\n",
      "Optimization restart 6/10, f = 18.446200931660744\n",
      "Optimization restart 7/10, f = 17.840063021026403\n",
      "Optimization restart 8/10, f = 86.78028145396787\n",
      "Optimization restart 9/10, f = 13.81852540392872\n",
      "Optimization restart 10/10, f = 18.446200931663412\n",
      "(4_w,9)-aCMA-ES (mu_w=2.8,w_1=49%) in dimension 6 (seed=266891, Sun Aug 23 12:09:30 2020)\n",
      "Iterat #Fevals   function value  axis ratio  sigma  min&max std  t[m:s]\n",
      "    1      9 2.349447539169457e-01 1.0e+00 2.27e-01  2e-01  2e-01 0:00.0\n",
      "    2     18 2.252715417633464e-01 1.3e+00 2.48e-01  2e-01  3e-01 0:00.1\n",
      "    3     27 1.825239143054957e-01 1.5e+00 2.64e-01  2e-01  3e-01 0:00.2\n",
      "   55    495 1.481214355750527e-01 2.1e+01 1.73e-01  2e-02  3e-01 0:03.3\n",
      "  100    900 1.507246087963651e-01 4.9e+01 8.05e-02  8e-03  1e-01 0:06.1\n",
      "  194   1746 1.477230750635408e-01 3.1e+02 1.30e-01  8e-03  3e-01 0:11.1\n",
      "  200   1800 1.499926472518100e-01 3.3e+02 1.52e-01  9e-03  4e-01 0:11.4\n",
      "  300   2700 1.492454489065337e-01 5.7e+02 1.38e-01  4e-03  2e-01 0:16.8\n",
      "  400   3600 1.497144799081843e-01 1.6e+03 4.15e-02  7e-04  2e-02 0:22.6\n",
      "  500   4500 1.470920841247311e-01 4.0e+03 8.98e-03  1e-04  4e-03 0:27.9\n",
      "  505   4545 1.515420943987538e-01 4.0e+03 5.84e-03  6e-05  3e-03 0:28.2\n"
     ]
    },
    {
     "name": "stderr",
     "output_type": "stream",
     "text": [
      "reconstraining parameters GP_regression.Mat52.lengthscale\n",
      "reconstraining parameters GP_regression.Mat52.variance\n",
      "reconstraining parameters GP_regression.Gaussian_noise.variance\n"
     ]
    },
    {
     "name": "stdout",
     "output_type": "stream",
     "text": [
      "termination on tolstagnation=263 (Sun Aug 23 12:09:59 2020)\n",
      "final/bestever f-value = 1.464144e-01 1.423102e-01\n",
      "incumbent solution: [0.000399092023465944, 0.006084686407243093, 0.036988748443901924, 0.631066766886185, 7.440028066900667, 0.6053569507300052]\n",
      "std deviation: [5.8542622583589056e-05, 0.00029386040502959467, 0.0006371654570202032, 0.0006668882707624496, 0.0006381011519038007, 0.0025443677431783046]\n",
      "Optimization restart 1/10, f = 17.965772297341026\n",
      "Optimization restart 2/10, f = 93.4556877196577\n",
      "Optimization restart 3/10, f = 213969826.04083893\n",
      "Optimization restart 4/10, f = 17.965772318632283\n",
      "Optimization restart 5/10, f = 19.619981593223194\n",
      "Optimization restart 6/10, f = 39.311785931508055\n",
      "Optimization restart 7/10, f = 19.865139464865422\n",
      "Optimization restart 8/10, f = 30.35335405421363\n",
      "Optimization restart 9/10, f = 39.311778300201674\n",
      "Optimization restart 10/10, f = 19.620011464079703\n"
     ]
    },
    {
     "name": "stderr",
     "output_type": "stream",
     "text": [
      "reconstraining parameters GP_regression.Mat52.lengthscale\n",
      "reconstraining parameters GP_regression.Mat52.variance\n",
      "reconstraining parameters GP_regression.Gaussian_noise.variance\n"
     ]
    },
    {
     "name": "stdout",
     "output_type": "stream",
     "text": [
      "Optimization restart 1/10, f = 12.022998574833686\n",
      "Optimization restart 2/10, f = 43.47094856896196\n",
      "Optimization restart 3/10, f = 19.86513946486542\n",
      "Optimization restart 4/10, f = 699232.980958411\n",
      "Optimization restart 5/10, f = 312522468.94857997\n",
      "Optimization restart 6/10, f = 93.4556877196577\n",
      "Optimization restart 7/10, f = 93.4556877196577\n",
      "Optimization restart 8/10, f = 19.865139464866278\n",
      "Optimization restart 9/10, f = 16.465425605536744\n",
      "Optimization restart 10/10, f = 19.865140154103663\n",
      "(4_w,9)-aCMA-ES (mu_w=2.8,w_1=49%) in dimension 6 (seed=306717, Sun Aug 23 12:10:00 2020)\n",
      "Iterat #Fevals   function value  axis ratio  sigma  min&max std  t[m:s]\n",
      "    1      9 -7.813772733531478e-02 1.0e+00 2.35e-01  2e-01  2e-01 0:00.0\n",
      "    2     18 -2.568520014441050e-01 1.2e+00 2.65e-01  2e-01  3e-01 0:00.1\n",
      "    3     27 -2.705653179364909e-01 1.4e+00 2.84e-01  3e-01  3e-01 0:00.2\n",
      "   51    459 -2.909518711820295e-01 6.7e+00 6.16e-02  2e-02  6e-02 0:03.2\n",
      "  100    900 -2.888705742799567e-01 1.3e+01 2.43e-02  5e-03  2e-02 0:06.0\n",
      "  186   1674 -2.881644335108022e-01 3.6e+01 1.78e-02  2e-03  1e-02 0:11.0\n",
      "  200   1800 -2.898828115612347e-01 3.7e+01 1.17e-02  9e-04  7e-03 0:11.8\n",
      "  300   2700 -2.893028393908061e-01 2.0e+02 2.50e-02  2e-03  2e-02 0:17.7\n",
      "  400   3600 -2.885809271769506e-01 4.3e+02 1.96e-02  8e-04  9e-03 0:23.4\n",
      "  500   4500 -2.931645255994403e-01 6.6e+02 1.97e-02  6e-04  5e-03 0:30.0\n",
      "  600   5400 -2.904858888729814e-01 8.6e+02 5.42e-03  1e-04  8e-04 0:37.2\n",
      "  630   5670 -2.951310782040865e-01 2.0e+03 3.01e-03  8e-05  5e-04 0:38.8\n"
     ]
    },
    {
     "name": "stderr",
     "output_type": "stream",
     "text": [
      "reconstraining parameters GP_regression.Mat52.lengthscale\n",
      "reconstraining parameters GP_regression.Mat52.variance\n",
      "reconstraining parameters GP_regression.Gaussian_noise.variance\n"
     ]
    },
    {
     "name": "stdout",
     "output_type": "stream",
     "text": [
      "termination on tolstagnation=263 (Sun Aug 23 12:10:40 2020)\n",
      "final/bestever f-value = -2.803308e-01 -3.013250e-01\n",
      "incumbent solution: [1.9995650344342597, 1.6138577860936993, 0.30928713899092597, 2.4662210848409503, 2.234036783781901, 8.013623687588552]\n",
      "std deviation: [0.00014921537890921473, 7.905181975180832e-05, 0.0004648630935612943, 0.00048121525914897995, 0.0001385330922549658, 0.00017044619449180757]\n",
      "Optimization restart 1/10, f = 19.54699611187424\n",
      "Optimization restart 2/10, f = 35.416457397186825\n",
      "Optimization restart 3/10, f = 35.73950915884081\n",
      "Optimization restart 4/10, f = 21.284077998127138\n",
      "Optimization restart 5/10, f = 100.13109398534753\n",
      "Optimization restart 6/10, f = 21.09916448921161\n",
      "Optimization restart 7/10, f = 21.28407799807009\n",
      "Optimization restart 8/10, f = 20.582032856299904\n",
      "Optimization restart 9/10, f = 20.414680017005836\n"
     ]
    },
    {
     "name": "stderr",
     "output_type": "stream",
     "text": [
      "reconstraining parameters GP_regression.Mat52.lengthscale\n",
      "reconstraining parameters GP_regression.Mat52.variance\n",
      "reconstraining parameters GP_regression.Gaussian_noise.variance\n"
     ]
    },
    {
     "name": "stdout",
     "output_type": "stream",
     "text": [
      "Optimization restart 10/10, f = 20.971071706306684\n",
      "Optimization restart 1/10, f = 12.544408731222862\n",
      "Optimization restart 2/10, f = 21.28407799807011\n",
      "Optimization restart 3/10, f = 325936321.2995107\n",
      "Optimization restart 4/10, f = 38.495439914145905\n",
      "Optimization restart 5/10, f = 100.13109398534753\n",
      "Optimization restart 6/10, f = 21.28407799807117\n",
      "Optimization restart 7/10, f = 20.319845042649625\n",
      "Optimization restart 8/10, f = 325416521.13983184\n",
      "Optimization restart 9/10, f = 20.87759249048716\n",
      "Optimization restart 10/10, f = 100.13109398534753\n",
      "(4_w,9)-aCMA-ES (mu_w=2.8,w_1=49%) in dimension 6 (seed=273335, Sun Aug 23 12:10:42 2020)\n",
      "Iterat #Fevals   function value  axis ratio  sigma  min&max std  t[m:s]\n",
      "    1      9 9.089393732380515e-03 1.0e+00 2.58e-01  2e-01  3e-01 0:00.1\n",
      "    2     18 -1.298957534534645e-01 1.2e+00 2.88e-01  3e-01  3e-01 0:00.1\n",
      "    3     27 -1.393651548186680e-01 1.5e+00 3.21e-01  3e-01  4e-01 0:00.2\n",
      "   56    504 -1.512881257729433e-01 6.9e+00 9.01e-02  3e-02  1e-01 0:03.2\n",
      "  100    900 -1.518149401132428e-01 1.6e+01 1.05e-01  2e-02  1e-01 0:05.6\n",
      "  189   1701 -1.487682132045073e-01 1.5e+02 6.39e-02  3e-03  1e-01 0:10.6\n",
      "  200   1800 -1.521983363952929e-01 1.2e+02 3.72e-02  2e-03  6e-02 0:11.3\n",
      "  300   2700 -1.507215110598808e-01 3.3e+02 1.66e-01  5e-03  2e-01 0:17.2\n",
      "  400   3600 -1.472804040711909e-01 2.7e+03 4.08e-01  5e-03  5e-01 0:24.1\n",
      "  500   4500 -1.563931779684941e-01 4.5e+03 2.93e-01  2e-03  1e-01 0:30.1\n",
      "  505   4545 -1.556940572656144e-01 4.2e+03 3.70e-01  2e-03  2e-01 0:30.4\n"
     ]
    },
    {
     "name": "stderr",
     "output_type": "stream",
     "text": [
      "reconstraining parameters GP_regression.Mat52.lengthscale\n",
      "reconstraining parameters GP_regression.Mat52.variance\n",
      "reconstraining parameters GP_regression.Gaussian_noise.variance\n"
     ]
    },
    {
     "name": "stdout",
     "output_type": "stream",
     "text": [
      "termination on tolstagnation=263 (Sun Aug 23 12:11:13 2020)\n",
      "final/bestever f-value = -1.473599e-01 -1.601952e-01\n",
      "incumbent solution: [1.9937442346269467, 2.5346198898079386, 0.23862536321227595, 1.3163912145848595, 4.106162968750398, 9.50686595588109]\n",
      "std deviation: [0.010982171509009058, 0.001583066893760224, 0.12736787327451277, 0.019020713068753404, 0.04817985419092302, 0.16229664771390573]\n",
      "Optimization restart 1/10, f = 20.98646386070694\n",
      "Optimization restart 2/10, f = 106.80650025103739\n",
      "Optimization restart 3/10, f = 22.703016528678713\n",
      "Optimization restart 4/10, f = 280745811.67149293\n",
      "Optimization restart 5/10, f = 39.456290908267626\n",
      "Optimization restart 6/10, f = 43.02623117781238\n",
      "Optimization restart 7/10, f = 22.543096519904857\n"
     ]
    },
    {
     "name": "stderr",
     "output_type": "stream",
     "text": [
      "reconstraining parameters GP_regression.Mat52.lengthscale\n",
      "reconstraining parameters GP_regression.Mat52.variance\n",
      "reconstraining parameters GP_regression.Gaussian_noise.variance\n"
     ]
    },
    {
     "name": "stdout",
     "output_type": "stream",
     "text": [
      "Optimization restart 8/10, f = 34.877303211321575\n",
      "Optimization restart 9/10, f = 22.703014013626003\n",
      "Optimization restart 10/10, f = 22.703016531274777\n",
      "Optimization restart 1/10, f = 12.929098788999791\n",
      "Optimization restart 2/10, f = 22.70301698532949\n",
      "Optimization restart 3/10, f = 22.703016531274763\n",
      "Optimization restart 4/10, f = 22.7030165722311\n",
      "Optimization restart 5/10, f = 22.70301693660904\n",
      "Optimization restart 6/10, f = 22.703016530932324\n",
      "Optimization restart 7/10, f = 22.703016531274784\n",
      "Optimization restart 8/10, f = 384892000.3865423\n",
      "Optimization restart 9/10, f = 22.703016554483032\n",
      "Optimization restart 10/10, f = 106.80650025103739\n",
      "(4_w,9)-aCMA-ES (mu_w=2.8,w_1=49%) in dimension 6 (seed=296107, Sun Aug 23 12:11:15 2020)\n",
      "Iterat #Fevals   function value  axis ratio  sigma  min&max std  t[m:s]\n",
      "    1      9 -2.600424504118708e-01 1.0e+00 2.43e-01  2e-01  3e-01 0:00.1\n",
      "    2     18 -2.872620965614902e-01 1.3e+00 2.42e-01  2e-01  3e-01 0:00.1\n",
      "    3     27 -2.385238766806047e-01 1.4e+00 2.24e-01  2e-01  3e-01 0:00.2\n",
      "   55    495 -3.020757491591624e-01 1.8e+01 5.55e-02  8e-03  1e-01 0:03.2\n",
      "  100    900 -3.001814016315907e-01 4.3e+01 7.33e-02  5e-03  1e-01 0:05.9\n",
      "  186   1674 -3.010418111317326e-01 2.9e+02 3.15e-01  7e-03  7e-01 0:11.0\n",
      "  200   1800 -3.003679990065223e-01 3.2e+02 2.05e-01  4e-03  3e-01 0:11.8\n",
      "  300   2700 -3.010558184171439e-01 5.9e+02 2.81e-02  1e-04  2e-02 0:18.1\n",
      "  400   3600 -3.006948108512236e-01 3.0e+03 1.02e-03  4e-06  5e-04 0:24.5\n",
      "  500   4500 -3.026070022765367e-01 1.1e+04 1.46e-02  4e-05  7e-03 0:31.5\n",
      "  590   5310 -3.043322590431324e-01 1.9e+04 2.99e-03  6e-06  1e-03 0:37.2\n"
     ]
    },
    {
     "name": "stderr",
     "output_type": "stream",
     "text": [
      "reconstraining parameters GP_regression.Mat52.lengthscale\n",
      "reconstraining parameters GP_regression.Mat52.variance\n",
      "reconstraining parameters GP_regression.Gaussian_noise.variance\n"
     ]
    },
    {
     "name": "stdout",
     "output_type": "stream",
     "text": [
      "termination on tolstagnation=263 (Sun Aug 23 12:11:53 2020)\n",
      "final/bestever f-value = -2.985334e-01 -3.074181e-01\n",
      "incumbent solution: [0.38758447974999644, 2.189378778964499, 0.4810836614265603, 3.480875513739455, 8.316467447912924, 9.532137167178664]\n",
      "std deviation: [1.3247573436243865e-05, 5.929259273873037e-06, 0.00017563301220626596, 0.0009783329598539625, 0.00025889540024965973, 0.0006117280211056404]\n",
      "Optimization restart 1/10, f = 22.0302821099028\n",
      "Optimization restart 2/10, f = 105.10126301166909\n",
      "Optimization restart 3/10, f = 37.48080912903129\n",
      "Optimization restart 4/10, f = 22.2393212071034\n",
      "Optimization restart 5/10, f = 113.48190651672722\n",
      "Optimization restart 6/10, f = 24.12195512111965\n"
     ]
    },
    {
     "name": "stderr",
     "output_type": "stream",
     "text": [
      "reconstraining parameters GP_regression.Mat52.lengthscale\n",
      "reconstraining parameters GP_regression.Mat52.variance\n",
      "reconstraining parameters GP_regression.Gaussian_noise.variance\n"
     ]
    },
    {
     "name": "stdout",
     "output_type": "stream",
     "text": [
      "Optimization restart 7/10, f = 43.03872450896404\n",
      "Optimization restart 8/10, f = 113.48190651672722\n",
      "Optimization restart 9/10, f = 113.48190651672722\n",
      "Optimization restart 10/10, f = 23.953087084589207\n",
      "Optimization restart 1/10, f = 13.549682394610134\n",
      "Optimization restart 2/10, f = 30.800017496776338\n",
      "Optimization restart 3/10, f = 13.09317063421732\n",
      "Optimization restart 4/10, f = 24.12195506412923\n",
      "Optimization restart 5/10, f = 24.121955064479437\n",
      "Optimization restart 6/10, f = 35.08436805835516\n",
      "Optimization restart 7/10, f = 31.125177161031466\n",
      "Optimization restart 8/10, f = 34.859720434716834\n",
      "Optimization restart 9/10, f = 24.121955419543287\n",
      "Optimization restart 10/10, f = 13.093170620618537\n",
      "(4_w,9)-aCMA-ES (mu_w=2.8,w_1=49%) in dimension 6 (seed=267006, Sun Aug 23 12:11:55 2020)\n",
      "Iterat #Fevals   function value  axis ratio  sigma  min&max std  t[m:s]\n",
      "    1      9 2.936943778170137e-02 1.0e+00 2.42e-01  2e-01  3e-01 0:00.1\n",
      "    2     18 3.280309010030642e-03 1.2e+00 2.53e-01  2e-01  3e-01 0:00.1\n",
      "    3     27 -6.162883587630617e-02 1.4e+00 2.44e-01  2e-01  3e-01 0:00.2\n",
      "   47    423 -1.398292621495612e-01 8.1e+00 4.98e-02  8e-03  6e-02 0:03.2\n",
      "   99    891 -1.408464810279875e-01 2.4e+01 8.72e-03  6e-04  8e-03 0:07.2\n",
      "  100    900 -1.412787957954394e-01 2.4e+01 7.75e-03  5e-04  7e-03 0:07.3\n",
      "  179   1611 -1.404524121712090e-01 8.5e+01 4.09e-02  2e-03  6e-02 0:13.4\n",
      "  200   1800 -1.443723661910303e-01 1.2e+02 5.97e-02  4e-03  9e-02 0:15.1\n",
      "  300   2700 -1.392323912903353e-01 1.6e+02 3.81e-03  8e-05  2e-03 0:22.6\n",
      "  400   3600 -1.404240407865736e-01 2.3e+03 5.10e-03  1e-04  2e-03 0:29.5\n",
      "  500   4500 -1.391016105946750e-01 8.0e+03 2.95e-03  4e-05  9e-04 0:36.1\n",
      "  535   4815 -1.374974059758034e-01 1.9e+04 1.58e-03  3e-05  5e-04 0:38.4\n"
     ]
    },
    {
     "name": "stderr",
     "output_type": "stream",
     "text": [
      "reconstraining parameters GP_regression.Mat52.lengthscale\n",
      "reconstraining parameters GP_regression.Mat52.variance\n",
      "reconstraining parameters GP_regression.Gaussian_noise.variance\n"
     ]
    },
    {
     "name": "stdout",
     "output_type": "stream",
     "text": [
      "termination on tolstagnation=263 (Sun Aug 23 12:12:34 2020)\n",
      "final/bestever f-value = -1.337498e-01 -1.524827e-01\n",
      "incumbent solution: [0.5662918502019052, 1.8368653274185538, 3.6158265972112322, 6.090030288884334, 4.390380019483738, 4.0347196135335555]\n",
      "std deviation: [2.5614934436634043e-05, 5.3535435013241624e-05, 0.0005223487819006303, 0.00016919843700915734, 0.00044575070366531365, 0.00027511702039516414]\n",
      "Optimization restart 1/10, f = 21.58099835075509\n",
      "Optimization restart 2/10, f = 24.17243667910504\n",
      "Optimization restart 3/10, f = 37.36941440451636\n",
      "Optimization restart 4/10, f = 18.109650449529667\n",
      "Optimization restart 5/10, f = 25.54089364222812\n",
      "Optimization restart 6/10, f = 22.338803773772206\n",
      "Optimization restart 7/10, f = 312568161.05461097\n",
      "Optimization restart 8/10, f = 22.338793854498775\n",
      "Optimization restart 9/10, f = 312823458.3167576\n"
     ]
    },
    {
     "name": "stderr",
     "output_type": "stream",
     "text": [
      "reconstraining parameters GP_regression.Mat52.lengthscale\n",
      "reconstraining parameters GP_regression.Mat52.variance\n",
      "reconstraining parameters GP_regression.Gaussian_noise.variance\n"
     ]
    },
    {
     "name": "stdout",
     "output_type": "stream",
     "text": [
      "Optimization restart 10/10, f = 312767638.13021755\n",
      "Optimization restart 1/10, f = 12.649987118584825\n",
      "Optimization restart 2/10, f = 120.15731278241705\n",
      "Optimization restart 3/10, f = 12.936211871884694\n",
      "Optimization restart 4/10, f = 25.540877422761202\n",
      "Optimization restart 5/10, f = 25.540893597684114\n",
      "Optimization restart 6/10, f = 25.540893598783335\n",
      "Optimization restart 7/10, f = 30.30107529495439\n",
      "Optimization restart 8/10, f = 25.54089359768411\n",
      "Optimization restart 9/10, f = 25.540896695992224\n",
      "Optimization restart 10/10, f = 25.54089359768411\n",
      "(4_w,9)-aCMA-ES (mu_w=2.8,w_1=49%) in dimension 6 (seed=301544, Sun Aug 23 12:12:36 2020)\n",
      "Iterat #Fevals   function value  axis ratio  sigma  min&max std  t[m:s]\n",
      "    1      9 -1.725969189571083e-01 1.0e+00 2.35e-01  2e-01  2e-01 0:00.1\n",
      "    2     18 -1.290022531757990e-01 1.3e+00 2.28e-01  2e-01  2e-01 0:00.1\n",
      "    3     27 -2.426316859441282e-01 1.4e+00 2.52e-01  2e-01  3e-01 0:00.2\n",
      "   37    333 -4.803779796845480e-01 6.2e+00 1.74e-01  5e-02  2e-01 0:03.2\n",
      "   91    819 -4.830588876637447e-01 1.7e+01 3.34e-02  6e-03  4e-02 0:07.2\n",
      "  100    900 -4.839080868408144e-01 2.0e+01 2.94e-02  5e-03  3e-02 0:07.9\n",
      "  177   1593 -4.835179913053349e-01 3.2e+01 1.34e-01  8e-03  1e-01 0:14.0\n",
      "  200   1800 -4.847390374464349e-01 3.6e+01 1.21e-01  6e-03  8e-02 0:15.9\n",
      "  300   2700 -4.842401516564097e-01 4.7e+02 7.57e-02  4e-03  1e-01 0:23.2\n",
      "  400   3600 -4.853468250075910e-01 4.3e+02 1.95e-02  3e-04  9e-03 0:30.9\n",
      "  500   4500 -4.827607563500881e-01 9.6e+02 2.34e-01  3e-03  7e-02 0:38.0\n",
      "  540   4860 -4.842875151628219e-01 1.1e+03 3.60e-01  3e-03  1e-01 0:40.6\n"
     ]
    },
    {
     "name": "stderr",
     "output_type": "stream",
     "text": [
      "reconstraining parameters GP_regression.Mat52.lengthscale\n",
      "reconstraining parameters GP_regression.Mat52.variance\n",
      "reconstraining parameters GP_regression.Gaussian_noise.variance\n"
     ]
    },
    {
     "name": "stdout",
     "output_type": "stream",
     "text": [
      "termination on tolstagnation=263 (Sun Aug 23 12:13:18 2020)\n",
      "final/bestever f-value = -4.804646e-01 -4.884075e-01\n",
      "incumbent solution: [0.4130815440393695, 2.699117909031364, 2.5365156422543804, 1.7168424333189365, 0.005436329765036474, 5.412759561239677]\n",
      "std deviation: [0.0027468512856603086, 0.00476571735835801, 0.00840755072996749, 0.11159457027058622, 0.007063605967052484, 0.04329549584536418]\n",
      "Optimization restart 1/10, f = 21.310401006186847\n",
      "Optimization restart 2/10, f = 26.959832130889207\n",
      "Optimization restart 3/10, f = 26.959832130888778\n",
      "Optimization restart 4/10, f = 24.629850680984546\n",
      "Optimization restart 5/10, f = 126.8327190481069\n",
      "Optimization restart 6/10, f = 39.10692914744165\n",
      "Optimization restart 7/10, f = 26.959832130888778\n",
      "Optimization restart 8/10, f = 61.22487330567375\n"
     ]
    },
    {
     "name": "stderr",
     "output_type": "stream",
     "text": [
      "reconstraining parameters GP_regression.Mat52.lengthscale\n",
      "reconstraining parameters GP_regression.Mat52.variance\n",
      "reconstraining parameters GP_regression.Gaussian_noise.variance\n"
     ]
    },
    {
     "name": "stdout",
     "output_type": "stream",
     "text": [
      "Optimization restart 9/10, f = 44.8949901092169\n",
      "Optimization restart 10/10, f = 26.959832397970338\n",
      "Optimization restart 1/10, f = 12.87907892435324\n",
      "Optimization restart 2/10, f = 35.647790325653354\n",
      "Optimization restart 3/10, f = 26.941659305778668\n",
      "Optimization restart 4/10, f = 26.95983170233646\n",
      "Optimization restart 5/10, f = 30.761698633733126\n",
      "Optimization restart 6/10, f = 12.879078939069542\n",
      "Optimization restart 7/10, f = 25.82739368681546\n",
      "Optimization restart 8/10, f = 49.30387558551404\n",
      "Optimization restart 9/10, f = 26.959832617067853\n",
      "Optimization restart 10/10, f = 126.83271903969006\n",
      "(4_w,9)-aCMA-ES (mu_w=2.8,w_1=49%) in dimension 6 (seed=365281, Sun Aug 23 12:13:19 2020)\n",
      "Iterat #Fevals   function value  axis ratio  sigma  min&max std  t[m:s]\n",
      "    1      9 -6.520693346783908e-02 1.0e+00 2.42e-01  2e-01  3e-01 0:00.1\n",
      "    2     18 -1.029824974866133e-01 1.3e+00 2.49e-01  2e-01  3e-01 0:00.1\n",
      "    3     27 -1.072292314507300e-01 1.5e+00 2.55e-01  2e-01  3e-01 0:00.2\n",
      "   42    378 -1.994026254798779e-01 6.3e+00 7.57e-02  2e-02  8e-02 0:03.2\n",
      "   98    882 -1.968642566032230e-01 1.5e+01 6.18e-02  8e-03  5e-02 0:07.3\n",
      "  100    900 -1.973921021682460e-01 1.6e+01 4.55e-02  5e-03  4e-02 0:07.4\n",
      "  188   1692 -1.995258971502630e-01 3.6e+01 2.06e-02  2e-03  1e-02 0:13.4\n",
      "  200   1800 -1.974065642240466e-01 3.2e+01 1.72e-02  2e-03  7e-03 0:14.6\n",
      "  300   2700 -1.976974422100278e-01 9.5e+01 6.88e-03  3e-04  1e-03 0:21.9\n",
      "  400   3600 -1.960018597742824e-01 2.5e+02 1.92e-02  6e-04  3e-03 0:28.8\n",
      "  500   4500 -1.966568087438896e-01 8.0e+02 1.79e-02  3e-04  2e-03 0:35.7\n",
      "  600   5400 -1.960408397511569e-01 4.8e+03 1.25e-02  2e-04  1e-03 0:43.1\n",
      "  700   6300 -1.972998443192453e-01 3.2e+04 9.79e-03  1e-04  1e-03 0:51.2\n",
      "  800   7200 -1.952899159702801e-01 8.7e+04 1.25e-02  1e-04  7e-04 0:57.9\n"
     ]
    },
    {
     "name": "stderr",
     "output_type": "stream",
     "text": [
      "reconstraining parameters GP_regression.Mat52.lengthscale\n",
      "reconstraining parameters GP_regression.Mat52.variance\n",
      "reconstraining parameters GP_regression.Gaussian_noise.variance\n"
     ]
    },
    {
     "name": "stdout",
     "output_type": "stream",
     "text": [
      "termination on tolstagnation=263 (Sun Aug 23 12:14:19 2020)\n",
      "final/bestever f-value = -1.883501e-01 -2.058487e-01\n",
      "incumbent solution: [0.007135677018487625, 3.999997738402352, 0.004686451710883812, 1.6858633128351443, 9.43965277001391, 6.386335383158422]\n",
      "std deviation: [0.000324935646043716, 0.00010233838750254178, 0.0004876669558386794, 0.0001226589208003307, 0.00043918834643201266, 0.0006823916849569625]\n",
      "Optimization restart 1/10, f = 23.10229725219155\n",
      "Optimization restart 2/10, f = 28.37877066409345\n",
      "Optimization restart 3/10, f = 27.240713137979398\n",
      "Optimization restart 4/10, f = 47.267810781408954\n",
      "Optimization restart 5/10, f = 22.929686644328182\n",
      "Optimization restart 6/10, f = 28.378770664093455\n",
      "Optimization restart 7/10, f = 28.3788822429174\n",
      "Optimization restart 8/10, f = 22.54462806541669\n"
     ]
    },
    {
     "name": "stderr",
     "output_type": "stream",
     "text": [
      "reconstraining parameters GP_regression.Mat52.lengthscale\n",
      "reconstraining parameters GP_regression.Mat52.variance\n",
      "reconstraining parameters GP_regression.Gaussian_noise.variance\n"
     ]
    },
    {
     "name": "stdout",
     "output_type": "stream",
     "text": [
      "Optimization restart 9/10, f = 133.50812531379674\n",
      "Optimization restart 10/10, f = 998904.2585120157\n",
      "Optimization restart 1/10, f = 12.23098848199244\n",
      "Optimization restart 2/10, f = 28.378770664100628\n",
      "Optimization restart 3/10, f = 28.352467939073048\n",
      "Optimization restart 4/10, f = 12.23099097254792\n",
      "Optimization restart 5/10, f = 28.375460646940596\n",
      "Optimization restart 6/10, f = 12.305866919954807\n",
      "Optimization restart 7/10, f = 28.352467945634295\n",
      "Optimization restart 8/10, f = 22.435687221277377\n",
      "Optimization restart 9/10, f = 28.352467997006784\n",
      "Optimization restart 10/10, f = 28.378770663112668\n",
      "(4_w,9)-aCMA-ES (mu_w=2.8,w_1=49%) in dimension 6 (seed=254072, Sun Aug 23 12:14:21 2020)\n",
      "Iterat #Fevals   function value  axis ratio  sigma  min&max std  t[m:s]\n",
      "    1      9 1.480554383595498e-01 1.0e+00 2.68e-01  3e-01  3e-01 0:00.1\n",
      "    2     18 -2.110437581768093e-01 1.3e+00 2.96e-01  3e-01  3e-01 0:00.1\n",
      "    3     27 -1.772283977748444e-01 1.5e+00 3.38e-01  3e-01  4e-01 0:00.2\n",
      "   46    414 -3.116128591427328e-01 8.7e+00 2.78e-02  4e-03  3e-02 0:03.2\n",
      "  100    900 -3.106690744963468e-01 2.5e+01 1.65e-02  1e-03  2e-02 0:07.2\n",
      "  156   1404 -3.119961159576918e-01 4.0e+01 2.76e-02  2e-03  2e-02 0:12.4\n",
      "  200   1800 -3.114677263804478e-01 3.6e+01 2.12e-02  1e-03  1e-02 0:16.5\n",
      "  296   2664 -3.111758545751850e-01 1.2e+02 8.30e-02  4e-03  5e-02 0:23.5\n",
      "  300   2700 -3.117312435198523e-01 1.3e+02 6.92e-02  3e-03  4e-02 0:23.8\n",
      "  400   3600 -3.101848780779495e-01 1.8e+02 2.32e-01  5e-03  6e-02 0:30.9\n",
      "  500   4500 -3.159753267212475e-01 1.0e+02 3.89e+00  8e-03  5e-01 0:38.5\n",
      "  600   5400 -3.183959361842759e-01 4.8e+02 1.72e+00  8e-04  1e-01 0:46.0\n",
      "  700   6300 -3.148853761755452e-01 1.2e+03 1.47e+00  6e-04  8e-02 0:53.7\n",
      "  780   7020 -3.167690443891669e-01 5.5e+03 1.73e+00  3e-04  1e-01 1:00.1\n"
     ]
    },
    {
     "name": "stderr",
     "output_type": "stream",
     "text": [
      "reconstraining parameters GP_regression.Mat52.lengthscale\n",
      "reconstraining parameters GP_regression.Mat52.variance\n",
      "reconstraining parameters GP_regression.Gaussian_noise.variance\n"
     ]
    },
    {
     "name": "stdout",
     "output_type": "stream",
     "text": [
      "termination on tolstagnation=263 (Sun Aug 23 12:15:22 2020)\n",
      "final/bestever f-value = -3.133320e-01 -3.189171e-01\n",
      "incumbent solution: [0.6028426843480976, 1.4435800650296389, 1.227435443422617, 2.4156349057586333, 4.029507064048581, 4.579547142607692]\n",
      "std deviation: [0.0002986919849687627, 0.0014783358279920472, 0.05518824167356605, 0.05747228173816829, 0.12050474478009955, 0.016085239596977132]\n",
      "Optimization restart 1/10, f = 21.363706618592218\n",
      "Optimization restart 2/10, f = 140.18353157948656\n",
      "Optimization restart 3/10, f = 29.45638623808601\n",
      "Optimization restart 4/10, f = 29.583929732410695\n",
      "Optimization restart 5/10, f = 29.58392973276401\n",
      "Optimization restart 6/10, f = 27.489830740876318\n",
      "Optimization restart 7/10, f = 29.797709182197877\n",
      "Optimization restart 8/10, f = 28.657079553709508\n"
     ]
    },
    {
     "name": "stderr",
     "output_type": "stream",
     "text": [
      "reconstraining parameters GP_regression.Mat52.lengthscale\n",
      "reconstraining parameters GP_regression.Mat52.variance\n",
      "reconstraining parameters GP_regression.Gaussian_noise.variance\n"
     ]
    },
    {
     "name": "stdout",
     "output_type": "stream",
     "text": [
      "Optimization restart 9/10, f = 22.367040397806395\n",
      "Optimization restart 10/10, f = 29.79770919729812\n",
      "Optimization restart 1/10, f = 11.353243089468192\n",
      "Optimization restart 2/10, f = 11.340744667674247\n",
      "Optimization restart 3/10, f = 140.18353157948656\n",
      "Optimization restart 4/10, f = 140.18353157948656\n",
      "Optimization restart 5/10, f = 29.797709332513577\n",
      "Optimization restart 6/10, f = 29.79770919729812\n",
      "Optimization restart 7/10, f = 599593068.4925311\n",
      "Optimization restart 8/10, f = 29.777550285759993\n",
      "Optimization restart 9/10, f = 140.18353157948656\n",
      "Optimization restart 10/10, f = 24.558536350421278\n",
      "(4_w,9)-aCMA-ES (mu_w=2.8,w_1=49%) in dimension 6 (seed=267131, Sun Aug 23 12:15:24 2020)\n",
      "Iterat #Fevals   function value  axis ratio  sigma  min&max std  t[m:s]\n",
      "    1      9 1.502781746299739e-01 1.0e+00 2.43e-01  2e-01  3e-01 0:00.1\n",
      "    2     18 1.723211198067741e-01 1.4e+00 2.42e-01  2e-01  3e-01 0:00.2\n",
      "    3     27 1.616568702895583e-01 1.4e+00 2.50e-01  2e-01  3e-01 0:00.2\n",
      "   40    360 -2.447787699087310e-01 7.8e+00 8.43e-02  2e-02  1e-01 0:03.2\n",
      "   93    837 -2.453822623088038e-01 3.3e+01 1.51e-02  7e-04  2e-02 0:07.3\n",
      "  100    900 -2.458285037671085e-01 3.0e+01 1.19e-02  6e-04  1e-02 0:07.8\n",
      "  180   1620 -2.458141219592775e-01 1.1e+02 2.32e-03  5e-05  3e-03 0:13.8\n",
      "  200   1800 -2.456628299003327e-01 1.4e+02 2.41e-03  5e-05  2e-03 0:15.3\n",
      "  297   2673 -2.462520445627938e-01 1.3e+02 3.86e-04  6e-06  1e-04 0:23.4\n",
      "  300   2700 -2.460450240905423e-01 1.3e+02 3.10e-04  5e-06  9e-05 0:23.6\n",
      "  400   3600 -2.453420316086635e-01 5.1e+02 7.58e-04  5e-06  1e-04 0:31.6\n",
      "  500   4500 -2.458517300051604e-01 3.5e+03 2.64e-04  2e-06  5e-05 0:39.8\n",
      "  595   5355 -2.457578107585509e-01 9.8e+03 2.08e-03  2e-05  5e-04 0:48.0\n"
     ]
    },
    {
     "name": "stderr",
     "output_type": "stream",
     "text": [
      "reconstraining parameters GP_regression.Mat52.lengthscale\n",
      "reconstraining parameters GP_regression.Mat52.variance\n",
      "reconstraining parameters GP_regression.Gaussian_noise.variance\n"
     ]
    },
    {
     "name": "stdout",
     "output_type": "stream",
     "text": [
      "termination on tolstagnation=263 (Sun Aug 23 12:16:13 2020)\n",
      "final/bestever f-value = -2.455940e-01 -2.467365e-01\n",
      "incumbent solution: [0.5945947462557518, 1.8013405223656291, 2.7007040461579974, 2.5681317519354905, 6.050042223904257, 6.218587022404951]\n",
      "std deviation: [1.7609193103957944e-05, 1.8610087037851207e-05, 0.0005194369565321719, 0.00034481005000719053, 0.00038844314816075545, 0.000343948864948088]\n",
      "Optimization restart 1/10, f = 19.154412020881757\n",
      "Optimization restart 2/10, f = 31.216654476268573\n",
      "Optimization restart 3/10, f = 31.2166477305028\n",
      "Optimization restart 4/10, f = 146.8589378451764\n",
      "Optimization restart 5/10, f = 31.21664773050083\n",
      "Optimization restart 6/10, f = 31.2166477305028\n",
      "Optimization restart 7/10, f = 505256864.5283406\n",
      "Optimization restart 8/10, f = 31.216647730502814\n",
      "Optimization restart 9/10, f = 31.2166477305028\n"
     ]
    },
    {
     "name": "stderr",
     "output_type": "stream",
     "text": [
      "reconstraining parameters GP_regression.Mat52.lengthscale\n",
      "reconstraining parameters GP_regression.Mat52.variance\n",
      "reconstraining parameters GP_regression.Gaussian_noise.variance\n"
     ]
    },
    {
     "name": "stdout",
     "output_type": "stream",
     "text": [
      "Optimization restart 10/10, f = 30.353156622620666\n",
      "Optimization restart 1/10, f = 9.233638232101107\n",
      "Optimization restart 2/10, f = 625044760.1970253\n",
      "Optimization restart 3/10, f = 31.21664816611221\n",
      "Optimization restart 4/10, f = 31.199883086179494\n",
      "Optimization restart 5/10, f = 9.47863912348944\n",
      "Optimization restart 6/10, f = 624532025.6443235\n",
      "Optimization restart 7/10, f = 146.8589378451764\n",
      "Optimization restart 8/10, f = 9.69864085837105\n",
      "Optimization restart 9/10, f = 31.2166477305028\n",
      "Optimization restart 10/10, f = 29.64670576512991\n",
      "(4_w,9)-aCMA-ES (mu_w=2.8,w_1=49%) in dimension 6 (seed=370724, Sun Aug 23 12:16:14 2020)\n",
      "Iterat #Fevals   function value  axis ratio  sigma  min&max std  t[m:s]\n",
      "    1      9 -3.396654290690398e-02 1.0e+00 2.42e-01  2e-01  3e-01 0:00.1\n",
      "    2     18 -4.926795706687465e-02 1.3e+00 2.34e-01  2e-01  2e-01 0:00.2\n",
      "    3     27 -5.215525446295646e-02 1.4e+00 2.39e-01  2e-01  3e-01 0:00.3\n",
      "   35    315 -9.774077493193419e-02 1.6e+01 2.79e-01  4e-02  6e-01 0:03.4\n",
      "   82    738 -1.018285957288143e-01 4.9e+01 6.23e-02  5e-03  9e-02 0:07.5\n",
      "  100    900 -1.032864994475893e-01 4.6e+01 4.36e-02  3e-03  5e-02 0:09.0\n",
      "  169   1521 -1.070573230895634e-01 3.1e+01 7.65e-03  3e-04  4e-03 0:15.0\n",
      "  200   1800 -1.029234629036530e-01 6.4e+01 2.16e-02  5e-04  2e-02 0:17.4\n",
      "  293   2637 -1.062944567065361e-01 3.2e+02 2.21e-01  9e-03  2e-01 0:25.4\n",
      "  300   2700 -1.072443084515559e-01 3.4e+02 2.21e-01  8e-03  2e-01 0:26.0\n",
      "  400   3600 -1.062607391596622e-01 4.5e+02 2.12e-01  2e-03  1e-01 0:34.2\n",
      "  500   4500 -1.065635380569012e-01 3.3e+03 1.03e-01  1e-03  8e-02 0:42.9\n",
      "  600   5400 -1.053905902776773e-01 4.3e+03 5.29e-02  3e-04  2e-02 0:50.8\n",
      "  700   6300 -1.070422524694956e-01 2.0e+04 2.84e-01  3e-03  9e-02 0:58.7\n",
      "  785   7065 -1.059806442530137e-01 5.6e+04 1.00e-01  8e-04  3e-02 1:05.3\n"
     ]
    },
    {
     "name": "stderr",
     "output_type": "stream",
     "text": [
      "reconstraining parameters GP_regression.Mat52.lengthscale\n",
      "reconstraining parameters GP_regression.Mat52.variance\n",
      "reconstraining parameters GP_regression.Gaussian_noise.variance\n"
     ]
    },
    {
     "name": "stdout",
     "output_type": "stream",
     "text": [
      "termination on tolstagnation=263 (Sun Aug 23 12:17:21 2020)\n",
      "final/bestever f-value = -1.043522e-01 -1.101450e-01\n",
      "incumbent solution: [1.1007382505829328, 3.107953242633001, 4.183518033811557, 1.805518706681998, 0.21208926357844116, 9.171167879332788]\n",
      "std deviation: [0.0007696264001126057, 0.001088253690379757, 0.00816418464696008, 0.022372189072161458, 0.02823823326612969, 0.02631963343326971]\n",
      "Optimization restart 1/10, f = 20.026415380600774\n",
      "Optimization restart 2/10, f = 153.53434411086621\n",
      "Optimization restart 3/10, f = 32.1196928501859\n",
      "Optimization restart 4/10, f = 32.635586628325996\n",
      "Optimization restart 5/10, f = 153.53434411086621\n",
      "Optimization restart 6/10, f = 32.63558626372164\n",
      "Optimization restart 7/10, f = 31.27197472547908\n",
      "Optimization restart 8/10, f = 31.838589905668183\n"
     ]
    },
    {
     "name": "stderr",
     "output_type": "stream",
     "text": [
      "reconstraining parameters GP_regression.Mat52.lengthscale\n",
      "reconstraining parameters GP_regression.Mat52.variance\n",
      "reconstraining parameters GP_regression.Gaussian_noise.variance\n"
     ]
    },
    {
     "name": "stdout",
     "output_type": "stream",
     "text": [
      "Optimization restart 9/10, f = 22.772395487009163\n",
      "Optimization restart 10/10, f = 32.37824615183003\n",
      "Optimization restart 1/10, f = 9.282374957062732\n",
      "Optimization restart 2/10, f = 10.54028728587577\n",
      "Optimization restart 3/10, f = 10.540287298749435\n",
      "Optimization restart 4/10, f = 32.63558603629936\n",
      "Optimization restart 5/10, f = 32.63558626370747\n",
      "Optimization restart 6/10, f = 32.635578149086996\n",
      "Optimization restart 7/10, f = 32.63558626370747\n",
      "Optimization restart 8/10, f = 32.63558679122972\n",
      "Optimization restart 9/10, f = 9.282382843415967\n",
      "Optimization restart 10/10, f = 30.868825632861597\n",
      "(4_w,9)-aCMA-ES (mu_w=2.8,w_1=49%) in dimension 6 (seed=255428, Sun Aug 23 12:17:23 2020)\n",
      "Iterat #Fevals   function value  axis ratio  sigma  min&max std  t[m:s]\n",
      "    1      9 -4.382495405594432e-02 1.0e+00 2.58e-01  2e-01  3e-01 0:00.1\n",
      "    2     18 -4.754180448644114e-02 1.3e+00 2.82e-01  3e-01  3e-01 0:00.2\n",
      "    3     27 -3.821066796871327e-02 1.5e+00 2.65e-01  2e-01  3e-01 0:00.2\n",
      "   41    369 -8.770571187431281e-02 1.9e+01 2.36e-02  3e-03  4e-02 0:03.3\n",
      "   92    828 -8.806276709505909e-02 3.1e+01 9.22e-03  7e-04  1e-02 0:07.3\n",
      "  100    900 -8.802168770506166e-02 3.3e+01 6.86e-03  5e-04  8e-03 0:08.0\n",
      "  170   1530 -8.867998978637329e-02 7.2e+01 7.02e-03  3e-04  4e-03 0:14.1\n",
      "  200   1800 -8.793528393574736e-02 1.7e+02 5.07e-03  2e-04  3e-03 0:16.7\n",
      "  288   2592 -8.818644860835186e-02 8.0e+02 1.54e-02  5e-04  1e-02 0:24.7\n",
      "  300   2700 -8.864212709672718e-02 8.9e+02 3.38e-02  1e-03  3e-02 0:25.8\n",
      "  400   3600 -8.787493735138234e-02 1.4e+03 7.50e-02  1e-03  4e-02 0:34.4\n",
      "  500   4500 -8.776687633317451e-02 8.6e+02 1.67e-02  1e-04  3e-03 0:44.4\n",
      "  505   4545 -8.782412766703396e-02 8.3e+02 2.03e-02  1e-04  3e-03 0:44.8\n"
     ]
    },
    {
     "name": "stderr",
     "output_type": "stream",
     "text": [
      "reconstraining parameters GP_regression.Mat52.lengthscale\n",
      "reconstraining parameters GP_regression.Mat52.variance\n",
      "reconstraining parameters GP_regression.Gaussian_noise.variance\n"
     ]
    },
    {
     "name": "stdout",
     "output_type": "stream",
     "text": [
      "termination on tolstagnation=263 (Sun Aug 23 12:18:09 2020)\n",
      "final/bestever f-value = -8.725253e-02 -8.885636e-02\n",
      "incumbent solution: [1.1271361269962243, 2.8373492668937597, 1.8305236545248273, 2.0079818569996504, 4.816227624402195, 7.214086490683242]\n",
      "std deviation: [0.00018909626326393293, 0.0001460908900867885, 0.0011117406931277084, 0.0021539930295640416, 0.0028610207868916674, 0.0014229403779655364]\n",
      "Optimization restart 1/10, f = 25.818315375951105\n",
      "Optimization restart 2/10, f = 32.23856548069239\n",
      "Optimization restart 3/10, f = 29.765165036391963\n",
      "Optimization restart 4/10, f = 160.2097503765561\n",
      "Optimization restart 5/10, f = 33.253149008675294\n",
      "Optimization restart 6/10, f = 34.05452489025669\n",
      "Optimization restart 7/10, f = 34.05452479691214\n",
      "Optimization restart 8/10, f = 34.05451891294701\n",
      "Optimization restart 9/10, f = 25.818315918578264\n"
     ]
    },
    {
     "name": "stderr",
     "output_type": "stream",
     "text": [
      "reconstraining parameters GP_regression.Mat52.lengthscale\n",
      "reconstraining parameters GP_regression.Mat52.variance\n",
      "reconstraining parameters GP_regression.Gaussian_noise.variance\n"
     ]
    },
    {
     "name": "stdout",
     "output_type": "stream",
     "text": [
      "Optimization restart 10/10, f = 33.69406254388718\n",
      "Optimization restart 1/10, f = 13.062602892330895\n",
      "Optimization restart 2/10, f = 13.062602918796703\n",
      "Optimization restart 3/10, f = 34.05452479691215\n",
      "Optimization restart 4/10, f = 34.05452479691214\n",
      "Optimization restart 5/10, f = 160.2097503765561\n",
      "Optimization restart 6/10, f = 34.038625804257734\n",
      "Optimization restart 7/10, f = 63.048606088552916\n",
      "Optimization restart 8/10, f = 13.688744749024375\n",
      "Optimization restart 9/10, f = 34.03856917812393\n",
      "Optimization restart 10/10, f = 34.05452479691215\n",
      "(4_w,9)-aCMA-ES (mu_w=2.8,w_1=49%) in dimension 6 (seed=200833, Sun Aug 23 12:18:11 2020)\n",
      "Iterat #Fevals   function value  axis ratio  sigma  min&max std  t[m:s]\n",
      "    1      9 -1.187745682295927e-01 1.0e+00 2.23e-01  2e-01  2e-01 0:00.1\n",
      "    2     18 -1.345270260842505e-01 1.2e+00 2.19e-01  2e-01  2e-01 0:00.2\n",
      "    3     27 -9.895401210375411e-02 1.4e+00 2.10e-01  2e-01  2e-01 0:00.3\n",
      "   37    333 -1.416964663861023e-01 1.1e+01 3.91e-02  7e-03  5e-02 0:03.3\n",
      "   81    729 -1.423322100345591e-01 1.5e+01 8.65e-03  2e-03  8e-03 0:07.4\n",
      "  100    900 -1.414457527090342e-01 1.9e+01 8.65e-03  1e-03  8e-03 0:09.8\n",
      "  168   1512 -1.423447145440914e-01 8.3e+01 3.46e-02  4e-03  5e-02 0:15.8\n",
      "  200   1800 -1.421747015231085e-01 5.2e+01 2.86e-02  3e-03  2e-02 0:18.7\n",
      "  286   2574 -1.411801805974346e-01 2.4e+02 1.22e-02  7e-04  9e-03 0:26.7\n",
      "  300   2700 -1.422326516258958e-01 2.3e+02 8.66e-03  4e-04  4e-03 0:28.0\n",
      "  400   3600 -1.417487888889735e-01 4.1e+02 2.32e-02  5e-04  7e-03 0:37.8\n",
      "  500   4500 -1.420943976334301e-01 9.6e+02 2.20e-02  1e-04  4e-03 0:47.7\n",
      "  585   5265 -1.413040648381861e-01 3.2e+03 2.76e-02  1e-04  6e-03 0:55.8\n"
     ]
    },
    {
     "name": "stderr",
     "output_type": "stream",
     "text": [
      "reconstraining parameters GP_regression.Mat52.lengthscale\n",
      "reconstraining parameters GP_regression.Mat52.variance\n",
      "reconstraining parameters GP_regression.Gaussian_noise.variance\n"
     ]
    },
    {
     "name": "stdout",
     "output_type": "stream",
     "text": [
      "termination on tolstagnation=263 (Sun Aug 23 12:19:07 2020)\n",
      "final/bestever f-value = -1.406541e-01 -1.450913e-01\n",
      "incumbent solution: [0.7003277859441333, 1.5706165717807863, 5.038876366728538, 0.00042603141930201623, 8.028413608010258, 10.26500023923825]\n",
      "std deviation: [0.00024093917903119318, 0.0006155002731356127, 0.0016388046565578161, 0.0055989216452505455, 0.00012682684486440773, 0.006003192129608875]\n",
      "Optimization restart 1/10, f = 26.29774257480795\n",
      "Optimization restart 2/10, f = 35.47346333011682\n",
      "Optimization restart 3/10, f = 34.07643709135479\n",
      "Optimization restart 4/10, f = 166.88515664224593\n",
      "Optimization restart 5/10, f = 51.39630051143466\n",
      "Optimization restart 6/10, f = 35.47346333011682\n",
      "Optimization restart 7/10, f = 35.47346333011683\n",
      "Optimization restart 8/10, f = 34.919689445582435\n",
      "Optimization restart 9/10, f = 35.473463330116736\n"
     ]
    },
    {
     "name": "stderr",
     "output_type": "stream",
     "text": [
      "reconstraining parameters GP_regression.Mat52.lengthscale\n",
      "reconstraining parameters GP_regression.Mat52.variance\n",
      "reconstraining parameters GP_regression.Gaussian_noise.variance\n"
     ]
    },
    {
     "name": "stdout",
     "output_type": "stream",
     "text": [
      "Optimization restart 10/10, f = 34.97744433952703\n",
      "Optimization restart 1/10, f = 13.942662421393436\n",
      "Optimization restart 2/10, f = 752061382.0056162\n",
      "Optimization restart 3/10, f = 38.31720120084743\n",
      "Optimization restart 4/10, f = 36.78805168111177\n",
      "Optimization restart 5/10, f = 13.942653421129465\n",
      "Optimization restart 6/10, f = 35.460922241416014\n",
      "Optimization restart 7/10, f = 38.11462504893566\n",
      "Optimization restart 8/10, f = 12.893236188840927\n",
      "Optimization restart 9/10, f = 36.765230657846445\n",
      "Optimization restart 10/10, f = 35.47346333012045\n",
      "(4_w,9)-aCMA-ES (mu_w=2.8,w_1=49%) in dimension 6 (seed=252298, Sun Aug 23 12:19:10 2020)\n",
      "Iterat #Fevals   function value  axis ratio  sigma  min&max std  t[m:s]\n",
      "    1      9 2.054879799756235e-02 1.0e+00 2.60e-01  2e-01  3e-01 0:00.1\n",
      "    2     18 1.055522958619614e-02 1.3e+00 2.49e-01  2e-01  3e-01 0:00.2\n",
      "    3     27 -9.392297826163009e-03 1.4e+00 2.47e-01  2e-01  3e-01 0:00.3\n",
      "   37    333 -1.786505194106353e-02 6.2e+00 4.74e-02  1e-02  5e-02 0:03.3\n",
      "   82    738 -1.790256812636761e-02 4.1e+01 4.76e-02  7e-03  8e-02 0:07.3\n",
      "  100    900 -1.453705094602423e-02 6.1e+01 7.24e-02  1e-02  1e-01 0:09.0\n",
      "  169   1521 -1.728990507534016e-02 6.2e+01 6.73e-02  5e-03  6e-02 0:15.0\n",
      "  200   1800 -1.649030903352968e-02 6.0e+01 4.91e-02  3e-03  4e-02 0:17.7\n",
      "  285   2565 -1.720463667049706e-02 1.8e+02 7.97e-03  2e-04  4e-03 0:25.7\n",
      "  300   2700 -2.017634020777935e-02 2.0e+02 6.30e-03  1e-04  3e-03 0:27.1\n",
      "  398   3582 -1.873848777965135e-02 6.3e+02 1.00e-02  1e-04  3e-03 0:37.2\n",
      "  400   3600 -1.500364835061092e-02 6.5e+02 9.82e-03  1e-04  3e-03 0:37.4\n",
      "  500   4500 -1.584948879531266e-02 1.1e+03 2.71e-03  2e-05  3e-04 0:48.1\n",
      "  515   4635 -1.544941369253860e-02 1.0e+03 1.80e-03  1e-05  2e-04 0:50.1\n"
     ]
    },
    {
     "name": "stderr",
     "output_type": "stream",
     "text": [
      "reconstraining parameters GP_regression.Mat52.lengthscale\n",
      "reconstraining parameters GP_regression.Mat52.variance\n",
      "reconstraining parameters GP_regression.Gaussian_noise.variance\n"
     ]
    },
    {
     "name": "stdout",
     "output_type": "stream",
     "text": [
      "termination on tolstagnation=263 (Sun Aug 23 12:20:01 2020)\n",
      "final/bestever f-value = -1.090860e-02 -2.570369e-02\n",
      "incumbent solution: [0.001157902371979955, 2.929345950446181, 2.5945095844406114, 5.915057240206064, 2.2204593916869255, 0.6503832681179068]\n",
      "std deviation: [1.2164052316460741e-05, 9.820216399578853e-06, 8.852481416040249e-05, 0.00018341418475619113, 8.528506992486251e-05, 0.00015287145763309936]\n",
      "Optimization restart 1/10, f = 27.266939357691996\n",
      "Optimization restart 2/10, f = 36.60999109534069\n",
      "Optimization restart 3/10, f = 36.892401863321496\n",
      "Optimization restart 4/10, f = 57.66057613386074\n",
      "Optimization restart 5/10, f = 36.89240186332185\n",
      "Optimization restart 6/10, f = 36.89240186332149\n",
      "Optimization restart 7/10, f = 36.87867562092763\n",
      "Optimization restart 8/10, f = 71.6373257958448\n",
      "Optimization restart 9/10, f = 36.89240186331428\n"
     ]
    },
    {
     "name": "stderr",
     "output_type": "stream",
     "text": [
      "reconstraining parameters GP_regression.Mat52.lengthscale\n",
      "reconstraining parameters GP_regression.Mat52.variance\n",
      "reconstraining parameters GP_regression.Gaussian_noise.variance\n"
     ]
    },
    {
     "name": "stdout",
     "output_type": "stream",
     "text": [
      "Optimization restart 10/10, f = 75.13070536069114\n",
      "Optimization restart 1/10, f = 13.091134085486097\n",
      "Optimization restart 2/10, f = 37.95904151551108\n",
      "Optimization restart 3/10, f = 36.24663449446078\n",
      "Optimization restart 4/10, f = 17.907829268643567\n",
      "Optimization restart 5/10, f = 36.87856530704956\n",
      "Optimization restart 6/10, f = 833418209.0325044\n",
      "Optimization restart 7/10, f = 12.944271001830995\n",
      "Optimization restart 8/10, f = 36.892401863323514\n",
      "Optimization restart 9/10, f = 36.89240186332201\n",
      "Optimization restart 10/10, f = 83.10735752306863\n",
      "(4_w,9)-aCMA-ES (mu_w=2.8,w_1=49%) in dimension 6 (seed=289377, Sun Aug 23 12:20:03 2020)\n",
      "Iterat #Fevals   function value  axis ratio  sigma  min&max std  t[m:s]\n",
      "    1      9 -2.618720542183364e-03 1.0e+00 2.27e-01  2e-01  2e-01 0:00.1\n",
      "    2     18 1.020550760975283e-01 1.3e+00 2.45e-01  2e-01  3e-01 0:00.4\n",
      "    3     27 -2.743844636348440e-02 1.4e+00 2.30e-01  2e-01  2e-01 0:00.5\n",
      "   25    225 -5.034739850279157e-02 5.4e+00 1.46e-01  5e-02  2e-01 0:03.6\n",
      "   67    603 -6.391574117142949e-02 3.5e+01 5.88e-02  5e-03  1e-01 0:07.7\n",
      "  100    900 -1.211303267317994e-01 3.1e+01 1.78e-01  9e-03  2e-01 0:11.9\n",
      "  153   1377 -1.223418440711067e-01 4.0e+01 5.32e-02  2e-03  4e-02 0:17.9\n",
      "  200   1800 -1.224826332153098e-01 3.4e+01 6.14e-02  2e-03  3e-02 0:22.5\n",
      "  276   2484 -1.214048997865287e-01 4.8e+01 1.57e-01  5e-03  6e-02 0:30.6\n",
      "  300   2700 -1.216412228607236e-01 3.6e+01 5.53e-02  1e-03  2e-02 0:33.5\n",
      "  389   3501 -1.223131589775805e-01 1.7e+02 2.07e-02  4e-04  5e-03 0:43.6\n",
      "  400   3600 -1.228371981936719e-01 1.4e+02 2.33e-02  4e-04  6e-03 0:45.0\n",
      "  500   4500 -1.222797202583680e-01 3.2e+02 7.37e-03  6e-05  1e-03 0:56.1\n",
      "  520   4680 -1.222612082755668e-01 4.0e+02 8.51e-03  6e-05  1e-03 0:58.2\n"
     ]
    },
    {
     "name": "stderr",
     "output_type": "stream",
     "text": [
      "reconstraining parameters GP_regression.Mat52.lengthscale\n",
      "reconstraining parameters GP_regression.Mat52.variance\n",
      "reconstraining parameters GP_regression.Gaussian_noise.variance\n"
     ]
    },
    {
     "name": "stdout",
     "output_type": "stream",
     "text": [
      "termination on tolstagnation=263 (Sun Aug 23 12:21:02 2020)\n",
      "final/bestever f-value = -1.173694e-01 -1.259434e-01\n",
      "incumbent solution: [1.3685869168387656e-06, 2.542067649872026e-05, 0.0010171149802239985, 7.98905810316588, 3.7941881646878777, 1.9737148439259853]\n",
      "std deviation: [7.14983878430793e-05, 5.845635412860367e-05, 0.0006171569591110875, 0.0013126086044765936, 0.00040376058065024075, 0.0012409047974816442]\n",
      "Optimization restart 1/10, f = 34.59331758438802\n",
      "Optimization restart 2/10, f = 38.311348622641255\n",
      "Optimization restart 3/10, f = 1348520.7489912212\n",
      "Optimization restart 4/10, f = 28.06063669155787\n",
      "Optimization restart 5/10, f = 46.14717631721909\n",
      "Optimization restart 6/10, f = 1348520.7489912212\n",
      "Optimization restart 7/10, f = 38.31134039652616\n",
      "Optimization restart 8/10, f = 180.23596917362562\n",
      "Optimization restart 9/10, f = 38.311349209589\n"
     ]
    },
    {
     "name": "stderr",
     "output_type": "stream",
     "text": [
      "reconstraining parameters GP_regression.Mat52.lengthscale\n",
      "reconstraining parameters GP_regression.Mat52.variance\n",
      "reconstraining parameters GP_regression.Gaussian_noise.variance\n"
     ]
    },
    {
     "name": "stdout",
     "output_type": "stream",
     "text": [
      "Optimization restart 10/10, f = 35.93724820733393\n",
      "Optimization restart 1/10, f = 12.230285844072773\n",
      "Optimization restart 2/10, f = 38.31134039652616\n",
      "Optimization restart 3/10, f = 38.311340396526916\n",
      "Optimization restart 4/10, f = 36.25765835038945\n",
      "Optimization restart 5/10, f = 38.31134039652616\n",
      "Optimization restart 6/10, f = 37.67355429372384\n",
      "Optimization restart 7/10, f = 15.188000473538192\n",
      "Optimization restart 8/10, f = 38.31134040114053\n",
      "Optimization restart 9/10, f = 180.23596917362562\n",
      "Optimization restart 10/10, f = 40.63941638511658\n",
      "(4_w,9)-aCMA-ES (mu_w=2.8,w_1=49%) in dimension 6 (seed=325034, Sun Aug 23 12:21:04 2020)\n",
      "Iterat #Fevals   function value  axis ratio  sigma  min&max std  t[m:s]\n",
      "    1      9 -3.722725354186657e-02 1.0e+00 2.45e-01  2e-01  3e-01 0:00.1\n",
      "    2     18 -4.280791761337205e-02 1.3e+00 2.47e-01  2e-01  3e-01 0:00.3\n",
      "    3     27 -3.531128923559339e-03 1.4e+00 2.69e-01  2e-01  3e-01 0:00.4\n",
      "   33    297 -8.835433852273200e-02 9.0e+00 2.13e-01  4e-02  3e-01 0:03.4\n",
      "   73    657 -9.204163176947619e-02 2.0e+01 4.54e-02  3e-03  6e-02 0:07.5\n",
      "  100    900 -9.316377563819696e-02 3.4e+01 5.81e-02  5e-03  9e-02 0:10.1\n",
      "  166   1494 -9.463966037001419e-02 8.4e+01 2.41e-02  1e-03  2e-02 0:16.2\n",
      "  200   1800 -9.333473873923097e-02 2.2e+02 3.21e-02  1e-03  3e-02 0:19.4\n",
      "  280   2520 -9.735669359663705e-02 7.0e+02 5.14e-02  9e-04  5e-02 0:27.4\n",
      "  300   2700 -9.501162207964524e-02 6.7e+02 3.60e-02  6e-04  3e-02 0:29.5\n",
      "  399   3591 -9.738062062285115e-02 4.8e+03 1.99e-02  3e-04  2e-02 0:39.5\n",
      "  400   3600 -9.472970175252528e-02 5.1e+03 1.90e-02  3e-04  1e-02 0:39.6\n",
      "  500   4500 -9.698813366289159e-02 4.7e+04 6.87e-03  8e-05  1e-02 0:49.9\n",
      "  600   5400 -9.540901643035918e-02 1.2e+05 5.09e-04  5e-06  3e-04 1:00.1\n",
      "  615   5535 -1.002989534461100e-01 1.4e+05 4.68e-04  4e-06  2e-04 1:01.7\n"
     ]
    },
    {
     "name": "stderr",
     "output_type": "stream",
     "text": [
      "reconstraining parameters GP_regression.Mat52.lengthscale\n",
      "reconstraining parameters GP_regression.Mat52.variance\n",
      "reconstraining parameters GP_regression.Gaussian_noise.variance\n"
     ]
    },
    {
     "name": "stdout",
     "output_type": "stream",
     "text": [
      "termination on tolstagnation=263 (Sun Aug 23 12:22:07 2020)\n",
      "final/bestever f-value = -8.547731e-02 -1.024682e-01\n",
      "incumbent solution: [0.18172477260046127, 2.9815563138150836, 1.3880872214279085, 1.4227363454590294, 7.027783042204539, 11.955063078168548]\n",
      "std deviation: [3.548297624079604e-06, 1.647394848249303e-05, 0.00016769392296537365, 5.704205633051149e-05, 0.00016178308412019142, 0.00024450509226208545]\n",
      "Optimization restart 1/10, f = 29.08373842540832\n",
      "Optimization restart 2/10, f = 70.13821461476837\n",
      "Optimization restart 3/10, f = 25.780030010569035\n",
      "Optimization restart 4/10, f = 26.387885572448727\n",
      "Optimization restart 5/10, f = 39.73023890628728\n",
      "Optimization restart 6/10, f = 39.73027783473151\n",
      "Optimization restart 7/10, f = 50.067825363424745\n",
      "Optimization restart 8/10, f = 181.79515487693834\n",
      "Optimization restart 9/10, f = 39.73027892973085\n"
     ]
    },
    {
     "name": "stderr",
     "output_type": "stream",
     "text": [
      "reconstraining parameters GP_regression.Mat52.lengthscale\n",
      "reconstraining parameters GP_regression.Mat52.variance\n",
      "reconstraining parameters GP_regression.Gaussian_noise.variance\n"
     ]
    },
    {
     "name": "stdout",
     "output_type": "stream",
     "text": [
      "Optimization restart 10/10, f = 174.8739196972004\n",
      "Optimization restart 1/10, f = 11.007855186244907\n",
      "Optimization restart 2/10, f = 819016616.5625618\n",
      "Optimization restart 3/10, f = 39.665880195713555\n",
      "Optimization restart 4/10, f = 39.730281662448064\n",
      "Optimization restart 5/10, f = 39.66588019664107\n",
      "Optimization restart 6/10, f = 11.0078551924252\n",
      "Optimization restart 7/10, f = 184.32804854952207\n",
      "Optimization restart 8/10, f = 13.789698480963711\n",
      "Optimization restart 9/10, f = 11.007855196939088\n",
      "Optimization restart 10/10, f = 11.007855197315772\n",
      "(4_w,9)-aCMA-ES (mu_w=2.8,w_1=49%) in dimension 6 (seed=277788, Sun Aug 23 12:22:09 2020)\n",
      "Iterat #Fevals   function value  axis ratio  sigma  min&max std  t[m:s]\n",
      "    1      9 -1.208609970082297e-02 1.0e+00 2.38e-01  2e-01  2e-01 0:00.1\n",
      "    2     18 -3.774433269035245e-02 1.3e+00 2.43e-01  2e-01  3e-01 0:00.3\n",
      "    3     27 -5.862692491970618e-02 1.5e+00 2.41e-01  2e-01  3e-01 0:00.4\n",
      "   32    288 -3.986891126658328e-01 1.2e+01 3.62e-01  8e-02  6e-01 0:03.5\n",
      "   71    639 -4.394987960216226e-01 2.5e+01 3.14e-02  2e-03  4e-02 0:07.5\n",
      "  100    900 -4.389610824815383e-01 5.1e+01 2.42e-02  1e-03  3e-02 0:10.6\n",
      "  157   1413 -4.390004117320680e-01 1.4e+02 3.28e-02  2e-03  6e-02 0:16.6\n",
      "  200   1800 -4.396940635492636e-01 2.2e+02 2.18e-02  6e-04  3e-02 0:21.1\n",
      "  275   2475 -4.393449390159742e-01 4.1e+02 9.36e-03  1e-04  9e-03 0:29.2\n",
      "  300   2700 -4.391655140455685e-01 5.5e+02 6.33e-03  5e-05  5e-03 0:32.1\n",
      "  395   3555 -4.409783356950066e-01 2.9e+02 6.31e-02  4e-04  2e-02 0:42.2\n",
      "  400   3600 -4.408589951061171e-01 3.8e+02 5.38e-02  3e-04  1e-02 0:42.8\n",
      "  500   4500 -4.385578346966952e-01 6.7e+02 4.64e-02  1e-04  7e-03 0:53.1\n",
      "  600   5400 -4.398538999053641e-01 1.8e+03 1.32e-03  3e-06  8e-05 1:03.8\n",
      "  605   5445 -4.390794054265773e-01 2.1e+03 1.32e-03  4e-06  8e-05 1:04.3\n"
     ]
    },
    {
     "name": "stderr",
     "output_type": "stream",
     "text": [
      "reconstraining parameters GP_regression.Mat52.lengthscale\n",
      "reconstraining parameters GP_regression.Mat52.variance\n",
      "reconstraining parameters GP_regression.Gaussian_noise.variance\n"
     ]
    },
    {
     "name": "stdout",
     "output_type": "stream",
     "text": [
      "termination on tolstagnation=263 (Sun Aug 23 12:23:15 2020)\n",
      "final/bestever f-value = -4.378264e-01 -4.416595e-01\n",
      "incumbent solution: [1.13585515928236, 2.980450057550919, 0.0001394282361925396, 0.0001384083476791374, 6.0112974965008, 2.369706462320928]\n",
      "std deviation: [3.792638420713699e-06, 1.1276856379729194e-05, 4.473416869298728e-05, 7.452355167185631e-05, 7.802962970564368e-05, 5.865157534396119e-05]\n",
      "Optimization restart 1/10, f = 29.44423457577347\n",
      "Optimization restart 2/10, f = 52.55754945040397\n",
      "Optimization restart 3/10, f = 41.14921746294614\n",
      "Optimization restart 4/10, f = 62.33214095106569\n",
      "Optimization restart 5/10, f = 41.149224946369515\n",
      "Optimization restart 6/10, f = 37.133641987995475\n",
      "Optimization restart 7/10, f = 40.39583805970608\n",
      "Optimization restart 8/10, f = 41.149217462937074\n",
      "Optimization restart 9/10, f = 63.855642650733174\n"
     ]
    },
    {
     "name": "stderr",
     "output_type": "stream",
     "text": [
      "reconstraining parameters GP_regression.Mat52.lengthscale\n",
      "reconstraining parameters GP_regression.Mat52.variance\n",
      "reconstraining parameters GP_regression.Gaussian_noise.variance\n"
     ]
    },
    {
     "name": "stdout",
     "output_type": "stream",
     "text": [
      "Optimization restart 10/10, f = 26.74097728299506\n",
      "Optimization restart 1/10, f = 14.198426318595464\n",
      "Optimization restart 2/10, f = 41.09247389818895\n",
      "Optimization restart 3/10, f = 38.15687689845143\n",
      "Optimization restart 4/10, f = 40.944531054996936\n",
      "Optimization restart 5/10, f = 944777808.5195017\n",
      "Optimization restart 6/10, f = 41.149217462935525\n",
      "Optimization restart 7/10, f = 38.15687695769879\n",
      "Optimization restart 8/10, f = 17.761829549485146\n",
      "Optimization restart 9/10, f = 38.15687744149064\n",
      "Optimization restart 10/10, f = 20.465673780682994\n",
      "(4_w,9)-aCMA-ES (mu_w=2.8,w_1=49%) in dimension 6 (seed=280085, Sun Aug 23 12:23:17 2020)\n",
      "Iterat #Fevals   function value  axis ratio  sigma  min&max std  t[m:s]\n",
      "    1      9 1.121726262903329e-01 1.0e+00 2.22e-01  2e-01  2e-01 0:00.1\n",
      "    2     18 1.079194338966238e-01 1.2e+00 2.19e-01  2e-01  2e-01 0:00.2\n",
      "    3     27 1.129662563598051e-01 1.3e+00 2.04e-01  2e-01  2e-01 0:00.4\n",
      "   31    279 -1.197234026448448e-01 5.6e+00 3.67e-01  1e-01  5e-01 0:03.4\n",
      "   69    621 -1.333550408716561e-01 2.2e+01 5.63e-02  7e-03  7e-02 0:07.4\n",
      "  100    900 -1.332351529799311e-01 3.9e+01 2.74e-02  2e-03  4e-02 0:11.0\n",
      "  155   1395 -1.332089362366211e-01 1.5e+02 1.53e-02  7e-04  2e-02 0:17.1\n",
      "  200   1800 -1.334856042861921e-01 3.3e+02 1.19e-02  7e-04  2e-02 0:22.8\n",
      "  277   2493 -1.336118712405889e-01 3.2e+02 3.72e-03  1e-04  4e-03 0:30.9\n",
      "  300   2700 -1.334771399990343e-01 4.1e+02 2.25e-03  7e-05  2e-03 0:33.2\n",
      "  391   3519 -1.340673339069382e-01 1.3e+03 1.57e-03  5e-05  2e-03 0:43.2\n",
      "  400   3600 -1.334203213019222e-01 1.2e+03 1.81e-03  5e-05  2e-03 0:44.3\n",
      "  495   4455 -1.334402025519193e-01 7.7e+03 2.17e-03  9e-05  3e-03 0:56.3\n",
      "  500   4500 -1.329516319062257e-01 8.6e+03 2.22e-03  9e-05  3e-03 0:56.9\n",
      "  505   4545 -1.336840805283899e-01 8.6e+03 3.14e-03  1e-04  5e-03 0:57.5\n"
     ]
    },
    {
     "name": "stderr",
     "output_type": "stream",
     "text": [
      "reconstraining parameters GP_regression.Mat52.lengthscale\n",
      "reconstraining parameters GP_regression.Mat52.variance\n",
      "reconstraining parameters GP_regression.Gaussian_noise.variance\n"
     ]
    },
    {
     "name": "stdout",
     "output_type": "stream",
     "text": [
      "termination on tolstagnation=263 (Sun Aug 23 12:24:15 2020)\n",
      "final/bestever f-value = -1.322752e-01 -1.342276e-01\n",
      "incumbent solution: [0.6526524128038838, 1.9602055001755718, 3.1638479283799144, 3.2139156144852827, 0.4252895541452851, 9.145297944411682]\n",
      "std deviation: [0.00013349594322505014, 0.0001565512760467952, 0.0007875590802514275, 0.003287268188775504, 0.004737218537710376, 0.003506943481268503]\n",
      "Optimization restart 1/10, f = 33.96265126185311\n",
      "Optimization restart 2/10, f = 31.79388243365917\n",
      "Optimization restart 3/10, f = 42.56815599614018\n",
      "Optimization restart 4/10, f = 42.568155996140234\n",
      "Optimization restart 5/10, f = 200.26218797069515\n",
      "Optimization restart 6/10, f = 200.26218797069515\n",
      "Optimization restart 7/10, f = 29.964640907265917\n",
      "Optimization restart 8/10, f = 29.0597728135429\n"
     ]
    },
    {
     "name": "stderr",
     "output_type": "stream",
     "text": [
      "reconstraining parameters GP_regression.Mat52.lengthscale\n",
      "reconstraining parameters GP_regression.Mat52.variance\n",
      "reconstraining parameters GP_regression.Gaussian_noise.variance\n"
     ]
    },
    {
     "name": "stdout",
     "output_type": "stream",
     "text": [
      "Optimization restart 9/10, f = 42.56816618362314\n",
      "Optimization restart 10/10, f = 200.26218797069515\n",
      "Optimization restart 1/10, f = 22.533522030026287\n",
      "Optimization restart 2/10, f = 42.56815599639472\n",
      "Optimization restart 3/10, f = 16.84218262464126\n",
      "Optimization restart 4/10, f = 32.84293417671749\n",
      "Optimization restart 5/10, f = 42.56815599614265\n",
      "Optimization restart 6/10, f = 39.57815573174571\n",
      "Optimization restart 7/10, f = 16.84219445765485\n",
      "Optimization restart 8/10, f = 73.07326334574688\n",
      "Optimization restart 9/10, f = 42.56815599614148\n",
      "Optimization restart 10/10, f = 37.830051853908216\n",
      "(4_w,9)-aCMA-ES (mu_w=2.8,w_1=49%) in dimension 6 (seed=245169, Sun Aug 23 12:24:19 2020)\n",
      "Iterat #Fevals   function value  axis ratio  sigma  min&max std  t[m:s]\n",
      "    1      9 1.446650020168661e-01 1.0e+00 2.69e-01  2e-01  3e-01 0:00.1\n",
      "    2     18 -1.171049705128315e-02 1.4e+00 3.03e-01  3e-01  3e-01 0:00.3\n",
      "    3     27 -6.338208092935458e-04 1.6e+00 3.14e-01  3e-01  4e-01 0:00.4\n",
      "   27    243 -3.414174937898722e-01 4.3e+00 3.88e-01  1e-01  5e-01 0:03.5\n",
      "   56    504 -4.012544077305167e-01 9.1e+00 1.36e-01  2e-02  1e-01 0:07.5\n",
      "  100    900 -4.016868174738264e-01 1.3e+01 2.37e-02  3e-03  2e-02 0:12.2\n",
      "  154   1386 -4.022795633454322e-01 2.1e+01 2.80e-02  4e-03  2e-02 0:18.2\n",
      "  194   1746 -4.039950513440578e-01 3.9e+01 2.76e-02  3e-03  2e-02 0:25.8\n",
      "  200   1800 -3.998118141305447e-01 5.0e+01 3.46e-02  5e-03  3e-02 0:26.8\n",
      "  277   2493 -4.015927783087271e-01 1.1e+02 3.81e-03  2e-04  1e-03 0:35.9\n",
      "  300   2700 -4.022259562621399e-01 1.4e+02 3.66e-03  1e-04  1e-03 0:38.5\n",
      "  392   3528 -4.012939573718680e-01 6.0e+02 6.59e-03  2e-04  2e-03 0:49.7\n",
      "  400   3600 -3.997929384221587e-01 6.6e+02 8.64e-03  2e-04  2e-03 0:51.2\n",
      "  500   4500 -3.987517088428929e-01 8.5e+02 6.58e-04  1e-05  5e-05 1:03.3\n",
      "  570   5130 -4.086094618784417e-01 4.2e+03 5.52e-04  9e-06  4e-05 1:10.9\n"
     ]
    },
    {
     "name": "stderr",
     "output_type": "stream",
     "text": [
      "reconstraining parameters GP_regression.Mat52.lengthscale\n",
      "reconstraining parameters GP_regression.Mat52.variance\n",
      "reconstraining parameters GP_regression.Gaussian_noise.variance\n"
     ]
    },
    {
     "name": "stdout",
     "output_type": "stream",
     "text": [
      "termination on tolstagnation=263 (Sun Aug 23 12:25:31 2020)\n",
      "final/bestever f-value = -4.043680e-01 -4.091079e-01\n",
      "incumbent solution: [4.541449185177029e-06, 0.13503177575311281, 1.8418030995867796, 0.06431099659573314, 6.849530765471713, 11.954606945864716]\n",
      "std deviation: [9.385559058755631e-06, 3.453101601678419e-05, 4.247127631825061e-05, 1.2691035002434964e-05, 8.832252715724569e-06, 3.1968476341864413e-05]\n",
      "Optimization restart 1/10, f = 29.38221193398659\n",
      "Optimization restart 2/10, f = 61.93553676195335\n",
      "Optimization restart 3/10, f = 1548301.600693624\n",
      "Optimization restart 4/10, f = 43.98712640417045\n",
      "Optimization restart 5/10, f = 29.627604836058364\n",
      "Optimization restart 6/10, f = 39.957095336228406\n"
     ]
    },
    {
     "name": "stderr",
     "output_type": "stream",
     "text": [
      "reconstraining parameters GP_regression.Mat52.lengthscale\n",
      "reconstraining parameters GP_regression.Mat52.variance\n",
      "reconstraining parameters GP_regression.Gaussian_noise.variance\n"
     ]
    },
    {
     "name": "stdout",
     "output_type": "stream",
     "text": [
      "Optimization restart 7/10, f = 62.00292017474803\n",
      "Optimization restart 8/10, f = 206.93759423638502\n",
      "Optimization restart 9/10, f = 40.02742562804694\n",
      "Optimization restart 10/10, f = 43.98709787305423\n",
      "Optimization restart 1/10, f = 16.891559316844756\n",
      "Optimization restart 2/10, f = 39.39832263887047\n",
      "Optimization restart 3/10, f = 39.398331602525964\n",
      "Optimization restart 4/10, f = 14.959381457071695\n",
      "Optimization restart 5/10, f = 36.92192847856329\n",
      "Optimization restart 6/10, f = 47.91465190861183\n",
      "Optimization restart 7/10, f = 43.98709452934485\n",
      "Optimization restart 8/10, f = 43.987094529344844\n",
      "Optimization restart 9/10, f = 43.95840624941549\n",
      "Optimization restart 10/10, f = 43.98709452934485\n",
      "(4_w,9)-aCMA-ES (mu_w=2.8,w_1=49%) in dimension 6 (seed=308291, Sun Aug 23 12:25:33 2020)\n",
      "Iterat #Fevals   function value  axis ratio  sigma  min&max std  t[m:s]\n",
      "    1      9 2.256644987605824e-01 1.0e+00 2.41e-01  2e-01  2e-01 0:00.1\n",
      "    2     18 2.284069367085060e-01 1.3e+00 2.37e-01  2e-01  3e-01 0:00.2\n",
      "    3     27 2.256591177433574e-01 1.4e+00 2.61e-01  3e-01  3e-01 0:00.3\n",
      "   29    261 -7.717790330768949e-02 5.8e+00 4.49e-01  1e-01  7e-01 0:03.4\n",
      "   65    585 -4.380917870176726e-01 5.0e+01 1.14e+00  7e-02  3e+00 0:07.5\n",
      "  100    900 -5.105078756324188e-01 4.4e+01 3.44e-01  1e-02  3e-01 0:11.7\n",
      "  151   1359 -5.171172632803562e-01 7.8e+01 4.77e-02  9e-04  4e-02 0:17.7\n",
      "  200   1800 -5.153959460034370e-01 8.2e+01 8.71e-02  1e-03  6e-02 0:23.9\n",
      "  260   2340 -5.168740735380450e-01 7.5e+01 5.95e-02  5e-04  2e-02 0:31.9\n",
      "  300   2700 -5.159604715300736e-01 1.0e+02 2.46e-02  2e-04  8e-03 0:36.7\n",
      "  383   3447 -5.150493084417358e-01 2.7e+02 4.38e-03  4e-05  8e-04 0:46.8\n",
      "  400   3600 -5.179187691592396e-01 3.1e+02 3.16e-03  3e-05  4e-04 0:48.8\n",
      "  500   4500 -5.161350269889773e-01 9.8e+02 4.02e-03  5e-05  4e-04 1:00.7\n",
      "  515   4635 -5.155366724941174e-01 1.4e+03 7.90e-03  1e-04  8e-04 1:03.2\n"
     ]
    },
    {
     "name": "stderr",
     "output_type": "stream",
     "text": [
      "reconstraining parameters GP_regression.Mat52.lengthscale\n",
      "reconstraining parameters GP_regression.Mat52.variance\n",
      "reconstraining parameters GP_regression.Gaussian_noise.variance\n"
     ]
    },
    {
     "name": "stdout",
     "output_type": "stream",
     "text": [
      "termination on tolstagnation=263 (Sun Aug 23 12:26:37 2020)\n",
      "final/bestever f-value = -5.068630e-01 -5.208037e-01\n",
      "incumbent solution: [0.002769218911747373, 3.9994061285944906, 0.022532119502174392, 0.847793632768494, 3.8475701306621195, 0.0005058231454949522]\n",
      "std deviation: [0.00011115981738969128, 0.00041296653389412223, 0.0006809867067544354, 0.00014748799029137185, 0.0005251823088105185, 0.0008495633378170376]\n",
      "Optimization restart 1/10, f = 30.181280803773227\n",
      "Optimization restart 2/10, f = 45.406033337032326\n",
      "Optimization restart 3/10, f = 45.406033062549525\n",
      "Optimization restart 4/10, f = 209.38076431632857\n",
      "Optimization restart 5/10, f = 750336555.5705606\n",
      "Optimization restart 6/10, f = 30.823874243935116\n",
      "Optimization restart 7/10, f = 45.40610331178346\n",
      "Optimization restart 8/10, f = 58.977194854657846\n",
      "Optimization restart 9/10, f = 39.05354699022709\n",
      "Optimization restart 10/10, f = 199.65425840372234\n"
     ]
    },
    {
     "name": "stderr",
     "output_type": "stream",
     "text": [
      "reconstraining parameters GP_regression.Mat52.lengthscale\n",
      "reconstraining parameters GP_regression.Mat52.variance\n",
      "reconstraining parameters GP_regression.Gaussian_noise.variance\n"
     ]
    },
    {
     "name": "stdout",
     "output_type": "stream",
     "text": [
      "Optimization restart 1/10, f = 14.371500166174286\n",
      "Optimization restart 2/10, f = 42.586607278935105\n",
      "Optimization restart 3/10, f = 200.62494658880988\n",
      "Optimization restart 4/10, f = 16.576546873522048\n",
      "Optimization restart 5/10, f = 1598246.8136192253\n",
      "Optimization restart 6/10, f = 211.70903766779594\n",
      "Optimization restart 7/10, f = 17.95452001086759\n",
      "Optimization restart 8/10, f = 16.636229771859046\n",
      "Optimization restart 9/10, f = 44.34400453239831\n",
      "Optimization restart 10/10, f = 42.90365738151188\n",
      "(4_w,9)-aCMA-ES (mu_w=2.8,w_1=49%) in dimension 6 (seed=235193, Sun Aug 23 12:26:40 2020)\n",
      "Iterat #Fevals   function value  axis ratio  sigma  min&max std  t[m:s]\n",
      "    1      9 -1.888404514304063e-01 1.0e+00 2.53e-01  2e-01  3e-01 0:00.1\n",
      "    2     18 -1.869827180618241e-01 1.3e+00 2.77e-01  3e-01  3e-01 0:00.2\n",
      "    3     27 -2.052377305109212e-01 1.6e+00 2.45e-01  2e-01  3e-01 0:00.3\n",
      "   28    252 -2.760187757508984e-01 4.5e+00 9.81e-02  3e-02  1e-01 0:03.5\n",
      "   62    558 -2.820485790954452e-01 1.1e+01 3.60e-02  6e-03  4e-02 0:07.6\n",
      "  100    900 -2.787892051622898e-01 1.4e+01 7.69e-02  1e-02  8e-02 0:12.6\n",
      "  141   1269 -2.829841973013183e-01 2.4e+01 3.60e-02  4e-03  3e-02 0:18.7\n",
      "  196   1764 -2.815083550255492e-01 5.6e+01 3.37e-02  2e-03  3e-02 0:25.7\n",
      "  200   1800 -2.843423329701237e-01 5.9e+01 2.86e-02  2e-03  2e-02 0:26.2\n",
      "  265   2385 -2.845305582606613e-01 1.5e+02 1.59e-02  7e-04  1e-02 0:35.3\n",
      "  300   2700 -2.822915909682980e-01 1.9e+02 1.63e-02  6e-04  8e-03 0:39.9\n",
      "  387   3483 -2.814336721843400e-01 3.5e+02 7.88e-02  2e-03  3e-02 0:51.0\n",
      "  400   3600 -2.830071737625448e-01 3.8e+02 7.33e-02  1e-03  2e-02 0:52.8\n",
      "  494   4446 -2.828259973843615e-01 5.1e+02 2.45e-01  2e-03  3e-02 1:05.8\n",
      "  500   4500 -2.816011769181025e-01 5.5e+02 2.26e-01  2e-03  3e-02 1:06.5\n",
      "  505   4545 -2.812705289912014e-01 5.9e+02 2.67e-01  3e-03  4e-02 1:07.1\n"
     ]
    },
    {
     "name": "stderr",
     "output_type": "stream",
     "text": [
      "reconstraining parameters GP_regression.Mat52.lengthscale\n",
      "reconstraining parameters GP_regression.Mat52.variance\n",
      "reconstraining parameters GP_regression.Gaussian_noise.variance\n"
     ]
    },
    {
     "name": "stdout",
     "output_type": "stream",
     "text": [
      "termination on tolstagnation=263 (Sun Aug 23 12:27:48 2020)\n",
      "final/bestever f-value = -2.783210e-01 -2.860373e-01\n",
      "incumbent solution: [0.9340276082860197, 3.22124588290147, 1.956173795654354, 2.6808380051072294, 5.713307382153024, 0.08085260845759346]\n",
      "std deviation: [0.004171610495515655, 0.00273641034398841, 0.0073040945662025, 0.03708927981830347, 0.020632574973797328, 0.0321139517264315]\n",
      "Optimization restart 1/10, f = 30.79741209734732\n",
      "Optimization restart 2/10, f = 1648192.0265448252\n",
      "Optimization restart 3/10, f = 30.797412097364873\n",
      "Optimization restart 4/10, f = 761061608.859555\n",
      "Optimization restart 5/10, f = 68.20998667393128\n",
      "Optimization restart 6/10, f = 46.40741062322516\n",
      "Optimization restart 7/10, f = 75.4138930677158\n",
      "Optimization restart 8/10, f = 46.82498214482992\n",
      "Optimization restart 9/10, f = 76.27443764646769\n"
     ]
    },
    {
     "name": "stderr",
     "output_type": "stream",
     "text": [
      "reconstraining parameters GP_regression.Mat52.lengthscale\n",
      "reconstraining parameters GP_regression.Mat52.variance\n",
      "reconstraining parameters GP_regression.Gaussian_noise.variance\n"
     ]
    },
    {
     "name": "stdout",
     "output_type": "stream",
     "text": [
      "Optimization restart 10/10, f = 32.41847824092641\n",
      "Optimization restart 1/10, f = 14.806444121160752\n",
      "Optimization restart 2/10, f = 46.82497159575645\n",
      "Optimization restart 3/10, f = 44.36252800377184\n",
      "Optimization restart 4/10, f = 39.431585873980495\n",
      "Optimization restart 5/10, f = 220.28840676776463\n",
      "Optimization restart 6/10, f = 39.431670993048584\n",
      "Optimization restart 7/10, f = 14.806444001110396\n",
      "Optimization restart 8/10, f = 218.40875851017486\n",
      "Optimization restart 9/10, f = 46.824971612174146\n",
      "Optimization restart 10/10, f = 50.137697752594626\n",
      "(4_w,9)-aCMA-ES (mu_w=2.8,w_1=49%) in dimension 6 (seed=302575, Sun Aug 23 12:27:50 2020)\n",
      "Iterat #Fevals   function value  axis ratio  sigma  min&max std  t[m:s]\n",
      "    1      9 1.470826715025123e-01 1.0e+00 2.28e-01  2e-01  2e-01 0:00.1\n",
      "    2     18 1.270895305760806e-01 1.2e+00 2.28e-01  2e-01  2e-01 0:00.2\n",
      "    3     27 1.374017218484448e-01 1.3e+00 2.31e-01  2e-01  2e-01 0:00.3\n",
      "   26    234 -2.334221560049771e-01 7.9e+00 9.35e-01  3e-01  2e+00 0:03.5\n",
      "   55    495 -2.915806178505396e-01 2.2e+01 2.09e-01  3e-02  3e-01 0:07.5\n",
      "   90    810 -2.939825300672896e-01 3.9e+01 5.46e-02  5e-03  6e-02 0:12.6\n",
      "  100    900 -2.943917476500884e-01 3.9e+01 4.74e-02  4e-03  5e-02 0:13.9\n",
      "  156   1404 -2.952789009490215e-01 4.7e+01 2.77e-02  2e-03  2e-02 0:21.0\n",
      "  200   1800 -2.939469387814170e-01 9.2e+01 1.26e-02  5e-04  1e-02 0:27.1\n",
      "  272   2448 -2.938598412901715e-01 3.3e+02 2.50e-02  3e-04  3e-02 0:36.1\n",
      "  300   2700 -2.936403476710173e-01 4.6e+02 5.38e-02  4e-04  5e-02 0:39.7\n",
      "  375   3375 -2.954068271626402e-01 1.1e+03 4.54e-02  1e-04  3e-02 0:50.8\n",
      "  400   3600 -2.937308927976264e-01 1.2e+03 8.12e-02  3e-04  5e-02 0:54.2\n",
      "  498   4482 -2.952114481167209e-01 1.3e+04 3.40e-02  9e-05  2e-02 1:07.3\n",
      "  500   4500 -2.942032715065987e-01 1.1e+04 3.30e-02  8e-05  2e-02 1:07.6\n",
      "  600   5400 -2.940061427110877e-01 3.6e+04 1.32e-02  1e-05  5e-03 1:22.4\n",
      "  700   6300 -2.944963614439619e-01 7.9e+04 8.47e-03  4e-06  2e-03 1:36.5\n",
      "  710   6390 -2.942162428256938e-01 1.3e+05 4.85e-03  3e-06  1e-03 1:38.0\n"
     ]
    },
    {
     "name": "stderr",
     "output_type": "stream",
     "text": [
      "reconstraining parameters GP_regression.Mat52.lengthscale\n",
      "reconstraining parameters GP_regression.Mat52.variance\n",
      "reconstraining parameters GP_regression.Gaussian_noise.variance\n"
     ]
    },
    {
     "name": "stdout",
     "output_type": "stream",
     "text": [
      "termination on tolstagnation=263 (Sun Aug 23 12:29:29 2020)\n",
      "final/bestever f-value = -2.908877e-01 -2.972464e-01\n",
      "incumbent solution: [0.47747034867068505, 1.750430762465403, 5.524398166867847, 3.813783047044953, 6.037987229883692, 0.0011466977896231]\n",
      "std deviation: [2.463362784753271e-05, 2.749427929037917e-06, 7.411228375662526e-05, 0.0007230448091749528, 0.0010624497985865361, 6.111895460284499e-05]\n",
      "Optimization restart 1/10, f = 33.592207920317044\n",
      "Optimization restart 2/10, f = 31.663670472349548\n",
      "Optimization restart 3/10, f = 48.24391012895896\n",
      "Optimization restart 4/10, f = 46.83889303827261\n",
      "Optimization restart 5/10, f = 35.00911499116455\n",
      "Optimization restart 6/10, f = 56.71888455564084\n",
      "Optimization restart 7/10, f = 33.70535802574841\n",
      "Optimization restart 8/10, f = 43.386909894855165\n"
     ]
    },
    {
     "name": "stderr",
     "output_type": "stream",
     "text": [
      "reconstraining parameters GP_regression.Mat52.lengthscale\n",
      "reconstraining parameters GP_regression.Mat52.variance\n",
      "reconstraining parameters GP_regression.Gaussian_noise.variance\n"
     ]
    },
    {
     "name": "stdout",
     "output_type": "stream",
     "text": [
      "Optimization restart 9/10, f = 47.93830978354117\n",
      "Optimization restart 10/10, f = 41.900338239383004\n",
      "Optimization restart 1/10, f = 15.444631429950245\n",
      "Optimization restart 2/10, f = 43.199733889624056\n",
      "Optimization restart 3/10, f = 48.24391020851451\n",
      "Optimization restart 4/10, f = 22.082959983439647\n",
      "Optimization restart 5/10, f = 48.24387871178241\n",
      "Optimization restart 6/10, f = 995572340.5035936\n",
      "Optimization restart 7/10, f = 16.19777653728291\n",
      "Optimization restart 8/10, f = 48.243910128959016\n",
      "Optimization restart 9/10, f = 45.19904462647634\n",
      "Optimization restart 10/10, f = 48.20849647110367\n",
      "(4_w,9)-aCMA-ES (mu_w=2.8,w_1=49%) in dimension 6 (seed=262960, Sun Aug 23 12:29:32 2020)\n",
      "Iterat #Fevals   function value  axis ratio  sigma  min&max std  t[m:s]\n",
      "    1      9 -4.893589996767141e-02 1.0e+00 2.48e-01  2e-01  3e-01 0:00.1\n",
      "    2     18 -6.706649770153340e-02 1.3e+00 2.76e-01  2e-01  3e-01 0:00.2\n",
      "    3     27 -1.451519274604945e-01 1.5e+00 2.99e-01  3e-01  4e-01 0:00.4\n",
      "   26    234 -2.308517734624723e-01 9.1e+00 2.27e-01  5e-02  3e-01 0:03.4\n",
      "   59    531 -3.441411604252892e-01 4.1e+01 2.60e-01  1e-02  5e-01 0:07.5\n",
      "   98    882 -3.461302749608317e-01 5.0e+01 5.71e-02  2e-03  8e-02 0:12.5\n",
      "  100    900 -3.480815825364572e-01 5.1e+01 6.51e-02  3e-03  1e-01 0:12.8\n",
      "  152   1368 -3.444679761465488e-01 6.5e+01 2.19e-01  6e-03  2e-01 0:19.8\n",
      "  200   1800 -3.513839958686242e-01 8.4e+01 2.29e-01  4e-03  2e-01 0:26.2\n",
      "  268   2412 -3.487246051264186e-01 2.7e+02 1.11e-01  1e-03  8e-02 0:35.2\n",
      "  300   2700 -3.521476394298895e-01 2.3e+02 5.75e-02  6e-04  3e-02 0:39.8\n",
      "  383   3447 -3.462421436888099e-01 6.3e+02 5.37e-02  3e-04  2e-02 0:50.8\n",
      "  400   3600 -3.482133028814938e-01 5.2e+02 5.57e-02  3e-04  2e-02 0:53.0\n",
      "  492   4428 -3.465810443410611e-01 5.9e+02 2.76e-02  1e-04  4e-03 1:06.0\n",
      "  500   4500 -3.474523655694892e-01 6.5e+02 2.19e-02  9e-05  3e-03 1:07.2\n",
      "  575   5175 -3.495433083382327e-01 3.5e+03 1.19e-01  4e-04  2e-02 1:18.3\n"
     ]
    },
    {
     "name": "stderr",
     "output_type": "stream",
     "text": [
      "reconstraining parameters GP_regression.Mat52.lengthscale\n",
      "reconstraining parameters GP_regression.Mat52.variance\n",
      "reconstraining parameters GP_regression.Gaussian_noise.variance\n"
     ]
    },
    {
     "name": "stdout",
     "output_type": "stream",
     "text": [
      "termination on tolstagnation=263 (Sun Aug 23 12:30:52 2020)\n",
      "final/bestever f-value = -3.459368e-01 -3.527581e-01\n",
      "incumbent solution: [1.3718366603451706, 0.7040928684557188, 3.0685648561493832, 1.5182279243721233, 1.2799596423391768, 6.291654015892227]\n",
      "std deviation: [0.0003749348491569419, 0.0021054973883492933, 0.005411185527012212, 0.020096019896041453, 0.014083690178749542, 0.009434937203454482]\n",
      "Optimization restart 1/10, f = 32.59230387394425\n",
      "Optimization restart 2/10, f = 38.40175621821301\n",
      "Optimization restart 3/10, f = 830067176.7244964\n",
      "Optimization restart 4/10, f = 49.60662782502351\n",
      "Optimization restart 5/10, f = 49.35787344991629\n",
      "Optimization restart 6/10, f = 49.66284866216702\n",
      "Optimization restart 7/10, f = 233.63921929914432\n",
      "Optimization restart 8/10, f = 49.662848662163555\n",
      "Optimization restart 9/10, f = 43.28648824054118\n"
     ]
    },
    {
     "name": "stderr",
     "output_type": "stream",
     "text": [
      "reconstraining parameters GP_regression.Mat52.lengthscale\n",
      "reconstraining parameters GP_regression.Mat52.variance\n",
      "reconstraining parameters GP_regression.Gaussian_noise.variance\n"
     ]
    },
    {
     "name": "stdout",
     "output_type": "stream",
     "text": [
      "Optimization restart 10/10, f = 37.69543857731197\n",
      "Optimization restart 1/10, f = 15.762409244051792\n",
      "Optimization restart 2/10, f = 45.946645264327536\n",
      "Optimization restart 3/10, f = 22.671695889249193\n",
      "Optimization restart 4/10, f = 231.61394560732214\n",
      "Optimization restart 5/10, f = 49.62422738582052\n",
      "Optimization restart 6/10, f = 233.63921929914432\n",
      "Optimization restart 7/10, f = 42.31229333191152\n",
      "Optimization restart 8/10, f = 212.33085709922787\n",
      "Optimization restart 9/10, f = 49.624227385659644\n",
      "Optimization restart 10/10, f = 16.868494781439157\n",
      "(4_w,9)-aCMA-ES (mu_w=2.8,w_1=49%) in dimension 6 (seed=255338, Sun Aug 23 12:30:56 2020)\n",
      "Iterat #Fevals   function value  axis ratio  sigma  min&max std  t[m:s]\n",
      "    1      9 3.922684715626999e-02 1.0e+00 2.63e-01  3e-01  3e-01 0:00.1\n",
      "    2     18 4.632534541122292e-02 1.4e+00 2.82e-01  3e-01  3e-01 0:00.3\n",
      "    3     27 3.411250528224516e-02 1.6e+00 2.78e-01  3e-01  3e-01 0:00.4\n",
      "   19    171 1.114426430280734e-02 3.1e+00 2.60e-01  1e-01  3e-01 0:03.5\n",
      "   42    378 1.110597903213838e-02 6.0e+00 7.92e-02  2e-02  1e-01 0:07.5\n",
      "   72    648 -2.114442631226073e-03 9.0e+00 1.18e-01  2e-02  1e-01 0:12.6\n",
      "  100    900 5.858262670111325e-03 1.0e+01 5.79e-02  8e-03  5e-02 0:17.5\n",
      "  149   1341 1.766144555208666e-03 2.6e+01 1.10e-01  2e-02  1e-01 0:24.6\n",
      "  200   1800 5.024899092347507e-03 6.2e+01 1.42e-01  2e-02  2e-01 0:31.6\n",
      "  262   2358 6.632406677380975e-03 2.1e+02 1.27e-01  8e-03  1e-01 0:40.7\n",
      "  300   2700 2.278655860383167e-03 1.7e+02 3.47e-02  1e-03  1e-02 0:45.8\n",
      "  377   3393 -6.083161332265679e-05 5.4e+02 1.39e-02  6e-04  4e-03 0:56.9\n",
      "  400   3600 1.281082871364723e-03 1.1e+03 6.04e-03  2e-04  2e-03 0:59.9\n",
      "  499   4491 5.557233140514508e-03 6.1e+03 2.29e-02  1e-03  7e-03 1:12.9\n",
      "  500   4500 1.051258497903068e-03 5.9e+03 2.64e-02  1e-03  8e-03 1:13.1\n",
      "  585   5265 6.493055173585538e-03 7.5e+03 2.96e-02  7e-04  5e-03 1:28.3\n",
      "  590   5310 -1.074729232459549e-03 8.2e+03 2.80e-02  6e-04  4e-03 1:29.3\n"
     ]
    },
    {
     "name": "stderr",
     "output_type": "stream",
     "text": [
      "reconstraining parameters GP_regression.Mat52.lengthscale\n",
      "reconstraining parameters GP_regression.Mat52.variance\n",
      "reconstraining parameters GP_regression.Gaussian_noise.variance\n"
     ]
    },
    {
     "name": "stdout",
     "output_type": "stream",
     "text": [
      "termination on tolstagnation=263 (Sun Aug 23 12:32:26 2020)\n",
      "final/bestever f-value = 1.393390e-02 -4.126624e-03\n",
      "incumbent solution: [1.9982318222198139, 3.998359467545835, 5.970090644093971, 4.157876479004352, 9.99682745463517, 7.552070441068613]\n",
      "std deviation: [0.0005766971803025284, 0.0012832390879734575, 0.0033796446968857316, 0.0014845354097183668, 0.004103993654015208, 0.0019181442024485918]\n",
      "Optimization restart 1/10, f = 33.61549290955435\n",
      "Optimization restart 2/10, f = 51.08178723454526\n",
      "Optimization restart 3/10, f = 50.59088090763997\n",
      "Optimization restart 4/10, f = 85.7901847280508\n",
      "Optimization restart 5/10, f = 42.018963948587114\n",
      "Optimization restart 6/10, f = 38.08483390107874\n",
      "Optimization restart 7/10, f = 43.31693433760887\n",
      "Optimization restart 8/10, f = 51.08178719536966\n"
     ]
    },
    {
     "name": "stderr",
     "output_type": "stream",
     "text": [
      "reconstraining parameters GP_regression.Mat52.lengthscale\n",
      "reconstraining parameters GP_regression.Mat52.variance\n",
      "reconstraining parameters GP_regression.Gaussian_noise.variance\n"
     ]
    },
    {
     "name": "stdout",
     "output_type": "stream",
     "text": [
      "Optimization restart 9/10, f = 47.4137418747274\n",
      "Optimization restart 10/10, f = 47.413585488593085\n",
      "Optimization restart 1/10, f = 17.40453550493243\n",
      "Optimization restart 2/10, f = 45.955584573487265\n",
      "Optimization restart 3/10, f = 51.08178719536821\n",
      "Optimization restart 4/10, f = 18.02551501323481\n",
      "Optimization restart 5/10, f = 51.0817871953683\n",
      "Optimization restart 6/10, f = 51.08178751198398\n",
      "Optimization restart 7/10, f = 240.31462556483416\n",
      "Optimization restart 8/10, f = 18.025497972736318\n",
      "Optimization restart 9/10, f = 1798027.6653216279\n",
      "Optimization restart 10/10, f = 21.2973280982332\n",
      "(4_w,9)-aCMA-ES (mu_w=2.8,w_1=49%) in dimension 6 (seed=317349, Sun Aug 23 12:32:30 2020)\n",
      "Iterat #Fevals   function value  axis ratio  sigma  min&max std  t[m:s]\n",
      "    1      9 -7.213104484177031e-02 1.0e+00 2.48e-01  2e-01  3e-01 0:00.2\n",
      "    2     18 -1.063100508286353e-01 1.3e+00 2.91e-01  3e-01  3e-01 0:00.4\n",
      "    3     27 -1.131507712712301e-01 1.7e+00 2.82e-01  3e-01  3e-01 0:00.6\n",
      "   24    216 -1.708841311775864e-01 4.1e+00 1.40e-01  5e-02  2e-01 0:03.7\n",
      "   49    441 -2.330544332871879e-01 1.1e+01 5.17e-01  8e-02  7e-01 0:07.7\n",
      "   85    765 -2.466307455297109e-01 1.8e+01 4.45e-02  3e-03  4e-02 0:12.8\n",
      "  100    900 -2.452362052970389e-01 1.9e+01 7.13e-02  5e-03  7e-02 0:14.8\n",
      "  148   1332 -2.459235512100544e-01 2.1e+01 9.03e-02  3e-03  5e-02 0:21.8\n",
      "  200   1800 -2.447631603780485e-01 3.7e+01 2.74e-02  5e-04  1e-02 0:28.6\n",
      "  268   2412 -2.464008927688462e-01 7.3e+01 2.93e-03  3e-05  7e-04 0:37.7\n",
      "  300   2700 -2.452063785530420e-01 9.4e+01 2.82e-03  2e-05  5e-04 0:42.1\n",
      "  383   3447 -2.447285688965785e-01 1.3e+02 3.86e-02  3e-04  5e-03 0:53.2\n",
      "  400   3600 -2.450012909668236e-01 1.3e+02 2.08e-02  1e-04  2e-03 0:55.4\n",
      "  498   4482 -2.455860446923447e-01 8.2e+02 2.63e-02  2e-04  3e-03 1:08.5\n",
      "  500   4500 -2.451639876167525e-01 8.3e+02 2.47e-02  2e-04  3e-03 1:08.8\n",
      "  505   4545 -2.449819310074147e-01 1.1e+03 3.15e-02  3e-04  6e-03 1:09.5\n"
     ]
    },
    {
     "name": "stderr",
     "output_type": "stream",
     "text": [
      "reconstraining parameters GP_regression.Mat52.lengthscale\n",
      "reconstraining parameters GP_regression.Mat52.variance\n",
      "reconstraining parameters GP_regression.Gaussian_noise.variance\n"
     ]
    },
    {
     "name": "stdout",
     "output_type": "stream",
     "text": [
      "termination on tolstagnation=263 (Sun Aug 23 12:33:41 2020)\n",
      "final/bestever f-value = -2.448475e-01 -2.476389e-01\n",
      "incumbent solution: [1.1107295804297843, 3.1871556431900965, 1.7978577487870488, 0.014079816155918995, 4.842376759655238, 7.360548495130333]\n",
      "std deviation: [0.0003184706192315588, 0.000345856332107073, 0.005498272186031989, 0.004080779135759918, 0.0057640148358412665, 0.004346923401053422]\n",
      "Optimization restart 1/10, f = 36.94509642508784\n",
      "Optimization restart 2/10, f = 37.67664289473328\n",
      "Optimization restart 3/10, f = 52.50072628773813\n",
      "Optimization restart 4/10, f = 52.500725728601225\n",
      "Optimization restart 5/10, f = 36.9450953598133\n",
      "Optimization restart 6/10, f = 52.500725728572895\n",
      "Optimization restart 7/10, f = 246.990031830524\n",
      "Optimization restart 8/10, f = 886728480.431775\n"
     ]
    },
    {
     "name": "stderr",
     "output_type": "stream",
     "text": [
      "reconstraining parameters GP_regression.Mat52.lengthscale\n",
      "reconstraining parameters GP_regression.Mat52.variance\n",
      "reconstraining parameters GP_regression.Gaussian_noise.variance\n"
     ]
    },
    {
     "name": "stdout",
     "output_type": "stream",
     "text": [
      "Optimization restart 9/10, f = 211.89818077253187\n",
      "Optimization restart 10/10, f = 61.89600677348691\n",
      "Optimization restart 1/10, f = 17.85145710788344\n",
      "Optimization restart 2/10, f = 48.427127473624445\n",
      "Optimization restart 3/10, f = 57.71973165992696\n",
      "Optimization restart 4/10, f = 246.990031830524\n",
      "Optimization restart 5/10, f = 70.33572496687877\n",
      "Optimization restart 6/10, f = 21.515097763202157\n",
      "Optimization restart 7/10, f = 48.67966491025295\n",
      "Optimization restart 8/10, f = 28.614097533055716\n",
      "Optimization restart 9/10, f = 90.95589115200727\n",
      "Optimization restart 10/10, f = 61.266656521342064\n",
      "(4_w,9)-aCMA-ES (mu_w=2.8,w_1=49%) in dimension 6 (seed=223467, Sun Aug 23 12:33:44 2020)\n",
      "Iterat #Fevals   function value  axis ratio  sigma  min&max std  t[m:s]\n",
      "    1      9 5.171881646155967e-02 1.0e+00 2.50e-01  2e-01  3e-01 0:00.1\n",
      "    2     18 9.269723935845096e-02 1.3e+00 2.80e-01  3e-01  3e-01 0:00.3\n",
      "    3     27 4.101732209428506e-03 1.5e+00 2.78e-01  3e-01  3e-01 0:00.5\n",
      "   25    225 -1.265537447310223e-01 4.3e+00 2.51e-01  1e-01  3e-01 0:03.6\n",
      "   53    477 -1.397468709096316e-01 1.3e+01 1.01e-01  1e-02  1e-01 0:07.6\n",
      "   88    792 -1.402187801970386e-01 1.9e+01 3.90e-02  3e-03  4e-02 0:12.7\n",
      "  100    900 -1.406128581138797e-01 2.2e+01 3.90e-02  3e-03  4e-02 0:14.4\n",
      "  149   1341 -1.411975240417486e-01 2.5e+01 1.61e-02  8e-04  1e-02 0:21.4\n",
      "  200   1800 -1.403755782817390e-01 3.5e+01 2.17e-03  6e-05  7e-04 0:28.6\n",
      "  264   2376 -1.408518223716249e-01 1.0e+02 9.27e-03  2e-04  3e-03 0:37.7\n",
      "  300   2700 -1.406440784713012e-01 1.7e+02 4.48e-03  1e-04  2e-03 0:42.7\n",
      "  376   3384 -1.408396286083745e-01 2.1e+02 6.76e-03  1e-04  2e-03 0:53.8\n",
      "  400   3600 -1.416060648348938e-01 2.3e+02 9.09e-03  2e-04  2e-03 0:57.1\n",
      "  491   4419 -1.402612591697566e-01 5.6e+02 4.09e-03  6e-05  8e-04 1:10.1\n",
      "  500   4500 -1.403163008916137e-01 4.5e+02 3.58e-03  4e-05  6e-04 1:11.3\n",
      "  530   4770 -1.414839323968338e-01 5.5e+02 1.08e-02  1e-04  1e-03 1:15.5\n"
     ]
    },
    {
     "name": "stderr",
     "output_type": "stream",
     "text": [
      "reconstraining parameters GP_regression.Mat52.lengthscale\n",
      "reconstraining parameters GP_regression.Mat52.variance\n",
      "reconstraining parameters GP_regression.Gaussian_noise.variance\n"
     ]
    },
    {
     "name": "stdout",
     "output_type": "stream",
     "text": [
      "termination on tolstagnation=263 (Sun Aug 23 12:35:00 2020)\n",
      "final/bestever f-value = -1.385094e-01 -1.422735e-01\n",
      "incumbent solution: [0.6641289245074213, 1.6118126895971252, 1.695100974182072, 2.876533012751272, 6.029553812549994, 5.36544660910083]\n",
      "std deviation: [0.00022402258417413663, 0.0001108101953438899, 0.0009463002858562165, 0.001332704523571323, 0.0011596683333033066, 0.0007693484978704255]\n",
      "Optimization restart 1/10, f = 35.83353483120764\n",
      "Optimization restart 2/10, f = 68.50004746574743\n",
      "Optimization restart 3/10, f = 53.91967224116162\n",
      "Optimization restart 4/10, f = 39.40433928990871\n",
      "Optimization restart 5/10, f = 38.507003062799406\n",
      "Optimization restart 6/10, f = 50.31486387743716\n",
      "Optimization restart 7/10, f = 253.66543809621388\n",
      "Optimization restart 8/10, f = 53.91966426177758\n",
      "Optimization restart 9/10, f = 50.64301502241228\n"
     ]
    },
    {
     "name": "stderr",
     "output_type": "stream",
     "text": [
      "reconstraining parameters GP_regression.Mat52.lengthscale\n",
      "reconstraining parameters GP_regression.Mat52.variance\n",
      "reconstraining parameters GP_regression.Gaussian_noise.variance\n"
     ]
    },
    {
     "name": "stdout",
     "output_type": "stream",
     "text": [
      "Optimization restart 10/10, f = 62.95393555190715\n",
      "Optimization restart 1/10, f = 17.62817697724141\n",
      "Optimization restart 2/10, f = 53.88607409313427\n",
      "Optimization restart 3/10, f = 52.311642007244785\n",
      "Optimization restart 4/10, f = 17.734419365817484\n",
      "Optimization restart 5/10, f = 24.668133255450726\n",
      "Optimization restart 6/10, f = 50.27353398656851\n",
      "Optimization restart 7/10, f = 53.91966433905303\n",
      "Optimization restart 8/10, f = 53.91966462332339\n",
      "Optimization restart 9/10, f = 46.25239999861196\n",
      "Optimization restart 10/10, f = 46.51005246416199\n",
      "(4_w,9)-aCMA-ES (mu_w=2.8,w_1=49%) in dimension 6 (seed=219680, Sun Aug 23 12:35:03 2020)\n",
      "Iterat #Fevals   function value  axis ratio  sigma  min&max std  t[m:s]\n",
      "    1      9 1.776682454867806e-01 1.0e+00 2.45e-01  2e-01  3e-01 0:00.1\n",
      "    2     18 1.081444342935630e-01 1.3e+00 2.56e-01  2e-01  3e-01 0:00.3\n",
      "    3     27 -6.123914629736930e-02 1.5e+00 2.79e-01  3e-01  3e-01 0:00.5\n",
      "   24    216 -1.196064556568041e-01 3.8e+00 1.55e-01  5e-02  2e-01 0:03.6\n",
      "   50    450 -1.452291229610921e-01 8.4e+00 5.42e-02  8e-03  6e-02 0:07.6\n",
      "   85    765 -1.443657682556689e-01 2.8e+01 5.57e-02  5e-03  8e-02 0:12.7\n",
      "  100    900 -1.460586848214755e-01 3.1e+01 7.07e-02  5e-03  9e-02 0:14.9\n",
      "  148   1332 -1.459536101497811e-01 1.8e+01 4.54e-02  3e-03  2e-02 0:22.0\n",
      "  200   1800 -1.461114913542531e-01 3.7e+01 7.08e-02  3e-03  4e-02 0:29.7\n",
      "  260   2340 -1.467059301002999e-01 6.3e+01 5.13e-02  1e-03  2e-02 0:38.7\n",
      "  300   2700 -1.451963222004089e-01 1.1e+02 8.53e-02  2e-03  4e-02 0:44.4\n",
      "  372   3348 -1.458974084388457e-01 1.5e+02 3.00e-02  4e-04  8e-03 0:55.6\n",
      "  400   3600 -1.465248402612193e-01 1.8e+02 2.71e-02  3e-04  6e-03 1:00.2\n",
      "  484   4356 -1.467262022825389e-01 3.0e+02 1.80e-02  7e-05  2e-03 1:13.3\n",
      "  500   4500 -1.460820853766485e-01 3.0e+02 1.40e-02  5e-05  2e-03 1:15.6\n",
      "  599   5391 -1.461865496570852e-01 5.1e+02 5.48e-03  1e-05  5e-04 1:30.7\n",
      "  600   5400 -1.467648240099319e-01 5.1e+02 5.13e-03  1e-05  4e-04 1:30.9\n",
      "  700   6300 -1.463852625658439e-01 1.9e+03 4.24e-03  4e-06  3e-04 1:47.1\n",
      "  800   7200 -1.460504478581649e-01 3.5e+03 1.40e-03  1e-06  5e-05 2:04.1\n",
      "  820   7380 -1.463194001903659e-01 3.8e+03 1.88e-03  1e-06  5e-05 2:09.2\n"
     ]
    },
    {
     "name": "stderr",
     "output_type": "stream",
     "text": [
      "reconstraining parameters GP_regression.Mat52.lengthscale\n"
     ]
    },
    {
     "name": "stdout",
     "output_type": "stream",
     "text": [
      "termination on tolstagnation=263 (Sun Aug 23 12:37:14 2020)\n",
      "final/bestever f-value = -1.442740e-01 -1.477146e-01\n",
      "incumbent solution: [0.5855364543428639, 1.559708767990665, 1.2813513641998957, 0.0006275027962775149, 4.927063907535329, 5.190265941953674]\n",
      "std deviation: [3.2757316808838102e-06, 1.1208715817057947e-06, 4.902720368324335e-05, 8.414370738996443e-06, 8.16854067712657e-06, 2.7407923649820365e-05]\n"
     ]
    },
    {
     "name": "stderr",
     "output_type": "stream",
     "text": [
      "reconstraining parameters GP_regression.Mat52.variance\n",
      "reconstraining parameters GP_regression.Gaussian_noise.variance\n"
     ]
    },
    {
     "name": "stdout",
     "output_type": "stream",
     "text": [
      "Optimization restart 1/10, f = 40.846434627341495\n",
      "Optimization restart 2/10, f = 89.17765721968169\n",
      "Optimization restart 3/10, f = 55.338602906147536\n",
      "Optimization restart 4/10, f = 55.33860279498222\n",
      "Optimization restart 5/10, f = 84.03996649398945\n",
      "Optimization restart 6/10, f = 41.251737493052104\n",
      "Optimization restart 7/10, f = 260.34084436190375\n",
      "Optimization restart 8/10, f = 935988915.6594331\n",
      "Optimization restart 9/10, f = 55.33860279498222\n"
     ]
    },
    {
     "name": "stderr",
     "output_type": "stream",
     "text": [
      "reconstraining parameters GP_regression.Mat52.lengthscale\n",
      "reconstraining parameters GP_regression.Mat52.variance\n",
      "reconstraining parameters GP_regression.Gaussian_noise.variance\n"
     ]
    },
    {
     "name": "stdout",
     "output_type": "stream",
     "text": [
      "Optimization restart 10/10, f = 55.21148293267308\n",
      "Optimization restart 1/10, f = 20.23150637941557\n",
      "Optimization restart 2/10, f = 108.12018928488156\n",
      "Optimization restart 3/10, f = 65.90389700658419\n",
      "Optimization restart 4/10, f = 25.565252994711045\n",
      "Optimization restart 5/10, f = 72.121217873966\n",
      "Optimization restart 6/10, f = 52.178594862417356\n",
      "Optimization restart 7/10, f = 75.09738918147625\n",
      "Optimization restart 8/10, f = 24.128014328996944\n",
      "Optimization restart 9/10, f = 46.53032889417709\n",
      "Optimization restart 10/10, f = 65.90389726331767\n",
      "(4_w,9)-aCMA-ES (mu_w=2.8,w_1=49%) in dimension 6 (seed=239856, Sun Aug 23 12:37:31 2020)\n",
      "Iterat #Fevals   function value  axis ratio  sigma  min&max std  t[m:s]\n",
      "    1      9 7.584730649166475e-02 1.0e+00 2.39e-01  2e-01  3e-01 0:00.5\n",
      "    2     18 1.052770800649609e-02 1.2e+00 2.62e-01  2e-01  3e-01 0:00.9\n",
      "    3     27 3.147851625765255e-02 1.4e+00 2.56e-01  2e-01  3e-01 0:01.3\n",
      "   11     99 -1.692748645298737e-03 2.2e+00 1.89e-01  1e-01  2e-01 0:04.4\n",
      "   31    279 -8.508533023392478e-02 1.3e+01 3.17e-01  6e-02  6e-01 0:08.5\n",
      "   56    504 -2.010334762586134e-01 3.0e+01 1.84e-01  2e-02  3e-01 0:13.7\n",
      "   92    828 -2.067739304194134e-01 4.2e+01 8.57e-02  4e-03  1e-01 0:19.7\n",
      "  100    900 -2.091544039688128e-01 4.3e+01 6.10e-02  3e-03  7e-02 0:22.2\n",
      "  140   1260 -2.073503303586646e-01 4.2e+01 2.07e-02  8e-04  1e-02 0:30.3\n",
      "  187   1683 -2.073787364671082e-01 4.4e+01 1.08e-02  2e-04  5e-03 0:39.4\n",
      "  200   1800 -2.083916500672539e-01 5.0e+01 1.34e-02  2e-04  6e-03 0:41.6\n",
      "  267   2403 -2.093946477177245e-01 1.9e+02 3.86e-03  6e-05  2e-03 0:52.7\n",
      "  300   2700 -2.085607550273660e-01 2.7e+02 1.67e-03  2e-05  7e-04 0:58.4\n",
      "  381   3429 -2.077463724213315e-01 8.9e+02 1.06e-03  1e-05  5e-04 1:11.4\n",
      "  400   3600 -2.098904441532821e-01 1.2e+03 2.49e-04  3e-06  1e-04 1:16.0\n",
      "  470   4230 -2.079769830740450e-01 4.5e+03 1.20e-03  1e-05  4e-04 1:31.0\n",
      "  500   4500 -2.104502323871931e-01 4.1e+03 1.30e-03  1e-05  3e-04 1:37.0\n",
      "  581   5229 -2.087103034090274e-01 2.9e+04 2.76e-03  4e-05  8e-04 1:54.0\n",
      "  600   5400 -2.080864158949014e-01 3.4e+04 3.73e-03  5e-05  1e-03 1:57.9\n",
      "  690   6210 -2.076417602601443e-01 5.2e+04 3.24e-03  2e-05  6e-04 2:14.0\n"
     ]
    },
    {
     "name": "stderr",
     "output_type": "stream",
     "text": [
      "reconstraining parameters GP_regression.Mat52.lengthscale\n",
      "reconstraining parameters GP_regression.Mat52.variance\n",
      "reconstraining parameters GP_regression.Gaussian_noise.variance\n"
     ]
    },
    {
     "name": "stdout",
     "output_type": "stream",
     "text": [
      "termination on tolstagnation=263 (Sun Aug 23 12:39:46 2020)\n",
      "final/bestever f-value = -2.031219e-01 -2.119286e-01\n",
      "incumbent solution: [0.6685046220602652, 1.4019497970406818, 5.829583867653185, 4.9468552391089, 3.5323144190901146, 4.46645662419216]\n",
      "std deviation: [4.513176955758183e-05, 2.1995776623920062e-05, 0.00036403727270748913, 0.0001730239412447944, 0.0004116246552226003, 0.0005671537549364765]\n",
      "Optimization restart 1/10, f = 43.16819508193391\n",
      "Optimization restart 2/10, f = 51.44841212278823\n",
      "Optimization restart 3/10, f = 56.75754132818692\n",
      "Optimization restart 4/10, f = 53.20850398753434\n",
      "Optimization restart 5/10, f = 93.22241399696127\n",
      "Optimization restart 6/10, f = 51.32285448245386\n",
      "Optimization restart 7/10, f = 89.12153959280381\n",
      "Optimization restart 8/10, f = 53.20850399478878\n",
      "Optimization restart 9/10, f = 51.322857954042895\n"
     ]
    },
    {
     "name": "stderr",
     "output_type": "stream",
     "text": [
      "reconstraining parameters GP_regression.Mat52.lengthscale\n",
      "reconstraining parameters GP_regression.Mat52.variance\n",
      "reconstraining parameters GP_regression.Gaussian_noise.variance\n"
     ]
    },
    {
     "name": "stdout",
     "output_type": "stream",
     "text": [
      "Optimization restart 10/10, f = 106.64978908111077\n",
      "Optimization restart 1/10, f = 21.97016954322919\n",
      "Optimization restart 2/10, f = 134.06567533299906\n",
      "Optimization restart 3/10, f = 29.832719001961394\n",
      "Optimization restart 4/10, f = 47.44577643845658\n",
      "Optimization restart 5/10, f = 29.832398989734273\n",
      "Optimization restart 6/10, f = 55.59447175471669\n",
      "Optimization restart 7/10, f = 56.7575413817247\n",
      "Optimization restart 8/10, f = 29.832761389427674\n",
      "Optimization restart 9/10, f = 267.0162506275935\n",
      "Optimization restart 10/10, f = 29.83271884332415\n",
      "(4_w,9)-aCMA-ES (mu_w=2.8,w_1=49%) in dimension 6 (seed=319054, Sun Aug 23 12:39:51 2020)\n",
      "Iterat #Fevals   function value  axis ratio  sigma  min&max std  t[m:s]\n",
      "    1      9 -1.032497079772479e-01 1.0e+00 2.38e-01  2e-01  2e-01 0:00.2\n",
      "    2     18 -1.852421140127567e-01 1.2e+00 2.63e-01  3e-01  3e-01 0:00.3\n",
      "    3     27 -1.783883082249825e-01 1.3e+00 2.95e-01  3e-01  3e-01 0:00.5\n",
      "   16    144 -1.996171533725594e-01 2.2e+00 1.70e-01  1e-01  2e-01 0:03.6\n",
      "   35    315 -2.261593344317790e-01 1.1e+01 1.25e-01  2e-02  2e-01 0:07.7\n",
      "   62    558 -2.350277324589035e-01 1.8e+01 5.48e-02  5e-03  7e-02 0:12.9\n",
      "   95    855 -2.384599809911649e-01 3.3e+01 3.92e-02  3e-03  4e-02 0:19.0\n",
      "  100    900 -2.383263196584560e-01 4.5e+01 4.18e-02  4e-03  4e-02 0:19.9\n",
      "  148   1332 -2.356570770920626e-01 9.2e+01 1.13e-02  6e-04  9e-03 0:27.9\n",
      "  189   1701 -2.360044487100800e-01 1.2e+02 8.61e-03  4e-04  5e-03 0:37.1\n",
      "  200   1800 -2.383412575533775e-01 1.4e+02 1.05e-02  5e-04  6e-03 0:39.2\n",
      "  256   2304 -2.332666043206677e-01 2.2e+02 5.45e-03  3e-04  3e-03 0:50.2\n",
      "  300   2700 -2.318332882122238e-01 4.9e+02 4.30e-03  2e-04  2e-03 1:01.6\n",
      "  368   3312 -2.336965054623236e-01 7.8e+02 6.53e-03  2e-04  3e-03 1:14.7\n",
      "  400   3600 -2.324243145460356e-01 8.4e+02 1.06e-02  4e-04  4e-03 1:21.8\n",
      "  476   4284 -2.366486091835603e-01 1.5e+03 2.34e-03  2e-05  9e-04 1:36.9\n",
      "  500   4500 -2.363245820391291e-01 1.8e+03 1.51e-03  1e-05  5e-04 1:40.8\n",
      "  585   5265 -2.381622515736765e-01 4.7e+03 1.84e-03  2e-05  5e-04 1:57.8\n",
      "  600   5400 -2.336350412740414e-01 8.1e+03 1.17e-03  1e-05  3e-04 2:01.2\n",
      "  610   5490 -2.342374941550224e-01 9.9e+03 6.33e-04  6e-06  2e-04 2:03.2\n"
     ]
    },
    {
     "name": "stderr",
     "output_type": "stream",
     "text": [
      "reconstraining parameters GP_regression.Mat52.lengthscale\n",
      "reconstraining parameters GP_regression.Mat52.variance\n",
      "reconstraining parameters GP_regression.Gaussian_noise.variance\n"
     ]
    },
    {
     "name": "stdout",
     "output_type": "stream",
     "text": [
      "termination on tolstagnation=263 (Sun Aug 23 12:41:56 2020)\n",
      "final/bestever f-value = -2.361734e-01 -2.445769e-01\n",
      "incumbent solution: [0.2153420207018134, 3.9996141561562832, 0.4493133479129371, 2.470166750483342, 5.3712453462932706, 6.379192336509343]\n",
      "std deviation: [5.675003701554142e-06, 1.7119509569451826e-05, 0.00011470773445794573, 6.0401525673976306e-05, 0.00010166115969633846, 0.00017175694913620264]\n",
      "Optimization restart 1/10, f = 44.021636260249515\n",
      "Optimization restart 2/10, f = 124.89970182161784\n",
      "Optimization restart 3/10, f = 58.17647986139111\n",
      "Optimization restart 4/10, f = 273.6916568932833\n",
      "Optimization restart 5/10, f = 40.647376009327175\n",
      "Optimization restart 6/10, f = 41.420673307527\n",
      "Optimization restart 7/10, f = 58.17647986140119\n",
      "Optimization restart 8/10, f = 77.52775064996392\n",
      "Optimization restart 9/10, f = 58.17647986139157\n"
     ]
    },
    {
     "name": "stderr",
     "output_type": "stream",
     "text": [
      "reconstraining parameters GP_regression.Mat52.lengthscale\n",
      "reconstraining parameters GP_regression.Mat52.variance\n",
      "reconstraining parameters GP_regression.Gaussian_noise.variance\n"
     ]
    },
    {
     "name": "stdout",
     "output_type": "stream",
     "text": [
      "Optimization restart 10/10, f = 70.01744780281062\n",
      "Optimization restart 1/10, f = 20.206557229760303\n",
      "Optimization restart 2/10, f = 273.6916568932833\n",
      "Optimization restart 3/10, f = 19.680921413645407\n",
      "Optimization restart 4/10, f = 28.281519195019705\n",
      "Optimization restart 5/10, f = 54.23580140973361\n",
      "Optimization restart 6/10, f = 54.252084471530694\n",
      "Optimization restart 7/10, f = 66.71396383705334\n",
      "Optimization restart 8/10, f = 54.42289158204236\n",
      "Optimization restart 9/10, f = 22.070233887607237\n",
      "Optimization restart 10/10, f = 22.07007074416762\n",
      "(4_w,9)-aCMA-ES (mu_w=2.8,w_1=49%) in dimension 6 (seed=288202, Sun Aug 23 12:42:00 2020)\n",
      "Iterat #Fevals   function value  axis ratio  sigma  min&max std  t[m:s]\n",
      "    1      9 6.144166997411936e-02 1.0e+00 2.47e-01  2e-01  3e-01 0:00.2\n",
      "    2     18 6.267446928614828e-02 1.3e+00 2.17e-01  2e-01  2e-01 0:00.3\n",
      "    3     27 5.758791780146186e-02 1.3e+00 2.25e-01  2e-01  2e-01 0:00.5\n",
      "   19    171 -1.416428710498438e-01 4.0e+00 4.72e-01  2e-01  7e-01 0:03.6\n",
      "   38    342 -1.732176261549133e-01 8.2e+00 1.93e-01  4e-02  3e-01 0:07.6\n",
      "   67    603 -1.737085124271681e-01 2.2e+01 1.01e-01  9e-03  1e-01 0:12.8\n",
      "   95    855 -1.723358465574953e-01 4.9e+01 8.79e-02  6e-03  2e-01 0:18.8\n",
      "  100    900 -1.717012206800173e-01 4.2e+01 8.16e-02  5e-03  2e-01 0:19.7\n",
      "  143   1287 -1.727558608026549e-01 4.9e+01 1.06e-01  9e-03  2e-01 0:27.8\n",
      "  183   1647 -1.717782194548673e-01 1.3e+02 5.79e-02  4e-03  8e-02 0:36.9\n",
      "  200   1800 -1.721592495169044e-01 1.6e+02 6.97e-02  5e-03  1e-01 0:40.8\n",
      "  250   2250 -1.726750651470266e-01 6.4e+02 2.39e-02  2e-03  4e-02 0:52.0\n",
      "  300   2700 -1.753008252735990e-01 2.1e+03 1.06e-01  9e-03  2e-01 1:01.7\n",
      "  367   3303 -1.723126632553383e-01 3.0e+03 5.35e-02  2e-03  5e-02 1:14.8\n",
      "  400   3600 -1.745161423981510e-01 4.2e+03 1.63e-01  6e-03  1e-01 1:22.0\n",
      "  488   4392 -1.715781898239505e-01 7.3e+03 3.54e-01  5e-03  2e-01 1:37.1\n",
      "  500   4500 -1.725185779737418e-01 6.6e+03 2.54e-01  3e-03  9e-02 1:39.1\n",
      "  535   4815 -1.720946818376933e-01 9.0e+03 3.94e-01  3e-03  1e-01 1:46.0\n"
     ]
    },
    {
     "name": "stderr",
     "output_type": "stream",
     "text": [
      "reconstraining parameters GP_regression.Mat52.lengthscale\n",
      "reconstraining parameters GP_regression.Mat52.variance\n",
      "reconstraining parameters GP_regression.Gaussian_noise.variance\n"
     ]
    },
    {
     "name": "stdout",
     "output_type": "stream",
     "text": [
      "termination on tolstagnation=263 (Sun Aug 23 12:43:47 2020)\n",
      "final/bestever f-value = -1.695944e-01 -1.803429e-01\n",
      "incumbent solution: [0.0007686445894192255, 3.9982102803019077, 5.940336495618777, 3.4713184271333484, 6.68503842974324, 7.215482763130418]\n",
      "std deviation: [0.005975119722068808, 0.0033031203303349153, 0.03262338242260083, 0.014266200697664952, 0.10220333496243458, 0.12915491632606582]\n",
      "Optimization restart 1/10, f = 41.66752775862455\n",
      "Optimization restart 2/10, f = 52.162986215853834\n",
      "Optimization restart 3/10, f = 42.9916441455836\n",
      "Optimization restart 4/10, f = 280.36706315897317\n",
      "Optimization restart 5/10, f = 59.595437680554014\n",
      "Optimization restart 6/10, f = 46.5146121719147\n",
      "Optimization restart 7/10, f = 42.96247367094395\n"
     ]
    },
    {
     "name": "stderr",
     "output_type": "stream",
     "text": [
      "reconstraining parameters GP_regression.Mat52.lengthscale\n"
     ]
    },
    {
     "name": "stdout",
     "output_type": "stream",
     "text": [
      "Optimization restart 8/10, f = 94.0863394605189\n",
      "Optimization restart 9/10, f = 280.36706315897317\n",
      "Optimization restart 10/10, f = 49.55450138657377\n"
     ]
    },
    {
     "name": "stderr",
     "output_type": "stream",
     "text": [
      "reconstraining parameters GP_regression.Mat52.variance\n",
      "reconstraining parameters GP_regression.Gaussian_noise.variance\n"
     ]
    },
    {
     "name": "stdout",
     "output_type": "stream",
     "text": [
      "Optimization restart 1/10, f = 18.340357447634094\n",
      "Optimization restart 2/10, f = 59.26404181481091\n",
      "Optimization restart 3/10, f = 59.595417921571126\n",
      "Optimization restart 4/10, f = 52.8684792828294\n",
      "Optimization restart 5/10, f = 18.42924673079739\n",
      "Optimization restart 6/10, f = 58.54989075321008\n",
      "Optimization restart 7/10, f = 55.65238015061111\n",
      "Optimization restart 8/10, f = 273.5061636373321\n",
      "Optimization restart 9/10, f = 17.894005064894486\n",
      "Optimization restart 10/10, f = 54.95051183102686\n",
      "(4_w,9)-aCMA-ES (mu_w=2.8,w_1=49%) in dimension 6 (seed=275440, Sun Aug 23 12:43:51 2020)\n",
      "Iterat #Fevals   function value  axis ratio  sigma  min&max std  t[m:s]\n",
      "    1      9 3.916912923702134e-02 1.0e+00 2.83e-01  3e-01  3e-01 0:00.2\n",
      "    2     18 5.658032402375691e-02 1.3e+00 3.18e-01  3e-01  3e-01 0:00.3\n",
      "    3     27 2.277273542561056e-02 1.4e+00 3.21e-01  3e-01  3e-01 0:00.5\n",
      "   21    189 -7.675153251685347e-02 3.3e+00 2.85e-01  1e-01  3e-01 0:03.7\n",
      "   46    414 -8.187559758725317e-02 7.8e+00 1.16e-01  3e-02  1e-01 0:07.8\n",
      "   76    684 -8.049828664051870e-02 1.6e+01 4.45e-02  9e-03  5e-02 0:12.8\n",
      "  100    900 -8.325693583287305e-02 2.9e+01 2.11e-02  4e-03  2e-02 0:17.5\n",
      "  132   1188 -8.456231502235871e-02 6.2e+01 2.70e-02  5e-03  4e-02 0:24.6\n",
      "  175   1575 -8.106752396170372e-02 5.8e+01 4.79e-02  8e-03  5e-02 0:32.8\n",
      "  200   1800 -7.993576909251357e-02 8.9e+01 2.89e-02  5e-03  3e-02 0:38.4\n",
      "  255   2295 -8.397537862074443e-02 1.3e+02 5.40e-02  5e-03  5e-02 0:48.6\n",
      "  300   2700 -8.428110561144954e-02 2.2e+02 1.02e-01  6e-03  9e-02 0:57.5\n",
      "  368   3312 -8.036821080398283e-02 2.9e+02 7.89e-02  3e-03  3e-02 1:09.6\n",
      "  400   3600 -8.101178120269806e-02 3.2e+02 3.97e-02  9e-04  1e-02 1:15.1\n",
      "  476   4284 -8.024911965955606e-02 6.4e+02 3.20e-02  6e-04  9e-03 1:29.3\n",
      "  500   4500 -7.926776666027797e-02 9.6e+02 1.14e-02  2e-04  3e-03 1:33.9\n",
      "  505   4545 -8.042718612934489e-02 9.0e+02 8.54e-03  1e-04  2e-03 1:34.8\n"
     ]
    },
    {
     "name": "stderr",
     "output_type": "stream",
     "text": [
      "reconstraining parameters GP_regression.Mat52.lengthscale\n",
      "reconstraining parameters GP_regression.Mat52.variance\n",
      "reconstraining parameters GP_regression.Gaussian_noise.variance\n"
     ]
    },
    {
     "name": "stdout",
     "output_type": "stream",
     "text": [
      "termination on tolstagnation=263 (Sun Aug 23 12:45:26 2020)\n",
      "final/bestever f-value = -6.684420e-02 -9.228017e-02\n",
      "incumbent solution: [0.20164844062020992, 3.9998821190121907, 1.7712620506891281, 7.967780011654836, 9.914472885439386, 3.702214650999025]\n",
      "std deviation: [0.0009852738856248812, 0.00012143236674137194, 0.0005097319170305515, 0.0016504991864606637, 0.00031061918047727363, 0.001909798605897536]\n",
      "Optimization restart 1/10, f = 42.64032359165125\n",
      "Optimization restart 2/10, f = 125.78572734360999\n",
      "Optimization restart 3/10, f = 287.04246942466307\n",
      "Optimization restart 4/10, f = 69.95683315324453\n",
      "Optimization restart 5/10, f = 269.7260503834404\n",
      "Optimization restart 6/10, f = 287.04246942466307\n",
      "Optimization restart 7/10, f = 57.33856770396551\n",
      "Optimization restart 8/10, f = 61.01435699297481\n"
     ]
    },
    {
     "name": "stderr",
     "output_type": "stream",
     "text": [
      "reconstraining parameters GP_regression.Mat52.lengthscale\n",
      "reconstraining parameters GP_regression.Mat52.variance\n"
     ]
    },
    {
     "name": "stdout",
     "output_type": "stream",
     "text": [
      "Optimization restart 9/10, f = 86.34910637826228\n",
      "Optimization restart 10/10, f = 53.603047716649584\n"
     ]
    },
    {
     "name": "stderr",
     "output_type": "stream",
     "text": [
      "reconstraining parameters GP_regression.Gaussian_noise.variance\n"
     ]
    },
    {
     "name": "stdout",
     "output_type": "stream",
     "text": [
      "Optimization restart 1/10, f = 17.90651201604393\n",
      "Optimization restart 2/10, f = 18.274599427092905\n",
      "Optimization restart 3/10, f = 18.348225933040933\n",
      "Optimization restart 4/10, f = 71.51126639417464\n",
      "Optimization restart 5/10, f = 28.289832201886345\n",
      "Optimization restart 6/10, f = 18.27476609235182\n",
      "Optimization restart 7/10, f = 17.906511981397077\n",
      "Optimization restart 8/10, f = 54.30628019721827\n",
      "Optimization restart 9/10, f = 273.84382925934614\n",
      "Optimization restart 10/10, f = 99.39840854684721\n",
      "(4_w,9)-aCMA-ES (mu_w=2.8,w_1=49%) in dimension 6 (seed=311618, Sun Aug 23 12:45:30 2020)\n",
      "Iterat #Fevals   function value  axis ratio  sigma  min&max std  t[m:s]\n",
      "    1      9 2.196023924377322e-01 1.0e+00 2.34e-01  2e-01  2e-01 0:00.2\n",
      "    2     18 2.027452253473945e-01 1.2e+00 2.54e-01  2e-01  3e-01 0:00.4\n",
      "    3     27 1.780956565807369e-01 1.4e+00 3.00e-01  3e-01  3e-01 0:00.5\n",
      "   20    180 2.292014784164554e-02 2.4e+00 4.23e-01  3e-01  5e-01 0:03.5\n",
      "   38    342 -4.741811650437058e-02 4.0e+00 5.25e-01  2e-01  6e-01 0:07.6\n",
      "   64    576 -1.179682089054602e-01 1.0e+01 2.91e-01  5e-02  4e-01 0:12.7\n",
      "   97    873 -1.289655622472464e-01 2.8e+01 7.20e-02  5e-03  8e-02 0:18.9\n",
      "  100    900 -1.309902961203221e-01 3.2e+01 7.26e-02  5e-03  8e-02 0:19.9\n",
      "  143   1287 -1.317425592482394e-01 8.3e+01 4.87e-02  2e-03  6e-02 0:28.0\n",
      "  189   1701 -1.308895368693124e-01 9.9e+01 1.08e-02  2e-04  7e-03 0:37.0\n",
      "  200   1800 -1.316897184599087e-01 1.2e+02 9.65e-03  2e-04  7e-03 0:39.5\n",
      "  257   2313 -1.298322593313274e-01 1.7e+02 2.45e-02  7e-04  1e-02 0:50.6\n",
      "  300   2700 -1.318108242233075e-01 2.1e+02 1.68e-02  4e-04  7e-03 0:59.1\n",
      "  356   3204 -1.307434160304424e-01 1.5e+02 2.48e-02  3e-04  5e-03 1:12.3\n",
      "  400   3600 -1.304515245615255e-01 3.1e+02 5.15e-02  8e-04  1e-02 1:21.5\n",
      "  483   4347 -1.299874356046717e-01 4.0e+03 2.73e-02  6e-04  1e-02 1:36.6\n",
      "  500   4500 -1.297943911015824e-01 7.2e+03 3.18e-02  9e-04  2e-02 1:40.4\n",
      "  505   4545 -1.296175338567091e-01 5.8e+03 3.47e-02  9e-04  2e-02 1:41.4\n"
     ]
    },
    {
     "name": "stderr",
     "output_type": "stream",
     "text": [
      "reconstraining parameters GP_regression.Mat52.lengthscale\n",
      "reconstraining parameters GP_regression.Mat52.variance\n",
      "reconstraining parameters GP_regression.Gaussian_noise.variance\n"
     ]
    },
    {
     "name": "stdout",
     "output_type": "stream",
     "text": [
      "termination on tolstagnation=263 (Sun Aug 23 12:47:13 2020)\n",
      "final/bestever f-value = -1.259085e-01 -1.356519e-01\n",
      "incumbent solution: [0.19311889075681482, 3.999843413443189, 0.00506333682553296, 4.037948278839808, 7.670927187946842, 4.177584383296374]\n",
      "std deviation: [0.0008602030766408856, 0.0056143265271717665, 0.002139787610383185, 0.002179959167159175, 0.002345045008866654, 0.01762788161593491]\n",
      "Optimization restart 1/10, f = 43.2087568925824\n",
      "Optimization restart 2/10, f = 62.43331615947287\n",
      "Optimization restart 3/10, f = 2197589.368726434\n",
      "Optimization restart 4/10, f = 71.46440063296697\n",
      "Optimization restart 5/10, f = 58.7217292355175\n",
      "Optimization restart 6/10, f = 62.433316571015745\n",
      "Optimization restart 7/10, f = 59.75748871742991\n",
      "Optimization restart 8/10, f = 62.43329546100139\n"
     ]
    },
    {
     "name": "stderr",
     "output_type": "stream",
     "text": [
      "reconstraining parameters GP_regression.Mat52.lengthscale\n",
      "reconstraining parameters GP_regression.Mat52.variance\n",
      "reconstraining parameters GP_regression.Gaussian_noise.variance\n"
     ]
    },
    {
     "name": "stdout",
     "output_type": "stream",
     "text": [
      "Optimization restart 9/10, f = 60.914707846396844\n",
      "Optimization restart 10/10, f = 289.4953211324107\n",
      "Optimization restart 1/10, f = 17.7888539912089\n",
      "Optimization restart 2/10, f = 48.19766278304313\n",
      "Optimization restart 3/10, f = 62.43159908425424\n",
      "Optimization restart 4/10, f = 293.7178756903529\n",
      "Optimization restart 5/10, f = 293.7178756903529\n",
      "Optimization restart 6/10, f = 293.7178756903529\n",
      "Optimization restart 7/10, f = 17.56846609029951\n",
      "Optimization restart 8/10, f = 62.43329546100564\n",
      "Optimization restart 9/10, f = 18.468354984073102\n",
      "Optimization restart 10/10, f = 62.367789006733425\n",
      "(4_w,9)-aCMA-ES (mu_w=2.8,w_1=49%) in dimension 6 (seed=292789, Sun Aug 23 12:47:17 2020)\n",
      "Iterat #Fevals   function value  axis ratio  sigma  min&max std  t[m:s]\n",
      "    1      9 6.756914399367919e-02 1.0e+00 2.38e-01  2e-01  3e-01 0:00.2\n",
      "    2     18 9.452729527490976e-02 1.2e+00 2.46e-01  2e-01  3e-01 0:00.5\n",
      "    3     27 -1.888503498540454e-02 1.4e+00 2.92e-01  3e-01  3e-01 0:00.9\n",
      "    9     81 -2.302071997177342e-01 2.1e+00 3.70e-01  3e-01  4e-01 0:04.3\n",
      "   19    171 -2.576973802007960e-01 3.2e+00 1.53e-01  8e-02  2e-01 0:08.5\n",
      "   35    315 -2.929140297492925e-01 6.1e+00 2.34e-01  6e-02  4e-01 0:13.5\n",
      "   64    576 -2.987966956116836e-01 1.4e+01 5.13e-02  6e-03  7e-02 0:19.5\n",
      "   99    891 -2.995089794942885e-01 2.0e+01 2.99e-02  3e-03  4e-02 0:26.8\n",
      "  100    900 -3.011805669146332e-01 2.0e+01 2.91e-02  3e-03  4e-02 0:27.1\n",
      "  125   1125 -3.007128113557916e-01 3.1e+01 1.46e-02  1e-03  2e-02 0:36.1\n",
      "  172   1548 -2.988175167930562e-01 5.3e+01 6.77e-03  5e-04  8e-03 0:46.2\n",
      "  200   1800 -3.014889666282364e-01 8.3e+01 1.33e-02  1e-03  1e-02 0:52.0\n",
      "  254   2286 -3.000097411207608e-01 1.8e+02 7.27e-03  5e-04  8e-03 1:04.0\n",
      "  300   2700 -3.013373550958147e-01 3.2e+02 1.37e-03  7e-05  1e-03 1:13.7\n",
      "  348   3132 -2.992064528043102e-01 7.8e+02 4.42e-04  2e-05  4e-04 1:27.7\n",
      "  397   3573 -3.001348858625712e-01 7.3e+02 2.17e-03  5e-05  1e-03 1:42.9\n",
      "  400   3600 -2.996469018871200e-01 6.7e+02 2.49e-03  5e-05  1e-03 1:43.7\n",
      "  460   4140 -2.996377898581916e-01 1.6e+03 8.83e-04  2e-05  5e-04 2:00.8\n",
      "  500   4500 -2.989156552745507e-01 4.3e+03 1.32e-03  3e-05  9e-04 2:12.8\n",
      "  505   4545 -3.000723185323274e-01 3.6e+03 9.58e-04  2e-05  5e-04 2:14.7\n"
     ]
    },
    {
     "name": "stderr",
     "output_type": "stream",
     "text": [
      "reconstraining parameters GP_regression.Mat52.lengthscale\n"
     ]
    },
    {
     "name": "stdout",
     "output_type": "stream",
     "text": [
      "termination on tolstagnation=263 (Sun Aug 23 12:49:33 2020)\n",
      "final/bestever f-value = -2.952315e-01 -3.043362e-01\n",
      "incumbent solution: [1.3789169746254308, 2.574676458677718, 2.4460230820619033, 2.094355699189453, 3.7490794498602193, 9.191080933337032]\n",
      "std deviation: [1.9791992691680086e-05, 0.00010337179589073064, 0.0005021758162710205, 0.00022672419555708567, 0.0003186352535638666, 0.00018842476821493898]\n"
     ]
    },
    {
     "name": "stderr",
     "output_type": "stream",
     "text": [
      "reconstraining parameters GP_regression.Mat52.variance\n",
      "reconstraining parameters GP_regression.Gaussian_noise.variance\n"
     ]
    },
    {
     "name": "stdout",
     "output_type": "stream",
     "text": [
      "Optimization restart 1/10, f = 44.00885908788061\n",
      "Optimization restart 2/10, f = 56.81681649787009\n",
      "Optimization restart 3/10, f = 58.84997043066069\n",
      "Optimization restart 4/10, f = 44.16929857859506\n",
      "Optimization restart 5/10, f = 63.85223431923366\n",
      "Optimization restart 6/10, f = 1067525243.0645623\n",
      "Optimization restart 7/10, f = 41.446468411016205\n",
      "Optimization restart 8/10, f = 300.3932819560427\n",
      "Optimization restart 9/10, f = 61.025199361885825\n"
     ]
    },
    {
     "name": "stderr",
     "output_type": "stream",
     "text": [
      "reconstraining parameters GP_regression.Mat52.lengthscale\n",
      "reconstraining parameters GP_regression.Mat52.variance\n",
      "reconstraining parameters GP_regression.Gaussian_noise.variance\n"
     ]
    },
    {
     "name": "stdout",
     "output_type": "stream",
     "text": [
      "Optimization restart 10/10, f = 39.74210431194016\n",
      "Optimization restart 1/10, f = 19.885520450660472\n",
      "Optimization restart 2/10, f = 29.00852400272443\n",
      "Optimization restart 3/10, f = 19.88552045161089\n",
      "Optimization restart 4/10, f = 63.852233994532725\n",
      "Optimization restart 5/10, f = 21.717442101597058\n",
      "Optimization restart 6/10, f = 300.3932819560427\n",
      "Optimization restart 7/10, f = 68.15591170295319\n",
      "Optimization restart 8/10, f = 300.3932819560427\n",
      "Optimization restart 9/10, f = 63.79046060797483\n",
      "Optimization restart 10/10, f = 21.80925753536312\n",
      "(4_w,9)-aCMA-ES (mu_w=2.8,w_1=49%) in dimension 6 (seed=321429, Sun Aug 23 12:49:42 2020)\n",
      "Iterat #Fevals   function value  axis ratio  sigma  min&max std  t[m:s]\n",
      "    1      9 -3.567849986225333e-02 1.0e+00 2.58e-01  2e-01  3e-01 0:00.2\n",
      "    2     18 -6.398612044777219e-02 1.4e+00 2.63e-01  2e-01  3e-01 0:00.6\n",
      "    3     27 -7.338341332446378e-02 1.7e+00 2.95e-01  3e-01  4e-01 0:00.9\n",
      "   14    126 -1.097298238558796e-01 2.5e+00 3.20e-01  2e-01  4e-01 0:04.2\n",
      "   27    243 -3.080241838853791e-01 4.3e+00 2.18e-01  7e-02  3e-01 0:08.4\n",
      "   42    378 -3.527762611799209e-01 8.0e+00 1.59e-01  2e-02  2e-01 0:13.7\n",
      "   60    540 -3.605191677149844e-01 1.6e+01 6.70e-02  6e-03  7e-02 0:20.0\n",
      "   90    810 -3.579764376826389e-01 2.3e+01 3.68e-02  2e-03  3e-02 0:27.3\n",
      "  100    900 -3.584998320507251e-01 2.4e+01 3.28e-02  2e-03  3e-02 0:30.2\n",
      "  133   1197 -3.582376966060573e-01 2.7e+01 1.26e-02  6e-04  9e-03 0:39.4\n",
      "  174   1566 -3.570641321161636e-01 3.2e+01 6.25e-03  2e-04  3e-03 0:49.4\n",
      "  200   1800 -3.590111866587024e-01 5.3e+01 6.53e-03  2e-04  3e-03 0:57.3\n",
      "  245   2205 -3.572263259238050e-01 6.4e+01 1.09e-02  3e-04  5e-03 1:09.4\n",
      "  288   2592 -3.572327901772122e-01 8.2e+01 8.38e-03  3e-04  3e-03 1:22.4\n",
      "  300   2700 -3.583435229424149e-01 9.1e+01 6.76e-03  2e-04  2e-03 1:26.5\n",
      "  375   3375 -3.594573025244235e-01 1.2e+02 1.17e-02  2e-04  3e-03 1:41.5\n",
      "  400   3600 -3.570721090167324e-01 1.1e+02 8.57e-03  1e-04  1e-03 1:47.5\n",
      "  464   4176 -3.554455269833258e-01 1.8e+02 2.12e-02  2e-04  2e-03 2:04.6\n",
      "  500   4500 -3.573406498150301e-01 1.6e+02 2.26e-02  2e-04  2e-03 2:12.4\n",
      "  505   4545 -3.585105943000922e-01 1.4e+02 2.95e-02  2e-04  2e-03 2:13.7\n"
     ]
    },
    {
     "name": "stderr",
     "output_type": "stream",
     "text": [
      "reconstraining parameters GP_regression.Mat52.lengthscale\n",
      "reconstraining parameters GP_regression.Mat52.variance\n",
      "reconstraining parameters GP_regression.Gaussian_noise.variance\n"
     ]
    },
    {
     "name": "stdout",
     "output_type": "stream",
     "text": [
      "termination on tolstagnation=263 (Sun Aug 23 12:51:57 2020)\n",
      "final/bestever f-value = -3.539689e-01 -3.616505e-01\n",
      "incumbent solution: [0.46397880192747676, 0.8847716093726586, 0.9738358890165166, 4.07663203236494, 4.4867932674036295, 3.9380184947053625]\n",
      "std deviation: [0.0002442287903926134, 0.000512538430597031, 0.0016237038194764186, 0.001889890279197426, 0.0007467781879397613, 0.0006670976445187476]\n",
      "Optimization restart 1/10, f = 38.30636537323856\n",
      "Optimization restart 2/10, f = 94.20328816942441\n",
      "Optimization restart 3/10, f = 307.0686882217325\n",
      "Optimization restart 4/10, f = 65.27117252741495\n",
      "Optimization restart 5/10, f = 97.2062306487149\n",
      "Optimization restart 6/10, f = 307.0686882217325\n",
      "Optimization restart 7/10, f = 65.27119053333647\n",
      "Optimization restart 8/10, f = 65.27118519406494\n"
     ]
    },
    {
     "name": "stderr",
     "output_type": "stream",
     "text": [
      "reconstraining parameters GP_regression.Mat52.lengthscale\n",
      "reconstraining parameters GP_regression.Mat52.variance\n",
      "reconstraining parameters GP_regression.Gaussian_noise.variance\n"
     ]
    },
    {
     "name": "stdout",
     "output_type": "stream",
     "text": [
      "Optimization restart 9/10, f = 65.27118593626712\n",
      "Optimization restart 10/10, f = 65.27117259437776\n",
      "Optimization restart 1/10, f = 20.000536527293953\n",
      "Optimization restart 2/10, f = 65.27117252741495\n",
      "Optimization restart 3/10, f = 70.28157095595532\n",
      "Optimization restart 4/10, f = 24.227717260115607\n",
      "Optimization restart 5/10, f = 20.00053653582561\n",
      "Optimization restart 6/10, f = 20.507109111219272\n",
      "Optimization restart 7/10, f = 21.492601835395025\n",
      "Optimization restart 8/10, f = 65.27117252741499\n",
      "Optimization restart 9/10, f = 29.676957939951873\n",
      "Optimization restart 10/10, f = 28.572817584465678\n",
      "(4_w,9)-aCMA-ES (mu_w=2.8,w_1=49%) in dimension 6 (seed=329604, Sun Aug 23 12:52:01 2020)\n",
      "Iterat #Fevals   function value  axis ratio  sigma  min&max std  t[m:s]\n",
      "    1      9 7.247546189959674e-02 1.0e+00 2.47e-01  2e-01  3e-01 0:00.3\n",
      "    2     18 2.927786084950018e-02 1.2e+00 2.59e-01  2e-01  3e-01 0:00.5\n",
      "    3     27 7.957909359012149e-03 1.4e+00 2.92e-01  3e-01  3e-01 0:00.7\n",
      "   11     99 -3.809806444533572e-02 2.1e+00 2.84e-01  2e-01  4e-01 0:04.0\n",
      "   24    216 -9.726082386789142e-02 3.9e+00 2.69e-01  1e-01  3e-01 0:08.3\n",
      "   38    342 -1.086901520734527e-01 7.8e+00 1.66e-01  3e-02  2e-01 0:13.9\n",
      "   57    513 -1.147648303024190e-01 1.1e+01 6.86e-02  9e-03  7e-02 0:20.1\n",
      "   66    594 -1.140732360434550e-01 1.1e+01 9.56e-02  1e-02  1e-01 0:27.7\n",
      "  100    900 -1.126312783396879e-01 2.1e+01 3.81e-02  4e-03  4e-02 0:35.8\n",
      "  144   1296 -1.137976624102777e-01 4.2e+01 2.78e-02  2e-03  3e-02 0:44.9\n",
      "  187   1683 -1.153368011375440e-01 5.6e+01 2.14e-02  2e-03  1e-02 0:55.1\n",
      "  200   1800 -1.123692570636019e-01 7.4e+01 1.61e-02  9e-04  9e-03 0:57.7\n",
      "  258   2322 -1.132029376337981e-01 1.7e+02 7.17e-03  2e-04  5e-03 1:09.8\n",
      "  300   2700 -1.141735080941958e-01 1.9e+02 6.73e-03  1e-04  3e-03 1:21.5\n",
      "  345   3105 -1.123465589014103e-01 4.1e+02 2.16e-02  5e-04  1e-02 1:35.7\n",
      "  400   3600 -1.155537857091482e-01 7.9e+02 3.66e-02  1e-03  2e-02 1:49.4\n",
      "  463   4167 -1.143397085002694e-01 1.4e+03 4.17e-02  7e-04  1e-02 2:05.5\n",
      "  500   4500 -1.131790185947369e-01 2.8e+03 4.50e-02  6e-04  1e-02 2:14.0\n",
      "  560   5040 -1.141587209974760e-01 8.9e+03 5.50e-02  6e-04  1e-02 2:32.2\n",
      "  600   5400 -1.137731985825589e-01 1.1e+04 3.58e-02  5e-04  9e-03 2:42.6\n",
      "  700   6300 -1.144749369391815e-01 3.5e+04 1.04e-01  7e-04  1e-02 3:02.4\n",
      "  760   6840 -1.130312045104609e-01 2.0e+04 1.08e-02  4e-05  6e-04 3:17.6\n"
     ]
    },
    {
     "name": "stderr",
     "output_type": "stream",
     "text": [
      "reconstraining parameters GP_regression.Mat52.lengthscale\n",
      "reconstraining parameters GP_regression.Mat52.variance\n",
      "reconstraining parameters GP_regression.Gaussian_noise.variance\n"
     ]
    },
    {
     "name": "stdout",
     "output_type": "stream",
     "text": [
      "termination on tolstagnation=263 (Sun Aug 23 12:55:20 2020)\n",
      "final/bestever f-value = -1.106304e-01 -1.174153e-01\n",
      "incumbent solution: [4.3011295626688177e-07, 0.001038079539385569, 0.017439755041114766, 2.3385611010167087, 5.942870432641811, 2.311216166116924]\n",
      "std deviation: [3.6716679284111286e-05, 5.508729990361279e-05, 0.00016697760043835795, 0.000155306907953088, 0.00044607537932451157, 0.000558708901878448]\n",
      "Optimization restart 1/10, f = 37.02053916567791\n",
      "Optimization restart 2/10, f = 274.2192803818607\n",
      "Optimization restart 3/10, f = 93.4677108763616\n",
      "Optimization restart 4/10, f = 101.3676913014471\n",
      "Optimization restart 5/10, f = 66.69014902878347\n",
      "Optimization restart 6/10, f = 313.74409448742233\n",
      "Optimization restart 7/10, f = 313.74409448742233\n",
      "Optimization restart 8/10, f = 1002517107.0397185\n",
      "Optimization restart 9/10, f = 59.06008332155462\n"
     ]
    },
    {
     "name": "stderr",
     "output_type": "stream",
     "text": [
      "reconstraining parameters GP_regression.Mat52.lengthscale\n",
      "reconstraining parameters GP_regression.Mat52.variance\n",
      "reconstraining parameters GP_regression.Gaussian_noise.variance\n"
     ]
    },
    {
     "name": "stdout",
     "output_type": "stream",
     "text": [
      "Optimization restart 10/10, f = 66.69011116617389\n",
      "Optimization restart 1/10, f = 18.283295465869262\n",
      "Optimization restart 2/10, f = 72.40598335218829\n",
      "Optimization restart 3/10, f = 75.45971663789729\n",
      "Optimization restart 4/10, f = 26.017067057218295\n",
      "Optimization restart 5/10, f = 35.12297249354087\n",
      "Optimization restart 6/10, f = 61.30867330131524\n",
      "Optimization restart 7/10, f = 18.283295467650035\n",
      "Optimization restart 8/10, f = 66.69011117502029\n",
      "Optimization restart 9/10, f = 66.69011106040739\n",
      "Optimization restart 10/10, f = 66.69011141111662\n",
      "(4_w,9)-aCMA-ES (mu_w=2.8,w_1=49%) in dimension 6 (seed=345389, Sun Aug 23 12:55:25 2020)\n",
      "Iterat #Fevals   function value  axis ratio  sigma  min&max std  t[m:s]\n",
      "    1      9 4.161817901918095e-02 1.0e+00 2.46e-01  2e-01  3e-01 0:00.2\n",
      "    2     18 -5.276191474323185e-02 1.2e+00 2.80e-01  3e-01  3e-01 0:00.4\n",
      "    3     27 -8.033906758615257e-02 1.6e+00 3.70e-01  3e-01  5e-01 0:00.7\n",
      "   14    126 -1.887917630610959e-01 2.7e+00 3.82e-01  2e-01  5e-01 0:03.8\n",
      "   31    279 -2.624930050458410e-01 9.4e+00 5.52e-01  1e-01  1e+00 0:07.8\n",
      "   51    459 -2.695331517466084e-01 1.0e+01 1.95e-01  3e-02  2e-01 0:13.0\n",
      "   74    666 -2.746004818433339e-01 1.2e+01 1.13e-01  2e-02  1e-01 0:19.1\n",
      "  100    900 -2.722140101974148e-01 1.8e+01 3.90e-02  4e-03  4e-02 0:25.1\n",
      "  135   1215 -2.736680079594805e-01 3.0e+01 4.36e-02  5e-03  4e-02 0:33.3\n",
      "  169   1521 -2.790232545579409e-01 5.8e+01 3.05e-02  3e-03  3e-02 0:42.5\n",
      "  200   1800 -2.722809552728366e-01 8.9e+01 1.77e-02  1e-03  1e-02 0:49.9\n",
      "  256   2304 -2.777204468782343e-01 1.9e+02 1.93e-02  8e-04  1e-02 1:00.9\n",
      "  298   2682 -2.751534958954480e-01 5.2e+02 4.88e-02  1e-03  4e-02 1:12.9\n",
      "  300   2700 -2.743166610432422e-01 6.4e+02 5.62e-02  1e-03  5e-02 1:13.6\n",
      "  343   3087 -2.701810583424372e-01 4.4e+02 3.39e-01  9e-03  1e-01 1:27.7\n",
      "  400   3600 -2.736351262588559e-01 2.0e+02 5.09e-01  1e-02  9e-02 1:40.8\n",
      "  467   4203 -2.722339992149596e-01 2.9e+02 3.25e-01  6e-03  5e-02 1:57.0\n",
      "  500   4500 -2.700878424885572e-01 4.9e+02 1.18e-01  2e-03  2e-02 2:05.5\n",
      "  505   4545 -2.736680873636049e-01 4.3e+02 1.04e-01  1e-03  1e-02 2:06.8\n"
     ]
    },
    {
     "name": "stderr",
     "output_type": "stream",
     "text": [
      "reconstraining parameters GP_regression.Mat52.lengthscale\n",
      "reconstraining parameters GP_regression.Mat52.variance\n",
      "reconstraining parameters GP_regression.Gaussian_noise.variance\n"
     ]
    },
    {
     "name": "stdout",
     "output_type": "stream",
     "text": [
      "termination on tolstagnation=263 (Sun Aug 23 12:57:33 2020)\n",
      "final/bestever f-value = -2.722872e-01 -2.836575e-01\n",
      "incumbent solution: [1.9981116491123747, 0.09260273484053089, 5.228795944769973, 2.811496123397493, 0.029910035292488507, 5.848033191443557]\n",
      "std deviation: [0.002056575309727024, 0.00135875622423698, 0.006306911565370281, 0.0018308717161093083, 0.005664129477102812, 0.013260669492155376]\n",
      "Optimization restart 1/10, f = 39.06805470694228\n",
      "Optimization restart 2/10, f = 58.702472995597674\n",
      "Optimization restart 3/10, f = 39.06805470697306\n",
      "Optimization restart 4/10, f = 2397370.2204288375\n",
      "Optimization restart 5/10, f = 95.19209677369244\n",
      "Optimization restart 6/10, f = 84.2074415462169\n",
      "Optimization restart 7/10, f = 68.1090495735076\n",
      "Optimization restart 8/10, f = 43.55974125221434\n"
     ]
    },
    {
     "name": "stderr",
     "output_type": "stream",
     "text": [
      "reconstraining parameters GP_regression.Mat52.lengthscale\n"
     ]
    },
    {
     "name": "stdout",
     "output_type": "stream",
     "text": [
      "Optimization restart 9/10, f = 68.10904959382776\n",
      "Optimization restart 10/10, f = 95.19197887901981\n"
     ]
    },
    {
     "name": "stderr",
     "output_type": "stream",
     "text": [
      "reconstraining parameters GP_regression.Mat52.variance\n",
      "reconstraining parameters GP_regression.Gaussian_noise.variance\n"
     ]
    },
    {
     "name": "stdout",
     "output_type": "stream",
     "text": [
      "Optimization restart 1/10, f = 17.697972387761133\n",
      "Optimization restart 2/10, f = 56.230512403918304\n",
      "Optimization restart 3/10, f = 68.05706541662785\n",
      "Optimization restart 4/10, f = 66.43254717955367\n",
      "Optimization restart 5/10, f = 67.22447045248474\n",
      "Optimization restart 6/10, f = 68.10904959757949\n",
      "Optimization restart 7/10, f = 76.41263044914514\n",
      "Optimization restart 8/10, f = 50.55240957040131\n",
      "Optimization restart 9/10, f = 68.11644078432718\n",
      "Optimization restart 10/10, f = 1557389745.2004085\n",
      "(4_w,9)-aCMA-ES (mu_w=2.8,w_1=49%) in dimension 6 (seed=269081, Sun Aug 23 12:57:36 2020)\n",
      "Iterat #Fevals   function value  axis ratio  sigma  min&max std  t[m:s]\n",
      "    1      9 1.505572458839805e-01 1.0e+00 2.40e-01  2e-01  2e-01 0:00.2\n",
      "    2     18 1.104023652965984e-01 1.3e+00 2.51e-01  2e-01  3e-01 0:00.4\n",
      "    3     27 -9.060879976629134e-03 1.5e+00 3.12e-01  3e-01  3e-01 0:00.6\n",
      "   13    117 -5.212118702850167e-02 3.8e+00 2.04e-01  8e-02  2e-01 0:03.8\n",
      "   32    288 -1.897437186109822e-01 1.0e+01 5.68e-01  7e-02  8e-01 0:07.9\n",
      "   55    495 -2.120165225325056e-01 2.5e+01 1.62e-01  9e-03  2e-01 0:12.9\n",
      "   75    675 -2.148889837896914e-01 3.7e+01 8.06e-02  4e-03  1e-01 0:18.9\n",
      "  100    900 -2.149426536392059e-01 4.3e+01 2.53e-02  8e-04  2e-02 0:24.2\n",
      "  136   1224 -2.153958612691475e-01 5.5e+01 2.30e-02  8e-04  2e-02 0:32.2\n",
      "  181   1629 -2.158149881181888e-01 2.0e+02 7.25e-03  3e-04  7e-03 0:41.3\n",
      "  200   1800 -2.148215486382797e-01 2.1e+02 7.09e-03  2e-04  5e-03 0:45.4\n",
      "  247   2223 -2.157429574767706e-01 4.5e+02 7.95e-03  3e-04  6e-03 0:56.4\n",
      "  280   2520 -2.151787405912576e-01 4.7e+02 3.97e-03  8e-05  2e-03 1:08.5\n",
      "  300   2700 -2.151994916236782e-01 4.9e+02 3.65e-03  7e-05  2e-03 1:16.7\n",
      "  359   3231 -2.150158177028837e-01 1.8e+03 2.62e-03  5e-05  1e-03 1:31.0\n",
      "  400   3600 -2.150216268619594e-01 3.1e+03 1.45e-03  2e-05  6e-04 1:42.5\n",
      "  455   4095 -2.149380963500029e-01 3.6e+03 4.37e-03  6e-05  1e-03 1:58.7\n",
      "  500   4500 -2.159022174870067e-01 7.1e+03 4.44e-03  4e-05  1e-03 2:11.8\n",
      "  505   4545 -2.154652406414374e-01 6.2e+03 5.33e-03  5e-05  1e-03 2:12.8\n"
     ]
    },
    {
     "name": "stderr",
     "output_type": "stream",
     "text": [
      "reconstraining parameters GP_regression.Mat52.lengthscale\n",
      "reconstraining parameters GP_regression.Mat52.variance\n",
      "reconstraining parameters GP_regression.Gaussian_noise.variance\n"
     ]
    },
    {
     "name": "stdout",
     "output_type": "stream",
     "text": [
      "termination on tolstagnation=263 (Sun Aug 23 12:59:50 2020)\n",
      "final/bestever f-value = -2.142485e-01 -2.169369e-01\n",
      "incumbent solution: [0.5153462967766312, 1.9007175956759859, 1.8356493855401035, 4.553013125831514, 5.356625864224955, 4.120029368102732]\n",
      "std deviation: [4.7474353922945164e-05, 0.00011174494104695444, 0.0008768131117781477, 0.000681835211848907, 0.001212773191232165, 0.0008833974703245182]\n",
      "Optimization restart 1/10, f = 36.81931644829373\n",
      "Optimization restart 2/10, f = 327.09490701880196\n",
      "Optimization restart 3/10, f = 69.52799699291135\n",
      "Optimization restart 4/10, f = 37.531381569448136\n",
      "Optimization restart 5/10, f = 39.52705759383258\n",
      "Optimization restart 6/10, f = 69.52775945202934\n",
      "Optimization restart 7/10, f = 327.09490701880185\n",
      "Optimization restart 8/10, f = 77.82781514937763\n",
      "Optimization restart 9/10, f = 67.97391119640676\n"
     ]
    },
    {
     "name": "stderr",
     "output_type": "stream",
     "text": [
      "reconstraining parameters GP_regression.Mat52.lengthscale\n",
      "reconstraining parameters GP_regression.Mat52.variance\n",
      "reconstraining parameters GP_regression.Gaussian_noise.variance\n"
     ]
    },
    {
     "name": "stdout",
     "output_type": "stream",
     "text": [
      "Optimization restart 10/10, f = 37.53138157019849\n",
      "Optimization restart 1/10, f = 17.116447109664445\n",
      "Optimization restart 2/10, f = 69.5252730587279\n",
      "Optimization restart 3/10, f = 324.74040361065704\n",
      "Optimization restart 4/10, f = 32.02610161325245\n",
      "Optimization restart 5/10, f = 74.49701471685782\n",
      "Optimization restart 6/10, f = 61.07045880209809\n",
      "Optimization restart 7/10, f = 69.47971530509942\n",
      "Optimization restart 8/10, f = 24.95813150702116\n",
      "Optimization restart 9/10, f = 17.655869260034073\n",
      "Optimization restart 10/10, f = 327.09490701880196\n",
      "(4_w,9)-aCMA-ES (mu_w=2.8,w_1=49%) in dimension 6 (seed=348832, Sun Aug 23 12:59:56 2020)\n",
      "Iterat #Fevals   function value  axis ratio  sigma  min&max std  t[m:s]\n",
      "    1      9 2.579618686934460e-01 1.0e+00 2.41e-01  2e-01  2e-01 0:00.2\n",
      "    2     18 1.874804671893431e-01 1.2e+00 2.56e-01  2e-01  3e-01 0:00.4\n",
      "    3     27 9.029412676517340e-02 1.4e+00 2.62e-01  2e-01  3e-01 0:00.7\n",
      "   18    162 -1.320732459533265e-01 2.9e+00 5.71e-01  3e-01  7e-01 0:03.8\n",
      "   35    315 -2.007729625877892e-01 6.2e+00 1.53e-01  3e-02  2e-01 0:07.8\n",
      "   58    522 -2.108894566336443e-01 1.2e+01 7.79e-02  8e-03  7e-02 0:13.0\n",
      "   84    756 -2.131694437194633e-01 2.1e+01 1.16e-01  9e-03  1e-01 0:19.2\n",
      "  100    900 -2.123439608438209e-01 1.7e+01 9.32e-02  5e-03  6e-02 0:22.8\n",
      "  131   1179 -2.134464897757598e-01 1.7e+01 7.54e-02  3e-03  4e-02 0:30.9\n",
      "  173   1557 -2.126700450022802e-01 3.1e+01 3.97e-02  2e-03  2e-02 0:40.0\n",
      "  200   1800 -2.131987401586728e-01 7.8e+01 2.56e-02  9e-04  2e-02 0:45.8\n",
      "  246   2214 -2.116477990361801e-01 7.5e+01 1.92e-02  4e-04  1e-02 0:57.0\n",
      "  283   2547 -2.131840350917060e-01 1.5e+02 3.78e-02  8e-04  2e-02 1:09.0\n",
      "  300   2700 -2.135287149986409e-01 2.0e+02 4.77e-02  9e-04  3e-02 1:15.9\n",
      "  356   3204 -2.119968426018141e-01 2.6e+02 7.29e-02  2e-03  2e-02 1:30.0\n",
      "  400   3600 -2.128323856893458e-01 4.1e+02 1.54e-02  3e-04  4e-03 1:40.8\n",
      "  468   4212 -2.121061510667537e-01 5.3e+02 3.42e-02  3e-04  7e-03 1:56.8\n",
      "  500   4500 -2.118902995915621e-01 7.1e+02 5.96e-02  4e-04  9e-03 2:05.7\n",
      "  557   5013 -2.137897229558760e-01 1.9e+03 7.13e-02  7e-04  9e-03 2:23.9\n",
      "  600   5400 -2.126400898524049e-01 7.5e+03 7.54e-02  7e-04  2e-02 2:37.8\n",
      "  615   5535 -2.122030728402645e-01 8.8e+03 1.33e-01  1e-03  4e-02 2:43.2\n"
     ]
    },
    {
     "name": "stderr",
     "output_type": "stream",
     "text": [
      "reconstraining parameters GP_regression.Mat52.lengthscale\n",
      "reconstraining parameters GP_regression.Mat52.variance\n",
      "reconstraining parameters GP_regression.Gaussian_noise.variance\n"
     ]
    },
    {
     "name": "stdout",
     "output_type": "stream",
     "text": [
      "termination on tolstagnation=263 (Sun Aug 23 13:02:41 2020)\n",
      "final/bestever f-value = -2.137733e-01 -2.156805e-01\n",
      "incumbent solution: [1.128583272357086, 3.191364289531883, 3.060381524879597, 3.191589771553346, 4.803164238165899, 8.217934322160364]\n",
      "std deviation: [0.001154541542956328, 0.0027580821501414585, 0.03507312639062951, 0.012010579684982195, 0.006636844129868436, 0.02374596237932842]\n",
      "Optimization restart 1/10, f = 37.64381194413709\n",
      "Optimization restart 2/10, f = 2497260.646280039\n",
      "Optimization restart 3/10, f = 67.52719539624627\n",
      "Optimization restart 4/10, f = 70.94683486731395\n",
      "Optimization restart 5/10, f = 102.46843848682194\n",
      "Optimization restart 6/10, f = 70.94692666023253\n",
      "Optimization restart 7/10, f = 37.583303183445565\n",
      "Optimization restart 8/10, f = 70.72568643839854\n"
     ]
    },
    {
     "name": "stderr",
     "output_type": "stream",
     "text": [
      "reconstraining parameters GP_regression.Mat52.lengthscale\n",
      "reconstraining parameters GP_regression.Mat52.variance\n",
      "reconstraining parameters GP_regression.Gaussian_noise.variance\n"
     ]
    },
    {
     "name": "stdout",
     "output_type": "stream",
     "text": [
      "Optimization restart 9/10, f = 310.41195853949955\n",
      "Optimization restart 10/10, f = 89.04192298637544\n",
      "Optimization restart 1/10, f = 16.405256542201037\n",
      "Optimization restart 2/10, f = 33.548781625163926\n",
      "Optimization restart 3/10, f = 66.71960718443768\n",
      "Optimization restart 4/10, f = 15.737152086745592\n",
      "Optimization restart 5/10, f = 70.94692666023366\n",
      "Optimization restart 6/10, f = 70.79472076460067\n",
      "Optimization restart 7/10, f = 55.192371648756364\n",
      "Optimization restart 8/10, f = 27.49977541240528\n",
      "Optimization restart 9/10, f = 58.46411033544298\n",
      "Optimization restart 10/10, f = 1631798562.680312\n",
      "(4_w,9)-aCMA-ES (mu_w=2.8,w_1=49%) in dimension 6 (seed=304952, Sun Aug 23 13:02:44 2020)\n",
      "Iterat #Fevals   function value  axis ratio  sigma  min&max std  t[m:s]\n",
      "    1      9 1.523576822158074e-01 1.0e+00 2.43e-01  2e-01  3e-01 0:00.2\n",
      "    2     18 1.196418287682040e-01 1.3e+00 2.92e-01  3e-01  3e-01 0:00.5\n",
      "    3     27 1.264193747995319e-01 1.5e+00 3.46e-01  3e-01  4e-01 0:00.7\n",
      "   17    153 -8.607103999716686e-04 4.6e+00 4.69e-01  2e-01  7e-01 0:03.7\n",
      "   32    288 -5.544701938467019e-02 1.1e+01 4.08e-01  9e-02  7e-01 0:07.9\n",
      "   56    504 -7.716637725971069e-02 8.1e+00 1.13e-01  1e-02  1e-01 0:13.1\n",
      "   83    747 -7.909442075951510e-02 1.4e+01 3.88e-02  3e-03  4e-02 0:19.2\n",
      "  100    900 -7.885254786367187e-02 1.2e+01 4.41e-02  3e-03  3e-02 0:24.4\n",
      "  120   1080 -7.861329221096248e-02 2.0e+01 1.70e-02  1e-03  9e-03 0:32.4\n",
      "  141   1269 -7.907263449436075e-02 3.4e+01 1.49e-02  8e-04  8e-03 0:41.5\n",
      "  180   1620 -7.952344990482751e-02 4.1e+01 9.96e-03  4e-04  4e-03 0:51.8\n",
      "  200   1800 -7.903222641808771e-02 8.0e+01 1.82e-02  6e-04  8e-03 0:57.5\n",
      "  244   2196 -8.062614535053766e-02 1.4e+02 1.49e-02  3e-04  5e-03 1:09.5\n",
      "  283   2547 -7.913176908254527e-02 2.1e+02 7.84e-03  1e-04  2e-03 1:22.9\n",
      "  300   2700 -7.908172186181339e-02 2.7e+02 1.09e-02  2e-04  3e-03 1:29.7\n",
      "  348   3132 -7.816073569267230e-02 2.8e+02 5.86e-03  7e-05  1e-03 1:44.9\n",
      "  400   3600 -7.827601234420717e-02 4.4e+02 3.43e-03  4e-05  6e-04 1:57.5\n",
      "  458   4122 -7.842341806999871e-02 1.7e+03 1.33e-03  3e-05  3e-04 2:14.7\n",
      "  500   4500 -7.849806307284575e-02 4.7e+03 1.70e-03  5e-05  5e-04 2:25.9\n",
      "  505   4545 -7.857744253780322e-02 5.1e+03 1.71e-03  5e-05  5e-04 2:27.0\n"
     ]
    },
    {
     "name": "stderr",
     "output_type": "stream",
     "text": [
      "reconstraining parameters GP_regression.Mat52.lengthscale\n",
      "reconstraining parameters GP_regression.Mat52.variance\n",
      "reconstraining parameters GP_regression.Gaussian_noise.variance\n"
     ]
    },
    {
     "name": "stdout",
     "output_type": "stream",
     "text": [
      "termination on tolstagnation=263 (Sun Aug 23 13:05:12 2020)\n",
      "final/bestever f-value = -7.832452e-02 -8.067677e-02\n",
      "incumbent solution: [8.636921823583773e-05, 6.0722917400253406e-05, 0.002729743027757126, 0.0017866742337304387, 9.131354673129891, 0.009259316009159115]\n",
      "std deviation: [7.040057301884088e-05, 5.188843763448703e-05, 0.0005025298524011887, 0.00028899115825987173, 0.0003966620219872183, 0.0005414594898585748]\n",
      "Optimization restart 1/10, f = 35.290274609375906\n",
      "Optimization restart 2/10, f = 36.952083265587426\n",
      "Optimization restart 3/10, f = 72.36587732005643\n",
      "Optimization restart 4/10, f = 76.6427345045937\n",
      "Optimization restart 5/10, f = 38.313344061627596\n",
      "Optimization restart 6/10, f = 72.36586519343297\n",
      "Optimization restart 7/10, f = 72.11266688669423\n",
      "Optimization restart 8/10, f = 2547205.8592056395\n",
      "Optimization restart 9/10, f = 72.35702557796495\n"
     ]
    },
    {
     "name": "stderr",
     "output_type": "stream",
     "text": [
      "reconstraining parameters GP_regression.Mat52.lengthscale\n",
      "reconstraining parameters GP_regression.Mat52.variance\n",
      "reconstraining parameters GP_regression.Gaussian_noise.variance\n"
     ]
    },
    {
     "name": "stdout",
     "output_type": "stream",
     "text": [
      "Optimization restart 10/10, f = 39.38313694159568\n",
      "Optimization restart 1/10, f = 13.450573064628806\n",
      "Optimization restart 2/10, f = 70.21569494271962\n",
      "Optimization restart 3/10, f = 70.00351152292652\n",
      "Optimization restart 4/10, f = 340.4457195501816\n",
      "Optimization restart 5/10, f = 98.29173233085717\n",
      "Optimization restart 6/10, f = 72.32472701857188\n",
      "Optimization restart 7/10, f = 72.36151516293724\n",
      "Optimization restart 8/10, f = 72.3658651933323\n",
      "Optimization restart 9/10, f = 83.60580790971925\n",
      "Optimization restart 10/10, f = 14.619180067089424\n",
      "(4_w,9)-aCMA-ES (mu_w=2.8,w_1=49%) in dimension 6 (seed=211853, Sun Aug 23 13:05:17 2020)\n",
      "Iterat #Fevals   function value  axis ratio  sigma  min&max std  t[m:s]\n",
      "    1      9 3.140231018129121e-01 1.0e+00 2.31e-01  2e-01  2e-01 0:00.3\n",
      "    2     18 2.869257232605333e-01 1.1e+00 2.60e-01  3e-01  3e-01 0:00.6\n",
      "    3     27 2.824307092554837e-01 1.4e+00 3.09e-01  3e-01  3e-01 0:00.9\n",
      "   16    144 1.190275539939248e-01 4.2e+00 8.31e-01  5e-01  1e+00 0:03.9\n",
      "   29    261 3.736768413728097e-02 5.8e+00 1.06e+00  5e-01  2e+00 0:08.2\n",
      "   51    459 -8.542949110942906e-02 1.2e+01 4.58e-01  6e-02  6e-01 0:13.3\n",
      "   78    702 -1.629494085404518e-01 2.4e+01 2.05e-01  1e-02  2e-01 0:19.5\n",
      "  100    900 -1.861421384032279e-01 2.8e+01 1.48e-01  6e-03  1e-01 0:24.7\n",
      "  124   1116 -1.876904985234015e-01 5.2e+01 9.93e-02  3e-03  8e-02 0:32.8\n",
      "  157   1413 -1.881340252232637e-01 4.5e+01 5.20e-02  1e-03  4e-02 0:42.0\n",
      "  196   1764 -1.883369548670815e-01 6.3e+01 3.97e-02  7e-04  2e-02 0:52.2\n",
      "  200   1800 -1.882028104976767e-01 6.2e+01 3.09e-02  6e-04  2e-02 0:53.4\n",
      "  245   2205 -1.883730021137525e-01 7.9e+01 1.40e-02  2e-04  5e-03 1:05.6\n",
      "  297   2673 -1.885411897463733e-01 9.9e+01 1.59e-02  4e-04  6e-03 1:18.7\n",
      "  300   2700 -1.882257070778817e-01 1.5e+02 1.51e-02  3e-04  5e-03 1:20.0\n",
      "  354   3186 -1.885048496156893e-01 2.7e+02 1.58e-02  2e-04  4e-03 1:35.1\n",
      "  400   3600 -1.878857826151532e-01 6.2e+02 9.02e-03  6e-05  3e-03 1:48.0\n",
      "  458   4122 -1.879073334907827e-01 1.3e+03 4.29e-03  2e-05  6e-04 2:05.1\n",
      "  500   4500 -1.880931461841615e-01 2.7e+03 3.76e-03  1e-05  5e-04 2:16.1\n",
      "  505   4545 -1.877630082567957e-01 4.0e+03 7.42e-03  3e-05  1e-03 2:17.4\n"
     ]
    },
    {
     "name": "stderr",
     "output_type": "stream",
     "text": [
      "reconstraining parameters GP_regression.Mat52.lengthscale\n",
      "reconstraining parameters GP_regression.Mat52.variance\n",
      "reconstraining parameters GP_regression.Gaussian_noise.variance\n"
     ]
    },
    {
     "name": "stdout",
     "output_type": "stream",
     "text": [
      "termination on tolstagnation=263 (Sun Aug 23 13:07:35 2020)\n",
      "final/bestever f-value = -1.873354e-01 -1.892141e-01\n",
      "incumbent solution: [0.5437246472731889, 1.6813204895469573, 0.00469019624919155, 3.5834689774730326, 4.886692050223406, 5.41151039693044]\n",
      "std deviation: [3.062409349219639e-05, 5.542442715451843e-05, 5.804159759858081e-05, 0.00016397274499698754, 0.0010830345992339711, 0.0008622814763829803]\n",
      "Optimization restart 1/10, f = 38.264510551857455\n",
      "Optimization restart 2/10, f = 46.400231500579096\n",
      "Optimization restart 3/10, f = 95.55143566427778\n",
      "Optimization restart 4/10, f = 73.7848031762515\n",
      "Optimization restart 5/10, f = 73.52434014522656\n",
      "Optimization restart 6/10, f = 1143431856.3365746\n",
      "Optimization restart 7/10, f = 140.78423980316526\n",
      "Optimization restart 8/10, f = 70.17630019174872\n",
      "Optimization restart 9/10, f = 73.78480203276251\n"
     ]
    },
    {
     "name": "stderr",
     "output_type": "stream",
     "text": [
      "reconstraining parameters GP_regression.Mat52.lengthscale\n",
      "reconstraining parameters GP_regression.Mat52.variance\n",
      "reconstraining parameters GP_regression.Gaussian_noise.variance\n"
     ]
    },
    {
     "name": "stdout",
     "output_type": "stream",
     "text": [
      "Optimization restart 10/10, f = 69.1271869426676\n",
      "Optimization restart 1/10, f = 14.558043324288796\n",
      "Optimization restart 2/10, f = 14.409987724500262\n",
      "Optimization restart 3/10, f = 73.74943793231854\n",
      "Optimization restart 4/10, f = 14.409987724362484\n",
      "Optimization restart 5/10, f = 73.78480372664299\n",
      "Optimization restart 6/10, f = 334.70631655179733\n",
      "Optimization restart 7/10, f = 2597151.072131241\n",
      "Optimization restart 8/10, f = 61.25247563670976\n",
      "Optimization restart 9/10, f = 73.7848037266442\n",
      "Optimization restart 10/10, f = 44.58252968846401\n",
      "(4_w,9)-aCMA-ES (mu_w=2.8,w_1=49%) in dimension 6 (seed=227766, Sun Aug 23 13:07:41 2020)\n",
      "Iterat #Fevals   function value  axis ratio  sigma  min&max std  t[m:s]\n",
      "    1      9 1.423686296818990e-01 1.0e+00 2.46e-01  2e-01  3e-01 0:00.3\n",
      "    2     18 -2.509524474411149e-01 1.3e+00 2.49e-01  2e-01  3e-01 0:00.6\n",
      "    3     27 -3.329235149315831e-01 1.4e+00 2.91e-01  2e-01  3e-01 0:00.9\n",
      "   16    144 -4.305164858580782e-01 2.6e+00 2.39e-01  1e-01  3e-01 0:04.0\n",
      "   34    306 -4.567998215185082e-01 7.5e+00 1.16e-01  3e-02  1e-01 0:08.2\n",
      "   54    486 -5.040419094276424e-01 3.4e+01 1.54e-01  1e-02  4e-01 0:13.5\n",
      "   78    702 -5.061337820720186e-01 4.3e+01 6.02e-02  4e-03  1e-01 0:19.5\n",
      "  100    900 -5.044255361108024e-01 5.2e+01 7.02e-02  4e-03  1e-01 0:24.6\n",
      "  130   1170 -5.056821570927422e-01 3.3e+01 3.93e-02  2e-03  4e-02 0:32.6\n",
      "  162   1458 -5.056181130002702e-01 9.4e+01 4.48e-02  2e-03  7e-02 0:41.7\n",
      "  200   1800 -5.038475503897731e-01 9.7e+01 9.96e-02  3e-03  1e-01 0:51.3\n",
      "  238   2142 -5.042054002750358e-01 1.2e+02 4.96e-02  1e-03  4e-02 1:02.3\n",
      "  286   2574 -5.050124936333839e-01 3.9e+02 2.98e-02  5e-04  3e-02 1:14.4\n",
      "  300   2700 -5.079765026334468e-01 4.8e+02 3.32e-02  6e-04  4e-02 1:18.3\n",
      "  356   3204 -5.032026275946313e-01 1.1e+03 4.17e-02  7e-04  3e-02 1:32.5\n",
      "  400   3600 -5.060005207976419e-01 2.1e+03 2.56e-02  3e-04  3e-02 1:42.3\n",
      "  466   4194 -5.013868107693035e-01 1.0e+04 1.23e-02  2e-04  2e-02 1:58.4\n",
      "  500   4500 -5.076783613167499e-01 1.2e+04 3.21e-02  3e-04  3e-02 2:06.8\n",
      "  566   5094 -5.088351059311237e-01 1.8e+04 2.75e-02  2e-04  2e-02 2:24.8\n",
      "  600   5400 -5.071719779613946e-01 3.0e+04 5.63e-02  4e-04  4e-02 2:32.7\n",
      "  667   6003 -5.045894762212840e-01 1.8e+05 4.64e-02  3e-04  5e-02 2:52.7\n",
      "  700   6300 -5.067801737530991e-01 1.9e+05 4.01e-02  2e-04  4e-02 3:03.1\n",
      "  770   6930 -5.029642769812569e-01 2.5e+05 2.43e-02  7e-05  1e-02 3:25.2\n",
      "  800   7200 -5.039198816063237e-01 3.3e+05 5.16e-02  1e-04  3e-02 3:34.0\n"
     ]
    },
    {
     "name": "stderr",
     "output_type": "stream",
     "text": [
      "reconstraining parameters GP_regression.Mat52.lengthscale\n",
      "reconstraining parameters GP_regression.Mat52.variance\n",
      "reconstraining parameters GP_regression.Gaussian_noise.variance\n"
     ]
    },
    {
     "name": "stdout",
     "output_type": "stream",
     "text": [
      "termination on tolstagnation=263 (Sun Aug 23 13:11:16 2020)\n",
      "final/bestever f-value = -4.995929e-01 -5.120433e-01\n",
      "incumbent solution: [0.07994695174439391, 3.999789558647856, 2.7735431630395797, 0.024016349899655197, 8.568466559996164, 10.371907348756077]\n",
      "std deviation: [0.00014264327887127928, 0.0027750260876885364, 0.007091036739303417, 0.023585746461643124, 0.03016286083907297, 0.024476831656613424]\n",
      "Optimization restart 1/10, f = 38.541941955747035\n",
      "Optimization restart 2/10, f = 75.20374225920979\n",
      "Optimization restart 3/10, f = 81.8105513226687\n",
      "Optimization restart 4/10, f = 38.54194194137824\n",
      "Optimization restart 5/10, f = 45.750545479933216\n",
      "Optimization restart 6/10, f = 75.20374225984824\n",
      "Optimization restart 7/10, f = 39.57937063796983\n",
      "Optimization restart 8/10, f = 96.88064220085839\n",
      "Optimization restart 9/10, f = 61.19096266342278\n"
     ]
    },
    {
     "name": "stderr",
     "output_type": "stream",
     "text": [
      "reconstraining parameters GP_regression.Mat52.lengthscale\n",
      "reconstraining parameters GP_regression.Mat52.variance\n",
      "reconstraining parameters GP_regression.Gaussian_noise.variance\n"
     ]
    },
    {
     "name": "stdout",
     "output_type": "stream",
     "text": [
      "Optimization restart 10/10, f = 62.18822389116079\n",
      "Optimization restart 1/10, f = 14.327630550609278\n",
      "Optimization restart 2/10, f = 56.051514383621694\n",
      "Optimization restart 3/10, f = 64.66614824174324\n",
      "Optimization restart 4/10, f = 75.20374247164675\n",
      "Optimization restart 5/10, f = 89.38694502468637\n",
      "Optimization restart 6/10, f = 67.85736641404536\n",
      "Optimization restart 7/10, f = 100.36541137007562\n",
      "Optimization restart 8/10, f = 22.731718457593015\n",
      "Optimization restart 9/10, f = 353.7965320815613\n",
      "Optimization restart 10/10, f = 353.7965320815613\n",
      "(4_w,9)-aCMA-ES (mu_w=2.8,w_1=49%) in dimension 6 (seed=316540, Sun Aug 23 13:11:22 2020)\n",
      "Iterat #Fevals   function value  axis ratio  sigma  min&max std  t[m:s]\n",
      "    1      9 4.126764952771897e-02 1.0e+00 2.22e-01  2e-01  2e-01 0:00.2\n",
      "    2     18 1.197806452421872e-02 1.2e+00 1.99e-01  2e-01  2e-01 0:00.5\n",
      "    3     27 2.407951915210698e-02 1.3e+00 2.03e-01  2e-01  2e-01 0:00.7\n",
      "   11     99 -5.472484046822950e-02 2.0e+00 1.89e-01  1e-01  2e-01 0:03.9\n",
      "   23    207 -1.773552567263354e-01 5.2e+00 2.75e-01  9e-02  3e-01 0:08.2\n",
      "   36    324 -1.862056963607143e-01 1.2e+01 1.66e-01  3e-02  3e-01 0:13.6\n",
      "   51    459 -1.909645373337721e-01 1.9e+01 1.05e-01  1e-02  2e-01 0:19.6\n",
      "   80    720 -1.927356852080638e-01 2.7e+01 5.49e-02  6e-03  7e-02 0:26.7\n",
      "  100    900 -1.948897481635672e-01 3.7e+01 4.61e-02  3e-03  5e-02 0:31.3\n",
      "  129   1161 -1.947144109633210e-01 5.1e+01 2.83e-02  1e-03  2e-02 0:40.3\n",
      "  153   1377 -1.932513206173620e-01 6.1e+01 2.16e-02  1e-03  2e-02 0:50.7\n",
      "  177   1593 -1.932345247961676e-01 7.6e+01 1.33e-02  5e-04  9e-03 1:02.0\n",
      "  200   1800 -1.924789396801925e-01 1.1e+02 1.28e-02  4e-04  8e-03 1:12.4\n",
      "  239   2151 -1.914771230600088e-01 1.9e+02 9.84e-03  3e-04  6e-03 1:25.5\n",
      "  290   2610 -1.943356181666661e-01 1.6e+02 3.02e-02  5e-04  1e-02 1:39.6\n",
      "  300   2700 -1.910197708053098e-01 1.6e+02 2.32e-02  4e-04  8e-03 1:42.1\n",
      "  359   3231 -1.928538021485855e-01 3.6e+02 3.41e-02  6e-04  1e-02 1:58.3\n",
      "  400   3600 -1.945840666764194e-01 7.0e+02 1.07e-01  2e-03  4e-02 2:11.9\n",
      "  476   4284 -1.940602574487853e-01 2.6e+03 1.45e-01  2e-03  5e-02 2:30.1\n",
      "  500   4500 -1.956614971623976e-01 2.4e+03 1.28e-01  1e-03  3e-02 2:37.2\n",
      "  576   5184 -1.950460064769062e-01 1.1e+04 2.97e-02  2e-04  5e-03 2:57.4\n",
      "  600   5400 -1.938741533229191e-01 1.1e+04 5.52e-02  5e-04  9e-03 3:03.2\n",
      "  694   6246 -1.927127806832178e-01 2.5e+04 1.03e-01  4e-04  9e-03 3:25.3\n",
      "  700   6300 -1.935417923873308e-01 2.9e+04 8.73e-02  3e-04  8e-03 3:26.7\n",
      "  795   7155 -1.939517223032776e-01 7.3e+04 2.12e-02  5e-05  1e-03 3:48.7\n"
     ]
    },
    {
     "name": "stderr",
     "output_type": "stream",
     "text": [
      "reconstraining parameters GP_regression.Mat52.lengthscale\n",
      "reconstraining parameters GP_regression.Mat52.variance\n",
      "reconstraining parameters GP_regression.Gaussian_noise.variance\n"
     ]
    },
    {
     "name": "stdout",
     "output_type": "stream",
     "text": [
      "termination on tolstagnation=263 (Sun Aug 23 13:15:12 2020)\n",
      "final/bestever f-value = -1.947957e-01 -1.990580e-01\n",
      "incumbent solution: [1.5064503901039852, 0.608473505853752, 2.212355362154193, 3.2799155080194455, 5.586445993307223, 1.250020467668282]\n",
      "std deviation: [4.68287642186863e-05, 0.00010637664368543803, 0.0003232210027222596, 0.0010952908885785968, 0.0006722905189214051, 0.0012013872814330777]\n",
      "Optimization restart 1/10, f = 39.39351737765641\n",
      "Optimization restart 2/10, f = 74.34262726837235\n",
      "Optimization restart 3/10, f = 47.42292091589183\n",
      "Optimization restart 4/10, f = 42.77039649792731\n",
      "Optimization restart 5/10, f = 60.63833143402438\n",
      "Optimization restart 6/10, f = 42.7703979568678\n",
      "Optimization restart 7/10, f = 76.62270370899176\n",
      "Optimization restart 8/10, f = 76.32326714238069\n",
      "Optimization restart 9/10, f = 42.77039646787122\n"
     ]
    },
    {
     "name": "stderr",
     "output_type": "stream",
     "text": [
      "reconstraining parameters GP_regression.Mat52.lengthscale\n",
      "reconstraining parameters GP_regression.Mat52.variance\n",
      "reconstraining parameters GP_regression.Gaussian_noise.variance\n"
     ]
    },
    {
     "name": "stdout",
     "output_type": "stream",
     "text": [
      "Optimization restart 10/10, f = 39.69628020536005\n",
      "Optimization restart 1/10, f = 13.900529745483588\n",
      "Optimization restart 2/10, f = 83.86051633150927\n",
      "Optimization restart 3/10, f = 68.97210825566843\n",
      "Optimization restart 4/10, f = 13.90052974563595\n",
      "Optimization restart 5/10, f = 76.57397780527977\n",
      "Optimization restart 6/10, f = 72.00054148790566\n",
      "Optimization restart 7/10, f = 22.590111584152215\n",
      "Optimization restart 8/10, f = 22.053486460191277\n",
      "Optimization restart 9/10, f = 86.9229209465352\n",
      "Optimization restart 10/10, f = 13.900733341111149\n",
      "(4_w,9)-aCMA-ES (mu_w=2.8,w_1=49%) in dimension 6 (seed=330505, Sun Aug 23 13:15:16 2020)\n",
      "Iterat #Fevals   function value  axis ratio  sigma  min&max std  t[m:s]\n",
      "    1      9 9.396325653683953e-02 1.0e+00 2.44e-01  2e-01  3e-01 0:00.2\n",
      "    2     18 -2.810756746295490e-02 1.3e+00 2.94e-01  3e-01  3e-01 0:00.5\n",
      "    3     27 -4.219923422589905e-02 1.5e+00 3.26e-01  3e-01  4e-01 0:00.7\n",
      "   16    144 -1.082181026296056e-01 2.9e+00 1.86e-01  1e-01  2e-01 0:03.7\n",
      "   34    306 -1.704171164001987e-01 1.2e+01 1.65e-01  3e-02  3e-01 0:07.9\n",
      "   56    504 -1.752302546317390e-01 2.1e+01 6.41e-02  5e-03  8e-02 0:13.0\n",
      "   82    738 -1.755665663335094e-01 4.1e+01 6.52e-02  3e-03  9e-02 0:19.1\n",
      "  100    900 -1.757738148969653e-01 5.4e+01 4.84e-02  2e-03  8e-02 0:23.3\n",
      "  135   1215 -1.756261219839382e-01 1.1e+02 6.69e-02  2e-03  1e-01 0:31.4\n",
      "  174   1566 -1.760411863122528e-01 1.1e+02 1.40e-02  3e-04  1e-02 0:40.5\n",
      "  200   1800 -1.758193432264326e-01 1.9e+02 5.22e-03  8e-05  5e-03 0:46.6\n",
      "  248   2232 -1.757296925850936e-01 2.2e+02 7.90e-03  9e-05  7e-03 0:57.7\n",
      "  300   2700 -1.759921407305012e-01 5.1e+02 4.80e-03  5e-05  4e-03 1:09.8\n",
      "  357   3213 -1.765761847011889e-01 7.9e+02 6.56e-03  6e-05  4e-03 1:23.0\n",
      "  400   3600 -1.752070255175701e-01 2.7e+03 1.29e-03  1e-05  2e-03 1:32.9\n",
      "  465   4185 -1.761745555768690e-01 4.2e+03 7.28e-04  8e-06  6e-04 1:48.1\n",
      "  500   4500 -1.769390518245205e-01 6.2e+03 3.85e-04  3e-06  3e-04 1:56.5\n",
      "  505   4545 -1.761659082329299e-01 4.9e+03 3.41e-04  3e-06  2e-04 1:57.7\n"
     ]
    },
    {
     "name": "stderr",
     "output_type": "stream",
     "text": [
      "reconstraining parameters GP_regression.Mat52.lengthscale\n",
      "reconstraining parameters GP_regression.Mat52.variance\n",
      "reconstraining parameters GP_regression.Gaussian_noise.variance\n"
     ]
    },
    {
     "name": "stdout",
     "output_type": "stream",
     "text": [
      "termination on tolstagnation=263 (Sun Aug 23 13:17:15 2020)\n",
      "final/bestever f-value = -1.744808e-01 -1.772961e-01\n",
      "incumbent solution: [1.1490156939186196, 3.0200454487353654, 2.6086917343349683, 3.4139169573312134, 6.073314974713662, 9.233369984541886]\n",
      "std deviation: [2.930057737627007e-06, 3.016171257264022e-06, 0.0001249571110726119, 7.832835679212815e-05, 0.00016503785731085722, 0.00022718461480795843]\n",
      "Optimization restart 1/10, f = 40.96676031550771\n",
      "Optimization restart 2/10, f = 63.410247029363134\n",
      "Optimization restart 3/10, f = 78.0416193237978\n",
      "Optimization restart 4/10, f = 72.19996976880687\n",
      "Optimization restart 5/10, f = 74.72208339330417\n",
      "Optimization restart 6/10, f = 78.04157194510438\n",
      "Optimization restart 7/10, f = 41.256158404777246\n",
      "Optimization restart 8/10, f = 47.53572467014557\n"
     ]
    },
    {
     "name": "stderr",
     "output_type": "stream",
     "text": [
      "reconstraining parameters GP_regression.Mat52.lengthscale\n",
      "reconstraining parameters GP_regression.Mat52.variance\n",
      "reconstraining parameters GP_regression.Gaussian_noise.variance\n"
     ]
    },
    {
     "name": "stdout",
     "output_type": "stream",
     "text": [
      "Optimization restart 9/10, f = 58.80861185034915\n",
      "Optimization restart 10/10, f = 367.14734461294086\n",
      "Optimization restart 1/10, f = 16.467951815379454\n",
      "Optimization restart 2/10, f = 22.00545698988656\n",
      "Optimization restart 3/10, f = 38.09729232451821\n",
      "Optimization restart 4/10, f = 341.92190559962836\n",
      "Optimization restart 5/10, f = 367.14734461294086\n",
      "Optimization restart 6/10, f = 85.20217193890382\n",
      "Optimization restart 7/10, f = 367.14734461294086\n",
      "Optimization restart 8/10, f = 319.490932299652\n",
      "Optimization restart 9/10, f = 88.46630866350321\n",
      "Optimization restart 10/10, f = 24.18718966703125\n",
      "(4_w,9)-aCMA-ES (mu_w=2.8,w_1=49%) in dimension 6 (seed=296805, Sun Aug 23 13:17:18 2020)\n",
      "Iterat #Fevals   function value  axis ratio  sigma  min&max std  t[m:s]\n",
      "    1      9 2.761442744682114e-01 1.0e+00 2.49e-01  2e-01  3e-01 0:00.2\n",
      "    2     18 2.692922173262692e-01 1.2e+00 2.62e-01  3e-01  3e-01 0:00.5\n",
      "    3     27 2.151924418042796e-01 1.4e+00 2.76e-01  3e-01  3e-01 0:00.7\n",
      "   15    135 1.272200526524723e-01 2.8e+00 2.11e-01  1e-01  3e-01 0:04.1\n",
      "   29    261 -2.051808516087272e-02 8.3e+00 6.82e-01  2e-01  1e+00 0:08.3\n",
      "   49    441 -6.971414325100565e-02 1.5e+01 8.30e-02  1e-02  1e-01 0:13.4\n",
      "   72    648 -7.806521037312938e-02 1.9e+01 8.04e-02  7e-03  1e-01 0:19.4\n",
      "   96    864 -7.853900081850333e-02 4.1e+01 3.98e-02  2e-03  5e-02 0:27.0\n",
      "  100    900 -7.922419889948192e-02 4.7e+01 3.27e-02  2e-03  4e-02 0:28.2\n",
      "  124   1116 -7.952148150569995e-02 4.0e+01 6.67e-02  4e-03  7e-02 0:37.4\n",
      "  152   1368 -7.965073547860686e-02 3.7e+01 3.74e-02  2e-03  3e-02 0:48.0\n",
      "  181   1629 -7.940473048477453e-02 2.9e+01 4.86e-02  2e-03  2e-02 0:59.3\n",
      "  200   1800 -8.074786437749627e-02 2.6e+01 3.99e-02  1e-03  1e-02 1:04.9\n",
      "  240   2160 -7.982545936598202e-02 3.2e+01 1.28e-02  4e-04  4e-03 1:18.4\n",
      "  287   2583 -7.977823054518621e-02 8.4e+01 2.06e-02  4e-04  6e-03 1:32.5\n",
      "  300   2700 -7.947066487360611e-02 8.7e+01 2.36e-02  4e-04  7e-03 1:35.8\n",
      "  348   3132 -7.962470703826309e-02 6.1e+01 1.21e-02  2e-04  2e-03 1:51.8\n",
      "  397   3573 -8.065339884032476e-02 6.2e+01 4.50e-03  5e-05  5e-04 2:09.0\n",
      "  400   3600 -8.026080663425239e-02 6.9e+01 4.77e-03  5e-05  5e-04 2:10.0\n",
      "  472   4248 -8.009454490968165e-02 1.8e+02 2.67e-02  4e-04  4e-03 2:29.2\n",
      "  500   4500 -7.921580353393994e-02 3.1e+02 1.31e-02  2e-04  2e-03 2:37.6\n",
      "  570   5130 -7.954622195110597e-02 3.4e+02 6.77e-02  7e-04  6e-03 2:58.9\n",
      "  575   5175 -8.051677558984084e-02 2.7e+02 7.18e-02  7e-04  5e-03 3:00.7\n"
     ]
    },
    {
     "name": "stderr",
     "output_type": "stream",
     "text": [
      "reconstraining parameters GP_regression.Mat52.lengthscale\n",
      "reconstraining parameters GP_regression.Mat52.variance\n",
      "reconstraining parameters GP_regression.Gaussian_noise.variance\n"
     ]
    },
    {
     "name": "stdout",
     "output_type": "stream",
     "text": [
      "termination on tolstagnation=263 (Sun Aug 23 13:20:20 2020)\n",
      "final/bestever f-value = -7.922905e-02 -8.178600e-02\n",
      "incumbent solution: [7.62880588832034e-05, 0.00015018349129857704, 0.00035326001932618853, 0.00018578808124969351, 9.995431027236966, 2.487949284767458]\n",
      "std deviation: [0.0008718865672660719, 0.0006840450849054785, 0.000991411219801921, 0.0021601396406603856, 0.0020413003243053775, 0.004899685758980718]\n",
      "Optimization restart 1/10, f = 39.7779085756406\n",
      "Optimization restart 2/10, f = 86.76270812023556\n",
      "Optimization restart 3/10, f = 39.7779085731333\n",
      "Optimization restart 4/10, f = 79.4605577558155\n",
      "Optimization restart 5/10, f = 47.71065316817352\n",
      "Optimization restart 6/10, f = 79.46049210453654\n",
      "Optimization restart 7/10, f = 79.46058634147893\n",
      "Optimization restart 8/10, f = 129.39893907003693\n"
     ]
    },
    {
     "name": "stderr",
     "output_type": "stream",
     "text": [
      "reconstraining parameters GP_regression.Mat52.lengthscale\n",
      "reconstraining parameters GP_regression.Mat52.variance\n",
      "reconstraining parameters GP_regression.Gaussian_noise.variance\n"
     ]
    },
    {
     "name": "stdout",
     "output_type": "stream",
     "text": [
      "Optimization restart 9/10, f = 99.29283268340154\n",
      "Optimization restart 10/10, f = 79.46055785945914\n",
      "Optimization restart 1/10, f = 23.578766290005326\n",
      "Optimization restart 2/10, f = 23.578766228422957\n",
      "Optimization restart 3/10, f = 104.66029782492251\n",
      "Optimization restart 4/10, f = 23.035373328976267\n",
      "Optimization restart 5/10, f = 373.8227508786308\n",
      "Optimization restart 6/10, f = 13.171761717070964\n",
      "Optimization restart 7/10, f = 335.88187283143714\n",
      "Optimization restart 8/10, f = 1759535074.887111\n",
      "Optimization restart 9/10, f = 336.1978559238998\n",
      "Optimization restart 10/10, f = 79.46055785946167\n",
      "(4_w,9)-aCMA-ES (mu_w=2.8,w_1=49%) in dimension 6 (seed=294995, Sun Aug 23 13:20:24 2020)\n",
      "Iterat #Fevals   function value  axis ratio  sigma  min&max std  t[m:s]\n",
      "    1      9 -6.715193966879267e-02 1.0e+00 2.60e-01  3e-01  3e-01 0:00.3\n",
      "    2     18 -8.665836033059418e-02 1.3e+00 2.52e-01  2e-01  3e-01 0:00.6\n",
      "    3     27 -8.189168298967252e-02 1.4e+00 2.47e-01  2e-01  3e-01 0:00.9\n",
      "   14    126 -1.257246798676792e-01 2.6e+00 1.98e-01  1e-01  2e-01 0:04.2\n",
      "   29    261 -1.663285251495019e-01 5.0e+00 2.91e-01  1e-01  3e-01 0:08.4\n",
      "   48    432 -2.413933167539095e-01 1.0e+01 3.50e-01  5e-02  5e-01 0:13.7\n",
      "   71    639 -2.622089634430014e-01 2.1e+01 7.69e-02  6e-03  1e-01 0:19.7\n",
      "   97    873 -2.634836756132368e-01 5.5e+01 2.60e-02  2e-03  4e-02 0:26.9\n",
      "  100    900 -2.645351595090756e-01 4.2e+01 4.06e-02  3e-03  5e-02 0:27.7\n",
      "  132   1188 -2.632356681542290e-01 5.9e+01 4.29e-02  2e-03  5e-02 0:37.0\n",
      "  164   1476 -2.643884190317343e-01 8.5e+01 5.73e-02  2e-03  5e-02 0:47.1\n",
      "  195   1755 -2.634426940168572e-01 7.0e+01 4.19e-02  1e-03  3e-02 0:58.1\n",
      "  200   1800 -2.640315455253099e-01 6.6e+01 3.10e-02  7e-04  2e-02 0:59.7\n",
      "  248   2232 -2.629812165401365e-01 1.0e+02 3.49e-02  5e-04  2e-02 1:12.9\n",
      "  298   2682 -2.625227733694127e-01 2.4e+02 3.35e-02  4e-04  2e-02 1:27.0\n",
      "  300   2700 -2.630696802403063e-01 2.3e+02 3.27e-02  4e-04  2e-02 1:27.5\n",
      "  363   3267 -2.630065840708015e-01 5.2e+02 3.34e-02  5e-04  2e-02 1:43.8\n",
      "  400   3600 -2.641536960635669e-01 6.0e+02 1.73e-02  1e-04  6e-03 1:52.9\n",
      "  470   4230 -2.630084421712179e-01 1.8e+03 1.61e-02  1e-04  6e-03 2:11.1\n",
      "  500   4500 -2.631239213766802e-01 1.9e+03 1.55e-02  8e-05  4e-03 2:19.1\n",
      "  505   4545 -2.631381682973530e-01 1.7e+03 1.21e-02  6e-05  3e-03 2:20.3\n"
     ]
    },
    {
     "name": "stderr",
     "output_type": "stream",
     "text": [
      "reconstraining parameters GP_regression.Mat52.lengthscale\n",
      "reconstraining parameters GP_regression.Mat52.variance\n",
      "reconstraining parameters GP_regression.Gaussian_noise.variance\n"
     ]
    },
    {
     "name": "stdout",
     "output_type": "stream",
     "text": [
      "termination on tolstagnation=263 (Sun Aug 23 13:22:45 2020)\n",
      "final/bestever f-value = -2.620569e-01 -2.648620e-01\n",
      "incumbent solution: [1.108197505205614, 3.009489815229768, 2.4239771693800916, 3.4554388009523493, 3.909754585102561, 5.808983979511571]\n",
      "std deviation: [5.601481110384334e-05, 9.651671684752159e-05, 0.000620544685513775, 0.0011439217014152347, 0.0025712601295408365, 0.0009013891672610092]\n",
      "Optimization restart 1/10, f = 39.2332927446671\n",
      "Optimization restart 2/10, f = 61.042358471823434\n",
      "Optimization restart 3/10, f = 60.92012910625663\n",
      "Optimization restart 4/10, f = 62.282674241322816\n",
      "Optimization restart 5/10, f = 47.68358960883573\n",
      "Optimization restart 6/10, f = 88.23615877124797\n",
      "Optimization restart 7/10, f = 88.23618014051077\n",
      "Optimization restart 8/10, f = 68.25591524116356\n",
      "Optimization restart 9/10, f = 179.0159540148275\n"
     ]
    },
    {
     "name": "stderr",
     "output_type": "stream",
     "text": [
      "reconstraining parameters GP_regression.Mat52.lengthscale\n",
      "reconstraining parameters GP_regression.Mat52.variance\n",
      "reconstraining parameters GP_regression.Gaussian_noise.variance\n"
     ]
    },
    {
     "name": "stdout",
     "output_type": "stream",
     "text": [
      "Optimization restart 10/10, f = 77.99725325722318\n",
      "Optimization restart 1/10, f = 11.799728533077378\n",
      "Optimization restart 2/10, f = 38.091534844410724\n",
      "Optimization restart 3/10, f = 75.05337407942848\n",
      "Optimization restart 4/10, f = 21.635592267420744\n",
      "Optimization restart 5/10, f = 80.87949679991682\n",
      "Optimization restart 6/10, f = 49.22258601526431\n",
      "Optimization restart 7/10, f = 11.799728536407638\n",
      "Optimization restart 8/10, f = 21.635591690477458\n",
      "Optimization restart 9/10, f = 2846877.136759244\n",
      "Optimization restart 10/10, f = 134.21270425241264\n",
      "(4_w,9)-aCMA-ES (mu_w=2.8,w_1=49%) in dimension 6 (seed=304351, Sun Aug 23 13:22:49 2020)\n",
      "Iterat #Fevals   function value  axis ratio  sigma  min&max std  t[m:s]\n",
      "    1      9 2.177500659242807e-01 1.0e+00 2.91e-01  3e-01  3e-01 0:00.3\n",
      "    2     18 1.885432182819577e-01 1.2e+00 3.48e-01  3e-01  4e-01 0:00.5\n",
      "    3     27 1.883480344107374e-01 1.4e+00 4.22e-01  4e-01  5e-01 0:00.8\n",
      "   15    135 9.245808376411445e-02 2.2e+00 5.20e-01  4e-01  6e-01 0:04.0\n",
      "   31    279 -6.487301140910048e-02 5.7e+00 1.32e+00  4e-01  2e+00 0:08.1\n",
      "   49    441 -1.872671739373895e-01 7.9e+00 3.55e-01  6e-02  5e-01 0:13.3\n",
      "   72    648 -2.333570758484886e-01 2.1e+01 1.66e-01  2e-02  2e-01 0:19.4\n",
      "  100    900 -2.356171705063944e-01 3.9e+01 3.48e-02  2e-03  4e-02 0:26.6\n",
      "  133   1197 -2.364783014473672e-01 4.7e+01 1.49e-02  6e-04  1e-02 0:34.8\n",
      "  166   1494 -2.349875766900781e-01 6.4e+01 1.75e-02  7e-04  1e-02 0:43.9\n",
      "  198   1782 -2.353874917688274e-01 6.4e+01 9.00e-03  2e-04  6e-03 0:54.2\n",
      "  200   1800 -2.355087422660045e-01 5.9e+01 8.69e-03  2e-04  6e-03 0:54.8\n",
      "  245   2205 -2.353254584895706e-01 5.1e+01 4.03e-03  1e-04  1e-03 1:06.9\n",
      "  287   2583 -2.354037022999035e-01 5.1e+01 5.49e-03  1e-04  2e-03 1:20.0\n",
      "  300   2700 -2.358312567889160e-01 6.7e+01 4.85e-03  1e-04  2e-03 1:23.9\n",
      "  352   3168 -2.357184067397050e-01 1.6e+02 5.00e-03  1e-04  2e-03 1:39.2\n",
      "  400   3600 -2.359218029156540e-01 2.3e+02 1.19e-02  3e-04  6e-03 1:51.4\n",
      "  462   4158 -2.359320034196870e-01 7.6e+02 1.29e-02  4e-04  7e-03 2:09.0\n",
      "  500   4500 -2.359356226448758e-01 7.4e+02 4.65e-02  9e-04  2e-02 2:26.2\n",
      "  530   4770 -2.358412314238585e-01 1.0e+03 5.44e-02  9e-04  2e-02 2:34.3\n"
     ]
    },
    {
     "name": "stderr",
     "output_type": "stream",
     "text": [
      "reconstraining parameters GP_regression.Mat52.lengthscale\n",
      "reconstraining parameters GP_regression.Mat52.variance\n",
      "reconstraining parameters GP_regression.Gaussian_noise.variance\n"
     ]
    },
    {
     "name": "stdout",
     "output_type": "stream",
     "text": [
      "termination on tolstagnation=263 (Sun Aug 23 13:25:24 2020)\n",
      "final/bestever f-value = -2.334274e-01 -2.370026e-01\n",
      "incumbent solution: [1.07823261290888, 3.3098738446221483, 2.7663069410779197, 3.68849343313812, 3.6676449083165164, 5.519091011538171]\n",
      "std deviation: [0.0009763324661883681, 0.0009039147368184049, 0.0015250948239880595, 0.008055608399096663, 0.015808438335749103, 0.00693051696958746]\n",
      "Optimization restart 1/10, f = 38.941105169807045\n",
      "Optimization restart 2/10, f = 82.29843492587085\n",
      "Optimization restart 3/10, f = 160.15311151527277\n",
      "Optimization restart 4/10, f = 86.28533314482586\n",
      "Optimization restart 5/10, f = 58.226939046115106\n",
      "Optimization restart 6/10, f = 116.03144049020385\n",
      "Optimization restart 7/10, f = 61.070912443384344\n",
      "Optimization restart 8/10, f = 369.1340762907908\n",
      "Optimization restart 9/10, f = 106.28978730218361\n"
     ]
    },
    {
     "name": "stderr",
     "output_type": "stream",
     "text": [
      "reconstraining parameters GP_regression.Mat52.lengthscale\n",
      "reconstraining parameters GP_regression.Mat52.variance\n",
      "reconstraining parameters GP_regression.Gaussian_noise.variance\n"
     ]
    },
    {
     "name": "stdout",
     "output_type": "stream",
     "text": [
      "Optimization restart 10/10, f = 38.94110516967221\n",
      "Optimization restart 1/10, f = 11.066114819934704\n",
      "Optimization restart 2/10, f = 78.01410805515499\n",
      "Optimization restart 3/10, f = 93.08810418352417\n",
      "Optimization restart 4/10, f = 82.2984348212089\n",
      "Optimization restart 5/10, f = 27.34493564052698\n",
      "Optimization restart 6/10, f = 11.066114820139134\n",
      "Optimization restart 7/10, f = 21.747809241650632\n",
      "Optimization restart 8/10, f = 79.23264356627362\n",
      "Optimization restart 9/10, f = 71.5048680791614\n",
      "Optimization restart 10/10, f = 1825708873.5821238\n",
      "(4_w,9)-aCMA-ES (mu_w=2.8,w_1=49%) in dimension 6 (seed=227773, Sun Aug 23 13:25:30 2020)\n",
      "Iterat #Fevals   function value  axis ratio  sigma  min&max std  t[m:s]\n",
      "    1      9 2.752509748093551e-01 1.0e+00 2.48e-01  2e-01  3e-01 0:00.4\n",
      "    2     18 2.437032479285572e-01 1.2e+00 2.39e-01  2e-01  2e-01 0:00.6\n",
      "    3     27 2.374764343339198e-01 1.3e+00 2.45e-01  2e-01  3e-01 0:00.9\n",
      "   12    108 -3.512355815295961e-02 3.0e+00 6.08e-01  4e-01  7e-01 0:04.0\n",
      "   25    225 -2.526968052653125e-01 3.5e+00 4.29e-01  2e-01  5e-01 0:08.1\n",
      "   40    360 -3.167382000624551e-01 6.5e+00 2.34e-01  4e-02  3e-01 0:13.2\n",
      "   64    576 -3.211119115863716e-01 1.1e+01 1.41e-01  2e-02  2e-01 0:19.4\n",
      "   90    810 -3.222124843095063e-01 1.2e+01 1.25e-01  1e-02  1e-01 0:26.6\n",
      "  100    900 -3.246797838781719e-01 1.6e+01 1.24e-01  1e-02  2e-01 0:29.1\n",
      "  134   1206 -3.227637370296935e-01 2.5e+01 9.75e-02  6e-03  1e-01 0:38.2\n",
      "  170   1530 -3.217612150133412e-01 4.8e+01 5.81e-02  2e-03  4e-02 0:48.3\n",
      "  200   1800 -3.227531103217792e-01 8.5e+01 3.58e-02  8e-04  3e-02 0:56.1\n",
      "  243   2187 -3.217258831383061e-01 7.2e+01 5.83e-02  2e-03  5e-02 1:08.3\n",
      "  287   2583 -3.208816303175472e-01 6.9e+01 3.64e-02  9e-04  2e-02 1:21.5\n",
      "  300   2700 -3.221773386185608e-01 6.5e+01 3.44e-02  8e-04  2e-02 1:25.0\n",
      "  350   3150 -3.231168926655890e-01 7.4e+01 2.21e-02  2e-04  7e-03 1:40.4\n",
      "  398   3582 -3.226620309608511e-01 9.6e+01 4.44e-02  4e-04  1e-02 1:56.4\n",
      "  400   3600 -3.231119211928268e-01 1.0e+02 4.39e-02  4e-04  1e-02 1:57.1\n",
      "  468   4212 -3.217769216730461e-01 2.5e+02 4.19e-01  4e-03  1e-01 2:15.2\n",
      "  500   4500 -3.205480859613476e-01 2.3e+02 2.14e-01  1e-03  3e-02 2:23.3\n",
      "  574   5166 -3.232151103326840e-01 3.1e+02 1.46e-01  5e-04  1e-02 2:43.5\n",
      "  600   5400 -3.208696138426125e-01 5.1e+02 9.58e-02  3e-04  8e-03 2:50.1\n",
      "  687   6183 -3.207276605429252e-01 1.1e+03 4.18e-01  7e-04  3e-02 3:12.2\n",
      "  700   6300 -3.217091616195918e-01 9.0e+02 7.07e-01  1e-03  4e-02 3:15.6\n",
      "  705   6345 -3.219320865188677e-01 1.0e+03 6.25e-01  1e-03  4e-02 3:16.9\n"
     ]
    },
    {
     "name": "stderr",
     "output_type": "stream",
     "text": [
      "reconstraining parameters GP_regression.Mat52.lengthscale\n",
      "reconstraining parameters GP_regression.Mat52.variance\n",
      "reconstraining parameters GP_regression.Gaussian_noise.variance\n"
     ]
    },
    {
     "name": "stdout",
     "output_type": "stream",
     "text": [
      "termination on tolstagnation=263 (Sun Aug 23 13:28:48 2020)\n",
      "final/bestever f-value = -3.184586e-01 -3.268311e-01\n",
      "incumbent solution: [0.00021999867576425996, 3.9998893537646447, 2.5811319905888275, 2.444174636886185, 5.681443229266854, 5.959293125379574]\n",
      "std deviation: [0.0024328875039290156, 0.0015439387230495667, 0.0010905647728550179, 0.026105569349092465, 0.018597743734336803, 0.03775605069773566]\n",
      "Optimization restart 1/10, f = 41.00890504068254\n",
      "Optimization restart 2/10, f = 75.50368799040045\n",
      "Optimization restart 3/10, f = 133.11048252633452\n",
      "Optimization restart 4/10, f = 109.28350591928792\n",
      "Optimization restart 5/10, f = 43.303009141235584\n",
      "Optimization restart 6/10, f = 55.21643878787038\n",
      "Optimization restart 7/10, f = 83.71738987636918\n",
      "Optimization restart 8/10, f = 41.00890504331378\n",
      "Optimization restart 9/10, f = 83.71725477431158\n"
     ]
    },
    {
     "name": "stderr",
     "output_type": "stream",
     "text": [
      "reconstraining parameters GP_regression.Mat52.lengthscale\n",
      "reconstraining parameters GP_regression.Mat52.variance\n",
      "reconstraining parameters GP_regression.Gaussian_noise.variance\n"
     ]
    },
    {
     "name": "stdout",
     "output_type": "stream",
     "text": [
      "Optimization restart 10/10, f = 65.70422801194044\n",
      "Optimization restart 1/10, f = 9.054367154089718\n",
      "Optimization restart 2/10, f = 94.17313568279972\n",
      "Optimization restart 3/10, f = 85.15212749304669\n",
      "Optimization restart 4/10, f = 71.25065830821974\n",
      "Optimization restart 5/10, f = 64.30846472179148\n",
      "Optimization restart 6/10, f = 67.03834615546018\n",
      "Optimization restart 7/10, f = 83.71737345845148\n",
      "Optimization restart 8/10, f = 24.509625022806762\n",
      "Optimization restart 9/10, f = 83.71742305364769\n",
      "Optimization restart 10/10, f = 9.054367154171281\n",
      "(4_w,9)-aCMA-ES (mu_w=2.8,w_1=49%) in dimension 6 (seed=286373, Sun Aug 23 13:28:55 2020)\n",
      "Iterat #Fevals   function value  axis ratio  sigma  min&max std  t[m:s]\n",
      "    1      9 2.328726786150025e-01 1.0e+00 2.48e-01  2e-01  3e-01 0:00.4\n",
      "    2     18 1.533530420798058e-01 1.2e+00 2.50e-01  2e-01  3e-01 0:00.8\n",
      "    3     27 1.506777156286671e-01 1.4e+00 2.42e-01  2e-01  3e-01 0:01.2\n",
      "   12    108 -3.500386198297158e-02 1.9e+00 3.88e-01  3e-01  4e-01 0:04.2\n",
      "   24    216 -1.947137508101917e-01 4.4e+00 6.39e-01  2e-01  8e-01 0:08.3\n",
      "   42    378 -2.634771328141768e-01 7.1e+00 2.82e-01  6e-02  3e-01 0:13.4\n",
      "   64    576 -2.827670958617400e-01 1.1e+01 1.15e-01  1e-02  1e-01 0:19.4\n",
      "   91    819 -2.846142000271721e-01 1.8e+01 5.79e-02  5e-03  5e-02 0:26.4\n",
      "  100    900 -2.858998692751866e-01 1.8e+01 4.84e-02  4e-03  4e-02 0:28.8\n",
      "  134   1206 -2.842950675782849e-01 3.3e+01 2.46e-02  1e-03  2e-02 0:37.9\n",
      "  170   1530 -2.842745714565890e-01 4.5e+01 1.57e-02  6e-04  1e-02 0:48.1\n",
      "  200   1800 -2.844658389545418e-01 9.8e+01 2.19e-02  1e-03  2e-02 0:56.7\n",
      "  244   2196 -2.837294775145036e-01 2.6e+02 1.86e-02  1e-03  2e-02 1:08.8\n",
      "  294   2646 -2.849291938621098e-01 1.3e+02 1.64e-01  6e-03  9e-02 1:22.0\n",
      "  300   2700 -2.836562597359991e-01 1.1e+02 1.70e-01  5e-03  8e-02 1:23.8\n",
      "  358   3222 -2.843239112355602e-01 7.8e+01 3.36e-01  4e-03  6e-02 1:39.0\n",
      "  400   3600 -2.843849847603601e-01 7.7e+01 2.77e-01  2e-03  4e-02 1:50.0\n",
      "  461   4149 -2.855240820886911e-01 1.5e+02 2.01e-01  2e-03  2e-02 2:07.0\n",
      "  500   4500 -2.843323935816631e-01 3.6e+02 1.11e-01  7e-04  1e-02 2:19.9\n",
      "  571   5139 -2.838502602422683e-01 8.6e+02 6.90e-02  3e-04  6e-03 2:39.1\n",
      "  585   5265 -2.834441165966696e-01 9.8e+02 5.86e-02  3e-04  4e-03 2:42.7\n"
     ]
    },
    {
     "name": "stderr",
     "output_type": "stream",
     "text": [
      "reconstraining parameters GP_regression.Mat52.lengthscale\n",
      "reconstraining parameters GP_regression.Mat52.variance\n",
      "reconstraining parameters GP_regression.Gaussian_noise.variance\n"
     ]
    },
    {
     "name": "stdout",
     "output_type": "stream",
     "text": [
      "termination on tolstagnation=263 (Sun Aug 23 13:31:38 2020)\n",
      "final/bestever f-value = -2.852512e-01 -2.869194e-01\n",
      "incumbent solution: [1.051618684759395, 3.6134097646410535, 2.7222520190781188, 4.399144548446996, 1.8352766961408329, 5.445663271562073]\n",
      "std deviation: [0.00026645000987504685, 0.00027856464323036445, 0.0015280865790918076, 0.003486933994696284, 0.004397532195446205, 0.0007347234107904237]\n",
      "Optimization restart 1/10, f = 42.242409691200436\n",
      "Optimization restart 2/10, f = 42.242409687476155\n",
      "Optimization restart 3/10, f = 45.167765528584205\n",
      "Optimization restart 4/10, f = 83.62502458370102\n",
      "Optimization restart 5/10, f = 380.48892440784437\n",
      "Optimization restart 6/10, f = 400.5243759413901\n",
      "Optimization restart 7/10, f = 112.95058204063733\n",
      "Optimization restart 8/10, f = 364.045021420927\n",
      "Optimization restart 9/10, f = 98.02458347404966\n"
     ]
    },
    {
     "name": "stderr",
     "output_type": "stream",
     "text": [
      "reconstraining parameters GP_regression.Mat52.lengthscale\n",
      "reconstraining parameters GP_regression.Mat52.variance\n",
      "reconstraining parameters GP_regression.Gaussian_noise.variance\n"
     ]
    },
    {
     "name": "stdout",
     "output_type": "stream",
     "text": [
      "Optimization restart 10/10, f = 66.35953582254803\n",
      "Optimization restart 1/10, f = 8.202518507754174\n",
      "Optimization restart 2/10, f = 88.29504183391303\n",
      "Optimization restart 3/10, f = 23.87704449770887\n",
      "Optimization restart 4/10, f = 321.9076141279208\n",
      "Optimization restart 5/10, f = 67.27197614368362\n",
      "Optimization restart 6/10, f = 72.63152861335463\n",
      "Optimization restart 7/10, f = 393.68280372787956\n",
      "Optimization restart 8/10, f = 27.86604606769061\n",
      "Optimization restart 9/10, f = 68.38434582730395\n",
      "Optimization restart 10/10, f = 23.877044706076866\n",
      "(4_w,9)-aCMA-ES (mu_w=2.8,w_1=49%) in dimension 6 (seed=335493, Sun Aug 23 13:31:42 2020)\n",
      "Iterat #Fevals   function value  axis ratio  sigma  min&max std  t[m:s]\n",
      "    1      9 1.205712264498349e-01 1.0e+00 2.48e-01  2e-01  3e-01 0:00.3\n",
      "    2     18 -2.549604267121693e-02 1.3e+00 2.70e-01  3e-01  3e-01 0:00.5\n",
      "    3     27 -3.523047616816279e-02 1.5e+00 2.90e-01  3e-01  3e-01 0:00.8\n",
      "   14    126 -1.035689341675462e-01 2.8e+00 3.38e-01  2e-01  4e-01 0:03.9\n",
      "   29    261 -1.403855001803472e-01 7.1e+00 1.58e-01  3e-02  2e-01 0:07.9\n",
      "   45    405 -1.491895357785064e-01 1.3e+01 1.21e-01  2e-02  1e-01 0:12.9\n",
      "   66    594 -1.489076761585664e-01 2.0e+01 9.65e-02  9e-03  1e-01 0:19.1\n",
      "   93    837 -1.485064822338388e-01 2.2e+01 1.08e-01  6e-03  1e-01 0:26.3\n",
      "  100    900 -1.487408107586511e-01 2.8e+01 1.43e-01  7e-03  1e-01 0:28.2\n",
      "  128   1152 -1.486025922038600e-01 2.5e+01 5.93e-02  3e-03  4e-02 0:37.4\n",
      "  153   1377 -1.493013180924588e-01 3.9e+01 3.99e-02  1e-03  2e-02 0:47.5\n",
      "  189   1701 -1.491558597626380e-01 5.2e+01 8.25e-02  2e-03  3e-02 0:58.9\n",
      "  200   1800 -1.478944397923182e-01 6.1e+01 6.20e-02  1e-03  2e-02 1:02.6\n",
      "  236   2124 -1.487035783872232e-01 5.6e+01 1.22e-01  2e-03  5e-02 1:15.7\n",
      "  262   2358 -1.488956413582710e-01 6.6e+01 3.69e-02  6e-04  1e-02 1:30.1\n",
      "  300   2700 -1.487491907929379e-01 7.5e+01 2.99e-02  3e-04  7e-03 1:44.4\n",
      "  341   3069 -1.492278692330342e-01 9.5e+01 4.82e-02  4e-04  7e-03 2:00.6\n",
      "  386   3474 -1.483705050389135e-01 1.9e+02 5.49e-02  3e-04  8e-03 2:17.6\n",
      "  400   3600 -1.486995605713778e-01 2.1e+02 7.86e-02  4e-04  9e-03 2:22.8\n",
      "  454   4086 -1.501251461258574e-01 4.4e+02 8.91e-02  6e-04  1e-02 2:41.8\n",
      "  500   4500 -1.477904065490281e-01 4.3e+02 5.16e-02  2e-04  4e-03 2:55.9\n",
      "  548   4932 -1.499767649510995e-01 8.4e+02 1.21e-01  5e-04  9e-03 3:17.3\n",
      "  600   5400 -1.500449772855147e-01 8.4e+02 9.52e-02  2e-04  4e-03 3:38.9\n",
      "  615   5535 -1.489362451913449e-01 9.6e+02 6.20e-02  1e-04  3e-03 3:43.2\n"
     ]
    },
    {
     "name": "stderr",
     "output_type": "stream",
     "text": [
      "reconstraining parameters GP_regression.Mat52.lengthscale\n",
      "reconstraining parameters GP_regression.Mat52.variance\n",
      "reconstraining parameters GP_regression.Gaussian_noise.variance\n"
     ]
    },
    {
     "name": "stdout",
     "output_type": "stream",
     "text": [
      "termination on tolstagnation=263 (Sun Aug 23 13:35:27 2020)\n",
      "final/bestever f-value = -1.460995e-01 -1.525969e-01\n",
      "incumbent solution: [1.6501226066147658, 0.4894680112689008, 2.617676538586254, 5.007725484255381, 2.3725946379950753, 7.67334908820237]\n",
      "std deviation: [0.00014340177436647213, 0.0005874396850234782, 0.0019076402227441774, 0.0025170138294186425, 0.0008494446508754587, 0.0021214663907189522]\n",
      "Optimization restart 1/10, f = 42.80912045787585\n",
      "Optimization restart 2/10, f = 44.25156059492741\n",
      "Optimization restart 3/10, f = 84.72484716758439\n",
      "Optimization restart 4/10, f = 407.1997822070799\n",
      "Optimization restart 5/10, f = 86.55526244001561\n",
      "Optimization restart 6/10, f = 54.93103796030393\n",
      "Optimization restart 7/10, f = 54.71640083301319\n",
      "Optimization restart 8/10, f = 65.45372992558252\n",
      "Optimization restart 9/10, f = 114.70209624312767\n"
     ]
    },
    {
     "name": "stderr",
     "output_type": "stream",
     "text": [
      "reconstraining parameters GP_regression.Mat52.lengthscale\n",
      "reconstraining parameters GP_regression.Mat52.variance\n",
      "reconstraining parameters GP_regression.Gaussian_noise.variance\n"
     ]
    },
    {
     "name": "stdout",
     "output_type": "stream",
     "text": [
      "Optimization restart 10/10, f = 44.25155958296361\n",
      "Optimization restart 1/10, f = 7.273603874204582\n",
      "Optimization restart 2/10, f = 86.55525052638316\n",
      "Optimization restart 3/10, f = 86.55525052548505\n",
      "Optimization restart 4/10, f = 89.12196358160887\n",
      "Optimization restart 5/10, f = 70.57731693311223\n",
      "Optimization restart 6/10, f = 86.55525994728667\n",
      "Optimization restart 7/10, f = 86.55525131867736\n",
      "Optimization restart 8/10, f = 86.13840293927052\n",
      "Optimization restart 9/10, f = 97.33800035969813\n",
      "Optimization restart 10/10, f = 85.48742624017743\n",
      "(4_w,9)-aCMA-ES (mu_w=2.8,w_1=49%) in dimension 6 (seed=298441, Sun Aug 23 13:35:30 2020)\n",
      "Iterat #Fevals   function value  axis ratio  sigma  min&max std  t[m:s]\n",
      "    1      9 5.079386497429107e-01 1.0e+00 2.70e-01  2e-01  3e-01 0:00.3\n",
      "    2     18 4.242021571729833e-01 1.5e+00 2.90e-01  3e-01  3e-01 0:00.6\n",
      "    3     27 2.568788115384306e-01 1.7e+00 3.46e-01  3e-01  5e-01 0:01.0\n",
      "   13    117 -2.889607030917471e-02 3.7e+00 7.10e-01  6e-01  1e+00 0:04.1\n",
      "   28    252 -1.374721108855088e-01 4.0e+00 4.96e-01  3e-01  6e-01 0:08.6\n",
      "   38    342 -1.958635945397963e-01 4.3e+00 4.26e-01  2e-01  6e-01 0:13.8\n",
      "   55    495 -2.284245502137566e-01 8.0e+00 1.61e-01  3e-02  2e-01 0:20.1\n",
      "   72    648 -2.327638296508776e-01 9.1e+00 4.82e-02  6e-03  4e-02 0:27.3\n",
      "  100    900 -2.335678474200807e-01 1.7e+01 1.99e-02  2e-03  2e-02 0:35.0\n",
      "  129   1161 -2.334510597478110e-01 3.4e+01 3.08e-02  3e-03  3e-02 0:44.3\n",
      "  155   1395 -2.332963430422650e-01 3.6e+01 3.34e-02  2e-03  3e-02 0:54.6\n",
      "  184   1656 -2.343066486727376e-01 2.8e+01 4.64e-02  3e-03  3e-02 1:05.8\n",
      "  200   1800 -2.340975741929901e-01 3.0e+01 3.04e-02  2e-03  2e-02 1:11.3\n",
      "  244   2196 -2.337067298601895e-01 6.6e+01 4.57e-02  2e-03  2e-02 1:24.6\n",
      "  275   2475 -2.344869237986703e-01 7.0e+01 2.89e-02  1e-03  8e-03 1:38.9\n",
      "  300   2700 -2.343450644663947e-01 8.5e+01 2.95e-02  1e-03  8e-03 1:47.0\n",
      "  339   3051 -2.342846824352796e-01 1.6e+02 2.97e-02  5e-04  7e-03 2:03.6\n",
      "  378   3402 -2.349426759707692e-01 1.6e+02 2.26e-02  4e-04  4e-03 2:21.2\n",
      "  400   3600 -2.337614137442606e-01 1.8e+02 1.90e-02  3e-04  2e-03 2:29.3\n",
      "  455   4095 -2.350222335402906e-01 4.3e+02 3.98e-02  5e-04  4e-03 2:48.9\n",
      "  500   4500 -2.344073247239229e-01 1.0e+03 4.37e-02  3e-04  5e-03 3:04.0\n",
      "  567   5103 -2.341833519005306e-01 1.6e+03 4.46e-02  3e-04  4e-03 3:25.4\n",
      "  600   5400 -2.343851451052512e-01 1.6e+03 4.03e-02  2e-04  2e-03 3:36.0\n"
     ]
    },
    {
     "name": "stderr",
     "output_type": "stream",
     "text": [
      "reconstraining parameters GP_regression.Mat52.lengthscale\n",
      "reconstraining parameters GP_regression.Mat52.variance\n",
      "reconstraining parameters GP_regression.Gaussian_noise.variance\n"
     ]
    },
    {
     "name": "stdout",
     "output_type": "stream",
     "text": [
      "termination on tolstagnation=263 (Sun Aug 23 13:39:07 2020)\n",
      "final/bestever f-value = -2.327523e-01 -2.358886e-01\n",
      "incumbent solution: [0.5255946408043393, 1.2017286945605012, 1.8611656897331024, 3.254393269788209, 4.462411656712269, 3.6598668192640984]\n",
      "std deviation: [0.0005074878722229087, 0.00017844560135926363, 0.0018237795321805277, 0.001033751186700571, 0.0017511651822923265, 0.0018185808450794753]\n",
      "Optimization restart 1/10, f = 41.01841778099987\n",
      "Optimization restart 2/10, f = 405.34474749784727\n",
      "Optimization restart 3/10, f = 87.23017375429437\n",
      "Optimization restart 4/10, f = 391.8899553315541\n",
      "Optimization restart 5/10, f = 58.66846381753746\n",
      "Optimization restart 6/10, f = 44.507263385449775\n",
      "Optimization restart 7/10, f = 87.97419989016736\n",
      "Optimization restart 8/10, f = 87.97419944921847\n",
      "Optimization restart 9/10, f = 413.8751884704018\n"
     ]
    },
    {
     "name": "stderr",
     "output_type": "stream",
     "text": [
      "reconstraining parameters GP_regression.Mat52.lengthscale\n",
      "reconstraining parameters GP_regression.Mat52.variance\n",
      "reconstraining parameters GP_regression.Gaussian_noise.variance\n"
     ]
    },
    {
     "name": "stdout",
     "output_type": "stream",
     "text": [
      "Optimization restart 10/10, f = 89.65829064926004\n",
      "Optimization restart 1/10, f = 6.267505835476005\n",
      "Optimization restart 2/10, f = 99.58920863972926\n",
      "Optimization restart 3/10, f = 19.91955367323545\n",
      "Optimization restart 4/10, f = 87.97418905861196\n",
      "Optimization restart 5/10, f = 87.97409636813649\n",
      "Optimization restart 6/10, f = 85.71540308680216\n",
      "Optimization restart 7/10, f = 1968789753.4415312\n",
      "Optimization restart 8/10, f = 413.8751884591555\n",
      "Optimization restart 9/10, f = 361.9002694343964\n",
      "Optimization restart 10/10, f = 6.267505835274015\n",
      "(4_w,9)-aCMA-ES (mu_w=2.8,w_1=49%) in dimension 6 (seed=228657, Sun Aug 23 13:39:16 2020)\n",
      "Iterat #Fevals   function value  axis ratio  sigma  min&max std  t[m:s]\n",
      "    1      9 3.547855194663437e-01 1.0e+00 2.39e-01  2e-01  3e-01 0:00.2\n",
      "    2     18 1.410483572933394e-01 1.3e+00 2.75e-01  2e-01  3e-01 0:00.6\n",
      "    3     27 1.617325264363717e-01 1.7e+00 2.83e-01  3e-01  3e-01 0:00.9\n",
      "   13    117 -8.042367156658718e-02 2.2e+00 4.10e-01  3e-01  5e-01 0:04.4\n",
      "   21    189 -1.216145502813800e-01 3.3e+00 3.11e-01  2e-01  4e-01 0:08.6\n",
      "   35    315 -1.683278047978822e-01 8.8e+00 2.43e-01  6e-02  5e-01 0:13.7\n",
      "   50    450 -1.745535145753707e-01 1.6e+01 1.23e-01  2e-02  2e-01 0:19.9\n",
      "   72    648 -1.747459055283424e-01 2.5e+01 4.18e-02  3e-03  7e-02 0:27.0\n",
      "   97    873 -1.760180511565604e-01 5.2e+01 2.14e-02  1e-03  4e-02 0:35.2\n",
      "  100    900 -1.744206696373409e-01 6.2e+01 2.30e-02  2e-03  4e-02 0:36.1\n",
      "  133   1197 -1.754359120020708e-01 8.1e+01 3.42e-02  2e-03  5e-02 0:46.6\n",
      "  158   1422 -1.748874569994893e-01 1.2e+02 1.57e-02  6e-04  2e-02 0:57.7\n",
      "  197   1773 -1.756495935247592e-01 2.2e+02 8.65e-03  4e-04  1e-02 1:10.0\n",
      "  200   1800 -1.747855031844907e-01 2.3e+02 1.12e-02  5e-04  1e-02 1:11.4\n",
      "  232   2088 -1.748377638697399e-01 2.3e+02 9.26e-03  3e-04  9e-03 1:25.4\n",
      "  268   2412 -1.745880519620310e-01 3.5e+02 1.10e-02  3e-04  9e-03 1:40.6\n",
      "  300   2700 -1.742614766188382e-01 3.5e+02 7.95e-03  2e-04  4e-03 1:54.7\n",
      "  337   3033 -1.756252842696825e-01 5.0e+02 8.94e-02  3e-03  5e-02 2:11.7\n",
      "  383   3447 -1.751120332040839e-01 9.1e+02 2.57e-02  7e-04  1e-02 2:29.8\n",
      "  400   3600 -1.750861307183581e-01 1.1e+03 1.33e-02  3e-04  7e-03 2:35.2\n",
      "  465   4185 -1.746973468904874e-01 3.0e+03 1.08e-02  2e-04  7e-03 2:55.4\n",
      "  500   4500 -1.752110243178909e-01 4.7e+03 2.37e-03  4e-05  1e-03 3:06.4\n",
      "  578   5202 -1.744676625894229e-01 7.9e+03 1.22e-02  2e-04  6e-03 3:28.4\n",
      "  600   5400 -1.752701145085787e-01 9.1e+03 8.32e-03  1e-04  3e-03 3:35.7\n",
      "  675   6075 -1.746476697851841e-01 1.8e+04 2.50e-03  1e-05  5e-04 3:58.3\n"
     ]
    },
    {
     "name": "stderr",
     "output_type": "stream",
     "text": [
      "reconstraining parameters GP_regression.Mat52.lengthscale\n",
      "reconstraining parameters GP_regression.Mat52.variance\n",
      "reconstraining parameters GP_regression.Gaussian_noise.variance\n"
     ]
    },
    {
     "name": "stdout",
     "output_type": "stream",
     "text": [
      "termination on tolstagnation=263 (Sun Aug 23 13:43:15 2020)\n",
      "final/bestever f-value = -1.737908e-01 -1.775236e-01\n",
      "incumbent solution: [1.1707467261678584, 2.5412676260085525, 2.153037068292904, 3.1897318603223503, 4.554519632552805, 5.825444551756463]\n",
      "std deviation: [1.3438033269448246e-05, 2.1447907750435888e-05, 5.272251593492798e-05, 5.833922784630428e-05, 0.0004908952744431677, 0.00027045690951608926]\n",
      "Optimization restart 1/10, f = 40.52069967208503\n",
      "Optimization restart 2/10, f = 89.21001237525374\n",
      "Optimization restart 3/10, f = 89.39312789727664\n",
      "Optimization restart 4/10, f = 420.5505449036311\n",
      "Optimization restart 5/10, f = 111.64647439502401\n",
      "Optimization restart 6/10, f = 78.97217100169108\n",
      "Optimization restart 7/10, f = 89.39314004719398\n",
      "Optimization restart 8/10, f = 82.98700098741654\n",
      "Optimization restart 9/10, f = 81.18781992518889\n"
     ]
    },
    {
     "name": "stderr",
     "output_type": "stream",
     "text": [
      "reconstraining parameters GP_regression.Mat52.lengthscale\n",
      "reconstraining parameters GP_regression.Mat52.variance\n",
      "reconstraining parameters GP_regression.Gaussian_noise.variance\n"
     ]
    },
    {
     "name": "stdout",
     "output_type": "stream",
     "text": [
      "Optimization restart 10/10, f = 83.48470890859265\n",
      "Optimization restart 1/10, f = 5.068372537072772\n",
      "Optimization restart 2/10, f = 89.10666497817408\n",
      "Optimization restart 3/10, f = 89.39312803408723\n",
      "Optimization restart 4/10, f = 88.09259809231672\n",
      "Optimization restart 5/10, f = 71.91512066489027\n",
      "Optimization restart 6/10, f = 87.25423585538655\n",
      "Optimization restart 7/10, f = 70.56874325432368\n",
      "Optimization restart 8/10, f = 5.068372535795959\n",
      "Optimization restart 9/10, f = 72.55476754422769\n",
      "Optimization restart 10/10, f = 2910300.1164138373\n",
      "(4_w,9)-aCMA-ES (mu_w=2.8,w_1=49%) in dimension 6 (seed=279981, Sun Aug 23 13:43:19 2020)\n",
      "Iterat #Fevals   function value  axis ratio  sigma  min&max std  t[m:s]\n",
      "    1      9 2.582727829677455e-01 1.0e+00 2.25e-01  2e-01  2e-01 0:00.3\n",
      "    2     18 1.740329138973603e-01 1.2e+00 2.36e-01  2e-01  2e-01 0:00.5\n",
      "    3     27 1.844594555829308e-01 1.3e+00 2.34e-01  2e-01  2e-01 0:00.9\n",
      "   12    108 -3.356413029110625e-02 3.3e+00 4.64e-01  2e-01  8e-01 0:04.2\n",
      "   26    234 -1.021398329207518e-01 4.5e+00 4.00e-01  1e-01  5e-01 0:08.2\n",
      "   43    387 -1.216819068498532e-01 7.6e+00 1.74e-01  3e-02  2e-01 0:13.4\n",
      "   59    531 -1.340440341756380e-01 1.2e+01 1.98e-01  2e-02  2e-01 0:19.5\n",
      "   80    720 -1.371597787280248e-01 1.4e+01 4.54e-02  4e-03  4e-02 0:26.6\n",
      "  100    900 -1.354210761441812e-01 1.9e+01 1.76e-02  1e-03  1e-02 0:34.2\n",
      "  130   1170 -1.366114290077255e-01 3.1e+01 1.19e-02  7e-04  6e-03 0:43.4\n",
      "  162   1458 -1.369496277435968e-01 6.5e+01 9.31e-03  4e-04  7e-03 0:53.5\n",
      "  197   1773 -1.376827292526610e-01 9.7e+01 1.42e-02  5e-04  1e-02 1:04.5\n",
      "  200   1800 -1.393326871664108e-01 9.8e+01 1.83e-02  6e-04  1e-02 1:05.4\n",
      "  241   2169 -1.386523489979606e-01 3.6e+02 1.32e-02  3e-04  1e-02 1:18.6\n",
      "  284   2556 -1.368663309346427e-01 3.9e+02 7.38e-02  1e-03  5e-02 1:32.9\n",
      "  300   2700 -1.383162965933747e-01 5.1e+02 3.25e-02  5e-04  2e-02 1:37.9\n",
      "  351   3159 -1.382196414699772e-01 8.1e+02 1.92e-02  1e-04  1e-02 1:53.9\n",
      "  400   3600 -1.372055422113516e-01 1.9e+03 1.26e-02  5e-05  9e-03 2:09.2\n",
      "  444   3996 -1.360137627441543e-01 2.8e+03 7.13e-03  2e-05  5e-03 2:27.3\n",
      "  478   4302 -1.382951779592032e-01 3.6e+03 1.95e-03  5e-06  1e-03 2:46.4\n",
      "  500   4500 -1.374386591551560e-01 7.3e+03 1.17e-03  4e-06  8e-04 2:55.2\n",
      "  555   4995 -1.362376343107599e-01 1.5e+04 2.26e-03  9e-06  1e-03 3:16.6\n"
     ]
    },
    {
     "name": "stderr",
     "output_type": "stream",
     "text": [
      "reconstraining parameters GP_regression.Mat52.lengthscale\n",
      "reconstraining parameters GP_regression.Mat52.variance\n",
      "reconstraining parameters GP_regression.Gaussian_noise.variance\n"
     ]
    },
    {
     "name": "stdout",
     "output_type": "stream",
     "text": [
      "termination on tolstagnation=263 (Sun Aug 23 13:46:36 2020)\n",
      "final/bestever f-value = -1.330528e-01 -1.409373e-01\n",
      "incumbent solution: [0.0004943264799471362, 3.998295663880497, 2.530462659808375, 2.473531841109418, 0.013502542881242526, 6.0996145760070934]\n",
      "std deviation: [9.438032919808139e-06, 0.00018249508928209216, 0.0003131527715652771, 0.0005504783880073857, 0.0012425037150477728, 0.00031982626440126303]\n",
      "Optimization restart 1/10, f = 41.921195475371796\n",
      "Optimization restart 2/10, f = 90.81206612509905\n",
      "Optimization restart 3/10, f = 89.63339831545517\n",
      "Optimization restart 4/10, f = 93.4956417043453\n",
      "Optimization restart 5/10, f = 93.85838425525758\n",
      "Optimization restart 6/10, f = 90.6849795358924\n",
      "Optimization restart 7/10, f = 90.81207430169256\n",
      "Optimization restart 8/10, f = 122.12145087238426\n",
      "Optimization restart 9/10, f = 90.81208004733247\n"
     ]
    },
    {
     "name": "stderr",
     "output_type": "stream",
     "text": [
      "reconstraining parameters GP_regression.Mat52.lengthscale\n",
      "reconstraining parameters GP_regression.Mat52.variance\n",
      "reconstraining parameters GP_regression.Gaussian_noise.variance\n"
     ]
    },
    {
     "name": "stdout",
     "output_type": "stream",
     "text": [
      "Optimization restart 10/10, f = 93.64381733199366\n",
      "Optimization restart 1/10, f = 4.71294388175194\n",
      "Optimization restart 2/10, f = 50.78468990525329\n",
      "Optimization restart 3/10, f = 90.81206647892374\n",
      "Optimization restart 4/10, f = 272.7009037950191\n",
      "Optimization restart 5/10, f = 427.22600100414945\n",
      "Optimization restart 6/10, f = 427.22600100414945\n",
      "Optimization restart 7/10, f = 132.55724920161953\n",
      "Optimization restart 8/10, f = 85.36326576426265\n",
      "Optimization restart 9/10, f = 90.81100370975814\n",
      "Optimization restart 10/10, f = 389.2594451353405\n",
      "(4_w,9)-aCMA-ES (mu_w=2.8,w_1=49%) in dimension 6 (seed=325001, Sun Aug 23 13:46:45 2020)\n",
      "Iterat #Fevals   function value  axis ratio  sigma  min&max std  t[m:s]\n",
      "    1      9 5.109896538827717e-01 1.0e+00 2.54e-01  2e-01  3e-01 0:00.4\n",
      "    2     18 4.862754099306932e-01 1.4e+00 2.89e-01  3e-01  3e-01 0:00.9\n",
      "    3     27 3.697379731025544e-01 1.6e+00 3.77e-01  3e-01  4e-01 0:01.3\n",
      "   11     99 1.138289635335525e-01 2.5e+00 9.37e-01  8e-01  1e+00 0:04.4\n",
      "   22    198 3.537919321507846e-02 3.9e+00 7.41e-01  4e-01  9e-01 0:08.4\n",
      "   36    324 -1.826674943525680e-02 4.6e+00 3.14e-01  1e-01  4e-01 0:13.5\n",
      "   53    477 -1.374409104716833e-01 8.2e+00 9.43e-01  2e-01  1e+00 0:19.7\n",
      "   74    666 -2.037487549139517e-01 1.6e+01 3.61e-01  4e-02  4e-01 0:27.0\n",
      "   95    855 -2.176629268873487e-01 2.1e+01 9.30e-02  6e-03  8e-02 0:35.0\n",
      "  100    900 -2.170435042568719e-01 1.7e+01 5.92e-02  3e-03  4e-02 0:37.0\n",
      "  125   1125 -2.185686990806819e-01 2.5e+01 3.62e-02  2e-03  2e-02 0:47.1\n",
      "  155   1395 -2.182677099447659e-01 6.2e+01 5.43e-02  3e-03  4e-02 0:58.3\n",
      "  190   1710 -2.179571185202517e-01 7.3e+01 4.92e-02  2e-03  3e-02 1:10.4\n",
      "  200   1800 -2.180213141490345e-01 5.1e+01 7.25e-02  3e-03  4e-02 1:14.1\n",
      "  247   2223 -2.180247141432418e-01 7.2e+01 4.86e-02  2e-03  2e-02 1:28.4\n",
      "  286   2574 -2.176726048214850e-01 8.3e+01 1.15e-02  4e-04  3e-03 1:43.4\n",
      "  300   2700 -2.174285313093851e-01 1.3e+02 1.16e-02  4e-04  3e-03 1:50.4\n",
      "  345   3105 -2.175790737772256e-01 3.0e+02 1.76e-02  9e-04  6e-03 2:07.7\n",
      "  386   3474 -2.190416325801344e-01 2.5e+02 8.52e-03  3e-04  2e-03 2:26.2\n",
      "  400   3600 -2.179532205432157e-01 2.7e+02 1.69e-02  4e-04  3e-03 2:30.8\n",
      "  454   4086 -2.177877563511982e-01 4.7e+02 4.27e-02  7e-04  6e-03 2:51.1\n",
      "  500   4500 -2.183079499277308e-01 1.3e+03 1.66e-02  3e-04  3e-03 3:08.6\n",
      "  560   5040 -2.176010339937334e-01 1.5e+03 1.53e-02  3e-04  3e-03 3:30.7\n",
      "  600   5400 -2.180625091809623e-01 1.2e+03 1.90e-02  2e-04  2e-03 3:46.7\n",
      "  667   6003 -2.175215515996068e-01 3.5e+03 4.19e-02  6e-04  4e-03 4:10.8\n",
      "  700   6300 -2.174724495652481e-01 7.5e+03 1.80e-02  2e-04  2e-03 4:21.0\n",
      "  757   6813 -2.176264265782940e-01 3.7e+04 2.01e-02  3e-04  3e-03 4:47.1\n",
      "  800   7200 -2.180441074837833e-01 1.0e+05 2.38e-02  4e-04  3e-03 5:04.9\n",
      "  880   7920 -2.178964393582672e-01 1.1e+05 3.11e-02  4e-04  3e-03 5:31.2\n"
     ]
    },
    {
     "name": "stderr",
     "output_type": "stream",
     "text": [
      "reconstraining parameters GP_regression.Mat52.lengthscale\n",
      "reconstraining parameters GP_regression.Mat52.variance\n",
      "reconstraining parameters GP_regression.Gaussian_noise.variance\n"
     ]
    },
    {
     "name": "stdout",
     "output_type": "stream",
     "text": [
      "termination on tolstagnation=263 (Sun Aug 23 13:52:18 2020)\n",
      "final/bestever f-value = -2.174141e-01 -2.191730e-01\n",
      "incumbent solution: [0.4467280603781684, 1.5789263418094088, 2.4431748475531414, 3.3743428764329315, 5.10053612602999, 3.423626133622891]\n",
      "std deviation: [0.00041879602760595266, 0.00046021596651212824, 0.0018696119607869905, 0.0031659644667346564, 0.0017404900760506238, 0.0015595766261741787]\n",
      "Optimization restart 1/10, f = 40.97778354520433\n",
      "Optimization restart 2/10, f = 92.23102056246988\n",
      "Optimization restart 3/10, f = 91.93780294617335\n",
      "Optimization restart 4/10, f = 82.79520220907264\n",
      "Optimization restart 5/10, f = 92.23100535508584\n",
      "Optimization restart 6/10, f = 43.18046165278905\n",
      "Optimization restart 7/10, f = 92.23100465830373\n",
      "Optimization restart 8/10, f = 91.1067458120373\n",
      "Optimization restart 9/10, f = 78.60738350864466\n"
     ]
    },
    {
     "name": "stderr",
     "output_type": "stream",
     "text": [
      "reconstraining parameters GP_regression.Mat52.lengthscale\n",
      "reconstraining parameters GP_regression.Mat52.variance\n",
      "reconstraining parameters GP_regression.Gaussian_noise.variance\n"
     ]
    },
    {
     "name": "stdout",
     "output_type": "stream",
     "text": [
      "Optimization restart 10/10, f = 77.36059739291349\n",
      "Optimization restart 1/10, f = 3.2297639132417473\n",
      "Optimization restart 2/10, f = 3.2297639132697924\n",
      "Optimization restart 3/10, f = 2050955703.657581\n",
      "Optimization restart 4/10, f = 34.57182551496278\n",
      "Optimization restart 5/10, f = 2051047432.6670184\n",
      "Optimization restart 6/10, f = 3.229763913241527\n",
      "Optimization restart 7/10, f = 76.39941110270277\n",
      "Optimization restart 8/10, f = 41.819004013882335\n",
      "Optimization restart 9/10, f = 92.23100478887166\n",
      "Optimization restart 10/10, f = 92.22551012736977\n",
      "(4_w,9)-aCMA-ES (mu_w=2.8,w_1=49%) in dimension 6 (seed=337644, Sun Aug 23 13:52:22 2020)\n",
      "Iterat #Fevals   function value  axis ratio  sigma  min&max std  t[m:s]\n",
      "    1      9 3.194803350855658e-01 1.0e+00 2.58e-01  2e-01  3e-01 0:00.3\n",
      "    2     18 2.878356187621126e-01 1.4e+00 2.95e-01  3e-01  4e-01 0:00.6\n",
      "    3     27 2.801279031508318e-01 1.6e+00 3.14e-01  3e-01  4e-01 0:00.9\n",
      "   14    126 8.119495600159023e-02 2.3e+00 7.17e-01  5e-01  8e-01 0:04.2\n",
      "   28    252 5.434993077638128e-02 2.7e+00 4.35e-01  2e-01  5e-01 0:08.3\n",
      "   38    342 3.829197904322904e-02 4.3e+00 2.63e-01  9e-02  3e-01 0:13.4\n",
      "   50    450 -1.434442151586791e-02 7.3e+00 2.18e-01  5e-02  2e-01 0:19.8\n",
      "   68    612 -7.852347601970318e-02 1.9e+01 2.67e-01  4e-02  3e-01 0:27.0\n",
      "   85    765 -9.403963846698914e-02 2.9e+01 1.85e-01  2e-02  1e-01 0:35.0\n",
      "  100    900 -9.679695018085684e-02 2.9e+01 9.87e-02  6e-03  7e-02 0:41.8\n",
      "  130   1170 -9.750941197030387e-02 3.4e+01 2.44e-02  1e-03  1e-02 0:51.9\n",
      "  161   1449 -9.770287861101194e-02 3.8e+01 3.36e-02  1e-03  1e-02 1:02.9\n",
      "  196   1764 -9.747352330810397e-02 4.3e+01 5.56e-02  2e-03  2e-02 1:15.0\n",
      "  200   1800 -9.772003579567171e-02 4.9e+01 4.71e-02  1e-03  1e-02 1:16.4\n",
      "  239   2151 -9.764577277468160e-02 7.2e+01 2.95e-02  7e-04  7e-03 1:30.6\n",
      "  285   2565 -9.774615309792306e-02 1.7e+02 4.60e-02  1e-03  1e-02 1:46.0\n",
      "  300   2700 -9.766286204467921e-02 1.4e+02 2.67e-02  6e-04  7e-03 1:51.8\n",
      "  343   3087 -9.743023237193857e-02 3.5e+02 1.81e-02  5e-04  4e-03 2:08.9\n",
      "  381   3429 -9.729650868551602e-02 6.3e+02 1.73e-02  5e-04  3e-03 2:27.2\n",
      "  400   3600 -9.737572199702405e-02 1.2e+03 2.79e-02  8e-04  7e-03 2:35.8\n",
      "  448   4032 -9.758365831202181e-02 2.1e+03 2.20e-02  6e-04  4e-03 2:56.0\n",
      "  500   4500 -9.736728696775630e-02 1.9e+03 1.03e-02  2e-04  1e-03 3:15.4\n",
      "  505   4545 -9.765100177860940e-02 1.7e+03 6.99e-03  1e-04  8e-04 3:17.2\n"
     ]
    },
    {
     "name": "stderr",
     "output_type": "stream",
     "text": [
      "reconstraining parameters GP_regression.Mat52.lengthscale\n",
      "reconstraining parameters GP_regression.Mat52.variance\n",
      "reconstraining parameters GP_regression.Gaussian_noise.variance\n"
     ]
    },
    {
     "name": "stdout",
     "output_type": "stream",
     "text": [
      "termination on tolstagnation=263 (Sun Aug 23 13:55:40 2020)\n",
      "final/bestever f-value = -9.709629e-02 -9.788148e-02\n",
      "incumbent solution: [0.4734456710865357, 1.7766339720841462, 2.4341646290147363, 3.7534511879503007, 5.248016794075696, 4.045667853924962]\n",
      "std deviation: [0.00014440247897139222, 0.0001441673611048877, 0.00011769190022715451, 0.0006978040304397023, 0.000459013780953759, 0.0008327308299657927]\n",
      "Optimization restart 1/10, f = 39.06456309517141\n",
      "Optimization restart 2/10, f = 111.88861689769581\n",
      "Optimization restart 3/10, f = 93.64994319150853\n",
      "Optimization restart 4/10, f = 97.36218118654352\n",
      "Optimization restart 5/10, f = 93.6498800161757\n",
      "Optimization restart 6/10, f = 93.64994319150841\n",
      "Optimization restart 7/10, f = 93.6499499465451\n",
      "Optimization restart 8/10, f = 93.64993938771066\n",
      "Optimization restart 9/10, f = 93.64997835290538\n"
     ]
    },
    {
     "name": "stderr",
     "output_type": "stream",
     "text": [
      "reconstraining parameters GP_regression.Mat52.lengthscale\n",
      "reconstraining parameters GP_regression.Mat52.variance\n",
      "reconstraining parameters GP_regression.Gaussian_noise.variance\n"
     ]
    },
    {
     "name": "stdout",
     "output_type": "stream",
     "text": [
      "Optimization restart 10/10, f = 81.6470388764343\n",
      "Optimization restart 1/10, f = 0.4051238448372203\n",
      "Optimization restart 2/10, f = 67.44246836231693\n",
      "Optimization restart 3/10, f = 45.90302525769442\n",
      "Optimization restart 4/10, f = 0.40512384483792374\n",
      "Optimization restart 5/10, f = 74.66140974626674\n",
      "Optimization restart 6/10, f = 59.04494540514432\n",
      "Optimization restart 7/10, f = 75.36985222010192\n",
      "Optimization restart 8/10, f = 84.42438263852256\n",
      "Optimization restart 9/10, f = 93.64994319150972\n",
      "Optimization restart 10/10, f = 397.4668038552481\n",
      "(4_w,9)-aCMA-ES (mu_w=2.8,w_1=49%) in dimension 6 (seed=290478, Sun Aug 23 13:55:48 2020)\n",
      "Iterat #Fevals   function value  axis ratio  sigma  min&max std  t[m:s]\n",
      "    1      9 7.671050032695403e-02 1.0e+00 2.69e-01  3e-01  3e-01 0:00.5\n",
      "    2     18 -2.053161721528852e-02 1.3e+00 3.34e-01  3e-01  4e-01 0:00.8\n",
      "    3     27 -6.359881976913490e-02 1.5e+00 4.25e-01  4e-01  5e-01 0:01.2\n",
      "   11     99 -1.050916566713338e-01 1.9e+00 3.82e-01  2e-01  5e-01 0:04.6\n",
      "   20    180 -1.390821718179310e-01 3.7e+00 2.78e-01  1e-01  3e-01 0:08.6\n",
      "   33    297 -1.596326457098644e-01 5.3e+00 2.68e-01  8e-02  4e-01 0:13.6\n",
      "   51    459 -1.687171741140055e-01 9.1e+00 1.12e-01  2e-02  2e-01 0:19.8\n",
      "   65    585 -1.679226746865226e-01 8.4e+00 4.38e-02  7e-03  5e-02 0:27.1\n",
      "   83    747 -1.698003107001664e-01 1.4e+01 3.99e-02  4e-03  5e-02 0:35.7\n",
      "   98    882 -1.705045892498839e-01 1.9e+01 5.38e-02  5e-03  6e-02 0:44.9\n",
      "  100    900 -1.681763035633892e-01 2.0e+01 5.70e-02  5e-03  6e-02 0:45.9\n",
      "  120   1080 -1.687802114734516e-01 2.7e+01 2.55e-02  2e-03  3e-02 0:57.0\n",
      "  158   1422 -1.702908624846599e-01 8.5e+01 3.91e-02  2e-03  4e-02 1:09.3\n",
      "  195   1755 -1.708756753942164e-01 1.0e+02 3.27e-02  2e-03  3e-02 1:22.4\n",
      "  200   1800 -1.718207337330065e-01 1.1e+02 3.41e-02  2e-03  3e-02 1:25.2\n",
      "  227   2043 -1.738561549457496e-01 1.3e+02 2.30e-02  9e-04  2e-02 1:40.6\n",
      "  266   2394 -1.693199476582399e-01 2.1e+02 1.24e-02  7e-04  9e-03 1:56.7\n",
      "  300   2700 -1.701043227983967e-01 3.5e+02 5.84e-03  2e-04  3e-03 2:09.3\n",
      "  348   3132 -1.703804809809539e-01 8.8e+02 6.91e-03  2e-04  5e-03 2:27.6\n",
      "  400   3600 -1.703305740334730e-01 9.5e+02 2.10e-02  5e-04  8e-03 2:46.5\n",
      "  456   4104 -1.721483191077104e-01 7.9e+02 3.77e-02  5e-04  9e-03 3:06.6\n",
      "  500   4500 -1.696338018632886e-01 7.3e+02 1.70e-02  2e-04  2e-03 3:20.6\n",
      "  551   4959 -1.709935716405292e-01 1.4e+03 5.54e-02  6e-04  8e-03 3:42.8\n",
      "  600   5400 -1.699768616388124e-01 2.5e+03 3.36e-02  4e-04  4e-03 4:05.9\n",
      "  650   5850 -1.730529710869959e-01 3.0e+03 1.42e-02  1e-04  1e-03 4:30.1\n",
      "  700   6300 -1.728541704315479e-01 8.2e+03 5.49e-02  5e-04  6e-03 4:47.8\n",
      "  778   7002 -1.696735264645017e-01 3.0e+04 4.86e-02  5e-04  5e-03 5:14.0\n",
      "  800   7200 -1.701199528613148e-01 4.1e+04 7.99e-02  7e-04  6e-03 5:24.7\n",
      "  860   7740 -1.704162855283172e-01 5.7e+04 1.25e-01  8e-04  7e-03 5:53.0\n",
      "  875   7875 -1.710572293535578e-01 6.1e+04 6.45e-02  4e-04  4e-03 5:59.4\n",
      "termination on tolstagnation=263 (Sun Aug 23 14:01:49 2020)\n",
      "final/bestever f-value = -1.651617e-01 -1.745615e-01\n",
      "incumbent solution: [0.0011404185281325757, 0.0005849402429259359, 1.2709028194473737, 1.148498938156995, 9.912717620868463, 2.9048257427676297e-05]\n",
      "std deviation: [0.0004125957263628721, 0.0005299893920545417, 0.000598524452134098, 0.002035535742108725, 0.0037093000236945567, 0.0017161318579653683]\n"
     ]
    },
    {
     "name": "stderr",
     "output_type": "stream",
     "text": [
      "reconstraining parameters GP_regression.Mat52.lengthscale\n",
      "reconstraining parameters GP_regression.Mat52.variance\n",
      "reconstraining parameters GP_regression.Gaussian_noise.variance\n"
     ]
    },
    {
     "name": "stdout",
     "output_type": "stream",
     "text": [
      "Optimization restart 1/10, f = 38.74281369647823\n",
      "Optimization restart 2/10, f = 84.53115994977739\n",
      "Optimization restart 3/10, f = 75.39761948313514\n",
      "Optimization restart 4/10, f = 94.7446095842127\n",
      "Optimization restart 5/10, f = 447.2255953899904\n",
      "Optimization restart 6/10, f = 94.18468857907635\n",
      "Optimization restart 7/10, f = 95.06888171238597\n",
      "Optimization restart 8/10, f = 84.53121612774733\n",
      "Optimization restart 9/10, f = 95.0688817247131\n"
     ]
    },
    {
     "name": "stderr",
     "output_type": "stream",
     "text": [
      "reconstraining parameters GP_regression.Mat52.lengthscale\n",
      "reconstraining parameters GP_regression.Mat52.variance\n",
      "reconstraining parameters GP_regression.Gaussian_noise.variance\n"
     ]
    },
    {
     "name": "stdout",
     "output_type": "stream",
     "text": [
      "Optimization restart 10/10, f = 111.34006163075048\n",
      "Optimization restart 1/10, f = 0.4672080136642762\n",
      "Optimization restart 2/10, f = 76.83258768415557\n",
      "Optimization restart 3/10, f = 95.06667689368129\n",
      "Optimization restart 4/10, f = 3346329.266015251\n",
      "Optimization restart 5/10, f = 360.91488578557414\n",
      "Optimization restart 6/10, f = 26.516312300242518\n",
      "Optimization restart 7/10, f = 91.28450784339246\n",
      "Optimization restart 8/10, f = 0.46720801370973675\n",
      "Optimization restart 9/10, f = 14.038207550743145\n",
      "Optimization restart 10/10, f = 358.86751500371946\n",
      "(4_w,9)-aCMA-ES (mu_w=2.8,w_1=49%) in dimension 6 (seed=254916, Sun Aug 23 14:01:58 2020)\n",
      "Iterat #Fevals   function value  axis ratio  sigma  min&max std  t[m:s]\n",
      "    1      9 4.002433023201044e-02 1.0e+00 2.76e-01  3e-01  3e-01 0:00.3\n",
      "    2     18 4.388301385156430e-02 1.4e+00 3.39e-01  3e-01  4e-01 0:00.6\n",
      "    3     27 5.424575716586059e-02 1.6e+00 3.61e-01  3e-01  4e-01 0:00.9\n",
      "   12    108 -7.607333480361498e-03 2.2e+00 3.68e-01  3e-01  4e-01 0:04.4\n",
      "   18    162 -1.964356902869416e-02 2.1e+00 3.04e-01  2e-01  3e-01 0:08.8\n",
      "   26    234 -3.625124917035113e-02 2.8e+00 2.25e-01  1e-01  2e-01 0:14.0\n",
      "   37    333 -3.833523175351557e-02 5.4e+00 1.34e-01  3e-02  1e-01 0:20.3\n",
      "   57    513 -4.107809427949120e-02 8.7e+00 2.96e-02  4e-03  2e-02 0:27.8\n",
      "   76    684 -4.179250986557250e-02 1.2e+01 2.10e-02  2e-03  1e-02 0:35.9\n",
      "  100    900 -4.240638326145758e-02 1.5e+01 1.21e-02  1e-03  8e-03 0:45.1\n",
      "  126   1134 -4.177435697976378e-02 1.8e+01 1.60e-02  1e-03  1e-02 0:55.2\n",
      "  145   1305 -4.206280164218766e-02 1.4e+01 4.70e-02  3e-03  3e-02 1:06.9\n",
      "  170   1530 -4.176261450284274e-02 1.7e+01 4.78e-02  3e-03  2e-02 1:19.0\n",
      "  192   1728 -4.133591962377126e-02 1.8e+01 5.43e-02  3e-03  2e-02 1:32.2\n",
      "  200   1800 -4.156604749336856e-02 1.8e+01 4.99e-02  3e-03  2e-02 1:36.6\n",
      "  221   1989 -4.097504499668805e-02 3.0e+01 3.32e-02  1e-03  1e-02 1:52.0\n",
      "  237   2133 -4.155327755995371e-02 5.4e+01 3.35e-02  1e-03  1e-02 2:08.5\n",
      "  261   2349 -4.074103576294387e-02 1.1e+02 4.37e-02  2e-03  2e-02 2:25.7\n",
      "  286   2574 -4.119541583605496e-02 1.6e+02 4.84e-02  2e-03  3e-02 2:44.0\n",
      "  300   2700 -4.056172376798767e-02 2.1e+02 2.27e-02  1e-03  1e-02 2:51.1\n",
      "  362   3258 -4.270043250072318e-02 1.9e+02 4.20e-02  1e-03  2e-02 3:11.4\n",
      "  400   3600 -4.135255311790078e-02 3.3e+02 2.16e-02  8e-04  5e-03 3:23.6\n",
      "  462   4158 -4.073138616058600e-02 5.8e+02 5.17e-02  1e-03  8e-03 3:45.9\n",
      "  500   4500 -4.142820561374622e-02 9.0e+02 9.57e-02  2e-03  1e-02 4:00.7\n",
      "  550   4950 -4.212040120647552e-02 2.6e+03 6.65e-02  1e-03  9e-03 4:19.1\n"
     ]
    },
    {
     "name": "stderr",
     "output_type": "stream",
     "text": [
      "reconstraining parameters GP_regression.Mat52.lengthscale\n",
      "reconstraining parameters GP_regression.Mat52.variance\n",
      "reconstraining parameters GP_regression.Gaussian_noise.variance\n"
     ]
    },
    {
     "name": "stdout",
     "output_type": "stream",
     "text": [
      "termination on tolstagnation=263 (Sun Aug 23 14:06:18 2020)\n",
      "final/bestever f-value = -3.875296e-02 -4.362088e-02\n",
      "incumbent solution: [1.597573261634668, 0.5023873325959501, 2.5539262176901074, 3.7605925991842426, 3.0283198596633953, 6.104749837818472]\n",
      "std deviation: [0.0011794350242954237, 0.008012786422943877, 0.00230007881319155, 0.002365191004756018, 0.009280537105887773, 0.007120531292604659]\n",
      "Optimization restart 1/10, f = 39.088521245466545\n",
      "Optimization restart 2/10, f = 108.76247255953297\n",
      "Optimization restart 3/10, f = 96.48781992743574\n",
      "Optimization restart 4/10, f = 56.06849755847822\n",
      "Optimization restart 5/10, f = 55.26500625576388\n",
      "Optimization restart 6/10, f = 94.84420624424982\n",
      "Optimization restart 7/10, f = 96.48782025791775\n",
      "Optimization restart 8/10, f = 39.088521245349035\n",
      "Optimization restart 9/10, f = 1620153633.174954\n"
     ]
    },
    {
     "name": "stderr",
     "output_type": "stream",
     "text": [
      "reconstraining parameters GP_regression.Mat52.lengthscale\n",
      "reconstraining parameters GP_regression.Mat52.variance\n",
      "reconstraining parameters GP_regression.Gaussian_noise.variance\n"
     ]
    },
    {
     "name": "stdout",
     "output_type": "stream",
     "text": [
      "Optimization restart 10/10, f = 80.93249247937385\n",
      "Optimization restart 1/10, f = -0.601514206768897\n",
      "Optimization restart 2/10, f = 413.6849081282619\n",
      "Optimization restart 3/10, f = 86.10566767449669\n",
      "Optimization restart 4/10, f = 2120887183.9462447\n",
      "Optimization restart 5/10, f = 111.04939090592457\n",
      "Optimization restart 6/10, f = 445.85104731789846\n",
      "Optimization restart 7/10, f = 75.30876358073301\n",
      "Optimization restart 8/10, f = 94.6652737715624\n",
      "Optimization restart 9/10, f = -0.6015142067642358\n",
      "Optimization restart 10/10, f = 98.58701448880518\n",
      "(4_w,9)-aCMA-ES (mu_w=2.8,w_1=49%) in dimension 6 (seed=250402, Sun Aug 23 14:06:24 2020)\n",
      "Iterat #Fevals   function value  axis ratio  sigma  min&max std  t[m:s]\n",
      "    1      9 3.966741935604137e-01 1.0e+00 2.60e-01  3e-01  3e-01 0:00.3\n",
      "    2     18 3.813158089663379e-01 1.3e+00 2.83e-01  3e-01  3e-01 0:00.6\n",
      "    3     27 3.587945464545012e-01 1.6e+00 3.06e-01  3e-01  4e-01 0:00.9\n",
      "   13    117 1.179282292604346e-01 2.5e+00 7.93e-01  7e-01  1e+00 0:04.2\n",
      "   26    234 -8.156530558123340e-02 3.1e+00 4.02e-01  2e-01  5e-01 0:08.4\n",
      "   37    333 -1.194818770522880e-01 4.6e+00 2.24e-01  7e-02  2e-01 0:13.6\n",
      "   48    432 -1.506915142226746e-01 6.3e+00 1.04e-01  2e-02  1e-01 0:20.6\n",
      "   59    531 -1.647569553226232e-01 1.1e+01 1.11e-01  1e-02  1e-01 0:27.6\n",
      "   75    675 -1.708339031309181e-01 2.1e+01 5.39e-02  3e-03  4e-02 0:35.6\n",
      "  100    900 -1.715114155741219e-01 4.2e+01 1.62e-02  7e-04  1e-02 0:43.7\n",
      "  128   1152 -1.717254700902062e-01 4.7e+01 5.80e-03  2e-04  4e-03 0:54.0\n",
      "  154   1386 -1.716310478484311e-01 6.7e+01 8.13e-03  2e-04  6e-03 1:05.2\n",
      "  183   1647 -1.717095637245483e-01 7.8e+01 6.87e-03  2e-04  3e-03 1:17.3\n",
      "  200   1800 -1.715856385296214e-01 1.1e+02 2.13e-03  5e-05  1e-03 1:24.3\n",
      "  239   2151 -1.716606742010634e-01 1.9e+02 2.18e-03  5e-05  9e-04 1:38.4\n",
      "  283   2547 -1.714990434308939e-01 2.0e+02 2.50e-03  4e-05  6e-04 1:53.4\n",
      "  300   2700 -1.714856431542985e-01 3.7e+02 3.12e-03  4e-05  9e-04 2:02.2\n",
      "  348   3132 -1.714792840752109e-01 3.9e+02 6.41e-03  7e-05  1e-03 2:19.3\n",
      "  400   3600 -1.715558889387764e-01 1.2e+03 4.61e-03  4e-05  1e-03 2:37.4\n",
      "  437   3933 -1.718794092644573e-01 2.4e+03 1.51e-03  1e-05  3e-04 2:56.9\n",
      "  495   4455 -1.715882977561159e-01 9.9e+03 6.77e-04  4e-06  2e-04 3:17.1\n",
      "  500   4500 -1.715319866965806e-01 1.2e+04 5.49e-04  3e-06  2e-04 3:18.7\n",
      "  569   5121 -1.715340240123960e-01 1.2e+04 5.89e-04  1e-06  7e-05 3:41.0\n",
      "  595   5355 -1.717102737312499e-01 1.3e+04 6.21e-04  1e-06  7e-05 3:49.4\n"
     ]
    },
    {
     "name": "stderr",
     "output_type": "stream",
     "text": [
      "reconstraining parameters GP_regression.Mat52.lengthscale\n",
      "reconstraining parameters GP_regression.Mat52.variance\n",
      "reconstraining parameters GP_regression.Gaussian_noise.variance\n"
     ]
    },
    {
     "name": "stdout",
     "output_type": "stream",
     "text": [
      "termination on tolstagnation=263 (Sun Aug 23 14:10:14 2020)\n",
      "final/bestever f-value = -1.712354e-01 -1.719002e-01\n",
      "incumbent solution: [1.1355336645360212, 2.6950380448668065, 2.1470213264120104, 3.3252375155354796, 4.291201721555556, 5.731538323744059]\n",
      "std deviation: [2.3979624303005307e-06, 1.2525370426658352e-06, 7.4207234298195706e-06, 4.4875740422162784e-05, 5.458030123023023e-05, 6.729193543271722e-05]\n",
      "Optimization restart 1/10, f = 37.01664364188448\n",
      "Optimization restart 2/10, f = 60.30415594369169\n",
      "Optimization restart 3/10, f = 94.27251390984016\n",
      "Optimization restart 4/10, f = 96.11604397348083\n",
      "Optimization restart 5/10, f = 93.62487518478349\n",
      "Optimization restart 6/10, f = 97.90675872498338\n",
      "Optimization restart 7/10, f = 38.65260527253747\n",
      "Optimization restart 8/10, f = 61.393073605306974\n",
      "Optimization restart 9/10, f = 97.90677186642948\n"
     ]
    },
    {
     "name": "stderr",
     "output_type": "stream",
     "text": [
      "reconstraining parameters GP_regression.Mat52.lengthscale\n",
      "reconstraining parameters GP_regression.Mat52.variance\n",
      "reconstraining parameters GP_regression.Gaussian_noise.variance\n"
     ]
    },
    {
     "name": "stdout",
     "output_type": "stream",
     "text": [
      "Optimization restart 10/10, f = 91.11596063154232\n",
      "Optimization restart 1/10, f = -3.102210395982368\n",
      "Optimization restart 2/10, f = 72.5070954454393\n",
      "Optimization restart 3/10, f = 108.04387739188078\n",
      "Optimization restart 4/10, f = 2173447760.177504\n",
      "Optimization restart 5/10, f = 108.04354900423641\n",
      "Optimization restart 6/10, f = 3446219.6918664533\n",
      "Optimization restart 7/10, f = 460.60303233259856\n",
      "Optimization restart 8/10, f = 370.79257461172205\n",
      "Optimization restart 9/10, f = 97.81491971112911\n",
      "Optimization restart 10/10, f = 10.922383956460898\n",
      "(4_w,9)-aCMA-ES (mu_w=2.8,w_1=49%) in dimension 6 (seed=257058, Sun Aug 23 14:10:18 2020)\n",
      "Iterat #Fevals   function value  axis ratio  sigma  min&max std  t[m:s]\n",
      "    1      9 2.889202440283516e-01 1.0e+00 2.57e-01  2e-01  3e-01 0:00.3\n",
      "    2     18 2.541641758992894e-01 1.4e+00 2.95e-01  3e-01  3e-01 0:00.6\n",
      "    3     27 2.455870116560391e-01 1.6e+00 3.23e-01  3e-01  3e-01 0:01.0\n",
      "   12    108 6.509570534550234e-02 2.0e+00 6.43e-01  5e-01  7e-01 0:04.0\n",
      "   24    216 -2.985316716419585e-02 2.4e+00 7.02e-01  5e-01  7e-01 0:08.1\n",
      "   39    351 -1.133187960174009e-01 2.8e+00 1.95e-01  7e-02  2e-01 0:13.2\n",
      "   53    477 -1.640499310409456e-01 8.0e+00 9.20e-02  1e-02  8e-02 0:19.3\n",
      "   66    594 -1.740553613635135e-01 1.8e+01 8.86e-02  8e-03  8e-02 0:26.5\n",
      "   89    801 -1.756273499859480e-01 3.0e+01 4.00e-02  2e-03  3e-02 0:34.8\n",
      "  100    900 -1.757886791064334e-01 3.6e+01 4.58e-02  3e-03  3e-02 0:40.8\n",
      "  121   1089 -1.757644352134028e-01 4.9e+01 2.38e-02  7e-04  1e-02 0:51.2\n",
      "  146   1314 -1.754608921967896e-01 5.3e+01 3.72e-02  1e-03  2e-02 1:02.2\n",
      "  182   1638 -1.759654295142059e-01 8.0e+01 2.50e-02  7e-04  1e-02 1:14.3\n",
      "  200   1800 -1.759027281924321e-01 5.8e+01 2.00e-02  5e-04  7e-03 1:20.4\n",
      "  228   2052 -1.757672476107242e-01 1.2e+02 1.33e-02  4e-04  5e-03 1:34.5\n",
      "  259   2331 -1.757936127769473e-01 2.4e+02 1.58e-02  6e-04  6e-03 1:49.9\n",
      "  300   2700 -1.753766288332850e-01 2.8e+02 1.96e-02  7e-04  7e-03 2:05.7\n",
      "  334   3006 -1.756359381921890e-01 3.5e+02 2.08e-02  5e-04  7e-03 2:23.0\n",
      "  364   3276 -1.761034696203845e-01 2.8e+02 5.92e-02  8e-04  1e-02 2:41.1\n",
      "  399   3591 -1.756656565633672e-01 4.8e+02 3.27e-02  3e-04  5e-03 3:00.2\n",
      "  400   3600 -1.756727629345186e-01 5.0e+02 3.46e-02  3e-04  6e-03 3:00.5\n",
      "  454   4086 -1.755208648377120e-01 7.9e+02 7.52e-02  7e-04  2e-02 3:21.6\n",
      "  496   4464 -1.757905882680425e-01 1.8e+03 5.28e-02  5e-04  1e-02 3:44.0\n",
      "  500   4500 -1.760459237791042e-01 2.2e+03 5.19e-02  5e-04  1e-02 3:46.1\n",
      "  550   4950 -1.756215931234181e-01 1.7e+03 1.94e-02  8e-05  2e-03 4:09.7\n"
     ]
    },
    {
     "name": "stderr",
     "output_type": "stream",
     "text": [
      "reconstraining parameters GP_regression.Mat52.lengthscale\n",
      "reconstraining parameters GP_regression.Mat52.variance\n",
      "reconstraining parameters GP_regression.Gaussian_noise.variance\n"
     ]
    },
    {
     "name": "stdout",
     "output_type": "stream",
     "text": [
      "termination on tolstagnation=263 (Sun Aug 23 14:14:29 2020)\n",
      "final/bestever f-value = -1.758339e-01 -1.764504e-01\n",
      "incumbent solution: [1.6350393942006696, 0.37491134404907195, 2.5384387936907626, 3.5767331146498993, 3.5467432627421154, 5.891346946112803]\n",
      "std deviation: [0.00012763534550031406, 8.198147041602604e-05, 0.0003569528588676601, 0.0017780579925308743, 0.0022999094280010987, 0.0019047869441903076]\n",
      "Optimization restart 1/10, f = 36.09663849858071\n",
      "Optimization restart 2/10, f = 56.05433515845085\n",
      "Optimization restart 3/10, f = 99.32569728193191\n",
      "Optimization restart 4/10, f = 381.8228451804809\n",
      "Optimization restart 5/10, f = 99.32569732428527\n",
      "Optimization restart 6/10, f = 64.62034300953044\n",
      "Optimization restart 7/10, f = 55.67297859259144\n",
      "Optimization restart 8/10, f = 95.89803948285221\n",
      "Optimization restart 9/10, f = 91.27651205432488\n"
     ]
    },
    {
     "name": "stderr",
     "output_type": "stream",
     "text": [
      "reconstraining parameters GP_regression.Mat52.lengthscale\n",
      "reconstraining parameters GP_regression.Mat52.variance\n",
      "reconstraining parameters GP_regression.Gaussian_noise.variance\n"
     ]
    },
    {
     "name": "stdout",
     "output_type": "stream",
     "text": [
      "Optimization restart 10/10, f = 55.67298250688092\n",
      "Optimization restart 1/10, f = -3.7624054378468372\n",
      "Optimization restart 2/10, f = 109.56502781791302\n",
      "Optimization restart 3/10, f = 99.32569732424807\n",
      "Optimization restart 4/10, f = 99.32569745058106\n",
      "Optimization restart 5/10, f = 186.36981755988256\n",
      "Optimization restart 6/10, f = 280.65500091758054\n",
      "Optimization restart 7/10, f = 99.32569732432708\n",
      "Optimization restart 8/10, f = -3.762405437869404\n",
      "Optimization restart 9/10, f = 75.30029916221548\n",
      "Optimization restart 10/10, f = 177.0715746275514\n",
      "(4_w,9)-aCMA-ES (mu_w=2.8,w_1=49%) in dimension 6 (seed=284314, Sun Aug 23 14:14:33 2020)\n",
      "Iterat #Fevals   function value  axis ratio  sigma  min&max std  t[m:s]\n",
      "    1      9 2.436429882669769e-01 1.0e+00 2.77e-01  3e-01  3e-01 0:00.4\n",
      "    2     18 1.962207574783196e-01 1.2e+00 3.38e-01  3e-01  4e-01 0:00.7\n",
      "    3     27 1.681273219382024e-01 1.3e+00 3.89e-01  4e-01  4e-01 0:01.0\n",
      "   12    108 4.265165936879006e-02 3.1e+00 4.03e-01  2e-01  5e-01 0:04.4\n",
      "   20    180 -2.524673624013437e-02 3.1e+00 2.65e-01  1e-01  3e-01 0:08.8\n",
      "   27    243 -4.815079117305559e-02 3.1e+00 1.24e-01  5e-02  1e-01 0:14.4\n",
      "   32    288 -4.838994253684763e-02 3.3e+00 6.57e-02  2e-02  6e-02 0:20.7\n",
      "   44    396 -4.993339544833799e-02 4.5e+00 3.09e-02  1e-02  3e-02 0:27.9\n",
      "   59    531 -4.969577374451438e-02 6.6e+00 2.65e-02  7e-03  3e-02 0:36.5\n",
      "   74    666 -5.019471921064984e-02 7.0e+00 1.37e-02  4e-03  1e-02 0:45.7\n",
      "   92    828 -5.132184804200838e-02 7.8e+00 1.09e-02  3e-03  9e-03 0:55.7\n",
      "  100    900 -4.923333247304913e-02 6.5e+00 4.41e-03  1e-03  3e-03 0:60.0\n",
      "  122   1098 -4.925384935400549e-02 9.3e+00 9.99e-03  2e-03  8e-03 1:12.0\n",
      "  147   1323 -4.946963660283809e-02 1.1e+01 5.60e-03  9e-04  4e-03 1:25.2\n",
      "  173   1557 -5.083904043052209e-02 2.0e+01 3.59e-03  6e-04  3e-03 1:39.3\n",
      "  200   1800 -4.977026374281490e-02 3.0e+01 1.53e-03  2e-04  9e-04 1:54.7\n",
      "  229   2061 -5.012120196921856e-02 4.6e+01 1.60e-03  2e-04  9e-04 2:11.2\n",
      "  259   2331 -5.034137718663505e-02 6.0e+01 1.73e-03  1e-04  9e-04 2:28.4\n",
      "  293   2637 -5.082486860155575e-02 1.0e+02 1.44e-03  1e-04  8e-04 2:46.6\n",
      "  300   2700 -5.047840880761018e-02 1.2e+02 8.12e-04  6e-05  4e-04 2:50.3\n",
      "  338   3042 -4.958620349386578e-02 1.8e+02 5.06e-04  3e-05  2e-04 3:10.7\n",
      "  378   3402 -5.078883720838267e-02 2.3e+02 3.07e-04  8e-06  1e-04 3:32.0\n",
      "  400   3600 -5.071272319418258e-02 3.3e+02 1.99e-04  5e-06  8e-05 3:43.7\n",
      "  445   4005 -5.019642200482166e-02 7.4e+02 5.46e-04  7e-06  3e-04 4:07.3\n",
      "  490   4410 -4.979163722222086e-02 1.7e+03 8.69e-04  1e-05  7e-04 4:31.4\n",
      "  500   4500 -4.981948597959118e-02 2.2e+03 8.99e-04  1e-05  8e-04 4:36.8\n",
      "  510   4590 -4.998628240791146e-02 2.1e+03 9.38e-04  1e-05  7e-04 4:42.0\n"
     ]
    },
    {
     "name": "stderr",
     "output_type": "stream",
     "text": [
      "reconstraining parameters GP_regression.Mat52.lengthscale\n",
      "reconstraining parameters GP_regression.Mat52.variance\n",
      "reconstraining parameters GP_regression.Gaussian_noise.variance\n"
     ]
    },
    {
     "name": "stdout",
     "output_type": "stream",
     "text": [
      "termination on tolstagnation=263 (Sun Aug 23 14:19:16 2020)\n",
      "final/bestever f-value = -4.740070e-02 -5.225938e-02\n",
      "incumbent solution: [0.0010493461719674173, 0.22404267676206024, 9.872830652945238e-05, 0.0014832793305492736, 9.97323404005229, 7.614249119855378e-06]\n",
      "std deviation: [1.0176165372985678e-05, 0.00020220434649870038, 8.530291596558378e-05, 3.101359420550349e-05, 0.0006774809395524537, 5.552861840375712e-05]\n",
      "Optimization restart 1/10, f = 33.73644630033591\n",
      "Optimization restart 2/10, f = 80.24865590885994\n",
      "Optimization restart 3/10, f = 100.74463585753176\n",
      "Optimization restart 4/10, f = 100.53885049026866\n",
      "Optimization restart 5/10, f = 98.41491433791616\n",
      "Optimization restart 6/10, f = 33.73644632113469\n",
      "Optimization restart 7/10, f = 54.729224750157194\n",
      "Optimization restart 8/10, f = 100.74463585761961\n",
      "Optimization restart 9/10, f = 90.18930590491468\n"
     ]
    },
    {
     "name": "stderr",
     "output_type": "stream",
     "text": [
      "reconstraining parameters GP_regression.Mat52.lengthscale\n",
      "reconstraining parameters GP_regression.Mat52.variance\n",
      "reconstraining parameters GP_regression.Gaussian_noise.variance\n"
     ]
    },
    {
     "name": "stdout",
     "output_type": "stream",
     "text": [
      "Optimization restart 10/10, f = 100.53885101448346\n",
      "Optimization restart 1/10, f = -5.419679536842878\n",
      "Optimization restart 2/10, f = 111.06576952941353\n",
      "Optimization restart 3/10, f = 91.61084364677708\n",
      "Optimization restart 4/10, f = 79.11609683349633\n",
      "Optimization restart 5/10, f = 458.2709841091219\n",
      "Optimization restart 6/10, f = 466.46275087804105\n",
      "Optimization restart 7/10, f = 27.012543378829058\n",
      "Optimization restart 8/10, f = 381.6471574923499\n",
      "Optimization restart 9/10, f = 27.012545778531766\n",
      "Optimization restart 10/10, f = 110.39035703599954\n",
      "(4_w,9)-aCMA-ES (mu_w=2.8,w_1=49%) in dimension 6 (seed=344456, Sun Aug 23 14:19:29 2020)\n",
      "Iterat #Fevals   function value  axis ratio  sigma  min&max std  t[m:s]\n",
      "    1      9 4.551644147013236e-01 1.0e+00 2.55e-01  2e-01  3e-01 0:00.4\n",
      "    2     18 4.303658849400134e-01 1.3e+00 2.79e-01  3e-01  3e-01 0:01.1\n",
      "    3     27 4.266171988321233e-01 1.4e+00 2.91e-01  2e-01  3e-01 0:01.6\n",
      "    9     81 2.573006799622629e-01 2.5e+00 5.81e-01  4e-01  8e-01 0:05.2\n",
      "   17    153 2.457693615479781e-02 3.0e+00 9.14e-01  7e-01  1e+00 0:09.6\n",
      "   27    243 3.911555528237900e-02 3.0e+00 3.85e-01  2e-01  4e-01 0:14.8\n",
      "   39    351 -7.914539261334773e-02 3.8e+00 2.72e-01  1e-01  3e-01 0:20.8\n",
      "   52    468 -6.937319076767316e-02 4.4e+00 2.39e-01  7e-02  2e-01 0:28.2\n",
      "   67    603 -9.751550619612112e-02 6.1e+00 8.69e-02  2e-02  7e-02 0:36.3\n",
      "   92    828 -1.080870479580451e-01 2.3e+01 5.73e-02  4e-03  4e-02 0:45.5\n",
      "  100    900 -1.082436008567095e-01 2.9e+01 3.00e-02  2e-03  2e-02 0:48.2\n",
      "  133   1197 -1.084254974819393e-01 5.4e+01 9.08e-03  5e-04  6e-03 0:59.2\n",
      "  169   1521 -1.084168262524800e-01 1.0e+02 6.72e-03  3e-04  5e-03 1:11.2\n",
      "  200   1800 -1.084409116406854e-01 6.1e+01 7.28e-03  2e-04  3e-03 1:21.8\n",
      "  242   2178 -1.084150600885934e-01 1.1e+02 9.30e-03  2e-04  4e-03 1:36.1\n",
      "  287   2583 -1.083614227904725e-01 1.9e+02 3.33e-03  4e-05  7e-04 1:51.4\n",
      "  300   2700 -1.083439856654888e-01 2.2e+02 3.65e-03  4e-05  9e-04 1:55.8\n",
      "  351   3159 -1.084723933204723e-01 5.6e+02 2.29e-03  1e-05  6e-04 2:12.9\n",
      "  400   3600 -1.084870284417625e-01 8.5e+02 9.52e-04  4e-06  1e-04 2:29.4\n",
      "  457   4113 -1.084481736519929e-01 2.3e+03 8.46e-04  4e-06  1e-04 2:48.6\n",
      "  500   4500 -1.083940060623701e-01 6.2e+03 5.71e-04  3e-06  1e-04 3:03.0\n",
      "  505   4545 -1.084227894815829e-01 5.9e+03 5.79e-04  3e-06  1e-04 3:04.6\n"
     ]
    },
    {
     "name": "stderr",
     "output_type": "stream",
     "text": [
      "reconstraining parameters GP_regression.Mat52.lengthscale\n",
      "reconstraining parameters GP_regression.Mat52.variance\n",
      "reconstraining parameters GP_regression.Gaussian_noise.variance\n"
     ]
    },
    {
     "name": "stdout",
     "output_type": "stream",
     "text": [
      "termination on tolstagnation=263 (Sun Aug 23 14:22:35 2020)\n",
      "final/bestever f-value = -1.084185e-01 -1.085750e-01\n",
      "incumbent solution: [1.097696559454438, 3.089629651103032, 2.519449194397016, 3.5448062723958556, 3.8793907899031406, 5.543593522244654]\n",
      "std deviation: [2.520135032134234e-06, 2.906161476343264e-06, 2.464395864585005e-05, 3.8310590986584124e-05, 4.664142935389038e-05, 0.00011062949181917538]\n",
      "Optimization restart 1/10, f = 31.948525324632186\n",
      "Optimization restart 2/10, f = 102.1589875477961\n",
      "Optimization restart 3/10, f = 138.92961656567726\n",
      "Optimization restart 4/10, f = 102.07533229444547\n",
      "Optimization restart 5/10, f = 83.78067543995061\n",
      "Optimization restart 6/10, f = 82.98765496542481\n",
      "Optimization restart 7/10, f = 49.59837358033162\n",
      "Optimization restart 8/10, f = 246.05886348434\n",
      "Optimization restart 9/10, f = 87.57990915310214\n"
     ]
    },
    {
     "name": "stderr",
     "output_type": "stream",
     "text": [
      "reconstraining parameters GP_regression.Mat52.lengthscale\n",
      "reconstraining parameters GP_regression.Mat52.variance\n",
      "reconstraining parameters GP_regression.Gaussian_noise.variance\n"
     ]
    },
    {
     "name": "stdout",
     "output_type": "stream",
     "text": [
      "Optimization restart 10/10, f = 138.34189730605982\n",
      "Optimization restart 1/10, f = -8.15104629871636\n",
      "Optimization restart 2/10, f = 46.94308229092408\n",
      "Optimization restart 3/10, f = 104.72784301661878\n",
      "Optimization restart 4/10, f = 99.72017678627337\n",
      "Optimization restart 5/10, f = 96.7011269607691\n",
      "Optimization restart 6/10, f = 461.8271868317154\n",
      "Optimization restart 7/10, f = 95.05916616345824\n",
      "Optimization restart 8/10, f = 443.71258282871634\n",
      "Optimization restart 9/10, f = -8.15104629781785\n",
      "Optimization restart 10/10, f = 480.62925112966815\n",
      "(4_w,9)-aCMA-ES (mu_w=2.8,w_1=49%) in dimension 6 (seed=324618, Sun Aug 23 14:22:39 2020)\n",
      "Iterat #Fevals   function value  axis ratio  sigma  min&max std  t[m:s]\n",
      "    1      9 4.083839615013347e-01 1.0e+00 2.55e-01  2e-01  3e-01 0:00.4\n",
      "    2     18 3.780262809228963e-01 1.4e+00 2.72e-01  3e-01  3e-01 0:00.7\n",
      "    3     27 3.724734194152660e-01 1.5e+00 2.92e-01  3e-01  3e-01 0:01.0\n",
      "   12    108 1.720097122355716e-01 2.5e+00 6.13e-01  6e-01  7e-01 0:04.2\n",
      "   24    216 -7.733989874055057e-02 2.4e+00 3.41e-01  2e-01  3e-01 0:08.3\n",
      "   39    351 -1.132029083188572e-01 3.8e+00 9.66e-02  4e-02  8e-02 0:13.5\n",
      "   56    504 -1.242326412591497e-01 1.0e+01 5.81e-02  8e-03  7e-02 0:19.5\n",
      "   77    693 -1.245289634079082e-01 2.3e+01 2.71e-02  2e-03  2e-02 0:26.7\n",
      "  100    900 -1.256929581800217e-01 2.1e+01 1.51e-02  7e-04  1e-02 0:34.8\n",
      "  127   1143 -1.271021741575108e-01 4.4e+01 1.58e-02  6e-04  1e-02 0:44.0\n",
      "  157   1413 -1.285464783075874e-01 7.5e+01 2.47e-02  7e-04  2e-02 0:54.2\n",
      "  189   1701 -1.286524513924729e-01 7.8e+01 2.16e-02  3e-04  1e-02 1:05.3\n",
      "  200   1800 -1.295466219819738e-01 5.6e+01 1.86e-02  3e-04  7e-03 1:09.0\n",
      "  238   2142 -1.289785279318795e-01 6.9e+01 1.40e-02  1e-04  5e-03 1:22.1\n",
      "  279   2511 -1.294563536951281e-01 1.1e+02 3.12e-02  3e-04  9e-03 1:36.1\n",
      "  300   2700 -1.286421287222535e-01 1.6e+02 2.95e-02  2e-04  1e-02 1:43.3\n",
      "  347   3123 -1.289504608759817e-01 1.8e+02 2.13e-02  1e-04  6e-03 1:59.4\n",
      "  396   3564 -1.288315845441729e-01 2.0e+02 3.97e-02  2e-04  7e-03 2:16.6\n",
      "  400   3600 -1.292799045311764e-01 2.2e+02 3.01e-02  2e-04  5e-03 2:18.0\n",
      "  456   4104 -1.288672715760930e-01 4.2e+02 1.28e-01  8e-04  2e-02 2:37.1\n",
      "  500   4500 -1.290588720006801e-01 7.4e+02 1.74e-01  9e-04  2e-02 2:51.8\n",
      "  563   5067 -1.301091648106058e-01 2.7e+03 1.08e-01  5e-04  2e-02 3:13.0\n",
      "  600   5400 -1.295885803249614e-01 3.9e+03 1.95e-01  9e-04  3e-02 3:25.4\n",
      "  668   6012 -1.291014638688864e-01 6.0e+03 1.48e-01  4e-04  1e-02 3:48.6\n",
      "  700   6300 -1.300186875219348e-01 1.1e+04 1.62e-01  3e-04  1e-02 3:59.4\n",
      "  775   6975 -1.295237566708634e-01 2.7e+04 2.88e-02  4e-05  1e-03 4:24.6\n",
      "  800   7200 -1.294344601618251e-01 5.0e+04 3.57e-02  4e-05  2e-03 4:33.1\n",
      "  881   7929 -1.290378472408629e-01 1.3e+05 1.84e-02  2e-05  1e-03 5:00.3\n",
      "  900   8100 -1.293990442010672e-01 1.8e+05 1.44e-02  2e-05  9e-04 5:06.9\n",
      "  915   8235 -1.295343925381229e-01 2.2e+05 1.83e-02  2e-05  1e-03 5:12.0\n"
     ]
    },
    {
     "name": "stderr",
     "output_type": "stream",
     "text": [
      "reconstraining parameters GP_regression.Mat52.lengthscale\n",
      "reconstraining parameters GP_regression.Mat52.variance\n",
      "reconstraining parameters GP_regression.Gaussian_noise.variance\n"
     ]
    },
    {
     "name": "stdout",
     "output_type": "stream",
     "text": [
      "termination on tolstagnation=263 (Sun Aug 23 14:27:52 2020)\n",
      "final/bestever f-value = -1.286190e-01 -1.302964e-01\n",
      "incumbent solution: [1.4814968299444127, 0.6151077892225658, 2.557165086100357, 3.977382615181974, 2.53336862617788, 5.346811117033656]\n",
      "std deviation: [1.870869110191794e-05, 8.408772803694415e-05, 0.0002958840532454059, 0.0006470368564621196, 0.000760333245294949, 0.0010057508321715794]\n",
      "Optimization restart 1/10, f = 31.94260849994322\n",
      "Optimization restart 2/10, f = 106.29390359244351\n",
      "Optimization restart 3/10, f = 63.70484455144959\n",
      "Optimization restart 4/10, f = 96.13759224165202\n",
      "Optimization restart 5/10, f = 487.3046562471705\n",
      "Optimization restart 6/10, f = 250.00404841077733\n",
      "Optimization restart 7/10, f = 147.26232705521974\n",
      "Optimization restart 8/10, f = 36.347902247239865\n",
      "Optimization restart 9/10, f = 103.49285021078673\n"
     ]
    },
    {
     "name": "stderr",
     "output_type": "stream",
     "text": [
      "reconstraining parameters GP_regression.Mat52.lengthscale\n",
      "reconstraining parameters GP_regression.Mat52.variance\n",
      "reconstraining parameters GP_regression.Gaussian_noise.variance\n"
     ]
    },
    {
     "name": "stdout",
     "output_type": "stream",
     "text": [
      "Optimization restart 10/10, f = 92.9134733808185\n",
      "Optimization restart 1/10, f = -10.103475535948512\n",
      "Optimization restart 2/10, f = 104.1674956161888\n",
      "Optimization restart 3/10, f = 43.35990119878008\n",
      "Optimization restart 4/10, f = 397.4205986403286\n",
      "Optimization restart 5/10, f = 89.77603875604854\n",
      "Optimization restart 6/10, f = -10.103475535434406\n",
      "Optimization restart 7/10, f = 101.23100118722127\n",
      "Optimization restart 8/10, f = 103.58251306018266\n",
      "Optimization restart 9/10, f = 101.58292885681254\n",
      "Optimization restart 10/10, f = 103.58251265097871\n",
      "(4_w,9)-aCMA-ES (mu_w=2.8,w_1=49%) in dimension 6 (seed=265242, Sun Aug 23 14:27:57 2020)\n",
      "Iterat #Fevals   function value  axis ratio  sigma  min&max std  t[m:s]\n",
      "    1      9 4.144217846081747e-01 1.0e+00 2.05e-01  2e-01  2e-01 0:00.3\n",
      "    2     18 3.868289347492003e-01 1.1e+00 2.28e-01  2e-01  3e-01 0:00.7\n",
      "    3     27 2.744874960145320e-01 1.4e+00 2.72e-01  2e-01  3e-01 0:01.0\n",
      "   12    108 -4.826596937823632e-04 1.9e+00 6.75e-01  5e-01  8e-01 0:04.3\n",
      "   24    216 -5.236065355084585e-02 3.2e+00 4.63e-01  2e-01  5e-01 0:08.5\n",
      "   38    342 -8.844874787687722e-02 5.0e+00 2.27e-01  6e-02  3e-01 0:13.5\n",
      "   56    504 -1.281142022968417e-01 1.2e+01 1.37e-01  3e-02  2e-01 0:19.7\n",
      "   77    693 -1.359406438764136e-01 2.2e+01 5.62e-02  5e-03  5e-02 0:27.1\n",
      "  100    900 -1.369521120800078e-01 2.9e+01 3.81e-02  4e-03  3e-02 0:35.0\n",
      "  127   1143 -1.366430193655740e-01 2.8e+01 2.07e-02  1e-03  1e-02 0:44.3\n",
      "  156   1404 -1.368509398653984e-01 3.2e+01 1.58e-02  1e-03  9e-03 0:54.4\n",
      "  188   1692 -1.368429388772954e-01 8.9e+01 7.79e-03  7e-04  6e-03 1:05.4\n",
      "  200   1800 -1.369301495612622e-01 8.8e+01 7.39e-03  5e-04  5e-03 1:09.6\n",
      "  238   2142 -1.369092207336775e-01 2.0e+02 3.05e-03  3e-04  3e-03 1:22.8\n",
      "  279   2511 -1.368903984837906e-01 7.7e+02 5.90e-03  5e-04  8e-03 1:37.0\n",
      "  300   2700 -1.366897572611845e-01 9.4e+02 7.06e-03  6e-04  9e-03 1:44.3\n",
      "  347   3123 -1.369464651894691e-01 2.4e+03 4.60e-03  4e-04  4e-03 2:00.6\n",
      "  397   3573 -1.371146301908891e-01 3.3e+03 3.94e-03  2e-04  3e-03 2:17.8\n",
      "  400   3600 -1.370586977842194e-01 3.9e+03 3.33e-03  2e-04  2e-03 2:18.8\n",
      "  456   4104 -1.366321354139964e-01 2.9e+04 1.81e-03  2e-04  2e-03 2:38.2\n",
      "  500   4500 -1.367130771884673e-01 6.7e+04 3.12e-03  4e-04  4e-03 2:53.5\n",
      "  559   5031 -1.369934477883516e-01 2.3e+05 2.80e-03  6e-04  7e-03 3:14.8\n",
      "  600   5400 -1.366195105529497e-01 4.5e+05 1.77e-03  5e-04  5e-03 3:29.0\n",
      "  650   5850 -1.367970620636029e-01 4.3e+05 2.62e-03  5e-04  6e-03 3:46.3\n"
     ]
    },
    {
     "name": "stderr",
     "output_type": "stream",
     "text": [
      "reconstraining parameters GP_regression.Mat52.lengthscale\n",
      "reconstraining parameters GP_regression.Mat52.variance\n",
      "reconstraining parameters GP_regression.Gaussian_noise.variance\n"
     ]
    },
    {
     "name": "stdout",
     "output_type": "stream",
     "text": [
      "termination on tolstagnation=263 (Sun Aug 23 14:31:44 2020)\n",
      "final/bestever f-value = -1.357658e-01 -1.375102e-01\n",
      "incumbent solution: [1.10181971575224, 2.784848273183313, 2.460424906499935, 3.583465401255744, 4.697018445348313, 5.041187182507992]\n",
      "std deviation: [0.0005509781020300667, 0.0005107934450722448, 0.0006976809681770187, 0.0008549350347565616, 0.004736408847088624, 0.005531110501936645]\n",
      "Optimization restart 1/10, f = 30.345029416130437\n",
      "Optimization restart 2/10, f = 105.00124264497572\n",
      "Optimization restart 3/10, f = 93.47365324201321\n",
      "Optimization restart 4/10, f = 459.23606284711775\n",
      "Optimization restart 5/10, f = 30.34502941599041\n",
      "Optimization restart 6/10, f = 493.9800636610478\n",
      "Optimization restart 7/10, f = 97.20856516397697\n",
      "Optimization restart 8/10, f = 30.345029416438926\n",
      "Optimization restart 9/10, f = 102.64215295368868\n"
     ]
    },
    {
     "name": "stderr",
     "output_type": "stream",
     "text": [
      "reconstraining parameters GP_regression.Mat52.lengthscale\n",
      "reconstraining parameters GP_regression.Mat52.variance\n",
      "reconstraining parameters GP_regression.Gaussian_noise.variance\n"
     ]
    },
    {
     "name": "stdout",
     "output_type": "stream",
     "text": [
      "Optimization restart 10/10, f = 35.41026753658024\n",
      "Optimization restart 1/10, f = -12.437482486920004\n",
      "Optimization restart 2/10, f = 105.00144554643651\n",
      "Optimization restart 3/10, f = 85.02036423014535\n",
      "Optimization restart 4/10, f = 99.66035939370055\n",
      "Optimization restart 5/10, f = 63.5891885599019\n",
      "Optimization restart 6/10, f = 90.66596974762155\n",
      "Optimization restart 7/10, f = 103.58557915481491\n",
      "Optimization restart 8/10, f = 86.30647228420455\n",
      "Optimization restart 9/10, f = 465.96779498115893\n",
      "Optimization restart 10/10, f = 63.58921994957727\n",
      "(4_w,9)-aCMA-ES (mu_w=2.8,w_1=49%) in dimension 6 (seed=331401, Sun Aug 23 14:31:48 2020)\n",
      "Iterat #Fevals   function value  axis ratio  sigma  min&max std  t[m:s]\n",
      "    1      9 4.277207924689712e-01 1.0e+00 2.31e-01  2e-01  2e-01 0:00.3\n",
      "    2     18 4.691908202064584e-01 1.3e+00 2.58e-01  2e-01  3e-01 0:00.7\n",
      "    3     27 4.259169898639857e-01 1.5e+00 2.62e-01  2e-01  3e-01 0:01.0\n",
      "   12    108 1.093540075567648e-01 2.8e+00 6.64e-01  6e-01  1e+00 0:04.2\n",
      "   24    216 -1.223879971654890e-02 3.0e+00 4.04e-01  2e-01  5e-01 0:08.4\n",
      "   39    351 -3.322461594725912e-02 4.2e+00 1.08e-01  3e-02  1e-01 0:13.7\n",
      "   57    513 -3.455241278664666e-02 5.3e+00 4.50e-02  9e-03  4e-02 0:20.0\n",
      "   77    693 -3.564488642319383e-02 6.4e+00 4.33e-02  8e-03  3e-02 0:27.1\n",
      "  100    900 -3.496214141870383e-02 6.2e+00 3.17e-02  5e-03  2e-02 0:35.2\n",
      "  126   1134 -3.519266258830073e-02 1.0e+01 1.80e-02  2e-03  1e-02 0:44.3\n",
      "  155   1395 -3.578791306346163e-02 1.5e+01 2.83e-02  2e-03  1e-02 0:54.5\n",
      "  187   1683 -3.561590509680968e-02 1.3e+01 3.04e-02  2e-03  9e-03 1:05.8\n",
      "  200   1800 -3.613140171135187e-02 1.5e+01 4.12e-02  3e-03  2e-02 1:10.4\n",
      "  237   2133 -3.562943710165307e-02 2.0e+01 4.26e-02  3e-03  1e-02 1:23.6\n",
      "  277   2493 -3.515451215880645e-02 2.9e+01 9.97e-02  7e-03  2e-02 1:37.7\n",
      "  300   2700 -3.445351303347179e-02 2.8e+01 9.19e-02  5e-03  2e-02 1:45.9\n",
      "  346   3114 -3.574093633470084e-02 3.8e+01 7.22e-02  3e-03  1e-02 2:02.1\n",
      "  395   3555 -3.554170509019713e-02 5.8e+01 1.17e-01  4e-03  1e-02 2:19.4\n",
      "  400   3600 -3.592007747917476e-02 7.1e+01 1.40e-01  5e-03  2e-02 2:21.2\n",
      "  455   4095 -3.558495750783946e-02 2.2e+02 3.62e-02  7e-04  5e-03 2:40.5\n",
      "  500   4500 -3.554794730036002e-02 2.4e+02 1.85e-02  5e-04  1e-03 2:56.4\n",
      "  560   5040 -3.514022120194294e-02 4.5e+02 1.97e-02  5e-04  2e-03 3:17.6\n",
      "  600   5400 -3.630901122805710e-02 7.3e+02 8.79e-03  3e-04  9e-04 3:31.9\n",
      "  635   5715 -3.540150100193225e-02 1.4e+03 8.43e-03  3e-04  1e-03 3:44.2\n"
     ]
    },
    {
     "name": "stderr",
     "output_type": "stream",
     "text": [
      "reconstraining parameters GP_regression.Mat52.lengthscale\n",
      "reconstraining parameters GP_regression.Mat52.variance\n",
      "reconstraining parameters GP_regression.Gaussian_noise.variance\n"
     ]
    },
    {
     "name": "stdout",
     "output_type": "stream",
     "text": [
      "termination on tolstagnation=263 (Sun Aug 23 14:35:33 2020)\n",
      "final/bestever f-value = -3.430503e-02 -3.744460e-02\n",
      "incumbent solution: [0.0008138807742476183, 3.612490700476892, 2.6107303652817313, 2.2336316694056797, 5.445590562793302, 6.350003158332283]\n",
      "std deviation: [0.00045071013204593484, 0.0003070533066692193, 0.0006643570888524587, 0.0007695792982087025, 0.0009627001209568879, 0.000879272136094016]\n",
      "Optimization restart 1/10, f = 29.751360328090307\n",
      "Optimization restart 2/10, f = 106.42038999035046\n",
      "Optimization restart 3/10, f = 91.10352788120113\n",
      "Optimization restart 4/10, f = 94.72607593966654\n",
      "Optimization restart 5/10, f = 106.42038999035046\n",
      "Optimization restart 6/10, f = 97.45624672074202\n",
      "Optimization restart 7/10, f = 146.44455235051106\n",
      "Optimization restart 8/10, f = 105.58063047859648\n",
      "Optimization restart 9/10, f = 93.1636102593537\n"
     ]
    },
    {
     "name": "stderr",
     "output_type": "stream",
     "text": [
      "reconstraining parameters GP_regression.Mat52.lengthscale\n",
      "reconstraining parameters GP_regression.Mat52.variance\n",
      "reconstraining parameters GP_regression.Gaussian_noise.variance\n"
     ]
    },
    {
     "name": "stdout",
     "output_type": "stream",
     "text": [
      "Optimization restart 10/10, f = 95.47322419782773\n",
      "Optimization restart 1/10, f = -14.522265897619285\n",
      "Optimization restart 2/10, f = 99.50520906567391\n",
      "Optimization restart 3/10, f = 106.26264756261047\n",
      "Optimization restart 4/10, f = 2420516745.262069\n",
      "Optimization restart 5/10, f = 66.38328045613002\n",
      "Optimization restart 6/10, f = 68.41383897868886\n",
      "Optimization restart 7/10, f = 38.71479995463743\n",
      "Optimization restart 8/10, f = 86.86924170733002\n",
      "Optimization restart 9/10, f = 106.42039039876431\n",
      "Optimization restart 10/10, f = -14.52226589757408\n",
      "(4_w,9)-aCMA-ES (mu_w=2.8,w_1=49%) in dimension 6 (seed=285826, Sun Aug 23 14:35:38 2020)\n",
      "Iterat #Fevals   function value  axis ratio  sigma  min&max std  t[m:s]\n",
      "    1      9 3.158698080034817e-01 1.0e+00 2.52e-01  2e-01  3e-01 0:00.3\n",
      "    2     18 2.565716454096727e-01 1.2e+00 2.76e-01  3e-01  3e-01 0:00.7\n",
      "    3     27 1.688631207015806e-01 1.4e+00 3.83e-01  4e-01  4e-01 0:01.1\n",
      "   12    108 3.726517214108640e-02 1.6e+00 4.31e-01  3e-01  4e-01 0:04.4\n",
      "   23    207 -1.343985252097763e-01 2.8e+00 2.50e-01  1e-01  2e-01 0:08.4\n",
      "   37    333 -1.621254742370475e-01 3.3e+00 9.04e-02  3e-02  8e-02 0:13.5\n",
      "   54    486 -1.647686406712605e-01 4.7e+00 7.89e-02  1e-02  6e-02 0:19.7\n",
      "   74    666 -1.668751208008093e-01 9.4e+00 1.82e-02  2e-03  1e-02 0:27.0\n",
      "   97    873 -1.670622175617330e-01 1.8e+01 1.24e-02  1e-03  9e-03 0:35.3\n",
      "  100    900 -1.664802734959260e-01 1.8e+01 1.33e-02  1e-03  1e-02 0:36.4\n",
      "  128   1152 -1.662905617670487e-01 1.8e+01 2.13e-02  1e-03  2e-02 0:46.4\n",
      "  159   1431 -1.662886441279351e-01 1.8e+01 3.34e-02  1e-03  2e-02 0:57.6\n",
      "  193   1737 -1.667029508648434e-01 3.9e+01 7.29e-02  2e-03  4e-02 1:09.8\n",
      "  200   1800 -1.670323201575894e-01 3.1e+01 7.26e-02  3e-03  4e-02 1:12.3\n",
      "  239   2151 -1.668999386783333e-01 4.3e+01 2.54e-02  7e-04  9e-03 1:26.3\n",
      "  281   2529 -1.669440196507847e-01 5.6e+01 1.48e-02  2e-04  7e-03 1:41.6\n",
      "  300   2700 -1.659159695707720e-01 4.6e+01 1.25e-02  2e-04  4e-03 1:48.4\n",
      "  348   3132 -1.668287586105557e-01 6.3e+01 5.81e-02  4e-04  1e-02 2:05.7\n",
      "  399   3591 -1.667155290949885e-01 7.3e+01 1.99e-02  1e-04  2e-03 2:24.0\n",
      "  400   3600 -1.668370602906815e-01 7.1e+01 1.86e-02  1e-04  2e-03 2:24.3\n",
      "  456   4104 -1.660560335627959e-01 2.7e+02 6.56e-02  5e-04  6e-03 2:44.4\n",
      "  500   4500 -1.662383366641434e-01 5.7e+02 4.37e-02  3e-04  5e-03 3:01.4\n",
      "  505   4545 -1.662041392353427e-01 8.0e+02 3.80e-02  3e-04  4e-03 3:03.3\n"
     ]
    },
    {
     "name": "stderr",
     "output_type": "stream",
     "text": [
      "reconstraining parameters GP_regression.Mat52.lengthscale\n",
      "reconstraining parameters GP_regression.Mat52.variance\n",
      "reconstraining parameters GP_regression.Gaussian_noise.variance\n"
     ]
    },
    {
     "name": "stdout",
     "output_type": "stream",
     "text": [
      "termination on tolstagnation=263 (Sun Aug 23 14:38:42 2020)\n",
      "final/bestever f-value = -1.656810e-01 -1.684620e-01\n",
      "incumbent solution: [0.48502868912234004, 0.804175690482577, 2.2435405351778233, 3.238631881290667, 4.096063692725737, 3.6112393018593822]\n",
      "std deviation: [0.0002823893682210694, 0.0005378990223167054, 0.00301402242529521, 0.003967652850047215, 0.0008906686411148904, 0.004413768697024104]\n",
      "Optimization restart 1/10, f = 27.80721432439897\n",
      "Optimization restart 2/10, f = 134.461748363032\n",
      "Optimization restart 3/10, f = 507.33087619242747\n",
      "Optimization restart 4/10, f = 1865814300.6364732\n",
      "Optimization restart 5/10, f = 107.83587303940178\n",
      "Optimization restart 6/10, f = 120.33041280033228\n",
      "Optimization restart 7/10, f = 103.12621188956089\n",
      "Optimization restart 8/10, f = 101.1407409396364\n"
     ]
    },
    {
     "name": "stderr",
     "output_type": "stream",
     "text": [
      "reconstraining parameters GP_regression.Mat52.lengthscale\n",
      "reconstraining parameters GP_regression.Mat52.variance\n",
      "reconstraining parameters GP_regression.Gaussian_noise.variance\n"
     ]
    },
    {
     "name": "stdout",
     "output_type": "stream",
     "text": [
      "Optimization restart 9/10, f = 89.68637461316885\n",
      "Optimization restart 10/10, f = 107.3348778138185\n",
      "Optimization restart 1/10, f = -15.631144403932325\n",
      "Optimization restart 2/10, f = 503.12633225613655\n",
      "Optimization restart 3/10, f = 40.61948332810958\n",
      "Optimization restart 4/10, f = 105.99877972917446\n",
      "Optimization restart 5/10, f = 87.1830264153804\n",
      "Optimization restart 6/10, f = 102.35897898876598\n",
      "Optimization restart 7/10, f = 301.46901609871526\n",
      "Optimization restart 8/10, f = 100.62452357238755\n",
      "Optimization restart 9/10, f = 39.98911336412106\n",
      "Optimization restart 10/10, f = 86.44385513776962\n",
      "(4_w,9)-aCMA-ES (mu_w=2.8,w_1=49%) in dimension 6 (seed=276790, Sun Aug 23 14:38:46 2020)\n",
      "Iterat #Fevals   function value  axis ratio  sigma  min&max std  t[m:s]\n",
      "    1      9 4.063991443565206e-01 1.0e+00 2.55e-01  2e-01  3e-01 0:00.3\n",
      "    2     18 3.098100227735808e-01 1.3e+00 2.64e-01  3e-01  3e-01 0:00.7\n",
      "    3     27 2.999739542398117e-01 1.3e+00 2.71e-01  3e-01  3e-01 0:01.1\n",
      "   12    108 2.006077241481961e-01 3.2e+00 3.99e-01  3e-01  8e-01 0:04.4\n",
      "   23    207 -9.135170798344215e-03 4.7e+00 4.81e-01  2e-01  7e-01 0:08.5\n",
      "   37    333 -1.996650438080181e-02 7.4e+00 4.16e-01  1e-01  6e-01 0:13.8\n",
      "   54    486 -8.966048835473717e-02 1.2e+01 1.43e-01  2e-02  2e-01 0:20.1\n",
      "   73    657 -9.132762279475645e-02 1.7e+01 6.33e-02  5e-03  6e-02 0:27.4\n",
      "   95    855 -9.305525666234185e-02 2.5e+01 7.37e-02  4e-03  8e-02 0:35.6\n",
      "  100    900 -9.171306302490859e-02 2.4e+01 5.55e-02  3e-03  5e-02 0:37.5\n",
      "  127   1143 -9.096994962195019e-02 2.6e+01 5.20e-02  2e-03  5e-02 0:47.6\n",
      "  156   1404 -9.355631691945770e-02 2.6e+01 3.35e-02  2e-03  2e-02 0:58.8\n",
      "  188   1692 -9.231596749886700e-02 2.8e+01 2.62e-02  2e-03  1e-02 1:11.0\n",
      "  200   1800 -9.166450543733241e-02 3.3e+01 4.71e-02  3e-03  3e-02 1:15.5\n",
      "  238   2142 -9.129806572304094e-02 4.3e+01 4.54e-02  2e-03  3e-02 1:29.7\n",
      "  279   2511 -9.124483452202714e-02 5.4e+01 7.89e-03  2e-04  3e-03 1:45.1\n",
      "  300   2700 -9.285358184848197e-02 7.4e+01 6.28e-03  2e-04  2e-03 1:52.9\n",
      "  346   3114 -9.182984514072144e-02 8.4e+01 4.11e-02  1e-03  1e-02 2:10.1\n",
      "  394   3546 -9.319314613768269e-02 1.9e+02 1.35e-02  3e-04  4e-03 2:28.2\n",
      "  400   3600 -9.129454931716209e-02 1.9e+02 8.96e-03  2e-04  2e-03 2:30.6\n",
      "  454   4086 -9.084911105125534e-02 4.7e+02 3.98e-03  6e-05  9e-04 2:50.8\n",
      "  500   4500 -9.205428994635720e-02 4.0e+02 8.89e-03  1e-04  2e-03 3:08.1\n",
      "  559   5031 -9.076988837049817e-02 6.1e+02 2.83e-03  3e-05  3e-04 3:30.2\n",
      "  600   5400 -9.115360675914816e-02 6.7e+02 9.35e-04  6e-06  7e-05 3:45.5\n",
      "  665   5985 -9.133594266980229e-02 1.3e+03 5.53e-04  3e-06  3e-05 4:09.8\n",
      "  700   6300 -9.196672744542006e-02 1.1e+03 6.38e-04  2e-06  3e-05 4:22.9\n",
      "  770   6930 -9.176356026111858e-02 4.3e+03 1.36e-03  4e-06  8e-05 4:49.2\n",
      "  800   7200 -9.082046361862182e-02 5.2e+03 1.85e-03  5e-06  1e-04 5:00.2\n",
      "  810   7290 -9.228458493873271e-02 6.1e+03 3.16e-03  8e-06  2e-04 5:03.9\n"
     ]
    },
    {
     "name": "stderr",
     "output_type": "stream",
     "text": [
      "reconstraining parameters GP_regression.Mat52.lengthscale\n",
      "reconstraining parameters GP_regression.Mat52.variance\n",
      "reconstraining parameters GP_regression.Gaussian_noise.variance\n"
     ]
    },
    {
     "name": "stdout",
     "output_type": "stream",
     "text": [
      "termination on tolstagnation=263 (Sun Aug 23 14:43:51 2020)\n",
      "final/bestever f-value = -9.113547e-02 -9.355632e-02\n",
      "incumbent solution: [0.0007459619480070463, 3.999870946900548, 3.003128282338573, 3.037043260036874, 8.778040885986155, 5.857941700432433]\n",
      "std deviation: [3.4719243552869256e-05, 7.865771213904844e-06, 0.00013574126082190234, 2.293773622170389e-05, 0.00016677267168792713, 5.2388532815019184e-05]\n",
      "Optimization restart 1/10, f = 27.396992363296725\n",
      "Optimization restart 2/10, f = 109.258267058953\n",
      "Optimization restart 3/10, f = 97.686393435296\n",
      "Optimization restart 4/10, f = 499.56591064718566\n",
      "Optimization restart 5/10, f = 95.6228405036529\n",
      "Optimization restart 6/10, f = 94.15829947879514\n",
      "Optimization restart 7/10, f = 51.10862761946449\n",
      "Optimization restart 8/10, f = 92.5165647184865\n",
      "Optimization restart 9/10, f = 108.41212404409053\n"
     ]
    },
    {
     "name": "stderr",
     "output_type": "stream",
     "text": [
      "reconstraining parameters GP_regression.Mat52.lengthscale\n",
      "reconstraining parameters GP_regression.Mat52.variance\n",
      "reconstraining parameters GP_regression.Gaussian_noise.variance\n"
     ]
    },
    {
     "name": "stdout",
     "output_type": "stream",
     "text": [
      "Optimization restart 10/10, f = 90.75651293348452\n",
      "Optimization restart 1/10, f = -14.837784687152663\n",
      "Optimization restart 2/10, f = 85.1416062746882\n",
      "Optimization restart 3/10, f = 109.25826705676056\n",
      "Optimization restart 4/10, f = 514.0062793825098\n",
      "Optimization restart 5/10, f = -14.83778468716553\n",
      "Optimization restart 6/10, f = 59.40486408203226\n",
      "Optimization restart 7/10, f = 107.22868102425652\n",
      "Optimization restart 8/10, f = 39.8508693760212\n",
      "Optimization restart 9/10, f = 22.59657704341621\n",
      "Optimization restart 10/10, f = 2460491403.3876753\n",
      "(4_w,9)-aCMA-ES (mu_w=2.8,w_1=49%) in dimension 6 (seed=315555, Sun Aug 23 14:43:55 2020)\n",
      "Iterat #Fevals   function value  axis ratio  sigma  min&max std  t[m:s]\n",
      "    1      9 4.729762392822741e-01 1.0e+00 2.70e-01  3e-01  3e-01 0:00.3\n",
      "    2     18 4.151121613519483e-01 1.3e+00 2.93e-01  3e-01  3e-01 0:00.7\n",
      "    3     27 4.028090004004382e-01 1.6e+00 3.03e-01  3e-01  4e-01 0:01.1\n",
      "   11     99 1.729933267281202e-01 2.7e+00 9.52e-01  7e-01  1e+00 0:04.1\n",
      "   22    198 5.113012310243113e-02 3.0e+00 1.06e+00  7e-01  1e+00 0:08.3\n",
      "   36    324 -7.498580982124385e-02 3.3e+00 4.31e-01  2e-01  5e-01 0:13.4\n",
      "   53    477 -9.529252097199738e-02 3.1e+00 1.64e-01  5e-02  1e-01 0:19.8\n",
      "   72    648 -1.152323852126869e-01 1.0e+01 8.03e-02  1e-02  7e-02 0:26.9\n",
      "   94    846 -1.179357779915292e-01 2.3e+01 2.65e-02  2e-03  2e-02 0:35.1\n",
      "  100    900 -1.181897512136291e-01 2.5e+01 2.10e-02  2e-03  1e-02 0:37.3\n",
      "  127   1143 -1.180788668370795e-01 4.2e+01 1.28e-02  7e-04  9e-03 0:47.4\n",
      "  157   1413 -1.178959899853133e-01 3.5e+01 2.18e-02  1e-03  1e-02 0:58.7\n",
      "  190   1710 -1.181327721865884e-01 5.3e+01 2.30e-02  7e-04  1e-02 1:11.0\n",
      "  200   1800 -1.179731506458226e-01 5.0e+01 2.13e-02  6e-04  1e-02 1:14.9\n",
      "  238   2142 -1.181137598557988e-01 7.5e+01 5.14e-03  1e-04  2e-03 1:29.1\n",
      "  278   2502 -1.180110423284038e-01 1.2e+02 1.74e-02  3e-04  9e-03 1:44.3\n",
      "  300   2700 -1.178803463728743e-01 1.6e+02 2.86e-02  3e-04  1e-02 1:54.2\n",
      "  341   3069 -1.180814932566853e-01 1.7e+02 1.94e-02  2e-04  6e-03 2:11.4\n",
      "  389   3501 -1.180313901877438e-01 3.4e+02 1.68e-02  1e-04  4e-03 2:29.5\n",
      "  400   3600 -1.179308218820182e-01 4.2e+02 1.49e-02  9e-05  3e-03 2:33.6\n",
      "  454   4086 -1.180138756463510e-01 5.7e+02 1.07e-02  4e-05  2e-03 2:53.9\n",
      "  500   4500 -1.179872891086025e-01 1.1e+03 2.20e-02  1e-04  4e-03 3:11.3\n",
      "  505   4545 -1.180031746514389e-01 9.4e+02 1.43e-02  6e-05  2e-03 3:13.2\n"
     ]
    },
    {
     "name": "stderr",
     "output_type": "stream",
     "text": [
      "reconstraining parameters GP_regression.Mat52.lengthscale\n",
      "reconstraining parameters GP_regression.Mat52.variance\n",
      "reconstraining parameters GP_regression.Gaussian_noise.variance\n"
     ]
    },
    {
     "name": "stdout",
     "output_type": "stream",
     "text": [
      "termination on tolstagnation=263 (Sun Aug 23 14:47:09 2020)\n",
      "final/bestever f-value = -1.175477e-01 -1.183261e-01\n",
      "incumbent solution: [1.067747994113911, 3.1462947870530193, 2.7392337919514698, 3.863765402166731, 4.310078890767991, 4.831627327931878]\n",
      "std deviation: [6.327794222891932e-05, 0.00013226780663148113, 0.0016654198478272383, 0.0016541557988931262, 0.0023655888574943985, 0.0014067372662655733]\n",
      "Optimization restart 1/10, f = 27.486554090683732\n",
      "Optimization restart 2/10, f = 501.0037116666776\n",
      "Optimization restart 3/10, f = 105.06917171058399\n",
      "Optimization restart 4/10, f = 123.54345707914503\n",
      "Optimization restart 5/10, f = 107.42775970774872\n",
      "Optimization restart 6/10, f = 58.643421890188286\n",
      "Optimization restart 7/10, f = 108.35347706215344\n",
      "Optimization restart 8/10, f = 468.68246169536746\n"
     ]
    },
    {
     "name": "stderr",
     "output_type": "stream",
     "text": [
      "reconstraining parameters GP_regression.Mat52.lengthscale\n",
      "reconstraining parameters GP_regression.Mat52.variance\n",
      "reconstraining parameters GP_regression.Gaussian_noise.variance\n"
     ]
    },
    {
     "name": "stdout",
     "output_type": "stream",
     "text": [
      "Optimization restart 9/10, f = 93.40301843070034\n",
      "Optimization restart 10/10, f = 109.40585789531048\n",
      "Optimization restart 1/10, f = -13.589371581057208\n",
      "Optimization restart 2/10, f = -13.589371580754154\n",
      "Optimization restart 3/10, f = 17.229480263833075\n",
      "Optimization restart 4/10, f = 520.6816887238072\n",
      "Optimization restart 5/10, f = 363.7661116108192\n",
      "Optimization restart 6/10, f = 441.022615877608\n",
      "Optimization restart 7/10, f = 110.6772055899646\n",
      "Optimization restart 8/10, f = 518.784026963156\n",
      "Optimization restart 9/10, f = 87.26734083325913\n",
      "Optimization restart 10/10, f = 106.31874251362629\n",
      "(4_w,9)-aCMA-ES (mu_w=2.8,w_1=49%) in dimension 6 (seed=293772, Sun Aug 23 14:47:12 2020)\n",
      "Iterat #Fevals   function value  axis ratio  sigma  min&max std  t[m:s]\n",
      "    1      9 3.347194790210979e-01 1.0e+00 2.36e-01  2e-01  2e-01 0:00.4\n",
      "    2     18 2.648229588470140e-01 1.2e+00 2.58e-01  2e-01  3e-01 0:00.8\n",
      "    3     27 2.332509124234114e-01 1.3e+00 2.90e-01  3e-01  3e-01 0:01.1\n",
      "   11     99 -4.849928250262928e-02 2.5e+00 5.74e-01  5e-01  9e-01 0:04.2\n",
      "   22    198 -1.071289619374219e-02 3.4e+00 3.50e-01  2e-01  5e-01 0:08.5\n",
      "   36    324 -8.711251390749521e-02 4.7e+00 1.04e-01  3e-02  1e-01 0:13.8\n",
      "   52    468 -1.042819092283869e-01 1.3e+01 9.98e-02  1e-02  1e-01 0:20.0\n",
      "   71    639 -1.110598056613887e-01 2.2e+01 3.13e-02  2e-03  3e-02 0:27.4\n",
      "   92    828 -1.113594785401998e-01 2.8e+01 1.73e-02  7e-04  1e-02 0:35.5\n",
      "  100    900 -1.112365949921388e-01 2.7e+01 1.10e-02  4e-04  8e-03 0:38.6\n",
      "  126   1134 -1.113552217308213e-01 3.0e+01 6.07e-03  2e-04  4e-03 0:48.6\n",
      "  155   1395 -1.116255246577530e-01 4.1e+01 1.34e-02  4e-04  7e-03 0:59.7\n",
      "  187   1683 -1.118703735506338e-01 5.5e+01 9.71e-03  2e-04  5e-03 1:12.1\n",
      "  200   1800 -1.117258341343891e-01 6.2e+01 4.19e-03  8e-05  2e-03 1:17.1\n",
      "  237   2133 -1.118276893549178e-01 1.2e+02 1.36e-03  2e-05  6e-04 1:31.3\n",
      "  276   2484 -1.118137165498333e-01 3.0e+02 1.47e-03  2e-05  6e-04 1:46.4\n",
      "  300   2700 -1.116265687383801e-01 3.9e+02 2.10e-03  2e-05  6e-04 1:55.7\n",
      "  344   3096 -1.115013381329976e-01 3.4e+02 2.30e-03  2e-05  4e-04 2:12.8\n",
      "  392   3528 -1.117157629401467e-01 6.3e+02 2.91e-03  2e-05  4e-04 2:31.2\n",
      "  400   3600 -1.114568981934504e-01 5.5e+02 3.59e-03  2e-05  4e-04 2:34.3\n",
      "  453   4077 -1.116898862093736e-01 9.3e+02 2.80e-03  1e-05  2e-04 2:54.6\n",
      "  500   4500 -1.117353660128600e-01 2.6e+03 3.47e-03  2e-05  4e-04 3:12.8\n",
      "  558   5022 -1.114592563131985e-01 2.4e+03 2.00e-03  4e-06  1e-04 3:35.1\n",
      "  600   5400 -1.116650174793559e-01 5.7e+03 2.54e-03  6e-06  1e-04 3:51.4\n",
      "  663   5967 -1.117921730297191e-01 1.6e+04 1.82e-03  4e-06  8e-05 4:15.6\n",
      "  700   6300 -1.115416643940255e-01 2.4e+04 1.16e-03  2e-06  3e-05 4:29.7\n",
      "  725   6525 -1.116177558595091e-01 2.9e+04 1.34e-03  1e-06  4e-05 4:39.3\n"
     ]
    },
    {
     "name": "stderr",
     "output_type": "stream",
     "text": [
      "reconstraining parameters GP_regression.Mat52.lengthscale\n",
      "reconstraining parameters GP_regression.Mat52.variance\n",
      "reconstraining parameters GP_regression.Gaussian_noise.variance\n"
     ]
    },
    {
     "name": "stdout",
     "output_type": "stream",
     "text": [
      "termination on tolstagnation=263 (Sun Aug 23 14:51:53 2020)\n",
      "final/bestever f-value = -1.109684e-01 -1.121040e-01\n",
      "incumbent solution: [1.6743216552809725, 0.373053013621026, 2.620598413180786, 3.6312806899611716, 2.864838207833748, 6.328745069005489]\n",
      "std deviation: [1.4241003064751765e-06, 1.140897981876926e-05, 2.293268978018574e-05, 3.7584420583784906e-05, 5.691655573560724e-06, 2.8936018593291927e-05]\n",
      "Optimization restart 1/10, f = 25.393713895820518\n",
      "Optimization restart 2/10, f = 102.85685812237158\n",
      "Optimization restart 3/10, f = 137.94153638906383\n",
      "Optimization restart 4/10, f = 106.4356494993392\n",
      "Optimization restart 5/10, f = 492.97980548893116\n",
      "Optimization restart 6/10, f = 122.20046721310928\n",
      "Optimization restart 7/10, f = 165.4160118335833\n",
      "Optimization restart 8/10, f = 182.7814330273875\n"
     ]
    },
    {
     "name": "stderr",
     "output_type": "stream",
     "text": [
      "reconstraining parameters GP_regression.Mat52.lengthscale\n"
     ]
    },
    {
     "name": "stdout",
     "output_type": "stream",
     "text": [
      "Optimization restart 9/10, f = 102.19369134780013\n",
      "Optimization restart 10/10, f = 103.11130381888776\n"
     ]
    },
    {
     "name": "stderr",
     "output_type": "stream",
     "text": [
      "reconstraining parameters GP_regression.Mat52.variance\n",
      "reconstraining parameters GP_regression.Gaussian_noise.variance\n"
     ]
    },
    {
     "name": "stdout",
     "output_type": "stream",
     "text": [
      "Optimization restart 1/10, f = -16.74219021772698\n",
      "Optimization restart 2/10, f = -16.742190217868654\n",
      "Optimization restart 3/10, f = -16.742190218294134\n",
      "Optimization restart 4/10, f = 103.80367874242935\n",
      "Optimization restart 5/10, f = 104.49243209059031\n",
      "Optimization restart 6/10, f = 10.668670950378186\n",
      "Optimization restart 7/10, f = 120.39633570548995\n",
      "Optimization restart 8/10, f = 103.8077677058038\n",
      "Optimization restart 9/10, f = 14.565689984867106\n",
      "Optimization restart 10/10, f = 111.35812781677024\n",
      "(4_w,9)-aCMA-ES (mu_w=2.8,w_1=49%) in dimension 6 (seed=235245, Sun Aug 23 14:51:59 2020)\n",
      "Iterat #Fevals   function value  axis ratio  sigma  min&max std  t[m:s]\n",
      "    1      9 1.478328271679516e-01 1.0e+00 2.55e-01  2e-01  3e-01 0:00.4\n",
      "    2     18 7.647545877275005e-02 1.3e+00 2.84e-01  3e-01  3e-01 0:00.7\n",
      "    3     27 7.138706850074784e-02 1.5e+00 2.95e-01  3e-01  4e-01 0:01.1\n",
      "   11     99 -4.007802369465563e-02 2.0e+00 4.30e-01  3e-01  6e-01 0:04.4\n",
      "   22    198 -5.209513541546970e-02 2.9e+00 3.37e-01  2e-01  4e-01 0:08.7\n",
      "   35    315 -8.958767954585198e-02 5.3e+00 1.31e-01  4e-02  1e-01 0:13.8\n",
      "   51    459 -1.018325716761069e-01 7.8e+00 5.46e-02  8e-03  6e-02 0:20.0\n",
      "   69    621 -1.022426844595210e-01 9.9e+00 2.99e-02  3e-03  3e-02 0:27.0\n",
      "   90    810 -1.027327930644784e-01 1.2e+01 2.07e-02  1e-03  1e-02 0:35.1\n",
      "  100    900 -1.022949203850071e-01 9.1e+00 3.41e-02  2e-03  2e-02 0:39.1\n",
      "  126   1134 -1.020518702706558e-01 1.6e+01 3.93e-02  2e-03  2e-02 0:49.2\n",
      "  155   1395 -1.020632732077319e-01 2.6e+01 3.75e-02  3e-03  3e-02 1:00.4\n",
      "  186   1674 -1.022546301231835e-01 3.5e+01 2.14e-02  2e-03  1e-02 1:12.6\n",
      "  200   1800 -1.022758952973673e-01 3.1e+01 1.76e-02  1e-03  8e-03 1:18.0\n",
      "  235   2115 -1.024063466966770e-01 6.3e+01 1.73e-02  1e-03  8e-03 1:32.1\n",
      "  274   2466 -1.024100535974805e-01 1.0e+02 7.11e-03  4e-04  2e-03 1:47.4\n",
      "  300   2700 -1.020265311859547e-01 9.1e+01 3.64e-03  2e-04  1e-03 1:57.5\n",
      "  344   3096 -1.023172931082948e-01 2.2e+02 1.04e-03  3e-05  3e-04 2:14.7\n",
      "  391   3519 -1.023770451926235e-01 5.5e+02 4.28e-03  7e-05  1e-03 2:32.9\n",
      "  400   3600 -1.026688389733300e-01 7.5e+02 5.51e-03  9e-05  1e-03 2:36.4\n",
      "  452   4068 -1.026573566105325e-01 9.2e+02 4.70e-03  5e-05  6e-04 2:56.6\n",
      "  500   4500 -1.025025527060605e-01 1.8e+03 4.41e-03  4e-05  7e-04 3:15.4\n",
      "  557   5013 -1.024585529625845e-01 5.7e+03 3.66e-03  3e-05  7e-04 3:37.6\n",
      "  595   5355 -1.023253991101434e-01 6.5e+03 4.47e-03  3e-05  6e-04 3:52.4\n"
     ]
    },
    {
     "name": "stderr",
     "output_type": "stream",
     "text": [
      "reconstraining parameters GP_regression.Mat52.lengthscale\n",
      "reconstraining parameters GP_regression.Mat52.variance\n",
      "reconstraining parameters GP_regression.Gaussian_noise.variance\n"
     ]
    },
    {
     "name": "stdout",
     "output_type": "stream",
     "text": [
      "termination on tolstagnation=263 (Sun Aug 23 14:55:52 2020)\n",
      "final/bestever f-value = -1.012800e-01 -1.032492e-01\n",
      "incumbent solution: [1.112268809530758, 2.3335474603934188, 2.3023318025042383, 3.1694759445064107, 5.179945344079993, 5.001807165256441]\n",
      "std deviation: [3.3234737867236496e-05, 7.695417261939757e-05, 0.0002591745508655095, 0.00034952985173193553, 0.0002643983077709162, 0.0005519074113707949]\n",
      "Optimization restart 1/10, f = 23.85515211470681\n",
      "Optimization restart 2/10, f = 99.59803657101396\n",
      "Optimization restart 3/10, f = 534.0324491025823\n",
      "Optimization restart 4/10, f = 98.97427458908075\n",
      "Optimization restart 5/10, f = 86.1409512107193\n",
      "Optimization restart 6/10, f = 88.89451989859549\n",
      "Optimization restart 7/10, f = 23.85515211417031\n",
      "Optimization restart 8/10, f = 156.24917112938599\n"
     ]
    },
    {
     "name": "stderr",
     "output_type": "stream",
     "text": [
      "reconstraining parameters GP_regression.Mat52.lengthscale\n",
      "reconstraining parameters GP_regression.Mat52.variance\n",
      "reconstraining parameters GP_regression.Gaussian_noise.variance\n"
     ]
    },
    {
     "name": "stdout",
     "output_type": "stream",
     "text": [
      "Optimization restart 9/10, f = 514.4444853427046\n",
      "Optimization restart 10/10, f = 2052798272.144596\n",
      "Optimization restart 1/10, f = -18.73996187602239\n",
      "Optimization restart 2/10, f = 113.27323176385862\n",
      "Optimization restart 3/10, f = 30.55939285316088\n",
      "Optimization restart 4/10, f = 107.07393498749887\n",
      "Optimization restart 5/10, f = 88.82410968993642\n",
      "Optimization restart 6/10, f = 39.266143629177044\n",
      "Optimization restart 7/10, f = 92.51030766491168\n",
      "Optimization restart 8/10, f = 121.77624221386607\n",
      "Optimization restart 9/10, f = 67.1805120715199\n",
      "Optimization restart 10/10, f = 113.5150826563738\n",
      "(4_w,9)-aCMA-ES (mu_w=2.8,w_1=49%) in dimension 6 (seed=238596, Sun Aug 23 14:55:56 2020)\n",
      "Iterat #Fevals   function value  axis ratio  sigma  min&max std  t[m:s]\n",
      "    1      9 3.783188373673750e-01 1.0e+00 2.74e-01  3e-01  3e-01 0:00.4\n",
      "    2     18 3.227573438886075e-01 1.4e+00 3.58e-01  3e-01  4e-01 0:00.8\n",
      "    3     27 2.982435126982161e-01 1.6e+00 4.31e-01  4e-01  5e-01 0:01.2\n",
      "   11     99 -2.501626396735741e-03 1.6e+00 7.38e-01  6e-01  8e-01 0:04.3\n",
      "   22    198 -9.236990411962404e-02 2.8e+00 4.51e-01  2e-01  6e-01 0:08.7\n",
      "   35    315 -1.281435372777512e-01 4.9e+00 3.69e-01  1e-01  5e-01 0:14.0\n",
      "   50    450 -1.285077009583210e-01 1.1e+01 1.10e-01  2e-02  1e-01 0:20.0\n",
      "   68    612 -1.320105901600944e-01 1.4e+01 7.08e-02  8e-03  8e-02 0:27.1\n",
      "   89    801 -1.328123475924670e-01 1.7e+01 2.53e-02  2e-03  2e-02 0:35.4\n",
      "  100    900 -1.317844747658930e-01 2.2e+01 1.60e-02  9e-04  1e-02 0:39.8\n",
      "  126   1134 -1.321855809114515e-01 2.6e+01 1.02e-02  4e-04  9e-03 0:50.1\n",
      "  154   1386 -1.337159090061846e-01 3.6e+01 1.24e-02  4e-04  9e-03 1:01.2\n",
      "  185   1665 -1.328021856228957e-01 3.3e+01 1.19e-02  3e-04  6e-03 1:13.5\n",
      "  200   1800 -1.320724274387581e-01 3.4e+01 7.24e-03  2e-04  3e-03 1:19.5\n",
      "  236   2124 -1.327052018124207e-01 7.3e+01 2.27e-02  7e-04  1e-02 1:33.8\n",
      "  274   2466 -1.322676122304558e-01 1.5e+02 3.19e-02  2e-03  2e-02 1:48.9\n",
      "  300   2700 -1.326989820862465e-01 1.9e+02 3.73e-02  1e-03  2e-02 1:59.2\n",
      "  343   3087 -1.316977691812731e-01 4.8e+02 5.98e-02  3e-03  4e-02 2:16.3\n",
      "  389   3501 -1.324559791590471e-01 5.2e+02 1.77e-02  5e-04  7e-03 2:34.6\n",
      "  400   3600 -1.320529165960935e-01 6.5e+02 8.12e-03  2e-04  3e-03 2:39.0\n",
      "  451   4059 -1.329599086371128e-01 1.8e+03 1.04e-02  2e-04  5e-03 2:59.3\n",
      "  500   4500 -1.313457835993370e-01 1.9e+03 1.77e-01  4e-03  7e-02 3:18.8\n",
      "  545   4905 -1.319951715940417e-01 1.8e+03 1.36e-01  2e-03  3e-02 3:36.9\n"
     ]
    },
    {
     "name": "stderr",
     "output_type": "stream",
     "text": [
      "reconstraining parameters GP_regression.Mat52.lengthscale\n",
      "reconstraining parameters GP_regression.Mat52.variance\n",
      "reconstraining parameters GP_regression.Gaussian_noise.variance\n"
     ]
    },
    {
     "name": "stdout",
     "output_type": "stream",
     "text": [
      "termination on tolstagnation=263 (Sun Aug 23 14:59:33 2020)\n",
      "final/bestever f-value = -1.304284e-01 -1.346308e-01\n",
      "incumbent solution: [0.7798616415630621, 0.7140109552900954, 2.4657023435542564, 2.8172108413007435, 3.762975182948587, 3.3479451236972797]\n",
      "std deviation: [0.0019329863693772974, 0.0022369111529537433, 0.005283548763599296, 0.004240379663370713, 0.016783747973691945, 0.02615094894646794]\n",
      "Optimization restart 1/10, f = 24.51261613730975\n",
      "Optimization restart 2/10, f = 114.91999117615023\n",
      "Optimization restart 3/10, f = 99.50814258547541\n",
      "Optimization restart 4/10, f = 104.90578216088511\n",
      "Optimization restart 5/10, f = 408.3202107550647\n",
      "Optimization restart 6/10, f = 201.5303156251874\n",
      "Optimization restart 7/10, f = 540.7079075208767\n",
      "Optimization restart 8/10, f = 114.93402118956891\n",
      "Optimization restart 9/10, f = 114.93402118948441\n"
     ]
    },
    {
     "name": "stderr",
     "output_type": "stream",
     "text": [
      "reconstraining parameters GP_regression.Mat52.lengthscale\n",
      "reconstraining parameters GP_regression.Mat52.variance\n",
      "reconstraining parameters GP_regression.Gaussian_noise.variance\n"
     ]
    },
    {
     "name": "stdout",
     "output_type": "stream",
     "text": [
      "Optimization restart 10/10, f = 46.29135718116456\n",
      "Optimization restart 1/10, f = -19.668792113000052\n",
      "Optimization restart 2/10, f = 90.06229570241223\n",
      "Optimization restart 3/10, f = 114.93402118957849\n",
      "Optimization restart 4/10, f = 517.2060540091119\n",
      "Optimization restart 5/10, f = -19.66879211298525\n",
      "Optimization restart 6/10, f = 73.14344079254869\n",
      "Optimization restart 7/10, f = -19.668792112953206\n",
      "Optimization restart 8/10, f = 114.93402118957849\n",
      "Optimization restart 9/10, f = 111.94074745796647\n",
      "Optimization restart 10/10, f = 104.92945971298136\n",
      "(4_w,9)-aCMA-ES (mu_w=2.8,w_1=49%) in dimension 6 (seed=305000, Sun Aug 23 14:59:37 2020)\n",
      "Iterat #Fevals   function value  axis ratio  sigma  min&max std  t[m:s]\n",
      "    1      9 4.678292917666291e-01 1.0e+00 2.37e-01  2e-01  2e-01 0:00.4\n",
      "    2     18 4.094318574548090e-01 1.2e+00 2.49e-01  2e-01  3e-01 0:00.8\n",
      "    3     27 2.482593534788438e-01 1.3e+00 3.47e-01  3e-01  4e-01 0:01.2\n",
      "   11     99 7.788371410956839e-02 2.1e+00 5.89e-01  4e-01  7e-01 0:04.4\n",
      "   21    189 2.312558516860642e-02 3.3e+00 4.32e-01  2e-01  6e-01 0:08.5\n",
      "   34    306 -3.532990007496790e-02 5.5e+00 1.77e-01  5e-02  2e-01 0:13.8\n",
      "   49    441 -5.884666406666401e-02 1.1e+01 1.06e-01  1e-02  1e-01 0:19.9\n",
      "   67    603 -7.130180977299677e-02 1.9e+01 1.64e-01  1e-02  1e-01 0:27.2\n",
      "   87    783 -7.525065031225932e-02 2.9e+01 4.32e-02  2e-03  3e-02 0:35.3\n",
      "  100    900 -7.491805133569286e-02 4.0e+01 4.03e-02  2e-03  3e-02 0:40.6\n",
      "  125   1125 -7.525798659245361e-02 3.7e+01 5.49e-02  2e-03  3e-02 0:50.7\n",
      "  153   1377 -7.485048703127391e-02 5.8e+01 3.83e-02  1e-03  2e-02 1:02.0\n",
      "  183   1647 -7.498017764679141e-02 6.3e+01 2.55e-02  4e-04  1e-02 1:14.1\n",
      "  200   1800 -7.544238117473311e-02 1.1e+02 2.08e-02  4e-04  9e-03 1:21.0\n",
      "  235   2115 -7.525003446901445e-02 3.3e+02 2.29e-02  5e-04  1e-02 1:35.4\n",
      "  271   2439 -7.551623970084766e-02 6.4e+02 3.46e-02  8e-04  2e-02 1:50.5\n",
      "  300   2700 -7.548105889639266e-02 7.3e+02 1.40e-02  3e-04  6e-03 2:02.3\n",
      "  342   3078 -7.531410876411651e-02 7.0e+02 6.68e-02  1e-03  2e-02 2:19.3\n",
      "  387   3483 -7.560858395017947e-02 1.4e+03 7.10e-02  8e-04  2e-02 2:37.6\n",
      "  400   3600 -7.562470180294507e-02 1.1e+03 1.09e-01  1e-03  2e-02 2:42.9\n",
      "  449   4041 -7.533186900017436e-02 7.1e+02 9.12e-02  7e-04  1e-02 3:02.9\n",
      "  500   4500 -7.497843779888377e-02 6.6e+02 8.44e-02  5e-04  8e-03 3:23.6\n",
      "  547   4923 -7.543850387574563e-02 1.3e+03 2.84e-02  1e-04  2e-03 3:45.6\n",
      "  581   5229 -7.522782681445787e-02 2.2e+03 1.14e-02  5e-05  9e-04 4:08.7\n",
      "  600   5400 -7.531140959462086e-02 2.0e+03 1.51e-02  5e-05  9e-04 4:16.7\n",
      "  662   5958 -7.523084912770596e-02 5.1e+03 3.63e-02  1e-04  2e-03 4:41.9\n",
      "  680   6120 -7.527964294293372e-02 1.0e+04 5.48e-02  2e-04  3e-03 4:49.2\n"
     ]
    },
    {
     "name": "stderr",
     "output_type": "stream",
     "text": [
      "reconstraining parameters GP_regression.Mat52.lengthscale\n",
      "reconstraining parameters GP_regression.Mat52.variance\n",
      "reconstraining parameters GP_regression.Gaussian_noise.variance\n"
     ]
    },
    {
     "name": "stdout",
     "output_type": "stream",
     "text": [
      "termination on tolstagnation=263 (Sun Aug 23 15:04:27 2020)\n",
      "final/bestever f-value = -7.538845e-02 -7.624118e-02\n",
      "incumbent solution: [1.5065659569799523, 0.5170498507046403, 2.6321308369386647, 3.5239871494035135, 3.152299077111197, 6.5032030332972655]\n",
      "std deviation: [0.0002001531135344563, 0.00038202499499629604, 0.0034509944796391823, 0.003077961699637697, 0.003097063366988489, 0.001462247583201466]\n",
      "Optimization restart 1/10, f = 24.334599241327837\n",
      "Optimization restart 2/10, f = 45.71328370732832\n",
      "Optimization restart 3/10, f = 116.28078053330611\n",
      "Optimization restart 4/10, f = 24.3345992408357\n",
      "Optimization restart 5/10, f = 116.16884296282225\n",
      "Optimization restart 6/10, f = 114.03469956396147\n",
      "Optimization restart 7/10, f = 547.3833137865664\n",
      "Optimization restart 8/10, f = 56.30140642239083\n",
      "Optimization restart 9/10, f = 111.01976986007597\n"
     ]
    },
    {
     "name": "stderr",
     "output_type": "stream",
     "text": [
      "reconstraining parameters GP_regression.Mat52.lengthscale\n",
      "reconstraining parameters GP_regression.Mat52.variance\n",
      "reconstraining parameters GP_regression.Gaussian_noise.variance\n"
     ]
    },
    {
     "name": "stdout",
     "output_type": "stream",
     "text": [
      "Optimization restart 10/10, f = 24.334599240977248\n",
      "Optimization restart 1/10, f = -21.93499771707713\n",
      "Optimization restart 2/10, f = 440.0098452017892\n",
      "Optimization restart 3/10, f = 36.001452622545216\n",
      "Optimization restart 4/10, f = 39.88846427751606\n",
      "Optimization restart 5/10, f = 116.35295917341787\n",
      "Optimization restart 6/10, f = 7.5762245108669575\n",
      "Optimization restart 7/10, f = 547.3833137865664\n",
      "Optimization restart 8/10, f = 89.94322089581956\n",
      "Optimization restart 9/10, f = 7.576224510867377\n",
      "Optimization restart 10/10, f = 111.97027971523114\n",
      "(4_w,9)-aCMA-ES (mu_w=2.8,w_1=49%) in dimension 6 (seed=354284, Sun Aug 23 15:04:32 2020)\n",
      "Iterat #Fevals   function value  axis ratio  sigma  min&max std  t[m:s]\n",
      "    1      9 4.013374266136274e-01 1.0e+00 2.28e-01  2e-01  2e-01 0:00.4\n",
      "    2     18 3.842144805975051e-01 1.2e+00 2.50e-01  2e-01  3e-01 0:00.8\n",
      "    3     27 3.588897877546137e-01 1.4e+00 2.63e-01  2e-01  3e-01 0:01.2\n",
      "   11     99 1.038678564352932e-01 3.1e+00 6.47e-01  4e-01  1e+00 0:04.6\n",
      "   21    189 1.334952357368026e-02 4.4e+00 5.96e-01  3e-01  1e+00 0:08.8\n",
      "   33    297 -4.704270672438700e-02 5.2e+00 3.22e-01  9e-02  5e-01 0:13.9\n",
      "   48    432 -9.528241688758808e-02 9.2e+00 1.09e-01  2e-02  1e-01 0:20.1\n",
      "   65    585 -9.849940778698710e-02 1.9e+01 2.32e-02  2e-03  2e-02 0:27.3\n",
      "   85    765 -9.853166920767160e-02 2.7e+01 7.08e-03  5e-04  7e-03 0:35.7\n",
      "  100    900 -9.864109834296322e-02 3.9e+01 5.95e-03  3e-04  6e-03 0:42.4\n",
      "  124   1116 -9.868727565364657e-02 4.4e+01 4.36e-03  2e-04  3e-03 0:52.4\n",
      "  151   1359 -9.867806845084953e-02 8.7e+01 8.50e-03  4e-04  8e-03 1:03.7\n",
      "  180   1620 -9.873175254432300e-02 1.1e+02 6.51e-03  3e-04  4e-03 1:15.8\n",
      "  200   1800 -9.868216960445436e-02 1.1e+02 1.09e-02  4e-04  6e-03 1:24.2\n",
      "  234   2106 -9.861779464507563e-02 8.9e+01 1.69e-02  6e-04  9e-03 1:38.4\n",
      "  270   2430 -9.862304662352057e-02 1.4e+02 4.24e-03  1e-04  2e-03 1:53.8\n",
      "  300   2700 -9.867714513856779e-02 1.2e+02 1.27e-02  2e-04  4e-03 2:06.3\n",
      "  341   3069 -9.866506872314164e-02 2.2e+02 7.15e-03  1e-04  2e-03 2:23.6\n",
      "  383   3447 -9.855929617608349e-02 1.3e+02 9.92e-03  2e-04  2e-03 2:41.9\n",
      "  400   3600 -9.860770921793133e-02 1.7e+02 1.19e-02  2e-04  1e-03 2:49.1\n",
      "  447   4023 -9.855057191545273e-02 3.6e+02 2.00e-02  2e-04  2e-03 3:09.2\n",
      "  497   4473 -9.864909538637574e-02 6.9e+02 4.99e-02  6e-04  6e-03 3:30.2\n",
      "  500   4500 -9.847683809663479e-02 6.0e+02 5.27e-02  6e-04  6e-03 3:31.5\n",
      "  545   4905 -9.858211603579649e-02 4.9e+02 1.15e-01  7e-04  9e-03 3:50.4\n"
     ]
    },
    {
     "name": "stderr",
     "output_type": "stream",
     "text": [
      "reconstraining parameters GP_regression.Mat52.lengthscale\n",
      "reconstraining parameters GP_regression.Mat52.variance\n",
      "reconstraining parameters GP_regression.Gaussian_noise.variance\n"
     ]
    },
    {
     "name": "stdout",
     "output_type": "stream",
     "text": [
      "termination on tolstagnation=263 (Sun Aug 23 15:08:23 2020)\n",
      "final/bestever f-value = -9.875097e-02 -9.891522e-02\n",
      "incumbent solution: [1.101447625179073, 2.863471676251133, 2.432936593511612, 3.412407859112436, 4.6772614972365485, 4.840277040677107]\n",
      "std deviation: [0.0006873924359903123, 0.0007375022692402541, 0.0018183338389960227, 0.0027062568367159433, 0.0052887914401622904, 0.009448010055455295]\n",
      "Optimization restart 1/10, f = 22.083322856432474\n",
      "Optimization restart 2/10, f = 92.30814434933299\n",
      "Optimization restart 3/10, f = 22.08332285646418\n",
      "Optimization restart 4/10, f = 113.91048955705932\n",
      "Optimization restart 5/10, f = 47.106184310428915\n",
      "Optimization restart 6/10, f = 22.083322856988246\n",
      "Optimization restart 7/10, f = 117.70187700976476\n",
      "Optimization restart 8/10, f = 116.74893176281523\n"
     ]
    },
    {
     "name": "stderr",
     "output_type": "stream",
     "text": [
      "reconstraining parameters GP_regression.Mat52.lengthscale\n",
      "reconstraining parameters GP_regression.Mat52.variance\n",
      "reconstraining parameters GP_regression.Gaussian_noise.variance\n"
     ]
    },
    {
     "name": "stdout",
     "output_type": "stream",
     "text": [
      "Optimization restart 9/10, f = 140.60803393122603\n",
      "Optimization restart 10/10, f = 138.32540856189067\n",
      "Optimization restart 1/10, f = -24.226194488056414\n",
      "Optimization restart 2/10, f = 107.6748314004\n",
      "Optimization restart 3/10, f = 114.11119797770252\n",
      "Optimization restart 4/10, f = 87.78861856171306\n",
      "Optimization restart 5/10, f = 5.766909014401421\n",
      "Optimization restart 6/10, f = 126.30903345315954\n",
      "Optimization restart 7/10, f = 111.26040101880325\n",
      "Optimization restart 8/10, f = 117.77189824867338\n",
      "Optimization restart 9/10, f = 126.30889040379304\n",
      "Optimization restart 10/10, f = 2762720314.349075\n",
      "(4_w,9)-aCMA-ES (mu_w=2.8,w_1=49%) in dimension 6 (seed=343390, Sun Aug 23 15:08:28 2020)\n",
      "Iterat #Fevals   function value  axis ratio  sigma  min&max std  t[m:s]\n",
      "    1      9 2.461754773009538e-01 1.0e+00 2.30e-01  2e-01  2e-01 0:00.4\n",
      "    2     18 2.352006750468683e-01 1.2e+00 2.54e-01  2e-01  3e-01 0:00.8\n",
      "    3     27 2.373330345917182e-01 1.5e+00 2.72e-01  2e-01  3e-01 0:01.3\n",
      "   10     90 4.851517303278015e-02 2.8e+00 7.44e-01  5e-01  1e+00 0:04.3\n",
      "   18    162 -7.120135069062100e-02 3.3e+00 2.45e-01  1e-01  3e-01 0:08.3\n",
      "   30    270 -1.011785893375818e-01 6.5e+00 1.18e-01  3e-02  2e-01 0:13.4\n",
      "   44    396 -1.095312157978061e-01 2.0e+01 5.89e-02  5e-03  8e-02 0:19.5\n",
      "   61    549 -1.112692778424040e-01 2.4e+01 2.86e-02  2e-03  3e-02 0:26.8\n",
      "   81    729 -1.112615022717190e-01 3.7e+01 1.71e-02  8e-04  2e-02 0:35.2\n",
      "  100    900 -1.117791562984122e-01 3.6e+01 2.73e-02  1e-03  2e-02 0:43.6\n",
      "  124   1116 -1.119771714421238e-01 8.8e+01 2.19e-02  6e-04  2e-02 0:53.8\n",
      "  144   1296 -1.119188701813958e-01 1.0e+02 1.43e-02  4e-04  1e-02 1:05.7\n",
      "  160   1440 -1.119663374235606e-01 1.4e+02 8.18e-03  2e-04  1e-02 1:17.8\n",
      "  191   1719 -1.115993931589373e-01 4.2e+02 6.63e-03  2e-04  1e-02 1:31.0\n",
      "  200   1800 -1.115447319337156e-01 3.5e+02 5.06e-03  1e-04  7e-03 1:34.9\n",
      "  232   2088 -1.120616946703002e-01 5.1e+02 4.39e-03  9e-05  6e-03 1:49.9\n",
      "  268   2412 -1.118987758987143e-01 7.9e+02 1.11e-03  2e-05  1e-03 2:06.0\n",
      "  300   2700 -1.116740385234214e-01 8.1e+02 1.08e-03  2e-05  1e-03 2:20.3\n",
      "  333   2997 -1.116441025615850e-01 1.4e+03 2.64e-03  7e-05  4e-03 2:38.8\n",
      "  373   3357 -1.117906966908809e-01 2.9e+03 8.70e-03  2e-04  1e-02 2:58.2\n",
      "  400   3600 -1.117280424968122e-01 4.7e+03 5.38e-03  1e-04  6e-03 3:14.3\n",
      "  447   4023 -1.119365767689032e-01 1.1e+04 1.06e-02  2e-04  1e-02 3:35.5\n",
      "  497   4473 -1.117597530645662e-01 2.1e+04 1.03e-02  2e-04  1e-02 3:57.8\n",
      "  500   4500 -1.120625708474033e-01 2.1e+04 1.32e-02  2e-04  2e-02 3:59.1\n",
      "  555   4995 -1.117685362621946e-01 1.6e+04 6.82e-03  7e-05  5e-03 4:23.3\n",
      "  595   5355 -1.116751477245689e-01 1.4e+04 2.02e-02  1e-04  1e-02 4:41.1\n"
     ]
    },
    {
     "name": "stderr",
     "output_type": "stream",
     "text": [
      "reconstraining parameters GP_regression.Mat52.lengthscale\n",
      "reconstraining parameters GP_regression.Mat52.variance\n",
      "reconstraining parameters GP_regression.Gaussian_noise.variance\n"
     ]
    },
    {
     "name": "stdout",
     "output_type": "stream",
     "text": [
      "termination on tolstagnation=263 (Sun Aug 23 15:13:10 2020)\n",
      "final/bestever f-value = -1.119677e-01 -1.124463e-01\n",
      "incumbent solution: [1.7133240811210722, 0.36285893240019523, 2.5354681932897467, 3.861055504829807, 2.3159306403354423, 5.540989966297213]\n",
      "std deviation: [0.00014275959972881742, 0.0007748175173676104, 0.0030631604681117352, 0.0024235093627950036, 0.0009127532729044138, 0.01070558588050887]\n",
      "Optimization restart 1/10, f = 23.026326175118136\n",
      "Optimization restart 2/10, f = 119.11787375097921\n",
      "Optimization restart 3/10, f = 550.1629598386992\n",
      "Optimization restart 4/10, f = 95.94635531503829\n",
      "Optimization restart 5/10, f = 119.1908367891925\n",
      "Optimization restart 6/10, f = 119.19083678919257\n",
      "Optimization restart 7/10, f = 460.94331897443203\n",
      "Optimization restart 8/10, f = 59.3395865641058\n",
      "Optimization restart 9/10, f = 475.63976032253254\n"
     ]
    },
    {
     "name": "stderr",
     "output_type": "stream",
     "text": [
      "reconstraining parameters GP_regression.Mat52.lengthscale\n",
      "reconstraining parameters GP_regression.Mat52.variance\n",
      "reconstraining parameters GP_regression.Gaussian_noise.variance\n"
     ]
    },
    {
     "name": "stdout",
     "output_type": "stream",
     "text": [
      "Optimization restart 10/10, f = 119.19083311023277\n",
      "Optimization restart 1/10, f = -23.621483157476852\n",
      "Optimization restart 2/10, f = 114.82871030368577\n",
      "Optimization restart 3/10, f = 134.58186617980118\n",
      "Optimization restart 4/10, f = 119.190660476768\n",
      "Optimization restart 5/10, f = 118.06348524955143\n",
      "Optimization restart 6/10, f = 119.19083307464234\n",
      "Optimization restart 7/10, f = 49.917870959265635\n",
      "Optimization restart 8/10, f = 119.1908367891925\n",
      "Optimization restart 9/10, f = 105.0982861446478\n",
      "Optimization restart 10/10, f = 102.65794954585326\n",
      "(4_w,9)-aCMA-ES (mu_w=2.8,w_1=49%) in dimension 6 (seed=345423, Sun Aug 23 15:13:15 2020)\n",
      "Iterat #Fevals   function value  axis ratio  sigma  min&max std  t[m:s]\n",
      "    1      9 2.652192354338329e-01 1.0e+00 2.52e-01  2e-01  3e-01 0:00.4\n",
      "    2     18 1.797590032359370e-01 1.3e+00 2.70e-01  2e-01  3e-01 0:00.9\n",
      "    3     27 8.086181714974190e-02 1.5e+00 3.21e-01  3e-01  4e-01 0:01.3\n",
      "   10     90 -4.903870588324665e-02 2.9e+00 4.03e-01  3e-01  5e-01 0:04.4\n",
      "   19    171 -1.088334750638895e-01 4.5e+00 2.10e-01  8e-02  3e-01 0:08.5\n",
      "   30    270 -1.363008983602329e-01 6.8e+00 1.27e-01  2e-02  2e-01 0:13.5\n",
      "   44    396 -1.397111848902202e-01 1.8e+01 5.75e-02  7e-03  7e-02 0:19.7\n",
      "   60    540 -1.406960433451553e-01 2.5e+01 1.96e-02  2e-03  2e-02 0:26.9\n",
      "   78    702 -1.403560956327525e-01 2.0e+01 1.97e-02  2e-03  2e-02 0:35.0\n",
      "   99    891 -1.412070347286103e-01 2.2e+01 4.06e-03  2e-04  3e-03 0:44.3\n",
      "  100    900 -1.409546600850068e-01 2.4e+01 3.77e-03  2e-04  3e-03 0:44.8\n",
      "  125   1125 -1.411950831859431e-01 2.4e+01 4.62e-03  2e-04  3e-03 0:55.8\n",
      "  151   1359 -1.409968250614594e-01 4.6e+01 1.97e-03  5e-05  1e-03 1:07.9\n",
      "  181   1629 -1.409694839733344e-01 8.6e+01 1.21e-03  3e-05  6e-04 1:21.2\n",
      "  200   1800 -1.410476219783963e-01 1.1e+02 4.86e-04  1e-05  2e-04 1:29.7\n",
      "  231   2079 -1.410861853563204e-01 1.3e+02 9.88e-04  2e-05  3e-04 1:44.8\n",
      "  249   2241 -1.409209967626678e-01 1.2e+02 7.19e-04  1e-05  2e-04 2:02.8\n",
      "  271   2439 -1.409499714675959e-01 2.3e+02 1.18e-03  2e-05  3e-04 2:20.0\n",
      "  300   2700 -1.409498155396399e-01 4.8e+02 2.09e-03  7e-05  1e-03 2:33.7\n",
      "  329   2961 -1.412300232461474e-01 5.6e+02 5.45e-03  1e-04  2e-03 2:52.8\n",
      "  368   3312 -1.412103144244447e-01 9.2e+02 3.08e-03  6e-05  1e-03 3:13.3\n",
      "  400   3600 -1.407648459332652e-01 1.1e+03 9.54e-04  1e-05  3e-04 3:31.5\n",
      "  431   3879 -1.408424773940492e-01 1.8e+03 1.43e-03  2e-05  3e-04 3:54.0\n",
      "  462   4158 -1.409960279014740e-01 4.1e+03 1.11e-03  2e-05  3e-04 4:17.3\n",
      "  494   4446 -1.410450600604291e-01 6.2e+03 1.93e-03  3e-05  5e-04 4:41.7\n",
      "  500   4500 -1.410640167777913e-01 6.8e+03 1.94e-03  2e-05  5e-04 4:45.9\n",
      "  535   4815 -1.409351262935782e-01 1.4e+04 1.11e-03  9e-06  2e-04 5:12.5\n",
      "  571   5139 -1.412524223590418e-01 1.9e+04 2.13e-03  2e-05  5e-04 5:39.6\n",
      "  600   5400 -1.408173248753758e-01 2.4e+04 6.19e-04  7e-06  2e-04 6:03.0\n",
      "  635   5715 -1.408919122044071e-01 4.9e+04 1.05e-03  1e-05  3e-04 6:30.0\n"
     ]
    },
    {
     "name": "stderr",
     "output_type": "stream",
     "text": [
      "reconstraining parameters GP_regression.Mat52.lengthscale\n",
      "reconstraining parameters GP_regression.Mat52.variance\n",
      "reconstraining parameters GP_regression.Gaussian_noise.variance\n"
     ]
    },
    {
     "name": "stdout",
     "output_type": "stream",
     "text": [
      "termination on tolstagnation=263 (Sun Aug 23 15:19:47 2020)\n",
      "final/bestever f-value = -1.401957e-01 -1.415377e-01\n",
      "incumbent solution: [0.7039904733492254, 0.8229377870117318, 2.394788218381351, 2.8502193085303786, 3.83317303750976, 3.1860160222378644]\n",
      "std deviation: [1.370298802651379e-05, 0.00010582067021122625, 7.00558691231724e-05, 0.0003473303603102201, 0.00020435463511887087, 0.0002600702177492894]\n",
      "Optimization restart 1/10, f = 23.392445765016554\n",
      "Optimization restart 2/10, f = 208.3851562901251\n",
      "Optimization restart 3/10, f = 23.392445763989244\n",
      "Optimization restart 4/10, f = 97.27367668478861\n",
      "Optimization restart 5/10, f = 51.28372050489138\n",
      "Optimization restart 6/10, f = 551.1988065073936\n",
      "Optimization restart 7/10, f = 120.54472076507992\n",
      "Optimization restart 8/10, f = 122.8437701145204\n",
      "Optimization restart 9/10, f = 160.53921412158755\n"
     ]
    },
    {
     "name": "stderr",
     "output_type": "stream",
     "text": [
      "reconstraining parameters GP_regression.Mat52.lengthscale\n",
      "reconstraining parameters GP_regression.Mat52.variance\n",
      "reconstraining parameters GP_regression.Gaussian_noise.variance\n"
     ]
    },
    {
     "name": "stdout",
     "output_type": "stream",
     "text": [
      "Optimization restart 10/10, f = 119.58394473853306\n",
      "Optimization restart 1/10, f = -22.92397662153224\n",
      "Optimization restart 2/10, f = 3.6030739610214297\n",
      "Optimization restart 3/10, f = 135.51921766161104\n",
      "Optimization restart 4/10, f = 567.4095325836358\n",
      "Optimization restart 5/10, f = -22.923976621771132\n",
      "Optimization restart 6/10, f = 50.11690712714906\n",
      "Optimization restart 7/10, f = 119.81359299349009\n",
      "Optimization restart 8/10, f = 8.53292930124045\n",
      "Optimization restart 9/10, f = 135.5161004635615\n",
      "Optimization restart 10/10, f = 114.09048685261634\n",
      "(4_w,9)-aCMA-ES (mu_w=2.8,w_1=49%) in dimension 6 (seed=289338, Sun Aug 23 15:20:03 2020)\n",
      "Iterat #Fevals   function value  axis ratio  sigma  min&max std  t[m:s]\n",
      "    1      9 2.456003271702625e-01 1.0e+00 2.27e-01  2e-01  2e-01 0:00.7\n",
      "    2     18 2.030441597977603e-01 1.1e+00 2.67e-01  2e-01  3e-01 0:01.4\n",
      "    3     27 2.153647910379569e-01 1.6e+00 2.76e-01  2e-01  3e-01 0:02.1\n",
      "    7     63 1.596963632296510e-01 1.9e+00 5.08e-01  4e-01  6e-01 0:05.2\n",
      "   12    108 1.248384588795493e-01 2.4e+00 7.15e-01  5e-01  1e+00 0:09.4\n",
      "   19    171 8.253883079613769e-02 2.7e+00 5.12e-01  3e-01  7e-01 0:14.7\n",
      "   26    234 2.585961949218259e-03 3.0e+00 4.58e-01  2e-01  5e-01 0:21.0\n",
      "   35    315 -4.843777464843889e-02 4.2e+00 3.14e-01  1e-01  3e-01 0:28.4\n",
      "   46    414 -4.920750832464527e-02 5.1e+00 2.13e-01  6e-02  2e-01 0:37.0\n",
      "   58    522 -5.103943772291344e-02 5.3e+00 1.13e-01  3e-02  9e-02 0:46.8\n",
      "   71    639 -6.681604324365562e-02 9.4e+00 9.28e-02  1e-02  1e-01 0:57.0\n",
      "   84    756 -6.960386597310410e-02 1.6e+01 5.89e-02  5e-03  6e-02 1:08.8\n",
      "  100    900 -7.053132824362793e-02 2.5e+01 3.94e-02  2e-03  3e-02 1:21.3\n",
      "  118   1062 -7.088043819198293e-02 4.0e+01 1.73e-02  8e-04  1e-02 1:34.5\n",
      "  137   1233 -7.091129100874552e-02 3.0e+01 1.45e-02  5e-04  7e-03 1:48.9\n",
      "  157   1413 -7.079534621806313e-02 3.6e+01 1.07e-02  3e-04  4e-03 2:04.5\n",
      "  177   1593 -7.099607047789719e-02 5.4e+01 1.42e-02  4e-04  6e-03 2:20.9\n",
      "  200   1800 -7.087598689085670e-02 6.7e+01 1.01e-02  2e-04  4e-03 2:37.5\n",
      "  223   2007 -7.088107543157079e-02 1.4e+02 7.50e-03  1e-04  4e-03 2:56.1\n",
      "  248   2232 -7.097508593529851e-02 2.5e+02 4.27e-03  6e-05  2e-03 3:15.4\n",
      "  275   2475 -7.101846436142477e-02 2.2e+02 3.81e-03  4e-05  1e-03 3:35.4\n",
      "  300   2700 -7.095845594991686e-02 3.1e+02 4.00e-03  4e-05  1e-03 3:54.9\n",
      "  329   2961 -7.086517234328057e-02 4.0e+02 1.48e-02  1e-04  5e-03 4:17.2\n",
      "  360   3240 -7.084182544330278e-02 5.8e+02 4.63e-03  3e-05  1e-03 4:40.6\n",
      "  391   3519 -7.091073355855826e-02 1.0e+03 5.11e-03  4e-05  2e-03 5:04.8\n",
      "  400   3600 -7.083582425752498e-02 1.1e+03 4.51e-03  3e-05  2e-03 5:11.6\n",
      "  434   3906 -7.096286073715724e-02 9.0e+02 3.07e-03  1e-05  8e-04 5:37.7\n",
      "  469   4221 -7.096056233511526e-02 1.6e+03 2.52e-03  2e-05  1e-03 6:05.5\n",
      "  500   4500 -7.087134214632537e-02 1.8e+03 6.75e-03  5e-05  2e-03 6:27.9\n",
      "  539   4851 -7.091305776684893e-02 2.7e+03 1.59e-02  9e-05  4e-03 6:57.5\n",
      "  580   5220 -7.089046467846549e-02 2.5e+03 1.79e-02  5e-05  3e-03 7:27.9\n",
      "  600   5400 -7.087798726733396e-02 3.2e+03 3.05e-02  9e-05  4e-03 7:43.2\n",
      "  605   5445 -7.087843202360364e-02 3.0e+03 1.81e-02  5e-05  2e-03 7:46.8\n"
     ]
    },
    {
     "name": "stderr",
     "output_type": "stream",
     "text": [
      "reconstraining parameters GP_regression.Mat52.lengthscale\n",
      "reconstraining parameters GP_regression.Mat52.variance\n",
      "reconstraining parameters GP_regression.Gaussian_noise.variance\n"
     ]
    },
    {
     "name": "stdout",
     "output_type": "stream",
     "text": [
      "termination on tolstagnation=263 (Sun Aug 23 15:27:51 2020)\n",
      "final/bestever f-value = -7.089545e-02 -7.104575e-02\n",
      "incumbent solution: [1.0887180998666297, 3.2064732768417747, 2.5991671742649083, 3.5238629354761257, 3.9176362570575085, 5.25496207668068]\n",
      "std deviation: [0.00015787650106419495, 4.713354550055909e-05, 0.0008180784203339774, 0.0006815175434636607, 0.0002712846754853441, 0.0022757095509691318]\n",
      "Optimization restart 1/10, f = 23.58675676816626\n",
      "Optimization restart 2/10, f = 121.96422399585552\n",
      "Optimization restart 3/10, f = 77.92252150619784\n",
      "Optimization restart 4/10, f = 73.36790400787136\n",
      "Optimization restart 5/10, f = 121.96422417384025\n",
      "Optimization restart 6/10, f = 121.9642238073294\n",
      "Optimization restart 7/10, f = 122.02871385560191\n",
      "Optimization restart 8/10, f = 110.02611769772818\n",
      "Optimization restart 9/10, f = 134.9776085893879\n"
     ]
    },
    {
     "name": "stderr",
     "output_type": "stream",
     "text": [
      "reconstraining parameters GP_regression.Mat52.lengthscale\n",
      "reconstraining parameters GP_regression.Mat52.variance\n",
      "reconstraining parameters GP_regression.Gaussian_noise.variance\n"
     ]
    },
    {
     "name": "stdout",
     "output_type": "stream",
     "text": [
      "Optimization restart 10/10, f = 98.20684169240239\n",
      "Optimization restart 1/10, f = -22.218344627724647\n",
      "Optimization restart 2/10, f = 121.80377627240729\n",
      "Optimization restart 3/10, f = 107.55276449893944\n",
      "Optimization restart 4/10, f = 92.3342551371651\n",
      "Optimization restart 5/10, f = 574.0849388493111\n",
      "Optimization restart 6/10, f = 122.02871385560194\n",
      "Optimization restart 7/10, f = 526.3296916771611\n",
      "Optimization restart 8/10, f = 72.26229632936361\n",
      "Optimization restart 9/10, f = -22.218344628605536\n",
      "Optimization restart 10/10, f = 505.544622958509\n",
      "(4_w,9)-aCMA-ES (mu_w=2.8,w_1=49%) in dimension 6 (seed=340742, Sun Aug 23 15:28:03 2020)\n",
      "Iterat #Fevals   function value  axis ratio  sigma  min&max std  t[m:s]\n",
      "    1      9 4.127854958060583e-01 1.0e+00 2.51e-01  2e-01  3e-01 0:00.7\n",
      "    2     18 3.759371705553102e-01 1.3e+00 2.54e-01  2e-01  3e-01 0:01.5\n",
      "    3     27 3.085314374132850e-01 1.3e+00 3.05e-01  3e-01  3e-01 0:02.3\n",
      "    7     63 2.796701246077140e-01 1.6e+00 5.75e-01  5e-01  7e-01 0:05.3\n",
      "   13    117 2.492257390415636e-02 2.4e+00 8.48e-01  6e-01  9e-01 0:10.0\n",
      "   20    180 -2.877357781648503e-03 2.8e+00 7.01e-01  6e-01  8e-01 0:15.4\n",
      "   28    252 -1.149631083073487e-01 3.2e+00 3.12e-01  2e-01  3e-01 0:21.9\n",
      "   37    333 -1.777770554606222e-01 3.3e+00 2.33e-01  9e-02  2e-01 0:29.1\n",
      "   48    432 -1.928145733486714e-01 5.2e+00 9.24e-02  2e-02  8e-02 0:37.2\n",
      "   60    540 -1.950704772996711e-01 6.0e+00 3.90e-02  9e-03  3e-02 0:46.6\n",
      "   74    666 -1.948672033960423e-01 1.2e+01 2.50e-02  5e-03  2e-02 0:56.9\n",
      "   89    801 -1.957673701918801e-01 1.6e+01 1.87e-02  3e-03  2e-02 1:08.2\n",
      "  100    900 -1.958998437789398e-01 1.7e+01 9.46e-03  2e-03  6e-03 1:17.0\n",
      "  117   1053 -1.956862574249022e-01 1.8e+01 1.20e-02  2e-03  8e-03 1:30.0\n",
      "  136   1224 -1.960040731570671e-01 2.6e+01 7.49e-03  9e-04  4e-03 1:44.3\n",
      "  157   1413 -1.961949281059177e-01 5.1e+01 4.88e-03  7e-04  3e-03 1:59.7\n",
      "  180   1620 -1.956476197845537e-01 6.0e+01 2.92e-03  4e-04  2e-03 2:16.1\n",
      "  200   1800 -1.960853159126973e-01 8.9e+01 7.65e-03  1e-03  6e-03 2:31.1\n",
      "  225   2025 -1.952479795829458e-01 1.0e+02 1.41e-02  3e-03  1e-02 2:49.2\n",
      "  251   2259 -1.961566641948098e-01 1.8e+02 1.14e-02  2e-03  1e-02 3:08.7\n",
      "  279   2511 -1.957116498195675e-01 1.6e+02 7.44e-03  8e-04  4e-03 3:28.9\n",
      "  300   2700 -1.960526710362818e-01 2.6e+02 7.65e-03  6e-04  5e-03 3:44.6\n",
      "  332   2988 -1.956770003149833e-01 1.8e+02 4.20e-02  2e-03  2e-02 4:07.3\n",
      "  359   3231 -1.960317327558099e-01 1.6e+02 4.13e-02  2e-03  9e-03 4:30.5\n",
      "  392   3528 -1.960418268962873e-01 2.4e+02 2.30e-02  8e-04  4e-03 4:54.7\n",
      "  400   3600 -1.957911503383098e-01 2.2e+02 2.21e-02  6e-04  4e-03 5:00.2\n",
      "  435   3915 -1.954710605145521e-01 4.5e+02 2.25e-02  6e-04  4e-03 5:26.8\n",
      "  473   4257 -1.951252749537007e-01 9.7e+02 1.08e-02  3e-04  2e-03 5:53.9\n",
      "  500   4500 -1.955847472942170e-01 1.6e+03 2.13e-02  5e-04  5e-03 6:12.5\n",
      "  505   4545 -1.954322150258184e-01 1.8e+03 2.22e-02  6e-04  4e-03 6:16.0\n"
     ]
    },
    {
     "name": "stderr",
     "output_type": "stream",
     "text": [
      "reconstraining parameters GP_regression.Mat52.lengthscale\n"
     ]
    },
    {
     "name": "stdout",
     "output_type": "stream",
     "text": [
      "termination on tolstagnation=263 (Sun Aug 23 15:34:20 2020)\n",
      "final/bestever f-value = -1.948967e-01 -1.969979e-01\n",
      "incumbent solution: [1.1432712863325456, 3.4369735518759734, 2.2292933954989076, 2.942463405642979, 4.1336734921596054, 4.8468394146177465]\n",
      "std deviation: [0.0005775701125098994, 0.0007443103527266815, 0.004479123771858086, 0.004457091288612557, 0.0035267991280522257, 0.001198820794696283]\n"
     ]
    },
    {
     "name": "stderr",
     "output_type": "stream",
     "text": [
      "reconstraining parameters GP_regression.Mat52.variance\n",
      "reconstraining parameters GP_regression.Gaussian_noise.variance\n"
     ]
    },
    {
     "name": "stdout",
     "output_type": "stream",
     "text": [
      "Optimization restart 1/10, f = 23.033086789533414\n",
      "Optimization restart 2/10, f = 56.96491515169189\n",
      "Optimization restart 3/10, f = 118.96202164983005\n",
      "Optimization restart 4/10, f = 116.64359650457371\n",
      "Optimization restart 5/10, f = 119.57285462156207\n",
      "Optimization restart 6/10, f = 49.335429565262686\n",
      "Optimization restart 7/10, f = 489.5854545154477\n",
      "Optimization restart 8/10, f = 116.64346994119612\n",
      "Optimization restart 9/10, f = 122.42310983678553\n"
     ]
    },
    {
     "name": "stderr",
     "output_type": "stream",
     "text": [
      "reconstraining parameters GP_regression.Mat52.lengthscale\n",
      "reconstraining parameters GP_regression.Mat52.variance\n",
      "reconstraining parameters GP_regression.Gaussian_noise.variance\n"
     ]
    },
    {
     "name": "stdout",
     "output_type": "stream",
     "text": [
      "Optimization restart 10/10, f = 97.6499117431741\n",
      "Optimization restart 1/10, f = -23.040542033060262\n",
      "Optimization restart 2/10, f = 107.7034624123452\n",
      "Optimization restart 3/10, f = 515.5572166496194\n",
      "Optimization restart 4/10, f = 50.38664789905531\n",
      "Optimization restart 5/10, f = 50.39373084689615\n",
      "Optimization restart 6/10, f = 580.7603451150156\n",
      "Optimization restart 7/10, f = 95.86841262601615\n",
      "Optimization restart 8/10, f = 123.44765225557909\n",
      "Optimization restart 9/10, f = 123.4476523885884\n",
      "Optimization restart 10/10, f = 116.85974501713288\n",
      "(4_w,9)-aCMA-ES (mu_w=2.8,w_1=49%) in dimension 6 (seed=346418, Sun Aug 23 15:34:38 2020)\n",
      "Iterat #Fevals   function value  axis ratio  sigma  min&max std  t[m:s]\n",
      "    1      9 2.944876901447251e-01 1.0e+00 2.19e-01  2e-01  2e-01 0:01.0\n",
      "    2     18 2.541738801014915e-01 1.3e+00 2.37e-01  2e-01  3e-01 0:01.7\n",
      "    3     27 2.460836558083216e-01 1.5e+00 2.67e-01  2e-01  3e-01 0:02.4\n",
      "    7     63 1.678470442168890e-01 2.2e+00 8.48e-01  7e-01  1e+00 0:05.7\n",
      "   13    117 8.849893360648477e-02 2.1e+00 1.21e+00  9e-01  2e+00 0:10.2\n",
      "   20    180 -5.655296062526868e-02 2.9e+00 8.62e-01  5e-01  1e+00 0:15.3\n",
      "   26    234 -1.566926839949341e-01 2.4e+00 5.01e-01  3e-01  5e-01 0:21.9\n",
      "   36    324 -1.760629768501332e-01 3.2e+00 2.18e-01  8e-02  2e-01 0:28.9\n",
      "   45    405 -1.814718103781085e-01 4.1e+00 1.04e-01  2e-02  9e-02 0:37.6\n",
      "   57    513 -1.809704958578343e-01 5.7e+00 6.88e-02  1e-02  5e-02 0:47.2\n",
      "   72    648 -1.828026321673278e-01 6.6e+00 3.79e-02  6e-03  3e-02 0:58.0\n",
      "   88    792 -1.827918554262291e-01 9.8e+00 4.02e-02  4e-03  3e-02 1:09.4\n",
      "  100    900 -1.819034086385663e-01 1.1e+01 3.53e-02  3e-03  3e-02 1:18.9\n",
      "  118   1062 -1.830225433663553e-01 1.0e+01 3.84e-02  4e-03  3e-02 1:32.0\n",
      "  138   1242 -1.821285623773244e-01 1.1e+01 2.44e-02  2e-03  1e-02 1:46.1\n",
      "  159   1431 -1.825491304793797e-01 1.5e+01 1.46e-02  8e-04  9e-03 2:01.2\n",
      "  181   1629 -1.827311189096135e-01 2.2e+01 1.80e-02  8e-04  1e-02 2:17.8\n",
      "  200   1800 -1.823441579391566e-01 2.4e+01 9.81e-03  5e-04  4e-03 2:32.0\n",
      "  228   2052 -1.825136000058998e-01 1.9e+01 8.42e-03  3e-04  3e-03 2:50.6\n",
      "  258   2322 -1.822045626218002e-01 2.4e+01 3.36e-03  1e-04  9e-04 3:09.9\n",
      "  289   2601 -1.826336367813537e-01 2.2e+01 1.03e-03  2e-05  2e-04 3:30.5\n",
      "  300   2700 -1.826335842945080e-01 2.8e+01 6.37e-04  1e-05  1e-04 3:38.1\n",
      "  333   2997 -1.819940732012773e-01 3.6e+01 3.30e-04  6e-06  4e-05 4:00.5\n",
      "  367   3303 -1.837595114276422e-01 5.6e+01 3.77e-04  7e-06  6e-05 4:23.6\n",
      "  400   3600 -1.835015847904569e-01 7.1e+01 1.39e-04  2e-06  2e-05 4:45.9\n",
      "  438   3942 -1.825170705465966e-01 2.1e+02 1.16e-04  2e-06  1e-05 5:11.2\n",
      "  478   4302 -1.827497072626460e-01 2.8e+02 1.36e-05  2e-07  1e-06 5:37.7\n",
      "  500   4500 -1.821118291252023e-01 5.0e+02 8.57e-06  2e-07  8e-07 5:58.0\n",
      "  505   4545 -1.825738420763949e-01 5.7e+02 1.44e-05  3e-07  2e-06 6:01.4\n"
     ]
    },
    {
     "name": "stderr",
     "output_type": "stream",
     "text": [
      "reconstraining parameters GP_regression.Mat52.lengthscale\n",
      "reconstraining parameters GP_regression.Mat52.variance\n",
      "reconstraining parameters GP_regression.Gaussian_noise.variance\n"
     ]
    },
    {
     "name": "stdout",
     "output_type": "stream",
     "text": [
      "termination on tolstagnation=263 (Sun Aug 23 15:40:40 2020)\n",
      "final/bestever f-value = -1.811103e-01 -1.843499e-01\n",
      "incumbent solution: [0.2593500374605573, 0.7714109208284023, 2.257005413454375, 3.1425351177136696, 4.276130915077327, 4.381267416125202]\n",
      "std deviation: [3.607446533582674e-07, 3.4361633997377995e-07, 1.581093673972707e-06, 1.1637120411077755e-06, 8.383322520457802e-07, 4.7365148843323587e-07]\n",
      "Optimization restart 1/10, f = 21.08918325298879\n",
      "Optimization restart 2/10, f = 114.57615737004039\n",
      "Optimization restart 3/10, f = 109.23687846609513\n",
      "Optimization restart 4/10, f = 112.14926622519658\n",
      "Optimization restart 5/10, f = 100.12273999023321\n",
      "Optimization restart 6/10, f = 106.45994390592779\n",
      "Optimization restart 7/10, f = 21.089183253113816\n",
      "Optimization restart 8/10, f = 21.0891832541016\n",
      "Optimization restart 9/10, f = 123.82920477887481\n"
     ]
    },
    {
     "name": "stderr",
     "output_type": "stream",
     "text": [
      "reconstraining parameters GP_regression.Mat52.lengthscale\n",
      "reconstraining parameters GP_regression.Mat52.variance\n",
      "reconstraining parameters GP_regression.Gaussian_noise.variance\n"
     ]
    },
    {
     "name": "stdout",
     "output_type": "stream",
     "text": [
      "Optimization restart 10/10, f = 100.12273152877037\n",
      "Optimization restart 1/10, f = -24.094093434184657\n",
      "Optimization restart 2/10, f = 486.30061739295115\n",
      "Optimization restart 3/10, f = 486.378130572733\n",
      "Optimization restart 4/10, f = 123.29628315966129\n",
      "Optimization restart 5/10, f = 0.5649278327935363\n",
      "Optimization restart 6/10, f = 99.87065604676542\n",
      "Optimization restart 7/10, f = 104.60194795560946\n",
      "Optimization restart 8/10, f = 226.158261793062\n",
      "Optimization restart 9/10, f = 2894187412.37589\n",
      "Optimization restart 10/10, f = 124.06027869850233\n",
      "(4_w,9)-aCMA-ES (mu_w=2.8,w_1=49%) in dimension 6 (seed=286031, Sun Aug 23 15:40:55 2020)\n",
      "Iterat #Fevals   function value  axis ratio  sigma  min&max std  t[m:s]\n",
      "    1      9 4.860404388260060e-01 1.0e+00 2.55e-01  2e-01  3e-01 0:00.6\n",
      "    2     18 4.626289310877278e-01 1.3e+00 2.79e-01  3e-01  3e-01 0:01.3\n",
      "    3     27 4.497037969140608e-01 1.5e+00 2.59e-01  2e-01  3e-01 0:02.0\n",
      "    8     72 3.363252011936262e-01 2.3e+00 2.57e-01  2e-01  3e-01 0:05.5\n",
      "   15    135 2.924332683120980e-01 2.7e+00 2.12e-01  1e-01  2e-01 0:09.8\n",
      "   22    198 5.196003601936756e-02 3.5e+00 3.83e-01  2e-01  6e-01 0:14.8\n",
      "   32    288 -1.383013028785404e-01 5.2e+00 3.91e-01  1e-01  5e-01 0:21.2\n",
      "   42    378 -1.453247010744349e-01 4.9e+00 3.51e-01  9e-02  4e-01 0:28.3\n",
      "   54    486 -1.592762980268631e-01 8.5e+00 1.75e-01  3e-02  2e-01 0:36.7\n",
      "   68    612 -1.622702713623549e-01 8.5e+00 8.92e-02  1e-02  8e-02 0:46.2\n",
      "   82    738 -1.625702638541953e-01 1.1e+01 7.28e-02  7e-03  6e-02 0:56.4\n",
      "  100    900 -1.626521000435950e-01 1.2e+01 5.92e-02  6e-03  4e-02 1:07.7\n",
      "  119   1071 -1.622823336569471e-01 7.2e+00 6.05e-02  6e-03  3e-02 1:19.9\n",
      "  141   1269 -1.624368627687263e-01 1.3e+01 3.87e-02  3e-03  2e-02 1:33.3\n",
      "  160   1440 -1.634401668674788e-01 2.3e+01 2.22e-02  2e-03  1e-02 1:47.9\n",
      "  179   1611 -1.630891243042010e-01 2.9e+01 8.71e-03  7e-04  5e-03 2:02.9\n",
      "  200   1800 -1.641199109423113e-01 7.7e+01 1.02e-02  9e-04  7e-03 2:19.3\n",
      "  222   1998 -1.634297581957727e-01 8.9e+01 6.30e-03  5e-04  4e-03 2:36.6\n",
      "  251   2259 -1.631920655260590e-01 1.7e+02 5.07e-03  4e-04  3e-03 2:55.0\n",
      "  284   2556 -1.627990406729480e-01 2.4e+02 2.69e-02  2e-03  1e-02 3:14.3\n",
      "  300   2700 -1.635237528664079e-01 3.1e+02 4.97e-02  3e-03  2e-02 3:23.8\n",
      "  332   2988 -1.630498650910308e-01 3.7e+02 3.24e-02  2e-03  1e-02 3:45.7\n",
      "  361   3249 -1.633525940077086e-01 5.3e+02 2.44e-02  1e-03  7e-03 4:08.3\n",
      "  398   3582 -1.625772201630470e-01 7.8e+02 2.23e-02  9e-04  6e-03 4:31.8\n",
      "  400   3600 -1.623318661131565e-01 7.9e+02 2.54e-02  1e-03  7e-03 4:33.1\n",
      "  441   3969 -1.628052734947325e-01 8.2e+02 6.12e-02  2e-03  1e-02 4:58.2\n",
      "  476   4284 -1.635243531542015e-01 1.4e+03 6.01e-02  2e-03  8e-03 5:24.5\n",
      "  500   4500 -1.628250852083518e-01 3.1e+03 8.49e-02  2e-03  1e-02 5:39.9\n",
      "  548   4932 -1.624559813820615e-01 1.9e+03 2.16e-02  3e-04  2e-03 6:08.6\n",
      "  555   4995 -1.631357551135698e-01 1.8e+03 3.22e-02  5e-04  3e-03 6:12.6\n"
     ]
    },
    {
     "name": "stderr",
     "output_type": "stream",
     "text": [
      "reconstraining parameters GP_regression.Mat52.lengthscale\n",
      "reconstraining parameters GP_regression.Mat52.variance\n",
      "reconstraining parameters GP_regression.Gaussian_noise.variance\n"
     ]
    },
    {
     "name": "stdout",
     "output_type": "stream",
     "text": [
      "termination on tolstagnation=263 (Sun Aug 23 15:47:09 2020)\n",
      "final/bestever f-value = -1.606089e-01 -1.648169e-01\n",
      "incumbent solution: [0.8063378552303708, 0.28096896765096946, 2.6708791961072635, 2.996664995007561, 3.804964908628878, 4.556312317276129]\n",
      "std deviation: [0.00045915635068709244, 0.0008649057823590353, 0.0021350916062055233, 0.0007259054956879215, 0.0027395448372372886, 0.002798281734695662]\n",
      "Optimization restart 1/10, f = 20.53821320008806\n",
      "Optimization restart 2/10, f = 96.59241673877963\n",
      "Optimization restart 3/10, f = 107.99454236213793\n",
      "Optimization restart 4/10, f = 571.5336324789669\n",
      "Optimization restart 5/10, f = 125.17934061319804\n",
      "Optimization restart 6/10, f = 584.167122953644\n",
      "Optimization restart 7/10, f = 117.98355178976394\n",
      "Optimization restart 8/10, f = 357.5692169816411\n",
      "Optimization restart 9/10, f = 125.84007708760245\n"
     ]
    },
    {
     "name": "stderr",
     "output_type": "stream",
     "text": [
      "reconstraining parameters GP_regression.Mat52.lengthscale\n",
      "reconstraining parameters GP_regression.Mat52.variance\n",
      "reconstraining parameters GP_regression.Gaussian_noise.variance\n"
     ]
    },
    {
     "name": "stdout",
     "output_type": "stream",
     "text": [
      "Optimization restart 10/10, f = 97.9824316141334\n",
      "Optimization restart 1/10, f = -24.990807461108474\n",
      "Optimization restart 2/10, f = 79.89334061697829\n",
      "Optimization restart 3/10, f = -4.97539343955598\n",
      "Optimization restart 4/10, f = 606.9453836651157\n",
      "Optimization restart 5/10, f = 39.92934216210221\n",
      "Optimization restart 6/10, f = 106.58532049634547\n",
      "Optimization restart 7/10, f = 344.8209924687023\n",
      "Optimization restart 8/10, f = 697.4952151203006\n",
      "Optimization restart 9/10, f = 126.28552771860345\n",
      "Optimization restart 10/10, f = -24.99080746073721\n",
      "(4_w,9)-aCMA-ES (mu_w=2.8,w_1=49%) in dimension 6 (seed=293014, Sun Aug 23 15:47:19 2020)\n",
      "Iterat #Fevals   function value  axis ratio  sigma  min&max std  t[m:s]\n",
      "    1      9 4.389318956998091e-01 1.0e+00 2.50e-01  2e-01  3e-01 0:00.5\n",
      "    2     18 4.582582731108318e-01 1.3e+00 2.27e-01  2e-01  2e-01 0:01.1\n",
      "    3     27 4.380222286006006e-01 1.4e+00 2.28e-01  2e-01  2e-01 0:01.6\n",
      "    9     81 2.174334834346559e-01 2.8e+00 5.26e-01  3e-01  9e-01 0:05.0\n",
      "   16    144 2.210487138385057e-01 3.2e+00 5.30e-01  2e-01  6e-01 0:09.1\n",
      "   25    225 1.973384201759117e-01 3.6e+00 4.80e-01  2e-01  5e-01 0:14.3\n",
      "   36    324 1.560953313636698e-01 5.9e+00 2.02e-01  4e-02  2e-01 0:20.5\n",
      "   49    441 1.277997097746944e-01 7.8e+00 2.78e-01  5e-02  3e-01 0:28.1\n",
      "   63    567 1.129846189085456e-01 1.4e+01 3.11e-01  3e-02  4e-01 0:36.1\n",
      "   79    711 1.079299587817573e-01 1.4e+01 8.64e-02  5e-03  7e-02 0:45.2\n",
      "   95    855 1.082757828782106e-01 1.9e+01 1.43e-01  8e-03  1e-01 0:55.8\n",
      "  100    900 1.072137560794677e-01 2.6e+01 1.49e-01  7e-03  2e-01 0:58.5\n",
      "  122   1098 1.072160199806300e-01 3.8e+01 8.44e-02  3e-03  7e-02 1:10.9\n",
      "  145   1305 1.071913710623581e-01 5.2e+01 5.27e-02  1e-03  4e-02 1:24.2\n",
      "  169   1521 1.059837211011665e-01 6.9e+01 2.52e-02  5e-04  2e-02 1:38.3\n",
      "  195   1755 1.078214327212950e-01 5.9e+01 9.96e-03  2e-04  5e-03 1:53.4\n",
      "  200   1800 1.049356111128530e-01 6.8e+01 8.01e-03  1e-04  4e-03 1:56.2\n",
      "  229   2061 1.072237384917873e-01 7.9e+01 2.29e-03  2e-05  8e-04 2:13.7\n",
      "  261   2349 1.068555621158495e-01 1.6e+02 4.92e-03  4e-05  2e-03 2:32.1\n",
      "  291   2619 1.066121933492215e-01 1.4e+02 3.72e-03  3e-05  1e-03 2:51.2\n",
      "  300   2700 1.076913062372506e-01 1.9e+02 6.50e-03  6e-05  2e-03 2:56.6\n",
      "  337   3033 1.052850381916991e-01 3.3e+02 1.38e-02  1e-04  5e-03 3:17.7\n",
      "  377   3393 1.066080093055320e-01 2.8e+02 2.84e-02  2e-04  9e-03 3:40.0\n",
      "  400   3600 1.074865285387753e-01 3.4e+02 1.85e-02  1e-04  6e-03 3:53.3\n",
      "  440   3960 1.057714843380092e-01 7.1e+02 2.38e-02  2e-04  8e-03 4:17.8\n",
      "  484   4356 1.059964154851699e-01 8.2e+02 1.69e-02  7e-05  4e-03 4:43.0\n",
      "  500   4500 1.075255000675503e-01 9.2e+02 1.77e-02  6e-05  3e-03 4:52.1\n",
      "  530   4770 1.071106384126716e-01 1.1e+03 1.66e-02  5e-05  2e-03 5:08.9\n"
     ]
    },
    {
     "name": "stderr",
     "output_type": "stream",
     "text": [
      "reconstraining parameters GP_regression.Mat52.lengthscale\n",
      "reconstraining parameters GP_regression.Mat52.variance\n",
      "reconstraining parameters GP_regression.Gaussian_noise.variance\n"
     ]
    },
    {
     "name": "stdout",
     "output_type": "stream",
     "text": [
      "termination on tolstagnation=263 (Sun Aug 23 15:52:29 2020)\n",
      "final/bestever f-value = 1.106382e-01 1.020637e-01\n",
      "incumbent solution: [1.9999342190552305, 1.3676559142845625e-05, 2.8269298514272174, 3.748246412181503, 3.6027513422047956, 8.745855245719763]\n",
      "std deviation: [5.089652646385064e-05, 0.00046040837979594945, 0.0002449427247217059, 0.0013801120408820442, 0.0023040794960058997, 0.0004342542465683007]\n",
      "Optimization restart 1/10, f = 20.30742591549342\n",
      "Optimization restart 2/10, f = 125.57953883310466\n",
      "Optimization restart 3/10, f = 101.62043018411038\n",
      "Optimization restart 4/10, f = 106.61719122846\n",
      "Optimization restart 5/10, f = 69.88532223229424\n",
      "Optimization restart 6/10, f = 80.5633551602337\n",
      "Optimization restart 7/10, f = 401.94935314044017\n",
      "Optimization restart 8/10, f = 113.64301064203327\n",
      "Optimization restart 9/10, f = 70.11153146268992\n"
     ]
    },
    {
     "name": "stderr",
     "output_type": "stream",
     "text": [
      "reconstraining parameters GP_regression.Mat52.lengthscale\n",
      "reconstraining parameters GP_regression.Mat52.variance\n",
      "reconstraining parameters GP_regression.Gaussian_noise.variance\n"
     ]
    },
    {
     "name": "stdout",
     "output_type": "stream",
     "text": [
      "Optimization restart 10/10, f = 115.64478086498511\n",
      "Optimization restart 1/10, f = -27.193447022244804\n",
      "Optimization restart 2/10, f = 8.843764825996963\n",
      "Optimization restart 3/10, f = 126.89149323655045\n",
      "Optimization restart 4/10, f = -27.193447022208133\n",
      "Optimization restart 5/10, f = -0.8021196933580654\n",
      "Optimization restart 6/10, f = 3029881814.9852796\n",
      "Optimization restart 7/10, f = 38.37407627241109\n",
      "Optimization restart 8/10, f = -0.8021147127829948\n",
      "Optimization restart 9/10, f = 494.634163140634\n",
      "Optimization restart 10/10, f = 4495069.163304069\n",
      "(4_w,9)-aCMA-ES (mu_w=2.8,w_1=49%) in dimension 6 (seed=288346, Sun Aug 23 15:52:42 2020)\n",
      "Iterat #Fevals   function value  axis ratio  sigma  min&max std  t[m:s]\n",
      "    1      9 4.153677101677616e-01 1.0e+00 2.43e-01  2e-01  2e-01 0:00.5\n",
      "    2     18 3.965973430371697e-01 1.3e+00 2.17e-01  2e-01  2e-01 0:01.1\n",
      "    3     27 3.727314334493907e-01 1.5e+00 2.19e-01  2e-01  2e-01 0:01.6\n",
      "    9     81 1.483361410511372e-01 2.4e+00 4.14e-01  3e-01  6e-01 0:05.1\n",
      "   17    153 -1.038180412156225e-02 2.8e+00 7.47e-01  5e-01  9e-01 0:09.6\n",
      "   26    234 4.008075612297450e-03 2.4e+00 7.47e-01  5e-01  8e-01 0:14.8\n",
      "   37    333 -5.194578917401125e-02 3.4e+00 4.28e-01  2e-01  4e-01 0:21.3\n",
      "   50    450 -1.372235848637291e-01 5.1e+00 3.04e-01  1e-01  3e-01 0:28.9\n",
      "   63    567 -1.538332289468786e-01 7.0e+00 2.54e-01  5e-02  2e-01 0:37.0\n",
      "   80    720 -1.569116786236864e-01 1.3e+01 9.52e-02  1e-02  8e-02 0:46.7\n",
      "   96    864 -1.568981010063892e-01 1.5e+01 4.74e-02  4e-03  3e-02 0:56.9\n",
      "  100    900 -1.579835870136219e-01 1.7e+01 4.49e-02  4e-03  3e-02 0:59.1\n",
      "  121   1089 -1.567743006728170e-01 2.2e+01 2.07e-02  2e-03  1e-02 1:11.3\n",
      "  145   1305 -1.573143792110969e-01 3.6e+01 2.13e-02  1e-03  2e-02 1:24.7\n",
      "  170   1530 -1.574317128762921e-01 5.5e+01 1.05e-02  7e-04  9e-03 1:39.1\n",
      "  197   1773 -1.575668403343549e-01 5.2e+01 9.02e-03  5e-04  7e-03 1:54.4\n",
      "  200   1800 -1.571474174182036e-01 6.7e+01 9.44e-03  6e-04  7e-03 1:56.2\n",
      "  230   2070 -1.579269866710815e-01 9.2e+01 4.59e-03  2e-04  3e-03 2:13.6\n",
      "  261   2349 -1.574399963664087e-01 1.2e+02 6.58e-03  3e-04  4e-03 2:32.1\n",
      "  292   2628 -1.578446062498233e-01 2.0e+02 6.17e-03  4e-04  4e-03 2:51.5\n",
      "  300   2700 -1.580504210325379e-01 2.8e+02 9.77e-03  6e-04  7e-03 2:55.9\n",
      "  337   3033 -1.578163016985216e-01 3.0e+02 3.36e-03  1e-04  2e-03 3:17.2\n",
      "  374   3366 -1.582014168146044e-01 3.5e+02 5.11e-03  1e-04  2e-03 3:39.3\n",
      "  400   3600 -1.572220009702349e-01 3.0e+02 8.46e-03  2e-04  3e-03 3:54.1\n",
      "  444   3996 -1.585746166878854e-01 6.8e+02 1.45e-02  3e-04  6e-03 4:18.6\n",
      "  487   4383 -1.580601625126219e-01 1.4e+03 4.44e-02  9e-04  2e-02 4:43.6\n",
      "  500   4500 -1.576016372087890e-01 1.5e+03 3.12e-02  4e-04  1e-02 4:52.5\n",
      "  505   4545 -1.574353946148164e-01 1.6e+03 2.85e-02  4e-04  1e-02 4:55.2\n"
     ]
    },
    {
     "name": "stderr",
     "output_type": "stream",
     "text": [
      "reconstraining parameters GP_regression.Mat52.lengthscale\n",
      "reconstraining parameters GP_regression.Mat52.variance\n",
      "reconstraining parameters GP_regression.Gaussian_noise.variance\n"
     ]
    },
    {
     "name": "stdout",
     "output_type": "stream",
     "text": [
      "termination on tolstagnation=263 (Sun Aug 23 15:57:38 2020)\n",
      "final/bestever f-value = -1.560098e-01 -1.590356e-01\n",
      "incumbent solution: [0.2720229677645523, 1.3297420403323292, 2.2684889867446767, 2.9796288781365776, 4.574399232515365, 4.303512687884264]\n",
      "std deviation: [0.00040300519353735043, 0.0003505367616309741, 0.002104968294010598, 0.0019287584891676916, 0.0007097242643152826, 0.012617786718612356]\n",
      "Optimization restart 1/10, f = 20.37372057496428\n",
      "Optimization restart 2/10, f = 127.94940284147243\n",
      "Optimization restart 3/10, f = 607.461970177775\n",
      "Optimization restart 4/10, f = 137.62652246277392\n",
      "Optimization restart 5/10, f = 20.373720574960494\n",
      "Optimization restart 6/10, f = 127.9373022968725\n",
      "Optimization restart 7/10, f = 345.89310314911654\n",
      "Optimization restart 8/10, f = 75.37853797439931\n",
      "Optimization restart 9/10, f = 573.5006232502946\n"
     ]
    },
    {
     "name": "stderr",
     "output_type": "stream",
     "text": [
      "reconstraining parameters GP_regression.Mat52.lengthscale\n",
      "reconstraining parameters GP_regression.Mat52.variance\n",
      "reconstraining parameters GP_regression.Gaussian_noise.variance\n"
     ]
    },
    {
     "name": "stdout",
     "output_type": "stream",
     "text": [
      "Optimization restart 10/10, f = 104.14373471755113\n",
      "Optimization restart 1/10, f = -28.603127545495198\n",
      "Optimization restart 2/10, f = 121.68204600985403\n",
      "Optimization restart 3/10, f = 37.23406392522424\n",
      "Optimization restart 4/10, f = 37.23407015654503\n",
      "Optimization restart 5/10, f = 115.29010157924625\n",
      "Optimization restart 6/10, f = 129.1233297391245\n",
      "Optimization restart 7/10, f = 49.129022266816406\n",
      "Optimization restart 8/10, f = -28.60312754568674\n",
      "Optimization restart 9/10, f = -28.60312753836675\n",
      "Optimization restart 10/10, f = 128.3173859189421\n",
      "(4_w,9)-aCMA-ES (mu_w=2.8,w_1=49%) in dimension 6 (seed=285256, Sun Aug 23 15:57:50 2020)\n",
      "Iterat #Fevals   function value  axis ratio  sigma  min&max std  t[m:s]\n",
      "    1      9 1.092502392703578e-01 1.0e+00 2.53e-01  2e-01  3e-01 0:00.6\n",
      "    2     18 5.926638473513625e-02 1.3e+00 2.53e-01  2e-01  3e-01 0:01.1\n",
      "    3     27 9.386146771083978e-02 1.5e+00 2.85e-01  2e-01  3e-01 0:01.6\n",
      "    9     81 7.074325383461107e-02 2.0e+00 3.47e-01  3e-01  4e-01 0:05.1\n",
      "   17    153 6.951678851639511e-03 3.6e+00 4.56e-01  2e-01  6e-01 0:09.5\n",
      "   26    234 -7.919135133034426e-02 4.3e+00 3.59e-01  1e-01  4e-01 0:14.6\n",
      "   37    333 -1.105389141353319e-01 5.0e+00 1.84e-01  5e-02  2e-01 0:20.8\n",
      "   49    441 -1.192146775155178e-01 8.0e+00 9.62e-02  2e-02  1e-01 0:28.0\n",
      "   64    576 -1.248410710061225e-01 9.9e+00 5.94e-02  8e-03  5e-02 0:36.5\n",
      "   80    720 -1.256185030191670e-01 1.2e+01 2.73e-02  3e-03  2e-02 0:45.8\n",
      "   98    882 -1.254012438974381e-01 1.3e+01 2.37e-02  2e-03  2e-02 0:56.1\n",
      "  100    900 -1.256818161251402e-01 1.3e+01 2.88e-02  2e-03  2e-02 0:57.2\n",
      "  122   1098 -1.257974462161222e-01 1.7e+01 1.62e-02  9e-04  9e-03 1:09.7\n",
      "  145   1305 -1.258293408873437e-01 2.5e+01 8.22e-03  4e-04  4e-03 1:23.3\n",
      "  168   1512 -1.255788884678993e-01 3.7e+01 6.90e-03  3e-04  3e-03 1:38.0\n",
      "  195   1755 -1.259043221639724e-01 4.7e+01 3.41e-03  1e-04  2e-03 1:53.5\n",
      "  200   1800 -1.254218383754548e-01 5.2e+01 3.58e-03  1e-04  2e-03 1:56.5\n",
      "  229   2061 -1.258546383457440e-01 8.7e+01 1.65e-03  7e-05  6e-04 2:13.7\n",
      "  261   2349 -1.258865362550580e-01 1.1e+02 2.38e-03  9e-05  8e-04 2:31.9\n",
      "  295   2655 -1.259874762914256e-01 1.1e+02 1.38e-03  3e-05  3e-04 2:51.2\n",
      "  300   2700 -1.257304766242014e-01 1.0e+02 1.23e-03  2e-05  2e-04 2:54.0\n",
      "  337   3033 -1.257062265811833e-01 1.5e+02 5.21e-04  7e-06  9e-05 3:15.3\n",
      "  372   3348 -1.258025687006582e-01 2.4e+02 7.05e-04  8e-06  1e-04 3:37.5\n",
      "  400   3600 -1.258501281752615e-01 2.7e+02 7.47e-04  9e-06  1e-04 3:53.6\n",
      "  442   3978 -1.256698243928320e-01 4.5e+02 4.06e-04  3e-06  5e-05 4:17.8\n",
      "  486   4374 -1.257270207231306e-01 5.1e+02 1.74e-04  7e-07  2e-05 4:42.9\n",
      "  500   4500 -1.258507525650565e-01 6.3e+02 2.35e-04  1e-06  2e-05 4:50.6\n",
      "  530   4770 -1.259187430846166e-01 1.3e+03 6.84e-05  2e-07  6e-06 5:07.8\n"
     ]
    },
    {
     "name": "stderr",
     "output_type": "stream",
     "text": [
      "reconstraining parameters GP_regression.Mat52.lengthscale\n",
      "reconstraining parameters GP_regression.Mat52.variance\n",
      "reconstraining parameters GP_regression.Gaussian_noise.variance\n"
     ]
    },
    {
     "name": "stdout",
     "output_type": "stream",
     "text": [
      "termination on tolstagnation=263 (Sun Aug 23 16:02:59 2020)\n",
      "final/bestever f-value = -1.252205e-01 -1.263980e-01\n",
      "incumbent solution: [1.0842728023952497, 3.5245687044040293, 2.42131412449664, 3.0540620148708424, 3.7593703631068736, 4.802695801951032]\n",
      "std deviation: [2.108199733237313e-07, 6.654277501112602e-07, 1.5720683151033078e-06, 1.7809942945441643e-06, 5.943633577765659e-06, 3.8074954612421717e-06]\n",
      "Optimization restart 1/10, f = 18.962838711700698\n",
      "Optimization restart 2/10, f = 102.53230763323907\n",
      "Optimization restart 3/10, f = 2398752896.432428\n",
      "Optimization restart 4/10, f = 593.2329401451728\n",
      "Optimization restart 5/10, f = 46.89107779010971\n",
      "Optimization restart 6/10, f = 130.49609969612925\n",
      "Optimization restart 7/10, f = 593.3665454607558\n",
      "Optimization restart 8/10, f = 130.5409826214169\n",
      "Optimization restart 9/10, f = 59.98110495238922\n"
     ]
    },
    {
     "name": "stderr",
     "output_type": "stream",
     "text": [
      "reconstraining parameters GP_regression.Mat52.lengthscale\n",
      "reconstraining parameters GP_regression.Mat52.variance\n",
      "reconstraining parameters GP_regression.Gaussian_noise.variance\n"
     ]
    },
    {
     "name": "stdout",
     "output_type": "stream",
     "text": [
      "Optimization restart 10/10, f = 56.97477420092557\n",
      "Optimization restart 1/10, f = -30.65273845608722\n",
      "Optimization restart 2/10, f = 596.4117685992952\n",
      "Optimization restart 3/10, f = 4594959.589155174\n",
      "Optimization restart 4/10, f = 541.6864866591093\n",
      "Optimization restart 5/10, f = 54.36641630627231\n",
      "Optimization restart 6/10, f = 41.24372836736153\n",
      "Optimization restart 7/10, f = -3.6015489464737698\n",
      "Optimization restart 8/10, f = 121.07530081923787\n",
      "Optimization restart 9/10, f = 116.16275158631203\n",
      "Optimization restart 10/10, f = 35.658586895845716\n",
      "(4_w,9)-aCMA-ES (mu_w=2.8,w_1=49%) in dimension 6 (seed=269801, Sun Aug 23 16:03:13 2020)\n",
      "Iterat #Fevals   function value  axis ratio  sigma  min&max std  t[m:s]\n",
      "    1      9 4.044659078130217e-01 1.0e+00 2.72e-01  3e-01  3e-01 0:00.5\n",
      "    2     18 4.048673991270964e-01 1.3e+00 2.95e-01  3e-01  3e-01 0:01.2\n",
      "    3     27 3.780414413053012e-01 1.5e+00 3.59e-01  3e-01  5e-01 0:01.9\n",
      "    8     72 1.321658329453551e-01 2.3e+00 9.20e-01  7e-01  1e+00 0:05.0\n",
      "   15    135 -2.212459340709620e-02 2.3e+00 8.71e-01  5e-01  1e+00 0:09.2\n",
      "   21    189 -3.685552070517763e-02 2.6e+00 5.18e-01  3e-01  5e-01 0:14.6\n",
      "   31    279 -9.937070610769691e-02 3.8e+00 3.11e-01  9e-02  3e-01 0:20.7\n",
      "   44    396 -1.179620606603711e-01 5.6e+00 1.33e-01  2e-02  1e-01 0:27.8\n",
      "   58    522 -1.236699436576703e-01 9.1e+00 4.72e-02  7e-03  4e-02 0:36.0\n",
      "   74    666 -1.249363328403909e-01 1.4e+01 3.44e-02  3e-03  2e-02 0:45.5\n",
      "   92    828 -1.250953428853289e-01 1.6e+01 1.37e-02  9e-04  8e-03 0:55.7\n",
      "  100    900 -1.252295483213907e-01 3.0e+01 1.33e-02  1e-03  8e-03 1:00.4\n",
      "  121   1089 -1.251135353903091e-01 3.7e+01 9.66e-03  7e-04  7e-03 1:12.8\n",
      "  143   1287 -1.250677994492927e-01 3.0e+01 1.75e-02  1e-03  9e-03 1:25.8\n",
      "  168   1512 -1.252224860869944e-01 1.7e+01 1.24e-02  6e-04  4e-03 1:39.9\n",
      "  194   1746 -1.252982850486651e-01 3.0e+01 2.04e-02  8e-04  7e-03 1:55.3\n",
      "  200   1800 -1.252518807101895e-01 3.3e+01 2.11e-02  9e-04  7e-03 1:58.9\n",
      "  229   2061 -1.251761166261991e-01 3.1e+01 1.83e-02  6e-04  5e-03 2:16.0\n",
      "  262   2358 -1.253371343045856e-01 5.2e+01 2.96e-03  9e-05  5e-04 2:34.5\n",
      "  289   2601 -1.251898281142069e-01 8.2e+01 4.61e-03  7e-05  9e-04 2:53.6\n",
      "  300   2700 -1.252909261856338e-01 1.1e+02 3.44e-03  4e-05  6e-04 2:59.9\n",
      "  338   3042 -1.251919544510848e-01 1.6e+02 6.73e-03  9e-05  1e-03 3:21.3\n",
      "  376   3384 -1.252923162210289e-01 2.0e+02 1.82e-02  4e-04  3e-03 3:43.3\n",
      "  400   3600 -1.252429768785775e-01 2.7e+02 2.48e-02  4e-04  3e-03 3:58.0\n",
      "  441   3969 -1.253645332339470e-01 2.1e+02 2.43e-02  3e-04  2e-03 4:22.4\n",
      "  484   4356 -1.252552396528740e-01 3.0e+02 1.29e-02  1e-04  8e-04 4:47.7\n",
      "  500   4500 -1.253197414919240e-01 3.3e+02 5.69e-03  5e-05  3e-04 4:57.2\n",
      "  505   4545 -1.253107074155646e-01 4.0e+02 6.88e-03  5e-05  4e-04 5:01.6\n"
     ]
    },
    {
     "name": "stderr",
     "output_type": "stream",
     "text": [
      "reconstraining parameters GP_regression.Mat52.lengthscale\n",
      "reconstraining parameters GP_regression.Mat52.variance\n",
      "reconstraining parameters GP_regression.Gaussian_noise.variance\n"
     ]
    },
    {
     "name": "stdout",
     "output_type": "stream",
     "text": [
      "termination on tolstagnation=263 (Sun Aug 23 16:08:15 2020)\n",
      "final/bestever f-value = -1.249791e-01 -1.255436e-01\n",
      "incumbent solution: [1.0293015685870714, 3.5829384561228803, 2.4598424765647624, 2.969566522412906, 3.5501956047049443, 4.70857945351043]\n",
      "std deviation: [8.051624454204381e-05, 4.8783456297950166e-05, 0.00034501432665759994, 0.00019046558166329418, 0.0003359089352756879, 0.0003733596787389803]\n",
      "Optimization restart 1/10, f = 17.301064430106088\n",
      "Optimization restart 2/10, f = 524.9790997733473\n",
      "Optimization restart 3/10, f = 102.39284343053093\n",
      "Optimization restart 4/10, f = 552.6299358436817\n",
      "Optimization restart 5/10, f = 122.5329989553189\n",
      "Optimization restart 6/10, f = 104.94218963762788\n",
      "Optimization restart 7/10, f = 131.91439560603297\n",
      "Optimization restart 8/10, f = 105.26619236770772\n",
      "Optimization restart 9/10, f = 152.9486110148999\n"
     ]
    },
    {
     "name": "stderr",
     "output_type": "stream",
     "text": [
      "reconstraining parameters GP_regression.Mat52.lengthscale\n",
      "reconstraining parameters GP_regression.Mat52.variance\n",
      "reconstraining parameters GP_regression.Gaussian_noise.variance\n"
     ]
    },
    {
     "name": "stdout",
     "output_type": "stream",
     "text": [
      "Optimization restart 10/10, f = 105.04247514959856\n",
      "Optimization restart 1/10, f = -32.76158030332982\n",
      "Optimization restart 2/10, f = 131.96128358803458\n",
      "Optimization restart 3/10, f = 58.43358392955094\n",
      "Optimization restart 4/10, f = 48.8126128654972\n",
      "Optimization restart 5/10, f = 620.8036930313851\n",
      "Optimization restart 6/10, f = -32.761580303034634\n",
      "Optimization restart 7/10, f = 620.8127827091546\n",
      "Optimization restart 8/10, f = 129.29149123171928\n",
      "Optimization restart 9/10, f = 79.0836959956813\n",
      "Optimization restart 10/10, f = 131.96128358798998\n",
      "(4_w,9)-aCMA-ES (mu_w=2.8,w_1=49%) in dimension 6 (seed=332516, Sun Aug 23 16:08:26 2020)\n",
      "Iterat #Fevals   function value  axis ratio  sigma  min&max std  t[m:s]\n",
      "    1      9 4.803131272485444e-01 1.0e+00 2.51e-01  2e-01  3e-01 0:00.5\n",
      "    2     18 4.528097498255511e-01 1.3e+00 2.84e-01  3e-01  3e-01 0:01.2\n",
      "    3     27 4.369751852774142e-01 1.4e+00 3.17e-01  3e-01  4e-01 0:01.7\n",
      "    9     81 2.543696826884496e-01 2.1e+00 5.49e-01  5e-01  6e-01 0:05.2\n",
      "   16    144 1.389845588136180e-01 3.1e+00 9.65e-01  7e-01  1e+00 0:09.3\n",
      "   25    225 7.078675620445916e-03 3.7e+00 6.95e-01  4e-01  9e-01 0:14.8\n",
      "   36    324 -7.182510417900601e-02 3.6e+00 3.25e-01  1e-01  4e-01 0:21.2\n",
      "   49    441 -9.270041958757692e-02 6.7e+00 2.42e-01  5e-02  3e-01 0:29.0\n",
      "   63    567 -1.063432186175587e-01 1.6e+01 9.87e-02  1e-02  1e-01 0:37.0\n",
      "   79    711 -1.161871906058389e-01 3.6e+01 7.91e-02  5e-03  8e-02 0:46.5\n",
      "   96    864 -1.172300610925428e-01 4.6e+01 2.11e-02  1e-03  2e-02 0:56.9\n",
      "  100    900 -1.173052675368277e-01 4.5e+01 1.46e-02  7e-04  1e-02 0:59.5\n",
      "  120   1080 -1.173243372599690e-01 5.8e+01 1.57e-02  7e-04  1e-02 1:11.6\n",
      "  143   1287 -1.178549562570193e-01 1.1e+02 9.11e-03  3e-04  6e-03 1:25.0\n",
      "  168   1512 -1.173953763901462e-01 1.7e+02 1.06e-02  3e-04  6e-03 1:39.2\n",
      "  191   1719 -1.173638016694961e-01 3.3e+02 1.81e-02  5e-04  1e-02 1:54.8\n",
      "  200   1800 -1.174746891021652e-01 2.5e+02 2.56e-02  8e-04  2e-02 2:00.5\n",
      "  230   2070 -1.173164345043067e-01 2.9e+02 2.77e-02  8e-04  1e-02 2:17.9\n",
      "  260   2340 -1.172507262919073e-01 1.6e+02 2.17e-02  5e-04  6e-03 2:36.4\n",
      "  291   2619 -1.174520998746439e-01 3.6e+02 1.34e-02  3e-04  5e-03 2:55.7\n",
      "  300   2700 -1.172207964556807e-01 3.2e+02 1.01e-02  2e-04  3e-03 3:00.8\n",
      "  337   3033 -1.174262859071672e-01 4.1e+02 7.61e-03  1e-04  2e-03 3:22.2\n",
      "  375   3375 -1.175190565658659e-01 5.3e+02 9.86e-03  1e-04  2e-03 3:44.8\n",
      "  400   3600 -1.174292957398748e-01 7.9e+02 1.80e-02  2e-04  4e-03 4:00.5\n",
      "  438   3942 -1.174140330306143e-01 1.1e+03 1.66e-02  2e-04  4e-03 4:24.7\n",
      "  482   4338 -1.178115898202569e-01 2.0e+03 1.31e-02  1e-04  2e-03 4:50.3\n",
      "  500   4500 -1.173816504866246e-01 1.9e+03 9.78e-03  8e-05  1e-03 5:01.5\n",
      "  546   4914 -1.172368703782065e-01 3.5e+03 5.07e-03  3e-05  4e-04 5:29.0\n",
      "  594   5346 -1.175743852891321e-01 5.5e+03 2.20e-03  6e-06  1e-04 5:57.4\n",
      "  600   5400 -1.173308071433764e-01 5.0e+03 1.42e-03  3e-06  7e-05 6:00.8\n",
      "  635   5715 -1.174054133168454e-01 9.9e+03 1.49e-03  3e-06  7e-05 6:23.6\n"
     ]
    },
    {
     "name": "stderr",
     "output_type": "stream",
     "text": [
      "reconstraining parameters GP_regression.Mat52.lengthscale\n",
      "reconstraining parameters GP_regression.Mat52.variance\n",
      "reconstraining parameters GP_regression.Gaussian_noise.variance\n"
     ]
    },
    {
     "name": "stdout",
     "output_type": "stream",
     "text": [
      "termination on tolstagnation=263 (Sun Aug 23 16:14:51 2020)\n",
      "final/bestever f-value = -1.172456e-01 -1.180347e-01\n",
      "incumbent solution: [0.867633291970972, 0.3037330721151305, 2.6770983719445067, 2.960352453255288, 3.766957730596653, 4.554349001497971]\n",
      "std deviation: [3.1129303419711073e-06, 2.270395416639526e-05, 4.46023322022714e-05, 4.4825854690465996e-05, 2.2168505492427723e-05, 7.482540651549805e-05]\n",
      "Optimization restart 1/10, f = 15.887321915530755\n",
      "Optimization restart 2/10, f = 102.9288738706758\n",
      "Optimization restart 3/10, f = 25.105884734661174\n",
      "Optimization restart 4/10, f = 46.48065117897783\n",
      "Optimization restart 5/10, f = 133.3802221211765\n",
      "Optimization restart 6/10, f = 627.4881889748444\n",
      "Optimization restart 7/10, f = 132.07562958048155\n",
      "Optimization restart 8/10, f = 129.02558163079433\n",
      "Optimization restart 9/10, f = 100.02157422721197\n"
     ]
    },
    {
     "name": "stderr",
     "output_type": "stream",
     "text": [
      "reconstraining parameters GP_regression.Mat52.lengthscale\n",
      "reconstraining parameters GP_regression.Mat52.variance\n",
      "reconstraining parameters GP_regression.Gaussian_noise.variance\n"
     ]
    },
    {
     "name": "stdout",
     "output_type": "stream",
     "text": [
      "Optimization restart 10/10, f = 129.025582368604\n",
      "Optimization restart 1/10, f = -35.058679222691396\n",
      "Optimization restart 2/10, f = 123.74896609824127\n",
      "Optimization restart 3/10, f = -35.05867922299059\n",
      "Optimization restart 4/10, f = 103.96478904179914\n",
      "Optimization restart 5/10, f = 133.38012633056042\n",
      "Optimization restart 6/10, f = 109.72445288605867\n",
      "Optimization restart 7/10, f = 696.2243171112273\n",
      "Optimization restart 8/10, f = 133.3802247588597\n",
      "Optimization restart 9/10, f = 29.478029241815094\n",
      "Optimization restart 10/10, f = 130.71879293350094\n",
      "(4_w,9)-aCMA-ES (mu_w=2.8,w_1=49%) in dimension 6 (seed=381704, Sun Aug 23 16:15:02 2020)\n",
      "Iterat #Fevals   function value  axis ratio  sigma  min&max std  t[m:s]\n",
      "    1      9 1.596932893925071e-01 1.0e+00 2.40e-01  2e-01  3e-01 0:00.5\n",
      "    2     18 9.743411945238958e-02 1.2e+00 2.85e-01  3e-01  3e-01 0:01.1\n",
      "    3     27 1.239769822488166e-01 1.3e+00 2.89e-01  3e-01  3e-01 0:01.7\n",
      "    8     72 2.284048461673821e-02 1.9e+00 5.94e-01  6e-01  7e-01 0:04.9\n",
      "   15    135 -1.328353789153348e-02 2.2e+00 4.81e-01  4e-01  5e-01 0:09.0\n",
      "   24    216 -8.397839169938617e-02 2.7e+00 2.86e-01  2e-01  3e-01 0:14.3\n",
      "   35    315 -9.913362628196684e-02 3.9e+00 1.24e-01  5e-02  1e-01 0:20.8\n",
      "   47    423 -1.040003719383389e-01 9.5e+00 5.87e-02  2e-02  6e-02 0:28.0\n",
      "   61    549 -1.044203000383013e-01 1.6e+01 2.40e-02  4e-03  2e-02 0:36.4\n",
      "   77    693 -1.044287025112157e-01 2.3e+01 1.40e-02  2e-03  1e-02 0:45.8\n",
      "   95    855 -1.045079194042875e-01 2.7e+01 1.74e-02  3e-03  2e-02 0:56.3\n",
      "  100    900 -1.044692641497099e-01 2.7e+01 1.32e-02  2e-03  1e-02 0:59.4\n",
      "  121   1089 -1.046480742651204e-01 3.6e+01 9.51e-03  1e-03  8e-03 1:11.5\n",
      "  142   1278 -1.045927198717515e-01 6.4e+01 1.39e-02  2e-03  1e-02 1:24.7\n",
      "  167   1503 -1.046607838691298e-01 7.0e+01 1.03e-02  2e-03  9e-03 1:39.2\n",
      "  190   1710 -1.047332419978896e-01 8.6e+01 7.08e-03  8e-04  5e-03 1:54.4\n",
      "  200   1800 -1.046700451748808e-01 1.2e+02 5.20e-03  7e-04  3e-03 2:00.5\n",
      "  229   2061 -1.046738394458268e-01 1.3e+02 6.43e-03  7e-04  4e-03 2:18.0\n",
      "  260   2340 -1.047278690207505e-01 2.4e+02 3.69e-03  4e-04  2e-03 2:36.1\n",
      "  293   2637 -1.045247525396168e-01 3.2e+02 1.09e-03  9e-05  4e-04 2:55.6\n",
      "  300   2700 -1.045349482857770e-01 2.6e+02 1.08e-03  8e-05  4e-04 2:59.9\n",
      "  337   3033 -1.045271781275435e-01 4.5e+02 1.14e-03  7e-05  4e-04 3:21.3\n",
      "  376   3384 -1.046387972609602e-01 4.8e+02 3.65e-03  2e-04  9e-04 3:43.9\n",
      "  400   3600 -1.044209615086562e-01 7.5e+02 3.67e-03  2e-04  1e-03 3:58.2\n",
      "  436   3924 -1.045757993092731e-01 1.0e+03 2.43e-03  8e-05  4e-04 4:22.6\n",
      "  480   4320 -1.046199395903075e-01 1.1e+03 3.33e-03  8e-05  5e-04 4:48.1\n",
      "  500   4500 -1.047942350117949e-01 2.3e+03 1.61e-03  4e-05  3e-04 5:00.1\n",
      "  505   4545 -1.044687809595017e-01 2.9e+03 1.74e-03  3e-05  4e-04 5:03.1\n"
     ]
    },
    {
     "name": "stderr",
     "output_type": "stream",
     "text": [
      "reconstraining parameters GP_regression.Mat52.lengthscale\n",
      "reconstraining parameters GP_regression.Mat52.variance\n",
      "reconstraining parameters GP_regression.Gaussian_noise.variance\n"
     ]
    },
    {
     "name": "stdout",
     "output_type": "stream",
     "text": [
      "termination on tolstagnation=263 (Sun Aug 23 16:20:06 2020)\n",
      "final/bestever f-value = -1.043199e-01 -1.048969e-01\n",
      "incumbent solution: [0.38245859160290996, 1.3127498034349843, 2.2307087220407915, 3.162132307101104, 4.593300971090253, 3.955153632185522]\n",
      "std deviation: [7.802025899020241e-05, 6.540713139609457e-05, 3.3639161874185234e-05, 0.00012072976974106675, 0.00028499155443859807, 0.00035253259343526877]\n",
      "Optimization restart 1/10, f = 15.389327136907959\n",
      "Optimization restart 2/10, f = 134.798959137335\n",
      "Optimization restart 3/10, f = 134.79915434818622\n",
      "Optimization restart 4/10, f = 133.64540172045184\n",
      "Optimization restart 5/10, f = 41.017265027166\n",
      "Optimization restart 6/10, f = 15.389327139308747\n",
      "Optimization restart 7/10, f = 134.76155653572408\n",
      "Optimization restart 8/10, f = 133.6453965809016\n",
      "Optimization restart 9/10, f = 15.389327136478244\n"
     ]
    },
    {
     "name": "stderr",
     "output_type": "stream",
     "text": [
      "reconstraining parameters GP_regression.Mat52.lengthscale\n",
      "reconstraining parameters GP_regression.Mat52.variance\n",
      "reconstraining parameters GP_regression.Gaussian_noise.variance\n"
     ]
    },
    {
     "name": "stdout",
     "output_type": "stream",
     "text": [
      "Optimization restart 10/10, f = 132.44145734879896\n",
      "Optimization restart 1/10, f = -37.50967574495496\n",
      "Optimization restart 2/10, f = 634.161820085822\n",
      "Optimization restart 3/10, f = 3121571964.8719316\n",
      "Optimization restart 4/10, f = 134.7991606544441\n",
      "Optimization restart 5/10, f = 131.16731245838412\n",
      "Optimization restart 6/10, f = 134.79916065444422\n",
      "Optimization restart 7/10, f = 129.06958462955737\n",
      "Optimization restart 8/10, f = 134.79916046774184\n",
      "Optimization restart 9/10, f = 363.47821845760086\n",
      "Optimization restart 10/10, f = 134.70662982935454\n",
      "(4_w,9)-aCMA-ES (mu_w=2.8,w_1=49%) in dimension 6 (seed=243061, Sun Aug 23 16:20:15 2020)\n",
      "Iterat #Fevals   function value  axis ratio  sigma  min&max std  t[m:s]\n",
      "    1      9 3.515646575803891e-01 1.0e+00 2.29e-01  2e-01  2e-01 0:00.6\n",
      "    2     18 2.991690350059119e-01 1.2e+00 2.39e-01  2e-01  3e-01 0:01.2\n",
      "    3     27 3.267255847036721e-01 1.5e+00 2.57e-01  2e-01  3e-01 0:01.8\n",
      "    9     81 4.208564158647352e-02 2.1e+00 5.08e-01  4e-01  6e-01 0:05.2\n",
      "   16    144 -3.066523564926315e-02 2.6e+00 2.29e-01  1e-01  3e-01 0:09.3\n",
      "   25    225 -6.156821707118224e-02 2.9e+00 1.68e-01  9e-02  2e-01 0:14.6\n",
      "   35    315 -7.099359005793755e-02 4.5e+00 1.02e-01  3e-02  1e-01 0:20.7\n",
      "   47    423 -8.307250025485484e-02 7.3e+00 1.29e-01  3e-02  1e-01 0:27.9\n",
      "   61    549 -9.468624644644122e-02 1.3e+01 7.58e-02  1e-02  8e-02 0:36.4\n",
      "   77    693 -9.989067774041352e-02 2.1e+01 8.08e-02  7e-03  8e-02 0:45.8\n",
      "   94    846 -1.009201136519687e-01 2.5e+01 2.39e-02  1e-03  2e-02 0:56.4\n",
      "  100    900 -1.009614564132201e-01 2.6e+01 1.30e-02  8e-04  8e-03 1:00.1\n",
      "  120   1080 -1.007732969839419e-01 7.3e+01 1.79e-02  8e-04  1e-02 1:12.6\n",
      "  143   1287 -1.008773655388171e-01 7.5e+01 6.77e-03  2e-04  3e-03 1:26.1\n",
      "  164   1476 -1.010581113752040e-01 7.7e+01 7.89e-03  3e-04  3e-03 1:40.6\n",
      "  189   1701 -1.009133722354953e-01 1.2e+02 4.39e-03  2e-04  2e-03 1:55.9\n",
      "  200   1800 -1.011708986244964e-01 1.4e+02 7.47e-03  3e-04  3e-03 2:02.5\n",
      "  229   2061 -1.009936654547487e-01 2.4e+02 4.21e-03  2e-04  1e-03 2:20.1\n",
      "  259   2331 -1.009328669195218e-01 2.9e+02 3.94e-03  1e-04  1e-03 2:38.4\n",
      "  290   2610 -1.010231287399173e-01 7.0e+02 7.91e-03  1e-04  3e-03 2:57.8\n",
      "  300   2700 -1.011001701030016e-01 9.5e+02 1.01e-02  1e-04  4e-03 3:04.1\n",
      "  335   3015 -1.008608494117516e-01 1.9e+03 1.68e-02  2e-04  5e-03 3:25.3\n",
      "  372   3348 -1.009531306076396e-01 1.6e+03 2.05e-02  4e-04  5e-03 3:47.9\n",
      "  400   3600 -1.008787325460149e-01 2.6e+03 1.67e-02  3e-04  4e-03 4:08.0\n",
      "  442   3978 -1.010968158212721e-01 3.2e+03 1.53e-02  2e-04  2e-03 4:32.2\n",
      "  484   4356 -1.010368470290870e-01 2.3e+03 4.97e-03  4e-05  5e-04 4:57.5\n",
      "  500   4500 -1.008882790835158e-01 3.0e+03 9.53e-03  7e-05  1e-03 5:07.5\n",
      "  547   4923 -1.010609783819629e-01 6.4e+03 7.20e-03  3e-05  1e-03 5:34.9\n",
      "  593   5337 -1.009519398797793e-01 1.3e+04 6.97e-03  2e-05  1e-03 6:03.1\n",
      "  600   5400 -1.008746493444612e-01 1.2e+04 6.30e-03  1e-05  1e-03 6:07.2\n",
      "  640   5760 -1.009489857311309e-01 1.7e+04 1.20e-02  4e-05  2e-03 6:34.8\n"
     ]
    },
    {
     "name": "stderr",
     "output_type": "stream",
     "text": [
      "reconstraining parameters GP_regression.Mat52.lengthscale\n",
      "reconstraining parameters GP_regression.Mat52.variance\n",
      "reconstraining parameters GP_regression.Gaussian_noise.variance\n"
     ]
    },
    {
     "name": "stdout",
     "output_type": "stream",
     "text": [
      "termination on tolstagnation=263 (Sun Aug 23 16:26:50 2020)\n",
      "final/bestever f-value = -1.009294e-01 -1.013866e-01\n",
      "incumbent solution: [1.078338532757789, 2.552574121131836, 2.424336922720854, 3.543056350473023, 5.193362366544652, 5.140515440779861]\n",
      "std deviation: [0.00016333852675565506, 3.800765084549043e-05, 0.0002918188174578113, 0.0011844459559818385, 0.002019853790780523, 0.0001971442930035692]\n",
      "Optimization restart 1/10, f = 16.78437162418537\n",
      "Optimization restart 2/10, f = 585.8100841678294\n",
      "Optimization restart 3/10, f = 578.8924714386243\n",
      "Optimization restart 4/10, f = 101.57976707385046\n",
      "Optimization restart 5/10, f = 135.80471723366605\n",
      "Optimization restart 6/10, f = 607.9236192715641\n",
      "Optimization restart 7/10, f = 136.2180991876486\n",
      "Optimization restart 8/10, f = 519.4565082623105\n",
      "Optimization restart 9/10, f = 640.8390015062242\n"
     ]
    },
    {
     "name": "stderr",
     "output_type": "stream",
     "text": [
      "reconstraining parameters GP_regression.Mat52.lengthscale\n",
      "reconstraining parameters GP_regression.Mat52.variance\n",
      "reconstraining parameters GP_regression.Gaussian_noise.variance\n"
     ]
    },
    {
     "name": "stdout",
     "output_type": "stream",
     "text": [
      "Optimization restart 10/10, f = 133.99360612986248\n",
      "Optimization restart 1/10, f = -38.43150790295407\n",
      "Optimization restart 2/10, f = -38.43150790207319\n",
      "Optimization restart 3/10, f = -38.43150790198942\n",
      "Optimization restart 4/10, f = 78.01736347827593\n",
      "Optimization restart 5/10, f = 640.8390015062242\n",
      "Optimization restart 6/10, f = 113.05327981736548\n",
      "Optimization restart 7/10, f = 14.202129907128239\n",
      "Optimization restart 8/10, f = 61.96814325726406\n",
      "Optimization restart 9/10, f = -38.4315078992439\n",
      "Optimization restart 10/10, f = 135.3947176263152\n",
      "(4_w,9)-aCMA-ES (mu_w=2.8,w_1=49%) in dimension 6 (seed=212046, Sun Aug 23 16:27:01 2020)\n",
      "Iterat #Fevals   function value  axis ratio  sigma  min&max std  t[m:s]\n",
      "    1      9 2.728155299806072e-01 1.0e+00 2.45e-01  2e-01  3e-01 0:00.6\n",
      "    2     18 2.082552163510970e-01 1.3e+00 2.67e-01  2e-01  3e-01 0:01.3\n",
      "    3     27 1.815756981070671e-01 1.5e+00 3.14e-01  3e-01  4e-01 0:02.0\n",
      "    9     81 1.443763136382993e-01 2.4e+00 3.06e-01  2e-01  4e-01 0:05.5\n",
      "   16    144 5.585002758662785e-02 3.3e+00 3.21e-01  1e-01  4e-01 0:09.7\n",
      "   25    225 9.363525463904655e-03 3.7e+00 3.19e-01  1e-01  4e-01 0:15.0\n",
      "   35    315 -4.339352162875992e-02 6.5e+00 3.88e-01  1e-01  5e-01 0:21.3\n",
      "   47    423 -6.352248809307683e-02 6.4e+00 1.93e-01  4e-02  2e-01 0:28.5\n",
      "   61    549 -6.597755745392951e-02 7.5e+00 8.92e-02  1e-02  9e-02 0:36.8\n",
      "   76    684 -6.572075806988938e-02 9.5e+00 8.52e-02  1e-02  9e-02 0:46.1\n",
      "   93    837 -6.674253294620555e-02 1.3e+01 6.33e-02  5e-03  6e-02 0:56.4\n",
      "  100    900 -6.678971448338139e-02 1.4e+01 4.39e-02  3e-03  4e-02 1:00.7\n",
      "  120   1080 -6.641879698986131e-02 1.9e+01 4.12e-02  2e-03  4e-02 1:12.9\n",
      "  142   1278 -6.580917518770769e-02 2.1e+01 1.77e-02  8e-04  9e-03 1:25.9\n",
      "  166   1494 -6.585199204435280e-02 3.7e+01 3.29e-02  2e-03  2e-02 1:40.0\n",
      "  191   1719 -6.662141262752640e-02 7.0e+01 2.86e-02  1e-03  2e-02 1:55.5\n",
      "  200   1800 -6.696825157136514e-02 5.6e+01 4.82e-02  2e-03  3e-02 2:02.2\n",
      "  226   2034 -6.613180660025562e-02 4.0e+01 3.11e-02  9e-04  1e-02 2:19.6\n",
      "  257   2313 -6.641658112748726e-02 3.8e+01 5.20e-02  9e-04  2e-02 2:37.9\n",
      "  288   2592 -6.769969500890287e-02 6.2e+01 1.26e-01  3e-03  5e-02 2:57.0\n",
      "  300   2700 -6.769735700169956e-02 5.5e+01 1.33e-01  3e-03  3e-02 3:04.4\n",
      "  337   3033 -6.659456909288172e-02 6.9e+01 6.32e-02  1e-03  1e-02 3:26.0\n",
      "  374   3366 -6.739895132570599e-02 1.1e+02 3.69e-02  5e-04  7e-03 3:48.6\n",
      "  400   3600 -6.708602484890475e-02 1.5e+02 6.21e-02  8e-04  1e-02 4:04.7\n",
      "  438   3942 -6.738578225379431e-02 4.1e+02 1.22e-01  1e-03  3e-02 4:28.8\n",
      "  479   4311 -6.664583533212651e-02 7.4e+02 7.07e-02  7e-04  1e-02 4:54.3\n",
      "  500   4500 -6.752630016526093e-02 6.6e+02 6.11e-02  5e-04  8e-03 5:09.6\n",
      "  505   4545 -6.669263594695943e-02 7.5e+02 4.89e-02  4e-04  7e-03 5:12.6\n",
      "termination on tolstagnation=263 (Sun Aug 23 16:32:14 2020)\n",
      "final/bestever f-value = -6.652410e-02 -6.875149e-02\n",
      "incumbent solution: [0.0009020658473266947, 1.2838965972291505, 2.295478306993628, 2.9171345926388073, 4.880651220680015, 4.145355934406925]\n",
      "std deviation: [0.00130542874750492, 0.0003707822731804542, 0.0023326970562065038, 0.0011818186705196384, 0.006520270613513816, 0.0023551692234647283]\n"
     ]
    },
    {
     "name": "stderr",
     "output_type": "stream",
     "text": [
      "reconstraining parameters GP_regression.Mat52.lengthscale\n",
      "reconstraining parameters GP_regression.Mat52.variance\n",
      "reconstraining parameters GP_regression.Gaussian_noise.variance\n"
     ]
    },
    {
     "name": "stdout",
     "output_type": "stream",
     "text": [
      "Optimization restart 1/10, f = 16.20159943664119\n",
      "Optimization restart 2/10, f = 2541846886.8632116\n",
      "Optimization restart 3/10, f = 99.79926148159495\n",
      "Optimization restart 4/10, f = 94.64183591884571\n",
      "Optimization restart 5/10, f = 219.01179852987673\n",
      "Optimization restart 6/10, f = 146.3014939892069\n",
      "Optimization restart 7/10, f = 34.4777347937066\n",
      "Optimization restart 8/10, f = 647.514407771914\n",
      "Optimization restart 9/10, f = 135.492618221028\n"
     ]
    },
    {
     "name": "stderr",
     "output_type": "stream",
     "text": [
      "reconstraining parameters GP_regression.Mat52.lengthscale\n",
      "reconstraining parameters GP_regression.Mat52.variance\n",
      "reconstraining parameters GP_regression.Gaussian_noise.variance\n"
     ]
    },
    {
     "name": "stdout",
     "output_type": "stream",
     "text": [
      "Optimization restart 10/10, f = 103.09752573651016\n",
      "Optimization restart 1/10, f = -39.6096723841475\n",
      "Optimization restart 2/10, f = 122.9919804192049\n",
      "Optimization restart 3/10, f = 647.514407771914\n",
      "Optimization restart 4/10, f = 603.3275160555623\n",
      "Optimization restart 5/10, f = 644.8798251258825\n",
      "Optimization restart 6/10, f = 647.514407771914\n",
      "Optimization restart 7/10, f = 136.81898442871787\n",
      "Optimization restart 8/10, f = 604.7841601234587\n",
      "Optimization restart 9/10, f = -13.64714851463878\n",
      "Optimization restart 10/10, f = 34.16378266780593\n",
      "(4_w,9)-aCMA-ES (mu_w=2.8,w_1=49%) in dimension 6 (seed=250211, Sun Aug 23 16:32:24 2020)\n",
      "Iterat #Fevals   function value  axis ratio  sigma  min&max std  t[m:s]\n",
      "    1      9 4.867597098580573e-01 1.0e+00 2.44e-01  2e-01  2e-01 0:00.6\n",
      "    2     18 4.932280108119860e-01 1.3e+00 2.58e-01  2e-01  3e-01 0:01.2\n",
      "    3     27 4.228625739408231e-01 1.4e+00 3.06e-01  3e-01  4e-01 0:01.8\n",
      "    8     72 3.151564515364695e-01 2.6e+00 4.89e-01  4e-01  7e-01 0:05.0\n",
      "   15    135 3.143035129882870e-01 2.5e+00 2.95e-01  2e-01  3e-01 0:09.3\n",
      "   24    216 2.872486958427999e-01 2.7e+00 2.17e-01  1e-01  2e-01 0:14.8\n",
      "   34    306 2.657754722094764e-01 4.3e+00 3.02e-01  1e-01  4e-01 0:21.0\n",
      "   45    405 2.562752595161046e-01 4.4e+00 1.33e-01  4e-02  1e-01 0:28.4\n",
      "   58    522 2.564477583716499e-01 5.0e+00 1.03e-01  3e-02  8e-02 0:36.5\n",
      "   72    648 2.508981340866034e-01 4.7e+00 6.27e-02  1e-02  4e-02 0:45.9\n",
      "   88    792 2.569023092458549e-01 5.6e+00 3.91e-02  7e-03  2e-02 0:56.2\n",
      "  100    900 2.515504215756240e-01 7.7e+00 2.40e-02  4e-03  1e-02 1:03.5\n",
      "  120   1080 2.520238370370617e-01 1.9e+01 2.30e-02  4e-03  2e-02 1:16.2\n",
      "  142   1278 2.568151105757645e-01 2.3e+01 2.19e-02  4e-03  2e-02 1:29.6\n",
      "  165   1485 2.565392433886114e-01 3.0e+01 1.92e-02  4e-03  2e-02 1:43.7\n",
      "  190   1710 2.530455538807608e-01 4.1e+01 1.81e-02  3e-03  1e-02 1:58.8\n",
      "  200   1800 2.541191520751027e-01 5.1e+01 2.66e-02  5e-03  2e-02 2:04.8\n",
      "  228   2052 2.560745835893711e-01 4.8e+01 1.28e-02  1e-03  6e-03 2:22.2\n",
      "  253   2277 2.535140366512090e-01 4.9e+01 1.67e-02  2e-03  8e-03 2:40.5\n",
      "  284   2556 2.537582515404804e-01 1.3e+02 1.60e-02  2e-03  1e-02 2:59.7\n",
      "  300   2700 2.561436107835094e-01 1.1e+02 5.75e-02  7e-03  3e-02 3:09.4\n",
      "  335   3015 2.524652083319532e-01 2.0e+02 9.92e-02  1e-02  4e-02 3:30.6\n",
      "  370   3330 2.536137159881180e-01 2.3e+02 4.18e-02  2e-03  1e-02 3:52.9\n",
      "  400   3600 2.486451438158165e-01 1.6e+02 7.29e-02  3e-03  1e-02 4:11.5\n",
      "  438   3942 2.552080793913100e-01 1.9e+02 2.50e-02  6e-04  3e-03 4:36.1\n",
      "  479   4311 2.539830382267287e-01 1.9e+02 8.24e-02  2e-03  7e-03 5:01.5\n",
      "  500   4500 2.522690979075043e-01 4.0e+02 4.90e-02  1e-03  5e-03 5:14.2\n",
      "  541   4869 2.519277010545756e-01 6.1e+02 1.88e-02  3e-04  1e-03 5:41.5\n",
      "  586   5274 2.535892767347568e-01 5.6e+02 2.39e-02  2e-04  9e-04 6:09.7\n",
      "  600   5400 2.539169336615948e-01 8.6e+02 4.11e-02  3e-04  1e-03 6:18.0\n",
      "  605   5445 2.538046518630955e-01 8.8e+02 5.07e-02  3e-04  2e-03 6:21.4\n"
     ]
    },
    {
     "name": "stderr",
     "output_type": "stream",
     "text": [
      "reconstraining parameters GP_regression.Mat52.lengthscale\n",
      "reconstraining parameters GP_regression.Mat52.variance\n",
      "reconstraining parameters GP_regression.Gaussian_noise.variance\n"
     ]
    },
    {
     "name": "stdout",
     "output_type": "stream",
     "text": [
      "termination on tolstagnation=263 (Sun Aug 23 16:38:46 2020)\n",
      "final/bestever f-value = 2.564988e-01 2.456224e-01\n",
      "incumbent solution: [1.9999473074317575, 0.0006523899018133969, 5.995773020358878, 0.0029921731154697547, 0.7129320299307151, 11.997777221576133]\n",
      "std deviation: [0.000336089738553743, 0.0012608704325582836, 0.0013535716559186664, 0.0014994875269840474, 0.0008138901462799238, 0.0016887952999114883]\n",
      "Optimization restart 1/10, f = 16.765740401690103\n",
      "Optimization restart 2/10, f = 118.66295998398442\n",
      "Optimization restart 3/10, f = 104.93302953954222\n",
      "Optimization restart 4/10, f = 139.05389029019938\n",
      "Optimization restart 5/10, f = 22.01301951291149\n",
      "Optimization restart 6/10, f = 139.05490982498958\n",
      "Optimization restart 7/10, f = 137.9069843302089\n",
      "Optimization restart 8/10, f = 112.68485282329763\n",
      "Optimization restart 9/10, f = 16.765740402901784\n"
     ]
    },
    {
     "name": "stderr",
     "output_type": "stream",
     "text": [
      "reconstraining parameters GP_regression.Mat52.lengthscale\n",
      "reconstraining parameters GP_regression.Mat52.variance\n",
      "reconstraining parameters GP_regression.Gaussian_noise.variance\n"
     ]
    },
    {
     "name": "stdout",
     "output_type": "stream",
     "text": [
      "Optimization restart 10/10, f = 137.4775525069957\n",
      "Optimization restart 1/10, f = -39.17346723270786\n",
      "Optimization restart 2/10, f = -39.173467232411696\n",
      "Optimization restart 3/10, f = 25.48777105490909\n",
      "Optimization restart 4/10, f = 4894630.866593538\n",
      "Optimization restart 5/10, f = 118.57190457637208\n",
      "Optimization restart 6/10, f = 138.22987288443431\n",
      "Optimization restart 7/10, f = -39.17346723226413\n",
      "Optimization restart 8/10, f = 61.26118443730529\n",
      "Optimization restart 9/10, f = 100.21436905479392\n",
      "Optimization restart 10/10, f = -39.17346723293797\n",
      "(4_w,9)-aCMA-ES (mu_w=2.8,w_1=49%) in dimension 6 (seed=303103, Sun Aug 23 16:38:59 2020)\n",
      "Iterat #Fevals   function value  axis ratio  sigma  min&max std  t[m:s]\n",
      "    1      9 4.353133223797657e-01 1.0e+00 2.72e-01  3e-01  3e-01 0:00.6\n",
      "    2     18 4.429262207628358e-01 1.4e+00 2.90e-01  3e-01  3e-01 0:01.4\n",
      "    3     27 4.097978724307870e-01 1.6e+00 3.07e-01  3e-01  4e-01 0:02.0\n",
      "    8     72 2.562102920447701e-01 2.3e+00 4.88e-01  4e-01  7e-01 0:05.1\n",
      "   15    135 6.756383445622757e-02 3.1e+00 8.02e-01  5e-01  1e+00 0:09.6\n",
      "   23    207 9.117246656262982e-03 2.8e+00 6.65e-01  4e-01  8e-01 0:14.8\n",
      "   32    288 2.074690557503586e-02 3.1e+00 6.49e-01  3e-01  8e-01 0:20.9\n",
      "   44    396 -1.021402712889166e-01 3.7e+00 2.72e-01  1e-01  3e-01 0:28.4\n",
      "   58    522 -1.217742744315332e-01 4.5e+00 1.27e-01  3e-02  1e-01 0:36.9\n",
      "   73    657 -1.223065211017129e-01 5.6e+00 7.33e-02  1e-02  6e-02 0:46.1\n",
      "   90    810 -1.220648468213673e-01 1.0e+01 3.38e-02  3e-03  3e-02 0:56.7\n",
      "  100    900 -1.229375420770859e-01 1.1e+01 3.15e-02  3e-03  2e-02 1:03.4\n",
      "  119   1071 -1.235208843572200e-01 1.7e+01 3.54e-02  4e-03  3e-02 1:15.5\n",
      "  139   1251 -1.231722360612169e-01 2.7e+01 3.49e-02  4e-03  3e-02 1:28.8\n",
      "  160   1440 -1.223466339225144e-01 3.8e+01 2.42e-02  2e-03  1e-02 1:43.0\n",
      "  185   1665 -1.230729681128327e-01 3.3e+01 2.90e-02  2e-03  1e-02 1:58.2\n",
      "  200   1800 -1.239972709305551e-01 3.0e+01 3.14e-02  2e-03  1e-02 2:07.6\n",
      "  227   2043 -1.239287688955241e-01 2.8e+01 2.31e-02  1e-03  6e-03 2:24.8\n",
      "  257   2313 -1.235222903838095e-01 3.9e+01 3.36e-02  1e-03  9e-03 2:42.8\n",
      "  288   2592 -1.226503291866718e-01 3.8e+01 9.08e-03  2e-04  1e-03 3:02.1\n",
      "  300   2700 -1.220947560779309e-01 2.9e+01 6.09e-03  1e-04  8e-04 3:09.6\n",
      "  334   3006 -1.229653083225037e-01 4.8e+01 5.43e-03  7e-05  9e-04 3:30.9\n",
      "  371   3339 -1.236779752327908e-01 1.3e+02 1.50e-02  2e-04  3e-03 3:53.3\n",
      "  400   3600 -1.233592721818079e-01 2.0e+02 1.58e-02  2e-04  4e-03 4:11.6\n",
      "  438   3942 -1.230618096829930e-01 2.0e+02 3.26e-02  3e-04  8e-03 4:35.9\n",
      "  475   4275 -1.226064905724507e-01 2.6e+02 7.92e-02  4e-04  2e-02 5:01.5\n",
      "  500   4500 -1.224038351993993e-01 3.6e+02 1.29e-01  7e-04  2e-02 5:17.0\n",
      "  505   4545 -1.226775082765527e-01 3.3e+02 1.09e-01  6e-04  2e-02 5:20.2\n"
     ]
    },
    {
     "name": "stderr",
     "output_type": "stream",
     "text": [
      "reconstraining parameters GP_regression.Mat52.lengthscale\n",
      "reconstraining parameters GP_regression.Mat52.variance\n",
      "reconstraining parameters GP_regression.Gaussian_noise.variance\n"
     ]
    },
    {
     "name": "stdout",
     "output_type": "stream",
     "text": [
      "termination on tolstagnation=263 (Sun Aug 23 16:44:19 2020)\n",
      "final/bestever f-value = -1.246371e-01 -1.257565e-01\n",
      "incumbent solution: [0.21719952887347121, 0.45263341917361954, 1.93925348699318, 3.230233197585812, 4.31792092723666, 3.7867774661115563]\n",
      "std deviation: [0.0005678097505403915, 0.003449115894317553, 0.009052953805509386, 0.01107818519043555, 0.006049815118302119, 0.018128309298186585]\n",
      "Optimization restart 1/10, f = 14.289421881946744\n",
      "Optimization restart 2/10, f = 102.56078534726424\n",
      "Optimization restart 3/10, f = 32.98368711417047\n",
      "Optimization restart 4/10, f = 100.04260250691227\n",
      "Optimization restart 5/10, f = 134.41239255918663\n",
      "Optimization restart 6/10, f = 659.4770597797758\n",
      "Optimization restart 7/10, f = 80.10927736613095\n",
      "Optimization restart 8/10, f = 14.289421881198074\n",
      "Optimization restart 9/10, f = 38.754223069666224\n"
     ]
    },
    {
     "name": "stderr",
     "output_type": "stream",
     "text": [
      "reconstraining parameters GP_regression.Mat52.lengthscale\n",
      "reconstraining parameters GP_regression.Mat52.variance\n",
      "reconstraining parameters GP_regression.Gaussian_noise.variance\n"
     ]
    },
    {
     "name": "stdout",
     "output_type": "stream",
     "text": [
      "Optimization restart 10/10, f = 14.289421882235807\n",
      "Optimization restart 1/10, f = -39.53085990674694\n",
      "Optimization restart 2/10, f = 29.623315000381012\n",
      "Optimization restart 3/10, f = -13.77097939646331\n",
      "Optimization restart 4/10, f = 134.17079963509485\n",
      "Optimization restart 5/10, f = 26.097375314747076\n",
      "Optimization restart 6/10, f = 637.5406954144408\n",
      "Optimization restart 7/10, f = 149.67706489621168\n",
      "Optimization restart 8/10, f = 149.6770209028564\n",
      "Optimization restart 9/10, f = 940.9674967046452\n",
      "Optimization restart 10/10, f = 121.90320240184833\n",
      "(4_w,9)-aCMA-ES (mu_w=2.8,w_1=49%) in dimension 6 (seed=277140, Sun Aug 23 16:44:32 2020)\n",
      "Iterat #Fevals   function value  axis ratio  sigma  min&max std  t[m:s]\n",
      "    1      9 1.406458958045230e-01 1.0e+00 2.71e-01  2e-01  3e-01 0:00.5\n",
      "    2     18 6.532326485165936e-02 1.4e+00 3.17e-01  3e-01  4e-01 0:01.2\n",
      "    3     27 5.318526126261951e-02 1.6e+00 3.40e-01  3e-01  4e-01 0:01.8\n",
      "    8     72 6.435479152620556e-03 1.8e+00 3.99e-01  3e-01  5e-01 0:04.9\n",
      "   14    126 -6.619794299877207e-02 2.2e+00 3.03e-01  2e-01  4e-01 0:09.0\n",
      "   22    198 -1.040066992032167e-01 3.3e+00 2.93e-01  1e-01  3e-01 0:14.0\n",
      "   32    288 -1.456311341256227e-01 3.8e+00 2.52e-01  9e-02  3e-01 0:20.3\n",
      "   44    396 -1.705900871797379e-01 4.6e+00 1.65e-01  4e-02  2e-01 0:27.7\n",
      "   57    513 -1.700025204349341e-01 8.3e+00 7.73e-02  9e-03  7e-02 0:36.4\n",
      "   71    639 -1.728720257199305e-01 1.2e+01 6.55e-02  7e-03  5e-02 0:46.0\n",
      "   87    783 -1.724816925087898e-01 1.8e+01 3.72e-02  3e-03  3e-02 0:56.3\n",
      "  100    900 -1.722241241363888e-01 1.8e+01 4.68e-02  4e-03  3e-02 1:04.3\n",
      "  120   1080 -1.715115558308206e-01 2.6e+01 3.90e-02  3e-03  2e-02 1:16.7\n",
      "  141   1269 -1.718529040135994e-01 3.9e+01 4.16e-02  3e-03  3e-02 1:30.3\n",
      "  163   1467 -1.720923807274582e-01 3.9e+01 7.66e-02  4e-03  5e-02 1:44.9\n",
      "  187   1683 -1.717275068105573e-01 5.2e+01 5.24e-02  1e-03  3e-02 2:00.0\n",
      "  200   1800 -1.721132562801845e-01 6.5e+01 5.96e-02  2e-03  3e-02 2:10.4\n",
      "  227   2043 -1.721348121404797e-01 1.2e+02 6.87e-02  2e-03  4e-02 2:27.4\n",
      "  255   2295 -1.726249675696421e-01 1.3e+02 1.65e-02  2e-04  9e-03 2:45.6\n",
      "  286   2574 -1.716093421180966e-01 1.8e+02 2.33e-02  4e-04  2e-02 3:05.1\n",
      "  300   2700 -1.720792588392600e-01 1.9e+02 2.34e-02  3e-04  2e-02 3:13.7\n",
      "  333   2997 -1.719505571934472e-01 2.0e+02 6.19e-03  7e-05  3e-03 3:34.8\n",
      "  369   3321 -1.714044743684992e-01 1.4e+02 3.49e-03  3e-05  9e-04 3:57.2\n",
      "  400   3600 -1.712523680853077e-01 1.8e+02 4.41e-03  2e-05  8e-04 4:16.7\n",
      "  439   3951 -1.718445137581519e-01 2.8e+02 9.66e-03  4e-05  1e-03 4:41.2\n",
      "  474   4266 -1.717145729465522e-01 3.6e+02 8.61e-03  2e-05  1e-03 5:06.5\n",
      "  500   4500 -1.703484754111725e-01 8.5e+02 2.13e-02  6e-05  5e-03 5:22.4\n",
      "  505   4545 -1.724791628242611e-01 8.2e+02 1.41e-02  3e-05  3e-03 5:25.4\n",
      "termination on tolstagnation=263 (Sun Aug 23 16:49:58 2020)\n",
      "final/bestever f-value = -1.687073e-01 -1.736633e-01\n",
      "incumbent solution: [0.7510793112258985, 0.05004911717371151, 2.0144167970728764, 3.1772201164416223, 3.85092384387288, 3.6839054654681833]\n",
      "std deviation: [3.0915375398216186e-05, 0.0005404780224349208, 0.0014582470065736671, 0.0003235233133685705, 0.003166874421637762, 0.0014204291500166028]\n"
     ]
    },
    {
     "name": "stderr",
     "output_type": "stream",
     "text": [
      "reconstraining parameters GP_regression.Mat52.lengthscale\n",
      "reconstraining parameters GP_regression.Mat52.variance\n",
      "reconstraining parameters GP_regression.Gaussian_noise.variance\n"
     ]
    },
    {
     "name": "stdout",
     "output_type": "stream",
     "text": [
      "Optimization restart 1/10, f = 14.55385523572744\n",
      "Optimization restart 2/10, f = 141.89385174098146\n",
      "Optimization restart 3/10, f = 628.5322929386177\n",
      "Optimization restart 4/10, f = 141.89385332046734\n",
      "Optimization restart 5/10, f = 85.2010514254292\n",
      "Optimization restart 6/10, f = 108.15078045645745\n",
      "Optimization restart 7/10, f = 103.48392023911097\n",
      "Optimization restart 8/10, f = 667.5406265689835\n",
      "Optimization restart 9/10, f = 140.84206317312527\n"
     ]
    },
    {
     "name": "stderr",
     "output_type": "stream",
     "text": [
      "reconstraining parameters GP_regression.Mat52.lengthscale\n",
      "reconstraining parameters GP_regression.Mat52.variance\n",
      "reconstraining parameters GP_regression.Gaussian_noise.variance\n"
     ]
    },
    {
     "name": "stdout",
     "output_type": "stream",
     "text": [
      "Optimization restart 10/10, f = 140.2827452415525\n",
      "Optimization restart 1/10, f = -40.542519091419585\n",
      "Optimization restart 2/10, f = 28.5237179678945\n",
      "Optimization restart 3/10, f = 667.5406265689835\n",
      "Optimization restart 4/10, f = -40.542519091734576\n",
      "Optimization restart 5/10, f = 587.9149197587757\n",
      "Optimization restart 6/10, f = 85060.21798009878\n",
      "Optimization restart 7/10, f = 141.8938533204673\n",
      "Optimization restart 8/10, f = -40.54251909182362\n",
      "Optimization restart 9/10, f = 25.484419029561813\n",
      "Optimization restart 10/10, f = 628.7489376005852\n",
      "(4_w,9)-aCMA-ES (mu_w=2.8,w_1=49%) in dimension 6 (seed=320675, Sun Aug 23 16:50:08 2020)\n",
      "Iterat #Fevals   function value  axis ratio  sigma  min&max std  t[m:s]\n",
      "    1      9 8.345958061791386e-02 1.0e+00 2.83e-01  3e-01  3e-01 0:00.6\n",
      "    2     18 5.914104286625691e-04 1.3e+00 3.28e-01  3e-01  4e-01 0:01.3\n",
      "    3     27 7.421534513711295e-02 1.4e+00 3.54e-01  3e-01  4e-01 0:02.0\n",
      "    8     72 -7.069926858903702e-02 2.0e+00 3.43e-01  3e-01  4e-01 0:05.2\n",
      "   15    135 -1.012545622597411e-01 2.5e+00 1.66e-01  9e-02  2e-01 0:09.7\n",
      "   23    207 -1.030933781128265e-01 2.9e+00 9.23e-02  4e-02  1e-01 0:14.9\n",
      "   33    297 -1.098582425761836e-01 4.1e+00 6.77e-02  2e-02  8e-02 0:21.2\n",
      "   45    405 -1.104274538646656e-01 6.9e+00 4.88e-02  1e-02  5e-02 0:28.7\n",
      "   58    522 -1.111600504620349e-01 8.4e+00 4.05e-02  6e-03  4e-02 0:37.1\n",
      "   73    657 -1.111406409286082e-01 8.1e+00 2.19e-02  3e-03  2e-02 0:46.7\n",
      "   89    801 -1.115610341685961e-01 8.1e+00 1.55e-02  2e-03  1e-02 0:57.1\n",
      "  100    900 -1.114000701538155e-01 9.0e+00 9.58e-03  9e-04  5e-03 1:04.2\n",
      "  117   1053 -1.112609227823990e-01 1.1e+01 5.48e-03  4e-04  3e-03 1:16.2\n",
      "  138   1242 -1.107801119167348e-01 1.6e+01 5.49e-03  3e-04  4e-03 1:29.6\n",
      "  160   1440 -1.105960558545709e-01 1.7e+01 6.22e-03  4e-04  4e-03 1:44.0\n",
      "  183   1647 -1.118955248015895e-01 1.4e+01 2.91e-03  2e-04  1e-03 1:59.0\n",
      "  200   1800 -1.107212143800282e-01 2.5e+01 3.03e-03  2e-04  2e-03 2:10.6\n",
      "  223   2007 -1.108252584327673e-01 1.9e+01 2.74e-03  2e-04  9e-04 2:27.7\n",
      "  252   2268 -1.115140709630241e-01 3.9e+01 4.02e-03  2e-04  1e-03 2:45.8\n",
      "  282   2538 -1.111545367882015e-01 8.1e+01 5.18e-03  2e-04  3e-03 3:04.9\n",
      "  300   2700 -1.110989425795305e-01 8.0e+01 6.98e-03  2e-04  3e-03 3:16.5\n",
      "  333   2997 -1.106543914511672e-01 1.3e+02 3.02e-03  8e-05  2e-03 3:38.0\n",
      "  368   3312 -1.105232000012033e-01 2.2e+02 2.05e-03  4e-05  1e-03 4:00.5\n",
      "  400   3600 -1.110707056175038e-01 5.8e+02 9.49e-03  2e-04  6e-03 4:21.4\n",
      "  438   3942 -1.109963991084554e-01 5.5e+02 2.57e-03  7e-05  1e-03 4:45.6\n",
      "  477   4293 -1.113461782149020e-01 1.1e+03 4.43e-03  1e-04  1e-03 5:10.7\n",
      "  500   4500 -1.111148054090934e-01 8.3e+02 3.58e-03  1e-04  9e-04 5:29.6\n",
      "  543   4887 -1.114794110105356e-01 1.1e+03 1.33e-03  2e-05  3e-04 5:57.1\n",
      "  587   5283 -1.106115963196568e-01 2.5e+03 7.03e-04  7e-06  2e-04 6:25.2\n",
      "  600   5400 -1.107804263466036e-01 2.4e+03 1.02e-03  1e-05  2e-04 6:33.1\n",
      "  620   5580 -1.111054813126775e-01 2.3e+03 7.42e-04  8e-06  1e-04 6:46.2\n"
     ]
    },
    {
     "name": "stderr",
     "output_type": "stream",
     "text": [
      "reconstraining parameters GP_regression.Mat52.lengthscale\n",
      "reconstraining parameters GP_regression.Mat52.variance\n",
      "reconstraining parameters GP_regression.Gaussian_noise.variance\n"
     ]
    },
    {
     "name": "stdout",
     "output_type": "stream",
     "text": [
      "termination on tolstagnation=263 (Sun Aug 23 16:56:55 2020)\n",
      "final/bestever f-value = -1.092299e-01 -1.124074e-01\n",
      "incumbent solution: [1.2191146461965656, 2.585828404479962, 2.4808187793216216, 3.764381216269868, 4.090375412503114, 4.074087875483678]\n",
      "std deviation: [7.945213349840757e-06, 2.0966206556061293e-05, 4.4908154931987884e-05, 0.00012025839565245824, 6.54814565983373e-05, 7.583034605546118e-05]\n",
      "Optimization restart 1/10, f = 13.790529584264348\n",
      "Optimization restart 2/10, f = 143.31279009385938\n",
      "Optimization restart 3/10, f = 143.28567474462673\n",
      "Optimization restart 4/10, f = 51.3591158739016\n",
      "Optimization restart 5/10, f = 101.84182775101986\n",
      "Optimization restart 6/10, f = 100.52137290645311\n",
      "Optimization restart 7/10, f = 64.31560799235152\n",
      "Optimization restart 8/10, f = 31.490786926696764\n",
      "Optimization restart 9/10, f = 142.76857332273096\n"
     ]
    },
    {
     "name": "stderr",
     "output_type": "stream",
     "text": [
      "reconstraining parameters GP_regression.Mat52.lengthscale\n",
      "reconstraining parameters GP_regression.Mat52.variance\n",
      "reconstraining parameters GP_regression.Gaussian_noise.variance\n"
     ]
    },
    {
     "name": "stdout",
     "output_type": "stream",
     "text": [
      "Optimization restart 10/10, f = 64.31560742666838\n",
      "Optimization restart 1/10, f = -40.400477005651794\n",
      "Optimization restart 2/10, f = 58.17534859730803\n",
      "Optimization restart 3/10, f = 136.82750883475086\n",
      "Optimization restart 4/10, f = -40.4004770052817\n",
      "Optimization restart 5/10, f = -14.896998728098197\n",
      "Optimization restart 6/10, f = 674.2160328346732\n",
      "Optimization restart 7/10, f = 136.974393080507\n",
      "Optimization restart 8/10, f = 143.31279185367197\n",
      "Optimization restart 9/10, f = 385.93625898120627\n",
      "Optimization restart 10/10, f = 565.4842875469608\n",
      "(4_w,9)-aCMA-ES (mu_w=2.8,w_1=49%) in dimension 6 (seed=205823, Sun Aug 23 16:57:08 2020)\n",
      "Iterat #Fevals   function value  axis ratio  sigma  min&max std  t[m:s]\n",
      "    1      9 2.460700928979545e-01 1.0e+00 2.40e-01  2e-01  2e-01 0:00.6\n",
      "    2     18 1.946248406772168e-01 1.3e+00 2.93e-01  3e-01  3e-01 0:01.4\n",
      "    3     27 1.936067945389695e-01 1.4e+00 3.49e-01  3e-01  4e-01 0:01.9\n",
      "    8     72 1.845617099277558e-02 2.3e+00 3.84e-01  2e-01  4e-01 0:05.1\n",
      "   14    126 -4.924727083297917e-02 2.6e+00 3.29e-01  1e-01  4e-01 0:09.3\n",
      "   22    198 -8.625770241407178e-02 4.1e+00 2.12e-01  7e-02  3e-01 0:14.8\n",
      "   32    288 -9.491862382520702e-02 6.3e+00 1.26e-01  3e-02  1e-01 0:21.4\n",
      "   44    396 -1.013442875599763e-01 1.1e+01 1.23e-01  2e-02  1e-01 0:29.1\n",
      "   57    513 -1.023919915130438e-01 1.2e+01 6.11e-02  8e-03  6e-02 0:37.3\n",
      "   72    648 -1.043562730238285e-01 1.4e+01 2.17e-02  2e-03  2e-02 0:46.9\n",
      "   88    792 -1.048675346231312e-01 2.2e+01 3.12e-02  2e-03  3e-02 0:57.2\n",
      "  100    900 -1.040237549645850e-01 2.5e+01 2.78e-02  2e-03  3e-02 1:04.8\n",
      "  119   1071 -1.043374354508085e-01 2.7e+01 2.66e-02  2e-03  3e-02 1:16.9\n",
      "  140   1260 -1.045081105946101e-01 2.9e+01 2.26e-02  1e-03  2e-02 1:30.4\n",
      "  159   1431 -1.043766919781902e-01 3.6e+01 1.00e-02  4e-04  6e-03 1:44.6\n",
      "  179   1611 -1.041620328439295e-01 4.6e+01 5.11e-03  1e-04  3e-03 1:59.7\n",
      "  200   1800 -1.042364723359770e-01 7.0e+01 6.50e-03  2e-04  4e-03 2:13.8\n",
      "  227   2043 -1.046920626583508e-01 7.2e+01 7.93e-03  2e-04  4e-03 2:31.1\n",
      "  254   2286 -1.049233750813965e-01 1.1e+02 8.62e-03  2e-04  4e-03 2:49.1\n",
      "  283   2547 -1.044625056457348e-01 1.8e+02 1.47e-03  3e-05  6e-04 3:08.1\n",
      "  300   2700 -1.040063152868247e-01 2.7e+02 2.75e-03  6e-05  1e-03 3:18.8\n",
      "  333   2997 -1.046111318583969e-01 7.0e+02 2.71e-03  7e-05  1e-03 3:39.9\n",
      "  368   3312 -1.045374935347826e-01 7.5e+02 1.12e-03  2e-05  4e-04 4:02.6\n",
      "  398   3582 -1.043262058275677e-01 1.3e+03 8.79e-04  2e-05  3e-04 4:25.9\n",
      "  400   3600 -1.051029183957365e-01 1.3e+03 1.08e-03  2e-05  4e-04 4:27.1\n",
      "  440   3960 -1.045507412042944e-01 3.9e+03 1.65e-03  3e-05  6e-04 4:52.6\n",
      "  481   4329 -1.043277843158201e-01 7.6e+03 9.59e-03  1e-04  4e-03 5:18.9\n",
      "  500   4500 -1.051019381145985e-01 1.0e+04 1.78e-02  3e-04  8e-03 5:31.4\n",
      "  542   4878 -1.046024292496794e-01 1.3e+04 3.70e-02  6e-04  2e-02 6:00.3\n",
      "  560   5040 -1.041928500362644e-01 1.6e+04 2.96e-02  4e-04  1e-02 6:12.5\n"
     ]
    },
    {
     "name": "stderr",
     "output_type": "stream",
     "text": [
      "reconstraining parameters GP_regression.Mat52.lengthscale\n",
      "reconstraining parameters GP_regression.Mat52.variance\n",
      "reconstraining parameters GP_regression.Gaussian_noise.variance\n"
     ]
    },
    {
     "name": "stdout",
     "output_type": "stream",
     "text": [
      "termination on tolstagnation=263 (Sun Aug 23 17:03:21 2020)\n",
      "final/bestever f-value = -1.045114e-01 -1.057238e-01\n",
      "incumbent solution: [1.0995513909482753, 3.8332010709917634, 2.508989358827204, 3.1622521581491587, 3.3087641523423903, 4.504649687649772]\n",
      "std deviation: [0.00041543664867662786, 0.0006543436258138161, 0.0039894001670874295, 0.010138921770424109, 0.005249763997765855, 0.011985230399261205]\n",
      "Optimization restart 1/10, f = 12.753560266205056\n",
      "Optimization restart 2/10, f = 144.73173038687662\n",
      "Optimization restart 3/10, f = 24.740766940480633\n",
      "Optimization restart 4/10, f = 108.46342965741306\n",
      "Optimization restart 5/10, f = 108.46404983084244\n",
      "Optimization restart 6/10, f = 144.70374410794\n",
      "Optimization restart 7/10, f = 143.6155781466312\n",
      "Optimization restart 8/10, f = 143.61601226697263\n",
      "Optimization restart 9/10, f = 659.5248650159865\n"
     ]
    },
    {
     "name": "stderr",
     "output_type": "stream",
     "text": [
      "reconstraining parameters GP_regression.Mat52.lengthscale\n",
      "reconstraining parameters GP_regression.Mat52.variance\n",
      "reconstraining parameters GP_regression.Gaussian_noise.variance\n"
     ]
    },
    {
     "name": "stdout",
     "output_type": "stream",
     "text": [
      "Optimization restart 10/10, f = 143.61601249260352\n",
      "Optimization restart 1/10, f = -42.06395145540725\n",
      "Optimization restart 2/10, f = 132.099479535701\n",
      "Optimization restart 3/10, f = -42.063951455077586\n",
      "Optimization restart 4/10, f = -23.01598829272612\n",
      "Optimization restart 5/10, f = 680.8914378243664\n",
      "Optimization restart 6/10, f = 116.03281172242473\n",
      "Optimization restart 7/10, f = 680.8914391003631\n",
      "Optimization restart 8/10, f = 124.47150609383077\n",
      "Optimization restart 9/10, f = 3334644204.33191\n",
      "Optimization restart 10/10, f = 103.86957874437184\n",
      "(4_w,9)-aCMA-ES (mu_w=2.8,w_1=49%) in dimension 6 (seed=340024, Sun Aug 23 17:03:30 2020)\n",
      "Iterat #Fevals   function value  axis ratio  sigma  min&max std  t[m:s]\n",
      "    1      9 4.432956061519377e-01 1.0e+00 2.56e-01  2e-01  3e-01 0:00.5\n",
      "    2     18 4.008390106276318e-01 1.3e+00 2.86e-01  2e-01  3e-01 0:01.2\n",
      "    3     27 3.887944379394459e-01 1.7e+00 3.20e-01  3e-01  4e-01 0:01.8\n",
      "    8     72 3.737569737305166e-01 1.8e+00 2.94e-01  2e-01  4e-01 0:05.1\n",
      "   14    126 3.433281208649887e-01 3.0e+00 2.61e-01  1e-01  4e-01 0:09.1\n",
      "   22    198 2.910389230530565e-01 6.4e+00 5.91e-01  2e-01  1e+00 0:14.5\n",
      "   32    288 -4.160544132566375e-02 6.6e+00 7.11e-01  3e-01  1e+00 0:21.2\n",
      "   43    387 -9.374089641643261e-02 4.8e+00 3.49e-01  1e-01  4e-01 0:28.2\n",
      "   56    504 -1.057250697771851e-01 6.4e+00 1.18e-01  3e-02  1e-01 0:36.7\n",
      "   71    639 -1.064870851079276e-01 1.1e+01 5.03e-02  4e-03  4e-02 0:46.1\n",
      "   87    783 -1.066339653846014e-01 1.5e+01 2.83e-02  2e-03  2e-02 0:56.8\n",
      "  100    900 -1.063916679123553e-01 1.4e+01 3.07e-02  2e-03  1e-02 1:05.2\n",
      "  115   1035 -1.065170761444273e-01 1.6e+01 1.28e-02  5e-04  6e-03 1:17.9\n",
      "  133   1197 -1.067881977375464e-01 1.9e+01 1.16e-02  4e-04  5e-03 1:31.0\n",
      "  154   1386 -1.067853151269314e-01 5.2e+01 1.16e-02  4e-04  7e-03 1:45.1\n",
      "  177   1593 -1.063451162687763e-01 5.6e+01 6.59e-03  2e-04  3e-03 2:00.1\n",
      "  200   1800 -1.066130202414594e-01 5.9e+01 1.56e-03  3e-05  6e-04 2:15.2\n",
      "  225   2025 -1.063864600415342e-01 8.7e+01 5.08e-03  1e-04  2e-03 2:32.2\n",
      "  254   2286 -1.067788050019024e-01 1.0e+02 5.62e-03  1e-04  2e-03 2:50.8\n",
      "  284   2556 -1.067851037881384e-01 8.1e+01 2.50e-03  4e-05  7e-04 3:10.4\n",
      "  300   2700 -1.066046642340506e-01 2.0e+02 5.79e-03  1e-04  2e-03 3:20.4\n",
      "  332   2988 -1.064860744977186e-01 3.4e+02 2.12e-03  3e-05  7e-04 3:41.6\n",
      "  366   3294 -1.067129081425504e-01 2.7e+02 1.62e-03  2e-05  3e-04 4:03.8\n",
      "  400   3600 -1.068436284570573e-01 4.6e+02 9.85e-04  1e-05  2e-04 4:26.8\n",
      "  435   3915 -1.065647432419668e-01 8.4e+02 5.67e-03  7e-05  9e-04 4:51.2\n",
      "  474   4266 -1.067723530182568e-01 2.4e+03 4.21e-03  6e-05  8e-04 5:16.6\n",
      "  500   4500 -1.067330633286520e-01 3.7e+03 3.11e-03  4e-05  6e-04 5:33.7\n",
      "  540   4860 -1.063403863244646e-01 3.8e+03 1.08e-03  8e-06  2e-04 5:59.7\n"
     ]
    },
    {
     "name": "stderr",
     "output_type": "stream",
     "text": [
      "reconstraining parameters GP_regression.Mat52.lengthscale\n",
      "reconstraining parameters GP_regression.Mat52.variance\n",
      "reconstraining parameters GP_regression.Gaussian_noise.variance\n"
     ]
    },
    {
     "name": "stdout",
     "output_type": "stream",
     "text": [
      "termination on tolstagnation=263 (Sun Aug 23 17:09:31 2020)\n",
      "final/bestever f-value = -1.059945e-01 -1.071916e-01\n",
      "incumbent solution: [0.6372224870383721, 0.0005060455354032421, 2.251039090622791, 3.178414423286403, 3.838035185334236, 3.6976163491695795]\n",
      "std deviation: [7.525398504185226e-06, 2.387925775392519e-05, 0.0001543633438864019, 6.032132685166375e-05, 0.00011025055370223799, 9.512970598865075e-05]\n",
      "Optimization restart 1/10, f = 11.297538972146967\n",
      "Optimization restart 2/10, f = 131.50944810732608\n",
      "Optimization restart 3/10, f = 648.556605210423\n",
      "Optimization restart 4/10, f = 37.342643724290625\n",
      "Optimization restart 5/10, f = 1477.5033057084595\n",
      "Optimization restart 6/10, f = 145.09535766352727\n",
      "Optimization restart 7/10, f = 80.27839906662258\n",
      "Optimization restart 8/10, f = 132.497638819401\n",
      "Optimization restart 9/10, f = 111.32249281428993\n"
     ]
    },
    {
     "name": "stderr",
     "output_type": "stream",
     "text": [
      "reconstraining parameters GP_regression.Mat52.lengthscale\n",
      "reconstraining parameters GP_regression.Mat52.variance\n",
      "reconstraining parameters GP_regression.Gaussian_noise.variance\n"
     ]
    },
    {
     "name": "stdout",
     "output_type": "stream",
     "text": [
      "Optimization restart 10/10, f = 76.82058110066691\n",
      "Optimization restart 1/10, f = -44.18152987967339\n",
      "Optimization restart 2/10, f = 23.472308506113812\n",
      "Optimization restart 3/10, f = 687.5668453660529\n",
      "Optimization restart 4/10, f = 687.5307319888931\n",
      "Optimization restart 5/10, f = 146.15066892011745\n",
      "Optimization restart 6/10, f = 137.13710205413994\n",
      "Optimization restart 7/10, f = 155.91392703213484\n",
      "Optimization restart 8/10, f = 27.24988048424872\n",
      "Optimization restart 9/10, f = 23.473388762505564\n",
      "Optimization restart 10/10, f = 23.47341725189412\n",
      "(4_w,9)-aCMA-ES (mu_w=2.8,w_1=49%) in dimension 6 (seed=338080, Sun Aug 23 17:09:42 2020)\n",
      "Iterat #Fevals   function value  axis ratio  sigma  min&max std  t[m:s]\n",
      "    1      9 5.913554922443603e-01 1.0e+00 2.33e-01  2e-01  2e-01 0:00.6\n",
      "    2     18 5.635034856181115e-01 1.2e+00 2.26e-01  2e-01  2e-01 0:01.2\n",
      "    3     27 4.557745269967920e-01 1.3e+00 2.54e-01  2e-01  3e-01 0:01.9\n",
      "    8     72 2.832455223361270e-01 2.0e+00 7.36e-01  6e-01  9e-01 0:05.1\n",
      "   15    135 2.188785632018792e-01 2.2e+00 3.91e-01  2e-01  4e-01 0:09.6\n",
      "   23    207 2.210763691462014e-01 3.3e+00 2.23e-01  8e-02  2e-01 0:14.7\n",
      "   33    297 2.041715644097191e-01 5.2e+00 8.70e-02  2e-02  9e-02 0:21.3\n",
      "   44    396 2.100289634289132e-01 5.4e+00 6.11e-02  1e-02  6e-02 0:28.5\n",
      "   56    504 2.158333960389377e-01 6.2e+00 3.66e-02  7e-03  3e-02 0:36.6\n",
      "   70    630 2.089608355083474e-01 7.1e+00 2.44e-02  5e-03  2e-02 0:45.8\n",
      "   86    774 2.097386845146504e-01 1.3e+01 4.33e-02  1e-02  4e-02 0:56.2\n",
      "  100    900 2.147226486624523e-01 1.7e+01 4.33e-02  9e-03  4e-02 1:05.4\n",
      "  118   1062 2.080472880098555e-01 1.4e+01 6.67e-02  1e-02  5e-02 1:17.5\n",
      "  136   1224 2.097042274515312e-01 2.6e+01 7.15e-02  1e-02  6e-02 1:30.6\n",
      "  157   1413 2.126922591217870e-01 2.7e+01 5.30e-02  8e-03  4e-02 1:44.8\n",
      "  180   1620 2.073526033939691e-01 3.7e+01 1.26e-01  2e-02  1e-01 1:59.8\n",
      "  199   1791 2.118679009423152e-01 3.6e+01 3.12e-02  3e-03  2e-02 2:15.8\n",
      "  200   1800 2.122369858687411e-01 3.8e+01 2.71e-02  3e-03  2e-02 2:16.8\n",
      "  227   2043 2.091005182337780e-01 6.5e+01 1.29e-02  1e-03  7e-03 2:35.1\n",
      "  256   2304 2.081861155450496e-01 9.3e+01 1.28e-02  1e-03  8e-03 2:54.7\n",
      "  287   2583 2.079024800973648e-01 1.3e+02 2.02e-02  1e-03  1e-02 3:15.1\n",
      "  300   2700 2.071268998010241e-01 1.8e+02 1.45e-02  1e-03  9e-03 3:23.9\n",
      "  333   2997 2.083978031323912e-01 2.7e+02 1.58e-02  1e-03  1e-02 3:46.3\n",
      "  369   3321 2.110248165949954e-01 4.2e+02 6.72e-03  4e-04  4e-03 4:09.7\n",
      "  400   3600 2.101947397708118e-01 7.9e+02 3.54e-02  3e-03  2e-02 4:29.9\n",
      "  438   3942 2.091157648768062e-01 1.2e+03 3.64e-02  4e-03  2e-02 4:54.9\n",
      "  478   4302 2.090766353241958e-01 8.4e+02 2.64e-02  1e-03  9e-03 5:21.3\n",
      "  500   4500 2.114443865289746e-01 8.2e+02 6.17e-02  3e-03  2e-02 5:36.6\n",
      "  505   4545 2.084098386259576e-01 9.5e+02 5.80e-02  3e-03  2e-02 5:40.2\n"
     ]
    },
    {
     "name": "stderr",
     "output_type": "stream",
     "text": [
      "reconstraining parameters GP_regression.Mat52.lengthscale\n",
      "reconstraining parameters GP_regression.Mat52.variance\n",
      "reconstraining parameters GP_regression.Gaussian_noise.variance\n"
     ]
    },
    {
     "name": "stdout",
     "output_type": "stream",
     "text": [
      "termination on tolstagnation=263 (Sun Aug 23 17:15:23 2020)\n",
      "final/bestever f-value = 2.163045e-01 2.021448e-01\n",
      "incumbent solution: [0.005328561062954683, 3.9999679786327036, 5.998778393481312, 7.985805674492749, 0.00929166173973282, 7.643596675833507]\n",
      "std deviation: [0.002808403952972599, 0.005295581402231861, 0.018564979780752257, 0.02068611385842436, 0.007300869183447296, 0.003964094269989034]\n",
      "Optimization restart 1/10, f = 11.819911430306234\n",
      "Optimization restart 2/10, f = 104.17691425893052\n",
      "Optimization restart 3/10, f = 11.8199114297162\n",
      "Optimization restart 4/10, f = 147.54067557675052\n",
      "Optimization restart 5/10, f = 52.374642505743324\n",
      "Optimization restart 6/10, f = 124.22043025026389\n",
      "Optimization restart 7/10, f = 59.64177113478974\n",
      "Optimization restart 8/10, f = 147.02000184471078\n",
      "Optimization restart 9/10, f = 99.0516621572533\n"
     ]
    },
    {
     "name": "stderr",
     "output_type": "stream",
     "text": [
      "reconstraining parameters GP_regression.Mat52.lengthscale\n",
      "reconstraining parameters GP_regression.Mat52.variance\n",
      "reconstraining parameters GP_regression.Gaussian_noise.variance\n"
     ]
    },
    {
     "name": "stdout",
     "output_type": "stream",
     "text": [
      "Optimization restart 10/10, f = 146.50357398363224\n",
      "Optimization restart 1/10, f = -43.684167599869966\n",
      "Optimization restart 2/10, f = 147.3864553287413\n",
      "Optimization restart 3/10, f = 83.80661045378633\n",
      "Optimization restart 4/10, f = 65.44886795869499\n",
      "Optimization restart 5/10, f = 134.93667266743762\n",
      "Optimization restart 6/10, f = 104.03357276932702\n",
      "Optimization restart 7/10, f = 24.394528866101\n",
      "Optimization restart 8/10, f = 595.489133093741\n",
      "Optimization restart 9/10, f = 3351947590.3089275\n",
      "Optimization restart 10/10, f = 24.315259753087616\n",
      "(4_w,9)-aCMA-ES (mu_w=2.8,w_1=49%) in dimension 6 (seed=337627, Sun Aug 23 17:15:35 2020)\n",
      "Iterat #Fevals   function value  axis ratio  sigma  min&max std  t[m:s]\n",
      "    1      9 4.633516498481791e-01 1.0e+00 2.37e-01  2e-01  3e-01 0:00.7\n",
      "    2     18 4.164293422079181e-01 1.3e+00 2.58e-01  2e-01  3e-01 0:01.4\n",
      "    3     27 4.185961342226121e-01 1.5e+00 2.68e-01  2e-01  3e-01 0:02.1\n",
      "    8     72 3.853439457815721e-01 2.6e+00 2.87e-01  2e-01  4e-01 0:05.8\n",
      "   14    126 2.400767380619208e-01 6.6e+00 4.57e-01  2e-01  8e-01 0:09.9\n",
      "   22    198 1.891052412079008e-01 5.4e+00 4.36e-01  1e-01  6e-01 0:15.2\n",
      "   31    279 1.458316029747519e-01 8.8e+00 5.70e-01  1e-01  1e+00 0:21.4\n",
      "   42    378 1.306597310224741e-01 1.2e+01 2.05e-01  3e-02  3e-01 0:29.0\n",
      "   54    486 1.291070754383893e-01 1.4e+01 7.62e-02  1e-02  9e-02 0:37.2\n",
      "   68    612 1.294380961727619e-01 2.0e+01 4.14e-02  5e-03  5e-02 0:46.8\n",
      "   83    747 1.297346680846146e-01 2.1e+01 5.11e-02  7e-03  7e-02 0:56.8\n",
      "   98    882 1.264092682393046e-01 1.7e+01 5.97e-02  8e-03  8e-02 1:08.4\n",
      "  100    900 1.280953619549015e-01 2.3e+01 5.54e-02  7e-03  7e-02 1:10.6\n",
      "  118   1062 1.296292120227696e-01 2.1e+01 3.00e-02  4e-03  3e-02 1:23.6\n",
      "  138   1242 1.267182613169841e-01 4.1e+01 3.88e-02  5e-03  5e-02 1:38.1\n",
      "  160   1440 1.246498418063596e-01 4.7e+01 4.49e-02  4e-03  4e-02 1:53.3\n",
      "  184   1656 1.284915219896988e-01 4.3e+01 1.05e-02  6e-04  7e-03 2:09.4\n",
      "  200   1800 1.287155532463858e-01 5.4e+01 9.63e-03  4e-04  5e-03 2:20.4\n",
      "  226   2034 1.316575897727128e-01 6.3e+01 3.58e-03  1e-04  1e-03 2:38.4\n",
      "  255   2295 1.268395269136193e-01 8.7e+01 9.15e-04  2e-05  3e-04 2:57.7\n",
      "  284   2556 1.242257001369131e-01 1.7e+02 4.56e-04  1e-05  2e-04 3:18.4\n",
      "  300   2700 1.218642330305477e-01 2.2e+02 3.54e-04  1e-05  1e-04 3:29.5\n",
      "  332   2988 1.277935343375195e-01 3.9e+02 5.73e-04  2e-05  3e-04 3:51.7\n",
      "  366   3294 1.245500573057308e-01 5.5e+02 4.18e-04  1e-05  2e-04 4:14.7\n",
      "  400   3600 1.299294272350713e-01 7.9e+02 2.78e-04  8e-06  1e-04 4:38.0\n",
      "  437   3933 1.279662840913185e-01 1.0e+03 2.72e-04  1e-05  1e-04 5:03.5\n",
      "  474   4266 1.272262706490182e-01 2.1e+03 4.15e-04  2e-05  2e-04 5:29.9\n",
      "  500   4500 1.284559671863510e-01 1.3e+03 2.58e-04  5e-06  7e-05 5:48.6\n",
      "  541   4869 1.307248051482569e-01 3.4e+03 1.40e-04  3e-06  4e-05 6:16.9\n",
      "  580   5220 1.270453004967095e-01 8.0e+03 3.87e-04  8e-06  1e-04 6:45.9\n",
      "  600   5400 1.220117219864871e-01 1.4e+04 9.39e-04  2e-05  3e-04 6:59.1\n",
      "  610   5490 1.288199570499744e-01 1.2e+04 1.20e-03  3e-05  3e-04 7:05.9\n"
     ]
    },
    {
     "name": "stderr",
     "output_type": "stream",
     "text": [
      "reconstraining parameters GP_regression.Mat52.lengthscale\n",
      "reconstraining parameters GP_regression.Mat52.variance\n",
      "reconstraining parameters GP_regression.Gaussian_noise.variance\n"
     ]
    },
    {
     "name": "stdout",
     "output_type": "stream",
     "text": [
      "termination on tolstagnation=263 (Sun Aug 23 17:22:42 2020)\n",
      "final/bestever f-value = 1.266553e-01 1.168662e-01\n",
      "incumbent solution: [0.00034514110068451425, 3.999550376189005, 0.0128616730548371, 7.996348920236162, 0.019785488207912972, 11.846645709200502]\n",
      "std deviation: [2.6682277689212116e-05, 3.953962294198781e-05, 0.0003308921505516025, 0.00017674454784497, 0.00016371750763905635, 0.0003376290772002499]\n",
      "Optimization restart 1/10, f = 12.632722863604478\n",
      "Optimization restart 2/10, f = 12.632722862147638\n",
      "Optimization restart 3/10, f = 104.426429619375\n",
      "Optimization restart 4/10, f = 147.90930895987213\n",
      "Optimization restart 5/10, f = 38.980293776916874\n",
      "Optimization restart 6/10, f = 94.06252164935731\n",
      "Optimization restart 7/10, f = 628.1319776901279\n",
      "Optimization restart 8/10, f = 111.41508148160796\n",
      "Optimization restart 9/10, f = 139.26184771709197\n"
     ]
    },
    {
     "name": "stderr",
     "output_type": "stream",
     "text": [
      "reconstraining parameters GP_regression.Mat52.lengthscale\n",
      "reconstraining parameters GP_regression.Mat52.variance\n",
      "reconstraining parameters GP_regression.Gaussian_noise.variance\n"
     ]
    },
    {
     "name": "stdout",
     "output_type": "stream",
     "text": [
      "Optimization restart 10/10, f = 104.70871025311425\n",
      "Optimization restart 1/10, f = -43.5474884746444\n",
      "Optimization restart 2/10, f = 402.71360834327197\n",
      "Optimization restart 3/10, f = 874793.7079041905\n",
      "Optimization restart 4/10, f = 148.9885459864907\n",
      "Optimization restart 5/10, f = 134.36853997577916\n",
      "Optimization restart 6/10, f = 136.60387008790673\n",
      "Optimization restart 7/10, f = 130.23395866072826\n",
      "Optimization restart 8/10, f = 459.8450816440051\n",
      "Optimization restart 9/10, f = -43.54748847420794\n",
      "Optimization restart 10/10, f = 78.88081903668169\n",
      "(4_w,9)-aCMA-ES (mu_w=2.8,w_1=49%) in dimension 6 (seed=346955, Sun Aug 23 17:22:54 2020)\n",
      "Iterat #Fevals   function value  axis ratio  sigma  min&max std  t[m:s]\n",
      "    1      9 5.104965419580175e-01 1.0e+00 3.02e-01  3e-01  3e-01 0:00.6\n",
      "    2     18 4.615181390533896e-01 1.4e+00 3.87e-01  4e-01  4e-01 0:01.3\n",
      "    3     27 4.190750504699750e-01 1.5e+00 4.71e-01  5e-01  5e-01 0:01.9\n",
      "    8     72 5.825849370036767e-02 1.9e+00 1.17e+00  1e+00  1e+00 0:05.2\n",
      "   14    126 -5.482724227948450e-02 2.4e+00 8.30e-01  7e-01  1e+00 0:09.5\n",
      "   22    198 -2.574175206272623e-02 2.2e+00 3.84e-01  2e-01  4e-01 0:15.3\n",
      "   32    288 -5.853117597696710e-02 2.8e+00 1.60e-01  7e-02  1e-01 0:21.9\n",
      "   42    378 -8.291738391456611e-02 3.3e+00 1.03e-01  4e-02  8e-02 0:29.2\n",
      "   54    486 -8.974952636765038e-02 3.5e+00 4.45e-02  1e-02  3e-02 0:37.5\n",
      "   68    612 -9.171672633934887e-02 6.4e+00 5.15e-02  1e-02  3e-02 0:47.2\n",
      "   83    747 -9.172013633428097e-02 1.1e+01 1.83e-02  3e-03  1e-02 0:57.3\n",
      "   99    891 -9.184945805263726e-02 1.6e+01 1.29e-02  2e-03  7e-03 1:08.6\n",
      "  100    900 -9.185361706023454e-02 1.6e+01 1.38e-02  2e-03  8e-03 1:09.3\n",
      "  120   1080 -9.205796714003232e-02 3.2e+01 1.02e-02  2e-03  6e-03 1:22.9\n",
      "  141   1269 -9.193377513394037e-02 3.4e+01 8.03e-03  1e-03  4e-03 1:37.1\n",
      "  164   1476 -9.189647797345200e-02 4.0e+01 1.43e-02  2e-03  5e-03 1:52.3\n",
      "  188   1692 -9.171901143933700e-02 4.9e+01 7.34e-03  9e-04  2e-03 2:08.8\n",
      "  200   1800 -9.181699239046295e-02 6.7e+01 8.28e-03  1e-03  3e-03 2:17.3\n",
      "  226   2034 -9.177042010695600e-02 4.3e+01 3.56e-03  4e-04  6e-04 2:35.4\n",
      "  250   2250 -9.178414448993136e-02 4.7e+01 1.81e-03  1e-04  3e-04 2:55.0\n",
      "  279   2511 -9.181462427149173e-02 4.5e+01 1.05e-03  6e-05  1e-04 3:15.3\n",
      "  300   2700 -9.191406452796051e-02 7.2e+01 7.32e-04  3e-05  1e-04 3:29.6\n",
      "  333   2997 -9.158593382989752e-02 9.2e+01 4.55e-04  2e-05  6e-05 3:51.8\n",
      "  367   3303 -9.187304922991878e-02 1.2e+02 5.40e-04  3e-05  7e-05 4:15.3\n",
      "  400   3600 -9.184179991839549e-02 1.6e+02 1.46e-03  5e-05  2e-04 4:38.4\n",
      "  437   3933 -9.195631917544854e-02 1.3e+02 7.77e-04  2e-05  5e-05 5:03.9\n",
      "  476   4284 -9.174144184436356e-02 2.1e+02 6.42e-04  1e-05  3e-05 5:30.5\n",
      "  500   4500 -9.196258291736090e-02 2.6e+02 2.84e-04  5e-06  1e-05 5:46.9\n",
      "  540   4860 -9.172532831952331e-02 2.8e+02 2.33e-04  3e-06  6e-06 6:13.3\n"
     ]
    },
    {
     "name": "stderr",
     "output_type": "stream",
     "text": [
      "reconstraining parameters GP_regression.Mat52.lengthscale\n",
      "reconstraining parameters GP_regression.Mat52.variance\n",
      "reconstraining parameters GP_regression.Gaussian_noise.variance\n"
     ]
    },
    {
     "name": "stdout",
     "output_type": "stream",
     "text": [
      "termination on tolstagnation=263 (Sun Aug 23 17:29:08 2020)\n",
      "final/bestever f-value = -9.132140e-02 -9.243561e-02\n",
      "incumbent solution: [1.1607379312950716, 3.0000176691204663, 2.549817566884167, 3.3906797329109866, 4.081599166482409, 4.604985576501858]\n",
      "std deviation: [4.126067365776341e-06, 4.020110810279717e-06, 5.891206467245745e-06, 3.98759582863702e-06, 5.481299451470311e-06, 3.2450411065359704e-06]\n",
      "Optimization restart 1/10, f = 10.94650592207362\n",
      "Optimization restart 2/10, f = 149.32531340541644\n",
      "Optimization restart 3/10, f = 159.38469354159702\n",
      "Optimization restart 4/10, f = 112.68144135332302\n",
      "Optimization restart 5/10, f = 130.18271843494446\n",
      "Optimization restart 6/10, f = 144.324467699113\n",
      "Optimization restart 7/10, f = 103.74984863673302\n",
      "Optimization restart 8/10, f = 79.33629888523126\n",
      "Optimization restart 9/10, f = 706.200246512349\n"
     ]
    },
    {
     "name": "stderr",
     "output_type": "stream",
     "text": [
      "reconstraining parameters GP_regression.Mat52.lengthscale\n",
      "reconstraining parameters GP_regression.Mat52.variance\n",
      "reconstraining parameters GP_regression.Gaussian_noise.variance\n"
     ]
    },
    {
     "name": "stdout",
     "output_type": "stream",
     "text": [
      "Optimization restart 10/10, f = 147.88084342415482\n",
      "Optimization restart 1/10, f = -45.55110118746592\n",
      "Optimization restart 2/10, f = 579.3868302245472\n",
      "Optimization restart 3/10, f = -20.074273479359867\n",
      "Optimization restart 4/10, f = 22.09131728884197\n",
      "Optimization restart 5/10, f = -45.55110118785771\n",
      "Optimization restart 6/10, f = 719.682976543439\n",
      "Optimization restart 7/10, f = 26.696048170240232\n",
      "Optimization restart 8/10, f = -45.5511011862526\n",
      "Optimization restart 9/10, f = 26.697857045154834\n",
      "Optimization restart 10/10, f = 139.66915304263026\n",
      "(4_w,9)-aCMA-ES (mu_w=2.8,w_1=49%) in dimension 6 (seed=317482, Sun Aug 23 17:29:22 2020)\n",
      "Iterat #Fevals   function value  axis ratio  sigma  min&max std  t[m:s]\n",
      "    1      9 3.599617998395105e-01 1.0e+00 2.35e-01  2e-01  2e-01 0:01.2\n",
      "    2     18 3.460089462141132e-01 1.2e+00 2.25e-01  2e-01  2e-01 0:02.2\n",
      "    3     27 3.570905401080293e-01 1.3e+00 2.24e-01  2e-01  2e-01 0:03.3\n",
      "    7     63 2.969412357218701e-01 2.0e+00 3.98e-01  3e-01  5e-01 0:07.0\n",
      "   11     99 3.010447880415890e-01 2.9e+00 4.55e-01  2e-01  5e-01 0:11.1\n",
      "   19    171 2.862808725676200e-01 4.2e+00 6.16e-01  2e-01  1e+00 0:16.6\n",
      "   28    252 2.291511098592800e-01 6.2e+00 8.21e-01  3e-01  1e+00 0:22.7\n",
      "   39    351 3.123680838192301e-02 1.1e+01 1.24e+00  3e-01  3e+00 0:30.0\n",
      "   51    459 -6.365986570029790e-02 9.1e+00 4.92e-01  1e-01  9e-01 0:38.5\n",
      "   64    576 -1.180969035096872e-01 1.2e+01 2.68e-01  4e-02  4e-01 0:47.6\n",
      "   79    711 -1.232224754953496e-01 1.3e+01 7.33e-02  7e-03  6e-02 0:57.9\n",
      "   95    855 -1.237986762431049e-01 1.1e+01 3.28e-02  3e-03  2e-02 1:09.0\n",
      "  100    900 -1.237518818027032e-01 1.1e+01 2.06e-02  1e-03  1e-02 1:12.3\n",
      "  119   1071 -1.236195388312986e-01 1.8e+01 1.30e-02  6e-04  9e-03 1:25.4\n",
      "  140   1260 -1.231679838695650e-01 2.9e+01 3.90e-02  1e-03  3e-02 1:39.9\n",
      "  161   1449 -1.238566405692770e-01 3.6e+01 2.36e-02  6e-04  1e-02 1:55.4\n",
      "  185   1665 -1.232457589166727e-01 4.7e+01 6.39e-03  2e-04  2e-03 2:12.1\n",
      "  200   1800 -1.233876269104680e-01 5.6e+01 1.16e-02  3e-04  4e-03 2:22.2\n",
      "  226   2034 -1.233264014183086e-01 6.5e+01 7.67e-03  2e-04  3e-03 2:40.3\n",
      "  254   2286 -1.238453354684142e-01 1.1e+02 6.20e-03  2e-04  2e-03 2:59.7\n",
      "  284   2556 -1.237168961564922e-01 1.7e+02 1.30e-02  3e-04  5e-03 3:19.8\n",
      "  300   2700 -1.235137123059256e-01 2.9e+02 7.81e-03  2e-04  3e-03 3:30.8\n",
      "  333   2997 -1.235033414513387e-01 4.0e+02 6.44e-03  1e-04  2e-03 3:53.2\n",
      "  361   3249 -1.237000811172781e-01 4.2e+02 7.69e-03  1e-04  2e-03 4:16.3\n",
      "  397   3573 -1.234376096324052e-01 4.4e+02 6.31e-03  9e-05  1e-03 4:40.5\n",
      "  400   3600 -1.236515892691800e-01 4.1e+02 5.38e-03  7e-05  1e-03 4:42.6\n",
      "  437   3933 -1.234967576540911e-01 2.7e+02 8.05e-03  7e-05  1e-03 5:08.7\n",
      "  477   4293 -1.238285037027951e-01 6.9e+02 4.18e-02  3e-04  5e-03 5:35.7\n",
      "  500   4500 -1.234294694733095e-01 9.6e+02 6.50e-02  4e-04  6e-03 5:51.9\n",
      "  505   4545 -1.237636297207835e-01 7.6e+02 4.01e-02  2e-04  3e-03 5:55.6\n"
     ]
    },
    {
     "name": "stderr",
     "output_type": "stream",
     "text": [
      "reconstraining parameters GP_regression.Mat52.lengthscale\n",
      "reconstraining parameters GP_regression.Mat52.variance\n",
      "reconstraining parameters GP_regression.Gaussian_noise.variance\n"
     ]
    },
    {
     "name": "stdout",
     "output_type": "stream",
     "text": [
      "termination on tolstagnation=263 (Sun Aug 23 17:35:19 2020)\n",
      "final/bestever f-value = -1.232078e-01 -1.241449e-01\n",
      "incumbent solution: [1.050272678623914, 3.9999722140923555, 2.5423604118736685, 3.2389494963222702, 2.9464141414822063, 4.391199403143659]\n",
      "std deviation: [0.00021439035956409655, 0.0007201458043765523, 0.0017019971200484456, 0.0012387382158146724, 0.002131411024085168, 0.0032540662672737508]\n",
      "Optimization restart 1/10, f = 9.359423002168846\n",
      "Optimization restart 2/10, f = 9.359423002177273\n",
      "Optimization restart 3/10, f = 714.2684626895907\n",
      "Optimization restart 4/10, f = 131.96942259491357\n",
      "Optimization restart 5/10, f = 151.79362785280148\n",
      "Optimization restart 6/10, f = 678.7238833013976\n",
      "Optimization restart 7/10, f = 151.8225510949386\n",
      "Optimization restart 8/10, f = 714.2684704288123\n",
      "Optimization restart 9/10, f = 151.82642305289997\n"
     ]
    },
    {
     "name": "stderr",
     "output_type": "stream",
     "text": [
      "reconstraining parameters GP_regression.Mat52.lengthscale\n",
      "reconstraining parameters GP_regression.Mat52.variance\n",
      "reconstraining parameters GP_regression.Gaussian_noise.variance\n"
     ]
    },
    {
     "name": "stdout",
     "output_type": "stream",
     "text": [
      "Optimization restart 10/10, f = 150.53766494879775\n",
      "Optimization restart 1/10, f = -48.44534755994855\n",
      "Optimization restart 2/10, f = 626.6261465311599\n",
      "Optimization restart 3/10, f = 714.2684704288123\n",
      "Optimization restart 4/10, f = 646.403671249388\n",
      "Optimization restart 5/10, f = -29.79223521234377\n",
      "Optimization restart 6/10, f = 132.7701518756658\n",
      "Optimization restart 7/10, f = -10.387863604711363\n",
      "Optimization restart 8/10, f = 20.62448827767396\n",
      "Optimization restart 9/10, f = 67.3727142429095\n",
      "Optimization restart 10/10, f = 151.64966982518362\n",
      "(4_w,9)-aCMA-ES (mu_w=2.8,w_1=49%) in dimension 6 (seed=342744, Sun Aug 23 17:35:29 2020)\n",
      "Iterat #Fevals   function value  axis ratio  sigma  min&max std  t[m:s]\n",
      "    1      9 4.436375446280568e-01 1.0e+00 2.42e-01  2e-01  3e-01 0:00.7\n",
      "    2     18 4.409365447847201e-01 1.3e+00 2.45e-01  2e-01  2e-01 0:01.4\n",
      "    3     27 4.246208275161705e-01 1.4e+00 2.46e-01  2e-01  3e-01 0:02.1\n",
      "    8     72 3.632238050292582e-01 2.5e+00 3.22e-01  2e-01  4e-01 0:05.6\n",
      "   14    126 2.281213439172490e-01 3.5e+00 5.51e-01  3e-01  8e-01 0:09.7\n",
      "   21    189 -1.453369332861287e-02 3.9e+00 1.12e+00  5e-01  1e+00 0:14.7\n",
      "   30    270 -4.203619495279759e-02 3.9e+00 4.34e-01  2e-01  5e-01 0:20.8\n",
      "   41    369 -7.067769363585384e-02 3.7e+00 2.17e-01  6e-02  2e-01 0:28.3\n",
      "   53    477 -7.332951552042730e-02 5.6e+00 8.35e-02  2e-02  9e-02 0:36.6\n",
      "   66    594 -7.470593416143528e-02 6.0e+00 4.42e-02  8e-03  4e-02 0:45.7\n",
      "   80    720 -7.416998335953907e-02 8.8e+00 2.89e-02  3e-03  3e-02 0:55.7\n",
      "   96    864 -7.558735915991791e-02 1.3e+01 1.98e-02  2e-03  2e-02 1:07.1\n",
      "  100    900 -7.520433562967112e-02 1.3e+01 1.51e-02  1e-03  1e-02 1:09.9\n",
      "  119   1071 -7.505687120583682e-02 1.8e+01 1.11e-02  9e-04  1e-02 1:23.3\n",
      "  139   1251 -7.518723646228401e-02 2.0e+01 1.58e-02  1e-03  1e-02 1:37.4\n",
      "  160   1440 -7.475345918985103e-02 3.1e+01 1.24e-02  7e-04  7e-03 1:52.5\n",
      "  182   1638 -7.575000427136026e-02 4.8e+01 1.45e-02  6e-04  1e-02 2:09.1\n",
      "  200   1800 -7.429488470506428e-02 4.6e+01 1.43e-02  6e-04  9e-03 2:24.5\n",
      "  227   2043 -7.500919554947165e-02 4.5e+01 2.44e-02  1e-03  2e-02 2:43.1\n",
      "  255   2295 -7.567229370586957e-02 6.3e+01 9.83e-03  3e-04  5e-03 3:02.7\n",
      "  284   2556 -7.569434947883592e-02 7.5e+01 1.65e-02  7e-04  9e-03 3:22.9\n",
      "  300   2700 -7.577597632297345e-02 1.2e+02 4.43e-02  2e-03  3e-02 3:34.1\n",
      "  332   2988 -7.402623166010149e-02 1.6e+02 5.81e-02  2e-03  3e-02 3:56.6\n",
      "  365   3285 -7.547830179277708e-02 1.8e+02 4.47e-02  1e-03  3e-02 4:19.7\n",
      "  400   3600 -7.473235807151150e-02 1.5e+02 1.47e-02  2e-04  6e-03 4:44.0\n",
      "  437   3933 -7.594004786954589e-02 4.4e+02 1.24e-02  1e-04  6e-03 5:09.6\n",
      "  475   4275 -7.530259790802198e-02 1.3e+03 1.12e-02  1e-04  8e-03 5:35.6\n",
      "  500   4500 -7.477512705104966e-02 2.5e+03 1.21e-02  1e-04  1e-02 5:54.1\n",
      "  505   4545 -7.497891952751018e-02 2.9e+03 1.08e-02  1e-04  9e-03 5:57.5\n"
     ]
    },
    {
     "name": "stderr",
     "output_type": "stream",
     "text": [
      "reconstraining parameters GP_regression.Mat52.lengthscale\n",
      "reconstraining parameters GP_regression.Mat52.variance\n",
      "reconstraining parameters GP_regression.Gaussian_noise.variance\n"
     ]
    },
    {
     "name": "stdout",
     "output_type": "stream",
     "text": [
      "termination on tolstagnation=263 (Sun Aug 23 17:41:28 2020)\n",
      "final/bestever f-value = -7.388389e-02 -7.724132e-02\n",
      "incumbent solution: [0.05496676529039021, 0.1360138152343628, 1.8784376173842245, 3.3267097590531094, 4.291237452964054, 3.3800795217232005]\n",
      "std deviation: [0.0005835174053604638, 0.00010954690463584017, 0.0010763515372543121, 0.0011152510575334427, 0.008970145510364283, 0.001187512382466509]\n",
      "Optimization restart 1/10, f = 6.26009784603005\n",
      "Optimization restart 2/10, f = 6.26009784569527\n",
      "Optimization restart 3/10, f = 6.260097845608584\n",
      "Optimization restart 4/10, f = 101.68579287181569\n",
      "Optimization restart 5/10, f = 151.93080532094382\n",
      "Optimization restart 6/10, f = 103.2139108325554\n",
      "Optimization restart 7/10, f = 152.22034012305946\n",
      "Optimization restart 8/10, f = 138.70412121619444\n",
      "Optimization restart 9/10, f = 344.3630332300201\n"
     ]
    },
    {
     "name": "stderr",
     "output_type": "stream",
     "text": [
      "reconstraining parameters GP_regression.Mat52.lengthscale\n",
      "reconstraining parameters GP_regression.Mat52.variance\n",
      "reconstraining parameters GP_regression.Gaussian_noise.variance\n"
     ]
    },
    {
     "name": "stdout",
     "output_type": "stream",
     "text": [
      "Optimization restart 10/10, f = 59.966005399622304\n",
      "Optimization restart 1/10, f = -49.9243201480072\n",
      "Optimization restart 2/10, f = -49.92432014775727\n",
      "Optimization restart 3/10, f = 153.24536158638594\n",
      "Optimization restart 4/10, f = -49.92432014751091\n",
      "Optimization restart 5/10, f = 153.24536158610465\n",
      "Optimization restart 6/10, f = 153.24528184829745\n",
      "Optimization restart 7/10, f = -49.92432014764858\n",
      "Optimization restart 8/10, f = 720.9438766945021\n",
      "Optimization restart 9/10, f = 405.67040885507856\n",
      "Optimization restart 10/10, f = -49.92432014113174\n",
      "(4_w,9)-aCMA-ES (mu_w=2.8,w_1=49%) in dimension 6 (seed=355549, Sun Aug 23 17:41:39 2020)\n",
      "Iterat #Fevals   function value  axis ratio  sigma  min&max std  t[m:s]\n",
      "    1      9 2.858610540611359e-01 1.0e+00 2.39e-01  2e-01  2e-01 0:00.6\n",
      "    2     18 2.660845173808761e-01 1.2e+00 2.46e-01  2e-01  3e-01 0:01.3\n",
      "    3     27 2.331348782985798e-01 1.4e+00 2.70e-01  2e-01  3e-01 0:02.0\n",
      "    8     72 1.556161225799626e-01 2.0e+00 3.44e-01  3e-01  4e-01 0:05.4\n",
      "   14    126 1.048503210517944e-01 2.5e+00 4.09e-01  3e-01  5e-01 0:09.7\n",
      "   22    198 7.965247248502864e-02 2.8e+00 2.55e-01  2e-01  3e-01 0:15.4\n",
      "   31    279 2.134594999065550e-02 4.2e+00 3.40e-01  2e-01  5e-01 0:21.8\n",
      "   41    369 -4.726946575988028e-02 5.4e+00 3.64e-01  1e-01  5e-01 0:28.8\n",
      "   53    477 -5.716418630818784e-02 8.8e+00 1.40e-01  3e-02  2e-01 0:37.2\n",
      "   65    585 -7.061745352525273e-02 1.1e+01 1.33e-01  2e-02  1e-01 0:46.5\n",
      "   79    711 -7.360861247804104e-02 1.8e+01 3.88e-02  4e-03  3e-02 0:56.5\n",
      "   94    846 -7.380310528040473e-02 2.6e+01 1.79e-02  2e-03  1e-02 1:07.5\n",
      "  100    900 -7.375182950532390e-02 2.8e+01 1.37e-02  1e-03  9e-03 1:14.4\n",
      "  117   1053 -7.386621208305905e-02 4.1e+01 8.80e-03  7e-04  6e-03 1:28.0\n",
      "  136   1224 -7.383092464936422e-02 4.3e+01 8.13e-03  6e-04  5e-03 1:42.0\n",
      "  157   1413 -7.384041294874344e-02 4.9e+01 7.00e-03  5e-04  4e-03 1:57.2\n",
      "  180   1620 -7.387515357937778e-02 3.9e+01 1.00e-02  8e-04  4e-03 2:13.7\n",
      "  200   1800 -7.390910308604864e-02 5.0e+01 7.33e-03  5e-04  3e-03 2:27.9\n",
      "  226   2034 -7.387537266145890e-02 3.9e+01 1.58e-02  7e-04  4e-03 2:46.2\n",
      "  253   2277 -7.379940244683589e-02 6.2e+01 1.03e-02  5e-04  2e-03 3:05.7\n",
      "  282   2538 -7.381644859565413e-02 5.7e+01 1.47e-02  7e-04  3e-03 3:26.3\n",
      "  300   2700 -7.392373850375399e-02 9.1e+01 1.76e-02  7e-04  4e-03 3:39.6\n",
      "  331   2979 -7.391831561893895e-02 5.8e+01 8.90e-03  2e-04  1e-03 4:02.0\n",
      "  364   3276 -7.380800391334853e-02 6.3e+01 7.12e-03  1e-04  8e-04 4:25.2\n",
      "  394   3546 -7.395956990808879e-02 1.0e+02 5.00e-03  8e-05  6e-04 4:49.2\n",
      "  400   3600 -7.396077442777679e-02 1.1e+02 5.08e-03  8e-05  6e-04 4:55.7\n",
      "  437   3933 -7.388844078091562e-02 1.8e+02 4.07e-03  4e-05  4e-04 5:21.8\n",
      "  475   4275 -7.387589283271986e-02 1.6e+02 4.58e-03  3e-05  4e-04 5:49.2\n",
      "  500   4500 -7.396058111972688e-02 9.4e+01 9.02e-03  6e-05  4e-04 6:07.2\n",
      "  542   4878 -7.393650899312279e-02 2.3e+02 1.54e-02  9e-05  1e-03 6:36.9\n",
      "  585   5265 -7.403452247162397e-02 3.3e+02 1.96e-02  9e-05  1e-03 7:07.4\n",
      "  595   5355 -7.392423966767263e-02 4.3e+02 1.53e-02  6e-05  1e-03 7:14.3\n"
     ]
    },
    {
     "name": "stderr",
     "output_type": "stream",
     "text": [
      "reconstraining parameters GP_regression.Mat52.lengthscale\n",
      "reconstraining parameters GP_regression.Mat52.variance\n",
      "reconstraining parameters GP_regression.Gaussian_noise.variance\n"
     ]
    },
    {
     "name": "stdout",
     "output_type": "stream",
     "text": [
      "termination on tolstagnation=263 (Sun Aug 23 17:48:55 2020)\n",
      "final/bestever f-value = -7.374839e-02 -7.410103e-02\n",
      "incumbent solution: [1.1197914067735169, 3.914586274735172, 2.543803150208119, 3.217056881730088, 3.2296693774519856, 4.46115622187028]\n",
      "std deviation: [7.25737813132246e-05, 0.00014753423352400444, 6.323151457838868e-05, 0.00028520860328171415, 0.0009554673294773327, 0.000851672066382005]\n",
      "Optimization restart 1/10, f = 3.4329169280362066\n",
      "Optimization restart 2/10, f = 154.6643001193093\n",
      "Optimization restart 3/10, f = 655.8482150619864\n",
      "Optimization restart 4/10, f = 95.23097091015507\n",
      "Optimization restart 5/10, f = 154.66429928940732\n",
      "Optimization restart 6/10, f = 154.66430992247317\n",
      "Optimization restart 7/10, f = 153.35404616500236\n",
      "Optimization restart 8/10, f = 100.76011283811482\n",
      "Optimization restart 9/10, f = 154.6643001193093\n"
     ]
    },
    {
     "name": "stderr",
     "output_type": "stream",
     "text": [
      "reconstraining parameters GP_regression.Mat52.lengthscale\n",
      "reconstraining parameters GP_regression.Mat52.variance\n",
      "reconstraining parameters GP_regression.Gaussian_noise.variance\n"
     ]
    },
    {
     "name": "stdout",
     "output_type": "stream",
     "text": [
      "Optimization restart 10/10, f = 113.37301262180456\n",
      "Optimization restart 1/10, f = -53.62620573468604\n",
      "Optimization restart 2/10, f = 44.38916291006447\n",
      "Optimization restart 3/10, f = -53.62620572983312\n",
      "Optimization restart 4/10, f = 723.0587530449365\n",
      "Optimization restart 5/10, f = -53.626205734684405\n",
      "Optimization restart 6/10, f = 92.80211427118833\n",
      "Optimization restart 7/10, f = 94.72560189482324\n",
      "Optimization restart 8/10, f = 154.6642998950994\n",
      "Optimization restart 9/10, f = 727.6192827368247\n",
      "Optimization restart 10/10, f = 46.806655964899555\n",
      "(4_w,9)-aCMA-ES (mu_w=2.8,w_1=49%) in dimension 6 (seed=254661, Sun Aug 23 17:49:08 2020)\n",
      "Iterat #Fevals   function value  axis ratio  sigma  min&max std  t[m:s]\n",
      "    1      9 4.329390922209701e-01 1.0e+00 2.48e-01  2e-01  3e-01 0:00.8\n",
      "    2     18 4.236674247230134e-01 1.2e+00 2.81e-01  3e-01  3e-01 0:01.6\n",
      "    3     27 4.000910804038815e-01 1.5e+00 3.01e-01  3e-01  4e-01 0:02.3\n",
      "    8     72 2.239622947958522e-01 2.1e+00 5.74e-01  5e-01  7e-01 0:05.8\n",
      "   14    126 -4.748046905927972e-02 2.0e+00 8.06e-01  7e-01  9e-01 0:10.4\n",
      "   21    189 -6.242037117786376e-02 2.5e+00 5.37e-01  3e-01  6e-01 0:15.4\n",
      "   30    270 -1.004181606710339e-01 2.2e+00 3.13e-01  2e-01  2e-01 0:21.8\n",
      "   40    360 -1.063950705217666e-01 2.5e+00 1.59e-01  7e-02  1e-01 0:29.0\n",
      "   52    468 -1.075911563018448e-01 2.6e+00 1.17e-01  4e-02  8e-02 0:37.5\n",
      "   65    585 -1.088766439137505e-01 3.8e+00 7.37e-02  2e-02  5e-02 0:46.8\n",
      "   80    720 -1.093178409601464e-01 6.3e+00 5.81e-02  9e-03  4e-02 0:57.5\n",
      "   96    864 -1.097643426301848e-01 6.5e+00 4.50e-02  8e-03  3e-02 1:08.7\n",
      "  100    900 -1.085459869587587e-01 6.2e+00 4.29e-02  7e-03  2e-02 1:11.5\n",
      "  114   1026 -1.097221140364856e-01 7.0e+00 2.87e-02  4e-03  2e-02 1:25.1\n",
      "  133   1197 -1.092455141239005e-01 7.5e+00 1.78e-02  2e-03  9e-03 1:39.2\n",
      "  154   1386 -1.089322202370570e-01 6.3e+00 8.32e-03  9e-04  3e-03 1:54.5\n",
      "  175   1575 -1.100946639847789e-01 7.3e+00 7.90e-03  6e-04  2e-03 2:10.7\n",
      "  198   1782 -1.094659667526577e-01 1.1e+01 5.64e-03  3e-04  1e-03 2:27.9\n",
      "  200   1800 -1.096088070420040e-01 1.1e+01 4.51e-03  2e-04  1e-03 2:29.3\n",
      "  227   2043 -1.094188856335809e-01 2.1e+01 3.22e-03  9e-05  7e-04 2:48.4\n",
      "  255   2295 -1.105518312566752e-01 4.6e+01 2.22e-03  4e-05  5e-04 3:08.7\n",
      "  285   2565 -1.090829191852997e-01 5.7e+01 4.06e-03  5e-05  9e-04 3:30.2\n",
      "  300   2700 -1.095465932062373e-01 6.2e+01 4.15e-03  6e-05  1e-03 3:41.0\n",
      "  332   2988 -1.093571721733151e-01 9.3e+01 4.10e-03  4e-05  7e-04 4:04.4\n",
      "  366   3294 -1.102461960550911e-01 5.0e+01 4.81e-03  4e-05  6e-04 4:29.0\n",
      "  400   3600 -1.098078134406270e-01 4.1e+01 3.59e-03  2e-05  3e-04 4:53.5\n",
      "  436   3924 -1.089766051750457e-01 7.2e+01 2.28e-03  1e-05  2e-04 5:20.1\n",
      "  474   4266 -1.089768770733904e-01 7.5e+01 3.20e-04  1e-06  2e-05 5:47.4\n",
      "  500   4500 -1.105779029755806e-01 6.6e+01 2.54e-04  7e-07  9e-06 6:10.4\n",
      "  537   4833 -1.099826635426783e-01 2.2e+02 9.07e-05  2e-07  6e-06 6:39.8\n",
      "  580   5220 -1.096227471006687e-01 4.1e+02 8.13e-05  2e-07  4e-06 7:10.1\n",
      "  600   5400 -1.085836796688240e-01 4.4e+02 4.33e-05  1e-07  2e-06 7:24.2\n",
      "  610   5490 -1.087216157254837e-01 5.1e+02 3.66e-05  7e-08  1e-06 7:31.7\n",
      "termination on tolstagnation=263 (Sun Aug 23 17:56:40 2020)\n",
      "final/bestever f-value = -1.089637e-01 -1.112162e-01\n",
      "incumbent solution: [0.03719504604066252, 0.023882134908733012, 2.415530399520877, 3.3388214830175067, 2.39318690749268, 3.644661746885134]\n",
      "std deviation: [7.163935812916497e-08, 1.253300569702545e-06, 2.6683395861905067e-07, 2.733060490303922e-07, 1.5464385391115833e-07, 6.165264059279664e-07]\n"
     ]
    }
   ],
   "source": [
    "opt.optimise(n_steps=100)"
   ]
  },
  {
   "cell_type": "code",
   "execution_count": null,
   "metadata": {},
   "outputs": [],
   "source": []
  }
 ],
 "metadata": {
  "kernelspec": {
   "display_name": "testsuite",
   "language": "python",
   "name": "testsuite"
  },
  "language_info": {
   "codemirror_mode": {
    "name": "ipython",
    "version": 3
   },
   "file_extension": ".py",
   "mimetype": "text/x-python",
   "name": "python",
   "nbconvert_exporter": "python",
   "pygments_lexer": "ipython3",
   "version": "3.8.3"
  },
  "varInspector": {
   "cols": {
    "lenName": 16,
    "lenType": 16,
    "lenVar": 40
   },
   "kernels_config": {
    "python": {
     "delete_cmd_postfix": "",
     "delete_cmd_prefix": "del ",
     "library": "var_list.py",
     "varRefreshCmd": "print(var_dic_list())"
    },
    "r": {
     "delete_cmd_postfix": ") ",
     "delete_cmd_prefix": "rm(",
     "library": "var_list.r",
     "varRefreshCmd": "cat(var_dic_list()) "
    }
   },
   "types_to_exclude": [
    "module",
    "function",
    "builtin_function_or_method",
    "instance",
    "_Feature"
   ],
   "window_display": false
  }
 },
 "nbformat": 4,
 "nbformat_minor": 4
}
