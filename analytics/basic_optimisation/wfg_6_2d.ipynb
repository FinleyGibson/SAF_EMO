{
 "cells": [
  {
   "cell_type": "code",
   "execution_count": 1,
   "metadata": {},
   "outputs": [],
   "source": [
    "import matplotlib.pyplot as plt\n",
    "import wfg\n",
    "import numpy as np\n",
    "import rootpath \n",
    "import sys\n",
    "import os\n",
    "sys.path.append(rootpath.detect())\n",
    "from testsuite.surrogates import GP, MultiSurrogate\n",
    "from testsuite.optimisers import Saf, Saf_Sms\n",
    "from testsuite.analysis import load_all"
   ]
  },
  {
   "cell_type": "code",
   "execution_count": 2,
   "metadata": {},
   "outputs": [],
   "source": [
    "## set up objective function\n",
    "kfactor = 2\n",
    "lfactor = 2\n",
    "n_objectives = 2\n",
    "n_dims = lfactor * 2 + kfactor\n",
    "\n",
    "k = kfactor * (n_objectives - 1)\n",
    "l = lfactor * 2\n",
    "wfg_n = 6\n",
    "exec(\"func = wfg.WFG{}\".format(int(wfg_n)))\n",
    "\n",
    "def wfg2(x):\n",
    "    if x.ndim == 2:\n",
    "        assert (x.shape[1] == n_dims)\n",
    "    else:\n",
    "        squeezable = np.where([a == 1 for a in x.shape])[0]\n",
    "        for i in squeezable[::-1]:\n",
    "            x = x.squeeze(i)\n",
    "\n",
    "    if x.ndim == 1:\n",
    "        assert (x.shape[0] == n_dims)\n",
    "        x = x.reshape(1, -1)\n",
    "    return np.array([func(xi, k, n_objectives) for xi in x])"
   ]
  },
  {
   "cell_type": "code",
   "execution_count": 4,
   "metadata": {},
   "outputs": [],
   "source": [
    "limits = [np.zeros((n_dims)), np.array(range(1, n_dims + 1)) * 2]\n",
    "gp_surr_multi = MultiSurrogate(GP, scaled=True)\n",
    "# opt = Saf(objective_function=wfg2, ei=False,  limits=limits, surrogate=gp_surr_multi, n_initial=10, budget=20, seed=None, log_models=True, log_interval=2)\n",
    "opt = Saf_Sms(objective_function=wfg2, ei=False, limits=limits, surrogate=gp_surr_multi, n_initial=10, budget=100, seed=None, log_models=True, log_interval=10)"
   ]
  },
  {
   "cell_type": "code",
   "execution_count": 5,
   "metadata": {},
   "outputs": [
    {
     "name": "stderr",
     "output_type": "stream",
     "text": [
      "reconstraining parameters GP_regression.Mat52.lengthscale\n",
      "reconstraining parameters GP_regression.Mat52.variance\n",
      "reconstraining parameters GP_regression.Gaussian_noise.variance\n"
     ]
    },
    {
     "name": "stdout",
     "output_type": "stream",
     "text": [
      "Optimization restart 1/10, f = 14.189385249655148\n",
      "Optimization restart 2/10, f = 13.055817376786525\n",
      "Optimization restart 3/10, f = 13.055817376786687\n",
      "Optimization restart 4/10, f = 66.75406265689837\n",
      "Optimization restart 5/10, f = 13.055817376786596\n",
      "Optimization restart 6/10, f = 14.189385332046728\n"
     ]
    },
    {
     "name": "stderr",
     "output_type": "stream",
     "text": [
      "reconstraining parameters GP_regression.Mat52.lengthscale\n",
      "reconstraining parameters GP_regression.Mat52.variance\n",
      "reconstraining parameters GP_regression.Gaussian_noise.variance\n"
     ]
    },
    {
     "name": "stdout",
     "output_type": "stream",
     "text": [
      "Optimization restart 7/10, f = 14.189385332053408\n",
      "Optimization restart 8/10, f = 66.75406234541842\n",
      "Optimization restart 9/10, f = 66.75406265689837\n",
      "Optimization restart 10/10, f = 66.75406073336127\n",
      "Optimization restart 1/10, f = 13.637095038902128\n",
      "Optimization restart 2/10, f = 13.462381847071116\n",
      "Optimization restart 3/10, f = 30.782714308095194\n",
      "Optimization restart 4/10, f = 60021222.9672737\n",
      "Optimization restart 5/10, f = 14.189385332047468\n",
      "Optimization restart 6/10, f = 13.462381846719019\n",
      "Optimization restart 7/10, f = 13.462381846718893\n",
      "Optimization restart 8/10, f = 13.462381846811194\n",
      "Optimization restart 9/10, f = 14.189385332046726\n",
      "Optimization restart 10/10, f = 14.189385332046744\n",
      "(4_w,9)-aCMA-ES (mu_w=2.8,w_1=49%) in dimension 6 (seed=333658, Wed Sep 16 03:33:07 2020)\n",
      "Iterat #Fevals   function value  axis ratio  sigma  min&max std  t[m:s]\n",
      "    1      9 -1.521296703530624e-01 1.0e+00 2.86e-01  3e-01  3e-01 0:00.0\n",
      "    2     18 -1.594099928746511e-01 1.2e+00 2.92e-01  3e-01  3e-01 0:00.1\n",
      "    3     27 -1.680555039882150e-01 1.3e+00 3.09e-01  3e-01  3e-01 0:00.1\n",
      "  100    900 -4.088614696821748e-01 1.2e+01 1.63e-03  8e-05  8e-04 0:02.1\n",
      "  158   1422 -4.088614898255081e-01 1.0e+01 1.05e-05  2e-07  1e-06 0:03.0\n"
     ]
    },
    {
     "name": "stderr",
     "output_type": "stream",
     "text": [
      "reconstraining parameters GP_regression.Mat52.lengthscale\n",
      "reconstraining parameters GP_regression.Mat52.variance\n",
      "reconstraining parameters GP_regression.Gaussian_noise.variance\n"
     ]
    },
    {
     "name": "stdout",
     "output_type": "stream",
     "text": [
      "termination on tolfun=1e-11 (Wed Sep 16 03:33:11 2020)\n",
      "final/bestever f-value = -4.088615e-01 -4.088615e-01\n",
      "incumbent solution: [5.74133513478088e-14, 1.2864370559881944, 1.6889713706500546, 3.4725744913167125, 2.039253573265154, 8.281167635765955e-15]\n",
      "std deviation: [1.6225728028569898e-07, 3.158744046071685e-07, 7.585043593612923e-07, 1.2022587300090498e-06, 1.3045040955858526e-06, 3.8264724687977513e-07]\n",
      "Optimization restart 1/10, f = 14.158775599114055\n",
      "Optimization restart 2/10, f = 73.4294689225882\n",
      "Optimization restart 3/10, f = 59853955.643007375\n",
      "Optimization restart 4/10, f = 73.42946826134077\n",
      "Optimization restart 5/10, f = 15.6083238652514\n",
      "Optimization restart 6/10, f = 59857534.16444799\n",
      "Optimization restart 7/10, f = 14.158775599105374\n",
      "Optimization restart 8/10, f = 15.6083238652514"
     ]
    },
    {
     "name": "stderr",
     "output_type": "stream",
     "text": [
      "reconstraining parameters GP_regression.Mat52.lengthscale\n",
      "reconstraining parameters GP_regression.Mat52.variance\n",
      "reconstraining parameters GP_regression.Gaussian_noise.variance\n"
     ]
    },
    {
     "name": "stdout",
     "output_type": "stream",
     "text": [
      "\n",
      "Optimization restart 9/10, f = 14.158775599105159\n",
      "Optimization restart 10/10, f = 15.6083238652514\n",
      "Optimization restart 1/10, f = 14.718371385972004\n",
      "Optimization restart 2/10, f = 15.608323865251402\n",
      "Optimization restart 3/10, f = 73.4294689225882\n",
      "Optimization restart 4/10, f = 15.608323865251403\n",
      "Optimization restart 5/10, f = 90893528.11817364\n",
      "Optimization restart 6/10, f = 73.42946422836427\n",
      "Optimization restart 7/10, f = 14.718371385972908\n",
      "Optimization restart 8/10, f = 15.608322159124993\n",
      "Optimization restart 9/10, f = 73.42946647349858\n",
      "Optimization restart 10/10, f = 14.71837138597181\n",
      "(4_w,9)-aCMA-ES (mu_w=2.8,w_1=49%) in dimension 6 (seed=288924, Wed Sep 16 03:33:12 2020)\n",
      "Iterat #Fevals   function value  axis ratio  sigma  min&max std  t[m:s]\n",
      "    1      9 -1.027597669265035e-01 1.0e+00 2.52e-01  2e-01  3e-01 0:00.0\n",
      "    2     18 -1.187134713633031e-01 1.3e+00 2.70e-01  2e-01  3e-01 0:00.0\n",
      "    3     27 -1.249194692306630e-01 1.6e+00 3.02e-01  3e-01  3e-01 0:00.1\n",
      "  100    900 -2.557760992008178e-01 3.1e+01 3.74e-03  1e-04  4e-03 0:01.7\n",
      "  161   1449 -2.557761165734376e-01 5.3e+01 9.51e-06  7e-08  3e-06 0:02.8\n"
     ]
    },
    {
     "name": "stderr",
     "output_type": "stream",
     "text": [
      "reconstraining parameters GP_regression.Mat52.lengthscale\n",
      "reconstraining parameters GP_regression.Mat52.variance\n",
      "reconstraining parameters GP_regression.Gaussian_noise.variance\n"
     ]
    },
    {
     "name": "stdout",
     "output_type": "stream",
     "text": [
      "termination on tolfun=1e-11 (Wed Sep 16 03:33:15 2020)\n",
      "final/bestever f-value = -2.557761e-01 -2.557761e-01\n",
      "incumbent solution: [1.3477592844399348e-17, 2.308688483117815, 4.80259279969972, 5.46886144416988, 5.011512441547996, 11.99999999999907]\n",
      "std deviation: [6.500394869012315e-08, 1.2200801703073475e-07, 4.2815084976282256e-07, 6.745091075679865e-07, 6.656167813510767e-07, 3.0280929343206725e-06]\n",
      "Optimization restart 1/10, f = 16.367363954506633\n",
      "Optimization restart 2/10, f = 16.367363954506388\n",
      "Optimization restart 3/10, f = 17.027262398456074\n",
      "Optimization restart 4/10, f = 16.36736395450636\n",
      "Optimization restart 5/10, f = 16.36736395450715\n"
     ]
    },
    {
     "name": "stderr",
     "output_type": "stream",
     "text": [
      "reconstraining parameters GP_regression.Mat52.lengthscale\n",
      "reconstraining parameters GP_regression.Mat52.variance\n",
      "reconstraining parameters GP_regression.Gaussian_noise.variance\n"
     ]
    },
    {
     "name": "stdout",
     "output_type": "stream",
     "text": [
      "Optimization restart 6/10, f = 80.10487518827804\n",
      "Optimization restart 7/10, f = 16.367363954518154\n",
      "Optimization restart 8/10, f = 91393270.06983308\n",
      "Optimization restart 9/10, f = 17.027262398456227\n",
      "Optimization restart 10/10, f = 16.367363954508356\n",
      "Optimization restart 1/10, f = 15.647507191706143\n",
      "Optimization restart 2/10, f = 15.647507191750543\n",
      "Optimization restart 3/10, f = 15.647507191706111\n",
      "Optimization restart 4/10, f = 80.10487518827804\n",
      "Optimization restart 5/10, f = 80.1048690280544\n",
      "Optimization restart 6/10, f = 15.647507191706222\n",
      "Optimization restart 7/10, f = 17.027262398456415\n",
      "Optimization restart 8/10, f = 34.10684680605874\n",
      "Optimization restart 9/10, f = 15.647507191706122\n",
      "Optimization restart 10/10, f = 15.647507191707051\n",
      "(4_w,9)-aCMA-ES (mu_w=2.8,w_1=49%) in dimension 6 (seed=312720, Wed Sep 16 03:33:17 2020)\n",
      "Iterat #Fevals   function value  axis ratio  sigma  min&max std  t[m:s]\n",
      "    1      9 -2.194228863914871e-02 1.0e+00 2.82e-01  3e-01  3e-01 0:00.0\n",
      "    2     18 -5.141038473999648e-02 1.3e+00 2.96e-01  3e-01  4e-01 0:00.0\n",
      "    3     27 -7.461480100220941e-02 1.4e+00 3.22e-01  3e-01  4e-01 0:00.1\n",
      "  100    900 -2.903120138576503e-01 3.5e+00 1.64e-01  2e-02  6e-02 0:01.7\n",
      "  200   1800 -2.903641198141043e-01 6.1e+00 4.58e-05  6e-07  3e-06 0:03.4\n",
      "  210   1890 -2.903641198141509e-01 5.2e+00 1.48e-05  2e-07  8e-07 0:03.6\n"
     ]
    },
    {
     "name": "stderr",
     "output_type": "stream",
     "text": [
      "reconstraining parameters GP_regression.Mat52.lengthscale\n",
      "reconstraining parameters GP_regression.Mat52.variance\n",
      "reconstraining parameters GP_regression.Gaussian_noise.variance\n"
     ]
    },
    {
     "name": "stdout",
     "output_type": "stream",
     "text": [
      "termination on tolfun=1e-11 (Wed Sep 16 03:33:21 2020)\n",
      "final/bestever f-value = -2.903641e-01 -2.903641e-01\n",
      "incumbent solution: [8.1600363411212175e-16, 3.9999999999999996, 5.999999999999999, 0.01240438442721193, 1.7868792224859082e-13, 4.169666833632338e-13]\n",
      "std deviation: [1.9082003477390777e-07, 1.6797798346008687e-07, 4.5384169236257186e-07, 8.029368570199095e-07, 2.384294638871543e-07, 2.249261205442154e-07]\n",
      "Optimization restart 1/10, f = 17.328845504680377\n",
      "Optimization restart 2/10, f = 17.328845504723084\n",
      "Optimization restart 3/10, f = 98297726.07984562\n",
      "Optimization restart 4/10, f = 17.328845504670504\n",
      "Optimization restart 5/10, f = 86.78028145396787\n",
      "Optimization restart 6/10, f = 18.446200931661537\n",
      "Optimization restart 7/10, f = 17.3288455046742\n",
      "Optimization restart 8/10, f = 17.328845504678135\n",
      "Optimization restart 9/10, f = 17.328845504682207\n",
      "Optimization restart 10/10, f = 17.328845504673616\n"
     ]
    },
    {
     "name": "stderr",
     "output_type": "stream",
     "text": [
      "reconstraining parameters GP_regression.Mat52.lengthscale\n",
      "reconstraining parameters GP_regression.Mat52.variance\n",
      "reconstraining parameters GP_regression.Gaussian_noise.variance\n"
     ]
    },
    {
     "name": "stdout",
     "output_type": "stream",
     "text": [
      "Optimization restart 1/10, f = 14.206228871699192\n",
      "Optimization restart 2/10, f = 14.206228871698997\n",
      "Optimization restart 3/10, f = 14.206228871701025\n",
      "Optimization restart 4/10, f = 14.206228871699164\n",
      "Optimization restart 5/10, f = 14.206228871700233\n",
      "Optimization restart 6/10, f = 79502095.05019681\n",
      "Optimization restart 7/10, f = 18.446200931661554\n",
      "Optimization restart 8/10, f = 14.20622887171821\n",
      "Optimization restart 9/10, f = 86.78028145396787\n",
      "Optimization restart 10/10, f = 14.2062288716989\n",
      "(4_w,9)-aCMA-ES (mu_w=2.8,w_1=49%) in dimension 6 (seed=393265, Wed Sep 16 03:33:22 2020)\n",
      "Iterat #Fevals   function value  axis ratio  sigma  min&max std  t[m:s]\n",
      "    1      9 -3.678318267850100e-02 1.0e+00 2.46e-01  2e-01  3e-01 0:00.0\n",
      "    2     18 -4.952404013565292e-02 1.3e+00 2.96e-01  3e-01  3e-01 0:00.1\n",
      "    3     27 -5.117171773582907e-02 1.5e+00 3.63e-01  3e-01  4e-01 0:00.1\n",
      "  100    900 -1.595880696624752e-01 7.3e+00 9.09e-02  1e-02  4e-02 0:01.6\n",
      "  196   1764 -1.596018200270417e-01 9.1e+00 1.74e-05  2e-07  1e-06 0:03.6\n"
     ]
    },
    {
     "name": "stderr",
     "output_type": "stream",
     "text": [
      "reconstraining parameters GP_regression.Mat52.lengthscale\n",
      "reconstraining parameters GP_regression.Mat52.variance\n",
      "reconstraining parameters GP_regression.Gaussian_noise.variance\n"
     ]
    },
    {
     "name": "stdout",
     "output_type": "stream",
     "text": [
      "termination on tolfun=1e-11 (Wed Sep 16 03:33:26 2020)\n",
      "final/bestever f-value = -1.596018e-01 -1.596018e-01\n",
      "incumbent solution: [1.2798550365487045, 1.7416453864100268, 0.3898286257570982, 1.560909416090249, 3.1733276189179613, 4.462415065676248e-14]\n",
      "std deviation: [3.528629687698255e-07, 3.795904326453695e-07, 1.0929996264729483e-06, 9.55307586281318e-07, 8.340572538145374e-07, 1.653696662693182e-07]\n",
      "Optimization restart 1/10, f = 19.50752734814556\n",
      "Optimization restart 2/10, f = 19.865139464865422\n",
      "Optimization restart 3/10, f = 133703892.19051048\n",
      "Optimization restart 4/10, f = 93.45568686914038\n",
      "Optimization restart 5/10, f = 19.865139464865592\n",
      "Optimization restart 6/10, f = 93.4556877196577\n",
      "Optimization restart 7/10, f = 133624125.37088905\n",
      "Optimization restart 8/10, f = 19.50752734814756\n",
      "Optimization restart 9/10, f = 133558394.25434494\n"
     ]
    },
    {
     "name": "stderr",
     "output_type": "stream",
     "text": [
      "reconstraining parameters GP_regression.Mat52.lengthscale\n",
      "reconstraining parameters GP_regression.Mat52.variance\n",
      "reconstraining parameters GP_regression.Gaussian_noise.variance\n"
     ]
    },
    {
     "name": "stdout",
     "output_type": "stream",
     "text": [
      "Optimization restart 10/10, f = 19.865139464865422\n",
      "Optimization restart 1/10, f = 14.716892674662787\n",
      "Optimization restart 2/10, f = 93.45568617003217\n",
      "Optimization restart 3/10, f = 14.716892674670977\n",
      "Optimization restart 4/10, f = 19.865139464865408\n",
      "Optimization restart 5/10, f = 14.716892674662734\n",
      "Optimization restart 6/10, f = 93.45568696526827\n",
      "Optimization restart 7/10, f = 14.716892674680146\n",
      "Optimization restart 8/10, f = 14.716892674662738\n",
      "Optimization restart 9/10, f = 14.716892674662734\n",
      "Optimization restart 10/10, f = 19.86513946486545\n",
      "(4_w,9)-aCMA-ES (mu_w=2.8,w_1=49%) in dimension 6 (seed=386472, Wed Sep 16 03:33:27 2020)\n",
      "Iterat #Fevals   function value  axis ratio  sigma  min&max std  t[m:s]\n",
      "    1      9 -1.671515949421498e-01 1.0e+00 2.28e-01  2e-01  2e-01 0:00.0\n",
      "    2     18 -1.842241744376625e-01 1.2e+00 2.43e-01  2e-01  3e-01 0:00.1\n",
      "    3     27 -2.025751648710807e-01 1.4e+00 2.72e-01  2e-01  3e-01 0:00.1\n",
      "  100    900 -3.096856330937641e-01 1.3e+01 1.69e-03  1e-04  1e-03 0:01.7\n",
      "  158   1422 -3.096856363264213e-01 1.5e+01 7.34e-06  2e-07  2e-06 0:02.6\n"
     ]
    },
    {
     "name": "stderr",
     "output_type": "stream",
     "text": [
      "reconstraining parameters GP_regression.Mat52.lengthscale\n",
      "reconstraining parameters GP_regression.Mat52.variance\n",
      "reconstraining parameters GP_regression.Gaussian_noise.variance\n"
     ]
    },
    {
     "name": "stdout",
     "output_type": "stream",
     "text": [
      "termination on tolfun=1e-11 (Wed Sep 16 03:33:30 2020)\n",
      "final/bestever f-value = -3.096856e-01 -3.096856e-01\n",
      "incumbent solution: [1.9999999999999394, 4.0, 5.9999999999999964, 7.999999999999523, 7.831608358962542e-14, 6.030013725561096e-14]\n",
      "std deviation: [5.074350006141467e-07, 1.6003551156467662e-07, 2.592606832721683e-07, 1.9759353153959666e-06, 2.491631639614801e-07, 1.5469041010215447e-07]\n",
      "Optimization restart 1/10, f = 21.008012566597927\n",
      "Optimization restart 2/10, f = 21.00801256670705\n",
      "Optimization restart 3/10, f = 100.13108907116461\n",
      "Optimization restart 4/10, f = 21.00801256660158\n",
      "Optimization restart 5/10, f = 100.13109398534753\n",
      "Optimization restart 6/10, f = 21.284077998070096\n",
      "Optimization restart 7/10, f = 207627628.57004386\n",
      "Optimization restart 8/10, f = 21.008012566603306\n"
     ]
    },
    {
     "name": "stderr",
     "output_type": "stream",
     "text": [
      "reconstraining parameters GP_regression.Mat52.lengthscale\n",
      "reconstraining parameters GP_regression.Mat52.variance\n",
      "reconstraining parameters GP_regression.Gaussian_noise.variance\n"
     ]
    },
    {
     "name": "stdout",
     "output_type": "stream",
     "text": [
      "Optimization restart 9/10, f = 21.284077998070092\n",
      "Optimization restart 10/10, f = 100.13109398534753\n",
      "Optimization restart 1/10, f = 15.930374366452888\n",
      "Optimization restart 2/10, f = 15.93037436645283\n",
      "Optimization restart 3/10, f = 100.13109398534753\n",
      "Optimization restart 4/10, f = 103030121.46493153\n",
      "Optimization restart 5/10, f = 21.28407799807009\n",
      "Optimization restart 6/10, f = 21.28407799807009\n",
      "Optimization restart 7/10, f = 21.284077998070195\n",
      "Optimization restart 8/10, f = 21.28407799807009\n",
      "Optimization restart 9/10, f = 21.28407799807012\n",
      "Optimization restart 10/10, f = 15.930374367555455\n",
      "(4_w,9)-aCMA-ES (mu_w=2.8,w_1=49%) in dimension 6 (seed=257892, Wed Sep 16 03:33:32 2020)\n",
      "Iterat #Fevals   function value  axis ratio  sigma  min&max std  t[m:s]\n",
      "    1      9 -1.757517786512652e-02 1.0e+00 2.27e-01  2e-01  2e-01 0:00.0\n",
      "    2     18 -2.243475980095377e-02 1.2e+00 2.30e-01  2e-01  2e-01 0:00.1\n",
      "    3     27 -2.272656754127667e-02 1.3e+00 2.40e-01  2e-01  3e-01 0:00.1\n",
      "  100    900 -1.289488498588178e-01 8.9e+00 6.30e-03  5e-04  5e-03 0:01.7\n",
      "  173   1557 -1.289490923953251e-01 1.2e+01 8.03e-06  1e-07  1e-06 0:02.9\n"
     ]
    },
    {
     "name": "stderr",
     "output_type": "stream",
     "text": [
      "reconstraining parameters GP_regression.Mat52.lengthscale\n",
      "reconstraining parameters GP_regression.Mat52.variance\n",
      "reconstraining parameters GP_regression.Gaussian_noise.variance\n"
     ]
    },
    {
     "name": "stdout",
     "output_type": "stream",
     "text": [
      "termination on tolfun=1e-11 (Wed Sep 16 03:33:35 2020)\n",
      "final/bestever f-value = -1.289491e-01 -1.289491e-01\n",
      "incumbent solution: [5.447818866795195e-14, 3.999999999999994, 6.0, 8.498713779920742e-14, 3.301396428470028e-14, 11.999999999999998]\n",
      "std deviation: [1.2895826562940868e-07, 2.553326072132611e-07, 4.504425082802946e-07, 1.8888265529585403e-07, 1.6919055529763094e-07, 1.453578854211305e-06]\n",
      "Optimization restart 1/10, f = 22.031017333536123\n",
      "Optimization restart 2/10, f = 22.703016531274763\n",
      "Optimization restart 3/10, f = 22.703016531274766\n",
      "Optimization restart 4/10, f = 22.03101733348681\n",
      "Optimization restart 5/10, f = 106.80649951783633\n",
      "Optimization restart 6/10, f = 22.703016531274763\n",
      "Optimization restart 7/10, f = 22.703016531274766\n",
      "Optimization restart 8/10, f = 22.031017333487434\n"
     ]
    },
    {
     "name": "stderr",
     "output_type": "stream",
     "text": [
      "reconstraining parameters GP_regression.Mat52.lengthscale\n",
      "reconstraining parameters GP_regression.Mat52.variance\n",
      "reconstraining parameters GP_regression.Gaussian_noise.variance\n"
     ]
    },
    {
     "name": "stdout",
     "output_type": "stream",
     "text": [
      "Optimization restart 9/10, f = 22.031017333486737\n",
      "Optimization restart 10/10, f = 22.03101733348673\n",
      "Optimization restart 1/10, f = 15.223320177462746\n",
      "Optimization restart 2/10, f = 22.703016531274763\n",
      "Optimization restart 3/10, f = 106.80650025103739\n",
      "Optimization restart 4/10, f = 15.223320177462337\n",
      "Optimization restart 5/10, f = 22.703016531274763\n",
      "Optimization restart 6/10, f = 15.223320177462245\n",
      "Optimization restart 7/10, f = 22.703016531274763\n",
      "Optimization restart 8/10, f = 15.223320177463846\n",
      "Optimization restart 9/10, f = 15.22332017746438\n",
      "Optimization restart 10/10, f = 106.80650025103739\n",
      "(4_w,9)-aCMA-ES (mu_w=2.8,w_1=49%) in dimension 6 (seed=237682, Wed Sep 16 03:33:37 2020)\n",
      "Iterat #Fevals   function value  axis ratio  sigma  min&max std  t[m:s]\n",
      "    1      9 -4.841866633606395e-02 1.0e+00 2.31e-01  2e-01  2e-01 0:00.0\n",
      "    2     18 -4.916951196908048e-02 1.2e+00 2.31e-01  2e-01  2e-01 0:00.1\n",
      "    3     27 -6.951427899673623e-02 1.3e+00 2.58e-01  2e-01  3e-01 0:00.1\n",
      "  100    900 -1.164034869071031e-01 1.2e+01 9.46e-04  4e-05  4e-04 0:01.6\n",
      "  147   1323 -1.164034875424327e-01 1.5e+01 5.36e-06  8e-08  7e-07 0:02.6\n"
     ]
    },
    {
     "name": "stderr",
     "output_type": "stream",
     "text": [
      "reconstraining parameters GP_regression.Mat52.lengthscale\n",
      "reconstraining parameters GP_regression.Mat52.variance\n",
      "reconstraining parameters GP_regression.Gaussian_noise.variance\n"
     ]
    },
    {
     "name": "stdout",
     "output_type": "stream",
     "text": [
      "termination on tolfun=1e-11 (Wed Sep 16 03:33:40 2020)\n",
      "final/bestever f-value = -1.164035e-01 -1.164035e-01\n",
      "incumbent solution: [5.691938213798273e-15, 1.548018981165507, 2.9122680192674864, 3.012705550930254, 1.5768869131866154, 11.999999999999988]\n",
      "std deviation: [7.505328827979247e-08, 1.0120083345769461e-07, 3.4724086016375844e-07, 6.956952262475472e-07, 4.4673856879060767e-07, 5.768460787219408e-07]\n",
      "Optimization restart 1/10, f = 23.343050380942998\n",
      "Optimization restart 2/10, f = 23.343050380942977\n",
      "Optimization restart 3/10, f = 24.121955064479437\n",
      "Optimization restart 4/10, f = 45.31664130616946\n",
      "Optimization restart 5/10, f = 237986699.41279572\n",
      "Optimization restart 6/10, f = 113.48190651672722\n",
      "Optimization restart 7/10, f = 23.343050380944263\n",
      "Optimization restart 8/10, f = 23.343050380942984"
     ]
    },
    {
     "name": "stderr",
     "output_type": "stream",
     "text": [
      "reconstraining parameters GP_regression.Mat52.lengthscale\n",
      "reconstraining parameters GP_regression.Mat52.variance\n",
      "reconstraining parameters GP_regression.Gaussian_noise.variance\n"
     ]
    },
    {
     "name": "stdout",
     "output_type": "stream",
     "text": [
      "\n",
      "Optimization restart 9/10, f = 113.48190651672722\n",
      "Optimization restart 10/10, f = 237917255.67781878\n",
      "Optimization restart 1/10, f = 15.489225081954551\n",
      "Optimization restart 2/10, f = 24.121954886648396\n",
      "Optimization restart 3/10, f = 113.48190651672722\n",
      "Optimization restart 4/10, f = 15.489225081873064\n",
      "Optimization restart 5/10, f = 36.4147130482545\n",
      "Optimization restart 6/10, f = 15.489225081898908\n",
      "Optimization restart 7/10, f = 15.489225081997263\n",
      "Optimization restart 8/10, f = 15.489225081872902\n",
      "Optimization restart 9/10, f = 113.48190651672722\n",
      "Optimization restart 10/10, f = 15.489225081872915\n",
      "(4_w,9)-aCMA-ES (mu_w=2.8,w_1=49%) in dimension 6 (seed=261039, Wed Sep 16 03:33:41 2020)\n",
      "Iterat #Fevals   function value  axis ratio  sigma  min&max std  t[m:s]\n",
      "    1      9 4.108488912173014e-02 1.0e+00 2.56e-01  2e-01  3e-01 0:00.0\n",
      "    2     18 -2.620833625437413e-04 1.3e+00 2.60e-01  2e-01  3e-01 0:00.0\n",
      "    3     27 -1.314078937169061e-03 1.4e+00 2.84e-01  2e-01  3e-01 0:00.1\n",
      "  100    900 -1.748729863790115e-01 6.9e+00 5.29e-02  7e-03  3e-02 0:01.6\n",
      "  199   1791 -1.748849030341724e-01 8.2e+00 9.55e-06  2e-07  6e-07 0:03.3\n"
     ]
    },
    {
     "name": "stderr",
     "output_type": "stream",
     "text": [
      "reconstraining parameters GP_regression.Mat52.lengthscale\n",
      "reconstraining parameters GP_regression.Mat52.variance\n",
      "reconstraining parameters GP_regression.Gaussian_noise.variance\n"
     ]
    },
    {
     "name": "stdout",
     "output_type": "stream",
     "text": [
      "termination on tolfun=1e-11 (Wed Sep 16 03:33:44 2020)\n",
      "final/bestever f-value = -1.748849e-01 -1.748849e-01\n",
      "incumbent solution: [0.8091980669873668, 1.1486856762373623, 3.7205795079453425, 5.158265184300454, 6.503642719854614, 1.0513973608505516e-13]\n",
      "std deviation: [1.635777590703344e-07, 2.0539714671261948e-07, 4.0372656918504004e-07, 5.40031464093624e-07, 5.597726557189663e-07, 1.90298356418967e-07]\n",
      "Optimization restart 1/10, f = 23.777730027623363\n",
      "Optimization restart 2/10, f = 23.77773002753343\n",
      "Optimization restart 3/10, f = 23.777730027533124\n",
      "Optimization restart 4/10, f = 25.540893597684473\n",
      "Optimization restart 5/10, f = 25.540893597684104\n",
      "Optimization restart 6/10, f = 23.77773002754042\n",
      "Optimization restart 7/10, f = 25.540893597709044\n",
      "Optimization restart 8/10, f = 25.540893597674014\n",
      "Optimization restart 9/10, f = 120.15731278241705\n"
     ]
    },
    {
     "name": "stderr",
     "output_type": "stream",
     "text": [
      "reconstraining parameters GP_regression.Mat52.lengthscale\n",
      "reconstraining parameters GP_regression.Mat52.variance\n",
      "reconstraining parameters GP_regression.Gaussian_noise.variance\n"
     ]
    },
    {
     "name": "stdout",
     "output_type": "stream",
     "text": [
      "Optimization restart 10/10, f = 120.15731278241705\n",
      "Optimization restart 1/10, f = 16.142983116541075\n",
      "Optimization restart 2/10, f = 25.54089359768777\n",
      "Optimization restart 3/10, f = 16.14298311653445\n",
      "Optimization restart 4/10, f = 120.15731278241705\n",
      "Optimization restart 5/10, f = 16.142983116755403\n",
      "Optimization restart 6/10, f = 16.14298311653443\n",
      "Optimization restart 7/10, f = 16.142983116534836\n",
      "Optimization restart 8/10, f = 16.14298311669851\n",
      "Optimization restart 9/10, f = 25.54089359768411\n",
      "Optimization restart 10/10, f = 16.14298311653451\n",
      "(4_w,9)-aCMA-ES (mu_w=2.8,w_1=49%) in dimension 6 (seed=337054, Wed Sep 16 03:33:46 2020)\n",
      "Iterat #Fevals   function value  axis ratio  sigma  min&max std  t[m:s]\n",
      "    1      9 -5.818189128650175e-04 1.0e+00 2.22e-01  2e-01  2e-01 0:00.0\n",
      "    2     18 -3.637078575158270e-04 1.2e+00 2.17e-01  2e-01  2e-01 0:00.0\n",
      "    3     27 -1.439456816245688e-03 1.3e+00 1.91e-01  2e-01  2e-01 0:00.1\n",
      "  100    900 -9.275893345881592e-02 8.9e+00 8.88e-02  1e-02  9e-02 0:02.1\n",
      "  200   1800 -1.175971075251234e-01 2.2e+00 1.31e-02  5e-04  9e-04 0:03.9\n",
      "  265   2385 -1.175971884756923e-01 2.9e+00 1.85e-05  1e-07  3e-07 0:05.0\n"
     ]
    },
    {
     "name": "stderr",
     "output_type": "stream",
     "text": [
      "reconstraining parameters GP_regression.Mat52.lengthscale\n",
      "reconstraining parameters GP_regression.Mat52.variance\n",
      "reconstraining parameters GP_regression.Gaussian_noise.variance\n"
     ]
    },
    {
     "name": "stdout",
     "output_type": "stream",
     "text": [
      "termination on tolfun=1e-11 (Wed Sep 16 03:33:51 2020)\n",
      "final/bestever f-value = -1.175972e-01 -1.175972e-01\n",
      "incumbent solution: [1.8098451720257702, 3.9999999999999982, 5.999999999999997, 2.4418845204161848e-14, 1.5119212018589666e-13, 4.287566714446899e-14]\n",
      "std deviation: [1.3289166362012364e-07, 1.763502015350924e-07, 2.754662829111718e-07, 2.08840974639068e-07, 1.9651828342466352e-07, 3.0127409543128665e-07]\n",
      "Optimization restart 1/10, f = 25.188275840578914\n",
      "Optimization restart 2/10, f = 25.188275840579983\n",
      "Optimization restart 3/10, f = 25.188275840578783\n",
      "Optimization restart 4/10, f = 126.8327190481069\n"
     ]
    },
    {
     "name": "stderr",
     "output_type": "stream",
     "text": [
      "reconstraining parameters GP_regression.Mat52.lengthscale\n",
      "reconstraining parameters GP_regression.Mat52.variance\n",
      "reconstraining parameters GP_regression.Gaussian_noise.variance\n"
     ]
    },
    {
     "name": "stdout",
     "output_type": "stream",
     "text": [
      "Optimization restart 5/10, f = 25.188275840587906\n",
      "Optimization restart 6/10, f = 25.188275840795413\n",
      "Optimization restart 7/10, f = 258666195.40519476\n",
      "Optimization restart 8/10, f = 26.95983213088878\n",
      "Optimization restart 9/10, f = 26.959832130888778\n",
      "Optimization restart 10/10, f = 26.959832130889044\n",
      "Optimization restart 1/10, f = 17.312475283714605\n",
      "Optimization restart 2/10, f = 130095301.81239277\n",
      "Optimization restart 3/10, f = 126.83270730859462\n",
      "Optimization restart 4/10, f = 17.312475283667958\n",
      "Optimization restart 5/10, f = 130088429.00805236\n",
      "Optimization restart 6/10, f = 126.8327190481069\n",
      "Optimization restart 7/10, f = 130342317.36803329\n",
      "Optimization restart 8/10, f = 126.8327190481069\n",
      "Optimization restart 9/10, f = 130234572.34123293\n",
      "Optimization restart 10/10, f = 17.312475283667244\n",
      "(4_w,9)-aCMA-ES (mu_w=2.8,w_1=49%) in dimension 6 (seed=371679, Wed Sep 16 03:33:53 2020)\n",
      "Iterat #Fevals   function value  axis ratio  sigma  min&max std  t[m:s]\n",
      "    1      9 -7.310784600407683e-03 1.0e+00 2.68e-01  3e-01  3e-01 0:00.0\n",
      "    2     18 -1.468945449003023e-02 1.3e+00 2.92e-01  3e-01  4e-01 0:00.1\n",
      "    3     27 -1.479607894154000e-02 1.6e+00 3.24e-01  3e-01  4e-01 0:00.1\n",
      "   96    864 -1.246245618570270e-01 8.6e+00 7.49e-03  8e-04  3e-03 0:03.1\n",
      "  100    900 -1.246247454901894e-01 8.1e+00 5.52e-03  6e-04  2e-03 0:03.4\n",
      "  171   1539 -1.246248037088828e-01 8.1e+00 2.37e-05  6e-07  2e-06 0:05.4\n"
     ]
    },
    {
     "name": "stderr",
     "output_type": "stream",
     "text": [
      "reconstraining parameters GP_regression.Mat52.lengthscale\n",
      "reconstraining parameters GP_regression.Mat52.variance\n",
      "reconstraining parameters GP_regression.Gaussian_noise.variance\n"
     ]
    },
    {
     "name": "stdout",
     "output_type": "stream",
     "text": [
      "termination on tolfun=1e-11 (Wed Sep 16 03:33:59 2020)\n",
      "final/bestever f-value = -1.246248e-01 -1.246248e-01\n",
      "incumbent solution: [1.1388604700611913, 1.3707970723680964, 4.379779842327634, 5.902976792004385, 5.310436562277415, 6.691498697394004e-14]\n",
      "std deviation: [5.789477635318079e-07, 7.4289035777489e-07, 1.135545940045789e-06, 1.3866988412988761e-06, 2.1297089013438523e-06, 1.636295753422121e-06]\n",
      "Optimization restart 1/10, f = 26.798622182877217\n",
      "Optimization restart 2/10, f = 133.50812531379674\n",
      "Optimization restart 3/10, f = 52.64994089274839\n",
      "Optimization restart 4/10, f = 28.378770664093455\n",
      "Optimization restart 5/10, f = 28.37877066409345\n",
      "Optimization restart 6/10, f = 26.798622182877843\n",
      "Optimization restart 7/10, f = 26.798622182877235\n",
      "Optimization restart 8/10, f = 998904.2585120153\n",
      "Optimization restart 9/10, f = 26.798622182877224\n",
      "Optimization restart 10/10, f = 28.37877066409345\n"
     ]
    },
    {
     "name": "stderr",
     "output_type": "stream",
     "text": [
      "reconstraining parameters GP_regression.Mat52.lengthscale\n",
      "reconstraining parameters GP_regression.Mat52.variance\n",
      "reconstraining parameters GP_regression.Gaussian_noise.variance\n"
     ]
    },
    {
     "name": "stdout",
     "output_type": "stream",
     "text": [
      "Optimization restart 1/10, f = 16.78026974391461\n",
      "Optimization restart 2/10, f = 16.780269743915127\n",
      "Optimization restart 3/10, f = 16.78026974398395\n",
      "Optimization restart 4/10, f = 140966247.9760658\n",
      "Optimization restart 5/10, f = 16.780269743913163\n",
      "Optimization restart 6/10, f = 28.37877066409346\n",
      "Optimization restart 7/10, f = 28.378770664093793\n",
      "Optimization restart 8/10, f = 28.37877066409352\n",
      "Optimization restart 9/10, f = 16.780269743913195\n",
      "Optimization restart 10/10, f = 133.50812531379674\n",
      "(4_w,9)-aCMA-ES (mu_w=2.8,w_1=49%) in dimension 6 (seed=294684, Wed Sep 16 03:34:01 2020)\n",
      "Iterat #Fevals   function value  axis ratio  sigma  min&max std  t[m:s]\n",
      "    1      9 8.485119607191560e-02 1.0e+00 2.47e-01  2e-01  3e-01 0:00.0\n",
      "    2     18 5.859415811606050e-02 1.3e+00 2.47e-01  2e-01  3e-01 0:00.0\n",
      "    3     27 6.644924497233085e-02 1.4e+00 2.32e-01  2e-01  2e-01 0:00.0\n",
      "   88    792 -2.088869044793995e-04 2.1e+01 2.69e-01  2e-02  3e-01 0:03.1\n",
      "  100    900 -3.124841959527558e-04 2.0e+01 3.04e-01  2e-02  3e-01 0:03.8\n",
      "  200   1800 -3.862562368111000e-04 1.5e+01 2.57e-04  2e-06  3e-05 0:06.3\n",
      "  214   1926 -3.862562370935407e-04 1.3e+01 1.04e-04  5e-07  7e-06 0:06.5\n"
     ]
    },
    {
     "name": "stderr",
     "output_type": "stream",
     "text": [
      "reconstraining parameters GP_regression.Mat52.lengthscale\n",
      "reconstraining parameters GP_regression.Mat52.variance\n",
      "reconstraining parameters GP_regression.Gaussian_noise.variance\n"
     ]
    },
    {
     "name": "stdout",
     "output_type": "stream",
     "text": [
      "termination on tolfun=1e-11 (Wed Sep 16 03:34:08 2020)\n",
      "final/bestever f-value = -3.862562e-04 -3.862562e-04\n",
      "incumbent solution: [1.1044528077844609e-13, 3.999999999999861, 4.816334859663692e-12, 7.999999999999881, 5.003590768756905, 11.999999999989909]\n",
      "std deviation: [5.4823076774042e-07, 1.9967160990239523e-06, 1.3930299409392442e-06, 4.9925746238317485e-06, 4.1019823145914135e-06, 6.7326553106550316e-06]\n",
      "Optimization restart 1/10, f = 27.4780390038223\n",
      "Optimization restart 2/10, f = 29.79770919729813\n",
      "Optimization restart 3/10, f = 29.79770919729813\n",
      "Optimization restart 4/10, f = 27.47803900382221\n",
      "Optimization restart 5/10, f = 278179575.1638456\n",
      "Optimization restart 6/10, f = 279238976.0431911\n",
      "Optimization restart 7/10, f = 29.797709197298126\n",
      "Optimization restart 8/10, f = 29.79770919729816\n",
      "Optimization restart 9/10, f = 27.478039003822623\n"
     ]
    },
    {
     "name": "stderr",
     "output_type": "stream",
     "text": [
      "reconstraining parameters GP_regression.Mat52.lengthscale\n",
      "reconstraining parameters GP_regression.Mat52.variance\n",
      "reconstraining parameters GP_regression.Gaussian_noise.variance\n"
     ]
    },
    {
     "name": "stdout",
     "output_type": "stream",
     "text": [
      "Optimization restart 10/10, f = 29.797709197298126\n",
      "Optimization restart 1/10, f = 19.123726766046143\n",
      "Optimization restart 2/10, f = 19.123726766031268\n",
      "Optimization restart 3/10, f = 29.797709197298126\n",
      "Optimization restart 4/10, f = 140.18353157948656\n",
      "Optimization restart 5/10, f = 1048849.4714376163\n",
      "Optimization restart 6/10, f = 38.96020637353149\n",
      "Optimization restart 7/10, f = 132207617.37611286\n",
      "Optimization restart 8/10, f = 19.123726766030693\n",
      "Optimization restart 9/10, f = 41.07285600821754\n",
      "Optimization restart 10/10, f = 131854569.3704579\n",
      "(4_w,9)-aCMA-ES (mu_w=2.8,w_1=49%) in dimension 6 (seed=369589, Wed Sep 16 03:34:09 2020)\n",
      "Iterat #Fevals   function value  axis ratio  sigma  min&max std  t[m:s]\n",
      "    1      9 3.884386613501611e-02 1.0e+00 2.68e-01  3e-01  3e-01 0:00.0\n",
      "    2     18 4.291459526938901e-02 1.4e+00 2.78e-01  3e-01  3e-01 0:00.0\n",
      "    3     27 4.541706967183012e-02 1.5e+00 3.01e-01  3e-01  3e-01 0:00.1\n",
      "  100    900 -2.295317686522127e-01 1.6e+01 2.95e-01  3e-02  3e-01 0:02.1\n",
      "  200   1800 -2.304823140784302e-01 1.7e+01 4.57e-04  5e-06  5e-05 0:03.8\n",
      "  229   2061 -2.304823140842749e-01 1.9e+01 5.76e-05  3e-07  4e-06 0:04.3\n"
     ]
    },
    {
     "name": "stderr",
     "output_type": "stream",
     "text": [
      "reconstraining parameters GP_regression.Mat52.lengthscale\n",
      "reconstraining parameters GP_regression.Mat52.variance\n",
      "reconstraining parameters GP_regression.Gaussian_noise.variance\n"
     ]
    },
    {
     "name": "stdout",
     "output_type": "stream",
     "text": [
      "termination on tolfun=1e-11 (Wed Sep 16 03:34:14 2020)\n",
      "final/bestever f-value = -2.304823e-01 -2.304823e-01\n",
      "incumbent solution: [2.7948735600686317e-13, 0.9029496381475085, 0.5047664749065212, 7.774154343711868, 6.281778904149033, 11.999999999999146]\n",
      "std deviation: [2.8288294310750445e-07, 3.9652079396739445e-07, 1.0727805302634878e-06, 2.1888939002524465e-06, 1.7599334658989728e-06, 4.256140721330119e-06]\n",
      "Optimization restart 1/10, f = 27.832700726550943\n",
      "Optimization restart 2/10, f = 31.216647730502814\n",
      "Optimization restart 3/10, f = 27.8327007265503\n",
      "Optimization restart 4/10, f = 27.832700726550392\n",
      "Optimization restart 5/10, f = 27.832700726550307\n",
      "Optimization restart 6/10, f = 146.8589378451764\n",
      "Optimization restart 7/10, f = 56.85321916817017\n",
      "Optimization restart 8/10, f = 27.832700726550353\n"
     ]
    },
    {
     "name": "stderr",
     "output_type": "stream",
     "text": [
      "reconstraining parameters GP_regression.Mat52.lengthscale\n",
      "reconstraining parameters GP_regression.Mat52.variance\n",
      "reconstraining parameters GP_regression.Gaussian_noise.variance\n"
     ]
    },
    {
     "name": "stdout",
     "output_type": "stream",
     "text": [
      "Optimization restart 9/10, f = 31.2166477305028\n",
      "Optimization restart 10/10, f = 146.8589378451764\n",
      "Optimization restart 1/10, f = 20.287483839911754\n",
      "Optimization restart 2/10, f = 20.287483839867377\n",
      "Optimization restart 3/10, f = 20.287483839872408\n",
      "Optimization restart 4/10, f = 135094824.3378061\n",
      "Optimization restart 5/10, f = 20.287483839867484\n",
      "Optimization restart 6/10, f = 20.287483839867555\n",
      "Optimization restart 7/10, f = 31.216647730503052\n",
      "Optimization restart 8/10, f = 20.28748383987155\n",
      "Optimization restart 9/10, f = 20.287483839883116\n",
      "Optimization restart 10/10, f = 20.28748383987075\n",
      "(4_w,9)-aCMA-ES (mu_w=2.8,w_1=49%) in dimension 6 (seed=327925, Wed Sep 16 03:34:15 2020)\n",
      "Iterat #Fevals   function value  axis ratio  sigma  min&max std  t[m:s]\n",
      "    1      9 4.083705321500730e-02 1.0e+00 2.34e-01  2e-01  3e-01 0:00.0\n",
      "    2     18 -1.482638882560394e-02 1.3e+00 3.04e-01  3e-01  4e-01 0:00.0\n",
      "    3     27 -2.049819776295347e-02 1.4e+00 3.47e-01  3e-01  4e-01 0:00.1\n",
      "  100    900 -1.754786471288674e-01 1.2e+01 1.38e-01  2e-02  9e-02 0:01.6\n",
      "  200   1800 -1.756073040725101e-01 1.7e+01 3.14e-05  5e-07  3e-06 0:03.1\n",
      "  210   1890 -1.756073040725870e-01 1.5e+01 1.52e-05  2e-07  1e-06 0:03.3\n"
     ]
    },
    {
     "name": "stderr",
     "output_type": "stream",
     "text": [
      "reconstraining parameters GP_regression.Mat52.lengthscale\n",
      "reconstraining parameters GP_regression.Mat52.variance\n",
      "reconstraining parameters GP_regression.Gaussian_noise.variance\n"
     ]
    },
    {
     "name": "stdout",
     "output_type": "stream",
     "text": [
      "termination on tolfun=1e-11 (Wed Sep 16 03:34:19 2020)\n",
      "final/bestever f-value = -1.756073e-01 -1.756073e-01\n",
      "incumbent solution: [0.7404049974371888, 1.944520317669116, 2.422779329489613, 4.49483679643529, 5.67445539186763, 0.6904611204900662]\n",
      "std deviation: [2.2620701053864375e-07, 2.1951568164240842e-07, 4.148765205291101e-07, 4.0087200834180103e-07, 5.175610662608276e-07, 1.2506294338294584e-06]\n",
      "Optimization restart 1/10, f = 28.087921168874615\n",
      "Optimization restart 2/10, f = 28.087921168875546\n",
      "Optimization restart 3/10, f = 28.087921168871283\n",
      "Optimization restart 4/10, f = 28.087921168871357\n",
      "Optimization restart 5/10, f = 153.53433802781532\n",
      "Optimization restart 6/10, f = 28.087921168871297\n",
      "Optimization restart 7/10, f = 28.08792116887134\n"
     ]
    },
    {
     "name": "stderr",
     "output_type": "stream",
     "text": [
      "reconstraining parameters GP_regression.Mat52.lengthscale\n",
      "reconstraining parameters GP_regression.Mat52.variance\n",
      "reconstraining parameters GP_regression.Gaussian_noise.variance\n"
     ]
    },
    {
     "name": "stdout",
     "output_type": "stream",
     "text": [
      "Optimization restart 8/10, f = 32.635586263707474\n",
      "Optimization restart 9/10, f = 153.53434411086621\n",
      "Optimization restart 10/10, f = 153.53434411086621\n",
      "Optimization restart 1/10, f = 20.731820572689376\n",
      "Optimization restart 2/10, f = 42.52188320347133\n",
      "Optimization restart 3/10, f = 20.731820572714106\n",
      "Optimization restart 4/10, f = 20.73182057268091\n",
      "Optimization restart 5/10, f = 42.51503203988068\n",
      "Optimization restart 6/10, f = 32.635586263707474\n",
      "Optimization restart 7/10, f = 20.731820572680924\n",
      "Optimization restart 8/10, f = 20.731820572689614\n",
      "Optimization restart 9/10, f = 32.635586263707474\n",
      "Optimization restart 10/10, f = 153.53434411086621\n",
      "(4_w,9)-aCMA-ES (mu_w=2.8,w_1=49%) in dimension 6 (seed=324666, Wed Sep 16 03:34:20 2020)\n",
      "Iterat #Fevals   function value  axis ratio  sigma  min&max std  t[m:s]\n",
      "    1      9 -5.606974962002909e-03 1.0e+00 2.31e-01  2e-01  2e-01 0:00.0\n",
      "    2     18 -8.551279679630319e-03 1.2e+00 2.49e-01  2e-01  3e-01 0:00.0\n",
      "    3     27 -2.373256555558445e-02 1.4e+00 3.16e-01  3e-01  4e-01 0:00.1\n",
      "  100    900 -1.567908063206915e-01 8.1e+00 4.41e-03  2e-04  2e-03 0:01.7\n",
      "  163   1467 -1.567908535760516e-01 7.2e+00 8.86e-06  1e-07  7e-07 0:02.7\n"
     ]
    },
    {
     "name": "stderr",
     "output_type": "stream",
     "text": [
      "reconstraining parameters GP_regression.Mat52.lengthscale\n",
      "reconstraining parameters GP_regression.Mat52.variance\n",
      "reconstraining parameters GP_regression.Gaussian_noise.variance\n"
     ]
    },
    {
     "name": "stdout",
     "output_type": "stream",
     "text": [
      "termination on tolfun=1e-11 (Wed Sep 16 03:34:23 2020)\n",
      "final/bestever f-value = -1.567909e-01 -1.567909e-01\n",
      "incumbent solution: [1.563526431797926, 3.1933978005904453e-16, 2.1170130098054196, 3.0916710910605607, 6.364476225394593, 2.0532261480112485e-12]\n",
      "std deviation: [1.0394548138547233e-07, 1.1918882162154656e-07, 4.6220614040344686e-07, 6.486514821595713e-07, 5.832824498470477e-07, 6.529032895295076e-07]\n",
      "Optimization restart 1/10, f = 32.874408504580245\n",
      "Optimization restart 2/10, f = 160.2097503765561\n",
      "Optimization restart 3/10, f = 669595555.5878778\n",
      "Optimization restart 4/10, f = 32.87440850494117\n",
      "Optimization restart 5/10, f = 34.05452479691294\n",
      "Optimization restart 6/10, f = 160.2097503765561\n",
      "Optimization restart 7/10, f = 32.87440850458245\n",
      "Optimization restart 8/10, f = 160.2097503765561\n",
      "Optimization restart 9/10, f = 34.05452479691215\n"
     ]
    },
    {
     "name": "stderr",
     "output_type": "stream",
     "text": [
      "reconstraining parameters GP_regression.Mat52.lengthscale\n",
      "reconstraining parameters GP_regression.Mat52.variance\n",
      "reconstraining parameters GP_regression.Gaussian_noise.variance\n"
     ]
    },
    {
     "name": "stdout",
     "output_type": "stream",
     "text": [
      "Optimization restart 10/10, f = 32.87440850458428\n",
      "Optimization restart 1/10, f = 24.59934538262071\n",
      "Optimization restart 2/10, f = 160.2097503765561\n",
      "Optimization restart 3/10, f = 24.599345382619497\n",
      "Optimization restart 4/10, f = 1198685.1102144187\n",
      "Optimization restart 5/10, f = 24.59934538261993\n",
      "Optimization restart 6/10, f = 34.054524796915885\n",
      "Optimization restart 7/10, f = 160.2097503765561\n",
      "Optimization restart 8/10, f = 24.599345382617912\n",
      "Optimization restart 9/10, f = 43.151490499646364\n",
      "Optimization restart 10/10, f = 435262217.38137776\n",
      "(4_w,9)-aCMA-ES (mu_w=2.8,w_1=49%) in dimension 6 (seed=318337, Wed Sep 16 03:34:25 2020)\n",
      "Iterat #Fevals   function value  axis ratio  sigma  min&max std  t[m:s]\n",
      "    1      9 3.654784087862106e-02 1.0e+00 2.29e-01  2e-01  2e-01 0:00.0\n",
      "    2     18 2.335786438085607e-02 1.2e+00 2.30e-01  2e-01  2e-01 0:00.0\n",
      "    3     27 3.164833731831784e-02 1.3e+00 2.22e-01  2e-01  2e-01 0:00.1\n",
      "  100    900 -1.632277546482968e-01 1.9e+01 8.50e-02  4e-03  7e-02 0:01.6\n",
      "  200   1800 -1.632986435781079e-01 7.1e+00 2.35e-05  2e-07  1e-06 0:03.2\n",
      "  206   1854 -1.632986435781318e-01 8.1e+00 1.45e-05  9e-08  6e-07 0:03.3\n"
     ]
    },
    {
     "name": "stderr",
     "output_type": "stream",
     "text": [
      "reconstraining parameters GP_regression.Mat52.lengthscale\n",
      "reconstraining parameters GP_regression.Mat52.variance\n",
      "reconstraining parameters GP_regression.Gaussian_noise.variance\n"
     ]
    },
    {
     "name": "stdout",
     "output_type": "stream",
     "text": [
      "termination on tolfun=1e-11 (Wed Sep 16 03:34:29 2020)\n",
      "final/bestever f-value = -1.632986e-01 -1.632986e-01\n",
      "incumbent solution: [1.16560611410948e-15, 3.9999999999999987, 5.999999999999994, 6.458437790200245, 4.239246015305986e-16, 6.589160080225099e-13]\n",
      "std deviation: [8.63912909353707e-08, 1.4720658443387913e-07, 5.115637756393594e-07, 6.251956603774568e-07, 1.5461307727867161e-07, 6.349864550629717e-07]\n",
      "Optimization restart 1/10, f = 33.85351784533929\n",
      "Optimization restart 2/10, f = 33.85351784529863\n",
      "Optimization restart 3/10, f = 33.85351784747415\n",
      "Optimization restart 4/10, f = 33.85351784529685\n",
      "Optimization restart 5/10, f = 35.47346333011687\n",
      "Optimization restart 6/10, f = 33.853517845302015\n",
      "Optimization restart 7/10, f = 677371058.0692809\n",
      "Optimization restart 8/10, f = 33.85351784529921\n",
      "Optimization restart 9/10, f = 35.473463330116815\n",
      "Optimization restart 10/10, f = 166.88515664224593\n"
     ]
    },
    {
     "name": "stderr",
     "output_type": "stream",
     "text": [
      "reconstraining parameters GP_regression.Mat52.lengthscale\n",
      "reconstraining parameters GP_regression.Mat52.variance\n",
      "reconstraining parameters GP_regression.Gaussian_noise.variance\n"
     ]
    },
    {
     "name": "stdout",
     "output_type": "stream",
     "text": [
      "Optimization restart 1/10, f = 24.287455242754454\n",
      "Optimization restart 2/10, f = 24.287455242752714\n",
      "Optimization restart 3/10, f = 24.287455242752685\n",
      "Optimization restart 4/10, f = 166.88515664224593\n",
      "Optimization restart 5/10, f = 1248630.3231400198\n",
      "Optimization restart 6/10, f = 42.72766570898334\n",
      "Optimization restart 7/10, f = 24.287455242824272\n",
      "Optimization restart 8/10, f = 166.88515664224593\n",
      "Optimization restart 9/10, f = 24.287455242761368\n",
      "Optimization restart 10/10, f = 24.28745524275227\n",
      "(4_w,9)-aCMA-ES (mu_w=2.8,w_1=49%) in dimension 6 (seed=379830, Wed Sep 16 03:34:30 2020)\n",
      "Iterat #Fevals   function value  axis ratio  sigma  min&max std  t[m:s]\n",
      "    1      9 2.768102844011899e-02 1.0e+00 2.87e-01  3e-01  3e-01 0:00.0\n",
      "    2     18 -8.519836434826011e-04 1.3e+00 2.92e-01  3e-01  3e-01 0:00.0\n",
      "    3     27 -7.742787199167545e-04 1.3e+00 2.81e-01  2e-01  3e-01 0:00.1\n",
      "  100    900 -1.081434186805788e-01 2.3e+01 1.83e-02  8e-04  1e-02 0:01.7\n",
      "  192   1728 -1.081438242673523e-01 2.0e+01 2.86e-05  2e-07  3e-06 0:03.5\n"
     ]
    },
    {
     "name": "stderr",
     "output_type": "stream",
     "text": [
      "reconstraining parameters GP_regression.Mat52.lengthscale\n",
      "reconstraining parameters GP_regression.Mat52.variance\n",
      "reconstraining parameters GP_regression.Gaussian_noise.variance\n"
     ]
    },
    {
     "name": "stdout",
     "output_type": "stream",
     "text": [
      "termination on tolfun=1e-11 (Wed Sep 16 03:34:34 2020)\n",
      "final/bestever f-value = -1.081438e-01 -1.081438e-01\n",
      "incumbent solution: [4.1616932995278627e-13, 1.7040787636316628, 2.27909095635064, 7.999999999999891, 3.0535526620572893, 11.999999999999341]\n",
      "std deviation: [2.634855025058928e-07, 1.915196078067103e-07, 1.059741236885049e-06, 1.5172154254659926e-06, 1.5210163605849666e-06, 3.0212285240343337e-06]\n",
      "Optimization restart 1/10, f = 35.60957433183201\n",
      "Optimization restart 2/10, f = 35.609574331833365\n",
      "Optimization restart 3/10, f = 35.60957433184129\n",
      "Optimization restart 4/10, f = 721628163.000052\n",
      "Optimization restart 5/10, f = 173.56056290793578\n",
      "Optimization restart 6/10, f = 35.609574331832\n",
      "Optimization restart 7/10, f = 36.89240186332149\n",
      "Optimization restart 8/10, f = 36.892401863321496\n",
      "Optimization restart 9/10, f = 35.60957433183209\n",
      "Optimization restart 10/10, f = 35.60957433183229\n"
     ]
    },
    {
     "name": "stderr",
     "output_type": "stream",
     "text": [
      "reconstraining parameters GP_regression.Mat52.lengthscale\n",
      "reconstraining parameters GP_regression.Mat52.variance\n",
      "reconstraining parameters GP_regression.Gaussian_noise.variance\n"
     ]
    },
    {
     "name": "stdout",
     "output_type": "stream",
     "text": [
      "Optimization restart 1/10, f = 24.827303641994796\n",
      "Optimization restart 2/10, f = 43.438396879788215\n",
      "Optimization restart 3/10, f = 1298575.5360656204\n",
      "Optimization restart 4/10, f = 36.89240186332194\n",
      "Optimization restart 5/10, f = 36.89240186332148\n",
      "Optimization restart 6/10, f = 24.827303642019892\n",
      "Optimization restart 7/10, f = 427099787.98787826\n",
      "Optimization restart 8/10, f = 24.82730364199478\n",
      "Optimization restart 9/10, f = 24.827303641994753\n",
      "Optimization restart 10/10, f = 24.82730364200297\n",
      "(4_w,9)-aCMA-ES (mu_w=2.8,w_1=49%) in dimension 6 (seed=312241, Wed Sep 16 03:34:36 2020)\n",
      "Iterat #Fevals   function value  axis ratio  sigma  min&max std  t[m:s]\n",
      "    1      9 8.990730835677585e-02 1.0e+00 2.45e-01  2e-01  3e-01 0:00.0\n",
      "    2     18 7.162473643675327e-02 1.2e+00 2.44e-01  2e-01  3e-01 0:00.0\n",
      "    3     27 6.529909125227062e-02 1.4e+00 2.37e-01  2e-01  3e-01 0:00.1\n",
      "  100    900 3.718513433180082e-02 3.1e+01 6.75e-02  1e-02  7e-02 0:01.6\n",
      "  200   1800 -1.282629256572170e-01 1.9e+01 1.56e+00  3e-02  3e-01 0:03.3\n",
      "  300   2700 -1.771803501889613e-01 2.4e+01 8.00e-02  2e-04  3e-03 0:04.9\n",
      "  372   3348 -1.771805826342989e-01 2.7e+01 8.01e-05  3e-08  5e-07 0:06.2\n"
     ]
    },
    {
     "name": "stderr",
     "output_type": "stream",
     "text": [
      "reconstraining parameters GP_regression.Mat52.lengthscale\n",
      "reconstraining parameters GP_regression.Mat52.variance\n",
      "reconstraining parameters GP_regression.Gaussian_noise.variance\n"
     ]
    },
    {
     "name": "stdout",
     "output_type": "stream",
     "text": [
      "termination on tolfun=1e-11 (Wed Sep 16 03:34:42 2020)\n",
      "final/bestever f-value = -1.771806e-01 -1.771806e-01\n",
      "incumbent solution: [0.7825784748636004, 7.020155885496565e-15, 0.9222132883043102, 1.292915303907737, 6.5593488576393675, 1.301372737707162e-14]\n",
      "std deviation: [2.5391071061417937e-08, 9.78621929197363e-08, 2.629153991295909e-07, 2.319080961306622e-07, 2.993442812426434e-07, 4.964124087717253e-07]\n",
      "Optimization restart 1/10, f = 36.53935633229359\n",
      "Optimization restart 2/10, f = 180.23596917362562\n",
      "Optimization restart 3/10, f = 36.5393563323005\n",
      "Optimization restart 4/10, f = 36.53935633229421\n",
      "Optimization restart 5/10, f = 740855194.6420441\n",
      "Optimization restart 6/10, f = 38.311340396526155\n",
      "Optimization restart 7/10, f = 180.23596917362562\n",
      "Optimization restart 8/10, f = 36.53935633229714\n",
      "Optimization restart 9/10, f = 74.59255107951209\n"
     ]
    },
    {
     "name": "stderr",
     "output_type": "stream",
     "text": [
      "reconstraining parameters GP_regression.Mat52.lengthscale\n",
      "reconstraining parameters GP_regression.Mat52.variance\n",
      "reconstraining parameters GP_regression.Gaussian_noise.variance\n"
     ]
    },
    {
     "name": "stdout",
     "output_type": "stream",
     "text": [
      "Optimization restart 10/10, f = 38.31134039652616\n",
      "Optimization restart 1/10, f = 25.360132260032593\n",
      "Optimization restart 2/10, f = 25.360132260045383\n",
      "Optimization restart 3/10, f = 43.57591096226611\n",
      "Optimization restart 4/10, f = 25.36013226002907\n",
      "Optimization restart 5/10, f = 25.360132260029054\n",
      "Optimization restart 6/10, f = 25.360132260028998\n",
      "Optimization restart 7/10, f = 25.360132260034746\n",
      "Optimization restart 8/10, f = 25.360132260029026\n",
      "Optimization restart 9/10, f = 38.31134039652616\n",
      "Optimization restart 10/10, f = 180.23596917362562\n",
      "(4_w,9)-aCMA-ES (mu_w=2.8,w_1=49%) in dimension 6 (seed=312108, Wed Sep 16 03:34:44 2020)\n",
      "Iterat #Fevals   function value  axis ratio  sigma  min&max std  t[m:s]\n",
      "    1      9 6.513970271373593e-02 1.0e+00 2.42e-01  2e-01  3e-01 0:00.0\n",
      "    2     18 -7.421227151793719e-03 1.3e+00 2.52e-01  2e-01  3e-01 0:00.2\n",
      "    3     27 -1.276565898109316e-02 1.3e+00 2.73e-01  2e-01  3e-01 0:00.3\n",
      "  100    900 -1.074886450192070e-01 1.9e+01 2.19e-01  1e-02  2e-01 0:02.0\n",
      "  187   1683 -1.077532829669035e-01 2.7e+01 1.63e-05  1e-07  2e-06 0:03.4\n"
     ]
    },
    {
     "name": "stderr",
     "output_type": "stream",
     "text": [
      "reconstraining parameters GP_regression.Mat52.lengthscale\n",
      "reconstraining parameters GP_regression.Mat52.variance\n",
      "reconstraining parameters GP_regression.Gaussian_noise.variance\n"
     ]
    },
    {
     "name": "stdout",
     "output_type": "stream",
     "text": [
      "termination on tolfun=1e-11 (Wed Sep 16 03:34:48 2020)\n",
      "final/bestever f-value = -1.077533e-01 -1.077533e-01\n",
      "incumbent solution: [1.1583350562660528, 3.1978251057738294e-14, 2.5410169657152792, 4.327537082304606, 6.75156913494399, 9.143810553224581]\n",
      "std deviation: [1.0111321443975087e-07, 1.5256030482583095e-07, 8.838105196535045e-07, 6.042028165947519e-07, 1.0396488967426036e-06, 1.7457989189490983e-06]\n",
      "Optimization restart 1/10, f = 38.502813316383325\n",
      "Optimization restart 2/10, f = 39.73027892973297\n",
      "Optimization restart 3/10, f = 38.50281331638333\n",
      "Optimization restart 4/10, f = 818218615.9187669\n",
      "Optimization restart 5/10, f = 38.50281331638334\n",
      "Optimization restart 6/10, f = 186.91137543931546\n",
      "Optimization restart 7/10, f = 186.91137543931546\n",
      "Optimization restart 8/10, f = 38.50281331659656\n"
     ]
    },
    {
     "name": "stderr",
     "output_type": "stream",
     "text": [
      "reconstraining parameters GP_regression.Mat52.lengthscale\n",
      "reconstraining parameters GP_regression.Mat52.variance\n",
      "reconstraining parameters GP_regression.Gaussian_noise.variance\n"
     ]
    },
    {
     "name": "stdout",
     "output_type": "stream",
     "text": [
      "Optimization restart 9/10, f = 39.73027892973084\n",
      "Optimization restart 10/10, f = 38.50281331645159\n",
      "Optimization restart 1/10, f = 26.852658139038418\n",
      "Optimization restart 2/10, f = 26.852658138935137\n",
      "Optimization restart 3/10, f = 39.730278929730844\n",
      "Optimization restart 4/10, f = 26.852658138933684\n",
      "Optimization restart 5/10, f = 26.852658138934352\n",
      "Optimization restart 6/10, f = 39.73027892973085\n",
      "Optimization restart 7/10, f = 26.852658138934242\n",
      "Optimization restart 8/10, f = 26.852658138958088\n",
      "Optimization restart 9/10, f = 26.852658138933464\n",
      "Optimization restart 10/10, f = 26.852658138933542\n",
      "(4_w,9)-aCMA-ES (mu_w=2.8,w_1=49%) in dimension 6 (seed=340314, Wed Sep 16 03:34:49 2020)\n",
      "Iterat #Fevals   function value  axis ratio  sigma  min&max std  t[m:s]\n",
      "    1      9 -1.731235535067954e-02 1.0e+00 2.42e-01  2e-01  3e-01 0:00.0\n",
      "    2     18 -1.676078592208130e-02 1.2e+00 2.24e-01  2e-01  2e-01 0:00.0\n",
      "    3     27 -1.327537982234039e-02 1.2e+00 2.17e-01  2e-01  2e-01 0:00.1\n",
      "  100    900 -6.444245484008304e-02 2.8e+01 6.20e-04  2e-05  3e-04 0:01.7\n",
      "  154   1386 -6.444245626217926e-02 2.8e+01 5.15e-06  5e-08  8e-07 0:02.6\n"
     ]
    },
    {
     "name": "stderr",
     "output_type": "stream",
     "text": [
      "reconstraining parameters GP_regression.Mat52.lengthscale\n",
      "reconstraining parameters GP_regression.Mat52.variance\n",
      "reconstraining parameters GP_regression.Gaussian_noise.variance\n"
     ]
    },
    {
     "name": "stdout",
     "output_type": "stream",
     "text": [
      "termination on tolfun=1e-11 (Wed Sep 16 03:34:52 2020)\n",
      "final/bestever f-value = -6.444246e-02 -6.444246e-02\n",
      "incumbent solution: [1.065898829514437, 1.0045485092496231, 3.3356679329880015, 4.175533955844417, 6.02735524680313, 1.8857730098055558]\n",
      "std deviation: [5.226474898641703e-08, 1.9721489265391167e-07, 2.4557909804930263e-07, 3.616880319395495e-07, 3.9172349547228147e-07, 7.653726805236499e-07]\n",
      "Optimization restart 1/10, f = 39.190541063320154\n",
      "Optimization restart 2/10, f = 833349764.9558386\n",
      "Optimization restart 3/10, f = 833215144.8081129\n",
      "Optimization restart 4/10, f = 193.5867817050053\n",
      "Optimization restart 5/10, f = 41.149217462935525\n",
      "Optimization restart 6/10, f = 39.19054106198975\n",
      "Optimization restart 7/10, f = 39.190541067061496\n",
      "Optimization restart 8/10, f = 193.5867817050053\n"
     ]
    },
    {
     "name": "stderr",
     "output_type": "stream",
     "text": [
      "reconstraining parameters GP_regression.Mat52.lengthscale\n",
      "reconstraining parameters GP_regression.Mat52.variance\n",
      "reconstraining parameters GP_regression.Gaussian_noise.variance\n"
     ]
    },
    {
     "name": "stdout",
     "output_type": "stream",
     "text": [
      "Optimization restart 9/10, f = 39.19054106198529\n",
      "Optimization restart 10/10, f = 193.5867817050053\n",
      "Optimization restart 1/10, f = 26.6065555060866\n",
      "Optimization restart 2/10, f = 26.606555506086792\n",
      "Optimization restart 3/10, f = 590381196.8770833\n",
      "Optimization restart 4/10, f = 1448411.1748424228\n",
      "Optimization restart 5/10, f = 41.1492174629361\n",
      "Optimization restart 6/10, f = 42.605899473393094\n",
      "Optimization restart 7/10, f = 26.606555506086615\n",
      "Optimization restart 8/10, f = 26.606555506086522\n",
      "Optimization restart 9/10, f = 193.5867817050053\n",
      "Optimization restart 10/10, f = 41.1492174629355\n",
      "(4_w,9)-aCMA-ES (mu_w=2.8,w_1=49%) in dimension 6 (seed=254139, Wed Sep 16 03:34:54 2020)\n",
      "Iterat #Fevals   function value  axis ratio  sigma  min&max std  t[m:s]\n",
      "    1      9 1.219743009420489e-01 1.0e+00 2.37e-01  2e-01  2e-01 0:00.0\n",
      "    2     18 5.851990366227700e-02 1.2e+00 2.53e-01  2e-01  3e-01 0:00.1\n",
      "    3     27 -1.921963875064936e-03 1.4e+00 2.91e-01  3e-01  4e-01 0:00.1\n",
      "  100    900 -2.344787239457702e-02 3.0e+01 1.62e-01  6e-03  1e-01 0:01.7\n",
      "  200   1800 -2.426472286687487e-02 6.5e+00 1.13e-04  1e-06  6e-06 0:03.5\n",
      "  217   1953 -2.426472286748949e-02 7.1e+00 3.53e-05  2e-07  1e-06 0:03.8\n"
     ]
    },
    {
     "name": "stderr",
     "output_type": "stream",
     "text": [
      "reconstraining parameters GP_regression.Mat52.lengthscale\n",
      "reconstraining parameters GP_regression.Mat52.variance\n",
      "reconstraining parameters GP_regression.Gaussian_noise.variance\n"
     ]
    },
    {
     "name": "stdout",
     "output_type": "stream",
     "text": [
      "termination on tolfun=1e-11 (Wed Sep 16 03:34:58 2020)\n",
      "final/bestever f-value = -2.426472e-02 -2.426472e-02\n",
      "incumbent solution: [3.3312792163114146e-14, 3.9999999999995164, 1.487429030585215e-15, 3.488882648013784e-14, 5.351226389873509e-12, 3.704885533609802e-12]\n",
      "std deviation: [2.1543381535258695e-07, 9.306910470064281e-07, 7.022094061721571e-07, 1.0216658214092307e-06, 1.1036446115722708e-06, 1.2366384783952745e-06]\n",
      "Optimization restart 1/10, f = 40.43296831193066\n",
      "Optimization restart 2/10, f = 200.26218797069515\n",
      "Optimization restart 3/10, f = 200.26218095493317\n",
      "Optimization restart 4/10, f = 42.568155996140185\n",
      "Optimization restart 5/10, f = 42.56815599614023\n",
      "Optimization restart 6/10, f = 40.43296831225629\n",
      "Optimization restart 7/10, f = 74.48896926016076\n"
     ]
    },
    {
     "name": "stderr",
     "output_type": "stream",
     "text": [
      "reconstraining parameters GP_regression.Mat52.lengthscale\n",
      "reconstraining parameters GP_regression.Mat52.variance\n",
      "reconstraining parameters GP_regression.Gaussian_noise.variance\n"
     ]
    },
    {
     "name": "stdout",
     "output_type": "stream",
     "text": [
      "Optimization restart 8/10, f = 42.56815599614021\n",
      "Optimization restart 9/10, f = 200.26218797069515\n",
      "Optimization restart 10/10, f = 40.43296831193137\n",
      "Optimization restart 1/10, f = 27.53093010119871\n",
      "Optimization restart 2/10, f = 27.53093010119379\n",
      "Optimization restart 3/10, f = 27.530930101193803\n",
      "Optimization restart 4/10, f = 27.53093010119687\n",
      "Optimization restart 5/10, f = 42.56815599614063\n",
      "Optimization restart 6/10, f = 27.530930101204817\n",
      "Optimization restart 7/10, f = 27.530930101206845\n",
      "Optimization restart 8/10, f = 27.530930101193803\n",
      "Optimization restart 9/10, f = 555951167.3801328\n",
      "Optimization restart 10/10, f = 42.56815599614033\n",
      "(4_w,9)-aCMA-ES (mu_w=2.8,w_1=49%) in dimension 6 (seed=293979, Wed Sep 16 03:34:59 2020)\n",
      "Iterat #Fevals   function value  axis ratio  sigma  min&max std  t[m:s]\n",
      "    1      9 2.841749641318860e-01 1.0e+00 2.26e-01  2e-01  2e-01 0:00.0\n",
      "    2     18 2.425842573608394e-01 1.3e+00 2.41e-01  2e-01  3e-01 0:00.0\n",
      "    3     27 2.558242885239288e-01 1.5e+00 2.65e-01  2e-01  3e-01 0:00.1\n",
      "  100    900 -7.060245874354631e-02 1.7e+01 2.01e-01  1e-02  2e-01 0:01.7\n",
      "  194   1746 -7.077812003422279e-02 2.2e+01 3.67e-05  3e-07  5e-06 0:03.2\n"
     ]
    },
    {
     "name": "stderr",
     "output_type": "stream",
     "text": [
      "reconstraining parameters GP_regression.Mat52.lengthscale\n",
      "reconstraining parameters GP_regression.Mat52.variance\n",
      "reconstraining parameters GP_regression.Gaussian_noise.variance\n"
     ]
    },
    {
     "name": "stdout",
     "output_type": "stream",
     "text": [
      "termination on tolfun=1e-11 (Wed Sep 16 03:35:03 2020)\n",
      "final/bestever f-value = -7.077812e-02 -7.077812e-02\n",
      "incumbent solution: [1.9999999999999727, 4.4808312140629276e-14, 5.192372691610104, 3.4567519499288113, 8.365773573312207, 6.1011901591267845]\n",
      "std deviation: [2.6733785269718244e-07, 2.5434037285962363e-07, 8.45530696968768e-07, 1.9996246894056555e-06, 2.3016851005976127e-06, 4.527579869376419e-06]\n",
      "Optimization restart 1/10, f = 41.44378770605325\n",
      "Optimization restart 2/10, f = 43.987094529344844\n",
      "Optimization restart 3/10, f = 41.44378770589341\n",
      "Optimization restart 4/10, f = 206.93759423638502\n",
      "Optimization restart 5/10, f = 41.44378770587482\n",
      "Optimization restart 6/10, f = 43.98709452934622\n",
      "Optimization restart 7/10, f = 43.987094529344844\n",
      "Optimization restart 8/10, f = 41.44378770587582\n"
     ]
    },
    {
     "name": "stderr",
     "output_type": "stream",
     "text": [
      "reconstraining parameters GP_regression.Mat52.lengthscale\n",
      "reconstraining parameters GP_regression.Mat52.variance\n",
      "reconstraining parameters GP_regression.Gaussian_noise.variance\n"
     ]
    },
    {
     "name": "stdout",
     "output_type": "stream",
     "text": [
      "Optimization restart 9/10, f = 41.44378770587477\n",
      "Optimization restart 10/10, f = 41.443787705880354\n",
      "Optimization restart 1/10, f = 28.423722317340108\n",
      "Optimization restart 2/10, f = 28.423722317313683\n",
      "Optimization restart 3/10, f = 28.423722317313732\n",
      "Optimization restart 4/10, f = 43.987094529306475\n",
      "Optimization restart 5/10, f = 43.5641227930937\n",
      "Optimization restart 6/10, f = 841391947.5896983\n",
      "Optimization restart 7/10, f = 28.423722317313402\n",
      "Optimization restart 8/10, f = 43.987094529345256\n",
      "Optimization restart 9/10, f = 28.423722317313594\n",
      "Optimization restart 10/10, f = 28.423722317313526\n",
      "(4_w,9)-aCMA-ES (mu_w=2.8,w_1=49%) in dimension 6 (seed=350622, Wed Sep 16 03:35:04 2020)\n",
      "Iterat #Fevals   function value  axis ratio  sigma  min&max std  t[m:s]\n",
      "    1      9 6.105650563925513e-02 1.0e+00 2.27e-01  2e-01  2e-01 0:00.0\n",
      "    2     18 1.312078911639158e-02 1.2e+00 2.24e-01  2e-01  2e-01 0:00.1\n",
      "    3     27 3.630360742733751e-02 1.3e+00 2.00e-01  2e-01  2e-01 0:00.1\n",
      "  100    900 -6.000464563366492e-02 2.7e+01 1.00e-01  4e-03  1e-01 0:01.7\n",
      "  200   1800 -6.002764531175409e-02 2.3e+01 4.55e-05  3e-07  5e-06 0:03.4\n",
      "  208   1872 -6.002764531180027e-02 2.5e+01 1.73e-05  7e-08  2e-06 0:03.6\n",
      "termination on tolfun=1e-11 (Wed Sep 16 03:35:08 2020)\n",
      "final/bestever f-value = -6.002765e-02 -6.002765e-02\n",
      "incumbent solution: [2.552529912484248e-16, 3.240015992402056, 1.9442047840632945e-13, 1.334419715342176, 4.565801966802602, 1.3101735742409168]\n",
      "std deviation: [7.229395111506602e-08, 2.230450339354407e-07, 5.405948448489034e-07, 8.221835874645801e-07, 6.858688830765283e-07, 1.675411240473459e-06]\n"
     ]
    },
    {
     "name": "stderr",
     "output_type": "stream",
     "text": [
      "reconstraining parameters GP_regression.Mat52.lengthscale\n",
      "reconstraining parameters GP_regression.Mat52.variance\n",
      "reconstraining parameters GP_regression.Gaussian_noise.variance\n"
     ]
    },
    {
     "name": "stdout",
     "output_type": "stream",
     "text": [
      "Optimization restart 1/10, f = 42.98570456300136\n",
      "Optimization restart 2/10, f = 213.61300050207478\n",
      "Optimization restart 3/10, f = 213.61300050207245\n",
      "Optimization restart 4/10, f = 42.985704563000354\n",
      "Optimization restart 5/10, f = 213.61300050207478\n",
      "Optimization restart 6/10, f = 42.985704563772174\n",
      "Optimization restart 7/10, f = 42.985704563000326\n",
      "Optimization restart 8/10, f = 42.985704563000326\n",
      "Optimization restart 9/10, f = 45.406033062549525\n"
     ]
    },
    {
     "name": "stderr",
     "output_type": "stream",
     "text": [
      "reconstraining parameters GP_regression.Mat52.lengthscale\n",
      "reconstraining parameters GP_regression.Mat52.variance\n",
      "reconstraining parameters GP_regression.Gaussian_noise.variance\n"
     ]
    },
    {
     "name": "stdout",
     "output_type": "stream",
     "text": [
      "Optimization restart 10/10, f = 1598246.813619225\n",
      "Optimization restart 1/10, f = 29.36583377276267\n",
      "Optimization restart 2/10, f = 29.36583377276243\n",
      "Optimization restart 3/10, f = 45.40603306254953\n",
      "Optimization restart 4/10, f = 47.65866501433372\n",
      "Optimization restart 5/10, f = 29.36583377277339\n",
      "Optimization restart 6/10, f = 45.406033062551685\n",
      "Optimization restart 7/10, f = 29.36583377276222\n",
      "Optimization restart 8/10, f = 45.406033062549525\n",
      "Optimization restart 9/10, f = 29.365833772762418\n",
      "Optimization restart 10/10, f = 860798519.7720414\n",
      "(4_w,9)-aCMA-ES (mu_w=2.8,w_1=49%) in dimension 6 (seed=332298, Wed Sep 16 03:35:10 2020)\n",
      "Iterat #Fevals   function value  axis ratio  sigma  min&max std  t[m:s]\n",
      "    1      9 3.026413112381965e-02 1.0e+00 2.15e-01  2e-01  2e-01 0:00.0\n",
      "    2     18 -8.796235279671105e-03 1.2e+00 2.25e-01  2e-01  2e-01 0:00.0\n",
      "    3     27 -1.092478237057204e-02 1.3e+00 2.40e-01  2e-01  2e-01 0:00.1\n",
      "  100    900 -7.876855941804140e-02 1.7e+01 1.81e-03  7e-05  9e-04 0:01.6\n",
      "  159   1431 -7.876856500023299e-02 2.0e+01 5.81e-06  6e-08  8e-07 0:02.6\n"
     ]
    },
    {
     "name": "stderr",
     "output_type": "stream",
     "text": [
      "reconstraining parameters GP_regression.Mat52.lengthscale\n",
      "reconstraining parameters GP_regression.Mat52.variance\n",
      "reconstraining parameters GP_regression.Gaussian_noise.variance\n"
     ]
    },
    {
     "name": "stdout",
     "output_type": "stream",
     "text": [
      "termination on tolfun=1e-11 (Wed Sep 16 03:35:13 2020)\n",
      "final/bestever f-value = -7.876857e-02 -7.876857e-02\n",
      "incumbent solution: [0.8265676126542036, 0.8865982836648769, 3.335981788059477, 3.834709102482483, 6.173281102036067, 2.548360565603618]\n",
      "std deviation: [6.004716360167792e-08, 1.7424980016098862e-07, 2.778123243451204e-07, 4.64013113168049e-07, 4.1091672315895156e-07, 7.78430411655651e-07]\n",
      "Optimization restart 1/10, f = 42.52148562864927\n",
      "Optimization restart 2/10, f = 1062721638.2381374\n",
      "Optimization restart 3/10, f = 42.52148562864983\n",
      "Optimization restart 4/10, f = 46.82497159575421\n",
      "Optimization restart 5/10, f = 46.82497159575419\n",
      "Optimization restart 6/10, f = 46.82497159575436\n",
      "Optimization restart 7/10, f = 46.8249422177131\n",
      "Optimization restart 8/10, f = 1648192.0265448256\n"
     ]
    },
    {
     "name": "stderr",
     "output_type": "stream",
     "text": [
      "reconstraining parameters GP_regression.Mat52.lengthscale\n",
      "reconstraining parameters GP_regression.Mat52.variance\n",
      "reconstraining parameters GP_regression.Gaussian_noise.variance\n"
     ]
    },
    {
     "name": "stdout",
     "output_type": "stream",
     "text": [
      "Optimization restart 9/10, f = 42.52148562864927\n",
      "Optimization restart 10/10, f = 42.52148562864929\n",
      "Optimization restart 1/10, f = 28.115550238706938\n",
      "Optimization restart 2/10, f = 878021499.0892845\n",
      "Optimization restart 3/10, f = 28.115550238706103\n",
      "Optimization restart 4/10, f = 220.28840676776463\n",
      "Optimization restart 5/10, f = 28.115550238705257\n",
      "Optimization restart 6/10, f = 28.115550238718203\n",
      "Optimization restart 7/10, f = 28.115550238704845\n",
      "Optimization restart 8/10, f = 28.115550238706582\n",
      "Optimization restart 9/10, f = 28.115550238742653\n",
      "Optimization restart 10/10, f = 220.28840676776463\n",
      "(4_w,9)-aCMA-ES (mu_w=2.8,w_1=49%) in dimension 6 (seed=277363, Wed Sep 16 03:35:14 2020)\n",
      "Iterat #Fevals   function value  axis ratio  sigma  min&max std  t[m:s]\n",
      "    1      9 9.434403325643315e-02 1.0e+00 2.10e-01  2e-01  2e-01 0:00.0\n",
      "    2     18 9.196725945477491e-02 1.2e+00 2.31e-01  2e-01  3e-01 0:00.1\n",
      "    3     27 5.246023592339544e-02 1.5e+00 2.63e-01  2e-01  3e-01 0:00.1\n",
      "  100    900 -1.529938126411432e-01 1.7e+01 2.96e-02  1e-03  2e-02 0:01.9\n",
      "  200   1800 -1.530010768668304e-01 2.7e+01 1.20e-05  4e-08  8e-07 0:03.8\n",
      "  201   1809 -1.530010768668273e-01 2.8e+01 1.09e-05  4e-08  7e-07 0:03.9\n"
     ]
    },
    {
     "name": "stderr",
     "output_type": "stream",
     "text": [
      "reconstraining parameters GP_regression.Mat52.lengthscale\n",
      "reconstraining parameters GP_regression.Mat52.variance\n",
      "reconstraining parameters GP_regression.Gaussian_noise.variance\n"
     ]
    },
    {
     "name": "stdout",
     "output_type": "stream",
     "text": [
      "termination on tolfun=1e-11 (Wed Sep 16 03:35:18 2020)\n",
      "final/bestever f-value = -1.530011e-01 -1.530011e-01\n",
      "incumbent solution: [1.004696148667371, 4.958717985262265e-13, 4.291704228676163, 3.299624831417952, 6.696380141564665, 4.103407801490667]\n",
      "std deviation: [3.518131284854667e-08, 2.7789100346836427e-07, 3.404935731104785e-07, 3.9556440990640825e-07, 5.980444546518461e-07, 7.139472653965781e-07]\n",
      "Optimization restart 1/10, f = 43.80603072101407\n",
      "Optimization restart 2/10, f = 226.96381253963102\n",
      "Optimization restart 3/10, f = 1698137.2394704265\n",
      "Optimization restart 4/10, f = 91.13849174226503\n",
      "Optimization restart 5/10, f = 226.96381303345447\n",
      "Optimization restart 6/10, f = 43.806030720883854\n",
      "Optimization restart 7/10, f = 226.96381303345447\n",
      "Optimization restart 8/10, f = 48.2439101289589\n",
      "Optimization restart 9/10, f = 43.806030720885104\n"
     ]
    },
    {
     "name": "stderr",
     "output_type": "stream",
     "text": [
      "reconstraining parameters GP_regression.Mat52.lengthscale\n",
      "reconstraining parameters GP_regression.Mat52.variance\n",
      "reconstraining parameters GP_regression.Gaussian_noise.variance\n"
     ]
    },
    {
     "name": "stdout",
     "output_type": "stream",
     "text": [
      "Optimization restart 10/10, f = 48.24391012895887\n",
      "Optimization restart 1/10, f = 30.235518491398064\n",
      "Optimization restart 2/10, f = 48.52299177028532\n",
      "Optimization restart 3/10, f = 30.23551849138026\n",
      "Optimization restart 4/10, f = 30.235518491380816\n",
      "Optimization restart 5/10, f = 226.96381303345447\n",
      "Optimization restart 6/10, f = 1698137.2394704267\n",
      "Optimization restart 7/10, f = 1698137.2394704267\n",
      "Optimization restart 8/10, f = 48.24391012895887\n",
      "Optimization restart 9/10, f = 30.23551849138263\n",
      "Optimization restart 10/10, f = 30.235518491381146\n",
      "(4_w,9)-aCMA-ES (mu_w=2.8,w_1=49%) in dimension 6 (seed=297759, Wed Sep 16 03:35:20 2020)\n",
      "Iterat #Fevals   function value  axis ratio  sigma  min&max std  t[m:s]\n",
      "    1      9 5.302770138756463e-02 1.0e+00 2.65e-01  3e-01  3e-01 0:00.0\n",
      "    2     18 1.465080381662176e-02 1.3e+00 3.34e-01  3e-01  4e-01 0:00.0\n",
      "    3     27 2.128984051321359e-02 1.4e+00 3.48e-01  3e-01  4e-01 0:00.1\n",
      "  100    900 -3.667147828238804e-02 1.7e+01 4.22e-02  2e-03  3e-02 0:01.7\n",
      "  195   1755 -3.667356467670135e-02 2.2e+01 2.68e-05  2e-07  3e-06 0:03.3\n"
     ]
    },
    {
     "name": "stderr",
     "output_type": "stream",
     "text": [
      "reconstraining parameters GP_regression.Mat52.lengthscale\n",
      "reconstraining parameters GP_regression.Mat52.variance\n",
      "reconstraining parameters GP_regression.Gaussian_noise.variance\n"
     ]
    },
    {
     "name": "stdout",
     "output_type": "stream",
     "text": [
      "termination on tolfun=1e-11 (Wed Sep 16 03:35:23 2020)\n",
      "final/bestever f-value = -3.667356e-02 -3.667356e-02\n",
      "incumbent solution: [8.189764932721033e-16, 2.789158343807145, 3.641703811850624e-14, 4.505487796218876, 8.576566924835541, 11.999999999999122]\n",
      "std deviation: [1.643128044036094e-07, 5.379123711407693e-07, 3.64301615130432e-07, 2.375545273923504e-06, 2.266003291209294e-06, 3.224267499528927e-06]\n",
      "Optimization restart 1/10, f = 45.001890397577796\n",
      "Optimization restart 2/10, f = 92.64613757861241\n",
      "Optimization restart 3/10, f = 233.63921929914432\n",
      "Optimization restart 4/10, f = 1128168811.5245826\n",
      "Optimization restart 5/10, f = 233.63921929914432\n",
      "Optimization restart 6/10, f = 49.66284866216354\n",
      "Optimization restart 7/10, f = 233.63921929914432\n",
      "Optimization restart 8/10, f = 1748082.452396027\n"
     ]
    },
    {
     "name": "stderr",
     "output_type": "stream",
     "text": [
      "reconstraining parameters GP_regression.Mat52.lengthscale\n",
      "reconstraining parameters GP_regression.Mat52.variance\n",
      "reconstraining parameters GP_regression.Gaussian_noise.variance\n"
     ]
    },
    {
     "name": "stdout",
     "output_type": "stream",
     "text": [
      "Optimization restart 9/10, f = 49.66284866216354\n",
      "Optimization restart 10/10, f = 49.66284866216354\n",
      "Optimization restart 1/10, f = 30.688591485756668\n",
      "Optimization restart 2/10, f = 49.66284866216354\n",
      "Optimization restart 3/10, f = 30.68859148576914\n",
      "Optimization restart 4/10, f = 30.688591486059615\n",
      "Optimization restart 5/10, f = 233.63921929914432\n",
      "Optimization restart 6/10, f = 30.688591485759247\n",
      "Optimization restart 7/10, f = 49.66284866216354\n",
      "Optimization restart 8/10, f = 49.66284866216354\n",
      "Optimization restart 9/10, f = 49.66284866216365\n",
      "Optimization restart 10/10, f = 30.688591485756668\n",
      "(4_w,9)-aCMA-ES (mu_w=2.8,w_1=49%) in dimension 6 (seed=299443, Wed Sep 16 03:35:25 2020)\n",
      "Iterat #Fevals   function value  axis ratio  sigma  min&max std  t[m:s]\n",
      "    1      9 5.754572859078966e-02 1.0e+00 2.63e-01  3e-01  3e-01 0:00.0\n",
      "    2     18 5.079817226317207e-02 1.4e+00 2.81e-01  3e-01  3e-01 0:00.0\n",
      "    3     27 5.821356934280031e-02 1.5e+00 2.93e-01  3e-01  3e-01 0:00.1\n",
      "  100    900 -7.501435606377971e-02 2.0e+01 2.15e-02  7e-04  1e-02 0:01.7\n",
      "  186   1674 -7.501735598939785e-02 2.1e+01 9.76e-06  5e-08  7e-07 0:03.1\n"
     ]
    },
    {
     "name": "stderr",
     "output_type": "stream",
     "text": [
      "reconstraining parameters GP_regression.Mat52.lengthscale\n",
      "reconstraining parameters GP_regression.Mat52.variance\n",
      "reconstraining parameters GP_regression.Gaussian_noise.variance\n"
     ]
    },
    {
     "name": "stdout",
     "output_type": "stream",
     "text": [
      "termination on tolfun=1e-11 (Wed Sep 16 03:35:28 2020)\n",
      "final/bestever f-value = -7.501736e-02 -7.501736e-02\n",
      "incumbent solution: [1.1731808536519868, 0.8995038705625688, 3.2483366626788195, 4.167143854420693, 6.1463498750063215, 4.2148109882177]\n",
      "std deviation: [5.2006180129018226e-08, 3.1673408455652997e-07, 3.7923654117809995e-07, 4.1474949794496494e-07, 6.189227773901326e-07, 7.379781326683563e-07]\n",
      "Optimization restart 1/10, f = 45.25365627559251\n",
      "Optimization restart 2/10, f = 45.25365627559258\n",
      "Optimization restart 3/10, f = 51.081787195368214\n",
      "Optimization restart 4/10, f = 51.08178719536822\n",
      "Optimization restart 5/10, f = 51.08178719536822\n",
      "Optimization restart 6/10, f = 51.08178719536825\n",
      "Optimization restart 7/10, f = 1798027.6653216283\n"
     ]
    },
    {
     "name": "stderr",
     "output_type": "stream",
     "text": [
      "reconstraining parameters GP_regression.Mat52.lengthscale\n",
      "reconstraining parameters GP_regression.Mat52.variance\n",
      "reconstraining parameters GP_regression.Gaussian_noise.variance\n"
     ]
    },
    {
     "name": "stdout",
     "output_type": "stream",
     "text": [
      "Optimization restart 8/10, f = 90.43914499388276\n",
      "Optimization restart 9/10, f = 1150820041.745881\n",
      "Optimization restart 10/10, f = 1798027.6653216283\n",
      "Optimization restart 1/10, f = 30.03554970698828\n",
      "Optimization restart 2/10, f = 1798027.6653216286\n",
      "Optimization restart 3/10, f = 30.035549706971405\n",
      "Optimization restart 4/10, f = 30.03554970696884\n",
      "Optimization restart 5/10, f = 51.08178719536831\n",
      "Optimization restart 6/10, f = 30.03554970700945\n",
      "Optimization restart 7/10, f = 30.035549706969057\n",
      "Optimization restart 8/10, f = 51.08178719536842\n",
      "Optimization restart 9/10, f = 48.76836123592212\n",
      "Optimization restart 10/10, f = 965922280.5390035\n",
      "(4_w,9)-aCMA-ES (mu_w=2.8,w_1=49%) in dimension 6 (seed=257593, Wed Sep 16 03:35:30 2020)\n",
      "Iterat #Fevals   function value  axis ratio  sigma  min&max std  t[m:s]\n",
      "    1      9 4.049493278435057e-01 1.0e+00 2.19e-01  2e-01  2e-01 0:00.0\n",
      "    2     18 3.288621823536837e-01 1.2e+00 2.14e-01  2e-01  2e-01 0:00.0\n",
      "    3     27 2.431251641654919e-01 1.2e+00 2.36e-01  2e-01  2e-01 0:00.1\n",
      "  100    900 -1.579609629458005e-01 9.4e+00 2.03e-03  9e-05  8e-04 0:01.6\n",
      "  167   1503 -1.579609705696439e-01 1.2e+01 4.44e-06  4e-08  4e-07 0:02.7\n"
     ]
    },
    {
     "name": "stderr",
     "output_type": "stream",
     "text": [
      "reconstraining parameters GP_regression.Mat52.lengthscale\n",
      "reconstraining parameters GP_regression.Mat52.variance\n",
      "reconstraining parameters GP_regression.Gaussian_noise.variance\n"
     ]
    },
    {
     "name": "stdout",
     "output_type": "stream",
     "text": [
      "termination on tolfun=1e-11 (Wed Sep 16 03:35:33 2020)\n",
      "final/bestever f-value = -1.579610e-01 -1.579610e-01\n",
      "incumbent solution: [0.5467214361140358, 0.8149591835269518, 2.936237133991556, 3.5892345461505943, 5.9957152510079466, 3.32094114076126]\n",
      "std deviation: [3.837358286014216e-08, 1.0010302945158404e-07, 1.9374510356123998e-07, 1.5445576861983e-07, 2.4978770357177264e-07, 4.3187321950110844e-07]\n",
      "Optimization restart 1/10, f = 43.286143743832525\n",
      "Optimization restart 2/10, f = 43.28614374383387\n",
      "Optimization restart 3/10, f = 246.990031830524\n",
      "Optimization restart 4/10, f = 52.500725728572924\n",
      "Optimization restart 5/10, f = 43.28614374383214\n",
      "Optimization restart 6/10, f = 43.286143743832156\n",
      "Optimization restart 7/10, f = 43.286143743846736\n",
      "Optimization restart 8/10, f = 1160797188.1329606\n",
      "Optimization restart 9/10, f = 52.50072572857289\n"
     ]
    },
    {
     "name": "stderr",
     "output_type": "stream",
     "text": [
      "reconstraining parameters GP_regression.Mat52.lengthscale\n",
      "reconstraining parameters GP_regression.Mat52.variance\n",
      "reconstraining parameters GP_regression.Gaussian_noise.variance\n"
     ]
    },
    {
     "name": "stdout",
     "output_type": "stream",
     "text": [
      "Optimization restart 10/10, f = 246.990031830524\n",
      "Optimization restart 1/10, f = 28.790739630810847\n",
      "Optimization restart 2/10, f = 47.145449638880635\n",
      "Optimization restart 3/10, f = 28.790739630729377\n",
      "Optimization restart 4/10, f = 28.790739630730286\n",
      "Optimization restart 5/10, f = 28.79073963073081\n",
      "Optimization restart 6/10, f = 246.990031830524\n",
      "Optimization restart 7/10, f = 52.50072572857289\n",
      "Optimization restart 8/10, f = 246.99002514482606\n",
      "Optimization restart 9/10, f = 246.990031830524\n",
      "Optimization restart 10/10, f = 246.990031830524\n",
      "(4_w,9)-aCMA-ES (mu_w=2.8,w_1=49%) in dimension 6 (seed=282742, Wed Sep 16 03:35:35 2020)\n",
      "Iterat #Fevals   function value  axis ratio  sigma  min&max std  t[m:s]\n",
      "    1      9 2.525166314507445e-01 1.0e+00 2.47e-01  2e-01  3e-01 0:00.0\n",
      "    2     18 1.649998500881957e-01 1.3e+00 2.57e-01  2e-01  3e-01 0:00.1\n",
      "    3     27 2.164487519221083e-01 1.4e+00 2.57e-01  2e-01  3e-01 0:00.1\n",
      "  100    900 -9.361528978595279e-02 1.0e+01 4.63e-03  3e-04  3e-03 0:01.6\n",
      "  176   1584 -9.361539286662124e-02 1.4e+01 6.34e-06  7e-08  7e-07 0:02.7\n"
     ]
    },
    {
     "name": "stderr",
     "output_type": "stream",
     "text": [
      "reconstraining parameters GP_regression.Mat52.lengthscale\n",
      "reconstraining parameters GP_regression.Mat52.variance\n",
      "reconstraining parameters GP_regression.Gaussian_noise.variance\n"
     ]
    },
    {
     "name": "stdout",
     "output_type": "stream",
     "text": [
      "termination on tolfun=1e-11 (Wed Sep 16 03:35:38 2020)\n",
      "final/bestever f-value = -9.361539e-02 -9.361539e-02\n",
      "incumbent solution: [0.30227573652796563, 0.5845210100792436, 2.543715499307939, 3.5686846762738424, 5.899673159964932, 4.247539017827793]\n",
      "std deviation: [6.905222613454454e-08, 1.597384841829591e-07, 2.3978219738667623e-07, 3.4242407056152727e-07, 3.294745934964051e-07, 7.38476322627576e-07]\n",
      "Optimization restart 1/10, f = 39.83620506049992\n",
      "Optimization restart 2/10, f = 39.836205060500205\n",
      "Optimization restart 3/10, f = 253.66543809621388\n",
      "Optimization restart 4/10, f = 53.919664261777555\n",
      "Optimization restart 5/10, f = 53.91966426177756\n",
      "Optimization restart 6/10, f = 253.66543809621388\n",
      "Optimization restart 7/10, f = 53.919664261777555\n",
      "Optimization restart 8/10, f = 39.83620506050019\n"
     ]
    },
    {
     "name": "stderr",
     "output_type": "stream",
     "text": [
      "reconstraining parameters GP_regression.Mat52.lengthscale\n",
      "reconstraining parameters GP_regression.Mat52.variance\n",
      "reconstraining parameters GP_regression.Gaussian_noise.variance\n"
     ]
    },
    {
     "name": "stdout",
     "output_type": "stream",
     "text": [
      "Optimization restart 9/10, f = 1897918.091172829\n",
      "Optimization restart 10/10, f = 39.83620506049974\n",
      "Optimization restart 1/10, f = 27.006668023172708\n",
      "Optimization restart 2/10, f = 53.91966426177757\n",
      "Optimization restart 3/10, f = 27.006668023169624\n",
      "Optimization restart 4/10, f = 27.006668023160827\n",
      "Optimization restart 5/10, f = 27.00666802316124\n",
      "Optimization restart 6/10, f = 53.919664261777555\n",
      "Optimization restart 7/10, f = 27.006668023160945\n",
      "Optimization restart 8/10, f = 27.006668023164167\n",
      "Optimization restart 9/10, f = 986152437.6933569\n",
      "Optimization restart 10/10, f = 27.006668023163375\n",
      "(4_w,9)-aCMA-ES (mu_w=2.8,w_1=49%) in dimension 6 (seed=282982, Wed Sep 16 03:35:39 2020)\n",
      "Iterat #Fevals   function value  axis ratio  sigma  min&max std  t[m:s]\n",
      "    1      9 1.900688962860646e-01 1.0e+00 2.70e-01  3e-01  3e-01 0:00.0\n",
      "    2     18 1.989122639263452e-01 1.4e+00 2.67e-01  2e-01  3e-01 0:00.1\n",
      "    3     27 2.043440305594606e-01 1.4e+00 3.09e-01  3e-01  4e-01 0:00.1\n",
      "  100    900 -1.018270634088747e-02 7.1e+00 4.27e-03  4e-04  3e-03 0:01.7\n",
      "  169   1521 -1.018273853915375e-02 9.6e+00 1.48e-05  3e-07  2e-06 0:03.0\n"
     ]
    },
    {
     "name": "stderr",
     "output_type": "stream",
     "text": [
      "reconstraining parameters GP_regression.Mat52.lengthscale\n",
      "reconstraining parameters GP_regression.Mat52.variance\n",
      "reconstraining parameters GP_regression.Gaussian_noise.variance\n"
     ]
    },
    {
     "name": "stdout",
     "output_type": "stream",
     "text": [
      "termination on tolfun=1e-11 (Wed Sep 16 03:35:42 2020)\n",
      "final/bestever f-value = -1.018274e-02 -1.018274e-02\n",
      "incumbent solution: [1.999999999999874, 3.9999999999999676, 3.804154772692404e-16, 3.6921501372218386, 1.564709410155358e-13, 11.999999999998964]\n",
      "std deviation: [3.923521317625527e-07, 3.223033345878971e-07, 3.446465905382468e-07, 1.3457541258268755e-06, 4.168575149226937e-07, 2.2624898886890597e-06]\n",
      "Optimization restart 1/10, f = 40.84310371045711\n",
      "Optimization restart 2/10, f = 40.84310371045581\n",
      "Optimization restart 3/10, f = 55.338602794982236\n",
      "Optimization restart 4/10, f = 55.33860279498224\n",
      "Optimization restart 5/10, f = 260.34084436190375\n",
      "Optimization restart 6/10, f = 40.84310371045653\n",
      "Optimization restart 7/10, f = 55.33860279498224\n",
      "Optimization restart 8/10, f = 40.84310371045679\n"
     ]
    },
    {
     "name": "stderr",
     "output_type": "stream",
     "text": [
      "reconstraining parameters GP_regression.Mat52.lengthscale\n",
      "reconstraining parameters GP_regression.Mat52.variance\n",
      "reconstraining parameters GP_regression.Gaussian_noise.variance\n"
     ]
    },
    {
     "name": "stdout",
     "output_type": "stream",
     "text": [
      "Optimization restart 9/10, f = 1947863.3040984303\n",
      "Optimization restart 10/10, f = 260.34084436190375\n",
      "Optimization restart 1/10, f = 28.668168658793164\n",
      "Optimization restart 2/10, f = 1947863.3040984313\n",
      "Optimization restart 3/10, f = 55.338602745408494\n",
      "Optimization restart 4/10, f = 28.668168658821106\n",
      "Optimization restart 5/10, f = 28.668168658814775\n",
      "Optimization restart 6/10, f = 55.33860279498224\n",
      "Optimization restart 7/10, f = 260.34084436190375\n",
      "Optimization restart 8/10, f = 28.668168658801736\n",
      "Optimization restart 9/10, f = 1022513331.3275735\n",
      "Optimization restart 10/10, f = 28.66816865879697\n",
      "(4_w,9)-aCMA-ES (mu_w=2.8,w_1=49%) in dimension 6 (seed=388975, Wed Sep 16 03:35:44 2020)\n",
      "Iterat #Fevals   function value  axis ratio  sigma  min&max std  t[m:s]\n",
      "    1      9 3.138944793206915e-01 1.0e+00 2.53e-01  2e-01  3e-01 0:00.0\n",
      "    2     18 7.341186245240960e-02 1.5e+00 3.19e-01  3e-01  4e-01 0:00.1\n",
      "    3     27 5.653171067747476e-02 1.7e+00 3.87e-01  4e-01  5e-01 0:00.1\n",
      "  100    900 -1.195298897912700e-03 4.7e+01 5.88e-01  5e-02  1e+00 0:01.7\n",
      "  200   1800 -2.987484852187805e-02 1.6e+01 2.40e-03  2e-05  3e-04 0:03.4\n",
      "  254   2286 -2.987484966563780e-02 1.6e+01 3.91e-05  1e-07  1e-06 0:04.3\n"
     ]
    },
    {
     "name": "stderr",
     "output_type": "stream",
     "text": [
      "reconstraining parameters GP_regression.Mat52.lengthscale\n",
      "reconstraining parameters GP_regression.Mat52.variance\n",
      "reconstraining parameters GP_regression.Gaussian_noise.variance\n"
     ]
    },
    {
     "name": "stdout",
     "output_type": "stream",
     "text": [
      "termination on tolfun=1e-11 (Wed Sep 16 03:35:49 2020)\n",
      "final/bestever f-value = -2.987485e-02 -2.987485e-02\n",
      "incumbent solution: [2.188217335747847e-16, 2.6674678848513595, 3.510046523319399, 2.2431649703058483, 4.484751073847401, 4.419935841566422]\n",
      "std deviation: [1.2417722432105345e-07, 1.6270230096684642e-07, 8.518033918157423e-07, 9.948029369463669e-07, 9.427685839315033e-07, 1.3345549612273679e-06]\n",
      "Optimization restart 1/10, f = 41.783871641563266\n",
      "Optimization restart 2/10, f = 41.78387164155319\n",
      "Optimization restart 3/10, f = 1997808.5170240314\n",
      "Optimization restart 4/10, f = 56.7575413281869\n",
      "Optimization restart 5/10, f = 1997808.5170240314\n",
      "Optimization restart 6/10, f = 1200798779.6671462\n",
      "Optimization restart 7/10, f = 56.7575413281869\n"
     ]
    },
    {
     "name": "stderr",
     "output_type": "stream",
     "text": [
      "reconstraining parameters GP_regression.Mat52.lengthscale\n",
      "reconstraining parameters GP_regression.Mat52.variance\n",
      "reconstraining parameters GP_regression.Gaussian_noise.variance\n"
     ]
    },
    {
     "name": "stdout",
     "output_type": "stream",
     "text": [
      "Optimization restart 8/10, f = 56.75754132818691\n",
      "Optimization restart 9/10, f = 41.783871641554775\n",
      "Optimization restart 10/10, f = 56.7575413281871\n",
      "Optimization restart 1/10, f = 30.435742561956232\n",
      "Optimization restart 2/10, f = 56.75754132818758\n",
      "Optimization restart 3/10, f = 30.435742561944053\n",
      "Optimization restart 4/10, f = 30.4357425619424\n",
      "Optimization restart 5/10, f = 30.435742561949276\n",
      "Optimization restart 6/10, f = 30.43574256193925\n",
      "Optimization restart 7/10, f = 56.75754132818691\n",
      "Optimization restart 8/10, f = 1041282720.747608\n",
      "Optimization restart 9/10, f = 56.75754132819755\n",
      "Optimization restart 10/10, f = 56.75754132818692\n",
      "(4_w,9)-aCMA-ES (mu_w=2.8,w_1=49%) in dimension 6 (seed=284835, Wed Sep 16 03:35:51 2020)\n",
      "Iterat #Fevals   function value  axis ratio  sigma  min&max std  t[m:s]\n",
      "    1      9 4.952042557680341e-01 1.0e+00 2.78e-01  3e-01  3e-01 0:00.0\n",
      "    2     18 4.168862672601890e-01 1.3e+00 3.27e-01  3e-01  4e-01 0:00.0\n",
      "    3     27 3.221205292775187e-01 1.4e+00 3.97e-01  4e-01  4e-01 0:00.1\n",
      "  100    900 -1.653331825181130e-01 1.1e+01 1.73e-02  8e-04  8e-03 0:01.7\n",
      "  184   1656 -1.653344587086929e-01 1.0e+01 1.61e-05  1e-07  1e-06 0:03.6\n"
     ]
    },
    {
     "name": "stderr",
     "output_type": "stream",
     "text": [
      "reconstraining parameters GP_regression.Mat52.lengthscale\n",
      "reconstraining parameters GP_regression.Mat52.variance\n",
      "reconstraining parameters GP_regression.Gaussian_noise.variance\n"
     ]
    },
    {
     "name": "stdout",
     "output_type": "stream",
     "text": [
      "termination on tolfun=1e-11 (Wed Sep 16 03:35:55 2020)\n",
      "final/bestever f-value = -1.653345e-01 -1.653345e-01\n",
      "incumbent solution: [1.9999999999999987, 1.5066450611551536e-13, 6.0, 7.999999999999934, 10.0, 11.999999999999943]\n",
      "std deviation: [1.351938213353795e-07, 1.7848684237860958e-07, 5.561031670175886e-07, 8.91985628090248e-07, 9.085646910261464e-07, 1.2860906634674095e-06]\n",
      "Optimization restart 1/10, f = 42.76727844074084\n",
      "Optimization restart 2/10, f = 42.767278440735886\n",
      "Optimization restart 3/10, f = 273.6916568932833\n",
      "Optimization restart 4/10, f = 1256043390.0899308\n",
      "Optimization restart 5/10, f = 42.76727844074334\n",
      "Optimization restart 6/10, f = 58.176479861391655\n",
      "Optimization restart 7/10, f = 58.17647986139161\n",
      "Optimization restart 8/10, f = 94.41174658354359\n"
     ]
    },
    {
     "name": "stderr",
     "output_type": "stream",
     "text": [
      "reconstraining parameters GP_regression.Mat52.lengthscale\n",
      "reconstraining parameters GP_regression.Mat52.variance\n",
      "reconstraining parameters GP_regression.Gaussian_noise.variance\n"
     ]
    },
    {
     "name": "stdout",
     "output_type": "stream",
     "text": [
      "Optimization restart 9/10, f = 42.767278440737314\n",
      "Optimization restart 10/10, f = 1252553424.436796\n",
      "Optimization restart 1/10, f = 29.965293613887795\n",
      "Optimization restart 2/10, f = 273.6916568932833\n",
      "Optimization restart 3/10, f = 1215948466.5186703\n",
      "Optimization restart 4/10, f = 1209347742.1496646\n",
      "Optimization restart 5/10, f = 29.965293613855515\n",
      "Optimization restart 6/10, f = 29.96529361386622\n",
      "Optimization restart 7/10, f = 29.965293613870628\n",
      "Optimization restart 8/10, f = 52.37356760934439\n",
      "Optimization restart 9/10, f = 29.96529361385705\n",
      "Optimization restart 10/10, f = 273.6916568932833\n",
      "(4_w,9)-aCMA-ES (mu_w=2.8,w_1=49%) in dimension 6 (seed=336883, Wed Sep 16 03:35:56 2020)\n",
      "Iterat #Fevals   function value  axis ratio  sigma  min&max std  t[m:s]\n",
      "    1      9 1.618943903370333e-01 1.0e+00 2.30e-01  2e-01  2e-01 0:00.0\n",
      "    2     18 1.003431459027340e-01 1.2e+00 2.44e-01  2e-01  3e-01 0:00.1\n",
      "    3     27 7.591707250264168e-02 1.4e+00 2.81e-01  3e-01  3e-01 0:00.1\n",
      "  100    900 -1.008711954184909e-01 2.1e+01 2.29e-01  9e-03  2e-01 0:02.0\n",
      "  200   1800 -1.012401963590275e-01 1.9e+01 5.53e-05  3e-07  4e-06 0:03.7\n",
      "  211   1899 -1.012401963590879e-01 2.3e+01 3.03e-05  1e-07  2e-06 0:04.0\n"
     ]
    },
    {
     "name": "stderr",
     "output_type": "stream",
     "text": [
      "reconstraining parameters GP_regression.Mat52.lengthscale\n",
      "reconstraining parameters GP_regression.Mat52.variance\n",
      "reconstraining parameters GP_regression.Gaussian_noise.variance\n"
     ]
    },
    {
     "name": "stdout",
     "output_type": "stream",
     "text": [
      "termination on tolfun=1e-11 (Wed Sep 16 03:36:01 2020)\n",
      "final/bestever f-value = -1.012402e-01 -1.012402e-01\n",
      "incumbent solution: [1.9999999999999978, 2.725174934216697, 5.99999999999995, 7.999999999999099, 9.999999999999762, 11.99999999999978]\n",
      "std deviation: [1.0347911051012984e-07, 6.335677149140833e-07, 5.782132677640653e-07, 2.081834813521864e-06, 9.523218081813435e-07, 1.0359526978764686e-06]\n",
      "Optimization restart 1/10, f = 43.52158852679343\n",
      "Optimization restart 2/10, f = 59.59539351625773\n",
      "Optimization restart 3/10, f = 59.59541839459625\n",
      "Optimization restart 4/10, f = 59.5954183945976\n",
      "Optimization restart 5/10, f = 2097698.9428752325\n",
      "Optimization restart 6/10, f = 280.36706315897317\n",
      "Optimization restart 7/10, f = 1295457478.1303906\n",
      "Optimization restart 8/10, f = 59.59541839459733\n",
      "Optimization restart 9/10, f = 59.59541839459625\n"
     ]
    },
    {
     "name": "stderr",
     "output_type": "stream",
     "text": [
      "reconstraining parameters GP_regression.Mat52.lengthscale\n"
     ]
    },
    {
     "name": "stdout",
     "output_type": "stream",
     "text": [
      "Optimization restart 10/10, f = 96.45662123736008\n"
     ]
    },
    {
     "name": "stderr",
     "output_type": "stream",
     "text": [
      "reconstraining parameters GP_regression.Mat52.variance\n",
      "reconstraining parameters GP_regression.Gaussian_noise.variance\n"
     ]
    },
    {
     "name": "stdout",
     "output_type": "stream",
     "text": [
      "Optimization restart 1/10, f = 30.354502432158835\n",
      "Optimization restart 2/10, f = 280.36706315897317\n",
      "Optimization restart 3/10, f = 30.354502431584898\n",
      "Optimization restart 4/10, f = 30.354502431594515\n",
      "Optimization restart 5/10, f = 30.354502431585228\n",
      "Optimization restart 6/10, f = 30.35450243157919\n",
      "Optimization restart 7/10, f = 30.354502431575668\n",
      "Optimization restart 8/10, f = 59.59541839459626\n",
      "Optimization restart 9/10, f = 280.36706315897317\n",
      "Optimization restart 10/10, f = 30.35450243159543\n",
      "(4_w,9)-aCMA-ES (mu_w=2.8,w_1=49%) in dimension 6 (seed=302025, Wed Sep 16 03:36:03 2020)\n",
      "Iterat #Fevals   function value  axis ratio  sigma  min&max std  t[m:s]\n",
      "    1      9 1.656191904295925e-01 1.0e+00 2.61e-01  2e-01  3e-01 0:00.0\n",
      "    2     18 2.034768243329603e-01 1.3e+00 2.95e-01  3e-01  3e-01 0:00.0\n",
      "    3     27 1.037284851212998e-01 1.6e+00 2.94e-01  3e-01  3e-01 0:00.1\n",
      "  100    900 -5.750997542020020e-02 8.4e+00 7.67e-03  5e-04  3e-03 0:01.8\n",
      "  172   1548 -5.751005242032114e-02 7.3e+00 8.25e-06  1e-07  7e-07 0:03.1\n"
     ]
    },
    {
     "name": "stderr",
     "output_type": "stream",
     "text": [
      "reconstraining parameters GP_regression.Mat52.lengthscale\n",
      "reconstraining parameters GP_regression.Mat52.variance\n",
      "reconstraining parameters GP_regression.Gaussian_noise.variance\n"
     ]
    },
    {
     "name": "stdout",
     "output_type": "stream",
     "text": [
      "termination on tolfun=1e-11 (Wed Sep 16 03:36:06 2020)\n",
      "final/bestever f-value = -5.751005e-02 -5.751005e-02\n",
      "incumbent solution: [1.999999999999989, 1.8714958661219567e-16, 1.268952892561297, 7.999999999999996, 9.99999999999978, 11.999999999999442]\n",
      "std deviation: [1.2690767014097456e-07, 1.0003641981442915e-07, 4.326924121417287e-07, 4.5964282077363867e-07, 6.730768275836587e-07, 6.903206473328618e-07]\n",
      "Optimization restart 1/10, f = 44.284429569664866\n",
      "Optimization restart 2/10, f = 2147644.1558008348\n",
      "Optimization restart 3/10, f = 2147644.1558008348\n",
      "Optimization restart 4/10, f = 97.92240341687187\n",
      "Optimization restart 5/10, f = 287.04246942466307\n",
      "Optimization restart 6/10, f = 61.014356927801146\n",
      "Optimization restart 7/10, f = 44.28442956963396\n",
      "Optimization restart 8/10, f = 61.01435692780102\n",
      "Optimization restart 9/10, f = 44.2844295695991\n"
     ]
    },
    {
     "name": "stderr",
     "output_type": "stream",
     "text": [
      "reconstraining parameters GP_regression.Mat52.lengthscale\n",
      "reconstraining parameters GP_regression.Mat52.variance\n",
      "reconstraining parameters GP_regression.Gaussian_noise.variance\n"
     ]
    },
    {
     "name": "stdout",
     "output_type": "stream",
     "text": [
      "Optimization restart 10/10, f = 61.01435692780107\n",
      "Optimization restart 1/10, f = 30.333406536270836\n",
      "Optimization restart 2/10, f = 30.333406536218284\n",
      "Optimization restart 3/10, f = 30.333406536221492\n",
      "Optimization restart 4/10, f = 30.333406536218927\n",
      "Optimization restart 5/10, f = 61.01435692780096\n",
      "Optimization restart 6/10, f = 30.333406536340817\n",
      "Optimization restart 7/10, f = 30.33340653623369\n",
      "Optimization restart 8/10, f = 30.333406536217343\n",
      "Optimization restart 9/10, f = 30.333406536222068\n",
      "Optimization restart 10/10, f = 30.33340653621023\n",
      "(4_w,9)-aCMA-ES (mu_w=2.8,w_1=49%) in dimension 6 (seed=264973, Wed Sep 16 03:36:08 2020)\n",
      "Iterat #Fevals   function value  axis ratio  sigma  min&max std  t[m:s]\n",
      "    1      9 3.251403785680194e-01 1.0e+00 2.26e-01  2e-01  2e-01 0:00.0\n",
      "    2     18 3.034453572012645e-01 1.2e+00 2.27e-01  2e-01  2e-01 0:00.0\n",
      "    3     27 2.387957889982784e-01 1.3e+00 2.83e-01  2e-01  3e-01 0:00.1\n",
      "  100    900 -5.057939330742478e-02 1.1e+01 6.86e-02  5e-03  5e-02 0:01.7\n",
      "  198   1782 -5.059506098320909e-02 1.0e+01 1.83e-05  2e-07  1e-06 0:03.8\n"
     ]
    },
    {
     "name": "stderr",
     "output_type": "stream",
     "text": [
      "reconstraining parameters GP_regression.Mat52.lengthscale\n",
      "reconstraining parameters GP_regression.Mat52.variance\n",
      "reconstraining parameters GP_regression.Gaussian_noise.variance\n"
     ]
    },
    {
     "name": "stdout",
     "output_type": "stream",
     "text": [
      "termination on tolfun=1e-11 (Wed Sep 16 03:36:12 2020)\n",
      "final/bestever f-value = -5.059506e-02 -5.059506e-02\n",
      "incumbent solution: [2.0, 5.808715483544547e-14, 5.999999999999967, 7.999999999999852, 5.030191292661054, 11.999999999999961]\n",
      "std deviation: [1.61658451412507e-07, 1.6276214775553964e-07, 5.210722221563386e-07, 1.0874118938549563e-06, 6.39833658817643e-07, 1.4022293048088234e-06]\n",
      "Optimization restart 1/10, f = 45.0054259345709\n",
      "Optimization restart 2/10, f = 293.7178756903529\n",
      "Optimization restart 3/10, f = 293.7178756903529\n",
      "Optimization restart 4/10, f = 293.7178756903529\n",
      "Optimization restart 5/10, f = 45.005425934571036\n",
      "Optimization restart 6/10, f = 62.433295461005585\n",
      "Optimization restart 7/10, f = 45.005425934570994\n"
     ]
    },
    {
     "name": "stderr",
     "output_type": "stream",
     "text": [
      "reconstraining parameters GP_regression.Mat52.lengthscale\n",
      "reconstraining parameters GP_regression.Mat52.variance\n",
      "reconstraining parameters GP_regression.Gaussian_noise.variance\n"
     ]
    },
    {
     "name": "stdout",
     "output_type": "stream",
     "text": [
      "Optimization restart 8/10, f = 293.7178756903529\n",
      "Optimization restart 9/10, f = 99.14459642192473\n",
      "Optimization restart 10/10, f = 1420053878.2999837\n",
      "Optimization restart 1/10, f = 30.315087028181363\n",
      "Optimization restart 2/10, f = 30.315087028172044\n",
      "Optimization restart 3/10, f = 62.43329546100563\n",
      "Optimization restart 4/10, f = 30.315087028178606\n",
      "Optimization restart 5/10, f = 62.43329546100563\n",
      "Optimization restart 6/10, f = 1490614673.2551162\n",
      "Optimization restart 7/10, f = 30.315087028176606\n",
      "Optimization restart 8/10, f = 30.315087028176947\n",
      "Optimization restart 9/10, f = 62.433293275142034\n",
      "Optimization restart 10/10, f = 30.315087028181228\n",
      "(4_w,9)-aCMA-ES (mu_w=2.8,w_1=49%) in dimension 6 (seed=275920, Wed Sep 16 03:36:14 2020)\n",
      "Iterat #Fevals   function value  axis ratio  sigma  min&max std  t[m:s]\n",
      "    1      9 2.136410922525678e-01 1.0e+00 2.56e-01  2e-01  3e-01 0:00.0\n",
      "    2     18 2.124340959299862e-01 1.3e+00 2.85e-01  3e-01  3e-01 0:00.1\n",
      "    3     27 1.995707572476348e-01 1.5e+00 3.37e-01  3e-01  4e-01 0:00.1\n",
      "  100    900 9.490278329866175e-02 7.5e+00 1.30e-03  8e-05  5e-04 0:01.6\n",
      "  149   1341 9.490278275618014e-02 6.6e+00 1.57e-05  3e-07  2e-06 0:02.5\n"
     ]
    },
    {
     "name": "stderr",
     "output_type": "stream",
     "text": [
      "reconstraining parameters GP_regression.Mat52.lengthscale\n",
      "reconstraining parameters GP_regression.Mat52.variance\n",
      "reconstraining parameters GP_regression.Gaussian_noise.variance\n"
     ]
    },
    {
     "name": "stdout",
     "output_type": "stream",
     "text": [
      "termination on tolfun=1e-11 (Wed Sep 16 03:36:16 2020)\n",
      "final/bestever f-value = 9.490278e-02 9.440988e-02\n",
      "incumbent solution: [1.750786988269761, 3.9999999999997673, 5.999999999999791, 3.5758604310616318, 9.999999999999996, 3.9666087196723776]\n",
      "std deviation: [3.459243743654732e-07, 1.1268680742929434e-06, 7.666397242855726e-07, 7.771340264659984e-07, 6.82615068667989e-07, 1.8323244800403811e-06]\n",
      "Optimization restart 1/10, f = 46.48822741144431\n",
      "Optimization restart 2/10, f = 1410063546.633645\n",
      "Optimization restart 3/10, f = 100.85079001162575\n",
      "Optimization restart 4/10, f = 63.85223399421039\n",
      "Optimization restart 5/10, f = 63.85223399421027\n",
      "Optimization restart 6/10, f = 46.48822741144133\n",
      "Optimization restart 7/10, f = 46.488227411441486\n",
      "Optimization restart 8/10, f = 63.852233994210295\n"
     ]
    },
    {
     "name": "stderr",
     "output_type": "stream",
     "text": [
      "reconstraining parameters GP_regression.Mat52.lengthscale\n",
      "reconstraining parameters GP_regression.Mat52.variance\n",
      "reconstraining parameters GP_regression.Gaussian_noise.variance\n"
     ]
    },
    {
     "name": "stdout",
     "output_type": "stream",
     "text": [
      "Optimization restart 9/10, f = 46.48822741144242\n",
      "Optimization restart 10/10, f = 300.3932819560427\n",
      "Optimization restart 1/10, f = 31.33343318337763\n",
      "Optimization restart 2/10, f = 300.3932819560427\n",
      "Optimization restart 3/10, f = 31.33343318263132\n",
      "Optimization restart 4/10, f = 31.33343318263802\n",
      "Optimization restart 5/10, f = 31.33343318266555\n",
      "Optimization restart 6/10, f = 63.85223399421028\n",
      "Optimization restart 7/10, f = 63.85223399421027\n",
      "Optimization restart 8/10, f = 31.33343318262663\n",
      "Optimization restart 9/10, f = 31.333433182659803\n",
      "Optimization restart 10/10, f = 53.906528507961426\n",
      "(4_w,9)-aCMA-ES (mu_w=2.8,w_1=49%) in dimension 6 (seed=324494, Wed Sep 16 03:36:19 2020)\n",
      "Iterat #Fevals   function value  axis ratio  sigma  min&max std  t[m:s]\n",
      "    1      9 6.181748975244883e-02 1.0e+00 2.46e-01  2e-01  3e-01 0:00.0\n",
      "    2     18 2.472984123431843e-02 1.2e+00 2.42e-01  2e-01  3e-01 0:00.1\n",
      "    3     27 3.254038240746215e-03 1.3e+00 2.94e-01  3e-01  3e-01 0:00.1\n",
      "  100    900 -3.368314768259228e-02 1.9e+01 1.21e-02  8e-04  1e-02 0:01.8\n",
      "  177   1593 -3.368358643697267e-02 2.2e+01 9.35e-06  9e-08  2e-06 0:03.1\n"
     ]
    },
    {
     "name": "stderr",
     "output_type": "stream",
     "text": [
      "reconstraining parameters GP_regression.Mat52.lengthscale\n",
      "reconstraining parameters GP_regression.Mat52.variance\n",
      "reconstraining parameters GP_regression.Gaussian_noise.variance\n"
     ]
    },
    {
     "name": "stdout",
     "output_type": "stream",
     "text": [
      "termination on tolfun=1e-11 (Wed Sep 16 03:36:22 2020)\n",
      "final/bestever f-value = -3.368359e-02 -3.368359e-02\n",
      "incumbent solution: [6.767029649504384e-15, 3.2655794248158654, 3.753235722561028, 3.983505438130991e-15, 1.2641842206081136e-13, 1.8475991258493123e-13]\n",
      "std deviation: [9.178711351946406e-08, 1.2940269028394503e-07, 1.84227778793918e-06, 1.5218322716615518e-07, 2.438466033284621e-07, 4.816315168056257e-07]\n",
      "Optimization restart 1/10, f = 47.042573133124726\n",
      "Optimization restart 2/10, f = 65.27117252741493\n",
      "Optimization restart 3/10, f = 65.27117252741493\n",
      "Optimization restart 4/10, f = 1483598634.789961\n",
      "Optimization restart 5/10, f = 65.27117252741493\n",
      "Optimization restart 6/10, f = 102.4653354065329\n",
      "Optimization restart 7/10, f = 47.042573133129466\n"
     ]
    },
    {
     "name": "stderr",
     "output_type": "stream",
     "text": [
      "reconstraining parameters GP_regression.Mat52.lengthscale\n",
      "reconstraining parameters GP_regression.Mat52.variance\n",
      "reconstraining parameters GP_regression.Gaussian_noise.variance\n"
     ]
    },
    {
     "name": "stdout",
     "output_type": "stream",
     "text": [
      "Optimization restart 8/10, f = 47.04257313313332\n",
      "Optimization restart 9/10, f = 1480834081.0886235\n",
      "Optimization restart 10/10, f = 47.0425731331577\n",
      "Optimization restart 1/10, f = 32.0813889002943\n",
      "Optimization restart 2/10, f = 1629098554.3493338\n",
      "Optimization restart 3/10, f = 32.08138890032312\n",
      "Optimization restart 4/10, f = 307.06867897327277\n",
      "Optimization restart 5/10, f = 32.081388900304056\n",
      "Optimization restart 6/10, f = 32.08138890029463\n",
      "Optimization restart 7/10, f = 32.08138890032987\n",
      "Optimization restart 8/10, f = 307.0686882217325\n",
      "Optimization restart 9/10, f = 32.08138890032485\n",
      "Optimization restart 10/10, f = 32.08138890027489\n",
      "(4_w,9)-aCMA-ES (mu_w=2.8,w_1=49%) in dimension 6 (seed=326727, Wed Sep 16 03:36:24 2020)\n",
      "Iterat #Fevals   function value  axis ratio  sigma  min&max std  t[m:s]\n",
      "    1      9 -3.781197954341842e-03 1.0e+00 2.63e-01  3e-01  3e-01 0:00.0\n",
      "    2     18 -3.231625809305250e-03 1.3e+00 2.56e-01  2e-01  3e-01 0:00.1\n",
      "    3     27 -1.752564310289806e-03 1.6e+00 2.80e-01  3e-01  3e-01 0:00.1\n",
      "  100    900 -1.786092729539535e-01 1.3e+01 3.16e-03  1e-04  1e-03 0:01.8\n",
      "  176   1584 -1.786093188711346e-01 1.6e+01 4.79e-06  4e-08  4e-07 0:03.1\n"
     ]
    },
    {
     "name": "stderr",
     "output_type": "stream",
     "text": [
      "reconstraining parameters GP_regression.Mat52.lengthscale\n",
      "reconstraining parameters GP_regression.Mat52.variance\n",
      "reconstraining parameters GP_regression.Gaussian_noise.variance\n"
     ]
    },
    {
     "name": "stdout",
     "output_type": "stream",
     "text": [
      "termination on tolfun=1e-11 (Wed Sep 16 03:36:27 2020)\n",
      "final/bestever f-value = -1.786093e-01 -1.786093e-01\n",
      "incumbent solution: [5.621386786391917e-16, 2.0920353516936965, 3.388547584769217, 2.4711069265100347, 5.7044958022990375, 4.905421367813087]\n",
      "std deviation: [3.591148957184055e-08, 6.905564429375443e-08, 2.583012275675051e-07, 2.686187436784664e-07, 3.163382281508764e-07, 4.18600993063155e-07]\n",
      "Optimization restart 1/10, f = 48.351021130340115\n",
      "Optimization restart 2/10, f = 66.69011106061977\n",
      "Optimization restart 3/10, f = 66.69011106061964\n",
      "Optimization restart 4/10, f = 313.74409448742233\n",
      "Optimization restart 5/10, f = 1506615263.875011\n",
      "Optimization restart 6/10, f = 48.351021130304076\n",
      "Optimization restart 7/10, f = 66.69011106061961\n",
      "Optimization restart 8/10, f = 66.69011106061961\n",
      "Optimization restart 9/10, f = 66.69011106061961\n"
     ]
    },
    {
     "name": "stderr",
     "output_type": "stream",
     "text": [
      "reconstraining parameters GP_regression.Mat52.lengthscale\n",
      "reconstraining parameters GP_regression.Mat52.variance\n",
      "reconstraining parameters GP_regression.Gaussian_noise.variance\n"
     ]
    },
    {
     "name": "stdout",
     "output_type": "stream",
     "text": [
      "Optimization restart 10/10, f = 48.35102113102624\n",
      "Optimization restart 1/10, f = 31.146715315999213\n",
      "Optimization restart 2/10, f = 51.88690522632193\n",
      "Optimization restart 3/10, f = 313.74409448742233\n",
      "Optimization restart 4/10, f = 31.146715315980348\n",
      "Optimization restart 5/10, f = 31.14671531599055\n",
      "Optimization restart 6/10, f = 31.14671531595172\n",
      "Optimization restart 7/10, f = 66.69011106061967\n",
      "Optimization restart 8/10, f = 313.74409030651077\n",
      "Optimization restart 9/10, f = 31.146715315982615\n",
      "Optimization restart 10/10, f = 31.14671531599031\n",
      "(4_w,9)-aCMA-ES (mu_w=2.8,w_1=49%) in dimension 6 (seed=252674, Wed Sep 16 03:36:29 2020)\n",
      "Iterat #Fevals   function value  axis ratio  sigma  min&max std  t[m:s]\n",
      "    1      9 5.104950955519394e-01 1.0e+00 2.47e-01  2e-01  3e-01 0:00.0\n",
      "    2     18 4.546274113463191e-01 1.3e+00 2.65e-01  2e-01  3e-01 0:00.0\n",
      "    3     27 4.515951852100368e-01 1.4e+00 2.65e-01  2e-01  3e-01 0:00.1\n",
      "  100    900 -5.304002561685373e-02 1.4e+01 1.41e-01  9e-03  9e-02 0:01.7\n",
      "  200   1800 -5.348905038874818e-02 3.1e+01 1.40e-04  8e-07  1e-05 0:03.4\n",
      "  222   1998 -5.348905039216767e-02 2.8e+01 1.93e-05  7e-08  1e-06 0:03.8\n"
     ]
    },
    {
     "name": "stderr",
     "output_type": "stream",
     "text": [
      "reconstraining parameters GP_regression.Mat52.lengthscale\n",
      "reconstraining parameters GP_regression.Mat52.variance\n",
      "reconstraining parameters GP_regression.Gaussian_noise.variance\n"
     ]
    },
    {
     "name": "stdout",
     "output_type": "stream",
     "text": [
      "termination on tolfun=1e-11 (Wed Sep 16 03:36:33 2020)\n",
      "final/bestever f-value = -5.348905e-02 -5.348905e-02\n",
      "incumbent solution: [0.9436370430808259, 0.42303396330429377, 2.557815470220215, 4.0919857244502795, 5.737325838174238, 4.0582007434264415]\n",
      "std deviation: [7.349306978292047e-08, 4.916154529057754e-07, 6.16364055984395e-07, 6.003293790496828e-07, 6.606930219623196e-07, 1.1925650796814296e-06]\n",
      "Optimization restart 1/10, f = 48.80457099941305\n",
      "Optimization restart 2/10, f = 68.1090495938243\n",
      "Optimization restart 3/10, f = 48.80457099937386\n",
      "Optimization restart 4/10, f = 48.80457099937465\n",
      "Optimization restart 5/10, f = 68.1090495938243\n",
      "Optimization restart 6/10, f = 68.10904959382582\n",
      "Optimization restart 7/10, f = 48.804570999691705\n"
     ]
    },
    {
     "name": "stderr",
     "output_type": "stream",
     "text": [
      "reconstraining parameters GP_regression.Mat52.lengthscale\n",
      "reconstraining parameters GP_regression.Mat52.variance\n",
      "reconstraining parameters GP_regression.Gaussian_noise.variance\n"
     ]
    },
    {
     "name": "stdout",
     "output_type": "stream",
     "text": [
      "Optimization restart 8/10, f = 1514073734.3782377\n",
      "Optimization restart 9/10, f = 68.1090495938243\n",
      "Optimization restart 10/10, f = 104.79618599675071\n",
      "Optimization restart 1/10, f = 30.58229800374264\n",
      "Optimization restart 2/10, f = 30.58229800372665\n",
      "Optimization restart 3/10, f = 30.582298003731164\n",
      "Optimization restart 4/10, f = 30.582298003760762\n",
      "Optimization restart 5/10, f = 30.582298003753063\n",
      "Optimization restart 6/10, f = 30.582298003767534\n",
      "Optimization restart 7/10, f = 30.582298003767686\n",
      "Optimization restart 8/10, f = 30.582298003773822\n",
      "Optimization restart 9/10, f = 320.4195007531122\n",
      "Optimization restart 10/10, f = 30.58229800374697\n",
      "(4_w,9)-aCMA-ES (mu_w=2.8,w_1=49%) in dimension 6 (seed=279749, Wed Sep 16 03:36:35 2020)\n",
      "Iterat #Fevals   function value  axis ratio  sigma  min&max std  t[m:s]\n",
      "    1      9 1.498027853204600e-01 1.0e+00 2.44e-01  2e-01  3e-01 0:00.0\n",
      "    2     18 1.446229050666070e-01 1.2e+00 2.57e-01  2e-01  3e-01 0:00.0\n",
      "    3     27 1.345792491112539e-01 1.4e+00 2.79e-01  3e-01  3e-01 0:00.1\n",
      "  100    900 -1.116423900786589e-02 1.0e+01 6.86e-03  3e-04  3e-03 0:01.6\n",
      "  163   1467 -1.116425214994798e-02 1.1e+01 2.58e-05  3e-07  2e-06 0:03.0\n"
     ]
    },
    {
     "name": "stderr",
     "output_type": "stream",
     "text": [
      "reconstraining parameters GP_regression.Mat52.lengthscale\n",
      "reconstraining parameters GP_regression.Mat52.variance\n",
      "reconstraining parameters GP_regression.Gaussian_noise.variance\n"
     ]
    },
    {
     "name": "stdout",
     "output_type": "stream",
     "text": [
      "termination on tolfun=1e-11 (Wed Sep 16 03:36:38 2020)\n",
      "final/bestever f-value = -1.116425e-02 -1.116425e-02\n",
      "incumbent solution: [1.9999999999999958, 3.999999999999837, 5.999999999999904, 2.7690068753716304, 6.618324900237316, 11.999999999999998]\n",
      "std deviation: [2.667948672572468e-07, 6.074346484363406e-07, 1.0275316862274875e-06, 1.674429157964426e-06, 2.2760943155740392e-06, 2.2555648581007345e-06]\n",
      "Optimization restart 1/10, f = 49.96896796982642\n",
      "Optimization restart 2/10, f = 49.96896796989438\n",
      "Optimization restart 3/10, f = 69.52798812702898\n",
      "Optimization restart 4/10, f = 69.527988127029\n",
      "Optimization restart 5/10, f = 69.5279881270748\n",
      "Optimization restart 6/10, f = 69.52798812702937\n",
      "Optimization restart 7/10, f = 1512755490.6275547\n",
      "Optimization restart 8/10, f = 49.968967969817896\n",
      "Optimization restart 9/10, f = 49.96896796982846"
     ]
    },
    {
     "name": "stderr",
     "output_type": "stream",
     "text": [
      "reconstraining parameters GP_regression.Mat52.lengthscale\n",
      "reconstraining parameters GP_regression.Mat52.variance\n",
      "reconstraining parameters GP_regression.Gaussian_noise.variance\n"
     ]
    },
    {
     "name": "stdout",
     "output_type": "stream",
     "text": [
      "\n",
      "Optimization restart 10/10, f = 49.968967969817655\n",
      "Optimization restart 1/10, f = 32.57092474970877\n",
      "Optimization restart 2/10, f = 1832434529.0090432\n",
      "Optimization restart 3/10, f = 32.570924749643694\n",
      "Optimization restart 4/10, f = 52.5905533448568\n",
      "Optimization restart 5/10, f = 69.52798812702898\n",
      "Optimization restart 6/10, f = 32.57092474964473\n",
      "Optimization restart 7/10, f = 32.57092474965833\n",
      "Optimization restart 8/10, f = 69.52798812702896\n",
      "Optimization restart 9/10, f = 327.09490701880196\n",
      "Optimization restart 10/10, f = 69.52798812703057\n",
      "(4_w,9)-aCMA-ES (mu_w=2.8,w_1=49%) in dimension 6 (seed=290290, Wed Sep 16 03:36:40 2020)\n",
      "Iterat #Fevals   function value  axis ratio  sigma  min&max std  t[m:s]\n",
      "    1      9 2.544351017880615e-01 1.0e+00 2.54e-01  2e-01  3e-01 0:00.0\n",
      "    2     18 1.753064024295239e-01 1.2e+00 3.05e-01  3e-01  3e-01 0:00.1\n",
      "    3     27 1.328378989360459e-01 1.4e+00 3.04e-01  3e-01  3e-01 0:00.1\n",
      "  100    900 -1.103400246401165e-02 2.0e+01 4.03e-01  3e-02  4e-01 0:01.8\n",
      "  200   1800 -1.379866771918437e-02 7.4e+01 5.27e-01  7e-03  5e-01 0:03.6\n",
      "  300   2700 -1.387403906912965e-02 6.0e+01 9.69e-04  2e-06  9e-05 0:05.4\n",
      "  324   2916 -1.387403907370022e-02 4.5e+01 1.65e-04  2e-07  1e-05 0:05.8\n"
     ]
    },
    {
     "name": "stderr",
     "output_type": "stream",
     "text": [
      "reconstraining parameters GP_regression.Mat52.lengthscale\n",
      "reconstraining parameters GP_regression.Mat52.variance\n",
      "reconstraining parameters GP_regression.Gaussian_noise.variance\n"
     ]
    },
    {
     "name": "stdout",
     "output_type": "stream",
     "text": [
      "termination on tolfun=1e-11 (Wed Sep 16 03:36:46 2020)\n",
      "final/bestever f-value = -1.387404e-02 -1.387404e-02\n",
      "incumbent solution: [1.9999999999999973, 7.506450715033817e-14, 4.72339761941501e-17, 7.999999999999854, 2.619757618455631, 11.999999999999657]\n",
      "std deviation: [2.7253021000171565e-07, 2.3314327136199786e-07, 6.152586038533333e-07, 1.34059813308135e-06, 1.1347485821498719e-06, 9.97181729896664e-06]\n",
      "Optimization restart 1/10, f = 50.660359116296746\n",
      "Optimization restart 2/10, f = 333.7703132844918\n",
      "Optimization restart 3/10, f = 50.66035911629574\n",
      "Optimization restart 4/10, f = 70.94692666023366\n",
      "Optimization restart 5/10, f = 50.660359116296405\n",
      "Optimization restart 6/10, f = 70.94692666023364\n",
      "Optimization restart 7/10, f = 70.94692666023364\n",
      "Optimization restart 8/10, f = 50.660359116295325\n"
     ]
    },
    {
     "name": "stderr",
     "output_type": "stream",
     "text": [
      "reconstraining parameters GP_regression.Mat52.lengthscale\n",
      "reconstraining parameters GP_regression.Mat52.variance\n",
      "reconstraining parameters GP_regression.Gaussian_noise.variance\n"
     ]
    },
    {
     "name": "stdout",
     "output_type": "stream",
     "text": [
      "Optimization restart 9/10, f = 70.94692666023364\n",
      "Optimization restart 10/10, f = 50.660359116402454\n",
      "Optimization restart 1/10, f = 32.89187782101115\n",
      "Optimization restart 2/10, f = 333.7703132844918\n",
      "Optimization restart 3/10, f = 32.89187782102502\n",
      "Optimization restart 4/10, f = 32.8918778209926\n",
      "Optimization restart 5/10, f = 333.7703132844918\n",
      "Optimization restart 6/10, f = 70.94692666023363\n",
      "Optimization restart 7/10, f = 32.891877821007824\n",
      "Optimization restart 8/10, f = 32.89187782104898\n",
      "Optimization restart 9/10, f = 32.89187782097851\n",
      "Optimization restart 10/10, f = 32.89187782098792\n",
      "(4_w,9)-aCMA-ES (mu_w=2.8,w_1=49%) in dimension 6 (seed=292430, Wed Sep 16 03:36:48 2020)\n",
      "Iterat #Fevals   function value  axis ratio  sigma  min&max std  t[m:s]\n",
      "    1      9 4.804141144330378e-01 1.0e+00 2.40e-01  2e-01  3e-01 0:00.0\n",
      "    2     18 4.456937744480318e-01 1.3e+00 2.60e-01  2e-01  3e-01 0:00.1\n",
      "    3     27 4.152326088805598e-01 1.4e+00 2.83e-01  3e-01  3e-01 0:00.1\n",
      "  100    900 -4.615868713956495e-02 1.5e+01 4.03e-02  2e-03  2e-02 0:01.8\n",
      "  192   1728 -4.617314447466114e-02 3.0e+01 1.60e-05  8e-08  2e-06 0:03.4\n"
     ]
    },
    {
     "name": "stderr",
     "output_type": "stream",
     "text": [
      "reconstraining parameters GP_regression.Mat52.lengthscale\n",
      "reconstraining parameters GP_regression.Mat52.variance\n",
      "reconstraining parameters GP_regression.Gaussian_noise.variance\n"
     ]
    },
    {
     "name": "stdout",
     "output_type": "stream",
     "text": [
      "termination on tolfun=1e-11 (Wed Sep 16 03:36:52 2020)\n",
      "final/bestever f-value = -4.617314e-02 -4.617314e-02\n",
      "incumbent solution: [0.6868672973801302, 0.5816371759238904, 2.4671507137301885, 3.7362671195860346, 5.696819046038983, 4.15204743497981]\n",
      "std deviation: [7.559348623071294e-08, 6.746169812175354e-07, 8.793852158998664e-07, 8.358969890978828e-07, 1.0451241669280518e-06, 1.6305820451800014e-06]\n",
      "Optimization restart 1/10, f = 50.74528851388385\n",
      "Optimization restart 2/10, f = 50.74528851386948\n",
      "Optimization restart 3/10, f = 50.74528851387361\n",
      "Optimization restart 4/10, f = 72.36586519343831\n",
      "Optimization restart 5/10, f = 340.4457195501816\n",
      "Optimization restart 6/10, f = 72.36586519343831\n",
      "Optimization restart 7/10, f = 340.4457195501816\n",
      "Optimization restart 8/10, f = 340.4457195501816\n"
     ]
    },
    {
     "name": "stderr",
     "output_type": "stream",
     "text": [
      "reconstraining parameters GP_regression.Mat52.lengthscale\n",
      "reconstraining parameters GP_regression.Mat52.variance\n",
      "reconstraining parameters GP_regression.Gaussian_noise.variance\n"
     ]
    },
    {
     "name": "stdout",
     "output_type": "stream",
     "text": [
      "Optimization restart 9/10, f = 50.7452885138695\n",
      "Optimization restart 10/10, f = 340.4457195501816\n",
      "Optimization restart 1/10, f = 30.508302117646302\n",
      "Optimization restart 2/10, f = 50.16001540799543\n",
      "Optimization restart 3/10, f = 72.36586519343972\n",
      "Optimization restart 4/10, f = 30.508302117639076\n",
      "Optimization restart 5/10, f = 30.508302117619223\n",
      "Optimization restart 6/10, f = 30.50830211761273\n",
      "Optimization restart 7/10, f = 30.508302117625185\n",
      "Optimization restart 8/10, f = 340.445718851929\n",
      "Optimization restart 9/10, f = 30.50830211759758\n",
      "Optimization restart 10/10, f = 72.3658651934384\n",
      "(4_w,9)-aCMA-ES (mu_w=2.8,w_1=49%) in dimension 6 (seed=279119, Wed Sep 16 03:36:54 2020)\n",
      "Iterat #Fevals   function value  axis ratio  sigma  min&max std  t[m:s]\n",
      "    1      9 -3.473975497287896e-03 1.0e+00 2.61e-01  2e-01  3e-01 0:00.0\n",
      "    2     18 -1.907791957017402e-03 1.3e+00 2.44e-01  2e-01  3e-01 0:00.1\n",
      "    3     27 -1.892431209851964e-02 1.5e+00 2.63e-01  2e-01  3e-01 0:00.1\n",
      "  100    900 -3.895511870697987e-02 2.1e+01 1.80e-03  3e-05  6e-04 0:01.8\n",
      "  171   1539 -3.895513111896332e-02 2.8e+01 1.50e-05  8e-08  2e-06 0:03.1\n"
     ]
    },
    {
     "name": "stderr",
     "output_type": "stream",
     "text": [
      "reconstraining parameters GP_regression.Mat52.lengthscale\n",
      "reconstraining parameters GP_regression.Mat52.variance\n",
      "reconstraining parameters GP_regression.Gaussian_noise.variance\n"
     ]
    },
    {
     "name": "stdout",
     "output_type": "stream",
     "text": [
      "termination on tolfun=1e-11 (Wed Sep 16 03:36:57 2020)\n",
      "final/bestever f-value = -3.895513e-02 -3.895513e-02\n",
      "incumbent solution: [0.8099799039956003, 4.9398631738715e-12, 2.748477824406541, 4.811117009486899, 5.940486291185061, 3.9410003498965347]\n",
      "std deviation: [7.916574763079946e-08, 9.530115043901721e-07, 6.798040426021791e-07, 9.62813957729183e-07, 1.1457147783373056e-06, 2.0068940096409583e-06]\n",
      "Optimization restart 1/10, f = 51.14367380840891\n",
      "Optimization restart 2/10, f = 73.78480372664372\n",
      "Optimization restart 3/10, f = 51.14367380840392\n",
      "Optimization restart 4/10, f = 51.143673808409424\n",
      "Optimization restart 5/10, f = 73.78480372664298\n",
      "Optimization restart 6/10, f = 115.11433411294676\n",
      "Optimization restart 7/10, f = 51.143673808404145\n",
      "Optimization restart 8/10, f = 73.78480372664299\n",
      "Optimization restart 9/10, f = 51.14367380840396\n"
     ]
    },
    {
     "name": "stderr",
     "output_type": "stream",
     "text": [
      "reconstraining parameters GP_regression.Mat52.lengthscale\n",
      "reconstraining parameters GP_regression.Mat52.variance\n",
      "reconstraining parameters GP_regression.Gaussian_noise.variance\n"
     ]
    },
    {
     "name": "stdout",
     "output_type": "stream",
     "text": [
      "Optimization restart 10/10, f = 51.14367380840413\n",
      "Optimization restart 1/10, f = 29.48969967597103\n",
      "Optimization restart 2/10, f = 29.489699675999834\n",
      "Optimization restart 3/10, f = 29.48969967605127\n",
      "Optimization restart 4/10, f = 29.48969967591696\n",
      "Optimization restart 5/10, f = 29.489699675998907\n",
      "Optimization restart 6/10, f = 29.489699675984014\n",
      "Optimization restart 7/10, f = 73.78480372664318\n",
      "Optimization restart 8/10, f = 29.489699675975903\n",
      "Optimization restart 9/10, f = 29.489699675908337\n",
      "Optimization restart 10/10, f = 73.78480372664346\n",
      "(4_w,9)-aCMA-ES (mu_w=2.8,w_1=49%) in dimension 6 (seed=333220, Wed Sep 16 03:36:59 2020)\n",
      "Iterat #Fevals   function value  axis ratio  sigma  min&max std  t[m:s]\n",
      "    1      9 2.402022771970618e-01 1.0e+00 2.32e-01  2e-01  2e-01 0:00.0\n",
      "    2     18 2.402451880123402e-01 1.3e+00 2.24e-01  2e-01  2e-01 0:00.1\n",
      "    3     27 1.780983024299387e-01 1.3e+00 2.09e-01  2e-01  2e-01 0:00.1\n",
      "  100    900 -5.959913220039237e-02 1.3e+01 1.91e-03  8e-05  9e-04 0:01.8\n",
      "  160   1440 -5.959914714299597e-02 1.3e+01 6.66e-06  9e-08  1e-06 0:03.3\n"
     ]
    },
    {
     "name": "stderr",
     "output_type": "stream",
     "text": [
      "reconstraining parameters GP_regression.Mat52.lengthscale\n",
      "reconstraining parameters GP_regression.Mat52.variance\n",
      "reconstraining parameters GP_regression.Gaussian_noise.variance\n"
     ]
    },
    {
     "name": "stdout",
     "output_type": "stream",
     "text": [
      "termination on tolfun=1e-11 (Wed Sep 16 03:37:03 2020)\n",
      "final/bestever f-value = -5.959915e-02 -5.959915e-02\n",
      "incumbent solution: [2.5561560328726594e-14, 1.6867216797849105, 3.095311689944224, 2.923958468178941, 5.476210457698036, 3.4193473501989073]\n",
      "std deviation: [9.028962164739489e-08, 9.573891452538693e-08, 4.345711903798688e-07, 4.320395893838265e-07, 6.461473706766207e-07, 1.053009620813234e-06]\n",
      "Optimization restart 1/10, f = 52.38867757589056\n",
      "Optimization restart 2/10, f = 75.20374225984764\n",
      "Optimization restart 3/10, f = 52.38867757587532\n",
      "Optimization restart 4/10, f = 52.38867757587538\n",
      "Optimization restart 5/10, f = 2647096.2850568416\n",
      "Optimization restart 6/10, f = 353.7965320815613\n",
      "Optimization restart 7/10, f = 75.20374225984764\n"
     ]
    },
    {
     "name": "stderr",
     "output_type": "stream",
     "text": [
      "reconstraining parameters GP_regression.Mat52.lengthscale\n"
     ]
    },
    {
     "name": "stdout",
     "output_type": "stream",
     "text": [
      "Optimization restart 8/10, f = 353.7965320815613\n",
      "Optimization restart 9/10, f = 75.20374225984861\n",
      "Optimization restart 10/10, f = 353.7965320815613\n"
     ]
    },
    {
     "name": "stderr",
     "output_type": "stream",
     "text": [
      "reconstraining parameters GP_regression.Mat52.variance\n",
      "reconstraining parameters GP_regression.Gaussian_noise.variance\n"
     ]
    },
    {
     "name": "stdout",
     "output_type": "stream",
     "text": [
      "Optimization restart 1/10, f = 29.401731521469337\n",
      "Optimization restart 2/10, f = 29.401731521397295\n",
      "Optimization restart 3/10, f = 75.20374225984764\n",
      "Optimization restart 4/10, f = 29.40173152144289\n",
      "Optimization restart 5/10, f = 29.40173152146444\n",
      "Optimization restart 6/10, f = 29.401731521415382\n",
      "Optimization restart 7/10, f = 29.401731521444194\n",
      "Optimization restart 8/10, f = 29.401731521435444\n",
      "Optimization restart 9/10, f = 29.401731521463155\n",
      "Optimization restart 10/10, f = 75.20374225984766\n",
      "(4_w,9)-aCMA-ES (mu_w=2.8,w_1=49%) in dimension 6 (seed=342008, Wed Sep 16 03:37:07 2020)\n",
      "Iterat #Fevals   function value  axis ratio  sigma  min&max std  t[m:s]\n",
      "    1      9 1.242926413275773e-01 1.0e+00 2.51e-01  2e-01  3e-01 0:00.0\n",
      "    2     18 9.541529931130643e-02 1.2e+00 2.28e-01  2e-01  2e-01 0:00.1\n",
      "    3     27 9.214832425706421e-02 1.3e+00 2.34e-01  2e-01  3e-01 0:00.1\n",
      "  100    900 -2.216132806700255e-02 2.7e+01 1.30e-02  7e-04  7e-03 0:02.1\n",
      "  183   1647 -2.216183757532608e-02 3.3e+01 2.57e-05  2e-07  3e-06 0:03.6\n"
     ]
    },
    {
     "name": "stderr",
     "output_type": "stream",
     "text": [
      "reconstraining parameters GP_regression.Mat52.lengthscale\n",
      "reconstraining parameters GP_regression.Mat52.variance\n",
      "reconstraining parameters GP_regression.Gaussian_noise.variance\n"
     ]
    },
    {
     "name": "stdout",
     "output_type": "stream",
     "text": [
      "termination on tolfun=1e-11 (Wed Sep 16 03:37:11 2020)\n",
      "final/bestever f-value = -2.216184e-02 -2.216184e-02\n",
      "incumbent solution: [1.220360486854814, 0.43712520317531456, 2.8279732739846613, 4.493215589449907, 5.24471099913189, 3.8921911565269496]\n",
      "std deviation: [2.2598583956153948e-07, 9.738445956379702e-07, 1.2697899416596527e-06, 1.3021325125475884e-06, 1.9391453949167903e-06, 2.8890156891259015e-06]\n",
      "Optimization restart 1/10, f = 52.61650582779155\n",
      "Optimization restart 2/10, f = 1577563579.8957782\n",
      "Optimization restart 3/10, f = 52.616505827791755\n",
      "Optimization restart 4/10, f = 360.471938347251\n",
      "Optimization restart 5/10, f = 2697041.4979824414\n",
      "Optimization restart 6/10, f = 52.61650582779157\n",
      "Optimization restart 7/10, f = 360.47193834725107\n",
      "Optimization restart 8/10, f = 1578785953.369851\n",
      "Optimization restart 9/10, f = 1577264683.2192087\n"
     ]
    },
    {
     "name": "stderr",
     "output_type": "stream",
     "text": [
      "reconstraining parameters GP_regression.Mat52.lengthscale\n",
      "reconstraining parameters GP_regression.Mat52.variance\n",
      "reconstraining parameters GP_regression.Gaussian_noise.variance\n"
     ]
    },
    {
     "name": "stdout",
     "output_type": "stream",
     "text": [
      "Optimization restart 10/10, f = 1575967030.15549\n",
      "Optimization restart 1/10, f = 28.55388882316232\n",
      "Optimization restart 2/10, f = 28.553888823167885\n",
      "Optimization restart 3/10, f = 76.62268079305233\n",
      "Optimization restart 4/10, f = 47.27295961926193\n",
      "Optimization restart 5/10, f = 360.47193834725107\n",
      "Optimization restart 6/10, f = 28.553888823121788\n",
      "Optimization restart 7/10, f = 28.55388882325611\n",
      "Optimization restart 8/10, f = 28.553888823177306\n",
      "Optimization restart 9/10, f = 28.553888823151766\n",
      "Optimization restart 10/10, f = 28.553888823191507\n",
      "(4_w,9)-aCMA-ES (mu_w=2.8,w_1=49%) in dimension 6 (seed=307491, Wed Sep 16 03:37:13 2020)\n",
      "Iterat #Fevals   function value  axis ratio  sigma  min&max std  t[m:s]\n",
      "    1      9 2.036637653767088e-01 1.0e+00 2.56e-01  2e-01  3e-01 0:00.0\n",
      "    2     18 1.502013093592702e-01 1.3e+00 2.67e-01  2e-01  3e-01 0:00.0\n",
      "    3     27 1.448278005972914e-01 1.5e+00 3.20e-01  3e-01  4e-01 0:00.1\n",
      "  100    900 -1.702031840331601e-01 6.8e+00 3.88e-02  4e-03  2e-02 0:01.8\n",
      "  191   1719 -1.702299970166701e-01 6.8e+00 1.45e-05  2e-07  1e-06 0:03.5\n"
     ]
    },
    {
     "name": "stderr",
     "output_type": "stream",
     "text": [
      "reconstraining parameters GP_regression.Mat52.lengthscale\n",
      "reconstraining parameters GP_regression.Mat52.variance\n",
      "reconstraining parameters GP_regression.Gaussian_noise.variance\n"
     ]
    },
    {
     "name": "stdout",
     "output_type": "stream",
     "text": [
      "termination on tolfun=1e-11 (Wed Sep 16 03:37:16 2020)\n",
      "final/bestever f-value = -1.702300e-01 -1.702300e-01\n",
      "incumbent solution: [1.9999999999999984, 6.0269452395831895e-15, 3.5171115059272333, 5.384018184632001, 1.2375788613407506, 3.441458120815497]\n",
      "std deviation: [1.723549642695021e-07, 1.6654166976252667e-07, 5.333814591449754e-07, 6.327470401848438e-07, 5.865634278198432e-07, 9.756528761786896e-07]\n",
      "Optimization restart 1/10, f = 53.8463432031822\n",
      "Optimization restart 2/10, f = 367.14734461294086\n",
      "Optimization restart 3/10, f = 53.84634320316016\n",
      "Optimization restart 4/10, f = 2746986.710908043\n",
      "Optimization restart 5/10, f = 53.84634320317564\n",
      "Optimization restart 6/10, f = 78.041619326257\n",
      "Optimization restart 7/10, f = 53.846343203160146\n",
      "Optimization restart 8/10, f = 78.0416193262579\n"
     ]
    },
    {
     "name": "stderr",
     "output_type": "stream",
     "text": [
      "reconstraining parameters GP_regression.Mat52.lengthscale\n",
      "reconstraining parameters GP_regression.Mat52.variance\n",
      "reconstraining parameters GP_regression.Gaussian_noise.variance\n"
     ]
    },
    {
     "name": "stdout",
     "output_type": "stream",
     "text": [
      "Optimization restart 9/10, f = 1615342435.305909\n",
      "Optimization restart 10/10, f = 78.04161932625706\n",
      "Optimization restart 1/10, f = 28.40924940168182\n",
      "Optimization restart 2/10, f = 367.14734461294086\n",
      "Optimization restart 3/10, f = 28.4092494016693\n",
      "Optimization restart 4/10, f = 28.409249401756046\n",
      "Optimization restart 5/10, f = 28.409249401596664\n",
      "Optimization restart 6/10, f = 2080925226.619405\n",
      "Optimization restart 7/10, f = 28.409249401673975\n",
      "Optimization restart 8/10, f = 28.409249401709896\n",
      "Optimization restart 9/10, f = 78.04161932625699\n",
      "Optimization restart 10/10, f = 78.04161932625699\n",
      "(4_w,9)-aCMA-ES (mu_w=2.8,w_1=49%) in dimension 6 (seed=255170, Wed Sep 16 03:37:19 2020)\n",
      "Iterat #Fevals   function value  axis ratio  sigma  min&max std  t[m:s]\n",
      "    1      9 1.502293681348830e-01 1.0e+00 2.36e-01  2e-01  2e-01 0:00.0\n",
      "    2     18 1.330231371198880e-01 1.2e+00 2.33e-01  2e-01  2e-01 0:00.1\n",
      "    3     27 1.144147698331484e-01 1.3e+00 2.47e-01  2e-01  3e-01 0:00.1\n",
      "  100    900 -5.281441941766829e-04 1.3e+01 2.91e-03  1e-04  1e-03 0:01.9\n",
      "  154   1386 -5.281448788885257e-04 1.2e+01 3.36e-05  5e-07  5e-06 0:02.9\n"
     ]
    },
    {
     "name": "stderr",
     "output_type": "stream",
     "text": [
      "reconstraining parameters GP_regression.Mat52.lengthscale\n",
      "reconstraining parameters GP_regression.Mat52.variance\n",
      "reconstraining parameters GP_regression.Gaussian_noise.variance\n"
     ]
    },
    {
     "name": "stdout",
     "output_type": "stream",
     "text": [
      "termination on tolfun=1e-11 (Wed Sep 16 03:37:22 2020)\n",
      "final/bestever f-value = -5.281449e-04 -5.281449e-04\n",
      "incumbent solution: [1.9999999999995934, 3.999999999999987, 4.063480223811733, 7.999999999993401, 1.4262472422728983e-14, 6.948368771829431]\n",
      "std deviation: [5.133600903381879e-07, 8.011443155294798e-07, 3.3860001019746403e-06, 3.202585534782535e-06, 9.403659552007817e-07, 5.0459496076002545e-06]\n",
      "Optimization restart 1/10, f = 54.915695222903\n",
      "Optimization restart 2/10, f = 79.46055785946169\n",
      "Optimization restart 3/10, f = 373.8227508786308\n",
      "Optimization restart 4/10, f = 54.915695222800615\n",
      "Optimization restart 5/10, f = 133.30692350351325\n",
      "Optimization restart 6/10, f = 54.915695222838295\n",
      "Optimization restart 7/10, f = 79.46055785946297\n"
     ]
    },
    {
     "name": "stderr",
     "output_type": "stream",
     "text": [
      "reconstraining parameters GP_regression.Mat52.lengthscale\n",
      "reconstraining parameters GP_regression.Mat52.variance\n",
      "reconstraining parameters GP_regression.Gaussian_noise.variance\n"
     ]
    },
    {
     "name": "stdout",
     "output_type": "stream",
     "text": [
      "Optimization restart 8/10, f = 79.46055785946166\n",
      "Optimization restart 9/10, f = 373.8227508786308\n",
      "Optimization restart 10/10, f = 1651971326.5853333\n",
      "Optimization restart 1/10, f = 29.786823250882335\n",
      "Optimization restart 2/10, f = 29.78682325073096\n",
      "Optimization restart 3/10, f = 79.46055785946169\n",
      "Optimization restart 4/10, f = 79.46055785946167\n",
      "Optimization restart 5/10, f = 29.78682325075496\n",
      "Optimization restart 6/10, f = 29.786823250797912\n",
      "Optimization restart 7/10, f = 29.786823250890155\n",
      "Optimization restart 8/10, f = 79.46055785946167\n",
      "Optimization restart 9/10, f = 29.78682325081879\n",
      "Optimization restart 10/10, f = 373.8227508783315\n",
      "(4_w,9)-aCMA-ES (mu_w=2.8,w_1=49%) in dimension 6 (seed=270385, Wed Sep 16 03:37:24 2020)\n",
      "Iterat #Fevals   function value  axis ratio  sigma  min&max std  t[m:s]\n",
      "    1      9 1.478925926624530e-01 1.0e+00 2.60e-01  2e-01  3e-01 0:00.0\n",
      "    2     18 1.496502027055819e-01 1.3e+00 2.27e-01  2e-01  2e-01 0:00.1\n",
      "    3     27 1.207507836260122e-01 1.4e+00 2.59e-01  2e-01  3e-01 0:00.1\n",
      "  100    900 -8.818058981778520e-02 1.1e+01 5.66e-02  3e-03  3e-02 0:01.8\n",
      "  188   1692 -8.819974821081633e-02 2.8e+01 1.07e-05  5e-08  9e-07 0:03.3\n"
     ]
    },
    {
     "name": "stderr",
     "output_type": "stream",
     "text": [
      "reconstraining parameters GP_regression.Mat52.lengthscale\n",
      "reconstraining parameters GP_regression.Mat52.variance\n",
      "reconstraining parameters GP_regression.Gaussian_noise.variance\n"
     ]
    },
    {
     "name": "stdout",
     "output_type": "stream",
     "text": [
      "termination on tolfun=1e-11 (Wed Sep 16 03:37:27 2020)\n",
      "final/bestever f-value = -8.819975e-02 -8.819975e-02\n",
      "incumbent solution: [1.5515329342612831, 1.0097944356740081e-13, 2.917554302089586, 4.994158749128711, 3.675068029350521, 4.570865072696121]\n",
      "std deviation: [4.63566540310826e-08, 5.522469770545408e-07, 2.7828841413542167e-07, 5.813019931383873e-07, 5.172293991765488e-07, 9.482498953050824e-07]\n",
      "Optimization restart 1/10, f = 55.430165243147925\n",
      "Optimization restart 2/10, f = 1692508651.513065\n",
      "Optimization restart 3/10, f = 55.43016524289126\n",
      "Optimization restart 4/10, f = 55.430165242891256\n",
      "Optimization restart 5/10, f = 80.87949639266648\n",
      "Optimization restart 6/10, f = 80.8794963926677\n",
      "Optimization restart 7/10, f = 380.49815714432066\n",
      "Optimization restart 8/10, f = 80.87949639266634\n",
      "Optimization restart 9/10, f = 55.43016524291656\n"
     ]
    },
    {
     "name": "stderr",
     "output_type": "stream",
     "text": [
      "reconstraining parameters GP_regression.Mat52.lengthscale\n",
      "reconstraining parameters GP_regression.Mat52.variance\n",
      "reconstraining parameters GP_regression.Gaussian_noise.variance\n"
     ]
    },
    {
     "name": "stdout",
     "output_type": "stream",
     "text": [
      "Optimization restart 10/10, f = 80.87949639266634\n",
      "Optimization restart 1/10, f = 30.81105393378032\n",
      "Optimization restart 2/10, f = 80.87949639266634\n",
      "Optimization restart 3/10, f = 30.81105393380686\n",
      "Optimization restart 4/10, f = 80.87949639266633\n",
      "Optimization restart 5/10, f = 53.50456485406873\n",
      "Optimization restart 6/10, f = 30.811053933794682\n",
      "Optimization restart 7/10, f = 30.811053933786965\n",
      "Optimization restart 8/10, f = 2239251613.187222\n",
      "Optimization restart 9/10, f = 30.811053933803503\n",
      "Optimization restart 10/10, f = 30.811053933848672\n",
      "(4_w,9)-aCMA-ES (mu_w=2.8,w_1=49%) in dimension 6 (seed=356579, Wed Sep 16 03:37:29 2020)\n",
      "Iterat #Fevals   function value  axis ratio  sigma  min&max std  t[m:s]\n",
      "    1      9 8.164988298769682e-02 1.0e+00 2.42e-01  2e-01  3e-01 0:00.0\n",
      "    2     18 7.398357858639004e-02 1.2e+00 2.48e-01  2e-01  3e-01 0:00.0\n",
      "    3     27 8.443238348258353e-02 1.4e+00 2.67e-01  3e-01  3e-01 0:00.1\n",
      "  100    900 -9.369649745592756e-02 2.1e+01 1.16e+00  1e-01  2e+00 0:02.0\n",
      "  200   1800 -1.346513987126103e-01 6.3e+01 1.34e-02  2e-04  1e-02 0:03.9\n",
      "  300   2700 -1.352518139304912e-01 2.3e+01 4.36e-04  1e-06  2e-05 0:05.8\n",
      "  324   2916 -1.352518139330536e-01 2.2e+01 5.43e-05  9e-08  2e-06 0:06.2\n",
      "termination on tolfun=1e-11 (Wed Sep 16 03:37:36 2020)\n",
      "final/bestever f-value = -1.352518e-01 -1.352518e-01\n",
      "incumbent solution: [1.9999999999999742, 8.538865673810609e-14, 5.999999999999993, 7.396813949380208, 2.0286148048873507e-13, 2.1267927809171046e-14]\n",
      "std deviation: [9.164154988342954e-08, 9.653483642291049e-08, 5.204810233913039e-07, 1.7668093026863796e-06, 1.3079087880697936e-07, 2.3649376991320134e-07]\n"
     ]
    },
    {
     "name": "stderr",
     "output_type": "stream",
     "text": [
      "reconstraining parameters GP_regression.Mat52.lengthscale\n",
      "reconstraining parameters GP_regression.Mat52.variance\n",
      "reconstraining parameters GP_regression.Gaussian_noise.variance\n"
     ]
    },
    {
     "name": "stdout",
     "output_type": "stream",
     "text": [
      "Optimization restart 1/10, f = 56.348725861139435\n",
      "Optimization restart 2/10, f = 82.29843492587099\n",
      "Optimization restart 3/10, f = 56.348725861133566\n",
      "Optimization restart 4/10, f = 56.34872586113349\n",
      "Optimization restart 5/10, f = 56.34872586113342\n",
      "Optimization restart 6/10, f = 56.34872586113373\n",
      "Optimization restart 7/10, f = 82.298434925871\n",
      "Optimization restart 8/10, f = 56.34872586115621\n",
      "Optimization restart 9/10, f = 82.29843492587108\n"
     ]
    },
    {
     "name": "stderr",
     "output_type": "stream",
     "text": [
      "reconstraining parameters GP_regression.Mat52.lengthscale\n",
      "reconstraining parameters GP_regression.Mat52.variance\n",
      "reconstraining parameters GP_regression.Gaussian_noise.variance\n"
     ]
    },
    {
     "name": "stdout",
     "output_type": "stream",
     "text": [
      "Optimization restart 10/10, f = 2896822.3496848443\n",
      "Optimization restart 1/10, f = 30.125101598789804\n",
      "Optimization restart 2/10, f = 52.84213718293955\n",
      "Optimization restart 3/10, f = 30.125101598746706\n",
      "Optimization restart 4/10, f = 30.125101598912\n",
      "Optimization restart 5/10, f = 30.12510159882411\n",
      "Optimization restart 6/10, f = 82.29842215657493\n",
      "Optimization restart 7/10, f = 30.12510159878625\n",
      "Optimization restart 8/10, f = 82.29843492587102\n",
      "Optimization restart 9/10, f = 30.12510159883083\n",
      "Optimization restart 10/10, f = 30.125101598921706\n",
      "(4_w,9)-aCMA-ES (mu_w=2.8,w_1=49%) in dimension 6 (seed=239750, Wed Sep 16 03:37:39 2020)\n",
      "Iterat #Fevals   function value  axis ratio  sigma  min&max std  t[m:s]\n",
      "    1      9 3.798699662556477e-01 1.0e+00 2.42e-01  2e-01  2e-01 0:00.0\n",
      "    2     18 3.203592813798233e-01 1.3e+00 2.62e-01  2e-01  3e-01 0:00.1\n",
      "    3     27 1.921283445323700e-01 1.4e+00 3.01e-01  3e-01  4e-01 0:00.1\n",
      "  100    900 -9.083112328393383e-02 7.5e+00 1.60e-02  1e-03  8e-03 0:01.8\n",
      "  185   1665 -9.083509124867373e-02 7.2e+00 1.22e-05  1e-07  9e-07 0:03.3\n"
     ]
    },
    {
     "name": "stderr",
     "output_type": "stream",
     "text": [
      "reconstraining parameters GP_regression.Mat52.lengthscale\n",
      "reconstraining parameters GP_regression.Mat52.variance\n",
      "reconstraining parameters GP_regression.Gaussian_noise.variance\n"
     ]
    },
    {
     "name": "stdout",
     "output_type": "stream",
     "text": [
      "termination on tolfun=1e-11 (Wed Sep 16 03:37:42 2020)\n",
      "final/bestever f-value = -9.083509e-02 -9.083509e-02\n",
      "incumbent solution: [1.9999999999999913, 2.974660780690407e-15, 5.999999999999965, 2.7781416900884532, 8.901689021164104e-14, 5.063154292315103e-13]\n",
      "std deviation: [1.3790613015804162e-07, 2.63917331272928e-07, 8.996565588789947e-07, 8.325317484269097e-07, 3.4545503624913136e-07, 6.178088155926094e-07]\n",
      "Optimization restart 1/10, f = 57.154894683656984\n",
      "Optimization restart 2/10, f = 57.15489468358905\n",
      "Optimization restart 3/10, f = 83.7173734590757\n",
      "Optimization restart 4/10, f = 393.8489696757003\n",
      "Optimization restart 5/10, f = 393.8489696757003\n",
      "Optimization restart 6/10, f = 83.71737345907569\n",
      "Optimization restart 7/10, f = 83.71737345907569\n"
     ]
    },
    {
     "name": "stderr",
     "output_type": "stream",
     "text": [
      "reconstraining parameters GP_regression.Mat52.lengthscale\n",
      "reconstraining parameters GP_regression.Mat52.variance\n"
     ]
    },
    {
     "name": "stdout",
     "output_type": "stream",
     "text": [
      "Optimization restart 8/10, f = 57.154894683586264\n",
      "Optimization restart 9/10, f = 2946767.562610446\n",
      "Optimization restart 10/10, f = 83.7173734590757\n"
     ]
    },
    {
     "name": "stderr",
     "output_type": "stream",
     "text": [
      "reconstraining parameters GP_regression.Gaussian_noise.variance\n"
     ]
    },
    {
     "name": "stdout",
     "output_type": "stream",
     "text": [
      "Optimization restart 1/10, f = 30.016216920016998\n",
      "Optimization restart 2/10, f = 83.71737345907569\n",
      "Optimization restart 3/10, f = 2208832101.5252323\n",
      "Optimization restart 4/10, f = 30.01621691994229\n",
      "Optimization restart 5/10, f = 83.71737345907569\n",
      "Optimization restart 6/10, f = 83.71737345907569\n",
      "Optimization restart 7/10, f = 30.016216920009335\n",
      "Optimization restart 8/10, f = 83.71737345907569\n",
      "Optimization restart 9/10, f = 83.7173734590757\n",
      "Optimization restart 10/10, f = 2215055616.6330247\n",
      "(4_w,9)-aCMA-ES (mu_w=2.8,w_1=49%) in dimension 6 (seed=296654, Wed Sep 16 03:37:44 2020)\n",
      "Iterat #Fevals   function value  axis ratio  sigma  min&max std  t[m:s]\n",
      "    1      9 3.949317946552120e-01 1.0e+00 2.35e-01  2e-01  2e-01 0:00.0\n",
      "    2     18 4.171006773538692e-01 1.2e+00 2.26e-01  2e-01  2e-01 0:00.1\n",
      "    3     27 4.014460896307090e-01 1.2e+00 2.27e-01  2e-01  3e-01 0:00.1\n",
      "  100    900 -3.314050525284795e-02 8.8e+00 5.26e-03  3e-04  2e-03 0:01.7\n",
      "  174   1566 -3.314060027780741e-02 1.2e+01 1.26e-05  1e-07  1e-06 0:03.0\n"
     ]
    },
    {
     "name": "stderr",
     "output_type": "stream",
     "text": [
      "reconstraining parameters GP_regression.Mat52.lengthscale\n",
      "reconstraining parameters GP_regression.Mat52.variance\n",
      "reconstraining parameters GP_regression.Gaussian_noise.variance\n"
     ]
    },
    {
     "name": "stdout",
     "output_type": "stream",
     "text": [
      "termination on tolfun=1e-11 (Wed Sep 16 03:37:47 2020)\n",
      "final/bestever f-value = -3.314060e-02 -3.314060e-02\n",
      "incumbent solution: [2.9235190200195843e-13, 1.3006893288075914, 2.750880186424687, 3.3539115680834715, 5.777011862998756, 4.5303227959457875]\n",
      "std deviation: [2.0098848769282204e-07, 1.2850887252632596e-07, 7.628244439492303e-07, 7.356086199515317e-07, 8.251990544106964e-07, 1.3124566737124498e-06]\n",
      "Optimization restart 1/10, f = 57.815438200852405\n",
      "Optimization restart 2/10, f = 57.81543820110211\n",
      "Optimization restart 3/10, f = 85.13631199228035\n",
      "Optimization restart 4/10, f = 85.13631199228035\n",
      "Optimization restart 5/10, f = 85.13631199228061\n",
      "Optimization restart 6/10, f = 57.815438200850934\n",
      "Optimization restart 7/10, f = 85.13628987951589\n"
     ]
    },
    {
     "name": "stderr",
     "output_type": "stream",
     "text": [
      "reconstraining parameters GP_regression.Mat52.lengthscale\n"
     ]
    },
    {
     "name": "stdout",
     "output_type": "stream",
     "text": [
      "Optimization restart 8/10, f = 85.13631199228062\n",
      "Optimization restart 9/10, f = 137.42523299913643\n",
      "Optimization restart 10/10, f = 85.13631199228054\n"
     ]
    },
    {
     "name": "stderr",
     "output_type": "stream",
     "text": [
      "reconstraining parameters GP_regression.Mat52.variance\n",
      "reconstraining parameters GP_regression.Gaussian_noise.variance\n"
     ]
    },
    {
     "name": "stdout",
     "output_type": "stream",
     "text": [
      "Optimization restart 1/10, f = 28.65590192810661\n",
      "Optimization restart 2/10, f = 85.13631199227859\n",
      "Optimization restart 3/10, f = 28.65590192800949\n",
      "Optimization restart 4/10, f = 28.65590192783884\n",
      "Optimization restart 5/10, f = 28.65590192786767\n",
      "Optimization restart 6/10, f = 85.13631199228084\n",
      "Optimization restart 7/10, f = 85.13631199228037\n",
      "Optimization restart 8/10, f = 28.655901927907657\n",
      "Optimization restart 9/10, f = 28.655901928013538\n",
      "Optimization restart 10/10, f = 2996712.7755360464\n",
      "(4_w,9)-aCMA-ES (mu_w=2.8,w_1=49%) in dimension 6 (seed=320362, Wed Sep 16 03:37:49 2020)\n",
      "Iterat #Fevals   function value  axis ratio  sigma  min&max std  t[m:s]\n",
      "    1      9 1.184002298547711e-01 1.0e+00 2.72e-01  3e-01  3e-01 0:00.0\n",
      "    2     18 1.442227904704199e-01 1.4e+00 3.22e-01  3e-01  4e-01 0:00.1\n",
      "    3     27 1.271580408090163e-01 1.5e+00 3.42e-01  3e-01  4e-01 0:00.1\n",
      "  100    900 -8.042613194589876e-03 1.0e+01 4.90e-02  4e-03  3e-02 0:01.9\n",
      "  200   1800 -2.368561140601155e-02 9.8e+00 2.32e-03  3e-05  2e-04 0:04.1\n",
      "  257   2313 -2.368561222118970e-02 1.1e+01 3.82e-05  1e-07  1e-06 0:05.4\n"
     ]
    },
    {
     "name": "stderr",
     "output_type": "stream",
     "text": [
      "reconstraining parameters GP_regression.Mat52.lengthscale\n",
      "reconstraining parameters GP_regression.Mat52.variance\n",
      "reconstraining parameters GP_regression.Gaussian_noise.variance\n"
     ]
    },
    {
     "name": "stdout",
     "output_type": "stream",
     "text": [
      "termination on tolfun=1e-11 (Wed Sep 16 03:37:55 2020)\n",
      "final/bestever f-value = -2.368561e-02 -2.368561e-02\n",
      "incumbent solution: [1.9999999999999398, 2.1228813640102793e-13, 5.999999999999811, 1.7512453558898402, 9.999999999999549, 11.999999999999996]\n",
      "std deviation: [1.201601565845008e-07, 1.8829607145873925e-07, 7.616206812519964e-07, 4.2784278664979417e-07, 6.760981596672213e-07, 1.362393831378966e-06]\n",
      "Optimization restart 1/10, f = 58.40544296810346\n",
      "Optimization restart 2/10, f = 58.405442968102506\n",
      "Optimization restart 3/10, f = 58.405442968187856\n",
      "Optimization restart 4/10, f = 139.2978663549135\n",
      "Optimization restart 5/10, f = 86.55525052548504\n",
      "Optimization restart 6/10, f = 86.55525052548502\n",
      "Optimization restart 7/10, f = 58.405442968101696\n"
     ]
    },
    {
     "name": "stderr",
     "output_type": "stream",
     "text": [
      "reconstraining parameters GP_regression.Mat52.lengthscale\n",
      "reconstraining parameters GP_regression.Mat52.variance\n",
      "reconstraining parameters GP_regression.Gaussian_noise.variance\n"
     ]
    },
    {
     "name": "stdout",
     "output_type": "stream",
     "text": [
      "Optimization restart 8/10, f = 58.40544296810661\n",
      "Optimization restart 9/10, f = 1804768657.5893955\n",
      "Optimization restart 10/10, f = 58.40544296810316\n",
      "Optimization restart 1/10, f = 28.649395508459854\n",
      "Optimization restart 2/10, f = 28.649395508356356\n",
      "Optimization restart 3/10, f = 28.64939550838034\n",
      "Optimization restart 4/10, f = 28.649395508597262\n",
      "Optimization restart 5/10, f = 2254457354.0277243\n",
      "Optimization restart 6/10, f = 28.649395508430157\n",
      "Optimization restart 7/10, f = 86.55525052548504\n",
      "Optimization restart 8/10, f = 28.649395508444737\n",
      "Optimization restart 9/10, f = 86.55525052548523\n",
      "Optimization restart 10/10, f = 86.55525052548505\n",
      "(4_w,9)-aCMA-ES (mu_w=2.8,w_1=49%) in dimension 6 (seed=356358, Wed Sep 16 03:37:57 2020)\n",
      "Iterat #Fevals   function value  axis ratio  sigma  min&max std  t[m:s]\n",
      "    1      9 1.050134684637483e-01 1.0e+00 2.38e-01  2e-01  2e-01 0:00.0\n",
      "    2     18 1.066303316746662e-01 1.2e+00 2.31e-01  2e-01  2e-01 0:00.0\n",
      "    3     27 5.411291056833267e-02 1.4e+00 2.38e-01  2e-01  3e-01 0:00.1\n",
      "  100    900 -1.683229693559261e-01 3.7e+01 5.68e-02  2e-03  6e-02 0:02.5\n",
      "  200   1800 -1.683363542282033e-01 4.9e+01 1.69e-05  6e-08  3e-06 0:04.4\n",
      "  204   1836 -1.683363542281704e-01 5.0e+01 1.33e-05  5e-08  2e-06 0:04.5\n",
      "termination on tolfun=1e-11 (Wed Sep 16 03:38:02 2020)\n",
      "final/bestever f-value = -1.683364e-01 -1.683364e-01\n",
      "incumbent solution: [2.0615149815387187e-14, 3.9999999999997153, 5.999999999999991, 1.227825680731751e-13, 7.0562639098656055, 4.076085725814255]\n",
      "std deviation: [5.131344939420098e-08, 1.5714957329401378e-07, 8.097628920066469e-07, 2.7311463045857067e-07, 6.231620449308089e-07, 1.9902781328433794e-06]\n"
     ]
    },
    {
     "name": "stderr",
     "output_type": "stream",
     "text": [
      "reconstraining parameters GP_regression.Mat52.lengthscale\n",
      "reconstraining parameters GP_regression.Mat52.variance\n",
      "reconstraining parameters GP_regression.Gaussian_noise.variance\n"
     ]
    },
    {
     "name": "stdout",
     "output_type": "stream",
     "text": [
      "Optimization restart 1/10, f = 59.58177140170875\n",
      "Optimization restart 2/10, f = 59.58177140170268\n",
      "Optimization restart 3/10, f = 413.87518847276976\n",
      "Optimization restart 4/10, f = 140.94729333217677\n",
      "Optimization restart 5/10, f = 413.87518847276976\n",
      "Optimization restart 6/10, f = 87.9741890520716\n",
      "Optimization restart 7/10, f = 140.94729573726843\n",
      "Optimization restart 8/10, f = 87.9741890586897\n",
      "Optimization restart 9/10, f = 413.87517869818765\n"
     ]
    },
    {
     "name": "stderr",
     "output_type": "stream",
     "text": [
      "reconstraining parameters GP_regression.Mat52.lengthscale\n",
      "reconstraining parameters GP_regression.Mat52.variance\n",
      "reconstraining parameters GP_regression.Gaussian_noise.variance\n"
     ]
    },
    {
     "name": "stdout",
     "output_type": "stream",
     "text": [
      "Optimization restart 10/10, f = 59.58177140171287\n",
      "Optimization restart 1/10, f = 28.718507487209568\n",
      "Optimization restart 2/10, f = 28.71850748717917\n",
      "Optimization restart 3/10, f = 28.718507487213024\n",
      "Optimization restart 4/10, f = 2311164302.4236016\n",
      "Optimization restart 5/10, f = 28.718507487150053\n",
      "Optimization restart 6/10, f = 28.718507487188237\n",
      "Optimization restart 7/10, f = 28.718507487103835\n",
      "Optimization restart 8/10, f = 413.87518847276976\n",
      "Optimization restart 9/10, f = 413.87518847276976\n",
      "Optimization restart 10/10, f = 87.9741890586897\n",
      "(4_w,9)-aCMA-ES (mu_w=2.8,w_1=49%) in dimension 6 (seed=286772, Wed Sep 16 03:38:04 2020)\n",
      "Iterat #Fevals   function value  axis ratio  sigma  min&max std  t[m:s]\n",
      "    1      9 3.786529986199629e-01 1.0e+00 2.63e-01  3e-01  3e-01 0:00.0\n",
      "    2     18 3.891143717722354e-01 1.3e+00 2.55e-01  2e-01  3e-01 0:00.1\n",
      "    3     27 3.536693907995119e-01 1.4e+00 2.74e-01  2e-01  3e-01 0:00.1\n",
      "  100    900 -3.845599838275948e-02 2.3e+01 6.60e-02  5e-03  4e-02 0:02.0\n",
      "  200   1800 -3.847270016106741e-02 2.2e+01 2.13e-05  2e-07  1e-06 0:04.2\n"
     ]
    },
    {
     "name": "stderr",
     "output_type": "stream",
     "text": [
      "reconstraining parameters GP_regression.Mat52.lengthscale\n",
      "reconstraining parameters GP_regression.Mat52.variance\n",
      "reconstraining parameters GP_regression.Gaussian_noise.variance\n"
     ]
    },
    {
     "name": "stdout",
     "output_type": "stream",
     "text": [
      "termination on tolfun=1e-11 (Wed Sep 16 03:38:09 2020)\n",
      "final/bestever f-value = -3.847270e-02 -3.847270e-02\n",
      "incumbent solution: [1.8049193793949423, 0.5087923994808887, 2.9469425361906927, 5.488872470823324, 3.73240172134103, 3.9474026575954735]\n",
      "std deviation: [2.0381186210639634e-07, 6.596096660764672e-07, 6.588093162705891e-07, 8.871772211016856e-07, 1.357023854646201e-06, 1.3912990193492754e-06]\n",
      "Optimization restart 1/10, f = 59.92245361657799\n",
      "Optimization restart 2/10, f = 59.922453616535364\n",
      "Optimization restart 3/10, f = 59.922453616534995\n",
      "Optimization restart 4/10, f = 59.922453616535364\n",
      "Optimization restart 5/10, f = 59.922453616535265\n",
      "Optimization restart 6/10, f = 3146548.4143128484\n",
      "Optimization restart 7/10, f = 59.92245361653576\n",
      "Optimization restart 8/10, f = 420.55059473845955\n",
      "Optimization restart 9/10, f = 89.39312759189437\n"
     ]
    },
    {
     "name": "stderr",
     "output_type": "stream",
     "text": [
      "reconstraining parameters GP_regression.Mat52.lengthscale\n",
      "reconstraining parameters GP_regression.Mat52.variance\n",
      "reconstraining parameters GP_regression.Gaussian_noise.variance\n"
     ]
    },
    {
     "name": "stdout",
     "output_type": "stream",
     "text": [
      "Optimization restart 10/10, f = 89.39312759189437\n",
      "Optimization restart 1/10, f = 27.448101005876886\n",
      "Optimization restart 2/10, f = 46.55238129895656\n",
      "Optimization restart 3/10, f = 27.448101005651115\n",
      "Optimization restart 4/10, f = 27.448101005780632\n",
      "Optimization restart 5/10, f = 2347676335.6263933\n",
      "Optimization restart 6/10, f = 89.39312759189438\n",
      "Optimization restart 7/10, f = 27.44810100572656\n",
      "Optimization restart 8/10, f = 27.448101005671113\n",
      "Optimization restart 9/10, f = 89.39312759189463\n",
      "Optimization restart 10/10, f = 420.55059473845955\n",
      "(4_w,9)-aCMA-ES (mu_w=2.8,w_1=49%) in dimension 6 (seed=382273, Wed Sep 16 03:38:11 2020)\n",
      "Iterat #Fevals   function value  axis ratio  sigma  min&max std  t[m:s]\n",
      "    1      9 9.864482946059505e-02 1.0e+00 2.41e-01  2e-01  3e-01 0:00.0\n",
      "    2     18 1.144182353475633e-01 1.2e+00 2.87e-01  3e-01  3e-01 0:00.1\n",
      "    3     27 7.091877939434899e-02 1.3e+00 3.22e-01  3e-01  3e-01 0:00.1\n",
      "  100    900 -2.849193833838015e-02 1.3e+01 4.74e-03  3e-04  3e-03 0:01.9\n",
      "  173   1557 -2.849208359839217e-02 1.9e+01 8.25e-06  7e-08  1e-06 0:03.4\n"
     ]
    },
    {
     "name": "stderr",
     "output_type": "stream",
     "text": [
      "reconstraining parameters GP_regression.Mat52.lengthscale\n",
      "reconstraining parameters GP_regression.Mat52.variance\n",
      "reconstraining parameters GP_regression.Gaussian_noise.variance\n"
     ]
    },
    {
     "name": "stdout",
     "output_type": "stream",
     "text": [
      "termination on tolfun=1e-11 (Wed Sep 16 03:38:15 2020)\n",
      "final/bestever f-value = -2.849208e-02 -2.849208e-02\n",
      "incumbent solution: [3.881170349056873e-15, 2.9245995074483204, 3.609263373905737, 2.3678630707309383, 4.823294688285152, 4.529741714302626]\n",
      "std deviation: [7.131895041343496e-08, 1.0786058944699727e-07, 3.7394992755985525e-07, 6.007253634393892e-07, 6.330215660235663e-07, 1.0968207483994335e-06]\n",
      "Optimization restart 1/10, f = 59.715239348780955\n",
      "Optimization restart 2/10, f = 427.22600100414945\n",
      "Optimization restart 3/10, f = 59.71523934876486\n",
      "Optimization restart 4/10, f = 90.81206612509905\n",
      "Optimization restart 5/10, f = 90.81206612509959\n",
      "Optimization restart 6/10, f = 59.71523934876224\n",
      "Optimization restart 7/10, f = 59.715239348761756\n",
      "Optimization restart 8/10, f = 90.81206737266436\n",
      "Optimization restart 9/10, f = 59.71523934877541\n",
      "Optimization restart 10/10, f = 427.22600100414945\n"
     ]
    },
    {
     "name": "stderr",
     "output_type": "stream",
     "text": [
      "reconstraining parameters GP_regression.Mat52.lengthscale\n",
      "reconstraining parameters GP_regression.Mat52.variance\n",
      "reconstraining parameters GP_regression.Gaussian_noise.variance\n"
     ]
    },
    {
     "name": "stdout",
     "output_type": "stream",
     "text": [
      "Optimization restart 1/10, f = 26.233244305964178\n",
      "Optimization restart 2/10, f = 26.23324430919746\n",
      "Optimization restart 3/10, f = 49.25612158910884\n",
      "Optimization restart 4/10, f = 26.233244306143675\n",
      "Optimization restart 5/10, f = 26.233244306305707\n",
      "Optimization restart 6/10, f = 26.23324430588204\n",
      "Optimization restart 7/10, f = 26.233244306148308\n",
      "Optimization restart 8/10, f = 26.233244306172978\n",
      "Optimization restart 9/10, f = 26.233244306114265\n",
      "Optimization restart 10/10, f = 427.22600100413797\n",
      "(4_w,9)-aCMA-ES (mu_w=2.8,w_1=49%) in dimension 6 (seed=385480, Wed Sep 16 03:38:17 2020)\n",
      "Iterat #Fevals   function value  axis ratio  sigma  min&max std  t[m:s]\n",
      "    1      9 2.833718009780934e-01 1.0e+00 2.71e-01  3e-01  3e-01 0:00.0\n",
      "    2     18 2.610301550335383e-01 1.4e+00 2.50e-01  2e-01  3e-01 0:00.1\n",
      "    3     27 2.576150833756432e-01 1.5e+00 2.80e-01  2e-01  3e-01 0:00.1\n",
      "  100    900 -1.655065319764670e-02 2.3e+01 5.02e-02  3e-03  3e-02 0:01.8\n",
      "  195   1755 -1.655863820480796e-02 3.7e+01 1.58e-05  1e-07  1e-06 0:03.5\n"
     ]
    },
    {
     "name": "stderr",
     "output_type": "stream",
     "text": [
      "reconstraining parameters GP_regression.Mat52.lengthscale\n",
      "reconstraining parameters GP_regression.Mat52.variance\n",
      "reconstraining parameters GP_regression.Gaussian_noise.variance\n"
     ]
    },
    {
     "name": "stdout",
     "output_type": "stream",
     "text": [
      "termination on tolfun=1e-11 (Wed Sep 16 03:38:21 2020)\n",
      "final/bestever f-value = -1.655864e-02 -1.655864e-02\n",
      "incumbent solution: [1.6558232962028838, 0.16963353611580148, 2.9558812402540786, 5.1031761977016235, 3.9517884734444975, 4.212985279344109]\n",
      "std deviation: [1.1435771976993875e-07, 4.901297217504838e-07, 5.3002988323765e-07, 7.944292207331944e-07, 1.2857156884466104e-06, 1.388016674227555e-06]\n",
      "Optimization restart 1/10, f = 58.680605532823044\n",
      "Optimization restart 2/10, f = 92.23100465830373\n",
      "Optimization restart 3/10, f = 92.23100465830383\n",
      "Optimization restart 4/10, f = 58.68060553279929\n",
      "Optimization restart 5/10, f = 58.680605532786544\n",
      "Optimization restart 6/10, f = 1985051536.8081782\n",
      "Optimization restart 7/10, f = 58.68060553278212\n",
      "Optimization restart 8/10, f = 92.23100465830373\n",
      "Optimization restart 9/10, f = 141.53361575801165\n"
     ]
    },
    {
     "name": "stderr",
     "output_type": "stream",
     "text": [
      "reconstraining parameters GP_regression.Mat52.lengthscale\n",
      "reconstraining parameters GP_regression.Mat52.variance\n",
      "reconstraining parameters GP_regression.Gaussian_noise.variance\n"
     ]
    },
    {
     "name": "stdout",
     "output_type": "stream",
     "text": [
      "Optimization restart 10/10, f = 58.680605532781556\n",
      "Optimization restart 1/10, f = 24.92064727490156\n",
      "Optimization restart 2/10, f = 92.23100465830373\n",
      "Optimization restart 3/10, f = 2439808296.7003074\n",
      "Optimization restart 4/10, f = 92.23100465830373\n",
      "Optimization restart 5/10, f = 2439568704.46986\n",
      "Optimization restart 6/10, f = 24.920647274927745\n",
      "Optimization restart 7/10, f = 92.23100465786209\n",
      "Optimization restart 8/10, f = 49.97272062135799\n",
      "Optimization restart 9/10, f = 92.23100465830373\n",
      "Optimization restart 10/10, f = 24.920647275069612\n",
      "(4_w,9)-aCMA-ES (mu_w=2.8,w_1=49%) in dimension 6 (seed=357111, Wed Sep 16 03:38:23 2020)\n",
      "Iterat #Fevals   function value  axis ratio  sigma  min&max std  t[m:s]\n",
      "    1      9 9.205666229103082e-02 1.0e+00 2.54e-01  2e-01  3e-01 0:00.0\n",
      "    2     18 9.664088308001828e-02 1.3e+00 2.65e-01  2e-01  3e-01 0:00.1\n",
      "    3     27 5.578520625269112e-02 1.5e+00 2.51e-01  2e-01  3e-01 0:00.1\n",
      "  100    900 -6.210402862819997e-02 8.2e+00 4.71e-02  4e-03  3e-02 0:02.0\n",
      "  198   1782 -6.214833892429006e-02 9.5e+00 1.85e-05  2e-07  1e-06 0:04.1\n"
     ]
    },
    {
     "name": "stderr",
     "output_type": "stream",
     "text": [
      "reconstraining parameters GP_regression.Mat52.lengthscale\n",
      "reconstraining parameters GP_regression.Mat52.variance\n",
      "reconstraining parameters GP_regression.Gaussian_noise.variance\n"
     ]
    },
    {
     "name": "stdout",
     "output_type": "stream",
     "text": [
      "termination on tolfun=1e-11 (Wed Sep 16 03:38:28 2020)\n",
      "final/bestever f-value = -6.214834e-02 -6.214834e-02\n",
      "incumbent solution: [1.99999999999996, 1.1750385600901097e-14, 1.5584313672923649, 7.999999999999582, 1.1461815567458273e-14, 1.0879867302426942e-12]\n",
      "std deviation: [2.065676143192055e-07, 2.031081193489687e-07, 1.4680599175414507e-06, 1.350849424460937e-06, 3.0722705967314953e-07, 5.140901772912592e-07]\n",
      "Optimization restart 1/10, f = 59.428783949644924\n",
      "Optimization restart 2/10, f = 59.42878395018675\n",
      "Optimization restart 3/10, f = 93.64994319150853\n",
      "Optimization restart 4/10, f = 3296384.0530896503\n",
      "Optimization restart 5/10, f = 143.1851782537269\n",
      "Optimization restart 6/10, f = 143.18517818893883\n",
      "Optimization restart 7/10, f = 59.42878394960278\n",
      "Optimization restart 8/10, f = 440.57681353552914\n",
      "Optimization restart 9/10, f = 59.428783949596735\n",
      "Optimization restart 10/10, f = 440.57681353552914\n"
     ]
    },
    {
     "name": "stderr",
     "output_type": "stream",
     "text": [
      "reconstraining parameters GP_regression.Mat52.lengthscale\n",
      "reconstraining parameters GP_regression.Mat52.variance\n",
      "reconstraining parameters GP_regression.Gaussian_noise.variance\n"
     ]
    },
    {
     "name": "stdout",
     "output_type": "stream",
     "text": [
      "Optimization restart 1/10, f = 24.828971710435724\n",
      "Optimization restart 2/10, f = 24.828971710280364\n",
      "Optimization restart 3/10, f = 93.64994319150841\n",
      "Optimization restart 4/10, f = 24.82897171034282\n",
      "Optimization restart 5/10, f = 440.57681353552914\n",
      "Optimization restart 6/10, f = 24.828971710119653\n",
      "Optimization restart 7/10, f = 93.64994319150841\n",
      "Optimization restart 8/10, f = 24.828971710146305\n",
      "Optimization restart 9/10, f = 93.64994319150838\n",
      "Optimization restart 10/10, f = 93.64994319150841\n",
      "(4_w,9)-aCMA-ES (mu_w=2.8,w_1=49%) in dimension 6 (seed=361339, Wed Sep 16 03:38:30 2020)\n",
      "Iterat #Fevals   function value  axis ratio  sigma  min&max std  t[m:s]\n",
      "    1      9 2.071565925610019e-01 1.0e+00 2.37e-01  2e-01  3e-01 0:00.0\n",
      "    2     18 1.668401356003573e-01 1.3e+00 2.50e-01  2e-01  3e-01 0:00.1\n",
      "    3     27 1.627240653090580e-01 1.5e+00 3.13e-01  3e-01  4e-01 0:00.1\n",
      "  100    900 -4.864913160096096e-02 9.3e+00 7.28e-04  4e-05  3e-04 0:01.8\n",
      "  154   1386 -4.864913418871275e-02 8.9e+00 6.10e-06  9e-08  7e-07 0:02.8\n"
     ]
    },
    {
     "name": "stderr",
     "output_type": "stream",
     "text": [
      "reconstraining parameters GP_regression.Mat52.lengthscale\n",
      "reconstraining parameters GP_regression.Mat52.variance\n",
      "reconstraining parameters GP_regression.Gaussian_noise.variance\n"
     ]
    },
    {
     "name": "stdout",
     "output_type": "stream",
     "text": [
      "termination on tolfun=1e-11 (Wed Sep 16 03:38:33 2020)\n",
      "final/bestever f-value = -4.864913e-02 -4.864913e-02\n",
      "incumbent solution: [0.18431534817584827, 0.37322447496948075, 2.68557913992979, 3.366772017157201, 6.044132600826048, 3.6225265336780788]\n",
      "std deviation: [8.782002725876045e-08, 1.4514122998983926e-07, 3.194305090273717e-07, 4.128269925455248e-07, 4.897425537536802e-07, 6.806667360746445e-07]\n",
      "Optimization restart 1/10, f = 55.13845681156079\n",
      "Optimization restart 2/10, f = 447.2522198012189\n",
      "Optimization restart 3/10, f = 95.06888172471308\n",
      "Optimization restart 4/10, f = 447.2522198012189\n",
      "Optimization restart 5/10, f = 55.1384568115608\n",
      "Optimization restart 6/10, f = 55.13845681156357\n",
      "Optimization restart 7/10, f = 145.43909779094378\n",
      "Optimization restart 8/10, f = 55.13845681466973\n",
      "Optimization restart 9/10, f = 447.2522198012189\n"
     ]
    },
    {
     "name": "stderr",
     "output_type": "stream",
     "text": [
      "reconstraining parameters GP_regression.Mat52.lengthscale\n",
      "reconstraining parameters GP_regression.Mat52.variance\n",
      "reconstraining parameters GP_regression.Gaussian_noise.variance\n"
     ]
    },
    {
     "name": "stdout",
     "output_type": "stream",
     "text": [
      "Optimization restart 10/10, f = 1992376553.7245245\n",
      "Optimization restart 1/10, f = 26.76615088607913\n",
      "Optimization restart 2/10, f = 95.06888172471392\n",
      "Optimization restart 3/10, f = 26.766150885871532\n",
      "Optimization restart 4/10, f = 55.60958809898001\n",
      "Optimization restart 5/10, f = 26.766150885947475\n",
      "Optimization restart 6/10, f = 95.06888172471307\n",
      "Optimization restart 7/10, f = 26.766150886070704\n",
      "Optimization restart 8/10, f = 95.0688817247121\n",
      "Optimization restart 9/10, f = 447.2522198012189\n",
      "Optimization restart 10/10, f = 2477743763.035958\n",
      "(4_w,9)-aCMA-ES (mu_w=2.8,w_1=49%) in dimension 6 (seed=351673, Wed Sep 16 03:38:35 2020)\n",
      "Iterat #Fevals   function value  axis ratio  sigma  min&max std  t[m:s]\n",
      "    1      9 5.405782616534687e-01 1.0e+00 2.47e-01  2e-01  3e-01 0:00.0\n",
      "    2     18 5.303664160257782e-01 1.3e+00 2.35e-01  2e-01  3e-01 0:00.0\n",
      "    3     27 3.954913642593154e-01 1.4e+00 2.84e-01  2e-01  3e-01 0:00.1\n",
      "  100    900 -4.299146538820331e-02 1.6e+01 1.02e-02  4e-04  4e-03 0:01.9\n",
      "  183   1647 -4.299211081797605e-02 2.1e+01 1.22e-05  8e-08  1e-06 0:03.5\n"
     ]
    },
    {
     "name": "stderr",
     "output_type": "stream",
     "text": [
      "reconstraining parameters GP_regression.Mat52.lengthscale\n",
      "reconstraining parameters GP_regression.Mat52.variance\n",
      "reconstraining parameters GP_regression.Gaussian_noise.variance\n"
     ]
    },
    {
     "name": "stdout",
     "output_type": "stream",
     "text": [
      "termination on tolfun=1e-11 (Wed Sep 16 03:38:39 2020)\n",
      "final/bestever f-value = -4.299211e-02 -4.299211e-02\n",
      "incumbent solution: [1.0298746294603802, 0.43645093040674554, 3.0410059600222596, 4.217451306568879, 4.510904587834308, 3.3405194957948927]\n",
      "std deviation: [8.090031001291827e-08, 3.389997532755767e-07, 3.385760381027183e-07, 5.142983789671589e-07, 6.812296275289677e-07, 1.0781699148184469e-06]\n",
      "Optimization restart 1/10, f = 54.77231238825867\n",
      "Optimization restart 2/10, f = 54.77231238820549\n",
      "Optimization restart 3/10, f = 453.9276260669088\n",
      "Optimization restart 4/10, f = 54.77231238821673\n",
      "Optimization restart 5/10, f = 54.77231238820479\n",
      "Optimization restart 6/10, f = 96.48782025791775\n",
      "Optimization restart 7/10, f = 54.7723123883314\n",
      "Optimization restart 8/10, f = 96.48782025791775\n",
      "Optimization restart 9/10, f = 54.772312388204874\n"
     ]
    },
    {
     "name": "stderr",
     "output_type": "stream",
     "text": [
      "reconstraining parameters GP_regression.Mat52.lengthscale\n",
      "reconstraining parameters GP_regression.Mat52.variance\n"
     ]
    },
    {
     "name": "stdout",
     "output_type": "stream",
     "text": [
      "Optimization restart 10/10, f = 54.77231238820453\n"
     ]
    },
    {
     "name": "stderr",
     "output_type": "stream",
     "text": [
      "reconstraining parameters GP_regression.Gaussian_noise.variance\n"
     ]
    },
    {
     "name": "stdout",
     "output_type": "stream",
     "text": [
      "Optimization restart 1/10, f = 25.085628388472962\n",
      "Optimization restart 2/10, f = 25.08562838857455\n",
      "Optimization restart 3/10, f = 453.9276260669088\n",
      "Optimization restart 4/10, f = 96.48782025791775\n",
      "Optimization restart 5/10, f = 25.085628388010072\n",
      "Optimization restart 6/10, f = 453.9276260669088\n",
      "Optimization restart 7/10, f = 25.085628388739572\n",
      "Optimization restart 8/10, f = 25.085628388569532\n",
      "Optimization restart 9/10, f = 96.48782025791775\n",
      "Optimization restart 10/10, f = 25.085628388369003\n",
      "(4_w,9)-aCMA-ES (mu_w=2.8,w_1=49%) in dimension 6 (seed=315469, Wed Sep 16 03:38:42 2020)\n",
      "Iterat #Fevals   function value  axis ratio  sigma  min&max std  t[m:s]\n",
      "    1      9 3.051372194892599e-01 1.0e+00 2.36e-01  2e-01  2e-01 0:00.0\n",
      "    2     18 2.741724060963628e-01 1.2e+00 2.54e-01  2e-01  3e-01 0:00.0\n",
      "    3     27 2.253821077583398e-01 1.4e+00 2.73e-01  3e-01  3e-01 0:00.1\n",
      "  100    900 -2.801479447988964e-02 1.6e+01 2.97e-03  1e-04  2e-03 0:02.0\n",
      "  165   1485 -2.801485016634508e-02 1.1e+01 1.06e-05  1e-07  1e-06 0:03.2\n"
     ]
    },
    {
     "name": "stderr",
     "output_type": "stream",
     "text": [
      "reconstraining parameters GP_regression.Mat52.lengthscale\n",
      "reconstraining parameters GP_regression.Mat52.variance\n",
      "reconstraining parameters GP_regression.Gaussian_noise.variance\n"
     ]
    },
    {
     "name": "stdout",
     "output_type": "stream",
     "text": [
      "termination on tolfun=1e-11 (Wed Sep 16 03:38:45 2020)\n",
      "final/bestever f-value = -2.801485e-02 -2.801485e-02\n",
      "incumbent solution: [4.676969665146157e-15, 1.5127963929323391, 3.401603052610409, 2.646445290194105, 5.836412765307948, 2.630236269479098]\n",
      "std deviation: [1.3744978606052357e-07, 1.4937978783096243e-07, 5.647655948352761e-07, 9.127256788994912e-07, 1.0975539834919202e-06, 1.1968362370947038e-06]\n",
      "Optimization restart 1/10, f = 54.701005786322646\n",
      "Optimization restart 2/10, f = 54.70100578634701\n",
      "Optimization restart 3/10, f = 97.90675879112243\n",
      "Optimization restart 4/10, f = 97.90675879120087\n",
      "Optimization restart 5/10, f = 54.70100578627294\n",
      "Optimization restart 6/10, f = 97.90675879112248\n",
      "Optimization restart 7/10, f = 2016215797.8451557\n",
      "Optimization restart 8/10, f = 145.50783854216112\n"
     ]
    },
    {
     "name": "stderr",
     "output_type": "stream",
     "text": [
      "reconstraining parameters GP_regression.Mat52.lengthscale\n",
      "reconstraining parameters GP_regression.Mat52.variance\n",
      "reconstraining parameters GP_regression.Gaussian_noise.variance\n"
     ]
    },
    {
     "name": "stdout",
     "output_type": "stream",
     "text": [
      "Optimization restart 9/10, f = 145.50785172788338\n",
      "Optimization restart 10/10, f = 460.60303233259856\n",
      "Optimization restart 1/10, f = 24.00491495016113\n",
      "Optimization restart 2/10, f = 97.9067587911224\n",
      "Optimization restart 3/10, f = 24.00491495016057\n",
      "Optimization restart 4/10, f = 24.004914950138648\n",
      "Optimization restart 5/10, f = 460.60303233259856\n",
      "Optimization restart 6/10, f = 24.00491495067145\n",
      "Optimization restart 7/10, f = 24.00491495010388\n",
      "Optimization restart 8/10, f = 2519296332.1250987\n",
      "Optimization restart 9/10, f = 460.60303233259856\n",
      "Optimization restart 10/10, f = 24.004914950126583\n",
      "(4_w,9)-aCMA-ES (mu_w=2.8,w_1=49%) in dimension 6 (seed=411295, Wed Sep 16 03:38:48 2020)\n",
      "Iterat #Fevals   function value  axis ratio  sigma  min&max std  t[m:s]\n",
      "    1      9 2.658475843119756e-01 1.0e+00 2.65e-01  3e-01  3e-01 0:00.0\n",
      "    2     18 2.642472539314222e-01 1.4e+00 2.59e-01  2e-01  3e-01 0:00.1\n",
      "    3     27 2.648500058159162e-01 1.4e+00 2.69e-01  2e-01  3e-01 0:00.1\n",
      "  100    900 -4.151125202842110e-03 2.8e+01 6.39e-03  3e-04  6e-03 0:02.0\n",
      "  167   1503 -4.151184486347326e-03 4.2e+01 1.26e-05  1e-07  3e-06 0:03.5\n"
     ]
    },
    {
     "name": "stderr",
     "output_type": "stream",
     "text": [
      "reconstraining parameters GP_regression.Mat52.lengthscale\n",
      "reconstraining parameters GP_regression.Mat52.variance\n",
      "reconstraining parameters GP_regression.Gaussian_noise.variance\n"
     ]
    },
    {
     "name": "stdout",
     "output_type": "stream",
     "text": [
      "termination on tolfun=1e-11 (Wed Sep 16 03:38:51 2020)\n",
      "final/bestever f-value = -4.151184e-03 -4.151184e-03\n",
      "incumbent solution: [1.849997025818447, 5.450633020191923e-15, 5.99999999999981, 7.999999999999946, 2.6095342168683456e-13, 4.201729828256182]\n",
      "std deviation: [1.2143446667757739e-07, 2.419871635426414e-07, 8.82930391708224e-07, 8.758158491764905e-07, 2.2445054441962522e-07, 3.142015483912688e-06]\n",
      "Optimization restart 1/10, f = 55.40813487786837\n",
      "Optimization restart 2/10, f = 467.2784385982884\n",
      "Optimization restart 3/10, f = 99.32569732432707\n",
      "Optimization restart 4/10, f = 55.40813487788365\n",
      "Optimization restart 5/10, f = 2043500454.1221642\n",
      "Optimization restart 6/10, f = 55.40813487785707\n",
      "Optimization restart 7/10, f = 55.40813487788632\n",
      "Optimization restart 8/10, f = 99.32569732432707\n"
     ]
    },
    {
     "name": "stderr",
     "output_type": "stream",
     "text": [
      "reconstraining parameters GP_regression.Mat52.lengthscale\n",
      "reconstraining parameters GP_regression.Mat52.variance\n",
      "reconstraining parameters GP_regression.Gaussian_noise.variance\n"
     ]
    },
    {
     "name": "stdout",
     "output_type": "stream",
     "text": [
      "Optimization restart 9/10, f = 99.32569732432768\n",
      "Optimization restart 10/10, f = 99.32569732432708\n",
      "Optimization restart 1/10, f = 23.97243322067566\n",
      "Optimization restart 2/10, f = 99.32569732432708\n",
      "Optimization restart 3/10, f = 99.32569732432708\n",
      "Optimization restart 4/10, f = 2531641492.4251738\n",
      "Optimization restart 5/10, f = 99.3256973244149\n",
      "Optimization restart 6/10, f = 99.32569732432708\n",
      "Optimization restart 7/10, f = 23.972433220203158\n",
      "Optimization restart 8/10, f = 23.972433220567645\n",
      "Optimization restart 9/10, f = 23.972433220414395\n",
      "Optimization restart 10/10, f = 23.972433220252825\n",
      "(4_w,9)-aCMA-ES (mu_w=2.8,w_1=49%) in dimension 6 (seed=405550, Wed Sep 16 03:38:53 2020)\n",
      "Iterat #Fevals   function value  axis ratio  sigma  min&max std  t[m:s]\n",
      "    1      9 2.856059733259748e-01 1.0e+00 2.91e-01  3e-01  3e-01 0:00.0\n",
      "    2     18 2.171837969452697e-01 1.3e+00 3.19e-01  3e-01  3e-01 0:00.1\n",
      "    3     27 2.174229204424014e-01 1.4e+00 3.57e-01  3e-01  4e-01 0:00.1\n",
      "  100    900 -1.102505302704326e-02 1.1e+01 5.78e-03  3e-04  3e-03 0:02.0\n",
      "  171   1539 -1.102509542031527e-02 1.5e+01 1.16e-05  1e-07  2e-06 0:03.8\n"
     ]
    },
    {
     "name": "stderr",
     "output_type": "stream",
     "text": [
      "reconstraining parameters GP_regression.Mat52.lengthscale\n",
      "reconstraining parameters GP_regression.Mat52.variance\n"
     ]
    },
    {
     "name": "stdout",
     "output_type": "stream",
     "text": [
      "termination on tolfun=1e-11 (Wed Sep 16 03:38:57 2020)\n",
      "final/bestever f-value = -1.102510e-02 -1.102510e-02\n",
      "incumbent solution: [1.9999999999999887, 6.688716804961618e-14, 0.7057054633926664, 2.6629201371434768, 9.999999999999948, 11.999999999999979]\n",
      "std deviation: [1.486478201501124e-07, 1.4692389765459354e-07, 8.607787027111353e-07, 7.752859365119282e-07, 1.1630570070110912e-06, 1.6594560338099225e-06]\n"
     ]
    },
    {
     "name": "stderr",
     "output_type": "stream",
     "text": [
      "reconstraining parameters GP_regression.Gaussian_noise.variance\n"
     ]
    },
    {
     "name": "stdout",
     "output_type": "stream",
     "text": [
      "Optimization restart 1/10, f = 56.20588489980721\n",
      "Optimization restart 2/10, f = 56.205884899584476\n",
      "Optimization restart 3/10, f = 100.74463585753176\n",
      "Optimization restart 4/10, f = 100.74463585753176\n",
      "Optimization restart 5/10, f = 56.20588489925989\n",
      "Optimization restart 6/10, f = 56.2058848992588\n",
      "Optimization restart 7/10, f = 56.205884899290986\n",
      "Optimization restart 8/10, f = 56.20588489925896\n"
     ]
    },
    {
     "name": "stderr",
     "output_type": "stream",
     "text": [
      "reconstraining parameters GP_regression.Mat52.lengthscale\n",
      "reconstraining parameters GP_regression.Mat52.variance\n",
      "reconstraining parameters GP_regression.Gaussian_noise.variance\n"
     ]
    },
    {
     "name": "stdout",
     "output_type": "stream",
     "text": [
      "Optimization restart 9/10, f = 100.74463585753188\n",
      "Optimization restart 10/10, f = 147.50241646604923\n",
      "Optimization restart 1/10, f = 24.134484084907314\n",
      "Optimization restart 2/10, f = 473.95384486397825\n",
      "Optimization restart 3/10, f = 24.134484084879183\n",
      "Optimization restart 4/10, f = 24.13448408498369\n",
      "Optimization restart 5/10, f = 24.13448408465336\n",
      "Optimization restart 6/10, f = 24.134484084509516\n",
      "Optimization restart 7/10, f = 100.74463585753175\n",
      "Optimization restart 8/10, f = 24.13448408475478\n",
      "Optimization restart 9/10, f = 100.74463585753182\n",
      "Optimization restart 10/10, f = 100.74463585753176\n",
      "(4_w,9)-aCMA-ES (mu_w=2.8,w_1=49%) in dimension 6 (seed=355551, Wed Sep 16 03:39:00 2020)\n",
      "Iterat #Fevals   function value  axis ratio  sigma  min&max std  t[m:s]\n",
      "    1      9 3.235481117374879e-01 1.0e+00 2.19e-01  2e-01  2e-01 0:00.0\n",
      "    2     18 3.195147094055732e-01 1.2e+00 2.24e-01  2e-01  2e-01 0:00.1\n",
      "    3     27 3.060874814299610e-01 1.4e+00 2.43e-01  2e-01  3e-01 0:00.1\n",
      "  100    900 -4.498497063221318e-02 2.4e+01 1.46e-02  7e-04  8e-03 0:02.0\n",
      "  185   1665 -4.498548907072042e-02 1.9e+01 1.10e-05  1e-07  1e-06 0:03.6\n"
     ]
    },
    {
     "name": "stderr",
     "output_type": "stream",
     "text": [
      "reconstraining parameters GP_regression.Mat52.lengthscale\n",
      "reconstraining parameters GP_regression.Mat52.variance\n",
      "reconstraining parameters GP_regression.Gaussian_noise.variance\n"
     ]
    },
    {
     "name": "stdout",
     "output_type": "stream",
     "text": [
      "termination on tolfun=1e-11 (Wed Sep 16 03:39:04 2020)\n",
      "final/bestever f-value = -4.498549e-02 -4.498549e-02\n",
      "incumbent solution: [1.3314614862186989, 0.41130906510441123, 3.0961634619172105, 4.3444804757536435, 3.798717446134568, 3.6513098667253905]\n",
      "std deviation: [9.662960409265028e-08, 3.825893734946895e-07, 3.8821089712103395e-07, 4.76960752145218e-07, 5.958814650319205e-07, 1.0575417011298135e-06]\n",
      "Optimization restart 1/10, f = 55.977517279483564\n",
      "Optimization restart 2/10, f = 102.16357439073644\n",
      "Optimization restart 3/10, f = 480.62925112966815\n",
      "Optimization restart 4/10, f = 55.97751727942823\n",
      "Optimization restart 5/10, f = 2094554611.5225062\n",
      "Optimization restart 6/10, f = 55.977517279428426\n",
      "Optimization restart 7/10, f = 102.16357439073646\n"
     ]
    },
    {
     "name": "stderr",
     "output_type": "stream",
     "text": [
      "reconstraining parameters GP_regression.Mat52.lengthscale\n",
      "reconstraining parameters GP_regression.Mat52.variance\n",
      "reconstraining parameters GP_regression.Gaussian_noise.variance\n"
     ]
    },
    {
     "name": "stdout",
     "output_type": "stream",
     "text": [
      "Optimization restart 8/10, f = 55.97751727942878\n",
      "Optimization restart 9/10, f = 102.16357439073644\n",
      "Optimization restart 10/10, f = 102.16357439073644\n",
      "Optimization restart 1/10, f = 22.272322281926378\n",
      "Optimization restart 2/10, f = 2642555583.6785426\n",
      "Optimization restart 3/10, f = 22.27232228181147\n",
      "Optimization restart 4/10, f = 22.272322281747293\n",
      "Optimization restart 5/10, f = 22.272322281830114\n",
      "Optimization restart 6/10, f = 22.2723222820577\n",
      "Optimization restart 7/10, f = 22.27232228161914\n",
      "Optimization restart 8/10, f = 22.27232228169973\n",
      "Optimization restart 9/10, f = 22.272322281916004\n",
      "Optimization restart 10/10, f = 102.16357439073643\n",
      "(4_w,9)-aCMA-ES (mu_w=2.8,w_1=49%) in dimension 6 (seed=284657, Wed Sep 16 03:39:07 2020)\n",
      "Iterat #Fevals   function value  axis ratio  sigma  min&max std  t[m:s]\n",
      "    1      9 3.376471737912308e-01 1.0e+00 2.42e-01  2e-01  2e-01 0:00.0\n",
      "    2     18 3.078948939085491e-01 1.2e+00 2.61e-01  2e-01  3e-01 0:00.1\n",
      "    3     27 3.525246153692869e-01 1.4e+00 2.63e-01  2e-01  3e-01 0:00.1\n",
      "  100    900 -7.311411495253495e-03 5.0e+01 1.64e-02  9e-04  1e-02 0:02.3\n",
      "  176   1584 -7.311833601725937e-03 3.9e+01 1.64e-05  2e-07  2e-06 0:03.9\n"
     ]
    },
    {
     "name": "stderr",
     "output_type": "stream",
     "text": [
      "reconstraining parameters GP_regression.Mat52.lengthscale\n",
      "reconstraining parameters GP_regression.Mat52.variance\n",
      "reconstraining parameters GP_regression.Gaussian_noise.variance\n"
     ]
    },
    {
     "name": "stdout",
     "output_type": "stream",
     "text": [
      "termination on tolfun=1e-11 (Wed Sep 16 03:39:11 2020)\n",
      "final/bestever f-value = -7.311834e-03 -7.311834e-03\n",
      "incumbent solution: [1.855788105390537, 2.6831502141778233e-15, 3.106675981467409, 4.672931411429903, 1.7567494227926375, 5.58068955248353]\n",
      "std deviation: [1.6159688030984693e-07, 5.820209703127486e-07, 5.571858786281286e-07, 9.041552297900805e-07, 1.8757343600977563e-06, 2.0928554847364505e-06]\n",
      "Optimization restart 1/10, f = 56.30885357084225\n",
      "Optimization restart 2/10, f = 56.30885357084553\n",
      "Optimization restart 3/10, f = 56.30885357080877\n",
      "Optimization restart 4/10, f = 103.5825129239411\n",
      "Optimization restart 5/10, f = 487.304657395358\n",
      "Optimization restart 6/10, f = 103.58251292394169\n",
      "Optimization restart 7/10, f = 56.30885357079847\n",
      "Optimization restart 8/10, f = 103.58251288807256\n"
     ]
    },
    {
     "name": "stderr",
     "output_type": "stream",
     "text": [
      "reconstraining parameters GP_regression.Mat52.lengthscale\n",
      "reconstraining parameters GP_regression.Mat52.variance\n",
      "reconstraining parameters GP_regression.Gaussian_noise.variance\n"
     ]
    },
    {
     "name": "stdout",
     "output_type": "stream",
     "text": [
      "Optimization restart 9/10, f = 103.58251292394114\n",
      "Optimization restart 10/10, f = 56.30885357080047\n",
      "Optimization restart 1/10, f = 22.88555611954287\n",
      "Optimization restart 2/10, f = 22.885556119563425\n",
      "Optimization restart 3/10, f = 22.885556119860567\n",
      "Optimization restart 4/10, f = 22.885556119609987\n",
      "Optimization restart 5/10, f = 22.885556119785832\n",
      "Optimization restart 6/10, f = 22.8855561196128\n",
      "Optimization restart 7/10, f = 103.58251292394185\n",
      "Optimization restart 8/10, f = 2645367056.3228784\n",
      "Optimization restart 9/10, f = 22.88555611971173\n",
      "Optimization restart 10/10, f = 487.304657395358\n",
      "(4_w,9)-aCMA-ES (mu_w=2.8,w_1=49%) in dimension 6 (seed=295732, Wed Sep 16 03:39:14 2020)\n",
      "Iterat #Fevals   function value  axis ratio  sigma  min&max std  t[m:s]\n",
      "    1      9 7.177484988286054e-02 1.0e+00 2.45e-01  2e-01  3e-01 0:00.0\n",
      "    2     18 7.153117235672557e-02 1.4e+00 2.29e-01  2e-01  2e-01 0:00.0\n",
      "    3     27 6.594152970487865e-02 1.4e+00 2.16e-01  2e-01  2e-01 0:00.1\n",
      "  100    900 2.205066825512692e-03 2.0e+01 4.37e-02  2e-03  3e-02 0:01.9\n",
      "  200   1800 2.158650572092746e-03 2.8e+02 2.97e-03  7e-06  7e-04 0:03.7\n",
      "  300   2700 2.158588314088217e-03 6.4e+03 1.69e-04  4e-09  2e-05 0:05.5\n",
      "NOTE (module=cma, iteration=318):  \n",
      "condition in coordinate system exceeded 1.1e+08, rescaled to 1.0e+00, \n",
      "condition changed from 2.0e+08 to 7.5e+00\n",
      "  348   3132 2.158588295943176e-03 4.3e+00 5.48e-05  1e-10  3e-06 0:06.4\n"
     ]
    },
    {
     "name": "stderr",
     "output_type": "stream",
     "text": [
      "reconstraining parameters GP_regression.Mat52.lengthscale\n",
      "reconstraining parameters GP_regression.Mat52.variance\n",
      "reconstraining parameters GP_regression.Gaussian_noise.variance\n"
     ]
    },
    {
     "name": "stdout",
     "output_type": "stream",
     "text": [
      "termination on tolfun=1e-11 (Wed Sep 16 03:39:20 2020)\n",
      "final/bestever f-value = 2.158588e-03 -1.602848e-04\n",
      "incumbent solution: [3.753247355413581e-13, 3.9999999999990137, 5.999999999994773, 7.999999999999198, 9.999999999993587, 6.088958100585342]\n",
      "std deviation: [3.2769537566521193e-07, 6.490140638633942e-07, 2.941662753562025e-06, 2.197731451312226e-06, 2.9376704469285023e-06, 1.4853212432166318e-10]\n",
      "Optimization restart 1/10, f = 57.26310402618652\n",
      "Optimization restart 2/10, f = 57.26310402617647\n",
      "Optimization restart 3/10, f = 57.26310402625676\n",
      "Optimization restart 4/10, f = 3695945.756494457\n",
      "Optimization restart 5/10, f = 3695945.756494457\n",
      "Optimization restart 6/10, f = 2194806843.511698\n",
      "Optimization restart 7/10, f = 105.00145145714578\n",
      "Optimization restart 8/10, f = 57.26310402617653\n",
      "Optimization restart 9/10, f = 57.26310402617579\n"
     ]
    },
    {
     "name": "stderr",
     "output_type": "stream",
     "text": [
      "reconstraining parameters GP_regression.Mat52.lengthscale\n",
      "reconstraining parameters GP_regression.Mat52.variance\n",
      "reconstraining parameters GP_regression.Gaussian_noise.variance\n"
     ]
    },
    {
     "name": "stdout",
     "output_type": "stream",
     "text": [
      "Optimization restart 10/10, f = 57.26310402617598\n",
      "Optimization restart 1/10, f = 23.408138617479544\n",
      "Optimization restart 2/10, f = 105.00145145714579\n",
      "Optimization restart 3/10, f = 105.00145145714578\n",
      "Optimization restart 4/10, f = 23.408138617604372\n",
      "Optimization restart 5/10, f = 23.408138617596457\n",
      "Optimization restart 6/10, f = 105.00145145714578\n",
      "Optimization restart 7/10, f = 2756614117.53367\n",
      "Optimization restart 8/10, f = 51.17037634421795\n",
      "Optimization restart 9/10, f = 105.00145145716105\n",
      "Optimization restart 10/10, f = 23.4081386176387\n",
      "(4_w,9)-aCMA-ES (mu_w=2.8,w_1=49%) in dimension 6 (seed=293784, Wed Sep 16 03:39:25 2020)\n",
      "Iterat #Fevals   function value  axis ratio  sigma  min&max std  t[m:s]\n",
      "    1      9 3.210509727175639e-01 1.0e+00 2.49e-01  2e-01  3e-01 0:00.0\n",
      "    2     18 2.994068169396589e-01 1.3e+00 2.67e-01  2e-01  3e-01 0:00.1\n",
      "    3     27 3.034364899867872e-01 1.4e+00 2.77e-01  3e-01  3e-01 0:00.1\n",
      "  100    900 -1.155922231929729e-03 1.0e+01 1.54e-01  1e-02  9e-02 0:02.9\n",
      "  194   1746 -1.170904295237030e-03 1.4e+01 3.07e-05  2e-07  3e-06 0:04.7\n"
     ]
    },
    {
     "name": "stderr",
     "output_type": "stream",
     "text": [
      "reconstraining parameters GP_regression.Mat52.lengthscale\n",
      "reconstraining parameters GP_regression.Mat52.variance\n",
      "reconstraining parameters GP_regression.Gaussian_noise.variance\n"
     ]
    },
    {
     "name": "stdout",
     "output_type": "stream",
     "text": [
      "termination on tolfun=1e-11 (Wed Sep 16 03:39:30 2020)\n",
      "final/bestever f-value = -1.170904e-03 -1.170904e-03\n",
      "incumbent solution: [1.9999999999999944, 1.802418659296026, 5.999999999999695, 7.999999999999498, 9.999999999999794, 11.999999999999671]\n",
      "std deviation: [2.3266116341813417e-07, 2.9205413379901024e-07, 1.158862741519317e-06, 1.117565457113803e-06, 1.027463045726069e-06, 2.878767380375245e-06]\n",
      "Optimization restart 1/10, f = 57.1403553607533\n",
      "Optimization restart 2/10, f = 500.6554699267376\n",
      "Optimization restart 3/10, f = 106.42038999035046\n",
      "Optimization restart 4/10, f = 57.140355360570446\n",
      "Optimization restart 5/10, f = 57.1403553605698\n",
      "Optimization restart 6/10, f = 57.14035536056979\n",
      "Optimization restart 7/10, f = 57.14035536057028\n",
      "Optimization restart 8/10, f = 106.4203899904449\n",
      "Optimization restart 9/10, f = 106.42038999035044\n"
     ]
    },
    {
     "name": "stderr",
     "output_type": "stream",
     "text": [
      "reconstraining parameters GP_regression.Mat52.lengthscale\n",
      "reconstraining parameters GP_regression.Mat52.variance\n",
      "reconstraining parameters GP_regression.Gaussian_noise.variance\n"
     ]
    },
    {
     "name": "stdout",
     "output_type": "stream",
     "text": [
      "Optimization restart 10/10, f = 500.6554699267376\n",
      "Optimization restart 1/10, f = 22.021500424791626\n",
      "Optimization restart 2/10, f = 3745890.969420058\n",
      "Optimization restart 3/10, f = 22.02150042461497\n",
      "Optimization restart 4/10, f = 22.021500424873125\n",
      "Optimization restart 5/10, f = 106.42038999035051\n",
      "Optimization restart 6/10, f = 106.42038999034898\n",
      "Optimization restart 7/10, f = 22.02150042510999\n",
      "Optimization restart 8/10, f = 22.02150042483359\n",
      "Optimization restart 9/10, f = 106.42038999035046\n",
      "Optimization restart 10/10, f = 22.021500424745682\n",
      "(4_w,9)-aCMA-ES (mu_w=2.8,w_1=49%) in dimension 6 (seed=295749, Wed Sep 16 03:39:32 2020)\n",
      "Iterat #Fevals   function value  axis ratio  sigma  min&max std  t[m:s]\n",
      "    1      9 3.005233696564118e-01 1.0e+00 2.36e-01  2e-01  2e-01 0:00.0\n",
      "    2     18 2.932196699910805e-01 1.2e+00 1.96e-01  2e-01  2e-01 0:00.1\n",
      "    3     27 3.144617913040821e-01 1.4e+00 1.71e-01  1e-01  2e-01 0:00.1\n",
      "  100    900 1.834161722054528e-03 5.7e+00 4.32e-02  4e-03  2e-02 0:01.9\n",
      "  200   1800 1.669330058791108e-03 4.3e+02 1.57e-03  1e-06  4e-04 0:03.8\n",
      "NOTE (module=cma, iteration=284):  \n",
      "condition in coordinate system exceeded 1.0e+08, rescaled to 1.0e+00, \n",
      "condition changed from 1.4e+08 to 5.7e+00\n",
      "  300   2700 1.669307179791968e-03 2.8e+00 6.28e-05  2e-10  5e-06 0:06.0\n",
      "  320   2880 1.669307177463164e-03 9.5e+00 2.79e-05  3e-11  2e-06 0:06.5\n"
     ]
    },
    {
     "name": "stderr",
     "output_type": "stream",
     "text": [
      "reconstraining parameters GP_regression.Mat52.lengthscale\n",
      "reconstraining parameters GP_regression.Mat52.variance\n",
      "reconstraining parameters GP_regression.Gaussian_noise.variance\n"
     ]
    },
    {
     "name": "stdout",
     "output_type": "stream",
     "text": [
      "termination on tolfun=1e-11 (Wed Sep 16 03:39:39 2020)\n",
      "final/bestever f-value = 1.669307e-03 1.669307e-03\n",
      "incumbent solution: [1.9900070660092868, 2.539170139136623e-12, 5.99999999999959, 7.999999999996114, 9.999999999999876, 5.30631574333703e-18]\n",
      "std deviation: [3.3685732683267355e-11, 6.136080454923072e-07, 1.6114332587554258e-06, 1.7554584820332072e-06, 1.7770352192557045e-06, 6.087272200544269e-07]\n",
      "Optimization restart 1/10, f = 58.04593686187474\n",
      "Optimization restart 2/10, f = 107.83932852355514\n",
      "Optimization restart 3/10, f = 58.04593686164942\n",
      "Optimization restart 4/10, f = 507.33087619242747\n",
      "Optimization restart 5/10, f = 153.23038262035374\n",
      "Optimization restart 6/10, f = 107.83932852355512\n",
      "Optimization restart 7/10, f = 107.83932852355515\n",
      "Optimization restart 8/10, f = 507.33087619242747\n",
      "Optimization restart 9/10, f = 58.04593686165198\n"
     ]
    },
    {
     "name": "stderr",
     "output_type": "stream",
     "text": [
      "reconstraining parameters GP_regression.Mat52.lengthscale\n",
      "reconstraining parameters GP_regression.Mat52.variance\n",
      "reconstraining parameters GP_regression.Gaussian_noise.variance\n"
     ]
    },
    {
     "name": "stdout",
     "output_type": "stream",
     "text": [
      "Optimization restart 10/10, f = 507.33087619242747\n",
      "Optimization restart 1/10, f = 22.341376393460855\n",
      "Optimization restart 2/10, f = 2820416722.100709\n",
      "Optimization restart 3/10, f = 22.341376393369096\n",
      "Optimization restart 4/10, f = 107.83932852355514\n",
      "Optimization restart 5/10, f = 22.341376393455334\n",
      "Optimization restart 6/10, f = 22.341376393340454\n",
      "Optimization restart 7/10, f = 50.51782747013687\n",
      "Optimization restart 8/10, f = 22.341376393761216\n",
      "Optimization restart 9/10, f = 22.341376393360655\n",
      "Optimization restart 10/10, f = 22.341376393946177\n",
      "(4_w,9)-aCMA-ES (mu_w=2.8,w_1=49%) in dimension 6 (seed=312561, Wed Sep 16 03:39:42 2020)\n",
      "Iterat #Fevals   function value  axis ratio  sigma  min&max std  t[m:s]\n",
      "    1      9 3.041551122752644e-01 1.0e+00 2.58e-01  2e-01  3e-01 0:00.0\n",
      "    2     18 2.712829418319909e-01 1.3e+00 2.77e-01  3e-01  3e-01 0:00.1\n",
      "    3     27 2.685882000393418e-01 1.4e+00 2.94e-01  3e-01  3e-01 0:00.1\n",
      "  100    900 -9.434865229194678e-03 4.2e+01 3.98e-02  1e-03  5e-02 0:02.1\n",
      "  194   1746 -9.439209160873041e-03 6.7e+01 3.65e-05  1e-07  9e-06 0:05.0\n"
     ]
    },
    {
     "name": "stderr",
     "output_type": "stream",
     "text": [
      "reconstraining parameters GP_regression.Mat52.lengthscale\n",
      "reconstraining parameters GP_regression.Mat52.variance\n",
      "reconstraining parameters GP_regression.Gaussian_noise.variance\n"
     ]
    },
    {
     "name": "stdout",
     "output_type": "stream",
     "text": [
      "termination on tolfun=1e-11 (Wed Sep 16 03:39:47 2020)\n",
      "final/bestever f-value = -9.439209e-03 -9.439209e-03\n",
      "incumbent solution: [1.9999999999999951, 1.1892027383474477e-13, 5.999999999999118, 7.999999999996247, 9.999999999999988, 4.454181689977912]\n",
      "std deviation: [1.3393763333045086e-07, 1.5533252566062675e-07, 1.044070743030186e-06, 6.040045775287679e-06, 1.8731576566140024e-06, 8.523106928455519e-06]\n",
      "Optimization restart 1/10, f = 58.705372705674066\n",
      "Optimization restart 2/10, f = 2333306434.253487\n",
      "Optimization restart 3/10, f = 109.25826705675979\n",
      "Optimization restart 4/10, f = 58.70537270560156\n",
      "Optimization restart 5/10, f = 109.2582670567599\n",
      "Optimization restart 6/10, f = 109.25826705675989\n",
      "Optimization restart 7/10, f = 109.2582670567602\n",
      "Optimization restart 8/10, f = 514.0062824581173\n",
      "Optimization restart 9/10, f = 58.70537270560374\n"
     ]
    },
    {
     "name": "stderr",
     "output_type": "stream",
     "text": [
      "reconstraining parameters GP_regression.Mat52.lengthscale\n",
      "reconstraining parameters GP_regression.Mat52.variance\n",
      "reconstraining parameters GP_regression.Gaussian_noise.variance\n"
     ]
    },
    {
     "name": "stdout",
     "output_type": "stream",
     "text": [
      "Optimization restart 10/10, f = 109.25826705675979\n",
      "Optimization restart 1/10, f = 23.040298077385025\n",
      "Optimization restart 2/10, f = 23.040298077217983\n",
      "Optimization restart 3/10, f = 23.040298077507785\n",
      "Optimization restart 4/10, f = 109.25826705675993\n",
      "Optimization restart 5/10, f = 23.040298077613976\n",
      "Optimization restart 6/10, f = 23.040298077341497\n",
      "Optimization restart 7/10, f = 514.0062824581173\n",
      "Optimization restart 8/10, f = 23.040298077323925\n",
      "Optimization restart 9/10, f = 109.25826705675999\n",
      "Optimization restart 10/10, f = 23.040298077701557\n",
      "(4_w,9)-aCMA-ES (mu_w=2.8,w_1=49%) in dimension 6 (seed=403905, Wed Sep 16 03:39:49 2020)\n",
      "Iterat #Fevals   function value  axis ratio  sigma  min&max std  t[m:s]\n",
      "    1      9 -2.280078190128876e-04 1.0e+00 2.66e-01  3e-01  3e-01 0:00.0\n",
      "    2     18 -2.865137283890817e-03 1.3e+00 3.30e-01  3e-01  3e-01 0:00.1\n",
      "    3     27 -1.125531816197700e-02 1.4e+00 4.02e-01  4e-01  4e-01 0:00.1\n",
      "  100    900 -6.288685250396320e-02 1.1e+01 1.66e-03  9e-05  8e-04 0:02.6\n",
      "  162   1458 -6.288685720702869e-02 1.6e+01 8.45e-06  1e-07  1e-06 0:04.3\n",
      "termination on tolfun=1e-11 (Wed Sep 16 03:39:54 2020)\n",
      "final/bestever f-value = -6.288686e-02 -6.288686e-02\n",
      "incumbent solution: [1.9999999999999678, 1.5659146427354377e-13, 2.983422849190993, 3.195494236541721, 4.11567939940058e-13, 9.210301453833102]\n",
      "std deviation: [1.4241440356864832e-07, 9.941914458668197e-08, 2.908082704532768e-07, 4.246163057898652e-07, 5.774853758738866e-07, 1.3568393787116574e-06]\n"
     ]
    },
    {
     "name": "stderr",
     "output_type": "stream",
     "text": [
      "reconstraining parameters GP_regression.Mat52.lengthscale\n",
      "reconstraining parameters GP_regression.Mat52.variance\n",
      "reconstraining parameters GP_regression.Gaussian_noise.variance\n"
     ]
    },
    {
     "name": "stdout",
     "output_type": "stream",
     "text": [
      "Optimization restart 1/10, f = 60.01554290657013\n",
      "Optimization restart 2/10, f = 60.01554290656747\n",
      "Optimization restart 3/10, f = 60.01554290656734\n",
      "Optimization restart 4/10, f = 110.6772055899645\n",
      "Optimization restart 5/10, f = 110.67720558996452\n",
      "Optimization restart 6/10, f = 520.6816887238072\n",
      "Optimization restart 7/10, f = 110.67720558996449\n",
      "Optimization restart 8/10, f = 110.67720235654903\n",
      "Optimization restart 9/10, f = 60.01554290657356\n"
     ]
    },
    {
     "name": "stderr",
     "output_type": "stream",
     "text": [
      "reconstraining parameters GP_regression.Mat52.lengthscale\n",
      "reconstraining parameters GP_regression.Mat52.variance\n",
      "reconstraining parameters GP_regression.Gaussian_noise.variance\n"
     ]
    },
    {
     "name": "stdout",
     "output_type": "stream",
     "text": [
      "Optimization restart 10/10, f = 110.67720558996449\n",
      "Optimization restart 1/10, f = 22.79460875270874\n",
      "Optimization restart 2/10, f = 52.19671315344739\n",
      "Optimization restart 3/10, f = 22.794608752494057\n",
      "Optimization restart 4/10, f = 22.794608752195757\n",
      "Optimization restart 5/10, f = 520.6816887238072\n",
      "Optimization restart 6/10, f = 110.67720558996447\n",
      "Optimization restart 7/10, f = 110.67720017000914\n",
      "Optimization restart 8/10, f = 22.79460875226755\n",
      "Optimization restart 9/10, f = 22.7946087519989\n",
      "Optimization restart 10/10, f = 520.6816887238072\n",
      "(4_w,9)-aCMA-ES (mu_w=2.8,w_1=49%) in dimension 6 (seed=380664, Wed Sep 16 03:39:57 2020)\n",
      "Iterat #Fevals   function value  axis ratio  sigma  min&max std  t[m:s]\n",
      "    1      9 2.181402804695418e-01 1.0e+00 2.32e-01  2e-01  2e-01 0:00.0\n",
      "    2     18 2.280404061111376e-01 1.2e+00 2.16e-01  2e-01  2e-01 0:00.0\n",
      "    3     27 2.395421743797481e-01 1.4e+00 2.33e-01  2e-01  3e-01 0:00.1\n",
      "  100    900 9.003565300229233e-02 1.2e+02 2.62e-01  4e-02  6e-01 0:02.2\n",
      "  200   1800 -2.936747553858865e-04 1.0e+01 1.51e-03  2e-05  2e-04 0:04.4\n",
      "  233   2097 -2.936747783630622e-04 1.2e+01 4.73e-05  2e-07  2e-06 0:05.1\n"
     ]
    },
    {
     "name": "stderr",
     "output_type": "stream",
     "text": [
      "reconstraining parameters GP_regression.Mat52.lengthscale\n",
      "reconstraining parameters GP_regression.Mat52.variance\n",
      "reconstraining parameters GP_regression.Gaussian_noise.variance\n"
     ]
    },
    {
     "name": "stdout",
     "output_type": "stream",
     "text": [
      "termination on tolfun=1e-11 (Wed Sep 16 03:40:03 2020)\n",
      "final/bestever f-value = -2.936748e-04 -2.936748e-04\n",
      "incumbent solution: [1.9999999999998692, 2.074841612474956, 5.999999999999854, 7.999999999999387, 9.999999999999952, 11.999999999999794]\n",
      "std deviation: [3.025918900046822e-07, 2.401259861438953e-07, 2.340823364424572e-06, 2.133672533273091e-06, 1.2614267356127242e-06, 1.6350312985807155e-06]\n",
      "Optimization restart 1/10, f = 58.12929040002299\n",
      "Optimization restart 2/10, f = 112.0961441231687\n",
      "Optimization restart 3/10, f = 527.3570949894969\n",
      "Optimization restart 4/10, f = 527.3570949894969\n",
      "Optimization restart 5/10, f = 112.09614412316914\n",
      "Optimization restart 6/10, f = 112.09614412316915\n",
      "Optimization restart 7/10, f = 58.12929040002174\n",
      "Optimization restart 8/10, f = 58.12929040002189\n",
      "Optimization restart 9/10, f = 112.09614412316914\n"
     ]
    },
    {
     "name": "stderr",
     "output_type": "stream",
     "text": [
      "reconstraining parameters GP_regression.Mat52.lengthscale\n",
      "reconstraining parameters GP_regression.Mat52.variance\n",
      "reconstraining parameters GP_regression.Gaussian_noise.variance\n"
     ]
    },
    {
     "name": "stdout",
     "output_type": "stream",
     "text": [
      "Optimization restart 10/10, f = 58.12929040002161\n",
      "Optimization restart 1/10, f = 19.106522458227474\n",
      "Optimization restart 2/10, f = 19.106522458209\n",
      "Optimization restart 3/10, f = 19.10652245820222\n",
      "Optimization restart 4/10, f = 19.106522458070174\n",
      "Optimization restart 5/10, f = 19.106522458467317\n",
      "Optimization restart 6/10, f = 527.3570949894969\n",
      "Optimization restart 7/10, f = 112.09614412316915\n",
      "Optimization restart 8/10, f = 112.09614412316913\n",
      "Optimization restart 9/10, f = 19.106522458066436\n",
      "Optimization restart 10/10, f = 112.09614412316921\n",
      "(4_w,9)-aCMA-ES (mu_w=2.8,w_1=49%) in dimension 6 (seed=360311, Wed Sep 16 03:40:05 2020)\n",
      "Iterat #Fevals   function value  axis ratio  sigma  min&max std  t[m:s]\n",
      "    1      9 3.569306120509728e-01 1.0e+00 2.53e-01  2e-01  3e-01 0:00.0\n",
      "    2     18 3.456381826232944e-01 1.4e+00 2.91e-01  3e-01  3e-01 0:00.0\n",
      "    3     27 2.605380825864656e-01 1.6e+00 3.18e-01  3e-01  4e-01 0:00.1\n",
      "  100    900 -7.110590952768270e-02 8.3e+00 2.90e-02  2e-03  1e-02 0:01.9\n",
      "  200   1800 -7.111049637493938e-02 3.3e+01 2.18e-05  8e-08  3e-06 0:03.8\n",
      "  202   1818 -7.111049637464895e-02 3.3e+01 1.76e-05  6e-08  2e-06 0:03.8\n"
     ]
    },
    {
     "name": "stderr",
     "output_type": "stream",
     "text": [
      "reconstraining parameters GP_regression.Mat52.lengthscale\n",
      "reconstraining parameters GP_regression.Mat52.variance\n"
     ]
    },
    {
     "name": "stdout",
     "output_type": "stream",
     "text": [
      "termination on tolfun=1e-11 (Wed Sep 16 03:40:09 2020)\n",
      "final/bestever f-value = -7.111050e-02 -7.111050e-02\n",
      "incumbent solution: [0.6312332504978289, 9.478354151592443e-12, 2.9921501240025394, 3.4480970402614917, 4.884799106684673, 2.584351277236356]\n",
      "std deviation: [6.373432742986932e-08, 1.8972912526393318e-06, 5.299798816850007e-07, 5.579941458108773e-07, 6.633917045221473e-07, 8.825796652067854e-07]\n"
     ]
    },
    {
     "name": "stderr",
     "output_type": "stream",
     "text": [
      "reconstraining parameters GP_regression.Gaussian_noise.variance\n"
     ]
    },
    {
     "name": "stdout",
     "output_type": "stream",
     "text": [
      "Optimization restart 1/10, f = 57.84738630162977\n",
      "Optimization restart 2/10, f = 534.0325012551868\n",
      "Optimization restart 3/10, f = 113.51508021685522\n",
      "Optimization restart 4/10, f = 57.84738630148012\n",
      "Optimization restart 5/10, f = 57.84738630163667\n",
      "Optimization restart 6/10, f = 57.847386301480924\n",
      "Optimization restart 7/10, f = 154.08593307817142\n",
      "Optimization restart 8/10, f = 113.5150826563738\n",
      "Optimization restart 9/10, f = 57.84738630148049\n"
     ]
    },
    {
     "name": "stderr",
     "output_type": "stream",
     "text": [
      "reconstraining parameters GP_regression.Mat52.lengthscale\n",
      "reconstraining parameters GP_regression.Mat52.variance\n",
      "reconstraining parameters GP_regression.Gaussian_noise.variance\n"
     ]
    },
    {
     "name": "stdout",
     "output_type": "stream",
     "text": [
      "Optimization restart 10/10, f = 113.5150826563738\n",
      "Optimization restart 1/10, f = 18.19510874097898\n",
      "Optimization restart 2/10, f = 113.51508265169034\n",
      "Optimization restart 3/10, f = 18.195108740858586\n",
      "Optimization restart 4/10, f = 113.51508265629462\n",
      "Optimization restart 5/10, f = 113.5150826563738\n",
      "Optimization restart 6/10, f = 18.195108740722404\n",
      "Optimization restart 7/10, f = 113.5150826563738\n",
      "Optimization restart 8/10, f = 18.195108740583294\n",
      "Optimization restart 9/10, f = 18.195108740610834\n",
      "Optimization restart 10/10, f = 18.195108740469905\n",
      "(4_w,9)-aCMA-ES (mu_w=2.8,w_1=49%) in dimension 6 (seed=251892, Wed Sep 16 03:40:12 2020)\n",
      "Iterat #Fevals   function value  axis ratio  sigma  min&max std  t[m:s]\n",
      "    1      9 3.840331872414713e-01 1.0e+00 2.63e-01  3e-01  3e-01 0:00.0\n",
      "    2     18 3.286549477152865e-01 1.3e+00 2.56e-01  2e-01  3e-01 0:00.0\n",
      "    3     27 3.795109712779374e-01 1.5e+00 2.48e-01  2e-01  3e-01 0:00.1\n",
      "  100    900 -1.444797174671919e-02 1.2e+01 6.55e-02  5e-03  5e-02 0:02.0\n",
      "  195   1755 -1.448539539230076e-02 1.4e+01 1.04e-05  8e-08  1e-06 0:03.9\n"
     ]
    },
    {
     "name": "stderr",
     "output_type": "stream",
     "text": [
      "reconstraining parameters GP_regression.Mat52.lengthscale\n",
      "reconstraining parameters GP_regression.Mat52.variance\n",
      "reconstraining parameters GP_regression.Gaussian_noise.variance\n"
     ]
    },
    {
     "name": "stdout",
     "output_type": "stream",
     "text": [
      "termination on tolfun=1e-11 (Wed Sep 16 03:40:16 2020)\n",
      "final/bestever f-value = -1.448540e-02 -1.448540e-02\n",
      "incumbent solution: [1.0354258406797523e-14, 3.2479503665169047, 3.3550810008454253, 2.664618716666305, 5.010119443362631, 5.219044223756427]\n",
      "std deviation: [8.148391648310802e-08, 1.1486200485028867e-07, 3.873345993288217e-07, 5.083977886103423e-07, 8.298132082820006e-07, 9.833784481750484e-07]\n",
      "Optimization restart 1/10, f = 58.07969867049644\n",
      "Optimization restart 2/10, f = 58.07969867053465\n",
      "Optimization restart 3/10, f = 58.079698670499354\n",
      "Optimization restart 4/10, f = 58.07969867049671\n",
      "Optimization restart 5/10, f = 114.9340211895785\n",
      "Optimization restart 6/10, f = 2395415064.5276556\n",
      "Optimization restart 7/10, f = 114.93402118957852\n"
     ]
    },
    {
     "name": "stderr",
     "output_type": "stream",
     "text": [
      "reconstraining parameters GP_regression.Mat52.lengthscale\n"
     ]
    },
    {
     "name": "stdout",
     "output_type": "stream",
     "text": [
      "Optimization restart 8/10, f = 58.0796986704963\n",
      "Optimization restart 9/10, f = 2402752299.353768\n",
      "Optimization restart 10/10, f = 114.93402118957849\n"
     ]
    },
    {
     "name": "stderr",
     "output_type": "stream",
     "text": [
      "reconstraining parameters GP_regression.Mat52.variance\n",
      "reconstraining parameters GP_regression.Gaussian_noise.variance\n"
     ]
    },
    {
     "name": "stdout",
     "output_type": "stream",
     "text": [
      "Optimization restart 1/10, f = 16.771491017445896\n",
      "Optimization restart 2/10, f = 16.771491016973187\n",
      "Optimization restart 3/10, f = 114.93402118957849\n",
      "Optimization restart 4/10, f = 540.7079075208767\n",
      "Optimization restart 5/10, f = 114.93402118957849\n",
      "Optimization restart 6/10, f = 114.93402118957849\n",
      "Optimization restart 7/10, f = 114.93402118957849\n",
      "Optimization restart 8/10, f = 114.93402118957849\n",
      "Optimization restart 9/10, f = 16.771491017401253\n",
      "Optimization restart 10/10, f = 114.93402118957849\n",
      "(4_w,9)-aCMA-ES (mu_w=2.8,w_1=49%) in dimension 6 (seed=398796, Wed Sep 16 03:40:18 2020)\n",
      "Iterat #Fevals   function value  axis ratio  sigma  min&max std  t[m:s]\n",
      "    1      9 2.766428455566183e-01 1.0e+00 2.74e-01  3e-01  3e-01 0:00.0\n",
      "    2     18 2.443287593389831e-01 1.4e+00 2.77e-01  3e-01  3e-01 0:00.1\n",
      "    3     27 2.871461533616162e-01 1.6e+00 3.03e-01  3e-01  4e-01 0:00.1\n",
      "   97    873 -1.830620165772245e-02 1.8e+01 6.69e-03  3e-04  3e-03 0:03.1\n",
      "  100    900 -1.830618514007298e-02 1.8e+01 4.75e-03  2e-04  2e-03 0:03.2\n",
      "  179   1611 -1.830623803611697e-02 1.6e+01 9.57e-06  8e-08  7e-07 0:05.7\n"
     ]
    },
    {
     "name": "stderr",
     "output_type": "stream",
     "text": [
      "reconstraining parameters GP_regression.Mat52.lengthscale\n"
     ]
    },
    {
     "name": "stdout",
     "output_type": "stream",
     "text": [
      "termination on tolfun=1e-11 (Wed Sep 16 03:40:24 2020)\n",
      "final/bestever f-value = -1.830624e-02 -1.830624e-02\n",
      "incumbent solution: [1.7782350853678255, 0.15119703086729191, 3.1224685421349796, 4.85949812228117, 2.1174573959226475, 5.613430298168795]\n",
      "std deviation: [7.667592187143722e-08, 4.1037685552173765e-07, 2.9639124295767274e-07, 4.6049397536915833e-07, 6.809343862369521e-07, 6.408013982982357e-07]\n"
     ]
    },
    {
     "name": "stderr",
     "output_type": "stream",
     "text": [
      "reconstraining parameters GP_regression.Mat52.variance\n",
      "reconstraining parameters GP_regression.Gaussian_noise.variance\n"
     ]
    },
    {
     "name": "stdout",
     "output_type": "stream",
     "text": [
      "Optimization restart 1/10, f = 57.36027143195958\n",
      "Optimization restart 2/10, f = 116.35295972278337\n",
      "Optimization restart 3/10, f = 57.36027143182292\n",
      "Optimization restart 4/10, f = 2420080534.999475\n",
      "Optimization restart 5/10, f = 116.35295972278314\n",
      "Optimization restart 6/10, f = 57.360271431822774\n",
      "Optimization restart 7/10, f = 154.6561077830708\n",
      "Optimization restart 8/10, f = 116.35295972278314\n",
      "Optimization restart 9/10, f = 2430875501.469984\n"
     ]
    },
    {
     "name": "stderr",
     "output_type": "stream",
     "text": [
      "reconstraining parameters GP_regression.Mat52.lengthscale\n",
      "reconstraining parameters GP_regression.Mat52.variance\n",
      "reconstraining parameters GP_regression.Gaussian_noise.variance\n"
     ]
    },
    {
     "name": "stdout",
     "output_type": "stream",
     "text": [
      "Optimization restart 10/10, f = 116.35295972278317\n",
      "Optimization restart 1/10, f = 15.14273902746163\n",
      "Optimization restart 2/10, f = 547.3833137865664\n",
      "Optimization restart 3/10, f = 116.35295972278317\n",
      "Optimization restart 4/10, f = 15.142739027831624\n",
      "Optimization restart 5/10, f = 116.35295972278315\n",
      "Optimization restart 6/10, f = 116.35295972278315\n",
      "Optimization restart 7/10, f = 116.35295972278317\n",
      "Optimization restart 8/10, f = 15.142739027580085\n",
      "Optimization restart 9/10, f = 116.35295972278317\n",
      "Optimization restart 10/10, f = 15.142739027365764\n",
      "(4_w,9)-aCMA-ES (mu_w=2.8,w_1=49%) in dimension 6 (seed=317500, Wed Sep 16 03:40:27 2020)\n",
      "Iterat #Fevals   function value  axis ratio  sigma  min&max std  t[m:s]\n",
      "    1      9 2.562705980553859e-01 1.0e+00 2.46e-01  2e-01  3e-01 0:00.0\n",
      "    2     18 2.054731182954392e-01 1.3e+00 2.88e-01  3e-01  3e-01 0:00.1\n",
      "    3     27 1.988139519777135e-01 1.6e+00 2.83e-01  3e-01  3e-01 0:00.1\n",
      "  100    900 -4.484868519790730e-02 1.1e+01 2.72e-03  1e-04  1e-03 0:01.9\n",
      "  173   1557 -4.484876489936518e-02 1.3e+01 1.00e-05  9e-08  1e-06 0:03.4\n"
     ]
    },
    {
     "name": "stderr",
     "output_type": "stream",
     "text": [
      "reconstraining parameters GP_regression.Mat52.lengthscale\n",
      "reconstraining parameters GP_regression.Mat52.variance\n",
      "reconstraining parameters GP_regression.Gaussian_noise.variance\n"
     ]
    },
    {
     "name": "stdout",
     "output_type": "stream",
     "text": [
      "termination on tolfun=1e-11 (Wed Sep 16 03:40:31 2020)\n",
      "final/bestever f-value = -4.484876e-02 -4.484876e-02\n",
      "incumbent solution: [1.5670411822600647, 0.5327755269389509, 3.2842833924242485, 4.999471580767173, 2.4893112678807263, 6.1239987998580325]\n",
      "std deviation: [9.236188516341392e-08, 2.4986159497387116e-07, 4.590269022237077e-07, 5.235596030923462e-07, 8.308984654920389e-07, 9.72904467876285e-07]\n",
      "Optimization restart 1/10, f = 57.01790491173923\n",
      "Optimization restart 2/10, f = 57.017904911698885\n",
      "Optimization restart 3/10, f = 57.017904911888245\n",
      "Optimization restart 4/10, f = 2461905128.3934903\n",
      "Optimization restart 5/10, f = 2462666876.535324\n",
      "Optimization restart 6/10, f = 554.0587200522563\n",
      "Optimization restart 7/10, f = 117.77189825599015\n",
      "Optimization restart 8/10, f = 57.01790491173939\n"
     ]
    },
    {
     "name": "stderr",
     "output_type": "stream",
     "text": [
      "reconstraining parameters GP_regression.Mat52.lengthscale\n",
      "reconstraining parameters GP_regression.Mat52.variance\n"
     ]
    },
    {
     "name": "stdout",
     "output_type": "stream",
     "text": [
      "Optimization restart 9/10, f = 57.01790491170078\n",
      "Optimization restart 10/10, f = 57.01790491170029\n"
     ]
    },
    {
     "name": "stderr",
     "output_type": "stream",
     "text": [
      "reconstraining parameters GP_regression.Gaussian_noise.variance\n"
     ]
    },
    {
     "name": "stdout",
     "output_type": "stream",
     "text": [
      "Optimization restart 1/10, f = 13.733779458378251\n",
      "Optimization restart 2/10, f = 117.77189825598842\n",
      "Optimization restart 3/10, f = 13.733779458773384\n",
      "Optimization restart 4/10, f = 117.77189825598984\n",
      "Optimization restart 5/10, f = 554.0587200522563\n",
      "Optimization restart 6/10, f = 554.0587200522563\n",
      "Optimization restart 7/10, f = 117.77189825598782\n",
      "Optimization restart 8/10, f = 13.733779458445277\n",
      "Optimization restart 9/10, f = 13.733779458673489\n",
      "Optimization restart 10/10, f = 13.733779458399326\n",
      "(4_w,9)-aCMA-ES (mu_w=2.8,w_1=49%) in dimension 6 (seed=287258, Wed Sep 16 03:40:33 2020)\n",
      "Iterat #Fevals   function value  axis ratio  sigma  min&max std  t[m:s]\n",
      "    1      9 6.341487324461963e-01 1.0e+00 2.10e-01  2e-01  2e-01 0:00.0\n",
      "    2     18 6.422976999851135e-01 1.3e+00 2.02e-01  2e-01  2e-01 0:00.1\n",
      "    3     27 6.373677057935234e-01 1.5e+00 2.18e-01  2e-01  2e-01 0:00.1\n",
      "  100    900 -4.985902459241309e-02 1.4e+01 2.83e-03  2e-04  2e-03 0:01.9\n",
      "  176   1584 -4.985921180198805e-02 1.5e+01 9.24e-06  7e-08  9e-07 0:03.4\n"
     ]
    },
    {
     "name": "stderr",
     "output_type": "stream",
     "text": [
      "reconstraining parameters GP_regression.Mat52.lengthscale\n",
      "reconstraining parameters GP_regression.Mat52.variance\n",
      "reconstraining parameters GP_regression.Gaussian_noise.variance\n"
     ]
    },
    {
     "name": "stdout",
     "output_type": "stream",
     "text": [
      "termination on tolfun=1e-11 (Wed Sep 16 03:40:37 2020)\n",
      "final/bestever f-value = -4.985921e-02 -4.985921e-02\n",
      "incumbent solution: [0.8892753767115515, 0.6336915031781704, 3.13669321558609, 4.234158688055828, 4.5290353709868265, 3.3393490580954137]\n",
      "std deviation: [6.959660013752354e-08, 3.2493459021940203e-07, 3.397764734888599e-07, 5.684157040029948e-07, 7.700791798421059e-07, 9.238997613625557e-07]\n",
      "Optimization restart 1/10, f = 55.17096302764573\n",
      "Optimization restart 2/10, f = 119.19083678919256\n",
      "Optimization restart 3/10, f = 151.82459356582277\n",
      "Optimization restart 4/10, f = 55.170963027591284\n",
      "Optimization restart 5/10, f = 4195397.885750465\n",
      "Optimization restart 6/10, f = 119.1908367891925\n",
      "Optimization restart 7/10, f = 55.17096302759086\n",
      "Optimization restart 8/10, f = 119.1908367891925\n",
      "Optimization restart 9/10, f = 55.17096302759162\n"
     ]
    },
    {
     "name": "stderr",
     "output_type": "stream",
     "text": [
      "reconstraining parameters GP_regression.Mat52.lengthscale\n",
      "reconstraining parameters GP_regression.Mat52.variance\n",
      "reconstraining parameters GP_regression.Gaussian_noise.variance\n"
     ]
    },
    {
     "name": "stdout",
     "output_type": "stream",
     "text": [
      "Optimization restart 10/10, f = 151.82459363834533\n",
      "Optimization restart 1/10, f = 12.718099360783576\n",
      "Optimization restart 2/10, f = 12.718099360506962\n",
      "Optimization restart 3/10, f = 12.718099360781451\n",
      "Optimization restart 4/10, f = 119.1908367891925\n",
      "Optimization restart 5/10, f = 12.718099360749413\n",
      "Optimization restart 6/10, f = 560.7341263179461\n",
      "Optimization restart 7/10, f = 12.718099360635563\n",
      "Optimization restart 8/10, f = 3030615184.5154963\n",
      "Optimization restart 9/10, f = 3033830096.3309436\n",
      "Optimization restart 10/10, f = 48.00900093046842\n",
      "(4_w,9)-aCMA-ES (mu_w=2.8,w_1=49%) in dimension 6 (seed=298862, Wed Sep 16 03:40:39 2020)\n",
      "Iterat #Fevals   function value  axis ratio  sigma  min&max std  t[m:s]\n",
      "    1      9 1.180668126526891e-01 1.0e+00 2.51e-01  2e-01  3e-01 0:00.0\n",
      "    2     18 3.246997396287243e-02 1.2e+00 2.20e-01  2e-01  2e-01 0:00.0\n",
      "    3     27 3.362334215509932e-02 1.3e+00 2.23e-01  2e-01  2e-01 0:00.1\n",
      "  100    900 -5.018885684397656e-02 9.9e+00 1.36e-03  6e-05  5e-04 0:01.9\n",
      "  161   1449 -5.018886648275256e-02 1.2e+01 1.33e-05  2e-07  1e-06 0:03.1\n"
     ]
    },
    {
     "name": "stderr",
     "output_type": "stream",
     "text": [
      "reconstraining parameters GP_regression.Mat52.lengthscale\n",
      "reconstraining parameters GP_regression.Mat52.variance\n",
      "reconstraining parameters GP_regression.Gaussian_noise.variance\n"
     ]
    },
    {
     "name": "stdout",
     "output_type": "stream",
     "text": [
      "termination on tolfun=1e-11 (Wed Sep 16 03:40:42 2020)\n",
      "final/bestever f-value = -5.018887e-02 -5.018887e-02\n",
      "incumbent solution: [2.997115682844991e-15, 0.3278308739257567, 2.443583273754326, 2.8308036839662645, 6.762441023255289, 2.583118235505967]\n",
      "std deviation: [1.5760954499223637e-07, 1.164288986928433e-06, 4.945710150504915e-07, 6.92633354305019e-07, 1.2228899761714518e-06, 1.1285947762567316e-06]\n",
      "Optimization restart 1/10, f = 53.437844464812855\n",
      "Optimization restart 2/10, f = 120.60977532239718\n",
      "Optimization restart 3/10, f = 120.60977532239727\n",
      "Optimization restart 4/10, f = 567.4095325836358\n",
      "Optimization restart 5/10, f = 2404617181.911979\n",
      "Optimization restart 6/10, f = 120.60977532239718\n",
      "Optimization restart 7/10, f = 53.437844464812684\n",
      "Optimization restart 8/10, f = 120.60977532239718\n"
     ]
    },
    {
     "name": "stderr",
     "output_type": "stream",
     "text": [
      "reconstraining parameters GP_regression.Mat52.lengthscale\n",
      "reconstraining parameters GP_regression.Mat52.variance\n",
      "reconstraining parameters GP_regression.Gaussian_noise.variance\n"
     ]
    },
    {
     "name": "stdout",
     "output_type": "stream",
     "text": [
      "Optimization restart 9/10, f = 53.43784446481276\n",
      "Optimization restart 10/10, f = 4245343.098676066\n",
      "Optimization restart 1/10, f = 16.610469755551954\n",
      "Optimization restart 2/10, f = 58.59935863466026\n",
      "Optimization restart 3/10, f = 16.610469755538688\n",
      "Optimization restart 4/10, f = 3003027189.84665\n",
      "Optimization restart 5/10, f = 16.610469755962313\n",
      "Optimization restart 6/10, f = 16.610469755566342\n",
      "Optimization restart 7/10, f = 16.610469755677478\n",
      "Optimization restart 8/10, f = 16.610469755768804\n",
      "Optimization restart 9/10, f = 567.4095325832682\n",
      "Optimization restart 10/10, f = 16.610469756020095\n",
      "(4_w,9)-aCMA-ES (mu_w=2.8,w_1=49%) in dimension 6 (seed=282293, Wed Sep 16 03:40:45 2020)\n",
      "Iterat #Fevals   function value  axis ratio  sigma  min&max std  t[m:s]\n",
      "    1      9 4.124734765307645e-01 1.0e+00 2.73e-01  3e-01  3e-01 0:00.0\n",
      "    2     18 4.063554187270908e-01 1.4e+00 2.57e-01  2e-01  3e-01 0:00.0\n",
      "    3     27 3.913812130222358e-01 1.5e+00 2.66e-01  2e-01  3e-01 0:00.1\n",
      "  100    900 -2.973068330788475e-02 2.0e+01 2.76e-02  1e-03  2e-02 0:02.4\n",
      "  181   1629 -2.973850920200771e-02 2.2e+01 7.32e-06  7e-08  8e-07 0:04.4\n"
     ]
    },
    {
     "name": "stderr",
     "output_type": "stream",
     "text": [
      "reconstraining parameters GP_regression.Mat52.lengthscale\n",
      "reconstraining parameters GP_regression.Mat52.variance\n",
      "reconstraining parameters GP_regression.Gaussian_noise.variance\n"
     ]
    },
    {
     "name": "stdout",
     "output_type": "stream",
     "text": [
      "termination on tolfun=1e-11 (Wed Sep 16 03:40:49 2020)\n",
      "final/bestever f-value = -2.973851e-02 -2.973851e-02\n",
      "incumbent solution: [1.1547836745789994, 0.4790618902603482, 3.074118910180995, 4.293668864374912, 4.441675970441435, 3.619678058046229]\n",
      "std deviation: [6.590155863442245e-08, 2.429273942002548e-07, 2.3281317521574123e-07, 3.1054518815234417e-07, 4.868746362974279e-07, 8.285515133262449e-07]\n",
      "Optimization restart 1/10, f = 51.525233267720026\n",
      "Optimization restart 2/10, f = 122.02871385560186\n",
      "Optimization restart 3/10, f = 122.02871385560185\n",
      "Optimization restart 4/10, f = 51.525233267635656\n",
      "Optimization restart 5/10, f = 122.02871385560249\n",
      "Optimization restart 6/10, f = 122.02871385560188\n",
      "Optimization restart 7/10, f = 51.5252332676384\n",
      "Optimization restart 8/10, f = 4295288.311601669\n"
     ]
    },
    {
     "name": "stderr",
     "output_type": "stream",
     "text": [
      "reconstraining parameters GP_regression.Mat52.lengthscale\n",
      "reconstraining parameters GP_regression.Mat52.variance\n"
     ]
    },
    {
     "name": "stdout",
     "output_type": "stream",
     "text": [
      "Optimization restart 9/10, f = 51.525233267656596\n",
      "Optimization restart 10/10, f = 51.52523326766566\n"
     ]
    },
    {
     "name": "stderr",
     "output_type": "stream",
     "text": [
      "reconstraining parameters GP_regression.Gaussian_noise.variance\n"
     ]
    },
    {
     "name": "stdout",
     "output_type": "stream",
     "text": [
      "Optimization restart 1/10, f = 13.477969080530187\n",
      "Optimization restart 2/10, f = 13.477969080207558\n",
      "Optimization restart 3/10, f = 3031075142.5030684\n",
      "Optimization restart 4/10, f = 13.47796908055868\n",
      "Optimization restart 5/10, f = 13.477969080173807\n",
      "Optimization restart 6/10, f = 13.477969080306565\n",
      "Optimization restart 7/10, f = 13.477969080708533\n",
      "Optimization restart 8/10, f = 13.477969080548199\n",
      "Optimization restart 9/10, f = 13.477969080073215\n",
      "Optimization restart 10/10, f = 13.477969079992633\n",
      "(4_w,9)-aCMA-ES (mu_w=2.8,w_1=49%) in dimension 6 (seed=262963, Wed Sep 16 03:40:52 2020)\n",
      "Iterat #Fevals   function value  axis ratio  sigma  min&max std  t[m:s]\n",
      "    1      9 4.015216397066865e-01 1.0e+00 2.58e-01  2e-01  3e-01 0:00.0\n",
      "    2     18 3.454592372214900e-01 1.3e+00 2.87e-01  3e-01  3e-01 0:00.1\n",
      "    3     27 3.273484730827652e-01 1.4e+00 2.92e-01  3e-01  3e-01 0:00.1\n",
      "  100    900 -6.294390547274098e-02 7.6e+00 1.57e-03  8e-05  5e-04 0:02.1\n",
      "  168   1512 -6.294391557178169e-02 1.2e+01 8.88e-06  9e-08  9e-07 0:03.6\n",
      "termination on tolfun=1e-11 (Wed Sep 16 03:40:56 2020)\n",
      "final/bestever f-value = -6.294392e-02 -6.294392e-02\n",
      "incumbent solution: [6.349109440603892e-16, 0.6402414665882235, 3.3664672478903204, 3.505365455878671, 5.575487578116295, 3.8514680092214197]\n",
      "std deviation: [9.181136950988045e-08, 2.750438778801931e-07, 4.3555313381400077e-07, 5.787211157955187e-07, 5.521209834327093e-07, 9.467712522635521e-07]\n"
     ]
    },
    {
     "name": "stderr",
     "output_type": "stream",
     "text": [
      "reconstraining parameters GP_regression.Mat52.lengthscale\n",
      "reconstraining parameters GP_regression.Mat52.variance\n",
      "reconstraining parameters GP_regression.Gaussian_noise.variance\n"
     ]
    },
    {
     "name": "stdout",
     "output_type": "stream",
     "text": [
      "Optimization restart 1/10, f = 49.530067434179124\n",
      "Optimization restart 2/10, f = 49.53006743294355\n",
      "Optimization restart 3/10, f = 49.53006743294313\n",
      "Optimization restart 4/10, f = 49.53006743294341\n",
      "Optimization restart 5/10, f = 2391411237.2625794\n",
      "Optimization restart 6/10, f = 49.530067432944364\n",
      "Optimization restart 7/10, f = 146.8092286036033\n",
      "Optimization restart 8/10, f = 123.44765238880652\n",
      "Optimization restart 9/10, f = 49.53006743294258\n"
     ]
    },
    {
     "name": "stderr",
     "output_type": "stream",
     "text": [
      "reconstraining parameters GP_regression.Mat52.lengthscale\n",
      "reconstraining parameters GP_regression.Mat52.variance\n",
      "reconstraining parameters GP_regression.Gaussian_noise.variance\n"
     ]
    },
    {
     "name": "stdout",
     "output_type": "stream",
     "text": [
      "Optimization restart 10/10, f = 49.53006743294255\n",
      "Optimization restart 1/10, f = 13.64066697294789\n",
      "Optimization restart 2/10, f = 123.44765238880652\n",
      "Optimization restart 3/10, f = 13.640666973371331\n",
      "Optimization restart 4/10, f = 123.44765238880652\n",
      "Optimization restart 5/10, f = 59.54199154223339\n",
      "Optimization restart 6/10, f = 13.640666972908349\n",
      "Optimization restart 7/10, f = 13.640666973002226\n",
      "Optimization restart 8/10, f = 13.640666973169253\n",
      "Optimization restart 9/10, f = 13.640666973008884\n",
      "Optimization restart 10/10, f = 580.7603451149777\n",
      "(4_w,9)-aCMA-ES (mu_w=2.8,w_1=49%) in dimension 6 (seed=335025, Wed Sep 16 03:40:59 2020)\n",
      "Iterat #Fevals   function value  axis ratio  sigma  min&max std  t[m:s]\n",
      "    1      9 1.988767937993048e-01 1.0e+00 2.23e-01  2e-01  2e-01 0:00.0\n",
      "    2     18 2.018453809458740e-01 1.2e+00 2.28e-01  2e-01  2e-01 0:00.0\n",
      "    3     27 1.474402802684436e-01 1.3e+00 2.84e-01  2e-01  3e-01 0:00.1\n",
      "  100    900 -1.630822715670188e-02 1.4e+01 1.76e-03  1e-04  7e-04 0:02.5\n",
      "  164   1476 -1.630823195211129e-02 1.3e+01 1.22e-05  1e-07  1e-06 0:03.8\n"
     ]
    },
    {
     "name": "stderr",
     "output_type": "stream",
     "text": [
      "reconstraining parameters GP_regression.Mat52.lengthscale\n",
      "reconstraining parameters GP_regression.Mat52.variance\n",
      "reconstraining parameters GP_regression.Gaussian_noise.variance\n"
     ]
    },
    {
     "name": "stdout",
     "output_type": "stream",
     "text": [
      "termination on tolfun=1e-11 (Wed Sep 16 03:41:03 2020)\n",
      "final/bestever f-value = -1.630823e-02 -1.630823e-02\n",
      "incumbent solution: [1.9368216566426164, 0.3326171972262527, 3.215604576948313, 5.120946086523551, 2.0468840114778772, 5.879930096459899]\n",
      "std deviation: [1.337314127042152e-07, 3.4852844281422384e-07, 4.5793098290561924e-07, 7.65349372803311e-07, 7.522699166564694e-07, 1.037627920218754e-06]\n",
      "Optimization restart 1/10, f = 48.929564943316755\n",
      "Optimization restart 2/10, f = 48.92956494324224\n",
      "Optimization restart 3/10, f = 587.4357513807056\n",
      "Optimization restart 4/10, f = 124.8665909220112\n",
      "Optimization restart 5/10, f = 587.4357513807056\n",
      "Optimization restart 6/10, f = 48.92956494323324\n",
      "Optimization restart 7/10, f = 146.1004306389915\n",
      "Optimization restart 8/10, f = 48.929564943233075\n"
     ]
    },
    {
     "name": "stderr",
     "output_type": "stream",
     "text": [
      "reconstraining parameters GP_regression.Mat52.lengthscale\n",
      "reconstraining parameters GP_regression.Mat52.variance\n",
      "reconstraining parameters GP_regression.Gaussian_noise.variance\n"
     ]
    },
    {
     "name": "stdout",
     "output_type": "stream",
     "text": [
      "Optimization restart 9/10, f = 48.92956494323223\n",
      "Optimization restart 10/10, f = 587.4357513807056\n",
      "Optimization restart 1/10, f = 11.300325259980838\n",
      "Optimization restart 2/10, f = 11.300325260068732\n",
      "Optimization restart 3/10, f = 124.86659092201143\n",
      "Optimization restart 4/10, f = 11.300325259844087\n",
      "Optimization restart 5/10, f = 11.300325259987531\n",
      "Optimization restart 6/10, f = 11.300325259937807\n",
      "Optimization restart 7/10, f = 11.300325259775846\n",
      "Optimization restart 8/10, f = 124.86659092201133\n",
      "Optimization restart 9/10, f = 11.300325259699477\n",
      "Optimization restart 10/10, f = 11.300325260008421\n",
      "(4_w,9)-aCMA-ES (mu_w=2.8,w_1=49%) in dimension 6 (seed=335076, Wed Sep 16 03:41:05 2020)\n",
      "Iterat #Fevals   function value  axis ratio  sigma  min&max std  t[m:s]\n",
      "    1      9 4.460051736631643e-01 1.0e+00 2.28e-01  2e-01  2e-01 0:00.0\n",
      "    2     18 4.352240357462818e-01 1.3e+00 2.27e-01  2e-01  2e-01 0:00.0\n",
      "    3     27 4.428922267664264e-01 1.4e+00 2.38e-01  2e-01  2e-01 0:00.1\n",
      "  100    900 -1.874393283991171e-02 1.1e+01 1.62e-03  8e-05  7e-04 0:02.1\n",
      "  165   1485 -1.874394271558089e-02 6.5e+00 7.75e-06  1e-07  6e-07 0:03.6\n"
     ]
    },
    {
     "name": "stderr",
     "output_type": "stream",
     "text": [
      "reconstraining parameters GP_regression.Mat52.lengthscale\n",
      "reconstraining parameters GP_regression.Mat52.variance\n",
      "reconstraining parameters GP_regression.Gaussian_noise.variance\n"
     ]
    },
    {
     "name": "stdout",
     "output_type": "stream",
     "text": [
      "termination on tolfun=1e-11 (Wed Sep 16 03:41:09 2020)\n",
      "final/bestever f-value = -1.874394e-02 -1.874394e-02\n",
      "incumbent solution: [1.9999999999999662, 1.2585444124495897e-13, 3.1160629902905033, 5.382853678532385, 2.000126899151397, 6.377212727056319]\n",
      "std deviation: [1.0476605400660771e-07, 2.9514345408582415e-07, 2.8899877914286256e-07, 4.2511150047476325e-07, 5.156023923993435e-07, 5.74619518973674e-07]\n",
      "Optimization restart 1/10, f = 48.78976692544161\n",
      "Optimization restart 2/10, f = 48.78976692539749\n",
      "Optimization restart 3/10, f = 126.28552945521588\n",
      "Optimization restart 4/10, f = 126.2855294552163\n",
      "Optimization restart 5/10, f = 126.28552945521591\n",
      "Optimization restart 6/10, f = 48.78976692541418\n",
      "Optimization restart 7/10, f = 48.78976692539642\n",
      "Optimization restart 8/10, f = 126.28552945521588\n",
      "Optimization restart 9/10, f = 126.28552945521591\n"
     ]
    },
    {
     "name": "stderr",
     "output_type": "stream",
     "text": [
      "reconstraining parameters GP_regression.Mat52.lengthscale\n",
      "reconstraining parameters GP_regression.Mat52.variance\n",
      "reconstraining parameters GP_regression.Gaussian_noise.variance\n"
     ]
    },
    {
     "name": "stdout",
     "output_type": "stream",
     "text": [
      "Optimization restart 10/10, f = 48.789766925395426\n",
      "Optimization restart 1/10, f = 8.883200486461973\n",
      "Optimization restart 2/10, f = 3040077162.4847894\n",
      "Optimization restart 3/10, f = 8.883200486345551\n",
      "Optimization restart 4/10, f = 8.88320048609475\n",
      "Optimization restart 5/10, f = 126.28552945521511\n",
      "Optimization restart 6/10, f = 594.1111576463953\n",
      "Optimization restart 7/10, f = 126.28552945521585\n",
      "Optimization restart 8/10, f = 8.883200485920518\n",
      "Optimization restart 9/10, f = 56.239099871836586\n",
      "Optimization restart 10/10, f = 8.883200486225796\n",
      "(4_w,9)-aCMA-ES (mu_w=2.8,w_1=49%) in dimension 6 (seed=372355, Wed Sep 16 03:41:12 2020)\n",
      "Iterat #Fevals   function value  axis ratio  sigma  min&max std  t[m:s]\n",
      "    1      9 5.649780685558161e-01 1.0e+00 2.73e-01  3e-01  3e-01 0:00.0\n",
      "    2     18 5.307223267379835e-01 1.4e+00 3.03e-01  3e-01  3e-01 0:00.1\n",
      "    3     27 1.903100281420014e-01 1.6e+00 3.94e-01  3e-01  5e-01 0:00.1\n",
      "  100    900 2.549976713880708e-02 2.5e+01 6.76e-02  3e-03  7e-02 0:02.7\n",
      "  200   1800 -3.990440921564087e-04 2.6e+01 1.45e+00  3e-02  4e-01 0:06.1\n",
      "  300   2700 -1.079982182662054e-02 1.3e+01 1.81e-03  6e-06  5e-05 0:08.5\n",
      "  337   3033 -1.079982187655304e-02 1.2e+01 7.17e-05  1e-07  8e-07 0:09.4\n"
     ]
    },
    {
     "name": "stderr",
     "output_type": "stream",
     "text": [
      "reconstraining parameters GP_regression.Mat52.lengthscale\n",
      "reconstraining parameters GP_regression.Mat52.variance\n"
     ]
    },
    {
     "name": "stdout",
     "output_type": "stream",
     "text": [
      "termination on tolfun=1e-11 (Wed Sep 16 03:41:22 2020)\n",
      "final/bestever f-value = -1.079982e-02 -1.079982e-02\n",
      "incumbent solution: [1.3098905438037674e-15, 3.662390088007779, 2.953783736623597, 2.624058753278368, 5.063328833482272, 6.410423822809969]\n",
      "std deviation: [1.0675343597177921e-07, 1.1043484781873385e-07, 3.055557647673032e-07, 4.5612351723957536e-07, 7.653540597751105e-07, 8.141326118380149e-07]\n"
     ]
    },
    {
     "name": "stderr",
     "output_type": "stream",
     "text": [
      "reconstraining parameters GP_regression.Gaussian_noise.variance\n"
     ]
    },
    {
     "name": "stdout",
     "output_type": "stream",
     "text": [
      "Optimization restart 1/10, f = 48.949188960433126\n",
      "Optimization restart 2/10, f = 48.94918896042789\n",
      "Optimization restart 3/10, f = 4495069.163304069\n",
      "Optimization restart 4/10, f = 600.7865639120852\n",
      "Optimization restart 5/10, f = 48.94918896042776\n",
      "Optimization restart 6/10, f = 146.51507009121264\n",
      "Optimization restart 7/10, f = 127.70446798842053\n"
     ]
    },
    {
     "name": "stderr",
     "output_type": "stream",
     "text": [
      "reconstraining parameters GP_regression.Mat52.lengthscale\n",
      "reconstraining parameters GP_regression.Mat52.variance\n"
     ]
    },
    {
     "name": "stdout",
     "output_type": "stream",
     "text": [
      "Optimization restart 8/10, f = 127.70446798842059\n",
      "Optimization restart 9/10, f = 127.70446798842497\n",
      "Optimization restart 10/10, f = 600.7865639120852\n"
     ]
    },
    {
     "name": "stderr",
     "output_type": "stream",
     "text": [
      "reconstraining parameters GP_regression.Gaussian_noise.variance\n"
     ]
    },
    {
     "name": "stdout",
     "output_type": "stream",
     "text": [
      "Optimization restart 1/10, f = 7.485946628013814\n",
      "Optimization restart 2/10, f = 7.485946627970385\n",
      "Optimization restart 3/10, f = 7.485946628050392\n",
      "Optimization restart 4/10, f = 127.70446798842056\n",
      "Optimization restart 5/10, f = 600.7865639120852\n",
      "Optimization restart 6/10, f = 7.485946628230643\n",
      "Optimization restart 7/10, f = 7.485946628143488\n",
      "Optimization restart 8/10, f = 7.485946627993123\n",
      "Optimization restart 9/10, f = 127.70446798842056\n",
      "Optimization restart 10/10, f = 7.485946627959706\n",
      "(4_w,9)-aCMA-ES (mu_w=2.8,w_1=49%) in dimension 6 (seed=273950, Wed Sep 16 03:41:25 2020)\n",
      "Iterat #Fevals   function value  axis ratio  sigma  min&max std  t[m:s]\n",
      "    1      9 3.146039167401193e-01 1.0e+00 2.52e-01  2e-01  3e-01 0:00.0\n",
      "    2     18 2.898290203690990e-01 1.3e+00 2.66e-01  2e-01  3e-01 0:00.1\n",
      "    3     27 2.394679196466871e-01 1.3e+00 3.10e-01  3e-01  4e-01 0:00.1\n",
      "  100    900 -6.767536197261137e-02 1.8e+01 7.58e-03  2e-04  4e-03 0:02.1\n",
      "  181   1629 -6.767600144702079e-02 1.9e+01 1.16e-05  8e-08  1e-06 0:03.7\n"
     ]
    },
    {
     "name": "stderr",
     "output_type": "stream",
     "text": [
      "reconstraining parameters GP_regression.Mat52.lengthscale\n"
     ]
    },
    {
     "name": "stdout",
     "output_type": "stream",
     "text": [
      "termination on tolfun=1e-11 (Wed Sep 16 03:41:29 2020)\n",
      "final/bestever f-value = -6.767600e-02 -6.767600e-02\n",
      "incumbent solution: [9.47993499374458e-18, 3.9999999999999933, 2.6682862078948357, 2.406061881153432, 4.452230094736013, 7.060154011194594]\n",
      "std deviation: [7.685916506528296e-08, 1.6757495089861825e-07, 4.838778007208138e-07, 6.903130152419351e-07, 7.963371305606338e-07, 1.34077976306534e-06]\n"
     ]
    },
    {
     "name": "stderr",
     "output_type": "stream",
     "text": [
      "reconstraining parameters GP_regression.Mat52.variance\n",
      "reconstraining parameters GP_regression.Gaussian_noise.variance\n"
     ]
    },
    {
     "name": "stdout",
     "output_type": "stream",
     "text": [
      "Optimization restart 1/10, f = 48.99920687018714\n",
      "Optimization restart 2/10, f = 129.12340652162538\n",
      "Optimization restart 3/10, f = 48.99920687000017\n",
      "Optimization restart 4/10, f = 48.99920687000132\n",
      "Optimization restart 5/10, f = 607.461970177775\n",
      "Optimization restart 6/10, f = 129.12340652162524\n",
      "Optimization restart 7/10, f = 129.1234065216252\n",
      "Optimization restart 8/10, f = 129.12340652162527\n"
     ]
    },
    {
     "name": "stderr",
     "output_type": "stream",
     "text": [
      "reconstraining parameters GP_regression.Mat52.lengthscale\n",
      "reconstraining parameters GP_regression.Mat52.variance\n",
      "reconstraining parameters GP_regression.Gaussian_noise.variance\n"
     ]
    },
    {
     "name": "stdout",
     "output_type": "stream",
     "text": [
      "Optimization restart 9/10, f = 607.461970177775\n",
      "Optimization restart 10/10, f = 129.12340652162524\n",
      "Optimization restart 1/10, f = 5.457970923015253\n",
      "Optimization restart 2/10, f = 5.4579709234095475\n",
      "Optimization restart 3/10, f = 129.1234065216253\n",
      "Optimization restart 4/10, f = 5.457970922810212\n",
      "Optimization restart 5/10, f = 5.457970923232992\n",
      "Optimization restart 6/10, f = 5.457970923085632\n",
      "Optimization restart 7/10, f = 53.16953095866421\n",
      "Optimization restart 8/10, f = 607.461970177775\n",
      "Optimization restart 9/10, f = 5.457970923104462\n",
      "Optimization restart 10/10, f = 5.457970923119397\n",
      "(4_w,9)-aCMA-ES (mu_w=2.8,w_1=49%) in dimension 6 (seed=283122, Wed Sep 16 03:41:32 2020)\n",
      "Iterat #Fevals   function value  axis ratio  sigma  min&max std  t[m:s]\n",
      "    1      9 2.333393167702775e-01 1.0e+00 2.43e-01  2e-01  3e-01 0:00.0\n",
      "    2     18 1.528764654647603e-01 1.3e+00 2.38e-01  2e-01  3e-01 0:00.0\n",
      "    3     27 9.559723503851281e-02 1.5e+00 2.79e-01  2e-01  4e-01 0:00.1\n",
      "  100    900 -4.108109343270971e-02 6.3e+00 2.28e-04  1e-05  7e-05 0:02.1\n",
      "  144   1296 -4.108109351944300e-02 8.0e+00 9.42e-06  2e-07  1e-06 0:03.0\n"
     ]
    },
    {
     "name": "stderr",
     "output_type": "stream",
     "text": [
      "reconstraining parameters GP_regression.Mat52.lengthscale\n",
      "reconstraining parameters GP_regression.Mat52.variance\n",
      "reconstraining parameters GP_regression.Gaussian_noise.variance\n"
     ]
    },
    {
     "name": "stdout",
     "output_type": "stream",
     "text": [
      "termination on tolfun=1e-11 (Wed Sep 16 03:41:35 2020)\n",
      "final/bestever f-value = -4.108109e-02 -4.108109e-02\n",
      "incumbent solution: [2.564131493164382e-14, 3.4625410022202514, 2.705302802840599, 1.7988984965420542, 4.711069567165884, 7.563898887800037]\n",
      "std deviation: [1.8368823614295095e-07, 2.5346614194741163e-07, 3.8353024927012585e-07, 7.996383254954153e-07, 8.107688168895872e-07, 1.1692857670440018e-06]\n",
      "Optimization restart 1/10, f = 49.63671609724957\n",
      "Optimization restart 2/10, f = 130.54234505482987\n",
      "Optimization restart 3/10, f = 49.636716096122306\n",
      "Optimization restart 4/10, f = 614.1373764434647\n",
      "Optimization restart 5/10, f = 49.63671609613373\n",
      "Optimization restart 6/10, f = 130.54234505483004\n",
      "Optimization restart 7/10, f = 614.1373764434647\n",
      "Optimization restart 8/10, f = 49.636716096142926\n"
     ]
    },
    {
     "name": "stderr",
     "output_type": "stream",
     "text": [
      "reconstraining parameters GP_regression.Mat52.lengthscale\n",
      "reconstraining parameters GP_regression.Mat52.variance\n",
      "reconstraining parameters GP_regression.Gaussian_noise.variance\n"
     ]
    },
    {
     "name": "stdout",
     "output_type": "stream",
     "text": [
      "Optimization restart 9/10, f = 49.63671609612234\n",
      "Optimization restart 10/10, f = 49.636716096389186\n",
      "Optimization restart 1/10, f = 4.618137617745724\n",
      "Optimization restart 2/10, f = 4.618137617981141\n",
      "Optimization restart 3/10, f = 3308159428.286639\n",
      "Optimization restart 4/10, f = 4.618137618232083\n",
      "Optimization restart 5/10, f = 4.618137618852586\n",
      "Optimization restart 6/10, f = 4.618137617886326\n",
      "Optimization restart 7/10, f = 52.03667663507171\n",
      "Optimization restart 8/10, f = 4.618137618386214\n",
      "Optimization restart 9/10, f = 4.618137618845452\n",
      "Optimization restart 10/10, f = 52.03668603435122\n",
      "(4_w,9)-aCMA-ES (mu_w=2.8,w_1=49%) in dimension 6 (seed=369688, Wed Sep 16 03:41:38 2020)\n",
      "Iterat #Fevals   function value  axis ratio  sigma  min&max std  t[m:s]\n",
      "    1      9 4.171316090163755e-01 1.0e+00 2.28e-01  2e-01  2e-01 0:00.0\n",
      "    2     18 3.819473090118302e-01 1.2e+00 2.23e-01  2e-01  2e-01 0:00.0\n",
      "    3     27 3.752140549291743e-01 1.3e+00 2.07e-01  2e-01  2e-01 0:00.1\n",
      "  100    900 2.199132359239453e-01 9.8e+01 1.48e-01  6e-03  2e-01 0:02.1\n",
      "  200   1800 1.634385331774388e-01 4.9e+02 6.24e-02  1e-03  4e-02 0:04.2\n",
      "  300   2700 1.631607412383045e-01 2.5e+04 3.89e-03  3e-05  1e-03 0:07.3\n"
     ]
    },
    {
     "name": "stderr",
     "output_type": "stream",
     "text": [
      " /home/finley/miniconda3/envs/testsuite/lib/python3.8/site-packages/cma/utilities/utils.py:329: UserWarning:\n",
      "        geno-pheno transformation introduced based on the\n",
      "        current covariance matrix with condition 1.1e+12 -> 1.0e+00,\n",
      "        injected solutions become \"invalid\" in this iteration (class=CMAEvolutionStrategy method=alleviate_conditioning iteration=375)\n"
     ]
    },
    {
     "name": "stdout",
     "output_type": "stream",
     "text": [
      "  400   3600 1.631607175788501e-01 4.7e+00 1.17e-04  7e-05  1e-04 0:09.6\n",
      "  426   3834 1.631607175732515e-01 2.3e+01 3.19e-05  2e-05  3e-05 0:10.2\n"
     ]
    },
    {
     "name": "stderr",
     "output_type": "stream",
     "text": [
      "reconstraining parameters GP_regression.Mat52.lengthscale\n",
      "reconstraining parameters GP_regression.Mat52.variance\n"
     ]
    },
    {
     "name": "stdout",
     "output_type": "stream",
     "text": [
      "termination on tolfun=1e-11 (Wed Sep 16 03:41:49 2020)\n",
      "final/bestever f-value = 1.631607e-01 1.631607e-01\n",
      "incumbent solution: [1.7191977685595248, 8.128221822598005e-12, 2.358557413549097e-13, 1.3732414639802576e-11, 7.990160340847069, 6.165254487656057]\n",
      "std deviation: [3.258330902378856e-05, 2.0769280273030608e-05, 2.338428351120919e-05, 2.646587792880562e-05, 1.631499017553851e-05, 2.0695030440584394e-05]\n"
     ]
    },
    {
     "name": "stderr",
     "output_type": "stream",
     "text": [
      "reconstraining parameters GP_regression.Gaussian_noise.variance\n"
     ]
    },
    {
     "name": "stdout",
     "output_type": "stream",
     "text": [
      "Optimization restart 1/10, f = 50.538100055966055\n",
      "Optimization restart 2/10, f = 50.53810005586719\n",
      "Optimization restart 3/10, f = 131.96128358803458\n",
      "Optimization restart 4/10, f = 50.53810005615625\n",
      "Optimization restart 5/10, f = 620.8127827091546\n",
      "Optimization restart 6/10, f = 131.96128358803458\n",
      "Optimization restart 7/10, f = 131.96128358803458\n",
      "Optimization restart 8/10, f = 131.96128358803458\n",
      "Optimization restart 9/10, f = 148.78135862020264\n"
     ]
    },
    {
     "name": "stderr",
     "output_type": "stream",
     "text": [
      "reconstraining parameters GP_regression.Mat52.lengthscale\n",
      "reconstraining parameters GP_regression.Mat52.variance\n",
      "reconstraining parameters GP_regression.Gaussian_noise.variance\n"
     ]
    },
    {
     "name": "stdout",
     "output_type": "stream",
     "text": [
      "Optimization restart 10/10, f = 148.78145699860997\n",
      "Optimization restart 1/10, f = 5.482025954571036\n",
      "Optimization restart 2/10, f = 5.482025954215764\n",
      "Optimization restart 3/10, f = 5.482025954125056\n",
      "Optimization restart 4/10, f = 5.482025954375736\n",
      "Optimization restart 5/10, f = 5.4820259543101955\n",
      "Optimization restart 6/10, f = 5.482025954418816\n",
      "Optimization restart 7/10, f = 131.9612835880346\n",
      "Optimization restart 8/10, f = 620.8127827091546\n",
      "Optimization restart 9/10, f = 5.482025954669183\n",
      "Optimization restart 10/10, f = 5.482025954369895\n",
      "(4_w,9)-aCMA-ES (mu_w=2.8,w_1=49%) in dimension 6 (seed=336163, Wed Sep 16 03:41:52 2020)\n",
      "Iterat #Fevals   function value  axis ratio  sigma  min&max std  t[m:s]\n",
      "    1      9 2.131911436024319e-01 1.0e+00 2.48e-01  2e-01  3e-01 0:00.0\n",
      "    2     18 1.838719077319371e-01 1.2e+00 2.80e-01  3e-01  3e-01 0:00.1\n",
      "    3     27 1.645793884401918e-01 1.5e+00 3.30e-01  3e-01  4e-01 0:00.1\n",
      "  100    900 1.112307922461429e-01 7.4e+00 4.64e-04  3e-05  2e-04 0:02.6\n",
      "  156   1404 1.112307904951697e-01 1.1e+01 5.57e-06  9e-08  9e-07 0:04.0\n"
     ]
    },
    {
     "name": "stderr",
     "output_type": "stream",
     "text": [
      "reconstraining parameters GP_regression.Mat52.lengthscale\n"
     ]
    },
    {
     "name": "stdout",
     "output_type": "stream",
     "text": [
      "termination on tolfun=1e-11 (Wed Sep 16 03:41:56 2020)\n",
      "final/bestever f-value = 1.112308e-01 1.112308e-01\n",
      "incumbent solution: [1.9119745711185556e-15, 3.999999999999746, 1.288610329959336e-13, 2.0759421247462367e-21, 1.9767880086922753e-14, 11.999999999999961]\n",
      "std deviation: [9.287434644982497e-08, 4.5895877173520937e-07, 2.556569964306707e-07, 1.6373507152626135e-07, 1.6817600498367254e-07, 8.939578315872346e-07]\n"
     ]
    },
    {
     "name": "stderr",
     "output_type": "stream",
     "text": [
      "reconstraining parameters GP_regression.Mat52.variance\n",
      "reconstraining parameters GP_regression.Gaussian_noise.variance\n"
     ]
    },
    {
     "name": "stdout",
     "output_type": "stream",
     "text": [
      "Optimization restart 1/10, f = 51.43436148334749\n",
      "Optimization restart 2/10, f = 2607867963.961516\n",
      "Optimization restart 3/10, f = 51.4343614830744\n",
      "Optimization restart 4/10, f = 51.43436148307444\n",
      "Optimization restart 5/10, f = 133.38022212123923\n",
      "Optimization restart 6/10, f = 2598791221.1258883\n",
      "Optimization restart 7/10, f = 151.0295557626613\n",
      "Optimization restart 8/10, f = 133.38022212123923\n",
      "Optimization restart 9/10, f = 151.02955648213316\n"
     ]
    },
    {
     "name": "stderr",
     "output_type": "stream",
     "text": [
      "reconstraining parameters GP_regression.Mat52.lengthscale\n",
      "reconstraining parameters GP_regression.Mat52.variance\n",
      "reconstraining parameters GP_regression.Gaussian_noise.variance\n"
     ]
    },
    {
     "name": "stdout",
     "output_type": "stream",
     "text": [
      "Optimization restart 10/10, f = 51.434361483077545\n",
      "Optimization restart 1/10, f = 5.486586177132168\n",
      "Optimization restart 2/10, f = 5.486586178152933\n",
      "Optimization restart 3/10, f = 4694850.015006471\n",
      "Optimization restart 4/10, f = 5.48658617780309\n",
      "Optimization restart 5/10, f = 133.38022212123923\n",
      "Optimization restart 6/10, f = 133.38022212123923\n",
      "Optimization restart 7/10, f = 133.3801401302884\n",
      "Optimization restart 8/10, f = 5.486586177219124\n",
      "Optimization restart 9/10, f = 5.486586177635708\n",
      "Optimization restart 10/10, f = 5.486586177615941\n",
      "(4_w,9)-aCMA-ES (mu_w=2.8,w_1=49%) in dimension 6 (seed=255413, Wed Sep 16 03:42:02 2020)\n",
      "Iterat #Fevals   function value  axis ratio  sigma  min&max std  t[m:s]\n",
      "    1      9 5.315281722025440e-01 1.0e+00 2.79e-01  3e-01  3e-01 0:00.0\n",
      "    2     18 4.866541788111538e-01 1.3e+00 3.10e-01  3e-01  3e-01 0:00.1\n",
      "    3     27 4.055630445176273e-01 1.4e+00 3.90e-01  4e-01  4e-01 0:00.1\n",
      "  100    900 -3.462319173838146e-02 1.2e+01 2.38e-02  1e-03  9e-03 0:02.1\n",
      "  196   1764 -3.463064959681006e-02 1.8e+01 1.21e-05  7e-08  8e-07 0:04.0\n"
     ]
    },
    {
     "name": "stderr",
     "output_type": "stream",
     "text": [
      "reconstraining parameters GP_regression.Mat52.lengthscale\n"
     ]
    },
    {
     "name": "stdout",
     "output_type": "stream",
     "text": [
      "termination on tolfun=1e-11 (Wed Sep 16 03:42:06 2020)\n",
      "final/bestever f-value = -3.463065e-02 -3.463065e-02\n",
      "incumbent solution: [0.6330253005546265, 0.43312905987998107, 2.8605917900672075, 3.611199194204658, 5.34624707173129, 3.0610342377725677]\n",
      "std deviation: [6.574512904705319e-08, 3.579361118140829e-07, 4.575646688800558e-07, 6.692279069739292e-07, 6.524373057149994e-07, 7.788835688650505e-07]\n"
     ]
    },
    {
     "name": "stderr",
     "output_type": "stream",
     "text": [
      "reconstraining parameters GP_regression.Mat52.variance\n",
      "reconstraining parameters GP_regression.Gaussian_noise.variance\n"
     ]
    },
    {
     "name": "stdout",
     "output_type": "stream",
     "text": [
      "Optimization restart 1/10, f = 49.273265514854\n",
      "Optimization restart 2/10, f = 49.273265514852554\n",
      "Optimization restart 3/10, f = 49.27326551494214\n",
      "Optimization restart 4/10, f = 49.27326551485203\n",
      "Optimization restart 5/10, f = 134.7991606544439\n",
      "Optimization restart 6/10, f = 634.1635952405343\n",
      "Optimization restart 7/10, f = 49.273265514858\n",
      "Optimization restart 8/10, f = 134.7991595111814\n",
      "Optimization restart 9/10, f = 134.79916053858557\n"
     ]
    },
    {
     "name": "stderr",
     "output_type": "stream",
     "text": [
      "reconstraining parameters GP_regression.Mat52.lengthscale\n",
      "reconstraining parameters GP_regression.Mat52.variance\n",
      "reconstraining parameters GP_regression.Gaussian_noise.variance\n"
     ]
    },
    {
     "name": "stdout",
     "output_type": "stream",
     "text": [
      "Optimization restart 10/10, f = 134.79916065444388\n",
      "Optimization restart 1/10, f = 3.315047243220654\n",
      "Optimization restart 2/10, f = 134.799160654444\n",
      "Optimization restart 3/10, f = 3436835335.0260935\n",
      "Optimization restart 4/10, f = 134.79916065444394\n",
      "Optimization restart 5/10, f = 3433762592.704961\n",
      "Optimization restart 6/10, f = 134.7991606544439\n",
      "Optimization restart 7/10, f = 3.3150472434860347\n",
      "Optimization restart 8/10, f = 134.7991606544439\n",
      "Optimization restart 9/10, f = 134.79916065444405\n",
      "Optimization restart 10/10, f = 134.79916065444422\n",
      "(4_w,9)-aCMA-ES (mu_w=2.8,w_1=49%) in dimension 6 (seed=239037, Wed Sep 16 03:42:09 2020)\n",
      "Iterat #Fevals   function value  axis ratio  sigma  min&max std  t[m:s]\n",
      "    1      9 2.885621415797450e-01 1.0e+00 2.19e-01  2e-01  2e-01 0:00.0\n",
      "    2     18 2.117778173029556e-01 1.1e+00 2.26e-01  2e-01  2e-01 0:00.0\n",
      "    3     27 1.696538548863806e-01 1.3e+00 2.20e-01  2e-01  2e-01 0:00.1\n",
      "  100    900 -1.791971519160995e-02 1.6e+01 2.95e-04  1e-05  1e-04 0:02.9\n",
      "  143   1287 -1.791971557533678e-02 1.6e+01 9.05e-06  1e-07  1e-06 0:04.4\n",
      "termination on tolfun=1e-11 (Wed Sep 16 03:42:13 2020)\n",
      "final/bestever f-value = -1.791972e-02 -1.791972e-02\n",
      "incumbent solution: [0.7579004084282576, 0.5229415874819753, 2.971416692533192, 3.972931910057811, 4.917640267925886, 3.0029120109917526]\n",
      "std deviation: [1.2639501744791523e-07, 4.802712751883383e-07, 4.769242786603615e-07, 6.976043126749125e-07, 1.0890099042791672e-06, 1.2051380755992668e-06]\n"
     ]
    },
    {
     "name": "stderr",
     "output_type": "stream",
     "text": [
      "reconstraining parameters GP_regression.Mat52.lengthscale\n",
      "reconstraining parameters GP_regression.Mat52.variance\n",
      "reconstraining parameters GP_regression.Gaussian_noise.variance\n"
     ]
    },
    {
     "name": "stdout",
     "output_type": "stream",
     "text": [
      "Optimization restart 1/10, f = 49.603978167126925\n",
      "Optimization restart 2/10, f = 2595757484.729904\n",
      "Optimization restart 3/10, f = 49.60397816680867\n",
      "Optimization restart 4/10, f = 136.2180991876486\n",
      "Optimization restart 5/10, f = 136.2180991876594\n",
      "Optimization restart 6/10, f = 136.21809918764865\n",
      "Optimization restart 7/10, f = 49.60397816680427\n",
      "Optimization restart 8/10, f = 49.60397816681002\n"
     ]
    },
    {
     "name": "stderr",
     "output_type": "stream",
     "text": [
      "reconstraining parameters GP_regression.Mat52.lengthscale\n",
      "reconstraining parameters GP_regression.Mat52.variance\n",
      "reconstraining parameters GP_regression.Gaussian_noise.variance\n"
     ]
    },
    {
     "name": "stdout",
     "output_type": "stream",
     "text": [
      "Optimization restart 9/10, f = 136.2180991876486\n",
      "Optimization restart 10/10, f = 640.8390015062242\n",
      "Optimization restart 1/10, f = 1.5110335089169808\n",
      "Optimization restart 2/10, f = 50.474827077612105\n",
      "Optimization restart 3/10, f = 1.511033508701118\n",
      "Optimization restart 4/10, f = 1.5110335088719609\n",
      "Optimization restart 5/10, f = 1.5110335088457276\n",
      "Optimization restart 6/10, f = 1.5110335085689854\n",
      "Optimization restart 7/10, f = 640.8390015062242\n",
      "Optimization restart 8/10, f = 4794740.440857674\n",
      "Optimization restart 9/10, f = 136.218099187649\n",
      "Optimization restart 10/10, f = 136.21809918764856\n",
      "(4_w,9)-aCMA-ES (mu_w=2.8,w_1=49%) in dimension 6 (seed=286611, Wed Sep 16 03:42:17 2020)\n",
      "Iterat #Fevals   function value  axis ratio  sigma  min&max std  t[m:s]\n",
      "    1      9 1.494888738057196e-01 1.0e+00 2.58e-01  2e-01  3e-01 0:00.0\n",
      "    2     18 8.291366739818473e-02 1.3e+00 2.95e-01  3e-01  4e-01 0:00.0\n",
      "    3     27 1.963516927065800e-02 1.7e+00 3.00e-01  3e-01  4e-01 0:00.1\n",
      "  100    900 -2.279981905187967e-02 6.5e+00 2.12e-04  1e-05  5e-05 0:01.9\n",
      "  143   1287 -2.279981912501938e-02 7.0e+00 7.32e-06  1e-07  7e-07 0:02.8\n"
     ]
    },
    {
     "name": "stderr",
     "output_type": "stream",
     "text": [
      "reconstraining parameters GP_regression.Mat52.lengthscale\n"
     ]
    },
    {
     "name": "stdout",
     "output_type": "stream",
     "text": [
      "termination on tolfun=1e-11 (Wed Sep 16 03:42:20 2020)\n",
      "final/bestever f-value = -2.279982e-02 -2.279982e-02\n",
      "incumbent solution: [0.11712719250831405, 3.999999999999984, 2.7195375625260185, 3.0540545089816997, 4.705799668955571, 6.537161838284051]\n",
      "std deviation: [1.140196813273889e-07, 6.414944626194062e-07, 2.9601386813801885e-07, 3.9928396198691137e-07, 6.974041193308647e-07, 5.98663820057047e-07]\n"
     ]
    },
    {
     "name": "stderr",
     "output_type": "stream",
     "text": [
      "reconstraining parameters GP_regression.Mat52.variance\n",
      "reconstraining parameters GP_regression.Gaussian_noise.variance\n"
     ]
    },
    {
     "name": "stdout",
     "output_type": "stream",
     "text": [
      "Optimization restart 1/10, f = 49.48622192647327\n",
      "Optimization restart 2/10, f = 137.63703772085327\n",
      "Optimization restart 3/10, f = 49.48622192619666\n",
      "Optimization restart 4/10, f = 49.486221926191455\n",
      "Optimization restart 5/10, f = 647.514407771914\n",
      "Optimization restart 6/10, f = 137.63703772085324\n",
      "Optimization restart 7/10, f = 137.63703772085324\n",
      "Optimization restart 8/10, f = 49.48622192619258\n",
      "Optimization restart 9/10, f = 137.63703772085353\n"
     ]
    },
    {
     "name": "stderr",
     "output_type": "stream",
     "text": [
      "reconstraining parameters GP_regression.Mat52.lengthscale\n",
      "reconstraining parameters GP_regression.Mat52.variance\n",
      "reconstraining parameters GP_regression.Gaussian_noise.variance\n"
     ]
    },
    {
     "name": "stdout",
     "output_type": "stream",
     "text": [
      "Optimization restart 10/10, f = 49.48622192620286\n",
      "Optimization restart 1/10, f = 0.20157209193868653\n",
      "Optimization restart 2/10, f = 137.63703772085321\n",
      "Optimization restart 3/10, f = 52.41469947348304\n",
      "Optimization restart 4/10, f = 0.2015720923130786\n",
      "Optimization restart 5/10, f = 0.20157209217083505\n",
      "Optimization restart 6/10, f = 52.41446647899461\n",
      "Optimization restart 7/10, f = 0.20157209208363014\n",
      "Optimization restart 8/10, f = 137.63703772085324\n",
      "Optimization restart 9/10, f = 0.20157209220287342\n",
      "Optimization restart 10/10, f = 0.20157209187473768\n",
      "(4_w,9)-aCMA-ES (mu_w=2.8,w_1=49%) in dimension 6 (seed=362662, Wed Sep 16 03:42:23 2020)\n",
      "Iterat #Fevals   function value  axis ratio  sigma  min&max std  t[m:s]\n",
      "    1      9 3.946947953248527e-01 1.0e+00 2.45e-01  2e-01  3e-01 0:00.0\n",
      "    2     18 3.503830641132983e-01 1.3e+00 2.49e-01  2e-01  3e-01 0:00.1\n",
      "    3     27 3.644888291655377e-01 1.5e+00 2.36e-01  2e-01  3e-01 0:00.1\n",
      "  100    900 -1.222134325234325e-02 6.1e+00 3.67e-03  3e-04  2e-03 0:02.0\n",
      "  176   1584 -1.222144375335965e-02 1.0e+01 8.83e-06  1e-07  7e-07 0:03.5\n"
     ]
    },
    {
     "name": "stderr",
     "output_type": "stream",
     "text": [
      "reconstraining parameters GP_regression.Mat52.lengthscale\n",
      "reconstraining parameters GP_regression.Mat52.variance\n"
     ]
    },
    {
     "name": "stdout",
     "output_type": "stream",
     "text": [
      "termination on tolfun=1e-11 (Wed Sep 16 03:42:27 2020)\n",
      "final/bestever f-value = -1.222144e-02 -1.222144e-02\n",
      "incumbent solution: [7.035356422245018e-17, 3.1413518903431066, 2.9626494657880516, 2.7736300478443283, 4.924577817740302, 5.483182654869774]\n",
      "std deviation: [2.2104691604766616e-07, 9.591009669024972e-08, 3.162881705996641e-07, 4.332360618632547e-07, 7.354859973396855e-07, 7.022637752718898e-07]\n"
     ]
    },
    {
     "name": "stderr",
     "output_type": "stream",
     "text": [
      "reconstraining parameters GP_regression.Gaussian_noise.variance\n"
     ]
    },
    {
     "name": "stdout",
     "output_type": "stream",
     "text": [
      "Optimization restart 1/10, f = 49.094120578860675\n",
      "Optimization restart 2/10, f = 654.1898140376038\n",
      "Optimization restart 3/10, f = 139.05597625411625\n",
      "Optimization restart 4/10, f = 139.05597625405792\n",
      "Optimization restart 5/10, f = 49.094120578603786\n",
      "Optimization restart 6/10, f = 139.05597625405784\n",
      "Optimization restart 7/10, f = 49.094120578609584\n",
      "Optimization restart 8/10, f = 4894630.866708876\n",
      "Optimization restart 9/10, f = 139.05597625405792\n"
     ]
    },
    {
     "name": "stderr",
     "output_type": "stream",
     "text": [
      "reconstraining parameters GP_regression.Mat52.lengthscale\n",
      "reconstraining parameters GP_regression.Mat52.variance\n",
      "reconstraining parameters GP_regression.Gaussian_noise.variance\n"
     ]
    },
    {
     "name": "stdout",
     "output_type": "stream",
     "text": [
      "Optimization restart 10/10, f = 49.09412057860398\n",
      "Optimization restart 1/10, f = -1.7127689496442713\n",
      "Optimization restart 2/10, f = 139.05597625405792\n",
      "Optimization restart 3/10, f = -1.712768949266163\n",
      "Optimization restart 4/10, f = -1.7127689494221343\n",
      "Optimization restart 5/10, f = 654.1898140376038\n",
      "Optimization restart 6/10, f = 139.05597625405798\n",
      "Optimization restart 7/10, f = -1.7127689490166844\n",
      "Optimization restart 8/10, f = 3574346928.17221\n",
      "Optimization restart 9/10, f = -1.712768949137974\n",
      "Optimization restart 10/10, f = -1.7127689490168265\n",
      "(4_w,9)-aCMA-ES (mu_w=2.8,w_1=49%) in dimension 6 (seed=351219, Wed Sep 16 03:42:29 2020)\n",
      "Iterat #Fevals   function value  axis ratio  sigma  min&max std  t[m:s]\n",
      "    1      9 4.815562193747702e-01 1.0e+00 2.42e-01  2e-01  3e-01 0:00.0\n",
      "    2     18 4.644956997179417e-01 1.4e+00 2.68e-01  2e-01  3e-01 0:00.0\n",
      "    3     27 4.347025501718851e-01 1.4e+00 3.23e-01  3e-01  3e-01 0:00.1\n",
      "  100    900 -2.911266157810033e-02 1.1e+01 1.91e-03  9e-05  6e-04 0:02.0\n",
      "  163   1467 -2.911269926306126e-02 1.5e+01 6.40e-06  6e-08  6e-07 0:03.2\n"
     ]
    },
    {
     "name": "stderr",
     "output_type": "stream",
     "text": [
      "reconstraining parameters GP_regression.Mat52.lengthscale\n"
     ]
    },
    {
     "name": "stdout",
     "output_type": "stream",
     "text": [
      "termination on tolfun=1e-11 (Wed Sep 16 03:42:33 2020)\n",
      "final/bestever f-value = -2.911270e-02 -2.911270e-02\n",
      "incumbent solution: [0.9333272946375479, 0.4833431505695576, 2.81314567612024, 4.210934737227668, 4.663791440471458, 2.5614208225010406]\n",
      "std deviation: [5.80169898703212e-08, 2.439490294083274e-07, 3.3810905074418435e-07, 4.037798979601519e-07, 5.55887696821968e-07, 6.06441734225795e-07]\n"
     ]
    },
    {
     "name": "stderr",
     "output_type": "stream",
     "text": [
      "reconstraining parameters GP_regression.Mat52.variance\n",
      "reconstraining parameters GP_regression.Gaussian_noise.variance\n"
     ]
    },
    {
     "name": "stdout",
     "output_type": "stream",
     "text": [
      "Optimization restart 1/10, f = 50.24210752942895\n",
      "Optimization restart 2/10, f = 167.23771042755905\n",
      "Optimization restart 3/10, f = 140.47488778302628\n",
      "Optimization restart 4/10, f = 660.8652203032888\n",
      "Optimization restart 5/10, f = 140.4749147872626\n",
      "Optimization restart 6/10, f = 50.242107529431145\n",
      "Optimization restart 7/10, f = 50.242107529427045\n",
      "Optimization restart 8/10, f = 140.4749147872627\n",
      "Optimization restart 9/10, f = 660.8652203032937\n"
     ]
    },
    {
     "name": "stderr",
     "output_type": "stream",
     "text": [
      "reconstraining parameters GP_regression.Mat52.lengthscale\n",
      "reconstraining parameters GP_regression.Mat52.variance\n",
      "reconstraining parameters GP_regression.Gaussian_noise.variance\n"
     ]
    },
    {
     "name": "stdout",
     "output_type": "stream",
     "text": [
      "Optimization restart 10/10, f = 50.242107529433596\n",
      "Optimization restart 1/10, f = 5.712919408282872\n",
      "Optimization restart 2/10, f = 68.07163171094001\n",
      "Optimization restart 3/10, f = 5.712919408331807\n",
      "Optimization restart 4/10, f = 140.4749147872647\n",
      "Optimization restart 5/10, f = 5.712919407876832\n",
      "Optimization restart 6/10, f = 140.47491478726258\n",
      "Optimization restart 7/10, f = 4944576.0796344755\n",
      "Optimization restart 8/10, f = 68.05856621932496\n",
      "Optimization restart 9/10, f = 5.712919407858564\n",
      "Optimization restart 10/10, f = 5.712919408226483\n",
      "(4_w,9)-aCMA-ES (mu_w=2.8,w_1=49%) in dimension 6 (seed=345367, Wed Sep 16 03:42:36 2020)\n",
      "Iterat #Fevals   function value  axis ratio  sigma  min&max std  t[m:s]\n",
      "    1      9 2.096215407229005e-01 1.0e+00 2.73e-01  3e-01  3e-01 0:00.0\n",
      "    2     18 2.002108722660330e-01 1.4e+00 2.99e-01  3e-01  4e-01 0:00.0\n",
      "    3     27 2.113693538300669e-01 1.7e+00 2.97e-01  3e-01  4e-01 0:00.1\n",
      "  100    900 -2.521657561304202e-02 2.7e+01 3.53e-03  1e-04  2e-03 0:02.6\n",
      "  177   1593 -2.521660663800951e-02 3.6e+01 1.82e-05  1e-07  2e-06 0:05.1\n",
      "termination on tolfun=1e-11 (Wed Sep 16 03:42:41 2020)\n",
      "final/bestever f-value = -2.521661e-02 -2.521661e-02\n",
      "incumbent solution: [1.3909690499546021, 0.012627358655640174, 3.4088501495446035, 4.634562082625827, 2.9135428209914815, 6.532204080789704]\n",
      "std deviation: [1.4148106433553856e-07, 1.0610100062690716e-06, 5.141123005249765e-07, 1.312669529361273e-06, 1.5282789340639263e-06, 2.2263550629409518e-06]\n"
     ]
    }
   ],
   "source": [
    "opt.optimise()"
   ]
  },
  {
   "cell_type": "code",
   "execution_count": 7,
   "metadata": {},
   "outputs": [],
   "source": [
    "import pickle\n",
    "D = opt.log_data.copy() \n",
    "# D[\"surrogate_models\"] = D[\"surrogate_models\"][0]"
   ]
  },
  {
   "cell_type": "code",
   "execution_count": 8,
   "metadata": {},
   "outputs": [],
   "source": [
    "pickle.dump(D, open(\"./test.pkl\", \"wb\"), protocol=2)"
   ]
  },
  {
   "cell_type": "code",
   "execution_count": 9,
   "metadata": {},
   "outputs": [],
   "source": [
    "A = pickle.load(open(\"./test.pkl\", \"rb\"))"
   ]
  },
  {
   "cell_type": "code",
   "execution_count": 11,
   "metadata": {},
   "outputs": [
    {
     "data": {
      "text/html": [
       "<style type=\"text/css\">\n",
       ".pd{\n",
       "    font-family: \"Courier New\", Courier, monospace !important;\n",
       "    width: 100%;\n",
       "    padding: 3px;\n",
       "}\n",
       "</style>\n",
       "\n",
       "<p class=pd>\n",
       "<b>Model</b>: GP regression<br>\n",
       "<b>Objective</b>: 13.006901724080981<br>\n",
       "<b>Number of Parameters</b>: 3<br>\n",
       "<b>Number of Optimization Parameters</b>: 2<br>\n",
       "<b>Updates</b>: True<br>\n",
       "</p>\n",
       "<style type=\"text/css\">\n",
       ".tg  {font-family:\"Courier New\", Courier, monospace !important;padding:2px 3px;word-break:normal;border-collapse:collapse;border-spacing:0;border-color:#DCDCDC;margin:0px auto;width:100%;}\n",
       ".tg td{font-family:\"Courier New\", Courier, monospace !important;font-weight:bold;color:#444;background-color:#F7FDFA;border-style:solid;border-width:1px;overflow:hidden;word-break:normal;border-color:#DCDCDC;}\n",
       ".tg th{font-family:\"Courier New\", Courier, monospace !important;font-weight:normal;color:#fff;background-color:#26ADE4;border-style:solid;border-width:1px;overflow:hidden;word-break:normal;border-color:#DCDCDC;}\n",
       ".tg .tg-left{font-family:\"Courier New\", Courier, monospace !important;font-weight:normal;text-align:left;}\n",
       ".tg .tg-center{font-family:\"Courier New\", Courier, monospace !important;font-weight:normal;text-align:center;}\n",
       ".tg .tg-right{font-family:\"Courier New\", Courier, monospace !important;font-weight:normal;text-align:right;}\n",
       "</style>\n",
       "<table class=\"tg\"><tr><th><b>  GP_regression.         </b></th><th><b>             value</b></th><th><b>    constraints     </b></th><th><b>priors</b></th></tr>\n",
       "<tr><td class=tg-left>  Mat52.variance         </td><td class=tg-right>1.3025834230352482</td><td class=tg-center>   1e-05,100000.0   </td><td class=tg-center>      </td></tr>\n",
       "<tr><td class=tg-left>  Mat52.lengthscale      </td><td class=tg-right> 2.942531871974854</td><td class=tg-center>   1e-05,100000.0   </td><td class=tg-center>      </td></tr>\n",
       "<tr><td class=tg-left>  Gaussian_noise.variance</td><td class=tg-right>             1e-20</td><td class=tg-center>1e-05,100000.0 fixed</td><td class=tg-center>      </td></tr>\n",
       "</table>"
      ],
      "text/plain": [
       "<GPy.models.gp_regression.GPRegression at 0x7f7c7b9138b0>"
      ]
     },
     "execution_count": 11,
     "metadata": {},
     "output_type": "execute_result"
    }
   ],
   "source": [
    "A[\"surrogate_models\"][0][0]"
   ]
  },
  {
   "cell_type": "code",
   "execution_count": 7,
   "metadata": {},
   "outputs": [
    {
     "data": {
      "text/plain": [
       "<matplotlib.collections.PathCollection at 0x7f4e390e1790>"
      ]
     },
     "execution_count": 7,
     "metadata": {},
     "output_type": "execute_result"
    },
    {
     "data": {
      "image/png": "[encoded data removed]",
      "text/plain": [
       "<Figure size 432x288 with 1 Axes>"
      ]
     },
     "metadata": {
      "needs_background": "light"
     },
     "output_type": "display_data"
    }
   ],
   "source": [
    "plt.scatter(opt.y[:,0], opt.y[:,1], )"
   ]
  },
  {
   "cell_type": "code",
   "execution_count": null,
   "metadata": {},
   "outputs": [],
   "source": []
  }
 ],
 "metadata": {
  "kernelspec": {
   "display_name": "testsuite",
   "language": "python",
   "name": "testsuite"
  },
  "language_info": {
   "codemirror_mode": {
    "name": "ipython",
    "version": 3
   },
   "file_extension": ".py",
   "mimetype": "text/x-python",
   "name": "python",
   "nbconvert_exporter": "python",
   "pygments_lexer": "ipython3",
   "version": "3.8.3"
  },
  "varInspector": {
   "cols": {
    "lenName": 16,
    "lenType": 16,
    "lenVar": 40
   },
   "kernels_config": {
    "python": {
     "delete_cmd_postfix": "",
     "delete_cmd_prefix": "del ",
     "library": "var_list.py",
     "varRefreshCmd": "print(var_dic_list())"
    },
    "r": {
     "delete_cmd_postfix": ") ",
     "delete_cmd_prefix": "rm(",
     "library": "var_list.r",
     "varRefreshCmd": "cat(var_dic_list()) "
    }
   },
   "types_to_exclude": [
    "module",
    "function",
    "builtin_function_or_method",
    "instance",
    "_Feature"
   ],
   "window_display": false
  }
 },
 "nbformat": 4,
 "nbformat_minor": 4
}
