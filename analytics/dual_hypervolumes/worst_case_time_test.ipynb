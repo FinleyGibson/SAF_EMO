{
 "cells": [
  {
   "cell_type": "code",
   "execution_count": 1,
   "metadata": {},
   "outputs": [],
   "source": [
    "import sys\n",
    "import rootpath\n",
    "sys.path.append(rootpath.detect())\n",
    "import os\n",
    "import time"
   ]
  },
  {
   "cell_type": "code",
   "execution_count": 2,
   "metadata": {},
   "outputs": [],
   "source": [
    "import json\n",
    "import numpy as np\n",
    "import matplotlib.pyplot as plt\n",
    "from tqdm import tqdm"
   ]
  },
  {
   "cell_type": "code",
   "execution_count": 3,
   "metadata": {},
   "outputs": [],
   "source": [
    "from testsuite.utilities import dominates, dominated"
   ]
  },
  {
   "cell_type": "code",
   "execution_count": 4,
   "metadata": {},
   "outputs": [],
   "source": [
    "from testsuite.results import Result"
   ]
  },
  {
   "cell_type": "code",
   "execution_count": 99,
   "metadata": {},
   "outputs": [],
   "source": [
    "def montecarlo_case(case, samples, P, va_r=None, vb_r=None):\n",
    "    samples = int(samples)\n",
    "    resolution = int(np.sqrt(samples)/5)\n",
    "    \n",
    "    xy = np.vstack([np.random.uniform(0, i, samples) for i in case['ref_point']]).T\n",
    "    t_ideal = case['target'].min(axis=0)\n",
    "    t_az = case['target'].max(axis=0)\n",
    "    \n",
    "    if va_r is None or vb_r is None:\n",
    "        va_r = xy[[dominates(case['target'], xy)]]\n",
    "        vb_r = xy[[np.any([dominates(pi, xyi) for pi in P]) and np.any([dominates(xyi, t) for t in case['target']]) for xyi in xy]]\n",
    "        \n",
    "#     if va_r is None or vb_r is None:\n",
    "#         va_r = xy[[dominates(case['target'], xy) and dominates(xyi, case['ref_point']) for xyi in xy]]\n",
    "#         vb_r = xy[[np.any([dominates(pi, xyi) for pi in P]) and np.any([dominates(xyi, t) for t in case['target']]) for xyi in xy]]\n",
    "        \n",
    "    va = va_r[[dominates(case['target'], xyi) and dominates(case['p'], xyi)  for xyi in va_r]]\n",
    "    vb = vb_r[[np.any([dominates(xyi, t) for t in case['target']]) and dominates(case['p'], xyi) for xyi in vb_r]]\n",
    "    \n",
    "    va_frac = np.round(len(va)/len(va_r), 3)\n",
    "    vb_frac = np.round(len(vb)/len(vb_r), 3)\n",
    "    \n",
    "    return va, vb, va_r, vb_r"
   ]
  },
  {
   "cell_type": "code",
   "execution_count": 6,
   "metadata": {},
   "outputs": [
    {
     "data": {
      "text/plain": [
       "True"
      ]
     },
     "execution_count": 6,
     "metadata": {},
     "output_type": "execute_result"
    }
   ],
   "source": [
    "# load an instance\n",
    "path = os.path.join(rootpath.detect(), \"experiments/directed/data_undirected_comp/wfg5_4obj_10dim/log_data/OF_objective_function__opt_Saf__ninit_10__surrogate_MultiSurrogateGP__ei_False\",\n",
    "                   \"OF_objective_function__opt_Saf__ninit_10__surrogate_MultiSurrogateGP__ei_False__seed_30__uuid_7c4534bc-0456-11ec-8d33-f1bd6cdeb6ef_results.pkl\")\n",
    "os.path.isfile(path)"
   ]
  },
  {
   "cell_type": "code",
   "execution_count": 7,
   "metadata": {},
   "outputs": [],
   "source": [
    "result = Result(path)"
   ]
  },
  {
   "cell_type": "code",
   "execution_count": 8,
   "metadata": {},
   "outputs": [],
   "source": [
    "ref_path = os.path.join(rootpath.detect(), \"experiments/directed/template/targets/reference_points\")\n",
    "os.path.isfile(ref_path)\n",
    "with open(ref_path, \"r\") as infile: \n",
    "    ref_D = json.load(infile)"
   ]
  },
  {
   "cell_type": "code",
   "execution_count": 9,
   "metadata": {},
   "outputs": [
    {
     "data": {
      "text/plain": [
       "(800, 4)"
      ]
     },
     "execution_count": 9,
     "metadata": {},
     "output_type": "execute_result"
    }
   ],
   "source": [
    "ref_p = np.asarray(ref_D['wfg5_4obj_10dim'])\n",
    "ref_p[::10].shape"
   ]
  },
  {
   "cell_type": "code",
   "execution_count": 10,
   "metadata": {},
   "outputs": [],
   "source": [
    "t_path = os.path.join(rootpath.detect(), \"experiments/directed/template/targets/targets\")\n",
    "os.path.isfile(t_path)\n",
    "with open(t_path, \"r\") as infile: \n",
    "    t_D = json.load(infile)"
   ]
  },
  {
   "cell_type": "code",
   "execution_count": 101,
   "metadata": {},
   "outputs": [
    {
     "data": {
      "text/plain": [
       "(8000, 4)"
      ]
     },
     "execution_count": 101,
     "metadata": {},
     "output_type": "execute_result"
    }
   ],
   "source": [
    "reference_p.shape"
   ]
  },
  {
   "cell_type": "code",
   "execution_count": 15,
   "metadata": {},
   "outputs": [],
   "source": [
    "case = {'ref_point': rp,\n",
    "        'name': 'worst case',\n",
    "        'target' : t,\n",
    "        'p' : result.p[::5]}"
   ]
  },
  {
   "cell_type": "code",
   "execution_count": 100,
   "metadata": {},
   "outputs": [
    {
     "name": "stderr",
     "output_type": "stream",
     "text": [
      "<ipython-input-99-0a03285ee345>:10: FutureWarning: Using a non-tuple sequence for multidimensional indexing is deprecated; use `arr[tuple(seq)]` instead of `arr[seq]`. In the future this will be interpreted as an array index, `arr[np.array(seq)]`, which will result either in an error or a different result.\n",
      "  va_r = xy[[dominates(case['target'], xy)]]\n"
     ]
    },
    {
     "name": "stdout",
     "output_type": "stream",
     "text": [
      "116.58936405181885\n"
     ]
    }
   ],
   "source": [
    "tic = time.time()\n",
    "reference_p = ref_p\n",
    "va, vb, v_ar, v_br = montecarlo_case(case, 1e3, reference_p)\n",
    "toc = time.time()\n",
    "print(toc-tic)"
   ]
  },
  {
   "cell_type": "code",
   "execution_count": 105,
   "metadata": {},
   "outputs": [
    {
     "data": {
      "text/plain": [
       "32.5"
      ]
     },
     "execution_count": 105,
     "metadata": {},
     "output_type": "execute_result"
    }
   ],
   "source": [
    "((1e6/1e3)*117)/60/60"
   ]
  },
  {
   "cell_type": "code",
   "execution_count": 103,
   "metadata": {},
   "outputs": [
    {
     "name": "stdout",
     "output_type": "stream",
     "text": [
      "0.05546760559082031\n"
     ]
    }
   ],
   "source": [
    "tic = time.time()\n",
    "reference_p = ref_p\n",
    "va, vb, var, vbr= montecarlo_case(case, 1e4, reference_p, va_r=v_ar, vb_r=v_br)\n",
    "toc = time.time()\n",
    "print(toc-tic)"
   ]
  },
  {
   "cell_type": "code",
   "execution_count": 79,
   "metadata": {},
   "outputs": [
    {
     "data": {
      "text/plain": [
       "(2, 4)"
      ]
     },
     "execution_count": 79,
     "metadata": {},
     "output_type": "execute_result"
    }
   ],
   "source": [
    "va = va_r[[dominates(case['target'], xyi) and dominates(xyi, case['ref_point']) and dominates(case['p'], xyi)  for xyi in va_r]]\n",
    "va = va_r[np.logical_and(np.logical_and(dominates(case['target'], va_r), dominated(va_r, case['ref_point'])), dominates(case['p'], va_r))]"
   ]
  },
  {
   "cell_type": "code",
   "execution_count": null,
   "metadata": {},
   "outputs": [],
   "source": [
    "va = va_r[[dominates(case['target'], xyi) and dominates(case['p'], xyi)  for xyi in va_r]]\n"
   ]
  },
  {
   "cell_type": "code",
   "execution_count": 97,
   "metadata": {},
   "outputs": [
    {
     "name": "stdout",
     "output_type": "stream",
     "text": [
      "10.1 ms ± 665 µs per loop (mean ± std. dev. of 7 runs, 100 loops each)\n"
     ]
    }
   ],
   "source": [
    "%%timeit\n",
    "ai = [dominates(case['target'], xyi) and dominates(case['p'], xyi) for xyi in v_ar]\n",
    "# aii = [dominates(case['p'], xyi) for xyi in v_ar]\n",
    "# print(sum(ai))\n",
    "# print(sum(aii))"
   ]
  },
  {
   "cell_type": "code",
   "execution_count": 98,
   "metadata": {},
   "outputs": [
    {
     "name": "stdout",
     "output_type": "stream",
     "text": [
      "17.8 ms ± 886 µs per loop (mean ± std. dev. of 7 runs, 100 loops each)\n"
     ]
    }
   ],
   "source": [
    "%%timeit\n",
    "bi = np.logical_and(dominates(case['target'], v_ar), dominates(case['p'], v_ar))\n",
    "# bii = dominates(case['p'], v_ar)\n",
    "\n",
    "# print(sum(bi))\n",
    "# print(sum(bii))"
   ]
  },
  {
   "cell_type": "code",
   "execution_count": 37,
   "metadata": {},
   "outputs": [
    {
     "data": {
      "text/plain": [
       "[<matplotlib.lines.Line2D at 0x7f2660b954f0>]"
      ]
     },
     "execution_count": 37,
     "metadata": {},
     "output_type": "execute_result"
    },
    {
     "data": {
      "image/png": "[encoded data removed]",
      "text/plain": [
       "<Figure size 432x288 with 1 Axes>"
      ]
     },
     "metadata": {
      "needs_background": "light"
     },
     "output_type": "display_data"
    }
   ],
   "source": [
    "plt.plot([int(r) for r in R.keys()], [r for r in R.values()])"
   ]
  },
  {
   "cell_type": "code",
   "execution_count": 32,
   "metadata": {},
   "outputs": [
    {
     "data": {
      "text/plain": [
       "[<matplotlib.lines.Line2D at 0x7f2660c18340>]"
      ]
     },
     "execution_count": 32,
     "metadata": {},
     "output_type": "execute_result"
    },
    {
     "data": {
      "image/png": "[encoded data removed]",
      "text/plain": [
       "<Figure size 432x288 with 1 Axes>"
      ]
     },
     "metadata": {
      "needs_background": "light"
     },
     "output_type": "display_data"
    }
   ],
   "source": [
    "plt.plot([int(r) for r in R.keys()], [r for r in R.values()])"
   ]
  },
  {
   "cell_type": "code",
   "execution_count": 38,
   "metadata": {},
   "outputs": [
    {
     "data": {
      "text/plain": [
       "(8000, 4)"
      ]
     },
     "execution_count": 38,
     "metadata": {},
     "output_type": "execute_result"
    }
   ],
   "source": [
    "ref_p.shape"
   ]
  },
  {
   "cell_type": "code",
   "execution_count": null,
   "metadata": {},
   "outputs": [],
   "source": []
  }
 ],
 "metadata": {
  "kernelspec": {
   "display_name": "testsuite",
   "language": "python",
   "name": "testsuite"
  },
  "language_info": {
   "codemirror_mode": {
    "name": "ipython",
    "version": 3
   },
   "file_extension": ".py",
   "mimetype": "text/x-python",
   "name": "python",
   "nbconvert_exporter": "python",
   "pygments_lexer": "ipython3",
   "version": "3.8.3"
  }
 },
 "nbformat": 4,
 "nbformat_minor": 4
}
