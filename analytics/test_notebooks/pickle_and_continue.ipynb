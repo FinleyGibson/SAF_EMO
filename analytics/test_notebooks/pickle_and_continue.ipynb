{
 "cells": [
  {
   "cell_type": "code",
   "execution_count": 1,
   "metadata": {},
   "outputs": [],
   "source": [
    "import rootpath\n",
    "import sys\n",
    "\n",
    "sys.path.append(rootpath.detect())\n",
    "\n",
    "from testsuite.surrogates import GP, MultiSurrogate\n",
    "from testsuite.optimisers import Saf\n",
    "import numpy as np\n",
    "import pickle\n",
    "import copy"
   ]
  },
  {
   "cell_type": "code",
   "execution_count": 2,
   "metadata": {},
   "outputs": [],
   "source": [
    "surrogate = MultiSurrogate(GP)"
   ]
  },
  {
   "cell_type": "code",
   "execution_count": 3,
   "metadata": {},
   "outputs": [],
   "source": [
    "limits = [[0, 0, 0, 0], [1, 1, 1, 1]]\n",
    "opt = Saf(objective_function=np.sin, surrogate=surrogate, limits =limits, log_interval=1)"
   ]
  },
  {
   "cell_type": "code",
   "execution_count": 4,
   "metadata": {},
   "outputs": [
    {
     "name": "stderr",
     "output_type": "stream",
     "text": [
      "reconstraining parameters GP_regression.Mat52.lengthscale\n",
      "reconstraining parameters GP_regression.Mat52.variance\n",
      "reconstraining parameters GP_regression.Gaussian_noise.variance\n"
     ]
    },
    {
     "name": "stdout",
     "output_type": "stream",
     "text": [
      "Optimization restart 1/10, f = 4.487491395635786\n",
      "Optimization restart 2/10, f = 4.4874913956669875\n",
      "Optimization restart 3/10, f = 11.80169211637945\n",
      "Optimization restart 4/10, f = 4.487491395643415\n",
      "Optimization restart 5/10, f = 4.487491395648453\n",
      "Optimization restart 6/10, f = 4.487491395656909\n",
      "Optimization restart 7/10, f = 14.189385332046726\n",
      "Optimization restart 8/10, f = 4.487491395663139\n"
     ]
    },
    {
     "name": "stderr",
     "output_type": "stream",
     "text": [
      "reconstraining parameters GP_regression.Mat52.lengthscale\n",
      "reconstraining parameters GP_regression.Mat52.variance\n",
      "reconstraining parameters GP_regression.Gaussian_noise.variance\n"
     ]
    },
    {
     "name": "stdout",
     "output_type": "stream",
     "text": [
      "Optimization restart 9/10, f = 4.4874913957145734\n",
      "Optimization restart 10/10, f = 4.487491395644468\n",
      "Optimization restart 1/10, f = 3.2821081039427398\n",
      "Optimization restart 2/10, f = 14.189385332047346\n",
      "Optimization restart 3/10, f = 3.2821081039971167\n",
      "Optimization restart 4/10, f = 3.282108103965296\n",
      "Optimization restart 5/10, f = 3.2821081040106366\n",
      "Optimization restart 6/10, f = 14.189385332046726\n",
      "Optimization restart 7/10, f = 3.2821081038764195\n",
      "Optimization restart 8/10, f = 14.189385332046726\n",
      "Optimization restart 9/10, f = 14.189385332053522\n"
     ]
    },
    {
     "name": "stderr",
     "output_type": "stream",
     "text": [
      "reconstraining parameters GP_regression.Mat52.lengthscale\n",
      "reconstraining parameters GP_regression.Mat52.variance\n",
      "reconstraining parameters GP_regression.Gaussian_noise.variance\n"
     ]
    },
    {
     "name": "stdout",
     "output_type": "stream",
     "text": [
      "Optimization restart 10/10, f = 3.2821081039794686\n",
      "Optimization restart 1/10, f = 3.165625163056264\n",
      "Optimization restart 2/10, f = 3.165625163175899\n",
      "Optimization restart 3/10, f = 3.1656251631385173\n",
      "Optimization restart 4/10, f = 3.1656251631334484\n",
      "Optimization restart 5/10, f = 3.1656251631222476\n",
      "Optimization restart 6/10, f = 14.189385332047529\n",
      "Optimization restart 7/10, f = 3.165625163158597\n",
      "Optimization restart 8/10, f = 3.1656251631121854\n"
     ]
    },
    {
     "name": "stderr",
     "output_type": "stream",
     "text": [
      "reconstraining parameters GP_regression.Mat52.lengthscale\n",
      "reconstraining parameters GP_regression.Mat52.variance\n",
      "reconstraining parameters GP_regression.Gaussian_noise.variance\n"
     ]
    },
    {
     "name": "stdout",
     "output_type": "stream",
     "text": [
      "Optimization restart 9/10, f = 3.1656251630981114\n",
      "Optimization restart 10/10, f = 3.1656251631924768\n",
      "Optimization restart 1/10, f = 14.18938600823569\n",
      "Optimization restart 2/10, f = 4.440297517521455\n",
      "Optimization restart 3/10, f = 4.440297517524699\n",
      "Optimization restart 4/10, f = 4.4402975175268224\n",
      "Optimization restart 5/10, f = 4.4402975175199835\n",
      "Optimization restart 6/10, f = 4.440297517508959\n",
      "Optimization restart 7/10, f = 4.440297517524424\n",
      "Optimization restart 8/10, f = 4.440297517526743\n",
      "Optimization restart 9/10, f = 4.440297517526155\n",
      "Optimization restart 10/10, f = 14.189385332047664\n",
      "(4_w,8)-aCMA-ES (mu_w=2.6,w_1=52%) in dimension 4 (seed=342767, Tue Oct 20 21:15:02 2020)\n",
      "Iterat #Fevals   function value  axis ratio  sigma  min&max std  t[m:s]\n",
      "    1      8 -4.210305406935062e-01 1.0e+00 2.65e-01  2e-01  3e-01 0:00.1\n",
      "    2     16 -4.249735990184143e-01 1.5e+00 2.32e-01  2e-01  2e-01 0:00.3\n",
      "    3     24 -5.390366527107435e-01 1.6e+00 2.25e-01  2e-01  2e-01 0:00.4\n",
      "   61    488 -7.966387121793146e-01 9.6e+00 2.46e-02  2e-03  2e-02 0:03.4\n",
      "  100    800 -7.946538421681838e-01 1.5e+01 6.29e-02  5e-03  4e-02 0:04.8\n",
      "  200   1600 -7.984097266968759e-01 9.0e+01 4.33e-02  1e-03  1e-02 0:08.4\n",
      "  300   2400 -7.957658794826512e-01 7.9e+02 8.04e-03  1e-04  1e-03 0:12.0\n",
      "  400   3200 -7.948106530142143e-01 9.7e+02 3.91e-02  6e-05  8e-04 0:15.4\n",
      "  480   3840 -7.963792653788241e-01 2.5e+03 4.69e-02  3e-05  3e-04 0:23.5\n",
      "  500   4000 -7.968466673325795e-01 5.5e+03 3.72e-02  2e-05  3e-04 0:26.4\n",
      "  600   4800 -7.965403964715031e-01 5.3e+04 5.03e-01  2e-04  2e-03 0:35.2\n",
      "  700   5600 -7.966730618430576e-01 1.6e+05 2.07e-01  1e-05  2e-04 0:40.7\n",
      "  725   5800 -7.965774981508819e-01 2.8e+05 3.88e-01  2e-05  3e-04 0:42.0\n"
     ]
    },
    {
     "name": "stderr",
     "output_type": "stream",
     "text": [
      "reconstraining parameters GP_regression.Mat52.lengthscale\n",
      "reconstraining parameters GP_regression.Mat52.variance\n",
      "reconstraining parameters GP_regression.Gaussian_noise.variance\n"
     ]
    },
    {
     "name": "stdout",
     "output_type": "stream",
     "text": [
      "termination on tolstagnation=200 (Tue Oct 20 21:15:46 2020)\n",
      "final/bestever f-value = -7.914739e-01 -7.986018e-01\n",
      "incumbent solution: [0.000845068639852519, 0.9068812571045763, 0.00030383885434894387, 8.120245758491026e-05]\n",
      "std deviation: [5.681076114704271e-05, 0.0002578135759221857, 6.0070601252567014e-05, 1.8352460388197183e-05]\n",
      "Optimization restart 1/10, f = 15.608324067631052\n",
      "Optimization restart 2/10, f = 2.995767662715754\n",
      "Optimization restart 3/10, f = 2.995767662734245\n",
      "Optimization restart 4/10, f = 2.9957676627303753\n",
      "Optimization restart 5/10, f = 2.9957676627318035\n",
      "Optimization restart 6/10, f = 15.608323865251398\n",
      "Optimization restart 7/10, f = 15.608323865251915\n",
      "Optimization restart 8/10, f = 2.99576766275196\n"
     ]
    },
    {
     "name": "stderr",
     "output_type": "stream",
     "text": [
      "reconstraining parameters GP_regression.Mat52.lengthscale\n"
     ]
    },
    {
     "name": "stdout",
     "output_type": "stream",
     "text": [
      "Optimization restart 9/10, f = 2.9957676627125993\n",
      "Optimization restart 10/10, f = 2.9957676627083973\n"
     ]
    },
    {
     "name": "stderr",
     "output_type": "stream",
     "text": [
      "reconstraining parameters GP_regression.Mat52.variance\n",
      "reconstraining parameters GP_regression.Gaussian_noise.variance\n"
     ]
    },
    {
     "name": "stdout",
     "output_type": "stream",
     "text": [
      "Optimization restart 1/10, f = 2.0495302178104247\n",
      "Optimization restart 2/10, f = 2.0495302179136674\n",
      "Optimization restart 3/10, f = 2.049530217859525\n",
      "Optimization restart 4/10, f = 2.0495302177983437\n",
      "Optimization restart 5/10, f = 2.0495302179346098\n",
      "Optimization restart 6/10, f = 2.0495302178340946\n",
      "Optimization restart 7/10, f = 2.04953021778043\n"
     ]
    },
    {
     "name": "stderr",
     "output_type": "stream",
     "text": [
      "reconstraining parameters GP_regression.Mat52.lengthscale\n",
      "reconstraining parameters GP_regression.Mat52.variance\n",
      "reconstraining parameters GP_regression.Gaussian_noise.variance\n"
     ]
    },
    {
     "name": "stdout",
     "output_type": "stream",
     "text": [
      "Optimization restart 8/10, f = 2.0495302178487442\n",
      "Optimization restart 9/10, f = 2.049530217716084\n",
      "Optimization restart 10/10, f = 2.0495302177942882\n",
      "Optimization restart 1/10, f = 1.7156325244154935\n",
      "Optimization restart 2/10, f = 1.715632524467753\n",
      "Optimization restart 3/10, f = 15.608323865251398\n",
      "Optimization restart 4/10, f = 1.7156325245514061\n",
      "Optimization restart 5/10, f = 1.7156325242979307\n",
      "Optimization restart 6/10, f = 1.7156325244501627\n",
      "Optimization restart 7/10, f = 1.7156325245065815\n"
     ]
    },
    {
     "name": "stderr",
     "output_type": "stream",
     "text": [
      "reconstraining parameters GP_regression.Mat52.lengthscale\n",
      "reconstraining parameters GP_regression.Mat52.variance\n",
      "reconstraining parameters GP_regression.Gaussian_noise.variance\n"
     ]
    },
    {
     "name": "stdout",
     "output_type": "stream",
     "text": [
      "Optimization restart 8/10, f = 1.7156325244616548\n",
      "Optimization restart 9/10, f = 1.7156325245027224\n",
      "Optimization restart 10/10, f = 1.7156325243989263\n",
      "Optimization restart 1/10, f = 3.235470832479267\n",
      "Optimization restart 2/10, f = 3.2354708324914654\n",
      "Optimization restart 3/10, f = 3.235470832515791\n",
      "Optimization restart 4/10, f = 3.23547083249821\n",
      "Optimization restart 5/10, f = 3.2354708325015498\n",
      "Optimization restart 6/10, f = 3.235470832494581\n",
      "Optimization restart 7/10, f = 73.42946892114796\n",
      "Optimization restart 8/10, f = 3.2354708324971453\n",
      "Optimization restart 9/10, f = 3.235470832475171\n",
      "Optimization restart 10/10, f = 3.235470832496241\n",
      "(4_w,8)-aCMA-ES (mu_w=2.6,w_1=52%) in dimension 4 (seed=323405, Tue Oct 20 21:15:52 2020)\n",
      "Iterat #Fevals   function value  axis ratio  sigma  min&max std  t[m:s]\n",
      "    1      8 -1.953752687355506e-01 1.0e+00 2.31e-01  2e-01  2e-01 0:00.1\n",
      "    2     16 -2.688581704771052e-01 1.2e+00 2.02e-01  2e-01  2e-01 0:00.1\n",
      "    3     24 -4.186806116886392e-01 1.3e+00 2.32e-01  2e-01  2e-01 0:00.2\n",
      "   67    536 -6.979846188178360e-01 1.6e+01 3.42e-02  2e-03  2e-02 0:03.2\n",
      "  100    800 -6.984703382034174e-01 2.5e+01 5.12e-02  2e-03  2e-02 0:04.7\n",
      "  200   1600 -6.980501395530838e-01 1.2e+02 9.10e-03  2e-04  1e-03 0:07.8\n",
      "  300   2400 -6.981043459639917e-01 1.5e+02 3.73e-03  2e-05  1e-04 0:11.2\n",
      "  400   3200 -6.972842591957740e-01 1.0e+03 3.61e-03  1e-05  8e-05 0:14.5\n",
      "  500   4000 -6.986462980886852e-01 1.2e+04 1.23e-02  4e-05  3e-04 0:20.2\n",
      "  510   4080 -6.977244277628518e-01 2.0e+04 6.88e-03  2e-05  2e-04 0:20.9\n",
      "termination on tolstagnation=200 (Tue Oct 20 21:16:14 2020)\n",
      "final/bestever f-value = -6.969606e-01 -7.009390e-01\n",
      "incumbent solution: [0.00024783995441618207, 0.0007389829423413532, 1.7439037158983532e-05, 0.02287856144594432]\n",
      "std deviation: [2.0439879969976405e-05, 0.00011247001355892557, 0.00011053809547244071, 0.00016037803020411785]\n"
     ]
    }
   ],
   "source": [
    "opt.optimise(2)"
   ]
  },
  {
   "cell_type": "code",
   "execution_count": 5,
   "metadata": {},
   "outputs": [],
   "source": [
    "with open(\"./log_data/sin_Saf_init10_MultiSurrogate_ei/seed_7270_sin_Saf_init10_MultiSurrogate_ei_e9a16c2a-1310-11eb-8f63-40b034171640_model.pkl\", \"rb\") as infile:\n",
    "    opt2 = pickle.load(infile)"
   ]
  },
  {
   "cell_type": "code",
   "execution_count": 14,
   "metadata": {},
   "outputs": [
    {
     "data": {
      "text/plain": [
       "array([[4.53860584e-01, 8.73072309e-01, 6.00272822e-01, 5.19610811e-01],\n",
       "       [2.53516237e-01, 9.28086801e-01, 7.02043837e-01, 4.24596376e-01],\n",
       "       [5.38648393e-01, 4.81492576e-01, 3.17096737e-01, 1.00722250e-01],\n",
       "       [6.74872736e-01, 7.42485414e-01, 4.38219643e-01, 3.23002285e-01],\n",
       "       [9.80870061e-01, 3.62256879e-01, 9.00952950e-01, 9.84850060e-01],\n",
       "       [7.39750429e-01, 1.76063870e-01, 1.80780802e-02, 2.89605572e-01],\n",
       "       [6.16553134e-02, 8.80143392e-02, 1.54277245e-01, 7.60944691e-01],\n",
       "       [3.60070837e-01, 2.23839236e-01, 5.06023474e-01, 6.29946983e-01],\n",
       "       [8.62925605e-01, 6.30999093e-01, 2.46103046e-01, 8.05120299e-01],\n",
       "       [1.09801520e-01, 5.76634818e-01, 8.13854791e-01, 5.72855743e-02],\n",
       "       [1.01075030e-03, 9.11915980e-01, 3.11256902e-04, 6.46928268e-05],\n",
       "       [2.47744638e-04, 7.44442918e-04, 1.68980269e-05, 2.29027885e-02]])"
      ]
     },
     "execution_count": 14,
     "metadata": {},
     "output_type": "execute_result"
    }
   ],
   "source": [
    "opt.x"
   ]
  },
  {
   "cell_type": "code",
   "execution_count": 15,
   "metadata": {},
   "outputs": [
    {
     "data": {
      "text/plain": [
       "array([[4.53860584e-01, 8.73072309e-01, 6.00272822e-01, 5.19610811e-01],\n",
       "       [2.53516237e-01, 9.28086801e-01, 7.02043837e-01, 4.24596376e-01],\n",
       "       [5.38648393e-01, 4.81492576e-01, 3.17096737e-01, 1.00722250e-01],\n",
       "       [6.74872736e-01, 7.42485414e-01, 4.38219643e-01, 3.23002285e-01],\n",
       "       [9.80870061e-01, 3.62256879e-01, 9.00952950e-01, 9.84850060e-01],\n",
       "       [7.39750429e-01, 1.76063870e-01, 1.80780802e-02, 2.89605572e-01],\n",
       "       [6.16553134e-02, 8.80143392e-02, 1.54277245e-01, 7.60944691e-01],\n",
       "       [3.60070837e-01, 2.23839236e-01, 5.06023474e-01, 6.29946983e-01],\n",
       "       [8.62925605e-01, 6.30999093e-01, 2.46103046e-01, 8.05120299e-01],\n",
       "       [1.09801520e-01, 5.76634818e-01, 8.13854791e-01, 5.72855743e-02],\n",
       "       [1.01075030e-03, 9.11915980e-01, 3.11256902e-04, 6.46928268e-05],\n",
       "       [2.47744638e-04, 7.44442918e-04, 1.68980269e-05, 2.29027885e-02],\n",
       "       [3.30107769e-06, 5.84942210e-04, 9.99096288e-01, 9.98841424e-01],\n",
       "       [6.25218009e-03, 9.71808135e-02, 3.67788054e-01, 9.66400282e-01],\n",
       "       [1.24134266e-05, 9.99817043e-01, 9.97237776e-01, 2.50039767e-04],\n",
       "       [1.10663661e-05, 9.99790807e-01, 5.34768654e-01, 4.32545408e-04],\n",
       "       [3.22677608e-04, 9.99959762e-01, 4.10772377e-03, 9.99926357e-01],\n",
       "       [1.19513212e-04, 7.52523973e-04, 9.99999870e-01, 4.58855422e-03],\n",
       "       [9.96161440e-01, 1.47026101e-07, 4.84755305e-01, 1.65281397e-04],\n",
       "       [3.16230896e-05, 3.29879956e-01, 4.53071818e-01, 4.63437493e-06],\n",
       "       [9.98519488e-01, 7.41251461e-01, 1.65447585e-04, 7.07713507e-08],\n",
       "       [9.99941139e-01, 9.99830759e-01, 4.44125829e-05, 9.99662467e-01]])"
      ]
     },
     "execution_count": 15,
     "metadata": {},
     "output_type": "execute_result"
    }
   ],
   "source": [
    "opt2.x"
   ]
  },
  {
   "cell_type": "code",
   "execution_count": 16,
   "metadata": {},
   "outputs": [
    {
     "data": {
      "text/plain": [
       "22"
      ]
     },
     "execution_count": 16,
     "metadata": {},
     "output_type": "execute_result"
    }
   ],
   "source": [
    "opt2.n_evaluations"
   ]
  }
 ],
 "metadata": {
  "kernelspec": {
   "display_name": "testsuite",
   "language": "python",
   "name": "testsuite"
  },
  "language_info": {
   "codemirror_mode": {
    "name": "ipython",
    "version": 3
   },
   "file_extension": ".py",
   "mimetype": "text/x-python",
   "name": "python",
   "nbconvert_exporter": "python",
   "pygments_lexer": "ipython3",
   "version": "3.8.3"
  }
 },
 "nbformat": 4,
 "nbformat_minor": 4
}
