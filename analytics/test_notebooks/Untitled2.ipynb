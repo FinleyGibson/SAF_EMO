{
 "cells": [
  {
   "cell_type": "code",
   "execution_count": 7,
   "metadata": {},
   "outputs": [],
   "source": [
    "import rootpath\n",
    "import sys\n",
    "sys.path.append(rootpath.detect())\n",
    "import persistqueue\n",
    "import numpy as np\n",
    "from testsuite.surrogates import GP, MultiSurrogate\n",
    "from testsuite.optimisers import Saf"
   ]
  },
  {
   "cell_type": "code",
   "execution_count": 6,
   "metadata": {},
   "outputs": [],
   "source": [
    "surrogate = MultiSurrogate(GP)"
   ]
  },
  {
   "cell_type": "code",
   "execution_count": 9,
   "metadata": {},
   "outputs": [],
   "source": [
    "opts = []\n",
    "of = np.sin \n",
    "limits = [[0., 0., 0., 0.],[1., 1., 1., 1.]]\n",
    "for i in range(10):\n",
    "    opts += [Saf(objective_function=of, surrogate=surrogate, limits=limits, seed=i)]"
   ]
  },
  {
   "cell_type": "code",
   "execution_count": 10,
   "metadata": {},
   "outputs": [
    {
     "data": {
      "text/plain": [
       "[<testsuite.optimisers.Saf at 0x7f832802f3d0>,\n",
       " <testsuite.optimisers.Saf at 0x7f832800cb50>,\n",
       " <testsuite.optimisers.Saf at 0x7f832800c250>,\n",
       " <testsuite.optimisers.Saf at 0x7f832802f550>,\n",
       " <testsuite.optimisers.Saf at 0x7f832802f2b0>,\n",
       " <testsuite.optimisers.Saf at 0x7f8328060490>,\n",
       " <testsuite.optimisers.Saf at 0x7f8328060850>,\n",
       " <testsuite.optimisers.Saf at 0x7f836097a9d0>,\n",
       " <testsuite.optimisers.Saf at 0x7f836097abe0>,\n",
       " <testsuite.optimisers.Saf at 0x7f8327bee1c0>]"
      ]
     },
     "execution_count": 10,
     "metadata": {},
     "output_type": "execute_result"
    }
   ],
   "source": [
    "opts"
   ]
  },
  {
   "cell_type": "code",
   "execution_count": 11,
   "metadata": {},
   "outputs": [],
   "source": [
    "q = persistqueue.SQLiteAckQueue('./my_optqueue')"
   ]
  },
  {
   "cell_type": "code",
   "execution_count": 24,
   "metadata": {},
   "outputs": [],
   "source": [
    "for opt in opts:\n",
    "    q.put(opt)"
   ]
  },
  {
   "cell_type": "code",
   "execution_count": 25,
   "metadata": {},
   "outputs": [
    {
     "data": {
      "text/plain": [
       "10"
      ]
     },
     "execution_count": 25,
     "metadata": {},
     "output_type": "execute_result"
    }
   ],
   "source": [
    "q.size"
   ]
  },
  {
   "cell_type": "code",
   "execution_count": 26,
   "metadata": {},
   "outputs": [],
   "source": [
    "ans = q.get()"
   ]
  },
  {
   "cell_type": "code",
   "execution_count": 27,
   "metadata": {},
   "outputs": [
    {
     "name": "stderr",
     "output_type": "stream",
     "text": [
      "reconstraining parameters GP_regression.Mat52.lengthscale\n",
      "reconstraining parameters GP_regression.Mat52.variance\n",
      "reconstraining parameters GP_regression.Gaussian_noise.variance\n"
     ]
    },
    {
     "name": "stdout",
     "output_type": "stream",
     "text": [
      "Optimization restart 1/10, f = 2.6554855268137203\n",
      "Optimization restart 2/10, f = 2.655485526711322\n",
      "Optimization restart 3/10, f = 2.655485526704454\n",
      "Optimization restart 4/10, f = 2.6554855269497137\n",
      "Optimization restart 5/10, f = 2.6554855268555047\n",
      "Optimization restart 6/10, f = 2.6554855267660633\n",
      "Optimization restart 7/10, f = 2.6554855267574515\n",
      "Optimization restart 8/10, f = 2.655485526772817\n"
     ]
    },
    {
     "name": "stderr",
     "output_type": "stream",
     "text": [
      "reconstraining parameters GP_regression.Mat52.lengthscale\n",
      "reconstraining parameters GP_regression.Mat52.variance\n",
      "reconstraining parameters GP_regression.Gaussian_noise.variance\n"
     ]
    },
    {
     "name": "stdout",
     "output_type": "stream",
     "text": [
      "Optimization restart 9/10, f = 2.6554855267926376\n",
      "Optimization restart 10/10, f = 2.655485526718244\n",
      "Optimization restart 1/10, f = 4.772498154643408\n",
      "Optimization restart 2/10, f = 4.772498154655487\n",
      "Optimization restart 3/10, f = 14.189385332058077\n",
      "Optimization restart 4/10, f = 4.772498154647195\n",
      "Optimization restart 5/10, f = 4.772498154644759\n",
      "Optimization restart 6/10, f = 4.772498154652319\n",
      "Optimization restart 7/10, f = 14.18938533204943\n",
      "Optimization restart 8/10, f = 4.772498154662613\n",
      "Optimization restart 9/10, f = 4.772498154646504\n",
      "Optimization restart 10/10, f = 4.772498154646138\n"
     ]
    },
    {
     "name": "stderr",
     "output_type": "stream",
     "text": [
      "reconstraining parameters GP_regression.Mat52.lengthscale\n",
      "reconstraining parameters GP_regression.Mat52.variance\n",
      "reconstraining parameters GP_regression.Gaussian_noise.variance\n"
     ]
    },
    {
     "name": "stdout",
     "output_type": "stream",
     "text": [
      "Optimization restart 1/10, f = 3.3343922725148207\n",
      "Optimization restart 2/10, f = 3.334392272523047\n",
      "Optimization restart 3/10, f = 14.189385332046726\n",
      "Optimization restart 4/10, f = 10.16034086230596\n",
      "Optimization restart 5/10, f = 3.3343922725214714\n",
      "Optimization restart 6/10, f = 3.3343922725243065\n",
      "Optimization restart 7/10, f = 3.334392272514661\n",
      "Optimization restart 8/10, f = 3.334392272508296\n",
      "Optimization restart 9/10, f = 3.3343922725823756\n"
     ]
    },
    {
     "name": "stderr",
     "output_type": "stream",
     "text": [
      "reconstraining parameters GP_regression.Mat52.lengthscale\n",
      "reconstraining parameters GP_regression.Mat52.variance\n",
      "reconstraining parameters GP_regression.Gaussian_noise.variance\n"
     ]
    },
    {
     "name": "stdout",
     "output_type": "stream",
     "text": [
      "Optimization restart 10/10, f = 3.3343922725276247\n",
      "Optimization restart 1/10, f = 5.429805083667872\n",
      "Optimization restart 2/10, f = 5.4298050836692155\n",
      "Optimization restart 3/10, f = 5.429805083668327\n",
      "Optimization restart 4/10, f = 5.429805083668089\n",
      "Optimization restart 5/10, f = 5.429805083661549\n",
      "Optimization restart 6/10, f = 14.18938533204673\n",
      "Optimization restart 7/10, f = 14.189385332046726\n",
      "Optimization restart 8/10, f = 5.429805083701645\n",
      "Optimization restart 9/10, f = 14.18938533204675\n",
      "Optimization restart 10/10, f = 5.4298050836674765\n",
      "(4_w,8)-aCMA-ES (mu_w=2.6,w_1=52%) in dimension 4 (seed=412221, Wed Oct 21 00:15:22 2020)\n",
      "Iterat #Fevals   function value  axis ratio  sigma  min&max std  t[m:s]\n",
      "    1      8 -4.752996921032319e-01 1.0e+00 2.31e-01  2e-01  2e-01 0:00.0\n",
      "    2     16 -5.738899342746259e-01 1.2e+00 2.38e-01  2e-01  3e-01 0:00.1\n",
      "    3     24 -5.792379841321255e-01 1.5e+00 2.38e-01  2e-01  3e-01 0:00.2\n",
      "   96    768 -7.504063592136028e-01 1.1e+01 1.19e-02  8e-04  3e-03 0:03.2\n",
      "  100    800 -7.504821375763802e-01 8.9e+00 9.18e-03  6e-04  2e-03 0:03.3\n",
      "  200   1600 -7.511609781675852e-01 3.1e+01 4.84e-03  2e-04  4e-04 0:07.1\n",
      "  300   2400 -7.509555396521679e-01 1.8e+02 7.32e-03  2e-04  5e-04 0:10.2\n",
      "  400   3200 -7.508309995343303e-01 7.8e+02 6.29e-03  4e-05  1e-04 0:14.5\n",
      "  500   4000 -7.497854121944449e-01 1.8e+04 4.85e-03  3e-05  9e-05 0:17.6\n",
      "  505   4040 -7.527686909201681e-01 2.4e+04 6.31e-03  5e-05  1e-04 0:17.7\n",
      "termination on tolstagnation=200 (Wed Oct 21 00:15:41 2020)\n",
      "final/bestever f-value = -7.515230e-01 -7.545960e-01\n",
      "incumbent solution: [0.001679671465885679, 0.0002204602161235279, 0.6674542038019481, 0.00010079373065457418]\n",
      "std deviation: [7.593587469331044e-05, 5.267200548907425e-05, 0.00014794747824926408, 8.448260934217285e-05]\n"
     ]
    },
    {
     "name": "stderr",
     "output_type": "stream",
     "text": [
      "reconstraining parameters GP_regression.Mat52.lengthscale\n",
      "reconstraining parameters GP_regression.Mat52.variance\n",
      "reconstraining parameters GP_regression.Gaussian_noise.variance\n"
     ]
    },
    {
     "name": "stdout",
     "output_type": "stream",
     "text": [
      "Optimization restart 1/10, f = 0.8587965206146002\n",
      "Optimization restart 2/10, f = 0.8587965200500776\n",
      "Optimization restart 3/10, f = 0.8587965203185828\n",
      "Optimization restart 4/10, f = 0.8587965202541383\n",
      "Optimization restart 5/10, f = 0.858796520436627\n",
      "Optimization restart 6/10, f = 0.8587965203933399\n",
      "Optimization restart 7/10, f = 0.8587965207970472\n",
      "Optimization restart 8/10, f = 0.8587965207896993\n",
      "Optimization restart 9/10, f = 0.8587965207534447\n"
     ]
    },
    {
     "name": "stderr",
     "output_type": "stream",
     "text": [
      "reconstraining parameters GP_regression.Mat52.lengthscale\n",
      "reconstraining parameters GP_regression.Mat52.variance\n",
      "reconstraining parameters GP_regression.Gaussian_noise.variance\n"
     ]
    },
    {
     "name": "stdout",
     "output_type": "stream",
     "text": [
      "Optimization restart 10/10, f = 0.8587965202830024\n",
      "Optimization restart 1/10, f = 3.728954681191232\n",
      "Optimization restart 2/10, f = 3.7289546811955017\n",
      "Optimization restart 3/10, f = 15.608323865252698\n",
      "Optimization restart 4/10, f = 3.728954681196284\n",
      "Optimization restart 5/10, f = 15.6083238652514\n",
      "Optimization restart 6/10, f = 3.7289546811951295\n"
     ]
    },
    {
     "name": "stderr",
     "output_type": "stream",
     "text": [
      "reconstraining parameters GP_regression.Mat52.lengthscale\n",
      "reconstraining parameters GP_regression.Mat52.variance\n",
      "reconstraining parameters GP_regression.Gaussian_noise.variance\n"
     ]
    },
    {
     "name": "stdout",
     "output_type": "stream",
     "text": [
      "Optimization restart 7/10, f = 15.6083238652514\n",
      "Optimization restart 8/10, f = 3.7289546811886742\n",
      "Optimization restart 9/10, f = 15.6083238652514\n",
      "Optimization restart 10/10, f = 15.6083238652514\n",
      "Optimization restart 1/10, f = 2.714085857159943\n",
      "Optimization restart 2/10, f = 2.714085857112913\n",
      "Optimization restart 3/10, f = 2.714085857147298\n",
      "Optimization restart 4/10, f = 2.7140858571595867\n",
      "Optimization restart 5/10, f = 15.6083238652514\n",
      "Optimization restart 6/10, f = 2.714085857122103\n"
     ]
    },
    {
     "name": "stderr",
     "output_type": "stream",
     "text": [
      "reconstraining parameters GP_regression.Mat52.lengthscale\n",
      "reconstraining parameters GP_regression.Mat52.variance\n",
      "reconstraining parameters GP_regression.Gaussian_noise.variance\n"
     ]
    },
    {
     "name": "stdout",
     "output_type": "stream",
     "text": [
      "Optimization restart 7/10, f = 15.608323865252144\n",
      "Optimization restart 8/10, f = 2.714085857140013\n",
      "Optimization restart 9/10, f = 2.714085857104741\n",
      "Optimization restart 10/10, f = 15.6083238652514\n",
      "Optimization restart 1/10, f = 4.418264632804073\n",
      "Optimization restart 2/10, f = 4.418264632807602\n",
      "Optimization restart 3/10, f = 4.418264632807595\n",
      "Optimization restart 4/10, f = 4.418264632800584\n",
      "Optimization restart 5/10, f = 4.4182646328086905\n",
      "Optimization restart 6/10, f = 15.608323865252071\n",
      "Optimization restart 7/10, f = 13.32033258559109\n",
      "Optimization restart 8/10, f = 4.418264632808009\n",
      "Optimization restart 9/10, f = 15.6083238652532\n",
      "Optimization restart 10/10, f = 4.418264632808345\n",
      "(4_w,8)-aCMA-ES (mu_w=2.6,w_1=52%) in dimension 4 (seed=342448, Wed Oct 21 00:15:45 2020)\n",
      "Iterat #Fevals   function value  axis ratio  sigma  min&max std  t[m:s]\n",
      "    1      8 -4.545870634977026e-01 1.0e+00 2.58e-01  2e-01  3e-01 0:00.0\n",
      "    2     16 -6.374304668879945e-01 1.3e+00 2.93e-01  2e-01  4e-01 0:00.1\n",
      "    3     24 -6.275640796768230e-01 1.6e+00 3.07e-01  2e-01  4e-01 0:00.1\n",
      "  100    800 -8.862720176483289e-01 1.7e+01 2.49e-02  2e-03  6e-03 0:02.8\n",
      "  200   1600 -8.867893669505234e-01 3.0e+02 1.26e-02  4e-04  2e-03 0:05.6\n",
      "  300   2400 -8.870986353953654e-01 2.9e+03 2.61e-03  3e-05  2e-04 0:10.6\n",
      "  394   3152 -8.859968941405274e-01 8.9e+03 1.86e-03  8e-06  5e-05 0:16.6\n",
      "  400   3200 -8.870013487617282e-01 8.7e+03 1.03e-03  4e-06  2e-05 0:16.8\n",
      "  500   4000 -8.868837457619805e-01 3.1e+04 2.46e-04  3e-07  2e-06 0:19.7\n",
      "  555   4440 -8.866214426082661e-01 4.3e+04 6.24e-05  4e-08  2e-07 0:21.3\n",
      "termination on tolstagnation=200 (Wed Oct 21 00:16:07 2020)\n",
      "final/bestever f-value = -8.834905e-01 -8.885767e-01\n",
      "incumbent solution: [0.00024993905236169454, 0.0005684127983269311, 0.013282213723261852, 0.0005658099532634724]\n",
      "std deviation: [3.848941496052321e-08, 2.422828069461067e-07, 5.239092929854628e-08, 2.2376207013550069e-07]\n"
     ]
    }
   ],
   "source": [
    "ans.optimise(2)"
   ]
  },
  {
   "cell_type": "code",
   "execution_count": 21,
   "metadata": {},
   "outputs": [],
   "source": [
    "q.ack(ans)"
   ]
  },
  {
   "cell_type": "code",
   "execution_count": null,
   "metadata": {},
   "outputs": [],
   "source": []
  }
 ],
 "metadata": {
  "kernelspec": {
   "display_name": "testsuite",
   "language": "python",
   "name": "testsuite"
  },
  "language_info": {
   "codemirror_mode": {
    "name": "ipython",
    "version": 3
   },
   "file_extension": ".py",
   "mimetype": "text/x-python",
   "name": "python",
   "nbconvert_exporter": "python",
   "pygments_lexer": "ipython3",
   "version": "3.8.3"
  }
 },
 "nbformat": 4,
 "nbformat_minor": 4
}
