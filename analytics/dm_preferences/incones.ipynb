{
 "cells": [
  {
   "cell_type": "code",
   "execution_count": 1,
   "metadata": {
    "ExecuteTime": {
     "end_time": "2021-06-27T12:15:41.222246Z",
     "start_time": "2021-06-27T12:15:40.858031Z"
    }
   },
   "outputs": [
    {
     "name": "stdout",
     "output_type": "stream",
     "text": [
      "Using matplotlib backend: Qt5Agg\n",
      "Populating the interactive namespace from numpy and matplotlib\n"
     ]
    }
   ],
   "source": [
    "import sys\n",
    "import rootpath\n",
    "sys.path.append(rootpath.detect())\n",
    "%pylab\n",
    "%matplotlib inline\n",
    "import matplotlib as mpl\n",
    "import matplotlib.pyplot as plt\n",
    "from mpl_toolkits.mplot3d import Axes3D\n",
    "from mpl_toolkits.mplot3d.art3d import Poly3DCollection\n",
    "\n",
    "mpl.rc('figure', figsize=[5.0, 5.0])"
   ]
  },
  {
   "cell_type": "code",
   "execution_count": 2,
   "metadata": {
    "ExecuteTime": {
     "end_time": "2021-06-27T12:15:42.495063Z",
     "start_time": "2021-06-27T12:15:42.491109Z"
    }
   },
   "outputs": [],
   "source": [
    "%matplotlib qt"
   ]
  },
  {
   "cell_type": "code",
   "execution_count": 3,
   "metadata": {
    "ExecuteTime": {
     "end_time": "2021-06-27T12:15:44.468948Z",
     "start_time": "2021-06-27T12:15:44.464168Z"
    }
   },
   "outputs": [],
   "source": [
    "def same_side(V, a, b):\n",
    "    \"\"\"Test whether points are on the same side of a plane.\n",
    "    \n",
    "    The plane is defined by the points forming the _rows_ of V and the origin.\n",
    "    \n",
    "    Parameters\n",
    "    ----------\n",
    "    V : ndarray of shape (d-1, d)\n",
    "        d-1 points that together with the origin define a plane \n",
    "        in d dimensions\n",
    "\n",
    "    a : ndarray of shape (m,d)\n",
    "    b : ndarray of shape (m,d)\n",
    "        a[i] and b[i] are compared, for i = 1,...,m\n",
    "        a and b must be 2d arrays\n",
    "        \n",
    "        \n",
    "    Returns\n",
    "    -------\n",
    "    same : Bool ndarray of shape (m,)\n",
    "        same[i] is True iff a[i] and b[i] are on the same side of the plane. \n",
    "    \"\"\"\n",
    "    assert len(a.shape) == 2 and len(b.shape) == 2\n",
    "    assert a.shape == b.shape\n",
    "    m, d = a.shape\n",
    "    assert V.shape == (d-1, d)\n",
    "    \n",
    "    # Get the normal to the plane by via the SVD because the plane \n",
    "    # passes through the origin, so its distance to the origin is zero\n",
    "    # The normal to the plane is the null space of the matrix of the points\n",
    "    # defining the plane, including the orgin.\n",
    "    \n",
    "    A = np.vstack((V, np.zeros(d)))\n",
    "    U, s, Vt = np.linalg.svd(A.T)\n",
    "    assert s[-1] < 1e-10\n",
    "    n = np.squeeze(U[:,-1])\n",
    "    \n",
    "    # They are on the same side if dot product with normal has the same sign\n",
    "    same = np.sign(a@n) == np.sign(b@n)\n",
    "    return same"
   ]
  },
  {
   "cell_type": "markdown",
   "metadata": {},
   "source": [
    "### Test same_side\n",
    "\n",
    "Points defining the plane are in blue.  The point with which others are compared (the DM's point) is red: those on the same side are orange and those on the other side are green. Rotate the figure to see which side they're really on."
   ]
  },
  {
   "cell_type": "code",
   "execution_count": 4,
   "metadata": {
    "ExecuteTime": {
     "end_time": "2021-06-27T12:15:47.870901Z",
     "start_time": "2021-06-27T12:15:47.753478Z"
    }
   },
   "outputs": [
    {
     "name": "stdout",
     "output_type": "stream",
     "text": [
      "[False  True  True  True  True False False  True]\n"
     ]
    },
    {
     "data": {
      "text/plain": [
       "(0.0, 1.0)"
      ]
     },
     "execution_count": 4,
     "metadata": {},
     "output_type": "execute_result"
    },
    {
     "name": "stderr",
     "output_type": "stream",
     "text": [
      "/home/finley/miniconda3/envs/testsuite/lib/python3.8/site-packages/numpy/lib/function_base.py:393: RuntimeWarning: Mean of empty slice.\n",
      "  avg = a.mean(axis)\n",
      "/home/finley/miniconda3/envs/testsuite/lib/python3.8/site-packages/numpy/core/_methods.py:161: RuntimeWarning: invalid value encountered in double_scalars\n",
      "  ret = ret.dtype.type(ret / rcount)\n"
     ]
    }
   ],
   "source": [
    "P = rand(2, 3)  # Two random points to define a plane\n",
    "\n",
    "npts = 8\n",
    "a = np.ones((8, 3))  # Always compare to (1, 1, 1)\n",
    "b = np.random.rand(8, 3)\n",
    "\n",
    "same = same_side(P, a, b)\n",
    "print(same)\n",
    "fig = plt.figure()\n",
    "ax = fig.add_subplot(111, projection='3d')\n",
    "ax.scatter(P[:,0], P[:,1], P[:,2])\n",
    "\n",
    "ax.add_collection3d(Poly3DCollection(np.vstack((2*P, np.zeros(3))), alpha=0.2))\n",
    "\n",
    "ax.scatter(b[:,0], b[:,1], b[:,2], c=['r' if s else 'g' for s in same])\n",
    "ax.scatter(a[0], a[1], a[2], marker='*')\n",
    "ax.axes.set_xlim3d(left=0, right=1) \n",
    "ax.axes.set_ylim3d(bottom=0, top=1) \n",
    "ax.axes.set_zlim3d(bottom=0, top=1) "
   ]
  },
  {
   "cell_type": "code",
   "execution_count": 5,
   "metadata": {
    "ExecuteTime": {
     "end_time": "2021-06-27T12:15:56.901065Z",
     "start_time": "2021-06-27T12:15:56.894745Z"
    }
   },
   "outputs": [],
   "source": [
    "from itertools import combinations\n",
    "\n",
    "\n",
    "def in_cones(P, x):\n",
    "    \"\"\"\n",
    "    Determine which cones formed from the origin and points in P\n",
    "    enclose the vector x\n",
    "    \n",
    "    Parameters\n",
    "    ----------\n",
    "    \n",
    "    P : ndarray, shape (m, d)\n",
    "        Array of m d-dimensional points.  \n",
    "        Cones are formed from combinations of d of these and the origin.\n",
    "        \n",
    "    x : ndarray, shape (d,)\n",
    "        The ray to be enclosed. \n",
    "        \n",
    "    Returns\n",
    "    -------\n",
    "    \n",
    "    cones : list of d-dimensional tuples.\n",
    "        Each tuple is the indices of the rows of P which, \n",
    "        with the origin, define the cone enclosing x.\n",
    "        cones is empty if no combination of the points encloses x.\n",
    "    \"\"\"\n",
    "    m, d = P.shape\n",
    "    assert len(x.shape) == 1 and x.shape[0] == d\n",
    "    \n",
    "    X = np.tile(x, (m-(d-1), 1))  # Replicate x for same_side\n",
    "    \n",
    "    # For all possible d-dimensional planes defined by P and the origin, find \n",
    "    # whether x is on the same side as each of the remaining points in P. \n",
    "    # Store these in a dictionary whose key is a d-tuple of the point (first\n",
    "    # element)and the indices of the points defining the plane.\n",
    "    side = {}\n",
    "    allpoints = set(range(m))\n",
    "    for plane in combinations(allpoints, d-1):\n",
    "        Iplane = list(plane)\n",
    "        pts = allpoints.difference(set(plane))\n",
    "        Ipts = list(pts)\n",
    "        S = same_side(P[Iplane], P[Ipts], X)\n",
    "        \n",
    "        for p, same in zip(Ipts, S):\n",
    "            if same:\n",
    "                side[(p, *Iplane)] = 1\n",
    "\n",
    "    # For all possible combinations of d points that, together with the origin\n",
    "    # define a cone, find the ones that contain x.\n",
    "    cones = []\n",
    "    for simplex in combinations(allpoints, d):\n",
    "        simplex = set(simplex)\n",
    "        for i in simplex:\n",
    "            plane = sorted(simplex.difference((i,)))\n",
    "            try:\n",
    "                _ = side[(i, *plane)]\n",
    "            except:\n",
    "                break\n",
    "        else:\n",
    "            # x was on the same side of all the planes\n",
    "            cones.append(tuple(simplex))\n",
    "    return cones\n",
    "\n",
    "def in_cone_combinations(combos, x):\n",
    "    \"\"\"\n",
    "    Determine which cones formed from the origin and points in P\n",
    "    enclose the vector x\n",
    "    \n",
    "    Parameters\n",
    "    ----------\n",
    "    \n",
    "    combos : ndarray, shape (m, d)\n",
    "        Array of m d-dimensional points.  \n",
    "        Cones are formed from combinations of d of these and the origin.\n",
    "        \n",
    "    x : ndarray, shape (d,)\n",
    "        The ray to be enclosed. \n",
    "        \n",
    "    Returns\n",
    "    -------\n",
    "    \n",
    "    cones : list of d-dimensional tuples.\n",
    "        Each tuple is the indices of the rows of P which, \n",
    "        with the origin, define the cone enclosing x.\n",
    "        cones is empty if no combination of the points encloses x.\n",
    "    \"\"\"\n",
    "    n_comb, m, d = P.shape\n",
    "    assert len(x.shape) == 1 and x.shape[0] == d\n",
    "    \n",
    "    X = np.tile(x, (m-(d-1), 1))  # Replicate x for same_side\n",
    "    \n",
    "    # For all possible d-dimensional planes defined by cones and the origin, find \n",
    "    # whether x is on the same side as each of the remaining points in P. \n",
    "    # Store these in a dictionary whose key is a d-tuple of the point (first\n",
    "    # element)and the indices of the points defining the plane.\n",
    "    side = {}\n",
    "    allpoints = set(range(m))\n",
    "    \n",
    "    for plane in combinations(allpoints, d-1):\n",
    "        Iplane = list(plane)\n",
    "        pts = allpoints.difference(set(plane))\n",
    "        Ipts = list(pts)\n",
    "        S = same_side(P[Iplane], P[Ipts], X)\n",
    "        \n",
    "        for p, same in zip(Ipts, S):\n",
    "            if same:\n",
    "                side[(p, *Iplane)] = 1\n",
    "\n",
    "    # For all possible combinations of d points that, together with the origin\n",
    "    # define a cone, find the ones that contain x.\n",
    "    cones = []\n",
    "    for simplex in combinations(allpoints, d):\n",
    "        simplex = set(simplex)\n",
    "        for i in simplex:\n",
    "            plane = sorted(simplex.difference((i,)))\n",
    "            try:\n",
    "                _ = side[(i, *plane)]\n",
    "            except:\n",
    "                break\n",
    "        else:\n",
    "            # x was on the same side of all the planes\n",
    "            cones.append(tuple(simplex))\n",
    "    return cones"
   ]
  },
  {
   "cell_type": "markdown",
   "metadata": {},
   "source": [
    "### Test in_cones\n",
    "\n",
    "\n",
    "M mutually non-dominating points generated as random points on the surface of a sphere.\n",
    "Draw filled planes for all the planes that the DM's vector intersect."
   ]
  },
  {
   "cell_type": "code",
   "execution_count": 6,
   "metadata": {
    "ExecuteTime": {
     "end_time": "2021-06-27T12:15:58.759894Z",
     "start_time": "2021-06-27T12:15:58.623180Z"
    },
    "scrolled": false
   },
   "outputs": [
    {
     "data": {
      "text/plain": [
       "[(0, 4, 5), (1, 4, 5), (2, 4, 5), (3, 4, 5)]"
      ]
     },
     "execution_count": 6,
     "metadata": {},
     "output_type": "execute_result"
    }
   ],
   "source": [
    "from itertools import cycle\n",
    "\n",
    "def colour_cycle():\n",
    "    return cycle(['tab:blue', 'tab:orange', 'tab:green', 'tab:red',\n",
    "                  'tab:purple', 'tab:brown', 'tab:pink',\n",
    "                  'tab:gray', 'tab:olive', 'tab:cyan'])\n",
    "\n",
    "M = 6\n",
    "np.random.seed(42)\n",
    "V = np.abs(np.random.randn(M, 3))\n",
    "V /= np.linalg.norm(V, axis=1)[:,np.newaxis]\n",
    "\n",
    "dm = np.asarray([1, 2, 1], dtype='float')\n",
    "\n",
    "cones = in_cones(V, dm)\n",
    "\n",
    "fig = plt.figure()\n",
    "ax = fig.add_subplot(111, projection='3d')\n",
    "ax.scatter(V[:,0], V[:,1], V[:,2])\n",
    "for n, v in enumerate(V):\n",
    "    ax.text(*v, f'{n}')\n",
    "\n",
    "\n",
    "dm /= dm.max()\n",
    "ax.plot([0, dm[0]], [0, dm[1]], [0, dm[2]], 'r', lw=2)\n",
    "\n",
    "colour = colour_cycle()\n",
    "for I in cones:\n",
    "    I = list(I)\n",
    "    Z = V[I]\n",
    "    ax.add_collection3d(Poly3DCollection(Z, alpha=0.2, color=next(colour)))\n",
    "    \n",
    "cones"
   ]
  },
  {
   "cell_type": "code",
   "execution_count": 7,
   "metadata": {
    "ExecuteTime": {
     "end_time": "2021-06-27T12:15:59.929167Z",
     "start_time": "2021-06-27T12:15:59.925245Z"
    }
   },
   "outputs": [],
   "source": [
    "def ssd(x, V):\n",
    "    \"\"\"\n",
    "    Find the sum of squared distances from the \n",
    "    ray defined by x to the points in V\n",
    "    \n",
    "    Parameters\n",
    "    ----------\n",
    "    x : ndarray, shape (d,)\n",
    "        Point defining a ray from the origin\n",
    "        \n",
    "    V : ndarray, shape (M, d)\n",
    "        Rows of V define the points\n",
    "        \n",
    "    Returns\n",
    "    -------\n",
    "    \n",
    "    S : float\n",
    "        The sum of squared distances from the ray to V\n",
    "    \"\"\"\n",
    "    assert V.shape[1] == x.shape[0]\n",
    "    xhat = x/np.linalg.norm(x)\n",
    "    \n",
    "    S = 0\n",
    "    for v in V:\n",
    "        lenv = np.linalg.norm(v)\n",
    "        vhat = v/lenv\n",
    "        cs = vhat @ xhat\n",
    "        S += np.sqrt(1-cs*cs)*lenv\n",
    "    return S"
   ]
  },
  {
   "cell_type": "code",
   "execution_count": 8,
   "metadata": {
    "ExecuteTime": {
     "end_time": "2021-06-27T12:16:03.773157Z",
     "start_time": "2021-06-27T12:16:03.769558Z"
    }
   },
   "outputs": [
    {
     "name": "stdout",
     "output_type": "stream",
     "text": [
      "Best: 3 (3, 4, 5)  0.94\n"
     ]
    }
   ],
   "source": [
    "S = np.asarray([ ssd(dm, V[list(cone)]) for cone in cones])\n",
    "k = np.argmin(S)\n",
    "print(f'Best: {k} {cones[k]}  {S[k]:.3g}')"
   ]
  },
  {
   "cell_type": "code",
   "execution_count": 9,
   "metadata": {
    "ExecuteTime": {
     "end_time": "2021-06-27T12:16:05.079121Z",
     "start_time": "2021-06-27T12:16:05.015355Z"
    }
   },
   "outputs": [],
   "source": [
    "fig = plt.figure()\n",
    "ax = fig.add_subplot(111, projection='3d')\n",
    "ax.scatter(V[:,0], V[:,1], V[:,2])\n",
    "for n, v in enumerate(V):\n",
    "    ax.text(*v, f'{n}')\n",
    "\n",
    "\n",
    "dm /= dm.max()\n",
    "ax.plot([0, dm[0]], [0, dm[1]], [0, dm[2]], 'r', lw=2)\n",
    "\n",
    "colour = colour_cycle()\n",
    "for I in cones:\n",
    "    I = list(I)\n",
    "    Z = V[I]\n",
    "    ax.add_collection3d(Poly3DCollection(Z, alpha=0.1, color=next(colour)))\n",
    "\n",
    "def rotate(L):\n",
    "    return L[1:] + (L[0],)\n",
    "\n",
    "for i, j in zip( cones[k], rotate(cones[k])):\n",
    "    ax.plot([V[i,0], V[j,0]], [V[i,1], V[j,1]], [V[i,2], V[j,2]], 'm', lw=2)\n",
    "                "
   ]
  },
  {
   "cell_type": "code",
   "execution_count": null,
   "metadata": {},
   "outputs": [],
   "source": []
  },
  {
   "cell_type": "code",
   "execution_count": null,
   "metadata": {},
   "outputs": [],
   "source": []
  },
  {
   "cell_type": "code",
   "execution_count": null,
   "metadata": {},
   "outputs": [],
   "source": []
  },
  {
   "cell_type": "markdown",
   "metadata": {},
   "source": [
    "### Alternative class for incrementally adding new points"
   ]
  },
  {
   "cell_type": "code",
   "execution_count": 7,
   "metadata": {
    "ExecuteTime": {
     "end_time": "2021-06-27T13:19:34.971574Z",
     "start_time": "2021-06-27T13:19:34.961301Z"
    }
   },
   "outputs": [],
   "source": [
    "\n",
    "class InCones:\n",
    "    \"\"\"\n",
    "    Maintain a list of cones enclosing a vector, allowing incremental \n",
    "    updates to the possible vertices\n",
    "    \"\"\"\n",
    "    def __init__(self, dm, V):\n",
    "        \"\"\"\n",
    "        Parameters\n",
    "        ----------\n",
    "        \n",
    "        dm : ndarray, shape (d,)\n",
    "            The decision maker's vector that is enclosed.\n",
    "            \n",
    "        V : ndarray, shape (M, d)\n",
    "            Array of M d-dimensional initial vertices with M > d\n",
    "        \"\"\"\n",
    "        assert len(dm.shape) == 1\n",
    "        self.dm = dm/np.linalg.norm(dm)\n",
    "        self.d = dm.shape[0]\n",
    "        self.V = V.copy()\n",
    "        \n",
    "        cones = in_cones(self.V, self.dm)\n",
    "        if cones:\n",
    "            S = np.asarray([ ssd(dm, V[list(cone)]) for cone in cones])\n",
    "            k = np.argmin(S)\n",
    "            self.Ibest = list(cones[k])\n",
    "        else:\n",
    "            self.Ibest = []\n",
    "        \n",
    "        # Calculate lengths\n",
    "        lenv = np.linalg.norm(V, axis=1)\n",
    "        cs = V @ self.dm/lenv\n",
    "        self.dist = np.sqrt(1-cs*cs)*lenv\n",
    "        \n",
    "        \n",
    "    def inside(self, I):\n",
    "        \"\"\"\n",
    "        Return True if the vertices self.V[I] together with the origin\n",
    "        form a cone contain self.dm\n",
    "        \n",
    "        This uses in_cones, which is a sledge hammer to crack a nut as\n",
    "        all the combinations are not needed.\n",
    "        \"\"\"\n",
    "        cones = in_cones(self.V[I], self.dm)\n",
    "        return len(cones) > 0\n",
    "    \n",
    "    def update(self, v):\n",
    "        \"\"\"\n",
    "        Update the possible enclosing vertices with v\n",
    "        \n",
    "        Parameters\n",
    "        ----------\n",
    "        \n",
    "        v : ndarray, shape (self.d,)\n",
    "        \n",
    "        Returns\n",
    "        -------\n",
    "        \n",
    "        cone: ndarray, shape (self.d, self.d)\n",
    "            An array of the d-dimensional vertices which, with the origin,\n",
    "            form the cone enclosing self.dm.  Each row of cone is a vertex.\n",
    "        S : float\n",
    "            The sum of squared distances from the DM vector to the points \n",
    "            defining the best enclosing cone.\n",
    "            \n",
    "            If there is no enclosing cone then (None, None) is returned.\n",
    "        \"\"\"\n",
    "        # The criterion for the best enclosing code is that it has \n",
    "        # the minimum sum of squared distances (SSD) to the dm vector. So if \n",
    "        # v is to form the new cone, its distance to dm must be less than \n",
    "        # at least one of the vertices forming the current best cone. If \n",
    "        # it is closer then it is possible that the reduction in SSD \n",
    "        # might be so large that combinations of vertices other than those \n",
    "        # forming the previous best cone might be better. So find all the\n",
    "        # combinations of vertices include v that have an SSD smaller the \n",
    "        # current best SSD.  Then find whether any of these encloses dm.\n",
    "        \n",
    "        lenv = np.linalg.norm(v)\n",
    "        cs = v @ self.dm/lenv\n",
    "        dist = np.sqrt(1-cs*cs)*lenv\n",
    "        \n",
    "        self.dist = np.append(self.dist, dist)\n",
    "        self.V = np.append(self.V, v[np.newaxis,:], axis=0)\n",
    "\n",
    "        if not self.Ibest:  # No enclosing cone yet, so try all combinations\n",
    "            print('No enclosing cone')\n",
    "            cones = in_cones(self.V, self.dm)\n",
    "            if cones:\n",
    "                S = np.asarray([ ssd(dm, self.V[list(cone),:]) for cone in cones])\n",
    "                k = np.argmin(S)\n",
    "                self.Ibest = list(cones[k])\n",
    "                return self.V[self.Ibest,:], S[k]\n",
    "            else:\n",
    "                return None, None\n",
    "       \n",
    "        D = self.dist[self.Ibest]   # Distances to dm for best cone\n",
    "        best_ssd = D@D\n",
    "        if dist > np.max(D):\n",
    "            print(\"Won't improve\")\n",
    "            # v won't improve the criterion, so return the old one.\n",
    "            return self.V[self.Ibest,:], best_ssd\n",
    "                \n",
    "        # Try all the combinations of d-1 vertices with v \n",
    "        M, d = self.V.shape\n",
    "        for others in combinations(range(M-1), d-1):\n",
    "            Iverts = list((M-1, *others))\n",
    "            D = self.dist[Iverts]\n",
    "            S = D@D\n",
    "            if S < best_ssd and self.inside(Iverts):\n",
    "                self.Ibest = Iverts.copy()\n",
    "                best_ssd = S\n",
    "    \n",
    "        return self.V[self.Ibest,:], best_ssd\n",
    "    "
   ]
  },
  {
   "cell_type": "markdown",
   "metadata": {},
   "source": [
    "### Test\n",
    "\n",
    "The following cell instantiates the InCones object, and the next one adds a single point"
   ]
  },
  {
   "cell_type": "code",
   "execution_count": 59,
   "metadata": {
    "ExecuteTime": {
     "end_time": "2021-06-27T13:19:36.520682Z",
     "start_time": "2021-06-27T13:19:36.515841Z"
    }
   },
   "outputs": [],
   "source": [
    "M = 4\n",
    "np.random.seed(42)\n",
    "V = np.abs(np.random.randn(M, 3))\n",
    "# V /= np.linalg.norm(V, axis=1)[:,np.newaxis]\n",
    "\n",
    "dm = np.asarray([1, 2, 1], dtype='float')\n",
    "\n",
    "ic = InCones(dm, V)\n",
    "\n"
   ]
  },
  {
   "cell_type": "markdown",
   "metadata": {},
   "source": [
    "#### In the following cell, add a single point and draw the result.  \n",
    "Repeatedly execute to add more points."
   ]
  },
  {
   "cell_type": "code",
   "execution_count": 81,
   "metadata": {
    "ExecuteTime": {
     "end_time": "2021-06-27T13:20:00.085054Z",
     "start_time": "2021-06-27T13:20:00.016584Z"
    }
   },
   "outputs": [
    {
     "ename": "IndexError",
     "evalue": "index 6 is out of bounds for axis 0 with size 6",
     "output_type": "error",
     "traceback": [
      "\u001b[0;31m---------------------------------------------------------------------------\u001b[0m",
      "\u001b[0;31mIndexError\u001b[0m                                Traceback (most recent call last)",
      "\u001b[0;32m<ipython-input-81-7f29e2028173>\u001b[0m in \u001b[0;36m<module>\u001b[0;34m\u001b[0m\n\u001b[1;32m      3\u001b[0m \u001b[0;34m\u001b[0m\u001b[0m\n\u001b[1;32m      4\u001b[0m \u001b[0;34m\u001b[0m\u001b[0m\n\u001b[0;32m----> 5\u001b[0;31m \u001b[0mcone\u001b[0m\u001b[0;34m,\u001b[0m \u001b[0mS\u001b[0m \u001b[0;34m=\u001b[0m \u001b[0mic\u001b[0m\u001b[0;34m.\u001b[0m\u001b[0mupdate\u001b[0m\u001b[0;34m(\u001b[0m\u001b[0mv\u001b[0m\u001b[0;34m)\u001b[0m\u001b[0;34m\u001b[0m\u001b[0;34m\u001b[0m\u001b[0m\n\u001b[0m\u001b[1;32m      6\u001b[0m \u001b[0;34m\u001b[0m\u001b[0m\n\u001b[1;32m      7\u001b[0m \u001b[0mprint\u001b[0m\u001b[0;34m(\u001b[0m\u001b[0;34mf'{S = }'\u001b[0m\u001b[0;34m)\u001b[0m\u001b[0;34m\u001b[0m\u001b[0;34m\u001b[0m\u001b[0m\n",
      "\u001b[0;32m<ipython-input-72-4e24602912d2>\u001b[0m in \u001b[0;36mupdate\u001b[0;34m(self, v)\u001b[0m\n\u001b[1;32m    106\u001b[0m         \u001b[0;32mfor\u001b[0m \u001b[0mothers\u001b[0m \u001b[0;32min\u001b[0m \u001b[0mcombinations\u001b[0m\u001b[0;34m(\u001b[0m\u001b[0mrange\u001b[0m\u001b[0;34m(\u001b[0m\u001b[0mM\u001b[0m\u001b[0;34m-\u001b[0m\u001b[0;36m1\u001b[0m\u001b[0;34m)\u001b[0m\u001b[0;34m,\u001b[0m \u001b[0md\u001b[0m\u001b[0;34m-\u001b[0m\u001b[0;36m1\u001b[0m\u001b[0;34m)\u001b[0m\u001b[0;34m:\u001b[0m\u001b[0;34m\u001b[0m\u001b[0;34m\u001b[0m\u001b[0m\n\u001b[1;32m    107\u001b[0m             \u001b[0mIverts\u001b[0m \u001b[0;34m=\u001b[0m \u001b[0mlist\u001b[0m\u001b[0;34m(\u001b[0m\u001b[0;34m(\u001b[0m\u001b[0mM\u001b[0m\u001b[0;34m-\u001b[0m\u001b[0;36m1\u001b[0m\u001b[0;34m,\u001b[0m \u001b[0;34m*\u001b[0m\u001b[0mothers\u001b[0m\u001b[0;34m)\u001b[0m\u001b[0;34m)\u001b[0m\u001b[0;34m\u001b[0m\u001b[0;34m\u001b[0m\u001b[0m\n\u001b[0;32m--> 108\u001b[0;31m             \u001b[0mD\u001b[0m \u001b[0;34m=\u001b[0m \u001b[0mself\u001b[0m\u001b[0;34m.\u001b[0m\u001b[0mdist\u001b[0m\u001b[0;34m[\u001b[0m\u001b[0mIverts\u001b[0m\u001b[0;34m]\u001b[0m\u001b[0;34m\u001b[0m\u001b[0;34m\u001b[0m\u001b[0m\n\u001b[0m\u001b[1;32m    109\u001b[0m             \u001b[0mS\u001b[0m \u001b[0;34m=\u001b[0m \u001b[0mD\u001b[0m\u001b[0;34m@\u001b[0m\u001b[0mD\u001b[0m\u001b[0;34m\u001b[0m\u001b[0;34m\u001b[0m\u001b[0m\n\u001b[1;32m    110\u001b[0m             \u001b[0;32mif\u001b[0m \u001b[0mS\u001b[0m \u001b[0;34m<\u001b[0m \u001b[0mbest_ssd\u001b[0m \u001b[0;32mand\u001b[0m \u001b[0mself\u001b[0m\u001b[0;34m.\u001b[0m\u001b[0minside\u001b[0m\u001b[0;34m(\u001b[0m\u001b[0mIverts\u001b[0m\u001b[0;34m)\u001b[0m\u001b[0;34m:\u001b[0m\u001b[0;34m\u001b[0m\u001b[0;34m\u001b[0m\u001b[0m\n",
      "\u001b[0;31mIndexError\u001b[0m: index 6 is out of bounds for axis 0 with size 6"
     ]
    }
   ],
   "source": [
    "v = np.abs(np.random.randn(3))\n",
    "# v /= np.linalg.norm(v)\n",
    "\n",
    "\n",
    "cone, S = ic.update(v)\n",
    "\n",
    "print(f'{S = }')\n",
    "\n",
    "fig = plt.figure()\n",
    "ax = fig.add_subplot(111, projection='3d')\n",
    "ax.scatter(ic.V[:,0], ic.V[:,1], ic.V[:,2])\n",
    "for n, v in enumerate(ic.V):\n",
    "    ax.text(*v, f'{n}')\n",
    "\n",
    "dm /= dm.max()\n",
    "ax.plot([0, dm[0]], [0, dm[1]], [0, dm[2]], 'r', lw=2)\n",
    "\n",
    "if cone is not None:\n",
    "    try:\n",
    "        c = next(colour)\n",
    "    except:\n",
    "        colour = colour_cycle()\n",
    "        c = next(colour)\n",
    "    ax.add_collection3d(Poly3DCollection(cone, alpha=0.5, color=c))\n",
    "    \n",
    "ax.view_init(180*math.atan2(dm[2], math.hypot(dm[0], dm[1]))/math.pi, \n",
    "            180*math.atan2(dm[1], dm[0])/math.pi)"
   ]
  },
  {
   "cell_type": "code",
   "execution_count": 62,
   "metadata": {},
   "outputs": [
    {
     "name": "stdout",
     "output_type": "stream",
     "text": [
      "(6, 3)\n",
      "(5, 3)\n"
     ]
    }
   ],
   "source": [
    "from testsuite.utilities import Pareto_split\n",
    "\n",
    "print(ic.V.shape)\n",
    "print(Pareto_split(ic.V)[0].shape)"
   ]
  },
  {
   "cell_type": "code",
   "execution_count": 47,
   "metadata": {},
   "outputs": [
    {
     "data": {
      "text/plain": [
       "[]"
      ]
     },
     "execution_count": 47,
     "metadata": {},
     "output_type": "execute_result"
    }
   ],
   "source": [
    "ic.Ibest"
   ]
  },
  {
   "cell_type": "code",
   "execution_count": 72,
   "metadata": {},
   "outputs": [],
   "source": [
    "\n",
    "class FinleyInCones:\n",
    "    \"\"\"\n",
    "    Maintain a list of cones enclosing a vector, allowing incremental \n",
    "    updates to the possible vertices\n",
    "    \"\"\"\n",
    "    def __init__(self, dmv, y):\n",
    "        \"\"\"\n",
    "        Parameters\n",
    "        ----------\n",
    "        \n",
    "        dmv : ndarray, shape (d,)\n",
    "            The decision maker's vector that is enclosed.\n",
    "            \n",
    "        y : ndarray, shape (M, d)\n",
    "            Array of M d-dimensional initial vertices with M > d\n",
    "        \"\"\"\n",
    "        assert len(dmv.shape) == 1\n",
    "        self.dmv = dmv/np.linalg.norm(dmv)\n",
    "        self._n_obj = dmv.shape[0]\n",
    "        self.y = y.copy()\n",
    "        self.p = Pareto_split(y)[0]\n",
    "        \n",
    "        cones = in_cones(self.p, self.dmv)\n",
    "        if cones:\n",
    "            S = np.asarray([ ssd(dmv, self.p[list(cone)]) for cone in cones])\n",
    "            k = np.argmin(S)\n",
    "            self.Ibest = list(cones[k])\n",
    "        else:\n",
    "            self.Ibest = []\n",
    "        \n",
    "        # Calculate lengths\n",
    "        lenv = np.linalg.norm(self.p, axis=1)\n",
    "        cs = self.p @ self.dmv/lenv\n",
    "        self.dist = np.sqrt(1-cs*cs)*lenv\n",
    "        \n",
    "        \n",
    "    def inside(self, I):\n",
    "        \"\"\"\n",
    "        Return True if the vertices self.y[I] together with the origin\n",
    "        form a cone contain self.dmv\n",
    "        \n",
    "        This uses in_cones, which is a sledge hammer to crack a nut as\n",
    "        all the combinations are not needed.\n",
    "        \"\"\"\n",
    "        cones = in_cones(self.p[I], self.dmv)\n",
    "        return len(cones) > 0\n",
    "    \n",
    "    def update(self, v):\n",
    "        \"\"\"\n",
    "        Update the possible enclosing vertices with v\n",
    "        \n",
    "        Parameters\n",
    "        ----------\n",
    "        \n",
    "        v : ndarray, shape (self.d,)\n",
    "        \n",
    "        Returns\n",
    "        -------\n",
    "        \n",
    "        cone: ndarray, shape (self.d, self.d)\n",
    "            An array of the d-dimensional vertices which, with the origin,\n",
    "            form the cone enclosing self.dmv.  Each row of cone is a vertex.\n",
    "        S : float\n",
    "            The sum of squared distances from the dmv vector to the points \n",
    "            defining the best enclosing cone.\n",
    "            \n",
    "            If there is no enclosing cone then (None, None) is returned.\n",
    "        \"\"\"\n",
    "        # The criterion for the best enclosing code is that it has \n",
    "        # the minimum sum of squared distances (SSD) to the dmv vector. So if \n",
    "        # v is to form the new cone, its distance to dmv must be less than \n",
    "        # at least one of the vertices forming the current best cone. If \n",
    "        # it is closer then it is possible that the reduction in SSD \n",
    "        # might be so large that combinations of vertices other than those \n",
    "        # forming the previous best cone might be better. So find all the\n",
    "        # combinations of vertices include v that have an SSD smaller the \n",
    "        # current best SSD.  Then find whether any of these encloses dmv.\n",
    "        \n",
    "        lenv = np.linalg.norm(v)\n",
    "        cs = v @ self.dmv/lenv\n",
    "        dist = np.sqrt(1-cs*cs)*lenv\n",
    "        \n",
    "        self.dist = np.append(self.dist, dist)\n",
    "        self.y = np.append(self.y, v[np.newaxis,:], axis=0)\n",
    "\n",
    "        if not self.Ibest:  # No enclosing cone yet, so try all combinations\n",
    "            print('No enclosing cone')\n",
    "            cones = in_cones(self.y, self.dmv)\n",
    "            if cones:\n",
    "                S = np.asarray([ ssd(self.dmv, self.y[list(cone),:]) for cone in cones])\n",
    "                k = np.argmin(S)\n",
    "                self.Ibest = list(cones[k])\n",
    "                return self.y[self.Ibest,:], S[k]\n",
    "            else:\n",
    "                return None, None\n",
    "       \n",
    "        D = self.dist[self.Ibest]   # Distances to dmv for best cone\n",
    "        best_ssd = D@D\n",
    "        if dist > np.max(D):\n",
    "            print(\"Won't improve\")\n",
    "            # v won't improve the criterion, so return the old one.\n",
    "            return self.y[self.Ibest,:], best_ssd\n",
    "                \n",
    "        # Try all the combinations of d-1 vertices with v \n",
    "        M, d = self.y.shape\n",
    "        for others in combinations(range(M-1), d-1):\n",
    "            Iverts = list((M-1, *others))\n",
    "            D = self.dist[Iverts]\n",
    "            S = D@D\n",
    "            if S < best_ssd and self.inside(Iverts):\n",
    "                self.Ibest = Iverts.copy()\n",
    "                best_ssd = S\n",
    "    \n",
    "        return self.y[self.Ibest,:], best_ssd\n",
    "    "
   ]
  },
  {
   "cell_type": "code",
   "execution_count": 77,
   "metadata": {},
   "outputs": [],
   "source": [
    "M = 4\n",
    "np.random.seed(42)\n",
    "V = np.abs(np.random.randn(M, 3))\n",
    "# V /= np.linalg.norm(V, axis=1)[:,np.newaxis]\n",
    "\n",
    "dm = np.asarray([1, 2, 1], dtype='float')\n",
    "\n",
    "ic = FinleyInCones(dm, V)\n"
   ]
  },
  {
   "cell_type": "code",
   "execution_count": 80,
   "metadata": {},
   "outputs": [
    {
     "name": "stdout",
     "output_type": "stream",
     "text": [
      "No enclosing cone\n",
      "S = 1.5605378480427154\n"
     ]
    }
   ],
   "source": [
    "v = np.abs(np.random.randn(3))\n",
    "# v /= np.linalg.norm(v)\n",
    "\n",
    "\n",
    "cone, S = ic.update(v)\n",
    "\n",
    "print(f'{S = }')\n",
    "\n",
    "fig = plt.figure()\n",
    "ax = fig.add_subplot(111, projection='3d')\n",
    "ax.scatter(ic.y[:,0], ic.y[:,1], ic.y[:,2])\n",
    "ax.scatter(ic.p[:,0], ic.p[:,1], ic.p[:,2], c=\"C1\", s=150, alpha=0.3)\n",
    "for n, v in enumerate(ic.y):\n",
    "    ax.text(*v, f'{n}')\n",
    "\n",
    "dm /= dm.max()\n",
    "ax.plot([0, dm[0]], [0, dm[1]], [0, dm[2]], 'r', lw=2)\n",
    "\n",
    "if cone is not None:\n",
    "    try:\n",
    "        c = next(colour)\n",
    "    except:\n",
    "        colour = colour_cycle()\n",
    "        c = next(colour)\n",
    "    ax.add_collection3d(Poly3DCollection(cone, alpha=0.5, color=c))\n",
    "    \n",
    "ax.view_init(180*math.atan2(dm[2], math.hypot(dm[0], dm[1]))/math.pi, \n",
    "            180*math.atan2(dm[1], dm[0])/math.pi)"
   ]
  },
  {
   "cell_type": "code",
   "execution_count": 79,
   "metadata": {},
   "outputs": [
    {
     "name": "stdout",
     "output_type": "stream",
     "text": [
      "5\n",
      "3\n"
     ]
    }
   ],
   "source": [
    "print(ic.y.shape[0])\n",
    "print(ic.p.shape[0])"
   ]
  },
  {
   "cell_type": "code",
   "execution_count": null,
   "metadata": {},
   "outputs": [],
   "source": []
  }
 ],
 "metadata": {
  "kernelspec": {
   "display_name": "testsuite",
   "language": "python",
   "name": "testsuite"
  },
  "language_info": {
   "codemirror_mode": {
    "name": "ipython",
    "version": 3
   },
   "file_extension": ".py",
   "mimetype": "text/x-python",
   "name": "python",
   "nbconvert_exporter": "python",
   "pygments_lexer": "ipython3",
   "version": "3.8.3"
  }
 },
 "nbformat": 4,
 "nbformat_minor": 1
}
