{
 "cells": [
  {
   "cell_type": "code",
   "execution_count": 1,
   "metadata": {},
   "outputs": [],
   "source": [
    "import rootpath\n",
    "import sys\n",
    "sys.path.append(rootpath.detect())\n",
    "\n",
    "import numpy as np\n",
    "import matplotlib.pyplot as plt\n",
    "from testsuite.utilities import Pareto_split\n",
    "from testsuite.directed_optimisers import DmVector\n",
    "from testsuite.surrogates import GP, MultiSurrogate\n",
    "import wfg"
   ]
  },
  {
   "cell_type": "code",
   "execution_count": 2,
   "metadata": {},
   "outputs": [],
   "source": [
    "%matplotlib qt"
   ]
  },
  {
   "cell_type": "code",
   "execution_count": 5,
   "metadata": {},
   "outputs": [],
   "source": [
    "# setup function\n",
    "n_obj = 4  # Number of objectives\n",
    "kfactor = 2\n",
    "lfactor = 2\n",
    "k = kfactor * (n_obj - 1)  # position related params\n",
    "l = lfactor * 2  # distance related params\n",
    "n_dim = k + l\n",
    "limits = np.zeros((2, n_dim))\n",
    "limits[1] = np.array(range(1, n_dim + 1)) * 2\n",
    "\n",
    "func = wfg.WFG5\n",
    "gp_surr_multi = MultiSurrogate(GP, scaled=True)\n",
    "\n",
    "\n",
    "def test_function(x):\n",
    "    if x.ndim < 2:\n",
    "        x = x.reshape(1, -1)\n",
    "    return np.array([func(xi, k, n_obj) for xi in x])\n"
   ]
  },
  {
   "cell_type": "code",
   "execution_count": 6,
   "metadata": {},
   "outputs": [],
   "source": [
    "M = n_obj\n",
    "N = 500\n",
    "y = np.zeros((N, n_obj))\n",
    "x = np.zeros((N, n_dim))\n",
    "for n in range(N):\n",
    "    z = wfg.random_soln(k, l, func.__name__)\n",
    "    y[n, :] = func(z, k, M)\n",
    "    x[n, :] = z"
   ]
  },
  {
   "cell_type": "code",
   "execution_count": 8,
   "metadata": {},
   "outputs": [],
   "source": [
    "dmv = np.array([[1.5, 1.5, 1.5, 1.5]])\n",
    "dmv = dmv/np.linalg.norm(dmv)\n",
    "opt = DmVector(objective_function=test_function, ei=False, w=0.5,\n",
    "               limits=limits, surrogate=gp_surr_multi, n_initial=10, budget=20,\n",
    "               seed=10, cmaes_restarts=0, dmv=dmv)"
   ]
  },
  {
   "cell_type": "code",
   "execution_count": 6,
   "metadata": {},
   "outputs": [
    {
     "data": {
      "text/plain": [
       "<matplotlib.legend.Legend at 0x7fccf6286250>"
      ]
     },
     "execution_count": 6,
     "metadata": {},
     "output_type": "execute_result"
    }
   ],
   "source": [
    "fig01 = plt.figure(figsize=[8, 8])\n",
    "fig01_ax = fig01.gca(projection=\"3d\")\n",
    "\n",
    "\n",
    "fig01_ax.scatter(*opt.targets.T, c=\"magenta\", label=\"intitial targets\", alpha=0.4, s=150)\n",
    "fig01_ax.scatter(*y[np.argsort(y[:,0])].T, c=\"lightgrey\", label=\"Pareto front\")\n",
    "fig01_ax.scatter(*opt.y.T, c=\"C0\", label=\"intitial samples\")\n",
    "fig01_ax.plot(*np.vstack((np.zeros_like(opt.dmv), opt.dmv*np.max([np.linalg.norm(yi) for yi in y]))).T, c=\"C1\", linestyle=\"--\")\n",
    "\n",
    "fig01_ax.legend()\n"
   ]
  },
  {
   "cell_type": "code",
   "execution_count": null,
   "metadata": {},
   "outputs": [
    {
     "name": "stderr",
     "output_type": "stream",
     "text": [
      "reconstraining parameters GP_regression.Mat52.lengthscale\n",
      "reconstraining parameters GP_regression.Mat52.variance\n",
      "reconstraining parameters GP_regression.Gaussian_noise.variance\n"
     ]
    },
    {
     "name": "stdout",
     "output_type": "stream",
     "text": [
      "Optimization restart 1/10, f = 14.18938533204421\n",
      "Optimization restart 2/10, f = 13.947492499346147\n",
      "Optimization restart 3/10, f = 13.947492499346696\n"
     ]
    },
    {
     "name": "stderr",
     "output_type": "stream",
     "text": [
      "reconstraining parameters GP_regression.Mat52.lengthscale\n",
      "reconstraining parameters GP_regression.Mat52.variance\n",
      "reconstraining parameters GP_regression.Gaussian_noise.variance\n"
     ]
    },
    {
     "name": "stdout",
     "output_type": "stream",
     "text": [
      "Optimization restart 4/10, f = 13.947492499347465\n",
      "Optimization restart 5/10, f = 13.947492499345502\n",
      "Optimization restart 6/10, f = 13.947492499347273\n",
      "Optimization restart 7/10, f = 13.947492499345476\n",
      "Optimization restart 8/10, f = 13.947492499346101\n",
      "Optimization restart 9/10, f = 13.947492499347492\n",
      "Optimization restart 10/10, f = 13.947492499349305\n",
      "Optimization restart 1/10, f = 14.189385332048001\n",
      "Optimization restart 2/10, f = 14.189385754514847\n",
      "Optimization restart 3/10, f = 14.189385603497605\n",
      "Optimization restart 4/10, f = 14.189385390856312\n",
      "Optimization restart 5/10, f = 14.189385646896934\n",
      "Optimization restart 6/10, f = 14.189385632349849\n",
      "Optimization restart 7/10, f = 14.189385679512613\n"
     ]
    },
    {
     "name": "stderr",
     "output_type": "stream",
     "text": [
      "reconstraining parameters GP_regression.Mat52.lengthscale\n",
      "reconstraining parameters GP_regression.Mat52.variance\n",
      "reconstraining parameters GP_regression.Gaussian_noise.variance\n"
     ]
    },
    {
     "name": "stdout",
     "output_type": "stream",
     "text": [
      "Optimization restart 8/10, f = 14.18938572787755\n",
      "Optimization restart 9/10, f = 14.18938565913173\n",
      "Optimization restart 10/10, f = 14.189385818861947\n",
      "Optimization restart 1/10, f = 14.18938533204856\n",
      "Optimization restart 2/10, f = 14.189385645053402\n",
      "Optimization restart 3/10, f = 14.189385672590582\n",
      "Optimization restart 4/10, f = 14.18938543209153\n",
      "Optimization restart 5/10, f = 14.189385766968993\n",
      "Optimization restart 6/10, f = 14.18938538547635\n"
     ]
    },
    {
     "name": "stderr",
     "output_type": "stream",
     "text": [
      "reconstraining parameters GP_regression.Mat52.lengthscale\n",
      "reconstraining parameters GP_regression.Mat52.variance\n",
      "reconstraining parameters GP_regression.Gaussian_noise.variance\n"
     ]
    },
    {
     "name": "stdout",
     "output_type": "stream",
     "text": [
      "Optimization restart 7/10, f = 14.189385347005341\n",
      "Optimization restart 8/10, f = 14.189385408652619\n",
      "Optimization restart 9/10, f = 14.189385419536483\n",
      "Optimization restart 10/10, f = 14.189385451107663\n",
      "Optimization restart 1/10, f = 14.189385332048847\n",
      "Optimization restart 2/10, f = 14.189385415358846\n",
      "Optimization restart 3/10, f = 14.189385801297677\n",
      "Optimization restart 4/10, f = 14.189385765785225\n",
      "Optimization restart 5/10, f = 14.189385648396568\n",
      "Optimization restart 6/10, f = 14.189385576201163\n",
      "Optimization restart 7/10, f = 14.18938538190503\n",
      "Optimization restart 8/10, f = 14.189385699525102\n",
      "Optimization restart 9/10, f = 14.189385410586404\n",
      "Optimization restart 10/10, f = 14.189385760756725\n",
      "(5_w,10)-aCMA-ES (mu_w=3.2,w_1=45%) in dimension 10 (seed=790606, Wed Jul  7 14:04:44 2021)\n",
      "Iterat #Fevals   function value  axis ratio  sigma  min&max std  t[m:s]\n",
      "    1     10 -4.628090915630487e-01 1.0e+00 2.53e-01  2e-01  3e-01 0:00.0\n",
      "    2     20 -4.628090915635076e-01 1.3e+00 2.68e-01  3e-01  3e-01 0:00.0\n"
     ]
    },
    {
     "name": "stderr",
     "output_type": "stream",
     "text": [
      "reconstraining parameters GP_regression.Mat52.lengthscale\n",
      "reconstraining parameters GP_regression.Mat52.variance\n",
      "reconstraining parameters GP_regression.Gaussian_noise.variance\n"
     ]
    },
    {
     "name": "stdout",
     "output_type": "stream",
     "text": [
      "termination on tolfun=1e-11 (Wed Jul  7 14:04:44 2021)\n",
      "final/bestever f-value = -4.628091e-01 -4.628091e-01\n",
      "incumbent solution: [ 0.79991523  1.37959502  2.98577981  7.96778953  1.40340895  4.91871424\n",
      "  3.70773703 15.10046054 ...]\n",
      "std deviations: [0.27751312 0.270743   0.28462428 0.26226924 0.27673988 0.27821379\n",
      " 0.27096681 0.2747691  ...]\n",
      "Optimization restart 1/10, f = 15.303863508626502\n",
      "Optimization restart 2/10, f = 15.303863508630798\n",
      "Optimization restart 3/10, f = 15.303863508626494\n",
      "Optimization restart 4/10, f = 15.303863508664099\n",
      "Optimization restart 5/10, f = 15.303863508627163\n",
      "Optimization restart 6/10, f = 15.303863508639825\n",
      "Optimization restart 7/10, f = 15.303863508724174\n",
      "Optimization restart 8/10, f = 15.303863508631022\n"
     ]
    },
    {
     "name": "stderr",
     "output_type": "stream",
     "text": [
      "reconstraining parameters GP_regression.Mat52.lengthscale\n",
      "reconstraining parameters GP_regression.Mat52.variance\n",
      "reconstraining parameters GP_regression.Gaussian_noise.variance\n"
     ]
    },
    {
     "name": "stdout",
     "output_type": "stream",
     "text": [
      "Optimization restart 9/10, f = 15.303863508626787\n",
      "Optimization restart 10/10, f = 15.303863508626378\n",
      "Optimization restart 1/10, f = 15.608323865250004\n",
      "Optimization restart 2/10, f = 15.60832409449398\n",
      "Optimization restart 3/10, f = 15.608323925803276\n",
      "Optimization restart 4/10, f = 15.608323951612647\n",
      "Optimization restart 5/10, f = 15.608324211588169\n",
      "Optimization restart 6/10, f = 15.608323882627996\n",
      "Optimization restart 7/10, f = 15.608323894667627\n",
      "Optimization restart 8/10, f = 15.608323961693937\n",
      "Optimization restart 9/10, f = 15.608324046244347\n"
     ]
    },
    {
     "name": "stderr",
     "output_type": "stream",
     "text": [
      "reconstraining parameters GP_regression.Mat52.lengthscale\n",
      "reconstraining parameters GP_regression.Mat52.variance\n",
      "reconstraining parameters GP_regression.Gaussian_noise.variance\n"
     ]
    },
    {
     "name": "stdout",
     "output_type": "stream",
     "text": [
      "Optimization restart 10/10, f = 15.608324184955373\n",
      "Optimization restart 1/10, f = 15.608323865229792\n",
      "Optimization restart 2/10, f = 15.444728750747538\n",
      "Optimization restart 3/10, f = 15.444728750756283\n",
      "Optimization restart 4/10, f = 15.444728750747705\n",
      "Optimization restart 5/10, f = 15.444728750748661\n",
      "Optimization restart 6/10, f = 15.444728750747602\n",
      "Optimization restart 7/10, f = 15.444728750749578\n",
      "Optimization restart 8/10, f = 15.444728750747865\n",
      "Optimization restart 9/10, f = 15.444728750747803\n"
     ]
    },
    {
     "name": "stderr",
     "output_type": "stream",
     "text": [
      "reconstraining parameters GP_regression.Mat52.lengthscale\n",
      "reconstraining parameters GP_regression.Mat52.variance\n",
      "reconstraining parameters GP_regression.Gaussian_noise.variance\n"
     ]
    },
    {
     "name": "stdout",
     "output_type": "stream",
     "text": [
      "Optimization restart 10/10, f = 15.44472875075245\n",
      "Optimization restart 1/10, f = 15.608323865252165\n",
      "Optimization restart 2/10, f = 15.608324389325476\n",
      "Optimization restart 3/10, f = 15.608324135019917\n",
      "Optimization restart 4/10, f = 15.608323883261702\n",
      "Optimization restart 5/10, f = 15.608324182127632\n",
      "Optimization restart 6/10, f = 15.608323865251403\n",
      "Optimization restart 7/10, f = 15.608329078494315\n",
      "Optimization restart 8/10, f = 15.608324225793591\n",
      "Optimization restart 9/10, f = 15.608324136149555\n",
      "Optimization restart 10/10, f = 15.608324138906257\n",
      "(5_w,10)-aCMA-ES (mu_w=3.2,w_1=45%) in dimension 10 (seed=786036, Wed Jul  7 14:04:47 2021)\n",
      "Iterat #Fevals   function value  axis ratio  sigma  min&max std  t[m:s]\n",
      "    1     10 -4.941505506478403e-01 1.0e+00 2.36e-01  2e-01  2e-01 0:00.0\n"
     ]
    },
    {
     "name": "stderr",
     "output_type": "stream",
     "text": [
      " /home/finley/miniconda3/envs/testsuite/lib/python3.8/site-packages/cma/utilities/utils.py:329: UserWarning:flat fitness (f=-0.494151, sigma=2.36e-01).\n",
      "                    For small sigma, this could indicate numerical convergence.\n",
      "                    Otherwise, please (re)consider how to compute the fitness more elaborately. (iteration=1)\n",
      "reconstraining parameters GP_regression.Mat52.lengthscale\n",
      "reconstraining parameters GP_regression.Mat52.variance\n",
      "reconstraining parameters GP_regression.Gaussian_noise.variance\n"
     ]
    },
    {
     "name": "stdout",
     "output_type": "stream",
     "text": [
      "termination on tolfun=1e-11 (Wed Jul  7 14:04:47 2021)\n",
      "final/bestever f-value = -4.941506e-01 -4.941506e-01\n",
      "incumbent solution: [ 1.84607769  1.49083084  2.59817981  3.15658334  0.6112639  10.26101617\n",
      "  2.80884919  5.2411119  ...]\n",
      "std deviations: [0.23099146 0.23515136 0.2292036  0.24235431 0.24177274 0.23168889\n",
      " 0.24062609 0.2348821  ...]\n",
      "Optimization restart 1/10, f = 16.673793828657107\n",
      "Optimization restart 2/10, f = 16.673793828715624\n",
      "Optimization restart 3/10, f = 16.6737938286571\n",
      "Optimization restart 4/10, f = 16.673793828792554\n",
      "Optimization restart 5/10, f = 16.673793828660372\n",
      "Optimization restart 6/10, f = 16.67379382865839\n",
      "Optimization restart 7/10, f = 16.673793828663364\n",
      "Optimization restart 8/10, f = 16.67379382866173\n",
      "Optimization restart 9/10, f = 16.67379382865699\n"
     ]
    },
    {
     "name": "stderr",
     "output_type": "stream",
     "text": [
      "reconstraining parameters GP_regression.Mat52.lengthscale\n",
      "reconstraining parameters GP_regression.Mat52.variance\n",
      "reconstraining parameters GP_regression.Gaussian_noise.variance\n"
     ]
    },
    {
     "name": "stdout",
     "output_type": "stream",
     "text": [
      "Optimization restart 10/10, f = 16.673793828740237\n",
      "Optimization restart 1/10, f = 17.02726239845105\n",
      "Optimization restart 2/10, f = 80.10487518827804\n",
      "Optimization restart 3/10, f = 17.024215311206515\n",
      "Optimization restart 4/10, f = 17.024215311214686\n",
      "Optimization restart 5/10, f = 17.024215311230314\n",
      "Optimization restart 6/10, f = 17.024215311767904\n",
      "Optimization restart 7/10, f = 80.10487518827804\n",
      "Optimization restart 8/10, f = 17.024215311218075\n",
      "Optimization restart 9/10, f = 17.024215311209115\n",
      "Optimization restart 10/10, f = 17.02726239845608"
     ]
    },
    {
     "name": "stderr",
     "output_type": "stream",
     "text": [
      "reconstraining parameters GP_regression.Mat52.lengthscale\n",
      "reconstraining parameters GP_regression.Mat52.variance\n",
      "reconstraining parameters GP_regression.Gaussian_noise.variance\n"
     ]
    },
    {
     "name": "stdout",
     "output_type": "stream",
     "text": [
      "\n",
      "Optimization restart 1/10, f = 16.195121451261528\n",
      "Optimization restart 2/10, f = 16.195121451272193\n",
      "Optimization restart 3/10, f = 16.195121451261535\n",
      "Optimization restart 4/10, f = 16.19512145126543\n",
      "Optimization restart 5/10, f = 16.195121451261514\n",
      "Optimization restart 6/10, f = 16.195121451261553\n",
      "Optimization restart 7/10, f = 16.19512145126151\n",
      "Optimization restart 8/10, f = 16.195121451288315\n",
      "Optimization restart 9/10, f = 16.19512145126265\n"
     ]
    },
    {
     "name": "stderr",
     "output_type": "stream",
     "text": [
      "reconstraining parameters GP_regression.Mat52.lengthscale\n",
      "reconstraining parameters GP_regression.Mat52.variance\n",
      "reconstraining parameters GP_regression.Gaussian_noise.variance\n"
     ]
    },
    {
     "name": "stdout",
     "output_type": "stream",
     "text": [
      "Optimization restart 10/10, f = 16.195121451344953\n",
      "Optimization restart 1/10, f = 17.027262398456077\n",
      "Optimization restart 2/10, f = 17.027262398456074\n",
      "Optimization restart 3/10, f = 17.0272625271272\n",
      "Optimization restart 4/10, f = 17.02726239845899\n",
      "Optimization restart 5/10, f = 17.027262421966604\n",
      "Optimization restart 6/10, f = 255737716.94948202\n",
      "Optimization restart 7/10, f = 17.027262908939374\n",
      "Optimization restart 8/10, f = 17.027262398456074\n",
      "Optimization restart 9/10, f = 17.027262398459154\n",
      "Optimization restart 10/10, f = 17.027262398456074\n",
      "(5_w,10)-aCMA-ES (mu_w=3.2,w_1=45%) in dimension 10 (seed=742320, Wed Jul  7 14:04:50 2021)\n",
      "Iterat #Fevals   function value  axis ratio  sigma  min&max std  t[m:s]\n",
      "    1     10 -4.941231302662371e-01 1.0e+00 2.50e-01  2e-01  3e-01 0:00.0\n"
     ]
    },
    {
     "name": "stderr",
     "output_type": "stream",
     "text": [
      " /home/finley/miniconda3/envs/testsuite/lib/python3.8/site-packages/cma/utilities/utils.py:329: UserWarning:flat fitness (f=-0.494123, sigma=2.50e-01).\n",
      "                    For small sigma, this could indicate numerical convergence.\n",
      "                    Otherwise, please (re)consider how to compute the fitness more elaborately. (iteration=1)\n",
      "reconstraining parameters GP_regression.Mat52.lengthscale\n",
      "reconstraining parameters GP_regression.Mat52.variance\n"
     ]
    },
    {
     "name": "stdout",
     "output_type": "stream",
     "text": [
      "termination on tolfun=1e-11 (Wed Jul  7 14:04:50 2021)\n",
      "final/bestever f-value = -4.941231e-01 -4.941231e-01\n",
      "incumbent solution: [ 0.35670131  1.49820159  1.09043682  3.34155062  6.58935538  5.14885454\n",
      "  4.61722625 10.11368171 ...]\n",
      "std deviations: [0.24466476 0.25551674 0.25033799 0.24685755 0.24888719 0.24696157\n",
      " 0.26041387 0.25073557 ...]\n"
     ]
    },
    {
     "name": "stderr",
     "output_type": "stream",
     "text": [
      "reconstraining parameters GP_regression.Gaussian_noise.variance\n"
     ]
    },
    {
     "name": "stdout",
     "output_type": "stream",
     "text": [
      "Optimization restart 1/10, f = 18.12277135653443\n",
      "Optimization restart 2/10, f = 18.122771356768595\n",
      "Optimization restart 3/10, f = 18.44620093166074\n",
      "Optimization restart 4/10, f = 18.122771356786572\n",
      "Optimization restart 5/10, f = 18.12277135652262\n",
      "Optimization restart 6/10, f = 18.446200931660744\n",
      "Optimization restart 7/10, f = 18.446200931660748\n"
     ]
    },
    {
     "name": "stderr",
     "output_type": "stream",
     "text": [
      "reconstraining parameters GP_regression.Mat52.lengthscale\n",
      "reconstraining parameters GP_regression.Mat52.variance\n",
      "reconstraining parameters GP_regression.Gaussian_noise.variance\n"
     ]
    },
    {
     "name": "stdout",
     "output_type": "stream",
     "text": [
      "Optimization restart 8/10, f = 18.122771356522627\n",
      "Optimization restart 9/10, f = 18.1227713567394\n",
      "Optimization restart 10/10, f = 18.122771356537186\n",
      "Optimization restart 1/10, f = 18.438765880208862\n",
      "Optimization restart 2/10, f = 18.44620093166101\n",
      "Optimization restart 3/10, f = 18.438765880232847\n",
      "Optimization restart 4/10, f = 18.438765880227564\n",
      "Optimization restart 5/10, f = 18.438765880324347\n",
      "Optimization restart 6/10, f = 18.446200931660744\n",
      "Optimization restart 7/10, f = 86.78028145396787\n",
      "Optimization restart 8/10, f = 86.78010070355478\n",
      "Optimization restart 9/10, f = 18.44620093166075\n"
     ]
    },
    {
     "name": "stderr",
     "output_type": "stream",
     "text": [
      "reconstraining parameters GP_regression.Mat52.lengthscale\n",
      "reconstraining parameters GP_regression.Mat52.variance\n",
      "reconstraining parameters GP_regression.Gaussian_noise.variance\n"
     ]
    },
    {
     "name": "stdout",
     "output_type": "stream",
     "text": [
      "Optimization restart 10/10, f = 49.73748590987794\n",
      "Optimization restart 1/10, f = 17.228259550252048\n",
      "Optimization restart 2/10, f = 18.44620093166074\n",
      "Optimization restart 3/10, f = 17.228259550345243\n",
      "Optimization restart 4/10, f = 17.228259550246932\n",
      "Optimization restart 5/10, f = 17.22825955024671\n",
      "Optimization restart 6/10, f = 17.228259550249295\n",
      "Optimization restart 7/10, f = 17.22825955024826\n",
      "Optimization restart 8/10, f = 17.228259550470497\n",
      "Optimization restart 9/10, f = 18.446200931687226\n"
     ]
    },
    {
     "name": "stderr",
     "output_type": "stream",
     "text": [
      "reconstraining parameters GP_regression.Mat52.lengthscale\n",
      "reconstraining parameters GP_regression.Mat52.variance\n",
      "reconstraining parameters GP_regression.Gaussian_noise.variance\n"
     ]
    },
    {
     "name": "stdout",
     "output_type": "stream",
     "text": [
      "Optimization restart 10/10, f = 17.228259550247774\n",
      "Optimization restart 1/10, f = 18.446200931660744\n",
      "Optimization restart 2/10, f = 331023864.35348547\n",
      "Optimization restart 3/10, f = 86.78028145396787\n",
      "Optimization restart 4/10, f = 18.44620117424305\n",
      "Optimization restart 5/10, f = 18.4462009864043\n",
      "Optimization restart 6/10, f = 18.446201357231267\n",
      "Optimization restart 7/10, f = 18.446201250935836\n",
      "Optimization restart 8/10, f = 18.446200984117816\n",
      "Optimization restart 9/10, f = 18.446201289885998\n",
      "Optimization restart 10/10, f = 18.446200931660748\n",
      "(5_w,10)-aCMA-ES (mu_w=3.2,w_1=45%) in dimension 10 (seed=803429, Wed Jul  7 14:04:52 2021)\n",
      "Iterat #Fevals   function value  axis ratio  sigma  min&max std  t[m:s]\n",
      "    1     10 -4.961373725282164e-01 1.0e+00 2.52e-01  2e-01  3e-01 0:00.0\n",
      "    2     20 -4.967602390501328e-01 1.2e+00 2.58e-01  3e-01  3e-01 0:00.1\n",
      "    3     30 -4.976099934321714e-01 1.4e+00 2.62e-01  2e-01  3e-01 0:00.1\n"
     ]
    },
    {
     "name": "stderr",
     "output_type": "stream",
     "text": [
      " /home/finley/miniconda3/envs/testsuite/lib/python3.8/site-packages/cma/utilities/utils.py:329: UserWarning:flat fitness (f=-0.509566, sigma=4.16e-01).\n",
      "                    For small sigma, this could indicate numerical convergence.\n",
      "                    Otherwise, please (re)consider how to compute the fitness more elaborately. (iteration=58)\n",
      " /home/finley/miniconda3/envs/testsuite/lib/python3.8/site-packages/cma/utilities/utils.py:329: UserWarning:flat fitness (f=-0.509566, sigma=3.00e-01).\n",
      "                    For small sigma, this could indicate numerical convergence.\n",
      "                    Otherwise, please (re)consider how to compute the fitness more elaborately. (iteration=69)\n",
      " /home/finley/miniconda3/envs/testsuite/lib/python3.8/site-packages/cma/utilities/utils.py:329: UserWarning:flat fitness (f=-0.509566, sigma=2.94e-01).\n",
      "                    For small sigma, this could indicate numerical convergence.\n",
      "                    Otherwise, please (re)consider how to compute the fitness more elaborately. (iteration=70)\n",
      " /home/finley/miniconda3/envs/testsuite/lib/python3.8/site-packages/cma/utilities/utils.py:329: UserWarning:flat fitness (f=-0.509566, sigma=3.15e-01).\n",
      "                    For small sigma, this could indicate numerical convergence.\n",
      "                    Otherwise, please (re)consider how to compute the fitness more elaborately. (iteration=71)\n",
      " /home/finley/miniconda3/envs/testsuite/lib/python3.8/site-packages/cma/utilities/utils.py:329: UserWarning:flat fitness (f=-0.509566, sigma=3.30e-01).\n",
      "                    For small sigma, this could indicate numerical convergence.\n",
      "                    Otherwise, please (re)consider how to compute the fitness more elaborately. (iteration=72)\n",
      " /home/finley/miniconda3/envs/testsuite/lib/python3.8/site-packages/cma/utilities/utils.py:329: UserWarning:flat fitness (f=-0.509566, sigma=3.33e-01).\n",
      "                    For small sigma, this could indicate numerical convergence.\n",
      "                    Otherwise, please (re)consider how to compute the fitness more elaborately. (iteration=73)\n"
     ]
    },
    {
     "name": "stdout",
     "output_type": "stream",
     "text": [
      "   85    850 -5.095657016920038e-01 6.4e+00 2.49e-01  1e-01  3e-01 0:03.0\n"
     ]
    },
    {
     "name": "stderr",
     "output_type": "stream",
     "text": [
      " /home/finley/miniconda3/envs/testsuite/lib/python3.8/site-packages/cma/utilities/utils.py:329: UserWarning:flat fitness (f=-0.509566, sigma=2.27e-01).\n",
      "                    For small sigma, this could indicate numerical convergence.\n",
      "                    Otherwise, please (re)consider how to compute the fitness more elaborately. (iteration=80)\n",
      " /home/finley/miniconda3/envs/testsuite/lib/python3.8/site-packages/cma/utilities/utils.py:329: UserWarning:flat fitness (f=-0.509566, sigma=2.51e-01).\n",
      "                    For small sigma, this could indicate numerical convergence.\n",
      "                    Otherwise, please (re)consider how to compute the fitness more elaborately. (iteration=82)\n",
      " /home/finley/miniconda3/envs/testsuite/lib/python3.8/site-packages/cma/utilities/utils.py:329: UserWarning:flat fitness (f=-0.509566, sigma=2.39e-01).\n",
      "                    For small sigma, this could indicate numerical convergence.\n",
      "                    Otherwise, please (re)consider how to compute the fitness more elaborately. (iteration=83)\n",
      " /home/finley/miniconda3/envs/testsuite/lib/python3.8/site-packages/cma/utilities/utils.py:329: UserWarning:flat fitness (f=-0.509566, sigma=2.35e-01).\n",
      "                    For small sigma, this could indicate numerical convergence.\n",
      "                    Otherwise, please (re)consider how to compute the fitness more elaborately. (iteration=84)\n",
      " /home/finley/miniconda3/envs/testsuite/lib/python3.8/site-packages/cma/utilities/utils.py:329: UserWarning:flat fitness (f=-0.509566, sigma=2.49e-01).\n",
      "                    For small sigma, this could indicate numerical convergence.\n",
      "                    Otherwise, please (re)consider how to compute the fitness more elaborately. (iteration=85)\n",
      "reconstraining parameters GP_regression.Mat52.lengthscale\n",
      "reconstraining parameters GP_regression.Mat52.variance\n",
      "reconstraining parameters GP_regression.Gaussian_noise.variance\n"
     ]
    },
    {
     "name": "stdout",
     "output_type": "stream",
     "text": [
      "termination on tolfun=1e-11 (Wed Jul  7 14:04:55 2021)\n",
      "termination on tolfunhist=1e-12 (Wed Jul  7 14:04:55 2021)\n",
      "termination on flat fitness=please (re)consider how to compute the fitness more elaborately if sigma=2.49e-01 is large (Wed Jul  7 14:04:55 2021)\n",
      "final/bestever f-value = -5.095657e-01 -5.095657e-01\n",
      "incumbent solution: [ 1.87739504  2.14841022  4.80848698  3.10062246  7.7593801  10.50314734\n",
      "  5.54262649  0.9199352  ...]\n",
      "std deviations: [0.14401301 0.10694985 0.138642   0.1317097  0.24584043 0.20865083\n",
      " 0.21361156 0.20550416 ...]\n",
      "Optimization restart 1/10, f = 18.977235793866576\n",
      "Optimization restart 2/10, f = 18.977235793866576\n",
      "Optimization restart 3/10, f = 18.977235793873255\n",
      "Optimization restart 4/10, f = 18.97723579386731\n",
      "Optimization restart 5/10, f = 18.977235793932234\n",
      "Optimization restart 6/10, f = 19.865139464865443\n",
      "Optimization restart 7/10, f = 18.977235793898494\n",
      "Optimization restart 8/10, f = 18.977235793889584\n",
      "Optimization restart 9/10, f = 18.97723579387035\n"
     ]
    },
    {
     "name": "stderr",
     "output_type": "stream",
     "text": [
      "reconstraining parameters GP_regression.Mat52.lengthscale\n",
      "reconstraining parameters GP_regression.Mat52.variance\n",
      "reconstraining parameters GP_regression.Gaussian_noise.variance\n"
     ]
    },
    {
     "name": "stdout",
     "output_type": "stream",
     "text": [
      "Optimization restart 10/10, f = 18.97723579386659\n",
      "Optimization restart 1/10, f = 19.85384818527162\n",
      "Optimization restart 2/10, f = 19.85384818553892\n",
      "Optimization restart 3/10, f = 19.853848185270596\n",
      "Optimization restart 4/10, f = 19.853848185288946\n",
      "Optimization restart 5/10, f = 93.4556877196577\n",
      "Optimization restart 6/10, f = 19.85384818530354\n",
      "Optimization restart 7/10, f = 19.853848185314412\n",
      "Optimization restart 8/10, f = 19.8538481852733\n"
     ]
    },
    {
     "name": "stderr",
     "output_type": "stream",
     "text": [
      "reconstraining parameters GP_regression.Mat52.lengthscale\n",
      "reconstraining parameters GP_regression.Mat52.variance\n",
      "reconstraining parameters GP_regression.Gaussian_noise.variance\n"
     ]
    },
    {
     "name": "stdout",
     "output_type": "stream",
     "text": [
      "Optimization restart 9/10, f = 19.85384818527524\n",
      "Optimization restart 10/10, f = 19.853848185270735\n",
      "Optimization restart 1/10, f = 19.439958033302513\n",
      "Optimization restart 2/10, f = 19.865139464867802\n",
      "Optimization restart 3/10, f = 19.43995803329442\n",
      "Optimization restart 4/10, f = 19.439958033294275\n",
      "Optimization restart 5/10, f = 93.4556877196577\n",
      "Optimization restart 6/10, f = 19.439958033294538\n",
      "Optimization restart 7/10, f = 19.439958033297028\n",
      "Optimization restart 8/10, f = 19.43995803329417\n"
     ]
    },
    {
     "name": "stderr",
     "output_type": "stream",
     "text": [
      "reconstraining parameters GP_regression.Mat52.lengthscale\n",
      "reconstraining parameters GP_regression.Mat52.variance\n",
      "reconstraining parameters GP_regression.Gaussian_noise.variance\n"
     ]
    },
    {
     "name": "stdout",
     "output_type": "stream",
     "text": [
      "Optimization restart 9/10, f = 19.439958033296936\n",
      "Optimization restart 10/10, f = 19.439958033307885\n",
      "Optimization restart 1/10, f = 19.86513946486542\n",
      "Optimization restart 2/10, f = 19.77986910753917\n",
      "Optimization restart 3/10, f = 19.7798691075379\n",
      "Optimization restart 4/10, f = 19.7798691075445\n",
      "Optimization restart 5/10, f = 19.865139464865738\n",
      "Optimization restart 6/10, f = 19.77986910755328\n",
      "Optimization restart 7/10, f = 19.779869107538598\n",
      "Optimization restart 8/10, f = 19.779869107552706\n",
      "Optimization restart 9/10, f = 19.7798691075445\n",
      "Optimization restart 10/10, f = 19.865139464865422\n",
      "(5_w,10)-aCMA-ES (mu_w=3.2,w_1=45%) in dimension 10 (seed=774802, Wed Jul  7 14:04:57 2021)\n",
      "Iterat #Fevals   function value  axis ratio  sigma  min&max std  t[m:s]\n",
      "    1     10 -4.892540123075402e-01 1.0e+00 2.38e-01  2e-01  2e-01 0:00.0\n",
      "    2     20 -4.902840180744351e-01 1.2e+00 2.27e-01  2e-01  2e-01 0:00.1\n",
      "    3     30 -4.907192743668120e-01 1.3e+00 2.47e-01  2e-01  3e-01 0:00.1\n",
      "  100   1000 -5.065958308090774e-01 8.2e+00 2.61e-01  6e-02  3e-01 0:02.0\n",
      "  200   2000 -5.072484200535518e-01 6.4e+01 1.81e-02  2e-03  2e-02 0:03.9\n",
      "  300   3000 -5.072497971619176e-01 1.6e+03 1.08e-03  1e-04  9e-04 0:05.8\n",
      "  400   4000 -5.072498007328423e-01 1.5e+04 2.14e-04  1e-05  1e-04 0:07.6\n",
      "  472   4720 -5.072498008021364e-01 8.3e+04 3.32e-05  2e-06  1e-05 0:09.0\n"
     ]
    },
    {
     "name": "stderr",
     "output_type": "stream",
     "text": [
      "reconstraining parameters GP_regression.Mat52.lengthscale\n",
      "reconstraining parameters GP_regression.Mat52.variance\n",
      "reconstraining parameters GP_regression.Gaussian_noise.variance\n"
     ]
    },
    {
     "name": "stdout",
     "output_type": "stream",
     "text": [
      "termination on tolfun=1e-11 (Wed Jul  7 14:05:07 2021)\n",
      "final/bestever f-value = -5.072498e-01 -5.072498e-01\n",
      "incumbent solution: [ 1.30161587  2.69152301  2.05213632  1.63684723  0.47423785 10.11327277\n",
      "  9.42288072  4.05013304 ...]\n",
      "std deviations: [1.55689258e-06 2.80314140e-06 3.05312710e-06 5.22669951e-06\n",
      " 5.29873245e-06 8.14705915e-06 9.36016837e-06 1.05086139e-05 ...]\n",
      "Optimization restart 1/10, f = 20.935883662735378\n",
      "Optimization restart 2/10, f = 21.284077998070092\n",
      "Optimization restart 3/10, f = 20.935883662742537\n",
      "Optimization restart 4/10, f = 100.13105096559225\n",
      "Optimization restart 5/10, f = 100.13109398534753\n",
      "Optimization restart 6/10, f = 20.935883662744686\n",
      "Optimization restart 7/10, f = 20.935883662735208\n"
     ]
    },
    {
     "name": "stderr",
     "output_type": "stream",
     "text": [
      "reconstraining parameters GP_regression.Mat52.lengthscale\n",
      "reconstraining parameters GP_regression.Mat52.variance\n",
      "reconstraining parameters GP_regression.Gaussian_noise.variance\n"
     ]
    },
    {
     "name": "stdout",
     "output_type": "stream",
     "text": [
      "Optimization restart 8/10, f = 20.935883662736344\n",
      "Optimization restart 9/10, f = 100.1310910078768\n",
      "Optimization restart 10/10, f = 20.935883662735186\n",
      "Optimization restart 1/10, f = 20.158097359194382\n",
      "Optimization restart 2/10, f = 20.15809735918954\n",
      "Optimization restart 3/10, f = 749178.1938840117\n",
      "Optimization restart 4/10, f = 20.15809735918968\n",
      "Optimization restart 5/10, f = 100.1309173764334\n",
      "Optimization restart 6/10, f = 21.284077998070803\n",
      "Optimization restart 7/10, f = 20.158097359189515\n"
     ]
    },
    {
     "name": "stderr",
     "output_type": "stream",
     "text": [
      "reconstraining parameters GP_regression.Mat52.lengthscale\n",
      "reconstraining parameters GP_regression.Mat52.variance\n",
      "reconstraining parameters GP_regression.Gaussian_noise.variance\n"
     ]
    },
    {
     "name": "stdout",
     "output_type": "stream",
     "text": [
      "Optimization restart 8/10, f = 20.158097359189522\n",
      "Optimization restart 9/10, f = 20.158097359192347\n",
      "Optimization restart 10/10, f = 20.158097359189515\n",
      "Optimization restart 1/10, f = 20.085404958267123\n",
      "Optimization restart 2/10, f = 20.085404958270697\n",
      "Optimization restart 3/10, f = 20.085404958267123\n",
      "Optimization restart 4/10, f = 100.13109398534753\n",
      "Optimization restart 5/10, f = 100.13109248910446\n",
      "Optimization restart 6/10, f = 20.08540495826718\n",
      "Optimization restart 7/10, f = 49.862016174974286\n",
      "Optimization restart 8/10, f = 101460989.2598376\n",
      "Optimization restart 9/10, f = 20.08540495826712\n",
      "Optimization restart 10/10, f = 101658808.76625824"
     ]
    },
    {
     "name": "stderr",
     "output_type": "stream",
     "text": [
      "reconstraining parameters GP_regression.Mat52.lengthscale\n",
      "reconstraining parameters GP_regression.Mat52.variance\n",
      "reconstraining parameters GP_regression.Gaussian_noise.variance\n"
     ]
    },
    {
     "name": "stdout",
     "output_type": "stream",
     "text": [
      "\n",
      "Optimization restart 1/10, f = 21.160641432881338\n",
      "Optimization restart 2/10, f = 21.1606414329012\n",
      "Optimization restart 3/10, f = 100.13109398534753\n",
      "Optimization restart 4/10, f = 21.160641432876275\n",
      "Optimization restart 5/10, f = 100.13109398534753\n",
      "Optimization restart 6/10, f = 100.13109398534753\n",
      "Optimization restart 7/10, f = 100.13109398534753\n",
      "Optimization restart 8/10, f = 52.296948894263394\n",
      "Optimization restart 9/10, f = 21.28407799807009\n",
      "Optimization restart 10/10, f = 21.160641432876986\n",
      "(5_w,10)-aCMA-ES (mu_w=3.2,w_1=45%) in dimension 10 (seed=781134, Wed Jul  7 14:05:09 2021)\n",
      "Iterat #Fevals   function value  axis ratio  sigma  min&max std  t[m:s]\n",
      "    1     10 -4.906907711481272e-01 1.0e+00 2.45e-01  2e-01  3e-01 0:00.0\n",
      "    2     20 -4.908286564692749e-01 1.2e+00 2.79e-01  3e-01  3e-01 0:00.1\n",
      "    3     30 -4.908617261825037e-01 1.3e+00 3.12e-01  3e-01  3e-01 0:00.1\n",
      "   89    890 -5.075828109353249e-01 1.6e+01 1.77e-01  5e-02  3e-01 0:03.1\n",
      "  100   1000 -5.077276063320350e-01 2.0e+01 1.00e-01  2e-02  1e-01 0:03.6\n",
      "  200   2000 -5.080670248420883e-01 2.1e+02 1.28e-02  1e-03  1e-02 0:07.2\n",
      "  300   3000 -5.080698792560845e-01 1.5e+03 3.20e-03  3e-04  3e-03 0:10.7\n",
      "  400   4000 -5.080699445657029e-01 1.7e+04 2.32e-04  1e-05  2e-04 0:14.2\n",
      "  500   5000 -5.080699452614821e-01 1.4e+05 3.84e-05  2e-06  3e-05 0:18.3\n",
      "  528   5280 -5.080699452661633e-01 1.9e+05 8.24e-06  4e-07  6e-06 0:18.9\n"
     ]
    },
    {
     "name": "stderr",
     "output_type": "stream",
     "text": [
      "reconstraining parameters GP_regression.Mat52.lengthscale\n",
      "reconstraining parameters GP_regression.Mat52.variance\n",
      "reconstraining parameters GP_regression.Gaussian_noise.variance\n"
     ]
    },
    {
     "name": "stdout",
     "output_type": "stream",
     "text": [
      "termination on tolfun=1e-11 (Wed Jul  7 14:05:29 2021)\n",
      "final/bestever f-value = -5.080699e-01 -5.080699e-01\n",
      "incumbent solution: [ 1.08466447  2.06211375  2.43638509  5.33478176  0.6734633   7.25728836\n",
      "  5.92815016 10.50018518 ...]\n",
      "std deviations: [4.16937323e-07 1.08331664e-06 1.31794002e-06 1.53435352e-06\n",
      " 2.76326543e-06 2.50341510e-06 3.61262171e-06 3.20339896e-06 ...]\n",
      "Optimization restart 1/10, f = 22.06791009172964\n",
      "Optimization restart 2/10, f = 22.70301653127477\n",
      "Optimization restart 3/10, f = 22.067910091729466\n",
      "Optimization restart 4/10, f = 22.067910091730788\n",
      "Optimization restart 5/10, f = 22.06791009172946\n",
      "Optimization restart 6/10, f = 22.0679100917296\n",
      "Optimization restart 7/10, f = 22.06791009226722\n",
      "Optimization restart 8/10, f = 106.80649369314001\n",
      "Optimization restart 9/10, f = 22.067910091729438\n"
     ]
    },
    {
     "name": "stderr",
     "output_type": "stream",
     "text": [
      "reconstraining parameters GP_regression.Mat52.lengthscale\n",
      "reconstraining parameters GP_regression.Mat52.variance\n",
      "reconstraining parameters GP_regression.Gaussian_noise.variance\n"
     ]
    },
    {
     "name": "stdout",
     "output_type": "stream",
     "text": [
      "Optimization restart 10/10, f = 22.067910091884052\n",
      "Optimization restart 1/10, f = 21.675554907970053\n",
      "Optimization restart 2/10, f = 21.675554907970017\n",
      "Optimization restart 3/10, f = 52.73902592505178\n",
      "Optimization restart 4/10, f = 106.80650025103739\n"
     ]
    },
    {
     "name": "stderr",
     "output_type": "stream",
     "text": [
      "reconstraining parameters GP_regression.Mat52.lengthscale\n",
      "reconstraining parameters GP_regression.Mat52.variance\n",
      "reconstraining parameters GP_regression.Gaussian_noise.variance\n"
     ]
    },
    {
     "name": "stdout",
     "output_type": "stream",
     "text": [
      "Optimization restart 5/10, f = 22.703016529103927\n",
      "Optimization restart 6/10, f = 21.675554907970984\n",
      "Optimization restart 7/10, f = 22.703013163444822\n",
      "Optimization restart 8/10, f = 22.703016531274763\n",
      "Optimization restart 9/10, f = 21.675554907969545\n",
      "Optimization restart 10/10, f = 22.703016531274784\n",
      "Optimization restart 1/10, f = 21.216854763496592\n",
      "Optimization restart 2/10, f = 21.216854763496556\n",
      "Optimization restart 3/10, f = 21.216854763496336\n",
      "Optimization restart 4/10, f = 50.34439495031084\n",
      "Optimization restart 5/10, f = 21.216854763503015\n",
      "Optimization restart 6/10, f = 106.806488308198\n"
     ]
    },
    {
     "name": "stderr",
     "output_type": "stream",
     "text": [
      "reconstraining parameters GP_regression.Mat52.lengthscale\n",
      "reconstraining parameters GP_regression.Mat52.variance\n",
      "reconstraining parameters GP_regression.Gaussian_noise.variance\n"
     ]
    },
    {
     "name": "stdout",
     "output_type": "stream",
     "text": [
      "Optimization restart 7/10, f = 21.216854763569888\n",
      "Optimization restart 8/10, f = 21.216854763500855\n",
      "Optimization restart 9/10, f = 106.80650025103739\n",
      "Optimization restart 10/10, f = 108292524.10644536\n",
      "Optimization restart 1/10, f = 22.23245636762999\n",
      "Optimization restart 2/10, f = 22.23245636763097\n",
      "Optimization restart 3/10, f = 22.232456367629815\n",
      "Optimization restart 4/10, f = 22.703016531274763\n",
      "Optimization restart 5/10, f = 411003542.87635577\n",
      "Optimization restart 6/10, f = 22.232456367671716\n",
      "Optimization restart 7/10, f = 106.80650025103739\n",
      "Optimization restart 8/10, f = 22.232456367632203\n",
      "Optimization restart 9/10, f = 411431934.3251672\n",
      "Optimization restart 10/10, f = 22.2324563676305\n",
      "(5_w,10)-aCMA-ES (mu_w=3.2,w_1=45%) in dimension 10 (seed=778224, Wed Jul  7 14:05:31 2021)\n",
      "Iterat #Fevals   function value  axis ratio  sigma  min&max std  t[m:s]\n",
      "    1     10 -4.914148400073892e-01 1.0e+00 2.29e-01  2e-01  2e-01 0:00.0\n",
      "    2     20 -4.940590933882558e-01 1.1e+00 2.42e-01  2e-01  2e-01 0:00.1\n",
      "    3     30 -4.947426504268446e-01 1.2e+00 2.60e-01  2e-01  3e-01 0:00.1\n",
      "  100   1000 -5.074712938694840e-01 1.6e+01 1.45e-01  4e-02  2e-01 0:01.9\n",
      "  200   2000 -5.082456550341412e-01 7.0e+01 1.07e-01  2e-02  1e-01 0:03.7\n",
      "  300   3000 -5.082748882755668e-01 3.6e+02 3.20e-03  4e-04  3e-03 0:06.9\n",
      "  400   4000 -5.082756828779948e-01 2.0e+03 1.44e-03  2e-04  1e-03 0:10.4\n",
      "  500   5000 -5.082757542908484e-01 8.7e+03 3.54e-04  4e-05  3e-04 0:14.0\n",
      "  600   6000 -5.082757581450594e-01 3.2e+04 1.56e-04  2e-05  1e-04 0:17.5\n",
      "  700   7000 -5.082757582746319e-01 2.0e+05 2.35e-05  2e-06  2e-05 0:21.0\n",
      "  765   7650 -5.082757582935745e-01 3.3e+05 2.50e-05  2e-06  1e-05 0:23.4\n"
     ]
    },
    {
     "name": "stderr",
     "output_type": "stream",
     "text": [
      "reconstraining parameters GP_regression.Mat52.lengthscale\n",
      "reconstraining parameters GP_regression.Mat52.variance\n",
      "reconstraining parameters GP_regression.Gaussian_noise.variance\n"
     ]
    },
    {
     "name": "stdout",
     "output_type": "stream",
     "text": [
      "termination on tolfun=1e-11 (Wed Jul  7 14:05:57 2021)\n",
      "final/bestever f-value = -5.082758e-01 -5.082758e-01\n",
      "incumbent solution: [ 1.05069524  2.39756611  1.48733331  4.86752394  5.49407384  4.12559611\n",
      " 13.40028081  7.97058045 ...]\n",
      "std deviations: [2.33429736e-06 3.45890501e-06 4.23476797e-06 7.56596789e-06\n",
      " 8.63695686e-06 8.97530362e-06 1.47448715e-05 1.43087012e-05 ...]\n",
      "Optimization restart 1/10, f = 23.692283179497444\n",
      "Optimization restart 2/10, f = 23.692283179497267\n",
      "Optimization restart 3/10, f = 23.69228317949718\n",
      "Optimization restart 4/10, f = 113.48190651672722\n",
      "Optimization restart 5/10, f = 113.48190651672722\n",
      "Optimization restart 6/10, f = 23.69228317949983\n",
      "Optimization restart 7/10, f = 49.18838701316464\n",
      "Optimization restart 8/10, f = 23.69228317950129\n"
     ]
    },
    {
     "name": "stderr",
     "output_type": "stream",
     "text": [
      "reconstraining parameters GP_regression.Mat52.lengthscale\n",
      "reconstraining parameters GP_regression.Mat52.variance\n",
      "reconstraining parameters GP_regression.Gaussian_noise.variance\n"
     ]
    },
    {
     "name": "stdout",
     "output_type": "stream",
     "text": [
      "Optimization restart 9/10, f = 113.48190651672722\n",
      "Optimization restart 10/10, f = 849068.6197352135\n",
      "Optimization restart 1/10, f = 23.369668328343714\n",
      "Optimization restart 2/10, f = 23.369668328346442\n",
      "Optimization restart 3/10, f = 23.36966832834425\n",
      "Optimization restart 4/10, f = 113.48190651672722\n",
      "Optimization restart 5/10, f = 23.369668328347764\n",
      "Optimization restart 6/10, f = 113.48190651672722"
     ]
    },
    {
     "name": "stderr",
     "output_type": "stream",
     "text": [
      "reconstraining parameters GP_regression.Mat52.lengthscale\n",
      "reconstraining parameters GP_regression.Mat52.variance\n",
      "reconstraining parameters GP_regression.Gaussian_noise.variance\n"
     ]
    },
    {
     "name": "stdout",
     "output_type": "stream",
     "text": [
      "\n",
      "Optimization restart 7/10, f = 23.369668328350798\n",
      "Optimization restart 8/10, f = 113.48190651672722\n",
      "Optimization restart 9/10, f = 23.369668328345576\n",
      "Optimization restart 10/10, f = 113.48190651672722\n",
      "Optimization restart 1/10, f = 22.24499607151401\n",
      "Optimization restart 2/10, f = 113.48190651672722\n",
      "Optimization restart 3/10, f = 22.2449960715167\n",
      "Optimization restart 4/10, f = 115203066.50019997\n",
      "Optimization restart 5/10, f = 22.24499607155216\n",
      "Optimization restart 6/10, f = 22.24499607151401\n",
      "Optimization restart 7/10, f = 113.48190651672722\n",
      "Optimization restart 8/10, f = 113.48190651672722\n"
     ]
    },
    {
     "name": "stderr",
     "output_type": "stream",
     "text": [
      "reconstraining parameters GP_regression.Mat52.lengthscale\n",
      "reconstraining parameters GP_regression.Mat52.variance\n",
      "reconstraining parameters GP_regression.Gaussian_noise.variance\n"
     ]
    },
    {
     "name": "stdout",
     "output_type": "stream",
     "text": [
      "Optimization restart 9/10, f = 22.2449960715158\n",
      "Optimization restart 10/10, f = 24.121955064479437\n",
      "Optimization restart 1/10, f = 23.420653320720938\n",
      "Optimization restart 2/10, f = 24.121955064479437\n",
      "Optimization restart 3/10, f = 23.420653320720024\n",
      "Optimization restart 4/10, f = 113.48190651672722\n",
      "Optimization restart 5/10, f = 23.420653320719573\n",
      "Optimization restart 6/10, f = 24.121955064480396\n",
      "Optimization restart 7/10, f = 113.48190651672722\n",
      "Optimization restart 8/10, f = 24.121955064479437\n",
      "Optimization restart 9/10, f = 23.420653320724586\n",
      "Optimization restart 10/10, f = 23.420653320719623\n",
      "(5_w,10)-aCMA-ES (mu_w=3.2,w_1=45%) in dimension 10 (seed=752747, Wed Jul  7 14:06:01 2021)\n",
      "Iterat #Fevals   function value  axis ratio  sigma  min&max std  t[m:s]\n",
      "    1     10 -4.901118180736679e-01 1.0e+00 2.27e-01  2e-01  2e-01 0:00.0\n",
      "    2     20 -4.908326283808453e-01 1.2e+00 2.32e-01  2e-01  2e-01 0:00.1\n",
      "    3     30 -4.915051735870489e-01 1.3e+00 2.56e-01  2e-01  3e-01 0:00.1\n",
      "   85    850 -5.099197213521585e-01 6.3e+00 3.92e-01  1e-01  5e-01 0:03.1\n",
      "  100   1000 -5.104485147647709e-01 8.1e+00 2.84e-01  8e-02  4e-01 0:03.6\n",
      "  200   2000 -5.122557151522359e-01 6.6e+01 1.42e-01  2e-02  3e-01 0:05.9\n",
      "  300   3000 -5.126386806261856e-01 2.2e+02 3.95e-02  5e-03  5e-02 0:07.8\n",
      "  400   4000 -5.126445790768962e-01 1.1e+03 2.42e-03  3e-04  3e-03 0:09.7\n",
      "  500   5000 -5.126448639206955e-01 4.2e+03 1.71e-03  1e-04  2e-03 0:11.5\n",
      "  600   6000 -5.126449153416847e-01 1.2e+04 8.42e-04  4e-05  6e-04 0:13.4\n",
      "  700   7000 -5.126449173538519e-01 5.0e+04 9.18e-05  4e-06  5e-05 0:15.3\n",
      "  800   8000 -5.126449174725906e-01 2.2e+05 3.28e-05  1e-06  2e-05 0:18.2\n",
      "  821   8210 -5.126449174750385e-01 2.4e+05 4.84e-05  2e-06  2e-05 0:19.0\n"
     ]
    },
    {
     "name": "stderr",
     "output_type": "stream",
     "text": [
      "reconstraining parameters GP_regression.Mat52.lengthscale\n",
      "reconstraining parameters GP_regression.Mat52.variance\n",
      "reconstraining parameters GP_regression.Gaussian_noise.variance\n"
     ]
    },
    {
     "name": "stdout",
     "output_type": "stream",
     "text": [
      "termination on tolfun=1e-11 (Wed Jul  7 14:06:21 2021)\n",
      "final/bestever f-value = -5.126449e-01 -5.126449e-01\n",
      "incumbent solution: [1.65574267e+00 1.39928702e+00 2.76048955e+00 6.26605295e+00\n",
      " 2.30995051e-09 8.54735522e+00 1.27590650e+00 1.09905022e+01 ...]\n",
      "std deviations: [1.92288019e-06 6.69808894e-06 6.25550122e-06 8.95424137e-06\n",
      " 6.00786884e-06 1.48352004e-05 1.32635035e-05 1.75920301e-05 ...]\n",
      "Optimization restart 1/10, f = 25.340841905782845\n",
      "Optimization restart 2/10, f = 25.34084190578227\n",
      "Optimization restart 3/10, f = 25.540893597684104\n",
      "Optimization restart 4/10, f = 25.34084190578527\n",
      "Optimization restart 5/10, f = 25.340841905913212\n",
      "Optimization restart 6/10, f = 120.15731278241705\n",
      "Optimization restart 7/10, f = 25.34084190578797\n",
      "Optimization restart 8/10, f = 120.15731278241705\n",
      "Optimization restart 9/10, f = 120.15731278241705\n",
      "Optimization restart 10/10, f = 25.340841905781588\n"
     ]
    },
    {
     "name": "stderr",
     "output_type": "stream",
     "text": [
      "reconstraining parameters GP_regression.Mat52.lengthscale\n",
      "reconstraining parameters GP_regression.Mat52.variance\n",
      "reconstraining parameters GP_regression.Gaussian_noise.variance\n"
     ]
    },
    {
     "name": "stdout",
     "output_type": "stream",
     "text": [
      "Optimization restart 1/10, f = 25.13859681371337\n",
      "Optimization restart 2/10, f = 25.540893597684107\n",
      "Optimization restart 3/10, f = 25.13859681371497\n",
      "Optimization restart 4/10, f = 120.1573127819432\n",
      "Optimization restart 5/10, f = 25.540893597684114\n",
      "Optimization restart 6/10, f = 25.138596813713438\n",
      "Optimization restart 7/10, f = 25.13859681371337\n"
     ]
    },
    {
     "name": "stderr",
     "output_type": "stream",
     "text": [
      "reconstraining parameters GP_regression.Mat52.lengthscale\n"
     ]
    },
    {
     "name": "stdout",
     "output_type": "stream",
     "text": [
      "Optimization restart 8/10, f = 25.138596813714315\n",
      "Optimization restart 9/10, f = 498121368.4768844\n",
      "Optimization restart 10/10, f = 497017840.7712014\n"
     ]
    },
    {
     "name": "stderr",
     "output_type": "stream",
     "text": [
      "reconstraining parameters GP_regression.Mat52.variance\n",
      "reconstraining parameters GP_regression.Gaussian_noise.variance\n"
     ]
    },
    {
     "name": "stdout",
     "output_type": "stream",
     "text": [
      "Optimization restart 1/10, f = 24.589183333963806\n",
      "Optimization restart 2/10, f = 120.15731278241705\n",
      "Optimization restart 3/10, f = 24.58918333396371\n",
      "Optimization restart 4/10, f = 25.54089359768411\n",
      "Optimization restart 5/10, f = 25.54089359768411\n",
      "Optimization restart 6/10, f = 24.589183333963888\n",
      "Optimization restart 7/10, f = 120.15731278241705\n",
      "Optimization restart 8/10, f = 25.540893597684132\n",
      "Optimization restart 9/10, f = 120.15731278241705\n"
     ]
    },
    {
     "name": "stderr",
     "output_type": "stream",
     "text": [
      "reconstraining parameters GP_regression.Mat52.lengthscale\n",
      "reconstraining parameters GP_regression.Mat52.variance\n",
      "reconstraining parameters GP_regression.Gaussian_noise.variance\n"
     ]
    },
    {
     "name": "stdout",
     "output_type": "stream",
     "text": [
      "Optimization restart 10/10, f = 24.58918333396373\n",
      "Optimization restart 1/10, f = 25.532786346279455\n",
      "Optimization restart 2/10, f = 25.53278753194845\n",
      "Optimization restart 3/10, f = 120.15731278241705\n",
      "Optimization restart 4/10, f = 25.54089359768411\n",
      "Optimization restart 5/10, f = 25.532786346285814\n",
      "Optimization restart 6/10, f = 502895359.8806592\n",
      "Optimization restart 7/10, f = 25.54089359768411\n",
      "Optimization restart 8/10, f = 25.5327863462781\n",
      "Optimization restart 9/10, f = 25.532786346389145\n",
      "Optimization restart 10/10, f = 25.532786346285494\n",
      "(5_w,10)-aCMA-ES (mu_w=3.2,w_1=45%) in dimension 10 (seed=803730, Wed Jul  7 14:06:25 2021)\n",
      "Iterat #Fevals   function value  axis ratio  sigma  min&max std  t[m:s]\n",
      "    1     10 -4.919014049815166e-01 1.0e+00 2.59e-01  2e-01  3e-01 0:00.0\n",
      "    2     20 -4.921446318712748e-01 1.3e+00 2.81e-01  3e-01  3e-01 0:00.1\n",
      "    3     30 -4.920480357933449e-01 1.4e+00 2.81e-01  3e-01  3e-01 0:00.1\n",
      "  100   1000 -5.031012818256122e-01 1.3e+01 5.86e-02  2e-02  7e-02 0:02.2\n",
      "  200   2000 -5.032468909158689e-01 7.8e+01 4.70e-02  1e-02  6e-02 0:04.1\n",
      "  300   3000 -5.033049222126229e-01 2.2e+02 1.92e-02  3e-03  2e-02 0:06.0\n",
      "  400   4000 -5.033309861760874e-01 3.5e+02 9.15e-02  1e-02  7e-02 0:07.8\n",
      "  500   5000 -5.033369622845917e-01 7.3e+02 3.16e-02  3e-03  2e-02 0:09.6\n",
      "  600   6000 -5.033377699999896e-01 1.5e+03 1.09e-02  8e-04  5e-03 0:12.0\n",
      "  700   7000 -5.033387288745272e-01 1.3e+03 9.52e-02  4e-03  2e-02 0:15.3\n",
      "  800   8000 -5.033403640579066e-01 1.1e+03 6.83e-02  2e-03  8e-03 0:17.2\n",
      "  900   9000 -5.033411928701347e-01 1.9e+03 3.22e-02  5e-04  3e-03 0:19.4\n",
      " 1000  10000 -5.033413252251052e-01 3.7e+03 4.72e-02  4e-04  3e-03 0:23.0\n",
      "Iterat #Fevals   function value  axis ratio  sigma  min&max std  t[m:s]\n",
      " 1100  11000 -5.033413555826811e-01 8.1e+03 1.72e-02  1e-04  7e-04 0:26.6\n",
      " 1200  12000 -5.033413831067740e-01 1.0e+04 4.64e-02  2e-04  1e-03 0:29.0\n",
      " 1300  13000 -5.033413971078413e-01 1.1e+04 1.83e-02  6e-05  3e-04 0:32.6\n",
      " 1400  14000 -5.033414006967361e-01 2.1e+04 3.51e-02  8e-05  4e-04 0:36.1\n",
      " 1500  15000 -5.033414035860794e-01 2.8e+04 4.91e-02  6e-05  3e-04 0:39.8\n",
      " 1600  16000 -5.033414056529639e-01 2.8e+04 7.07e-02  5e-05  3e-04 0:43.4\n",
      " 1700  17000 -5.033414060906174e-01 5.2e+04 3.02e-02  1e-05  8e-05 0:47.0\n",
      " 1800  18000 -5.033414065078023e-01 7.0e+04 8.93e-02  3e-05  1e-04 0:50.5\n",
      " 1900  19000 -5.033414067027087e-01 9.6e+04 4.99e-02  1e-05  6e-05 0:54.1\n",
      " 2000  20000 -5.033414067599798e-01 2.2e+05 8.33e-02  1e-05  7e-05 0:57.7\n",
      "Iterat #Fevals   function value  axis ratio  sigma  min&max std  t[m:s]\n",
      " 2045  20450 -5.033414067702011e-01 2.5e+05 4.45e-02  5e-06  3e-05 0:59.3\n"
     ]
    },
    {
     "name": "stderr",
     "output_type": "stream",
     "text": [
      "reconstraining parameters GP_regression.Mat52.lengthscale\n",
      "reconstraining parameters GP_regression.Mat52.variance\n",
      "reconstraining parameters GP_regression.Gaussian_noise.variance\n"
     ]
    },
    {
     "name": "stdout",
     "output_type": "stream",
     "text": [
      "termination on tolfun=1e-11 (Wed Jul  7 14:07:29 2021)\n",
      "final/bestever f-value = -5.033414e-01 -5.033414e-01\n",
      "incumbent solution: [1.99999996e+00 1.05764257e+00 1.30623343e+00 3.88410247e+00\n",
      " 2.98205126e-09 9.82117805e+00 8.97106184e-01 7.92600551e+00 ...]\n",
      "std deviations: [9.12690095e-06 6.75473606e-06 4.54539513e-06 1.19128635e-05\n",
      " 1.03388123e-05 3.37504780e-05 2.36551221e-05 2.98493553e-05 ...]\n",
      "Optimization restart 1/10, f = 26.075936918760604\n",
      "Optimization restart 2/10, f = 26.075936918755446\n",
      "Optimization restart 3/10, f = 26.075936918748027\n",
      "Optimization restart 4/10, f = 26.95983213088882\n",
      "Optimization restart 5/10, f = 112.34305239174851\n",
      "Optimization restart 6/10, f = 26.075936918747658\n",
      "Optimization restart 7/10, f = 126.8327190481069\n"
     ]
    },
    {
     "name": "stderr",
     "output_type": "stream",
     "text": [
      "reconstraining parameters GP_regression.Mat52.lengthscale\n",
      "reconstraining parameters GP_regression.Mat52.variance\n"
     ]
    },
    {
     "name": "stdout",
     "output_type": "stream",
     "text": [
      "Optimization restart 8/10, f = 26.075936918748077\n",
      "Optimization restart 9/10, f = 26.95983213088879\n",
      "Optimization restart 10/10, f = 26.075936918747658\n"
     ]
    },
    {
     "name": "stderr",
     "output_type": "stream",
     "text": [
      "reconstraining parameters GP_regression.Gaussian_noise.variance\n"
     ]
    },
    {
     "name": "stdout",
     "output_type": "stream",
     "text": [
      "Optimization restart 1/10, f = 26.278658886412266\n",
      "Optimization restart 2/10, f = 509623173.3437714\n",
      "Optimization restart 3/10, f = 126.83271904809615\n",
      "Optimization restart 4/10, f = 26.27865888642108\n",
      "Optimization restart 5/10, f = 126.8327190481069\n",
      "Optimization restart 6/10, f = 26.27865888641289\n",
      "Optimization restart 7/10, f = 26.278658886412266\n",
      "Optimization restart 8/10, f = 26.278658886412515\n",
      "Optimization restart 9/10, f = 126.8327190481069\n"
     ]
    },
    {
     "name": "stderr",
     "output_type": "stream",
     "text": [
      "reconstraining parameters GP_regression.Mat52.lengthscale\n",
      "reconstraining parameters GP_regression.Mat52.variance\n",
      "reconstraining parameters GP_regression.Gaussian_noise.variance\n"
     ]
    },
    {
     "name": "stdout",
     "output_type": "stream",
     "text": [
      "Optimization restart 10/10, f = 26.278658886412323\n",
      "Optimization restart 1/10, f = 25.478407010706153\n",
      "Optimization restart 2/10, f = 25.478407010713426\n",
      "Optimization restart 3/10, f = 25.47840701070406\n",
      "Optimization restart 4/10, f = 126.83271732754568\n",
      "Optimization restart 5/10, f = 948959.0455864146\n",
      "Optimization restart 6/10, f = 25.478407010704778\n",
      "Optimization restart 7/10, f = 25.478407010704245\n",
      "Optimization restart 8/10, f = 25.478407010704082\n",
      "Optimization restart 9/10, f = 126.83271687306011\n"
     ]
    },
    {
     "name": "stderr",
     "output_type": "stream",
     "text": [
      "reconstraining parameters GP_regression.Mat52.lengthscale\n",
      "reconstraining parameters GP_regression.Mat52.variance\n",
      "reconstraining parameters GP_regression.Gaussian_noise.variance\n"
     ]
    },
    {
     "name": "stdout",
     "output_type": "stream",
     "text": [
      "Optimization restart 10/10, f = 126.8327190481069\n",
      "Optimization restart 1/10, f = 26.913593308285943\n",
      "Optimization restart 2/10, f = 26.913593308307867\n",
      "Optimization restart 3/10, f = 26.913593308279097\n",
      "Optimization restart 4/10, f = 26.913593309230762\n",
      "Optimization restart 5/10, f = 26.959832130888785\n",
      "Optimization restart 6/10, f = 64.28154471490167\n",
      "Optimization restart 7/10, f = 26.95983213088878\n",
      "Optimization restart 8/10, f = 26.91359330827928\n",
      "Optimization restart 9/10, f = 26.913593308279097\n",
      "Optimization restart 10/10, f = 948959.0455864151\n",
      "(5_w,10)-aCMA-ES (mu_w=3.2,w_1=45%) in dimension 10 (seed=721138, Wed Jul  7 14:07:36 2021)\n",
      "Iterat #Fevals   function value  axis ratio  sigma  min&max std  t[m:s]\n",
      "    1     10 -4.861239635752716e-01 1.0e+00 2.28e-01  2e-01  2e-01 0:00.0\n",
      "    2     20 -4.873534519315807e-01 1.1e+00 2.41e-01  2e-01  3e-01 0:00.1\n",
      "    3     30 -4.874260769698068e-01 1.3e+00 2.61e-01  2e-01  3e-01 0:00.1\n",
      "   86    860 -4.976498912462776e-01 1.1e+01 4.26e-01  1e-01  6e-01 0:03.1\n",
      "  100   1000 -4.993028124430072e-01 1.6e+01 3.30e-01  8e-02  5e-01 0:03.7\n",
      "  200   2000 -5.064232767610536e-01 6.0e+01 2.13e-01  3e-02  2e-01 0:07.4\n",
      "  300   3000 -5.073061092523135e-01 4.9e+01 1.21e-01  8e-03  9e-02 0:11.0\n",
      "  400   4000 -5.075190659201225e-01 2.0e+02 3.78e-02  2e-03  2e-02 0:14.7\n",
      "  500   5000 -5.075324450009002e-01 1.2e+03 1.45e-02  7e-04  6e-03 0:18.3\n",
      "  600   6000 -5.075328090601439e-01 8.8e+03 7.73e-04  3e-05  4e-04 0:20.8\n",
      "  700   7000 -5.075328161800194e-01 5.3e+04 3.29e-04  1e-05  2e-04 0:22.7\n",
      "  800   8000 -5.075328165473542e-01 2.4e+05 4.90e-05  2e-06  3e-05 0:24.6\n",
      "  841   8410 -5.075328165556932e-01 5.2e+05 1.47e-05  4e-07  6e-06 0:25.4\n"
     ]
    },
    {
     "name": "stderr",
     "output_type": "stream",
     "text": [
      "reconstraining parameters GP_regression.Mat52.lengthscale\n",
      "reconstraining parameters GP_regression.Mat52.variance\n",
      "reconstraining parameters GP_regression.Gaussian_noise.variance\n"
     ]
    },
    {
     "name": "stdout",
     "output_type": "stream",
     "text": [
      "termination on tolfun=1e-11 (Wed Jul  7 14:08:03 2021)\n",
      "final/bestever f-value = -5.075328e-01 -5.075328e-01\n",
      "incumbent solution: [ 1.18442492  1.69253694  2.43684851  6.4768237   0.55969329  6.68019766\n",
      "  3.55944651 12.80115609 ...]\n",
      "std deviations: [4.39645890e-07 1.17011555e-06 1.65759933e-06 1.95849034e-06\n",
      " 4.71862098e-06 3.87127581e-06 2.16438382e-06 4.55039252e-06 ...]\n",
      "Optimization restart 1/10, f = 26.920254879445018\n",
      "Optimization restart 2/10, f = 133.50812531379674\n",
      "Optimization restart 3/10, f = 133.50812472193442\n",
      "Optimization restart 4/10, f = 26.920254879437763\n",
      "Optimization restart 5/10, f = 275219197.6185948\n",
      "Optimization restart 6/10, f = 28.378770664093544\n",
      "Optimization restart 7/10, f = 28.378770664093604\n",
      "Optimization restart 8/10, f = 28.378770664093718\n",
      "Optimization restart 9/10, f = 133.50812531379674\n"
     ]
    },
    {
     "name": "stderr",
     "output_type": "stream",
     "text": [
      "reconstraining parameters GP_regression.Mat52.lengthscale\n",
      "reconstraining parameters GP_regression.Mat52.variance\n",
      "reconstraining parameters GP_regression.Gaussian_noise.variance\n"
     ]
    },
    {
     "name": "stdout",
     "output_type": "stream",
     "text": [
      "Optimization restart 10/10, f = 26.920254879438723\n",
      "Optimization restart 1/10, f = 27.59789460128677\n",
      "Optimization restart 2/10, f = 133.50812531379674\n",
      "Optimization restart 3/10, f = 133.50812531379674\n",
      "Optimization restart 4/10, f = 28.378770664094098\n",
      "Optimization restart 5/10, f = 68.93290134092469\n",
      "Optimization restart 6/10, f = 28.378770664093455\n",
      "Optimization restart 7/10, f = 68.9328835943386\n"
     ]
    },
    {
     "name": "stderr",
     "output_type": "stream",
     "text": [
      "reconstraining parameters GP_regression.Mat52.lengthscale\n"
     ]
    },
    {
     "name": "stdout",
     "output_type": "stream",
     "text": [
      "Optimization restart 8/10, f = 27.597894601271108\n",
      "Optimization restart 9/10, f = 133.50812531379674\n",
      "Optimization restart 10/10, f = 28.378770664093455\n"
     ]
    },
    {
     "name": "stderr",
     "output_type": "stream",
     "text": [
      "reconstraining parameters GP_regression.Mat52.variance\n",
      "reconstraining parameters GP_regression.Gaussian_noise.variance\n"
     ]
    },
    {
     "name": "stdout",
     "output_type": "stream",
     "text": [
      "Optimization restart 1/10, f = 28.37877881787678\n",
      "Optimization restart 2/10, f = 61.17614691982665\n",
      "Optimization restart 3/10, f = 25.962048417655957\n",
      "Optimization restart 4/10, f = 998904.2585120152\n",
      "Optimization restart 5/10, f = 998904.2585120152\n",
      "Optimization restart 6/10, f = 133.50812531379674\n",
      "Optimization restart 7/10, f = 25.96204841765465\n",
      "Optimization restart 8/10, f = 133.50812531379674\n",
      "Optimization restart 9/10, f = 61.176146701335604\n"
     ]
    },
    {
     "name": "stderr",
     "output_type": "stream",
     "text": [
      "reconstraining parameters GP_regression.Mat52.lengthscale\n",
      "reconstraining parameters GP_regression.Mat52.variance\n",
      "reconstraining parameters GP_regression.Gaussian_noise.variance\n"
     ]
    },
    {
     "name": "stdout",
     "output_type": "stream",
     "text": [
      "Optimization restart 10/10, f = 25.962048417659332\n",
      "Optimization restart 1/10, f = 27.55194302280526\n",
      "Optimization restart 2/10, f = 69.38281481302265\n",
      "Optimization restart 3/10, f = 28.37877066409736\n",
      "Optimization restart 4/10, f = 28.378770664093473\n",
      "Optimization restart 5/10, f = 28.37877066409345\n",
      "Optimization restart 6/10, f = 535200816.23176754\n",
      "Optimization restart 7/10, f = 27.551943022660723\n",
      "Optimization restart 8/10, f = 28.37877066409346\n",
      "Optimization restart 9/10, f = 27.55194302272068\n",
      "Optimization restart 10/10, f = 133.50812529700764\n",
      "(5_w,10)-aCMA-ES (mu_w=3.2,w_1=45%) in dimension 10 (seed=751355, Wed Jul  7 14:08:07 2021)\n",
      "Iterat #Fevals   function value  axis ratio  sigma  min&max std  t[m:s]\n",
      "    1     10 -4.903763879829753e-01 1.0e+00 2.54e-01  2e-01  3e-01 0:00.0\n",
      "    2     20 -4.906853217403303e-01 1.2e+00 2.58e-01  2e-01  3e-01 0:00.1\n",
      "    3     30 -4.907198763865241e-01 1.3e+00 2.62e-01  2e-01  3e-01 0:00.1\n",
      "   97    970 -4.993321784754745e-01 1.4e+01 2.76e-01  8e-02  3e-01 0:03.1\n",
      "  100   1000 -4.992870977651138e-01 1.4e+01 2.97e-01  1e-01  4e-01 0:03.2\n",
      "  200   2000 -5.028192065579995e-01 2.4e+01 1.99e-01  2e-02  2e-01 0:06.8\n",
      "  300   3000 -5.031759699158742e-01 1.4e+02 7.22e-02  5e-03  6e-02 0:10.5\n",
      "  400   4000 -5.031855985019865e-01 8.6e+02 8.13e-03  7e-04  9e-03 0:13.8\n",
      "  500   5000 -5.031860061802285e-01 2.9e+03 6.71e-03  4e-04  5e-03 0:17.4\n",
      "  600   6000 -5.031861861042841e-01 6.0e+03 6.53e-03  2e-04  3e-03 0:21.1\n",
      "  700   7000 -5.031863354096909e-01 5.1e+03 8.16e-03  2e-04  2e-03 0:24.7\n",
      "  800   8000 -5.031864088708159e-01 6.9e+03 1.06e-02  2e-04  2e-03 0:28.3\n",
      "  900   9000 -5.031864516556445e-01 1.0e+04 7.78e-03  6e-05  7e-04 0:32.0\n",
      " 1000  10000 -5.031864797328018e-01 1.5e+04 2.57e-02  2e-04  1e-03 0:35.6\n",
      "Iterat #Fevals   function value  axis ratio  sigma  min&max std  t[m:s]\n",
      " 1100  11000 -5.031864970915630e-01 2.1e+04 3.98e-02  1e-04  2e-03 0:39.2\n",
      " 1200  12000 -5.031865140518259e-01 2.9e+04 2.98e-02  5e-05  8e-04 0:42.9\n",
      " 1300  13000 -5.031865306307512e-01 2.3e+04 5.09e-02  4e-05  8e-04 0:46.5\n",
      " 1400  14000 -5.031865425403301e-01 2.4e+04 1.38e-01  1e-04  1e-03 0:49.6\n",
      " 1500  15000 -5.031865485074134e-01 3.5e+04 6.99e-02  3e-05  3e-04 0:51.5\n",
      " 1600  16000 -5.031865524503039e-01 3.8e+04 1.85e-01  4e-05  6e-04 0:53.7\n",
      " 1700  17000 -5.031865568306242e-01 4.2e+04 2.90e-01  5e-05  7e-04 0:55.5\n",
      " 1800  18000 -5.031865604971649e-01 4.9e+04 3.47e-01  3e-05  5e-04 0:57.4\n",
      " 1900  19000 -5.031865621970348e-01 8.0e+04 1.92e-01  9e-06  2e-04 0:59.2\n",
      " 2000  20000 -5.031865635368469e-01 7.4e+04 5.30e-01  2e-05  2e-04 1:01.1\n",
      "Iterat #Fevals   function value  axis ratio  sigma  min&max std  t[m:s]\n",
      " 2100  21000 -5.031865651728467e-01 5.4e+04 6.40e-01  1e-05  2e-04 1:03.0\n",
      " 2200  22000 -5.031865666710420e-01 7.8e+04 1.94e+00  2e-05  3e-04 1:04.9\n",
      " 2300  23000 -5.031865675591124e-01 1.1e+05 2.52e+00  2e-05  3e-04 1:06.8\n",
      " 2400  24000 -5.031865682780130e-01 7.6e+04 4.84e+00  2e-05  3e-04 1:08.7\n",
      " 2500  25000 -5.031865689981120e-01 9.6e+04 4.06e+00  1e-05  1e-04 1:10.5\n",
      " 2600  26000 -5.031865696677749e-01 1.1e+05 1.46e+01  2e-05  3e-04 1:12.4\n",
      " 2700  27000 -5.031865702812983e-01 1.2e+05 1.03e+01  1e-05  1e-04 1:14.2\n",
      " 2800  28000 -5.031865706012064e-01 9.5e+04 2.18e+01  1e-05  2e-04 1:16.1\n",
      " 2900  29000 -5.031865709843457e-01 1.0e+05 4.53e+01  1e-05  2e-04 1:18.0\n",
      " 3000  30000 -5.031865712037759e-01 1.4e+05 6.56e+01  2e-05  2e-04 1:19.8\n",
      "Iterat #Fevals   function value  axis ratio  sigma  min&max std  t[m:s]\n",
      " 3100  31000 -5.031865714686541e-01 2.1e+05 5.85e+01  7e-06  1e-04 1:21.8\n",
      " 3200  32000 -5.031865716467481e-01 2.4e+05 6.06e+01  4e-06  7e-05 1:23.6\n",
      " 3300  33000 -5.031865718161823e-01 1.6e+05 1.96e+02  9e-06  1e-04 1:25.6\n",
      " 3400  34000 -5.031865719908659e-01 2.1e+05 2.28e+02  5e-06  9e-05 1:27.5\n",
      " 3500  35000 -5.031865721414794e-01 2.5e+05 4.66e+02  8e-06  1e-04 1:29.3\n",
      " 3600  36000 -5.031865722399695e-01 2.6e+05 1.04e+03  9e-06  1e-04 1:31.2\n",
      " 3700  37000 -5.031865723165945e-01 3.3e+05 1.76e+03  1e-05  2e-04 1:33.1\n",
      " 3800  38000 -5.031865724093315e-01 3.6e+05 2.69e+03  1e-05  1e-04 1:34.9\n",
      " 3900  39000 -5.031865724590832e-01 3.8e+05 1.80e+03  5e-06  6e-05 1:36.8\n",
      " 3976  39760 -5.031865724899121e-01 5.9e+05 1.58e+03  2e-06  4e-05 1:38.2\n"
     ]
    },
    {
     "name": "stderr",
     "output_type": "stream",
     "text": [
      "reconstraining parameters GP_regression.Mat52.lengthscale\n",
      "reconstraining parameters GP_regression.Mat52.variance\n",
      "reconstraining parameters GP_regression.Gaussian_noise.variance\n"
     ]
    },
    {
     "name": "stdout",
     "output_type": "stream",
     "text": [
      "termination on tolfun=1e-11 (Wed Jul  7 14:09:54 2021)\n",
      "final/bestever f-value = -5.031866e-01 -5.031866e-01\n",
      "incumbent solution: [1.99451474 1.13881725 1.54658342 5.51276268 5.62963793 5.64657162\n",
      " 9.84085721 6.2298479  ...]\n",
      "std deviations: [1.93906635e-06 3.71668908e-06 1.01062342e-05 1.50260868e-05\n",
      " 2.47384101e-05 1.85062194e-05 1.79990016e-05 2.70677288e-05 ...]\n",
      "Optimization restart 1/10, f = 28.294522422459927\n",
      "Optimization restart 2/10, f = 28.29452242246019\n",
      "Optimization restart 3/10, f = 28.29452242246217\n",
      "Optimization restart 4/10, f = 29.797709197298467\n",
      "Optimization restart 5/10, f = 63.02358008247847\n",
      "Optimization restart 6/10, f = 140.18353157948656\n",
      "Optimization restart 7/10, f = 29.797709197298147\n",
      "Optimization restart 8/10, f = 29.79770919729813\n"
     ]
    },
    {
     "name": "stderr",
     "output_type": "stream",
     "text": [
      "reconstraining parameters GP_regression.Mat52.lengthscale\n",
      "reconstraining parameters GP_regression.Mat52.variance\n",
      "reconstraining parameters GP_regression.Gaussian_noise.variance\n"
     ]
    },
    {
     "name": "stdout",
     "output_type": "stream",
     "text": [
      "Optimization restart 9/10, f = 28.294522422459835\n",
      "Optimization restart 10/10, f = 28.294522422459828\n",
      "Optimization restart 1/10, f = 28.94347765507451\n",
      "Optimization restart 2/10, f = 646838401.6773213\n",
      "Optimization restart 3/10, f = 29.797709197298268\n",
      "Optimization restart 4/10, f = 28.94347765507198\n",
      "Optimization restart 5/10, f = 29.797709197298175\n",
      "Optimization restart 6/10, f = 140.18353157948656\n",
      "Optimization restart 7/10, f = 28.94347765507367\n",
      "Optimization restart 8/10, f = 646258598.4900063\n"
     ]
    },
    {
     "name": "stderr",
     "output_type": "stream",
     "text": [
      "reconstraining parameters GP_regression.Mat52.lengthscale\n",
      "reconstraining parameters GP_regression.Mat52.variance\n",
      "reconstraining parameters GP_regression.Gaussian_noise.variance\n"
     ]
    },
    {
     "name": "stdout",
     "output_type": "stream",
     "text": [
      "Optimization restart 9/10, f = 29.797709197298133\n",
      "Optimization restart 10/10, f = 29.797709197299675\n",
      "Optimization restart 1/10, f = 27.404043595323866\n",
      "Optimization restart 2/10, f = 27.404043595321287\n",
      "Optimization restart 3/10, f = 27.40404359532139\n",
      "Optimization restart 4/10, f = 27.404043595321355\n",
      "Optimization restart 5/10, f = 29.7977091973126\n",
      "Optimization restart 6/10, f = 27.404043595321586\n"
     ]
    },
    {
     "name": "stderr",
     "output_type": "stream",
     "text": [
      "reconstraining parameters GP_regression.Mat52.lengthscale\n",
      "reconstraining parameters GP_regression.Mat52.variance\n",
      "reconstraining parameters GP_regression.Gaussian_noise.variance\n"
     ]
    },
    {
     "name": "stdout",
     "output_type": "stream",
     "text": [
      "Optimization restart 7/10, f = 27.404043595323863\n",
      "Optimization restart 8/10, f = 220371645.87852204\n",
      "Optimization restart 9/10, f = 29.79770919730077\n",
      "Optimization restart 10/10, f = 220170511.8649907\n",
      "Optimization restart 1/10, f = 29.092029074927453\n",
      "Optimization restart 2/10, f = 29.79770919729813\n",
      "Optimization restart 3/10, f = 29.092029074925662\n",
      "Optimization restart 4/10, f = 29.797709197298264\n",
      "Optimization restart 5/10, f = 29.09202907507216\n",
      "Optimization restart 6/10, f = 71.82303908920291\n",
      "Optimization restart 7/10, f = 29.09202907492531\n",
      "Optimization restart 8/10, f = 29.797709197299763\n",
      "Optimization restart 9/10, f = 29.797709197298126\n",
      "Optimization restart 10/10, f = 561226943.39279\n",
      "(5_w,10)-aCMA-ES (mu_w=3.2,w_1=45%) in dimension 10 (seed=684393, Wed Jul  7 14:09:58 2021)\n",
      "Iterat #Fevals   function value  axis ratio  sigma  min&max std  t[m:s]\n",
      "    1     10 -4.845239193679470e-01 1.0e+00 2.42e-01  2e-01  2e-01 0:00.0\n",
      "    2     20 -4.878470435781511e-01 1.2e+00 2.46e-01  2e-01  3e-01 0:00.1\n",
      "    3     30 -4.878531682186070e-01 1.3e+00 2.64e-01  2e-01  3e-01 0:00.1\n",
      "  100   1000 -4.933127234718098e-01 9.1e+00 2.06e-01  7e-02  3e-01 0:02.1\n",
      "  200   2000 -4.937405440269282e-01 3.5e+01 1.47e-01  3e-02  2e-01 0:04.0\n",
      "  300   3000 -4.939937249913443e-01 6.3e+01 1.73e-01  3e-02  2e-01 0:05.9\n",
      "  400   4000 -4.942493173225040e-01 6.9e+01 1.29e-01  1e-02  1e-01 0:07.9\n",
      "  500   5000 -4.943422232180222e-01 1.6e+02 1.69e-01  6e-03  1e-01 0:09.8\n",
      "  600   6000 -4.943971076308973e-01 1.9e+02 1.71e-01  5e-03  7e-02 0:11.7\n",
      "  700   7000 -4.944394995557106e-01 3.3e+02 1.10e-01  2e-03  3e-02 0:14.6\n",
      "  800   8000 -4.944560351415301e-01 4.7e+02 6.36e-01  1e-02  9e-02 0:18.2\n",
      "  900   9000 -4.944869009432259e-01 4.6e+02 3.27e-01  3e-03  3e-02 0:20.8\n",
      " 1000  10000 -4.944962629049115e-01 5.3e+02 8.52e-01  5e-03  5e-02 0:22.7\n",
      "Iterat #Fevals   function value  axis ratio  sigma  min&max std  t[m:s]\n",
      " 1100  11000 -4.945036904254724e-01 8.9e+02 7.18e-01  4e-03  3e-02 0:24.7\n",
      " 1200  12000 -4.945045012072034e-01 2.4e+03 2.96e-01  1e-03  1e-02 0:26.6\n",
      " 1300  13000 -4.945045792673088e-01 7.5e+03 1.14e-01  3e-04  3e-03 0:28.5\n",
      " 1400  14000 -4.945059491396373e-01 4.3e+03 1.37e+00  2e-03  2e-02 0:30.4\n",
      " 1500  15000 -4.945094026509739e-01 3.6e+03 2.63e+00  2e-03  2e-02 0:32.3\n",
      " 1600  16000 -4.945114567163522e-01 2.4e+03 2.94e+00  1e-03  1e-02 0:34.2\n",
      " 1700  17000 -4.945120489865422e-01 2.8e+03 1.16e+00  3e-04  4e-03 0:36.2\n",
      " 1800  18000 -4.945120895586950e-01 9.8e+03 6.70e-01  2e-04  2e-03 0:38.1\n",
      " 1900  19000 -4.945120930717529e-01 2.2e+04 1.18e-01  2e-05  2e-04 0:40.3\n",
      " 2000  20000 -4.945121174932912e-01 2.4e+04 4.46e+00  4e-04  4e-03 0:42.2\n",
      "Iterat #Fevals   function value  axis ratio  sigma  min&max std  t[m:s]\n",
      " 2100  21000 -4.945123861344012e-01 2.0e+04 1.03e+01  5e-04  6e-03 0:44.2\n",
      " 2200  22000 -4.945124322885601e-01 2.0e+04 1.10e+01  3e-04  5e-03 0:46.1\n",
      " 2300  23000 -4.945124691149468e-01 1.2e+04 1.04e+01  2e-04  3e-03 0:47.9\n",
      " 2400  24000 -4.945125119298031e-01 1.2e+04 1.69e+01  2e-04  3e-03 0:50.1\n",
      " 2500  25000 -4.945125561261939e-01 8.4e+03 3.58e+01  2e-04  3e-03 0:52.0\n",
      " 2600  26000 -4.945125609637142e-01 2.7e+04 1.29e+01  6e-05  9e-04 0:54.1\n",
      " 2700  27000 -4.945125624391324e-01 4.8e+04 1.32e+01  4e-05  6e-04 0:56.0\n",
      " 2800  28000 -4.945125632599400e-01 8.5e+04 1.50e+01  3e-05  4e-04 0:58.0\n",
      " 2900  29000 -4.945125642805134e-01 7.9e+04 1.94e+01  2e-05  4e-04 0:59.9\n",
      " 3000  30000 -4.945125657416538e-01 6.6e+04 7.31e+01  5e-05  7e-04 1:01.8\n",
      "Iterat #Fevals   function value  axis ratio  sigma  min&max std  t[m:s]\n",
      " 3100  31000 -4.945125694737487e-01 5.8e+04 1.34e+02  5e-05  8e-04 1:03.8\n",
      " 3200  32000 -4.945125755135907e-01 3.2e+04 2.75e+02  5e-05  8e-04 1:05.7\n",
      " 3300  33000 -4.945125844645955e-01 2.4e+04 6.52e+02  5e-05  1e-03 1:07.6\n",
      " 3400  34000 -4.945125875225354e-01 3.8e+04 6.59e+02  3e-05  8e-04 1:09.5\n",
      " 3500  35000 -4.945125884062351e-01 5.2e+04 1.39e+02  5e-06  1e-04 1:11.5\n",
      " 3600  36000 -4.945125884987839e-01 1.0e+05 3.15e+02  6e-06  2e-04 1:13.4\n",
      " 3700  37000 -4.945125887556949e-01 1.0e+05 1.50e+03  2e-05  4e-04 1:15.3\n",
      " 3800  38000 -4.945125890881542e-01 9.8e+04 4.01e+03  4e-05  6e-04 1:17.2\n",
      " 3900  39000 -4.945125894438422e-01 8.6e+04 4.01e+03  2e-05  4e-04 1:19.0\n",
      " 4000  40000 -4.945125896085227e-01 1.7e+05 2.93e+03  8e-06  2e-04 1:20.9\n",
      "Iterat #Fevals   function value  axis ratio  sigma  min&max std  t[m:s]\n",
      " 4100  41000 -4.945125896526996e-01 2.1e+05 1.76e+03  4e-06  6e-05 1:22.8\n",
      " 4102  41020 -4.945125896531950e-01 2.1e+05 1.59e+03  4e-06  5e-05 1:22.9\n",
      "termination on tolfun=1e-11 (Wed Jul  7 14:11:28 2021)\n",
      "final/bestever f-value = -4.945126e-01 -4.945126e-01\n",
      "incumbent solution: [1.61871690e+00 5.89264819e-01 2.64909111e-07 2.76996789e+00\n",
      " 8.72253500e+00 2.13873322e-02 1.40000000e+01 5.12287756e+00 ...]\n",
      "std deviations: [7.40872930e-06 5.91215287e-06 5.35985317e-06 1.60229619e-05\n",
      " 2.36035390e-05 3.67563593e-06 5.21872476e-05 4.52906258e-05 ...]\n"
     ]
    },
    {
     "name": "stderr",
     "output_type": "stream",
     "text": [
      "reconstraining parameters GP_regression.Mat52.lengthscale\n",
      "reconstraining parameters GP_regression.Mat52.variance\n",
      "reconstraining parameters GP_regression.Gaussian_noise.variance\n"
     ]
    },
    {
     "name": "stdout",
     "output_type": "stream",
     "text": [
      "Optimization restart 1/10, f = 29.657620371372474\n",
      "Optimization restart 2/10, f = 66.43136420602285\n",
      "Optimization restart 3/10, f = 29.65762037136456\n",
      "Optimization restart 4/10, f = 29.65762037136458\n",
      "Optimization restart 5/10, f = 29.65762037136456\n",
      "Optimization restart 6/10, f = 66.43136444310164\n",
      "Optimization restart 7/10, f = 146.8589378451764\n",
      "Optimization restart 8/10, f = 29.6576203713645\n",
      "Optimization restart 9/10, f = 31.216647730502796\n",
      "Optimization restart 10/10, f = 29.657620371364466\n"
     ]
    },
    {
     "name": "stderr",
     "output_type": "stream",
     "text": [
      "reconstraining parameters GP_regression.Mat52.lengthscale\n",
      "reconstraining parameters GP_regression.Mat52.variance\n",
      "reconstraining parameters GP_regression.Gaussian_noise.variance\n"
     ]
    },
    {
     "name": "stdout",
     "output_type": "stream",
     "text": [
      "Optimization restart 1/10, f = 30.366878195143997\n",
      "Optimization restart 2/10, f = 146.8589378451764\n",
      "Optimization restart 3/10, f = 30.366878195088596\n",
      "Optimization restart 4/10, f = 31.216647730502796\n",
      "Optimization restart 5/10, f = 146.8589378451764\n",
      "Optimization restart 6/10, f = 31.216647730527654\n",
      "Optimization restart 7/10, f = 30.366878195088553\n",
      "Optimization restart 8/10, f = 30.366878195091473\n",
      "Optimization restart 9/10, f = 146.8589378451764"
     ]
    },
    {
     "name": "stderr",
     "output_type": "stream",
     "text": [
      "reconstraining parameters GP_regression.Mat52.lengthscale\n",
      "reconstraining parameters GP_regression.Mat52.variance\n",
      "reconstraining parameters GP_regression.Gaussian_noise.variance\n"
     ]
    },
    {
     "name": "stdout",
     "output_type": "stream",
     "text": [
      "\n",
      "Optimization restart 10/10, f = 31.216647730505372\n",
      "Optimization restart 1/10, f = 28.89852208997201\n",
      "Optimization restart 2/10, f = 28.89852208993858\n",
      "Optimization restart 3/10, f = 28.898522089942503\n",
      "Optimization restart 4/10, f = 64.95970051265509\n",
      "Optimization restart 5/10, f = 28.89852208994423\n",
      "Optimization restart 6/10, f = 146.8589378451764\n",
      "Optimization restart 7/10, f = 28.898522090014986\n"
     ]
    },
    {
     "name": "stderr",
     "output_type": "stream",
     "text": [
      "reconstraining parameters GP_regression.Mat52.lengthscale\n",
      "reconstraining parameters GP_regression.Mat52.variance\n",
      "reconstraining parameters GP_regression.Gaussian_noise.variance\n"
     ]
    },
    {
     "name": "stdout",
     "output_type": "stream",
     "text": [
      "Optimization restart 8/10, f = 31.216647730502807\n",
      "Optimization restart 9/10, f = 31.2166477305028\n",
      "Optimization restart 10/10, f = 28.898522089938567\n",
      "Optimization restart 1/10, f = 30.532239923508975\n",
      "Optimization restart 2/10, f = 146.8589378451764\n",
      "Optimization restart 3/10, f = 146.8589378451764\n",
      "Optimization restart 4/10, f = 146.8589378451764\n",
      "Optimization restart 5/10, f = 146.8589378451764\n",
      "Optimization restart 6/10, f = 146.8589378451764\n",
      "Optimization restart 7/10, f = 31.216647730502814\n",
      "Optimization restart 8/10, f = 146.8589378451764\n",
      "Optimization restart 9/10, f = 146.8589378451764\n",
      "Optimization restart 10/10, f = 31.216647730503137\n",
      "(5_w,10)-aCMA-ES (mu_w=3.2,w_1=45%) in dimension 10 (seed=737438, Wed Jul  7 14:11:32 2021)\n",
      "Iterat #Fevals   function value  axis ratio  sigma  min&max std  t[m:s]\n",
      "    1     10 -4.838043842459745e-01 1.0e+00 2.26e-01  2e-01  2e-01 0:00.0\n",
      "    2     20 -4.840244104426047e-01 1.1e+00 2.17e-01  2e-01  2e-01 0:00.1\n",
      "    3     30 -4.847479063328897e-01 1.2e+00 2.41e-01  2e-01  3e-01 0:00.1\n",
      "  100   1000 -4.977391711945902e-01 1.4e+01 2.05e-01  7e-02  3e-01 0:01.9\n",
      "  200   2000 -4.999725252768986e-01 1.1e+02 5.93e-02  8e-03  7e-02 0:03.8\n",
      "  300   3000 -4.999854386762644e-01 1.1e+03 4.20e-03  5e-04  4e-03 0:05.8\n",
      "  400   4000 -4.999855845794642e-01 1.4e+04 6.50e-04  8e-05  8e-04 0:07.9\n",
      "  500   5000 -4.999855867665963e-01 1.1e+05 1.01e-04  1e-05  1e-04 0:09.7\n",
      "  600   6000 -4.999855868946571e-01 3.8e+05 3.56e-05  3e-06  2e-05 0:12.2\n",
      "  611   6110 -4.999855868957661e-01 4.8e+05 3.32e-05  2e-06  2e-05 0:12.4\n"
     ]
    },
    {
     "name": "stderr",
     "output_type": "stream",
     "text": [
      "reconstraining parameters GP_regression.Mat52.lengthscale\n",
      "reconstraining parameters GP_regression.Mat52.variance\n",
      "reconstraining parameters GP_regression.Gaussian_noise.variance\n"
     ]
    },
    {
     "name": "stdout",
     "output_type": "stream",
     "text": [
      "termination on tolfun=1e-11 (Wed Jul  7 14:11:45 2021)\n",
      "final/bestever f-value = -4.999856e-01 -4.999856e-01\n",
      "incumbent solution: [ 1.21954065  1.75292108  0.64579454  3.91398184  7.54908447  2.03303791\n",
      " 14.          6.53887179 ...]\n",
      "std deviations: [2.41086824e-06 3.30822428e-06 5.79869974e-06 6.90388612e-06\n",
      " 1.17897433e-05 1.12812209e-05 1.75067478e-05 1.51182596e-05 ...]\n",
      "Optimization restart 1/10, f = 30.6061565644228\n",
      "Optimization restart 2/10, f = 30.60615656442277\n",
      "Optimization restart 3/10, f = 30.606156564422772\n",
      "Optimization restart 4/10, f = 30.606156564422832\n",
      "Optimization restart 5/10, f = 153.53434411086621\n",
      "Optimization restart 6/10, f = 153.53434411086621\n",
      "Optimization restart 7/10, f = 153.53434411086621\n",
      "Optimization restart 8/10, f = 32.635586263707665\n",
      "Optimization restart 9/10, f = 485752380.21110684\n"
     ]
    },
    {
     "name": "stderr",
     "output_type": "stream",
     "text": [
      "reconstraining parameters GP_regression.Mat52.lengthscale\n",
      "reconstraining parameters GP_regression.Mat52.variance\n",
      "reconstraining parameters GP_regression.Gaussian_noise.variance\n"
     ]
    },
    {
     "name": "stdout",
     "output_type": "stream",
     "text": [
      "Optimization restart 10/10, f = 30.60615656442277\n",
      "Optimization restart 1/10, f = 32.02106412541873\n",
      "Optimization restart 2/10, f = 32.63558626371129\n",
      "Optimization restart 3/10, f = 32.02106412541881\n",
      "Optimization restart 4/10, f = 76.82724031982244\n",
      "Optimization restart 5/10, f = 32.635586263707474\n",
      "Optimization restart 6/10, f = 32.021064125424004\n",
      "Optimization restart 7/10, f = 32.63558626370749\n",
      "Optimization restart 8/10, f = 32.02106412541995\n",
      "Optimization restart 9/10, f = 32.02106412541894\n"
     ]
    },
    {
     "name": "stderr",
     "output_type": "stream",
     "text": [
      "reconstraining parameters GP_regression.Mat52.lengthscale\n",
      "reconstraining parameters GP_regression.Mat52.variance\n",
      "reconstraining parameters GP_regression.Gaussian_noise.variance\n"
     ]
    },
    {
     "name": "stdout",
     "output_type": "stream",
     "text": [
      "Optimization restart 10/10, f = 32.021064125425184\n",
      "Optimization restart 1/10, f = 29.8462159076261\n",
      "Optimization restart 2/10, f = 32.63558626370747\n",
      "Optimization restart 3/10, f = 153.53434411086621\n",
      "Optimization restart 4/10, f = 29.846215907624693\n",
      "Optimization restart 5/10, f = 32.63558626371071\n",
      "Optimization restart 6/10, f = 153.53434182722174\n",
      "Optimization restart 7/10, f = 153.53434411086621\n",
      "Optimization restart 8/10, f = 153.53434411086621\n",
      "Optimization restart 9/10, f = 265913672.08016384\n",
      "Optimization restart 10/10, f = 29.846215907645036\n"
     ]
    },
    {
     "name": "stderr",
     "output_type": "stream",
     "text": [
      "reconstraining parameters GP_regression.Mat52.lengthscale\n",
      "reconstraining parameters GP_regression.Mat52.variance\n",
      "reconstraining parameters GP_regression.Gaussian_noise.variance\n"
     ]
    },
    {
     "name": "stdout",
     "output_type": "stream",
     "text": [
      "Optimization restart 1/10, f = 31.828960301227802\n",
      "Optimization restart 2/10, f = 153.53434411086621\n",
      "Optimization restart 3/10, f = 31.82896030122803\n",
      "Optimization restart 4/10, f = 31.828960301227866\n",
      "Optimization restart 5/10, f = 31.828960301232303\n",
      "Optimization restart 6/10, f = 31.82896030122834\n",
      "Optimization restart 7/10, f = 32.63558626370748\n",
      "Optimization restart 8/10, f = 31.82896030124484\n",
      "Optimization restart 9/10, f = 153.53434411086621\n",
      "Optimization restart 10/10, f = 31.828960301229767\n",
      "(5_w,10)-aCMA-ES (mu_w=3.2,w_1=45%) in dimension 10 (seed=748097, Wed Jul  7 14:11:50 2021)\n",
      "Iterat #Fevals   function value  axis ratio  sigma  min&max std  t[m:s]\n",
      "    1     10 -4.857044630667245e-01 1.0e+00 2.33e-01  2e-01  2e-01 0:00.0\n",
      "    2     20 -4.889776126565216e-01 1.2e+00 2.45e-01  2e-01  3e-01 0:00.1\n",
      "    3     30 -4.895623118735913e-01 1.3e+00 2.53e-01  2e-01  3e-01 0:00.1\n",
      "  100   1000 -4.993161202692882e-01 1.5e+01 1.97e-01  6e-02  3e-01 0:02.5\n",
      "  200   2000 -5.033629877777317e-01 4.1e+01 8.48e-02  1e-02  1e-01 0:04.4\n",
      "  300   3000 -5.036746252048347e-01 1.8e+02 3.98e-02  6e-03  4e-02 0:06.5\n",
      "  400   4000 -5.038335107560570e-01 3.5e+02 1.08e-01  1e-02  7e-02 0:08.4\n",
      "  500   5000 -5.039308772213783e-01 4.3e+02 7.28e-02  4e-03  3e-02 0:10.3\n",
      "  600   6000 -5.039673761010366e-01 7.2e+02 9.23e-02  3e-03  3e-02 0:12.5\n",
      "  700   7000 -5.039874169079571e-01 1.1e+03 1.12e-01  3e-03  2e-02 0:14.4\n",
      "  800   8000 -5.039940210510654e-01 2.0e+03 6.92e-02  1e-03  1e-02 0:16.3\n",
      "  900   9000 -5.039981375362598e-01 2.8e+03 9.32e-02  1e-03  1e-02 0:18.2\n",
      " 1000  10000 -5.039997656713308e-01 3.9e+03 1.93e-01  1e-03  1e-02 0:20.1\n",
      "Iterat #Fevals   function value  axis ratio  sigma  min&max std  t[m:s]\n",
      " 1100  11000 -5.040004838104468e-01 7.0e+03 4.88e-02  2e-04  2e-03 0:22.0\n",
      " 1200  12000 -5.040008832847785e-01 1.2e+04 5.34e-02  2e-04  1e-03 0:23.9\n",
      " 1300  13000 -5.040011536562025e-01 1.4e+04 1.83e-01  2e-04  3e-03 0:25.9\n",
      " 1400  14000 -5.040013098345446e-01 2.0e+04 1.17e-01  1e-04  1e-03 0:27.9\n",
      " 1500  15000 -5.040013726132178e-01 2.6e+04 2.93e-01  2e-04  2e-03 0:29.8\n",
      " 1600  16000 -5.040013988509944e-01 3.0e+04 2.05e-01  9e-05  1e-03 0:31.7\n",
      " 1700  17000 -5.040014106008625e-01 5.1e+04 1.23e-01  3e-05  4e-04 0:33.6\n",
      " 1800  18000 -5.040014151868537e-01 8.1e+04 1.35e-01  3e-05  3e-04 0:35.5\n",
      " 1900  19000 -5.040014174882419e-01 1.3e+05 3.00e-01  5e-05  5e-04 0:37.4\n",
      " 2000  20000 -5.040014192094427e-01 1.5e+05 2.88e-01  3e-05  3e-04 0:39.3\n",
      "Iterat #Fevals   function value  axis ratio  sigma  min&max std  t[m:s]\n",
      " 2100  21000 -5.040014200566825e-01 2.2e+05 1.79e-01  1e-05  1e-04 0:41.2\n",
      " 2200  22000 -5.040014203968169e-01 3.9e+05 2.03e-01  9e-06  8e-05 0:43.1\n",
      " 2300  23000 -5.040014205359366e-01 6.9e+05 1.19e-01  3e-06  4e-05 0:45.0\n",
      " 2400  24000 -5.040014206577662e-01 6.1e+05 3.93e-01  7e-06  6e-05 0:47.6\n",
      " 2500  25000 -5.040014207312526e-01 7.1e+05 5.23e-01  5e-06  5e-05 0:50.1\n",
      " 2568  25680 -5.040014207538381e-01 6.6e+05 2.27e-01  2e-06  2e-05 0:51.4\n"
     ]
    },
    {
     "name": "stderr",
     "output_type": "stream",
     "text": [
      "reconstraining parameters GP_regression.Mat52.lengthscale\n"
     ]
    },
    {
     "name": "stdout",
     "output_type": "stream",
     "text": [
      "termination on tolfun=1e-11 (Wed Jul  7 14:12:46 2021)\n",
      "final/bestever f-value = -5.040014e-01 -5.040014e-01\n",
      "incumbent solution: [ 1.4730441   1.2438695   1.34732353  4.01377651  7.25519468  2.89850266\n",
      " 14.          5.95496175 ...]\n",
      "std deviations: [1.53092687e-06 2.11633445e-06 4.09660376e-06 4.39427579e-06\n",
      " 7.35024105e-06 9.83680984e-06 9.51681846e-06 1.43095547e-05 ...]\n"
     ]
    },
    {
     "name": "stderr",
     "output_type": "stream",
     "text": [
      "reconstraining parameters GP_regression.Mat52.variance\n",
      "reconstraining parameters GP_regression.Gaussian_noise.variance\n"
     ]
    },
    {
     "name": "stdout",
     "output_type": "stream",
     "text": [
      "Optimization restart 1/10, f = 32.415929106676586\n",
      "Optimization restart 2/10, f = 32.41592910667947\n",
      "Optimization restart 3/10, f = 160.2097503765561\n",
      "Optimization restart 4/10, f = 34.05452479691214\n",
      "Optimization restart 5/10, f = 32.41592910707555\n",
      "Optimization restart 6/10, f = 32.415929106676316\n",
      "Optimization restart 7/10, f = 160.2097503765561\n",
      "Optimization restart 8/10, f = 34.05452479691073\n"
     ]
    },
    {
     "name": "stderr",
     "output_type": "stream",
     "text": [
      "reconstraining parameters GP_regression.Mat52.lengthscale\n",
      "reconstraining parameters GP_regression.Mat52.variance\n",
      "reconstraining parameters GP_regression.Gaussian_noise.variance\n"
     ]
    },
    {
     "name": "stdout",
     "output_type": "stream",
     "text": [
      "Optimization restart 9/10, f = 32.415929106674156\n",
      "Optimization restart 10/10, f = 568451349.3142593\n",
      "Optimization restart 1/10, f = 33.29413965736523\n",
      "Optimization restart 2/10, f = 160.2097503765561\n",
      "Optimization restart 3/10, f = 34.05452479691215\n",
      "Optimization restart 4/10, f = 34.05452479691215\n",
      "Optimization restart 5/10, f = 160.2097503765561\n",
      "Optimization restart 6/10, f = 160.2097503765561\n",
      "Optimization restart 7/10, f = 160.2097503765561\n",
      "Optimization restart 8/10, f = 34.05452479691277\n",
      "Optimization restart 9/10, f = 33.294139657395554\n",
      "Optimization restart 10/10, f = 33.294139657291026\n"
     ]
    },
    {
     "name": "stderr",
     "output_type": "stream",
     "text": [
      "reconstraining parameters GP_regression.Mat52.lengthscale\n",
      "reconstraining parameters GP_regression.Mat52.variance\n",
      "reconstraining parameters GP_regression.Gaussian_noise.variance\n"
     ]
    },
    {
     "name": "stdout",
     "output_type": "stream",
     "text": [
      "Optimization restart 1/10, f = 31.328530811773234\n",
      "Optimization restart 2/10, f = 160.20974262440228\n",
      "Optimization restart 3/10, f = 1198685.1102144183\n",
      "Optimization restart 4/10, f = 160.2095631784027\n",
      "Optimization restart 5/10, f = 67.9742389062732\n",
      "Optimization restart 6/10, f = 160.2097503765561\n",
      "Optimization restart 7/10, f = 31.328530811761\n"
     ]
    },
    {
     "name": "stderr",
     "output_type": "stream",
     "text": [
      "reconstraining parameters GP_regression.Mat52.lengthscale\n",
      "reconstraining parameters GP_regression.Mat52.variance\n",
      "reconstraining parameters GP_regression.Gaussian_noise.variance\n"
     ]
    },
    {
     "name": "stdout",
     "output_type": "stream",
     "text": [
      "Optimization restart 8/10, f = 160.2097503765561\n",
      "Optimization restart 9/10, f = 34.05452479691214\n",
      "Optimization restart 10/10, f = 34.05452479691219\n",
      "Optimization restart 1/10, f = 32.95158742418609\n",
      "Optimization restart 2/10, f = 32.95158742418616\n",
      "Optimization restart 3/10, f = 34.05452479691216\n",
      "Optimization restart 4/10, f = 160.2097503765561\n",
      "Optimization restart 5/10, f = 32.95158742418605\n",
      "Optimization restart 6/10, f = 643718392.4805989\n",
      "Optimization restart 7/10, f = 32.951587424186044\n",
      "Optimization restart 8/10, f = 34.054524796914635\n",
      "Optimization restart 9/10, f = 34.05452479691215\n",
      "Optimization restart 10/10, f = 32.951587424380975\n",
      "(5_w,10)-aCMA-ES (mu_w=3.2,w_1=45%) in dimension 10 (seed=823818, Wed Jul  7 14:12:50 2021)\n",
      "Iterat #Fevals   function value  axis ratio  sigma  min&max std  t[m:s]\n",
      "    1     10 -4.920598151057869e-01 1.0e+00 2.42e-01  2e-01  3e-01 0:00.0\n",
      "    2     20 -4.918274263346742e-01 1.2e+00 2.53e-01  2e-01  3e-01 0:00.1\n",
      "    3     30 -4.925494621578675e-01 1.3e+00 2.45e-01  2e-01  3e-01 0:00.1\n",
      "   85    850 -4.961089380059763e-01 1.1e+01 4.55e-01  2e-01  6e-01 0:03.1\n",
      "  100   1000 -4.972030182941326e-01 1.4e+01 3.93e-01  1e-01  6e-01 0:03.7\n",
      "  200   2000 -5.037247716199174e-01 4.6e+01 5.48e-01  6e-02  7e-01 0:07.5\n",
      "  300   3000 -5.064295446222488e-01 1.6e+02 2.07e-01  2e-02  2e-01 0:11.3\n",
      "  400   4000 -5.076664283976001e-01 2.5e+02 2.48e-01  1e-02  2e-01 0:15.0\n",
      "  500   5000 -5.086635498252463e-01 2.3e+02 2.50e-01  7e-03  9e-02 0:18.7\n",
      "  600   6000 -5.089096621602187e-01 5.3e+02 4.18e-01  1e-02  9e-02 0:22.4\n",
      "  700   7000 -5.089304719489124e-01 3.5e+03 5.33e-02  8e-04  1e-02 0:26.1\n",
      "  800   8000 -5.089309472722724e-01 2.5e+04 4.69e-03  7e-05  8e-04 0:29.8\n",
      "  900   9000 -5.089309528293993e-01 1.8e+05 8.18e-04  9e-06  9e-05 0:33.5\n"
     ]
    },
    {
     "name": "stderr",
     "output_type": "stream",
     "text": [
      " /home/finley/miniconda3/envs/testsuite/lib/python3.8/site-packages/cma/utilities/utils.py:329: UserWarning:\n",
      "        geno-pheno transformation introduced based on the\n",
      "        current covariance matrix with condition 1.0e+12 -> 1.0e+00,\n",
      "        injected solutions become \"invalid\" in this iteration (class=CMAEvolutionStrategy method=alleviate_conditioning iteration=994)\n"
     ]
    },
    {
     "name": "stdout",
     "output_type": "stream",
     "text": [
      " 1000  10000 -5.089309529480572e-01 1.3e+00 1.71e-04  2e-04  2e-04 0:37.2\n",
      "Iterat #Fevals   function value  axis ratio  sigma  min&max std  t[m:s]\n",
      " 1006  10060 -5.089309529488555e-01 1.5e+00 1.33e-04  1e-04  1e-04 0:37.4\n",
      "termination on tolfun=1e-11 (Wed Jul  7 14:13:31 2021)\n",
      "final/bestever f-value = -5.089310e-01 -5.089310e-01\n",
      "incumbent solution: [ 1.41678722  1.31171096  2.67456605  7.48189723  0.25457513  6.69443672\n",
      "  1.58999725 14.18472704 ...]\n",
      "std deviations: [0.00011315 0.00012238 0.00011886 0.00012303 0.00012649 0.00011834\n",
      " 0.00013089 0.00012025 ...]\n"
     ]
    },
    {
     "name": "stderr",
     "output_type": "stream",
     "text": [
      "reconstraining parameters GP_regression.Mat52.lengthscale\n",
      "reconstraining parameters GP_regression.Mat52.variance\n",
      "reconstraining parameters GP_regression.Gaussian_noise.variance\n"
     ]
    },
    {
     "name": "stdout",
     "output_type": "stream",
     "text": [
      "Optimization restart 1/10, f = 33.01005616184302\n",
      "Optimization restart 2/10, f = 33.01005616184421\n",
      "Optimization restart 3/10, f = 33.01005616184302\n",
      "Optimization restart 4/10, f = 35.473463330117966\n",
      "Optimization restart 5/10, f = 33.01005616184317\n",
      "Optimization restart 6/10, f = 166.88515664224593\n",
      "Optimization restart 7/10, f = 35.47346333011701\n",
      "Optimization restart 8/10, f = 33.01005616184304\n"
     ]
    },
    {
     "name": "stderr",
     "output_type": "stream",
     "text": [
      "reconstraining parameters GP_regression.Mat52.lengthscale\n",
      "reconstraining parameters GP_regression.Mat52.variance\n",
      "reconstraining parameters GP_regression.Gaussian_noise.variance\n"
     ]
    },
    {
     "name": "stdout",
     "output_type": "stream",
     "text": [
      "Optimization restart 9/10, f = 69.02569641198986\n",
      "Optimization restart 10/10, f = 166.88515664224593\n",
      "Optimization restart 1/10, f = 34.50434018261487\n",
      "Optimization restart 2/10, f = 34.50434018259351\n",
      "Optimization restart 3/10, f = 800135283.4408369\n",
      "Optimization restart 4/10, f = 34.50434018259105\n",
      "Optimization restart 5/10, f = 34.5043401825861\n",
      "Optimization restart 6/10, f = 35.473463330117944\n",
      "Optimization restart 7/10, f = 34.504340182609056\n",
      "Optimization restart 8/10, f = 34.50434018285328\n"
     ]
    },
    {
     "name": "stderr",
     "output_type": "stream",
     "text": [
      "reconstraining parameters GP_regression.Mat52.lengthscale\n",
      "reconstraining parameters GP_regression.Mat52.variance\n",
      "reconstraining parameters GP_regression.Gaussian_noise.variance\n"
     ]
    },
    {
     "name": "stdout",
     "output_type": "stream",
     "text": [
      "Optimization restart 9/10, f = 166.88515664224593\n",
      "Optimization restart 10/10, f = 82.02639269558664\n",
      "Optimization restart 1/10, f = 32.58757998917068\n",
      "Optimization restart 2/10, f = 32.58757998917129\n",
      "Optimization restart 3/10, f = 32.587579989171104\n",
      "Optimization restart 4/10, f = 166.88515664224593\n",
      "Optimization restart 5/10, f = 32.587579989170834\n",
      "Optimization restart 6/10, f = 166.88515664224593\n",
      "Optimization restart 7/10, f = 32.587579989171005\n",
      "Optimization restart 8/10, f = 35.47346333011689\n"
     ]
    },
    {
     "name": "stderr",
     "output_type": "stream",
     "text": [
      "reconstraining parameters GP_regression.Mat52.lengthscale\n",
      "reconstraining parameters GP_regression.Mat52.variance\n",
      "reconstraining parameters GP_regression.Gaussian_noise.variance\n"
     ]
    },
    {
     "name": "stdout",
     "output_type": "stream",
     "text": [
      "Optimization restart 9/10, f = 32.587579989170685\n",
      "Optimization restart 10/10, f = 35.473463330116815\n",
      "Optimization restart 1/10, f = 33.81499055470112\n",
      "Optimization restart 2/10, f = 166.88515664224593\n",
      "Optimization restart 3/10, f = 166.88515664224593\n",
      "Optimization restart 4/10, f = 33.81499055470118\n",
      "Optimization restart 5/10, f = 33.81499055470112\n",
      "Optimization restart 6/10, f = 35.473463330116836\n",
      "Optimization restart 7/10, f = 35.47346333011823\n",
      "Optimization restart 8/10, f = 166.88515664224593\n",
      "Optimization restart 9/10, f = 33.81499055470112\n",
      "Optimization restart 10/10, f = 166.88515664224593\n",
      "(5_w,10)-aCMA-ES (mu_w=3.2,w_1=45%) in dimension 10 (seed=756035, Wed Jul  7 14:13:35 2021)\n",
      "Iterat #Fevals   function value  axis ratio  sigma  min&max std  t[m:s]\n",
      "    1     10 -4.922572171220197e-01 1.0e+00 2.59e-01  3e-01  3e-01 0:00.0\n",
      "    2     20 -4.965379955946439e-01 1.3e+00 2.77e-01  3e-01  3e-01 0:00.1\n",
      "    3     30 -5.038644628020899e-01 1.4e+00 3.17e-01  3e-01  4e-01 0:00.1\n",
      "   86    860 -5.146095466429991e-01 9.5e+00 4.86e-02  2e-02  7e-02 0:03.1\n",
      "  100   1000 -5.147368950782472e-01 1.4e+01 4.71e-02  1e-02  6e-02 0:03.6\n",
      "  200   2000 -5.153369990681838e-01 5.8e+01 5.95e-03  1e-03  8e-03 0:07.1\n",
      "  300   3000 -5.153894535154182e-01 1.8e+02 9.06e-03  1e-03  9e-03 0:10.8\n",
      "  400   4000 -5.154010239785324e-01 6.0e+02 7.65e-03  1e-03  8e-03 0:13.4\n",
      "  500   5000 -5.154036214326881e-01 1.2e+03 1.90e-03  1e-04  1e-03 0:15.3\n",
      "  600   6000 -5.154042032855488e-01 2.2e+03 5.71e-03  3e-04  3e-03 0:17.2\n",
      "  700   7000 -5.154044642783162e-01 4.4e+03 3.74e-03  1e-04  2e-03 0:19.1\n",
      "  800   8000 -5.154045579771344e-01 7.4e+03 2.89e-03  7e-05  9e-04 0:21.1\n",
      "  900   9000 -5.154046056652812e-01 9.4e+03 5.41e-03  8e-05  9e-04 0:23.1\n",
      " 1000  10000 -5.154046342924705e-01 1.1e+04 5.95e-03  5e-05  6e-04 0:25.0\n",
      "Iterat #Fevals   function value  axis ratio  sigma  min&max std  t[m:s]\n",
      " 1100  11000 -5.154046530560253e-01 1.1e+04 4.20e-03  2e-05  2e-04 0:26.9\n",
      " 1200  12000 -5.154046681187856e-01 1.9e+04 9.95e-03  4e-05  3e-04 0:28.8\n",
      " 1300  13000 -5.154046798053351e-01 1.3e+04 1.58e-02  3e-05  3e-04 0:30.6\n",
      " 1400  14000 -5.154046900117695e-01 1.6e+04 2.52e-02  3e-05  3e-04 0:32.5\n",
      " 1500  15000 -5.154046974500460e-01 1.8e+04 4.40e-02  3e-05  3e-04 0:34.4\n",
      " 1600  16000 -5.154047043754634e-01 2.5e+04 9.73e-02  4e-05  6e-04 0:37.4\n",
      " 1700  17000 -5.154047079170747e-01 3.2e+04 3.38e-02  9e-06  1e-04 0:41.2\n",
      " 1800  18000 -5.154047109354685e-01 4.0e+04 1.21e-01  2e-05  3e-04 0:44.8\n",
      " 1900  19000 -5.154047137321975e-01 3.2e+04 9.51e-02  1e-05  1e-04 0:48.5\n",
      " 2000  20000 -5.154047169505936e-01 4.2e+04 2.63e-01  2e-05  2e-04 0:52.3\n",
      "Iterat #Fevals   function value  axis ratio  sigma  min&max std  t[m:s]\n",
      " 2100  21000 -5.154047197246742e-01 4.7e+04 4.17e-01  2e-05  2e-04 0:56.0\n",
      " 2200  22000 -5.154047217325642e-01 5.2e+04 4.22e-01  1e-05  1e-04 0:59.7\n",
      " 2300  23000 -5.154047236679045e-01 7.0e+04 1.41e+00  2e-05  3e-04 1:03.5\n",
      " 2400  24000 -5.154047255480804e-01 8.8e+04 1.04e+00  5e-06  1e-04 1:07.2\n",
      " 2500  25000 -5.154047270517075e-01 5.0e+04 2.70e+00  1e-05  1e-04 1:10.9\n",
      " 2600  26000 -5.154047284857758e-01 5.7e+04 3.60e+00  9e-06  1e-04 1:14.7\n",
      " 2700  27000 -5.154047295594264e-01 8.2e+04 8.36e+00  1e-05  2e-04 1:18.4\n",
      " 2800  28000 -5.154047307654057e-01 7.1e+04 1.23e+01  1e-05  1e-04 1:22.1\n",
      " 2900  29000 -5.154047319184785e-01 6.4e+04 3.33e+01  2e-05  2e-04 1:25.8\n",
      " 3000  30000 -5.154047328870841e-01 1.2e+05 6.25e+01  2e-05  3e-04 1:29.5\n",
      "Iterat #Fevals   function value  axis ratio  sigma  min&max std  t[m:s]\n",
      " 3100  31000 -5.154047333329542e-01 8.8e+04 4.21e+01  1e-05  7e-05 1:33.2\n",
      " 3200  32000 -5.154047338138936e-01 9.9e+04 7.13e+01  1e-05  1e-04 1:36.9\n",
      " 3300  33000 -5.154047345172762e-01 6.4e+04 1.46e+02  1e-05  1e-04 1:40.6\n",
      " 3400  34000 -5.154047352308870e-01 6.8e+04 3.18e+02  1e-05  1e-04 1:42.5\n",
      " 3500  35000 -5.154047357132768e-01 6.9e+04 2.37e+02  6e-06  6e-05 1:44.4\n",
      " 3600  36000 -5.154047361727823e-01 1.1e+05 5.04e+02  9e-06  9e-05 1:46.3\n",
      " 3700  37000 -5.154047366116989e-01 1.3e+05 5.51e+02  5e-06  6e-05 1:48.2\n",
      " 3800  38000 -5.154047371704842e-01 1.1e+05 1.98e+03  1e-05  1e-04 1:50.1\n",
      " 3900  39000 -5.154047375754749e-01 1.4e+05 3.01e+03  9e-06  1e-04 1:52.0\n",
      " 4000  40000 -5.154047379094602e-01 1.3e+05 4.44e+03  8e-06  1e-04 1:53.9\n",
      "Iterat #Fevals   function value  axis ratio  sigma  min&max std  t[m:s]\n",
      " 4100  41000 -5.154047381151738e-01 1.5e+05 7.67e+03  9e-06  1e-04 1:55.8\n",
      " 4200  42000 -5.154047383747439e-01 1.8e+05 8.81e+03  6e-06  7e-05 1:59.0\n",
      " 4300  43000 -5.154047385609873e-01 1.8e+05 1.50e+04  6e-06  1e-04 2:02.7\n",
      " 4400  44000 -5.154047388814279e-01 1.5e+05 2.74e+04  6e-06  8e-05 2:06.4\n",
      " 4500  45000 -5.154047392299670e-01 1.6e+05 4.44e+04  6e-06  8e-05 2:10.2\n",
      " 4600  46000 -5.154047394703823e-01 1.9e+05 7.53e+04  7e-06  1e-04 2:12.6\n",
      " 4700  47000 -5.154047397163050e-01 1.5e+05 1.42e+05  8e-06  8e-05 2:14.6\n",
      " 4800  48000 -5.154047399086022e-01 1.9e+05 2.15e+05  7e-06  9e-05 2:16.5\n",
      " 4900  49000 -5.154047400597055e-01 2.0e+05 1.99e+05  4e-06  5e-05 2:18.6\n",
      " 5000  50000 -5.154047402445893e-01 1.3e+05 3.36e+05  4e-06  4e-05 2:20.5\n",
      "Iterat #Fevals   function value  axis ratio  sigma  min&max std  t[m:s]\n",
      " 5100  51000 -5.154047403975510e-01 1.9e+05 5.65e+05  4e-06  5e-05 2:22.4\n",
      " 5200  52000 -5.154047405946560e-01 1.5e+05 1.63e+06  8e-06  8e-05 2:24.4\n",
      " 5300  53000 -5.154047407506955e-01 1.3e+05 2.18e+06  5e-06  6e-05 2:26.3\n",
      " 5400  54000 -5.154047409331270e-01 2.0e+05 2.11e+06  4e-06  5e-05 2:28.3\n",
      " 5500  55000 -5.154047410692794e-01 1.4e+05 3.98e+06  5e-06  4e-05 2:30.3\n",
      " 5600  56000 -5.154047411859850e-01 1.9e+05 8.40e+06  5e-06  6e-05 2:32.3\n",
      " 5700  57000 -5.154047413120579e-01 1.4e+05 1.02e+07  3e-06  4e-05 2:34.2\n",
      " 5800  58000 -5.154047414347572e-01 2.5e+05 1.56e+07  3e-06  5e-05 2:36.1\n",
      " 5873  58730 -5.154047414975248e-01 2.1e+05 4.29e+07  7e-06  7e-05 2:37.9\n",
      "termination on tolupsigma=1e+20 (Wed Jul  7 14:16:26 2021)\n",
      "final/bestever f-value = -5.154047e-01 -5.154047e-01\n",
      "incumbent solution: [ 1.11127959  2.26777149  0.81022235  3.23788347  5.78089904  3.85756065\n",
      " 13.99951325  5.8963795  ...]\n",
      "std deviations: [7.07503592e-06 8.16191217e-06 1.63869036e-05 1.68315642e-05\n",
      " 3.41709194e-05 3.21193508e-05 6.85107933e-05 4.24629509e-05 ...]\n"
     ]
    },
    {
     "name": "stderr",
     "output_type": "stream",
     "text": [
      "reconstraining parameters GP_regression.Mat52.lengthscale\n",
      "reconstraining parameters GP_regression.Mat52.variance\n",
      "reconstraining parameters GP_regression.Gaussian_noise.variance\n"
     ]
    },
    {
     "name": "stdout",
     "output_type": "stream",
     "text": [
      "Optimization restart 1/10, f = 33.07179622968296\n",
      "Optimization restart 2/10, f = 33.0717962296759\n",
      "Optimization restart 3/10, f = 33.07179622967618\n",
      "Optimization restart 4/10, f = 33.07179622966669\n",
      "Optimization restart 5/10, f = 173.56056290793578\n",
      "Optimization restart 6/10, f = 36.892401863323656\n",
      "Optimization restart 7/10, f = 1298575.5360656206\n",
      "Optimization restart 8/10, f = 33.07179622969155\n",
      "Optimization restart 9/10, f = 173.56056290793578\n",
      "Optimization restart 10/10, f = 33.0717962296667\n"
     ]
    },
    {
     "name": "stderr",
     "output_type": "stream",
     "text": [
      "reconstraining parameters GP_regression.Mat52.lengthscale\n",
      "reconstraining parameters GP_regression.Mat52.variance\n",
      "reconstraining parameters GP_regression.Gaussian_noise.variance\n"
     ]
    },
    {
     "name": "stdout",
     "output_type": "stream",
     "text": [
      "Optimization restart 1/10, f = 35.713691177859715\n",
      "Optimization restart 2/10, f = 35.71369117785478\n",
      "Optimization restart 3/10, f = 36.892401863322064\n",
      "Optimization restart 4/10, f = 36.892401863321496\n",
      "Optimization restart 5/10, f = 173.56056113614892\n",
      "Optimization restart 6/10, f = 35.713691177867084\n",
      "Optimization restart 7/10, f = 35.713691177880875\n",
      "Optimization restart 8/10, f = 36.89240186332151\n",
      "Optimization restart 9/10, f = 173.56056290793578\n"
     ]
    },
    {
     "name": "stderr",
     "output_type": "stream",
     "text": [
      "reconstraining parameters GP_regression.Mat52.lengthscale\n",
      "reconstraining parameters GP_regression.Mat52.variance\n",
      "reconstraining parameters GP_regression.Gaussian_noise.variance\n"
     ]
    },
    {
     "name": "stdout",
     "output_type": "stream",
     "text": [
      "Optimization restart 10/10, f = 173.56056290793578\n",
      "Optimization restart 1/10, f = 33.41356013878742\n",
      "Optimization restart 2/10, f = 36.89240186332149\n",
      "Optimization restart 3/10, f = 173.5605579136306\n",
      "Optimization restart 4/10, f = 33.41356013878538\n",
      "Optimization restart 5/10, f = 36.89240186332149\n",
      "Optimization restart 6/10, f = 72.38317734082656\n",
      "Optimization restart 7/10, f = 36.892401863321496\n",
      "Optimization restart 8/10, f = 33.413560138794175\n",
      "Optimization restart 9/10, f = 173.56056290793578\n"
     ]
    },
    {
     "name": "stderr",
     "output_type": "stream",
     "text": [
      "reconstraining parameters GP_regression.Mat52.lengthscale\n",
      "reconstraining parameters GP_regression.Mat52.variance\n",
      "reconstraining parameters GP_regression.Gaussian_noise.variance\n"
     ]
    },
    {
     "name": "stdout",
     "output_type": "stream",
     "text": [
      "Optimization restart 10/10, f = 33.413560138804066\n",
      "Optimization restart 1/10, f = 34.65951862617177\n",
      "Optimization restart 2/10, f = 78.89367647358188\n",
      "Optimization restart 3/10, f = 34.659518626173174\n",
      "Optimization restart 4/10, f = 34.65951862617177\n",
      "Optimization restart 5/10, f = 34.65951862631236\n",
      "Optimization restart 6/10, f = 34.659518626171725\n",
      "Optimization restart 7/10, f = 78.89291090486061\n",
      "Optimization restart 8/10, f = 34.65951862617171\n",
      "Optimization restart 9/10, f = 34.65951862617193\n",
      "Optimization restart 10/10, f = 173.56056290793578\n",
      "(5_w,10)-aCMA-ES (mu_w=3.2,w_1=45%) in dimension 10 (seed=722876, Wed Jul  7 14:16:32 2021)\n",
      "Iterat #Fevals   function value  axis ratio  sigma  min&max std  t[m:s]\n",
      "    1     10 -4.938962005003373e-01 1.0e+00 2.48e-01  2e-01  3e-01 0:00.0\n",
      "    2     20 -4.938690045499243e-01 1.2e+00 2.49e-01  2e-01  3e-01 0:00.1\n",
      "    3     30 -4.940674440654618e-01 1.3e+00 2.48e-01  2e-01  3e-01 0:00.1\n",
      "  100   1000 -5.010970060448323e-01 7.6e+00 2.76e-01  9e-02  4e-01 0:02.9\n",
      "  200   2000 -5.040703226696428e-01 3.8e+01 1.44e-01  2e-02  2e-01 0:06.4\n",
      "  300   3000 -5.047065583860570e-01 2.0e+02 2.37e-02  2e-03  2e-02 0:10.3\n",
      "  400   4000 -5.047179576750500e-01 8.2e+02 3.68e-02  3e-03  2e-02 0:14.1\n",
      "  500   5000 -5.047335443892562e-01 1.5e+03 4.85e-02  2e-03  3e-02 0:18.2\n",
      "  600   6000 -5.047612056092605e-01 2.9e+03 7.60e-02  3e-03  4e-02 0:22.4\n",
      "  700   7000 -5.047694124892835e-01 1.9e+03 8.16e-02  2e-03  2e-02 0:27.3\n",
      "  800   8000 -5.047959710000692e-01 1.0e+03 2.68e-01  2e-03  3e-02 0:33.6\n",
      "  900   9000 -5.054758383437872e-01 4.3e+02 4.63e+00  2e-02  3e-01 0:38.9\n",
      " 1000  10000 -5.059959556275986e-01 2.4e+02 3.34e+00  9e-03  9e-02 0:43.1\n",
      "Iterat #Fevals   function value  axis ratio  sigma  min&max std  t[m:s]\n",
      " 1100  11000 -5.060142002582579e-01 4.8e+02 4.73e-01  1e-03  1e-02 0:47.9\n",
      " 1200  12000 -5.060157604850528e-01 1.5e+03 6.43e-01  1e-03  1e-02 0:54.3\n",
      " 1300  13000 -5.060166733638020e-01 3.4e+03 2.59e-01  3e-04  5e-03 0:58.3\n",
      " 1400  14000 -5.060168730133110e-01 6.3e+03 2.07e-01  1e-04  2e-03 1:02.5\n",
      " 1500  15000 -5.060168924848606e-01 2.3e+04 3.67e-02  2e-05  4e-04 1:04.8\n",
      " 1600  16000 -5.060168942719454e-01 6.2e+04 1.86e-02  1e-05  1e-04 1:09.1\n",
      " 1700  17000 -5.060168947366241e-01 1.1e+05 1.36e-02  4e-06  5e-05 1:13.1\n",
      " 1788  17880 -5.060168947892900e-01 2.9e+05 3.65e-03  9e-07  1e-05 1:16.3\n",
      "termination on tolfun=1e-11 (Wed Jul  7 14:17:54 2021)\n",
      "final/bestever f-value = -5.060169e-01 -5.060169e-01\n",
      "incumbent solution: [1.18674532e+00 2.18717867e+00 3.44369457e+00 6.23200340e+00\n",
      " 1.07050000e-10 9.95545392e+00 5.59308333e+00 9.05183558e+00 ...]\n",
      "std deviations: [9.36050766e-07 1.55965083e-06 3.05449873e-06 3.94894565e-06\n",
      " 2.39771523e-06 6.20300219e-06 8.58093834e-06 8.86586650e-06 ...]\n"
     ]
    },
    {
     "name": "stderr",
     "output_type": "stream",
     "text": [
      "reconstraining parameters GP_regression.Mat52.lengthscale\n",
      "reconstraining parameters GP_regression.Mat52.variance\n",
      "reconstraining parameters GP_regression.Gaussian_noise.variance\n"
     ]
    },
    {
     "name": "stdout",
     "output_type": "stream",
     "text": [
      "Optimization restart 1/10, f = 34.34664214055876\n",
      "Optimization restart 2/10, f = 180.23596917362562\n",
      "Optimization restart 3/10, f = 34.34664214054944\n",
      "Optimization restart 4/10, f = 38.31134039652616\n",
      "Optimization restart 5/10, f = 34.3466421405688\n",
      "Optimization restart 6/10, f = 1348520.7489912207\n",
      "Optimization restart 7/10, f = 34.346642140549804\n",
      "Optimization restart 8/10, f = 34.34664214055205\n",
      "Optimization restart 9/10, f = 180.23596917362562\n"
     ]
    },
    {
     "name": "stderr",
     "output_type": "stream",
     "text": [
      "reconstraining parameters GP_regression.Mat52.lengthscale\n",
      "reconstraining parameters GP_regression.Mat52.variance\n",
      "reconstraining parameters GP_regression.Gaussian_noise.variance\n"
     ]
    },
    {
     "name": "stdout",
     "output_type": "stream",
     "text": [
      "Optimization restart 10/10, f = 71.7211473721381\n",
      "Optimization restart 1/10, f = 36.7812721691587\n",
      "Optimization restart 2/10, f = 38.31134039652616\n",
      "Optimization restart 3/10, f = 36.781272169326215\n",
      "Optimization restart 4/10, f = 36.78127216917734\n",
      "Optimization restart 5/10, f = 36.781272169158704\n",
      "Optimization restart 6/10, f = 36.781272169159706\n",
      "Optimization restart 7/10, f = 36.78127216920677\n",
      "Optimization restart 8/10, f = 180.23596917362562\n",
      "Optimization restart 9/10, f = 36.78127216917555\n"
     ]
    },
    {
     "name": "stderr",
     "output_type": "stream",
     "text": [
      "reconstraining parameters GP_regression.Mat52.lengthscale\n",
      "reconstraining parameters GP_regression.Mat52.variance\n",
      "reconstraining parameters GP_regression.Gaussian_noise.variance\n"
     ]
    },
    {
     "name": "stdout",
     "output_type": "stream",
     "text": [
      "Optimization restart 10/10, f = 36.78127216915883\n",
      "Optimization restart 1/10, f = 35.638605010993004\n",
      "Optimization restart 2/10, f = 38.31134039652616\n",
      "Optimization restart 3/10, f = 38.311340396528266\n",
      "Optimization restart 4/10, f = 35.63860501099289\n",
      "Optimization restart 5/10, f = 35.638605011011315\n",
      "Optimization restart 6/10, f = 35.63860501100763\n",
      "Optimization restart 7/10, f = 38.31134039652618\n",
      "Optimization restart 8/10, f = 38.31134039652616\n",
      "Optimization restart 9/10, f = 76.43433950883939\n"
     ]
    },
    {
     "name": "stderr",
     "output_type": "stream",
     "text": [
      "reconstraining parameters GP_regression.Mat52.lengthscale\n",
      "reconstraining parameters GP_regression.Mat52.variance\n",
      "reconstraining parameters GP_regression.Gaussian_noise.variance\n"
     ]
    },
    {
     "name": "stdout",
     "output_type": "stream",
     "text": [
      "Optimization restart 10/10, f = 38.31134039652616\n",
      "Optimization restart 1/10, f = 35.90797685686507\n",
      "Optimization restart 2/10, f = 35.90797685686513\n",
      "Optimization restart 3/10, f = 180.23596917362562\n",
      "Optimization restart 4/10, f = 35.90797685686544\n",
      "Optimization restart 5/10, f = 38.31134039652622\n",
      "Optimization restart 6/10, f = 180.23596917362562\n",
      "Optimization restart 7/10, f = 35.90797685686507\n",
      "Optimization restart 8/10, f = 691032170.2666098\n",
      "Optimization restart 9/10, f = 38.311340396526774\n",
      "Optimization restart 10/10, f = 35.907976856865076\n",
      "(5_w,10)-aCMA-ES (mu_w=3.2,w_1=45%) in dimension 10 (seed=742341, Wed Jul  7 14:17:59 2021)\n",
      "Iterat #Fevals   function value  axis ratio  sigma  min&max std  t[m:s]\n",
      "    1     10 -4.969530356773949e-01 1.0e+00 2.17e-01  2e-01  2e-01 0:00.0\n",
      "    2     20 -4.972422103728485e-01 1.1e+00 2.01e-01  2e-01  2e-01 0:00.0\n",
      "    3     30 -4.971749617545324e-01 1.2e+00 1.90e-01  2e-01  2e-01 0:00.1\n",
      "   99    990 -5.029084680424154e-01 8.6e+00 5.59e-01  1e-01  6e-01 0:03.1\n",
      "  100   1000 -5.026865040795814e-01 8.6e+00 5.19e-01  1e-01  6e-01 0:03.1\n",
      "  200   2000 -5.083378706170234e-01 3.0e+01 1.25e-01  1e-02  1e-01 0:07.3\n",
      "  300   3000 -5.089431187285413e-01 1.5e+02 6.28e-02  4e-03  6e-02 0:10.9\n",
      "  400   4000 -5.094756629666932e-01 2.5e+02 1.03e-01  7e-03  7e-02 0:15.1\n",
      "  500   5000 -5.096101870671886e-01 5.2e+02 8.85e-02  5e-03  4e-02 0:19.2\n",
      "  600   6000 -5.096163243806352e-01 4.5e+03 5.52e-03  3e-04  3e-03 0:23.7\n",
      "  700   7000 -5.096167752470822e-01 1.2e+04 7.06e-03  3e-04  3e-03 0:29.3\n",
      "  800   8000 -5.096168806058001e-01 2.5e+04 4.52e-03  1e-04  9e-04 0:34.3\n",
      "  900   9000 -5.096168936336904e-01 6.7e+04 8.70e-04  2e-05  1e-04 0:38.0\n",
      " 1000  10000 -5.096168940828063e-01 3.6e+05 2.47e-04  5e-06  3e-05 0:42.2\n",
      "Iterat #Fevals   function value  axis ratio  sigma  min&max std  t[m:s]\n",
      " 1048  10480 -5.096168940998779e-01 8.0e+05 1.47e-04  2e-06  2e-05 0:44.4\n",
      "termination on tolfun=1e-11 (Wed Jul  7 14:18:46 2021)\n",
      "final/bestever f-value = -5.096169e-01 -5.096169e-01\n",
      "incumbent solution: [ 1.22263002  1.54434607  2.27760779  5.74066196  1.20806848  5.88389956\n",
      "  0.54460351 11.84665612 ...]\n",
      "std deviations: [2.16046438e-06 4.83096659e-06 7.61433944e-06 8.75191362e-06\n",
      " 1.85251401e-05 1.85531252e-05 1.67159650e-05 1.26706666e-05 ...]\n"
     ]
    },
    {
     "name": "stderr",
     "output_type": "stream",
     "text": [
      "reconstraining parameters GP_regression.Mat52.lengthscale\n",
      "reconstraining parameters GP_regression.Mat52.variance\n",
      "reconstraining parameters GP_regression.Gaussian_noise.variance\n"
     ]
    },
    {
     "name": "stdout",
     "output_type": "stream",
     "text": [
      "Optimization restart 1/10, f = 35.907591103876996\n",
      "Optimization restart 2/10, f = 186.91137543931546\n",
      "Optimization restart 3/10, f = 39.730278929730844\n",
      "Optimization restart 4/10, f = 35.90759110384498\n",
      "Optimization restart 5/10, f = 35.90759110399524\n",
      "Optimization restart 6/10, f = 186.91137543931546\n",
      "Optimization restart 7/10, f = 35.90759110384521\n"
     ]
    },
    {
     "name": "stderr",
     "output_type": "stream",
     "text": [
      "reconstraining parameters GP_regression.Mat52.lengthscale\n",
      "reconstraining parameters GP_regression.Mat52.variance\n",
      "reconstraining parameters GP_regression.Gaussian_noise.variance\n"
     ]
    },
    {
     "name": "stdout",
     "output_type": "stream",
     "text": [
      "Optimization restart 8/10, f = 39.73027892973162\n",
      "Optimization restart 9/10, f = 39.73027892973083\n",
      "Optimization restart 10/10, f = 186.9113747642914\n",
      "Optimization restart 1/10, f = 38.14969648990932\n",
      "Optimization restart 2/10, f = 39.73027892973084\n",
      "Optimization restart 3/10, f = 186.91137543931546\n",
      "Optimization restart 4/10, f = 38.14969648990737\n",
      "Optimization restart 5/10, f = 186.91137543931546\n",
      "Optimization restart 6/10, f = 39.73027892973084\n",
      "Optimization restart 7/10, f = 38.1496964899085\n",
      "Optimization restart 8/10, f = 186.91137543931546\n",
      "Optimization restart 9/10, f = 186.91137543931546\n"
     ]
    },
    {
     "name": "stderr",
     "output_type": "stream",
     "text": [
      "reconstraining parameters GP_regression.Mat52.lengthscale\n",
      "reconstraining parameters GP_regression.Mat52.variance\n",
      "reconstraining parameters GP_regression.Gaussian_noise.variance\n"
     ]
    },
    {
     "name": "stdout",
     "output_type": "stream",
     "text": [
      "Optimization restart 10/10, f = 38.14969648990721\n",
      "Optimization restart 1/10, f = 36.98219880592984\n",
      "Optimization restart 2/10, f = 36.98219880592983\n",
      "Optimization restart 3/10, f = 36.98219880593\n",
      "Optimization restart 4/10, f = 186.91137543931546\n",
      "Optimization restart 5/10, f = 36.98219880593349\n",
      "Optimization restart 6/10, f = 39.73027892979057\n",
      "Optimization restart 7/10, f = 39.73027892975884\n",
      "Optimization restart 8/10, f = 36.98219880593011\n",
      "Optimization restart 9/10, f = 186.91137543931546\n"
     ]
    },
    {
     "name": "stderr",
     "output_type": "stream",
     "text": [
      "reconstraining parameters GP_regression.Mat52.lengthscale\n",
      "reconstraining parameters GP_regression.Mat52.variance\n",
      "reconstraining parameters GP_regression.Gaussian_noise.variance\n"
     ]
    },
    {
     "name": "stdout",
     "output_type": "stream",
     "text": [
      "Optimization restart 10/10, f = 1398465.961916822\n",
      "Optimization restart 1/10, f = 36.965714934342834\n",
      "Optimization restart 2/10, f = 186.91137543931546\n",
      "Optimization restart 3/10, f = 36.96571493434303\n",
      "Optimization restart 4/10, f = 186.91137255653842\n",
      "Optimization restart 5/10, f = 36.965714934343524\n",
      "Optimization restart 6/10, f = 39.73027892973084\n",
      "Optimization restart 7/10, f = 186.91137543931546\n",
      "Optimization restart 8/10, f = 39.73027892973083\n",
      "Optimization restart 9/10, f = 36.965714934342785\n",
      "Optimization restart 10/10, f = 36.965714934364385\n",
      "(5_w,10)-aCMA-ES (mu_w=3.2,w_1=45%) in dimension 10 (seed=836292, Wed Jul  7 14:18:51 2021)\n",
      "Iterat #Fevals   function value  axis ratio  sigma  min&max std  t[m:s]\n",
      "    1     10 -4.740732602911869e-01 1.0e+00 2.41e-01  2e-01  3e-01 0:00.0\n",
      "    2     20 -4.756043615780916e-01 1.2e+00 2.54e-01  2e-01  3e-01 0:00.1\n",
      "    3     30 -4.769870675398377e-01 1.4e+00 2.68e-01  2e-01  3e-01 0:00.1\n",
      "  100   1000 -4.974411460650040e-01 1.0e+01 6.28e-02  2e-02  8e-02 0:03.1\n",
      "  200   2000 -4.975168396581872e-01 1.6e+02 1.58e-02  4e-03  3e-02 0:07.0\n",
      "  300   3000 -4.975975957575716e-01 1.5e+02 2.48e-02  3e-03  3e-02 0:11.0\n",
      "  400   4000 -4.976175246668191e-01 3.6e+02 4.26e-02  5e-03  4e-02 0:15.9\n",
      "  500   5000 -4.976238476470284e-01 5.7e+02 2.22e-02  2e-03  1e-02 0:21.5\n",
      "  600   6000 -4.976259684085398e-01 1.5e+03 8.33e-03  5e-04  5e-03 0:25.8\n",
      "  700   7000 -4.976261939963830e-01 3.5e+03 5.59e-03  2e-04  2e-03 0:29.7\n",
      "  800   8000 -4.976262392398981e-01 1.2e+04 3.07e-03  9e-05  1e-03 0:33.7\n",
      "  900   9000 -4.976262539968727e-01 1.9e+04 2.47e-03  4e-05  7e-04 0:38.0\n",
      " 1000  10000 -4.976262568922551e-01 4.8e+04 2.29e-03  4e-05  4e-04 0:40.7\n",
      "Iterat #Fevals   function value  axis ratio  sigma  min&max std  t[m:s]\n",
      " 1100  11000 -4.976262584527307e-01 5.9e+04 1.76e-03  2e-05  2e-04 0:43.8\n",
      " 1200  12000 -4.976262593437565e-01 1.0e+05 1.68e-03  1e-05  1e-04 0:47.0\n",
      " 1300  13000 -4.976262606556356e-01 6.9e+04 7.35e-03  3e-05  3e-04 0:51.2\n",
      " 1400  14000 -4.976262645305392e-01 7.6e+04 1.37e-02  3e-05  4e-04 0:55.1\n",
      " 1500  15000 -4.976262664314780e-01 7.5e+04 7.45e-03  1e-05  1e-04 0:59.5\n",
      " 1600  16000 -4.976262674542279e-01 6.4e+04 4.29e-02  3e-05  4e-04 1:05.5\n",
      " 1700  17000 -4.976262680697768e-01 9.2e+04 2.13e-02  2e-05  1e-04 1:11.3\n",
      " 1800  18000 -4.976262684630716e-01 1.3e+05 1.76e-02  7e-06  6e-05 1:17.6\n",
      " 1900  19000 -4.976262689583936e-01 1.2e+05 1.66e-01  4e-05  3e-04 1:23.9\n",
      " 2000  20000 -4.976262691712425e-01 1.2e+05 5.27e-02  8e-06  6e-05 1:28.3\n",
      "Iterat #Fevals   function value  axis ratio  sigma  min&max std  t[m:s]\n",
      " 2100  21000 -4.976262692378769e-01 2.2e+05 2.38e-02  3e-06  2e-05 1:32.1\n",
      " 2109  21090 -4.976262692389815e-01 2.4e+05 1.65e-02  2e-06  1e-05 1:32.4\n",
      "termination on tolfun=1e-11 (Wed Jul  7 14:20:31 2021)\n",
      "final/bestever f-value = -4.976263e-01 -4.976263e-01\n",
      "incumbent solution: [1.16374630e+00 2.93338301e+00 4.00122027e+00 5.18403725e+00\n",
      " 2.29890290e-09 1.19999999e+01 9.39362365e+00 4.53960983e+00 ...]\n",
      "std deviations: [2.15231739e-06 2.73168256e-06 3.94903246e-06 5.25323853e-06\n",
      " 4.16151879e-06 1.11452330e-05 1.03439637e-05 9.73851998e-06 ...]\n"
     ]
    },
    {
     "name": "stderr",
     "output_type": "stream",
     "text": [
      "reconstraining parameters GP_regression.Mat52.lengthscale\n",
      "reconstraining parameters GP_regression.Mat52.variance\n",
      "reconstraining parameters GP_regression.Gaussian_noise.variance\n"
     ]
    },
    {
     "name": "stdout",
     "output_type": "stream",
     "text": [
      "Optimization restart 1/10, f = 36.466768989859176\n",
      "Optimization restart 2/10, f = 77.8133933653727\n",
      "Optimization restart 3/10, f = 41.14921746293551\n",
      "Optimization restart 4/10, f = 36.466768989559185\n",
      "Optimization restart 5/10, f = 41.14921746293555\n",
      "Optimization restart 6/10, f = 41.14921746293642\n",
      "Optimization restart 7/10, f = 36.46676898956259\n",
      "Optimization restart 8/10, f = 36.46676898956021\n",
      "Optimization restart 9/10, f = 36.46676898962457\n"
     ]
    },
    {
     "name": "stderr",
     "output_type": "stream",
     "text": [
      "reconstraining parameters GP_regression.Mat52.lengthscale\n",
      "reconstraining parameters GP_regression.Mat52.variance\n",
      "reconstraining parameters GP_regression.Gaussian_noise.variance\n"
     ]
    },
    {
     "name": "stdout",
     "output_type": "stream",
     "text": [
      "Optimization restart 10/10, f = 36.4667689895601\n",
      "Optimization restart 1/10, f = 39.388892890513034\n",
      "Optimization restart 2/10, f = 41.14921746293551\n",
      "Optimization restart 3/10, f = 39.38889289051305\n",
      "Optimization restart 4/10, f = 41.14921746293551\n",
      "Optimization restart 5/10, f = 193.5867817050053\n",
      "Optimization restart 6/10, f = 193.5867817050053\n",
      "Optimization restart 7/10, f = 41.14921746293692\n",
      "Optimization restart 8/10, f = 39.38889289052684\n",
      "Optimization restart 9/10, f = 1448411.1748424221\n"
     ]
    },
    {
     "name": "stderr",
     "output_type": "stream",
     "text": [
      "reconstraining parameters GP_regression.Mat52.lengthscale\n",
      "reconstraining parameters GP_regression.Mat52.variance\n",
      "reconstraining parameters GP_regression.Gaussian_noise.variance\n"
     ]
    },
    {
     "name": "stdout",
     "output_type": "stream",
     "text": [
      "Optimization restart 10/10, f = 41.14921746293551\n",
      "Optimization restart 1/10, f = 38.248883635062995\n",
      "Optimization restart 2/10, f = 83.76606227743801\n",
      "Optimization restart 3/10, f = 38.248883635062924\n",
      "Optimization restart 4/10, f = 193.58677182201703\n",
      "Optimization restart 5/10, f = 422906057.11530244\n",
      "Optimization restart 6/10, f = 41.1492174629355\n",
      "Optimization restart 7/10, f = 41.14921746264997\n",
      "Optimization restart 8/10, f = 38.24888363510037\n",
      "Optimization restart 9/10, f = 38.24888363506294\n"
     ]
    },
    {
     "name": "stderr",
     "output_type": "stream",
     "text": [
      "reconstraining parameters GP_regression.Mat52.lengthscale\n",
      "reconstraining parameters GP_regression.Mat52.variance\n",
      "reconstraining parameters GP_regression.Gaussian_noise.variance\n"
     ]
    },
    {
     "name": "stdout",
     "output_type": "stream",
     "text": [
      "Optimization restart 10/10, f = 38.248883635069944\n",
      "Optimization restart 1/10, f = 38.34315224087854\n",
      "Optimization restart 2/10, f = 41.14921746293551\n",
      "Optimization restart 3/10, f = 38.34315224082273\n",
      "Optimization restart 4/10, f = 41.14921746293568\n",
      "Optimization restart 5/10, f = 41.14921746293551\n",
      "Optimization restart 6/10, f = 41.14921746293551\n",
      "Optimization restart 7/10, f = 38.3431522413313\n",
      "Optimization restart 8/10, f = 41.14921746293551\n",
      "Optimization restart 9/10, f = 193.5867817050053\n",
      "Optimization restart 10/10, f = 38.34315224082215\n",
      "(5_w,10)-aCMA-ES (mu_w=3.2,w_1=45%) in dimension 10 (seed=768285, Wed Jul  7 14:20:38 2021)\n",
      "Iterat #Fevals   function value  axis ratio  sigma  min&max std  t[m:s]\n",
      "    1     10 -4.794922845815826e-01 1.0e+00 2.23e-01  2e-01  2e-01 0:00.0\n",
      "    2     20 -4.792242158124198e-01 1.2e+00 2.29e-01  2e-01  2e-01 0:00.1\n",
      "    3     30 -4.800056113271867e-01 1.3e+00 2.43e-01  2e-01  3e-01 0:00.1\n",
      "   64    640 -4.859017922536285e-01 1.1e+01 2.43e-01  8e-02  4e-01 0:03.1\n",
      "  100   1000 -4.860663273349949e-01 1.3e+01 7.49e-02  2e-02  1e-01 0:04.7\n",
      "  193   1930 -4.977779992912582e-01 3.8e+01 1.27e+00  2e-01  2e+00 0:09.7\n",
      "  200   2000 -5.021871619308872e-01 3.5e+01 1.03e+00  2e-01  2e+00 0:10.1\n",
      "  300   3000 -5.089662251336855e-01 4.5e+01 3.16e-01  3e-02  2e-01 0:15.8\n",
      "  400   4000 -5.091777852883067e-01 2.2e+02 8.19e-02  5e-03  4e-02 0:21.8\n",
      "  500   5000 -5.091985082297970e-01 1.1e+03 1.54e-02  6e-04  7e-03 0:27.6\n",
      "  600   6000 -5.091989226169575e-01 8.8e+03 4.23e-03  1e-04  3e-03 0:33.7\n",
      "  700   7000 -5.091989531196771e-01 2.8e+04 1.11e-03  4e-05  5e-04 0:38.3\n",
      "  800   8000 -5.091989706452569e-01 4.6e+04 9.84e-04  3e-05  3e-04 0:43.4\n",
      "  900   9000 -5.091989750842132e-01 1.3e+05 2.48e-03  5e-05  6e-04 0:49.4\n",
      " 1000  10000 -5.091989784597504e-01 1.1e+05 1.05e-03  1e-05  2e-04 0:54.3\n",
      "Iterat #Fevals   function value  axis ratio  sigma  min&max std  t[m:s]\n",
      " 1100  11000 -5.091989810917779e-01 1.1e+05 5.67e-03  4e-05  5e-04 0:58.3\n",
      " 1200  12000 -5.091989827244674e-01 1.7e+05 4.14e-03  2e-05  2e-04 1:02.7\n",
      " 1300  13000 -5.091989832495307e-01 4.3e+05 4.58e-03  1e-05  2e-04 1:06.8\n",
      " 1400  14000 -5.091989840253801e-01 5.1e+05 1.68e-03  4e-06  5e-05 1:09.5\n",
      " 1500  15000 -5.091989845414375e-01 5.2e+05 7.83e-03  9e-06  1e-04 1:12.7\n",
      " 1600  16000 -5.091989846819853e-01 6.2e+05 8.35e-03  6e-06  9e-05 1:15.4\n",
      " 1700  17000 -5.091989849054572e-01 6.3e+05 9.22e-03  4e-06  5e-05 1:18.6\n",
      " 1800  18000 -5.091989851162728e-01 7.7e+05 4.50e-02  1e-05  2e-04 1:23.0\n"
     ]
    },
    {
     "name": "stderr",
     "output_type": "stream",
     "text": [
      " /home/finley/miniconda3/envs/testsuite/lib/python3.8/site-packages/cma/utilities/utils.py:329: UserWarning:\n",
      "        geno-pheno transformation introduced based on the\n",
      "        current covariance matrix with condition 1.0e+12 -> 1.0e+00,\n",
      "        injected solutions become \"invalid\" in this iteration (class=CMAEvolutionStrategy method=alleviate_conditioning iteration=1861)\n"
     ]
    },
    {
     "name": "stdout",
     "output_type": "stream",
     "text": [
      " 1900  19000 -5.091989851871215e-01 8.7e+00 1.68e-02  1e-02  4e-02 1:26.1\n",
      " 1995  19950 -5.091989853193455e-01 2.2e+02 9.32e-03  5e-03  5e-02 1:31.8\n",
      "termination on tolfun=1e-11 (Wed Jul  7 14:22:17 2021)\n",
      "final/bestever f-value = -5.091990e-01 -5.091990e-01\n",
      "incumbent solution: [1.23303133e+00 1.38161710e+00 3.36494448e+00 6.22097884e+00\n",
      " 1.70528480e+00 6.38870359e+00 2.15088048e-06 1.15030232e+01 ...]\n",
      "std deviations: [0.04798758 0.02814021 0.00837827 0.00841407 0.00453525 0.0076213\n",
      " 0.05142158 0.00774942 ...]\n"
     ]
    },
    {
     "name": "stderr",
     "output_type": "stream",
     "text": [
      "reconstraining parameters GP_regression.Mat52.lengthscale\n",
      "reconstraining parameters GP_regression.Mat52.variance\n",
      "reconstraining parameters GP_regression.Gaussian_noise.variance\n"
     ]
    },
    {
     "name": "stdout",
     "output_type": "stream",
     "text": [
      "Optimization restart 1/10, f = 37.053778105676614\n",
      "Optimization restart 2/10, f = 37.053778105435555\n",
      "Optimization restart 3/10, f = 37.053778105454874\n",
      "Optimization restart 4/10, f = 37.05377810543523\n",
      "Optimization restart 5/10, f = 37.05377810543523\n",
      "Optimization restart 6/10, f = 37.053778105436905\n",
      "Optimization restart 7/10, f = 42.568155996140185\n",
      "Optimization restart 8/10, f = 37.053778105435256\n"
     ]
    },
    {
     "name": "stderr",
     "output_type": "stream",
     "text": [
      "reconstraining parameters GP_regression.Mat52.lengthscale\n",
      "reconstraining parameters GP_regression.Mat52.variance\n",
      "reconstraining parameters GP_regression.Gaussian_noise.variance\n"
     ]
    },
    {
     "name": "stdout",
     "output_type": "stream",
     "text": [
      "Optimization restart 9/10, f = 37.05377810544378\n",
      "Optimization restart 10/10, f = 42.56815599614018\n",
      "Optimization restart 1/10, f = 40.48575108551639\n",
      "Optimization restart 2/10, f = 1003630843.4621756\n",
      "Optimization restart 3/10, f = 40.48575108554251\n",
      "Optimization restart 4/10, f = 42.56815599614018\n",
      "Optimization restart 5/10, f = 40.485751085543406\n",
      "Optimization restart 6/10, f = 40.48575108551642\n",
      "Optimization restart 7/10, f = 200.26218797069515\n",
      "Optimization restart 8/10, f = 42.56815599614018\n",
      "Optimization restart 9/10, f = 42.5681559307665\n"
     ]
    },
    {
     "name": "stderr",
     "output_type": "stream",
     "text": [
      "reconstraining parameters GP_regression.Mat52.lengthscale\n",
      "reconstraining parameters GP_regression.Mat52.variance\n",
      "reconstraining parameters GP_regression.Gaussian_noise.variance\n"
     ]
    },
    {
     "name": "stdout",
     "output_type": "stream",
     "text": [
      "Optimization restart 10/10, f = 40.48575108551644\n",
      "Optimization restart 1/10, f = 39.582539042522626\n",
      "Optimization restart 2/10, f = 200.26218431214798\n",
      "Optimization restart 3/10, f = 1498356.387768023\n",
      "Optimization restart 4/10, f = 1498356.387768023\n",
      "Optimization restart 5/10, f = 1498356.387768023\n",
      "Optimization restart 6/10, f = 426424180.77027255\n",
      "Optimization restart 7/10, f = 86.30103320861934\n",
      "Optimization restart 8/10, f = 39.582539042516245\n"
     ]
    },
    {
     "name": "stderr",
     "output_type": "stream",
     "text": [
      "reconstraining parameters GP_regression.Mat52.lengthscale\n",
      "reconstraining parameters GP_regression.Mat52.variance\n",
      "reconstraining parameters GP_regression.Gaussian_noise.variance\n"
     ]
    },
    {
     "name": "stdout",
     "output_type": "stream",
     "text": [
      "Optimization restart 9/10, f = 39.58253904251888\n",
      "Optimization restart 10/10, f = 42.56815599614018\n",
      "Optimization restart 1/10, f = 38.87059679100881\n",
      "Optimization restart 2/10, f = 38.870596791080075\n",
      "Optimization restart 3/10, f = 89.33794719284401\n",
      "Optimization restart 4/10, f = 805035793.9180202\n",
      "Optimization restart 5/10, f = 42.56815599614018\n",
      "Optimization restart 6/10, f = 38.87059679098064\n",
      "Optimization restart 7/10, f = 802658913.5795065\n",
      "Optimization restart 8/10, f = 89.33794087440816\n",
      "Optimization restart 9/10, f = 42.56815599614018\n",
      "Optimization restart 10/10, f = 38.87059679099927\n",
      "(5_w,10)-aCMA-ES (mu_w=3.2,w_1=45%) in dimension 10 (seed=773155, Wed Jul  7 14:22:23 2021)\n",
      "Iterat #Fevals   function value  axis ratio  sigma  min&max std  t[m:s]\n",
      "    1     10 -4.726720350317346e-01 1.0e+00 2.59e-01  3e-01  3e-01 0:00.0\n",
      "    2     20 -4.740086857988528e-01 1.3e+00 2.70e-01  3e-01  3e-01 0:00.0\n",
      "    3     30 -4.744584584775834e-01 1.3e+00 2.78e-01  3e-01  3e-01 0:00.1\n",
      "  100   1000 -4.910123790328053e-01 4.2e+00 2.44e-01  1e-01  3e-01 0:03.1\n",
      "  198   1980 -4.914943692663538e-01 3.6e+01 5.66e-02  7e-03  7e-02 0:07.1\n",
      "  200   2000 -4.915019826483808e-01 3.7e+01 5.96e-02  7e-03  8e-02 0:07.2\n",
      "  300   3000 -4.927659996147133e-01 6.1e+01 4.09e-01  5e-02  4e-01 0:11.3\n",
      "  400   4000 -5.030798996985699e-01 5.2e+01 6.69e-01  3e-02  4e-01 0:15.1\n",
      "  500   5000 -5.094031875162081e-01 7.8e+01 4.70e-01  1e-02  2e-01 0:19.4\n",
      "  600   6000 -5.097196325421721e-01 4.5e+02 5.41e-02  1e-03  1e-02 0:22.5\n",
      "  700   7000 -5.097239982445647e-01 3.3e+03 4.67e-03  1e-04  1e-03 0:26.6\n",
      "  800   8000 -5.097242577331779e-01 1.4e+04 2.69e-03  6e-05  8e-04 0:29.6\n",
      "  900   9000 -5.097242669696361e-01 7.4e+04 7.58e-04  2e-05  2e-04 0:32.0\n",
      " 1000  10000 -5.097242672845442e-01 5.9e+05 6.22e-05  1e-06  2e-05 0:35.5\n",
      "Iterat #Fevals   function value  axis ratio  sigma  min&max std  t[m:s]\n",
      " 1046  10460 -5.097242672975560e-01 9.5e+05 3.17e-05  6e-07  7e-06 0:37.4\n",
      "termination on tolfun=1e-11 (Wed Jul  7 14:23:03 2021)\n",
      "final/bestever f-value = -5.097243e-01 -5.097243e-01\n",
      "incumbent solution: [1.44096646e+00 1.34693364e+00 2.92544390e+00 6.06536911e+00\n",
      " 1.00191490e+00 6.90524278e+00 6.15071564e-11 1.10427910e+01 ...]\n",
      "std deviations: [5.89835672e-07 1.38667983e-06 1.29764493e-06 1.80106382e-06\n",
      " 3.81193755e-06 3.49792090e-06 2.20617213e-06 5.99204394e-06 ...]\n"
     ]
    },
    {
     "name": "stderr",
     "output_type": "stream",
     "text": [
      "reconstraining parameters GP_regression.Mat52.lengthscale\n",
      "reconstraining parameters GP_regression.Mat52.variance\n",
      "reconstraining parameters GP_regression.Gaussian_noise.variance\n"
     ]
    },
    {
     "name": "stdout",
     "output_type": "stream",
     "text": [
      "Optimization restart 1/10, f = 36.93528937943627\n",
      "Optimization restart 2/10, f = 36.935289379430124\n",
      "Optimization restart 3/10, f = 43.98709452934486\n",
      "Optimization restart 4/10, f = 36.935289379432206\n",
      "Optimization restart 5/10, f = 36.93528937943069\n",
      "Optimization restart 6/10, f = 36.935289379610026\n",
      "Optimization restart 7/10, f = 43.98709452934486\n",
      "Optimization restart 8/10, f = 36.935289379430756\n"
     ]
    },
    {
     "name": "stderr",
     "output_type": "stream",
     "text": [
      "reconstraining parameters GP_regression.Mat52.lengthscale\n",
      "reconstraining parameters GP_regression.Mat52.variance\n",
      "reconstraining parameters GP_regression.Gaussian_noise.variance\n"
     ]
    },
    {
     "name": "stdout",
     "output_type": "stream",
     "text": [
      "Optimization restart 9/10, f = 36.935289379430245\n",
      "Optimization restart 10/10, f = 36.935289379494066\n",
      "Optimization restart 1/10, f = 41.82791753506853\n",
      "Optimization restart 2/10, f = 206.93740630665178\n",
      "Optimization restart 3/10, f = 41.82791753506834\n",
      "Optimization restart 4/10, f = 41.82791753512152\n",
      "Optimization restart 5/10, f = 41.827917535071826\n",
      "Optimization restart 6/10, f = 41.82791753506838\n",
      "Optimization restart 7/10, f = 41.827917535068345\n",
      "Optimization restart 8/10, f = 41.82791753506833\n",
      "Optimization restart 9/10, f = 43.98709452934485\n"
     ]
    },
    {
     "name": "stderr",
     "output_type": "stream",
     "text": [
      "reconstraining parameters GP_regression.Mat52.lengthscale\n",
      "reconstraining parameters GP_regression.Mat52.variance\n",
      "reconstraining parameters GP_regression.Gaussian_noise.variance\n"
     ]
    },
    {
     "name": "stdout",
     "output_type": "stream",
     "text": [
      "Optimization restart 10/10, f = 41.82791753506859\n",
      "Optimization restart 1/10, f = 40.04065558157268\n",
      "Optimization restart 2/10, f = 437813352.2424683\n",
      "Optimization restart 3/10, f = 206.93759423638502\n",
      "Optimization restart 4/10, f = 206.93759423638502\n",
      "Optimization restart 5/10, f = 43.98709452934486\n",
      "Optimization restart 6/10, f = 438163645.1137187\n",
      "Optimization restart 7/10, f = 40.040655581716024\n",
      "Optimization restart 8/10, f = 206.93759423638502\n",
      "Optimization restart 9/10, f = 43.987094529347424\n"
     ]
    },
    {
     "name": "stderr",
     "output_type": "stream",
     "text": [
      "reconstraining parameters GP_regression.Mat52.lengthscale\n",
      "reconstraining parameters GP_regression.Mat52.variance\n",
      "reconstraining parameters GP_regression.Gaussian_noise.variance\n"
     ]
    },
    {
     "name": "stdout",
     "output_type": "stream",
     "text": [
      "Optimization restart 10/10, f = 43.987094529344866\n",
      "Optimization restart 1/10, f = 39.121074731465455\n",
      "Optimization restart 2/10, f = 39.12107473145183\n",
      "Optimization restart 3/10, f = 39.121074731451856\n",
      "Optimization restart 4/10, f = 39.121074731480185\n",
      "Optimization restart 5/10, f = 39.121074731451976\n",
      "Optimization restart 6/10, f = 39.121074731451834\n",
      "Optimization restart 7/10, f = 39.121074731451834\n",
      "Optimization restart 8/10, f = 206.93759423638502\n",
      "Optimization restart 9/10, f = 39.12107473146847\n",
      "Optimization restart 10/10, f = 39.1210747314548\n",
      "(5_w,10)-aCMA-ES (mu_w=3.2,w_1=45%) in dimension 10 (seed=708999, Wed Jul  7 14:23:10 2021)\n",
      "Iterat #Fevals   function value  axis ratio  sigma  min&max std  t[m:s]\n",
      "    1     10 -4.801984539453332e-01 1.0e+00 2.40e-01  2e-01  2e-01 0:00.0\n",
      "    2     20 -4.805378871758359e-01 1.2e+00 2.38e-01  2e-01  2e-01 0:00.0\n",
      "    3     30 -4.833036588149071e-01 1.2e+00 2.45e-01  2e-01  3e-01 0:00.1\n",
      "   81    810 -5.058833893509790e-01 1.3e+01 1.90e-01  7e-02  4e-01 0:03.1\n",
      "  100   1000 -5.086044112553391e-01 1.9e+01 2.54e-01  9e-02  6e-01 0:03.9\n",
      "  200   2000 -5.119674400842081e-01 4.6e+01 1.79e-01  2e-02  2e-01 0:07.8\n",
      "  300   3000 -5.121272581583858e-01 2.7e+02 1.51e-02  1e-03  2e-02 0:11.7\n",
      "  400   4000 -5.121467285336706e-01 8.3e+02 9.15e-03  7e-04  8e-03 0:15.6\n",
      "  500   5000 -5.121481381061553e-01 3.6e+03 3.05e-03  2e-04  3e-03 0:19.5\n",
      "  600   6000 -5.121482457444873e-01 1.0e+04 1.22e-03  9e-05  9e-04 0:22.7\n",
      "  700   7000 -5.121482619494505e-01 3.7e+04 9.52e-04  5e-05  5e-04 0:24.7\n",
      "  800   8000 -5.121482634271460e-01 1.5e+05 1.02e-04  4e-06  4e-05 0:26.6\n",
      "  900   9000 -5.121482636933999e-01 1.9e+05 1.57e-04  4e-06  4e-05 0:28.6\n",
      "  954   9540 -5.121482637157081e-01 3.9e+05 4.06e-05  1e-06  1e-05 0:29.6\n",
      "termination on tolfun=1e-11 (Wed Jul  7 14:23:41 2021)\n",
      "final/bestever f-value = -5.121483e-01 -5.121483e-01\n",
      "incumbent solution: [ 0.84317836  2.25069921  1.43303512  6.49726483  2.07537406  4.42321459\n",
      "  0.26755813 15.14562402 ...]\n",
      "std deviations: [1.16725111e-06 1.18494749e-06 2.35372799e-06 2.77346333e-06\n",
      " 6.88409032e-06 8.57028227e-06 1.01070368e-05 5.98028909e-06 ...]\n"
     ]
    },
    {
     "name": "stderr",
     "output_type": "stream",
     "text": [
      "reconstraining parameters GP_regression.Mat52.lengthscale\n",
      "reconstraining parameters GP_regression.Mat52.variance\n",
      "reconstraining parameters GP_regression.Gaussian_noise.variance\n"
     ]
    },
    {
     "name": "stdout",
     "output_type": "stream",
     "text": [
      "Optimization restart 1/10, f = 37.85571700633601\n",
      "Optimization restart 2/10, f = 37.85571700572605\n",
      "Optimization restart 3/10, f = 78.86085113789733\n",
      "Optimization restart 4/10, f = 45.40603306254955\n",
      "Optimization restart 5/10, f = 37.85571700572561\n",
      "Optimization restart 6/10, f = 37.855717005731336\n",
      "Optimization restart 7/10, f = 37.85571700572582\n",
      "Optimization restart 8/10, f = 37.85571700574803\n",
      "Optimization restart 9/10, f = 45.40603306255\n",
      "Optimization restart 10/10, f = 37.85571700572562\n"
     ]
    },
    {
     "name": "stderr",
     "output_type": "stream",
     "text": [
      "reconstraining parameters GP_regression.Mat52.lengthscale\n",
      "reconstraining parameters GP_regression.Mat52.variance\n",
      "reconstraining parameters GP_regression.Gaussian_noise.variance\n"
     ]
    },
    {
     "name": "stdout",
     "output_type": "stream",
     "text": [
      "Optimization restart 1/10, f = 42.70324864746371\n",
      "Optimization restart 2/10, f = 45.40603306255023\n",
      "Optimization restart 3/10, f = 1049382880.1014585\n",
      "Optimization restart 4/10, f = 42.70324864746425\n",
      "Optimization restart 5/10, f = 213.61300050207478\n",
      "Optimization restart 6/10, f = 98.59995731541031\n",
      "Optimization restart 7/10, f = 42.703248647462615\n",
      "Optimization restart 8/10, f = 45.40603306254953\n",
      "Optimization restart 9/10, f = 1052853339.4899931\n"
     ]
    },
    {
     "name": "stderr",
     "output_type": "stream",
     "text": [
      "reconstraining parameters GP_regression.Mat52.lengthscale\n",
      "reconstraining parameters GP_regression.Mat52.variance\n",
      "reconstraining parameters GP_regression.Gaussian_noise.variance\n"
     ]
    },
    {
     "name": "stdout",
     "output_type": "stream",
     "text": [
      "Optimization restart 10/10, f = 45.40603306254959\n",
      "Optimization restart 1/10, f = 41.23723095863065\n",
      "Optimization restart 2/10, f = 213.61300050207478\n",
      "Optimization restart 3/10, f = 41.23723095863063\n",
      "Optimization restart 4/10, f = 1598246.813619225\n",
      "Optimization restart 5/10, f = 213.61299629672882\n",
      "Optimization restart 6/10, f = 41.23723095863789\n",
      "Optimization restart 7/10, f = 213.61300050207478\n",
      "Optimization restart 8/10, f = 41.237230958630626\n"
     ]
    },
    {
     "name": "stderr",
     "output_type": "stream",
     "text": [
      "reconstraining parameters GP_regression.Mat52.lengthscale\n",
      "reconstraining parameters GP_regression.Mat52.variance\n",
      "reconstraining parameters GP_regression.Gaussian_noise.variance\n"
     ]
    },
    {
     "name": "stdout",
     "output_type": "stream",
     "text": [
      "Optimization restart 9/10, f = 41.23723095863248\n",
      "Optimization restart 10/10, f = 41.237230958630896\n",
      "Optimization restart 1/10, f = 39.72824145313966\n",
      "Optimization restart 2/10, f = 213.61300050207478\n",
      "Optimization restart 3/10, f = 811944893.8295776\n",
      "Optimization restart 4/10, f = 39.728241453139674\n",
      "Optimization restart 5/10, f = 39.72824145313975\n",
      "Optimization restart 6/10, f = 811958900.7332994\n",
      "Optimization restart 7/10, f = 811915654.4772753\n",
      "Optimization restart 8/10, f = 39.728241453139816\n",
      "Optimization restart 9/10, f = 213.61299437181034\n",
      "Optimization restart 10/10, f = 213.6129919564498\n",
      "(5_w,10)-aCMA-ES (mu_w=3.2,w_1=45%) in dimension 10 (seed=718335, Wed Jul  7 14:23:46 2021)\n",
      "Iterat #Fevals   function value  axis ratio  sigma  min&max std  t[m:s]\n",
      "    1     10 -4.784045208112025e-01 1.0e+00 2.44e-01  2e-01  3e-01 0:00.0\n",
      "    2     20 -4.832484791947239e-01 1.2e+00 2.48e-01  2e-01  3e-01 0:00.1\n",
      "    3     30 -4.849795717200168e-01 1.3e+00 2.67e-01  3e-01  3e-01 0:00.1\n",
      "   79    790 -5.160626440633207e-01 1.2e+01 3.27e-01  9e-02  5e-01 0:03.1\n",
      "  100   1000 -5.189021540778783e-01 2.0e+01 1.65e-01  4e-02  3e-01 0:04.1\n",
      "  191   1910 -5.207371239915108e-01 9.3e+01 4.62e-02  7e-03  7e-02 0:09.1\n",
      "  200   2000 -5.207981868579631e-01 1.1e+02 4.77e-02  7e-03  7e-02 0:09.7\n",
      "  300   3000 -5.208841651158138e-01 6.6e+02 7.26e-03  9e-04  9e-03 0:15.3\n",
      "  400   4000 -5.208865693386251e-01 2.8e+03 1.19e-03  1e-04  1e-03 0:20.4\n",
      "  500   5000 -5.208866261742869e-01 2.0e+04 2.98e-04  3e-05  3e-04 0:24.5\n",
      "  600   6000 -5.208866275574930e-01 1.1e+05 2.98e-05  3e-06  3e-05 0:28.8\n",
      "  669   6690 -5.208866276014454e-01 5.2e+05 6.89e-06  8e-07  7e-06 0:31.5\n",
      "termination on tolfun=1e-11 (Wed Jul  7 14:24:19 2021)\n",
      "final/bestever f-value = -5.208866e-01 -5.208866e-01\n",
      "incumbent solution: [1.25415255e+00 2.06584654e+00 1.08050925e+00 5.78617763e+00\n",
      " 1.01099940e+00 5.96310941e+00 1.27306382e-10 1.34706477e+01 ...]\n",
      "std deviations: [7.57627028e-07 9.16805110e-07 1.89255339e-06 3.51217802e-06\n",
      " 7.14151622e-06 5.55736962e-06 2.59810020e-06 5.80482981e-06 ...]\n"
     ]
    },
    {
     "name": "stderr",
     "output_type": "stream",
     "text": [
      "reconstraining parameters GP_regression.Mat52.lengthscale\n",
      "reconstraining parameters GP_regression.Mat52.variance\n",
      "reconstraining parameters GP_regression.Gaussian_noise.variance\n"
     ]
    },
    {
     "name": "stdout",
     "output_type": "stream",
     "text": [
      "Optimization restart 1/10, f = 39.889941988695824\n",
      "Optimization restart 2/10, f = 39.88994198868834\n",
      "Optimization restart 3/10, f = 39.88994198868835\n",
      "Optimization restart 4/10, f = 39.88994198868836\n",
      "Optimization restart 5/10, f = 39.8899419887095\n",
      "Optimization restart 6/10, f = 856594690.8401402\n",
      "Optimization restart 7/10, f = 39.889941988696606\n",
      "Optimization restart 8/10, f = 39.889941988688356\n",
      "Optimization restart 9/10, f = 46.8249715957542\n",
      "Optimization restart 10/10, f = 39.88994198868834\n"
     ]
    },
    {
     "name": "stderr",
     "output_type": "stream",
     "text": [
      "reconstraining parameters GP_regression.Mat52.lengthscale\n",
      "reconstraining parameters GP_regression.Mat52.variance\n",
      "reconstraining parameters GP_regression.Gaussian_noise.variance\n"
     ]
    },
    {
     "name": "stdout",
     "output_type": "stream",
     "text": [
      "Optimization restart 1/10, f = 43.71456469932207\n",
      "Optimization restart 2/10, f = 1078735989.6811192\n",
      "Optimization restart 3/10, f = 1078191415.2011623\n",
      "Optimization restart 4/10, f = 43.714564699377945\n",
      "Optimization restart 5/10, f = 220.28840676776463\n",
      "Optimization restart 6/10, f = 46.82497159575446\n",
      "Optimization restart 7/10, f = 46.82497159575421\n",
      "Optimization restart 8/10, f = 43.71456469932232\n",
      "Optimization restart 9/10, f = 46.824971595754675\n"
     ]
    },
    {
     "name": "stderr",
     "output_type": "stream",
     "text": [
      "reconstraining parameters GP_regression.Mat52.lengthscale\n",
      "reconstraining parameters GP_regression.Mat52.variance\n",
      "reconstraining parameters GP_regression.Gaussian_noise.variance\n"
     ]
    },
    {
     "name": "stdout",
     "output_type": "stream",
     "text": [
      "Optimization restart 10/10, f = 220.28840676776463\n",
      "Optimization restart 1/10, f = 42.65091033146483\n",
      "Optimization restart 2/10, f = 42.65091033146105\n",
      "Optimization restart 3/10, f = 42.65091033146099\n",
      "Optimization restart 4/10, f = 42.650910331461\n",
      "Optimization restart 5/10, f = 42.65091033146106\n",
      "Optimization restart 6/10, f = 46.8249715957542\n",
      "Optimization restart 7/10, f = 42.650910331461\n",
      "Optimization restart 8/10, f = 46.82497159575424\n",
      "Optimization restart 9/10, f = 46.8249715957542\n"
     ]
    },
    {
     "name": "stderr",
     "output_type": "stream",
     "text": [
      "reconstraining parameters GP_regression.Mat52.lengthscale\n",
      "reconstraining parameters GP_regression.Mat52.variance\n",
      "reconstraining parameters GP_regression.Gaussian_noise.variance\n"
     ]
    },
    {
     "name": "stdout",
     "output_type": "stream",
     "text": [
      "Optimization restart 10/10, f = 220.28840676776463\n",
      "Optimization restart 1/10, f = 40.645799670267124\n",
      "Optimization restart 2/10, f = 40.645799670264395\n",
      "Optimization restart 3/10, f = 40.64579967039685\n",
      "Optimization restart 4/10, f = 220.28840676776463\n",
      "Optimization restart 5/10, f = 220.28840676776463\n",
      "Optimization restart 6/10, f = 46.82497159575584\n",
      "Optimization restart 7/10, f = 91.39855837386881\n",
      "Optimization restart 8/10, f = 40.645799670264324\n",
      "Optimization restart 9/10, f = 40.64579967056916\n",
      "Optimization restart 10/10, f = 40.645799670264296\n",
      "(5_w,10)-aCMA-ES (mu_w=3.2,w_1=45%) in dimension 10 (seed=692993, Wed Jul  7 14:24:24 2021)\n",
      "Iterat #Fevals   function value  axis ratio  sigma  min&max std  t[m:s]\n",
      "    1     10 -4.767811808335142e-01 1.0e+00 2.54e-01  2e-01  3e-01 0:00.0\n",
      "    2     20 -4.801506715061403e-01 1.3e+00 2.71e-01  3e-01  3e-01 0:00.0\n",
      "    3     30 -4.805564583283057e-01 1.4e+00 2.88e-01  3e-01  3e-01 0:00.1\n",
      "   89    890 -5.073618263453126e-01 7.1e+00 1.49e+00  7e-01  2e+00 0:03.1\n",
      "  100   1000 -5.028351179963337e-01 7.2e+00 1.12e+00  5e-01  2e+00 0:03.5\n",
      "  200   2000 -5.128650863837033e-01 4.1e+01 1.97e-01  2e-02  3e-01 0:07.4\n",
      "  300   3000 -5.149081467674980e-01 1.2e+02 1.67e-01  1e-02  2e-01 0:11.3\n",
      "  400   4000 -5.154120272886502e-01 3.9e+02 2.33e-02  2e-03  2e-02 0:14.1\n",
      "  500   5000 -5.154180380938745e-01 3.7e+03 1.70e-03  1e-04  1e-03 0:18.7\n",
      "  600   6000 -5.154182214012801e-01 2.4e+04 1.81e-03  1e-04  2e-03 0:24.6\n",
      "  700   7000 -5.154182670496139e-01 4.2e+04 1.07e-03  5e-05  6e-04 0:29.3\n",
      "  800   8000 -5.154182703435217e-01 1.5e+05 9.24e-05  4e-06  5e-05 0:33.7\n",
      "  900   9000 -5.154182704008327e-01 6.6e+05 3.85e-05  2e-06  2e-05 0:38.0\n",
      "  925   9250 -5.154182704027980e-01 9.8e+05 1.40e-05  5e-07  5e-06 0:39.0\n",
      "termination on tolfun=1e-11 (Wed Jul  7 14:25:05 2021)\n",
      "final/bestever f-value = -5.154183e-01 -5.154183e-01\n",
      "incumbent solution: [1.11347039e+00 1.79485604e+00 1.27357468e+00 5.28041668e+00\n",
      " 1.29249230e+00 5.08338818e+00 4.56102764e-10 1.28248309e+01 ...]\n",
      "std deviations: [5.39087735e-07 9.20497108e-07 1.57092597e-06 2.39898394e-06\n",
      " 3.60732177e-06 4.54424164e-06 9.12166573e-07 4.23576557e-06 ...]\n"
     ]
    },
    {
     "name": "stderr",
     "output_type": "stream",
     "text": [
      "reconstraining parameters GP_regression.Mat52.lengthscale\n",
      "reconstraining parameters GP_regression.Mat52.variance\n",
      "reconstraining parameters GP_regression.Gaussian_noise.variance\n"
     ]
    },
    {
     "name": "stdout",
     "output_type": "stream",
     "text": [
      "Optimization restart 1/10, f = 39.75609827640099\n",
      "Optimization restart 2/10, f = 39.756098276179415\n",
      "Optimization restart 3/10, f = 39.75609827617943\n",
      "Optimization restart 4/10, f = 39.756098276179415\n",
      "Optimization restart 5/10, f = 870642531.2645204\n",
      "Optimization restart 6/10, f = 39.75609827622896\n",
      "Optimization restart 7/10, f = 39.7560982761797\n",
      "Optimization restart 8/10, f = 39.75609827618116\n"
     ]
    },
    {
     "name": "stderr",
     "output_type": "stream",
     "text": [
      "reconstraining parameters GP_regression.Mat52.lengthscale\n",
      "reconstraining parameters GP_regression.Mat52.variance\n",
      "reconstraining parameters GP_regression.Gaussian_noise.variance\n"
     ]
    },
    {
     "name": "stdout",
     "output_type": "stream",
     "text": [
      "Optimization restart 9/10, f = 39.75609827617946\n",
      "Optimization restart 10/10, f = 48.24391012896062\n",
      "Optimization restart 1/10, f = 44.40289447148114\n",
      "Optimization restart 2/10, f = 44.40289447148117\n",
      "Optimization restart 3/10, f = 44.40289447148172\n",
      "Optimization restart 4/10, f = 44.40289447916813\n",
      "Optimization restart 5/10, f = 48.24391012895887\n",
      "Optimization restart 6/10, f = 1698137.2394704265\n",
      "Optimization restart 7/10, f = 226.96381303345447\n",
      "Optimization restart 8/10, f = 1111820066.4599822\n"
     ]
    },
    {
     "name": "stderr",
     "output_type": "stream",
     "text": [
      "reconstraining parameters GP_regression.Mat52.lengthscale\n",
      "reconstraining parameters GP_regression.Mat52.variance\n",
      "reconstraining parameters GP_regression.Gaussian_noise.variance\n"
     ]
    },
    {
     "name": "stdout",
     "output_type": "stream",
     "text": [
      "Optimization restart 9/10, f = 44.40289447148143\n",
      "Optimization restart 10/10, f = 44.40289447148314\n",
      "Optimization restart 1/10, f = 43.8738367283663\n",
      "Optimization restart 2/10, f = 43.87383672836629\n",
      "Optimization restart 3/10, f = 48.24391012895944\n",
      "Optimization restart 4/10, f = 226.96381303345447\n",
      "Optimization restart 5/10, f = 99.1677979142354\n",
      "Optimization restart 6/10, f = 226.96381303345447\n",
      "Optimization restart 7/10, f = 522030826.8006515\n",
      "Optimization restart 8/10, f = 48.243910128960906\n"
     ]
    },
    {
     "name": "stderr",
     "output_type": "stream",
     "text": [
      "reconstraining parameters GP_regression.Mat52.lengthscale\n",
      "reconstraining parameters GP_regression.Mat52.variance\n",
      "reconstraining parameters GP_regression.Gaussian_noise.variance\n"
     ]
    },
    {
     "name": "stdout",
     "output_type": "stream",
     "text": [
      "Optimization restart 9/10, f = 226.96381303345447\n",
      "Optimization restart 10/10, f = 226.96381303345447\n",
      "Optimization restart 1/10, f = 40.81000970307278\n",
      "Optimization restart 2/10, f = 40.810009703073305\n",
      "Optimization restart 3/10, f = 226.96381303345447\n",
      "Optimization restart 4/10, f = 40.81000970307339\n",
      "Optimization restart 5/10, f = 226.96381303345447\n",
      "Optimization restart 6/10, f = 48.24391012895889\n",
      "Optimization restart 7/10, f = 40.81000970307287\n",
      "Optimization restart 8/10, f = 48.24391012895886\n",
      "Optimization restart 9/10, f = 40.810009703072794\n",
      "Optimization restart 10/10, f = 48.243910128958866\n",
      "(5_w,10)-aCMA-ES (mu_w=3.2,w_1=45%) in dimension 10 (seed=749928, Wed Jul  7 14:25:11 2021)\n",
      "Iterat #Fevals   function value  axis ratio  sigma  min&max std  t[m:s]\n",
      "    1     10 -4.812731106597903e-01 1.0e+00 2.28e-01  2e-01  2e-01 0:00.0\n",
      "    2     20 -4.817657966408873e-01 1.1e+00 2.24e-01  2e-01  2e-01 0:00.1\n",
      "    3     30 -4.824091974406705e-01 1.2e+00 2.30e-01  2e-01  2e-01 0:00.1\n",
      "   74    740 -4.946961618078910e-01 4.4e+00 2.01e-01  1e-01  2e-01 0:03.1\n",
      "  100   1000 -4.951741130360088e-01 8.6e+00 1.45e-01  6e-02  2e-01 0:04.2\n",
      "  200   2000 -4.959468395997155e-01 4.6e+01 5.97e-02  1e-02  7e-02 0:08.3\n",
      "  300   3000 -4.961969218842884e-01 1.1e+02 3.23e-02  3e-03  4e-02 0:13.8\n",
      "  400   4000 -4.962559141319844e-01 3.0e+02 7.75e-02  5e-03  7e-02 0:19.5\n",
      "  500   5000 -4.962680802629942e-01 8.5e+02 3.71e-02  2e-03  3e-02 0:25.1\n",
      "  600   6000 -4.962744392380748e-01 1.3e+03 6.42e-02  2e-03  4e-02 0:29.1\n",
      "  700   7000 -4.962769564931502e-01 2.1e+03 2.76e-02  6e-04  1e-02 0:33.2\n",
      "  800   8000 -4.962788228343101e-01 3.8e+03 7.18e-02  1e-03  2e-02 0:36.7\n",
      "  900   9000 -4.962792051164811e-01 5.2e+03 2.78e-02  3e-04  5e-03 0:39.5\n",
      " 1000  10000 -4.962793311424329e-01 9.4e+03 5.79e-02  5e-04  6e-03 0:42.9\n",
      "Iterat #Fevals   function value  axis ratio  sigma  min&max std  t[m:s]\n",
      " 1100  11000 -4.962795391475414e-01 1.0e+04 2.64e-02  2e-04  2e-03 0:47.8\n",
      " 1200  12000 -4.962796266785463e-01 2.0e+04 2.40e-01  1e-03  1e-02 0:52.4\n",
      " 1300  13000 -4.962798751017514e-01 1.2e+04 7.51e-02  2e-04  2e-03 0:58.2\n",
      " 1400  14000 -4.962798977810076e-01 2.4e+04 5.72e-02  1e-04  1e-03 1:03.0\n",
      " 1500  15000 -4.962799041808589e-01 6.0e+04 4.84e-02  6e-05  9e-04 1:07.4\n",
      " 1600  16000 -4.962799132081994e-01 6.1e+04 1.80e-01  1e-04  1e-03 1:10.5\n",
      " 1700  17000 -4.962799218949484e-01 5.2e+04 1.89e-01  8e-05  9e-04 1:15.1\n",
      " 1800  18000 -4.962799340558069e-01 5.6e+04 2.59e-01  5e-05  7e-04 1:19.2\n",
      " 1900  19000 -4.962799605191066e-01 5.4e+04 1.82e+00  2e-04  3e-03 1:24.3\n",
      " 2000  20000 -4.962799699233938e-01 7.0e+04 5.73e-01  7e-05  6e-04 1:28.3\n",
      "Iterat #Fevals   function value  axis ratio  sigma  min&max std  t[m:s]\n",
      " 2100  21000 -4.962799840967964e-01 6.4e+04 2.21e+00  1e-04  2e-03 1:31.2\n",
      " 2200  22000 -4.962799992129608e-01 4.6e+04 2.97e+00  8e-05  2e-03 1:34.6\n",
      " 2300  23000 -4.962800016785096e-01 1.1e+05 8.60e-01  2e-05  4e-04 1:40.4\n",
      " 2400  24000 -4.962800022370317e-01 3.1e+05 2.21e+00  2e-05  8e-04 1:46.2\n",
      " 2500  25000 -4.962800034822280e-01 1.5e+05 5.52e+00  3e-05  6e-04 1:51.2\n",
      " 2600  26000 -4.962800044742973e-01 1.4e+05 3.70e+00  2e-05  3e-04 1:53.9\n",
      " 2700  27000 -4.962800081407494e-01 1.4e+05 3.01e+01  8e-05  1e-03 1:57.8\n",
      " 2800  28000 -4.962800121744816e-01 2.3e+05 2.07e+01  3e-05  1e-03 2:02.2\n",
      " 2900  29000 -4.962800125965523e-01 2.5e+05 4.33e+00  5e-06  1e-04 2:07.8\n",
      " 3000  30000 -4.962800126617377e-01 7.3e+05 7.27e+00  6e-06  2e-04 2:11.4\n",
      "Iterat #Fevals   function value  axis ratio  sigma  min&max std  t[m:s]\n",
      " 3100  31000 -4.962800127163337e-01 8.1e+05 1.17e+01  6e-06  1e-04 2:15.7\n",
      " 3200  32000 -4.962800130390795e-01 5.5e+05 8.41e+01  3e-05  3e-04 2:20.4\n",
      " 3300  33000 -4.962800135421888e-01 6.1e+05 9.08e+01  2e-05  3e-04 2:24.7\n",
      " 3400  34000 -4.962800138439657e-01 5.4e+05 1.66e+02  2e-05  3e-04 2:29.4\n",
      " 3500  35000 -4.962800139549240e-01 4.6e+05 1.27e+02  9e-06  1e-04 2:35.2\n",
      " 3600  36000 -4.962800140299311e-01 4.3e+05 7.29e+01  2e-06  4e-05 2:38.4\n",
      " 3700  37000 -4.962800140807906e-01 5.0e+05 5.29e+02  1e-05  2e-04 2:42.1\n",
      " 3800  38000 -4.962800142305913e-01 5.2e+05 7.10e+02  8e-06  2e-04 2:46.9\n",
      " 3879  38790 -4.962800142589906e-01 6.7e+05 3.20e+02  3e-06  5e-05 2:50.7\n",
      "termination on tolfun=1e-11 (Wed Jul  7 14:28:14 2021)\n",
      "final/bestever f-value = -4.962800e-01 -4.962800e-01\n",
      "incumbent solution: [1.21543453e+00 1.42441925e+00 1.90752874e-01 7.57796590e+00\n",
      " 3.15445336e+00 3.73451718e-08 1.70885762e+00 1.59999992e+01 ...]\n",
      "std deviations: [2.74997680e-06 5.99411164e-06 6.72553997e-06 1.20463589e-05\n",
      " 3.63304564e-05 6.04905005e-06 5.36062889e-05 3.57382973e-05 ...]\n"
     ]
    },
    {
     "name": "stderr",
     "output_type": "stream",
     "text": [
      "reconstraining parameters GP_regression.Mat52.lengthscale\n",
      "reconstraining parameters GP_regression.Mat52.variance\n",
      "reconstraining parameters GP_regression.Gaussian_noise.variance\n"
     ]
    },
    {
     "name": "stdout",
     "output_type": "stream",
     "text": [
      "Optimization restart 1/10, f = 41.588583899489706\n",
      "Optimization restart 2/10, f = 41.588583899343796\n",
      "Optimization restart 3/10, f = 41.58858389934409\n",
      "Optimization restart 4/10, f = 49.66284866216361\n",
      "Optimization restart 5/10, f = 49.66284866216354\n",
      "Optimization restart 6/10, f = 1192244207.1251779\n",
      "Optimization restart 7/10, f = 41.58858389934493\n",
      "Optimization restart 8/10, f = 41.58858389934264\n",
      "Optimization restart 9/10, f = 1188817621.909184\n"
     ]
    },
    {
     "name": "stderr",
     "output_type": "stream",
     "text": [
      "reconstraining parameters GP_regression.Mat52.lengthscale\n",
      "reconstraining parameters GP_regression.Mat52.variance\n",
      "reconstraining parameters GP_regression.Gaussian_noise.variance\n"
     ]
    },
    {
     "name": "stdout",
     "output_type": "stream",
     "text": [
      "Optimization restart 10/10, f = 41.588583899343185\n",
      "Optimization restart 1/10, f = 45.39533306977364\n",
      "Optimization restart 2/10, f = 45.39533306973344\n",
      "Optimization restart 3/10, f = 1748082.4523960268\n",
      "Optimization restart 4/10, f = 233.63921929914432\n",
      "Optimization restart 5/10, f = 45.395333069733255\n",
      "Optimization restart 6/10, f = 45.39533306979579\n",
      "Optimization restart 7/10, f = 233.63921929914432\n",
      "Optimization restart 8/10, f = 1069263641.1950703\n",
      "Optimization restart 9/10, f = 49.662848662163775\n"
     ]
    },
    {
     "name": "stderr",
     "output_type": "stream",
     "text": [
      "reconstraining parameters GP_regression.Mat52.lengthscale\n",
      "reconstraining parameters GP_regression.Mat52.variance\n",
      "reconstraining parameters GP_regression.Gaussian_noise.variance\n"
     ]
    },
    {
     "name": "stdout",
     "output_type": "stream",
     "text": [
      "Optimization restart 10/10, f = 45.39533306973324\n",
      "Optimization restart 1/10, f = 44.323085044356446\n",
      "Optimization restart 2/10, f = 49.66284866216201\n",
      "Optimization restart 3/10, f = 491381035.3256956\n",
      "Optimization restart 4/10, f = 49.662848662163654\n",
      "Optimization restart 5/10, f = 44.32308504435612\n",
      "Optimization restart 6/10, f = 49.66284866216354\n",
      "Optimization restart 7/10, f = 233.63921929914432\n",
      "Optimization restart 8/10, f = 44.323085044359104\n",
      "Optimization restart 9/10, f = 233.63921929914432\n"
     ]
    },
    {
     "name": "stderr",
     "output_type": "stream",
     "text": [
      "reconstraining parameters GP_regression.Mat52.lengthscale\n",
      "reconstraining parameters GP_regression.Mat52.variance\n",
      "reconstraining parameters GP_regression.Gaussian_noise.variance\n"
     ]
    },
    {
     "name": "stdout",
     "output_type": "stream",
     "text": [
      "Optimization restart 10/10, f = 233.63921929914432\n",
      "Optimization restart 1/10, f = 41.598569441286834\n",
      "Optimization restart 2/10, f = 41.59856944128682\n",
      "Optimization restart 3/10, f = 41.59856944128682\n",
      "Optimization restart 4/10, f = 817266166.4092064\n",
      "Optimization restart 5/10, f = 41.598569441287495\n",
      "Optimization restart 6/10, f = 41.59856944129362\n",
      "Optimization restart 7/10, f = 41.59856944129163\n",
      "Optimization restart 8/10, f = 41.598569441287864\n",
      "Optimization restart 9/10, f = 41.59856944128687\n",
      "Optimization restart 10/10, f = 817206499.8650427\n",
      "(5_w,10)-aCMA-ES (mu_w=3.2,w_1=45%) in dimension 10 (seed=795405, Wed Jul  7 14:28:21 2021)\n",
      "Iterat #Fevals   function value  axis ratio  sigma  min&max std  t[m:s]\n",
      "    1     10 -4.798742380603752e-01 1.0e+00 2.54e-01  2e-01  3e-01 0:00.0\n",
      "    2     20 -4.805262749081379e-01 1.2e+00 2.48e-01  2e-01  3e-01 0:00.1\n",
      "    3     30 -4.813154446323060e-01 1.3e+00 2.45e-01  2e-01  2e-01 0:00.1\n",
      "  100   1000 -5.098213060348413e-01 1.3e+01 1.70e-01  4e-02  2e-01 0:02.6\n",
      "  196   1960 -5.140424677859852e-01 4.0e+01 6.54e-02  6e-03  9e-02 0:06.6\n",
      "  200   2000 -5.140821882029929e-01 4.0e+01 5.47e-02  5e-03  7e-02 0:06.8\n",
      "  300   3000 -5.144340101011916e-01 1.5e+02 2.28e-02  2e-03  3e-02 0:11.0\n",
      "  400   4000 -5.144900701654018e-01 6.9e+02 1.24e-02  8e-04  2e-02 0:13.9\n",
      "  500   5000 -5.144942922719796e-01 1.6e+03 6.71e-03  4e-04  6e-03 0:16.2\n",
      "  600   6000 -5.144965223887503e-01 3.1e+03 5.99e-03  2e-04  5e-03 0:18.3\n",
      "  700   7000 -5.144967044075608e-01 7.3e+03 8.31e-04  2e-05  5e-04 0:20.5\n",
      "  800   8000 -5.144967121140673e-01 3.9e+04 2.37e-04  4e-06  2e-04 0:23.1\n",
      "  900   9000 -5.144967126117644e-01 1.0e+05 8.83e-05  2e-06  3e-05 0:27.7\n",
      "  968   9680 -5.144967126339807e-01 3.7e+05 3.94e-05  6e-07  2e-05 0:30.7\n",
      "termination on tolfun=1e-11 (Wed Jul  7 14:28:53 2021)\n",
      "final/bestever f-value = -5.144967e-01 -5.144967e-01\n",
      "incumbent solution: [1.15469369e+00 1.86677976e+00 1.68619570e+00 5.36114628e+00\n",
      " 2.52770954e+00 4.99130590e+00 1.83056081e-07 1.16731340e+01 ...]\n",
      "std deviations: [6.46591314e-07 2.30157258e-06 3.68271424e-06 5.31812642e-06\n",
      " 6.37267917e-06 9.89140753e-06 4.81942332e-06 1.53991536e-05 ...]\n"
     ]
    },
    {
     "name": "stderr",
     "output_type": "stream",
     "text": [
      "reconstraining parameters GP_regression.Mat52.lengthscale\n",
      "reconstraining parameters GP_regression.Mat52.variance\n",
      "reconstraining parameters GP_regression.Gaussian_noise.variance\n"
     ]
    },
    {
     "name": "stdout",
     "output_type": "stream",
     "text": [
      "Optimization restart 1/10, f = 41.20498990820538\n",
      "Optimization restart 2/10, f = 41.20498990804715\n",
      "Optimization restart 3/10, f = 41.20498990812577\n",
      "Optimization restart 4/10, f = 41.20498990804715\n",
      "Optimization restart 5/10, f = 1226601211.2080438\n",
      "Optimization restart 6/10, f = 51.08178719536822\n",
      "Optimization restart 7/10, f = 83.55691484779754\n",
      "Optimization restart 8/10, f = 51.08178719536822\n"
     ]
    },
    {
     "name": "stderr",
     "output_type": "stream",
     "text": [
      "reconstraining parameters GP_regression.Mat52.lengthscale\n",
      "reconstraining parameters GP_regression.Mat52.variance\n",
      "reconstraining parameters GP_regression.Gaussian_noise.variance\n"
     ]
    },
    {
     "name": "stdout",
     "output_type": "stream",
     "text": [
      "Optimization restart 9/10, f = 83.55718770611678\n",
      "Optimization restart 10/10, f = 83.55720065119718\n",
      "Optimization restart 1/10, f = 47.41242805323187\n",
      "Optimization restart 2/10, f = 47.41242805322254\n",
      "Optimization restart 3/10, f = 47.412428053223486\n",
      "Optimization restart 4/10, f = 240.31462556483416\n",
      "Optimization restart 5/10, f = 1080944518.0245528\n",
      "Optimization restart 6/10, f = 47.41242805322303\n",
      "Optimization restart 7/10, f = 1079573808.0937827\n",
      "Optimization restart 8/10, f = 47.412428053222435\n"
     ]
    },
    {
     "name": "stderr",
     "output_type": "stream",
     "text": [
      "reconstraining parameters GP_regression.Mat52.lengthscale\n",
      "reconstraining parameters GP_regression.Mat52.variance\n"
     ]
    },
    {
     "name": "stdout",
     "output_type": "stream",
     "text": [
      "Optimization restart 9/10, f = 47.412428053222435\n",
      "Optimization restart 10/10, f = 51.08178715265193\n"
     ]
    },
    {
     "name": "stderr",
     "output_type": "stream",
     "text": [
      "reconstraining parameters GP_regression.Gaussian_noise.variance\n"
     ]
    },
    {
     "name": "stdout",
     "output_type": "stream",
     "text": [
      "Optimization restart 1/10, f = 44.967817479432526\n",
      "Optimization restart 2/10, f = 44.96781747942155\n",
      "Optimization restart 3/10, f = 51.08178719536822\n",
      "Optimization restart 4/10, f = 51.08178719536822\n",
      "Optimization restart 5/10, f = 51.08178719537096\n",
      "Optimization restart 6/10, f = 101.31278294530253\n",
      "Optimization restart 7/10, f = 44.96781747940231\n",
      "Optimization restart 8/10, f = 51.081787195368214\n"
     ]
    },
    {
     "name": "stderr",
     "output_type": "stream",
     "text": [
      "reconstraining parameters GP_regression.Mat52.lengthscale\n"
     ]
    },
    {
     "name": "stdout",
     "output_type": "stream",
     "text": [
      "Optimization restart 9/10, f = 44.96781747940405\n",
      "Optimization restart 10/10, f = 44.967817479402385\n"
     ]
    },
    {
     "name": "stderr",
     "output_type": "stream",
     "text": [
      "reconstraining parameters GP_regression.Mat52.variance\n",
      "reconstraining parameters GP_regression.Gaussian_noise.variance\n"
     ]
    },
    {
     "name": "stdout",
     "output_type": "stream",
     "text": [
      "Optimization restart 1/10, f = 41.949464452028806\n",
      "Optimization restart 2/10, f = 51.08178719536822\n",
      "Optimization restart 3/10, f = 41.94946445173794\n",
      "Optimization restart 4/10, f = 41.94946445172376\n",
      "Optimization restart 5/10, f = 51.08178719536821\n",
      "Optimization restart 6/10, f = 41.94946445190864\n",
      "Optimization restart 7/10, f = 240.3146213356754\n",
      "Optimization restart 8/10, f = 93.17857507355693\n",
      "Optimization restart 9/10, f = 41.94946445172385\n",
      "Optimization restart 10/10, f = 41.94946445172374\n",
      "(5_w,10)-aCMA-ES (mu_w=3.2,w_1=45%) in dimension 10 (seed=829130, Wed Jul  7 14:29:02 2021)\n",
      "Iterat #Fevals   function value  axis ratio  sigma  min&max std  t[m:s]\n",
      "    1     10 -4.751238148339899e-01 1.0e+00 2.47e-01  2e-01  3e-01 0:00.0\n",
      "    2     20 -4.743094840733334e-01 1.2e+00 2.57e-01  2e-01  3e-01 0:00.1\n",
      "    3     30 -4.765028859685427e-01 1.4e+00 2.66e-01  3e-01  3e-01 0:00.1\n",
      "  100   1000 -5.003137438329207e-01 1.4e+01 1.47e-01  3e-02  2e-01 0:03.1\n",
      "  200   2000 -5.032243805406285e-01 1.5e+02 1.63e-02  2e-03  4e-02 0:06.5\n",
      "  300   3000 -5.032428798311073e-01 1.2e+03 3.34e-03  3e-04  9e-03 0:10.9\n",
      "  400   4000 -5.032604376218234e-01 1.3e+03 1.00e-02  6e-04  1e-02 0:13.3\n",
      "  500   5000 -5.032752700546358e-01 1.6e+03 4.61e-02  2e-03  4e-02 0:15.8\n",
      "  600   6000 -5.032929078510091e-01 1.9e+03 5.73e-02  2e-03  3e-02 0:18.5\n",
      "  700   7000 -5.033157584783730e-01 1.7e+03 1.35e-01  2e-03  5e-02 0:22.1\n",
      "  800   8000 -5.033401947118614e-01 1.6e+03 1.80e-01  2e-03  4e-02 0:25.4\n",
      "  900   9000 -5.033635948859416e-01 2.0e+03 2.39e-01  1e-03  2e-02 0:27.8\n",
      " 1000  10000 -5.033948356348108e-01 1.2e+03 4.13e-01  1e-03  3e-02 0:33.1\n",
      "Iterat #Fevals   function value  axis ratio  sigma  min&max std  t[m:s]\n",
      " 1100  11000 -5.034297239007284e-01 1.3e+03 1.67e+00  2e-03  6e-02 0:38.5\n",
      " 1200  12000 -5.035139491078267e-01 1.2e+03 1.49e+00  2e-03  3e-02 0:42.6\n",
      " 1300  13000 -5.035796158449253e-01 9.4e+02 4.99e+00  3e-03  6e-02 0:46.6\n",
      " 1400  14000 -5.037298112259386e-01 8.4e+02 1.47e+01  5e-03  9e-02 0:49.2\n",
      " 1500  15000 -5.038464574543804e-01 8.7e+02 1.50e+01  4e-03  5e-02 0:52.4\n",
      " 1600  16000 -5.039253638689545e-01 1.2e+03 1.14e+01  2e-03  3e-02 0:55.3\n",
      " 1700  17000 -5.039610577517883e-01 1.5e+03 3.02e+01  2e-03  5e-02 0:59.5\n",
      " 1800  18000 -5.039854681135846e-01 2.6e+03 1.03e+01  6e-04  1e-02 1:04.8\n",
      " 1900  19000 -5.039976823017431e-01 3.1e+03 1.60e+01  5e-04  1e-02 1:09.9\n",
      " 2000  20000 -5.040040067515082e-01 3.6e+03 1.55e+01  3e-04  6e-03 1:15.4\n",
      "Iterat #Fevals   function value  axis ratio  sigma  min&max std  t[m:s]\n",
      " 2100  21000 -5.040051723622159e-01 9.1e+03 1.67e+01  2e-04  6e-03 1:20.1\n",
      " 2200  22000 -5.040056404456388e-01 1.3e+04 2.70e+01  2e-04  6e-03 1:24.8\n",
      " 2300  23000 -5.040059101695460e-01 1.7e+04 3.48e+01  2e-04  4e-03 1:28.7\n",
      " 2400  24000 -5.040061228705986e-01 3.6e+04 1.24e+01  5e-05  1e-03 1:32.8\n",
      " 2500  25000 -5.040061931927080e-01 3.6e+04 3.00e+01  1e-04  1e-03 1:36.1\n",
      " 2600  26000 -5.040062093596266e-01 7.3e+04 9.78e+00  3e-05  4e-04 1:39.0\n",
      " 2700  27000 -5.040062146410105e-01 1.4e+05 9.82e+00  2e-05  3e-04 1:42.8\n",
      " 2800  28000 -5.040062282081224e-01 1.7e+05 6.79e+01  6e-05  1e-03 1:45.1\n",
      " 2900  29000 -5.040062343698264e-01 9.4e+04 1.75e+01  7e-06  2e-04 1:49.2\n",
      " 3000  30000 -5.040062406827119e-01 1.4e+05 5.36e+01  2e-05  3e-04 1:55.3\n",
      "Iterat #Fevals   function value  axis ratio  sigma  min&max std  t[m:s]\n",
      " 3100  31000 -5.040062429624249e-01 2.1e+05 6.73e+01  2e-05  2e-04 1:58.5\n",
      " 3200  32000 -5.040062434395016e-01 4.5e+05 3.34e+01  6e-06  8e-05 2:02.1\n"
     ]
    },
    {
     "name": "stderr",
     "output_type": "stream",
     "text": [
      " /home/finley/miniconda3/envs/testsuite/lib/python3.8/site-packages/cma/utilities/utils.py:329: UserWarning:\n",
      "        geno-pheno transformation introduced based on the\n",
      "        current covariance matrix with condition 1.0e+12 -> 1.0e+00,\n",
      "        injected solutions become \"invalid\" in this iteration (class=CMAEvolutionStrategy method=alleviate_conditioning iteration=3282)\n"
     ]
    },
    {
     "name": "stdout",
     "output_type": "stream",
     "text": [
      " 3300  33000 -5.040062435134006e-01 3.8e+00 1.53e+01  1e+01  3e+01 2:06.7\n",
      " 3400  34000 -5.040062435534886e-01 3.9e+01 2.41e+01  1e+01  6e+01 2:11.0\n",
      " 3465  34650 -5.040062435757904e-01 4.4e+01 2.67e+01  1e+01  5e+01 2:13.7\n",
      "termination on tolfun=1e-11 (Wed Jul  7 14:31:26 2021)\n",
      "final/bestever f-value = -5.040062e-01 -5.040062e-01\n",
      "incumbent solution: [1.32483849e+00 1.26207466e+00 7.85560287e-01 5.79995711e+00\n",
      " 2.36131354e-09 5.31088998e+00 5.15657358e-01 1.25930814e+01 ...]\n",
      "std deviations: [45.72283267 20.65657085 23.63869893 18.13015038 33.88789528 15.86713153\n",
      " 14.57985362 19.01785941 ...]\n"
     ]
    },
    {
     "name": "stderr",
     "output_type": "stream",
     "text": [
      "reconstraining parameters GP_regression.Mat52.lengthscale\n",
      "reconstraining parameters GP_regression.Mat52.variance\n",
      "reconstraining parameters GP_regression.Gaussian_noise.variance\n"
     ]
    },
    {
     "name": "stdout",
     "output_type": "stream",
     "text": [
      "Optimization restart 1/10, f = 42.30248758348392\n",
      "Optimization restart 2/10, f = 42.302487583485004\n",
      "Optimization restart 3/10, f = 42.30248758348647\n",
      "Optimization restart 4/10, f = 1847972.8782472285\n",
      "Optimization restart 5/10, f = 52.500725728574665\n",
      "Optimization restart 6/10, f = 246.990031830524\n",
      "Optimization restart 7/10, f = 42.30248758348485\n",
      "Optimization restart 8/10, f = 42.30248758348388\n",
      "Optimization restart 9/10, f = 42.30248758351498\n"
     ]
    },
    {
     "name": "stderr",
     "output_type": "stream",
     "text": [
      "reconstraining parameters GP_regression.Mat52.lengthscale\n",
      "reconstraining parameters GP_regression.Mat52.variance\n",
      "reconstraining parameters GP_regression.Gaussian_noise.variance\n"
     ]
    },
    {
     "name": "stdout",
     "output_type": "stream",
     "text": [
      "Optimization restart 10/10, f = 42.30248758348866\n",
      "Optimization restart 1/10, f = 48.61477083755112\n",
      "Optimization restart 2/10, f = 48.61477083754973\n",
      "Optimization restart 3/10, f = 48.61477083754826\n",
      "Optimization restart 4/10, f = 52.500725728572895\n",
      "Optimization restart 5/10, f = 52.50072572857289\n",
      "Optimization restart 6/10, f = 48.61477083754826\n",
      "Optimization restart 7/10, f = 52.5007257285731\n",
      "Optimization restart 8/10, f = 52.50072572857289\n",
      "Optimization restart 9/10, f = 48.614770837662434\n"
     ]
    },
    {
     "name": "stderr",
     "output_type": "stream",
     "text": [
      "reconstraining parameters GP_regression.Mat52.lengthscale\n",
      "reconstraining parameters GP_regression.Mat52.variance\n",
      "reconstraining parameters GP_regression.Gaussian_noise.variance\n"
     ]
    },
    {
     "name": "stdout",
     "output_type": "stream",
     "text": [
      "Optimization restart 10/10, f = 48.614770837581375\n",
      "Optimization restart 1/10, f = 46.91512463562671\n",
      "Optimization restart 2/10, f = 102.32880648560683\n",
      "Optimization restart 3/10, f = 46.91512463553556\n",
      "Optimization restart 4/10, f = 46.9151246355338\n",
      "Optimization restart 5/10, f = 558985035.4995408\n",
      "Optimization restart 6/10, f = 52.50072572857289\n",
      "Optimization restart 7/10, f = 52.50072572857307\n"
     ]
    },
    {
     "name": "stderr",
     "output_type": "stream",
     "text": [
      "reconstraining parameters GP_regression.Mat52.lengthscale\n"
     ]
    },
    {
     "name": "stdout",
     "output_type": "stream",
     "text": [
      "Optimization restart 8/10, f = 46.91512463553378\n",
      "Optimization restart 9/10, f = 52.50072572857289\n",
      "Optimization restart 10/10, f = 52.50072572857289\n"
     ]
    },
    {
     "name": "stderr",
     "output_type": "stream",
     "text": [
      "reconstraining parameters GP_regression.Mat52.variance\n",
      "reconstraining parameters GP_regression.Gaussian_noise.variance\n"
     ]
    },
    {
     "name": "stdout",
     "output_type": "stream",
     "text": [
      "Optimization restart 1/10, f = 42.65446055380356\n",
      "Optimization restart 2/10, f = 52.50072572857289\n",
      "Optimization restart 3/10, f = 246.990031830524\n",
      "Optimization restart 4/10, f = 42.654460553808654\n",
      "Optimization restart 5/10, f = 42.65446055380211\n",
      "Optimization restart 6/10, f = 42.65446055505619\n",
      "Optimization restart 7/10, f = 52.50072572857289\n",
      "Optimization restart 8/10, f = 246.990031830524\n",
      "Optimization restart 9/10, f = 42.65446055380207\n",
      "Optimization restart 10/10, f = 52.5007257285729\n",
      "(5_w,10)-aCMA-ES (mu_w=3.2,w_1=45%) in dimension 10 (seed=827452, Wed Jul  7 14:31:34 2021)\n",
      "Iterat #Fevals   function value  axis ratio  sigma  min&max std  t[m:s]\n",
      "    1     10 -4.703751717133160e-01 1.0e+00 2.47e-01  2e-01  3e-01 0:00.0\n",
      "    2     20 -4.710315788269261e-01 1.2e+00 2.60e-01  2e-01  3e-01 0:00.1\n",
      "    3     30 -4.752881380282685e-01 1.4e+00 2.91e-01  3e-01  3e-01 0:00.1\n",
      "   70    700 -4.865058004142009e-01 5.4e+00 3.48e-01  1e-01  4e-01 0:03.1\n",
      "  100   1000 -4.868110593159974e-01 5.3e+00 1.28e-01  3e-02  1e-01 0:04.5\n",
      "  200   2000 -4.883313093286127e-01 2.6e+01 7.63e-02  1e-02  9e-02 0:07.9\n",
      "  300   3000 -4.884747505602269e-01 1.6e+02 1.11e-01  1e-02  2e-01 0:10.1\n",
      "  400   4000 -4.887112303661330e-01 1.9e+02 8.39e-02  5e-03  1e-01 0:13.6\n",
      "  500   5000 -4.887735245162642e-01 1.6e+02 1.48e-01  6e-03  9e-02 0:17.6\n",
      "  600   6000 -4.888111289097949e-01 1.7e+02 7.25e-02  2e-03  3e-02 0:22.0\n",
      "  700   7000 -4.888224637381765e-01 3.1e+02 1.69e-01  3e-03  5e-02 0:25.0\n",
      "  800   8000 -4.888398347184277e-01 3.3e+02 4.00e-01  6e-03  8e-02 0:29.0\n",
      "  900   9000 -4.888693516834867e-01 3.9e+02 5.57e-01  6e-03  6e-02 0:31.8\n",
      " 1000  10000 -4.888776644626069e-01 5.1e+02 6.30e-01  5e-03  4e-02 0:35.8\n",
      "Iterat #Fevals   function value  axis ratio  sigma  min&max std  t[m:s]\n",
      " 1100  11000 -4.888923595317977e-01 4.3e+02 1.34e+00  7e-03  5e-02 0:40.0\n",
      " 1200  12000 -4.889106365482395e-01 3.8e+02 1.70e+00  5e-03  4e-02 0:44.9\n",
      " 1300  13000 -4.889184773378428e-01 3.5e+02 3.10e+00  4e-03  4e-02 0:50.4\n",
      " 1400  14000 -4.889478867100602e-01 4.0e+02 9.08e+00  8e-03  7e-02 0:55.3\n",
      " 1500  15000 -4.890290767318869e-01 2.8e+02 1.14e+01  6e-03  5e-02 1:00.7\n",
      " 1600  16000 -4.890760314479099e-01 4.2e+02 1.76e+01  7e-03  5e-02 1:06.3\n",
      " 1700  17000 -4.924417968848266e-01 9.5e+02 5.67e+02  1e-01  2e+00 1:10.8\n",
      " 1800  18000 -4.951007613948910e-01 3.6e+02 2.76e+01  1e-03  3e-02 1:13.6\n",
      " 1900  19000 -4.955908909665795e-01 2.7e+02 3.36e+02  2e-02  2e-01 1:18.8\n",
      " 2000  20000 -5.035016667605147e-01 1.6e+02 4.93e+02  8e-03  1e-01 1:21.7\n",
      "Iterat #Fevals   function value  axis ratio  sigma  min&max std  t[m:s]\n",
      " 2100  21000 -5.041376282613605e-01 2.1e+02 1.16e+03  1e-02  2e-01 1:25.5\n",
      " 2200  22000 -5.049662255378959e-01 1.9e+02 9.86e+02  9e-03  8e-02 1:29.3\n",
      " 2300  23000 -5.053281361267964e-01 4.8e+02 1.54e+03  1e-02  1e-01 1:33.1\n",
      " 2400  24000 -5.059529854741365e-01 3.9e+02 1.04e+03  5e-03  4e-02 1:37.8\n",
      " 2500  25000 -5.060645658283011e-01 6.0e+02 6.53e+02  2e-03  1e-02 1:42.2\n",
      " 2600  26000 -5.060743637484509e-01 1.8e+03 1.22e+03  2e-03  2e-02 1:47.2\n",
      " 2700  27000 -5.060844457986662e-01 2.8e+03 5.80e+02  6e-04  7e-03 1:52.4\n",
      " 2800  28000 -5.060878875879148e-01 5.8e+03 1.28e+03  1e-03  1e-02 1:56.6\n",
      " 2900  29000 -5.060890392491483e-01 8.1e+03 1.82e+03  8e-04  1e-02 2:00.8\n",
      " 3000  30000 -5.060897089443470e-01 1.8e+04 3.63e+02  1e-04  2e-03 2:06.4\n",
      "Iterat #Fevals   function value  axis ratio  sigma  min&max std  t[m:s]\n",
      " 3100  31000 -5.060899078454680e-01 2.4e+04 1.56e+03  3e-04  4e-03 2:10.6\n",
      " 3200  32000 -5.060900057498977e-01 3.1e+04 4.71e+02  6e-05  7e-04 2:14.8\n",
      " 3300  33000 -5.060900574548204e-01 5.7e+04 6.15e+02  7e-05  6e-04 2:18.9\n",
      " 3400  34000 -5.060900683142180e-01 1.0e+05 2.93e+02  2e-05  2e-04 2:23.1\n",
      " 3500  35000 -5.060900733882041e-01 1.4e+05 7.31e+02  4e-05  4e-04 2:27.2\n",
      " 3600  36000 -5.060900744320074e-01 3.3e+05 1.98e+02  7e-06  8e-05 2:31.3\n",
      " 3700  37000 -5.060900748467827e-01 4.5e+05 8.30e+02  2e-05  2e-04 2:35.5\n",
      " 3800  38000 -5.060900750929123e-01 6.6e+05 1.60e+02  3e-06  2e-05 2:38.8\n"
     ]
    },
    {
     "name": "stderr",
     "output_type": "stream",
     "text": [
      " /home/finley/miniconda3/envs/testsuite/lib/python3.8/site-packages/cma/utilities/utils.py:329: UserWarning:\n",
      "        geno-pheno transformation introduced based on the\n",
      "        current covariance matrix with condition 1.0e+12 -> 1.0e+00,\n",
      "        injected solutions become \"invalid\" in this iteration (class=CMAEvolutionStrategy method=alleviate_conditioning iteration=3854)\n"
     ]
    },
    {
     "name": "stdout",
     "output_type": "stream",
     "text": [
      " 3877  38770 -5.060900751257343e-01 3.3e+00 1.87e+02  2e+02  3e+02 2:41.2\n",
      "termination on tolfacupx=1000.0 (Wed Jul  7 14:34:28 2021)\n",
      "final/bestever f-value = -5.060901e-01 -5.060901e-01\n",
      "incumbent solution: [1.21856513e+00 2.05133703e+00 2.33098400e+00 5.03865864e+00\n",
      " 3.37743317e-01 6.24697499e+00 6.78905768e-11 1.34591458e+01 ...]\n",
      "std deviations: [180.02610627 163.95943404 185.13410501 266.66985691 170.14818607\n",
      " 155.26035951 186.53937508 202.87981304 ...]\n"
     ]
    },
    {
     "name": "stderr",
     "output_type": "stream",
     "text": [
      "reconstraining parameters GP_regression.Mat52.lengthscale\n",
      "reconstraining parameters GP_regression.Mat52.variance\n",
      "reconstraining parameters GP_regression.Gaussian_noise.variance\n"
     ]
    },
    {
     "name": "stdout",
     "output_type": "stream",
     "text": [
      "Optimization restart 1/10, f = 42.96262708050455\n",
      "Optimization restart 2/10, f = 253.66542910784997\n",
      "Optimization restart 3/10, f = 42.962627080180525\n",
      "Optimization restart 4/10, f = 42.962627080180496\n",
      "Optimization restart 5/10, f = 42.96262708018051\n",
      "Optimization restart 6/10, f = 1300044208.7084482\n",
      "Optimization restart 7/10, f = 85.9677425161946\n",
      "Optimization restart 8/10, f = 42.9626270801815\n",
      "Optimization restart 9/10, f = 42.962627080181306\n"
     ]
    },
    {
     "name": "stderr",
     "output_type": "stream",
     "text": [
      "reconstraining parameters GP_regression.Mat52.lengthscale\n",
      "reconstraining parameters GP_regression.Mat52.variance\n",
      "reconstraining parameters GP_regression.Gaussian_noise.variance\n"
     ]
    },
    {
     "name": "stdout",
     "output_type": "stream",
     "text": [
      "Optimization restart 10/10, f = 42.96262708018074\n",
      "Optimization restart 1/10, f = 49.860788419778714\n",
      "Optimization restart 2/10, f = 253.66543809621388\n",
      "Optimization restart 3/10, f = 49.86078841977853\n",
      "Optimization restart 4/10, f = 49.860788419795256\n",
      "Optimization restart 5/10, f = 49.86078841977853\n",
      "Optimization restart 6/10, f = 1897918.0911728297\n",
      "Optimization restart 7/10, f = 53.919664261778934\n",
      "Optimization restart 8/10, f = 53.91966426177757\n",
      "Optimization restart 9/10, f = 107.58659078980065\n"
     ]
    },
    {
     "name": "stderr",
     "output_type": "stream",
     "text": [
      "reconstraining parameters GP_regression.Mat52.lengthscale\n",
      "reconstraining parameters GP_regression.Mat52.variance\n",
      "reconstraining parameters GP_regression.Gaussian_noise.variance\n"
     ]
    },
    {
     "name": "stdout",
     "output_type": "stream",
     "text": [
      "Optimization restart 10/10, f = 53.919664261777704\n",
      "Optimization restart 1/10, f = 48.826287443625695\n",
      "Optimization restart 2/10, f = 48.82628744362571\n",
      "Optimization restart 3/10, f = 48.82628744362593\n",
      "Optimization restart 4/10, f = 48.82628744362569\n",
      "Optimization restart 5/10, f = 53.91966426177757\n",
      "Optimization restart 6/10, f = 102.95753662820924\n",
      "Optimization restart 7/10, f = 253.66543809621388\n",
      "Optimization restart 8/10, f = 253.66543809621388\n",
      "Optimization restart 9/10, f = 253.66543809621388\n"
     ]
    },
    {
     "name": "stderr",
     "output_type": "stream",
     "text": [
      "reconstraining parameters GP_regression.Mat52.lengthscale\n",
      "reconstraining parameters GP_regression.Mat52.variance\n",
      "reconstraining parameters GP_regression.Gaussian_noise.variance\n"
     ]
    },
    {
     "name": "stdout",
     "output_type": "stream",
     "text": [
      "Optimization restart 10/10, f = 253.66543809621388\n",
      "Optimization restart 1/10, f = 43.32308003132256\n",
      "Optimization restart 2/10, f = 43.32308003047597\n",
      "Optimization restart 3/10, f = 43.32308007609541\n",
      "Optimization restart 4/10, f = 53.91966426177756\n",
      "Optimization restart 5/10, f = 253.66543809621388\n",
      "Optimization restart 6/10, f = 43.3230800305588\n",
      "Optimization restart 7/10, f = 53.91966426177794\n",
      "Optimization restart 8/10, f = 43.32308003048355\n",
      "Optimization restart 9/10, f = 53.91966426177756\n",
      "Optimization restart 10/10, f = 1897918.0911728297\n",
      "(5_w,10)-aCMA-ES (mu_w=3.2,w_1=45%) in dimension 10 (seed=783288, Wed Jul  7 14:34:37 2021)\n",
      "Iterat #Fevals   function value  axis ratio  sigma  min&max std  t[m:s]\n",
      "    1     10 -4.768876983863174e-01 1.0e+00 2.39e-01  2e-01  3e-01 0:00.0\n",
      "    2     20 -4.770984689290470e-01 1.2e+00 2.48e-01  2e-01  3e-01 0:00.1\n",
      "    3     30 -4.762720524965107e-01 1.3e+00 2.72e-01  3e-01  3e-01 0:00.1\n",
      "   68    680 -4.862158057336957e-01 4.0e+00 2.48e-01  1e-01  3e-01 0:03.1\n",
      "  100   1000 -4.881077535870804e-01 5.2e+00 3.91e-01  1e-01  4e-01 0:04.7\n",
      "  198   1980 -4.902237593579599e-01 9.2e+00 7.14e-02  1e-02  6e-02 0:09.7\n",
      "  200   2000 -4.902341615286798e-01 1.0e+01 7.42e-02  1e-02  7e-02 0:09.8\n",
      "  300   3000 -4.914064076993647e-01 2.5e+01 5.49e-01  5e-02  4e-01 0:15.0\n",
      "  400   4000 -4.924133621675698e-01 3.5e+01 1.76e-01  1e-02  1e-01 0:19.4\n",
      "  500   5000 -4.924967301150198e-01 8.9e+01 8.40e-02  5e-03  5e-02 0:24.9\n",
      "  600   6000 -4.925395678820079e-01 1.1e+02 2.08e-02  6e-04  5e-03 0:30.6\n",
      "  700   7000 -4.925522940517931e-01 3.7e+02 1.42e-01  3e-03  5e-02 0:34.0\n",
      "  800   8000 -4.925748178158950e-01 2.4e+02 1.87e-01  2e-03  3e-02 0:38.6\n",
      "  900   9000 -4.925792453446189e-01 3.6e+02 2.38e-01  2e-03  3e-02 0:43.3\n",
      " 1000  10000 -4.925815129371410e-01 3.3e+02 1.68e-01  6e-04  8e-03 0:48.7\n",
      "Iterat #Fevals   function value  axis ratio  sigma  min&max std  t[m:s]\n",
      " 1100  11000 -4.925825163062547e-01 3.9e+02 3.28e-01  9e-04  9e-03 0:54.2\n",
      " 1200  12000 -4.925827593780465e-01 1.1e+03 6.96e-02  2e-04  2e-03 0:58.9\n",
      " 1300  13000 -4.925827651802634e-01 7.8e+03 2.39e-02  5e-05  4e-04 1:03.3\n",
      " 1400  14000 -4.925827723407007e-01 5.5e+03 1.96e-02  3e-05  2e-04 1:08.5\n",
      " 1500  15000 -4.925827729999980e-01 2.0e+04 8.18e-03  9e-06  7e-05 1:13.9\n",
      " 1600  16000 -4.925827730384298e-01 4.5e+04 1.24e-02  8e-06  6e-05 1:19.6\n",
      " 1619  16190 -4.925827730433033e-01 6.6e+04 5.83e-03  3e-06  3e-05 1:20.9\n",
      "termination on tolfun=1e-11 (Wed Jul  7 14:36:03 2021)\n",
      "final/bestever f-value = -4.925828e-01 -4.925828e-01\n",
      "incumbent solution: [2.00000000e+00 2.37311823e+00 6.00000000e+00 1.36307129e+00\n",
      " 8.91384578e-10 1.20000000e+01 3.46717823e-07 9.61946405e-10 ...]\n",
      "std deviations: [3.33679904e-06 4.42802351e-06 5.56312047e-06 5.47800202e-06\n",
      " 5.95796115e-06 1.26822624e-05 4.65512488e-06 6.20862227e-06 ...]\n"
     ]
    },
    {
     "name": "stderr",
     "output_type": "stream",
     "text": [
      "reconstraining parameters GP_regression.Mat52.lengthscale\n",
      "reconstraining parameters GP_regression.Mat52.variance\n",
      "reconstraining parameters GP_regression.Gaussian_noise.variance\n"
     ]
    },
    {
     "name": "stdout",
     "output_type": "stream",
     "text": [
      "Optimization restart 1/10, f = 42.2791371322122\n",
      "Optimization restart 2/10, f = 1219934940.2062986\n",
      "Optimization restart 3/10, f = 42.279137132083505\n",
      "Optimization restart 4/10, f = 55.33860279498225\n",
      "Optimization restart 5/10, f = 42.279137131882926\n",
      "Optimization restart 6/10, f = 42.27913713497246\n",
      "Optimization restart 7/10, f = 42.279137131882905\n",
      "Optimization restart 8/10, f = 42.279137131884184\n",
      "Optimization restart 9/10, f = 42.279137131895155\n"
     ]
    },
    {
     "name": "stderr",
     "output_type": "stream",
     "text": [
      "reconstraining parameters GP_regression.Mat52.lengthscale\n",
      "reconstraining parameters GP_regression.Mat52.variance\n",
      "reconstraining parameters GP_regression.Gaussian_noise.variance\n"
     ]
    },
    {
     "name": "stdout",
     "output_type": "stream",
     "text": [
      "Optimization restart 10/10, f = 42.27913713188286\n",
      "Optimization restart 1/10, f = 51.28570069538219\n",
      "Optimization restart 2/10, f = 260.34084436190375\n",
      "Optimization restart 3/10, f = 51.28570069538022\n",
      "Optimization restart 4/10, f = 51.285700696462925\n",
      "Optimization restart 5/10, f = 55.338602794982236\n",
      "Optimization restart 6/10, f = 55.338602794982265\n",
      "Optimization restart 7/10, f = 51.285700695380214\n",
      "Optimization restart 8/10, f = 51.285700695383596\n",
      "Optimization restart 9/10, f = 51.28570069538032\n"
     ]
    },
    {
     "name": "stderr",
     "output_type": "stream",
     "text": [
      "reconstraining parameters GP_regression.Mat52.lengthscale\n",
      "reconstraining parameters GP_regression.Mat52.variance\n",
      "reconstraining parameters GP_regression.Gaussian_noise.variance\n"
     ]
    },
    {
     "name": "stdout",
     "output_type": "stream",
     "text": [
      "Optimization restart 10/10, f = 55.338602794982236\n",
      "Optimization restart 1/10, f = 50.793086984336\n",
      "Optimization restart 2/10, f = 50.79308698433473\n",
      "Optimization restart 3/10, f = 260.34084436190375\n",
      "Optimization restart 4/10, f = 708462848.2254802\n",
      "Optimization restart 5/10, f = 50.793086984334735\n",
      "Optimization restart 6/10, f = 50.793086984335794\n",
      "Optimization restart 7/10, f = 50.793086984334764\n",
      "Optimization restart 8/10, f = 709549587.020466\n"
     ]
    },
    {
     "name": "stderr",
     "output_type": "stream",
     "text": [
      "reconstraining parameters GP_regression.Mat52.lengthscale\n",
      "reconstraining parameters GP_regression.Mat52.variance\n",
      "reconstraining parameters GP_regression.Gaussian_noise.variance\n"
     ]
    },
    {
     "name": "stdout",
     "output_type": "stream",
     "text": [
      "Optimization restart 9/10, f = 50.79308698433514\n",
      "Optimization restart 10/10, f = 55.33860279498225\n",
      "Optimization restart 1/10, f = 44.23823390387363\n",
      "Optimization restart 2/10, f = 44.23823390389808\n",
      "Optimization restart 3/10, f = 44.23823390388606\n",
      "Optimization restart 4/10, f = 44.23823390387167\n",
      "Optimization restart 5/10, f = 1947863.3040984296\n",
      "Optimization restart 6/10, f = 44.2382339038716\n",
      "Optimization restart 7/10, f = 44.23823390387149\n",
      "Optimization restart 8/10, f = 44.238233903871475\n",
      "Optimization restart 9/10, f = 44.23823390407123\n",
      "Optimization restart 10/10, f = 55.338602794982236\n",
      "(5_w,10)-aCMA-ES (mu_w=3.2,w_1=45%) in dimension 10 (seed=831987, Wed Jul  7 14:36:13 2021)\n",
      "Iterat #Fevals   function value  axis ratio  sigma  min&max std  t[m:s]\n",
      "    1     10 -4.733099521611216e-01 1.0e+00 2.25e-01  2e-01  2e-01 0:00.0\n",
      "    2     20 -4.741628970766035e-01 1.2e+00 2.37e-01  2e-01  3e-01 0:00.1\n",
      "    3     30 -4.763062467650340e-01 1.3e+00 2.50e-01  2e-01  3e-01 0:00.1\n",
      "   87    870 -4.999322745641754e-01 5.9e+00 6.76e-01  3e-01  1e+00 0:03.1\n",
      "  100   1000 -5.192054231507262e-01 8.8e+00 7.98e-01  3e-01  2e+00 0:03.8\n",
      "  180   1800 -5.261149186045040e-01 3.1e+01 1.80e-01  3e-02  3e-01 0:08.8\n",
      "  200   2000 -5.273817205625875e-01 3.9e+01 1.59e-01  2e-02  3e-01 0:09.8\n",
      "  300   3000 -5.281838812169746e-01 2.7e+02 2.01e-02  2e-03  3e-02 0:13.4\n",
      "  400   4000 -5.282505084803226e-01 4.8e+02 1.10e-02  7e-04  7e-03 0:15.5\n",
      "  500   5000 -5.282596198047103e-01 8.4e+02 1.25e-02  6e-04  6e-03 0:17.5\n",
      "  600   6000 -5.282632036197812e-01 1.8e+03 1.22e-02  4e-04  5e-03 0:19.5\n",
      "  700   7000 -5.282658529091460e-01 3.0e+03 1.61e-02  4e-04  4e-03 0:21.5\n",
      "  800   8000 -5.282671041879641e-01 3.6e+03 1.81e-02  3e-04  3e-03 0:23.6\n",
      "  900   9000 -5.282678232570133e-01 5.2e+03 1.59e-02  2e-04  2e-03 0:25.6\n",
      " 1000  10000 -5.282681887977358e-01 5.5e+03 2.65e-02  1e-04  2e-03 0:27.6\n",
      "Iterat #Fevals   function value  axis ratio  sigma  min&max std  t[m:s]\n",
      " 1100  11000 -5.282684643126737e-01 1.5e+04 4.74e-02  2e-04  3e-03 0:29.6\n",
      " 1200  12000 -5.282687335881779e-01 1.1e+04 7.07e-02  1e-04  2e-03 0:31.7\n",
      " 1300  13000 -5.282688991492019e-01 1.3e+04 8.72e-02  1e-04  2e-03 0:33.7\n",
      " 1400  14000 -5.282689780867560e-01 1.8e+04 1.53e-01  1e-04  2e-03 0:35.7\n",
      " 1500  15000 -5.282690489098018e-01 1.7e+04 1.22e-01  7e-05  8e-04 0:39.2\n",
      " 1600  16000 -5.282690849521217e-01 2.4e+04 8.01e-02  2e-05  3e-04 0:43.8\n",
      " 1700  17000 -5.282691083733984e-01 3.1e+04 2.55e-01  5e-05  6e-04 0:47.4\n",
      " 1800  18000 -5.282691272746300e-01 3.9e+04 4.42e-01  6e-05  7e-04 0:51.1\n",
      " 1900  19000 -5.282691404680515e-01 5.5e+04 4.34e-01  3e-05  5e-04 0:54.6\n",
      " 2000  20000 -5.282691480090592e-01 4.9e+04 3.18e-01  1e-05  2e-04 0:57.4\n",
      "Iterat #Fevals   function value  axis ratio  sigma  min&max std  t[m:s]\n",
      " 2100  21000 -5.282691522261054e-01 7.1e+04 6.63e-01  2e-05  2e-04 0:59.8\n",
      " 2200  22000 -5.282691546502127e-01 1.1e+05 6.03e-01  1e-05  2e-04 1:03.0\n",
      " 2300  23000 -5.282691563615107e-01 1.1e+05 6.19e-01  6e-06  8e-05 1:05.3\n",
      " 2400  24000 -5.282691578784657e-01 1.3e+05 1.53e+00  8e-06  1e-04 1:08.3\n",
      " 2500  25000 -5.282691588357492e-01 2.0e+05 1.29e+00  6e-06  8e-05 1:11.9\n",
      " 2600  26000 -5.282691593615869e-01 2.3e+05 3.42e+00  1e-05  1e-04 1:16.1\n",
      " 2700  27000 -5.282691598184364e-01 3.3e+05 3.63e+00  6e-06  8e-05 1:20.3\n",
      " 2800  28000 -5.282691601843122e-01 3.7e+05 4.19e+00  4e-06  6e-05 1:24.2\n",
      " 2900  29000 -5.282691603865544e-01 4.8e+05 5.39e+00  3e-06  5e-05 1:27.9\n",
      " 3000  30000 -5.282691605122491e-01 5.4e+05 3.70e+00  1e-06  2e-05 1:32.9\n",
      "Iterat #Fevals   function value  axis ratio  sigma  min&max std  t[m:s]\n",
      " 3100  31000 -5.282691605801350e-01 6.8e+05 1.13e+01  3e-06  4e-05 1:39.8\n",
      " 3200  32000 -5.282691606456842e-01 8.4e+05 1.05e+01  2e-06  2e-05 1:47.3\n",
      " 3300  33000 -5.282691606836616e-01 8.6e+05 1.39e+01  1e-06  2e-05 1:53.8\n"
     ]
    },
    {
     "name": "stderr",
     "output_type": "stream",
     "text": [
      " /home/finley/miniconda3/envs/testsuite/lib/python3.8/site-packages/cma/utilities/utils.py:329: UserWarning:\n",
      "        geno-pheno transformation introduced based on the\n",
      "        current covariance matrix with condition 1.0e+12 -> 1.0e+00,\n",
      "        injected solutions become \"invalid\" in this iteration (class=CMAEvolutionStrategy method=alleviate_conditioning iteration=3319)\n"
     ]
    },
    {
     "name": "stdout",
     "output_type": "stream",
     "text": [
      " 3400  34000 -5.282691607142407e-01 1.9e+01 2.22e+01  1e+01  5e+01 2:02.5\n",
      " 3402  34020 -5.282691607142557e-01 2.0e+01 2.06e+01  1e+01  4e+01 2:02.7\n",
      "termination on tolfun=1e-11 (Wed Jul  7 14:38:25 2021)\n",
      "final/bestever f-value = -5.282692e-01 -5.282692e-01\n",
      "incumbent solution: [ 0.90372341  2.15749278  2.70626056  5.21665744  1.38581327  4.47284419\n",
      "  0.0810377  14.53731929 ...]\n",
      "std deviations: [43.23756011 32.49816649 14.8462513  17.9275346  14.85412717 15.02336895\n",
      " 14.62940757 15.27713344 ...]\n"
     ]
    },
    {
     "name": "stderr",
     "output_type": "stream",
     "text": [
      "reconstraining parameters GP_regression.Mat52.lengthscale\n",
      "reconstraining parameters GP_regression.Mat52.variance\n",
      "reconstraining parameters GP_regression.Gaussian_noise.variance\n"
     ]
    },
    {
     "name": "stdout",
     "output_type": "stream",
     "text": [
      "Optimization restart 1/10, f = 42.3454752154272\n",
      "Optimization restart 2/10, f = 56.75754132823291\n",
      "Optimization restart 3/10, f = 42.34547521542883\n",
      "Optimization restart 4/10, f = 42.34547521542309\n",
      "Optimization restart 5/10, f = 42.34547521542301\n",
      "Optimization restart 6/10, f = 42.34547521565104\n",
      "Optimization restart 7/10, f = 42.34547521542309\n",
      "Optimization restart 8/10, f = 42.345475215422994\n"
     ]
    },
    {
     "name": "stderr",
     "output_type": "stream",
     "text": [
      "reconstraining parameters GP_regression.Mat52.lengthscale\n",
      "reconstraining parameters GP_regression.Mat52.variance\n",
      "reconstraining parameters GP_regression.Gaussian_noise.variance\n"
     ]
    },
    {
     "name": "stdout",
     "output_type": "stream",
     "text": [
      "Optimization restart 9/10, f = 42.34547521542301\n",
      "Optimization restart 10/10, f = 267.0162506264681\n",
      "Optimization restart 1/10, f = 52.198993942633784\n",
      "Optimization restart 2/10, f = 52.198993942632185\n",
      "Optimization restart 3/10, f = 267.0162506275935\n",
      "Optimization restart 4/10, f = 267.0162506275935\n",
      "Optimization restart 5/10, f = 56.75754132818687\n",
      "Optimization restart 6/10, f = 110.89505110715157\n",
      "Optimization restart 7/10, f = 267.0162506275935\n",
      "Optimization restart 8/10, f = 56.75754132818733\n",
      "Optimization restart 9/10, f = 52.198993942951105\n"
     ]
    },
    {
     "name": "stderr",
     "output_type": "stream",
     "text": [
      "reconstraining parameters GP_regression.Mat52.lengthscale\n",
      "reconstraining parameters GP_regression.Mat52.variance\n",
      "reconstraining parameters GP_regression.Gaussian_noise.variance\n"
     ]
    },
    {
     "name": "stdout",
     "output_type": "stream",
     "text": [
      "Optimization restart 10/10, f = 52.198993942632264\n",
      "Optimization restart 1/10, f = 51.383605995281954\n",
      "Optimization restart 2/10, f = 755656219.3622665\n",
      "Optimization restart 3/10, f = 51.38360599527801\n",
      "Optimization restart 4/10, f = 56.75754132818691\n",
      "Optimization restart 5/10, f = 1997808.5170240311\n",
      "Optimization restart 6/10, f = 51.383605995254925\n",
      "Optimization restart 7/10, f = 110.11435324442425\n",
      "Optimization restart 8/10, f = 51.38360599525406\n",
      "Optimization restart 9/10, f = 56.7575413281869\n"
     ]
    },
    {
     "name": "stderr",
     "output_type": "stream",
     "text": [
      "reconstraining parameters GP_regression.Mat52.lengthscale\n",
      "reconstraining parameters GP_regression.Mat52.variance\n",
      "reconstraining parameters GP_regression.Gaussian_noise.variance\n"
     ]
    },
    {
     "name": "stdout",
     "output_type": "stream",
     "text": [
      "Optimization restart 10/10, f = 51.383605995281705\n",
      "Optimization restart 1/10, f = 44.13026131093933\n",
      "Optimization restart 2/10, f = 56.7575413281869\n",
      "Optimization restart 3/10, f = 56.757541328186946\n",
      "Optimization restart 4/10, f = 56.757541328187\n",
      "Optimization restart 5/10, f = 862925295.257858\n",
      "Optimization restart 6/10, f = 56.757541328186896\n",
      "Optimization restart 7/10, f = 56.7575413281869\n",
      "Optimization restart 8/10, f = 44.13026131095427\n",
      "Optimization restart 9/10, f = 44.13026131102842\n",
      "Optimization restart 10/10, f = 267.0162506275935\n",
      "(5_w,10)-aCMA-ES (mu_w=3.2,w_1=45%) in dimension 10 (seed=795267, Wed Jul  7 14:38:35 2021)\n",
      "Iterat #Fevals   function value  axis ratio  sigma  min&max std  t[m:s]\n",
      "    1     10 -4.706628818437740e-01 1.0e+00 2.51e-01  2e-01  3e-01 0:00.0\n",
      "    2     20 -4.742148491123324e-01 1.2e+00 2.83e-01  3e-01  3e-01 0:00.1\n",
      "    3     30 -4.761286300690300e-01 1.3e+00 3.20e-01  3e-01  3e-01 0:00.1\n",
      "   60    600 -4.804971380989141e-01 7.5e+00 8.09e-01  3e-01  2e+00 0:03.1\n",
      "  100   1000 -4.972899264228618e-01 8.2e+00 5.24e-01  2e-01  8e-01 0:05.0\n",
      "  200   2000 -5.111608697867627e-01 1.9e+01 3.51e-01  3e-02  4e-01 0:07.3\n",
      "  300   3000 -5.142638271966778e-01 1.2e+02 5.44e-02  4e-03  9e-02 0:09.5\n",
      "  400   4000 -5.146852259030497e-01 1.2e+02 4.45e-02  2e-03  4e-02 0:13.4\n",
      "  500   5000 -5.147272046733393e-01 6.5e+02 1.11e-02  6e-04  9e-03 0:18.1\n",
      "  600   6000 -5.147343060123259e-01 1.1e+03 6.80e-03  2e-04  4e-03 0:25.0\n",
      "  700   7000 -5.147373908533116e-01 2.1e+03 1.14e-02  2e-04  4e-03 0:31.6\n",
      "  800   8000 -5.147388738935393e-01 3.3e+03 3.11e-02  4e-04  7e-03 0:36.8\n",
      "  900   9000 -5.147396258114947e-01 5.0e+03 2.74e-02  3e-04  5e-03 0:41.5\n",
      " 1000  10000 -5.147403580304454e-01 5.1e+03 9.84e-03  4e-05  9e-04 0:46.4\n",
      "Iterat #Fevals   function value  axis ratio  sigma  min&max std  t[m:s]\n",
      " 1100  11000 -5.147405309639339e-01 1.1e+04 1.95e-02  7e-05  1e-03 0:50.2\n",
      " 1200  12000 -5.147407504035064e-01 1.5e+04 1.82e-02  5e-05  9e-04 0:54.3\n",
      " 1300  13000 -5.147407953001716e-01 2.7e+04 7.92e-02  1e-04  2e-03 0:59.0\n",
      " 1400  14000 -5.147408563638507e-01 2.9e+04 1.55e-02  1e-05  3e-04 1:03.2\n",
      " 1500  15000 -5.147408823583228e-01 3.3e+04 2.23e-02  2e-05  3e-04 1:07.3\n",
      " 1600  16000 -5.147408887515403e-01 5.9e+04 4.15e-02  3e-05  4e-04 1:11.4\n",
      " 1700  17000 -5.147409034505380e-01 6.0e+04 3.57e-02  1e-05  2e-04 1:15.6\n",
      " 1800  18000 -5.147409084769611e-01 7.2e+04 1.00e-01  2e-05  4e-04 1:19.7\n",
      " 1900  19000 -5.147409151272430e-01 4.9e+04 6.82e-02  9e-06  1e-04 1:24.2\n",
      " 2000  20000 -5.147409173629783e-01 1.1e+05 1.51e-01  1e-05  3e-04 1:28.5\n",
      "Iterat #Fevals   function value  axis ratio  sigma  min&max std  t[m:s]\n",
      " 2100  21000 -5.147409203248348e-01 7.9e+04 2.36e-01  1e-05  2e-04 1:32.9\n",
      " 2200  22000 -5.147409236749246e-01 9.1e+04 2.08e-01  5e-06  1e-04 1:37.6\n",
      " 2300  23000 -5.147409292943325e-01 8.5e+04 9.07e-01  1e-05  2e-04 1:40.5\n",
      " 2400  24000 -5.147409344157664e-01 8.1e+04 1.00e+00  8e-06  1e-04 1:44.5\n",
      " 2500  25000 -5.147409389088671e-01 8.4e+04 2.12e+00  1e-05  2e-04 1:48.6\n",
      " 2600  26000 -5.147409428536555e-01 7.8e+04 6.26e+00  2e-05  4e-04 1:52.7\n",
      " 2700  27000 -5.147409469993993e-01 8.4e+04 4.56e+00  1e-05  2e-04 1:56.8\n",
      " 2800  28000 -5.147409527232242e-01 5.6e+04 2.15e+01  2e-05  4e-04 2:00.9\n",
      " 2900  29000 -5.147409614659710e-01 5.3e+04 2.90e+01  2e-05  3e-04 2:04.1\n",
      " 3000  30000 -5.147409753555450e-01 3.9e+04 6.92e+01  2e-05  4e-04 2:08.1\n",
      "Iterat #Fevals   function value  axis ratio  sigma  min&max std  t[m:s]\n",
      " 3100  31000 -5.147409822545014e-01 5.5e+04 7.38e+01  2e-05  3e-04 2:11.5\n",
      " 3200  32000 -5.147409927658231e-01 5.3e+04 1.79e+02  2e-05  4e-04 2:15.4\n",
      " 3300  33000 -5.147410012834178e-01 5.0e+04 2.89e+02  2e-05  4e-04 2:17.8\n",
      " 3400  34000 -5.147410072634420e-01 4.6e+04 3.55e+02  2e-05  2e-04 2:19.9\n",
      " 3500  35000 -5.147410200526857e-01 6.3e+04 3.61e+02  1e-05  2e-04 2:22.1\n",
      " 3600  36000 -5.147410248592943e-01 6.1e+04 1.23e+03  3e-05  3e-04 2:24.4\n",
      " 3700  37000 -5.147410293890956e-01 6.0e+04 2.01e+03  2e-05  3e-04 2:27.7\n",
      " 3800  38000 -5.147410355207331e-01 7.4e+04 3.02e+03  1e-05  3e-04 2:32.2\n",
      " 3900  39000 -5.147410433524122e-01 5.4e+04 5.89e+03  2e-05  3e-04 2:36.6\n",
      " 4000  40000 -5.147410528399566e-01 3.8e+04 1.26e+04  2e-05  3e-04 2:40.6\n",
      "Iterat #Fevals   function value  axis ratio  sigma  min&max std  t[m:s]\n",
      " 4100  41000 -5.147410624189275e-01 4.7e+04 5.18e+04  5e-05  9e-04 2:44.7\n",
      " 4200  42000 -5.147410700319963e-01 4.6e+04 3.22e+04  2e-05  3e-04 2:48.0\n",
      " 4300  43000 -5.147410801912271e-01 4.1e+04 7.60e+04  2e-05  4e-04 2:50.3\n",
      " 4400  44000 -5.147410892646026e-01 4.2e+04 1.02e+05  3e-05  3e-04 2:52.6\n",
      " 4500  45000 -5.147411006577217e-01 3.7e+04 1.09e+05  1e-05  2e-04 2:54.9\n",
      " 4600  46000 -5.147411068908461e-01 4.5e+04 5.82e+04  5e-06  8e-05 2:57.5\n",
      " 4700  47000 -5.147411115789532e-01 6.2e+04 3.62e+05  2e-05  4e-04 3:00.7\n",
      " 4800  48000 -5.147411188137146e-01 5.0e+04 2.07e+05  6e-06  1e-04 3:03.3\n",
      " 4900  49000 -5.147411245560136e-01 3.8e+04 8.38e+05  1e-05  2e-04 3:07.4\n",
      " 5000  50000 -5.147411358106613e-01 4.4e+04 5.15e+05  5e-06  9e-05 3:11.5\n",
      "Iterat #Fevals   function value  axis ratio  sigma  min&max std  t[m:s]\n",
      " 5100  51000 -5.147411414105474e-01 6.4e+04 3.77e+06  2e-05  4e-04 3:15.6\n",
      " 5200  52000 -5.147411487630671e-01 4.4e+04 4.39e+06  2e-05  2e-04 3:17.9\n",
      " 5300  53000 -5.147411581130235e-01 3.2e+04 1.07e+07  3e-05  3e-04 3:20.2\n",
      " 5400  54000 -5.147411668314585e-01 5.2e+04 1.49e+07  2e-05  3e-04 3:22.5\n",
      " 5500  55000 -5.147411754906417e-01 6.1e+04 3.95e+07  3e-05  6e-04 3:24.8\n",
      " 5600  56000 -5.147411861026799e-01 5.7e+04 3.80e+07  1e-05  3e-04 3:27.1\n",
      " 5686  56860 -5.147411918561704e-01 5.5e+04 1.49e+08  4e-05  8e-04 3:29.9\n",
      "termination on tolupsigma=1e+20 (Wed Jul  7 14:42:21 2021)\n",
      "final/bestever f-value = -5.147412e-01 -5.147412e-01\n",
      "incumbent solution: [9.64507446e-01 2.39939952e+00 2.41134176e+00 5.64660978e+00\n",
      " 1.23285164e-02 5.12203397e+00 8.82006560e-08 1.59999980e+01 ...]\n",
      "std deviations: [7.05760689e-05 3.82441411e-05 1.40136017e-04 1.50989458e-04\n",
      " 7.25595013e-05 4.86086036e-04 2.04448516e-04 2.12335536e-04 ...]\n"
     ]
    },
    {
     "name": "stderr",
     "output_type": "stream",
     "text": [
      "reconstraining parameters GP_regression.Mat52.lengthscale\n",
      "reconstraining parameters GP_regression.Mat52.variance\n",
      "reconstraining parameters GP_regression.Gaussian_noise.variance\n"
     ]
    },
    {
     "name": "stdout",
     "output_type": "stream",
     "text": [
      "Optimization restart 1/10, f = 42.96390350669144\n",
      "Optimization restart 2/10, f = 86.4788397731471\n",
      "Optimization restart 3/10, f = 58.17647986139157\n",
      "Optimization restart 4/10, f = 42.963903506691985\n",
      "Optimization restart 5/10, f = 1283429546.6281319\n",
      "Optimization restart 6/10, f = 42.9639035066918\n",
      "Optimization restart 7/10, f = 58.17647986139229\n",
      "Optimization restart 8/10, f = 58.17647986139157\n"
     ]
    },
    {
     "name": "stderr",
     "output_type": "stream",
     "text": [
      "reconstraining parameters GP_regression.Mat52.lengthscale\n",
      "reconstraining parameters GP_regression.Mat52.variance\n",
      "reconstraining parameters GP_regression.Gaussian_noise.variance\n"
     ]
    },
    {
     "name": "stdout",
     "output_type": "stream",
     "text": [
      "Optimization restart 9/10, f = 42.96390350669104\n",
      "Optimization restart 10/10, f = 42.96390350669108\n",
      "Optimization restart 1/10, f = 54.085147003028496\n",
      "Optimization restart 2/10, f = 54.08514700300584\n",
      "Optimization restart 3/10, f = 58.176479861391584\n",
      "Optimization restart 4/10, f = 273.6916568932833\n",
      "Optimization restart 5/10, f = 54.08514700308284\n",
      "Optimization restart 6/10, f = 273.6916568932833\n",
      "Optimization restart 7/10, f = 54.08514700300633\n",
      "Optimization restart 8/10, f = 58.17647986139394\n",
      "Optimization restart 9/10, f = 54.085147003006455\n"
     ]
    },
    {
     "name": "stderr",
     "output_type": "stream",
     "text": [
      "reconstraining parameters GP_regression.Mat52.lengthscale\n",
      "reconstraining parameters GP_regression.Mat52.variance\n",
      "reconstraining parameters GP_regression.Gaussian_noise.variance\n"
     ]
    },
    {
     "name": "stdout",
     "output_type": "stream",
     "text": [
      "Optimization restart 10/10, f = 54.085147003007194\n",
      "Optimization restart 1/10, f = 52.032187409409346\n",
      "Optimization restart 2/10, f = 58.176479861391584\n",
      "Optimization restart 3/10, f = 58.17647986139312\n",
      "Optimization restart 4/10, f = 58.17647986139163\n",
      "Optimization restart 5/10, f = 52.03218740939687\n",
      "Optimization restart 6/10, f = 273.6916568932833\n",
      "Optimization restart 7/10, f = 58.176479861391584\n",
      "Optimization restart 8/10, f = 111.06146548976916\n",
      "Optimization restart 9/10, f = 52.032187409396855\n"
     ]
    },
    {
     "name": "stderr",
     "output_type": "stream",
     "text": [
      "reconstraining parameters GP_regression.Mat52.lengthscale\n",
      "reconstraining parameters GP_regression.Mat52.variance\n",
      "reconstraining parameters GP_regression.Gaussian_noise.variance\n"
     ]
    },
    {
     "name": "stdout",
     "output_type": "stream",
     "text": [
      "Optimization restart 10/10, f = 52.032187409497865\n",
      "Optimization restart 1/10, f = 44.610576577575706\n",
      "Optimization restart 2/10, f = 58.17647986139168\n",
      "Optimization restart 3/10, f = 58.176479861391584\n",
      "Optimization restart 4/10, f = 58.176479861391705\n",
      "Optimization restart 5/10, f = 44.61057657755099\n",
      "Optimization restart 6/10, f = 44.610576577551015\n",
      "Optimization restart 7/10, f = 44.61057657755184\n",
      "Optimization restart 8/10, f = 44.61057657755099\n",
      "Optimization restart 9/10, f = 58.176479861391584\n",
      "Optimization restart 10/10, f = 58.1764798613916\n",
      "(5_w,10)-aCMA-ES (mu_w=3.2,w_1=45%) in dimension 10 (seed=730972, Wed Jul  7 14:42:27 2021)\n",
      "Iterat #Fevals   function value  axis ratio  sigma  min&max std  t[m:s]\n",
      "    1     10 -4.790359668589063e-01 1.0e+00 2.59e-01  3e-01  3e-01 0:00.0\n",
      "    2     20 -4.793409086898639e-01 1.3e+00 2.84e-01  3e-01  3e-01 0:00.0\n",
      "    3     30 -4.794425557947797e-01 1.5e+00 2.97e-01  3e-01  3e-01 0:00.1\n",
      "  100   1000 -4.834278329059299e-01 1.7e+01 4.86e-01  2e-01  1e+00 0:02.2\n",
      "  200   2000 -4.981781619702398e-01 1.6e+01 1.82e-01  2e-02  2e-01 0:04.4\n",
      "  300   3000 -5.058869685978628e-01 3.5e+01 2.66e-01  2e-02  2e-01 0:06.5\n",
      "  400   4000 -5.080204674895731e-01 8.4e+01 7.08e-02  3e-03  4e-02 0:08.7\n",
      "  500   5000 -5.084153755846317e-01 1.8e+02 1.34e-01  6e-03  7e-02 0:10.9\n",
      "  600   6000 -5.085329688649635e-01 4.0e+02 2.30e-01  6e-03  9e-02 0:13.0\n",
      "  700   7000 -5.085821191164688e-01 9.7e+02 1.60e-02  3e-04  7e-03 0:15.3\n",
      "  800   8000 -5.085872753422926e-01 1.7e+03 2.02e-02  3e-04  4e-03 0:18.1\n",
      "  900   9000 -5.085894105128892e-01 3.1e+03 8.82e-02  8e-04  1e-02 0:21.8\n",
      " 1000  10000 -5.085938019941152e-01 4.0e+03 6.73e-02  3e-04  6e-03 0:25.9\n",
      "Iterat #Fevals   function value  axis ratio  sigma  min&max std  t[m:s]\n",
      " 1100  11000 -5.085948649408776e-01 6.7e+03 4.46e-02  2e-04  3e-03 0:28.8\n",
      " 1200  12000 -5.085953190517972e-01 6.9e+03 6.91e-02  1e-04  3e-03 0:33.1\n",
      " 1300  13000 -5.085958447051357e-01 9.2e+03 2.15e-01  2e-04  6e-03 0:37.4\n",
      " 1400  14000 -5.085961262849076e-01 1.2e+04 1.86e-01  1e-04  3e-03 0:41.6\n",
      " 1500  15000 -5.085963282773645e-01 1.7e+04 3.81e-01  2e-04  4e-03 0:45.9\n",
      " 1600  16000 -5.085965549335381e-01 1.6e+04 5.74e-01  2e-04  3e-03 0:49.5\n",
      " 1700  17000 -5.085967685188790e-01 2.0e+04 8.27e-01  2e-04  3e-03 0:51.7\n",
      " 1800  18000 -5.085968558639047e-01 2.0e+04 3.09e-01  4e-05  6e-04 0:53.8\n",
      " 1900  19000 -5.085968759182982e-01 3.5e+04 2.70e-01  3e-05  4e-04 0:55.9\n",
      " 2000  20000 -5.085968856195919e-01 4.9e+04 6.77e-01  4e-05  6e-04 0:58.3\n",
      "Iterat #Fevals   function value  axis ratio  sigma  min&max std  t[m:s]\n",
      " 2100  21000 -5.085969677244979e-01 3.7e+04 3.61e+00  1e-04  2e-03 1:00.5\n",
      " 2200  22000 -5.085970159710018e-01 4.3e+04 2.91e+00  5e-05  1e-03 1:02.7\n",
      " 2300  23000 -5.085970521085301e-01 4.2e+04 7.69e+00  9e-05  2e-03 1:04.9\n",
      " 2400  24000 -5.085970648003776e-01 6.4e+04 4.51e+00  4e-05  6e-04 1:07.1\n",
      " 2500  25000 -5.085970706171563e-01 7.3e+04 3.02e+00  2e-05  2e-04 1:09.3\n",
      " 2600  26000 -5.085970918320475e-01 8.1e+04 1.68e+01  4e-05  6e-04 1:11.4\n",
      " 2700  27000 -5.085971053615621e-01 6.6e+04 1.42e+01  2e-05  3e-04 1:13.6\n",
      " 2800  28000 -5.085971103895772e-01 1.0e+05 1.23e+01  1e-05  2e-04 1:15.7\n",
      " 2900  29000 -5.085971110346967e-01 2.2e+05 1.39e+01  1e-05  2e-04 1:17.9\n",
      " 3000  30000 -5.085971122504918e-01 1.8e+05 3.71e+01  2e-05  2e-04 1:20.0\n",
      "Iterat #Fevals   function value  axis ratio  sigma  min&max std  t[m:s]\n",
      " 3100  31000 -5.085971178548412e-01 1.9e+05 7.93e+01  2e-05  3e-04 1:22.2\n",
      " 3200  32000 -5.085971219175029e-01 1.4e+05 1.10e+02  2e-05  2e-04 1:26.1\n",
      " 3300  33000 -5.085971241680227e-01 1.5e+05 1.91e+02  2e-05  3e-04 1:30.5\n",
      " 3400  34000 -5.085971249896347e-01 1.8e+05 1.41e+02  7e-06  1e-04 1:34.4\n",
      " 3500  35000 -5.085971260824107e-01 2.6e+05 7.72e+02  2e-05  4e-04 1:38.5\n",
      " 3600  36000 -5.085971279593853e-01 1.8e+05 3.68e+02  6e-06  8e-05 1:42.7\n"
     ]
    }
   ],
   "source": [
    "opt.optimise(50)"
   ]
  },
  {
   "cell_type": "code",
   "execution_count": 21,
   "metadata": {},
   "outputs": [
    {
     "data": {
      "text/plain": [
       "<matplotlib.legend.Legend at 0x7fcccb206fd0>"
      ]
     },
     "execution_count": 21,
     "metadata": {},
     "output_type": "execute_result"
    }
   ],
   "source": [
    "%matplotlib qt\n",
    "fig11 = plt.figure(figsize=[8, 8])\n",
    "fig11_ax = fig11.gca(projection=\"3d\")\n",
    "\n",
    "\n",
    "fig11_ax.scatter(*np.vstack(opt.target_history[0]).T, c=\"magenta\", label=\"intitial targets\", alpha=0.2, s=150)\n",
    "fig11_ax.scatter(*np.vstack(opt.target_history[1:]).T, c=\"cyan\", label=\"intitial targets\", alpha=0.1, s=150)\n",
    "fig11_ax.scatter(*y[np.argsort(y[:,0])].T, c=\"lightgrey\", label=\"Pareto front\")\n",
    "fig11_ax.plot(*np.vstack((np.zeros_like(dmv), dmv*np.max([np.linalg.norm(yi) for yi in y]))).T, c=\"C1\", linestyle=\"--\")\n",
    "\n",
    "fig11_ax.scatter(*opt.targets.T, c=\"C2\", label=\"current targets\", alpha=0.8, s=150)\n",
    "fig11_ax.scatter(*opt.d.T, c=\"C0\")\n",
    "fig11_ax.scatter(*opt.p.T, c=\"C3\")\n",
    "# fig11_ax.scatter(*opt.y[:10].T, c=\"C0\")\n",
    "# fig11_ax.scatter(*opt.y[10:].T, c=\"C3\")\n",
    "\n",
    "\n",
    "fig11_ax.legend()"
   ]
  },
  {
   "cell_type": "code",
   "execution_count": 18,
   "metadata": {},
   "outputs": [
    {
     "data": {
      "text/plain": [
       "[<matplotlib.lines.Line2D at 0x7fcccb45f6a0>]"
      ]
     },
     "execution_count": 18,
     "metadata": {},
     "output_type": "execute_result"
    }
   ],
   "source": [
    "plt.figure()\n",
    "plt.plot(opt.dm_times)"
   ]
  },
  {
   "cell_type": "code",
   "execution_count": 19,
   "metadata": {},
   "outputs": [
    {
     "data": {
      "text/plain": [
       "33"
      ]
     },
     "execution_count": 19,
     "metadata": {},
     "output_type": "execute_result"
    }
   ],
   "source": [
    "opt.p.shape[0]"
   ]
  },
  {
   "cell_type": "code",
   "execution_count": null,
   "metadata": {},
   "outputs": [],
   "source": []
  }
 ],
 "metadata": {
  "kernelspec": {
   "display_name": "testsuite",
   "language": "python",
   "name": "testsuite"
  },
  "language_info": {
   "codemirror_mode": {
    "name": "ipython",
    "version": 3
   },
   "file_extension": ".py",
   "mimetype": "text/x-python",
   "name": "python",
   "nbconvert_exporter": "python",
   "pygments_lexer": "ipython3",
   "version": "3.8.3"
  }
 },
 "nbformat": 4,
 "nbformat_minor": 4
}
