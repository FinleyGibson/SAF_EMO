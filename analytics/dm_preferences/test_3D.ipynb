{
 "cells": [
  {
   "cell_type": "code",
   "execution_count": 1,
   "metadata": {},
   "outputs": [],
   "source": [
    "import rootpath\n",
    "import sys\n",
    "sys.path.append(rootpath.detect())\n",
    "\n",
    "import numpy as np\n",
    "import matplotlib.pyplot as plt\n",
    "from testsuite.utilities import Pareto_split\n",
    "from testsuite.directed_optimisers import DmVector\n",
    "from testsuite.surrogates import GP, MultiSurrogate\n",
    "import wfg"
   ]
  },
  {
   "cell_type": "code",
   "execution_count": 2,
   "metadata": {},
   "outputs": [],
   "source": [
    "%matplotlib qt"
   ]
  },
  {
   "cell_type": "code",
   "execution_count": 3,
   "metadata": {},
   "outputs": [],
   "source": [
    "# setup function\n",
    "n_obj = 3  # Number of objectives\n",
    "kfactor = 2\n",
    "lfactor = 2\n",
    "k = kfactor * (n_obj - 1)  # position related params\n",
    "l = lfactor * 2  # distance related params\n",
    "n_dim = k + l\n",
    "limits = np.zeros((2, n_dim))\n",
    "limits[1] = np.array(range(1, n_dim + 1)) * 2\n",
    "\n",
    "func = wfg.WFG5\n",
    "gp_surr_multi = MultiSurrogate(GP, scaled=True)\n",
    "\n",
    "\n",
    "def test_function(x):\n",
    "    if x.ndim < 2:\n",
    "        x = x.reshape(1, -1)\n",
    "    return np.array([func(xi, k, n_obj) for xi in x])\n"
   ]
  },
  {
   "cell_type": "code",
   "execution_count": 4,
   "metadata": {},
   "outputs": [],
   "source": [
    "M = n_obj\n",
    "N = 500\n",
    "y = np.zeros((N, n_obj))\n",
    "x = np.zeros((N, n_dim))\n",
    "for n in range(N):\n",
    "    z = wfg.random_soln(k, l, func.__name__)\n",
    "    y[n, :] = func(z, k, M)\n",
    "    x[n, :] = z"
   ]
  },
  {
   "cell_type": "code",
   "execution_count": 5,
   "metadata": {},
   "outputs": [],
   "source": [
    "dmv = np.array([[1.5, 1., 1.]])\n",
    "dmv = dmv/np.linalg.norm(dmv)\n",
    "opt = DmVector(objective_function=test_function, ei=False, w=0.5,\n",
    "               limits=limits, surrogate=gp_surr_multi, n_initial=10, budget=20,\n",
    "               seed=10, cmaes_restarts=0, dmv=dmv)"
   ]
  },
  {
   "cell_type": "code",
   "execution_count": 6,
   "metadata": {},
   "outputs": [
    {
     "data": {
      "text/plain": [
       "<matplotlib.legend.Legend at 0x7fccf6286250>"
      ]
     },
     "execution_count": 6,
     "metadata": {},
     "output_type": "execute_result"
    }
   ],
   "source": [
    "fig01 = plt.figure(figsize=[8, 8])\n",
    "fig01_ax = fig01.gca(projection=\"3d\")\n",
    "\n",
    "\n",
    "fig01_ax.scatter(*opt.targets.T, c=\"magenta\", label=\"intitial targets\", alpha=0.4, s=150)\n",
    "fig01_ax.scatter(*y[np.argsort(y[:,0])].T, c=\"lightgrey\", label=\"Pareto front\")\n",
    "fig01_ax.scatter(*opt.y.T, c=\"C0\", label=\"intitial samples\")\n",
    "fig01_ax.plot(*np.vstack((np.zeros_like(opt.dmv), opt.dmv*np.max([np.linalg.norm(yi) for yi in y]))).T, c=\"C1\", linestyle=\"--\")\n",
    "\n",
    "fig01_ax.legend()\n"
   ]
  },
  {
   "cell_type": "code",
   "execution_count": 22,
   "metadata": {},
   "outputs": [
    {
     "name": "stderr",
     "output_type": "stream",
     "text": [
      "reconstraining parameters GP_regression.Mat52.lengthscale\n",
      "reconstraining parameters GP_regression.Mat52.variance\n",
      "reconstraining parameters GP_regression.Gaussian_noise.variance\n"
     ]
    },
    {
     "name": "stdout",
     "output_type": "stream",
     "text": [
      "Optimization restart 1/10, f = 53.01342419334644\n",
      "Optimization restart 2/10, f = 120.60977532239788\n",
      "Optimization restart 3/10, f = 53.013424193357345\n",
      "Optimization restart 4/10, f = 53.013424193313504\n",
      "Optimization restart 5/10, f = 567.4095325836358\n",
      "Optimization restart 6/10, f = 567.4095325836358\n",
      "Optimization restart 7/10, f = 2605384446.546568\n",
      "Optimization restart 8/10, f = 53.01342419331718\n",
      "Optimization restart 9/10, f = 120.60977527917206\n",
      "Optimization restart 10/10, f = 53.01342419329878\n"
     ]
    },
    {
     "name": "stderr",
     "output_type": "stream",
     "text": [
      "reconstraining parameters GP_regression.Mat52.lengthscale\n",
      "reconstraining parameters GP_regression.Mat52.variance\n",
      "reconstraining parameters GP_regression.Gaussian_noise.variance\n"
     ]
    },
    {
     "name": "stdout",
     "output_type": "stream",
     "text": [
      "Optimization restart 1/10, f = 94.67344644019147\n",
      "Optimization restart 2/10, f = 120.60977532239784\n",
      "Optimization restart 3/10, f = 94.67344644003518\n",
      "Optimization restart 4/10, f = 120.60977532239724\n",
      "Optimization restart 5/10, f = 567.4095325836358\n",
      "Optimization restart 6/10, f = 120.6097753223972\n",
      "Optimization restart 7/10, f = 3094349099.9065027\n",
      "Optimization restart 8/10, f = 94.67344644003526\n",
      "Optimization restart 9/10, f = 120.60977532239738\n"
     ]
    },
    {
     "name": "stderr",
     "output_type": "stream",
     "text": [
      "reconstraining parameters GP_regression.Mat52.lengthscale\n",
      "reconstraining parameters GP_regression.Mat52.variance\n",
      "reconstraining parameters GP_regression.Gaussian_noise.variance\n"
     ]
    },
    {
     "name": "stdout",
     "output_type": "stream",
     "text": [
      "Optimization restart 10/10, f = 120.60977532239727\n",
      "Optimization restart 1/10, f = 69.96390367846999\n",
      "Optimization restart 2/10, f = 185.8283398287925\n",
      "Optimization restart 3/10, f = 567.4095325836358\n",
      "Optimization restart 4/10, f = 1810141758.2992973\n",
      "Optimization restart 5/10, f = 69.96390367822465\n",
      "Optimization restart 6/10, f = 120.60977532239718\n",
      "Optimization restart 7/10, f = 120.60977532239718\n",
      "Optimization restart 8/10, f = 1807749038.3564181\n",
      "Optimization restart 9/10, f = 69.96390367827091\n",
      "Optimization restart 10/10, f = 120.60977532239764\n",
      "(5_w,10)-aCMA-ES (mu_w=3.2,w_1=45%) in dimension 8 (seed=816680, Wed Jul  7 12:55:19 2021)\n",
      "Iterat #Fevals   function value  axis ratio  sigma  min&max std  t[m:s]\n",
      "    1     10 -4.565025117820654e-01 1.0e+00 2.41e-01  2e-01  2e-01 0:00.0\n",
      "    2     20 -4.554372114818162e-01 1.3e+00 2.54e-01  2e-01  3e-01 0:00.1\n",
      "    3     30 -4.581947883293934e-01 1.4e+00 2.63e-01  3e-01  3e-01 0:00.1\n",
      "  100   1000 -5.034746258811266e-01 1.4e+01 1.20e-01  2e-02  1e-01 0:02.0\n",
      "  200   2000 -5.043448550308643e-01 1.5e+02 1.27e-02  1e-03  1e-02 0:04.1\n",
      "  300   3000 -5.043471275285009e-01 4.3e+03 4.98e-04  3e-05  5e-04 0:06.1\n",
      "  400   4000 -5.043471319027881e-01 6.4e+04 1.02e-04  5e-06  7e-05 0:08.0\n",
      "  474   4740 -5.043471319782933e-01 4.1e+05 1.17e-05  5e-07  5e-06 0:09.5\n"
     ]
    },
    {
     "name": "stderr",
     "output_type": "stream",
     "text": [
      "reconstraining parameters GP_regression.Mat52.lengthscale\n",
      "reconstraining parameters GP_regression.Mat52.variance\n",
      "reconstraining parameters GP_regression.Gaussian_noise.variance\n"
     ]
    },
    {
     "name": "stdout",
     "output_type": "stream",
     "text": [
      "termination on tolfun=1e-11 (Wed Jul  7 12:55:30 2021)\n",
      "final/bestever f-value = -5.043471e-01 -5.043471e-01\n",
      "incumbent solution: [0.6167993579377431, 2.2774730884854897, 1.4934149336953388, 1.7227760247326498, 5.1835730811751926e-11, 9.439401561115668, 13.999999999916678, 14.58115563963244]\n",
      "std deviation: [5.023900902509954e-07, 5.17088238021401e-07, 1.7392985241612284e-06, 1.7680606529675738e-06, 1.417983909650906e-06, 3.140136812528379e-06, 5.069756942332523e-06, 5.437720888893543e-06]\n",
      "Optimization restart 1/10, f = 51.23098782904371\n",
      "Optimization restart 2/10, f = 122.02871253039092\n",
      "Optimization restart 3/10, f = 574.0849388493258\n",
      "Optimization restart 4/10, f = 51.23098782902815\n",
      "Optimization restart 5/10, f = 4295288.311601667\n",
      "Optimization restart 6/10, f = 51.23098782906092\n",
      "Optimization restart 7/10, f = 51.23098782902217\n",
      "Optimization restart 8/10, f = 51.23098782904439\n",
      "Optimization restart 9/10, f = 51.23098782904391\n"
     ]
    },
    {
     "name": "stderr",
     "output_type": "stream",
     "text": [
      "reconstraining parameters GP_regression.Mat52.lengthscale\n",
      "reconstraining parameters GP_regression.Mat52.variance\n",
      "reconstraining parameters GP_regression.Gaussian_noise.variance\n"
     ]
    },
    {
     "name": "stdout",
     "output_type": "stream",
     "text": [
      "Optimization restart 10/10, f = 51.230987829138655\n",
      "Optimization restart 1/10, f = 94.49034648319648\n",
      "Optimization restart 2/10, f = 3125603653.0373383\n",
      "Optimization restart 3/10, f = 94.49034648317239\n",
      "Optimization restart 4/10, f = 122.02871385560186\n",
      "Optimization restart 5/10, f = 4295288.311601666\n",
      "Optimization restart 6/10, f = 94.49034648328202\n",
      "Optimization restart 7/10, f = 122.02871385560186\n",
      "Optimization restart 8/10, f = 122.02871385560185\n"
     ]
    },
    {
     "name": "stderr",
     "output_type": "stream",
     "text": [
      "reconstraining parameters GP_regression.Mat52.lengthscale\n"
     ]
    },
    {
     "name": "stdout",
     "output_type": "stream",
     "text": [
      "Optimization restart 9/10, f = 94.4903464831932\n",
      "Optimization restart 10/10, f = 4295288.311601666\n"
     ]
    },
    {
     "name": "stderr",
     "output_type": "stream",
     "text": [
      "reconstraining parameters GP_regression.Mat52.variance\n",
      "reconstraining parameters GP_regression.Gaussian_noise.variance\n"
     ]
    },
    {
     "name": "stdout",
     "output_type": "stream",
     "text": [
      "Optimization restart 1/10, f = 72.69668163181076\n",
      "Optimization restart 2/10, f = 122.02871385539757\n",
      "Optimization restart 3/10, f = 189.58066252182746\n",
      "Optimization restart 4/10, f = 72.69668163190448\n",
      "Optimization restart 5/10, f = 72.69668163193072\n",
      "Optimization restart 6/10, f = 122.02871385560239\n",
      "Optimization restart 7/10, f = 189.5806646395391\n",
      "Optimization restart 8/10, f = 574.0849388493258\n",
      "Optimization restart 9/10, f = 72.69668163169746\n",
      "Optimization restart 10/10, f = 122.02871385560184\n",
      "(5_w,10)-aCMA-ES (mu_w=3.2,w_1=45%) in dimension 8 (seed=765322, Wed Jul  7 12:55:37 2021)\n",
      "Iterat #Fevals   function value  axis ratio  sigma  min&max std  t[m:s]\n",
      "    1     10 -4.371125511772886e-01 1.0e+00 2.24e-01  2e-01  2e-01 0:00.0\n",
      "    2     20 -4.396328368452281e-01 1.2e+00 2.27e-01  2e-01  2e-01 0:00.0\n",
      "    3     30 -4.399970385620521e-01 1.3e+00 2.45e-01  2e-01  3e-01 0:00.1\n",
      "  100   1000 -4.686959134454700e-01 8.9e+00 1.08e-01  2e-02  1e-01 0:02.1\n",
      "  200   2000 -4.696724620869260e-01 1.1e+01 2.19e-04  9e-06  9e-05 0:04.1\n",
      "  233   2330 -4.696724620964077e-01 1.2e+01 9.57e-06  3e-07  3e-06 0:04.7\n",
      "termination on tolfun=1e-11 (Wed Jul  7 12:55:42 2021)\n",
      "final/bestever f-value = -4.696725e-01 -4.696725e-01\n",
      "incumbent solution: [1.6563761652991123e-13, 5.186794560098652e-13, 7.520123846550776e-14, 7.033382801836933e-14, 5.776085221750784e-14, 1.2005201536166898e-12, 13.999999999997948, 4.565690016799779e-13]\n",
      "std deviation: [2.582702885030621e-07, 2.8760090597532457e-07, 4.380531692226752e-07, 5.040299901708064e-07, 4.840410288125876e-07, 4.39514039464967e-07, 2.730375256178779e-06, 5.630690216552029e-07]\n"
     ]
    },
    {
     "name": "stderr",
     "output_type": "stream",
     "text": [
      "reconstraining parameters GP_regression.Mat52.lengthscale\n",
      "reconstraining parameters GP_regression.Mat52.variance\n",
      "reconstraining parameters GP_regression.Gaussian_noise.variance\n"
     ]
    },
    {
     "name": "stdout",
     "output_type": "stream",
     "text": [
      "Optimization restart 1/10, f = 51.91465572836307\n",
      "Optimization restart 2/10, f = 51.914655728282206\n",
      "Optimization restart 3/10, f = 580.7603451150156\n",
      "Optimization restart 4/10, f = 51.91465572829625\n",
      "Optimization restart 5/10, f = 51.914655728299714\n",
      "Optimization restart 6/10, f = 123.44765238880655\n",
      "Optimization restart 7/10, f = 51.914655728285254\n",
      "Optimization restart 8/10, f = 51.914655728297156\n",
      "Optimization restart 9/10, f = 51.91465572831046\n"
     ]
    },
    {
     "name": "stderr",
     "output_type": "stream",
     "text": [
      "reconstraining parameters GP_regression.Mat52.lengthscale\n",
      "reconstraining parameters GP_regression.Mat52.variance\n",
      "reconstraining parameters GP_regression.Gaussian_noise.variance\n"
     ]
    },
    {
     "name": "stdout",
     "output_type": "stream",
     "text": [
      "Optimization restart 10/10, f = 51.91465572827907\n",
      "Optimization restart 1/10, f = 95.73392316340382\n",
      "Optimization restart 2/10, f = 123.44765238880689\n",
      "Optimization restart 3/10, f = 123.44765238880652\n",
      "Optimization restart 4/10, f = 123.44765239590191\n",
      "Optimization restart 5/10, f = 123.44765238880652\n",
      "Optimization restart 6/10, f = 580.7603451150156\n",
      "Optimization restart 7/10, f = 3216680824.955638\n",
      "Optimization restart 8/10, f = 222.72303720531292\n",
      "Optimization restart 9/10, f = 95.7339231633241\n"
     ]
    },
    {
     "name": "stderr",
     "output_type": "stream",
     "text": [
      "reconstraining parameters GP_regression.Mat52.lengthscale\n",
      "reconstraining parameters GP_regression.Mat52.variance\n",
      "reconstraining parameters GP_regression.Gaussian_noise.variance\n"
     ]
    },
    {
     "name": "stdout",
     "output_type": "stream",
     "text": [
      "Optimization restart 10/10, f = 123.44765238880653\n",
      "Optimization restart 1/10, f = 73.675854592176\n",
      "Optimization restart 2/10, f = 123.44765238880727\n",
      "Optimization restart 3/10, f = 73.6758545921924\n",
      "Optimization restart 4/10, f = 73.67585459217275\n",
      "Optimization restart 5/10, f = 1865220006.0249732\n",
      "Optimization restart 6/10, f = 580.7603451150156\n",
      "Optimization restart 7/10, f = 580.7603451150156\n",
      "Optimization restart 8/10, f = 73.67585459217207\n",
      "Optimization restart 9/10, f = 73.67585459217223\n",
      "Optimization restart 10/10, f = 123.44765238880655\n",
      "(5_w,10)-aCMA-ES (mu_w=3.2,w_1=45%) in dimension 8 (seed=785603, Wed Jul  7 12:55:49 2021)\n",
      "Iterat #Fevals   function value  axis ratio  sigma  min&max std  t[m:s]\n",
      "    1     10 -4.487088666538211e-01 1.0e+00 2.34e-01  2e-01  2e-01 0:00.0\n",
      "    2     20 -4.475288896720737e-01 1.2e+00 2.22e-01  2e-01  2e-01 0:00.1\n",
      "    3     30 -4.523231721033774e-01 1.3e+00 2.38e-01  2e-01  3e-01 0:00.1\n",
      "  100   1000 -4.966145515077198e-01 2.2e+01 9.41e-02  2e-02  1e-01 0:02.0\n",
      "  200   2000 -4.975707156685176e-01 2.4e+02 7.76e-03  1e-03  8e-03 0:04.1\n",
      "  300   3000 -4.975753434793340e-01 1.6e+03 2.09e-03  2e-04  2e-03 0:06.2\n",
      "  400   4000 -4.975753862577192e-01 1.1e+04 3.81e-04  3e-05  1e-04 0:08.2\n",
      "  500   5000 -4.975753874629877e-01 1.0e+05 1.14e-04  5e-06  4e-05 0:10.2\n",
      "  552   5520 -4.975753874848628e-01 2.2e+05 3.63e-05  1e-06  8e-06 0:11.2\n",
      "termination on tolfun=1e-11 (Wed Jul  7 12:56:01 2021)\n",
      "final/bestever f-value = -4.975754e-01 -4.975754e-01\n",
      "incumbent solution: [0.6404903470399027, 1.0243395054447046, 5.749205714618135, 3.597258432343039, 9.757050569359266e-11, 7.926987585894919, 9.087292426060211e-12, 15.999999999851497]\n",
      "std deviation: [1.010515925884972e-06, 2.0211045554172697e-06, 2.145262846135203e-06, 4.847010007833844e-06, 1.2885372098472045e-06, 7.709006755695574e-06, 2.979711318472164e-06, 7.990961123272815e-06]\n"
     ]
    },
    {
     "name": "stderr",
     "output_type": "stream",
     "text": [
      "reconstraining parameters GP_regression.Mat52.lengthscale\n",
      "reconstraining parameters GP_regression.Mat52.variance\n",
      "reconstraining parameters GP_regression.Gaussian_noise.variance\n"
     ]
    },
    {
     "name": "stdout",
     "output_type": "stream",
     "text": [
      "Optimization restart 1/10, f = 52.975117319888724\n",
      "Optimization restart 2/10, f = 52.97511731955589\n",
      "Optimization restart 3/10, f = 124.86658560391889\n",
      "Optimization restart 4/10, f = 587.4357513807056\n",
      "Optimization restart 5/10, f = 135.34402673151885\n",
      "Optimization restart 6/10, f = 52.97511731956402\n",
      "Optimization restart 7/10, f = 52.975117319562585\n",
      "Optimization restart 8/10, f = 52.97511731954783\n",
      "Optimization restart 9/10, f = 52.97511731955813\n"
     ]
    },
    {
     "name": "stderr",
     "output_type": "stream",
     "text": [
      "reconstraining parameters GP_regression.Mat52.lengthscale\n",
      "reconstraining parameters GP_regression.Mat52.variance\n",
      "reconstraining parameters GP_regression.Gaussian_noise.variance\n"
     ]
    },
    {
     "name": "stdout",
     "output_type": "stream",
     "text": [
      "Optimization restart 10/10, f = 52.97511731967293\n",
      "Optimization restart 1/10, f = 96.93503797772546\n",
      "Optimization restart 2/10, f = 224.25060022944473\n",
      "Optimization restart 3/10, f = 3258979137.8656254\n",
      "Optimization restart 4/10, f = 96.93503797772482\n",
      "Optimization restart 5/10, f = 124.86659092201118\n",
      "Optimization restart 6/10, f = 96.93503797772459\n",
      "Optimization restart 7/10, f = 96.93503797772755\n",
      "Optimization restart 8/10, f = 96.9350379777319\n"
     ]
    },
    {
     "name": "stderr",
     "output_type": "stream",
     "text": [
      "reconstraining parameters GP_regression.Mat52.lengthscale\n"
     ]
    },
    {
     "name": "stdout",
     "output_type": "stream",
     "text": [
      "Optimization restart 9/10, f = 96.93503797772415\n",
      "Optimization restart 10/10, f = 96.93503797801061\n"
     ]
    },
    {
     "name": "stderr",
     "output_type": "stream",
     "text": [
      "reconstraining parameters GP_regression.Mat52.variance\n",
      "reconstraining parameters GP_regression.Gaussian_noise.variance\n"
     ]
    },
    {
     "name": "stdout",
     "output_type": "stream",
     "text": [
      "Optimization restart 1/10, f = 74.54518555854065\n",
      "Optimization restart 2/10, f = 124.86659092201138\n",
      "Optimization restart 3/10, f = 587.4357513807056\n",
      "Optimization restart 4/10, f = 74.54518555852269\n",
      "Optimization restart 5/10, f = 124.86658880973388\n",
      "Optimization restart 6/10, f = 74.54518555852285\n",
      "Optimization restart 7/10, f = 124.8665909220112\n",
      "Optimization restart 8/10, f = 124.8665909220112\n",
      "Optimization restart 9/10, f = 124.8665909220112\n",
      "Optimization restart 10/10, f = 74.54518555872482\n",
      "(5_w,10)-aCMA-ES (mu_w=3.2,w_1=45%) in dimension 8 (seed=734913, Wed Jul  7 12:56:11 2021)\n",
      "Iterat #Fevals   function value  axis ratio  sigma  min&max std  t[m:s]\n",
      "    1     10 -4.281422102540519e-01 1.0e+00 2.51e-01  2e-01  3e-01 0:00.0\n",
      "    2     20 -4.302010390171963e-01 1.3e+00 2.70e-01  3e-01  3e-01 0:00.0\n",
      "    3     30 -4.322199883379213e-01 1.4e+00 3.21e-01  3e-01  3e-01 0:00.1\n",
      "  100   1000 -5.058110115386762e-01 6.9e+00 1.40e-01  3e-02  1e-01 0:02.5\n",
      "  200   2000 -5.078624506021809e-01 9.3e+01 6.48e-02  2e-03  7e-02 0:05.1\n",
      "  300   3000 -5.078939908017184e-01 9.6e+02 5.54e-03  1e-05  4e-03 0:07.5\n",
      "  400   4000 -5.078951371716161e-01 4.7e+03 3.92e-03  7e-06  2e-03 0:09.6\n",
      "  500   5000 -5.078951890296550e-01 1.7e+04 1.58e-03  2e-06  3e-04 0:12.1\n",
      "  600   6000 -5.078951937279474e-01 8.4e+04 8.86e-04  6e-07  1e-04 0:15.6\n",
      "  700   7000 -5.078951940616854e-01 2.0e+05 5.53e-04  2e-07  3e-05 0:19.7\n",
      "  790   7900 -5.078951941165855e-01 5.0e+05 5.17e-04  7e-08  2e-05 0:22.0\n",
      "termination on tolfun=1e-11 (Wed Jul  7 12:56:34 2021)\n",
      "final/bestever f-value = -5.078952e-01 -5.078952e-01\n",
      "incumbent solution: [0.9477365536078258, 0.04400417461693526, 0.9800082953417893, 1.2199565227676727, 6.51533623890332e-11, 11.999999999604382, 13.99999999999204, 15.999999999944015]\n",
      "std deviation: [1.4903746947040574e-06, 7.478202494320256e-08, 5.104939003528334e-06, 7.82050041271419e-06, 3.7340599976855885e-06, 2.1833784722433124e-05, 1.5446615285696197e-05, 1.6317603702129225e-05]\n"
     ]
    },
    {
     "name": "stderr",
     "output_type": "stream",
     "text": [
      "reconstraining parameters GP_regression.Mat52.lengthscale\n",
      "reconstraining parameters GP_regression.Mat52.variance\n",
      "reconstraining parameters GP_regression.Gaussian_noise.variance\n"
     ]
    },
    {
     "name": "stdout",
     "output_type": "stream",
     "text": [
      "Optimization restart 1/10, f = 53.89430062306544\n",
      "Optimization restart 2/10, f = 126.28552945521588\n",
      "Optimization restart 3/10, f = 126.28552945521588\n",
      "Optimization restart 4/10, f = 126.28552945521588\n",
      "Optimization restart 5/10, f = 53.89430062292182\n",
      "Optimization restart 6/10, f = 53.894300622950425\n",
      "Optimization restart 7/10, f = 53.89430062317925\n",
      "Optimization restart 8/10, f = 594.1111576463011\n",
      "Optimization restart 9/10, f = 126.28552945521588\n"
     ]
    },
    {
     "name": "stderr",
     "output_type": "stream",
     "text": [
      "reconstraining parameters GP_regression.Mat52.lengthscale\n",
      "reconstraining parameters GP_regression.Mat52.variance\n",
      "reconstraining parameters GP_regression.Gaussian_noise.variance\n"
     ]
    },
    {
     "name": "stdout",
     "output_type": "stream",
     "text": [
      "Optimization restart 10/10, f = 126.28552945521653\n",
      "Optimization restart 1/10, f = 98.33838050538972\n",
      "Optimization restart 2/10, f = 126.28552945521585\n",
      "Optimization restart 3/10, f = 3306827713.8117275\n",
      "Optimization restart 4/10, f = 594.1111576463953\n",
      "Optimization restart 5/10, f = 4445123.95037847\n",
      "Optimization restart 6/10, f = 594.1111576463953\n",
      "Optimization restart 7/10, f = 98.33838050537744\n",
      "Optimization restart 8/10, f = 594.1111576463953\n",
      "Optimization restart 9/10, f = 98.33838050537757\n"
     ]
    },
    {
     "name": "stderr",
     "output_type": "stream",
     "text": [
      "reconstraining parameters GP_regression.Mat52.lengthscale\n",
      "reconstraining parameters GP_regression.Mat52.variance\n",
      "reconstraining parameters GP_regression.Gaussian_noise.variance\n"
     ]
    },
    {
     "name": "stdout",
     "output_type": "stream",
     "text": [
      "Optimization restart 10/10, f = 126.28552945521588\n",
      "Optimization restart 1/10, f = 76.64519500447516\n",
      "Optimization restart 2/10, f = 76.64519500295862\n",
      "Optimization restart 3/10, f = 4445123.950378468\n",
      "Optimization restart 4/10, f = 126.28552945521587\n",
      "Optimization restart 5/10, f = 76.64519500295597\n",
      "Optimization restart 6/10, f = 126.28552945521585\n",
      "Optimization restart 7/10, f = 76.64519500295674\n",
      "Optimization restart 8/10, f = 76.64519500296726\n",
      "Optimization restart 9/10, f = 126.28552945521585\n",
      "Optimization restart 10/10, f = 76.64519500296363\n",
      "(5_w,10)-aCMA-ES (mu_w=3.2,w_1=45%) in dimension 8 (seed=668165, Wed Jul  7 12:56:43 2021)\n",
      "Iterat #Fevals   function value  axis ratio  sigma  min&max std  t[m:s]\n",
      "    1     10 -4.530211438408065e-01 1.0e+00 2.38e-01  2e-01  2e-01 0:00.0\n",
      "    2     20 -4.562900651950339e-01 1.2e+00 2.41e-01  2e-01  3e-01 0:00.0\n",
      "    3     30 -4.602264578327995e-01 1.3e+00 2.35e-01  2e-01  2e-01 0:00.1\n",
      "  100   1000 -4.933668118856142e-01 2.3e+01 5.91e-02  1e-02  7e-02 0:02.3\n",
      "  200   2000 -4.938268202111470e-01 2.7e+02 1.63e-02  1e-03  2e-02 0:04.5\n",
      "  300   3000 -4.938296586758720e-01 2.2e+03 2.02e-03  2e-04  1e-03 0:06.9\n",
      "  400   4000 -4.938296790319614e-01 2.8e+04 1.43e-04  5e-06  8e-05 0:09.4\n",
      "  495   4950 -4.938296791981376e-01 2.7e+05 2.68e-05  8e-07  1e-05 0:12.7\n",
      "termination on tolfun=1e-11 (Wed Jul  7 12:56:56 2021)\n",
      "final/bestever f-value = -4.938297e-01 -4.938297e-01\n",
      "incumbent solution: [0.16391409702491655, 0.20983499750855636, 5.999999999832491, 3.3973538984689275, 1.8168570082115956e-10, 6.52428301072233, 9.072901559965686e-10, 15.999999999999817]\n",
      "std deviation: [7.872448867700487e-07, 1.9096515762973736e-06, 2.6383745066844514e-06, 6.858848598109756e-06, 2.141762763478965e-06, 2.0960782746896694e-06, 1.6376746516485804e-06, 1.0372830569475816e-05]\n"
     ]
    },
    {
     "name": "stderr",
     "output_type": "stream",
     "text": [
      "reconstraining parameters GP_regression.Mat52.lengthscale\n",
      "reconstraining parameters GP_regression.Mat52.variance\n",
      "reconstraining parameters GP_regression.Gaussian_noise.variance\n"
     ]
    },
    {
     "name": "stdout",
     "output_type": "stream",
     "text": [
      "Optimization restart 1/10, f = 55.24897093165221\n",
      "Optimization restart 2/10, f = 2795780532.365784\n",
      "Optimization restart 3/10, f = 127.70446798842055\n",
      "Optimization restart 4/10, f = 600.7865639120852\n",
      "Optimization restart 5/10, f = 55.24897093160546\n",
      "Optimization restart 6/10, f = 55.24897093162683\n",
      "Optimization restart 7/10, f = 127.70446795544012\n",
      "Optimization restart 8/10, f = 127.70446798842056\n"
     ]
    },
    {
     "name": "stderr",
     "output_type": "stream",
     "text": [
      "reconstraining parameters GP_regression.Mat52.lengthscale\n",
      "reconstraining parameters GP_regression.Mat52.variance\n",
      "reconstraining parameters GP_regression.Gaussian_noise.variance\n"
     ]
    },
    {
     "name": "stdout",
     "output_type": "stream",
     "text": [
      "Optimization restart 9/10, f = 127.70446798882118\n",
      "Optimization restart 10/10, f = 600.7865639120852\n",
      "Optimization restart 1/10, f = 100.4118659417473\n",
      "Optimization restart 2/10, f = 127.70446798842055\n",
      "Optimization restart 3/10, f = 3362514197.5906734\n",
      "Optimization restart 4/10, f = 3357095883.9977183\n",
      "Optimization restart 5/10, f = 100.4118659417421\n",
      "Optimization restart 6/10, f = 100.41186594174293\n",
      "Optimization restart 7/10, f = 127.70446799568279\n",
      "Optimization restart 8/10, f = 600.7865639120852\n",
      "Optimization restart 9/10, f = 4495069.163304069\n"
     ]
    },
    {
     "name": "stderr",
     "output_type": "stream",
     "text": [
      "reconstraining parameters GP_regression.Mat52.lengthscale\n",
      "reconstraining parameters GP_regression.Mat52.variance\n",
      "reconstraining parameters GP_regression.Gaussian_noise.variance\n"
     ]
    },
    {
     "name": "stdout",
     "output_type": "stream",
     "text": [
      "Optimization restart 10/10, f = 127.70446798842053\n",
      "Optimization restart 1/10, f = 79.89253044155377\n",
      "Optimization restart 2/10, f = 127.70446798844554\n",
      "Optimization restart 3/10, f = 196.55666785154654\n",
      "Optimization restart 4/10, f = 127.70446798842056\n",
      "Optimization restart 5/10, f = 127.70446798842057\n",
      "Optimization restart 6/10, f = 600.7865639120852\n",
      "Optimization restart 7/10, f = 79.89253044154933\n",
      "Optimization restart 8/10, f = 127.70446798137742\n",
      "Optimization restart 9/10, f = 127.70446798842055\n",
      "Optimization restart 10/10, f = 4495069.163304071\n",
      "(5_w,10)-aCMA-ES (mu_w=3.2,w_1=45%) in dimension 8 (seed=721466, Wed Jul  7 12:57:03 2021)\n",
      "Iterat #Fevals   function value  axis ratio  sigma  min&max std  t[m:s]\n",
      "    1     10 -4.276779286627399e-01 1.0e+00 2.41e-01  2e-01  3e-01 0:00.0\n",
      "    2     20 -4.264805311863518e-01 1.2e+00 2.62e-01  2e-01  3e-01 0:00.1\n",
      "    3     30 -4.288113710252583e-01 1.4e+00 2.62e-01  2e-01  3e-01 0:00.1\n",
      "  100   1000 -4.500838234217016e-01 5.8e+00 9.56e-03  2e-03  1e-02 0:02.9\n",
      "  199   1990 -4.500842330729983e-01 8.5e+00 6.06e-06  3e-07  2e-06 0:05.0\n",
      "termination on tolfun=1e-11 (Wed Jul  7 12:57:08 2021)\n",
      "final/bestever f-value = -4.500842e-01 -4.500842e-01\n",
      "incumbent solution: [9.525633664802417e-13, 7.44487963818556e-13, 1.3214897375194748e-14, 3.334685160007333e-15, 9.999999999999703, 4.624178208154338e-13, 13.999999999999911, 2.572950256777841e-12]\n",
      "std deviation: [2.858165570933931e-07, 3.635943043378386e-07, 3.184220077514849e-07, 2.7930747063764827e-07, 7.946922421528114e-07, 4.6200339277098956e-07, 2.121698277138788e-06, 8.850795497187018e-07]\n"
     ]
    },
    {
     "name": "stderr",
     "output_type": "stream",
     "text": [
      "reconstraining parameters GP_regression.Mat52.lengthscale\n",
      "reconstraining parameters GP_regression.Mat52.variance\n",
      "reconstraining parameters GP_regression.Gaussian_noise.variance\n"
     ]
    },
    {
     "name": "stdout",
     "output_type": "stream",
     "text": [
      "Optimization restart 1/10, f = 55.44455314611943\n",
      "Optimization restart 2/10, f = 55.4445531461627\n",
      "Optimization restart 3/10, f = 55.44455314615779\n",
      "Optimization restart 4/10, f = 129.1234065216252\n",
      "Optimization restart 5/10, f = 138.5338232412554\n",
      "Optimization restart 6/10, f = 55.44455314612286\n",
      "Optimization restart 7/10, f = 55.44455314617455\n",
      "Optimization restart 8/10, f = 55.4445531461628\n"
     ]
    },
    {
     "name": "stderr",
     "output_type": "stream",
     "text": [
      "reconstraining parameters GP_regression.Mat52.lengthscale\n",
      "reconstraining parameters GP_regression.Mat52.variance\n",
      "reconstraining parameters GP_regression.Gaussian_noise.variance\n"
     ]
    },
    {
     "name": "stdout",
     "output_type": "stream",
     "text": [
      "Optimization restart 9/10, f = 55.44455314614411\n",
      "Optimization restart 10/10, f = 2776507291.1697907\n",
      "Optimization restart 1/10, f = 101.29279590223967\n",
      "Optimization restart 2/10, f = 607.461970177775\n",
      "Optimization restart 3/10, f = 101.2927959022399\n",
      "Optimization restart 4/10, f = 101.29279590224158\n",
      "Optimization restart 5/10, f = 4545014.376229671\n",
      "Optimization restart 6/10, f = 129.1234065216257\n",
      "Optimization restart 7/10, f = 129.1234065216252\n",
      "Optimization restart 8/10, f = 4545014.376229671\n"
     ]
    },
    {
     "name": "stderr",
     "output_type": "stream",
     "text": [
      "reconstraining parameters GP_regression.Mat52.lengthscale\n"
     ]
    },
    {
     "name": "stdout",
     "output_type": "stream",
     "text": [
      "Optimization restart 9/10, f = 101.29279590228417\n",
      "Optimization restart 10/10, f = 3360891989.1209736\n"
     ]
    },
    {
     "name": "stderr",
     "output_type": "stream",
     "text": [
      "reconstraining parameters GP_regression.Mat52.variance\n",
      "reconstraining parameters GP_regression.Gaussian_noise.variance\n"
     ]
    },
    {
     "name": "stdout",
     "output_type": "stream",
     "text": [
      "Optimization restart 1/10, f = 80.46962306478659\n",
      "Optimization restart 2/10, f = 129.1234065216252\n",
      "Optimization restart 3/10, f = 129.1234065216252\n",
      "Optimization restart 4/10, f = 198.65169774769396\n",
      "Optimization restart 5/10, f = 607.461970177775\n",
      "Optimization restart 6/10, f = 80.46962306480144\n",
      "Optimization restart 7/10, f = 80.46962306481646\n",
      "Optimization restart 8/10, f = 607.461970177775\n",
      "Optimization restart 9/10, f = 80.4696230671631\n",
      "Optimization restart 10/10, f = 607.461970177775\n",
      "(5_w,10)-aCMA-ES (mu_w=3.2,w_1=45%) in dimension 8 (seed=759922, Wed Jul  7 12:57:15 2021)\n",
      "Iterat #Fevals   function value  axis ratio  sigma  min&max std  t[m:s]\n",
      "    1     10 -4.424353484966784e-01 1.0e+00 2.59e-01  2e-01  3e-01 0:00.0\n",
      "    2     20 -4.457997788953741e-01 1.4e+00 2.91e-01  3e-01  3e-01 0:00.0\n",
      "    3     30 -4.464036010740629e-01 1.4e+00 2.95e-01  3e-01  3e-01 0:00.1\n",
      "  100   1000 -5.102405606057645e-01 1.7e+01 1.14e-01  1e-02  1e-01 0:02.0\n",
      "  200   2000 -5.108539060558077e-01 2.9e+02 2.88e-02  2e-03  3e-02 0:04.0\n",
      "  300   3000 -5.108708126826724e-01 1.6e+03 6.64e-03  3e-04  5e-03 0:05.9\n",
      "  400   4000 -5.108710189778936e-01 2.7e+04 6.72e-04  2e-05  3e-04 0:07.9\n",
      "  500   5000 -5.108710277824684e-01 6.7e+04 3.55e-04  3e-06  1e-04 0:10.3\n",
      "  600   6000 -5.108710285197409e-01 1.1e+05 4.77e-04  3e-06  6e-05 0:12.8\n",
      "  700   7000 -5.108710286406662e-01 5.9e+05 7.99e-05  2e-07  5e-06 0:14.9\n",
      "  701   7010 -5.108710286407935e-01 5.8e+05 8.09e-05  2e-07  5e-06 0:14.9\n",
      "termination on tolfun=1e-11 (Wed Jul  7 12:57:31 2021)\n",
      "final/bestever f-value = -5.108710e-01 -5.108710e-01\n",
      "incumbent solution: [1.095583002436436, 1.73308096185792, 2.1812034717277857, 1.4876448869303833, 8.50726381907599e-13, 10.925195663195417, 13.999999999995278, 15.999999999999982]\n",
      "std deviation: [2.469780448827768e-07, 8.640778755569437e-07, 1.3958095714808156e-06, 1.1515241428430614e-06, 1.4031371647729924e-06, 3.2774499989707993e-06, 4.962135904053324e-06, 5.14056415128877e-06]\n"
     ]
    },
    {
     "name": "stderr",
     "output_type": "stream",
     "text": [
      "reconstraining parameters GP_regression.Mat52.lengthscale\n",
      "reconstraining parameters GP_regression.Mat52.variance\n",
      "reconstraining parameters GP_regression.Gaussian_noise.variance\n"
     ]
    },
    {
     "name": "stdout",
     "output_type": "stream",
     "text": [
      "Optimization restart 1/10, f = 54.82783904914483\n",
      "Optimization restart 2/10, f = 54.827839049062895\n",
      "Optimization restart 3/10, f = 54.827839049053\n",
      "Optimization restart 4/10, f = 130.5423450548299\n",
      "Optimization restart 5/10, f = 130.54234505482987\n",
      "Optimization restart 6/10, f = 54.82783904906318\n",
      "Optimization restart 7/10, f = 54.82783904907346\n",
      "Optimization restart 8/10, f = 130.54234505482987\n"
     ]
    },
    {
     "name": "stderr",
     "output_type": "stream",
     "text": [
      "reconstraining parameters GP_regression.Mat52.lengthscale\n",
      "reconstraining parameters GP_regression.Mat52.variance\n",
      "reconstraining parameters GP_regression.Gaussian_noise.variance\n"
     ]
    },
    {
     "name": "stdout",
     "output_type": "stream",
     "text": [
      "Optimization restart 9/10, f = 138.5089472011806\n",
      "Optimization restart 10/10, f = 130.5423450548299\n",
      "Optimization restart 1/10, f = 102.16800286557472\n",
      "Optimization restart 2/10, f = 102.16800286556068\n",
      "Optimization restart 3/10, f = 102.16800286556065\n",
      "Optimization restart 4/10, f = 130.54234505482992\n",
      "Optimization restart 5/10, f = 614.1373764434647\n",
      "Optimization restart 6/10, f = 102.16800286651268\n",
      "Optimization restart 7/10, f = 614.1373764434647\n",
      "Optimization restart 8/10, f = 130.54234505482987\n",
      "Optimization restart 9/10, f = 102.16800286556145\n"
     ]
    },
    {
     "name": "stderr",
     "output_type": "stream",
     "text": [
      "reconstraining parameters GP_regression.Mat52.lengthscale\n",
      "reconstraining parameters GP_regression.Mat52.variance\n",
      "reconstraining parameters GP_regression.Gaussian_noise.variance\n"
     ]
    },
    {
     "name": "stdout",
     "output_type": "stream",
     "text": [
      "Optimization restart 10/10, f = 102.16800286556031\n",
      "Optimization restart 1/10, f = 80.71589427244353\n",
      "Optimization restart 2/10, f = 80.71589427195794\n",
      "Optimization restart 3/10, f = 130.54234505482987\n",
      "Optimization restart 4/10, f = 614.1373764434647\n",
      "Optimization restart 5/10, f = 2100375998.790356\n",
      "Optimization restart 6/10, f = 80.71589427195798\n",
      "Optimization restart 7/10, f = 130.54234505482987\n",
      "Optimization restart 8/10, f = 130.54234505482987\n",
      "Optimization restart 9/10, f = 130.54234505482987\n",
      "Optimization restart 10/10, f = 2085691378.2170763\n",
      "(5_w,10)-aCMA-ES (mu_w=3.2,w_1=45%) in dimension 8 (seed=739610, Wed Jul  7 12:57:38 2021)\n",
      "Iterat #Fevals   function value  axis ratio  sigma  min&max std  t[m:s]\n",
      "    1     10 -4.239628797035808e-01 1.0e+00 2.32e-01  2e-01  2e-01 0:00.0\n",
      "    2     20 -4.260744897159784e-01 1.2e+00 2.64e-01  2e-01  3e-01 0:00.0\n",
      "    3     30 -4.268610059930557e-01 1.4e+00 3.09e-01  3e-01  3e-01 0:00.1\n",
      "  100   1000 -4.587208162831826e-01 1.0e+01 1.26e-01  2e-02  2e-01 0:02.0\n",
      "  200   2000 -4.852108855317452e-01 5.0e+01 5.55e-01  2e-02  5e-01 0:04.1\n",
      "  300   3000 -4.868657509793961e-01 6.2e+02 1.35e-02  2e-05  8e-03 0:07.5\n",
      "  400   4000 -4.868668958521873e-01 7.6e+03 3.24e-03  3e-07  2e-03 0:10.9\n",
      "NOTE (module=cma, iteration=432):  \n",
      "condition in coordinate system exceeded 1.0e+08, rescaled to 1.0e+00, \n",
      "condition changed from 1.8e+08 to 1.3e+01\n",
      "  500   5000 -4.868669100752676e-01 1.0e+01 4.40e-04  3e-09  1e-04 0:13.6\n",
      "  594   5940 -4.868669103011121e-01 1.1e+02 4.39e-05  1e-11  9e-06 0:16.1\n",
      "termination on tolfun=1e-11 (Wed Jul  7 12:57:55 2021)\n",
      "final/bestever f-value = -4.868669e-01 -4.868669e-01\n",
      "incumbent solution: [1.5966787212367428, 1.9521517188139903, 4.0636673271530775e-12, 1.617104852875957e-11, 1.6049411499216066e-10, 11.99999999998834, 13.999999999983753, 15.99999999999269]\n",
      "std deviation: [1.3156978673612787e-11, 1.5470061776677984e-10, 9.861121093432543e-07, 1.0015530750422038e-06, 2.153652404530234e-06, 5.132438093520969e-06, 8.744762568886029e-06, 7.469112487715089e-06]\n"
     ]
    },
    {
     "name": "stderr",
     "output_type": "stream",
     "text": [
      "reconstraining parameters GP_regression.Mat52.lengthscale\n",
      "reconstraining parameters GP_regression.Mat52.variance\n",
      "reconstraining parameters GP_regression.Gaussian_noise.variance\n"
     ]
    },
    {
     "name": "stdout",
     "output_type": "stream",
     "text": [
      "Optimization restart 1/10, f = 55.86630360375354\n",
      "Optimization restart 2/10, f = 620.8127827091546\n",
      "Optimization restart 3/10, f = 55.8663036037626\n",
      "Optimization restart 4/10, f = 139.17767597456339\n",
      "Optimization restart 5/10, f = 131.96128358803458\n",
      "Optimization restart 6/10, f = 2921615670.8770404\n",
      "Optimization restart 7/10, f = 620.8127827091546\n",
      "Optimization restart 8/10, f = 131.96128358803458\n",
      "Optimization restart 9/10, f = 55.86630360373802\n"
     ]
    },
    {
     "name": "stderr",
     "output_type": "stream",
     "text": [
      "reconstraining parameters GP_regression.Mat52.lengthscale\n",
      "reconstraining parameters GP_regression.Mat52.variance\n",
      "reconstraining parameters GP_regression.Gaussian_noise.variance\n"
     ]
    },
    {
     "name": "stdout",
     "output_type": "stream",
     "text": [
      "Optimization restart 10/10, f = 131.96128358803475\n",
      "Optimization restart 1/10, f = 103.17270756367716\n",
      "Optimization restart 2/10, f = 103.17270756337524\n",
      "Optimization restart 3/10, f = 620.8127827091546\n",
      "Optimization restart 4/10, f = 103.17270756337885\n",
      "Optimization restart 5/10, f = 103.17270756385784\n",
      "Optimization restart 6/10, f = 131.96128358803782\n",
      "Optimization restart 7/10, f = 131.9612835880346\n",
      "Optimization restart 8/10, f = 3428918019.203398\n",
      "Optimization restart 9/10, f = 103.17270756337572\n"
     ]
    },
    {
     "name": "stderr",
     "output_type": "stream",
     "text": [
      "reconstraining parameters GP_regression.Mat52.lengthscale\n",
      "reconstraining parameters GP_regression.Mat52.variance\n",
      "reconstraining parameters GP_regression.Gaussian_noise.variance\n"
     ]
    },
    {
     "name": "stdout",
     "output_type": "stream",
     "text": [
      "Optimization restart 10/10, f = 103.17270756337544\n",
      "Optimization restart 1/10, f = 81.78178225654761\n",
      "Optimization restart 2/10, f = 81.78178225612918\n",
      "Optimization restart 3/10, f = 201.27105686618873\n",
      "Optimization restart 4/10, f = 620.8127827091546\n",
      "Optimization restart 5/10, f = 131.96128358803475\n",
      "Optimization restart 6/10, f = 81.78178225613323\n",
      "Optimization restart 7/10, f = 620.8127827091546\n",
      "Optimization restart 8/10, f = 131.96128348520577\n",
      "Optimization restart 9/10, f = 131.96128358803458\n",
      "Optimization restart 10/10, f = 81.78178225613291\n",
      "(5_w,10)-aCMA-ES (mu_w=3.2,w_1=45%) in dimension 8 (seed=780485, Wed Jul  7 12:58:07 2021)\n",
      "Iterat #Fevals   function value  axis ratio  sigma  min&max std  t[m:s]\n",
      "    1     10 -4.516141329904989e-01 1.0e+00 2.41e-01  2e-01  2e-01 0:00.0\n",
      "    2     20 -4.490430672425376e-01 1.2e+00 2.62e-01  2e-01  3e-01 0:00.1\n",
      "    3     30 -4.519812314610365e-01 1.4e+00 2.59e-01  2e-01  3e-01 0:00.1\n",
      "  100   1000 -4.892474000755829e-01 2.1e+01 4.47e-02  4e-03  5e-02 0:02.8\n",
      "  200   2000 -4.904254795006359e-01 4.8e+01 1.02e-01  5e-03  1e-01 0:05.3\n",
      "  300   3000 -4.907625320579020e-01 7.4e+01 3.27e-02  2e-04  1e-02 0:08.0\n",
      "  400   4000 -4.907628575952496e-01 4.3e+03 9.79e-04  7e-08  3e-04 0:10.6\n",
      "NOTE (module=cma, iteration=432):  \n",
      "condition in coordinate system exceeded 1.1e+08, rescaled to 1.0e+00, \n",
      "condition changed from 1.6e+08 to 7.0e+00\n",
      "  489   4890 -4.907628578826333e-01 9.9e+00 1.25e-04  3e-10  2e-05 0:12.8\n",
      "termination on tolfun=1e-11 (Wed Jul  7 12:58:20 2021)\n",
      "final/bestever f-value = -4.907629e-01 -4.907629e-01\n",
      "incumbent solution: [7.918437847362896e-12, 2.806842050015814, 5.999999999960313, 2.519455462911444e-11, 2.2088184649912315e-12, 6.835324986586114e-11, 2.584927031441759e-10, 15.999999999966402]\n",
      "std deviation: [1.28754284327217e-06, 2.5020122812627464e-10, 4.401392501333683e-06, 2.692138754837588e-06, 5.082237505623047e-06, 2.724744590511964e-06, 4.509641093119937e-06, 1.9829907403918344e-05]\n"
     ]
    },
    {
     "name": "stderr",
     "output_type": "stream",
     "text": [
      "reconstraining parameters GP_regression.Mat52.lengthscale\n",
      "reconstraining parameters GP_regression.Mat52.variance\n",
      "reconstraining parameters GP_regression.Gaussian_noise.variance\n"
     ]
    },
    {
     "name": "stdout",
     "output_type": "stream",
     "text": [
      "Optimization restart 1/10, f = 56.39238633276488\n",
      "Optimization restart 2/10, f = 133.38022212123923\n",
      "Optimization restart 3/10, f = 56.39238633275572\n",
      "Optimization restart 4/10, f = 56.392386332735846\n",
      "Optimization restart 5/10, f = 140.7362385135508\n",
      "Optimization restart 6/10, f = 140.73619672498523\n",
      "Optimization restart 7/10, f = 56.39238633273286\n",
      "Optimization restart 8/10, f = 56.39238633273114\n",
      "Optimization restart 9/10, f = 2987876387.78532\n"
     ]
    },
    {
     "name": "stderr",
     "output_type": "stream",
     "text": [
      "reconstraining parameters GP_regression.Mat52.lengthscale\n",
      "reconstraining parameters GP_regression.Mat52.variance\n",
      "reconstraining parameters GP_regression.Gaussian_noise.variance\n"
     ]
    },
    {
     "name": "stdout",
     "output_type": "stream",
     "text": [
      "Optimization restart 10/10, f = 133.38022212123926\n",
      "Optimization restart 1/10, f = 105.01186050600245\n",
      "Optimization restart 2/10, f = 105.01186050600141\n",
      "Optimization restart 3/10, f = 105.01186050600137\n",
      "Optimization restart 4/10, f = 236.53261147407267\n",
      "Optimization restart 5/10, f = 236.5326115102757\n",
      "Optimization restart 6/10, f = 627.4881889748444\n",
      "Optimization restart 7/10, f = 3473699065.2530975\n",
      "Optimization restart 8/10, f = 627.4881889748444\n",
      "Optimization restart 9/10, f = 105.0118605060014\n"
     ]
    },
    {
     "name": "stderr",
     "output_type": "stream",
     "text": [
      "reconstraining parameters GP_regression.Mat52.lengthscale\n",
      "reconstraining parameters GP_regression.Mat52.variance\n",
      "reconstraining parameters GP_regression.Gaussian_noise.variance\n"
     ]
    },
    {
     "name": "stdout",
     "output_type": "stream",
     "text": [
      "Optimization restart 10/10, f = 105.01186050600086\n",
      "Optimization restart 1/10, f = 83.34889312567967\n",
      "Optimization restart 2/10, f = 2199994570.5765185\n",
      "Optimization restart 3/10, f = 83.34889312562555\n",
      "Optimization restart 4/10, f = 4694850.015006471\n",
      "Optimization restart 5/10, f = 627.4881889748444\n",
      "Optimization restart 6/10, f = 4694850.015006471\n",
      "Optimization restart 7/10, f = 83.34889312563372\n",
      "Optimization restart 8/10, f = 2202873301.9952345\n",
      "Optimization restart 9/10, f = 627.4881889748444\n",
      "Optimization restart 10/10, f = 203.72394110273254\n",
      "(5_w,10)-aCMA-ES (mu_w=3.2,w_1=45%) in dimension 8 (seed=790865, Wed Jul  7 12:58:33 2021)\n",
      "Iterat #Fevals   function value  axis ratio  sigma  min&max std  t[m:s]\n",
      "    1     10 -4.270516487172303e-01 1.0e+00 2.69e-01  3e-01  3e-01 0:00.0\n",
      "    2     20 -4.280000001063253e-01 1.2e+00 2.98e-01  3e-01  3e-01 0:00.1\n",
      "    3     30 -4.307923746556991e-01 1.3e+00 3.04e-01  3e-01  3e-01 0:00.2\n",
      "   80    800 -4.796779705790123e-01 1.2e+01 5.04e-01  1e-01  6e-01 0:03.2\n",
      "  100   1000 -4.822411726202601e-01 2.0e+01 5.83e-01  7e-02  6e-01 0:03.8\n",
      "  200   2000 -4.872830661728196e-01 6.2e+01 1.15e-01  4e-03  9e-02 0:08.5\n",
      "  300   3000 -4.874175296959545e-01 4.2e+02 3.15e-02  4e-04  2e-02 0:11.1\n",
      "  400   4000 -4.874216397595655e-01 1.0e+03 2.69e-02  1e-04  7e-03 0:13.6\n",
      "  500   5000 -4.874230830476519e-01 2.0e+03 1.39e-02  1e-05  2e-03 0:17.1\n",
      "  600   6000 -4.874233105775333e-01 6.1e+03 2.86e-02  8e-06  2e-03 0:20.2\n",
      "  700   7000 -4.874233760667585e-01 1.1e+04 1.76e-02  1e-06  6e-04 0:22.4\n",
      "  800   8000 -4.874233853951440e-01 3.1e+04 6.45e-03  3e-07  1e-04 0:25.4\n",
      "  900   9000 -4.874233871057981e-01 6.4e+04 1.34e-02  2e-07  1e-04 0:28.1\n",
      " 1000  10000 -4.874233875310758e-01 1.1e+05 1.28e-02  1e-07  5e-05 0:30.2\n",
      "Iterat #Fevals   function value  axis ratio  sigma  min&max std  t[m:s]\n",
      " 1078  10780 -4.874233875750961e-01 2.2e+05 7.03e-03  5e-08  2e-05 0:32.9\n",
      "termination on tolfun=1e-11 (Wed Jul  7 12:59:08 2021)\n",
      "final/bestever f-value = -4.874234e-01 -4.874234e-01\n",
      "incumbent solution: [0.7130162009205003, 3.181799392969119, 8.119440000783935e-12, 2.8422860454668832, 9.999999871763452, 11.99999999981939, 9.295943011718999e-10, 15.99999999995131]\n",
      "std deviation: [3.72647656817197e-06, 5.2561829584854247e-08, 1.5257136186062273e-06, 7.35488382044989e-06, 9.181427450343771e-06, 1.288872854034898e-05, 5.600080913720382e-06, 1.5853743937412733e-05]\n"
     ]
    },
    {
     "name": "stderr",
     "output_type": "stream",
     "text": [
      "reconstraining parameters GP_regression.Mat52.lengthscale\n",
      "reconstraining parameters GP_regression.Mat52.variance\n",
      "reconstraining parameters GP_regression.Gaussian_noise.variance\n"
     ]
    },
    {
     "name": "stdout",
     "output_type": "stream",
     "text": [
      "Optimization restart 1/10, f = 58.01644509843834\n",
      "Optimization restart 2/10, f = 58.01644503472878\n",
      "Optimization restart 3/10, f = 134.79916065444397\n",
      "Optimization restart 4/10, f = 3035658744.439218\n",
      "Optimization restart 5/10, f = 58.016445035614495\n",
      "Optimization restart 6/10, f = 58.01644503474171\n",
      "Optimization restart 7/10, f = 58.01644503477215\n",
      "Optimization restart 8/10, f = 58.016445034742745\n",
      "Optimization restart 9/10, f = 58.016445034743946\n"
     ]
    },
    {
     "name": "stderr",
     "output_type": "stream",
     "text": [
      "reconstraining parameters GP_regression.Mat52.lengthscale\n",
      "reconstraining parameters GP_regression.Mat52.variance\n",
      "reconstraining parameters GP_regression.Gaussian_noise.variance\n"
     ]
    },
    {
     "name": "stdout",
     "output_type": "stream",
     "text": [
      "Optimization restart 10/10, f = 134.7991606544439\n",
      "Optimization restart 1/10, f = 106.31950386124623\n",
      "Optimization restart 2/10, f = 134.7991606544439\n",
      "Optimization restart 3/10, f = 134.79916063448897\n",
      "Optimization restart 4/10, f = 134.79916065445585\n",
      "Optimization restart 5/10, f = 106.31950386039847\n",
      "Optimization restart 6/10, f = 106.31950386039335\n",
      "Optimization restart 7/10, f = 134.7991606544439\n",
      "Optimization restart 8/10, f = 134.7991606544439\n",
      "Optimization restart 9/10, f = 134.79916065444394\n"
     ]
    },
    {
     "name": "stderr",
     "output_type": "stream",
     "text": [
      "reconstraining parameters GP_regression.Mat52.lengthscale\n",
      "reconstraining parameters GP_regression.Mat52.variance\n",
      "reconstraining parameters GP_regression.Gaussian_noise.variance\n"
     ]
    },
    {
     "name": "stdout",
     "output_type": "stream",
     "text": [
      "Optimization restart 10/10, f = 3502829633.6879983\n",
      "Optimization restart 1/10, f = 84.5624581389753\n",
      "Optimization restart 2/10, f = 134.7991606545244\n",
      "Optimization restart 3/10, f = 84.56245813897513\n",
      "Optimization restart 4/10, f = 205.7678762289478\n",
      "Optimization restart 5/10, f = 134.799160654444\n",
      "Optimization restart 6/10, f = 134.7991606544439\n",
      "Optimization restart 7/10, f = 205.767910362201\n",
      "Optimization restart 8/10, f = 134.7991606544439\n",
      "Optimization restart 9/10, f = 2250439325.3401504\n",
      "Optimization restart 10/10, f = 84.5624581390104\n",
      "(5_w,10)-aCMA-ES (mu_w=3.2,w_1=45%) in dimension 8 (seed=763600, Wed Jul  7 12:59:16 2021)\n",
      "Iterat #Fevals   function value  axis ratio  sigma  min&max std  t[m:s]\n",
      "    1     10 -4.599056582625273e-01 1.0e+00 2.21e-01  2e-01  2e-01 0:00.0\n",
      "    2     20 -4.664176772240829e-01 1.1e+00 2.38e-01  2e-01  2e-01 0:00.1\n",
      "    3     30 -4.682995496743929e-01 1.3e+00 2.75e-01  3e-01  3e-01 0:00.1\n",
      "  100   1000 -4.998636115933055e-01 2.1e+01 7.72e-02  2e-02  1e-01 0:02.9\n",
      "  200   2000 -5.024994076522846e-01 1.6e+02 3.69e-02  2e-03  3e-02 0:06.9\n",
      "  294   2940 -5.031634056850498e-01 2.8e+02 1.02e-01  2e-03  6e-02 0:11.9\n",
      "  300   3000 -5.031963945788780e-01 2.5e+02 8.53e-02  2e-03  5e-02 0:12.2\n",
      "  400   4000 -5.033697646671665e-01 7.4e+02 6.22e-02  6e-04  2e-02 0:15.3\n",
      "  500   5000 -5.033824727409981e-01 1.8e+03 6.65e-02  3e-04  1e-02 0:18.6\n",
      "  600   6000 -5.033871733041122e-01 4.2e+03 5.44e-02  1e-04  4e-03 0:21.8\n",
      "  700   7000 -5.033881347158780e-01 1.7e+04 2.63e-02  3e-05  1e-03 0:24.8\n",
      "  800   8000 -5.033883482381847e-01 2.7e+04 1.94e-02  1e-05  5e-04 0:28.0\n",
      "  900   9000 -5.033883726041768e-01 5.2e+04 4.54e-02  2e-05  5e-04 0:31.0\n",
      " 1000  10000 -5.033883909842657e-01 1.0e+05 9.17e-03  1e-06  5e-05 0:34.4\n",
      "Iterat #Fevals   function value  axis ratio  sigma  min&max std  t[m:s]\n",
      " 1100  11000 -5.033883932299918e-01 2.1e+05 7.87e-02  5e-06  2e-04 0:38.4\n",
      " 1200  12000 -5.033883936448961e-01 5.5e+05 1.49e-02  5e-07  2e-05 0:41.7\n",
      " 1300  13000 -5.033883937704032e-01 9.5e+05 3.38e-02  7e-07  2e-05 0:44.8\n",
      " 1310  13100 -5.033883937704409e-01 9.9e+05 2.50e-02  5e-07  1e-05 0:45.4\n",
      "termination on tolfun=1e-11 (Wed Jul  7 13:00:05 2021)\n",
      "final/bestever f-value = -5.033884e-01 -5.033884e-01\n",
      "incumbent solution: [1.0791005300471561, 1.7825554264065495, 2.0046700258575854, 1.5930865196137531, 7.043097078277206e-11, 10.53322208155798, 13.99999999999986, 15.999999992258259]\n",
      "std deviation: [4.7560335176807013e-07, 1.5476909424257514e-06, 2.795238202414591e-06, 3.1427639692638205e-06, 2.9704954722130083e-06, 9.10317087386982e-06, 1.3128670595458686e-05, 9.677183781340846e-06]\n"
     ]
    },
    {
     "name": "stderr",
     "output_type": "stream",
     "text": [
      "reconstraining parameters GP_regression.Mat52.lengthscale\n",
      "reconstraining parameters GP_regression.Mat52.variance\n",
      "reconstraining parameters GP_regression.Gaussian_noise.variance\n"
     ]
    },
    {
     "name": "stdout",
     "output_type": "stream",
     "text": [
      "Optimization restart 1/10, f = 55.4611122781953\n",
      "Optimization restart 2/10, f = 136.2180991876487\n",
      "Optimization restart 3/10, f = 136.2180991876486\n",
      "Optimization restart 4/10, f = 55.46111227817633\n",
      "Optimization restart 5/10, f = 55.461112278153806\n",
      "Optimization restart 6/10, f = 55.46111227817309\n",
      "Optimization restart 7/10, f = 55.461112278151305\n",
      "Optimization restart 8/10, f = 55.461112278169225\n",
      "Optimization restart 9/10, f = 55.46111227813809\n"
     ]
    },
    {
     "name": "stderr",
     "output_type": "stream",
     "text": [
      "reconstraining parameters GP_regression.Mat52.lengthscale\n",
      "reconstraining parameters GP_regression.Mat52.variance\n",
      "reconstraining parameters GP_regression.Gaussian_noise.variance\n"
     ]
    },
    {
     "name": "stdout",
     "output_type": "stream",
     "text": [
      "Optimization restart 10/10, f = 136.21809918573535\n",
      "Optimization restart 1/10, f = 105.49347448257537\n",
      "Optimization restart 2/10, f = 4794740.440857675\n",
      "Optimization restart 3/10, f = 105.49347448253936\n",
      "Optimization restart 4/10, f = 640.8390015062242\n",
      "Optimization restart 5/10, f = 640.8390015029732\n",
      "Optimization restart 6/10, f = 3569836180.3176737\n",
      "Optimization restart 7/10, f = 136.21809918764856\n",
      "Optimization restart 8/10, f = 105.49347448268702\n",
      "Optimization restart 9/10, f = 136.2180991876486\n"
     ]
    },
    {
     "name": "stderr",
     "output_type": "stream",
     "text": [
      "reconstraining parameters GP_regression.Mat52.lengthscale\n",
      "reconstraining parameters GP_regression.Mat52.variance\n",
      "reconstraining parameters GP_regression.Gaussian_noise.variance\n"
     ]
    },
    {
     "name": "stdout",
     "output_type": "stream",
     "text": [
      "Optimization restart 10/10, f = 105.49347448253972\n",
      "Optimization restart 1/10, f = 84.62897230503512\n",
      "Optimization restart 2/10, f = 84.62897230503336\n",
      "Optimization restart 3/10, f = 136.218099187649\n",
      "Optimization restart 4/10, f = 640.8390015062242\n",
      "Optimization restart 5/10, f = 2256969291.264659\n",
      "Optimization restart 6/10, f = 2261719307.3382516\n",
      "Optimization restart 7/10, f = 84.62897230503452\n",
      "Optimization restart 8/10, f = 136.21809918850795\n",
      "Optimization restart 9/10, f = 84.62897230504478\n",
      "Optimization restart 10/10, f = 136.21809918764887\n",
      "(5_w,10)-aCMA-ES (mu_w=3.2,w_1=45%) in dimension 8 (seed=730906, Wed Jul  7 13:00:18 2021)\n",
      "Iterat #Fevals   function value  axis ratio  sigma  min&max std  t[m:s]\n",
      "    1     10 -4.317674497586695e-01 1.0e+00 2.34e-01  2e-01  2e-01 0:00.1\n",
      "    2     20 -4.334898930012396e-01 1.3e+00 2.36e-01  2e-01  2e-01 0:00.1\n",
      "    3     30 -4.342754244854355e-01 1.4e+00 2.41e-01  2e-01  3e-01 0:00.2\n",
      "   89    890 -4.823620724613683e-01 7.5e+00 4.81e-01  8e-02  5e-01 0:03.2\n",
      "  100   1000 -4.836318236097452e-01 1.2e+01 3.25e-01  5e-02  4e-01 0:03.8\n",
      "  200   2000 -4.871432738069399e-01 9.6e+01 1.88e-01  2e-02  3e-01 0:06.8\n",
      "  300   3000 -4.882578498222414e-01 2.1e+02 1.31e-01  5e-03  8e-02 0:09.3\n",
      "  400   4000 -4.885190273097559e-01 3.7e+02 1.83e-01  1e-03  6e-02 0:11.9\n",
      "  500   5000 -4.885806821344979e-01 6.1e+02 3.89e-02  2e-05  5e-03 0:15.8\n",
      "  600   6000 -4.885811439799914e-01 6.1e+03 6.32e-03  1e-07  6e-04 0:18.9\n",
      "NOTE (module=cma, iteration=625):  \n",
      "condition in coordinate system exceeded 1.0e+08, rescaled to 1.0e+00, \n",
      "condition changed from 1.7e+08 to 1.0e+01\n",
      "  700   7000 -4.885811460059620e-01 2.4e+01 4.20e-04  3e-10  3e-05 0:21.2\n",
      "  736   7360 -4.885811460155041e-01 5.8e+01 1.14e-04  3e-11  8e-06 0:22.1\n",
      "termination on tolfun=1e-11 (Wed Jul  7 13:00:41 2021)\n",
      "final/bestever f-value = -4.885811e-01 -4.885811e-01\n",
      "incumbent solution: [0.8787561497521823, 3.750236517504705, 3.4849643846662842e-12, 3.547788302936229e-13, 9.999999999985306, 11.999999999972074, 7.484222901645533e-10, 15.999999999964011]\n",
      "std deviation: [6.614454138012821e-11, 3.4556315269139155e-11, 6.83808730166194e-07, 5.68376032664981e-07, 5.2542800261925696e-06, 5.590844642405889e-06, 2.5362199947340437e-06, 8.204852011874386e-06]\n"
     ]
    },
    {
     "name": "stderr",
     "output_type": "stream",
     "text": [
      "reconstraining parameters GP_regression.Mat52.lengthscale\n",
      "reconstraining parameters GP_regression.Mat52.variance\n",
      "reconstraining parameters GP_regression.Gaussian_noise.variance\n"
     ]
    },
    {
     "name": "stdout",
     "output_type": "stream",
     "text": [
      "Optimization restart 1/10, f = 56.347190409142584\n",
      "Optimization restart 2/10, f = 137.63703772085333\n",
      "Optimization restart 3/10, f = 56.347190409195456\n",
      "Optimization restart 4/10, f = 56.34719040921688\n",
      "Optimization restart 5/10, f = 137.63703772085324\n",
      "Optimization restart 6/10, f = 56.34719040920376\n",
      "Optimization restart 7/10, f = 4844685.653783276\n",
      "Optimization restart 8/10, f = 56.34719040922869\n",
      "Optimization restart 9/10, f = 56.3471904091969\n"
     ]
    },
    {
     "name": "stderr",
     "output_type": "stream",
     "text": [
      "reconstraining parameters GP_regression.Mat52.lengthscale\n",
      "reconstraining parameters GP_regression.Mat52.variance\n",
      "reconstraining parameters GP_regression.Gaussian_noise.variance\n"
     ]
    },
    {
     "name": "stdout",
     "output_type": "stream",
     "text": [
      "Optimization restart 10/10, f = 137.63703772087828\n",
      "Optimization restart 1/10, f = 106.46128784370808\n",
      "Optimization restart 2/10, f = 106.46128784374446\n",
      "Optimization restart 3/10, f = 106.4612878437077\n",
      "Optimization restart 4/10, f = 106.46128784370777\n",
      "Optimization restart 5/10, f = 137.6370377208541\n",
      "Optimization restart 6/10, f = 647.514407771914\n",
      "Optimization restart 7/10, f = 3586456483.0268755\n",
      "Optimization restart 8/10, f = 106.46128784370885\n",
      "Optimization restart 9/10, f = 106.46128784371474\n"
     ]
    },
    {
     "name": "stderr",
     "output_type": "stream",
     "text": [
      "reconstraining parameters GP_regression.Mat52.lengthscale\n",
      "reconstraining parameters GP_regression.Mat52.variance\n",
      "reconstraining parameters GP_regression.Gaussian_noise.variance\n"
     ]
    },
    {
     "name": "stdout",
     "output_type": "stream",
     "text": [
      "Optimization restart 10/10, f = 106.46128784370752\n",
      "Optimization restart 1/10, f = 85.82089051505946\n",
      "Optimization restart 2/10, f = 2279129538.212498\n",
      "Optimization restart 3/10, f = 647.514407771914\n",
      "Optimization restart 4/10, f = 85.82089051506154\n",
      "Optimization restart 5/10, f = 4844685.653783274\n",
      "Optimization restart 6/10, f = 85.82089051506951\n",
      "Optimization restart 7/10, f = 137.63703772085324\n",
      "Optimization restart 8/10, f = 209.059571299896\n",
      "Optimization restart 9/10, f = 85.82089051506458\n",
      "Optimization restart 10/10, f = 85.8208905150594\n",
      "(5_w,10)-aCMA-ES (mu_w=3.2,w_1=45%) in dimension 8 (seed=757282, Wed Jul  7 13:00:50 2021)\n",
      "Iterat #Fevals   function value  axis ratio  sigma  min&max std  t[m:s]\n",
      "    1     10 -4.517623154204455e-01 1.0e+00 2.38e-01  2e-01  2e-01 0:00.0\n",
      "    2     20 -4.521502032813530e-01 1.3e+00 2.24e-01  2e-01  2e-01 0:00.0\n",
      "    3     30 -4.533934236308333e-01 1.3e+00 2.40e-01  2e-01  3e-01 0:00.1\n",
      "   72    720 -4.800354897243070e-01 7.4e+00 6.33e-02  2e-02  7e-02 0:03.1\n",
      "  100   1000 -4.801436098567584e-01 1.8e+01 4.16e-02  9e-03  5e-02 0:03.9\n",
      "  200   2000 -4.801479695750912e-01 5.3e+02 5.37e-04  7e-05  6e-04 0:06.0\n",
      "  295   2950 -4.801479706255662e-01 2.6e+04 1.68e-05  1e-06  1e-05 0:08.7\n",
      "termination on tolfun=1e-11 (Wed Jul  7 13:00:59 2021)\n",
      "final/bestever f-value = -4.801480e-01 -4.801480e-01\n",
      "incumbent solution: [0.49449006767168385, 2.4413423904443222e-11, 5.99999999999392, 4.078288839715824e-12, 1.4139483539074728e-11, 1.3369894282907162e-14, 10.975455164858259, 15.999999999997536]\n",
      "std deviation: [1.454557561936782e-06, 1.3165014954570594e-06, 2.4551394661740892e-06, 1.5473200130747844e-06, 1.1544946684215194e-06, 1.7218600829928666e-06, 1.0294304720492181e-05, 8.424244759665519e-06]\n"
     ]
    },
    {
     "name": "stderr",
     "output_type": "stream",
     "text": [
      "reconstraining parameters GP_regression.Mat52.lengthscale\n",
      "reconstraining parameters GP_regression.Mat52.variance\n",
      "reconstraining parameters GP_regression.Gaussian_noise.variance\n"
     ]
    },
    {
     "name": "stdout",
     "output_type": "stream",
     "text": [
      "Optimization restart 1/10, f = 57.010417906275876\n",
      "Optimization restart 2/10, f = 139.05597625406716\n",
      "Optimization restart 3/10, f = 57.010417906177516\n",
      "Optimization restart 4/10, f = 57.010417906207756\n",
      "Optimization restart 5/10, f = 57.01041790617508\n",
      "Optimization restart 6/10, f = 139.05597625405792\n",
      "Optimization restart 7/10, f = 3105277853.5751696\n",
      "Optimization restart 8/10, f = 139.05597625405795\n",
      "Optimization restart 9/10, f = 4894630.866708877\n",
      "Optimization restart 10/10, f = 139.05597625405792\n"
     ]
    },
    {
     "name": "stderr",
     "output_type": "stream",
     "text": [
      "reconstraining parameters GP_regression.Mat52.lengthscale\n",
      "reconstraining parameters GP_regression.Mat52.variance\n",
      "reconstraining parameters GP_regression.Gaussian_noise.variance\n"
     ]
    },
    {
     "name": "stdout",
     "output_type": "stream",
     "text": [
      "Optimization restart 1/10, f = 107.98041448580489\n",
      "Optimization restart 2/10, f = 242.52154334137745\n",
      "Optimization restart 3/10, f = 107.98041448579818\n",
      "Optimization restart 4/10, f = 654.1898140376038\n",
      "Optimization restart 5/10, f = 139.05597625405792\n",
      "Optimization restart 6/10, f = 654.1898140376038\n",
      "Optimization restart 7/10, f = 3620907936.300853\n",
      "Optimization restart 8/10, f = 107.98041448579656\n",
      "Optimization restart 9/10, f = 654.1898140376038\n"
     ]
    },
    {
     "name": "stderr",
     "output_type": "stream",
     "text": [
      "reconstraining parameters GP_regression.Mat52.lengthscale\n",
      "reconstraining parameters GP_regression.Mat52.variance\n",
      "reconstraining parameters GP_regression.Gaussian_noise.variance\n"
     ]
    },
    {
     "name": "stdout",
     "output_type": "stream",
     "text": [
      "Optimization restart 10/10, f = 654.1898140376038\n",
      "Optimization restart 1/10, f = 87.06334149040413\n",
      "Optimization restart 2/10, f = 2328966736.3037477\n",
      "Optimization restart 3/10, f = 654.1898140376038\n",
      "Optimization restart 4/10, f = 87.06334149040832\n",
      "Optimization restart 5/10, f = 211.17617791031637\n",
      "Optimization restart 6/10, f = 139.05597625405795\n",
      "Optimization restart 7/10, f = 139.0559762540579\n",
      "Optimization restart 8/10, f = 87.06334149059245\n",
      "Optimization restart 9/10, f = 87.06334149112632\n",
      "Optimization restart 10/10, f = 211.1761821446961\n",
      "(5_w,10)-aCMA-ES (mu_w=3.2,w_1=45%) in dimension 8 (seed=801808, Wed Jul  7 13:01:07 2021)\n",
      "Iterat #Fevals   function value  axis ratio  sigma  min&max std  t[m:s]\n",
      "    1     10 -4.399788317300140e-01 1.0e+00 2.37e-01  2e-01  2e-01 0:00.0\n",
      "    2     20 -4.395471108191857e-01 1.1e+00 2.29e-01  2e-01  2e-01 0:00.1\n",
      "    3     30 -4.425709521879033e-01 1.2e+00 2.35e-01  2e-01  2e-01 0:00.1\n",
      "  100   1000 -5.109035053131047e-01 2.1e+01 1.92e-01  2e-02  2e-01 0:02.6\n",
      "  200   2000 -5.120712331163475e-01 3.7e+02 1.31e-02  5e-04  1e-02 0:06.5\n",
      "  300   3000 -5.121157164609964e-01 1.1e+03 2.33e-02  5e-04  2e-02 0:09.6\n",
      "  400   4000 -5.121259203787274e-01 2.6e+03 2.74e-02  3e-04  9e-03 0:11.8\n",
      "  500   5000 -5.121304509919751e-01 4.9e+03 2.92e-02  1e-04  5e-03 0:15.2\n",
      "  600   6000 -5.121313255075459e-01 9.0e+03 2.59e-02  5e-05  2e-03 0:18.1\n",
      "  700   7000 -5.121317112806647e-01 1.3e+04 3.16e-02  4e-05  1e-03 0:20.4\n",
      "  800   8000 -5.121318339487949e-01 2.1e+04 2.68e-02  2e-05  4e-04 0:22.7\n",
      "  900   9000 -5.121318813458056e-01 3.8e+04 3.41e-02  8e-06  3e-04 0:24.9\n",
      " 1000  10000 -5.121318936511765e-01 8.5e+04 4.04e-02  5e-06  2e-04 0:27.3\n",
      "Iterat #Fevals   function value  axis ratio  sigma  min&max std  t[m:s]\n",
      " 1100  11000 -5.121318967390196e-01 1.4e+05 2.84e-02  2e-06  6e-05 0:29.4\n",
      " 1200  12000 -5.121318972944009e-01 3.5e+05 5.84e-02  2e-06  5e-05 0:31.7\n",
      " 1300  13000 -5.121318974515621e-01 6.7e+05 4.51e-02  7e-07  2e-05 0:34.2\n"
     ]
    },
    {
     "name": "stderr",
     "output_type": "stream",
     "text": [
      " /home/finley/miniconda3/envs/testsuite/lib/python3.8/site-packages/cma/utilities/utils.py:329: UserWarning:\n",
      "        geno-pheno transformation introduced based on the\n",
      "        current covariance matrix with condition 1.0e+12 -> 1.0e+00,\n",
      "        injected solutions become \"invalid\" in this iteration (class=CMAEvolutionStrategy method=alleviate_conditioning iteration=1334)\n"
     ]
    },
    {
     "name": "stdout",
     "output_type": "stream",
     "text": [
      " 1357  13570 -5.121318974728857e-01 4.1e+00 3.18e-02  2e-02  4e-02 0:35.5\n",
      "termination on tolfun=1e-11 (Wed Jul  7 13:01:45 2021)\n",
      "final/bestever f-value = -5.121319e-01 -5.121319e-01\n",
      "incumbent solution: [0.46403813155484386, 1.836343209957704, 2.955961653522536, 5.118062986550285, 2.0297006735898376e-11, 11.999999999886017, 3.962675687660616e-11, 15.999999999999735]\n",
      "std deviation: [0.04248833323056596, 0.020502996514102267, 0.0234514885631709, 0.03759750924255752, 0.0390074161446614, 0.022214412739990773, 0.024881913958267093, 0.0271954584089528]\n"
     ]
    },
    {
     "name": "stderr",
     "output_type": "stream",
     "text": [
      "reconstraining parameters GP_regression.Mat52.lengthscale\n",
      "reconstraining parameters GP_regression.Mat52.variance\n",
      "reconstraining parameters GP_regression.Gaussian_noise.variance\n"
     ]
    },
    {
     "name": "stdout",
     "output_type": "stream",
     "text": [
      "Optimization restart 1/10, f = 57.08842976276145\n",
      "Optimization restart 2/10, f = 57.08842976276599\n",
      "Optimization restart 3/10, f = 57.08842976277968\n",
      "Optimization restart 4/10, f = 57.088429762746934\n",
      "Optimization restart 5/10, f = 3110776446.7031245\n",
      "Optimization restart 6/10, f = 57.088429762788394\n",
      "Optimization restart 7/10, f = 57.08842976274578\n",
      "Optimization restart 8/10, f = 4944576.0796344755\n",
      "Optimization restart 9/10, f = 3108395259.530504\n"
     ]
    },
    {
     "name": "stderr",
     "output_type": "stream",
     "text": [
      "reconstraining parameters GP_regression.Mat52.lengthscale\n",
      "reconstraining parameters GP_regression.Mat52.variance\n",
      "reconstraining parameters GP_regression.Gaussian_noise.variance\n"
     ]
    },
    {
     "name": "stdout",
     "output_type": "stream",
     "text": [
      "Optimization restart 10/10, f = 140.4749147872626\n",
      "Optimization restart 1/10, f = 109.2932393442769\n",
      "Optimization restart 2/10, f = 3644849606.991198\n",
      "Optimization restart 3/10, f = 251.43872702953126\n",
      "Optimization restart 4/10, f = 4944576.079634476\n",
      "Optimization restart 5/10, f = 3647840550.589608\n",
      "Optimization restart 6/10, f = 140.4749147872626\n",
      "Optimization restart 7/10, f = 140.47491478723128\n",
      "Optimization restart 8/10, f = 109.29323934416564\n",
      "Optimization restart 9/10, f = 140.4749147872626\n"
     ]
    },
    {
     "name": "stderr",
     "output_type": "stream",
     "text": [
      "reconstraining parameters GP_regression.Mat52.lengthscale\n",
      "reconstraining parameters GP_regression.Mat52.variance\n",
      "reconstraining parameters GP_regression.Gaussian_noise.variance\n"
     ]
    },
    {
     "name": "stdout",
     "output_type": "stream",
     "text": [
      "Optimization restart 10/10, f = 140.47491478726351\n",
      "Optimization restart 1/10, f = 88.15313708230815\n",
      "Optimization restart 2/10, f = 140.4749147872626\n",
      "Optimization restart 3/10, f = 88.15313708157672\n",
      "Optimization restart 4/10, f = 88.1531370815774\n",
      "Optimization restart 5/10, f = 88.15313708157618\n",
      "Optimization restart 6/10, f = 140.47491478726423\n",
      "Optimization restart 7/10, f = 2339512061.6723747\n",
      "Optimization restart 8/10, f = 4944576.079634476\n",
      "Optimization restart 9/10, f = 215.43229446174118\n",
      "Optimization restart 10/10, f = 140.47491478726258\n",
      "(5_w,10)-aCMA-ES (mu_w=3.2,w_1=45%) in dimension 8 (seed=737175, Wed Jul  7 13:01:52 2021)\n",
      "Iterat #Fevals   function value  axis ratio  sigma  min&max std  t[m:s]\n",
      "    1     10 -4.349827994029619e-01 1.0e+00 2.36e-01  2e-01  2e-01 0:00.0\n",
      "    2     20 -4.351209145901903e-01 1.2e+00 2.51e-01  2e-01  3e-01 0:00.1\n",
      "    3     30 -4.356773621620472e-01 1.4e+00 2.57e-01  2e-01  3e-01 0:00.1\n",
      "  100   1000 -4.545131778674464e-01 1.0e+01 4.13e-01  9e-02  6e-01 0:02.5\n",
      "  200   2000 -4.553489988184669e-01 8.0e+01 8.15e-03  8e-05  6e-03 0:04.8\n",
      "  300   3000 -4.553492372535216e-01 4.3e+03 1.28e-04  1e-08  4e-05 0:06.9\n",
      "NOTE (module=cma, iteration=319):  \n",
      "condition in coordinate system exceeded 1.0e+08, rescaled to 1.0e+00, \n",
      "condition changed from 1.0e+08 to 1.0e+01\n",
      "  339   3390 -4.553492372660713e-01 4.1e+00 8.81e-06  1e-10  2e-06 0:08.0\n",
      "termination on tolfun=1e-11 (Wed Jul  7 13:02:00 2021)\n",
      "final/bestever f-value = -4.553492e-01 -4.553492e-01\n",
      "incumbent solution: [1.9999999999999902, 3.266224632024225, 4.9255333012043194e-11, 4.022350425972307e-11, 9.999999999946375, 2.3052522639157848e-11, 1.2459876518974647e-11, 5.246872489282168e-12]\n",
      "std deviation: [6.473061833825695e-07, 1.053679041018814e-10, 5.423606702845181e-07, 7.515892849999666e-07, 2.4577418819061363e-06, 1.0717561970110767e-06, 4.862817915622038e-07, 1.3249749725134894e-06]\n"
     ]
    },
    {
     "name": "stderr",
     "output_type": "stream",
     "text": [
      "reconstraining parameters GP_regression.Mat52.lengthscale\n",
      "reconstraining parameters GP_regression.Mat52.variance\n",
      "reconstraining parameters GP_regression.Gaussian_noise.variance\n"
     ]
    },
    {
     "name": "stdout",
     "output_type": "stream",
     "text": [
      "Optimization restart 1/10, f = 57.61252658526231\n",
      "Optimization restart 2/10, f = 57.612526585258784\n",
      "Optimization restart 3/10, f = 141.89385332046726\n",
      "Optimization restart 4/10, f = 151.62812191821854\n",
      "Optimization restart 5/10, f = 141.89385332046726\n",
      "Optimization restart 6/10, f = 57.61252658527658\n",
      "Optimization restart 7/10, f = 141.89385332046783\n",
      "Optimization restart 8/10, f = 57.61252658528661\n"
     ]
    },
    {
     "name": "stderr",
     "output_type": "stream",
     "text": [
      "reconstraining parameters GP_regression.Mat52.lengthscale\n"
     ]
    },
    {
     "name": "stdout",
     "output_type": "stream",
     "text": [
      "Optimization restart 9/10, f = 3103284636.011277\n",
      "Optimization restart 10/10, f = 141.89385332046885\n"
     ]
    },
    {
     "name": "stderr",
     "output_type": "stream",
     "text": [
      "reconstraining parameters GP_regression.Mat52.variance\n",
      "reconstraining parameters GP_regression.Gaussian_noise.variance\n"
     ]
    },
    {
     "name": "stdout",
     "output_type": "stream",
     "text": [
      "Optimization restart 1/10, f = 110.52839927896277\n",
      "Optimization restart 2/10, f = 4994521.292560078\n",
      "Optimization restart 3/10, f = 110.52839927897344\n",
      "Optimization restart 4/10, f = 141.89385332046734\n",
      "Optimization restart 5/10, f = 667.5406265689835\n",
      "Optimization restart 6/10, f = 141.89385332046726\n",
      "Optimization restart 7/10, f = 141.89385332046794\n",
      "Optimization restart 8/10, f = 141.89385332046774\n",
      "Optimization restart 9/10, f = 141.8938533177853\n"
     ]
    },
    {
     "name": "stderr",
     "output_type": "stream",
     "text": [
      "reconstraining parameters GP_regression.Mat52.lengthscale\n",
      "reconstraining parameters GP_regression.Mat52.variance\n",
      "reconstraining parameters GP_regression.Gaussian_noise.variance\n"
     ]
    },
    {
     "name": "stdout",
     "output_type": "stream",
     "text": [
      "Optimization restart 10/10, f = 141.89385332046726\n",
      "Optimization restart 1/10, f = 88.98561124122917\n",
      "Optimization restart 2/10, f = 4994521.292560077\n",
      "Optimization restart 3/10, f = 217.90306396256776\n",
      "Optimization restart 4/10, f = 217.90308607268068\n",
      "Optimization restart 5/10, f = 88.98561124122983\n",
      "Optimization restart 6/10, f = 141.89385332046734\n",
      "Optimization restart 7/10, f = 141.89385332046746\n",
      "Optimization restart 8/10, f = 667.5406265689835\n",
      "Optimization restart 9/10, f = 217.90308386820308\n",
      "Optimization restart 10/10, f = 141.89385332046797\n",
      "(5_w,10)-aCMA-ES (mu_w=3.2,w_1=45%) in dimension 8 (seed=713234, Wed Jul  7 13:02:12 2021)\n",
      "Iterat #Fevals   function value  axis ratio  sigma  min&max std  t[m:s]\n",
      "    1     10 -4.462594738591763e-01 1.0e+00 2.43e-01  2e-01  2e-01 0:00.0\n",
      "    2     20 -4.501289947672593e-01 1.2e+00 2.56e-01  2e-01  3e-01 0:00.1\n",
      "    3     30 -4.580082987622462e-01 1.4e+00 3.24e-01  3e-01  4e-01 0:00.1\n",
      "   82    820 -4.741793805630435e-01 2.7e+01 2.87e-01  8e-02  5e-01 0:03.2\n",
      "  100   1000 -4.739003348945025e-01 2.4e+01 3.14e-01  6e-02  5e-01 0:03.7\n",
      "  200   2000 -4.869170516782595e-01 9.5e+01 9.95e-02  3e-03  1e-01 0:06.5\n",
      "  300   3000 -4.875460172072618e-01 3.5e+02 5.94e-02  1e-03  4e-02 0:11.1\n",
      "  400   4000 -4.875642243044829e-01 1.6e+03 3.38e-02  3e-04  1e-02 0:15.4\n",
      "  500   5000 -4.875834419818533e-01 2.2e+03 4.50e-02  3e-04  7e-03 0:18.3\n",
      "  600   6000 -4.875879522708909e-01 5.0e+03 4.89e-02  1e-04  4e-03 0:21.4\n",
      "  700   7000 -4.875891436986147e-01 7.2e+03 1.79e-01  3e-04  6e-03 0:23.9\n",
      "  800   8000 -4.875896600743075e-01 1.7e+04 3.45e-02  3e-05  7e-04 0:26.2\n",
      "  900   9000 -4.875896767195719e-01 9.1e+04 6.48e-02  3e-05  7e-04 0:29.6\n",
      " 1000  10000 -4.875896926666131e-01 1.0e+05 4.69e-02  7e-06  2e-04 0:32.1\n",
      "Iterat #Fevals   function value  axis ratio  sigma  min&max std  t[m:s]\n",
      " 1100  11000 -4.875896939567489e-01 4.5e+05 2.64e-02  2e-06  7e-05 0:34.4\n",
      " 1200  12000 -4.875896944225309e-01 5.8e+05 2.91e-02  1e-06  4e-05 0:36.7\n"
     ]
    },
    {
     "name": "stderr",
     "output_type": "stream",
     "text": [
      " /home/finley/miniconda3/envs/testsuite/lib/python3.8/site-packages/cma/utilities/utils.py:329: UserWarning:\n",
      "        geno-pheno transformation introduced based on the\n",
      "        current covariance matrix with condition 1.0e+12 -> 1.0e+00,\n",
      "        injected solutions become \"invalid\" in this iteration (class=CMAEvolutionStrategy method=alleviate_conditioning iteration=1265)\n"
     ]
    },
    {
     "name": "stdout",
     "output_type": "stream",
     "text": [
      " 1300  13000 -4.875896945068776e-01 9.5e+00 1.02e-01  7e-02  3e-01 0:39.5\n",
      " 1383  13830 -4.875896945736300e-01 1.2e+02 3.35e-02  1e-02  7e-02 0:41.4\n",
      "termination on tolfun=1e-11 (Wed Jul  7 13:02:56 2021)\n",
      "final/bestever f-value = -4.875897e-01 -4.875897e-01\n",
      "incumbent solution: [0.4469496791398342, 0.6443146659657941, 2.0019904560998842, 1.2834108125316084e-10, 2.920042398862413e-11, 11.999999999937955, 13.99999999984395, 15.999999999985993]\n",
      "std deviation: [0.05007949513402015, 0.05648655207675819, 0.012518963133606372, 0.0678532878192157, 0.017232429069668466, 0.020225534383468476, 0.010992291305227631, 0.014867134695231729]\n"
     ]
    },
    {
     "name": "stderr",
     "output_type": "stream",
     "text": [
      "reconstraining parameters GP_regression.Mat52.lengthscale\n",
      "reconstraining parameters GP_regression.Mat52.variance\n",
      "reconstraining parameters GP_regression.Gaussian_noise.variance\n"
     ]
    },
    {
     "name": "stdout",
     "output_type": "stream",
     "text": [
      "Optimization restart 1/10, f = 57.964413955499964\n",
      "Optimization restart 2/10, f = 57.96441395532409\n",
      "Optimization restart 3/10, f = 143.31279185367194\n",
      "Optimization restart 4/10, f = 57.964413955291235\n",
      "Optimization restart 5/10, f = 143.312791853672\n",
      "Optimization restart 6/10, f = 5044466.50548568\n",
      "Optimization restart 7/10, f = 57.964413955306696\n",
      "Optimization restart 8/10, f = 57.96441395532118\n"
     ]
    },
    {
     "name": "stderr",
     "output_type": "stream",
     "text": [
      "reconstraining parameters GP_regression.Mat52.lengthscale\n"
     ]
    },
    {
     "name": "stdout",
     "output_type": "stream",
     "text": [
      "Optimization restart 9/10, f = 57.964413955297445\n",
      "Optimization restart 10/10, f = 143.31279185367208\n"
     ]
    },
    {
     "name": "stderr",
     "output_type": "stream",
     "text": [
      "reconstraining parameters GP_regression.Mat52.variance\n",
      "reconstraining parameters GP_regression.Gaussian_noise.variance\n"
     ]
    },
    {
     "name": "stdout",
     "output_type": "stream",
     "text": [
      "Optimization restart 1/10, f = 111.61170528681495\n",
      "Optimization restart 2/10, f = 111.61170528657416\n",
      "Optimization restart 3/10, f = 674.2160328346732\n",
      "Optimization restart 4/10, f = 143.31279185367194\n",
      "Optimization restart 5/10, f = 111.61170528657476\n",
      "Optimization restart 6/10, f = 143.31279185435545\n",
      "Optimization restart 7/10, f = 111.61170528657476\n",
      "Optimization restart 8/10, f = 111.61170528657456\n"
     ]
    },
    {
     "name": "stderr",
     "output_type": "stream",
     "text": [
      "reconstraining parameters GP_regression.Mat52.lengthscale\n"
     ]
    },
    {
     "name": "stdout",
     "output_type": "stream",
     "text": [
      "Optimization restart 9/10, f = 5044466.505485678\n",
      "Optimization restart 10/10, f = 143.31279185366657\n"
     ]
    },
    {
     "name": "stderr",
     "output_type": "stream",
     "text": [
      "reconstraining parameters GP_regression.Mat52.variance\n",
      "reconstraining parameters GP_regression.Gaussian_noise.variance\n"
     ]
    },
    {
     "name": "stdout",
     "output_type": "stream",
     "text": [
      "Optimization restart 1/10, f = 90.00806663651383\n",
      "Optimization restart 2/10, f = 143.31279185367194\n",
      "Optimization restart 3/10, f = 5044466.505485677\n",
      "Optimization restart 4/10, f = 90.00806663949751\n",
      "Optimization restart 5/10, f = 90.00806663649972\n",
      "Optimization restart 6/10, f = 90.00806663657335\n",
      "Optimization restart 7/10, f = 143.3127918536719\n",
      "Optimization restart 8/10, f = 143.31279185367185\n",
      "Optimization restart 9/10, f = 90.00806663649954\n",
      "Optimization restart 10/10, f = 90.0080666364994\n",
      "(5_w,10)-aCMA-ES (mu_w=3.2,w_1=45%) in dimension 8 (seed=742120, Wed Jul  7 13:03:06 2021)\n",
      "Iterat #Fevals   function value  axis ratio  sigma  min&max std  t[m:s]\n",
      "    1     10 -4.265751018098441e-01 1.0e+00 2.24e-01  2e-01  2e-01 0:00.0\n",
      "    2     20 -4.265374711020890e-01 1.2e+00 2.20e-01  2e-01  2e-01 0:00.1\n",
      "    3     30 -4.284365684004618e-01 1.3e+00 2.30e-01  2e-01  2e-01 0:00.1\n",
      "  100   1000 -4.803695031735044e-01 1.0e+01 1.23e-01  2e-02  1e-01 0:02.4\n",
      "  200   2000 -4.811213153157251e-01 8.8e+01 4.28e-02  3e-03  3e-02 0:04.8\n",
      "  300   3000 -4.812023692456597e-01 6.3e+02 1.01e-02  7e-04  8e-03 0:07.2\n",
      "  400   4000 -4.813099984358309e-01 4.9e+02 1.59e-01  5e-03  4e-02 0:09.9\n",
      "  500   5000 -4.813237796294477e-01 8.1e+02 1.22e-01  2e-03  2e-02 0:12.7\n",
      "  600   6000 -4.813914159666485e-01 8.3e+02 2.90e-01  2e-03  2e-02 0:15.1\n",
      "  700   7000 -4.813948213310570e-01 2.8e+03 4.37e-02  2e-04  2e-03 0:17.7\n",
      "  800   8000 -4.813948598815234e-01 2.2e+04 5.98e-02  2e-04  1e-03 0:20.3\n",
      "  900   9000 -4.813951257750760e-01 2.8e+04 1.12e-01  1e-04  1e-03 0:22.6\n",
      " 1000  10000 -4.813951304631464e-01 1.1e+05 3.35e-03  3e-06  2e-05 0:25.6\n",
      "Iterat #Fevals   function value  axis ratio  sigma  min&max std  t[m:s]\n",
      " 1100  11000 -4.813951328546240e-01 2.0e+05 5.14e-02  1e-05  2e-04 0:29.2\n",
      " 1200  12000 -4.813951336661692e-01 3.6e+05 1.19e-02  3e-06  2e-05 0:32.4\n",
      " 1218  12180 -4.813951336671675e-01 4.6e+05 7.27e-03  1e-06  1e-05 0:32.9\n"
     ]
    },
    {
     "name": "stderr",
     "output_type": "stream",
     "text": [
      "reconstraining parameters GP_regression.Mat52.lengthscale\n",
      "reconstraining parameters GP_regression.Mat52.variance\n",
      "reconstraining parameters GP_regression.Gaussian_noise.variance\n"
     ]
    },
    {
     "name": "stdout",
     "output_type": "stream",
     "text": [
      "termination on tolfun=1e-11 (Wed Jul  7 13:03:41 2021)\n",
      "final/bestever f-value = -4.813951e-01 -4.813951e-01\n",
      "incumbent solution: [0.7384006128749196, 0.32364817700426957, 5.999999999949541, 4.888247159498308, 1.7732607230473735e-10, 3.073795855472003, 6.045251995243876e-12, 15.999999999783325]\n",
      "std deviation: [1.3791374759584925e-06, 3.1363185668106785e-06, 4.279460000976031e-06, 9.589642092255583e-06, 2.7495849322997915e-06, 2.2216191740515275e-06, 1.982813043724109e-06, 1.2341700858402536e-05]\n",
      "Optimization restart 1/10, f = 59.18072161268657\n",
      "Optimization restart 2/10, f = 154.2387251430124\n",
      "Optimization restart 3/10, f = 680.8914391003631\n",
      "Optimization restart 4/10, f = 59.180721612609\n",
      "Optimization restart 5/10, f = 59.180721612612224\n",
      "Optimization restart 6/10, f = 3172135189.414486\n",
      "Optimization restart 7/10, f = 59.18072161254068\n",
      "Optimization restart 8/10, f = 3175255249.0860686\n",
      "Optimization restart 9/10, f = 59.18072161252194\n"
     ]
    },
    {
     "name": "stderr",
     "output_type": "stream",
     "text": [
      "reconstraining parameters GP_regression.Mat52.lengthscale\n",
      "reconstraining parameters GP_regression.Mat52.variance\n",
      "reconstraining parameters GP_regression.Gaussian_noise.variance\n"
     ]
    },
    {
     "name": "stdout",
     "output_type": "stream",
     "text": [
      "Optimization restart 10/10, f = 59.18072161256545\n",
      "Optimization restart 1/10, f = 112.68261498408866\n",
      "Optimization restart 2/10, f = 144.73173038687662\n",
      "Optimization restart 3/10, f = 112.68261498410075\n",
      "Optimization restart 4/10, f = 680.8914390448814\n",
      "Optimization restart 5/10, f = 112.68261498408847\n",
      "Optimization restart 6/10, f = 112.68261498419398\n",
      "Optimization restart 7/10, f = 144.73173038687747\n",
      "Optimization restart 8/10, f = 144.7317303868766\n",
      "Optimization restart 9/10, f = 112.6826149840891\n"
     ]
    },
    {
     "name": "stderr",
     "output_type": "stream",
     "text": [
      "reconstraining parameters GP_regression.Mat52.lengthscale\n",
      "reconstraining parameters GP_regression.Mat52.variance\n",
      "reconstraining parameters GP_regression.Gaussian_noise.variance\n"
     ]
    },
    {
     "name": "stdout",
     "output_type": "stream",
     "text": [
      "Optimization restart 10/10, f = 112.6826149859942\n",
      "Optimization restart 1/10, f = 91.04087046008621\n",
      "Optimization restart 2/10, f = 680.8914391003631\n",
      "Optimization restart 3/10, f = 144.73173038687742\n",
      "Optimization restart 4/10, f = 144.7317303868766\n",
      "Optimization restart 5/10, f = 91.04087045997908\n",
      "Optimization restart 6/10, f = 91.04087045998024\n",
      "Optimization restart 7/10, f = 144.73173038687662\n",
      "Optimization restart 8/10, f = 223.20132890672255\n",
      "Optimization restart 9/10, f = 680.8914391003631\n",
      "Optimization restart 10/10, f = 680.8914391003631\n",
      "(5_w,10)-aCMA-ES (mu_w=3.2,w_1=45%) in dimension 8 (seed=762059, Wed Jul  7 13:03:51 2021)\n",
      "Iterat #Fevals   function value  axis ratio  sigma  min&max std  t[m:s]\n",
      "    1     10 -4.337105169764405e-01 1.0e+00 2.27e-01  2e-01  2e-01 0:00.0\n",
      "    2     20 -4.317173075976042e-01 1.2e+00 2.19e-01  2e-01  2e-01 0:00.1\n",
      "    3     30 -4.323720275315226e-01 1.3e+00 2.18e-01  2e-01  2e-01 0:00.2\n",
      "   97    970 -4.583126258385473e-01 1.3e+01 5.43e-02  5e-03  6e-02 0:03.2\n",
      "  100   1000 -4.583118771362211e-01 1.4e+01 4.58e-02  4e-03  5e-02 0:03.3\n",
      "  200   2000 -4.583151297190601e-01 2.1e+01 2.06e-05  4e-07  7e-06 0:06.2\n",
      "  205   2050 -4.583151297191141e-01 2.2e+01 1.47e-05  2e-07  5e-06 0:06.6\n"
     ]
    },
    {
     "name": "stderr",
     "output_type": "stream",
     "text": [
      "reconstraining parameters GP_regression.Mat52.lengthscale\n",
      "reconstraining parameters GP_regression.Mat52.variance\n",
      "reconstraining parameters GP_regression.Gaussian_noise.variance\n"
     ]
    },
    {
     "name": "stdout",
     "output_type": "stream",
     "text": [
      "termination on tolfun=1e-11 (Wed Jul  7 13:03:58 2021)\n",
      "final/bestever f-value = -4.583151e-01 -4.583151e-01\n",
      "incumbent solution: [5.306716104035628e-15, 3.999999999999871, 1.2345207582553466e-13, 7.999999999999869, 9.99999999999987, 6.748707652702833e-14, 13.999999999998368, 15.99999999999992]\n",
      "std deviation: [2.4570572925564694e-07, 9.69732025105643e-07, 5.718983160804724e-07, 1.8398446919602577e-06, 1.8385668537919006e-06, 7.48835876056802e-07, 4.58798408415916e-06, 4.96341710990894e-06]\n",
      "Optimization restart 1/10, f = 59.93135380638317\n",
      "Optimization restart 2/10, f = 146.15066892008133\n",
      "Optimization restart 3/10, f = 3183600973.4939246\n",
      "Optimization restart 4/10, f = 5144356.93133688\n",
      "Optimization restart 5/10, f = 59.93135380624693\n",
      "Optimization restart 6/10, f = 59.931353806253355\n",
      "Optimization restart 7/10, f = 59.93135380626361\n",
      "Optimization restart 8/10, f = 146.15066892008133\n",
      "Optimization restart 9/10, f = 59.931353806260304\n",
      "Optimization restart 10/10, f = 687.5668453660529\n"
     ]
    },
    {
     "name": "stderr",
     "output_type": "stream",
     "text": [
      "reconstraining parameters GP_regression.Mat52.lengthscale\n",
      "reconstraining parameters GP_regression.Mat52.variance\n",
      "reconstraining parameters GP_regression.Gaussian_noise.variance\n"
     ]
    },
    {
     "name": "stdout",
     "output_type": "stream",
     "text": [
      "Optimization restart 1/10, f = 113.59875570174339\n",
      "Optimization restart 2/10, f = 113.59875570168042\n",
      "Optimization restart 3/10, f = 113.59875570167941\n",
      "Optimization restart 4/10, f = 113.5987557016789\n",
      "Optimization restart 5/10, f = 5144356.93133688\n",
      "Optimization restart 6/10, f = 113.59875570168447\n",
      "Optimization restart 7/10, f = 687.5668453660529\n",
      "Optimization restart 8/10, f = 113.59875570168\n"
     ]
    },
    {
     "name": "stderr",
     "output_type": "stream",
     "text": [
      "reconstraining parameters GP_regression.Mat52.lengthscale\n",
      "reconstraining parameters GP_regression.Mat52.variance\n",
      "reconstraining parameters GP_regression.Gaussian_noise.variance\n"
     ]
    },
    {
     "name": "stdout",
     "output_type": "stream",
     "text": [
      "Optimization restart 9/10, f = 687.5668453660529\n",
      "Optimization restart 10/10, f = 146.1506689200824\n",
      "Optimization restart 1/10, f = 91.86946965138631\n",
      "Optimization restart 2/10, f = 146.15013701000848\n",
      "Optimization restart 3/10, f = 91.86946965138597\n",
      "Optimization restart 4/10, f = 687.5668453660529\n",
      "Optimization restart 5/10, f = 2380909773.3496184\n",
      "Optimization restart 6/10, f = 91.869469651386\n",
      "Optimization restart 7/10, f = 91.86946965138767\n",
      "Optimization restart 8/10, f = 2388188410.3929467\n",
      "Optimization restart 9/10, f = 91.86946965138625\n",
      "Optimization restart 10/10, f = 2391752592.321515\n",
      "(5_w,10)-aCMA-ES (mu_w=3.2,w_1=45%) in dimension 8 (seed=767077, Wed Jul  7 13:04:06 2021)\n",
      "Iterat #Fevals   function value  axis ratio  sigma  min&max std  t[m:s]\n",
      "    1     10 -4.495672157053184e-01 1.0e+00 2.49e-01  2e-01  3e-01 0:00.0\n",
      "    2     20 -4.486405239016756e-01 1.3e+00 2.51e-01  2e-01  3e-01 0:00.1\n",
      "    3     30 -4.502595118817009e-01 1.3e+00 2.64e-01  2e-01  3e-01 0:00.1\n",
      "  100   1000 -4.783928477898528e-01 1.5e+01 3.74e-02  7e-03  4e-02 0:02.2\n",
      "  200   2000 -4.783970855016922e-01 5.0e+02 6.70e-04  8e-05  4e-04 0:04.5\n",
      "  295   2950 -4.783970861043991e-01 2.8e+04 3.38e-05  3e-06  2e-05 0:06.6\n",
      "termination on tolfun=1e-11 (Wed Jul  7 13:04:13 2021)\n",
      "final/bestever f-value = -4.783971e-01 -4.783971e-01\n",
      "incumbent solution: [0.5975505967401569, 0.8093647838712259, 5.999999999961924, 1.0815033160616184e-10, 7.26375377139479, 3.1988197721990866e-12, 2.916789764440353e-13, 15.999999999968658]\n",
      "std deviation: [2.625357191895523e-06, 6.156100654309699e-06, 8.289566445059737e-06, 3.2459518101232245e-06, 8.774410087344382e-06, 5.560639039531707e-06, 3.303617311679441e-06, 1.5486846213435082e-05]\n"
     ]
    },
    {
     "name": "stderr",
     "output_type": "stream",
     "text": [
      "reconstraining parameters GP_regression.Mat52.lengthscale\n",
      "reconstraining parameters GP_regression.Mat52.variance\n",
      "reconstraining parameters GP_regression.Gaussian_noise.variance\n"
     ]
    },
    {
     "name": "stdout",
     "output_type": "stream",
     "text": [
      "Optimization restart 1/10, f = 60.714439900107706\n",
      "Optimization restart 2/10, f = 147.56960745328598\n",
      "Optimization restart 3/10, f = 60.71443990013307\n",
      "Optimization restart 4/10, f = 158.14865395565437\n",
      "Optimization restart 5/10, f = 147.56960745328598\n",
      "Optimization restart 6/10, f = 694.2422516317429\n",
      "Optimization restart 7/10, f = 147.56960745328595\n",
      "Optimization restart 8/10, f = 5194302.144262481\n"
     ]
    },
    {
     "name": "stderr",
     "output_type": "stream",
     "text": [
      "reconstraining parameters GP_regression.Mat52.lengthscale\n",
      "reconstraining parameters GP_regression.Mat52.variance\n"
     ]
    },
    {
     "name": "stdout",
     "output_type": "stream",
     "text": [
      "Optimization restart 9/10, f = 694.2422516317429\n",
      "Optimization restart 10/10, f = 3182926351.9038615\n"
     ]
    },
    {
     "name": "stderr",
     "output_type": "stream",
     "text": [
      "reconstraining parameters GP_regression.Gaussian_noise.variance\n"
     ]
    },
    {
     "name": "stdout",
     "output_type": "stream",
     "text": [
      "Optimization restart 1/10, f = 114.31387107227084\n",
      "Optimization restart 2/10, f = 114.31387107329195\n",
      "Optimization restart 3/10, f = 147.56960745328598\n",
      "Optimization restart 4/10, f = 147.56960745344594\n",
      "Optimization restart 5/10, f = 114.31387107226996\n",
      "Optimization restart 6/10, f = 147.56960745328598\n",
      "Optimization restart 7/10, f = 3762207778.6046267\n",
      "Optimization restart 8/10, f = 244.84444891092113\n",
      "Optimization restart 9/10, f = 147.56960745328598\n"
     ]
    },
    {
     "name": "stderr",
     "output_type": "stream",
     "text": [
      "reconstraining parameters GP_regression.Mat52.lengthscale\n",
      "reconstraining parameters GP_regression.Mat52.variance\n",
      "reconstraining parameters GP_regression.Gaussian_noise.variance\n"
     ]
    },
    {
     "name": "stdout",
     "output_type": "stream",
     "text": [
      "Optimization restart 10/10, f = 114.31387107227047\n",
      "Optimization restart 1/10, f = 92.98899887311103\n",
      "Optimization restart 2/10, f = 92.98899887293783\n",
      "Optimization restart 3/10, f = 5194302.144262482\n",
      "Optimization restart 4/10, f = 147.56960745328598\n",
      "Optimization restart 5/10, f = 92.988998872954\n",
      "Optimization restart 6/10, f = 147.56960745328598\n",
      "Optimization restart 7/10, f = 147.56960745160285\n",
      "Optimization restart 8/10, f = 147.56960745328598\n",
      "Optimization restart 9/10, f = 92.98899887293632\n",
      "Optimization restart 10/10, f = 694.2422516317429\n",
      "(5_w,10)-aCMA-ES (mu_w=3.2,w_1=45%) in dimension 8 (seed=802045, Wed Jul  7 13:04:22 2021)\n",
      "Iterat #Fevals   function value  axis ratio  sigma  min&max std  t[m:s]\n",
      "    1     10 -4.444358575310553e-01 1.0e+00 2.29e-01  2e-01  2e-01 0:00.0\n",
      "    2     20 -4.434156835943084e-01 1.3e+00 2.27e-01  2e-01  2e-01 0:00.1\n",
      "    3     30 -4.459647035782170e-01 1.4e+00 2.50e-01  2e-01  3e-01 0:00.1\n",
      "  100   1000 -4.808473578762250e-01 1.5e+01 1.48e-01  3e-02  2e-01 0:02.4\n",
      "  200   2000 -4.812732294025135e-01 1.9e+02 3.64e-03  6e-05  3e-03 0:04.5\n",
      "  300   3000 -4.812738580022021e-01 4.2e+03 1.81e-03  2e-05  2e-03 0:07.2\n",
      "  400   4000 -4.812738741530893e-01 4.8e+04 1.17e-04  9e-07  7e-05 0:09.5\n",
      "  500   5000 -4.812738743426650e-01 2.6e+05 4.55e-05  2e-07  2e-05 0:11.9\n",
      "  507   5070 -4.812738743431637e-01 3.1e+05 3.80e-05  1e-07  1e-05 0:12.1\n",
      "termination on tolfun=1e-11 (Wed Jul  7 13:04:35 2021)\n",
      "final/bestever f-value = -4.812739e-01 -4.812739e-01\n",
      "incumbent solution: [0.659863850713049, 3.022095268761127, 1.1788987972398387e-10, 4.32660925498176, 9.999999999909868, 11.999999999964079, 1.7199713139085756e-11, 15.999999999832609]\n",
      "std deviation: [1.5461368659819692e-06, 1.4394688637055166e-07, 1.048861696550218e-06, 2.8541402789059895e-06, 7.33550907737155e-06, 1.2165258529199858e-05, 5.593146962844362e-06, 1.4993175611617638e-05]\n"
     ]
    },
    {
     "name": "stderr",
     "output_type": "stream",
     "text": [
      "reconstraining parameters GP_regression.Mat52.lengthscale\n",
      "reconstraining parameters GP_regression.Mat52.variance\n",
      "reconstraining parameters GP_regression.Gaussian_noise.variance\n"
     ]
    },
    {
     "name": "stdout",
     "output_type": "stream",
     "text": [
      "Optimization restart 1/10, f = 66.24093048078589\n",
      "Optimization restart 2/10, f = 148.98854598649405\n",
      "Optimization restart 3/10, f = 148.98854598649064\n",
      "Optimization restart 4/10, f = 66.24093048078325\n",
      "Optimization restart 5/10, f = 3219224378.921955\n",
      "Optimization restart 6/10, f = 66.24093048083839\n",
      "Optimization restart 7/10, f = 148.98854598649064\n",
      "Optimization restart 8/10, f = 66.24093048077773\n",
      "Optimization restart 9/10, f = 3226687767.268415\n"
     ]
    },
    {
     "name": "stderr",
     "output_type": "stream",
     "text": [
      "reconstraining parameters GP_regression.Mat52.lengthscale\n",
      "reconstraining parameters GP_regression.Mat52.variance\n",
      "reconstraining parameters GP_regression.Gaussian_noise.variance\n"
     ]
    },
    {
     "name": "stdout",
     "output_type": "stream",
     "text": [
      "Optimization restart 10/10, f = 162.20240028711405\n",
      "Optimization restart 1/10, f = 115.71715114141227\n",
      "Optimization restart 2/10, f = 148.98854598649064\n",
      "Optimization restart 3/10, f = 115.71715114140841\n",
      "Optimization restart 4/10, f = 700.9176578974327\n",
      "Optimization restart 5/10, f = 148.98854598649078\n",
      "Optimization restart 6/10, f = 115.71715114144222\n",
      "Optimization restart 7/10, f = 148.98854598649066\n",
      "Optimization restart 8/10, f = 115.7171511415526\n"
     ]
    },
    {
     "name": "stderr",
     "output_type": "stream",
     "text": [
      "reconstraining parameters GP_regression.Mat52.lengthscale\n",
      "reconstraining parameters GP_regression.Mat52.variance\n",
      "reconstraining parameters GP_regression.Gaussian_noise.variance\n"
     ]
    },
    {
     "name": "stdout",
     "output_type": "stream",
     "text": [
      "Optimization restart 9/10, f = 148.98854598649064\n",
      "Optimization restart 10/10, f = 148.98854598649154\n",
      "Optimization restart 1/10, f = 93.31249778057733\n",
      "Optimization restart 2/10, f = 148.98854598649066\n",
      "Optimization restart 3/10, f = 148.98854598649064\n",
      "Optimization restart 4/10, f = 148.98854598649066\n",
      "Optimization restart 5/10, f = 93.31249778057241\n",
      "Optimization restart 6/10, f = 93.31249778057271\n",
      "Optimization restart 7/10, f = 148.98854598649072\n",
      "Optimization restart 8/10, f = 93.31249778098729\n",
      "Optimization restart 9/10, f = 148.98854598649064\n",
      "Optimization restart 10/10, f = 148.98854598649064\n",
      "(5_w,10)-aCMA-ES (mu_w=3.2,w_1=45%) in dimension 8 (seed=722743, Wed Jul  7 13:04:45 2021)\n",
      "Iterat #Fevals   function value  axis ratio  sigma  min&max std  t[m:s]\n",
      "    1     10 -4.306504285176488e-01 1.0e+00 2.35e-01  2e-01  2e-01 0:00.0\n",
      "    2     20 -4.318886883294923e-01 1.3e+00 2.30e-01  2e-01  2e-01 0:00.1\n",
      "    3     30 -4.311696236977759e-01 1.4e+00 2.48e-01  2e-01  3e-01 0:00.1\n",
      "  100   1000 -5.034347248926059e-01 2.2e+01 1.03e-01  7e-03  1e-01 0:02.5\n",
      "  200   2000 -5.037379035863285e-01 4.3e+02 1.30e-02  3e-04  2e-02 0:05.0\n",
      "  300   3000 -5.037439639243106e-01 2.7e+03 3.14e-03  6e-05  2e-03 0:07.4\n",
      "  400   4000 -5.037446194016066e-01 1.0e+04 2.02e-03  2e-05  9e-04 0:10.1\n",
      "  500   5000 -5.037448191470998e-01 1.5e+04 1.00e-02  3e-05  2e-03 0:12.7\n",
      "  600   6000 -5.037459440204612e-01 7.1e+03 3.20e-02  4e-05  3e-03 0:15.3\n",
      "  700   7000 -5.037465362164287e-01 7.4e+03 4.62e-02  2e-05  2e-03 0:17.4\n",
      "  800   8000 -5.037467070516923e-01 1.6e+04 7.58e-02  2e-05  1e-03 0:19.5\n",
      "  900   9000 -5.037485814420795e-01 7.1e+03 1.00e+00  1e-04  6e-03 0:21.8\n",
      " 1000  10000 -5.037503706085720e-01 6.9e+03 1.20e+00  7e-05  4e-03 0:24.0\n",
      "Iterat #Fevals   function value  axis ratio  sigma  min&max std  t[m:s]\n",
      " 1100  11000 -5.037514252318368e-01 5.4e+03 3.95e+00  7e-05  4e-03 0:26.1\n",
      " 1200  12000 -5.037541059822890e-01 4.1e+03 1.54e+01  9e-05  8e-03 0:28.1\n",
      " 1300  13000 -5.037547749003634e-01 8.9e+03 7.58e+00  2e-05  2e-03 0:30.3\n",
      " 1400  14000 -5.037557651758510e-01 6.0e+03 3.77e+01  4e-05  3e-03 0:32.7\n",
      " 1500  15000 -5.037571130017577e-01 5.6e+03 9.92e+01  7e-05  4e-03 0:34.8\n",
      " 1600  16000 -5.037577426430769e-01 7.3e+03 1.05e+02  2e-05  2e-03 0:36.9\n",
      " 1700  17000 -5.037581400271038e-01 1.2e+04 1.17e+02  1e-05  8e-04 0:39.0\n",
      " 1800  18000 -5.037585073677229e-01 9.9e+03 2.60e+02  1e-05  9e-04 0:41.2\n",
      " 1900  19000 -5.037585917494479e-01 2.5e+04 2.65e+02  5e-06  4e-04 0:43.3\n",
      " 2000  20000 -5.037586490639153e-01 2.9e+04 1.75e+03  2e-05  1e-03 0:45.5\n",
      "Iterat #Fevals   function value  axis ratio  sigma  min&max std  t[m:s]\n",
      " 2100  21000 -5.037587113645726e-01 3.0e+04 1.36e+03  8e-06  4e-04 0:47.6\n",
      " 2200  22000 -5.037587208063160e-01 8.7e+04 9.27e+02  3e-06  2e-04 0:49.8\n",
      " 2300  23000 -5.037587262681142e-01 8.3e+04 2.17e+03  2e-06  1e-04 0:52.1\n",
      " 2400  24000 -5.037587275177101e-01 2.3e+05 1.83e+03  7e-07  7e-05 0:54.2\n",
      " 2500  25000 -5.037587278709648e-01 5.6e+05 1.56e+03  3e-07  4e-05 0:56.4\n",
      " 2581  25810 -5.037587279289937e-01 1.0e+00 1.69e+03  2e+03  2e+03 0:58.3\n"
     ]
    },
    {
     "name": "stderr",
     "output_type": "stream",
     "text": [
      " /home/finley/miniconda3/envs/testsuite/lib/python3.8/site-packages/cma/utilities/utils.py:329: UserWarning:\n",
      "        geno-pheno transformation introduced based on the\n",
      "        current covariance matrix with condition 1.0e+12 -> 1.0e+00,\n",
      "        injected solutions become \"invalid\" in this iteration (class=CMAEvolutionStrategy method=alleviate_conditioning iteration=2580)\n"
     ]
    },
    {
     "name": "stdout",
     "output_type": "stream",
     "text": [
      "termination on tolfacupx=1000.0 (Wed Jul  7 13:05:47 2021)\n",
      "final/bestever f-value = -5.037587e-01 -5.037587e-01\n",
      "incumbent solution: [1.0645909688141728, 1.8142161069481517, 2.494006403251115, 1.5637789574084309, 1.8027511077181452e-10, 11.839475379840882, 13.999999999661288, 15.99999999997689]\n",
      "std deviation: [1787.2012471999724, 1613.619924942368, 1680.1992314829065, 1681.6867086046063, 1684.1367548564717, 1668.8804400502563, 1644.5941566785443, 1680.14675801434]\n"
     ]
    },
    {
     "name": "stderr",
     "output_type": "stream",
     "text": [
      "reconstraining parameters GP_regression.Mat52.lengthscale\n",
      "reconstraining parameters GP_regression.Mat52.variance\n",
      "reconstraining parameters GP_regression.Gaussian_noise.variance\n"
     ]
    },
    {
     "name": "stdout",
     "output_type": "stream",
     "text": [
      "Optimization restart 1/10, f = 65.45578771950348\n",
      "Optimization restart 2/10, f = 707.5930641631226\n",
      "Optimization restart 3/10, f = 3227479963.8860784\n",
      "Optimization restart 4/10, f = 65.45578771950912\n",
      "Optimization restart 5/10, f = 164.7808375385143\n",
      "Optimization restart 6/10, f = 150.4074845196953\n",
      "Optimization restart 7/10, f = 150.40748451969532\n",
      "Optimization restart 8/10, f = 150.40748451970128\n",
      "Optimization restart 9/10, f = 707.5930641631226\n"
     ]
    },
    {
     "name": "stderr",
     "output_type": "stream",
     "text": [
      "reconstraining parameters GP_regression.Mat52.lengthscale\n",
      "reconstraining parameters GP_regression.Mat52.variance\n",
      "reconstraining parameters GP_regression.Gaussian_noise.variance\n"
     ]
    },
    {
     "name": "stdout",
     "output_type": "stream",
     "text": [
      "Optimization restart 10/10, f = 65.45578771949728\n",
      "Optimization restart 1/10, f = 115.43427608778211\n",
      "Optimization restart 2/10, f = 150.4074845197358\n",
      "Optimization restart 3/10, f = 264.08529795989944\n",
      "Optimization restart 4/10, f = 115.43427608759293\n",
      "Optimization restart 5/10, f = 150.40748388641015\n",
      "Optimization restart 6/10, f = 707.5930641631226\n",
      "Optimization restart 7/10, f = 115.4342760875932\n",
      "Optimization restart 8/10, f = 115.43427608779177\n",
      "Optimization restart 9/10, f = 707.5930641631226\n"
     ]
    },
    {
     "name": "stderr",
     "output_type": "stream",
     "text": [
      "reconstraining parameters GP_regression.Mat52.lengthscale\n",
      "reconstraining parameters GP_regression.Mat52.variance\n",
      "reconstraining parameters GP_regression.Gaussian_noise.variance\n"
     ]
    },
    {
     "name": "stdout",
     "output_type": "stream",
     "text": [
      "Optimization restart 10/10, f = 150.40748451969628\n",
      "Optimization restart 1/10, f = 92.66688138531558\n",
      "Optimization restart 2/10, f = 92.66688138536401\n",
      "Optimization restart 3/10, f = 150.4074845196953\n",
      "Optimization restart 4/10, f = 150.40748451969532\n",
      "Optimization restart 5/10, f = 5294192.570113682\n",
      "Optimization restart 6/10, f = 150.4074845196953\n",
      "Optimization restart 7/10, f = 150.40748451969526\n",
      "Optimization restart 8/10, f = 231.7442287673839\n",
      "Optimization restart 9/10, f = 2511948630.1949196\n",
      "Optimization restart 10/10, f = 92.66688138531589\n",
      "(5_w,10)-aCMA-ES (mu_w=3.2,w_1=45%) in dimension 8 (seed=756702, Wed Jul  7 13:05:56 2021)\n",
      "Iterat #Fevals   function value  axis ratio  sigma  min&max std  t[m:s]\n",
      "    1     10 -4.440458240359203e-01 1.0e+00 2.26e-01  2e-01  2e-01 0:00.0\n",
      "    2     20 -4.446828064572012e-01 1.2e+00 2.33e-01  2e-01  2e-01 0:00.1\n",
      "    3     30 -4.457640661861548e-01 1.4e+00 2.60e-01  2e-01  3e-01 0:00.1\n",
      "  100   1000 -5.019982035100081e-01 1.1e+01 2.32e-01  3e-02  3e-01 0:02.6\n",
      "  200   2000 -5.034033559552966e-01 2.6e+02 1.68e-02  1e-03  2e-02 0:04.8\n",
      "  300   3000 -5.034178515393362e-01 1.3e+03 7.15e-03  3e-04  5e-03 0:07.0\n",
      "  400   4000 -5.034184717624899e-01 1.1e+04 4.79e-03  1e-04  2e-03 0:09.3\n",
      "  500   5000 -5.034185300694998e-01 5.4e+04 1.34e-03  2e-05  4e-04 0:11.5\n",
      "  600   6000 -5.034185351324819e-01 9.6e+04 2.24e-03  2e-05  3e-04 0:14.1\n",
      "  700   7000 -5.034185371465478e-01 1.9e+05 1.39e-03  5e-06  1e-04 0:16.5\n",
      "  800   8000 -5.034185380192123e-01 3.1e+05 3.20e-03  4e-06  1e-04 0:18.6\n",
      "  900   9000 -5.034185382302114e-01 5.3e+05 1.31e-03  1e-06  3e-05 0:20.8\n",
      " 1000  10000 -5.034185382851399e-01 7.4e+05 1.49e-03  5e-07  1e-05 0:23.1\n",
      "Iterat #Fevals   function value  axis ratio  sigma  min&max std  t[m:s]\n",
      " 1085  10850 -5.034185383488885e-01 6.1e+05 2.37e-03  4e-07  8e-06 0:24.9\n",
      "termination on tolfun=1e-11 (Wed Jul  7 13:06:23 2021)\n",
      "final/bestever f-value = -5.034185e-01 -5.034185e-01\n",
      "incumbent solution: [1.0222156564478302, 1.73244324066613, 2.2516214743317295, 1.7200847618557056, 4.096346998583901e-11, 11.493197950586065, 13.99999999937424, 15.999999997861106]\n",
      "std deviation: [4.27224585404284e-07, 1.3551019774361987e-06, 2.4238292601268485e-06, 3.847930703386523e-06, 2.2174628413488816e-06, 6.4292195548353886e-06, 7.98785445314283e-06, 8.412779265014955e-06]\n"
     ]
    },
    {
     "name": "stderr",
     "output_type": "stream",
     "text": [
      "reconstraining parameters GP_regression.Mat52.lengthscale\n",
      "reconstraining parameters GP_regression.Mat52.variance\n",
      "reconstraining parameters GP_regression.Gaussian_noise.variance\n"
     ]
    },
    {
     "name": "stdout",
     "output_type": "stream",
     "text": [
      "Optimization restart 1/10, f = 63.178659123297216\n",
      "Optimization restart 2/10, f = 151.82642305290003\n",
      "Optimization restart 3/10, f = 63.17865912278582\n",
      "Optimization restart 4/10, f = 63.178659122728774\n",
      "Optimization restart 5/10, f = 63.17865912273358\n",
      "Optimization restart 6/10, f = 63.178659122740996\n",
      "Optimization restart 7/10, f = 63.17865912275053\n",
      "Optimization restart 8/10, f = 63.17865912272319\n",
      "Optimization restart 9/10, f = 151.82642305289997\n"
     ]
    },
    {
     "name": "stderr",
     "output_type": "stream",
     "text": [
      "reconstraining parameters GP_regression.Mat52.lengthscale\n",
      "reconstraining parameters GP_regression.Mat52.variance\n",
      "reconstraining parameters GP_regression.Gaussian_noise.variance\n"
     ]
    },
    {
     "name": "stdout",
     "output_type": "stream",
     "text": [
      "Optimization restart 10/10, f = 63.178659123086334\n",
      "Optimization restart 1/10, f = 116.02773929835271\n",
      "Optimization restart 2/10, f = 151.8264230529\n",
      "Optimization restart 3/10, f = 151.82642305289994\n",
      "Optimization restart 4/10, f = 3926235243.914177\n",
      "Optimization restart 5/10, f = 151.82642305290176\n",
      "Optimization restart 6/10, f = 714.2684704288123\n",
      "Optimization restart 7/10, f = 263.1475894061856\n",
      "Optimization restart 8/10, f = 151.82642305289994\n"
     ]
    },
    {
     "name": "stderr",
     "output_type": "stream",
     "text": [
      "reconstraining parameters GP_regression.Mat52.lengthscale\n",
      "reconstraining parameters GP_regression.Mat52.variance\n",
      "reconstraining parameters GP_regression.Gaussian_noise.variance\n"
     ]
    },
    {
     "name": "stdout",
     "output_type": "stream",
     "text": [
      "Optimization restart 9/10, f = 116.02773929822584\n",
      "Optimization restart 10/10, f = 714.2684704288123\n",
      "Optimization restart 1/10, f = 91.04160244872372\n",
      "Optimization restart 2/10, f = 714.2684704288123\n",
      "Optimization restart 3/10, f = 714.2684704288123\n",
      "Optimization restart 4/10, f = 151.82642305290557\n",
      "Optimization restart 5/10, f = 91.04160244871088\n",
      "Optimization restart 6/10, f = 714.2684704288123\n",
      "Optimization restart 7/10, f = 151.82642305289997\n",
      "Optimization restart 8/10, f = 91.04160244864633\n",
      "Optimization restart 9/10, f = 151.82642305289997\n",
      "Optimization restart 10/10, f = 5344137.783039285\n",
      "(5_w,10)-aCMA-ES (mu_w=3.2,w_1=45%) in dimension 8 (seed=718358, Wed Jul  7 13:06:30 2021)\n",
      "Iterat #Fevals   function value  axis ratio  sigma  min&max std  t[m:s]\n",
      "    1     10 -4.358405155302935e-01 1.0e+00 2.45e-01  2e-01  3e-01 0:00.0\n",
      "    2     20 -4.368613993377751e-01 1.2e+00 2.50e-01  2e-01  3e-01 0:00.1\n",
      "    3     30 -4.382782835303917e-01 1.3e+00 2.87e-01  3e-01  3e-01 0:00.1\n",
      "  100   1000 -4.759125169655044e-01 1.2e+01 6.48e-02  1e-02  9e-02 0:02.3\n",
      "  200   2000 -4.763479728134998e-01 6.1e+01 9.13e-02  1e-02  6e-02 0:04.4\n",
      "  300   3000 -4.764158352269722e-01 2.2e+02 1.85e-02  8e-04  9e-03 0:06.6\n",
      "  400   4000 -4.764178738693829e-01 1.3e+03 2.14e-03  5e-05  6e-04 0:08.7\n",
      "  500   5000 -4.764178922933965e-01 2.1e+04 1.95e-04  3e-06  5e-05 0:11.5\n",
      "  557   5570 -4.764178923505279e-01 1.2e+05 3.62e-05  4e-07  8e-06 0:12.7\n",
      "termination on tolfun=1e-11 (Wed Jul  7 13:06:43 2021)\n",
      "final/bestever f-value = -4.764179e-01 -4.764179e-01\n",
      "incumbent solution: [0.8431359455875095, 1.821538687665767, 9.048613951882823e-10, 1.6301341116639805, 8.966810114080213, 11.999999999135355, 13.999999996394731, 15.999999999670452]\n",
      "std deviation: [1.11193442860224e-06, 1.9310772170775004e-06, 8.532142323411751e-07, 1.5293357044965632e-06, 3.916784134353927e-07, 6.2046516870660565e-06, 8.206902757307433e-06, 8.163018587553608e-06]\n"
     ]
    },
    {
     "name": "stderr",
     "output_type": "stream",
     "text": [
      "reconstraining parameters GP_regression.Mat52.lengthscale\n",
      "reconstraining parameters GP_regression.Mat52.variance\n",
      "reconstraining parameters GP_regression.Gaussian_noise.variance\n"
     ]
    },
    {
     "name": "stdout",
     "output_type": "stream",
     "text": [
      "Optimization restart 1/10, f = 64.33956836730125\n",
      "Optimization restart 2/10, f = 5394082.995964883\n",
      "Optimization restart 3/10, f = 64.33956836820226\n",
      "Optimization restart 4/10, f = 153.2453615861047\n",
      "Optimization restart 5/10, f = 64.3395683672756\n",
      "Optimization restart 6/10, f = 64.33956836730995\n",
      "Optimization restart 7/10, f = 153.24536158610474\n",
      "Optimization restart 8/10, f = 720.9438766945021\n",
      "Optimization restart 9/10, f = 153.2453615861055\n"
     ]
    },
    {
     "name": "stderr",
     "output_type": "stream",
     "text": [
      "reconstraining parameters GP_regression.Mat52.lengthscale\n",
      "reconstraining parameters GP_regression.Mat52.variance\n",
      "reconstraining parameters GP_regression.Gaussian_noise.variance\n"
     ]
    },
    {
     "name": "stdout",
     "output_type": "stream",
     "text": [
      "Optimization restart 10/10, f = 64.33956836728092\n",
      "Optimization restart 1/10, f = 116.84600391482891\n",
      "Optimization restart 2/10, f = 153.24536158610792\n",
      "Optimization restart 3/10, f = 153.24536158615123\n",
      "Optimization restart 4/10, f = 264.7770696149119\n",
      "Optimization restart 5/10, f = 3969567551.283474\n",
      "Optimization restart 6/10, f = 3970191248.0425863\n",
      "Optimization restart 7/10, f = 153.24536158610465\n",
      "Optimization restart 8/10, f = 116.84600391485961\n"
     ]
    },
    {
     "name": "stderr",
     "output_type": "stream",
     "text": [
      "reconstraining parameters GP_regression.Mat52.lengthscale\n"
     ]
    },
    {
     "name": "stdout",
     "output_type": "stream",
     "text": [
      "Optimization restart 9/10, f = 116.84600391483045\n",
      "Optimization restart 10/10, f = 153.24536158610465\n"
     ]
    },
    {
     "name": "stderr",
     "output_type": "stream",
     "text": [
      "reconstraining parameters GP_regression.Mat52.variance\n",
      "reconstraining parameters GP_regression.Gaussian_noise.variance\n"
     ]
    },
    {
     "name": "stdout",
     "output_type": "stream",
     "text": [
      "Optimization restart 1/10, f = 92.33418555744609\n",
      "Optimization restart 2/10, f = 153.24536158610468\n",
      "Optimization restart 3/10, f = 92.33418555647292\n",
      "Optimization restart 4/10, f = 92.33418555647444\n",
      "Optimization restart 5/10, f = 153.24536158610465\n",
      "Optimization restart 6/10, f = 2606336425.186839\n",
      "Optimization restart 7/10, f = 92.33418555647424\n",
      "Optimization restart 8/10, f = 2611309072.320258\n",
      "Optimization restart 9/10, f = 720.9438766945021\n",
      "Optimization restart 10/10, f = 720.9438766945021\n",
      "(5_w,10)-aCMA-ES (mu_w=3.2,w_1=45%) in dimension 8 (seed=716669, Wed Jul  7 13:06:50 2021)\n",
      "Iterat #Fevals   function value  axis ratio  sigma  min&max std  t[m:s]\n",
      "    1     10 -4.542227020198253e-01 1.0e+00 2.83e-01  3e-01  3e-01 0:00.0\n",
      "    2     20 -4.523968301732632e-01 1.2e+00 2.94e-01  3e-01  3e-01 0:00.1\n",
      "    3     30 -4.478846509503073e-01 1.3e+00 2.88e-01  3e-01  3e-01 0:00.1\n",
      "  100   1000 -5.100003647376795e-01 2.6e+01 2.55e-02  3e-03  3e-02 0:02.4\n",
      "  200   2000 -5.100528756479268e-01 1.3e+03 2.01e-03  1e-04  2e-03 0:04.6\n",
      "  300   3000 -5.100529209011171e-01 8.9e+04 3.00e-05  8e-07  2e-05 0:06.8\n",
      "  336   3360 -5.100529209159639e-01 4.0e+05 2.10e-05  6e-07  1e-05 0:07.5\n",
      "termination on tolfun=1e-11 (Wed Jul  7 13:06:58 2021)\n",
      "final/bestever f-value = -5.100529e-01 -5.100529e-01\n",
      "incumbent solution: [0.7059152035989626, 0.9957765075426179, 2.7548603650137276, 3.349506143794627, 2.4343861662282172e-12, 11.999999999655738, 6.61304987507955e-11, 15.999999999920567]\n",
      "std deviation: [7.740019113109369e-07, 5.923877495085435e-07, 2.6697039644903995e-06, 3.8213342979741814e-06, 3.0865316895178883e-06, 1.1439935518093697e-05, 2.853707194077763e-06, 1.241180253936859e-05]\n"
     ]
    },
    {
     "name": "stderr",
     "output_type": "stream",
     "text": [
      "reconstraining parameters GP_regression.Mat52.lengthscale\n",
      "reconstraining parameters GP_regression.Mat52.variance\n",
      "reconstraining parameters GP_regression.Gaussian_noise.variance\n"
     ]
    },
    {
     "name": "stdout",
     "output_type": "stream",
     "text": [
      "Optimization restart 1/10, f = 63.26524900927986\n",
      "Optimization restart 2/10, f = 727.619282960192\n",
      "Optimization restart 3/10, f = 63.26524900927411\n",
      "Optimization restart 4/10, f = 63.265249009280225\n",
      "Optimization restart 5/10, f = 63.265249009274655\n",
      "Optimization restart 6/10, f = 154.66430011930953\n",
      "Optimization restart 7/10, f = 154.66430011930933\n",
      "Optimization restart 8/10, f = 154.6643001193093\n"
     ]
    },
    {
     "name": "stderr",
     "output_type": "stream",
     "text": [
      "reconstraining parameters GP_regression.Mat52.lengthscale\n",
      "reconstraining parameters GP_regression.Mat52.variance\n",
      "reconstraining parameters GP_regression.Gaussian_noise.variance\n"
     ]
    },
    {
     "name": "stdout",
     "output_type": "stream",
     "text": [
      "Optimization restart 9/10, f = 727.619282960192\n",
      "Optimization restart 10/10, f = 727.619282960192\n",
      "Optimization restart 1/10, f = 118.43744864503614\n",
      "Optimization restart 2/10, f = 5444028.2088904865\n",
      "Optimization restart 3/10, f = 118.43744864404809\n",
      "Optimization restart 4/10, f = 118.43744864404303\n",
      "Optimization restart 5/10, f = 118.43744864449238\n",
      "Optimization restart 6/10, f = 154.66430011930933\n",
      "Optimization restart 7/10, f = 4056440638.8188667\n",
      "Optimization restart 8/10, f = 273.19639293789123\n",
      "Optimization restart 9/10, f = 154.6643001193093\n"
     ]
    },
    {
     "name": "stderr",
     "output_type": "stream",
     "text": [
      "reconstraining parameters GP_regression.Mat52.lengthscale\n",
      "reconstraining parameters GP_regression.Mat52.variance\n",
      "reconstraining parameters GP_regression.Gaussian_noise.variance\n"
     ]
    },
    {
     "name": "stdout",
     "output_type": "stream",
     "text": [
      "Optimization restart 10/10, f = 154.66430011931422\n",
      "Optimization restart 1/10, f = 91.42749619731892\n",
      "Optimization restart 2/10, f = 154.6643001193093\n",
      "Optimization restart 3/10, f = 91.42749619728733\n",
      "Optimization restart 4/10, f = 91.4274961974502\n",
      "Optimization restart 5/10, f = 154.6643001193093\n",
      "Optimization restart 6/10, f = 232.07011910566752\n",
      "Optimization restart 7/10, f = 154.6643001193093\n",
      "Optimization restart 8/10, f = 154.6643001193093\n",
      "Optimization restart 9/10, f = 154.6643001193093\n",
      "Optimization restart 10/10, f = 91.42749619728565\n",
      "(5_w,10)-aCMA-ES (mu_w=3.2,w_1=45%) in dimension 8 (seed=758045, Wed Jul  7 13:07:06 2021)\n",
      "Iterat #Fevals   function value  axis ratio  sigma  min&max std  t[m:s]\n",
      "    1     10 -4.655971476306917e-01 1.0e+00 2.49e-01  2e-01  3e-01 0:00.0\n",
      "    2     20 -4.635425714613635e-01 1.3e+00 2.57e-01  2e-01  3e-01 0:00.1\n",
      "    3     30 -4.630637826919183e-01 1.4e+00 2.56e-01  2e-01  3e-01 0:00.2\n",
      "  100   1000 -4.870428272709061e-01 4.0e+01 1.14e-01  2e-02  2e-01 0:02.6\n",
      "  200   2000 -4.981727092890433e-01 9.9e+01 1.63e-01  7e-03  2e-01 0:04.9\n",
      "  300   3000 -4.985481179907015e-01 2.6e+02 4.26e-02  2e-03  2e-02 0:07.2\n",
      "  400   4000 -4.985528857703979e-01 3.6e+03 2.04e-03  5e-05  8e-04 0:09.5\n",
      "  500   5000 -4.985530177738661e-01 1.0e+04 4.43e-03  7e-05  9e-04 0:11.9\n",
      "  600   6000 -4.985530790612961e-01 1.6e+04 7.85e-03  6e-05  8e-04 0:14.4\n",
      "  700   7000 -4.985530987181228e-01 3.6e+04 4.69e-03  2e-05  2e-04 0:16.7\n",
      "  800   8000 -4.985531052429590e-01 3.8e+04 1.21e-02  2e-05  2e-04 0:18.9\n",
      "  900   9000 -4.985531071443146e-01 8.9e+04 1.57e-02  1e-05  2e-04 0:21.1\n",
      " 1000  10000 -4.985531077397368e-01 1.0e+05 1.93e-02  6e-06  8e-05 0:23.3\n",
      "Iterat #Fevals   function value  axis ratio  sigma  min&max std  t[m:s]\n",
      " 1100  11000 -4.985531079562214e-01 2.5e+05 1.32e-02  2e-06  2e-05 0:25.5\n",
      " 1200  12000 -4.985531080356111e-01 5.5e+05 1.39e-02  8e-07  1e-05 0:27.8\n",
      " 1241  12410 -4.985531080502851e-01 5.4e+05 1.55e-02  7e-07  1e-05 0:28.7\n",
      "termination on tolfun=1e-11 (Wed Jul  7 13:07:37 2021)\n",
      "final/bestever f-value = -4.985531e-01 -4.985531e-01\n",
      "incumbent solution: [0.8991880076734612, 1.4369335899618723, 0.39498486368489766, 0.8818146253291691, 2.07740218279879e-11, 11.999999999797504, 13.999999903466135, 15.999999999878485]\n",
      "std deviation: [7.42072410930034e-07, 1.3236333930448695e-06, 3.80271629794237e-06, 6.067250514684378e-06, 2.5303326495537947e-06, 7.142518631393314e-06, 5.776703888883382e-06, 9.839737185494538e-06]\n"
     ]
    },
    {
     "name": "stderr",
     "output_type": "stream",
     "text": [
      "reconstraining parameters GP_regression.Mat52.lengthscale\n",
      "reconstraining parameters GP_regression.Mat52.variance\n",
      "reconstraining parameters GP_regression.Gaussian_noise.variance\n"
     ]
    },
    {
     "name": "stdout",
     "output_type": "stream",
     "text": [
      "Optimization restart 1/10, f = 64.10853529585512\n",
      "Optimization restart 2/10, f = 734.2946892258817\n",
      "Optimization restart 3/10, f = 167.67448219999318\n",
      "Optimization restart 4/10, f = 64.10853529539695\n",
      "Optimization restart 5/10, f = 3329492444.256129\n",
      "Optimization restart 6/10, f = 156.08323865251398\n",
      "Optimization restart 7/10, f = 156.083238652514\n",
      "Optimization restart 8/10, f = 167.67447771019062\n",
      "Optimization restart 9/10, f = 64.1085352954085\n"
     ]
    },
    {
     "name": "stderr",
     "output_type": "stream",
     "text": [
      "reconstraining parameters GP_regression.Mat52.lengthscale\n",
      "reconstraining parameters GP_regression.Mat52.variance\n",
      "reconstraining parameters GP_regression.Gaussian_noise.variance\n"
     ]
    },
    {
     "name": "stdout",
     "output_type": "stream",
     "text": [
      "Optimization restart 10/10, f = 64.10853529541373\n",
      "Optimization restart 1/10, f = 119.37390778770262\n",
      "Optimization restart 2/10, f = 119.37390778730966\n",
      "Optimization restart 3/10, f = 119.37390778732008\n",
      "Optimization restart 4/10, f = 5493973.421816085\n",
      "Optimization restart 5/10, f = 734.2946892258817\n",
      "Optimization restart 6/10, f = 156.08323865251438\n",
      "Optimization restart 7/10, f = 156.0832386525141\n",
      "Optimization restart 8/10, f = 734.2946892258817\n",
      "Optimization restart 9/10, f = 156.08323865251398\n"
     ]
    },
    {
     "name": "stderr",
     "output_type": "stream",
     "text": [
      "reconstraining parameters GP_regression.Mat52.lengthscale\n",
      "reconstraining parameters GP_regression.Mat52.variance\n",
      "reconstraining parameters GP_regression.Gaussian_noise.variance\n"
     ]
    },
    {
     "name": "stdout",
     "output_type": "stream",
     "text": [
      "Optimization restart 10/10, f = 119.37390778760033\n",
      "Optimization restart 1/10, f = 92.1714854315853\n",
      "Optimization restart 2/10, f = 92.17148543167669\n",
      "Optimization restart 3/10, f = 231.33669179184884\n",
      "Optimization restart 4/10, f = 92.17148543173859\n",
      "Optimization restart 5/10, f = 92.17148543160792\n",
      "Optimization restart 6/10, f = 156.08323865251484\n",
      "Optimization restart 7/10, f = 734.2946892258817\n",
      "Optimization restart 8/10, f = 92.17148543158507\n",
      "Optimization restart 9/10, f = 734.2946892258817\n",
      "Optimization restart 10/10, f = 92.17148543158176\n",
      "(5_w,10)-aCMA-ES (mu_w=3.2,w_1=45%) in dimension 8 (seed=739185, Wed Jul  7 13:07:45 2021)\n",
      "Iterat #Fevals   function value  axis ratio  sigma  min&max std  t[m:s]\n",
      "    1     10 -4.320470992292813e-01 1.0e+00 2.42e-01  2e-01  3e-01 0:00.0\n",
      "    2     20 -4.436145726875864e-01 1.2e+00 2.73e-01  3e-01  3e-01 0:00.1\n",
      "    3     30 -4.489968766259150e-01 1.5e+00 3.35e-01  3e-01  4e-01 0:00.1\n",
      "  100   1000 -4.874765218278179e-01 3.5e+01 1.95e-01  3e-02  3e-01 0:02.2\n",
      "  200   2000 -4.904255254079561e-01 1.3e+02 2.94e-02  2e-03  3e-02 0:04.6\n",
      "  300   3000 -4.904528255444351e-01 8.3e+02 3.61e-03  2e-04  2e-03 0:06.8\n",
      "  400   4000 -4.904537458141821e-01 4.2e+03 5.84e-03  2e-04  2e-03 0:09.4\n",
      "  500   5000 -4.904538537020984e-01 1.8e+04 4.40e-03  8e-05  1e-03 0:11.6\n",
      "  600   6000 -4.904538980061202e-01 2.7e+04 1.69e-03  2e-05  2e-04 0:13.7\n",
      "  700   7000 -4.904539074943551e-01 6.3e+04 4.09e-03  2e-05  3e-04 0:15.9\n",
      "  800   8000 -4.904539099766049e-01 1.4e+05 5.09e-03  9e-06  2e-04 0:18.1\n",
      "  900   9000 -4.904539126958219e-01 9.1e+04 7.43e-03  5e-06  8e-05 0:20.5\n",
      " 1000  10000 -4.904539129033015e-01 2.3e+05 1.33e-02  5e-06  7e-05 0:22.8\n",
      "Iterat #Fevals   function value  axis ratio  sigma  min&max std  t[m:s]\n",
      " 1100  11000 -4.904539131967965e-01 4.8e+05 1.11e-02  1e-06  3e-05 0:25.1\n",
      " 1177  11770 -4.904539132223248e-01 8.4e+05 6.79e-03  5e-07  1e-05 0:26.8\n",
      "termination on tolfun=1e-11 (Wed Jul  7 13:08:13 2021)\n",
      "final/bestever f-value = -4.904539e-01 -4.904539e-01\n",
      "incumbent solution: [0.6960506603971525, 1.3123449130276599, 5.999999998742593, 0.6225368956086464, 1.8099747970438407e-10, 8.73681831401633, 6.635076466785435e-11, 15.999999999970086]\n",
      "std deviation: [5.168119557285798e-07, 1.4233059659376222e-06, 1.768407601598111e-06, 1.8078561391220413e-06, 2.1840032397323178e-06, 1.54128000433335e-06, 2.067707741572362e-06, 9.502988897614342e-06]\n"
     ]
    },
    {
     "name": "stderr",
     "output_type": "stream",
     "text": [
      "reconstraining parameters GP_regression.Mat52.lengthscale\n",
      "reconstraining parameters GP_regression.Mat52.variance\n",
      "reconstraining parameters GP_regression.Gaussian_noise.variance\n"
     ]
    },
    {
     "name": "stdout",
     "output_type": "stream",
     "text": [
      "Optimization restart 1/10, f = 66.45625317441068\n",
      "Optimization restart 2/10, f = 66.45625317421586\n",
      "Optimization restart 3/10, f = 157.50217718571866\n",
      "Optimization restart 4/10, f = 66.45625317421911\n",
      "Optimization restart 5/10, f = 740.9700954915716\n",
      "Optimization restart 6/10, f = 157.50217718571866\n",
      "Optimization restart 7/10, f = 157.50217718571866\n",
      "Optimization restart 8/10, f = 169.27136247230922\n",
      "Optimization restart 9/10, f = 66.45625317417367\n"
     ]
    },
    {
     "name": "stderr",
     "output_type": "stream",
     "text": [
      "reconstraining parameters GP_regression.Mat52.lengthscale\n",
      "reconstraining parameters GP_regression.Mat52.variance\n",
      "reconstraining parameters GP_regression.Gaussian_noise.variance\n"
     ]
    },
    {
     "name": "stdout",
     "output_type": "stream",
     "text": [
      "Optimization restart 10/10, f = 66.45625317418742\n",
      "Optimization restart 1/10, f = 119.99480187109825\n",
      "Optimization restart 2/10, f = 740.9700954915716\n",
      "Optimization restart 3/10, f = 740.9700954915716\n",
      "Optimization restart 4/10, f = 5543918.634741687\n",
      "Optimization restart 5/10, f = 119.99480187111482\n",
      "Optimization restart 6/10, f = 740.9700954815942\n",
      "Optimization restart 7/10, f = 740.9700954915716\n",
      "Optimization restart 8/10, f = 119.99480187109532\n",
      "Optimization restart 9/10, f = 273.84411124738796\n"
     ]
    },
    {
     "name": "stderr",
     "output_type": "stream",
     "text": [
      "reconstraining parameters GP_regression.Mat52.lengthscale\n",
      "reconstraining parameters GP_regression.Mat52.variance\n",
      "reconstraining parameters GP_regression.Gaussian_noise.variance\n"
     ]
    },
    {
     "name": "stdout",
     "output_type": "stream",
     "text": [
      "Optimization restart 10/10, f = 119.99480187109558\n",
      "Optimization restart 1/10, f = 92.71668517110336\n",
      "Optimization restart 2/10, f = 5543918.634741686\n",
      "Optimization restart 3/10, f = 92.71668517108738\n",
      "Optimization restart 4/10, f = 92.71668517167015\n",
      "Optimization restart 5/10, f = 2642086246.9091945\n",
      "Optimization restart 6/10, f = 157.50217718571866\n",
      "Optimization restart 7/10, f = 157.50212736225023\n",
      "Optimization restart 8/10, f = 92.71668517107769\n",
      "Optimization restart 9/10, f = 231.04602767339978\n",
      "Optimization restart 10/10, f = 157.50217718571866\n",
      "(5_w,10)-aCMA-ES (mu_w=3.2,w_1=45%) in dimension 8 (seed=720379, Wed Jul  7 13:08:21 2021)\n",
      "Iterat #Fevals   function value  axis ratio  sigma  min&max std  t[m:s]\n",
      "    1     10 -4.489869783728299e-01 1.0e+00 2.45e-01  2e-01  3e-01 0:00.0\n",
      "    2     20 -4.499023018662075e-01 1.2e+00 2.52e-01  2e-01  3e-01 0:00.1\n",
      "    3     30 -4.495099561854297e-01 1.4e+00 2.41e-01  2e-01  3e-01 0:00.1\n",
      "  100   1000 -4.765507876680482e-01 2.8e+01 5.47e-02  1e-02  7e-02 0:02.3\n",
      "  200   2000 -4.766851056421311e-01 1.3e+02 1.05e-01  1e-02  9e-02 0:04.5\n",
      "  300   3000 -4.769426903609115e-01 2.9e+01 2.53e-01  1e-02  7e-02 0:06.7\n",
      "  400   4000 -4.771365384930671e-01 3.4e+01 2.86e-01  3e-03  4e-02 0:08.9\n",
      "  500   5000 -4.771574323641127e-01 1.3e+02 7.50e-02  2e-04  6e-03 0:11.0\n",
      "  600   6000 -4.771581352223623e-01 7.5e+02 2.71e-02  4e-05  1e-03 0:13.3\n",
      "  700   7000 -4.771581767821661e-01 1.7e+03 1.97e-02  2e-05  4e-04 0:15.8\n",
      "  800   8000 -4.771581822543416e-01 6.6e+03 1.73e-02  1e-05  2e-04 0:18.0\n",
      "  900   9000 -4.771581830765752e-01 2.4e+04 8.07e-03  3e-06  5e-05 0:20.2\n",
      "  984   9840 -4.771581831389590e-01 4.9e+04 6.08e-03  1e-06  2e-05 0:22.0\n"
     ]
    },
    {
     "name": "stderr",
     "output_type": "stream",
     "text": [
      "reconstraining parameters GP_regression.Mat52.lengthscale\n",
      "reconstraining parameters GP_regression.Mat52.variance\n",
      "reconstraining parameters GP_regression.Gaussian_noise.variance\n"
     ]
    },
    {
     "name": "stdout",
     "output_type": "stream",
     "text": [
      "termination on tolfun=1e-11 (Wed Jul  7 13:08:44 2021)\n",
      "final/bestever f-value = -4.771582e-01 -4.771582e-01\n",
      "incumbent solution: [0.7831047260247618, 1.8994724143530883, 3.244170700935699e-11, 0.6643104318875821, 9.999999999995048, 11.999999999988354, 13.999999999701693, 6.401966243263474]\n",
      "std deviation: [5.155092211025588e-06, 7.481203854332835e-06, 5.2849523799097654e-06, 1.261504278463975e-06, 1.6041984457377045e-05, 2.0231762299418836e-05, 1.6954238443805445e-05, 9.95668574366701e-06]\n",
      "Optimization restart 1/10, f = 67.40929210654305\n",
      "Optimization restart 2/10, f = 67.40929210646847\n",
      "Optimization restart 3/10, f = 67.40929210648274\n",
      "Optimization restart 4/10, f = 158.92111571892337\n",
      "Optimization restart 5/10, f = 67.40929210646684\n",
      "Optimization restart 6/10, f = 67.40929210662239\n",
      "Optimization restart 7/10, f = 67.40929210653185\n",
      "Optimization restart 8/10, f = 158.92111571892372\n",
      "Optimization restart 9/10, f = 67.4092921064854\n"
     ]
    },
    {
     "name": "stderr",
     "output_type": "stream",
     "text": [
      "reconstraining parameters GP_regression.Mat52.lengthscale\n",
      "reconstraining parameters GP_regression.Mat52.variance\n",
      "reconstraining parameters GP_regression.Gaussian_noise.variance\n"
     ]
    },
    {
     "name": "stdout",
     "output_type": "stream",
     "text": [
      "Optimization restart 10/10, f = 158.92111571892337\n",
      "Optimization restart 1/10, f = 120.61115403969649\n",
      "Optimization restart 2/10, f = 158.92111571892332\n",
      "Optimization restart 3/10, f = 120.61115403969532\n",
      "Optimization restart 4/10, f = 120.61115403969438\n",
      "Optimization restart 5/10, f = 120.61115403974647\n",
      "Optimization restart 6/10, f = 158.92111571892332\n",
      "Optimization restart 7/10, f = 158.92111571892343\n",
      "Optimization restart 8/10, f = 4222242418.3341346\n"
     ]
    },
    {
     "name": "stderr",
     "output_type": "stream",
     "text": [
      "reconstraining parameters GP_regression.Mat52.lengthscale\n"
     ]
    },
    {
     "name": "stdout",
     "output_type": "stream",
     "text": [
      "Optimization restart 9/10, f = 120.61115403969407\n",
      "Optimization restart 10/10, f = 158.92111571892332\n"
     ]
    },
    {
     "name": "stderr",
     "output_type": "stream",
     "text": [
      "reconstraining parameters GP_regression.Mat52.variance\n",
      "reconstraining parameters GP_regression.Gaussian_noise.variance\n"
     ]
    },
    {
     "name": "stdout",
     "output_type": "stream",
     "text": [
      "Optimization restart 1/10, f = 93.91423747381336\n",
      "Optimization restart 2/10, f = 158.92111571892335\n",
      "Optimization restart 3/10, f = 158.92111571892335\n",
      "Optimization restart 4/10, f = 2803002103.328551\n",
      "Optimization restart 5/10, f = 2805271835.2341313\n",
      "Optimization restart 6/10, f = 158.9211154858598\n",
      "Optimization restart 7/10, f = 232.25798818139538\n",
      "Optimization restart 8/10, f = 747.6455017572615\n",
      "Optimization restart 9/10, f = 2803128303.711585\n",
      "Optimization restart 10/10, f = 158.92111571892335\n",
      "(5_w,10)-aCMA-ES (mu_w=3.2,w_1=45%) in dimension 8 (seed=746314, Wed Jul  7 13:08:52 2021)\n",
      "Iterat #Fevals   function value  axis ratio  sigma  min&max std  t[m:s]\n",
      "    1     10 -4.448839548608904e-01 1.0e+00 2.65e-01  3e-01  3e-01 0:00.0\n",
      "    2     20 -4.496947568681403e-01 1.3e+00 2.77e-01  3e-01  3e-01 0:00.1\n",
      "    3     30 -4.579445588366365e-01 1.4e+00 3.13e-01  3e-01  3e-01 0:00.1\n",
      "  100   1000 -4.865324889243682e-01 3.0e+01 1.50e-01  2e-02  2e-01 0:02.2\n",
      "  200   2000 -4.926958755004900e-01 1.2e+02 3.00e-01  2e-02  4e-01 0:04.4\n",
      "  300   3000 -5.020592119316410e-01 9.9e+01 3.13e-01  9e-03  2e-01 0:06.5\n",
      "  400   4000 -5.030392306810367e-01 4.1e+02 1.10e-01  1e-03  3e-02 0:08.7\n",
      "  500   5000 -5.030897286524503e-01 1.4e+03 5.16e-02  4e-04  8e-03 0:10.9\n",
      "  600   6000 -5.030915893005091e-01 4.8e+03 2.67e-02  2e-04  2e-03 0:13.1\n",
      "  700   7000 -5.030916432928970e-01 6.9e+04 1.61e-03  6e-06  9e-05 0:15.6\n",
      "  800   8000 -5.030916443077980e-01 3.3e+05 4.15e-04  9e-07  1e-05 0:18.4\n",
      "  832   8320 -5.030916443175963e-01 8.0e+05 4.71e-04  8e-07  1e-05 0:19.1\n",
      "termination on tolfun=1e-11 (Wed Jul  7 13:09:12 2021)\n",
      "final/bestever f-value = -5.030916e-01 -5.030916e-01\n",
      "incumbent solution: [0.9896413567712773, 1.0867301267855012, 0.11123734888086437, 2.707587369504821, 9.408539644278713e-15, 11.999999999994058, 13.999999999571804, 15.999999999998067]\n",
      "std deviation: [8.335587307586749e-07, 1.3661628518613645e-06, 2.911536649107885e-06, 6.526789919442162e-06, 2.9507053112293345e-06, 9.811534448305385e-06, 1.3197887165398555e-05, 1.3401418271703857e-05]\n"
     ]
    },
    {
     "name": "stderr",
     "output_type": "stream",
     "text": [
      "reconstraining parameters GP_regression.Mat52.lengthscale\n",
      "reconstraining parameters GP_regression.Mat52.variance\n",
      "reconstraining parameters GP_regression.Gaussian_noise.variance\n"
     ]
    },
    {
     "name": "stdout",
     "output_type": "stream",
     "text": [
      "Optimization restart 1/10, f = 68.81937995814995\n",
      "Optimization restart 2/10, f = 68.81937995813253\n",
      "Optimization restart 3/10, f = 68.81937995812166\n",
      "Optimization restart 4/10, f = 160.34005425212803\n",
      "Optimization restart 5/10, f = 174.36039450090934\n",
      "Optimization restart 6/10, f = 160.34005323293394\n",
      "Optimization restart 7/10, f = 68.8193799581264\n",
      "Optimization restart 8/10, f = 160.34005425212806\n",
      "Optimization restart 9/10, f = 174.36039198715514\n",
      "Optimization restart 10/10, f = 160.3400542521282\n"
     ]
    },
    {
     "name": "stderr",
     "output_type": "stream",
     "text": [
      "reconstraining parameters GP_regression.Mat52.lengthscale\n",
      "reconstraining parameters GP_regression.Mat52.variance\n",
      "reconstraining parameters GP_regression.Gaussian_noise.variance\n"
     ]
    },
    {
     "name": "stdout",
     "output_type": "stream",
     "text": [
      "Optimization restart 1/10, f = 121.39573532829473\n",
      "Optimization restart 2/10, f = 4239599279.4860973\n",
      "Optimization restart 3/10, f = 160.34005425212803\n",
      "Optimization restart 4/10, f = 160.340054252128\n",
      "Optimization restart 5/10, f = 5643809.060592887\n",
      "Optimization restart 6/10, f = 160.340054252128\n",
      "Optimization restart 7/10, f = 160.340054252128\n",
      "Optimization restart 8/10, f = 4233576778.200364\n",
      "Optimization restart 9/10, f = 754.3209080229514\n"
     ]
    },
    {
     "name": "stderr",
     "output_type": "stream",
     "text": [
      "reconstraining parameters GP_regression.Mat52.lengthscale\n",
      "reconstraining parameters GP_regression.Mat52.variance\n",
      "reconstraining parameters GP_regression.Gaussian_noise.variance\n"
     ]
    },
    {
     "name": "stdout",
     "output_type": "stream",
     "text": [
      "Optimization restart 10/10, f = 121.39573532787509\n",
      "Optimization restart 1/10, f = 94.02522034083034\n",
      "Optimization restart 2/10, f = 5643809.060592888\n",
      "Optimization restart 3/10, f = 94.02522034057763\n",
      "Optimization restart 4/10, f = 2813834462.0848093\n",
      "Optimization restart 5/10, f = 94.02522034057628\n",
      "Optimization restart 6/10, f = 160.34005425205933\n",
      "Optimization restart 7/10, f = 160.34005425212803\n",
      "Optimization restart 8/10, f = 94.02522034057814\n",
      "Optimization restart 9/10, f = 160.34005425212962\n",
      "Optimization restart 10/10, f = 94.02522034074008\n",
      "(5_w,10)-aCMA-ES (mu_w=3.2,w_1=45%) in dimension 8 (seed=762054, Wed Jul  7 13:09:21 2021)\n",
      "Iterat #Fevals   function value  axis ratio  sigma  min&max std  t[m:s]\n",
      "    1     10 -4.415265125830083e-01 1.0e+00 2.46e-01  2e-01  3e-01 0:00.0\n",
      "    2     20 -4.428462463777726e-01 1.2e+00 2.66e-01  3e-01  3e-01 0:00.1\n",
      "    3     30 -4.433833151118879e-01 1.4e+00 3.04e-01  3e-01  3e-01 0:00.1\n",
      "  100   1000 -4.630048398336077e-01 2.2e+01 2.70e-01  4e-02  4e-01 0:02.8\n",
      "  200   2000 -4.726643674762490e-01 1.9e+02 1.63e-02  4e-04  1e-02 0:05.6\n",
      "  300   3000 -4.726706465546707e-01 1.2e+03 5.73e-03  2e-05  3e-03 0:08.5\n",
      "  400   4000 -4.726709718097788e-01 1.2e+04 6.57e-04  1e-07  3e-04 0:11.3\n",
      "  500   5000 -4.726709729387391e-01 9.1e+04 4.48e-04  1e-08  1e-04 0:13.9\n",
      "NOTE (module=cma, iteration=505):  \n",
      "condition in coordinate system exceeded 1.1e+08, rescaled to 1.0e+00, \n",
      "condition changed from 7.6e+09 to 3.3e+02\n",
      "  600   6000 -4.726709733058206e-01 6.6e+01 1.42e-04  4e-10  3e-05 0:16.5\n",
      "  606   6060 -4.726709733064387e-01 7.0e+01 9.00e-05  2e-10  2e-05 0:16.7\n",
      "termination on tolfun=1e-11 (Wed Jul  7 13:09:38 2021)\n",
      "final/bestever f-value = -4.726710e-01 -4.726710e-01\n",
      "incumbent solution: [1.3378273522121449, 0.6258568961082648, 5.999999999185395, 7.999999996246512, 7.770650839275081e-14, 11.99999999995566, 1.3223842807722595e-09, 15.999999999546146]\n",
      "std deviation: [2.0495257515014891e-10, 3.3885710686324375e-10, 4.391144575065756e-06, 3.896060471550946e-06, 3.1120797174894565e-06, 7.865124536692003e-06, 3.2134171900295465e-06, 1.5303667684980803e-05]\n"
     ]
    },
    {
     "name": "stderr",
     "output_type": "stream",
     "text": [
      "reconstraining parameters GP_regression.Mat52.lengthscale\n",
      "reconstraining parameters GP_regression.Mat52.variance\n",
      "reconstraining parameters GP_regression.Gaussian_noise.variance\n"
     ]
    },
    {
     "name": "stdout",
     "output_type": "stream",
     "text": [
      "Optimization restart 1/10, f = 70.52482188408572\n",
      "Optimization restart 2/10, f = 70.52482188380527\n",
      "Optimization restart 3/10, f = 70.5248218839711\n",
      "Optimization restart 4/10, f = 70.52482188379648\n",
      "Optimization restart 5/10, f = 70.52482188379565\n",
      "Optimization restart 6/10, f = 70.52482188396965\n",
      "Optimization restart 7/10, f = 161.75899278533268\n",
      "Optimization restart 8/10, f = 70.52482188378673\n",
      "Optimization restart 9/10, f = 161.75899278533268\n"
     ]
    },
    {
     "name": "stderr",
     "output_type": "stream",
     "text": [
      "reconstraining parameters GP_regression.Mat52.lengthscale\n",
      "reconstraining parameters GP_regression.Mat52.variance\n",
      "reconstraining parameters GP_regression.Gaussian_noise.variance\n"
     ]
    },
    {
     "name": "stdout",
     "output_type": "stream",
     "text": [
      "Optimization restart 10/10, f = 760.9963142886412\n",
      "Optimization restart 1/10, f = 122.78748134144388\n",
      "Optimization restart 2/10, f = 122.78748134145289\n",
      "Optimization restart 3/10, f = 161.75899278533268\n",
      "Optimization restart 4/10, f = 122.78748134144806\n",
      "Optimization restart 5/10, f = 278.1777090042413\n",
      "Optimization restart 6/10, f = 5693754.273518487\n",
      "Optimization restart 7/10, f = 122.78748134150163\n",
      "Optimization restart 8/10, f = 122.78748134149208\n",
      "Optimization restart 9/10, f = 122.78748134145263\n"
     ]
    },
    {
     "name": "stderr",
     "output_type": "stream",
     "text": [
      "reconstraining parameters GP_regression.Mat52.lengthscale\n",
      "reconstraining parameters GP_regression.Mat52.variance\n",
      "reconstraining parameters GP_regression.Gaussian_noise.variance\n"
     ]
    },
    {
     "name": "stdout",
     "output_type": "stream",
     "text": [
      "Optimization restart 10/10, f = 760.9963142886412\n",
      "Optimization restart 1/10, f = 94.93299033464012\n",
      "Optimization restart 2/10, f = 161.75899278533282\n",
      "Optimization restart 3/10, f = 94.93299033462216\n",
      "Optimization restart 4/10, f = 161.75899270731102\n",
      "Optimization restart 5/10, f = 94.93299033461908\n",
      "Optimization restart 6/10, f = 94.9329903346344\n",
      "Optimization restart 7/10, f = 94.93299033471756\n",
      "Optimization restart 8/10, f = 161.7589927853328\n",
      "Optimization restart 9/10, f = 2846489391.6024146\n",
      "Optimization restart 10/10, f = 161.75899278533268\n",
      "(5_w,10)-aCMA-ES (mu_w=3.2,w_1=45%) in dimension 8 (seed=816595, Wed Jul  7 13:09:49 2021)\n",
      "Iterat #Fevals   function value  axis ratio  sigma  min&max std  t[m:s]\n",
      "    1     10 -4.343821942167654e-01 1.0e+00 2.32e-01  2e-01  2e-01 0:00.0\n",
      "    2     20 -4.388878815437439e-01 1.2e+00 2.28e-01  2e-01  2e-01 0:00.1\n",
      "    3     30 -4.383444580282740e-01 1.3e+00 2.41e-01  2e-01  3e-01 0:00.1\n",
      "  100   1000 -4.575309590559434e-01 3.6e+01 3.04e-02  8e-03  4e-02 0:02.9\n",
      "  200   2000 -4.576556866765720e-01 3.6e+02 2.63e-02  3e-03  3e-02 0:05.6\n",
      "  300   3000 -4.576651182623321e-01 1.2e+03 2.17e-02  9e-04  1e-02 0:08.2\n",
      "  400   4000 -4.576666841862793e-01 2.1e+03 2.87e-02  5e-04  7e-03 0:11.1\n",
      "  500   5000 -4.576668962205137e-01 6.7e+03 5.05e-03  3e-05  4e-04 0:13.4\n",
      "  600   6000 -4.576668975896874e-01 6.8e+04 1.66e-03  6e-06  9e-05 0:15.9\n",
      "  700   7000 -4.576668977086541e-01 3.2e+05 1.57e-03  3e-06  5e-05 0:18.6\n",
      "  708   7080 -4.576668977107128e-01 3.2e+05 1.06e-03  2e-06  3e-05 0:18.9\n"
     ]
    },
    {
     "name": "stderr",
     "output_type": "stream",
     "text": [
      "reconstraining parameters GP_regression.Mat52.lengthscale\n",
      "reconstraining parameters GP_regression.Mat52.variance\n",
      "reconstraining parameters GP_regression.Gaussian_noise.variance\n"
     ]
    },
    {
     "name": "stdout",
     "output_type": "stream",
     "text": [
      "termination on tolfun=1e-11 (Wed Jul  7 13:10:08 2021)\n",
      "final/bestever f-value = -4.576669e-01 -4.576669e-01\n",
      "incumbent solution: [1.7068229776614485, 5.504726703030856e-11, 5.999999999962844, 2.9357508391203334e-11, 9.999999999841988, 3.0454879547452555e-10, 1.808535659290169e-11, 4.849539796922081]\n",
      "std deviation: [1.76873798210016e-06, 3.529346210965055e-06, 7.218660823087708e-06, 2.8106062305670333e-06, 1.820090404090681e-05, 5.792141967987674e-06, 2.181660468495885e-06, 2.7056574164873808e-05]\n",
      "Optimization restart 1/10, f = 71.42511845054463\n",
      "Optimization restart 2/10, f = 71.42511845054858\n",
      "Optimization restart 3/10, f = 71.42511845048467\n",
      "Optimization restart 4/10, f = 71.4251184507882\n",
      "Optimization restart 5/10, f = 5743699.486444089\n",
      "Optimization restart 6/10, f = 767.6717197162062\n",
      "Optimization restart 7/10, f = 163.17793131853705\n",
      "Optimization restart 8/10, f = 163.17793131853736\n",
      "Optimization restart 9/10, f = 71.42511845049995\n"
     ]
    },
    {
     "name": "stderr",
     "output_type": "stream",
     "text": [
      "reconstraining parameters GP_regression.Mat52.lengthscale\n",
      "reconstraining parameters GP_regression.Mat52.variance\n",
      "reconstraining parameters GP_regression.Gaussian_noise.variance\n"
     ]
    },
    {
     "name": "stdout",
     "output_type": "stream",
     "text": [
      "Optimization restart 10/10, f = 71.42511845050079\n",
      "Optimization restart 1/10, f = 124.35820662421423\n",
      "Optimization restart 2/10, f = 4354554099.324898\n",
      "Optimization restart 3/10, f = 163.17792169634583\n",
      "Optimization restart 4/10, f = 124.35820662421096\n",
      "Optimization restart 5/10, f = 163.17793131853736\n",
      "Optimization restart 6/10, f = 124.35820662430919\n",
      "Optimization restart 7/10, f = 163.17793131853855\n",
      "Optimization restart 8/10, f = 163.17789925843783\n",
      "Optimization restart 9/10, f = 163.17793131853736\n"
     ]
    },
    {
     "name": "stderr",
     "output_type": "stream",
     "text": [
      "reconstraining parameters GP_regression.Mat52.lengthscale\n",
      "reconstraining parameters GP_regression.Mat52.variance\n",
      "reconstraining parameters GP_regression.Gaussian_noise.variance\n"
     ]
    },
    {
     "name": "stdout",
     "output_type": "stream",
     "text": [
      "Optimization restart 10/10, f = 124.35820662420372\n",
      "Optimization restart 1/10, f = 95.6964377147661\n",
      "Optimization restart 2/10, f = 5743699.486444088\n",
      "Optimization restart 3/10, f = 767.671720554331\n",
      "Optimization restart 4/10, f = 95.69643771474438\n",
      "Optimization restart 5/10, f = 767.671720554331\n",
      "Optimization restart 6/10, f = 236.3749928819222\n",
      "Optimization restart 7/10, f = 95.69643771473147\n",
      "Optimization restart 8/10, f = 163.17793131853733\n",
      "Optimization restart 9/10, f = 5743699.486444088\n",
      "Optimization restart 10/10, f = 95.69643771472977\n",
      "(5_w,10)-aCMA-ES (mu_w=3.2,w_1=45%) in dimension 8 (seed=788639, Wed Jul  7 13:10:17 2021)\n",
      "Iterat #Fevals   function value  axis ratio  sigma  min&max std  t[m:s]\n",
      "    1     10 -4.276225717748168e-01 1.0e+00 2.60e-01  2e-01  3e-01 0:00.0\n",
      "    2     20 -4.326644826622807e-01 1.3e+00 2.87e-01  3e-01  3e-01 0:00.1\n",
      "    3     30 -4.312044080362291e-01 1.5e+00 3.07e-01  3e-01  3e-01 0:00.1\n",
      "  100   1000 -4.762758138592658e-01 8.9e+00 1.53e-01  3e-02  2e-01 0:02.3\n",
      "  200   2000 -4.778515729540003e-01 4.9e+01 1.76e-01  1e-02  2e-01 0:04.6\n",
      "  300   3000 -4.787845166358271e-01 1.2e+02 3.10e-01  2e-02  2e-01 0:06.9\n",
      "  400   4000 -4.796045428808181e-01 1.6e+02 2.54e-01  7e-03  6e-02 0:09.1\n",
      "  500   5000 -4.797090895459895e-01 2.4e+02 1.33e-01  2e-03  1e-02 0:11.4\n",
      "  600   6000 -4.797119114848068e-01 4.2e+03 5.61e-03  4e-05  6e-04 0:14.0\n",
      "  700   7000 -4.797119466037941e-01 2.2e+04 1.07e-02  7e-05  7e-04 0:16.6\n",
      "  800   8000 -4.797119686971296e-01 1.7e+04 2.63e-02  8e-05  8e-04 0:19.1\n",
      "  900   9000 -4.797119778284823e-01 4.9e+04 2.29e-02  4e-05  4e-04 0:21.4\n",
      " 1000  10000 -4.797119836999931e-01 7.2e+04 2.16e-02  2e-05  2e-04 0:23.7\n",
      "Iterat #Fevals   function value  axis ratio  sigma  min&max std  t[m:s]\n",
      " 1100  11000 -4.797119904717105e-01 5.0e+04 4.30e-02  1e-05  1e-04 0:26.4\n",
      " 1200  12000 -4.797119963261897e-01 9.1e+04 1.79e-01  3e-05  2e-04 0:28.9\n",
      " 1300  13000 -4.797119982026606e-01 1.6e+05 5.29e-02  5e-06  4e-05 0:31.7\n",
      " 1400  14000 -4.797120033694620e-01 1.4e+05 1.14e+00  4e-05  4e-04 0:34.7\n",
      " 1500  15000 -4.797120036884860e-01 2.4e+05 2.43e-01  3e-06  4e-05 0:37.1\n",
      " 1600  16000 -4.797120060986835e-01 1.1e+05 1.29e+00  1e-05  8e-05 0:40.1\n",
      " 1700  17000 -4.797120073425813e-01 1.5e+05 6.73e+00  1e-05  2e-04 0:42.7\n",
      " 1800  18000 -4.797120089747078e-01 2.2e+05 1.69e+00  2e-06  3e-05 0:45.3\n",
      " 1900  19000 -4.797120099877890e-01 2.3e+05 3.86e+01  2e-05  3e-04 0:48.0\n",
      " 2000  20000 -4.797120110128093e-01 3.7e+05 4.09e+00  6e-07  2e-05 0:50.3\n",
      "Iterat #Fevals   function value  axis ratio  sigma  min&max std  t[m:s]\n",
      " 2100  21000 -4.797120116090763e-01 2.6e+05 1.07e+02  9e-06  2e-04 0:53.3\n",
      " 2200  22000 -4.797120128772097e-01 1.5e+05 2.08e+02  1e-05  1e-04 0:55.9\n",
      " 2300  23000 -4.797120140375679e-01 1.5e+05 4.15e+02  1e-05  9e-05 0:58.9\n",
      " 2400  24000 -4.797120147397471e-01 1.8e+05 1.31e+03  9e-06  1e-04 1:01.4\n",
      " 2500  25000 -4.797120151308080e-01 1.4e+05 2.78e+03  9e-06  9e-05 1:03.8\n",
      " 2600  26000 -4.797120155061367e-01 2.5e+05 2.44e+03  5e-06  4e-05 1:06.2\n",
      " 2700  27000 -4.797120159294238e-01 3.7e+05 1.64e+04  1e-05  1e-04 1:08.5\n",
      " 2763  27630 -4.797120160098880e-01 5.1e+05 2.22e+03  1e-06  2e-05 1:10.1\n",
      "termination on tolfun=1e-11 (Wed Jul  7 13:11:32 2021)\n",
      "final/bestever f-value = -4.797120e-01 -4.797120e-01\n",
      "incumbent solution: [1.1515435326307286, 1.283511923006577, 0.42932933348463276, 6.027941913244996, 9.883602931024203, 11.999999999987006, 2.273531617107976e-11, 15.999999999564439]\n",
      "std deviation: [1.2059644393048847e-06, 1.304806739368572e-06, 3.503359912651683e-06, 4.751316081858138e-06, 7.1458439694244685e-06, 1.1075248142571506e-05, 4.786821561201985e-06, 1.6475629866608585e-05]\n"
     ]
    },
    {
     "name": "stderr",
     "output_type": "stream",
     "text": [
      "reconstraining parameters GP_regression.Mat52.lengthscale\n",
      "reconstraining parameters GP_regression.Mat52.variance\n",
      "reconstraining parameters GP_regression.Gaussian_noise.variance\n"
     ]
    },
    {
     "name": "stdout",
     "output_type": "stream",
     "text": [
      "Optimization restart 1/10, f = 72.33986329203978\n",
      "Optimization restart 2/10, f = 72.33986329200381\n",
      "Optimization restart 3/10, f = 178.8321225477152\n",
      "Optimization restart 4/10, f = 72.33986329200596\n",
      "Optimization restart 5/10, f = 72.33986329201741\n",
      "Optimization restart 6/10, f = 72.33986329202904\n",
      "Optimization restart 7/10, f = 72.33986329200023\n",
      "Optimization restart 8/10, f = 72.33986329207636\n",
      "Optimization restart 9/10, f = 72.33986329200954\n"
     ]
    },
    {
     "name": "stderr",
     "output_type": "stream",
     "text": [
      "reconstraining parameters GP_regression.Mat52.lengthscale\n",
      "reconstraining parameters GP_regression.Mat52.variance\n",
      "reconstraining parameters GP_regression.Gaussian_noise.variance\n"
     ]
    },
    {
     "name": "stdout",
     "output_type": "stream",
     "text": [
      "Optimization restart 10/10, f = 72.33986329200923\n",
      "Optimization restart 1/10, f = 125.38822934246747\n",
      "Optimization restart 2/10, f = 125.38822934246727\n",
      "Optimization restart 3/10, f = 125.38822934301247\n",
      "Optimization restart 4/10, f = 4404248997.784895\n",
      "Optimization restart 5/10, f = 125.38822934246846\n",
      "Optimization restart 6/10, f = 774.3471268200208\n",
      "Optimization restart 7/10, f = 774.3471268200208\n",
      "Optimization restart 8/10, f = 164.5968698518109\n",
      "Optimization restart 9/10, f = 125.38822934246966\n"
     ]
    },
    {
     "name": "stderr",
     "output_type": "stream",
     "text": [
      "reconstraining parameters GP_regression.Mat52.lengthscale\n",
      "reconstraining parameters GP_regression.Mat52.variance\n",
      "reconstraining parameters GP_regression.Gaussian_noise.variance\n"
     ]
    },
    {
     "name": "stdout",
     "output_type": "stream",
     "text": [
      "Optimization restart 10/10, f = 5793644.699369689\n",
      "Optimization restart 1/10, f = 96.89257434208558\n",
      "Optimization restart 2/10, f = 5793644.699369691\n",
      "Optimization restart 3/10, f = 164.5968698517424\n",
      "Optimization restart 4/10, f = 96.89257434186337\n",
      "Optimization restart 5/10, f = 96.89257434186973\n",
      "Optimization restart 6/10, f = 5793644.699369691\n",
      "Optimization restart 7/10, f = 164.59686985174204\n",
      "Optimization restart 8/10, f = 5793644.699369691\n",
      "Optimization restart 9/10, f = 774.3471268200208\n",
      "Optimization restart 10/10, f = 96.89257434186628\n",
      "(5_w,10)-aCMA-ES (mu_w=3.2,w_1=45%) in dimension 8 (seed=738982, Wed Jul  7 13:11:43 2021)\n",
      "Iterat #Fevals   function value  axis ratio  sigma  min&max std  t[m:s]\n",
      "    1     10 -4.225260247974191e-01 1.0e+00 2.35e-01  2e-01  3e-01 0:00.0\n",
      "    2     20 -4.302876626242209e-01 1.2e+00 2.42e-01  2e-01  3e-01 0:00.1\n",
      "    3     30 -4.301656952259119e-01 1.3e+00 2.60e-01  2e-01  3e-01 0:00.1\n",
      "  100   1000 -4.825593302187670e-01 7.7e+00 2.78e-01  1e-01  4e-01 0:02.6\n",
      "  200   2000 -4.847027662799922e-01 5.0e+01 4.67e-02  3e-03  4e-02 0:05.3\n",
      "  300   3000 -4.847882793296418e-01 2.4e+02 1.10e-01  5e-03  5e-02 0:08.1\n",
      "  400   4000 -4.848286768384227e-01 4.2e+02 9.21e-02  3e-03  2e-02 0:11.0\n",
      "  500   5000 -4.848543067186045e-01 3.9e+02 1.05e-01  9e-04  1e-02 0:13.8\n",
      "  600   6000 -4.848834507950129e-01 5.3e+02 2.69e-01  6e-04  2e-02 0:17.0\n",
      "  700   7000 -4.848876533265775e-01 1.5e+03 1.79e-01  3e-04  5e-03 0:19.6\n",
      "  800   8000 -4.848914386113488e-01 1.4e+03 8.72e-01  5e-04  1e-02 0:22.9\n",
      "  900   9000 -4.848919936093565e-01 2.5e+03 2.19e-01  6e-05  1e-03 0:25.4\n",
      " 1000  10000 -4.848921281550769e-01 5.2e+03 1.47e+00  2e-04  4e-03 0:27.9\n",
      "Iterat #Fevals   function value  axis ratio  sigma  min&max std  t[m:s]\n",
      " 1100  11000 -4.848923854465037e-01 3.4e+03 1.06e+00  7e-05  1e-03 0:30.2\n",
      " 1200  12000 -4.848924263932890e-01 6.9e+03 7.57e-01  2e-05  4e-04 0:32.5\n",
      " 1300  13000 -4.848924550779621e-01 9.9e+03 3.79e+00  6e-05  1e-03 0:34.9\n",
      " 1400  14000 -4.848924916579693e-01 8.5e+03 5.01e+00  3e-05  7e-04 0:37.6\n",
      " 1500  15000 -4.848924953735451e-01 2.1e+04 5.06e+00  2e-05  4e-04 0:41.3\n",
      " 1600  16000 -4.848925004519740e-01 2.4e+04 2.70e+00  4e-06  1e-04 0:44.1\n",
      " 1700  17000 -4.848925011286298e-01 6.7e+04 5.91e+00  5e-06  9e-05 0:46.7\n",
      " 1800  18000 -4.848925017209350e-01 7.2e+04 3.64e+00  1e-06  3e-05 0:49.1\n",
      " 1867  18670 -4.848925017524950e-01 2.3e+05 3.66e+00  8e-07  2e-05 0:50.7\n",
      "termination on tolfun=1e-11 (Wed Jul  7 13:12:37 2021)\n",
      "final/bestever f-value = -4.848925e-01 -4.848925e-01\n",
      "incumbent solution: [0.8926897961065845, 1.7467942279766162, 2.3135907827872466, 0.9236779754717463, 9.999999480063067, 11.99999999986216, 13.999999999212193, 15.999999999922856]\n",
      "std deviation: [2.8206644430476344e-06, 4.133575657005619e-06, 7.823730073184445e-07, 2.3588392781045587e-06, 1.4638465304316635e-05, 1.3175573584212753e-05, 2.0603351036269286e-05, 1.860718614475743e-05]\n"
     ]
    },
    {
     "name": "stderr",
     "output_type": "stream",
     "text": [
      "reconstraining parameters GP_regression.Mat52.lengthscale\n",
      "reconstraining parameters GP_regression.Mat52.variance\n",
      "reconstraining parameters GP_regression.Gaussian_noise.variance\n"
     ]
    },
    {
     "name": "stdout",
     "output_type": "stream",
     "text": [
      "Optimization restart 1/10, f = 73.30835145246863\n",
      "Optimization restart 2/10, f = 73.3083514524625\n",
      "Optimization restart 3/10, f = 166.01580838494675\n",
      "Optimization restart 4/10, f = 73.30835145259005\n",
      "Optimization restart 5/10, f = 166.01580838494675\n",
      "Optimization restart 6/10, f = 73.30835145244725\n",
      "Optimization restart 7/10, f = 166.0158083849467\n",
      "Optimization restart 8/10, f = 166.01580838494695\n",
      "Optimization restart 9/10, f = 166.01580838494675\n"
     ]
    },
    {
     "name": "stderr",
     "output_type": "stream",
     "text": [
      "reconstraining parameters GP_regression.Mat52.lengthscale\n",
      "reconstraining parameters GP_regression.Mat52.variance\n",
      "reconstraining parameters GP_regression.Gaussian_noise.variance\n"
     ]
    },
    {
     "name": "stdout",
     "output_type": "stream",
     "text": [
      "Optimization restart 10/10, f = 73.3083514524466\n",
      "Optimization restart 1/10, f = 126.90078661695219\n",
      "Optimization restart 2/10, f = 126.90078661696526\n",
      "Optimization restart 3/10, f = 5843589.912295289\n",
      "Optimization restart 4/10, f = 126.90078661695117\n",
      "Optimization restart 5/10, f = 126.90078661695199\n",
      "Optimization restart 6/10, f = 126.90078661695523\n",
      "Optimization restart 7/10, f = 4447200245.558222\n",
      "Optimization restart 8/10, f = 126.90078661704709\n",
      "Optimization restart 9/10, f = 4423542369.300868\n",
      "Optimization restart 10/10, f = 166.01580838494675\n"
     ]
    },
    {
     "name": "stderr",
     "output_type": "stream",
     "text": [
      "reconstraining parameters GP_regression.Mat52.lengthscale\n",
      "reconstraining parameters GP_regression.Mat52.variance\n",
      "reconstraining parameters GP_regression.Gaussian_noise.variance\n"
     ]
    },
    {
     "name": "stdout",
     "output_type": "stream",
     "text": [
      "Optimization restart 1/10, f = 97.35212229161871\n",
      "Optimization restart 2/10, f = 166.01580838558684\n",
      "Optimization restart 3/10, f = 97.35212229160858\n",
      "Optimization restart 4/10, f = 5843589.912295292\n",
      "Optimization restart 5/10, f = 781.0225330746555\n",
      "Optimization restart 6/10, f = 97.35212229160881\n",
      "Optimization restart 7/10, f = 5843589.912295292\n",
      "Optimization restart 8/10, f = 166.01580838494675\n",
      "Optimization restart 9/10, f = 5843589.912295292\n",
      "Optimization restart 10/10, f = 97.35212229160726\n",
      "(5_w,10)-aCMA-ES (mu_w=3.2,w_1=45%) in dimension 8 (seed=749727, Wed Jul  7 13:12:47 2021)\n",
      "Iterat #Fevals   function value  axis ratio  sigma  min&max std  t[m:s]\n",
      "    1     10 -4.478037957066556e-01 1.0e+00 2.22e-01  2e-01  2e-01 0:00.0\n",
      "    2     20 -4.497508665966280e-01 1.1e+00 2.23e-01  2e-01  2e-01 0:00.1\n",
      "    3     30 -4.536842859395587e-01 1.3e+00 2.38e-01  2e-01  2e-01 0:00.1\n",
      "  100   1000 -5.010154479780247e-01 1.6e+01 1.21e-01  2e-02  2e-01 0:02.5\n",
      "  200   2000 -5.015402424593127e-01 3.5e+02 7.45e-03  1e-04  7e-03 0:05.2\n",
      "  300   3000 -5.015414743064388e-01 9.8e+03 2.93e-04  2e-06  3e-04 0:07.8\n",
      "  400   4000 -5.015414760501354e-01 1.9e+05 5.35e-05  4e-07  5e-05 0:10.0\n",
      "  460   4600 -5.015414761119248e-01 5.3e+05 2.83e-05  1e-07  1e-05 0:11.6\n",
      "termination on tolfun=1e-11 (Wed Jul  7 13:12:59 2021)\n",
      "final/bestever f-value = -5.015415e-01 -5.015415e-01\n",
      "incumbent solution: [1.167044620464374, 2.2902348691474024, 3.3975762841175214, 2.696006013415475e-10, 9.999999999989532, 11.999999999999122, 13.999999999991758, 15.999999999966338]\n",
      "std deviation: [1.6248491336430987e-06, 2.790916502065688e-06, 1.2787338113831037e-07, 1.4153430349471123e-06, 8.638062733311372e-06, 9.907446949256514e-06, 1.3449857665740013e-05, 1.1193812236203688e-05]\n"
     ]
    },
    {
     "name": "stderr",
     "output_type": "stream",
     "text": [
      "reconstraining parameters GP_regression.Mat52.lengthscale\n",
      "reconstraining parameters GP_regression.Mat52.variance\n",
      "reconstraining parameters GP_regression.Gaussian_noise.variance\n"
     ]
    },
    {
     "name": "stdout",
     "output_type": "stream",
     "text": [
      "Optimization restart 1/10, f = 74.6593586194168\n",
      "Optimization restart 2/10, f = 74.65935861927102\n",
      "Optimization restart 3/10, f = 74.65935861924939\n",
      "Optimization restart 4/10, f = 167.43470649662004\n",
      "Optimization restart 5/10, f = 74.65935861925098\n",
      "Optimization restart 6/10, f = 74.659358619242\n",
      "Optimization restart 7/10, f = 167.43474663739\n",
      "Optimization restart 8/10, f = 180.2881956462647\n",
      "Optimization restart 9/10, f = 5893535.125220893\n"
     ]
    },
    {
     "name": "stderr",
     "output_type": "stream",
     "text": [
      "reconstraining parameters GP_regression.Mat52.lengthscale\n",
      "reconstraining parameters GP_regression.Mat52.variance\n",
      "reconstraining parameters GP_regression.Gaussian_noise.variance\n"
     ]
    },
    {
     "name": "stdout",
     "output_type": "stream",
     "text": [
      "Optimization restart 10/10, f = 74.65935861926967\n",
      "Optimization restart 1/10, f = 128.68552893139275\n",
      "Optimization restart 2/10, f = 128.68552893138246\n",
      "Optimization restart 3/10, f = 4463606450.932682\n",
      "Optimization restart 4/10, f = 4467446293.546907\n",
      "Optimization restart 5/10, f = 4467999044.743329\n",
      "Optimization restart 6/10, f = 128.68552893145653\n",
      "Optimization restart 7/10, f = 128.68552893140742\n",
      "Optimization restart 8/10, f = 167.43474691815138\n",
      "Optimization restart 9/10, f = 128.6855289313808\n"
     ]
    },
    {
     "name": "stderr",
     "output_type": "stream",
     "text": [
      "reconstraining parameters GP_regression.Mat52.lengthscale\n",
      "reconstraining parameters GP_regression.Mat52.variance\n",
      "reconstraining parameters GP_regression.Gaussian_noise.variance\n"
     ]
    },
    {
     "name": "stdout",
     "output_type": "stream",
     "text": [
      "Optimization restart 10/10, f = 128.6855289313796\n",
      "Optimization restart 1/10, f = 98.06055346829638\n",
      "Optimization restart 2/10, f = 787.6979393514005\n",
      "Optimization restart 3/10, f = 98.06055346823827\n",
      "Optimization restart 4/10, f = 98.06055346823884\n",
      "Optimization restart 5/10, f = 167.43474691815143\n",
      "Optimization restart 6/10, f = 167.4347469181514\n",
      "Optimization restart 7/10, f = 98.06055346824789\n",
      "Optimization restart 8/10, f = 98.06055346824056\n",
      "Optimization restart 9/10, f = 787.6979393496044\n",
      "Optimization restart 10/10, f = 2977670868.701512\n",
      "(5_w,10)-aCMA-ES (mu_w=3.2,w_1=45%) in dimension 8 (seed=754330, Wed Jul  7 13:13:10 2021)\n",
      "Iterat #Fevals   function value  axis ratio  sigma  min&max std  t[m:s]\n",
      "    1     10 -4.622839473081387e-01 1.0e+00 2.25e-01  2e-01  2e-01 0:00.0\n",
      "    2     20 -4.646342274819465e-01 1.2e+00 2.16e-01  2e-01  2e-01 0:00.0\n",
      "    3     30 -4.643752089335383e-01 1.2e+00 1.96e-01  2e-01  2e-01 0:00.1\n",
      "  100   1000 -4.771840288909918e-01 4.3e+01 1.27e-01  2e-02  2e-01 0:03.0\n",
      "  200   2000 -4.785449340567500e-01 1.1e+02 2.22e-01  2e-02  2e-01 0:05.3\n",
      "  300   3000 -4.862775242365526e-01 8.4e+01 6.75e-01  2e-02  3e-01 0:08.0\n",
      "  400   4000 -4.867402383334721e-01 8.0e+02 7.08e-02  4e-04  2e-02 0:10.5\n",
      "  500   5000 -4.867417338868669e-01 1.6e+04 2.90e-03  6e-06  7e-04 0:13.6\n",
      "  600   6000 -4.867417352648298e-01 2.1e+05 3.44e-04  5e-07  7e-05 0:16.1\n",
      "  700   7000 -4.867417354162365e-01 1.0e+06 1.50e-04  1e-07  2e-05 0:18.5\n"
     ]
    },
    {
     "name": "stderr",
     "output_type": "stream",
     "text": [
      " /home/finley/miniconda3/envs/testsuite/lib/python3.8/site-packages/cma/utilities/utils.py:329: UserWarning:\n",
      "        geno-pheno transformation introduced based on the\n",
      "        current covariance matrix with condition 1.1e+12 -> 1.0e+00,\n",
      "        injected solutions become \"invalid\" in this iteration (class=CMAEvolutionStrategy method=alleviate_conditioning iteration=700)\n"
     ]
    },
    {
     "name": "stdout",
     "output_type": "stream",
     "text": [
      "  709   7090 -4.867417354170881e-01 1.8e+00 1.13e-04  1e-04  1e-04 0:18.8\n",
      "termination on tolfun=1e-11 (Wed Jul  7 13:13:29 2021)\n",
      "final/bestever f-value = -4.867417e-01 -4.867417e-01\n",
      "incumbent solution: [0.21745498169366329, 0.2996300420854823, 0.621668228633689, 2.4727271338575177e-10, 9.999999999999194, 11.999999999999863, 13.999999999924844, 15.999999999971912]\n",
      "std deviation: [9.595090330858626e-05, 0.00011180886601142326, 0.00010460489945678683, 0.00010011791309600948, 0.00011551395694089322, 0.00010263604903133024, 0.0001126691337457112, 0.00011378782977147716]\n"
     ]
    },
    {
     "name": "stderr",
     "output_type": "stream",
     "text": [
      "reconstraining parameters GP_regression.Mat52.lengthscale\n",
      "reconstraining parameters GP_regression.Mat52.variance\n",
      "reconstraining parameters GP_regression.Gaussian_noise.variance\n"
     ]
    },
    {
     "name": "stdout",
     "output_type": "stream",
     "text": [
      "Optimization restart 1/10, f = 75.37351272903051\n",
      "Optimization restart 2/10, f = 75.37351270613608\n",
      "Optimization restart 3/10, f = 181.08866064008922\n",
      "Optimization restart 4/10, f = 794.3733456170902\n",
      "Optimization restart 5/10, f = 75.37351270615949\n",
      "Optimization restart 6/10, f = 75.37351270596373\n",
      "Optimization restart 7/10, f = 75.37351270599098\n",
      "Optimization restart 8/10, f = 168.85368545135603\n",
      "Optimization restart 9/10, f = 75.37351270598668\n"
     ]
    },
    {
     "name": "stderr",
     "output_type": "stream",
     "text": [
      "reconstraining parameters GP_regression.Mat52.lengthscale\n",
      "reconstraining parameters GP_regression.Mat52.variance\n",
      "reconstraining parameters GP_regression.Gaussian_noise.variance\n"
     ]
    },
    {
     "name": "stdout",
     "output_type": "stream",
     "text": [
      "Optimization restart 10/10, f = 5943480.338146493\n",
      "Optimization restart 1/10, f = 130.14234730167905\n",
      "Optimization restart 2/10, f = 130.14234730223615\n",
      "Optimization restart 3/10, f = 794.3733456170902\n",
      "Optimization restart 4/10, f = 168.85368545135603\n",
      "Optimization restart 5/10, f = 4518381176.07924\n",
      "Optimization restart 6/10, f = 4525608566.452424\n",
      "Optimization restart 7/10, f = 4523619060.100415\n",
      "Optimization restart 8/10, f = 130.14234730209867\n",
      "Optimization restart 9/10, f = 4514784303.7791\n"
     ]
    },
    {
     "name": "stderr",
     "output_type": "stream",
     "text": [
      "reconstraining parameters GP_regression.Mat52.lengthscale\n",
      "reconstraining parameters GP_regression.Mat52.variance\n",
      "reconstraining parameters GP_regression.Gaussian_noise.variance\n"
     ]
    },
    {
     "name": "stdout",
     "output_type": "stream",
     "text": [
      "Optimization restart 10/10, f = 4517521292.852812\n",
      "Optimization restart 1/10, f = 99.71128558832028\n",
      "Optimization restart 2/10, f = 168.85368545135603\n",
      "Optimization restart 3/10, f = 794.3733456170902\n",
      "Optimization restart 4/10, f = 168.853685451356\n",
      "Optimization restart 5/10, f = 794.3733456170902\n",
      "Optimization restart 6/10, f = 168.85368545135603\n",
      "Optimization restart 7/10, f = 99.71128558832052\n",
      "Optimization restart 8/10, f = 242.19507685279882\n",
      "Optimization restart 9/10, f = 99.71128558852092\n",
      "Optimization restart 10/10, f = 168.85368545135603\n",
      "(5_w,10)-aCMA-ES (mu_w=3.2,w_1=45%) in dimension 8 (seed=701883, Wed Jul  7 13:13:38 2021)\n",
      "Iterat #Fevals   function value  axis ratio  sigma  min&max std  t[m:s]\n",
      "    1     10 -4.617338705538300e-01 1.0e+00 2.32e-01  2e-01  2e-01 0:00.0\n",
      "    2     20 -4.623108149166879e-01 1.2e+00 2.18e-01  2e-01  2e-01 0:00.1\n",
      "    3     30 -4.635342068017104e-01 1.4e+00 2.16e-01  2e-01  2e-01 0:00.1\n",
      "  100   1000 -5.059329102422319e-01 1.9e+01 1.62e-01  2e-02  2e-01 0:02.3\n",
      "  200   2000 -5.064111333533994e-01 1.8e+02 1.31e-02  1e-03  1e-02 0:04.5\n",
      "  300   3000 -5.064136628352229e-01 2.9e+03 1.62e-03  8e-05  1e-03 0:06.9\n",
      "  400   4000 -5.064136862570396e-01 5.7e+04 5.98e-05  2e-06  4e-05 0:09.4\n",
      "  483   4830 -5.064136863630415e-01 4.7e+05 1.79e-05  4e-07  1e-05 0:11.3\n",
      "termination on tolfun=1e-11 (Wed Jul  7 13:13:50 2021)\n",
      "final/bestever f-value = -5.064137e-01 -5.064137e-01\n",
      "incumbent solution: [0.8354361539783499, 1.5549557221457457, 1.8734610183321485, 0.39585462184390857, 9.999999999981007, 11.99999999999512, 13.99999999998051, 15.999999999734927]\n",
      "std deviation: [4.35097065946573e-07, 1.0908572735000657e-06, 1.7255094925362595e-06, 1.2530982373187059e-06, 7.30101518735632e-06, 5.2724872807077514e-06, 9.749225818458069e-06, 7.106451472719431e-06]\n"
     ]
    },
    {
     "name": "stderr",
     "output_type": "stream",
     "text": [
      "reconstraining parameters GP_regression.Mat52.lengthscale\n",
      "reconstraining parameters GP_regression.Mat52.variance\n",
      "reconstraining parameters GP_regression.Gaussian_noise.variance\n"
     ]
    },
    {
     "name": "stdout",
     "output_type": "stream",
     "text": [
      "Optimization restart 1/10, f = 74.5260946118361\n",
      "Optimization restart 2/10, f = 180.5145390386332\n",
      "Optimization restart 3/10, f = 180.51455860226545\n",
      "Optimization restart 4/10, f = 170.27262398456074\n",
      "Optimization restart 5/10, f = 170.27262398456077\n",
      "Optimization restart 6/10, f = 170.27262398456074\n",
      "Optimization restart 7/10, f = 74.52609461159042\n",
      "Optimization restart 8/10, f = 170.2726239845607\n",
      "Optimization restart 9/10, f = 74.52609461159375\n"
     ]
    },
    {
     "name": "stderr",
     "output_type": "stream",
     "text": [
      "reconstraining parameters GP_regression.Mat52.lengthscale\n",
      "reconstraining parameters GP_regression.Mat52.variance\n",
      "reconstraining parameters GP_regression.Gaussian_noise.variance\n"
     ]
    },
    {
     "name": "stdout",
     "output_type": "stream",
     "text": [
      "Optimization restart 10/10, f = 170.27262398456074\n",
      "Optimization restart 1/10, f = 131.18785855766495\n",
      "Optimization restart 2/10, f = 131.18785855766174\n",
      "Optimization restart 3/10, f = 4536468115.082253\n",
      "Optimization restart 4/10, f = 801.0487518827802\n",
      "Optimization restart 5/10, f = 170.27251794798036\n",
      "Optimization restart 6/10, f = 131.1878585577818\n",
      "Optimization restart 7/10, f = 801.0487518827802\n",
      "Optimization restart 8/10, f = 170.2726239845607\n",
      "Optimization restart 9/10, f = 131.1878585576638\n"
     ]
    },
    {
     "name": "stderr",
     "output_type": "stream",
     "text": [
      "reconstraining parameters GP_regression.Mat52.lengthscale\n",
      "reconstraining parameters GP_regression.Mat52.variance\n",
      "reconstraining parameters GP_regression.Gaussian_noise.variance\n"
     ]
    },
    {
     "name": "stdout",
     "output_type": "stream",
     "text": [
      "Optimization restart 10/10, f = 5993425.551072093\n",
      "Optimization restart 1/10, f = 99.41983327786414\n",
      "Optimization restart 2/10, f = 99.41983327786463\n",
      "Optimization restart 3/10, f = 99.41983327908505\n",
      "Optimization restart 4/10, f = 170.2726239845607\n",
      "Optimization restart 5/10, f = 99.41983327786417\n",
      "Optimization restart 6/10, f = 99.41983327786114\n",
      "Optimization restart 7/10, f = 170.2726239845607\n",
      "Optimization restart 8/10, f = 99.41983327786163\n",
      "Optimization restart 9/10, f = 170.2726239845607\n",
      "Optimization restart 10/10, f = 170.2726239845607\n",
      "(5_w,10)-aCMA-ES (mu_w=3.2,w_1=45%) in dimension 8 (seed=816891, Wed Jul  7 13:13:57 2021)\n",
      "Iterat #Fevals   function value  axis ratio  sigma  min&max std  t[m:s]\n",
      "    1     10 -4.298522695414573e-01 1.0e+00 2.63e-01  3e-01  3e-01 0:00.0\n",
      "    2     20 -4.368452555792700e-01 1.3e+00 2.54e-01  2e-01  3e-01 0:00.1\n",
      "    3     30 -4.408909194985703e-01 1.4e+00 2.81e-01  3e-01  3e-01 0:00.1\n",
      "  100   1000 -4.808000275389970e-01 1.2e+01 1.03e-01  2e-02  1e-01 0:02.3\n",
      "  200   2000 -4.835232858570543e-01 1.5e+02 1.53e-01  1e-02  2e-01 0:04.5\n",
      "  300   3000 -4.845484919482083e-01 3.4e+02 1.45e-01  5e-03  6e-02 0:06.7\n",
      "  400   4000 -4.845618021247818e-01 2.3e+03 6.10e-03  2e-04  2e-03 0:09.0\n",
      "  500   5000 -4.845622420528541e-01 1.3e+04 1.93e-03  3e-05  4e-04 0:11.3\n",
      "  600   6000 -4.845622582447813e-01 7.6e+04 1.45e-03  1e-05  1e-04 0:13.9\n",
      "  662   6620 -4.845622583095447e-01 6.1e+05 1.33e-04  7e-07  2e-05 0:15.3\n",
      "termination on tolfun=1e-11 (Wed Jul  7 13:14:14 2021)\n",
      "final/bestever f-value = -4.845623e-01 -4.845623e-01\n",
      "incumbent solution: [1.406761156809882, 0.8738181438009844, 0.9499801639217093, 7.520448777536323, 9.999999999999336, 11.999999999984976, 3.0494335485831683e-11, 15.999999998320233]\n",
      "std deviation: [6.598674356520594e-07, 1.2321111216589902e-06, 2.0077737599761575e-06, 3.0202712384944425e-06, 7.620189101082771e-06, 6.91264349193296e-06, 4.762310183406e-06, 1.6460443486840054e-05]\n"
     ]
    },
    {
     "name": "stderr",
     "output_type": "stream",
     "text": [
      "reconstraining parameters GP_regression.Mat52.lengthscale\n",
      "reconstraining parameters GP_regression.Mat52.variance\n",
      "reconstraining parameters GP_regression.Gaussian_noise.variance\n"
     ]
    },
    {
     "name": "stdout",
     "output_type": "stream",
     "text": [
      "Optimization restart 1/10, f = 74.7381386188886\n",
      "Optimization restart 2/10, f = 74.73813861886046\n",
      "Optimization restart 3/10, f = 171.69156251776542\n",
      "Optimization restart 4/10, f = 180.65185302211563\n",
      "Optimization restart 5/10, f = 74.73813861885068\n",
      "Optimization restart 6/10, f = 74.73813861884736\n",
      "Optimization restart 7/10, f = 74.73813861885091\n",
      "Optimization restart 8/10, f = 74.73813861887969\n"
     ]
    },
    {
     "name": "stderr",
     "output_type": "stream",
     "text": [
      "reconstraining parameters GP_regression.Mat52.lengthscale\n"
     ]
    },
    {
     "name": "stdout",
     "output_type": "stream",
     "text": [
      "Optimization restart 9/10, f = 171.6915625177654\n",
      "Optimization restart 10/10, f = 3855715343.8692107\n"
     ]
    },
    {
     "name": "stderr",
     "output_type": "stream",
     "text": [
      "reconstraining parameters GP_regression.Mat52.variance\n",
      "reconstraining parameters GP_regression.Gaussian_noise.variance\n"
     ]
    },
    {
     "name": "stdout",
     "output_type": "stream",
     "text": [
      "Optimization restart 1/10, f = 132.1361251546803\n",
      "Optimization restart 2/10, f = 132.1361251546802\n",
      "Optimization restart 3/10, f = 132.13612515664192\n",
      "Optimization restart 4/10, f = 171.69156251776542\n",
      "Optimization restart 5/10, f = 807.72415814847\n",
      "Optimization restart 6/10, f = 807.72415814847\n",
      "Optimization restart 7/10, f = 171.6915625177654\n",
      "Optimization restart 8/10, f = 171.6915625177654\n",
      "Optimization restart 9/10, f = 132.13612515468768\n"
     ]
    },
    {
     "name": "stderr",
     "output_type": "stream",
     "text": [
      "reconstraining parameters GP_regression.Mat52.lengthscale\n",
      "reconstraining parameters GP_regression.Mat52.variance\n",
      "reconstraining parameters GP_regression.Gaussian_noise.variance\n"
     ]
    },
    {
     "name": "stdout",
     "output_type": "stream",
     "text": [
      "Optimization restart 10/10, f = 171.69156251776542\n",
      "Optimization restart 1/10, f = 99.99177463382603\n",
      "Optimization restart 2/10, f = 171.69156250740727\n",
      "Optimization restart 3/10, f = 171.69156251776542\n",
      "Optimization restart 4/10, f = 171.6915625177654\n",
      "Optimization restart 5/10, f = 171.69156251776542\n",
      "Optimization restart 6/10, f = 171.69156251776542\n",
      "Optimization restart 7/10, f = 171.69156251776562\n",
      "Optimization restart 8/10, f = 99.9917746337852\n",
      "Optimization restart 9/10, f = 171.69156251776542\n",
      "Optimization restart 10/10, f = 171.69069039589175\n",
      "(5_w,10)-aCMA-ES (mu_w=3.2,w_1=45%) in dimension 8 (seed=760290, Wed Jul  7 13:14:24 2021)\n",
      "Iterat #Fevals   function value  axis ratio  sigma  min&max std  t[m:s]\n",
      "    1     10 -4.394146756727215e-01 1.0e+00 2.17e-01  2e-01  2e-01 0:00.0\n",
      "    2     20 -4.450938241585365e-01 1.1e+00 2.25e-01  2e-01  2e-01 0:00.0\n",
      "    3     30 -4.510209716946898e-01 1.3e+00 2.46e-01  2e-01  3e-01 0:00.1\n",
      "  100   1000 -4.715140861061264e-01 5.3e+01 5.44e-01  1e-01  1e+00 0:02.3\n",
      "  200   2000 -4.895222663292957e-01 1.3e+02 4.54e-02  2e-03  4e-02 0:04.8\n",
      "  300   3000 -4.896490035918671e-01 4.0e+02 5.52e-02  1e-03  3e-02 0:07.1\n",
      "  400   4000 -4.897326950147176e-01 5.2e+02 1.67e-01  1e-03  4e-02 0:09.3\n",
      "  500   5000 -4.897839111531027e-01 1.3e+03 9.75e-02  4e-04  1e-02 0:11.6\n",
      "  600   6000 -4.898125744657463e-01 1.1e+03 6.91e-01  8e-04  4e-02 0:14.1\n",
      "  700   7000 -4.898320263516618e-01 1.9e+03 6.53e-01  4e-04  2e-02 0:16.7\n",
      "  800   8000 -4.898434628666737e-01 2.3e+03 1.00e+00  3e-04  9e-03 0:19.2\n",
      "  900   9000 -4.898462367622840e-01 5.3e+03 1.90e+00  2e-04  7e-03 0:21.7\n",
      " 1000  10000 -4.898478824431994e-01 7.4e+03 2.69e+00  1e-04  6e-03 0:24.5\n",
      "Iterat #Fevals   function value  axis ratio  sigma  min&max std  t[m:s]\n",
      " 1100  11000 -4.898487480863505e-01 9.2e+03 3.69e+00  1e-04  3e-03 0:27.1\n",
      " 1200  12000 -4.898491080104116e-01 1.3e+04 5.37e+00  7e-05  2e-03 0:30.1\n",
      " 1300  13000 -4.898493020544422e-01 3.0e+04 2.47e+00  7e-06  6e-04 0:33.1\n",
      " 1400  14000 -4.898493782976041e-01 2.8e+04 8.13e+00  2e-05  6e-04 0:36.3\n",
      " 1500  15000 -4.898494044783632e-01 5.7e+04 1.08e+01  1e-05  4e-04 0:39.2\n",
      " 1600  16000 -4.898494127951219e-01 7.9e+04 1.62e+01  9e-06  2e-04 0:41.9\n",
      " 1700  17000 -4.898494170418719e-01 1.4e+05 3.43e+01  6e-06  3e-04 0:44.7\n",
      " 1800  18000 -4.898494192313554e-01 1.4e+05 4.46e+01  4e-06  1e-04 0:47.4\n",
      " 1900  19000 -4.898494200691612e-01 2.0e+05 8.54e+01  4e-06  1e-04 0:49.7\n",
      " 2000  20000 -4.898494204937290e-01 3.7e+05 1.09e+02  3e-06  6e-05 0:52.5\n",
      "Iterat #Fevals   function value  axis ratio  sigma  min&max std  t[m:s]\n",
      " 2100  21000 -4.898494206287403e-01 6.9e+05 1.21e+02  1e-06  4e-05 0:56.8\n"
     ]
    },
    {
     "name": "stderr",
     "output_type": "stream",
     "text": [
      " /home/finley/miniconda3/envs/testsuite/lib/python3.8/site-packages/cma/utilities/utils.py:329: UserWarning:\n",
      "        geno-pheno transformation introduced based on the\n",
      "        current covariance matrix with condition 1.0e+12 -> 1.0e+00,\n",
      "        injected solutions become \"invalid\" in this iteration (class=CMAEvolutionStrategy method=alleviate_conditioning iteration=2158)\n"
     ]
    },
    {
     "name": "stdout",
     "output_type": "stream",
     "text": [
      " 2181  21810 -4.898494206809393e-01 4.7e+00 8.24e+01  5e+01  1e+02 0:59.1\n",
      "termination on tolfun=1e-11 (Wed Jul  7 13:15:27 2021)\n",
      "final/bestever f-value = -4.898494e-01 -4.898494e-01\n",
      "incumbent solution: [0.3444215818740304, 1.3631058647220016, 2.836969891761692, 0.1963751730399963, 9.999999999999686, 11.999999999889516, 13.999999999569374, 15.999999999608596]\n",
      "std deviation: [136.8085706434136, 95.70185761532697, 50.5756559066099, 89.45920387402616, 61.56035121071931, 72.80276612936821, 81.77846294650304, 66.1498700623719]\n"
     ]
    },
    {
     "name": "stderr",
     "output_type": "stream",
     "text": [
      "reconstraining parameters GP_regression.Mat52.lengthscale\n",
      "reconstraining parameters GP_regression.Mat52.variance\n",
      "reconstraining parameters GP_regression.Gaussian_noise.variance\n"
     ]
    },
    {
     "name": "stdout",
     "output_type": "stream",
     "text": [
      "Optimization restart 1/10, f = 75.31248677119288\n",
      "Optimization restart 2/10, f = 75.31248677120462\n",
      "Optimization restart 3/10, f = 173.11050105097007\n",
      "Optimization restart 4/10, f = 173.11050105097058\n",
      "Optimization restart 5/10, f = 173.11050105097007\n",
      "Optimization restart 6/10, f = 75.31248677120337\n",
      "Optimization restart 7/10, f = 75.31248677122538\n",
      "Optimization restart 8/10, f = 173.11050105097007\n",
      "Optimization restart 9/10, f = 75.31248677121665\n"
     ]
    },
    {
     "name": "stderr",
     "output_type": "stream",
     "text": [
      "reconstraining parameters GP_regression.Mat52.lengthscale\n",
      "reconstraining parameters GP_regression.Mat52.variance\n",
      "reconstraining parameters GP_regression.Gaussian_noise.variance\n"
     ]
    },
    {
     "name": "stdout",
     "output_type": "stream",
     "text": [
      "Optimization restart 10/10, f = 75.31248677132797\n",
      "Optimization restart 1/10, f = 133.51568030156125\n",
      "Optimization restart 2/10, f = 133.51568030156054\n",
      "Optimization restart 3/10, f = 290.6119635385886\n",
      "Optimization restart 4/10, f = 173.1105010509707\n",
      "Optimization restart 5/10, f = 133.51568030157085\n",
      "Optimization restart 6/10, f = 173.11050105097007\n",
      "Optimization restart 7/10, f = 133.51568030156074\n",
      "Optimization restart 8/10, f = 133.5156803023092\n"
     ]
    },
    {
     "name": "stderr",
     "output_type": "stream",
     "text": [
      "reconstraining parameters GP_regression.Mat52.lengthscale\n"
     ]
    },
    {
     "name": "stdout",
     "output_type": "stream",
     "text": [
      "Optimization restart 9/10, f = 173.11050105097007\n",
      "Optimization restart 10/10, f = 173.11050105097007\n"
     ]
    },
    {
     "name": "stderr",
     "output_type": "stream",
     "text": [
      "reconstraining parameters GP_regression.Mat52.variance\n",
      "reconstraining parameters GP_regression.Gaussian_noise.variance\n"
     ]
    },
    {
     "name": "stdout",
     "output_type": "stream",
     "text": [
      "Optimization restart 1/10, f = 100.59658142810608\n",
      "Optimization restart 2/10, f = 173.11050105097007\n",
      "Optimization restart 3/10, f = 100.59658142779767\n",
      "Optimization restart 4/10, f = 100.59658142779838\n",
      "Optimization restart 5/10, f = 100.59658142779749\n",
      "Optimization restart 6/10, f = 100.59658142779743\n",
      "Optimization restart 7/10, f = 100.59658142779718\n",
      "Optimization restart 8/10, f = 814.3995631807302\n",
      "Optimization restart 9/10, f = 6093315.976923297\n",
      "Optimization restart 10/10, f = 100.5965814277955\n",
      "(5_w,10)-aCMA-ES (mu_w=3.2,w_1=45%) in dimension 8 (seed=768727, Wed Jul  7 13:15:38 2021)\n",
      "Iterat #Fevals   function value  axis ratio  sigma  min&max std  t[m:s]\n",
      "    1     10 -4.197722011357948e-01 1.0e+00 2.43e-01  2e-01  3e-01 0:00.0\n",
      "    2     20 -4.210780261482039e-01 1.2e+00 2.51e-01  2e-01  3e-01 0:00.1\n",
      "    3     30 -4.216448476479651e-01 1.4e+00 2.64e-01  2e-01  3e-01 0:00.1\n",
      "  100   1000 -4.769860427534242e-01 1.6e+01 6.59e-01  8e-02  9e-01 0:02.3\n",
      "  200   2000 -4.960967472312335e-01 4.0e+01 3.17e-01  2e-02  3e-01 0:04.6\n",
      "  300   3000 -5.046176897033993e-01 8.8e+01 1.77e-01  5e-03  7e-02 0:06.8\n",
      "  400   4000 -5.049576661451367e-01 3.2e+02 3.18e-02  3e-04  9e-03 0:09.1\n",
      "  500   5000 -5.049858596522645e-01 9.6e+02 9.52e-02  3e-04  1e-02 0:11.5\n",
      "  600   6000 -5.049985535504498e-01 1.5e+03 3.28e-02  3e-05  2e-03 0:13.7\n",
      "  700   7000 -5.050091294743571e-01 1.6e+03 2.63e-01  1e-04  6e-03 0:16.6\n",
      "  800   8000 -5.050152961815280e-01 1.1e+03 2.28e+00  2e-04  2e-02 0:19.3\n",
      "  900   9000 -5.050275300728735e-01 8.4e+02 1.58e+00  2e-05  6e-03 0:22.1\n",
      " 1000  10000 -5.050350943421427e-01 1.8e+03 1.82e+00  2e-05  4e-03 0:24.5\n",
      "Iterat #Fevals   function value  axis ratio  sigma  min&max std  t[m:s]\n",
      " 1100  11000 -5.050385438190497e-01 2.0e+03 1.06e+01  1e-04  1e-02 0:26.9\n",
      " 1200  12000 -5.050423033604682e-01 3.2e+03 3.61e+00  2e-05  2e-03 0:29.2\n",
      " 1300  13000 -5.050445020026384e-01 4.4e+03 5.24e+00  7e-06  1e-03 0:31.5\n",
      " 1400  14000 -5.050461244275328e-01 2.6e+03 7.53e+01  7e-05  6e-03 0:33.8\n",
      " 1500  15000 -5.050481091182057e-01 3.3e+03 9.74e+01  4e-05  3e-03 0:36.0\n",
      " 1600  16000 -5.050496217964600e-01 4.2e+03 1.74e+02  4e-05  2e-03 0:38.3\n",
      " 1700  17000 -5.050505636830054e-01 6.1e+03 1.40e+02  1e-05  9e-04 0:40.6\n",
      " 1800  18000 -5.050509750986349e-01 8.4e+03 1.21e+03  4e-05  3e-03 0:42.9\n",
      " 1900  19000 -5.050514642252752e-01 1.2e+04 9.15e+02  2e-05  1e-03 0:45.2\n",
      " 2000  20000 -5.050516914651796e-01 1.2e+04 6.09e+03  5e-05  3e-03 0:47.5\n",
      "Iterat #Fevals   function value  axis ratio  sigma  min&max std  t[m:s]\n",
      " 2100  21000 -5.050520007436772e-01 1.0e+04 6.35e+03  3e-05  1e-03 0:50.1\n",
      " 2200  22000 -5.050521564937424e-01 1.3e+04 3.32e+04  6e-05  3e-03 0:52.4\n",
      " 2300  23000 -5.050522530272324e-01 1.4e+04 8.98e+03  9e-06  3e-04 0:54.7\n",
      " 2400  24000 -5.050523319552902e-01 1.4e+04 4.51e+04  2e-05  7e-04 0:57.3\n",
      " 2500  25000 -5.050523628172436e-01 1.7e+04 1.14e+05  1e-05  7e-04 0:60.0\n",
      " 2600  26000 -5.050523883797922e-01 2.2e+04 1.16e+05  7e-06  3e-04 1:02.4\n",
      " 2700  27000 -5.050523981412585e-01 3.1e+04 1.40e+05  5e-06  2e-04 1:04.8\n",
      " 2800  28000 -5.050524068528306e-01 3.5e+04 3.02e+05  4e-06  1e-04 1:07.4\n",
      " 2900  29000 -5.050524100547026e-01 8.6e+04 5.86e+05  4e-06  1e-04 1:09.7\n",
      " 3000  30000 -5.050524115907594e-01 9.5e+04 7.61e+05  2e-06  1e-04 1:12.6\n",
      "Iterat #Fevals   function value  axis ratio  sigma  min&max std  t[m:s]\n",
      " 3100  31000 -5.050524123088047e-01 1.2e+05 1.91e+06  2e-06  9e-05 1:15.5\n",
      " 3200  32000 -5.050524128950202e-01 1.1e+05 4.23e+06  2e-06  8e-05 1:18.0\n",
      " 3300  33000 -5.050524131318549e-01 1.8e+05 2.52e+06  7e-07  2e-05 1:20.8\n",
      " 3400  34000 -5.050524132088297e-01 4.5e+05 2.21e+06  3e-07  1e-05 1:23.7\n",
      " 3408  34080 -5.050524132110685e-01 5.1e+05 3.87e+06  4e-07  2e-05 1:24.2\n",
      "termination on tolfun=1e-11 (Wed Jul  7 13:17:08 2021)\n",
      "final/bestever f-value = -5.050524e-01 -5.050524e-01\n",
      "incumbent solution: [1.0075918240514665, 1.3367204605391938, 1.9900529455895324, 1.764529651544606, 3.6592705312982264e-11, 11.999999998978957, 13.999999999838712, 15.999999999985636]\n",
      "std deviation: [4.438206263921607e-07, 1.834415505624289e-06, 3.6812203860892286e-06, 3.223066717572809e-06, 2.936152231583458e-06, 7.47430433852768e-06, 1.5218927152960032e-05, 1.7012628660777162e-05]\n"
     ]
    },
    {
     "name": "stderr",
     "output_type": "stream",
     "text": [
      "reconstraining parameters GP_regression.Mat52.lengthscale\n",
      "reconstraining parameters GP_regression.Mat52.variance\n",
      "reconstraining parameters GP_regression.Gaussian_noise.variance\n"
     ]
    },
    {
     "name": "stdout",
     "output_type": "stream",
     "text": [
      "Optimization restart 1/10, f = 73.50377717538257\n",
      "Optimization restart 2/10, f = 174.52943958417475\n",
      "Optimization restart 3/10, f = 174.5294395841754\n",
      "Optimization restart 4/10, f = 73.50377717496539\n",
      "Optimization restart 5/10, f = 73.5037771749766\n",
      "Optimization restart 6/10, f = 73.5037771749831\n",
      "Optimization restart 7/10, f = 174.52943958420508\n",
      "Optimization restart 8/10, f = 73.50377717494786\n",
      "Optimization restart 9/10, f = 73.50377717496954\n"
     ]
    },
    {
     "name": "stderr",
     "output_type": "stream",
     "text": [
      "reconstraining parameters GP_regression.Mat52.lengthscale\n",
      "reconstraining parameters GP_regression.Mat52.variance\n",
      "reconstraining parameters GP_regression.Gaussian_noise.variance\n"
     ]
    },
    {
     "name": "stdout",
     "output_type": "stream",
     "text": [
      "Optimization restart 10/10, f = 73.50377717496139\n",
      "Optimization restart 1/10, f = 133.09678437681416\n",
      "Optimization restart 2/10, f = 4682825744.0806055\n",
      "Optimization restart 3/10, f = 821.0749706798497\n",
      "Optimization restart 4/10, f = 4676093967.573465\n",
      "Optimization restart 5/10, f = 133.09678437653932\n",
      "Optimization restart 6/10, f = 133.09678437654614\n",
      "Optimization restart 7/10, f = 133.09678437658783\n",
      "Optimization restart 8/10, f = 133.09678437653952\n",
      "Optimization restart 9/10, f = 174.52943958417478\n"
     ]
    },
    {
     "name": "stderr",
     "output_type": "stream",
     "text": [
      "reconstraining parameters GP_regression.Mat52.lengthscale\n",
      "reconstraining parameters GP_regression.Mat52.variance\n",
      "reconstraining parameters GP_regression.Gaussian_noise.variance\n"
     ]
    },
    {
     "name": "stdout",
     "output_type": "stream",
     "text": [
      "Optimization restart 10/10, f = 133.09678437658292\n",
      "Optimization restart 1/10, f = 99.72279362105381\n",
      "Optimization restart 2/10, f = 174.52943958417475\n",
      "Optimization restart 3/10, f = 174.52943958417475\n",
      "Optimization restart 4/10, f = 6143261.189848896\n",
      "Optimization restart 5/10, f = 174.52943958417475\n",
      "Optimization restart 6/10, f = 174.52943958417472\n",
      "Optimization restart 7/10, f = 99.72279362041243\n",
      "Optimization restart 8/10, f = 174.52943958417475\n",
      "Optimization restart 9/10, f = 174.52943958417472\n",
      "Optimization restart 10/10, f = 242.60257495943495\n",
      "(5_w,10)-aCMA-ES (mu_w=3.2,w_1=45%) in dimension 8 (seed=751156, Wed Jul  7 13:17:21 2021)\n",
      "Iterat #Fevals   function value  axis ratio  sigma  min&max std  t[m:s]\n",
      "    1     10 -4.325835922102291e-01 1.0e+00 2.52e-01  2e-01  3e-01 0:00.0\n",
      "    2     20 -4.353975069100088e-01 1.3e+00 2.59e-01  2e-01  3e-01 0:00.1\n",
      "    3     30 -4.348974939309409e-01 1.5e+00 3.06e-01  3e-01  3e-01 0:00.1\n",
      "  100   1000 -5.090289574023306e-01 1.3e+01 6.04e-02  1e-02  6e-02 0:02.8\n",
      "  200   2000 -5.098241234873755e-01 1.4e+02 6.10e-02  5e-03  7e-02 0:05.5\n",
      "  300   3000 -5.099019035579001e-01 8.4e+02 1.86e-02  6e-04  2e-02 0:09.1\n",
      "  400   4000 -5.099074370295080e-01 2.2e+03 6.74e-03  8e-05  3e-03 0:11.8\n",
      "  500   5000 -5.099079907060526e-01 6.3e+03 5.05e-03  3e-05  8e-04 0:14.0\n",
      "  600   6000 -5.099081324027177e-01 1.8e+04 4.63e-03  1e-05  5e-04 0:17.0\n",
      "  700   7000 -5.099081554671656e-01 5.2e+04 2.42e-03  4e-06  2e-04 0:21.0\n",
      "  800   8000 -5.099081614126664e-01 6.1e+04 2.90e-03  2e-06  9e-05 0:23.4\n",
      "  900   9000 -5.099081648759215e-01 1.0e+05 1.12e-02  4e-06  2e-04 0:26.0\n",
      " 1000  10000 -5.099081654159026e-01 1.7e+05 3.93e-03  5e-07  2e-05 0:28.8\n",
      "Iterat #Fevals   function value  axis ratio  sigma  min&max std  t[m:s]\n",
      " 1073  10730 -5.099081654869635e-01 5.5e+05 1.17e-03  1e-07  5e-06 0:30.7\n",
      "termination on tolfun=1e-11 (Wed Jul  7 13:17:54 2021)\n",
      "final/bestever f-value = -5.099082e-01 -5.099082e-01\n",
      "incumbent solution: [0.8972196833956397, 1.7997512281232466, 1.9691991419788435, 3.0342281508108613, 2.1150951386130087e-11, 11.999999992521571, 7.118242834609622e-11, 15.999999999943496]\n",
      "std deviation: [2.461647058372806e-07, 4.0520904720790863e-07, 1.2742029625971248e-07, 1.6686938539832234e-06, 8.452248881208387e-07, 4.415137817038559e-06, 1.3316290582844869e-06, 4.501260718215296e-06]\n"
     ]
    },
    {
     "name": "stderr",
     "output_type": "stream",
     "text": [
      "reconstraining parameters GP_regression.Mat52.lengthscale\n",
      "reconstraining parameters GP_regression.Mat52.variance\n",
      "reconstraining parameters GP_regression.Gaussian_noise.variance\n"
     ]
    },
    {
     "name": "stdout",
     "output_type": "stream",
     "text": [
      "Optimization restart 1/10, f = 71.46199988613878\n",
      "Optimization restart 2/10, f = 71.4619998860941\n",
      "Optimization restart 3/10, f = 175.94837811737943\n",
      "Optimization restart 4/10, f = 175.9483781173794\n",
      "Optimization restart 5/10, f = 71.46199988608775\n",
      "Optimization restart 6/10, f = 175.94837811737943\n",
      "Optimization restart 7/10, f = 71.46199988609933\n",
      "Optimization restart 8/10, f = 827.7503769455395\n",
      "Optimization restart 9/10, f = 71.46199988607876\n"
     ]
    },
    {
     "name": "stderr",
     "output_type": "stream",
     "text": [
      "reconstraining parameters GP_regression.Mat52.lengthscale\n",
      "reconstraining parameters GP_regression.Mat52.variance\n",
      "reconstraining parameters GP_regression.Gaussian_noise.variance\n"
     ]
    },
    {
     "name": "stdout",
     "output_type": "stream",
     "text": [
      "Optimization restart 10/10, f = 71.4619998860763\n",
      "Optimization restart 1/10, f = 134.20627919678742\n",
      "Optimization restart 2/10, f = 134.20627919678185\n",
      "Optimization restart 3/10, f = 175.9483781173794\n",
      "Optimization restart 4/10, f = 134.20627919678444\n",
      "Optimization restart 5/10, f = 134.20627919680925\n",
      "Optimization restart 6/10, f = 134.20627919678256\n",
      "Optimization restart 7/10, f = 4764846664.940487\n",
      "Optimization restart 8/10, f = 175.94837811737943\n",
      "Optimization restart 9/10, f = 175.9483781173794\n"
     ]
    },
    {
     "name": "stderr",
     "output_type": "stream",
     "text": [
      "reconstraining parameters GP_regression.Mat52.lengthscale\n",
      "reconstraining parameters GP_regression.Mat52.variance\n",
      "reconstraining parameters GP_regression.Gaussian_noise.variance\n"
     ]
    },
    {
     "name": "stdout",
     "output_type": "stream",
     "text": [
      "Optimization restart 10/10, f = 827.7503769455395\n",
      "Optimization restart 1/10, f = 100.23855236030235\n",
      "Optimization restart 2/10, f = 100.23855236026984\n",
      "Optimization restart 3/10, f = 3181076753.598212\n",
      "Optimization restart 4/10, f = 175.9483781173804\n",
      "Optimization restart 5/10, f = 175.9483781173794\n",
      "Optimization restart 6/10, f = 827.7503769455395\n",
      "Optimization restart 7/10, f = 175.9483781173875\n",
      "Optimization restart 8/10, f = 175.9483781173794\n",
      "Optimization restart 9/10, f = 827.7503769455395\n",
      "Optimization restart 10/10, f = 100.23855236027316\n",
      "(5_w,10)-aCMA-ES (mu_w=3.2,w_1=45%) in dimension 8 (seed=813954, Wed Jul  7 13:18:05 2021)\n",
      "Iterat #Fevals   function value  axis ratio  sigma  min&max std  t[m:s]\n",
      "    1     10 -4.414341648876207e-01 1.0e+00 2.64e-01  3e-01  3e-01 0:00.1\n",
      "    2     20 -4.440652664612926e-01 1.4e+00 2.57e-01  2e-01  3e-01 0:00.1\n",
      "    3     30 -4.446508188937236e-01 1.5e+00 2.51e-01  2e-01  3e-01 0:00.2\n",
      "   80    800 -4.852182835134977e-01 8.0e+00 1.95e-01  5e-02  2e-01 0:03.2\n",
      "  100   1000 -4.859207590859249e-01 1.2e+01 1.60e-01  4e-02  2e-01 0:04.3\n",
      "  200   2000 -4.883922929997438e-01 7.1e+01 2.87e-01  2e-02  2e-01 0:06.7\n",
      "  300   3000 -4.910140935245004e-01 1.9e+02 6.86e-02  3e-03  3e-02 0:09.2\n",
      "  400   4000 -4.910311277923096e-01 1.3e+03 4.56e-02  1e-03  9e-03 0:11.7\n",
      "  500   5000 -4.910648587428865e-01 7.3e+02 3.60e-01  2e-03  3e-02 0:14.0\n",
      "  600   6000 -4.910859326733112e-01 6.4e+02 2.97e-01  1e-03  1e-02 0:16.2\n",
      "  700   7000 -4.910972989432026e-01 9.4e+02 5.97e-01  1e-03  1e-02 0:18.6\n",
      "  800   8000 -4.911015093097419e-01 1.8e+03 4.08e-01  4e-04  5e-03 0:20.8\n",
      "  900   9000 -4.911023242191923e-01 3.0e+03 3.94e-01  2e-04  2e-03 0:23.2\n",
      " 1000  10000 -4.911024723872007e-01 1.2e+04 1.60e-01  5e-05  4e-04 0:25.8\n",
      "Iterat #Fevals   function value  axis ratio  sigma  min&max std  t[m:s]\n",
      " 1100  11000 -4.911024877626345e-01 2.9e+04 1.82e-01  3e-05  2e-04 0:28.6\n",
      " 1200  12000 -4.911024926902859e-01 5.0e+04 3.52e-01  3e-05  3e-04 0:30.8\n",
      " 1300  13000 -4.911024935630950e-01 1.7e+05 1.19e-01  4e-06  5e-05 0:33.1\n",
      " 1400  14000 -4.911024936830666e-01 3.8e+05 1.88e-01  3e-06  3e-05 0:35.3\n",
      " 1484  14840 -4.911024937172378e-01 5.2e+05 1.82e-01  2e-06  2e-05 0:37.2\n",
      "termination on tolfun=1e-11 (Wed Jul  7 13:18:45 2021)\n",
      "final/bestever f-value = -4.911025e-01 -4.911025e-01\n",
      "incumbent solution: [0.7443365164640044, 0.5523341393833617, 5.288606442235891, 1.2265921661388497, 1.2322168878609482e-10, 11.999999999389484, 4.585257184246844e-11, 15.999999999934053]\n",
      "std deviation: [1.7078625416158503e-06, 1.9039286273882622e-06, 6.328105959330013e-06, 1.1057617908181825e-05, 4.723994085081238e-06, 1.2022740987756964e-05, 4.898381363242695e-06, 1.799001418014611e-05]\n"
     ]
    },
    {
     "name": "stderr",
     "output_type": "stream",
     "text": [
      "reconstraining parameters GP_regression.Mat52.lengthscale\n",
      "reconstraining parameters GP_regression.Mat52.variance\n",
      "reconstraining parameters GP_regression.Gaussian_noise.variance\n"
     ]
    },
    {
     "name": "stdout",
     "output_type": "stream",
     "text": [
      "Optimization restart 1/10, f = 71.98932840554522\n",
      "Optimization restart 2/10, f = 3942294246.704172\n",
      "Optimization restart 3/10, f = 71.98932840542719\n",
      "Optimization restart 4/10, f = 71.98932840542791\n",
      "Optimization restart 5/10, f = 71.98932840541332\n",
      "Optimization restart 6/10, f = 176.95410482569875\n",
      "Optimization restart 7/10, f = 177.3673166505842\n",
      "Optimization restart 8/10, f = 177.3673166505841\n"
     ]
    },
    {
     "name": "stderr",
     "output_type": "stream",
     "text": [
      "reconstraining parameters GP_regression.Mat52.lengthscale\n",
      "reconstraining parameters GP_regression.Mat52.variance\n"
     ]
    },
    {
     "name": "stdout",
     "output_type": "stream",
     "text": [
      "Optimization restart 9/10, f = 177.3673166505841\n",
      "Optimization restart 10/10, f = 177.3673166505841\n"
     ]
    },
    {
     "name": "stderr",
     "output_type": "stream",
     "text": [
      "reconstraining parameters GP_regression.Gaussian_noise.variance\n"
     ]
    },
    {
     "name": "stdout",
     "output_type": "stream",
     "text": [
      "Optimization restart 1/10, f = 135.0659691230085\n",
      "Optimization restart 2/10, f = 135.0659691230095\n",
      "Optimization restart 3/10, f = 834.4257832112293\n",
      "Optimization restart 4/10, f = 135.06596912301873\n",
      "Optimization restart 5/10, f = 177.36731664941806\n",
      "Optimization restart 6/10, f = 135.06596912300924\n",
      "Optimization restart 7/10, f = 177.36731665058412\n",
      "Optimization restart 8/10, f = 4806986643.744268\n",
      "Optimization restart 9/10, f = 177.3673166505841\n"
     ]
    },
    {
     "name": "stderr",
     "output_type": "stream",
     "text": [
      "reconstraining parameters GP_regression.Mat52.lengthscale\n",
      "reconstraining parameters GP_regression.Mat52.variance\n",
      "reconstraining parameters GP_regression.Gaussian_noise.variance\n"
     ]
    },
    {
     "name": "stdout",
     "output_type": "stream",
     "text": [
      "Optimization restart 10/10, f = 135.065969123082\n",
      "Optimization restart 1/10, f = 101.08655012458459\n",
      "Optimization restart 2/10, f = 3192857712.3616934\n",
      "Optimization restart 3/10, f = 6243151.615700093\n",
      "Optimization restart 4/10, f = 6243151.615700093\n",
      "Optimization restart 5/10, f = 177.36731664947683\n",
      "Optimization restart 6/10, f = 6243151.615700093\n",
      "Optimization restart 7/10, f = 101.08655012386099\n",
      "Optimization restart 8/10, f = 101.08655012386095\n",
      "Optimization restart 9/10, f = 834.4257832112293\n",
      "Optimization restart 10/10, f = 6243151.615700093\n",
      "(5_w,10)-aCMA-ES (mu_w=3.2,w_1=45%) in dimension 8 (seed=820279, Wed Jul  7 13:18:53 2021)\n",
      "Iterat #Fevals   function value  axis ratio  sigma  min&max std  t[m:s]\n",
      "    1     10 -4.171710740127564e-01 1.0e+00 2.23e-01  2e-01  2e-01 0:00.0\n",
      "    2     20 -4.183229781967508e-01 1.1e+00 2.39e-01  2e-01  3e-01 0:00.0\n",
      "    3     30 -4.180986747863404e-01 1.4e+00 2.47e-01  2e-01  3e-01 0:00.1\n",
      "  100   1000 -5.102668773733277e-01 2.5e+01 3.56e-02  3e-03  4e-02 0:02.3\n",
      "  200   2000 -5.104417807891009e-01 5.6e+02 1.27e-02  3e-04  3e-02 0:04.6\n",
      "  300   3000 -5.104566299117164e-01 2.1e+03 2.80e-03  3e-05  4e-03 0:07.1\n",
      "  400   4000 -5.104583779022078e-01 5.1e+03 3.90e-03  1e-05  2e-03 0:09.6\n",
      "  500   5000 -5.104586424855848e-01 2.3e+04 2.65e-03  8e-06  8e-04 0:11.9\n",
      "  600   6000 -5.104586903260679e-01 4.6e+04 2.55e-03  2e-06  5e-04 0:14.2\n",
      "  700   7000 -5.104587033550176e-01 9.1e+04 2.66e-03  2e-06  3e-04 0:16.5\n",
      "  800   8000 -5.104587048909779e-01 3.0e+05 7.67e-04  2e-07  5e-05 0:18.8\n",
      "  900   9000 -5.104587050719261e-01 7.8e+05 9.98e-04  2e-07  3e-05 0:21.1\n",
      "  930   9300 -5.104587050809445e-01 9.9e+05 4.34e-04  7e-08  1e-05 0:21.8\n",
      "termination on tolfun=1e-11 (Wed Jul  7 13:19:16 2021)\n",
      "final/bestever f-value = -5.104587e-01 -5.104587e-01\n",
      "incumbent solution: [0.8558091747322726, 1.6583740384838497, 1.621144535713787, 3.121735801429722, 2.6939622057543156e-11, 11.999999999996648, 1.4158270353097024e-10, 15.999999999825713]\n",
      "std deviation: [2.554249726192237e-07, 5.107519421764932e-07, 6.589030295189581e-08, 1.372891964221181e-06, 1.1136314083169485e-06, 1.0038431270376747e-05, 1.2272943538817973e-06, 4.392347077783222e-06]\n"
     ]
    },
    {
     "name": "stderr",
     "output_type": "stream",
     "text": [
      "reconstraining parameters GP_regression.Mat52.lengthscale\n",
      "reconstraining parameters GP_regression.Mat52.variance\n",
      "reconstraining parameters GP_regression.Gaussian_noise.variance\n"
     ]
    },
    {
     "name": "stdout",
     "output_type": "stream",
     "text": [
      "Optimization restart 1/10, f = 69.82565112176799\n",
      "Optimization restart 2/10, f = 178.78625518378877\n",
      "Optimization restart 3/10, f = 178.78625518378874\n",
      "Optimization restart 4/10, f = 178.78625518378877\n",
      "Optimization restart 5/10, f = 178.78625518378877\n",
      "Optimization restart 6/10, f = 69.8256511213485\n",
      "Optimization restart 7/10, f = 178.78625518379653\n",
      "Optimization restart 8/10, f = 6293096.828625699\n",
      "Optimization restart 9/10, f = 69.82565112128873\n"
     ]
    },
    {
     "name": "stderr",
     "output_type": "stream",
     "text": [
      "reconstraining parameters GP_regression.Mat52.lengthscale\n",
      "reconstraining parameters GP_regression.Mat52.variance\n",
      "reconstraining parameters GP_regression.Gaussian_noise.variance\n"
     ]
    },
    {
     "name": "stdout",
     "output_type": "stream",
     "text": [
      "Optimization restart 10/10, f = 178.78625518378877\n",
      "Optimization restart 1/10, f = 134.3996128052271\n",
      "Optimization restart 2/10, f = 134.39961280524017\n",
      "Optimization restart 3/10, f = 134.3996128053767\n",
      "Optimization restart 4/10, f = 134.39961280521516\n",
      "Optimization restart 5/10, f = 6293096.828625699\n",
      "Optimization restart 6/10, f = 841.1011894769191\n",
      "Optimization restart 7/10, f = 134.3996128052065\n",
      "Optimization restart 8/10, f = 178.78625518378874\n",
      "Optimization restart 9/10, f = 178.78625518378877\n"
     ]
    },
    {
     "name": "stderr",
     "output_type": "stream",
     "text": [
      "reconstraining parameters GP_regression.Mat52.lengthscale\n",
      "reconstraining parameters GP_regression.Mat52.variance\n",
      "reconstraining parameters GP_regression.Gaussian_noise.variance\n"
     ]
    },
    {
     "name": "stdout",
     "output_type": "stream",
     "text": [
      "Optimization restart 10/10, f = 134.3996128052107\n",
      "Optimization restart 1/10, f = 98.56468591217077\n",
      "Optimization restart 2/10, f = 6293096.8286257\n",
      "Optimization restart 3/10, f = 178.78625518378877\n",
      "Optimization restart 4/10, f = 98.5646859121697\n",
      "Optimization restart 5/10, f = 841.1011894769191\n",
      "Optimization restart 6/10, f = 98.56468591218729\n",
      "Optimization restart 7/10, f = 178.78625518379124\n",
      "Optimization restart 8/10, f = 178.7862551837888\n",
      "Optimization restart 9/10, f = 3206020250.1606073\n",
      "Optimization restart 10/10, f = 6293096.8286257\n",
      "(5_w,10)-aCMA-ES (mu_w=3.2,w_1=45%) in dimension 8 (seed=751691, Wed Jul  7 13:19:24 2021)\n",
      "Iterat #Fevals   function value  axis ratio  sigma  min&max std  t[m:s]\n",
      "    1     10 -4.265802629345882e-01 1.0e+00 2.31e-01  2e-01  2e-01 0:00.0\n",
      "    2     20 -4.342061764514938e-01 1.2e+00 2.37e-01  2e-01  3e-01 0:00.1\n",
      "    3     30 -4.352156275254903e-01 1.3e+00 2.81e-01  3e-01  3e-01 0:00.1\n",
      "  100   1000 -4.782965723980783e-01 5.9e+01 1.99e-01  2e-02  5e-01 0:02.4\n",
      "  200   2000 -4.806013497397675e-01 8.7e+01 1.76e-01  1e-02  2e-01 0:04.8\n",
      "  300   3000 -4.859357691688256e-01 4.9e+01 1.00e+00  2e-02  5e-01 0:07.1\n",
      "  400   4000 -4.887649136697516e-01 2.3e+02 1.12e-01  9e-04  2e-02 0:09.4\n",
      "  500   5000 -4.887721596521729e-01 3.5e+03 7.20e-03  3e-05  1e-03 0:11.7\n",
      "  600   6000 -4.887721783461433e-01 3.9e+04 1.76e-03  5e-06  2e-04 0:14.0\n",
      "  700   7000 -4.887721787732162e-01 2.4e+05 3.84e-04  9e-07  2e-05 0:16.4\n",
      "  758   7580 -4.887721787903291e-01 9.5e+05 3.52e-04  4e-07  2e-05 0:17.7\n",
      "termination on tolfun=1e-11 (Wed Jul  7 13:19:43 2021)\n",
      "final/bestever f-value = -4.887722e-01 -4.887722e-01\n",
      "incumbent solution: [1.4235967602105084, 0.7242880481710434, 0.09929190024961344, 6.0803647251875136e-12, 9.99999999999701, 11.999999999961185, 13.999999999989091, 15.999999999672156]\n",
      "std deviation: [9.528090316879755e-07, 1.485279163896353e-06, 3.900457151926312e-07, 1.9261652353607823e-06, 9.663448604443771e-06, 1.2180392487096004e-05, 1.8454563425145386e-05, 1.2689627588652569e-05]\n"
     ]
    },
    {
     "name": "stderr",
     "output_type": "stream",
     "text": [
      "reconstraining parameters GP_regression.Mat52.lengthscale\n",
      "reconstraining parameters GP_regression.Mat52.variance\n",
      "reconstraining parameters GP_regression.Gaussian_noise.variance\n"
     ]
    },
    {
     "name": "stdout",
     "output_type": "stream",
     "text": [
      "Optimization restart 1/10, f = 70.24730810607504\n",
      "Optimization restart 2/10, f = 180.20519371699345\n",
      "Optimization restart 3/10, f = 180.20519371699342\n",
      "Optimization restart 4/10, f = 70.24730810548279\n",
      "Optimization restart 5/10, f = 180.20519371699342\n",
      "Optimization restart 6/10, f = 70.24730810548641\n",
      "Optimization restart 7/10, f = 70.24730810547882\n",
      "Optimization restart 8/10, f = 70.24730810548027\n",
      "Optimization restart 9/10, f = 180.2051900986072\n"
     ]
    },
    {
     "name": "stderr",
     "output_type": "stream",
     "text": [
      "reconstraining parameters GP_regression.Mat52.lengthscale\n",
      "reconstraining parameters GP_regression.Mat52.variance\n",
      "reconstraining parameters GP_regression.Gaussian_noise.variance\n"
     ]
    },
    {
     "name": "stdout",
     "output_type": "stream",
     "text": [
      "Optimization restart 10/10, f = 70.24730810549329\n",
      "Optimization restart 1/10, f = 135.4445963803169\n",
      "Optimization restart 2/10, f = 847.776595742609\n",
      "Optimization restart 3/10, f = 847.776595742609\n",
      "Optimization restart 4/10, f = 180.20519371699456\n",
      "Optimization restart 5/10, f = 4871253727.011426\n",
      "Optimization restart 6/10, f = 847.776595742609\n",
      "Optimization restart 7/10, f = 135.44459638032143\n",
      "Optimization restart 8/10, f = 180.20519371699353\n",
      "Optimization restart 9/10, f = 135.4445963803198\n",
      "Optimization restart 10/10, f = 6343042.041551299\n"
     ]
    },
    {
     "name": "stderr",
     "output_type": "stream",
     "text": [
      "reconstraining parameters GP_regression.Mat52.lengthscale\n",
      "reconstraining parameters GP_regression.Mat52.variance\n",
      "reconstraining parameters GP_regression.Gaussian_noise.variance\n"
     ]
    },
    {
     "name": "stdout",
     "output_type": "stream",
     "text": [
      "Optimization restart 1/10, f = 100.34161107852319\n",
      "Optimization restart 2/10, f = 847.776595742609\n",
      "Optimization restart 3/10, f = 100.34161107846094\n",
      "Optimization restart 4/10, f = 100.34161107846083\n",
      "Optimization restart 5/10, f = 180.20519371699345\n",
      "Optimization restart 6/10, f = 100.34161107846197\n",
      "Optimization restart 7/10, f = 180.20519371699348\n",
      "Optimization restart 8/10, f = 100.3416110784644\n",
      "Optimization restart 9/10, f = 100.3416110784607\n",
      "Optimization restart 10/10, f = 100.3416110789369\n",
      "(5_w,10)-aCMA-ES (mu_w=3.2,w_1=45%) in dimension 8 (seed=770857, Wed Jul  7 13:19:52 2021)\n",
      "Iterat #Fevals   function value  axis ratio  sigma  min&max std  t[m:s]\n",
      "    1     10 -4.215356805855339e-01 1.0e+00 2.25e-01  2e-01  2e-01 0:00.0\n",
      "    2     20 -4.225114726063554e-01 1.2e+00 2.21e-01  2e-01  2e-01 0:00.1\n",
      "    3     30 -4.229534035518261e-01 1.2e+00 2.47e-01  2e-01  3e-01 0:00.1\n",
      "  100   1000 -5.054715018924685e-01 1.3e+01 3.16e-02  5e-03  3e-02 0:02.4\n",
      "  200   2000 -5.056134828330262e-01 3.4e+02 2.03e-03  1e-04  3e-03 0:05.3\n",
      "  300   3000 -5.056158807008799e-01 3.0e+03 3.17e-03  8e-05  4e-03 0:07.9\n",
      "  400   4000 -5.056164636260734e-01 6.2e+03 2.73e-03  3e-05  1e-03 0:10.7\n",
      "  500   5000 -5.056165160333955e-01 2.0e+04 1.44e-03  9e-06  4e-04 0:13.1\n",
      "  600   6000 -5.056165301611137e-01 3.9e+04 3.19e-03  7e-06  5e-04 0:15.7\n",
      "  700   7000 -5.056165369587714e-01 5.3e+04 1.92e-03  1e-06  1e-04 0:18.2\n",
      "  800   8000 -5.056165382311839e-01 1.1e+05 3.40e-03  1e-06  9e-05 0:20.5\n",
      "  900   9000 -5.056165387179794e-01 2.3e+05 1.65e-03  3e-07  2e-05 0:23.0\n",
      "  969   9690 -5.056165387556107e-01 6.0e+05 1.61e-03  2e-07  1e-05 0:24.6\n",
      "termination on tolfun=1e-11 (Wed Jul  7 13:20:18 2021)\n",
      "final/bestever f-value = -5.056165e-01 -5.056165e-01\n",
      "incumbent solution: [0.7077258386567508, 1.7855928539666204, 2.1621477215558667, 4.169371842116357, 2.729983800636302e-12, 11.999999999951491, 8.872618661787716e-11, 15.999999999999986]\n",
      "std deviation: [8.588851696651014e-07, 2.406039936486308e-07, 2.434865636190733e-06, 1.937968335479697e-06, 2.344498283436708e-06, 1.4772433697911057e-05, 2.825338926306898e-06, 9.928922183314302e-06]\n"
     ]
    },
    {
     "name": "stderr",
     "output_type": "stream",
     "text": [
      "reconstraining parameters GP_regression.Mat52.lengthscale\n",
      "reconstraining parameters GP_regression.Mat52.variance\n",
      "reconstraining parameters GP_regression.Gaussian_noise.variance\n"
     ]
    },
    {
     "name": "stdout",
     "output_type": "stream",
     "text": [
      "Optimization restart 1/10, f = 67.82884075207608\n",
      "Optimization restart 2/10, f = 3990567565.44916\n",
      "Optimization restart 3/10, f = 174.23063101512943\n",
      "Optimization restart 4/10, f = 67.82884075206799\n",
      "Optimization restart 5/10, f = 181.62413225019813\n",
      "Optimization restart 6/10, f = 67.82884075206388\n",
      "Optimization restart 7/10, f = 67.82884075205602\n",
      "Optimization restart 8/10, f = 67.8288407520804\n"
     ]
    },
    {
     "name": "stderr",
     "output_type": "stream",
     "text": [
      "reconstraining parameters GP_regression.Mat52.lengthscale\n"
     ]
    },
    {
     "name": "stdout",
     "output_type": "stream",
     "text": [
      "Optimization restart 9/10, f = 67.82884075205524\n",
      "Optimization restart 10/10, f = 3971587241.076717\n"
     ]
    },
    {
     "name": "stderr",
     "output_type": "stream",
     "text": [
      "reconstraining parameters GP_regression.Mat52.variance\n",
      "reconstraining parameters GP_regression.Gaussian_noise.variance\n"
     ]
    },
    {
     "name": "stdout",
     "output_type": "stream",
     "text": [
      "Optimization restart 1/10, f = 134.20819945416548\n",
      "Optimization restart 2/10, f = 181.6241322501982\n",
      "Optimization restart 3/10, f = 181.6241322501981\n",
      "Optimization restart 4/10, f = 4932379412.06093\n",
      "Optimization restart 5/10, f = 181.6241322501981\n",
      "Optimization restart 6/10, f = 134.20819945419845\n",
      "Optimization restart 7/10, f = 181.6241322501981\n",
      "Optimization restart 8/10, f = 306.2216630987874\n",
      "Optimization restart 9/10, f = 4937633977.761342\n"
     ]
    },
    {
     "name": "stderr",
     "output_type": "stream",
     "text": [
      "reconstraining parameters GP_regression.Mat52.lengthscale\n",
      "reconstraining parameters GP_regression.Mat52.variance\n",
      "reconstraining parameters GP_regression.Gaussian_noise.variance\n"
     ]
    },
    {
     "name": "stdout",
     "output_type": "stream",
     "text": [
      "Optimization restart 10/10, f = 854.4520020082989\n",
      "Optimization restart 1/10, f = 98.0594277720747\n",
      "Optimization restart 2/10, f = 181.62413225019816\n",
      "Optimization restart 3/10, f = 98.05942777211041\n",
      "Optimization restart 4/10, f = 98.05942777207294\n",
      "Optimization restart 5/10, f = 6392987.2544769\n",
      "Optimization restart 6/10, f = 98.05942777207339\n",
      "Optimization restart 7/10, f = 181.62413225019884\n",
      "Optimization restart 8/10, f = 3252344253.1112437\n",
      "Optimization restart 9/10, f = 98.05942777207225\n",
      "Optimization restart 10/10, f = 98.05942777207702\n",
      "(5_w,10)-aCMA-ES (mu_w=3.2,w_1=45%) in dimension 8 (seed=767857, Wed Jul  7 13:20:27 2021)\n",
      "Iterat #Fevals   function value  axis ratio  sigma  min&max std  t[m:s]\n",
      "    1     10 -4.213236030832362e-01 1.0e+00 2.57e-01  3e-01  3e-01 0:00.0\n",
      "    2     20 -4.274539883011624e-01 1.3e+00 2.73e-01  3e-01  3e-01 0:00.1\n",
      "    3     30 -4.340844380036102e-01 1.4e+00 2.86e-01  3e-01  3e-01 0:00.1\n",
      "  100   1000 -4.948691025005488e-01 9.0e+00 2.31e-01  4e-02  3e-01 0:02.6\n",
      "  200   2000 -5.093421725314209e-01 4.5e+01 1.75e-01  1e-02  2e-01 0:05.4\n",
      "  300   3000 -5.099576671700126e-01 5.1e+02 9.11e-03  4e-04  9e-03 0:07.7\n",
      "  400   4000 -5.099585770908847e-01 1.5e+04 1.57e-03  5e-05  2e-03 0:10.0\n",
      "  500   5000 -5.099587076524663e-01 2.7e+04 1.44e-03  3e-05  7e-04 0:12.4\n",
      "  600   6000 -5.099587491147819e-01 2.5e+04 2.93e-03  3e-05  5e-04 0:14.8\n",
      "  700   7000 -5.099587775845578e-01 4.5e+04 6.91e-03  3e-05  7e-04 0:17.2\n",
      "  800   8000 -5.099587934430916e-01 3.8e+04 1.36e-02  2e-05  5e-04 0:19.5\n",
      "  900   9000 -5.099588063431342e-01 4.3e+04 6.00e-02  4e-05  1e-03 0:21.9\n",
      " 1000  10000 -5.099588135088085e-01 6.7e+04 1.75e-02  4e-06  1e-04 0:24.3\n",
      "Iterat #Fevals   function value  axis ratio  sigma  min&max std  t[m:s]\n",
      " 1100  11000 -5.099588193517162e-01 8.1e+04 1.38e-01  2e-05  5e-04 0:26.7\n",
      " 1200  12000 -5.099588238382913e-01 7.9e+04 1.59e-01  1e-05  2e-04 0:29.8\n",
      " 1300  13000 -5.099588261070489e-01 8.6e+04 1.76e-01  6e-06  1e-04 0:32.6\n",
      " 1400  14000 -5.099588278712589e-01 1.3e+05 7.55e-01  1e-05  2e-04 0:35.5\n",
      " 1500  15000 -5.099588292768470e-01 1.4e+05 4.88e-01  3e-06  6e-05 0:38.1\n",
      " 1600  16000 -5.099588298419264e-01 1.9e+05 1.10e+00  2e-06  5e-05 0:40.7\n",
      " 1700  17000 -5.099588303555365e-01 2.5e+05 2.71e+00  2e-06  5e-05 0:43.0\n",
      " 1800  18000 -5.099588307501308e-01 2.9e+05 5.82e+00  3e-06  6e-05 0:45.4\n",
      " 1900  19000 -5.099588310718852e-01 5.3e+05 1.21e+01  2e-06  7e-05 0:48.0\n",
      " 2000  20000 -5.099588313098369e-01 2.8e+05 1.68e+01  1e-06  3e-05 0:50.5\n",
      "Iterat #Fevals   function value  axis ratio  sigma  min&max std  t[m:s]\n",
      " 2100  21000 -5.099588314808743e-01 4.3e+05 2.98e+01  1e-06  3e-05 0:53.0\n",
      " 2200  22000 -5.099588315445451e-01 7.7e+05 4.85e+01  8e-07  2e-05 0:55.8\n",
      " 2300  23000 -5.099588315925601e-01 8.3e+05 1.40e+02  8e-07  2e-05 0:58.4\n",
      " 2318  23180 -5.099588315972612e-01 8.4e+05 1.29e+02  7e-07  2e-05 0:58.8\n",
      "termination on tolfun=1e-11 (Wed Jul  7 13:21:29 2021)\n",
      "final/bestever f-value = -5.099588e-01 -5.099588e-01\n",
      "incumbent solution: [0.8287766500509139, 1.5486847918794986, 1.926313589345076, 1.260878197035058, 7.070425996986693e-12, 11.9999968354231, 4.3032778978875077e-10, 15.999999999980956]\n",
      "std deviation: [6.557003911931379e-07, 2.001461609860853e-06, 3.186975455803321e-06, 1.5192113637170553e-06, 2.1939307743132344e-06, 1.9172541886445233e-05, 3.584641509207881e-06, 1.3377311612104495e-05]\n"
     ]
    },
    {
     "name": "stderr",
     "output_type": "stream",
     "text": [
      "reconstraining parameters GP_regression.Mat52.lengthscale\n",
      "reconstraining parameters GP_regression.Mat52.variance\n",
      "reconstraining parameters GP_regression.Gaussian_noise.variance\n"
     ]
    },
    {
     "name": "stdout",
     "output_type": "stream",
     "text": [
      "Optimization restart 1/10, f = 66.80535465015038\n",
      "Optimization restart 2/10, f = 66.80535464999826\n",
      "Optimization restart 3/10, f = 66.80535464998486\n",
      "Optimization restart 4/10, f = 175.40608051204578\n",
      "Optimization restart 5/10, f = 66.80535464998053\n",
      "Optimization restart 6/10, f = 183.04307078339588\n",
      "Optimization restart 7/10, f = 183.04307078340457\n",
      "Optimization restart 8/10, f = 66.80535464995411\n",
      "Optimization restart 9/10, f = 183.04307078340298\n",
      "Optimization restart 10/10, f = 6442932.4674025\n"
     ]
    },
    {
     "name": "stderr",
     "output_type": "stream",
     "text": [
      "reconstraining parameters GP_regression.Mat52.lengthscale\n",
      "reconstraining parameters GP_regression.Mat52.variance\n",
      "reconstraining parameters GP_regression.Gaussian_noise.variance\n"
     ]
    },
    {
     "name": "stdout",
     "output_type": "stream",
     "text": [
      "Optimization restart 1/10, f = 134.23234373755264\n",
      "Optimization restart 2/10, f = 4975784161.648872\n",
      "Optimization restart 3/10, f = 183.04307078340275\n",
      "Optimization restart 4/10, f = 183.04307078340278\n",
      "Optimization restart 5/10, f = 134.23234373731043\n",
      "Optimization restart 6/10, f = 4989223819.730877\n",
      "Optimization restart 7/10, f = 6442932.467402502\n",
      "Optimization restart 8/10, f = 4985910119.5701065\n",
      "Optimization restart 9/10, f = 134.23234373730338\n"
     ]
    },
    {
     "name": "stderr",
     "output_type": "stream",
     "text": [
      "reconstraining parameters GP_regression.Mat52.lengthscale\n",
      "reconstraining parameters GP_regression.Mat52.variance\n",
      "reconstraining parameters GP_regression.Gaussian_noise.variance\n"
     ]
    },
    {
     "name": "stdout",
     "output_type": "stream",
     "text": [
      "Optimization restart 10/10, f = 183.04307078340292\n",
      "Optimization restart 1/10, f = 97.21419272448777\n",
      "Optimization restart 2/10, f = 3259177036.299133\n",
      "Optimization restart 3/10, f = 6442932.467402502\n",
      "Optimization restart 4/10, f = 97.21419272442103\n",
      "Optimization restart 5/10, f = 6442932.467402502\n",
      "Optimization restart 6/10, f = 183.04307078340278\n",
      "Optimization restart 7/10, f = 97.21419272443076\n",
      "Optimization restart 8/10, f = 97.21419272442124\n",
      "Optimization restart 9/10, f = 861.1274082739887\n",
      "Optimization restart 10/10, f = 97.21419272441864\n",
      "(5_w,10)-aCMA-ES (mu_w=3.2,w_1=45%) in dimension 8 (seed=810745, Wed Jul  7 13:21:40 2021)\n",
      "Iterat #Fevals   function value  axis ratio  sigma  min&max std  t[m:s]\n",
      "    1     10 -4.480555088025264e-01 1.0e+00 2.19e-01  2e-01  2e-01 0:00.0\n",
      "    2     20 -4.445072598980266e-01 1.2e+00 2.06e-01  2e-01  2e-01 0:00.1\n",
      "    3     30 -4.484463078565235e-01 1.3e+00 2.07e-01  2e-01  2e-01 0:00.1\n",
      "  100   1000 -4.979438110292964e-01 1.3e+01 2.95e-01  4e-02  3e-01 0:02.4\n",
      "  200   2000 -5.067969903294773e-01 2.9e+01 9.69e-02  6e-03  7e-02 0:05.5\n",
      "  300   3000 -5.071899044274095e-01 1.2e+02 5.68e-02  2e-03  3e-02 0:08.7\n",
      "  400   4000 -5.073030004183821e-01 2.5e+02 9.82e-02  2e-03  2e-02 0:11.6\n",
      "  500   5000 -5.073427811295503e-01 5.8e+02 6.83e-02  5e-04  9e-03 0:14.5\n",
      "  600   6000 -5.073588934542541e-01 7.1e+02 8.22e-02  2e-04  5e-03 0:17.3\n",
      "  700   7000 -5.073609981783709e-01 2.5e+03 8.20e-02  2e-04  2e-03 0:20.6\n",
      "  800   8000 -5.073612608862852e-01 3.4e+03 5.52e-02  5e-05  6e-04 0:23.4\n",
      "  900   9000 -5.073613180187672e-01 1.6e+04 1.83e-02  9e-06  1e-04 0:26.3\n",
      " 1000  10000 -5.073613206442786e-01 7.1e+04 2.36e-02  8e-06  1e-04 0:29.8\n",
      "Iterat #Fevals   function value  axis ratio  sigma  min&max std  t[m:s]\n",
      " 1100  11000 -5.073613211139412e-01 1.1e+05 1.45e-02  3e-06  3e-05 0:32.9\n",
      " 1200  12000 -5.073613211719072e-01 4.8e+05 7.55e-03  5e-07  9e-06 0:35.9\n",
      " 1203  12030 -5.073613211722332e-01 5.0e+05 6.27e-03  4e-07  7e-06 0:36.0\n",
      "termination on tolfun=1e-11 (Wed Jul  7 13:22:19 2021)\n",
      "final/bestever f-value = -5.073613e-01 -5.073613e-01\n",
      "incumbent solution: [0.8487629413656236, 1.6341207425655548, 3.4364872333434424, 1.8152326544435207, 4.273312440126294e-12, 11.609176616745136, 9.980544872790407e-11, 15.999999999997472]\n",
      "std deviation: [3.904658222073949e-07, 8.337699934894005e-07, 9.676531368065021e-07, 1.7211741926737966e-06, 1.223698537405124e-06, 5.033804802646474e-06, 1.986854392949219e-06, 7.0645142821767315e-06]\n"
     ]
    },
    {
     "name": "stderr",
     "output_type": "stream",
     "text": [
      "reconstraining parameters GP_regression.Mat52.lengthscale\n",
      "reconstraining parameters GP_regression.Mat52.variance\n",
      "reconstraining parameters GP_regression.Gaussian_noise.variance\n"
     ]
    },
    {
     "name": "stdout",
     "output_type": "stream",
     "text": [
      "Optimization restart 1/10, f = 65.60258449108359\n",
      "Optimization restart 2/10, f = 184.46200931660746\n",
      "Optimization restart 3/10, f = 184.46200931660746\n",
      "Optimization restart 4/10, f = 65.60258449097132\n",
      "Optimization restart 5/10, f = 184.46200931612907\n",
      "Optimization restart 6/10, f = 65.60258449100168\n",
      "Optimization restart 7/10, f = 173.6581040792473\n",
      "Optimization restart 8/10, f = 65.60258449095812\n",
      "Optimization restart 9/10, f = 65.60258449092358\n"
     ]
    },
    {
     "name": "stderr",
     "output_type": "stream",
     "text": [
      "reconstraining parameters GP_regression.Mat52.lengthscale\n",
      "reconstraining parameters GP_regression.Mat52.variance\n",
      "reconstraining parameters GP_regression.Gaussian_noise.variance\n"
     ]
    },
    {
     "name": "stdout",
     "output_type": "stream",
     "text": [
      "Optimization restart 10/10, f = 4008829790.175635\n",
      "Optimization restart 1/10, f = 135.1811667019282\n",
      "Optimization restart 2/10, f = 184.46200928706193\n",
      "Optimization restart 3/10, f = 184.46200931660746\n",
      "Optimization restart 4/10, f = 184.46200931660746\n",
      "Optimization restart 5/10, f = 640.9421428434081\n",
      "Optimization restart 6/10, f = 135.18116670193\n",
      "Optimization restart 7/10, f = 867.8028145396786\n",
      "Optimization restart 8/10, f = 135.18116670192876\n",
      "Optimization restart 9/10, f = 184.462009316608\n"
     ]
    },
    {
     "name": "stderr",
     "output_type": "stream",
     "text": [
      "reconstraining parameters GP_regression.Mat52.lengthscale\n",
      "reconstraining parameters GP_regression.Mat52.variance\n",
      "reconstraining parameters GP_regression.Gaussian_noise.variance\n"
     ]
    },
    {
     "name": "stdout",
     "output_type": "stream",
     "text": [
      "Optimization restart 10/10, f = 184.46200931660758\n",
      "Optimization restart 1/10, f = 96.20199403951561\n",
      "Optimization restart 2/10, f = 96.20199403858932\n",
      "Optimization restart 3/10, f = 184.46200931660746\n",
      "Optimization restart 4/10, f = 96.2019940387632\n",
      "Optimization restart 5/10, f = 6492877.680328102\n",
      "Optimization restart 6/10, f = 184.46200931660746\n",
      "Optimization restart 7/10, f = 96.2019940382915\n",
      "Optimization restart 8/10, f = 96.20199403829095\n",
      "Optimization restart 9/10, f = 3272026480.5384827\n",
      "Optimization restart 10/10, f = 96.20199403829007\n",
      "(5_w,10)-aCMA-ES (mu_w=3.2,w_1=45%) in dimension 8 (seed=810064, Wed Jul  7 13:22:39 2021)\n",
      "Iterat #Fevals   function value  axis ratio  sigma  min&max std  t[m:s]\n",
      "    1     10 -4.132853079786843e-01 1.0e+00 2.42e-01  2e-01  3e-01 0:00.0\n",
      "    2     20 -4.162714724829982e-01 1.4e+00 2.52e-01  2e-01  3e-01 0:00.1\n",
      "    3     30 -4.159585114647418e-01 1.4e+00 2.70e-01  3e-01  3e-01 0:00.1\n",
      "  100   1000 -4.820429486071449e-01 3.0e+01 3.42e-01  4e-02  5e-01 0:02.9\n",
      "  200   2000 -4.831013088079583e-01 2.3e+02 1.03e-02  8e-04  9e-03 0:05.8\n",
      "  300   3000 -4.831156332935999e-01 2.3e+03 5.25e-03  2e-04  5e-03 0:08.2\n",
      "  400   4000 -4.831157827101300e-01 2.8e+04 2.77e-04  9e-06  2e-04 0:10.7\n",
      "  500   5000 -4.831157831825860e-01 3.8e+05 4.26e-05  1e-06  2e-05 0:13.1\n",
      "  515   5150 -4.831157831834125e-01 5.2e+05 2.96e-05  7e-07  1e-05 0:13.5\n",
      "termination on tolfun=1e-11 (Wed Jul  7 13:22:54 2021)\n",
      "final/bestever f-value = -4.831158e-01 -4.831158e-01\n",
      "incumbent solution: [0.5744468950260436, 1.2953321591707174, 2.095215619656558e-10, 6.5929957218838755, 9.999999999786933, 11.999999999973355, 2.0071869888008033e-13, 15.999999999909457]\n",
      "std deviation: [6.622277663571647e-07, 1.5385062677563065e-06, 9.369451660329293e-07, 1.9760689722810893e-06, 6.598521334267637e-06, 7.453832628046286e-06, 3.75109256473039e-06, 1.193247589785035e-05]\n"
     ]
    },
    {
     "name": "stderr",
     "output_type": "stream",
     "text": [
      "reconstraining parameters GP_regression.Mat52.lengthscale\n",
      "reconstraining parameters GP_regression.Mat52.variance\n",
      "reconstraining parameters GP_regression.Gaussian_noise.variance\n"
     ]
    },
    {
     "name": "stdout",
     "output_type": "stream",
     "text": [
      "Optimization restart 1/10, f = 65.97804907649167\n",
      "Optimization restart 2/10, f = 65.97804907645832\n",
      "Optimization restart 3/10, f = 65.97804907655421\n",
      "Optimization restart 4/10, f = 65.97804907648961\n",
      "Optimization restart 5/10, f = 65.97804907646744\n",
      "Optimization restart 6/10, f = 185.88094784981212\n",
      "Optimization restart 7/10, f = 185.88094784981212\n",
      "Optimization restart 8/10, f = 174.75681131921624\n"
     ]
    },
    {
     "name": "stderr",
     "output_type": "stream",
     "text": [
      "reconstraining parameters GP_regression.Mat52.lengthscale\n",
      "reconstraining parameters GP_regression.Mat52.variance\n",
      "reconstraining parameters GP_regression.Gaussian_noise.variance\n"
     ]
    },
    {
     "name": "stdout",
     "output_type": "stream",
     "text": [
      "Optimization restart 9/10, f = 174.75676820171867\n",
      "Optimization restart 10/10, f = 6542822.8932537\n",
      "Optimization restart 1/10, f = 135.46258049601204\n",
      "Optimization restart 2/10, f = 5115071393.564265\n",
      "Optimization restart 3/10, f = 135.46258049606075\n",
      "Optimization restart 4/10, f = 135.46258049647832\n",
      "Optimization restart 5/10, f = 874.4782208053684\n",
      "Optimization restart 6/10, f = 185.8809478498137\n",
      "Optimization restart 7/10, f = 135.46258049601366\n",
      "Optimization restart 8/10, f = 874.4782208053684\n",
      "Optimization restart 9/10, f = 6542822.893253704\n"
     ]
    },
    {
     "name": "stderr",
     "output_type": "stream",
     "text": [
      "reconstraining parameters GP_regression.Mat52.lengthscale\n",
      "reconstraining parameters GP_regression.Mat52.variance\n",
      "reconstraining parameters GP_regression.Gaussian_noise.variance\n"
     ]
    },
    {
     "name": "stdout",
     "output_type": "stream",
     "text": [
      "Optimization restart 10/10, f = 135.46258049601192\n",
      "Optimization restart 1/10, f = 97.02316324704421\n",
      "Optimization restart 2/10, f = 97.02316324702329\n",
      "Optimization restart 3/10, f = 185.88094784981212\n",
      "Optimization restart 4/10, f = 97.02316324702622\n",
      "Optimization restart 5/10, f = 185.88094784981212\n",
      "Optimization restart 6/10, f = 97.02316324725811\n",
      "Optimization restart 7/10, f = 3342082141.6102533\n",
      "Optimization restart 8/10, f = 97.02316324703008\n",
      "Optimization restart 9/10, f = 97.02316324704167\n",
      "Optimization restart 10/10, f = 246.1556932135046\n",
      "(5_w,10)-aCMA-ES (mu_w=3.2,w_1=45%) in dimension 8 (seed=843832, Wed Jul  7 13:23:02 2021)\n",
      "Iterat #Fevals   function value  axis ratio  sigma  min&max std  t[m:s]\n",
      "    1     10 -4.220537786128891e-01 1.0e+00 2.42e-01  2e-01  3e-01 0:00.0\n",
      "    2     20 -4.248120880848567e-01 1.2e+00 2.55e-01  2e-01  3e-01 0:00.1\n",
      "    3     30 -4.273944479229825e-01 1.4e+00 2.77e-01  3e-01  3e-01 0:00.1\n",
      "  100   1000 -4.675988672157729e-01 1.3e+01 2.19e-02  6e-03  2e-02 0:02.4\n",
      "  200   2000 -4.676021303141920e-01 6.7e+02 5.69e-04  7e-05  4e-04 0:04.8\n",
      "  298   2980 -4.676021316452078e-01 3.0e+04 2.59e-05  2e-06  1e-05 0:07.1\n"
     ]
    },
    {
     "name": "stderr",
     "output_type": "stream",
     "text": [
      "reconstraining parameters GP_regression.Mat52.lengthscale\n",
      "reconstraining parameters GP_regression.Mat52.variance\n",
      "reconstraining parameters GP_regression.Gaussian_noise.variance\n"
     ]
    },
    {
     "name": "stdout",
     "output_type": "stream",
     "text": [
      "termination on tolfun=1e-11 (Wed Jul  7 13:23:10 2021)\n",
      "final/bestever f-value = -4.676021e-01 -4.676021e-01\n",
      "incumbent solution: [1.0569214970648804, 1.7058477126100904, 5.999999999998262, 3.617576911824254e-12, 1.8882289570130236e-12, 11.999999999777545, 8.731432556289285e-10, 4.09557613780694]\n",
      "std deviation: [2.134902948113983e-06, 4.524826622141169e-06, 5.747627280406405e-06, 2.502956847304733e-06, 2.719722240435506e-06, 1.1745845604278666e-05, 2.103936350795199e-06, 2.694282118928059e-06]\n",
      "Optimization restart 1/10, f = 67.60750543212438\n",
      "Optimization restart 2/10, f = 4079153853.9465923\n",
      "Optimization restart 3/10, f = 881.1536270710583\n",
      "Optimization restart 4/10, f = 187.29988638301683\n",
      "Optimization restart 5/10, f = 187.29988638301683\n",
      "Optimization restart 6/10, f = 177.04984491277747\n",
      "Optimization restart 7/10, f = 67.60750543201362\n",
      "Optimization restart 8/10, f = 881.1536270710583\n",
      "Optimization restart 9/10, f = 67.60750543200841\n"
     ]
    },
    {
     "name": "stderr",
     "output_type": "stream",
     "text": [
      "reconstraining parameters GP_regression.Mat52.lengthscale\n",
      "reconstraining parameters GP_regression.Mat52.variance\n",
      "reconstraining parameters GP_regression.Gaussian_noise.variance\n"
     ]
    },
    {
     "name": "stdout",
     "output_type": "stream",
     "text": [
      "Optimization restart 10/10, f = 67.60750543199067\n",
      "Optimization restart 1/10, f = 136.23279181055995\n",
      "Optimization restart 2/10, f = 187.29988638301683\n",
      "Optimization restart 3/10, f = 881.1536270710583\n",
      "Optimization restart 4/10, f = 881.1536270710583\n",
      "Optimization restart 5/10, f = 187.29988638301683\n",
      "Optimization restart 6/10, f = 187.29988638301683\n",
      "Optimization restart 7/10, f = 136.23279181051765\n",
      "Optimization restart 8/10, f = 187.29988638301683\n",
      "Optimization restart 9/10, f = 136.2327918105179\n"
     ]
    },
    {
     "name": "stderr",
     "output_type": "stream",
     "text": [
      "reconstraining parameters GP_regression.Mat52.lengthscale\n",
      "reconstraining parameters GP_regression.Mat52.variance\n",
      "reconstraining parameters GP_regression.Gaussian_noise.variance\n"
     ]
    },
    {
     "name": "stdout",
     "output_type": "stream",
     "text": [
      "Optimization restart 10/10, f = 187.29988638301683\n",
      "Optimization restart 1/10, f = 97.99463206052272\n",
      "Optimization restart 2/10, f = 3391758487.2395763\n",
      "Optimization restart 3/10, f = 248.49340325196033\n",
      "Optimization restart 4/10, f = 97.99463205895051\n",
      "Optimization restart 5/10, f = 97.9946320589481\n",
      "Optimization restart 6/10, f = 97.99463205894854\n",
      "Optimization restart 7/10, f = 187.29988638301683\n",
      "Optimization restart 8/10, f = 3384008762.483675\n",
      "Optimization restart 9/10, f = 97.99463205895134\n",
      "Optimization restart 10/10, f = 187.29988638301677\n",
      "(5_w,10)-aCMA-ES (mu_w=3.2,w_1=45%) in dimension 8 (seed=779636, Wed Jul  7 13:23:19 2021)\n",
      "Iterat #Fevals   function value  axis ratio  sigma  min&max std  t[m:s]\n",
      "    1     10 -4.091624150142480e-01 1.0e+00 2.40e-01  2e-01  3e-01 0:00.0\n",
      "    2     20 -4.222129974482270e-01 1.3e+00 2.40e-01  2e-01  3e-01 0:00.1\n",
      "    3     30 -4.316615488432483e-01 1.4e+00 2.95e-01  3e-01  3e-01 0:00.1\n",
      "   90    900 -4.843589917024668e-01 1.8e+01 8.68e-02  1e-02  1e-01 0:03.1\n",
      "  100   1000 -4.843781900507712e-01 2.8e+01 5.51e-02  7e-03  6e-02 0:03.5\n",
      "  200   2000 -4.849539407207008e-01 3.4e+01 1.07e-01  4e-03  6e-02 0:06.7\n",
      "  300   3000 -4.849635729562871e-01 2.0e+03 1.79e-03  4e-05  8e-04 0:09.4\n",
      "  400   4000 -4.849635754844165e-01 6.5e+04 1.14e-04  1e-06  3e-05 0:11.8\n",
      "  421   4210 -4.849635754862942e-01 1.4e+05 1.04e-04  1e-06  3e-05 0:12.3\n",
      "termination on tolfun=1e-11 (Wed Jul  7 13:23:32 2021)\n",
      "final/bestever f-value = -4.849636e-01 -4.849636e-01\n",
      "incumbent solution: [0.15686451658904754, 0.8820563095193475, 1.8132316506598316e-11, 7.999999999999958, 9.999999999928164, 11.999999999980231, 1.706611304115012e-10, 15.999999999925164]\n",
      "std deviation: [1.0166576107707978e-06, 2.8856626250745656e-06, 2.180883370752061e-06, 1.8985594085461945e-05, 7.074536753196466e-06, 1.150616063514636e-05, 5.959782915746654e-06, 2.5722385966610372e-05]\n"
     ]
    },
    {
     "name": "stderr",
     "output_type": "stream",
     "text": [
      "reconstraining parameters GP_regression.Mat52.lengthscale\n",
      "reconstraining parameters GP_regression.Mat52.variance\n",
      "reconstraining parameters GP_regression.Gaussian_noise.variance\n"
     ]
    },
    {
     "name": "stdout",
     "output_type": "stream",
     "text": [
      "Optimization restart 1/10, f = 67.50574534578391\n",
      "Optimization restart 2/10, f = 188.71882491622148\n",
      "Optimization restart 3/10, f = 67.50574534555456\n",
      "Optimization restart 4/10, f = 887.8290333367481\n",
      "Optimization restart 5/10, f = 188.71882491622148\n",
      "Optimization restart 6/10, f = 67.50574534549929\n",
      "Optimization restart 7/10, f = 67.50574534553756\n",
      "Optimization restart 8/10, f = 67.50574534552328\n",
      "Optimization restart 9/10, f = 4117075101.4969163\n"
     ]
    },
    {
     "name": "stderr",
     "output_type": "stream",
     "text": [
      "reconstraining parameters GP_regression.Mat52.lengthscale\n",
      "reconstraining parameters GP_regression.Mat52.variance\n"
     ]
    },
    {
     "name": "stdout",
     "output_type": "stream",
     "text": [
      "Optimization restart 10/10, f = 188.7188249162216\n"
     ]
    },
    {
     "name": "stderr",
     "output_type": "stream",
     "text": [
      "reconstraining parameters GP_regression.Gaussian_noise.variance\n"
     ]
    },
    {
     "name": "stdout",
     "output_type": "stream",
     "text": [
      "Optimization restart 1/10, f = 137.35978830106288\n",
      "Optimization restart 2/10, f = 188.7188249162115\n",
      "Optimization restart 3/10, f = 137.35978830106222\n",
      "Optimization restart 4/10, f = 188.71882491622057\n",
      "Optimization restart 5/10, f = 5279370502.246542\n",
      "Optimization restart 6/10, f = 137.35978830108118\n",
      "Optimization restart 7/10, f = 312.1501338428877\n",
      "Optimization restart 8/10, f = 188.71880383140132\n",
      "Optimization restart 9/10, f = 137.35978830106308\n"
     ]
    },
    {
     "name": "stderr",
     "output_type": "stream",
     "text": [
      "reconstraining parameters GP_regression.Mat52.lengthscale\n",
      "reconstraining parameters GP_regression.Mat52.variance\n",
      "reconstraining parameters GP_regression.Gaussian_noise.variance\n"
     ]
    },
    {
     "name": "stdout",
     "output_type": "stream",
     "text": [
      "Optimization restart 10/10, f = 137.35978830106237\n",
      "Optimization restart 1/10, f = 100.4698944244061\n",
      "Optimization restart 2/10, f = 3400502690.248955\n",
      "Optimization restart 3/10, f = 100.46989442438897\n",
      "Optimization restart 4/10, f = 188.71882491622148\n",
      "Optimization restart 5/10, f = 188.7186219362521\n",
      "Optimization restart 6/10, f = 887.8290333367481\n",
      "Optimization restart 7/10, f = 100.46989442439329\n",
      "Optimization restart 8/10, f = 100.46989442438549\n",
      "Optimization restart 9/10, f = 188.71882491622145\n",
      "Optimization restart 10/10, f = 188.71882491622148\n",
      "(5_w,10)-aCMA-ES (mu_w=3.2,w_1=45%) in dimension 8 (seed=720878, Wed Jul  7 13:23:53 2021)\n",
      "Iterat #Fevals   function value  axis ratio  sigma  min&max std  t[m:s]\n",
      "    1     10 -4.281137458278368e-01 1.0e+00 2.45e-01  2e-01  3e-01 0:00.0\n",
      "    2     20 -4.305487972317468e-01 1.2e+00 2.20e-01  2e-01  2e-01 0:00.1\n",
      "    3     30 -4.262741017110181e-01 1.3e+00 2.27e-01  2e-01  3e-01 0:00.2\n",
      "   68    680 -4.955125626749843e-01 9.7e+00 7.09e-01  1e-01  9e-01 0:03.2\n",
      "  100   1000 -5.048305413713756e-01 1.2e+01 1.71e-01  3e-02  2e-01 0:04.7\n",
      "  182   1820 -5.064325169817370e-01 1.1e+02 1.08e-02  1e-03  1e-02 0:09.8\n",
      "  200   2000 -5.064398489119721e-01 1.7e+02 4.21e-03  4e-04  5e-03 0:10.5\n",
      "  300   3000 -5.064424500450253e-01 3.9e+03 9.31e-04  8e-05  1e-03 0:14.9\n",
      "  400   4000 -5.064427159084148e-01 1.1e+04 2.54e-03  8e-05  2e-03 0:17.7\n",
      "  500   5000 -5.064430411589929e-01 1.0e+04 5.42e-03  7e-05  2e-03 0:20.3\n",
      "  600   6000 -5.064433586417708e-01 1.4e+04 1.46e-02  7e-05  2e-03 0:24.3\n",
      "  700   7000 -5.064437477654533e-01 1.3e+04 2.53e-02  4e-05  1e-03 0:26.8\n",
      "  800   8000 -5.064442339269285e-01 7.9e+03 1.31e-01  6e-05  2e-03 0:29.3\n",
      "  900   9000 -5.064447476393952e-01 8.9e+03 3.71e-01  8e-05  3e-03 0:31.8\n",
      " 1000  10000 -5.064454423887661e-01 5.8e+03 1.59e+00  2e-04  4e-03 0:34.3\n",
      "Iterat #Fevals   function value  axis ratio  sigma  min&max std  t[m:s]\n",
      " 1100  11000 -5.064466910495709e-01 5.3e+03 3.00e+00  1e-04  3e-03 0:37.8\n",
      " 1200  12000 -5.064481099546587e-01 7.7e+03 6.49e+00  2e-04  4e-03 0:41.5\n",
      " 1300  13000 -5.064491591360127e-01 5.8e+03 1.50e+01  2e-04  3e-03 0:44.5\n",
      " 1400  14000 -5.064509180064181e-01 5.0e+03 5.47e+01  2e-04  4e-03 0:47.3\n",
      " 1500  15000 -5.064530282478761e-01 6.4e+03 1.02e+02  1e-04  4e-03 0:49.6\n",
      " 1600  16000 -5.064555827032352e-01 4.8e+03 7.08e+02  3e-04  1e-02 0:52.0\n",
      " 1700  17000 -5.064583341639279e-01 5.1e+03 1.42e+03  4e-04  9e-03 0:54.4\n",
      " 1800  18000 -5.064625020056719e-01 3.2e+03 4.60e+03  4e-04  9e-03 0:56.9\n",
      " 1900  19000 -5.064672981623599e-01 2.3e+03 6.48e+03  2e-04  7e-03 0:60.0\n",
      " 2000  20000 -5.064723691686550e-01 2.5e+03 2.64e+04  6e-04  9e-03 1:02.4\n",
      "Iterat #Fevals   function value  axis ratio  sigma  min&max std  t[m:s]\n",
      " 2100  21000 -5.064779116743524e-01 2.7e+03 5.02e+04  3e-04  8e-03 1:04.9\n",
      " 2200  22000 -5.064825838554055e-01 3.9e+03 1.40e+05  3e-04  1e-02 1:07.6\n",
      " 2300  23000 -5.064890516763281e-01 3.0e+03 1.95e+05  2e-04  5e-03 1:10.0\n",
      " 2400  24000 -5.064953080983907e-01 2.8e+03 6.81e+05  3e-04  7e-03 1:12.5\n",
      " 2500  25000 -5.064987757107359e-01 2.7e+03 1.73e+06  4e-04  7e-03 1:14.9\n",
      " 2600  26000 -5.065046437701652e-01 2.8e+03 2.65e+06  2e-04  5e-03 1:17.3\n",
      " 2700  27000 -5.065109405033824e-01 3.0e+03 9.44e+06  2e-04  7e-03 1:19.7\n",
      " 2800  28000 -5.065141338988991e-01 3.8e+03 2.36e+07  3e-04  9e-03 1:22.1\n",
      " 2900  29000 -5.065173800620879e-01 3.8e+03 7.86e+07  4e-04  1e-02 1:24.5\n",
      " 3000  30000 -5.065204938615637e-01 4.3e+03 1.23e+08  1e-04  9e-03 1:26.8\n",
      "Iterat #Fevals   function value  axis ratio  sigma  min&max std  t[m:s]\n",
      " 3100  31000 -5.065221856679223e-01 8.2e+03 1.44e+08  7e-05  5e-03 1:29.4\n",
      " 3200  32000 -5.065230067716293e-01 9.5e+03 4.79e-02  4e-05  2e-03 1:31.8\n",
      " 3300  33000 -5.065234022651464e-01 1.3e+04 6.52e-02  3e-05  1e-03 1:34.2\n",
      " 3400  34000 -5.065235342660059e-01 2.1e+04 1.79e-01  4e-05  1e-03 1:36.6\n",
      " 3500  35000 -5.065236725632424e-01 3.5e+04 3.67e-01  2e-05  2e-03 1:39.0\n",
      " 3600  36000 -5.065237385898438e-01 3.6e+04 4.22e-01  1e-05  8e-04 1:41.3\n",
      " 3700  37000 -5.065237719009836e-01 4.5e+04 1.08e+00  1e-05  8e-04 1:43.7\n",
      " 3800  38000 -5.065237897193784e-01 9.2e+04 1.18e+00  9e-06  4e-04 1:46.1\n",
      " 3900  39000 -5.065237979791695e-01 1.0e+05 2.39e+00  9e-06  3e-04 1:48.5\n",
      " 4000  40000 -5.065238065242639e-01 1.4e+05 6.89e+00  8e-06  6e-04 1:50.9\n",
      "Iterat #Fevals   function value  axis ratio  sigma  min&max std  t[m:s]\n",
      " 4100  41000 -5.065238105891132e-01 1.2e+05 1.57e+01  5e-06  5e-04 1:53.3\n",
      " 4200  42000 -5.065238141712578e-01 1.9e+05 1.70e+01  3e-06  2e-04 1:55.7\n",
      " 4300  43000 -5.065238160419454e-01 1.3e+05 2.81e+01  2e-06  1e-04 1:58.1\n",
      " 4400  44000 -5.065238170896406e-01 2.0e+05 8.13e+01  3e-06  2e-04 2:00.5\n",
      " 4500  45000 -5.065238177884024e-01 4.5e+05 7.98e+01  1e-06  1e-04 2:03.3\n",
      " 4600  46000 -5.065238180993519e-01 5.4e+05 1.47e+02  1e-06  7e-05 2:05.8\n",
      " 4700  47000 -5.065238182432872e-01 8.3e+05 1.06e+02  4e-07  2e-05 2:08.3\n"
     ]
    },
    {
     "name": "stderr",
     "output_type": "stream",
     "text": [
      " /home/finley/miniconda3/envs/testsuite/lib/python3.8/site-packages/cma/utilities/utils.py:329: UserWarning:\n",
      "        geno-pheno transformation introduced based on the\n",
      "        current covariance matrix with condition 1.0e+12 -> 1.0e+00,\n",
      "        injected solutions become \"invalid\" in this iteration (class=CMAEvolutionStrategy method=alleviate_conditioning iteration=4715)\n"
     ]
    },
    {
     "name": "stdout",
     "output_type": "stream",
     "text": [
      " 4724  47240 -5.065238182570957e-01 2.6e+00 2.10e+02  2e+02  3e+02 2:08.9\n",
      "termination on tolfacupx=1000.0 (Wed Jul  7 13:26:10 2021)\n",
      "final/bestever f-value = -5.065238e-01 -5.065238e-01\n",
      "incumbent solution: [0.8785887968369934, 1.8018637332083016, 2.2525869331447215, 1.6885873643444937, 2.048733070071048e-11, 11.999999998469722, 2.0956272770701622e-10, 15.999999999977824]\n",
      "std deviation: [194.59381799453038, 223.1429117081807, 261.3041074005225, 278.3657643942931, 220.39864815000473, 197.04585042576818, 216.41635260752813, 197.0969719102496]\n"
     ]
    },
    {
     "name": "stderr",
     "output_type": "stream",
     "text": [
      "reconstraining parameters GP_regression.Mat52.lengthscale\n",
      "reconstraining parameters GP_regression.Mat52.variance\n",
      "reconstraining parameters GP_regression.Gaussian_noise.variance\n"
     ]
    },
    {
     "name": "stdout",
     "output_type": "stream",
     "text": [
      "Optimization restart 1/10, f = 65.12029701351739\n",
      "Optimization restart 2/10, f = 190.13776344942613\n",
      "Optimization restart 3/10, f = 65.12029701343025\n",
      "Optimization restart 4/10, f = 65.12029701353902\n",
      "Optimization restart 5/10, f = 65.12029701340616\n",
      "Optimization restart 6/10, f = 65.12029701340002\n",
      "Optimization restart 7/10, f = 65.12029701344291\n",
      "Optimization restart 8/10, f = 65.120297013431\n",
      "Optimization restart 9/10, f = 894.5044396024379\n"
     ]
    },
    {
     "name": "stderr",
     "output_type": "stream",
     "text": [
      "reconstraining parameters GP_regression.Mat52.lengthscale\n",
      "reconstraining parameters GP_regression.Mat52.variance\n",
      "reconstraining parameters GP_regression.Gaussian_noise.variance\n"
     ]
    },
    {
     "name": "stdout",
     "output_type": "stream",
     "text": [
      "Optimization restart 10/10, f = 190.13776344942625\n",
      "Optimization restart 1/10, f = 137.2522186826953\n",
      "Optimization restart 2/10, f = 190.13776344942613\n",
      "Optimization restart 3/10, f = 137.2522186831361\n",
      "Optimization restart 4/10, f = 137.25221868273968\n",
      "Optimization restart 5/10, f = 137.25221868334958\n",
      "Optimization restart 6/10, f = 190.13776344942613\n",
      "Optimization restart 7/10, f = 190.1377634494276\n",
      "Optimization restart 8/10, f = 190.13776344942676\n",
      "Optimization restart 9/10, f = 137.25221868268258\n"
     ]
    },
    {
     "name": "stderr",
     "output_type": "stream",
     "text": [
      "reconstraining parameters GP_regression.Mat52.lengthscale\n",
      "reconstraining parameters GP_regression.Mat52.variance\n",
      "reconstraining parameters GP_regression.Gaussian_noise.variance\n"
     ]
    },
    {
     "name": "stdout",
     "output_type": "stream",
     "text": [
      "Optimization restart 10/10, f = 190.1377632000823\n",
      "Optimization restart 1/10, f = 99.05341916372947\n",
      "Optimization restart 2/10, f = 190.13776344944577\n",
      "Optimization restart 3/10, f = 190.13776344944006\n",
      "Optimization restart 4/10, f = 190.13776344942613\n",
      "Optimization restart 5/10, f = 99.0534191624312\n",
      "Optimization restart 6/10, f = 247.92559332799848\n",
      "Optimization restart 7/10, f = 99.05341916240499\n",
      "Optimization restart 8/10, f = 3406789365.2371845\n",
      "Optimization restart 9/10, f = 99.0534191624272\n",
      "Optimization restart 10/10, f = 99.05341916259354\n",
      "(5_w,10)-aCMA-ES (mu_w=3.2,w_1=45%) in dimension 8 (seed=833800, Wed Jul  7 13:26:20 2021)\n",
      "Iterat #Fevals   function value  axis ratio  sigma  min&max std  t[m:s]\n",
      "    1     10 -4.072969441552960e-01 1.0e+00 2.52e-01  2e-01  3e-01 0:00.0\n",
      "    2     20 -4.126928228303018e-01 1.3e+00 2.78e-01  3e-01  3e-01 0:00.1\n",
      "    3     30 -4.137760852056466e-01 1.4e+00 3.16e-01  3e-01  4e-01 0:00.1\n",
      "  100   1000 -4.658918676286912e-01 1.0e+01 1.24e-01  3e-02  1e-01 0:02.5\n",
      "  200   2000 -4.660997138634673e-01 3.3e+02 2.72e-02  4e-03  2e-02 0:04.9\n",
      "  300   3000 -4.669754745813559e-01 2.7e+02 1.67e-01  3e-03  8e-02 0:07.4\n",
      "  400   4000 -4.677946051052004e-01 1.8e+02 3.67e-01  3e-03  7e-02 0:09.8\n",
      "  500   5000 -4.678982055699447e-01 1.0e+03 5.79e-02  4e-04  8e-03 0:12.2\n",
      "  600   6000 -4.678987251736318e-01 1.6e+04 5.34e-03  2e-05  5e-04 0:14.7\n",
      "  700   7000 -4.678987412842723e-01 3.0e+04 7.49e-03  1e-05  3e-04 0:17.0\n",
      "  800   8000 -4.678987445982183e-01 6.3e+04 1.27e-02  1e-05  2e-04 0:19.5\n",
      "  900   9000 -4.678987456360238e-01 2.0e+05 4.97e-03  2e-06  6e-05 0:21.9\n",
      " 1000  10000 -4.678987461321351e-01 3.2e+05 7.30e-03  2e-06  4e-05 0:24.3\n",
      "Iterat #Fevals   function value  axis ratio  sigma  min&max std  t[m:s]\n",
      " 1057  10570 -4.678987461608836e-01 7.7e+05 3.47e-03  9e-07  2e-05 0:25.6\n",
      "termination on tolfun=1e-11 (Wed Jul  7 13:26:47 2021)\n",
      "final/bestever f-value = -4.678987e-01 -4.678987e-01\n",
      "incumbent solution: [0.372820236108133, 2.0377018801219595, 5.99999999997962, 2.306734874953112e-10, 6.968553827462745, 11.99999976021029, 4.664851122622614e-11, 15.999999999989107]\n",
      "std deviation: [8.681061455029186e-07, 4.04022889189028e-06, 3.399327028574583e-06, 1.6320502499711886e-06, 4.65472285452521e-06, 1.6338346016297986e-05, 3.1166404391727123e-06, 1.474756539429238e-05]\n"
     ]
    }
   ],
   "source": [
    "opt.optimise(50)"
   ]
  },
  {
   "cell_type": "code",
   "execution_count": 23,
   "metadata": {},
   "outputs": [
    {
     "data": {
      "text/plain": [
       "<matplotlib.legend.Legend at 0x7fcce0753df0>"
      ]
     },
     "execution_count": 23,
     "metadata": {},
     "output_type": "execute_result"
    }
   ],
   "source": [
    "%matplotlib qt\n",
    "fig11 = plt.figure(figsize=[8, 8])\n",
    "fig11_ax = fig11.gca(projection=\"3d\")\n",
    "\n",
    "\n",
    "fig11_ax.scatter(*np.vstack(opt.target_history[0]).T, c=\"magenta\", label=\"intitial targets\", alpha=0.2, s=150)\n",
    "fig11_ax.scatter(*np.vstack(opt.target_history[1:]).T, c=\"cyan\", label=\"intitial targets\", alpha=0.1, s=150)\n",
    "fig11_ax.scatter(*y[np.argsort(y[:,0])].T, c=\"lightgrey\", label=\"Pareto front\")\n",
    "fig11_ax.plot(*np.vstack((np.zeros_like(dmv), dmv*np.max([np.linalg.norm(yi) for yi in y]))).T, c=\"C1\", linestyle=\"--\")\n",
    "\n",
    "fig11_ax.scatter(*opt.targets.T, c=\"C2\", label=\"current targets\", alpha=0.8, s=150)\n",
    "fig11_ax.scatter(*opt.d.T, c=\"C0\")\n",
    "fig11_ax.scatter(*opt.p.T, c=\"C3\")\n",
    "# fig11_ax.scatter(*opt.y[:10].T, c=\"C0\")\n",
    "# fig11_ax.scatter(*opt.y[10:].T, c=\"C3\")\n",
    "\n",
    "\n",
    "fig11_ax.legend()"
   ]
  },
  {
   "cell_type": "code",
   "execution_count": 24,
   "metadata": {},
   "outputs": [
    {
     "data": {
      "text/plain": [
       "[<matplotlib.lines.Line2D at 0x7fcccb1f4bb0>]"
      ]
     },
     "execution_count": 24,
     "metadata": {},
     "output_type": "execute_result"
    }
   ],
   "source": [
    "plt.figure()\n",
    "plt.plot(opt.dm_times)"
   ]
  },
  {
   "cell_type": "code",
   "execution_count": 19,
   "metadata": {},
   "outputs": [
    {
     "data": {
      "text/plain": [
       "33"
      ]
     },
     "execution_count": 19,
     "metadata": {},
     "output_type": "execute_result"
    }
   ],
   "source": [
    "opt.p.shape[0]"
   ]
  },
  {
   "cell_type": "code",
   "execution_count": null,
   "metadata": {},
   "outputs": [],
   "source": []
  }
 ],
 "metadata": {
  "kernelspec": {
   "display_name": "testsuite",
   "language": "python",
   "name": "testsuite"
  },
  "language_info": {
   "codemirror_mode": {
    "name": "ipython",
    "version": 3
   },
   "file_extension": ".py",
   "mimetype": "text/x-python",
   "name": "python",
   "nbconvert_exporter": "python",
   "pygments_lexer": "ipython3",
   "version": "3.8.3"
  }
 },
 "nbformat": 4,
 "nbformat_minor": 4
}
