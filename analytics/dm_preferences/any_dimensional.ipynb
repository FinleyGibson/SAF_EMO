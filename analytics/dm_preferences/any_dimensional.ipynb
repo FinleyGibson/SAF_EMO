{
 "cells": [
  {
   "cell_type": "code",
   "execution_count": 1,
   "metadata": {},
   "outputs": [],
   "source": [
    "import rootpath\n",
    "import sys\n",
    "sys.path.append(rootpath.detect())\n",
    "\n",
    "import numpy as np\n",
    "import matplotlib.pyplot as plt\n",
    "from itertools import permutations, combinations\n",
    "\n",
    "from testsuite.utilities import Pareto_split\n",
    "\n",
    "from matplotlib.cm import hot  as colormap\n",
    "from scipy.linalg import svd\n",
    "from scipy.spatial import ConvexHull"
   ]
  },
  {
   "cell_type": "code",
   "execution_count": 2,
   "metadata": {},
   "outputs": [],
   "source": [
    "def gen_nondominated(n_dim, n):\n",
    "    points = np.abs(np.random.multivariate_normal(np.zeros(n_dim), np.diag(np.ones(n_dim)), n))\n",
    "    norms =  np.linalg.norm(points, axis=1)\n",
    "    return (points.T/norms).T\n",
    "\n",
    "def gen_random_nondominated(n_dim, n):\n",
    "    points = gen_nondominated(n_dim, n)\n",
    "    points  = (points.T*np.random.randn(len(points))/10).T\n",
    "    points = points-points.min(axis=0)\n",
    "    return Pareto_split(points)[0]"
   ]
  },
  {
   "cell_type": "code",
   "execution_count": 3,
   "metadata": {},
   "outputs": [],
   "source": [
    "def get_pairs(x):\n",
    "    return np.array(list(combinations(x, x.shape[1]))) \n",
    "\n",
    "def get_extrusion(pair):\n",
    "    n_points, n_dims = pair.shape\n",
    "    return [np.vstack((*c, np.zeros_like(c[0]))) for c in  combinations(pair, n_dims-1)]"
   ]
  },
  {
   "cell_type": "code",
   "execution_count": 53,
   "metadata": {},
   "outputs": [],
   "source": [
    "def pair_selection(pair, normal_vector):\n",
    "    return np.sum([np.dot(p, normal_vector)**2 for p in pair])\n",
    "\n",
    "def angle_sign(extrusion, v):\n",
    "    e = (extrusion-extrusion.mean(axis=0))\n",
    "    U, s, vt = svd(e)\n",
    "    np.testing.assert_almost_equal(s[-1], 0)\n",
    "    normal_vector = vt[-1]\n",
    "    sign = np.dot(normal_vector, v)\n",
    "    return sign>0.\n",
    "\n",
    "def dm_choice(x, dmv):\n",
    "    u, s, vh = np.linalg.svd(dmv.T)\n",
    "    dmv_normal = u[:, -1]\n",
    "    \n",
    "    pairs = get_pairs(x)\n",
    "    intersections = np.zeros(pairs.shape[0], dtype=bool)\n",
    "    \n",
    "    for i, pair in enumerate(pairs): \n",
    "        midpoint = np.mean(pair, axis=0)\n",
    "        extrusions = get_extrusion(pair)\n",
    "        \n",
    "        extrusion_angles = np.zeros(len(extrusions), dtype=bool)\n",
    "        for j, extrusion in enumerate(extrusions):\n",
    "            ang_mp = angle_sign(extrusion, midpoint)\n",
    "            ang_dm = angle_sign(extrusion, dmv.reshape(-1))\n",
    "            extrusion_angles[j] = (ang_mp == ang_dm) \n",
    "        \n",
    "        intersections[i] = np.all(extrusion_angles)\n",
    "        \n",
    "    try:\n",
    "        choice_ind = np.argmin([pair_selection(p, dmv_normal) for p in pairs[intersections]])\n",
    "        return pairs[intersections][choice_ind]\n",
    "    except ValueError:\n",
    "        # if no pair is intersected by the dmv return the nearest single point \n",
    "        return x[np.argmin([np.abs(np.dot(dmv_normal, xi)) for xi in x])].reshape(1,-1)\n",
    "    "
   ]
  },
  {
   "cell_type": "markdown",
   "metadata": {},
   "source": [
    "## 2D"
   ]
  },
  {
   "cell_type": "code",
   "execution_count": 13,
   "metadata": {},
   "outputs": [
    {
     "name": "stdout",
     "output_type": "stream",
     "text": [
      "8 points generated\n"
     ]
    },
    {
     "data": {
      "text/plain": [
       "<matplotlib.collections.PathCollection at 0x7f020b3a2910>"
      ]
     },
     "execution_count": 13,
     "metadata": {},
     "output_type": "execute_result"
    },
    {
     "data": {
      "image/png": "[encoded data removed]",
      "text/plain": [
       "<Figure size 432x288 with 1 Axes>"
      ]
     },
     "metadata": {
      "needs_background": "light"
     },
     "output_type": "display_data"
    }
   ],
   "source": [
    "np.random.seed(2)\n",
    "n_dim = 2\n",
    "n_points = 1000\n",
    "points_2d = gen_random_nondominated(n_dim, n_points) \n",
    "print('{} points generated'.format(len(points_2d)))\n",
    "\n",
    "fig00 = plt.figure()\n",
    "fig00_ax = fig00.gca()\n",
    "fig00_ax.scatter(*points_2d.T)"
   ]
  },
  {
   "cell_type": "code",
   "execution_count": 14,
   "metadata": {},
   "outputs": [
    {
     "data": {
      "image/png": "[encoded data removed]",
      "text/plain": [
       "<Figure size 432x288 with 1 Axes>"
      ]
     },
     "execution_count": 14,
     "metadata": {},
     "output_type": "execute_result"
    }
   ],
   "source": [
    "## dm preferences\n",
    "dmv = np.array([0.85, 0.5]).reshape(1, -1)\n",
    "fig00_ax.plot(*np.vstack((np.zeros_like(dmv), dmv)).T/2, c=\"C1\", linestyle=\"--\")\n",
    "fig00_ax.axis(\"scaled\")\n",
    "fig00"
   ]
  },
  {
   "cell_type": "code",
   "execution_count": 15,
   "metadata": {
    "scrolled": false
   },
   "outputs": [
    {
     "name": "stdout",
     "output_type": "stream",
     "text": [
      "(2, 2) (1, 2)\n",
      "(2, 2) (1, 2)\n",
      "(2, 2) (1, 2)\n",
      "(2, 2) (1, 2)\n",
      "(2, 2) (1, 2)\n",
      "(2, 2) (1, 2)\n",
      "(2, 2) (1, 2)\n",
      "(2, 2) (1, 2)\n",
      "(2, 2) (1, 2)\n",
      "(2, 2) (1, 2)\n",
      "(2, 2) (1, 2)\n",
      "(2, 2) (1, 2)\n",
      "(2, 2) (1, 2)\n",
      "(2, 2) (1, 2)\n",
      "(2, 2) (1, 2)\n",
      "(2, 2) (1, 2)\n",
      "(2, 2) (1, 2)\n",
      "(2, 2) (1, 2)\n",
      "(2, 2) (1, 2)\n",
      "(2, 2) (1, 2)\n",
      "(2, 2) (1, 2)\n",
      "(2, 2) (1, 2)\n",
      "(2, 2) (1, 2)\n",
      "(2, 2) (1, 2)\n",
      "(2, 2) (1, 2)\n",
      "(2, 2) (1, 2)\n",
      "(2, 2) (1, 2)\n",
      "(2, 2) (1, 2)\n"
     ]
    }
   ],
   "source": [
    "winner = dm_choice(points_2d, dmv)"
   ]
  },
  {
   "cell_type": "code",
   "execution_count": 16,
   "metadata": {},
   "outputs": [
    {
     "data": {
      "image/png": "[encoded data removed]",
      "text/plain": [
       "<Figure size 432x288 with 1 Axes>"
      ]
     },
     "execution_count": 16,
     "metadata": {},
     "output_type": "execute_result"
    }
   ],
   "source": [
    "fig00_ax.plot(*winner.T, c=\"C2\", marker=\"o\", markersize=10)\n",
    "fig00"
   ]
  },
  {
   "cell_type": "code",
   "execution_count": 17,
   "metadata": {},
   "outputs": [
    {
     "data": {
      "text/plain": [
       "array([[0.85, 0.5 ]])"
      ]
     },
     "execution_count": 17,
     "metadata": {},
     "output_type": "execute_result"
    }
   ],
   "source": [
    "dmv"
   ]
  },
  {
   "cell_type": "code",
   "execution_count": 23,
   "metadata": {},
   "outputs": [
    {
     "data": {
      "text/plain": [
       "<matplotlib.legend.Legend at 0x7f0209eab670>"
      ]
     },
     "execution_count": 23,
     "metadata": {},
     "output_type": "execute_result"
    },
    {
     "data": {
      "image/png": "[encoded data removed]",
      "text/plain": [
       "<Figure size 1296x720 with 6 Axes>"
      ]
     },
     "metadata": {
      "needs_background": "light"
     },
     "output_type": "display_data"
    }
   ],
   "source": [
    "fig01, fig01_axes = plt.subplots(2, 3, figsize=[18, 10])\n",
    "for i, ax in enumerate(fig01_axes.flat):\n",
    "    np.random.seed(i)\n",
    "    n_points = 43\n",
    "    points_2d = Pareto_split(np.random.uniform(0.2, 1, size=(n_points,2)))[0][:10]\n",
    "    \n",
    "    ax.plot(*np.vstack((np.zeros_like(dmv), dmv)).T, c=\"C1\", linestyle=\"--\", label=\"dm vector\")\n",
    "    ax.scatter(*points_2d.T, c=\"C0\", label=\"solutions\")\n",
    "    \n",
    "    winner = dm_choice(points_2d, dmv)\n",
    "    ax.plot(*winner.T, c=\"C2\", marker=\"o\", label=\"Chosen pair\")\n",
    "    ax.axis(\"scaled\")\n",
    "    ax.set_xlim([0., 1.])\n",
    "    ax.set_ylim([0., 1.])\n",
    "    \n",
    "ax.legend()"
   ]
  },
  {
   "cell_type": "markdown",
   "metadata": {},
   "source": [
    "## 3D"
   ]
  },
  {
   "cell_type": "code",
   "execution_count": 24,
   "metadata": {},
   "outputs": [],
   "source": [
    "%matplotlib qt"
   ]
  },
  {
   "cell_type": "code",
   "execution_count": 59,
   "metadata": {},
   "outputs": [],
   "source": [
    "# dm vector\n",
    "dmv = np.array([.5,1.,.5]).reshape(1, -1)/2"
   ]
  },
  {
   "cell_type": "code",
   "execution_count": 60,
   "metadata": {},
   "outputs": [
    {
     "name": "stdout",
     "output_type": "stream",
     "text": [
      "12 points generated\n"
     ]
    },
    {
     "data": {
      "text/plain": [
       "[<mpl_toolkits.mplot3d.art3d.Line3D at 0x7f01e1db5bb0>]"
      ]
     },
     "execution_count": 60,
     "metadata": {},
     "output_type": "execute_result"
    }
   ],
   "source": [
    "np.random.seed(3)\n",
    "n_dim = 3\n",
    "n_points = 100\n",
    "points_3d = gen_random_nondominated(n_dim, n_points)\n",
    "print('{} points generated'.format(len(points_3d)))\n",
    "\n",
    "\n",
    "fig10 = plt.figure(figsize=[8,8])\n",
    "fig10_ax = fig10.gca(projection=\"3d\")\n",
    "fig10_ax.scatter(*points_3d.T)\n",
    "\n",
    "lim = fig10_ax.get_xlim()[1]\n",
    "fig10_ax.plot(*np.vstack((np.zeros(3), dmv)).T, c=\"C1\", linestyle=\"--\")"
   ]
  },
  {
   "cell_type": "code",
   "execution_count": 61,
   "metadata": {},
   "outputs": [],
   "source": [
    "winner= dm_choice(points_3d, dmv)"
   ]
  },
  {
   "cell_type": "code",
   "execution_count": 62,
   "metadata": {},
   "outputs": [
    {
     "data": {
      "text/plain": [
       "array([[0.18399998, 0.12303349, 0.13409813]])"
      ]
     },
     "execution_count": 62,
     "metadata": {},
     "output_type": "execute_result"
    }
   ],
   "source": [
    "winner"
   ]
  },
  {
   "cell_type": "code",
   "execution_count": 63,
   "metadata": {},
   "outputs": [
    {
     "data": {
      "text/plain": [
       "[<mpl_toolkits.mplot3d.art3d.Line3D at 0x7f01e1d73520>]"
      ]
     },
     "execution_count": 63,
     "metadata": {},
     "output_type": "execute_result"
    }
   ],
   "source": [
    "fig10_ax.plot(*np.vstack((winner, winner[0])).T, c=\"C2\", marker=\"o\")"
   ]
  },
  {
   "cell_type": "code",
   "execution_count": 64,
   "metadata": {},
   "outputs": [
    {
     "data": {
      "text/plain": [
       "<Axes3DSubplot:>"
      ]
     },
     "execution_count": 64,
     "metadata": {},
     "output_type": "execute_result"
    }
   ],
   "source": [
    "fig10_ax"
   ]
  },
  {
   "cell_type": "code",
   "execution_count": 65,
   "metadata": {},
   "outputs": [
    {
     "data": {
      "text/plain": [
       "<matplotlib.legend.Legend at 0x7f01e1d4ed60>"
      ]
     },
     "execution_count": 65,
     "metadata": {},
     "output_type": "execute_result"
    }
   ],
   "source": [
    "fig11, fig11_axes = plt.subplots(2, 3, figsize=[18, 10],  subplot_kw=dict(projection='3d'))\n",
    "for i, ax in enumerate(fig11_axes.flat):\n",
    "    np.random.seed(i+20)\n",
    "    n_points = 43\n",
    "    points_3d = Pareto_split(np.random.uniform(0.2, 1, size=(n_points,3)))[0][:20]\n",
    "    \n",
    "    ax.plot(*np.vstack((np.zeros_like(dmv), dmv*1.5)).T, c=\"C1\", linestyle=\"--\", label=\"dm vector\")\n",
    "    ax.scatter(*points_3d.T, c=\"C0\", label=\"solutions\")\n",
    "    \n",
    "    try:\n",
    "        winner = dm_choice(points_3d, dmv)\n",
    "        ax.plot(*np.vstack((winner, winner[0])).T, c=\"C2\", marker=\"o\", label=\"Chosen pair\")\n",
    "    except:\n",
    "        pass\n",
    "    ax.set_xlim([0., 1.])\n",
    "    ax.set_ylim([0., 1.])\n",
    "    ax.view_init(elev=10., azim=25)\n",
    "    \n",
    "ax.legend()"
   ]
  },
  {
   "cell_type": "markdown",
   "metadata": {},
   "source": [
    "### 4D"
   ]
  },
  {
   "cell_type": "code",
   "execution_count": 17,
   "metadata": {},
   "outputs": [
    {
     "data": {
      "text/plain": [
       "(9, 4)"
      ]
     },
     "execution_count": 17,
     "metadata": {},
     "output_type": "execute_result"
    }
   ],
   "source": [
    "points_4d = Pareto_split(np.random.uniform(0.2, 1, size=(n_points,4)))[0][:30]\n",
    "points_4d.shape"
   ]
  },
  {
   "cell_type": "code",
   "execution_count": 18,
   "metadata": {},
   "outputs": [],
   "source": [
    "dmv = np.array([1., 1., 1., 1.]).reshape(1, -1)"
   ]
  },
  {
   "cell_type": "code",
   "execution_count": 19,
   "metadata": {},
   "outputs": [],
   "source": [
    "winner= dm_choice(points_4d, dmv)"
   ]
  },
  {
   "cell_type": "code",
   "execution_count": 20,
   "metadata": {},
   "outputs": [
    {
     "data": {
      "text/plain": [
       "array([[0.84825139, 0.24807694, 0.55979485, 0.85053642],\n",
       "       [0.4113907 , 0.25072079, 0.39368614, 0.26805637],\n",
       "       [0.21027846, 0.33251346, 0.24829315, 0.42252475],\n",
       "       [0.22202277, 0.42318214, 0.2601364 , 0.2381907 ]])"
      ]
     },
     "execution_count": 20,
     "metadata": {},
     "output_type": "execute_result"
    }
   ],
   "source": [
    "winner"
   ]
  },
  {
   "cell_type": "code",
   "execution_count": null,
   "metadata": {},
   "outputs": [],
   "source": []
  }
 ],
 "metadata": {
  "kernelspec": {
   "display_name": "testsuite",
   "language": "python",
   "name": "testsuite"
  },
  "language_info": {
   "codemirror_mode": {
    "name": "ipython",
    "version": 3
   },
   "file_extension": ".py",
   "mimetype": "text/x-python",
   "name": "python",
   "nbconvert_exporter": "python",
   "pygments_lexer": "ipython3",
   "version": "3.8.3"
  }
 },
 "nbformat": 4,
 "nbformat_minor": 4
}
