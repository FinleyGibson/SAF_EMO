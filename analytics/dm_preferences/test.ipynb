{
 "cells": [
  {
   "cell_type": "code",
   "execution_count": 27,
   "metadata": {},
   "outputs": [],
   "source": [
    "import rootpath\n",
    "import sys\n",
    "sys.path.append(rootpath.detect())\n",
    "\n",
    "import numpy as np\n",
    "import matplotlib.pyplot as plt\n",
    "from testsuite.utilities import Pareto_split\n",
    "from testsuite.directed_optimisers import DmVector\n",
    "from testsuite.surrogates import GP, MultiSurrogate\n",
    "import wfg"
   ]
  },
  {
   "cell_type": "code",
   "execution_count": 28,
   "metadata": {},
   "outputs": [],
   "source": [
    "# setup function\n",
    "n_obj = 2  # Number of objectives\n",
    "kfactor = 4\n",
    "lfactor = 4\n",
    "k = kfactor * (n_obj - 1)  # position related params\n",
    "l = lfactor * 2  # distance related params\n",
    "n_dim = k + l\n",
    "limits = np.zeros((2, n_dim))\n",
    "limits[1] = np.array(range(1, n_dim + 1)) * 2\n",
    "\n",
    "func = wfg.WFG5\n",
    "gp_surr_multi = MultiSurrogate(GP, scaled=True)\n",
    "\n",
    "\n",
    "def test_function(x):\n",
    "    if x.ndim < 2:\n",
    "        x = x.reshape(1, -1)\n",
    "    return np.array([func(xi, k, n_obj) for xi in x])\n"
   ]
  },
  {
   "cell_type": "code",
   "execution_count": 29,
   "metadata": {},
   "outputs": [],
   "source": [
    "M = n_obj\n",
    "N = 500\n",
    "y = np.zeros((N, n_obj))\n",
    "x = np.zeros((N, n_dim))\n",
    "for n in range(N):\n",
    "    z = wfg.random_soln(k, l, func.__name__)\n",
    "    y[n, :] = func(z, k, M)\n",
    "    x[n, :] = z"
   ]
  },
  {
   "cell_type": "code",
   "execution_count": 32,
   "metadata": {},
   "outputs": [],
   "source": [
    "dmv = np.array([[1.5, 1.]])\n",
    "dmv = np.array([[1, 2.5]])\n",
    "dmv = dmv/np.linalg.norm(dmv)\n",
    "opt = DmVector(objective_function=test_function, ei=False, w=0.5,\n",
    "               limits=limits, surrogate=gp_surr_multi, n_initial=10, budget=20,\n",
    "               seed=10, cmaes_restarts=0, dmv=dmv)"
   ]
  },
  {
   "cell_type": "code",
   "execution_count": 33,
   "metadata": {},
   "outputs": [
    {
     "data": {
      "text/plain": [
       "<matplotlib.legend.Legend at 0x7f984e17df40>"
      ]
     },
     "execution_count": 33,
     "metadata": {},
     "output_type": "execute_result"
    },
    {
     "data": {
      "image/png": "[encoded data removed]",
      "text/plain": [
       "<Figure size 576x576 with 1 Axes>"
      ]
     },
     "metadata": {
      "needs_background": "light"
     },
     "output_type": "display_data"
    }
   ],
   "source": [
    "fig01 = plt.figure(figsize=[8, 8])\n",
    "fig01_ax = fig01.gca()\n",
    "\n",
    "\n",
    "fig01_ax.scatter(*opt.targets.T, c=\"magenta\", label=\"intitial targets\", alpha=0.4, s=150)\n",
    "fig01_ax.plot(*y[np.argsort(y[:,0])].T, c=\"k\", label=\"Pareto front\")\n",
    "fig01_ax.scatter(*opt.d.T, c=\"C0\", label=\"intitial samples\")\n",
    "fig01_ax.scatter(*opt.p.T, c=\"C3\", label=\"intitial samples\")\n",
    "fig01_ax.plot(*np.vstack((np.zeros_like(dmv), dmv*np.max([np.linalg.norm(yi) for yi in y]))).T, c=\"C1\", linestyle=\"--\")\n",
    "\n",
    "fig01_ax.legend()\n"
   ]
  },
  {
   "cell_type": "code",
   "execution_count": 21,
   "metadata": {},
   "outputs": [
    {
     "name": "stderr",
     "output_type": "stream",
     "text": [
      "reconstraining parameters GP_regression.Mat52.lengthscale\n",
      "reconstraining parameters GP_regression.Mat52.variance\n",
      "reconstraining parameters GP_regression.Gaussian_noise.variance\n"
     ]
    },
    {
     "name": "stdout",
     "output_type": "stream",
     "text": [
      "Optimization restart 1/10, f = 18.818692954312613\n",
      "Optimization restart 2/10, f = 140.18353157948656\n",
      "Optimization restart 3/10, f = 18.818692954313263\n",
      "Optimization restart 4/10, f = 29.797709197298133\n",
      "Optimization restart 5/10, f = 55.76958334055768\n"
     ]
    },
    {
     "name": "stderr",
     "output_type": "stream",
     "text": [
      "reconstraining parameters GP_regression.Mat52.lengthscale\n",
      "reconstraining parameters GP_regression.Mat52.variance\n",
      "reconstraining parameters GP_regression.Gaussian_noise.variance\n"
     ]
    },
    {
     "name": "stdout",
     "output_type": "stream",
     "text": [
      "Optimization restart 6/10, f = 18.818692954312446\n",
      "Optimization restart 7/10, f = 18.818692954312493\n",
      "Optimization restart 8/10, f = 55.76958348872577\n",
      "Optimization restart 9/10, f = 18.818692954312393\n",
      "Optimization restart 10/10, f = 18.818692954312795\n",
      "Optimization restart 1/10, f = 22.440822860569803\n",
      "Optimization restart 2/10, f = 140.18353157948656\n",
      "Optimization restart 3/10, f = 22.440822860567028\n",
      "Optimization restart 4/10, f = 22.440822860599937\n",
      "Optimization restart 5/10, f = 29.797709197298126\n",
      "Optimization restart 6/10, f = 29.797709197298126\n",
      "Optimization restart 7/10, f = 22.44082286056763\n",
      "Optimization restart 8/10, f = 29.797709197359833\n",
      "Optimization restart 9/10, f = 68.88745001053618\n",
      "Optimization restart 10/10, f = 22.44082286056774\n",
      "(5_w,11)-aCMA-ES (mu_w=3.4,w_1=42%) in dimension 12 (seed=721869, Tue Jul  6 16:50:32 2021)\n",
      "Iterat #Fevals   function value  axis ratio  sigma  min&max std  t[m:s]\n",
      "    1     11 -4.435234675745500e-01 1.0e+00 2.47e-01  2e-01  3e-01 0:00.0\n",
      "    2     22 -4.462338136116714e-01 1.2e+00 2.60e-01  3e-01  3e-01 0:00.0\n",
      "    3     33 -4.468381607739717e-01 1.3e+00 2.69e-01  3e-01  3e-01 0:00.1\n",
      "  100   1100 -4.610820417354817e-01 1.2e+01 5.45e-01  1e-01  9e-01 0:02.4\n",
      "  200   2200 -4.660526126763635e-01 2.6e+01 1.68e-01  3e-02  2e-01 0:04.1\n",
      "  300   3300 -4.662009975341650e-01 1.5e+02 2.73e-02  4e-03  3e-02 0:05.5\n",
      "  400   4400 -4.662044373542753e-01 1.1e+03 8.64e-03  9e-04  8e-03 0:07.9\n",
      "  500   5500 -4.662053524245366e-01 5.4e+03 1.48e-03  1e-04  9e-04 0:10.3\n",
      "  600   6600 -4.662053535642036e-01 7.9e+04 1.26e-04  7e-06  7e-05 0:12.8\n",
      "  634   6974 -4.662053535679254e-01 2.2e+05 4.47e-05  2e-06  2e-05 0:13.6\n"
     ]
    },
    {
     "name": "stderr",
     "output_type": "stream",
     "text": [
      "reconstraining parameters GP_regression.Mat52.lengthscale\n",
      "reconstraining parameters GP_regression.Mat52.variance\n",
      "reconstraining parameters GP_regression.Gaussian_noise.variance\n"
     ]
    },
    {
     "name": "stdout",
     "output_type": "stream",
     "text": [
      "termination on tolfun=1e-11 (Tue Jul  6 16:50:47 2021)\n",
      "final/bestever f-value = -4.662054e-01 -4.662054e-01\n",
      "incumbent solution: [0.22184512 1.27095184 4.69052472 4.120841   0.95722345 4.70015022\n",
      " 8.92881518 2.51529964 ...]\n",
      "std deviations: [2.24792659e-06 3.07326951e-06 4.54787583e-06 1.05454420e-05\n",
      " 1.58077707e-05 1.06104150e-05 1.08967802e-05 2.45363950e-05 ...]\n",
      "Optimization restart 1/10, f = 20.459094083841478\n",
      "Optimization restart 2/10, f = 57.157992381221035\n",
      "Optimization restart 3/10, f = 31.216647730502803\n",
      "Optimization restart 4/10, f = 146.8589378451764\n",
      "Optimization restart 5/10, f = 20.459094083840004\n",
      "Optimization restart 6/10, f = 146.8589378451764\n",
      "Optimization restart 7/10, f = 20.459094083839048\n",
      "Optimization restart 8/10, f = 31.216647730502803\n",
      "Optimization restart 9/10, f = 206836301.36840534\n"
     ]
    },
    {
     "name": "stderr",
     "output_type": "stream",
     "text": [
      "reconstraining parameters GP_regression.Mat52.lengthscale\n",
      "reconstraining parameters GP_regression.Mat52.variance\n",
      "reconstraining parameters GP_regression.Gaussian_noise.variance\n"
     ]
    },
    {
     "name": "stdout",
     "output_type": "stream",
     "text": [
      "Optimization restart 10/10, f = 146.85888928345463\n",
      "Optimization restart 1/10, f = 23.754206165335134\n",
      "Optimization restart 2/10, f = 23.754206165460136\n",
      "Optimization restart 3/10, f = 146.8589378451764\n",
      "Optimization restart 4/10, f = 23.75420616558926\n",
      "Optimization restart 5/10, f = 23.754206165335063\n",
      "Optimization restart 6/10, f = 23.754206165334942\n",
      "Optimization restart 7/10, f = 23.754206165338214\n",
      "Optimization restart 8/10, f = 31.2166477305028\n",
      "Optimization restart 9/10, f = 71.41532060128597\n",
      "Optimization restart 10/10, f = 23.754206165334963\n",
      "(5_w,11)-aCMA-ES (mu_w=3.4,w_1=42%) in dimension 12 (seed=702137, Tue Jul  6 16:50:49 2021)\n",
      "Iterat #Fevals   function value  axis ratio  sigma  min&max std  t[m:s]\n",
      "    1     11 -4.361537418745250e-01 1.0e+00 2.30e-01  2e-01  2e-01 0:00.0\n",
      "    2     22 -4.367135831362059e-01 1.2e+00 2.21e-01  2e-01  2e-01 0:00.0\n",
      "    3     33 -4.377802727176696e-01 1.2e+00 2.37e-01  2e-01  2e-01 0:00.1\n",
      "  100   1100 -4.606821687915650e-01 5.0e+00 8.96e-01  3e-01  1e+00 0:02.5\n",
      "  200   2200 -4.631806937951886e-01 3.2e+01 1.89e-01  2e-02  3e-01 0:03.9\n",
      "  300   3300 -4.633361961976836e-01 1.5e+02 1.06e-01  6e-03  1e-01 0:05.2\n",
      "  400   4400 -4.633798526005698e-01 5.9e+02 2.61e-02  9e-04  3e-02 0:06.4\n",
      "  500   5500 -4.633817261457713e-01 1.5e+03 1.10e-02  2e-04  9e-03 0:07.7\n",
      "  600   6600 -4.633817975947401e-01 8.1e+03 3.52e-03  5e-05  3e-03 0:08.9\n",
      "  700   7700 -4.633818027759609e-01 2.8e+04 1.58e-03  2e-05  9e-04 0:10.2\n",
      "  800   8800 -4.633818033548134e-01 9.4e+04 7.85e-04  7e-06  3e-04 0:11.4\n",
      "  891   9801 -4.633818033889837e-01 3.6e+05 1.71e-04  9e-07  6e-05 0:12.6\n"
     ]
    },
    {
     "name": "stderr",
     "output_type": "stream",
     "text": [
      "reconstraining parameters GP_regression.Mat52.lengthscale\n",
      "reconstraining parameters GP_regression.Mat52.variance\n",
      "reconstraining parameters GP_regression.Gaussian_noise.variance\n"
     ]
    },
    {
     "name": "stdout",
     "output_type": "stream",
     "text": [
      "termination on tolfun=1e-11 (Tue Jul  6 16:51:03 2021)\n",
      "final/bestever f-value = -4.633818e-01 -4.633818e-01\n",
      "incumbent solution: [1.96883502e-09 1.01152819e+00 3.53394549e+00 8.00000000e+00\n",
      " 1.00000000e+01 1.20000000e+01 4.03786836e+00 8.90437615e+00 ...]\n",
      "std deviations: [8.75830193e-07 5.84771455e-06 1.29429751e-05 7.86069872e-06\n",
      " 8.09182236e-06 1.10963482e-05 2.16006393e-05 3.13520914e-05 ...]\n",
      "Optimization restart 1/10, f = 21.575743249325654\n",
      "Optimization restart 2/10, f = 21.57574324913974\n",
      "Optimization restart 3/10, f = 21.575743249261272\n",
      "Optimization restart 4/10, f = 21.575743249140025\n",
      "Optimization restart 5/10, f = 236351538.5597235\n",
      "Optimization restart 6/10, f = 153.53434411086621\n",
      "Optimization restart 7/10, f = 58.75915286923667\n",
      "Optimization restart 8/10, f = 21.57574324913966\n",
      "Optimization restart 9/10, f = 21.575743249139983\n",
      "Optimization restart 10/10, f = 21.575743249139947\n"
     ]
    },
    {
     "name": "stderr",
     "output_type": "stream",
     "text": [
      "reconstraining parameters GP_regression.Mat52.lengthscale\n",
      "reconstraining parameters GP_regression.Mat52.variance\n",
      "reconstraining parameters GP_regression.Gaussian_noise.variance\n"
     ]
    },
    {
     "name": "stdout",
     "output_type": "stream",
     "text": [
      "Optimization restart 1/10, f = 24.89029881158227\n",
      "Optimization restart 2/10, f = 24.890298811692038\n",
      "Optimization restart 3/10, f = 32.635586263707665\n",
      "Optimization restart 4/10, f = 24.890298811582202\n",
      "Optimization restart 5/10, f = 24.890298811608048\n",
      "Optimization restart 6/10, f = 24.890298811595397\n",
      "Optimization restart 7/10, f = 24.89029881159083\n",
      "Optimization restart 8/10, f = 32.63558626370747\n",
      "Optimization restart 9/10, f = 24.89029881158222\n",
      "Optimization restart 10/10, f = 73.74256571429936\n",
      "(5_w,11)-aCMA-ES (mu_w=3.4,w_1=42%) in dimension 12 (seed=690509, Tue Jul  6 16:51:06 2021)\n",
      "Iterat #Fevals   function value  axis ratio  sigma  min&max std  t[m:s]\n",
      "    1     11 -4.421884071436505e-01 1.0e+00 2.39e-01  2e-01  3e-01 0:00.0\n",
      "    2     22 -4.446142800243160e-01 1.2e+00 2.41e-01  2e-01  3e-01 0:00.0\n",
      "    3     33 -4.495704320826799e-01 1.3e+00 2.71e-01  3e-01  3e-01 0:00.1\n",
      "  100   1100 -4.554421979956771e-01 1.1e+01 2.51e-01  4e-02  4e-01 0:02.5\n",
      "  200   2200 -4.558230556842677e-01 2.7e+01 1.70e-02  1e-03  3e-02 0:04.9\n",
      "  300   3300 -4.558233171626018e-01 1.1e+02 1.42e-03  2e-05  2e-03 0:07.4\n",
      "  400   4400 -4.558233245519389e-01 7.0e+02 2.22e-04  4e-07  2e-04 0:09.8\n",
      "  477   5247 -4.558233245853002e-01 4.1e+03 6.11e-05  2e-08  6e-05 0:11.7\n"
     ]
    },
    {
     "name": "stderr",
     "output_type": "stream",
     "text": [
      "reconstraining parameters GP_regression.Mat52.lengthscale\n",
      "reconstraining parameters GP_regression.Mat52.variance\n",
      "reconstraining parameters GP_regression.Gaussian_noise.variance\n"
     ]
    },
    {
     "name": "stdout",
     "output_type": "stream",
     "text": [
      "termination on tolfun=1e-11 (Tue Jul  6 16:51:19 2021)\n",
      "final/bestever f-value = -4.558233e-01 -4.558233e-01\n",
      "incumbent solution: [5.03783728e-11 4.00000000e+00 6.00000000e+00 1.17024804e-11\n",
      " 1.00000000e+01 1.20000000e+01 1.89501938e+00 1.00239879e-08 ...]\n",
      "std deviations: [3.01109182e-06 8.30821160e-06 2.00906716e-05 5.77303795e-06\n",
      " 2.47000704e-05 2.85290154e-05 1.75836988e-08 1.50566198e-05 ...]\n",
      "Optimization restart 1/10, f = 22.078863513908953\n",
      "Optimization restart 2/10, f = 22.078863513906278\n",
      "Optimization restart 3/10, f = 22.078863513906\n",
      "Optimization restart 4/10, f = 160.2097503765561\n",
      "Optimization restart 5/10, f = 22.07886351390844\n",
      "Optimization restart 6/10, f = 22.078863513905993\n",
      "Optimization restart 7/10, f = 22.07886351390617\n",
      "Optimization restart 8/10, f = 22.07886351390863\n"
     ]
    },
    {
     "name": "stderr",
     "output_type": "stream",
     "text": [
      "reconstraining parameters GP_regression.Mat52.lengthscale\n",
      "reconstraining parameters GP_regression.Mat52.variance\n",
      "reconstraining parameters GP_regression.Gaussian_noise.variance\n"
     ]
    },
    {
     "name": "stdout",
     "output_type": "stream",
     "text": [
      "Optimization restart 9/10, f = 22.078863513906228\n",
      "Optimization restart 10/10, f = 34.05452479691215\n",
      "Optimization restart 1/10, f = 25.972054566378358\n",
      "Optimization restart 2/10, f = 25.972054566357222\n",
      "Optimization restart 3/10, f = 160.2097503765561\n",
      "Optimization restart 4/10, f = 76.98273005039805\n",
      "Optimization restart 5/10, f = 25.972054566374545\n",
      "Optimization restart 6/10, f = 34.05452479691215\n",
      "Optimization restart 7/10, f = 160.2097503765561\n",
      "Optimization restart 8/10, f = 34.054524796912204\n",
      "Optimization restart 9/10, f = 34.05452479691216\n",
      "Optimization restart 10/10, f = 25.972054566360587\n",
      "(5_w,11)-aCMA-ES (mu_w=3.4,w_1=42%) in dimension 12 (seed=712593, Tue Jul  6 16:51:21 2021)\n",
      "Iterat #Fevals   function value  axis ratio  sigma  min&max std  t[m:s]\n",
      "    1     11 -4.429433068036004e-01 1.0e+00 2.50e-01  2e-01  3e-01 0:00.0\n",
      "    2     22 -4.431259058421037e-01 1.2e+00 2.45e-01  2e-01  3e-01 0:00.0\n",
      "    3     33 -4.449343342378154e-01 1.3e+00 2.70e-01  3e-01  3e-01 0:00.1\n",
      "  100   1100 -4.524078768927832e-01 1.3e+01 5.63e-01  1e-01  8e-01 0:02.4\n",
      "  200   2200 -4.529174686475237e-01 2.0e+01 1.76e-01  2e-02  3e-01 0:04.4\n",
      "  300   3300 -4.529563855142901e-01 2.1e+01 2.64e-02  3e-03  3e-02 0:05.6\n",
      "  400   4400 -4.553204316900354e-01 3.3e+01 1.43e+00  1e-01  2e+00 0:06.9\n",
      "  500   5500 -4.605535110873266e-01 3.9e+01 8.73e-01  5e-02  6e-01 0:08.1\n",
      "  600   6600 -4.622902178923802e-01 8.0e+01 1.04e+00  2e-02  7e-01 0:09.4\n",
      "  700   7700 -4.625759363148242e-01 2.2e+02 2.12e-01  2e-03  9e-02 0:10.6\n",
      "  800   8800 -4.625783190723917e-01 8.4e+02 2.08e-02  1e-04  5e-03 0:11.9\n",
      "  900   9900 -4.625784476037214e-01 3.5e+03 1.30e-02  7e-05  3e-03 0:13.1\n",
      " 1000  11000 -4.625784619769806e-01 1.2e+04 3.75e-03  1e-05  6e-04 0:14.4\n",
      "Iterat #Fevals   function value  axis ratio  sigma  min&max std  t[m:s]\n",
      " 1100  12100 -4.625784631158227e-01 4.4e+04 3.31e-03  8e-06  4e-04 0:15.6\n",
      " 1200  13200 -4.625784633318815e-01 1.1e+05 2.03e-03  4e-06  2e-04 0:16.9\n",
      " 1300  14300 -4.625784633936411e-01 2.2e+05 1.52e-03  2e-06  1e-04 0:18.2\n",
      " 1375  15125 -4.625784634169744e-01 2.0e+05 2.13e-03  2e-06  8e-05 0:19.1\n"
     ]
    },
    {
     "name": "stderr",
     "output_type": "stream",
     "text": [
      "reconstraining parameters GP_regression.Mat52.lengthscale\n",
      "reconstraining parameters GP_regression.Mat52.variance\n",
      "reconstraining parameters GP_regression.Gaussian_noise.variance\n"
     ]
    },
    {
     "name": "stdout",
     "output_type": "stream",
     "text": [
      "termination on tolfun=1e-11 (Tue Jul  6 16:51:43 2021)\n",
      "final/bestever f-value = -4.625785e-01 -4.625785e-01\n",
      "incumbent solution: [9.75173351e-09 2.70983583e+00 3.77955537e+00 2.22851716e+00\n",
      " 1.00000000e+01 1.20000000e+01 6.16417575e+00 1.30237377e+01 ...]\n",
      "std deviations: [2.08815127e-06 1.11605792e-05 1.75187373e-05 2.65862355e-05\n",
      " 1.97870276e-05 3.26993756e-05 3.78056097e-05 5.26333395e-05 ...]\n",
      "Optimization restart 1/10, f = 23.308618585565156\n",
      "Optimization restart 2/10, f = 166.88515656061415\n",
      "Optimization restart 3/10, f = 35.47346333011682\n",
      "Optimization restart 4/10, f = 61.50470413469385\n",
      "Optimization restart 5/10, f = 23.308618585559344\n",
      "Optimization restart 6/10, f = 23.30861858555547\n",
      "Optimization restart 7/10, f = 23.308618585555852\n",
      "Optimization restart 8/10, f = 166.88515661659966\n"
     ]
    },
    {
     "name": "stderr",
     "output_type": "stream",
     "text": [
      "reconstraining parameters GP_regression.Mat52.lengthscale\n",
      "reconstraining parameters GP_regression.Mat52.variance\n",
      "reconstraining parameters GP_regression.Gaussian_noise.variance\n"
     ]
    },
    {
     "name": "stdout",
     "output_type": "stream",
     "text": [
      "Optimization restart 9/10, f = 61.5047043870368\n",
      "Optimization restart 10/10, f = 166.88515664224593\n",
      "Optimization restart 1/10, f = 27.1964856605345\n",
      "Optimization restart 2/10, f = 27.19648566053681\n",
      "Optimization restart 3/10, f = 27.196485660534872\n",
      "Optimization restart 4/10, f = 166.88515664224593\n",
      "Optimization restart 5/10, f = 35.473463321091884\n",
      "Optimization restart 6/10, f = 27.196485660534364\n",
      "Optimization restart 7/10, f = 79.46859816615762\n",
      "Optimization restart 8/10, f = 27.19648566053357\n",
      "Optimization restart 9/10, f = 35.47346333011682\n",
      "Optimization restart 10/10, f = 27.19648566053442\n",
      "(5_w,11)-aCMA-ES (mu_w=3.4,w_1=42%) in dimension 12 (seed=600266, Tue Jul  6 16:51:46 2021)\n",
      "Iterat #Fevals   function value  axis ratio  sigma  min&max std  t[m:s]\n",
      "    1     11 -4.380179474328200e-01 1.0e+00 2.32e-01  2e-01  2e-01 0:00.0\n",
      "    2     22 -4.387051962743919e-01 1.1e+00 2.44e-01  2e-01  3e-01 0:00.1\n",
      "    3     33 -4.384334949572277e-01 1.3e+00 2.62e-01  2e-01  3e-01 0:00.1\n",
      "  100   1100 -4.408689927271212e-01 8.0e+00 4.56e-01  2e-01  7e-01 0:01.8\n",
      "  200   2200 -4.541193915526133e-01 8.9e+00 3.04e-01  7e-02  4e-01 0:03.0\n",
      "  300   3300 -4.548127538750174e-01 8.1e+01 2.84e-01  3e-02  5e-01 0:04.3\n",
      "  400   4400 -4.557161540293049e-01 1.2e+02 1.70e-01  1e-02  2e-01 0:05.6\n",
      "  500   5500 -4.558193820889118e-01 3.5e+02 5.15e-02  2e-03  4e-02 0:06.8\n",
      "  600   6600 -4.558210546119233e-01 2.7e+03 8.35e-03  3e-04  5e-03 0:08.1\n",
      "  700   7700 -4.558210649643842e-01 2.9e+04 8.74e-04  2e-05  4e-04 0:09.4\n",
      "  800   8800 -4.558210650719013e-01 2.1e+05 1.11e-04  2e-06  4e-05 0:10.7\n",
      "  807   8877 -4.558210650721722e-01 2.5e+05 9.22e-05  2e-06  3e-05 0:10.8\n"
     ]
    },
    {
     "name": "stderr",
     "output_type": "stream",
     "text": [
      "reconstraining parameters GP_regression.Mat52.lengthscale\n",
      "reconstraining parameters GP_regression.Mat52.variance\n",
      "reconstraining parameters GP_regression.Gaussian_noise.variance\n"
     ]
    },
    {
     "name": "stdout",
     "output_type": "stream",
     "text": [
      "termination on tolfun=1e-11 (Tue Jul  6 16:51:58 2021)\n",
      "final/bestever f-value = -4.558211e-01 -4.558211e-01\n",
      "incumbent solution: [9.12753309e-01 2.76729326e-11 4.92458744e+00 6.82751342e-01\n",
      " 7.00740463e+00 1.20000000e+01 2.03078600e+00 9.72641868e+00 ...]\n",
      "std deviations: [1.93992191e-06 1.65285713e-06 5.26009911e-06 9.72231160e-06\n",
      " 1.39632111e-05 1.08478655e-05 1.59470566e-05 2.68486954e-05 ...]\n",
      "Optimization restart 1/10, f = 23.970076568448626\n",
      "Optimization restart 2/10, f = 23.970076568439808\n",
      "Optimization restart 3/10, f = 173.56056290793578\n",
      "Optimization restart 4/10, f = 36.89240186332149\n",
      "Optimization restart 5/10, f = 23.9700765684385\n",
      "Optimization restart 6/10, f = 23.97007656843986\n",
      "Optimization restart 7/10, f = 173.56055867703864\n",
      "Optimization restart 8/10, f = 62.22529539848249\n"
     ]
    },
    {
     "name": "stderr",
     "output_type": "stream",
     "text": [
      "reconstraining parameters GP_regression.Mat52.lengthscale\n",
      "reconstraining parameters GP_regression.Mat52.variance\n",
      "reconstraining parameters GP_regression.Gaussian_noise.variance\n"
     ]
    },
    {
     "name": "stdout",
     "output_type": "stream",
     "text": [
      "Optimization restart 9/10, f = 23.97007656843848\n",
      "Optimization restart 10/10, f = 36.892401863322036\n",
      "Optimization restart 1/10, f = 28.322555699892224\n",
      "Optimization restart 2/10, f = 28.322555699952353\n",
      "Optimization restart 3/10, f = 36.89240186332149\n",
      "Optimization restart 4/10, f = 28.322555699893552\n",
      "Optimization restart 5/10, f = 376130983.4473554\n",
      "Optimization restart 6/10, f = 173.56056290793578\n",
      "Optimization restart 7/10, f = 173.56056290793578\n",
      "Optimization restart 8/10, f = 28.32255569990251\n",
      "Optimization restart 9/10, f = 173.56056290793578\n",
      "Optimization restart 10/10, f = 28.322555699892234\n",
      "(5_w,11)-aCMA-ES (mu_w=3.4,w_1=42%) in dimension 12 (seed=752804, Tue Jul  6 16:51:59 2021)\n",
      "Iterat #Fevals   function value  axis ratio  sigma  min&max std  t[m:s]\n",
      "    1     11 -4.288082016997763e-01 1.0e+00 2.31e-01  2e-01  2e-01 0:00.0\n",
      "    2     22 -4.300877141601754e-01 1.1e+00 2.37e-01  2e-01  3e-01 0:00.1\n",
      "    3     33 -4.302044898377608e-01 1.3e+00 2.45e-01  2e-01  3e-01 0:00.1\n",
      "  100   1100 -4.781687668069001e-01 4.9e+00 9.06e-01  5e-01  1e+00 0:02.5\n",
      "  200   2200 -5.051732241328470e-01 2.3e+01 1.69e-01  2e-02  3e-01 0:05.0\n",
      "  300   3300 -5.057938032193845e-01 2.0e+02 2.27e-02  2e-03  3e-02 0:07.5\n",
      "  400   4400 -5.058001483546096e-01 1.9e+03 2.41e-03  1e-04  3e-03 0:10.0\n",
      "  500   5500 -5.058002536995176e-01 1.7e+04 2.79e-04  1e-05  3e-04 0:12.6\n",
      "  600   6600 -5.058002559916936e-01 1.4e+05 8.15e-05  2e-06  8e-05 0:15.1\n",
      "  649   7139 -5.058002560084320e-01 4.8e+05 1.53e-05  4e-07  1e-05 0:16.3\n"
     ]
    },
    {
     "name": "stderr",
     "output_type": "stream",
     "text": [
      "reconstraining parameters GP_regression.Mat52.lengthscale\n",
      "reconstraining parameters GP_regression.Mat52.variance\n",
      "reconstraining parameters GP_regression.Gaussian_noise.variance\n"
     ]
    },
    {
     "name": "stdout",
     "output_type": "stream",
     "text": [
      "termination on tolfun=1e-11 (Tue Jul  6 16:52:17 2021)\n",
      "final/bestever f-value = -5.058003e-01 -5.058003e-01\n",
      "incumbent solution: [ 0.54450485  1.45378251  2.13755757  5.27464549  9.3386405   9.59256175\n",
      "  8.95632868 16.         ...]\n",
      "std deviations: [4.48099898e-07 1.03118747e-06 1.26546391e-06 1.92067799e-06\n",
      " 2.48547869e-06 3.43370224e-06 2.34297844e-06 1.04631188e-05 ...]\n",
      "Optimization restart 1/10, f = 22.43283808858448\n",
      "Optimization restart 2/10, f = 61.095022304635556\n",
      "Optimization restart 3/10, f = 38.31134039652616\n",
      "Optimization restart 4/10, f = 22.432838088447934\n",
      "Optimization restart 5/10, f = 38.31134039652616\n",
      "Optimization restart 6/10, f = 22.4328380884498\n",
      "Optimization restart 7/10, f = 61.0950018343398\n",
      "Optimization restart 8/10, f = 180.23596917362562\n"
     ]
    },
    {
     "name": "stderr",
     "output_type": "stream",
     "text": [
      "reconstraining parameters GP_regression.Mat52.lengthscale\n",
      "reconstraining parameters GP_regression.Mat52.variance\n",
      "reconstraining parameters GP_regression.Gaussian_noise.variance\n"
     ]
    },
    {
     "name": "stdout",
     "output_type": "stream",
     "text": [
      "Optimization restart 9/10, f = 22.432838088446918\n",
      "Optimization restart 10/10, f = 38.311340396526155\n",
      "Optimization restart 1/10, f = 27.415162362530072\n",
      "Optimization restart 2/10, f = 27.41516236249219\n",
      "Optimization restart 3/10, f = 27.415162362492744\n",
      "Optimization restart 4/10, f = 27.415162362496943\n",
      "Optimization restart 5/10, f = 27.415162362517613\n",
      "Optimization restart 6/10, f = 27.41516236251838\n",
      "Optimization restart 7/10, f = 27.415162362494236\n",
      "Optimization restart 8/10, f = 27.415162362610143\n",
      "Optimization restart 9/10, f = 27.41516236249396\n",
      "Optimization restart 10/10, f = 38.31134039652619\n",
      "(5_w,11)-aCMA-ES (mu_w=3.4,w_1=42%) in dimension 12 (seed=702952, Tue Jul  6 16:52:20 2021)\n",
      "Iterat #Fevals   function value  axis ratio  sigma  min&max std  t[m:s]\n",
      "    1     11 -4.384791369182655e-01 1.0e+00 2.27e-01  2e-01  2e-01 0:00.0\n",
      "    2     22 -4.395462546243403e-01 1.1e+00 2.12e-01  2e-01  2e-01 0:00.0\n",
      "    3     33 -4.404002484342699e-01 1.2e+00 2.11e-01  2e-01  2e-01 0:00.1\n",
      "  100   1100 -4.538210124156308e-01 6.3e+00 3.09e-01  1e-01  4e-01 0:02.4\n",
      "  200   2200 -4.547246902866993e-01 1.2e+01 1.11e-01  2e-02  1e-01 0:04.9\n",
      "  300   3300 -4.558076665314078e-01 1.5e+01 1.64e-01  2e-02  2e-01 0:07.4\n",
      "  400   4400 -4.559605078293394e-01 5.4e+01 7.43e-02  6e-03  1e-01 0:09.8\n",
      "  500   5500 -4.559846440144385e-01 1.2e+02 2.80e-02  2e-03  3e-02 0:12.3\n",
      "  600   6600 -4.559862112160837e-01 5.3e+02 8.26e-03  5e-04  7e-03 0:14.8\n",
      "  700   7700 -4.559865753624305e-01 1.0e+03 4.87e-03  2e-04  3e-03 0:17.3\n",
      "  800   8800 -4.559866545760951e-01 2.6e+03 5.03e-03  1e-04  3e-03 0:19.8\n",
      "  900   9900 -4.559866696348507e-01 7.3e+03 5.17e-03  1e-04  2e-03 0:22.2\n",
      " 1000  11000 -4.559866807128564e-01 9.5e+03 4.87e-03  8e-05  2e-03 0:24.7\n",
      "Iterat #Fevals   function value  axis ratio  sigma  min&max std  t[m:s]\n",
      " 1100  12100 -4.559866848805648e-01 2.1e+04 2.72e-03  3e-05  7e-04 0:27.1\n",
      " 1200  13200 -4.559866903665662e-01 2.8e+04 6.14e-03  6e-05  1e-03 0:29.6\n",
      " 1300  14300 -4.559866938706283e-01 3.4e+04 2.36e-03  2e-05  4e-04 0:32.1\n",
      " 1378  15158 -4.559866938868666e-01 1.4e+05 5.72e-04  4e-06  7e-05 0:34.0\n"
     ]
    },
    {
     "name": "stderr",
     "output_type": "stream",
     "text": [
      "reconstraining parameters GP_regression.Mat52.lengthscale\n",
      "reconstraining parameters GP_regression.Mat52.variance\n",
      "reconstraining parameters GP_regression.Gaussian_noise.variance\n"
     ]
    },
    {
     "name": "stdout",
     "output_type": "stream",
     "text": [
      "termination on tolfun=1e-11 (Tue Jul  6 16:52:58 2021)\n",
      "final/bestever f-value = -4.559867e-01 -4.559867e-01\n",
      "incumbent solution: [6.09357066e-12 2.84201263e+00 5.99999997e+00 2.39739806e-08\n",
      " 1.38897250e+00 6.54794212e+00 7.92676293e+00 2.70377507e-08 ...]\n",
      "std deviations: [3.93860141e-06 1.91876858e-05 8.65222678e-06 4.91084107e-06\n",
      " 6.90012296e-05 5.41516619e-05 2.68488864e-05 7.63937444e-06 ...]\n",
      "Optimization restart 1/10, f = 23.477513236362675\n",
      "Optimization restart 2/10, f = 23.477513236361396\n",
      "Optimization restart 3/10, f = 23.47751323636102\n",
      "Optimization restart 4/10, f = 23.477513236362675\n",
      "Optimization restart 5/10, f = 23.477513236524405\n",
      "Optimization restart 6/10, f = 23.477513236360736\n",
      "Optimization restart 7/10, f = 23.477513236361133\n",
      "Optimization restart 8/10, f = 186.91137543931546\n"
     ]
    },
    {
     "name": "stderr",
     "output_type": "stream",
     "text": [
      "reconstraining parameters GP_regression.Mat52.lengthscale\n",
      "reconstraining parameters GP_regression.Mat52.variance\n",
      "reconstraining parameters GP_regression.Gaussian_noise.variance\n"
     ]
    },
    {
     "name": "stdout",
     "output_type": "stream",
     "text": [
      "Optimization restart 9/10, f = 186.91137543931546\n",
      "Optimization restart 10/10, f = 23.477513236360494\n",
      "Optimization restart 1/10, f = 28.50663008779846\n",
      "Optimization restart 2/10, f = 28.506630087470086\n",
      "Optimization restart 3/10, f = 39.73027892973111\n",
      "Optimization restart 4/10, f = 39.73027892973084\n",
      "Optimization restart 5/10, f = 28.50663008747008\n",
      "Optimization restart 6/10, f = 28.50663008747012\n",
      "Optimization restart 7/10, f = 39.73027892973084\n",
      "Optimization restart 8/10, f = 81.8222274760602\n",
      "Optimization restart 9/10, f = 28.506630087470448\n",
      "Optimization restart 10/10, f = 186.91137543931546\n",
      "(5_w,11)-aCMA-ES (mu_w=3.4,w_1=42%) in dimension 12 (seed=683339, Tue Jul  6 16:53:01 2021)\n",
      "Iterat #Fevals   function value  axis ratio  sigma  min&max std  t[m:s]\n",
      "    1     11 -4.370394258549198e-01 1.0e+00 2.39e-01  2e-01  2e-01 0:00.0\n",
      "    2     22 -4.374179437229557e-01 1.2e+00 2.27e-01  2e-01  2e-01 0:00.0\n",
      "    3     33 -4.384763422974397e-01 1.2e+00 2.22e-01  2e-01  2e-01 0:00.1\n",
      "  100   1100 -4.443293961033383e-01 1.0e+01 3.56e-01  7e-02  5e-01 0:02.5\n",
      "  200   2200 -4.548480820773405e-01 1.8e+01 1.92e+00  2e-01  3e+00 0:05.0\n",
      "  300   3300 -4.617830362811042e-01 1.7e+01 1.00e-01  1e-02  9e-02 0:07.5\n",
      "  400   4400 -4.618233676207423e-01 2.0e+02 1.27e-02  8e-04  1e-02 0:10.0\n",
      "  500   5500 -4.618235732164908e-01 1.8e+03 2.03e-03  1e-04  1e-03 0:12.6\n",
      "  600   6600 -4.618235796474675e-01 1.2e+04 3.13e-04  2e-05  1e-04 0:15.1\n",
      "  672   7392 -4.618235796979206e-01 7.0e+04 4.18e-05  2e-06  2e-05 0:16.9\n"
     ]
    },
    {
     "name": "stderr",
     "output_type": "stream",
     "text": [
      "reconstraining parameters GP_regression.Mat52.lengthscale\n",
      "reconstraining parameters GP_regression.Mat52.variance\n",
      "reconstraining parameters GP_regression.Gaussian_noise.variance\n"
     ]
    },
    {
     "name": "stdout",
     "output_type": "stream",
     "text": [
      "termination on tolfun=1e-11 (Tue Jul  6 16:53:19 2021)\n",
      "final/bestever f-value = -4.618236e-01 -4.618236e-01\n",
      "incumbent solution: [ 0.05198539  2.2144826   3.91328168  0.16142349  0.60609273  1.30573393\n",
      " 12.4806035  10.48731378 ...]\n",
      "std deviations: [1.65388636e-06 3.03789652e-06 2.90625774e-06 4.31040173e-06\n",
      " 9.86710866e-06 8.87871883e-06 9.32708746e-06 1.68710725e-05 ...]\n",
      "Optimization restart 1/10, f = 24.184192107164485\n",
      "Optimization restart 2/10, f = 24.184192107402968\n",
      "Optimization restart 3/10, f = 303485886.3603278\n",
      "Optimization restart 4/10, f = 24.184192107211096\n",
      "Optimization restart 5/10, f = 24.18419210722593\n",
      "Optimization restart 6/10, f = 24.184192107164762\n",
      "Optimization restart 7/10, f = 24.184192107163952\n",
      "Optimization restart 8/10, f = 24.18419210716393\n"
     ]
    },
    {
     "name": "stderr",
     "output_type": "stream",
     "text": [
      "reconstraining parameters GP_regression.Mat52.lengthscale\n",
      "reconstraining parameters GP_regression.Mat52.variance\n",
      "reconstraining parameters GP_regression.Gaussian_noise.variance\n"
     ]
    },
    {
     "name": "stdout",
     "output_type": "stream",
     "text": [
      "Optimization restart 9/10, f = 24.184192107163724\n",
      "Optimization restart 10/10, f = 24.18419210765552\n",
      "Optimization restart 1/10, f = 29.966716209519824\n",
      "Optimization restart 2/10, f = 29.96671620362473\n",
      "Optimization restart 3/10, f = 84.08850970278763\n",
      "Optimization restart 4/10, f = 29.966716203644182\n",
      "Optimization restart 5/10, f = 435790186.5957704\n",
      "Optimization restart 6/10, f = 84.08850968229055\n",
      "Optimization restart 7/10, f = 29.966716203620564\n",
      "Optimization restart 8/10, f = 41.14921746293551\n",
      "Optimization restart 9/10, f = 193.5867817050053\n",
      "Optimization restart 10/10, f = 41.149216334246404\n",
      "(5_w,11)-aCMA-ES (mu_w=3.4,w_1=42%) in dimension 12 (seed=646996, Tue Jul  6 16:53:22 2021)\n",
      "Iterat #Fevals   function value  axis ratio  sigma  min&max std  t[m:s]\n",
      "    1     11 -4.373682820925194e-01 1.0e+00 2.50e-01  2e-01  3e-01 0:00.0\n",
      "    2     22 -4.373226063867522e-01 1.2e+00 2.64e-01  3e-01  3e-01 0:00.1\n",
      "    3     33 -4.382789287506701e-01 1.3e+00 2.91e-01  3e-01  3e-01 0:00.1\n",
      "  100   1100 -4.468941122582299e-01 7.1e+00 4.92e-02  1e-02  6e-02 0:02.4\n",
      "  200   2200 -4.469653198760510e-01 3.8e+01 2.54e-02  4e-03  4e-02 0:04.9\n",
      "  300   3300 -4.482414766777386e-01 1.1e+02 7.07e-01  6e-02  2e+00 0:07.4\n",
      "  400   4400 -4.484771377168946e-01 2.9e+01 2.73e-02  1e-03  2e-02 0:09.9\n",
      "  500   5500 -4.484785024266742e-01 2.7e+02 3.27e-03  1e-05  2e-03 0:12.1\n",
      "  600   6600 -4.484785150805790e-01 2.6e+03 3.56e-04  1e-07  2e-04 0:14.6\n",
      "NOTE (module=cma, iteration=667):  \n",
      "condition in coordinate system exceeded 1.0e+08, rescaled to 1.0e+00, \n",
      "condition changed from 1.6e+08 to 1.7e+01\n",
      "  694   7634 -4.484785151421472e-01 4.4e+00 4.63e-05  1e-09  2e-05 0:16.5\n"
     ]
    },
    {
     "name": "stderr",
     "output_type": "stream",
     "text": [
      "reconstraining parameters GP_regression.Mat52.lengthscale\n",
      "reconstraining parameters GP_regression.Mat52.variance\n",
      "reconstraining parameters GP_regression.Gaussian_noise.variance\n"
     ]
    },
    {
     "name": "stdout",
     "output_type": "stream",
     "text": [
      "termination on tolfun=1e-11 (Tue Jul  6 16:53:40 2021)\n",
      "final/bestever f-value = -4.484785e-01 -4.484785e-01\n",
      "incumbent solution: [3.14934503e-11 4.00000000e+00 2.93573295e+00 8.00000000e+00\n",
      " 6.41152362e-11 1.20000000e+01 1.63249147e-11 1.60000000e+01 ...]\n",
      "std deviations: [1.66283587e-06 4.42532115e-06 1.28135593e-09 1.02583595e-05\n",
      " 4.55084363e-06 1.42149487e-05 2.64843479e-06 2.49449902e-05 ...]\n",
      "Optimization restart 1/10, f = 25.16583722403955\n",
      "Optimization restart 2/10, f = 25.165837224039798\n",
      "Optimization restart 3/10, f = 25.16583722403886\n",
      "Optimization restart 4/10, f = 25.16583722404264\n",
      "Optimization restart 5/10, f = 200.26218797069515\n",
      "Optimization restart 6/10, f = 25.165837224486154\n",
      "Optimization restart 7/10, f = 200.26218797069515\n",
      "Optimization restart 8/10, f = 42.56815599614018\n",
      "Optimization restart 9/10, f = 25.165837224039652\n"
     ]
    },
    {
     "name": "stderr",
     "output_type": "stream",
     "text": [
      "reconstraining parameters GP_regression.Mat52.lengthscale\n",
      "reconstraining parameters GP_regression.Mat52.variance\n",
      "reconstraining parameters GP_regression.Gaussian_noise.variance\n"
     ]
    },
    {
     "name": "stdout",
     "output_type": "stream",
     "text": [
      "Optimization restart 10/10, f = 25.165837224039358\n",
      "Optimization restart 1/10, f = 30.996554007167475\n",
      "Optimization restart 2/10, f = 448523393.6820463\n",
      "Optimization restart 3/10, f = 30.99655400730544\n",
      "Optimization restart 4/10, f = 30.996554007156288\n",
      "Optimization restart 5/10, f = 200.26218797069515\n",
      "Optimization restart 6/10, f = 30.996554007232298\n",
      "Optimization restart 7/10, f = 30.996554007156274\n",
      "Optimization restart 8/10, f = 42.56815599614018\n",
      "Optimization restart 9/10, f = 30.996554007157158\n",
      "Optimization restart 10/10, f = 30.996554007156274\n",
      "(5_w,11)-aCMA-ES (mu_w=3.4,w_1=42%) in dimension 12 (seed=648980, Tue Jul  6 16:53:43 2021)\n",
      "Iterat #Fevals   function value  axis ratio  sigma  min&max std  t[m:s]\n",
      "    1     11 -4.356299893153888e-01 1.0e+00 2.46e-01  2e-01  2e-01 0:00.0\n",
      "    2     22 -4.370984778362689e-01 1.2e+00 2.39e-01  2e-01  2e-01 0:00.0\n",
      "    3     33 -4.375888613787178e-01 1.2e+00 2.42e-01  2e-01  2e-01 0:00.1\n",
      "  100   1100 -4.493521741782599e-01 8.7e+00 1.74e-01  4e-02  3e-01 0:01.6\n",
      "  200   2200 -4.505043607743001e-01 4.7e+01 4.99e-01  6e-02  9e-01 0:04.1\n",
      "  300   3300 -4.510455599907461e-01 6.5e+01 4.91e-01  4e-02  7e-01 0:06.6\n",
      "  400   4400 -4.511722896575447e-01 2.5e+02 7.37e-02  4e-03  1e-01 0:09.1\n",
      "  500   5500 -4.511849815300628e-01 6.6e+02 6.53e-02  3e-03  6e-02 0:11.6\n",
      "  600   6600 -4.511866346773881e-01 3.2e+03 2.09e-02  5e-04  2e-02 0:14.1\n",
      "  700   7700 -4.511868575711666e-01 8.7e+03 1.67e-02  3e-04  1e-02 0:16.7\n",
      "  800   8800 -4.511868801109944e-01 2.3e+04 2.48e-03  3e-05  1e-03 0:19.3\n",
      "  900   9900 -4.511868809919928e-01 1.3e+05 3.06e-03  3e-05  9e-04 0:21.8\n",
      " 1000  11000 -4.511868817831463e-01 1.5e+05 1.29e-03  8e-06  3e-04 0:24.4\n",
      "Iterat #Fevals   function value  axis ratio  sigma  min&max std  t[m:s]\n",
      " 1070  11770 -4.511868818037629e-01 3.6e+05 4.69e-04  2e-06  9e-05 0:26.2\n"
     ]
    },
    {
     "name": "stderr",
     "output_type": "stream",
     "text": [
      "reconstraining parameters GP_regression.Mat52.lengthscale\n",
      "reconstraining parameters GP_regression.Mat52.variance\n",
      "reconstraining parameters GP_regression.Gaussian_noise.variance\n"
     ]
    },
    {
     "name": "stdout",
     "output_type": "stream",
     "text": [
      "termination on tolfun=1e-11 (Tue Jul  6 16:54:12 2021)\n",
      "final/bestever f-value = -4.511869e-01 -4.511869e-01\n",
      "incumbent solution: [1.57796488e-01 4.00000000e+00 9.33320841e-12 8.00000000e+00\n",
      " 9.54919678e+00 1.20000000e+01 1.54936625e+00 1.60000000e+01 ...]\n",
      "std deviations: [5.01418509e-06 6.40463867e-06 2.40701615e-06 1.05615165e-05\n",
      " 5.63784642e-05 3.03603641e-05 4.47614389e-05 3.03172501e-05 ...]\n",
      "Optimization restart 1/10, f = 26.861541434030357\n",
      "Optimization restart 2/10, f = 43.98709452934571\n",
      "Optimization restart 3/10, f = 26.86154143390377\n",
      "Optimization restart 4/10, f = 26.8615414339043\n",
      "Optimization restart 5/10, f = 26.861541433904176\n",
      "Optimization restart 6/10, f = 206.93759423638502\n",
      "Optimization restart 7/10, f = 26.861541433903653\n",
      "Optimization restart 8/10, f = 43.987094529344986\n",
      "Optimization restart 9/10, f = 26.861541433956894\n"
     ]
    },
    {
     "name": "stderr",
     "output_type": "stream",
     "text": [
      "reconstraining parameters GP_regression.Mat52.lengthscale\n",
      "reconstraining parameters GP_regression.Mat52.variance\n",
      "reconstraining parameters GP_regression.Gaussian_noise.variance\n"
     ]
    },
    {
     "name": "stdout",
     "output_type": "stream",
     "text": [
      "Optimization restart 10/10, f = 26.861541433904026\n",
      "Optimization restart 1/10, f = 32.25127498300691\n",
      "Optimization restart 2/10, f = 32.25127498298033\n",
      "Optimization restart 3/10, f = 32.25127498299521\n",
      "Optimization restart 4/10, f = 32.251274982980334\n",
      "Optimization restart 5/10, f = 206.93759423638502\n",
      "Optimization restart 6/10, f = 32.25127498298193\n",
      "Optimization restart 7/10, f = 32.25127498298269\n",
      "Optimization restart 8/10, f = 32.251274982980505\n",
      "Optimization restart 9/10, f = 32.25127498298034\n",
      "Optimization restart 10/10, f = 32.25127498298032\n",
      "(5_w,11)-aCMA-ES (mu_w=3.4,w_1=42%) in dimension 12 (seed=686044, Tue Jul  6 16:54:14 2021)\n",
      "Iterat #Fevals   function value  axis ratio  sigma  min&max std  t[m:s]\n",
      "    1     11 -4.332976164314547e-01 1.0e+00 2.38e-01  2e-01  2e-01 0:00.0\n",
      "    2     22 -4.335440075982955e-01 1.2e+00 2.34e-01  2e-01  2e-01 0:00.1\n",
      "    3     33 -4.339751361755185e-01 1.2e+00 2.37e-01  2e-01  3e-01 0:00.1\n",
      "  100   1100 -5.057081073599553e-01 7.5e+00 3.61e-01  7e-02  4e-01 0:02.8\n",
      "  200   2200 -5.100941234872400e-01 7.9e+01 5.33e-02  6e-03  8e-02 0:06.2\n",
      "  300   3300 -5.101646095711050e-01 7.3e+02 7.98e-03  6e-04  1e-02 0:09.2\n",
      "  400   4400 -5.101662395434319e-01 5.0e+03 1.08e-03  6e-05  1e-03 0:12.6\n",
      "  500   5500 -5.101662735694341e-01 3.0e+04 5.46e-04  2e-05  5e-04 0:16.2\n",
      "  600   6600 -5.101662771727749e-01 6.9e+04 3.44e-04  1e-05  2e-04 0:19.3\n",
      "  700   7700 -5.101662780853564e-01 1.3e+05 4.34e-04  9e-06  2e-04 0:21.9\n",
      "  800   8800 -5.101662785953991e-01 1.9e+05 2.58e-04  4e-06  7e-05 0:24.4\n",
      "  900   9900 -5.101662789178015e-01 2.5e+05 2.95e-04  3e-06  6e-05 0:26.8\n",
      " 1000  11000 -5.101662790116559e-01 6.3e+05 3.60e-04  3e-06  6e-05 0:29.3\n",
      "Iterat #Fevals   function value  axis ratio  sigma  min&max std  t[m:s]\n",
      " 1100  12100 -5.101662791280668e-01 6.5e+05 4.01e-04  2e-06  4e-05 0:31.8\n",
      " 1200  13200 -5.101662792075172e-01 7.8e+05 6.71e-04  2e-06  5e-05 0:34.3\n"
     ]
    },
    {
     "name": "stderr",
     "output_type": "stream",
     "text": [
      " /home/finley/miniconda3/envs/testsuite/lib/python3.8/site-packages/cma/utilities/utils.py:329: UserWarning:\n",
      "        geno-pheno transformation introduced based on the\n",
      "        current covariance matrix with condition 1.0e+12 -> 1.0e+00,\n",
      "        injected solutions become \"invalid\" in this iteration (class=CMAEvolutionStrategy method=alleviate_conditioning iteration=1228)\n"
     ]
    },
    {
     "name": "stdout",
     "output_type": "stream",
     "text": [
      " 1262  13882 -5.101662792329715e-01 3.3e+00 2.04e-04  2e-04  2e-04 0:35.8\n"
     ]
    },
    {
     "name": "stderr",
     "output_type": "stream",
     "text": [
      "reconstraining parameters GP_regression.Mat52.lengthscale\n",
      "reconstraining parameters GP_regression.Mat52.variance\n",
      "reconstraining parameters GP_regression.Gaussian_noise.variance\n"
     ]
    },
    {
     "name": "stdout",
     "output_type": "stream",
     "text": [
      "termination on tolfun=1e-11 (Tue Jul  6 16:54:54 2021)\n",
      "final/bestever f-value = -5.101663e-01 -5.101663e-01\n",
      "incumbent solution: [ 0.5493024   1.59746071  1.67763393  5.47694712  9.93750898  9.52943397\n",
      "  8.31783206 16.         ...]\n",
      "std deviations: [0.00021517 0.00017699 0.00017426 0.00018735 0.00022404 0.00019082\n",
      " 0.00017939 0.00018117 ...]\n",
      "Optimization restart 1/10, f = 26.011291964206237\n",
      "Optimization restart 2/10, f = 26.011291964105318\n",
      "Optimization restart 3/10, f = 45.406033062549525\n",
      "Optimization restart 4/10, f = 26.01129196410606\n",
      "Optimization restart 5/10, f = 45.406033062549525\n",
      "Optimization restart 6/10, f = 26.01129196410593\n",
      "Optimization restart 7/10, f = 26.01129196410617\n",
      "Optimization restart 8/10, f = 26.011291964107723\n"
     ]
    },
    {
     "name": "stderr",
     "output_type": "stream",
     "text": [
      "reconstraining parameters GP_regression.Mat52.lengthscale\n"
     ]
    },
    {
     "name": "stdout",
     "output_type": "stream",
     "text": [
      "Optimization restart 9/10, f = 26.011291964107798\n",
      "Optimization restart 10/10, f = 213.61300050207478\n"
     ]
    },
    {
     "name": "stderr",
     "output_type": "stream",
     "text": [
      "reconstraining parameters GP_regression.Mat52.variance\n",
      "reconstraining parameters GP_regression.Gaussian_noise.variance\n"
     ]
    },
    {
     "name": "stdout",
     "output_type": "stream",
     "text": [
      "Optimization restart 1/10, f = 32.14073862584965\n",
      "Optimization restart 2/10, f = 45.40603306254966\n",
      "Optimization restart 3/10, f = 45.406033062549525\n",
      "Optimization restart 4/10, f = 45.406033062549525\n",
      "Optimization restart 5/10, f = 45.406033062549525\n",
      "Optimization restart 6/10, f = 45.406033062549525\n",
      "Optimization restart 7/10, f = 90.3893601667163\n",
      "Optimization restart 8/10, f = 32.140738625767966\n",
      "Optimization restart 9/10, f = 45.406033062549525\n",
      "Optimization restart 10/10, f = 581266494.0722246\n",
      "(5_w,11)-aCMA-ES (mu_w=3.4,w_1=42%) in dimension 12 (seed=712987, Tue Jul  6 16:54:56 2021)\n",
      "Iterat #Fevals   function value  axis ratio  sigma  min&max std  t[m:s]\n",
      "    1     11 -4.315587442848093e-01 1.0e+00 2.35e-01  2e-01  2e-01 0:00.0\n",
      "    2     22 -4.333265709400564e-01 1.1e+00 2.26e-01  2e-01  2e-01 0:00.0\n",
      "    3     33 -4.337489740841555e-01 1.1e+00 2.18e-01  2e-01  2e-01 0:00.1\n",
      "  100   1100 -5.038566320357329e-01 7.3e+00 6.85e-01  2e-01  8e-01 0:02.5\n",
      "  200   2200 -5.085443619063665e-01 4.7e+01 4.11e-02  3e-03  5e-02 0:04.9\n",
      "  300   3300 -5.087303692996175e-01 5.3e+02 2.32e-02  1e-03  3e-02 0:07.4\n",
      "  400   4400 -5.087386371524590e-01 2.6e+03 4.74e-03  2e-04  5e-03 0:09.8\n",
      "  500   5500 -5.087387858635484e-01 1.5e+04 9.08e-04  3e-05  7e-04 0:12.3\n",
      "  600   6600 -5.087387972008148e-01 6.4e+04 4.11e-04  1e-05  3e-04 0:14.7\n",
      "  700   7700 -5.087387976835858e-01 2.6e+05 1.36e-04  3e-06  6e-05 0:17.2\n",
      "  785   8635 -5.087387977269139e-01 7.4e+05 4.41e-05  7e-07  2e-05 0:19.3\n"
     ]
    },
    {
     "name": "stderr",
     "output_type": "stream",
     "text": [
      "reconstraining parameters GP_regression.Mat52.lengthscale\n",
      "reconstraining parameters GP_regression.Mat52.variance\n",
      "reconstraining parameters GP_regression.Gaussian_noise.variance\n"
     ]
    },
    {
     "name": "stdout",
     "output_type": "stream",
     "text": [
      "termination on tolfun=1e-11 (Tue Jul  6 16:55:17 2021)\n",
      "final/bestever f-value = -5.087388e-01 -5.087388e-01\n",
      "incumbent solution: [ 0.50282156  1.2713251   2.02530824  4.91683178  9.51064193 10.31822295\n",
      " 10.30701553 16.         ...]\n",
      "std deviations: [6.71359746e-07 1.74694616e-06 1.99830498e-06 4.01129064e-06\n",
      " 6.80629657e-06 6.19706933e-06 5.70502867e-06 1.09729004e-05 ...]\n",
      "Optimization restart 1/10, f = 24.7499060229577\n",
      "Optimization restart 2/10, f = 24.749906023094656\n",
      "Optimization restart 3/10, f = 24.749906022957287\n",
      "Optimization restart 4/10, f = 24.749906022963476\n",
      "Optimization restart 5/10, f = 63.92536634759458\n",
      "Optimization restart 6/10, f = 46.82497159575425\n",
      "Optimization restart 7/10, f = 24.749906022957482\n",
      "Optimization restart 8/10, f = 1648192.0265448256\n"
     ]
    },
    {
     "name": "stderr",
     "output_type": "stream",
     "text": [
      "reconstraining parameters GP_regression.Mat52.lengthscale\n",
      "reconstraining parameters GP_regression.Mat52.variance\n",
      "reconstraining parameters GP_regression.Gaussian_noise.variance\n"
     ]
    },
    {
     "name": "stdout",
     "output_type": "stream",
     "text": [
      "Optimization restart 9/10, f = 24.749906022956438\n",
      "Optimization restart 10/10, f = 24.749906022987233\n",
      "Optimization restart 1/10, f = 31.225500881771396\n",
      "Optimization restart 2/10, f = 558545895.1164588\n",
      "Optimization restart 3/10, f = 31.22550088174014\n",
      "Optimization restart 4/10, f = 220.28840676776463\n",
      "Optimization restart 5/10, f = 31.225500881740174\n",
      "Optimization restart 6/10, f = 31.225500881747784\n",
      "Optimization restart 7/10, f = 220.28840676776463\n",
      "Optimization restart 8/10, f = 31.225500881748204\n",
      "Optimization restart 9/10, f = 31.225500881758947\n",
      "Optimization restart 10/10, f = 31.22550088174063\n",
      "(5_w,11)-aCMA-ES (mu_w=3.4,w_1=42%) in dimension 12 (seed=645294, Tue Jul  6 16:55:20 2021)\n",
      "Iterat #Fevals   function value  axis ratio  sigma  min&max std  t[m:s]\n",
      "    1     11 -4.269606919413395e-01 1.0e+00 2.39e-01  2e-01  2e-01 0:00.0\n",
      "    2     22 -4.278339763532460e-01 1.2e+00 2.26e-01  2e-01  2e-01 0:00.0\n",
      "    3     33 -4.273971546345511e-01 1.2e+00 2.27e-01  2e-01  2e-01 0:00.0\n",
      "  100   1100 -4.422460086532658e-01 5.3e+00 1.81e-01  6e-02  2e-01 0:01.2\n",
      "  200   2200 -4.423716014650134e-01 1.3e+01 3.31e-02  6e-03  5e-02 0:02.4\n",
      "  300   3300 -4.423847962646024e-01 3.7e+01 1.33e-02  2e-03  2e-02 0:03.6\n",
      "  400   4400 -4.423860224249452e-01 1.1e+02 8.16e-03  8e-04  8e-03 0:04.8\n",
      "  500   5500 -4.423862010118820e-01 2.9e+02 5.18e-03  4e-04  4e-03 0:06.0\n",
      "  600   6600 -4.423862848847949e-01 4.4e+02 6.96e-03  4e-04  5e-03 0:08.0\n",
      "  700   7700 -4.423863489369905e-01 4.4e+02 9.61e-03  4e-04  5e-03 0:10.2\n",
      "  800   8800 -4.423863822905837e-01 6.6e+02 8.65e-03  2e-04  3e-03 0:11.4\n",
      "  900   9900 -4.423864105097794e-01 7.3e+02 9.45e-03  1e-04  2e-03 0:12.6\n",
      " 1000  11000 -4.423864395397875e-01 7.1e+02 1.40e-02  2e-04  2e-03 0:13.8\n",
      "Iterat #Fevals   function value  axis ratio  sigma  min&max std  t[m:s]\n",
      " 1100  12100 -4.423864637747544e-01 8.6e+02 1.60e-02  9e-05  2e-03 0:15.0\n",
      " 1200  13200 -4.423864768003871e-01 1.0e+03 1.49e-02  6e-05  1e-03 0:16.2\n",
      " 1300  14300 -4.423864923653918e-01 9.8e+02 2.06e-02  5e-05  1e-03 0:17.5\n",
      " 1400  15400 -4.423865082181045e-01 9.6e+02 1.88e-02  3e-05  6e-04 0:18.7\n",
      " 1500  16500 -4.423865185897758e-01 1.0e+03 5.52e-02  5e-05  1e-03 0:19.9\n",
      " 1600  17600 -4.423865276432921e-01 1.2e+03 7.97e-02  5e-05  1e-03 0:21.1\n",
      " 1700  18700 -4.423865346092001e-01 1.5e+03 1.07e-01  4e-05  1e-03 0:22.3\n",
      " 1800  19800 -4.423865388435861e-01 1.6e+03 4.70e-02  1e-05  4e-04 0:23.5\n",
      " 1900  20900 -4.423865437072229e-01 1.6e+03 1.33e-01  2e-05  6e-04 0:24.7\n",
      " 2000  22000 -4.423865470475150e-01 2.3e+03 2.03e-01  2e-05  8e-04 0:25.9\n",
      "Iterat #Fevals   function value  axis ratio  sigma  min&max std  t[m:s]\n",
      " 2100  23100 -4.423865499132205e-01 2.7e+03 2.44e-01  2e-05  7e-04 0:27.1\n",
      " 2200  24200 -4.423865533193984e-01 2.8e+03 3.08e-01  1e-05  7e-04 0:28.3\n",
      " 2300  25300 -4.423865551998640e-01 4.3e+03 2.95e-01  7e-06  5e-04 0:29.5\n",
      " 2400  26400 -4.423865571494624e-01 4.1e+03 5.38e-01  1e-05  6e-04 0:30.7\n",
      " 2500  27500 -4.423865589355985e-01 4.3e+03 1.19e+00  1e-05  8e-04 0:31.9\n",
      " 2600  28600 -4.423865596529906e-01 6.2e+03 9.55e-01  6e-06  5e-04 0:33.1\n",
      " 2700  29700 -4.423865603614046e-01 7.8e+03 6.32e-01  4e-06  2e-04 0:34.3\n",
      " 2800  30800 -4.423865613135115e-01 7.8e+03 1.51e+00  4e-06  4e-04 0:35.5\n",
      " 2900  31900 -4.423865617662819e-01 6.7e+03 3.29e+00  8e-06  5e-04 0:36.7\n",
      " 3000  33000 -4.423865629215300e-01 5.6e+03 3.87e+00  5e-06  4e-04 0:38.0\n",
      "Iterat #Fevals   function value  axis ratio  sigma  min&max std  t[m:s]\n",
      " 3100  34100 -4.423865635162711e-01 6.4e+03 8.32e+00  7e-06  6e-04 0:39.2\n",
      " 3200  35200 -4.423865643032750e-01 6.3e+03 4.80e+00  3e-06  2e-04 0:40.4\n",
      " 3300  36300 -4.423865650377806e-01 9.8e+03 1.38e+01  4e-06  5e-04 0:41.6\n",
      " 3400  37400 -4.423865652490772e-01 1.2e+04 3.50e+00  1e-06  8e-05 0:42.8\n",
      " 3500  38500 -4.423865658386186e-01 1.4e+04 2.26e+01  4e-06  4e-04 0:44.0\n",
      " 3600  39600 -4.423865659383426e-01 1.6e+04 5.73e+00  1e-06  7e-05 0:45.2\n",
      " 3700  40700 -4.423865661413680e-01 3.1e+04 3.37e+01  3e-06  3e-04 0:46.4\n",
      " 3800  41800 -4.423865664567235e-01 2.9e+04 1.75e+01  1e-06  1e-04 0:47.6\n",
      " 3836  42196 -4.423865664599202e-01 3.4e+04 6.52e+00  4e-07  4e-05 0:48.0\n"
     ]
    },
    {
     "name": "stderr",
     "output_type": "stream",
     "text": [
      "reconstraining parameters GP_regression.Mat52.lengthscale\n",
      "reconstraining parameters GP_regression.Mat52.variance\n",
      "reconstraining parameters GP_regression.Gaussian_noise.variance\n"
     ]
    },
    {
     "name": "stdout",
     "output_type": "stream",
     "text": [
      "termination on tolfun=1e-11 (Tue Jul  6 16:56:14 2021)\n",
      "final/bestever f-value = -4.423866e-01 -4.423866e-01\n",
      "incumbent solution: [2.00000000e+00 1.91537750e-11 5.99999985e+00 8.00000000e+00\n",
      " 5.64281517e-12 1.20000000e+01 7.92288373e-09 1.59997831e+01 ...]\n",
      "std deviations: [2.94604001e-06 2.97464359e-06 6.95682082e-06 1.91628070e-05\n",
      " 4.14143613e-06 1.97275468e-05 3.11963935e-06 2.15567855e-05 ...]\n",
      "Optimization restart 1/10, f = 25.792553316396106\n",
      "Optimization restart 2/10, f = 25.792553316444586\n",
      "Optimization restart 3/10, f = 25.792553316382875\n",
      "Optimization restart 4/10, f = 25.792553316384726\n",
      "Optimization restart 5/10, f = 25.792553316383838\n",
      "Optimization restart 6/10, f = 25.79255331638526\n",
      "Optimization restart 7/10, f = 25.79255331638228\n",
      "Optimization restart 8/10, f = 25.792553316383035\n",
      "Optimization restart 9/10, f = 48.2439101289589\n"
     ]
    },
    {
     "name": "stderr",
     "output_type": "stream",
     "text": [
      "reconstraining parameters GP_regression.Mat52.lengthscale\n",
      "reconstraining parameters GP_regression.Mat52.variance\n",
      "reconstraining parameters GP_regression.Gaussian_noise.variance\n"
     ]
    },
    {
     "name": "stdout",
     "output_type": "stream",
     "text": [
      "Optimization restart 10/10, f = 25.792553316383987\n",
      "Optimization restart 1/10, f = 32.41247344901834\n",
      "Optimization restart 2/10, f = 32.4124734490285\n",
      "Optimization restart 3/10, f = 48.24391012895887\n",
      "Optimization restart 4/10, f = 32.41247344901935\n",
      "Optimization restart 5/10, f = 575142292.7588055\n",
      "Optimization restart 6/10, f = 32.412473449020275\n",
      "Optimization restart 7/10, f = 32.412473449042416\n",
      "Optimization restart 8/10, f = 226.96381303345447\n",
      "Optimization restart 9/10, f = 226.96381303345447\n",
      "Optimization restart 10/10, f = 226.96381303345447\n",
      "(5_w,11)-aCMA-ES (mu_w=3.4,w_1=42%) in dimension 12 (seed=735121, Tue Jul  6 16:56:16 2021)\n",
      "Iterat #Fevals   function value  axis ratio  sigma  min&max std  t[m:s]\n",
      "    1     11 -4.177667617301481e-01 1.0e+00 2.26e-01  2e-01  2e-01 0:00.0\n",
      "    2     22 -4.201327722761299e-01 1.2e+00 2.23e-01  2e-01  2e-01 0:00.0\n",
      "    3     33 -4.219717631565928e-01 1.2e+00 2.28e-01  2e-01  2e-01 0:00.1\n",
      "  100   1100 -4.377764211137561e-01 8.3e+00 1.60e-01  3e-02  2e-01 0:02.4\n",
      "  200   2200 -4.396534230713660e-01 1.8e+01 7.08e-02  8e-03  1e-01 0:04.8\n",
      "  300   3300 -4.396593408277452e-01 1.4e+01 1.84e-03  1e-04  2e-03 0:07.3\n",
      "  380   4180 -4.396593424250955e-01 1.6e+01 1.38e-05  6e-07  9e-06 0:09.2\n"
     ]
    },
    {
     "name": "stderr",
     "output_type": "stream",
     "text": [
      "reconstraining parameters GP_regression.Mat52.lengthscale\n",
      "reconstraining parameters GP_regression.Mat52.variance\n",
      "reconstraining parameters GP_regression.Gaussian_noise.variance\n"
     ]
    },
    {
     "name": "stdout",
     "output_type": "stream",
     "text": [
      "termination on tolfun=1e-11 (Tue Jul  6 16:56:26 2021)\n",
      "final/bestever f-value = -4.396593e-01 -4.396593e-01\n",
      "incumbent solution: [1.59809835e-12 4.38959819e-13 8.58941989e-13 8.00000000e+00\n",
      " 1.00000000e+01 2.80148141e-12 2.72460443e-11 6.33350680e-12 ...]\n",
      "std deviations: [1.26395783e-06 6.30346251e-07 6.54069742e-07 2.96566710e-06\n",
      " 8.78307914e-06 9.88879118e-07 2.05933128e-06 1.85013624e-06 ...]\n",
      "Optimization restart 1/10, f = 26.818334552254065\n",
      "Optimization restart 2/10, f = 26.818334552322057\n",
      "Optimization restart 3/10, f = 26.818334552240053\n",
      "Optimization restart 4/10, f = 26.818334552241527\n",
      "Optimization restart 5/10, f = 233.63921929914432\n",
      "Optimization restart 6/10, f = 26.818334552242362\n",
      "Optimization restart 7/10, f = 26.818334552240437\n",
      "Optimization restart 8/10, f = 26.818334552287123\n"
     ]
    },
    {
     "name": "stderr",
     "output_type": "stream",
     "text": [
      "reconstraining parameters GP_regression.Mat52.lengthscale\n",
      "reconstraining parameters GP_regression.Mat52.variance\n",
      "reconstraining parameters GP_regression.Gaussian_noise.variance\n"
     ]
    },
    {
     "name": "stdout",
     "output_type": "stream",
     "text": [
      "Optimization restart 9/10, f = 26.818334552239637\n",
      "Optimization restart 10/10, f = 26.818334552240835\n",
      "Optimization restart 1/10, f = 33.45885074551082\n",
      "Optimization restart 2/10, f = 33.45885074553041\n",
      "Optimization restart 3/10, f = 49.66284866216354\n",
      "Optimization restart 4/10, f = 233.63921929914432\n",
      "Optimization restart 5/10, f = 49.66284866216354\n",
      "Optimization restart 6/10, f = 96.8334712869887\n",
      "Optimization restart 7/10, f = 33.45885074549486\n",
      "Optimization restart 8/10, f = 33.4588507455269\n",
      "Optimization restart 9/10, f = 33.45885074552049\n",
      "Optimization restart 10/10, f = 1748082.4523960275\n",
      "(5_w,11)-aCMA-ES (mu_w=3.4,w_1=42%) in dimension 12 (seed=714128, Tue Jul  6 16:56:29 2021)\n",
      "Iterat #Fevals   function value  axis ratio  sigma  min&max std  t[m:s]\n",
      "    1     11 -4.223511348707751e-01 1.0e+00 2.57e-01  2e-01  3e-01 0:00.0\n",
      "    2     22 -4.225421133525841e-01 1.2e+00 2.65e-01  3e-01  3e-01 0:00.0\n",
      "    3     33 -4.234816919258225e-01 1.2e+00 2.90e-01  3e-01  3e-01 0:00.1\n",
      "  100   1100 -4.368562032990960e-01 8.2e+00 2.21e-01  5e-02  3e-01 0:02.4\n",
      "  200   2200 -4.375522263424272e-01 9.8e+00 4.01e-02  5e-03  4e-02 0:04.9\n",
      "  300   3300 -4.375534039554698e-01 1.1e+01 3.27e-03  4e-04  2e-03 0:07.3\n",
      "  400   4400 -4.375534389011866e-01 5.9e+01 8.89e-04  7e-05  5e-04 0:09.7\n",
      "  500   5500 -4.375534433306119e-01 1.6e+02 6.99e-04  2e-05  4e-04 0:12.2\n",
      "  600   6600 -4.375534450459984e-01 2.5e+02 1.05e-03  2e-05  4e-04 0:14.6\n",
      "  700   7700 -4.375534458079799e-01 5.0e+02 1.49e-03  2e-05  4e-04 0:17.0\n",
      "  800   8800 -4.375534462756069e-01 6.7e+02 9.00e-04  4e-06  2e-04 0:19.5\n",
      "  900   9900 -4.375534465961269e-01 1.1e+03 1.01e-03  3e-06  1e-04 0:21.9\n",
      " 1000  11000 -4.375534468050121e-01 1.4e+03 1.70e-03  3e-06  2e-04 0:24.4\n",
      "Iterat #Fevals   function value  axis ratio  sigma  min&max std  t[m:s]\n",
      " 1100  12100 -4.375534469788918e-01 1.6e+03 1.98e-03  2e-06  1e-04 0:25.5\n",
      " 1200  13200 -4.375534470622990e-01 1.4e+03 1.72e-03  1e-06  6e-05 0:26.7\n",
      " 1300  14300 -4.375534471439305e-01 1.8e+03 3.18e-03  1e-06  9e-05 0:27.9\n",
      " 1400  15400 -4.375534472135277e-01 1.6e+03 4.13e-03  1e-06  8e-05 0:29.1\n",
      " 1500  16500 -4.375534472603415e-01 2.2e+03 3.94e-03  5e-07  5e-05 0:30.3\n",
      " 1590  17490 -4.375534472860798e-01 2.7e+03 2.36e-03  2e-07  2e-05 0:31.4\n"
     ]
    },
    {
     "name": "stderr",
     "output_type": "stream",
     "text": [
      "reconstraining parameters GP_regression.Mat52.lengthscale\n",
      "reconstraining parameters GP_regression.Mat52.variance\n",
      "reconstraining parameters GP_regression.Gaussian_noise.variance\n"
     ]
    },
    {
     "name": "stdout",
     "output_type": "stream",
     "text": [
      "termination on tolfun=1e-11 (Tue Jul  6 16:57:04 2021)\n",
      "final/bestever f-value = -4.375534e-01 -4.375534e-01\n",
      "incumbent solution: [2.00000000e+00 4.00000000e+00 6.00000000e+00 1.06163095e-05\n",
      " 1.00000000e+01 1.30475383e-09 1.40000000e+01 8.97802223e-01 ...]\n",
      "std deviations: [3.54907308e-06 9.08367826e-06 9.66611407e-06 4.55023201e-06\n",
      " 1.99629359e-05 5.30410043e-06 1.73298896e-05 1.71838945e-07 ...]\n",
      "Optimization restart 1/10, f = 27.861471769486837\n",
      "Optimization restart 2/10, f = 507355770.3040962\n",
      "Optimization restart 3/10, f = 51.081787195369586\n",
      "Optimization restart 4/10, f = 27.861471769403057\n",
      "Optimization restart 5/10, f = 51.08178719536822\n",
      "Optimization restart 6/10, f = 51.08178719536823\n",
      "Optimization restart 7/10, f = 240.31462556483416\n",
      "Optimization restart 8/10, f = 27.86147176942487\n",
      "Optimization restart 9/10, f = 240.31462556483416\n",
      "Optimization restart 10/10, f = 27.861471769402527"
     ]
    },
    {
     "name": "stderr",
     "output_type": "stream",
     "text": [
      "reconstraining parameters GP_regression.Mat52.lengthscale\n",
      "reconstraining parameters GP_regression.Mat52.variance\n",
      "reconstraining parameters GP_regression.Gaussian_noise.variance\n"
     ]
    },
    {
     "name": "stdout",
     "output_type": "stream",
     "text": [
      "\n",
      "Optimization restart 1/10, f = 34.48072087978811\n",
      "Optimization restart 2/10, f = 51.08178719536822\n",
      "Optimization restart 3/10, f = 51.08178719536821\n",
      "Optimization restart 4/10, f = 34.48072087976777\n",
      "Optimization restart 5/10, f = 51.081787195368236\n",
      "Optimization restart 6/10, f = 99.79130680311829\n",
      "Optimization restart 7/10, f = 34.480720879766025\n",
      "Optimization restart 8/10, f = 34.48072087976607\n",
      "Optimization restart 9/10, f = 34.48072087976679\n",
      "Optimization restart 10/10, f = 589395769.655015\n",
      "(5_w,11)-aCMA-ES (mu_w=3.4,w_1=42%) in dimension 12 (seed=726924, Tue Jul  6 16:57:06 2021)\n",
      "Iterat #Fevals   function value  axis ratio  sigma  min&max std  t[m:s]\n",
      "    1     11 -4.218144043670744e-01 1.0e+00 2.28e-01  2e-01  2e-01 0:00.0\n",
      "    2     22 -4.231669281972713e-01 1.1e+00 2.25e-01  2e-01  2e-01 0:00.0\n",
      "    3     33 -4.234974936145018e-01 1.2e+00 2.30e-01  2e-01  2e-01 0:00.1\n",
      "  100   1100 -4.467450768974622e-01 1.3e+01 5.87e-01  1e-01  1e+00 0:02.4\n",
      "  200   2200 -4.509627915728688e-01 3.5e+01 1.34e-01  1e-02  2e-01 0:04.9\n",
      "  300   3300 -4.510069377948238e-01 3.0e+02 1.59e-02  1e-03  2e-02 0:07.5\n",
      "  400   4400 -4.510135463184385e-01 6.6e+02 2.29e-02  1e-03  2e-02 0:10.0\n",
      "  500   5500 -4.510138730099857e-01 3.2e+03 3.65e-03  2e-04  3e-03 0:12.5\n",
      "  600   6600 -4.510139007732472e-01 7.7e+03 1.25e-03  5e-05  7e-04 0:15.0\n",
      "  700   7700 -4.510139101639274e-01 1.9e+04 1.92e-03  4e-05  7e-04 0:17.5\n",
      "  800   8800 -4.510139133306845e-01 3.6e+04 2.72e-03  4e-05  8e-04 0:20.0\n",
      "  900   9900 -4.510139138237118e-01 1.4e+05 6.60e-04  6e-06  2e-04 0:22.5\n",
      " 1000  11000 -4.510139144431847e-01 1.0e+05 2.51e-03  2e-05  4e-04 0:25.0\n",
      "Iterat #Fevals   function value  axis ratio  sigma  min&max std  t[m:s]\n",
      " 1100  12100 -4.510139146132123e-01 1.6e+05 3.37e-04  2e-06  3e-05 0:27.5\n",
      " 1158  12738 -4.510139146269548e-01 3.7e+05 5.80e-04  2e-06  5e-05 0:28.9\n"
     ]
    },
    {
     "name": "stderr",
     "output_type": "stream",
     "text": [
      "reconstraining parameters GP_regression.Mat52.lengthscale\n",
      "reconstraining parameters GP_regression.Mat52.variance\n",
      "reconstraining parameters GP_regression.Gaussian_noise.variance\n"
     ]
    },
    {
     "name": "stdout",
     "output_type": "stream",
     "text": [
      "termination on tolfun=1e-11 (Tue Jul  6 16:57:39 2021)\n",
      "final/bestever f-value = -4.510139e-01 -4.510139e-01\n",
      "incumbent solution: [1.58751479e+00 4.71943805e-11 6.00000000e+00 4.78375029e+00\n",
      " 9.46786446e+00 1.20000000e+01 1.07650437e+01 1.60000000e+01 ...]\n",
      "std deviations: [5.06761196e-06 2.40014575e-06 5.66529987e-06 2.69731423e-05\n",
      " 3.62556594e-05 2.09968682e-05 2.80248765e-05 2.66541186e-05 ...]\n",
      "Optimization restart 1/10, f = 29.03206301515027\n",
      "Optimization restart 2/10, f = 29.032063015147788\n",
      "Optimization restart 3/10, f = 29.03206301516238\n",
      "Optimization restart 4/10, f = 29.032063015152172\n",
      "Optimization restart 5/10, f = 246.990031830524\n",
      "Optimization restart 6/10, f = 29.03206301515021\n",
      "Optimization restart 7/10, f = 246.98984907158422\n",
      "Optimization restart 8/10, f = 523466662.5894042\n"
     ]
    },
    {
     "name": "stderr",
     "output_type": "stream",
     "text": [
      "reconstraining parameters GP_regression.Mat52.lengthscale\n",
      "reconstraining parameters GP_regression.Mat52.variance\n",
      "reconstraining parameters GP_regression.Gaussian_noise.variance\n"
     ]
    },
    {
     "name": "stdout",
     "output_type": "stream",
     "text": [
      "Optimization restart 9/10, f = 29.032063015150555\n",
      "Optimization restart 10/10, f = 29.03206301514876\n",
      "Optimization restart 1/10, f = 35.70561885684194\n",
      "Optimization restart 2/10, f = 52.50072572857288\n",
      "Optimization restart 3/10, f = 35.705618856781875\n",
      "Optimization restart 4/10, f = 35.70561885681881\n",
      "Optimization restart 5/10, f = 35.705618856813864\n",
      "Optimization restart 6/10, f = 35.70561885681424\n",
      "Optimization restart 7/10, f = 35.70561885678123\n",
      "Optimization restart 8/10, f = 35.70561885722705\n",
      "Optimization restart 9/10, f = 35.705618856800115\n",
      "Optimization restart 10/10, f = 35.705618856781015\n",
      "(5_w,11)-aCMA-ES (mu_w=3.4,w_1=42%) in dimension 12 (seed=714826, Tue Jul  6 16:57:41 2021)\n",
      "Iterat #Fevals   function value  axis ratio  sigma  min&max std  t[m:s]\n",
      "    1     11 -4.338524591116579e-01 1.0e+00 2.49e-01  2e-01  3e-01 0:00.0\n",
      "    2     22 -4.346076943276971e-01 1.2e+00 2.60e-01  3e-01  3e-01 0:00.0\n",
      "    3     33 -4.357385641829041e-01 1.3e+00 2.80e-01  3e-01  3e-01 0:00.1\n",
      "  100   1100 -4.429691327033070e-01 7.8e+00 1.47e-01  5e-02  2e-01 0:02.4\n",
      "  200   2200 -4.431348240501239e-01 2.2e+01 4.48e-02  4e-03  4e-02 0:04.8\n",
      "  300   3300 -4.431411980058584e-01 1.4e+02 5.22e-03  5e-05  5e-03 0:06.2\n",
      "  400   4400 -4.431413326527273e-01 1.4e+03 9.02e-04  7e-07  8e-04 0:07.4\n",
      "NOTE (module=cma, iteration=499):  \n",
      "condition in coordinate system exceeded 1.1e+08, rescaled to 1.0e+00, \n",
      "condition changed from 1.2e+08 to 6.8e+00\n",
      "  500   5500 -4.431413335872847e-01 2.6e+00 1.56e-04  1e-08  1e-04 0:08.6\n",
      "  545   5995 -4.431413335986312e-01 4.4e+00 2.82e-05  6e-10  2e-05 0:09.2\n"
     ]
    },
    {
     "name": "stderr",
     "output_type": "stream",
     "text": [
      "reconstraining parameters GP_regression.Mat52.lengthscale\n",
      "reconstraining parameters GP_regression.Mat52.variance\n",
      "reconstraining parameters GP_regression.Gaussian_noise.variance\n"
     ]
    },
    {
     "name": "stdout",
     "output_type": "stream",
     "text": [
      "termination on tolfun=1e-11 (Tue Jul  6 16:57:51 2021)\n",
      "final/bestever f-value = -4.431413e-01 -4.431413e-01\n",
      "incumbent solution: [2.00000000e+00 6.32354869e-12 4.64871188e+00 1.97599388e-10\n",
      " 1.00000000e+01 1.20000000e+01 1.40000000e+01 7.61018668e-10 ...]\n",
      "std deviations: [2.55191811e-06 2.05651356e-06 5.96140443e-10 2.69890524e-06\n",
      " 1.01507832e-05 1.25106798e-05 1.39998835e-05 3.05209935e-06 ...]\n",
      "Optimization restart 1/10, f = 29.550662525460453\n",
      "Optimization restart 2/10, f = 515924566.177685\n",
      "Optimization restart 3/10, f = 29.550662525404487\n",
      "Optimization restart 4/10, f = 29.55066252540411\n",
      "Optimization restart 5/10, f = 68.94012892758738\n",
      "Optimization restart 6/10, f = 253.66543809621388\n",
      "Optimization restart 7/10, f = 513706952.6424752\n",
      "Optimization restart 8/10, f = 253.66543809621388\n",
      "Optimization restart 9/10, f = 29.550662525401997\n"
     ]
    },
    {
     "name": "stderr",
     "output_type": "stream",
     "text": [
      "reconstraining parameters GP_regression.Mat52.lengthscale\n",
      "reconstraining parameters GP_regression.Mat52.variance\n",
      "reconstraining parameters GP_regression.Gaussian_noise.variance\n"
     ]
    },
    {
     "name": "stdout",
     "output_type": "stream",
     "text": [
      "Optimization restart 10/10, f = 29.55066252540103\n",
      "Optimization restart 1/10, f = 36.68723583327812\n",
      "Optimization restart 2/10, f = 53.91966426177756\n",
      "Optimization restart 3/10, f = 36.68723583327683\n",
      "Optimization restart 4/10, f = 36.687235833262704\n",
      "Optimization restart 5/10, f = 53.91966426177795\n",
      "Optimization restart 6/10, f = 36.687235834096505\n",
      "Optimization restart 7/10, f = 658874275.3309348\n",
      "Optimization restart 8/10, f = 36.68723583326209\n",
      "Optimization restart 9/10, f = 36.68723583326215\n",
      "Optimization restart 10/10, f = 53.91966426177757\n",
      "(5_w,11)-aCMA-ES (mu_w=3.4,w_1=42%) in dimension 12 (seed=666229, Tue Jul  6 16:57:53 2021)\n",
      "Iterat #Fevals   function value  axis ratio  sigma  min&max std  t[m:s]\n",
      "    1     11 -4.258192838552093e-01 1.0e+00 2.31e-01  2e-01  2e-01 0:00.0\n",
      "    2     22 -4.272496159439594e-01 1.2e+00 2.38e-01  2e-01  3e-01 0:00.0\n",
      "    3     33 -4.288127131335410e-01 1.3e+00 2.44e-01  2e-01  3e-01 0:00.1\n",
      "  100   1100 -4.387713641663812e-01 8.3e+00 1.53e-01  4e-02  2e-01 0:02.4\n",
      "  200   2200 -4.390396665934339e-01 2.2e+01 4.30e-02  6e-03  9e-02 0:04.8\n",
      "  300   3300 -4.390427617884846e-01 5.2e+01 2.62e-03  3e-04  3e-03 0:06.2\n",
      "  400   4400 -4.390428434995349e-01 2.3e+02 1.87e-03  2e-04  2e-03 0:07.4\n",
      "  500   5500 -4.390428751100459e-01 3.7e+02 2.48e-03  1e-04  2e-03 0:08.6\n",
      "  600   6600 -4.390429027940097e-01 4.8e+02 2.77e-03  1e-04  1e-03 0:09.8\n",
      "  700   7700 -4.390429379679615e-01 6.0e+02 5.60e-03  2e-04  2e-03 0:11.0\n",
      "  800   8800 -4.390429728436030e-01 7.2e+02 6.20e-03  1e-04  2e-03 0:12.2\n",
      "  900   9900 -4.390430414778718e-01 6.1e+02 9.02e-03  1e-04  2e-03 0:13.3\n",
      " 1000  11000 -4.392199771158802e-01 1.9e+03 1.91e+00  2e-02  5e-01 0:14.5\n",
      "Iterat #Fevals   function value  axis ratio  sigma  min&max std  t[m:s]\n",
      " 1100  12100 -4.392639262457440e-01 7.2e+02 1.53e-01  7e-04  1e-02 0:15.7\n",
      " 1200  13200 -4.392642569480094e-01 5.9e+02 1.12e-01  2e-04  8e-03 0:16.9\n",
      " 1300  14300 -4.392644699256508e-01 5.6e+02 9.89e-02  4e-05  5e-03 0:18.1\n",
      " 1400  15400 -4.392645280003325e-01 4.7e+02 9.81e-02  1e-05  3e-03 0:19.3\n",
      " 1500  16500 -4.392658985473251e-01 5.9e+02 1.09e+00  4e-04  3e-02 0:20.5\n",
      " 1600  17600 -4.392739122447442e-01 4.4e+02 1.52e+00  7e-04  2e-02 0:21.7\n",
      " 1700  18700 -4.392749684544902e-01 3.2e+02 4.86e-01  5e-05  6e-03 0:22.9\n",
      " 1800  19800 -4.392751754673865e-01 3.5e+02 9.09e-01  5e-05  7e-03 0:24.1\n",
      " 1900  20900 -4.392756775755101e-01 4.2e+02 5.54e-01  2e-05  2e-03 0:25.3\n",
      " 2000  22000 -4.392757100084761e-01 1.1e+03 2.40e-01  1e-06  8e-04 0:26.5\n",
      "Iterat #Fevals   function value  axis ratio  sigma  min&max std  t[m:s]\n",
      " 2100  23100 -4.392757122919556e-01 4.1e+03 7.38e-02  8e-08  2e-04 0:27.7\n",
      " 2175  23925 -4.392757123689012e-01 1.5e+04 2.56e-02  6e-09  6e-05 0:28.5\n"
     ]
    },
    {
     "name": "stderr",
     "output_type": "stream",
     "text": [
      "reconstraining parameters GP_regression.Mat52.lengthscale\n",
      "reconstraining parameters GP_regression.Mat52.variance\n",
      "reconstraining parameters GP_regression.Gaussian_noise.variance\n"
     ]
    },
    {
     "name": "stdout",
     "output_type": "stream",
     "text": [
      "termination on tolfun=1e-11 (Tue Jul  6 16:58:25 2021)\n",
      "final/bestever f-value = -4.392757e-01 -4.392757e-01\n",
      "incumbent solution: [2.78703150e-11 6.08124617e-12 1.99862359e-10 7.98172921e-10\n",
      " 1.00000000e+01 1.20000000e+01 1.65842713e+00 1.60000000e+01 ...]\n",
      "std deviations: [3.35432771e-06 3.56083307e-06 6.01695266e-06 8.37682636e-06\n",
      " 3.12399340e-05 5.72519723e-05 5.71390488e-09 4.95439740e-05 ...]\n",
      "Optimization restart 1/10, f = 30.68373735338512\n",
      "Optimization restart 2/10, f = 30.683737353372287\n",
      "Optimization restart 3/10, f = 260.34084436190375\n",
      "Optimization restart 4/10, f = 70.475386953225\n",
      "Optimization restart 5/10, f = 30.68373735337888\n",
      "Optimization restart 6/10, f = 55.338602794984695\n",
      "Optimization restart 7/10, f = 30.683737353370535\n",
      "Optimization restart 8/10, f = 30.6837373533721\n",
      "Optimization restart 9/10, f = 30.683737353371694\n"
     ]
    },
    {
     "name": "stderr",
     "output_type": "stream",
     "text": [
      "reconstraining parameters GP_regression.Mat52.lengthscale\n",
      "reconstraining parameters GP_regression.Mat52.variance\n",
      "reconstraining parameters GP_regression.Gaussian_noise.variance\n"
     ]
    },
    {
     "name": "stdout",
     "output_type": "stream",
     "text": [
      "Optimization restart 10/10, f = 30.683737353371843\n",
      "Optimization restart 1/10, f = 37.79811758330156\n",
      "Optimization restart 2/10, f = 108.68778287192583\n",
      "Optimization restart 3/10, f = 37.798117583293035\n",
      "Optimization restart 4/10, f = 55.33860279498306\n",
      "Optimization restart 5/10, f = 37.79811758333487\n",
      "Optimization restart 6/10, f = 108.6877826705609\n",
      "Optimization restart 7/10, f = 55.33860279498225\n",
      "Optimization restart 8/10, f = 55.33860279498224\n",
      "Optimization restart 9/10, f = 55.33860279498225\n",
      "Optimization restart 10/10, f = 37.79811758328865\n",
      "(5_w,11)-aCMA-ES (mu_w=3.4,w_1=42%) in dimension 12 (seed=692318, Tue Jul  6 16:58:28 2021)\n",
      "Iterat #Fevals   function value  axis ratio  sigma  min&max std  t[m:s]\n",
      "    1     11 -4.330732192280157e-01 1.0e+00 2.32e-01  2e-01  2e-01 0:00.0\n",
      "    2     22 -4.330160635455849e-01 1.1e+00 2.23e-01  2e-01  2e-01 0:00.0\n",
      "    3     33 -4.350894218330135e-01 1.2e+00 2.39e-01  2e-01  3e-01 0:00.1\n",
      "  100   1100 -4.463594015032983e-01 1.3e+01 2.38e-01  6e-02  3e-01 0:02.4\n",
      "  200   2200 -4.495956626393532e-01 4.8e+01 3.06e-01  3e-02  5e-01 0:04.9\n",
      "  300   3300 -4.507685993810772e-01 1.3e+02 1.80e-01  1e-02  2e-01 0:07.3\n",
      "  400   4400 -4.512002787404892e-01 1.5e+02 2.80e-01  1e-02  4e-01 0:09.8\n",
      "  500   5500 -4.513527300372441e-01 1.2e+02 1.38e-01  3e-03  1e-01 0:12.3\n",
      "  600   6600 -4.513997123669925e-01 1.3e+02 1.92e-01  4e-03  1e-01 0:13.7\n",
      "  700   7700 -4.514082894182379e-01 2.1e+02 3.14e-02  3e-04  1e-02 0:14.9\n",
      "  800   8800 -4.514089271435980e-01 6.3e+02 1.37e-02  1e-04  4e-03 0:16.1\n",
      "  900   9900 -4.514089829368416e-01 1.5e+03 1.87e-02  1e-04  4e-03 0:17.3\n",
      " 1000  11000 -4.514089955427947e-01 2.5e+03 8.98e-03  5e-05  1e-03 0:18.6\n",
      "Iterat #Fevals   function value  axis ratio  sigma  min&max std  t[m:s]\n",
      " 1100  12100 -4.514090006114174e-01 4.1e+03 6.92e-03  3e-05  5e-04 0:19.8\n",
      " 1200  13200 -4.514090034433912e-01 5.5e+03 7.15e-03  2e-05  4e-04 0:21.0\n",
      " 1300  14300 -4.514090057052916e-01 5.2e+03 9.59e-03  2e-05  3e-04 0:22.2\n",
      " 1400  15400 -4.514090070468615e-01 8.0e+03 2.26e-02  3e-05  6e-04 0:23.4\n",
      " 1500  16500 -4.514090077127505e-01 1.5e+04 9.97e-03  8e-06  2e-04 0:24.6\n",
      " 1600  17600 -4.514090081706478e-01 1.2e+04 1.74e-02  1e-05  2e-04 0:25.9\n",
      " 1700  18700 -4.514090085044057e-01 1.4e+04 2.15e-02  8e-06  2e-04 0:27.1\n",
      " 1800  19800 -4.514090087105736e-01 1.8e+04 2.92e-02  8e-06  2e-04 0:28.3\n",
      " 1900  20900 -4.514090088187873e-01 3.3e+04 3.41e-02  7e-06  1e-04 0:29.5\n",
      " 2000  22000 -4.514090088923484e-01 2.6e+04 3.01e-02  4e-06  9e-05 0:30.8\n",
      "Iterat #Fevals   function value  axis ratio  sigma  min&max std  t[m:s]\n",
      " 2100  23100 -4.514090089338071e-01 4.7e+04 3.17e-02  3e-06  6e-05 0:32.0\n",
      " 2145  23595 -4.514090089431115e-01 4.8e+04 3.40e-02  3e-06  5e-05 0:32.5\n"
     ]
    },
    {
     "name": "stderr",
     "output_type": "stream",
     "text": [
      "reconstraining parameters GP_regression.Mat52.lengthscale\n",
      "reconstraining parameters GP_regression.Mat52.variance\n",
      "reconstraining parameters GP_regression.Gaussian_noise.variance\n"
     ]
    },
    {
     "name": "stdout",
     "output_type": "stream",
     "text": [
      "termination on tolfun=1e-11 (Tue Jul  6 16:59:04 2021)\n",
      "final/bestever f-value = -4.514090e-01 -4.514090e-01\n",
      "incumbent solution: [1.56025886e-11 1.40399208e-11 4.15357928e-01 4.14361294e+00\n",
      " 1.00000000e+01 1.20000000e+01 1.40000000e+01 1.60000000e+01 ...]\n",
      "std deviations: [2.89828744e-06 2.54698945e-06 1.18996649e-05 2.09976760e-05\n",
      " 9.62872843e-06 3.56135367e-05 3.47215204e-05 2.17261565e-05 ...]\n",
      "Optimization restart 1/10, f = 31.939705221628127\n",
      "Optimization restart 2/10, f = 56.7575413281885\n",
      "Optimization restart 3/10, f = 31.93970522160884\n",
      "Optimization restart 4/10, f = 31.939705221609927\n",
      "Optimization restart 5/10, f = 31.939705221624173\n",
      "Optimization restart 6/10, f = 56.7575413281869\n",
      "Optimization restart 7/10, f = 31.939705221611785\n",
      "Optimization restart 8/10, f = 71.32556431305474\n",
      "Optimization restart 9/10, f = 31.93970522161236\n"
     ]
    },
    {
     "name": "stderr",
     "output_type": "stream",
     "text": [
      "reconstraining parameters GP_regression.Mat52.lengthscale\n",
      "reconstraining parameters GP_regression.Mat52.variance\n",
      "reconstraining parameters GP_regression.Gaussian_noise.variance\n"
     ]
    },
    {
     "name": "stdout",
     "output_type": "stream",
     "text": [
      "Optimization restart 10/10, f = 56.7575413281869\n",
      "Optimization restart 1/10, f = 39.06542158169421\n",
      "Optimization restart 2/10, f = 56.7575413281869\n",
      "Optimization restart 3/10, f = 39.06542158169272\n",
      "Optimization restart 4/10, f = 39.06542158162328\n",
      "Optimization restart 5/10, f = 56.75748284563427\n",
      "Optimization restart 6/10, f = 39.06542158175165\n",
      "Optimization restart 7/10, f = 39.06542158162348\n",
      "Optimization restart 8/10, f = 39.06542158170046\n",
      "Optimization restart 9/10, f = 39.065421581623255\n",
      "Optimization restart 10/10, f = 111.25046667697065\n",
      "(5_w,11)-aCMA-ES (mu_w=3.4,w_1=42%) in dimension 12 (seed=704161, Tue Jul  6 16:59:06 2021)\n",
      "Iterat #Fevals   function value  axis ratio  sigma  min&max std  t[m:s]\n",
      "    1     11 -4.248333059343625e-01 1.0e+00 2.37e-01  2e-01  2e-01 0:00.0\n",
      "    2     22 -4.262320399199686e-01 1.2e+00 2.44e-01  2e-01  3e-01 0:00.0\n",
      "    3     33 -4.262225699897320e-01 1.3e+00 2.51e-01  2e-01  3e-01 0:00.1\n",
      "  100   1100 -4.360925151573793e-01 1.4e+01 5.05e-01  1e-01  1e+00 0:01.6\n",
      "  200   2200 -4.379994729210482e-01 1.0e+01 2.87e-01  4e-02  3e-01 0:02.8\n",
      "  300   3300 -4.380874646337417e-01 6.8e+00 1.62e-02  2e-03  9e-03 0:04.1\n",
      "  400   4400 -4.380882765683424e-01 4.1e+01 3.11e-03  6e-05  2e-03 0:05.2\n",
      "  500   5500 -4.380882832154025e-01 4.0e+02 2.77e-04  5e-07  1e-04 0:06.5\n",
      "  590   6490 -4.380882832874258e-01 2.9e+03 6.46e-05  1e-08  3e-05 0:07.5\n"
     ]
    },
    {
     "name": "stderr",
     "output_type": "stream",
     "text": [
      "reconstraining parameters GP_regression.Mat52.lengthscale\n",
      "reconstraining parameters GP_regression.Mat52.variance\n",
      "reconstraining parameters GP_regression.Gaussian_noise.variance\n"
     ]
    },
    {
     "name": "stdout",
     "output_type": "stream",
     "text": [
      "termination on tolfun=1e-11 (Tue Jul  6 16:59:15 2021)\n",
      "final/bestever f-value = -4.380883e-01 -4.380883e-01\n",
      "incumbent solution: [2.00000000e+00 4.00000000e+00 6.00000000e+00 3.69785732e-10\n",
      " 1.00000000e+01 1.20000000e+01 1.40000000e+01 1.60819103e+00 ...]\n",
      "std deviations: [5.49403458e-06 5.38680466e-06 7.87299878e-06 4.43572521e-06\n",
      " 1.77696734e-05 1.98628495e-05 1.21515287e-05 1.13655335e-08 ...]\n",
      "Optimization restart 1/10, f = 32.71728762444411\n",
      "Optimization restart 2/10, f = 709917179.4603364\n",
      "Optimization restart 3/10, f = 32.7172876244458\n",
      "Optimization restart 4/10, f = 32.7172876244484\n",
      "Optimization restart 5/10, f = 32.71728762444641\n",
      "Optimization restart 6/10, f = 32.71728762444512\n",
      "Optimization restart 7/10, f = 58.17647986139158\n",
      "Optimization restart 8/10, f = 32.71728762444512\n"
     ]
    },
    {
     "name": "stderr",
     "output_type": "stream",
     "text": [
      "reconstraining parameters GP_regression.Mat52.lengthscale\n",
      "reconstraining parameters GP_regression.Mat52.variance\n",
      "reconstraining parameters GP_regression.Gaussian_noise.variance\n"
     ]
    },
    {
     "name": "stdout",
     "output_type": "stream",
     "text": [
      "Optimization restart 9/10, f = 32.717287624457796\n",
      "Optimization restart 10/10, f = 32.71728762444616\n",
      "Optimization restart 1/10, f = 40.075742405856374\n",
      "Optimization restart 2/10, f = 40.07574240578933\n",
      "Optimization restart 3/10, f = 866049618.5644038\n",
      "Optimization restart 4/10, f = 40.07574240740267\n",
      "Optimization restart 5/10, f = 58.1764798613916\n",
      "Optimization restart 6/10, f = 40.07574240574721\n",
      "Optimization restart 7/10, f = 273.6916568932833\n",
      "Optimization restart 8/10, f = 40.07574240575264\n",
      "Optimization restart 9/10, f = 40.07574240582923\n",
      "Optimization restart 10/10, f = 58.17647986139157\n",
      "(5_w,11)-aCMA-ES (mu_w=3.4,w_1=42%) in dimension 12 (seed=664890, Tue Jul  6 16:59:17 2021)\n",
      "Iterat #Fevals   function value  axis ratio  sigma  min&max std  t[m:s]\n",
      "    1     11 -4.227363302514967e-01 1.0e+00 2.15e-01  2e-01  2e-01 0:00.0\n",
      "    2     22 -4.230708470505898e-01 1.1e+00 1.99e-01  2e-01  2e-01 0:00.0\n",
      "    3     33 -4.231577120217793e-01 1.2e+00 1.91e-01  2e-01  2e-01 0:00.0\n",
      "  100   1100 -4.780686191246116e-01 7.2e+00 1.30e+00  5e-01  2e+00 0:01.2\n",
      "  200   2200 -5.103927685784823e-01 1.3e+01 7.69e-02  7e-03  8e-02 0:02.4\n",
      "  300   3300 -5.104393232735270e-01 2.9e+01 7.40e-05  3e-06  7e-05 0:03.6\n",
      "  343   3773 -5.104393232831754e-01 3.0e+01 4.77e-06  1e-07  4e-06 0:04.1\n"
     ]
    },
    {
     "name": "stderr",
     "output_type": "stream",
     "text": [
      "reconstraining parameters GP_regression.Mat52.lengthscale\n",
      "reconstraining parameters GP_regression.Mat52.variance\n",
      "reconstraining parameters GP_regression.Gaussian_noise.variance\n"
     ]
    },
    {
     "name": "stdout",
     "output_type": "stream",
     "text": [
      "termination on tolfun=1e-11 (Tue Jul  6 16:59:21 2021)\n",
      "final/bestever f-value = -5.104393e-01 -5.104393e-01\n",
      "incumbent solution: [ 0.69751801  1.34196795  2.14678099  4.7006488   8.71033677  9.79796677\n",
      "  9.84056339 16.         ...]\n",
      "std deviations: [1.34252464e-07 2.73266315e-07 3.08404043e-07 4.82371898e-07\n",
      " 6.59071106e-07 7.97423033e-07 8.30069095e-07 1.84934909e-06 ...]\n",
      "Optimization restart 1/10, f = 30.633742271233654\n",
      "Optimization restart 2/10, f = 59.595418394596265\n",
      "Optimization restart 3/10, f = 30.633742271230773\n",
      "Optimization restart 4/10, f = 30.633742271226488\n",
      "Optimization restart 5/10, f = 30.63374227123967\n",
      "Optimization restart 6/10, f = 30.63374227122723\n",
      "Optimization restart 7/10, f = 30.633742271232105\n",
      "Optimization restart 8/10, f = 30.633742271249584\n",
      "Optimization restart 9/10, f = 30.633742271240752\n"
     ]
    },
    {
     "name": "stderr",
     "output_type": "stream",
     "text": [
      "reconstraining parameters GP_regression.Mat52.lengthscale\n",
      "reconstraining parameters GP_regression.Mat52.variance\n",
      "reconstraining parameters GP_regression.Gaussian_noise.variance\n"
     ]
    },
    {
     "name": "stdout",
     "output_type": "stream",
     "text": [
      "Optimization restart 10/10, f = 30.633742271228698\n",
      "Optimization restart 1/10, f = 38.18922738977752\n",
      "Optimization restart 2/10, f = 38.18922739012443\n",
      "Optimization restart 3/10, f = 38.18922738977746\n",
      "Optimization restart 4/10, f = 38.1892273897804\n",
      "Optimization restart 5/10, f = 113.38793082461721\n",
      "Optimization restart 6/10, f = 38.18922738977732\n",
      "Optimization restart 7/10, f = 38.18922738977743\n",
      "Optimization restart 8/10, f = 280.36706315897317\n",
      "Optimization restart 9/10, f = 38.189227389784065\n",
      "Optimization restart 10/10, f = 38.18922738980311\n",
      "(5_w,11)-aCMA-ES (mu_w=3.4,w_1=42%) in dimension 12 (seed=725298, Tue Jul  6 16:59:24 2021)\n",
      "Iterat #Fevals   function value  axis ratio  sigma  min&max std  t[m:s]\n",
      "    1     11 -4.375297644843146e-01 1.0e+00 2.45e-01  2e-01  3e-01 0:00.0\n",
      "    2     22 -4.389304540995715e-01 1.2e+00 2.61e-01  3e-01  3e-01 0:00.0\n",
      "    3     33 -4.385749541560554e-01 1.3e+00 2.95e-01  3e-01  3e-01 0:00.0\n",
      "  100   1100 -5.135047838217535e-01 4.9e+00 1.94e-01  7e-02  2e-01 0:01.2\n",
      "  200   2200 -5.146745111658213e-01 4.9e+01 2.64e-02  4e-03  3e-02 0:03.4\n",
      "  300   3300 -5.147012328955387e-01 4.4e+02 3.39e-03  3e-04  3e-03 0:06.0\n",
      "  400   4400 -5.147012938875570e-01 6.0e+03 1.70e-04  1e-05  2e-04 0:08.5\n",
      "  500   5500 -5.147012943196199e-01 9.2e+04 1.23e-05  8e-07  1e-05 0:11.0\n",
      "  508   5588 -5.147012943205564e-01 1.1e+05 1.10e-05  8e-07  9e-06 0:11.3\n"
     ]
    },
    {
     "name": "stderr",
     "output_type": "stream",
     "text": [
      "reconstraining parameters GP_regression.Mat52.lengthscale\n",
      "reconstraining parameters GP_regression.Mat52.variance\n",
      "reconstraining parameters GP_regression.Gaussian_noise.variance\n"
     ]
    },
    {
     "name": "stdout",
     "output_type": "stream",
     "text": [
      "termination on tolfun=1e-11 (Tue Jul  6 16:59:37 2021)\n",
      "final/bestever f-value = -5.147013e-01 -5.147013e-01\n",
      "incumbent solution: [ 0.78754161  1.09977511  1.9252124   4.24217725  9.16903268  9.96196845\n",
      " 10.69058188 16.         ...]\n",
      "std deviations: [7.90422938e-07 9.79888996e-07 2.12575823e-06 2.41615655e-06\n",
      " 2.84571517e-06 3.31699552e-06 4.35636097e-06 4.47615598e-06 ...]\n",
      "Optimization restart 1/10, f = 30.278541136127295\n",
      "Optimization restart 2/10, f = 287.04246942466307\n",
      "Optimization restart 3/10, f = 30.278541136080413\n",
      "Optimization restart 4/10, f = 30.278541136086808\n",
      "Optimization restart 5/10, f = 61.01435692780178\n",
      "Optimization restart 6/10, f = 30.27854113608484\n",
      "Optimization restart 7/10, f = 30.278541136115823\n"
     ]
    },
    {
     "name": "stderr",
     "output_type": "stream",
     "text": [
      "reconstraining parameters GP_regression.Mat52.lengthscale\n",
      "reconstraining parameters GP_regression.Mat52.variance\n",
      "reconstraining parameters GP_regression.Gaussian_noise.variance\n"
     ]
    },
    {
     "name": "stdout",
     "output_type": "stream",
     "text": [
      "Optimization restart 8/10, f = 287.04246942466307\n",
      "Optimization restart 9/10, f = 709294808.4672581\n",
      "Optimization restart 10/10, f = 61.01435692780093\n",
      "Optimization restart 1/10, f = 37.175940921988605\n",
      "Optimization restart 2/10, f = 37.175940921975474\n",
      "Optimization restart 3/10, f = 112.5889440130309\n",
      "Optimization restart 4/10, f = 37.17594092198476\n",
      "Optimization restart 5/10, f = 37.17594092221225\n",
      "Optimization restart 6/10, f = 61.014356927803114\n",
      "Optimization restart 7/10, f = 112.58878576190158\n",
      "Optimization restart 8/10, f = 37.17594092197557\n",
      "Optimization restart 9/10, f = 37.175940921975865\n",
      "Optimization restart 10/10, f = 37.175940921975396\n",
      "(5_w,11)-aCMA-ES (mu_w=3.4,w_1=42%) in dimension 12 (seed=699348, Tue Jul  6 16:59:39 2021)\n",
      "Iterat #Fevals   function value  axis ratio  sigma  min&max std  t[m:s]\n",
      "    1     11 -4.479451053937732e-01 1.0e+00 2.43e-01  2e-01  3e-01 0:00.0\n",
      "    2     22 -4.475327487828749e-01 1.2e+00 2.41e-01  2e-01  3e-01 0:00.0\n",
      "    3     33 -4.476250050719622e-01 1.3e+00 2.33e-01  2e-01  2e-01 0:00.0\n",
      "  100   1100 -4.559546798594554e-01 1.5e+01 4.90e-01  2e-01  9e-01 0:01.2\n",
      "  200   2200 -5.109528270756969e-01 8.8e+00 1.31e-01  2e-02  1e-01 0:02.4\n",
      "  300   3300 -5.113421648116983e-01 7.7e+01 7.28e-02  8e-03  1e-01 0:03.7\n",
      "  400   4400 -5.114596995146341e-01 1.5e+02 8.04e-03  7e-04  8e-03 0:04.9\n",
      "  500   5500 -5.114612083676178e-01 5.4e+02 4.06e-03  2e-04  2e-03 0:06.1\n",
      "  600   6600 -5.114615987717729e-01 9.9e+02 3.90e-03  1e-04  1e-03 0:07.4\n",
      "  700   7700 -5.114616311472533e-01 4.1e+03 1.23e-03  3e-05  4e-04 0:08.6\n",
      "  800   8800 -5.114616340483537e-01 9.4e+03 6.33e-04  1e-05  1e-04 0:09.8\n",
      "  900   9900 -5.114616344865444e-01 3.6e+04 2.90e-04  5e-06  5e-05 0:11.0\n",
      " 1000  11000 -5.114616345389555e-01 8.9e+04 1.71e-04  2e-06  2e-05 0:13.5\n",
      "Iterat #Fevals   function value  axis ratio  sigma  min&max std  t[m:s]\n",
      " 1019  11209 -5.114616345434216e-01 1.1e+05 1.47e-04  1e-06  2e-05 0:13.9\n"
     ]
    },
    {
     "name": "stderr",
     "output_type": "stream",
     "text": [
      "reconstraining parameters GP_regression.Mat52.lengthscale\n",
      "reconstraining parameters GP_regression.Mat52.variance\n",
      "reconstraining parameters GP_regression.Gaussian_noise.variance\n"
     ]
    },
    {
     "name": "stdout",
     "output_type": "stream",
     "text": [
      "termination on tolfun=1e-11 (Tue Jul  6 16:59:55 2021)\n",
      "final/bestever f-value = -5.114616e-01 -5.114616e-01\n",
      "incumbent solution: [ 0.86628006  1.31627263  2.29995622  4.64983728  7.23953149 11.18031422\n",
      " 11.61950721 16.         ...]\n",
      "std deviations: [1.43676667e-06 3.16019647e-06 3.89667057e-06 5.17397869e-06\n",
      " 7.06076668e-06 8.11608567e-06 7.98857497e-06 8.31200593e-06 ...]\n",
      "Optimization restart 1/10, f = 29.493986626376014\n",
      "Optimization restart 2/10, f = 29.49398662636642\n",
      "Optimization restart 3/10, f = 29.493986626365412\n",
      "Optimization restart 4/10, f = 709245528.0294343\n",
      "Optimization restart 5/10, f = 293.7178756903529\n",
      "Optimization restart 6/10, f = 29.49398662636301\n",
      "Optimization restart 7/10, f = 29.49398662636319\n",
      "Optimization restart 8/10, f = 29.493986626373847\n"
     ]
    },
    {
     "name": "stderr",
     "output_type": "stream",
     "text": [
      "reconstraining parameters GP_regression.Mat52.lengthscale\n",
      "reconstraining parameters GP_regression.Mat52.variance\n",
      "reconstraining parameters GP_regression.Gaussian_noise.variance\n"
     ]
    },
    {
     "name": "stdout",
     "output_type": "stream",
     "text": [
      "Optimization restart 9/10, f = 62.4332954610056\n",
      "Optimization restart 10/10, f = 29.493986626364894\n",
      "Optimization restart 1/10, f = 36.3669474935047\n",
      "Optimization restart 2/10, f = 293.7178756903529\n",
      "Optimization restart 3/10, f = 115.67530153451654\n",
      "Optimization restart 4/10, f = 36.36694749351068\n",
      "Optimization restart 5/10, f = 36.366947493499126\n",
      "Optimization restart 6/10, f = 293.7178756903529\n",
      "Optimization restart 7/10, f = 36.36694749354197\n",
      "Optimization restart 8/10, f = 293.7178756903529\n",
      "Optimization restart 9/10, f = 36.36694749352619\n",
      "Optimization restart 10/10, f = 62.4332954610056\n",
      "(5_w,11)-aCMA-ES (mu_w=3.4,w_1=42%) in dimension 12 (seed=680694, Tue Jul  6 16:59:57 2021)\n",
      "Iterat #Fevals   function value  axis ratio  sigma  min&max std  t[m:s]\n",
      "    1     11 -4.289236627687395e-01 1.0e+00 2.31e-01  2e-01  2e-01 0:00.0\n",
      "    2     22 -4.314270570999335e-01 1.2e+00 2.53e-01  2e-01  3e-01 0:00.0\n",
      "    3     33 -4.314319292985247e-01 1.2e+00 2.67e-01  3e-01  3e-01 0:00.0\n",
      "  100   1100 -4.968820896094522e-01 5.1e+00 1.44e+00  5e-01  2e+00 0:01.3\n",
      "  200   2200 -5.060637297303279e-01 1.4e+01 1.57e-01  3e-02  2e-01 0:03.1\n",
      "  300   3300 -5.065905216658269e-01 8.3e+01 6.28e-02  6e-03  7e-02 0:05.6\n",
      "  400   4400 -5.066284642625141e-01 4.1e+02 2.81e-02  2e-03  2e-02 0:08.1\n",
      "  500   5500 -5.066351677581885e-01 1.2e+03 1.71e-02  7e-04  1e-02 0:10.7\n",
      "  600   6600 -5.066420188598254e-01 1.4e+03 2.33e-02  8e-04  1e-02 0:13.2\n",
      "  700   7700 -5.066435206800468e-01 2.9e+03 1.09e-02  2e-04  4e-03 0:15.7\n",
      "  800   8800 -5.066457894878152e-01 3.6e+03 4.51e-02  6e-04  1e-02 0:18.3\n",
      "  900   9900 -5.066466869159272e-01 7.2e+03 1.25e-02  1e-04  4e-03 0:20.8\n",
      " 1000  11000 -5.066467918131508e-01 1.4e+04 3.41e-02  3e-04  5e-03 0:23.3\n",
      "Iterat #Fevals   function value  axis ratio  sigma  min&max std  t[m:s]\n",
      " 1100  12100 -5.066481985546230e-01 1.1e+04 7.86e-02  4e-04  7e-03 0:25.9\n",
      " 1200  13200 -5.066484378842945e-01 1.7e+04 1.29e-02  6e-05  1e-03 0:28.4\n",
      " 1300  14300 -5.066484404855331e-01 1.0e+05 3.62e-03  1e-05  3e-04 0:30.9\n",
      " 1400  15400 -5.066484931614048e-01 6.4e+04 7.08e-02  1e-04  2e-03 0:33.5\n",
      " 1500  16500 -5.066488701317948e-01 7.5e+04 6.59e-02  1e-04  2e-03 0:36.0\n",
      " 1600  17600 -5.066488779012552e-01 1.1e+05 9.05e-03  1e-05  2e-04 0:38.6\n",
      " 1700  18700 -5.066488780491152e-01 5.7e+05 3.54e-03  4e-06  8e-05 0:41.1\n",
      " 1800  19800 -5.066488969537565e-01 3.0e+05 2.45e-01  1e-04  1e-03 0:43.6\n",
      " 1900  20900 -5.066490420014580e-01 3.8e+05 2.43e-01  9e-05  2e-03 0:46.2\n",
      " 2000  22000 -5.066490547377189e-01 3.5e+05 6.64e-02  2e-05  5e-04 0:48.7\n",
      "Iterat #Fevals   function value  axis ratio  sigma  min&max std  t[m:s]\n",
      " 2100  23100 -5.066490549608360e-01 3.9e+05 1.35e-02  2e-06  7e-05 0:51.2\n",
      " 2126  23386 -5.066490549639817e-01 6.3e+05 6.81e-03  1e-06  3e-05 0:51.9\n"
     ]
    },
    {
     "name": "stderr",
     "output_type": "stream",
     "text": [
      "reconstraining parameters GP_regression.Mat52.lengthscale\n",
      "reconstraining parameters GP_regression.Mat52.variance\n",
      "reconstraining parameters GP_regression.Gaussian_noise.variance\n"
     ]
    },
    {
     "name": "stdout",
     "output_type": "stream",
     "text": [
      "termination on tolfun=1e-11 (Tue Jul  6 17:00:55 2021)\n",
      "final/bestever f-value = -5.066491e-01 -5.066491e-01\n",
      "incumbent solution: [ 0.70396681  1.02853434  2.32629514  4.43613002  7.26617151 10.90589042\n",
      " 12.47388752 16.         ...]\n",
      "std deviations: [1.08016433e-06 2.70411523e-06 6.06808623e-06 5.34789246e-06\n",
      " 7.20408296e-06 8.81823203e-06 8.15362225e-06 8.82348415e-06 ...]\n",
      "Optimization restart 1/10, f = 28.326406801620784\n",
      "Optimization restart 2/10, f = 28.326406801615743\n",
      "Optimization restart 3/10, f = 28.32640680160891\n",
      "Optimization restart 4/10, f = 300.3932819560427\n",
      "Optimization restart 5/10, f = 28.326406801606744\n",
      "Optimization restart 6/10, f = 28.326406801792736\n",
      "Optimization restart 7/10, f = 28.326406801606026\n",
      "Optimization restart 8/10, f = 28.326406801616656\n",
      "Optimization restart 9/10, f = 300.3932819560427\n"
     ]
    },
    {
     "name": "stderr",
     "output_type": "stream",
     "text": [
      "reconstraining parameters GP_regression.Mat52.lengthscale\n",
      "reconstraining parameters GP_regression.Mat52.variance\n",
      "reconstraining parameters GP_regression.Gaussian_noise.variance\n"
     ]
    },
    {
     "name": "stdout",
     "output_type": "stream",
     "text": [
      "Optimization restart 10/10, f = 28.326406801608723\n",
      "Optimization restart 1/10, f = 35.41331874867832\n",
      "Optimization restart 2/10, f = 300.3932819560427\n",
      "Optimization restart 3/10, f = 300.3932819560427\n",
      "Optimization restart 4/10, f = 300.3932819560427\n",
      "Optimization restart 5/10, f = 35.41331874845578\n",
      "Optimization restart 6/10, f = 827464668.4546789\n",
      "Optimization restart 7/10, f = 826440286.7707455\n",
      "Optimization restart 8/10, f = 35.413318748480535\n",
      "Optimization restart 9/10, f = 827606378.0512983\n",
      "Optimization restart 10/10, f = 35.41331874845567\n",
      "(5_w,11)-aCMA-ES (mu_w=3.4,w_1=42%) in dimension 12 (seed=682857, Tue Jul  6 17:00:57 2021)\n",
      "Iterat #Fevals   function value  axis ratio  sigma  min&max std  t[m:s]\n",
      "    1     11 -4.243336447817082e-01 1.0e+00 2.25e-01  2e-01  2e-01 0:00.0\n",
      "    2     22 -4.258769338448957e-01 1.1e+00 2.14e-01  2e-01  2e-01 0:00.0\n",
      "    3     33 -4.269709815475791e-01 1.2e+00 2.20e-01  2e-01  2e-01 0:00.1\n",
      "  100   1100 -4.540923878078524e-01 7.3e+00 2.01e-01  5e-02  2e-01 0:02.5\n",
      "  200   2200 -4.548224617238292e-01 2.9e+01 8.34e-02  1e-02  9e-02 0:05.0\n",
      "  300   3300 -4.551278854621865e-01 2.1e+02 1.68e-01  2e-02  3e-01 0:07.6\n",
      "  400   4400 -4.552612283754578e-01 3.8e+02 1.02e-01  9e-03  1e-01 0:10.1\n",
      "  500   5500 -4.553323160449364e-01 8.2e+02 1.19e-01  9e-03  1e-01 0:12.6\n",
      "  600   6600 -4.553931706439453e-01 1.1e+03 7.75e-02  4e-03  8e-02 0:15.2\n",
      "  700   7700 -4.554159924183250e-01 9.3e+02 8.38e-02  3e-03  4e-02 0:17.8\n",
      "  800   8800 -4.554206234742929e-01 2.1e+03 5.15e-02  2e-03  2e-02 0:20.4\n",
      "  900   9900 -4.554273856502641e-01 2.6e+03 1.27e-01  3e-03  4e-02 0:23.0\n",
      " 1000  11000 -4.554316360115518e-01 2.9e+03 8.03e-02  1e-03  2e-02 0:25.5\n",
      "Iterat #Fevals   function value  axis ratio  sigma  min&max std  t[m:s]\n",
      " 1100  12100 -4.554323109063722e-01 7.6e+03 1.23e-01  1e-03  2e-02 0:28.1\n",
      " 1200  13200 -4.554349438023333e-01 7.6e+03 2.13e-01  2e-03  2e-02 0:30.7\n",
      " 1300  14300 -4.554375744032853e-01 9.8e+03 2.38e-01  2e-03  2e-02 0:33.3\n",
      " 1400  15400 -4.554383312112897e-01 1.3e+04 1.41e-01  6e-04  1e-02 0:35.9\n",
      " 1500  16500 -4.554385352978142e-01 1.4e+04 1.01e-01  3e-04  4e-03 0:38.5\n",
      " 1600  17600 -4.554387728822262e-01 1.4e+04 4.95e-01  1e-03  1e-02 0:41.0\n",
      " 1700  18700 -4.554397781534464e-01 1.2e+04 1.83e+00  2e-03  4e-02 0:43.6\n",
      " 1800  19800 -4.554416244580047e-01 9.9e+03 1.64e+00  1e-03  2e-02 0:46.2\n",
      " 1900  20900 -4.554419731910825e-01 1.3e+04 4.11e-01  2e-04  4e-03 0:48.8\n",
      " 2000  22000 -4.554420165196130e-01 3.2e+04 5.64e-01  2e-04  3e-03 0:51.4\n",
      "Iterat #Fevals   function value  axis ratio  sigma  min&max std  t[m:s]\n",
      " 2100  23100 -4.554425828910353e-01 2.3e+04 4.31e+00  1e-03  2e-02 0:53.9\n",
      " 2200  24200 -4.554436073213912e-01 2.0e+04 6.63e+00  1e-03  2e-02 0:56.5\n",
      " 2300  25300 -4.554437893172659e-01 1.8e+04 7.75e-01  1e-04  1e-03 0:59.1\n",
      " 2400  26400 -4.554438048743250e-01 4.8e+04 2.40e+00  2e-04  3e-03 1:01.7\n",
      " 2500  27500 -4.554440378819398e-01 3.0e+04 1.04e+01  5e-04  9e-03 1:04.3\n",
      " 2600  28600 -4.554446770696038e-01 2.2e+04 1.49e+01  5e-04  9e-03 1:06.9\n",
      " 2700  29700 -4.554447510480223e-01 3.7e+04 5.68e+00  2e-04  3e-03 1:09.4\n",
      " 2800  30800 -4.554447653249075e-01 5.6e+04 5.24e+00  1e-04  2e-03 1:12.0\n",
      " 2900  31900 -4.554448011574685e-01 6.0e+04 3.14e+01  4e-04  7e-03 1:14.6\n",
      " 3000  33000 -4.554450397490694e-01 3.8e+04 5.49e+01  6e-04  9e-03 1:17.2\n",
      "Iterat #Fevals   function value  axis ratio  sigma  min&max std  t[m:s]\n",
      " 3100  34100 -4.554451936441555e-01 3.6e+04 3.90e+01  3e-04  4e-03 1:19.8\n",
      " 3200  35200 -4.554452197884512e-01 4.8e+04 2.17e+01  1e-04  2e-03 1:22.4\n",
      " 3300  36300 -4.554452251503504e-01 9.2e+04 2.00e+01  7e-05  1e-03 1:25.0\n",
      " 3400  37400 -4.554452745626335e-01 6.9e+04 2.75e+02  5e-04  8e-03 1:27.5\n",
      " 3500  38500 -4.554454568061895e-01 6.8e+04 2.46e+02  4e-04  6e-03 1:30.1\n",
      " 3600  39600 -4.554455030241543e-01 5.4e+04 1.54e+02  2e-04  3e-03 1:31.9\n",
      " 3700  40700 -4.554455105246149e-01 8.3e+04 1.19e+02  9e-05  2e-03 1:33.2\n",
      " 3800  41800 -4.554455159743057e-01 1.2e+05 3.39e+02  2e-04  3e-03 1:35.6\n",
      " 3900  42900 -4.554455564722909e-01 8.3e+04 6.14e+02  2e-04  3e-03 1:37.7\n",
      " 4000  44000 -4.554456468349449e-01 6.7e+04 1.10e+03  3e-04  4e-03 1:38.9\n",
      "Iterat #Fevals   function value  axis ratio  sigma  min&max std  t[m:s]\n",
      " 4100  45100 -4.554456777435569e-01 6.7e+04 9.25e+02  2e-04  2e-03 1:40.2\n",
      " 4200  46200 -4.554456818858563e-01 8.3e+04 5.36e+02  7e-05  9e-04 1:41.5\n",
      " 4300  47300 -4.554456851530468e-01 1.1e+05 1.59e+03  1e-04  2e-03 1:42.7\n",
      " 4400  48400 -4.554457133127681e-01 1.0e+05 7.68e+03  4e-04  5e-03 1:44.0\n",
      " 4500  49500 -4.554457505220302e-01 1.3e+05 4.61e+03  2e-04  3e-03 1:45.2\n",
      " 4600  50600 -4.554457543466117e-01 1.4e+05 1.49e+03  3e-05  6e-04 1:46.5\n",
      " 4700  51700 -4.554457552890951e-01 2.0e+05 2.08e+03  3e-05  5e-04 1:47.8\n",
      " 4800  52800 -4.554457679430460e-01 1.9e+05 1.37e+04  1e-04  2e-03 1:49.0\n",
      " 4900  53900 -4.554457887667106e-01 1.4e+05 2.76e+04  2e-04  4e-03 1:50.3\n",
      " 5000  55000 -4.554457934733696e-01 1.6e+05 3.25e+03  2e-05  3e-04 1:51.5\n",
      "Iterat #Fevals   function value  axis ratio  sigma  min&max std  t[m:s]\n",
      " 5100  56100 -4.554457949006382e-01 2.5e+05 1.99e+04  6e-05  1e-03 1:52.8\n",
      " 5200  57200 -4.554458076461553e-01 2.0e+05 5.94e+04  2e-04  3e-03 1:54.1\n",
      " 5300  58300 -4.554458177894551e-01 1.3e+05 6.16e+04  1e-04  2e-03 1:55.3\n",
      " 5400  59400 -4.554458191670890e-01 2.1e+05 1.51e+04  2e-05  3e-04 1:56.6\n",
      " 5500  60500 -4.554458192689964e-01 5.6e+05 6.17e+03  6e-06  1e-04 1:57.9\n",
      " 5600  61600 -4.554458214660635e-01 4.6e+05 1.85e+05  9e-05  2e-03 1:59.1\n",
      " 5700  62700 -4.554458313144755e-01 4.1e+05 2.38e+05  1e-04  1e-03 2:00.4\n",
      " 5800  63800 -4.554458328350518e-01 4.6e+05 3.30e+04  1e-05  2e-04 2:01.6\n",
      " 5900  64900 -4.554458329780727e-01 6.3e+05 3.34e+04  8e-06  1e-04 2:02.9\n",
      " 5934  65274 -4.554458329845362e-01 8.7e+05 2.53e+04  5e-06  9e-05 2:03.3\n"
     ]
    },
    {
     "name": "stderr",
     "output_type": "stream",
     "text": [
      "reconstraining parameters GP_regression.Mat52.lengthscale\n",
      "reconstraining parameters GP_regression.Mat52.variance\n",
      "reconstraining parameters GP_regression.Gaussian_noise.variance\n"
     ]
    },
    {
     "name": "stdout",
     "output_type": "stream",
     "text": [
      "termination on tolfun=1e-11 (Tue Jul  6 17:03:16 2021)\n",
      "final/bestever f-value = -4.554458e-01 -4.554458e-01\n",
      "incumbent solution: [1.49536320e+00 2.07179693e+00 5.99994476e+00 3.02750957e+00\n",
      " 1.58449145e-09 4.16728108e+00 1.40000000e+01 1.60000000e+01 ...]\n",
      "std deviations: [5.26593372e-06 1.42949087e-05 1.02452139e-05 1.57891928e-05\n",
      " 7.67608765e-06 5.64023014e-05 1.78004162e-05 2.91394288e-05 ...]\n",
      "Optimization restart 1/10, f = 29.605684030668563\n",
      "Optimization restart 2/10, f = 29.605684030373276\n",
      "Optimization restart 3/10, f = 29.60568403037517\n",
      "Optimization restart 4/10, f = 725726292.9065981\n",
      "Optimization restart 5/10, f = 29.605684030364998\n",
      "Optimization restart 6/10, f = 29.605684030372533\n",
      "Optimization restart 7/10, f = 29.605684030374047\n",
      "Optimization restart 8/10, f = 29.60568403037895\n",
      "Optimization restart 9/10, f = 65.27117252741493\n"
     ]
    },
    {
     "name": "stderr",
     "output_type": "stream",
     "text": [
      "reconstraining parameters GP_regression.Mat52.lengthscale\n",
      "reconstraining parameters GP_regression.Mat52.variance\n",
      "reconstraining parameters GP_regression.Gaussian_noise.variance\n"
     ]
    },
    {
     "name": "stdout",
     "output_type": "stream",
     "text": [
      "Optimization restart 10/10, f = 29.605684030392574\n",
      "Optimization restart 1/10, f = 36.69120866562582\n",
      "Optimization restart 2/10, f = 36.69120866562593\n",
      "Optimization restart 3/10, f = 36.69120866562691\n",
      "Optimization restart 4/10, f = 307.0686882217325\n",
      "Optimization restart 5/10, f = 36.691208665626064\n",
      "Optimization restart 6/10, f = 2297479.794577635\n",
      "Optimization restart 7/10, f = 65.27117252741495\n",
      "Optimization restart 8/10, f = 847832438.0705745\n",
      "Optimization restart 9/10, f = 845598631.11422\n",
      "Optimization restart 10/10, f = 36.69120866562586\n",
      "(5_w,11)-aCMA-ES (mu_w=3.4,w_1=42%) in dimension 12 (seed=659017, Tue Jul  6 17:03:18 2021)\n",
      "Iterat #Fevals   function value  axis ratio  sigma  min&max std  t[m:s]\n",
      "    1     11 -4.313241329018734e-01 1.0e+00 2.50e-01  2e-01  3e-01 0:00.0\n",
      "    2     22 -4.314127903613398e-01 1.2e+00 2.59e-01  2e-01  3e-01 0:00.0\n",
      "    3     33 -4.316787066754843e-01 1.3e+00 2.68e-01  3e-01  3e-01 0:00.0\n",
      "  100   1100 -4.562179175573756e-01 4.7e+00 5.94e-01  2e-01  7e-01 0:01.2\n",
      "  200   2200 -4.583784034717825e-01 2.3e+01 2.31e-01  3e-02  4e-01 0:02.4\n",
      "  300   3300 -4.640453354754022e-01 4.7e+01 8.32e-01  6e-02  2e+00 0:03.6\n",
      "  400   4400 -4.671808063860713e-01 2.5e+01 3.03e-01  1e-02  2e-01 0:04.9\n",
      "  500   5500 -4.674826909775540e-01 1.1e+02 1.70e-01  5e-03  9e-02 0:06.1\n",
      "  600   6600 -4.676090784541894e-01 2.7e+02 3.10e-01  4e-03  1e-01 0:07.3\n",
      "  700   7700 -4.676337636662904e-01 4.9e+02 1.14e-01  2e-03  3e-02 0:08.6\n",
      "  800   8800 -4.676376329495889e-01 8.8e+02 3.41e-02  3e-04  7e-03 0:09.8\n",
      "  900   9900 -4.676381893537431e-01 1.7e+03 3.73e-02  3e-04  4e-03 0:11.0\n",
      " 1000  11000 -4.676383607756306e-01 4.0e+03 4.18e-02  2e-04  4e-03 0:13.1\n",
      "Iterat #Fevals   function value  axis ratio  sigma  min&max std  t[m:s]\n",
      " 1100  12100 -4.676384298270283e-01 5.8e+03 4.02e-02  2e-04  3e-03 0:14.7\n",
      " 1200  13200 -4.676384754740321e-01 6.9e+03 3.02e-02  9e-05  1e-03 0:16.0\n",
      " 1300  14300 -4.676385031230582e-01 8.5e+03 6.38e-02  1e-04  2e-03 0:17.2\n",
      " 1400  15400 -4.676385262261761e-01 1.3e+04 4.84e-02  6e-05  1e-03 0:18.4\n",
      " 1500  16500 -4.676385398749975e-01 1.8e+04 4.00e-02  3e-05  7e-04 0:19.6\n",
      " 1600  17600 -4.676385479679674e-01 2.4e+04 8.05e-02  5e-05  1e-03 0:20.9\n",
      " 1700  18700 -4.676385537355091e-01 3.3e+04 6.18e-02  3e-05  5e-04 0:22.1\n",
      " 1800  19800 -4.676385576321415e-01 3.5e+04 1.08e-01  3e-05  7e-04 0:23.4\n",
      " 1900  20900 -4.676385614342790e-01 3.0e+04 2.11e-01  4e-05  9e-04 0:24.6\n",
      " 2000  22000 -4.676385633921338e-01 5.0e+04 2.60e-01  3e-05  8e-04 0:25.8\n",
      "Iterat #Fevals   function value  axis ratio  sigma  min&max std  t[m:s]\n",
      " 2100  23100 -4.676385644215026e-01 6.1e+04 1.56e-01  2e-05  3e-04 0:27.0\n",
      " 2200  24200 -4.676385649940675e-01 7.0e+04 1.55e-01  1e-05  2e-04 0:28.3\n",
      " 2300  25300 -4.676385656805035e-01 5.1e+04 4.28e-01  2e-05  3e-04 0:29.5\n",
      " 2400  26400 -4.676385659903255e-01 1.0e+05 3.19e-01  1e-05  2e-04 0:30.7\n",
      " 2500  27500 -4.676385661575763e-01 1.2e+05 3.00e-01  7e-06  1e-04 0:31.9\n",
      " 2600  28600 -4.676385663036988e-01 1.5e+05 3.25e-01  5e-06  9e-05 0:33.2\n",
      " 2700  29700 -4.676385664042676e-01 1.5e+05 5.06e-01  5e-06  9e-05 0:34.4\n",
      " 2800  30800 -4.676385664782303e-01 1.5e+05 1.01e+00  7e-06  1e-04 0:35.6\n",
      " 2900  31900 -4.676385665259057e-01 2.3e+05 6.75e-01  3e-06  5e-05 0:36.8\n",
      " 2947  32417 -4.676385665376116e-01 2.5e+05 5.48e-01  3e-06  3e-05 0:37.4\n"
     ]
    },
    {
     "name": "stderr",
     "output_type": "stream",
     "text": [
      "reconstraining parameters GP_regression.Mat52.lengthscale\n",
      "reconstraining parameters GP_regression.Mat52.variance\n",
      "reconstraining parameters GP_regression.Gaussian_noise.variance\n"
     ]
    },
    {
     "name": "stdout",
     "output_type": "stream",
     "text": [
      "termination on tolfun=1e-11 (Tue Jul  6 17:04:00 2021)\n",
      "final/bestever f-value = -4.676386e-01 -4.676386e-01\n",
      "incumbent solution: [1.35819774e-01 5.31233742e-07 5.09121094e-11 4.97977986e+00\n",
      " 2.72602955e+00 1.20000000e+01 1.40000000e+01 1.60000000e+01 ...]\n",
      "std deviations: [2.55838438e-06 2.54428530e-06 2.73297305e-06 2.27360152e-05\n",
      " 1.99203732e-05 1.46839506e-05 2.24425980e-05 1.29850611e-05 ...]\n",
      "Optimization restart 1/10, f = 30.919748215450273\n",
      "Optimization restart 2/10, f = 30.919748215444933\n",
      "Optimization restart 3/10, f = 30.9197482154429\n",
      "Optimization restart 4/10, f = 30.919748215449125\n",
      "Optimization restart 5/10, f = 30.919748215448756\n",
      "Optimization restart 6/10, f = 30.919748215438904\n",
      "Optimization restart 7/10, f = 66.6901110606196\n",
      "Optimization restart 8/10, f = 30.919748215450152\n"
     ]
    },
    {
     "name": "stderr",
     "output_type": "stream",
     "text": [
      "reconstraining parameters GP_regression.Mat52.lengthscale\n",
      "reconstraining parameters GP_regression.Mat52.variance\n",
      "reconstraining parameters GP_regression.Gaussian_noise.variance\n"
     ]
    },
    {
     "name": "stdout",
     "output_type": "stream",
     "text": [
      "Optimization restart 9/10, f = 30.9197482154424\n",
      "Optimization restart 10/10, f = 30.919748215526585\n",
      "Optimization restart 1/10, f = 38.10698898065995\n",
      "Optimization restart 2/10, f = 38.10698898062854\n",
      "Optimization restart 3/10, f = 119.27056674388879\n",
      "Optimization restart 4/10, f = 38.10698898063178\n",
      "Optimization restart 5/10, f = 119.26811753369981\n",
      "Optimization restart 6/10, f = 1001912247.1313964\n",
      "Optimization restart 7/10, f = 66.69011106061963\n",
      "Optimization restart 8/10, f = 38.106988980659054\n",
      "Optimization restart 9/10, f = 38.10698898068114\n",
      "Optimization restart 10/10, f = 38.10698898063117\n",
      "(5_w,11)-aCMA-ES (mu_w=3.4,w_1=42%) in dimension 12 (seed=670559, Tue Jul  6 17:04:03 2021)\n",
      "Iterat #Fevals   function value  axis ratio  sigma  min&max std  t[m:s]\n",
      "    1     11 -4.333009060134235e-01 1.0e+00 2.34e-01  2e-01  2e-01 0:00.0\n",
      "    2     22 -4.332968066697930e-01 1.1e+00 2.23e-01  2e-01  2e-01 0:00.0\n",
      "    3     33 -4.349889354274795e-01 1.2e+00 2.35e-01  2e-01  3e-01 0:00.0\n",
      "  100   1100 -4.546718843398315e-01 7.9e+00 6.04e-01  2e-01  1e+00 0:01.2\n",
      "  200   2200 -4.596157377451938e-01 1.5e+01 1.32e-01  2e-02  2e-01 0:02.4\n",
      "  300   3300 -4.606870064215158e-01 2.9e+01 1.87e-01  1e-02  2e-01 0:03.7\n",
      "  400   4400 -4.608657184134759e-01 1.3e+02 1.62e-01  9e-03  1e-01 0:04.9\n",
      "  500   5500 -5.036749673915466e-01 8.0e+01 6.64e-01  3e-02  4e-01 0:06.2\n",
      "  600   6600 -5.073598318600328e-01 2.1e+01 1.37e+00  4e-02  5e-01 0:07.4\n",
      "  700   7700 -5.082783814838554e-01 1.1e+02 2.02e-01  3e-03  6e-02 0:08.6\n",
      "  800   8800 -5.083534235911782e-01 4.1e+02 8.48e-02  1e-03  2e-02 0:09.8\n",
      "  900   9900 -5.083611676650441e-01 9.2e+02 7.28e-02  6e-04  1e-02 0:11.1\n",
      " 1000  11000 -5.083622283278970e-01 2.2e+03 2.07e-02  1e-04  2e-03 0:12.3\n",
      "Iterat #Fevals   function value  axis ratio  sigma  min&max std  t[m:s]\n",
      " 1100  12100 -5.083623037011762e-01 8.7e+03 1.29e-02  6e-05  9e-04 0:13.5\n",
      " 1200  13200 -5.083623107830526e-01 4.0e+04 3.16e-03  1e-05  2e-04 0:14.7\n",
      " 1300  14300 -5.083623116451313e-01 8.7e+04 2.31e-03  6e-06  8e-05 0:16.0\n",
      " 1400  15400 -5.083623118587234e-01 1.2e+05 3.11e-03  5e-06  6e-05 0:17.2\n",
      " 1498  16478 -5.083623119180603e-01 3.5e+05 9.21e-04  1e-06  2e-05 0:18.4\n"
     ]
    },
    {
     "name": "stderr",
     "output_type": "stream",
     "text": [
      "reconstraining parameters GP_regression.Mat52.lengthscale\n",
      "reconstraining parameters GP_regression.Mat52.variance\n",
      "reconstraining parameters GP_regression.Gaussian_noise.variance\n"
     ]
    },
    {
     "name": "stdout",
     "output_type": "stream",
     "text": [
      "termination on tolfun=1e-11 (Tue Jul  6 17:04:23 2021)\n",
      "final/bestever f-value = -5.083623e-01 -5.083623e-01\n",
      "incumbent solution: [ 0.66590534  1.16054942  1.87061042  4.50479864  6.7612575  11.40027923\n",
      " 10.940195   16.         ...]\n",
      "std deviations: [1.05614368e-06 2.59029110e-06 3.03877902e-06 4.33317993e-06\n",
      " 6.16582907e-06 7.24939234e-06 7.15588582e-06 8.05796054e-06 ...]\n",
      "Optimization restart 1/10, f = 30.531181216675915\n",
      "Optimization restart 2/10, f = 70.9975606904117\n",
      "Optimization restart 3/10, f = 30.531181216496613\n",
      "Optimization restart 4/10, f = 30.531181216481144\n",
      "Optimization restart 5/10, f = 30.53118121648997\n",
      "Optimization restart 6/10, f = 30.53118121738376\n",
      "Optimization restart 7/10, f = 70.15589376119979\n",
      "Optimization restart 8/10, f = 30.53118121649036\n",
      "Optimization restart 9/10, f = 30.531181216484317\n"
     ]
    },
    {
     "name": "stderr",
     "output_type": "stream",
     "text": [
      "reconstraining parameters GP_regression.Mat52.lengthscale\n",
      "reconstraining parameters GP_regression.Mat52.variance\n",
      "reconstraining parameters GP_regression.Gaussian_noise.variance\n"
     ]
    },
    {
     "name": "stdout",
     "output_type": "stream",
     "text": [
      "Optimization restart 10/10, f = 30.531181216524473\n",
      "Optimization restart 1/10, f = 37.173381202539176\n",
      "Optimization restart 2/10, f = 37.173381202537655\n",
      "Optimization restart 3/10, f = 118.43798162996885\n",
      "Optimization restart 4/10, f = 37.173381202536575\n",
      "Optimization restart 5/10, f = 37.17338120254191\n",
      "Optimization restart 6/10, f = 37.1733812025429\n",
      "Optimization restart 7/10, f = 37.17338120253707\n",
      "Optimization restart 8/10, f = 1006207679.9277278\n",
      "Optimization restart 9/10, f = 37.17338120254053\n",
      "Optimization restart 10/10, f = 37.17338120282652\n",
      "(5_w,11)-aCMA-ES (mu_w=3.4,w_1=42%) in dimension 12 (seed=701341, Tue Jul  6 17:04:26 2021)\n",
      "Iterat #Fevals   function value  axis ratio  sigma  min&max std  t[m:s]\n",
      "    1     11 -4.356201399311201e-01 1.0e+00 2.33e-01  2e-01  2e-01 0:00.0\n",
      "    2     22 -4.379266656431807e-01 1.1e+00 2.29e-01  2e-01  2e-01 0:00.0\n",
      "    3     33 -4.372787042977906e-01 1.2e+00 2.22e-01  2e-01  2e-01 0:00.0\n",
      "  100   1100 -5.037758167882126e-01 9.1e+00 8.45e-01  2e-01  1e+00 0:01.2\n",
      "  200   2200 -5.097605104549650e-01 2.9e+01 6.39e-02  8e-03  7e-02 0:02.5\n",
      "  300   3300 -5.098926193260127e-01 2.2e+02 2.36e-02  2e-03  3e-02 0:03.7\n",
      "  400   4400 -5.098986801380432e-01 1.0e+03 6.27e-03  3e-04  6e-03 0:05.4\n",
      "  500   5500 -5.098989510811389e-01 6.4e+03 1.12e-03  5e-05  7e-04 0:07.9\n",
      "  600   6600 -5.098989588820081e-01 3.2e+04 2.31e-04  9e-06  1e-04 0:10.4\n",
      "  700   7700 -5.098989594853262e-01 9.9e+04 3.24e-04  9e-06  1e-04 0:13.0\n",
      "  800   8800 -5.098989595751336e-01 2.4e+05 1.89e-04  3e-06  5e-05 0:15.5\n",
      "  835   9185 -5.098989595828656e-01 2.7e+05 1.07e-04  2e-06  2e-05 0:16.4\n"
     ]
    },
    {
     "name": "stderr",
     "output_type": "stream",
     "text": [
      "reconstraining parameters GP_regression.Mat52.lengthscale\n",
      "reconstraining parameters GP_regression.Mat52.variance\n",
      "reconstraining parameters GP_regression.Gaussian_noise.variance\n"
     ]
    },
    {
     "name": "stdout",
     "output_type": "stream",
     "text": [
      "termination on tolfun=1e-11 (Tue Jul  6 17:04:44 2021)\n",
      "final/bestever f-value = -5.098990e-01 -5.098990e-01\n",
      "incumbent solution: [ 1.08560441  1.70779963  2.97417872  4.63910293  8.72051255  9.82505321\n",
      " 12.51223927 16.         ...]\n",
      "std deviations: [1.52124314e-06 3.43868847e-06 4.21861194e-06 8.53846487e-06\n",
      " 8.53805165e-06 1.24698660e-05 1.48516777e-05 1.09364735e-05 ...]\n",
      "Optimization restart 1/10, f = 29.53018743207527\n",
      "Optimization restart 2/10, f = 327.09490701880196\n",
      "Optimization restart 3/10, f = 29.53018743207282\n",
      "Optimization restart 4/10, f = 29.53018743207525\n",
      "Optimization restart 5/10, f = 29.53018743207516\n",
      "Optimization restart 6/10, f = 29.53018743207656\n",
      "Optimization restart 7/10, f = 29.53018743210397\n",
      "Optimization restart 8/10, f = 29.53018743224163\n"
     ]
    },
    {
     "name": "stderr",
     "output_type": "stream",
     "text": [
      "reconstraining parameters GP_regression.Mat52.lengthscale\n",
      "reconstraining parameters GP_regression.Mat52.variance\n",
      "reconstraining parameters GP_regression.Gaussian_noise.variance\n"
     ]
    },
    {
     "name": "stdout",
     "output_type": "stream",
     "text": [
      "Optimization restart 9/10, f = 29.530187432071447\n",
      "Optimization restart 10/10, f = 69.52798812702896\n",
      "Optimization restart 1/10, f = 37.587841704675085\n",
      "Optimization restart 2/10, f = 37.58784170482366\n",
      "Optimization restart 3/10, f = 37.58784170467527\n",
      "Optimization restart 4/10, f = 37.58784170467623\n",
      "Optimization restart 5/10, f = 123.04953280375521\n",
      "Optimization restart 6/10, f = 123.04953297828789\n",
      "Optimization restart 7/10, f = 2447315.4333544383\n",
      "Optimization restart 8/10, f = 37.5878417046755\n",
      "Optimization restart 9/10, f = 998637914.8172265\n",
      "Optimization restart 10/10, f = 37.587841704675085\n",
      "(5_w,11)-aCMA-ES (mu_w=3.4,w_1=42%) in dimension 12 (seed=705934, Tue Jul  6 17:04:47 2021)\n",
      "Iterat #Fevals   function value  axis ratio  sigma  min&max std  t[m:s]\n",
      "    1     11 -4.436581936252451e-01 1.0e+00 2.42e-01  2e-01  2e-01 0:00.0\n",
      "    2     22 -4.448229327264426e-01 1.2e+00 2.49e-01  2e-01  3e-01 0:00.0\n",
      "    3     33 -4.462847125032299e-01 1.3e+00 2.72e-01  3e-01  3e-01 0:00.1\n",
      "  100   1100 -4.530584483519260e-01 1.3e+01 1.52e-01  4e-02  4e-01 0:02.5\n",
      "  200   2200 -4.584807042987074e-01 2.3e+01 3.40e-01  4e-02  6e-01 0:05.0\n",
      "  300   3300 -4.614722106187185e-01 3.0e+01 3.12e-01  2e-02  5e-01 0:07.5\n",
      "  400   4400 -4.659111654374036e-01 2.7e+01 2.52e-01  1e-02  2e-01 0:10.1\n",
      "  500   5500 -4.661992413719943e-01 3.0e+01 2.00e-01  6e-03  1e-01 0:12.6\n",
      "  600   6600 -4.662830936173649e-01 4.6e+01 1.05e-01  2e-03  5e-02 0:15.1\n",
      "  700   7700 -4.663183897143752e-01 5.6e+01 7.00e-02  1e-03  3e-02 0:17.7\n",
      "  800   8800 -4.663243291689012e-01 1.4e+02 4.95e-02  5e-04  2e-02 0:20.2\n",
      "  900   9900 -4.663272332647614e-01 3.9e+02 4.64e-02  3e-04  2e-02 0:22.8\n",
      " 1000  11000 -4.663276192175784e-01 9.2e+02 1.99e-02  1e-04  5e-03 0:25.3\n",
      "Iterat #Fevals   function value  axis ratio  sigma  min&max std  t[m:s]\n",
      " 1100  12100 -4.663277121767599e-01 2.1e+03 3.80e-02  2e-04  9e-03 0:27.8\n",
      " 1200  13200 -4.663277506432381e-01 5.1e+03 1.75e-02  5e-05  4e-03 0:30.4\n",
      " 1300  14300 -4.663277539788088e-01 9.0e+03 5.40e-03  1e-05  7e-04 0:32.9\n",
      " 1400  15400 -4.663277542384815e-01 3.4e+04 1.87e-03  2e-06  1e-04 0:35.5\n",
      " 1459  16049 -4.663277542590029e-01 6.3e+04 8.18e-04  9e-07  5e-05 0:37.0\n"
     ]
    },
    {
     "name": "stderr",
     "output_type": "stream",
     "text": [
      "reconstraining parameters GP_regression.Mat52.lengthscale\n",
      "reconstraining parameters GP_regression.Mat52.variance\n",
      "reconstraining parameters GP_regression.Gaussian_noise.variance\n"
     ]
    },
    {
     "name": "stdout",
     "output_type": "stream",
     "text": [
      "termination on tolfun=1e-11 (Tue Jul  6 17:05:28 2021)\n",
      "final/bestever f-value = -4.663278e-01 -4.663278e-01\n",
      "incumbent solution: [2.62825062e-19 5.13026901e-10 5.90821932e-11 5.34917188e+00\n",
      " 1.88721625e+00 1.68730068e-08 1.40000000e+01 1.60000000e+01 ...]\n",
      "std deviations: [9.36760015e-07 1.54657588e-06 2.00818000e-06 1.47419458e-05\n",
      " 2.50720762e-05 5.57067223e-06 1.62524315e-05 1.82567745e-05 ...]\n",
      "Optimization restart 1/10, f = 30.793951019541694\n",
      "Optimization restart 2/10, f = 957500503.4114431\n",
      "Optimization restart 3/10, f = 30.7939510195347\n",
      "Optimization restart 4/10, f = 30.793951019529615\n",
      "Optimization restart 5/10, f = 70.94692666023373\n",
      "Optimization restart 6/10, f = 30.79395101953348\n",
      "Optimization restart 7/10, f = 333.7703132844918\n",
      "Optimization restart 8/10, f = 30.793951019517024\n",
      "Optimization restart 9/10, f = 30.79395101952695\n"
     ]
    },
    {
     "name": "stderr",
     "output_type": "stream",
     "text": [
      "reconstraining parameters GP_regression.Mat52.lengthscale\n",
      "reconstraining parameters GP_regression.Mat52.variance\n",
      "reconstraining parameters GP_regression.Gaussian_noise.variance\n"
     ]
    },
    {
     "name": "stdout",
     "output_type": "stream",
     "text": [
      "Optimization restart 10/10, f = 70.94692666023364\n",
      "Optimization restart 1/10, f = 38.84588073294261\n",
      "Optimization restart 2/10, f = 125.47519763909138\n",
      "Optimization restart 3/10, f = 70.94692666023363\n",
      "Optimization restart 4/10, f = 38.84588073294266\n",
      "Optimization restart 5/10, f = 38.84588073294233\n",
      "Optimization restart 6/10, f = 38.84588073294195\n",
      "Optimization restart 7/10, f = 1042989641.7773325\n",
      "Optimization restart 8/10, f = 38.84588073294813\n",
      "Optimization restart 9/10, f = 70.94692666023364\n",
      "Optimization restart 10/10, f = 38.84588073294324\n",
      "(5_w,11)-aCMA-ES (mu_w=3.4,w_1=42%) in dimension 12 (seed=688224, Tue Jul  6 17:05:30 2021)\n",
      "Iterat #Fevals   function value  axis ratio  sigma  min&max std  t[m:s]\n",
      "    1     11 -4.496889032286917e-01 1.0e+00 2.46e-01  2e-01  3e-01 0:00.0\n",
      "    2     22 -4.502167444042905e-01 1.2e+00 2.57e-01  2e-01  3e-01 0:00.0\n",
      "    3     33 -4.515939625104238e-01 1.3e+00 2.69e-01  3e-01  3e-01 0:00.1\n",
      "  100   1100 -5.070904995212029e-01 8.8e+00 9.43e-02  2e-02  1e-01 0:02.5\n",
      "  200   2200 -5.075388049275500e-01 8.7e+01 1.67e-02  2e-03  3e-02 0:04.9\n",
      "  300   3300 -5.075429365354454e-01 1.1e+03 2.97e-03  3e-04  5e-03 0:07.4\n",
      "  400   4400 -5.075430567721755e-01 4.3e+03 9.62e-04  7e-05  1e-03 0:09.9\n",
      "  500   5500 -5.075430653830478e-01 8.5e+03 3.43e-04  2e-05  2e-04 0:12.3\n",
      "  600   6600 -5.075430665101859e-01 5.4e+04 7.83e-05  3e-06  7e-05 0:14.8\n",
      "  700   7700 -5.075430666348597e-01 1.2e+05 1.63e-04  5e-06  9e-05 0:17.2\n",
      "  800   8800 -5.075430667363077e-01 1.4e+05 7.40e-05  2e-06  3e-05 0:19.7\n",
      "  847   9317 -5.075430667460767e-01 2.2e+05 7.69e-05  2e-06  3e-05 0:20.9\n"
     ]
    },
    {
     "name": "stderr",
     "output_type": "stream",
     "text": [
      "reconstraining parameters GP_regression.Mat52.lengthscale\n",
      "reconstraining parameters GP_regression.Mat52.variance\n",
      "reconstraining parameters GP_regression.Gaussian_noise.variance\n"
     ]
    },
    {
     "name": "stdout",
     "output_type": "stream",
     "text": [
      "termination on tolfun=1e-11 (Tue Jul  6 17:05:53 2021)\n",
      "final/bestever f-value = -5.075431e-01 -5.075431e-01\n",
      "incumbent solution: [ 0.83668343  1.04384485  2.00141227  5.12834322  7.25639744 10.75114427\n",
      " 12.7442343  16.         ...]\n",
      "std deviations: [1.72692853e-06 3.28007647e-06 5.51800199e-06 5.03370794e-06\n",
      " 6.97115979e-06 8.69876871e-06 1.07329509e-05 9.31704352e-06 ...]\n",
      "Optimization restart 1/10, f = 29.212975314101193\n",
      "Optimization restart 2/10, f = 29.212975314018255\n",
      "Optimization restart 3/10, f = 72.36586519343831\n",
      "Optimization restart 4/10, f = 29.212975314001163\n",
      "Optimization restart 5/10, f = 340.4457195501816\n",
      "Optimization restart 6/10, f = 29.212975314021808\n",
      "Optimization restart 7/10, f = 29.21297531401431\n",
      "Optimization restart 8/10, f = 29.21297531401442\n",
      "Optimization restart 9/10, f = 963915294.9418263\n"
     ]
    },
    {
     "name": "stderr",
     "output_type": "stream",
     "text": [
      "reconstraining parameters GP_regression.Mat52.lengthscale\n",
      "reconstraining parameters GP_regression.Mat52.variance\n",
      "reconstraining parameters GP_regression.Gaussian_noise.variance\n"
     ]
    },
    {
     "name": "stdout",
     "output_type": "stream",
     "text": [
      "Optimization restart 10/10, f = 29.21297531402156\n",
      "Optimization restart 1/10, f = 38.11432088025481\n",
      "Optimization restart 2/10, f = 124.36476388656389\n",
      "Optimization restart 3/10, f = 38.11432087956152\n",
      "Optimization restart 4/10, f = 340.4457195501816\n",
      "Optimization restart 5/10, f = 72.36586519343928\n",
      "Optimization restart 6/10, f = 38.11432087956898\n",
      "Optimization restart 7/10, f = 72.36586519343854\n",
      "Optimization restart 8/10, f = 38.114320879561795\n",
      "Optimization restart 9/10, f = 340.4457195501816\n",
      "Optimization restart 10/10, f = 1030832142.1171305\n",
      "(5_w,11)-aCMA-ES (mu_w=3.4,w_1=42%) in dimension 12 (seed=671187, Tue Jul  6 17:05:56 2021)\n",
      "Iterat #Fevals   function value  axis ratio  sigma  min&max std  t[m:s]\n",
      "    1     11 -4.352103679158529e-01 1.0e+00 2.35e-01  2e-01  2e-01 0:00.0\n",
      "    2     22 -4.361637894067364e-01 1.2e+00 2.42e-01  2e-01  3e-01 0:00.0\n",
      "    3     33 -4.359228393861951e-01 1.3e+00 2.49e-01  2e-01  3e-01 0:00.1\n",
      "  100   1100 -5.068761675894947e-01 4.4e+00 1.53e-01  5e-02  2e-01 0:02.5\n",
      "  200   2200 -5.080323814316160e-01 4.4e+01 5.33e-02  7e-03  6e-02 0:05.0\n",
      "  300   3300 -5.080815957354627e-01 2.5e+02 1.29e-02  1e-03  2e-02 0:07.6\n",
      "  400   4400 -5.080899367950813e-01 8.8e+02 8.95e-03  7e-04  1e-02 0:10.1\n",
      "  500   5500 -5.080910335824279e-01 1.6e+03 3.99e-03  2e-04  3e-03 0:12.7\n",
      "  600   6600 -5.080913220237280e-01 3.2e+03 3.80e-03  1e-04  2e-03 0:15.2\n",
      "  700   7700 -5.080914241496390e-01 6.0e+03 4.04e-03  9e-05  2e-03 0:17.7\n",
      "  800   8800 -5.080914695117005e-01 1.3e+04 1.27e-03  2e-05  3e-04 0:20.3\n",
      "  900   9900 -5.080914796915463e-01 2.2e+04 2.19e-03  2e-05  3e-04 0:22.8\n",
      " 1000  11000 -5.080914891130051e-01 3.6e+04 2.90e-03  3e-05  5e-04 0:25.3\n",
      "Iterat #Fevals   function value  axis ratio  sigma  min&max std  t[m:s]\n",
      " 1100  12100 -5.080914895334614e-01 1.4e+05 7.50e-04  6e-06  9e-05 0:27.9\n",
      " 1200  13200 -5.080914916516318e-01 1.2e+05 5.31e-03  2e-05  3e-04 0:30.4\n",
      " 1300  14300 -5.080914918492472e-01 2.3e+05 5.67e-04  2e-06  3e-05 0:33.0\n",
      " 1314  14454 -5.080914918517803e-01 2.9e+05 5.12e-04  2e-06  3e-05 0:33.1\n"
     ]
    },
    {
     "name": "stderr",
     "output_type": "stream",
     "text": [
      "reconstraining parameters GP_regression.Mat52.lengthscale\n",
      "reconstraining parameters GP_regression.Mat52.variance\n",
      "reconstraining parameters GP_regression.Gaussian_noise.variance\n"
     ]
    },
    {
     "name": "stdout",
     "output_type": "stream",
     "text": [
      "termination on tolfun=1e-11 (Tue Jul  6 17:06:33 2021)\n",
      "final/bestever f-value = -5.080915e-01 -5.080915e-01\n",
      "incumbent solution: [ 0.6905166   1.09116305  3.1502036   3.90436131  7.66191068 11.4973555\n",
      " 12.61057901 16.         ...]\n",
      "std deviations: [1.80228129e-06 3.80874629e-06 4.47705144e-06 6.60354872e-06\n",
      " 9.79485927e-06 1.27561291e-05 9.09236574e-06 1.11014617e-05 ...]\n",
      "Optimization restart 1/10, f = 27.71668440802883\n",
      "Optimization restart 2/10, f = 970663228.9664701\n",
      "Optimization restart 3/10, f = 27.716684408018427\n",
      "Optimization restart 4/10, f = 27.71668440801239\n",
      "Optimization restart 5/10, f = 27.716684408003232\n",
      "Optimization restart 6/10, f = 970680260.8322976\n",
      "Optimization restart 7/10, f = 970806212.5368874\n",
      "Optimization restart 8/10, f = 27.716684408019002\n",
      "Optimization restart 9/10, f = 27.716684408004873\n"
     ]
    },
    {
     "name": "stderr",
     "output_type": "stream",
     "text": [
      "reconstraining parameters GP_regression.Mat52.lengthscale\n",
      "reconstraining parameters GP_regression.Mat52.variance\n",
      "reconstraining parameters GP_regression.Gaussian_noise.variance\n"
     ]
    },
    {
     "name": "stdout",
     "output_type": "stream",
     "text": [
      "Optimization restart 10/10, f = 27.71668440801131\n",
      "Optimization restart 1/10, f = 37.08086777126035\n",
      "Optimization restart 2/10, f = 37.08086777125724\n",
      "Optimization restart 3/10, f = 37.080867771260486\n",
      "Optimization restart 4/10, f = 73.78480372664298\n",
      "Optimization restart 5/10, f = 73.78480372664279\n",
      "Optimization restart 6/10, f = 37.08086777131258\n",
      "Optimization restart 7/10, f = 2597151.0721312403\n",
      "Optimization restart 8/10, f = 73.78480372664299\n",
      "Optimization restart 9/10, f = 37.080867771322254\n",
      "Optimization restart 10/10, f = 73.78480372664296\n",
      "(5_w,11)-aCMA-ES (mu_w=3.4,w_1=42%) in dimension 12 (seed=767834, Tue Jul  6 17:06:36 2021)\n",
      "Iterat #Fevals   function value  axis ratio  sigma  min&max std  t[m:s]\n",
      "    1     11 -4.370643808987900e-01 1.0e+00 2.40e-01  2e-01  3e-01 0:00.0\n",
      "    2     22 -4.448085778042311e-01 1.2e+00 2.70e-01  3e-01  3e-01 0:00.0\n",
      "    3     33 -4.453023734999849e-01 1.3e+00 2.87e-01  3e-01  3e-01 0:00.0\n",
      "  100   1100 -5.019488782659285e-01 5.5e+00 1.33e-01  5e-02  1e-01 0:01.8\n",
      "  200   2200 -5.043145650201426e-01 4.3e+01 1.20e-01  2e-02  2e-01 0:04.4\n",
      "  300   3300 -5.045784022666500e-01 1.6e+02 2.10e-02  2e-03  2e-02 0:06.9\n",
      "  400   4400 -5.045852839524830e-01 7.0e+02 9.78e-03  7e-04  7e-03 0:09.4\n",
      "  500   5500 -5.045855405108993e-01 4.8e+03 2.25e-03  8e-05  1e-03 0:12.0\n",
      "  600   6600 -5.045855551769345e-01 1.7e+04 6.60e-04  2e-05  3e-04 0:14.5\n",
      "  700   7700 -5.045855561098611e-01 7.9e+04 2.52e-04  6e-06  9e-05 0:17.1\n",
      "  800   8800 -5.045855561899053e-01 2.4e+05 1.97e-04  3e-06  6e-05 0:19.6\n",
      "  855   9405 -5.045855562074086e-01 3.4e+05 9.37e-05  1e-06  2e-05 0:21.0\n"
     ]
    },
    {
     "name": "stderr",
     "output_type": "stream",
     "text": [
      "reconstraining parameters GP_regression.Mat52.lengthscale\n",
      "reconstraining parameters GP_regression.Mat52.variance\n",
      "reconstraining parameters GP_regression.Gaussian_noise.variance\n"
     ]
    },
    {
     "name": "stdout",
     "output_type": "stream",
     "text": [
      "termination on tolfun=1e-11 (Tue Jul  6 17:06:59 2021)\n",
      "final/bestever f-value = -5.045856e-01 -5.045856e-01\n",
      "incumbent solution: [ 0.63629266  0.90232734  3.19563964  3.56473847  7.78449151 11.41525409\n",
      " 13.20785717 16.         ...]\n",
      "std deviations: [1.40737645e-06 2.13700161e-06 3.47070612e-06 5.69051552e-06\n",
      " 9.14632714e-06 1.32702294e-05 7.17761522e-06 8.82606547e-06 ...]\n",
      "Optimization restart 1/10, f = 25.443591702663575\n",
      "Optimization restart 2/10, f = 977467089.5003858\n",
      "Optimization restart 3/10, f = 25.44359170266388\n",
      "Optimization restart 4/10, f = 25.443591702661696\n",
      "Optimization restart 5/10, f = 25.443591702664577\n",
      "Optimization restart 6/10, f = 25.44359170267228\n",
      "Optimization restart 7/10, f = 25.443591702763158\n",
      "Optimization restart 8/10, f = 25.44359170268621\n",
      "Optimization restart 9/10, f = 25.443591702683225\n"
     ]
    },
    {
     "name": "stderr",
     "output_type": "stream",
     "text": [
      "reconstraining parameters GP_regression.Mat52.lengthscale\n",
      "reconstraining parameters GP_regression.Mat52.variance\n",
      "reconstraining parameters GP_regression.Gaussian_noise.variance\n"
     ]
    },
    {
     "name": "stdout",
     "output_type": "stream",
     "text": [
      "Optimization restart 10/10, f = 75.20374195237576\n",
      "Optimization restart 1/10, f = 35.82355371360272\n",
      "Optimization restart 2/10, f = 1016476136.4810052\n",
      "Optimization restart 3/10, f = 75.20374225984764\n",
      "Optimization restart 4/10, f = 35.82355371359401\n",
      "Optimization restart 5/10, f = 35.8235537136272\n",
      "Optimization restart 6/10, f = 35.823553713594805\n",
      "Optimization restart 7/10, f = 121.03377762767923\n",
      "Optimization restart 8/10, f = 35.823553713621784\n",
      "Optimization restart 9/10, f = 35.82355371390196\n",
      "Optimization restart 10/10, f = 122.14230009361427\n",
      "(5_w,11)-aCMA-ES (mu_w=3.4,w_1=42%) in dimension 12 (seed=733316, Tue Jul  6 17:07:01 2021)\n",
      "Iterat #Fevals   function value  axis ratio  sigma  min&max std  t[m:s]\n",
      "    1     11 -4.259373350592170e-01 1.0e+00 2.27e-01  2e-01  2e-01 0:00.0\n",
      "    2     22 -4.254735390047893e-01 1.1e+00 2.24e-01  2e-01  2e-01 0:00.0\n",
      "    3     33 -4.266167988363412e-01 1.2e+00 2.39e-01  2e-01  3e-01 0:00.1\n",
      "  100   1100 -4.508261187520607e-01 8.6e+00 3.93e-01  9e-02  6e-01 0:02.5\n",
      "  200   2200 -4.585266388067066e-01 5.6e+01 8.50e-01  8e-02  3e+00 0:05.0\n",
      "  300   3300 -4.616475240159947e-01 3.2e+01 2.82e-01  2e-02  5e-01 0:07.6\n",
      "  400   4400 -4.623219320518204e-01 4.1e+01 8.64e-02  4e-03  1e-01 0:10.1\n",
      "  500   5500 -4.623781311568042e-01 9.6e+01 7.20e-02  3e-03  6e-02 0:12.7\n",
      "  600   6600 -4.623862431474940e-01 1.6e+02 1.73e-02  5e-04  1e-02 0:15.3\n",
      "  700   7700 -4.623880127127010e-01 2.7e+02 3.22e-02  6e-04  2e-02 0:17.8\n",
      "  800   8800 -4.623890922437235e-01 5.4e+02 1.46e-02  2e-04  6e-03 0:20.4\n",
      "  900   9900 -4.623895684642054e-01 7.9e+02 1.81e-02  9e-05  5e-03 0:23.0\n",
      " 1000  11000 -4.623897526331451e-01 1.1e+03 1.55e-02  4e-05  3e-03 0:25.6\n",
      "Iterat #Fevals   function value  axis ratio  sigma  min&max std  t[m:s]\n",
      " 1100  12100 -4.623898783351555e-01 1.5e+03 1.98e-02  3e-05  2e-03 0:28.1\n",
      " 1200  13200 -4.623899164664468e-01 2.9e+03 2.51e-02  2e-05  3e-03 0:30.7\n",
      " 1300  14300 -4.623899500594080e-01 2.5e+03 2.07e-02  1e-05  1e-03 0:33.3\n",
      " 1400  15400 -4.623899712827760e-01 4.4e+03 2.51e-02  7e-06  1e-03 0:35.9\n",
      " 1500  16500 -4.623899742252651e-01 7.1e+03 5.79e-03  1e-06  2e-04 0:38.4\n",
      " 1600  17600 -4.623899817661545e-01 1.2e+04 3.59e-02  2e-06  9e-04 0:41.0\n",
      " 1700  18700 -4.623899862499634e-01 9.5e+03 8.22e-03  5e-07  1e-04 0:43.6\n",
      " 1800  19800 -4.623899868562522e-01 2.5e+04 2.14e-02  8e-07  2e-04 0:46.2\n",
      " 1900  20900 -4.623899908455317e-01 2.9e+04 5.17e-02  8e-07  4e-04 0:48.7\n",
      " 2000  22000 -4.623899910475836e-01 5.1e+04 5.09e-03  7e-08  3e-05 0:51.3\n",
      "Iterat #Fevals   function value  axis ratio  sigma  min&max std  t[m:s]\n",
      " 2007  22077 -4.623899910488763e-01 5.3e+04 5.89e-03  8e-08  4e-05 0:51.5\n",
      "termination on tolfun=1e-11 (Tue Jul  6 17:07:59 2021)\n",
      "final/bestever f-value = -4.623900e-01 -4.623900e-01\n",
      "incumbent solution: [6.01522246e-12 1.04454411e-05 1.30534953e-11 6.08874669e+00\n",
      " 3.30091782e-10 1.20000000e+01 1.40000000e+01 1.60000000e+01 ...]\n",
      "std deviations: [2.13009101e-06 3.11764260e-06 2.00363615e-06 7.56665767e-08\n",
      " 6.58586324e-06 2.03754420e-05 3.54663293e-05 1.80656263e-05 ...]\n"
     ]
    },
    {
     "name": "stderr",
     "output_type": "stream",
     "text": [
      "reconstraining parameters GP_regression.Mat52.lengthscale\n",
      "reconstraining parameters GP_regression.Mat52.variance\n",
      "reconstraining parameters GP_regression.Gaussian_noise.variance\n"
     ]
    },
    {
     "name": "stdout",
     "output_type": "stream",
     "text": [
      "Optimization restart 1/10, f = 26.77038257497591\n",
      "Optimization restart 2/10, f = 26.770382574861088\n",
      "Optimization restart 3/10, f = 76.62268079305234\n",
      "Optimization restart 4/10, f = 26.77038257483542\n",
      "Optimization restart 5/10, f = 26.770382574850498\n",
      "Optimization restart 6/10, f = 26.770382574846895\n",
      "Optimization restart 7/10, f = 2697041.4979824424\n",
      "Optimization restart 8/10, f = 26.770382574840788\n",
      "Optimization restart 9/10, f = 26.770382574870897\n"
     ]
    },
    {
     "name": "stderr",
     "output_type": "stream",
     "text": [
      "reconstraining parameters GP_regression.Mat52.lengthscale\n"
     ]
    },
    {
     "name": "stdout",
     "output_type": "stream",
     "text": [
      "Optimization restart 10/10, f = 26.77038257485467\n"
     ]
    },
    {
     "name": "stderr",
     "output_type": "stream",
     "text": [
      "reconstraining parameters GP_regression.Mat52.variance\n",
      "reconstraining parameters GP_regression.Gaussian_noise.variance\n"
     ]
    },
    {
     "name": "stdout",
     "output_type": "stream",
     "text": [
      "Optimization restart 1/10, f = 36.94894759645\n",
      "Optimization restart 2/10, f = 36.94894759645133\n",
      "Optimization restart 3/10, f = 2697041.497982442\n",
      "Optimization restart 4/10, f = 360.47193834725107\n",
      "Optimization restart 5/10, f = 36.94894759644859\n",
      "Optimization restart 6/10, f = 36.948947596448704\n",
      "Optimization restart 7/10, f = 360.47193834725107\n",
      "Optimization restart 8/10, f = 36.94894759645307\n",
      "Optimization restart 9/10, f = 1109623097.62979\n",
      "Optimization restart 10/10, f = 36.948947596448505\n",
      "(5_w,11)-aCMA-ES (mu_w=3.4,w_1=42%) in dimension 12 (seed=762686, Tue Jul  6 17:08:01 2021)\n",
      "Iterat #Fevals   function value  axis ratio  sigma  min&max std  t[m:s]\n",
      "    1     11 -4.218527546239012e-01 1.0e+00 2.39e-01  2e-01  2e-01 0:00.0\n",
      "    2     22 -4.272828311154040e-01 1.2e+00 2.45e-01  2e-01  3e-01 0:00.0\n",
      "    3     33 -4.299302494739627e-01 1.3e+00 2.76e-01  3e-01  3e-01 0:00.1\n",
      "  100   1100 -4.523489415487574e-01 1.2e+01 8.07e-01  2e-01  1e+00 0:02.5\n",
      "  200   2200 -4.590798549741572e-01 1.9e+01 4.66e-01  8e-02  4e-01 0:05.1\n",
      "  300   3300 -4.612442345413282e-01 8.3e+01 9.57e-01  9e-02  9e-01 0:07.6\n",
      "  400   4400 -4.652697902637001e-01 1.0e+02 5.43e-01  2e-02  5e-01 0:10.2\n",
      "  500   5500 -4.656799750684137e-01 1.7e+02 1.38e-01  4e-03  9e-02 0:12.8\n",
      "  600   6600 -4.657498000046448e-01 2.8e+02 2.02e-01  3e-03  8e-02 0:15.4\n",
      "  700   7700 -4.657752898620365e-01 4.9e+02 9.06e-02  9e-04  3e-02 0:18.0\n",
      "  800   8800 -4.657778784644302e-01 1.2e+03 1.38e-02  1e-04  3e-03 0:20.6\n",
      "  900   9900 -4.657779829634819e-01 4.5e+03 7.91e-03  5e-05  2e-03 0:23.2\n",
      " 1000  11000 -4.657780549092676e-01 7.3e+03 1.77e-02  5e-05  3e-03 0:25.8\n",
      "Iterat #Fevals   function value  axis ratio  sigma  min&max std  t[m:s]\n",
      " 1100  12100 -4.657780665185481e-01 2.1e+04 5.37e-03  1e-05  6e-04 0:28.4\n",
      " 1200  13200 -4.657780756556776e-01 3.0e+04 7.23e-03  1e-05  6e-04 0:31.1\n",
      " 1300  14300 -4.657780759379603e-01 6.6e+04 1.57e-03  2e-06  8e-05 0:33.8\n",
      " 1400  15400 -4.657780763568292e-01 1.1e+05 6.37e-03  5e-06  2e-04 0:36.4\n",
      " 1473  16203 -4.657780764293625e-01 1.9e+05 7.74e-04  6e-07  2e-05 0:38.3\n"
     ]
    },
    {
     "name": "stderr",
     "output_type": "stream",
     "text": [
      "reconstraining parameters GP_regression.Mat52.lengthscale\n",
      "reconstraining parameters GP_regression.Mat52.variance\n",
      "reconstraining parameters GP_regression.Gaussian_noise.variance\n"
     ]
    },
    {
     "name": "stdout",
     "output_type": "stream",
     "text": [
      "termination on tolfun=1e-11 (Tue Jul  6 17:08:44 2021)\n",
      "final/bestever f-value = -4.657781e-01 -4.657781e-01\n",
      "incumbent solution: [7.89321836e-09 1.98102637e-01 3.93218303e-13 2.71959137e+00\n",
      " 5.94992486e+00 8.70302687e+00 1.40000000e+01 1.60000000e+01 ...]\n",
      "std deviations: [5.62049680e-07 1.98393277e-06 1.08475528e-06 8.34225859e-06\n",
      " 1.55036858e-05 2.13345343e-05 7.29297598e-06 7.98264079e-06 ...]\n",
      "Optimization restart 1/10, f = 27.78643444847734\n",
      "Optimization restart 2/10, f = 27.786434448490954\n",
      "Optimization restart 3/10, f = 27.786434448476463\n",
      "Optimization restart 4/10, f = 27.78643444849526\n",
      "Optimization restart 5/10, f = 27.78643444848072\n",
      "Optimization restart 6/10, f = 27.78643444848683\n",
      "Optimization restart 7/10, f = 27.786434448466103\n",
      "Optimization restart 8/10, f = 27.786434448496028\n",
      "Optimization restart 9/10, f = 27.78643444847779\n"
     ]
    },
    {
     "name": "stderr",
     "output_type": "stream",
     "text": [
      "reconstraining parameters GP_regression.Mat52.lengthscale\n",
      "reconstraining parameters GP_regression.Mat52.variance\n",
      "reconstraining parameters GP_regression.Gaussian_noise.variance\n"
     ]
    },
    {
     "name": "stdout",
     "output_type": "stream",
     "text": [
      "Optimization restart 10/10, f = 27.786434448475696\n",
      "Optimization restart 1/10, f = 38.189654374616865\n",
      "Optimization restart 2/10, f = 38.189654374615614\n",
      "Optimization restart 3/10, f = 38.189654374616026\n",
      "Optimization restart 4/10, f = 78.041619326257\n",
      "Optimization restart 5/10, f = 38.1896543746158\n",
      "Optimization restart 6/10, f = 38.189654374616254\n",
      "Optimization restart 7/10, f = 38.18965437461553\n",
      "Optimization restart 8/10, f = 38.189654374619195\n",
      "Optimization restart 9/10, f = 38.189654374621384\n",
      "Optimization restart 10/10, f = 1253437722.7899199\n",
      "(5_w,11)-aCMA-ES (mu_w=3.4,w_1=42%) in dimension 12 (seed=678833, Tue Jul  6 17:08:47 2021)\n",
      "Iterat #Fevals   function value  axis ratio  sigma  min&max std  t[m:s]\n",
      "    1     11 -4.303998937414132e-01 1.0e+00 2.37e-01  2e-01  2e-01 0:00.0\n",
      "    2     22 -4.304070147139223e-01 1.1e+00 2.29e-01  2e-01  2e-01 0:00.0\n",
      "    3     33 -4.313435775236880e-01 1.2e+00 2.45e-01  2e-01  3e-01 0:00.0\n",
      "  100   1100 -5.007920277282292e-01 7.8e+00 3.31e-01  9e-02  5e-01 0:01.3\n",
      "  200   2200 -5.053550322141855e-01 2.2e+01 8.06e-02  1e-02  1e-01 0:02.5\n",
      "  300   3300 -5.054073157550851e-01 1.1e+02 3.00e-02  2e-03  3e-02 0:03.8\n",
      "  400   4400 -5.054179295398362e-01 4.9e+02 1.08e-02  7e-04  1e-02 0:05.0\n",
      "  500   5500 -5.054188238657822e-01 3.7e+03 3.81e-03  2e-04  7e-03 0:06.3\n",
      "  600   6600 -5.054190064496586e-01 5.4e+03 4.72e-03  2e-04  4e-03 0:07.6\n",
      "  700   7700 -5.054191872746158e-01 6.9e+03 7.37e-03  2e-04  4e-03 0:08.8\n",
      "  800   8800 -5.054192874859385e-01 1.3e+04 2.01e-03  4e-05  1e-03 0:10.1\n",
      "  900   9900 -5.054192927318014e-01 3.2e+04 3.78e-03  5e-05  1e-03 0:11.3\n",
      " 1000  11000 -5.054193314235085e-01 3.3e+04 1.18e-02  8e-05  2e-03 0:12.6\n",
      "Iterat #Fevals   function value  axis ratio  sigma  min&max std  t[m:s]\n",
      " 1100  12100 -5.054193691435065e-01 4.5e+04 6.45e-03  5e-05  2e-03 0:13.9\n",
      " 1200  13200 -5.054193702994044e-01 1.4e+05 1.77e-03  9e-06  3e-04 0:15.1\n",
      " 1300  14300 -5.054193756310383e-01 7.1e+04 1.35e-02  3e-05  7e-04 0:16.4\n",
      " 1400  15400 -5.054194026194887e-01 1.3e+05 2.66e-02  6e-05  2e-03 0:17.6\n",
      " 1500  16500 -5.054194049555951e-01 1.3e+05 5.40e-03  1e-05  4e-04 0:18.9\n",
      " 1600  17600 -5.054194051984984e-01 2.1e+05 4.32e-03  6e-06  2e-04 0:20.2\n",
      " 1700  18700 -5.054194053582775e-01 3.3e+05 2.44e-03  3e-06  7e-05 0:21.4\n",
      " 1800  19800 -5.054194056121049e-01 4.3e+05 1.29e-02  9e-06  3e-04 0:22.7\n",
      " 1900  20900 -5.054194059496147e-01 3.2e+05 2.71e-02  1e-05  3e-04 0:24.0\n",
      " 2000  22000 -5.054194084719861e-01 2.9e+05 7.66e-02  3e-05  6e-04 0:25.2\n",
      "Iterat #Fevals   function value  axis ratio  sigma  min&max std  t[m:s]\n",
      " 2100  23100 -5.054194090117070e-01 2.8e+05 4.08e-02  9e-06  2e-04 0:26.5\n",
      " 2200  24200 -5.054194148974362e-01 1.5e+05 2.18e-01  2e-05  5e-04 0:27.8\n",
      " 2300  25300 -5.054194183987886e-01 2.5e+05 7.01e-02  8e-06  2e-04 0:29.0\n",
      " 2400  26400 -5.054194184593820e-01 5.5e+05 5.10e-02  4e-06  1e-04 0:30.3\n",
      " 2500  27500 -5.054194186524630e-01 8.3e+05 7.64e-02  4e-06  1e-04 0:31.5\n",
      " 2575  28325 -5.054194186825611e-01 8.4e+05 4.71e-02  2e-06  6e-05 0:32.5\n"
     ]
    },
    {
     "name": "stderr",
     "output_type": "stream",
     "text": [
      "reconstraining parameters GP_regression.Mat52.lengthscale\n",
      "reconstraining parameters GP_regression.Mat52.variance\n",
      "reconstraining parameters GP_regression.Gaussian_noise.variance\n"
     ]
    },
    {
     "name": "stdout",
     "output_type": "stream",
     "text": [
      "termination on tolfun=1e-11 (Tue Jul  6 17:09:23 2021)\n",
      "final/bestever f-value = -5.054194e-01 -5.054194e-01\n",
      "incumbent solution: [ 0.64255177  1.35970854  3.35401499  4.55760439  7.37511299 11.99999993\n",
      " 13.14141384 16.         ...]\n",
      "std deviations: [2.03229274e-06 3.53912590e-06 6.89466185e-06 5.81818276e-06\n",
      " 1.07554480e-05 1.75461021e-05 9.51576815e-06 1.26091381e-05 ...]\n",
      "Optimization restart 1/10, f = 26.40561378506866\n",
      "Optimization restart 2/10, f = 26.405613785065103\n",
      "Optimization restart 3/10, f = 373.8227508786308\n",
      "Optimization restart 4/10, f = 26.40561378504467\n",
      "Optimization restart 5/10, f = 26.405613785054975\n",
      "Optimization restart 6/10, f = 79.46055784877218\n",
      "Optimization restart 7/10, f = 26.40561378504748\n",
      "Optimization restart 8/10, f = 26.405613785060936\n",
      "Optimization restart 9/10, f = 26.405613785046057\n"
     ]
    },
    {
     "name": "stderr",
     "output_type": "stream",
     "text": [
      "reconstraining parameters GP_regression.Mat52.lengthscale\n",
      "reconstraining parameters GP_regression.Mat52.variance\n",
      "reconstraining parameters GP_regression.Gaussian_noise.variance\n"
     ]
    },
    {
     "name": "stdout",
     "output_type": "stream",
     "text": [
      "Optimization restart 10/10, f = 26.405613785062812\n",
      "Optimization restart 1/10, f = 37.18061932103921\n",
      "Optimization restart 2/10, f = 79.46055785946169\n",
      "Optimization restart 3/10, f = 1243697364.0215197\n",
      "Optimization restart 4/10, f = 79.46055785946176\n",
      "Optimization restart 5/10, f = 37.180619321017886\n",
      "Optimization restart 6/10, f = 37.180619320989514\n",
      "Optimization restart 7/10, f = 126.67100247014987\n",
      "Optimization restart 8/10, f = 37.18061932098959\n",
      "Optimization restart 9/10, f = 79.46055785946169\n",
      "Optimization restart 10/10, f = 373.8227508786308\n",
      "(5_w,11)-aCMA-ES (mu_w=3.4,w_1=42%) in dimension 12 (seed=635250, Tue Jul  6 17:09:26 2021)\n",
      "Iterat #Fevals   function value  axis ratio  sigma  min&max std  t[m:s]\n",
      "    1     11 -4.311172890535583e-01 1.0e+00 2.55e-01  2e-01  3e-01 0:00.0\n",
      "    2     22 -4.315956212798601e-01 1.3e+00 2.52e-01  2e-01  3e-01 0:00.0\n",
      "    3     33 -4.345930547683033e-01 1.3e+00 2.80e-01  3e-01  3e-01 0:00.1\n",
      "  100   1100 -4.552348950453399e-01 6.4e+00 2.71e-01  6e-02  3e-01 0:02.5\n",
      "  200   2200 -4.560038657610694e-01 1.5e+01 6.90e-02  1e-02  9e-02 0:05.1\n",
      "  300   3300 -4.587175839116956e-01 2.6e+01 3.03e-01  3e-02  6e-01 0:07.6\n",
      "  400   4400 -4.597554152902452e-01 1.9e+01 5.11e-01  3e-02  4e-01 0:10.2\n",
      "  500   5500 -4.652047999691949e-01 1.7e+01 3.69e+00  2e-01  1e+00 0:12.7\n",
      "  600   6600 -4.685797953363604e-01 5.7e+01 7.71e-01  2e-02  2e-01 0:15.2\n",
      "  700   7700 -4.690600832011782e-01 1.8e+02 4.28e-01  8e-03  1e-01 0:17.7\n",
      "  800   8800 -4.691025648890593e-01 5.6e+02 3.97e-01  6e-03  8e-02 0:20.2\n",
      "  900   9900 -4.691490659543572e-01 8.7e+02 3.90e-01  4e-03  6e-02 0:22.7\n",
      " 1000  11000 -4.691649855752738e-01 1.2e+03 5.55e-01  3e-03  5e-02 0:25.3\n",
      "Iterat #Fevals   function value  axis ratio  sigma  min&max std  t[m:s]\n",
      " 1100  12100 -4.691894983369969e-01 1.8e+03 7.00e-01  3e-03  7e-02 0:27.8\n",
      " 1200  13200 -4.691991558083785e-01 2.4e+03 1.83e+00  6e-03  9e-02 0:30.3\n",
      " 1300  14300 -4.692385705683791e-01 2.2e+03 1.49e+00  4e-03  5e-02 0:32.8\n",
      " 1400  15400 -4.692921379546423e-01 2.4e+03 4.61e+00  1e-02  1e-01 0:35.3\n",
      " 1500  16500 -4.695309112972795e-01 1.4e+03 1.25e+01  2e-02  2e-01 0:37.9\n",
      " 1600  17600 -4.696748221006457e-01 1.2e+03 8.98e+00  9e-03  1e-01 0:40.4\n",
      " 1700  18700 -4.697057229325785e-01 1.0e+03 4.34e+00  3e-03  5e-02 0:43.0\n",
      " 1800  19800 -4.697110747199194e-01 1.8e+03 6.14e+00  2e-03  4e-02 0:45.5\n",
      " 1900  20900 -4.697177222180430e-01 3.0e+03 3.49e+00  2e-03  2e-02 0:48.1\n",
      " 2000  22000 -4.697231633554114e-01 3.6e+03 1.41e+01  3e-03  3e-02 0:50.6\n",
      "Iterat #Fevals   function value  axis ratio  sigma  min&max std  t[m:s]\n",
      " 2100  23100 -4.697426214497025e-01 3.5e+03 1.12e+01  7e-04  2e-02 0:53.2\n",
      " 2200  24200 -4.697468220420561e-01 5.2e+03 9.29e+00  2e-04  2e-02 0:55.7\n",
      " 2300  25300 -4.697494089469001e-01 6.1e+03 1.32e+01  4e-04  1e-02 0:57.2\n",
      " 2400  26400 -4.697521608188767e-01 4.6e+03 1.96e+01  6e-04  1e-02 0:58.5\n",
      " 2500  27500 -4.697565233895380e-01 5.1e+03 5.35e+01  1e-03  2e-02 0:59.8\n",
      " 2600  28600 -4.697694673504696e-01 6.5e+03 7.09e+01  2e-03  3e-02 1:01.1\n",
      " 2700  29700 -4.697708853658717e-01 6.7e+03 4.51e+01  1e-03  1e-02 1:02.5\n",
      " 2800  30800 -4.697718120791501e-01 4.8e+03 6.94e+01  1e-03  1e-02 1:03.8\n",
      " 2900  31900 -4.697723179007741e-01 8.2e+03 5.91e+01  7e-04  9e-03 1:05.1\n",
      " 3000  33000 -4.697725566653648e-01 1.1e+04 2.97e+01  2e-04  3e-03 1:06.6\n",
      "Iterat #Fevals   function value  axis ratio  sigma  min&max std  t[m:s]\n",
      " 3100  34100 -4.697727015388302e-01 1.9e+04 6.98e+01  4e-04  5e-03 1:08.0\n",
      " 3200  35200 -4.697728586981842e-01 2.0e+04 1.28e+02  4e-04  6e-03 1:09.3\n",
      " 3300  36300 -4.697731416624212e-01 2.1e+04 2.68e+02  6e-04  6e-03 1:10.5\n",
      " 3400  37400 -4.697733551584092e-01 1.9e+04 2.44e+02  4e-04  3e-03 1:11.8\n",
      " 3500  38500 -4.697735190729799e-01 1.9e+04 3.87e+02  5e-04  4e-03 1:13.1\n",
      " 3600  39600 -4.697735847874794e-01 1.9e+04 4.43e+02  4e-04  3e-03 1:14.3\n",
      " 3700  40700 -4.697736291802308e-01 2.9e+04 2.11e+02  1e-04  1e-03 1:15.6\n",
      " 3800  41800 -4.697736690866821e-01 3.1e+04 3.26e+02  1e-04  1e-03 1:16.9\n",
      " 3900  42900 -4.697737101329844e-01 2.7e+04 1.15e+03  2e-04  2e-03 1:18.1\n",
      " 4000  44000 -4.697738062668061e-01 3.1e+04 6.92e+02  1e-04  1e-03 1:19.4\n",
      "Iterat #Fevals   function value  axis ratio  sigma  min&max std  t[m:s]\n",
      " 4100  45100 -4.697738149512263e-01 5.2e+04 6.98e+02  1e-04  1e-03 1:20.6\n",
      " 4200  46200 -4.697738198941625e-01 6.7e+04 6.43e+02  6e-05  7e-04 1:22.1\n",
      " 4300  47300 -4.697738262647105e-01 9.8e+04 1.74e+03  9e-05  1e-03 1:24.6\n",
      " 4400  48400 -4.697738586509667e-01 7.4e+04 6.86e+03  3e-04  2e-03 1:27.2\n",
      " 4500  49500 -4.697738858241787e-01 6.5e+04 6.81e+03  2e-04  2e-03 1:29.7\n",
      " 4600  50600 -4.697738945754306e-01 8.9e+04 4.52e+03  1e-04  1e-03 1:32.3\n",
      " 4700  51700 -4.697738971936566e-01 9.5e+04 3.53e+03  5e-05  5e-04 1:34.8\n",
      " 4800  52800 -4.697738987816923e-01 1.4e+05 5.89e+03  6e-05  7e-04 1:37.4\n",
      " 4900  53900 -4.697739022573270e-01 1.6e+05 1.36e+04  9e-05  9e-04 1:39.9\n",
      " 5000  55000 -4.697739078163217e-01 1.1e+05 1.41e+04  6e-05  6e-04 1:42.5\n",
      "Iterat #Fevals   function value  axis ratio  sigma  min&max std  t[m:s]\n",
      " 5100  56100 -4.697739152220559e-01 9.6e+04 1.50e+04  5e-05  5e-04 1:45.0\n",
      " 5200  57200 -4.697739176843866e-01 1.0e+05 2.76e+04  6e-05  7e-04 1:47.5\n",
      " 5300  58300 -4.697739186020323e-01 2.4e+05 2.56e+04  4e-05  6e-04 1:50.1\n",
      " 5400  59400 -4.697739194203661e-01 2.5e+05 2.06e+04  3e-05  3e-04 1:52.6\n",
      " 5500  60500 -4.697739206787969e-01 2.0e+05 6.49e+04  5e-05  4e-04 1:55.2\n",
      " 5600  61600 -4.697739222222972e-01 2.2e+05 1.11e+05  5e-05  6e-04 1:57.7\n",
      " 5700  62700 -4.697739232946517e-01 1.7e+05 1.05e+05  4e-05  3e-04 2:00.3\n",
      " 5800  63800 -4.697739240940824e-01 2.3e+05 5.65e+04  1e-05  1e-04 2:02.8\n",
      " 5900  64900 -4.697739243548584e-01 5.8e+05 1.22e+05  2e-05  3e-04 2:05.3\n",
      " 5974  65714 -4.697739244115005e-01 6.6e+05 3.38e+04  4e-06  6e-05 2:07.2\n"
     ]
    },
    {
     "name": "stderr",
     "output_type": "stream",
     "text": [
      "reconstraining parameters GP_regression.Mat52.lengthscale\n",
      "reconstraining parameters GP_regression.Mat52.variance\n",
      "reconstraining parameters GP_regression.Gaussian_noise.variance\n"
     ]
    },
    {
     "name": "stdout",
     "output_type": "stream",
     "text": [
      "termination on tolfun=1e-11 (Tue Jul  6 17:11:49 2021)\n",
      "final/bestever f-value = -4.697739e-01 -4.697739e-01\n",
      "incumbent solution: [ 1.73385048  2.47295401  5.19852262  2.5583485   1.16290143 12.\n",
      " 11.7803377  16.         ...]\n",
      "std deviations: [4.45159302e-06 7.75695798e-06 2.10973835e-05 2.25100244e-05\n",
      " 2.93909281e-05 1.53991221e-05 3.58172077e-05 1.60813531e-05 ...]\n",
      "Optimization restart 1/10, f = 27.52322624297897\n",
      "Optimization restart 2/10, f = 27.523226242920252\n",
      "Optimization restart 3/10, f = 27.523226242918653\n",
      "Optimization restart 4/10, f = 1344726103.9379396\n",
      "Optimization restart 5/10, f = 27.523226242903075\n",
      "Optimization restart 6/10, f = 27.523226242921353\n",
      "Optimization restart 7/10, f = 80.8794963926665\n",
      "Optimization restart 8/10, f = 27.52322624298741\n",
      "Optimization restart 9/10, f = 27.52322624292007\n"
     ]
    },
    {
     "name": "stderr",
     "output_type": "stream",
     "text": [
      "reconstraining parameters GP_regression.Mat52.lengthscale\n",
      "reconstraining parameters GP_regression.Mat52.variance\n",
      "reconstraining parameters GP_regression.Gaussian_noise.variance\n"
     ]
    },
    {
     "name": "stdout",
     "output_type": "stream",
     "text": [
      "Optimization restart 10/10, f = 80.87949639266634\n",
      "Optimization restart 1/10, f = 38.42983568619215\n",
      "Optimization restart 2/10, f = 80.87949639266634\n",
      "Optimization restart 3/10, f = 80.87949531992544\n",
      "Optimization restart 4/10, f = 80.87949639266634\n",
      "Optimization restart 5/10, f = 80.87949639266634\n",
      "Optimization restart 6/10, f = 38.42983568621959\n",
      "Optimization restart 7/10, f = 80.87949639266733\n",
      "Optimization restart 8/10, f = 380.49815714432066\n",
      "Optimization restart 9/10, f = 1304846666.9950798\n",
      "Optimization restart 10/10, f = 38.42983568619203\n",
      "(5_w,11)-aCMA-ES (mu_w=3.4,w_1=42%) in dimension 12 (seed=615747, Tue Jul  6 17:11:52 2021)\n",
      "Iterat #Fevals   function value  axis ratio  sigma  min&max std  t[m:s]\n",
      "    1     11 -4.269392014554808e-01 1.0e+00 2.36e-01  2e-01  2e-01 0:00.0\n",
      "    2     22 -4.277065548219697e-01 1.2e+00 2.26e-01  2e-01  2e-01 0:00.0\n",
      "    3     33 -4.307953727117874e-01 1.2e+00 2.32e-01  2e-01  2e-01 0:00.1\n",
      "  100   1100 -4.473118420894945e-01 7.3e+00 5.70e-02  1e-02  6e-02 0:02.5\n",
      "  200   2200 -4.515646063987165e-01 3.2e+01 2.35e-01  2e-02  5e-01 0:05.0\n",
      "  300   3300 -4.518999659213083e-01 2.5e+01 1.04e-02  7e-04  1e-02 0:07.5\n",
      "  400   4400 -4.519006236296284e-01 2.9e+02 7.86e-04  4e-06  1e-03 0:10.1\n",
      "  500   5500 -4.519006269417814e-01 2.7e+03 1.12e-04  5e-08  1e-04 0:12.6\n",
      "NOTE (module=cma, iteration=558):  \n",
      "condition in coordinate system exceeded 1.0e+08, rescaled to 1.0e+00, \n",
      "condition changed from 1.3e+08 to 7.5e+00\n",
      "  568   6248 -4.519006270021632e-01 2.7e+00 2.64e-05  2e-09  3e-05 0:14.3\n"
     ]
    },
    {
     "name": "stderr",
     "output_type": "stream",
     "text": [
      "reconstraining parameters GP_regression.Mat52.lengthscale\n",
      "reconstraining parameters GP_regression.Mat52.variance\n",
      "reconstraining parameters GP_regression.Gaussian_noise.variance\n"
     ]
    },
    {
     "name": "stdout",
     "output_type": "stream",
     "text": [
      "termination on tolfun=1e-11 (Tue Jul  6 17:12:07 2021)\n",
      "final/bestever f-value = -4.519006e-01 -4.519006e-01\n",
      "incumbent solution: [1.09192070e-12 4.00000000e+00 6.00000000e+00 8.00000000e+00\n",
      " 6.26362624e-01 1.42332554e-10 4.68731827e-11 7.00841872e-11 ...]\n",
      "std deviations: [8.23721047e-07 3.37608235e-06 5.32351412e-06 7.86035190e-06\n",
      " 2.06749055e-09 3.61296773e-06 2.08722672e-06 3.70533577e-06 ...]\n",
      "Optimization restart 1/10, f = 28.031070493804357\n",
      "Optimization restart 2/10, f = 82.298434925871\n",
      "Optimization restart 3/10, f = 28.03107049348319\n",
      "Optimization restart 4/10, f = 387.17356341001044\n",
      "Optimization restart 5/10, f = 28.03107049347243\n",
      "Optimization restart 6/10, f = 28.03107049350281\n",
      "Optimization restart 7/10, f = 28.0310704934878\n",
      "Optimization restart 8/10, f = 2896822.349684845\n",
      "Optimization restart 9/10, f = 28.031070493478126\n"
     ]
    },
    {
     "name": "stderr",
     "output_type": "stream",
     "text": [
      "reconstraining parameters GP_regression.Mat52.lengthscale\n",
      "reconstraining parameters GP_regression.Mat52.variance\n",
      "reconstraining parameters GP_regression.Gaussian_noise.variance\n"
     ]
    },
    {
     "name": "stdout",
     "output_type": "stream",
     "text": [
      "Optimization restart 10/10, f = 28.031070493521153\n",
      "Optimization restart 1/10, f = 39.141288651240416\n",
      "Optimization restart 2/10, f = 39.14128865141484\n",
      "Optimization restart 3/10, f = 39.14128865123925\n",
      "Optimization restart 4/10, f = 387.17356341001044\n",
      "Optimization restart 5/10, f = 82.298434925871\n",
      "Optimization restart 6/10, f = 82.298434925871\n",
      "Optimization restart 7/10, f = 39.14128865124358\n",
      "Optimization restart 8/10, f = 39.14128865123938\n",
      "Optimization restart 9/10, f = 39.141288651263615\n",
      "Optimization restart 10/10, f = 39.141288651244125\n",
      "(5_w,11)-aCMA-ES (mu_w=3.4,w_1=42%) in dimension 12 (seed=663013, Tue Jul  6 17:12:10 2021)\n",
      "Iterat #Fevals   function value  axis ratio  sigma  min&max std  t[m:s]\n",
      "    1     11 -4.196897997989943e-01 1.0e+00 2.36e-01  2e-01  2e-01 0:00.0\n",
      "    2     22 -4.205536721182711e-01 1.2e+00 2.43e-01  2e-01  3e-01 0:00.0\n",
      "    3     33 -4.218243245086006e-01 1.3e+00 2.59e-01  2e-01  3e-01 0:00.0\n",
      "  100   1100 -4.530375248376269e-01 5.6e+00 1.36e-01  3e-02  1e-01 0:01.3\n",
      "  200   2200 -4.531832740417869e-01 1.3e+01 2.32e-03  2e-04  3e-03 0:02.6\n",
      "  287   3157 -4.531832779289885e-01 1.3e+01 1.72e-05  1e-06  1e-05 0:03.8\n"
     ]
    },
    {
     "name": "stderr",
     "output_type": "stream",
     "text": [
      "reconstraining parameters GP_regression.Mat52.lengthscale\n",
      "reconstraining parameters GP_regression.Mat52.variance\n",
      "reconstraining parameters GP_regression.Gaussian_noise.variance\n"
     ]
    },
    {
     "name": "stdout",
     "output_type": "stream",
     "text": [
      "termination on tolfun=1e-11 (Tue Jul  6 17:12:14 2021)\n",
      "final/bestever f-value = -4.531833e-01 -4.531833e-01\n",
      "incumbent solution: [2.00000000e+00 4.00000000e+00 6.00000000e+00 8.00000000e+00\n",
      " 1.00000000e+01 1.07227455e-12 1.10042771e-11 1.60000000e+01 ...]\n",
      "std deviations: [9.55069429e-07 1.99148877e-06 3.69306411e-06 4.18338096e-06\n",
      " 1.17875085e-05 1.81894758e-06 1.96033054e-06 5.85774830e-06 ...]\n",
      "Optimization restart 1/10, f = 28.65144304210962\n",
      "Optimization restart 2/10, f = 83.7173734590757\n",
      "Optimization restart 3/10, f = 28.651443042102784\n",
      "Optimization restart 4/10, f = 28.651443042102372\n",
      "Optimization restart 5/10, f = 28.65144304212476\n",
      "Optimization restart 6/10, f = 28.651443042102237\n",
      "Optimization restart 7/10, f = 28.651443042176762\n",
      "Optimization restart 8/10, f = 28.651443042144482\n",
      "Optimization restart 9/10, f = 83.7173734590757\n"
     ]
    },
    {
     "name": "stderr",
     "output_type": "stream",
     "text": [
      "reconstraining parameters GP_regression.Mat52.lengthscale\n",
      "reconstraining parameters GP_regression.Mat52.variance\n",
      "reconstraining parameters GP_regression.Gaussian_noise.variance\n"
     ]
    },
    {
     "name": "stdout",
     "output_type": "stream",
     "text": [
      "Optimization restart 10/10, f = 28.651443042136922\n",
      "Optimization restart 1/10, f = 40.052364688811465\n",
      "Optimization restart 2/10, f = 40.052364688811295\n",
      "Optimization restart 3/10, f = 83.71737345907621\n",
      "Optimization restart 4/10, f = 40.05236468881219\n",
      "Optimization restart 5/10, f = 2946767.562610446\n",
      "Optimization restart 6/10, f = 40.0523646888155\n",
      "Optimization restart 7/10, f = 40.05236468881149\n",
      "Optimization restart 8/10, f = 40.052364688816795\n",
      "Optimization restart 9/10, f = 393.8489696757003\n",
      "Optimization restart 10/10, f = 40.05236468881168\n",
      "(5_w,11)-aCMA-ES (mu_w=3.4,w_1=42%) in dimension 12 (seed=685024, Tue Jul  6 17:12:17 2021)\n",
      "Iterat #Fevals   function value  axis ratio  sigma  min&max std  t[m:s]\n",
      "    1     11 -4.321512639677442e-01 1.0e+00 2.58e-01  3e-01  3e-01 0:00.0\n",
      "    2     22 -4.327271351029894e-01 1.2e+00 2.73e-01  3e-01  3e-01 0:00.0\n",
      "    3     33 -4.329561186588866e-01 1.2e+00 2.77e-01  3e-01  3e-01 0:00.1\n",
      "  100   1100 -4.998077409252877e-01 7.1e+00 3.27e-01  8e-02  4e-01 0:02.6\n",
      "  200   2200 -5.025049901146141e-01 2.0e+01 7.30e-02  9e-03  9e-02 0:05.2\n",
      "  300   3300 -5.025952582784301e-01 1.2e+02 2.20e-02  2e-03  2e-02 0:07.7\n",
      "  400   4400 -5.025965941000576e-01 1.2e+03 2.14e-03  1e-04  2e-03 0:09.0\n",
      "  500   5500 -5.025967662430444e-01 3.6e+03 1.67e-03  7e-05  1e-03 0:10.3\n",
      "  600   6600 -5.025967926046024e-01 7.3e+03 1.04e-03  3e-05  4e-04 0:11.5\n",
      "  700   7700 -5.025967991876430e-01 1.9e+04 7.74e-04  2e-05  3e-04 0:12.8\n",
      "  800   8800 -5.025968014863094e-01 2.4e+04 1.01e-03  2e-05  2e-04 0:14.1\n",
      "  900   9900 -5.025968028172172e-01 4.2e+04 4.25e-04  5e-06  8e-05 0:15.4\n",
      " 1000  11000 -5.025968032884799e-01 5.4e+04 1.34e-03  9e-06  2e-04 0:16.8\n",
      "Iterat #Fevals   function value  axis ratio  sigma  min&max std  t[m:s]\n",
      " 1100  12100 -5.025968035147665e-01 9.5e+04 6.31e-04  3e-06  6e-05 0:19.5\n",
      " 1200  13200 -5.025968036640227e-01 1.3e+05 1.04e-03  4e-06  7e-05 0:22.1\n",
      " 1252  13772 -5.025968036788270e-01 2.2e+05 6.11e-04  2e-06  3e-05 0:23.4\n"
     ]
    },
    {
     "name": "stderr",
     "output_type": "stream",
     "text": [
      "reconstraining parameters GP_regression.Mat52.lengthscale\n",
      "reconstraining parameters GP_regression.Mat52.variance\n",
      "reconstraining parameters GP_regression.Gaussian_noise.variance\n"
     ]
    },
    {
     "name": "stdout",
     "output_type": "stream",
     "text": [
      "termination on tolfun=1e-11 (Tue Jul  6 17:12:43 2021)\n",
      "final/bestever f-value = -5.025968e-01 -5.025968e-01\n",
      "incumbent solution: [ 0.72858148  1.29673275  3.54262325  4.23382025  8.13729479 11.99999998\n",
      " 12.52670652 16.         ...]\n",
      "std deviations: [2.14775840e-06 3.99784475e-06 5.21050981e-06 8.78568568e-06\n",
      " 9.65095052e-06 2.25333052e-05 1.16374672e-05 1.25843947e-05 ...]\n",
      "Optimization restart 1/10, f = 26.917254355776418\n",
      "Optimization restart 2/10, f = 26.91725435577257\n",
      "Optimization restart 3/10, f = 26.917254355746138\n",
      "Optimization restart 4/10, f = 26.917254355772787\n",
      "Optimization restart 5/10, f = 85.1363119922807\n",
      "Optimization restart 6/10, f = 26.917254355756064\n",
      "Optimization restart 7/10, f = 26.917254355774638\n",
      "Optimization restart 8/10, f = 26.91725435576577\n",
      "Optimization restart 9/10, f = 26.917254355753755\n"
     ]
    },
    {
     "name": "stderr",
     "output_type": "stream",
     "text": [
      "reconstraining parameters GP_regression.Mat52.lengthscale\n",
      "reconstraining parameters GP_regression.Mat52.variance\n",
      "reconstraining parameters GP_regression.Gaussian_noise.variance\n"
     ]
    },
    {
     "name": "stdout",
     "output_type": "stream",
     "text": [
      "Optimization restart 10/10, f = 72.25014594513452\n",
      "Optimization restart 1/10, f = 39.48707353077859\n",
      "Optimization restart 2/10, f = 39.48707353078001\n",
      "Optimization restart 3/10, f = 39.48707353077833\n",
      "Optimization restart 4/10, f = 39.48707353077839\n",
      "Optimization restart 5/10, f = 400.5243759413901\n",
      "Optimization restart 6/10, f = 85.13631199228035\n",
      "Optimization restart 7/10, f = 39.48707353080555\n",
      "Optimization restart 8/10, f = 39.48707353077858\n",
      "Optimization restart 9/10, f = 39.48707353077854\n",
      "Optimization restart 10/10, f = 39.487073530788976\n",
      "(5_w,11)-aCMA-ES (mu_w=3.4,w_1=42%) in dimension 12 (seed=692447, Tue Jul  6 17:12:46 2021)\n",
      "Iterat #Fevals   function value  axis ratio  sigma  min&max std  t[m:s]\n",
      "    1     11 -4.530940795509687e-01 1.0e+00 2.40e-01  2e-01  2e-01 0:00.0\n",
      "    2     22 -4.565816962975743e-01 1.2e+00 2.38e-01  2e-01  2e-01 0:00.0\n",
      "    3     33 -4.585668163325683e-01 1.2e+00 2.53e-01  2e-01  3e-01 0:00.1\n",
      "  100   1100 -5.038449106398770e-01 9.5e+00 1.66e-01  3e-02  3e-01 0:02.5\n",
      "  200   2200 -5.043492722828458e-01 9.1e+01 2.42e-02  3e-03  3e-02 0:05.0\n",
      "  300   3300 -5.043572718455723e-01 8.4e+02 2.44e-03  2e-04  3e-03 0:07.5\n",
      "  400   4400 -5.043573497872915e-01 1.1e+04 2.02e-04  2e-05  3e-04 0:10.0\n",
      "  500   5500 -5.043573500881091e-01 1.4e+05 5.66e-05  3e-06  6e-05 0:12.5\n",
      "  526   5786 -5.043573500908822e-01 2.5e+05 1.99e-05  9e-07  2e-05 0:13.2\n",
      "termination on tolfun=1e-11 (Tue Jul  6 17:13:00 2021)\n",
      "final/bestever f-value = -5.043574e-01 -5.043574e-01\n",
      "incumbent solution: [ 0.82153383  1.24983569  4.02870682  4.11454942  8.51762423 12.\n",
      " 12.01183292 16.         ...]\n",
      "std deviations: [9.29067248e-07 2.28410644e-06 2.05484835e-06 3.15642092e-06\n",
      " 5.73099129e-06 9.81002690e-06 6.57288260e-06 6.52856797e-06 ...]\n"
     ]
    }
   ],
   "source": [
    "opt.optimise(40)"
   ]
  },
  {
   "cell_type": "code",
   "execution_count": 22,
   "metadata": {},
   "outputs": [
    {
     "data": {
      "text/plain": [
       "<matplotlib.legend.Legend at 0x7f984d790af0>"
      ]
     },
     "execution_count": 22,
     "metadata": {},
     "output_type": "execute_result"
    },
    {
     "data": {
      "image/png": "[encoded data removed]",
      "text/plain": [
       "<Figure size 576x576 with 1 Axes>"
      ]
     },
     "metadata": {
      "needs_background": "light"
     },
     "output_type": "display_data"
    }
   ],
   "source": [
    "fig11 = plt.figure(figsize=[8, 8])\n",
    "fig11_ax = fig11.gca()\n",
    "\n",
    "\n",
    "fig11_ax.scatter(*np.vstack(opt.target_history[0]).T, c=\"magenta\", label=\"intitial targets\", alpha=0.4, s=150)\n",
    "fig11_ax.scatter(*np.vstack(opt.target_history[1:]).T, c=\"cyan\", label=\"intitial targets\", alpha=0.4, s=150)\n",
    "fig11_ax.plot(*y[np.argsort(y[:,0])].T, c=\"k\", label=\"Pareto front\")\n",
    "fig11_ax.plot(*np.vstack((np.zeros_like(dmv), dmv*np.max([np.linalg.norm(yi) for yi in y]))).T, c=\"C1\", linestyle=\"--\")\n",
    "\n",
    "fig11_ax.scatter(*opt.targets.T, c=\"C2\", label=\"current targets\", alpha=0.8, s=150)\n",
    "fig11_ax.scatter(*opt.d.T, c=\"C0\")\n",
    "fig11_ax.scatter(*opt.p.T, c=\"C3\")\n",
    "\n",
    "fig11_ax.legend()"
   ]
  },
  {
   "cell_type": "code",
   "execution_count": 23,
   "metadata": {},
   "outputs": [
    {
     "data": {
      "text/plain": [
       "[<matplotlib.lines.Line2D at 0x7f984de015b0>]"
      ]
     },
     "execution_count": 23,
     "metadata": {},
     "output_type": "execute_result"
    },
    {
     "data": {
      "image/png": "[encoded data removed]",
      "text/plain": [
       "<Figure size 432x288 with 1 Axes>"
      ]
     },
     "metadata": {
      "needs_background": "light"
     },
     "output_type": "display_data"
    }
   ],
   "source": [
    "plt.figure()\n",
    "plt.plot(opt.dm_times)"
   ]
  },
  {
   "cell_type": "code",
   "execution_count": null,
   "metadata": {},
   "outputs": [],
   "source": []
  }
 ],
 "metadata": {
  "kernelspec": {
   "display_name": "testsuite",
   "language": "python",
   "name": "testsuite"
  },
  "language_info": {
   "codemirror_mode": {
    "name": "ipython",
    "version": 3
   },
   "file_extension": ".py",
   "mimetype": "text/x-python",
   "name": "python",
   "nbconvert_exporter": "python",
   "pygments_lexer": "ipython3",
   "version": "3.8.3"
  }
 },
 "nbformat": 4,
 "nbformat_minor": 4
}
