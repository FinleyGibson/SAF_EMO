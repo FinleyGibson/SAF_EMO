{
 "cells": [
  {
   "cell_type": "code",
   "execution_count": 225,
   "metadata": {},
   "outputs": [],
   "source": [
    "import sys\n",
    "import rootpath\n",
    "sys.path.append(rootpath.detect())\n",
    "\n",
    "import numpy as np\n",
    "import matplotlib.pyplot as plt\n",
    "from testsuite.utilities import Pareto_split\n",
    "\n",
    "from itertools import combinations as Combinations\n",
    "from numpy.linalg import svd\n",
    "\n",
    "\n",
    "import matplotlib\n",
    "\n",
    "matplotlib.rcParams['figure.figsize'] = (8, 8)"
   ]
  },
  {
   "cell_type": "code",
   "execution_count": 226,
   "metadata": {},
   "outputs": [],
   "source": [
    "def _get_extrusions(pair):\n",
    "    if pair.ndim <2:\n",
    "        pair = pair.reshape(1, -1)\n",
    "    n_points, n_dims = pair.shape\n",
    "    return [np.vstack((*c, np.zeros_like(c[0]))) for c in Combinations(pair, n_dims - 1)]\n",
    "\n",
    "def point_vector_distances(points, vector):\n",
    "    \"\"\"\n",
    "    calculates the distance of all points in points to the nearest\n",
    "    point in vector\n",
    "    \"\"\"\n",
    "    # argument format checks\n",
    "    if points.ndim != 2:\n",
    "        # ensures single point passed is of shape (1, n) rather than (n,)\n",
    "        points = points.reshape(1, -1)\n",
    "    assert points.shape[1] == vector.shape[1]\n",
    "\n",
    "    points_hat = (points.T / np.linalg.norm(points, axis=1)).T\n",
    "    len_vector = np.linalg.norm(vector)\n",
    "    vector_hat = vector / len_vector\n",
    "    cs = vector_hat @ points_hat.T\n",
    "    return np.sqrt(1 - cs * cs) * len_vector\n",
    "\n",
    "def _side(points, a):\n",
    "    a = a.reshape(-1)\n",
    "\n",
    "    plane = np.vstack((np.zeros_like(points[0]), points))\n",
    "    e = (plane- plane.mean(axis=0))\n",
    "    U, s, vt = svd(e)\n",
    "\n",
    "    # check the span of the plane is only d-1\n",
    "    np.testing.assert_almost_equal(s[-1], 0)\n",
    "\n",
    "    # vector normal to the plane\n",
    "    normal_vector = vt[-1]\n",
    "\n",
    "    sign_a = np.dot(normal_vector, a.T)>0.\n",
    "\n",
    "    return sign_a >0.\n",
    "\n",
    "\n",
    "def _plane_side_comparison(plane, a, b):\n",
    "    \"\"\"\n",
    "    calculates whether points a and b are on the same \"side\" of plane\n",
    "\n",
    "    :param plane: np.ndarray(d-1, d)\n",
    "           plane formed of d-1 points, one of which is the origin\n",
    "    :param a: np.array(1, d)\n",
    "           first point to compare\n",
    "    :param b: np.array(1, d)\n",
    "           second point to compare\n",
    "\n",
    "    :return: bool\n",
    "             True if a and b lie on the same side of plane False otherwise.\n",
    "    \"\"\"\n",
    "    a = a.reshape(-1)\n",
    "    b = b.reshape(-1)\n",
    "\n",
    "    e = (plane- plane.mean(axis=0))\n",
    "    U, s, vt = svd(e)\n",
    "\n",
    "    # check the span of the plane is only d-1\n",
    "    np.testing.assert_almost_equal(s[-1], 0)\n",
    "\n",
    "    # vector normal to the plane\n",
    "    normal_vector = vt[-1]\n",
    "\n",
    "    sign_a = np.dot(normal_vector, a.T)>0.\n",
    "    sign_b = np.dot(normal_vector, b.T)>0.\n",
    "\n",
    "    # check whether they are the same side\n",
    "    return sign_a == sign_b\n",
    "\n",
    "def _find_intersections(combinations, dmv):\n",
    "    # find which combinations in combos are intersected by dmv\n",
    "    intersections = np.ones(np.shape(combinations)[0], dtype=bool)\n",
    "    for i, comb in enumerate(combinations):\n",
    "        midpoint = np.mean(comb, axis=0)\n",
    "\n",
    "        # get the cones formed from the origin and combination of points\n",
    "        extrusions = _get_extrusions(np.vstack(comb))\n",
    "\n",
    "        # find the extrusions for which the mid-point and dmv vector are on\n",
    "        # the same side\n",
    "        for j, extrusion in enumerate(extrusions):\n",
    "            if not _plane_side_comparison(extrusion, dmv, midpoint):\n",
    "                intersections[i] = False\n",
    "    return intersections\n",
    "\n",
    "def _dm_choice(points, dmv):\n",
    "    \"\"\"\n",
    "    chooses set of d points, the surface between which is intersected by\n",
    "    the ray dmv, with the smallest sum of squared distances between each\n",
    "    point in the set and its nearest point on the vector dmv\n",
    "\n",
    "    :param points: np.ndarray (m, d)\n",
    "           Array of m d-dimensional points.   \n",
    "    :param dmv: np.ndarray(d,)\n",
    "           vector representing the decision makers ray of preference\n",
    "\n",
    "    :return: np.array(d, d) OR np.array(1, d)\n",
    "           chosen set of points which enclose dmv, or single closest point\n",
    "           if no set encloses dmv\n",
    "           \n",
    "    \"\"\"\n",
    "    p, d = Pareto_split(points)\n",
    "    \n",
    "#     combinations = np.array([np.vstack((p[-1], c)) for c in Combinations(p, p.shape[1]-1)])\n",
    "    combinations = np.array(list(Combinations(p, p.shape[1])))\n",
    "\n",
    "    intersections = _find_intersections(combinations, dmv)\n",
    "\n",
    "    # choose the combination with the smallest sum of squared disitances to\n",
    "    # the DM's preference vector.\n",
    "    intersecting_combos = combinations[intersections]\n",
    "    try:\n",
    "        choice_ind = np.argmin([sum_point_vector_distances(comb, dmv)\n",
    "                                for comb in intersecting_combos])\n",
    "        return intersecting_combos[choice_ind]\n",
    "    except ValueError:\n",
    "        # if no pair is intersected by the dmv return the nearest point\n",
    "        return points[np.argmin(point_vector_distances(points, dmv))]\n",
    "\n",
    "def sum_point_vector_distances(points, vector):\n",
    "    \"\"\"\n",
    "    sum of squared distances between points and vector\n",
    "    \"\"\"\n",
    "    return np.sum(point_vector_distances(points, vector))"
   ]
  },
  {
   "cell_type": "code",
   "execution_count": 227,
   "metadata": {},
   "outputs": [
    {
     "data": {
      "text/plain": [
       "(40, 2)"
      ]
     },
     "execution_count": 227,
     "metadata": {},
     "output_type": "execute_result"
    }
   ],
   "source": [
    "np.random.seed(4)\n",
    "x_2d = abs(np.random.multivariate_normal(np.zeros(2), np.diag(np.ones(2)*5), 40))\n",
    "x_2d = np.abs((x_2d.T/np.linalg.norm(x_2d, axis=1)).T + np.random.randn(*x_2d.shape)/5)\n",
    "x_2d.shape"
   ]
  },
  {
   "cell_type": "code",
   "execution_count": 228,
   "metadata": {},
   "outputs": [],
   "source": [
    "dmv = np.array([2.5, 1]).reshape(1, -1)\n",
    "dmv = dmv/np.linalg.norm(dmv)"
   ]
  },
  {
   "cell_type": "code",
   "execution_count": 229,
   "metadata": {},
   "outputs": [
    {
     "data": {
      "text/plain": [
       "[<matplotlib.lines.Line2D at 0x7f4b33050e20>]"
      ]
     },
     "execution_count": 229,
     "metadata": {},
     "output_type": "execute_result"
    },
    {
     "data": {
      "image/png": "[encoded data removed]",
      "text/plain": [
       "<Figure size 576x576 with 1 Axes>"
      ]
     },
     "metadata": {
      "needs_background": "light"
     },
     "output_type": "display_data"
    }
   ],
   "source": [
    "fig = plt.figure()\n",
    "ax = fig.gca()\n",
    "\n",
    "p2d, d2d = Pareto_split(x_2d)\n",
    "ax.scatter(*d2d.T, c=\"C0\")\n",
    "ax.scatter(*p2d.T, c=\"C1\")\n",
    "\n",
    "magnitude = np.max(np.linalg.norm(x_2d, axis=1))\n",
    "ax.plot(*np.vstack((np.zeros_like(dmv), dmv*magnitude)).T, c=\"C1\", linestyle=\"--\")"
   ]
  },
  {
   "cell_type": "code",
   "execution_count": 230,
   "metadata": {},
   "outputs": [
    {
     "data": {
      "text/plain": [
       "(2, 2)"
      ]
     },
     "execution_count": 230,
     "metadata": {},
     "output_type": "execute_result"
    }
   ],
   "source": [
    "best = _dm_choice(x_2d, dmv)\n",
    "best.shape"
   ]
  },
  {
   "cell_type": "code",
   "execution_count": 231,
   "metadata": {},
   "outputs": [
    {
     "data": {
      "image/png": "[encoded data removed]",
      "text/plain": [
       "<Figure size 576x576 with 1 Axes>"
      ]
     },
     "execution_count": 231,
     "metadata": {},
     "output_type": "execute_result"
    }
   ],
   "source": [
    "ax.scatter(*best.T, c=\"C3\", s=150, alpha=0.2)\n",
    "fig"
   ]
  },
  {
   "cell_type": "code",
   "execution_count": 232,
   "metadata": {},
   "outputs": [
    {
     "data": {
      "text/plain": [
       "(1, 2)"
      ]
     },
     "execution_count": 232,
     "metadata": {},
     "output_type": "execute_result"
    }
   ],
   "source": [
    "new_point = (best[1]*0.9+np.random.randn(*best[1].shape)/15).reshape(1, -1)\n",
    "new_point.shape"
   ]
  },
  {
   "cell_type": "code",
   "execution_count": 233,
   "metadata": {},
   "outputs": [
    {
     "data": {
      "image/png": "[encoded data removed]",
      "text/plain": [
       "<Figure size 576x576 with 1 Axes>"
      ]
     },
     "execution_count": 233,
     "metadata": {},
     "output_type": "execute_result"
    }
   ],
   "source": [
    "ax.scatter(*new_point.T, c=\"C2\")\n",
    "fig"
   ]
  },
  {
   "cell_type": "code",
   "execution_count": 234,
   "metadata": {},
   "outputs": [
    {
     "data": {
      "text/plain": [
       "0.1652320680439569"
      ]
     },
     "execution_count": 234,
     "metadata": {},
     "output_type": "execute_result"
    }
   ],
   "source": [
    "old_best = sum_point_vector_distances(best, dmv)\n",
    "old_best"
   ]
  },
  {
   "cell_type": "code",
   "execution_count": 235,
   "metadata": {},
   "outputs": [],
   "source": [
    "new_combinations = [np.vstack((new_point, c)) for c in Combinations(p2d, 1)]\n",
    "new_combinations.append(best)"
   ]
  },
  {
   "cell_type": "code",
   "execution_count": 236,
   "metadata": {},
   "outputs": [
    {
     "data": {
      "text/plain": [
       "array([False, False,  True, False,  True,  True, False,  True])"
      ]
     },
     "execution_count": 236,
     "metadata": {},
     "output_type": "execute_result"
    }
   ],
   "source": [
    "new_intersections = _find_intersections(new_combinations, dmv)\n",
    "new_intersections"
   ]
  },
  {
   "cell_type": "code",
   "execution_count": 237,
   "metadata": {},
   "outputs": [
    {
     "data": {
      "text/plain": [
       "(5, 2, 2)"
      ]
     },
     "execution_count": 237,
     "metadata": {},
     "output_type": "execute_result"
    }
   ],
   "source": [
    "new_combs = np.array(new_combinations)[new_intersections]\n",
    "new_combs = np.vstack((new_combs, best.reshape(1,*best.shape)))\n",
    "new_combs.shape"
   ]
  },
  {
   "cell_type": "code",
   "execution_count": 238,
   "metadata": {},
   "outputs": [
    {
     "data": {
      "image/png": "[encoded data removed]",
      "text/plain": [
       "<Figure size 576x576 with 1 Axes>"
      ]
     },
     "execution_count": 238,
     "metadata": {},
     "output_type": "execute_result"
    }
   ],
   "source": [
    "for i, a in enumerate(new_combs):\n",
    "    ax.plot(*a.T, c=\"C{}\".format(i))\n",
    "fig"
   ]
  },
  {
   "cell_type": "code",
   "execution_count": 239,
   "metadata": {},
   "outputs": [],
   "source": [
    "new_best = new_combs[np.argmin([sum_point_vector_distances(nc, dmv) for nc in new_combs])]"
   ]
  },
  {
   "cell_type": "code",
   "execution_count": 240,
   "metadata": {},
   "outputs": [
    {
     "data": {
      "text/plain": [
       "[<matplotlib.lines.Line2D at 0x7f4b330142e0>]"
      ]
     },
     "execution_count": 240,
     "metadata": {},
     "output_type": "execute_result"
    },
    {
     "data": {
      "image/png": "[encoded data removed]",
      "text/plain": [
       "<Figure size 576x576 with 1 Axes>"
      ]
     },
     "metadata": {
      "needs_background": "light"
     },
     "output_type": "display_data"
    }
   ],
   "source": [
    "fig = plt.figure()\n",
    "ax = fig.gca()\n",
    "\n",
    "p2d, d2d = Pareto_split(x_2d)\n",
    "ax.scatter(*d2d.T, c=\"C0\")\n",
    "ax.scatter(*p2d.T, c=\"C1\")\n",
    "\n",
    "magnitude = np.max(np.linalg.norm(x_2d, axis=1))\n",
    "ax.plot(*np.vstack((np.zeros_like(dmv), dmv*magnitude)).T, c=\"C1\", linestyle=\"--\")\n",
    "ax.plot(*new_best.T, c=\"C2\", marker=\"o\")"
   ]
  },
  {
   "cell_type": "code",
   "execution_count": 111,
   "metadata": {},
   "outputs": [
    {
     "data": {
      "text/plain": [
       "array([[0.34464399, 0.4499676 ],\n",
       "       [0.6214372 , 0.37011784],\n",
       "       [0.80909845, 0.11982476],\n",
       "       [0.09271592, 0.58023627],\n",
       "       [0.7261286 , 0.28271975],\n",
       "       [0.81944047, 0.08006334],\n",
       "       [0.03353237, 0.81758679]])"
      ]
     },
     "execution_count": 111,
     "metadata": {},
     "output_type": "execute_result"
    }
   ],
   "source": [
    "p2d"
   ]
  },
  {
   "cell_type": "code",
   "execution_count": 156,
   "metadata": {},
   "outputs": [],
   "source": [
    "dmv_sides = {i:np.vstack(c) for i, c  in enumerate(Combinations(p2d, 2))}"
   ]
  },
  {
   "cell_type": "code",
   "execution_count": 196,
   "metadata": {},
   "outputs": [
    {
     "data": {
      "text/plain": [
       "{(0, 1, 2): ('a', 'b', 'c'),\n",
       " (0, 1, 3): ('a', 'b', 'd'),\n",
       " (0, 1, 4): ('a', 'b', 'e'),\n",
       " (0, 1, 5): ('a', 'b', 'f'),\n",
       " (0, 1, 6): ('a', 'b', 'g'),\n",
       " (0, 2, 3): ('a', 'c', 'd'),\n",
       " (0, 2, 4): ('a', 'c', 'e'),\n",
       " (0, 2, 5): ('a', 'c', 'f'),\n",
       " (0, 2, 6): ('a', 'c', 'g'),\n",
       " (0, 3, 4): ('a', 'd', 'e'),\n",
       " (0, 3, 5): ('a', 'd', 'f'),\n",
       " (0, 3, 6): ('a', 'd', 'g'),\n",
       " (0, 4, 5): ('a', 'e', 'f'),\n",
       " (0, 4, 6): ('a', 'e', 'g'),\n",
       " (0, 5, 6): ('a', 'f', 'g'),\n",
       " (1, 2, 3): ('b', 'c', 'd'),\n",
       " (1, 2, 4): ('b', 'c', 'e'),\n",
       " (1, 2, 5): ('b', 'c', 'f'),\n",
       " (1, 2, 6): ('b', 'c', 'g'),\n",
       " (1, 3, 4): ('b', 'd', 'e'),\n",
       " (1, 3, 5): ('b', 'd', 'f'),\n",
       " (1, 3, 6): ('b', 'd', 'g'),\n",
       " (1, 4, 5): ('b', 'e', 'f'),\n",
       " (1, 4, 6): ('b', 'e', 'g'),\n",
       " (1, 5, 6): ('b', 'f', 'g'),\n",
       " (2, 3, 4): ('c', 'd', 'e'),\n",
       " (2, 3, 5): ('c', 'd', 'f'),\n",
       " (2, 3, 6): ('c', 'd', 'g'),\n",
       " (2, 4, 5): ('c', 'e', 'f'),\n",
       " (2, 4, 6): ('c', 'e', 'g'),\n",
       " (2, 5, 6): ('c', 'f', 'g'),\n",
       " (3, 4, 5): ('d', 'e', 'f'),\n",
       " (3, 4, 6): ('d', 'e', 'g'),\n",
       " (3, 5, 6): ('d', 'f', 'g'),\n",
       " (4, 5, 6): ('e', 'f', 'g')}"
      ]
     },
     "execution_count": 196,
     "metadata": {},
     "output_type": "execute_result"
    }
   ],
   "source": [
    "import numpy as np\n",
    "from itertools import combinations\n",
    "\n",
    "test_points = \"abcdefg\" \n",
    "n_combinations = 3\n",
    "\n",
    "ans = {tuple([combi[0] for combi in comb]): tuple([combi[1] for combi in comb]) for comb in combinations(enumerate(test_points), n_combinations)}\n",
    "ans"
   ]
  },
  {
   "cell_type": "code",
   "execution_count": 219,
   "metadata": {},
   "outputs": [],
   "source": [
    "from itertools import combinations \n",
    "\n",
    "alpha = \"abcde\" \n",
    "n_combinations = 3\n",
    "\n",
    "ans = {tuple([c_i[0] for c_i in comb]): tuple([c_i[1] for c_i in comb]) \n",
    "       for comb in combinations(enumerate(alpha), n_combinations)}"
   ]
  },
  {
   "cell_type": "code",
   "execution_count": 221,
   "metadata": {},
   "outputs": [
    {
     "name": "stdout",
     "output_type": "stream",
     "text": [
      "9.92 µs ± 285 ns per loop (mean ± std. dev. of 7 runs, 100000 loops each)\n"
     ]
    }
   ],
   "source": [
    "%%timeit\n",
    "ans = {tuple([c_i[0] for c_i in comb]): tuple([c_i[1] for c_i in comb]) \n",
    "       for comb in combinations(enumerate(alpha), n_combinations)}"
   ]
  },
  {
   "cell_type": "code",
   "execution_count": 223,
   "metadata": {},
   "outputs": [
    {
     "name": "stdout",
     "output_type": "stream",
     "text": [
      "6.66 µs ± 270 ns per loop (mean ± std. dev. of 7 runs, 100000 loops each)\n"
     ]
    }
   ],
   "source": [
    "%%timeit\n",
    "D = {(k:=list(zip(*comb)))[0]:k[1] for comb in combinations(enumerate(alpha), n_combinations)}"
   ]
  },
  {
   "cell_type": "code",
   "execution_count": 224,
   "metadata": {},
   "outputs": [
    {
     "name": "stdout",
     "output_type": "stream",
     "text": [
      "5.69 µs ± 97.6 ns per loop (mean ± std. dev. of 7 runs, 100000 loops each)\n"
     ]
    }
   ],
   "source": [
    "%%timeit\n",
    "ans = {key: tuple([alpha[i] for i in key]) for key in combinations(range(len(alpha)), n)}"
   ]
  },
  {
   "cell_type": "code",
   "execution_count": null,
   "metadata": {},
   "outputs": [],
   "source": [
    "np.linalg.svd"
   ]
  }
 ],
 "metadata": {
  "kernelspec": {
   "display_name": "testsuite",
   "language": "python",
   "name": "testsuite"
  },
  "language_info": {
   "codemirror_mode": {
    "name": "ipython",
    "version": 3
   },
   "file_extension": ".py",
   "mimetype": "text/x-python",
   "name": "python",
   "nbconvert_exporter": "python",
   "pygments_lexer": "ipython3",
   "version": "3.8.3"
  }
 },
 "nbformat": 4,
 "nbformat_minor": 4
}
