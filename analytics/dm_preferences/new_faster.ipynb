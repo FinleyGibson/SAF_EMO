{
 "cells": [
  {
   "cell_type": "code",
   "execution_count": 186,
   "metadata": {},
   "outputs": [],
   "source": [
    "import sys\n",
    "import rootpath\n",
    "sys.path.append(rootpath.detect())\n",
    "\n",
    "import numpy as np\n",
    "import matplotlib.pyplot as plt\n",
    "from mpl_toolkits.mplot3d.art3d import Poly3DCollection\n",
    "\n",
    "from testsuite.utilities import Pareto_split\n",
    "\n",
    "from itertools import combinations"
   ]
  },
  {
   "cell_type": "code",
   "execution_count": 3,
   "metadata": {},
   "outputs": [],
   "source": [
    "def same_side(V, a, b):\n",
    "    \"\"\"Test whether points are on the same side of a plane.\n",
    "    \n",
    "    The plane is defined by the points forming the _rows_ of V and the origin.\n",
    "    \n",
    "    Parameters\n",
    "    ----------\n",
    "    V : ndarray of shape (d-1, d)\n",
    "        d-1 points that together with the origin define a plane \n",
    "        in d dimensions\n",
    "\n",
    "    a : ndarray of shape (m,d)\n",
    "    b : ndarray of shape (m,d)\n",
    "        a[i] and b[i] are compared, for i = 1,...,m\n",
    "        a and b must be 2d arrays\n",
    "        \n",
    "        \n",
    "    Returns\n",
    "    -------\n",
    "    same : Bool ndarray of shape (m,)\n",
    "        same[i] is True iff a[i] and b[i] are on the same side of the plane. \n",
    "    \"\"\"\n",
    "    assert len(a.shape) == 2 and len(b.shape) == 2\n",
    "    assert a.shape == b.shape\n",
    "    m, d = a.shape\n",
    "    assert V.shape == (d-1, d)\n",
    "    \n",
    "    # Get the normal to the plane by via the SVD because the plane \n",
    "    # passes through the origin, so its distance to the origin is zero\n",
    "    # The normal to the plane is the null space of the matrix of the points\n",
    "    # defining the plane, including the orgin.\n",
    "    \n",
    "    A = np.vstack((V, np.zeros(d)))\n",
    "    U, s, Vt = np.linalg.svd(A.T)\n",
    "    assert s[-1] < 1e-10\n",
    "    n = np.squeeze(U[:,-1])\n",
    "    \n",
    "    # They are on the same side if dot product with normal has the same sign\n",
    "    same = np.sign(a@n) == np.sign(b@n)\n",
    "    return same"
   ]
  },
  {
   "cell_type": "code",
   "execution_count": 379,
   "metadata": {},
   "outputs": [],
   "source": [
    "def ssd_points_to_vector(V, points):\n",
    "    assert points.shape[1] == V.shape[0]\n",
    "    \n",
    "    lenv = np.linalg.norm(points, axis=1)\n",
    "    cs = vector_point_distances(V, points)\n",
    "    S =  np.sqrt(1-cs*cs)*lenv\n",
    "    return S.sum()\n",
    "\n",
    "def vector_point_distances(V, points):\n",
    "    assert points.shape[1] == V.shape[0]\n",
    "    Vhat = V/np.linalg.norm(V)\n",
    "    lenp = np.linalg.norm(points, axis=1)\n",
    "    phat = (points.T/lenp).T\n",
    "    cs = phat @ Vhat.T\n",
    "    return cs"
   ]
  },
  {
   "cell_type": "code",
   "execution_count": 190,
   "metadata": {},
   "outputs": [],
   "source": [
    "def in_cones(P, x):\n",
    "    \"\"\"\n",
    "    Determine which cones formed from the origin and points in P\n",
    "    enclose the vector x\n",
    "    \n",
    "    Parameters\n",
    "    ----------\n",
    "    \n",
    "    P : ndarray, shape (m, d)\n",
    "        Array of m d-dimensional points.  \n",
    "        Cones are formed from combinations of d of these and the origin.\n",
    "        \n",
    "    x : ndarray, shape (d,)\n",
    "        The ray to be enclosed. \n",
    "        \n",
    "    Returns\n",
    "    -------\n",
    "    \n",
    "    cones : list of d-dimensional tuples.\n",
    "        Each tuple is the indices of the rows of P which, \n",
    "        with the origin, define the cone enclosing x.\n",
    "        cones is empty if no combination of the points encloses x.\n",
    "    \"\"\"\n",
    "    m, d = P.shape\n",
    "    assert len(x.shape) == 1 and x.shape[0] == d\n",
    "    \n",
    "    X = np.tile(x, (m-(d-1), 1))  # Replicate x for same_side\n",
    "    \n",
    "    # For all possible d-dimensional planes defined by P and the origin, find \n",
    "    # whether x is on the same side as each of the remaining points in P. \n",
    "    # Store these in a dictionary whose key is a d-tuple of the point (first\n",
    "    # element)and the indices of the points defining the plane.\n",
    "    side = {}\n",
    "    allpoints = set(range(m))\n",
    "    for plane in combinations(allpoints, d-1):\n",
    "        Iplane = list(plane)\n",
    "        pts = allpoints.difference(set(plane))\n",
    "        Ipts = list(pts)\n",
    "        S = same_side(P[Iplane], P[Ipts], X)\n",
    "        \n",
    "        for p, same in zip(Ipts, S):\n",
    "            if same:\n",
    "                side[(p, *Iplane)] = 1\n",
    "\n",
    "    # For all possible combinations of d points that, together with the origin\n",
    "    # define a cone, find the ones that contain x.\n",
    "    cones = []\n",
    "    for simplex in combinations(allpoints, d):\n",
    "        simplex = set(simplex)\n",
    "        for i in simplex:\n",
    "            plane = sorted(simplex.difference((i,)))\n",
    "            try:\n",
    "                _ = side[(i, *plane)]\n",
    "            except:\n",
    "                break\n",
    "        else:\n",
    "            # x was on the same side of all the planes\n",
    "            cones.append(tuple(simplex))\n",
    "    return cones\n",
    "    \n"
   ]
  },
  {
   "cell_type": "code",
   "execution_count": 395,
   "metadata": {},
   "outputs": [],
   "source": [
    "class FinleyInCones:\n",
    "    def __init__(self, y, dmv):\n",
    "        \n",
    "        self.dmv = dmv/np.linalg.norm(dmv)\n",
    "        self.y = y\n",
    "        self.p = Pareto_split(y)[0]\n",
    "        \n",
    "        # find initial cones from p which enclose dmv \n",
    "        self.update_p()\n",
    "        self.Ibest = self.get_best_cone()\n",
    "        \n",
    "        \n",
    "    def update_p(self):\n",
    "        self.p_in_y = self._get_p_inds(self.p, self.y)\n",
    "        self.p_cone_inds = np.asarray(in_cones(self.p, self.dmv), dtype=int)\n",
    "        self.y_cone_inds = self._convert_cone_inds_p_to_y(self.p_cone_inds)\n",
    "        self.p_distances = vector_point_distances(dmv, self.p)\n",
    "    \n",
    "#         S = np.asarray([ ssd(self.dmv, self.p[list(cone)]) for cone in self.p_cone_inds])\n",
    "#         try:\n",
    "#             k = np.argmin(S)\n",
    "#             self.Ibest = list(self.p_cone_inds[k])\n",
    "#         except ValueError:\n",
    "#             self.Ibest = np.argmin([ssd(self.dmv, pi.reshape(1,-1)) for pi in self.p])\n",
    "        \n",
    "    @staticmethod \n",
    "    def _get_p_inds(p, y):\n",
    "        return {k: int(i) for k, i in zip(range(p.shape[0]),\n",
    "                                          [np.where(np.all(y == pi, axis=1))[0] for pi in p])}\n",
    "    \n",
    "    def _convert_cone_inds_p_to_y(self, p_cones):\n",
    "        y_cones = map(lambda x: tuple([self.p_in_y[xi] for xi in x]), p_cones)\n",
    "        return np.array(list(y_cones), dtype=int)\n",
    "    \n",
    "    def update(self, y_new):\n",
    "        \n",
    "        len_new = np.linalg.norm(y_new)\n",
    "        cs = y_new @ self.dmv/len_new\n",
    "        dist_new = np.sqrt(1-cs*cs)*len_new\n",
    "        \n",
    "        self.dist = np.append(self.dist, dist_new)\n",
    "        self.y = np.append(self.y, y_new[np.newaxis,:], axis=0)\n",
    "        self.update_p()\n",
    "        \n",
    "    def get_best_cone(self):\n",
    "        if not self.Ibest:  # No enclosing cone yet, so try all combinations\n",
    "            print('No enclosing cone')\n",
    "            cones = in_cones(self.p, self.dmv)\n",
    "            if cones:\n",
    "                S = np.asarray([ssd_points_to_vector(dmv, self.p[list(cone),:]) for cone in cones])\n",
    "                k = np.argmin(S)\n",
    "                self.Ibest = list(cones[k])\n",
    "                return self.p[self.Ibest,:], S[k]\n",
    "            else:\n",
    "                return None, None\n",
    "            \n",
    "        D = self.p_distances[self.Ibest]   # Distances to dm for best cone\n",
    "        best_ssd = D@D\n",
    "        if dist > np.max(D):\n",
    "            print(\"Won't improve\")\n",
    "            # v won't improve the criterion, so return the old one.\n",
    "            return self.V[self.Ibest,:], best_ssd\n",
    "                \n",
    "        # Try all the combinations of d-1 vertices with v \n",
    "        M, d = self.V.shape\n",
    "        for others in combinations(range(M-1), d-1):\n",
    "            Iverts = list((M-1, *others))\n",
    "            D = self.dist[Iverts]\n",
    "            S = D@D\n",
    "            if S < best_ssd and self.inside(Iverts):\n",
    "                self.Ibest = Iverts.copy()\n",
    "                best_ssd = S\n",
    "    \n",
    "        return self.V[self.Ibest,:], best_ssd\n",
    "    "
   ]
  },
  {
   "cell_type": "code",
   "execution_count": 396,
   "metadata": {},
   "outputs": [],
   "source": [
    "M = 10\n",
    "np.random.seed(22)\n",
    "\n",
    "y = np.abs(np.random.randn(M, 3))\n",
    "dmv = np.asarray([1, 2, 1], dtype='float')"
   ]
  },
  {
   "cell_type": "code",
   "execution_count": 397,
   "metadata": {},
   "outputs": [],
   "source": [
    "op = FinleyInCones(y, dmv)"
   ]
  },
  {
   "cell_type": "code",
   "execution_count": 398,
   "metadata": {},
   "outputs": [
    {
     "name": "stdout",
     "output_type": "stream",
     "text": [
      "(10, 3)\n",
      "(4, 3)\n"
     ]
    }
   ],
   "source": [
    "print(op.y.shape)\n",
    "print(op.p.shape)"
   ]
  },
  {
   "cell_type": "code",
   "execution_count": 399,
   "metadata": {},
   "outputs": [
    {
     "name": "stdout",
     "output_type": "stream",
     "text": [
      "[[[0. 0. 0.]\n",
      "  [0. 0. 0.]\n",
      "  [0. 0. 0.]]\n",
      "\n",
      " [[0. 0. 0.]\n",
      "  [0. 0. 0.]\n",
      "  [0. 0. 0.]]]\n"
     ]
    }
   ],
   "source": [
    "a = op.p[op.p_cone_inds]\n",
    "b = op.y[op.y_cone_inds]\n",
    "np.testing.assert_array_almost_equal(a, b)\n",
    "\n",
    "print(a-b)"
   ]
  },
  {
   "cell_type": "code",
   "execution_count": 400,
   "metadata": {},
   "outputs": [
    {
     "ename": "AttributeError",
     "evalue": "'FinleyInCones' object has no attribute 'Ibest'",
     "output_type": "error",
     "traceback": [
      "\u001b[0;31m---------------------------------------------------------------------------\u001b[0m",
      "\u001b[0;31mAttributeError\u001b[0m                            Traceback (most recent call last)",
      "\u001b[0;32m<ipython-input-400-1a0bb6fe347d>\u001b[0m in \u001b[0;36m<module>\u001b[0;34m\u001b[0m\n\u001b[1;32m     26\u001b[0m \u001b[0;34m\u001b[0m\u001b[0m\n\u001b[1;32m     27\u001b[0m \u001b[0;34m\u001b[0m\u001b[0m\n\u001b[0;32m---> 28\u001b[0;31m \u001b[0mwinner\u001b[0m \u001b[0;34m=\u001b[0m \u001b[0mop\u001b[0m\u001b[0;34m.\u001b[0m\u001b[0mp\u001b[0m\u001b[0;34m[\u001b[0m\u001b[0mop\u001b[0m\u001b[0;34m.\u001b[0m\u001b[0mIbest\u001b[0m\u001b[0;34m]\u001b[0m\u001b[0;34m\u001b[0m\u001b[0;34m\u001b[0m\u001b[0m\n\u001b[0m\u001b[1;32m     29\u001b[0m \u001b[0;32mtry\u001b[0m\u001b[0;34m:\u001b[0m\u001b[0;34m\u001b[0m\u001b[0;34m\u001b[0m\u001b[0m\n\u001b[1;32m     30\u001b[0m     \u001b[0max\u001b[0m\u001b[0;34m.\u001b[0m\u001b[0mplot\u001b[0m\u001b[0;34m(\u001b[0m\u001b[0;34m*\u001b[0m\u001b[0mnp\u001b[0m\u001b[0;34m.\u001b[0m\u001b[0mvstack\u001b[0m\u001b[0;34m(\u001b[0m\u001b[0;34m(\u001b[0m\u001b[0mwinner\u001b[0m\u001b[0;34m[\u001b[0m\u001b[0;34m-\u001b[0m\u001b[0;36m1\u001b[0m\u001b[0;34m]\u001b[0m\u001b[0;34m,\u001b[0m \u001b[0mwinner\u001b[0m\u001b[0;34m)\u001b[0m\u001b[0;34m)\u001b[0m\u001b[0;34m.\u001b[0m\u001b[0mT\u001b[0m\u001b[0;34m,\u001b[0m \u001b[0mc\u001b[0m\u001b[0;34m=\u001b[0m\u001b[0;34m\"m\"\u001b[0m\u001b[0;34m)\u001b[0m\u001b[0;34m\u001b[0m\u001b[0;34m\u001b[0m\u001b[0m\n",
      "\u001b[0;31mAttributeError\u001b[0m: 'FinleyInCones' object has no attribute 'Ibest'"
     ]
    },
    {
     "name": "stderr",
     "output_type": "stream",
     "text": [
      "/home/finley/miniconda3/envs/testsuite/lib/python3.8/site-packages/numpy/lib/function_base.py:393: RuntimeWarning: Mean of empty slice.\n",
      "  avg = a.mean(axis)\n",
      "/home/finley/miniconda3/envs/testsuite/lib/python3.8/site-packages/numpy/core/_methods.py:161: RuntimeWarning: invalid value encountered in double_scalars\n",
      "  ret = ret.dtype.type(ret / rcount)\n"
     ]
    }
   ],
   "source": [
    "from itertools import cycle\n",
    "%matplotlib qt\n",
    "\n",
    "def colour_cycle():\n",
    "    return cycle(['tab:blue', 'tab:orange', 'tab:green', 'tab:red',\n",
    "                  'tab:purple', 'tab:brown', 'tab:pink',\n",
    "                  'tab:gray', 'tab:olive', 'tab:cyan'])\n",
    "\n",
    "p = op.p\n",
    "fig = plt.figure()\n",
    "ax = fig.add_subplot(111, projection='3d')\n",
    "ax.scatter(y[:,0], y[:,1], y[:,2])\n",
    "ax.scatter(p[:,0], p[:,1], p[:,2], c=\"C1\", s=150, alpha=0.2)\n",
    "for n, v in enumerate(y):\n",
    "    ax.text(*v, f'{n}')\n",
    "\n",
    "\n",
    "dm = op.dmv\n",
    "ax.plot([0, dm[0]], [0, dm[1]], [0, dm[2]], 'r', lw=2)\n",
    "\n",
    "colour = colour_cycle()\n",
    "for I in op.p_cone_inds:\n",
    "    I = list(I)\n",
    "    Z = op.p[I]\n",
    "    ax.add_collection3d(Poly3DCollection(Z, alpha=0.2, color=next(colour)))\n",
    "    \n",
    "\n",
    "winner = op.p[op.Ibest]\n",
    "try:\n",
    "    ax.plot(*np.vstack((winner[-1], winner)).T, c=\"m\")\n",
    "except ValueError:\n",
    "    ax.scatter(*winner.T, s=120, c=\"m\")"
   ]
  },
  {
   "cell_type": "code",
   "execution_count": 394,
   "metadata": {},
   "outputs": [
    {
     "name": "stderr",
     "output_type": "stream",
     "text": [
      "/home/finley/miniconda3/envs/testsuite/lib/python3.8/site-packages/numpy/lib/function_base.py:393: RuntimeWarning: Mean of empty slice.\n",
      "  avg = a.mean(axis)\n",
      "/home/finley/miniconda3/envs/testsuite/lib/python3.8/site-packages/numpy/core/_methods.py:161: RuntimeWarning: invalid value encountered in double_scalars\n",
      "  ret = ret.dtype.type(ret / rcount)\n"
     ]
    },
    {
     "data": {
      "text/plain": [
       "array([0.91870916, 0.79534056, 0.9778051 , 0.57095235, 0.90242371,\n",
       "       0.88103258, 0.91838787, 0.75009753, 0.85492177, 0.9205804 ])"
      ]
     },
     "execution_count": 394,
     "metadata": {},
     "output_type": "execute_result"
    }
   ],
   "source": [
    "op.y_distances"
   ]
  },
  {
   "cell_type": "code",
   "execution_count": 307,
   "metadata": {},
   "outputs": [
    {
     "data": {
      "text/plain": [
       "(3,)"
      ]
     },
     "execution_count": 307,
     "metadata": {},
     "output_type": "execute_result"
    }
   ],
   "source": [
    "op.dmv.shape"
   ]
  },
  {
   "cell_type": "code",
   "execution_count": 308,
   "metadata": {},
   "outputs": [
    {
     "data": {
      "text/plain": [
       "(10, 3)"
      ]
     },
     "execution_count": 308,
     "metadata": {},
     "output_type": "execute_result"
    }
   ],
   "source": [
    "\n",
    "op.y.shape"
   ]
  },
  {
   "cell_type": "code",
   "execution_count": null,
   "metadata": {},
   "outputs": [],
   "source": []
  }
 ],
 "metadata": {
  "kernelspec": {
   "display_name": "testsuite",
   "language": "python",
   "name": "testsuite"
  },
  "language_info": {
   "codemirror_mode": {
    "name": "ipython",
    "version": 3
   },
   "file_extension": ".py",
   "mimetype": "text/x-python",
   "name": "python",
   "nbconvert_exporter": "python",
   "pygments_lexer": "ipython3",
   "version": "3.8.3"
  }
 },
 "nbformat": 4,
 "nbformat_minor": 4
}
