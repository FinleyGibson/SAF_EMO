{
 "cells": [
  {
   "cell_type": "code",
   "execution_count": 1,
   "metadata": {},
   "outputs": [
    {
     "name": "stdout",
     "output_type": "stream",
     "text": [
      "Using matplotlib backend: Qt5Agg\n",
      "Populating the interactive namespace from numpy and matplotlib\n"
     ]
    }
   ],
   "source": [
    "%pylab\n",
    "%matplotlib inline\n",
    "import matplotlib.gridspec as gridspec\n",
    "import wfg"
   ]
  },
  {
   "cell_type": "code",
   "execution_count": 2,
   "metadata": {},
   "outputs": [],
   "source": [
    "## define helper functions\n",
    "def notDominated(X):\n",
    "    \"\"\"\n",
    "    Return a Boolean vector with as many rows as X indicating whether each\n",
    "    row of X is not dominated by the other elements of X; ie, whether each\n",
    "    row is Pareto optimal for X.\n",
    "    \"\"\"\n",
    "    y = zeros(X.shape[0], dtype='bool')\n",
    "    for n in range(X.shape[0]):\n",
    "        # Find the number of times on each row where X[i,j] >= X[n,j];\n",
    "        # y[n] is not dominated if this is bigger than for every row\n",
    "        y[n] = min(sum(X >= X[n,:], 1)) > 0\n",
    "    return y"
   ]
  },
  {
   "cell_type": "markdown",
   "metadata": {},
   "source": [
    "## Method\n",
    "    - Do RME attainment sample\n",
    "    - Project onto simplex\n",
    "    - Project back into P"
   ]
  },
  {
   "cell_type": "markdown",
   "metadata": {},
   "source": [
    "#### WFG2 problem"
   ]
  },
  {
   "cell_type": "code",
   "execution_count": 3,
   "metadata": {},
   "outputs": [
    {
     "data": {
      "text/plain": [
       "array([[ 0,  0,  0,  0,  0,  0,  0,  0],\n",
       "       [ 2,  4,  6,  8, 10, 12, 14, 16]])"
      ]
     },
     "execution_count": 3,
     "metadata": {},
     "output_type": "execute_result"
    }
   ],
   "source": [
    "# define problem\n",
    "M = 3                                   # Number of objective\n",
    "kfactor = 2\n",
    "lfactor = 2\n",
    "\n",
    "k = kfactor*(M-1)\n",
    "l = lfactor*2\n",
    "\n",
    "func = wfg.WFG2\n",
    "\n",
    "x_limits = np.array([[0]*(k+l),[i*2 for i in range(1, k+l+1)]])\n",
    "x_limits"
   ]
  },
  {
   "cell_type": "code",
   "execution_count": 4,
   "metadata": {},
   "outputs": [],
   "source": [
    "n_draw = 10000\n",
    "# draw samples\n",
    "x_draw = np.zeros((n_draw, k+l))\n",
    "y_draw = np.zeros((n_draw, M))\n",
    "for n in range(n_draw):\n",
    "    xi = wfg.random_soln(k, l, func.__name__, seed=0)\n",
    "    x_draw[n,:] = xi\n",
    "    y_draw[n,:] = func(xi, k, M)"
   ]
  },
  {
   "cell_type": "code",
   "execution_count": 46,
   "metadata": {},
   "outputs": [],
   "source": [
    "# define shape function\n",
    "def wfg_shape_map(x):\n",
    "    if x.ndim==1:\n",
    "        x = x.reshape(1,-1)\n",
    "    return np.array([[f1(xi), f2(xi), f3(xi)] for xi in x])# draw samples\n",
    "\n",
    "def f1(x):\n",
    "    x = x.reshape(-1)\n",
    "    return 2*np.prod([1-cos((xi*np.pi)/2) for xi in x])\n",
    "\n",
    "def f2(x):\n",
    "    x = x.reshape(-1)\n",
    "    return 4*(1-cos((pi/2)*x[0]))*(1-sin((pi/2)*x[1]))\n",
    "            \n",
    "def f3(x):\n",
    "    x = x.reshape(-1)\n",
    "    return 6*(1-x[0]*cos(5*x[0]*pi)**2)\n"
   ]
  },
  {
   "cell_type": "code",
   "execution_count": 47,
   "metadata": {},
   "outputs": [
    {
     "data": {
      "text/plain": [
       "(10000, 2)"
      ]
     },
     "execution_count": 47,
     "metadata": {},
     "output_type": "execute_result"
    }
   ],
   "source": [
    "x_shape = np.random.uniform(0, 1, size=[int(n_draw), 2])\n",
    "y_shape = wfg_shape_map(x_shape)\n",
    "assert y_shape.shape[0] == x_shape.shape[0]\n",
    "assert y_shape.shape[1] == M\n",
    "x_shape.shape"
   ]
  },
  {
   "cell_type": "code",
   "execution_count": 48,
   "metadata": {},
   "outputs": [],
   "source": [
    "## pareto split\n",
    "pi_draw = notDominated(y_draw)\n",
    "di_draw = np.invert(pi_draw)\n",
    "pi_shape = notDominated(y_shape)\n",
    "di_shape = np.invert(pi_shape)"
   ]
  },
  {
   "cell_type": "code",
   "execution_count": 49,
   "metadata": {},
   "outputs": [
    {
     "data": {
      "text/plain": [
       "Text(0.5, 0.92, 'comparison')"
      ]
     },
     "execution_count": 49,
     "metadata": {},
     "output_type": "execute_result"
    }
   ],
   "source": [
    "fig = plt.figure(figsize=[15,8])\n",
    "spec = gridspec.GridSpec(ncols=4, nrows=2, figure=fig)\n",
    "ax0 = fig.add_subplot(spec[0, 0], projection='3d')\n",
    "ax1 = fig.add_subplot(spec[0, 1], projection='3d', sharex=ax0, sharey=ax0, sharez=ax0)\n",
    "ax2 = fig.add_subplot(spec[1, 0], projection='3d', sharex=ax0, sharey=ax0, sharez=ax0)\n",
    "ax3 = fig.add_subplot(spec[1, 1], projection='3d', sharex=ax0, sharey=ax0, sharez=ax0)\n",
    "ax4 = fig.add_subplot(spec[:, 2:], projection='3d', sharex=ax0, sharey=ax0, sharez=ax0)\n",
    "# \n",
    "ax0.scatter(*y_draw.T, c=\"C0\", s=5)\n",
    "ax1.scatter(*y_shape.T, c=\"C1\", s=5)\n",
    "ax2.scatter(*y_draw[pi_draw].T, c=\"C0\", s=5)\n",
    "ax3.scatter(*y_shape[pi_shape].T, c=\"C1\", s=5)\n",
    "ax4.scatter(*y_draw[pi_draw].T, c=\"C0\", s=5, alpha=0.1)\n",
    "ax4.scatter(*y_shape[pi_shape].T, c=\"C1\", s=5, alpha=0.1)\n",
    "\n",
    "ax0.set_title('drawn')\n",
    "ax1.set_title('shape')\n",
    "ax4.set_title('comparison')"
   ]
  },
  {
   "cell_type": "code",
   "execution_count": 63,
   "metadata": {},
   "outputs": [
    {
     "name": "stdout",
     "output_type": "stream",
     "text": [
      "(21,)\n"
     ]
    }
   ],
   "source": [
    "H = 20\n",
    "sj = np.array([i/H for i in range(H+1)])\n",
    "print(sj.shape)"
   ]
  },
  {
   "cell_type": "code",
   "execution_count": 64,
   "metadata": {},
   "outputs": [],
   "source": [
    "s = []\n",
    "for s1 in sj:\n",
    "    for s2 in sj:\n",
    "        for s3 in sj:\n",
    "            if np.round_(s1+s2+s3, decimals=9) == 1.0:\n",
    "                s.append([s1, s2, s3])\n",
    "s = np.array(s)"
   ]
  },
  {
   "cell_type": "code",
   "execution_count": 65,
   "metadata": {},
   "outputs": [],
   "source": [
    "fig = plt.figure(figsize=[16,8])\n",
    "ax0 = fig.add_subplot(1,2,1, projection='3d')\n",
    "ax1 = fig.add_subplot(1,2,2, projection='3d')\n",
    "\n",
    "ax0.scatter(*s.T)\n",
    "ax1.scatter(*wfg_shape_map(s).T)\n",
    "ax0.view_init(30, 45)"
   ]
  },
  {
   "cell_type": "code",
   "execution_count": 181,
   "metadata": {},
   "outputs": [],
   "source": [
    "from scipy.optimize import fsolve\n",
    "\n",
    "def get_x2(x, s1, s2):\n",
    "    return ((1-sin((pi/2)*x))/(1-cos((pi/2)*x)))-(s2/s1)\n",
    "\n",
    "def get_x1(x, x2, s2, s3):\n",
    "    return (1-sin((pi/2)*x))/(1-cos((pi/2)*x))-(s3/s2)*(1-sin((pi/2)*x2))\n",
    "\n",
    "def get_m(x,x2, s2, s3):\n",
    "    return ((1-(x*np.cos(5*pi*x)**2))/(1-cos((pi/2)*x)))-(s3/s2)*((1-sin((pi/2)*x2)))"
   ]
  },
  {
   "cell_type": "code",
   "execution_count": 182,
   "metadata": {},
   "outputs": [],
   "source": [
    "xM = np.zeros((len(s), 2))\n",
    "for i, si in enumerate(s+0.01):\n",
    "    x2 = fsolve(get_x2, x0=0.5, args=(si[0], si[1]))[0]\n",
    "#     x2 = fsolve(g2, x0=1e-5, args=(si[1], si[2]))\n",
    "    x1 = fsolve(get_m, x0=0.15, args=(x2, si[1], si[2]))[0]\n",
    "    xM[i, :] = [x1, x2]"
   ]
  },
  {
   "cell_type": "code",
   "execution_count": 183,
   "metadata": {},
   "outputs": [],
   "source": [
    "pp = np.array([wfg_shape_map(xi) for xi in xM]).squeeze(1)"
   ]
  },
  {
   "cell_type": "code",
   "execution_count": 184,
   "metadata": {},
   "outputs": [],
   "source": [
    "ppi = notDominated(pp)"
   ]
  },
  {
   "cell_type": "code",
   "execution_count": 186,
   "metadata": {},
   "outputs": [],
   "source": [
    "%matplotlib qt\n",
    "fig = plt.figure(figsize=[10, 10])\n",
    "ax = fig.gca(projection='3d')\n",
    "ax.scatter(*pp[ppi].T)\n",
    "# ax.scatter(*pp.T, c='C1')\n",
    "ax.view_init(30, 45)"
   ]
  },
  {
   "cell_type": "code",
   "execution_count": 127,
   "metadata": {},
   "outputs": [],
   "source": [
    "t = np.linspace(0, 1, 1000)\n"
   ]
  },
  {
   "cell_type": "code",
   "execution_count": 131,
   "metadata": {},
   "outputs": [
    {
     "name": "stderr",
     "output_type": "stream",
     "text": [
      "<ipython-input-73-f35867ed4790>:4: RuntimeWarning: divide by zero encountered in true_divide\n",
      "  return ((1-sin((pi/2)*x))/(1-cos((pi/2)*x)))-(s2/s1)\n",
      "<ipython-input-73-f35867ed4790>:4: RuntimeWarning: invalid value encountered in double_scalars\n",
      "  return ((1-sin((pi/2)*x))/(1-cos((pi/2)*x)))-(s2/s1)\n"
     ]
    },
    {
     "data": {
      "text/plain": [
       "[<matplotlib.lines.Line2D at 0x7f5abd840a60>]"
      ]
     },
     "execution_count": 131,
     "metadata": {},
     "output_type": "execute_result"
    }
   ],
   "source": [
    "plot(t, get_x2(t, s[0][0], s[0][1]))\n",
    "# plot(t, get_m(t, s[0][1], s[0][2]))"
   ]
  },
  {
   "cell_type": "code",
   "execution_count": 135,
   "metadata": {},
   "outputs": [
    {
     "name": "stderr",
     "output_type": "stream",
     "text": [
      "<ipython-input-73-f35867ed4790>:4: RuntimeWarning: divide by zero encountered in double_scalars\n",
      "  return ((1-sin((pi/2)*x))/(1-cos((pi/2)*x)))-(s2/s1)\n"
     ]
    },
    {
     "data": {
      "text/plain": [
       "[<matplotlib.lines.Line2D at 0x7f5ab1ac6460>]"
      ]
     },
     "execution_count": 135,
     "metadata": {},
     "output_type": "execute_result"
    }
   ],
   "source": [
    "plt.plot(t, [get_x2(ti, s[100][0], s[100][1]) for ti in t])"
   ]
  },
  {
   "cell_type": "code",
   "execution_count": null,
   "metadata": {},
   "outputs": [],
   "source": []
  }
 ],
 "metadata": {
  "kernelspec": {
   "display_name": "testsuite",
   "language": "python",
   "name": "testsuite"
  },
  "language_info": {
   "codemirror_mode": {
    "name": "ipython",
    "version": 3
   },
   "file_extension": ".py",
   "mimetype": "text/x-python",
   "name": "python",
   "nbconvert_exporter": "python",
   "pygments_lexer": "ipython3",
   "version": "3.8.3"
  }
 },
 "nbformat": 4,
 "nbformat_minor": 4
}
